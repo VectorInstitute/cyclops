{
 "cells": [
  {
   "cell_type": "code",
   "execution_count": 1,
   "id": "scientific-unemployment",
   "metadata": {},
   "outputs": [],
   "source": [
    "import sys\n",
    "sys.path.append(\"..\")\n",
    "import mlflow\n",
    "import pandas as pd\n",
    "import tasks.analysis as analysis\n",
    "import config.config as config\n",
    "import tasks.datapipeline.process_data as process_data \n",
    "\n",
    "mlflow.set_tracking_uri('../mlruns')"
   ]
  },
  {
   "cell_type": "code",
   "execution_count": 15,
   "id": "industrial-tulsa",
   "metadata": {},
   "outputs": [
    {
     "name": "stdout",
     "output_type": "stream",
     "text": [
      "{'config_file': None, 'extract': False, 'train': False, 'predict': False, 'analyze': False, 'user': 'koshkinam', 'password': 'Masha1978', 'port': 5432, 'host': 'db.gemini-hpc.ca', 'database': 'delirium_v3_0_0', 'w': False, 'r': False, 'input': '/mnt/nfs/project/delirium/data/all_before_2018.csv', 'output_folder': '/mnt/nfs/project/delirium/data', 'output_full_path': None, 'stats_path': '/mnt/nfs/project/delirium/data/all_before_2018_stats.pkl', 'features': ['sex', 'age', 'mort_hosp', 'readmission_7', 'readmission_28', 'palliative', 'los_er', 'icd10_A00_B99', 'icd10_C00_D49', 'icd10_D50_D89', 'icd10_E00_E89', 'icd10_F01_F99', 'icd10_G00_G99', 'icd10_H00_H59', 'icd10_H60_H95', 'icd10_I00_I99', 'icd10_J00_J99', 'icd10_K00_K95', 'icd10_L00_L99', 'icd10_M00_M99', 'icd10_N00_N99', 'icd10_O00_O99', 'icd10_Q00_Q99', 'icd10_R00_R99', 'icd10_S00_T88', 'icd10_U07_U08', 'icd10_Z00_Z99', 'icd10_nan'], 'target': 'los', 'pop_size': 10000, 'filter_year': None, 'filter_date_from': '', 'filter_date_to': '', 'split_column': 'year', 'test_split': '2018', 'val_split': '2017', 'train_split': [], 'model': 'mlp', 'model_path': './model.pt', 'dataset': 'gemini', 'batch_size': 64, 'num_workers': 0, 'num_epochs': 100, 'shuffle': False, 'data_dim': 24, 'data_len': 10000, 'lr': 0.0003, 'threshold': 0.5, 'result_output': '../result.csv', 'type': 'dataset', 'slice': None, 'data_ref': [], 'data_eval': [], 'numerical_features': ['age', 'los_er'], 'categorical_features': ['hospital_id', 'sex', 'mort_hosp', 'readmission_7', 'readmission_28', 'palliative', 'icd10_A00_B99', 'icd10_C00_D49', 'icd10_D50_D89', 'icd10_E00_E89', 'icd10_F01_F99', 'icd10_G00_G99', 'icd10_H00_H59', 'icd10_H60_H95', 'icd10_I00_I99', 'icd10_J00_J99', 'icd10_K00_K95', 'icd10_L00_L99', 'icd10_M00_M99', 'icd10_N00_N99', 'icd10_O00_O99', 'icd10_Q00_Q99', 'icd10_R00_R99', 'icd10_S00_T88', 'icd10_Z00_Z99'], 'report_path': '../', 'report_full_path': '', 'html': False, 'target_num': False, 'prediction_col': 'prediction', 'reference': '../gemini_val_result.csv', 'test': '../gemini_test_result.csv'}\n"
     ]
    },
    {
     "data": {
      "text/plain": [
       "array(['C259', 'J4590', 'J189', ..., 'M0287', 'G82091', 'M6259'],\n",
       "      dtype=object)"
      ]
     },
     "metadata": {},
     "output_type": "display_data"
    },
    {
     "name": "stdout",
     "output_type": "stream",
     "text": [
      "114 0\n"
     ]
    }
   ],
   "source": [
    "# temp code\n",
    "conf = config.read_config('../config/gemini.cfg')\n",
    "data, _ = process_data.pipeline(conf)\n",
    "all_diagnosis = data['mr_diagnosis'].unique()\n",
    "display(all_diagnosis)\n",
    "count_d = 0\n",
    "count_p = 0\n",
    "for d in all_diagnosis:\n",
    "    if not isinstance(d, str):\n",
    "        continue\n",
    "    if d[0]=='h' or d[0]=='H':\n",
    "        count_d+=1\n",
    "    if d[0]=='u' or d[0]=='U':\n",
    "        count_p+=1\n",
    "print(count_d, count_p)"
   ]
  },
  {
   "cell_type": "code",
   "execution_count": 21,
   "id": "unauthorized-hopkins",
   "metadata": {},
   "outputs": [
    {
     "name": "stdout",
     "output_type": "stream",
     "text": [
      "{'config_file': None, 'extract': False, 'train': False, 'predict': False, 'analyze': False, 'user': 'koshkinam', 'password': 'Masha1978', 'port': 5432, 'host': 'db.gemini-hpc.ca', 'database': 'delirium_v3_0_0', 'w': False, 'r': False, 'input': '/mnt/nfs/project/delirium/data/all_before_2018.csv', 'output_folder': '/mnt/nfs/project/delirium/data', 'output_full_path': None, 'stats_path': '/mnt/nfs/project/delirium/data/all_before_2018_stats.pkl', 'features': ['sex', 'age', 'mort_hosp', 'readmission_7', 'readmission_28', 'palliative', 'los_er', 'icd10_A00_B99', 'icd10_C00_D49', 'icd10_D50_D89', 'icd10_E00_E89', 'icd10_F01_F99', 'icd10_G00_G99', 'icd10_H00_H59', 'icd10_H60_H95', 'icd10_I00_I99', 'icd10_J00_J99', 'icd10_K00_K95', 'icd10_L00_L99', 'icd10_M00_M99', 'icd10_N00_N99', 'icd10_O00_O99', 'icd10_Q00_Q99', 'icd10_R00_R99', 'icd10_S00_T88', 'icd10_U07_U08', 'icd10_Z00_Z99', 'icd10_nan'], 'target': 'los', 'pop_size': 10000, 'filter_year': None, 'filter_date_from': '', 'filter_date_to': '', 'split_column': 'year', 'test_split': '2018', 'val_split': '2017', 'train_split': [], 'model': 'mlp', 'model_path': './model.pt', 'dataset': 'gemini', 'batch_size': 64, 'num_workers': 0, 'num_epochs': 100, 'shuffle': False, 'data_dim': 24, 'data_len': 10000, 'lr': 0.0003, 'threshold': 0.5, 'result_output': '../result.csv', 'type': 'dataset', 'slice': None, 'data_ref': [], 'data_eval': [], 'numerical_features': ['age', 'los_er'], 'categorical_features': ['hospital_id', 'sex', 'mort_hosp', 'readmission_7', 'readmission_28', 'palliative', 'icd10_A00_B99', 'icd10_C00_D49', 'icd10_D50_D89', 'icd10_E00_E89', 'icd10_F01_F99', 'icd10_G00_G99', 'icd10_H00_H59', 'icd10_H60_H95', 'icd10_I00_I99', 'icd10_J00_J99', 'icd10_K00_K95', 'icd10_L00_L99', 'icd10_M00_M99', 'icd10_N00_N99', 'icd10_O00_O99', 'icd10_Q00_Q99', 'icd10_R00_R99', 'icd10_S00_T88', 'icd10_Z00_Z99'], 'report_path': '../', 'report_full_path': '', 'html': False, 'target_num': False, 'prediction_col': 'prediction', 'reference': '../gemini_val_result.csv', 'test': '../gemini_test_result.csv'}\n",
      "<bound method NDFrame.head of 0         87\n",
      "1         52\n",
      "2         59\n",
      "3         62\n",
      "4         52\n",
      "          ..\n",
      "281560    54\n",
      "281561    85\n",
      "281562    53\n",
      "281563    80\n",
      "281564    86\n",
      "Name: age, Length: 281565, dtype: int64>\n",
      "[ 6  7  2 ...  5 12  4]\n",
      "<bound method NDFrame.head of 0         93\n",
      "1         59\n",
      "2         61\n",
      "3         66\n",
      "4         54\n",
      "          ..\n",
      "281560    59\n",
      "281561    89\n",
      "281562    58\n",
      "281563    92\n",
      "281564    90\n",
      "Name: age, Length: 281565, dtype: int64>\n",
      "[ 2 11  9 ...  3  9  8]\n",
      "<bound method NDFrame.head of 0         93\n",
      "1         59\n",
      "2         61\n",
      "3         66\n",
      "4         54\n",
      "          ..\n",
      "281560    59\n",
      "281561    89\n",
      "281562    58\n",
      "281563    92\n",
      "281564    90\n",
      "Name: age, Length: 281565, dtype: int64>\n"
     ]
    }
   ],
   "source": [
    "#add noise to lor_er and age (for demo purposes)\n",
    "\n",
    "import tasks.datapipeline.process_data as process_data \n",
    "import numpy as np \n",
    "\n",
    "conf = None\n",
    "conf = config.read_config('../config/gemini.cfg')\n",
    "data, _ = process_data.pipeline(conf)\n",
    "\n",
    "print(data['age'].head)\n",
    "\n",
    "mu, sigma = 5, 3 \n",
    "# creating a noise with the same dimension as the dataset  \n",
    "noise = np.random.normal(mu, sigma, len(data['age'])).astype(int) \n",
    "print(noise)\n",
    "\n",
    "data['age'] = data['age'].add(noise)\n",
    "print(data['age'].head)\n",
    "\n",
    "#repeat for los_er\n",
    "mu, sigma = 5, 5 \n",
    "# creating a noise with the same dimension as the dataset  \n",
    "noise = np.random.normal(mu, sigma, len(data['los_er'])).astype(int) \n",
    "print(noise)\n",
    "\n",
    "data['los_er'] = data['los_er'].add(noise)\n",
    "data.to_csv('/mnt/nfs/project/delirium/data/all_before_2018_with_noise.csv')\n",
    "\n",
    "conf.input = '/mnt/nfs/project/delirium/data/all_before_2018_with_noise.csv'\n",
    "data, _ = process_data.pipeline(conf)\n",
    "print(data['age'].head)"
   ]
  },
  {
   "cell_type": "markdown",
   "id": "coated-russell",
   "metadata": {},
   "source": [
    "# Dataset Drift Report (by year)"
   ]
  },
  {
   "cell_type": "code",
   "execution_count": 22,
   "id": "emerging-surprise",
   "metadata": {},
   "outputs": [
    {
     "name": "stdout",
     "output_type": "stream",
     "text": [
      "{'config_file': None, 'extract': False, 'train': False, 'predict': False, 'analyze': False, 'user': 'koshkinam', 'password': 'Masha1978', 'port': 5432, 'host': 'db.gemini-hpc.ca', 'database': 'delirium_v3_0_0', 'w': False, 'r': False, 'input': '/mnt/nfs/project/delirium/data/all_before_2018.csv', 'output_folder': '/mnt/nfs/project/delirium/data', 'output_full_path': None, 'stats_path': '/mnt/nfs/project/delirium/data/all_before_2018_stats.pkl', 'features': ['sex', 'age', 'mort_hosp', 'readmission_7', 'readmission_28', 'palliative', 'los_er', 'icd10_A00_B99', 'icd10_C00_D49', 'icd10_D50_D89', 'icd10_E00_E89', 'icd10_F01_F99', 'icd10_G00_G99', 'icd10_H00_H59', 'icd10_H60_H95', 'icd10_I00_I99', 'icd10_J00_J99', 'icd10_K00_K95', 'icd10_L00_L99', 'icd10_M00_M99', 'icd10_N00_N99', 'icd10_O00_O99', 'icd10_Q00_Q99', 'icd10_R00_R99', 'icd10_S00_T88', 'icd10_U07_U08', 'icd10_Z00_Z99', 'icd10_nan'], 'target': 'los', 'pop_size': 10000, 'filter_year': None, 'filter_date_from': '', 'filter_date_to': '', 'split_column': 'year', 'test_split': '2018', 'val_split': '2017', 'train_split': [], 'model': 'mlp', 'model_path': './model.pt', 'dataset': 'gemini', 'batch_size': 64, 'num_workers': 0, 'num_epochs': 100, 'shuffle': False, 'data_dim': 24, 'data_len': 10000, 'lr': 0.0003, 'threshold': 0.5, 'result_output': '../result.csv', 'type': 'dataset', 'slice': None, 'data_ref': [], 'data_eval': [], 'numerical_features': ['age', 'los_er'], 'categorical_features': ['hospital_id', 'sex', 'mort_hosp', 'readmission_7', 'readmission_28', 'palliative', 'icd10_A00_B99', 'icd10_C00_D49', 'icd10_D50_D89', 'icd10_E00_E89', 'icd10_F01_F99', 'icd10_G00_G99', 'icd10_H00_H59', 'icd10_H60_H95', 'icd10_I00_I99', 'icd10_J00_J99', 'icd10_K00_K95', 'icd10_L00_L99', 'icd10_M00_M99', 'icd10_N00_N99', 'icd10_O00_O99', 'icd10_Q00_Q99', 'icd10_R00_R99', 'icd10_S00_T88', 'icd10_Z00_Z99'], 'report_path': '../', 'report_full_path': '', 'html': False, 'target_num': False, 'prediction_col': 'prediction', 'reference': '../gemini_val_result.csv', 'test': '../gemini_test_result.csv'}\n"
     ]
    }
   ],
   "source": [
    "#read analysis configuration\n",
    "conf = None\n",
    "conf = config.read_config('../config/gemini.cfg')\n",
    "\n",
    "# run dataset drift analysis and generate html report: compare two years 2016 and 2017\n",
    "conf.html = True\n",
    "conf.slice = 'year'\n",
    "conf.data_ref = [2016]\n",
    "conf.data_eval = [2017]\n",
    "conf.input = '/mnt/nfs/project/delirium/data/all_before_2018_with_noise.csv'\n",
    "\n",
    "conf.report_full_path = '../../dataset_2016_2017.html'\n"
   ]
  },
  {
   "cell_type": "code",
   "execution_count": 23,
   "id": "reliable-infection",
   "metadata": {},
   "outputs": [
    {
     "name": "stdout",
     "output_type": "stream",
     "text": [
      "../../dataset_2016_2017.html\n"
     ]
    }
   ],
   "source": [
    "response = analysis.main(conf)\n",
    "print(response)"
   ]
  },
  {
   "cell_type": "markdown",
   "id": "public-salvation",
   "metadata": {},
   "source": [
    "# Dataset Drift Report (by hospital)"
   ]
  },
  {
   "cell_type": "code",
   "execution_count": 24,
   "id": "hindu-overview",
   "metadata": {},
   "outputs": [
    {
     "name": "stdout",
     "output_type": "stream",
     "text": [
      "../../dataset_hospitals.html\n"
     ]
    }
   ],
   "source": [
    "# Compare data from two hospitals (St Michael's as reference, Mount Sinai as evaluated)\n",
    "conf.slice = 'hospital_id'\n",
    "conf.data_ref = [3]\n",
    "conf.data_eval = [7]\n",
    "conf.report_full_path = '../../dataset_hospitals.html'\n",
    "response = analysis.main(conf)\n",
    "print(response)"
   ]
  },
  {
   "cell_type": "markdown",
   "id": "looking-respect",
   "metadata": {},
   "source": [
    "# Model Performance Comparison Report"
   ]
  },
  {
   "cell_type": "code",
   "execution_count": 5,
   "id": "nonprofit-gnome",
   "metadata": {},
   "outputs": [
    {
     "name": "stdout",
     "output_type": "stream",
     "text": [
      "../../dataset_performance_comparison.html\n"
     ]
    }
   ],
   "source": [
    "# run analysis and generate html report (this time model performance comparison)\n",
    "# looks at the prediction of the model trained on all data before 2018. Compares 2017(val) and 2018 (test).\n",
    "conf.type = 'performance'\n",
    "conf.reference= '../../results_2017.csv' \n",
    "conf.test = '../../results_2018.csv'\n",
    "conf.report_full_path = '../../dataset_performance_comparison.html'\n",
    "name = analysis.main(conf)\n",
    "print(name)"
   ]
  },
  {
   "cell_type": "markdown",
   "id": "engaged-discipline",
   "metadata": {},
   "source": [
    "# System Monitoring with MLFlow"
   ]
  },
  {
   "cell_type": "code",
   "execution_count": 6,
   "id": "controversial-plastic",
   "metadata": {},
   "outputs": [
    {
     "data": {
      "text/html": [
       "<div>\n",
       "<style scoped>\n",
       "    .dataframe tbody tr th:only-of-type {\n",
       "        vertical-align: middle;\n",
       "    }\n",
       "\n",
       "    .dataframe tbody tr th {\n",
       "        vertical-align: top;\n",
       "    }\n",
       "\n",
       "    .dataframe thead th {\n",
       "        text-align: right;\n",
       "    }\n",
       "</style>\n",
       "<table border=\"1\" class=\"dataframe\">\n",
       "  <thead>\n",
       "    <tr style=\"text-align: right;\">\n",
       "      <th></th>\n",
       "      <th>Name</th>\n",
       "      <th>Artifacts</th>\n",
       "      <th>Status</th>\n",
       "    </tr>\n",
       "  </thead>\n",
       "  <tbody>\n",
       "    <tr>\n",
       "      <th>0</th>\n",
       "      <td>DatasetAnalysis</td>\n",
       "      <td>file:///mnt/nfs/home/koshkinam/vector-delirium...</td>\n",
       "      <td>active</td>\n",
       "    </tr>\n",
       "    <tr>\n",
       "      <th>1</th>\n",
       "      <td>Default</td>\n",
       "      <td>file:///mnt/nfs/home/koshkinam/vector-delirium...</td>\n",
       "      <td>active</td>\n",
       "    </tr>\n",
       "    <tr>\n",
       "      <th>2</th>\n",
       "      <td>ModelComparison</td>\n",
       "      <td>file:///mnt/nfs/home/koshkinam/vector-delirium...</td>\n",
       "      <td>active</td>\n",
       "    </tr>\n",
       "    <tr>\n",
       "      <th>3</th>\n",
       "      <td>Prediction</td>\n",
       "      <td>file:///mnt/nfs/home/koshkinam/vector-delirium...</td>\n",
       "      <td>active</td>\n",
       "    </tr>\n",
       "  </tbody>\n",
       "</table>\n",
       "</div>"
      ],
      "text/plain": [
       "              Name                                          Artifacts  Status\n",
       "0  DatasetAnalysis  file:///mnt/nfs/home/koshkinam/vector-delirium...  active\n",
       "1          Default  file:///mnt/nfs/home/koshkinam/vector-delirium...  active\n",
       "2  ModelComparison  file:///mnt/nfs/home/koshkinam/vector-delirium...  active\n",
       "3       Prediction  file:///mnt/nfs/home/koshkinam/vector-delirium...  active"
      ]
     },
     "metadata": {},
     "output_type": "display_data"
    },
    {
     "name": "stdout",
     "output_type": "stream",
     "text": [
      "------------------- Dataset Analysis ----------------------\n"
     ]
    },
    {
     "data": {
      "text/html": [
       "<div>\n",
       "<style scoped>\n",
       "    .dataframe tbody tr th:only-of-type {\n",
       "        vertical-align: middle;\n",
       "    }\n",
       "\n",
       "    .dataframe tbody tr th {\n",
       "        vertical-align: top;\n",
       "    }\n",
       "\n",
       "    .dataframe thead th {\n",
       "        text-align: right;\n",
       "    }\n",
       "</style>\n",
       "<table border=\"1\" class=\"dataframe\">\n",
       "  <thead>\n",
       "    <tr style=\"text-align: right;\">\n",
       "      <th></th>\n",
       "      <th>Input</th>\n",
       "      <th>Slice</th>\n",
       "      <th>Ref Slice</th>\n",
       "      <th>Eval Slice</th>\n",
       "      <th>Drift</th>\n",
       "      <th>Feat</th>\n",
       "      <th>Drift_Feat</th>\n",
       "    </tr>\n",
       "  </thead>\n",
       "  <tbody>\n",
       "    <tr>\n",
       "      <th>0</th>\n",
       "      <td>/mnt/nfs/project/delirium/data/all_before_2018...</td>\n",
       "      <td>hospital_id</td>\n",
       "      <td>[3]</td>\n",
       "      <td>[7]</td>\n",
       "      <td>Yes</td>\n",
       "      <td>28.0</td>\n",
       "      <td>23.0</td>\n",
       "    </tr>\n",
       "    <tr>\n",
       "      <th>1</th>\n",
       "      <td>/mnt/nfs/project/delirium/data/all_before_2018...</td>\n",
       "      <td>year</td>\n",
       "      <td>[2016]</td>\n",
       "      <td>[2017]</td>\n",
       "      <td>No</td>\n",
       "      <td>28.0</td>\n",
       "      <td>7.0</td>\n",
       "    </tr>\n",
       "    <tr>\n",
       "      <th>2</th>\n",
       "      <td>/mnt/nfs/project/delirium/data/all_before_2018...</td>\n",
       "      <td>year</td>\n",
       "      <td>[2016]</td>\n",
       "      <td>[2017]</td>\n",
       "      <td>No</td>\n",
       "      <td>28.0</td>\n",
       "      <td>7.0</td>\n",
       "    </tr>\n",
       "    <tr>\n",
       "      <th>3</th>\n",
       "      <td>/mnt/nfs/project/delirium/data/all_before_2018...</td>\n",
       "      <td>hospital_id</td>\n",
       "      <td>[3]</td>\n",
       "      <td>[7]</td>\n",
       "      <td>Yes</td>\n",
       "      <td>28.0</td>\n",
       "      <td>23.0</td>\n",
       "    </tr>\n",
       "    <tr>\n",
       "      <th>4</th>\n",
       "      <td>/mnt/nfs/project/delirium/data/all_before_2018...</td>\n",
       "      <td>year</td>\n",
       "      <td>[2016]</td>\n",
       "      <td>[2017]</td>\n",
       "      <td>No</td>\n",
       "      <td>28.0</td>\n",
       "      <td>7.0</td>\n",
       "    </tr>\n",
       "  </tbody>\n",
       "</table>\n",
       "</div>"
      ],
      "text/plain": [
       "                                               Input        Slice Ref Slice  \\\n",
       "0  /mnt/nfs/project/delirium/data/all_before_2018...  hospital_id       [3]   \n",
       "1  /mnt/nfs/project/delirium/data/all_before_2018...         year    [2016]   \n",
       "2  /mnt/nfs/project/delirium/data/all_before_2018...         year    [2016]   \n",
       "3  /mnt/nfs/project/delirium/data/all_before_2018...  hospital_id       [3]   \n",
       "4  /mnt/nfs/project/delirium/data/all_before_2018...         year    [2016]   \n",
       "\n",
       "  Eval Slice Drift  Feat  Drift_Feat  \n",
       "0        [7]   Yes  28.0        23.0  \n",
       "1     [2017]    No  28.0         7.0  \n",
       "2     [2017]    No  28.0         7.0  \n",
       "3        [7]   Yes  28.0        23.0  \n",
       "4     [2017]    No  28.0         7.0  "
      ]
     },
     "metadata": {},
     "output_type": "display_data"
    }
   ],
   "source": [
    "#MLFlow history for analysis\n",
    "# Display dataset drift analysis runs\n",
    "\n",
    "import os\n",
    "import json\n",
    "import mlflow\n",
    "import pandas as pd\n",
    "\n",
    "\n",
    "def get_dataset_metrics_list(data):\n",
    "     if ('metrics' in data.keys()) and data['metrics']:\n",
    "        metrics = data['metrics']\n",
    "        #timestamp = data['params']['timestamp']\n",
    "        drift = 'No' if metrics['dataset_drift']==0 else 'Yes'\n",
    "        return [drift, metrics['n_features'], metrics['n_drifted_features']]\n",
    "     else:\n",
    "        return ['-', '-', '-']\n",
    "\n",
    "# List all existing experiments\n",
    "all_experiments = mlflow.list_experiments()\n",
    "exp_data = []\n",
    "for exp in all_experiments:\n",
    "    row = [exp.name, exp.artifact_location, exp.lifecycle_stage]\n",
    "    exp_data.append(row)\n",
    "exp_frame = pd.DataFrame(exp_data, columns = ['Name', 'Artifacts', 'Status'])\n",
    "display(exp_frame)\n",
    "    \n",
    "exp = mlflow.get_experiment_by_name('DatasetAnalysis')\n",
    "runs = mlflow.list_run_infos(exp.experiment_id, max_results=5)\n",
    "table = []\n",
    "for r in runs:\n",
    "    exp_run = mlflow.get_run(r.run_id).to_dictionary()\n",
    "    path = exp_run['info']['artifact_uri'][6:]\n",
    "    config_file = os.path.join(path, 'config.json')\n",
    "    if not os.path.isfile(config_file):\n",
    "        continue\n",
    "    with open(config_file) as f:\n",
    "        data = json.load(f)\n",
    "        row = [data['input'], data['slice'], data['data_ref'], data['data_eval']]\n",
    "        row = row + get_dataset_metrics_list(exp_run['data'])\n",
    "        table.append(row)\n",
    "frame = pd.DataFrame(table, columns=['Input', 'Slice', 'Ref Slice', 'Eval Slice', 'Drift', 'Feat', 'Drift_Feat'])\n",
    "print('------------------- Dataset Analysis ----------------------')\n",
    "display(frame)"
   ]
  },
  {
   "cell_type": "code",
   "execution_count": 7,
   "id": "diverse-knock",
   "metadata": {},
   "outputs": [],
   "source": [
    "# get all the executions folders\n",
    "executions_folder = '../../executions'\n",
    "from os import listdir\n",
    "from os.path import isfile, join\n",
    "files = [f for f in listdir(executions_folder)]\n",
    "files.sort()"
   ]
  },
  {
   "cell_type": "markdown",
   "id": "corporate-rings",
   "metadata": {},
   "source": [
    "# Continuous Pipeline Simulation and Analysis"
   ]
  },
  {
   "cell_type": "code",
   "execution_count": 8,
   "id": "dominant-identification",
   "metadata": {},
   "outputs": [
    {
     "name": "stdout",
     "output_type": "stream",
     "text": [
      "                  Dataset Analysis Results: number of drifted features  \n"
     ]
    },
    {
     "data": {
      "image/png": "[encoded data removed]",
      "text/plain": [
       "<Figure size 1188x612 with 1 Axes>"
      ]
     },
     "metadata": {
      "needs_background": "light"
     },
     "output_type": "display_data"
    }
   ],
   "source": [
    "#plot how dataset drift changes over time compared to the reference data\n",
    "\n",
    "table = []\n",
    "y = []\n",
    "for dir_run in files:\n",
    "    with open(os.path.join(executions_folder, dir_run, 'dataset_report.json')) as f:\n",
    "        data = json.load(f)\n",
    "        results = data['data_drift']['data']['metrics']\n",
    "    \n",
    "        feat = results['n_features']\n",
    "        drift = 'Yes' if results['dataset_drift'] else 'No'\n",
    "        feat_drift = results['n_drifted_features']\n",
    "        \n",
    "        y.append(feat_drift)\n",
    "        row = [dir_run, drift, str(feat_drift)+'/'+str(feat)]\n",
    "        table.append(row)\n",
    "    \n",
    "frame = pd.DataFrame(table, columns=['Period', 'Drift Detected', 'Drifted Features / All Features'])\n",
    "print('                  Dataset Analysis Results: number of drifted features  ')\n",
    "#print(frame)\n",
    "\n",
    "import matplotlib.pyplot as plt\n",
    "fig = plt.figure()\n",
    "ax = plt.axes()\n",
    "fig.set_size_inches(16.5, 8.5)\n",
    "x = frame['Period'].values\n",
    "ax.bar(x,y)\n",
    "ax.xaxis.set_ticks(frame['Period'].values)\n",
    "ax.set_xticklabels(frame['Period'].values, rotation='vertical', fontsize=11)\n",
    "plt.show()"
   ]
  },
  {
   "cell_type": "code",
   "execution_count": 9,
   "id": "destroyed-conviction",
   "metadata": {},
   "outputs": [
    {
     "data": {
      "image/png": "[encoded data removed]",
      "text/plain": [
       "<Figure size 1188x612 with 1 Axes>"
      ]
     },
     "metadata": {
      "needs_background": "light"
     },
     "output_type": "display_data"
    }
   ],
   "source": [
    "y = []\n",
    "for dir_run in files:\n",
    "    with open(os.path.join(executions_folder, dir_run, 'model_report.json')) as f:\n",
    "        data = json.load(f)\n",
    "        results = data['classification_performance']['data']['metrics']\n",
    "        baseline = results['reference']['accuracy']\n",
    "        y.append(results['current']['accuracy'])\n",
    "    \n",
    "\n",
    "fig = plt.figure()\n",
    "fig.set_size_inches(16.5, 8.5)\n",
    "ax = plt.axes()\n",
    "\n",
    "plt.plot(x, y, '-', linewidth=3)\n",
    "ax.hlines(y=baseline, xmin = 0, xmax = max(x), linewidth=2, color='r')\n",
    "\n",
    "# Set ticks labels for x-axis\n",
    "ax.xaxis.set_ticks(frame['Period'].values)\n",
    "ax.set_xticklabels(frame['Period'].values, rotation='vertical', fontsize=11)\n",
    "\n",
    "plt.grid()\n",
    "plt.show()"
   ]
  },
  {
   "cell_type": "code",
   "execution_count": null,
   "id": "sudden-truth",
   "metadata": {},
   "outputs": [],
   "source": []
  }
 ],
 "metadata": {
  "kernelspec": {
   "display_name": "MK Env",
   "language": "python",
   "name": "mkenv"
  },
  "language_info": {
   "codemirror_mode": {
    "name": "ipython",
    "version": 3
   },
   "file_extension": ".py",
   "mimetype": "text/x-python",
   "name": "python",
   "nbconvert_exporter": "python",
   "pygments_lexer": "ipython3",
   "version": "3.8.12"
  }
 },
 "nbformat": 4,
 "nbformat_minor": 5
}
