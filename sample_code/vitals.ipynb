{
 "cells": [
  {
   "cell_type": "markdown",
   "id": "nominated-glenn",
   "metadata": {},
   "source": [
    "### This notebook is to look at vitals data closely, do some EDA."
   ]
  },
  {
   "cell_type": "markdown",
   "id": "included-republican",
   "metadata": {},
   "source": [
    "## Imports"
   ]
  },
  {
   "cell_type": "code",
   "execution_count": 12,
   "id": "developing-communication",
   "metadata": {},
   "outputs": [],
   "source": [
    "import sys\n",
    "sys.path.append(\"..\")\n",
    "\n",
    "import numpy as np\n",
    "import pandas as pd\n",
    "import matplotlib.pyplot as plt\n",
    "import sqlalchemy\n",
    "from sqlalchemy import func, select, desc\n",
    "from sqlalchemy.sql.expression import and_\n",
    "\n",
    "import config\n",
    "from cyclops.orm import DB"
   ]
  },
  {
   "cell_type": "markdown",
   "id": "eleven-guide",
   "metadata": {},
   "source": [
    "## Load config, setup ORM"
   ]
  },
  {
   "cell_type": "code",
   "execution_count": 13,
   "id": "unlike-paint",
   "metadata": {},
   "outputs": [],
   "source": [
    "cfg = config.read_config(\"../configs/default/*.yaml\")\n",
    "db = DB(cfg)"
   ]
  },
  {
   "cell_type": "markdown",
   "id": "differential-proposal",
   "metadata": {},
   "source": [
    "## Find out mapped vital measurements"
   ]
  },
  {
   "cell_type": "code",
   "execution_count": 20,
   "id": "enhanced-charger",
   "metadata": {},
   "outputs": [
    {
     "name": "stdout",
     "output_type": "stream",
     "text": [
      "Num. of unique vitals measurements: 12\n",
      "   unique_vitals_names  unique_vitals_counts\n",
      "0          temperature               1056374\n",
      "1           heart rate                839616\n",
      "2          systolic bp                837673\n",
      "3         diastolic bp                837591\n",
      "4    oxygen saturation                681903\n",
      "5     respiratory rate                671321\n",
      "6      oxygen_delivery                609249\n",
      "7                  cam                472200\n",
      "8                 fio2                445510\n",
      "9     oxygen flow rate                335422\n",
      "10              weight                120526\n"
     ]
    }
   ],
   "source": [
    "\"\"\"Unique vital measurement names and counts. Get top k vitals measured.\n",
    "\n",
    "`measurement_mapped` has common vital measurements mapped across sites by GEMINI.\n",
    "`measurement_name` has raw vitals names which are much greater in number (most different, unmapped across sites).\n",
    "\"\"\"\n",
    "\n",
    "k = 11\n",
    "UNIQUE_VITALS_NAMES = \"unique_vitals_names\"\n",
    "UNIQUE_VITALS_COUNTS = \"unique_vitals_counts\"\n",
    "\n",
    "unique_vitals_names = func.lower(db.public.vitals.measurement_mapped)\n",
    "query = select(unique_vitals_names.label(UNIQUE_VITALS_NAMES),\n",
    "               func.count(unique_vitals_names).label(UNIQUE_VITALS_COUNTS)\n",
    "              )\n",
    "query = query.group_by(UNIQUE_VITALS_NAMES).order_by(desc(UNIQUE_VITALS_COUNTS))\n",
    "\n",
    "vitals_counts = db.run_query(query)\n",
    "print(f\"Num. of unique vitals measurements: {len(vitals_counts)}\")\n",
    "print(vitals_counts.head(k))"
   ]
  },
  {
   "cell_type": "markdown",
   "id": "hidden-hawaii",
   "metadata": {},
   "source": [
    "## Get the mapped lab tests for patients with delirium label"
   ]
  },
  {
   "cell_type": "code",
   "execution_count": 19,
   "id": "historical-journalist",
   "metadata": {},
   "outputs": [
    {
     "name": "stdout",
     "output_type": "stream",
     "text": [
      "0\n"
     ]
    }
   ],
   "source": [
    "GENC_ID = \"genc_id\"\n",
    "PATIENT_ID = \"patient_id\"\n",
    "VITALS_NAME = \"vitals_name\"\n",
    "\n",
    "common_vitals = list(vitals_counts.head(k)[UNIQUE_VITALS_NAMES])\n",
    "vitals_name = func.lower(db.public.vitals.measurement_mapped)\n",
    "vitals_query = select(db.public.vitals.genc_id,\n",
    "                      vitals_name.label(VITALS_NAME)).subquery()\n",
    "query = select(db.public.ip_administrative.patient_id_hashed.label(PATIENT_ID),\n",
    "               db.public.ip_administrative.genc_id,\n",
    "               db.public.ip_administrative.hospital_id,\n",
    "               db.public.ip_administrative.del_present,\n",
    "               db.public.ip_administrative.gemini_cohort,\n",
    "               vitals_query.c.vitals_name,\n",
    "              ).join(vitals_query,\n",
    "                     db.public.ip_administrative.genc_id == vitals_query.c.genc_id\n",
    "                    ).where(and_(vitals_query.c.vitals_name.in_(common_vitals),\n",
    "                                 db.public.ip_administrative.gemini_cohort == True))\n",
    "vitals = db.run_query(query)\n",
    "print(vitals[GENC_ID].nunique())\n",
    "\n",
    "\n",
    "# No vitals data for delirium subset??? Maybe ask why?"
   ]
  }
 ],
 "metadata": {
  "kernelspec": {
   "display_name": "vector_delirium",
   "language": "python",
   "name": "vector_delirium"
  },
  "language_info": {
   "codemirror_mode": {
    "name": "ipython",
    "version": 3
   },
   "file_extension": ".py",
   "mimetype": "text/x-python",
   "name": "python",
   "nbconvert_exporter": "python",
   "pygments_lexer": "ipython3",
   "version": "3.8.5"
  }
 },
 "nbformat": 4,
 "nbformat_minor": 5
}
