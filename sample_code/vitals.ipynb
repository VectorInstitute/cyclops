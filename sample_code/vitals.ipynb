{
 "cells": [
  {
   "cell_type": "markdown",
   "id": "nominated-glenn",
   "metadata": {},
   "source": [
    "## Extract Vitals"
   ]
  },
  {
   "cell_type": "markdown",
   "id": "included-republican",
   "metadata": {},
   "source": [
    "## Imports"
   ]
  },
  {
   "cell_type": "code",
   "execution_count": null,
   "id": "developing-communication",
   "metadata": {},
   "outputs": [],
   "source": [
    "import sys\n",
    "sys.path.append(\"..\")\n",
    "\n",
    "import pandas as pd\n",
    "\n",
    "import config\n",
    "from cyclops.querier import SQLQuerier"
   ]
  },
  {
   "cell_type": "markdown",
   "id": "eleven-guide",
   "metadata": {},
   "source": [
    "## Load config, run query"
   ]
  },
  {
   "cell_type": "code",
   "execution_count": null,
   "id": "unlike-paint",
   "metadata": {},
   "outputs": [],
   "source": [
    "cfg = config.read_config(\"../configs/default/*.yaml\")\n",
    "querier = SQLQuerier(cfg)\n",
    "data = querier.run_query()"
   ]
  },
  {
   "cell_type": "markdown",
   "id": "differential-proposal",
   "metadata": {},
   "source": [
    "## Browse through data"
   ]
  },
  {
   "cell_type": "code",
   "execution_count": null,
   "id": "enhanced-charger",
   "metadata": {},
   "outputs": [],
   "source": [
    "pd.set_option('display.max_columns', None)\n",
    "data"
   ]
  },
  {
   "cell_type": "code",
   "execution_count": null,
   "id": "sustained-hypothesis",
   "metadata": {},
   "outputs": [],
   "source": [
    "data['measurement_name'].nunique(), data['measurement_name'].value_counts(), data['genc_id'].nunique(), data['measurement_code'].value_counts()"
   ]
  }
 ],
 "metadata": {
  "kernelspec": {
   "display_name": "vector_delirium",
   "language": "python",
   "name": "vector_delirium"
  },
  "language_info": {
   "codemirror_mode": {
    "name": "ipython",
    "version": 3
   },
   "file_extension": ".py",
   "mimetype": "text/x-python",
   "name": "python",
   "nbconvert_exporter": "python",
   "pygments_lexer": "ipython3",
   "version": "3.8.5"
  }
 },
 "nbformat": 4,
 "nbformat_minor": 5
}
