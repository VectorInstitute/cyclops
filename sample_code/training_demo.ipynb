{
 "cells": [
  {
   "cell_type": "code",
   "execution_count": 1,
   "id": "champion-floating",
   "metadata": {},
   "outputs": [],
   "source": [
    "import config.config as config\n",
    "import tasks.train as train\n",
    "import sys\n",
    "sys.path.append(\"..\")"
   ]
  },
  {
   "cell_type": "code",
   "execution_count": 2,
   "id": "decent-advantage",
   "metadata": {},
   "outputs": [
    {
     "name": "stdout",
     "output_type": "stream",
     "text": [
      "{'config_file': None, 'extract': False, 'train': False, 'predict': False, 'analyze': False, 'user': 'koshkinam', 'password': 'Masha1978', 'port': 5432, 'host': 'db.gemini-hpc.ca', 'database': 'delirium_v3_0_0', 'w': False, 'r': False, 'input': '/mnt/nfs/project/delirium/data/all_before_2018.csv', 'output_folder': '/mnt/nfs/project/delirium/data', 'output_full_path': None, 'stats_path': '/mnt/nfs/project/delirium/data/all_before_2018_stats.pkl', 'features': ['sex', 'age', 'mort_hosp', 'readmission_7', 'readmission_28', 'palliative', 'los_er', 'icd10_A00_B99', 'icd10_C00_D49', 'icd10_D50_D89', 'icd10_E00_E89', 'icd10_F01_F99', 'icd10_G00_G99', 'icd10_H00_H59', 'icd10_H60_H95', 'icd10_I00_I99', 'icd10_J00_J99', 'icd10_K00_K95', 'icd10_L00_L99', 'icd10_M00_M99', 'icd10_N00_N99', 'icd10_O00_O99', 'icd10_Q00_Q99', 'icd10_R00_R99', 'icd10_S00_T88', 'icd10_U07_U08', 'icd10_Z00_Z99', 'icd10_nan'], 'target': 'los', 'pop_size': 10000, 'filter_year': None, 'filter_date_from': '', 'filter_date_to': '', 'split_column': 'year', 'test_split': '2018', 'val_split': '2017', 'train_split': [], 'model': 'mlp', 'model_path': './model.pt', 'dataset': 'gemini', 'batch_size': 64, 'num_workers': 0, 'num_epochs': 100, 'shuffle': False, 'data_dim': 24, 'data_len': 10000, 'lr': 0.0003, 'threshold': 0.5, 'result_output': '../result.csv', 'type': 'dataset', 'slice': None, 'data_ref': [], 'data_eval': [], 'numerical_features': ['age', 'los_er'], 'categorical_features': ['hospital_id', 'sex', 'mort_hosp', 'readmission_7', 'readmission_28', 'palliative', 'icd10_A00_B99', 'icd10_C00_D49', 'icd10_D50_D89', 'icd10_E00_E89', 'icd10_F01_F99', 'icd10_G00_G99', 'icd10_H00_H59', 'icd10_H60_H95', 'icd10_I00_I99', 'icd10_J00_J99', 'icd10_K00_K95', 'icd10_L00_L99', 'icd10_M00_M99', 'icd10_N00_N99', 'icd10_O00_O99', 'icd10_Q00_Q99', 'icd10_R00_R99', 'icd10_S00_T88', 'icd10_Z00_Z99'], 'report_path': '../', 'report_full_path': '', 'html': False, 'target_num': False, 'prediction_col': 'prediction', 'reference': '../gemini_val_result.csv', 'test': '../gemini_test_result.csv'}\n"
     ]
    }
   ],
   "source": [
    "cfg = config.read_config('../config/gemini.cfg')"
   ]
  },
  {
   "cell_type": "code",
   "execution_count": null,
   "id": "automatic-quest",
   "metadata": {},
   "outputs": [
    {
     "name": "stdout",
     "output_type": "stream",
     "text": [
      "{'means': age       68.942782\n",
      "los_er    18.431886\n",
      "dtype: float64, 'std': age       18.734934\n",
      "los_er    13.019908\n",
      "dtype: float64}\n"
     ]
    },
    {
     "name": "stderr",
     "output_type": "stream",
     "text": [
      "  1%|          | 1/100 [00:05<09:52,  5.99s/it]"
     ]
    },
    {
     "name": "stdout",
     "output_type": "stream",
     "text": [
      "epoch 0 epoch_loss: 0.62 accuracy: 0.67 f1_score: 0.27 precision: 0.61 recall: 0.17 auc: 0.56\n"
     ]
    },
    {
     "name": "stderr",
     "output_type": "stream",
     "text": [
      "\r",
      "  2%|▏         | 2/100 [00:10<08:17,  5.08s/it]"
     ]
    },
    {
     "name": "stdout",
     "output_type": "stream",
     "text": [
      "epoch 1 epoch_loss: 0.61 accuracy: 0.68 f1_score: 0.35 precision: 0.61 recall: 0.24 auc: 0.58\n"
     ]
    },
    {
     "name": "stderr",
     "output_type": "stream",
     "text": [
      "\r",
      "  3%|▎         | 3/100 [00:16<08:35,  5.32s/it]"
     ]
    },
    {
     "name": "stdout",
     "output_type": "stream",
     "text": [
      "epoch 2 epoch_loss: 0.61 accuracy: 0.68 f1_score: 0.35 precision: 0.61 recall: 0.25 auc: 0.58\n"
     ]
    },
    {
     "name": "stderr",
     "output_type": "stream",
     "text": [
      "\r",
      "  4%|▍         | 4/100 [00:20<07:59,  4.99s/it]"
     ]
    },
    {
     "name": "stdout",
     "output_type": "stream",
     "text": [
      "epoch 3 epoch_loss: 0.61 accuracy: 0.68 f1_score: 0.36 precision: 0.61 recall: 0.25 auc: 0.58\n"
     ]
    },
    {
     "name": "stderr",
     "output_type": "stream",
     "text": [
      "\r",
      "  5%|▌         | 5/100 [00:25<08:10,  5.16s/it]"
     ]
    },
    {
     "name": "stdout",
     "output_type": "stream",
     "text": [
      "epoch 4 epoch_loss: 0.60 accuracy: 0.68 f1_score: 0.36 precision: 0.61 recall: 0.26 auc: 0.58\n"
     ]
    },
    {
     "name": "stderr",
     "output_type": "stream",
     "text": [
      "\r",
      "  6%|▌         | 6/100 [00:31<08:18,  5.30s/it]"
     ]
    },
    {
     "name": "stdout",
     "output_type": "stream",
     "text": [
      "epoch 5 epoch_loss: 0.60 accuracy: 0.68 f1_score: 0.36 precision: 0.61 recall: 0.26 auc: 0.58\n"
     ]
    },
    {
     "name": "stderr",
     "output_type": "stream",
     "text": [
      "\r",
      "  7%|▋         | 7/100 [00:36<08:07,  5.24s/it]"
     ]
    },
    {
     "name": "stdout",
     "output_type": "stream",
     "text": [
      "epoch 6 epoch_loss: 0.60 accuracy: 0.68 f1_score: 0.36 precision: 0.61 recall: 0.26 auc: 0.58\n"
     ]
    },
    {
     "name": "stderr",
     "output_type": "stream",
     "text": [
      "\r",
      "  8%|▊         | 8/100 [00:41<07:37,  4.97s/it]"
     ]
    },
    {
     "name": "stdout",
     "output_type": "stream",
     "text": [
      "epoch 7 epoch_loss: 0.60 accuracy: 0.68 f1_score: 0.37 precision: 0.61 recall: 0.26 auc: 0.58\n"
     ]
    },
    {
     "name": "stderr",
     "output_type": "stream",
     "text": [
      "\r",
      "  9%|▉         | 9/100 [00:45<07:17,  4.81s/it]"
     ]
    },
    {
     "name": "stdout",
     "output_type": "stream",
     "text": [
      "epoch 8 epoch_loss: 0.60 accuracy: 0.68 f1_score: 0.37 precision: 0.61 recall: 0.26 auc: 0.59\n"
     ]
    },
    {
     "name": "stderr",
     "output_type": "stream",
     "text": [
      "\r",
      " 10%|█         | 10/100 [00:51<07:34,  5.05s/it]"
     ]
    },
    {
     "name": "stdout",
     "output_type": "stream",
     "text": [
      "epoch 9 epoch_loss: 0.60 accuracy: 0.68 f1_score: 0.37 precision: 0.61 recall: 0.26 auc: 0.59\n"
     ]
    },
    {
     "name": "stderr",
     "output_type": "stream",
     "text": [
      "\r",
      " 11%|█         | 11/100 [00:55<07:11,  4.85s/it]"
     ]
    },
    {
     "name": "stdout",
     "output_type": "stream",
     "text": [
      "epoch 10 epoch_loss: 0.60 accuracy: 0.68 f1_score: 0.37 precision: 0.61 recall: 0.27 auc: 0.59\n"
     ]
    },
    {
     "name": "stderr",
     "output_type": "stream",
     "text": [
      "\r",
      " 12%|█▏        | 12/100 [01:00<07:12,  4.92s/it]"
     ]
    },
    {
     "name": "stdout",
     "output_type": "stream",
     "text": [
      "epoch 11 epoch_loss: 0.60 accuracy: 0.68 f1_score: 0.37 precision: 0.61 recall: 0.27 auc: 0.59\n"
     ]
    },
    {
     "name": "stderr",
     "output_type": "stream",
     "text": [
      "\r",
      " 13%|█▎        | 13/100 [01:06<07:39,  5.28s/it]"
     ]
    },
    {
     "name": "stdout",
     "output_type": "stream",
     "text": [
      "epoch 12 epoch_loss: 0.60 accuracy: 0.68 f1_score: 0.37 precision: 0.61 recall: 0.27 auc: 0.59\n"
     ]
    },
    {
     "name": "stderr",
     "output_type": "stream",
     "text": [
      "\r",
      " 14%|█▍        | 14/100 [01:11<07:12,  5.03s/it]"
     ]
    },
    {
     "name": "stdout",
     "output_type": "stream",
     "text": [
      "epoch 13 epoch_loss: 0.60 accuracy: 0.68 f1_score: 0.37 precision: 0.61 recall: 0.27 auc: 0.59\n"
     ]
    },
    {
     "name": "stderr",
     "output_type": "stream",
     "text": [
      "\r",
      " 15%|█▌        | 15/100 [01:16<07:22,  5.20s/it]"
     ]
    },
    {
     "name": "stdout",
     "output_type": "stream",
     "text": [
      "epoch 14 epoch_loss: 0.60 accuracy: 0.68 f1_score: 0.37 precision: 0.61 recall: 0.27 auc: 0.59\n"
     ]
    },
    {
     "name": "stderr",
     "output_type": "stream",
     "text": [
      "\r",
      " 16%|█▌        | 16/100 [01:22<07:25,  5.31s/it]"
     ]
    },
    {
     "name": "stdout",
     "output_type": "stream",
     "text": [
      "epoch 15 epoch_loss: 0.60 accuracy: 0.68 f1_score: 0.37 precision: 0.61 recall: 0.27 auc: 0.59\n"
     ]
    },
    {
     "name": "stderr",
     "output_type": "stream",
     "text": [
      "\r",
      " 17%|█▋        | 17/100 [01:27<07:27,  5.40s/it]"
     ]
    },
    {
     "name": "stdout",
     "output_type": "stream",
     "text": [
      "epoch 16 epoch_loss: 0.60 accuracy: 0.68 f1_score: 0.37 precision: 0.61 recall: 0.27 auc: 0.59\n"
     ]
    },
    {
     "name": "stderr",
     "output_type": "stream",
     "text": [
      "\r",
      " 18%|█▊        | 18/100 [01:32<07:06,  5.20s/it]"
     ]
    },
    {
     "name": "stdout",
     "output_type": "stream",
     "text": [
      "epoch 17 epoch_loss: 0.60 accuracy: 0.68 f1_score: 0.37 precision: 0.61 recall: 0.27 auc: 0.59\n"
     ]
    },
    {
     "name": "stderr",
     "output_type": "stream",
     "text": [
      "\r",
      " 19%|█▉        | 19/100 [01:37<06:42,  4.97s/it]"
     ]
    },
    {
     "name": "stdout",
     "output_type": "stream",
     "text": [
      "epoch 18 epoch_loss: 0.60 accuracy: 0.68 f1_score: 0.37 precision: 0.61 recall: 0.27 auc: 0.59\n"
     ]
    },
    {
     "name": "stderr",
     "output_type": "stream",
     "text": [
      "\r",
      " 20%|██        | 20/100 [01:42<06:52,  5.15s/it]"
     ]
    },
    {
     "name": "stdout",
     "output_type": "stream",
     "text": [
      "epoch 19 epoch_loss: 0.60 accuracy: 0.68 f1_score: 0.37 precision: 0.61 recall: 0.27 auc: 0.59\n"
     ]
    },
    {
     "name": "stderr",
     "output_type": "stream",
     "text": [
      "\r",
      " 21%|██        | 21/100 [01:47<06:37,  5.03s/it]"
     ]
    },
    {
     "name": "stdout",
     "output_type": "stream",
     "text": [
      "epoch 20 epoch_loss: 0.60 accuracy: 0.68 f1_score: 0.37 precision: 0.61 recall: 0.27 auc: 0.59\n"
     ]
    },
    {
     "name": "stderr",
     "output_type": "stream",
     "text": [
      "\r",
      " 22%|██▏       | 22/100 [01:52<06:45,  5.20s/it]"
     ]
    },
    {
     "name": "stdout",
     "output_type": "stream",
     "text": [
      "epoch 21 epoch_loss: 0.60 accuracy: 0.68 f1_score: 0.37 precision: 0.61 recall: 0.27 auc: 0.59\n"
     ]
    },
    {
     "name": "stderr",
     "output_type": "stream",
     "text": [
      "\r",
      " 23%|██▎       | 23/100 [01:57<06:22,  4.97s/it]"
     ]
    },
    {
     "name": "stdout",
     "output_type": "stream",
     "text": [
      "epoch 22 epoch_loss: 0.60 accuracy: 0.68 f1_score: 0.38 precision: 0.61 recall: 0.27 auc: 0.59\n"
     ]
    },
    {
     "name": "stderr",
     "output_type": "stream",
     "text": [
      "\r",
      " 24%|██▍       | 24/100 [02:02<06:31,  5.15s/it]"
     ]
    },
    {
     "name": "stdout",
     "output_type": "stream",
     "text": [
      "epoch 23 epoch_loss: 0.60 accuracy: 0.68 f1_score: 0.38 precision: 0.61 recall: 0.27 auc: 0.59\n"
     ]
    },
    {
     "name": "stderr",
     "output_type": "stream",
     "text": [
      "\r",
      " 25%|██▌       | 25/100 [02:08<06:41,  5.35s/it]"
     ]
    },
    {
     "name": "stdout",
     "output_type": "stream",
     "text": [
      "epoch 24 epoch_loss: 0.60 accuracy: 0.68 f1_score: 0.37 precision: 0.61 recall: 0.27 auc: 0.59\n"
     ]
    },
    {
     "name": "stderr",
     "output_type": "stream",
     "text": [
      "\r",
      " 26%|██▌       | 26/100 [02:14<06:34,  5.32s/it]"
     ]
    },
    {
     "name": "stdout",
     "output_type": "stream",
     "text": [
      "epoch 25 epoch_loss: 0.60 accuracy: 0.68 f1_score: 0.37 precision: 0.61 recall: 0.27 auc: 0.59\n"
     ]
    },
    {
     "name": "stderr",
     "output_type": "stream",
     "text": [
      "\r",
      " 27%|██▋       | 27/100 [02:19<06:34,  5.41s/it]"
     ]
    },
    {
     "name": "stdout",
     "output_type": "stream",
     "text": [
      "epoch 26 epoch_loss: 0.60 accuracy: 0.68 f1_score: 0.37 precision: 0.61 recall: 0.27 auc: 0.59\n"
     ]
    },
    {
     "name": "stderr",
     "output_type": "stream",
     "text": [
      "\r",
      " 28%|██▊       | 28/100 [02:24<06:08,  5.12s/it]"
     ]
    },
    {
     "name": "stdout",
     "output_type": "stream",
     "text": [
      "epoch 27 epoch_loss: 0.60 accuracy: 0.68 f1_score: 0.38 precision: 0.61 recall: 0.27 auc: 0.59\n"
     ]
    },
    {
     "name": "stderr",
     "output_type": "stream",
     "text": [
      "\r",
      " 29%|██▉       | 29/100 [02:29<06:14,  5.27s/it]"
     ]
    },
    {
     "name": "stdout",
     "output_type": "stream",
     "text": [
      "epoch 28 epoch_loss: 0.60 accuracy: 0.68 f1_score: 0.38 precision: 0.61 recall: 0.27 auc: 0.59\n"
     ]
    },
    {
     "name": "stderr",
     "output_type": "stream",
     "text": [
      "\r",
      " 30%|███       | 30/100 [02:34<05:50,  5.00s/it]"
     ]
    },
    {
     "name": "stdout",
     "output_type": "stream",
     "text": [
      "epoch 29 epoch_loss: 0.60 accuracy: 0.68 f1_score: 0.38 precision: 0.61 recall: 0.27 auc: 0.59\n"
     ]
    },
    {
     "name": "stderr",
     "output_type": "stream",
     "text": [
      "\r",
      " 31%|███       | 31/100 [02:39<05:54,  5.13s/it]"
     ]
    },
    {
     "name": "stdout",
     "output_type": "stream",
     "text": [
      "epoch 30 epoch_loss: 0.60 accuracy: 0.68 f1_score: 0.38 precision: 0.61 recall: 0.27 auc: 0.59\n"
     ]
    },
    {
     "name": "stderr",
     "output_type": "stream",
     "text": [
      "\r",
      " 32%|███▏      | 32/100 [02:45<05:58,  5.27s/it]"
     ]
    },
    {
     "name": "stdout",
     "output_type": "stream",
     "text": [
      "epoch 31 epoch_loss: 0.60 accuracy: 0.68 f1_score: 0.38 precision: 0.61 recall: 0.27 auc: 0.59\n"
     ]
    },
    {
     "name": "stderr",
     "output_type": "stream",
     "text": [
      "\r",
      " 33%|███▎      | 33/100 [02:50<05:55,  5.31s/it]"
     ]
    },
    {
     "name": "stdout",
     "output_type": "stream",
     "text": [
      "epoch 32 epoch_loss: 0.60 accuracy: 0.68 f1_score: 0.38 precision: 0.61 recall: 0.27 auc: 0.59\n"
     ]
    },
    {
     "name": "stderr",
     "output_type": "stream",
     "text": [
      "\r",
      " 34%|███▍      | 34/100 [02:56<05:55,  5.39s/it]"
     ]
    },
    {
     "name": "stdout",
     "output_type": "stream",
     "text": [
      "epoch 33 epoch_loss: 0.60 accuracy: 0.68 f1_score: 0.38 precision: 0.61 recall: 0.27 auc: 0.59\n"
     ]
    },
    {
     "name": "stderr",
     "output_type": "stream",
     "text": [
      "\r",
      " 35%|███▌      | 35/100 [03:01<05:40,  5.24s/it]"
     ]
    },
    {
     "name": "stdout",
     "output_type": "stream",
     "text": [
      "epoch 34 epoch_loss: 0.60 accuracy: 0.68 f1_score: 0.38 precision: 0.61 recall: 0.27 auc: 0.59\n"
     ]
    },
    {
     "name": "stderr",
     "output_type": "stream",
     "text": [
      "\r",
      " 36%|███▌      | 36/100 [03:07<05:49,  5.47s/it]"
     ]
    },
    {
     "name": "stdout",
     "output_type": "stream",
     "text": [
      "epoch 35 epoch_loss: 0.60 accuracy: 0.68 f1_score: 0.37 precision: 0.61 recall: 0.27 auc: 0.59\n"
     ]
    },
    {
     "name": "stderr",
     "output_type": "stream",
     "text": [
      "\r",
      " 37%|███▋      | 37/100 [03:12<05:40,  5.41s/it]"
     ]
    },
    {
     "name": "stdout",
     "output_type": "stream",
     "text": [
      "epoch 36 epoch_loss: 0.60 accuracy: 0.68 f1_score: 0.37 precision: 0.61 recall: 0.27 auc: 0.59\n"
     ]
    },
    {
     "name": "stderr",
     "output_type": "stream",
     "text": [
      "\r",
      " 38%|███▊      | 38/100 [03:17<05:38,  5.46s/it]"
     ]
    },
    {
     "name": "stdout",
     "output_type": "stream",
     "text": [
      "epoch 37 epoch_loss: 0.60 accuracy: 0.68 f1_score: 0.37 precision: 0.61 recall: 0.27 auc: 0.59\n"
     ]
    },
    {
     "name": "stderr",
     "output_type": "stream",
     "text": [
      "\r",
      " 39%|███▉      | 39/100 [03:23<05:27,  5.37s/it]"
     ]
    },
    {
     "name": "stdout",
     "output_type": "stream",
     "text": [
      "epoch 38 epoch_loss: 0.60 accuracy: 0.68 f1_score: 0.37 precision: 0.61 recall: 0.27 auc: 0.59\n"
     ]
    },
    {
     "name": "stderr",
     "output_type": "stream",
     "text": [
      "\r",
      " 40%|████      | 40/100 [03:28<05:26,  5.44s/it]"
     ]
    },
    {
     "name": "stdout",
     "output_type": "stream",
     "text": [
      "epoch 39 epoch_loss: 0.60 accuracy: 0.68 f1_score: 0.37 precision: 0.61 recall: 0.27 auc: 0.59\n"
     ]
    },
    {
     "name": "stderr",
     "output_type": "stream",
     "text": [
      "\r",
      " 41%|████      | 41/100 [03:33<05:12,  5.30s/it]"
     ]
    },
    {
     "name": "stdout",
     "output_type": "stream",
     "text": [
      "epoch 40 epoch_loss: 0.60 accuracy: 0.68 f1_score: 0.37 precision: 0.61 recall: 0.27 auc: 0.59\n"
     ]
    },
    {
     "name": "stderr",
     "output_type": "stream",
     "text": [
      "\r",
      " 42%|████▏     | 42/100 [03:39<05:12,  5.39s/it]"
     ]
    },
    {
     "name": "stdout",
     "output_type": "stream",
     "text": [
      "epoch 41 epoch_loss: 0.60 accuracy: 0.68 f1_score: 0.37 precision: 0.61 recall: 0.27 auc: 0.59\n"
     ]
    },
    {
     "name": "stderr",
     "output_type": "stream",
     "text": [
      "\r",
      " 43%|████▎     | 43/100 [03:43<04:55,  5.18s/it]"
     ]
    },
    {
     "name": "stdout",
     "output_type": "stream",
     "text": [
      "epoch 42 epoch_loss: 0.60 accuracy: 0.68 f1_score: 0.37 precision: 0.61 recall: 0.27 auc: 0.59\n"
     ]
    },
    {
     "name": "stderr",
     "output_type": "stream",
     "text": [
      "\r",
      " 44%|████▍     | 44/100 [03:49<04:57,  5.31s/it]"
     ]
    },
    {
     "name": "stdout",
     "output_type": "stream",
     "text": [
      "epoch 43 epoch_loss: 0.60 accuracy: 0.68 f1_score: 0.37 precision: 0.61 recall: 0.27 auc: 0.59\n"
     ]
    },
    {
     "name": "stderr",
     "output_type": "stream",
     "text": [
      "\r",
      " 45%|████▌     | 45/100 [03:55<04:56,  5.40s/it]"
     ]
    },
    {
     "name": "stdout",
     "output_type": "stream",
     "text": [
      "epoch 44 epoch_loss: 0.60 accuracy: 0.68 f1_score: 0.37 precision: 0.61 recall: 0.27 auc: 0.59\n"
     ]
    },
    {
     "name": "stderr",
     "output_type": "stream",
     "text": [
      "\r",
      " 46%|████▌     | 46/100 [04:00<04:53,  5.44s/it]"
     ]
    },
    {
     "name": "stdout",
     "output_type": "stream",
     "text": [
      "epoch 45 epoch_loss: 0.60 accuracy: 0.68 f1_score: 0.37 precision: 0.61 recall: 0.27 auc: 0.59\n"
     ]
    },
    {
     "name": "stderr",
     "output_type": "stream",
     "text": [
      "\r",
      " 47%|████▋     | 47/100 [04:06<04:56,  5.59s/it]"
     ]
    },
    {
     "name": "stdout",
     "output_type": "stream",
     "text": [
      "epoch 46 epoch_loss: 0.60 accuracy: 0.68 f1_score: 0.37 precision: 0.61 recall: 0.27 auc: 0.59\n"
     ]
    }
   ],
   "source": [
    "cfg.model_path = './model_updated_rescale.pt'\n",
    "train.main(cfg)"
   ]
  },
  {
   "cell_type": "code",
   "execution_count": null,
   "id": "million-bundle",
   "metadata": {},
   "outputs": [],
   "source": []
  }
 ],
 "metadata": {
  "kernelspec": {
   "display_name": "MK Env",
   "language": "python",
   "name": "mkenv"
  },
  "language_info": {
   "codemirror_mode": {
    "name": "ipython",
    "version": 3
   },
   "file_extension": ".py",
   "mimetype": "text/x-python",
   "name": "python",
   "nbconvert_exporter": "python",
   "pygments_lexer": "ipython3",
   "version": "3.8.12"
  }
 },
 "nbformat": 4,
 "nbformat_minor": 5
}
