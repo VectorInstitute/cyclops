{
 "cells": [
  {
   "cell_type": "markdown",
   "id": "smoking-flush",
   "metadata": {},
   "source": [
    "### This notebook illustrates as an example, how to train a model using previously extracted data. Please refer to the configuration file for details on training hyperparameters."
   ]
  },
  {
   "cell_type": "markdown",
   "id": "meaningful-incentive",
   "metadata": {},
   "source": [
    "## Imports"
   ]
  },
  {
   "cell_type": "code",
   "execution_count": null,
   "id": "champion-floating",
   "metadata": {},
   "outputs": [],
   "source": [
    "import sys\n",
    "sys.path.append(\"..\")\n",
    "\n",
    "import config\n",
    "import tasks.train as train"
   ]
  },
  {
   "cell_type": "markdown",
   "id": "cellular-making",
   "metadata": {},
   "source": [
    "## Load environment variable overrides and configuration"
   ]
  },
  {
   "cell_type": "code",
   "execution_count": null,
   "id": "decent-advantage",
   "metadata": {},
   "outputs": [],
   "source": [
    "cfg = config.read_config(\"../configs/default/*.yaml\")"
   ]
  },
  {
   "cell_type": "markdown",
   "id": "eastern-estimate",
   "metadata": {},
   "source": [
    "## Train model"
   ]
  },
  {
   "cell_type": "code",
   "execution_count": null,
   "id": "automatic-quest",
   "metadata": {},
   "outputs": [],
   "source": [
    "cfg.model_path = './model.pt'\n",
    "train.main(cfg)"
   ]
  }
 ],
 "metadata": {
  "kernelspec": {
   "display_name": "vector_delirium",
   "language": "python",
   "name": "vector_delirium"
  },
  "language_info": {
   "codemirror_mode": {
    "name": "ipython",
    "version": 3
   },
   "file_extension": ".py",
   "mimetype": "text/x-python",
   "name": "python",
   "nbconvert_exporter": "python",
   "pygments_lexer": "ipython3",
   "version": "3.8.5"
  }
 },
 "nbformat": 4,
 "nbformat_minor": 5
}
