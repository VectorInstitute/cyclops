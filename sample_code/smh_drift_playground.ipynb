{
 "cells": [
  {
   "cell_type": "markdown",
   "id": "structured-extent",
   "metadata": {},
   "source": [
    "## Imports"
   ]
  },
  {
   "cell_type": "code",
   "execution_count": 1,
   "id": "orange-average",
   "metadata": {},
   "outputs": [
    {
     "name": "stderr",
     "output_type": "stream",
     "text": [
      "2022-02-16 15:51:12,196 \u001b[1;37mINFO\u001b[0m config          - Log file is /mnt/nfs/home/krishnanam/log.log\n",
      "2022-02-16 15:51:12,265 \u001b[1;37mINFO\u001b[0m cyclops.orm     - Log file is /mnt/nfs/home/krishnanam/log.log\n"
     ]
    }
   ],
   "source": [
    "import sys\n",
    "sys.path.append(\"..\")\n",
    "\n",
    "import pandas as pd\n",
    "import sqlalchemy\n",
    "from sqlalchemy import select, extract\n",
    "from sqlalchemy.sql.expression import and_\n",
    "\n",
    "import config\n",
    "from cyclops.orm import Database"
   ]
  },
  {
   "cell_type": "markdown",
   "id": "capable-office",
   "metadata": {},
   "source": [
    "## Load config, setup ORM"
   ]
  },
  {
   "cell_type": "code",
   "execution_count": 2,
   "id": "enormous-brooks",
   "metadata": {},
   "outputs": [
    {
     "name": "stderr",
     "output_type": "stream",
     "text": [
      "2022-02-16 15:51:13,472 \u001b[1;37mINFO\u001b[0m cyclops.orm     - Database setup, ready to run queries!\n"
     ]
    }
   ],
   "source": [
    "cfg = config.read_config(\"../configs/default/*.yaml\")\n",
    "db = Database(cfg)"
   ]
  },
  {
   "cell_type": "markdown",
   "id": "turned-recycling",
   "metadata": {},
   "source": [
    "## Extract slices"
   ]
  },
  {
   "cell_type": "code",
   "execution_count": 3,
   "id": "minute-liabilities",
   "metadata": {},
   "outputs": [],
   "source": [
    "HOSPITAL = \"SMH\"\n",
    "YEAR = 2020\n",
    "LIMIT_LABS = 100000\n",
    "LIMIT_MEDICATIONS = 100000\n",
    "LIMIT_VITALS = 100000"
   ]
  },
  {
   "cell_type": "markdown",
   "id": "dimensional-success",
   "metadata": {},
   "source": [
    "## Query to get admin + diagnosis"
   ]
  },
  {
   "cell_type": "code",
   "execution_count": 4,
   "id": "supreme-doctor",
   "metadata": {},
   "outputs": [
    {
     "name": "stderr",
     "output_type": "stream",
     "text": [
      "2022-02-16 15:51:15,242 \u001b[1;37mINFO\u001b[0m cyclops.orm     - Query returned successfully, took 1.7409915924072266 s\n"
     ]
    },
    {
     "name": "stdout",
     "output_type": "stream",
     "text": [
      "15840 rows fetched!\n"
     ]
    }
   ],
   "source": [
    "query = select(db.public.ip_administrative.x,\n",
    "               db.public.diagnosis.x\n",
    "              ).where(and_(db.public.ip_administrative.hospital_id == HOSPITAL,\n",
    "                           extract('year', db.public.ip_administrative.admit_date_time) == YEAR))\\\n",
    "              .join(db.public.diagnosis.x, \n",
    "                    db.public.ip_administrative.genc_id == db.public.diagnosis.genc_id\n",
    "                   )\n",
    "              \n",
    "data = db.run_query(query)\n",
    "print(f\"{len(data)} rows fetched!\")"
   ]
  },
  {
   "cell_type": "markdown",
   "id": "looking-documentation",
   "metadata": {},
   "source": [
    "## Query to get admin + labs"
   ]
  },
  {
   "cell_type": "code",
   "execution_count": 5,
   "id": "smaller-cylinder",
   "metadata": {},
   "outputs": [
    {
     "name": "stderr",
     "output_type": "stream",
     "text": [
      "2022-02-16 15:51:42,909 \u001b[1;37mINFO\u001b[0m cyclops.orm     - Query returned successfully, took 27.65257477760315 s\n"
     ]
    },
    {
     "name": "stdout",
     "output_type": "stream",
     "text": [
      "100000 rows fetched!\n"
     ]
    }
   ],
   "source": [
    "query = select(db.public.ip_administrative.x,\n",
    "               db.public.lab.x\n",
    "              ).where(and_(db.public.ip_administrative.hospital_id == HOSPITAL,\n",
    "                           extract('year', db.public.ip_administrative.admit_date_time) == YEAR))\\\n",
    "              .join(db.public.lab.x, \n",
    "                    db.public.ip_administrative.genc_id == db.public.lab.genc_id\n",
    "                   ).where(db.public.lab.lab_test_name_mapped != '').limit(LIMIT_LABS) # Use limit here, since lab queries can have millions of rows!\n",
    "data = db.run_query(query)\n",
    "print(f\"{len(data)} rows fetched!\")"
   ]
  },
  {
   "cell_type": "markdown",
   "id": "coated-contest",
   "metadata": {},
   "source": [
    "## Query to get admin + pharmacy"
   ]
  },
  {
   "cell_type": "code",
   "execution_count": 6,
   "id": "relevant-roads",
   "metadata": {},
   "outputs": [
    {
     "name": "stderr",
     "output_type": "stream",
     "text": [
      "2022-02-16 15:51:51,486 \u001b[1;37mINFO\u001b[0m cyclops.orm     - Query returned successfully, took 8.550371646881104 s\n"
     ]
    },
    {
     "name": "stdout",
     "output_type": "stream",
     "text": [
      "76421 rows fetched!\n"
     ]
    }
   ],
   "source": [
    "query = select(db.public.ip_administrative.x,\n",
    "               db.public.pharmacy.x\n",
    "              ).where(and_(db.public.ip_administrative.hospital_id == HOSPITAL,\n",
    "                           extract('year', db.public.ip_administrative.admit_date_time) == YEAR))\\\n",
    "              .join(db.public.pharmacy.x, \n",
    "                    db.public.ip_administrative.genc_id == db.public.pharmacy.genc_id\n",
    "                   ).limit(LIMIT_MEDICATIONS) # Use limit here, since pharmacy queries can have millions of rows!\n",
    "data = db.run_query(query)\n",
    "print(f\"{len(data)} rows fetched!\")"
   ]
  },
  {
   "cell_type": "markdown",
   "id": "diverse-assembly",
   "metadata": {},
   "source": [
    "## Query to get admin + vitals"
   ]
  },
  {
   "cell_type": "code",
   "execution_count": 7,
   "id": "crude-disclosure",
   "metadata": {},
   "outputs": [
    {
     "name": "stderr",
     "output_type": "stream",
     "text": [
      "2022-02-16 15:51:54,131 \u001b[1;37mINFO\u001b[0m cyclops.orm     - Query returned successfully, took 2.545888900756836 s\n"
     ]
    },
    {
     "name": "stdout",
     "output_type": "stream",
     "text": [
      "100000 rows fetched!\n"
     ]
    }
   ],
   "source": [
    "query = select(db.public.ip_administrative.x,\n",
    "               db.public.vitals.x\n",
    "              ).where(and_(db.public.ip_administrative.hospital_id == HOSPITAL,\n",
    "                           extract('year', db.public.ip_administrative.admit_date_time) == YEAR))\\\n",
    "              .join(db.public.vitals.x, \n",
    "                    db.public.ip_administrative.genc_id == db.public.vitals.genc_id\n",
    "                   ).limit(LIMIT_VITALS)\n",
    "data = db.run_query(query)\n",
    "print(f\"{len(data)} rows fetched!\")"
   ]
  }
 ],
 "metadata": {
  "kernelspec": {
   "display_name": "vector_delirium",
   "language": "python",
   "name": "vector_delirium"
  },
  "language_info": {
   "codemirror_mode": {
    "name": "ipython",
    "version": 3
   },
   "file_extension": ".py",
   "mimetype": "text/x-python",
   "name": "python",
   "nbconvert_exporter": "python",
   "pygments_lexer": "ipython3",
   "version": "3.8.5"
  }
 },
 "nbformat": 4,
 "nbformat_minor": 5
}
