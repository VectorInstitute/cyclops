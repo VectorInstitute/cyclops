{
 "cells": [
  {
   "cell_type": "code",
   "execution_count": 2,
   "id": "scientific-unemployment",
   "metadata": {},
   "outputs": [],
   "source": [
    "import sys\n",
    "sys.path.append(\"..\")\n",
    "import mlflow\n",
    "import pandas as pd\n",
    "import config.config as config\n",
    "import tasks.datapipeline.process_data as process_data \n",
    "\n",
    "mlflow.set_tracking_uri('../mlruns')"
   ]
  },
  {
   "cell_type": "code",
   "execution_count": 3,
   "id": "unauthorized-hopkins",
   "metadata": {},
   "outputs": [
    {
     "name": "stdout",
     "output_type": "stream",
     "text": [
      "<bound method NDFrame.head of 0         87\n",
      "1         52\n",
      "2         59\n",
      "3         62\n",
      "4         52\n",
      "          ..\n",
      "281560    54\n",
      "281561    85\n",
      "281562    53\n",
      "281563    80\n",
      "281564    86\n",
      "Name: age, Length: 281565, dtype: int64>\n",
      "[ 4  6  0 ...  8 -1  4]\n",
      "<bound method NDFrame.head of 0         91\n",
      "1         58\n",
      "2         59\n",
      "3         66\n",
      "4         58\n",
      "          ..\n",
      "281560    58\n",
      "281561    89\n",
      "281562    61\n",
      "281563    79\n",
      "281564    90\n",
      "Name: age, Length: 281565, dtype: int64>\n",
      "[11  8  0 ...  7  0  0]\n",
      "<bound method NDFrame.head of 0         87\n",
      "1         52\n",
      "2         59\n",
      "3         62\n",
      "4         52\n",
      "          ..\n",
      "281560    54\n",
      "281561    85\n",
      "281562    53\n",
      "281563    80\n",
      "281564    86\n",
      "Name: age, Length: 281565, dtype: int64>\n"
     ]
    }
   ],
   "source": [
    "#add noise to lor_er and age (for demo purposes)\n",
    "\n",
    "import tasks.datapipeline.process_data as process_data \n",
    "import numpy as np \n",
    "\n",
    "conf = None\n",
    "conf = config.read_config('../config/gemini.cfg')\n",
    "data, _ = process_data.pipeline(conf)\n",
    "\n",
    "print(data['age'].head)\n",
    "\n",
    "mu, sigma = 5, 3 \n",
    "# creating a noise with the same dimension as the dataset  \n",
    "noise = np.random.normal(mu, sigma, len(data['age'])).astype(int) \n",
    "print(noise)\n",
    "\n",
    "data['age'] = data['age'].add(noise)\n",
    "print(data['age'].head)\n",
    "\n",
    "#repeat for los_er\n",
    "mu, sigma = 5, 5 \n",
    "# creating a noise with the same dimension as the dataset  \n",
    "noise = np.random.normal(mu, sigma, len(data['los_er'])).astype(int) \n",
    "print(noise)\n",
    "\n",
    "data['los_er'] = data['los_er'].add(noise)\n",
    "data.to_csv('/mnt/nfs/project/delirium/data/all_before_2018_with_noise.csv')\n",
    "\n",
    "conf.input = '/mnt/nfs/project/delirium/data/all_before_2018_with_noise.csv'\n",
    "data, _ = process_data.pipeline(conf)\n",
    "print(data['age'].head)"
   ]
  },
  {
   "cell_type": "code",
   "execution_count": null,
   "id": "sudden-truth",
   "metadata": {},
   "outputs": [],
   "source": []
  }
 ],
 "metadata": {
  "kernelspec": {
   "display_name": "MK Env",
   "language": "python",
   "name": "mkenv"
  },
  "language_info": {
   "codemirror_mode": {
    "name": "ipython",
    "version": 3
   },
   "file_extension": ".py",
   "mimetype": "text/x-python",
   "name": "python",
   "nbconvert_exporter": "python",
   "pygments_lexer": "ipython3",
   "version": "3.8.12"
  }
 },
 "nbformat": 4,
 "nbformat_minor": 5
}
