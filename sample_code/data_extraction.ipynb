{
 "cells": [
  {
   "cell_type": "markdown",
   "id": "guided-worst",
   "metadata": {},
   "source": [
    "### This notebook illustrates how to extract data from the GEMINI database. "
   ]
  },
  {
   "cell_type": "markdown",
   "id": "processed-assumption",
   "metadata": {},
   "source": [
    "## Imports"
   ]
  },
  {
   "cell_type": "code",
   "execution_count": null,
   "id": "fiscal-syndication",
   "metadata": {},
   "outputs": [],
   "source": [
    "import os\n",
    "import sys\n",
    "sys.path.append(\"..\")\n",
    "\n",
    "import config.config as config\n",
    "from tasks.datapipeline.process_data import pipeline as extract"
   ]
  },
  {
   "cell_type": "markdown",
   "id": "architectural-original",
   "metadata": {},
   "source": [
    "## Load environment variable overrides and configuration"
   ]
  },
  {
   "cell_type": "code",
   "execution_count": null,
   "id": "separated-giving",
   "metadata": {},
   "outputs": [],
   "source": [
    "%load_ext dotenv\n",
    "%dotenv\n",
    "cfg = config.read_config('../config/gemini.cfg')"
   ]
  },
  {
   "cell_type": "markdown",
   "id": "capital-snapshot",
   "metadata": {},
   "source": [
    "## Extract administrative and diagnosis data (ip_administrative, er_administrative, diagnosis tables)"
   ]
  },
  {
   "cell_type": "code",
   "execution_count": null,
   "id": "official-speech",
   "metadata": {},
   "outputs": [],
   "source": [
    "# Print database version.\n",
    "print(cfg.database)\n",
    "\n",
    "# Set read and write options to be true, so that data extraction is enabled.\n",
    "cfg.r = True\n",
    "cfg.w = True\n",
    "\n",
    "# Set output folder to store CSV files, create folder if it doesn't exist.\n",
    "cfg.output_folder = \"_data_extract\"\n",
    "os.makedirs(cfg.output_folder, exist_ok=True)\n",
    "\n",
    "# Limit number of records extracted (pop_size). Set to \"0\" if all records are to be extracted.\n",
    "cfg.pop_size = 10000\n",
    "\n",
    "# Filter only records <= a certain year.\n",
    "cfg.filter_year = 2020\n",
    "\n",
    "# Create train/val/test split based on year.\n",
    "cfg.split_column = 'year'\n",
    "cfg.test_split = 2018\n",
    "cfg.val_split = 2017\n",
    "\n",
    "# Run extraction.\n",
    "extract(cfg)"
   ]
  }
 ],
 "metadata": {
  "kernelspec": {
   "display_name": "vector_delirium",
   "language": "python",
   "name": "vector_delirium"
  },
  "language_info": {
   "codemirror_mode": {
    "name": "ipython",
    "version": 3
   },
   "file_extension": ".py",
   "mimetype": "text/x-python",
   "name": "python",
   "nbconvert_exporter": "python",
   "pygments_lexer": "ipython3",
   "version": "3.8.5"
  }
 },
 "nbformat": 4,
 "nbformat_minor": 5
}
