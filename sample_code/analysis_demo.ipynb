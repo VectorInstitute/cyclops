{
 "cells": [
  {
   "cell_type": "code",
   "execution_count": 2,
   "id": "scientific-unemployment",
   "metadata": {},
   "outputs": [],
   "source": [
    "import pandas as pd"
   ]
  },
  {
   "cell_type": "code",
   "execution_count": 3,
   "id": "copyrighted-terror",
   "metadata": {},
   "outputs": [],
   "source": [
    "data = pd.read_csv('../gemini_data.csv')"
   ]
  },
  {
   "cell_type": "code",
   "execution_count": 4,
   "id": "flexible-intent",
   "metadata": {},
   "outputs": [
    {
     "data": {
      "text/plain": [
       "['Unnamed: 0',\n",
       " 'patient_id',\n",
       " 'genc_id',\n",
       " 'hospital_id',\n",
       " 'sex',\n",
       " 'age',\n",
       " 'mort_hosp',\n",
       " 'discharge_date_time',\n",
       " 'admit_date_time',\n",
       " 'mr_diagnosis',\n",
       " 'year',\n",
       " 'los',\n",
       " 'readmission_7',\n",
       " 'readmission_28',\n",
       " 'palliative',\n",
       " 'los_er',\n",
       " 'admit_via_ambulance',\n",
       " 'er_admit_date_time',\n",
       " 'er_discharge_date_time',\n",
       " 'triage_level',\n",
       " 'icd10_A00_B99',\n",
       " 'icd10_C00_D49',\n",
       " 'icd10_D50_D89',\n",
       " 'icd10_E00_E89',\n",
       " 'icd10_F01_F99',\n",
       " 'icd10_G00_G99',\n",
       " 'icd10_H00_H59',\n",
       " 'icd10_H60_H95',\n",
       " 'icd10_I00_I99',\n",
       " 'icd10_J00_J99',\n",
       " 'icd10_K00_K95',\n",
       " 'icd10_L00_L99',\n",
       " 'icd10_M00_M99',\n",
       " 'icd10_N00_N99',\n",
       " 'icd10_O00_O99',\n",
       " 'icd10_Q00_Q99',\n",
       " 'icd10_R00_R99',\n",
       " 'icd10_S00_T88',\n",
       " 'icd10_U07_U08',\n",
       " 'icd10_Z00_Z99',\n",
       " 'icd10_nan',\n",
       " 'train',\n",
       " 'test',\n",
       " 'val']"
      ]
     },
     "execution_count": 4,
     "metadata": {},
     "output_type": "execute_result"
    }
   ],
   "source": [
    "list(data.columns)"
   ]
  },
  {
   "cell_type": "code",
   "execution_count": 5,
   "id": "considered-enhancement",
   "metadata": {},
   "outputs": [],
   "source": [
    "import analysis"
   ]
  },
  {
   "cell_type": "code",
   "execution_count": 6,
   "id": "numeric-archive",
   "metadata": {},
   "outputs": [
    {
     "name": "stdout",
     "output_type": "stream",
     "text": [
      "Type of analysis to perform - dataset, on data from ../gemini_data.csv\n"
     ]
    }
   ],
   "source": [
    "#read analysis configuration\n",
    "conf = analysis.read_config()\n",
    "print('Type of analysis to perform - {type}, on data from {source}'.format(type=conf.type, source=conf.input))"
   ]
  },
  {
   "cell_type": "code",
   "execution_count": 7,
   "id": "emerging-surprise",
   "metadata": {},
   "outputs": [
    {
     "name": "stderr",
     "output_type": "stream",
     "text": [
      "/mnt/nfs/home/koshkinam/.conda/envs/test_env/lib/python3.8/site-packages/evidently/analyzers/data_drift_analyzer.py:19: RuntimeWarning: invalid value encountered in double_scalars\n",
      "  return (p1 - p2) / np.sqrt(P * (1 - P) * (1. / n1 + 1. / n2))\n"
     ]
    },
    {
     "name": "stdout",
     "output_type": "stream",
     "text": [
      "dict_keys(['age', 'los_er', 'hospital_id', 'sex', 'mort_hosp', 'readmission_7', 'readmission_28', 'palliative', 'icd10_A00_B99', 'icd10_C00_D49', 'icd10_D50_D89', 'icd10_E00_E89', 'icd10_F01_F99', 'icd10_G00_G99', 'icd10_H00_H59', 'icd10_H60_H95', 'icd10_I00_I99', 'icd10_J00_J99', 'icd10_K00_K95', 'icd10_L00_L99', 'icd10_M00_M99', 'icd10_N00_N99', 'icd10_O00_O99', 'icd10_Q00_Q99', 'icd10_R00_R99', 'icd10_S00_T88', 'icd10_U07_U08', 'icd10_Z00_Z99', 'los', 'n_features', 'n_drifted_features', 'share_drifted_features', 'dataset_drift'])\n"
     ]
    }
   ],
   "source": [
    "# run analysis and generate html report\n",
    "analysis.main(conf)"
   ]
  },
  {
   "cell_type": "code",
   "execution_count": 5,
   "id": "supreme-northeast",
   "metadata": {},
   "outputs": [
    {
     "name": "stdout",
     "output_type": "stream",
     "text": [
      "Namespace(categorical_features=['hospital_id', 'sex', 'mort_hosp', 'readmission_7', 'readmission_28', 'palliative', 'icd10_A00_B99', 'icd10_C00_D49', 'icd10_D50_D89', 'icd10_E00_E89', 'icd10_F01_F99', 'icd10_G00_G99', 'icd10_H00_H59', 'icd10_H60_H95', 'icd10_I00_I99', 'icd10_J00_J99', 'icd10_K00_K95', 'icd10_L00_L99', 'icd10_M00_M99', 'icd10_N00_N99', 'icd10_O00_O99', 'icd10_Q00_Q99', 'icd10_R00_R99', 'icd10_S00_T88', 'icd10_U07_U08', 'icd10_Z00_Z99', 'los'], config_file='gemini_analysis.conf', data_eval=[2016], data_ref=[2015], input='../gemini_data.csv', numerical_features=['age', 'los_er'], prediction='prediction', reference='../gemini_val_result.csv', report_path='../', slice='year', target='los', target_num=False, test='../gemini_test_result.csv', type='dataset')\n"
     ]
    }
   ],
   "source": [
    "print(conf)"
   ]
  },
  {
   "cell_type": "code",
   "execution_count": 6,
   "id": "reliable-infection",
   "metadata": {},
   "outputs": [],
   "source": [
    "# run analysis and generate html report (this time model performance comparison)\n",
    "conf.type = 'performance'\n",
    "analysis.main(conf)"
   ]
  },
  {
   "cell_type": "code",
   "execution_count": 1,
   "id": "controversial-plastic",
   "metadata": {},
   "outputs": [
    {
     "name": "stdout",
     "output_type": "stream",
     "text": [
      "              Name                                          Artifacts  Status\n",
      "0  DatasetAnalysis  file:///mnt/nfs/home/koshkinam/vector-delirium...  active\n",
      "1          Default  file:///mnt/nfs/home/koshkinam/vector-delirium...  active\n",
      "2  ModelComparison  file:///mnt/nfs/home/koshkinam/vector-delirium...  active\n",
      "3       Prediction  file:///mnt/nfs/home/koshkinam/vector-delirium...  active\n",
      "------------------- Dataset Analysis ----------------------\n",
      "                                                Input Slice Ref Slice  \\\n",
      "0   /mnt/nfs/project/delirium/data/all_before_2018...              []   \n",
      "1   /mnt/nfs/project/delirium/data/all_before_2018...  year    [2015]   \n",
      "2   /mnt/nfs/project/delirium/data/all_before_2018...  year    [2015]   \n",
      "3   /mnt/nfs/project/delirium/data/all_before_2018...  year    [2015]   \n",
      "4   /mnt/nfs/project/delirium/data/all_before_2018...  year    [2015]   \n",
      "5   /mnt/nfs/project/delirium/data/all_before_2018...  None        []   \n",
      "6   /mnt/nfs/project/delirium/data/all_before_2018...  None        []   \n",
      "7                                  ../gemini_data.csv          [2015]   \n",
      "8                                  ../gemini_data.csv          [2015]   \n",
      "9                                  ../gemini_data.csv          [2015]   \n",
      "10                                 ../gemini_data.csv          [2015]   \n",
      "11                                 ../gemini_data.csv          [2015]   \n",
      "12                                 ../gemini_data.csv          [2015]   \n",
      "13                                 ../gemini_data.csv          [2015]   \n",
      "14                                 ../gemini_data.csv          [2015]   \n",
      "15                                 ../gemini_data.csv          [2015]   \n",
      "16                                 ../gemini_data.csv          [2015]   \n",
      "17                                 ../gemini_data.csv          [2015]   \n",
      "18                                 ../gemini_data.csv          [2015]   \n",
      "19                                 ../gemini_data.csv          [2015]   \n",
      "20                                 ../gemini_data.csv          [2015]   \n",
      "21                                 ../gemini_data.csv          [2015]   \n",
      "22                                 ../gemini_data.csv          [2015]   \n",
      "23                                 ../gemini_data.csv          [2015]   \n",
      "24                                 ../gemini_data.csv          [2015]   \n",
      "25                                 ../gemini_data.csv          [2015]   \n",
      "26                                 ../gemini_data.csv          [2015]   \n",
      "27                                 ../gemini_data.csv          [2015]   \n",
      "28                                 ../gemini_data.csv          [2015]   \n",
      "29                                 ../gemini_data.csv          [2015]   \n",
      "30                                 ../gemini_data.csv          [2015]   \n",
      "31                                 ../gemini_data.csv          [2015]   \n",
      "32                                 ../gemini_data.csv          [2015]   \n",
      "33                                 ../gemini_data.csv          [2015]   \n",
      "34                                 ../gemini_data.csv          [2015]   \n",
      "35                                 ../gemini_data.csv          [2015]   \n",
      "36                                 ../gemini_data.csv          [2015]   \n",
      "37                                 ../gemini_data.csv          [2015]   \n",
      "38                                 ../gemini_data.csv          [2015]   \n",
      "39                                 ../gemini_data.csv          [2015]   \n",
      "40                                 ../gemini_data.csv          [2015]   \n",
      "41                                 ../gemini_data.csv          [2015]   \n",
      "42                                 ../gemini_data.csv          [2015]   \n",
      "43                                 ../gemini_data.csv          [2015]   \n",
      "44                                 ../gemini_data.csv          [2015]   \n",
      "45                                 ../gemini_data.csv          [2015]   \n",
      "46                                 ../gemini_data.csv          [2015]   \n",
      "47                                 ../gemini_data.csv          [2015]   \n",
      "48  /mnt/nfs/project/delirium/data/all_before_2018...  year    [2015]   \n",
      "49                                 ../gemini_data.csv  year    [2015]   \n",
      "50                                 ../gemini_data.csv  year    [2015]   \n",
      "51                                 ../gemini_data.csv  year    [2015]   \n",
      "52                                 ../gemini_data.csv  year    [2015]   \n",
      "53                                 ../gemini_data.csv  year    [2015]   \n",
      "54                                 ../gemini_data.csv  year    [2015]   \n",
      "55                                 ../gemini_data.csv  year    [2015]   \n",
      "56                                 ../gemini_data.csv  year    [2015]   \n",
      "57                                 ../gemini_data.csv  year    [2015]   \n",
      "58                                 ../gemini_data.csv  year    [2015]   \n",
      "59                                 ../gemini_data.csv  year    [2015]   \n",
      "\n",
      "   Eval Slice Drift  Feat Drift_Feat  \n",
      "0          []    No  28.0        5.0  \n",
      "1      [2016]    No  28.0        9.0  \n",
      "2      [2016]    No  28.0        9.0  \n",
      "3      [2016]    No  28.0        9.0  \n",
      "4      [2016]    No  28.0        9.0  \n",
      "5          []    No  28.0        4.0  \n",
      "6          []    No  28.0        4.0  \n",
      "7      [2016]    No  28.0       10.0  \n",
      "8      [2016]    No  28.0       10.0  \n",
      "9      [2016]    No  28.0        6.0  \n",
      "10     [2016]    No  28.0       13.0  \n",
      "11     [2016]   Yes  28.0       17.0  \n",
      "12     [2016]    No  28.0        9.0  \n",
      "13     [2016]    No  28.0        5.0  \n",
      "14     [2016]    No  28.0        9.0  \n",
      "15     [2016]    No  28.0        8.0  \n",
      "16     [2016]    No  28.0       11.0  \n",
      "17     [2016]    No  28.0        6.0  \n",
      "18     [2016]    No  28.0        5.0  \n",
      "19     [2016]    No  28.0        9.0  \n",
      "20     [2016]    No  28.0        9.0  \n",
      "21     [2016]    No  28.0        8.0  \n",
      "22     [2016]    No  28.0        6.0  \n",
      "23     [2016]    No  28.0        6.0  \n",
      "24     [2016]    No  28.0       13.0  \n",
      "25     [2016]    No  28.0       12.0  \n",
      "26     [2016]    No  28.0       12.0  \n",
      "27     [2016]    No  28.0        6.0  \n",
      "28     [2016]    No  28.0        4.0  \n",
      "29     [2016]    No  28.0        6.0  \n",
      "30     [2016]    No  28.0        6.0  \n",
      "31     [2016]    No  28.0        9.0  \n",
      "32     [2016]    No  28.0        6.0  \n",
      "33     [2016]    No  28.0        6.0  \n",
      "34     [2016]    No  28.0        7.0  \n",
      "35     [2016]    No  28.0        6.0  \n",
      "36     [2016]    No  28.0       10.0  \n",
      "37     [2016]    No  28.0        9.0  \n",
      "38     [2016]    No  28.0        8.0  \n",
      "39     [2016]    No  28.0        4.0  \n",
      "40     [2016]    No  28.0        4.0  \n",
      "41     [2016]    No  28.0        8.0  \n",
      "42     [2016]    No  28.0       11.0  \n",
      "43     [2016]    No  28.0        6.0  \n",
      "44     [2016]    No  28.0        9.0  \n",
      "45     [2016]    No  28.0        8.0  \n",
      "46     [2016]    No  28.0        6.0  \n",
      "47     [2016]    No  28.0        6.0  \n",
      "48     [2016]    No  28.0        9.0  \n",
      "49     [2016]    No  29.0        3.0  \n",
      "50     [2016]    No  29.0        3.0  \n",
      "51     [2016]     -     -          -  \n",
      "52     [2016]     -     -          -  \n",
      "53     [2016]     -     -          -  \n",
      "54     [2016]     -     -          -  \n",
      "55     [2016]     -     -          -  \n",
      "56     [2016]     -     -          -  \n",
      "57     [2016]     -     -          -  \n",
      "58     [2016]     -     -          -  \n",
      "59     [2016]     -     -          -  \n"
     ]
    }
   ],
   "source": [
    "#MLFlow history for analysis\n",
    "# Display dataset drift analysis runs\n",
    "\n",
    "import os\n",
    "import json\n",
    "import mlflow\n",
    "import pandas as pd\n",
    "\n",
    "\n",
    "def get_dataset_metrics_list(data):\n",
    "     if ('metrics' in data.keys()) and data['metrics']:\n",
    "        metrics = data['metrics']\n",
    "        #timestamp = data['params']['timestamp']\n",
    "        drift = 'No' if metrics['dataset_drift']==0 else 'Yes'\n",
    "        return [drift, metrics['n_features'], metrics['n_drifted_features']]\n",
    "     else:\n",
    "        return ['-', '-', '-']\n",
    "\n",
    "# List all existing experiments\n",
    "all_experiments = mlflow.list_experiments()\n",
    "exp_data = []\n",
    "for exp in all_experiments:\n",
    "    row = [exp.name, exp.artifact_location, exp.lifecycle_stage]\n",
    "    exp_data.append(row)\n",
    "exp_frame = pd.DataFrame(exp_data, columns = ['Name', 'Artifacts', 'Status'])\n",
    "print(exp_frame)\n",
    "    \n",
    "exp = mlflow.get_experiment_by_name('DatasetAnalysis')\n",
    "runs = mlflow.list_run_infos(exp.experiment_id, max_results=100)\n",
    "table = []\n",
    "for r in runs:\n",
    "    exp_run = mlflow.get_run(r.run_id).to_dictionary()\n",
    "    path = exp_run['info']['artifact_uri'][6:]\n",
    "    config_file = os.path.join(path, 'config.json')\n",
    "    if not os.path.isfile(config_file):\n",
    "        continue\n",
    "    with open(config_file) as f:\n",
    "        data = json.load(f)\n",
    "        row = [data['input'], data['slice'], data['data_ref'], data['data_eval']]\n",
    "        row = row + get_dataset_metrics_list(exp_run['data'])\n",
    "        table.append(row)\n",
    "frame = pd.DataFrame(table, columns=['Input', 'Slice', 'Ref Slice', 'Eval Slice', 'Drift', 'Feat', 'Drift_Feat'])\n",
    "print('------------------- Dataset Analysis ----------------------')\n",
    "print(frame)"
   ]
  },
  {
   "cell_type": "code",
   "execution_count": 2,
   "id": "dominant-identification",
   "metadata": {},
   "outputs": [
    {
     "name": "stdout",
     "output_type": "stream",
     "text": [
      "------------------- Model Peformance Comparison  ----------------------\n",
      "               Reference                  Eval   Ref Acc  Eval Acc  \\\n",
      "0   emini_val_result.csv  18-10-01/results.csv  0.683117  0.663729   \n",
      "1   emini_val_result.csv  mini_test_result.csv  0.683117  0.673246   \n",
      "2   emini_val_result.csv  mini_test_result.csv  0.683117  0.673246   \n",
      "3   hkinam/reference.csv  20-01-01/results.csv  0.679243  0.708020   \n",
      "4   hkinam/reference.csv  20-02-01/results.csv  0.679243  0.700325   \n",
      "5   hkinam/reference.csv  20-03-01/results.csv  0.679243  0.676266   \n",
      "6   hkinam/reference.csv  20-04-01/results.csv  0.679243  0.715552   \n",
      "7   hkinam/reference.csv  20-05-01/results.csv  0.679243  0.668636   \n",
      "8   hkinam/reference.csv  20-06-01/results.csv  0.679243  0.676129   \n",
      "9   hkinam/reference.csv  19-01-01/results.csv  0.679243  0.691828   \n",
      "10  hkinam/reference.csv  19-02-01/results.csv  0.679243  0.662766   \n",
      "11  hkinam/reference.csv  19-03-01/results.csv  0.679243  0.652174   \n",
      "12  hkinam/reference.csv  19-04-01/results.csv  0.679243  0.651077   \n",
      "13  hkinam/reference.csv  19-05-01/results.csv  0.679243  0.680796   \n",
      "14  hkinam/reference.csv  19-06-01/results.csv  0.679243  0.687382   \n",
      "15  hkinam/reference.csv  19-07-01/results.csv  0.679243  0.671679   \n",
      "16  hkinam/reference.csv  19-08-01/results.csv  0.679243  0.682927   \n",
      "17  hkinam/reference.csv  19-09-01/results.csv  0.679243  0.680560   \n",
      "18  hkinam/reference.csv  19-10-01/results.csv  0.679243  0.680753   \n",
      "19  hkinam/reference.csv  19-11-01/results.csv  0.679243  0.682904   \n",
      "20  hkinam/reference.csv  19-12-01/results.csv  0.679243  0.681553   \n",
      "21  hkinam/reference.csv  18-02-01/results.csv  0.679243  0.660276   \n",
      "22  hkinam/reference.csv  18-03-01/results.csv  0.679243  0.654545   \n",
      "23  hkinam/reference.csv  18-04-01/results.csv  0.679243  0.652231   \n",
      "24  hkinam/reference.csv  18-05-01/results.csv  0.679243  0.665407   \n",
      "25  hkinam/reference.csv  18-06-01/results.csv  0.679243  0.671206   \n",
      "26  hkinam/reference.csv  18-07-01/results.csv  0.679243  0.668081   \n",
      "27  hkinam/reference.csv  18-08-01/results.csv  0.679243  0.674394   \n",
      "28  hkinam/reference.csv  18-09-01/results.csv  0.679243  0.664120   \n",
      "29  hkinam/reference.csv  18-10-01/results.csv  0.679243  0.663729   \n",
      "30  hkinam/reference.csv  18-11-01/results.csv  0.679243  0.668762   \n",
      "31  hkinam/reference.csv  18-12-01/results.csv  0.679243  0.662744   \n",
      "\n",
      "    Ref F1 Score  Eval F1 Score  \n",
      "0       0.484435       0.493562  \n",
      "1       0.484435       0.468552  \n",
      "2       0.484435       0.468552  \n",
      "3       0.505018       0.500303  \n",
      "4       0.505018       0.507890  \n",
      "5       0.505018       0.501953  \n",
      "6       0.505018       0.525013  \n",
      "7       0.505018       0.491277  \n",
      "8       0.505018       0.477281  \n",
      "9       0.505018       0.523788  \n",
      "10      0.505018       0.488077  \n",
      "11      0.505018       0.486490  \n",
      "12      0.505018       0.502519  \n",
      "13      0.505018       0.506113  \n",
      "14      0.505018       0.507344  \n",
      "15      0.505018       0.489750  \n",
      "16      0.505018       0.490162  \n",
      "17      0.505018       0.501746  \n",
      "18      0.505018       0.514152  \n",
      "19      0.505018       0.494679  \n",
      "20      0.505018       0.501822  \n",
      "21      0.505018       0.494900  \n",
      "22      0.505018       0.490287  \n",
      "23      0.505018       0.479459  \n",
      "24      0.505018       0.498011  \n",
      "25      0.505018       0.492519  \n",
      "26      0.505018       0.492500  \n",
      "27      0.505018       0.506702  \n",
      "28      0.505018       0.489798  \n",
      "29      0.505018       0.493562  \n",
      "30      0.505018       0.501820  \n",
      "31      0.505018       0.504409  \n"
     ]
    }
   ],
   "source": [
    "# Display model comparison analysis runs\n",
    "def get_model_metrics_list(data):\n",
    "    if ('metrics' in data.keys()) and data['metrics']:\n",
    "        metrics = data['metrics']\n",
    "        return [metrics['ref_accuracy'], metrics['test_accuracy'], metrics['ref_f1'], metrics['test_f1']]\n",
    "    else:\n",
    "        return ['-', '-', '-']\n",
    "\n",
    "exp = mlflow.get_experiment_by_name('ModelComparison')\n",
    "runs = mlflow.list_run_infos(exp.experiment_id, max_results=100)\n",
    "table = []\n",
    "for r in runs:\n",
    "    exp_run = mlflow.get_run(r.run_id).to_dictionary()\n",
    "    path = exp_run['info']['artifact_uri'][6:]\n",
    "    config_file = os.path.join(path, 'config.json')\n",
    "    if not os.path.isfile(config_file):\n",
    "        continue\n",
    "    with open(config_file) as f:\n",
    "        data = json.load(f)\n",
    "        row = [data['reference'][-20:], data['test'][-20:]]\n",
    "        row = row + get_model_metrics_list(exp_run['data'])\n",
    "        table.append(row)\n",
    "frame = pd.DataFrame(table, columns=['Reference', 'Eval', 'Ref Acc', 'Eval Acc', 'Ref F1 Score', 'Eval F1 Score'])\n",
    "print('------------------- Model Peformance Comparison  ----------------------')\n",
    "print(frame)"
   ]
  },
  {
   "cell_type": "code",
   "execution_count": 3,
   "id": "destroyed-conviction",
   "metadata": {},
   "outputs": [
    {
     "data": {
      "image/png": "[encoded data removed]",
      "text/plain": [
       "<Figure size 1188x612 with 1 Axes>"
      ]
     },
     "metadata": {
      "needs_background": "light"
     },
     "output_type": "display_data"
    }
   ],
   "source": [
    "import matplotlib.pyplot as plt\n",
    "import numpy as np\n",
    "\n",
    "baseline = frame['Ref Acc'].values[0]\n",
    "frame = frame.sort_values('Eval', axis=0)\n",
    "fig = plt.figure()\n",
    "fig.set_size_inches(16.5, 8.5)\n",
    "ax = plt.axes()\n",
    "x = list(range(frame.shape[0]))\n",
    "labels = frame['Eval'].apply(lambda x: x[:8])\n",
    "\n",
    "y = frame['Eval Acc'].values\n",
    "plt.plot(x, y, '-', linewidth=3)\n",
    "ax.hlines(y=baseline, xmin = 0, xmax = max(x), linewidth=2, color='r')\n",
    "\n",
    "ax.set_xticks(x)\n",
    "# Set ticks labels for x-axis\n",
    "ax.set_xticklabels(labels.values, rotation='vertical', fontsize=11)\n",
    "\n",
    "plt.grid()\n",
    "plt.show()"
   ]
  },
  {
   "cell_type": "code",
   "execution_count": null,
   "id": "sudden-truth",
   "metadata": {},
   "outputs": [],
   "source": []
  }
 ],
 "metadata": {
  "kernelspec": {
   "display_name": "MK Env",
   "language": "python",
   "name": "mkenv"
  },
  "language_info": {
   "codemirror_mode": {
    "name": "ipython",
    "version": 3
   },
   "file_extension": ".py",
   "mimetype": "text/x-python",
   "name": "python",
   "nbconvert_exporter": "python",
   "pygments_lexer": "ipython3",
   "version": "3.8.12"
  }
 },
 "nbformat": 4,
 "nbformat_minor": 5
}
