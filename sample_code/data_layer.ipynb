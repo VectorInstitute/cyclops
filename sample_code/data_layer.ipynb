{
 "cells": [
  {
   "cell_type": "markdown",
   "id": "structured-extent",
   "metadata": {},
   "source": [
    "## Imports"
   ]
  },
  {
   "cell_type": "code",
   "execution_count": 1,
   "id": "orange-average",
   "metadata": {},
   "outputs": [
    {
     "name": "stderr",
     "output_type": "stream",
     "text": [
      "2022-03-07 10:09:52,872 \u001b[1;37mINFO\u001b[0m config          - Log file is /mnt/nfs/home/krishnanam/vector-delirium/log.log\n",
      "2022-03-07 10:09:52,887 \u001b[1;37mINFO\u001b[0m cyclops.processors.base - Log file is /mnt/nfs/home/krishnanam/vector-delirium/log.log\n",
      "2022-03-07 10:09:52,893 \u001b[1;37mINFO\u001b[0m cyclops.utils.profile - Log file is /mnt/nfs/home/krishnanam/vector-delirium/log.log\n",
      "2022-03-07 10:09:52,897 \u001b[1;37mINFO\u001b[0m cyclops.processors.admin - Log file is /mnt/nfs/home/krishnanam/vector-delirium/log.log\n",
      "2022-03-07 10:09:52,917 \u001b[1;37mINFO\u001b[0m cyclops.processors.vitals - Log file is /mnt/nfs/home/krishnanam/vector-delirium/log.log\n",
      "2022-03-07 10:09:52,931 \u001b[1;37mINFO\u001b[0m cyclops.processors.feature_handler - Log file is /mnt/nfs/home/krishnanam/vector-delirium/log.log\n",
      "2022-03-07 10:09:53,014 \u001b[1;37mINFO\u001b[0m cyclops.orm     - Log file is /mnt/nfs/home/krishnanam/vector-delirium/log.log\n"
     ]
    },
    {
     "data": {
      "application/javascript": [
       "\n",
       "            setTimeout(function() {\n",
       "                var nbb_cell_id = 1;\n",
       "                var nbb_unformatted_code = \"import sys\\n\\nsys.path.append(\\\"..\\\")\\n\\nimport pandas as pd\\nimport numpy as np\\nimport sqlalchemy\\nfrom sqlalchemy import select, func, extract, desc\\nfrom sqlalchemy.sql.expression import and_\\n\\nfrom evidently import ColumnMapping\\nfrom evidently.dashboard import Dashboard\\nfrom evidently.dashboard.tabs import DataQualityTab\\nfrom evidently.model_profile import Profile\\nfrom evidently.model_profile.sections import DataQualityProfileSection\\n\\nimport config\\nimport cyclops\\nfrom cyclops.processors.column_names import (\\n    ENCOUNTER_ID,\\n    HOSPITAL_ID,\\n    ADMIT_TIMESTAMP,\\n    DISCHARGE_TIMESTAMP,\\n    AGE,\\n    SEX,\\n    TOTAL_COST,\\n    CITY,\\n    PROVINCE,\\n    COUNTRY,\\n    LANGUAGE,\\n    VITAL_MEASUREMENT_NAME,\\n    VITAL_MEASUREMENT_VALUE,\\n    VITAL_MEASUREMENT_TIMESTAMP,\\n    REFERENCE_RANGE,\\n)\\nfrom cyclops.processors.constants import EMPTY_STRING\\nfrom cyclops.processors.admin import AdminProcessor\\nfrom cyclops.processors.vitals import VitalsProcessor\\nfrom cyclops.processors.feature_handler import FeatureHandler\\nfrom cyclops.orm import Database\\n\\n%load_ext autoreload\\n%load_ext nb_black\";\n",
       "                var nbb_formatted_code = \"import sys\\n\\nsys.path.append(\\\"..\\\")\\n\\nimport pandas as pd\\nimport numpy as np\\nimport sqlalchemy\\nfrom sqlalchemy import select, func, extract, desc\\nfrom sqlalchemy.sql.expression import and_\\n\\nfrom evidently import ColumnMapping\\nfrom evidently.dashboard import Dashboard\\nfrom evidently.dashboard.tabs import DataQualityTab\\nfrom evidently.model_profile import Profile\\nfrom evidently.model_profile.sections import DataQualityProfileSection\\n\\nimport config\\nimport cyclops\\nfrom cyclops.processors.column_names import (\\n    ENCOUNTER_ID,\\n    HOSPITAL_ID,\\n    ADMIT_TIMESTAMP,\\n    DISCHARGE_TIMESTAMP,\\n    AGE,\\n    SEX,\\n    TOTAL_COST,\\n    CITY,\\n    PROVINCE,\\n    COUNTRY,\\n    LANGUAGE,\\n    VITAL_MEASUREMENT_NAME,\\n    VITAL_MEASUREMENT_VALUE,\\n    VITAL_MEASUREMENT_TIMESTAMP,\\n    REFERENCE_RANGE,\\n)\\nfrom cyclops.processors.constants import EMPTY_STRING\\nfrom cyclops.processors.admin import AdminProcessor\\nfrom cyclops.processors.vitals import VitalsProcessor\\nfrom cyclops.processors.feature_handler import FeatureHandler\\nfrom cyclops.orm import Database\\n\\n%load_ext autoreload\\n%load_ext nb_black\";\n",
       "                var nbb_cells = Jupyter.notebook.get_cells();\n",
       "                for (var i = 0; i < nbb_cells.length; ++i) {\n",
       "                    if (nbb_cells[i].input_prompt_number == nbb_cell_id) {\n",
       "                        if (nbb_cells[i].get_text() == nbb_unformatted_code) {\n",
       "                             nbb_cells[i].set_text(nbb_formatted_code);\n",
       "                        }\n",
       "                        break;\n",
       "                    }\n",
       "                }\n",
       "            }, 500);\n",
       "            "
      ],
      "text/plain": [
       "<IPython.core.display.Javascript object>"
      ]
     },
     "metadata": {},
     "output_type": "display_data"
    }
   ],
   "source": [
    "import sys\n",
    "\n",
    "sys.path.append(\"..\")\n",
    "\n",
    "import pandas as pd\n",
    "import numpy as np\n",
    "import sqlalchemy\n",
    "from sqlalchemy import select, func, extract, desc\n",
    "from sqlalchemy.sql.expression import and_\n",
    "\n",
    "from evidently import ColumnMapping\n",
    "from evidently.dashboard import Dashboard\n",
    "from evidently.dashboard.tabs import DataQualityTab\n",
    "from evidently.model_profile import Profile\n",
    "from evidently.model_profile.sections import DataQualityProfileSection\n",
    "\n",
    "import config\n",
    "import cyclops\n",
    "from cyclops.processors.column_names import (\n",
    "    ENCOUNTER_ID,\n",
    "    HOSPITAL_ID,\n",
    "    ADMIT_TIMESTAMP,\n",
    "    DISCHARGE_TIMESTAMP,\n",
    "    AGE,\n",
    "    SEX,\n",
    "    TOTAL_COST,\n",
    "    CITY,\n",
    "    PROVINCE,\n",
    "    COUNTRY,\n",
    "    LANGUAGE,\n",
    "    VITAL_MEASUREMENT_NAME,\n",
    "    VITAL_MEASUREMENT_VALUE,\n",
    "    VITAL_MEASUREMENT_TIMESTAMP,\n",
    "    REFERENCE_RANGE,\n",
    ")\n",
    "from cyclops.processors.constants import EMPTY_STRING\n",
    "from cyclops.processors.admin import AdminProcessor\n",
    "from cyclops.processors.vitals import VitalsProcessor\n",
    "from cyclops.processors.feature_handler import FeatureHandler\n",
    "from cyclops.orm import Database\n",
    "\n",
    "%load_ext autoreload\n",
    "%load_ext nb_black"
   ]
  },
  {
   "cell_type": "markdown",
   "id": "capable-office",
   "metadata": {},
   "source": [
    "## Load config, setup ORM"
   ]
  },
  {
   "cell_type": "code",
   "execution_count": 2,
   "id": "enormous-brooks",
   "metadata": {},
   "outputs": [
    {
     "name": "stderr",
     "output_type": "stream",
     "text": [
      "2022-03-07 10:09:53,688 \u001b[1;37mINFO\u001b[0m cyclops.orm     - Database setup, ready to run queries!\n"
     ]
    },
    {
     "data": {
      "application/javascript": [
       "\n",
       "            setTimeout(function() {\n",
       "                var nbb_cell_id = 2;\n",
       "                var nbb_unformatted_code = \"cfg = config.read_config(\\\"../configs/default/*.yaml\\\")\\ndb = Database(cfg)\";\n",
       "                var nbb_formatted_code = \"cfg = config.read_config(\\\"../configs/default/*.yaml\\\")\\ndb = Database(cfg)\";\n",
       "                var nbb_cells = Jupyter.notebook.get_cells();\n",
       "                for (var i = 0; i < nbb_cells.length; ++i) {\n",
       "                    if (nbb_cells[i].input_prompt_number == nbb_cell_id) {\n",
       "                        if (nbb_cells[i].get_text() == nbb_unformatted_code) {\n",
       "                             nbb_cells[i].set_text(nbb_formatted_code);\n",
       "                        }\n",
       "                        break;\n",
       "                    }\n",
       "                }\n",
       "            }, 500);\n",
       "            "
      ],
      "text/plain": [
       "<IPython.core.display.Javascript object>"
      ]
     },
     "metadata": {},
     "output_type": "display_data"
    }
   ],
   "source": [
    "cfg = config.read_config(\"../configs/default/*.yaml\")\n",
    "db = Database(cfg)"
   ]
  },
  {
   "cell_type": "markdown",
   "id": "seasonal-momentum",
   "metadata": {},
   "source": [
    "## Quick check to see counts/sparsity of a certain field on GEMINI"
   ]
  },
  {
   "cell_type": "code",
   "execution_count": 3,
   "id": "further-release",
   "metadata": {},
   "outputs": [
    {
     "name": "stderr",
     "output_type": "stream",
     "text": [
      "2022-03-07 10:09:53,854 \u001b[1;37mINFO\u001b[0m cyclops.orm     - Query returned successfully!\n",
      "2022-03-07 10:09:53,857 \u001b[1;37mINFO\u001b[0m cyclops.utils.profile - Finished executing function run_query in 0.148423 s\n"
     ]
    },
    {
     "name": "stdout",
     "output_type": "stream",
     "text": [
      "Num. of unique values: 206\n",
      "         unique_values  unique_value_counts\n",
      "0                                    156141\n",
      "1              English                96756\n",
      "2              ENGLISH                36205\n",
      "3                  ENG                26434\n",
      "4                Other                 6306\n",
      "..                 ...                  ...\n",
      "95      Spanish & Eng.                    7\n",
      "96         Yugoslavian                    7\n",
      "97                 GUJ                    6\n",
      "98  Filipino (Ilocano)                    6\n",
      "99             Ilocano                    6\n",
      "\n",
      "[100 rows x 2 columns]\n"
     ]
    },
    {
     "data": {
      "application/javascript": [
       "\n",
       "            setTimeout(function() {\n",
       "                var nbb_cell_id = 3;\n",
       "                var nbb_unformatted_code = \"UNIQUE_VALUES = \\\"unique_values\\\"\\nUNIQUE_VALUE_COUNTS = \\\"unique_value_counts\\\"\\nunique_vals_field = db.public.ip_administrative.language\\nquery = select(\\n    unique_vals_field.label(UNIQUE_VALUES),\\n    func.count(unique_vals_field).label(UNIQUE_VALUE_COUNTS),\\n)\\nquery = query.group_by(UNIQUE_VALUES).order_by(desc(UNIQUE_VALUE_COUNTS))\\n\\ncounts = db.run_query(query)\\nprint(f\\\"Num. of unique values: {len(counts)}\\\")\\nprint(counts.head(100))\";\n",
       "                var nbb_formatted_code = \"UNIQUE_VALUES = \\\"unique_values\\\"\\nUNIQUE_VALUE_COUNTS = \\\"unique_value_counts\\\"\\nunique_vals_field = db.public.ip_administrative.language\\nquery = select(\\n    unique_vals_field.label(UNIQUE_VALUES),\\n    func.count(unique_vals_field).label(UNIQUE_VALUE_COUNTS),\\n)\\nquery = query.group_by(UNIQUE_VALUES).order_by(desc(UNIQUE_VALUE_COUNTS))\\n\\ncounts = db.run_query(query)\\nprint(f\\\"Num. of unique values: {len(counts)}\\\")\\nprint(counts.head(100))\";\n",
       "                var nbb_cells = Jupyter.notebook.get_cells();\n",
       "                for (var i = 0; i < nbb_cells.length; ++i) {\n",
       "                    if (nbb_cells[i].input_prompt_number == nbb_cell_id) {\n",
       "                        if (nbb_cells[i].get_text() == nbb_unformatted_code) {\n",
       "                             nbb_cells[i].set_text(nbb_formatted_code);\n",
       "                        }\n",
       "                        break;\n",
       "                    }\n",
       "                }\n",
       "            }, 500);\n",
       "            "
      ],
      "text/plain": [
       "<IPython.core.display.Javascript object>"
      ]
     },
     "metadata": {},
     "output_type": "display_data"
    }
   ],
   "source": [
    "UNIQUE_VALUES = \"unique_values\"\n",
    "UNIQUE_VALUE_COUNTS = \"unique_value_counts\"\n",
    "unique_vals_field = db.public.ip_administrative.language\n",
    "query = select(\n",
    "    unique_vals_field.label(UNIQUE_VALUES),\n",
    "    func.count(unique_vals_field).label(UNIQUE_VALUE_COUNTS),\n",
    ")\n",
    "query = query.group_by(UNIQUE_VALUES).order_by(desc(UNIQUE_VALUE_COUNTS))\n",
    "\n",
    "counts = db.run_query(query)\n",
    "print(f\"Num. of unique values: {len(counts)}\")\n",
    "print(counts.head(100))"
   ]
  },
  {
   "cell_type": "markdown",
   "id": "turned-recycling",
   "metadata": {},
   "source": [
    "## Extract slices"
   ]
  },
  {
   "cell_type": "code",
   "execution_count": 4,
   "id": "minute-liabilities",
   "metadata": {},
   "outputs": [
    {
     "data": {
      "application/javascript": [
       "\n",
       "            setTimeout(function() {\n",
       "                var nbb_cell_id = 4;\n",
       "                var nbb_unformatted_code = \"HOSPITAL = \\\"SMH\\\"\\nYEAR = 2020\\nLIMIT_LABS = 100000\\nLIMIT_MEDICATIONS = 100000\\nLIMIT_VITALS = 100000\";\n",
       "                var nbb_formatted_code = \"HOSPITAL = \\\"SMH\\\"\\nYEAR = 2020\\nLIMIT_LABS = 100000\\nLIMIT_MEDICATIONS = 100000\\nLIMIT_VITALS = 100000\";\n",
       "                var nbb_cells = Jupyter.notebook.get_cells();\n",
       "                for (var i = 0; i < nbb_cells.length; ++i) {\n",
       "                    if (nbb_cells[i].input_prompt_number == nbb_cell_id) {\n",
       "                        if (nbb_cells[i].get_text() == nbb_unformatted_code) {\n",
       "                             nbb_cells[i].set_text(nbb_formatted_code);\n",
       "                        }\n",
       "                        break;\n",
       "                    }\n",
       "                }\n",
       "            }, 500);\n",
       "            "
      ],
      "text/plain": [
       "<IPython.core.display.Javascript object>"
      ]
     },
     "metadata": {},
     "output_type": "display_data"
    }
   ],
   "source": [
    "HOSPITAL = \"SMH\"\n",
    "YEAR = 2020\n",
    "LIMIT_LABS = 100000\n",
    "LIMIT_MEDICATIONS = 100000\n",
    "LIMIT_VITALS = 100000"
   ]
  },
  {
   "cell_type": "markdown",
   "id": "dimensional-success",
   "metadata": {},
   "source": [
    "## Query to get admin + diagnosis"
   ]
  },
  {
   "cell_type": "code",
   "execution_count": 5,
   "id": "supreme-doctor",
   "metadata": {},
   "outputs": [
    {
     "name": "stderr",
     "output_type": "stream",
     "text": [
      "2022-03-07 10:09:54,528 \u001b[1;37mINFO\u001b[0m cyclops.orm     - Query returned successfully!\n",
      "2022-03-07 10:09:54,531 \u001b[1;37mINFO\u001b[0m cyclops.utils.profile - Finished executing function run_query in 0.629894 s\n"
     ]
    },
    {
     "name": "stdout",
     "output_type": "stream",
     "text": [
      "15840 rows fetched!\n"
     ]
    },
    {
     "data": {
      "application/javascript": [
       "\n",
       "            setTimeout(function() {\n",
       "                var nbb_cell_id = 5;\n",
       "                var nbb_unformatted_code = \"query = (\\n    select(db.public.ip_administrative.data, db.public.diagnosis.data)\\n    .where(\\n        and_(\\n            db.public.ip_administrative.hospital_id == HOSPITAL,\\n            extract(\\\"year\\\", db.public.ip_administrative.admit_date_time) == YEAR,\\n        )\\n    )\\n    .join(\\n        db.public.diagnosis.data,\\n        db.public.ip_administrative.genc_id == db.public.diagnosis.genc_id,\\n    )\\n)\\n\\ndata = db.run_query(query)\\nprint(f\\\"{len(data)} rows fetched!\\\")\";\n",
       "                var nbb_formatted_code = \"query = (\\n    select(db.public.ip_administrative.data, db.public.diagnosis.data)\\n    .where(\\n        and_(\\n            db.public.ip_administrative.hospital_id == HOSPITAL,\\n            extract(\\\"year\\\", db.public.ip_administrative.admit_date_time) == YEAR,\\n        )\\n    )\\n    .join(\\n        db.public.diagnosis.data,\\n        db.public.ip_administrative.genc_id == db.public.diagnosis.genc_id,\\n    )\\n)\\n\\ndata = db.run_query(query)\\nprint(f\\\"{len(data)} rows fetched!\\\")\";\n",
       "                var nbb_cells = Jupyter.notebook.get_cells();\n",
       "                for (var i = 0; i < nbb_cells.length; ++i) {\n",
       "                    if (nbb_cells[i].input_prompt_number == nbb_cell_id) {\n",
       "                        if (nbb_cells[i].get_text() == nbb_unformatted_code) {\n",
       "                             nbb_cells[i].set_text(nbb_formatted_code);\n",
       "                        }\n",
       "                        break;\n",
       "                    }\n",
       "                }\n",
       "            }, 500);\n",
       "            "
      ],
      "text/plain": [
       "<IPython.core.display.Javascript object>"
      ]
     },
     "metadata": {},
     "output_type": "display_data"
    }
   ],
   "source": [
    "query = (\n",
    "    select(db.public.ip_administrative.data, db.public.diagnosis.data)\n",
    "    .where(\n",
    "        and_(\n",
    "            db.public.ip_administrative.hospital_id == HOSPITAL,\n",
    "            extract(\"year\", db.public.ip_administrative.admit_date_time) == YEAR,\n",
    "        )\n",
    "    )\n",
    "    .join(\n",
    "        db.public.diagnosis.data,\n",
    "        db.public.ip_administrative.genc_id == db.public.diagnosis.genc_id,\n",
    "    )\n",
    ")\n",
    "\n",
    "data = db.run_query(query)\n",
    "print(f\"{len(data)} rows fetched!\")"
   ]
  },
  {
   "cell_type": "markdown",
   "id": "looking-documentation",
   "metadata": {},
   "source": [
    "## Query to get admin + labs"
   ]
  },
  {
   "cell_type": "code",
   "execution_count": 6,
   "id": "smaller-cylinder",
   "metadata": {},
   "outputs": [
    {
     "name": "stderr",
     "output_type": "stream",
     "text": [
      "2022-03-07 10:10:17,169 \u001b[1;37mINFO\u001b[0m cyclops.orm     - Query returned successfully!\n",
      "2022-03-07 10:10:17,175 \u001b[1;37mINFO\u001b[0m cyclops.utils.profile - Finished executing function run_query in 22.617504 s\n"
     ]
    },
    {
     "name": "stdout",
     "output_type": "stream",
     "text": [
      "100000 rows fetched!\n"
     ]
    },
    {
     "data": {
      "application/javascript": [
       "\n",
       "            setTimeout(function() {\n",
       "                var nbb_cell_id = 6;\n",
       "                var nbb_unformatted_code = \"query = (\\n    select(db.public.ip_administrative.data, db.public.lab.data)\\n    .where(\\n        and_(\\n            db.public.ip_administrative.hospital_id == HOSPITAL,\\n            extract(\\\"year\\\", db.public.ip_administrative.admit_date_time) == YEAR,\\n        )\\n    )\\n    .join(\\n        db.public.lab.data, db.public.ip_administrative.genc_id == db.public.lab.genc_id\\n    )\\n    .where(db.public.lab.lab_test_name_mapped != \\\"\\\")\\n    .limit(LIMIT_LABS)\\n)  # Use limit here, since lab queries can have millions of rows!\\ndata = db.run_query(query)\\nprint(f\\\"{len(data)} rows fetched!\\\")\";\n",
       "                var nbb_formatted_code = \"query = (\\n    select(db.public.ip_administrative.data, db.public.lab.data)\\n    .where(\\n        and_(\\n            db.public.ip_administrative.hospital_id == HOSPITAL,\\n            extract(\\\"year\\\", db.public.ip_administrative.admit_date_time) == YEAR,\\n        )\\n    )\\n    .join(\\n        db.public.lab.data, db.public.ip_administrative.genc_id == db.public.lab.genc_id\\n    )\\n    .where(db.public.lab.lab_test_name_mapped != \\\"\\\")\\n    .limit(LIMIT_LABS)\\n)  # Use limit here, since lab queries can have millions of rows!\\ndata = db.run_query(query)\\nprint(f\\\"{len(data)} rows fetched!\\\")\";\n",
       "                var nbb_cells = Jupyter.notebook.get_cells();\n",
       "                for (var i = 0; i < nbb_cells.length; ++i) {\n",
       "                    if (nbb_cells[i].input_prompt_number == nbb_cell_id) {\n",
       "                        if (nbb_cells[i].get_text() == nbb_unformatted_code) {\n",
       "                             nbb_cells[i].set_text(nbb_formatted_code);\n",
       "                        }\n",
       "                        break;\n",
       "                    }\n",
       "                }\n",
       "            }, 500);\n",
       "            "
      ],
      "text/plain": [
       "<IPython.core.display.Javascript object>"
      ]
     },
     "metadata": {},
     "output_type": "display_data"
    }
   ],
   "source": [
    "query = (\n",
    "    select(db.public.ip_administrative.data, db.public.lab.data)\n",
    "    .where(\n",
    "        and_(\n",
    "            db.public.ip_administrative.hospital_id == HOSPITAL,\n",
    "            extract(\"year\", db.public.ip_administrative.admit_date_time) == YEAR,\n",
    "        )\n",
    "    )\n",
    "    .join(\n",
    "        db.public.lab.data, db.public.ip_administrative.genc_id == db.public.lab.genc_id\n",
    "    )\n",
    "    .where(db.public.lab.lab_test_name_mapped != \"\")\n",
    "    .limit(LIMIT_LABS)\n",
    ")  # Use limit here, since lab queries can have millions of rows!\n",
    "data = db.run_query(query)\n",
    "print(f\"{len(data)} rows fetched!\")"
   ]
  },
  {
   "cell_type": "markdown",
   "id": "coated-contest",
   "metadata": {},
   "source": [
    "## Query to get admin + pharmacy"
   ]
  },
  {
   "cell_type": "code",
   "execution_count": 7,
   "id": "relevant-roads",
   "metadata": {},
   "outputs": [
    {
     "name": "stderr",
     "output_type": "stream",
     "text": [
      "2022-03-07 10:10:20,616 \u001b[1;37mINFO\u001b[0m cyclops.orm     - Query returned successfully!\n",
      "2022-03-07 10:10:20,621 \u001b[1;37mINFO\u001b[0m cyclops.utils.profile - Finished executing function run_query in 3.403121 s\n"
     ]
    },
    {
     "name": "stdout",
     "output_type": "stream",
     "text": [
      "76421 rows fetched!\n"
     ]
    },
    {
     "data": {
      "application/javascript": [
       "\n",
       "            setTimeout(function() {\n",
       "                var nbb_cell_id = 7;\n",
       "                var nbb_unformatted_code = \"query = (\\n    select(db.public.ip_administrative.data, db.public.pharmacy.data)\\n    .where(\\n        and_(\\n            db.public.ip_administrative.hospital_id == HOSPITAL,\\n            extract(\\\"year\\\", db.public.ip_administrative.admit_date_time) == YEAR,\\n        )\\n    )\\n    .join(\\n        db.public.pharmacy.data,\\n        db.public.ip_administrative.genc_id == db.public.pharmacy.genc_id,\\n    )\\n    .limit(LIMIT_MEDICATIONS)\\n)  # Use limit here, since pharmacy queries can have millions of rows!\\ndata = db.run_query(query)\\nprint(f\\\"{len(data)} rows fetched!\\\")\";\n",
       "                var nbb_formatted_code = \"query = (\\n    select(db.public.ip_administrative.data, db.public.pharmacy.data)\\n    .where(\\n        and_(\\n            db.public.ip_administrative.hospital_id == HOSPITAL,\\n            extract(\\\"year\\\", db.public.ip_administrative.admit_date_time) == YEAR,\\n        )\\n    )\\n    .join(\\n        db.public.pharmacy.data,\\n        db.public.ip_administrative.genc_id == db.public.pharmacy.genc_id,\\n    )\\n    .limit(LIMIT_MEDICATIONS)\\n)  # Use limit here, since pharmacy queries can have millions of rows!\\ndata = db.run_query(query)\\nprint(f\\\"{len(data)} rows fetched!\\\")\";\n",
       "                var nbb_cells = Jupyter.notebook.get_cells();\n",
       "                for (var i = 0; i < nbb_cells.length; ++i) {\n",
       "                    if (nbb_cells[i].input_prompt_number == nbb_cell_id) {\n",
       "                        if (nbb_cells[i].get_text() == nbb_unformatted_code) {\n",
       "                             nbb_cells[i].set_text(nbb_formatted_code);\n",
       "                        }\n",
       "                        break;\n",
       "                    }\n",
       "                }\n",
       "            }, 500);\n",
       "            "
      ],
      "text/plain": [
       "<IPython.core.display.Javascript object>"
      ]
     },
     "metadata": {},
     "output_type": "display_data"
    }
   ],
   "source": [
    "query = (\n",
    "    select(db.public.ip_administrative.data, db.public.pharmacy.data)\n",
    "    .where(\n",
    "        and_(\n",
    "            db.public.ip_administrative.hospital_id == HOSPITAL,\n",
    "            extract(\"year\", db.public.ip_administrative.admit_date_time) == YEAR,\n",
    "        )\n",
    "    )\n",
    "    .join(\n",
    "        db.public.pharmacy.data,\n",
    "        db.public.ip_administrative.genc_id == db.public.pharmacy.genc_id,\n",
    "    )\n",
    "    .limit(LIMIT_MEDICATIONS)\n",
    ")  # Use limit here, since pharmacy queries can have millions of rows!\n",
    "data = db.run_query(query)\n",
    "print(f\"{len(data)} rows fetched!\")"
   ]
  },
  {
   "cell_type": "markdown",
   "id": "diverse-assembly",
   "metadata": {},
   "source": [
    "## Query to get admin + vitals"
   ]
  },
  {
   "cell_type": "code",
   "execution_count": 8,
   "id": "crude-disclosure",
   "metadata": {},
   "outputs": [
    {
     "name": "stderr",
     "output_type": "stream",
     "text": [
      "2022-03-07 10:10:22,236 \u001b[1;37mINFO\u001b[0m cyclops.orm     - Query returned successfully!\n",
      "2022-03-07 10:10:22,239 \u001b[1;37mINFO\u001b[0m cyclops.utils.profile - Finished executing function run_query in 1.500492 s\n",
      "/mnt/nfs/project/delirium/dev_env/venv/lib/python3.8/site-packages/pandas/core/generic.py:2703: PerformanceWarning: \n",
      "your performance may suffer as PyTables will pickle object types that it cannot\n",
      "map directly to c-types [inferred_type->mixed,key->block2_values] [items->Index(['hospital_id', 'sex', 'language', 'total_cost',\n",
      "       'vital_measurement_name', 'vital_measurement_value', 'reference_range'],\n",
      "      dtype='object')]\n",
      "\n",
      "  pytables.to_hdf(\n"
     ]
    },
    {
     "name": "stdout",
     "output_type": "stream",
     "text": [
      "100000 rows fetched!\n"
     ]
    },
    {
     "data": {
      "application/javascript": [
       "\n",
       "            setTimeout(function() {\n",
       "                var nbb_cell_id = 8;\n",
       "                var nbb_unformatted_code = \"EXTRACT_SAVE_PATH = \\\"/mnt/nfs/project/delirium/_extract/vitals/extract.h5\\\"\\nquery = (\\n    select(\\n        db.public.ip_administrative.genc_id.label(ENCOUNTER_ID),\\n        db.public.ip_administrative.hospital_id.label(HOSPITAL_ID),\\n        db.public.ip_administrative.admit_date_time.label(ADMIT_TIMESTAMP),\\n        db.public.ip_administrative.discharge_date_time.label(DISCHARGE_TIMESTAMP),\\n        db.public.ip_administrative.age.label(AGE),\\n        db.public.ip_administrative.gender.label(SEX),\\n        db.public.ip_administrative.language.label(LANGUAGE),\\n        db.public.ip_administrative.total_cost.label(TOTAL_COST),\\n        db.public.vitals.measurement_mapped.label(VITAL_MEASUREMENT_NAME),\\n        db.public.vitals.measurement_value.label(VITAL_MEASUREMENT_VALUE),\\n        db.public.vitals.measure_date_time.label(VITAL_MEASUREMENT_TIMESTAMP),\\n        db.public.vitals.reference_range.label(REFERENCE_RANGE),\\n    )\\n    .where(\\n        and_(\\n            db.public.ip_administrative.hospital_id == HOSPITAL,\\n            extract(\\\"year\\\", db.public.ip_administrative.admit_date_time) == YEAR,\\n        )\\n    )\\n    .join(\\n        db.public.vitals.data,\\n        db.public.ip_administrative.genc_id == db.public.vitals.genc_id,\\n    )\\n    .where(\\n        db.public.vitals.measurement_mapped != EMPTY_STRING,\\n    )\\n    .limit(LIMIT_VITALS)\\n)\\nvitals_data = db.run_query(query)\\nprint(f\\\"{len(vitals_data)} rows fetched!\\\")\\nvitals_data.to_hdf(\\n    EXTRACT_SAVE_PATH,\\n    key=f\\\"query_gemini_admin_vitals_{HOSPITAL}_{YEAR}\\\",\\n)\";\n",
       "                var nbb_formatted_code = \"EXTRACT_SAVE_PATH = \\\"/mnt/nfs/project/delirium/_extract/vitals/extract.h5\\\"\\nquery = (\\n    select(\\n        db.public.ip_administrative.genc_id.label(ENCOUNTER_ID),\\n        db.public.ip_administrative.hospital_id.label(HOSPITAL_ID),\\n        db.public.ip_administrative.admit_date_time.label(ADMIT_TIMESTAMP),\\n        db.public.ip_administrative.discharge_date_time.label(DISCHARGE_TIMESTAMP),\\n        db.public.ip_administrative.age.label(AGE),\\n        db.public.ip_administrative.gender.label(SEX),\\n        db.public.ip_administrative.language.label(LANGUAGE),\\n        db.public.ip_administrative.total_cost.label(TOTAL_COST),\\n        db.public.vitals.measurement_mapped.label(VITAL_MEASUREMENT_NAME),\\n        db.public.vitals.measurement_value.label(VITAL_MEASUREMENT_VALUE),\\n        db.public.vitals.measure_date_time.label(VITAL_MEASUREMENT_TIMESTAMP),\\n        db.public.vitals.reference_range.label(REFERENCE_RANGE),\\n    )\\n    .where(\\n        and_(\\n            db.public.ip_administrative.hospital_id == HOSPITAL,\\n            extract(\\\"year\\\", db.public.ip_administrative.admit_date_time) == YEAR,\\n        )\\n    )\\n    .join(\\n        db.public.vitals.data,\\n        db.public.ip_administrative.genc_id == db.public.vitals.genc_id,\\n    )\\n    .where(\\n        db.public.vitals.measurement_mapped != EMPTY_STRING,\\n    )\\n    .limit(LIMIT_VITALS)\\n)\\nvitals_data = db.run_query(query)\\nprint(f\\\"{len(vitals_data)} rows fetched!\\\")\\nvitals_data.to_hdf(\\n    EXTRACT_SAVE_PATH,\\n    key=f\\\"query_gemini_admin_vitals_{HOSPITAL}_{YEAR}\\\",\\n)\";\n",
       "                var nbb_cells = Jupyter.notebook.get_cells();\n",
       "                for (var i = 0; i < nbb_cells.length; ++i) {\n",
       "                    if (nbb_cells[i].input_prompt_number == nbb_cell_id) {\n",
       "                        if (nbb_cells[i].get_text() == nbb_unformatted_code) {\n",
       "                             nbb_cells[i].set_text(nbb_formatted_code);\n",
       "                        }\n",
       "                        break;\n",
       "                    }\n",
       "                }\n",
       "            }, 500);\n",
       "            "
      ],
      "text/plain": [
       "<IPython.core.display.Javascript object>"
      ]
     },
     "metadata": {},
     "output_type": "display_data"
    }
   ],
   "source": [
    "EXTRACT_SAVE_PATH = \"/mnt/nfs/project/delirium/_extract/vitals/extract.h5\"\n",
    "query = (\n",
    "    select(\n",
    "        db.public.ip_administrative.genc_id.label(ENCOUNTER_ID),\n",
    "        db.public.ip_administrative.hospital_id.label(HOSPITAL_ID),\n",
    "        db.public.ip_administrative.admit_date_time.label(ADMIT_TIMESTAMP),\n",
    "        db.public.ip_administrative.discharge_date_time.label(DISCHARGE_TIMESTAMP),\n",
    "        db.public.ip_administrative.age.label(AGE),\n",
    "        db.public.ip_administrative.gender.label(SEX),\n",
    "        db.public.ip_administrative.language.label(LANGUAGE),\n",
    "        db.public.ip_administrative.total_cost.label(TOTAL_COST),\n",
    "        db.public.vitals.measurement_mapped.label(VITAL_MEASUREMENT_NAME),\n",
    "        db.public.vitals.measurement_value.label(VITAL_MEASUREMENT_VALUE),\n",
    "        db.public.vitals.measure_date_time.label(VITAL_MEASUREMENT_TIMESTAMP),\n",
    "        db.public.vitals.reference_range.label(REFERENCE_RANGE),\n",
    "    )\n",
    "    .where(\n",
    "        and_(\n",
    "            db.public.ip_administrative.hospital_id == HOSPITAL,\n",
    "            extract(\"year\", db.public.ip_administrative.admit_date_time) == YEAR,\n",
    "        )\n",
    "    )\n",
    "    .join(\n",
    "        db.public.vitals.data,\n",
    "        db.public.ip_administrative.genc_id == db.public.vitals.genc_id,\n",
    "    )\n",
    "    .where(\n",
    "        db.public.vitals.measurement_mapped != EMPTY_STRING,\n",
    "    )\n",
    "    .limit(LIMIT_VITALS)\n",
    ")\n",
    "vitals_data = db.run_query(query)\n",
    "print(f\"{len(vitals_data)} rows fetched!\")\n",
    "vitals_data.to_hdf(\n",
    "    EXTRACT_SAVE_PATH,\n",
    "    key=f\"query_gemini_admin_vitals_{HOSPITAL}_{YEAR}\",\n",
    ")"
   ]
  },
  {
   "cell_type": "markdown",
   "id": "phantom-raise",
   "metadata": {},
   "source": [
    "## Process Admin data"
   ]
  },
  {
   "cell_type": "code",
   "execution_count": 9,
   "id": "strange-southwest",
   "metadata": {},
   "outputs": [
    {
     "name": "stderr",
     "output_type": "stream",
     "text": [
      "2022-03-07 10:10:22,845 \u001b[1;37mINFO\u001b[0m cyclops.processors.base - Processing raw admin data...\n",
      "2022-03-07 10:10:22,848 \u001b[1;37mINFO\u001b[0m cyclops.processors.base - # samples: 100000, # encounters: 608\n",
      "2022-03-07 10:10:22,851 \u001b[1;37mINFO\u001b[0m cyclops.processors.admin - # admin features: 2, # encounters: 608\n",
      "2022-03-07 10:10:23,191 \u001b[1;37mINFO\u001b[0m cyclops.utils.profile - Finished executing function process in 0.346226 s\n"
     ]
    },
    {
     "data": {
      "application/javascript": [
       "\n",
       "            setTimeout(function() {\n",
       "                var nbb_cell_id = 9;\n",
       "                var nbb_unformatted_code = \"%autoreload 2\\n\\ndata = pd.read_hdf(\\n    EXTRACT_SAVE_PATH, key=f\\\"query_gemini_admin_vitals_{HOSPITAL}_{YEAR}\\\"\\n)\\nmust_have_columns = [ENCOUNTER_ID, AGE, SEX]\\n\\nadmin_processor = AdminProcessor(data, must_have_columns)\\nadmin_features = admin_processor.process()\\n\\nfeature_handler = FeatureHandler()\\nfeature_handler.add_features(admin_features)\";\n",
       "                var nbb_formatted_code = \"%autoreload 2\\n\\ndata = pd.read_hdf(\\n    EXTRACT_SAVE_PATH, key=f\\\"query_gemini_admin_vitals_{HOSPITAL}_{YEAR}\\\"\\n)\\nmust_have_columns = [ENCOUNTER_ID, AGE, SEX]\\n\\nadmin_processor = AdminProcessor(data, must_have_columns)\\nadmin_features = admin_processor.process()\\n\\nfeature_handler = FeatureHandler()\\nfeature_handler.add_features(admin_features)\";\n",
       "                var nbb_cells = Jupyter.notebook.get_cells();\n",
       "                for (var i = 0; i < nbb_cells.length; ++i) {\n",
       "                    if (nbb_cells[i].input_prompt_number == nbb_cell_id) {\n",
       "                        if (nbb_cells[i].get_text() == nbb_unformatted_code) {\n",
       "                             nbb_cells[i].set_text(nbb_formatted_code);\n",
       "                        }\n",
       "                        break;\n",
       "                    }\n",
       "                }\n",
       "            }, 500);\n",
       "            "
      ],
      "text/plain": [
       "<IPython.core.display.Javascript object>"
      ]
     },
     "metadata": {},
     "output_type": "display_data"
    }
   ],
   "source": [
    "%autoreload 2\n",
    "\n",
    "data = pd.read_hdf(\n",
    "    EXTRACT_SAVE_PATH, key=f\"query_gemini_admin_vitals_{HOSPITAL}_{YEAR}\"\n",
    ")\n",
    "must_have_columns = [ENCOUNTER_ID, AGE, SEX]\n",
    "\n",
    "admin_processor = AdminProcessor(data, must_have_columns)\n",
    "admin_features = admin_processor.process()\n",
    "\n",
    "feature_handler = FeatureHandler()\n",
    "feature_handler.add_features(admin_features)"
   ]
  },
  {
   "cell_type": "markdown",
   "id": "terminal-steal",
   "metadata": {},
   "source": [
    "## Merge back admin + vitals"
   ]
  },
  {
   "cell_type": "code",
   "execution_count": null,
   "id": "administrative-filter",
   "metadata": {},
   "outputs": [],
   "source": []
  },
  {
   "cell_type": "markdown",
   "id": "antique-shame",
   "metadata": {},
   "source": [
    "## Process vitals data"
   ]
  },
  {
   "cell_type": "code",
   "execution_count": 10,
   "id": "acoustic-testing",
   "metadata": {},
   "outputs": [
    {
     "name": "stderr",
     "output_type": "stream",
     "text": [
      "2022-03-07 10:10:23,408 \u001b[1;37mINFO\u001b[0m cyclops.processors.base - Processing raw vitals data...\n",
      "2022-03-07 10:10:23,412 \u001b[1;37mINFO\u001b[0m cyclops.processors.base - # samples: 100000, # encounters: 608\n",
      "2022-03-07 10:10:23,428 \u001b[1;37mINFO\u001b[0m cyclops.processors.base - Aggregating vitals within aggregation window...\n",
      "2022-03-07 10:10:23,431 \u001b[1;37mINFO\u001b[0m cyclops.processors.base - # samples: 15512, # encounters: 598\n",
      "2022-03-07 10:10:23,457 \u001b[1;37mINFO\u001b[0m cyclops.processors.base - Drop oxygen flow rate, saturation samples (unsupported)...\n",
      "2022-03-07 10:10:23,459 \u001b[1;37mINFO\u001b[0m cyclops.processors.base - # samples: 11704, # encounters: 598\n",
      "2022-03-07 10:10:23,495 \u001b[1;37mINFO\u001b[0m cyclops.processors.base - Convert Positive/Negative to 1/0...\n",
      "2022-03-07 10:10:23,497 \u001b[1;37mINFO\u001b[0m cyclops.processors.base - # samples: 11704, # encounters: 598\n",
      "2022-03-07 10:10:23,502 \u001b[1;37mINFO\u001b[0m cyclops.processors.base - Fill empty result string values with NaN...\n",
      "2022-03-07 10:10:23,504 \u001b[1;37mINFO\u001b[0m cyclops.processors.base - # samples: 11704, # encounters: 598\n",
      "2022-03-07 10:10:23,508 \u001b[1;37mINFO\u001b[0m cyclops.processors.vitals - Converting string result values to numeric...\n",
      "2022-03-07 10:10:23,509 \u001b[1;37mINFO\u001b[0m cyclops.processors.vitals - Creating features...\n",
      "2022-03-07 10:10:23,513 \u001b[1;37mINFO\u001b[0m cyclops.processors.vitals - # vitals features: 8, # encounters: 598\n",
      "2022-03-07 10:10:24,639 \u001b[1;37mINFO\u001b[0m cyclops.utils.profile - Finished executing function process in 1.230359 s\n"
     ]
    },
    {
     "name": "stdout",
     "output_type": "stream",
     "text": [
      "Reference range unique values\n",
      "['20-220' '50-250' '25-45' 'NA-NA' '20-200' '0-40' '20-500' '0-100']\n"
     ]
    },
    {
     "data": {
      "application/javascript": [
       "\n",
       "            setTimeout(function() {\n",
       "                var nbb_cell_id = 10;\n",
       "                var nbb_unformatted_code = \"%autoreload 2\\n\\ndata = pd.read_hdf(\\n    EXTRACT_SAVE_PATH, key=f\\\"query_gemini_admin_vitals_{HOSPITAL}_{YEAR}\\\"\\n)\\nmust_have_columns = [\\n    ENCOUNTER_ID,\\n    ADMIT_TIMESTAMP,\\n    VITAL_MEASUREMENT_NAME,\\n    VITAL_MEASUREMENT_VALUE,\\n    VITAL_MEASUREMENT_TIMESTAMP,\\n    REFERENCE_RANGE,\\n]\\nfeature_handler = FeatureHandler()\\nvitals_processor = VitalsProcessor(data, must_have_columns)\\nvitals_features = vitals_processor.process()\\nfeature_handler.add_features(vitals_features)\\n\\nprint(\\\"Reference range unique values\\\")\\nprint(vitals_processor.data[REFERENCE_RANGE].unique())\";\n",
       "                var nbb_formatted_code = \"%autoreload 2\\n\\ndata = pd.read_hdf(\\n    EXTRACT_SAVE_PATH, key=f\\\"query_gemini_admin_vitals_{HOSPITAL}_{YEAR}\\\"\\n)\\nmust_have_columns = [\\n    ENCOUNTER_ID,\\n    ADMIT_TIMESTAMP,\\n    VITAL_MEASUREMENT_NAME,\\n    VITAL_MEASUREMENT_VALUE,\\n    VITAL_MEASUREMENT_TIMESTAMP,\\n    REFERENCE_RANGE,\\n]\\nfeature_handler = FeatureHandler()\\nvitals_processor = VitalsProcessor(data, must_have_columns)\\nvitals_features = vitals_processor.process()\\nfeature_handler.add_features(vitals_features)\\n\\nprint(\\\"Reference range unique values\\\")\\nprint(vitals_processor.data[REFERENCE_RANGE].unique())\";\n",
       "                var nbb_cells = Jupyter.notebook.get_cells();\n",
       "                for (var i = 0; i < nbb_cells.length; ++i) {\n",
       "                    if (nbb_cells[i].input_prompt_number == nbb_cell_id) {\n",
       "                        if (nbb_cells[i].get_text() == nbb_unformatted_code) {\n",
       "                             nbb_cells[i].set_text(nbb_formatted_code);\n",
       "                        }\n",
       "                        break;\n",
       "                    }\n",
       "                }\n",
       "            }, 500);\n",
       "            "
      ],
      "text/plain": [
       "<IPython.core.display.Javascript object>"
      ]
     },
     "metadata": {},
     "output_type": "display_data"
    }
   ],
   "source": [
    "%autoreload 2\n",
    "\n",
    "data = pd.read_hdf(\n",
    "    EXTRACT_SAVE_PATH, key=f\"query_gemini_admin_vitals_{HOSPITAL}_{YEAR}\"\n",
    ")\n",
    "must_have_columns = [\n",
    "    ENCOUNTER_ID,\n",
    "    ADMIT_TIMESTAMP,\n",
    "    VITAL_MEASUREMENT_NAME,\n",
    "    VITAL_MEASUREMENT_VALUE,\n",
    "    VITAL_MEASUREMENT_TIMESTAMP,\n",
    "    REFERENCE_RANGE,\n",
    "]\n",
    "feature_handler = FeatureHandler()\n",
    "vitals_processor = VitalsProcessor(data, must_have_columns)\n",
    "vitals_features = vitals_processor.process()\n",
    "feature_handler.add_features(vitals_features)\n",
    "\n",
    "print(\"Reference range unique values\")\n",
    "print(vitals_processor.data[REFERENCE_RANGE].unique())"
   ]
  },
  {
   "cell_type": "markdown",
   "id": "powered-retention",
   "metadata": {},
   "source": [
    "## Data quality report (admin + vitals)"
   ]
  },
  {
   "cell_type": "code",
   "execution_count": 12,
   "id": "transsexual-convenience",
   "metadata": {},
   "outputs": [
    {
     "data": {
      "application/javascript": [
       "\n",
       "            setTimeout(function() {\n",
       "                var nbb_cell_id = 12;\n",
       "                var nbb_unformatted_code = \"dashboard = Dashboard(tabs=[DataQualityTab()])\\ncolumn_mapping = ColumnMapping(numerical_features=feature_handler.features.columns)\\ndashboard.calculate(\\n    reference_data=feature_handler.features, current_data=None, column_mapping=column_mapping\\n)\\ndashboard.save(f\\\"vitals_processed_{HOSPITAL}_{YEAR}.html\\\")\";\n",
       "                var nbb_formatted_code = \"dashboard = Dashboard(tabs=[DataQualityTab()])\\ncolumn_mapping = ColumnMapping(numerical_features=feature_handler.features.columns)\\ndashboard.calculate(\\n    reference_data=feature_handler.features,\\n    current_data=None,\\n    column_mapping=column_mapping,\\n)\\ndashboard.save(f\\\"vitals_processed_{HOSPITAL}_{YEAR}.html\\\")\";\n",
       "                var nbb_cells = Jupyter.notebook.get_cells();\n",
       "                for (var i = 0; i < nbb_cells.length; ++i) {\n",
       "                    if (nbb_cells[i].input_prompt_number == nbb_cell_id) {\n",
       "                        if (nbb_cells[i].get_text() == nbb_unformatted_code) {\n",
       "                             nbb_cells[i].set_text(nbb_formatted_code);\n",
       "                        }\n",
       "                        break;\n",
       "                    }\n",
       "                }\n",
       "            }, 500);\n",
       "            "
      ],
      "text/plain": [
       "<IPython.core.display.Javascript object>"
      ]
     },
     "metadata": {},
     "output_type": "display_data"
    }
   ],
   "source": [
    "dashboard = Dashboard(tabs=[DataQualityTab()])\n",
    "column_mapping = ColumnMapping(numerical_features=feature_handler.features.columns)\n",
    "dashboard.calculate(\n",
    "    reference_data=feature_handler.features,\n",
    "    current_data=None,\n",
    "    column_mapping=column_mapping,\n",
    ")\n",
    "dashboard.save(f\"vitals_processed_{HOSPITAL}_{YEAR}.html\")"
   ]
  }
 ],
 "metadata": {
  "kernelspec": {
   "display_name": "vector_delirium",
   "language": "python",
   "name": "vector_delirium"
  },
  "language_info": {
   "codemirror_mode": {
    "name": "ipython",
    "version": 3
   },
   "file_extension": ".py",
   "mimetype": "text/x-python",
   "name": "python",
   "nbconvert_exporter": "python",
   "pygments_lexer": "ipython3",
   "version": "3.8.5"
  }
 },
 "nbformat": 4,
 "nbformat_minor": 5
}
