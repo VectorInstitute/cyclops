{
 "cells": [
  {
   "cell_type": "markdown",
   "id": "structured-extent",
   "metadata": {},
   "source": [
    "## Imports"
   ]
  },
  {
   "cell_type": "code",
   "execution_count": 1,
   "id": "orange-average",
   "metadata": {},
   "outputs": [
    {
     "name": "stderr",
     "output_type": "stream",
     "text": [
      "2022-03-10 16:17:42,677 \u001b[1;37mINFO\u001b[0m config          - Log file is /mnt/nfs/home/krishnanam/vector-delirium/log.log\n",
      "2022-03-10 16:17:42,690 \u001b[1;37mINFO\u001b[0m cyclops.processors.base - Log file is /mnt/nfs/home/krishnanam/vector-delirium/log.log\n",
      "2022-03-10 16:17:42,728 \u001b[1;37mINFO\u001b[0m cyclops.utils.profile - Log file is /mnt/nfs/home/krishnanam/vector-delirium/log.log\n",
      "2022-03-10 16:17:42,754 \u001b[1;37mINFO\u001b[0m cyclops.processors.admin - Log file is /mnt/nfs/home/krishnanam/vector-delirium/log.log\n",
      "2022-03-10 16:17:42,776 \u001b[1;37mINFO\u001b[0m cyclops.processors.vitals - Log file is /mnt/nfs/home/krishnanam/vector-delirium/log.log\n",
      "2022-03-10 16:17:42,828 \u001b[1;37mINFO\u001b[0m cyclops.processors.labs - Log file is /mnt/nfs/home/krishnanam/vector-delirium/log.log\n",
      "2022-03-10 16:17:42,910 \u001b[1;37mINFO\u001b[0m cyclops.processors.outcomes - Log file is /mnt/nfs/home/krishnanam/vector-delirium/log.log\n",
      "2022-03-10 16:17:43,815 \u001b[1;37mINFO\u001b[0m cyclops.processors.feature_handler - Log file is /mnt/nfs/home/krishnanam/vector-delirium/log.log\n",
      "2022-03-10 16:17:43,959 \u001b[1;37mINFO\u001b[0m cyclops.orm     - Log file is /mnt/nfs/home/krishnanam/vector-delirium/log.log\n"
     ]
    },
    {
     "data": {
      "application/javascript": [
       "\n",
       "            setTimeout(function() {\n",
       "                var nbb_cell_id = 1;\n",
       "                var nbb_unformatted_code = \"import sys\\nfrom functools import reduce\\n\\nsys.path.append(\\\"..\\\")\\n\\nimport pandas as pd\\nimport numpy as np\\nimport sqlalchemy\\nfrom sqlalchemy import select, func, extract, desc\\nfrom sqlalchemy.sql.expression import and_\\n\\nfrom evidently import ColumnMapping\\nfrom evidently.dashboard import Dashboard\\nfrom evidently.dashboard.tabs import DataQualityTab\\nfrom evidently.model_profile import Profile\\nfrom evidently.model_profile.sections import DataQualityProfileSection\\n\\nimport config\\nimport cyclops\\nfrom cyclops.processors.column_names import (\\n    ENCOUNTER_ID,\\n    HOSPITAL_ID,\\n    ADMIT_TIMESTAMP,\\n    DISCHARGE_TIMESTAMP,\\n    DISCHARGE_DISPOSITION,\\n    READMISSION,\\n    AGE,\\n    SEX,\\n    TOTAL_COST,\\n    CITY,\\n    PROVINCE,\\n    COUNTRY,\\n    LANGUAGE,\\n    LENGTH_OF_STAY_IN_ER,\\n    VITAL_MEASUREMENT_NAME,\\n    VITAL_MEASUREMENT_VALUE,\\n    VITAL_MEASUREMENT_TIMESTAMP,\\n    LAB_TEST_NAME,\\n    LAB_TEST_TIMESTAMP,\\n    LAB_TEST_RESULT_VALUE,\\n    LAB_TEST_RESULT_UNIT,\\n    REFERENCE_RANGE,\\n)\\nfrom cyclops.processors.constants import EMPTY_STRING\\nfrom cyclops.processors.admin import AdminProcessor\\nfrom cyclops.processors.vitals import VitalsProcessor\\nfrom cyclops.processors.labs import LabsProcessor\\nfrom cyclops.processors.outcomes import OutcomesProcessor\\nfrom cyclops.processors.feature_handler import FeatureHandler\\nfrom cyclops.orm import Database\\n\\n%load_ext autoreload\\n%load_ext nb_black\";\n",
       "                var nbb_formatted_code = \"import sys\\nfrom functools import reduce\\n\\nsys.path.append(\\\"..\\\")\\n\\nimport pandas as pd\\nimport numpy as np\\nimport sqlalchemy\\nfrom sqlalchemy import select, func, extract, desc\\nfrom sqlalchemy.sql.expression import and_\\n\\nfrom evidently import ColumnMapping\\nfrom evidently.dashboard import Dashboard\\nfrom evidently.dashboard.tabs import DataQualityTab\\nfrom evidently.model_profile import Profile\\nfrom evidently.model_profile.sections import DataQualityProfileSection\\n\\nimport config\\nimport cyclops\\nfrom cyclops.processors.column_names import (\\n    ENCOUNTER_ID,\\n    HOSPITAL_ID,\\n    ADMIT_TIMESTAMP,\\n    DISCHARGE_TIMESTAMP,\\n    DISCHARGE_DISPOSITION,\\n    READMISSION,\\n    AGE,\\n    SEX,\\n    TOTAL_COST,\\n    CITY,\\n    PROVINCE,\\n    COUNTRY,\\n    LANGUAGE,\\n    LENGTH_OF_STAY_IN_ER,\\n    VITAL_MEASUREMENT_NAME,\\n    VITAL_MEASUREMENT_VALUE,\\n    VITAL_MEASUREMENT_TIMESTAMP,\\n    LAB_TEST_NAME,\\n    LAB_TEST_TIMESTAMP,\\n    LAB_TEST_RESULT_VALUE,\\n    LAB_TEST_RESULT_UNIT,\\n    REFERENCE_RANGE,\\n)\\nfrom cyclops.processors.constants import EMPTY_STRING\\nfrom cyclops.processors.admin import AdminProcessor\\nfrom cyclops.processors.vitals import VitalsProcessor\\nfrom cyclops.processors.labs import LabsProcessor\\nfrom cyclops.processors.outcomes import OutcomesProcessor\\nfrom cyclops.processors.feature_handler import FeatureHandler\\nfrom cyclops.orm import Database\\n\\n%load_ext autoreload\\n%load_ext nb_black\";\n",
       "                var nbb_cells = Jupyter.notebook.get_cells();\n",
       "                for (var i = 0; i < nbb_cells.length; ++i) {\n",
       "                    if (nbb_cells[i].input_prompt_number == nbb_cell_id) {\n",
       "                        if (nbb_cells[i].get_text() == nbb_unformatted_code) {\n",
       "                             nbb_cells[i].set_text(nbb_formatted_code);\n",
       "                        }\n",
       "                        break;\n",
       "                    }\n",
       "                }\n",
       "            }, 500);\n",
       "            "
      ],
      "text/plain": [
       "<IPython.core.display.Javascript object>"
      ]
     },
     "metadata": {},
     "output_type": "display_data"
    }
   ],
   "source": [
    "import sys\n",
    "from functools import reduce\n",
    "\n",
    "sys.path.append(\"..\")\n",
    "\n",
    "import pandas as pd\n",
    "import numpy as np\n",
    "import sqlalchemy\n",
    "from sqlalchemy import select, func, extract, desc\n",
    "from sqlalchemy.sql.expression import and_\n",
    "\n",
    "from evidently import ColumnMapping\n",
    "from evidently.dashboard import Dashboard\n",
    "from evidently.dashboard.tabs import DataQualityTab\n",
    "from evidently.model_profile import Profile\n",
    "from evidently.model_profile.sections import DataQualityProfileSection\n",
    "\n",
    "import config\n",
    "import cyclops\n",
    "from cyclops.processors.column_names import (\n",
    "    ENCOUNTER_ID,\n",
    "    HOSPITAL_ID,\n",
    "    ADMIT_TIMESTAMP,\n",
    "    DISCHARGE_TIMESTAMP,\n",
    "    DISCHARGE_DISPOSITION,\n",
    "    READMISSION,\n",
    "    AGE,\n",
    "    SEX,\n",
    "    TOTAL_COST,\n",
    "    CITY,\n",
    "    PROVINCE,\n",
    "    COUNTRY,\n",
    "    LANGUAGE,\n",
    "    LENGTH_OF_STAY_IN_ER,\n",
    "    VITAL_MEASUREMENT_NAME,\n",
    "    VITAL_MEASUREMENT_VALUE,\n",
    "    VITAL_MEASUREMENT_TIMESTAMP,\n",
    "    LAB_TEST_NAME,\n",
    "    LAB_TEST_TIMESTAMP,\n",
    "    LAB_TEST_RESULT_VALUE,\n",
    "    LAB_TEST_RESULT_UNIT,\n",
    "    REFERENCE_RANGE,\n",
    ")\n",
    "from cyclops.processors.constants import EMPTY_STRING\n",
    "from cyclops.processors.admin import AdminProcessor\n",
    "from cyclops.processors.vitals import VitalsProcessor\n",
    "from cyclops.processors.labs import LabsProcessor\n",
    "from cyclops.processors.outcomes import OutcomesProcessor\n",
    "from cyclops.processors.feature_handler import FeatureHandler\n",
    "from cyclops.orm import Database\n",
    "\n",
    "%load_ext autoreload\n",
    "%load_ext nb_black"
   ]
  },
  {
   "cell_type": "markdown",
   "id": "capable-office",
   "metadata": {},
   "source": [
    "## Load config, setup ORM"
   ]
  },
  {
   "cell_type": "code",
   "execution_count": 2,
   "id": "enormous-brooks",
   "metadata": {},
   "outputs": [
    {
     "name": "stderr",
     "output_type": "stream",
     "text": [
      "2022-03-10 16:17:44,832 \u001b[1;37mINFO\u001b[0m cyclops.orm     - Database setup, ready to run queries!\n"
     ]
    },
    {
     "data": {
      "application/javascript": [
       "\n",
       "            setTimeout(function() {\n",
       "                var nbb_cell_id = 2;\n",
       "                var nbb_unformatted_code = \"cfg = config.read_config(\\\"../configs/default/*.yaml\\\")\\ndb = Database(cfg)\";\n",
       "                var nbb_formatted_code = \"cfg = config.read_config(\\\"../configs/default/*.yaml\\\")\\ndb = Database(cfg)\";\n",
       "                var nbb_cells = Jupyter.notebook.get_cells();\n",
       "                for (var i = 0; i < nbb_cells.length; ++i) {\n",
       "                    if (nbb_cells[i].input_prompt_number == nbb_cell_id) {\n",
       "                        if (nbb_cells[i].get_text() == nbb_unformatted_code) {\n",
       "                             nbb_cells[i].set_text(nbb_formatted_code);\n",
       "                        }\n",
       "                        break;\n",
       "                    }\n",
       "                }\n",
       "            }, 500);\n",
       "            "
      ],
      "text/plain": [
       "<IPython.core.display.Javascript object>"
      ]
     },
     "metadata": {},
     "output_type": "display_data"
    }
   ],
   "source": [
    "cfg = config.read_config(\"../configs/default/*.yaml\")\n",
    "db = Database(cfg)"
   ]
  },
  {
   "cell_type": "markdown",
   "id": "seasonal-momentum",
   "metadata": {},
   "source": [
    "## Quick check to see counts/sparsity of a certain field on GEMINI"
   ]
  },
  {
   "cell_type": "code",
   "execution_count": 3,
   "id": "further-release",
   "metadata": {},
   "outputs": [
    {
     "name": "stderr",
     "output_type": "stream",
     "text": [
      "2022-03-10 16:17:45,242 \u001b[1;37mINFO\u001b[0m cyclops.orm     - Query returned successfully!\n",
      "2022-03-10 16:17:45,245 \u001b[1;37mINFO\u001b[0m cyclops.utils.profile - Finished executing function run_query in 0.145718 s\n"
     ]
    },
    {
     "name": "stdout",
     "output_type": "stream",
     "text": [
      "Num. of unique values: 206\n",
      "         unique_values  unique_value_counts\n",
      "0                                    156141\n",
      "1              English                96756\n",
      "2              ENGLISH                36205\n",
      "3                  ENG                26434\n",
      "4                Other                 6306\n",
      "..                 ...                  ...\n",
      "95      Spanish & Eng.                    7\n",
      "96         Yugoslavian                    7\n",
      "97                 GUJ                    6\n",
      "98  Filipino (Ilocano)                    6\n",
      "99             Ilocano                    6\n",
      "\n",
      "[100 rows x 2 columns]\n"
     ]
    },
    {
     "data": {
      "application/javascript": [
       "\n",
       "            setTimeout(function() {\n",
       "                var nbb_cell_id = 3;\n",
       "                var nbb_unformatted_code = \"UNIQUE_VALUES = \\\"unique_values\\\"\\nUNIQUE_VALUE_COUNTS = \\\"unique_value_counts\\\"\\nunique_vals_field = db.public.ip_administrative.language\\nquery = select(\\n    unique_vals_field.label(UNIQUE_VALUES),\\n    func.count(unique_vals_field).label(UNIQUE_VALUE_COUNTS),\\n)\\nquery = query.group_by(UNIQUE_VALUES).order_by(desc(UNIQUE_VALUE_COUNTS))\\n\\ncounts = db.run_query(query)\\nprint(f\\\"Num. of unique values: {len(counts)}\\\")\\nprint(counts.head(100))\";\n",
       "                var nbb_formatted_code = \"UNIQUE_VALUES = \\\"unique_values\\\"\\nUNIQUE_VALUE_COUNTS = \\\"unique_value_counts\\\"\\nunique_vals_field = db.public.ip_administrative.language\\nquery = select(\\n    unique_vals_field.label(UNIQUE_VALUES),\\n    func.count(unique_vals_field).label(UNIQUE_VALUE_COUNTS),\\n)\\nquery = query.group_by(UNIQUE_VALUES).order_by(desc(UNIQUE_VALUE_COUNTS))\\n\\ncounts = db.run_query(query)\\nprint(f\\\"Num. of unique values: {len(counts)}\\\")\\nprint(counts.head(100))\";\n",
       "                var nbb_cells = Jupyter.notebook.get_cells();\n",
       "                for (var i = 0; i < nbb_cells.length; ++i) {\n",
       "                    if (nbb_cells[i].input_prompt_number == nbb_cell_id) {\n",
       "                        if (nbb_cells[i].get_text() == nbb_unformatted_code) {\n",
       "                             nbb_cells[i].set_text(nbb_formatted_code);\n",
       "                        }\n",
       "                        break;\n",
       "                    }\n",
       "                }\n",
       "            }, 500);\n",
       "            "
      ],
      "text/plain": [
       "<IPython.core.display.Javascript object>"
      ]
     },
     "metadata": {},
     "output_type": "display_data"
    }
   ],
   "source": [
    "UNIQUE_VALUES = \"unique_values\"\n",
    "UNIQUE_VALUE_COUNTS = \"unique_value_counts\"\n",
    "unique_vals_field = db.public.ip_administrative.language\n",
    "query = select(\n",
    "    unique_vals_field.label(UNIQUE_VALUES),\n",
    "    func.count(unique_vals_field).label(UNIQUE_VALUE_COUNTS),\n",
    ")\n",
    "query = query.group_by(UNIQUE_VALUES).order_by(desc(UNIQUE_VALUE_COUNTS))\n",
    "\n",
    "counts = db.run_query(query)\n",
    "print(f\"Num. of unique values: {len(counts)}\")\n",
    "print(counts.head(100))"
   ]
  },
  {
   "cell_type": "markdown",
   "id": "turned-recycling",
   "metadata": {},
   "source": [
    "## Extract slices"
   ]
  },
  {
   "cell_type": "code",
   "execution_count": 4,
   "id": "minute-liabilities",
   "metadata": {},
   "outputs": [
    {
     "data": {
      "application/javascript": [
       "\n",
       "            setTimeout(function() {\n",
       "                var nbb_cell_id = 4;\n",
       "                var nbb_unformatted_code = \"HOSPITALS = [\\\"SMH\\\"]\\nYEARS = [2018, 2019, 2020]\\nLIMIT_LABS = 100000\\nLIMIT_MEDICATIONS = 100000\\nLIMIT_VITALS = 100000\\n\\nEXTRACT_SAVE_PATH = \\\"/mnt/nfs/project/delirium/_extract/first_models/extract.h5\\\"\";\n",
       "                var nbb_formatted_code = \"HOSPITALS = [\\\"SMH\\\"]\\nYEARS = [2018, 2019, 2020]\\nLIMIT_LABS = 100000\\nLIMIT_MEDICATIONS = 100000\\nLIMIT_VITALS = 100000\\n\\nEXTRACT_SAVE_PATH = \\\"/mnt/nfs/project/delirium/_extract/first_models/extract.h5\\\"\";\n",
       "                var nbb_cells = Jupyter.notebook.get_cells();\n",
       "                for (var i = 0; i < nbb_cells.length; ++i) {\n",
       "                    if (nbb_cells[i].input_prompt_number == nbb_cell_id) {\n",
       "                        if (nbb_cells[i].get_text() == nbb_unformatted_code) {\n",
       "                             nbb_cells[i].set_text(nbb_formatted_code);\n",
       "                        }\n",
       "                        break;\n",
       "                    }\n",
       "                }\n",
       "            }, 500);\n",
       "            "
      ],
      "text/plain": [
       "<IPython.core.display.Javascript object>"
      ]
     },
     "metadata": {},
     "output_type": "display_data"
    }
   ],
   "source": [
    "HOSPITALS = [\"SMH\"]\n",
    "YEARS = [2018, 2019, 2020]\n",
    "LIMIT_LABS = 100000\n",
    "LIMIT_MEDICATIONS = 100000\n",
    "LIMIT_VITALS = 100000\n",
    "\n",
    "EXTRACT_SAVE_PATH = \"/mnt/nfs/project/delirium/_extract/first_models/extract.h5\""
   ]
  },
  {
   "cell_type": "markdown",
   "id": "vertical-booth",
   "metadata": {},
   "source": [
    "## Query just admin data"
   ]
  },
  {
   "cell_type": "code",
   "execution_count": 5,
   "id": "suburban-breach",
   "metadata": {},
   "outputs": [
    {
     "name": "stderr",
     "output_type": "stream",
     "text": [
      "2022-03-10 16:17:45,628 \u001b[1;37mINFO\u001b[0m cyclops.orm     - Query returned successfully!\n",
      "2022-03-10 16:17:45,630 \u001b[1;37mINFO\u001b[0m cyclops.utils.profile - Finished executing function run_query in 0.091586 s\n"
     ]
    },
    {
     "name": "stdout",
     "output_type": "stream",
     "text": [
      "10756 rows fetched!\n"
     ]
    },
    {
     "data": {
      "application/javascript": [
       "\n",
       "            setTimeout(function() {\n",
       "                var nbb_cell_id = 5;\n",
       "                var nbb_unformatted_code = \"query = select(\\n    db.public.ip_administrative.genc_id.label(ENCOUNTER_ID),\\n    db.public.ip_administrative.hospital_id.label(HOSPITAL_ID),\\n    db.public.ip_administrative.admit_date_time.label(ADMIT_TIMESTAMP),\\n    db.public.ip_administrative.discharge_date_time.label(DISCHARGE_TIMESTAMP),\\n    db.public.ip_administrative.discharge_disposition.label(DISCHARGE_DISPOSITION),\\n    db.public.ip_administrative.age.label(AGE),\\n    db.public.ip_administrative.gender.label(SEX),\\n).where(\\n    and_(\\n        db.public.ip_administrative.hospital_id.in_(HOSPITALS),\\n        extract(\\\"year\\\", db.public.ip_administrative.admit_date_time).in_(YEARS),\\n    )\\n)\\nadmin_labs_data = db.run_query(query)\\nprint(f\\\"{len(admin_labs_data)} rows fetched!\\\")\\nadmin_labs_data.to_hdf(\\n    EXTRACT_SAVE_PATH,\\n    key=f\\\"query_gemini_admin\\\",\\n)\";\n",
       "                var nbb_formatted_code = \"query = select(\\n    db.public.ip_administrative.genc_id.label(ENCOUNTER_ID),\\n    db.public.ip_administrative.hospital_id.label(HOSPITAL_ID),\\n    db.public.ip_administrative.admit_date_time.label(ADMIT_TIMESTAMP),\\n    db.public.ip_administrative.discharge_date_time.label(DISCHARGE_TIMESTAMP),\\n    db.public.ip_administrative.discharge_disposition.label(DISCHARGE_DISPOSITION),\\n    db.public.ip_administrative.age.label(AGE),\\n    db.public.ip_administrative.gender.label(SEX),\\n).where(\\n    and_(\\n        db.public.ip_administrative.hospital_id.in_(HOSPITALS),\\n        extract(\\\"year\\\", db.public.ip_administrative.admit_date_time).in_(YEARS),\\n    )\\n)\\nadmin_labs_data = db.run_query(query)\\nprint(f\\\"{len(admin_labs_data)} rows fetched!\\\")\\nadmin_labs_data.to_hdf(\\n    EXTRACT_SAVE_PATH,\\n    key=f\\\"query_gemini_admin\\\",\\n)\";\n",
       "                var nbb_cells = Jupyter.notebook.get_cells();\n",
       "                for (var i = 0; i < nbb_cells.length; ++i) {\n",
       "                    if (nbb_cells[i].input_prompt_number == nbb_cell_id) {\n",
       "                        if (nbb_cells[i].get_text() == nbb_unformatted_code) {\n",
       "                             nbb_cells[i].set_text(nbb_formatted_code);\n",
       "                        }\n",
       "                        break;\n",
       "                    }\n",
       "                }\n",
       "            }, 500);\n",
       "            "
      ],
      "text/plain": [
       "<IPython.core.display.Javascript object>"
      ]
     },
     "metadata": {},
     "output_type": "display_data"
    }
   ],
   "source": [
    "query = select(\n",
    "    db.public.ip_administrative.genc_id.label(ENCOUNTER_ID),\n",
    "    db.public.ip_administrative.hospital_id.label(HOSPITAL_ID),\n",
    "    db.public.ip_administrative.admit_date_time.label(ADMIT_TIMESTAMP),\n",
    "    db.public.ip_administrative.discharge_date_time.label(DISCHARGE_TIMESTAMP),\n",
    "    db.public.ip_administrative.discharge_disposition.label(DISCHARGE_DISPOSITION),\n",
    "    db.public.ip_administrative.age.label(AGE),\n",
    "    db.public.ip_administrative.gender.label(SEX),\n",
    ").where(\n",
    "    and_(\n",
    "        db.public.ip_administrative.hospital_id.in_(HOSPITALS),\n",
    "        extract(\"year\", db.public.ip_administrative.admit_date_time).in_(YEARS),\n",
    "    )\n",
    ")\n",
    "admin_labs_data = db.run_query(query)\n",
    "print(f\"{len(admin_labs_data)} rows fetched!\")\n",
    "admin_labs_data.to_hdf(\n",
    "    EXTRACT_SAVE_PATH,\n",
    "    key=f\"query_gemini_admin\",\n",
    ")"
   ]
  },
  {
   "cell_type": "markdown",
   "id": "looking-documentation",
   "metadata": {},
   "source": [
    "## Query to get admin + labs"
   ]
  },
  {
   "cell_type": "code",
   "execution_count": 6,
   "id": "smaller-cylinder",
   "metadata": {},
   "outputs": [
    {
     "name": "stderr",
     "output_type": "stream",
     "text": [
      "2022-03-10 16:18:10,646 \u001b[1;37mINFO\u001b[0m cyclops.orm     - Query returned successfully!\n",
      "2022-03-10 16:18:10,651 \u001b[1;37mINFO\u001b[0m cyclops.utils.profile - Finished executing function run_query in 24.685511 s\n"
     ]
    },
    {
     "name": "stdout",
     "output_type": "stream",
     "text": [
      "100000 rows fetched!\n"
     ]
    },
    {
     "data": {
      "application/javascript": [
       "\n",
       "            setTimeout(function() {\n",
       "                var nbb_cell_id = 6;\n",
       "                var nbb_unformatted_code = \"query = (\\n    select(\\n        db.public.ip_administrative.genc_id.label(ENCOUNTER_ID),\\n        db.public.ip_administrative.hospital_id.label(HOSPITAL_ID),\\n        db.public.ip_administrative.admit_date_time.label(ADMIT_TIMESTAMP),\\n        db.public.ip_administrative.discharge_date_time.label(DISCHARGE_TIMESTAMP),\\n        db.public.lab.lab_test_name_mapped.label(LAB_TEST_NAME),\\n        db.public.lab.result_value.label(LAB_TEST_RESULT_VALUE),\\n        db.public.lab.result_unit.label(LAB_TEST_RESULT_UNIT),\\n        db.public.lab.sample_collection_date_time.label(LAB_TEST_TIMESTAMP),\\n        db.public.lab.reference_range.label(REFERENCE_RANGE),\\n    )\\n    .where(\\n        and_(\\n            db.public.ip_administrative.hospital_id.in_(HOSPITALS),\\n            extract(\\\"year\\\", db.public.ip_administrative.admit_date_time).in_(YEARS),\\n            db.public.lab.lab_test_name_mapped != EMPTY_STRING,\\n        )\\n    )\\n    .join(\\n        db.public.lab.data,\\n        db.public.ip_administrative.genc_id == db.public.lab.genc_id,\\n    )\\n    .limit(LIMIT_LABS)\\n)  # Use limit here, since lab queries can have millions of rows!\\nadmin_labs_data = db.run_query(query)\\nprint(f\\\"{len(admin_labs_data)} rows fetched!\\\")\\nadmin_labs_data.to_hdf(\\n    EXTRACT_SAVE_PATH,\\n    key=f\\\"query_gemini_admin_labs\\\",\\n)\";\n",
       "                var nbb_formatted_code = \"query = (\\n    select(\\n        db.public.ip_administrative.genc_id.label(ENCOUNTER_ID),\\n        db.public.ip_administrative.hospital_id.label(HOSPITAL_ID),\\n        db.public.ip_administrative.admit_date_time.label(ADMIT_TIMESTAMP),\\n        db.public.ip_administrative.discharge_date_time.label(DISCHARGE_TIMESTAMP),\\n        db.public.lab.lab_test_name_mapped.label(LAB_TEST_NAME),\\n        db.public.lab.result_value.label(LAB_TEST_RESULT_VALUE),\\n        db.public.lab.result_unit.label(LAB_TEST_RESULT_UNIT),\\n        db.public.lab.sample_collection_date_time.label(LAB_TEST_TIMESTAMP),\\n        db.public.lab.reference_range.label(REFERENCE_RANGE),\\n    )\\n    .where(\\n        and_(\\n            db.public.ip_administrative.hospital_id.in_(HOSPITALS),\\n            extract(\\\"year\\\", db.public.ip_administrative.admit_date_time).in_(YEARS),\\n            db.public.lab.lab_test_name_mapped != EMPTY_STRING,\\n        )\\n    )\\n    .join(\\n        db.public.lab.data,\\n        db.public.ip_administrative.genc_id == db.public.lab.genc_id,\\n    )\\n    .limit(LIMIT_LABS)\\n)  # Use limit here, since lab queries can have millions of rows!\\nadmin_labs_data = db.run_query(query)\\nprint(f\\\"{len(admin_labs_data)} rows fetched!\\\")\\nadmin_labs_data.to_hdf(\\n    EXTRACT_SAVE_PATH,\\n    key=f\\\"query_gemini_admin_labs\\\",\\n)\";\n",
       "                var nbb_cells = Jupyter.notebook.get_cells();\n",
       "                for (var i = 0; i < nbb_cells.length; ++i) {\n",
       "                    if (nbb_cells[i].input_prompt_number == nbb_cell_id) {\n",
       "                        if (nbb_cells[i].get_text() == nbb_unformatted_code) {\n",
       "                             nbb_cells[i].set_text(nbb_formatted_code);\n",
       "                        }\n",
       "                        break;\n",
       "                    }\n",
       "                }\n",
       "            }, 500);\n",
       "            "
      ],
      "text/plain": [
       "<IPython.core.display.Javascript object>"
      ]
     },
     "metadata": {},
     "output_type": "display_data"
    }
   ],
   "source": [
    "query = (\n",
    "    select(\n",
    "        db.public.ip_administrative.genc_id.label(ENCOUNTER_ID),\n",
    "        db.public.ip_administrative.hospital_id.label(HOSPITAL_ID),\n",
    "        db.public.ip_administrative.admit_date_time.label(ADMIT_TIMESTAMP),\n",
    "        db.public.ip_administrative.discharge_date_time.label(DISCHARGE_TIMESTAMP),\n",
    "        db.public.lab.lab_test_name_mapped.label(LAB_TEST_NAME),\n",
    "        db.public.lab.result_value.label(LAB_TEST_RESULT_VALUE),\n",
    "        db.public.lab.result_unit.label(LAB_TEST_RESULT_UNIT),\n",
    "        db.public.lab.sample_collection_date_time.label(LAB_TEST_TIMESTAMP),\n",
    "        db.public.lab.reference_range.label(REFERENCE_RANGE),\n",
    "    )\n",
    "    .where(\n",
    "        and_(\n",
    "            db.public.ip_administrative.hospital_id.in_(HOSPITALS),\n",
    "            extract(\"year\", db.public.ip_administrative.admit_date_time).in_(YEARS),\n",
    "            db.public.lab.lab_test_name_mapped != EMPTY_STRING,\n",
    "        )\n",
    "    )\n",
    "    .join(\n",
    "        db.public.lab.data,\n",
    "        db.public.ip_administrative.genc_id == db.public.lab.genc_id,\n",
    "    )\n",
    "    .limit(LIMIT_LABS)\n",
    ")  # Use limit here, since lab queries can have millions of rows!\n",
    "admin_labs_data = db.run_query(query)\n",
    "print(f\"{len(admin_labs_data)} rows fetched!\")\n",
    "admin_labs_data.to_hdf(\n",
    "    EXTRACT_SAVE_PATH,\n",
    "    key=f\"query_gemini_admin_labs\",\n",
    ")"
   ]
  },
  {
   "cell_type": "markdown",
   "id": "diverse-assembly",
   "metadata": {},
   "source": [
    "## Query to get admin + vitals"
   ]
  },
  {
   "cell_type": "code",
   "execution_count": 7,
   "id": "crude-disclosure",
   "metadata": {},
   "outputs": [
    {
     "name": "stderr",
     "output_type": "stream",
     "text": [
      "2022-03-10 16:18:11,845 \u001b[1;37mINFO\u001b[0m cyclops.orm     - Query returned successfully!\n",
      "2022-03-10 16:18:11,848 \u001b[1;37mINFO\u001b[0m cyclops.utils.profile - Finished executing function run_query in 0.851991 s\n"
     ]
    },
    {
     "name": "stdout",
     "output_type": "stream",
     "text": [
      "100000 rows fetched!\n"
     ]
    },
    {
     "data": {
      "application/javascript": [
       "\n",
       "            setTimeout(function() {\n",
       "                var nbb_cell_id = 7;\n",
       "                var nbb_unformatted_code = \"query = (\\n    select(\\n        db.public.ip_administrative.genc_id.label(ENCOUNTER_ID),\\n        db.public.ip_administrative.hospital_id.label(HOSPITAL_ID),\\n        db.public.ip_administrative.age.label(AGE),\\n        db.public.ip_administrative.gender.label(SEX),\\n        db.public.ip_administrative.residence_code,\\n        db.public.ip_administrative.admit_date_time.label(ADMIT_TIMESTAMP),\\n        db.public.ip_administrative.discharge_date_time.label(DISCHARGE_TIMESTAMP),\\n        db.public.vitals.measurement_mapped.label(VITAL_MEASUREMENT_NAME),\\n        db.public.vitals.measurement_value.label(VITAL_MEASUREMENT_VALUE),\\n        db.public.vitals.measure_date_time.label(VITAL_MEASUREMENT_TIMESTAMP),\\n        db.public.vitals.reference_range.label(REFERENCE_RANGE),\\n    )\\n    .where(\\n        and_(\\n            db.public.ip_administrative.hospital_id.in_(HOSPITALS),\\n            extract(\\\"year\\\", db.public.ip_administrative.admit_date_time).in_(YEARS),\\n        )\\n    )\\n    .join(\\n        db.public.vitals.data,\\n        db.public.ip_administrative.genc_id == db.public.vitals.genc_id,\\n    )\\n    .where(\\n        db.public.vitals.measurement_mapped != EMPTY_STRING,\\n    )\\n    .limit(LIMIT_VITALS)\\n)\\nadmin_vitals_data = db.run_query(query)\\nprint(f\\\"{len(admin_vitals_data)} rows fetched!\\\")\\nadmin_vitals_data.to_hdf(\\n    EXTRACT_SAVE_PATH,\\n    key=f\\\"query_gemini_admin_vitals\\\",\\n)\";\n",
       "                var nbb_formatted_code = \"query = (\\n    select(\\n        db.public.ip_administrative.genc_id.label(ENCOUNTER_ID),\\n        db.public.ip_administrative.hospital_id.label(HOSPITAL_ID),\\n        db.public.ip_administrative.age.label(AGE),\\n        db.public.ip_administrative.gender.label(SEX),\\n        db.public.ip_administrative.residence_code,\\n        db.public.ip_administrative.admit_date_time.label(ADMIT_TIMESTAMP),\\n        db.public.ip_administrative.discharge_date_time.label(DISCHARGE_TIMESTAMP),\\n        db.public.vitals.measurement_mapped.label(VITAL_MEASUREMENT_NAME),\\n        db.public.vitals.measurement_value.label(VITAL_MEASUREMENT_VALUE),\\n        db.public.vitals.measure_date_time.label(VITAL_MEASUREMENT_TIMESTAMP),\\n        db.public.vitals.reference_range.label(REFERENCE_RANGE),\\n    )\\n    .where(\\n        and_(\\n            db.public.ip_administrative.hospital_id.in_(HOSPITALS),\\n            extract(\\\"year\\\", db.public.ip_administrative.admit_date_time).in_(YEARS),\\n        )\\n    )\\n    .join(\\n        db.public.vitals.data,\\n        db.public.ip_administrative.genc_id == db.public.vitals.genc_id,\\n    )\\n    .where(\\n        db.public.vitals.measurement_mapped != EMPTY_STRING,\\n    )\\n    .limit(LIMIT_VITALS)\\n)\\nadmin_vitals_data = db.run_query(query)\\nprint(f\\\"{len(admin_vitals_data)} rows fetched!\\\")\\nadmin_vitals_data.to_hdf(\\n    EXTRACT_SAVE_PATH,\\n    key=f\\\"query_gemini_admin_vitals\\\",\\n)\";\n",
       "                var nbb_cells = Jupyter.notebook.get_cells();\n",
       "                for (var i = 0; i < nbb_cells.length; ++i) {\n",
       "                    if (nbb_cells[i].input_prompt_number == nbb_cell_id) {\n",
       "                        if (nbb_cells[i].get_text() == nbb_unformatted_code) {\n",
       "                             nbb_cells[i].set_text(nbb_formatted_code);\n",
       "                        }\n",
       "                        break;\n",
       "                    }\n",
       "                }\n",
       "            }, 500);\n",
       "            "
      ],
      "text/plain": [
       "<IPython.core.display.Javascript object>"
      ]
     },
     "metadata": {},
     "output_type": "display_data"
    }
   ],
   "source": [
    "query = (\n",
    "    select(\n",
    "        db.public.ip_administrative.genc_id.label(ENCOUNTER_ID),\n",
    "        db.public.ip_administrative.hospital_id.label(HOSPITAL_ID),\n",
    "        db.public.ip_administrative.age.label(AGE),\n",
    "        db.public.ip_administrative.gender.label(SEX),\n",
    "        db.public.ip_administrative.residence_code,\n",
    "        db.public.ip_administrative.admit_date_time.label(ADMIT_TIMESTAMP),\n",
    "        db.public.ip_administrative.discharge_date_time.label(DISCHARGE_TIMESTAMP),\n",
    "        db.public.vitals.measurement_mapped.label(VITAL_MEASUREMENT_NAME),\n",
    "        db.public.vitals.measurement_value.label(VITAL_MEASUREMENT_VALUE),\n",
    "        db.public.vitals.measure_date_time.label(VITAL_MEASUREMENT_TIMESTAMP),\n",
    "        db.public.vitals.reference_range.label(REFERENCE_RANGE),\n",
    "    )\n",
    "    .where(\n",
    "        and_(\n",
    "            db.public.ip_administrative.hospital_id.in_(HOSPITALS),\n",
    "            extract(\"year\", db.public.ip_administrative.admit_date_time).in_(YEARS),\n",
    "        )\n",
    "    )\n",
    "    .join(\n",
    "        db.public.vitals.data,\n",
    "        db.public.ip_administrative.genc_id == db.public.vitals.genc_id,\n",
    "    )\n",
    "    .where(\n",
    "        db.public.vitals.measurement_mapped != EMPTY_STRING,\n",
    "    )\n",
    "    .limit(LIMIT_VITALS)\n",
    ")\n",
    "admin_vitals_data = db.run_query(query)\n",
    "print(f\"{len(admin_vitals_data)} rows fetched!\")\n",
    "admin_vitals_data.to_hdf(\n",
    "    EXTRACT_SAVE_PATH,\n",
    "    key=f\"query_gemini_admin_vitals\",\n",
    ")"
   ]
  },
  {
   "cell_type": "markdown",
   "id": "behavioral-piano",
   "metadata": {},
   "source": [
    "## Query Length of Stay in ER"
   ]
  },
  {
   "cell_type": "code",
   "execution_count": 8,
   "id": "quantitative-alcohol",
   "metadata": {},
   "outputs": [
    {
     "name": "stderr",
     "output_type": "stream",
     "text": [
      "2022-03-10 16:18:12,375 \u001b[1;37mINFO\u001b[0m cyclops.orm     - Query returned successfully!\n",
      "2022-03-10 16:18:12,378 \u001b[1;37mINFO\u001b[0m cyclops.utils.profile - Finished executing function run_query in 0.079155 s\n"
     ]
    },
    {
     "name": "stdout",
     "output_type": "stream",
     "text": [
      "10419 rows fetched!\n"
     ]
    },
    {
     "data": {
      "application/javascript": [
       "\n",
       "            setTimeout(function() {\n",
       "                var nbb_cell_id = 8;\n",
       "                var nbb_unformatted_code = \"query = (\\n    select(\\n        db.public.ip_administrative.genc_id.label(ENCOUNTER_ID),\\n        db.public.er_administrative.duration_er_stay_derived.label(\\n            LENGTH_OF_STAY_IN_ER\\n        ),\\n    )\\n    .where(\\n        and_(\\n            db.public.ip_administrative.hospital_id.in_(HOSPITALS),\\n            extract(\\\"year\\\", db.public.ip_administrative.admit_date_time).in_(YEARS),\\n        )\\n    )\\n    .join(\\n        db.public.er_administrative.data,\\n        db.public.ip_administrative.genc_id == db.public.er_administrative.genc_id,\\n    )\\n)\\nlos_er_data = db.run_query(query)\\nprint(f\\\"{len(los_er_data)} rows fetched!\\\")\\nlos_er_data.to_hdf(\\n    EXTRACT_SAVE_PATH,\\n    key=f\\\"query_gemini_los_er\\\",\\n)\";\n",
       "                var nbb_formatted_code = \"query = (\\n    select(\\n        db.public.ip_administrative.genc_id.label(ENCOUNTER_ID),\\n        db.public.er_administrative.duration_er_stay_derived.label(\\n            LENGTH_OF_STAY_IN_ER\\n        ),\\n    )\\n    .where(\\n        and_(\\n            db.public.ip_administrative.hospital_id.in_(HOSPITALS),\\n            extract(\\\"year\\\", db.public.ip_administrative.admit_date_time).in_(YEARS),\\n        )\\n    )\\n    .join(\\n        db.public.er_administrative.data,\\n        db.public.ip_administrative.genc_id == db.public.er_administrative.genc_id,\\n    )\\n)\\nlos_er_data = db.run_query(query)\\nprint(f\\\"{len(los_er_data)} rows fetched!\\\")\\nlos_er_data.to_hdf(\\n    EXTRACT_SAVE_PATH,\\n    key=f\\\"query_gemini_los_er\\\",\\n)\";\n",
       "                var nbb_cells = Jupyter.notebook.get_cells();\n",
       "                for (var i = 0; i < nbb_cells.length; ++i) {\n",
       "                    if (nbb_cells[i].input_prompt_number == nbb_cell_id) {\n",
       "                        if (nbb_cells[i].get_text() == nbb_unformatted_code) {\n",
       "                             nbb_cells[i].set_text(nbb_formatted_code);\n",
       "                        }\n",
       "                        break;\n",
       "                    }\n",
       "                }\n",
       "            }, 500);\n",
       "            "
      ],
      "text/plain": [
       "<IPython.core.display.Javascript object>"
      ]
     },
     "metadata": {},
     "output_type": "display_data"
    }
   ],
   "source": [
    "query = (\n",
    "    select(\n",
    "        db.public.ip_administrative.genc_id.label(ENCOUNTER_ID),\n",
    "        db.public.er_administrative.duration_er_stay_derived.label(\n",
    "            LENGTH_OF_STAY_IN_ER\n",
    "        ),\n",
    "    )\n",
    "    .where(\n",
    "        and_(\n",
    "            db.public.ip_administrative.hospital_id.in_(HOSPITALS),\n",
    "            extract(\"year\", db.public.ip_administrative.admit_date_time).in_(YEARS),\n",
    "        )\n",
    "    )\n",
    "    .join(\n",
    "        db.public.er_administrative.data,\n",
    "        db.public.ip_administrative.genc_id == db.public.er_administrative.genc_id,\n",
    "    )\n",
    ")\n",
    "los_er_data = db.run_query(query)\n",
    "print(f\"{len(los_er_data)} rows fetched!\")\n",
    "los_er_data.to_hdf(\n",
    "    EXTRACT_SAVE_PATH,\n",
    "    key=f\"query_gemini_los_er\",\n",
    ")"
   ]
  },
  {
   "cell_type": "markdown",
   "id": "phantom-raise",
   "metadata": {},
   "source": [
    "## Process Admin data"
   ]
  },
  {
   "cell_type": "code",
   "execution_count": 9,
   "id": "strange-southwest",
   "metadata": {},
   "outputs": [
    {
     "name": "stderr",
     "output_type": "stream",
     "text": [
      "2022-03-10 16:18:12,451 \u001b[1;37mINFO\u001b[0m cyclops.processors.base - Processing raw admin data...\n",
      "2022-03-10 16:18:12,455 \u001b[1;37mINFO\u001b[0m cyclops.processors.base - # samples: 10756, # encounters: 10756\n",
      "2022-03-10 16:18:12,457 \u001b[1;37mINFO\u001b[0m cyclops.processors.admin - # admin features: 2, # encounters: 10756\n",
      "2022-03-10 16:18:18,601 \u001b[1;37mINFO\u001b[0m cyclops.utils.profile - Finished executing function process in 6.149496 s\n"
     ]
    },
    {
     "data": {
      "application/javascript": [
       "\n",
       "            setTimeout(function() {\n",
       "                var nbb_cell_id = 9;\n",
       "                var nbb_unformatted_code = \"%autoreload 2\\n\\ndata = pd.read_hdf(EXTRACT_SAVE_PATH, key=f\\\"query_gemini_admin\\\")\\nmust_have_columns = [ENCOUNTER_ID, AGE, SEX]\\n\\nadmin_processor = AdminProcessor(data, must_have_columns)\\nadmin_features = admin_processor.process()\";\n",
       "                var nbb_formatted_code = \"%autoreload 2\\n\\ndata = pd.read_hdf(EXTRACT_SAVE_PATH, key=f\\\"query_gemini_admin\\\")\\nmust_have_columns = [ENCOUNTER_ID, AGE, SEX]\\n\\nadmin_processor = AdminProcessor(data, must_have_columns)\\nadmin_features = admin_processor.process()\";\n",
       "                var nbb_cells = Jupyter.notebook.get_cells();\n",
       "                for (var i = 0; i < nbb_cells.length; ++i) {\n",
       "                    if (nbb_cells[i].input_prompt_number == nbb_cell_id) {\n",
       "                        if (nbb_cells[i].get_text() == nbb_unformatted_code) {\n",
       "                             nbb_cells[i].set_text(nbb_formatted_code);\n",
       "                        }\n",
       "                        break;\n",
       "                    }\n",
       "                }\n",
       "            }, 500);\n",
       "            "
      ],
      "text/plain": [
       "<IPython.core.display.Javascript object>"
      ]
     },
     "metadata": {},
     "output_type": "display_data"
    }
   ],
   "source": [
    "%autoreload 2\n",
    "\n",
    "data = pd.read_hdf(EXTRACT_SAVE_PATH, key=f\"query_gemini_admin\")\n",
    "must_have_columns = [ENCOUNTER_ID, AGE, SEX]\n",
    "\n",
    "admin_processor = AdminProcessor(data, must_have_columns)\n",
    "admin_features = admin_processor.process()"
   ]
  },
  {
   "cell_type": "markdown",
   "id": "renewable-electronics",
   "metadata": {},
   "source": [
    "## Process Labs data"
   ]
  },
  {
   "cell_type": "code",
   "execution_count": 10,
   "id": "affiliated-indonesian",
   "metadata": {},
   "outputs": [
    {
     "name": "stderr",
     "output_type": "stream",
     "text": [
      "2022-03-10 16:18:18,905 \u001b[1;37mINFO\u001b[0m cyclops.processors.base - Processing raw lab data...\n",
      "2022-03-10 16:18:18,910 \u001b[1;37mINFO\u001b[0m cyclops.processors.base - # samples: 100000, # encounters: 10269\n",
      "2022-03-10 16:18:18,938 \u001b[1;37mINFO\u001b[0m cyclops.processors.base - Aggregating labs within aggregation window...\n",
      "2022-03-10 16:18:18,942 \u001b[1;37mINFO\u001b[0m cyclops.processors.base - # samples: 43307, # encounters: 10168\n",
      "2022-03-10 16:18:19,004 \u001b[1;37mINFO\u001b[0m cyclops.processors.base - Remove text in parentheses and normalize lab test names...\n",
      "2022-03-10 16:18:19,007 \u001b[1;37mINFO\u001b[0m cyclops.processors.base - # samples: 43307, # encounters: 10168\n",
      "2022-03-10 16:18:19,027 \u001b[1;37mINFO\u001b[0m cyclops.processors.base - Drop unsupported...\n",
      "2022-03-10 16:18:19,030 \u001b[1;37mINFO\u001b[0m cyclops.processors.base - # samples: 30060, # encounters: 9822\n",
      "2022-03-10 16:18:19,078 \u001b[1;37mINFO\u001b[0m cyclops.processors.base - Fixing inequalities and removing outlier values...\n",
      "2022-03-10 16:18:19,081 \u001b[1;37mINFO\u001b[0m cyclops.processors.base - # samples: 30060, # encounters: 9822\n",
      "2022-03-10 16:18:19,088 \u001b[1;37mINFO\u001b[0m cyclops.processors.base - Fill empty result string values with NaN...\n",
      "2022-03-10 16:18:19,090 \u001b[1;37mINFO\u001b[0m cyclops.processors.base - # samples: 30060, # encounters: 9822\n",
      "2022-03-10 16:18:19,092 \u001b[1;37mINFO\u001b[0m cyclops.processors.labs - Converting string result values to numeric...\n",
      "2022-03-10 16:18:19,100 \u001b[1;37mINFO\u001b[0m cyclops.processors.labs - Cleaning units and converting to SI...\n",
      "2022-03-10 16:18:19,168 \u001b[1;37mINFO\u001b[0m cyclops.processors.labs - Creating features...\n",
      "2022-03-10 16:18:19,172 \u001b[1;37mINFO\u001b[0m cyclops.processors.labs - ['mean cell volume', 'arterial paco2', 'venous pco2', 'arterial ph']\n",
      "2022-03-10 16:18:19,175 \u001b[1;37mINFO\u001b[0m cyclops.processors.labs - # labs features: 4, # encounters: 9822\n",
      "2022-03-10 16:18:23,559 \u001b[1;37mINFO\u001b[0m cyclops.utils.profile - Finished executing function process in 4.654139 s\n"
     ]
    },
    {
     "data": {
      "application/javascript": [
       "\n",
       "            setTimeout(function() {\n",
       "                var nbb_cell_id = 10;\n",
       "                var nbb_unformatted_code = \"%autoreload 2\\n\\ndata = pd.read_hdf(EXTRACT_SAVE_PATH, key=f\\\"query_gemini_admin_labs\\\")\\nmust_have_columns = [\\n    ENCOUNTER_ID,\\n    ADMIT_TIMESTAMP,\\n    LAB_TEST_NAME,\\n    LAB_TEST_TIMESTAMP,\\n    LAB_TEST_RESULT_VALUE,\\n    LAB_TEST_RESULT_UNIT,\\n    REFERENCE_RANGE,\\n]\\nlabs_processor = LabsProcessor(data, must_have_columns)\\nlabs_features = labs_processor.process()\";\n",
       "                var nbb_formatted_code = \"%autoreload 2\\n\\ndata = pd.read_hdf(EXTRACT_SAVE_PATH, key=f\\\"query_gemini_admin_labs\\\")\\nmust_have_columns = [\\n    ENCOUNTER_ID,\\n    ADMIT_TIMESTAMP,\\n    LAB_TEST_NAME,\\n    LAB_TEST_TIMESTAMP,\\n    LAB_TEST_RESULT_VALUE,\\n    LAB_TEST_RESULT_UNIT,\\n    REFERENCE_RANGE,\\n]\\nlabs_processor = LabsProcessor(data, must_have_columns)\\nlabs_features = labs_processor.process()\";\n",
       "                var nbb_cells = Jupyter.notebook.get_cells();\n",
       "                for (var i = 0; i < nbb_cells.length; ++i) {\n",
       "                    if (nbb_cells[i].input_prompt_number == nbb_cell_id) {\n",
       "                        if (nbb_cells[i].get_text() == nbb_unformatted_code) {\n",
       "                             nbb_cells[i].set_text(nbb_formatted_code);\n",
       "                        }\n",
       "                        break;\n",
       "                    }\n",
       "                }\n",
       "            }, 500);\n",
       "            "
      ],
      "text/plain": [
       "<IPython.core.display.Javascript object>"
      ]
     },
     "metadata": {},
     "output_type": "display_data"
    }
   ],
   "source": [
    "%autoreload 2\n",
    "\n",
    "data = pd.read_hdf(EXTRACT_SAVE_PATH, key=f\"query_gemini_admin_labs\")\n",
    "must_have_columns = [\n",
    "    ENCOUNTER_ID,\n",
    "    ADMIT_TIMESTAMP,\n",
    "    LAB_TEST_NAME,\n",
    "    LAB_TEST_TIMESTAMP,\n",
    "    LAB_TEST_RESULT_VALUE,\n",
    "    LAB_TEST_RESULT_UNIT,\n",
    "    REFERENCE_RANGE,\n",
    "]\n",
    "labs_processor = LabsProcessor(data, must_have_columns)\n",
    "labs_features = labs_processor.process()"
   ]
  },
  {
   "cell_type": "markdown",
   "id": "antique-shame",
   "metadata": {},
   "source": [
    "## Process vitals data"
   ]
  },
  {
   "cell_type": "code",
   "execution_count": 11,
   "id": "acoustic-testing",
   "metadata": {},
   "outputs": [
    {
     "name": "stderr",
     "output_type": "stream",
     "text": [
      "2022-03-10 16:18:23,776 \u001b[1;37mINFO\u001b[0m cyclops.processors.base - Processing raw vitals data...\n",
      "2022-03-10 16:18:23,781 \u001b[1;37mINFO\u001b[0m cyclops.processors.base - # samples: 100000, # encounters: 493\n",
      "2022-03-10 16:18:23,797 \u001b[1;37mINFO\u001b[0m cyclops.processors.base - Aggregating vitals within aggregation window...\n",
      "2022-03-10 16:18:23,801 \u001b[1;37mINFO\u001b[0m cyclops.processors.base - # samples: 11794, # encounters: 482\n",
      "2022-03-10 16:18:23,819 \u001b[1;37mINFO\u001b[0m cyclops.processors.base - Drop oxygen flow rate, saturation samples (unsupported)...\n",
      "2022-03-10 16:18:23,822 \u001b[1;37mINFO\u001b[0m cyclops.processors.base - # samples: 8940, # encounters: 482\n",
      "2022-03-10 16:18:23,852 \u001b[1;37mINFO\u001b[0m cyclops.processors.base - Convert Positive/Negative to 1/0...\n",
      "2022-03-10 16:18:23,854 \u001b[1;37mINFO\u001b[0m cyclops.processors.base - # samples: 8940, # encounters: 482\n",
      "2022-03-10 16:18:23,858 \u001b[1;37mINFO\u001b[0m cyclops.processors.base - Fill empty result string values with NaN...\n",
      "2022-03-10 16:18:23,860 \u001b[1;37mINFO\u001b[0m cyclops.processors.base - # samples: 8940, # encounters: 482\n",
      "2022-03-10 16:18:23,864 \u001b[1;37mINFO\u001b[0m cyclops.processors.vitals - Converting string result values to numeric...\n",
      "2022-03-10 16:18:23,866 \u001b[1;37mINFO\u001b[0m cyclops.processors.vitals - Creating features...\n",
      "2022-03-10 16:18:23,869 \u001b[1;37mINFO\u001b[0m cyclops.processors.vitals - # vitals features: 8, # encounters: 482\n",
      "2022-03-10 16:18:24,768 \u001b[1;37mINFO\u001b[0m cyclops.utils.profile - Finished executing function process in 0.991555 s\n"
     ]
    },
    {
     "name": "stdout",
     "output_type": "stream",
     "text": [
      "Reference range unique values\n",
      "['0-40' '20-500' 'NA-NA' '20-200' '50-250' '25-45' '20-220' '0-100']\n"
     ]
    },
    {
     "data": {
      "application/javascript": [
       "\n",
       "            setTimeout(function() {\n",
       "                var nbb_cell_id = 11;\n",
       "                var nbb_unformatted_code = \"%autoreload 2\\n\\ndata = pd.read_hdf(EXTRACT_SAVE_PATH, key=f\\\"query_gemini_admin_vitals\\\")\\nmust_have_columns = [\\n    ENCOUNTER_ID,\\n    ADMIT_TIMESTAMP,\\n    VITAL_MEASUREMENT_NAME,\\n    VITAL_MEASUREMENT_VALUE,\\n    VITAL_MEASUREMENT_TIMESTAMP,\\n    REFERENCE_RANGE,\\n]\\n\\nvitals_processor = VitalsProcessor(data, must_have_columns)\\nvitals_features = vitals_processor.process()\\n\\nprint(\\\"Reference range unique values\\\")\\nprint(vitals_processor.data[REFERENCE_RANGE].unique())\";\n",
       "                var nbb_formatted_code = \"%autoreload 2\\n\\ndata = pd.read_hdf(EXTRACT_SAVE_PATH, key=f\\\"query_gemini_admin_vitals\\\")\\nmust_have_columns = [\\n    ENCOUNTER_ID,\\n    ADMIT_TIMESTAMP,\\n    VITAL_MEASUREMENT_NAME,\\n    VITAL_MEASUREMENT_VALUE,\\n    VITAL_MEASUREMENT_TIMESTAMP,\\n    REFERENCE_RANGE,\\n]\\n\\nvitals_processor = VitalsProcessor(data, must_have_columns)\\nvitals_features = vitals_processor.process()\\n\\nprint(\\\"Reference range unique values\\\")\\nprint(vitals_processor.data[REFERENCE_RANGE].unique())\";\n",
       "                var nbb_cells = Jupyter.notebook.get_cells();\n",
       "                for (var i = 0; i < nbb_cells.length; ++i) {\n",
       "                    if (nbb_cells[i].input_prompt_number == nbb_cell_id) {\n",
       "                        if (nbb_cells[i].get_text() == nbb_unformatted_code) {\n",
       "                             nbb_cells[i].set_text(nbb_formatted_code);\n",
       "                        }\n",
       "                        break;\n",
       "                    }\n",
       "                }\n",
       "            }, 500);\n",
       "            "
      ],
      "text/plain": [
       "<IPython.core.display.Javascript object>"
      ]
     },
     "metadata": {},
     "output_type": "display_data"
    }
   ],
   "source": [
    "%autoreload 2\n",
    "\n",
    "data = pd.read_hdf(EXTRACT_SAVE_PATH, key=f\"query_gemini_admin_vitals\")\n",
    "must_have_columns = [\n",
    "    ENCOUNTER_ID,\n",
    "    ADMIT_TIMESTAMP,\n",
    "    VITAL_MEASUREMENT_NAME,\n",
    "    VITAL_MEASUREMENT_VALUE,\n",
    "    VITAL_MEASUREMENT_TIMESTAMP,\n",
    "    REFERENCE_RANGE,\n",
    "]\n",
    "\n",
    "vitals_processor = VitalsProcessor(data, must_have_columns)\n",
    "vitals_features = vitals_processor.process()\n",
    "\n",
    "print(\"Reference range unique values\")\n",
    "print(vitals_processor.data[REFERENCE_RANGE].unique())"
   ]
  },
  {
   "cell_type": "markdown",
   "id": "terminal-steal",
   "metadata": {},
   "source": [
    "## Merge processed admin, labs, vitals"
   ]
  },
  {
   "cell_type": "code",
   "execution_count": null,
   "id": "administrative-filter",
   "metadata": {},
   "outputs": [],
   "source": []
  },
  {
   "cell_type": "markdown",
   "id": "planned-cholesterol",
   "metadata": {},
   "source": [
    "## Look at some outcomes"
   ]
  },
  {
   "cell_type": "code",
   "execution_count": 12,
   "id": "later-injury",
   "metadata": {},
   "outputs": [
    {
     "name": "stderr",
     "output_type": "stream",
     "text": [
      "2022-03-10 16:18:24,834 \u001b[1;37mINFO\u001b[0m cyclops.orm     - Query returned successfully!\n",
      "2022-03-10 16:18:24,837 \u001b[1;37mINFO\u001b[0m cyclops.utils.profile - Finished executing function run_query in 0.019360 s\n"
     ]
    },
    {
     "name": "stdout",
     "output_type": "stream",
     "text": [
      "1 Planned readmission from previous acute care (no time restriction)\n",
      "2 Unplanned readmission within 7 days following discharge from acute care\n",
      "3 Unplanned readmission 8 to 28 days following discharge from acute care\n",
      "4 Unplanned readmission within 7 days following discharge from day surgery\n",
      "5 New patient to the acute care unit\n",
      "9 None of the above\n"
     ]
    },
    {
     "data": {
      "application/javascript": [
       "\n",
       "            setTimeout(function() {\n",
       "                var nbb_cell_id = 12;\n",
       "                var nbb_unformatted_code = \"# Readmission codes on GEMINI\\nlookup_query = select(\\n    db.public.lookup_ip_administrative.variable,\\n    db.public.lookup_ip_administrative.value,\\n    db.public.lookup_ip_administrative.description,\\n).subquery()\\nadmin_lookup_data = db.run_query(lookup_query)\\nadmin_lookup_data[\\\"variable\\\"].unique()\\n\\nreadmission_codes = admin_lookup_data.loc[\\n    admin_lookup_data[\\\"variable\\\"] == \\\"readmission\\\"\\n]\\nfor code, desc in zip(readmission_codes[\\\"value\\\"], readmission_codes[\\\"description\\\"]):\\n    print(code, desc)\";\n",
       "                var nbb_formatted_code = \"# Readmission codes on GEMINI\\nlookup_query = select(\\n    db.public.lookup_ip_administrative.variable,\\n    db.public.lookup_ip_administrative.value,\\n    db.public.lookup_ip_administrative.description,\\n).subquery()\\nadmin_lookup_data = db.run_query(lookup_query)\\nadmin_lookup_data[\\\"variable\\\"].unique()\\n\\nreadmission_codes = admin_lookup_data.loc[\\n    admin_lookup_data[\\\"variable\\\"] == \\\"readmission\\\"\\n]\\nfor code, desc in zip(readmission_codes[\\\"value\\\"], readmission_codes[\\\"description\\\"]):\\n    print(code, desc)\";\n",
       "                var nbb_cells = Jupyter.notebook.get_cells();\n",
       "                for (var i = 0; i < nbb_cells.length; ++i) {\n",
       "                    if (nbb_cells[i].input_prompt_number == nbb_cell_id) {\n",
       "                        if (nbb_cells[i].get_text() == nbb_unformatted_code) {\n",
       "                             nbb_cells[i].set_text(nbb_formatted_code);\n",
       "                        }\n",
       "                        break;\n",
       "                    }\n",
       "                }\n",
       "            }, 500);\n",
       "            "
      ],
      "text/plain": [
       "<IPython.core.display.Javascript object>"
      ]
     },
     "metadata": {},
     "output_type": "display_data"
    }
   ],
   "source": [
    "# Readmission codes on GEMINI\n",
    "lookup_query = select(\n",
    "    db.public.lookup_ip_administrative.variable,\n",
    "    db.public.lookup_ip_administrative.value,\n",
    "    db.public.lookup_ip_administrative.description,\n",
    ").subquery()\n",
    "admin_lookup_data = db.run_query(lookup_query)\n",
    "admin_lookup_data[\"variable\"].unique()\n",
    "\n",
    "readmission_codes = admin_lookup_data.loc[\n",
    "    admin_lookup_data[\"variable\"] == \"readmission\"\n",
    "]\n",
    "for code, desc in zip(readmission_codes[\"value\"], readmission_codes[\"description\"]):\n",
    "    print(code, desc)"
   ]
  },
  {
   "cell_type": "markdown",
   "id": "important-forth",
   "metadata": {},
   "source": [
    "## Process outcomes data"
   ]
  },
  {
   "cell_type": "code",
   "execution_count": 13,
   "id": "straight-debate",
   "metadata": {},
   "outputs": [
    {
     "name": "stderr",
     "output_type": "stream",
     "text": [
      "2022-03-10 16:18:24,947 \u001b[1;37mINFO\u001b[0m cyclops.processors.base - Processing raw outcomes data...\n",
      "2022-03-10 16:18:24,951 \u001b[1;37mINFO\u001b[0m cyclops.processors.base - # samples: 10756, # encounters: 10756\n",
      "2022-03-10 16:18:24,972 \u001b[1;37mINFO\u001b[0m cyclops.utils.profile - Finished executing function process in 0.024523 s\n"
     ]
    },
    {
     "data": {
      "text/html": [
       "<div>\n",
       "<style scoped>\n",
       "    .dataframe tbody tr th:only-of-type {\n",
       "        vertical-align: middle;\n",
       "    }\n",
       "\n",
       "    .dataframe tbody tr th {\n",
       "        vertical-align: top;\n",
       "    }\n",
       "\n",
       "    .dataframe thead th {\n",
       "        text-align: right;\n",
       "    }\n",
       "</style>\n",
       "<table border=\"1\" class=\"dataframe\">\n",
       "  <thead>\n",
       "    <tr style=\"text-align: right;\">\n",
       "      <th></th>\n",
       "      <th>mortality_in_hospital</th>\n",
       "      <th>length_of_stay_in_er</th>\n",
       "    </tr>\n",
       "  </thead>\n",
       "  <tbody>\n",
       "    <tr>\n",
       "      <th>11934843</th>\n",
       "      <td>False</td>\n",
       "      <td>33.450000</td>\n",
       "    </tr>\n",
       "    <tr>\n",
       "      <th>11939459</th>\n",
       "      <td>False</td>\n",
       "      <td>11.100000</td>\n",
       "    </tr>\n",
       "    <tr>\n",
       "      <th>11940320</th>\n",
       "      <td>False</td>\n",
       "      <td>17.433332</td>\n",
       "    </tr>\n",
       "    <tr>\n",
       "      <th>11966194</th>\n",
       "      <td>False</td>\n",
       "      <td>25.783333</td>\n",
       "    </tr>\n",
       "    <tr>\n",
       "      <th>11967049</th>\n",
       "      <td>False</td>\n",
       "      <td>10.833333</td>\n",
       "    </tr>\n",
       "    <tr>\n",
       "      <th>...</th>\n",
       "      <td>...</td>\n",
       "      <td>...</td>\n",
       "    </tr>\n",
       "    <tr>\n",
       "      <th>11876913</th>\n",
       "      <td>False</td>\n",
       "      <td>13.983334</td>\n",
       "    </tr>\n",
       "    <tr>\n",
       "      <th>11916858</th>\n",
       "      <td>False</td>\n",
       "      <td>40.083332</td>\n",
       "    </tr>\n",
       "    <tr>\n",
       "      <th>11906350</th>\n",
       "      <td>False</td>\n",
       "      <td>13.733334</td>\n",
       "    </tr>\n",
       "    <tr>\n",
       "      <th>11921461</th>\n",
       "      <td>False</td>\n",
       "      <td>32.583332</td>\n",
       "    </tr>\n",
       "    <tr>\n",
       "      <th>11918552</th>\n",
       "      <td>False</td>\n",
       "      <td>18.783333</td>\n",
       "    </tr>\n",
       "  </tbody>\n",
       "</table>\n",
       "<p>10756 rows × 2 columns</p>\n",
       "</div>"
      ],
      "text/plain": [
       "          mortality_in_hospital  length_of_stay_in_er\n",
       "11934843                  False             33.450000\n",
       "11939459                  False             11.100000\n",
       "11940320                  False             17.433332\n",
       "11966194                  False             25.783333\n",
       "11967049                  False             10.833333\n",
       "...                         ...                   ...\n",
       "11876913                  False             13.983334\n",
       "11916858                  False             40.083332\n",
       "11906350                  False             13.733334\n",
       "11921461                  False             32.583332\n",
       "11918552                  False             18.783333\n",
       "\n",
       "[10756 rows x 2 columns]"
      ]
     },
     "execution_count": 13,
     "metadata": {},
     "output_type": "execute_result"
    },
    {
     "data": {
      "application/javascript": [
       "\n",
       "            setTimeout(function() {\n",
       "                var nbb_cell_id = 13;\n",
       "                var nbb_unformatted_code = \"%autoreload 2\\n\\nadmin_data = pd.read_hdf(EXTRACT_SAVE_PATH, key=f\\\"query_gemini_admin\\\")\\nlos_er_data = pd.read_hdf(EXTRACT_SAVE_PATH, key=f\\\"query_gemini_los_er\\\")\\n\\ndata = pd.merge(admin_data, los_er_data, how=\\\"outer\\\")\\nmust_have_columns = [\\n    ENCOUNTER_ID,\\n    AGE,\\n    SEX,\\n    DISCHARGE_DISPOSITION,\\n    LENGTH_OF_STAY_IN_ER,\\n]\\noutcomes_processor = OutcomesProcessor(data, must_have_columns)\\noutcome_targets = outcomes_processor.process()\\noutcome_targets\";\n",
       "                var nbb_formatted_code = \"%autoreload 2\\n\\nadmin_data = pd.read_hdf(EXTRACT_SAVE_PATH, key=f\\\"query_gemini_admin\\\")\\nlos_er_data = pd.read_hdf(EXTRACT_SAVE_PATH, key=f\\\"query_gemini_los_er\\\")\\n\\ndata = pd.merge(admin_data, los_er_data, how=\\\"outer\\\")\\nmust_have_columns = [\\n    ENCOUNTER_ID,\\n    AGE,\\n    SEX,\\n    DISCHARGE_DISPOSITION,\\n    LENGTH_OF_STAY_IN_ER,\\n]\\noutcomes_processor = OutcomesProcessor(data, must_have_columns)\\noutcome_targets = outcomes_processor.process()\\noutcome_targets\";\n",
       "                var nbb_cells = Jupyter.notebook.get_cells();\n",
       "                for (var i = 0; i < nbb_cells.length; ++i) {\n",
       "                    if (nbb_cells[i].input_prompt_number == nbb_cell_id) {\n",
       "                        if (nbb_cells[i].get_text() == nbb_unformatted_code) {\n",
       "                             nbb_cells[i].set_text(nbb_formatted_code);\n",
       "                        }\n",
       "                        break;\n",
       "                    }\n",
       "                }\n",
       "            }, 500);\n",
       "            "
      ],
      "text/plain": [
       "<IPython.core.display.Javascript object>"
      ]
     },
     "metadata": {},
     "output_type": "display_data"
    }
   ],
   "source": [
    "%autoreload 2\n",
    "\n",
    "admin_data = pd.read_hdf(EXTRACT_SAVE_PATH, key=f\"query_gemini_admin\")\n",
    "los_er_data = pd.read_hdf(EXTRACT_SAVE_PATH, key=f\"query_gemini_los_er\")\n",
    "\n",
    "data = pd.merge(admin_data, los_er_data, how=\"outer\")\n",
    "must_have_columns = [\n",
    "    ENCOUNTER_ID,\n",
    "    AGE,\n",
    "    SEX,\n",
    "    DISCHARGE_DISPOSITION,\n",
    "    LENGTH_OF_STAY_IN_ER,\n",
    "]\n",
    "outcomes_processor = OutcomesProcessor(data, must_have_columns)\n",
    "outcome_targets = outcomes_processor.process()\n",
    "outcome_targets"
   ]
  },
  {
   "cell_type": "markdown",
   "id": "organizational-ghost",
   "metadata": {},
   "source": [
    "## Merge processed admin, labs, vitals, outcomes"
   ]
  },
  {
   "cell_type": "code",
   "execution_count": 14,
   "id": "provincial-dispute",
   "metadata": {},
   "outputs": [
    {
     "name": "stdout",
     "output_type": "stream",
     "text": [
      "10756 10756 9822 482 10756\n"
     ]
    },
    {
     "data": {
      "application/javascript": [
       "\n",
       "            setTimeout(function() {\n",
       "                var nbb_cell_id = 14;\n",
       "                var nbb_unformatted_code = \"feature_handler = FeatureHandler()\\nfeature_handler.add_features(admin_features)\\nfeature_handler.add_features(labs_features)\\nfeature_handler.add_features(vitals_features)\\nfeature_handler.add_features(outcome_targets)\\n\\nprint(\\n    len(feature_handler.features),\\n    len(admin_features),\\n    len(labs_features),\\n    len(vitals_features),\\n    len(outcome_targets),\\n)\";\n",
       "                var nbb_formatted_code = \"feature_handler = FeatureHandler()\\nfeature_handler.add_features(admin_features)\\nfeature_handler.add_features(labs_features)\\nfeature_handler.add_features(vitals_features)\\nfeature_handler.add_features(outcome_targets)\\n\\nprint(\\n    len(feature_handler.features),\\n    len(admin_features),\\n    len(labs_features),\\n    len(vitals_features),\\n    len(outcome_targets),\\n)\";\n",
       "                var nbb_cells = Jupyter.notebook.get_cells();\n",
       "                for (var i = 0; i < nbb_cells.length; ++i) {\n",
       "                    if (nbb_cells[i].input_prompt_number == nbb_cell_id) {\n",
       "                        if (nbb_cells[i].get_text() == nbb_unformatted_code) {\n",
       "                             nbb_cells[i].set_text(nbb_formatted_code);\n",
       "                        }\n",
       "                        break;\n",
       "                    }\n",
       "                }\n",
       "            }, 500);\n",
       "            "
      ],
      "text/plain": [
       "<IPython.core.display.Javascript object>"
      ]
     },
     "metadata": {},
     "output_type": "display_data"
    }
   ],
   "source": [
    "feature_handler = FeatureHandler()\n",
    "feature_handler.add_features(admin_features)\n",
    "feature_handler.add_features(labs_features)\n",
    "feature_handler.add_features(vitals_features)\n",
    "feature_handler.add_features(outcome_targets)\n",
    "\n",
    "print(\n",
    "    len(feature_handler.features),\n",
    "    len(admin_features),\n",
    "    len(labs_features),\n",
    "    len(vitals_features),\n",
    "    len(outcome_targets),\n",
    ")"
   ]
  },
  {
   "cell_type": "markdown",
   "id": "incorrect-cowboy",
   "metadata": {},
   "source": [
    "## Data quality report (admin + labs + vitals + outcomes)"
   ]
  },
  {
   "cell_type": "code",
   "execution_count": null,
   "id": "legitimate-marathon",
   "metadata": {},
   "outputs": [
    {
     "name": "stdout",
     "output_type": "stream",
     "text": [
      "['age', 'mean cell volume', 'arterial paco2', 'venous pco2', 'arterial ph', 'respiratory rate', 'weight', 'CAM', 'Diastolic BP', 'Systolic BP', 'Temperature', 'Heart Rate', 'fio2', 'length_of_stay_in_er']\n",
      "['sex', 'mortality_in_hospital']\n"
     ]
    }
   ],
   "source": [
    "dashboard = Dashboard(tabs=[DataQualityTab()])\n",
    "print(feature_handler.get_numerical_features())\n",
    "print(feature_handler.get_categorical_features())\n",
    "column_mapping = ColumnMapping(\n",
    "    numerical_features=feature_handler.get_numerical_features(),\n",
    "    categorical_features=feature_handler.get_categorical_features(),\n",
    ")\n",
    "dashboard.calculate(\n",
    "    reference_data=feature_handler.features,\n",
    "    current_data=None,\n",
    "    column_mapping=column_mapping,\n",
    ")\n",
    "dashboard.save(f\"data_processed.html\")"
   ]
  }
 ],
 "metadata": {
  "kernelspec": {
   "display_name": "vector_delirium",
   "language": "python",
   "name": "vector_delirium"
  },
  "language_info": {
   "codemirror_mode": {
    "name": "ipython",
    "version": 3
   },
   "file_extension": ".py",
   "mimetype": "text/x-python",
   "name": "python",
   "nbconvert_exporter": "python",
   "pygments_lexer": "ipython3",
   "version": "3.8.5"
  }
 },
 "nbformat": 4,
 "nbformat_minor": 5
}
