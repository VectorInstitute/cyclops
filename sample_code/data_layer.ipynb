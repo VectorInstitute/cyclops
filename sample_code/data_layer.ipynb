{
 "cells": [
  {
   "cell_type": "markdown",
   "id": "structured-extent",
   "metadata": {},
   "source": [
    "## Imports"
   ]
  },
  {
   "cell_type": "code",
   "execution_count": 1,
   "id": "orange-average",
   "metadata": {},
   "outputs": [
    {
     "name": "stderr",
     "output_type": "stream",
     "text": [
      "2022-03-04 21:24:26,163 \u001b[1;37mINFO\u001b[0m config          - Log file is /mnt/nfs/home/krishnanam/log.log\n",
      "2022-03-04 21:24:26,171 \u001b[1;37mINFO\u001b[0m cyclops.processors.base - Log file is /mnt/nfs/home/krishnanam/log.log\n",
      "2022-03-04 21:24:26,177 \u001b[1;37mINFO\u001b[0m cyclops.utils.profile - Log file is /mnt/nfs/home/krishnanam/log.log\n",
      "2022-03-04 21:24:26,182 \u001b[1;37mINFO\u001b[0m cyclops.processors.admin - Log file is /mnt/nfs/home/krishnanam/log.log\n",
      "2022-03-04 21:24:26,187 \u001b[1;37mINFO\u001b[0m cyclops.processors.vitals - Log file is /mnt/nfs/home/krishnanam/log.log\n",
      "2022-03-04 21:24:26,267 \u001b[1;37mINFO\u001b[0m cyclops.orm     - Log file is /mnt/nfs/home/krishnanam/log.log\n"
     ]
    }
   ],
   "source": [
    "import sys\n",
    "sys.path.append(\"..\")\n",
    "\n",
    "import pandas as pd\n",
    "import numpy as np\n",
    "import sqlalchemy\n",
    "from sqlalchemy import select, func, extract, desc\n",
    "from sqlalchemy.sql.expression import and_\n",
    "\n",
    "from evidently import ColumnMapping\n",
    "from evidently.dashboard import Dashboard\n",
    "from evidently.dashboard.tabs import DataQualityTab\n",
    "from evidently.model_profile import Profile\n",
    "from evidently.model_profile.sections import DataQualityProfileSection\n",
    "\n",
    "import config\n",
    "import cyclops\n",
    "from cyclops.processors.column_names import (\n",
    "    ENCOUNTER_ID,\n",
    "    HOSPITAL_ID,\n",
    "    ADMIT_TIMESTAMP,\n",
    "    DISCHARGE_TIMESTAMP,\n",
    "    AGE,\n",
    "    SEX,\n",
    "    TOTAL_COST,\n",
    "    CITY,\n",
    "    PROVINCE,\n",
    "    COUNTRY,\n",
    "    LANGUAGE,\n",
    "    VITAL_MEASUREMENT_NAME,\n",
    "    VITAL_MEASUREMENT_VALUE,\n",
    "    VITAL_MEASUREMENT_TIMESTAMP,\n",
    "    REFERENCE_RANGE\n",
    ")\n",
    "from cyclops.processors.constants import EMPTY_STRING\n",
    "from cyclops.processors.admin import AdminProcessor\n",
    "from cyclops.processors.vitals import VitalsProcessor\n",
    "from cyclops.processors.feature_handler import FeatureHandler\n",
    "from cyclops.orm import Database\n",
    "\n",
    "%load_ext autoreload"
   ]
  },
  {
   "cell_type": "markdown",
   "id": "capable-office",
   "metadata": {},
   "source": [
    "## Load config, setup ORM"
   ]
  },
  {
   "cell_type": "code",
   "execution_count": 2,
   "id": "enormous-brooks",
   "metadata": {},
   "outputs": [
    {
     "name": "stderr",
     "output_type": "stream",
     "text": [
      "2022-03-04 21:24:26,977 \u001b[1;37mINFO\u001b[0m cyclops.orm     - Database setup, ready to run queries!\n"
     ]
    }
   ],
   "source": [
    "cfg = config.read_config(\"../configs/default/*.yaml\")\n",
    "db = Database(cfg)"
   ]
  },
  {
   "cell_type": "markdown",
   "id": "seasonal-momentum",
   "metadata": {},
   "source": [
    "## Quick check to see counts/sparsity of a certain field on GEMINI"
   ]
  },
  {
   "cell_type": "code",
   "execution_count": 3,
   "id": "further-release",
   "metadata": {},
   "outputs": [
    {
     "name": "stderr",
     "output_type": "stream",
     "text": [
      "2022-03-04 21:24:27,126 \u001b[1;37mINFO\u001b[0m cyclops.orm     - Query returned successfully!\n",
      "2022-03-04 21:24:27,128 \u001b[1;37mINFO\u001b[0m cyclops.utils.profile - Finished executing function run_query in 0.13529729843139648 s\n"
     ]
    },
    {
     "name": "stdout",
     "output_type": "stream",
     "text": [
      "Num. of unique values: 206\n",
      "         unique_values  unique_value_counts\n",
      "0                                    156141\n",
      "1              English                96756\n",
      "2              ENGLISH                36205\n",
      "3                  ENG                26434\n",
      "4                Other                 6306\n",
      "..                 ...                  ...\n",
      "95      Spanish & Eng.                    7\n",
      "96         Yugoslavian                    7\n",
      "97                 GUJ                    6\n",
      "98  Filipino (Ilocano)                    6\n",
      "99             Ilocano                    6\n",
      "\n",
      "[100 rows x 2 columns]\n"
     ]
    }
   ],
   "source": [
    "UNIQUE_VALUES = 'unique_values'\n",
    "UNIQUE_VALUE_COUNTS = 'unique_value_counts'\n",
    "unique_vals_field = db.public.ip_administrative.language\n",
    "query = select(unique_vals_field.label(UNIQUE_VALUES),\n",
    "               func.count(unique_vals_field).label(UNIQUE_VALUE_COUNTS)\n",
    "              )\n",
    "query = query.group_by(UNIQUE_VALUES).order_by(desc(UNIQUE_VALUE_COUNTS))\n",
    "\n",
    "counts = db.run_query(query)\n",
    "print(f\"Num. of unique values: {len(counts)}\")\n",
    "print(counts.head(100))"
   ]
  },
  {
   "cell_type": "markdown",
   "id": "turned-recycling",
   "metadata": {},
   "source": [
    "## Extract slices"
   ]
  },
  {
   "cell_type": "code",
   "execution_count": 4,
   "id": "minute-liabilities",
   "metadata": {},
   "outputs": [],
   "source": [
    "HOSPITAL = \"SMH\"\n",
    "YEAR = 2020\n",
    "LIMIT_LABS = 100000\n",
    "LIMIT_MEDICATIONS = 100000\n",
    "LIMIT_VITALS = 100000"
   ]
  },
  {
   "cell_type": "markdown",
   "id": "dimensional-success",
   "metadata": {},
   "source": [
    "## Query to get admin + diagnosis"
   ]
  },
  {
   "cell_type": "code",
   "execution_count": 5,
   "id": "supreme-doctor",
   "metadata": {},
   "outputs": [
    {
     "name": "stderr",
     "output_type": "stream",
     "text": [
      "2022-03-04 21:24:27,753 \u001b[1;37mINFO\u001b[0m cyclops.orm     - Query returned successfully!\n",
      "2022-03-04 21:24:27,756 \u001b[1;37mINFO\u001b[0m cyclops.utils.profile - Finished executing function run_query in 0.5941524505615234 s\n"
     ]
    },
    {
     "name": "stdout",
     "output_type": "stream",
     "text": [
      "15840 rows fetched!\n"
     ]
    }
   ],
   "source": [
    "query = select(db.public.ip_administrative.x,\n",
    "               db.public.diagnosis.x\n",
    "              ).where(and_(db.public.ip_administrative.hospital_id == HOSPITAL,\n",
    "                           extract('year', db.public.ip_administrative.admit_date_time) == YEAR))\\\n",
    "              .join(db.public.diagnosis.x, \n",
    "                    db.public.ip_administrative.genc_id == db.public.diagnosis.genc_id\n",
    "                   )\n",
    "              \n",
    "data = db.run_query(query)\n",
    "print(f\"{len(data)} rows fetched!\")"
   ]
  },
  {
   "cell_type": "markdown",
   "id": "looking-documentation",
   "metadata": {},
   "source": [
    "## Query to get admin + labs"
   ]
  },
  {
   "cell_type": "code",
   "execution_count": 6,
   "id": "smaller-cylinder",
   "metadata": {},
   "outputs": [
    {
     "name": "stderr",
     "output_type": "stream",
     "text": [
      "2022-03-04 21:25:17,331 \u001b[1;37mINFO\u001b[0m cyclops.orm     - Query returned successfully!\n",
      "2022-03-04 21:25:17,335 \u001b[1;37mINFO\u001b[0m cyclops.utils.profile - Finished executing function run_query in 49.564553022384644 s\n"
     ]
    },
    {
     "name": "stdout",
     "output_type": "stream",
     "text": [
      "100000 rows fetched!\n"
     ]
    }
   ],
   "source": [
    "query = select(db.public.ip_administrative.x,\n",
    "               db.public.lab.x\n",
    "              ).where(and_(db.public.ip_administrative.hospital_id == HOSPITAL,\n",
    "                           extract('year', db.public.ip_administrative.admit_date_time) == YEAR))\\\n",
    "              .join(db.public.lab.x, \n",
    "                    db.public.ip_administrative.genc_id == db.public.lab.genc_id\n",
    "                   ).where(db.public.lab.lab_test_name_mapped != '').limit(LIMIT_LABS) # Use limit here, since lab queries can have millions of rows!\n",
    "data = db.run_query(query)\n",
    "print(f\"{len(data)} rows fetched!\")"
   ]
  },
  {
   "cell_type": "markdown",
   "id": "coated-contest",
   "metadata": {},
   "source": [
    "## Query to get admin + pharmacy"
   ]
  },
  {
   "cell_type": "code",
   "execution_count": 7,
   "id": "relevant-roads",
   "metadata": {},
   "outputs": [
    {
     "name": "stderr",
     "output_type": "stream",
     "text": [
      "2022-03-04 21:25:20,761 \u001b[1;37mINFO\u001b[0m cyclops.orm     - Query returned successfully!\n",
      "2022-03-04 21:25:20,764 \u001b[1;37mINFO\u001b[0m cyclops.utils.profile - Finished executing function run_query in 3.401991605758667 s\n"
     ]
    },
    {
     "name": "stdout",
     "output_type": "stream",
     "text": [
      "76421 rows fetched!\n"
     ]
    }
   ],
   "source": [
    "query = select(db.public.ip_administrative.x,\n",
    "               db.public.pharmacy.x\n",
    "              ).where(and_(db.public.ip_administrative.hospital_id == HOSPITAL,\n",
    "                           extract('year', db.public.ip_administrative.admit_date_time) == YEAR))\\\n",
    "              .join(db.public.pharmacy.x, \n",
    "                    db.public.ip_administrative.genc_id == db.public.pharmacy.genc_id\n",
    "                   ).limit(LIMIT_MEDICATIONS) # Use limit here, since pharmacy queries can have millions of rows!\n",
    "data = db.run_query(query)\n",
    "print(f\"{len(data)} rows fetched!\")"
   ]
  },
  {
   "cell_type": "markdown",
   "id": "diverse-assembly",
   "metadata": {},
   "source": [
    "## Query to get admin + vitals"
   ]
  },
  {
   "cell_type": "code",
   "execution_count": 8,
   "id": "crude-disclosure",
   "metadata": {},
   "outputs": [
    {
     "name": "stderr",
     "output_type": "stream",
     "text": [
      "2022-03-04 21:25:22,099 \u001b[1;37mINFO\u001b[0m cyclops.orm     - Query returned successfully!\n",
      "2022-03-04 21:25:22,102 \u001b[1;37mINFO\u001b[0m cyclops.utils.profile - Finished executing function run_query in 1.23238205909729 s\n",
      "/mnt/nfs/project/delirium/dev_env/venv/lib/python3.8/site-packages/pandas/core/generic.py:2703: PerformanceWarning: \n",
      "your performance may suffer as PyTables will pickle object types that it cannot\n",
      "map directly to c-types [inferred_type->mixed,key->block2_values] [items->Index(['hospital_id', 'sex', 'language', 'total_cost',\n",
      "       'vital_measurement_name', 'vital_measurement_value', 'reference_range'],\n",
      "      dtype='object')]\n",
      "\n",
      "  pytables.to_hdf(\n"
     ]
    },
    {
     "name": "stdout",
     "output_type": "stream",
     "text": [
      "100000 rows fetched!\n"
     ]
    }
   ],
   "source": [
    "EXTRACT_SAVE_PATH = \"/mnt/nfs/project/delirium/_extract/vitals/extract.h5\"\n",
    "query = select(db.public.ip_administrative.genc_id.label(ENCOUNTER_ID),\n",
    "               db.public.ip_administrative.hospital_id.label(HOSPITAL_ID),\n",
    "               db.public.ip_administrative.admit_date_time.label(ADMIT_TIMESTAMP),\n",
    "               db.public.ip_administrative.discharge_date_time.label(DISCHARGE_TIMESTAMP),\n",
    "               db.public.ip_administrative.age.label(AGE),\n",
    "               db.public.ip_administrative.gender.label(SEX),\n",
    "               db.public.ip_administrative.language.label(LANGUAGE),\n",
    "               db.public.ip_administrative.total_cost.label(TOTAL_COST),\n",
    "               db.public.vitals.measurement_mapped.label(VITAL_MEASUREMENT_NAME),\n",
    "               db.public.vitals.measurement_value.label(VITAL_MEASUREMENT_VALUE),\n",
    "               db.public.vitals.measure_date_time.label(VITAL_MEASUREMENT_TIMESTAMP),\n",
    "               db.public.vitals.reference_range.label(REFERENCE_RANGE),\n",
    "              ).where(and_(db.public.ip_administrative.hospital_id == HOSPITAL,\n",
    "                           extract('year', db.public.ip_administrative.admit_date_time) == YEAR))\\\n",
    "              .join(db.public.vitals.x, \n",
    "                    db.public.ip_administrative.genc_id == db.public.vitals.genc_id\n",
    "                   )\\\n",
    "              .where(\n",
    "                  db.public.vitals.measurement_mapped != EMPTY_STRING,\n",
    "              )\\\n",
    "              .limit(LIMIT_VITALS)\n",
    "vitals_data = db.run_query(query)\n",
    "print(f\"{len(vitals_data)} rows fetched!\")\n",
    "vitals_data.to_hdf(\n",
    "    EXTRACT_SAVE_PATH,\n",
    "    key=f\"query_gemini_admin_vitals_{HOSPITAL}_{YEAR}\",\n",
    ")"
   ]
  },
  {
   "cell_type": "markdown",
   "id": "phantom-raise",
   "metadata": {},
   "source": [
    "## Process Admin data"
   ]
  },
  {
   "cell_type": "code",
   "execution_count": 9,
   "id": "strange-southwest",
   "metadata": {},
   "outputs": [
    {
     "name": "stderr",
     "output_type": "stream",
     "text": [
      "2022-03-04 21:25:22,895 \u001b[1;37mINFO\u001b[0m cyclops.processors.base - Processing raw admin data...\n",
      "2022-03-04 21:25:22,899 \u001b[1;37mINFO\u001b[0m cyclops.processors.base - # samples: 100000, # encounters: 583\n",
      "2022-03-04 21:25:22,902 \u001b[1;37mINFO\u001b[0m cyclops.processors.admin - # admin features: 2, # encounters: 583\n",
      "2022-03-04 21:25:23,231 \u001b[1;37mINFO\u001b[0m cyclops.utils.profile - Finished executing function process in 0.33580493927001953 s\n"
     ]
    },
    {
     "name": "stdout",
     "output_type": "stream",
     "text": [
      "          age sex\n",
      "11250661   79   M\n",
      "11250769   73   M\n",
      "11250994   88   F\n",
      "11251071   61   M\n",
      "11251119   51   F\n",
      "...       ...  ..\n",
      "11494456   62   M\n",
      "11494588   75   F\n",
      "11494627   89   F\n",
      "11494762   74   M\n",
      "11495242   54   M\n",
      "\n",
      "[583 rows x 2 columns]\n"
     ]
    }
   ],
   "source": [
    "%autoreload 2\n",
    "\n",
    "data = pd.read_hdf(\n",
    "    EXTRACT_SAVE_PATH,\n",
    "    key=f\"query_gemini_admin_vitals_{HOSPITAL}_{YEAR}\"\n",
    ")\n",
    "must_have_columns = [\n",
    "    ENCOUNTER_ID,\n",
    "    AGE,\n",
    "    SEX\n",
    "]\n",
    "\n",
    "admin_processor = AdminProcessor(data, must_have_columns)\n",
    "admin_features = admin_processor.process()\n",
    "\n",
    "feature_handler = FeatureHandler()\n",
    "feature_handler.add_features(admin_features)\n",
    "print(admin_features)"
   ]
  },
  {
   "cell_type": "markdown",
   "id": "terminal-steal",
   "metadata": {},
   "source": [
    "## Merge back admin + vitals"
   ]
  },
  {
   "cell_type": "code",
   "execution_count": 10,
   "id": "administrative-filter",
   "metadata": {},
   "outputs": [
    {
     "name": "stdout",
     "output_type": "stream",
     "text": [
      "          age  sex\n",
      "0    0.857230    1\n",
      "1    0.528293    1\n",
      "2    1.350635    0\n",
      "3   -0.129581    1\n",
      "4   -0.677810    0\n",
      "..        ...  ...\n",
      "578 -0.074758    1\n",
      "579  0.637938    0\n",
      "580  1.405458    0\n",
      "581  0.583116    1\n",
      "582 -0.513341    1\n",
      "\n",
      "[583 rows x 2 columns]\n"
     ]
    }
   ],
   "source": [
    "print(feature_handler.df_scaled)"
   ]
  },
  {
   "cell_type": "markdown",
   "id": "antique-shame",
   "metadata": {},
   "source": [
    "## Process vitals data"
   ]
  },
  {
   "cell_type": "code",
   "execution_count": 11,
   "id": "acoustic-testing",
   "metadata": {},
   "outputs": [
    {
     "name": "stderr",
     "output_type": "stream",
     "text": [
      "2022-03-04 21:25:23,552 \u001b[1;37mINFO\u001b[0m cyclops.processors.base - Processing raw vitals data...\n",
      "2022-03-04 21:25:23,556 \u001b[1;37mINFO\u001b[0m cyclops.processors.base - # samples: 100000, # encounters: 583\n",
      "2022-03-04 21:25:23,578 \u001b[1;37mINFO\u001b[0m cyclops.processors.base - Filtering vitals within aggregation window...\n",
      "2022-03-04 21:25:23,581 \u001b[1;37mINFO\u001b[0m cyclops.processors.base - # samples: 14429, # encounters: 573\n",
      "2022-03-04 21:25:23,603 \u001b[1;37mINFO\u001b[0m cyclops.processors.base - Drop oxygen flow rate, saturation samples...\n",
      "2022-03-04 21:25:23,605 \u001b[1;37mINFO\u001b[0m cyclops.processors.base - # samples: 10876, # encounters: 573\n",
      "2022-03-04 21:25:23,639 \u001b[1;37mINFO\u001b[0m cyclops.processors.base - Convert Positive/Negative to 1/0...\n",
      "2022-03-04 21:25:23,641 \u001b[1;37mINFO\u001b[0m cyclops.processors.base - # samples: 10876, # encounters: 573\n",
      "2022-03-04 21:25:23,645 \u001b[1;37mINFO\u001b[0m cyclops.processors.vitals - Converting string result values to numeric...\n",
      "2022-03-04 21:25:23,651 \u001b[1;37mINFO\u001b[0m cyclops.processors.base - Removing vitals with empty result values...\n",
      "2022-03-04 21:25:23,653 \u001b[1;37mINFO\u001b[0m cyclops.processors.base - # samples: 10876, # encounters: 573\n",
      "2022-03-04 21:25:23,655 \u001b[1;37mINFO\u001b[0m cyclops.processors.vitals - Creating features...\n",
      "2022-03-04 21:25:23,659 \u001b[1;37mINFO\u001b[0m cyclops.processors.vitals - # vitals features: 8, # encounters: 573\n",
      "2022-03-04 21:25:24,767 \u001b[1;37mINFO\u001b[0m cyclops.utils.profile - Finished executing function process in 1.2142503261566162 s\n"
     ]
    },
    {
     "name": "stdout",
     "output_type": "stream",
     "text": [
      "Reference range unique values\n",
      "['20-220' '0-40' '50-250' '25-45' '20-500' '20-200' 'NA-NA' '0-100']\n"
     ]
    }
   ],
   "source": [
    "%autoreload 2\n",
    "\n",
    "data = pd.read_hdf(\n",
    "    EXTRACT_SAVE_PATH,\n",
    "    key=f\"query_gemini_admin_vitals_{HOSPITAL}_{YEAR}\"\n",
    ")\n",
    "must_have_columns = [\n",
    "    ENCOUNTER_ID,\n",
    "    ADMIT_TIMESTAMP,\n",
    "    VITAL_MEASUREMENT_NAME,\n",
    "    VITAL_MEASUREMENT_VALUE,\n",
    "    VITAL_MEASUREMENT_TIMESTAMP,\n",
    "    REFERENCE_RANGE\n",
    "]\n",
    "feature_handler = FeatureHandler()\n",
    "vitals_processor = VitalsProcessor(data, must_have_columns)\n",
    "vitals_features = vitals_processor.process()\n",
    "feature_handler.add_features(vitals_features)\n",
    "\n",
    "print(\"Reference range unique values\")\n",
    "print(vitals_processor.data[REFERENCE_RANGE].unique())"
   ]
  },
  {
   "cell_type": "markdown",
   "id": "powered-retention",
   "metadata": {},
   "source": [
    "## Data quality report (admin + vitals)"
   ]
  },
  {
   "cell_type": "code",
   "execution_count": 12,
   "id": "transsexual-convenience",
   "metadata": {},
   "outputs": [],
   "source": [
    "dashboard = Dashboard(tabs=[DataQualityTab()])\n",
    "column_mapping = ColumnMapping(numerical_features=vitals_features.columns)\n",
    "dashboard.calculate(reference_data=feature_handler.df,\n",
    "                    current_data=None,\n",
    "                    column_mapping=column_mapping)\n",
    "dashboard.save(f\"vitals_processed_{HOSPITAL}_{YEAR}.html\")"
   ]
  }
 ],
 "metadata": {
  "kernelspec": {
   "display_name": "vector_delirium",
   "language": "python",
   "name": "vector_delirium"
  },
  "language_info": {
   "codemirror_mode": {
    "name": "ipython",
    "version": 3
   },
   "file_extension": ".py",
   "mimetype": "text/x-python",
   "name": "python",
   "nbconvert_exporter": "python",
   "pygments_lexer": "ipython3",
   "version": "3.8.5"
  }
 },
 "nbformat": 4,
 "nbformat_minor": 5
}
