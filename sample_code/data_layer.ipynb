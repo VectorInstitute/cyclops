{
 "cells": [
  {
   "cell_type": "markdown",
   "id": "structured-extent",
   "metadata": {},
   "source": [
    "## Imports"
   ]
  },
  {
   "cell_type": "code",
   "execution_count": 1,
   "id": "orange-average",
   "metadata": {},
   "outputs": [
    {
     "name": "stderr",
     "output_type": "stream",
     "text": [
      "2022-03-02 17:22:25,336 \u001b[1;37mINFO\u001b[0m config          - Log file is /mnt/nfs/home/krishnanam/log.log\n",
      "2022-03-02 17:22:25,348 \u001b[1;37mINFO\u001b[0m cyclops.utils.profile - Log file is /mnt/nfs/home/krishnanam/log.log\n",
      "2022-03-02 17:22:25,353 \u001b[1;37mINFO\u001b[0m cyclops.processors.vitals - Log file is /mnt/nfs/home/krishnanam/log.log\n",
      "2022-03-02 17:22:25,424 \u001b[1;37mINFO\u001b[0m cyclops.orm     - Log file is /mnt/nfs/home/krishnanam/log.log\n"
     ]
    }
   ],
   "source": [
    "import sys\n",
    "sys.path.append(\"..\")\n",
    "\n",
    "import pandas as pd\n",
    "import numpy as np\n",
    "import sqlalchemy\n",
    "from sqlalchemy import select, extract\n",
    "from sqlalchemy.sql.expression import and_\n",
    "\n",
    "from evidently import ColumnMapping\n",
    "from evidently.dashboard import Dashboard\n",
    "from evidently.dashboard.tabs import DataQualityTab\n",
    "from evidently.model_profile import Profile\n",
    "from evidently.model_profile.sections import DataQualityProfileSection\n",
    "\n",
    "import config\n",
    "import cyclops\n",
    "from cyclops.processors.column_names import (\n",
    "    ENCOUNTER_ID,\n",
    "    HOSPITAL_ID,\n",
    "    ADMIT_TIMESTAMP,\n",
    "    DISCHARGE_TIMESTAMP,\n",
    "    VITAL_MEASUREMENT_NAME,\n",
    "    VITAL_MEASUREMENT_VALUE,\n",
    "    VITAL_MEASUREMENT_TIMESTAMP,\n",
    "    REFERENCE_RANGE\n",
    ")\n",
    "from cyclops.processors.constants import EMPTY_STRING\n",
    "from cyclops.processors.vitals import VitalsProcessor\n",
    "from cyclops.processors.feature_handler import FeatureHandler\n",
    "from cyclops.orm import Database\n",
    "\n",
    "%load_ext autoreload"
   ]
  },
  {
   "cell_type": "markdown",
   "id": "capable-office",
   "metadata": {},
   "source": [
    "## Load config, setup ORM"
   ]
  },
  {
   "cell_type": "code",
   "execution_count": 2,
   "id": "enormous-brooks",
   "metadata": {},
   "outputs": [
    {
     "name": "stderr",
     "output_type": "stream",
     "text": [
      "2022-03-02 17:22:26,097 \u001b[1;37mINFO\u001b[0m cyclops.orm     - Database setup, ready to run queries!\n"
     ]
    }
   ],
   "source": [
    "cfg = config.read_config(\"../configs/default/*.yaml\")\n",
    "db = Database(cfg)"
   ]
  },
  {
   "cell_type": "markdown",
   "id": "turned-recycling",
   "metadata": {},
   "source": [
    "## Extract slices"
   ]
  },
  {
   "cell_type": "code",
   "execution_count": 3,
   "id": "minute-liabilities",
   "metadata": {},
   "outputs": [],
   "source": [
    "HOSPITAL = \"SMH\"\n",
    "YEAR = 2020\n",
    "LIMIT_LABS = 100000\n",
    "LIMIT_MEDICATIONS = 100000\n",
    "LIMIT_VITALS = 100000"
   ]
  },
  {
   "cell_type": "markdown",
   "id": "dimensional-success",
   "metadata": {},
   "source": [
    "## Query to get admin + diagnosis"
   ]
  },
  {
   "cell_type": "code",
   "execution_count": 4,
   "id": "supreme-doctor",
   "metadata": {},
   "outputs": [
    {
     "name": "stderr",
     "output_type": "stream",
     "text": [
      "2022-03-02 17:22:27,187 \u001b[1;37mINFO\u001b[0m cyclops.orm     - Query returned successfully!\n",
      "2022-03-02 17:22:27,190 \u001b[1;37mINFO\u001b[0m cyclops.utils.profile - Finished executing function run_query in 1.0613429546356201 s\n"
     ]
    },
    {
     "name": "stdout",
     "output_type": "stream",
     "text": [
      "15840 rows fetched!\n"
     ]
    }
   ],
   "source": [
    "query = select(db.public.ip_administrative.x,\n",
    "               db.public.diagnosis.x\n",
    "              ).where(and_(db.public.ip_administrative.hospital_id == HOSPITAL,\n",
    "                           extract('year', db.public.ip_administrative.admit_date_time) == YEAR))\\\n",
    "              .join(db.public.diagnosis.x, \n",
    "                    db.public.ip_administrative.genc_id == db.public.diagnosis.genc_id\n",
    "                   )\n",
    "              \n",
    "data = db.run_query(query)\n",
    "print(f\"{len(data)} rows fetched!\")"
   ]
  },
  {
   "cell_type": "markdown",
   "id": "looking-documentation",
   "metadata": {},
   "source": [
    "## Query to get admin + labs"
   ]
  },
  {
   "cell_type": "code",
   "execution_count": null,
   "id": "smaller-cylinder",
   "metadata": {},
   "outputs": [],
   "source": [
    "query = select(db.public.ip_administrative.x,\n",
    "               db.public.lab.x\n",
    "              ).where(and_(db.public.ip_administrative.hospital_id == HOSPITAL,\n",
    "                           extract('year', db.public.ip_administrative.admit_date_time) == YEAR))\\\n",
    "              .join(db.public.lab.x, \n",
    "                    db.public.ip_administrative.genc_id == db.public.lab.genc_id\n",
    "                   ).where(db.public.lab.lab_test_name_mapped != '').limit(LIMIT_LABS) # Use limit here, since lab queries can have millions of rows!\n",
    "data = db.run_query(query)\n",
    "print(f\"{len(data)} rows fetched!\")"
   ]
  },
  {
   "cell_type": "markdown",
   "id": "coated-contest",
   "metadata": {},
   "source": [
    "## Query to get admin + pharmacy"
   ]
  },
  {
   "cell_type": "code",
   "execution_count": null,
   "id": "relevant-roads",
   "metadata": {},
   "outputs": [],
   "source": [
    "query = select(db.public.ip_administrative.x,\n",
    "               db.public.pharmacy.x\n",
    "              ).where(and_(db.public.ip_administrative.hospital_id == HOSPITAL,\n",
    "                           extract('year', db.public.ip_administrative.admit_date_time) == YEAR))\\\n",
    "              .join(db.public.pharmacy.x, \n",
    "                    db.public.ip_administrative.genc_id == db.public.pharmacy.genc_id\n",
    "                   ).limit(LIMIT_MEDICATIONS) # Use limit here, since pharmacy queries can have millions of rows!\n",
    "data = db.run_query(query)\n",
    "print(f\"{len(data)} rows fetched!\")"
   ]
  },
  {
   "cell_type": "markdown",
   "id": "diverse-assembly",
   "metadata": {},
   "source": [
    "## Query to get admin + vitals"
   ]
  },
  {
   "cell_type": "code",
   "execution_count": null,
   "id": "crude-disclosure",
   "metadata": {},
   "outputs": [],
   "source": [
    "query = select(db.public.ip_administrative.genc_id.label(ENCOUNTER_ID),\n",
    "               db.public.ip_administrative.hospital_id.label(HOSPITAL_ID),\n",
    "               db.public.ip_administrative.admit_date_time.label(ADMIT_TIMESTAMP),\n",
    "               db.public.ip_administrative.discharge_date_time.label(DISCHARGE_TIMESTAMP),\n",
    "               db.public.vitals.measurement_mapped.label(VITAL_MEASUREMENT_NAME),\n",
    "               db.public.vitals.measurement_value.label(VITAL_MEASUREMENT_VALUE),\n",
    "               db.public.vitals.measure_date_time.label(VITAL_MEASUREMENT_TIMESTAMP),\n",
    "               db.public.vitals.reference_range.label(REFERENCE_RANGE),\n",
    "              ).where(and_(db.public.ip_administrative.hospital_id == HOSPITAL,\n",
    "                           extract('year', db.public.ip_administrative.admit_date_time) == YEAR))\\\n",
    "              .join(db.public.vitals.x, \n",
    "                    db.public.ip_administrative.genc_id == db.public.vitals.genc_id\n",
    "                   )\\\n",
    "              .where(\n",
    "                  db.public.vitals.measurement_mapped != EMPTY_STRING,\n",
    "              )\\\n",
    "              .limit(LIMIT_VITALS)\n",
    "vitals_data = db.run_query(query)\n",
    "print(f\"{len(vitals_data)} rows fetched!\")\n",
    "vitals_data.to_hdf(\n",
    "    \"/mnt/nfs/project/delirium/_extract/vitals/extract.h5\",\n",
    "    key=f\"query_gemini_vitals_{HOSPITAL}_{YEAR}\",\n",
    ")"
   ]
  },
  {
   "cell_type": "markdown",
   "id": "antique-shame",
   "metadata": {},
   "source": [
    "## Process vitals data"
   ]
  },
  {
   "cell_type": "code",
   "execution_count": null,
   "id": "acoustic-testing",
   "metadata": {},
   "outputs": [],
   "source": [
    "%autoreload 2\n",
    "\n",
    "data = pd.read_hdf(\n",
    "    \"/mnt/nfs/project/delirium/_extract/vitals/extract.h5\",\n",
    "    key=f\"query_gemini_vitals_{HOSPITAL}_{YEAR}\"\n",
    ")\n",
    "must_have_columns = [\n",
    "    ENCOUNTER_ID,\n",
    "    ADMIT_TIMESTAMP,\n",
    "    VITAL_MEASUREMENT_NAME,\n",
    "    VITAL_MEASUREMENT_VALUE,\n",
    "    VITAL_MEASUREMENT_TIMESTAMP,\n",
    "    REFERENCE_RANGE\n",
    "]\n",
    "feature_handler = FeatureHandler()\n",
    "vitals_processor = VitalsProcessor(data, must_have_columns)\n",
    "vitals_features = vitals_processor.process()\n",
    "feature_handler.add_features(vitals_features)\n",
    "\n",
    "print(\"Reference range unique values\")\n",
    "print(vitals_processor.data[REFERENCE_RANGE].unique())"
   ]
  },
  {
   "cell_type": "markdown",
   "id": "powered-retention",
   "metadata": {},
   "source": [
    "## Data quality report (vitals)"
   ]
  },
  {
   "cell_type": "code",
   "execution_count": null,
   "id": "transsexual-convenience",
   "metadata": {},
   "outputs": [],
   "source": [
    "dashboard = Dashboard(tabs=[DataQualityTab()])\n",
    "column_mapping = ColumnMapping(numerical_features=vitals_features.columns)\n",
    "dashboard.calculate(reference_data=feature_handler.df,\n",
    "                    current_data=None,\n",
    "                    column_mapping=column_mapping)\n",
    "dashboard.save(f\"vitals_processed_{HOSPITAL}_{YEAR}.html\")"
   ]
  }
 ],
 "metadata": {
  "kernelspec": {
   "display_name": "vector_delirium",
   "language": "python",
   "name": "vector_delirium"
  },
  "language_info": {
   "codemirror_mode": {
    "name": "ipython",
    "version": 3
   },
   "file_extension": ".py",
   "mimetype": "text/x-python",
   "name": "python",
   "nbconvert_exporter": "python",
   "pygments_lexer": "ipython3",
   "version": "3.8.5"
  }
 },
 "nbformat": 4,
 "nbformat_minor": 5
}
