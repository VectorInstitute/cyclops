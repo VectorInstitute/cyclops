{
 "cells": [
  {
   "cell_type": "code",
   "execution_count": 9,
   "id": "piano-yield",
   "metadata": {},
   "outputs": [],
   "source": [
    "import sys\n",
    "sys.path.append(\"..\")\n",
    "import mlflow\n",
    "import pandas as pd\n",
    "\n",
    "def get_parameters_list(data):\n",
    "    params  = data['params']\n",
    "    return [params['model'], params['dataset']]\n",
    "\n",
    "\n",
    "def get_metrics_list(data):\n",
    "    if ('metrics' in data.keys()) and data['metrics']:\n",
    "        metrics = data['metrics']\n",
    "        return [metrics['accuracy'], metrics['f1_score']]\n",
    "    else:\n",
    "        return ['-', '-']"
   ]
  },
  {
   "cell_type": "code",
   "execution_count": 10,
   "id": "manual-diana",
   "metadata": {
    "scrolled": true
   },
   "outputs": [
    {
     "name": "stdout",
     "output_type": "stream",
     "text": [
      "         Name                                          Artifacts  Status\n",
      "0  Prediction  file:///mnt/nfs/home/koshkinam/vector-delirium...  active\n",
      "1     Default  file:///mnt/nfs/home/koshkinam/vector-delirium...  active\n"
     ]
    }
   ],
   "source": [
    "# List all existing experiments\n",
    "all_experiments = mlflow.list_experiments()\n",
    "exp_data = []\n",
    "for exp in all_experiments:\n",
    "    row = [exp.name, exp.artifact_location, exp.lifecycle_stage]\n",
    "    exp_data.append(row)\n",
    "exp_frame = pd.DataFrame(exp_data, columns = ['Name', 'Artifacts', 'Status'])\n",
    "print(exp_frame)"
   ]
  },
  {
   "cell_type": "code",
   "execution_count": 3,
   "id": "copyrighted-recording",
   "metadata": {
    "scrolled": true
   },
   "outputs": [
    {
     "name": "stdout",
     "output_type": "stream",
     "text": [
      "------------------- Model Training Runs ----------------------\n",
      "  Model Dataset  Accuracy  F1 Score\n",
      "0   mlp  gemini  0.678671  0.377898\n",
      "1   mlp  gemini  0.679517  0.357868\n",
      "2   mlp  gemini  0.673196  0.325274\n",
      "3   mlp  gemini  0.680284  0.378093\n",
      "4   mlp    None         -         -\n"
     ]
    }
   ],
   "source": [
    "# For model training experiment - display last 100 runs with a subset of parameters and metrics\n",
    "exp = mlflow.get_experiment_by_name('Default')\n",
    "runs = mlflow.list_run_infos(exp.experiment_id, max_results=100)\n",
    "data = []\n",
    "for r in runs:\n",
    "    run_data = mlflow.get_run(r.run_id).to_dictionary()['data']\n",
    "    row = get_parameters_list(run_data) + get_metrics_list(run_data)\n",
    "    data.append(row)\n",
    "frame = pd.DataFrame(data, columns=['Model', 'Dataset', 'Accuracy', 'F1 Score'])\n",
    "print('------------------- Model Training Runs ----------------------')\n",
    "print(frame)"
   ]
  },
  {
   "cell_type": "code",
   "execution_count": 8,
   "id": "corporate-success",
   "metadata": {},
   "outputs": [
    {
     "data": {
      "image/png": "[encoded data removed]",
      "text/plain": [
       "<Figure size 432x288 with 1 Axes>"
      ]
     },
     "metadata": {
      "needs_background": "light"
     },
     "output_type": "display_data"
    }
   ],
   "source": [
    "# Show training metrics for the latest model\n",
    "from mlflow.tracking import MlflowClient\n",
    "import matplotlib.pyplot as plt\n",
    "import numpy as np\n",
    "\n",
    "client = MlflowClient()\n",
    "\n",
    "# Show training metrics for the latest model\n",
    "runs = mlflow.list_run_infos(exp.experiment_id, max_results=100)\n",
    "current = runs[0]\n",
    "losses = client.get_metric_history(current.run_id, 'epoch_loss')\n",
    "y = [l.value for l in losses]\n",
    "\n",
    "fig = plt.figure()\n",
    "ax = plt.axes()\n",
    "x = list(range(len(losses)))\n",
    "\n",
    "plt.plot(x, y, '-', linewidth=3)\n",
    "\n",
    "#ax.set_xticks(x)\n",
    "\n",
    "plt.grid()\n",
    "plt.show()"
   ]
  },
  {
   "cell_type": "code",
   "execution_count": 1,
   "id": "treated-contract",
   "metadata": {},
   "outputs": [],
   "source": [
    "import config.config as config\n",
    "import tasks.predict as predict\n",
    "import sys\n",
    "sys.path.append(\"..\")"
   ]
  },
  {
   "cell_type": "code",
   "execution_count": 3,
   "id": "respective-terrorism",
   "metadata": {},
   "outputs": [
    {
     "name": "stdout",
     "output_type": "stream",
     "text": [
      "{'config_file': None, 'extract': False, 'train': False, 'predict': False, 'analyze': False, 'user': 'koshkinam', 'password': 'Masha1978', 'port': 5432, 'host': 'db.gemini-hpc.ca', 'database': 'delirium_v3_0_0', 'w': False, 'r': False, 'input': '/mnt/nfs/project/delirium/data/all_before_2018.csv', 'output_folder': '/mnt/nfs/project/delirium/data', 'output_full_path': None, 'stats_path': '/mnt/nfs/project/delirium/data/all_before_2018_stats.pkl', 'features': ['sex', 'age', 'mort_hosp', 'readmission_7', 'readmission_28', 'palliative', 'los_er', 'icd10_A00_B99', 'icd10_C00_D49', 'icd10_D50_D89', 'icd10_E00_E89', 'icd10_F01_F99', 'icd10_G00_G99', 'icd10_H00_H59', 'icd10_H60_H95', 'icd10_I00_I99', 'icd10_J00_J99', 'icd10_K00_K95', 'icd10_L00_L99', 'icd10_M00_M99', 'icd10_N00_N99', 'icd10_O00_O99', 'icd10_Q00_Q99', 'icd10_R00_R99', 'icd10_S00_T88', 'icd10_U07_U08', 'icd10_Z00_Z99', 'icd10_nan'], 'target': 'los', 'pop_size': 10000, 'filter_year': None, 'filter_date_from': '', 'filter_date_to': '', 'split_column': 'year', 'test_split': '2018', 'val_split': '2017', 'train_split': [], 'model': 'mlp', 'model_path': './model.pt', 'dataset': 'gemini', 'batch_size': 64, 'num_workers': 0, 'num_epochs': 100, 'shuffle': False, 'data_dim': 24, 'data_len': 10000, 'lr': 0.0003, 'threshold': 0.5, 'result_output': '../result.csv', 'type': 'dataset', 'slice': None, 'data_ref': [], 'data_eval': [], 'numerical_features': ['age', 'los_er'], 'categorical_features': ['hospital_id', 'sex', 'mort_hosp', 'readmission_7', 'readmission_28', 'palliative', 'icd10_A00_B99', 'icd10_C00_D49', 'icd10_D50_D89', 'icd10_E00_E89', 'icd10_F01_F99', 'icd10_G00_G99', 'icd10_H00_H59', 'icd10_H60_H95', 'icd10_I00_I99', 'icd10_J00_J99', 'icd10_K00_K95', 'icd10_L00_L99', 'icd10_M00_M99', 'icd10_N00_N99', 'icd10_O00_O99', 'icd10_Q00_Q99', 'icd10_R00_R99', 'icd10_S00_T88', 'icd10_Z00_Z99'], 'report_path': '../', 'report_full_path': '', 'html': False, 'target_num': False, 'prediction_col': 'prediction', 'reference': '../gemini_val_result.csv', 'test': '../gemini_test_result.csv'}\n"
     ]
    }
   ],
   "source": [
    "cfg = config.read_config('../config/gemini.cfg')\n",
    "cfg.model_path = './model_updated_rescale.pt'\n",
    "cfg.result_output = '../temp_result.csv'"
   ]
  },
  {
   "cell_type": "code",
   "execution_count": 4,
   "id": "charitable-million",
   "metadata": {},
   "outputs": [
    {
     "name": "stdout",
     "output_type": "stream",
     "text": [
      "{'means': age       68.942782\n",
      "los_er    18.431886\n",
      "dtype: float64, 'std': age       18.734934\n",
      "los_er    13.019908\n",
      "dtype: float64}\n"
     ]
    }
   ],
   "source": [
    "predict.main(cfg)"
   ]
  },
  {
   "cell_type": "code",
   "execution_count": null,
   "id": "suspended-landscape",
   "metadata": {},
   "outputs": [],
   "source": []
  }
 ],
 "metadata": {
  "kernelspec": {
   "display_name": "MK Env",
   "language": "python",
   "name": "mkenv"
  },
  "language_info": {
   "codemirror_mode": {
    "name": "ipython",
    "version": 3
   },
   "file_extension": ".py",
   "mimetype": "text/x-python",
   "name": "python",
   "nbconvert_exporter": "python",
   "pygments_lexer": "ipython3",
   "version": "3.8.12"
  }
 },
 "nbformat": 4,
 "nbformat_minor": 5
}
