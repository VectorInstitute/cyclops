{
 "cells": [
  {
   "cell_type": "code",
   "execution_count": 2,
   "id": "scientific-unemployment",
   "metadata": {},
   "outputs": [
    {
     "name": "stderr",
     "output_type": "stream",
     "text": [
      "2021-12-03 16:47:38.388234: I tensorflow/compiler/jit/xla_cpu_device.cc:41] Not creating XLA devices, tf_xla_enable_xla_devices not set\n",
      "2021-12-03 16:47:38.389078: I tensorflow/core/platform/cpu_feature_guard.cc:142] This TensorFlow binary is optimized with oneAPI Deep Neural Network Library (oneDNN) to use the following CPU instructions in performance-critical operations:  SSE4.1 SSE4.2 AVX AVX2 AVX512F FMA\n",
      "To enable them in other operations, rebuild TensorFlow with the appropriate compiler flags.\n",
      "2021-12-03 16:47:38.389884: I tensorflow/core/common_runtime/process_util.cc:146] Creating new thread pool with default inter op setting: 2. Tune using inter_op_parallelism_threads for best performance.\n"
     ]
    }
   ],
   "source": [
    "import pandas as pd\n",
    "import tensorflow as tf\n",
    "import alibi\n",
    "import torch.nn as nn\n",
    "from alibi_detect.cd import ClassifierDrift\n",
    "from alibi_detect.cd.pytorch import preprocess_drift\n",
    "import matplotlib.pyplot as plt\n",
    "import numpy as np\n",
    "import torch\n",
    "import tensorflow as tf\n",
    "import pandas as pd\n",
    "import scipy\n",
    "from sklearn.decomposition import PCA\n",
    "from alibi_detect.cd import MMDDriftOnline\n",
    "from alibi_detect.cd import MMDDrift"
   ]
  },
  {
   "cell_type": "code",
   "execution_count": 3,
   "id": "threaded-kentucky",
   "metadata": {},
   "outputs": [],
   "source": [
    "data = pd.read_csv('/mnt/nfs/project/delirium/data/all_before_2018.csv')\n",
    "data_2019 = pd.read_csv('/mnt/nfs/project/delirium/data/data_2019.csv')\n",
    "data_2020 = pd.read_csv('/mnt/nfs/project/delirium/data/data_2020.csv')"
   ]
  },
  {
   "cell_type": "code",
   "execution_count": 4,
   "id": "sitting-swing",
   "metadata": {},
   "outputs": [],
   "source": [
    "features= ['sex', 'age', 'mort_hosp', 'readmission_7', 'readmission_28', 'palliative', 'los_er', 'icd10_A00_B99',\n",
    "       'icd10_C00_D49', 'icd10_D50_D89', 'icd10_E00_E89', 'icd10_F01_F99',\n",
    "       'icd10_G00_G99', 'icd10_H00_H59', 'icd10_H60_H95', 'icd10_I00_I99',\n",
    "       'icd10_J00_J99', 'icd10_K00_K95', 'icd10_L00_L99', 'icd10_M00_M99',\n",
    "       'icd10_N00_N99', 'icd10_O00_O99', 'icd10_Q00_Q99', 'icd10_R00_R99',\n",
    "       'icd10_S00_T88', 'icd10_Z00_Z99', 'icd10_nan']"
   ]
  },
  {
   "cell_type": "code",
   "execution_count": 5,
   "id": "incorporated-stopping",
   "metadata": {},
   "outputs": [],
   "source": [
    "data[features] = data[features].fillna(0)\n",
    "data_2019[features] = data_2019[features].fillna(0)\n",
    "data_2020[features] = data_2020[features].fillna(0)"
   ]
  },
  {
   "cell_type": "code",
   "execution_count": 6,
   "id": "synthetic-accreditation",
   "metadata": {},
   "outputs": [
    {
     "name": "stdout",
     "output_type": "stream",
     "text": [
      "<class 'pandas.core.frame.DataFrame'>\n",
      "RangeIndex: 281565 entries, 0 to 281564\n",
      "Data columns (total 27 columns):\n",
      " #   Column          Non-Null Count   Dtype  \n",
      "---  ------          --------------   -----  \n",
      " 0   sex             281565 non-null  int64  \n",
      " 1   age             281565 non-null  int64  \n",
      " 2   mort_hosp       281565 non-null  int64  \n",
      " 3   readmission_7   281565 non-null  int64  \n",
      " 4   readmission_28  281565 non-null  int64  \n",
      " 5   palliative      281565 non-null  int64  \n",
      " 6   los_er          281565 non-null  float64\n",
      " 7   icd10_A00_B99   281565 non-null  int64  \n",
      " 8   icd10_C00_D49   281565 non-null  int64  \n",
      " 9   icd10_D50_D89   281565 non-null  int64  \n",
      " 10  icd10_E00_E89   281565 non-null  int64  \n",
      " 11  icd10_F01_F99   281565 non-null  int64  \n",
      " 12  icd10_G00_G99   281565 non-null  int64  \n",
      " 13  icd10_H00_H59   281565 non-null  int64  \n",
      " 14  icd10_H60_H95   281565 non-null  int64  \n",
      " 15  icd10_I00_I99   281565 non-null  int64  \n",
      " 16  icd10_J00_J99   281565 non-null  int64  \n",
      " 17  icd10_K00_K95   281565 non-null  int64  \n",
      " 18  icd10_L00_L99   281565 non-null  int64  \n",
      " 19  icd10_M00_M99   281565 non-null  int64  \n",
      " 20  icd10_N00_N99   281565 non-null  int64  \n",
      " 21  icd10_O00_O99   281565 non-null  int64  \n",
      " 22  icd10_Q00_Q99   281565 non-null  int64  \n",
      " 23  icd10_R00_R99   281565 non-null  int64  \n",
      " 24  icd10_S00_T88   281565 non-null  int64  \n",
      " 25  icd10_Z00_Z99   281565 non-null  int64  \n",
      " 26  icd10_nan       281565 non-null  int64  \n",
      "dtypes: float64(1), int64(26)\n",
      "memory usage: 58.0 MB\n"
     ]
    }
   ],
   "source": [
    "data[features].info()"
   ]
  },
  {
   "cell_type": "code",
   "execution_count": 7,
   "id": "alike-living",
   "metadata": {},
   "outputs": [],
   "source": [
    "x_tr = data[features].values.astype('float32')\n",
    "x_ref = data_2019[features].values.astype('float32')\n",
    "x_d= data_2020[features].values.astype('float32')"
   ]
  },
  {
   "cell_type": "code",
   "execution_count": 8,
   "id": "subject-animal",
   "metadata": {},
   "outputs": [],
   "source": [
    "#tr_slices = [2006, 2008,2009, 2010, 2011, 2012, 2013, 2014,2015]\n",
    "#ref_slices = [2016]\n",
    "#eval_slices = [2017]\n",
    "#x_tr = data.loc[data['year'].isin(tr_slices)][features].values.astype('float32')\n",
    "#x_ref = data.loc[data['year'].isin(ref_slices)][features].values.astype('float32')\n",
    "#x_d= data.loc[data['year'].isin(eval_slices)][features].values.astype('float32')"
   ]
  },
  {
   "cell_type": "markdown",
   "id": "damaged-function",
   "metadata": {},
   "source": [
    "## using PCA for dimensional reduction and pre-processing"
   ]
  },
  {
   "cell_type": "code",
   "execution_count": 9,
   "id": "animal-candy",
   "metadata": {},
   "outputs": [],
   "source": [
    "pca = PCA(2)\n",
    "pca.fit(x_tr)\n",
    "x_ref_2 = pca.transform(x_ref)\n",
    "x_d_2 = pca.transform(x_d)"
   ]
  },
  {
   "cell_type": "code",
   "execution_count": 10,
   "id": "mexican-renaissance",
   "metadata": {},
   "outputs": [
    {
     "data": {
      "image/png": "[encoded data removed]",
      "text/plain": [
       "<Figure size 432x288 with 1 Axes>"
      ]
     },
     "metadata": {
      "needs_background": "light"
     },
     "output_type": "display_data"
    }
   ],
   "source": [
    "plt.scatter(pca.transform(x_tr)[:,0], pca.transform(x_tr)[:,1], alpha=0.2, color='black', label='before 2018')\n",
    "plt.scatter(x_ref_2[:,0], x_ref_2[:,1], alpha=0.2, color='green', label='2019')\n",
    "plt.scatter(x_d_2[:,0], x_d_2[:,1], alpha=0.2, color='red', label='2020')\n",
    "plt.legend(loc='upper right')\n",
    "plt.show()"
   ]
  },
  {
   "cell_type": "code",
   "execution_count": 11,
   "id": "happy-sacrifice",
   "metadata": {},
   "outputs": [
    {
     "name": "stdout",
     "output_type": "stream",
     "text": [
      "No GPU detected, fall back on CPU.\n"
     ]
    }
   ],
   "source": [
    "cd = MMDDrift(x_ref[:100,:], backend='pytorch', preprocess_fn=pca.transform)"
   ]
  },
  {
   "cell_type": "code",
   "execution_count": 12,
   "id": "preceding-thinking",
   "metadata": {},
   "outputs": [],
   "source": [
    "pred = cd.predict(x_d[:100,:])\n",
    "if pred['data']['is_drift'] == 1:\n",
    "    print ('drift detected')"
   ]
  },
  {
   "cell_type": "markdown",
   "id": "future-regard",
   "metadata": {},
   "source": [
    "## using other models such as deep learning for dimensionality reduction and pre-processing"
   ]
  },
  {
   "cell_type": "code",
   "execution_count": 13,
   "id": "local-nightmare",
   "metadata": {},
   "outputs": [],
   "source": [
    "device = torch.device('cuda' if torch.cuda.is_available() else 'cpu')\n",
    "data_dim = x_tr.shape[-1]\n",
    "model = nn.Sequential(\n",
    "        nn.Linear(data_dim, 16),\n",
    "        nn.SiLU(),\n",
    "        nn.Linear(16, 8),\n",
    "        nn.SiLU(),\n",
    "        nn.Linear(8, 1),\n",
    ").to(device)"
   ]
  },
  {
   "cell_type": "code",
   "execution_count": 14,
   "id": "fifth-convenience",
   "metadata": {},
   "outputs": [],
   "source": [
    "from functools import partial\n",
    "preprocess_fn = partial(preprocess_drift, model=model, device=device, batch_size=512)"
   ]
  },
  {
   "cell_type": "code",
   "execution_count": 15,
   "id": "democratic-teach",
   "metadata": {},
   "outputs": [
    {
     "name": "stdout",
     "output_type": "stream",
     "text": [
      "No GPU detected, fall back on CPU.\n"
     ]
    }
   ],
   "source": [
    "cd = MMDDrift(x_ref[:100,:], backend='pytorch', p_val=.05, preprocess_fn=preprocess_fn)\n"
   ]
  },
  {
   "cell_type": "code",
   "execution_count": 16,
   "id": "impossible-terminology",
   "metadata": {},
   "outputs": [
    {
     "name": "stdout",
     "output_type": "stream",
     "text": [
      "no drift is detected\n"
     ]
    }
   ],
   "source": [
    "pred = cd.predict(x_d[:100,:])\n",
    "if pred['data']['is_drift'] == 1:\n",
    "    print ('drift detected')\n",
    "else:\n",
    "    print ('no drift is detected')"
   ]
  }
 ],
 "metadata": {
  "kernelspec": {
   "display_name": "evalproj",
   "language": "python",
   "name": "evalproj"
  },
  "language_info": {
   "codemirror_mode": {
    "name": "ipython",
    "version": 3
   },
   "file_extension": ".py",
   "mimetype": "text/x-python",
   "name": "python",
   "nbconvert_exporter": "python",
   "pygments_lexer": "ipython3",
   "version": "3.8.11"
  }
 },
 "nbformat": 4,
 "nbformat_minor": 5
}
