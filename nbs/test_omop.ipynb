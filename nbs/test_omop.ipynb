{
 "cells": [
  {
   "cell_type": "markdown",
   "id": "caa6b26b-3995-4f66-8570-1c45a5f276e5",
   "metadata": {},
   "source": [
    "## Test OMOP query functions on GEMINI (gemini_omop_beta2) DB"
   ]
  },
  {
   "cell_type": "code",
   "execution_count": null,
   "id": "bae0e73c-dd85-400b-97fd-0a966c155292",
   "metadata": {},
   "outputs": [],
   "source": [
    "import cyclops.query.gemini_omop as gemini\n",
    "from cyclops.query.interface import QueryInterface"
   ]
  },
  {
   "cell_type": "code",
   "execution_count": null,
   "id": "03b27b73-4e63-44ed-aa72-991630adc072",
   "metadata": {},
   "outputs": [],
   "source": [
    "tables = [table for table in dir(gemini._db.ods) if \"__\" not in table]\n",
    "tables"
   ]
  },
  {
   "cell_type": "markdown",
   "id": "43df58ad-96a1-4c00-8998-48fbd8a8de12",
   "metadata": {},
   "source": [
    "## Visit occurrence table"
   ]
  },
  {
   "cell_type": "code",
   "execution_count": null,
   "id": "c1d492ea-557c-49f9-8a11-40cfb862db21",
   "metadata": {},
   "outputs": [],
   "source": [
    "visits_query_interface = gemini.visit_occurrence(\n",
    "    years=[2019],\n",
    "    months=[1, 4],\n",
    ")\n",
    "visits = visits_query_interface.run()\n",
    "visits"
   ]
  },
  {
   "cell_type": "markdown",
   "id": "e3f40638-9d6f-4117-b7ee-a0246d7f24c9",
   "metadata": {},
   "source": [
    "## Visit detail table"
   ]
  },
  {
   "cell_type": "code",
   "execution_count": null,
   "id": "d80bae67-3c49-41f9-8e45-ae928eb4c619",
   "metadata": {},
   "outputs": [],
   "source": [
    "visit_details = gemini.visit_detail(\n",
    "    visit_occurrence_table=visits_query_interface.query,\n",
    "    care_unit=[\"Emergency Room\"],\n",
    ").run()\n",
    "visit_details"
   ]
  },
  {
   "cell_type": "markdown",
   "id": "c1ab8e42-da59-45c5-8e56-b8ec8e6af422",
   "metadata": {},
   "source": [
    "## Person table"
   ]
  },
  {
   "cell_type": "code",
   "execution_count": null,
   "id": "525f11aa-744e-47ed-8a9d-6191d93b75ee",
   "metadata": {},
   "outputs": [],
   "source": [
    "persons = gemini.person(\n",
    "    visit_occurrence_table=visits_query_interface.query,\n",
    "    gender=\"female\",\n",
    ").run()\n",
    "persons"
   ]
  },
  {
   "cell_type": "markdown",
   "id": "a80f9c35-5f77-4a9c-98a7-f1d9fc2309c0",
   "metadata": {},
   "source": [
    "## Observation period table"
   ]
  },
  {
   "cell_type": "code",
   "execution_count": null,
   "id": "6b421a08-2f64-497c-ac24-89520e52e7c2",
   "metadata": {},
   "outputs": [],
   "source": [
    "observation_period_table = QueryInterface(gemini._db, gemini._db.ods.observation_period)\n",
    "observation_period_table.run(limit=1000)\n",
    "print(observation_period_table.data.columns)\n",
    "observation_period_table.data"
   ]
  },
  {
   "cell_type": "markdown",
   "id": "6ca2a265-1963-424b-9d58-a0796c590377",
   "metadata": {},
   "source": [
    "## Measurement table"
   ]
  },
  {
   "cell_type": "code",
   "execution_count": null,
   "id": "d255bcfb-b378-4c1e-b36d-ad3576f2cc78",
   "metadata": {},
   "outputs": [],
   "source": [
    "measurements = gemini.measurement(\n",
    "    visit_occurrence_table=visits_query_interface.query,\n",
    ").run(limit=1000)\n",
    "measurements"
   ]
  },
  {
   "cell_type": "code",
   "execution_count": null,
   "id": "a2dd8651-fb09-4863-8e5f-961e4d1da701",
   "metadata": {},
   "outputs": [],
   "source": [
    "measurements[\"unit_concept_id\"].value_counts()"
   ]
  },
  {
   "cell_type": "markdown",
   "id": "9fbf30fc-1c05-490e-9cc7-79a80cb7565a",
   "metadata": {},
   "source": [
    "## Observation table"
   ]
  },
  {
   "cell_type": "code",
   "execution_count": null,
   "id": "db0ab455-fcb0-48d1-b7fc-45c10cacab43",
   "metadata": {},
   "outputs": [],
   "source": [
    "observations = gemini.observation(\n",
    "    visit_occurrence_table=visits_query_interface.query,\n",
    ").run()\n",
    "observations"
   ]
  },
  {
   "cell_type": "markdown",
   "id": "f65b6695-3ce8-475d-8d08-1bc4f2216fc1",
   "metadata": {},
   "source": [
    "## Concept table (used most for lookups)"
   ]
  },
  {
   "cell_type": "code",
   "execution_count": null,
   "id": "b4d322b2-a4e9-44b6-8eaf-7fbe4d3b6bd7",
   "metadata": {},
   "outputs": [],
   "source": [
    "concept_table = QueryInterface(gemini._db, gemini._db.ods.concept)\n",
    "concepts = concept_table.run()"
   ]
  },
  {
   "cell_type": "code",
   "execution_count": null,
   "id": "8531c22e-15da-4e40-ac95-bc399b9d9cec",
   "metadata": {},
   "outputs": [],
   "source": [
    "concepts[concepts[\"concept_id\"] == 8752]"
   ]
  }
 ],
 "metadata": {
  "kernelspec": {
   "display_name": "cyclops",
   "language": "python",
   "name": "cyclops"
  },
  "language_info": {
   "codemirror_mode": {
    "name": "ipython",
    "version": 3
   },
   "file_extension": ".py",
   "mimetype": "text/x-python",
   "name": "python",
   "nbconvert_exporter": "python",
   "pygments_lexer": "ipython3",
   "version": "3.9.7"
  }
 },
 "nbformat": 4,
 "nbformat_minor": 5
}
