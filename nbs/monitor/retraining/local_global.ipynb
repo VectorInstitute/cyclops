{
 "cells": [
  {
   "cell_type": "markdown",
   "id": "d313c923-4125-4817-a2cc-142c02dbd842",
   "metadata": {},
   "source": [
    "### Compare performance of local vs global models"
   ]
  },
  {
   "cell_type": "code",
   "execution_count": null,
   "id": "2a4bb2e4-c369-4a09-b493-e637eedc3e92",
   "metadata": {},
   "outputs": [],
   "source": [
    "# sys.path.append(\"../..\")\n",
    "import datetime\n",
    "import os\n",
    "import random\n",
    "\n",
    "# import sys\n",
    "from datetime import date\n",
    "\n",
    "from baseline_models.temporal.pytorch.utils import get_device, load_ckp\n",
    "\n",
    "# from drift_detector.rolling_window import RollingWindow\n",
    "from drift_detector.utils import get_serving_data, get_temporal_model\n",
    "from gemini.query import get_gemini_data\n",
    "from gemini.utils import get_label, import_dataset_hospital, normalize, process, scale"
   ]
  },
  {
   "cell_type": "code",
   "execution_count": null,
   "id": "5bfe62aa-1159-448f-83ca-4153e460fc5a",
   "metadata": {},
   "outputs": [],
   "source": [
    "PATH = \"/mnt/nfs/project/delirium/drift_exp/JULY-04-2022/\"\n",
    "TIMESTEPS = 6\n",
    "AGGREGATION_TYPE = \"time\"\n",
    "HOSPITALS = [\"SMH\", \"MSH\", \"THPC\", \"THPM\", \"UHNTG\", \"UHNTW\", \"PMH\", \"SBK\"]\n",
    "OUTCOME = \"mortality\"\n",
    "THRESHOLD = 0.05\n",
    "NUM_TIMESTEPS = 6\n",
    "STAT_WINDOW = 30\n",
    "LOOKUP_WINDOW = 0\n",
    "STRIDE = 1\n",
    "\n",
    "SHIFT = input(\"Select experiment: \")  # hospital_type\n",
    "MODEL_PATH = os.path.join(PATH, \"saved_models\", SHIFT + \"_lstm.pt\")\n",
    "\n",
    "if SHIFT == \"simulated_deployment\":\n",
    "    exp_params = {\n",
    "        \"source\": [datetime.date(2015, 1, 1), datetime.date(2019, 1, 1)],\n",
    "        \"target\": [datetime.date(2019, 1, 1), datetime.date(2020, 8, 1)],\n",
    "        \"shift_type\": \"source_target\",\n",
    "    }\n",
    "\n",
    "if SHIFT == \"covid\":\n",
    "    exp_params = {\n",
    "        \"source\": [datetime.date(2019, 1, 1), datetime.date(2020, 2, 1)],\n",
    "        \"target\": [datetime.date(2020, 3, 1), datetime.date(2020, 8, 1)],\n",
    "        \"shift_type\": \"time\",\n",
    "    }\n",
    "\n",
    "if SHIFT == \"seasonal_summer\":\n",
    "    exp_params = {\n",
    "        \"source\": [1, 2, 3, 4, 5, 10, 11, 12],\n",
    "        \"target\": [6, 7, 8, 9],\n",
    "        \"shift_type\": \"month\",\n",
    "    }\n",
    "\n",
    "if SHIFT == \"seasonal_winter\":\n",
    "    exp_params = {\n",
    "        \"source\": [3, 4, 5, 6, 7, 8, 9, 10],\n",
    "        \"target\": [11, 12, 1, 2],\n",
    "        \"shift_type\": \"month\",\n",
    "    }"
   ]
  },
  {
   "cell_type": "markdown",
   "id": "f3fb7e9a-b31f-408c-a4d0-dce81ca06caf",
   "metadata": {},
   "source": [
    "## Get data"
   ]
  },
  {
   "cell_type": "code",
   "execution_count": null,
   "id": "2dd67da8-f0f7-4c2f-8089-c68b88df9155",
   "metadata": {},
   "outputs": [],
   "source": [
    "admin_data, x, y = get_gemini_data(PATH)"
   ]
  },
  {
   "cell_type": "code",
   "execution_count": null,
   "id": "8b29d43a-00c4-45b1-8d09-939c563061ad",
   "metadata": {},
   "outputs": [],
   "source": [
    "random.seed(1)\n",
    "\n",
    "(X_tr, y_tr), (X_val, y_val), (X_t, y_t), feats, admin_data = import_dataset_hospital(\n",
    "    admin_data, x, y, SHIFT, OUTCOME, HOSPITALS,\n",
    ")\n",
    "\n",
    "# Normalize data\n",
    "X_tr_normalized = normalize(admin_data, X_tr, AGGREGATION_TYPE, TIMESTEPS)\n",
    "X_val_normalized = normalize(admin_data, X_val, AGGREGATION_TYPE, TIMESTEPS)\n",
    "X_t_normalized = normalize(admin_data, X_t, AGGREGATION_TYPE, TIMESTEPS)\n",
    "\n",
    "if AGGREGATION_TYPE != \"time\":\n",
    "    y_tr = get_label(admin_data, X_tr, OUTCOME)\n",
    "    y_val = get_label(admin_data, X_val, OUTCOME)\n",
    "    y_t = get_label(admin_data, X_t, OUTCOME)\n",
    "\n",
    "# Scale data\n",
    "X_tr_scaled = scale(X_tr_normalized)\n",
    "X_val_scaled = scale(X_val_normalized)\n",
    "X_t_scaled = scale(X_t_normalized)\n",
    "\n",
    "# Process data\n",
    "X_tr_final = process(X_tr_scaled, AGGREGATION_TYPE, TIMESTEPS)\n",
    "X_val_final = process(X_val_scaled, AGGREGATION_TYPE, TIMESTEPS)\n",
    "X_t_final = process(X_t_scaled, AGGREGATION_TYPE, TIMESTEPS)"
   ]
  },
  {
   "cell_type": "markdown",
   "id": "e4d1cd6d-205d-4718-b3ba-4876a9c0780d",
   "metadata": {},
   "source": [
    "## Create data streams"
   ]
  },
  {
   "cell_type": "code",
   "execution_count": null,
   "id": "eee19975-ca8f-4cf8-a5c5-6460e0042ae8",
   "metadata": {},
   "outputs": [],
   "source": [
    "START_DATE = date(2019, 1, 1)\n",
    "END_DATE = date(2020, 8, 1)"
   ]
  },
  {
   "cell_type": "code",
   "execution_count": null,
   "id": "71641296-59a6-4050-8d11-71e0322cbc52",
   "metadata": {},
   "outputs": [],
   "source": [
    "print(\"Get target data streams...\")\n",
    "data_streams = get_serving_data(\n",
    "    x,\n",
    "    y,\n",
    "    admin_data,\n",
    "    START_DATE,\n",
    "    END_DATE,\n",
    "    stride=1,\n",
    "    window=1,\n",
    "    encounter_id=\"encounter_id\",\n",
    "    admit_timestamp=\"admit_timestamp\",\n",
    ")"
   ]
  },
  {
   "cell_type": "code",
   "execution_count": null,
   "id": "d530efba-0fbc-434b-baca-56b1de87a57b",
   "metadata": {},
   "outputs": [],
   "source": [
    "output_dim = 1\n",
    "input_dim = 108\n",
    "hidden_dim = 64\n",
    "layer_dim = 2\n",
    "dropout = 0.2\n",
    "last_timestep_only = False\n",
    "device = get_device()\n",
    "\n",
    "model_params = {\n",
    "    \"device\": device,\n",
    "    \"input_dim\": input_dim,\n",
    "    \"hidden_dim\": hidden_dim,\n",
    "    \"layer_dim\": layer_dim,\n",
    "    \"output_dim\": output_dim,\n",
    "    \"dropout_prob\": dropout,\n",
    "    \"last_timestep_only\": last_timestep_only,\n",
    "}\n",
    "\n",
    "model = get_temporal_model(\"lstm\", model_params).to(device)\n",
    "model, optimizer, n_epochs = load_ckp(MODEL_PATH, model)"
   ]
  },
  {
   "cell_type": "code",
   "execution_count": null,
   "id": "17cd0c8e-0fb0-4e84-841e-d2df0b486a2c",
   "metadata": {},
   "outputs": [],
   "source": []
  }
 ],
 "metadata": {
  "kernelspec": {
   "display_name": "Python 3 (ipykernel)",
   "language": "python",
   "name": "python3"
  },
  "language_info": {
   "codemirror_mode": {
    "name": "ipython",
    "version": 3
   },
   "file_extension": ".py",
   "mimetype": "text/x-python",
   "name": "python",
   "nbconvert_exporter": "python",
   "pygments_lexer": "ipython3",
   "version": "3.10.4"
  },
  "vscode": {
   "interpreter": {
    "hash": "bd2cd438e1c6ddffa3035fc73b17ac5cc0e0ea8897eb8be17cc645c6abf0c8cc"
   }
  }
 },
 "nbformat": 4,
 "nbformat_minor": 5
}
