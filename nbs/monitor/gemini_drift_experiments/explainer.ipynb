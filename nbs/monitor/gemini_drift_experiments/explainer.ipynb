{
 "cells": [
  {
   "cell_type": "markdown",
   "id": "24922ac6-09bb-4008-a91e-5fa321999a77",
   "metadata": {},
   "source": [
    "### Explainability API ## "
   ]
  },
  {
   "cell_type": "markdown",
   "id": "fa800630-7ed1-4ac4-ac15-6e39dbb68cb7",
   "metadata": {},
   "source": [
    "## Imports"
   ]
  },
  {
   "cell_type": "code",
   "execution_count": null,
   "id": "b841996e-826f-430e-a831-c35dd6658b09",
   "metadata": {},
   "outputs": [],
   "source": [
    "import itertools\n",
    "import os\n",
    "import pickle\n",
    "import random\n",
    "\n",
    "import matplotlib.pyplot as plt\n",
    "import numpy as np\n",
    "import pandas as pd\n",
    "from baseline_models.static.utils import run_model\n",
    "from drift_detector.explainer import Explainer\n",
    "from gemini.query import get_gemini_data\n",
    "from gemini.utils import get_label, import_dataset_hospital, normalize, process, scale"
   ]
  },
  {
   "cell_type": "markdown",
   "id": "741632c0-aa41-4553-bbb2-eb6fee0b083a",
   "metadata": {},
   "source": [
    "## Get data"
   ]
  },
  {
   "cell_type": "code",
   "execution_count": null,
   "id": "2f887bac-e8f8-4850-970d-b83420bae587",
   "metadata": {},
   "outputs": [],
   "source": [
    "SHIFT = input(\"Select experiment: \")\n",
    "HOSPITALS = [\"SMH\", \"MSH\", \"THPC\", \"THPM\", \"UHNTG\", \"UHNTW\", \"PMH\", \"SBK\"]\n",
    "OUTCOME = \"mortality\"\n",
    "PATH = \"/mnt/nfs/project/delirium/drift_exp/JULY-04-2022/\"\n",
    "MODEL_PATH = os.path.join(PATH, \"saved_models\", SHIFT + \"_lstm.pt\")\n",
    "TIMESTEPS = 6\n",
    "AGGREGATION_TYPE = \"time_flatten\"\n",
    "THRESHOLD = 0.05\n",
    "NUM_TIMESTEPS = 6\n",
    "\n",
    "random.seed(1)\n",
    "\n",
    "admin_data, x, y = get_gemini_data(PATH)\n",
    "\n",
    "(X_tr, y_tr), (X_val, y_val), (X_t, y_t), feats, admin_data = import_dataset_hospital(\n",
    "    admin_data,\n",
    "    x,\n",
    "    y,\n",
    "    SHIFT,\n",
    "    OUTCOME,\n",
    "    HOSPITALS,\n",
    ")\n",
    "\n",
    "# Normalize data\n",
    "X_tr_normalized = normalize(admin_data, X_tr, AGGREGATION_TYPE, TIMESTEPS)\n",
    "X_val_normalized = normalize(admin_data, X_val, AGGREGATION_TYPE, TIMESTEPS)\n",
    "X_t_normalized = normalize(admin_data, X_t, AGGREGATION_TYPE, TIMESTEPS)\n",
    "\n",
    "if AGGREGATION_TYPE != \"time\":\n",
    "    # Get labels\n",
    "    y_tr = get_label(admin_data, X_tr, OUTCOME)\n",
    "    y_val = get_label(admin_data, X_val, OUTCOME)\n",
    "    y_t = get_label(admin_data, X_t, OUTCOME)\n",
    "\n",
    "# Scale data\n",
    "X_tr_scaled = scale(X_tr_normalized)\n",
    "X_val_scaled = scale(X_val_normalized)\n",
    "X_t_scaled = scale(X_t_normalized)\n",
    "\n",
    "# Process data\n",
    "X_tr_final = process(X_tr_scaled, AGGREGATION_TYPE, TIMESTEPS)\n",
    "X_val_final = process(X_val_scaled, AGGREGATION_TYPE, TIMESTEPS)\n",
    "X_t_final = process(X_t_scaled, AGGREGATION_TYPE, TIMESTEPS)"
   ]
  },
  {
   "cell_type": "markdown",
   "id": "8032f5f1-84cf-4f1c-9a53-de86dc490e09",
   "metadata": {},
   "source": [
    "## Get model"
   ]
  },
  {
   "cell_type": "code",
   "execution_count": null,
   "id": "0b46bcac-41cb-4326-a7f2-2cdc7f8f740f",
   "metadata": {},
   "outputs": [],
   "source": [
    "MODEL_NAME = input(\"Select Model: \")\n",
    "MODEL_PATH = PATH + \"_\".join([SHIFT, OUTCOME, \"_\".join(HOSPITALS), MODEL_NAME]) + \".pkl\"\n",
    "if os.path.exists(MODEL_PATH):\n",
    "    optimised_model = pickle.load(open(MODEL_PATH, \"rb\"))\n",
    "else:\n",
    "    optimised_model = run_model(MODEL_NAME, X_tr_final, y_tr, X_val_final, y_val)\n",
    "    pickle.dump(optimised_model, open(MODEL_PATH, \"wb\"))"
   ]
  },
  {
   "cell_type": "markdown",
   "id": "c7697a7b-7aa6-4ffc-8dd7-921474bcdf31",
   "metadata": {},
   "source": [
    "## Explain difference in model predictions ## "
   ]
  },
  {
   "cell_type": "code",
   "execution_count": null,
   "id": "1e2af7f8-5f0c-4cd5-b7f2-7ab07662e7ee",
   "metadata": {},
   "outputs": [],
   "source": [
    "explainer = Explainer(optimised_model, X_tr_final)\n",
    "explainer.get_explainer()"
   ]
  },
  {
   "cell_type": "code",
   "execution_count": null,
   "id": "d1b809f2-d434-4905-8fc6-7489057de217",
   "metadata": {},
   "outputs": [],
   "source": [
    "timesteps = [\"T1_\", \"T2_\", \"T3_\", \"T4_\", \"T5_\", \"T6_\"]\n",
    "\n",
    "flattened_feats = []\n",
    "for ts in timesteps:\n",
    "    flattened_feats.append(ts + feats)\n",
    "flattened_feats = list(itertools.chain.from_iterable(flattened_feats))\n",
    "\n",
    "X_val_df = pd.DataFrame(X_val_final, columns=flattened_feats)\n",
    "val_shap_values = explainer.get_shap_values(X_val_df)\n",
    "X_test_df = pd.DataFrame(X_t_final, columns=flattened_feats)\n",
    "test_shap_values = explainer.get_shap_values(X_test_df)\n",
    "\n",
    "shap_diff = np.mean(np.abs(test_shap_values.values), axis=0) - np.mean(\n",
    "    np.abs(val_shap_values.values),\n",
    "    axis=0,\n",
    ")\n",
    "shap_min = -0.001\n",
    "shap_max = 0.001\n",
    "shap_diff_sorted, feats_sorted = zip(\n",
    "    *sorted(zip(shap_diff, flattened_feats), reverse=True),\n",
    ")\n",
    "shap_diff_sorted, feats_sorted = zip(\n",
    "    *(\n",
    "        (\n",
    "            (x, y)\n",
    "            for x, y in zip(shap_diff_sorted, feats_sorted)\n",
    "            if (x > shap_max or x < shap_min)\n",
    "        )\n",
    "    ),\n",
    ")\n",
    "\n",
    "shap_feats = {\"feature\": feats_sorted, \"shap_diff\": list(shap_diff_sorted)}\n",
    "\n",
    "fig, ax = plt.subplots(figsize=(10, 18))\n",
    "y_pos = np.arange(len(shap_feats[\"shap_diff\"]))\n",
    "ax.barh(y_pos, shap_feats[\"shap_diff\"], align=\"center\")\n",
    "ax.set_yticks(y_pos, labels=shap_feats[\"feature\"])\n",
    "ax.invert_yaxis()  # labels read top-to-bottom\n",
    "ax.set_xlabel(\"Mean Difference in Shap Value\")\n",
    "ax.set_title(\"Features\")\n",
    "plt.show()\n",
    "\n",
    "shap_diff_sorted, feats_sorted = zip(\n",
    "    *sorted(zip(shap_diff, flattened_feats), reverse=True),\n",
    ")\n",
    "shap_diff_sorted, feats_sorted = zip(\n",
    "    *(((x, y) for x, y in zip(shap_diff_sorted, feats_sorted) if (x != 0))),\n",
    ")\n",
    "\n",
    "for t in [\"T1_\", \"T2_\", \"T4_\", \"T4_\", \"T5_\", \"T6_\"]:\n",
    "    shap_feats = {\"feature\": feats_sorted, \"shap_diff\": list(shap_diff_sorted)}\n",
    "    shap_feats = {\n",
    "        k: [\n",
    "            x\n",
    "            for i, x in enumerate(v)\n",
    "            if any(ts in shap_feats[\"feature\"][i] for ts in [t])\n",
    "        ]\n",
    "        for k, v in shap_feats.items()\n",
    "    }\n",
    "    shap_feats[\"feature\"] = [x.replace(t, \"\") for x in shap_feats[\"feature\"]]\n",
    "    fig, ax = plt.subplots(figsize=(12, 12))\n",
    "    y_pos = np.arange(len(shap_feats[\"shap_diff\"]))\n",
    "    ax.barh(y_pos, shap_feats[\"shap_diff\"], align=\"center\")\n",
    "    ax.set_yticks(y_pos, labels=shap_feats[\"feature\"])\n",
    "    ax.invert_yaxis()  # labels read top-to-bottom\n",
    "    ax.set_xlabel(\"Mean Difference in Shap Value |Target - Source|\")\n",
    "    ax.set_title(\"Features\")\n",
    "    plt.show()"
   ]
  }
 ],
 "metadata": {
  "kernelspec": {
   "display_name": "Python 3 (ipykernel)",
   "language": "python",
   "name": "python3"
  },
  "language_info": {
   "codemirror_mode": {
    "name": "ipython",
    "version": 3
   },
   "file_extension": ".py",
   "mimetype": "text/x-python",
   "name": "python",
   "nbconvert_exporter": "python",
   "pygments_lexer": "ipython3",
   "version": "3.10.4"
  },
  "vscode": {
   "interpreter": {
    "hash": "bd2cd438e1c6ddffa3035fc73b17ac5cc0e0ea8897eb8be17cc645c6abf0c8cc"
   }
  }
 },
 "nbformat": 4,
 "nbformat_minor": 5
}
