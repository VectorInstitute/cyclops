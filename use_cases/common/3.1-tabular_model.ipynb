{
 "cells": [
  {
   "cell_type": "markdown",
   "id": "7854ee88-ae9f-4fb5-8cda-0c3aab47c280",
   "metadata": {},
   "source": [
    "# Tabular modelling"
   ]
  },
  {
   "cell_type": "markdown",
   "id": "3e321a6c-5ec5-43e2-8d74-3f6ec2826b57",
   "metadata": {},
   "source": [
    "# Imports"
   ]
  },
  {
   "cell_type": "code",
   "execution_count": 1,
   "id": "e50ca178-1eae-440a-823c-008b3d838a52",
   "metadata": {},
   "outputs": [],
   "source": [
    "from sklearn.metrics import roc_auc_score\n",
    "\n",
    "from cyclops.processors.column_names import ENCOUNTER_ID\n",
    "from cyclops.processors.constants import FEATURES, TARGETS\n",
    "from cyclops.utils.file import load_pickle\n",
    "from drift_detection.baseline_models.static.gbt import fit_gbt\n",
    "from use_cases.common.util import get_use_case_params"
   ]
  },
  {
   "cell_type": "markdown",
   "id": "2ee8647e-0747-4ebe-bd8c-a8e6f75278c7",
   "metadata": {},
   "source": [
    "# Choose dataset and use-case"
   ]
  },
  {
   "cell_type": "code",
   "execution_count": 2,
   "id": "c6217715-3396-4b6e-ba89-376d7e3399f5",
   "metadata": {},
   "outputs": [
    {
     "name": "stdin",
     "output_type": "stream",
     "text": [
      "WARNING: LOADING CONSTANTS FROM <module 'use_cases.gemini.mortality_decompensation.constants' from '/mnt/nfs/home/krishnanam/cyclops/use_cases/gemini/mortality_decompensation/constants.py'> \n"
     ]
    },
    {
     "data": {
      "text/plain": [
       "''"
      ]
     },
     "execution_count": 2,
     "metadata": {},
     "output_type": "execute_result"
    }
   ],
   "source": [
    "DATASET = \"gemini\"\n",
    "USE_CASE = \"mortality_decompensation\"\n",
    "\n",
    "use_case_params = get_use_case_params(DATASET, USE_CASE)\n",
    "input(f\"WARNING: LOADING CONSTANTS FROM {use_case_params}\")"
   ]
  },
  {
   "cell_type": "markdown",
   "id": "72a40517-bea0-4b96-8689-5d6baad80698",
   "metadata": {},
   "source": [
    "# Setup"
   ]
  },
  {
   "cell_type": "code",
   "execution_count": 3,
   "id": "01e208e2-e4fc-454b-b9b4-21224636682b",
   "metadata": {},
   "outputs": [],
   "source": [
    "OUTCOME = use_case_params.OUTCOME_DEATH"
   ]
  },
  {
   "cell_type": "markdown",
   "id": "3311499a-1c60-45c6-a082-2754d60d958e",
   "metadata": {},
   "source": [
    "## Data"
   ]
  },
  {
   "cell_type": "code",
   "execution_count": 4,
   "id": "5c503eff-a784-4c7a-98d7-8bba689c2211",
   "metadata": {},
   "outputs": [
    {
     "name": "stderr",
     "output_type": "stream",
     "text": [
      "2022-10-24 14:25:52,082 \u001b[1;37mINFO\u001b[0m cyclops.utils.file - Loading pickled data from /mnt/nfs/project/delirium/cyclops/use_cases/gemini/mortality_decompensation/./data/4-final/unaligned_tab_train_X.pkl\n",
      "2022-10-24 14:25:52,236 \u001b[1;37mINFO\u001b[0m cyclops.utils.file - Loading pickled data from /mnt/nfs/project/delirium/cyclops/use_cases/gemini/mortality_decompensation/./data/4-final/unaligned_tab_train_y.pkl\n",
      "2022-10-24 14:25:52,309 \u001b[1;37mINFO\u001b[0m cyclops.utils.file - Loading pickled data from /mnt/nfs/project/delirium/cyclops/use_cases/gemini/mortality_decompensation/./data/4-final/unaligned_tab_val_X.pkl\n",
      "2022-10-24 14:25:52,324 \u001b[1;37mINFO\u001b[0m cyclops.utils.file - Loading pickled data from /mnt/nfs/project/delirium/cyclops/use_cases/gemini/mortality_decompensation/./data/4-final/unaligned_tab_val_y.pkl\n",
      "2022-10-24 14:25:52,333 \u001b[1;37mINFO\u001b[0m cyclops.utils.file - Loading pickled data from /mnt/nfs/project/delirium/cyclops/use_cases/gemini/mortality_decompensation/./data/4-final/unaligned_tab_test_X.pkl\n",
      "2022-10-24 14:25:52,353 \u001b[1;37mINFO\u001b[0m cyclops.utils.file - Loading pickled data from /mnt/nfs/project/delirium/cyclops/use_cases/gemini/mortality_decompensation/./data/4-final/unaligned_tab_test_y.pkl\n"
     ]
    }
   ],
   "source": [
    "X_train_vec = load_pickle(use_case_params.TAB_UNALIGNED + \"tab_train_X\")\n",
    "y_train_vec = load_pickle(use_case_params.TAB_UNALIGNED + \"tab_train_y\")\n",
    "X_val_vec = load_pickle(use_case_params.TAB_UNALIGNED + \"tab_val_X\")\n",
    "y_val_vec = load_pickle(use_case_params.TAB_UNALIGNED + \"tab_val_y\")\n",
    "X_test_vec = load_pickle(use_case_params.TAB_UNALIGNED + \"tab_test_X\")\n",
    "y_test_vec = load_pickle(use_case_params.TAB_UNALIGNED + \"tab_test_y\")"
   ]
  },
  {
   "cell_type": "code",
   "execution_count": 5,
   "id": "bd301460-0659-49f0-8013-2ba85e950491",
   "metadata": {},
   "outputs": [
    {
     "data": {
      "text/plain": [
       "array(['admit_via_ambulance_', 'admit_via_ambulance_air',\n",
       "       'admit_via_ambulance_ground', 'admit_via_ambulance_no_ambulance',\n",
       "       'admit_via_ambulance_no_info', 'age',\n",
       "       'diagnosis_trajectory_A00_B99', 'diagnosis_trajectory_C00_D49',\n",
       "       'diagnosis_trajectory_D50_D89', 'diagnosis_trajectory_E00_E89',\n",
       "       'diagnosis_trajectory_F01_F99', 'diagnosis_trajectory_G00_G99',\n",
       "       'diagnosis_trajectory_H00_H59', 'diagnosis_trajectory_H60_H95',\n",
       "       'diagnosis_trajectory_I00_I99', 'diagnosis_trajectory_J00_J99',\n",
       "       'diagnosis_trajectory_K00_K95', 'diagnosis_trajectory_L00_L99',\n",
       "       'diagnosis_trajectory_M00_M99', 'diagnosis_trajectory_N00_N99',\n",
       "       'diagnosis_trajectory_O00_O99', 'diagnosis_trajectory_Q00_Q99',\n",
       "       'diagnosis_trajectory_R00_R99', 'diagnosis_trajectory_S00_T88',\n",
       "       'diagnosis_trajectory_V00_Y99', 'diagnosis_trajectory_Z00_Z99',\n",
       "       'from_acute_care_institution_mapped', 'from_nursing_home_mapped',\n",
       "       'hospital_id_MSH', 'hospital_id_SBK', 'hospital_id_SMH',\n",
       "       'hospital_id_THPC', 'hospital_id_THPM', 'hospital_id_UHNTG',\n",
       "       'hospital_id_UHNTW', 'prev_encounter_count', 'readmission_',\n",
       "       'readmission_new_to_acute', 'readmission_nota',\n",
       "       'readmission_planned_from_acute',\n",
       "       'readmission_unplanned_7_day_acute',\n",
       "       'readmission_unplanned_7_day_day_surg',\n",
       "       'readmission_unplanned_8_to_28_day_acute', 'sex', 'triage_level_',\n",
       "       'triage_level_emergent', 'triage_level_no_info',\n",
       "       'triage_level_non-urgent', 'triage_level_resuscitation',\n",
       "       'triage_level_semi-urgent', 'triage_level_urgent'], dtype='<U39')"
      ]
     },
     "execution_count": 5,
     "metadata": {},
     "output_type": "execute_result"
    }
   ],
   "source": [
    "X_train_vec.get_index(FEATURES)"
   ]
  },
  {
   "cell_type": "code",
   "execution_count": 6,
   "id": "daeb44bc-d8b4-4ac3-9a84-7e550bfc151f",
   "metadata": {},
   "outputs": [
    {
     "data": {
      "text/plain": [
       "110394"
      ]
     },
     "execution_count": 6,
     "metadata": {},
     "output_type": "execute_result"
    }
   ],
   "source": [
    "len(X_train_vec.get_index(ENCOUNTER_ID))"
   ]
  },
  {
   "cell_type": "code",
   "execution_count": 10,
   "id": "878ee58c-8ddc-4bd8-b98c-672217808e38",
   "metadata": {},
   "outputs": [
    {
     "data": {
      "text/plain": [
       "array(['outcome_death'], dtype='<U13')"
      ]
     },
     "execution_count": 10,
     "metadata": {},
     "output_type": "execute_result"
    }
   ],
   "source": [
    "y_train_vec.g"
   ]
  },
  {
   "cell_type": "markdown",
   "id": "3c0944dc-81e7-4834-9396-ffa4f5e90636",
   "metadata": {},
   "source": [
    "# Feature/target selection"
   ]
  },
  {
   "cell_type": "code",
   "execution_count": 7,
   "id": "20f689c1-1a2f-44c9-aab8-d3caf588dd43",
   "metadata": {},
   "outputs": [
    {
     "ename": "IndexError",
     "evalue": "`indices` must be an integer array",
     "output_type": "error",
     "traceback": [
      "\u001b[0;31m---------------------------------------------------------------------------\u001b[0m",
      "\u001b[0;31mIndexError\u001b[0m                                Traceback (most recent call last)",
      "Cell \u001b[0;32mIn [7], line 1\u001b[0m\n\u001b[0;32m----> 1\u001b[0m _, y_train_vec \u001b[38;5;241m=\u001b[39m \u001b[43my_train_vec\u001b[49m\u001b[38;5;241;43m.\u001b[39;49m\u001b[43msplit_out\u001b[49m\u001b[43m(\u001b[49m\u001b[43mFEATURES\u001b[49m\u001b[43m,\u001b[49m\u001b[43m \u001b[49m\u001b[43m[\u001b[49m\u001b[43mOUTCOME\u001b[49m\u001b[43m]\u001b[49m\u001b[43m)\u001b[49m\n\u001b[1;32m      2\u001b[0m _, y_val_vec \u001b[38;5;241m=\u001b[39m y_val_vec\u001b[38;5;241m.\u001b[39msplit_out(FEATURES, [OUTCOME])\n\u001b[1;32m      3\u001b[0m _, y_test_vec \u001b[38;5;241m=\u001b[39m y_test_vec\u001b[38;5;241m.\u001b[39msplit_out(FEATURES, [OUTCOME])\n",
      "File \u001b[0;32m~/cyclops/cyclops/processors/feature/vectorize.py:675\u001b[0m, in \u001b[0;36mVectorized.split_out\u001b[0;34m(self, axis, index_names)\u001b[0m\n\u001b[1;32m    672\u001b[0m index_names \u001b[38;5;241m=\u001b[39m np\u001b[38;5;241m.\u001b[39marray(index_names)\n\u001b[1;32m    673\u001b[0m remaining \u001b[38;5;241m=\u001b[39m np\u001b[38;5;241m.\u001b[39msetdiff1d(\u001b[38;5;28mself\u001b[39m\u001b[38;5;241m.\u001b[39mindexes[axis_index], index_names)\n\u001b[0;32m--> 675\u001b[0m \u001b[38;5;28;01mreturn\u001b[39;00m \u001b[38;5;28;43mself\u001b[39;49m\u001b[38;5;241;43m.\u001b[39;49m\u001b[43msplit_by_index\u001b[49m\u001b[43m(\u001b[49m\n\u001b[1;32m    676\u001b[0m \u001b[43m    \u001b[49m\u001b[43maxis\u001b[49m\u001b[38;5;241;43m=\u001b[39;49m\u001b[43maxis_index\u001b[49m\u001b[43m,\u001b[49m\n\u001b[1;32m    677\u001b[0m \u001b[43m    \u001b[49m\u001b[43mindex_names\u001b[49m\u001b[38;5;241;43m=\u001b[39;49m\u001b[43m[\u001b[49m\u001b[43mremaining\u001b[49m\u001b[43m,\u001b[49m\u001b[43m \u001b[49m\u001b[43mindex_names\u001b[49m\u001b[43m]\u001b[49m\u001b[43m,\u001b[49m\n\u001b[1;32m    678\u001b[0m \u001b[43m    \u001b[49m\u001b[43mallow_drops\u001b[49m\u001b[38;5;241;43m=\u001b[39;49m\u001b[38;5;28;43;01mFalse\u001b[39;49;00m\u001b[43m,\u001b[49m\n\u001b[1;32m    679\u001b[0m \u001b[43m\u001b[49m\u001b[43m)\u001b[49m\n",
      "File \u001b[0;32m~/cyclops/cyclops/processors/feature/vectorize.py:602\u001b[0m, in \u001b[0;36mVectorized.split_by_index\u001b[0;34m(self, axis, index_names, allow_drops)\u001b[0m\n\u001b[1;32m    599\u001b[0m         indices[\u001b[38;5;241m-\u001b[39m\u001b[38;5;241m1\u001b[39m]\u001b[38;5;241m.\u001b[39mappend(index_map[name])\n\u001b[1;32m    600\u001b[0m     indices[\u001b[38;5;241m-\u001b[39m\u001b[38;5;241m1\u001b[39m] \u001b[38;5;241m=\u001b[39m np\u001b[38;5;241m.\u001b[39marray(indices[\u001b[38;5;241m-\u001b[39m\u001b[38;5;241m1\u001b[39m])\n\u001b[0;32m--> 602\u001b[0m \u001b[38;5;28;01mreturn\u001b[39;00m \u001b[38;5;28;43mself\u001b[39;49m\u001b[38;5;241;43m.\u001b[39;49m\u001b[43msplit_by_indices\u001b[49m\u001b[43m(\u001b[49m\n\u001b[1;32m    603\u001b[0m \u001b[43m    \u001b[49m\u001b[43maxis\u001b[49m\u001b[38;5;241;43m=\u001b[39;49m\u001b[43maxis_index\u001b[49m\u001b[43m,\u001b[49m\n\u001b[1;32m    604\u001b[0m \u001b[43m    \u001b[49m\u001b[43mindices\u001b[49m\u001b[38;5;241;43m=\u001b[39;49m\u001b[43mindices\u001b[49m\u001b[43m,\u001b[49m\n\u001b[1;32m    605\u001b[0m \u001b[43m    \u001b[49m\u001b[43mallow_drops\u001b[49m\u001b[38;5;241;43m=\u001b[39;49m\u001b[43mallow_drops\u001b[49m\u001b[43m,\u001b[49m\n\u001b[1;32m    606\u001b[0m \u001b[43m\u001b[49m\u001b[43m)\u001b[49m\n",
      "File \u001b[0;32m~/cyclops/cyclops/processors/feature/vectorize.py:559\u001b[0m, in \u001b[0;36mVectorized.split_by_indices\u001b[0;34m(self, axis, indices, allow_drops)\u001b[0m\n\u001b[1;32m    557\u001b[0m vec_splits \u001b[38;5;241m=\u001b[39m []\n\u001b[1;32m    558\u001b[0m \u001b[38;5;28;01mfor\u001b[39;00m split_indices \u001b[38;5;129;01min\u001b[39;00m indices:\n\u001b[0;32m--> 559\u001b[0m     vec_splits\u001b[38;5;241m.\u001b[39mappend(\u001b[38;5;28;43mself\u001b[39;49m\u001b[38;5;241;43m.\u001b[39;49m\u001b[43mtake_with_indices\u001b[49m\u001b[43m(\u001b[49m\u001b[43maxis_index\u001b[49m\u001b[43m,\u001b[49m\u001b[43m \u001b[49m\u001b[43msplit_indices\u001b[49m\u001b[43m)\u001b[49m)\n\u001b[1;32m    561\u001b[0m \u001b[38;5;28;01mreturn\u001b[39;00m \u001b[38;5;28mtuple\u001b[39m(vec_splits)\n",
      "File \u001b[0;32m~/cyclops/cyclops/processors/feature/vectorize.py:396\u001b[0m, in \u001b[0;36mVectorized.take_with_indices\u001b[0;34m(self, axis, indices)\u001b[0m\n\u001b[1;32m    393\u001b[0m axis_index \u001b[38;5;241m=\u001b[39m \u001b[38;5;28mself\u001b[39m\u001b[38;5;241m.\u001b[39mget_axis(axis)\n\u001b[1;32m    395\u001b[0m \u001b[38;5;66;03m# Index the data accordingly\u001b[39;00m\n\u001b[0;32m--> 396\u001b[0m data \u001b[38;5;241m=\u001b[39m \u001b[43mtake_indices_over_axis\u001b[49m\u001b[43m(\u001b[49m\u001b[38;5;28;43mself\u001b[39;49m\u001b[38;5;241;43m.\u001b[39;49m\u001b[43mdata\u001b[49m\u001b[43m,\u001b[49m\u001b[43m \u001b[49m\u001b[43maxis_index\u001b[49m\u001b[43m,\u001b[49m\u001b[43m \u001b[49m\u001b[43mindices\u001b[49m\u001b[43m)\u001b[49m\n\u001b[1;32m    398\u001b[0m \u001b[38;5;66;03m# Create the corresponding indexes\u001b[39;00m\n\u001b[1;32m    399\u001b[0m new_indexes \u001b[38;5;241m=\u001b[39m \u001b[38;5;28mlist\u001b[39m(\u001b[38;5;28mself\u001b[39m\u001b[38;5;241m.\u001b[39mindexes)\n",
      "File \u001b[0;32m~/cyclops/cyclops/utils/indexing.py:91\u001b[0m, in \u001b[0;36mtake_indices_over_axis\u001b[0;34m(data, axis, index)\u001b[0m\n\u001b[1;32m     88\u001b[0m indexes: List[Union[\u001b[38;5;28;01mNone\u001b[39;00m, np\u001b[38;5;241m.\u001b[39mndarray]] \u001b[38;5;241m=\u001b[39m [\u001b[38;5;28;01mNone\u001b[39;00m] \u001b[38;5;241m*\u001b[39m \u001b[38;5;28mlen\u001b[39m(data\u001b[38;5;241m.\u001b[39mshape)\n\u001b[1;32m     89\u001b[0m indexes[axis] \u001b[38;5;241m=\u001b[39m np\u001b[38;5;241m.\u001b[39marray(index)\n\u001b[0;32m---> 91\u001b[0m \u001b[38;5;28;01mreturn\u001b[39;00m \u001b[43mtake_indices\u001b[49m\u001b[43m(\u001b[49m\u001b[43mdata\u001b[49m\u001b[43m,\u001b[49m\u001b[43m \u001b[49m\u001b[43mindexes\u001b[49m\u001b[43m)\u001b[49m\n",
      "File \u001b[0;32m~/cyclops/cyclops/utils/indexing.py:66\u001b[0m, in \u001b[0;36mtake_indices\u001b[0;34m(data, indexes)\u001b[0m\n\u001b[1;32m     64\u001b[0m     shape \u001b[38;5;241m=\u001b[39m [\u001b[38;5;241m1\u001b[39m] \u001b[38;5;241m*\u001b[39m \u001b[38;5;28mlen\u001b[39m(data\u001b[38;5;241m.\u001b[39mshape)\n\u001b[1;32m     65\u001b[0m     shape[i] \u001b[38;5;241m=\u001b[39m \u001b[38;5;28mlen\u001b[39m(np_index)\n\u001b[0;32m---> 66\u001b[0m     data \u001b[38;5;241m=\u001b[39m \u001b[43mnp\u001b[49m\u001b[38;5;241;43m.\u001b[39;49m\u001b[43mtake_along_axis\u001b[49m\u001b[43m(\u001b[49m\u001b[43mdata\u001b[49m\u001b[43m,\u001b[49m\u001b[43m \u001b[49m\u001b[43mnp_index\u001b[49m\u001b[38;5;241;43m.\u001b[39;49m\u001b[43mreshape\u001b[49m\u001b[43m(\u001b[49m\u001b[43mshape\u001b[49m\u001b[43m)\u001b[49m\u001b[43m,\u001b[49m\u001b[43m \u001b[49m\u001b[43maxis\u001b[49m\u001b[38;5;241;43m=\u001b[39;49m\u001b[43mi\u001b[49m\u001b[43m)\u001b[49m\n\u001b[1;32m     68\u001b[0m \u001b[38;5;28;01mreturn\u001b[39;00m data\n",
      "File \u001b[0;32m<__array_function__ internals>:180\u001b[0m, in \u001b[0;36mtake_along_axis\u001b[0;34m(*args, **kwargs)\u001b[0m\n",
      "File \u001b[0;32m~/.cache/pypoetry/virtualenvs/cyclops-KFeU18-1-py3.9/lib/python3.9/site-packages/numpy/lib/shape_base.py:170\u001b[0m, in \u001b[0;36mtake_along_axis\u001b[0;34m(arr, indices, axis)\u001b[0m\n\u001b[1;32m    167\u001b[0m     arr_shape \u001b[38;5;241m=\u001b[39m arr\u001b[38;5;241m.\u001b[39mshape\n\u001b[1;32m    169\u001b[0m \u001b[38;5;66;03m# use the fancy index\u001b[39;00m\n\u001b[0;32m--> 170\u001b[0m \u001b[38;5;28;01mreturn\u001b[39;00m arr[\u001b[43m_make_along_axis_idx\u001b[49m\u001b[43m(\u001b[49m\u001b[43marr_shape\u001b[49m\u001b[43m,\u001b[49m\u001b[43m \u001b[49m\u001b[43mindices\u001b[49m\u001b[43m,\u001b[49m\u001b[43m \u001b[49m\u001b[43maxis\u001b[49m\u001b[43m)\u001b[49m]\n",
      "File \u001b[0;32m~/.cache/pypoetry/virtualenvs/cyclops-KFeU18-1-py3.9/lib/python3.9/site-packages/numpy/lib/shape_base.py:32\u001b[0m, in \u001b[0;36m_make_along_axis_idx\u001b[0;34m(arr_shape, indices, axis)\u001b[0m\n\u001b[1;32m     29\u001b[0m \u001b[38;5;28;01mdef\u001b[39;00m \u001b[38;5;21m_make_along_axis_idx\u001b[39m(arr_shape, indices, axis):\n\u001b[1;32m     30\u001b[0m     \u001b[38;5;66;03m# compute dimensions to iterate over\u001b[39;00m\n\u001b[1;32m     31\u001b[0m     \u001b[38;5;28;01mif\u001b[39;00m \u001b[38;5;129;01mnot\u001b[39;00m _nx\u001b[38;5;241m.\u001b[39missubdtype(indices\u001b[38;5;241m.\u001b[39mdtype, _nx\u001b[38;5;241m.\u001b[39minteger):\n\u001b[0;32m---> 32\u001b[0m         \u001b[38;5;28;01mraise\u001b[39;00m \u001b[38;5;167;01mIndexError\u001b[39;00m(\u001b[38;5;124m'\u001b[39m\u001b[38;5;124m`indices` must be an integer array\u001b[39m\u001b[38;5;124m'\u001b[39m)\n\u001b[1;32m     33\u001b[0m     \u001b[38;5;28;01mif\u001b[39;00m \u001b[38;5;28mlen\u001b[39m(arr_shape) \u001b[38;5;241m!=\u001b[39m indices\u001b[38;5;241m.\u001b[39mndim:\n\u001b[1;32m     34\u001b[0m         \u001b[38;5;28;01mraise\u001b[39;00m \u001b[38;5;167;01mValueError\u001b[39;00m(\n\u001b[1;32m     35\u001b[0m             \u001b[38;5;124m\"\u001b[39m\u001b[38;5;124m`indices` and `arr` must have the same number of dimensions\u001b[39m\u001b[38;5;124m\"\u001b[39m)\n",
      "\u001b[0;31mIndexError\u001b[0m: `indices` must be an integer array"
     ]
    }
   ],
   "source": [
    "\n",
    "_, y_train_vec = y_train_vec.split_out(FEATURES, [OUTCOME])\n",
    "_, y_val_vec = y_val_vec.split_out(FEATURES, [OUTCOME])\n",
    "_, y_test_vec = y_test_vec.split_out(FEATURES, [OUTCOME])"
   ]
  },
  {
   "cell_type": "code",
   "execution_count": null,
   "id": "7e9c7569-1f39-4c8c-ae07-1225f58d3a3a",
   "metadata": {},
   "outputs": [],
   "source": [
    "X_train = X_train_vec.data\n",
    "y_train = y_train_vec.data\n",
    "X_val = X_val_vec.data\n",
    "y_val = y_val_vec.data\n",
    "X_test = X_test_vec.data\n",
    "y_test = y_test_vec.data"
   ]
  },
  {
   "cell_type": "markdown",
   "id": "b3e84c18-2635-4f27-b80d-826e8c3a050a",
   "metadata": {},
   "source": [
    "# Model"
   ]
  },
  {
   "cell_type": "code",
   "execution_count": null,
   "id": "2a5f4294-1554-4276-b3b9-8b987317f7d7",
   "metadata": {},
   "outputs": [],
   "source": [
    "# Choose model\n",
    "X_train.shape, y_train.shape, X_val.shape, y_val.shape"
   ]
  },
  {
   "cell_type": "markdown",
   "id": "a79680fc-f761-4eb2-9ac5-61f76857c1b8",
   "metadata": {},
   "source": [
    "# Training and Validation"
   ]
  },
  {
   "cell_type": "code",
   "execution_count": null,
   "id": "cd7b4914-631e-434d-a988-5c3588d616d4",
   "metadata": {},
   "outputs": [],
   "source": [
    "best_model = fit_gbt(X_train, y_train, X_val, y_val)"
   ]
  },
  {
   "cell_type": "markdown",
   "id": "4e857d14-b3e8-4133-b083-a9d03d040cf0",
   "metadata": {},
   "source": [
    "# Testing"
   ]
  },
  {
   "cell_type": "code",
   "execution_count": null,
   "id": "44e2a4eb-1fe4-41c3-a719-ee37f099cd65",
   "metadata": {},
   "outputs": [],
   "source": [
    "predictions = best_model.predict_proba(X_test)[:, 1]\n",
    "score = roc_auc_score(y_test, predictions)\n",
    "print(score)"
   ]
  }
 ],
 "metadata": {
  "kernelspec": {
   "display_name": "cyclops",
   "language": "python",
   "name": "cyclops"
  },
  "language_info": {
   "codemirror_mode": {
    "name": "ipython",
    "version": 3
   },
   "file_extension": ".py",
   "mimetype": "text/x-python",
   "name": "python",
   "nbconvert_exporter": "python",
   "pygments_lexer": "ipython3",
   "version": "3.9.7"
  }
 },
 "nbformat": 4,
 "nbformat_minor": 5
}
