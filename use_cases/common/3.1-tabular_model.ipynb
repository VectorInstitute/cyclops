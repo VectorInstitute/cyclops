{
 "cells": [
  {
   "cell_type": "markdown",
   "id": "7854ee88-ae9f-4fb5-8cda-0c3aab47c280",
   "metadata": {},
   "source": [
    "# Tabular modelling"
   ]
  },
  {
   "cell_type": "markdown",
   "id": "3e321a6c-5ec5-43e2-8d74-3f6ec2826b57",
   "metadata": {},
   "source": [
    "# Imports"
   ]
  },
  {
   "cell_type": "code",
   "execution_count": null,
   "id": "e50ca178-1eae-440a-823c-008b3d838a52",
   "metadata": {},
   "outputs": [],
   "source": [
    "from drift_detection.baseline_models.static.gbt import fit_gbt\n",
    "from sklearn.metrics import roc_auc_score\n",
    "\n",
    "from cyclops.process.constants import FEATURES\n",
    "from cyclops.utils.file import load_pickle\n",
    "from use_cases.common.util import get_use_case_params"
   ]
  },
  {
   "cell_type": "markdown",
   "id": "2ee8647e-0747-4ebe-bd8c-a8e6f75278c7",
   "metadata": {},
   "source": [
    "# Choose dataset and use-case"
   ]
  },
  {
   "cell_type": "code",
   "execution_count": null,
   "id": "c6217715-3396-4b6e-ba89-376d7e3399f5",
   "metadata": {},
   "outputs": [],
   "source": [
    "DATASET = \"mimiciv\"\n",
    "USE_CASE = \"mortality_decompensation\"\n",
    "\n",
    "use_case_params = get_use_case_params(DATASET, USE_CASE)\n",
    "input(f\"WARNING: LOADING CONSTANTS FROM {use_case_params}\")"
   ]
  },
  {
   "cell_type": "markdown",
   "id": "72a40517-bea0-4b96-8689-5d6baad80698",
   "metadata": {},
   "source": [
    "# Setup"
   ]
  },
  {
   "cell_type": "code",
   "execution_count": null,
   "id": "01e208e2-e4fc-454b-b9b4-21224636682b",
   "metadata": {},
   "outputs": [],
   "source": [
    "OUTCOME = use_case_params.OUTCOME_DEATH"
   ]
  },
  {
   "cell_type": "markdown",
   "id": "3311499a-1c60-45c6-a082-2754d60d958e",
   "metadata": {},
   "source": [
    "## Data"
   ]
  },
  {
   "cell_type": "code",
   "execution_count": null,
   "id": "5c503eff-a784-4c7a-98d7-8bba689c2211",
   "metadata": {},
   "outputs": [],
   "source": [
    "VEC_DIR = \"TAB_UNALIGNED\"\n",
    "USE_CASE_PARAM_VEC_DIR = getattr(use_case_params, VEC_DIR)\n",
    "\n",
    "X_train_vec = load_pickle(USE_CASE_PARAM_VEC_DIR + \"tab_train_X\")\n",
    "y_train_vec = load_pickle(USE_CASE_PARAM_VEC_DIR + \"tab_train_y\")\n",
    "X_val_vec = load_pickle(USE_CASE_PARAM_VEC_DIR + \"tab_val_X\")\n",
    "y_val_vec = load_pickle(USE_CASE_PARAM_VEC_DIR + \"tab_val_y\")\n",
    "X_test_vec = load_pickle(USE_CASE_PARAM_VEC_DIR + \"tab_test_X\")\n",
    "y_test_vec = load_pickle(USE_CASE_PARAM_VEC_DIR + \"tab_test_y\")"
   ]
  },
  {
   "cell_type": "code",
   "execution_count": null,
   "id": "bd301460-0659-49f0-8013-2ba85e950491",
   "metadata": {},
   "outputs": [],
   "source": [
    "X_train_vec.get_index(FEATURES)"
   ]
  },
  {
   "cell_type": "markdown",
   "id": "3c0944dc-81e7-4834-9396-ffa4f5e90636",
   "metadata": {},
   "source": [
    "# Feature/target selection"
   ]
  },
  {
   "cell_type": "code",
   "execution_count": null,
   "id": "20f689c1-1a2f-44c9-aab8-d3caf588dd43",
   "metadata": {},
   "outputs": [],
   "source": [
    "# If multiple outcomes present in features.\n",
    "if len(y_train_vec.get_index(FEATURES)) > 1:\n",
    "    _, y_train_vec = y_train_vec.split_out(FEATURES, [OUTCOME])\n",
    "    _, y_val_vec = y_val_vec.split_out(FEATURES, [OUTCOME])\n",
    "    _, y_test_vec = y_test_vec.split_out(FEATURES, [OUTCOME])"
   ]
  },
  {
   "cell_type": "code",
   "execution_count": null,
   "id": "7e9c7569-1f39-4c8c-ae07-1225f58d3a3a",
   "metadata": {},
   "outputs": [],
   "source": [
    "X_train = X_train_vec.data\n",
    "y_train = y_train_vec.data\n",
    "X_val = X_val_vec.data\n",
    "y_val = y_val_vec.data\n",
    "X_test = X_test_vec.data\n",
    "y_test = y_test_vec.data"
   ]
  },
  {
   "cell_type": "markdown",
   "id": "b3e84c18-2635-4f27-b80d-826e8c3a050a",
   "metadata": {},
   "source": [
    "# Model"
   ]
  },
  {
   "cell_type": "code",
   "execution_count": null,
   "id": "2a5f4294-1554-4276-b3b9-8b987317f7d7",
   "metadata": {},
   "outputs": [],
   "source": [
    "# Choose model\n",
    "X_train.shape, y_train.shape, X_val.shape, y_val.shape"
   ]
  },
  {
   "cell_type": "markdown",
   "id": "a79680fc-f761-4eb2-9ac5-61f76857c1b8",
   "metadata": {},
   "source": [
    "# Training and Validation"
   ]
  },
  {
   "cell_type": "code",
   "execution_count": null,
   "id": "cd7b4914-631e-434d-a988-5c3588d616d4",
   "metadata": {},
   "outputs": [],
   "source": [
    "best_model = fit_gbt(X_train, y_train, X_val, y_val)"
   ]
  },
  {
   "cell_type": "markdown",
   "id": "4e857d14-b3e8-4133-b083-a9d03d040cf0",
   "metadata": {},
   "source": [
    "# Testing"
   ]
  },
  {
   "cell_type": "code",
   "execution_count": null,
   "id": "44e2a4eb-1fe4-41c3-a719-ee37f099cd65",
   "metadata": {},
   "outputs": [],
   "source": [
    "predictions = best_model.predict_proba(X_test)[:, 1]\n",
    "score = roc_auc_score(y_test, predictions)\n",
    "print(score)"
   ]
  }
 ],
 "metadata": {
  "kernelspec": {
   "display_name": "cyclops",
   "language": "python",
   "name": "cyclops"
  },
  "language_info": {
   "codemirror_mode": {
    "name": "ipython",
    "version": 3
   },
   "file_extension": ".py",
   "mimetype": "text/x-python",
   "name": "python",
   "nbconvert_exporter": "python",
   "pygments_lexer": "ipython3",
   "version": "3.9.7"
  }
 },
 "nbformat": 4,
 "nbformat_minor": 5
}
