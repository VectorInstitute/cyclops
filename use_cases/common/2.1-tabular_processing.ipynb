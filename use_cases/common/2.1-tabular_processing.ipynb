{
 "cells": [
  {
   "cell_type": "markdown",
   "id": "6a664e3a-0e48-4a68-b9f9-c8966f203ed5",
   "metadata": {},
   "source": [
    "# Shared notebook for processing tabular features."
   ]
  },
  {
   "cell_type": "markdown",
   "id": "bce2c776-bfa2-4327-8668-802d9306eb06",
   "metadata": {},
   "source": [
    "# Imports"
   ]
  },
  {
   "cell_type": "code",
   "execution_count": null,
   "id": "2ee4b234-d192-4259-868f-a9fe7aa3fa46",
   "metadata": {},
   "outputs": [],
   "source": [
    "from cyclops.process.column_names import ENCOUNTER_ID\n",
    "from cyclops.process.constants import FEATURES, NUMERIC, ORDINAL, STANDARD\n",
    "from cyclops.process.feature.feature import TabularFeatures\n",
    "from cyclops.utils.file import load_dataframe, save_pickle\n",
    "from use_cases.common.util import get_use_case_params"
   ]
  },
  {
   "cell_type": "markdown",
   "id": "7e65ee78-b35e-49ac-875c-a657b581032d",
   "metadata": {},
   "source": [
    "# Choose dataset and use-case"
   ]
  },
  {
   "cell_type": "code",
   "execution_count": null,
   "id": "08559b3c-74a0-46a0-961b-b45e1b37f1bb",
   "metadata": {},
   "outputs": [],
   "source": [
    "DATASET = \"mimiciv\"\n",
    "USE_CASE = \"mortality_decompensation\"\n",
    "\n",
    "use_case_params = get_use_case_params(DATASET, USE_CASE)\n",
    "input(f\"WARNING: LOADING CONSTANTS FROM {use_case_params}\")"
   ]
  },
  {
   "cell_type": "markdown",
   "id": "c40f9507-91bd-487f-a73d-0faccf54c7a6",
   "metadata": {
    "tags": []
   },
   "source": [
    "# Tabular-specific processing"
   ]
  },
  {
   "cell_type": "code",
   "execution_count": null,
   "id": "643ec42d-a118-46ac-99c3-a776e60e1a65",
   "metadata": {},
   "outputs": [],
   "source": [
    "cohort = load_dataframe(use_case_params.ENCOUNTERS_FILE)\n",
    "cohort.head(5)"
   ]
  },
  {
   "cell_type": "code",
   "execution_count": null,
   "id": "36d2e68c-a200-4102-b3fc-e2f23fc2858e",
   "metadata": {},
   "outputs": [],
   "source": [
    "if \"admission_location\" in cohort.columns:\n",
    "    print(cohort[\"admission_location\"].value_counts())"
   ]
  },
  {
   "cell_type": "code",
   "execution_count": null,
   "id": "fb8aec10-040a-4a71-8433-40f9d6855dd5",
   "metadata": {},
   "outputs": [],
   "source": [
    "cohort = cohort.reset_index(drop=True)\n",
    "tab_features = TabularFeatures(\n",
    "    data=cohort,\n",
    "    features=use_case_params.TAB_FEATURES,\n",
    "    by=ENCOUNTER_ID,\n",
    "    force_types=use_case_params.TAB_FEATURES_TYPES,\n",
    ")"
   ]
  },
  {
   "cell_type": "code",
   "execution_count": null,
   "id": "af949608-e0b8-4cdf-9e72-71e8b26eab18",
   "metadata": {},
   "outputs": [],
   "source": [
    "tab_features.types"
   ]
  },
  {
   "cell_type": "code",
   "execution_count": null,
   "id": "2cb215a8-e9ad-4105-b744-a61a93ef0e09",
   "metadata": {},
   "outputs": [],
   "source": [
    "tab_features.meta.keys()"
   ]
  },
  {
   "cell_type": "code",
   "execution_count": null,
   "id": "b90115b1-3e5e-412c-ae3a-51e1f7d5607b",
   "metadata": {},
   "outputs": [],
   "source": [
    "ordinal_features = tab_features.features_by_type(ORDINAL)\n",
    "ordinal_features"
   ]
  },
  {
   "cell_type": "code",
   "execution_count": null,
   "id": "238202ea-53dd-4513-b6c8-7bda8577db11",
   "metadata": {},
   "outputs": [],
   "source": [
    "if len(ordinal_features) > 0:\n",
    "    print(ordinal_features[0], \"mapping:\")\n",
    "    print(tab_features.meta[ordinal_features[0]].get_mapping())"
   ]
  },
  {
   "cell_type": "code",
   "execution_count": null,
   "id": "348e0c3c-088a-45cf-96cb-a9b6ef913064",
   "metadata": {},
   "outputs": [],
   "source": [
    "cohort"
   ]
  },
  {
   "cell_type": "code",
   "execution_count": null,
   "id": "eda135bc-f0f6-4dd1-bb4e-91d96a24f44e",
   "metadata": {},
   "outputs": [],
   "source": [
    "tab_vectorized = tab_features.vectorize(to_binary_indicators=ordinal_features)"
   ]
  },
  {
   "cell_type": "code",
   "execution_count": null,
   "id": "614b3a5b-703a-4969-9b8e-3e7dbd439f11",
   "metadata": {},
   "outputs": [],
   "source": [
    "numeric_features = tab_features.features_by_type(NUMERIC)\n",
    "numeric_features"
   ]
  },
  {
   "cell_type": "code",
   "execution_count": null,
   "id": "97a3a502-4d33-4380-92f6-3f345f5de00d",
   "metadata": {},
   "outputs": [],
   "source": [
    "tab_vectorized.shape"
   ]
  },
  {
   "cell_type": "code",
   "execution_count": null,
   "id": "7067bc7f-4da8-4d6e-bf1f-afa41c1590da",
   "metadata": {},
   "outputs": [],
   "source": [
    "tab_vectorized.axis_names"
   ]
  },
  {
   "cell_type": "code",
   "execution_count": null,
   "id": "9231fa1b-360e-4dc0-8cc7-e94936eb8d82",
   "metadata": {},
   "outputs": [],
   "source": [
    "save_pickle(tab_vectorized, use_case_params.TAB_VECTORIZED_FILE)"
   ]
  },
  {
   "cell_type": "code",
   "execution_count": null,
   "id": "0efa276c-ba10-4d26-b695-5336bf9bc29b",
   "metadata": {},
   "outputs": [],
   "source": [
    "save_pickle(tab_features, use_case_params.TAB_FEATURES_FILE)"
   ]
  },
  {
   "cell_type": "markdown",
   "id": "6fb0a06e-d146-45af-89cd-a90964a6b2df",
   "metadata": {},
   "source": [
    "# Prepare splits"
   ]
  },
  {
   "cell_type": "code",
   "execution_count": null,
   "id": "b97c5aba-847e-4f58-9bce-69222f538f12",
   "metadata": {},
   "outputs": [],
   "source": [
    "# Normalize only numeric features (e.g., not binary indicators)\n",
    "# Note: Normalization is not occuring, we are only preparing the object\n",
    "normalizer_map = {feat: STANDARD for feat in numeric_features}\n",
    "\n",
    "tab_vectorized.add_normalizer(\n",
    "    FEATURES,\n",
    "    normalizer_map=normalizer_map,\n",
    ")"
   ]
  },
  {
   "cell_type": "markdown",
   "id": "ff6663ae-1ed5-445e-a1d6-9021154fe1a7",
   "metadata": {},
   "source": [
    "## Dataset splits"
   ]
  },
  {
   "cell_type": "markdown",
   "id": "839995aa-40cb-449c-a057-ad7719998ecf",
   "metadata": {},
   "source": [
    "Split into training, validation, and testing datasets such that the tabular and temporal encounters remain aligned."
   ]
  },
  {
   "cell_type": "code",
   "execution_count": null,
   "id": "b29fdb4f-9939-4dd6-885f-93e182e34225",
   "metadata": {},
   "outputs": [],
   "source": [
    "tab_vectorized.shape"
   ]
  },
  {
   "cell_type": "code",
   "execution_count": null,
   "id": "5a4ec3d2-a221-41ce-93ae-9f5a3018eb00",
   "metadata": {},
   "outputs": [],
   "source": [
    "tab_splits = tab_vectorized.split_by_fraction(\n",
    "    ENCOUNTER_ID, use_case_params.SPLIT_FRACTIONS\n",
    ")\n",
    "tab_train, tab_val, tab_test = tab_splits"
   ]
  },
  {
   "cell_type": "code",
   "execution_count": null,
   "id": "37a6a36d-499d-447e-93eb-3ac002c986c6",
   "metadata": {},
   "outputs": [],
   "source": [
    "tab_train.shape, tab_val.shape, tab_test.shape"
   ]
  },
  {
   "cell_type": "markdown",
   "id": "203ec0ad-a35a-49df-8979-a32779c3ac13",
   "metadata": {},
   "source": [
    "## Split features/targets"
   ]
  },
  {
   "cell_type": "markdown",
   "id": "9e2f20f3-fe51-41f5-be9f-c74d32519787",
   "metadata": {},
   "source": [
    "Split out the targets in the temporal data."
   ]
  },
  {
   "cell_type": "code",
   "execution_count": null,
   "id": "aca6b88f-8f3b-46d2-9d75-3fe8eec1745b",
   "metadata": {},
   "outputs": [],
   "source": [
    "tab_train_X, tab_train_y = tab_train.split_out(FEATURES, use_case_params.TAB_TARGETS)\n",
    "tab_train_X.shape, tab_train_y.shape"
   ]
  },
  {
   "cell_type": "code",
   "execution_count": null,
   "id": "ec5a428e-fcab-4a49-b9c9-77fe5b56da4f",
   "metadata": {},
   "outputs": [],
   "source": [
    "tab_val_X, tab_val_y = tab_val.split_out(FEATURES, use_case_params.TAB_TARGETS)\n",
    "tab_val_X.shape, tab_val_y.shape"
   ]
  },
  {
   "cell_type": "code",
   "execution_count": null,
   "id": "98adfca2-4347-475e-ad9d-aeb15a9f3c65",
   "metadata": {},
   "outputs": [],
   "source": [
    "tab_test_X, tab_test_y = tab_test.split_out(FEATURES, use_case_params.TAB_TARGETS)\n",
    "tab_test_X.shape, tab_test_y.shape"
   ]
  },
  {
   "cell_type": "markdown",
   "id": "b45650c0-847e-4b13-974f-49f9b89cc5f3",
   "metadata": {},
   "source": [
    "## Normalization"
   ]
  },
  {
   "cell_type": "code",
   "execution_count": null,
   "id": "47896217-2e2c-449b-9ac9-b3ce08028f91",
   "metadata": {},
   "outputs": [],
   "source": [
    "splits = tab_train_X, tab_val_X, tab_test_X\n",
    "\n",
    "for split in splits:\n",
    "    split.fit_normalizer()\n",
    "    split.normalize()\n",
    "\n",
    "tab_train_X, tab_val_X, tab_test_X = splits"
   ]
  },
  {
   "cell_type": "markdown",
   "id": "e1c2c5b5-9979-4678-bead-ad42b547abfb",
   "metadata": {
    "tags": []
   },
   "source": [
    "## Save"
   ]
  },
  {
   "cell_type": "code",
   "execution_count": null,
   "id": "9f88e2b1-373e-46c6-97ca-aabd2873fe9a",
   "metadata": {},
   "outputs": [],
   "source": [
    "# Store data\n",
    "vectorized = [\n",
    "    (tab_train_X, \"tab_train_X\"),\n",
    "    (tab_train_y, \"tab_train_y\"),\n",
    "    (tab_val_X, \"tab_val_X\"),\n",
    "    (tab_val_y, \"tab_val_y\"),\n",
    "    (tab_test_X, \"tab_test_X\"),\n",
    "    (tab_test_y, \"tab_test_y\"),\n",
    "]\n",
    "for vec, name in vectorized:\n",
    "    save_pickle(vec, use_case_params.TAB_UNALIGNED + name)"
   ]
  }
 ],
 "metadata": {
  "kernelspec": {
   "display_name": "cyclops",
   "language": "python",
   "name": "cyclops"
  },
  "language_info": {
   "codemirror_mode": {
    "name": "ipython",
    "version": 3
   },
   "file_extension": ".py",
   "mimetype": "text/x-python",
   "name": "python",
   "nbconvert_exporter": "python",
   "pygments_lexer": "ipython3",
   "version": "3.9.7"
  }
 },
 "nbformat": 4,
 "nbformat_minor": 5
}
