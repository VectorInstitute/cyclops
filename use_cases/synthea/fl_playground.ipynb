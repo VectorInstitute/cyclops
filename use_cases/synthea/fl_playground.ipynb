{
 "cells": [
  {
   "cell_type": "markdown",
   "id": "cbaaa5d7-6857-4e89-84df-0467af235d1e",
   "metadata": {},
   "source": [
    "### Play around with synthea dataset in OMOP CDM format."
   ]
  },
  {
   "cell_type": "code",
   "execution_count": null,
   "id": "bcaad5f0-6bab-4c44-afce-7bc66fbbfa78",
   "metadata": {},
   "outputs": [],
   "source": [
    "from cyclops.query.omop import OMOPQuerier\n",
    "\n",
    "synthea = OMOPQuerier(\"cdm_synthea10\", [\"database=synthea\"])\n",
    "visits = synthea.visit_occurrence().run()\n",
    "persons = synthea.person().run()"
   ]
  },
  {
   "cell_type": "code",
   "execution_count": null,
   "id": "47686c49-ca1f-48d5-8bb5-c7865f8b0d38",
   "metadata": {},
   "outputs": [],
   "source": [
    "visits"
   ]
  },
  {
   "cell_type": "code",
   "execution_count": null,
   "id": "72ab764d-e830-48c9-a8d5-3e9d7fb52d37",
   "metadata": {},
   "outputs": [],
   "source": [
    "persons"
   ]
  }
 ],
 "metadata": {
  "kernelspec": {
   "display_name": "cyclops",
   "language": "python",
   "name": "cyclops"
  },
  "language_info": {
   "codemirror_mode": {
    "name": "ipython",
    "version": 3
   },
   "file_extension": ".py",
   "mimetype": "text/x-python",
   "name": "python",
   "nbconvert_exporter": "python",
   "pygments_lexer": "ipython3",
   "version": "3.9.7"
  }
 },
 "nbformat": 4,
 "nbformat_minor": 5
}
