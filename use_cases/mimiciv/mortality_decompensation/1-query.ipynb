{
 "cells": [
  {
   "cell_type": "markdown",
   "id": "c19e50b7-6ff0-48cd-a844-00d9fa4c4606",
   "metadata": {},
   "source": [
    "# Imports"
   ]
  },
  {
   "cell_type": "code",
   "execution_count": null,
   "id": "7e7ef0f0-c03d-454e-ae99-2ad78e65a7b4",
   "metadata": {},
   "outputs": [],
   "source": [
    "import pandas as pd\n",
    "\n",
    "from cyclops.processors.clean import normalize_categories, normalize_names\n",
    "from cyclops.processors.column_names import (\n",
    "    ENCOUNTER_ID,\n",
    "    EVENT_CATEGORY,\n",
    "    EVENT_NAME,\n",
    "    EVENT_TIMESTAMP,\n",
    ")\n",
    "from cyclops.query import process as qp\n",
    "from cyclops.query.mimiciv import MIMICIVQuerier\n",
    "from cyclops.utils.common import add_years_approximate\n",
    "from cyclops.utils.file import join, load_dataframe, save_dataframe, yield_dataframes\n",
    "from use_cases.mimiciv.mortality_decompensation.constants import (\n",
    "    CLEANED_DIR,\n",
    "    ENCOUNTERS_FILE,\n",
    "    OUTCOME_DEATH,\n",
    "    QUERIED_DIR,\n",
    ")\n",
    "\n",
    "mimic = MIMICIVQuerier()"
   ]
  },
  {
   "cell_type": "markdown",
   "id": "2da0063b-7881-475f-a5ca-a267c0d9fb0d",
   "metadata": {},
   "source": [
    "# Query"
   ]
  },
  {
   "cell_type": "markdown",
   "id": "0d3412ae-a3a2-49b1-99d7-f13014cb3d35",
   "metadata": {
    "tags": []
   },
   "source": [
    "## Patient encounters"
   ]
  },
  {
   "cell_type": "code",
   "execution_count": null,
   "id": "fd7883ba-5319-4035-91fb-0128fb36821d",
   "metadata": {},
   "outputs": [],
   "source": [
    "encounters_interface = mimic.patient_encounters()\n",
    "\n",
    "encounters_query = encounters_interface.query\n",
    "encounters_query = qp.Drop(\n",
    "    [\"insurance\", \"language\", \"marital_status\", \"edregtime\", \"edouttime\"],\n",
    ")(encounters_query)\n",
    "\n",
    "encounters_interface = mimic.get_interface(encounters_query)\n",
    "encounters = encounters_interface.run()\n",
    "encounters.head(5)"
   ]
  },
  {
   "cell_type": "markdown",
   "id": "5371359b-249d-45b2-8384-2a4757cf1d70",
   "metadata": {},
   "source": [
    "Create death indicator\n",
    "\n",
    "Hospital expire flag:\n",
    " - 1 - Death in hospital\n",
    " - 0 - Survived past discharge"
   ]
  },
  {
   "cell_type": "code",
   "execution_count": null,
   "id": "449324b6-09a1-4e14-9864-9635f61eb635",
   "metadata": {},
   "outputs": [],
   "source": [
    "# Drop encounters ending in death which don't have a death timestamp\n",
    "invalid = (encounters[\"hospital_expire_flag\"] == 1) & (encounters[\"deathtime\"].isna())\n",
    "encounters = encounters[~invalid]\n",
    "\n",
    "# (Died in hospital) & (Death timestamp is defined)\n",
    "encounters[OUTCOME_DEATH] = encounters[\"hospital_expire_flag\"] == 1\n",
    "encounters.head(5)"
   ]
  },
  {
   "cell_type": "code",
   "execution_count": null,
   "id": "d2aca418-e3e8-468e-ade0-a39f415240c3",
   "metadata": {},
   "outputs": [],
   "source": [
    "(encounters[OUTCOME_DEATH] == True).sum() / len(encounters)  # noqa: E712"
   ]
  },
  {
   "cell_type": "code",
   "execution_count": null,
   "id": "e97d4889-d8ac-4648-b60c-3cdd18854567",
   "metadata": {},
   "outputs": [],
   "source": [
    "save_dataframe(encounters, ENCOUNTERS_FILE)"
   ]
  },
  {
   "cell_type": "markdown",
   "id": "a176f2de-f264-4253-ab11-da9017a4153c",
   "metadata": {},
   "source": [
    "## Events"
   ]
  },
  {
   "cell_type": "code",
   "execution_count": null,
   "id": "de68c082-17d8-46bc-b9ce-4b19b0a97fcd",
   "metadata": {},
   "outputs": [],
   "source": [
    "events_interface = mimic.events()\n",
    "events_query = events_interface.query\n",
    "events_query = qp.Drop([\"warning\", \"itemid\", \"storetime\"])(events_query)\n",
    "events_interface = mimic.get_interface(events_query)\n",
    "events_interface.save_in_grouped_batches(QUERIED_DIR, ENCOUNTER_ID, int(1e6))"
   ]
  },
  {
   "cell_type": "markdown",
   "id": "7fdec0d6-5170-486b-85b8-c0b4294a3358",
   "metadata": {},
   "source": [
    "# Clean / Preprocess"
   ]
  },
  {
   "cell_type": "markdown",
   "id": "de37e20f-5e00-4fcb-8f68-c4675de2c7b7",
   "metadata": {},
   "source": [
    "Can be run entirely separately from the querying."
   ]
  },
  {
   "cell_type": "markdown",
   "id": "1a2b11e1-c784-4673-83e8-5fb456efab56",
   "metadata": {},
   "source": [
    "## Patient encounters"
   ]
  },
  {
   "cell_type": "code",
   "execution_count": null,
   "id": "7104dacf-c4e0-4083-9e81-c83ea701e6d3",
   "metadata": {},
   "outputs": [],
   "source": [
    "encounters = load_dataframe(ENCOUNTERS_FILE)"
   ]
  },
  {
   "cell_type": "markdown",
   "id": "76eb03ba-8d69-4498-ae08-99f82d2a66ea",
   "metadata": {},
   "source": [
    "## Events"
   ]
  },
  {
   "cell_type": "code",
   "execution_count": null,
   "id": "aa554f42-4bc1-42dd-91b8-d02b2f2c3f5c",
   "metadata": {},
   "outputs": [],
   "source": [
    "skip_n = 0\n",
    "generator = yield_dataframes(QUERIED_DIR, skip_n=skip_n, log=True)"
   ]
  },
  {
   "cell_type": "code",
   "execution_count": null,
   "id": "1c7c0e9a-b72d-4e3f-9ac2-802eb354d3e7",
   "metadata": {},
   "outputs": [],
   "source": [
    "for save_count, events in enumerate(generator):\n",
    "    events = events.drop([\"stay_id\"], axis=1)\n",
    "\n",
    "    # Reverse deidentified dating\n",
    "    events = pd.merge(\n",
    "        encounters[[ENCOUNTER_ID, \"anchor_year_difference\"]], events, on=ENCOUNTER_ID\n",
    "    )\n",
    "    events[EVENT_TIMESTAMP] = add_years_approximate(\n",
    "        events[EVENT_TIMESTAMP], events[\"anchor_year_difference\"]\n",
    "    )\n",
    "    events = events.drop(\"anchor_year_difference\", axis=1)\n",
    "\n",
    "    # Preprocessing\n",
    "    events[EVENT_NAME] = normalize_names(events[EVENT_NAME])\n",
    "    events[EVENT_CATEGORY] = normalize_categories(events[EVENT_CATEGORY])\n",
    "    # events[EVENT_VALUE] = normalize_values(events[EVENT_VALUE])\n",
    "\n",
    "    # Concatenate event name and category since some names are the same in\n",
    "    # different categories, e.g., 'flow' for categories 'heartware' and 'ecmo'\n",
    "    events[EVENT_NAME] = events[EVENT_CATEGORY] + \" - \" + events[EVENT_NAME]\n",
    "    events.head(5)\n",
    "\n",
    "    save_dataframe(events, join(CLEANED_DIR, \"batch_\" + f\"{save_count + skip_n:04d}\"))\n",
    "    del events"
   ]
  }
 ],
 "metadata": {
  "kernelspec": {
   "display_name": "cyclops",
   "language": "python",
   "name": "cyclops"
  },
  "language_info": {
   "codemirror_mode": {
    "name": "ipython",
    "version": 3
   },
   "file_extension": ".py",
   "mimetype": "text/x-python",
   "name": "python",
   "nbconvert_exporter": "python",
   "pygments_lexer": "ipython3",
   "version": "3.9.7"
  }
 },
 "nbformat": 4,
 "nbformat_minor": 5
}
