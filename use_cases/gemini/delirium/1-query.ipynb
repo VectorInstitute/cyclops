{
 "cells": [
  {
   "cell_type": "markdown",
   "id": "6dbd726f-215f-4d34-8659-ef18f4ab4706",
   "metadata": {},
   "source": [
    "# Imports"
   ]
  },
  {
   "cell_type": "code",
   "execution_count": null,
   "id": "920de1ee-913e-4b66-b5fe-ae73ed33d315",
   "metadata": {},
   "outputs": [],
   "source": [
    "import cyclops.query.process as qp\n",
    "from cyclops.processors.column_names import ENCOUNTER_ID, LENGTH_OF_STAY_IN_ER\n",
    "from cyclops.query import gemini\n",
    "from cyclops.query.gemini import get_interface"
   ]
  },
  {
   "cell_type": "markdown",
   "id": "42e72081-bb89-4a02-aa0b-5bb0466ab387",
   "metadata": {},
   "source": [
    "# Query"
   ]
  },
  {
   "cell_type": "code",
   "execution_count": null,
   "id": "dcfa28b3-6ae4-4b52-b271-cb0d16fa3f7a",
   "metadata": {},
   "outputs": [],
   "source": [
    "def get_cohort():\n",
    "    \"\"\"Get delirium cohort.\"\"\"\n",
    "    table = gemini.patient_encounters().query\n",
    "    table = qp.DropNulls(\"del_present\")(table)\n",
    "    table = qp.ConditionEquals(\"del_present\", 3, not_=True)(table)\n",
    "\n",
    "    return get_interface(table).run()\n",
    "\n",
    "\n",
    "def get_room_transfers_for_cohort(cohort):\n",
    "    \"\"\"Get room transfer info for cohort.\"\"\"\n",
    "    table = gemini.room_transfers().query\n",
    "    table = qp.GroupByAggregate(\n",
    "        ENCOUNTER_ID, {ENCOUNTER_ID: (\"count\", \"room_transfers\")}\n",
    "    )(table)\n",
    "    room_transfers = get_interface(table).run()\n",
    "    cohort = cohort.merge(room_transfers, on=ENCOUNTER_ID, how=\"left\")\n",
    "\n",
    "    return cohort\n",
    "\n",
    "\n",
    "def get_scu_transfers_for_cohort(cohort):\n",
    "    \"\"\"Get SCU transfer info for cohort.\"\"\"\n",
    "    table = gemini.get_table(\"ip_scu\")\n",
    "    table = qp.GroupByAggregate(\n",
    "        ENCOUNTER_ID, {ENCOUNTER_ID: (\"count\", \"icu_transfers\")}\n",
    "    )(table)\n",
    "    ip_scu = get_interface(table).run()\n",
    "    cohort = cohort.merge(ip_scu, on=ENCOUNTER_ID, how=\"left\")\n",
    "    cohort[\"icu_transfers\"] = cohort[\"icu_transfers\"].fillna(0)\n",
    "\n",
    "    return cohort\n",
    "\n",
    "\n",
    "def get_er_for_cohort(cohort):\n",
    "    \"\"\"Get ER info for cohort.\"\"\"\n",
    "    table = gemini.er_admin().query\n",
    "    table = qp.FilterColumns(\n",
    "        [\n",
    "            ENCOUNTER_ID,\n",
    "            \"admit_via_ambulance\",\n",
    "            \"triage_level\",\n",
    "            LENGTH_OF_STAY_IN_ER,\n",
    "        ]\n",
    "    )(table)\n",
    "    er_info = get_interface(table).run()\n",
    "    cohort = cohort.merge(er_info, on=\"encounter_id\", how=\"left\")\n",
    "\n",
    "    return cohort\n",
    "\n",
    "\n",
    "cohort = get_cohort()\n",
    "cohort = get_room_transfers_for_cohort(cohort)\n",
    "cohort = get_scu_transfers_for_cohort(cohort)\n",
    "cohort = get_er_for_cohort(cohort)"
   ]
  },
  {
   "cell_type": "code",
   "execution_count": null,
   "id": "3fedf874-3644-489a-be60-935a5f88b6f7",
   "metadata": {},
   "outputs": [],
   "source": [
    "cohort"
   ]
  }
 ],
 "metadata": {
  "kernelspec": {
   "display_name": "cyclops",
   "language": "python",
   "name": "cyclops"
  },
  "language_info": {
   "codemirror_mode": {
    "name": "ipython",
    "version": 3
   },
   "file_extension": ".py",
   "mimetype": "text/x-python",
   "name": "python",
   "nbconvert_exporter": "python",
   "pygments_lexer": "ipython3",
   "version": "3.9.7"
  }
 },
 "nbformat": 4,
 "nbformat_minor": 5
}
