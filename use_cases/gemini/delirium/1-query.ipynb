{
 "cells": [
  {
   "cell_type": "markdown",
   "id": "6dbd726f-215f-4d34-8659-ef18f4ab4706",
   "metadata": {},
   "source": [
    "# Imports"
   ]
  },
  {
   "cell_type": "code",
   "execution_count": null,
   "id": "920de1ee-913e-4b66-b5fe-ae73ed33d315",
   "metadata": {},
   "outputs": [],
   "source": [
    "import numpy as np\n",
    "\n",
    "import cyclops.query.process as qp\n",
    "from cyclops.processors.column_names import ENCOUNTER_ID, LENGTH_OF_STAY_IN_ER, DIAGNOSIS_CODE\n",
    "from cyclops.query import gemini\n",
    "from cyclops.query.gemini import get_interface"
   ]
  },
  {
   "cell_type": "markdown",
   "id": "42e72081-bb89-4a02-aa0b-5bb0466ab387",
   "metadata": {},
   "source": [
    "# Query"
   ]
  },
  {
   "cell_type": "code",
   "execution_count": null,
   "id": "dcfa28b3-6ae4-4b52-b271-cb0d16fa3f7a",
   "metadata": {},
   "outputs": [],
   "source": [
    "def get_cohort():\n",
    "    \"\"\"Get delirium cohort.\"\"\"\n",
    "    table = gemini.patient_encounters().query\n",
    "    table = qp.DropNulls(\"del_present\")(table)\n",
    "    table = qp.ConditionEquals(\"del_present\", 3, not_=True)(table)\n",
    "\n",
    "    return get_interface(table).run()\n",
    "\n",
    "\n",
    "def get_room_transfers_for_cohort(cohort):\n",
    "    \"\"\"Get room transfer info for cohort.\"\"\"\n",
    "    table = gemini.room_transfers().query\n",
    "    table = qp.GroupByAggregate(\n",
    "        ENCOUNTER_ID, {ENCOUNTER_ID: (\"count\", \"room_transfers\")}\n",
    "    )(table)\n",
    "    room_transfers = get_interface(table).run()\n",
    "    cohort = cohort.merge(room_transfers, on=ENCOUNTER_ID, how=\"left\")\n",
    "\n",
    "    return cohort\n",
    "\n",
    "\n",
    "def get_scu_transfers_for_cohort(cohort):\n",
    "    \"\"\"Get SCU transfer info for cohort.\"\"\"\n",
    "    table = gemini.get_table(\"ip_scu\")\n",
    "    table = qp.GroupByAggregate(\n",
    "        ENCOUNTER_ID, {ENCOUNTER_ID: (\"count\", \"icu_transfers\")}\n",
    "    )(table)\n",
    "    ip_scu = get_interface(table).run()\n",
    "    cohort = cohort.merge(ip_scu, on=ENCOUNTER_ID, how=\"left\")\n",
    "    cohort[\"icu_transfers\"] = cohort[\"icu_transfers\"].fillna(0)\n",
    "\n",
    "    return cohort\n",
    "\n",
    "\n",
    "def get_er_for_cohort(cohort):\n",
    "    \"\"\"Get ER info for cohort.\"\"\"\n",
    "    table = gemini.er_admin().query\n",
    "    table = qp.FilterColumns(\n",
    "        [\n",
    "            ENCOUNTER_ID,\n",
    "            \"admit_via_ambulance\",\n",
    "            \"triage_level\",\n",
    "            LENGTH_OF_STAY_IN_ER,\n",
    "        ]\n",
    "    )(table)\n",
    "    er_info = get_interface(table).run()\n",
    "    cohort = cohort.merge(er_info, on=ENCOUNTER_ID, how=\"left\")\n",
    "\n",
    "    return cohort\n",
    "\n",
    "\n",
    "def get_bt_for_cohort(cohort):\n",
    "    \"\"\"Get blood transfusions info for cohort.\"\"\"\n",
    "    table = gemini.blood_transfusions().query\n",
    "    total = qp.GroupByAggregate(\n",
    "        ENCOUNTER_ID, {ENCOUNTER_ID: (\"count\", \"total_transfusions\")}\n",
    "    )(table)\n",
    "    unique = qp.GroupByAggregate(\n",
    "        [ENCOUNTER_ID, \"blood_product_raw\"], {ENCOUNTER_ID: (\"count\", \"unique_transfusions\")}\n",
    "    )(table)\n",
    "    unique = qp.GroupByAggregate(\n",
    "        ENCOUNTER_ID, {ENCOUNTER_ID: (\"count\", \"unique_transfusions\")}\n",
    "    )(unique)\n",
    "    total = get_interface(total).run()\n",
    "    unique = get_interface(unique).run()\n",
    "    cohort = cohort.merge(total, on=ENCOUNTER_ID, how=\"left\")\n",
    "    cohort = cohort.merge(unique, on=ENCOUNTER_ID, how=\"left\")\n",
    "    cohort[\"unique_transfusions\"] = cohort[\"unique_transfusions\"].fillna(0)\n",
    "    cohort[\"total_transfusions\"] = cohort[\"total_transfusions\"].fillna(0)\n",
    "\n",
    "    return cohort\n",
    "\n",
    "\n",
    "def get_icd_delirium_for_cohort(cohort):\n",
    "    \"\"\"Get ICD delirium flag based on diagnosis info for cohort.\"\"\"\n",
    "    icd_delirium = gemini.diagnoses().query\n",
    "    # icd_delirium = qp.ConditionStartsWith(DIAGNOSIS_CODE, \"F05\")(icd_delirium)\n",
    "    # icd_delirium = qp.GroupByAggregate(\n",
    "    #     [ENCOUNTER_ID, DIAGNOSIS_CODE],  {ENCOUNTER_ID: (\"count\", \"icd_delirium\")}\n",
    "    # )(table)\n",
    "    # icd_delirium = qp.GroupByAggregate(\n",
    "    #     [ENCOUNTER_ID, DIAGNOSIS_CODE], {ENCOUNTER_ID: (\"count\", \"icd_delirium\")}\n",
    "    # )(icd_delirium)\n",
    "    # icd_delirium = qp.FilterColumns(\n",
    "    #     [\n",
    "    #         ENCOUNTER_ID,\n",
    "    #         DIAGNOSIS_CODE,\n",
    "    #         \"icd_delirium\",\n",
    "    #     ]\n",
    "    # )(icd_delirium)\n",
    "    icd_delirium = get_interface(icd_delirium).run()\n",
    "    # cohort = cohort.merge(icd_delirium, on=ENCOUNTER_ID, how=\"left\")\n",
    "    # cohort[\"icd_delirium\"] = cohort[\"icd_delirium\"].fillna(0)\n",
    "\n",
    "    return icd_delirium\n",
    "\n",
    "\n",
    "cohort = get_cohort()\n",
    "cohort = get_room_transfers_for_cohort(cohort)\n",
    "cohort = get_scu_transfers_for_cohort(cohort)\n",
    "cohort = get_er_for_cohort(cohort)\n",
    "cohort = get_bt_for_cohort(cohort)\n",
    "cohort = get_icd_delirium_for_cohort(cohort)"
   ]
  },
  {
   "cell_type": "code",
   "execution_count": null,
   "id": "3fedf874-3644-489a-be60-935a5f88b6f7",
   "metadata": {},
   "outputs": [],
   "source": [
    "cohort"
   ]
  },
  {
   "cell_type": "code",
   "execution_count": null,
   "id": "3b7f31b2-0b82-432e-be00-7efd67eeb594",
   "metadata": {},
   "outputs": [],
   "source": [
    "import psycopg2\n",
    "import pandas as pd\n",
    "\n",
    "\n",
    "conn = psycopg2.connect(\n",
    "    host=\"db.gemini-hpc.ca\",\n",
    "    database=\"delirium_v3_0_0\",\n",
    "    user=\"krishnanam\",\n",
    "    password=\"Totem110#\",\n",
    ")\n",
    "\n",
    "delirium_icd10_query = \"\"\"\n",
    "    select\n",
    "        a.genc_id, a.diagnosis_code, bool_or(a.icd_delirium) as icd_delirium\n",
    "    from (\n",
    "        select distinct\n",
    "            d.genc_id, d.diagnosis_code as diagnosis_code,\n",
    "            case when d.diagnosis_code like 'F05%' then TRUE else FALSE end as icd_delirium\n",
    "        from diagnosis d\n",
    "            inner join ip_administrative ia\n",
    "                on d.genc_id = ia.genc_id\n",
    "        where ia.del_present is not null and ia.del_present <> 3\n",
    "    ) a\n",
    "    group by a.genc_id, a.diagnosis_code;\n",
    "\"\"\"\n",
    "ref = pd.read_sql_query(delirium_icd10_query, conn)"
   ]
  },
  {
   "cell_type": "code",
   "execution_count": null,
   "id": "1a950ccc-b90a-4ff4-a528-12251a410f64",
   "metadata": {},
   "outputs": [],
   "source": [
    "ref_encs = set(list(ref[ref[\"icd_delirium\"] == True][\"genc_id\"]))\n",
    "tar_encs = set(list(cohort[cohort[\"icd_delirium\"] == 1.0][\"encounter_id\"]))\n",
    "inter = ref_encs.intersection(tar_encs)\n",
    "len(inter)\n",
    "ref_encs - tar_encs"
   ]
  },
  {
   "cell_type": "code",
   "execution_count": null,
   "id": "1e302ba1-1fc7-4bbd-a515-fd20c82b1139",
   "metadata": {},
   "outputs": [],
   "source": [
    "cohort[cohort[\"encounter_id\"] == 15301942]"
   ]
  },
  {
   "cell_type": "code",
   "execution_count": null,
   "id": "be2ada02-c8f5-482f-8d92-f078c7b90101",
   "metadata": {},
   "outputs": [],
   "source": [
    "ref[ref[\"genc_id\"] == 15301942]"
   ]
  }
 ],
 "metadata": {
  "kernelspec": {
   "display_name": "cyclops",
   "language": "python",
   "name": "cyclops"
  },
  "language_info": {
   "codemirror_mode": {
    "name": "ipython",
    "version": 3
   },
   "file_extension": ".py",
   "mimetype": "text/x-python",
   "name": "python",
   "nbconvert_exporter": "python",
   "pygments_lexer": "ipython3",
   "version": "3.9.7"
  }
 },
 "nbformat": 4,
 "nbformat_minor": 5
}
