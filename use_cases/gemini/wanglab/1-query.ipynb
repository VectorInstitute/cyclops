{
 "cells": [
  {
   "cell_type": "markdown",
   "id": "480200fd-0a26-4cff-92e7-977bd499eddf",
   "metadata": {},
   "source": [
    "# Imports"
   ]
  },
  {
   "cell_type": "code",
   "execution_count": 1,
   "id": "9b5ee7bb-632e-4bd9-b263-7ad249fcf3d1",
   "metadata": {},
   "outputs": [
    {
     "name": "stderr",
     "output_type": "stream",
     "text": [
      "2022-10-11 12:30:10,098 \u001b[1;37mINFO\u001b[0m cyclops.orm     - Database setup, ready to run queries!\n"
     ]
    }
   ],
   "source": [
    "import time\n",
    "\n",
    "import pandas as pd\n",
    "\n",
    "\n",
    "from cyclops.processors.cleaning import normalize_names, normalize_values\n",
    "from cyclops.processors.column_names import (\n",
    "    DISCHARGE_TIMESTAMP,\n",
    "    ENCOUNTER_ID,\n",
    "    EVENT_NAME,\n",
    "    EVENT_VALUE,\n",
    ")\n",
    "from cyclops.processors.feature.split import intersect_datasets\n",
    "from cyclops.utils.file import join, save_dataframe\n",
    "from use_cases.gemini.wanglab.constants import (\n",
    "    CLEANED_DIR,\n",
    "    ENCOUNTERS_FILE,\n",
    "    OUTCOME_DEATH,\n",
    "    OUTCOME_EDEMA,\n",
    "    QUERIED_DIR,\n",
    "    TARGET_TIMESTAMP,\n",
    ")\n",
    "from use_cases.gemini.wanglab.query import main"
   ]
  },
  {
   "cell_type": "markdown",
   "id": "8af9d390-0916-4710-8e0d-6ae4046db6a3",
   "metadata": {},
   "source": [
    "# Query"
   ]
  },
  {
   "cell_type": "code",
   "execution_count": null,
   "id": "2c824cdd-3399-4c49-9c29-666287916c1b",
   "metadata": {},
   "outputs": [
    {
     "name": "stderr",
     "output_type": "stream",
     "text": [
      "2022-10-11 12:30:16,102 \u001b[1;37mINFO\u001b[0m cyclops.orm     - Query returned successfully!\n",
      "2022-10-11 12:30:16,103 \u001b[1;37mINFO\u001b[0m cyclops.utils.profile - Finished executing function run_query in 5.925108 s\n",
      "2022-10-11 12:30:18,492 \u001b[1;37mINFO\u001b[0m cyclops.orm     - Query returned successfully!\n",
      "2022-10-11 12:30:18,493 \u001b[1;37mINFO\u001b[0m cyclops.utils.profile - Finished executing function run_query in 2.388987 s\n",
      "2022-10-11 12:30:30,615 \u001b[1;37mINFO\u001b[0m cyclops.orm     - Query returned successfully!\n",
      "2022-10-11 12:30:30,617 \u001b[1;37mINFO\u001b[0m cyclops.utils.profile - Finished executing function run_query in 11.288929 s\n",
      "2022-10-11 12:30:44,765 \u001b[1;37mINFO\u001b[0m cyclops.orm     - Query returned successfully!\n",
      "2022-10-11 12:30:44,767 \u001b[1;37mINFO\u001b[0m cyclops.utils.profile - Finished executing function run_query in 2.112695 s\n",
      "2022-10-11 12:30:45,597 \u001b[1;37mINFO\u001b[0m cyclops.orm     - Query returned successfully!\n",
      "2022-10-11 12:30:45,598 \u001b[1;37mINFO\u001b[0m cyclops.utils.profile - Finished executing function run_query in 0.162419 s\n",
      "2022-10-11 12:31:31,683 \u001b[1;37mINFO\u001b[0m cyclops.orm     - Query returned successfully!\n",
      "2022-10-11 12:31:31,684 \u001b[1;37mINFO\u001b[0m cyclops.utils.profile - Finished executing function run_query in 45.914200 s\n",
      "2022-10-11 12:31:31,685 \u001b[1;37mINFO\u001b[0m cyclops.query.interface - Applying post-processing fn <lambda> to query output\n",
      "2022-10-11 12:31:53,053 \u001b[1;37mINFO\u001b[0m cyclops.orm     - Query returned successfully!\n",
      "2022-10-11 12:31:53,055 \u001b[1;37mINFO\u001b[0m cyclops.utils.profile - Finished executing function run_query in 6.438843 s\n",
      "2022-10-11 12:31:59,012 \u001b[1;37mINFO\u001b[0m cyclops.orm     - Query returned successfully!\n",
      "2022-10-11 12:31:59,014 \u001b[1;37mINFO\u001b[0m cyclops.utils.profile - Finished executing function run_query in 5.697192 s\n",
      "2022-10-11 12:32:45,708 \u001b[1;37mINFO\u001b[0m cyclops.orm     - Query returned successfully!\n",
      "2022-10-11 12:32:45,709 \u001b[1;37mINFO\u001b[0m cyclops.utils.profile - Finished executing function run_query in 46.689326 s\n"
     ]
    }
   ],
   "source": [
    "t = time.time()\n",
    "cohort, events = main()\n",
    "print(time.time() - t)\n",
    "cohort"
   ]
  },
  {
   "cell_type": "code",
   "execution_count": null,
   "id": "d97ff77b-2599-4b25-9506-0ce1460f0c0a",
   "metadata": {},
   "outputs": [],
   "source": [
    "cohort[OUTCOME_DEATH].sum() / len(cohort)"
   ]
  },
  {
   "cell_type": "code",
   "execution_count": null,
   "id": "bf93effa-5a8f-41de-98e0-1a0d9a22089c",
   "metadata": {},
   "outputs": [],
   "source": [
    "cohort[OUTCOME_EDEMA].sum() / len(cohort)"
   ]
  },
  {
   "cell_type": "code",
   "execution_count": null,
   "id": "8034cecf-060c-48d5-8688-15255628fbbc",
   "metadata": {},
   "outputs": [],
   "source": [
    "events"
   ]
  },
  {
   "cell_type": "code",
   "execution_count": null,
   "id": "032186ed-9141-442b-83de-76111c0f25dd",
   "metadata": {},
   "outputs": [],
   "source": [
    "# Intersect over encounter IDs to get only those encounters common to both\n",
    "cohort, events = intersect_datasets([cohort, events], ENCOUNTER_ID)"
   ]
  },
  {
   "cell_type": "code",
   "execution_count": null,
   "id": "9faedb44-ba80-43b1-838e-a1ce7dab2119",
   "metadata": {},
   "outputs": [],
   "source": [
    "save_dataframe(events, join(QUERIED_DIR, \"batch_0000.parquet\"))"
   ]
  },
  {
   "cell_type": "markdown",
   "id": "26bed3c7-e88e-40a2-815e-a88cfb5856cf",
   "metadata": {},
   "source": [
    "# Clean / Preprocess"
   ]
  },
  {
   "cell_type": "code",
   "execution_count": null,
   "id": "1bc14ee7-d120-47ae-a3d1-b0253fb77cec",
   "metadata": {},
   "outputs": [],
   "source": [
    "death_events = cohort[cohort[OUTCOME_DEATH] == True]  # noqa: E712\n",
    "death_events = death_events[[ENCOUNTER_ID, DISCHARGE_TIMESTAMP]]\n",
    "death_events = death_events.rename({DISCHARGE_TIMESTAMP: TARGET_TIMESTAMP}, axis=1)\n",
    "cohort = pd.merge(cohort, death_events, on=ENCOUNTER_ID, how=\"left\")\n",
    "cohort"
   ]
  },
  {
   "cell_type": "code",
   "execution_count": null,
   "id": "4ec131c4-7828-4a12-bb3b-2caea66ff579",
   "metadata": {},
   "outputs": [],
   "source": [
    "save_dataframe(cohort, ENCOUNTERS_FILE)"
   ]
  },
  {
   "cell_type": "code",
   "execution_count": null,
   "id": "29c7fa3b-0964-4e24-a00c-bf0600a2ac28",
   "metadata": {},
   "outputs": [],
   "source": [
    "# Normalize names and string values\n",
    "events[EVENT_NAME] = normalize_names(events[EVENT_NAME])\n",
    "events[EVENT_VALUE] = normalize_values(events[EVENT_VALUE])\n",
    "\n",
    "# Convert values to numeric, dropping those which can't be converted\n",
    "events[EVENT_VALUE] = pd.to_numeric(events[EVENT_VALUE], errors=\"coerce\")\n",
    "print(\"Length before:\", len(events))\n",
    "events = events[~events[EVENT_VALUE].isna()]\n",
    "print(\"Length after:\", len(events))\n",
    "events"
   ]
  },
  {
   "cell_type": "code",
   "execution_count": null,
   "id": "56780458-b9bd-4fa3-af08-3cfec16dd5ad",
   "metadata": {},
   "outputs": [],
   "source": [
    "save_dataframe(events, join(CLEANED_DIR, \"batch_0000.parquet\"))"
   ]
  }
 ],
 "metadata": {
  "kernelspec": {
   "display_name": "cyclops",
   "language": "python",
   "name": "cyclops"
  },
  "language_info": {
   "codemirror_mode": {
    "name": "ipython",
    "version": 3
   },
   "file_extension": ".py",
   "mimetype": "text/x-python",
   "name": "python",
   "nbconvert_exporter": "python",
   "pygments_lexer": "ipython3",
   "version": "3.9.7"
  }
 },
 "nbformat": 4,
 "nbformat_minor": 5
}
