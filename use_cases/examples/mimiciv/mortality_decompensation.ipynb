{
 "cells": [
  {
   "cell_type": "markdown",
   "metadata": {},
   "source": [
    "# Modeling mortality decompensation on MIMICIV\n",
    "\n",
    "This notebook presents examples of preprocessing data, training, and testing models to predict mortality decompensation on MIMICIV dataset. There are three types of processing and modeling based on the data type:\n",
    "1. Tabular: Using tabular data and applying static models.\n",
    "2. Temporal: Using temporal data as timeseries and applying temporal models.\n",
    "3. Combined: Using both tabular and temporal data and applying temporal data."
   ]
  },
  {
   "cell_type": "markdown",
   "metadata": {},
   "source": [
    "### Imports"
   ]
  },
  {
   "cell_type": "code",
   "execution_count": null,
   "metadata": {},
   "outputs": [],
   "source": [
    "from cyclops.models.catalog import STATIC_MODELS, TEMPORAL_MODELS\n",
    "from cyclops.models.predictor import Predictor\n",
    "from use_cases.data_processors.process import DataProcessor"
   ]
  },
  {
   "cell_type": "code",
   "execution_count": null,
   "metadata": {},
   "outputs": [],
   "source": [
    "DATASET = \"mimiciv\"\n",
    "USE_CASE = \"mortality_decompensation\"\n",
    "TABULAR_TYPE = \"tabular\"\n",
    "TEMPORAL_TYPE = \"temporal\"\n",
    "COMBINED_TYPE = \"combined\""
   ]
  },
  {
   "cell_type": "markdown",
   "metadata": {},
   "source": [
    "## Tabular Processing\n",
    "\n",
    "Tabular processing aims to load the queried data, prepares the data for training and testing, and saves the finalized data splits in `4-final` sub-directory of the data directory.\n",
    "\n",
    "If the processed data already exists, this step can be skipped."
   ]
  },
  {
   "cell_type": "code",
   "execution_count": null,
   "metadata": {},
   "outputs": [],
   "source": [
    "tabular_processor = DataProcessor(DATASET, USE_CASE, TABULAR_TYPE)\n",
    "tabular_processor.process_data()"
   ]
  },
  {
   "cell_type": "markdown",
   "metadata": {},
   "source": [
    "## Tabular modeling\n",
    "\n",
    "Tabular modeling aims to train a static model on tabular data to predict mortality decompensation."
   ]
  },
  {
   "cell_type": "code",
   "execution_count": null,
   "metadata": {},
   "outputs": [],
   "source": [
    "# List of supported static models\n",
    "STATIC_MODELS"
   ]
  },
  {
   "cell_type": "code",
   "execution_count": null,
   "metadata": {},
   "outputs": [],
   "source": [
    "tabular_predictor = Predictor(\"lr\", DATASET, USE_CASE, TABULAR_TYPE)"
   ]
  },
  {
   "cell_type": "code",
   "execution_count": null,
   "metadata": {},
   "outputs": [],
   "source": [
    "tabular_predictor.dataset.n_features"
   ]
  },
  {
   "cell_type": "code",
   "execution_count": null,
   "metadata": {},
   "outputs": [],
   "source": [
    "tabular_predictor.dataset.X_train.shape"
   ]
  },
  {
   "cell_type": "code",
   "execution_count": null,
   "metadata": {},
   "outputs": [],
   "source": [
    "tabular_predictor.dataset.y_train.shape"
   ]
  },
  {
   "cell_type": "code",
   "execution_count": null,
   "metadata": {},
   "outputs": [],
   "source": [
    "# Training the model\n",
    "xgb_model = tabular_predictor.fit()"
   ]
  },
  {
   "cell_type": "code",
   "execution_count": null,
   "metadata": {},
   "outputs": [],
   "source": [
    "# Predciting on the test set\n",
    "y_test_labels, y_pred_values, y_pred_labels = tabular_predictor.predict(xgb_model)\n",
    "y_pred_values"
   ]
  },
  {
   "cell_type": "code",
   "execution_count": null,
   "metadata": {},
   "outputs": [],
   "source": [
    "# Getting evaluation metrics\n",
    "tabular_predictor.evaluate(xgb_model, verbose=True)"
   ]
  },
  {
   "cell_type": "markdown",
   "metadata": {},
   "source": [
    "## Temporal processing\n",
    "\n",
    "Temporal processing aims to load the queried data, prepares the timeseries data for training and testing, and saves the finalized data splits in `4-final` sub-directory of the data directory.\n",
    "\n",
    "If the processed data already exists, this step can be skipped."
   ]
  },
  {
   "cell_type": "code",
   "execution_count": null,
   "metadata": {},
   "outputs": [],
   "source": [
    "temporal_processor = DataProcessor(DATASET, USE_CASE, TEMPORAL_TYPE)\n",
    "temporal_processor.process_data()"
   ]
  },
  {
   "cell_type": "markdown",
   "metadata": {},
   "source": [
    "## Temporal modeling\n",
    "\n",
    "Temporal modeling aims to train a temporal model on timeseries data to predict mortality decompensation."
   ]
  },
  {
   "cell_type": "code",
   "execution_count": null,
   "metadata": {},
   "outputs": [],
   "source": [
    "# List of supported temopral models\n",
    "TEMPORAL_MODELS"
   ]
  },
  {
   "cell_type": "code",
   "execution_count": null,
   "metadata": {},
   "outputs": [],
   "source": [
    "# Initializing the predictor\n",
    "temporal_predictor = Predictor(\"gru\", DATASET, USE_CASE, TEMPORAL_TYPE)"
   ]
  },
  {
   "cell_type": "code",
   "execution_count": null,
   "metadata": {},
   "outputs": [],
   "source": [
    "temporal_predictor.dataset.n_features"
   ]
  },
  {
   "cell_type": "code",
   "execution_count": null,
   "metadata": {},
   "outputs": [],
   "source": [
    "temporal_predictor.dataset.X_train.shape"
   ]
  },
  {
   "cell_type": "code",
   "execution_count": null,
   "metadata": {},
   "outputs": [],
   "source": [
    "temporal_predictor.dataset.y_train.shape"
   ]
  },
  {
   "cell_type": "code",
   "execution_count": null,
   "metadata": {},
   "outputs": [],
   "source": [
    "# trainin the model\n",
    "gru_model = temporal_predictor.fit()\n",
    "gru_model"
   ]
  },
  {
   "cell_type": "code",
   "execution_count": null,
   "metadata": {},
   "outputs": [],
   "source": [
    "# Predciting on the test set\n",
    "y_test_labels, y_pred_values, y_pred_labels = temporal_predictor.predict(gru_model)\n",
    "y_pred_values"
   ]
  },
  {
   "cell_type": "code",
   "execution_count": null,
   "metadata": {},
   "outputs": [],
   "source": [
    "# Getting evaluation metrics\n",
    "temporal_predictor.evaluate(gru_model, verbose=False)"
   ]
  },
  {
   "cell_type": "markdown",
   "metadata": {},
   "source": [
    "## Combined processing\n",
    "\n",
    "Combined processing aims to load both tabular and temporal data, and combines them for training and testing, and saves the finalized data splits in `4-final` sub-directory of the data directory.\n",
    "\n",
    "If the processed data already exists, this step can be skipped."
   ]
  },
  {
   "cell_type": "code",
   "execution_count": null,
   "metadata": {},
   "outputs": [],
   "source": [
    "combined_processor = DataProcessor(DATASET, USE_CASE, COMBINED_TYPE)\n",
    "combined_processor.process_data()"
   ]
  },
  {
   "cell_type": "markdown",
   "metadata": {},
   "source": [
    "## Combined modeling\n",
    "\n",
    "Combined modeling aims to train a temporal model on timeseries data integrated with tabular data to predict mortality decompensation."
   ]
  },
  {
   "cell_type": "code",
   "execution_count": null,
   "metadata": {},
   "outputs": [],
   "source": [
    "# List of supported temopral models\n",
    "TEMPORAL_MODELS"
   ]
  },
  {
   "cell_type": "code",
   "execution_count": null,
   "metadata": {},
   "outputs": [],
   "source": [
    "# Training the model\n",
    "combined_predictor = Predictor(\"lstm\", DATASET, USE_CASE, COMBINED_TYPE)\n",
    "lstm_model = combined_predictor.fit()\n",
    "lstm_model"
   ]
  },
  {
   "cell_type": "code",
   "execution_count": null,
   "metadata": {},
   "outputs": [],
   "source": [
    "combined_predictor.dataset.n_features"
   ]
  },
  {
   "cell_type": "code",
   "execution_count": null,
   "metadata": {},
   "outputs": [],
   "source": [
    "combined_predictor.dataset.X_train.shape"
   ]
  },
  {
   "cell_type": "code",
   "execution_count": null,
   "metadata": {},
   "outputs": [],
   "source": [
    "# Predciting on the test set\n",
    "y_test_labels, y_pred_values, y_pred_labels = combined_predictor.predict(lstm_model)\n",
    "y_pred_values"
   ]
  },
  {
   "cell_type": "code",
   "execution_count": null,
   "metadata": {},
   "outputs": [],
   "source": [
    "# Getting evaluation metrics\n",
    "combined_predictor.evaluate(lstm_model, verbose=False)"
   ]
  },
  {
   "cell_type": "code",
   "execution_count": null,
   "metadata": {},
   "outputs": [],
   "source": []
  }
 ],
 "metadata": {
  "kernelspec": {
   "display_name": "Python 3 (ipykernel)",
   "language": "python",
   "name": "python3"
  },
  "language_info": {
   "codemirror_mode": {
    "name": "ipython",
    "version": 3
   },
   "file_extension": ".py",
   "mimetype": "text/x-python",
   "name": "python",
   "nbconvert_exporter": "python",
   "pygments_lexer": "ipython3",
   "version": "3.9.7"
  }
 },
 "nbformat": 4,
 "nbformat_minor": 2
}
