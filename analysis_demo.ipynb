{
 "cells": [
  {
   "cell_type": "code",
   "execution_count": 1,
   "id": "scientific-unemployment",
   "metadata": {},
   "outputs": [],
   "source": [
    "import pandas as pd"
   ]
  },
  {
   "cell_type": "code",
   "execution_count": 2,
   "id": "copyrighted-terror",
   "metadata": {},
   "outputs": [],
   "source": [
    "data = pd.read_csv('../gemini_data.csv')"
   ]
  },
  {
   "cell_type": "code",
   "execution_count": 6,
   "id": "flexible-intent",
   "metadata": {},
   "outputs": [
    {
     "data": {
      "text/plain": [
       "['Unnamed: 0',\n",
       " 'patient_id',\n",
       " 'genc_id',\n",
       " 'hospital_id',\n",
       " 'sex',\n",
       " 'age',\n",
       " 'mort_hosp',\n",
       " 'discharge_date_time',\n",
       " 'admit_date_time',\n",
       " 'mr_diagnosis',\n",
       " 'year',\n",
       " 'los',\n",
       " 'readmission_7',\n",
       " 'readmission_28',\n",
       " 'palliative',\n",
       " 'los_er',\n",
       " 'admit_via_ambulance',\n",
       " 'er_admit_date_time',\n",
       " 'er_discharge_date_time',\n",
       " 'triage_level',\n",
       " 'icd10_A00_B99',\n",
       " 'icd10_C00_D49',\n",
       " 'icd10_D50_D89',\n",
       " 'icd10_E00_E89',\n",
       " 'icd10_F01_F99',\n",
       " 'icd10_G00_G99',\n",
       " 'icd10_H00_H59',\n",
       " 'icd10_H60_H95',\n",
       " 'icd10_I00_I99',\n",
       " 'icd10_J00_J99',\n",
       " 'icd10_K00_K95',\n",
       " 'icd10_L00_L99',\n",
       " 'icd10_M00_M99',\n",
       " 'icd10_N00_N99',\n",
       " 'icd10_O00_O99',\n",
       " 'icd10_Q00_Q99',\n",
       " 'icd10_R00_R99',\n",
       " 'icd10_S00_T88',\n",
       " 'icd10_U07_U08',\n",
       " 'icd10_Z00_Z99',\n",
       " 'icd10_nan',\n",
       " 'train',\n",
       " 'test',\n",
       " 'val']"
      ]
     },
     "execution_count": 6,
     "metadata": {},
     "output_type": "execute_result"
    }
   ],
   "source": [
    "list(data.columns)"
   ]
  },
  {
   "cell_type": "code",
   "execution_count": 4,
   "id": "considered-enhancement",
   "metadata": {},
   "outputs": [],
   "source": [
    "import analysis"
   ]
  },
  {
   "cell_type": "code",
   "execution_count": 5,
   "id": "numeric-archive",
   "metadata": {},
   "outputs": [
    {
     "name": "stdout",
     "output_type": "stream",
     "text": [
      "Type of analysis to perform - dataset, on data from ../gemini_data.csv\n"
     ]
    }
   ],
   "source": [
    "#read analysis configuration\n",
    "conf = analysis.read_config()\n",
    "print(conf\n",
    "print('Type of analysis to perform - {type}, on data from {source}'.format(type=conf.type, source=conf.input))"
   ]
  },
  {
   "cell_type": "code",
   "execution_count": 4,
   "id": "emerging-surprise",
   "metadata": {},
   "outputs": [
    {
     "name": "stderr",
     "output_type": "stream",
     "text": [
      "/mnt/nfs/home/koshkinam/.conda/envs/test_env/lib/python3.8/site-packages/evidently/analyzers/data_drift_analyzer.py:19: RuntimeWarning: invalid value encountered in double_scalars\n",
      "  return (p1 - p2) / np.sqrt(P * (1 - P) * (1. / n1 + 1. / n2))\n"
     ]
    }
   ],
   "source": [
    "# run analysis and generate html report\n",
    "analysis.main(conf)"
   ]
  },
  {
   "cell_type": "code",
   "execution_count": 5,
   "id": "supreme-northeast",
   "metadata": {},
   "outputs": [
    {
     "name": "stdout",
     "output_type": "stream",
     "text": [
      "Namespace(categorical_features=['hospital_id', 'sex', 'mort_hosp', 'readmission_7', 'readmission_28', 'palliative', 'icd10_A00_B99', 'icd10_C00_D49', 'icd10_D50_D89', 'icd10_E00_E89', 'icd10_F01_F99', 'icd10_G00_G99', 'icd10_H00_H59', 'icd10_H60_H95', 'icd10_I00_I99', 'icd10_J00_J99', 'icd10_K00_K95', 'icd10_L00_L99', 'icd10_M00_M99', 'icd10_N00_N99', 'icd10_O00_O99', 'icd10_Q00_Q99', 'icd10_R00_R99', 'icd10_S00_T88', 'icd10_U07_U08', 'icd10_Z00_Z99', 'los'], config_file='gemini_analysis.conf', data_eval=[2016], data_ref=[2015], input='../gemini_data.csv', numerical_features=['age', 'los_er'], prediction='prediction', reference='../gemini_val_result.csv', report_path='../', slice='year', target='los', target_num=False, test='../gemini_test_result.csv', type='dataset')\n"
     ]
    }
   ],
   "source": [
    "print(conf)"
   ]
  },
  {
   "cell_type": "code",
   "execution_count": 6,
   "id": "reliable-infection",
   "metadata": {},
   "outputs": [],
   "source": [
    "# run analysis and generate html report (this time model performance comparison)\n",
    "conf.type = 'performance'\n",
    "analysis.main(conf)"
   ]
  },
  {
   "cell_type": "code",
   "execution_count": null,
   "id": "controversial-plastic",
   "metadata": {},
   "outputs": [],
   "source": []
  }
 ],
 "metadata": {
  "kernelspec": {
   "display_name": "MK Env",
   "language": "python",
   "name": "mkenv"
  },
  "language_info": {
   "codemirror_mode": {
    "name": "ipython",
    "version": 3
   },
   "file_extension": ".py",
   "mimetype": "text/x-python",
   "name": "python",
   "nbconvert_exporter": "python",
   "pygments_lexer": "ipython3",
   "version": "3.8.12"
  }
 },
 "nbformat": 4,
 "nbformat_minor": 5
}
