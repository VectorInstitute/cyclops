{
 "cells": [
  {
   "cell_type": "markdown",
   "metadata": {},
   "source": [
    "# Mortality Prediction\n",
    "\n",
    "This notebook showcases mortality prediction on the [MIMICIV](https://physionet.org/content/mimiciv/2.0) dataset using CyclOps. The task is formulated as a binary classification task, whether the patient will die within the next N days. The prediction can be made after M number of days after admission. For example, if N = 14 and M = 1, we are predicting risk of patient mortality within 14 days of admission after considering 24 hours of data after admission."
   ]
  },
  {
   "cell_type": "markdown",
   "metadata": {},
   "source": [
    "## Import Libraries"
   ]
  },
  {
   "cell_type": "code",
   "execution_count": null,
   "metadata": {},
   "outputs": [],
   "source": [
    "\"\"\"Mortality Prediction.\"\"\"\n",
    "\n",
    "import copy\n",
    "import shutil\n",
    "from datetime import date\n",
    "\n",
    "import cycquery.ops as qo\n",
    "import numpy as np\n",
    "import pandas as pd\n",
    "import plotly.express as px\n",
    "import plotly.graph_objects as go\n",
    "from cycquery import MIMICIVQuerier\n",
    "from datasets import Dataset\n",
    "from datasets.features import ClassLabel\n",
    "from imblearn.over_sampling import SMOTE\n",
    "from imblearn.pipeline import Pipeline as ImbPipeline\n",
    "from sklearn.compose import ColumnTransformer\n",
    "from sklearn.impute import SimpleImputer\n",
    "from sklearn.pipeline import Pipeline\n",
    "from sklearn.preprocessing import MinMaxScaler, OneHotEncoder\n",
    "\n",
    "from cyclops.data.aggregate import RESTRICT_TIMESTAMP, Aggregator\n",
    "from cyclops.data.clean import normalize_names\n",
    "from cyclops.data.df.feature import TabularFeatures\n",
    "from cyclops.data.slicer import SliceSpec\n",
    "from cyclops.evaluate.fairness import FairnessConfig  # noqa: E402\n",
    "from cyclops.evaluate.metrics import MetricCollection, create_metric\n",
    "from cyclops.models.catalog import create_model\n",
    "from cyclops.report import ModelCardReport\n",
    "from cyclops.report.plot.classification import ClassificationPlotter\n",
    "from cyclops.report.utils import flatten_results_dict\n",
    "from cyclops.tasks import BinaryTabularClassificationTask\n",
    "from cyclops.utils.common import add_years_approximate"
   ]
  },
  {
   "cell_type": "markdown",
   "metadata": {},
   "source": [
    "CyclOps offers a package for documentation of the model through a model report. The `ModelCardReport` class is used to populate and generate the model report as an HTML file. The model report has the following sections:\n",
    "\n",
    "- Overview: Provides a high level overview of how the model is doing (a quick glance of important metrics), and how it is doing over time (performance over several metrics and subgroups over time).\n",
    "- Datasets: High level statistics of the training data, including changes in distribution over time.\n",
    "- Quantitative Analysis: This section contains additional detailed performance metrics of the model for different sets of the data and subpopulations.\n",
    "- Fairness Analysis: This section contains the fairness metrics of the model.\n",
    "- Model Details: This section contains descriptive metadata about the model such as the owners, version, license, etc.\n",
    "- Model Parameters: This section contains the technical details of the model such as the model architecture, training parameters, etc.\n",
    "- Considerations: This section contains descriptions of the considerations involved in developing and using the model such as the intended use, limitations, etc.\n",
    "\n",
    "We will use this to document the model development process as we go along and generate the model report at the end.\n",
    "\n",
    "`The model report tool is a work in progress and is subject to change.`"
   ]
  },
  {
   "cell_type": "code",
   "execution_count": null,
   "metadata": {},
   "outputs": [],
   "source": [
    "report = ModelCardReport()"
   ]
  },
  {
   "cell_type": "markdown",
   "metadata": {},
   "source": [
    "## Constants"
   ]
  },
  {
   "cell_type": "code",
   "execution_count": null,
   "metadata": {},
   "outputs": [],
   "source": [
    "M = 1\n",
    "N = 14\n",
    "NAN_THRESHOLD = 0.25\n",
    "TRAIN_SIZE = 0.8\n",
    "RANDOM_SEED = 12"
   ]
  },
  {
   "cell_type": "markdown",
   "metadata": {},
   "source": [
    "## Data Querying & Processing\n",
    "\n",
    "### Compute mortality (labels)\n",
    "\n",
    "1. Get encounters\n",
    "2. Filter out encounters less than M days\n",
    "3. Set label = 1 for encounters where deathtime is within N days after admission\n",
    "4. Get lab events\n",
    "5. Aggregate them by computing mean, merge with encounter data"
   ]
  },
  {
   "cell_type": "code",
   "execution_count": null,
   "metadata": {},
   "outputs": [],
   "source": [
    "querier = MIMICIVQuerier(\n",
    "    dbms=\"postgresql\",\n",
    "    port=5432,\n",
    "    host=\"localhost\",\n",
    "    database=\"mimiciv-2.0\",\n",
    "    user=\"postgres\",\n",
    "    password=\"pwd\",\n",
    ")\n",
    "\n",
    "\n",
    "def get_encounters():\n",
    "    \"\"\"Get encounters data.\"\"\"\n",
    "    patients = querier.patients()\n",
    "    encounters = querier.mimiciv_hosp.admissions()\n",
    "    drop_op = qo.Drop(\n",
    "        [\"insurance\", \"language\", \"marital_status\", \"edregtime\", \"edouttime\"],\n",
    "    )\n",
    "    encounters = encounters.ops(drop_op)\n",
    "    patient_encounters = patients.join(encounters, on=\"subject_id\")\n",
    "    patient_encounters = patient_encounters.run()\n",
    "    patient_encounters[\"age\"] = (\n",
    "        patient_encounters[\"admittime\"].dt.year\n",
    "        - patient_encounters[\"anchor_year\"]\n",
    "        + patient_encounters[\"anchor_age\"]\n",
    "    )\n",
    "    for col in [\"admittime\", \"dischtime\", \"deathtime\"]:\n",
    "        patient_encounters[col] = add_years_approximate(\n",
    "            patient_encounters[col],\n",
    "            patient_encounters[\"anchor_year_difference\"],\n",
    "        )\n",
    "\n",
    "    return patient_encounters[\n",
    "        [\n",
    "            \"hadm_id\",\n",
    "            \"admittime\",\n",
    "            \"dischtime\",\n",
    "            \"deathtime\",\n",
    "            \"anchor_age\",\n",
    "            \"age\",\n",
    "            \"gender\",\n",
    "            \"anchor_year_difference\",\n",
    "            \"admission_location\",\n",
    "            \"hospital_expire_flag\",\n",
    "        ]\n",
    "    ]\n",
    "\n",
    "\n",
    "def compute_mortality_outcome(patient_encounters):\n",
    "    \"\"\"Compute mortality outcome.\"\"\"\n",
    "    # Drop encounters ending in death which don't have a death timestamp\n",
    "    invalid = (patient_encounters[\"hospital_expire_flag\"] == 1) & (\n",
    "        patient_encounters[\"deathtime\"].isna()\n",
    "    )\n",
    "    patient_encounters = patient_encounters[~invalid]\n",
    "    print(f\"Encounters with death flag but no death timestamp: {invalid.sum()}\")\n",
    "    # Drop encounters which are shorter than M days\n",
    "    invalid = (\n",
    "        patient_encounters[\"dischtime\"] - patient_encounters[\"admittime\"]\n",
    "    ).dt.days < M\n",
    "    patient_encounters = patient_encounters[~invalid]\n",
    "    print(f\"Encounters shorter than {M} days: {invalid.sum()}\")\n",
    "    # Death timestamp is within (<=) N days of admission\n",
    "    valid = (\n",
    "        patient_encounters[\"deathtime\"] - patient_encounters[\"admittime\"]\n",
    "    ).dt.days <= N\n",
    "    print(f\"Encounters with death timestamp within {N} days: {valid.sum()}\")\n",
    "    # (Died in hospital) & (Death timestamp is defined)\n",
    "    patient_encounters[\"mortality_outcome\"] = 0\n",
    "    patient_encounters[\"mortality_outcome\"][valid] = 1\n",
    "    print(\n",
    "        f\"Encounters with mortality outcome for the model: {patient_encounters['mortality_outcome'].sum()}\",\n",
    "    )\n",
    "\n",
    "    return patient_encounters\n",
    "\n",
    "\n",
    "def get_labevents(patient_encounters):\n",
    "    \"\"\"Get labevents data.\"\"\"\n",
    "    labevents = querier.labevents().run(index_col=\"hadm_id\", batch_mode=True)\n",
    "\n",
    "    def process_labevents(labevents, patient_encounters):\n",
    "        \"\"\"Process labevents before aggregation.\"\"\"\n",
    "        # Reverse deidentified dating\n",
    "        labevents = pd.merge(\n",
    "            patient_encounters[\n",
    "                [\n",
    "                    \"hadm_id\",\n",
    "                    \"anchor_year_difference\",\n",
    "                ]\n",
    "            ],\n",
    "            labevents,\n",
    "            on=\"hadm_id\",\n",
    "        )\n",
    "        labevents[\"charttime\"] = add_years_approximate(\n",
    "            labevents[\"charttime\"],\n",
    "            labevents[\"anchor_year_difference\"],\n",
    "        )\n",
    "        labevents = labevents.drop(\"anchor_year_difference\", axis=1)\n",
    "        # Pre-processing\n",
    "        labevents[\"label\"] = normalize_names(labevents[\"label\"])\n",
    "        labevents[\"category\"] = normalize_names(labevents[\"category\"])\n",
    "\n",
    "        return labevents\n",
    "\n",
    "    start_timestamps = (\n",
    "        patient_encounters[[\"hadm_id\", \"admittime\"]]\n",
    "        .set_index(\"hadm_id\")\n",
    "        .rename({\"admittime\": RESTRICT_TIMESTAMP}, axis=1)\n",
    "    )\n",
    "    mean_aggregator = Aggregator(\n",
    "        aggfuncs={\n",
    "            \"valuenum\": \"mean\",\n",
    "        },\n",
    "        window_duration=M * 24,\n",
    "        timestamp_col=\"charttime\",\n",
    "        time_by=\"hadm_id\",\n",
    "        agg_by=[\"hadm_id\", \"label\"],\n",
    "    )\n",
    "    means_df = pd.DataFrame()\n",
    "    for batch_num, labevents_batch in enumerate(labevents):\n",
    "        labevents_batch = process_labevents(  # noqa: PLW2901\n",
    "            labevents_batch,\n",
    "            patient_encounters,\n",
    "        )\n",
    "        means = mean_aggregator.aggregate_values(\n",
    "            labevents_batch,\n",
    "            window_start_time=start_timestamps,\n",
    "        )\n",
    "        means = means.reset_index()\n",
    "        means = means.pivot(index=\"hadm_id\", columns=\"label\", values=\"valuenum\")\n",
    "        means = means.add_prefix(\"lab_\")\n",
    "        means = pd.merge(\n",
    "            patient_encounters[\n",
    "                [\n",
    "                    \"hadm_id\",\n",
    "                    \"mortality_outcome\",\n",
    "                    \"age\",\n",
    "                    \"gender\",\n",
    "                    \"admission_location\",\n",
    "                ]\n",
    "            ],\n",
    "            means,\n",
    "            on=\"hadm_id\",\n",
    "        )\n",
    "        means_df = pd.concat([means_df, means])\n",
    "        if batch_num == 2:\n",
    "            break\n",
    "        print(\"Processing batch {}\".format(batch_num + 1))\n",
    "\n",
    "    return means_df\n",
    "\n",
    "\n",
    "def run_query():\n",
    "    \"\"\"Run query.\"\"\"\n",
    "    cohort = get_encounters()\n",
    "    cohort = compute_mortality_outcome(cohort)\n",
    "\n",
    "    return get_labevents(cohort)\n",
    "\n",
    "\n",
    "cohort = run_query()"
   ]
  },
  {
   "cell_type": "markdown",
   "metadata": {},
   "source": [
    "## Data Inspection and Preprocessing\n",
    "\n",
    "### Drop NaNs based on the `NAN_THRESHOLD`"
   ]
  },
  {
   "cell_type": "code",
   "execution_count": null,
   "metadata": {},
   "outputs": [],
   "source": [
    "null_counts = cohort.isnull().sum()[cohort.isnull().sum() > 0]\n",
    "fig = go.Figure(data=[go.Bar(x=null_counts.index, y=null_counts.values)])\n",
    "\n",
    "fig.update_layout(\n",
    "    title=\"Number of Null Values per Column\",\n",
    "    xaxis_title=\"Columns\",\n",
    "    yaxis_title=\"Number of Null Values\",\n",
    "    height=600,\n",
    ")\n",
    "\n",
    "fig.show()"
   ]
  },
  {
   "cell_type": "markdown",
   "metadata": {},
   "source": [
    "**Add the figure to the report**\n",
    "\n",
    "We can use the log_plotly_figure method to add the figure to a section of the report. One can specify whether the figure should be interactive or not by setting the `interactive` parameter to `True` or `False` respectively. The default value is `True`. This\n",
    "also affects the final size of the report. If the figure is interactive, the size of the report will be larger than if the figure is not interactive. "
   ]
  },
  {
   "cell_type": "code",
   "execution_count": null,
   "metadata": {},
   "outputs": [],
   "source": [
    "report.log_plotly_figure(\n",
    "    fig=fig,\n",
    "    caption=\"Number of Null Values per Column\",\n",
    "    section_name=\"datasets\",\n",
    "    interactive=True,\n",
    ")"
   ]
  },
  {
   "cell_type": "code",
   "execution_count": null,
   "metadata": {},
   "outputs": [],
   "source": [
    "thresh_nan = int(NAN_THRESHOLD * len(cohort))\n",
    "cohort = cohort.dropna(axis=1, thresh=thresh_nan)"
   ]
  },
  {
   "cell_type": "markdown",
   "metadata": {},
   "source": [
    "### Outcome distribution"
   ]
  },
  {
   "cell_type": "code",
   "execution_count": null,
   "metadata": {},
   "outputs": [],
   "source": [
    "cohort[\"mortality_outcome\"] = cohort[\"mortality_outcome\"].astype(\"int\")\n",
    "fig = px.pie(cohort, names=\"mortality_outcome\")\n",
    "fig.update_traces(textinfo=\"percent+label\")\n",
    "fig.update_layout(title_text=\"Outcome Distribution\")\n",
    "fig.update_traces(\n",
    "    hovertemplate=\"Outcome: %{label}<br>Count: \\\n",
    "    %{value}<br>Percent: %{percent}\",\n",
    ")\n",
    "fig.show()"
   ]
  },
  {
   "cell_type": "markdown",
   "metadata": {},
   "source": [
    "**Add the figure to the report**"
   ]
  },
  {
   "cell_type": "code",
   "execution_count": null,
   "metadata": {},
   "outputs": [],
   "source": [
    "report.log_plotly_figure(\n",
    "    fig=fig,\n",
    "    caption=\"Outcome Distribution\",\n",
    "    section_name=\"datasets\",\n",
    ")"
   ]
  },
  {
   "cell_type": "code",
   "execution_count": null,
   "metadata": {},
   "outputs": [],
   "source": [
    "# The data is heavily unbalanced.\n",
    "class_counts = cohort[\"mortality_outcome\"].value_counts()\n",
    "class_ratio = class_counts[0] / class_counts[1]\n",
    "print(class_ratio, class_counts)"
   ]
  },
  {
   "cell_type": "markdown",
   "metadata": {},
   "source": [
    "### Gender distribution"
   ]
  },
  {
   "cell_type": "code",
   "execution_count": null,
   "metadata": {},
   "outputs": [],
   "source": [
    "fig = px.pie(cohort, names=\"gender\")\n",
    "fig.update_layout(\n",
    "    title=\"Gender Distribution\",\n",
    ")\n",
    "fig.show()"
   ]
  },
  {
   "cell_type": "markdown",
   "metadata": {},
   "source": [
    "**Add the figure to the report**"
   ]
  },
  {
   "cell_type": "code",
   "execution_count": null,
   "metadata": {},
   "outputs": [],
   "source": [
    "report.log_plotly_figure(\n",
    "    fig=fig,\n",
    "    caption=\"Gender Distribution\",\n",
    "    section_name=\"datasets\",\n",
    ")"
   ]
  },
  {
   "cell_type": "markdown",
   "metadata": {},
   "source": [
    "###  Age distribution"
   ]
  },
  {
   "cell_type": "code",
   "execution_count": null,
   "metadata": {},
   "outputs": [],
   "source": [
    "fig = px.histogram(cohort, x=\"age\")\n",
    "fig.update_layout(\n",
    "    title=\"Age Distribution\",\n",
    "    xaxis_title=\"Age\",\n",
    "    yaxis_title=\"Count\",\n",
    "    bargap=0.2,\n",
    ")\n",
    "fig.show()"
   ]
  },
  {
   "cell_type": "markdown",
   "metadata": {},
   "source": [
    "**Add the figure to the report**"
   ]
  },
  {
   "cell_type": "code",
   "execution_count": null,
   "metadata": {},
   "outputs": [],
   "source": [
    "report.log_plotly_figure(\n",
    "    fig=fig,\n",
    "    caption=\"Age Distribution\",\n",
    "    section_name=\"datasets\",\n",
    ")"
   ]
  },
  {
   "cell_type": "markdown",
   "metadata": {},
   "source": [
    "### Identifying feature types\n",
    "\n",
    "Cyclops `TabularFeatures` class helps to identify feature types, an essential step before preprocessing the data. Understanding feature types (numerical/categorical/binary) allows us to apply appropriate preprocessing steps for each type."
   ]
  },
  {
   "cell_type": "code",
   "execution_count": null,
   "metadata": {},
   "outputs": [],
   "source": [
    "features_list = set(cohort.columns.tolist()) - {\"hadm_id\", \"mortality_outcome\"}\n",
    "features_list = sorted(features_list)\n",
    "tab_features = TabularFeatures(\n",
    "    data=cohort.reset_index(),\n",
    "    features=features_list,\n",
    "    by=\"hadm_id\",\n",
    "    targets=\"mortality_outcome\",\n",
    ")\n",
    "print(tab_features.types)"
   ]
  },
  {
   "cell_type": "markdown",
   "metadata": {},
   "source": [
    "### Creating data preprocessors\n",
    "\n",
    "We create a data preprocessor using sklearn's ColumnTransformer. This helps in applying different preprocessing steps to different columns in the dataframe. For instance, binary features might be processed differently from numeric features."
   ]
  },
  {
   "cell_type": "code",
   "execution_count": null,
   "metadata": {},
   "outputs": [],
   "source": [
    "numeric_transformer = Pipeline(\n",
    "    steps=[(\"imputer\", SimpleImputer(strategy=\"mean\")), (\"scaler\", MinMaxScaler())],\n",
    ")\n",
    "binary_transformer = Pipeline(\n",
    "    steps=[(\"imputer\", SimpleImputer(strategy=\"most_frequent\"))],\n",
    ")"
   ]
  },
  {
   "cell_type": "code",
   "execution_count": null,
   "metadata": {},
   "outputs": [],
   "source": [
    "numeric_features = sorted((tab_features.features_by_type(\"numeric\")))\n",
    "numeric_indices = [\n",
    "    cohort[features_list].columns.get_loc(column) for column in numeric_features\n",
    "]\n",
    "print(numeric_features)"
   ]
  },
  {
   "cell_type": "code",
   "execution_count": null,
   "metadata": {},
   "outputs": [],
   "source": [
    "binary_features = sorted(tab_features.features_by_type(\"binary\"))\n",
    "ordinal_features = sorted(tab_features.features_by_type(\"ordinal\"))\n",
    "binary_features.remove(\"mortality_outcome\")\n",
    "binary_indices = [\n",
    "    cohort[features_list].columns.get_loc(column) for column in binary_features\n",
    "]\n",
    "ordinal_indices = [\n",
    "    cohort[features_list].columns.get_loc(column) for column in ordinal_features\n",
    "]\n",
    "print(binary_features, ordinal_features)"
   ]
  },
  {
   "cell_type": "code",
   "execution_count": null,
   "metadata": {},
   "outputs": [],
   "source": [
    "preprocessor = ColumnTransformer(\n",
    "    transformers=[\n",
    "        (\"num\", numeric_transformer, numeric_indices),\n",
    "        (\n",
    "            \"onehot\",\n",
    "            OneHotEncoder(handle_unknown=\"ignore\"),\n",
    "            binary_indices + ordinal_indices,\n",
    "        ),\n",
    "    ],\n",
    "    remainder=\"passthrough\",\n",
    ")\n",
    "preprocessor_pipeline = [\n",
    "    (\"preprocessor\", preprocessor),\n",
    "    (\"oversampling\", SMOTE(random_state=RANDOM_SEED)),\n",
    "]\n",
    "preprocessor_pipeline = ImbPipeline(preprocessor_pipeline)"
   ]
  },
  {
   "cell_type": "markdown",
   "metadata": {},
   "source": [
    "## Creating Hugging Face Dataset\n",
    "\n",
    "We convert our processed Pandas dataframe into a Hugging Face dataset, a powerful and easy-to-use data format which is also compatible with CyclOps models and evaluator modules. The dataset is then split to train and test sets."
   ]
  },
  {
   "cell_type": "code",
   "execution_count": null,
   "metadata": {},
   "outputs": [],
   "source": [
    "cohort = cohort.drop(columns=[\"hadm_id\"])\n",
    "dataset = Dataset.from_pandas(cohort)\n",
    "dataset.cleanup_cache_files()"
   ]
  },
  {
   "cell_type": "code",
   "execution_count": null,
   "metadata": {},
   "outputs": [],
   "source": [
    "dataset = dataset.cast_column(\"mortality_outcome\", ClassLabel(num_classes=2))\n",
    "dataset = dataset.train_test_split(\n",
    "    train_size=TRAIN_SIZE,\n",
    "    stratify_by_column=\"mortality_outcome\",\n",
    "    seed=RANDOM_SEED,\n",
    ")"
   ]
  },
  {
   "cell_type": "markdown",
   "metadata": {},
   "source": [
    "## Model Creation\n",
    "\n",
    "CyclOps model registry allows for straightforward creation and selection of models. This registry maintains a list of pre-configured models, which can be instantiated with a single line of code. Here we use a XGBoost classifier to fit a logisitic regression model. The model configurations can be passed to `create_model` based on the parameters for XGBClassifer."
   ]
  },
  {
   "cell_type": "code",
   "execution_count": null,
   "metadata": {},
   "outputs": [],
   "source": [
    "model_name = \"xgb_classifier\"\n",
    "model = create_model(model_name, random_state=123)"
   ]
  },
  {
   "cell_type": "markdown",
   "metadata": {},
   "source": [
    "## Task Creation\n",
    "\n",
    "We use Cyclops tasks to define our model's task (in this case, BinaryTabularClassificationTask), train the model, make predictions, and evaluate performance. Cyclops task classes encapsulate the entire ML pipeline into a single, cohesive structure, making the process smooth and easy to manage."
   ]
  },
  {
   "cell_type": "code",
   "execution_count": null,
   "metadata": {},
   "outputs": [],
   "source": [
    "mortality_task = BinaryTabularClassificationTask(\n",
    "    {model_name: model},\n",
    "    task_features=features_list,\n",
    "    task_target=\"mortality_outcome\",\n",
    ")\n",
    "mortality_task.list_models()"
   ]
  },
  {
   "cell_type": "markdown",
   "metadata": {},
   "source": [
    "## Training\n",
    "\n",
    "If `best_model_params` is passed to the `train` method, the best model will be selected after the hyperparameter search. The parameters in `best_model_params` indicate the values to create the parameters grid.\n",
    "\n",
    "Note that the data preprocessor needs to be passed to the tasks methods if the Hugging Face dataset is not already preprocessed. "
   ]
  },
  {
   "cell_type": "code",
   "execution_count": null,
   "metadata": {},
   "outputs": [],
   "source": [
    "best_model_params = {\n",
    "    \"n_estimators\": [100, 250, 500],\n",
    "    \"learning_rate\": [0.1, 0.01],\n",
    "    \"max_depth\": [2, 5],\n",
    "    \"reg_lambda\": [0, 1, 10],\n",
    "    \"colsample_bytree\": [0.7, 0.8, 1],\n",
    "    \"gamma\": [0, 1, 2, 10],\n",
    "    \"method\": \"random\",\n",
    "}\n",
    "mortality_task.train(\n",
    "    dataset[\"train\"],\n",
    "    model_name=model_name,\n",
    "    transforms=preprocessor_pipeline,\n",
    "    best_model_params=best_model_params,\n",
    ")"
   ]
  },
  {
   "cell_type": "code",
   "execution_count": null,
   "metadata": {},
   "outputs": [],
   "source": [
    "model_params = mortality_task.list_models_params()[model_name]\n",
    "print(model_params)"
   ]
  },
  {
   "cell_type": "markdown",
   "metadata": {},
   "source": [
    "**Log the model parameters to the report.**\n",
    "\n",
    "We can add model parameters to the model card using the `log_model_parameters` method."
   ]
  },
  {
   "cell_type": "code",
   "execution_count": null,
   "metadata": {},
   "outputs": [],
   "source": [
    "report.log_model_parameters(params=model_params)"
   ]
  },
  {
   "cell_type": "markdown",
   "metadata": {},
   "source": [
    "## Prediction\n",
    "\n",
    "The prediction output can be either the whole Hugging Face dataset with the prediction columns added to it or the single column containing the predicted values."
   ]
  },
  {
   "cell_type": "code",
   "execution_count": null,
   "metadata": {},
   "outputs": [],
   "source": [
    "y_pred = mortality_task.predict(\n",
    "    dataset[\"test\"],\n",
    "    model_name=model_name,\n",
    "    transforms=preprocessor,\n",
    "    proba=False,\n",
    "    only_predictions=True,\n",
    ")\n",
    "print(len(y_pred))"
   ]
  },
  {
   "cell_type": "markdown",
   "metadata": {},
   "source": [
    "## Evaluation\n",
    "\n",
    "Evaluation is done using various evaluation metrics that provide different perspectives on the model's predictive abilities i.e. standard performance metrics and fairness metrics.\n",
    "\n",
    "The standard performance metrics can be created using the `MetricCollection` object."
   ]
  },
  {
   "cell_type": "code",
   "execution_count": null,
   "metadata": {},
   "outputs": [],
   "source": [
    "metric_names = [\n",
    "    \"accuracy\",\n",
    "    \"precision\",\n",
    "    \"recall\",\n",
    "    \"f1_score\",\n",
    "    \"auroc\",\n",
    "    \"average_precision\",\n",
    "    \"roc_curve\",\n",
    "    \"precision_recall_curve\",\n",
    "]\n",
    "metrics = [create_metric(metric_name, task=\"binary\") for metric_name in metric_names]\n",
    "metric_collection = MetricCollection(metrics)"
   ]
  },
  {
   "cell_type": "markdown",
   "metadata": {},
   "source": [
    "In addition to overall metrics, it might be interesting to see how the model performs on certain subpopulations. We can define these subpopulations using `SliceSpec` objects. "
   ]
  },
  {
   "cell_type": "code",
   "execution_count": null,
   "metadata": {},
   "outputs": [],
   "source": [
    "spec_list = [\n",
    "    {\n",
    "        \"age\": {\n",
    "            \"min_value\": 20,\n",
    "            \"max_value\": 50,\n",
    "            \"min_inclusive\": True,\n",
    "            \"max_inclusive\": False,\n",
    "        },\n",
    "    },\n",
    "    {\n",
    "        \"age\": {\n",
    "            \"min_value\": 50,\n",
    "            \"max_value\": 80,\n",
    "            \"min_inclusive\": True,\n",
    "            \"max_inclusive\": False,\n",
    "        },\n",
    "    },\n",
    "    {\"gender\": {\"value\": \"M\"}},\n",
    "    {\"gender\": {\"value\": \"F\"}},\n",
    "]\n",
    "slice_spec = SliceSpec(spec_list)"
   ]
  },
  {
   "cell_type": "markdown",
   "metadata": {},
   "source": [
    "A `MetricCollection` can also be defined for the fairness metrics."
   ]
  },
  {
   "cell_type": "code",
   "execution_count": null,
   "metadata": {},
   "outputs": [],
   "source": [
    "specificity = create_metric(\n",
    "    metric_name=\"specificity\",\n",
    "    task=\"binary\",\n",
    ")\n",
    "sensitivity = create_metric(\n",
    "    metric_name=\"sensitivity\",\n",
    "    task=\"binary\",\n",
    ")\n",
    "fpr = 1 - specificity\n",
    "fnr = 1 - sensitivity\n",
    "ber = (fpr + fnr) / 2\n",
    "fairness_metric_collection = MetricCollection(\n",
    "    {\n",
    "        \"Sensitivity\": sensitivity,\n",
    "        \"Specificity\": specificity,\n",
    "        \"BER\": ber,\n",
    "    },\n",
    ")"
   ]
  },
  {
   "cell_type": "markdown",
   "metadata": {},
   "source": [
    "The FairnessConfig helps in setting up and evaluating the fairness of the model predictions."
   ]
  },
  {
   "cell_type": "code",
   "execution_count": null,
   "metadata": {},
   "outputs": [],
   "source": [
    "fairness_config = FairnessConfig(\n",
    "    metrics=fairness_metric_collection,\n",
    "    dataset=None,  # dataset is passed from the evaluator\n",
    "    target_columns=None,  # target columns are passed from the evaluator\n",
    "    groups=[\"gender\", \"age\"],\n",
    "    group_bins={\"age\": [20, 40]},\n",
    "    group_base_values={\"age\": 40, \"gender\": \"M\"},\n",
    "    thresholds=[0.5],\n",
    ")"
   ]
  },
  {
   "cell_type": "markdown",
   "metadata": {},
   "source": [
    "The evaluate methods outputs the evaluation results and the Hugging Face dataset with the predictions added to it."
   ]
  },
  {
   "cell_type": "code",
   "execution_count": null,
   "metadata": {},
   "outputs": [],
   "source": [
    "results, dataset_with_preds = mortality_task.evaluate(\n",
    "    dataset[\"test\"],\n",
    "    metric_collection,\n",
    "    model_names=model_name,\n",
    "    transforms=preprocessor,\n",
    "    prediction_column_prefix=\"preds\",\n",
    "    slice_spec=slice_spec,\n",
    "    batch_size=64,\n",
    "    fairness_config=fairness_config,\n",
    "    override_fairness_metrics=False,\n",
    ")"
   ]
  },
  {
   "cell_type": "markdown",
   "metadata": {},
   "source": [
    "**Log the performance metrics to the report.**\n",
    "\n",
    "We can add a performance metric to the model card using the `log_performance_metric` method, which expects a dictionary where the keys are in the following format: `slice_name/metric_name`. For instance, `overall/accuracy`. \n",
    "\n",
    "We first need to process the evaluation results to get the metrics in the right format."
   ]
  },
  {
   "cell_type": "code",
   "execution_count": null,
   "metadata": {},
   "outputs": [],
   "source": [
    "model_name = f\"model_for_preds.{model_name}\"\n",
    "results_flat = flatten_results_dict(\n",
    "    results=results,\n",
    "    remove_metrics=[\"BinaryROCCurve\", \"BinaryPrecisionRecallCurve\"],\n",
    "    model_name=model_name,\n",
    ")"
   ]
  },
  {
   "cell_type": "code",
   "execution_count": null,
   "metadata": {},
   "outputs": [],
   "source": [
    "# ruff: noqa: W505\n",
    "for name, metric in results_flat.items():\n",
    "    split, name = name.split(\"/\")  # noqa: PLW2901\n",
    "    descriptions = {\n",
    "        \"BinaryPrecision\": \"The proportion of predicted positive instances that are correctly predicted.\",\n",
    "        \"BinaryRecall\": \"The proportion of actual positive instances that are correctly predicted. Also known as recall or true positive rate.\",\n",
    "        \"BinaryAccuracy\": \"The proportion of all instances that are correctly predicted.\",\n",
    "        \"BinaryAUROC\": \"The area under the receiver operating characteristic curve (AUROC) is a measure of the performance of a binary classification model.\",\n",
    "        \"BinaryAveragePrecision\": \"The area under the precision-recall curve (AUPRC) is a measure of the performance of a binary classification model.\",\n",
    "        \"BinaryF1Score\": \"The harmonic mean of precision and recall.\",\n",
    "    }\n",
    "    report.log_quantitative_analysis(\n",
    "        \"performance\",\n",
    "        name=name,\n",
    "        value=metric,\n",
    "        description=descriptions[name],\n",
    "        metric_slice=split,\n",
    "        pass_fail_thresholds=0.7,\n",
    "        pass_fail_threshold_fns=lambda x, threshold: bool(x >= threshold),\n",
    "    )"
   ]
  },
  {
   "cell_type": "markdown",
   "metadata": {},
   "source": [
    "We can also use the `ClassificationPlotter` to plot the performance metrics and the add the figure to the model card using the `log_plotly_figure` method."
   ]
  },
  {
   "cell_type": "code",
   "execution_count": null,
   "metadata": {},
   "outputs": [],
   "source": [
    "plotter = ClassificationPlotter(task_type=\"binary\", class_names=[\"0\", \"1\"])\n",
    "plotter.set_template(\"plotly_white\")"
   ]
  },
  {
   "cell_type": "code",
   "execution_count": null,
   "metadata": {},
   "outputs": [],
   "source": [
    "# extracting the ROC curves and AUROC results for all the slices\n",
    "roc_curves = {\n",
    "    slice_name: slice_results[\"BinaryROCCurve\"]\n",
    "    for slice_name, slice_results in results[model_name].items()\n",
    "}\n",
    "aurocs = {\n",
    "    slice_name: slice_results[\"BinaryAUROC\"]\n",
    "    for slice_name, slice_results in results[model_name].items()\n",
    "}\n",
    "roc_curves.keys()"
   ]
  },
  {
   "cell_type": "code",
   "execution_count": null,
   "metadata": {},
   "outputs": [],
   "source": [
    "# extracting the precision-recall curves and average precision results for all the slices\n",
    "pr_curves = {\n",
    "    slice_name: slice_results[\"BinaryPrecisionRecallCurve\"]\n",
    "    for slice_name, slice_results in results[model_name].items()\n",
    "}\n",
    "average_precisions = {\n",
    "    slice_name: slice_results[\"BinaryAveragePrecision\"]\n",
    "    for slice_name, slice_results in results[model_name].items()\n",
    "}\n",
    "pr_curves.keys()"
   ]
  },
  {
   "cell_type": "code",
   "execution_count": null,
   "metadata": {},
   "outputs": [],
   "source": [
    "# plotting the ROC curves for all the slices\n",
    "roc_plot = plotter.roc_curve_comparison(roc_curves, aurocs=aurocs)\n",
    "report.log_plotly_figure(\n",
    "    fig=roc_plot,\n",
    "    caption=\"ROC Curve Comparison\",\n",
    "    section_name=\"quantitative analysis\",\n",
    ")\n",
    "roc_plot.show()"
   ]
  },
  {
   "cell_type": "code",
   "execution_count": null,
   "metadata": {},
   "outputs": [],
   "source": [
    "# plotting the precision-recall curves for all the slices\n",
    "pr_plot = plotter.precision_recall_curve_comparison(\n",
    "    pr_curves,\n",
    "    auprcs=average_precisions,\n",
    ")\n",
    "report.log_plotly_figure(\n",
    "    fig=pr_plot,\n",
    "    caption=\"Precision-Recall Curve Comparison\",\n",
    "    section_name=\"quantitative analysis\",\n",
    ")\n",
    "pr_plot.show()"
   ]
  },
  {
   "cell_type": "code",
   "execution_count": null,
   "metadata": {},
   "outputs": [],
   "source": [
    "# Extracting the overall classification metric values.\n",
    "overall_performance = {\n",
    "    metric_name: metric_value\n",
    "    for metric_name, metric_value in results[model_name][\"overall\"].items()\n",
    "    if metric_name not in [\"BinaryROCCurve\", \"BinaryPrecisionRecallCurve\"]\n",
    "}"
   ]
  },
  {
   "cell_type": "code",
   "execution_count": null,
   "metadata": {},
   "outputs": [],
   "source": [
    "# Plotting the overall classification metric values.\n",
    "overall_performance_plot = plotter.metrics_value(\n",
    "    overall_performance,\n",
    "    title=\"Overall Performance\",\n",
    ")\n",
    "report.log_plotly_figure(\n",
    "    fig=overall_performance_plot,\n",
    "    caption=\"Overall Performance\",\n",
    "    section_name=\"quantitative analysis\",\n",
    ")\n",
    "overall_performance_plot.show()"
   ]
  },
  {
   "cell_type": "code",
   "execution_count": null,
   "metadata": {},
   "outputs": [],
   "source": [
    "# Extracting the metric values for all the slices.\n",
    "slice_metrics = {\n",
    "    slice_name: {\n",
    "        metric_name: metric_value\n",
    "        for metric_name, metric_value in slice_results.items()\n",
    "        if metric_name not in [\"BinaryROCCurve\", \"BinaryPrecisionRecallCurve\"]\n",
    "    }\n",
    "    for slice_name, slice_results in results[model_name].items()\n",
    "}"
   ]
  },
  {
   "cell_type": "code",
   "execution_count": null,
   "metadata": {},
   "outputs": [],
   "source": [
    "# Plotting the metric values for all the slices.\n",
    "slice_metrics_plot = plotter.metrics_comparison_bar(slice_metrics)\n",
    "report.log_plotly_figure(\n",
    "    fig=slice_metrics_plot,\n",
    "    caption=\"Slice Metric Comparison\",\n",
    "    section_name=\"quantitative analysis\",\n",
    ")\n",
    "slice_metrics_plot.show()"
   ]
  },
  {
   "cell_type": "code",
   "execution_count": null,
   "metadata": {},
   "outputs": [],
   "source": [
    "# Reformating the fairness metrics\n",
    "fairness_results = copy.deepcopy(results[\"fairness\"])\n",
    "fairness_metrics = {}\n",
    "# remove the group size from the fairness results and add it to the slice name\n",
    "for slice_name, slice_results in fairness_results.items():\n",
    "    group_size = slice_results.pop(\"Group Size\")\n",
    "    fairness_metrics[f\"{slice_name} (Size={group_size})\"] = slice_results"
   ]
  },
  {
   "cell_type": "code",
   "execution_count": null,
   "metadata": {},
   "outputs": [],
   "source": [
    "# Plotting the fairness metrics\n",
    "fairness_plot = plotter.metrics_comparison_scatter(\n",
    "    fairness_metrics,\n",
    "    title=\"Fairness Metrics\",\n",
    ")\n",
    "report.log_plotly_figure(\n",
    "    fig=fairness_plot,\n",
    "    caption=\"Fairness Metrics\",\n",
    "    section_name=\"fairness analysis\",\n",
    ")\n",
    "fairness_plot.show()"
   ]
  },
  {
   "cell_type": "markdown",
   "metadata": {},
   "source": [
    "## Report Generation\n",
    "\n",
    "Before generating the model card, let us document some of the details of the model and some considerations involved in developing and using the model.\n",
    "\n",
    "\n",
    "Let's start with populating the model details section, which includes the following fields by default:\n",
    "- description: A high-level description of the model and its usage for a general audience.\n",
    "- version: The version of the model.\n",
    "- owners: The individuals or organizations that own the model.\n",
    "- license: The license under which the model is made available.\n",
    "- citation: The citation for the model.\n",
    "- references: Links to resources that are relevant to the model.\n",
    "- path: The path to where the model is stored.\n",
    "- regulatory_requirements: The regulatory requirements that are relevant to the model.\n",
    "\n",
    "We can add additional fields to the model details section by passing a dictionary to the `log_from_dict` method and specifying the section name as `model_details`. You can also use the `log_descriptor` method to add a new field object with a `description` attribute to any section of the model card."
   ]
  },
  {
   "cell_type": "code",
   "execution_count": null,
   "metadata": {},
   "outputs": [],
   "source": [
    "report.log_from_dict(\n",
    "    data={\n",
    "        \"name\": \"Mortality Prediction Model\",\n",
    "        \"description\": \"The model was trained on the MIMICIV dataset \\\n",
    "            to predict risk of in-hospital mortality.\",\n",
    "    },\n",
    "    section_name=\"model_details\",\n",
    ")\n",
    "report.log_version(\n",
    "    version_str=\"0.0.1\",\n",
    "    date=str(date.today()),\n",
    "    description=\"Initial Release\",\n",
    ")\n",
    "report.log_owner(\n",
    "    name=\"CyclOps Team\",\n",
    "    contact=\"vectorinstitute.github.io/cyclops/\",\n",
    "    email=\"cyclops@vectorinstitute.ai\",\n",
    ")\n",
    "report.log_license(identifier=\"Apache-2.0\")\n",
    "report.log_reference(\n",
    "    link=\"https://xgboost.readthedocs.io/en/stable/python/python_api.html\",  # noqa: E501\n",
    ")"
   ]
  },
  {
   "cell_type": "markdown",
   "metadata": {},
   "source": [
    "Next, let's populate the considerations section, which includes the following fields by default:\n",
    "- users: The intended users of the model.\n",
    "- use_cases: The use cases for the model. These could be primary, downstream or out-of-scope use cases.\n",
    "- fairness_assessment: A description of the benefits and harms of the model for different groups as well as the steps taken to mitigate the harms.\n",
    "- ethical_considerations: The risks associated with using the model and the steps taken to mitigate them. This can be populated using the  `log_risk` method.\n",
    "\n"
   ]
  },
  {
   "cell_type": "code",
   "execution_count": null,
   "metadata": {},
   "outputs": [],
   "source": [
    "report.log_from_dict(\n",
    "    data={\n",
    "        \"users\": [\n",
    "            {\"description\": \"Hospitals\"},\n",
    "            {\"description\": \"Clinicians\"},\n",
    "        ],\n",
    "    },\n",
    "    section_name=\"considerations\",\n",
    ")\n",
    "report.log_user(description=\"ML Engineers\")\n",
    "report.log_use_case(\n",
    "    description=\"Predicting prolonged length of stay\",\n",
    "    kind=\"primary\",\n",
    ")\n",
    "report.log_fairness_assessment(\n",
    "    affected_group=\"sex, age\",\n",
    "    benefit=\"Improved health outcomes for patients.\",\n",
    "    harm=\"Biased predictions for patients in certain groups (e.g. older patients) \\\n",
    "        may lead to worse health outcomes.\",\n",
    "    mitigation_strategy=\"We will monitor the performance of the model on these groups \\\n",
    "        and retrain the model if the performance drops below a certain threshold.\",\n",
    ")\n",
    "report.log_risk(\n",
    "    risk=\"The model may be used to make decisions that affect the health of patients.\",\n",
    "    mitigation_strategy=\"The model should be continuously monitored for performance \\\n",
    "        and retrained if the performance drops below a certain threshold.\",\n",
    ")"
   ]
  },
  {
   "cell_type": "markdown",
   "metadata": {},
   "source": [
    "Once the model card is populated, you can generate the report using the `export` method. The report is generated in the form of an HTML file. A JSON file containing the model card data will also be generated along with the HTML file. By default, the files will be saved in a folder named `cyclops_reports` in the current working directory. You can change the path by passing a `output_dir` argument when instantiating the `ModelCardReport` class."
   ]
  },
  {
   "cell_type": "code",
   "execution_count": null,
   "metadata": {},
   "outputs": [],
   "source": [
    "synthetic_timestamps = [\n",
    "    \"2021-09-01\",\n",
    "    \"2021-10-01\",\n",
    "    \"2021-11-01\",\n",
    "    \"2021-12-01\",\n",
    "    \"2022-01-01\",\n",
    "]\n",
    "report._model_card.overview = None\n",
    "report_path = report.export(\n",
    "    output_filename=\"mortality_report_periodic.html\",\n",
    "    synthetic_timestamp=synthetic_timestamps[0],\n",
    ")\n",
    "shutil.copy(f\"{report_path}\", \".\")\n",
    "for i in range(4):\n",
    "    report._model_card.overview = None\n",
    "    for metric in report._model_card.quantitative_analysis.performance_metrics:\n",
    "        metric.value = np.clip(\n",
    "            metric.value + np.random.normal(0, 0.1),\n",
    "            0,\n",
    "            1,\n",
    "        )\n",
    "        metric.tests[0].passed = bool(metric.value >= 0.7)\n",
    "    report_path = report.export(\n",
    "        output_filename=\"mortality_report_periodic.html\",\n",
    "        synthetic_timestamp=synthetic_timestamps[i + 1],\n",
    "    )\n",
    "    shutil.copy(f\"{report_path}\", \".\")\n",
    "shutil.rmtree(\"./cyclops_reports\")"
   ]
  },
  {
   "cell_type": "markdown",
   "metadata": {},
   "source": [
    "You can view the generated HTML [report](./mortality_report_periodic.html)."
   ]
  }
 ],
 "metadata": {
  "kernelspec": {
   "display_name": "Python 3 (ipykernel)",
   "language": "python",
   "name": "python3"
  },
  "language_info": {
   "codemirror_mode": {
    "name": "ipython",
    "version": 3
   },
   "file_extension": ".py",
   "mimetype": "text/x-python",
   "name": "python",
   "nbconvert_exporter": "python",
   "pygments_lexer": "ipython3",
   "version": "3.10.12"
  }
 },
 "nbformat": 4,
 "nbformat_minor": 4
}
