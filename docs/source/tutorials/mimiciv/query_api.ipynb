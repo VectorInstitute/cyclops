{
 "cells": [
  {
   "cell_type": "markdown",
   "id": "e337389b-1cfe-4796-a846-b4e1ba5690d6",
   "metadata": {},
   "source": [
    "# MIMIC-IV query API tutorial"
   ]
  },
  {
   "cell_type": "markdown",
   "id": "1efffc64",
   "metadata": {},
   "source": [
    "This notebook shows examples of how to use the cyclops.query API on [MIMIC-IV v2.0](https://physionet.org/content/mimiciv/2.0/).\n",
    "\n",
    "* First, setup the MIMIC-IV database according to the instructions in [mimic-code](https://github.com/MIT-LCP/mimic-code/tree/main/mimic-iv/buildmimic/postgres).\n",
    "* The database is assumed to be hosted using postgres. Update the config parameters such as username and password, passed to `MIMICIVQuerier` accordingly."
   ]
  },
  {
   "cell_type": "markdown",
   "id": "12c18656-7f16-4230-85d0-944563d6a13e",
   "metadata": {},
   "source": [
    "## Imports and instantiate `MIMICIVQuerier`"
   ]
  },
  {
   "cell_type": "code",
   "execution_count": 1,
   "id": "53009e6b",
   "metadata": {},
   "outputs": [
    {
     "name": "stderr",
     "output_type": "stream",
     "text": [
      "2023-01-16 12:34:11,469 \u001b[1;37mINFO\u001b[0m cyclops.query.orm - Database setup, ready to run queries!\n"
     ]
    }
   ],
   "source": [
    "from cyclops.query import MIMICIVQuerier\n",
    "from cyclops.query.ops import ConditionRegexMatch, ConditionStartsWith\n",
    "\n",
    "mimic = MIMICIVQuerier(\n",
    "    dbms=\"postgresql\",\n",
    "    port=5432,\n",
    "    host=\"localhost\",\n",
    "    database=\"mimiciv-2.0\",\n",
    "    user=\"postgres\",\n",
    "    password=\"pwd\",\n",
    ")"
   ]
  },
  {
   "cell_type": "markdown",
   "id": "7b6214f8",
   "metadata": {
    "tags": []
   },
   "source": [
    "## Example 1. Get all patient encounters from 2015 (approximate year of care)."
   ]
  },
  {
   "cell_type": "code",
   "execution_count": 2,
   "id": "cdfadaa4-6fd6-4fd7-85cf-e012aa0799e1",
   "metadata": {},
   "outputs": [
    {
     "name": "stderr",
     "output_type": "stream",
     "text": [
      "2023-01-16 12:34:12,619 \u001b[1;37mINFO\u001b[0m cyclops.query.orm - Query returned successfully!\n",
      "2023-01-16 12:34:12,620 \u001b[1;37mINFO\u001b[0m cyclops.utils.profile - Finished executing function run_query in 1.107362 s\n"
     ]
    },
    {
     "name": "stdout",
     "output_type": "stream",
     "text": [
      "69460 rows extracted!\n"
     ]
    }
   ],
   "source": [
    "encounters = mimic.patient_encounters(years=2015)\n",
    "encounters.run()\n",
    "print(f\"{len(encounters.data)} rows extracted!\")"
   ]
  },
  {
   "cell_type": "markdown",
   "id": "80d9f06e",
   "metadata": {},
   "source": [
    "## Example 2. Get all patient encounters with diagnoses (`schizophrenia` in ICD long title), in the year 2015."
   ]
  },
  {
   "cell_type": "code",
   "execution_count": 3,
   "id": "a89a9cf0",
   "metadata": {},
   "outputs": [
    {
     "name": "stderr",
     "output_type": "stream",
     "text": [
      "2023-01-16 12:34:13,405 \u001b[1;37mINFO\u001b[0m cyclops.query.orm - Query returned successfully!\n",
      "2023-01-16 12:34:13,406 \u001b[1;37mINFO\u001b[0m cyclops.utils.profile - Finished executing function run_query in 0.756868 s\n"
     ]
    },
    {
     "name": "stdout",
     "output_type": "stream",
     "text": [
      "4731 rows extracted!\n"
     ]
    },
    {
     "data": {
      "text/plain": [
       "Unspecified schizophrenia, unspecified                                     1511\n",
       "Schizophrenia, unspecified                                                 1431\n",
       "Paranoid type schizophrenia, unspecified                                    527\n",
       "Paranoid schizophrenia                                                      381\n",
       "Paranoid type schizophrenia, chronic                                        279\n",
       "Paranoid type schizophrenia, chronic with acute exacerbation                174\n",
       "Unspecified schizophrenia, chronic                                           77\n",
       "Catatonic schizophrenia                                                      68\n",
       "Other specified types of schizophrenia, unspecified                          43\n",
       "Catatonic type schizophrenia, unspecified                                    37\n",
       "Other schizophrenia                                                          33\n",
       "Disorganized type schizophrenia, chronic with acute exacerbation             20\n",
       "Catatonic type schizophrenia, chronic with acute exacerbation                19\n",
       "Disorganized type schizophrenia, unspecified                                 19\n",
       "Unspecified schizophrenia, chronic with acute exacerbation                   18\n",
       "Other specified types of schizophrenia, chronic with acute exacerbation      15\n",
       "Personal history of schizophrenia                                            13\n",
       "Paranoid type schizophrenia, subchronic with acute exacerbation              12\n",
       "Disorganized schizophrenia                                                   11\n",
       "Disorganized type schizophrenia, chronic                                      9\n",
       "Catatonic type schizophrenia, chronic                                         7\n",
       "Residual schizophrenia                                                        6\n",
       "Catatonic type schizophrenia, subchronic with acute exacerbation              4\n",
       "Other specified types of schizophrenia, chronic                               3\n",
       "Paranoid type schizophrenia, subchronic                                       3\n",
       "Simple type schizophrenia, unspecified                                        2\n",
       "Disorganized type schizophrenia, subchronic with acute exacerbation           2\n",
       "Simple type schizophrenia, chronic                                            2\n",
       "Unspecified schizophrenia, in remission                                       2\n",
       "Latent schizophrenia, unspecified                                             2\n",
       "Undifferentiated schizophrenia                                                1\n",
       "Name: diagnosis_title, dtype: int64"
      ]
     },
     "execution_count": 3,
     "metadata": {},
     "output_type": "execute_result"
    }
   ],
   "source": [
    "encounters = mimic.patient_encounters(years=[2015])\n",
    "encounters_schizophrenia = mimic.patient_diagnoses(\n",
    "    diagnosis_substring=\"schizophrenia\", patients=encounters\n",
    ")\n",
    "encounters_schizophrenia.run()\n",
    "print(f\"{len(encounters_schizophrenia.data)} rows extracted!\")\n",
    "encounters_schizophrenia.data[\"diagnosis_title\"].value_counts()"
   ]
  },
  {
   "cell_type": "markdown",
   "id": "e2baea54",
   "metadata": {},
   "source": [
    "## Example 3. Advanced - uses `ConditionRegexMatch` from `cyclops.query.ops`. Get all patient encounters with diagnoses (ICD long title contains `schizophrenia` and `chronic` ), in the year 2015."
   ]
  },
  {
   "cell_type": "code",
   "execution_count": 4,
   "id": "03936cee",
   "metadata": {},
   "outputs": [
    {
     "name": "stderr",
     "output_type": "stream",
     "text": [
      "2023-01-16 12:34:14,681 \u001b[1;37mINFO\u001b[0m cyclops.query.orm - Query returned successfully!\n",
      "2023-01-16 12:34:14,682 \u001b[1;37mINFO\u001b[0m cyclops.utils.profile - Finished executing function run_query in 1.248306 s\n"
     ]
    },
    {
     "name": "stdout",
     "output_type": "stream",
     "text": [
      "644 rows extracted!\n"
     ]
    }
   ],
   "source": [
    "encounters = mimic.patient_encounters(years=[2015])\n",
    "diagnoses = mimic.patient_diagnoses(patients=encounters)\n",
    "patients_schizophrenia_chronic = ConditionRegexMatch(\n",
    "    \"diagnosis_title\", r\"(?=.*schizophrenia)(?=.*chronic)\"\n",
    ")(diagnoses.query)\n",
    "data = mimic.get_interface(patients_schizophrenia_chronic).run()\n",
    "print(f\"{len(data)} rows extracted!\")"
   ]
  },
  {
   "cell_type": "markdown",
   "id": "88e7bf6d",
   "metadata": {},
   "source": [
    "## Example 4. Advanced - uses `ConditionStartsWith` from cyclops.query.ops. Get all patient encounters with diagnoses (starts with `Paranoid` in ICD long title), in the year 2015."
   ]
  },
  {
   "cell_type": "code",
   "execution_count": 5,
   "id": "f3f05615",
   "metadata": {},
   "outputs": [
    {
     "name": "stderr",
     "output_type": "stream",
     "text": [
      "2023-01-16 12:34:24,056 \u001b[1;37mINFO\u001b[0m cyclops.query.orm - Query returned successfully!\n",
      "2023-01-16 12:34:24,057 \u001b[1;37mINFO\u001b[0m cyclops.utils.profile - Finished executing function run_query in 9.342424 s\n"
     ]
    },
    {
     "name": "stdout",
     "output_type": "stream",
     "text": [
      "1429 rows extracted!\n"
     ]
    }
   ],
   "source": [
    "encounters = mimic.patient_encounters(years=[2015])\n",
    "diagnoses = mimic.patient_diagnoses(patients=encounters)\n",
    "patients_paranoia = ConditionStartsWith(\"diagnosis_title\", \"Paranoid\")(diagnoses.query)\n",
    "data = mimic.get_interface(patients_paranoia).run()\n",
    "print(f\"{len(data)} rows extracted!\")"
   ]
  },
  {
   "cell_type": "markdown",
   "id": "d093543f",
   "metadata": {},
   "source": [
    "## Example 5. Get all patient encounters with diagnoses (ICD code is F209)."
   ]
  },
  {
   "cell_type": "code",
   "execution_count": 6,
   "id": "105be34a",
   "metadata": {},
   "outputs": [
    {
     "name": "stderr",
     "output_type": "stream",
     "text": [
      "2023-01-16 12:34:32,477 \u001b[1;37mINFO\u001b[0m cyclops.query.orm - Query returned successfully!\n",
      "2023-01-16 12:34:32,478 \u001b[1;37mINFO\u001b[0m cyclops.utils.profile - Finished executing function run_query in 8.393982 s\n"
     ]
    },
    {
     "name": "stdout",
     "output_type": "stream",
     "text": [
      "1431 rows extracted!\n"
     ]
    }
   ],
   "source": [
    "patients = mimic.patients()\n",
    "patients_f209 = mimic.patient_diagnoses(diagnosis_codes=[\"F209\"], patients=patients)\n",
    "patients_f209.run()\n",
    "print(f\"{len(patients_f209.data)} rows extracted!\")"
   ]
  },
  {
   "cell_type": "markdown",
   "id": "569ac1b0",
   "metadata": {},
   "source": [
    "## Example 6. Get all patient encounters with diagnoses (`delirium` in ICD long title)."
   ]
  },
  {
   "cell_type": "code",
   "execution_count": 7,
   "id": "73a46650",
   "metadata": {},
   "outputs": [
    {
     "name": "stderr",
     "output_type": "stream",
     "text": [
      "2023-01-16 12:34:33,139 \u001b[1;37mINFO\u001b[0m cyclops.query.orm - Query returned successfully!\n",
      "2023-01-16 12:34:33,140 \u001b[1;37mINFO\u001b[0m cyclops.utils.profile - Finished executing function run_query in 0.645764 s\n"
     ]
    },
    {
     "name": "stdout",
     "output_type": "stream",
     "text": [
      "9000 rows extracted!\n"
     ]
    }
   ],
   "source": [
    "patients = mimic.patients()\n",
    "patients_delirium = mimic.patient_diagnoses(\n",
    "    diagnosis_substring=\"delirium\", patients=patients\n",
    ")\n",
    "patients_delirium.run()\n",
    "print(f\"{len(patients_delirium.data)} rows extracted!\")"
   ]
  },
  {
   "cell_type": "code",
   "execution_count": 8,
   "id": "cec91296-bc8f-4973-b544-9ce8ce4119e2",
   "metadata": {},
   "outputs": [
    {
     "data": {
      "text/plain": [
       "Delirium due to conditions classified elsewhere                                  3938\n",
       "Delirium due to known physiological condition                                    3075\n",
       "Drug-induced delirium                                                             963\n",
       "Alcohol withdrawal delirium                                                       373\n",
       "Alcohol dependence with withdrawal delirium                                       210\n",
       "Vascular dementia, with delirium                                                  169\n",
       "Senile dementia with delirium                                                      88\n",
       "Subacute delirium                                                                  35\n",
       "Alcohol dependence with intoxication delirium                                      28\n",
       "Alcohol abuse with intoxication delirium                                           20\n",
       "Other psychoactive substance use, unspecified with intoxication with delirium      15\n",
       "Sedative, hypnotic or anxiolytic dependence with withdrawal delirium               14\n",
       "Opioid use, unspecified with intoxication delirium                                 10\n",
       "Presenile dementia with delirium                                                    8\n",
       "Other stimulant abuse with intoxication delirium                                    7\n",
       "Other psychoactive substance abuse with intoxication delirium                       6\n",
       "Cocaine abuse with intoxication with delirium                                       5\n",
       "Opioid abuse with intoxication delirium                                             5\n",
       "Other psychoactive substance use, unspecified with withdrawal delirium              4\n",
       "Hallucinogen abuse with intoxication with delirium                                  3\n",
       "Other stimulant dependence with intoxication delirium                               3\n",
       "Cocaine dependence with intoxication delirium                                       3\n",
       "Hallucinogen use, unspecified with intoxication with delirium                       2\n",
       "Sedative, hypnotic or anxiolytic abuse with intoxication delirium                   2\n",
       "Sedative, hypnotic or anxiolytic dependence with intoxication delirium              2\n",
       "Other psychoactive substance dependence with intoxication delirium                  2\n",
       "Opioid dependence with intoxication delirium                                        2\n",
       "Sedative, hypnotic or anxiolytic use, unspecified with intoxication delirium        2\n",
       "Cannabis abuse with intoxication delirium                                           2\n",
       "Other stimulant use, unspecified with intoxication delirium                         1\n",
       "Cannabis use, unspecified with intoxication delirium                                1\n",
       "Other psychoactive substance dependence with withdrawal delirium                    1\n",
       "Cocaine use, unspecified with intoxication delirium                                 1\n",
       "Name: diagnosis_title, dtype: int64"
      ]
     },
     "execution_count": 8,
     "metadata": {},
     "output_type": "execute_result"
    }
   ],
   "source": [
    "patients_delirium.data[\"diagnosis_title\"].value_counts()"
   ]
  },
  {
   "cell_type": "markdown",
   "id": "30b0d604",
   "metadata": {},
   "source": [
    "## Example 7. Get routine vital signs for patients from year 2015, limit to 100 rows."
   ]
  },
  {
   "cell_type": "code",
   "execution_count": 9,
   "id": "56a72377",
   "metadata": {},
   "outputs": [
    {
     "name": "stderr",
     "output_type": "stream",
     "text": [
      "2023-01-16 12:36:09,988 \u001b[1;37mINFO\u001b[0m cyclops.query.orm - Query returned successfully!\n",
      "2023-01-16 12:36:09,990 \u001b[1;37mINFO\u001b[0m cyclops.utils.profile - Finished executing function run_query in 96.810362 s\n"
     ]
    },
    {
     "name": "stdout",
     "output_type": "stream",
     "text": [
      "100 rows extracted!\n"
     ]
    }
   ],
   "source": [
    "encounters = mimic.patient_encounters(years=[2018])\n",
    "patients_vitals = mimic.events(\n",
    "    patient_encounters_table=encounters.query, categories=\"Routine Vital Signs\"\n",
    ")\n",
    "patients_vitals.run(limit=100)\n",
    "print(f\"{len(patients_vitals.data)} rows extracted!\")"
   ]
  },
  {
   "cell_type": "markdown",
   "id": "621479f0",
   "metadata": {},
   "source": [
    "## Example 8. Get hemoglobin lab tests for patients from year 2009, limit to 100 rows."
   ]
  },
  {
   "cell_type": "code",
   "execution_count": 10,
   "id": "bce11f81",
   "metadata": {},
   "outputs": [
    {
     "name": "stderr",
     "output_type": "stream",
     "text": [
      "2023-01-16 12:36:11,696 \u001b[1;37mINFO\u001b[0m cyclops.query.orm - Query returned successfully!\n",
      "2023-01-16 12:36:11,698 \u001b[1;37mINFO\u001b[0m cyclops.utils.profile - Finished executing function run_query in 1.677006 s\n"
     ]
    },
    {
     "name": "stdout",
     "output_type": "stream",
     "text": [
      "100 rows extracted!\n"
     ]
    }
   ],
   "source": [
    "encounters = mimic.patient_encounters(years=[2009])\n",
    "patients_hemo_labs = mimic.events(\n",
    "    categories=\"labs\",\n",
    "    patient_encounters_table=encounters.query,\n",
    "    event_names=\"hemoglobin\",\n",
    ")\n",
    "patients_hemo_labs.run(limit=100)\n",
    "print(f\"{len(patients_hemo_labs.data)} rows extracted!\")"
   ]
  },
  {
   "cell_type": "markdown",
   "id": "93e28422",
   "metadata": {},
   "source": [
    "## Example 9. Get all lab events for patients from year 2010, that match substring \"sodium\", limit to 100 rows."
   ]
  },
  {
   "cell_type": "code",
   "execution_count": 11,
   "id": "9a6aeef6",
   "metadata": {},
   "outputs": [
    {
     "name": "stderr",
     "output_type": "stream",
     "text": [
      "2023-01-16 12:36:14,289 \u001b[1;37mINFO\u001b[0m cyclops.query.orm - Query returned successfully!\n",
      "2023-01-16 12:36:14,290 \u001b[1;37mINFO\u001b[0m cyclops.utils.profile - Finished executing function run_query in 2.549300 s\n"
     ]
    },
    {
     "name": "stdout",
     "output_type": "stream",
     "text": [
      "100 rows extracted!\n"
     ]
    }
   ],
   "source": [
    "encounters = mimic.patient_encounters(years=[2009])\n",
    "patients_sodium_labs = mimic.events(\n",
    "    categories=\"labs\",\n",
    "    patient_encounters_table=encounters.query,\n",
    "    event_name_substring=\"sodium\",\n",
    ")\n",
    "patients_sodium_labs.run(limit=100)\n",
    "print(f\"{len(patients_sodium_labs.data)} rows extracted!\")"
   ]
  },
  {
   "cell_type": "markdown",
   "id": "7d5d0e20",
   "metadata": {},
   "source": [
    "## Example 10. Get respiratory events for patients from year 2009, limit to 100 rows."
   ]
  },
  {
   "cell_type": "code",
   "execution_count": 12,
   "id": "e9fc83e3",
   "metadata": {},
   "outputs": [
    {
     "name": "stderr",
     "output_type": "stream",
     "text": [
      "2023-01-16 12:37:35,834 \u001b[1;37mINFO\u001b[0m cyclops.query.orm - Query returned successfully!\n",
      "2023-01-16 12:37:35,836 \u001b[1;37mINFO\u001b[0m cyclops.utils.profile - Finished executing function run_query in 81.502515 s\n"
     ]
    },
    {
     "name": "stdout",
     "output_type": "stream",
     "text": [
      "100 rows extracted!\n"
     ]
    }
   ],
   "source": [
    "encounters = mimic.patient_encounters(years=[2009])\n",
    "patients_respiratory = mimic.events(\n",
    "    categories=\"Respiratory\", patient_encounters_table=encounters.query\n",
    ")\n",
    "patients_respiratory.run(limit=100)\n",
    "print(f\"{len(patients_respiratory.data)} rows extracted!\")"
   ]
  },
  {
   "cell_type": "markdown",
   "id": "af3c3e3b",
   "metadata": {},
   "source": [
    "## Example 11. Get heart rate measurements of patients with delirium diagnoses, limit to 100 rows."
   ]
  },
  {
   "cell_type": "code",
   "execution_count": 13,
   "id": "77453d72",
   "metadata": {},
   "outputs": [
    {
     "name": "stderr",
     "output_type": "stream",
     "text": [
      "2023-01-16 12:38:50,455 \u001b[1;37mINFO\u001b[0m cyclops.query.orm - Query returned successfully!\n",
      "2023-01-16 12:38:50,457 \u001b[1;37mINFO\u001b[0m cyclops.utils.profile - Finished executing function run_query in 74.580848 s\n"
     ]
    },
    {
     "name": "stdout",
     "output_type": "stream",
     "text": [
      "100 rows extracted!\n"
     ]
    }
   ],
   "source": [
    "patients = mimic.patients()\n",
    "encounters = mimic.patient_encounters(patients_table=patients.query)\n",
    "delirium_encounters = mimic.patient_diagnoses(\n",
    "    diagnosis_substring=\"delirium\", patients_table=encounters.query\n",
    ")\n",
    "patients_delirium_heart_rate = mimic.events(\n",
    "    event_names=\"Heart Rate\", patient_encounters_table=delirium_encounters.query\n",
    ")\n",
    "patients_delirium_heart_rate.run(limit=100)\n",
    "print(f\"{len(patients_delirium_heart_rate.data)} rows extracted!\")"
   ]
  },
  {
   "cell_type": "markdown",
   "id": "f5efc21c",
   "metadata": {},
   "source": [
    "## Example 12. Get d_items dimension table, for quick reference."
   ]
  },
  {
   "cell_type": "code",
   "execution_count": 14,
   "id": "9feecc43",
   "metadata": {},
   "outputs": [
    {
     "name": "stderr",
     "output_type": "stream",
     "text": [
      "2023-01-16 12:38:50,497 \u001b[1;37mINFO\u001b[0m cyclops.query.orm - Query returned successfully!\n",
      "2023-01-16 12:38:50,498 \u001b[1;37mINFO\u001b[0m cyclops.utils.profile - Finished executing function run_query in 0.030484 s\n"
     ]
    },
    {
     "name": "stdout",
     "output_type": "stream",
     "text": [
      "4014 rows extracted!\n"
     ]
    }
   ],
   "source": [
    "event_lookup_table = mimic.get_interface(mimic.get_table(\"event_labels\"))\n",
    "lookup_data = event_lookup_table.run()\n",
    "print(f\"{len(lookup_data)} rows extracted!\")"
   ]
  },
  {
   "cell_type": "markdown",
   "id": "801c5ec5-6c7e-44af-8fb7-275d66ca82b0",
   "metadata": {},
   "source": [
    "## Example 13. Get all female patient encounters from year 2015, and return as dask dataframe (lazy evaluation) with 4 partitions (batches)."
   ]
  },
  {
   "cell_type": "code",
   "execution_count": 15,
   "id": "28683d70-376e-4d9b-883d-1a7de634e455",
   "metadata": {},
   "outputs": [
    {
     "name": "stderr",
     "output_type": "stream",
     "text": [
      "2023-01-16 12:38:51,143 \u001b[1;37mINFO\u001b[0m cyclops.query.orm - Query returned successfully!\n",
      "2023-01-16 12:38:51,143 \u001b[1;37mINFO\u001b[0m cyclops.utils.profile - Finished executing function run_query in 0.618330 s\n"
     ]
    },
    {
     "name": "stdout",
     "output_type": "stream",
     "text": [
      "35639 rows extracted!\n",
      "Return type: <class 'dask.dataframe.core.DataFrame'>\n",
      "Number of partitions: 4\n"
     ]
    }
   ],
   "source": [
    "encounters = mimic.patient_encounters(years=2015, sex=\"F\")\n",
    "encounters.run(backend=\"dask\", index_col=\"encounter_id\", n_partitions=4)\n",
    "print(f\"{len(encounters.data)} rows extracted!\")\n",
    "print(f\"Return type: {type(encounters.data)}\")\n",
    "print(f\"Number of partitions: {encounters.data.npartitions}\")"
   ]
  },
  {
   "cell_type": "markdown",
   "id": "e1ed2708",
   "metadata": {},
   "source": [
    "## Example 14. Running a raw SQL string."
   ]
  },
  {
   "cell_type": "code",
   "execution_count": 16,
   "id": "a853deec",
   "metadata": {},
   "outputs": [
    {
     "name": "stderr",
     "output_type": "stream",
     "text": [
      "2023-01-16 12:38:52,854 \u001b[1;37mINFO\u001b[0m cyclops.query.orm - Query returned successfully!\n",
      "2023-01-16 12:38:52,854 \u001b[1;37mINFO\u001b[0m cyclops.utils.profile - Finished executing function run_query in 0.008507 s\n"
     ]
    },
    {
     "name": "stdout",
     "output_type": "stream",
     "text": [
      "100 rows extracted!\n"
     ]
    }
   ],
   "source": [
    "data = mimic._db.run_query(\"SELECT * FROM mimiciv_hosp.admissions LIMIT 100\")\n",
    "print(f\"{len(data)} rows extracted!\")"
   ]
  }
 ],
 "metadata": {
  "kernelspec": {
   "display_name": "cyclops",
   "language": "python",
   "name": "cyclops"
  },
  "language_info": {
   "codemirror_mode": {
    "name": "ipython",
    "version": 3
   },
   "file_extension": ".py",
   "mimetype": "text/x-python",
   "name": "python",
   "nbconvert_exporter": "python",
   "pygments_lexer": "ipython3",
   "version": "3.9.7"
  }
 },
 "nbformat": 4,
 "nbformat_minor": 5
}
