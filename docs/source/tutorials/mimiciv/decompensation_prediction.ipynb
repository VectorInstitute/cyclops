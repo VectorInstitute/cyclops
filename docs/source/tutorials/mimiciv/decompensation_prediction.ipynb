{
 "cells": [
  {
   "cell_type": "markdown",
   "id": "c19e50b7-6ff0-48cd-a844-00d9fa4c4606",
   "metadata": {},
   "source": [
    "# Decompensation Prediction\n",
    "\n",
    "This notebook showcases decompensation prediction on the [MIMICIV](https://physionet.org/content/mimiciv/2.0) dataset using CyclOps. The task is formulated as a binary classification task, whether the patient will deteriorate (mortality prediction in the next 3 days after every 24 hours)."
   ]
  },
  {
   "cell_type": "code",
   "execution_count": null,
   "id": "7e7ef0f0-c03d-454e-ae99-2ad78e65a7b4",
   "metadata": {
    "tags": []
   },
   "outputs": [],
   "source": [
    "import cycquery.ops as qo\n",
    "import pandas as pd\n",
    "from cycquery import MIMICIVQuerier\n",
    "\n",
    "from cyclops.process.aggregate import RESTRICT_TIMESTAMP, Aggregator\n",
    "from cyclops.process.clean import normalize_names\n",
    "from cyclops.process.feature.feature import TemporalFeatures\n",
    "from cyclops.utils.common import add_years_approximate"
   ]
  },
  {
   "cell_type": "code",
   "execution_count": null,
   "id": "98aac689",
   "metadata": {},
   "outputs": [],
   "source": [
    "OUTCOME_DEATH = \"outcome_death\""
   ]
  },
  {
   "cell_type": "markdown",
   "id": "2da0063b-7881-475f-a5ca-a267c0d9fb0d",
   "metadata": {},
   "source": [
    "# Query"
   ]
  },
  {
   "cell_type": "code",
   "execution_count": null,
   "id": "aa0a2db6-3c2a-4f80-ac14-6d67dfb79a54",
   "metadata": {},
   "outputs": [],
   "source": [
    "querier = MIMICIVQuerier(\n",
    "    dbms=\"postgresql\",\n",
    "    port=5432,\n",
    "    host=\"localhost\",\n",
    "    database=\"mimiciv-2.0\",\n",
    "    user=\"postgres\",\n",
    "    password=\"pwd\",\n",
    ")"
   ]
  },
  {
   "cell_type": "markdown",
   "id": "0d3412ae-a3a2-49b1-99d7-f13014cb3d35",
   "metadata": {
    "tags": []
   },
   "source": [
    "## Patient encounters"
   ]
  },
  {
   "cell_type": "code",
   "execution_count": null,
   "id": "fd7883ba-5319-4035-91fb-0128fb36821d",
   "metadata": {
    "tags": []
   },
   "outputs": [],
   "source": [
    "patients = querier.patients()\n",
    "encounters = querier.mimiciv_hosp.admissions()\n",
    "drop_op = qo.Drop(\n",
    "    [\"insurance\", \"language\", \"marital_status\", \"edregtime\", \"edouttime\"],\n",
    ")\n",
    "encounters = encounters.ops(drop_op)\n",
    "patient_encounters = patients.join(encounters, on=\"subject_id\")\n",
    "patient_encounters = patient_encounters.run()"
   ]
  },
  {
   "cell_type": "code",
   "execution_count": null,
   "id": "7c83bee9",
   "metadata": {},
   "outputs": [],
   "source": [
    "patient_encounters[\"age\"] = patient_encounters[\"admittime\"].dt.year - (\n",
    "    patient_encounters[\"anchor_year\"]\n",
    "    - patient_encounters[\"anchor_age\"]\n",
    "    + patient_encounters[\"anchor_year_difference\"]\n",
    ")\n",
    "for col in [\"admittime\", \"dischtime\", \"deathtime\"]:\n",
    "    patient_encounters[col] = add_years_approximate(\n",
    "        patient_encounters[col],\n",
    "        patient_encounters[\"anchor_year_difference\"],\n",
    "    )\n",
    "patient_encounters = patient_encounters[\n",
    "    [\n",
    "        \"hadm_id\",\n",
    "        \"admittime\",\n",
    "        \"dischtime\",\n",
    "        \"deathtime\",\n",
    "        \"anchor_age\",\n",
    "        \"age\",\n",
    "        \"gender\",\n",
    "        \"anchor_year_difference\",\n",
    "        \"admission_location\",\n",
    "        \"hospital_expire_flag\",\n",
    "    ]\n",
    "]"
   ]
  },
  {
   "cell_type": "markdown",
   "id": "5371359b-249d-45b2-8384-2a4757cf1d70",
   "metadata": {},
   "source": [
    "Create death indicator\n",
    "\n",
    "Hospital expire flag:\n",
    " - 1 - Death in hospital\n",
    " - 0 - Survived past discharge"
   ]
  },
  {
   "cell_type": "code",
   "execution_count": null,
   "id": "449324b6-09a1-4e14-9864-9635f61eb635",
   "metadata": {
    "tags": []
   },
   "outputs": [],
   "source": [
    "# Drop encounters ending in death which don't have a death timestamp\n",
    "invalid = (patient_encounters[\"hospital_expire_flag\"] == 1) & (\n",
    "    patient_encounters[\"deathtime\"].isna()\n",
    ")\n",
    "patient_encounters = patient_encounters[~invalid]\n",
    "\n",
    "# (Died in hospital) & (Death timestamp is defined)\n",
    "patient_encounters[OUTCOME_DEATH] = patient_encounters[\"hospital_expire_flag\"] == 1"
   ]
  },
  {
   "cell_type": "code",
   "execution_count": null,
   "id": "d2aca418-e3e8-468e-ade0-a39f415240c3",
   "metadata": {
    "tags": []
   },
   "outputs": [],
   "source": [
    "(patient_encounters[OUTCOME_DEATH] is True).sum() / len(\n",
    "    patient_encounters,\n",
    ")  # noqa: E712"
   ]
  },
  {
   "cell_type": "markdown",
   "id": "a176f2de-f264-4253-ab11-da9017a4153c",
   "metadata": {},
   "source": [
    "## Events"
   ]
  },
  {
   "cell_type": "code",
   "execution_count": null,
   "id": "de68c082-17d8-46bc-b9ce-4b19b0a97fcd",
   "metadata": {
    "tags": []
   },
   "outputs": [],
   "source": [
    "labevents = querier.labevents().run(index_col=\"hadm_id\", batch_mode=True)"
   ]
  },
  {
   "cell_type": "markdown",
   "id": "7fdec0d6-5170-486b-85b8-c0b4294a3358",
   "metadata": {},
   "source": [
    "# Preprocess"
   ]
  },
  {
   "cell_type": "markdown",
   "id": "de37e20f-5e00-4fcb-8f68-c4675de2c7b7",
   "metadata": {},
   "source": [
    "Can be run entirely separately from the querying."
   ]
  },
  {
   "cell_type": "code",
   "execution_count": null,
   "id": "f35e9cf8-849e-4a43-b809-07344ec0001e",
   "metadata": {
    "tags": []
   },
   "outputs": [],
   "source": [
    "def process_labevents(labevents, patient_encounters):\n",
    "    \"\"\"Process labevents before aggregation.\"\"\"\n",
    "    # Reverse deidentified dating\n",
    "    labevents = pd.merge(\n",
    "        patient_encounters[[\"hadm_id\", \"anchor_year_difference\"]],\n",
    "        labevents,\n",
    "        on=\"hadm_id\",\n",
    "    )\n",
    "    labevents[\"charttime\"] = add_years_approximate(\n",
    "        labevents[\"charttime\"],\n",
    "        labevents[\"anchor_year_difference\"],\n",
    "    )\n",
    "    labevents = labevents.drop(\"anchor_year_difference\", axis=1)\n",
    "\n",
    "    # Pre-processing\n",
    "    labevents[\"label\"] = normalize_names(labevents[\"label\"])\n",
    "    labevents[\"category\"] = normalize_names(labevents[\"category\"])\n",
    "\n",
    "    return labevents"
   ]
  },
  {
   "cell_type": "code",
   "execution_count": null,
   "id": "1b706e2e",
   "metadata": {},
   "outputs": [],
   "source": [
    "start_timestamps = (\n",
    "    patient_encounters[[\"hadm_id\", \"admittime\"]]\n",
    "    .set_index(\"hadm_id\")\n",
    "    .rename({\"admittime\": RESTRICT_TIMESTAMP}, axis=1)\n",
    ")\n",
    "aggregator = Aggregator(\n",
    "    aggfuncs={\"valuenum\": \"mean\"},\n",
    "    timestamp_col=\"charttime\",\n",
    "    time_by=\"hadm_id\",\n",
    "    agg_by=[\"hadm_id\", \"label\"],\n",
    "    timestep_size=24,\n",
    "    window_duration=96,\n",
    ")"
   ]
  },
  {
   "cell_type": "code",
   "execution_count": null,
   "id": "cc804e86",
   "metadata": {},
   "outputs": [],
   "source": [
    "for _count, labevents_batch in enumerate(labevents):\n",
    "    labevents_batch = process_labevents(labevents_batch, patient_encounters)\n",
    "    # Aggregate\n",
    "    labevents_batch = labevents_batch.reset_index(drop=True)\n",
    "    temporal_features = TemporalFeatures(\n",
    "        labevents_batch,\n",
    "        features=\"valuenum\",\n",
    "        by=[\"hadm_id\", \"label\"],\n",
    "        timestamp_col=\"charttime\",\n",
    "        aggregator=aggregator,\n",
    "    )\n",
    "    aggregated = temporal_features.aggregate(window_start_time=start_timestamps)\n",
    "    vectorized = aggregator.vectorize(aggregated)\n",
    "    print(vectorized)\n",
    "    break"
   ]
  },
  {
   "cell_type": "code",
   "execution_count": null,
   "id": "eb1a70a6",
   "metadata": {},
   "outputs": [],
   "source": [
    "vectorized.data.shape"
   ]
  }
 ],
 "metadata": {
  "kernelspec": {
   "display_name": "pycyclops-Xfr0gdhy-py3.10",
   "language": "python",
   "name": "python3"
  },
  "language_info": {
   "codemirror_mode": {
    "name": "ipython",
    "version": 3
   },
   "file_extension": ".py",
   "mimetype": "text/x-python",
   "name": "python",
   "nbconvert_exporter": "python",
   "pygments_lexer": "ipython3",
   "version": "3.10.12"
  }
 },
 "nbformat": 4,
 "nbformat_minor": 5
}
