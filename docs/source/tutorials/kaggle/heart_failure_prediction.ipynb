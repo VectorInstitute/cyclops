{
 "cells": [
  {
   "cell_type": "markdown",
   "metadata": {},
   "source": [
    "# Heart Failure Prediction\n",
    "\n",
    "This notebook showcases heart failure prediction on a [popular Kaggle dataset](https://www.kaggle.com/datasets/fedesoriano/heart-failure-prediction) using CyclOps. The task is formulated as a binary classification task, where we predict the probability that a patient will have heart failure."
   ]
  },
  {
   "cell_type": "markdown",
   "metadata": {},
   "source": [
    "## Import Libraries"
   ]
  },
  {
   "cell_type": "code",
   "execution_count": 1,
   "metadata": {
    "tags": []
   },
   "outputs": [
    {
     "name": "stderr",
     "output_type": "stream",
     "text": [
      "/home/akore/.cache/pypoetry/virtualenvs/pycyclops-4J2PL5I8-py3.10/lib/python3.10/site-packages/tqdm/auto.py:21: TqdmWarning: IProgress not found. Please update jupyter and ipywidgets. See https://ipywidgets.readthedocs.io/en/stable/user_install.html\n",
      "  from .autonotebook import tqdm as notebook_tqdm\n"
     ]
    },
    {
     "name": "stdout",
     "output_type": "stream",
     "text": [
      "Warning: Your Kaggle API key is readable by other users on this system! To fix this, you can run 'chmod 600 /home/akore/.kaggle/kaggle.json'\n"
     ]
    }
   ],
   "source": [
    "\"\"\"Heart failure prediction.\"\"\"\n",
    "\n",
    "import copy\n",
    "import inspect\n",
    "import shutil\n",
    "from datetime import date\n",
    "\n",
    "import numpy as np\n",
    "import pandas as pd\n",
    "import plotly.express as px\n",
    "from datasets import Dataset\n",
    "from datasets.features import ClassLabel\n",
    "from kaggle.api.kaggle_api_extended import KaggleApi\n",
    "from sklearn.compose import ColumnTransformer\n",
    "from sklearn.impute import SimpleImputer\n",
    "from sklearn.pipeline import Pipeline\n",
    "from sklearn.preprocessing import MinMaxScaler, OneHotEncoder\n",
    "\n",
    "from cyclops.data.df.feature import TabularFeatures\n",
    "from cyclops.data.slicer import SliceSpec\n",
    "from cyclops.evaluate.fairness import FairnessConfig  # noqa: E402\n",
    "from cyclops.evaluate.metrics import create_metric\n",
    "from cyclops.evaluate.metrics.experimental.functional import (\n",
    "    binary_npv,\n",
    "    binary_ppv,\n",
    "    binary_roc,\n",
    ")\n",
    "from cyclops.evaluate.metrics.experimental.metric_dict import MetricDict\n",
    "from cyclops.models.catalog import create_model\n",
    "from cyclops.report import ModelCardReport\n",
    "from cyclops.report.plot.classification import ClassificationPlotter\n",
    "from cyclops.report.utils import flatten_results_dict\n",
    "from cyclops.tasks import BinaryTabularClassificationTask\n",
    "from cyclops.utils.file import join, load_dataframe"
   ]
  },
  {
   "cell_type": "markdown",
   "metadata": {},
   "source": [
    "CyclOps offers a package for documentation of the model through a model report. The `ModelCardReport` class is used to populate and generate the model report as an HTML file. The model report has the following sections:\n",
    "\n",
    "- Overview: Provides a high level overview of how the model is doing (a quick glance of important metrics), and how it is doing over time (performance over several metrics and subgroups over time).\n",
    "- Datasets: High level statistics of the training data, including changes in distribution over time.\n",
    "- Quantitative Analysis: This section contains additional detailed performance metrics of the model for different sets of the data and subpopulations.\n",
    "- Fairness Analysis: This section contains the fairness metrics of the model.\n",
    "- Model Details: This section contains descriptive metadata about the model such as the owners, version, license, etc.\n",
    "- Model Parameters: This section contains the technical details of the model such as the model architecture, training parameters, etc.\n",
    "- Considerations: This section contains descriptions of the considerations involved in developing and using the model such as the intended use, limitations, etc.\n",
    "\n",
    "We will use this to document the model development process as we go along and generate the model report at the end.\n",
    "\n",
    "`The model report tool is a work in progress and is subject to change.`"
   ]
  },
  {
   "cell_type": "code",
   "execution_count": 2,
   "metadata": {},
   "outputs": [],
   "source": [
    "report = ModelCardReport()"
   ]
  },
  {
   "cell_type": "markdown",
   "metadata": {},
   "source": [
    "## Constants"
   ]
  },
  {
   "cell_type": "code",
   "execution_count": 3,
   "metadata": {
    "tags": []
   },
   "outputs": [],
   "source": [
    "DATA_DIR = \"./data\"\n",
    "RANDOM_SEED = 85\n",
    "NAN_THRESHOLD = 0.75\n",
    "TRAIN_SIZE = 0.8"
   ]
  },
  {
   "cell_type": "markdown",
   "metadata": {},
   "source": [
    "## Data Loading\n",
    "\n",
    "Before starting, make sure to install the Kaggle API by running `pip install kaggle`. To use the Kaggle API, you need to sign up for a Kaggle account at https://www.kaggle.com. Then go to the 'Account' tab of your user profile (`https://www.kaggle.com/<username>/account`) and select 'Create API Token'. This will trigger the download of kaggle.json, a file containing your API credentials. Place this file in the location `~/.kaggle/kaggle.json` on your machine."
   ]
  },
  {
   "cell_type": "code",
   "execution_count": 4,
   "metadata": {
    "tags": []
   },
   "outputs": [
    {
     "name": "stdout",
     "output_type": "stream",
     "text": [
      "Warning: Your Kaggle API key is readable by other users on this system! To fix this, you can run 'chmod 600 /home/akore/.kaggle/kaggle.json'\n",
      "Dataset URL: https://www.kaggle.com/datasets/fedesoriano/heart-failure-prediction\n"
     ]
    }
   ],
   "source": [
    "api = KaggleApi()\n",
    "api.authenticate()\n",
    "api.dataset_download_files(\n",
    "    \"fedesoriano/heart-failure-prediction\",\n",
    "    path=DATA_DIR,\n",
    "    unzip=True,\n",
    ")"
   ]
  },
  {
   "cell_type": "code",
   "execution_count": 5,
   "metadata": {
    "tags": []
   },
   "outputs": [
    {
     "name": "stderr",
     "output_type": "stream",
     "text": [
      "2024-07-31 14:56:39,376 \u001b[1;37mINFO\u001b[0m cyclops.utils.file - Loading DataFrame from ./data/heart.csv\n"
     ]
    },
    {
     "name": "stdout",
     "output_type": "stream",
     "text": [
      "     Age Sex ChestPainType  RestingBP  Cholesterol  FastingBS RestingECG  \\\n",
      "0     40   M           ATA        140          289          0     Normal   \n",
      "1     49   F           NAP        160          180          0     Normal   \n",
      "2     37   M           ATA        130          283          0         ST   \n",
      "3     48   F           ASY        138          214          0     Normal   \n",
      "4     54   M           NAP        150          195          0     Normal   \n",
      "..   ...  ..           ...        ...          ...        ...        ...   \n",
      "913   45   M            TA        110          264          0     Normal   \n",
      "914   68   M           ASY        144          193          1     Normal   \n",
      "915   57   M           ASY        130          131          0     Normal   \n",
      "916   57   F           ATA        130          236          0        LVH   \n",
      "917   38   M           NAP        138          175          0     Normal   \n",
      "\n",
      "     MaxHR ExerciseAngina  Oldpeak ST_Slope  HeartDisease   ID  \n",
      "0      172              N      0.0       Up             0    0  \n",
      "1      156              N      1.0     Flat             1    1  \n",
      "2       98              N      0.0       Up             0    2  \n",
      "3      108              Y      1.5     Flat             1    3  \n",
      "4      122              N      0.0       Up             0    4  \n",
      "..     ...            ...      ...      ...           ...  ...  \n",
      "913    132              N      1.2     Flat             1  913  \n",
      "914    141              N      3.4     Flat             1  914  \n",
      "915    115              Y      1.2     Flat             1  915  \n",
      "916    174              N      0.0     Flat             1  916  \n",
      "917    173              N      0.0       Up             0  917  \n",
      "\n",
      "[918 rows x 13 columns]\n"
     ]
    }
   ],
   "source": [
    "df = load_dataframe(join(DATA_DIR, \"heart.csv\"), file_format=\"csv\")\n",
    "df = df.reset_index()\n",
    "df[\"ID\"] = df.index\n",
    "print(df)"
   ]
  },
  {
   "cell_type": "markdown",
   "metadata": {},
   "source": [
    "### Sex values"
   ]
  },
  {
   "cell_type": "code",
   "execution_count": 6,
   "metadata": {
    "tags": []
   },
   "outputs": [
    {
     "data": {
      "application/vnd.plotly.v1+json": {
       "config": {
        "plotlyServerURL": "https://plot.ly"
       },
       "data": [
        {
         "domain": {
          "x": [
           0,
           1
          ],
          "y": [
           0,
           1
          ]
         },
         "hovertemplate": "Sex=%{label}<extra></extra>",
         "labels": [
          "M",
          "F",
          "M",
          "F",
          "M",
          "M",
          "F",
          "M",
          "M",
          "F",
          "F",
          "M",
          "M",
          "M",
          "F",
          "F",
          "M",
          "F",
          "M",
          "M",
          "F",
          "M",
          "F",
          "M",
          "M",
          "M",
          "M",
          "M",
          "F",
          "M",
          "M",
          "M",
          "M",
          "M",
          "F",
          "M",
          "M",
          "F",
          "F",
          "F",
          "F",
          "F",
          "M",
          "M",
          "M",
          "M",
          "M",
          "M",
          "M",
          "M",
          "M",
          "F",
          "M",
          "F",
          "F",
          "F",
          "M",
          "M",
          "M",
          "M",
          "M",
          "F",
          "M",
          "M",
          "F",
          "F",
          "F",
          "M",
          "M",
          "M",
          "M",
          "M",
          "M",
          "F",
          "M",
          "M",
          "M",
          "F",
          "M",
          "M",
          "M",
          "M",
          "M",
          "M",
          "M",
          "M",
          "M",
          "F",
          "M",
          "M",
          "F",
          "M",
          "F",
          "M",
          "F",
          "M",
          "M",
          "M",
          "M",
          "M",
          "M",
          "M",
          "F",
          "M",
          "M",
          "M",
          "F",
          "M",
          "M",
          "M",
          "F",
          "M",
          "M",
          "M",
          "F",
          "F",
          "M",
          "F",
          "F",
          "M",
          "F",
          "F",
          "M",
          "F",
          "M",
          "M",
          "F",
          "F",
          "F",
          "M",
          "M",
          "M",
          "M",
          "M",
          "F",
          "M",
          "F",
          "M",
          "M",
          "M",
          "M",
          "M",
          "M",
          "M",
          "F",
          "M",
          "M",
          "F",
          "M",
          "M",
          "M",
          "M",
          "M",
          "M",
          "M",
          "M",
          "M",
          "M",
          "M",
          "M",
          "M",
          "M",
          "M",
          "M",
          "F",
          "M",
          "M",
          "M",
          "M",
          "M",
          "M",
          "M",
          "M",
          "M",
          "M",
          "M",
          "M",
          "M",
          "M",
          "F",
          "M",
          "M",
          "M",
          "M",
          "F",
          "M",
          "M",
          "M",
          "F",
          "M",
          "M",
          "M",
          "M",
          "M",
          "F",
          "F",
          "M",
          "M",
          "M",
          "F",
          "M",
          "M",
          "M",
          "F",
          "M",
          "M",
          "M",
          "M",
          "M",
          "M",
          "M",
          "F",
          "M",
          "F",
          "M",
          "F",
          "M",
          "M",
          "M",
          "M",
          "M",
          "F",
          "F",
          "M",
          "M",
          "M",
          "M",
          "M",
          "M",
          "F",
          "M",
          "M",
          "F",
          "M",
          "F",
          "M",
          "M",
          "M",
          "M",
          "M",
          "M",
          "M",
          "M",
          "F",
          "M",
          "M",
          "M",
          "M",
          "M",
          "M",
          "M",
          "M",
          "M",
          "M",
          "M",
          "F",
          "F",
          "M",
          "F",
          "F",
          "M",
          "F",
          "M",
          "M",
          "M",
          "M",
          "M",
          "M",
          "M",
          "F",
          "M",
          "F",
          "M",
          "M",
          "F",
          "M",
          "M",
          "M",
          "F",
          "F",
          "M",
          "M",
          "F",
          "F",
          "M",
          "F",
          "M",
          "M",
          "F",
          "M",
          "M",
          "F",
          "M",
          "M",
          "M",
          "M",
          "M",
          "M",
          "M",
          "M",
          "M",
          "M",
          "M",
          "F",
          "M",
          "F",
          "M",
          "M",
          "M",
          "M",
          "M",
          "M",
          "M",
          "M",
          "M",
          "M",
          "M",
          "M",
          "M",
          "M",
          "M",
          "M",
          "F",
          "M",
          "M",
          "M",
          "M",
          "M",
          "M",
          "M",
          "M",
          "M",
          "M",
          "M",
          "M",
          "M",
          "M",
          "M",
          "M",
          "F",
          "M",
          "M",
          "M",
          "M",
          "M",
          "M",
          "M",
          "M",
          "M",
          "M",
          "M",
          "M",
          "M",
          "M",
          "M",
          "M",
          "M",
          "M",
          "M",
          "M",
          "M",
          "M",
          "M",
          "M",
          "M",
          "F",
          "M",
          "M",
          "M",
          "M",
          "M",
          "M",
          "M",
          "M",
          "M",
          "F",
          "M",
          "M",
          "M",
          "M",
          "M",
          "M",
          "M",
          "F",
          "M",
          "M",
          "M",
          "M",
          "M",
          "M",
          "M",
          "M",
          "M",
          "M",
          "M",
          "M",
          "F",
          "M",
          "M",
          "M",
          "F",
          "M",
          "M",
          "M",
          "M",
          "M",
          "M",
          "M",
          "M",
          "M",
          "M",
          "M",
          "M",
          "M",
          "M",
          "F",
          "M",
          "M",
          "M",
          "M",
          "M",
          "M",
          "M",
          "M",
          "M",
          "M",
          "M",
          "M",
          "M",
          "M",
          "M",
          "M",
          "M",
          "M",
          "M",
          "M",
          "M",
          "M",
          "M",
          "M",
          "M",
          "M",
          "M",
          "M",
          "M",
          "M",
          "M",
          "M",
          "M",
          "M",
          "M",
          "M",
          "M",
          "M",
          "M",
          "M",
          "M",
          "M",
          "M",
          "M",
          "M",
          "M",
          "M",
          "M",
          "M",
          "M",
          "M",
          "F",
          "M",
          "M",
          "M",
          "M",
          "M",
          "M",
          "M",
          "M",
          "M",
          "M",
          "M",
          "M",
          "M",
          "M",
          "M",
          "M",
          "M",
          "M",
          "M",
          "M",
          "M",
          "M",
          "M",
          "M",
          "M",
          "M",
          "M",
          "F",
          "M",
          "M",
          "M",
          "M",
          "M",
          "M",
          "M",
          "M",
          "M",
          "M",
          "M",
          "M",
          "M",
          "M",
          "M",
          "M",
          "M",
          "M",
          "M",
          "M",
          "M",
          "M",
          "M",
          "M",
          "M",
          "M",
          "M",
          "M",
          "M",
          "M",
          "M",
          "M",
          "M",
          "M",
          "M",
          "M",
          "M",
          "M",
          "M",
          "M",
          "M",
          "M",
          "M",
          "M",
          "M",
          "M",
          "F",
          "M",
          "F",
          "M",
          "M",
          "M",
          "M",
          "M",
          "M",
          "M",
          "M",
          "M",
          "M",
          "M",
          "M",
          "M",
          "M",
          "M",
          "M",
          "M",
          "M",
          "M",
          "M",
          "M",
          "M",
          "M",
          "M",
          "M",
          "M",
          "M",
          "M",
          "M",
          "M",
          "M",
          "M",
          "M",
          "M",
          "M",
          "M",
          "M",
          "M",
          "M",
          "M",
          "M",
          "M",
          "M",
          "M",
          "M",
          "M",
          "M",
          "M",
          "M",
          "M",
          "M",
          "M",
          "M",
          "M",
          "M",
          "M",
          "M",
          "M",
          "M",
          "M",
          "F",
          "M",
          "M",
          "M",
          "M",
          "F",
          "M",
          "M",
          "M",
          "M",
          "M",
          "F",
          "M",
          "M",
          "F",
          "M",
          "M",
          "M",
          "M",
          "F",
          "M",
          "M",
          "M",
          "M",
          "F",
          "F",
          "M",
          "M",
          "M",
          "M",
          "M",
          "M",
          "M",
          "M",
          "F",
          "F",
          "F",
          "F",
          "M",
          "F",
          "M",
          "M",
          "F",
          "M",
          "M",
          "M",
          "M",
          "M",
          "M",
          "M",
          "M",
          "F",
          "M",
          "M",
          "M",
          "M",
          "M",
          "M",
          "M",
          "F",
          "M",
          "M",
          "F",
          "F",
          "F",
          "F",
          "M",
          "F",
          "F",
          "M",
          "M",
          "F",
          "M",
          "F",
          "M",
          "M",
          "M",
          "F",
          "F",
          "M",
          "M",
          "F",
          "M",
          "F",
          "F",
          "M",
          "M",
          "F",
          "F",
          "M",
          "M",
          "M",
          "M",
          "M",
          "M",
          "M",
          "M",
          "M",
          "F",
          "M",
          "M",
          "F",
          "M",
          "M",
          "M",
          "M",
          "M",
          "M",
          "F",
          "F",
          "F",
          "M",
          "F",
          "M",
          "M",
          "M",
          "M",
          "F",
          "M",
          "F",
          "F",
          "M",
          "F",
          "F",
          "M",
          "F",
          "M",
          "F",
          "F",
          "M",
          "M",
          "M",
          "M",
          "F",
          "M",
          "F",
          "M",
          "F",
          "M",
          "M",
          "F",
          "M",
          "M",
          "M",
          "M",
          "F",
          "F",
          "M",
          "F",
          "M",
          "M",
          "M",
          "M",
          "M",
          "M",
          "M",
          "M",
          "M",
          "M",
          "F",
          "M",
          "F",
          "F",
          "F",
          "F",
          "F",
          "M",
          "M",
          "M",
          "F",
          "M",
          "F",
          "M",
          "M",
          "M",
          "F",
          "F",
          "M",
          "F",
          "M",
          "M",
          "M",
          "M",
          "F",
          "M",
          "F",
          "M",
          "M",
          "M",
          "M",
          "M",
          "F",
          "M",
          "F",
          "M",
          "M",
          "M",
          "M",
          "F",
          "M",
          "M",
          "M",
          "M",
          "M",
          "M",
          "F",
          "F",
          "F",
          "F",
          "M",
          "M",
          "M",
          "M",
          "M",
          "M",
          "M",
          "F",
          "M",
          "M",
          "M",
          "M",
          "M",
          "F",
          "M",
          "M",
          "F",
          "F",
          "M",
          "M",
          "M",
          "M",
          "M",
          "M",
          "M",
          "F",
          "M",
          "F",
          "F",
          "F",
          "M",
          "F",
          "M",
          "M",
          "M",
          "M",
          "F",
          "F",
          "M",
          "M",
          "M",
          "M",
          "M",
          "F",
          "F",
          "F",
          "M",
          "M",
          "F",
          "M",
          "M",
          "M",
          "M",
          "M",
          "M",
          "M",
          "F",
          "M",
          "M",
          "M",
          "M",
          "F",
          "M",
          "M",
          "M",
          "M",
          "M",
          "M",
          "F",
          "M",
          "M",
          "F",
          "M",
          "M",
          "M",
          "M",
          "M",
          "F",
          "F",
          "M",
          "F",
          "M",
          "M",
          "F",
          "M",
          "M",
          "M",
          "F",
          "M",
          "M",
          "M",
          "M",
          "F",
          "M",
          "M",
          "F",
          "M",
          "M",
          "F",
          "M",
          "M",
          "M",
          "F",
          "M"
         ],
         "legendgroup": "",
         "name": "",
         "showlegend": true,
         "type": "pie"
        }
       ],
       "layout": {
        "legend": {
         "tracegroupgap": 0
        },
        "margin": {
         "t": 60
        },
        "template": {
         "data": {
          "bar": [
           {
            "error_x": {
             "color": "#2a3f5f"
            },
            "error_y": {
             "color": "#2a3f5f"
            },
            "marker": {
             "line": {
              "color": "#E5ECF6",
              "width": 0.5
             },
             "pattern": {
              "fillmode": "overlay",
              "size": 10,
              "solidity": 0.2
             }
            },
            "type": "bar"
           }
          ],
          "barpolar": [
           {
            "marker": {
             "line": {
              "color": "#E5ECF6",
              "width": 0.5
             },
             "pattern": {
              "fillmode": "overlay",
              "size": 10,
              "solidity": 0.2
             }
            },
            "type": "barpolar"
           }
          ],
          "carpet": [
           {
            "aaxis": {
             "endlinecolor": "#2a3f5f",
             "gridcolor": "white",
             "linecolor": "white",
             "minorgridcolor": "white",
             "startlinecolor": "#2a3f5f"
            },
            "baxis": {
             "endlinecolor": "#2a3f5f",
             "gridcolor": "white",
             "linecolor": "white",
             "minorgridcolor": "white",
             "startlinecolor": "#2a3f5f"
            },
            "type": "carpet"
           }
          ],
          "choropleth": [
           {
            "colorbar": {
             "outlinewidth": 0,
             "ticks": ""
            },
            "type": "choropleth"
           }
          ],
          "contour": [
           {
            "colorbar": {
             "outlinewidth": 0,
             "ticks": ""
            },
            "colorscale": [
             [
              0,
              "#0d0887"
             ],
             [
              0.1111111111111111,
              "#46039f"
             ],
             [
              0.2222222222222222,
              "#7201a8"
             ],
             [
              0.3333333333333333,
              "#9c179e"
             ],
             [
              0.4444444444444444,
              "#bd3786"
             ],
             [
              0.5555555555555556,
              "#d8576b"
             ],
             [
              0.6666666666666666,
              "#ed7953"
             ],
             [
              0.7777777777777778,
              "#fb9f3a"
             ],
             [
              0.8888888888888888,
              "#fdca26"
             ],
             [
              1,
              "#f0f921"
             ]
            ],
            "type": "contour"
           }
          ],
          "contourcarpet": [
           {
            "colorbar": {
             "outlinewidth": 0,
             "ticks": ""
            },
            "type": "contourcarpet"
           }
          ],
          "heatmap": [
           {
            "colorbar": {
             "outlinewidth": 0,
             "ticks": ""
            },
            "colorscale": [
             [
              0,
              "#0d0887"
             ],
             [
              0.1111111111111111,
              "#46039f"
             ],
             [
              0.2222222222222222,
              "#7201a8"
             ],
             [
              0.3333333333333333,
              "#9c179e"
             ],
             [
              0.4444444444444444,
              "#bd3786"
             ],
             [
              0.5555555555555556,
              "#d8576b"
             ],
             [
              0.6666666666666666,
              "#ed7953"
             ],
             [
              0.7777777777777778,
              "#fb9f3a"
             ],
             [
              0.8888888888888888,
              "#fdca26"
             ],
             [
              1,
              "#f0f921"
             ]
            ],
            "type": "heatmap"
           }
          ],
          "heatmapgl": [
           {
            "colorbar": {
             "outlinewidth": 0,
             "ticks": ""
            },
            "colorscale": [
             [
              0,
              "#0d0887"
             ],
             [
              0.1111111111111111,
              "#46039f"
             ],
             [
              0.2222222222222222,
              "#7201a8"
             ],
             [
              0.3333333333333333,
              "#9c179e"
             ],
             [
              0.4444444444444444,
              "#bd3786"
             ],
             [
              0.5555555555555556,
              "#d8576b"
             ],
             [
              0.6666666666666666,
              "#ed7953"
             ],
             [
              0.7777777777777778,
              "#fb9f3a"
             ],
             [
              0.8888888888888888,
              "#fdca26"
             ],
             [
              1,
              "#f0f921"
             ]
            ],
            "type": "heatmapgl"
           }
          ],
          "histogram": [
           {
            "marker": {
             "pattern": {
              "fillmode": "overlay",
              "size": 10,
              "solidity": 0.2
             }
            },
            "type": "histogram"
           }
          ],
          "histogram2d": [
           {
            "colorbar": {
             "outlinewidth": 0,
             "ticks": ""
            },
            "colorscale": [
             [
              0,
              "#0d0887"
             ],
             [
              0.1111111111111111,
              "#46039f"
             ],
             [
              0.2222222222222222,
              "#7201a8"
             ],
             [
              0.3333333333333333,
              "#9c179e"
             ],
             [
              0.4444444444444444,
              "#bd3786"
             ],
             [
              0.5555555555555556,
              "#d8576b"
             ],
             [
              0.6666666666666666,
              "#ed7953"
             ],
             [
              0.7777777777777778,
              "#fb9f3a"
             ],
             [
              0.8888888888888888,
              "#fdca26"
             ],
             [
              1,
              "#f0f921"
             ]
            ],
            "type": "histogram2d"
           }
          ],
          "histogram2dcontour": [
           {
            "colorbar": {
             "outlinewidth": 0,
             "ticks": ""
            },
            "colorscale": [
             [
              0,
              "#0d0887"
             ],
             [
              0.1111111111111111,
              "#46039f"
             ],
             [
              0.2222222222222222,
              "#7201a8"
             ],
             [
              0.3333333333333333,
              "#9c179e"
             ],
             [
              0.4444444444444444,
              "#bd3786"
             ],
             [
              0.5555555555555556,
              "#d8576b"
             ],
             [
              0.6666666666666666,
              "#ed7953"
             ],
             [
              0.7777777777777778,
              "#fb9f3a"
             ],
             [
              0.8888888888888888,
              "#fdca26"
             ],
             [
              1,
              "#f0f921"
             ]
            ],
            "type": "histogram2dcontour"
           }
          ],
          "mesh3d": [
           {
            "colorbar": {
             "outlinewidth": 0,
             "ticks": ""
            },
            "type": "mesh3d"
           }
          ],
          "parcoords": [
           {
            "line": {
             "colorbar": {
              "outlinewidth": 0,
              "ticks": ""
             }
            },
            "type": "parcoords"
           }
          ],
          "pie": [
           {
            "automargin": true,
            "type": "pie"
           }
          ],
          "scatter": [
           {
            "fillpattern": {
             "fillmode": "overlay",
             "size": 10,
             "solidity": 0.2
            },
            "type": "scatter"
           }
          ],
          "scatter3d": [
           {
            "line": {
             "colorbar": {
              "outlinewidth": 0,
              "ticks": ""
             }
            },
            "marker": {
             "colorbar": {
              "outlinewidth": 0,
              "ticks": ""
             }
            },
            "type": "scatter3d"
           }
          ],
          "scattercarpet": [
           {
            "marker": {
             "colorbar": {
              "outlinewidth": 0,
              "ticks": ""
             }
            },
            "type": "scattercarpet"
           }
          ],
          "scattergeo": [
           {
            "marker": {
             "colorbar": {
              "outlinewidth": 0,
              "ticks": ""
             }
            },
            "type": "scattergeo"
           }
          ],
          "scattergl": [
           {
            "marker": {
             "colorbar": {
              "outlinewidth": 0,
              "ticks": ""
             }
            },
            "type": "scattergl"
           }
          ],
          "scattermapbox": [
           {
            "marker": {
             "colorbar": {
              "outlinewidth": 0,
              "ticks": ""
             }
            },
            "type": "scattermapbox"
           }
          ],
          "scatterpolar": [
           {
            "marker": {
             "colorbar": {
              "outlinewidth": 0,
              "ticks": ""
             }
            },
            "type": "scatterpolar"
           }
          ],
          "scatterpolargl": [
           {
            "marker": {
             "colorbar": {
              "outlinewidth": 0,
              "ticks": ""
             }
            },
            "type": "scatterpolargl"
           }
          ],
          "scatterternary": [
           {
            "marker": {
             "colorbar": {
              "outlinewidth": 0,
              "ticks": ""
             }
            },
            "type": "scatterternary"
           }
          ],
          "surface": [
           {
            "colorbar": {
             "outlinewidth": 0,
             "ticks": ""
            },
            "colorscale": [
             [
              0,
              "#0d0887"
             ],
             [
              0.1111111111111111,
              "#46039f"
             ],
             [
              0.2222222222222222,
              "#7201a8"
             ],
             [
              0.3333333333333333,
              "#9c179e"
             ],
             [
              0.4444444444444444,
              "#bd3786"
             ],
             [
              0.5555555555555556,
              "#d8576b"
             ],
             [
              0.6666666666666666,
              "#ed7953"
             ],
             [
              0.7777777777777778,
              "#fb9f3a"
             ],
             [
              0.8888888888888888,
              "#fdca26"
             ],
             [
              1,
              "#f0f921"
             ]
            ],
            "type": "surface"
           }
          ],
          "table": [
           {
            "cells": {
             "fill": {
              "color": "#EBF0F8"
             },
             "line": {
              "color": "white"
             }
            },
            "header": {
             "fill": {
              "color": "#C8D4E3"
             },
             "line": {
              "color": "white"
             }
            },
            "type": "table"
           }
          ]
         },
         "layout": {
          "annotationdefaults": {
           "arrowcolor": "#2a3f5f",
           "arrowhead": 0,
           "arrowwidth": 1
          },
          "autotypenumbers": "strict",
          "coloraxis": {
           "colorbar": {
            "outlinewidth": 0,
            "ticks": ""
           }
          },
          "colorscale": {
           "diverging": [
            [
             0,
             "#8e0152"
            ],
            [
             0.1,
             "#c51b7d"
            ],
            [
             0.2,
             "#de77ae"
            ],
            [
             0.3,
             "#f1b6da"
            ],
            [
             0.4,
             "#fde0ef"
            ],
            [
             0.5,
             "#f7f7f7"
            ],
            [
             0.6,
             "#e6f5d0"
            ],
            [
             0.7,
             "#b8e186"
            ],
            [
             0.8,
             "#7fbc41"
            ],
            [
             0.9,
             "#4d9221"
            ],
            [
             1,
             "#276419"
            ]
           ],
           "sequential": [
            [
             0,
             "#0d0887"
            ],
            [
             0.1111111111111111,
             "#46039f"
            ],
            [
             0.2222222222222222,
             "#7201a8"
            ],
            [
             0.3333333333333333,
             "#9c179e"
            ],
            [
             0.4444444444444444,
             "#bd3786"
            ],
            [
             0.5555555555555556,
             "#d8576b"
            ],
            [
             0.6666666666666666,
             "#ed7953"
            ],
            [
             0.7777777777777778,
             "#fb9f3a"
            ],
            [
             0.8888888888888888,
             "#fdca26"
            ],
            [
             1,
             "#f0f921"
            ]
           ],
           "sequentialminus": [
            [
             0,
             "#0d0887"
            ],
            [
             0.1111111111111111,
             "#46039f"
            ],
            [
             0.2222222222222222,
             "#7201a8"
            ],
            [
             0.3333333333333333,
             "#9c179e"
            ],
            [
             0.4444444444444444,
             "#bd3786"
            ],
            [
             0.5555555555555556,
             "#d8576b"
            ],
            [
             0.6666666666666666,
             "#ed7953"
            ],
            [
             0.7777777777777778,
             "#fb9f3a"
            ],
            [
             0.8888888888888888,
             "#fdca26"
            ],
            [
             1,
             "#f0f921"
            ]
           ]
          },
          "colorway": [
           "#636efa",
           "#EF553B",
           "#00cc96",
           "#ab63fa",
           "#FFA15A",
           "#19d3f3",
           "#FF6692",
           "#B6E880",
           "#FF97FF",
           "#FECB52"
          ],
          "font": {
           "color": "#2a3f5f"
          },
          "geo": {
           "bgcolor": "white",
           "lakecolor": "white",
           "landcolor": "#E5ECF6",
           "showlakes": true,
           "showland": true,
           "subunitcolor": "white"
          },
          "hoverlabel": {
           "align": "left"
          },
          "hovermode": "closest",
          "mapbox": {
           "style": "light"
          },
          "paper_bgcolor": "white",
          "plot_bgcolor": "#E5ECF6",
          "polar": {
           "angularaxis": {
            "gridcolor": "white",
            "linecolor": "white",
            "ticks": ""
           },
           "bgcolor": "#E5ECF6",
           "radialaxis": {
            "gridcolor": "white",
            "linecolor": "white",
            "ticks": ""
           }
          },
          "scene": {
           "xaxis": {
            "backgroundcolor": "#E5ECF6",
            "gridcolor": "white",
            "gridwidth": 2,
            "linecolor": "white",
            "showbackground": true,
            "ticks": "",
            "zerolinecolor": "white"
           },
           "yaxis": {
            "backgroundcolor": "#E5ECF6",
            "gridcolor": "white",
            "gridwidth": 2,
            "linecolor": "white",
            "showbackground": true,
            "ticks": "",
            "zerolinecolor": "white"
           },
           "zaxis": {
            "backgroundcolor": "#E5ECF6",
            "gridcolor": "white",
            "gridwidth": 2,
            "linecolor": "white",
            "showbackground": true,
            "ticks": "",
            "zerolinecolor": "white"
           }
          },
          "shapedefaults": {
           "line": {
            "color": "#2a3f5f"
           }
          },
          "ternary": {
           "aaxis": {
            "gridcolor": "white",
            "linecolor": "white",
            "ticks": ""
           },
           "baxis": {
            "gridcolor": "white",
            "linecolor": "white",
            "ticks": ""
           },
           "bgcolor": "#E5ECF6",
           "caxis": {
            "gridcolor": "white",
            "linecolor": "white",
            "ticks": ""
           }
          },
          "title": {
           "x": 0.05
          },
          "xaxis": {
           "automargin": true,
           "gridcolor": "white",
           "linecolor": "white",
           "ticks": "",
           "title": {
            "standoff": 15
           },
           "zerolinecolor": "white",
           "zerolinewidth": 2
          },
          "yaxis": {
           "automargin": true,
           "gridcolor": "white",
           "linecolor": "white",
           "ticks": "",
           "title": {
            "standoff": 15
           },
           "zerolinecolor": "white",
           "zerolinewidth": 2
          }
         }
        },
        "title": {
         "text": "Sex Distribution"
        }
       }
      }
     },
     "metadata": {},
     "output_type": "display_data"
    }
   ],
   "source": [
    "fig = px.pie(df, names=\"Sex\")\n",
    "\n",
    "fig.update_layout(\n",
    "    title=\"Sex Distribution\",\n",
    ")\n",
    "\n",
    "fig.show()"
   ]
  },
  {
   "cell_type": "markdown",
   "metadata": {},
   "source": [
    "**Add the figure to the report**"
   ]
  },
  {
   "cell_type": "code",
   "execution_count": 7,
   "metadata": {},
   "outputs": [],
   "source": [
    "report.log_plotly_figure(\n",
    "    fig=fig,\n",
    "    caption=\"Sex Distribution\",\n",
    "    section_name=\"datasets\",\n",
    ")"
   ]
  },
  {
   "cell_type": "markdown",
   "metadata": {},
   "source": [
    "###  Age distribution"
   ]
  },
  {
   "cell_type": "code",
   "execution_count": 8,
   "metadata": {
    "tags": []
   },
   "outputs": [
    {
     "data": {
      "application/vnd.plotly.v1+json": {
       "config": {
        "plotlyServerURL": "https://plot.ly"
       },
       "data": [
        {
         "alignmentgroup": "True",
         "bingroup": "x",
         "hovertemplate": "Age=%{x}<br>count=%{y}<extra></extra>",
         "legendgroup": "",
         "marker": {
          "color": "#636efa",
          "pattern": {
           "shape": ""
          }
         },
         "name": "",
         "offsetgroup": "",
         "orientation": "v",
         "showlegend": false,
         "type": "histogram",
         "x": [
          40,
          49,
          37,
          48,
          54,
          39,
          45,
          54,
          37,
          48,
          37,
          58,
          39,
          49,
          42,
          54,
          38,
          43,
          60,
          36,
          43,
          44,
          49,
          44,
          40,
          36,
          53,
          52,
          53,
          51,
          53,
          56,
          54,
          41,
          43,
          32,
          65,
          41,
          48,
          48,
          54,
          54,
          35,
          52,
          43,
          59,
          37,
          50,
          36,
          41,
          50,
          47,
          45,
          41,
          52,
          51,
          31,
          58,
          54,
          52,
          49,
          43,
          45,
          46,
          50,
          37,
          45,
          32,
          52,
          44,
          57,
          44,
          52,
          44,
          55,
          46,
          32,
          35,
          52,
          49,
          55,
          54,
          63,
          52,
          56,
          66,
          65,
          53,
          43,
          55,
          49,
          39,
          52,
          48,
          39,
          58,
          43,
          39,
          56,
          41,
          65,
          51,
          40,
          40,
          46,
          57,
          48,
          34,
          50,
          39,
          59,
          57,
          47,
          38,
          49,
          33,
          38,
          59,
          35,
          34,
          47,
          52,
          46,
          58,
          58,
          54,
          34,
          48,
          54,
          42,
          38,
          46,
          56,
          56,
          61,
          49,
          43,
          39,
          54,
          43,
          52,
          50,
          47,
          53,
          56,
          39,
          42,
          43,
          50,
          54,
          39,
          48,
          40,
          55,
          41,
          56,
          38,
          49,
          44,
          54,
          59,
          49,
          47,
          42,
          52,
          46,
          50,
          48,
          58,
          58,
          29,
          40,
          53,
          49,
          52,
          43,
          54,
          59,
          37,
          46,
          52,
          51,
          52,
          46,
          54,
          58,
          58,
          41,
          50,
          53,
          46,
          50,
          48,
          45,
          41,
          62,
          49,
          42,
          53,
          57,
          47,
          46,
          42,
          31,
          56,
          50,
          35,
          35,
          28,
          54,
          48,
          50,
          56,
          56,
          47,
          30,
          39,
          54,
          55,
          29,
          46,
          51,
          48,
          33,
          55,
          50,
          53,
          38,
          41,
          37,
          37,
          40,
          38,
          41,
          54,
          39,
          41,
          55,
          48,
          48,
          55,
          54,
          55,
          43,
          48,
          54,
          54,
          48,
          45,
          49,
          44,
          48,
          61,
          62,
          55,
          53,
          55,
          36,
          51,
          55,
          46,
          54,
          46,
          59,
          47,
          54,
          52,
          34,
          54,
          47,
          45,
          32,
          55,
          55,
          45,
          59,
          51,
          52,
          57,
          54,
          60,
          49,
          51,
          55,
          42,
          51,
          59,
          53,
          48,
          36,
          48,
          47,
          53,
          65,
          32,
          61,
          50,
          57,
          51,
          47,
          60,
          55,
          53,
          62,
          51,
          51,
          55,
          53,
          58,
          57,
          65,
          60,
          41,
          34,
          53,
          74,
          57,
          56,
          61,
          68,
          59,
          63,
          38,
          62,
          46,
          42,
          45,
          59,
          52,
          60,
          60,
          56,
          38,
          40,
          51,
          62,
          72,
          63,
          63,
          64,
          43,
          64,
          61,
          52,
          51,
          69,
          59,
          48,
          69,
          36,
          53,
          43,
          56,
          58,
          55,
          67,
          46,
          53,
          38,
          53,
          62,
          47,
          56,
          56,
          56,
          64,
          61,
          68,
          57,
          63,
          60,
          66,
          63,
          59,
          61,
          73,
          47,
          65,
          70,
          50,
          60,
          50,
          43,
          38,
          54,
          61,
          42,
          53,
          55,
          61,
          51,
          70,
          61,
          38,
          57,
          38,
          62,
          58,
          52,
          61,
          50,
          51,
          65,
          52,
          47,
          35,
          57,
          62,
          59,
          53,
          62,
          54,
          56,
          56,
          54,
          66,
          63,
          44,
          60,
          55,
          66,
          66,
          65,
          60,
          60,
          60,
          56,
          59,
          62,
          63,
          57,
          62,
          63,
          46,
          63,
          60,
          58,
          64,
          63,
          74,
          52,
          69,
          51,
          60,
          56,
          55,
          54,
          77,
          63,
          55,
          52,
          64,
          60,
          60,
          58,
          59,
          61,
          40,
          61,
          41,
          57,
          63,
          59,
          51,
          59,
          42,
          55,
          63,
          62,
          56,
          53,
          68,
          53,
          60,
          62,
          59,
          51,
          61,
          57,
          56,
          58,
          69,
          67,
          58,
          65,
          63,
          55,
          57,
          65,
          54,
          72,
          75,
          49,
          51,
          60,
          64,
          58,
          61,
          67,
          62,
          65,
          63,
          69,
          51,
          62,
          55,
          75,
          40,
          67,
          58,
          60,
          63,
          35,
          62,
          43,
          63,
          68,
          65,
          48,
          63,
          64,
          61,
          50,
          59,
          55,
          45,
          65,
          61,
          49,
          72,
          50,
          64,
          55,
          63,
          59,
          56,
          62,
          74,
          54,
          57,
          62,
          76,
          54,
          70,
          61,
          48,
          48,
          61,
          66,
          68,
          55,
          62,
          71,
          74,
          53,
          58,
          75,
          56,
          58,
          64,
          54,
          54,
          59,
          55,
          57,
          61,
          41,
          71,
          38,
          55,
          56,
          69,
          64,
          72,
          69,
          56,
          62,
          67,
          57,
          69,
          51,
          48,
          69,
          69,
          64,
          57,
          53,
          37,
          67,
          74,
          63,
          58,
          61,
          64,
          58,
          60,
          57,
          55,
          55,
          56,
          57,
          61,
          61,
          74,
          68,
          51,
          62,
          53,
          62,
          46,
          54,
          62,
          55,
          58,
          62,
          70,
          67,
          57,
          64,
          74,
          65,
          56,
          59,
          60,
          63,
          59,
          53,
          44,
          61,
          57,
          71,
          46,
          53,
          64,
          40,
          67,
          48,
          43,
          47,
          54,
          48,
          46,
          51,
          58,
          71,
          57,
          66,
          37,
          59,
          50,
          48,
          61,
          59,
          42,
          48,
          40,
          62,
          44,
          46,
          59,
          58,
          49,
          44,
          66,
          65,
          42,
          52,
          65,
          63,
          45,
          41,
          61,
          60,
          59,
          62,
          57,
          51,
          44,
          60,
          63,
          57,
          51,
          58,
          44,
          47,
          61,
          57,
          70,
          76,
          67,
          45,
          45,
          39,
          42,
          56,
          58,
          35,
          58,
          41,
          57,
          42,
          62,
          59,
          41,
          50,
          59,
          61,
          54,
          54,
          52,
          47,
          66,
          58,
          64,
          50,
          44,
          67,
          49,
          57,
          63,
          48,
          51,
          60,
          59,
          45,
          55,
          41,
          60,
          54,
          42,
          49,
          46,
          56,
          66,
          56,
          49,
          54,
          57,
          65,
          54,
          54,
          62,
          52,
          52,
          60,
          63,
          66,
          42,
          64,
          54,
          46,
          67,
          56,
          34,
          57,
          64,
          59,
          50,
          51,
          54,
          53,
          52,
          40,
          58,
          41,
          41,
          50,
          54,
          64,
          51,
          46,
          55,
          45,
          56,
          66,
          38,
          62,
          55,
          58,
          43,
          64,
          50,
          53,
          45,
          65,
          69,
          69,
          67,
          68,
          34,
          62,
          51,
          46,
          67,
          50,
          42,
          56,
          41,
          42,
          53,
          43,
          56,
          52,
          62,
          70,
          54,
          70,
          54,
          35,
          48,
          55,
          58,
          54,
          69,
          77,
          68,
          58,
          60,
          51,
          55,
          52,
          60,
          58,
          64,
          37,
          59,
          51,
          43,
          58,
          29,
          41,
          63,
          51,
          54,
          44,
          54,
          65,
          57,
          63,
          35,
          41,
          62,
          43,
          58,
          52,
          61,
          39,
          45,
          52,
          62,
          62,
          53,
          43,
          47,
          52,
          68,
          39,
          53,
          62,
          51,
          60,
          65,
          65,
          60,
          60,
          54,
          44,
          44,
          51,
          59,
          71,
          61,
          55,
          64,
          43,
          58,
          60,
          58,
          49,
          48,
          52,
          44,
          56,
          57,
          67,
          53,
          52,
          43,
          52,
          59,
          64,
          66,
          39,
          57,
          58,
          57,
          47,
          55,
          35,
          61,
          58,
          58,
          58,
          56,
          56,
          67,
          55,
          44,
          63,
          63,
          41,
          59,
          57,
          45,
          68,
          57,
          57,
          38
         ],
         "xaxis": "x",
         "yaxis": "y"
        }
       ],
       "layout": {
        "bargap": 0.2,
        "barmode": "relative",
        "legend": {
         "tracegroupgap": 0
        },
        "margin": {
         "t": 60
        },
        "template": {
         "data": {
          "bar": [
           {
            "error_x": {
             "color": "#2a3f5f"
            },
            "error_y": {
             "color": "#2a3f5f"
            },
            "marker": {
             "line": {
              "color": "#E5ECF6",
              "width": 0.5
             },
             "pattern": {
              "fillmode": "overlay",
              "size": 10,
              "solidity": 0.2
             }
            },
            "type": "bar"
           }
          ],
          "barpolar": [
           {
            "marker": {
             "line": {
              "color": "#E5ECF6",
              "width": 0.5
             },
             "pattern": {
              "fillmode": "overlay",
              "size": 10,
              "solidity": 0.2
             }
            },
            "type": "barpolar"
           }
          ],
          "carpet": [
           {
            "aaxis": {
             "endlinecolor": "#2a3f5f",
             "gridcolor": "white",
             "linecolor": "white",
             "minorgridcolor": "white",
             "startlinecolor": "#2a3f5f"
            },
            "baxis": {
             "endlinecolor": "#2a3f5f",
             "gridcolor": "white",
             "linecolor": "white",
             "minorgridcolor": "white",
             "startlinecolor": "#2a3f5f"
            },
            "type": "carpet"
           }
          ],
          "choropleth": [
           {
            "colorbar": {
             "outlinewidth": 0,
             "ticks": ""
            },
            "type": "choropleth"
           }
          ],
          "contour": [
           {
            "colorbar": {
             "outlinewidth": 0,
             "ticks": ""
            },
            "colorscale": [
             [
              0,
              "#0d0887"
             ],
             [
              0.1111111111111111,
              "#46039f"
             ],
             [
              0.2222222222222222,
              "#7201a8"
             ],
             [
              0.3333333333333333,
              "#9c179e"
             ],
             [
              0.4444444444444444,
              "#bd3786"
             ],
             [
              0.5555555555555556,
              "#d8576b"
             ],
             [
              0.6666666666666666,
              "#ed7953"
             ],
             [
              0.7777777777777778,
              "#fb9f3a"
             ],
             [
              0.8888888888888888,
              "#fdca26"
             ],
             [
              1,
              "#f0f921"
             ]
            ],
            "type": "contour"
           }
          ],
          "contourcarpet": [
           {
            "colorbar": {
             "outlinewidth": 0,
             "ticks": ""
            },
            "type": "contourcarpet"
           }
          ],
          "heatmap": [
           {
            "colorbar": {
             "outlinewidth": 0,
             "ticks": ""
            },
            "colorscale": [
             [
              0,
              "#0d0887"
             ],
             [
              0.1111111111111111,
              "#46039f"
             ],
             [
              0.2222222222222222,
              "#7201a8"
             ],
             [
              0.3333333333333333,
              "#9c179e"
             ],
             [
              0.4444444444444444,
              "#bd3786"
             ],
             [
              0.5555555555555556,
              "#d8576b"
             ],
             [
              0.6666666666666666,
              "#ed7953"
             ],
             [
              0.7777777777777778,
              "#fb9f3a"
             ],
             [
              0.8888888888888888,
              "#fdca26"
             ],
             [
              1,
              "#f0f921"
             ]
            ],
            "type": "heatmap"
           }
          ],
          "heatmapgl": [
           {
            "colorbar": {
             "outlinewidth": 0,
             "ticks": ""
            },
            "colorscale": [
             [
              0,
              "#0d0887"
             ],
             [
              0.1111111111111111,
              "#46039f"
             ],
             [
              0.2222222222222222,
              "#7201a8"
             ],
             [
              0.3333333333333333,
              "#9c179e"
             ],
             [
              0.4444444444444444,
              "#bd3786"
             ],
             [
              0.5555555555555556,
              "#d8576b"
             ],
             [
              0.6666666666666666,
              "#ed7953"
             ],
             [
              0.7777777777777778,
              "#fb9f3a"
             ],
             [
              0.8888888888888888,
              "#fdca26"
             ],
             [
              1,
              "#f0f921"
             ]
            ],
            "type": "heatmapgl"
           }
          ],
          "histogram": [
           {
            "marker": {
             "pattern": {
              "fillmode": "overlay",
              "size": 10,
              "solidity": 0.2
             }
            },
            "type": "histogram"
           }
          ],
          "histogram2d": [
           {
            "colorbar": {
             "outlinewidth": 0,
             "ticks": ""
            },
            "colorscale": [
             [
              0,
              "#0d0887"
             ],
             [
              0.1111111111111111,
              "#46039f"
             ],
             [
              0.2222222222222222,
              "#7201a8"
             ],
             [
              0.3333333333333333,
              "#9c179e"
             ],
             [
              0.4444444444444444,
              "#bd3786"
             ],
             [
              0.5555555555555556,
              "#d8576b"
             ],
             [
              0.6666666666666666,
              "#ed7953"
             ],
             [
              0.7777777777777778,
              "#fb9f3a"
             ],
             [
              0.8888888888888888,
              "#fdca26"
             ],
             [
              1,
              "#f0f921"
             ]
            ],
            "type": "histogram2d"
           }
          ],
          "histogram2dcontour": [
           {
            "colorbar": {
             "outlinewidth": 0,
             "ticks": ""
            },
            "colorscale": [
             [
              0,
              "#0d0887"
             ],
             [
              0.1111111111111111,
              "#46039f"
             ],
             [
              0.2222222222222222,
              "#7201a8"
             ],
             [
              0.3333333333333333,
              "#9c179e"
             ],
             [
              0.4444444444444444,
              "#bd3786"
             ],
             [
              0.5555555555555556,
              "#d8576b"
             ],
             [
              0.6666666666666666,
              "#ed7953"
             ],
             [
              0.7777777777777778,
              "#fb9f3a"
             ],
             [
              0.8888888888888888,
              "#fdca26"
             ],
             [
              1,
              "#f0f921"
             ]
            ],
            "type": "histogram2dcontour"
           }
          ],
          "mesh3d": [
           {
            "colorbar": {
             "outlinewidth": 0,
             "ticks": ""
            },
            "type": "mesh3d"
           }
          ],
          "parcoords": [
           {
            "line": {
             "colorbar": {
              "outlinewidth": 0,
              "ticks": ""
             }
            },
            "type": "parcoords"
           }
          ],
          "pie": [
           {
            "automargin": true,
            "type": "pie"
           }
          ],
          "scatter": [
           {
            "fillpattern": {
             "fillmode": "overlay",
             "size": 10,
             "solidity": 0.2
            },
            "type": "scatter"
           }
          ],
          "scatter3d": [
           {
            "line": {
             "colorbar": {
              "outlinewidth": 0,
              "ticks": ""
             }
            },
            "marker": {
             "colorbar": {
              "outlinewidth": 0,
              "ticks": ""
             }
            },
            "type": "scatter3d"
           }
          ],
          "scattercarpet": [
           {
            "marker": {
             "colorbar": {
              "outlinewidth": 0,
              "ticks": ""
             }
            },
            "type": "scattercarpet"
           }
          ],
          "scattergeo": [
           {
            "marker": {
             "colorbar": {
              "outlinewidth": 0,
              "ticks": ""
             }
            },
            "type": "scattergeo"
           }
          ],
          "scattergl": [
           {
            "marker": {
             "colorbar": {
              "outlinewidth": 0,
              "ticks": ""
             }
            },
            "type": "scattergl"
           }
          ],
          "scattermapbox": [
           {
            "marker": {
             "colorbar": {
              "outlinewidth": 0,
              "ticks": ""
             }
            },
            "type": "scattermapbox"
           }
          ],
          "scatterpolar": [
           {
            "marker": {
             "colorbar": {
              "outlinewidth": 0,
              "ticks": ""
             }
            },
            "type": "scatterpolar"
           }
          ],
          "scatterpolargl": [
           {
            "marker": {
             "colorbar": {
              "outlinewidth": 0,
              "ticks": ""
             }
            },
            "type": "scatterpolargl"
           }
          ],
          "scatterternary": [
           {
            "marker": {
             "colorbar": {
              "outlinewidth": 0,
              "ticks": ""
             }
            },
            "type": "scatterternary"
           }
          ],
          "surface": [
           {
            "colorbar": {
             "outlinewidth": 0,
             "ticks": ""
            },
            "colorscale": [
             [
              0,
              "#0d0887"
             ],
             [
              0.1111111111111111,
              "#46039f"
             ],
             [
              0.2222222222222222,
              "#7201a8"
             ],
             [
              0.3333333333333333,
              "#9c179e"
             ],
             [
              0.4444444444444444,
              "#bd3786"
             ],
             [
              0.5555555555555556,
              "#d8576b"
             ],
             [
              0.6666666666666666,
              "#ed7953"
             ],
             [
              0.7777777777777778,
              "#fb9f3a"
             ],
             [
              0.8888888888888888,
              "#fdca26"
             ],
             [
              1,
              "#f0f921"
             ]
            ],
            "type": "surface"
           }
          ],
          "table": [
           {
            "cells": {
             "fill": {
              "color": "#EBF0F8"
             },
             "line": {
              "color": "white"
             }
            },
            "header": {
             "fill": {
              "color": "#C8D4E3"
             },
             "line": {
              "color": "white"
             }
            },
            "type": "table"
           }
          ]
         },
         "layout": {
          "annotationdefaults": {
           "arrowcolor": "#2a3f5f",
           "arrowhead": 0,
           "arrowwidth": 1
          },
          "autotypenumbers": "strict",
          "coloraxis": {
           "colorbar": {
            "outlinewidth": 0,
            "ticks": ""
           }
          },
          "colorscale": {
           "diverging": [
            [
             0,
             "#8e0152"
            ],
            [
             0.1,
             "#c51b7d"
            ],
            [
             0.2,
             "#de77ae"
            ],
            [
             0.3,
             "#f1b6da"
            ],
            [
             0.4,
             "#fde0ef"
            ],
            [
             0.5,
             "#f7f7f7"
            ],
            [
             0.6,
             "#e6f5d0"
            ],
            [
             0.7,
             "#b8e186"
            ],
            [
             0.8,
             "#7fbc41"
            ],
            [
             0.9,
             "#4d9221"
            ],
            [
             1,
             "#276419"
            ]
           ],
           "sequential": [
            [
             0,
             "#0d0887"
            ],
            [
             0.1111111111111111,
             "#46039f"
            ],
            [
             0.2222222222222222,
             "#7201a8"
            ],
            [
             0.3333333333333333,
             "#9c179e"
            ],
            [
             0.4444444444444444,
             "#bd3786"
            ],
            [
             0.5555555555555556,
             "#d8576b"
            ],
            [
             0.6666666666666666,
             "#ed7953"
            ],
            [
             0.7777777777777778,
             "#fb9f3a"
            ],
            [
             0.8888888888888888,
             "#fdca26"
            ],
            [
             1,
             "#f0f921"
            ]
           ],
           "sequentialminus": [
            [
             0,
             "#0d0887"
            ],
            [
             0.1111111111111111,
             "#46039f"
            ],
            [
             0.2222222222222222,
             "#7201a8"
            ],
            [
             0.3333333333333333,
             "#9c179e"
            ],
            [
             0.4444444444444444,
             "#bd3786"
            ],
            [
             0.5555555555555556,
             "#d8576b"
            ],
            [
             0.6666666666666666,
             "#ed7953"
            ],
            [
             0.7777777777777778,
             "#fb9f3a"
            ],
            [
             0.8888888888888888,
             "#fdca26"
            ],
            [
             1,
             "#f0f921"
            ]
           ]
          },
          "colorway": [
           "#636efa",
           "#EF553B",
           "#00cc96",
           "#ab63fa",
           "#FFA15A",
           "#19d3f3",
           "#FF6692",
           "#B6E880",
           "#FF97FF",
           "#FECB52"
          ],
          "font": {
           "color": "#2a3f5f"
          },
          "geo": {
           "bgcolor": "white",
           "lakecolor": "white",
           "landcolor": "#E5ECF6",
           "showlakes": true,
           "showland": true,
           "subunitcolor": "white"
          },
          "hoverlabel": {
           "align": "left"
          },
          "hovermode": "closest",
          "mapbox": {
           "style": "light"
          },
          "paper_bgcolor": "white",
          "plot_bgcolor": "#E5ECF6",
          "polar": {
           "angularaxis": {
            "gridcolor": "white",
            "linecolor": "white",
            "ticks": ""
           },
           "bgcolor": "#E5ECF6",
           "radialaxis": {
            "gridcolor": "white",
            "linecolor": "white",
            "ticks": ""
           }
          },
          "scene": {
           "xaxis": {
            "backgroundcolor": "#E5ECF6",
            "gridcolor": "white",
            "gridwidth": 2,
            "linecolor": "white",
            "showbackground": true,
            "ticks": "",
            "zerolinecolor": "white"
           },
           "yaxis": {
            "backgroundcolor": "#E5ECF6",
            "gridcolor": "white",
            "gridwidth": 2,
            "linecolor": "white",
            "showbackground": true,
            "ticks": "",
            "zerolinecolor": "white"
           },
           "zaxis": {
            "backgroundcolor": "#E5ECF6",
            "gridcolor": "white",
            "gridwidth": 2,
            "linecolor": "white",
            "showbackground": true,
            "ticks": "",
            "zerolinecolor": "white"
           }
          },
          "shapedefaults": {
           "line": {
            "color": "#2a3f5f"
           }
          },
          "ternary": {
           "aaxis": {
            "gridcolor": "white",
            "linecolor": "white",
            "ticks": ""
           },
           "baxis": {
            "gridcolor": "white",
            "linecolor": "white",
            "ticks": ""
           },
           "bgcolor": "#E5ECF6",
           "caxis": {
            "gridcolor": "white",
            "linecolor": "white",
            "ticks": ""
           }
          },
          "title": {
           "x": 0.05
          },
          "xaxis": {
           "automargin": true,
           "gridcolor": "white",
           "linecolor": "white",
           "ticks": "",
           "title": {
            "standoff": 15
           },
           "zerolinecolor": "white",
           "zerolinewidth": 2
          },
          "yaxis": {
           "automargin": true,
           "gridcolor": "white",
           "linecolor": "white",
           "ticks": "",
           "title": {
            "standoff": 15
           },
           "zerolinecolor": "white",
           "zerolinewidth": 2
          }
         }
        },
        "title": {
         "text": "Age Distribution"
        },
        "xaxis": {
         "anchor": "y",
         "domain": [
          0,
          1
         ],
         "title": {
          "text": "Age"
         }
        },
        "yaxis": {
         "anchor": "x",
         "domain": [
          0,
          1
         ],
         "title": {
          "text": "Count"
         }
        }
       }
      }
     },
     "metadata": {},
     "output_type": "display_data"
    }
   ],
   "source": [
    "fig = px.histogram(df, x=\"Age\")\n",
    "fig.update_layout(\n",
    "    title=\"Age Distribution\",\n",
    "    xaxis_title=\"Age\",\n",
    "    yaxis_title=\"Count\",\n",
    "    bargap=0.2,\n",
    ")\n",
    "\n",
    "fig.show()"
   ]
  },
  {
   "cell_type": "markdown",
   "metadata": {},
   "source": [
    "**Add the figure to the report**"
   ]
  },
  {
   "cell_type": "code",
   "execution_count": 9,
   "metadata": {},
   "outputs": [],
   "source": [
    "report.log_plotly_figure(\n",
    "    fig=fig,\n",
    "    caption=\"Age Distribution\",\n",
    "    section_name=\"datasets\",\n",
    ")"
   ]
  },
  {
   "cell_type": "markdown",
   "metadata": {},
   "source": [
    "### Outcome distribution"
   ]
  },
  {
   "cell_type": "code",
   "execution_count": 10,
   "metadata": {
    "tags": []
   },
   "outputs": [],
   "source": [
    "df[\"outcome\"] = df[\"HeartDisease\"].astype(\"int\")\n",
    "df = df.drop(columns=[\"HeartDisease\"])"
   ]
  },
  {
   "cell_type": "code",
   "execution_count": 11,
   "metadata": {
    "tags": []
   },
   "outputs": [
    {
     "data": {
      "application/vnd.plotly.v1+json": {
       "config": {
        "plotlyServerURL": "https://plot.ly"
       },
       "data": [
        {
         "domain": {
          "x": [
           0,
           1
          ],
          "y": [
           0,
           1
          ]
         },
         "hovertemplate": "Outcome: %{label}<br>Count:     %{value}<br>Percent: %{percent}",
         "labels": [
          0,
          1,
          0,
          1,
          0,
          0,
          0,
          0,
          1,
          0,
          0,
          1,
          0,
          1,
          0,
          0,
          1,
          0,
          1,
          1,
          0,
          0,
          0,
          1,
          0,
          0,
          0,
          0,
          0,
          0,
          1,
          0,
          1,
          1,
          0,
          0,
          1,
          0,
          0,
          0,
          0,
          1,
          0,
          0,
          1,
          0,
          0,
          0,
          0,
          1,
          1,
          1,
          0,
          0,
          0,
          0,
          1,
          1,
          0,
          1,
          0,
          0,
          0,
          1,
          0,
          0,
          0,
          0,
          1,
          0,
          1,
          0,
          1,
          0,
          1,
          0,
          1,
          0,
          0,
          1,
          0,
          0,
          1,
          0,
          1,
          1,
          1,
          0,
          1,
          0,
          0,
          0,
          0,
          1,
          0,
          1,
          0,
          0,
          0,
          0,
          1,
          0,
          1,
          1,
          1,
          0,
          0,
          0,
          0,
          0,
          0,
          1,
          0,
          0,
          0,
          1,
          1,
          1,
          0,
          1,
          1,
          0,
          0,
          1,
          0,
          0,
          0,
          0,
          0,
          0,
          0,
          1,
          1,
          1,
          0,
          1,
          0,
          0,
          1,
          1,
          1,
          1,
          1,
          0,
          1,
          0,
          0,
          0,
          0,
          1,
          0,
          0,
          0,
          0,
          0,
          1,
          1,
          0,
          1,
          0,
          1,
          1,
          0,
          0,
          0,
          1,
          1,
          0,
          0,
          0,
          0,
          0,
          0,
          0,
          1,
          1,
          1,
          0,
          0,
          0,
          1,
          0,
          1,
          0,
          0,
          1,
          0,
          1,
          0,
          1,
          0,
          0,
          0,
          0,
          0,
          0,
          0,
          0,
          1,
          0,
          0,
          0,
          0,
          0,
          0,
          0,
          0,
          1,
          0,
          1,
          1,
          1,
          0,
          0,
          1,
          0,
          1,
          0,
          0,
          0,
          1,
          1,
          0,
          0,
          0,
          1,
          0,
          1,
          0,
          0,
          0,
          0,
          0,
          0,
          0,
          0,
          1,
          1,
          1,
          1,
          0,
          1,
          1,
          0,
          1,
          0,
          1,
          1,
          1,
          1,
          1,
          1,
          0,
          0,
          1,
          0,
          0,
          0,
          0,
          0,
          0,
          0,
          1,
          1,
          1,
          0,
          1,
          0,
          1,
          0,
          0,
          0,
          1,
          0,
          0,
          0,
          1,
          1,
          0,
          0,
          0,
          1,
          0,
          0,
          0,
          0,
          0,
          0,
          0,
          0,
          0,
          0,
          0,
          1,
          1,
          1,
          1,
          1,
          1,
          1,
          1,
          0,
          1,
          1,
          1,
          1,
          1,
          0,
          1,
          1,
          0,
          1,
          1,
          1,
          0,
          1,
          1,
          1,
          1,
          1,
          1,
          1,
          1,
          1,
          1,
          1,
          0,
          1,
          1,
          1,
          1,
          1,
          0,
          1,
          1,
          1,
          0,
          1,
          1,
          1,
          1,
          1,
          1,
          1,
          1,
          1,
          1,
          1,
          1,
          1,
          1,
          1,
          1,
          1,
          1,
          1,
          1,
          1,
          1,
          1,
          1,
          1,
          1,
          1,
          0,
          1,
          1,
          1,
          1,
          1,
          1,
          1,
          1,
          1,
          1,
          1,
          1,
          1,
          1,
          1,
          1,
          1,
          1,
          1,
          1,
          1,
          1,
          1,
          1,
          1,
          1,
          1,
          1,
          1,
          1,
          1,
          1,
          1,
          1,
          1,
          1,
          1,
          1,
          1,
          1,
          1,
          1,
          1,
          1,
          1,
          1,
          1,
          1,
          1,
          1,
          1,
          1,
          0,
          1,
          1,
          0,
          0,
          1,
          0,
          1,
          1,
          0,
          1,
          1,
          1,
          1,
          0,
          1,
          1,
          0,
          0,
          1,
          1,
          1,
          0,
          1,
          1,
          1,
          1,
          1,
          1,
          1,
          1,
          1,
          1,
          1,
          1,
          1,
          0,
          1,
          0,
          1,
          1,
          1,
          0,
          1,
          1,
          1,
          0,
          1,
          0,
          1,
          0,
          1,
          0,
          1,
          1,
          1,
          1,
          0,
          1,
          0,
          1,
          1,
          1,
          1,
          1,
          1,
          1,
          1,
          1,
          0,
          1,
          0,
          1,
          1,
          1,
          1,
          1,
          1,
          1,
          0,
          1,
          1,
          1,
          1,
          1,
          1,
          0,
          1,
          1,
          1,
          0,
          1,
          1,
          0,
          1,
          0,
          1,
          1,
          0,
          1,
          1,
          1,
          1,
          0,
          1,
          1,
          1,
          0,
          0,
          1,
          0,
          1,
          1,
          1,
          1,
          1,
          1,
          1,
          1,
          1,
          1,
          1,
          0,
          1,
          1,
          1,
          1,
          0,
          0,
          1,
          1,
          1,
          0,
          1,
          0,
          1,
          1,
          0,
          1,
          0,
          1,
          1,
          1,
          0,
          0,
          0,
          1,
          1,
          1,
          0,
          1,
          1,
          1,
          1,
          1,
          1,
          1,
          1,
          1,
          1,
          1,
          1,
          1,
          1,
          1,
          1,
          0,
          1,
          1,
          1,
          0,
          1,
          1,
          0,
          0,
          1,
          1,
          1,
          1,
          1,
          0,
          1,
          1,
          0,
          1,
          1,
          1,
          0,
          0,
          1,
          1,
          1,
          1,
          1,
          0,
          1,
          0,
          1,
          1,
          0,
          1,
          0,
          0,
          0,
          1,
          1,
          1,
          1,
          0,
          0,
          0,
          1,
          0,
          0,
          1,
          1,
          0,
          0,
          1,
          0,
          0,
          0,
          0,
          0,
          0,
          0,
          1,
          0,
          1,
          0,
          0,
          1,
          1,
          1,
          1,
          1,
          0,
          0,
          1,
          0,
          0,
          0,
          1,
          0,
          1,
          1,
          1,
          1,
          1,
          0,
          0,
          0,
          0,
          0,
          1,
          0,
          1,
          1,
          0,
          1,
          0,
          0,
          0,
          1,
          0,
          1,
          0,
          1,
          1,
          0,
          0,
          0,
          0,
          1,
          0,
          0,
          0,
          0,
          1,
          1,
          1,
          0,
          0,
          0,
          0,
          0,
          0,
          1,
          0,
          1,
          1,
          1,
          1,
          1,
          0,
          1,
          0,
          0,
          0,
          1,
          0,
          1,
          1,
          1,
          0,
          1,
          1,
          0,
          1,
          0,
          1,
          0,
          0,
          0,
          1,
          1,
          0,
          1,
          1,
          1,
          1,
          0,
          0,
          0,
          1,
          0,
          0,
          1,
          1,
          1,
          0,
          1,
          0,
          0,
          0,
          1,
          0,
          0,
          1,
          0,
          1,
          0,
          1,
          1,
          1,
          1,
          1,
          0,
          0,
          0,
          0,
          0,
          0,
          0,
          1,
          0,
          0,
          1,
          1,
          1,
          0,
          1,
          0,
          0,
          0,
          0,
          0,
          1,
          0,
          1,
          1,
          0,
          0,
          1,
          1,
          1,
          1,
          0,
          0,
          1,
          1,
          0,
          0,
          0,
          1,
          0,
          0,
          1,
          0,
          1,
          0,
          1,
          0,
          0,
          0,
          0,
          0,
          1,
          0,
          1,
          1,
          1,
          1,
          0,
          0,
          0,
          1,
          0,
          1,
          0,
          0,
          1,
          0,
          0,
          0,
          0,
          0,
          0,
          1,
          1,
          0,
          1,
          0,
          0,
          1,
          1,
          0,
          0,
          1,
          1,
          0,
          1,
          0,
          1,
          0,
          1,
          0,
          0,
          1,
          0,
          0,
          1,
          0,
          1,
          1,
          0,
          1,
          1,
          1,
          0,
          1,
          0,
          0,
          0,
          0,
          1,
          1,
          0,
          0,
          1,
          1,
          0,
          1,
          0,
          0,
          0,
          0,
          1,
          0,
          0,
          1,
          1,
          1,
          0,
          0,
          0,
          1,
          0,
          1,
          0,
          1,
          0,
          1,
          1,
          1,
          0,
          0,
          0,
          1,
          0,
          1,
          1,
          1,
          0,
          1,
          1,
          1,
          1,
          1,
          1,
          0
         ],
         "legendgroup": "",
         "name": "",
         "showlegend": true,
         "textinfo": "percent+label",
         "type": "pie"
        }
       ],
       "layout": {
        "legend": {
         "tracegroupgap": 0
        },
        "margin": {
         "t": 60
        },
        "template": {
         "data": {
          "bar": [
           {
            "error_x": {
             "color": "#2a3f5f"
            },
            "error_y": {
             "color": "#2a3f5f"
            },
            "marker": {
             "line": {
              "color": "#E5ECF6",
              "width": 0.5
             },
             "pattern": {
              "fillmode": "overlay",
              "size": 10,
              "solidity": 0.2
             }
            },
            "type": "bar"
           }
          ],
          "barpolar": [
           {
            "marker": {
             "line": {
              "color": "#E5ECF6",
              "width": 0.5
             },
             "pattern": {
              "fillmode": "overlay",
              "size": 10,
              "solidity": 0.2
             }
            },
            "type": "barpolar"
           }
          ],
          "carpet": [
           {
            "aaxis": {
             "endlinecolor": "#2a3f5f",
             "gridcolor": "white",
             "linecolor": "white",
             "minorgridcolor": "white",
             "startlinecolor": "#2a3f5f"
            },
            "baxis": {
             "endlinecolor": "#2a3f5f",
             "gridcolor": "white",
             "linecolor": "white",
             "minorgridcolor": "white",
             "startlinecolor": "#2a3f5f"
            },
            "type": "carpet"
           }
          ],
          "choropleth": [
           {
            "colorbar": {
             "outlinewidth": 0,
             "ticks": ""
            },
            "type": "choropleth"
           }
          ],
          "contour": [
           {
            "colorbar": {
             "outlinewidth": 0,
             "ticks": ""
            },
            "colorscale": [
             [
              0,
              "#0d0887"
             ],
             [
              0.1111111111111111,
              "#46039f"
             ],
             [
              0.2222222222222222,
              "#7201a8"
             ],
             [
              0.3333333333333333,
              "#9c179e"
             ],
             [
              0.4444444444444444,
              "#bd3786"
             ],
             [
              0.5555555555555556,
              "#d8576b"
             ],
             [
              0.6666666666666666,
              "#ed7953"
             ],
             [
              0.7777777777777778,
              "#fb9f3a"
             ],
             [
              0.8888888888888888,
              "#fdca26"
             ],
             [
              1,
              "#f0f921"
             ]
            ],
            "type": "contour"
           }
          ],
          "contourcarpet": [
           {
            "colorbar": {
             "outlinewidth": 0,
             "ticks": ""
            },
            "type": "contourcarpet"
           }
          ],
          "heatmap": [
           {
            "colorbar": {
             "outlinewidth": 0,
             "ticks": ""
            },
            "colorscale": [
             [
              0,
              "#0d0887"
             ],
             [
              0.1111111111111111,
              "#46039f"
             ],
             [
              0.2222222222222222,
              "#7201a8"
             ],
             [
              0.3333333333333333,
              "#9c179e"
             ],
             [
              0.4444444444444444,
              "#bd3786"
             ],
             [
              0.5555555555555556,
              "#d8576b"
             ],
             [
              0.6666666666666666,
              "#ed7953"
             ],
             [
              0.7777777777777778,
              "#fb9f3a"
             ],
             [
              0.8888888888888888,
              "#fdca26"
             ],
             [
              1,
              "#f0f921"
             ]
            ],
            "type": "heatmap"
           }
          ],
          "heatmapgl": [
           {
            "colorbar": {
             "outlinewidth": 0,
             "ticks": ""
            },
            "colorscale": [
             [
              0,
              "#0d0887"
             ],
             [
              0.1111111111111111,
              "#46039f"
             ],
             [
              0.2222222222222222,
              "#7201a8"
             ],
             [
              0.3333333333333333,
              "#9c179e"
             ],
             [
              0.4444444444444444,
              "#bd3786"
             ],
             [
              0.5555555555555556,
              "#d8576b"
             ],
             [
              0.6666666666666666,
              "#ed7953"
             ],
             [
              0.7777777777777778,
              "#fb9f3a"
             ],
             [
              0.8888888888888888,
              "#fdca26"
             ],
             [
              1,
              "#f0f921"
             ]
            ],
            "type": "heatmapgl"
           }
          ],
          "histogram": [
           {
            "marker": {
             "pattern": {
              "fillmode": "overlay",
              "size": 10,
              "solidity": 0.2
             }
            },
            "type": "histogram"
           }
          ],
          "histogram2d": [
           {
            "colorbar": {
             "outlinewidth": 0,
             "ticks": ""
            },
            "colorscale": [
             [
              0,
              "#0d0887"
             ],
             [
              0.1111111111111111,
              "#46039f"
             ],
             [
              0.2222222222222222,
              "#7201a8"
             ],
             [
              0.3333333333333333,
              "#9c179e"
             ],
             [
              0.4444444444444444,
              "#bd3786"
             ],
             [
              0.5555555555555556,
              "#d8576b"
             ],
             [
              0.6666666666666666,
              "#ed7953"
             ],
             [
              0.7777777777777778,
              "#fb9f3a"
             ],
             [
              0.8888888888888888,
              "#fdca26"
             ],
             [
              1,
              "#f0f921"
             ]
            ],
            "type": "histogram2d"
           }
          ],
          "histogram2dcontour": [
           {
            "colorbar": {
             "outlinewidth": 0,
             "ticks": ""
            },
            "colorscale": [
             [
              0,
              "#0d0887"
             ],
             [
              0.1111111111111111,
              "#46039f"
             ],
             [
              0.2222222222222222,
              "#7201a8"
             ],
             [
              0.3333333333333333,
              "#9c179e"
             ],
             [
              0.4444444444444444,
              "#bd3786"
             ],
             [
              0.5555555555555556,
              "#d8576b"
             ],
             [
              0.6666666666666666,
              "#ed7953"
             ],
             [
              0.7777777777777778,
              "#fb9f3a"
             ],
             [
              0.8888888888888888,
              "#fdca26"
             ],
             [
              1,
              "#f0f921"
             ]
            ],
            "type": "histogram2dcontour"
           }
          ],
          "mesh3d": [
           {
            "colorbar": {
             "outlinewidth": 0,
             "ticks": ""
            },
            "type": "mesh3d"
           }
          ],
          "parcoords": [
           {
            "line": {
             "colorbar": {
              "outlinewidth": 0,
              "ticks": ""
             }
            },
            "type": "parcoords"
           }
          ],
          "pie": [
           {
            "automargin": true,
            "type": "pie"
           }
          ],
          "scatter": [
           {
            "fillpattern": {
             "fillmode": "overlay",
             "size": 10,
             "solidity": 0.2
            },
            "type": "scatter"
           }
          ],
          "scatter3d": [
           {
            "line": {
             "colorbar": {
              "outlinewidth": 0,
              "ticks": ""
             }
            },
            "marker": {
             "colorbar": {
              "outlinewidth": 0,
              "ticks": ""
             }
            },
            "type": "scatter3d"
           }
          ],
          "scattercarpet": [
           {
            "marker": {
             "colorbar": {
              "outlinewidth": 0,
              "ticks": ""
             }
            },
            "type": "scattercarpet"
           }
          ],
          "scattergeo": [
           {
            "marker": {
             "colorbar": {
              "outlinewidth": 0,
              "ticks": ""
             }
            },
            "type": "scattergeo"
           }
          ],
          "scattergl": [
           {
            "marker": {
             "colorbar": {
              "outlinewidth": 0,
              "ticks": ""
             }
            },
            "type": "scattergl"
           }
          ],
          "scattermapbox": [
           {
            "marker": {
             "colorbar": {
              "outlinewidth": 0,
              "ticks": ""
             }
            },
            "type": "scattermapbox"
           }
          ],
          "scatterpolar": [
           {
            "marker": {
             "colorbar": {
              "outlinewidth": 0,
              "ticks": ""
             }
            },
            "type": "scatterpolar"
           }
          ],
          "scatterpolargl": [
           {
            "marker": {
             "colorbar": {
              "outlinewidth": 0,
              "ticks": ""
             }
            },
            "type": "scatterpolargl"
           }
          ],
          "scatterternary": [
           {
            "marker": {
             "colorbar": {
              "outlinewidth": 0,
              "ticks": ""
             }
            },
            "type": "scatterternary"
           }
          ],
          "surface": [
           {
            "colorbar": {
             "outlinewidth": 0,
             "ticks": ""
            },
            "colorscale": [
             [
              0,
              "#0d0887"
             ],
             [
              0.1111111111111111,
              "#46039f"
             ],
             [
              0.2222222222222222,
              "#7201a8"
             ],
             [
              0.3333333333333333,
              "#9c179e"
             ],
             [
              0.4444444444444444,
              "#bd3786"
             ],
             [
              0.5555555555555556,
              "#d8576b"
             ],
             [
              0.6666666666666666,
              "#ed7953"
             ],
             [
              0.7777777777777778,
              "#fb9f3a"
             ],
             [
              0.8888888888888888,
              "#fdca26"
             ],
             [
              1,
              "#f0f921"
             ]
            ],
            "type": "surface"
           }
          ],
          "table": [
           {
            "cells": {
             "fill": {
              "color": "#EBF0F8"
             },
             "line": {
              "color": "white"
             }
            },
            "header": {
             "fill": {
              "color": "#C8D4E3"
             },
             "line": {
              "color": "white"
             }
            },
            "type": "table"
           }
          ]
         },
         "layout": {
          "annotationdefaults": {
           "arrowcolor": "#2a3f5f",
           "arrowhead": 0,
           "arrowwidth": 1
          },
          "autotypenumbers": "strict",
          "coloraxis": {
           "colorbar": {
            "outlinewidth": 0,
            "ticks": ""
           }
          },
          "colorscale": {
           "diverging": [
            [
             0,
             "#8e0152"
            ],
            [
             0.1,
             "#c51b7d"
            ],
            [
             0.2,
             "#de77ae"
            ],
            [
             0.3,
             "#f1b6da"
            ],
            [
             0.4,
             "#fde0ef"
            ],
            [
             0.5,
             "#f7f7f7"
            ],
            [
             0.6,
             "#e6f5d0"
            ],
            [
             0.7,
             "#b8e186"
            ],
            [
             0.8,
             "#7fbc41"
            ],
            [
             0.9,
             "#4d9221"
            ],
            [
             1,
             "#276419"
            ]
           ],
           "sequential": [
            [
             0,
             "#0d0887"
            ],
            [
             0.1111111111111111,
             "#46039f"
            ],
            [
             0.2222222222222222,
             "#7201a8"
            ],
            [
             0.3333333333333333,
             "#9c179e"
            ],
            [
             0.4444444444444444,
             "#bd3786"
            ],
            [
             0.5555555555555556,
             "#d8576b"
            ],
            [
             0.6666666666666666,
             "#ed7953"
            ],
            [
             0.7777777777777778,
             "#fb9f3a"
            ],
            [
             0.8888888888888888,
             "#fdca26"
            ],
            [
             1,
             "#f0f921"
            ]
           ],
           "sequentialminus": [
            [
             0,
             "#0d0887"
            ],
            [
             0.1111111111111111,
             "#46039f"
            ],
            [
             0.2222222222222222,
             "#7201a8"
            ],
            [
             0.3333333333333333,
             "#9c179e"
            ],
            [
             0.4444444444444444,
             "#bd3786"
            ],
            [
             0.5555555555555556,
             "#d8576b"
            ],
            [
             0.6666666666666666,
             "#ed7953"
            ],
            [
             0.7777777777777778,
             "#fb9f3a"
            ],
            [
             0.8888888888888888,
             "#fdca26"
            ],
            [
             1,
             "#f0f921"
            ]
           ]
          },
          "colorway": [
           "#636efa",
           "#EF553B",
           "#00cc96",
           "#ab63fa",
           "#FFA15A",
           "#19d3f3",
           "#FF6692",
           "#B6E880",
           "#FF97FF",
           "#FECB52"
          ],
          "font": {
           "color": "#2a3f5f"
          },
          "geo": {
           "bgcolor": "white",
           "lakecolor": "white",
           "landcolor": "#E5ECF6",
           "showlakes": true,
           "showland": true,
           "subunitcolor": "white"
          },
          "hoverlabel": {
           "align": "left"
          },
          "hovermode": "closest",
          "mapbox": {
           "style": "light"
          },
          "paper_bgcolor": "white",
          "plot_bgcolor": "#E5ECF6",
          "polar": {
           "angularaxis": {
            "gridcolor": "white",
            "linecolor": "white",
            "ticks": ""
           },
           "bgcolor": "#E5ECF6",
           "radialaxis": {
            "gridcolor": "white",
            "linecolor": "white",
            "ticks": ""
           }
          },
          "scene": {
           "xaxis": {
            "backgroundcolor": "#E5ECF6",
            "gridcolor": "white",
            "gridwidth": 2,
            "linecolor": "white",
            "showbackground": true,
            "ticks": "",
            "zerolinecolor": "white"
           },
           "yaxis": {
            "backgroundcolor": "#E5ECF6",
            "gridcolor": "white",
            "gridwidth": 2,
            "linecolor": "white",
            "showbackground": true,
            "ticks": "",
            "zerolinecolor": "white"
           },
           "zaxis": {
            "backgroundcolor": "#E5ECF6",
            "gridcolor": "white",
            "gridwidth": 2,
            "linecolor": "white",
            "showbackground": true,
            "ticks": "",
            "zerolinecolor": "white"
           }
          },
          "shapedefaults": {
           "line": {
            "color": "#2a3f5f"
           }
          },
          "ternary": {
           "aaxis": {
            "gridcolor": "white",
            "linecolor": "white",
            "ticks": ""
           },
           "baxis": {
            "gridcolor": "white",
            "linecolor": "white",
            "ticks": ""
           },
           "bgcolor": "#E5ECF6",
           "caxis": {
            "gridcolor": "white",
            "linecolor": "white",
            "ticks": ""
           }
          },
          "title": {
           "x": 0.05
          },
          "xaxis": {
           "automargin": true,
           "gridcolor": "white",
           "linecolor": "white",
           "ticks": "",
           "title": {
            "standoff": 15
           },
           "zerolinecolor": "white",
           "zerolinewidth": 2
          },
          "yaxis": {
           "automargin": true,
           "gridcolor": "white",
           "linecolor": "white",
           "ticks": "",
           "title": {
            "standoff": 15
           },
           "zerolinecolor": "white",
           "zerolinewidth": 2
          }
         }
        },
        "title": {
         "text": "Outcome Distribution"
        }
       }
      }
     },
     "metadata": {},
     "output_type": "display_data"
    }
   ],
   "source": [
    "fig = px.pie(df, names=\"outcome\")\n",
    "fig.update_traces(textinfo=\"percent+label\")\n",
    "fig.update_layout(title_text=\"Outcome Distribution\")\n",
    "fig.update_traces(\n",
    "    hovertemplate=\"Outcome: %{label}<br>Count: \\\n",
    "    %{value}<br>Percent: %{percent}\",\n",
    ")\n",
    "fig.show()"
   ]
  },
  {
   "cell_type": "markdown",
   "metadata": {},
   "source": [
    "**Add the figure to the report**"
   ]
  },
  {
   "cell_type": "code",
   "execution_count": 12,
   "metadata": {},
   "outputs": [],
   "source": [
    "report.log_plotly_figure(\n",
    "    fig=fig,\n",
    "    caption=\"Outcome Distribution\",\n",
    "    section_name=\"datasets\",\n",
    ")"
   ]
  },
  {
   "cell_type": "code",
   "execution_count": 13,
   "metadata": {
    "tags": []
   },
   "outputs": [
    {
     "name": "stdout",
     "output_type": "stream",
     "text": [
      "0.8070866141732284 outcome\n",
      "1    508\n",
      "0    410\n",
      "Name: count, dtype: int64\n"
     ]
    }
   ],
   "source": [
    "class_counts = df[\"outcome\"].value_counts()\n",
    "class_ratio = class_counts[0] / class_counts[1]\n",
    "print(class_ratio, class_counts)"
   ]
  },
  {
   "cell_type": "code",
   "execution_count": 14,
   "metadata": {
    "tags": []
   },
   "outputs": [
    {
     "name": "stdout",
     "output_type": "stream",
     "text": [
      "Index(['Age', 'Sex', 'ChestPainType', 'RestingBP', 'Cholesterol', 'FastingBS',\n",
      "       'RestingECG', 'MaxHR', 'ExerciseAngina', 'Oldpeak', 'ST_Slope', 'ID',\n",
      "       'outcome'],\n",
      "      dtype='string')\n"
     ]
    }
   ],
   "source": [
    "print(df.columns)"
   ]
  },
  {
   "cell_type": "markdown",
   "metadata": {},
   "source": [
    "From all the features in the dataset, we select 20 of them which was reported by [Li et al.](https://pubmed.ncbi.nlm.nih.gov/34301649/)  to be the most important features in this classification task. "
   ]
  },
  {
   "cell_type": "code",
   "execution_count": 15,
   "metadata": {
    "tags": []
   },
   "outputs": [],
   "source": [
    "features_list = [\n",
    "    \"Age\",\n",
    "    \"Sex\",\n",
    "    \"ChestPainType\",\n",
    "    \"RestingBP\",\n",
    "    \"Cholesterol\",\n",
    "    \"FastingBS\",\n",
    "    \"RestingECG\",\n",
    "    \"MaxHR\",\n",
    "    \"ExerciseAngina\",\n",
    "    \"Oldpeak\",\n",
    "    \"ST_Slope\",\n",
    "]\n",
    "\n",
    "features_list = sorted(features_list)"
   ]
  },
  {
   "cell_type": "markdown",
   "metadata": {},
   "source": [
    "### Identifying feature types\n",
    "\n",
    "Cyclops `TabularFeatures` class helps to identify feature types, an essential step before preprocessing the data. Understanding feature types (numerical/categorical/binary) allows us to apply appropriate preprocessing steps for each type."
   ]
  },
  {
   "cell_type": "code",
   "execution_count": 16,
   "metadata": {
    "tags": []
   },
   "outputs": [
    {
     "name": "stdout",
     "output_type": "stream",
     "text": [
      "{'outcome': 'binary', 'Age': 'numeric', 'Cholesterol': 'numeric', 'ST_Slope': 'ordinal', 'FastingBS': 'binary', 'ExerciseAngina': 'binary', 'Sex': 'binary', 'MaxHR': 'numeric', 'Oldpeak': 'numeric', 'RestingECG': 'ordinal', 'ChestPainType': 'ordinal', 'RestingBP': 'numeric'}\n"
     ]
    }
   ],
   "source": [
    "tab_features = TabularFeatures(\n",
    "    data=df.reset_index(),\n",
    "    features=features_list,\n",
    "    by=\"ID\",\n",
    "    targets=\"outcome\",\n",
    ")\n",
    "print(tab_features.types)"
   ]
  },
  {
   "cell_type": "markdown",
   "metadata": {},
   "source": [
    "### Creating data preprocessors\n",
    "\n",
    "We create a data preprocessor using sklearn's ColumnTransformer. This helps in applying different preprocessing steps to different columns in the dataframe. For instance, binary features might be processed differently from numeric features."
   ]
  },
  {
   "cell_type": "code",
   "execution_count": 17,
   "metadata": {
    "tags": []
   },
   "outputs": [],
   "source": [
    "numeric_transformer = Pipeline(\n",
    "    steps=[(\"imputer\", SimpleImputer(strategy=\"mean\")), (\"scaler\", MinMaxScaler())],\n",
    ")\n",
    "\n",
    "binary_transformer = Pipeline(\n",
    "    steps=[(\"imputer\", SimpleImputer(strategy=\"most_frequent\"))],\n",
    ")"
   ]
  },
  {
   "cell_type": "code",
   "execution_count": 18,
   "metadata": {
    "tags": []
   },
   "outputs": [
    {
     "name": "stdout",
     "output_type": "stream",
     "text": [
      "['Age', 'Cholesterol', 'MaxHR', 'Oldpeak', 'RestingBP']\n"
     ]
    }
   ],
   "source": [
    "numeric_features = sorted((tab_features.features_by_type(\"numeric\")))\n",
    "numeric_indices = [\n",
    "    df[features_list].columns.get_loc(column) for column in numeric_features\n",
    "]\n",
    "print(numeric_features)"
   ]
  },
  {
   "cell_type": "code",
   "execution_count": 19,
   "metadata": {
    "tags": []
   },
   "outputs": [
    {
     "name": "stdout",
     "output_type": "stream",
     "text": [
      "['ExerciseAngina', 'FastingBS', 'Sex'] ['ChestPainType', 'RestingECG', 'ST_Slope']\n"
     ]
    }
   ],
   "source": [
    "binary_features = sorted(tab_features.features_by_type(\"binary\"))\n",
    "binary_features.remove(\"outcome\")\n",
    "ordinal_features = sorted(tab_features.features_by_type(\"ordinal\"))\n",
    "binary_indices = [\n",
    "    df[features_list].columns.get_loc(column) for column in binary_features\n",
    "]\n",
    "ordinal_indices = [\n",
    "    df[features_list].columns.get_loc(column) for column in ordinal_features\n",
    "]\n",
    "print(binary_features, ordinal_features)"
   ]
  },
  {
   "cell_type": "code",
   "execution_count": 20,
   "metadata": {
    "tags": []
   },
   "outputs": [],
   "source": [
    "preprocessor = ColumnTransformer(\n",
    "    transformers=[\n",
    "        (\"num\", numeric_transformer, numeric_indices),\n",
    "        (\n",
    "            \"onehot\",\n",
    "            OneHotEncoder(handle_unknown=\"ignore\"),\n",
    "            binary_indices + ordinal_indices,\n",
    "        ),\n",
    "    ],\n",
    "    remainder=\"passthrough\",\n",
    ")"
   ]
  },
  {
   "cell_type": "markdown",
   "metadata": {},
   "source": [
    "Let's document the dataset in the model card. This can be done using the `log_dataset` method, which takes the following arguments:\n",
    "- description: A description of the dataset.\n",
    "- citation: The citation for the dataset.\n",
    "- link: A link to a resource for the dataset.\n",
    "- license_id: The SPDX license identifier for the dataset.\n",
    "- version: The version of the dataset.\n",
    "- features: A list of features in the dataset.\n",
    "- split: The split of the dataset (train, test, validation, etc.).\n",
    "- sensitive_features: A list of sensitive features used to train/evaluate the model.\n",
    "- sensitive_feature_justification: A justification for the sensitive features used to train/evaluate the model."
   ]
  },
  {
   "cell_type": "code",
   "execution_count": 21,
   "metadata": {},
   "outputs": [],
   "source": [
    "report.log_dataset(\n",
    "    description=\"\"\"This dataset was created by combining different datasets\n",
    "    already available independently but not combined before. In this dataset,\n",
    "    5 heart datasets are combined over 11 common features. Every dataset used\n",
    "    can be found under the Index of heart disease datasets from UCI\n",
    "    Machine Learning Repository on the following link:\n",
    "    https://archive.ics.uci.edu/ml/machine-learning-databases/heart-disease/.\"\"\",\n",
    "    citation=inspect.cleandoc(\n",
    "        \"\"\"\n",
    "        @misc{fedesoriano,\n",
    "          title={Heart Failure Prediction Dataset.},\n",
    "          author={Fedesoriano, F},\n",
    "          year={2021},\n",
    "          publisher={Kaggle}\n",
    "        }\n",
    "    \"\"\",\n",
    "    ),\n",
    "    link=\"\"\"\n",
    "    https://www.kaggle.com/datasets/fedesoriano/heart-failure-prediction\n",
    "    \"\"\",\n",
    "    license_id=\"CC0-1.0\",\n",
    "    version=\"Version 1\",\n",
    "    features=features_list,\n",
    "    sensitive_features=[\"Sex\", \"Age\"],\n",
    "    sensitive_feature_justification=\"Demographic information like age and gender \\\n",
    "        often have a strong correlation with health outcomes. For example, older \\\n",
    "        patients are more likely to have a higher risk of heart disease.\",\n",
    ")"
   ]
  },
  {
   "cell_type": "markdown",
   "metadata": {},
   "source": [
    "## Creating Hugging Face Dataset\n",
    "\n",
    "We convert our processed Pandas dataframe into a Hugging Face dataset, a powerful and easy-to-use data format which is also compatible with CyclOps models and evaluator modules. The dataset is then split to train and test sets."
   ]
  },
  {
   "cell_type": "code",
   "execution_count": 22,
   "metadata": {
    "tags": []
   },
   "outputs": [
    {
     "name": "stdout",
     "output_type": "stream",
     "text": [
      "Dataset({\n",
      "    features: ['Age', 'Sex', 'ChestPainType', 'RestingBP', 'Cholesterol', 'FastingBS', 'RestingECG', 'MaxHR', 'ExerciseAngina', 'Oldpeak', 'ST_Slope', 'ID', 'outcome'],\n",
      "    num_rows: 918\n",
      "})\n"
     ]
    }
   ],
   "source": [
    "dataset = Dataset.from_pandas(df)\n",
    "dataset.cleanup_cache_files()\n",
    "print(dataset)"
   ]
  },
  {
   "cell_type": "code",
   "execution_count": 23,
   "metadata": {
    "tags": []
   },
   "outputs": [
    {
     "name": "stderr",
     "output_type": "stream",
     "text": [
      "Casting the dataset: 100%|██████████| 918/918 [00:00<00:00, 337515.00 examples/s]\n"
     ]
    }
   ],
   "source": [
    "dataset = dataset.cast_column(\"outcome\", ClassLabel(num_classes=2))\n",
    "dataset = dataset.train_test_split(\n",
    "    train_size=TRAIN_SIZE,\n",
    "    stratify_by_column=\"outcome\",\n",
    "    seed=RANDOM_SEED,\n",
    ")"
   ]
  },
  {
   "cell_type": "markdown",
   "metadata": {},
   "source": [
    "## Model Creation\n",
    "\n",
    "CyclOps model registry allows for straightforward creation and selection of models. This registry maintains a list of pre-configured models, which can be instantiated with a single line of code. Here we use a SGD classifier to fit a logisitic regression model. The model configurations can be passed to `create_model` based on the sklearn parameters for SGDClassifier."
   ]
  },
  {
   "cell_type": "code",
   "execution_count": 24,
   "metadata": {
    "tags": []
   },
   "outputs": [],
   "source": [
    "model_name = \"sgd_classifier\"\n",
    "model = create_model(model_name, random_state=123, verbose=0, class_weight=\"balanced\")"
   ]
  },
  {
   "cell_type": "markdown",
   "metadata": {},
   "source": [
    "## Task Creation\n",
    "\n",
    "We use Cyclops tasks to define our model's task (in this case, heart failure prediction), train the model, make predictions, and evaluate performance. Cyclops task classes encapsulate the entire ML pipeline into a single, cohesive structure, making the process smooth and easy to manage."
   ]
  },
  {
   "cell_type": "code",
   "execution_count": 25,
   "metadata": {
    "tags": []
   },
   "outputs": [],
   "source": [
    "heart_failure_prediction_task = BinaryTabularClassificationTask(\n",
    "    {model_name: model},\n",
    "    task_features=features_list,\n",
    "    task_target=\"outcome\",\n",
    ")"
   ]
  },
  {
   "cell_type": "code",
   "execution_count": 26,
   "metadata": {
    "tags": []
   },
   "outputs": [
    {
     "data": {
      "text/plain": [
       "['sgd_classifier']"
      ]
     },
     "execution_count": 26,
     "metadata": {},
     "output_type": "execute_result"
    }
   ],
   "source": [
    "heart_failure_prediction_task.list_models()"
   ]
  },
  {
   "cell_type": "markdown",
   "metadata": {},
   "source": [
    "## Training\n",
    "\n",
    "If `best_model_params` is passed to the `train` method, the best model will be selected after the hyperparameter search. The parameters in `best_model_params` indicate the values to create the parameters grid.\n",
    "\n",
    "Note that the data preprocessor needs to be passed to the tasks methods if the Hugging Face dataset is not already preprocessed. "
   ]
  },
  {
   "cell_type": "code",
   "execution_count": 27,
   "metadata": {
    "tags": []
   },
   "outputs": [
    {
     "name": "stderr",
     "output_type": "stream",
     "text": [
      "2024-07-31 14:56:43,938 \u001b[1;37mINFO\u001b[0m cyclops.models.wrappers.sk_model - Best alpha: 0.001\n",
      "2024-07-31 14:56:43,939 \u001b[1;37mINFO\u001b[0m cyclops.models.wrappers.sk_model - Best eta0: 0.01\n",
      "2024-07-31 14:56:43,939 \u001b[1;37mINFO\u001b[0m cyclops.models.wrappers.sk_model - Best learning_rate: adaptive\n"
     ]
    },
    {
     "data": {
      "text/html": [
       "<style>#sk-container-id-1 {\n",
       "  /* Definition of color scheme common for light and dark mode */\n",
       "  --sklearn-color-text: black;\n",
       "  --sklearn-color-line: gray;\n",
       "  /* Definition of color scheme for unfitted estimators */\n",
       "  --sklearn-color-unfitted-level-0: #fff5e6;\n",
       "  --sklearn-color-unfitted-level-1: #f6e4d2;\n",
       "  --sklearn-color-unfitted-level-2: #ffe0b3;\n",
       "  --sklearn-color-unfitted-level-3: chocolate;\n",
       "  /* Definition of color scheme for fitted estimators */\n",
       "  --sklearn-color-fitted-level-0: #f0f8ff;\n",
       "  --sklearn-color-fitted-level-1: #d4ebff;\n",
       "  --sklearn-color-fitted-level-2: #b3dbfd;\n",
       "  --sklearn-color-fitted-level-3: cornflowerblue;\n",
       "\n",
       "  /* Specific color for light theme */\n",
       "  --sklearn-color-text-on-default-background: var(--sg-text-color, var(--theme-code-foreground, var(--jp-content-font-color1, black)));\n",
       "  --sklearn-color-background: var(--sg-background-color, var(--theme-background, var(--jp-layout-color0, white)));\n",
       "  --sklearn-color-border-box: var(--sg-text-color, var(--theme-code-foreground, var(--jp-content-font-color1, black)));\n",
       "  --sklearn-color-icon: #696969;\n",
       "\n",
       "  @media (prefers-color-scheme: dark) {\n",
       "    /* Redefinition of color scheme for dark theme */\n",
       "    --sklearn-color-text-on-default-background: var(--sg-text-color, var(--theme-code-foreground, var(--jp-content-font-color1, white)));\n",
       "    --sklearn-color-background: var(--sg-background-color, var(--theme-background, var(--jp-layout-color0, #111)));\n",
       "    --sklearn-color-border-box: var(--sg-text-color, var(--theme-code-foreground, var(--jp-content-font-color1, white)));\n",
       "    --sklearn-color-icon: #878787;\n",
       "  }\n",
       "}\n",
       "\n",
       "#sk-container-id-1 {\n",
       "  color: var(--sklearn-color-text);\n",
       "}\n",
       "\n",
       "#sk-container-id-1 pre {\n",
       "  padding: 0;\n",
       "}\n",
       "\n",
       "#sk-container-id-1 input.sk-hidden--visually {\n",
       "  border: 0;\n",
       "  clip: rect(1px 1px 1px 1px);\n",
       "  clip: rect(1px, 1px, 1px, 1px);\n",
       "  height: 1px;\n",
       "  margin: -1px;\n",
       "  overflow: hidden;\n",
       "  padding: 0;\n",
       "  position: absolute;\n",
       "  width: 1px;\n",
       "}\n",
       "\n",
       "#sk-container-id-1 div.sk-dashed-wrapped {\n",
       "  border: 1px dashed var(--sklearn-color-line);\n",
       "  margin: 0 0.4em 0.5em 0.4em;\n",
       "  box-sizing: border-box;\n",
       "  padding-bottom: 0.4em;\n",
       "  background-color: var(--sklearn-color-background);\n",
       "}\n",
       "\n",
       "#sk-container-id-1 div.sk-container {\n",
       "  /* jupyter's `normalize.less` sets `[hidden] { display: none; }`\n",
       "     but bootstrap.min.css set `[hidden] { display: none !important; }`\n",
       "     so we also need the `!important` here to be able to override the\n",
       "     default hidden behavior on the sphinx rendered scikit-learn.org.\n",
       "     See: https://github.com/scikit-learn/scikit-learn/issues/21755 */\n",
       "  display: inline-block !important;\n",
       "  position: relative;\n",
       "}\n",
       "\n",
       "#sk-container-id-1 div.sk-text-repr-fallback {\n",
       "  display: none;\n",
       "}\n",
       "\n",
       "div.sk-parallel-item,\n",
       "div.sk-serial,\n",
       "div.sk-item {\n",
       "  /* draw centered vertical line to link estimators */\n",
       "  background-image: linear-gradient(var(--sklearn-color-text-on-default-background), var(--sklearn-color-text-on-default-background));\n",
       "  background-size: 2px 100%;\n",
       "  background-repeat: no-repeat;\n",
       "  background-position: center center;\n",
       "}\n",
       "\n",
       "/* Parallel-specific style estimator block */\n",
       "\n",
       "#sk-container-id-1 div.sk-parallel-item::after {\n",
       "  content: \"\";\n",
       "  width: 100%;\n",
       "  border-bottom: 2px solid var(--sklearn-color-text-on-default-background);\n",
       "  flex-grow: 1;\n",
       "}\n",
       "\n",
       "#sk-container-id-1 div.sk-parallel {\n",
       "  display: flex;\n",
       "  align-items: stretch;\n",
       "  justify-content: center;\n",
       "  background-color: var(--sklearn-color-background);\n",
       "  position: relative;\n",
       "}\n",
       "\n",
       "#sk-container-id-1 div.sk-parallel-item {\n",
       "  display: flex;\n",
       "  flex-direction: column;\n",
       "}\n",
       "\n",
       "#sk-container-id-1 div.sk-parallel-item:first-child::after {\n",
       "  align-self: flex-end;\n",
       "  width: 50%;\n",
       "}\n",
       "\n",
       "#sk-container-id-1 div.sk-parallel-item:last-child::after {\n",
       "  align-self: flex-start;\n",
       "  width: 50%;\n",
       "}\n",
       "\n",
       "#sk-container-id-1 div.sk-parallel-item:only-child::after {\n",
       "  width: 0;\n",
       "}\n",
       "\n",
       "/* Serial-specific style estimator block */\n",
       "\n",
       "#sk-container-id-1 div.sk-serial {\n",
       "  display: flex;\n",
       "  flex-direction: column;\n",
       "  align-items: center;\n",
       "  background-color: var(--sklearn-color-background);\n",
       "  padding-right: 1em;\n",
       "  padding-left: 1em;\n",
       "}\n",
       "\n",
       "\n",
       "/* Toggleable style: style used for estimator/Pipeline/ColumnTransformer box that is\n",
       "clickable and can be expanded/collapsed.\n",
       "- Pipeline and ColumnTransformer use this feature and define the default style\n",
       "- Estimators will overwrite some part of the style using the `sk-estimator` class\n",
       "*/\n",
       "\n",
       "/* Pipeline and ColumnTransformer style (default) */\n",
       "\n",
       "#sk-container-id-1 div.sk-toggleable {\n",
       "  /* Default theme specific background. It is overwritten whether we have a\n",
       "  specific estimator or a Pipeline/ColumnTransformer */\n",
       "  background-color: var(--sklearn-color-background);\n",
       "}\n",
       "\n",
       "/* Toggleable label */\n",
       "#sk-container-id-1 label.sk-toggleable__label {\n",
       "  cursor: pointer;\n",
       "  display: block;\n",
       "  width: 100%;\n",
       "  margin-bottom: 0;\n",
       "  padding: 0.5em;\n",
       "  box-sizing: border-box;\n",
       "  text-align: center;\n",
       "}\n",
       "\n",
       "#sk-container-id-1 label.sk-toggleable__label-arrow:before {\n",
       "  /* Arrow on the left of the label */\n",
       "  content: \"▸\";\n",
       "  float: left;\n",
       "  margin-right: 0.25em;\n",
       "  color: var(--sklearn-color-icon);\n",
       "}\n",
       "\n",
       "#sk-container-id-1 label.sk-toggleable__label-arrow:hover:before {\n",
       "  color: var(--sklearn-color-text);\n",
       "}\n",
       "\n",
       "/* Toggleable content - dropdown */\n",
       "\n",
       "#sk-container-id-1 div.sk-toggleable__content {\n",
       "  max-height: 0;\n",
       "  max-width: 0;\n",
       "  overflow: hidden;\n",
       "  text-align: left;\n",
       "  /* unfitted */\n",
       "  background-color: var(--sklearn-color-unfitted-level-0);\n",
       "}\n",
       "\n",
       "#sk-container-id-1 div.sk-toggleable__content.fitted {\n",
       "  /* fitted */\n",
       "  background-color: var(--sklearn-color-fitted-level-0);\n",
       "}\n",
       "\n",
       "#sk-container-id-1 div.sk-toggleable__content pre {\n",
       "  margin: 0.2em;\n",
       "  border-radius: 0.25em;\n",
       "  color: var(--sklearn-color-text);\n",
       "  /* unfitted */\n",
       "  background-color: var(--sklearn-color-unfitted-level-0);\n",
       "}\n",
       "\n",
       "#sk-container-id-1 div.sk-toggleable__content.fitted pre {\n",
       "  /* unfitted */\n",
       "  background-color: var(--sklearn-color-fitted-level-0);\n",
       "}\n",
       "\n",
       "#sk-container-id-1 input.sk-toggleable__control:checked~div.sk-toggleable__content {\n",
       "  /* Expand drop-down */\n",
       "  max-height: 200px;\n",
       "  max-width: 100%;\n",
       "  overflow: auto;\n",
       "}\n",
       "\n",
       "#sk-container-id-1 input.sk-toggleable__control:checked~label.sk-toggleable__label-arrow:before {\n",
       "  content: \"▾\";\n",
       "}\n",
       "\n",
       "/* Pipeline/ColumnTransformer-specific style */\n",
       "\n",
       "#sk-container-id-1 div.sk-label input.sk-toggleable__control:checked~label.sk-toggleable__label {\n",
       "  color: var(--sklearn-color-text);\n",
       "  background-color: var(--sklearn-color-unfitted-level-2);\n",
       "}\n",
       "\n",
       "#sk-container-id-1 div.sk-label.fitted input.sk-toggleable__control:checked~label.sk-toggleable__label {\n",
       "  background-color: var(--sklearn-color-fitted-level-2);\n",
       "}\n",
       "\n",
       "/* Estimator-specific style */\n",
       "\n",
       "/* Colorize estimator box */\n",
       "#sk-container-id-1 div.sk-estimator input.sk-toggleable__control:checked~label.sk-toggleable__label {\n",
       "  /* unfitted */\n",
       "  background-color: var(--sklearn-color-unfitted-level-2);\n",
       "}\n",
       "\n",
       "#sk-container-id-1 div.sk-estimator.fitted input.sk-toggleable__control:checked~label.sk-toggleable__label {\n",
       "  /* fitted */\n",
       "  background-color: var(--sklearn-color-fitted-level-2);\n",
       "}\n",
       "\n",
       "#sk-container-id-1 div.sk-label label.sk-toggleable__label,\n",
       "#sk-container-id-1 div.sk-label label {\n",
       "  /* The background is the default theme color */\n",
       "  color: var(--sklearn-color-text-on-default-background);\n",
       "}\n",
       "\n",
       "/* On hover, darken the color of the background */\n",
       "#sk-container-id-1 div.sk-label:hover label.sk-toggleable__label {\n",
       "  color: var(--sklearn-color-text);\n",
       "  background-color: var(--sklearn-color-unfitted-level-2);\n",
       "}\n",
       "\n",
       "/* Label box, darken color on hover, fitted */\n",
       "#sk-container-id-1 div.sk-label.fitted:hover label.sk-toggleable__label.fitted {\n",
       "  color: var(--sklearn-color-text);\n",
       "  background-color: var(--sklearn-color-fitted-level-2);\n",
       "}\n",
       "\n",
       "/* Estimator label */\n",
       "\n",
       "#sk-container-id-1 div.sk-label label {\n",
       "  font-family: monospace;\n",
       "  font-weight: bold;\n",
       "  display: inline-block;\n",
       "  line-height: 1.2em;\n",
       "}\n",
       "\n",
       "#sk-container-id-1 div.sk-label-container {\n",
       "  text-align: center;\n",
       "}\n",
       "\n",
       "/* Estimator-specific */\n",
       "#sk-container-id-1 div.sk-estimator {\n",
       "  font-family: monospace;\n",
       "  border: 1px dotted var(--sklearn-color-border-box);\n",
       "  border-radius: 0.25em;\n",
       "  box-sizing: border-box;\n",
       "  margin-bottom: 0.5em;\n",
       "  /* unfitted */\n",
       "  background-color: var(--sklearn-color-unfitted-level-0);\n",
       "}\n",
       "\n",
       "#sk-container-id-1 div.sk-estimator.fitted {\n",
       "  /* fitted */\n",
       "  background-color: var(--sklearn-color-fitted-level-0);\n",
       "}\n",
       "\n",
       "/* on hover */\n",
       "#sk-container-id-1 div.sk-estimator:hover {\n",
       "  /* unfitted */\n",
       "  background-color: var(--sklearn-color-unfitted-level-2);\n",
       "}\n",
       "\n",
       "#sk-container-id-1 div.sk-estimator.fitted:hover {\n",
       "  /* fitted */\n",
       "  background-color: var(--sklearn-color-fitted-level-2);\n",
       "}\n",
       "\n",
       "/* Specification for estimator info (e.g. \"i\" and \"?\") */\n",
       "\n",
       "/* Common style for \"i\" and \"?\" */\n",
       "\n",
       ".sk-estimator-doc-link,\n",
       "a:link.sk-estimator-doc-link,\n",
       "a:visited.sk-estimator-doc-link {\n",
       "  float: right;\n",
       "  font-size: smaller;\n",
       "  line-height: 1em;\n",
       "  font-family: monospace;\n",
       "  background-color: var(--sklearn-color-background);\n",
       "  border-radius: 1em;\n",
       "  height: 1em;\n",
       "  width: 1em;\n",
       "  text-decoration: none !important;\n",
       "  margin-left: 1ex;\n",
       "  /* unfitted */\n",
       "  border: var(--sklearn-color-unfitted-level-1) 1pt solid;\n",
       "  color: var(--sklearn-color-unfitted-level-1);\n",
       "}\n",
       "\n",
       ".sk-estimator-doc-link.fitted,\n",
       "a:link.sk-estimator-doc-link.fitted,\n",
       "a:visited.sk-estimator-doc-link.fitted {\n",
       "  /* fitted */\n",
       "  border: var(--sklearn-color-fitted-level-1) 1pt solid;\n",
       "  color: var(--sklearn-color-fitted-level-1);\n",
       "}\n",
       "\n",
       "/* On hover */\n",
       "div.sk-estimator:hover .sk-estimator-doc-link:hover,\n",
       ".sk-estimator-doc-link:hover,\n",
       "div.sk-label-container:hover .sk-estimator-doc-link:hover,\n",
       ".sk-estimator-doc-link:hover {\n",
       "  /* unfitted */\n",
       "  background-color: var(--sklearn-color-unfitted-level-3);\n",
       "  color: var(--sklearn-color-background);\n",
       "  text-decoration: none;\n",
       "}\n",
       "\n",
       "div.sk-estimator.fitted:hover .sk-estimator-doc-link.fitted:hover,\n",
       ".sk-estimator-doc-link.fitted:hover,\n",
       "div.sk-label-container:hover .sk-estimator-doc-link.fitted:hover,\n",
       ".sk-estimator-doc-link.fitted:hover {\n",
       "  /* fitted */\n",
       "  background-color: var(--sklearn-color-fitted-level-3);\n",
       "  color: var(--sklearn-color-background);\n",
       "  text-decoration: none;\n",
       "}\n",
       "\n",
       "/* Span, style for the box shown on hovering the info icon */\n",
       ".sk-estimator-doc-link span {\n",
       "  display: none;\n",
       "  z-index: 9999;\n",
       "  position: relative;\n",
       "  font-weight: normal;\n",
       "  right: .2ex;\n",
       "  padding: .5ex;\n",
       "  margin: .5ex;\n",
       "  width: min-content;\n",
       "  min-width: 20ex;\n",
       "  max-width: 50ex;\n",
       "  color: var(--sklearn-color-text);\n",
       "  box-shadow: 2pt 2pt 4pt #999;\n",
       "  /* unfitted */\n",
       "  background: var(--sklearn-color-unfitted-level-0);\n",
       "  border: .5pt solid var(--sklearn-color-unfitted-level-3);\n",
       "}\n",
       "\n",
       ".sk-estimator-doc-link.fitted span {\n",
       "  /* fitted */\n",
       "  background: var(--sklearn-color-fitted-level-0);\n",
       "  border: var(--sklearn-color-fitted-level-3);\n",
       "}\n",
       "\n",
       ".sk-estimator-doc-link:hover span {\n",
       "  display: block;\n",
       "}\n",
       "\n",
       "/* \"?\"-specific style due to the `<a>` HTML tag */\n",
       "\n",
       "#sk-container-id-1 a.estimator_doc_link {\n",
       "  float: right;\n",
       "  font-size: 1rem;\n",
       "  line-height: 1em;\n",
       "  font-family: monospace;\n",
       "  background-color: var(--sklearn-color-background);\n",
       "  border-radius: 1rem;\n",
       "  height: 1rem;\n",
       "  width: 1rem;\n",
       "  text-decoration: none;\n",
       "  /* unfitted */\n",
       "  color: var(--sklearn-color-unfitted-level-1);\n",
       "  border: var(--sklearn-color-unfitted-level-1) 1pt solid;\n",
       "}\n",
       "\n",
       "#sk-container-id-1 a.estimator_doc_link.fitted {\n",
       "  /* fitted */\n",
       "  border: var(--sklearn-color-fitted-level-1) 1pt solid;\n",
       "  color: var(--sklearn-color-fitted-level-1);\n",
       "}\n",
       "\n",
       "/* On hover */\n",
       "#sk-container-id-1 a.estimator_doc_link:hover {\n",
       "  /* unfitted */\n",
       "  background-color: var(--sklearn-color-unfitted-level-3);\n",
       "  color: var(--sklearn-color-background);\n",
       "  text-decoration: none;\n",
       "}\n",
       "\n",
       "#sk-container-id-1 a.estimator_doc_link.fitted:hover {\n",
       "  /* fitted */\n",
       "  background-color: var(--sklearn-color-fitted-level-3);\n",
       "}\n",
       "</style><div id=\"sk-container-id-1\" class=\"sk-top-container\"><div class=\"sk-text-repr-fallback\"><pre>SGDClassifier(alpha=0.001, class_weight=&#x27;balanced&#x27;, early_stopping=True,\n",
       "              eta0=0.01, learning_rate=&#x27;adaptive&#x27;, loss=&#x27;log_loss&#x27;,\n",
       "              random_state=123)</pre><b>In a Jupyter environment, please rerun this cell to show the HTML representation or trust the notebook. <br />On GitHub, the HTML representation is unable to render, please try loading this page with nbviewer.org.</b></div><div class=\"sk-container\" hidden><div class=\"sk-item\"><div class=\"sk-estimator fitted sk-toggleable\"><input class=\"sk-toggleable__control sk-hidden--visually\" id=\"sk-estimator-id-1\" type=\"checkbox\" checked><label for=\"sk-estimator-id-1\" class=\"sk-toggleable__label fitted sk-toggleable__label-arrow fitted\">&nbsp;&nbsp;SGDClassifier<a class=\"sk-estimator-doc-link fitted\" rel=\"noreferrer\" target=\"_blank\" href=\"https://scikit-learn.org/1.5/modules/generated/sklearn.linear_model.SGDClassifier.html\">?<span>Documentation for SGDClassifier</span></a><span class=\"sk-estimator-doc-link fitted\">i<span>Fitted</span></span></label><div class=\"sk-toggleable__content fitted\"><pre>SGDClassifier(alpha=0.001, class_weight=&#x27;balanced&#x27;, early_stopping=True,\n",
       "              eta0=0.01, learning_rate=&#x27;adaptive&#x27;, loss=&#x27;log_loss&#x27;,\n",
       "              random_state=123)</pre></div> </div></div></div></div>"
      ],
      "text/plain": [
       "SGDClassifier(alpha=0.001, class_weight='balanced', early_stopping=True,\n",
       "              eta0=0.01, learning_rate='adaptive', loss='log_loss',\n",
       "              random_state=123)"
      ]
     },
     "execution_count": 27,
     "metadata": {},
     "output_type": "execute_result"
    }
   ],
   "source": [
    "best_model_params = {\n",
    "    \"alpha\": [0.0001, 0.001, 0.01, 0.1, 1, 10, 100],\n",
    "    \"learning_rate\": [\"constant\", \"optimal\", \"invscaling\", \"adaptive\"],\n",
    "    \"eta0\": [0.1, 0.01, 0.001, 0.0001],\n",
    "    \"metric\": \"roc_auc\",\n",
    "    \"method\": \"grid\",\n",
    "}\n",
    "\n",
    "heart_failure_prediction_task.train(\n",
    "    dataset[\"train\"],\n",
    "    model_name=model_name,\n",
    "    transforms=preprocessor,\n",
    "    best_model_params=best_model_params,\n",
    ")"
   ]
  },
  {
   "cell_type": "code",
   "execution_count": 28,
   "metadata": {},
   "outputs": [
    {
     "name": "stdout",
     "output_type": "stream",
     "text": [
      "{'alpha': 0.001, 'average': False, 'class_weight': 'balanced', 'early_stopping': True, 'epsilon': 0.1, 'eta0': 0.01, 'fit_intercept': True, 'l1_ratio': 0.15, 'learning_rate': 'adaptive', 'loss': 'log_loss', 'max_iter': 1000, 'n_iter_no_change': 5, 'n_jobs': None, 'penalty': 'l2', 'power_t': 0.5, 'random_state': 123, 'shuffle': True, 'tol': 0.001, 'validation_fraction': 0.1, 'verbose': 0, 'warm_start': False}\n"
     ]
    }
   ],
   "source": [
    "model_params = heart_failure_prediction_task.list_models_params()[model_name]\n",
    "print(model_params)"
   ]
  },
  {
   "cell_type": "markdown",
   "metadata": {},
   "source": [
    "**Log the model parameters to the report.**\n",
    "\n",
    "We can add model parameters to the model card using the `log_model_parameters` method."
   ]
  },
  {
   "cell_type": "code",
   "execution_count": 29,
   "metadata": {},
   "outputs": [],
   "source": [
    "report.log_model_parameters(params=model_params)"
   ]
  },
  {
   "cell_type": "markdown",
   "metadata": {},
   "source": [
    "## Prediction\n",
    "\n",
    "The prediction output can be either the whole Hugging Face dataset with the prediction columns added to it or the single column containing the predicted values."
   ]
  },
  {
   "cell_type": "code",
   "execution_count": 30,
   "metadata": {
    "tags": []
   },
   "outputs": [
    {
     "name": "stderr",
     "output_type": "stream",
     "text": [
      "Map: 100%|██████████| 184/184 [00:00<00:00, 11576.57 examples/s]\n"
     ]
    }
   ],
   "source": [
    "y_pred = heart_failure_prediction_task.predict(\n",
    "    dataset[\"test\"],\n",
    "    model_name=model_name,\n",
    "    transforms=preprocessor,\n",
    "    proba=True,\n",
    "    only_predictions=True,\n",
    ")\n",
    "prediction_df = pd.DataFrame(\n",
    "    {\n",
    "        \"y_prob\": [y_pred_i[1] for y_pred_i in y_pred],\n",
    "        \"y_true\": dataset[\"test\"][\"outcome\"],\n",
    "        \"Sex\": dataset[\"test\"][\"Sex\"],\n",
    "    }\n",
    ")"
   ]
  },
  {
   "cell_type": "markdown",
   "metadata": {},
   "source": [
    "## Evaluation\n",
    "\n",
    "Evaluation is done using various evaluation metrics that provide different perspectives on the model's predictive abilities i.e. standard performance metrics and fairness metrics.\n",
    "\n",
    "The standard performance metrics can be created using the `MetricDict` object."
   ]
  },
  {
   "cell_type": "code",
   "execution_count": 31,
   "metadata": {
    "tags": []
   },
   "outputs": [],
   "source": [
    "metric_names = [\n",
    "    \"binary_accuracy\",\n",
    "    \"binary_precision\",\n",
    "    \"binary_recall\",\n",
    "    \"binary_f1_score\",\n",
    "    \"binary_auroc\",\n",
    "    \"binary_average_precision\",\n",
    "    \"binary_roc_curve\",\n",
    "    \"binary_precision_recall_curve\",\n",
    "]\n",
    "metrics = [\n",
    "    create_metric(metric_name, experimental=True) for metric_name in metric_names\n",
    "]\n",
    "metric_collection = MetricDict(metrics)"
   ]
  },
  {
   "cell_type": "markdown",
   "metadata": {},
   "source": [
    "In addition to overall metrics, it might be interesting to see how the model performs on certain subpopulations. We can define these subpopulations using `SliceSpec` objects. "
   ]
  },
  {
   "cell_type": "code",
   "execution_count": 32,
   "metadata": {
    "tags": []
   },
   "outputs": [],
   "source": [
    "spec_list = [\n",
    "    {\n",
    "        \"Age\": {\n",
    "            \"min_value\": 30,\n",
    "            \"max_value\": 50,\n",
    "            \"min_inclusive\": True,\n",
    "            \"max_inclusive\": False,\n",
    "        },\n",
    "    },\n",
    "    {\n",
    "        \"Age\": {\n",
    "            \"min_value\": 50,\n",
    "            \"max_value\": 70,\n",
    "            \"min_inclusive\": True,\n",
    "            \"max_inclusive\": False,\n",
    "        },\n",
    "    },\n",
    "    {\"Sex\": {\"value\": \"M\"}},\n",
    "]\n",
    "slice_spec = SliceSpec(spec_list)"
   ]
  },
  {
   "cell_type": "markdown",
   "metadata": {},
   "source": [
    "A `MetricDict` can also be defined for the fairness metrics."
   ]
  },
  {
   "cell_type": "code",
   "execution_count": 33,
   "metadata": {
    "tags": []
   },
   "outputs": [],
   "source": [
    "specificity = create_metric(metric_name=\"binary_specificity\", experimental=True)\n",
    "sensitivity = create_metric(metric_name=\"binary_sensitivity\", experimental=True)\n",
    "\n",
    "fpr = -specificity + 1\n",
    "fnr = -sensitivity + 1\n",
    "\n",
    "ber = (fpr + fnr) / 2\n",
    "\n",
    "fairness_metric_collection = MetricDict(\n",
    "    {\n",
    "        \"Sensitivity\": sensitivity,\n",
    "        \"Specificity\": specificity,\n",
    "        \"BER\": ber,\n",
    "    },\n",
    ")"
   ]
  },
  {
   "cell_type": "markdown",
   "metadata": {},
   "source": [
    "The FairnessConfig helps in setting up and evaluating the fairness of the model predictions."
   ]
  },
  {
   "cell_type": "code",
   "execution_count": 34,
   "metadata": {
    "tags": []
   },
   "outputs": [],
   "source": [
    "fairness_config = FairnessConfig(\n",
    "    metrics=fairness_metric_collection,\n",
    "    dataset=None,  # dataset is passed from the evaluator\n",
    "    target_columns=None,  # target columns are passed from the evaluator\n",
    "    groups=[\"Age\"],\n",
    "    group_bins={\"Age\": [40, 50]},\n",
    "    group_base_values={\"Age\": 40},\n",
    "    thresholds=[0.5],\n",
    ")"
   ]
  },
  {
   "cell_type": "markdown",
   "metadata": {},
   "source": [
    "The evaluate methods outputs the evaluation results and the Hugging Face dataset with the predictions added to it."
   ]
  },
  {
   "cell_type": "code",
   "execution_count": 35,
   "metadata": {
    "tags": []
   },
   "outputs": [
    {
     "name": "stderr",
     "output_type": "stream",
     "text": [
      "Map: 100%|██████████| 184/184 [00:00<00:00, 12981.31 examples/s]\n",
      "Flattening the indices: 100%|██████████| 184/184 [00:00<00:00, 19161.58 examples/s]\n",
      "Flattening the indices: 100%|██████████| 184/184 [00:00<00:00, 115600.95 examples/s]\n",
      "Map: 100%|██████████| 184/184 [00:00<00:00, 48657.21 examples/s]\n",
      "Filter -> Age:[30 - 50): 100%|██████████| 184/184 [00:00<00:00, 88412.41 examples/s]\n",
      "Filter -> Age:[50 - 70): 100%|██████████| 184/184 [00:00<00:00, 64842.21 examples/s]\n",
      "Filter -> Sex:M: 100%|██████████| 184/184 [00:00<00:00, 58764.33 examples/s]\n",
      "Filter -> overall: 100%|██████████| 184/184 [00:00<00:00, 77082.69 examples/s]\n",
      "Filter -> Age:(-inf - 40.0]: 100%|██████████| 184/184 [00:00<00:00, 108942.96 examples/s]\n",
      "Filter -> Age:(40.0 - 50.0]: 100%|██████████| 184/184 [00:00<00:00, 119392.32 examples/s]\n",
      "Filter -> Age:(50.0 - inf]: 100%|██████████| 184/184 [00:00<00:00, 112238.50 examples/s]\n"
     ]
    }
   ],
   "source": [
    "results, dataset_with_preds = heart_failure_prediction_task.evaluate(\n",
    "    dataset=dataset[\"test\"],\n",
    "    metrics=metric_collection,\n",
    "    model_names=model_name,\n",
    "    transforms=preprocessor,\n",
    "    prediction_column_prefix=\"preds\",\n",
    "    slice_spec=slice_spec,\n",
    "    batch_size=-1,\n",
    "    fairness_config=fairness_config,\n",
    "    override_fairness_metrics=False,\n",
    ")"
   ]
  },
  {
   "cell_type": "code",
   "execution_count": 36,
   "metadata": {},
   "outputs": [
    {
     "name": "stderr",
     "output_type": "stream",
     "text": [
      "Map: 100%|██████████| 184/184 [00:00<00:00, 12227.13 examples/s]\n",
      "Flattening the indices: 100%|██████████| 184/184 [00:00<00:00, 20714.84 examples/s]\n",
      "Flattening the indices: 100%|██████████| 184/184 [00:00<00:00, 106994.58 examples/s]\n",
      "Map: 100%|██████████| 184/184 [00:00<00:00, 57018.98 examples/s]\n",
      "Filter -> Sex:F: 100%|██████████| 184/184 [00:00<00:00, 113010.97 examples/s]\n",
      "Filter -> Sex:M: 100%|██████████| 184/184 [00:00<00:00, 117968.81 examples/s]\n"
     ]
    }
   ],
   "source": [
    "results_female, _ = heart_failure_prediction_task.evaluate(\n",
    "    dataset=dataset[\"test\"],\n",
    "    metrics=MetricDict(\n",
    "        {\n",
    "            \"BinaryAccuracy\": create_metric(\n",
    "                metric_name=\"binary_accuracy\",\n",
    "                experimental=True,\n",
    "            ),\n",
    "        },\n",
    "    ),\n",
    "    model_names=model_name,\n",
    "    transforms=preprocessor,\n",
    "    prediction_column_prefix=\"preds\",\n",
    "    slice_spec=SliceSpec(\n",
    "        [{\"Sex\": {\"value\": \"F\"}}, {\"Sex\": {\"value\": \"M\"}}], include_overall=False\n",
    "    ),\n",
    "    batch_size=-1,\n",
    ")"
   ]
  },
  {
   "cell_type": "markdown",
   "metadata": {},
   "source": [
    "**Log the performance metrics to the report.**\n",
    "\n",
    "We can add a performance metric to the model card using the `log_performance_metric` method, which expects a dictionary where the keys are in the following format: `slice_name/metric_name`. For instance, `overall/accuracy`. \n",
    "\n",
    "We first need to process the evaluation results to get the metrics in the right format."
   ]
  },
  {
   "cell_type": "code",
   "execution_count": 38,
   "metadata": {},
   "outputs": [],
   "source": [
    "model_name = f\"model_for_preds.{model_name}\"\n",
    "\n",
    "results_flat = flatten_results_dict(\n",
    "    results=results,\n",
    "    remove_metrics=[\"BinaryROC\", \"BinaryPrecisionRecallCurve\"],\n",
    "    model_name=model_name,\n",
    ")\n",
    "results_female_flat = flatten_results_dict(\n",
    "    results=results_female,\n",
    "    remove_metrics=[\"BinaryROC\", \"BinaryPrecisionRecallCurve\"],\n",
    "    model_name=model_name,\n",
    ")\n",
    "# ruff: noqa: W505\n",
    "for name, metric in results_female_flat.items():\n",
    "    split, name = name.split(\"/\")  # noqa: PLW2901\n",
    "    descriptions = {\n",
    "        \"BinaryPrecision\": \"The proportion of predicted positive instances that are correctly predicted.\",\n",
    "        \"BinaryRecall\": \"The proportion of actual positive instances that are correctly predicted. Also known as recall or true positive rate.\",\n",
    "        \"BinaryAccuracy\": \"The proportion of all instances that are correctly predicted.\",\n",
    "        \"BinaryAUROC\": \"The area under the receiver operating characteristic curve (AUROC) is a measure of the performance of a binary classification model.\",\n",
    "        \"BinaryAveragePrecision\": \"The area under the precision-recall curve (AUPRC) is a measure of the performance of a binary classification model.\",\n",
    "        \"BinaryF1Score\": \"The harmonic mean of precision and recall.\",\n",
    "    }\n",
    "    report.log_quantitative_analysis(\n",
    "        \"performance\",\n",
    "        name=name,\n",
    "        value=metric.item(),\n",
    "        description=descriptions[name],\n",
    "        metric_slice=split,\n",
    "        pass_fail_thresholds=0.7,\n",
    "        pass_fail_threshold_fns=lambda x, threshold: bool(x >= threshold),\n",
    "    )\n",
    "\n",
    "for name, metric in results_flat.items():\n",
    "    split, name = name.split(\"/\")  # noqa: PLW2901\n",
    "    descriptions = {\n",
    "        \"BinaryPrecision\": \"The proportion of predicted positive instances that are correctly predicted.\",\n",
    "        \"BinaryRecall\": \"The proportion of actual positive instances that are correctly predicted. Also known as recall or true positive rate.\",\n",
    "        \"BinaryAccuracy\": \"The proportion of all instances that are correctly predicted.\",\n",
    "        \"BinaryAUROC\": \"The area under the receiver operating characteristic curve (AUROC) is a measure of the performance of a binary classification model.\",\n",
    "        \"BinaryAveragePrecision\": \"The area under the precision-recall curve (AUPRC) is a measure of the performance of a binary classification model.\",\n",
    "        \"BinaryF1Score\": \"The harmonic mean of precision and recall.\",\n",
    "    }\n",
    "    report.log_quantitative_analysis(\n",
    "        \"performance\",\n",
    "        name=name,\n",
    "        value=metric.item(),\n",
    "        description=descriptions[name],\n",
    "        metric_slice=split,\n",
    "        pass_fail_thresholds=0.7,\n",
    "        pass_fail_threshold_fns=lambda x, threshold: bool(x >= threshold),\n",
    "    )"
   ]
  },
  {
   "cell_type": "markdown",
   "metadata": {},
   "source": [
    "We can also use the `ClassificationPlotter` to plot the performance metrics and the add the figure to the model card using the `log_plotly_figure` method."
   ]
  },
  {
   "cell_type": "code",
   "execution_count": 39,
   "metadata": {},
   "outputs": [],
   "source": [
    "plotter = ClassificationPlotter(task_type=\"binary\", class_names=[\"0\", \"1\"])\n",
    "plotter.set_template(\"plotly_white\")"
   ]
  },
  {
   "cell_type": "code",
   "execution_count": 40,
   "metadata": {},
   "outputs": [
    {
     "data": {
      "text/plain": [
       "dict_keys(['Age:[30 - 50)', 'Age:[50 - 70)', 'Sex:M', 'overall'])"
      ]
     },
     "execution_count": 40,
     "metadata": {},
     "output_type": "execute_result"
    }
   ],
   "source": [
    "# extracting the ROC curves and AUROC results for all the slices\n",
    "roc_curves = {\n",
    "    slice_name: slice_results[\"BinaryROC\"]\n",
    "    for slice_name, slice_results in results[model_name].items()\n",
    "}\n",
    "aurocs = {\n",
    "    slice_name: slice_results[\"BinaryAUROC\"]\n",
    "    for slice_name, slice_results in results[model_name].items()\n",
    "}\n",
    "roc_curves.keys()"
   ]
  },
  {
   "cell_type": "code",
   "execution_count": 41,
   "metadata": {},
   "outputs": [
    {
     "data": {
      "application/vnd.plotly.v1+json": {
       "config": {
        "plotlyServerURL": "https://plot.ly"
       },
       "data": [
        {
         "mode": "lines",
         "name": "Age:[30 - 50) (AUC = 0.88)",
         "type": "scatter",
         "x": [
          0,
          0,
          0,
          0.02777777798473835,
          0.0555555559694767,
          0.0555555559694767,
          0.0555555559694767,
          0.0555555559694767,
          0.0555555559694767,
          0.0555555559694767,
          0.0555555559694767,
          0.0833333358168602,
          0.1111111119389534,
          0.1111111119389534,
          0.1111111119389534,
          0.1111111119389534,
          0.1111111119389534,
          0.1111111119389534,
          0.1111111119389534,
          0.1111111119389534,
          0.1111111119389534,
          0.1111111119389534,
          0.1111111119389534,
          0.1111111119389534,
          0.1111111119389534,
          0.1111111119389534,
          0.1111111119389534,
          0.1388888955116272,
          0.1388888955116272,
          0.1666666716337204,
          0.1666666716337204,
          0.1944444477558136,
          0.1944444477558136,
          0.2222222238779068,
          0.2222222238779068,
          0.25,
          0.2777777910232544,
          0.2777777910232544,
          0.3055555522441864,
          0.3333333432674408,
          0.3611111044883728,
          0.3888888955116272,
          0.4166666567325592,
          0.4166666567325592,
          0.4444444477558136,
          0.4722222089767456,
          0.5,
          0.5277777910232544,
          0.5555555820465088,
          0.5833333134651184,
          0.6111111044883728,
          0.6388888955116272,
          0.6666666865348816,
          0.6944444179534912,
          0.7222222089767456,
          0.75,
          0.7777777910232544,
          0.8055555820465088,
          0.8333333134651184,
          0.8611111044883728,
          0.8888888955116272,
          0.9166666865348816,
          0.9444444179534912,
          0.9722222089767456,
          1
         ],
         "y": [
          0,
          0.0357142873108387,
          0.0714285746216774,
          0.0714285746216774,
          0.0714285746216774,
          0.1071428582072258,
          0.1428571492433548,
          0.1785714328289032,
          0.2142857164144516,
          0.25,
          0.2857142984867096,
          0.2857142984867096,
          0.2857142984867096,
          0.3214285671710968,
          0.3571428656578064,
          0.3928571343421936,
          0.4285714328289032,
          0.4642857015132904,
          0.5,
          0.5357142686843872,
          0.5714285969734192,
          0.6071428656578064,
          0.6428571343421936,
          0.6785714030265808,
          0.7142857313156128,
          0.75,
          0.7857142686843872,
          0.7857142686843872,
          0.8214285969734192,
          0.8214285969734192,
          0.8571428656578064,
          0.8571428656578064,
          0.8928571343421936,
          0.8928571343421936,
          0.9285714030265808,
          0.9285714030265808,
          0.9285714030265808,
          0.9642857313156128,
          0.9642857313156128,
          0.9642857313156128,
          0.9642857313156128,
          0.9642857313156128,
          0.9642857313156128,
          1,
          1,
          1,
          1,
          1,
          1,
          1,
          1,
          1,
          1,
          1,
          1,
          1,
          1,
          1,
          1,
          1,
          1,
          1,
          1,
          1,
          1
         ]
        },
        {
         "mode": "lines",
         "name": "Age:[50 - 70) (AUC = 0.93)",
         "type": "scatter",
         "x": [
          0,
          0,
          0,
          0,
          0,
          0,
          0,
          0,
          0,
          0,
          0,
          0,
          0,
          0,
          0,
          0,
          0,
          0,
          0.022727273404598236,
          0.022727273404598236,
          0.022727273404598236,
          0.022727273404598236,
          0.022727273404598236,
          0.022727273404598236,
          0.022727273404598236,
          0.022727273404598236,
          0.022727273404598236,
          0.022727273404598236,
          0.022727273404598236,
          0.022727273404598236,
          0.022727273404598236,
          0.022727273404598236,
          0.022727273404598236,
          0.022727273404598236,
          0.04545454680919647,
          0.04545454680919647,
          0.04545454680919647,
          0.04545454680919647,
          0.04545454680919647,
          0.04545454680919647,
          0.04545454680919647,
          0.04545454680919647,
          0.06818182021379471,
          0.06818182021379471,
          0.06818182021379471,
          0.06818182021379471,
          0.06818182021379471,
          0.06818182021379471,
          0.06818182021379471,
          0.06818182021379471,
          0.06818182021379471,
          0.06818182021379471,
          0.06818182021379471,
          0.06818182021379471,
          0.06818182021379471,
          0.06818182021379471,
          0.06818182021379471,
          0.09090909361839294,
          0.11363636702299118,
          0.13636364042758942,
          0.13636364042758942,
          0.13636364042758942,
          0.13636364042758942,
          0.15909090638160706,
          0.1818181872367859,
          0.1818181872367859,
          0.1818181872367859,
          0.20454545319080353,
          0.20454545319080353,
          0.22727273404598236,
          0.22727273404598236,
          0.22727273404598236,
          0.25,
          0.27272728085517883,
          0.2954545319080353,
          0.3181818127632141,
          0.34090909361839294,
          0.3636363744735718,
          0.3863636255264282,
          0.3863636255264282,
          0.3863636255264282,
          0.40909090638160706,
          0.40909090638160706,
          0.4318181872367859,
          0.4545454680919647,
          0.4545454680919647,
          0.47727271914482117,
          0.5,
          0.5227272510528564,
          0.5454545617103577,
          0.5681818127632141,
          0.5909090638160706,
          0.6136363744735718,
          0.6363636255264282,
          0.6590909361839294,
          0.6818181872367859,
          0.7045454382896423,
          0.7272727489471436,
          0.75,
          0.7727272510528564,
          0.7954545617103577,
          0.8181818127632141,
          0.8409090638160706,
          0.8636363744735718,
          0.8863636255264282,
          0.9090909361839294,
          0.9318181872367859,
          0.9545454382896423,
          0.9772727489471436,
          1
         ],
         "y": [
          0,
          0.015384615398943424,
          0.03076923079788685,
          0.04615384712815285,
          0.0615384615957737,
          0.07692307978868484,
          0.0923076942563057,
          0.10769230872392654,
          0.1230769231915474,
          0.13846154510974884,
          0.1538461595773697,
          0.16923077404499054,
          0.1846153885126114,
          0.20000000298023224,
          0.2153846174478531,
          0.23076923191547394,
          0.2461538463830948,
          0.26153847575187683,
          0.26153847575187683,
          0.2769230902194977,
          0.29230770468711853,
          0.3076923191547394,
          0.32307693362236023,
          0.3384615480899811,
          0.35384616255760193,
          0.3692307770252228,
          0.38461539149284363,
          0.4000000059604645,
          0.4153846204280853,
          0.4307692348957062,
          0.446153849363327,
          0.4615384638309479,
          0.4769230782985687,
          0.4923076927661896,
          0.4923076927661896,
          0.5076923370361328,
          0.5230769515037537,
          0.5384615659713745,
          0.5538461804389954,
          0.5692307949066162,
          0.5846154093742371,
          0.6000000238418579,
          0.6000000238418579,
          0.6153846383094788,
          0.6307692527770996,
          0.6461538672447205,
          0.6615384817123413,
          0.6769230961799622,
          0.692307710647583,
          0.7076923251152039,
          0.7230769395828247,
          0.7384615540504456,
          0.7538461685180664,
          0.7692307829856873,
          0.7846153974533081,
          0.800000011920929,
          0.8153846263885498,
          0.8153846263885498,
          0.8153846263885498,
          0.8153846263885498,
          0.8307692408561707,
          0.8461538553237915,
          0.8615384697914124,
          0.8615384697914124,
          0.8615384697914124,
          0.8769230842590332,
          0.892307698726654,
          0.892307698726654,
          0.9076923131942749,
          0.9076923131942749,
          0.9230769276618958,
          0.9384615421295166,
          0.9384615421295166,
          0.9384615421295166,
          0.9384615421295166,
          0.9384615421295166,
          0.9384615421295166,
          0.9384615421295166,
          0.9384615421295166,
          0.9538461565971375,
          0.9692307710647583,
          0.9692307710647583,
          0.9846153855323792,
          0.9846153855323792,
          0.9846153855323792,
          1,
          1,
          1,
          1,
          1,
          1,
          1,
          1,
          1,
          1,
          1,
          1,
          1,
          1,
          1,
          1,
          1,
          1,
          1,
          1,
          1,
          1,
          1,
          1,
          1
         ]
        },
        {
         "mode": "lines",
         "name": "Sex:M (AUC = 0.90)",
         "type": "scatter",
         "x": [
          0,
          0,
          0,
          0,
          0,
          0,
          0,
          0,
          0,
          0,
          0,
          0,
          0,
          0,
          0,
          0,
          0,
          0,
          0,
          0,
          0,
          0,
          0.01923076994717121,
          0.01923076994717121,
          0.03846153989434242,
          0.03846153989434242,
          0.03846153989434242,
          0.057692307978868484,
          0.057692307978868484,
          0.057692307978868484,
          0.057692307978868484,
          0.057692307978868484,
          0.057692307978868484,
          0.057692307978868484,
          0.057692307978868484,
          0.057692307978868484,
          0.057692307978868484,
          0.057692307978868484,
          0.057692307978868484,
          0.057692307978868484,
          0.057692307978868484,
          0.07692307978868484,
          0.07692307978868484,
          0.07692307978868484,
          0.07692307978868484,
          0.07692307978868484,
          0.07692307978868484,
          0.07692307978868484,
          0.07692307978868484,
          0.07692307978868484,
          0.07692307978868484,
          0.07692307978868484,
          0.07692307978868484,
          0.07692307978868484,
          0.09615384787321091,
          0.09615384787321091,
          0.09615384787321091,
          0.09615384787321091,
          0.09615384787321091,
          0.09615384787321091,
          0.09615384787321091,
          0.09615384787321091,
          0.09615384787321091,
          0.09615384787321091,
          0.09615384787321091,
          0.09615384787321091,
          0.09615384787321091,
          0.09615384787321091,
          0.09615384787321091,
          0.09615384787321091,
          0.09615384787321091,
          0.09615384787321091,
          0.09615384787321091,
          0.09615384787321091,
          0.09615384787321091,
          0.09615384787321091,
          0.09615384787321091,
          0.09615384787321091,
          0.09615384787321091,
          0.09615384787321091,
          0.09615384787321091,
          0.11538461595773697,
          0.13461539149284363,
          0.1538461595773697,
          0.1538461595773697,
          0.1538461595773697,
          0.1538461595773697,
          0.17307692766189575,
          0.19230769574642181,
          0.19230769574642181,
          0.19230769574642181,
          0.21153846383094788,
          0.21153846383094788,
          0.21153846383094788,
          0.21153846383094788,
          0.23076923191547394,
          0.23076923191547394,
          0.23076923191547394,
          0.23076923191547394,
          0.23076923191547394,
          0.25,
          0.26923078298568726,
          0.26923078298568726,
          0.26923078298568726,
          0.2884615361690521,
          0.3076923191547394,
          0.32692307233810425,
          0.32692307233810425,
          0.3461538553237915,
          0.36538460850715637,
          0.38461539149284363,
          0.4038461446762085,
          0.4038461446762085,
          0.4038461446762085,
          0.4038461446762085,
          0.42307692766189575,
          0.4423076808452606,
          0.4615384638309479,
          0.48076921701431274,
          0.5,
          0.5,
          0.5192307829856873,
          0.5384615659713745,
          0.557692289352417,
          0.5769230723381042,
          0.5961538553237915,
          0.6153846383094788,
          0.6346153616905212,
          0.6538461446762085,
          0.6730769276618958,
          0.692307710647583,
          0.7115384340286255,
          0.7307692170143127,
          0.75,
          0.7692307829856873,
          0.7884615659713745,
          0.807692289352417,
          0.8269230723381042,
          0.8461538553237915,
          0.8653846383094788,
          0.8846153616905212,
          0.9038461446762085,
          0.9230769276618958,
          0.942307710647583,
          0.9615384340286255,
          0.9807692170143127,
          1
         ],
         "y": [
          0,
          0.010638297535479069,
          0.021276595070958138,
          0.03191489353775978,
          0.042553190141916275,
          0.05319149047136307,
          0.06382978707551956,
          0.07446808367967606,
          0.08510638028383255,
          0.09574468433856964,
          0.10638298094272614,
          0.11702127754688263,
          0.12765957415103912,
          0.13829787075519562,
          0.1489361673593521,
          0.1595744639635086,
          0.1702127605676651,
          0.1808510571718216,
          0.19148936867713928,
          0.20212766528129578,
          0.21276596188545227,
          0.22340425848960876,
          0.22340425848960876,
          0.23404255509376526,
          0.23404255509376526,
          0.24468085169792175,
          0.25531914830207825,
          0.25531914830207825,
          0.26595744490623474,
          0.27659574151039124,
          0.28723403811454773,
          0.2978723347187042,
          0.3085106313228607,
          0.3191489279270172,
          0.3297872245311737,
          0.3404255211353302,
          0.3510638177394867,
          0.3617021143436432,
          0.3723404109477997,
          0.38297873735427856,
          0.39361703395843506,
          0.39361703395843506,
          0.40425533056259155,
          0.41489362716674805,
          0.42553192377090454,
          0.43617022037506104,
          0.44680851697921753,
          0.457446813583374,
          0.4680851101875305,
          0.478723406791687,
          0.4893617033958435,
          0.5,
          0.5106382966041565,
          0.521276593208313,
          0.521276593208313,
          0.5319148898124695,
          0.542553186416626,
          0.5531914830207825,
          0.563829779624939,
          0.5744680762290955,
          0.585106372833252,
          0.5957446694374084,
          0.6063829660415649,
          0.6170212626457214,
          0.6276595592498779,
          0.6382978558540344,
          0.6489361524581909,
          0.6595744490623474,
          0.6702127456665039,
          0.6808510422706604,
          0.6914893388748169,
          0.7021276354789734,
          0.7127659320831299,
          0.7234042286872864,
          0.7340425252914429,
          0.7446808218955994,
          0.7553191781044006,
          0.7659574747085571,
          0.7765957713127136,
          0.7872340679168701,
          0.7978723645210266,
          0.7978723645210266,
          0.7978723645210266,
          0.7978723645210266,
          0.8085106611251831,
          0.8191489577293396,
          0.8297872543334961,
          0.8297872543334961,
          0.8297872543334961,
          0.8404255509376526,
          0.8510638475418091,
          0.8510638475418091,
          0.8617021441459656,
          0.8723404407501221,
          0.8829787373542786,
          0.8829787373542786,
          0.8936170339584351,
          0.9042553305625916,
          0.914893627166748,
          0.9255319237709045,
          0.9255319237709045,
          0.9255319237709045,
          0.936170220375061,
          0.9468085169792175,
          0.9468085169792175,
          0.9468085169792175,
          0.9468085169792175,
          0.957446813583374,
          0.957446813583374,
          0.957446813583374,
          0.957446813583374,
          0.957446813583374,
          0.9680851101875305,
          0.978723406791687,
          0.9893617033958435,
          0.9893617033958435,
          0.9893617033958435,
          0.9893617033958435,
          0.9893617033958435,
          0.9893617033958435,
          1,
          1,
          1,
          1,
          1,
          1,
          1,
          1,
          1,
          1,
          1,
          1,
          1,
          1,
          1,
          1,
          1,
          1,
          1,
          1,
          1,
          1,
          1,
          1,
          1,
          1,
          1
         ]
        },
        {
         "mode": "lines",
         "name": "overall (AUC = 0.92)",
         "type": "scatter",
         "x": [
          0,
          0,
          0,
          0,
          0,
          0,
          0,
          0,
          0,
          0,
          0,
          0,
          0,
          0,
          0,
          0,
          0,
          0,
          0,
          0,
          0,
          0,
          0.012195121496915817,
          0.012195121496915817,
          0.024390242993831635,
          0.024390242993831635,
          0.024390242993831635,
          0.03658536449074745,
          0.03658536449074745,
          0.03658536449074745,
          0.03658536449074745,
          0.03658536449074745,
          0.03658536449074745,
          0.03658536449074745,
          0.03658536449074745,
          0.03658536449074745,
          0.03658536449074745,
          0.03658536449074745,
          0.03658536449074745,
          0.03658536449074745,
          0.03658536449074745,
          0.03658536449074745,
          0.04878048598766327,
          0.04878048598766327,
          0.04878048598766327,
          0.04878048598766327,
          0.04878048598766327,
          0.04878048598766327,
          0.04878048598766327,
          0.04878048598766327,
          0.04878048598766327,
          0.04878048598766327,
          0.04878048598766327,
          0.04878048598766327,
          0.04878048598766327,
          0.04878048598766327,
          0.060975611209869385,
          0.060975611209869385,
          0.060975611209869385,
          0.060975611209869385,
          0.060975611209869385,
          0.060975611209869385,
          0.0731707289814949,
          0.08536585420370102,
          0.08536585420370102,
          0.08536585420370102,
          0.08536585420370102,
          0.08536585420370102,
          0.08536585420370102,
          0.08536585420370102,
          0.08536585420370102,
          0.08536585420370102,
          0.08536585420370102,
          0.08536585420370102,
          0.08536585420370102,
          0.08536585420370102,
          0.08536585420370102,
          0.08536585420370102,
          0.08536585420370102,
          0.08536585420370102,
          0.08536585420370102,
          0.08536585420370102,
          0.08536585420370102,
          0.08536585420370102,
          0.08536585420370102,
          0.08536585420370102,
          0.08536585420370102,
          0.09756097197532654,
          0.10975609719753265,
          0.12195122241973877,
          0.12195122241973877,
          0.12195122241973877,
          0.12195122241973877,
          0.13414634764194489,
          0.1463414579629898,
          0.1463414579629898,
          0.1463414579629898,
          0.15853658318519592,
          0.15853658318519592,
          0.15853658318519592,
          0.15853658318519592,
          0.17073170840740204,
          0.17073170840740204,
          0.17073170840740204,
          0.17073170840740204,
          0.17073170840740204,
          0.17073170840740204,
          0.18292683362960815,
          0.19512194395065308,
          0.19512194395065308,
          0.2073170691728592,
          0.2073170691728592,
          0.2195121943950653,
          0.23170731961727142,
          0.24390244483947754,
          0.25609755516052246,
          0.25609755516052246,
          0.26829269528388977,
          0.2804878056049347,
          0.2926829159259796,
          0.3048780560493469,
          0.31707316637039185,
          0.31707316637039185,
          0.31707316637039185,
          0.31707316637039185,
          0.32926830649375916,
          0.3414634168148041,
          0.353658527135849,
          0.353658527135849,
          0.353658527135849,
          0.3658536672592163,
          0.37804877758026123,
          0.39024388790130615,
          0.40243902802467346,
          0.4146341383457184,
          0.4146341383457184,
          0.4268292784690857,
          0.4390243887901306,
          0.45121949911117554,
          0.45121949911117554,
          0.46341463923454285,
          0.47560974955558777,
          0.4878048896789551,
          0.5,
          0.5121951103210449,
          0.5243902206420898,
          0.5365853905677795,
          0.5487805008888245,
          0.5609756112098694,
          0.5731707215309143,
          0.5853658318519592,
          0.5975610017776489,
          0.6097561120986938,
          0.6219512224197388,
          0.6341463327407837,
          0.6463414430618286,
          0.6585366129875183,
          0.6707317233085632,
          0.6829268336296082,
          0.6951219439506531,
          0.707317054271698,
          0.7195122241973877,
          0.7317073345184326,
          0.7439024448394775,
          0.7560975551605225,
          0.7682926654815674,
          0.7804877758026123,
          0.792682945728302,
          0.8048780560493469,
          0.8170731663703918,
          0.8292682766914368,
          0.8414633870124817,
          0.8536585569381714,
          0.8658536672592163,
          0.8780487775802612,
          0.8902438879013062,
          0.9024389982223511,
          0.9146341681480408,
          0.9268292784690857,
          0.9390243887901306,
          0.9512194991111755,
          0.9634146094322205,
          0.9756097793579102,
          0.9878048896789551,
          1
         ],
         "y": [
          0,
          0.009803921915590763,
          0.019607843831181526,
          0.029411764815449715,
          0.03921568766236305,
          0.04901960864663124,
          0.05882352963089943,
          0.06862745434045792,
          0.0784313753247261,
          0.0882352963089943,
          0.09803921729326248,
          0.10784313827753067,
          0.11764705926179886,
          0.12745098769664764,
          0.13725490868091583,
          0.14705882966518402,
          0.1568627506494522,
          0.1666666716337204,
          0.1764705926179886,
          0.18627451360225677,
          0.19607843458652496,
          0.20588235557079315,
          0.20588235557079315,
          0.21568627655506134,
          0.21568627655506134,
          0.22549019753932953,
          0.23529411852359772,
          0.23529411852359772,
          0.2450980395078659,
          0.2549019753932953,
          0.2647058963775635,
          0.27450981736183167,
          0.28431373834609985,
          0.29411765933036804,
          0.30392158031463623,
          0.3137255012989044,
          0.3235294222831726,
          0.3333333432674408,
          0.343137264251709,
          0.3529411852359772,
          0.36274510622024536,
          0.37254902720451355,
          0.37254902720451355,
          0.38235294818878174,
          0.3921568691730499,
          0.4019607901573181,
          0.4117647111415863,
          0.4215686321258545,
          0.4313725531101227,
          0.44117647409439087,
          0.45098039507865906,
          0.46078431606292725,
          0.47058823704719543,
          0.4803921580314636,
          0.4901960790157318,
          0.5,
          0.5,
          0.5098039507865906,
          0.5196078419685364,
          0.529411792755127,
          0.5392156839370728,
          0.5490196347236633,
          0.5490196347236633,
          0.5490196347236633,
          0.5588235259056091,
          0.5686274766921997,
          0.5784313678741455,
          0.5882353186607361,
          0.5980392098426819,
          0.6078431606292725,
          0.6176470518112183,
          0.6274510025978088,
          0.6372548937797546,
          0.6470588445663452,
          0.656862735748291,
          0.6666666865348816,
          0.6764705777168274,
          0.686274528503418,
          0.6960784196853638,
          0.7058823704719543,
          0.7156862616539001,
          0.7254902124404907,
          0.7352941036224365,
          0.7450980544090271,
          0.7549019455909729,
          0.7647058963775635,
          0.7745097875595093,
          0.7745097875595093,
          0.7745097875595093,
          0.7745097875595093,
          0.7843137383460999,
          0.7941176295280457,
          0.8039215803146362,
          0.8039215803146362,
          0.8039215803146362,
          0.813725471496582,
          0.8235294222831726,
          0.8235294222831726,
          0.8333333134651184,
          0.843137264251709,
          0.8529411554336548,
          0.8529411554336548,
          0.8627451062202454,
          0.8725489974021912,
          0.8823529481887817,
          0.8921568393707275,
          0.9019607901573181,
          0.9019607901573181,
          0.9019607901573181,
          0.9117646813392639,
          0.9117646813392639,
          0.9215686321258545,
          0.9215686321258545,
          0.9215686321258545,
          0.9215686321258545,
          0.9215686321258545,
          0.9313725233078003,
          0.9313725233078003,
          0.9313725233078003,
          0.9313725233078003,
          0.9313725233078003,
          0.9313725233078003,
          0.9411764740943909,
          0.9509803652763367,
          0.9607843160629272,
          0.9607843160629272,
          0.9607843160629272,
          0.9607843160629272,
          0.970588207244873,
          0.9803921580314636,
          0.9803921580314636,
          0.9803921580314636,
          0.9803921580314636,
          0.9803921580314636,
          0.9803921580314636,
          0.9901960492134094,
          0.9901960492134094,
          0.9901960492134094,
          0.9901960492134094,
          1,
          1,
          1,
          1,
          1,
          1,
          1,
          1,
          1,
          1,
          1,
          1,
          1,
          1,
          1,
          1,
          1,
          1,
          1,
          1,
          1,
          1,
          1,
          1,
          1,
          1,
          1,
          1,
          1,
          1,
          1,
          1,
          1,
          1,
          1,
          1,
          1,
          1,
          1,
          1,
          1,
          1,
          1,
          1,
          1,
          1
         ]
        },
        {
         "line": {
          "dash": "dash"
         },
         "mode": "lines",
         "name": "Random Classifier",
         "type": "scatter",
         "x": [
          0,
          1
         ],
         "y": [
          0,
          1
         ]
        }
       ],
       "layout": {
        "template": {
         "data": {
          "bar": [
           {
            "error_x": {
             "color": "#2a3f5f"
            },
            "error_y": {
             "color": "#2a3f5f"
            },
            "marker": {
             "line": {
              "color": "white",
              "width": 0.5
             },
             "pattern": {
              "fillmode": "overlay",
              "size": 10,
              "solidity": 0.2
             }
            },
            "type": "bar"
           }
          ],
          "barpolar": [
           {
            "marker": {
             "line": {
              "color": "white",
              "width": 0.5
             },
             "pattern": {
              "fillmode": "overlay",
              "size": 10,
              "solidity": 0.2
             }
            },
            "type": "barpolar"
           }
          ],
          "carpet": [
           {
            "aaxis": {
             "endlinecolor": "#2a3f5f",
             "gridcolor": "#C8D4E3",
             "linecolor": "#C8D4E3",
             "minorgridcolor": "#C8D4E3",
             "startlinecolor": "#2a3f5f"
            },
            "baxis": {
             "endlinecolor": "#2a3f5f",
             "gridcolor": "#C8D4E3",
             "linecolor": "#C8D4E3",
             "minorgridcolor": "#C8D4E3",
             "startlinecolor": "#2a3f5f"
            },
            "type": "carpet"
           }
          ],
          "choropleth": [
           {
            "colorbar": {
             "outlinewidth": 0,
             "ticks": ""
            },
            "type": "choropleth"
           }
          ],
          "contour": [
           {
            "colorbar": {
             "outlinewidth": 0,
             "ticks": ""
            },
            "colorscale": [
             [
              0,
              "#0d0887"
             ],
             [
              0.1111111111111111,
              "#46039f"
             ],
             [
              0.2222222222222222,
              "#7201a8"
             ],
             [
              0.3333333333333333,
              "#9c179e"
             ],
             [
              0.4444444444444444,
              "#bd3786"
             ],
             [
              0.5555555555555556,
              "#d8576b"
             ],
             [
              0.6666666666666666,
              "#ed7953"
             ],
             [
              0.7777777777777778,
              "#fb9f3a"
             ],
             [
              0.8888888888888888,
              "#fdca26"
             ],
             [
              1,
              "#f0f921"
             ]
            ],
            "type": "contour"
           }
          ],
          "contourcarpet": [
           {
            "colorbar": {
             "outlinewidth": 0,
             "ticks": ""
            },
            "type": "contourcarpet"
           }
          ],
          "heatmap": [
           {
            "colorbar": {
             "outlinewidth": 0,
             "ticks": ""
            },
            "colorscale": [
             [
              0,
              "#0d0887"
             ],
             [
              0.1111111111111111,
              "#46039f"
             ],
             [
              0.2222222222222222,
              "#7201a8"
             ],
             [
              0.3333333333333333,
              "#9c179e"
             ],
             [
              0.4444444444444444,
              "#bd3786"
             ],
             [
              0.5555555555555556,
              "#d8576b"
             ],
             [
              0.6666666666666666,
              "#ed7953"
             ],
             [
              0.7777777777777778,
              "#fb9f3a"
             ],
             [
              0.8888888888888888,
              "#fdca26"
             ],
             [
              1,
              "#f0f921"
             ]
            ],
            "type": "heatmap"
           }
          ],
          "heatmapgl": [
           {
            "colorbar": {
             "outlinewidth": 0,
             "ticks": ""
            },
            "colorscale": [
             [
              0,
              "#0d0887"
             ],
             [
              0.1111111111111111,
              "#46039f"
             ],
             [
              0.2222222222222222,
              "#7201a8"
             ],
             [
              0.3333333333333333,
              "#9c179e"
             ],
             [
              0.4444444444444444,
              "#bd3786"
             ],
             [
              0.5555555555555556,
              "#d8576b"
             ],
             [
              0.6666666666666666,
              "#ed7953"
             ],
             [
              0.7777777777777778,
              "#fb9f3a"
             ],
             [
              0.8888888888888888,
              "#fdca26"
             ],
             [
              1,
              "#f0f921"
             ]
            ],
            "type": "heatmapgl"
           }
          ],
          "histogram": [
           {
            "marker": {
             "pattern": {
              "fillmode": "overlay",
              "size": 10,
              "solidity": 0.2
             }
            },
            "type": "histogram"
           }
          ],
          "histogram2d": [
           {
            "colorbar": {
             "outlinewidth": 0,
             "ticks": ""
            },
            "colorscale": [
             [
              0,
              "#0d0887"
             ],
             [
              0.1111111111111111,
              "#46039f"
             ],
             [
              0.2222222222222222,
              "#7201a8"
             ],
             [
              0.3333333333333333,
              "#9c179e"
             ],
             [
              0.4444444444444444,
              "#bd3786"
             ],
             [
              0.5555555555555556,
              "#d8576b"
             ],
             [
              0.6666666666666666,
              "#ed7953"
             ],
             [
              0.7777777777777778,
              "#fb9f3a"
             ],
             [
              0.8888888888888888,
              "#fdca26"
             ],
             [
              1,
              "#f0f921"
             ]
            ],
            "type": "histogram2d"
           }
          ],
          "histogram2dcontour": [
           {
            "colorbar": {
             "outlinewidth": 0,
             "ticks": ""
            },
            "colorscale": [
             [
              0,
              "#0d0887"
             ],
             [
              0.1111111111111111,
              "#46039f"
             ],
             [
              0.2222222222222222,
              "#7201a8"
             ],
             [
              0.3333333333333333,
              "#9c179e"
             ],
             [
              0.4444444444444444,
              "#bd3786"
             ],
             [
              0.5555555555555556,
              "#d8576b"
             ],
             [
              0.6666666666666666,
              "#ed7953"
             ],
             [
              0.7777777777777778,
              "#fb9f3a"
             ],
             [
              0.8888888888888888,
              "#fdca26"
             ],
             [
              1,
              "#f0f921"
             ]
            ],
            "type": "histogram2dcontour"
           }
          ],
          "mesh3d": [
           {
            "colorbar": {
             "outlinewidth": 0,
             "ticks": ""
            },
            "type": "mesh3d"
           }
          ],
          "parcoords": [
           {
            "line": {
             "colorbar": {
              "outlinewidth": 0,
              "ticks": ""
             }
            },
            "type": "parcoords"
           }
          ],
          "pie": [
           {
            "automargin": true,
            "type": "pie"
           }
          ],
          "scatter": [
           {
            "fillpattern": {
             "fillmode": "overlay",
             "size": 10,
             "solidity": 0.2
            },
            "type": "scatter"
           }
          ],
          "scatter3d": [
           {
            "line": {
             "colorbar": {
              "outlinewidth": 0,
              "ticks": ""
             }
            },
            "marker": {
             "colorbar": {
              "outlinewidth": 0,
              "ticks": ""
             }
            },
            "type": "scatter3d"
           }
          ],
          "scattercarpet": [
           {
            "marker": {
             "colorbar": {
              "outlinewidth": 0,
              "ticks": ""
             }
            },
            "type": "scattercarpet"
           }
          ],
          "scattergeo": [
           {
            "marker": {
             "colorbar": {
              "outlinewidth": 0,
              "ticks": ""
             }
            },
            "type": "scattergeo"
           }
          ],
          "scattergl": [
           {
            "marker": {
             "colorbar": {
              "outlinewidth": 0,
              "ticks": ""
             }
            },
            "type": "scattergl"
           }
          ],
          "scattermapbox": [
           {
            "marker": {
             "colorbar": {
              "outlinewidth": 0,
              "ticks": ""
             }
            },
            "type": "scattermapbox"
           }
          ],
          "scatterpolar": [
           {
            "marker": {
             "colorbar": {
              "outlinewidth": 0,
              "ticks": ""
             }
            },
            "type": "scatterpolar"
           }
          ],
          "scatterpolargl": [
           {
            "marker": {
             "colorbar": {
              "outlinewidth": 0,
              "ticks": ""
             }
            },
            "type": "scatterpolargl"
           }
          ],
          "scatterternary": [
           {
            "marker": {
             "colorbar": {
              "outlinewidth": 0,
              "ticks": ""
             }
            },
            "type": "scatterternary"
           }
          ],
          "surface": [
           {
            "colorbar": {
             "outlinewidth": 0,
             "ticks": ""
            },
            "colorscale": [
             [
              0,
              "#0d0887"
             ],
             [
              0.1111111111111111,
              "#46039f"
             ],
             [
              0.2222222222222222,
              "#7201a8"
             ],
             [
              0.3333333333333333,
              "#9c179e"
             ],
             [
              0.4444444444444444,
              "#bd3786"
             ],
             [
              0.5555555555555556,
              "#d8576b"
             ],
             [
              0.6666666666666666,
              "#ed7953"
             ],
             [
              0.7777777777777778,
              "#fb9f3a"
             ],
             [
              0.8888888888888888,
              "#fdca26"
             ],
             [
              1,
              "#f0f921"
             ]
            ],
            "type": "surface"
           }
          ],
          "table": [
           {
            "cells": {
             "fill": {
              "color": "#EBF0F8"
             },
             "line": {
              "color": "white"
             }
            },
            "header": {
             "fill": {
              "color": "#C8D4E3"
             },
             "line": {
              "color": "white"
             }
            },
            "type": "table"
           }
          ]
         },
         "layout": {
          "annotationdefaults": {
           "arrowcolor": "#2a3f5f",
           "arrowhead": 0,
           "arrowwidth": 1
          },
          "autotypenumbers": "strict",
          "coloraxis": {
           "colorbar": {
            "outlinewidth": 0,
            "ticks": ""
           }
          },
          "colorscale": {
           "diverging": [
            [
             0,
             "#8e0152"
            ],
            [
             0.1,
             "#c51b7d"
            ],
            [
             0.2,
             "#de77ae"
            ],
            [
             0.3,
             "#f1b6da"
            ],
            [
             0.4,
             "#fde0ef"
            ],
            [
             0.5,
             "#f7f7f7"
            ],
            [
             0.6,
             "#e6f5d0"
            ],
            [
             0.7,
             "#b8e186"
            ],
            [
             0.8,
             "#7fbc41"
            ],
            [
             0.9,
             "#4d9221"
            ],
            [
             1,
             "#276419"
            ]
           ],
           "sequential": [
            [
             0,
             "#0d0887"
            ],
            [
             0.1111111111111111,
             "#46039f"
            ],
            [
             0.2222222222222222,
             "#7201a8"
            ],
            [
             0.3333333333333333,
             "#9c179e"
            ],
            [
             0.4444444444444444,
             "#bd3786"
            ],
            [
             0.5555555555555556,
             "#d8576b"
            ],
            [
             0.6666666666666666,
             "#ed7953"
            ],
            [
             0.7777777777777778,
             "#fb9f3a"
            ],
            [
             0.8888888888888888,
             "#fdca26"
            ],
            [
             1,
             "#f0f921"
            ]
           ],
           "sequentialminus": [
            [
             0,
             "#0d0887"
            ],
            [
             0.1111111111111111,
             "#46039f"
            ],
            [
             0.2222222222222222,
             "#7201a8"
            ],
            [
             0.3333333333333333,
             "#9c179e"
            ],
            [
             0.4444444444444444,
             "#bd3786"
            ],
            [
             0.5555555555555556,
             "#d8576b"
            ],
            [
             0.6666666666666666,
             "#ed7953"
            ],
            [
             0.7777777777777778,
             "#fb9f3a"
            ],
            [
             0.8888888888888888,
             "#fdca26"
            ],
            [
             1,
             "#f0f921"
            ]
           ]
          },
          "colorway": [
           "#636efa",
           "#EF553B",
           "#00cc96",
           "#ab63fa",
           "#FFA15A",
           "#19d3f3",
           "#FF6692",
           "#B6E880",
           "#FF97FF",
           "#FECB52"
          ],
          "font": {
           "color": "#2a3f5f"
          },
          "geo": {
           "bgcolor": "white",
           "lakecolor": "white",
           "landcolor": "white",
           "showlakes": true,
           "showland": true,
           "subunitcolor": "#C8D4E3"
          },
          "hoverlabel": {
           "align": "left"
          },
          "hovermode": "closest",
          "mapbox": {
           "style": "light"
          },
          "paper_bgcolor": "white",
          "plot_bgcolor": "white",
          "polar": {
           "angularaxis": {
            "gridcolor": "#EBF0F8",
            "linecolor": "#EBF0F8",
            "ticks": ""
           },
           "bgcolor": "white",
           "radialaxis": {
            "gridcolor": "#EBF0F8",
            "linecolor": "#EBF0F8",
            "ticks": ""
           }
          },
          "scene": {
           "xaxis": {
            "backgroundcolor": "white",
            "gridcolor": "#DFE8F3",
            "gridwidth": 2,
            "linecolor": "#EBF0F8",
            "showbackground": true,
            "ticks": "",
            "zerolinecolor": "#EBF0F8"
           },
           "yaxis": {
            "backgroundcolor": "white",
            "gridcolor": "#DFE8F3",
            "gridwidth": 2,
            "linecolor": "#EBF0F8",
            "showbackground": true,
            "ticks": "",
            "zerolinecolor": "#EBF0F8"
           },
           "zaxis": {
            "backgroundcolor": "white",
            "gridcolor": "#DFE8F3",
            "gridwidth": 2,
            "linecolor": "#EBF0F8",
            "showbackground": true,
            "ticks": "",
            "zerolinecolor": "#EBF0F8"
           }
          },
          "shapedefaults": {
           "line": {
            "color": "#2a3f5f"
           }
          },
          "ternary": {
           "aaxis": {
            "gridcolor": "#DFE8F3",
            "linecolor": "#A2B1C6",
            "ticks": ""
           },
           "baxis": {
            "gridcolor": "#DFE8F3",
            "linecolor": "#A2B1C6",
            "ticks": ""
           },
           "bgcolor": "white",
           "caxis": {
            "gridcolor": "#DFE8F3",
            "linecolor": "#A2B1C6",
            "ticks": ""
           }
          },
          "title": {
           "x": 0.05
          },
          "xaxis": {
           "automargin": true,
           "gridcolor": "#EBF0F8",
           "linecolor": "#EBF0F8",
           "ticks": "",
           "title": {
            "standoff": 15
           },
           "zerolinecolor": "#EBF0F8",
           "zerolinewidth": 2
          },
          "yaxis": {
           "automargin": true,
           "gridcolor": "#EBF0F8",
           "linecolor": "#EBF0F8",
           "ticks": "",
           "title": {
            "standoff": 15
           },
           "zerolinecolor": "#EBF0F8",
           "zerolinewidth": 2
          }
         }
        },
        "title": {
         "text": "ROC Curve Comparison"
        },
        "xaxis": {
         "title": {
          "text": "False Positive Rate"
         }
        },
        "yaxis": {
         "title": {
          "text": "True Positive Rate"
         }
        }
       }
      }
     },
     "metadata": {},
     "output_type": "display_data"
    }
   ],
   "source": [
    "# plotting the ROC curves for all the slices\n",
    "roc_plot = plotter.roc_curve_comparison(roc_curves, aurocs=aurocs)\n",
    "report.log_plotly_figure(\n",
    "    fig=roc_plot,\n",
    "    caption=\"ROC Curve for Female Patients\",\n",
    "    section_name=\"quantitative analysis\",\n",
    ")\n",
    "roc_plot.show()"
   ]
  },
  {
   "cell_type": "code",
   "execution_count": 42,
   "metadata": {},
   "outputs": [
    {
     "data": {
      "text/plain": [
       "dict_keys(['Age:[30 - 50)', 'Age:[50 - 70)', 'Sex:M', 'overall'])"
      ]
     },
     "execution_count": 42,
     "metadata": {},
     "output_type": "execute_result"
    }
   ],
   "source": [
    "# extracting the precision-recall curves and\n",
    "# average precision results for all the slices\n",
    "pr_curves = {\n",
    "    slice_name: slice_results[\"BinaryPrecisionRecallCurve\"]\n",
    "    for slice_name, slice_results in results[model_name].items()\n",
    "}\n",
    "average_precisions = {\n",
    "    slice_name: slice_results[\"BinaryAveragePrecision\"]\n",
    "    for slice_name, slice_results in results[model_name].items()\n",
    "}\n",
    "pr_curves.keys()"
   ]
  },
  {
   "cell_type": "code",
   "execution_count": 43,
   "metadata": {},
   "outputs": [
    {
     "data": {
      "application/vnd.plotly.v1+json": {
       "config": {
        "plotlyServerURL": "https://plot.ly"
       },
       "data": [
        {
         "mode": "lines",
         "name": "Age:[30 - 50) (AUC = 0.78)",
         "type": "scatter",
         "x": [
          1,
          1,
          1,
          1,
          1,
          1,
          1,
          1,
          1,
          1,
          1,
          1,
          1,
          1,
          1,
          1,
          1,
          1,
          1,
          1,
          1,
          1,
          0.9642857313156128,
          0.9642857313156128,
          0.9642857313156128,
          0.9642857313156128,
          0.9642857313156128,
          0.9642857313156128,
          0.9285714030265808,
          0.9285714030265808,
          0.9285714030265808,
          0.8928571343421936,
          0.8928571343421936,
          0.8571428656578064,
          0.8571428656578064,
          0.8214285969734192,
          0.8214285969734192,
          0.7857142686843872,
          0.7857142686843872,
          0.75,
          0.7142857313156128,
          0.6785714030265808,
          0.6428571343421936,
          0.6071428656578064,
          0.5714285969734192,
          0.5357142686843872,
          0.5,
          0.4642857015132904,
          0.4285714328289032,
          0.3928571343421936,
          0.3571428656578064,
          0.3214285671710968,
          0.2857142984867096,
          0.2857142984867096,
          0.2857142984867096,
          0.25,
          0.2142857164144516,
          0.1785714328289032,
          0.1428571492433548,
          0.1071428582072258,
          0.0714285746216774,
          0.0714285746216774,
          0.0714285746216774,
          0.0357142873108387,
          0
         ],
         "y": [
          0.4375,
          0.4444444477558136,
          0.4516128897666931,
          0.4590163826942444,
          0.46666666865348816,
          0.47457626461982727,
          0.48275861144065857,
          0.4912280738353729,
          0.5,
          0.5090909004211426,
          0.5185185074806213,
          0.5283018946647644,
          0.5384615659713745,
          0.5490196347236633,
          0.5600000023841858,
          0.5714285969734192,
          0.5833333134651184,
          0.5957446694374084,
          0.6086956262588501,
          0.6222222447395325,
          0.6363636255264282,
          0.6511628031730652,
          0.6428571343421936,
          0.6585366129875183,
          0.675000011920929,
          0.692307710647583,
          0.7105262875556946,
          0.7297297120094299,
          0.7222222089767456,
          0.7428571581840515,
          0.7647058963775635,
          0.7575757503509521,
          0.78125,
          0.774193525314331,
          0.800000011920929,
          0.7931034564971924,
          0.8214285969734192,
          0.8148148059844971,
          0.8461538553237915,
          0.8399999737739563,
          0.8333333134651184,
          0.8260869383811951,
          0.8181818127632141,
          0.8095238208770752,
          0.800000011920929,
          0.7894737124443054,
          0.7777777910232544,
          0.7647058963775635,
          0.75,
          0.7333333492279053,
          0.7142857313156128,
          0.692307710647583,
          0.6666666865348816,
          0.7272727489471436,
          0.800000011920929,
          0.7777777910232544,
          0.75,
          0.7142857313156128,
          0.6666666865348816,
          0.6000000238418579,
          0.5,
          0.6666666865348816,
          1,
          1,
          1
         ]
        },
        {
         "mode": "lines",
         "name": "Age:[50 - 70) (AUC = 0.94)",
         "type": "scatter",
         "x": [
          1,
          1,
          1,
          1,
          1,
          1,
          1,
          1,
          1,
          1,
          1,
          1,
          1,
          1,
          1,
          1,
          1,
          1,
          1,
          1,
          1,
          1,
          1,
          1,
          1,
          0.9846153855323792,
          0.9846153855323792,
          0.9846153855323792,
          0.9692307710647583,
          0.9692307710647583,
          0.9538461565971375,
          0.9384615421295166,
          0.9384615421295166,
          0.9384615421295166,
          0.9384615421295166,
          0.9384615421295166,
          0.9384615421295166,
          0.9384615421295166,
          0.9384615421295166,
          0.9230769276618958,
          0.9076923131942749,
          0.9076923131942749,
          0.892307698726654,
          0.892307698726654,
          0.8769230842590332,
          0.8615384697914124,
          0.8615384697914124,
          0.8615384697914124,
          0.8461538553237915,
          0.8307692408561707,
          0.8153846263885498,
          0.8153846263885498,
          0.8153846263885498,
          0.8153846263885498,
          0.800000011920929,
          0.7846153974533081,
          0.7692307829856873,
          0.7538461685180664,
          0.7384615540504456,
          0.7230769395828247,
          0.7076923251152039,
          0.692307710647583,
          0.6769230961799622,
          0.6615384817123413,
          0.6461538672447205,
          0.6307692527770996,
          0.6153846383094788,
          0.6000000238418579,
          0.6000000238418579,
          0.5846154093742371,
          0.5692307949066162,
          0.5538461804389954,
          0.5384615659713745,
          0.5230769515037537,
          0.5076923370361328,
          0.4923076927661896,
          0.4923076927661896,
          0.4769230782985687,
          0.4615384638309479,
          0.446153849363327,
          0.4307692348957062,
          0.4153846204280853,
          0.4000000059604645,
          0.38461539149284363,
          0.3692307770252228,
          0.35384616255760193,
          0.3384615480899811,
          0.32307693362236023,
          0.3076923191547394,
          0.29230770468711853,
          0.2769230902194977,
          0.26153847575187683,
          0.26153847575187683,
          0.2461538463830948,
          0.23076923191547394,
          0.2153846174478531,
          0.20000000298023224,
          0.1846153885126114,
          0.16923077404499054,
          0.1538461595773697,
          0.13846154510974884,
          0.1230769231915474,
          0.10769230872392654,
          0.0923076942563057,
          0.07692307978868484,
          0.0615384615957737,
          0.04615384712815285,
          0.03076923079788685,
          0.015384615398943424,
          0
         ],
         "y": [
          0.5963302850723267,
          0.6018518805503845,
          0.6074766516685486,
          0.6132075190544128,
          0.6190476417541504,
          0.625,
          0.6310679316520691,
          0.6372548937797546,
          0.6435643434524536,
          0.6499999761581421,
          0.6565656661987305,
          0.6632652878761292,
          0.6701030731201172,
          0.6770833134651184,
          0.6842105388641357,
          0.6914893388748169,
          0.698924720287323,
          0.70652174949646,
          0.7142857313156128,
          0.7222222089767456,
          0.7303370833396912,
          0.7386363744735718,
          0.7471264600753784,
          0.7558139562606812,
          0.7647058963775635,
          0.761904776096344,
          0.7710843086242676,
          0.7804877758026123,
          0.7777777910232544,
          0.7875000238418579,
          0.7848101258277893,
          0.7820512652397156,
          0.7922077775001526,
          0.8026315569877625,
          0.8133333325386047,
          0.8243243098258972,
          0.835616409778595,
          0.8472222089767456,
          0.8591549396514893,
          0.8571428656578064,
          0.8550724387168884,
          0.8676470518112183,
          0.8656716346740723,
          0.8787878751754761,
          0.8769230842590332,
          0.875,
          0.8888888955116272,
          0.9032257795333862,
          0.9016393423080444,
          0.8999999761581421,
          0.8983050584793091,
          0.9137930870056152,
          0.9298245906829834,
          0.9464285969734192,
          0.9454545378684998,
          0.9444444179534912,
          0.9433962106704712,
          0.942307710647583,
          0.9411764740943909,
          0.9399999976158142,
          0.9387755393981934,
          0.9375,
          0.936170220375061,
          0.9347826242446899,
          0.9333333373069763,
          0.9318181872367859,
          0.930232584476471,
          0.9285714030265808,
          0.9512194991111755,
          0.949999988079071,
          0.9487179517745972,
          0.9473684430122375,
          0.9459459185600281,
          0.9444444179534912,
          0.9428571462631226,
          0.9411764740943909,
          0.9696969985961914,
          0.96875,
          0.9677419066429138,
          0.9666666388511658,
          0.9655172228813171,
          0.9642857313156128,
          0.9629629850387573,
          0.9615384340286255,
          0.9599999785423279,
          0.9583333134651184,
          0.95652174949646,
          0.9545454382896423,
          0.9523809552192688,
          0.949999988079071,
          0.9473684430122375,
          0.9444444179534912,
          1,
          1,
          1,
          1,
          1,
          1,
          1,
          1,
          1,
          1,
          1,
          1,
          1,
          1,
          1,
          1,
          1,
          1
         ]
        },
        {
         "mode": "lines",
         "name": "Sex:M (AUC = 0.93)",
         "type": "scatter",
         "x": [
          1,
          1,
          1,
          1,
          1,
          1,
          1,
          1,
          1,
          1,
          1,
          1,
          1,
          1,
          1,
          1,
          1,
          1,
          1,
          1,
          1,
          1,
          1,
          1,
          1,
          1,
          1,
          0.9893617033958435,
          0.9893617033958435,
          0.9893617033958435,
          0.9893617033958435,
          0.9893617033958435,
          0.9893617033958435,
          0.978723406791687,
          0.9680851101875305,
          0.957446813583374,
          0.957446813583374,
          0.957446813583374,
          0.957446813583374,
          0.957446813583374,
          0.9468085169792175,
          0.9468085169792175,
          0.9468085169792175,
          0.9468085169792175,
          0.936170220375061,
          0.9255319237709045,
          0.9255319237709045,
          0.9255319237709045,
          0.914893627166748,
          0.9042553305625916,
          0.8936170339584351,
          0.8829787373542786,
          0.8829787373542786,
          0.8723404407501221,
          0.8617021441459656,
          0.8510638475418091,
          0.8510638475418091,
          0.8404255509376526,
          0.8297872543334961,
          0.8297872543334961,
          0.8297872543334961,
          0.8191489577293396,
          0.8085106611251831,
          0.7978723645210266,
          0.7978723645210266,
          0.7978723645210266,
          0.7978723645210266,
          0.7872340679168701,
          0.7765957713127136,
          0.7659574747085571,
          0.7553191781044006,
          0.7446808218955994,
          0.7340425252914429,
          0.7234042286872864,
          0.7127659320831299,
          0.7021276354789734,
          0.6914893388748169,
          0.6808510422706604,
          0.6702127456665039,
          0.6595744490623474,
          0.6489361524581909,
          0.6382978558540344,
          0.6276595592498779,
          0.6170212626457214,
          0.6063829660415649,
          0.5957446694374084,
          0.585106372833252,
          0.5744680762290955,
          0.563829779624939,
          0.5531914830207825,
          0.542553186416626,
          0.5319148898124695,
          0.521276593208313,
          0.521276593208313,
          0.5106382966041565,
          0.5,
          0.4893617033958435,
          0.478723406791687,
          0.4680851101875305,
          0.457446813583374,
          0.44680851697921753,
          0.43617022037506104,
          0.42553192377090454,
          0.41489362716674805,
          0.40425533056259155,
          0.39361703395843506,
          0.39361703395843506,
          0.38297873735427856,
          0.3723404109477997,
          0.3617021143436432,
          0.3510638177394867,
          0.3404255211353302,
          0.3297872245311737,
          0.3191489279270172,
          0.3085106313228607,
          0.2978723347187042,
          0.28723403811454773,
          0.27659574151039124,
          0.26595744490623474,
          0.25531914830207825,
          0.25531914830207825,
          0.24468085169792175,
          0.23404255509376526,
          0.23404255509376526,
          0.22340425848960876,
          0.22340425848960876,
          0.21276596188545227,
          0.20212766528129578,
          0.19148936867713928,
          0.1808510571718216,
          0.1702127605676651,
          0.1595744639635086,
          0.1489361673593521,
          0.13829787075519562,
          0.12765957415103912,
          0.11702127754688263,
          0.10638298094272614,
          0.09574468433856964,
          0.08510638028383255,
          0.07446808367967606,
          0.06382978707551956,
          0.05319149047136307,
          0.042553190141916275,
          0.03191489353775978,
          0.021276595070958138,
          0.010638297535479069,
          0
         ],
         "y": [
          0.6438356041908264,
          0.6482758522033691,
          0.6527777910232544,
          0.6573426723480225,
          0.6619718074798584,
          0.6666666865348816,
          0.6714285612106323,
          0.6762589812278748,
          0.6811594367027283,
          0.6861313581466675,
          0.6911764740943909,
          0.6962962746620178,
          0.7014925479888916,
          0.7067669034004211,
          0.7121211886405945,
          0.7175572514533997,
          0.7230769395828247,
          0.7286821603775024,
          0.734375,
          0.7401574850082397,
          0.7460317611694336,
          0.7519999742507935,
          0.7580645084381104,
          0.7642276287078857,
          0.7704917788505554,
          0.7768595218658447,
          0.7833333611488342,
          0.7815126180648804,
          0.7881355881690979,
          0.7948718070983887,
          0.8017241358757019,
          0.8086956739425659,
          0.8157894611358643,
          0.8141592741012573,
          0.8125,
          0.8108108043670654,
          0.8181818127632141,
          0.8256880640983582,
          0.8333333134651184,
          0.84112149477005,
          0.8396226167678833,
          0.8476190567016602,
          0.8557692170143127,
          0.8640776872634888,
          0.8627451062202454,
          0.8613861203193665,
          0.8700000047683716,
          0.8787878751754761,
          0.8775510191917419,
          0.876288652420044,
          0.875,
          0.8736842274665833,
          0.8829787373542786,
          0.8817204236984253,
          0.8804348111152649,
          0.8791208863258362,
          0.8888888955116272,
          0.8876404762268066,
          0.8863636255264282,
          0.8965517282485962,
          0.9069767594337463,
          0.9058823585510254,
          0.9047619104385376,
          0.9036144614219666,
          0.9146341681480408,
          0.9259259104728699,
          0.9375,
          0.9367088675498962,
          0.9358974099159241,
          0.9350649118423462,
          0.9342105388641357,
          0.9333333373069763,
          0.9324324131011963,
          0.931506872177124,
          0.9305555820465088,
          0.9295774698257446,
          0.9285714030265808,
          0.9275362491607666,
          0.9264705777168274,
          0.9253731369972229,
          0.9242424368858337,
          0.9230769276618958,
          0.921875,
          0.920634925365448,
          0.9193548560142517,
          0.9180327653884888,
          0.9166666865348816,
          0.9152542352676392,
          0.9137930870056152,
          0.9122806787490845,
          0.9107142686843872,
          0.9090909361839294,
          0.9074074029922485,
          0.9245283007621765,
          0.9230769276618958,
          0.9215686321258545,
          0.9200000166893005,
          0.918367326259613,
          0.9166666865348816,
          0.914893627166748,
          0.9130434989929199,
          0.9111111164093018,
          0.9090909361839294,
          0.9069767594337463,
          0.9047619104385376,
          0.9024389982223511,
          0.925000011920929,
          0.9230769276618958,
          0.9210526347160339,
          0.9189189076423645,
          0.9166666865348816,
          0.9142857193946838,
          0.9117646813392639,
          0.9090909361839294,
          0.90625,
          0.9032257795333862,
          0.8999999761581421,
          0.8965517282485962,
          0.8928571343421936,
          0.8888888955116272,
          0.9230769276618958,
          0.9200000166893005,
          0.9166666865348816,
          0.95652174949646,
          0.9545454382896423,
          1,
          1,
          1,
          1,
          1,
          1,
          1,
          1,
          1,
          1,
          1,
          1,
          1,
          1,
          1,
          1,
          1,
          1,
          1,
          1,
          1,
          1
         ]
        },
        {
         "mode": "lines",
         "name": "overall (AUC = 0.91)",
         "type": "scatter",
         "x": [
          1,
          1,
          1,
          1,
          1,
          1,
          1,
          1,
          1,
          1,
          1,
          1,
          1,
          1,
          1,
          1,
          1,
          1,
          1,
          1,
          1,
          1,
          1,
          1,
          1,
          1,
          1,
          1,
          1,
          1,
          1,
          1,
          1,
          1,
          1,
          1,
          1,
          1,
          1,
          1,
          1,
          1,
          1,
          1,
          1,
          1,
          0.9901960492134094,
          0.9901960492134094,
          0.9901960492134094,
          0.9901960492134094,
          0.9803921580314636,
          0.9803921580314636,
          0.9803921580314636,
          0.9803921580314636,
          0.9803921580314636,
          0.9803921580314636,
          0.970588207244873,
          0.9607843160629272,
          0.9607843160629272,
          0.9607843160629272,
          0.9607843160629272,
          0.9509803652763367,
          0.9411764740943909,
          0.9313725233078003,
          0.9313725233078003,
          0.9313725233078003,
          0.9313725233078003,
          0.9313725233078003,
          0.9313725233078003,
          0.9215686321258545,
          0.9215686321258545,
          0.9215686321258545,
          0.9215686321258545,
          0.9215686321258545,
          0.9117646813392639,
          0.9117646813392639,
          0.9019607901573181,
          0.9019607901573181,
          0.9019607901573181,
          0.8921568393707275,
          0.8823529481887817,
          0.8725489974021912,
          0.8627451062202454,
          0.8529411554336548,
          0.8529411554336548,
          0.843137264251709,
          0.8333333134651184,
          0.8235294222831726,
          0.8235294222831726,
          0.813725471496582,
          0.8039215803146362,
          0.8039215803146362,
          0.8039215803146362,
          0.7941176295280457,
          0.7843137383460999,
          0.7745097875595093,
          0.7745097875595093,
          0.7745097875595093,
          0.7745097875595093,
          0.7647058963775635,
          0.7549019455909729,
          0.7450980544090271,
          0.7352941036224365,
          0.7254902124404907,
          0.7156862616539001,
          0.7058823704719543,
          0.6960784196853638,
          0.686274528503418,
          0.6764705777168274,
          0.6666666865348816,
          0.656862735748291,
          0.6470588445663452,
          0.6372548937797546,
          0.6274510025978088,
          0.6176470518112183,
          0.6078431606292725,
          0.5980392098426819,
          0.5882353186607361,
          0.5784313678741455,
          0.5686274766921997,
          0.5588235259056091,
          0.5490196347236633,
          0.5490196347236633,
          0.5490196347236633,
          0.5392156839370728,
          0.529411792755127,
          0.5196078419685364,
          0.5098039507865906,
          0.5,
          0.5,
          0.4901960790157318,
          0.4803921580314636,
          0.47058823704719543,
          0.46078431606292725,
          0.45098039507865906,
          0.44117647409439087,
          0.4313725531101227,
          0.4215686321258545,
          0.4117647111415863,
          0.4019607901573181,
          0.3921568691730499,
          0.38235294818878174,
          0.37254902720451355,
          0.37254902720451355,
          0.36274510622024536,
          0.3529411852359772,
          0.343137264251709,
          0.3333333432674408,
          0.3235294222831726,
          0.3137255012989044,
          0.30392158031463623,
          0.29411765933036804,
          0.28431373834609985,
          0.27450981736183167,
          0.2647058963775635,
          0.2549019753932953,
          0.2450980395078659,
          0.23529411852359772,
          0.23529411852359772,
          0.22549019753932953,
          0.21568627655506134,
          0.21568627655506134,
          0.20588235557079315,
          0.20588235557079315,
          0.19607843458652496,
          0.18627451360225677,
          0.1764705926179886,
          0.1666666716337204,
          0.1568627506494522,
          0.14705882966518402,
          0.13725490868091583,
          0.12745098769664764,
          0.11764705926179886,
          0.10784313827753067,
          0.09803921729326248,
          0.0882352963089943,
          0.0784313753247261,
          0.06862745434045792,
          0.05882352963089943,
          0.04901960864663124,
          0.03921568766236305,
          0.029411764815449715,
          0.019607843831181526,
          0.009803921915590763,
          0
         ],
         "y": [
          0.554347813129425,
          0.5573770403862,
          0.5604395866394043,
          0.5635359287261963,
          0.5666666626930237,
          0.5698323845863342,
          0.5730336904525757,
          0.5762711763381958,
          0.5795454382896423,
          0.5828571319580078,
          0.5862069129943848,
          0.589595377445221,
          0.5930232405662537,
          0.5964912176132202,
          0.6000000238418579,
          0.6035503149032593,
          0.6071428656578064,
          0.6107784509658813,
          0.6144578456878662,
          0.6181818246841431,
          0.6219512224197388,
          0.6257668733596802,
          0.6296296119689941,
          0.6335403919219971,
          0.637499988079071,
          0.6415094137191772,
          0.6455696225166321,
          0.6496815085411072,
          0.6538461446762085,
          0.6580645442008972,
          0.6623376607894897,
          0.6666666865348816,
          0.6710526347160339,
          0.6754966974258423,
          0.6800000071525574,
          0.6845637559890747,
          0.6891891956329346,
          0.6938775777816772,
          0.698630154132843,
          0.7034482955932617,
          0.7083333134651184,
          0.7132866978645325,
          0.7183098793029785,
          0.7234042286872864,
          0.7285714149475098,
          0.7338129281997681,
          0.7318840622901917,
          0.7372262477874756,
          0.7426470518112183,
          0.7481481432914734,
          0.746268630027771,
          0.7518796920776367,
          0.7575757503509521,
          0.7633587718009949,
          0.7692307829856873,
          0.7751938104629517,
          0.7734375,
          0.7716535329818726,
          0.7777777910232544,
          0.7839999794960022,
          0.7903226017951965,
          0.7886179089546204,
          0.7868852615356445,
          0.7851239442825317,
          0.7916666865348816,
          0.7983193397521973,
          0.805084764957428,
          0.811965823173523,
          0.818965494632721,
          0.8173912763595581,
          0.8245614171028137,
          0.8318583965301514,
          0.8392857313156128,
          0.8468468189239502,
          0.8454545736312866,
          0.853210985660553,
          0.8518518805503845,
          0.8598130941390991,
          0.8679245114326477,
          0.8666666746139526,
          0.8653846383094788,
          0.8640776872634888,
          0.8627451062202454,
          0.8613861203193665,
          0.8700000047683716,
          0.868686854839325,
          0.8673469424247742,
          0.8659793734550476,
          0.875,
          0.8736842274665833,
          0.8723404407501221,
          0.8817204236984253,
          0.8913043737411499,
          0.8901098966598511,
          0.8888888955116272,
          0.8876404762268066,
          0.8977272510528564,
          0.9080459475517273,
          0.9186046719551086,
          0.9176470637321472,
          0.9166666865348816,
          0.9156626462936401,
          0.9146341681480408,
          0.9135802388191223,
          0.9125000238418579,
          0.9113923907279968,
          0.9102563858032227,
          0.9090909361839294,
          0.9078947305679321,
          0.9066666960716248,
          0.9054054021835327,
          0.9041095972061157,
          0.9027777910232544,
          0.9014084339141846,
          0.8999999761581421,
          0.8985507488250732,
          0.8970588445663452,
          0.89552241563797,
          0.8939393758773804,
          0.892307698726654,
          0.890625,
          0.8888888955116272,
          0.9032257795333862,
          0.9180327653884888,
          0.9166666865348816,
          0.9152542352676392,
          0.9137930870056152,
          0.9122806787490845,
          0.9107142686843872,
          0.9272727370262146,
          0.9259259104728699,
          0.9245283007621765,
          0.9230769276618958,
          0.9215686321258545,
          0.9200000166893005,
          0.918367326259613,
          0.9166666865348816,
          0.914893627166748,
          0.9130434989929199,
          0.9111111164093018,
          0.9090909361839294,
          0.9069767594337463,
          0.9047619104385376,
          0.9268292784690857,
          0.925000011920929,
          0.9230769276618958,
          0.9210526347160339,
          0.9189189076423645,
          0.9166666865348816,
          0.9142857193946838,
          0.9117646813392639,
          0.9090909361839294,
          0.90625,
          0.9032257795333862,
          0.8999999761581421,
          0.8965517282485962,
          0.8928571343421936,
          0.8888888955116272,
          0.9230769276618958,
          0.9200000166893005,
          0.9166666865348816,
          0.95652174949646,
          0.9545454382896423,
          1,
          1,
          1,
          1,
          1,
          1,
          1,
          1,
          1,
          1,
          1,
          1,
          1,
          1,
          1,
          1,
          1,
          1,
          1,
          1,
          1,
          1
         ]
        }
       ],
       "layout": {
        "template": {
         "data": {
          "bar": [
           {
            "error_x": {
             "color": "#2a3f5f"
            },
            "error_y": {
             "color": "#2a3f5f"
            },
            "marker": {
             "line": {
              "color": "white",
              "width": 0.5
             },
             "pattern": {
              "fillmode": "overlay",
              "size": 10,
              "solidity": 0.2
             }
            },
            "type": "bar"
           }
          ],
          "barpolar": [
           {
            "marker": {
             "line": {
              "color": "white",
              "width": 0.5
             },
             "pattern": {
              "fillmode": "overlay",
              "size": 10,
              "solidity": 0.2
             }
            },
            "type": "barpolar"
           }
          ],
          "carpet": [
           {
            "aaxis": {
             "endlinecolor": "#2a3f5f",
             "gridcolor": "#C8D4E3",
             "linecolor": "#C8D4E3",
             "minorgridcolor": "#C8D4E3",
             "startlinecolor": "#2a3f5f"
            },
            "baxis": {
             "endlinecolor": "#2a3f5f",
             "gridcolor": "#C8D4E3",
             "linecolor": "#C8D4E3",
             "minorgridcolor": "#C8D4E3",
             "startlinecolor": "#2a3f5f"
            },
            "type": "carpet"
           }
          ],
          "choropleth": [
           {
            "colorbar": {
             "outlinewidth": 0,
             "ticks": ""
            },
            "type": "choropleth"
           }
          ],
          "contour": [
           {
            "colorbar": {
             "outlinewidth": 0,
             "ticks": ""
            },
            "colorscale": [
             [
              0,
              "#0d0887"
             ],
             [
              0.1111111111111111,
              "#46039f"
             ],
             [
              0.2222222222222222,
              "#7201a8"
             ],
             [
              0.3333333333333333,
              "#9c179e"
             ],
             [
              0.4444444444444444,
              "#bd3786"
             ],
             [
              0.5555555555555556,
              "#d8576b"
             ],
             [
              0.6666666666666666,
              "#ed7953"
             ],
             [
              0.7777777777777778,
              "#fb9f3a"
             ],
             [
              0.8888888888888888,
              "#fdca26"
             ],
             [
              1,
              "#f0f921"
             ]
            ],
            "type": "contour"
           }
          ],
          "contourcarpet": [
           {
            "colorbar": {
             "outlinewidth": 0,
             "ticks": ""
            },
            "type": "contourcarpet"
           }
          ],
          "heatmap": [
           {
            "colorbar": {
             "outlinewidth": 0,
             "ticks": ""
            },
            "colorscale": [
             [
              0,
              "#0d0887"
             ],
             [
              0.1111111111111111,
              "#46039f"
             ],
             [
              0.2222222222222222,
              "#7201a8"
             ],
             [
              0.3333333333333333,
              "#9c179e"
             ],
             [
              0.4444444444444444,
              "#bd3786"
             ],
             [
              0.5555555555555556,
              "#d8576b"
             ],
             [
              0.6666666666666666,
              "#ed7953"
             ],
             [
              0.7777777777777778,
              "#fb9f3a"
             ],
             [
              0.8888888888888888,
              "#fdca26"
             ],
             [
              1,
              "#f0f921"
             ]
            ],
            "type": "heatmap"
           }
          ],
          "heatmapgl": [
           {
            "colorbar": {
             "outlinewidth": 0,
             "ticks": ""
            },
            "colorscale": [
             [
              0,
              "#0d0887"
             ],
             [
              0.1111111111111111,
              "#46039f"
             ],
             [
              0.2222222222222222,
              "#7201a8"
             ],
             [
              0.3333333333333333,
              "#9c179e"
             ],
             [
              0.4444444444444444,
              "#bd3786"
             ],
             [
              0.5555555555555556,
              "#d8576b"
             ],
             [
              0.6666666666666666,
              "#ed7953"
             ],
             [
              0.7777777777777778,
              "#fb9f3a"
             ],
             [
              0.8888888888888888,
              "#fdca26"
             ],
             [
              1,
              "#f0f921"
             ]
            ],
            "type": "heatmapgl"
           }
          ],
          "histogram": [
           {
            "marker": {
             "pattern": {
              "fillmode": "overlay",
              "size": 10,
              "solidity": 0.2
             }
            },
            "type": "histogram"
           }
          ],
          "histogram2d": [
           {
            "colorbar": {
             "outlinewidth": 0,
             "ticks": ""
            },
            "colorscale": [
             [
              0,
              "#0d0887"
             ],
             [
              0.1111111111111111,
              "#46039f"
             ],
             [
              0.2222222222222222,
              "#7201a8"
             ],
             [
              0.3333333333333333,
              "#9c179e"
             ],
             [
              0.4444444444444444,
              "#bd3786"
             ],
             [
              0.5555555555555556,
              "#d8576b"
             ],
             [
              0.6666666666666666,
              "#ed7953"
             ],
             [
              0.7777777777777778,
              "#fb9f3a"
             ],
             [
              0.8888888888888888,
              "#fdca26"
             ],
             [
              1,
              "#f0f921"
             ]
            ],
            "type": "histogram2d"
           }
          ],
          "histogram2dcontour": [
           {
            "colorbar": {
             "outlinewidth": 0,
             "ticks": ""
            },
            "colorscale": [
             [
              0,
              "#0d0887"
             ],
             [
              0.1111111111111111,
              "#46039f"
             ],
             [
              0.2222222222222222,
              "#7201a8"
             ],
             [
              0.3333333333333333,
              "#9c179e"
             ],
             [
              0.4444444444444444,
              "#bd3786"
             ],
             [
              0.5555555555555556,
              "#d8576b"
             ],
             [
              0.6666666666666666,
              "#ed7953"
             ],
             [
              0.7777777777777778,
              "#fb9f3a"
             ],
             [
              0.8888888888888888,
              "#fdca26"
             ],
             [
              1,
              "#f0f921"
             ]
            ],
            "type": "histogram2dcontour"
           }
          ],
          "mesh3d": [
           {
            "colorbar": {
             "outlinewidth": 0,
             "ticks": ""
            },
            "type": "mesh3d"
           }
          ],
          "parcoords": [
           {
            "line": {
             "colorbar": {
              "outlinewidth": 0,
              "ticks": ""
             }
            },
            "type": "parcoords"
           }
          ],
          "pie": [
           {
            "automargin": true,
            "type": "pie"
           }
          ],
          "scatter": [
           {
            "fillpattern": {
             "fillmode": "overlay",
             "size": 10,
             "solidity": 0.2
            },
            "type": "scatter"
           }
          ],
          "scatter3d": [
           {
            "line": {
             "colorbar": {
              "outlinewidth": 0,
              "ticks": ""
             }
            },
            "marker": {
             "colorbar": {
              "outlinewidth": 0,
              "ticks": ""
             }
            },
            "type": "scatter3d"
           }
          ],
          "scattercarpet": [
           {
            "marker": {
             "colorbar": {
              "outlinewidth": 0,
              "ticks": ""
             }
            },
            "type": "scattercarpet"
           }
          ],
          "scattergeo": [
           {
            "marker": {
             "colorbar": {
              "outlinewidth": 0,
              "ticks": ""
             }
            },
            "type": "scattergeo"
           }
          ],
          "scattergl": [
           {
            "marker": {
             "colorbar": {
              "outlinewidth": 0,
              "ticks": ""
             }
            },
            "type": "scattergl"
           }
          ],
          "scattermapbox": [
           {
            "marker": {
             "colorbar": {
              "outlinewidth": 0,
              "ticks": ""
             }
            },
            "type": "scattermapbox"
           }
          ],
          "scatterpolar": [
           {
            "marker": {
             "colorbar": {
              "outlinewidth": 0,
              "ticks": ""
             }
            },
            "type": "scatterpolar"
           }
          ],
          "scatterpolargl": [
           {
            "marker": {
             "colorbar": {
              "outlinewidth": 0,
              "ticks": ""
             }
            },
            "type": "scatterpolargl"
           }
          ],
          "scatterternary": [
           {
            "marker": {
             "colorbar": {
              "outlinewidth": 0,
              "ticks": ""
             }
            },
            "type": "scatterternary"
           }
          ],
          "surface": [
           {
            "colorbar": {
             "outlinewidth": 0,
             "ticks": ""
            },
            "colorscale": [
             [
              0,
              "#0d0887"
             ],
             [
              0.1111111111111111,
              "#46039f"
             ],
             [
              0.2222222222222222,
              "#7201a8"
             ],
             [
              0.3333333333333333,
              "#9c179e"
             ],
             [
              0.4444444444444444,
              "#bd3786"
             ],
             [
              0.5555555555555556,
              "#d8576b"
             ],
             [
              0.6666666666666666,
              "#ed7953"
             ],
             [
              0.7777777777777778,
              "#fb9f3a"
             ],
             [
              0.8888888888888888,
              "#fdca26"
             ],
             [
              1,
              "#f0f921"
             ]
            ],
            "type": "surface"
           }
          ],
          "table": [
           {
            "cells": {
             "fill": {
              "color": "#EBF0F8"
             },
             "line": {
              "color": "white"
             }
            },
            "header": {
             "fill": {
              "color": "#C8D4E3"
             },
             "line": {
              "color": "white"
             }
            },
            "type": "table"
           }
          ]
         },
         "layout": {
          "annotationdefaults": {
           "arrowcolor": "#2a3f5f",
           "arrowhead": 0,
           "arrowwidth": 1
          },
          "autotypenumbers": "strict",
          "coloraxis": {
           "colorbar": {
            "outlinewidth": 0,
            "ticks": ""
           }
          },
          "colorscale": {
           "diverging": [
            [
             0,
             "#8e0152"
            ],
            [
             0.1,
             "#c51b7d"
            ],
            [
             0.2,
             "#de77ae"
            ],
            [
             0.3,
             "#f1b6da"
            ],
            [
             0.4,
             "#fde0ef"
            ],
            [
             0.5,
             "#f7f7f7"
            ],
            [
             0.6,
             "#e6f5d0"
            ],
            [
             0.7,
             "#b8e186"
            ],
            [
             0.8,
             "#7fbc41"
            ],
            [
             0.9,
             "#4d9221"
            ],
            [
             1,
             "#276419"
            ]
           ],
           "sequential": [
            [
             0,
             "#0d0887"
            ],
            [
             0.1111111111111111,
             "#46039f"
            ],
            [
             0.2222222222222222,
             "#7201a8"
            ],
            [
             0.3333333333333333,
             "#9c179e"
            ],
            [
             0.4444444444444444,
             "#bd3786"
            ],
            [
             0.5555555555555556,
             "#d8576b"
            ],
            [
             0.6666666666666666,
             "#ed7953"
            ],
            [
             0.7777777777777778,
             "#fb9f3a"
            ],
            [
             0.8888888888888888,
             "#fdca26"
            ],
            [
             1,
             "#f0f921"
            ]
           ],
           "sequentialminus": [
            [
             0,
             "#0d0887"
            ],
            [
             0.1111111111111111,
             "#46039f"
            ],
            [
             0.2222222222222222,
             "#7201a8"
            ],
            [
             0.3333333333333333,
             "#9c179e"
            ],
            [
             0.4444444444444444,
             "#bd3786"
            ],
            [
             0.5555555555555556,
             "#d8576b"
            ],
            [
             0.6666666666666666,
             "#ed7953"
            ],
            [
             0.7777777777777778,
             "#fb9f3a"
            ],
            [
             0.8888888888888888,
             "#fdca26"
            ],
            [
             1,
             "#f0f921"
            ]
           ]
          },
          "colorway": [
           "#636efa",
           "#EF553B",
           "#00cc96",
           "#ab63fa",
           "#FFA15A",
           "#19d3f3",
           "#FF6692",
           "#B6E880",
           "#FF97FF",
           "#FECB52"
          ],
          "font": {
           "color": "#2a3f5f"
          },
          "geo": {
           "bgcolor": "white",
           "lakecolor": "white",
           "landcolor": "white",
           "showlakes": true,
           "showland": true,
           "subunitcolor": "#C8D4E3"
          },
          "hoverlabel": {
           "align": "left"
          },
          "hovermode": "closest",
          "mapbox": {
           "style": "light"
          },
          "paper_bgcolor": "white",
          "plot_bgcolor": "white",
          "polar": {
           "angularaxis": {
            "gridcolor": "#EBF0F8",
            "linecolor": "#EBF0F8",
            "ticks": ""
           },
           "bgcolor": "white",
           "radialaxis": {
            "gridcolor": "#EBF0F8",
            "linecolor": "#EBF0F8",
            "ticks": ""
           }
          },
          "scene": {
           "xaxis": {
            "backgroundcolor": "white",
            "gridcolor": "#DFE8F3",
            "gridwidth": 2,
            "linecolor": "#EBF0F8",
            "showbackground": true,
            "ticks": "",
            "zerolinecolor": "#EBF0F8"
           },
           "yaxis": {
            "backgroundcolor": "white",
            "gridcolor": "#DFE8F3",
            "gridwidth": 2,
            "linecolor": "#EBF0F8",
            "showbackground": true,
            "ticks": "",
            "zerolinecolor": "#EBF0F8"
           },
           "zaxis": {
            "backgroundcolor": "white",
            "gridcolor": "#DFE8F3",
            "gridwidth": 2,
            "linecolor": "#EBF0F8",
            "showbackground": true,
            "ticks": "",
            "zerolinecolor": "#EBF0F8"
           }
          },
          "shapedefaults": {
           "line": {
            "color": "#2a3f5f"
           }
          },
          "ternary": {
           "aaxis": {
            "gridcolor": "#DFE8F3",
            "linecolor": "#A2B1C6",
            "ticks": ""
           },
           "baxis": {
            "gridcolor": "#DFE8F3",
            "linecolor": "#A2B1C6",
            "ticks": ""
           },
           "bgcolor": "white",
           "caxis": {
            "gridcolor": "#DFE8F3",
            "linecolor": "#A2B1C6",
            "ticks": ""
           }
          },
          "title": {
           "x": 0.05
          },
          "xaxis": {
           "automargin": true,
           "gridcolor": "#EBF0F8",
           "linecolor": "#EBF0F8",
           "ticks": "",
           "title": {
            "standoff": 15
           },
           "zerolinecolor": "#EBF0F8",
           "zerolinewidth": 2
          },
          "yaxis": {
           "automargin": true,
           "gridcolor": "#EBF0F8",
           "linecolor": "#EBF0F8",
           "ticks": "",
           "title": {
            "standoff": 15
           },
           "zerolinecolor": "#EBF0F8",
           "zerolinewidth": 2
          }
         }
        },
        "title": {
         "text": "Precision-Recall Curve Comparison"
        },
        "xaxis": {
         "title": {
          "text": "Recall"
         }
        },
        "yaxis": {
         "title": {
          "text": "Precision"
         }
        }
       }
      }
     },
     "metadata": {},
     "output_type": "display_data"
    }
   ],
   "source": [
    "# plotting the precision-recall curves for all the slices\n",
    "pr_plot = plotter.precision_recall_curve_comparison(\n",
    "    pr_curves,\n",
    "    auprcs=average_precisions,\n",
    ")\n",
    "report.log_plotly_figure(\n",
    "    fig=pr_plot,\n",
    "    caption=\"Precision-Recall Curve Comparison\",\n",
    "    section_name=\"quantitative analysis\",\n",
    ")\n",
    "pr_plot.show()"
   ]
  },
  {
   "cell_type": "code",
   "execution_count": 44,
   "metadata": {},
   "outputs": [],
   "source": [
    "# Extracting the overall classification metric values.\n",
    "overall_performance = {\n",
    "    metric_name: metric_value\n",
    "    for metric_name, metric_value in results[model_name][\"overall\"].items()\n",
    "    if metric_name not in [\"BinaryROC\", \"BinaryPrecisionRecallCurve\"]\n",
    "}"
   ]
  },
  {
   "cell_type": "code",
   "execution_count": 45,
   "metadata": {},
   "outputs": [
    {
     "data": {
      "application/vnd.plotly.v1+json": {
       "config": {
        "plotlyServerURL": "https://plot.ly"
       },
       "data": [
        {
         "type": "bar",
         "x": [
          "BinaryAccuracy",
          "BinaryPrecision",
          "BinaryRecall",
          "BinaryF1Score",
          "BinaryAUROC",
          "BinaryAveragePrecision"
         ],
         "y": [
          0.842391312122345,
          0.868686854839325,
          0.843137264251709,
          0.8557214140892029,
          0.9152319431304932,
          0.9135027527809143
         ]
        }
       ],
       "layout": {
        "template": {
         "data": {
          "bar": [
           {
            "error_x": {
             "color": "#2a3f5f"
            },
            "error_y": {
             "color": "#2a3f5f"
            },
            "marker": {
             "line": {
              "color": "white",
              "width": 0.5
             },
             "pattern": {
              "fillmode": "overlay",
              "size": 10,
              "solidity": 0.2
             }
            },
            "type": "bar"
           }
          ],
          "barpolar": [
           {
            "marker": {
             "line": {
              "color": "white",
              "width": 0.5
             },
             "pattern": {
              "fillmode": "overlay",
              "size": 10,
              "solidity": 0.2
             }
            },
            "type": "barpolar"
           }
          ],
          "carpet": [
           {
            "aaxis": {
             "endlinecolor": "#2a3f5f",
             "gridcolor": "#C8D4E3",
             "linecolor": "#C8D4E3",
             "minorgridcolor": "#C8D4E3",
             "startlinecolor": "#2a3f5f"
            },
            "baxis": {
             "endlinecolor": "#2a3f5f",
             "gridcolor": "#C8D4E3",
             "linecolor": "#C8D4E3",
             "minorgridcolor": "#C8D4E3",
             "startlinecolor": "#2a3f5f"
            },
            "type": "carpet"
           }
          ],
          "choropleth": [
           {
            "colorbar": {
             "outlinewidth": 0,
             "ticks": ""
            },
            "type": "choropleth"
           }
          ],
          "contour": [
           {
            "colorbar": {
             "outlinewidth": 0,
             "ticks": ""
            },
            "colorscale": [
             [
              0,
              "#0d0887"
             ],
             [
              0.1111111111111111,
              "#46039f"
             ],
             [
              0.2222222222222222,
              "#7201a8"
             ],
             [
              0.3333333333333333,
              "#9c179e"
             ],
             [
              0.4444444444444444,
              "#bd3786"
             ],
             [
              0.5555555555555556,
              "#d8576b"
             ],
             [
              0.6666666666666666,
              "#ed7953"
             ],
             [
              0.7777777777777778,
              "#fb9f3a"
             ],
             [
              0.8888888888888888,
              "#fdca26"
             ],
             [
              1,
              "#f0f921"
             ]
            ],
            "type": "contour"
           }
          ],
          "contourcarpet": [
           {
            "colorbar": {
             "outlinewidth": 0,
             "ticks": ""
            },
            "type": "contourcarpet"
           }
          ],
          "heatmap": [
           {
            "colorbar": {
             "outlinewidth": 0,
             "ticks": ""
            },
            "colorscale": [
             [
              0,
              "#0d0887"
             ],
             [
              0.1111111111111111,
              "#46039f"
             ],
             [
              0.2222222222222222,
              "#7201a8"
             ],
             [
              0.3333333333333333,
              "#9c179e"
             ],
             [
              0.4444444444444444,
              "#bd3786"
             ],
             [
              0.5555555555555556,
              "#d8576b"
             ],
             [
              0.6666666666666666,
              "#ed7953"
             ],
             [
              0.7777777777777778,
              "#fb9f3a"
             ],
             [
              0.8888888888888888,
              "#fdca26"
             ],
             [
              1,
              "#f0f921"
             ]
            ],
            "type": "heatmap"
           }
          ],
          "heatmapgl": [
           {
            "colorbar": {
             "outlinewidth": 0,
             "ticks": ""
            },
            "colorscale": [
             [
              0,
              "#0d0887"
             ],
             [
              0.1111111111111111,
              "#46039f"
             ],
             [
              0.2222222222222222,
              "#7201a8"
             ],
             [
              0.3333333333333333,
              "#9c179e"
             ],
             [
              0.4444444444444444,
              "#bd3786"
             ],
             [
              0.5555555555555556,
              "#d8576b"
             ],
             [
              0.6666666666666666,
              "#ed7953"
             ],
             [
              0.7777777777777778,
              "#fb9f3a"
             ],
             [
              0.8888888888888888,
              "#fdca26"
             ],
             [
              1,
              "#f0f921"
             ]
            ],
            "type": "heatmapgl"
           }
          ],
          "histogram": [
           {
            "marker": {
             "pattern": {
              "fillmode": "overlay",
              "size": 10,
              "solidity": 0.2
             }
            },
            "type": "histogram"
           }
          ],
          "histogram2d": [
           {
            "colorbar": {
             "outlinewidth": 0,
             "ticks": ""
            },
            "colorscale": [
             [
              0,
              "#0d0887"
             ],
             [
              0.1111111111111111,
              "#46039f"
             ],
             [
              0.2222222222222222,
              "#7201a8"
             ],
             [
              0.3333333333333333,
              "#9c179e"
             ],
             [
              0.4444444444444444,
              "#bd3786"
             ],
             [
              0.5555555555555556,
              "#d8576b"
             ],
             [
              0.6666666666666666,
              "#ed7953"
             ],
             [
              0.7777777777777778,
              "#fb9f3a"
             ],
             [
              0.8888888888888888,
              "#fdca26"
             ],
             [
              1,
              "#f0f921"
             ]
            ],
            "type": "histogram2d"
           }
          ],
          "histogram2dcontour": [
           {
            "colorbar": {
             "outlinewidth": 0,
             "ticks": ""
            },
            "colorscale": [
             [
              0,
              "#0d0887"
             ],
             [
              0.1111111111111111,
              "#46039f"
             ],
             [
              0.2222222222222222,
              "#7201a8"
             ],
             [
              0.3333333333333333,
              "#9c179e"
             ],
             [
              0.4444444444444444,
              "#bd3786"
             ],
             [
              0.5555555555555556,
              "#d8576b"
             ],
             [
              0.6666666666666666,
              "#ed7953"
             ],
             [
              0.7777777777777778,
              "#fb9f3a"
             ],
             [
              0.8888888888888888,
              "#fdca26"
             ],
             [
              1,
              "#f0f921"
             ]
            ],
            "type": "histogram2dcontour"
           }
          ],
          "mesh3d": [
           {
            "colorbar": {
             "outlinewidth": 0,
             "ticks": ""
            },
            "type": "mesh3d"
           }
          ],
          "parcoords": [
           {
            "line": {
             "colorbar": {
              "outlinewidth": 0,
              "ticks": ""
             }
            },
            "type": "parcoords"
           }
          ],
          "pie": [
           {
            "automargin": true,
            "type": "pie"
           }
          ],
          "scatter": [
           {
            "fillpattern": {
             "fillmode": "overlay",
             "size": 10,
             "solidity": 0.2
            },
            "type": "scatter"
           }
          ],
          "scatter3d": [
           {
            "line": {
             "colorbar": {
              "outlinewidth": 0,
              "ticks": ""
             }
            },
            "marker": {
             "colorbar": {
              "outlinewidth": 0,
              "ticks": ""
             }
            },
            "type": "scatter3d"
           }
          ],
          "scattercarpet": [
           {
            "marker": {
             "colorbar": {
              "outlinewidth": 0,
              "ticks": ""
             }
            },
            "type": "scattercarpet"
           }
          ],
          "scattergeo": [
           {
            "marker": {
             "colorbar": {
              "outlinewidth": 0,
              "ticks": ""
             }
            },
            "type": "scattergeo"
           }
          ],
          "scattergl": [
           {
            "marker": {
             "colorbar": {
              "outlinewidth": 0,
              "ticks": ""
             }
            },
            "type": "scattergl"
           }
          ],
          "scattermapbox": [
           {
            "marker": {
             "colorbar": {
              "outlinewidth": 0,
              "ticks": ""
             }
            },
            "type": "scattermapbox"
           }
          ],
          "scatterpolar": [
           {
            "marker": {
             "colorbar": {
              "outlinewidth": 0,
              "ticks": ""
             }
            },
            "type": "scatterpolar"
           }
          ],
          "scatterpolargl": [
           {
            "marker": {
             "colorbar": {
              "outlinewidth": 0,
              "ticks": ""
             }
            },
            "type": "scatterpolargl"
           }
          ],
          "scatterternary": [
           {
            "marker": {
             "colorbar": {
              "outlinewidth": 0,
              "ticks": ""
             }
            },
            "type": "scatterternary"
           }
          ],
          "surface": [
           {
            "colorbar": {
             "outlinewidth": 0,
             "ticks": ""
            },
            "colorscale": [
             [
              0,
              "#0d0887"
             ],
             [
              0.1111111111111111,
              "#46039f"
             ],
             [
              0.2222222222222222,
              "#7201a8"
             ],
             [
              0.3333333333333333,
              "#9c179e"
             ],
             [
              0.4444444444444444,
              "#bd3786"
             ],
             [
              0.5555555555555556,
              "#d8576b"
             ],
             [
              0.6666666666666666,
              "#ed7953"
             ],
             [
              0.7777777777777778,
              "#fb9f3a"
             ],
             [
              0.8888888888888888,
              "#fdca26"
             ],
             [
              1,
              "#f0f921"
             ]
            ],
            "type": "surface"
           }
          ],
          "table": [
           {
            "cells": {
             "fill": {
              "color": "#EBF0F8"
             },
             "line": {
              "color": "white"
             }
            },
            "header": {
             "fill": {
              "color": "#C8D4E3"
             },
             "line": {
              "color": "white"
             }
            },
            "type": "table"
           }
          ]
         },
         "layout": {
          "annotationdefaults": {
           "arrowcolor": "#2a3f5f",
           "arrowhead": 0,
           "arrowwidth": 1
          },
          "autotypenumbers": "strict",
          "coloraxis": {
           "colorbar": {
            "outlinewidth": 0,
            "ticks": ""
           }
          },
          "colorscale": {
           "diverging": [
            [
             0,
             "#8e0152"
            ],
            [
             0.1,
             "#c51b7d"
            ],
            [
             0.2,
             "#de77ae"
            ],
            [
             0.3,
             "#f1b6da"
            ],
            [
             0.4,
             "#fde0ef"
            ],
            [
             0.5,
             "#f7f7f7"
            ],
            [
             0.6,
             "#e6f5d0"
            ],
            [
             0.7,
             "#b8e186"
            ],
            [
             0.8,
             "#7fbc41"
            ],
            [
             0.9,
             "#4d9221"
            ],
            [
             1,
             "#276419"
            ]
           ],
           "sequential": [
            [
             0,
             "#0d0887"
            ],
            [
             0.1111111111111111,
             "#46039f"
            ],
            [
             0.2222222222222222,
             "#7201a8"
            ],
            [
             0.3333333333333333,
             "#9c179e"
            ],
            [
             0.4444444444444444,
             "#bd3786"
            ],
            [
             0.5555555555555556,
             "#d8576b"
            ],
            [
             0.6666666666666666,
             "#ed7953"
            ],
            [
             0.7777777777777778,
             "#fb9f3a"
            ],
            [
             0.8888888888888888,
             "#fdca26"
            ],
            [
             1,
             "#f0f921"
            ]
           ],
           "sequentialminus": [
            [
             0,
             "#0d0887"
            ],
            [
             0.1111111111111111,
             "#46039f"
            ],
            [
             0.2222222222222222,
             "#7201a8"
            ],
            [
             0.3333333333333333,
             "#9c179e"
            ],
            [
             0.4444444444444444,
             "#bd3786"
            ],
            [
             0.5555555555555556,
             "#d8576b"
            ],
            [
             0.6666666666666666,
             "#ed7953"
            ],
            [
             0.7777777777777778,
             "#fb9f3a"
            ],
            [
             0.8888888888888888,
             "#fdca26"
            ],
            [
             1,
             "#f0f921"
            ]
           ]
          },
          "colorway": [
           "#636efa",
           "#EF553B",
           "#00cc96",
           "#ab63fa",
           "#FFA15A",
           "#19d3f3",
           "#FF6692",
           "#B6E880",
           "#FF97FF",
           "#FECB52"
          ],
          "font": {
           "color": "#2a3f5f"
          },
          "geo": {
           "bgcolor": "white",
           "lakecolor": "white",
           "landcolor": "white",
           "showlakes": true,
           "showland": true,
           "subunitcolor": "#C8D4E3"
          },
          "hoverlabel": {
           "align": "left"
          },
          "hovermode": "closest",
          "mapbox": {
           "style": "light"
          },
          "paper_bgcolor": "white",
          "plot_bgcolor": "white",
          "polar": {
           "angularaxis": {
            "gridcolor": "#EBF0F8",
            "linecolor": "#EBF0F8",
            "ticks": ""
           },
           "bgcolor": "white",
           "radialaxis": {
            "gridcolor": "#EBF0F8",
            "linecolor": "#EBF0F8",
            "ticks": ""
           }
          },
          "scene": {
           "xaxis": {
            "backgroundcolor": "white",
            "gridcolor": "#DFE8F3",
            "gridwidth": 2,
            "linecolor": "#EBF0F8",
            "showbackground": true,
            "ticks": "",
            "zerolinecolor": "#EBF0F8"
           },
           "yaxis": {
            "backgroundcolor": "white",
            "gridcolor": "#DFE8F3",
            "gridwidth": 2,
            "linecolor": "#EBF0F8",
            "showbackground": true,
            "ticks": "",
            "zerolinecolor": "#EBF0F8"
           },
           "zaxis": {
            "backgroundcolor": "white",
            "gridcolor": "#DFE8F3",
            "gridwidth": 2,
            "linecolor": "#EBF0F8",
            "showbackground": true,
            "ticks": "",
            "zerolinecolor": "#EBF0F8"
           }
          },
          "shapedefaults": {
           "line": {
            "color": "#2a3f5f"
           }
          },
          "ternary": {
           "aaxis": {
            "gridcolor": "#DFE8F3",
            "linecolor": "#A2B1C6",
            "ticks": ""
           },
           "baxis": {
            "gridcolor": "#DFE8F3",
            "linecolor": "#A2B1C6",
            "ticks": ""
           },
           "bgcolor": "white",
           "caxis": {
            "gridcolor": "#DFE8F3",
            "linecolor": "#A2B1C6",
            "ticks": ""
           }
          },
          "title": {
           "x": 0.05
          },
          "xaxis": {
           "automargin": true,
           "gridcolor": "#EBF0F8",
           "linecolor": "#EBF0F8",
           "ticks": "",
           "title": {
            "standoff": 15
           },
           "zerolinecolor": "#EBF0F8",
           "zerolinewidth": 2
          },
          "yaxis": {
           "automargin": true,
           "gridcolor": "#EBF0F8",
           "linecolor": "#EBF0F8",
           "ticks": "",
           "title": {
            "standoff": 15
           },
           "zerolinecolor": "#EBF0F8",
           "zerolinewidth": 2
          }
         }
        },
        "title": {
         "text": "Overall Performance"
        },
        "xaxis": {
         "title": {
          "text": "Metric"
         }
        },
        "yaxis": {
         "title": {
          "text": "Score"
         }
        }
       }
      }
     },
     "metadata": {},
     "output_type": "display_data"
    }
   ],
   "source": [
    "# Plotting the overall classification metric values.\n",
    "overall_performance_plot = plotter.metrics_value(\n",
    "    overall_performance,\n",
    "    title=\"Overall Performance\",\n",
    ")\n",
    "report.log_plotly_figure(\n",
    "    fig=overall_performance_plot,\n",
    "    caption=\"Overall Performance\",\n",
    "    section_name=\"quantitative analysis\",\n",
    ")\n",
    "overall_performance_plot.show()"
   ]
  },
  {
   "cell_type": "code",
   "execution_count": 46,
   "metadata": {},
   "outputs": [],
   "source": [
    "# Extracting the metric values for all the slices.\n",
    "slice_metrics = {\n",
    "    slice_name: {\n",
    "        metric_name: metric_value\n",
    "        for metric_name, metric_value in slice_results.items()\n",
    "        if metric_name not in [\"BinaryROC\", \"BinaryPrecisionRecallCurve\"]\n",
    "    }\n",
    "    for slice_name, slice_results in results[model_name].items()\n",
    "}"
   ]
  },
  {
   "cell_type": "code",
   "execution_count": 47,
   "metadata": {
    "tags": []
   },
   "outputs": [
    {
     "data": {
      "application/vnd.plotly.v1+json": {
       "config": {
        "plotlyServerURL": "https://plot.ly"
       },
       "data": [
        {
         "name": "Age:[30 - 50)",
         "type": "bar",
         "x": [
          "BinaryAccuracy",
          "BinaryPrecision",
          "BinaryRecall",
          "BinaryF1Score",
          "BinaryAUROC",
          "BinaryAveragePrecision"
         ],
         "y": [
          0.796875,
          0.8260869383811951,
          0.6785714030265808,
          0.7450980544090271,
          0.8819444179534912,
          0.7804346680641174
         ]
        },
        {
         "name": "Age:[50 - 70)",
         "type": "bar",
         "x": [
          "BinaryAccuracy",
          "BinaryPrecision",
          "BinaryRecall",
          "BinaryF1Score",
          "BinaryAUROC",
          "BinaryAveragePrecision"
         ],
         "y": [
          0.8623853325843811,
          0.8676470518112183,
          0.9076923131942749,
          0.8872180581092834,
          0.9279720783233643,
          0.9437647461891174
         ]
        },
        {
         "name": "Sex:M",
         "type": "bar",
         "x": [
          "BinaryAccuracy",
          "BinaryPrecision",
          "BinaryRecall",
          "BinaryF1Score",
          "BinaryAUROC",
          "BinaryAveragePrecision"
         ],
         "y": [
          0.8424657583236694,
          0.8817204236984253,
          0.8723404407501221,
          0.8770053386688232,
          0.9015957117080688,
          0.9267321825027466
         ]
        },
        {
         "name": "overall",
         "type": "bar",
         "x": [
          "BinaryAccuracy",
          "BinaryPrecision",
          "BinaryRecall",
          "BinaryF1Score",
          "BinaryAUROC",
          "BinaryAveragePrecision"
         ],
         "y": [
          0.842391312122345,
          0.868686854839325,
          0.843137264251709,
          0.8557214140892029,
          0.9152319431304932,
          0.9135027527809143
         ]
        }
       ],
       "layout": {
        "barmode": "group",
        "template": {
         "data": {
          "bar": [
           {
            "error_x": {
             "color": "#2a3f5f"
            },
            "error_y": {
             "color": "#2a3f5f"
            },
            "marker": {
             "line": {
              "color": "white",
              "width": 0.5
             },
             "pattern": {
              "fillmode": "overlay",
              "size": 10,
              "solidity": 0.2
             }
            },
            "type": "bar"
           }
          ],
          "barpolar": [
           {
            "marker": {
             "line": {
              "color": "white",
              "width": 0.5
             },
             "pattern": {
              "fillmode": "overlay",
              "size": 10,
              "solidity": 0.2
             }
            },
            "type": "barpolar"
           }
          ],
          "carpet": [
           {
            "aaxis": {
             "endlinecolor": "#2a3f5f",
             "gridcolor": "#C8D4E3",
             "linecolor": "#C8D4E3",
             "minorgridcolor": "#C8D4E3",
             "startlinecolor": "#2a3f5f"
            },
            "baxis": {
             "endlinecolor": "#2a3f5f",
             "gridcolor": "#C8D4E3",
             "linecolor": "#C8D4E3",
             "minorgridcolor": "#C8D4E3",
             "startlinecolor": "#2a3f5f"
            },
            "type": "carpet"
           }
          ],
          "choropleth": [
           {
            "colorbar": {
             "outlinewidth": 0,
             "ticks": ""
            },
            "type": "choropleth"
           }
          ],
          "contour": [
           {
            "colorbar": {
             "outlinewidth": 0,
             "ticks": ""
            },
            "colorscale": [
             [
              0,
              "#0d0887"
             ],
             [
              0.1111111111111111,
              "#46039f"
             ],
             [
              0.2222222222222222,
              "#7201a8"
             ],
             [
              0.3333333333333333,
              "#9c179e"
             ],
             [
              0.4444444444444444,
              "#bd3786"
             ],
             [
              0.5555555555555556,
              "#d8576b"
             ],
             [
              0.6666666666666666,
              "#ed7953"
             ],
             [
              0.7777777777777778,
              "#fb9f3a"
             ],
             [
              0.8888888888888888,
              "#fdca26"
             ],
             [
              1,
              "#f0f921"
             ]
            ],
            "type": "contour"
           }
          ],
          "contourcarpet": [
           {
            "colorbar": {
             "outlinewidth": 0,
             "ticks": ""
            },
            "type": "contourcarpet"
           }
          ],
          "heatmap": [
           {
            "colorbar": {
             "outlinewidth": 0,
             "ticks": ""
            },
            "colorscale": [
             [
              0,
              "#0d0887"
             ],
             [
              0.1111111111111111,
              "#46039f"
             ],
             [
              0.2222222222222222,
              "#7201a8"
             ],
             [
              0.3333333333333333,
              "#9c179e"
             ],
             [
              0.4444444444444444,
              "#bd3786"
             ],
             [
              0.5555555555555556,
              "#d8576b"
             ],
             [
              0.6666666666666666,
              "#ed7953"
             ],
             [
              0.7777777777777778,
              "#fb9f3a"
             ],
             [
              0.8888888888888888,
              "#fdca26"
             ],
             [
              1,
              "#f0f921"
             ]
            ],
            "type": "heatmap"
           }
          ],
          "heatmapgl": [
           {
            "colorbar": {
             "outlinewidth": 0,
             "ticks": ""
            },
            "colorscale": [
             [
              0,
              "#0d0887"
             ],
             [
              0.1111111111111111,
              "#46039f"
             ],
             [
              0.2222222222222222,
              "#7201a8"
             ],
             [
              0.3333333333333333,
              "#9c179e"
             ],
             [
              0.4444444444444444,
              "#bd3786"
             ],
             [
              0.5555555555555556,
              "#d8576b"
             ],
             [
              0.6666666666666666,
              "#ed7953"
             ],
             [
              0.7777777777777778,
              "#fb9f3a"
             ],
             [
              0.8888888888888888,
              "#fdca26"
             ],
             [
              1,
              "#f0f921"
             ]
            ],
            "type": "heatmapgl"
           }
          ],
          "histogram": [
           {
            "marker": {
             "pattern": {
              "fillmode": "overlay",
              "size": 10,
              "solidity": 0.2
             }
            },
            "type": "histogram"
           }
          ],
          "histogram2d": [
           {
            "colorbar": {
             "outlinewidth": 0,
             "ticks": ""
            },
            "colorscale": [
             [
              0,
              "#0d0887"
             ],
             [
              0.1111111111111111,
              "#46039f"
             ],
             [
              0.2222222222222222,
              "#7201a8"
             ],
             [
              0.3333333333333333,
              "#9c179e"
             ],
             [
              0.4444444444444444,
              "#bd3786"
             ],
             [
              0.5555555555555556,
              "#d8576b"
             ],
             [
              0.6666666666666666,
              "#ed7953"
             ],
             [
              0.7777777777777778,
              "#fb9f3a"
             ],
             [
              0.8888888888888888,
              "#fdca26"
             ],
             [
              1,
              "#f0f921"
             ]
            ],
            "type": "histogram2d"
           }
          ],
          "histogram2dcontour": [
           {
            "colorbar": {
             "outlinewidth": 0,
             "ticks": ""
            },
            "colorscale": [
             [
              0,
              "#0d0887"
             ],
             [
              0.1111111111111111,
              "#46039f"
             ],
             [
              0.2222222222222222,
              "#7201a8"
             ],
             [
              0.3333333333333333,
              "#9c179e"
             ],
             [
              0.4444444444444444,
              "#bd3786"
             ],
             [
              0.5555555555555556,
              "#d8576b"
             ],
             [
              0.6666666666666666,
              "#ed7953"
             ],
             [
              0.7777777777777778,
              "#fb9f3a"
             ],
             [
              0.8888888888888888,
              "#fdca26"
             ],
             [
              1,
              "#f0f921"
             ]
            ],
            "type": "histogram2dcontour"
           }
          ],
          "mesh3d": [
           {
            "colorbar": {
             "outlinewidth": 0,
             "ticks": ""
            },
            "type": "mesh3d"
           }
          ],
          "parcoords": [
           {
            "line": {
             "colorbar": {
              "outlinewidth": 0,
              "ticks": ""
             }
            },
            "type": "parcoords"
           }
          ],
          "pie": [
           {
            "automargin": true,
            "type": "pie"
           }
          ],
          "scatter": [
           {
            "fillpattern": {
             "fillmode": "overlay",
             "size": 10,
             "solidity": 0.2
            },
            "type": "scatter"
           }
          ],
          "scatter3d": [
           {
            "line": {
             "colorbar": {
              "outlinewidth": 0,
              "ticks": ""
             }
            },
            "marker": {
             "colorbar": {
              "outlinewidth": 0,
              "ticks": ""
             }
            },
            "type": "scatter3d"
           }
          ],
          "scattercarpet": [
           {
            "marker": {
             "colorbar": {
              "outlinewidth": 0,
              "ticks": ""
             }
            },
            "type": "scattercarpet"
           }
          ],
          "scattergeo": [
           {
            "marker": {
             "colorbar": {
              "outlinewidth": 0,
              "ticks": ""
             }
            },
            "type": "scattergeo"
           }
          ],
          "scattergl": [
           {
            "marker": {
             "colorbar": {
              "outlinewidth": 0,
              "ticks": ""
             }
            },
            "type": "scattergl"
           }
          ],
          "scattermapbox": [
           {
            "marker": {
             "colorbar": {
              "outlinewidth": 0,
              "ticks": ""
             }
            },
            "type": "scattermapbox"
           }
          ],
          "scatterpolar": [
           {
            "marker": {
             "colorbar": {
              "outlinewidth": 0,
              "ticks": ""
             }
            },
            "type": "scatterpolar"
           }
          ],
          "scatterpolargl": [
           {
            "marker": {
             "colorbar": {
              "outlinewidth": 0,
              "ticks": ""
             }
            },
            "type": "scatterpolargl"
           }
          ],
          "scatterternary": [
           {
            "marker": {
             "colorbar": {
              "outlinewidth": 0,
              "ticks": ""
             }
            },
            "type": "scatterternary"
           }
          ],
          "surface": [
           {
            "colorbar": {
             "outlinewidth": 0,
             "ticks": ""
            },
            "colorscale": [
             [
              0,
              "#0d0887"
             ],
             [
              0.1111111111111111,
              "#46039f"
             ],
             [
              0.2222222222222222,
              "#7201a8"
             ],
             [
              0.3333333333333333,
              "#9c179e"
             ],
             [
              0.4444444444444444,
              "#bd3786"
             ],
             [
              0.5555555555555556,
              "#d8576b"
             ],
             [
              0.6666666666666666,
              "#ed7953"
             ],
             [
              0.7777777777777778,
              "#fb9f3a"
             ],
             [
              0.8888888888888888,
              "#fdca26"
             ],
             [
              1,
              "#f0f921"
             ]
            ],
            "type": "surface"
           }
          ],
          "table": [
           {
            "cells": {
             "fill": {
              "color": "#EBF0F8"
             },
             "line": {
              "color": "white"
             }
            },
            "header": {
             "fill": {
              "color": "#C8D4E3"
             },
             "line": {
              "color": "white"
             }
            },
            "type": "table"
           }
          ]
         },
         "layout": {
          "annotationdefaults": {
           "arrowcolor": "#2a3f5f",
           "arrowhead": 0,
           "arrowwidth": 1
          },
          "autotypenumbers": "strict",
          "coloraxis": {
           "colorbar": {
            "outlinewidth": 0,
            "ticks": ""
           }
          },
          "colorscale": {
           "diverging": [
            [
             0,
             "#8e0152"
            ],
            [
             0.1,
             "#c51b7d"
            ],
            [
             0.2,
             "#de77ae"
            ],
            [
             0.3,
             "#f1b6da"
            ],
            [
             0.4,
             "#fde0ef"
            ],
            [
             0.5,
             "#f7f7f7"
            ],
            [
             0.6,
             "#e6f5d0"
            ],
            [
             0.7,
             "#b8e186"
            ],
            [
             0.8,
             "#7fbc41"
            ],
            [
             0.9,
             "#4d9221"
            ],
            [
             1,
             "#276419"
            ]
           ],
           "sequential": [
            [
             0,
             "#0d0887"
            ],
            [
             0.1111111111111111,
             "#46039f"
            ],
            [
             0.2222222222222222,
             "#7201a8"
            ],
            [
             0.3333333333333333,
             "#9c179e"
            ],
            [
             0.4444444444444444,
             "#bd3786"
            ],
            [
             0.5555555555555556,
             "#d8576b"
            ],
            [
             0.6666666666666666,
             "#ed7953"
            ],
            [
             0.7777777777777778,
             "#fb9f3a"
            ],
            [
             0.8888888888888888,
             "#fdca26"
            ],
            [
             1,
             "#f0f921"
            ]
           ],
           "sequentialminus": [
            [
             0,
             "#0d0887"
            ],
            [
             0.1111111111111111,
             "#46039f"
            ],
            [
             0.2222222222222222,
             "#7201a8"
            ],
            [
             0.3333333333333333,
             "#9c179e"
            ],
            [
             0.4444444444444444,
             "#bd3786"
            ],
            [
             0.5555555555555556,
             "#d8576b"
            ],
            [
             0.6666666666666666,
             "#ed7953"
            ],
            [
             0.7777777777777778,
             "#fb9f3a"
            ],
            [
             0.8888888888888888,
             "#fdca26"
            ],
            [
             1,
             "#f0f921"
            ]
           ]
          },
          "colorway": [
           "#636efa",
           "#EF553B",
           "#00cc96",
           "#ab63fa",
           "#FFA15A",
           "#19d3f3",
           "#FF6692",
           "#B6E880",
           "#FF97FF",
           "#FECB52"
          ],
          "font": {
           "color": "#2a3f5f"
          },
          "geo": {
           "bgcolor": "white",
           "lakecolor": "white",
           "landcolor": "white",
           "showlakes": true,
           "showland": true,
           "subunitcolor": "#C8D4E3"
          },
          "hoverlabel": {
           "align": "left"
          },
          "hovermode": "closest",
          "mapbox": {
           "style": "light"
          },
          "paper_bgcolor": "white",
          "plot_bgcolor": "white",
          "polar": {
           "angularaxis": {
            "gridcolor": "#EBF0F8",
            "linecolor": "#EBF0F8",
            "ticks": ""
           },
           "bgcolor": "white",
           "radialaxis": {
            "gridcolor": "#EBF0F8",
            "linecolor": "#EBF0F8",
            "ticks": ""
           }
          },
          "scene": {
           "xaxis": {
            "backgroundcolor": "white",
            "gridcolor": "#DFE8F3",
            "gridwidth": 2,
            "linecolor": "#EBF0F8",
            "showbackground": true,
            "ticks": "",
            "zerolinecolor": "#EBF0F8"
           },
           "yaxis": {
            "backgroundcolor": "white",
            "gridcolor": "#DFE8F3",
            "gridwidth": 2,
            "linecolor": "#EBF0F8",
            "showbackground": true,
            "ticks": "",
            "zerolinecolor": "#EBF0F8"
           },
           "zaxis": {
            "backgroundcolor": "white",
            "gridcolor": "#DFE8F3",
            "gridwidth": 2,
            "linecolor": "#EBF0F8",
            "showbackground": true,
            "ticks": "",
            "zerolinecolor": "#EBF0F8"
           }
          },
          "shapedefaults": {
           "line": {
            "color": "#2a3f5f"
           }
          },
          "ternary": {
           "aaxis": {
            "gridcolor": "#DFE8F3",
            "linecolor": "#A2B1C6",
            "ticks": ""
           },
           "baxis": {
            "gridcolor": "#DFE8F3",
            "linecolor": "#A2B1C6",
            "ticks": ""
           },
           "bgcolor": "white",
           "caxis": {
            "gridcolor": "#DFE8F3",
            "linecolor": "#A2B1C6",
            "ticks": ""
           }
          },
          "title": {
           "x": 0.05
          },
          "xaxis": {
           "automargin": true,
           "gridcolor": "#EBF0F8",
           "linecolor": "#EBF0F8",
           "ticks": "",
           "title": {
            "standoff": 15
           },
           "zerolinecolor": "#EBF0F8",
           "zerolinewidth": 2
          },
          "yaxis": {
           "automargin": true,
           "gridcolor": "#EBF0F8",
           "linecolor": "#EBF0F8",
           "ticks": "",
           "title": {
            "standoff": 15
           },
           "zerolinecolor": "#EBF0F8",
           "zerolinewidth": 2
          }
         }
        },
        "title": {
         "text": "Metrics Comparison"
        },
        "xaxis": {
         "title": {
          "text": "Metric"
         }
        },
        "yaxis": {
         "title": {
          "text": "Score"
         }
        }
       }
      }
     },
     "metadata": {},
     "output_type": "display_data"
    }
   ],
   "source": [
    "# Plotting the metric values for all the slices.\n",
    "slice_metrics_plot = plotter.metrics_comparison_bar(slice_metrics)\n",
    "report.log_plotly_figure(\n",
    "    fig=slice_metrics_plot,\n",
    "    caption=\"Slice Metric Comparison\",\n",
    "    section_name=\"quantitative analysis\",\n",
    ")\n",
    "slice_metrics_plot.show()"
   ]
  },
  {
   "cell_type": "code",
   "execution_count": 48,
   "metadata": {},
   "outputs": [
    {
     "name": "stderr",
     "output_type": "stream",
     "text": [
      "/home/akore/vscodeprojects/cyclops/cyclops/evaluate/metrics/experimental/utils/ops.py:530: RuntimeWarning:\n",
      "\n",
      "invalid value encountered in scalar divide\n",
      "\n"
     ]
    },
    {
     "data": {
      "application/vnd.plotly.v1+json": {
       "config": {
        "plotlyServerURL": "https://plot.ly"
       },
       "data": [
        {
         "hovertemplate": "Threshold: %{x:.3f}<br>Metric Value: %{y:.3f}<extra></extra>",
         "mode": "lines",
         "name": "Sensitivity",
         "type": "scatter",
         "x": [
          1,
          0.9841768145561218,
          0.9835842251777649,
          0.9824233055114746,
          0.9821106791496277,
          0.981975257396698,
          0.9793980121612549,
          0.9751361608505249,
          0.9736014604568481,
          0.9714942574501038,
          0.963236927986145,
          0.9577423334121704,
          0.9550783038139343,
          0.9526215195655823,
          0.9512895345687866,
          0.9489914178848267,
          0.9486154913902283,
          0.9484829306602478,
          0.9461178183555603,
          0.9458472728729248,
          0.9455967545509338,
          0.9447488188743591,
          0.9429363012313843,
          0.941596269607544,
          0.9400173425674438,
          0.9388357996940613,
          0.9372116327285767,
          0.9371462464332581,
          0.9352840781211853,
          0.9350697994232178,
          0.9327023029327393,
          0.9320457577705383,
          0.9312780499458313,
          0.9289169907569885,
          0.9281343221664429,
          0.9266177415847778,
          0.9260913729667664,
          0.9259473085403442,
          0.9257737398147583,
          0.9254478812217712,
          0.923404335975647,
          0.9228553771972656,
          0.9227631688117981,
          0.9189176559448242,
          0.9187923073768616,
          0.9184648990631104,
          0.9155922532081604,
          0.9142704010009766,
          0.9123672842979431,
          0.9058189988136292,
          0.904884934425354,
          0.9014043807983398,
          0.900213897228241,
          0.8949064612388611,
          0.8800272345542908,
          0.8689007759094238,
          0.8598464131355286,
          0.8547279238700867,
          0.8499999046325684,
          0.8456660509109497,
          0.8269621729850769,
          0.8149520754814148,
          0.8100790977478027,
          0.8092963099479675,
          0.8087050318717957,
          0.8069738745689392,
          0.7936704158782959,
          0.7933361530303955,
          0.7927039265632629,
          0.7919947504997253,
          0.7784487009048462,
          0.7781028747558594,
          0.7704260349273682,
          0.7631957530975342,
          0.7594342827796936,
          0.756037712097168,
          0.7540255188941956,
          0.7473790645599365,
          0.7454511523246765,
          0.7451131939888,
          0.7435046434402466,
          0.7404389381408691,
          0.7396889328956604,
          0.7240360975265503,
          0.7237682342529297,
          0.714038610458374,
          0.6839268803596497,
          0.6827555894851685,
          0.6785424947738647,
          0.6732058525085449,
          0.6596888899803162,
          0.6411420106887817,
          0.638378381729126,
          0.5902057886123657,
          0.5718783140182495,
          0.5673843622207642,
          0.525303304195404,
          0.5193239450454712,
          0.5042865872383118,
          0.5033947229385376,
          0.49124637246131897,
          0.469625860452652,
          0.4584466218948364,
          0.4266155958175659,
          0.4106963574886322,
          0.4035077691078186,
          0.3750584125518799,
          0.36967000365257263,
          0.34856751561164856,
          0.33516767621040344,
          0.3244381844997406,
          0.30544745922088623,
          0.303854763507843,
          0.29768845438957214,
          0.29674801230430603,
          0.29609331488609314,
          0.2933594882488251,
          0.29324278235435486,
          0.271053671836853,
          0.2705269455909729,
          0.26913338899612427,
          0.26280394196510315,
          0.2577650547027588,
          0.25206029415130615,
          0.24574658274650574,
          0.24484170973300934,
          0.20211005210876465,
          0.19075939059257507,
          0.18877340853214264,
          0.18635977804660797,
          0.17864280939102173,
          0.16906698048114777,
          0.16553547978401184,
          0.15970958769321442,
          0.14977382123470306,
          0.14863234758377075,
          0.14666463434696198,
          0.141507089138031,
          0.11864016205072403,
          0.11332377791404724,
          0.11274245381355286,
          0.10979399085044861,
          0.10554865747690201,
          0.09547468274831772,
          0.09052063524723053,
          0.08959536254405975,
          0.08336047828197479,
          0.08296795934438705,
          0.08189547061920166,
          0.08147969096899033,
          0.07960796356201172,
          0.06955789029598236,
          0.06638294458389282,
          0.0639757439494133,
          0.061987437307834625,
          0.05983998253941536,
          0.05903443321585655,
          0.058225665241479874,
          0.05760233849287033,
          0.05668769031763077,
          0.05668608099222183,
          0.05642737075686455,
          0.05441800132393837,
          0.0543658472597599,
          0.051783692091703415,
          0.0504855215549469,
          0.04895208030939102,
          0.048159800469875336,
          0.047034166753292084,
          0.033861786127090454,
          0.030399339273571968,
          0.02347017452120781,
          0.023374976590275764,
          0.0226785559207201,
          0.02156836725771427,
          0.021051906049251556,
          0.019956830888986588,
          0.018193554133176804,
          0.01818162575364113,
          0.017967848107218742,
          0.01792564056813717,
          0.017860256135463715,
          0.016280222684144974,
          0.01614561304450035,
          0.014423873275518417
         ],
         "xaxis": "x",
         "y": [
          0,
          0.009803921915590763,
          0.019607843831181526,
          0.029411764815449715,
          0.03921568766236305,
          0.04901960864663124,
          0.05882352963089943,
          0.06862745434045792,
          0.0784313753247261,
          0.0882352963089943,
          0.09803921729326248,
          0.10784313827753067,
          0.11764705926179886,
          0.12745098769664764,
          0.13725490868091583,
          0.14705882966518402,
          0.1568627506494522,
          0.1666666716337204,
          0.1764705926179886,
          0.18627451360225677,
          0.19607843458652496,
          0.20588235557079315,
          0.20588235557079315,
          0.21568627655506134,
          0.21568627655506134,
          0.22549019753932953,
          0.23529411852359772,
          0.23529411852359772,
          0.2450980395078659,
          0.2549019753932953,
          0.2647058963775635,
          0.27450981736183167,
          0.28431373834609985,
          0.29411765933036804,
          0.30392158031463623,
          0.3137255012989044,
          0.3235294222831726,
          0.3333333432674408,
          0.343137264251709,
          0.3529411852359772,
          0.36274510622024536,
          0.37254902720451355,
          0.37254902720451355,
          0.38235294818878174,
          0.3921568691730499,
          0.4019607901573181,
          0.4117647111415863,
          0.4215686321258545,
          0.4313725531101227,
          0.44117647409439087,
          0.45098039507865906,
          0.46078431606292725,
          0.47058823704719543,
          0.4803921580314636,
          0.4901960790157318,
          0.5,
          0.5,
          0.5098039507865906,
          0.5196078419685364,
          0.529411792755127,
          0.5392156839370728,
          0.5490196347236633,
          0.5490196347236633,
          0.5490196347236633,
          0.5588235259056091,
          0.5686274766921997,
          0.5784313678741455,
          0.5882353186607361,
          0.5980392098426819,
          0.6078431606292725,
          0.6176470518112183,
          0.6274510025978088,
          0.6372548937797546,
          0.6470588445663452,
          0.656862735748291,
          0.6666666865348816,
          0.6764705777168274,
          0.686274528503418,
          0.6960784196853638,
          0.7058823704719543,
          0.7156862616539001,
          0.7254902124404907,
          0.7352941036224365,
          0.7450980544090271,
          0.7549019455909729,
          0.7647058963775635,
          0.7745097875595093,
          0.7745097875595093,
          0.7745097875595093,
          0.7745097875595093,
          0.7843137383460999,
          0.7941176295280457,
          0.8039215803146362,
          0.8039215803146362,
          0.8039215803146362,
          0.813725471496582,
          0.8235294222831726,
          0.8235294222831726,
          0.8333333134651184,
          0.843137264251709,
          0.8529411554336548,
          0.8529411554336548,
          0.8627451062202454,
          0.8725489974021912,
          0.8823529481887817,
          0.8921568393707275,
          0.9019607901573181,
          0.9019607901573181,
          0.9019607901573181,
          0.9117646813392639,
          0.9117646813392639,
          0.9215686321258545,
          0.9215686321258545,
          0.9215686321258545,
          0.9215686321258545,
          0.9215686321258545,
          0.9313725233078003,
          0.9313725233078003,
          0.9313725233078003,
          0.9313725233078003,
          0.9313725233078003,
          0.9313725233078003,
          0.9411764740943909,
          0.9509803652763367,
          0.9607843160629272,
          0.9607843160629272,
          0.9607843160629272,
          0.9607843160629272,
          0.970588207244873,
          0.9803921580314636,
          0.9803921580314636,
          0.9803921580314636,
          0.9803921580314636,
          0.9803921580314636,
          0.9803921580314636,
          0.9901960492134094,
          0.9901960492134094,
          0.9901960492134094,
          0.9901960492134094,
          1,
          1,
          1,
          1,
          1,
          1,
          1,
          1,
          1,
          1,
          1,
          1,
          1,
          1,
          1,
          1,
          1,
          1,
          1,
          1,
          1,
          1,
          1,
          1,
          1,
          1,
          1,
          1,
          1,
          1,
          1,
          1,
          1,
          1,
          1,
          1,
          1,
          1,
          1,
          1,
          1,
          1,
          1,
          1,
          1,
          1
         ],
         "yaxis": "y"
        },
        {
         "hovertemplate": "Threshold: %{x:.3f}<br>Metric Value: %{y:.3f}<extra></extra>",
         "mode": "lines",
         "name": "1 - Specificity",
         "type": "scatter",
         "x": [
          1,
          0.9841768145561218,
          0.9835842251777649,
          0.9824233055114746,
          0.9821106791496277,
          0.981975257396698,
          0.9793980121612549,
          0.9751361608505249,
          0.9736014604568481,
          0.9714942574501038,
          0.963236927986145,
          0.9577423334121704,
          0.9550783038139343,
          0.9526215195655823,
          0.9512895345687866,
          0.9489914178848267,
          0.9486154913902283,
          0.9484829306602478,
          0.9461178183555603,
          0.9458472728729248,
          0.9455967545509338,
          0.9447488188743591,
          0.9429363012313843,
          0.941596269607544,
          0.9400173425674438,
          0.9388357996940613,
          0.9372116327285767,
          0.9371462464332581,
          0.9352840781211853,
          0.9350697994232178,
          0.9327023029327393,
          0.9320457577705383,
          0.9312780499458313,
          0.9289169907569885,
          0.9281343221664429,
          0.9266177415847778,
          0.9260913729667664,
          0.9259473085403442,
          0.9257737398147583,
          0.9254478812217712,
          0.923404335975647,
          0.9228553771972656,
          0.9227631688117981,
          0.9189176559448242,
          0.9187923073768616,
          0.9184648990631104,
          0.9155922532081604,
          0.9142704010009766,
          0.9123672842979431,
          0.9058189988136292,
          0.904884934425354,
          0.9014043807983398,
          0.900213897228241,
          0.8949064612388611,
          0.8800272345542908,
          0.8689007759094238,
          0.8598464131355286,
          0.8547279238700867,
          0.8499999046325684,
          0.8456660509109497,
          0.8269621729850769,
          0.8149520754814148,
          0.8100790977478027,
          0.8092963099479675,
          0.8087050318717957,
          0.8069738745689392,
          0.7936704158782959,
          0.7933361530303955,
          0.7927039265632629,
          0.7919947504997253,
          0.7784487009048462,
          0.7781028747558594,
          0.7704260349273682,
          0.7631957530975342,
          0.7594342827796936,
          0.756037712097168,
          0.7540255188941956,
          0.7473790645599365,
          0.7454511523246765,
          0.7451131939888,
          0.7435046434402466,
          0.7404389381408691,
          0.7396889328956604,
          0.7240360975265503,
          0.7237682342529297,
          0.714038610458374,
          0.6839268803596497,
          0.6827555894851685,
          0.6785424947738647,
          0.6732058525085449,
          0.6596888899803162,
          0.6411420106887817,
          0.638378381729126,
          0.5902057886123657,
          0.5718783140182495,
          0.5673843622207642,
          0.525303304195404,
          0.5193239450454712,
          0.5042865872383118,
          0.5033947229385376,
          0.49124637246131897,
          0.469625860452652,
          0.4584466218948364,
          0.4266155958175659,
          0.4106963574886322,
          0.4035077691078186,
          0.3750584125518799,
          0.36967000365257263,
          0.34856751561164856,
          0.33516767621040344,
          0.3244381844997406,
          0.30544745922088623,
          0.303854763507843,
          0.29768845438957214,
          0.29674801230430603,
          0.29609331488609314,
          0.2933594882488251,
          0.29324278235435486,
          0.271053671836853,
          0.2705269455909729,
          0.26913338899612427,
          0.26280394196510315,
          0.2577650547027588,
          0.25206029415130615,
          0.24574658274650574,
          0.24484170973300934,
          0.20211005210876465,
          0.19075939059257507,
          0.18877340853214264,
          0.18635977804660797,
          0.17864280939102173,
          0.16906698048114777,
          0.16553547978401184,
          0.15970958769321442,
          0.14977382123470306,
          0.14863234758377075,
          0.14666463434696198,
          0.141507089138031,
          0.11864016205072403,
          0.11332377791404724,
          0.11274245381355286,
          0.10979399085044861,
          0.10554865747690201,
          0.09547468274831772,
          0.09052063524723053,
          0.08959536254405975,
          0.08336047828197479,
          0.08296795934438705,
          0.08189547061920166,
          0.08147969096899033,
          0.07960796356201172,
          0.06955789029598236,
          0.06638294458389282,
          0.0639757439494133,
          0.061987437307834625,
          0.05983998253941536,
          0.05903443321585655,
          0.058225665241479874,
          0.05760233849287033,
          0.05668769031763077,
          0.05668608099222183,
          0.05642737075686455,
          0.05441800132393837,
          0.0543658472597599,
          0.051783692091703415,
          0.0504855215549469,
          0.04895208030939102,
          0.048159800469875336,
          0.047034166753292084,
          0.033861786127090454,
          0.030399339273571968,
          0.02347017452120781,
          0.023374976590275764,
          0.0226785559207201,
          0.02156836725771427,
          0.021051906049251556,
          0.019956830888986588,
          0.018193554133176804,
          0.01818162575364113,
          0.017967848107218742,
          0.01792564056813717,
          0.017860256135463715,
          0.016280222684144974,
          0.01614561304450035,
          0.014423873275518417
         ],
         "xaxis": "x2",
         "y": [
          1,
          1,
          1,
          1,
          1,
          1,
          1,
          1,
          1,
          1,
          1,
          1,
          1,
          1,
          1,
          1,
          1,
          1,
          1,
          1,
          1,
          1,
          0.9878048896789551,
          0.9878048896789551,
          0.9756097793579102,
          0.9756097793579102,
          0.9756097793579102,
          0.9634146094322205,
          0.9634146094322205,
          0.9634146094322205,
          0.9634146094322205,
          0.9634146094322205,
          0.9634146094322205,
          0.9634146094322205,
          0.9634146094322205,
          0.9634146094322205,
          0.9634146094322205,
          0.9634146094322205,
          0.9634146094322205,
          0.9634146094322205,
          0.9634146094322205,
          0.9634146094322205,
          0.9512194991111755,
          0.9512194991111755,
          0.9512194991111755,
          0.9512194991111755,
          0.9512194991111755,
          0.9512194991111755,
          0.9512194991111755,
          0.9512194991111755,
          0.9512194991111755,
          0.9512194991111755,
          0.9512194991111755,
          0.9512194991111755,
          0.9512194991111755,
          0.9512194991111755,
          0.9390243887901306,
          0.9390243887901306,
          0.9390243887901306,
          0.9390243887901306,
          0.9390243887901306,
          0.9390243887901306,
          0.9268292784690857,
          0.9146341681480408,
          0.9146341681480408,
          0.9146341681480408,
          0.9146341681480408,
          0.9146341681480408,
          0.9146341681480408,
          0.9146341681480408,
          0.9146341681480408,
          0.9146341681480408,
          0.9146341681480408,
          0.9146341681480408,
          0.9146341681480408,
          0.9146341681480408,
          0.9146341681480408,
          0.9146341681480408,
          0.9146341681480408,
          0.9146341681480408,
          0.9146341681480408,
          0.9146341681480408,
          0.9146341681480408,
          0.9146341681480408,
          0.9146341681480408,
          0.9146341681480408,
          0.9146341681480408,
          0.9024389982223511,
          0.8902438879013062,
          0.8780487775802612,
          0.8780487775802612,
          0.8780487775802612,
          0.8780487775802612,
          0.8658536672592163,
          0.8536585569381714,
          0.8536585569381714,
          0.8536585569381714,
          0.8414634466171265,
          0.8414634466171265,
          0.8414634466171265,
          0.8414634466171265,
          0.8292682766914368,
          0.8292682766914368,
          0.8292682766914368,
          0.8292682766914368,
          0.8292682766914368,
          0.8292682766914368,
          0.8170731663703918,
          0.8048780560493469,
          0.8048780560493469,
          0.792682945728302,
          0.792682945728302,
          0.7804877758026123,
          0.7682926654815674,
          0.7560975551605225,
          0.7439024448394775,
          0.7439024448394775,
          0.7317073345184326,
          0.7195122241973877,
          0.7073171138763428,
          0.6951219439506531,
          0.6829268336296082,
          0.6829268336296082,
          0.6829268336296082,
          0.6829268336296082,
          0.6707316637039185,
          0.6585365533828735,
          0.6463414430618286,
          0.6463414430618286,
          0.6463414430618286,
          0.6341463327407837,
          0.6219512224197388,
          0.6097561120986938,
          0.5975610017776489,
          0.585365891456604,
          0.585365891456604,
          0.5731707215309143,
          0.5609756112098694,
          0.5487805008888245,
          0.5487805008888245,
          0.5365853309631348,
          0.5243902206420898,
          0.5121951103210449,
          0.5,
          0.4878048896789551,
          0.47560977935791016,
          0.46341460943222046,
          0.45121949911117554,
          0.4390243887901306,
          0.4268292784690857,
          0.41463416814804077,
          0.4024389982223511,
          0.39024388790130615,
          0.37804877758026123,
          0.3658536672592163,
          0.3536585569381714,
          0.3414633870124817,
          0.32926827669143677,
          0.31707316637039185,
          0.3048780560493469,
          0.292682945728302,
          0.2804877758026123,
          0.2682926654815674,
          0.25609755516052246,
          0.24390244483947754,
          0.23170733451843262,
          0.2195122241973877,
          0.207317054271698,
          0.19512194395065308,
          0.18292683362960815,
          0.17073172330856323,
          0.1585366129875183,
          0.1463414430618286,
          0.1341463327407837,
          0.12195122241973877,
          0.10975611209869385,
          0.09756100177764893,
          0.08536583185195923,
          0.0731707215309143,
          0.060975611209869385,
          0.04878050088882446,
          0.03658539056777954,
          0.024390220642089844,
          0.012195110321044922,
          0
         ],
         "yaxis": "y2"
        },
        {
         "hovertemplate": "Threshold: %{x:.3f}<br>Metric Value: %{y:.3f}<extra></extra>",
         "mode": "lines",
         "name": "PPV",
         "type": "scatter",
         "x": [
          1,
          0.9841768145561218,
          0.9835842251777649,
          0.9824233055114746,
          0.9821106791496277,
          0.981975257396698,
          0.9793980121612549,
          0.9751361608505249,
          0.9736014604568481,
          0.9714942574501038,
          0.963236927986145,
          0.9577423334121704,
          0.9550783038139343,
          0.9526215195655823,
          0.9512895345687866,
          0.9489914178848267,
          0.9486154913902283,
          0.9484829306602478,
          0.9461178183555603,
          0.9458472728729248,
          0.9455967545509338,
          0.9447488188743591,
          0.9429363012313843,
          0.941596269607544,
          0.9400173425674438,
          0.9388357996940613,
          0.9372116327285767,
          0.9371462464332581,
          0.9352840781211853,
          0.9350697994232178,
          0.9327023029327393,
          0.9320457577705383,
          0.9312780499458313,
          0.9289169907569885,
          0.9281343221664429,
          0.9266177415847778,
          0.9260913729667664,
          0.9259473085403442,
          0.9257737398147583,
          0.9254478812217712,
          0.923404335975647,
          0.9228553771972656,
          0.9227631688117981,
          0.9189176559448242,
          0.9187923073768616,
          0.9184648990631104,
          0.9155922532081604,
          0.9142704010009766,
          0.9123672842979431,
          0.9058189988136292,
          0.904884934425354,
          0.9014043807983398,
          0.900213897228241,
          0.8949064612388611,
          0.8800272345542908,
          0.8689007759094238,
          0.8598464131355286,
          0.8547279238700867,
          0.8499999046325684,
          0.8456660509109497,
          0.8269621729850769,
          0.8149520754814148,
          0.8100790977478027,
          0.8092963099479675,
          0.8087050318717957,
          0.8069738745689392,
          0.7936704158782959,
          0.7933361530303955,
          0.7927039265632629,
          0.7919947504997253,
          0.7784487009048462,
          0.7781028747558594,
          0.7704260349273682,
          0.7631957530975342,
          0.7594342827796936,
          0.756037712097168,
          0.7540255188941956,
          0.7473790645599365,
          0.7454511523246765,
          0.7451131939888,
          0.7435046434402466,
          0.7404389381408691,
          0.7396889328956604,
          0.7240360975265503,
          0.7237682342529297,
          0.714038610458374,
          0.6839268803596497,
          0.6827555894851685,
          0.6785424947738647,
          0.6732058525085449,
          0.6596888899803162,
          0.6411420106887817,
          0.638378381729126,
          0.5902057886123657,
          0.5718783140182495,
          0.5673843622207642,
          0.525303304195404,
          0.5193239450454712,
          0.5042865872383118,
          0.5033947229385376,
          0.49124637246131897,
          0.469625860452652,
          0.4584466218948364,
          0.4266155958175659,
          0.4106963574886322,
          0.4035077691078186,
          0.3750584125518799,
          0.36967000365257263,
          0.34856751561164856,
          0.33516767621040344,
          0.3244381844997406,
          0.30544745922088623,
          0.303854763507843,
          0.29768845438957214,
          0.29674801230430603,
          0.29609331488609314,
          0.2933594882488251,
          0.29324278235435486,
          0.271053671836853,
          0.2705269455909729,
          0.26913338899612427,
          0.26280394196510315,
          0.2577650547027588,
          0.25206029415130615,
          0.24574658274650574,
          0.24484170973300934,
          0.20211005210876465,
          0.19075939059257507,
          0.18877340853214264,
          0.18635977804660797,
          0.17864280939102173,
          0.16906698048114777,
          0.16553547978401184,
          0.15970958769321442,
          0.14977382123470306,
          0.14863234758377075,
          0.14666463434696198,
          0.141507089138031,
          0.11864016205072403,
          0.11332377791404724,
          0.11274245381355286,
          0.10979399085044861,
          0.10554865747690201,
          0.09547468274831772,
          0.09052063524723053,
          0.08959536254405975,
          0.08336047828197479,
          0.08296795934438705,
          0.08189547061920166,
          0.08147969096899033,
          0.07960796356201172,
          0.06955789029598236,
          0.06638294458389282,
          0.0639757439494133,
          0.061987437307834625,
          0.05983998253941536,
          0.05903443321585655,
          0.058225665241479874,
          0.05760233849287033,
          0.05668769031763077,
          0.05668608099222183,
          0.05642737075686455,
          0.05441800132393837,
          0.0543658472597599,
          0.051783692091703415,
          0.0504855215549469,
          0.04895208030939102,
          0.048159800469875336,
          0.047034166753292084,
          0.033861786127090454,
          0.030399339273571968,
          0.02347017452120781,
          0.023374976590275764,
          0.0226785559207201,
          0.02156836725771427,
          0.021051906049251556,
          0.019956830888986588,
          0.018193554133176804,
          0.01818162575364113,
          0.017967848107218742,
          0.01792564056813717,
          0.017860256135463715,
          0.016280222684144974,
          0.01614561304450035,
          0.014423873275518417
         ],
         "xaxis": "x3",
         "y": [
          0,
          0,
          1,
          1,
          1,
          1,
          1,
          1,
          1,
          1,
          1,
          1,
          1,
          1,
          1,
          1,
          1,
          1,
          1,
          1,
          1,
          1,
          1,
          0.9545454382896423,
          0.95652174949646,
          0.9166666865348816,
          0.9200000166893005,
          0.9230769276618958,
          0.8888888955116272,
          0.8928571343421936,
          0.8965517282485962,
          0.8999999761581421,
          0.9032257795333862,
          0.90625,
          0.9090909361839294,
          0.9117646813392639,
          0.9142857193946838,
          0.9166666865348816,
          0.9189189076423645,
          0.9210526347160339,
          0.9230769276618958,
          0.925000011920929,
          0.9268292784690857,
          0.9047619104385376,
          0.9069767594337463,
          0.9090909361839294,
          0.9111111164093018,
          0.9130434989929199,
          0.914893627166748,
          0.9166666865348816,
          0.918367326259613,
          0.9200000166893005,
          0.9215686321258545,
          0.9230769276618958,
          0.9245283007621765,
          0.9259259104728699,
          0.9272727370262146,
          0.9107142686843872,
          0.9122806787490845,
          0.9137930870056152,
          0.9152542352676392,
          0.9166666865348816,
          0.9180327653884888,
          0.9032257795333862,
          0.8888888955116272,
          0.890625,
          0.892307698726654,
          0.8939393758773804,
          0.89552241563797,
          0.8970588445663452,
          0.8985507488250732,
          0.8999999761581421,
          0.9014084339141846,
          0.9027777910232544,
          0.9041095972061157,
          0.9054054021835327,
          0.9066666960716248,
          0.9078947305679321,
          0.9090909361839294,
          0.9102563858032227,
          0.9113923907279968,
          0.9125000238418579,
          0.9135802388191223,
          0.9146341681480408,
          0.9156626462936401,
          0.9166666865348816,
          0.9176470637321472,
          0.9186046719551086,
          0.9080459475517273,
          0.8977272510528564,
          0.8876404762268066,
          0.8888888955116272,
          0.8901098966598511,
          0.8913043737411499,
          0.8817204236984253,
          0.8723404407501221,
          0.8736842274665833,
          0.875,
          0.8659793734550476,
          0.8673469424247742,
          0.868686854839325,
          0.8700000047683716,
          0.8613861203193665,
          0.8627451062202454,
          0.8640776872634888,
          0.8653846383094788,
          0.8666666746139526,
          0.8679245114326477,
          0.8598130941390991,
          0.8518518805503845,
          0.853210985660553,
          0.8454545736312866,
          0.8468468189239502,
          0.8392857313156128,
          0.8318583965301514,
          0.8245614171028137,
          0.8173912763595581,
          0.818965494632721,
          0.811965823173523,
          0.805084764957428,
          0.7983193397521973,
          0.7916666865348816,
          0.7851239442825317,
          0.7868852615356445,
          0.7886179089546204,
          0.7903226017951965,
          0.7839999794960022,
          0.7777777910232544,
          0.7716535329818726,
          0.7734375,
          0.7751938104629517,
          0.7692307829856873,
          0.7633587718009949,
          0.7575757503509521,
          0.7518796920776367,
          0.746268630027771,
          0.7481481432914734,
          0.7426470518112183,
          0.7372262477874756,
          0.7318840622901917,
          0.7338129281997681,
          0.7285714149475098,
          0.7234042286872864,
          0.7183098793029785,
          0.7132866978645325,
          0.7083333134651184,
          0.7034482955932617,
          0.698630154132843,
          0.6938775777816772,
          0.6891891956329346,
          0.6845637559890747,
          0.6800000071525574,
          0.6754966974258423,
          0.6710526347160339,
          0.6666666865348816,
          0.6623376607894897,
          0.6580645442008972,
          0.6538461446762085,
          0.6496815085411072,
          0.6455696225166321,
          0.6415094137191772,
          0.637499988079071,
          0.6335403919219971,
          0.6296296119689941,
          0.6257668733596802,
          0.6219512224197388,
          0.6181818246841431,
          0.6144578456878662,
          0.6107784509658813,
          0.6071428656578064,
          0.6035503149032593,
          0.6000000238418579,
          0.5964912176132202,
          0.5930232405662537,
          0.589595377445221,
          0.5862069129943848,
          0.5828571319580078,
          0.5795454382896423,
          0.5762711763381958,
          0.5730336904525757,
          0.5698323845863342,
          0.5666666626930237,
          0.5635359287261963,
          0.5604395866394043,
          0.5573770403862
         ],
         "yaxis": "y3"
        },
        {
         "hovertemplate": "Threshold: %{x:.3f}<br>Metric Value: %{y:.3f}<extra></extra>",
         "mode": "lines",
         "name": "NPV",
         "type": "scatter",
         "x": [
          1,
          0.9841768145561218,
          0.9835842251777649,
          0.9824233055114746,
          0.9821106791496277,
          0.981975257396698,
          0.9793980121612549,
          0.9751361608505249,
          0.9736014604568481,
          0.9714942574501038,
          0.963236927986145,
          0.9577423334121704,
          0.9550783038139343,
          0.9526215195655823,
          0.9512895345687866,
          0.9489914178848267,
          0.9486154913902283,
          0.9484829306602478,
          0.9461178183555603,
          0.9458472728729248,
          0.9455967545509338,
          0.9447488188743591,
          0.9429363012313843,
          0.941596269607544,
          0.9400173425674438,
          0.9388357996940613,
          0.9372116327285767,
          0.9371462464332581,
          0.9352840781211853,
          0.9350697994232178,
          0.9327023029327393,
          0.9320457577705383,
          0.9312780499458313,
          0.9289169907569885,
          0.9281343221664429,
          0.9266177415847778,
          0.9260913729667664,
          0.9259473085403442,
          0.9257737398147583,
          0.9254478812217712,
          0.923404335975647,
          0.9228553771972656,
          0.9227631688117981,
          0.9189176559448242,
          0.9187923073768616,
          0.9184648990631104,
          0.9155922532081604,
          0.9142704010009766,
          0.9123672842979431,
          0.9058189988136292,
          0.904884934425354,
          0.9014043807983398,
          0.900213897228241,
          0.8949064612388611,
          0.8800272345542908,
          0.8689007759094238,
          0.8598464131355286,
          0.8547279238700867,
          0.8499999046325684,
          0.8456660509109497,
          0.8269621729850769,
          0.8149520754814148,
          0.8100790977478027,
          0.8092963099479675,
          0.8087050318717957,
          0.8069738745689392,
          0.7936704158782959,
          0.7933361530303955,
          0.7927039265632629,
          0.7919947504997253,
          0.7784487009048462,
          0.7781028747558594,
          0.7704260349273682,
          0.7631957530975342,
          0.7594342827796936,
          0.756037712097168,
          0.7540255188941956,
          0.7473790645599365,
          0.7454511523246765,
          0.7451131939888,
          0.7435046434402466,
          0.7404389381408691,
          0.7396889328956604,
          0.7240360975265503,
          0.7237682342529297,
          0.714038610458374,
          0.6839268803596497,
          0.6827555894851685,
          0.6785424947738647,
          0.6732058525085449,
          0.6596888899803162,
          0.6411420106887817,
          0.638378381729126,
          0.5902057886123657,
          0.5718783140182495,
          0.5673843622207642,
          0.525303304195404,
          0.5193239450454712,
          0.5042865872383118,
          0.5033947229385376,
          0.49124637246131897,
          0.469625860452652,
          0.4584466218948364,
          0.4266155958175659,
          0.4106963574886322,
          0.4035077691078186,
          0.3750584125518799,
          0.36967000365257263,
          0.34856751561164856,
          0.33516767621040344,
          0.3244381844997406,
          0.30544745922088623,
          0.303854763507843,
          0.29768845438957214,
          0.29674801230430603,
          0.29609331488609314,
          0.2933594882488251,
          0.29324278235435486,
          0.271053671836853,
          0.2705269455909729,
          0.26913338899612427,
          0.26280394196510315,
          0.2577650547027588,
          0.25206029415130615,
          0.24574658274650574,
          0.24484170973300934,
          0.20211005210876465,
          0.19075939059257507,
          0.18877340853214264,
          0.18635977804660797,
          0.17864280939102173,
          0.16906698048114777,
          0.16553547978401184,
          0.15970958769321442,
          0.14977382123470306,
          0.14863234758377075,
          0.14666463434696198,
          0.141507089138031,
          0.11864016205072403,
          0.11332377791404724,
          0.11274245381355286,
          0.10979399085044861,
          0.10554865747690201,
          0.09547468274831772,
          0.09052063524723053,
          0.08959536254405975,
          0.08336047828197479,
          0.08296795934438705,
          0.08189547061920166,
          0.08147969096899033,
          0.07960796356201172,
          0.06955789029598236,
          0.06638294458389282,
          0.0639757439494133,
          0.061987437307834625,
          0.05983998253941536,
          0.05903443321585655,
          0.058225665241479874,
          0.05760233849287033,
          0.05668769031763077,
          0.05668608099222183,
          0.05642737075686455,
          0.05441800132393837,
          0.0543658472597599,
          0.051783692091703415,
          0.0504855215549469,
          0.04895208030939102,
          0.048159800469875336,
          0.047034166753292084,
          0.033861786127090454,
          0.030399339273571968,
          0.02347017452120781,
          0.023374976590275764,
          0.0226785559207201,
          0.02156836725771427,
          0.021051906049251556,
          0.019956830888986588,
          0.018193554133176804,
          0.01818162575364113,
          0.017967848107218742,
          0.01792564056813717,
          0.017860256135463715,
          0.016280222684144974,
          0.01614561304450035,
          0.014423873275518417
         ],
         "xaxis": "x4",
         "y": [
          0.44565218687057495,
          0.44565218687057495,
          0.4480874240398407,
          0.450549453496933,
          0.45303866267204285,
          0.4555555582046509,
          0.4581005573272705,
          0.4606741666793823,
          0.46327683329582214,
          0.46590909361839294,
          0.46857142448425293,
          0.4712643623352051,
          0.47398844361305237,
          0.4767441749572754,
          0.4795321524143219,
          0.48235294222831726,
          0.48520711064338684,
          0.488095223903656,
          0.4910179674625397,
          0.4939759075641632,
          0.49696969985961914,
          0.5,
          0.5030674934387207,
          0.5,
          0.5031055808067322,
          0.5,
          0.5031446814537048,
          0.5063291192054749,
          0.5031847357749939,
          0.5064102411270142,
          0.5096774101257324,
          0.5129870176315308,
          0.516339898109436,
          0.5197368264198303,
          0.5231788158416748,
          0.5266666412353516,
          0.5302013158798218,
          0.5337837934494019,
          0.5374149680137634,
          0.5410959124565125,
          0.5448275804519653,
          0.5486111044883728,
          0.5524475574493408,
          0.5492957830429077,
          0.5531914830207825,
          0.5571428537368774,
          0.5611510872840881,
          0.5652173757553101,
          0.569343090057373,
          0.5735294222831726,
          0.5777778029441833,
          0.5820895433425903,
          0.5864661931991577,
          0.5909090638160706,
          0.5954198241233826,
          0.6000000238418579,
          0.604651153087616,
          0.6015625,
          0.6062992215156555,
          0.6111111044883728,
          0.6159999966621399,
          0.6209677457809448,
          0.6260162591934204,
          0.6229507923126221,
          0.6198347210884094,
          0.625,
          0.6302521228790283,
          0.6355932354927063,
          0.6410256624221802,
          0.6465517282485962,
          0.6521739363670349,
          0.6578947305679321,
          0.6637167930603027,
          0.6696428656578064,
          0.6756756901741028,
          0.6818181872367859,
          0.6880733966827393,
          0.6944444179534912,
          0.7009345889091492,
          0.7075471878051758,
          0.7142857313156128,
          0.7211538553237915,
          0.7281553149223328,
          0.7352941036224365,
          0.7425742745399475,
          0.75,
          0.7575757503509521,
          0.7653061151504517,
          0.7628865838050842,
          0.7604166865348816,
          0.75789475440979,
          0.7659574747085571,
          0.774193525314331,
          0.782608687877655,
          0.7802197933197021,
          0.7777777910232544,
          0.7865168452262878,
          0.7954545617103577,
          0.7931034564971924,
          0.8023256063461304,
          0.8117647171020508,
          0.8214285969734192,
          0.8192771077156067,
          0.8292682766914368,
          0.8395061492919922,
          0.8500000238418579,
          0.8607594966888428,
          0.8717948794364929,
          0.8701298832893372,
          0.8684210777282715,
          0.8799999952316284,
          0.8783783912658691,
          0.8904109597206116,
          0.8888888955116272,
          0.8873239159584045,
          0.8857142925262451,
          0.8840579986572266,
          0.8970588445663452,
          0.89552241563797,
          0.8939393758773804,
          0.892307698726654,
          0.890625,
          0.8888888955116272,
          0.9032257795333862,
          0.9180327653884888,
          0.9333333373069763,
          0.9322034120559692,
          0.931034505367279,
          0.9298245906829834,
          0.9464285969734192,
          0.9636363387107849,
          0.9629629850387573,
          0.9622641801834106,
          0.9615384340286255,
          0.9607843160629272,
          0.9599999785423279,
          0.9795918464660645,
          0.9791666865348816,
          0.978723406791687,
          0.97826087474823,
          1,
          1,
          1,
          1,
          1,
          1,
          1,
          1,
          1,
          1,
          1,
          1,
          1,
          1,
          1,
          1,
          1,
          1,
          1,
          1,
          1,
          1,
          1,
          1,
          1,
          1,
          1,
          1,
          1,
          1,
          1,
          1,
          1,
          1,
          1,
          1,
          1,
          1,
          1,
          1,
          1,
          1,
          1,
          1,
          1
         ],
         "yaxis": "y4"
        },
        {
         "name": "Predicted Probabilities",
         "nbinsx": 80,
         "type": "histogram",
         "x": [
          0.3244381844997406,
          0.7396889328956604,
          0.756037712097168,
          0.9014043807983398,
          0.7404389381408691,
          0.5902057886123657,
          0.24574658274650574,
          0.9835842251777649,
          0.16906698048114777,
          0.017967848107218742,
          0.9257737398147583,
          0.06955789029598236,
          0.2933594882488251,
          0.981975257396698,
          0.9824233055114746,
          0.9184648990631104,
          0.05668769031763077,
          0.7540255188941956,
          0.06638294458389282,
          0.9189176559448242,
          0.8949064612388611,
          0.7784487009048462,
          0.24484170973300934,
          0.9400173425674438,
          0.15970958769321442,
          0.11332377791404724,
          0.9187923073768616,
          0.141507089138031,
          0.4106963574886322,
          0.048159800469875336,
          0.36967000365257263,
          0.26913338899612427,
          0.0543658472597599,
          0.018193554133176804,
          0.5033947229385376,
          0.023374976590275764,
          0.7451131939888,
          0.14863234758377075,
          0.04895208030939102,
          0.8689007759094238,
          0.923404335975647,
          0.7454511523246765,
          0.9259473085403442,
          0.16553547978401184,
          0.3750584125518799,
          0.047034166753292084,
          0.14666463434696198,
          0.29324278235435486,
          0.6827555894851685,
          0.09052063524723053,
          0.05642737075686455,
          0.29674801230430603,
          0.01818162575364113,
          0.14977382123470306,
          0.6596888899803162,
          0.9550783038139343,
          0.7704260349273682,
          0.10554865747690201,
          0.4584466218948364,
          0.638378381729126,
          0.7435046434402466,
          0.6785424947738647,
          0.4266155958175659,
          0.9254478812217712,
          0.303854763507843,
          0.963236927986145,
          0.02347017452120781,
          0.19075939059257507,
          0.051783692091703415,
          0.09547468274831772,
          0.469625860452652,
          0.9155922532081604,
          0.9447488188743591,
          0.9461178183555603,
          0.900213897228241,
          0.2705269455909729,
          0.0504855215549469,
          0.9312780499458313,
          0.5193239450454712,
          0.021051906049251556,
          0.9371462464332581,
          0.9289169907569885,
          0.7936704158782959,
          0.20211005210876465,
          0.7919947504997253,
          0.9512895345687866,
          0.8456660509109497,
          0.9526215195655823,
          0.9793980121612549,
          0.17864280939102173,
          0.34856751561164856,
          0.18877340853214264,
          0.6732058525085449,
          0.7933361530303955,
          0.49124637246131897,
          0.5673843622207642,
          0.8269621729850769,
          0.5042865872383118,
          0.08189547061920166,
          0.9281343221664429,
          0.9350697994232178,
          0.017860256135463715,
          0.030399339273571968,
          0.9320457577705383,
          0.08296795934438705,
          0.9455967545509338,
          0.9372116327285767,
          0.9327023029327393,
          0.05903443321585655,
          0.9227631688117981,
          0.7781028747558594,
          0.016280222684144974,
          0.714038610458374,
          0.9142704010009766,
          0.8547279238700867,
          0.05668608099222183,
          0.02156836725771427,
          0.8092963099479675,
          0.07960796356201172,
          0.10979399085044861,
          0.11864016205072403,
          0.11274245381355286,
          0.014423873275518417,
          0.29768845438957214,
          0.9458472728729248,
          0.01614561304450035,
          0.7927039265632629,
          0.26280394196510315,
          0.7631957530975342,
          0.8499999046325684,
          0.9751361608505249,
          0.9266177415847778,
          0.6411420106887817,
          0.9486154913902283,
          0.9123672842979431,
          0.01792564056813717,
          0.7594342827796936,
          0.9228553771972656,
          0.9484829306602478,
          0.29609331488609314,
          0.05983998253941536,
          0.18635977804660797,
          0.08147969096899033,
          0.33516767621040344,
          0.8598464131355286,
          0.9260913729667664,
          0.8149520754814148,
          0.9577423334121704,
          0.2577650547027588,
          0.058225665241479874,
          0.9841768145561218,
          0.08959536254405975,
          0.9429363012313843,
          0.904884934425354,
          0.9058189988136292,
          0.0639757439494133,
          0.9714942574501038,
          0.525303304195404,
          0.033861786127090454,
          0.08336047828197479,
          0.8800272345542908,
          0.5718783140182495,
          0.7237682342529297,
          0.30544745922088623,
          0.061987437307834625,
          0.8087050318717957,
          0.0226785559207201,
          0.9736014604568481,
          0.271053671836853,
          0.05760233849287033,
          0.9489914178848267,
          0.941596269607544,
          0.7473790645599365,
          0.05441800132393837,
          0.6839268803596497,
          0.7240360975265503,
          0.9821106791496277,
          0.8100790977478027,
          0.9388357996940613,
          0.4035077691078186,
          0.019956830888986588,
          0.9352840781211853,
          0.25206029415130615,
          0.8069738745689392
         ],
         "xaxis": "x5",
         "yaxis": "y5"
        }
       ],
       "layout": {
        "height": 1200,
        "legend": {
         "orientation": "h",
         "x": 0.5,
         "xanchor": "center",
         "y": -0.2,
         "yanchor": "bottom"
        },
        "template": {
         "data": {
          "bar": [
           {
            "error_x": {
             "color": "#2a3f5f"
            },
            "error_y": {
             "color": "#2a3f5f"
            },
            "marker": {
             "line": {
              "color": "white",
              "width": 0.5
             },
             "pattern": {
              "fillmode": "overlay",
              "size": 10,
              "solidity": 0.2
             }
            },
            "type": "bar"
           }
          ],
          "barpolar": [
           {
            "marker": {
             "line": {
              "color": "white",
              "width": 0.5
             },
             "pattern": {
              "fillmode": "overlay",
              "size": 10,
              "solidity": 0.2
             }
            },
            "type": "barpolar"
           }
          ],
          "carpet": [
           {
            "aaxis": {
             "endlinecolor": "#2a3f5f",
             "gridcolor": "#C8D4E3",
             "linecolor": "#C8D4E3",
             "minorgridcolor": "#C8D4E3",
             "startlinecolor": "#2a3f5f"
            },
            "baxis": {
             "endlinecolor": "#2a3f5f",
             "gridcolor": "#C8D4E3",
             "linecolor": "#C8D4E3",
             "minorgridcolor": "#C8D4E3",
             "startlinecolor": "#2a3f5f"
            },
            "type": "carpet"
           }
          ],
          "choropleth": [
           {
            "colorbar": {
             "outlinewidth": 0,
             "ticks": ""
            },
            "type": "choropleth"
           }
          ],
          "contour": [
           {
            "colorbar": {
             "outlinewidth": 0,
             "ticks": ""
            },
            "colorscale": [
             [
              0,
              "#0d0887"
             ],
             [
              0.1111111111111111,
              "#46039f"
             ],
             [
              0.2222222222222222,
              "#7201a8"
             ],
             [
              0.3333333333333333,
              "#9c179e"
             ],
             [
              0.4444444444444444,
              "#bd3786"
             ],
             [
              0.5555555555555556,
              "#d8576b"
             ],
             [
              0.6666666666666666,
              "#ed7953"
             ],
             [
              0.7777777777777778,
              "#fb9f3a"
             ],
             [
              0.8888888888888888,
              "#fdca26"
             ],
             [
              1,
              "#f0f921"
             ]
            ],
            "type": "contour"
           }
          ],
          "contourcarpet": [
           {
            "colorbar": {
             "outlinewidth": 0,
             "ticks": ""
            },
            "type": "contourcarpet"
           }
          ],
          "heatmap": [
           {
            "colorbar": {
             "outlinewidth": 0,
             "ticks": ""
            },
            "colorscale": [
             [
              0,
              "#0d0887"
             ],
             [
              0.1111111111111111,
              "#46039f"
             ],
             [
              0.2222222222222222,
              "#7201a8"
             ],
             [
              0.3333333333333333,
              "#9c179e"
             ],
             [
              0.4444444444444444,
              "#bd3786"
             ],
             [
              0.5555555555555556,
              "#d8576b"
             ],
             [
              0.6666666666666666,
              "#ed7953"
             ],
             [
              0.7777777777777778,
              "#fb9f3a"
             ],
             [
              0.8888888888888888,
              "#fdca26"
             ],
             [
              1,
              "#f0f921"
             ]
            ],
            "type": "heatmap"
           }
          ],
          "heatmapgl": [
           {
            "colorbar": {
             "outlinewidth": 0,
             "ticks": ""
            },
            "colorscale": [
             [
              0,
              "#0d0887"
             ],
             [
              0.1111111111111111,
              "#46039f"
             ],
             [
              0.2222222222222222,
              "#7201a8"
             ],
             [
              0.3333333333333333,
              "#9c179e"
             ],
             [
              0.4444444444444444,
              "#bd3786"
             ],
             [
              0.5555555555555556,
              "#d8576b"
             ],
             [
              0.6666666666666666,
              "#ed7953"
             ],
             [
              0.7777777777777778,
              "#fb9f3a"
             ],
             [
              0.8888888888888888,
              "#fdca26"
             ],
             [
              1,
              "#f0f921"
             ]
            ],
            "type": "heatmapgl"
           }
          ],
          "histogram": [
           {
            "marker": {
             "pattern": {
              "fillmode": "overlay",
              "size": 10,
              "solidity": 0.2
             }
            },
            "type": "histogram"
           }
          ],
          "histogram2d": [
           {
            "colorbar": {
             "outlinewidth": 0,
             "ticks": ""
            },
            "colorscale": [
             [
              0,
              "#0d0887"
             ],
             [
              0.1111111111111111,
              "#46039f"
             ],
             [
              0.2222222222222222,
              "#7201a8"
             ],
             [
              0.3333333333333333,
              "#9c179e"
             ],
             [
              0.4444444444444444,
              "#bd3786"
             ],
             [
              0.5555555555555556,
              "#d8576b"
             ],
             [
              0.6666666666666666,
              "#ed7953"
             ],
             [
              0.7777777777777778,
              "#fb9f3a"
             ],
             [
              0.8888888888888888,
              "#fdca26"
             ],
             [
              1,
              "#f0f921"
             ]
            ],
            "type": "histogram2d"
           }
          ],
          "histogram2dcontour": [
           {
            "colorbar": {
             "outlinewidth": 0,
             "ticks": ""
            },
            "colorscale": [
             [
              0,
              "#0d0887"
             ],
             [
              0.1111111111111111,
              "#46039f"
             ],
             [
              0.2222222222222222,
              "#7201a8"
             ],
             [
              0.3333333333333333,
              "#9c179e"
             ],
             [
              0.4444444444444444,
              "#bd3786"
             ],
             [
              0.5555555555555556,
              "#d8576b"
             ],
             [
              0.6666666666666666,
              "#ed7953"
             ],
             [
              0.7777777777777778,
              "#fb9f3a"
             ],
             [
              0.8888888888888888,
              "#fdca26"
             ],
             [
              1,
              "#f0f921"
             ]
            ],
            "type": "histogram2dcontour"
           }
          ],
          "mesh3d": [
           {
            "colorbar": {
             "outlinewidth": 0,
             "ticks": ""
            },
            "type": "mesh3d"
           }
          ],
          "parcoords": [
           {
            "line": {
             "colorbar": {
              "outlinewidth": 0,
              "ticks": ""
             }
            },
            "type": "parcoords"
           }
          ],
          "pie": [
           {
            "automargin": true,
            "type": "pie"
           }
          ],
          "scatter": [
           {
            "fillpattern": {
             "fillmode": "overlay",
             "size": 10,
             "solidity": 0.2
            },
            "type": "scatter"
           }
          ],
          "scatter3d": [
           {
            "line": {
             "colorbar": {
              "outlinewidth": 0,
              "ticks": ""
             }
            },
            "marker": {
             "colorbar": {
              "outlinewidth": 0,
              "ticks": ""
             }
            },
            "type": "scatter3d"
           }
          ],
          "scattercarpet": [
           {
            "marker": {
             "colorbar": {
              "outlinewidth": 0,
              "ticks": ""
             }
            },
            "type": "scattercarpet"
           }
          ],
          "scattergeo": [
           {
            "marker": {
             "colorbar": {
              "outlinewidth": 0,
              "ticks": ""
             }
            },
            "type": "scattergeo"
           }
          ],
          "scattergl": [
           {
            "marker": {
             "colorbar": {
              "outlinewidth": 0,
              "ticks": ""
             }
            },
            "type": "scattergl"
           }
          ],
          "scattermapbox": [
           {
            "marker": {
             "colorbar": {
              "outlinewidth": 0,
              "ticks": ""
             }
            },
            "type": "scattermapbox"
           }
          ],
          "scatterpolar": [
           {
            "marker": {
             "colorbar": {
              "outlinewidth": 0,
              "ticks": ""
             }
            },
            "type": "scatterpolar"
           }
          ],
          "scatterpolargl": [
           {
            "marker": {
             "colorbar": {
              "outlinewidth": 0,
              "ticks": ""
             }
            },
            "type": "scatterpolargl"
           }
          ],
          "scatterternary": [
           {
            "marker": {
             "colorbar": {
              "outlinewidth": 0,
              "ticks": ""
             }
            },
            "type": "scatterternary"
           }
          ],
          "surface": [
           {
            "colorbar": {
             "outlinewidth": 0,
             "ticks": ""
            },
            "colorscale": [
             [
              0,
              "#0d0887"
             ],
             [
              0.1111111111111111,
              "#46039f"
             ],
             [
              0.2222222222222222,
              "#7201a8"
             ],
             [
              0.3333333333333333,
              "#9c179e"
             ],
             [
              0.4444444444444444,
              "#bd3786"
             ],
             [
              0.5555555555555556,
              "#d8576b"
             ],
             [
              0.6666666666666666,
              "#ed7953"
             ],
             [
              0.7777777777777778,
              "#fb9f3a"
             ],
             [
              0.8888888888888888,
              "#fdca26"
             ],
             [
              1,
              "#f0f921"
             ]
            ],
            "type": "surface"
           }
          ],
          "table": [
           {
            "cells": {
             "fill": {
              "color": "#EBF0F8"
             },
             "line": {
              "color": "white"
             }
            },
            "header": {
             "fill": {
              "color": "#C8D4E3"
             },
             "line": {
              "color": "white"
             }
            },
            "type": "table"
           }
          ]
         },
         "layout": {
          "annotationdefaults": {
           "arrowcolor": "#2a3f5f",
           "arrowhead": 0,
           "arrowwidth": 1
          },
          "autotypenumbers": "strict",
          "coloraxis": {
           "colorbar": {
            "outlinewidth": 0,
            "ticks": ""
           }
          },
          "colorscale": {
           "diverging": [
            [
             0,
             "#8e0152"
            ],
            [
             0.1,
             "#c51b7d"
            ],
            [
             0.2,
             "#de77ae"
            ],
            [
             0.3,
             "#f1b6da"
            ],
            [
             0.4,
             "#fde0ef"
            ],
            [
             0.5,
             "#f7f7f7"
            ],
            [
             0.6,
             "#e6f5d0"
            ],
            [
             0.7,
             "#b8e186"
            ],
            [
             0.8,
             "#7fbc41"
            ],
            [
             0.9,
             "#4d9221"
            ],
            [
             1,
             "#276419"
            ]
           ],
           "sequential": [
            [
             0,
             "#0d0887"
            ],
            [
             0.1111111111111111,
             "#46039f"
            ],
            [
             0.2222222222222222,
             "#7201a8"
            ],
            [
             0.3333333333333333,
             "#9c179e"
            ],
            [
             0.4444444444444444,
             "#bd3786"
            ],
            [
             0.5555555555555556,
             "#d8576b"
            ],
            [
             0.6666666666666666,
             "#ed7953"
            ],
            [
             0.7777777777777778,
             "#fb9f3a"
            ],
            [
             0.8888888888888888,
             "#fdca26"
            ],
            [
             1,
             "#f0f921"
            ]
           ],
           "sequentialminus": [
            [
             0,
             "#0d0887"
            ],
            [
             0.1111111111111111,
             "#46039f"
            ],
            [
             0.2222222222222222,
             "#7201a8"
            ],
            [
             0.3333333333333333,
             "#9c179e"
            ],
            [
             0.4444444444444444,
             "#bd3786"
            ],
            [
             0.5555555555555556,
             "#d8576b"
            ],
            [
             0.6666666666666666,
             "#ed7953"
            ],
            [
             0.7777777777777778,
             "#fb9f3a"
            ],
            [
             0.8888888888888888,
             "#fdca26"
            ],
            [
             1,
             "#f0f921"
            ]
           ]
          },
          "colorway": [
           "#636efa",
           "#EF553B",
           "#00cc96",
           "#ab63fa",
           "#FFA15A",
           "#19d3f3",
           "#FF6692",
           "#B6E880",
           "#FF97FF",
           "#FECB52"
          ],
          "font": {
           "color": "#2a3f5f"
          },
          "geo": {
           "bgcolor": "white",
           "lakecolor": "white",
           "landcolor": "white",
           "showlakes": true,
           "showland": true,
           "subunitcolor": "#C8D4E3"
          },
          "hoverlabel": {
           "align": "left"
          },
          "hovermode": "closest",
          "mapbox": {
           "style": "light"
          },
          "paper_bgcolor": "white",
          "plot_bgcolor": "white",
          "polar": {
           "angularaxis": {
            "gridcolor": "#EBF0F8",
            "linecolor": "#EBF0F8",
            "ticks": ""
           },
           "bgcolor": "white",
           "radialaxis": {
            "gridcolor": "#EBF0F8",
            "linecolor": "#EBF0F8",
            "ticks": ""
           }
          },
          "scene": {
           "xaxis": {
            "backgroundcolor": "white",
            "gridcolor": "#DFE8F3",
            "gridwidth": 2,
            "linecolor": "#EBF0F8",
            "showbackground": true,
            "ticks": "",
            "zerolinecolor": "#EBF0F8"
           },
           "yaxis": {
            "backgroundcolor": "white",
            "gridcolor": "#DFE8F3",
            "gridwidth": 2,
            "linecolor": "#EBF0F8",
            "showbackground": true,
            "ticks": "",
            "zerolinecolor": "#EBF0F8"
           },
           "zaxis": {
            "backgroundcolor": "white",
            "gridcolor": "#DFE8F3",
            "gridwidth": 2,
            "linecolor": "#EBF0F8",
            "showbackground": true,
            "ticks": "",
            "zerolinecolor": "#EBF0F8"
           }
          },
          "shapedefaults": {
           "line": {
            "color": "#2a3f5f"
           }
          },
          "ternary": {
           "aaxis": {
            "gridcolor": "#DFE8F3",
            "linecolor": "#A2B1C6",
            "ticks": ""
           },
           "baxis": {
            "gridcolor": "#DFE8F3",
            "linecolor": "#A2B1C6",
            "ticks": ""
           },
           "bgcolor": "white",
           "caxis": {
            "gridcolor": "#DFE8F3",
            "linecolor": "#A2B1C6",
            "ticks": ""
           }
          },
          "title": {
           "x": 0.05
          },
          "xaxis": {
           "automargin": true,
           "gridcolor": "#EBF0F8",
           "linecolor": "#EBF0F8",
           "ticks": "",
           "title": {
            "standoff": 15
           },
           "zerolinecolor": "#EBF0F8",
           "zerolinewidth": 2
          },
          "yaxis": {
           "automargin": true,
           "gridcolor": "#EBF0F8",
           "linecolor": "#EBF0F8",
           "ticks": "",
           "title": {
            "standoff": 15
           },
           "zerolinecolor": "#EBF0F8",
           "zerolinewidth": 2
          }
         }
        },
        "title": {
         "text": "Diagnostic Performance Metrics by Thresholds"
        },
        "width": 1024,
        "xaxis": {
         "anchor": "y",
         "domain": [
          0,
          1
         ],
         "linecolor": "black",
         "linewidth": 1,
         "matches": "x5",
         "mirror": true,
         "showgrid": true,
         "showline": true,
         "showticklabels": false
        },
        "xaxis2": {
         "anchor": "y2",
         "domain": [
          0,
          1
         ],
         "linecolor": "black",
         "linewidth": 1,
         "matches": "x5",
         "mirror": true,
         "showgrid": true,
         "showline": true,
         "showticklabels": false
        },
        "xaxis3": {
         "anchor": "y3",
         "domain": [
          0,
          1
         ],
         "linecolor": "black",
         "linewidth": 1,
         "matches": "x5",
         "mirror": true,
         "showgrid": true,
         "showline": true,
         "showticklabels": false
        },
        "xaxis4": {
         "anchor": "y4",
         "domain": [
          0,
          1
         ],
         "linecolor": "black",
         "linewidth": 1,
         "matches": "x5",
         "mirror": true,
         "showgrid": true,
         "showline": true,
         "showticklabels": true
        },
        "xaxis5": {
         "anchor": "y5",
         "domain": [
          0,
          1
         ],
         "linecolor": "black",
         "linewidth": 1,
         "mirror": true,
         "showgrid": true,
         "showline": false,
         "showticklabels": false
        },
        "yaxis": {
         "anchor": "x",
         "domain": [
          0.816,
          1
         ],
         "linecolor": "black",
         "linewidth": 1,
         "mirror": true,
         "showgrid": true,
         "showline": true,
         "showticklabels": true
        },
        "yaxis2": {
         "anchor": "x2",
         "domain": [
          0.6120000000000001,
          0.796
         ],
         "linecolor": "black",
         "linewidth": 1,
         "mirror": true,
         "showgrid": true,
         "showline": true,
         "showticklabels": true
        },
        "yaxis3": {
         "anchor": "x3",
         "domain": [
          0.408,
          0.592
         ],
         "linecolor": "black",
         "linewidth": 1,
         "mirror": true,
         "showgrid": true,
         "showline": true,
         "showticklabels": true
        },
        "yaxis4": {
         "anchor": "x4",
         "domain": [
          0.204,
          0.388
         ],
         "linecolor": "black",
         "linewidth": 1,
         "mirror": true,
         "showgrid": true,
         "showline": true,
         "showticklabels": true
        },
        "yaxis5": {
         "anchor": "x5",
         "domain": [
          0,
          0.184
         ],
         "linecolor": "black",
         "linewidth": 1,
         "mirror": true,
         "showgrid": true,
         "showline": false,
         "showticklabels": true
        }
       }
      }
     },
     "metadata": {},
     "output_type": "display_data"
    }
   ],
   "source": [
    "# Plotting the metric values for all the slices.\n",
    "# ROC curve components\n",
    "pred_probs = np.array(dataset_with_preds[\"preds.sgd_classifier\"])\n",
    "true_labels = np.array(dataset_with_preds[\"outcome\"])\n",
    "roc_curve = binary_roc(true_labels, pred_probs)\n",
    "ppv = np.zeros_like(roc_curve.thresholds)\n",
    "npv = np.zeros_like(roc_curve.thresholds)\n",
    "\n",
    "# Calculate PPV and NPV for each threshold\n",
    "for i, threshold in enumerate(roc_curve.thresholds):\n",
    "    # Calculate PPV and NPV\n",
    "    ppv[i] = binary_ppv(true_labels, pred_probs, threshold=threshold)\n",
    "    npv[i] = binary_npv(true_labels, pred_probs, threshold=threshold)\n",
    "runway_plot = plotter.threshperf(roc_curve, ppv, npv, pred_probs)\n",
    "report.log_plotly_figure(\n",
    "    fig=runway_plot,\n",
    "    caption=\"Threshold-Performance plot\",\n",
    "    section_name=\"quantitative analysis\",\n",
    ")\n",
    "runway_plot.show()"
   ]
  },
  {
   "cell_type": "markdown",
   "metadata": {},
   "source": [
    "We can also plot the calibration curve of the model on the test set"
   ]
  },
  {
   "cell_type": "code",
   "execution_count": 49,
   "metadata": {
    "tags": []
   },
   "outputs": [
    {
     "data": {
      "application/vnd.plotly.v1+json": {
       "config": {
        "plotlyServerURL": "https://plot.ly"
       },
       "data": [
        {
         "mode": "markers+lines",
         "name": "F",
         "type": "scatter",
         "x": [
          0.026385331733359232,
          0.15529200658202172,
          0.2954656183719635,
          0.3244381844997406,
          0.4266155958175659,
          0.7404389381408691,
          0.811442494392395,
          0.9253310263156891
         ],
         "xaxis": "x",
         "y": [
          0,
          0.3,
          0,
          0,
          1,
          1,
          0.3333333333333333,
          1
         ],
         "yaxis": "y"
        },
        {
         "mode": "markers+lines",
         "name": "M",
         "type": "scatter",
         "x": [
          0.06520473041261236,
          0.1387590505182743,
          0.26352020477255184,
          0.3396276384592056,
          0.44670459628105164,
          0.540253860609872,
          0.6653771570750645,
          0.7586503185723957,
          0.849671584367752,
          0.9408482015132904
         ],
         "xaxis": "x",
         "y": [
          0,
          0.16666666666666666,
          0.3333333333333333,
          0.5,
          0.8,
          0.5714285714285714,
          0.5714285714285714,
          1,
          0.9,
          0.92
         ],
         "yaxis": "y"
        },
        {
         "line": {
          "dash": "dot"
         },
         "mode": "lines",
         "name": "Perfectly calibrated",
         "type": "scatter",
         "x": [
          0,
          1
         ],
         "xaxis": "x",
         "y": [
          0,
          1
         ],
         "yaxis": "y"
        },
        {
         "name": "Probabilities",
         "nbinsx": 100,
         "showlegend": false,
         "type": "histogram",
         "x": [
          0.3244381844997406,
          0.7396889328956604,
          0.756037712097168,
          0.9014043807983398,
          0.7404389381408691,
          0.5902057886123657,
          0.24574658274650574,
          0.9835842251777649,
          0.16906698048114777,
          0.017967848107218742,
          0.9257737398147583,
          0.06955789029598236,
          0.2933594882488251,
          0.981975257396698,
          0.9824233055114746,
          0.9184648990631104,
          0.05668769031763077,
          0.7540255188941956,
          0.06638294458389282,
          0.9189176559448242,
          0.8949064612388611,
          0.7784487009048462,
          0.24484170973300934,
          0.9400173425674438,
          0.15970958769321442,
          0.11332377791404724,
          0.9187923073768616,
          0.141507089138031,
          0.4106963574886322,
          0.048159800469875336,
          0.36967000365257263,
          0.26913338899612427,
          0.0543658472597599,
          0.018193554133176804,
          0.5033947229385376,
          0.023374976590275764,
          0.7451131939888,
          0.14863234758377075,
          0.04895208030939102,
          0.8689007759094238,
          0.923404335975647,
          0.7454511523246765,
          0.9259473085403442,
          0.16553547978401184,
          0.3750584125518799,
          0.047034166753292084,
          0.14666463434696198,
          0.29324278235435486,
          0.6827555894851685,
          0.09052063524723053,
          0.05642737075686455,
          0.29674801230430603,
          0.01818162575364113,
          0.14977382123470306,
          0.6596888899803162,
          0.9550783038139343,
          0.7704260349273682,
          0.10554865747690201,
          0.4584466218948364,
          0.638378381729126,
          0.7435046434402466,
          0.6785424947738647,
          0.4266155958175659,
          0.9254478812217712,
          0.303854763507843,
          0.963236927986145,
          0.02347017452120781,
          0.19075939059257507,
          0.051783692091703415,
          0.09547468274831772,
          0.469625860452652,
          0.9155922532081604,
          0.9447488188743591,
          0.9461178183555603,
          0.900213897228241,
          0.2705269455909729,
          0.0504855215549469,
          0.9312780499458313,
          0.5193239450454712,
          0.021051906049251556,
          0.9371462464332581,
          0.9289169907569885,
          0.7936704158782959,
          0.20211005210876465,
          0.7919947504997253,
          0.9512895345687866,
          0.8456660509109497,
          0.9526215195655823,
          0.9793980121612549,
          0.17864280939102173,
          0.34856751561164856,
          0.18877340853214264,
          0.6732058525085449,
          0.7933361530303955,
          0.49124637246131897,
          0.5673843622207642,
          0.8269621729850769,
          0.5042865872383118,
          0.08189547061920166,
          0.9281343221664429,
          0.9350697994232178,
          0.017860256135463715,
          0.030399339273571968,
          0.9320457577705383,
          0.08296795934438705,
          0.9455967545509338,
          0.9372116327285767,
          0.9327023029327393,
          0.05903443321585655,
          0.9227631688117981,
          0.7781028747558594,
          0.016280222684144974,
          0.714038610458374,
          0.9142704010009766,
          0.8547279238700867,
          0.05668608099222183,
          0.02156836725771427,
          0.8092963099479675,
          0.07960796356201172,
          0.10979399085044861,
          0.11864016205072403,
          0.11274245381355286,
          0.014423873275518417,
          0.29768845438957214,
          0.9458472728729248,
          0.01614561304450035,
          0.7927039265632629,
          0.26280394196510315,
          0.7631957530975342,
          0.8499999046325684,
          0.9751361608505249,
          0.9266177415847778,
          0.6411420106887817,
          0.9486154913902283,
          0.9123672842979431,
          0.01792564056813717,
          0.7594342827796936,
          0.9228553771972656,
          0.9484829306602478,
          0.29609331488609314,
          0.05983998253941536,
          0.18635977804660797,
          0.08147969096899033,
          0.33516767621040344,
          0.8598464131355286,
          0.9260913729667664,
          0.8149520754814148,
          0.9577423334121704,
          0.2577650547027588,
          0.058225665241479874,
          0.9841768145561218,
          0.08959536254405975,
          0.9429363012313843,
          0.904884934425354,
          0.9058189988136292,
          0.0639757439494133,
          0.9714942574501038,
          0.525303304195404,
          0.033861786127090454,
          0.08336047828197479,
          0.8800272345542908,
          0.5718783140182495,
          0.7237682342529297,
          0.30544745922088623,
          0.061987437307834625,
          0.8087050318717957,
          0.0226785559207201,
          0.9736014604568481,
          0.271053671836853,
          0.05760233849287033,
          0.9489914178848267,
          0.941596269607544,
          0.7473790645599365,
          0.05441800132393837,
          0.6839268803596497,
          0.7240360975265503,
          0.9821106791496277,
          0.8100790977478027,
          0.9388357996940613,
          0.4035077691078186,
          0.019956830888986588,
          0.9352840781211853,
          0.25206029415130615,
          0.8069738745689392
         ],
         "xaxis": "x2",
         "yaxis": "y2"
        }
       ],
       "layout": {
        "height": 800,
        "legend": {
         "title": {
          "text": "Sex"
         }
        },
        "template": {
         "data": {
          "bar": [
           {
            "error_x": {
             "color": "#2a3f5f"
            },
            "error_y": {
             "color": "#2a3f5f"
            },
            "marker": {
             "line": {
              "color": "white",
              "width": 0.5
             },
             "pattern": {
              "fillmode": "overlay",
              "size": 10,
              "solidity": 0.2
             }
            },
            "type": "bar"
           }
          ],
          "barpolar": [
           {
            "marker": {
             "line": {
              "color": "white",
              "width": 0.5
             },
             "pattern": {
              "fillmode": "overlay",
              "size": 10,
              "solidity": 0.2
             }
            },
            "type": "barpolar"
           }
          ],
          "carpet": [
           {
            "aaxis": {
             "endlinecolor": "#2a3f5f",
             "gridcolor": "#C8D4E3",
             "linecolor": "#C8D4E3",
             "minorgridcolor": "#C8D4E3",
             "startlinecolor": "#2a3f5f"
            },
            "baxis": {
             "endlinecolor": "#2a3f5f",
             "gridcolor": "#C8D4E3",
             "linecolor": "#C8D4E3",
             "minorgridcolor": "#C8D4E3",
             "startlinecolor": "#2a3f5f"
            },
            "type": "carpet"
           }
          ],
          "choropleth": [
           {
            "colorbar": {
             "outlinewidth": 0,
             "ticks": ""
            },
            "type": "choropleth"
           }
          ],
          "contour": [
           {
            "colorbar": {
             "outlinewidth": 0,
             "ticks": ""
            },
            "colorscale": [
             [
              0,
              "#0d0887"
             ],
             [
              0.1111111111111111,
              "#46039f"
             ],
             [
              0.2222222222222222,
              "#7201a8"
             ],
             [
              0.3333333333333333,
              "#9c179e"
             ],
             [
              0.4444444444444444,
              "#bd3786"
             ],
             [
              0.5555555555555556,
              "#d8576b"
             ],
             [
              0.6666666666666666,
              "#ed7953"
             ],
             [
              0.7777777777777778,
              "#fb9f3a"
             ],
             [
              0.8888888888888888,
              "#fdca26"
             ],
             [
              1,
              "#f0f921"
             ]
            ],
            "type": "contour"
           }
          ],
          "contourcarpet": [
           {
            "colorbar": {
             "outlinewidth": 0,
             "ticks": ""
            },
            "type": "contourcarpet"
           }
          ],
          "heatmap": [
           {
            "colorbar": {
             "outlinewidth": 0,
             "ticks": ""
            },
            "colorscale": [
             [
              0,
              "#0d0887"
             ],
             [
              0.1111111111111111,
              "#46039f"
             ],
             [
              0.2222222222222222,
              "#7201a8"
             ],
             [
              0.3333333333333333,
              "#9c179e"
             ],
             [
              0.4444444444444444,
              "#bd3786"
             ],
             [
              0.5555555555555556,
              "#d8576b"
             ],
             [
              0.6666666666666666,
              "#ed7953"
             ],
             [
              0.7777777777777778,
              "#fb9f3a"
             ],
             [
              0.8888888888888888,
              "#fdca26"
             ],
             [
              1,
              "#f0f921"
             ]
            ],
            "type": "heatmap"
           }
          ],
          "heatmapgl": [
           {
            "colorbar": {
             "outlinewidth": 0,
             "ticks": ""
            },
            "colorscale": [
             [
              0,
              "#0d0887"
             ],
             [
              0.1111111111111111,
              "#46039f"
             ],
             [
              0.2222222222222222,
              "#7201a8"
             ],
             [
              0.3333333333333333,
              "#9c179e"
             ],
             [
              0.4444444444444444,
              "#bd3786"
             ],
             [
              0.5555555555555556,
              "#d8576b"
             ],
             [
              0.6666666666666666,
              "#ed7953"
             ],
             [
              0.7777777777777778,
              "#fb9f3a"
             ],
             [
              0.8888888888888888,
              "#fdca26"
             ],
             [
              1,
              "#f0f921"
             ]
            ],
            "type": "heatmapgl"
           }
          ],
          "histogram": [
           {
            "marker": {
             "pattern": {
              "fillmode": "overlay",
              "size": 10,
              "solidity": 0.2
             }
            },
            "type": "histogram"
           }
          ],
          "histogram2d": [
           {
            "colorbar": {
             "outlinewidth": 0,
             "ticks": ""
            },
            "colorscale": [
             [
              0,
              "#0d0887"
             ],
             [
              0.1111111111111111,
              "#46039f"
             ],
             [
              0.2222222222222222,
              "#7201a8"
             ],
             [
              0.3333333333333333,
              "#9c179e"
             ],
             [
              0.4444444444444444,
              "#bd3786"
             ],
             [
              0.5555555555555556,
              "#d8576b"
             ],
             [
              0.6666666666666666,
              "#ed7953"
             ],
             [
              0.7777777777777778,
              "#fb9f3a"
             ],
             [
              0.8888888888888888,
              "#fdca26"
             ],
             [
              1,
              "#f0f921"
             ]
            ],
            "type": "histogram2d"
           }
          ],
          "histogram2dcontour": [
           {
            "colorbar": {
             "outlinewidth": 0,
             "ticks": ""
            },
            "colorscale": [
             [
              0,
              "#0d0887"
             ],
             [
              0.1111111111111111,
              "#46039f"
             ],
             [
              0.2222222222222222,
              "#7201a8"
             ],
             [
              0.3333333333333333,
              "#9c179e"
             ],
             [
              0.4444444444444444,
              "#bd3786"
             ],
             [
              0.5555555555555556,
              "#d8576b"
             ],
             [
              0.6666666666666666,
              "#ed7953"
             ],
             [
              0.7777777777777778,
              "#fb9f3a"
             ],
             [
              0.8888888888888888,
              "#fdca26"
             ],
             [
              1,
              "#f0f921"
             ]
            ],
            "type": "histogram2dcontour"
           }
          ],
          "mesh3d": [
           {
            "colorbar": {
             "outlinewidth": 0,
             "ticks": ""
            },
            "type": "mesh3d"
           }
          ],
          "parcoords": [
           {
            "line": {
             "colorbar": {
              "outlinewidth": 0,
              "ticks": ""
             }
            },
            "type": "parcoords"
           }
          ],
          "pie": [
           {
            "automargin": true,
            "type": "pie"
           }
          ],
          "scatter": [
           {
            "fillpattern": {
             "fillmode": "overlay",
             "size": 10,
             "solidity": 0.2
            },
            "type": "scatter"
           }
          ],
          "scatter3d": [
           {
            "line": {
             "colorbar": {
              "outlinewidth": 0,
              "ticks": ""
             }
            },
            "marker": {
             "colorbar": {
              "outlinewidth": 0,
              "ticks": ""
             }
            },
            "type": "scatter3d"
           }
          ],
          "scattercarpet": [
           {
            "marker": {
             "colorbar": {
              "outlinewidth": 0,
              "ticks": ""
             }
            },
            "type": "scattercarpet"
           }
          ],
          "scattergeo": [
           {
            "marker": {
             "colorbar": {
              "outlinewidth": 0,
              "ticks": ""
             }
            },
            "type": "scattergeo"
           }
          ],
          "scattergl": [
           {
            "marker": {
             "colorbar": {
              "outlinewidth": 0,
              "ticks": ""
             }
            },
            "type": "scattergl"
           }
          ],
          "scattermapbox": [
           {
            "marker": {
             "colorbar": {
              "outlinewidth": 0,
              "ticks": ""
             }
            },
            "type": "scattermapbox"
           }
          ],
          "scatterpolar": [
           {
            "marker": {
             "colorbar": {
              "outlinewidth": 0,
              "ticks": ""
             }
            },
            "type": "scatterpolar"
           }
          ],
          "scatterpolargl": [
           {
            "marker": {
             "colorbar": {
              "outlinewidth": 0,
              "ticks": ""
             }
            },
            "type": "scatterpolargl"
           }
          ],
          "scatterternary": [
           {
            "marker": {
             "colorbar": {
              "outlinewidth": 0,
              "ticks": ""
             }
            },
            "type": "scatterternary"
           }
          ],
          "surface": [
           {
            "colorbar": {
             "outlinewidth": 0,
             "ticks": ""
            },
            "colorscale": [
             [
              0,
              "#0d0887"
             ],
             [
              0.1111111111111111,
              "#46039f"
             ],
             [
              0.2222222222222222,
              "#7201a8"
             ],
             [
              0.3333333333333333,
              "#9c179e"
             ],
             [
              0.4444444444444444,
              "#bd3786"
             ],
             [
              0.5555555555555556,
              "#d8576b"
             ],
             [
              0.6666666666666666,
              "#ed7953"
             ],
             [
              0.7777777777777778,
              "#fb9f3a"
             ],
             [
              0.8888888888888888,
              "#fdca26"
             ],
             [
              1,
              "#f0f921"
             ]
            ],
            "type": "surface"
           }
          ],
          "table": [
           {
            "cells": {
             "fill": {
              "color": "#EBF0F8"
             },
             "line": {
              "color": "white"
             }
            },
            "header": {
             "fill": {
              "color": "#C8D4E3"
             },
             "line": {
              "color": "white"
             }
            },
            "type": "table"
           }
          ]
         },
         "layout": {
          "annotationdefaults": {
           "arrowcolor": "#2a3f5f",
           "arrowhead": 0,
           "arrowwidth": 1
          },
          "autotypenumbers": "strict",
          "coloraxis": {
           "colorbar": {
            "outlinewidth": 0,
            "ticks": ""
           }
          },
          "colorscale": {
           "diverging": [
            [
             0,
             "#8e0152"
            ],
            [
             0.1,
             "#c51b7d"
            ],
            [
             0.2,
             "#de77ae"
            ],
            [
             0.3,
             "#f1b6da"
            ],
            [
             0.4,
             "#fde0ef"
            ],
            [
             0.5,
             "#f7f7f7"
            ],
            [
             0.6,
             "#e6f5d0"
            ],
            [
             0.7,
             "#b8e186"
            ],
            [
             0.8,
             "#7fbc41"
            ],
            [
             0.9,
             "#4d9221"
            ],
            [
             1,
             "#276419"
            ]
           ],
           "sequential": [
            [
             0,
             "#0d0887"
            ],
            [
             0.1111111111111111,
             "#46039f"
            ],
            [
             0.2222222222222222,
             "#7201a8"
            ],
            [
             0.3333333333333333,
             "#9c179e"
            ],
            [
             0.4444444444444444,
             "#bd3786"
            ],
            [
             0.5555555555555556,
             "#d8576b"
            ],
            [
             0.6666666666666666,
             "#ed7953"
            ],
            [
             0.7777777777777778,
             "#fb9f3a"
            ],
            [
             0.8888888888888888,
             "#fdca26"
            ],
            [
             1,
             "#f0f921"
            ]
           ],
           "sequentialminus": [
            [
             0,
             "#0d0887"
            ],
            [
             0.1111111111111111,
             "#46039f"
            ],
            [
             0.2222222222222222,
             "#7201a8"
            ],
            [
             0.3333333333333333,
             "#9c179e"
            ],
            [
             0.4444444444444444,
             "#bd3786"
            ],
            [
             0.5555555555555556,
             "#d8576b"
            ],
            [
             0.6666666666666666,
             "#ed7953"
            ],
            [
             0.7777777777777778,
             "#fb9f3a"
            ],
            [
             0.8888888888888888,
             "#fdca26"
            ],
            [
             1,
             "#f0f921"
            ]
           ]
          },
          "colorway": [
           "#636efa",
           "#EF553B",
           "#00cc96",
           "#ab63fa",
           "#FFA15A",
           "#19d3f3",
           "#FF6692",
           "#B6E880",
           "#FF97FF",
           "#FECB52"
          ],
          "font": {
           "color": "#2a3f5f"
          },
          "geo": {
           "bgcolor": "white",
           "lakecolor": "white",
           "landcolor": "white",
           "showlakes": true,
           "showland": true,
           "subunitcolor": "#C8D4E3"
          },
          "hoverlabel": {
           "align": "left"
          },
          "hovermode": "closest",
          "mapbox": {
           "style": "light"
          },
          "paper_bgcolor": "white",
          "plot_bgcolor": "white",
          "polar": {
           "angularaxis": {
            "gridcolor": "#EBF0F8",
            "linecolor": "#EBF0F8",
            "ticks": ""
           },
           "bgcolor": "white",
           "radialaxis": {
            "gridcolor": "#EBF0F8",
            "linecolor": "#EBF0F8",
            "ticks": ""
           }
          },
          "scene": {
           "xaxis": {
            "backgroundcolor": "white",
            "gridcolor": "#DFE8F3",
            "gridwidth": 2,
            "linecolor": "#EBF0F8",
            "showbackground": true,
            "ticks": "",
            "zerolinecolor": "#EBF0F8"
           },
           "yaxis": {
            "backgroundcolor": "white",
            "gridcolor": "#DFE8F3",
            "gridwidth": 2,
            "linecolor": "#EBF0F8",
            "showbackground": true,
            "ticks": "",
            "zerolinecolor": "#EBF0F8"
           },
           "zaxis": {
            "backgroundcolor": "white",
            "gridcolor": "#DFE8F3",
            "gridwidth": 2,
            "linecolor": "#EBF0F8",
            "showbackground": true,
            "ticks": "",
            "zerolinecolor": "#EBF0F8"
           }
          },
          "shapedefaults": {
           "line": {
            "color": "#2a3f5f"
           }
          },
          "ternary": {
           "aaxis": {
            "gridcolor": "#DFE8F3",
            "linecolor": "#A2B1C6",
            "ticks": ""
           },
           "baxis": {
            "gridcolor": "#DFE8F3",
            "linecolor": "#A2B1C6",
            "ticks": ""
           },
           "bgcolor": "white",
           "caxis": {
            "gridcolor": "#DFE8F3",
            "linecolor": "#A2B1C6",
            "ticks": ""
           }
          },
          "title": {
           "x": 0.05
          },
          "xaxis": {
           "automargin": true,
           "gridcolor": "#EBF0F8",
           "linecolor": "#EBF0F8",
           "ticks": "",
           "title": {
            "standoff": 15
           },
           "zerolinecolor": "#EBF0F8",
           "zerolinewidth": 2
          },
          "yaxis": {
           "automargin": true,
           "gridcolor": "#EBF0F8",
           "linecolor": "#EBF0F8",
           "ticks": "",
           "title": {
            "standoff": 15
           },
           "zerolinecolor": "#EBF0F8",
           "zerolinewidth": 2
          }
         }
        },
        "title": {
         "text": "Calibration Plot"
        },
        "xaxis": {
         "anchor": "y",
         "domain": [
          0,
          1
         ],
         "matches": "x2",
         "showticklabels": false
        },
        "xaxis2": {
         "anchor": "y2",
         "domain": [
          0,
          1
         ],
         "title": {
          "text": "Mean Predicted Probability"
         }
        },
        "yaxis": {
         "anchor": "x",
         "domain": [
          0.216,
          1
         ],
         "title": {
          "text": "Fraction of Positives"
         }
        },
        "yaxis2": {
         "anchor": "x2",
         "domain": [
          0,
          0.196
         ],
         "title": {
          "text": "Count"
         }
        }
       }
      }
     },
     "metadata": {},
     "output_type": "display_data"
    }
   ],
   "source": [
    "calibration_plot = plotter.calibration(\n",
    "    prediction_df, y_true_col=\"y_true\", y_prob_col=\"y_prob\", group_col=\"Sex\"\n",
    ")\n",
    "report.log_plotly_figure(\n",
    "    fig=calibration_plot,\n",
    "    caption=\"Calibration plot\",\n",
    "    section_name=\"quantitative analysis\",\n",
    ")\n",
    "calibration_plot.show()"
   ]
  },
  {
   "cell_type": "code",
   "execution_count": 50,
   "metadata": {},
   "outputs": [],
   "source": [
    "# Reformatting the fairness metrics\n",
    "fairness_results = copy.deepcopy(results[\"fairness\"])\n",
    "fairness_metrics = {}\n",
    "# remove the sample_size from the fairness results and add it to the slice name\n",
    "for slice_name, slice_results in fairness_results.items():\n",
    "    group_size = slice_results.pop(\"Group Size\")\n",
    "    fairness_metrics[f\"{slice_name} (Size={group_size})\"] = slice_results"
   ]
  },
  {
   "cell_type": "code",
   "execution_count": 51,
   "metadata": {},
   "outputs": [
    {
     "data": {
      "application/vnd.plotly.v1+json": {
       "config": {
        "plotlyServerURL": "https://plot.ly"
       },
       "data": [
        {
         "marker": {
          "size": 12
         },
         "mode": "markers",
         "name": "Age:(-inf - 40.0] (Size=25)",
         "type": "scatter",
         "x": [
          "Sensitivity@0.5",
          "Specificity@0.5",
          "BER@0.5",
          "Sensitivity Parity@0.5",
          "Specificity Parity@0.5",
          "BER Parity@0.5"
         ],
         "y": [
          0.699999988079071,
          1,
          0.15000000596046448,
          1,
          1,
          1
         ]
        },
        {
         "marker": {
          "size": 12
         },
         "mode": "markers",
         "name": "Age:(40.0 - 50.0] (Size=43)",
         "type": "scatter",
         "x": [
          "Sensitivity@0.5",
          "Specificity@0.5",
          "BER@0.5",
          "Sensitivity Parity@0.5",
          "Specificity Parity@0.5",
          "BER Parity@0.5"
         ],
         "y": [
          0.699999988079071,
          0.8260869383811951,
          0.23695653676986694,
          1,
          0.8260869383811951,
          1.5797101823604034
         ]
        },
        {
         "marker": {
          "size": 12
         },
         "mode": "markers",
         "name": "Age:(50.0 - inf] (Size=116)",
         "type": "scatter",
         "x": [
          "Sensitivity@0.5",
          "Specificity@0.5",
          "BER@0.5",
          "Sensitivity Parity@0.5",
          "Specificity Parity@0.5",
          "BER Parity@0.5"
         ],
         "y": [
          0.9027777910232544,
          0.7954545617103577,
          0.15088382363319397,
          1.2896826267242432,
          0.7954545617103577,
          1.005892117584065
         ]
        }
       ],
       "layout": {
        "template": {
         "data": {
          "bar": [
           {
            "error_x": {
             "color": "#2a3f5f"
            },
            "error_y": {
             "color": "#2a3f5f"
            },
            "marker": {
             "line": {
              "color": "white",
              "width": 0.5
             },
             "pattern": {
              "fillmode": "overlay",
              "size": 10,
              "solidity": 0.2
             }
            },
            "type": "bar"
           }
          ],
          "barpolar": [
           {
            "marker": {
             "line": {
              "color": "white",
              "width": 0.5
             },
             "pattern": {
              "fillmode": "overlay",
              "size": 10,
              "solidity": 0.2
             }
            },
            "type": "barpolar"
           }
          ],
          "carpet": [
           {
            "aaxis": {
             "endlinecolor": "#2a3f5f",
             "gridcolor": "#C8D4E3",
             "linecolor": "#C8D4E3",
             "minorgridcolor": "#C8D4E3",
             "startlinecolor": "#2a3f5f"
            },
            "baxis": {
             "endlinecolor": "#2a3f5f",
             "gridcolor": "#C8D4E3",
             "linecolor": "#C8D4E3",
             "minorgridcolor": "#C8D4E3",
             "startlinecolor": "#2a3f5f"
            },
            "type": "carpet"
           }
          ],
          "choropleth": [
           {
            "colorbar": {
             "outlinewidth": 0,
             "ticks": ""
            },
            "type": "choropleth"
           }
          ],
          "contour": [
           {
            "colorbar": {
             "outlinewidth": 0,
             "ticks": ""
            },
            "colorscale": [
             [
              0,
              "#0d0887"
             ],
             [
              0.1111111111111111,
              "#46039f"
             ],
             [
              0.2222222222222222,
              "#7201a8"
             ],
             [
              0.3333333333333333,
              "#9c179e"
             ],
             [
              0.4444444444444444,
              "#bd3786"
             ],
             [
              0.5555555555555556,
              "#d8576b"
             ],
             [
              0.6666666666666666,
              "#ed7953"
             ],
             [
              0.7777777777777778,
              "#fb9f3a"
             ],
             [
              0.8888888888888888,
              "#fdca26"
             ],
             [
              1,
              "#f0f921"
             ]
            ],
            "type": "contour"
           }
          ],
          "contourcarpet": [
           {
            "colorbar": {
             "outlinewidth": 0,
             "ticks": ""
            },
            "type": "contourcarpet"
           }
          ],
          "heatmap": [
           {
            "colorbar": {
             "outlinewidth": 0,
             "ticks": ""
            },
            "colorscale": [
             [
              0,
              "#0d0887"
             ],
             [
              0.1111111111111111,
              "#46039f"
             ],
             [
              0.2222222222222222,
              "#7201a8"
             ],
             [
              0.3333333333333333,
              "#9c179e"
             ],
             [
              0.4444444444444444,
              "#bd3786"
             ],
             [
              0.5555555555555556,
              "#d8576b"
             ],
             [
              0.6666666666666666,
              "#ed7953"
             ],
             [
              0.7777777777777778,
              "#fb9f3a"
             ],
             [
              0.8888888888888888,
              "#fdca26"
             ],
             [
              1,
              "#f0f921"
             ]
            ],
            "type": "heatmap"
           }
          ],
          "heatmapgl": [
           {
            "colorbar": {
             "outlinewidth": 0,
             "ticks": ""
            },
            "colorscale": [
             [
              0,
              "#0d0887"
             ],
             [
              0.1111111111111111,
              "#46039f"
             ],
             [
              0.2222222222222222,
              "#7201a8"
             ],
             [
              0.3333333333333333,
              "#9c179e"
             ],
             [
              0.4444444444444444,
              "#bd3786"
             ],
             [
              0.5555555555555556,
              "#d8576b"
             ],
             [
              0.6666666666666666,
              "#ed7953"
             ],
             [
              0.7777777777777778,
              "#fb9f3a"
             ],
             [
              0.8888888888888888,
              "#fdca26"
             ],
             [
              1,
              "#f0f921"
             ]
            ],
            "type": "heatmapgl"
           }
          ],
          "histogram": [
           {
            "marker": {
             "pattern": {
              "fillmode": "overlay",
              "size": 10,
              "solidity": 0.2
             }
            },
            "type": "histogram"
           }
          ],
          "histogram2d": [
           {
            "colorbar": {
             "outlinewidth": 0,
             "ticks": ""
            },
            "colorscale": [
             [
              0,
              "#0d0887"
             ],
             [
              0.1111111111111111,
              "#46039f"
             ],
             [
              0.2222222222222222,
              "#7201a8"
             ],
             [
              0.3333333333333333,
              "#9c179e"
             ],
             [
              0.4444444444444444,
              "#bd3786"
             ],
             [
              0.5555555555555556,
              "#d8576b"
             ],
             [
              0.6666666666666666,
              "#ed7953"
             ],
             [
              0.7777777777777778,
              "#fb9f3a"
             ],
             [
              0.8888888888888888,
              "#fdca26"
             ],
             [
              1,
              "#f0f921"
             ]
            ],
            "type": "histogram2d"
           }
          ],
          "histogram2dcontour": [
           {
            "colorbar": {
             "outlinewidth": 0,
             "ticks": ""
            },
            "colorscale": [
             [
              0,
              "#0d0887"
             ],
             [
              0.1111111111111111,
              "#46039f"
             ],
             [
              0.2222222222222222,
              "#7201a8"
             ],
             [
              0.3333333333333333,
              "#9c179e"
             ],
             [
              0.4444444444444444,
              "#bd3786"
             ],
             [
              0.5555555555555556,
              "#d8576b"
             ],
             [
              0.6666666666666666,
              "#ed7953"
             ],
             [
              0.7777777777777778,
              "#fb9f3a"
             ],
             [
              0.8888888888888888,
              "#fdca26"
             ],
             [
              1,
              "#f0f921"
             ]
            ],
            "type": "histogram2dcontour"
           }
          ],
          "mesh3d": [
           {
            "colorbar": {
             "outlinewidth": 0,
             "ticks": ""
            },
            "type": "mesh3d"
           }
          ],
          "parcoords": [
           {
            "line": {
             "colorbar": {
              "outlinewidth": 0,
              "ticks": ""
             }
            },
            "type": "parcoords"
           }
          ],
          "pie": [
           {
            "automargin": true,
            "type": "pie"
           }
          ],
          "scatter": [
           {
            "fillpattern": {
             "fillmode": "overlay",
             "size": 10,
             "solidity": 0.2
            },
            "type": "scatter"
           }
          ],
          "scatter3d": [
           {
            "line": {
             "colorbar": {
              "outlinewidth": 0,
              "ticks": ""
             }
            },
            "marker": {
             "colorbar": {
              "outlinewidth": 0,
              "ticks": ""
             }
            },
            "type": "scatter3d"
           }
          ],
          "scattercarpet": [
           {
            "marker": {
             "colorbar": {
              "outlinewidth": 0,
              "ticks": ""
             }
            },
            "type": "scattercarpet"
           }
          ],
          "scattergeo": [
           {
            "marker": {
             "colorbar": {
              "outlinewidth": 0,
              "ticks": ""
             }
            },
            "type": "scattergeo"
           }
          ],
          "scattergl": [
           {
            "marker": {
             "colorbar": {
              "outlinewidth": 0,
              "ticks": ""
             }
            },
            "type": "scattergl"
           }
          ],
          "scattermapbox": [
           {
            "marker": {
             "colorbar": {
              "outlinewidth": 0,
              "ticks": ""
             }
            },
            "type": "scattermapbox"
           }
          ],
          "scatterpolar": [
           {
            "marker": {
             "colorbar": {
              "outlinewidth": 0,
              "ticks": ""
             }
            },
            "type": "scatterpolar"
           }
          ],
          "scatterpolargl": [
           {
            "marker": {
             "colorbar": {
              "outlinewidth": 0,
              "ticks": ""
             }
            },
            "type": "scatterpolargl"
           }
          ],
          "scatterternary": [
           {
            "marker": {
             "colorbar": {
              "outlinewidth": 0,
              "ticks": ""
             }
            },
            "type": "scatterternary"
           }
          ],
          "surface": [
           {
            "colorbar": {
             "outlinewidth": 0,
             "ticks": ""
            },
            "colorscale": [
             [
              0,
              "#0d0887"
             ],
             [
              0.1111111111111111,
              "#46039f"
             ],
             [
              0.2222222222222222,
              "#7201a8"
             ],
             [
              0.3333333333333333,
              "#9c179e"
             ],
             [
              0.4444444444444444,
              "#bd3786"
             ],
             [
              0.5555555555555556,
              "#d8576b"
             ],
             [
              0.6666666666666666,
              "#ed7953"
             ],
             [
              0.7777777777777778,
              "#fb9f3a"
             ],
             [
              0.8888888888888888,
              "#fdca26"
             ],
             [
              1,
              "#f0f921"
             ]
            ],
            "type": "surface"
           }
          ],
          "table": [
           {
            "cells": {
             "fill": {
              "color": "#EBF0F8"
             },
             "line": {
              "color": "white"
             }
            },
            "header": {
             "fill": {
              "color": "#C8D4E3"
             },
             "line": {
              "color": "white"
             }
            },
            "type": "table"
           }
          ]
         },
         "layout": {
          "annotationdefaults": {
           "arrowcolor": "#2a3f5f",
           "arrowhead": 0,
           "arrowwidth": 1
          },
          "autotypenumbers": "strict",
          "coloraxis": {
           "colorbar": {
            "outlinewidth": 0,
            "ticks": ""
           }
          },
          "colorscale": {
           "diverging": [
            [
             0,
             "#8e0152"
            ],
            [
             0.1,
             "#c51b7d"
            ],
            [
             0.2,
             "#de77ae"
            ],
            [
             0.3,
             "#f1b6da"
            ],
            [
             0.4,
             "#fde0ef"
            ],
            [
             0.5,
             "#f7f7f7"
            ],
            [
             0.6,
             "#e6f5d0"
            ],
            [
             0.7,
             "#b8e186"
            ],
            [
             0.8,
             "#7fbc41"
            ],
            [
             0.9,
             "#4d9221"
            ],
            [
             1,
             "#276419"
            ]
           ],
           "sequential": [
            [
             0,
             "#0d0887"
            ],
            [
             0.1111111111111111,
             "#46039f"
            ],
            [
             0.2222222222222222,
             "#7201a8"
            ],
            [
             0.3333333333333333,
             "#9c179e"
            ],
            [
             0.4444444444444444,
             "#bd3786"
            ],
            [
             0.5555555555555556,
             "#d8576b"
            ],
            [
             0.6666666666666666,
             "#ed7953"
            ],
            [
             0.7777777777777778,
             "#fb9f3a"
            ],
            [
             0.8888888888888888,
             "#fdca26"
            ],
            [
             1,
             "#f0f921"
            ]
           ],
           "sequentialminus": [
            [
             0,
             "#0d0887"
            ],
            [
             0.1111111111111111,
             "#46039f"
            ],
            [
             0.2222222222222222,
             "#7201a8"
            ],
            [
             0.3333333333333333,
             "#9c179e"
            ],
            [
             0.4444444444444444,
             "#bd3786"
            ],
            [
             0.5555555555555556,
             "#d8576b"
            ],
            [
             0.6666666666666666,
             "#ed7953"
            ],
            [
             0.7777777777777778,
             "#fb9f3a"
            ],
            [
             0.8888888888888888,
             "#fdca26"
            ],
            [
             1,
             "#f0f921"
            ]
           ]
          },
          "colorway": [
           "#636efa",
           "#EF553B",
           "#00cc96",
           "#ab63fa",
           "#FFA15A",
           "#19d3f3",
           "#FF6692",
           "#B6E880",
           "#FF97FF",
           "#FECB52"
          ],
          "font": {
           "color": "#2a3f5f"
          },
          "geo": {
           "bgcolor": "white",
           "lakecolor": "white",
           "landcolor": "white",
           "showlakes": true,
           "showland": true,
           "subunitcolor": "#C8D4E3"
          },
          "hoverlabel": {
           "align": "left"
          },
          "hovermode": "closest",
          "mapbox": {
           "style": "light"
          },
          "paper_bgcolor": "white",
          "plot_bgcolor": "white",
          "polar": {
           "angularaxis": {
            "gridcolor": "#EBF0F8",
            "linecolor": "#EBF0F8",
            "ticks": ""
           },
           "bgcolor": "white",
           "radialaxis": {
            "gridcolor": "#EBF0F8",
            "linecolor": "#EBF0F8",
            "ticks": ""
           }
          },
          "scene": {
           "xaxis": {
            "backgroundcolor": "white",
            "gridcolor": "#DFE8F3",
            "gridwidth": 2,
            "linecolor": "#EBF0F8",
            "showbackground": true,
            "ticks": "",
            "zerolinecolor": "#EBF0F8"
           },
           "yaxis": {
            "backgroundcolor": "white",
            "gridcolor": "#DFE8F3",
            "gridwidth": 2,
            "linecolor": "#EBF0F8",
            "showbackground": true,
            "ticks": "",
            "zerolinecolor": "#EBF0F8"
           },
           "zaxis": {
            "backgroundcolor": "white",
            "gridcolor": "#DFE8F3",
            "gridwidth": 2,
            "linecolor": "#EBF0F8",
            "showbackground": true,
            "ticks": "",
            "zerolinecolor": "#EBF0F8"
           }
          },
          "shapedefaults": {
           "line": {
            "color": "#2a3f5f"
           }
          },
          "ternary": {
           "aaxis": {
            "gridcolor": "#DFE8F3",
            "linecolor": "#A2B1C6",
            "ticks": ""
           },
           "baxis": {
            "gridcolor": "#DFE8F3",
            "linecolor": "#A2B1C6",
            "ticks": ""
           },
           "bgcolor": "white",
           "caxis": {
            "gridcolor": "#DFE8F3",
            "linecolor": "#A2B1C6",
            "ticks": ""
           }
          },
          "title": {
           "x": 0.05
          },
          "xaxis": {
           "automargin": true,
           "gridcolor": "#EBF0F8",
           "linecolor": "#EBF0F8",
           "ticks": "",
           "title": {
            "standoff": 15
           },
           "zerolinecolor": "#EBF0F8",
           "zerolinewidth": 2
          },
          "yaxis": {
           "automargin": true,
           "gridcolor": "#EBF0F8",
           "linecolor": "#EBF0F8",
           "ticks": "",
           "title": {
            "standoff": 15
           },
           "zerolinecolor": "#EBF0F8",
           "zerolinewidth": 2
          }
         }
        },
        "title": {
         "text": "Fairness Metrics"
        },
        "xaxis": {
         "title": {
          "text": "Metric"
         }
        },
        "yaxis": {
         "title": {
          "text": "Score"
         }
        }
       }
      }
     },
     "metadata": {},
     "output_type": "display_data"
    }
   ],
   "source": [
    "# Plotting the fairness metrics\n",
    "fairness_plot = plotter.metrics_comparison_scatter(\n",
    "    fairness_metrics,\n",
    "    title=\"Fairness Metrics\",\n",
    ")\n",
    "report.log_plotly_figure(\n",
    "    fig=fairness_plot,\n",
    "    caption=\"Fairness Metrics\",\n",
    "    section_name=\"fairness analysis\",\n",
    ")\n",
    "fairness_plot.show()"
   ]
  },
  {
   "cell_type": "markdown",
   "metadata": {},
   "source": [
    "## Report Generation\n",
    "\n",
    "Before generating the model card, let us document some of the details of the model and some considerations involved in developing and using the model.\n",
    "\n",
    "\n",
    "Let's start with populating the model details section, which includes the following fields by default:\n",
    "- description: A high-level description of the model and its usage for a general audience.\n",
    "- version: The version of the model.\n",
    "- owners: The individuals or organizations that own the model.\n",
    "- license: The license under which the model is made available.\n",
    "- citation: The citation for the model.\n",
    "- references: Links to resources that are relevant to the model.\n",
    "- path: The path to where the model is stored.\n",
    "- regulatory_requirements: The regulatory requirements that are relevant to the model.\n",
    "\n",
    "We can add additional fields to the model details section by passing a dictionary to the `log_from_dict` method and specifying the section name as `model_details`. You can also use the `log_descriptor` method to add a new field object with a `description` attribute to any section of the model card."
   ]
  },
  {
   "cell_type": "code",
   "execution_count": 52,
   "metadata": {},
   "outputs": [],
   "source": [
    "report.log_from_dict(\n",
    "    data={\n",
    "        \"name\": \"Heart Failure Prediction Model\",\n",
    "        \"description\": \"The model was trained on the Kaggle Heart Failure \\\n",
    "        Prediction Dataset to predict risk of heart failure.\",\n",
    "    },\n",
    "    section_name=\"model_details\",\n",
    ")\n",
    "\n",
    "report.log_version(\n",
    "    version_str=\"0.0.1\",\n",
    "    date=str(date.today()),\n",
    "    description=\"Initial Release\",\n",
    ")\n",
    "report.log_owner(\n",
    "    name=\"CyclOps Team\",\n",
    "    contact=\"vectorinstitute.github.io/cyclops/\",\n",
    "    email=\"cyclops@vectorinstitute.ai\",\n",
    ")\n",
    "report.log_license(identifier=\"Apache-2.0\")\n",
    "report.log_reference(\n",
    "    link=\"https://scikit-learn.org/stable/modules/generated/sklearn.linear_model.SGDClassifier.html\",  # noqa: E501\n",
    ")"
   ]
  },
  {
   "cell_type": "markdown",
   "metadata": {},
   "source": [
    "Next, let's populate the considerations section, which includes the following fields by default:\n",
    "- users: The intended users of the model.\n",
    "- use_cases: The use cases for the model. These could be primary, downstream or out-of-scope use cases.\n",
    "- fairness_assessment: A description of the benefits and harms of the model for different groups as well as the steps taken to mitigate the harms.\n",
    "- ethical_considerations: The risks associated with using the model and the steps taken to mitigate them. This can be populated using the  `log_risk` method.\n",
    "\n"
   ]
  },
  {
   "cell_type": "code",
   "execution_count": 53,
   "metadata": {},
   "outputs": [],
   "source": [
    "report.log_from_dict(\n",
    "    data={\n",
    "        \"users\": [\n",
    "            {\"description\": \"Hospitals\"},\n",
    "            {\"description\": \"Clinicians\"},\n",
    "        ],\n",
    "    },\n",
    "    section_name=\"considerations\",\n",
    ")\n",
    "report.log_user(description=\"ML Engineers\")\n",
    "report.log_use_case(\n",
    "    description=\"Predicting risk of heart failure.\",\n",
    "    kind=\"primary\",\n",
    ")\n",
    "report.log_use_case(\n",
    "    description=\"Predicting risk of pathologies and conditions other\\\n",
    "    than heart failure.\",\n",
    "    kind=\"out-of-scope\",\n",
    ")\n",
    "report.log_fairness_assessment(\n",
    "    affected_group=\"sex, age\",\n",
    "    benefit=\"Improved health outcomes for patients.\",\n",
    "    harm=\"Biased predictions for patients in certain groups (e.g. older patients) \\\n",
    "        may lead to worse health outcomes.\",\n",
    "    mitigation_strategy=\"We will monitor the performance of the model on these groups \\\n",
    "        and retrain the model if the performance drops below a certain threshold.\",\n",
    ")\n",
    "report.log_risk(\n",
    "    risk=\"The model may be used to make decisions that affect the health of patients.\",\n",
    "    mitigation_strategy=\"The model should be continuously monitored for performance \\\n",
    "        and retrained if the performance drops below a certain threshold.\",\n",
    ")"
   ]
  },
  {
   "cell_type": "markdown",
   "metadata": {},
   "source": [
    "Once the model card is populated, you can generate the report using the `export` method. The report is generated in the form of an HTML file. A JSON file containing the model card data will also be generated along with the HTML file. By default, the files will be saved in a folder named `cyclops_reports` in the current working directory. You can change the path by passing a `output_dir` argument when instantiating the `ModelCardReport` class."
   ]
  },
  {
   "cell_type": "code",
   "execution_count": 136,
   "metadata": {
    "tags": []
   },
   "outputs": [],
   "source": [
    "np.random.seed(42)\n",
    "\n",
    "synthetic_timestamps = pd.date_range(\n",
    "    start=\"1/1/2020\", periods=10, freq=\"D\"\n",
    ").values.astype(str)\n",
    "\n",
    "\n",
    "report._model_card.overview = None\n",
    "report_path = report.export(\n",
    "    output_filename=\"heart_failure_report_periodic.html\",\n",
    "    synthetic_timestamp=synthetic_timestamps[0],\n",
    "    last_n_evals=3,\n",
    ")\n",
    "\n",
    "shutil.copy(f\"{report_path}\", \".\")\n",
    "metric_save = None\n",
    "for i in range(len(synthetic_timestamps[1:])):\n",
    "    if i == 3:\n",
    "        report._model_card.quantitative_analysis.performance_metrics.append(\n",
    "            metric_save,\n",
    "        )\n",
    "    report._model_card.overview = None\n",
    "    for metric in report._model_card.quantitative_analysis.performance_metrics:\n",
    "        metric.value = np.clip(\n",
    "            metric.value + np.random.normal(0, 0.1),\n",
    "            0,\n",
    "            1,\n",
    "        )\n",
    "        metric.tests[0].passed = bool(metric.value >= 0.7)\n",
    "    if i == 2:\n",
    "        metrics = []\n",
    "        for metric in report._model_card.quantitative_analysis.performance_metrics:\n",
    "            if metric.type == \"BinaryAccuracy\" and metric.slice == \"Age:[30 - 50)\":\n",
    "                metric_save = copy.deepcopy(metric)\n",
    "            else:\n",
    "                metrics.append(metric)\n",
    "        report._model_card.quantitative_analysis.performance_metrics = metrics\n",
    "    report_path = report.export(\n",
    "        output_filename=\"heart_failure_report_periodic.html\",\n",
    "        template_path=\"../../../../cyclops/report/templates/matdb2/model_report.jinja\",\n",
    "        synthetic_timestamp=synthetic_timestamps[i + 1],\n",
    "    )\n",
    "    shutil.copy(f\"{report_path}\", \".\")\n",
    "shutil.rmtree(\"./cyclops_report\")"
   ]
  },
  {
   "cell_type": "markdown",
   "metadata": {
    "tags": []
   },
   "source": [
    "You can view the generated HTML [report](./heart_failure_report_periodic.html)."
   ]
  }
 ],
 "metadata": {
  "kernelspec": {
   "display_name": "Python 3 (ipykernel)",
   "language": "python",
   "name": "python3"
  },
  "language_info": {
   "codemirror_mode": {
    "name": "ipython",
    "version": 3
   },
   "file_extension": ".py",
   "mimetype": "text/x-python",
   "name": "python",
   "nbconvert_exporter": "python",
   "pygments_lexer": "ipython3",
   "version": "3.10.12"
  }
 },
 "nbformat": 4,
 "nbformat_minor": 4
}
