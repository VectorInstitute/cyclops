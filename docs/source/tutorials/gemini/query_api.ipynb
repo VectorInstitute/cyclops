{
 "cells": [
  {
   "cell_type": "markdown",
   "id": "6b8f5515-0d77-4989-8e08-33872eafb790",
   "metadata": {},
   "source": [
    "# GEMINI query API tutorial"
   ]
  },
  {
   "cell_type": "markdown",
   "id": "633e60f1-d4cc-4d4a-87de-db14c4152ac6",
   "metadata": {},
   "source": [
    "## Imports and instantiate `GEMINIQuerier`."
   ]
  },
  {
   "cell_type": "code",
   "execution_count": 1,
   "id": "00c4a25b-1f3d-4613-b20f-469e7b1043b7",
   "metadata": {},
   "outputs": [
    {
     "name": "stderr",
     "output_type": "stream",
     "text": [
      "2023-03-21 17:09:15,267 \u001b[1;37mINFO\u001b[0m cyclops.query.orm - Database setup, ready to run queries!\n"
     ]
    },
    {
     "data": {
      "text/plain": [
       "['information_schema.sql_implementation_info',\n",
       " 'information_schema.sql_parts',\n",
       " 'information_schema.sql_sizing',\n",
       " 'information_schema.sql_features',\n",
       " 'public.ip_administrative',\n",
       " 'public.derived_variables',\n",
       " 'public.diagnosis',\n",
       " 'public.vitals',\n",
       " 'public.intervention',\n",
       " 'public.er_administrative',\n",
       " 'public.imaging',\n",
       " 'public.pharmacy',\n",
       " 'public.lab',\n",
       " 'public.room_transfer',\n",
       " 'public.ip_scu',\n",
       " 'public.lookup_ip_administrative',\n",
       " 'public.lookup_ccsr',\n",
       " 'public.hospital',\n",
       " 'public.lookup_er_administrative',\n",
       " 'public.blood_transfusion',\n",
       " 'public.lookup_ip_scu',\n",
       " 'public.lookup_diagnosis',\n",
       " 'public.lookup_room_transfer',\n",
       " 'public.lookup_imaging']"
      ]
     },
     "execution_count": 1,
     "metadata": {},
     "output_type": "execute_result"
    }
   ],
   "source": [
    "\"\"\"GEMINI query API tutorial.\"\"\"\n",
    "\n",
    "import cyclops.query.ops as qo\n",
    "from cyclops.query import GEMINIQuerier\n",
    "\n",
    "\n",
    "querier = GEMINIQuerier(\n",
    "    host=\"db.gemini-hpc.ca\",\n",
    "    database=\"delirium_v3_0_0\",\n",
    "    user=\"username\",\n",
    "    password=\"password\",\n",
    ")\n",
    "# List all tables.\n",
    "querier.list_tables()"
   ]
  },
  {
   "cell_type": "markdown",
   "id": "7980e403-1f99-4886-8856-d6d6b11ec15d",
   "metadata": {},
   "source": [
    "## Example 1a. Create a table with only one hospitalization per patient, keeping the most recent encounter for each patient. Sort the dataset by `patient_id_hashed` and `discharge_date_time`, and then keep the recent record."
   ]
  },
  {
   "cell_type": "code",
   "execution_count": 2,
   "id": "2f3e9b5f-3156-4414-a296-1e45bde9d147",
   "metadata": {},
   "outputs": [
    {
     "name": "stderr",
     "output_type": "stream",
     "text": [
      "2023-03-21 17:09:20,365 \u001b[1;37mINFO\u001b[0m cyclops.query.orm - Query returned successfully!\n",
      "2023-03-21 17:09:20,366 \u001b[1;37mINFO\u001b[0m cyclops.utils.profile - Finished executing function run_query in 4.825447 s\n"
     ]
    },
    {
     "name": "stdout",
     "output_type": "stream",
     "text": [
      "189606 rows extracted!\n"
     ]
    }
   ],
   "source": [
    "ops = qo.Sequential(\n",
    "    qo.OrderBy(\n",
    "        [\"patient_id_hashed\", \"discharge_date_time\"],\n",
    "        ascending=[True, False],\n",
    "    ),\n",
    "    qo.Distinct(\"patient_id_hashed\"),\n",
    ")\n",
    "encounters_qi = querier.public.ip_administrative(ops=ops)\n",
    "encounters = encounters_qi.run()\n",
    "print(f\"{len(encounters)} rows extracted!\")"
   ]
  },
  {
   "cell_type": "markdown",
   "id": "9040fd47-79b7-4d1d-9ca4-2ea09efea267",
   "metadata": {},
   "source": [
    "## Example 1b. From the above set of encounters, take a subset of patients who were discharged between April 1, 2015 and March 31, 2016."
   ]
  },
  {
   "cell_type": "code",
   "execution_count": 3,
   "id": "105c0824-b735-4f6b-a008-7ddf8279eb20",
   "metadata": {},
   "outputs": [
    {
     "name": "stderr",
     "output_type": "stream",
     "text": [
      "2023-03-21 17:09:21,372 \u001b[1;37mINFO\u001b[0m cyclops.query.orm - Query returned successfully!\n",
      "2023-03-21 17:09:21,373 \u001b[1;37mINFO\u001b[0m cyclops.utils.profile - Finished executing function run_query in 0.992901 s\n"
     ]
    },
    {
     "name": "stdout",
     "output_type": "stream",
     "text": [
      "17071 rows extracted!\n"
     ]
    }
   ],
   "source": [
    "ops = qo.Sequential(\n",
    "    qo.ConditionAfterDate(\"discharge_date_time\", \"2015-04-01\"),\n",
    "    qo.ConditionBeforeDate(\"discharge_date_time\", \"2016-03-31\"),\n",
    ")\n",
    "encounters_qi = querier.get_interface(encounters_qi.query, ops=ops)\n",
    "encounters = encounters_qi.run()\n",
    "print(f\"{len(encounters)} rows extracted!\")"
   ]
  },
  {
   "cell_type": "markdown",
   "id": "f4d8b0bc-4fe1-4b07-86ad-ce1032708d78",
   "metadata": {},
   "source": [
    "## Example 1c. From the above set of encounters, get the total number of admissions for each hospital."
   ]
  },
  {
   "cell_type": "code",
   "execution_count": 4,
   "id": "65d92139-c1d5-45ce-908f-9052c9131ed3",
   "metadata": {},
   "outputs": [
    {
     "name": "stderr",
     "output_type": "stream",
     "text": [
      "2023-03-21 17:09:22,181 \u001b[1;37mINFO\u001b[0m cyclops.query.orm - Query returned successfully!\n",
      "2023-03-21 17:09:22,182 \u001b[1;37mINFO\u001b[0m cyclops.utils.profile - Finished executing function run_query in 0.800708 s\n"
     ]
    },
    {
     "name": "stdout",
     "output_type": "stream",
     "text": [
      "7 rows extracted!\n"
     ]
    }
   ],
   "source": [
    "ops = qo.GroupByAggregate(\"hospital_id\", {\"hospital_id\": (\"count\", \"count\")})\n",
    "encounters_per_site_qi = querier.get_interface(encounters_qi.query, ops=ops)\n",
    "encounters_per_site = encounters_per_site_qi.run()\n",
    "print(f\"{len(encounters_per_site)} rows extracted!\")"
   ]
  },
  {
   "cell_type": "markdown",
   "id": "848c5b90-1e66-4a5a-9ebb-9c0caa105c3f",
   "metadata": {},
   "source": [
    "## Example 2a. How many sodium tests were placed between Apr 1, 2015 and May 31, 2015 at SMH?"
   ]
  },
  {
   "cell_type": "code",
   "execution_count": 5,
   "id": "33bd3450-985f-4cc5-9da9-09846ad297e7",
   "metadata": {},
   "outputs": [
    {
     "name": "stderr",
     "output_type": "stream",
     "text": [
      "2023-03-21 17:09:59,972 \u001b[1;37mINFO\u001b[0m cyclops.query.orm - Query returned successfully!\n",
      "2023-03-21 17:09:59,973 \u001b[1;37mINFO\u001b[0m cyclops.utils.profile - Finished executing function run_query in 37.740935 s\n"
     ]
    },
    {
     "name": "stdout",
     "output_type": "stream",
     "text": [
      "1 rows extracted!\n"
     ]
    },
    {
     "data": {
      "text/html": [
       "<div>\n",
       "<style scoped>\n",
       "    .dataframe tbody tr th:only-of-type {\n",
       "        vertical-align: middle;\n",
       "    }\n",
       "\n",
       "    .dataframe tbody tr th {\n",
       "        vertical-align: top;\n",
       "    }\n",
       "\n",
       "    .dataframe thead th {\n",
       "        text-align: right;\n",
       "    }\n",
       "</style>\n",
       "<table border=\"1\" class=\"dataframe\">\n",
       "  <thead>\n",
       "    <tr style=\"text-align: right;\">\n",
       "      <th></th>\n",
       "      <th>hospital_id</th>\n",
       "      <th>count</th>\n",
       "    </tr>\n",
       "  </thead>\n",
       "  <tbody>\n",
       "    <tr>\n",
       "      <th>0</th>\n",
       "      <td>SMH</td>\n",
       "      <td>6053</td>\n",
       "    </tr>\n",
       "  </tbody>\n",
       "</table>\n",
       "</div>"
      ],
      "text/plain": [
       "  hospital_id  count\n",
       "0         SMH   6053"
      ]
     },
     "execution_count": 5,
     "metadata": {},
     "output_type": "execute_result"
    }
   ],
   "source": [
    "encounter_ops = qo.ConditionEquals(\"hospital_id\", \"SMH\")\n",
    "encounters_qi = querier.public.ip_administrative(ops=encounter_ops)\n",
    "lab_ops = qo.Sequential(\n",
    "    qo.ConditionAfterDate(\"sample_collection_date_time\", \"2015-04-01\"),\n",
    "    qo.ConditionBeforeDate(\"sample_collection_date_time\", \"2015-05-31\"),\n",
    "    qo.ConditionSubstring(\"lab_test_name_mapped\", \"sodium\"),\n",
    "    qo.GroupByAggregate(\"hospital_id\", {\"hospital_id\": (\"count\", \"count\")}),\n",
    ")\n",
    "lab_qi = querier.public.lab(\n",
    "    ops=lab_ops,\n",
    "    join=qo.JoinArgs(join_table=encounters_qi.query, on=\"genc_id\"),\n",
    ")\n",
    "sodium_tests = lab_qi.run()\n",
    "print(f\"{len(sodium_tests)} rows extracted!\")\n",
    "print(sodium_tests)"
   ]
  }
 ],
 "metadata": {
  "kernelspec": {
   "display_name": "cyclops",
   "language": "python",
   "name": "cyclops"
  },
  "language_info": {
   "codemirror_mode": {
    "name": "ipython",
    "version": 3
   },
   "file_extension": ".py",
   "mimetype": "text/x-python",
   "name": "python",
   "nbconvert_exporter": "python",
   "pygments_lexer": "ipython3",
   "version": "3.9.7"
  }
 },
 "nbformat": 4,
 "nbformat_minor": 5
}
