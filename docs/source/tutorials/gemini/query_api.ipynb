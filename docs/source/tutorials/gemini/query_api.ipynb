{
 "cells": [
  {
   "cell_type": "markdown",
   "id": "6b8f5515-0d77-4989-8e08-33872eafb790",
   "metadata": {},
   "source": [
    "# GEMINI query API tutorial"
   ]
  },
  {
   "cell_type": "markdown",
   "id": "633e60f1-d4cc-4d4a-87de-db14c4152ac6",
   "metadata": {},
   "source": [
    "## Imports and instantiate `GEMINIQuerier`."
   ]
  },
  {
   "cell_type": "code",
   "execution_count": 1,
   "id": "00c4a25b-1f3d-4613-b20f-469e7b1043b7",
   "metadata": {},
   "outputs": [
    {
     "name": "stderr",
     "output_type": "stream",
     "text": [
      "2023-09-21 09:17:45,449 \u001b[1;37mINFO\u001b[0m cyclops.query.orm - Database setup, ready to run queries!\n"
     ]
    },
    {
     "data": {
      "text/plain": [
       "['public.lookup_icd10_ca_description',\n",
       " 'public.lookup_statcan',\n",
       " 'public.lookup_cci',\n",
       " 'public.lookup_icd10_ca_to_ccsr',\n",
       " 'public.lookup_ip_administrative',\n",
       " 'public.lookup_lab_concept',\n",
       " 'public.lookup_vitals_concept',\n",
       " 'public.lookup_pharmacy_concept',\n",
       " 'public.lookup_diagnosis',\n",
       " 'public.locality_variables',\n",
       " 'public.admdad',\n",
       " 'public.derived_variables',\n",
       " 'public.ipscu',\n",
       " 'public.lookup_phy_characteristics',\n",
       " 'public.lab',\n",
       " 'public.ipintervention',\n",
       " 'public.lookup_ccsr',\n",
       " 'public.lookup_pharmacy_route',\n",
       " 'public.lookup_transfusion_concept',\n",
       " 'public.lookup_ip_scu',\n",
       " 'public.lookup_er_administrative',\n",
       " 'public.lookup_imaging',\n",
       " 'public.pharmacy',\n",
       " 'public.radiology',\n",
       " 'public.lookup_transfer',\n",
       " 'public.ipdiagnosis',\n",
       " 'public.lookup_room_transfer',\n",
       " 'public.er',\n",
       " 'public.erdiagnosis',\n",
       " 'public.erintervention',\n",
       " 'public.roomtransfer',\n",
       " 'public.transfusion',\n",
       " 'public.vitals',\n",
       " 'public.lookup_hospital_num']"
      ]
     },
     "execution_count": 1,
     "metadata": {},
     "output_type": "execute_result"
    }
   ],
   "source": [
    "\"\"\"GEMINI query API tutorial.\"\"\"\n",
    "\n",
    "import cyclops.query.ops as qo\n",
    "from cyclops.query import GEMINIQuerier\n",
    "\n",
    "\n",
    "querier = GEMINIQuerier(\n",
    "    host=\"db.gemini-hpc.ca\",\n",
    "    database=\"delirium_v4_0_1\",\n",
    "    user=\"username\",\n",
    "    password=\"password\",\n",
    ")\n",
    "# List all tables.\n",
    "querier.list_tables(\"public\")"
   ]
  },
  {
   "cell_type": "markdown",
   "id": "7980e403-1f99-4886-8856-d6d6b11ec15d",
   "metadata": {},
   "source": [
    "## Example 1a. Create a table with only one hospitalization per patient, keeping the most recent encounter for each patient. Sort the dataset by `patient_id_hashed` and `discharge_date_time`, and then keep the recent record."
   ]
  },
  {
   "cell_type": "code",
   "execution_count": 2,
   "id": "2f3e9b5f-3156-4414-a296-1e45bde9d147",
   "metadata": {},
   "outputs": [
    {
     "name": "stderr",
     "output_type": "stream",
     "text": [
      "2023-09-21 09:17:51,902 \u001b[1;37mINFO\u001b[0m cyclops.query.orm - Query returned successfully!\n",
      "2023-09-21 09:17:51,903 \u001b[1;37mINFO\u001b[0m cyclops.utils.profile - Finished executing function run_query in 6.093352 s\n"
     ]
    },
    {
     "name": "stdout",
     "output_type": "stream",
     "text": [
      "189734 rows extracted!\n"
     ]
    }
   ],
   "source": [
    "ops = qo.Sequential(\n",
    "    qo.OrderBy(\n",
    "        [\"patient_id_hashed\", \"discharge_date_time\"],\n",
    "        ascending=[True, False],\n",
    "    ),\n",
    "    qo.Distinct(\"patient_id_hashed\"),\n",
    ")\n",
    "encounters = querier.public.admdad()\n",
    "encounters = encounters.ops(ops).run()\n",
    "print(f\"{len(encounters)} rows extracted!\")"
   ]
  },
  {
   "cell_type": "markdown",
   "id": "9040fd47-79b7-4d1d-9ca4-2ea09efea267",
   "metadata": {},
   "source": [
    "## Example 1b. From the above set of encounters, take a subset of patients who were discharged between April 1, 2015 and March 31, 2016."
   ]
  },
  {
   "cell_type": "code",
   "execution_count": 3,
   "id": "105c0824-b735-4f6b-a008-7ddf8279eb20",
   "metadata": {},
   "outputs": [
    {
     "name": "stderr",
     "output_type": "stream",
     "text": [
      "2023-09-21 09:17:52,591 \u001b[1;37mINFO\u001b[0m cyclops.query.orm - Query returned successfully!\n",
      "2023-09-21 09:17:52,592 \u001b[1;37mINFO\u001b[0m cyclops.utils.profile - Finished executing function run_query in 0.675141 s\n"
     ]
    },
    {
     "name": "stdout",
     "output_type": "stream",
     "text": [
      "32567 rows extracted!\n"
     ]
    }
   ],
   "source": [
    "ops = qo.Sequential(\n",
    "    qo.Cast(\"discharge_date_time\", \"timestamp\"),\n",
    "    qo.ConditionAfterDate(\"discharge_date_time\", \"2015-04-01\"),\n",
    "    qo.ConditionBeforeDate(\"discharge_date_time\", \"2016-03-31\"),\n",
    ")\n",
    "encounters_query = querier.public.admdad()\n",
    "encounters_query = encounters_query.ops(ops)\n",
    "encounters = encounters_query.run()\n",
    "print(f\"{len(encounters)} rows extracted!\")"
   ]
  },
  {
   "cell_type": "markdown",
   "id": "f4d8b0bc-4fe1-4b07-86ad-ce1032708d78",
   "metadata": {},
   "source": [
    "## Example 1c. From the above set of encounters, get the total number of admissions for each hospital."
   ]
  },
  {
   "cell_type": "code",
   "execution_count": 4,
   "id": "65d92139-c1d5-45ce-908f-9052c9131ed3",
   "metadata": {},
   "outputs": [
    {
     "name": "stderr",
     "output_type": "stream",
     "text": [
      "2023-09-21 09:17:52,856 \u001b[1;37mINFO\u001b[0m cyclops.query.orm - Query returned successfully!\n",
      "2023-09-21 09:17:52,857 \u001b[1;37mINFO\u001b[0m cyclops.utils.profile - Finished executing function run_query in 0.145693 s\n"
     ]
    },
    {
     "name": "stdout",
     "output_type": "stream",
     "text": [
      "7 rows extracted!\n"
     ]
    }
   ],
   "source": [
    "ops = qo.GroupByAggregate(\"hospital_num\", {\"hospital_num\": (\"count\", \"count\")})\n",
    "encounters_per_site = encounters_query.ops(ops).run()\n",
    "print(f\"{len(encounters_per_site)} rows extracted!\")"
   ]
  },
  {
   "cell_type": "markdown",
   "id": "848c5b90-1e66-4a5a-9ebb-9c0caa105c3f",
   "metadata": {},
   "source": [
    "## Example 2a. How many sodium tests were placed between Apr 1, 2015 and May 31, 2015 at hospital 101?"
   ]
  },
  {
   "cell_type": "code",
   "execution_count": 5,
   "id": "33bd3450-985f-4cc5-9da9-09846ad297e7",
   "metadata": {},
   "outputs": [
    {
     "name": "stderr",
     "output_type": "stream",
     "text": [
      "2023-09-21 09:26:19,814 \u001b[1;37mINFO\u001b[0m cyclops.query.orm - Query returned successfully!\n",
      "2023-09-21 09:26:19,815 \u001b[1;37mINFO\u001b[0m cyclops.utils.profile - Finished executing function run_query in 506.939296 s\n"
     ]
    },
    {
     "name": "stdout",
     "output_type": "stream",
     "text": [
      "1 rows extracted!\n",
      "   hospital_num  count\n",
      "0           101   9305\n"
     ]
    }
   ],
   "source": [
    "encounters = querier.public.admdad()\n",
    "encounters = encounters.ops(qo.ConditionEquals(\"hospital_num\", 101))\n",
    "lab_ops = qo.Sequential(\n",
    "    qo.DropEmpty(\"collection_date_time\"),\n",
    "    qo.Cast(\"collection_date_time\", \"timestamp\"),\n",
    "    qo.ConditionAfterDate(\"collection_date_time\", \"2015-04-01\"),\n",
    "    qo.ConditionBeforeDate(\"collection_date_time\", \"2015-05-31\"),\n",
    "    qo.ConditionSubstring(\"test_type_mapped\", \"sodium\"),\n",
    ")\n",
    "labs = querier.public.lab()\n",
    "labs = labs.ops(lab_ops)\n",
    "encounters_labs = encounters.join(labs, on=\"genc_id\")\n",
    "encounters_labs = encounters_labs.ops(\n",
    "    qo.GroupByAggregate(\"hospital_num\", {\"hospital_num\": (\"count\", \"count\")}),\n",
    ")\n",
    "sodium_tests = encounters_labs.run()\n",
    "print(f\"{len(sodium_tests)} rows extracted!\")\n",
    "print(sodium_tests)"
   ]
  }
 ],
 "metadata": {
  "kernelspec": {
   "display_name": "cyclops",
   "language": "python",
   "name": "cyclops"
  },
  "language_info": {
   "codemirror_mode": {
    "name": "ipython",
    "version": 3
   },
   "file_extension": ".py",
   "mimetype": "text/x-python",
   "name": "python",
   "nbconvert_exporter": "python",
   "pygments_lexer": "ipython3",
   "version": "3.9.7"
  }
 },
 "nbformat": 4,
 "nbformat_minor": 5
}
