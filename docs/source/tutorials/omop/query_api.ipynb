{
 "cells": [
  {
   "cell_type": "markdown",
   "id": "e337389b-1cfe-4796-a846-b4e1ba5690d6",
   "metadata": {},
   "source": [
    "# OMOP query API tutorial"
   ]
  },
  {
   "cell_type": "markdown",
   "id": "1efffc64",
   "metadata": {},
   "source": [
    "This notebook shows examples of how to use the cyclops.query API to query EHR databases that follow the OMOP common data model. We showcase the examples on:\n",
    "\n",
    "1. [Synthea](https://github.com/synthetichealth/synthea) in OMOP format.\n",
    "\n",
    "    * First, generate synthea data using their releases. We used [v2.7.0](https://github.com/synthetichealth/synthea/releases/tag/v2.7.0) to generate data .\n",
    "    * Follow instructions provided in [ETL-Synthea](https://github.com/OHDSI/ETL-Synthea) to load the CSV data into a postgres database, and perform ETL to load the data into OMOP format."
   ]
  },
  {
   "cell_type": "markdown",
   "id": "12c18656-7f16-4230-85d0-944563d6a13e",
   "metadata": {},
   "source": [
    "## Imports and instantiate `OMOPQuerier`"
   ]
  },
  {
   "cell_type": "code",
   "execution_count": 1,
   "id": "53009e6b",
   "metadata": {},
   "outputs": [
    {
     "name": "stderr",
     "output_type": "stream",
     "text": [
      "2023-01-30 14:47:55,129 \u001b[1;37mINFO\u001b[0m cyclops.query.orm - Database setup, ready to run queries!\n"
     ]
    },
    {
     "data": {
      "text/plain": [
       "['visit_occurrence',\n",
       " 'visit_detail',\n",
       " 'person',\n",
       " 'measurement',\n",
       " 'observation',\n",
       " 'concept',\n",
       " 'care_site',\n",
       " 'provider']"
      ]
     },
     "execution_count": 1,
     "metadata": {},
     "output_type": "execute_result"
    }
   ],
   "source": [
    "import pandas as pd\n",
    "\n",
    "import cyclops.query.ops as qo\n",
    "from cyclops.query import OMOPQuerier\n",
    "\n",
    "synthea = OMOPQuerier(\n",
    "    dbms=\"postgresql\",\n",
    "    port=5432,\n",
    "    host=\"localhost\",\n",
    "    database=\"synthea_fl\",\n",
    "    user=\"postgres\",\n",
    "    password=\"pwd\",\n",
    "    schema_name=\"cdm_synthea10\",\n",
    ")\n",
    "# List all tables.\n",
    "synthea.list_tables()"
   ]
  },
  {
   "cell_type": "markdown",
   "id": "7b6214f8",
   "metadata": {
    "tags": []
   },
   "source": [
    "## Example 1. Get all patient visits in or after 2010."
   ]
  },
  {
   "cell_type": "code",
   "execution_count": 2,
   "id": "3a3d9cb9-fe40-45b8-ba2f-8de52a3b7f4f",
   "metadata": {},
   "outputs": [
    {
     "name": "stderr",
     "output_type": "stream",
     "text": [
      "2023-01-30 14:48:00,694 \u001b[1;37mINFO\u001b[0m cyclops.query.orm - Query returned successfully!\n",
      "2023-01-30 14:48:00,695 \u001b[1;37mINFO\u001b[0m cyclops.utils.profile - Finished executing function run_query in 5.527511 s\n"
     ]
    },
    {
     "name": "stdout",
     "output_type": "stream",
     "text": [
      "355294 rows extracted!\n"
     ]
    },
    {
     "data": {
      "text/plain": [
       "2010     7968\n",
       "2011     8380\n",
       "2012    10250\n",
       "2013    29625\n",
       "2014    44476\n",
       "2015    30647\n",
       "2016    30158\n",
       "2017    30804\n",
       "2018    31251\n",
       "2019    32257\n",
       "2020    39073\n",
       "2021    29654\n",
       "2022    30542\n",
       "2023      209\n",
       "Name: visit_start_date, dtype: int64"
      ]
     },
     "execution_count": 2,
     "metadata": {},
     "output_type": "execute_result"
    }
   ],
   "source": [
    "ops = qo.Sequential([qo.ConditionAfterDate(\"visit_start_date\", \"2010-01-01\")])\n",
    "visits = synthea.visit_occurrence(ops=ops).run()\n",
    "print(f\"{len(visits)} rows extracted!\")\n",
    "pd.to_datetime(visits[\"visit_start_date\"]).dt.year.value_counts().sort_index()"
   ]
  },
  {
   "cell_type": "markdown",
   "id": "fcaea674-b967-4fbc-a7be-4d8b4492ef56",
   "metadata": {},
   "source": [
    "## Example 2. Get measurements for all visits in or after 2020, limit to first 100 rows."
   ]
  },
  {
   "cell_type": "code",
   "execution_count": 3,
   "id": "030e2491-a7cc-42f3-a1ca-618212b3524c",
   "metadata": {},
   "outputs": [
    {
     "name": "stderr",
     "output_type": "stream",
     "text": [
      "2023-01-30 14:48:00,923 \u001b[1;37mINFO\u001b[0m cyclops.query.orm - Query returned successfully!\n",
      "2023-01-30 14:48:00,924 \u001b[1;37mINFO\u001b[0m cyclops.utils.profile - Finished executing function run_query in 0.073149 s\n"
     ]
    },
    {
     "name": "stdout",
     "output_type": "stream",
     "text": [
      "100 rows extracted!\n"
     ]
    }
   ],
   "source": [
    "ops = qo.Sequential([qo.ConditionAfterDate(\"visit_start_date\", \"2020-01-01\")])\n",
    "visits = synthea.visit_occurrence(ops=ops)\n",
    "measurements = synthea.measurement(\n",
    "    join=qo.JoinArgs(join_table=visits.query, on=\"visit_occurrence_id\")\n",
    ").run(limit=100)\n",
    "print(f\"{len(measurements)} rows extracted!\")"
   ]
  }
 ],
 "metadata": {
  "kernelspec": {
   "display_name": "cyclops",
   "language": "python",
   "name": "cyclops"
  },
  "language_info": {
   "codemirror_mode": {
    "name": "ipython",
    "version": 3
   },
   "file_extension": ".py",
   "mimetype": "text/x-python",
   "name": "python",
   "nbconvert_exporter": "python",
   "pygments_lexer": "ipython3",
   "version": "3.9.7"
  }
 },
 "nbformat": 4,
 "nbformat_minor": 5
}
