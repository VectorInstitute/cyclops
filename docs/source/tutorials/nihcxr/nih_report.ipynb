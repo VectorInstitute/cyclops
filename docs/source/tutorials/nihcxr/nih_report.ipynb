{
 "cells": [
  {
   "cell_type": "markdown",
   "id": "ea16a542",
   "metadata": {},
   "source": [
    "# Chest X-Ray Disease Classification\n",
    "\n",
    "This notebook shows chest x-ray classification on the NIH dataset using a pretrained model from the TorchXRayVision library and CyclOps to generate a model card."
   ]
  },
  {
   "cell_type": "markdown",
   "id": "985b553a",
   "metadata": {},
   "source": [
    "### Import Libraries"
   ]
  },
  {
   "cell_type": "code",
   "execution_count": 1,
   "id": "agreed-concept",
   "metadata": {},
   "outputs": [],
   "source": [
    "import shutil\n",
    "from functools import partial\n",
    "import os\n",
    "from pathlib import Path\n",
    "from datetime import date\n",
    "from dateutil.relativedelta import relativedelta\n",
    "\n",
    "import numpy as np\n",
    "import plotly.graph_objects as go\n",
    "import torch\n",
    "from datasets.combine import concatenate_datasets  # noqa: E402\n",
    "from monai.transforms import AddChanneld, Compose, Lambdad, Resized, ToDeviced\n",
    "from torchxrayvision.models import DenseNet\n",
    "\n",
    "from cyclops.data.loader import load_nihcxr\n",
    "from cyclops.data.slicer import filter_value  # noqa: E402\n",
    "from cyclops.data.slicer import SliceSpec\n",
    "from cyclops.data.utils import apply_transforms\n",
    "from cyclops.evaluate import evaluator\n",
    "from cyclops.evaluate.fairness import evaluate_fairness  # noqa: E402\n",
    "from cyclops.evaluate.metrics.factory import create_metric\n",
    "from cyclops.monitor.utils import get_device\n",
    "from cyclops.report import ModelCardReport\n",
    "from cyclops.report.utils import get_metrics_trends\n",
    "from cyclops.report.plot.classification import ClassificationPlotter\n",
    "from cyclops.utils.file import join\n",
    "\n",
    "device = get_device()"
   ]
  },
  {
   "cell_type": "markdown",
   "id": "198896c7",
   "metadata": {},
   "source": [
    "CyclOps offers a package for documentation of the model through a model card. The `ModelCardReport` class is used to populate and generate the model card as an HTML file. The model card has the following sections:\n",
    "- Model Details: This section contains descriptive metadata about the model such as the owners, version, license, etc.\n",
    "- Model Parameters: This section contains the technical details of the model such as the model architecture, training parameters, etc.\n",
    "- Considerations: This section contains descriptions of the considerations involved in developing and using the model such as the intended use, limitations, etc.\n",
    "- Quantitative Analysis: This section contains the performance metrics of the model for different sets of the data and subpopulations.\n",
    "- Explainaibility Analysis: This section contains the explainability metrics of the model.\n",
    "- Fairness Analysis: This section contains the fairness metrics of the model.\n",
    "\n",
    "We will use this to document the model development process as we go along and generate the model card at the end.\n",
    "\n",
    "`The model card tool is a work in progress and is subject to change.`"
   ]
  },
  {
   "cell_type": "code",
   "execution_count": 2,
   "id": "03edf1c0",
   "metadata": {},
   "outputs": [],
   "source": [
    "report = ModelCardReport()"
   ]
  },
  {
   "cell_type": "markdown",
   "id": "4f8e8915",
   "metadata": {},
   "source": [
    "### Load Dataset"
   ]
  },
  {
   "cell_type": "code",
   "execution_count": 3,
   "id": "6514120e",
   "metadata": {},
   "outputs": [],
   "source": [
    "data_dir = \"/mnt/data/clinical_datasets/NIHCXR\"\n",
    "nih_ds = load_nihcxr(data_dir)\n",
    "nih_ds = nih_ds.select(range(10000))\n",
    "\n",
    "transforms = Compose(\n",
    "    [\n",
    "        AddChanneld(keys=(\"features\",), allow_missing_keys=True),\n",
    "        Resized(\n",
    "            keys=(\"features\",), spatial_size=(1, 224, 224), allow_missing_keys=True\n",
    "        ),\n",
    "        Lambdad(\n",
    "            keys=(\"features\",),\n",
    "            func=lambda x: ((2 * (x / 255.0)) - 1.0) * 1024,\n",
    "            allow_missing_keys=True,\n",
    "        ),\n",
    "        ToDeviced(keys=(\"features\",), device=device, allow_missing_keys=True),\n",
    "    ]\n",
    ")\n"
   ]
  },
  {
   "cell_type": "markdown",
   "id": "c7c9172a",
   "metadata": {},
   "source": [
    "### Load Model and get Predictions"
   ]
  },
  {
   "cell_type": "code",
   "execution_count": 4,
   "id": "5f624ed4",
   "metadata": {},
   "outputs": [
    {
     "data": {
      "application/vnd.jupyter.widget-view+json": {
       "model_id": "efa2100f75e54f29a774ee9642c2e77b",
       "version_major": 2,
       "version_minor": 0
      },
      "text/plain": [
       "Map:   0%|          | 0/10000 [00:00<?, ? examples/s]"
      ]
     },
     "metadata": {},
     "output_type": "display_data"
    },
    {
     "data": {
      "application/vnd.jupyter.widget-view+json": {
       "model_id": "d5204a4e821544f997cc654e2fc0e7c6",
       "version_major": 2,
       "version_minor": 0
      },
      "text/plain": [
       "Filter:   0%|          | 0/10000 [00:00<?, ? examples/s]"
      ]
     },
     "metadata": {},
     "output_type": "display_data"
    },
    {
     "data": {
      "application/vnd.jupyter.widget-view+json": {
       "model_id": "46889a4ee92c41dda298691589bd0d57",
       "version_major": 2,
       "version_minor": 0
      },
      "text/plain": [
       "Map:   0%|          | 0/4291 [00:00<?, ? examples/s]"
      ]
     },
     "metadata": {},
     "output_type": "display_data"
    },
    {
     "data": {
      "text/plain": [
       "{'Image Index': Value(dtype='string', id=None),\n",
       " 'Finding Labels': Value(dtype='string', id=None),\n",
       " 'Follow-up #': Value(dtype='int64', id=None),\n",
       " 'Patient ID': Value(dtype='int64', id=None),\n",
       " 'Patient Age': Value(dtype='int64', id=None),\n",
       " 'Patient Gender': Value(dtype='string', id=None),\n",
       " 'View Position': Value(dtype='string', id=None),\n",
       " 'OriginalImage[Width': Value(dtype='int64', id=None),\n",
       " 'Height]': Value(dtype='int64', id=None),\n",
       " 'OriginalImagePixelSpacing[x': Value(dtype='float64', id=None),\n",
       " 'y]': Value(dtype='float64', id=None),\n",
       " 'Unnamed: 11': Value(dtype='float64', id=None),\n",
       " 'features': Image(decode=True, id=None),\n",
       " 'Atelectasis': Value(dtype='int64', id=None),\n",
       " 'Cardiomegaly': Value(dtype='int64', id=None),\n",
       " 'Consolidation': Value(dtype='int64', id=None),\n",
       " 'Edema': Value(dtype='int64', id=None),\n",
       " 'Effusion': Value(dtype='int64', id=None),\n",
       " 'Emphysema': Value(dtype='int64', id=None),\n",
       " 'Fibrosis': Value(dtype='int64', id=None),\n",
       " 'Hernia': Value(dtype='int64', id=None),\n",
       " 'Infiltration': Value(dtype='int64', id=None),\n",
       " 'Mass': Value(dtype='int64', id=None),\n",
       " 'Nodule': Value(dtype='int64', id=None),\n",
       " 'Pleural_Thickening': Value(dtype='int64', id=None),\n",
       " 'Pneumonia': Value(dtype='int64', id=None),\n",
       " 'Pneumothorax': Value(dtype='int64', id=None),\n",
       " 'timestamp': Value(dtype='timestamp[ns]', id=None),\n",
       " 'predictions': Sequence(feature=Value(dtype='float32', id=None), length=-1, id=None)}"
      ]
     },
     "execution_count": 4,
     "metadata": {},
     "output_type": "execute_result"
    }
   ],
   "source": [
    "model = DenseNet(weights=\"densenet121-res224-nih\")\n",
    "model.to(device)\n",
    "model.eval()\n",
    "\n",
    "\n",
    "def get_predictions_torch(examples):\n",
    "    images = torch.stack(examples[\"features\"]).squeeze(1)\n",
    "    preds = model(images)\n",
    "    return {\"predictions\": preds}\n",
    "\n",
    "\n",
    "with nih_ds.formatted_as(\n",
    "    \"custom\",\n",
    "    columns=[\"features\"],\n",
    "    transform=partial(apply_transforms, transforms=transforms),\n",
    "):\n",
    "    preds_ds = nih_ds.map(\n",
    "        get_predictions_torch,\n",
    "        batched=True,\n",
    "        batch_size=64,\n",
    "        remove_columns=nih_ds.column_names,\n",
    "    )\n",
    "\n",
    "    nih_ds = concatenate_datasets([nih_ds, preds_ds], axis=1)\n",
    "\n",
    "# remove any rows with No Finding == 1\n",
    "nih_ds = nih_ds.filter(\n",
    "    partial(filter_value, column_name=\"No Finding\", value=1, negate=True), batched=True\n",
    ")\n",
    "\n",
    "# remove the No Finding column and adjust the predictions to account for it\n",
    "nih_ds = nih_ds.map(\n",
    "    lambda x: {\n",
    "        \"predictions\": x[\"predictions\"][:14],\n",
    "    },\n",
    "    remove_columns=[\"No Finding\"],\n",
    ")\n",
    "nih_ds.features"
   ]
  },
  {
   "cell_type": "markdown",
   "id": "9743a047",
   "metadata": {},
   "source": [
    "### Multilabel AUROC by Pathology and Sex"
   ]
  },
  {
   "cell_type": "code",
   "execution_count": 5,
   "id": "bff27cc1",
   "metadata": {},
   "outputs": [
    {
     "data": {
      "application/vnd.jupyter.widget-view+json": {
       "model_id": "b6567ed9c2b245f3ba9bce9f440eae8e",
       "version_major": 2,
       "version_minor": 0
      },
      "text/plain": [
       "Filter -> Patient Gender:M:   0%|          | 0/4291 [00:00<?, ? examples/s]"
      ]
     },
     "metadata": {},
     "output_type": "display_data"
    },
    {
     "data": {
      "application/vnd.jupyter.widget-view+json": {
       "model_id": "bce0ce16d3d04e0484e66739c32b3f53",
       "version_major": 2,
       "version_minor": 0
      },
      "text/plain": [
       "Filter -> Patient Gender:F:   0%|          | 0/4291 [00:00<?, ? examples/s]"
      ]
     },
     "metadata": {},
     "output_type": "display_data"
    },
    {
     "data": {
      "application/vnd.jupyter.widget-view+json": {
       "model_id": "31e15310fbcb4b739322f208ae15881a",
       "version_major": 2,
       "version_minor": 0
      },
      "text/plain": [
       "Filter -> overall:   0%|          | 0/4291 [00:00<?, ? examples/s]"
      ]
     },
     "metadata": {},
     "output_type": "display_data"
    },
    {
     "data": {
      "application/vnd.plotly.v1+json": {
       "config": {
        "plotlyServerURL": "https://plot.ly"
       },
       "data": [
        {
         "marker": {
          "line": {
           "width": 2
          },
          "size": 12
         },
         "mode": "markers",
         "name": "Patient Gender:M",
         "type": "scatter",
         "x": [
          "Atelectasis",
          "Consolidation",
          "Infiltration",
          "Pneumothorax",
          "Edema",
          "Emphysema",
          "Fibrosis",
          "Effusion",
          "Pneumonia",
          "Pleural_Thickening",
          "Cardiomegaly",
          "Nodule",
          "Mass",
          "Hernia"
         ],
         "y": [
          0.6584084092694648,
          0.6149387482720816,
          0.5622106108395498,
          0.6366221275181562,
          0.7901529298588122,
          0.6160505496044248,
          0.6369294287085935,
          0.7499983621400148,
          0.498442209782416,
          0.600349905385376,
          0.8622447495793433,
          0.5086219376458052,
          0.6512678878745324,
          0.7089382940108893
         ]
        },
        {
         "marker": {
          "line": {
           "width": 2
          },
          "size": 12
         },
         "mode": "markers",
         "name": "Patient Gender:F",
         "type": "scatter",
         "x": [
          "Atelectasis",
          "Consolidation",
          "Infiltration",
          "Pneumothorax",
          "Edema",
          "Emphysema",
          "Fibrosis",
          "Effusion",
          "Pneumonia",
          "Pleural_Thickening",
          "Cardiomegaly",
          "Nodule",
          "Mass",
          "Hernia"
         ],
         "y": [
          0.6503294918690918,
          0.6577930065014935,
          0.5823114037047904,
          0.6050874135201949,
          0.7256870061963008,
          0.5884457831325302,
          0.6500373654339442,
          0.7371844002137671,
          0.5186635533719253,
          0.616626972883147,
          0.8255076467405235,
          0.5297842477670804,
          0.7129616431984757,
          0.823798968748035
         ]
        },
        {
         "marker": {
          "line": {
           "width": 2
          },
          "size": 12
         },
         "mode": "markers",
         "name": "Overall",
         "type": "scatter",
         "x": [
          "Atelectasis",
          "Consolidation",
          "Infiltration",
          "Pneumothorax",
          "Edema",
          "Emphysema",
          "Fibrosis",
          "Effusion",
          "Pneumonia",
          "Pleural_Thickening",
          "Cardiomegaly",
          "Nodule",
          "Mass",
          "Hernia"
         ],
         "y": [
          0.6561137529766451,
          0.6358002359927907,
          0.5729261819356563,
          0.6218653360402256,
          0.7571337863323193,
          0.6089108030284501,
          0.6464397131187085,
          0.744960394723467,
          0.5075205860335793,
          0.6049854532759222,
          0.844212394554414,
          0.5186107930129246,
          0.6812147270791405,
          0.8131780343716434
         ]
        }
       ],
       "layout": {
        "height": 768,
        "paper_bgcolor": "rgba(0,0,0,0)",
        "plot_bgcolor": "rgba(0,0,0,0)",
        "template": {
         "data": {
          "bar": [
           {
            "error_x": {
             "color": "#2a3f5f"
            },
            "error_y": {
             "color": "#2a3f5f"
            },
            "marker": {
             "line": {
              "color": "#E5ECF6",
              "width": 0.5
             },
             "pattern": {
              "fillmode": "overlay",
              "size": 10,
              "solidity": 0.2
             }
            },
            "type": "bar"
           }
          ],
          "barpolar": [
           {
            "marker": {
             "line": {
              "color": "#E5ECF6",
              "width": 0.5
             },
             "pattern": {
              "fillmode": "overlay",
              "size": 10,
              "solidity": 0.2
             }
            },
            "type": "barpolar"
           }
          ],
          "carpet": [
           {
            "aaxis": {
             "endlinecolor": "#2a3f5f",
             "gridcolor": "white",
             "linecolor": "white",
             "minorgridcolor": "white",
             "startlinecolor": "#2a3f5f"
            },
            "baxis": {
             "endlinecolor": "#2a3f5f",
             "gridcolor": "white",
             "linecolor": "white",
             "minorgridcolor": "white",
             "startlinecolor": "#2a3f5f"
            },
            "type": "carpet"
           }
          ],
          "choropleth": [
           {
            "colorbar": {
             "outlinewidth": 0,
             "ticks": ""
            },
            "type": "choropleth"
           }
          ],
          "contour": [
           {
            "colorbar": {
             "outlinewidth": 0,
             "ticks": ""
            },
            "colorscale": [
             [
              0,
              "#0d0887"
             ],
             [
              0.1111111111111111,
              "#46039f"
             ],
             [
              0.2222222222222222,
              "#7201a8"
             ],
             [
              0.3333333333333333,
              "#9c179e"
             ],
             [
              0.4444444444444444,
              "#bd3786"
             ],
             [
              0.5555555555555556,
              "#d8576b"
             ],
             [
              0.6666666666666666,
              "#ed7953"
             ],
             [
              0.7777777777777778,
              "#fb9f3a"
             ],
             [
              0.8888888888888888,
              "#fdca26"
             ],
             [
              1,
              "#f0f921"
             ]
            ],
            "type": "contour"
           }
          ],
          "contourcarpet": [
           {
            "colorbar": {
             "outlinewidth": 0,
             "ticks": ""
            },
            "type": "contourcarpet"
           }
          ],
          "heatmap": [
           {
            "colorbar": {
             "outlinewidth": 0,
             "ticks": ""
            },
            "colorscale": [
             [
              0,
              "#0d0887"
             ],
             [
              0.1111111111111111,
              "#46039f"
             ],
             [
              0.2222222222222222,
              "#7201a8"
             ],
             [
              0.3333333333333333,
              "#9c179e"
             ],
             [
              0.4444444444444444,
              "#bd3786"
             ],
             [
              0.5555555555555556,
              "#d8576b"
             ],
             [
              0.6666666666666666,
              "#ed7953"
             ],
             [
              0.7777777777777778,
              "#fb9f3a"
             ],
             [
              0.8888888888888888,
              "#fdca26"
             ],
             [
              1,
              "#f0f921"
             ]
            ],
            "type": "heatmap"
           }
          ],
          "heatmapgl": [
           {
            "colorbar": {
             "outlinewidth": 0,
             "ticks": ""
            },
            "colorscale": [
             [
              0,
              "#0d0887"
             ],
             [
              0.1111111111111111,
              "#46039f"
             ],
             [
              0.2222222222222222,
              "#7201a8"
             ],
             [
              0.3333333333333333,
              "#9c179e"
             ],
             [
              0.4444444444444444,
              "#bd3786"
             ],
             [
              0.5555555555555556,
              "#d8576b"
             ],
             [
              0.6666666666666666,
              "#ed7953"
             ],
             [
              0.7777777777777778,
              "#fb9f3a"
             ],
             [
              0.8888888888888888,
              "#fdca26"
             ],
             [
              1,
              "#f0f921"
             ]
            ],
            "type": "heatmapgl"
           }
          ],
          "histogram": [
           {
            "marker": {
             "pattern": {
              "fillmode": "overlay",
              "size": 10,
              "solidity": 0.2
             }
            },
            "type": "histogram"
           }
          ],
          "histogram2d": [
           {
            "colorbar": {
             "outlinewidth": 0,
             "ticks": ""
            },
            "colorscale": [
             [
              0,
              "#0d0887"
             ],
             [
              0.1111111111111111,
              "#46039f"
             ],
             [
              0.2222222222222222,
              "#7201a8"
             ],
             [
              0.3333333333333333,
              "#9c179e"
             ],
             [
              0.4444444444444444,
              "#bd3786"
             ],
             [
              0.5555555555555556,
              "#d8576b"
             ],
             [
              0.6666666666666666,
              "#ed7953"
             ],
             [
              0.7777777777777778,
              "#fb9f3a"
             ],
             [
              0.8888888888888888,
              "#fdca26"
             ],
             [
              1,
              "#f0f921"
             ]
            ],
            "type": "histogram2d"
           }
          ],
          "histogram2dcontour": [
           {
            "colorbar": {
             "outlinewidth": 0,
             "ticks": ""
            },
            "colorscale": [
             [
              0,
              "#0d0887"
             ],
             [
              0.1111111111111111,
              "#46039f"
             ],
             [
              0.2222222222222222,
              "#7201a8"
             ],
             [
              0.3333333333333333,
              "#9c179e"
             ],
             [
              0.4444444444444444,
              "#bd3786"
             ],
             [
              0.5555555555555556,
              "#d8576b"
             ],
             [
              0.6666666666666666,
              "#ed7953"
             ],
             [
              0.7777777777777778,
              "#fb9f3a"
             ],
             [
              0.8888888888888888,
              "#fdca26"
             ],
             [
              1,
              "#f0f921"
             ]
            ],
            "type": "histogram2dcontour"
           }
          ],
          "mesh3d": [
           {
            "colorbar": {
             "outlinewidth": 0,
             "ticks": ""
            },
            "type": "mesh3d"
           }
          ],
          "parcoords": [
           {
            "line": {
             "colorbar": {
              "outlinewidth": 0,
              "ticks": ""
             }
            },
            "type": "parcoords"
           }
          ],
          "pie": [
           {
            "automargin": true,
            "type": "pie"
           }
          ],
          "scatter": [
           {
            "fillpattern": {
             "fillmode": "overlay",
             "size": 10,
             "solidity": 0.2
            },
            "type": "scatter"
           }
          ],
          "scatter3d": [
           {
            "line": {
             "colorbar": {
              "outlinewidth": 0,
              "ticks": ""
             }
            },
            "marker": {
             "colorbar": {
              "outlinewidth": 0,
              "ticks": ""
             }
            },
            "type": "scatter3d"
           }
          ],
          "scattercarpet": [
           {
            "marker": {
             "colorbar": {
              "outlinewidth": 0,
              "ticks": ""
             }
            },
            "type": "scattercarpet"
           }
          ],
          "scattergeo": [
           {
            "marker": {
             "colorbar": {
              "outlinewidth": 0,
              "ticks": ""
             }
            },
            "type": "scattergeo"
           }
          ],
          "scattergl": [
           {
            "marker": {
             "colorbar": {
              "outlinewidth": 0,
              "ticks": ""
             }
            },
            "type": "scattergl"
           }
          ],
          "scattermapbox": [
           {
            "marker": {
             "colorbar": {
              "outlinewidth": 0,
              "ticks": ""
             }
            },
            "type": "scattermapbox"
           }
          ],
          "scatterpolar": [
           {
            "marker": {
             "colorbar": {
              "outlinewidth": 0,
              "ticks": ""
             }
            },
            "type": "scatterpolar"
           }
          ],
          "scatterpolargl": [
           {
            "marker": {
             "colorbar": {
              "outlinewidth": 0,
              "ticks": ""
             }
            },
            "type": "scatterpolargl"
           }
          ],
          "scatterternary": [
           {
            "marker": {
             "colorbar": {
              "outlinewidth": 0,
              "ticks": ""
             }
            },
            "type": "scatterternary"
           }
          ],
          "surface": [
           {
            "colorbar": {
             "outlinewidth": 0,
             "ticks": ""
            },
            "colorscale": [
             [
              0,
              "#0d0887"
             ],
             [
              0.1111111111111111,
              "#46039f"
             ],
             [
              0.2222222222222222,
              "#7201a8"
             ],
             [
              0.3333333333333333,
              "#9c179e"
             ],
             [
              0.4444444444444444,
              "#bd3786"
             ],
             [
              0.5555555555555556,
              "#d8576b"
             ],
             [
              0.6666666666666666,
              "#ed7953"
             ],
             [
              0.7777777777777778,
              "#fb9f3a"
             ],
             [
              0.8888888888888888,
              "#fdca26"
             ],
             [
              1,
              "#f0f921"
             ]
            ],
            "type": "surface"
           }
          ],
          "table": [
           {
            "cells": {
             "fill": {
              "color": "#EBF0F8"
             },
             "line": {
              "color": "white"
             }
            },
            "header": {
             "fill": {
              "color": "#C8D4E3"
             },
             "line": {
              "color": "white"
             }
            },
            "type": "table"
           }
          ]
         },
         "layout": {
          "annotationdefaults": {
           "arrowcolor": "#2a3f5f",
           "arrowhead": 0,
           "arrowwidth": 1
          },
          "autotypenumbers": "strict",
          "coloraxis": {
           "colorbar": {
            "outlinewidth": 0,
            "ticks": ""
           }
          },
          "colorscale": {
           "diverging": [
            [
             0,
             "#8e0152"
            ],
            [
             0.1,
             "#c51b7d"
            ],
            [
             0.2,
             "#de77ae"
            ],
            [
             0.3,
             "#f1b6da"
            ],
            [
             0.4,
             "#fde0ef"
            ],
            [
             0.5,
             "#f7f7f7"
            ],
            [
             0.6,
             "#e6f5d0"
            ],
            [
             0.7,
             "#b8e186"
            ],
            [
             0.8,
             "#7fbc41"
            ],
            [
             0.9,
             "#4d9221"
            ],
            [
             1,
             "#276419"
            ]
           ],
           "sequential": [
            [
             0,
             "#0d0887"
            ],
            [
             0.1111111111111111,
             "#46039f"
            ],
            [
             0.2222222222222222,
             "#7201a8"
            ],
            [
             0.3333333333333333,
             "#9c179e"
            ],
            [
             0.4444444444444444,
             "#bd3786"
            ],
            [
             0.5555555555555556,
             "#d8576b"
            ],
            [
             0.6666666666666666,
             "#ed7953"
            ],
            [
             0.7777777777777778,
             "#fb9f3a"
            ],
            [
             0.8888888888888888,
             "#fdca26"
            ],
            [
             1,
             "#f0f921"
            ]
           ],
           "sequentialminus": [
            [
             0,
             "#0d0887"
            ],
            [
             0.1111111111111111,
             "#46039f"
            ],
            [
             0.2222222222222222,
             "#7201a8"
            ],
            [
             0.3333333333333333,
             "#9c179e"
            ],
            [
             0.4444444444444444,
             "#bd3786"
            ],
            [
             0.5555555555555556,
             "#d8576b"
            ],
            [
             0.6666666666666666,
             "#ed7953"
            ],
            [
             0.7777777777777778,
             "#fb9f3a"
            ],
            [
             0.8888888888888888,
             "#fdca26"
            ],
            [
             1,
             "#f0f921"
            ]
           ]
          },
          "colorway": [
           "#636efa",
           "#EF553B",
           "#00cc96",
           "#ab63fa",
           "#FFA15A",
           "#19d3f3",
           "#FF6692",
           "#B6E880",
           "#FF97FF",
           "#FECB52"
          ],
          "font": {
           "color": "#2a3f5f"
          },
          "geo": {
           "bgcolor": "white",
           "lakecolor": "white",
           "landcolor": "#E5ECF6",
           "showlakes": true,
           "showland": true,
           "subunitcolor": "white"
          },
          "hoverlabel": {
           "align": "left"
          },
          "hovermode": "closest",
          "mapbox": {
           "style": "light"
          },
          "paper_bgcolor": "white",
          "plot_bgcolor": "#E5ECF6",
          "polar": {
           "angularaxis": {
            "gridcolor": "white",
            "linecolor": "white",
            "ticks": ""
           },
           "bgcolor": "#E5ECF6",
           "radialaxis": {
            "gridcolor": "white",
            "linecolor": "white",
            "ticks": ""
           }
          },
          "scene": {
           "xaxis": {
            "backgroundcolor": "#E5ECF6",
            "gridcolor": "white",
            "gridwidth": 2,
            "linecolor": "white",
            "showbackground": true,
            "ticks": "",
            "zerolinecolor": "white"
           },
           "yaxis": {
            "backgroundcolor": "#E5ECF6",
            "gridcolor": "white",
            "gridwidth": 2,
            "linecolor": "white",
            "showbackground": true,
            "ticks": "",
            "zerolinecolor": "white"
           },
           "zaxis": {
            "backgroundcolor": "#E5ECF6",
            "gridcolor": "white",
            "gridwidth": 2,
            "linecolor": "white",
            "showbackground": true,
            "ticks": "",
            "zerolinecolor": "white"
           }
          },
          "shapedefaults": {
           "line": {
            "color": "#2a3f5f"
           }
          },
          "ternary": {
           "aaxis": {
            "gridcolor": "white",
            "linecolor": "white",
            "ticks": ""
           },
           "baxis": {
            "gridcolor": "white",
            "linecolor": "white",
            "ticks": ""
           },
           "bgcolor": "#E5ECF6",
           "caxis": {
            "gridcolor": "white",
            "linecolor": "white",
            "ticks": ""
           }
          },
          "title": {
           "x": 0.05
          },
          "xaxis": {
           "automargin": true,
           "gridcolor": "white",
           "linecolor": "white",
           "ticks": "",
           "title": {
            "standoff": 15
           },
           "zerolinecolor": "white",
           "zerolinewidth": 2
          },
          "yaxis": {
           "automargin": true,
           "gridcolor": "white",
           "linecolor": "white",
           "ticks": "",
           "title": {
            "standoff": 15
           },
           "zerolinecolor": "white",
           "zerolinewidth": 2
          }
         }
        },
        "title": {
         "font": {
          "size": 20
         },
         "text": "Multilabel AUROC by Pathology and Sex",
         "x": 0.5
        },
        "width": 1024,
        "xaxis": {
         "title": {
          "text": "Pathology"
         }
        },
        "yaxis": {
         "title": {
          "text": "Multilabel AUROC"
         }
        }
       }
      }
     },
     "metadata": {},
     "output_type": "display_data"
    }
   ],
   "source": [
    "pathologies = model.pathologies[:14]\n",
    "\n",
    "auroc = create_metric(\n",
    "    metric_name=\"auroc\",\n",
    "    task=\"multilabel\",\n",
    "    num_labels=len(pathologies),\n",
    "    thresholds=np.arange(0, 1, 0.01),\n",
    ")\n",
    "\n",
    "# define the slices\n",
    "slices = [\n",
    "    {\"Patient Gender\": {\"value\": \"M\"}},\n",
    "    {\"Patient Gender\": {\"value\": \"F\"}},\n",
    "]\n",
    "\n",
    "# create the slice functions\n",
    "slice_spec = SliceSpec(spec_list=slices)\n",
    "\n",
    "nih_eval_results_gender = evaluator.evaluate(\n",
    "    dataset=nih_ds,\n",
    "    metrics=auroc,\n",
    "    feature_columns=\"features\",\n",
    "    target_columns=pathologies,\n",
    "    prediction_column_prefix=\"predictions\",\n",
    "    remove_columns=\"features\",\n",
    "    slice_spec=slice_spec,\n",
    ")\n",
    "\n",
    "# plot the results\n",
    "plots = []\n",
    "\n",
    "for slice_name, slice_results in nih_eval_results_gender.items():\n",
    "    plots.append(\n",
    "        go.Scatter(\n",
    "            x=pathologies,\n",
    "            y=slice_results[\"MultilabelAUROC\"],\n",
    "            name=\"Overall\" if slice_name == \"overall\" else slice_name,\n",
    "            mode=\"markers\",\n",
    "        )\n",
    "        \n",
    "    )\n",
    "\n",
    "layout = go.Layout(\n",
    "    paper_bgcolor=\"rgba(0,0,0,0)\",\n",
    "    plot_bgcolor=\"rgba(0,0,0,0)\",\n",
    ")\n",
    "\n",
    "perf_metric_gender = go.Figure(data=plots, layout=layout)\n",
    "perf_metric_gender.update_layout(\n",
    "    title=\"Multilabel AUROC by Pathology and Sex\",\n",
    "    title_x=0.5,\n",
    "    title_font_size=20,\n",
    "    xaxis_title=\"Pathology\",\n",
    "    yaxis_title=\"Multilabel AUROC\",\n",
    "    width=1024,\n",
    "    height=768,\n",
    ")\n",
    "perf_metric_gender.update_traces(\n",
    "    marker=dict(size=12, line=dict(width=2)),\n",
    "    selector=dict(mode=\"markers\"),\n",
    ")"
   ]
  },
  {
   "cell_type": "markdown",
   "id": "88448ced",
   "metadata": {},
   "source": [
    "### Multilabel AUROC by Pathology and Age"
   ]
  },
  {
   "cell_type": "code",
   "execution_count": 6,
   "id": "8c38ef9e",
   "metadata": {},
   "outputs": [
    {
     "data": {
      "application/vnd.jupyter.widget-view+json": {
       "model_id": "fd1c18677c3b488e8aa8f189c24e2767",
       "version_major": 2,
       "version_minor": 0
      },
      "text/plain": [
       "Filter -> Patient Age:[19 - 35]:   0%|          | 0/4291 [00:00<?, ? examples/s]"
      ]
     },
     "metadata": {},
     "output_type": "display_data"
    },
    {
     "data": {
      "application/vnd.jupyter.widget-view+json": {
       "model_id": "632786eab24444bca736c5867ae92dff",
       "version_major": 2,
       "version_minor": 0
      },
      "text/plain": [
       "Filter -> Patient Age:[35 - 65]:   0%|          | 0/4291 [00:00<?, ? examples/s]"
      ]
     },
     "metadata": {},
     "output_type": "display_data"
    },
    {
     "data": {
      "application/vnd.jupyter.widget-view+json": {
       "model_id": "28d2b89d468d49aca4bd9bd99dc71b4d",
       "version_major": 2,
       "version_minor": 0
      },
      "text/plain": [
       "Filter -> Patient Age:[65 - 100]:   0%|          | 0/4291 [00:00<?, ? examples/s]"
      ]
     },
     "metadata": {},
     "output_type": "display_data"
    },
    {
     "data": {
      "application/vnd.jupyter.widget-view+json": {
       "model_id": "91036ddac5974377a4b25873058fd3f4",
       "version_major": 2,
       "version_minor": 0
      },
      "text/plain": [
       "Filter -> overall:   0%|          | 0/4291 [00:00<?, ? examples/s]"
      ]
     },
     "metadata": {},
     "output_type": "display_data"
    },
    {
     "data": {
      "application/vnd.plotly.v1+json": {
       "config": {
        "plotlyServerURL": "https://plot.ly"
       },
       "data": [
        {
         "marker": {
          "line": {
           "width": 2
          },
          "size": 12
         },
         "mode": "markers",
         "name": "Patient Age:[19 - 35]",
         "type": "scatter",
         "x": [
          "Atelectasis",
          "Consolidation",
          "Infiltration",
          "Pneumothorax",
          "Edema",
          "Emphysema",
          "Fibrosis",
          "Effusion",
          "Pneumonia",
          "Pleural_Thickening",
          "Cardiomegaly",
          "Nodule",
          "Mass",
          "Hernia"
         ],
         "y": [
          0.6641849529780564,
          0.5514711304476071,
          0.6122542498152254,
          0.6115001002862717,
          0.7737418831168831,
          0.48229402261712445,
          0.5728562217923919,
          0.7345794392523365,
          0.5461311329531207,
          0.6926733780760627,
          0.8549596122778675,
          0.4896752015173068,
          0.5864644197655071,
          0.8777258566978193
         ]
        },
        {
         "marker": {
          "line": {
           "width": 2
          },
          "size": 12
         },
         "mode": "markers",
         "name": "Patient Age:[35 - 65]",
         "type": "scatter",
         "x": [
          "Atelectasis",
          "Consolidation",
          "Infiltration",
          "Pneumothorax",
          "Edema",
          "Emphysema",
          "Fibrosis",
          "Effusion",
          "Pneumonia",
          "Pleural_Thickening",
          "Cardiomegaly",
          "Nodule",
          "Mass",
          "Hernia"
         ],
         "y": [
          0.6602428547694282,
          0.6586514318563254,
          0.5556803280642777,
          0.6070412517780939,
          0.7603991596638656,
          0.630839439183429,
          0.6679898892936339,
          0.7458095559140561,
          0.5136005499139316,
          0.5879147433621336,
          0.84375,
          0.5127799625180498,
          0.6999072868584052,
          0.7673976508927964
         ]
        },
        {
         "marker": {
          "line": {
           "width": 2
          },
          "size": 12
         },
         "mode": "markers",
         "name": "Patient Age:[65 - 100]",
         "type": "scatter",
         "x": [
          "Atelectasis",
          "Consolidation",
          "Infiltration",
          "Pneumothorax",
          "Edema",
          "Emphysema",
          "Fibrosis",
          "Effusion",
          "Pneumonia",
          "Pleural_Thickening",
          "Cardiomegaly",
          "Nodule",
          "Mass",
          "Hernia"
         ],
         "y": [
          0.6569520851818988,
          0.7211426976424615,
          0.5892358889031103,
          0.668226543864299,
          0.7519786096256684,
          0.5825922131147541,
          0.566464121612917,
          0.7475801309917115,
          0.517846889952153,
          0.5728418532601042,
          0.8630170081175107,
          0.5336093892897064,
          0.7183104452767374,
          0.7889644080107916
         ]
        },
        {
         "marker": {
          "line": {
           "width": 2
          },
          "size": 12
         },
         "mode": "markers",
         "name": "Overall",
         "type": "scatter",
         "x": [
          "Atelectasis",
          "Consolidation",
          "Infiltration",
          "Pneumothorax",
          "Edema",
          "Emphysema",
          "Fibrosis",
          "Effusion",
          "Pneumonia",
          "Pleural_Thickening",
          "Cardiomegaly",
          "Nodule",
          "Mass",
          "Hernia"
         ],
         "y": [
          0.6561137529766451,
          0.6358002359927907,
          0.5729261819356563,
          0.6218653360402256,
          0.7571337863323193,
          0.6089108030284501,
          0.6464397131187085,
          0.744960394723467,
          0.5075205860335793,
          0.6049854532759222,
          0.844212394554414,
          0.5186107930129246,
          0.6812147270791405,
          0.8131780343716434
         ]
        }
       ],
       "layout": {
        "height": 768,
        "paper_bgcolor": "rgba(0,0,0,0)",
        "plot_bgcolor": "rgba(0,0,0,0)",
        "template": {
         "data": {
          "bar": [
           {
            "error_x": {
             "color": "#2a3f5f"
            },
            "error_y": {
             "color": "#2a3f5f"
            },
            "marker": {
             "line": {
              "color": "#E5ECF6",
              "width": 0.5
             },
             "pattern": {
              "fillmode": "overlay",
              "size": 10,
              "solidity": 0.2
             }
            },
            "type": "bar"
           }
          ],
          "barpolar": [
           {
            "marker": {
             "line": {
              "color": "#E5ECF6",
              "width": 0.5
             },
             "pattern": {
              "fillmode": "overlay",
              "size": 10,
              "solidity": 0.2
             }
            },
            "type": "barpolar"
           }
          ],
          "carpet": [
           {
            "aaxis": {
             "endlinecolor": "#2a3f5f",
             "gridcolor": "white",
             "linecolor": "white",
             "minorgridcolor": "white",
             "startlinecolor": "#2a3f5f"
            },
            "baxis": {
             "endlinecolor": "#2a3f5f",
             "gridcolor": "white",
             "linecolor": "white",
             "minorgridcolor": "white",
             "startlinecolor": "#2a3f5f"
            },
            "type": "carpet"
           }
          ],
          "choropleth": [
           {
            "colorbar": {
             "outlinewidth": 0,
             "ticks": ""
            },
            "type": "choropleth"
           }
          ],
          "contour": [
           {
            "colorbar": {
             "outlinewidth": 0,
             "ticks": ""
            },
            "colorscale": [
             [
              0,
              "#0d0887"
             ],
             [
              0.1111111111111111,
              "#46039f"
             ],
             [
              0.2222222222222222,
              "#7201a8"
             ],
             [
              0.3333333333333333,
              "#9c179e"
             ],
             [
              0.4444444444444444,
              "#bd3786"
             ],
             [
              0.5555555555555556,
              "#d8576b"
             ],
             [
              0.6666666666666666,
              "#ed7953"
             ],
             [
              0.7777777777777778,
              "#fb9f3a"
             ],
             [
              0.8888888888888888,
              "#fdca26"
             ],
             [
              1,
              "#f0f921"
             ]
            ],
            "type": "contour"
           }
          ],
          "contourcarpet": [
           {
            "colorbar": {
             "outlinewidth": 0,
             "ticks": ""
            },
            "type": "contourcarpet"
           }
          ],
          "heatmap": [
           {
            "colorbar": {
             "outlinewidth": 0,
             "ticks": ""
            },
            "colorscale": [
             [
              0,
              "#0d0887"
             ],
             [
              0.1111111111111111,
              "#46039f"
             ],
             [
              0.2222222222222222,
              "#7201a8"
             ],
             [
              0.3333333333333333,
              "#9c179e"
             ],
             [
              0.4444444444444444,
              "#bd3786"
             ],
             [
              0.5555555555555556,
              "#d8576b"
             ],
             [
              0.6666666666666666,
              "#ed7953"
             ],
             [
              0.7777777777777778,
              "#fb9f3a"
             ],
             [
              0.8888888888888888,
              "#fdca26"
             ],
             [
              1,
              "#f0f921"
             ]
            ],
            "type": "heatmap"
           }
          ],
          "heatmapgl": [
           {
            "colorbar": {
             "outlinewidth": 0,
             "ticks": ""
            },
            "colorscale": [
             [
              0,
              "#0d0887"
             ],
             [
              0.1111111111111111,
              "#46039f"
             ],
             [
              0.2222222222222222,
              "#7201a8"
             ],
             [
              0.3333333333333333,
              "#9c179e"
             ],
             [
              0.4444444444444444,
              "#bd3786"
             ],
             [
              0.5555555555555556,
              "#d8576b"
             ],
             [
              0.6666666666666666,
              "#ed7953"
             ],
             [
              0.7777777777777778,
              "#fb9f3a"
             ],
             [
              0.8888888888888888,
              "#fdca26"
             ],
             [
              1,
              "#f0f921"
             ]
            ],
            "type": "heatmapgl"
           }
          ],
          "histogram": [
           {
            "marker": {
             "pattern": {
              "fillmode": "overlay",
              "size": 10,
              "solidity": 0.2
             }
            },
            "type": "histogram"
           }
          ],
          "histogram2d": [
           {
            "colorbar": {
             "outlinewidth": 0,
             "ticks": ""
            },
            "colorscale": [
             [
              0,
              "#0d0887"
             ],
             [
              0.1111111111111111,
              "#46039f"
             ],
             [
              0.2222222222222222,
              "#7201a8"
             ],
             [
              0.3333333333333333,
              "#9c179e"
             ],
             [
              0.4444444444444444,
              "#bd3786"
             ],
             [
              0.5555555555555556,
              "#d8576b"
             ],
             [
              0.6666666666666666,
              "#ed7953"
             ],
             [
              0.7777777777777778,
              "#fb9f3a"
             ],
             [
              0.8888888888888888,
              "#fdca26"
             ],
             [
              1,
              "#f0f921"
             ]
            ],
            "type": "histogram2d"
           }
          ],
          "histogram2dcontour": [
           {
            "colorbar": {
             "outlinewidth": 0,
             "ticks": ""
            },
            "colorscale": [
             [
              0,
              "#0d0887"
             ],
             [
              0.1111111111111111,
              "#46039f"
             ],
             [
              0.2222222222222222,
              "#7201a8"
             ],
             [
              0.3333333333333333,
              "#9c179e"
             ],
             [
              0.4444444444444444,
              "#bd3786"
             ],
             [
              0.5555555555555556,
              "#d8576b"
             ],
             [
              0.6666666666666666,
              "#ed7953"
             ],
             [
              0.7777777777777778,
              "#fb9f3a"
             ],
             [
              0.8888888888888888,
              "#fdca26"
             ],
             [
              1,
              "#f0f921"
             ]
            ],
            "type": "histogram2dcontour"
           }
          ],
          "mesh3d": [
           {
            "colorbar": {
             "outlinewidth": 0,
             "ticks": ""
            },
            "type": "mesh3d"
           }
          ],
          "parcoords": [
           {
            "line": {
             "colorbar": {
              "outlinewidth": 0,
              "ticks": ""
             }
            },
            "type": "parcoords"
           }
          ],
          "pie": [
           {
            "automargin": true,
            "type": "pie"
           }
          ],
          "scatter": [
           {
            "fillpattern": {
             "fillmode": "overlay",
             "size": 10,
             "solidity": 0.2
            },
            "type": "scatter"
           }
          ],
          "scatter3d": [
           {
            "line": {
             "colorbar": {
              "outlinewidth": 0,
              "ticks": ""
             }
            },
            "marker": {
             "colorbar": {
              "outlinewidth": 0,
              "ticks": ""
             }
            },
            "type": "scatter3d"
           }
          ],
          "scattercarpet": [
           {
            "marker": {
             "colorbar": {
              "outlinewidth": 0,
              "ticks": ""
             }
            },
            "type": "scattercarpet"
           }
          ],
          "scattergeo": [
           {
            "marker": {
             "colorbar": {
              "outlinewidth": 0,
              "ticks": ""
             }
            },
            "type": "scattergeo"
           }
          ],
          "scattergl": [
           {
            "marker": {
             "colorbar": {
              "outlinewidth": 0,
              "ticks": ""
             }
            },
            "type": "scattergl"
           }
          ],
          "scattermapbox": [
           {
            "marker": {
             "colorbar": {
              "outlinewidth": 0,
              "ticks": ""
             }
            },
            "type": "scattermapbox"
           }
          ],
          "scatterpolar": [
           {
            "marker": {
             "colorbar": {
              "outlinewidth": 0,
              "ticks": ""
             }
            },
            "type": "scatterpolar"
           }
          ],
          "scatterpolargl": [
           {
            "marker": {
             "colorbar": {
              "outlinewidth": 0,
              "ticks": ""
             }
            },
            "type": "scatterpolargl"
           }
          ],
          "scatterternary": [
           {
            "marker": {
             "colorbar": {
              "outlinewidth": 0,
              "ticks": ""
             }
            },
            "type": "scatterternary"
           }
          ],
          "surface": [
           {
            "colorbar": {
             "outlinewidth": 0,
             "ticks": ""
            },
            "colorscale": [
             [
              0,
              "#0d0887"
             ],
             [
              0.1111111111111111,
              "#46039f"
             ],
             [
              0.2222222222222222,
              "#7201a8"
             ],
             [
              0.3333333333333333,
              "#9c179e"
             ],
             [
              0.4444444444444444,
              "#bd3786"
             ],
             [
              0.5555555555555556,
              "#d8576b"
             ],
             [
              0.6666666666666666,
              "#ed7953"
             ],
             [
              0.7777777777777778,
              "#fb9f3a"
             ],
             [
              0.8888888888888888,
              "#fdca26"
             ],
             [
              1,
              "#f0f921"
             ]
            ],
            "type": "surface"
           }
          ],
          "table": [
           {
            "cells": {
             "fill": {
              "color": "#EBF0F8"
             },
             "line": {
              "color": "white"
             }
            },
            "header": {
             "fill": {
              "color": "#C8D4E3"
             },
             "line": {
              "color": "white"
             }
            },
            "type": "table"
           }
          ]
         },
         "layout": {
          "annotationdefaults": {
           "arrowcolor": "#2a3f5f",
           "arrowhead": 0,
           "arrowwidth": 1
          },
          "autotypenumbers": "strict",
          "coloraxis": {
           "colorbar": {
            "outlinewidth": 0,
            "ticks": ""
           }
          },
          "colorscale": {
           "diverging": [
            [
             0,
             "#8e0152"
            ],
            [
             0.1,
             "#c51b7d"
            ],
            [
             0.2,
             "#de77ae"
            ],
            [
             0.3,
             "#f1b6da"
            ],
            [
             0.4,
             "#fde0ef"
            ],
            [
             0.5,
             "#f7f7f7"
            ],
            [
             0.6,
             "#e6f5d0"
            ],
            [
             0.7,
             "#b8e186"
            ],
            [
             0.8,
             "#7fbc41"
            ],
            [
             0.9,
             "#4d9221"
            ],
            [
             1,
             "#276419"
            ]
           ],
           "sequential": [
            [
             0,
             "#0d0887"
            ],
            [
             0.1111111111111111,
             "#46039f"
            ],
            [
             0.2222222222222222,
             "#7201a8"
            ],
            [
             0.3333333333333333,
             "#9c179e"
            ],
            [
             0.4444444444444444,
             "#bd3786"
            ],
            [
             0.5555555555555556,
             "#d8576b"
            ],
            [
             0.6666666666666666,
             "#ed7953"
            ],
            [
             0.7777777777777778,
             "#fb9f3a"
            ],
            [
             0.8888888888888888,
             "#fdca26"
            ],
            [
             1,
             "#f0f921"
            ]
           ],
           "sequentialminus": [
            [
             0,
             "#0d0887"
            ],
            [
             0.1111111111111111,
             "#46039f"
            ],
            [
             0.2222222222222222,
             "#7201a8"
            ],
            [
             0.3333333333333333,
             "#9c179e"
            ],
            [
             0.4444444444444444,
             "#bd3786"
            ],
            [
             0.5555555555555556,
             "#d8576b"
            ],
            [
             0.6666666666666666,
             "#ed7953"
            ],
            [
             0.7777777777777778,
             "#fb9f3a"
            ],
            [
             0.8888888888888888,
             "#fdca26"
            ],
            [
             1,
             "#f0f921"
            ]
           ]
          },
          "colorway": [
           "#636efa",
           "#EF553B",
           "#00cc96",
           "#ab63fa",
           "#FFA15A",
           "#19d3f3",
           "#FF6692",
           "#B6E880",
           "#FF97FF",
           "#FECB52"
          ],
          "font": {
           "color": "#2a3f5f"
          },
          "geo": {
           "bgcolor": "white",
           "lakecolor": "white",
           "landcolor": "#E5ECF6",
           "showlakes": true,
           "showland": true,
           "subunitcolor": "white"
          },
          "hoverlabel": {
           "align": "left"
          },
          "hovermode": "closest",
          "mapbox": {
           "style": "light"
          },
          "paper_bgcolor": "white",
          "plot_bgcolor": "#E5ECF6",
          "polar": {
           "angularaxis": {
            "gridcolor": "white",
            "linecolor": "white",
            "ticks": ""
           },
           "bgcolor": "#E5ECF6",
           "radialaxis": {
            "gridcolor": "white",
            "linecolor": "white",
            "ticks": ""
           }
          },
          "scene": {
           "xaxis": {
            "backgroundcolor": "#E5ECF6",
            "gridcolor": "white",
            "gridwidth": 2,
            "linecolor": "white",
            "showbackground": true,
            "ticks": "",
            "zerolinecolor": "white"
           },
           "yaxis": {
            "backgroundcolor": "#E5ECF6",
            "gridcolor": "white",
            "gridwidth": 2,
            "linecolor": "white",
            "showbackground": true,
            "ticks": "",
            "zerolinecolor": "white"
           },
           "zaxis": {
            "backgroundcolor": "#E5ECF6",
            "gridcolor": "white",
            "gridwidth": 2,
            "linecolor": "white",
            "showbackground": true,
            "ticks": "",
            "zerolinecolor": "white"
           }
          },
          "shapedefaults": {
           "line": {
            "color": "#2a3f5f"
           }
          },
          "ternary": {
           "aaxis": {
            "gridcolor": "white",
            "linecolor": "white",
            "ticks": ""
           },
           "baxis": {
            "gridcolor": "white",
            "linecolor": "white",
            "ticks": ""
           },
           "bgcolor": "#E5ECF6",
           "caxis": {
            "gridcolor": "white",
            "linecolor": "white",
            "ticks": ""
           }
          },
          "title": {
           "x": 0.05
          },
          "xaxis": {
           "automargin": true,
           "gridcolor": "white",
           "linecolor": "white",
           "ticks": "",
           "title": {
            "standoff": 15
           },
           "zerolinecolor": "white",
           "zerolinewidth": 2
          },
          "yaxis": {
           "automargin": true,
           "gridcolor": "white",
           "linecolor": "white",
           "ticks": "",
           "title": {
            "standoff": 15
           },
           "zerolinecolor": "white",
           "zerolinewidth": 2
          }
         }
        },
        "title": {
         "font": {
          "size": 20
         },
         "text": "Multilabel AUROC by Pathology and Age",
         "x": 0.5
        },
        "width": 1024,
        "xaxis": {
         "title": {
          "text": "Pathology"
         }
        },
        "yaxis": {
         "title": {
          "text": "Multilabel AUROC"
         }
        }
       }
      }
     },
     "metadata": {},
     "output_type": "display_data"
    }
   ],
   "source": [
    "pathologies = model.pathologies[:14]\n",
    "\n",
    "auroc = create_metric(\n",
    "    metric_name=\"auroc\",\n",
    "    task=\"multilabel\",\n",
    "    num_labels=len(pathologies),\n",
    "    thresholds=np.arange(0, 1, 0.01),\n",
    ")\n",
    "\n",
    "# define the slices\n",
    "slices = [\n",
    "    {\"Patient Age\": {\"min_value\": 19, \"max_value\": 35}},\n",
    "    {\"Patient Age\": {\"min_value\": 35, \"max_value\": 65}},\n",
    "    {\"Patient Age\": {\"min_value\": 65, \"max_value\": 100}},\n",
    "]\n",
    "\n",
    "# create the slice functions\n",
    "slice_spec = SliceSpec(spec_list=slices)\n",
    "\n",
    "nih_eval_results_age = evaluator.evaluate(\n",
    "    dataset=nih_ds,\n",
    "    metrics=auroc,\n",
    "    feature_columns=\"features\",\n",
    "    target_columns=pathologies,\n",
    "    prediction_column_prefix=\"predictions\",\n",
    "    remove_columns=\"features\",\n",
    "    slice_spec=slice_spec,\n",
    ")\n",
    "\n",
    "\n",
    "# plot the results\n",
    "plots = []\n",
    "\n",
    "for slice_name, slice_results in nih_eval_results_age.items():\n",
    "    plots.append(\n",
    "        go.Scatter(\n",
    "            x=pathologies,\n",
    "            y=slice_results[\"MultilabelAUROC\"],\n",
    "            name=\"Overall\" if slice_name == \"overall\" else slice_name,\n",
    "            mode=\"markers\",\n",
    "        )\n",
    "    )\n",
    "\n",
    "layout = go.Layout(\n",
    "    paper_bgcolor=\"rgba(0,0,0,0)\",\n",
    "    plot_bgcolor=\"rgba(0,0,0,0)\",\n",
    ")\n",
    "\n",
    "perf_metric_age = go.Figure(data=plots, layout=layout)\n",
    "perf_metric_age.update_layout(\n",
    "    title=\"Multilabel AUROC by Pathology and Age\",\n",
    "    title_x=0.5,\n",
    "    title_font_size=20,\n",
    "    xaxis_title=\"Pathology\",\n",
    "    yaxis_title=\"Multilabel AUROC\",\n",
    "    width=1024,\n",
    "    height=768,\n",
    ")\n",
    "perf_metric_age.update_traces(\n",
    "    marker=dict(size=12, line=dict(width=2)),\n",
    "    selector=dict(mode=\"markers\"),\n",
    ")"
   ]
  },
  {
   "cell_type": "code",
   "execution_count": 7,
   "id": "d1c587c1",
   "metadata": {},
   "outputs": [
    {
     "data": {
      "application/vnd.jupyter.widget-view+json": {
       "model_id": "e66ed7cce83a43f1acdcd3799bb2a82a",
       "version_major": 2,
       "version_minor": 0
      },
      "text/plain": [
       "Filter -> Patient Age:(-inf - 20.0]&Patient Gender:M:   0%|          | 0/4291 [00:00<?, ? examples/s]"
      ]
     },
     "metadata": {},
     "output_type": "display_data"
    },
    {
     "data": {
      "application/vnd.jupyter.widget-view+json": {
       "model_id": "057fb0fffab945899bbedcbc1a68c48b",
       "version_major": 2,
       "version_minor": 0
      },
      "text/plain": [
       "Filter -> Patient Age:(-inf - 20.0]&Patient Gender:F:   0%|          | 0/4291 [00:00<?, ? examples/s]"
      ]
     },
     "metadata": {},
     "output_type": "display_data"
    },
    {
     "data": {
      "application/vnd.jupyter.widget-view+json": {
       "model_id": "e4fed1dc17fe45c69ff2ad3c63cdbae1",
       "version_major": 2,
       "version_minor": 0
      },
      "text/plain": [
       "Filter -> Patient Age:(20.0 - 40.0]&Patient Gender:M:   0%|          | 0/4291 [00:00<?, ? examples/s]"
      ]
     },
     "metadata": {},
     "output_type": "display_data"
    },
    {
     "data": {
      "application/vnd.jupyter.widget-view+json": {
       "model_id": "e63fab97785e4ab58c942c979d01ff55",
       "version_major": 2,
       "version_minor": 0
      },
      "text/plain": [
       "Filter -> Patient Age:(20.0 - 40.0]&Patient Gender:F:   0%|          | 0/4291 [00:00<?, ? examples/s]"
      ]
     },
     "metadata": {},
     "output_type": "display_data"
    },
    {
     "data": {
      "application/vnd.jupyter.widget-view+json": {
       "model_id": "dbc177e545434b52a5b5f148500b2d9d",
       "version_major": 2,
       "version_minor": 0
      },
      "text/plain": [
       "Filter -> Patient Age:(40.0 - 60.0]&Patient Gender:M:   0%|          | 0/4291 [00:00<?, ? examples/s]"
      ]
     },
     "metadata": {},
     "output_type": "display_data"
    },
    {
     "data": {
      "application/vnd.jupyter.widget-view+json": {
       "model_id": "a62007dd9e5340ad8bac08de09363b34",
       "version_major": 2,
       "version_minor": 0
      },
      "text/plain": [
       "Filter -> Patient Age:(40.0 - 60.0]&Patient Gender:F:   0%|          | 0/4291 [00:00<?, ? examples/s]"
      ]
     },
     "metadata": {},
     "output_type": "display_data"
    },
    {
     "data": {
      "application/vnd.jupyter.widget-view+json": {
       "model_id": "4658dcc5ff8d4bb6805990db07b866be",
       "version_major": 2,
       "version_minor": 0
      },
      "text/plain": [
       "Filter -> Patient Age:(60.0 - 80.0]&Patient Gender:M:   0%|          | 0/4291 [00:00<?, ? examples/s]"
      ]
     },
     "metadata": {},
     "output_type": "display_data"
    },
    {
     "data": {
      "application/vnd.jupyter.widget-view+json": {
       "model_id": "e29d3c2d4f4b4f87aeb166fd06d865f8",
       "version_major": 2,
       "version_minor": 0
      },
      "text/plain": [
       "Filter -> Patient Age:(60.0 - 80.0]&Patient Gender:F:   0%|          | 0/4291 [00:00<?, ? examples/s]"
      ]
     },
     "metadata": {},
     "output_type": "display_data"
    },
    {
     "data": {
      "application/vnd.jupyter.widget-view+json": {
       "model_id": "2dcf21e3dd8a415eb4c0c644d89cfc15",
       "version_major": 2,
       "version_minor": 0
      },
      "text/plain": [
       "Filter -> Patient Age:(80.0 - inf]&Patient Gender:M:   0%|          | 0/4291 [00:00<?, ? examples/s]"
      ]
     },
     "metadata": {},
     "output_type": "display_data"
    },
    {
     "data": {
      "application/vnd.jupyter.widget-view+json": {
       "model_id": "ddd79cb2cdca4353a88372710a06edba",
       "version_major": 2,
       "version_minor": 0
      },
      "text/plain": [
       "Filter -> Patient Age:(80.0 - inf]&Patient Gender:F:   0%|          | 0/4291 [00:00<?, ? examples/s]"
      ]
     },
     "metadata": {},
     "output_type": "display_data"
    }
   ],
   "source": [
    "specificity = create_metric(\n",
    "    metric_name=\"specificity\",\n",
    "    task=\"multilabel\",\n",
    "    num_labels=len(pathologies),\n",
    ")\n",
    "sensitivity = create_metric(\n",
    "    metric_name=\"sensitivity\",\n",
    "    task=\"multilabel\",\n",
    "    num_labels=len(pathologies),\n",
    ")\n",
    "\n",
    "fpr = 1 - specificity\n",
    "fnr = 1 - sensitivity\n",
    "\n",
    "balanced_error_rate = (fpr + fnr) / 2\n",
    "\n",
    "nih_fairness_result = evaluate_fairness(\n",
    "    metrics=balanced_error_rate,\n",
    "    metric_name=\"BalancedErrorRate\",\n",
    "    dataset=nih_ds,\n",
    "    remove_columns=\"features\",\n",
    "    target_columns=pathologies,\n",
    "    prediction_columns=\"predictions\",\n",
    "    groups=[\"Patient Age\", \"Patient Gender\"],\n",
    "    group_bins={\"Patient Age\": [20, 40, 60, 80]},\n",
    "    group_base_values={\"Patient Age\": 20, \"Patient Gender\": \"M\"},\n",
    ")"
   ]
  },
  {
   "cell_type": "markdown",
   "id": "698c995d",
   "metadata": {},
   "source": [
    "### Balanced Error Rate by Pathology and Age/Sex Groups"
   ]
  },
  {
   "cell_type": "code",
   "execution_count": 8,
   "id": "d0ec44ea",
   "metadata": {},
   "outputs": [
    {
     "data": {
      "application/vnd.plotly.v1+json": {
       "config": {
        "plotlyServerURL": "https://plot.ly"
       },
       "data": [
        {
         "marker": {
          "line": {
           "width": 2
          },
          "size": 12
         },
         "mode": "markers",
         "name": "Patient Age:(-inf - 20.0]&Patient Gender:M",
         "type": "scatter",
         "x": [
          "Atelectasis",
          "Consolidation",
          "Infiltration",
          "Pneumothorax",
          "Edema",
          "Emphysema",
          "Fibrosis",
          "Effusion",
          "Pneumonia",
          "Pleural_Thickening",
          "Cardiomegaly",
          "Nodule",
          "Mass",
          "Hernia"
         ],
         "y": [
          0.45930930930930924,
          0.4915077083877711,
          0.4697916666666666,
          0.4411764705882353,
          0.4321705426356589,
          0.42223502304147464,
          0.4737442922374429,
          0.31158280922431864,
          0.49685534591194974,
          0.45913461538461536,
          0.45193798449612405,
          0.4775707384403037,
          0.4307692307692308,
          0.6266968325791855
         ]
        },
        {
         "marker": {
          "line": {
           "width": 2
          },
          "size": 12
         },
         "mode": "markers",
         "name": "Patient Age:(-inf - 20.0]&Patient Gender:F",
         "type": "scatter",
         "x": [
          "Atelectasis",
          "Consolidation",
          "Infiltration",
          "Pneumothorax",
          "Edema",
          "Emphysema",
          "Fibrosis",
          "Effusion",
          "Pneumonia",
          "Pleural_Thickening",
          "Cardiomegaly",
          "Nodule",
          "Mass",
          "Hernia"
         ],
         "y": [
          0.3376068376068376,
          0.5372093023255814,
          0.40108892921960076,
          0.7291666666666667,
          0.4,
          0.19148936170212766,
          0.3804347826086957,
          0.3875,
          0.4627906976744186,
          0.5454545454545454,
          0.08510638297872342,
          0.4444444444444445,
          0.375,
          0.5625
         ]
        },
        {
         "marker": {
          "line": {
           "width": 2
          },
          "size": 12
         },
         "mode": "markers",
         "name": "Patient Age:(20.0 - 40.0]&Patient Gender:M",
         "type": "scatter",
         "x": [
          "Atelectasis",
          "Consolidation",
          "Infiltration",
          "Pneumothorax",
          "Edema",
          "Emphysema",
          "Fibrosis",
          "Effusion",
          "Pneumonia",
          "Pleural_Thickening",
          "Cardiomegaly",
          "Nodule",
          "Mass",
          "Hernia"
         ],
         "y": [
          0.41462165551839464,
          0.45625865714077424,
          0.4434310938201407,
          0.38304176072234764,
          0.32639649507119384,
          0.5397312859884837,
          0.4652040704672284,
          0.3502052148720425,
          0.5224867724867726,
          0.3614519427402863,
          0.2278420038535645,
          0.5058294470353097,
          0.4594193548387097,
          0.24716981132075472
         ]
        },
        {
         "marker": {
          "line": {
           "width": 2
          },
          "size": 12
         },
         "mode": "markers",
         "name": "Patient Age:(20.0 - 40.0]&Patient Gender:F",
         "type": "scatter",
         "x": [
          "Atelectasis",
          "Consolidation",
          "Infiltration",
          "Pneumothorax",
          "Edema",
          "Emphysema",
          "Fibrosis",
          "Effusion",
          "Pneumonia",
          "Pleural_Thickening",
          "Cardiomegaly",
          "Nodule",
          "Mass",
          "Hernia"
         ],
         "y": [
          0.4106227106227106,
          0.4239385409336148,
          0.49117718153251144,
          0.3429863147605083,
          0.36334498834498835,
          0.44065217391304345,
          0.34281150159744406,
          0.402851711026616,
          0.43028052805280526,
          0.41504329004329005,
          0.20419381107491857,
          0.5078930412371134,
          0.37921867776236706,
          0.2422360248447205
         ]
        },
        {
         "marker": {
          "line": {
           "width": 2
          },
          "size": 12
         },
         "mode": "markers",
         "name": "Patient Age:(40.0 - 60.0]&Patient Gender:M",
         "type": "scatter",
         "x": [
          "Atelectasis",
          "Consolidation",
          "Infiltration",
          "Pneumothorax",
          "Edema",
          "Emphysema",
          "Fibrosis",
          "Effusion",
          "Pneumonia",
          "Pleural_Thickening",
          "Cardiomegaly",
          "Nodule",
          "Mass",
          "Hernia"
         ],
         "y": [
          0.4103218298196141,
          0.4241736175471115,
          0.45774085661883696,
          0.42228890243330675,
          0.33558052434456925,
          0.42857671800947866,
          0.3939030963646164,
          0.30509892594686266,
          0.5281531531531531,
          0.46460582370096654,
          0.19432321854756224,
          0.4976792160907685,
          0.3900221729490022,
          0.2792494481236203
         ]
        },
        {
         "marker": {
          "line": {
           "width": 2
          },
          "size": 12
         },
         "mode": "markers",
         "name": "Patient Age:(40.0 - 60.0]&Patient Gender:F",
         "type": "scatter",
         "x": [
          "Atelectasis",
          "Consolidation",
          "Infiltration",
          "Pneumothorax",
          "Edema",
          "Emphysema",
          "Fibrosis",
          "Effusion",
          "Pneumonia",
          "Pleural_Thickening",
          "Cardiomegaly",
          "Nodule",
          "Mass",
          "Hernia"
         ],
         "y": [
          0.41375402633797237,
          0.42529583493501505,
          0.4689920745920746,
          0.4516260162601626,
          0.32670140779341994,
          0.49386898999677314,
          0.38325288796793766,
          0.3402605459057072,
          0.48709546925566344,
          0.38673996665180854,
          0.28386976584219425,
          0.4687147470398278,
          0.3416320885200553,
          0.3416586998087954
         ]
        },
        {
         "marker": {
          "line": {
           "width": 2
          },
          "size": 12
         },
         "mode": "markers",
         "name": "Patient Age:(60.0 - 80.0]&Patient Gender:M",
         "type": "scatter",
         "x": [
          "Atelectasis",
          "Consolidation",
          "Infiltration",
          "Pneumothorax",
          "Edema",
          "Emphysema",
          "Fibrosis",
          "Effusion",
          "Pneumonia",
          "Pleural_Thickening",
          "Cardiomegaly",
          "Nodule",
          "Mass",
          "Hernia"
         ],
         "y": [
          0.4486153846153846,
          0.40008565310492505,
          0.4477263581488934,
          0.43745143745143744,
          0.20186335403726707,
          0.4754990925589837,
          0.43491295938104446,
          0.35594865710279366,
          0.5044642857142857,
          0.4476923076923077,
          0.16205567451820124,
          0.484846002621232,
          0.3846320346320346,
          0.3391038696537678
         ]
        },
        {
         "marker": {
          "line": {
           "width": 2
          },
          "size": 12
         },
         "mode": "markers",
         "name": "Patient Age:(60.0 - 80.0]&Patient Gender:F",
         "type": "scatter",
         "x": [
          "Atelectasis",
          "Consolidation",
          "Infiltration",
          "Pneumothorax",
          "Edema",
          "Emphysema",
          "Fibrosis",
          "Effusion",
          "Pneumonia",
          "Pleural_Thickening",
          "Cardiomegaly",
          "Nodule",
          "Mass",
          "Hernia"
         ],
         "y": [
          0.4009947606055484,
          0.41413506191950467,
          0.4660729431721798,
          0.362256339485941,
          0.3003048780487805,
          0.4509024672959099,
          0.4421478760209723,
          0.2971881060116354,
          0.5506993006993007,
          0.48220973782771537,
          0.31157894736842107,
          0.511402027027027,
          0.41374419804022694,
          0.3107394366197183
         ]
        },
        {
         "marker": {
          "line": {
           "width": 2
          },
          "size": 12
         },
         "mode": "markers",
         "name": "Patient Age:(80.0 - inf]&Patient Gender:M",
         "type": "scatter",
         "x": [
          "Atelectasis",
          "Consolidation",
          "Infiltration",
          "Pneumothorax",
          "Edema",
          "Emphysema",
          "Fibrosis",
          "Effusion",
          "Pneumonia",
          "Pleural_Thickening",
          "Cardiomegaly",
          "Nodule",
          "Mass",
          "Hernia"
         ],
         "y": [
          0.4625,
          0.5,
          0.505691056910569,
          0.4,
          0.8303571428571428,
          0.4528301886792453,
          0.5411764705882353,
          0.3382113821138211,
          0.6296296296296297,
          0.5204081632653061,
          0.1388888888888889,
          0.46938775510204084,
          0.40625,
          0.8571428571428572
         ]
        },
        {
         "marker": {
          "line": {
           "width": 2
          },
          "size": 12
         },
         "mode": "markers",
         "name": "Patient Age:(80.0 - inf]&Patient Gender:F",
         "type": "scatter",
         "x": [
          "Atelectasis",
          "Consolidation",
          "Infiltration",
          "Pneumothorax",
          "Edema",
          "Emphysema",
          "Fibrosis",
          "Effusion",
          "Pneumonia",
          "Pleural_Thickening",
          "Cardiomegaly",
          "Nodule",
          "Mass",
          "Hernia"
         ],
         "y": [
          0.5666666666666667,
          0.3888888888888889,
          0.46405919661733613,
          0.40808823529411764,
          0.8618421052631579,
          0.4647887323943662,
          0.3642857142857143,
          0.4158249158249158,
          0.4054054054054054,
          0.5333333333333333,
          0.2815734989648033,
          0.3880597014925373,
          0.3666666666666667,
          0.3382352941176471
         ]
        }
       ],
       "layout": {
        "height": 768,
        "paper_bgcolor": "rgba(0,0,0,0)",
        "plot_bgcolor": "rgba(0,0,0,0)",
        "template": {
         "data": {
          "bar": [
           {
            "error_x": {
             "color": "#2a3f5f"
            },
            "error_y": {
             "color": "#2a3f5f"
            },
            "marker": {
             "line": {
              "color": "#E5ECF6",
              "width": 0.5
             },
             "pattern": {
              "fillmode": "overlay",
              "size": 10,
              "solidity": 0.2
             }
            },
            "type": "bar"
           }
          ],
          "barpolar": [
           {
            "marker": {
             "line": {
              "color": "#E5ECF6",
              "width": 0.5
             },
             "pattern": {
              "fillmode": "overlay",
              "size": 10,
              "solidity": 0.2
             }
            },
            "type": "barpolar"
           }
          ],
          "carpet": [
           {
            "aaxis": {
             "endlinecolor": "#2a3f5f",
             "gridcolor": "white",
             "linecolor": "white",
             "minorgridcolor": "white",
             "startlinecolor": "#2a3f5f"
            },
            "baxis": {
             "endlinecolor": "#2a3f5f",
             "gridcolor": "white",
             "linecolor": "white",
             "minorgridcolor": "white",
             "startlinecolor": "#2a3f5f"
            },
            "type": "carpet"
           }
          ],
          "choropleth": [
           {
            "colorbar": {
             "outlinewidth": 0,
             "ticks": ""
            },
            "type": "choropleth"
           }
          ],
          "contour": [
           {
            "colorbar": {
             "outlinewidth": 0,
             "ticks": ""
            },
            "colorscale": [
             [
              0,
              "#0d0887"
             ],
             [
              0.1111111111111111,
              "#46039f"
             ],
             [
              0.2222222222222222,
              "#7201a8"
             ],
             [
              0.3333333333333333,
              "#9c179e"
             ],
             [
              0.4444444444444444,
              "#bd3786"
             ],
             [
              0.5555555555555556,
              "#d8576b"
             ],
             [
              0.6666666666666666,
              "#ed7953"
             ],
             [
              0.7777777777777778,
              "#fb9f3a"
             ],
             [
              0.8888888888888888,
              "#fdca26"
             ],
             [
              1,
              "#f0f921"
             ]
            ],
            "type": "contour"
           }
          ],
          "contourcarpet": [
           {
            "colorbar": {
             "outlinewidth": 0,
             "ticks": ""
            },
            "type": "contourcarpet"
           }
          ],
          "heatmap": [
           {
            "colorbar": {
             "outlinewidth": 0,
             "ticks": ""
            },
            "colorscale": [
             [
              0,
              "#0d0887"
             ],
             [
              0.1111111111111111,
              "#46039f"
             ],
             [
              0.2222222222222222,
              "#7201a8"
             ],
             [
              0.3333333333333333,
              "#9c179e"
             ],
             [
              0.4444444444444444,
              "#bd3786"
             ],
             [
              0.5555555555555556,
              "#d8576b"
             ],
             [
              0.6666666666666666,
              "#ed7953"
             ],
             [
              0.7777777777777778,
              "#fb9f3a"
             ],
             [
              0.8888888888888888,
              "#fdca26"
             ],
             [
              1,
              "#f0f921"
             ]
            ],
            "type": "heatmap"
           }
          ],
          "heatmapgl": [
           {
            "colorbar": {
             "outlinewidth": 0,
             "ticks": ""
            },
            "colorscale": [
             [
              0,
              "#0d0887"
             ],
             [
              0.1111111111111111,
              "#46039f"
             ],
             [
              0.2222222222222222,
              "#7201a8"
             ],
             [
              0.3333333333333333,
              "#9c179e"
             ],
             [
              0.4444444444444444,
              "#bd3786"
             ],
             [
              0.5555555555555556,
              "#d8576b"
             ],
             [
              0.6666666666666666,
              "#ed7953"
             ],
             [
              0.7777777777777778,
              "#fb9f3a"
             ],
             [
              0.8888888888888888,
              "#fdca26"
             ],
             [
              1,
              "#f0f921"
             ]
            ],
            "type": "heatmapgl"
           }
          ],
          "histogram": [
           {
            "marker": {
             "pattern": {
              "fillmode": "overlay",
              "size": 10,
              "solidity": 0.2
             }
            },
            "type": "histogram"
           }
          ],
          "histogram2d": [
           {
            "colorbar": {
             "outlinewidth": 0,
             "ticks": ""
            },
            "colorscale": [
             [
              0,
              "#0d0887"
             ],
             [
              0.1111111111111111,
              "#46039f"
             ],
             [
              0.2222222222222222,
              "#7201a8"
             ],
             [
              0.3333333333333333,
              "#9c179e"
             ],
             [
              0.4444444444444444,
              "#bd3786"
             ],
             [
              0.5555555555555556,
              "#d8576b"
             ],
             [
              0.6666666666666666,
              "#ed7953"
             ],
             [
              0.7777777777777778,
              "#fb9f3a"
             ],
             [
              0.8888888888888888,
              "#fdca26"
             ],
             [
              1,
              "#f0f921"
             ]
            ],
            "type": "histogram2d"
           }
          ],
          "histogram2dcontour": [
           {
            "colorbar": {
             "outlinewidth": 0,
             "ticks": ""
            },
            "colorscale": [
             [
              0,
              "#0d0887"
             ],
             [
              0.1111111111111111,
              "#46039f"
             ],
             [
              0.2222222222222222,
              "#7201a8"
             ],
             [
              0.3333333333333333,
              "#9c179e"
             ],
             [
              0.4444444444444444,
              "#bd3786"
             ],
             [
              0.5555555555555556,
              "#d8576b"
             ],
             [
              0.6666666666666666,
              "#ed7953"
             ],
             [
              0.7777777777777778,
              "#fb9f3a"
             ],
             [
              0.8888888888888888,
              "#fdca26"
             ],
             [
              1,
              "#f0f921"
             ]
            ],
            "type": "histogram2dcontour"
           }
          ],
          "mesh3d": [
           {
            "colorbar": {
             "outlinewidth": 0,
             "ticks": ""
            },
            "type": "mesh3d"
           }
          ],
          "parcoords": [
           {
            "line": {
             "colorbar": {
              "outlinewidth": 0,
              "ticks": ""
             }
            },
            "type": "parcoords"
           }
          ],
          "pie": [
           {
            "automargin": true,
            "type": "pie"
           }
          ],
          "scatter": [
           {
            "fillpattern": {
             "fillmode": "overlay",
             "size": 10,
             "solidity": 0.2
            },
            "type": "scatter"
           }
          ],
          "scatter3d": [
           {
            "line": {
             "colorbar": {
              "outlinewidth": 0,
              "ticks": ""
             }
            },
            "marker": {
             "colorbar": {
              "outlinewidth": 0,
              "ticks": ""
             }
            },
            "type": "scatter3d"
           }
          ],
          "scattercarpet": [
           {
            "marker": {
             "colorbar": {
              "outlinewidth": 0,
              "ticks": ""
             }
            },
            "type": "scattercarpet"
           }
          ],
          "scattergeo": [
           {
            "marker": {
             "colorbar": {
              "outlinewidth": 0,
              "ticks": ""
             }
            },
            "type": "scattergeo"
           }
          ],
          "scattergl": [
           {
            "marker": {
             "colorbar": {
              "outlinewidth": 0,
              "ticks": ""
             }
            },
            "type": "scattergl"
           }
          ],
          "scattermapbox": [
           {
            "marker": {
             "colorbar": {
              "outlinewidth": 0,
              "ticks": ""
             }
            },
            "type": "scattermapbox"
           }
          ],
          "scatterpolar": [
           {
            "marker": {
             "colorbar": {
              "outlinewidth": 0,
              "ticks": ""
             }
            },
            "type": "scatterpolar"
           }
          ],
          "scatterpolargl": [
           {
            "marker": {
             "colorbar": {
              "outlinewidth": 0,
              "ticks": ""
             }
            },
            "type": "scatterpolargl"
           }
          ],
          "scatterternary": [
           {
            "marker": {
             "colorbar": {
              "outlinewidth": 0,
              "ticks": ""
             }
            },
            "type": "scatterternary"
           }
          ],
          "surface": [
           {
            "colorbar": {
             "outlinewidth": 0,
             "ticks": ""
            },
            "colorscale": [
             [
              0,
              "#0d0887"
             ],
             [
              0.1111111111111111,
              "#46039f"
             ],
             [
              0.2222222222222222,
              "#7201a8"
             ],
             [
              0.3333333333333333,
              "#9c179e"
             ],
             [
              0.4444444444444444,
              "#bd3786"
             ],
             [
              0.5555555555555556,
              "#d8576b"
             ],
             [
              0.6666666666666666,
              "#ed7953"
             ],
             [
              0.7777777777777778,
              "#fb9f3a"
             ],
             [
              0.8888888888888888,
              "#fdca26"
             ],
             [
              1,
              "#f0f921"
             ]
            ],
            "type": "surface"
           }
          ],
          "table": [
           {
            "cells": {
             "fill": {
              "color": "#EBF0F8"
             },
             "line": {
              "color": "white"
             }
            },
            "header": {
             "fill": {
              "color": "#C8D4E3"
             },
             "line": {
              "color": "white"
             }
            },
            "type": "table"
           }
          ]
         },
         "layout": {
          "annotationdefaults": {
           "arrowcolor": "#2a3f5f",
           "arrowhead": 0,
           "arrowwidth": 1
          },
          "autotypenumbers": "strict",
          "coloraxis": {
           "colorbar": {
            "outlinewidth": 0,
            "ticks": ""
           }
          },
          "colorscale": {
           "diverging": [
            [
             0,
             "#8e0152"
            ],
            [
             0.1,
             "#c51b7d"
            ],
            [
             0.2,
             "#de77ae"
            ],
            [
             0.3,
             "#f1b6da"
            ],
            [
             0.4,
             "#fde0ef"
            ],
            [
             0.5,
             "#f7f7f7"
            ],
            [
             0.6,
             "#e6f5d0"
            ],
            [
             0.7,
             "#b8e186"
            ],
            [
             0.8,
             "#7fbc41"
            ],
            [
             0.9,
             "#4d9221"
            ],
            [
             1,
             "#276419"
            ]
           ],
           "sequential": [
            [
             0,
             "#0d0887"
            ],
            [
             0.1111111111111111,
             "#46039f"
            ],
            [
             0.2222222222222222,
             "#7201a8"
            ],
            [
             0.3333333333333333,
             "#9c179e"
            ],
            [
             0.4444444444444444,
             "#bd3786"
            ],
            [
             0.5555555555555556,
             "#d8576b"
            ],
            [
             0.6666666666666666,
             "#ed7953"
            ],
            [
             0.7777777777777778,
             "#fb9f3a"
            ],
            [
             0.8888888888888888,
             "#fdca26"
            ],
            [
             1,
             "#f0f921"
            ]
           ],
           "sequentialminus": [
            [
             0,
             "#0d0887"
            ],
            [
             0.1111111111111111,
             "#46039f"
            ],
            [
             0.2222222222222222,
             "#7201a8"
            ],
            [
             0.3333333333333333,
             "#9c179e"
            ],
            [
             0.4444444444444444,
             "#bd3786"
            ],
            [
             0.5555555555555556,
             "#d8576b"
            ],
            [
             0.6666666666666666,
             "#ed7953"
            ],
            [
             0.7777777777777778,
             "#fb9f3a"
            ],
            [
             0.8888888888888888,
             "#fdca26"
            ],
            [
             1,
             "#f0f921"
            ]
           ]
          },
          "colorway": [
           "#636efa",
           "#EF553B",
           "#00cc96",
           "#ab63fa",
           "#FFA15A",
           "#19d3f3",
           "#FF6692",
           "#B6E880",
           "#FF97FF",
           "#FECB52"
          ],
          "font": {
           "color": "#2a3f5f"
          },
          "geo": {
           "bgcolor": "white",
           "lakecolor": "white",
           "landcolor": "#E5ECF6",
           "showlakes": true,
           "showland": true,
           "subunitcolor": "white"
          },
          "hoverlabel": {
           "align": "left"
          },
          "hovermode": "closest",
          "mapbox": {
           "style": "light"
          },
          "paper_bgcolor": "white",
          "plot_bgcolor": "#E5ECF6",
          "polar": {
           "angularaxis": {
            "gridcolor": "white",
            "linecolor": "white",
            "ticks": ""
           },
           "bgcolor": "#E5ECF6",
           "radialaxis": {
            "gridcolor": "white",
            "linecolor": "white",
            "ticks": ""
           }
          },
          "scene": {
           "xaxis": {
            "backgroundcolor": "#E5ECF6",
            "gridcolor": "white",
            "gridwidth": 2,
            "linecolor": "white",
            "showbackground": true,
            "ticks": "",
            "zerolinecolor": "white"
           },
           "yaxis": {
            "backgroundcolor": "#E5ECF6",
            "gridcolor": "white",
            "gridwidth": 2,
            "linecolor": "white",
            "showbackground": true,
            "ticks": "",
            "zerolinecolor": "white"
           },
           "zaxis": {
            "backgroundcolor": "#E5ECF6",
            "gridcolor": "white",
            "gridwidth": 2,
            "linecolor": "white",
            "showbackground": true,
            "ticks": "",
            "zerolinecolor": "white"
           }
          },
          "shapedefaults": {
           "line": {
            "color": "#2a3f5f"
           }
          },
          "ternary": {
           "aaxis": {
            "gridcolor": "white",
            "linecolor": "white",
            "ticks": ""
           },
           "baxis": {
            "gridcolor": "white",
            "linecolor": "white",
            "ticks": ""
           },
           "bgcolor": "#E5ECF6",
           "caxis": {
            "gridcolor": "white",
            "linecolor": "white",
            "ticks": ""
           }
          },
          "title": {
           "x": 0.05
          },
          "xaxis": {
           "automargin": true,
           "gridcolor": "white",
           "linecolor": "white",
           "ticks": "",
           "title": {
            "standoff": 15
           },
           "zerolinecolor": "white",
           "zerolinewidth": 2
          },
          "yaxis": {
           "automargin": true,
           "gridcolor": "white",
           "linecolor": "white",
           "ticks": "",
           "title": {
            "standoff": 15
           },
           "zerolinecolor": "white",
           "zerolinewidth": 2
          }
         }
        },
        "title": {
         "font": {
          "size": 20
         },
         "text": "Balanced Error Rate by Pathology and Group",
         "x": 0.5
        },
        "width": 1024,
        "xaxis": {
         "title": {
          "text": "Pathology"
         }
        },
        "yaxis": {
         "title": {
          "text": "Balanced Error Rate"
         }
        }
       }
      }
     },
     "metadata": {},
     "output_type": "display_data"
    }
   ],
   "source": [
    "# plot metrics per slice\n",
    "plots = []\n",
    "\n",
    "for slice_name, slice_results in nih_fairness_result.items():\n",
    "    plots.append(\n",
    "        go.Scatter(\n",
    "            x=pathologies,\n",
    "            y=slice_results[\"BalancedErrorRate\"],\n",
    "            name=slice_name,\n",
    "            mode=\"markers\",\n",
    "        )\n",
    "    )\n",
    "\n",
    "layout = go.Layout(\n",
    "    paper_bgcolor=\"rgba(0,0,0,0)\",\n",
    "    plot_bgcolor=\"rgba(0,0,0,0)\",\n",
    ")\n",
    "\n",
    "fairness_1 = go.Figure(data=plots, layout=layout)\n",
    "fairness_1.update_layout(\n",
    "    title=\"Balanced Error Rate by Pathology and Group\",\n",
    "    title_x=0.5,\n",
    "    title_font_size=20,\n",
    "    xaxis_title=\"Pathology\",\n",
    "    yaxis_title=\"Balanced Error Rate\",\n",
    "    width=1024,\n",
    "    height=768,\n",
    ")\n",
    "fairness_1.update_traces(\n",
    "    marker=dict(size=12, line=dict(width=2)),\n",
    "    selector=dict(mode=\"markers\"),\n",
    ")\n",
    "# fairness_1 = fig.to_image(format=\"svg\")\n",
    "# fairness_1 = plot_to_str_plotly(fig)"
   ]
  },
  {
   "cell_type": "markdown",
   "id": "5f518f2b",
   "metadata": {},
   "source": [
    "### Balanced Error Rate Parity by Pathology and Age/Sex Groups"
   ]
  },
  {
   "cell_type": "code",
   "execution_count": 9,
   "id": "c9b1b68a",
   "metadata": {},
   "outputs": [
    {
     "data": {
      "application/vnd.plotly.v1+json": {
       "config": {
        "plotlyServerURL": "https://plot.ly"
       },
       "data": [
        {
         "marker": {
          "line": {
           "width": 2
          },
          "size": 12
         },
         "mode": "markers",
         "name": "Patient Age:(-inf - 20.0]&Patient Gender:M",
         "type": "scatter",
         "x": [
          "Atelectasis",
          "Consolidation",
          "Infiltration",
          "Pneumothorax",
          "Edema",
          "Emphysema",
          "Fibrosis",
          "Effusion",
          "Pneumonia",
          "Pleural_Thickening",
          "Cardiomegaly",
          "Nodule",
          "Mass",
          "Hernia"
         ],
         "y": [
          1,
          1,
          1,
          1,
          1,
          1,
          1,
          1,
          1,
          1,
          1,
          1,
          1,
          1
         ]
        },
        {
         "marker": {
          "line": {
           "width": 2
          },
          "size": 12
         },
         "mode": "markers",
         "name": "Patient Age:(-inf - 20.0]&Patient Gender:F",
         "type": "scatter",
         "x": [
          "Atelectasis",
          "Consolidation",
          "Infiltration",
          "Pneumothorax",
          "Edema",
          "Emphysema",
          "Fibrosis",
          "Effusion",
          "Pneumonia",
          "Pleural_Thickening",
          "Cardiomegaly",
          "Nodule",
          "Mass",
          "Hernia"
         ],
         "y": [
          0.7350315588301859,
          1.092982456140351,
          0.8537591398022545,
          1.652777777777778,
          0.925560538116592,
          0.4535136861049026,
          0.8030382399161865,
          1.243650126156434,
          0.9314395054459816,
          1.188005711565921,
          0.18831429509871905,
          0.930635838150289,
          0.8705357142857142,
          0.8975631768953068
         ]
        },
        {
         "marker": {
          "line": {
           "width": 2
          },
          "size": 12
         },
         "mode": "markers",
         "name": "Patient Age:(20.0 - 40.0]&Patient Gender:M",
         "type": "scatter",
         "x": [
          "Atelectasis",
          "Consolidation",
          "Infiltration",
          "Pneumothorax",
          "Edema",
          "Emphysema",
          "Fibrosis",
          "Effusion",
          "Pneumonia",
          "Pleural_Thickening",
          "Cardiomegaly",
          "Nodule",
          "Mass",
          "Hernia"
         ],
         "y": [
          0.9027068407167403,
          0.9282838282178326,
          0.9438888028100556,
          0.8682279909706546,
          0.7552492890436593,
          1.278272186188278,
          0.9819729294681737,
          1.12395550879034,
          1.0515873015873016,
          0.7872461161254404,
          0.5041443996073726,
          1.0591717756563062,
          1.0665092165898618,
          0.3944009263674137
         ]
        },
        {
         "marker": {
          "line": {
           "width": 2
          },
          "size": 12
         },
         "mode": "markers",
         "name": "Patient Age:(20.0 - 40.0]&Patient Gender:F",
         "type": "scatter",
         "x": [
          "Atelectasis",
          "Consolidation",
          "Infiltration",
          "Pneumothorax",
          "Edema",
          "Emphysema",
          "Fibrosis",
          "Effusion",
          "Pneumonia",
          "Pleural_Thickening",
          "Cardiomegaly",
          "Nodule",
          "Mass",
          "Hernia"
         ],
         "y": [
          0.8940004095283599,
          0.8625267390499437,
          1.0455212733286277,
          0.7774356467904855,
          0.8407444573363856,
          1.0436182454475353,
          0.7236213865044844,
          1.2929202096531258,
          0.8660076450683042,
          0.9039686317173229,
          0.45181820975410797,
          1.0634927987754008,
          0.8803290733769235,
          0.38652824180998724
         ]
        },
        {
         "marker": {
          "line": {
           "width": 2
          },
          "size": 12
         },
         "mode": "markers",
         "name": "Patient Age:(40.0 - 60.0]&Patient Gender:M",
         "type": "scatter",
         "x": [
          "Atelectasis",
          "Consolidation",
          "Infiltration",
          "Pneumothorax",
          "Edema",
          "Emphysema",
          "Fibrosis",
          "Effusion",
          "Pneumonia",
          "Pleural_Thickening",
          "Cardiomegaly",
          "Nodule",
          "Mass",
          "Hernia"
         ],
         "y": [
          0.8933453372339426,
          0.8630050156048888,
          0.9743486083239102,
          0.9571881788488287,
          0.776500226734519,
          1.0150193485190382,
          0.8314677407600096,
          0.9791904974038924,
          1.062991789257612,
          1.0119163490031522,
          0.4299776190846574,
          1.042105757392375,
          0.9054086157744694,
          0.4455893720961739
         ]
        },
        {
         "marker": {
          "line": {
           "width": 2
          },
          "size": 12
         },
         "mode": "markers",
         "name": "Patient Age:(40.0 - 60.0]&Patient Gender:F",
         "type": "scatter",
         "x": [
          "Atelectasis",
          "Consolidation",
          "Infiltration",
          "Pneumothorax",
          "Edema",
          "Emphysema",
          "Fibrosis",
          "Effusion",
          "Pneumonia",
          "Pleural_Thickening",
          "Cardiomegaly",
          "Nodule",
          "Mass",
          "Hernia"
         ],
         "y": [
          0.9008178540081387,
          0.8652882298225958,
          0.9982979858279194,
          1.0236856368563685,
          0.7559548270018147,
          1.1696542518886741,
          0.8089868189395504,
          1.0920388924946836,
          0.9803567039449428,
          0.8423236970007977,
          0.6281166345393321,
          0.9814561682958244,
          0.7930744912072711,
          0.5451738098032042
         ]
        },
        {
         "marker": {
          "line": {
           "width": 2
          },
          "size": 12
         },
         "mode": "markers",
         "name": "Patient Age:(60.0 - 80.0]&Patient Gender:M",
         "type": "scatter",
         "x": [
          "Atelectasis",
          "Consolidation",
          "Infiltration",
          "Pneumothorax",
          "Edema",
          "Emphysema",
          "Fibrosis",
          "Effusion",
          "Pneumonia",
          "Pleural_Thickening",
          "Cardiomegaly",
          "Nodule",
          "Mass",
          "Hernia"
         ],
         "y": [
          0.9767173787311088,
          0.8139967009210782,
          0.9530317157936534,
          0.9915565915565916,
          0.46709188647188254,
          1.1261479190755739,
          0.9180331383561324,
          1.1423886253189746,
          1.0153141952983724,
          0.9750785340314138,
          0.3585794513352995,
          1.0152338985522618,
          0.8928957946815088,
          0.5410971494114274
         ]
        },
        {
         "marker": {
          "line": {
           "width": 2
          },
          "size": 12
         },
         "mode": "markers",
         "name": "Patient Age:(60.0 - 80.0]&Patient Gender:F",
         "type": "scatter",
         "x": [
          "Atelectasis",
          "Consolidation",
          "Infiltration",
          "Pneumothorax",
          "Edema",
          "Emphysema",
          "Fibrosis",
          "Effusion",
          "Pneumonia",
          "Pleural_Thickening",
          "Cardiomegaly",
          "Nodule",
          "Mass",
          "Hernia"
         ],
         "y": [
          0.8730386092294713,
          0.8425810111461692,
          0.9920843136259261,
          0.8211143695014663,
          0.6948758613146669,
          1.067894520089631,
          0.9333049142033053,
          0.9538013562156441,
          1.108369478622643,
          1.0502578583053905,
          0.6894285456350998,
          1.0708403716216215,
          0.9604776025933839,
          0.49583693496720394
         ]
        },
        {
         "marker": {
          "line": {
           "width": 2
          },
          "size": 12
         },
         "mode": "markers",
         "name": "Patient Age:(80.0 - inf]&Patient Gender:M",
         "type": "scatter",
         "x": [
          "Atelectasis",
          "Consolidation",
          "Infiltration",
          "Pneumothorax",
          "Edema",
          "Emphysema",
          "Fibrosis",
          "Effusion",
          "Pneumonia",
          "Pleural_Thickening",
          "Cardiomegaly",
          "Nodule",
          "Mass",
          "Hernia"
         ],
         "y": [
          1.0069467146126188,
          1.0172780435938331,
          1.0764155535125195,
          0.9066666666666667,
          1.9213645099295322,
          1.072460037581405,
          1.142338766832034,
          1.0854622658926338,
          1.2672292545710266,
          1.1334544288919757,
          0.3073184676958262,
          0.9828654004954583,
          0.9430803571428571,
          1.367715317173801
         ]
        },
        {
         "marker": {
          "line": {
           "width": 2
          },
          "size": 12
         },
         "mode": "markers",
         "name": "Patient Age:(80.0 - inf]&Patient Gender:F",
         "type": "scatter",
         "x": [
          "Atelectasis",
          "Consolidation",
          "Infiltration",
          "Pneumothorax",
          "Edema",
          "Emphysema",
          "Fibrosis",
          "Effusion",
          "Pneumonia",
          "Pleural_Thickening",
          "Cardiomegaly",
          "Nodule",
          "Mass",
          "Hernia"
         ],
         "y": [
          1.2337365152010462,
          0.7912162561285369,
          0.9877978464581879,
          0.925,
          1.9942176067972621,
          1.100782045616125,
          0.7689500860585199,
          1.334556668450697,
          0.8159425248032841,
          1.161605584642234,
          0.6230357009684327,
          0.8125700974894314,
          0.8511904761904762,
          0.5397111913357401
         ]
        }
       ],
       "layout": {
        "height": 768,
        "paper_bgcolor": "rgba(0,0,0,0)",
        "plot_bgcolor": "rgba(0,0,0,0)",
        "template": {
         "data": {
          "bar": [
           {
            "error_x": {
             "color": "#2a3f5f"
            },
            "error_y": {
             "color": "#2a3f5f"
            },
            "marker": {
             "line": {
              "color": "#E5ECF6",
              "width": 0.5
             },
             "pattern": {
              "fillmode": "overlay",
              "size": 10,
              "solidity": 0.2
             }
            },
            "type": "bar"
           }
          ],
          "barpolar": [
           {
            "marker": {
             "line": {
              "color": "#E5ECF6",
              "width": 0.5
             },
             "pattern": {
              "fillmode": "overlay",
              "size": 10,
              "solidity": 0.2
             }
            },
            "type": "barpolar"
           }
          ],
          "carpet": [
           {
            "aaxis": {
             "endlinecolor": "#2a3f5f",
             "gridcolor": "white",
             "linecolor": "white",
             "minorgridcolor": "white",
             "startlinecolor": "#2a3f5f"
            },
            "baxis": {
             "endlinecolor": "#2a3f5f",
             "gridcolor": "white",
             "linecolor": "white",
             "minorgridcolor": "white",
             "startlinecolor": "#2a3f5f"
            },
            "type": "carpet"
           }
          ],
          "choropleth": [
           {
            "colorbar": {
             "outlinewidth": 0,
             "ticks": ""
            },
            "type": "choropleth"
           }
          ],
          "contour": [
           {
            "colorbar": {
             "outlinewidth": 0,
             "ticks": ""
            },
            "colorscale": [
             [
              0,
              "#0d0887"
             ],
             [
              0.1111111111111111,
              "#46039f"
             ],
             [
              0.2222222222222222,
              "#7201a8"
             ],
             [
              0.3333333333333333,
              "#9c179e"
             ],
             [
              0.4444444444444444,
              "#bd3786"
             ],
             [
              0.5555555555555556,
              "#d8576b"
             ],
             [
              0.6666666666666666,
              "#ed7953"
             ],
             [
              0.7777777777777778,
              "#fb9f3a"
             ],
             [
              0.8888888888888888,
              "#fdca26"
             ],
             [
              1,
              "#f0f921"
             ]
            ],
            "type": "contour"
           }
          ],
          "contourcarpet": [
           {
            "colorbar": {
             "outlinewidth": 0,
             "ticks": ""
            },
            "type": "contourcarpet"
           }
          ],
          "heatmap": [
           {
            "colorbar": {
             "outlinewidth": 0,
             "ticks": ""
            },
            "colorscale": [
             [
              0,
              "#0d0887"
             ],
             [
              0.1111111111111111,
              "#46039f"
             ],
             [
              0.2222222222222222,
              "#7201a8"
             ],
             [
              0.3333333333333333,
              "#9c179e"
             ],
             [
              0.4444444444444444,
              "#bd3786"
             ],
             [
              0.5555555555555556,
              "#d8576b"
             ],
             [
              0.6666666666666666,
              "#ed7953"
             ],
             [
              0.7777777777777778,
              "#fb9f3a"
             ],
             [
              0.8888888888888888,
              "#fdca26"
             ],
             [
              1,
              "#f0f921"
             ]
            ],
            "type": "heatmap"
           }
          ],
          "heatmapgl": [
           {
            "colorbar": {
             "outlinewidth": 0,
             "ticks": ""
            },
            "colorscale": [
             [
              0,
              "#0d0887"
             ],
             [
              0.1111111111111111,
              "#46039f"
             ],
             [
              0.2222222222222222,
              "#7201a8"
             ],
             [
              0.3333333333333333,
              "#9c179e"
             ],
             [
              0.4444444444444444,
              "#bd3786"
             ],
             [
              0.5555555555555556,
              "#d8576b"
             ],
             [
              0.6666666666666666,
              "#ed7953"
             ],
             [
              0.7777777777777778,
              "#fb9f3a"
             ],
             [
              0.8888888888888888,
              "#fdca26"
             ],
             [
              1,
              "#f0f921"
             ]
            ],
            "type": "heatmapgl"
           }
          ],
          "histogram": [
           {
            "marker": {
             "pattern": {
              "fillmode": "overlay",
              "size": 10,
              "solidity": 0.2
             }
            },
            "type": "histogram"
           }
          ],
          "histogram2d": [
           {
            "colorbar": {
             "outlinewidth": 0,
             "ticks": ""
            },
            "colorscale": [
             [
              0,
              "#0d0887"
             ],
             [
              0.1111111111111111,
              "#46039f"
             ],
             [
              0.2222222222222222,
              "#7201a8"
             ],
             [
              0.3333333333333333,
              "#9c179e"
             ],
             [
              0.4444444444444444,
              "#bd3786"
             ],
             [
              0.5555555555555556,
              "#d8576b"
             ],
             [
              0.6666666666666666,
              "#ed7953"
             ],
             [
              0.7777777777777778,
              "#fb9f3a"
             ],
             [
              0.8888888888888888,
              "#fdca26"
             ],
             [
              1,
              "#f0f921"
             ]
            ],
            "type": "histogram2d"
           }
          ],
          "histogram2dcontour": [
           {
            "colorbar": {
             "outlinewidth": 0,
             "ticks": ""
            },
            "colorscale": [
             [
              0,
              "#0d0887"
             ],
             [
              0.1111111111111111,
              "#46039f"
             ],
             [
              0.2222222222222222,
              "#7201a8"
             ],
             [
              0.3333333333333333,
              "#9c179e"
             ],
             [
              0.4444444444444444,
              "#bd3786"
             ],
             [
              0.5555555555555556,
              "#d8576b"
             ],
             [
              0.6666666666666666,
              "#ed7953"
             ],
             [
              0.7777777777777778,
              "#fb9f3a"
             ],
             [
              0.8888888888888888,
              "#fdca26"
             ],
             [
              1,
              "#f0f921"
             ]
            ],
            "type": "histogram2dcontour"
           }
          ],
          "mesh3d": [
           {
            "colorbar": {
             "outlinewidth": 0,
             "ticks": ""
            },
            "type": "mesh3d"
           }
          ],
          "parcoords": [
           {
            "line": {
             "colorbar": {
              "outlinewidth": 0,
              "ticks": ""
             }
            },
            "type": "parcoords"
           }
          ],
          "pie": [
           {
            "automargin": true,
            "type": "pie"
           }
          ],
          "scatter": [
           {
            "fillpattern": {
             "fillmode": "overlay",
             "size": 10,
             "solidity": 0.2
            },
            "type": "scatter"
           }
          ],
          "scatter3d": [
           {
            "line": {
             "colorbar": {
              "outlinewidth": 0,
              "ticks": ""
             }
            },
            "marker": {
             "colorbar": {
              "outlinewidth": 0,
              "ticks": ""
             }
            },
            "type": "scatter3d"
           }
          ],
          "scattercarpet": [
           {
            "marker": {
             "colorbar": {
              "outlinewidth": 0,
              "ticks": ""
             }
            },
            "type": "scattercarpet"
           }
          ],
          "scattergeo": [
           {
            "marker": {
             "colorbar": {
              "outlinewidth": 0,
              "ticks": ""
             }
            },
            "type": "scattergeo"
           }
          ],
          "scattergl": [
           {
            "marker": {
             "colorbar": {
              "outlinewidth": 0,
              "ticks": ""
             }
            },
            "type": "scattergl"
           }
          ],
          "scattermapbox": [
           {
            "marker": {
             "colorbar": {
              "outlinewidth": 0,
              "ticks": ""
             }
            },
            "type": "scattermapbox"
           }
          ],
          "scatterpolar": [
           {
            "marker": {
             "colorbar": {
              "outlinewidth": 0,
              "ticks": ""
             }
            },
            "type": "scatterpolar"
           }
          ],
          "scatterpolargl": [
           {
            "marker": {
             "colorbar": {
              "outlinewidth": 0,
              "ticks": ""
             }
            },
            "type": "scatterpolargl"
           }
          ],
          "scatterternary": [
           {
            "marker": {
             "colorbar": {
              "outlinewidth": 0,
              "ticks": ""
             }
            },
            "type": "scatterternary"
           }
          ],
          "surface": [
           {
            "colorbar": {
             "outlinewidth": 0,
             "ticks": ""
            },
            "colorscale": [
             [
              0,
              "#0d0887"
             ],
             [
              0.1111111111111111,
              "#46039f"
             ],
             [
              0.2222222222222222,
              "#7201a8"
             ],
             [
              0.3333333333333333,
              "#9c179e"
             ],
             [
              0.4444444444444444,
              "#bd3786"
             ],
             [
              0.5555555555555556,
              "#d8576b"
             ],
             [
              0.6666666666666666,
              "#ed7953"
             ],
             [
              0.7777777777777778,
              "#fb9f3a"
             ],
             [
              0.8888888888888888,
              "#fdca26"
             ],
             [
              1,
              "#f0f921"
             ]
            ],
            "type": "surface"
           }
          ],
          "table": [
           {
            "cells": {
             "fill": {
              "color": "#EBF0F8"
             },
             "line": {
              "color": "white"
             }
            },
            "header": {
             "fill": {
              "color": "#C8D4E3"
             },
             "line": {
              "color": "white"
             }
            },
            "type": "table"
           }
          ]
         },
         "layout": {
          "annotationdefaults": {
           "arrowcolor": "#2a3f5f",
           "arrowhead": 0,
           "arrowwidth": 1
          },
          "autotypenumbers": "strict",
          "coloraxis": {
           "colorbar": {
            "outlinewidth": 0,
            "ticks": ""
           }
          },
          "colorscale": {
           "diverging": [
            [
             0,
             "#8e0152"
            ],
            [
             0.1,
             "#c51b7d"
            ],
            [
             0.2,
             "#de77ae"
            ],
            [
             0.3,
             "#f1b6da"
            ],
            [
             0.4,
             "#fde0ef"
            ],
            [
             0.5,
             "#f7f7f7"
            ],
            [
             0.6,
             "#e6f5d0"
            ],
            [
             0.7,
             "#b8e186"
            ],
            [
             0.8,
             "#7fbc41"
            ],
            [
             0.9,
             "#4d9221"
            ],
            [
             1,
             "#276419"
            ]
           ],
           "sequential": [
            [
             0,
             "#0d0887"
            ],
            [
             0.1111111111111111,
             "#46039f"
            ],
            [
             0.2222222222222222,
             "#7201a8"
            ],
            [
             0.3333333333333333,
             "#9c179e"
            ],
            [
             0.4444444444444444,
             "#bd3786"
            ],
            [
             0.5555555555555556,
             "#d8576b"
            ],
            [
             0.6666666666666666,
             "#ed7953"
            ],
            [
             0.7777777777777778,
             "#fb9f3a"
            ],
            [
             0.8888888888888888,
             "#fdca26"
            ],
            [
             1,
             "#f0f921"
            ]
           ],
           "sequentialminus": [
            [
             0,
             "#0d0887"
            ],
            [
             0.1111111111111111,
             "#46039f"
            ],
            [
             0.2222222222222222,
             "#7201a8"
            ],
            [
             0.3333333333333333,
             "#9c179e"
            ],
            [
             0.4444444444444444,
             "#bd3786"
            ],
            [
             0.5555555555555556,
             "#d8576b"
            ],
            [
             0.6666666666666666,
             "#ed7953"
            ],
            [
             0.7777777777777778,
             "#fb9f3a"
            ],
            [
             0.8888888888888888,
             "#fdca26"
            ],
            [
             1,
             "#f0f921"
            ]
           ]
          },
          "colorway": [
           "#636efa",
           "#EF553B",
           "#00cc96",
           "#ab63fa",
           "#FFA15A",
           "#19d3f3",
           "#FF6692",
           "#B6E880",
           "#FF97FF",
           "#FECB52"
          ],
          "font": {
           "color": "#2a3f5f"
          },
          "geo": {
           "bgcolor": "white",
           "lakecolor": "white",
           "landcolor": "#E5ECF6",
           "showlakes": true,
           "showland": true,
           "subunitcolor": "white"
          },
          "hoverlabel": {
           "align": "left"
          },
          "hovermode": "closest",
          "mapbox": {
           "style": "light"
          },
          "paper_bgcolor": "white",
          "plot_bgcolor": "#E5ECF6",
          "polar": {
           "angularaxis": {
            "gridcolor": "white",
            "linecolor": "white",
            "ticks": ""
           },
           "bgcolor": "#E5ECF6",
           "radialaxis": {
            "gridcolor": "white",
            "linecolor": "white",
            "ticks": ""
           }
          },
          "scene": {
           "xaxis": {
            "backgroundcolor": "#E5ECF6",
            "gridcolor": "white",
            "gridwidth": 2,
            "linecolor": "white",
            "showbackground": true,
            "ticks": "",
            "zerolinecolor": "white"
           },
           "yaxis": {
            "backgroundcolor": "#E5ECF6",
            "gridcolor": "white",
            "gridwidth": 2,
            "linecolor": "white",
            "showbackground": true,
            "ticks": "",
            "zerolinecolor": "white"
           },
           "zaxis": {
            "backgroundcolor": "#E5ECF6",
            "gridcolor": "white",
            "gridwidth": 2,
            "linecolor": "white",
            "showbackground": true,
            "ticks": "",
            "zerolinecolor": "white"
           }
          },
          "shapedefaults": {
           "line": {
            "color": "#2a3f5f"
           }
          },
          "ternary": {
           "aaxis": {
            "gridcolor": "white",
            "linecolor": "white",
            "ticks": ""
           },
           "baxis": {
            "gridcolor": "white",
            "linecolor": "white",
            "ticks": ""
           },
           "bgcolor": "#E5ECF6",
           "caxis": {
            "gridcolor": "white",
            "linecolor": "white",
            "ticks": ""
           }
          },
          "title": {
           "x": 0.05
          },
          "xaxis": {
           "automargin": true,
           "gridcolor": "white",
           "linecolor": "white",
           "ticks": "",
           "title": {
            "standoff": 15
           },
           "zerolinecolor": "white",
           "zerolinewidth": 2
          },
          "yaxis": {
           "automargin": true,
           "gridcolor": "white",
           "linecolor": "white",
           "ticks": "",
           "title": {
            "standoff": 15
           },
           "zerolinecolor": "white",
           "zerolinewidth": 2
          }
         }
        },
        "title": {
         "font": {
          "size": 20
         },
         "text": "Balanced Error Rate Parity by Pathology and Group",
         "x": 0.5
        },
        "width": 1024,
        "xaxis": {
         "title": {
          "text": "Pathology"
         }
        },
        "yaxis": {
         "title": {
          "text": "Balanced Error Rate Parity"
         }
        }
       }
      }
     },
     "metadata": {},
     "output_type": "display_data"
    }
   ],
   "source": [
    "# plot parity difference per slice\n",
    "plots = []\n",
    "\n",
    "for slice_name, slice_results in nih_fairness_result.items():\n",
    "    plots.append(\n",
    "        go.Scatter(\n",
    "            x=pathologies,\n",
    "            y=slice_results[\"BalancedErrorRate Parity\"],\n",
    "            name=slice_name,\n",
    "            mode=\"markers\",\n",
    "        )\n",
    "    )\n",
    "\n",
    "layout = go.Layout(\n",
    "    paper_bgcolor=\"rgba(0,0,0,0)\",\n",
    "    plot_bgcolor=\"rgba(0,0,0,0)\",\n",
    ")\n",
    "\n",
    "fairness_2 = go.Figure(data=plots, layout=layout)\n",
    "fairness_2.update_layout(\n",
    "    title=\"Balanced Error Rate Parity by Pathology and Group\",\n",
    "    title_x=0.5,\n",
    "    title_font_size=20,\n",
    "    xaxis_title=\"Pathology\",\n",
    "    yaxis_title=\"Balanced Error Rate Parity\",\n",
    "    width=1024,\n",
    "    height=768,\n",
    ")\n",
    "fairness_2.update_traces(\n",
    "    marker=dict(size=12, line=dict(width=2)),\n",
    "    selector=dict(mode=\"markers\"),\n",
    ")"
   ]
  },
  {
   "cell_type": "markdown",
   "id": "e5eec4e5",
   "metadata": {},
   "source": [
    "### Log Performance Metrics as Tests w/ Thresholds"
   ]
  },
  {
   "cell_type": "code",
   "execution_count": 10,
   "id": "ec627997",
   "metadata": {},
   "outputs": [],
   "source": [
    "results_flat = {}\n",
    "for slice, metrics in nih_eval_results_age.items():\n",
    "    for name, metric in metrics.items():\n",
    "        results_flat[f\"{name}/{slice}\"] = metric.mean()\n",
    "        for itr, m in enumerate(metric):\n",
    "            results_flat[f\"{name}/{slice} ({pathologies[itr]})\"] = m\n",
    "for slice, metrics in nih_eval_results_gender.items():\n",
    "    for name, metric in metrics.items():\n",
    "        results_flat[f\"{name}/{slice}\"] = metric.mean()\n",
    "        for itr, m in enumerate(metric):\n",
    "            results_flat[f\"{name}/{slice} ({pathologies[itr]})\"] = m\n",
    "\n",
    "for name, metric in results_flat.items():\n",
    "    name, split = name.split(\"/\")\n",
    "    report.log_quantitative_analysis(\n",
    "        \"performance\",\n",
    "        name=name,\n",
    "        value=metric,\n",
    "        metric_slice=split,\n",
    "        pass_fail_thresholds=0.7,\n",
    "        pass_fail_threshold_fns=lambda x, threshold: bool(x >= threshold),\n",
    "    )"
   ]
  },
  {
   "cell_type": "markdown",
   "id": "0e02fffa",
   "metadata": {},
   "source": [
    "### Performance over time\n",
    "\n",
    "We can monitor the change of performance metrics over time by leveraging historical reports. This involves using the `get_metrics_trends` function to gather prior metrics and merge them with recent results. We can specify which metrics and slices we wish to observe. Once the data is collected, we generate the plot using the `metrics_trends` method from the plotter, which can then be integrated into the report.\n",
    "\n",
    "Please note, for the purpose of this tutorial, we will create three dummy reports to demonstrate the process of plotting these metric trends."
   ]
  },
  {
   "cell_type": "code",
   "execution_count": 11,
   "id": "8db232df",
   "metadata": {},
   "outputs": [
    {
     "ename": "AssertionError",
     "evalue": "No performance metrics found. Check slice and metric names.",
     "output_type": "error",
     "traceback": [
      "\u001b[0;31m---------------------------------------------------------------------------\u001b[0m",
      "\u001b[0;31mAssertionError\u001b[0m                            Traceback (most recent call last)",
      "Cell \u001b[0;32mIn[11], line 33\u001b[0m\n\u001b[1;32m     30\u001b[0m     os\u001b[39m.\u001b[39mrename(date_dir, new_dir)\n\u001b[1;32m     32\u001b[0m \u001b[39m# Collecting performance metrics from previous reports and current report\u001b[39;00m\n\u001b[0;32m---> 33\u001b[0m trends \u001b[39m=\u001b[39m get_metrics_trends(\n\u001b[1;32m     34\u001b[0m     report_directory\u001b[39m=\u001b[39;49mdummy_report_dir,\n\u001b[1;32m     35\u001b[0m     flat_results\u001b[39m=\u001b[39;49mresults_flat,\n\u001b[1;32m     36\u001b[0m     slice_names\u001b[39m=\u001b[39;49m[\u001b[39m\"\u001b[39;49m\u001b[39moverall\u001b[39;49m\u001b[39m\"\u001b[39;49m],\n\u001b[1;32m     37\u001b[0m )\n\u001b[1;32m     39\u001b[0m plotter \u001b[39m=\u001b[39m ClassificationPlotter(task_type\u001b[39m=\u001b[39m\u001b[39m\"\u001b[39m\u001b[39mmultilabel\u001b[39m\u001b[39m\"\u001b[39m, class_num\u001b[39m=\u001b[39m\u001b[39mlen\u001b[39m(pathologies), \n\u001b[1;32m     40\u001b[0m                                 class_names\u001b[39m=\u001b[39mpathologies)\n\u001b[1;32m     41\u001b[0m plotter\u001b[39m.\u001b[39mset_template(\u001b[39m\"\u001b[39m\u001b[39mplotly_white\u001b[39m\u001b[39m\"\u001b[39m)\n",
      "File \u001b[0;32m~/vscodeprojects/cyclops/cyclops/report/utils.py:324\u001b[0m, in \u001b[0;36mget_metrics_trends\u001b[0;34m(report_directory, flat_results, keep_timestamps, slice_names, metric_names)\u001b[0m\n\u001b[1;32m    317\u001b[0m     performance_recent\u001b[39m.\u001b[39mappend(data)\n\u001b[1;32m    319\u001b[0m performance_recent \u001b[39m=\u001b[39m filter_results(\n\u001b[1;32m    320\u001b[0m     performance_recent,\n\u001b[1;32m    321\u001b[0m     slice_names\u001b[39m=\u001b[39mslice_names,\n\u001b[1;32m    322\u001b[0m     metric_names\u001b[39m=\u001b[39mmetric_names,\n\u001b[1;32m    323\u001b[0m )\n\u001b[0;32m--> 324\u001b[0m \u001b[39massert\u001b[39;00m (\n\u001b[1;32m    325\u001b[0m     \u001b[39mlen\u001b[39m(performance_recent) \u001b[39m>\u001b[39m \u001b[39m0\u001b[39m\n\u001b[1;32m    326\u001b[0m ), \u001b[39m\"\u001b[39m\u001b[39mNo performance metrics found. Check slice and metric names.\u001b[39m\u001b[39m\"\u001b[39m\n\u001b[1;32m    327\u001b[0m today \u001b[39m=\u001b[39m dt_date\u001b[39m.\u001b[39mtoday()\u001b[39m.\u001b[39mstrftime(\u001b[39m\"\u001b[39m\u001b[39m%\u001b[39m\u001b[39mY-\u001b[39m\u001b[39m%\u001b[39m\u001b[39mm-\u001b[39m\u001b[39m%d\u001b[39;00m\u001b[39m\"\u001b[39m)\n\u001b[1;32m    328\u001b[0m now \u001b[39m=\u001b[39m dt_datetime\u001b[39m.\u001b[39mnow()\u001b[39m.\u001b[39mstrftime(\u001b[39m\"\u001b[39m\u001b[39m%\u001b[39m\u001b[39mH-\u001b[39m\u001b[39m%\u001b[39m\u001b[39mM-\u001b[39m\u001b[39m%\u001b[39m\u001b[39mS\u001b[39m\u001b[39m\"\u001b[39m)\n",
      "\u001b[0;31mAssertionError\u001b[0m: No performance metrics found. Check slice and metric names."
     ]
    }
   ],
   "source": [
    "# Generating dummy reports\n",
    "dummy_report_num = 3\n",
    "dummy_report_dir = join(os.getcwd(), \"dummy_reports\")\n",
    "\n",
    "for i in range(dummy_report_num):\n",
    "    # Create a dummy model card report\n",
    "    dummy_report = ModelCardReport(output_dir=dummy_report_dir)\n",
    "    # Add noise to the recent results to simulate the model performance change\n",
    "    random_noise = np.random.uniform(-0.1, 0.1)\n",
    "    dummy_result = {\n",
    "        key: max(0, value - random_noise) for key, value in results_flat.items()\n",
    "    }\n",
    "    for name, metric in dummy_result.items():\n",
    "        name, split = name.split(\"/\")\n",
    "        dummy_report.log_quantitative_analysis(\n",
    "            \"performance\",\n",
    "            name=name,\n",
    "            value=metric,\n",
    "            metric_slice=split,\n",
    "            pass_fail_thresholds=0.7,\n",
    "            pass_fail_threshold_fns=lambda x, threshold: bool(x >= threshold),\n",
    "        )\n",
    "    # Rename the report folder to the dummy date to simulate the time change\n",
    "    dummy_report_path = dummy_report.export()\n",
    "    date_dir = Path(dummy_report_path).parents[1]\n",
    "    dummy_date = date.today() + relativedelta(months=-(6 * (i + 1)))\n",
    "    new_dir = f\"{dummy_report_dir}/{dummy_date}\"\n",
    "    if os.path.exists(new_dir):\n",
    "        shutil.rmtree(new_dir)\n",
    "    os.rename(date_dir, new_dir)\n",
    "\n",
    "# Collecting performance metrics from previous reports and current report\n",
    "trends = get_metrics_trends(\n",
    "    report_directory=dummy_report_dir,\n",
    "    flat_results=results_flat,\n",
    "    slice_names=[\"overall\"],\n",
    ")\n",
    "\n",
    "plotter = ClassificationPlotter(task_type=\"multilabel\", class_num=len(pathologies), \n",
    "                                class_names=pathologies)\n",
    "plotter.set_template(\"plotly_white\")\n",
    "\n",
    "# Plotting the performance over time\n",
    "trends_plot = plotter.metrics_trends(trends)\n",
    "report.log_plotly_figure(\n",
    "    fig=trends_plot,\n",
    "    caption=\"Performance over time\",\n",
    "    section_name=\"quantitative analysis\",\n",
    ")\n",
    "trends_plot.show()"
   ]
  },
  {
   "attachments": {},
   "cell_type": "markdown",
   "id": "ff0664e9",
   "metadata": {},
   "source": [
    "## Populate Model Card Fields"
   ]
  },
  {
   "cell_type": "code",
   "execution_count": null,
   "id": "c9d6fe83",
   "metadata": {},
   "outputs": [],
   "source": [
    "\n",
    "# model details for NIH Chest X-Ray model\n",
    "report.log_from_dict(\n",
    "    data={\n",
    "        \"name\": \"NIH Chest X-Ray Multi-label Classification Model\",\n",
    "        \"description\": \"This model is a DenseNet121 model trained on the NIH Chest \\\n",
    "            X-Ray dataset, which contains 112,120 frontal-view X-ray images of 30,805 \\\n",
    "            unique patients with the fourteen text-mined disease labels from the \\\n",
    "            associated radiological reports. The labels are Atelectasis, Cardiomegaly, \\\n",
    "            Effusion, Infiltration, Mass, Nodule, Pneumonia, Pneumothorax, \\\n",
    "            Consolidation, Edema, Emphysema, Fibrosis, Pleural Thickening, and Hernia. \\\n",
    "            The model was trained on 80% of the data and evaluated on the remaining \\\n",
    "            20%.\",\n",
    "        \"references\": [{\"link\": \"https://arxiv.org/abs/2111.00595\"}],\n",
    "    },\n",
    "    section_name=\"Model Details\",\n",
    ")\n",
    "\n",
    "report.log_citation(\n",
    "    citation=\"\"\"@inproceedings{Cohen2022xrv,\n",
    "    title = {{TorchXRayVision: A library of chest X-ray datasets and models}},\n",
    "    author = {Cohen, Joseph Paul and Viviano, Joseph D. and Bertin, \\\n",
    "    Paul and Morrison,Paul and Torabian, Parsa and Guarrera, \\\n",
    "    Matteo and Lungren, Matthew P and Chaudhari,\\\n",
    "    Akshay and Brooks, Rupert and Hashir, \\\n",
    "    Mohammad and Bertrand, Hadrien},\n",
    "    booktitle = {Medical Imaging with Deep Learning},\n",
    "    url = {https://github.com/mlmed/torchxrayvision},\n",
    "    arxivId = {2111.00595},\n",
    "    year = {2022}\n",
    "    }\"\"\",\n",
    ")\n",
    "\n",
    "report.log_citation(\n",
    "    citation=\"\"\"@inproceedings{cohen2020limits,\n",
    "    title={On the limits of cross-domain generalization\\\n",
    "            in automated X-ray prediction},\n",
    "    author={Cohen, Joseph Paul and Hashir, Mohammad and Brooks, \\\n",
    "        Rupert and Bertrand, Hadrien},\n",
    "    booktitle={Medical Imaging with Deep Learning},\n",
    "    year={2020},\n",
    "    url={https://arxiv.org/abs/2002.02497}\n",
    "    }\"\"\",\n",
    ")\n",
    "\n",
    "report.log_owner(name=\"Machine Learning and Medicine Lab\", contact=\"mlmed.org\")\n",
    "\n",
    "# considerations\n",
    "report.log_user(description=\"Radiologists\")\n",
    "report.log_user(description=\"Data Scientists\")\n",
    "\n",
    "report.log_use_case(\n",
    "    description=\"The model can be used to predict the presence of 14 pathologies \\\n",
    "        in chest X-ray images.\",\n",
    "    kind=\"primary\",\n",
    ")\n",
    "report.log_descriptor(\n",
    "    name=\"limitations\",\n",
    "    description=\"The limitations of this model include its inability to detect \\\n",
    "                pathologies that are not included in the 14 labels of the NIH \\\n",
    "                Chest X-Ray dataset. Additionally, the model may not perform \\\n",
    "                well on images that are of poor quality or that contain \\\n",
    "                artifacts. Finally, the model may not generalize well to\\\n",
    "                populations that are not well-represented in the training \\\n",
    "                data, such as patients from different geographic regions or \\\n",
    "                with different demographics.\",\n",
    "    section_name=\"considerations\",\n",
    ")\n",
    "report.log_descriptor(\n",
    "    name=\"tradeoffs\",\n",
    "    description=\"The model can help radiologists to detect pathologies in \\\n",
    "        chest X-ray images, but it may not generalize well to populations \\\n",
    "        that are not well-represented in the training data.\",\n",
    "    section_name=\"considerations\",\n",
    ")\n",
    "report.log_risk(\n",
    "    risk=\"One ethical risk of the model is that it may not generalize well to \\\n",
    "        populations that are not well-represented in the training data,\\\n",
    "        such as patients from different geographic regions \\\n",
    "        or with different demographics. \",\n",
    "    mitigation_strategy=\"A mitigation strategy for this risk is to ensure \\\n",
    "        that the training data is diverse and representative of the population \\\n",
    "            that the model will be used on. Additionally, the model should be \\\n",
    "            regularly evaluated and updated to ensure that it continues to \\\n",
    "            perform well on diverse populations. Finally, the model should \\\n",
    "            be used in conjunction with human expertise to ensure that \\\n",
    "            any biases or limitations are identified and addressed.\",\n",
    ")\n",
    "report.log_fairness_assessment(\n",
    "    affected_group=\"Patients with rare pathologies\",\n",
    "    benefit=\"The model can help radiologists to detect pathologies in \\\n",
    "        chest X-ray images.\",\n",
    "    harm=\"The model may not generalize well to populations that are not \\\n",
    "        well-represented in the training data.\",\n",
    "    mitigation_strategy=\"A mitigation strategy for this risk is to ensure that \\\n",
    "        the training data is diverse and representative of the population.\",\n",
    ")\n",
    "\n",
    "\n",
    "# qualitative analysis\n",
    "report.log_plotly_figure(\n",
    "    fig=perf_metric_gender,\n",
    "    caption=\"MultiLabel AUROC by Pathology\",\n",
    "    section_name=\"Quantitative Analysis\",\n",
    ")\n",
    "\n",
    "report.log_plotly_figure(\n",
    "    fig=perf_metric_age,\n",
    "    caption=\"MultiLabel AUROC by Pathology\",\n",
    "    section_name=\"Quantitative Analysis\",\n",
    ")\n",
    "\n",
    "report.log_plotly_figure(\n",
    "    fig=fairness_1,\n",
    "    caption=\"Balanced Error Rate by Pathology\",\n",
    "    section_name=\"Fairness Analysis\",\n",
    ")\n",
    "report.log_plotly_figure(\n",
    "    fig=fairness_2,\n",
    "    caption=\"Balanced Error Rate Parity by Pathology\",\n",
    "    section_name=\"Fairness Analysis\",\n",
    ")"
   ]
  },
  {
   "cell_type": "code",
   "execution_count": null,
   "id": "ae088e5b",
   "metadata": {},
   "outputs": [
    {
     "data": {
      "text/plain": [
       "'./model_card.html'"
      ]
     },
     "execution_count": 32,
     "metadata": {},
     "output_type": "execute_result"
    }
   ],
   "source": [
    "report_path = report.export()\n",
    "shutil.copy(f\"{report_path}\", \".\")"
   ]
  },
  {
   "cell_type": "markdown",
   "id": "d7545d39",
   "metadata": {},
   "source": [
    "You can view the generated HTML [report](./model_card.html)."
   ]
  }
 ],
 "metadata": {
  "kernelspec": {
   "display_name": "pycyclops-4J2PL5I8-py3.9",
   "language": "python",
   "name": "python3"
  },
  "language_info": {
   "codemirror_mode": {
    "name": "ipython",
    "version": 3
   },
   "file_extension": ".py",
   "mimetype": "text/x-python",
   "name": "python",
   "nbconvert_exporter": "python",
   "pygments_lexer": "ipython3",
   "version": "3.9.7"
  }
 },
 "nbformat": 4,
 "nbformat_minor": 5
}
