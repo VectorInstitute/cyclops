{
 "cells": [
  {
   "cell_type": "markdown",
   "metadata": {},
   "source": [
    "# NIHCXR Detectron Experiments"
   ]
  },
  {
   "cell_type": "markdown",
   "metadata": {},
   "source": [
    "## Import Libraries and Load NIHCXR Dataset"
   ]
  },
  {
   "cell_type": "code",
   "execution_count": null,
   "metadata": {},
   "outputs": [],
   "source": [
    "\"\"\"Uses the Detectron method to detect clinical shifts in the NIH CXR dataset.\"\"\"\n",
    "\n",
    "import numpy as np\n",
    "from monai.transforms import (\n",
    "    Compose,\n",
    "    Lambdad,\n",
    "    Resized,\n",
    ")\n",
    "from torch import nn\n",
    "from torchxrayvision.models import DenseNet\n",
    "\n",
    "from cyclops.data.loader import load_nihcxr\n",
    "from cyclops.monitor import ClinicalShiftApplicator, DCTester\n",
    "\n",
    "\n",
    "DATA_DIR = \"/mnt/data/clinical_datasets/NIHCXR\"\n",
    "\n",
    "nih_ds = load_nihcxr(DATA_DIR)"
   ]
  },
  {
   "cell_type": "markdown",
   "metadata": {},
   "source": [
    "## Generate Source/Target Dataset for Experiment"
   ]
  },
  {
   "cell_type": "code",
   "execution_count": null,
   "metadata": {},
   "outputs": [],
   "source": [
    "# Apply a shift to the dataset\n",
    "shifter = ClinicalShiftApplicator(\n",
    "\"sex\", source=None, target=\"F\", shift_id=\"Patient Gender\",\n",
    ")\n",
    "_, target_ds = shifter.apply_shift(nih_ds[\"test\"], num_proc=6)\n",
    "\n",
    "source_ds = nih_ds\n",
    "target_ds = target_ds.train_test_split(test_size=0.10)\n",
    "\n",
    "source_ds[\"train\"] = source_ds[\"train\"].select(range(1000))\n",
    "source_ds[\"test\"] = source_ds[\"test\"].select(range(1000))\n",
    "\n",
    "target_ds[\"train\"] = target_ds[\"train\"].select(range(1000))\n",
    "target_ds[\"test\"] = target_ds[\"test\"].select(range(1000))\n",
    "\n",
    "transforms = Compose(\n",
    "    [\n",
    "        Resized(\n",
    "            keys=(\"image\",), spatial_size=(224, 224), allow_missing_keys=True,\n",
    "        ),\n",
    "        Lambdad(\n",
    "            keys=(\"image\",),\n",
    "            func=lambda x: ((2 * (x / 255.0)) - 1.0) * 1024,\n",
    "            allow_missing_keys=True,\n",
    "        ),\n",
    "        Lambdad((\"image\",), func=lambda x: np.mean(x, axis=0)[np.newaxis, :] if x.shape[0] != 1 else x),\n",
    "    ],\n",
    ")"
   ]
  },
  {
   "cell_type": "markdown",
   "metadata": {},
   "source": [
    "## Initialize Base Model and Run experiment with Detectron"
   ]
  },
  {
   "cell_type": "code",
   "execution_count": null,
   "metadata": {},
   "outputs": [],
   "source": [
    "# Load the DenseNet model from the torchxrayvision library\n",
    "base_model = DenseNet(weights=\"densenet121-res224-nih\")\n",
    "base_model.classifier.weight = nn.Parameter(base_model.classifier.weight[:14])\n",
    "base_model.classifier.bias = nn.Parameter(base_model.classifier.bias[:14])\n",
    "base_model.op_threshs = base_model.op_threshs[:14]\n",
    "\n",
    "detectron = DCTester(\"detectron\",\n",
    "                  base_model=base_model,\n",
    "                  feature_column=\"image\",\n",
    "                  transforms=transforms,\n",
    "                  task=\"multilabel\",\n",
    "                  sample_size=50,\n",
    "                  max_epochs_per_model=5,\n",
    "                  ensemble_size=5,\n",
    "                  lr=0.01,\n",
    "                  num_runs=20)\n",
    "\n",
    "detectron.fit(source_ds)\n",
    "\n",
    "p_val, distance = detectron.test_shift(target_ds)"
   ]
  }
 ],
 "metadata": {
  "language_info": {
   "name": "python"
  }
 },
 "nbformat": 4,
 "nbformat_minor": 2
}
