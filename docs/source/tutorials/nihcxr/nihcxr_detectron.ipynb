{
 "cells": [
  {
   "cell_type": "markdown",
   "id": "6b2520a8-d4ad-4941-8ea7-71fdd631225f",
   "metadata": {},
   "source": [
    "# NIHCXR Detectron Experiments"
   ]
  },
  {
   "cell_type": "markdown",
   "id": "275fdb05",
   "metadata": {},
   "source": [
    "## Import Libraries and Load NIHCXR Dataset"
   ]
  },
  {
   "cell_type": "code",
   "execution_count": 2,
   "id": "8aa3302d",
   "metadata": {},
   "outputs": [],
   "source": [
    "from monai.transforms import (\n",
    "    Compose,\n",
    "    Lambdad,\n",
    "    Resized,\n",
    ")\n",
    "\n",
    "from torchxrayvision.models import DenseNet\n",
    "from cyclops.data.loader import load_nihcxr\n",
    "from cyclops.monitor import ClinicalShiftApplicator, DCTester\n",
    "from cyclops.monitor.utils import get_device\n",
    "from cyclops.data.slicer import SliceSpec\n",
    "\n",
    "device = get_device()\n",
    "\n",
    "import numpy as np\n",
    "import torch.nn as nn\n",
    "from cyclops.data.loader import load_nihcxr\n",
    "\n",
    "\n",
    "DATA_DIR = \"/mnt/data/clinical_datasets/NIHCXR\"\n",
    "\n",
    "nih_ds = load_nihcxr(DATA_DIR)"
   ]
  },
  {
   "cell_type": "markdown",
   "id": "ebcc72bb",
   "metadata": {},
   "source": [
    "## Generate Source/Target Dataset for Experiments"
   ]
  },
  {
   "cell_type": "code",
   "execution_count": 4,
   "id": "e11920db",
   "metadata": {},
   "outputs": [
    {
     "data": {
      "application/vnd.jupyter.widget-view+json": {
       "model_id": "bd6b7de9a9d2411dbf1668f163604261",
       "version_major": 2,
       "version_minor": 0
      },
      "text/plain": [
       "Filter (num_proc=6):   0%|          | 0/112120 [00:00<?, ? examples/s]"
      ]
     },
     "metadata": {},
     "output_type": "display_data"
    },
    {
     "data": {
      "application/vnd.jupyter.widget-view+json": {
       "model_id": "134cfba021684051b1f2b8fa5e233e9e",
       "version_major": 2,
       "version_minor": 0
      },
      "text/plain": [
       "Filter (num_proc=6):   0%|          | 0/112120 [00:00<?, ? examples/s]"
      ]
     },
     "metadata": {},
     "output_type": "display_data"
    }
   ],
   "source": [
    "shifter = ClinicalShiftApplicator(\n",
    "\"sex\", source=None, target=\"F\", shift_id=\"Patient Gender\"\n",
    ")\n",
    "_, target_ds = shifter.apply_shift(nih_ds[\"test\"], num_proc=6)\n",
    "\n",
    "source_ds = nih_ds\n",
    "target_ds = target_ds.train_test_split(test_size=0.10)\n",
    "\n",
    "source_ds['train'] = source_ds['train'].select(range(1000))\n",
    "source_ds['test'] = source_ds['test'].select(range(1000))\n",
    "\n",
    "target_ds['train'] = target_ds['train'].select(range(1000))\n",
    "target_ds['test'] = target_ds['test'].select(range(1000))\n",
    "\n",
    "transforms = Compose(\n",
    "    [\n",
    "        Resized(\n",
    "            keys=(\"image\",), spatial_size=(224, 224), allow_missing_keys=True\n",
    "        ),\n",
    "        Lambdad(\n",
    "            keys=(\"image\",),\n",
    "            func=lambda x: ((2 * (x / 255.0)) - 1.0) * 1024,\n",
    "            allow_missing_keys=True,\n",
    "        ),\n",
    "        Lambdad((\"image\",), func=lambda x: np.mean(x, axis=0)[np.newaxis, :] if x.shape[0] != 1 else x)   \n",
    "    ]\n",
    ")"
   ]
  },
  {
   "cell_type": "markdown",
   "id": "ab403dc5",
   "metadata": {},
   "source": [
    "## Initialize Base Model and Run experiment with Detectron\n"
   ]
  },
  {
   "cell_type": "code",
   "execution_count": null,
   "id": "54a3523a",
   "metadata": {},
   "outputs": [],
   "source": [
    "base_model = DenseNet(weights=\"densenet121-res224-nih\")\n",
    "base_model.classifier.weight = nn.Parameter(base_model.classifier.weight[:14])\n",
    "base_model.classifier.bias = nn.Parameter(base_model.classifier.bias[:14])\n",
    "base_model.op_threshs = base_model.op_threshs[:14]\n",
    "\n",
    "detectron = DCTester(\"detectron\",\n",
    "                  base_model=base_model,\n",
    "                  model=base_model,\n",
    "                  feature_columns=\"image\",\n",
    "                  transforms=transforms,\n",
    "                  task=\"multilabel\",\n",
    "                  max_epochs_per_model=5,\n",
    "                  ensemble_size=5,\n",
    "                  lr=0.01,\n",
    "                  num_runs=5)\n",
    "\n",
    "detectron.fit(source_ds)\n",
    "\n",
    "p_val, distance = detectron.predict(target_ds)"
   ]
  }
 ],
 "metadata": {
  "kernelspec": {
   "display_name": "pycyclops-4J2PL5I8-py3.9",
   "language": "python",
   "name": "python3"
  },
  "language_info": {
   "codemirror_mode": {
    "name": "ipython",
    "version": 3
   },
   "file_extension": ".py",
   "mimetype": "text/x-python",
   "name": "python",
   "nbconvert_exporter": "python",
   "pygments_lexer": "ipython3",
   "version": "3.9.7"
  }
 },
 "nbformat": 4,
 "nbformat_minor": 5
}
