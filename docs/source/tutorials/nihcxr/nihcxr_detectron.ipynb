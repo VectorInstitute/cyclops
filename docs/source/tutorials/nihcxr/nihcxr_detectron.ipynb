{
 "cells": [
  {
   "cell_type": "markdown",
   "id": "6b2520a8-d4ad-4941-8ea7-71fdd631225f",
   "metadata": {},
   "source": [
    "# NIHCXR Detectron Experiments"
   ]
  },
  {
   "cell_type": "markdown",
   "id": "275fdb05",
   "metadata": {},
   "source": [
    "## Import Libraries and Load NIHCXR Dataset"
   ]
  },
  {
   "cell_type": "code",
   "execution_count": 1,
   "id": "8aa3302d",
   "metadata": {},
   "outputs": [],
   "source": [
    "import numpy as np\n",
    "from monai.transforms import (\n",
    "    Compose,\n",
    "    Lambdad,\n",
    "    Resized,\n",
    ")\n",
    "from torch import nn\n",
    "from torchxrayvision.models import DenseNet\n",
    "\n",
    "from cyclops.data.loader import load_nihcxr\n",
    "from cyclops.monitor import ClinicalShiftApplicator, DCTester\n",
    "\n",
    "DATA_DIR = \"/mnt/data/clinical_datasets/NIHCXR\"\n",
    "\n",
    "nih_ds = load_nihcxr(DATA_DIR)"
   ]
  },
  {
   "cell_type": "markdown",
   "id": "ebcc72bb",
   "metadata": {},
   "source": [
    "## Generate Source/Target Dataset for Experiments"
   ]
  },
  {
   "cell_type": "code",
   "execution_count": 2,
   "id": "e11920db",
   "metadata": {},
   "outputs": [
    {
     "data": {
      "application/vnd.jupyter.widget-view+json": {
       "model_id": "76019369cb3c4acfacd2cba84793819b",
       "version_major": 2,
       "version_minor": 0
      },
      "text/plain": [
       "Filter (num_proc=6):   0%|          | 0/25596 [00:00<?, ? examples/s]"
      ]
     },
     "metadata": {},
     "output_type": "display_data"
    }
   ],
   "source": [
    "shifter = ClinicalShiftApplicator(\n",
    "\"sex\", source=None, target=\"F\", shift_id=\"Patient Gender\",\n",
    ")\n",
    "_, target_ds = shifter.apply_shift(nih_ds[\"test\"], num_proc=6)\n",
    "\n",
    "source_ds = nih_ds\n",
    "target_ds = target_ds.train_test_split(test_size=0.10)\n",
    "\n",
    "source_ds[\"train\"] = source_ds[\"train\"].select(range(1000))\n",
    "source_ds[\"test\"] = source_ds[\"test\"].select(range(1000))\n",
    "\n",
    "target_ds[\"train\"] = target_ds[\"train\"].select(range(1000))\n",
    "target_ds[\"test\"] = target_ds[\"test\"].select(range(1000))\n",
    "\n",
    "transforms = Compose(\n",
    "    [\n",
    "        Resized(\n",
    "            keys=(\"image\",), spatial_size=(224, 224), allow_missing_keys=True,\n",
    "        ),\n",
    "        Lambdad(\n",
    "            keys=(\"image\",),\n",
    "            func=lambda x: ((2 * (x / 255.0)) - 1.0) * 1024,\n",
    "            allow_missing_keys=True,\n",
    "        ),\n",
    "        Lambdad((\"image\",), func=lambda x: np.mean(x, axis=0)[np.newaxis, :] if x.shape[0] != 1 else x),\n",
    "    ],\n",
    ")"
   ]
  },
  {
   "cell_type": "markdown",
   "id": "ab403dc5",
   "metadata": {},
   "source": [
    "## Initialize Base Model and Run experiment with Detectron\n"
   ]
  },
  {
   "cell_type": "code",
   "execution_count": 3,
   "id": "54a3523a",
   "metadata": {},
   "outputs": [
    {
     "data": {
      "application/vnd.jupyter.widget-view+json": {
       "model_id": "da4392f1736a497383630e3e0fb38db5",
       "version_major": 2,
       "version_minor": 0
      },
      "text/plain": [
       "Flattening the indices:   0%|          | 0/10 [00:00<?, ? examples/s]"
      ]
     },
     "metadata": {},
     "output_type": "display_data"
    },
    {
     "data": {
      "application/vnd.jupyter.widget-view+json": {
       "model_id": "dc8ed8cf398f44838d73012e516cfa62",
       "version_major": 2,
       "version_minor": 0
      },
      "text/plain": [
       "Flattening the indices:   0%|          | 0/10 [00:00<?, ? examples/s]"
      ]
     },
     "metadata": {},
     "output_type": "display_data"
    },
    {
     "name": "stderr",
     "output_type": "stream",
     "text": [
      "2023-09-10 21:42:04,041 \u001b[1;37mINFO\u001b[0m cyclops.models.wrappers.pt_model - [1/1]                 Training loss: 0.1361 \t\n",
      "2023-09-10 21:42:04,692 \u001b[1;37mINFO\u001b[0m cyclops.models.wrappers.pt_model - [1/1]                     Validation loss: 0.1479 \t\n",
      "2023-09-10 21:42:04,692 \u001b[1;37mINFO\u001b[0m cyclops.models.wrappers.pt_model - Best model saved at epoch 1 in detectron/saved_models/DetectronModule\n"
     ]
    },
    {
     "data": {
      "application/vnd.jupyter.widget-view+json": {
       "model_id": "7286be242e5a4d22aed6265754ada2ff",
       "version_major": 2,
       "version_minor": 0
      },
      "text/plain": [
       "Flattening the indices:   0%|          | 0/10 [00:00<?, ? examples/s]"
      ]
     },
     "metadata": {},
     "output_type": "display_data"
    },
    {
     "data": {
      "application/vnd.jupyter.widget-view+json": {
       "model_id": "89ef8cd69481419f8c9cd1cb874d7f37",
       "version_major": 2,
       "version_minor": 0
      },
      "text/plain": [
       "Flattening the indices:   0%|          | 0/10 [00:00<?, ? examples/s]"
      ]
     },
     "metadata": {},
     "output_type": "display_data"
    },
    {
     "name": "stderr",
     "output_type": "stream",
     "text": [
      "2023-09-10 21:42:07,099 \u001b[1;37mINFO\u001b[0m cyclops.models.wrappers.pt_model - [1/1]                 Training loss: 0.1484 \t\n",
      "2023-09-10 21:42:07,750 \u001b[1;37mINFO\u001b[0m cyclops.models.wrappers.pt_model - [1/1]                     Validation loss: 0.1489 \t\n",
      "2023-09-10 21:42:07,751 \u001b[1;37mINFO\u001b[0m cyclops.models.wrappers.pt_model - Best model saved at epoch 1 in detectron/saved_models/DetectronModule\n"
     ]
    }
   ],
   "source": [
    "base_model = DenseNet(weights=\"densenet121-res224-nih\")\n",
    "base_model.classifier.weight = nn.Parameter(base_model.classifier.weight[:14])\n",
    "base_model.classifier.bias = nn.Parameter(base_model.classifier.bias[:14])\n",
    "base_model.op_threshs = base_model.op_threshs[:14]\n",
    "\n",
    "detectron = DCTester(\"detectron\",\n",
    "                  base_model=base_model,\n",
    "                  feature_column=\"image\",\n",
    "                  transforms=transforms,\n",
    "                  task=\"multilabel\",\n",
    "                  sample_size=50,\n",
    "                  max_epochs_per_model=5,\n",
    "                  ensemble_size=5,\n",
    "                  lr=0.01,\n",
    "                  num_runs=20)\n",
    "\n",
    "detectron.fit(source_ds)\n",
    "\n",
    "p_val, distance = detectron.test_shift(target_ds)"
   ]
  }
 ],
 "metadata": {
  "kernelspec": {
   "display_name": "pycyclops-4J2PL5I8-py3.9",
   "language": "python",
   "name": "python3"
  },
  "language_info": {
   "codemirror_mode": {
    "name": "ipython",
    "version": 3
   },
   "file_extension": ".py",
   "mimetype": "text/x-python",
   "name": "python",
   "nbconvert_exporter": "python",
   "pygments_lexer": "ipython3",
   "version": "3.9.7"
  }
 },
 "nbformat": 4,
 "nbformat_minor": 5
}
