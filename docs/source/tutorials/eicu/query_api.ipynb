{
 "cells": [
  {
   "cell_type": "markdown",
   "id": "28288104-b8ce-43fa-a22b-8f02239551a5",
   "metadata": {},
   "source": [
    "# eICU-CRD query API tutorial"
   ]
  },
  {
   "cell_type": "markdown",
   "id": "74b155b9-9ba6-455c-b987-4c261c339364",
   "metadata": {},
   "source": [
    "This notebook shows examples of how to use the cyclops.query API on [eicu-CRD](https://eicu-crd.mit.edu/).\n",
    "\n",
    "* First, setup the eICU database according to the instructions in [eicu-code](https://github.com/MIT-LCP/eicu-code/tree/master/build-db/postgres).\n",
    "* The database is assumed to be hosted using postgres. Update the config parameters such as username and password, passed to `EICUQuerier` accordingly."
   ]
  },
  {
   "cell_type": "markdown",
   "id": "0c7c1635-3a70-42d1-99a6-c7f7a9cf9d21",
   "metadata": {},
   "source": [
    "## Imports and instantiate `EICUQuerier`"
   ]
  },
  {
   "cell_type": "code",
   "execution_count": 1,
   "id": "75a140e0-fb27-4319-862f-be54397abe5c",
   "metadata": {
    "tags": []
   },
   "outputs": [
    {
     "name": "stderr",
     "output_type": "stream",
     "text": [
      "2023-02-22 16:04:49,072 \u001b[1;37mINFO\u001b[0m cyclops.query.orm - Database setup, ready to run queries!\n"
     ]
    },
    {
     "data": {
      "text/plain": [
       "['patient',\n",
       " 'admissiondx',\n",
       " 'diagnosis',\n",
       " 'hospital',\n",
       " 'lab',\n",
       " 'medication',\n",
       " 'vitalperiodic',\n",
       " 'vitalaperiodic',\n",
       " 'respiratorycare',\n",
       " 'respiratorycharting',\n",
       " 'intakeoutput',\n",
       " 'microlab',\n",
       " 'treatment',\n",
       " 'infusiondrug']"
      ]
     },
     "execution_count": 1,
     "metadata": {},
     "output_type": "execute_result"
    }
   ],
   "source": [
    "import cyclops.query.ops as qo\n",
    "from cyclops.query import EICUQuerier\n",
    "\n",
    "eicu = EICUQuerier(\n",
    "    dbms=\"postgresql\",\n",
    "    port=5432,\n",
    "    host=\"localhost\",\n",
    "    database=\"eicu\",\n",
    "    user=\"postgres\",\n",
    "    password=\"pwd\",\n",
    ")\n",
    "# List all tables.\n",
    "eicu.list_tables()"
   ]
  },
  {
   "cell_type": "markdown",
   "id": "ea04cc11-e947-4097-91df-729f28b3732c",
   "metadata": {},
   "source": [
    "## Example 1. Get all female patients discharged in 2014."
   ]
  },
  {
   "cell_type": "code",
   "execution_count": 2,
   "id": "c1efa964-8978-4a0e-9892-5ea4ce9953a3",
   "metadata": {
    "tags": []
   },
   "outputs": [
    {
     "name": "stderr",
     "output_type": "stream",
     "text": [
      "2023-02-22 16:04:49,822 \u001b[1;37mINFO\u001b[0m cyclops.query.orm - Query returned successfully!\n",
      "2023-02-22 16:04:49,823 \u001b[1;37mINFO\u001b[0m cyclops.utils.profile - Finished executing function run_query in 0.737342 s\n"
     ]
    },
    {
     "name": "stdout",
     "output_type": "stream",
     "text": [
      "43717 rows extracted!\n"
     ]
    }
   ],
   "source": [
    "ops = qo.Sequential(\n",
    "    [\n",
    "        qo.ConditionEquals(\"hospitaldischargeyear\", 2014),\n",
    "        qo.ConditionEquals(\"gender\", \"Female\"),\n",
    "    ]\n",
    ")\n",
    "patients = eicu.patient(ops=ops).run()\n",
    "print(f\"{len(patients)} rows extracted!\")"
   ]
  },
  {
   "cell_type": "markdown",
   "id": "cd43679b-3d33-4135-b97c-373447289a9c",
   "metadata": {
    "tags": []
   },
   "source": [
    "## Example 2. Get all patient encounters with diagnoses (`schizophrenia` in `diagnosisstring`), discharged in the year 2015."
   ]
  },
  {
   "cell_type": "code",
   "execution_count": 3,
   "id": "a7ab5fa3-e26b-47a7-818f-1bf367a55760",
   "metadata": {
    "tags": []
   },
   "outputs": [
    {
     "name": "stderr",
     "output_type": "stream",
     "text": [
      "2023-02-22 16:04:51,493 \u001b[1;37mINFO\u001b[0m cyclops.query.orm - Query returned successfully!\n",
      "2023-02-22 16:04:51,493 \u001b[1;37mINFO\u001b[0m cyclops.utils.profile - Finished executing function run_query in 1.521227 s\n"
     ]
    },
    {
     "name": "stdout",
     "output_type": "stream",
     "text": [
      "1348 rows extracted!\n"
     ]
    }
   ],
   "source": [
    "ops = qo.Sequential(\n",
    "    [\n",
    "        qo.ConditionEquals(\"hospitaldischargeyear\", 2015),\n",
    "    ]\n",
    ")\n",
    "patients = eicu.patient(ops=ops)\n",
    "diagnosis_ops = qo.Sequential(\n",
    "    [\n",
    "        qo.ConditionSubstring(\"diagnosisstring\", \"schizophrenia\"),\n",
    "    ]\n",
    ")\n",
    "diagnoses = eicu.diagnosis(\n",
    "    join=qo.JoinArgs(\n",
    "        join_table=patients.query,\n",
    "        on=\"patientunitstayid\",\n",
    "    ),\n",
    "    ops=diagnosis_ops,\n",
    ").run()\n",
    "print(f\"{len(diagnoses)} rows extracted!\")"
   ]
  },
  {
   "cell_type": "markdown",
   "id": "241f7d10-9e04-44ae-b325-87f5a4046df2",
   "metadata": {},
   "source": [
    "## Example 3. Get potassium lab tests for patients discharged in the year 2014, for all teaching hospitals."
   ]
  },
  {
   "cell_type": "code",
   "execution_count": 4,
   "id": "24043abc-1878-4e00-8229-36d4a0368b98",
   "metadata": {
    "tags": []
   },
   "outputs": [
    {
     "name": "stderr",
     "output_type": "stream",
     "text": [
      "2023-02-22 16:05:05,321 \u001b[1;37mINFO\u001b[0m cyclops.query.orm - Query returned successfully!\n",
      "2023-02-22 16:05:05,322 \u001b[1;37mINFO\u001b[0m cyclops.utils.profile - Finished executing function run_query in 13.692760 s\n"
     ]
    },
    {
     "name": "stdout",
     "output_type": "stream",
     "text": [
      "252638 rows extracted!\n"
     ]
    }
   ],
   "source": [
    "hospitals = eicu.hospital()\n",
    "ops = qo.Sequential(\n",
    "    [\n",
    "        qo.ConditionEquals(\"hospitaldischargeyear\", 2015),\n",
    "        qo.ConditionEquals(\"teachingstatus\", True),\n",
    "    ]\n",
    ")\n",
    "patients = eicu.patient(\n",
    "    join=qo.JoinArgs(join_table=hospitals.query, on=\"hospitalid\"), ops=ops\n",
    ")\n",
    "lab_ops = qo.Sequential(\n",
    "    [\n",
    "        qo.ConditionEquals(\"labname\", \"potassium\"),\n",
    "    ]\n",
    ")\n",
    "labs = eicu.lab(\n",
    "    join=qo.JoinArgs(\n",
    "        join_table=patients.query,\n",
    "        on=\"patientunitstayid\",\n",
    "    ),\n",
    "    ops=lab_ops,\n",
    ").run()\n",
    "print(f\"{len(labs)} rows extracted!\")"
   ]
  },
  {
   "cell_type": "markdown",
   "id": "2dbf0fdc-8d99-4fde-ab3e-7c8a67b72f8b",
   "metadata": {},
   "source": [
    "## Example 4. Get glucose medications (substring search) for female patients discharged in 2014."
   ]
  },
  {
   "cell_type": "code",
   "execution_count": 7,
   "id": "f6142f27-e8d1-453c-bfe2-2265d9ff1914",
   "metadata": {
    "tags": []
   },
   "outputs": [
    {
     "name": "stderr",
     "output_type": "stream",
     "text": [
      "2023-02-22 16:05:20,953 \u001b[1;37mINFO\u001b[0m cyclops.query.orm - Query returned successfully!\n",
      "2023-02-22 16:05:20,955 \u001b[1;37mINFO\u001b[0m cyclops.utils.profile - Finished executing function run_query in 1.328528 s\n"
     ]
    },
    {
     "name": "stdout",
     "output_type": "stream",
     "text": [
      "9063 rows extracted!\n"
     ]
    }
   ],
   "source": [
    "ops = qo.Sequential(\n",
    "    [\n",
    "        qo.ConditionEquals(\"hospitaldischargeyear\", 2014),\n",
    "        qo.ConditionEquals(\"gender\", \"Female\"),\n",
    "    ]\n",
    ")\n",
    "patients = eicu.patient(ops=ops)\n",
    "medications_ops = qo.Sequential(\n",
    "    [\n",
    "        qo.ConditionSubstring(\"drugname\", \"glucose\"),\n",
    "    ]\n",
    ")\n",
    "medications = eicu.medication(\n",
    "    join=qo.JoinArgs(join_table=patients.query, on=\"patientunitstayid\"),\n",
    "    ops=medications_ops,\n",
    ").run()\n",
    "print(f\"{len(medications)} rows extracted!\")"
   ]
  }
 ],
 "metadata": {
  "kernelspec": {
   "display_name": "cyclops",
   "language": "python",
   "name": "cyclops"
  },
  "language_info": {
   "codemirror_mode": {
    "name": "ipython",
    "version": 3
   },
   "file_extension": ".py",
   "mimetype": "text/x-python",
   "name": "python",
   "nbconvert_exporter": "python",
   "pygments_lexer": "ipython3",
   "version": "3.9.7"
  }
 },
 "nbformat": 4,
 "nbformat_minor": 5
}
