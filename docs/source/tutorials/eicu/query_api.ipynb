{
 "cells": [
  {
   "cell_type": "markdown",
   "id": "28288104-b8ce-43fa-a22b-8f02239551a5",
   "metadata": {},
   "source": [
    "# eICU-CRD query API tutorial"
   ]
  },
  {
   "cell_type": "markdown",
   "id": "74b155b9-9ba6-455c-b987-4c261c339364",
   "metadata": {},
   "source": [
    "This notebook shows examples of how to use the cyclops.query API on [eicu-CRD](https://eicu-crd.mit.edu/).\n",
    "\n",
    "* First, setup the eICU database according to the instructions in [eicu-code](https://github.com/MIT-LCP/eicu-code/tree/master/build-db/postgres).\n",
    "* The database is assumed to be hosted using postgres. Update the config parameters such as username and password, passed to `EICUQuerier` accordingly."
   ]
  },
  {
   "cell_type": "markdown",
   "id": "0c7c1635-3a70-42d1-99a6-c7f7a9cf9d21",
   "metadata": {},
   "source": [
    "## Imports and instantiate `EICUQuerier`"
   ]
  },
  {
   "cell_type": "code",
   "execution_count": 1,
   "id": "75a140e0-fb27-4319-862f-be54397abe5c",
   "metadata": {
    "tags": []
   },
   "outputs": [
    {
     "name": "stderr",
     "output_type": "stream",
     "text": [
      "2023-03-21 11:15:50,751 \u001b[1;37mINFO\u001b[0m cyclops.query.orm - Database setup, ready to run queries!\n"
     ]
    },
    {
     "data": {
      "text/plain": [
       "['eicu_crd.admissiondrug',\n",
       " 'eicu_crd.admissiondx',\n",
       " 'eicu_crd.allergy',\n",
       " 'eicu_crd.apacheapsvar',\n",
       " 'eicu_crd.apachepatientresult',\n",
       " 'eicu_crd.apachepredvar',\n",
       " 'eicu_crd.careplancareprovider',\n",
       " 'eicu_crd.careplaneol',\n",
       " 'eicu_crd.careplangeneral',\n",
       " 'eicu_crd.careplangoal',\n",
       " 'eicu_crd.careplaninfectiousdisease',\n",
       " 'eicu_crd.customlab',\n",
       " 'eicu_crd.diagnosis',\n",
       " 'eicu_crd.hospital',\n",
       " 'eicu_crd.infusiondrug',\n",
       " 'eicu_crd.intakeoutput',\n",
       " 'eicu_crd.lab',\n",
       " 'eicu_crd.medication',\n",
       " 'eicu_crd.microlab',\n",
       " 'eicu_crd.note',\n",
       " 'eicu_crd.nurseassessment',\n",
       " 'eicu_crd.nursecare',\n",
       " 'eicu_crd.nursecharting',\n",
       " 'eicu_crd.pasthistory',\n",
       " 'eicu_crd.patient',\n",
       " 'eicu_crd.physicalexam',\n",
       " 'eicu_crd.respiratorycare',\n",
       " 'eicu_crd.respiratorycharting',\n",
       " 'eicu_crd.treatment',\n",
       " 'eicu_crd.vitalaperiodic',\n",
       " 'eicu_crd.vitalperiodic',\n",
       " 'information_schema.sql_packages',\n",
       " 'information_schema.sql_features',\n",
       " 'information_schema.sql_implementation_info',\n",
       " 'information_schema.sql_parts',\n",
       " 'information_schema.sql_languages',\n",
       " 'information_schema.sql_sizing',\n",
       " 'information_schema.sql_sizing_profiles']"
      ]
     },
     "execution_count": 1,
     "metadata": {},
     "output_type": "execute_result"
    }
   ],
   "source": [
    "import cyclops.query.ops as qo\n",
    "from cyclops.query import EICUQuerier\n",
    "\n",
    "querier = EICUQuerier(\n",
    "    dbms=\"postgresql\",\n",
    "    port=5432,\n",
    "    host=\"localhost\",\n",
    "    database=\"eicu\",\n",
    "    user=\"postgres\",\n",
    "    password=\"pwd\",\n",
    ")\n",
    "# List all tables.\n",
    "querier.list_tables()"
   ]
  },
  {
   "cell_type": "markdown",
   "id": "ea04cc11-e947-4097-91df-729f28b3732c",
   "metadata": {},
   "source": [
    "## Example 1. Get all female patients discharged in 2014."
   ]
  },
  {
   "cell_type": "code",
   "execution_count": 2,
   "id": "c1efa964-8978-4a0e-9892-5ea4ce9953a3",
   "metadata": {
    "tags": []
   },
   "outputs": [
    {
     "name": "stderr",
     "output_type": "stream",
     "text": [
      "2023-03-21 11:15:52,228 \u001b[1;37mINFO\u001b[0m cyclops.query.orm - Query returned successfully!\n",
      "2023-03-21 11:15:52,229 \u001b[1;37mINFO\u001b[0m cyclops.utils.profile - Finished executing function run_query in 0.704464 s\n"
     ]
    },
    {
     "name": "stdout",
     "output_type": "stream",
     "text": [
      "43717 rows extracted!\n"
     ]
    }
   ],
   "source": [
    "ops = qo.Sequential(\n",
    "    [\n",
    "        qo.ConditionEquals(\"hospitaldischargeyear\", 2014),\n",
    "        qo.ConditionEquals(\"gender\", \"Female\"),\n",
    "    ]\n",
    ")\n",
    "patients = querier.eicu_crd.patient(ops=ops).run()\n",
    "print(f\"{len(patients)} rows extracted!\")"
   ]
  },
  {
   "cell_type": "markdown",
   "id": "cd43679b-3d33-4135-b97c-373447289a9c",
   "metadata": {
    "tags": []
   },
   "source": [
    "## Example 2. Get all patient encounters with diagnoses (`schizophrenia` in `diagnosisstring`), discharged in the year 2015."
   ]
  },
  {
   "cell_type": "code",
   "execution_count": 3,
   "id": "a7ab5fa3-e26b-47a7-818f-1bf367a55760",
   "metadata": {
    "tags": []
   },
   "outputs": [
    {
     "name": "stderr",
     "output_type": "stream",
     "text": [
      "2023-03-21 11:15:53,069 \u001b[1;37mINFO\u001b[0m cyclops.query.orm - Query returned successfully!\n",
      "2023-03-21 11:15:53,070 \u001b[1;37mINFO\u001b[0m cyclops.utils.profile - Finished executing function run_query in 0.787358 s\n"
     ]
    },
    {
     "name": "stdout",
     "output_type": "stream",
     "text": [
      "1348 rows extracted!\n"
     ]
    }
   ],
   "source": [
    "ops = qo.Sequential(\n",
    "    [\n",
    "        qo.ConditionEquals(\"hospitaldischargeyear\", 2015),\n",
    "    ]\n",
    ")\n",
    "patients = querier.eicu_crd.patient(ops=ops)\n",
    "diagnosis_ops = qo.Sequential(\n",
    "    [\n",
    "        qo.ConditionSubstring(\"diagnosisstring\", \"schizophrenia\"),\n",
    "    ]\n",
    ")\n",
    "diagnoses = querier.eicu_crd.diagnosis(\n",
    "    join=qo.JoinArgs(\n",
    "        join_table=patients.query,\n",
    "        on=\"patientunitstayid\",\n",
    "    ),\n",
    "    ops=diagnosis_ops,\n",
    ").run()\n",
    "print(f\"{len(diagnoses)} rows extracted!\")"
   ]
  },
  {
   "cell_type": "markdown",
   "id": "241f7d10-9e04-44ae-b325-87f5a4046df2",
   "metadata": {},
   "source": [
    "## Example 3. Get potassium lab tests for patients discharged in the year 2014, for all teaching hospitals."
   ]
  },
  {
   "cell_type": "code",
   "execution_count": 4,
   "id": "24043abc-1878-4e00-8229-36d4a0368b98",
   "metadata": {
    "tags": []
   },
   "outputs": [
    {
     "name": "stderr",
     "output_type": "stream",
     "text": [
      "2023-03-21 11:16:03,196 \u001b[1;37mINFO\u001b[0m cyclops.query.orm - Query returned successfully!\n",
      "2023-03-21 11:16:03,197 \u001b[1;37mINFO\u001b[0m cyclops.utils.profile - Finished executing function run_query in 9.992888 s\n"
     ]
    },
    {
     "name": "stdout",
     "output_type": "stream",
     "text": [
      "252638 rows extracted!\n"
     ]
    }
   ],
   "source": [
    "hospitals = querier.eicu_crd.hospital()\n",
    "ops = qo.Sequential(\n",
    "    [\n",
    "        qo.ConditionEquals(\"hospitaldischargeyear\", 2015),\n",
    "        qo.ConditionEquals(\"teachingstatus\", True),\n",
    "    ]\n",
    ")\n",
    "patients = querier.eicu_crd.patient(\n",
    "    join=qo.JoinArgs(join_table=hospitals.query, on=\"hospitalid\"), ops=ops\n",
    ")\n",
    "lab_ops = qo.Sequential(\n",
    "    [\n",
    "        qo.ConditionEquals(\"labname\", \"potassium\"),\n",
    "    ]\n",
    ")\n",
    "labs = querier.eicu_crd.lab(\n",
    "    join=qo.JoinArgs(\n",
    "        join_table=patients.query,\n",
    "        on=\"patientunitstayid\",\n",
    "    ),\n",
    "    ops=lab_ops,\n",
    ").run()\n",
    "print(f\"{len(labs)} rows extracted!\")"
   ]
  },
  {
   "cell_type": "markdown",
   "id": "2dbf0fdc-8d99-4fde-ab3e-7c8a67b72f8b",
   "metadata": {},
   "source": [
    "## Example 4. Get glucose medications (substring search) for female patients discharged in 2014."
   ]
  },
  {
   "cell_type": "code",
   "execution_count": 5,
   "id": "f6142f27-e8d1-453c-bfe2-2265d9ff1914",
   "metadata": {
    "tags": []
   },
   "outputs": [
    {
     "name": "stderr",
     "output_type": "stream",
     "text": [
      "2023-03-21 11:16:05,470 \u001b[1;37mINFO\u001b[0m cyclops.query.orm - Query returned successfully!\n",
      "2023-03-21 11:16:05,471 \u001b[1;37mINFO\u001b[0m cyclops.utils.profile - Finished executing function run_query in 2.221213 s\n"
     ]
    },
    {
     "name": "stdout",
     "output_type": "stream",
     "text": [
      "9063 rows extracted!\n"
     ]
    }
   ],
   "source": [
    "ops = qo.Sequential(\n",
    "    [\n",
    "        qo.ConditionEquals(\"hospitaldischargeyear\", 2014),\n",
    "        qo.ConditionEquals(\"gender\", \"Female\"),\n",
    "    ]\n",
    ")\n",
    "patients = querier.eicu_crd.patient(ops=ops)\n",
    "medications_ops = qo.Sequential(\n",
    "    [\n",
    "        qo.ConditionSubstring(\"drugname\", \"glucose\"),\n",
    "    ]\n",
    ")\n",
    "medications = querier.eicu_crd.medication(\n",
    "    join=qo.JoinArgs(join_table=patients.query, on=\"patientunitstayid\"),\n",
    "    ops=medications_ops,\n",
    ").run()\n",
    "print(f\"{len(medications)} rows extracted!\")"
   ]
  }
 ],
 "metadata": {
  "kernelspec": {
   "display_name": "cyclops",
   "language": "python",
   "name": "cyclops"
  },
  "language_info": {
   "codemirror_mode": {
    "name": "ipython",
    "version": 3
   },
   "file_extension": ".py",
   "mimetype": "text/x-python",
   "name": "python",
   "nbconvert_exporter": "python",
   "pygments_lexer": "ipython3",
   "version": "3.9.7"
  }
 },
 "nbformat": 4,
 "nbformat_minor": 5
}
