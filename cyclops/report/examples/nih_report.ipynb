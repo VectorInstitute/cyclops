{
 "cells": [
  {
   "cell_type": "code",
   "execution_count": 56,
   "id": "agreed-concept",
   "metadata": {},
   "outputs": [],
   "source": [
    "import jinja2\n",
    "from pydantic import BaseModel\n",
    "from pydantic.main import ModelMetaclass\n",
    "\n",
    "\n",
    "\n",
    "from cyclops.report.model_card.model_card import (\n",
    "    Citation,\n",
    "    Dataset,\n",
    "    FairnessAssessment,\n",
    "    KeyVal,\n",
    "    License,\n",
    "    Limitation,\n",
    "    ModelCard,\n",
    "    Owner,\n",
    "    PerformanceMetric,\n",
    "    Reference,\n",
    "    Risk,\n",
    "    SensitiveData,\n",
    "    Tradeoff,\n",
    "    UseCase,\n",
    "    User,\n",
    "    GraphicsCollection,\n",
    "    Graphic,\n",
    "    FairnessReport,\n",
    "    ExplainabilityReport\n",
    ")\n",
    "\n",
    "from functools import partial\n",
    "\n",
    "from monai.transforms import AddChanneld, Compose, Lambdad, Resized, ToDeviced\n",
    "from torchxrayvision.models import DenseNet\n",
    "\n",
    "from cyclops.data.loader import load_nihcxr\n",
    "from cyclops.data.slicer import SliceSpec\n",
    "from cyclops.data.utils import apply_transforms\n",
    "from cyclops.monitor import ClinicalShiftApplicator, Detector, Reductor, TSTester\n",
    "from cyclops.monitor.plotter import plot_drift_experiment, plot_drift_timeseries\n",
    "from cyclops.monitor.utils import get_device\n",
    "\n",
    "device = get_device()"
   ]
  },
  {
   "cell_type": "code",
   "execution_count": 2,
   "id": "pointed-south",
   "metadata": {},
   "outputs": [],
   "source": [
    "nih_ds = load_nihcxr(\"/mnt/data/clinical_datasets/NIHCXR\")"
   ]
  },
  {
   "attachments": {},
   "cell_type": "markdown",
   "id": "stuck-worship",
   "metadata": {},
   "source": [
    "## Get confusion matrix and ROC curve on train/test set"
   ]
  },
  {
   "cell_type": "code",
   "execution_count": 49,
   "id": "f7cbf4bb",
   "metadata": {},
   "outputs": [],
   "source": [
    "from scour import scour\n",
    "from io import BytesIO, StringIO\n",
    "import matplotlib.pyplot as plt\n",
    "import base64\n",
    "\n",
    "def svg_encode(svg: str):\n",
    "    # Ref: https://bl.ocks.org/jennyknuth/222825e315d45a738ed9d6e04c7a88d0\n",
    "    # Encode an SVG string so it can be embedded into a data URL.\n",
    "    enc_chars = '\"%#{}<>'  # Encode these to %hex\n",
    "    enc_chars_maybe = \"&|[]^`;?:@=\"  # Add to enc_chars on exception\n",
    "    svg_enc = \"\"\n",
    "    # Translate character by character\n",
    "    for c in str(svg):\n",
    "        if c in enc_chars:\n",
    "            if c == '\"':\n",
    "                svg_enc += \"'\"\n",
    "            else:\n",
    "                svg_enc += \"%\" + format(ord(c), \"x\")\n",
    "        else:\n",
    "            svg_enc += c\n",
    "    return \" \".join(svg_enc.split())  # Compact whitespace\n",
    "\n",
    "def plot_to_str(format: str = \"svg\"):\n",
    "    # Ref: https://github.com/cylynx/verifyml/blob/d3b4b3465493b802aba87edff81015f0db97805b/verifyml/model_tests/utils.py#L39\n",
    "    # Utility function that will export a plot to a base-64 png encoded data URI scheme.\n",
    "    if format == \"svg\":\n",
    "        img = StringIO()\n",
    "        plt.savefig(img, format=\"svg\", bbox_inches=\"tight\")\n",
    "        scour_options = scour.sanitizeOptions()\n",
    "        scour_options.remove_descriptive_elements = True\n",
    "        return f\"data:image/svg+xml,{svg_encode(scour.scourString(img.getvalue(), options = scour_options))}\"\n",
    "    else:\n",
    "        img = BytesIO()\n",
    "        plt.savefig(img, format=format, bbox_inches=\"tight\")\n",
    "        return f'data:image/{format};base64,{base64.encodebytes(img.getvalue()).decode(\"utf-8\")}'\n",
    "    \n",
    "def plot_to_str_plotly(fig, format: str = \"svg\"):\n",
    "    # Ref: https://github.com/cylynx/verifyml/blob/d3b4b3465493b802aba87edff81015f0db97805b/verifyml/model_tests/utils.py#L39\n",
    "    # Utility function that will export a plot to a base-64 png encoded data URI scheme.\n",
    "    if format == \"svg\":\n",
    "        img = BytesIO()\n",
    "        fig.write_image(img, format=\"svg\")\n",
    "        scour_options = scour.sanitizeOptions()\n",
    "        scour_options.remove_descriptive_elements = True\n",
    "        return f\"data:image/svg+xml,{svg_encode(scour.scourString(img.getvalue(), options = scour_options))}\"\n",
    "    else:\n",
    "        img = BytesIO()\n",
    "        fig.write_image(img, format=format)\n",
    "        return f'data:image/{format};base64,{base64.encodebytes(img.getvalue()).decode(\"utf-8\")}'"
   ]
  },
  {
   "cell_type": "code",
   "execution_count": 27,
   "id": "convinced-barcelona",
   "metadata": {},
   "outputs": [
    {
     "data": {
      "application/vnd.jupyter.widget-view+json": {
       "model_id": "19ec7edaa96840f0add14905e25ac459",
       "version_major": 2,
       "version_minor": 0
      },
      "text/plain": [
       "Filter (num_proc=6):   0%|          | 0/51759 [00:00<?, ? examples/s]"
      ]
     },
     "metadata": {},
     "output_type": "display_data"
    },
    {
     "data": {
      "application/vnd.jupyter.widget-view+json": {
       "model_id": "5e04bc3d887f4e1ba78b8684686c9074",
       "version_major": 2,
       "version_minor": 0
      },
      "text/plain": [
       "Filter (num_proc=6):   0%|          | 0/51759 [00:00<?, ? examples/s]"
      ]
     },
     "metadata": {},
     "output_type": "display_data"
    },
    {
     "data": {
      "application/vnd.jupyter.widget-view+json": {
       "model_id": "45fb32f89e2f4bb697cb7e6e8573ff41",
       "version_major": 2,
       "version_minor": 0
      },
      "text/plain": [
       "Filter (num_proc=6):   0%|          | 0/51759 [00:00<?, ? examples/s]"
      ]
     },
     "metadata": {},
     "output_type": "display_data"
    },
    {
     "data": {
      "application/vnd.jupyter.widget-view+json": {
       "model_id": "f73901145aa340a2bbca3dc354c2e716",
       "version_major": 2,
       "version_minor": 0
      },
      "text/plain": [
       "Filter (num_proc=6):   0%|          | 0/51759 [00:00<?, ? examples/s]"
      ]
     },
     "metadata": {},
     "output_type": "display_data"
    },
    {
     "data": {
      "application/vnd.jupyter.widget-view+json": {
       "model_id": "ab5bc19115c5485bab2f256898d5b35c",
       "version_major": 2,
       "version_minor": 0
      },
      "text/plain": [
       "Map:   0%|          | 0/1000 [00:00<?, ? examples/s]"
      ]
     },
     "metadata": {},
     "output_type": "display_data"
    },
    {
     "data": {
      "application/vnd.jupyter.widget-view+json": {
       "model_id": "e371bfea9fb7490899b55e8b7ba64a4e",
       "version_major": 2,
       "version_minor": 0
      },
      "text/plain": [
       "Map:   0%|          | 0/50 [00:00<?, ? examples/s]"
      ]
     },
     "metadata": {},
     "output_type": "display_data"
    },
    {
     "data": {
      "application/vnd.jupyter.widget-view+json": {
       "model_id": "f6c8c88bd45848178d13f79cfa88bbd0",
       "version_major": 2,
       "version_minor": 0
      },
      "text/plain": [
       "Map:   0%|          | 0/100 [00:00<?, ? examples/s]"
      ]
     },
     "metadata": {},
     "output_type": "display_data"
    },
    {
     "data": {
      "application/vnd.jupyter.widget-view+json": {
       "model_id": "034727b4f5864c3797ae8aed215a8cb1",
       "version_major": 2,
       "version_minor": 0
      },
      "text/plain": [
       "Map:   0%|          | 0/200 [00:00<?, ? examples/s]"
      ]
     },
     "metadata": {},
     "output_type": "display_data"
    },
    {
     "data": {
      "application/vnd.jupyter.widget-view+json": {
       "model_id": "d36e9cade578486f8cb199167b6602ec",
       "version_major": 2,
       "version_minor": 0
      },
      "text/plain": [
       "Map:   0%|          | 0/400 [00:00<?, ? examples/s]"
      ]
     },
     "metadata": {},
     "output_type": "display_data"
    },
    {
     "data": {
      "application/vnd.jupyter.widget-view+json": {
       "model_id": "e67e862931c14f568a853980defbfc8b",
       "version_major": 2,
       "version_minor": 0
      },
      "text/plain": [
       "Map:   0%|          | 0/800 [00:00<?, ? examples/s]"
      ]
     },
     "metadata": {},
     "output_type": "display_data"
    },
    {
     "data": {
      "application/vnd.jupyter.widget-view+json": {
       "model_id": "16deecefed5a49baa5e42680c0d537e2",
       "version_major": 2,
       "version_minor": 0
      },
      "text/plain": [
       "Map:   0%|          | 0/1000 [00:00<?, ? examples/s]"
      ]
     },
     "metadata": {},
     "output_type": "display_data"
    },
    {
     "data": {
      "application/vnd.jupyter.widget-view+json": {
       "model_id": "2a7e8726d8ed4b0db9df8289d0fd9b84",
       "version_major": 2,
       "version_minor": 0
      },
      "text/plain": [
       "Map:   0%|          | 0/1000 [00:00<?, ? examples/s]"
      ]
     },
     "metadata": {},
     "output_type": "display_data"
    },
    {
     "data": {
      "application/vnd.jupyter.widget-view+json": {
       "model_id": "a055433388ab4f05bd42897ee1d98a44",
       "version_major": 2,
       "version_minor": 0
      },
      "text/plain": [
       "Map:   0%|          | 0/50 [00:00<?, ? examples/s]"
      ]
     },
     "metadata": {},
     "output_type": "display_data"
    },
    {
     "data": {
      "application/vnd.jupyter.widget-view+json": {
       "model_id": "3845e181169442a4ac965d6754af7b1b",
       "version_major": 2,
       "version_minor": 0
      },
      "text/plain": [
       "Map:   0%|          | 0/100 [00:00<?, ? examples/s]"
      ]
     },
     "metadata": {},
     "output_type": "display_data"
    },
    {
     "data": {
      "application/vnd.jupyter.widget-view+json": {
       "model_id": "942fd338fcf44d9fb36ff0dfb4f3e1ec",
       "version_major": 2,
       "version_minor": 0
      },
      "text/plain": [
       "Map:   0%|          | 0/200 [00:00<?, ? examples/s]"
      ]
     },
     "metadata": {},
     "output_type": "display_data"
    },
    {
     "data": {
      "application/vnd.jupyter.widget-view+json": {
       "model_id": "bd61a9855b184f7c820ac70d298b6abb",
       "version_major": 2,
       "version_minor": 0
      },
      "text/plain": [
       "Map:   0%|          | 0/400 [00:00<?, ? examples/s]"
      ]
     },
     "metadata": {},
     "output_type": "display_data"
    },
    {
     "data": {
      "application/vnd.jupyter.widget-view+json": {
       "model_id": "1b8842a12f704da2a9eaffafffadcb20",
       "version_major": 2,
       "version_minor": 0
      },
      "text/plain": [
       "Map:   0%|          | 0/800 [00:00<?, ? examples/s]"
      ]
     },
     "metadata": {},
     "output_type": "display_data"
    },
    {
     "data": {
      "application/vnd.jupyter.widget-view+json": {
       "model_id": "d3bb594a0e85437f9bb01c1068487103",
       "version_major": 2,
       "version_minor": 0
      },
      "text/plain": [
       "Map:   0%|          | 0/1000 [00:00<?, ? examples/s]"
      ]
     },
     "metadata": {},
     "output_type": "display_data"
    },
    {
     "data": {
      "application/vnd.jupyter.widget-view+json": {
       "model_id": "5eb8d751654643de87a58e5efe15f08f",
       "version_major": 2,
       "version_minor": 0
      },
      "text/plain": [
       "Map:   0%|          | 0/1000 [00:00<?, ? examples/s]"
      ]
     },
     "metadata": {},
     "output_type": "display_data"
    },
    {
     "data": {
      "application/vnd.jupyter.widget-view+json": {
       "model_id": "a3ed73c396664983a0d6fba6f0f71ac4",
       "version_major": 2,
       "version_minor": 0
      },
      "text/plain": [
       "Map:   0%|          | 0/50 [00:00<?, ? examples/s]"
      ]
     },
     "metadata": {},
     "output_type": "display_data"
    },
    {
     "data": {
      "application/vnd.jupyter.widget-view+json": {
       "model_id": "97a3160c16a84d3090c2291ebc8e1147",
       "version_major": 2,
       "version_minor": 0
      },
      "text/plain": [
       "Map:   0%|          | 0/100 [00:00<?, ? examples/s]"
      ]
     },
     "metadata": {},
     "output_type": "display_data"
    },
    {
     "data": {
      "application/vnd.jupyter.widget-view+json": {
       "model_id": "8a78dbc7a8ce444c9201551f78207bd2",
       "version_major": 2,
       "version_minor": 0
      },
      "text/plain": [
       "Map:   0%|          | 0/200 [00:00<?, ? examples/s]"
      ]
     },
     "metadata": {},
     "output_type": "display_data"
    },
    {
     "data": {
      "application/vnd.jupyter.widget-view+json": {
       "model_id": "da67c404594345dbac3045b91f2576f2",
       "version_major": 2,
       "version_minor": 0
      },
      "text/plain": [
       "Map:   0%|          | 0/400 [00:00<?, ? examples/s]"
      ]
     },
     "metadata": {},
     "output_type": "display_data"
    },
    {
     "data": {
      "application/vnd.jupyter.widget-view+json": {
       "model_id": "b436dd7d77044702a2204974af2333d4",
       "version_major": 2,
       "version_minor": 0
      },
      "text/plain": [
       "Map:   0%|          | 0/800 [00:00<?, ? examples/s]"
      ]
     },
     "metadata": {},
     "output_type": "display_data"
    },
    {
     "data": {
      "application/vnd.jupyter.widget-view+json": {
       "model_id": "20e5019eeddd471aa58df0efcbae3ce5",
       "version_major": 2,
       "version_minor": 0
      },
      "text/plain": [
       "Map:   0%|          | 0/1000 [00:00<?, ? examples/s]"
      ]
     },
     "metadata": {},
     "output_type": "display_data"
    },
    {
     "data": {
      "application/vnd.jupyter.widget-view+json": {
       "model_id": "9ac1425092e947efb903517e49a8433f",
       "version_major": 2,
       "version_minor": 0
      },
      "text/plain": [
       "Filter (num_proc=6):   0%|          | 0/51759 [00:00<?, ? examples/s]"
      ]
     },
     "metadata": {},
     "output_type": "display_data"
    },
    {
     "data": {
      "application/vnd.jupyter.widget-view+json": {
       "model_id": "111c0bdb49ed4ce8aef0a6e996025276",
       "version_major": 2,
       "version_minor": 0
      },
      "text/plain": [
       "Filter (num_proc=6):   0%|          | 0/51759 [00:00<?, ? examples/s]"
      ]
     },
     "metadata": {},
     "output_type": "display_data"
    },
    {
     "data": {
      "application/vnd.jupyter.widget-view+json": {
       "model_id": "5e8812937f5c4adf83a177aee3cbb638",
       "version_major": 2,
       "version_minor": 0
      },
      "text/plain": [
       "Map:   0%|          | 0/1000 [00:00<?, ? examples/s]"
      ]
     },
     "metadata": {},
     "output_type": "display_data"
    },
    {
     "data": {
      "application/vnd.jupyter.widget-view+json": {
       "model_id": "54c1dffa2f504d79a6b951bcfaacb80f",
       "version_major": 2,
       "version_minor": 0
      },
      "text/plain": [
       "Map:   0%|          | 0/50 [00:00<?, ? examples/s]"
      ]
     },
     "metadata": {},
     "output_type": "display_data"
    },
    {
     "data": {
      "application/vnd.jupyter.widget-view+json": {
       "model_id": "1acd2f3b5f884e1aac77f8496815f1b2",
       "version_major": 2,
       "version_minor": 0
      },
      "text/plain": [
       "Map:   0%|          | 0/100 [00:00<?, ? examples/s]"
      ]
     },
     "metadata": {},
     "output_type": "display_data"
    },
    {
     "data": {
      "application/vnd.jupyter.widget-view+json": {
       "model_id": "a1533505113a43588ffdf3fbf0a796a3",
       "version_major": 2,
       "version_minor": 0
      },
      "text/plain": [
       "Map:   0%|          | 0/200 [00:00<?, ? examples/s]"
      ]
     },
     "metadata": {},
     "output_type": "display_data"
    },
    {
     "data": {
      "application/vnd.jupyter.widget-view+json": {
       "model_id": "a843ccdf654d407083c13ffb02d50039",
       "version_major": 2,
       "version_minor": 0
      },
      "text/plain": [
       "Map:   0%|          | 0/400 [00:00<?, ? examples/s]"
      ]
     },
     "metadata": {},
     "output_type": "display_data"
    },
    {
     "data": {
      "application/vnd.jupyter.widget-view+json": {
       "model_id": "51a7e47c771a41d69aaed2c8718825a0",
       "version_major": 2,
       "version_minor": 0
      },
      "text/plain": [
       "Map:   0%|          | 0/800 [00:00<?, ? examples/s]"
      ]
     },
     "metadata": {},
     "output_type": "display_data"
    },
    {
     "data": {
      "application/vnd.jupyter.widget-view+json": {
       "model_id": "33746acf9acc4a7bb52f263a110e64f8",
       "version_major": 2,
       "version_minor": 0
      },
      "text/plain": [
       "Map:   0%|          | 0/1000 [00:00<?, ? examples/s]"
      ]
     },
     "metadata": {},
     "output_type": "display_data"
    },
    {
     "data": {
      "application/vnd.jupyter.widget-view+json": {
       "model_id": "bd9cb96815854ccbb9badf26556f892b",
       "version_major": 2,
       "version_minor": 0
      },
      "text/plain": [
       "Map:   0%|          | 0/1000 [00:00<?, ? examples/s]"
      ]
     },
     "metadata": {},
     "output_type": "display_data"
    },
    {
     "data": {
      "application/vnd.jupyter.widget-view+json": {
       "model_id": "811ab0d13f354ab0a729ab7e5a6f73cf",
       "version_major": 2,
       "version_minor": 0
      },
      "text/plain": [
       "Map:   0%|          | 0/50 [00:00<?, ? examples/s]"
      ]
     },
     "metadata": {},
     "output_type": "display_data"
    },
    {
     "data": {
      "application/vnd.jupyter.widget-view+json": {
       "model_id": "b9bf79ca53954337998eb127127907a3",
       "version_major": 2,
       "version_minor": 0
      },
      "text/plain": [
       "Map:   0%|          | 0/100 [00:00<?, ? examples/s]"
      ]
     },
     "metadata": {},
     "output_type": "display_data"
    },
    {
     "data": {
      "application/vnd.jupyter.widget-view+json": {
       "model_id": "1af9e1d196e24620982872dc78dd52f8",
       "version_major": 2,
       "version_minor": 0
      },
      "text/plain": [
       "Map:   0%|          | 0/200 [00:00<?, ? examples/s]"
      ]
     },
     "metadata": {},
     "output_type": "display_data"
    },
    {
     "data": {
      "application/vnd.jupyter.widget-view+json": {
       "model_id": "3cc3d135a3c04065a12996069fa876fd",
       "version_major": 2,
       "version_minor": 0
      },
      "text/plain": [
       "Map:   0%|          | 0/400 [00:00<?, ? examples/s]"
      ]
     },
     "metadata": {},
     "output_type": "display_data"
    },
    {
     "data": {
      "application/vnd.jupyter.widget-view+json": {
       "model_id": "915dad98fae04e62835407abb7c05324",
       "version_major": 2,
       "version_minor": 0
      },
      "text/plain": [
       "Map:   0%|          | 0/800 [00:00<?, ? examples/s]"
      ]
     },
     "metadata": {},
     "output_type": "display_data"
    },
    {
     "data": {
      "application/vnd.jupyter.widget-view+json": {
       "model_id": "c3a6c93fa5344844b27ef9ebd6da1d98",
       "version_major": 2,
       "version_minor": 0
      },
      "text/plain": [
       "Map:   0%|          | 0/1000 [00:00<?, ? examples/s]"
      ]
     },
     "metadata": {},
     "output_type": "display_data"
    },
    {
     "data": {
      "application/vnd.jupyter.widget-view+json": {
       "model_id": "ecc0f0eee6b64b5ca26a9bd91dfac3ee",
       "version_major": 2,
       "version_minor": 0
      },
      "text/plain": [
       "Map:   0%|          | 0/1000 [00:00<?, ? examples/s]"
      ]
     },
     "metadata": {},
     "output_type": "display_data"
    },
    {
     "data": {
      "application/vnd.jupyter.widget-view+json": {
       "model_id": "1b21865a9bdd458fa6c693bbbd94cc89",
       "version_major": 2,
       "version_minor": 0
      },
      "text/plain": [
       "Map:   0%|          | 0/50 [00:00<?, ? examples/s]"
      ]
     },
     "metadata": {},
     "output_type": "display_data"
    },
    {
     "data": {
      "application/vnd.jupyter.widget-view+json": {
       "model_id": "428af0084cf04fcd8f9539c7bdf3cf38",
       "version_major": 2,
       "version_minor": 0
      },
      "text/plain": [
       "Map:   0%|          | 0/100 [00:00<?, ? examples/s]"
      ]
     },
     "metadata": {},
     "output_type": "display_data"
    },
    {
     "data": {
      "application/vnd.jupyter.widget-view+json": {
       "model_id": "5ab0eb2ec2bf4cbd9cc7e2a24ae09300",
       "version_major": 2,
       "version_minor": 0
      },
      "text/plain": [
       "Map:   0%|          | 0/200 [00:00<?, ? examples/s]"
      ]
     },
     "metadata": {},
     "output_type": "display_data"
    },
    {
     "data": {
      "application/vnd.jupyter.widget-view+json": {
       "model_id": "531138b0418344d1a7867df88f7ea80a",
       "version_major": 2,
       "version_minor": 0
      },
      "text/plain": [
       "Map:   0%|          | 0/400 [00:00<?, ? examples/s]"
      ]
     },
     "metadata": {},
     "output_type": "display_data"
    },
    {
     "data": {
      "application/vnd.jupyter.widget-view+json": {
       "model_id": "0792d081835049369fd89587698c44aa",
       "version_major": 2,
       "version_minor": 0
      },
      "text/plain": [
       "Map:   0%|          | 0/800 [00:00<?, ? examples/s]"
      ]
     },
     "metadata": {},
     "output_type": "display_data"
    },
    {
     "data": {
      "application/vnd.jupyter.widget-view+json": {
       "model_id": "6a8c5a4783d84f9180f77c213f5b4b46",
       "version_major": 2,
       "version_minor": 0
      },
      "text/plain": [
       "Map:   0%|          | 0/1000 [00:00<?, ? examples/s]"
      ]
     },
     "metadata": {},
     "output_type": "display_data"
    },
    {
     "data": {
      "application/vnd.jupyter.widget-view+json": {
       "model_id": "c16227d744454266a7504c016087d8c2",
       "version_major": 2,
       "version_minor": 0
      },
      "text/plain": [
       "Filter (num_proc=6):   0%|          | 0/51759 [00:00<?, ? examples/s]"
      ]
     },
     "metadata": {},
     "output_type": "display_data"
    },
    {
     "data": {
      "application/vnd.jupyter.widget-view+json": {
       "model_id": "6790f898e81c4f2cb67f65779f1f9e73",
       "version_major": 2,
       "version_minor": 0
      },
      "text/plain": [
       "Filter (num_proc=6):   0%|          | 0/51759 [00:00<?, ? examples/s]"
      ]
     },
     "metadata": {},
     "output_type": "display_data"
    },
    {
     "data": {
      "application/vnd.jupyter.widget-view+json": {
       "model_id": "01debec9c7094f11931dd9cc635242be",
       "version_major": 2,
       "version_minor": 0
      },
      "text/plain": [
       "Map:   0%|          | 0/1000 [00:00<?, ? examples/s]"
      ]
     },
     "metadata": {},
     "output_type": "display_data"
    },
    {
     "data": {
      "application/vnd.jupyter.widget-view+json": {
       "model_id": "4d4fc431e3bf4b249660e43c00d149c9",
       "version_major": 2,
       "version_minor": 0
      },
      "text/plain": [
       "Map:   0%|          | 0/50 [00:00<?, ? examples/s]"
      ]
     },
     "metadata": {},
     "output_type": "display_data"
    },
    {
     "data": {
      "application/vnd.jupyter.widget-view+json": {
       "model_id": "dd84af3ac9334769a9561f2d44a364a0",
       "version_major": 2,
       "version_minor": 0
      },
      "text/plain": [
       "Map:   0%|          | 0/100 [00:00<?, ? examples/s]"
      ]
     },
     "metadata": {},
     "output_type": "display_data"
    },
    {
     "data": {
      "application/vnd.jupyter.widget-view+json": {
       "model_id": "46ee08e0b11c4fd4a08fd3481127fb81",
       "version_major": 2,
       "version_minor": 0
      },
      "text/plain": [
       "Map:   0%|          | 0/200 [00:00<?, ? examples/s]"
      ]
     },
     "metadata": {},
     "output_type": "display_data"
    },
    {
     "data": {
      "application/vnd.jupyter.widget-view+json": {
       "model_id": "e4cee593914c4188ab7f7baaada1f1ea",
       "version_major": 2,
       "version_minor": 0
      },
      "text/plain": [
       "Map:   0%|          | 0/400 [00:00<?, ? examples/s]"
      ]
     },
     "metadata": {},
     "output_type": "display_data"
    },
    {
     "data": {
      "application/vnd.jupyter.widget-view+json": {
       "model_id": "76aaf279138d4cfe95a67f57d7213864",
       "version_major": 2,
       "version_minor": 0
      },
      "text/plain": [
       "Map:   0%|          | 0/800 [00:00<?, ? examples/s]"
      ]
     },
     "metadata": {},
     "output_type": "display_data"
    },
    {
     "data": {
      "application/vnd.jupyter.widget-view+json": {
       "model_id": "4b7a0f00c6e04b13bb3e7eb27444d352",
       "version_major": 2,
       "version_minor": 0
      },
      "text/plain": [
       "Map:   0%|          | 0/1000 [00:00<?, ? examples/s]"
      ]
     },
     "metadata": {},
     "output_type": "display_data"
    },
    {
     "data": {
      "application/vnd.jupyter.widget-view+json": {
       "model_id": "3a09d1bb44734464a417e4551f723237",
       "version_major": 2,
       "version_minor": 0
      },
      "text/plain": [
       "Map:   0%|          | 0/1000 [00:00<?, ? examples/s]"
      ]
     },
     "metadata": {},
     "output_type": "display_data"
    },
    {
     "data": {
      "application/vnd.jupyter.widget-view+json": {
       "model_id": "11e294edd85b4b9283a18d93184f1b0f",
       "version_major": 2,
       "version_minor": 0
      },
      "text/plain": [
       "Map:   0%|          | 0/50 [00:00<?, ? examples/s]"
      ]
     },
     "metadata": {},
     "output_type": "display_data"
    },
    {
     "data": {
      "application/vnd.jupyter.widget-view+json": {
       "model_id": "0071655ec65b4ebfbca93ac203721fbf",
       "version_major": 2,
       "version_minor": 0
      },
      "text/plain": [
       "Map:   0%|          | 0/100 [00:00<?, ? examples/s]"
      ]
     },
     "metadata": {},
     "output_type": "display_data"
    },
    {
     "data": {
      "application/vnd.jupyter.widget-view+json": {
       "model_id": "47a328afc84842a495ed064407f63d2e",
       "version_major": 2,
       "version_minor": 0
      },
      "text/plain": [
       "Map:   0%|          | 0/200 [00:00<?, ? examples/s]"
      ]
     },
     "metadata": {},
     "output_type": "display_data"
    },
    {
     "data": {
      "application/vnd.jupyter.widget-view+json": {
       "model_id": "f42a43da8fd145e184ed53b01e2a08cb",
       "version_major": 2,
       "version_minor": 0
      },
      "text/plain": [
       "Map:   0%|          | 0/400 [00:00<?, ? examples/s]"
      ]
     },
     "metadata": {},
     "output_type": "display_data"
    },
    {
     "data": {
      "application/vnd.jupyter.widget-view+json": {
       "model_id": "2f96d5f2a440462cae71154df6c45c40",
       "version_major": 2,
       "version_minor": 0
      },
      "text/plain": [
       "Map:   0%|          | 0/800 [00:00<?, ? examples/s]"
      ]
     },
     "metadata": {},
     "output_type": "display_data"
    },
    {
     "data": {
      "application/vnd.jupyter.widget-view+json": {
       "model_id": "ee874a98dfa54a22bd67f5da4deeb27e",
       "version_major": 2,
       "version_minor": 0
      },
      "text/plain": [
       "Map:   0%|          | 0/1000 [00:00<?, ? examples/s]"
      ]
     },
     "metadata": {},
     "output_type": "display_data"
    },
    {
     "data": {
      "application/vnd.jupyter.widget-view+json": {
       "model_id": "83266a88f0c74edda63d91ba1916aab5",
       "version_major": 2,
       "version_minor": 0
      },
      "text/plain": [
       "Map:   0%|          | 0/1000 [00:00<?, ? examples/s]"
      ]
     },
     "metadata": {},
     "output_type": "display_data"
    },
    {
     "data": {
      "application/vnd.jupyter.widget-view+json": {
       "model_id": "d0024877738a4e4d961e88e664ec1b02",
       "version_major": 2,
       "version_minor": 0
      },
      "text/plain": [
       "Map:   0%|          | 0/50 [00:00<?, ? examples/s]"
      ]
     },
     "metadata": {},
     "output_type": "display_data"
    },
    {
     "data": {
      "application/vnd.jupyter.widget-view+json": {
       "model_id": "3e045d9ca00d424c95dde329aa4fc24a",
       "version_major": 2,
       "version_minor": 0
      },
      "text/plain": [
       "Map:   0%|          | 0/100 [00:00<?, ? examples/s]"
      ]
     },
     "metadata": {},
     "output_type": "display_data"
    },
    {
     "data": {
      "application/vnd.jupyter.widget-view+json": {
       "model_id": "d0089f61d36441788bda7d2245b316db",
       "version_major": 2,
       "version_minor": 0
      },
      "text/plain": [
       "Map:   0%|          | 0/200 [00:00<?, ? examples/s]"
      ]
     },
     "metadata": {},
     "output_type": "display_data"
    },
    {
     "data": {
      "application/vnd.jupyter.widget-view+json": {
       "model_id": "f6d6d8e889d24acda34787fc49db1b94",
       "version_major": 2,
       "version_minor": 0
      },
      "text/plain": [
       "Map:   0%|          | 0/400 [00:00<?, ? examples/s]"
      ]
     },
     "metadata": {},
     "output_type": "display_data"
    },
    {
     "data": {
      "application/vnd.jupyter.widget-view+json": {
       "model_id": "08edd5f86d2e4ce9b4516e1616a7c219",
       "version_major": 2,
       "version_minor": 0
      },
      "text/plain": [
       "Map:   0%|          | 0/800 [00:00<?, ? examples/s]"
      ]
     },
     "metadata": {},
     "output_type": "display_data"
    },
    {
     "data": {
      "application/vnd.jupyter.widget-view+json": {
       "model_id": "f472df6f99ec49f5ba888230014d70b5",
       "version_major": 2,
       "version_minor": 0
      },
      "text/plain": [
       "Map:   0%|          | 0/1000 [00:00<?, ? examples/s]"
      ]
     },
     "metadata": {},
     "output_type": "display_data"
    },
    {
     "data": {
      "application/vnd.jupyter.widget-view+json": {
       "model_id": "1ca61d3312f64877a269f8d508770389",
       "version_major": 2,
       "version_minor": 0
      },
      "text/plain": [
       "Filter (num_proc=6):   0%|          | 0/51759 [00:00<?, ? examples/s]"
      ]
     },
     "metadata": {},
     "output_type": "display_data"
    },
    {
     "data": {
      "application/vnd.jupyter.widget-view+json": {
       "model_id": "a7b488db1c1e47b0be0d94af130ca07a",
       "version_major": 2,
       "version_minor": 0
      },
      "text/plain": [
       "Filter (num_proc=6):   0%|          | 0/51759 [00:00<?, ? examples/s]"
      ]
     },
     "metadata": {},
     "output_type": "display_data"
    },
    {
     "data": {
      "application/vnd.jupyter.widget-view+json": {
       "model_id": "c64631ed96964373af55ea818e516bce",
       "version_major": 2,
       "version_minor": 0
      },
      "text/plain": [
       "Map:   0%|          | 0/1000 [00:00<?, ? examples/s]"
      ]
     },
     "metadata": {},
     "output_type": "display_data"
    },
    {
     "data": {
      "application/vnd.jupyter.widget-view+json": {
       "model_id": "2a2c8342e1434b228fb610e6e3d61070",
       "version_major": 2,
       "version_minor": 0
      },
      "text/plain": [
       "Map:   0%|          | 0/50 [00:00<?, ? examples/s]"
      ]
     },
     "metadata": {},
     "output_type": "display_data"
    },
    {
     "data": {
      "application/vnd.jupyter.widget-view+json": {
       "model_id": "a9c29583b6ae466f8ad0b0a97fb54733",
       "version_major": 2,
       "version_minor": 0
      },
      "text/plain": [
       "Map:   0%|          | 0/100 [00:00<?, ? examples/s]"
      ]
     },
     "metadata": {},
     "output_type": "display_data"
    },
    {
     "data": {
      "application/vnd.jupyter.widget-view+json": {
       "model_id": "9c0c4b776be1451281835d41eac1a670",
       "version_major": 2,
       "version_minor": 0
      },
      "text/plain": [
       "Map:   0%|          | 0/200 [00:00<?, ? examples/s]"
      ]
     },
     "metadata": {},
     "output_type": "display_data"
    },
    {
     "data": {
      "application/vnd.jupyter.widget-view+json": {
       "model_id": "5d44acaf07844c04810f0c8b011e983c",
       "version_major": 2,
       "version_minor": 0
      },
      "text/plain": [
       "Map:   0%|          | 0/400 [00:00<?, ? examples/s]"
      ]
     },
     "metadata": {},
     "output_type": "display_data"
    },
    {
     "data": {
      "application/vnd.jupyter.widget-view+json": {
       "model_id": "3fdbe3df18014f56b8e5501afd0451a8",
       "version_major": 2,
       "version_minor": 0
      },
      "text/plain": [
       "Map:   0%|          | 0/800 [00:00<?, ? examples/s]"
      ]
     },
     "metadata": {},
     "output_type": "display_data"
    },
    {
     "data": {
      "application/vnd.jupyter.widget-view+json": {
       "model_id": "2c63f46055e9411d8d671f66cfab7b1a",
       "version_major": 2,
       "version_minor": 0
      },
      "text/plain": [
       "Map:   0%|          | 0/1000 [00:00<?, ? examples/s]"
      ]
     },
     "metadata": {},
     "output_type": "display_data"
    },
    {
     "data": {
      "application/vnd.jupyter.widget-view+json": {
       "model_id": "27b6c5abc67a469281ede062072c88f4",
       "version_major": 2,
       "version_minor": 0
      },
      "text/plain": [
       "Map:   0%|          | 0/1000 [00:00<?, ? examples/s]"
      ]
     },
     "metadata": {},
     "output_type": "display_data"
    },
    {
     "data": {
      "application/vnd.jupyter.widget-view+json": {
       "model_id": "b73e9388de9c49f1afccfe5e9b4a5ddb",
       "version_major": 2,
       "version_minor": 0
      },
      "text/plain": [
       "Map:   0%|          | 0/50 [00:00<?, ? examples/s]"
      ]
     },
     "metadata": {},
     "output_type": "display_data"
    },
    {
     "data": {
      "application/vnd.jupyter.widget-view+json": {
       "model_id": "a28d10b115fa407694a1074285df8905",
       "version_major": 2,
       "version_minor": 0
      },
      "text/plain": [
       "Map:   0%|          | 0/100 [00:00<?, ? examples/s]"
      ]
     },
     "metadata": {},
     "output_type": "display_data"
    },
    {
     "data": {
      "application/vnd.jupyter.widget-view+json": {
       "model_id": "9f4caa51e2b14514b90be2581e7aca37",
       "version_major": 2,
       "version_minor": 0
      },
      "text/plain": [
       "Map:   0%|          | 0/200 [00:00<?, ? examples/s]"
      ]
     },
     "metadata": {},
     "output_type": "display_data"
    },
    {
     "data": {
      "application/vnd.jupyter.widget-view+json": {
       "model_id": "c020eff986cc4ad9ad38279a17c90efd",
       "version_major": 2,
       "version_minor": 0
      },
      "text/plain": [
       "Map:   0%|          | 0/400 [00:00<?, ? examples/s]"
      ]
     },
     "metadata": {},
     "output_type": "display_data"
    },
    {
     "data": {
      "application/vnd.jupyter.widget-view+json": {
       "model_id": "485892a8ad5a4afea3c522fb0a096a12",
       "version_major": 2,
       "version_minor": 0
      },
      "text/plain": [
       "Map:   0%|          | 0/800 [00:00<?, ? examples/s]"
      ]
     },
     "metadata": {},
     "output_type": "display_data"
    },
    {
     "data": {
      "application/vnd.jupyter.widget-view+json": {
       "model_id": "979b628bac4c4943a72757f977b53978",
       "version_major": 2,
       "version_minor": 0
      },
      "text/plain": [
       "Map:   0%|          | 0/1000 [00:00<?, ? examples/s]"
      ]
     },
     "metadata": {},
     "output_type": "display_data"
    },
    {
     "data": {
      "application/vnd.jupyter.widget-view+json": {
       "model_id": "42ee8891bf7949f0b8c2e6a8799cf2b5",
       "version_major": 2,
       "version_minor": 0
      },
      "text/plain": [
       "Map:   0%|          | 0/1000 [00:00<?, ? examples/s]"
      ]
     },
     "metadata": {},
     "output_type": "display_data"
    },
    {
     "data": {
      "application/vnd.jupyter.widget-view+json": {
       "model_id": "03fa5ad52eea4894ad1022e25525e732",
       "version_major": 2,
       "version_minor": 0
      },
      "text/plain": [
       "Map:   0%|          | 0/50 [00:00<?, ? examples/s]"
      ]
     },
     "metadata": {},
     "output_type": "display_data"
    },
    {
     "data": {
      "application/vnd.jupyter.widget-view+json": {
       "model_id": "f8a1b87e82a041fb83247e3e51113982",
       "version_major": 2,
       "version_minor": 0
      },
      "text/plain": [
       "Map:   0%|          | 0/100 [00:00<?, ? examples/s]"
      ]
     },
     "metadata": {},
     "output_type": "display_data"
    },
    {
     "data": {
      "application/vnd.jupyter.widget-view+json": {
       "model_id": "316cf681cbf34dcaa04e127b5833945d",
       "version_major": 2,
       "version_minor": 0
      },
      "text/plain": [
       "Map:   0%|          | 0/200 [00:00<?, ? examples/s]"
      ]
     },
     "metadata": {},
     "output_type": "display_data"
    },
    {
     "data": {
      "application/vnd.jupyter.widget-view+json": {
       "model_id": "57c11cc943ea482cbb514c04be948221",
       "version_major": 2,
       "version_minor": 0
      },
      "text/plain": [
       "Map:   0%|          | 0/400 [00:00<?, ? examples/s]"
      ]
     },
     "metadata": {},
     "output_type": "display_data"
    },
    {
     "data": {
      "application/vnd.jupyter.widget-view+json": {
       "model_id": "807f161a052940e9971c5ff0a17b0a47",
       "version_major": 2,
       "version_minor": 0
      },
      "text/plain": [
       "Map:   0%|          | 0/800 [00:00<?, ? examples/s]"
      ]
     },
     "metadata": {},
     "output_type": "display_data"
    },
    {
     "data": {
      "application/vnd.jupyter.widget-view+json": {
       "model_id": "81d25da0e7814788b134f2c622e6ac5f",
       "version_major": 2,
       "version_minor": 0
      },
      "text/plain": [
       "Map:   0%|          | 0/1000 [00:00<?, ? examples/s]"
      ]
     },
     "metadata": {},
     "output_type": "display_data"
    },
    {
     "data": {
      "image/png": "[encoded data removed]",
      "text/plain": [
       "<Figure size 1100x800 with 1 Axes>"
      ]
     },
     "metadata": {},
     "output_type": "display_data"
    }
   ],
   "source": [
    "shifter = ClinicalShiftApplicator(\n",
    "    \"sex\", source=None, target=\"F\", shift_id=\"Patient Gender\"\n",
    ")\n",
    "source_ds, target_ds = shifter.apply_shift(nih_ds, num_proc=6)\n",
    "\n",
    "transforms = Compose(\n",
    "    [\n",
    "        AddChanneld(keys=(\"features\",), allow_missing_keys=True),\n",
    "        Resized(\n",
    "            keys=(\"features\",), spatial_size=(1, 224, 224), allow_missing_keys=True\n",
    "        ),\n",
    "        Lambdad(\n",
    "            keys=(\"features\",),\n",
    "            func=lambda x: ((2 * (x / 255.0)) - 1.0) * 1024,\n",
    "            allow_missing_keys=True,\n",
    "        ),\n",
    "        ToDeviced(keys=(\"features\",), device=device, allow_missing_keys=True),\n",
    "    ]\n",
    ")\n",
    "\n",
    "model = DenseNet(weights=\"densenet121-res224-nih\")\n",
    "source_slice = None\n",
    "target_slices = {\n",
    "    \"SEX: MALE\": SliceSpec(spec_list=[{\"Patient Gender\": {\"value\": \"M\"}}]),\n",
    "    \"SEX: FEMALE\": SliceSpec(spec_list=[{\"Patient Gender\": {\"value\": \"F\"}}]),\n",
    "    \"AGE: 18-35\": SliceSpec(\n",
    "        spec_list=[{\"Patient Age\": {\"min_value\": 18, \"max_value\": 35}}]\n",
    "    ),\n",
    "    \"AGE: 35-65\": SliceSpec(\n",
    "        spec_list=[{\"Patient Age\": {\"min_value\": 35, \"max_value\": 65}}]\n",
    "    ),\n",
    "}\n",
    "results = {}\n",
    "\n",
    "for name, target_slice in target_slices.items():\n",
    "    source_slice = None\n",
    "    shifter = ClinicalShiftApplicator(\n",
    "        \"custom\", source=source_slice, target=target_slice\n",
    "    )\n",
    "    ds_source, ds_target = shifter.apply_shift(nih_ds, num_proc=6)\n",
    "\n",
    "    ds_source = ds_source.with_transform(\n",
    "        partial(apply_transforms, transforms=transforms),\n",
    "        columns=[\"features\"],\n",
    "        output_all_columns=True,\n",
    "    )\n",
    "    ds_target = ds_target.with_transform(\n",
    "        partial(apply_transforms, transforms=transforms),\n",
    "        columns=[\"features\"],\n",
    "        output_all_columns=True,\n",
    "    )\n",
    "\n",
    "    detector = Detector(\n",
    "        \"sensitivity_test\",\n",
    "        reductor=Reductor(dr_method=\"bbse-soft\", model=model, device=device),\n",
    "        tester=TSTester(tester_method=\"mmd\"),\n",
    "        source_sample_size=1000,\n",
    "        target_sample_size=[50, 100, 200, 400, 800, 1000],\n",
    "        num_runs=3,\n",
    "    )\n",
    "    results[name] = detector.detect_shift(ds_source, ds_target)\n",
    "plot_drift_experiment(results)\n",
    "drift_plot = plot_to_str()"
   ]
  },
  {
   "cell_type": "code",
   "execution_count": 10,
   "id": "5f624ed4",
   "metadata": {},
   "outputs": [
    {
     "data": {
      "application/vnd.jupyter.widget-view+json": {
       "model_id": "4db7e42184834bb6a392e6006ac03893",
       "version_major": 2,
       "version_minor": 0
      },
      "text/plain": [
       "Map:   0%|          | 0/112120 [00:00<?, ? examples/s]"
      ]
     },
     "metadata": {},
     "output_type": "display_data"
    }
   ],
   "source": [
    "from datasets.combine import concatenate_datasets  # noqa: E402\n",
    "import torch\n",
    "\n",
    "model.to(device)\n",
    "model.eval()\n",
    "\n",
    "def get_predictions_torch(examples):\n",
    "    images = torch.stack(examples[\"features\"]).squeeze(1)\n",
    "    preds = model(images)\n",
    "    return {\"predictions\": preds}\n",
    "\n",
    "\n",
    "with nih_ds.formatted_as(\n",
    "    \"custom\",\n",
    "    columns=[\"features\"],\n",
    "    transform=partial(apply_transforms, transforms=transforms),\n",
    "):\n",
    "    preds_ds = nih_ds.map(\n",
    "        get_predictions_torch,\n",
    "        batched=True,\n",
    "        batch_size=64,\n",
    "        remove_columns=nih_ds.column_names,\n",
    "    )\n",
    "\n",
    "    nih_ds = concatenate_datasets([nih_ds, preds_ds], axis=1)"
   ]
  },
  {
   "cell_type": "code",
   "execution_count": 11,
   "id": "dc334c61",
   "metadata": {},
   "outputs": [
    {
     "data": {
      "application/vnd.jupyter.widget-view+json": {
       "model_id": "b3572da07a48488b925a8dd0685fd91c",
       "version_major": 2,
       "version_minor": 0
      },
      "text/plain": [
       "Filter:   0%|          | 0/112120 [00:00<?, ? examples/s]"
      ]
     },
     "metadata": {},
     "output_type": "display_data"
    },
    {
     "data": {
      "application/vnd.jupyter.widget-view+json": {
       "model_id": "769d79072a54470db9717b985b2222a1",
       "version_major": 2,
       "version_minor": 0
      },
      "text/plain": [
       "Map:   0%|          | 0/51759 [00:00<?, ? examples/s]"
      ]
     },
     "metadata": {},
     "output_type": "display_data"
    },
    {
     "data": {
      "text/plain": [
       "{'Image Index': Value(dtype='string', id=None),\n",
       " 'Finding Labels': Value(dtype='string', id=None),\n",
       " 'Follow-up #': Value(dtype='int64', id=None),\n",
       " 'Patient ID': Value(dtype='int64', id=None),\n",
       " 'Patient Age': Value(dtype='int64', id=None),\n",
       " 'Patient Gender': Value(dtype='string', id=None),\n",
       " 'View Position': Value(dtype='string', id=None),\n",
       " 'OriginalImage[Width': Value(dtype='int64', id=None),\n",
       " 'Height]': Value(dtype='int64', id=None),\n",
       " 'OriginalImagePixelSpacing[x': Value(dtype='float64', id=None),\n",
       " 'y]': Value(dtype='float64', id=None),\n",
       " 'Unnamed: 11': Value(dtype='float64', id=None),\n",
       " 'features': Image(decode=True, id=None),\n",
       " 'Atelectasis': Value(dtype='int64', id=None),\n",
       " 'Cardiomegaly': Value(dtype='int64', id=None),\n",
       " 'Consolidation': Value(dtype='int64', id=None),\n",
       " 'Edema': Value(dtype='int64', id=None),\n",
       " 'Effusion': Value(dtype='int64', id=None),\n",
       " 'Emphysema': Value(dtype='int64', id=None),\n",
       " 'Fibrosis': Value(dtype='int64', id=None),\n",
       " 'Hernia': Value(dtype='int64', id=None),\n",
       " 'Infiltration': Value(dtype='int64', id=None),\n",
       " 'Mass': Value(dtype='int64', id=None),\n",
       " 'Nodule': Value(dtype='int64', id=None),\n",
       " 'Pleural_Thickening': Value(dtype='int64', id=None),\n",
       " 'Pneumonia': Value(dtype='int64', id=None),\n",
       " 'Pneumothorax': Value(dtype='int64', id=None),\n",
       " 'timestamp': Value(dtype='timestamp[ns]', id=None),\n",
       " 'predictions': Sequence(feature=Value(dtype='float32', id=None), length=-1, id=None)}"
      ]
     },
     "execution_count": 11,
     "metadata": {},
     "output_type": "execute_result"
    }
   ],
   "source": [
    "from cyclops.data.slicer import filter_value  # noqa: E402\n",
    "\n",
    "# remove any rows with No Finding == 1\n",
    "nih_ds = nih_ds.filter(\n",
    "    partial(filter_value, column_name=\"No Finding\", value=1, negate=True), batched=True\n",
    ")\n",
    "\n",
    "# remove the No Finding column and adjust the predictions to account for it\n",
    "nih_ds = nih_ds.map(\n",
    "    lambda x: {\n",
    "        \"predictions\": x[\"predictions\"][:14],\n",
    "    },\n",
    "    remove_columns=[\"No Finding\"],\n",
    ")\n",
    "nih_ds.features"
   ]
  },
  {
   "cell_type": "code",
   "execution_count": 89,
   "id": "bff27cc1",
   "metadata": {},
   "outputs": [
    {
     "data": {
      "application/vnd.jupyter.widget-view+json": {
       "model_id": "f5b49a0158b149c0a435787507001bfb",
       "version_major": 2,
       "version_minor": 0
      },
      "text/plain": [
       "Filter -> Patient Gender:M:   0%|          | 0/51759 [00:00<?, ? examples/s]"
      ]
     },
     "metadata": {},
     "output_type": "display_data"
    },
    {
     "data": {
      "application/vnd.jupyter.widget-view+json": {
       "model_id": "745134b9176e4e07ac5c1749e98d5721",
       "version_major": 2,
       "version_minor": 0
      },
      "text/plain": [
       "Filter -> Patient Gender:F:   0%|          | 0/51759 [00:00<?, ? examples/s]"
      ]
     },
     "metadata": {},
     "output_type": "display_data"
    },
    {
     "data": {
      "application/vnd.jupyter.widget-view+json": {
       "model_id": "27ac54a6e87a45428b406306bf05a1af",
       "version_major": 2,
       "version_minor": 0
      },
      "text/plain": [
       "Filter -> overall:   0%|          | 0/51759 [00:00<?, ? examples/s]"
      ]
     },
     "metadata": {},
     "output_type": "display_data"
    }
   ],
   "source": [
    "from cyclops.evaluate import evaluator\n",
    "from cyclops.evaluate.metrics.factory import create_metric\n",
    "import numpy as np\n",
    "import plotly.graph_objects as go\n",
    "\n",
    "pathologies = model.pathologies[:14]\n",
    "\n",
    "auroc = create_metric(\n",
    "    metric_name=\"auroc\",\n",
    "    task=\"multilabel\",\n",
    "    num_labels=len(pathologies),\n",
    "    thresholds=np.arange(0, 1, 0.01),\n",
    ")\n",
    "\n",
    "# define the slices\n",
    "slices = [\n",
    "    {\"Patient Gender\": {\"value\": \"M\"}},\n",
    "    {\"Patient Gender\": {\"value\": \"F\"}},\n",
    "]\n",
    "\n",
    "# create the slice functions\n",
    "slice_spec = SliceSpec(spec_list=slices)\n",
    "\n",
    "nih_eval_results = evaluator.evaluate(\n",
    "    dataset=nih_ds,\n",
    "    metrics=auroc,\n",
    "    feature_columns=\"features\",\n",
    "    target_columns=pathologies,\n",
    "    prediction_column_prefix=\"predictions\",\n",
    "    remove_columns=\"features\",\n",
    "    slice_spec=slice_spec,\n",
    ")\n",
    "\n",
    "# plot the results\n",
    "plots = []\n",
    "\n",
    "for slice_name, slice_results in nih_eval_results.items():\n",
    "    plots.append(\n",
    "        go.Scatter(\n",
    "            x=pathologies,\n",
    "            y=slice_results[\"MultilabelAUROC\"],\n",
    "            name=\"Overall\" if slice_name == \"overall\" else slice_name,\n",
    "            mode=\"markers\",\n",
    "        )\n",
    "    )\n",
    "\n",
    "fig = go.Figure(data=plots)\n",
    "fig.update_layout(\n",
    "    # title=\"Multilabel AUROC by Pathology and Slice\",\n",
    "    title_x=0.5,\n",
    "    title_font_size=20,\n",
    "    xaxis_title=\"Pathology\",\n",
    "    yaxis_title=\"Multilabel AUROC\",\n",
    "    width=1024,\n",
    "    height=768,\n",
    ")\n",
    "fig.update_traces(\n",
    "    marker=dict(size=12, line=dict(width=2, color=\"DarkSlateGrey\")),\n",
    "    selector=dict(mode=\"markers\"),\n",
    ")\n",
    "# perf_metric_gender = fig.to_image(format=\"svg\")\n",
    "perf_metric_gender = plot_to_str_plotly(fig, format=\"png\")"
   ]
  },
  {
   "cell_type": "code",
   "execution_count": 92,
   "id": "f7f2d08c",
   "metadata": {},
   "outputs": [
    {
     "data": {
      "application/vnd.jupyter.widget-view+json": {
       "model_id": "0c60b8fd6809410781e940f72026b6e1",
       "version_major": 2,
       "version_minor": 0
      },
      "text/plain": [
       "Filter -> Patient Age:[19 - 35]:   0%|          | 0/51759 [00:00<?, ? examples/s]"
      ]
     },
     "metadata": {},
     "output_type": "display_data"
    },
    {
     "data": {
      "application/vnd.jupyter.widget-view+json": {
       "model_id": "0223d657c0e8440c8f8b5aa85ede62b5",
       "version_major": 2,
       "version_minor": 0
      },
      "text/plain": [
       "Filter -> Patient Age:[35 - 65]:   0%|          | 0/51759 [00:00<?, ? examples/s]"
      ]
     },
     "metadata": {},
     "output_type": "display_data"
    },
    {
     "data": {
      "application/vnd.jupyter.widget-view+json": {
       "model_id": "45c40e5bef6e494089beb18bead70f0e",
       "version_major": 2,
       "version_minor": 0
      },
      "text/plain": [
       "Filter -> Patient Age:[65 - 100]:   0%|          | 0/51759 [00:00<?, ? examples/s]"
      ]
     },
     "metadata": {},
     "output_type": "display_data"
    },
    {
     "data": {
      "application/vnd.jupyter.widget-view+json": {
       "model_id": "fcccd27cb0074f43b5552aed01c9d84b",
       "version_major": 2,
       "version_minor": 0
      },
      "text/plain": [
       "Filter -> overall:   0%|          | 0/51759 [00:00<?, ? examples/s]"
      ]
     },
     "metadata": {},
     "output_type": "display_data"
    }
   ],
   "source": [
    "from cyclops.evaluate import evaluator\n",
    "from cyclops.evaluate.metrics.factory import create_metric\n",
    "import numpy as np\n",
    "import plotly.graph_objects as go\n",
    "\n",
    "pathologies = model.pathologies[:14]\n",
    "\n",
    "auroc = create_metric(\n",
    "    metric_name=\"auroc\",\n",
    "    task=\"multilabel\",\n",
    "    num_labels=len(pathologies),\n",
    "    thresholds=np.arange(0, 1, 0.01),\n",
    ")\n",
    "\n",
    "# define the slices\n",
    "slices = [\n",
    "    {\"Patient Age\": {\"min_value\": 19, \"max_value\": 35}},\n",
    "    {\"Patient Age\": {\"min_value\": 35, \"max_value\": 65}},\n",
    "    {\"Patient Age\": {\"min_value\": 65, \"max_value\": 100}},\n",
    "]\n",
    "\n",
    "# create the slice functions\n",
    "slice_spec = SliceSpec(spec_list=slices)\n",
    "\n",
    "nih_eval_results = evaluator.evaluate(\n",
    "    dataset=nih_ds,\n",
    "    metrics=auroc,\n",
    "    feature_columns=\"features\",\n",
    "    target_columns=pathologies,\n",
    "    prediction_column_prefix=\"predictions\",\n",
    "    remove_columns=\"features\",\n",
    "    slice_spec=slice_spec,\n",
    ")\n",
    "\n",
    "\n",
    "\n",
    "# plot the results\n",
    "plots = []\n",
    "\n",
    "for slice_name, slice_results in nih_eval_results.items():\n",
    "    plots.append(\n",
    "        go.Scatter(\n",
    "            x=pathologies,\n",
    "            y=slice_results[\"MultilabelAUROC\"],\n",
    "            name=\"Overall\" if slice_name == \"overall\" else slice_name,\n",
    "            mode=\"markers\",\n",
    "        )\n",
    "    )\n",
    "\n",
    "fig = go.Figure(data=plots)\n",
    "fig.update_layout(\n",
    "    # title=\"Multilabel AUROC by Pathology and Slice\",\n",
    "    title_x=0.5,\n",
    "    title_font_size=20,\n",
    "    xaxis_title=\"Pathology\",\n",
    "    yaxis_title=\"Multilabel AUROC\",\n",
    "    width=1024,\n",
    "    height=768,\n",
    ")\n",
    "fig.update_traces(\n",
    "    marker=dict(size=12, line=dict(width=2, color=\"DarkSlateGrey\")),\n",
    "    selector=dict(mode=\"markers\"),\n",
    ")\n",
    "# perf_metric_age = fig.to_image(format=\"svg\")\n",
    "perf_metric_age = plot_to_str_plotly(fig, format=\"png\")"
   ]
  },
  {
   "cell_type": "code",
   "execution_count": 18,
   "id": "b6f9b376",
   "metadata": {},
   "outputs": [],
   "source": [
    "from cyclops.evaluate.fairness import FairnessConfig  # noqa: E402\n",
    "from cyclops.evaluate.fairness import evaluate_fairness  # noqa: E402"
   ]
  },
  {
   "cell_type": "code",
   "execution_count": 19,
   "id": "286b75f9",
   "metadata": {},
   "outputs": [],
   "source": [
    "specificity = create_metric(\n",
    "    metric_name=\"specificity\",\n",
    "    task=\"multilabel\",\n",
    "    num_labels=len(pathologies),\n",
    ")\n",
    "sensitivity = create_metric(\n",
    "    metric_name=\"sensitivity\",\n",
    "    task=\"multilabel\",\n",
    "    num_labels=len(pathologies),\n",
    ")\n",
    "\n",
    "fpr = 1 - specificity\n",
    "fnr = 1 - sensitivity\n",
    "\n",
    "balanced_error_rate = (fpr + fnr) / 2"
   ]
  },
  {
   "cell_type": "code",
   "execution_count": 22,
   "id": "d1c587c1",
   "metadata": {},
   "outputs": [
    {
     "data": {
      "application/vnd.jupyter.widget-view+json": {
       "model_id": "04693f21cb7b4707b952828946e64e60",
       "version_major": 2,
       "version_minor": 0
      },
      "text/plain": [
       "Filter -> Patient Age:(-inf - 20.0]&Patient Gender:M:   0%|          | 0/51759 [00:00<?, ? examples/s]"
      ]
     },
     "metadata": {},
     "output_type": "display_data"
    },
    {
     "data": {
      "application/vnd.jupyter.widget-view+json": {
       "model_id": "c67f6d704908426e888ced0e9564d5c4",
       "version_major": 2,
       "version_minor": 0
      },
      "text/plain": [
       "Filter -> Patient Age:(-inf - 20.0]&Patient Gender:F:   0%|          | 0/51759 [00:00<?, ? examples/s]"
      ]
     },
     "metadata": {},
     "output_type": "display_data"
    },
    {
     "data": {
      "application/vnd.jupyter.widget-view+json": {
       "model_id": "a3c2506d31c54cc189d4063906979be4",
       "version_major": 2,
       "version_minor": 0
      },
      "text/plain": [
       "Filter -> Patient Age:(20.0 - 40.0]&Patient Gender:M:   0%|          | 0/51759 [00:00<?, ? examples/s]"
      ]
     },
     "metadata": {},
     "output_type": "display_data"
    },
    {
     "data": {
      "application/vnd.jupyter.widget-view+json": {
       "model_id": "0f1df9731cd5437aa6c44fb342d865dd",
       "version_major": 2,
       "version_minor": 0
      },
      "text/plain": [
       "Filter -> Patient Age:(20.0 - 40.0]&Patient Gender:F:   0%|          | 0/51759 [00:00<?, ? examples/s]"
      ]
     },
     "metadata": {},
     "output_type": "display_data"
    },
    {
     "data": {
      "application/vnd.jupyter.widget-view+json": {
       "model_id": "f4ff647498034169a99114798e0eb956",
       "version_major": 2,
       "version_minor": 0
      },
      "text/plain": [
       "Filter -> Patient Age:(40.0 - 60.0]&Patient Gender:M:   0%|          | 0/51759 [00:00<?, ? examples/s]"
      ]
     },
     "metadata": {},
     "output_type": "display_data"
    },
    {
     "data": {
      "application/vnd.jupyter.widget-view+json": {
       "model_id": "68bab1217a424ceeb8e0f1fbfd2c5780",
       "version_major": 2,
       "version_minor": 0
      },
      "text/plain": [
       "Filter -> Patient Age:(40.0 - 60.0]&Patient Gender:F:   0%|          | 0/51759 [00:00<?, ? examples/s]"
      ]
     },
     "metadata": {},
     "output_type": "display_data"
    },
    {
     "data": {
      "application/vnd.jupyter.widget-view+json": {
       "model_id": "121566a848554c99858f4b0312a101ee",
       "version_major": 2,
       "version_minor": 0
      },
      "text/plain": [
       "Filter -> Patient Age:(60.0 - 80.0]&Patient Gender:M:   0%|          | 0/51759 [00:00<?, ? examples/s]"
      ]
     },
     "metadata": {},
     "output_type": "display_data"
    },
    {
     "data": {
      "application/vnd.jupyter.widget-view+json": {
       "model_id": "d6127dee8cdb49e49d4d610dc20469e2",
       "version_major": 2,
       "version_minor": 0
      },
      "text/plain": [
       "Filter -> Patient Age:(60.0 - 80.0]&Patient Gender:F:   0%|          | 0/51759 [00:00<?, ? examples/s]"
      ]
     },
     "metadata": {},
     "output_type": "display_data"
    },
    {
     "data": {
      "application/vnd.jupyter.widget-view+json": {
       "model_id": "54eef5886e5b48699785c24a47173528",
       "version_major": 2,
       "version_minor": 0
      },
      "text/plain": [
       "Filter -> Patient Age:(80.0 - inf]&Patient Gender:M:   0%|          | 0/51759 [00:00<?, ? examples/s]"
      ]
     },
     "metadata": {},
     "output_type": "display_data"
    },
    {
     "data": {
      "application/vnd.jupyter.widget-view+json": {
       "model_id": "bb96ea70aedd4a74a292da6443bc4dc8",
       "version_major": 2,
       "version_minor": 0
      },
      "text/plain": [
       "Filter -> Patient Age:(80.0 - inf]&Patient Gender:F:   0%|          | 0/51759 [00:00<?, ? examples/s]"
      ]
     },
     "metadata": {},
     "output_type": "display_data"
    }
   ],
   "source": [
    "nih_fairness_result = evaluate_fairness(\n",
    "    metrics=balanced_error_rate,\n",
    "    metric_name=\"BalancedErrorRate\",\n",
    "    dataset=nih_ds,\n",
    "    remove_columns=\"features\",\n",
    "    target_columns=pathologies,\n",
    "    prediction_columns=\"predictions\",\n",
    "    groups=[\"Patient Age\", \"Patient Gender\"],\n",
    "    group_bins={\"Patient Age\": [20, 40, 60, 80]},\n",
    "    group_base_values={\"Patient Age\": 20, \"Patient Gender\": \"M\"},\n",
    ")"
   ]
  },
  {
   "cell_type": "code",
   "execution_count": 91,
   "id": "d0ec44ea",
   "metadata": {},
   "outputs": [],
   "source": [
    "# plot metrics per slice\n",
    "plots = []\n",
    "\n",
    "for slice_name, slice_results in nih_fairness_result.items():\n",
    "    plots.append(\n",
    "        go.Scatter(\n",
    "            x=pathologies,\n",
    "            y=slice_results[\"BalancedErrorRate\"],\n",
    "            name=slice_name,\n",
    "            mode=\"markers\",\n",
    "        )\n",
    "    )\n",
    "\n",
    "fig = go.Figure(data=plots)\n",
    "fig.update_layout(\n",
    "    # title=\"Balanced Error Rate by Pathology and Group\",\n",
    "    title_x=0.5,\n",
    "    title_font_size=20,\n",
    "    xaxis_title=\"Pathology\",\n",
    "    yaxis_title=\"Balanced Error Rate\",\n",
    "    width=1024,\n",
    "    height=768,\n",
    ")\n",
    "fig.update_traces(\n",
    "    marker=dict(size=12, line=dict(width=2, color=\"DarkSlateGrey\")),\n",
    "    selector=dict(mode=\"markers\"),\n",
    ")\n",
    "# fairness_1 = fig.to_image(format=\"svg\")\n",
    "fairness_1 = plot_to_str_plotly(fig, format=\"png\")"
   ]
  },
  {
   "cell_type": "code",
   "execution_count": 90,
   "id": "c9b1b68a",
   "metadata": {},
   "outputs": [],
   "source": [
    "\n",
    "\n",
    "# plot parity difference per slice\n",
    "plots = []\n",
    "\n",
    "for slice_name, slice_results in nih_fairness_result.items():\n",
    "    plots.append(\n",
    "        go.Scatter(\n",
    "            x=pathologies,\n",
    "            y=slice_results[\"BalancedErrorRate Parity\"],\n",
    "            name=slice_name,\n",
    "            mode=\"markers\",\n",
    "        )\n",
    "    )\n",
    "\n",
    "fig = go.Figure(data=plots)\n",
    "fig.update_layout(\n",
    "    # title=\"Balanced Error Rate Parity by Pathology and Group\",\n",
    "    title_x=0.5,\n",
    "    title_font_size=20,\n",
    "    xaxis_title=\"Pathology\",\n",
    "    yaxis_title=\"Balanced Error Rate Parity\",\n",
    "    width=1024,\n",
    "    height=768,\n",
    ")\n",
    "fig.update_traces(\n",
    "    marker=dict(size=12, line=dict(width=2, color=\"DarkSlateGrey\")),\n",
    "    selector=dict(mode=\"markers\"),\n",
    ")\n",
    "# fairness_2 = fig.to_image(format=\"svg\")\n",
    "fairness_2 = plot_to_str_plotly(fig, format=\"png\")"
   ]
  },
  {
   "attachments": {},
   "cell_type": "markdown",
   "id": "human-martin",
   "metadata": {},
   "source": [
    "## Bootstrap model card from VerifyML model card editor and scaffold assets\n",
    "We can add the quantitative analysis, explainability analysis and fairness analysis sections to a bootstrap model card for convenience. In this example, we use an existing model card which we created from the [VerifyML model card editor](https://report.verifyml.com/create). This is meant only as an example - the dataset and risk evaluation in the model card is a fictional use case."
   ]
  },
  {
   "cell_type": "code",
   "execution_count": 79,
   "id": "differential-might",
   "metadata": {},
   "outputs": [],
   "source": [
    "# Initialize the model card\n",
    "def scaffold_model(base_model: BaseModel) -> BaseModel:\n",
    "    \"\"\"Recursively initialize a pydantic model with default values.\"\"\"\n",
    "    assert isinstance(\n",
    "        base_model, BaseModel\n",
    "    ), f\"Expected a pydantic BaseModel instance, got {type(base_model)} instead.\"\n",
    "\n",
    "    for field in base_model.__fields__:\n",
    "        field_type = base_model.__fields__[field].type_\n",
    "\n",
    "        if (\n",
    "            type(field_type) is ModelMetaclass\n",
    "            and base_model.__fields__[field].default_factory is None\n",
    "        ):\n",
    "            sub_model = scaffold_model(field_type())\n",
    "            setattr(base_model, field, sub_model)\n",
    "        else:\n",
    "            default = base_model.__fields__[field].default\n",
    "            if base_model.__fields__[field].default_factory is not None:\n",
    "                default = base_model.__fields__[field].default_factory()\n",
    "            setattr(base_model, field, default)\n",
    "    return base_model"
   ]
  },
  {
   "attachments": {},
   "cell_type": "markdown",
   "id": "ff0664e9",
   "metadata": {},
   "source": [
    "## Populate model card fields"
   ]
  },
  {
   "cell_type": "code",
   "execution_count": 99,
   "id": "c9d6fe83",
   "metadata": {},
   "outputs": [],
   "source": [
    "mc = ModelCard()\n",
    "mc = scaffold_model(mc)\n",
    "\n",
    "# model details for NIH Chest X-Ray model\n",
    "mc.model_details.name = \"NIH Chest X-Ray Multi-label Classification Model\"\n",
    "\n",
    "mc.model_details.overview = \"This model is a DenseNet121 model trained on the NIH Chest X-Ray dataset.\"\n",
    "\n",
    "mc.model_details.documentation = \"The model was trained on the NIH Chest X-Ray dataset, \\\n",
    "    which contains 112,120 frontal-view X-ray images of 30,805 unique patients with the \\\n",
    "    fourteen text-mined disease labels from the associated radiological reports.  The labels \\\n",
    "    are Atelectasis, Cardiomegaly, Effusion, Infiltration, Mass, Nodule, Pneumonia, Pneumothorax, \\\n",
    "    Consolidation, Edema, Emphysema, Fibrosis, Pleural Thickening, and Hernia.  The model was \\\n",
    "    trained on 80% of the data and evaluated on the remaining 20%.\"\n",
    "mc.model_details.references.append(\n",
    "    Reference(reference=\"https://arxiv.org/abs/2111.00595\")\n",
    ")\n",
    "mc.model_details.citations.append(\n",
    "    Citation(\n",
    "        style=\"APA\",\n",
    "        citation=\"\"\"\n",
    "        Joseph Paul Cohen, Joseph D. Viviano, Paul Bertin, Paul Morrison, Parsa Torabian, Matteo Guarrera, Matthew P Lungren, Akshay Chaudhari, Rupert Brooks, Mohammad Hashir, Hadrien Bertrand\n",
    "        TorchXRayVision: A library of chest X-ray datasets and models. \n",
    "        Medical Imaging with Deep Learning\n",
    "        https://github.com/mlmed/torchxrayvision, 2020\n",
    "        \"\"\"\n",
    "    )\n",
    ")\n",
    "mc.model_parameters = None\n",
    "# # model parameters\n",
    "# mc.model_parameters.model_architecture = \"DenseNet121 Convolutional Neural Network\"\n",
    "# mc.model_parameters.data.append(  # training set\n",
    "#     Dataset(\n",
    "#         name=\"NIH Chest X-Ray Dataset\",\n",
    "#         split=\"train\",\n",
    "#         size=len(nih_ds),\n",
    "#         attributes=list(nih_ds.features),\n",
    "#         sensitive=SensitiveData(\n",
    "#             sensitive_data=[\"gender\", \"age\"],\n",
    "#             sensitive_data_used=[\"gender\", \"age\"],\n",
    "#             justification=\"Gender and age are sensitive patient attributes that are \\\n",
    "#                 associated with the risk of model bias regarding under-represented \\\n",
    "#                     populations.\"\n",
    "#         ),\n",
    "#     )\n",
    "# )\n",
    "# mc.model_parameters.data.append(  # test set\n",
    "#     Dataset(\n",
    "#         name=\"NIH Chest X-Ray Dataset\",\n",
    "#         split=\"test\",\n",
    "#         size=len(nih_ds),\n",
    "#         attributes=list(nih_ds.features),\n",
    "#     )\n",
    "# )\n",
    "# mc.model_parameters.input_format = \"Hugging Face Dataset\"\n",
    "\n",
    "# considerations\n",
    "mc.considerations.users.extend([User(description=\"Radiologists\"),\n",
    "                                 User(description=\"Data Scientists\")]\n",
    ")\n",
    "mc.considerations.use_cases.append(\n",
    "    UseCase(\n",
    "        description=\"The model can be used to predict the presence of 14 pathologies \\\n",
    "            in chest X-ray images.\"\n",
    "    )\n",
    ")\n",
    "mc.considerations.limitations.append(\n",
    "            Limitation(\n",
    "                # describe limits of chest x-ray classification model\n",
    "                description=\"The limitations of this model include its inability to detect \\\n",
    "                    pathologies that are not included in the 14 labels of the NIH Chest X-Ray \\\n",
    "                    dataset. Additionally, the model may not perform well on images that are \\\n",
    "                    of poor quality or that contain artifacts. Finally, the model may not \\\n",
    "                    generalize well to populations that are not well-represented in the training \\\n",
    "                    data, such as patients from different geographic regions or with different \\\n",
    "                    demographics.\"\n",
    "            )\n",
    ")\n",
    "mc.considerations.tradeoffs.append(\n",
    "    Tradeoff(\n",
    "        description=\"The model can help radiologists to detect pathologies in chest X-ray \\\n",
    "            images, but it may not generalize well to populations that are not well-represented \\\n",
    "            in the training data.\"\n",
    "    )\n",
    ")\n",
    "mc.considerations.ethical_considerations.append(\n",
    "    Risk(\n",
    "        name=\"One ethical risk of the model is that it may not generalize well to populations that are not well-represented in the training data,\\\n",
    "              such as patients from different geographic regions or with different demographics. \",\n",
    "        mitigation_strategy=\"A mitigation strategy for this risk is to ensure that the training data is diverse and representative of the population \\\n",
    "              that the model will be used on. Additionally, the model should be regularly evaluated and updated to ensure that it continues to perform \\\n",
    "                well on diverse populations. Finally, the model should be used in conjunction with human expertise to ensure that any biases or limitations \\\n",
    "                are identified and addressed.\"\n",
    "    )\n",
    ")\n",
    "mc.considerations.fairness_assessment.append(\n",
    "    FairnessAssessment(\n",
    "        group_at_risk=\"Patients with rare pathologies\",\n",
    "        benefits=\"The model can help radiologists to detect pathologies in chest X-ray images.\",\n",
    "        harms=\"The model may not generalize well to populations that are not well-represented in the training data.\",\n",
    "        mitigation_strategy=\"A mitigation strategy for this risk is to ensure that the training data is diverse and representative of the population.\"\n",
    "    )\n",
    ")\n",
    "\n",
    "# quantitative analysis\n",
    "\n",
    "# Create 4 PerformanceMetric to store our results\n",
    "mc.quantitative_analysis.performance_metrics = [\n",
    "    PerformanceMetric() for i in range(0, 2)\n",
    "]\n",
    "\n",
    "mc.quantitative_analysis.performance_metrics[0].type = \"MultiLabel AUROC by Pathology\"\n",
    "mc.quantitative_analysis.performance_metrics[0].slice = \"Male/Female\"\n",
    "mc.quantitative_analysis.performance_metrics[0].graphics = GraphicsCollection()\n",
    "mc.quantitative_analysis.performance_metrics[0].graphics.collection = [\n",
    "    Graphic(name = \"auroc_sex\", image=perf_metric_gender)\n",
    "]\n",
    "mc.quantitative_analysis.performance_metrics[1].type = \"MultiLabel AUROC by Pathology\"\n",
    "mc.quantitative_analysis.performance_metrics[1].slice = \"Age Brackets\"\n",
    "mc.quantitative_analysis.performance_metrics[1].graphics = GraphicsCollection()\n",
    "mc.quantitative_analysis.performance_metrics[1].graphics.collection = [\n",
    "    Graphic(name = \"auroc_age\", image=perf_metric_age)\n",
    "]\n",
    "\n",
    "mc.fairness_analysis.fairness_reports = [\n",
    "    FairnessReport() for i in range(0, 2)\n",
    "]\n",
    "\n",
    "mc.fairness_analysis.fairness_reports[0].type = \"Balanced Error Rate by Pathology\"\n",
    "mc.fairness_analysis.fairness_reports[0].slice = None\n",
    "mc.fairness_analysis.fairness_reports[0].segment = \"Age and Gender\"\n",
    "mc.fairness_analysis.fairness_reports[0].description = None\n",
    "mc.fairness_analysis.fairness_reports[0].graphics = GraphicsCollection()\n",
    "mc.fairness_analysis.fairness_reports[0].graphics.collection = [\n",
    "    Graphic(name = \"fairness_ber\", image=fairness_1)\n",
    "]\n",
    "\n",
    "mc.fairness_analysis.fairness_reports[1].type = \"Balanced Error Rate Parity by Pathology\"\n",
    "mc.fairness_analysis.fairness_reports[1].slice = None\n",
    "mc.fairness_analysis.fairness_reports[1].segment = \"Age and Gender\"\n",
    "mc.fairness_analysis.fairness_reports[1].description = None\n",
    "mc.fairness_analysis.fairness_reports[1].graphics = GraphicsCollection()\n",
    "mc.fairness_analysis.fairness_reports[1].graphics.collection = [\n",
    "    Graphic(name = \"fairness_berp\", image=fairness_2)\n",
    "]\n",
    "\n",
    "mc.explainability_analysis.explainability_reports = [\n",
    "    ExplainabilityReport() for i in range(0, 1)\n",
    "]\n",
    "\n",
    "mc.explainability_analysis.explainability_reports[0].type = \"Drift Sensitivity Experiment\"\n",
    "mc.explainability_analysis.explainability_reports[0].slice = \"Age and Sex\"\n",
    "mc.explainability_analysis.explainability_reports[0].description = \"Conduct sensitivity experiments to determine if the model is sensitive to changes in the input data \\\n",
    "    by slicing the data along patient attributes and increasing the prevalence of the attribute in the data.\"\n",
    "mc.explainability_analysis.explainability_reports[0].graphics = GraphicsCollection()\n",
    "mc.explainability_analysis.explainability_reports[0].graphics.collection = [\n",
    "    Graphic(name = \"drift_exp\", image=drift_plot)\n",
    "]\n",
    "\n",
    "jinja_env = jinja2.Environment(\n",
    "    loader=jinja2.FileSystemLoader(\"../model_card/template/\"),\n",
    "    autoescape=True,\n",
    "    auto_reload=True,\n",
    "    cache_size=0,\n",
    ")\n",
    "template = jinja_env.get_template(\"cyclops_template.jinja\")\n",
    "content = template.render(\n",
    "    model_details=mc.model_details,\n",
    "    model_parameters=mc.model_parameters,\n",
    "    quantitative_analysis=mc.quantitative_analysis,\n",
    "    explainability_analysis=mc.explainability_analysis,\n",
    "    fairness_analysis=mc.fairness_analysis,\n",
    "    considerations=mc.considerations,\n",
    ")\n",
    "with open(\"report.html\", \"w+\") as f:\n",
    "    f.write(content)\n"
   ]
  }
 ],
 "metadata": {
  "kernelspec": {
   "display_name": "pycyclops-4J2PL5I8-py3.9",
   "language": "python",
   "name": "python3"
  },
  "language_info": {
   "codemirror_mode": {
    "name": "ipython",
    "version": 3
   },
   "file_extension": ".py",
   "mimetype": "text/x-python",
   "name": "python",
   "nbconvert_exporter": "python",
   "pygments_lexer": "ipython3",
   "version": "3.9.7"
  }
 },
 "nbformat": 4,
 "nbformat_minor": 5
}
