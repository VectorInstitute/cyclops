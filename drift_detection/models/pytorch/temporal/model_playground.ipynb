{
 "cells": [
  {
   "cell_type": "code",
   "execution_count": 1,
   "id": "2deeb4f4-93a0-4f77-b652-b7cc68199411",
   "metadata": {},
   "outputs": [],
   "source": [
    "import random\n",
    "import pandas as pd\n",
    "import numpy as np\n",
    "from model_utils import *\n",
    "import torch.nn as nn\n",
    "import torch.optim as optim\n",
    "from optimizer import Optimizer\n",
    "\n",
    "\n",
    "def generate_rand_dataset(seed,nsamples,timesteps):\n",
    "    np.random.seed(seed)\n",
    "    j = [(a, b) for a in range(0,nsamples,1) for b in random.sample(pd.date_range('2018-01-01', periods=timesteps, freq='D').tolist(), timesteps)]\n",
    "    j.sort()\n",
    "    i = pd.MultiIndex.from_tuples(j, names=['Name','Date'])\n",
    "    df = pd.DataFrame({'x':np.random.randint(0,100,nsamples*timesteps),\n",
    "                       'y':np.random.randint(0,100,nsamples*timesteps),\n",
    "                      'z':np.random.randint(0,100,nsamples*timesteps)}, i)\n",
    "    y=np.random.randint(0,2,nsamples)\n",
    "    return(df,y)\n",
    "\n",
    "batch_size = 32\n",
    "nsamples=256\n",
    "timesteps=10\n",
    "train_x,train_y=generate_rand_dataset(456,nsamples,timesteps)\n",
    "train_dataset = pandas_to_dataset(train_x,train_y)\n",
    "train_loader = train_dataset.to_loader(batch_size)\n",
    "val_x,val_y=generate_rand_dataset(456,nsamples,timesteps)\n",
    "val_dataset = pandas_to_dataset(val_x,val_y)\n",
    "val_loader = train_dataset.to_loader(batch_size)"
   ]
  },
  {
   "cell_type": "code",
   "execution_count": 2,
   "id": "3f5debd9-db36-4d80-87dd-a5c87411d9d9",
   "metadata": {},
   "outputs": [
    {
     "name": "stderr",
     "output_type": "stream",
     "text": [
      "/Users/valli/opt/anaconda3/lib/python3.9/site-packages/torch/nn/modules/rnn.py:62: UserWarning: dropout option adds dropout after all but last recurrent layer, so non-zero dropout expects num_layers greater than 1, but got dropout=0.2 and num_layers=1\n",
      "  warnings.warn(\"dropout option adds dropout after all but last \"\n"
     ]
    }
   ],
   "source": [
    "input_dim = 3\n",
    "output_dim = 1\n",
    "hidden_dim = 32\n",
    "layer_dim = 1\n",
    "dropout = 0.2\n",
    "n_epochs = 100\n",
    "learning_rate = 1e-3\n",
    "weight_decay = 1e-6\n",
    "\n",
    "model_params = {'input_dim': input_dim,\n",
    "                'hidden_dim' : hidden_dim,\n",
    "                'layer_dim' : layer_dim,\n",
    "                'output_dim' : output_dim,\n",
    "                'dropout_prob' : dropout}\n",
    "\n",
    "model = get_model('lstm', model_params)"
   ]
  },
  {
   "cell_type": "code",
   "execution_count": 3,
   "id": "e38ccb7f-d920-4bf1-8635-6aa8d70b8616",
   "metadata": {},
   "outputs": [
    {
     "name": "stdout",
     "output_type": "stream",
     "text": [
      "[1/100] Training loss: 0.7802\t Validation loss: 0.7621\n",
      "[2/100] Training loss: 0.7480\t Validation loss: 0.7290\n",
      "[3/100] Training loss: 0.7143\t Validation loss: 0.6944\n",
      "[4/100] Training loss: 0.6822\t Validation loss: 0.6652\n",
      "[5/100] Training loss: 0.6544\t Validation loss: 0.6390\n",
      "[6/100] Training loss: 0.6271\t Validation loss: 0.6116\n",
      "[7/100] Training loss: 0.5993\t Validation loss: 0.5838\n",
      "[8/100] Training loss: 0.5705\t Validation loss: 0.5536\n",
      "[9/100] Training loss: 0.5431\t Validation loss: 0.5309\n",
      "[10/100] Training loss: 0.5253\t Validation loss: 0.5197\n",
      "[50/100] Training loss: 0.4965\t Validation loss: 0.4965\n",
      "[100/100] Training loss: 0.4960\t Validation loss: 0.4960\n"
     ]
    },
    {
     "data": {
      "image/png": "[encoded data removed]",
      "text/plain": [
       "<Figure size 432x288 with 1 Axes>"
      ]
     },
     "metadata": {
      "needs_background": "light"
     },
     "output_type": "display_data"
    }
   ],
   "source": [
    "loss_fn = nn.BCEWithLogitsLoss()\n",
    "optimizer = optim.Adam(model.parameters(), lr=learning_rate, weight_decay=weight_decay)\n",
    "\n",
    "opt = Optimizer(model=model, loss_fn=loss_fn, optimizer=optimizer)\n",
    "opt.train(train_loader, val_loader, batch_size=batch_size, n_epochs=n_epochs, n_features=input_dim)\n",
    "opt.plot_losses()"
   ]
  },
  {
   "cell_type": "code",
   "execution_count": null,
   "id": "491b296d-80ab-4119-84a2-cb7bb5b4e379",
   "metadata": {},
   "outputs": [],
   "source": []
  }
 ],
 "metadata": {
  "kernelspec": {
   "display_name": "Python 3 (ipykernel)",
   "language": "python",
   "name": "python3"
  },
  "language_info": {
   "codemirror_mode": {
    "name": "ipython",
    "version": 3
   },
   "file_extension": ".py",
   "mimetype": "text/x-python",
   "name": "python",
   "nbconvert_exporter": "python",
   "pygments_lexer": "ipython3",
   "version": "3.9.7"
  }
 },
 "nbformat": 4,
 "nbformat_minor": 5
}
