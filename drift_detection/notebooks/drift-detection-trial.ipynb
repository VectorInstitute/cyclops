{
 "cells": [
  {
   "cell_type": "code",
   "execution_count": 1,
   "id": "checked-supervisor",
   "metadata": {
    "scrolled": false
   },
   "outputs": [
    {
     "name": "stderr",
     "output_type": "stream",
     "text": [
      "2022-03-03 08:51:13.595905: W tensorflow/stream_executor/platform/default/dso_loader.cc:64] Could not load dynamic library 'libcudart.so.11.0'; dlerror: libcudart.so.11.0: cannot open shared object file: No such file or directory; LD_LIBRARY_PATH: /opt/R/4.0.4/lib/R/lib::/lib:/usr/local/lib:/usr/lib/x86_64-linux-gnu:/usr/lib/jvm/java-11-openjdk-amd64/lib/server\n",
      "2022-03-03 08:51:13.595970: I tensorflow/stream_executor/cuda/cudart_stub.cc:29] Ignore above cudart dlerror if you do not have a GPU set up on your machine.\n",
      "2022-03-03 08:51:16.467475: E tensorflow/stream_executor/cuda/cuda_driver.cc:271] failed call to cuInit: CUDA_ERROR_NO_DEVICE: no CUDA-capable device is detected\n",
      "2022-03-03 08:51:16.467541: I tensorflow/stream_executor/cuda/cuda_diagnostics.cc:156] kernel driver does not appear to be running on this host (cpu1.gemini-hpc.ca): /proc/driver/nvidia/version does not exist\n",
      "2022-03-03 08:51:16.468912: I tensorflow/core/platform/cpu_feature_guard.cc:151] This TensorFlow binary is optimized with oneAPI Deep Neural Network Library (oneDNN) to use the following CPU instructions in performance-critical operations:  AVX2 AVX512F FMA\n",
      "To enable them in other operations, rebuild TensorFlow with the appropriate compiler flags.\n",
      "2022-03-03 08:51:20,587 \u001b[1;37mINFO\u001b[0m config          - Log file is /mnt/nfs/home/subasriv/log.log\n",
      "2022-03-03 08:51:20,688 \u001b[1;37mINFO\u001b[0m cyclops.orm     - Log file is /mnt/nfs/home/subasriv/log.log\n"
     ]
    }
   ],
   "source": [
    "import sys\n",
    "sys.path.append(\"..\")\n",
    "from shift_detector import *\n",
    "from shift_reductor import *\n",
    "from shift_experiments import *\n",
    "from shift_tester import *\n",
    "import pandas as pd\n",
    "import os\n",
    "from shift_plot_utils import *\n",
    "from shift_utils import *"
   ]
  },
  {
   "cell_type": "markdown",
   "id": "distributed-psychiatry",
   "metadata": {},
   "source": [
    "###  Load data ###"
   ]
  },
  {
   "cell_type": "code",
   "execution_count": 2,
   "id": "applied-identity",
   "metadata": {},
   "outputs": [
    {
     "name": "stdout",
     "output_type": "stream",
     "text": [
      "Loading data...\n"
     ]
    }
   ],
   "source": [
    "print(\"Loading data...\")\n",
    "(X_s_tr, y_s_tr), (X_s_val, y_s_val), (X_t, y_t), orig_dims = import_dataset('los')"
   ]
  },
  {
   "cell_type": "markdown",
   "id": "requested-vanilla",
   "metadata": {},
   "source": [
    "### Define Shift Detector and Parameters ###"
   ]
  },
  {
   "cell_type": "code",
   "execution_count": 3,
   "id": "66b1a046-20a3-4723-afff-296837dc05bf",
   "metadata": {},
   "outputs": [
    {
     "name": "stdout",
     "output_type": "stream",
     "text": [
      "Building shift detector...\n"
     ]
    }
   ],
   "source": [
    "sign_level = 0.05\n",
    "dr_technique = \"PCA\"\n",
    "md_test = \"MMD\"\n",
    "red_model = None\n",
    "datset = \"test experiment\"\n",
    "samples = [10, 20, 50, 100, 200, 500, 1000,2000]\n",
    "sample = samples[5]\n",
    "orig_dims = X_s_tr.shape[1:]\n",
    "print(\"Building shift detector...\")\n",
    "sd = ShiftDetector(dr_technique, md_test, sign_level, red_model, sample, datset)"
   ]
  },
  {
   "cell_type": "markdown",
   "id": "normal-animation",
   "metadata": {},
   "source": [
    "#### Drift from 2019 to 2019 ####"
   ]
  },
  {
   "cell_type": "code",
   "execution_count": 49,
   "id": "impossible-tunnel",
   "metadata": {},
   "outputs": [
    {
     "name": "stdout",
     "output_type": "stream",
     "text": [
      "No GPU detected, fall back on CPU.\n",
      "0.8799999952316284 -0.0017459988594055176\n"
     ]
    }
   ],
   "source": [
    "p_val, dist, red_dim, red_model, t1_acc, t2_acc = sd.detect_data_shift(X_s_tr, y_s_tr, X_s_tr, y_s_tr, X_s_val[:sample,:], y_s_val[:sample], orig_dims)\n",
    "print(p_val,dist)"
   ]
  },
  {
   "cell_type": "markdown",
   "id": "creative-thailand",
   "metadata": {},
   "source": [
    "#### Drift from 2019 to 2020 ####"
   ]
  },
  {
   "cell_type": "code",
   "execution_count": 50,
   "id": "patent-ownership",
   "metadata": {
    "scrolled": false
   },
   "outputs": [
    {
     "name": "stdout",
     "output_type": "stream",
     "text": [
      "No GPU detected, fall back on CPU.\n",
      "0.019999999552965164 0.0064514875411987305\n"
     ]
    }
   ],
   "source": [
    "p_val, dist, red_dim, red_model, t1_acc, t2_acc = sd.detect_data_shift(X_s_tr, y_s_tr, X_s_val, y_s_val, X_t[:sample,:], y_t[:sample], orig_dims)\n",
    "print(p_val,dist)"
   ]
  },
  {
   "cell_type": "markdown",
   "id": "imperial-clark",
   "metadata": {},
   "source": [
    "#### Knockout Shift ####"
   ]
  },
  {
   "cell_type": "code",
   "execution_count": 11,
   "id": "418111e5-e908-40b6-ba44-de81a9f91e76",
   "metadata": {},
   "outputs": [
    {
     "name": "stdout",
     "output_type": "stream",
     "text": [
      "No GPU detected, fall back on CPU.\n",
      "0.009999999776482582 0.007656693458557129\n"
     ]
    }
   ],
   "source": [
    "shift = \"ko_shift_1.0\"\n",
    "X_ko, y_ko = apply_shift(X_s_tr, y_s_tr, X_s_val, y_s_val, shift)\n",
    "p_val, dist, red_dim, red_model, t1_acc, t2_acc = sd.detect_data_shift(X_s_tr, y_s_tr, X_s_val, y_s_val, X_ko[:sample,:], y_ko[:sample], orig_dims)\n",
    "print(p_val,dist)"
   ]
  },
  {
   "cell_type": "markdown",
   "id": "attempted-peripheral",
   "metadata": {},
   "source": [
    "#### Gaussian Noise Shift ####"
   ]
  },
  {
   "cell_type": "code",
   "execution_count": 39,
   "id": "close-clearance",
   "metadata": {},
   "outputs": [
    {
     "name": "stdout",
     "output_type": "stream",
     "text": [
      "No GPU detected, fall back on CPU.\n",
      "1.0 -0.002201557159423828\n",
      "No GPU detected, fall back on CPU.\n",
      "1.0 -3.039836883544922e-06\n"
     ]
    }
   ],
   "source": [
    "shift = \"small_gn_shift_0.1\"\n",
    "X_sgn, y_sgn = apply_shift(X_s_tr, y_s_tr, X_s_val, y_s_val, shift)\n",
    "p_val, dist, red_dim, red_model, t1_acc, t2_acc = sd.detect_data_shift(X_s_tr, y_s_tr, X_s_val, y_s_val, X_sgn[:sample,:], y_sgn[:sample], orig_dims)\n",
    "print(p_val,dist)\n",
    "\n",
    "shift = \"large_gn_shift_1.0\"\n",
    "X_lgn, y_lgn = apply_shift(X_s_tr, y_s_tr, X_s_val, y_s_val, shift)\n",
    "p_val, dist, red_dim, red_model, t1_acc, t2_acc = sd.detect_data_shift(X_s_tr, y_s_tr, X_s_val, y_s_val, X_lgn[:sample,:], y_lgn[:sample], orig_dims)\n",
    "print(p_val,dist)"
   ]
  },
  {
   "cell_type": "markdown",
   "id": "australian-intake",
   "metadata": {},
   "source": [
    "#### Multiway Feature Association Shift ####"
   ]
  },
  {
   "cell_type": "code",
   "execution_count": 40,
   "id": "70e786ad-5ed4-4cc4-b9bf-7537ce7ad10d",
   "metadata": {},
   "outputs": [
    {
     "name": "stdout",
     "output_type": "stream",
     "text": [
      "No GPU detected, fall back on CPU.\n",
      "1.0 -3.039836883544922e-06\n"
     ]
    }
   ],
   "source": [
    "shift = \"mfa_shift_0.5\"\n",
    "X_mfa, y_mfa = apply_shift(X_s_tr, y_s_tr, X_s_val, y_s_val, shift)\n",
    "p_val, dist, red_dim, red_model, t1_acc, t2_acc = sd.detect_data_shift(X_s_tr, y_s_tr, X_s_val, y_s_val, X_mfa[:sample,:], y_mfa[:sample], orig_dims)\n",
    "print(p_val,dist)"
   ]
  },
  {
   "cell_type": "markdown",
   "id": "legal-stationery",
   "metadata": {},
   "source": [
    "#### Changepoint Shift ####"
   ]
  },
  {
   "cell_type": "code",
   "execution_count": 41,
   "id": "66247b6e-2af0-4ba7-b30a-e7d7229f68f4",
   "metadata": {},
   "outputs": [
    {
     "name": "stderr",
     "output_type": "stream",
     "text": [
      "/mnt/nfs/home/subasriv/.conda/envs/vector_delirium/lib/python3.8/site-packages/sklearn/feature_selection/_univariate_selection.py:112: UserWarning: Features [16 20] are constant.\n",
      "  warnings.warn(\"Features %s are constant.\" % constant_features_idx, UserWarning)\n",
      "/mnt/nfs/home/subasriv/.conda/envs/vector_delirium/lib/python3.8/site-packages/sklearn/feature_selection/_univariate_selection.py:113: RuntimeWarning: invalid value encountered in true_divide\n",
      "  f = msb / msw\n"
     ]
    },
    {
     "name": "stdout",
     "output_type": "stream",
     "text": [
      "No GPU detected, fall back on CPU.\n",
      "1.0 -3.039836883544922e-06\n"
     ]
    }
   ],
   "source": [
    "shift= \"cp_shift_0.75\"\n",
    "X_cp, y_cp = apply_shift(X_s_tr, y_s_tr, X_s_val, y_s_val, shift)\n",
    "p_val, dist, red_dim, red_model, t1_acc, t2_acc = sd.detect_data_shift(X_s_tr, y_s_tr, X_s_val, y_s_val, X_cp[:sample,:], y_cp[:sample], orig_dims)\n",
    "print(p_val,dist)"
   ]
  }
 ],
 "metadata": {
  "kernelspec": {
   "display_name": "vector_delirium",
   "language": "python",
   "name": "vector_delirium"
  },
  "language_info": {
   "codemirror_mode": {
    "name": "ipython",
    "version": 3
   },
   "file_extension": ".py",
   "mimetype": "text/x-python",
   "name": "python",
   "nbconvert_exporter": "python",
   "pygments_lexer": "ipython3",
   "version": "3.8.5"
  }
 },
 "nbformat": 4,
 "nbformat_minor": 5
}
