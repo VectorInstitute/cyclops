{
 "cells": [
  {
   "cell_type": "code",
   "execution_count": 1,
   "id": "traditional-palmer",
   "metadata": {},
   "outputs": [
    {
     "name": "stderr",
     "output_type": "stream",
     "text": [
      "2022-03-17 12:09:42.983164: W tensorflow/stream_executor/platform/default/dso_loader.cc:64] Could not load dynamic library 'libcudart.so.11.0'; dlerror: libcudart.so.11.0: cannot open shared object file: No such file or directory; LD_LIBRARY_PATH: /opt/R/4.0.4/lib/R/lib::/lib:/usr/local/lib:/usr/lib/x86_64-linux-gnu:/usr/lib/jvm/java-11-openjdk-amd64/lib/server\n",
      "2022-03-17 12:09:42.983223: I tensorflow/stream_executor/cuda/cudart_stub.cc:29] Ignore above cudart dlerror if you do not have a GPU set up on your machine.\n",
      "2022-03-17 12:09:45.580422: E tensorflow/stream_executor/cuda/cuda_driver.cc:271] failed call to cuInit: CUDA_ERROR_NO_DEVICE: no CUDA-capable device is detected\n",
      "2022-03-17 12:09:45.580491: I tensorflow/stream_executor/cuda/cuda_diagnostics.cc:156] kernel driver does not appear to be running on this host (cpu1.gemini-hpc.ca): /proc/driver/nvidia/version does not exist\n",
      "2022-03-17 12:09:45.581112: I tensorflow/core/platform/cpu_feature_guard.cc:151] This TensorFlow binary is optimized with oneAPI Deep Neural Network Library (oneDNN) to use the following CPU instructions in performance-critical operations:  AVX2 AVX512F FMA\n",
      "To enable them in other operations, rebuild TensorFlow with the appropriate compiler flags.\n",
      "2022-03-17 12:09:48,624 \u001b[1;37mINFO\u001b[0m config          - Log file is /mnt/nfs/home/subasriv/vector-delirium/log.log\n",
      "2022-03-17 12:09:48,632 \u001b[1;37mINFO\u001b[0m cyclops.processors.base - Log file is /mnt/nfs/home/subasriv/vector-delirium/log.log\n",
      "2022-03-17 12:09:48,635 \u001b[1;37mINFO\u001b[0m cyclops.utils.profile - Log file is /mnt/nfs/home/subasriv/vector-delirium/log.log\n",
      "2022-03-17 12:09:48,638 \u001b[1;37mINFO\u001b[0m cyclops.processors.admin - Log file is /mnt/nfs/home/subasriv/vector-delirium/log.log\n",
      "2022-03-17 12:09:48,666 \u001b[1;37mINFO\u001b[0m cyclops.processors.vitals - Log file is /mnt/nfs/home/subasriv/vector-delirium/log.log\n",
      "2022-03-17 12:09:48,670 \u001b[1;37mINFO\u001b[0m cyclops.processors.labs - Log file is /mnt/nfs/home/subasriv/vector-delirium/log.log\n",
      "2022-03-17 12:09:48,673 \u001b[1;37mINFO\u001b[0m cyclops.processors.outcomes - Log file is /mnt/nfs/home/subasriv/vector-delirium/log.log\n",
      "2022-03-17 12:09:48,677 \u001b[1;37mINFO\u001b[0m cyclops.processors.feature_handler - Log file is /mnt/nfs/home/subasriv/vector-delirium/log.log\n",
      "2022-03-17 12:09:48,745 \u001b[1;37mINFO\u001b[0m cyclops.orm     - Log file is /mnt/nfs/home/subasriv/vector-delirium/log.log\n"
     ]
    },
    {
     "data": {
      "application/javascript": [
       "\n",
       "            setTimeout(function() {\n",
       "                var nbb_cell_id = 1;\n",
       "                var nbb_unformatted_code = \"import sys\\nimport pandas as pd\\nimport numpy as np\\nimport os\\nfrom functools import reduce\\nimport datetime\\nimport joblib\\nimport matplotlib.pyplot as plt\\nfrom sklearn.metrics import (\\n    auc,\\n    accuracy_score,\\n    confusion_matrix,\\n    roc_auc_score,\\n    roc_curve,\\n    precision_recall_curve,\\n    average_precision_score,\\n)\\nfrom sklearn.model_selection import GridSearchCV, train_test_split\\n\\nsys.path.append(\\\"..\\\")\\n\\nfrom shift_detector import *\\nfrom shift_reductor import *\\nfrom shift_experiments import *\\nfrom shift_tester import *\\nfrom shift_utils import *\\nfrom shift_models import *\\nfrom constants import *\\nfrom shift_plot_utils import *\\n\\nsys.path.append(\\\"../..\\\")\\n\\nimport sqlalchemy\\nfrom sqlalchemy import select, func, extract, desc\\nfrom sqlalchemy.sql.expression import and_\\n\\nfrom evidently import ColumnMapping\\nfrom evidently.dashboard import Dashboard\\nfrom evidently.dashboard.tabs import DataQualityTab\\nfrom evidently.model_profile import Profile\\nfrom evidently.model_profile.sections import DataQualityProfileSection\\n\\nimport config\\nimport cyclops\\nfrom cyclops.processors.column_names import (\\n    ENCOUNTER_ID,\\n    HOSPITAL_ID,\\n    ADMIT_TIMESTAMP,\\n    DISCHARGE_TIMESTAMP,\\n    DISCHARGE_DISPOSITION,\\n    READMISSION,\\n    AGE,\\n    SEX,\\n    TOTAL_COST,\\n    CITY,\\n    PROVINCE,\\n    COUNTRY,\\n    LANGUAGE,\\n    LENGTH_OF_STAY_IN_ER,\\n    VITAL_MEASUREMENT_NAME,\\n    VITAL_MEASUREMENT_VALUE,\\n    VITAL_MEASUREMENT_TIMESTAMP,\\n    LAB_TEST_NAME,\\n    LAB_TEST_TIMESTAMP,\\n    LAB_TEST_RESULT_VALUE,\\n    LAB_TEST_RESULT_UNIT,\\n    REFERENCE_RANGE,\\n)\\nfrom cyclops.processors.constants import EMPTY_STRING\\nfrom cyclops.processors.admin import AdminProcessor\\nfrom cyclops.processors.vitals import VitalsProcessor\\nfrom cyclops.processors.labs import LabsProcessor\\nfrom cyclops.processors.outcomes import OutcomesProcessor\\nfrom cyclops.processors.feature_handler import FeatureHandler\\nfrom cyclops.orm import Database\\n\\n%reload_ext autoreload\\n%reload_ext nb_black\";\n",
       "                var nbb_formatted_code = \"import sys\\nimport pandas as pd\\nimport numpy as np\\nimport os\\nfrom functools import reduce\\nimport datetime\\nimport joblib\\nimport matplotlib.pyplot as plt\\nfrom sklearn.metrics import (\\n    auc,\\n    accuracy_score,\\n    confusion_matrix,\\n    roc_auc_score,\\n    roc_curve,\\n    precision_recall_curve,\\n    average_precision_score,\\n)\\nfrom sklearn.model_selection import GridSearchCV, train_test_split\\n\\nsys.path.append(\\\"..\\\")\\n\\nfrom shift_detector import *\\nfrom shift_reductor import *\\nfrom shift_experiments import *\\nfrom shift_tester import *\\nfrom shift_utils import *\\nfrom shift_models import *\\nfrom constants import *\\nfrom shift_plot_utils import *\\n\\nsys.path.append(\\\"../..\\\")\\n\\nimport sqlalchemy\\nfrom sqlalchemy import select, func, extract, desc\\nfrom sqlalchemy.sql.expression import and_\\n\\nfrom evidently import ColumnMapping\\nfrom evidently.dashboard import Dashboard\\nfrom evidently.dashboard.tabs import DataQualityTab\\nfrom evidently.model_profile import Profile\\nfrom evidently.model_profile.sections import DataQualityProfileSection\\n\\nimport config\\nimport cyclops\\nfrom cyclops.processors.column_names import (\\n    ENCOUNTER_ID,\\n    HOSPITAL_ID,\\n    ADMIT_TIMESTAMP,\\n    DISCHARGE_TIMESTAMP,\\n    DISCHARGE_DISPOSITION,\\n    READMISSION,\\n    AGE,\\n    SEX,\\n    TOTAL_COST,\\n    CITY,\\n    PROVINCE,\\n    COUNTRY,\\n    LANGUAGE,\\n    LENGTH_OF_STAY_IN_ER,\\n    VITAL_MEASUREMENT_NAME,\\n    VITAL_MEASUREMENT_VALUE,\\n    VITAL_MEASUREMENT_TIMESTAMP,\\n    LAB_TEST_NAME,\\n    LAB_TEST_TIMESTAMP,\\n    LAB_TEST_RESULT_VALUE,\\n    LAB_TEST_RESULT_UNIT,\\n    REFERENCE_RANGE,\\n)\\nfrom cyclops.processors.constants import EMPTY_STRING\\nfrom cyclops.processors.admin import AdminProcessor\\nfrom cyclops.processors.vitals import VitalsProcessor\\nfrom cyclops.processors.labs import LabsProcessor\\nfrom cyclops.processors.outcomes import OutcomesProcessor\\nfrom cyclops.processors.feature_handler import FeatureHandler\\nfrom cyclops.orm import Database\\n\\n%reload_ext autoreload\\n%reload_ext nb_black\";\n",
       "                var nbb_cells = Jupyter.notebook.get_cells();\n",
       "                for (var i = 0; i < nbb_cells.length; ++i) {\n",
       "                    if (nbb_cells[i].input_prompt_number == nbb_cell_id) {\n",
       "                        if (nbb_cells[i].get_text() == nbb_unformatted_code) {\n",
       "                             nbb_cells[i].set_text(nbb_formatted_code);\n",
       "                        }\n",
       "                        break;\n",
       "                    }\n",
       "                }\n",
       "            }, 500);\n",
       "            "
      ],
      "text/plain": [
       "<IPython.core.display.Javascript object>"
      ]
     },
     "metadata": {},
     "output_type": "display_data"
    }
   ],
   "source": [
    "import sys\n",
    "import pandas as pd\n",
    "import numpy as np\n",
    "import os\n",
    "from functools import reduce\n",
    "import datetime\n",
    "import joblib\n",
    "import matplotlib.pyplot as plt\n",
    "from sklearn.metrics import (\n",
    "    auc,\n",
    "    accuracy_score,\n",
    "    confusion_matrix,\n",
    "    roc_auc_score,\n",
    "    roc_curve,\n",
    "    precision_recall_curve,\n",
    "    average_precision_score,\n",
    ")\n",
    "from sklearn.model_selection import GridSearchCV, train_test_split\n",
    "\n",
    "sys.path.append(\"..\")\n",
    "\n",
    "from shift_detector import *\n",
    "from shift_reductor import *\n",
    "from shift_experiments import *\n",
    "from shift_tester import *\n",
    "from shift_utils import *\n",
    "from shift_models import *\n",
    "from shift_constants import *\n",
    "from shift_plot_utils import *\n",
    "\n",
    "sys.path.append(\"../..\")\n",
    "\n",
    "import sqlalchemy\n",
    "from sqlalchemy import select, func, extract, desc\n",
    "from sqlalchemy.sql.expression import and_\n",
    "\n",
    "from evidently import ColumnMapping\n",
    "from evidently.dashboard import Dashboard\n",
    "from evidently.dashboard.tabs import DataQualityTab\n",
    "from evidently.model_profile import Profile\n",
    "from evidently.model_profile.sections import DataQualityProfileSection\n",
    "\n",
    "import config\n",
    "import cyclops\n",
    "from cyclops.processors.column_names import (\n",
    "    ENCOUNTER_ID,\n",
    "    HOSPITAL_ID,\n",
    "    ADMIT_TIMESTAMP,\n",
    "    DISCHARGE_TIMESTAMP,\n",
    "    DISCHARGE_DISPOSITION,\n",
    "    READMISSION,\n",
    "    AGE,\n",
    "    SEX,\n",
    "    TOTAL_COST,\n",
    "    CITY,\n",
    "    PROVINCE,\n",
    "    COUNTRY,\n",
    "    LANGUAGE,\n",
    "    LENGTH_OF_STAY_IN_ER,\n",
    "    VITAL_MEASUREMENT_NAME,\n",
    "    VITAL_MEASUREMENT_VALUE,\n",
    "    VITAL_MEASUREMENT_TIMESTAMP,\n",
    "    LAB_TEST_NAME,\n",
    "    LAB_TEST_TIMESTAMP,\n",
    "    LAB_TEST_RESULT_VALUE,\n",
    "    LAB_TEST_RESULT_UNIT,\n",
    "    REFERENCE_RANGE,\n",
    ")\n",
    "from cyclops.processors.constants import EMPTY_STRING\n",
    "from cyclops.processors.admin import AdminProcessor\n",
    "from cyclops.processors.vitals import VitalsProcessor\n",
    "from cyclops.processors.labs import LabsProcessor\n",
    "from cyclops.processors.outcomes import OutcomesProcessor\n",
    "from cyclops.processors.feature_handler import FeatureHandler\n",
    "from cyclops.orm import Database\n",
    "\n",
    "%reload_ext autoreload\n",
    "%reload_ext nb_black"
   ]
  },
  {
   "cell_type": "markdown",
   "id": "formal-amino",
   "metadata": {},
   "source": [
    "## Load Data ## "
   ]
  },
  {
   "cell_type": "code",
   "execution_count": 2,
   "id": "theoretical-mambo",
   "metadata": {},
   "outputs": [
    {
     "name": "stderr",
     "output_type": "stream",
     "text": [
      "2022-03-17 12:09:49,687 \u001b[1;37mINFO\u001b[0m cyclops.orm     - Database setup, ready to run queries!\n"
     ]
    },
    {
     "data": {
      "application/javascript": [
       "\n",
       "            setTimeout(function() {\n",
       "                var nbb_cell_id = 2;\n",
       "                var nbb_unformatted_code = \"cfg = config.read_config(\\\"../../configs/default/*.yaml\\\")\\ndb = Database(cfg)\\n\\nEXTRACT_SAVE_PATH = \\\"/mnt/nfs/project/delirium/_extract/first_models/extract.h5\\\"\";\n",
       "                var nbb_formatted_code = \"cfg = config.read_config(\\\"../../configs/default/*.yaml\\\")\\ndb = Database(cfg)\\n\\nEXTRACT_SAVE_PATH = \\\"/mnt/nfs/project/delirium/_extract/first_models/extract.h5\\\"\";\n",
       "                var nbb_cells = Jupyter.notebook.get_cells();\n",
       "                for (var i = 0; i < nbb_cells.length; ++i) {\n",
       "                    if (nbb_cells[i].input_prompt_number == nbb_cell_id) {\n",
       "                        if (nbb_cells[i].get_text() == nbb_unformatted_code) {\n",
       "                             nbb_cells[i].set_text(nbb_formatted_code);\n",
       "                        }\n",
       "                        break;\n",
       "                    }\n",
       "                }\n",
       "            }, 500);\n",
       "            "
      ],
      "text/plain": [
       "<IPython.core.display.Javascript object>"
      ]
     },
     "metadata": {},
     "output_type": "display_data"
    }
   ],
   "source": [
    "cfg = config.read_config(\"../../configs/default/*.yaml\")\n",
    "db = Database(cfg)\n",
    "\n",
    "EXTRACT_SAVE_PATH = \"/mnt/nfs/project/delirium/_extract/first_models/extract.h5\""
   ]
  },
  {
   "cell_type": "code",
   "execution_count": 3,
   "id": "special-diary",
   "metadata": {},
   "outputs": [
    {
     "name": "stderr",
     "output_type": "stream",
     "text": [
      "2022-03-17 12:09:49,862 \u001b[1;37mINFO\u001b[0m cyclops.processors.base - Processing raw admin data...\n",
      "2022-03-17 12:09:49,865 \u001b[1;37mINFO\u001b[0m cyclops.processors.base - # samples: 10756, # encounters: 10756\n",
      "2022-03-17 12:09:49,867 \u001b[1;37mINFO\u001b[0m cyclops.processors.admin - # admin features: 2, # encounters: 10756\n",
      "2022-03-17 12:09:55,449 \u001b[1;37mINFO\u001b[0m cyclops.utils.profile - Finished executing function process in 5.587019 s\n"
     ]
    },
    {
     "data": {
      "application/javascript": [
       "\n",
       "            setTimeout(function() {\n",
       "                var nbb_cell_id = 3;\n",
       "                var nbb_unformatted_code = \"%autoreload 2\\n\\ndata = pd.read_hdf(EXTRACT_SAVE_PATH, key=f\\\"query_gemini_admin\\\")\\nmust_have_columns = [ENCOUNTER_ID, AGE, SEX]\\n\\nadmin_processor = AdminProcessor(data, must_have_columns)\\nadmin_features = admin_processor.process()\";\n",
       "                var nbb_formatted_code = \"%autoreload 2\\n\\ndata = pd.read_hdf(EXTRACT_SAVE_PATH, key=f\\\"query_gemini_admin\\\")\\nmust_have_columns = [ENCOUNTER_ID, AGE, SEX]\\n\\nadmin_processor = AdminProcessor(data, must_have_columns)\\nadmin_features = admin_processor.process()\";\n",
       "                var nbb_cells = Jupyter.notebook.get_cells();\n",
       "                for (var i = 0; i < nbb_cells.length; ++i) {\n",
       "                    if (nbb_cells[i].input_prompt_number == nbb_cell_id) {\n",
       "                        if (nbb_cells[i].get_text() == nbb_unformatted_code) {\n",
       "                             nbb_cells[i].set_text(nbb_formatted_code);\n",
       "                        }\n",
       "                        break;\n",
       "                    }\n",
       "                }\n",
       "            }, 500);\n",
       "            "
      ],
      "text/plain": [
       "<IPython.core.display.Javascript object>"
      ]
     },
     "metadata": {},
     "output_type": "display_data"
    }
   ],
   "source": [
    "%autoreload 2\n",
    "\n",
    "data = pd.read_hdf(EXTRACT_SAVE_PATH, key=f\"query_gemini_admin\")\n",
    "must_have_columns = [ENCOUNTER_ID, AGE, SEX]\n",
    "\n",
    "admin_processor = AdminProcessor(data, must_have_columns)\n",
    "admin_features = admin_processor.process()"
   ]
  },
  {
   "cell_type": "code",
   "execution_count": 4,
   "id": "broken-venture",
   "metadata": {},
   "outputs": [
    {
     "name": "stderr",
     "output_type": "stream",
     "text": [
      "2022-03-17 12:09:59,301 \u001b[1;37mINFO\u001b[0m cyclops.processors.base - Processing raw lab data...\n",
      "2022-03-17 12:09:59,318 \u001b[1;37mINFO\u001b[0m cyclops.processors.base - # samples: 1290086, # encounters: 10688\n",
      "2022-03-17 12:09:59,797 \u001b[1;37mINFO\u001b[0m cyclops.processors.base - Aggregating labs within aggregation window...\n",
      "2022-03-17 12:09:59,805 \u001b[1;37mINFO\u001b[0m cyclops.processors.base - # samples: 482354, # encounters: 10653\n",
      "2022-03-17 12:10:00,534 \u001b[1;37mINFO\u001b[0m cyclops.processors.base - Remove text in parentheses and normalize lab test names...\n",
      "2022-03-17 12:10:00,540 \u001b[1;37mINFO\u001b[0m cyclops.processors.base - # samples: 482354, # encounters: 10653\n",
      "2022-03-17 12:10:00,774 \u001b[1;37mINFO\u001b[0m cyclops.processors.base - Drop unsupported...\n",
      "2022-03-17 12:10:00,780 \u001b[1;37mINFO\u001b[0m cyclops.processors.base - # samples: 410025, # encounters: 10653\n",
      "2022-03-17 12:10:01,451 \u001b[1;37mINFO\u001b[0m cyclops.processors.base - Fixing inequalities and removing outlier values...\n",
      "2022-03-17 12:10:01,457 \u001b[1;37mINFO\u001b[0m cyclops.processors.base - # samples: 410025, # encounters: 10653\n",
      "2022-03-17 12:10:01,527 \u001b[1;37mINFO\u001b[0m cyclops.processors.base - Fill empty result string values with NaN...\n",
      "2022-03-17 12:10:01,533 \u001b[1;37mINFO\u001b[0m cyclops.processors.base - # samples: 410025, # encounters: 10653\n",
      "2022-03-17 12:10:01,534 \u001b[1;37mINFO\u001b[0m cyclops.processors.labs - Converting string result values to numeric...\n",
      "2022-03-17 12:10:01,623 \u001b[1;37mINFO\u001b[0m cyclops.processors.labs - Cleaning units and converting to SI...\n",
      "2022-03-17 12:10:02,594 \u001b[1;37mINFO\u001b[0m cyclops.processors.labs - Creating features...\n",
      "2022-03-17 12:10:02,622 \u001b[1;37mINFO\u001b[0m cyclops.processors.labs - ['aptt', 'ketone', 'bilirubin', 'calcium', 'calcium, ionized', 'creatinine', 'esr', 'serum alcohol', 'ferritin', 'fibrinogen', 'glucose fasting', 'glucose point of care', 'glucose random', 'hematocrit', 'hemoglobin', 'crp', 'influenza', 'inr', 'lactate arterial', 'lactate venous', 'mean cell volume', 'arterial paco2', 'venous pco2', 'arterial ph', 'venous ph', 'platelet count', 'arterial pao2', 'potassium', 'pt', 'sodium', 'urine sodium', 'urine specific gravity', 'bicarbonate', 'troponin', 'blood urea nitrogen', 'vitamin b12', 'white blood cell count', 'high sensitivity troponin', 'vitamin d', 'hba1c', 'lymphocyte', 'neutrophils', 'albumin']\n",
      "2022-03-17 12:10:02,628 \u001b[1;37mINFO\u001b[0m cyclops.processors.labs - # labs features: 43, # encounters: 10653\n",
      "2022-03-17 12:11:19,549 \u001b[1;37mINFO\u001b[0m cyclops.utils.profile - Finished executing function process in 80.248309 s\n"
     ]
    },
    {
     "data": {
      "application/javascript": [
       "\n",
       "            setTimeout(function() {\n",
       "                var nbb_cell_id = 4;\n",
       "                var nbb_unformatted_code = \"%autoreload 2\\nlabs = pd.read_hdf(EXTRACT_SAVE_PATH, key=f\\\"query_gemini_admin_labs\\\")\\nmust_have_columns = [\\n    ENCOUNTER_ID,\\n    ADMIT_TIMESTAMP,\\n    LAB_TEST_NAME,\\n    LAB_TEST_TIMESTAMP,\\n    LAB_TEST_RESULT_VALUE,\\n    LAB_TEST_RESULT_UNIT,\\n    REFERENCE_RANGE,\\n]\\nlabs_processor = LabsProcessor(labs, must_have_columns)\\nlabs_features = labs_processor.process()\";\n",
       "                var nbb_formatted_code = \"%autoreload 2\\nlabs = pd.read_hdf(EXTRACT_SAVE_PATH, key=f\\\"query_gemini_admin_labs\\\")\\nmust_have_columns = [\\n    ENCOUNTER_ID,\\n    ADMIT_TIMESTAMP,\\n    LAB_TEST_NAME,\\n    LAB_TEST_TIMESTAMP,\\n    LAB_TEST_RESULT_VALUE,\\n    LAB_TEST_RESULT_UNIT,\\n    REFERENCE_RANGE,\\n]\\nlabs_processor = LabsProcessor(labs, must_have_columns)\\nlabs_features = labs_processor.process()\";\n",
       "                var nbb_cells = Jupyter.notebook.get_cells();\n",
       "                for (var i = 0; i < nbb_cells.length; ++i) {\n",
       "                    if (nbb_cells[i].input_prompt_number == nbb_cell_id) {\n",
       "                        if (nbb_cells[i].get_text() == nbb_unformatted_code) {\n",
       "                             nbb_cells[i].set_text(nbb_formatted_code);\n",
       "                        }\n",
       "                        break;\n",
       "                    }\n",
       "                }\n",
       "            }, 500);\n",
       "            "
      ],
      "text/plain": [
       "<IPython.core.display.Javascript object>"
      ]
     },
     "metadata": {},
     "output_type": "display_data"
    }
   ],
   "source": [
    "%autoreload 2\n",
    "labs = pd.read_hdf(EXTRACT_SAVE_PATH, key=f\"query_gemini_admin_labs\")\n",
    "must_have_columns = [\n",
    "    ENCOUNTER_ID,\n",
    "    ADMIT_TIMESTAMP,\n",
    "    LAB_TEST_NAME,\n",
    "    LAB_TEST_TIMESTAMP,\n",
    "    LAB_TEST_RESULT_VALUE,\n",
    "    LAB_TEST_RESULT_UNIT,\n",
    "    REFERENCE_RANGE,\n",
    "]\n",
    "labs_processor = LabsProcessor(labs, must_have_columns)\n",
    "labs_features = labs_processor.process()"
   ]
  },
  {
   "cell_type": "code",
   "execution_count": 5,
   "id": "requested-america",
   "metadata": {},
   "outputs": [
    {
     "name": "stderr",
     "output_type": "stream",
     "text": [
      "2022-03-17 12:11:21,466 \u001b[1;37mINFO\u001b[0m cyclops.processors.base - Processing raw vitals data...\n",
      "2022-03-17 12:11:21,472 \u001b[1;37mINFO\u001b[0m cyclops.processors.base - # samples: 594190, # encounters: 3082\n",
      "2022-03-17 12:11:21,586 \u001b[1;37mINFO\u001b[0m cyclops.processors.base - Aggregating vitals within aggregation window...\n",
      "2022-03-17 12:11:21,588 \u001b[1;37mINFO\u001b[0m cyclops.processors.base - # samples: 74304, # encounters: 3014\n",
      "2022-03-17 12:11:21,695 \u001b[1;37mINFO\u001b[0m cyclops.processors.base - Drop oxygen flow rate, saturation samples (unsupported)...\n",
      "2022-03-17 12:11:21,697 \u001b[1;37mINFO\u001b[0m cyclops.processors.base - # samples: 56344, # encounters: 3014\n",
      "2022-03-17 12:11:21,854 \u001b[1;37mINFO\u001b[0m cyclops.processors.base - Convert Positive/Negative to 1/0...\n",
      "2022-03-17 12:11:21,855 \u001b[1;37mINFO\u001b[0m cyclops.processors.base - # samples: 56344, # encounters: 3014\n",
      "2022-03-17 12:11:21,867 \u001b[1;37mINFO\u001b[0m cyclops.processors.base - Fill empty result string values with NaN...\n",
      "2022-03-17 12:11:21,868 \u001b[1;37mINFO\u001b[0m cyclops.processors.base - # samples: 56344, # encounters: 3014\n",
      "2022-03-17 12:11:21,878 \u001b[1;37mINFO\u001b[0m cyclops.processors.vitals - Converting string result values to numeric...\n",
      "2022-03-17 12:11:21,879 \u001b[1;37mINFO\u001b[0m cyclops.processors.vitals - Creating features...\n",
      "2022-03-17 12:11:21,887 \u001b[1;37mINFO\u001b[0m cyclops.processors.vitals - # vitals features: 8, # encounters: 3014\n",
      "2022-03-17 12:11:27,663 \u001b[1;37mINFO\u001b[0m cyclops.utils.profile - Finished executing function process in 6.196687 s\n"
     ]
    },
    {
     "data": {
      "application/javascript": [
       "\n",
       "            setTimeout(function() {\n",
       "                var nbb_cell_id = 5;\n",
       "                var nbb_unformatted_code = \"%autoreload 2\\nvitals = pd.read_hdf(EXTRACT_SAVE_PATH, key=f\\\"query_gemini_admin_vitals\\\")\\nmust_have_columns = [\\n    ENCOUNTER_ID,\\n    ADMIT_TIMESTAMP,\\n    VITAL_MEASUREMENT_NAME,\\n    VITAL_MEASUREMENT_VALUE,\\n    VITAL_MEASUREMENT_TIMESTAMP,\\n    REFERENCE_RANGE,\\n]\\n\\nvitals_processor = VitalsProcessor(vitals, must_have_columns)\\nvitals_features = vitals_processor.process()\";\n",
       "                var nbb_formatted_code = \"%autoreload 2\\nvitals = pd.read_hdf(EXTRACT_SAVE_PATH, key=f\\\"query_gemini_admin_vitals\\\")\\nmust_have_columns = [\\n    ENCOUNTER_ID,\\n    ADMIT_TIMESTAMP,\\n    VITAL_MEASUREMENT_NAME,\\n    VITAL_MEASUREMENT_VALUE,\\n    VITAL_MEASUREMENT_TIMESTAMP,\\n    REFERENCE_RANGE,\\n]\\n\\nvitals_processor = VitalsProcessor(vitals, must_have_columns)\\nvitals_features = vitals_processor.process()\";\n",
       "                var nbb_cells = Jupyter.notebook.get_cells();\n",
       "                for (var i = 0; i < nbb_cells.length; ++i) {\n",
       "                    if (nbb_cells[i].input_prompt_number == nbb_cell_id) {\n",
       "                        if (nbb_cells[i].get_text() == nbb_unformatted_code) {\n",
       "                             nbb_cells[i].set_text(nbb_formatted_code);\n",
       "                        }\n",
       "                        break;\n",
       "                    }\n",
       "                }\n",
       "            }, 500);\n",
       "            "
      ],
      "text/plain": [
       "<IPython.core.display.Javascript object>"
      ]
     },
     "metadata": {},
     "output_type": "display_data"
    }
   ],
   "source": [
    "%autoreload 2\n",
    "vitals = pd.read_hdf(EXTRACT_SAVE_PATH, key=f\"query_gemini_admin_vitals\")\n",
    "must_have_columns = [\n",
    "    ENCOUNTER_ID,\n",
    "    ADMIT_TIMESTAMP,\n",
    "    VITAL_MEASUREMENT_NAME,\n",
    "    VITAL_MEASUREMENT_VALUE,\n",
    "    VITAL_MEASUREMENT_TIMESTAMP,\n",
    "    REFERENCE_RANGE,\n",
    "]\n",
    "\n",
    "vitals_processor = VitalsProcessor(vitals, must_have_columns)\n",
    "vitals_features = vitals_processor.process()"
   ]
  },
  {
   "cell_type": "code",
   "execution_count": 6,
   "id": "married-portfolio",
   "metadata": {},
   "outputs": [
    {
     "name": "stderr",
     "output_type": "stream",
     "text": [
      "2022-03-17 12:11:27,816 \u001b[1;37mINFO\u001b[0m cyclops.processors.base - Processing raw outcomes data...\n",
      "2022-03-17 12:11:27,817 \u001b[1;37mINFO\u001b[0m cyclops.processors.base - # samples: 10756, # encounters: 10756\n",
      "2022-03-17 12:11:27,840 \u001b[1;37mINFO\u001b[0m cyclops.utils.profile - Finished executing function process in 0.024107 s\n"
     ]
    },
    {
     "data": {
      "application/javascript": [
       "\n",
       "            setTimeout(function() {\n",
       "                var nbb_cell_id = 6;\n",
       "                var nbb_unformatted_code = \"%autoreload 2\\n\\nadmin_data = pd.read_hdf(EXTRACT_SAVE_PATH, key=f\\\"query_gemini_admin\\\")\\nlos_er_data = pd.read_hdf(EXTRACT_SAVE_PATH, key=f\\\"query_gemini_los_er\\\")\\n\\ndata = pd.merge(admin_data, los_er_data, how=\\\"outer\\\")\\nmust_have_columns = [\\n    ENCOUNTER_ID,\\n    AGE,\\n    SEX,\\n    DISCHARGE_DISPOSITION,\\n    LENGTH_OF_STAY_IN_ER,\\n]\\noutcomes_processor = OutcomesProcessor(data, must_have_columns)\\noutcome_targets = outcomes_processor.process()\";\n",
       "                var nbb_formatted_code = \"%autoreload 2\\n\\nadmin_data = pd.read_hdf(EXTRACT_SAVE_PATH, key=f\\\"query_gemini_admin\\\")\\nlos_er_data = pd.read_hdf(EXTRACT_SAVE_PATH, key=f\\\"query_gemini_los_er\\\")\\n\\ndata = pd.merge(admin_data, los_er_data, how=\\\"outer\\\")\\nmust_have_columns = [\\n    ENCOUNTER_ID,\\n    AGE,\\n    SEX,\\n    DISCHARGE_DISPOSITION,\\n    LENGTH_OF_STAY_IN_ER,\\n]\\noutcomes_processor = OutcomesProcessor(data, must_have_columns)\\noutcome_targets = outcomes_processor.process()\";\n",
       "                var nbb_cells = Jupyter.notebook.get_cells();\n",
       "                for (var i = 0; i < nbb_cells.length; ++i) {\n",
       "                    if (nbb_cells[i].input_prompt_number == nbb_cell_id) {\n",
       "                        if (nbb_cells[i].get_text() == nbb_unformatted_code) {\n",
       "                             nbb_cells[i].set_text(nbb_formatted_code);\n",
       "                        }\n",
       "                        break;\n",
       "                    }\n",
       "                }\n",
       "            }, 500);\n",
       "            "
      ],
      "text/plain": [
       "<IPython.core.display.Javascript object>"
      ]
     },
     "metadata": {},
     "output_type": "display_data"
    }
   ],
   "source": [
    "%autoreload 2\n",
    "\n",
    "admin_data = pd.read_hdf(EXTRACT_SAVE_PATH, key=f\"query_gemini_admin\")\n",
    "los_er_data = pd.read_hdf(EXTRACT_SAVE_PATH, key=f\"query_gemini_los_er\")\n",
    "\n",
    "data = pd.merge(admin_data, los_er_data, how=\"outer\")\n",
    "must_have_columns = [\n",
    "    ENCOUNTER_ID,\n",
    "    AGE,\n",
    "    SEX,\n",
    "    DISCHARGE_DISPOSITION,\n",
    "    LENGTH_OF_STAY_IN_ER,\n",
    "]\n",
    "outcomes_processor = OutcomesProcessor(data, must_have_columns)\n",
    "outcome_targets = outcomes_processor.process()"
   ]
  },
  {
   "cell_type": "code",
   "execution_count": 7,
   "id": "minor-delicious",
   "metadata": {},
   "outputs": [
    {
     "name": "stderr",
     "output_type": "stream",
     "text": [
      "invalid value encountered in true_divide\n",
      "invalid value encountered in true_divide\n",
      "invalid value encountered in true_divide\n"
     ]
    },
    {
     "data": {
      "application/javascript": [
       "\n",
       "            setTimeout(function() {\n",
       "                var nbb_cell_id = 7;\n",
       "                var nbb_unformatted_code = \"feature_handler = FeatureHandler()\\nfeature_handler.add_features(admin_features)\\nfeature_handler.add_features(labs_features)\\nfeature_handler.add_features(vitals_features)\\nfeature_handler.add_features(outcome_targets)\";\n",
       "                var nbb_formatted_code = \"feature_handler = FeatureHandler()\\nfeature_handler.add_features(admin_features)\\nfeature_handler.add_features(labs_features)\\nfeature_handler.add_features(vitals_features)\\nfeature_handler.add_features(outcome_targets)\";\n",
       "                var nbb_cells = Jupyter.notebook.get_cells();\n",
       "                for (var i = 0; i < nbb_cells.length; ++i) {\n",
       "                    if (nbb_cells[i].input_prompt_number == nbb_cell_id) {\n",
       "                        if (nbb_cells[i].get_text() == nbb_unformatted_code) {\n",
       "                             nbb_cells[i].set_text(nbb_formatted_code);\n",
       "                        }\n",
       "                        break;\n",
       "                    }\n",
       "                }\n",
       "            }, 500);\n",
       "            "
      ],
      "text/plain": [
       "<IPython.core.display.Javascript object>"
      ]
     },
     "metadata": {},
     "output_type": "display_data"
    }
   ],
   "source": [
    "feature_handler = FeatureHandler()\n",
    "feature_handler.add_features(admin_features)\n",
    "feature_handler.add_features(labs_features)\n",
    "feature_handler.add_features(vitals_features)\n",
    "feature_handler.add_features(outcome_targets)"
   ]
  },
  {
   "cell_type": "code",
   "execution_count": 8,
   "id": "velvet-county",
   "metadata": {},
   "outputs": [
    {
     "data": {
      "text/html": [
       "<div>\n",
       "<style scoped>\n",
       "    .dataframe tbody tr th:only-of-type {\n",
       "        vertical-align: middle;\n",
       "    }\n",
       "\n",
       "    .dataframe tbody tr th {\n",
       "        vertical-align: top;\n",
       "    }\n",
       "\n",
       "    .dataframe thead th {\n",
       "        text-align: right;\n",
       "    }\n",
       "</style>\n",
       "<table border=\"1\" class=\"dataframe\">\n",
       "  <thead>\n",
       "    <tr style=\"text-align: right;\">\n",
       "      <th></th>\n",
       "      <th>age</th>\n",
       "      <th>sex</th>\n",
       "      <th>aptt</th>\n",
       "      <th>ketone</th>\n",
       "      <th>bilirubin</th>\n",
       "      <th>calcium</th>\n",
       "      <th>calcium, ionized</th>\n",
       "      <th>creatinine</th>\n",
       "      <th>esr</th>\n",
       "      <th>serum alcohol</th>\n",
       "      <th>ferritin</th>\n",
       "      <th>fibrinogen</th>\n",
       "      <th>glucose fasting</th>\n",
       "      <th>glucose point of care</th>\n",
       "      <th>glucose random</th>\n",
       "      <th>hematocrit</th>\n",
       "      <th>hemoglobin</th>\n",
       "      <th>crp</th>\n",
       "      <th>influenza</th>\n",
       "      <th>inr</th>\n",
       "      <th>lactate arterial</th>\n",
       "      <th>lactate venous</th>\n",
       "      <th>mean cell volume</th>\n",
       "      <th>arterial paco2</th>\n",
       "      <th>venous pco2</th>\n",
       "      <th>arterial ph</th>\n",
       "      <th>venous ph</th>\n",
       "      <th>platelet count</th>\n",
       "      <th>arterial pao2</th>\n",
       "      <th>potassium</th>\n",
       "      <th>pt</th>\n",
       "      <th>sodium</th>\n",
       "      <th>urine sodium</th>\n",
       "      <th>urine specific gravity</th>\n",
       "      <th>bicarbonate</th>\n",
       "      <th>troponin</th>\n",
       "      <th>blood urea nitrogen</th>\n",
       "      <th>vitamin b12</th>\n",
       "      <th>white blood cell count</th>\n",
       "      <th>high sensitivity troponin</th>\n",
       "      <th>vitamin d</th>\n",
       "      <th>hba1c</th>\n",
       "      <th>lymphocyte</th>\n",
       "      <th>neutrophils</th>\n",
       "      <th>albumin</th>\n",
       "      <th>Heart Rate</th>\n",
       "      <th>respiratory rate</th>\n",
       "      <th>Systolic BP</th>\n",
       "      <th>Temperature</th>\n",
       "      <th>weight</th>\n",
       "      <th>CAM</th>\n",
       "      <th>Diastolic BP</th>\n",
       "      <th>fio2</th>\n",
       "      <th>mortality_in_hospital</th>\n",
       "      <th>length_of_stay_in_er</th>\n",
       "    </tr>\n",
       "  </thead>\n",
       "  <tbody>\n",
       "    <tr>\n",
       "      <th>11100040</th>\n",
       "      <td>84</td>\n",
       "      <td>1</td>\n",
       "      <td>27.7</td>\n",
       "      <td>NaN</td>\n",
       "      <td>NaN</td>\n",
       "      <td>1.69</td>\n",
       "      <td>NaN</td>\n",
       "      <td>664.0</td>\n",
       "      <td>NaN</td>\n",
       "      <td>NaN</td>\n",
       "      <td>NaN</td>\n",
       "      <td>NaN</td>\n",
       "      <td>NaN</td>\n",
       "      <td>12.675</td>\n",
       "      <td>13.2</td>\n",
       "      <td>0.2880</td>\n",
       "      <td>95.5</td>\n",
       "      <td>NaN</td>\n",
       "      <td>NaN</td>\n",
       "      <td>1.14</td>\n",
       "      <td>NaN</td>\n",
       "      <td>NaN</td>\n",
       "      <td>102.45</td>\n",
       "      <td>NaN</td>\n",
       "      <td>NaN</td>\n",
       "      <td>NaN</td>\n",
       "      <td>NaN</td>\n",
       "      <td>112.5</td>\n",
       "      <td>NaN</td>\n",
       "      <td>3.70</td>\n",
       "      <td>12.65</td>\n",
       "      <td>131.5</td>\n",
       "      <td>NaN</td>\n",
       "      <td>NaN</td>\n",
       "      <td>20.5</td>\n",
       "      <td>NaN</td>\n",
       "      <td>NaN</td>\n",
       "      <td>NaN</td>\n",
       "      <td>8.500</td>\n",
       "      <td>NaN</td>\n",
       "      <td>NaN</td>\n",
       "      <td>NaN</td>\n",
       "      <td>1.110</td>\n",
       "      <td>6.445</td>\n",
       "      <td>28.0</td>\n",
       "      <td>NaN</td>\n",
       "      <td>NaN</td>\n",
       "      <td>NaN</td>\n",
       "      <td>NaN</td>\n",
       "      <td>NaN</td>\n",
       "      <td>NaN</td>\n",
       "      <td>NaN</td>\n",
       "      <td>NaN</td>\n",
       "      <td>0</td>\n",
       "      <td>15.400000</td>\n",
       "    </tr>\n",
       "    <tr>\n",
       "      <th>11100097</th>\n",
       "      <td>65</td>\n",
       "      <td>1</td>\n",
       "      <td>NaN</td>\n",
       "      <td>NaN</td>\n",
       "      <td>9.5</td>\n",
       "      <td>2.25</td>\n",
       "      <td>NaN</td>\n",
       "      <td>42.5</td>\n",
       "      <td>NaN</td>\n",
       "      <td>NaN</td>\n",
       "      <td>NaN</td>\n",
       "      <td>NaN</td>\n",
       "      <td>NaN</td>\n",
       "      <td>NaN</td>\n",
       "      <td>9.4</td>\n",
       "      <td>0.4565</td>\n",
       "      <td>146.5</td>\n",
       "      <td>NaN</td>\n",
       "      <td>NaN</td>\n",
       "      <td>NaN</td>\n",
       "      <td>NaN</td>\n",
       "      <td>2.30</td>\n",
       "      <td>99.70</td>\n",
       "      <td>NaN</td>\n",
       "      <td>38.0</td>\n",
       "      <td>NaN</td>\n",
       "      <td>7.45</td>\n",
       "      <td>274.5</td>\n",
       "      <td>NaN</td>\n",
       "      <td>4.85</td>\n",
       "      <td>NaN</td>\n",
       "      <td>130.5</td>\n",
       "      <td>NaN</td>\n",
       "      <td>1.015</td>\n",
       "      <td>23.0</td>\n",
       "      <td>0.006000</td>\n",
       "      <td>NaN</td>\n",
       "      <td>NaN</td>\n",
       "      <td>12.715</td>\n",
       "      <td>NaN</td>\n",
       "      <td>NaN</td>\n",
       "      <td>NaN</td>\n",
       "      <td>1.630</td>\n",
       "      <td>9.830</td>\n",
       "      <td>30.0</td>\n",
       "      <td>NaN</td>\n",
       "      <td>NaN</td>\n",
       "      <td>NaN</td>\n",
       "      <td>NaN</td>\n",
       "      <td>NaN</td>\n",
       "      <td>NaN</td>\n",
       "      <td>NaN</td>\n",
       "      <td>NaN</td>\n",
       "      <td>0</td>\n",
       "      <td>16.816668</td>\n",
       "    </tr>\n",
       "    <tr>\n",
       "      <th>11100164</th>\n",
       "      <td>59</td>\n",
       "      <td>1</td>\n",
       "      <td>25.1</td>\n",
       "      <td>NaN</td>\n",
       "      <td>8.0</td>\n",
       "      <td>2.25</td>\n",
       "      <td>NaN</td>\n",
       "      <td>95.0</td>\n",
       "      <td>NaN</td>\n",
       "      <td>1.0</td>\n",
       "      <td>NaN</td>\n",
       "      <td>3.16</td>\n",
       "      <td>NaN</td>\n",
       "      <td>NaN</td>\n",
       "      <td>6.5</td>\n",
       "      <td>0.4400</td>\n",
       "      <td>145.5</td>\n",
       "      <td>NaN</td>\n",
       "      <td>NaN</td>\n",
       "      <td>0.96</td>\n",
       "      <td>NaN</td>\n",
       "      <td>1.20</td>\n",
       "      <td>86.35</td>\n",
       "      <td>NaN</td>\n",
       "      <td>47.0</td>\n",
       "      <td>NaN</td>\n",
       "      <td>7.35</td>\n",
       "      <td>224.0</td>\n",
       "      <td>NaN</td>\n",
       "      <td>4.10</td>\n",
       "      <td>10.70</td>\n",
       "      <td>134.5</td>\n",
       "      <td>NaN</td>\n",
       "      <td>NaN</td>\n",
       "      <td>24.5</td>\n",
       "      <td>NaN</td>\n",
       "      <td>NaN</td>\n",
       "      <td>NaN</td>\n",
       "      <td>7.260</td>\n",
       "      <td>NaN</td>\n",
       "      <td>NaN</td>\n",
       "      <td>0.055</td>\n",
       "      <td>0.955</td>\n",
       "      <td>5.755</td>\n",
       "      <td>44.0</td>\n",
       "      <td>NaN</td>\n",
       "      <td>NaN</td>\n",
       "      <td>NaN</td>\n",
       "      <td>NaN</td>\n",
       "      <td>NaN</td>\n",
       "      <td>NaN</td>\n",
       "      <td>NaN</td>\n",
       "      <td>NaN</td>\n",
       "      <td>0</td>\n",
       "      <td>3.650000</td>\n",
       "    </tr>\n",
       "    <tr>\n",
       "      <th>11100176</th>\n",
       "      <td>63</td>\n",
       "      <td>1</td>\n",
       "      <td>25.6</td>\n",
       "      <td>NaN</td>\n",
       "      <td>NaN</td>\n",
       "      <td>2.26</td>\n",
       "      <td>NaN</td>\n",
       "      <td>312.0</td>\n",
       "      <td>NaN</td>\n",
       "      <td>NaN</td>\n",
       "      <td>NaN</td>\n",
       "      <td>NaN</td>\n",
       "      <td>NaN</td>\n",
       "      <td>NaN</td>\n",
       "      <td>NaN</td>\n",
       "      <td>0.3285</td>\n",
       "      <td>98.5</td>\n",
       "      <td>NaN</td>\n",
       "      <td>NaN</td>\n",
       "      <td>0.99</td>\n",
       "      <td>NaN</td>\n",
       "      <td>NaN</td>\n",
       "      <td>69.15</td>\n",
       "      <td>NaN</td>\n",
       "      <td>NaN</td>\n",
       "      <td>NaN</td>\n",
       "      <td>NaN</td>\n",
       "      <td>407.5</td>\n",
       "      <td>NaN</td>\n",
       "      <td>5.00</td>\n",
       "      <td>10.90</td>\n",
       "      <td>134.5</td>\n",
       "      <td>NaN</td>\n",
       "      <td>NaN</td>\n",
       "      <td>23.0</td>\n",
       "      <td>0.006000</td>\n",
       "      <td>NaN</td>\n",
       "      <td>NaN</td>\n",
       "      <td>10.280</td>\n",
       "      <td>NaN</td>\n",
       "      <td>NaN</td>\n",
       "      <td>NaN</td>\n",
       "      <td>1.020</td>\n",
       "      <td>7.615</td>\n",
       "      <td>33.0</td>\n",
       "      <td>NaN</td>\n",
       "      <td>NaN</td>\n",
       "      <td>NaN</td>\n",
       "      <td>NaN</td>\n",
       "      <td>NaN</td>\n",
       "      <td>NaN</td>\n",
       "      <td>NaN</td>\n",
       "      <td>NaN</td>\n",
       "      <td>0</td>\n",
       "      <td>8.350000</td>\n",
       "    </tr>\n",
       "    <tr>\n",
       "      <th>11100374</th>\n",
       "      <td>46</td>\n",
       "      <td>1</td>\n",
       "      <td>NaN</td>\n",
       "      <td>NaN</td>\n",
       "      <td>11.0</td>\n",
       "      <td>2.47</td>\n",
       "      <td>NaN</td>\n",
       "      <td>23.5</td>\n",
       "      <td>NaN</td>\n",
       "      <td>1.0</td>\n",
       "      <td>NaN</td>\n",
       "      <td>NaN</td>\n",
       "      <td>NaN</td>\n",
       "      <td>NaN</td>\n",
       "      <td>7.0</td>\n",
       "      <td>0.4810</td>\n",
       "      <td>152.0</td>\n",
       "      <td>NaN</td>\n",
       "      <td>NaN</td>\n",
       "      <td>NaN</td>\n",
       "      <td>NaN</td>\n",
       "      <td>1.55</td>\n",
       "      <td>91.20</td>\n",
       "      <td>43.0</td>\n",
       "      <td>58.5</td>\n",
       "      <td>7.37</td>\n",
       "      <td>7.33</td>\n",
       "      <td>270.0</td>\n",
       "      <td>67.0</td>\n",
       "      <td>4.65</td>\n",
       "      <td>NaN</td>\n",
       "      <td>136.0</td>\n",
       "      <td>NaN</td>\n",
       "      <td>1.013</td>\n",
       "      <td>29.0</td>\n",
       "      <td>0.035667</td>\n",
       "      <td>NaN</td>\n",
       "      <td>232.0</td>\n",
       "      <td>14.190</td>\n",
       "      <td>NaN</td>\n",
       "      <td>NaN</td>\n",
       "      <td>NaN</td>\n",
       "      <td>1.015</td>\n",
       "      <td>12.075</td>\n",
       "      <td>41.0</td>\n",
       "      <td>NaN</td>\n",
       "      <td>NaN</td>\n",
       "      <td>NaN</td>\n",
       "      <td>NaN</td>\n",
       "      <td>NaN</td>\n",
       "      <td>NaN</td>\n",
       "      <td>NaN</td>\n",
       "      <td>NaN</td>\n",
       "      <td>0</td>\n",
       "      <td>24.250000</td>\n",
       "    </tr>\n",
       "  </tbody>\n",
       "</table>\n",
       "</div>"
      ],
      "text/plain": [
       "          age  sex  aptt  ketone  bilirubin  calcium  calcium, ionized  \\\n",
       "11100040   84    1  27.7     NaN        NaN     1.69               NaN   \n",
       "11100097   65    1   NaN     NaN        9.5     2.25               NaN   \n",
       "11100164   59    1  25.1     NaN        8.0     2.25               NaN   \n",
       "11100176   63    1  25.6     NaN        NaN     2.26               NaN   \n",
       "11100374   46    1   NaN     NaN       11.0     2.47               NaN   \n",
       "\n",
       "          creatinine  esr  serum alcohol  ferritin  fibrinogen  \\\n",
       "11100040       664.0  NaN            NaN       NaN         NaN   \n",
       "11100097        42.5  NaN            NaN       NaN         NaN   \n",
       "11100164        95.0  NaN            1.0       NaN        3.16   \n",
       "11100176       312.0  NaN            NaN       NaN         NaN   \n",
       "11100374        23.5  NaN            1.0       NaN         NaN   \n",
       "\n",
       "          glucose fasting  glucose point of care  glucose random  hematocrit  \\\n",
       "11100040              NaN                 12.675            13.2      0.2880   \n",
       "11100097              NaN                    NaN             9.4      0.4565   \n",
       "11100164              NaN                    NaN             6.5      0.4400   \n",
       "11100176              NaN                    NaN             NaN      0.3285   \n",
       "11100374              NaN                    NaN             7.0      0.4810   \n",
       "\n",
       "          hemoglobin  crp  influenza   inr  lactate arterial  lactate venous  \\\n",
       "11100040        95.5  NaN        NaN  1.14               NaN             NaN   \n",
       "11100097       146.5  NaN        NaN   NaN               NaN            2.30   \n",
       "11100164       145.5  NaN        NaN  0.96               NaN            1.20   \n",
       "11100176        98.5  NaN        NaN  0.99               NaN             NaN   \n",
       "11100374       152.0  NaN        NaN   NaN               NaN            1.55   \n",
       "\n",
       "          mean cell volume  arterial paco2  venous pco2  arterial ph  \\\n",
       "11100040            102.45             NaN          NaN          NaN   \n",
       "11100097             99.70             NaN         38.0          NaN   \n",
       "11100164             86.35             NaN         47.0          NaN   \n",
       "11100176             69.15             NaN          NaN          NaN   \n",
       "11100374             91.20            43.0         58.5         7.37   \n",
       "\n",
       "          venous ph  platelet count  arterial pao2  potassium     pt  sodium  \\\n",
       "11100040        NaN           112.5            NaN       3.70  12.65   131.5   \n",
       "11100097       7.45           274.5            NaN       4.85    NaN   130.5   \n",
       "11100164       7.35           224.0            NaN       4.10  10.70   134.5   \n",
       "11100176        NaN           407.5            NaN       5.00  10.90   134.5   \n",
       "11100374       7.33           270.0           67.0       4.65    NaN   136.0   \n",
       "\n",
       "          urine sodium  urine specific gravity  bicarbonate  troponin  \\\n",
       "11100040           NaN                     NaN         20.5       NaN   \n",
       "11100097           NaN                   1.015         23.0  0.006000   \n",
       "11100164           NaN                     NaN         24.5       NaN   \n",
       "11100176           NaN                     NaN         23.0  0.006000   \n",
       "11100374           NaN                   1.013         29.0  0.035667   \n",
       "\n",
       "          blood urea nitrogen  vitamin b12  white blood cell count  \\\n",
       "11100040                  NaN          NaN                   8.500   \n",
       "11100097                  NaN          NaN                  12.715   \n",
       "11100164                  NaN          NaN                   7.260   \n",
       "11100176                  NaN          NaN                  10.280   \n",
       "11100374                  NaN        232.0                  14.190   \n",
       "\n",
       "          high sensitivity troponin  vitamin d  hba1c  lymphocyte  \\\n",
       "11100040                        NaN        NaN    NaN       1.110   \n",
       "11100097                        NaN        NaN    NaN       1.630   \n",
       "11100164                        NaN        NaN  0.055       0.955   \n",
       "11100176                        NaN        NaN    NaN       1.020   \n",
       "11100374                        NaN        NaN    NaN       1.015   \n",
       "\n",
       "          neutrophils  albumin  Heart Rate  respiratory rate  Systolic BP  \\\n",
       "11100040        6.445     28.0         NaN               NaN          NaN   \n",
       "11100097        9.830     30.0         NaN               NaN          NaN   \n",
       "11100164        5.755     44.0         NaN               NaN          NaN   \n",
       "11100176        7.615     33.0         NaN               NaN          NaN   \n",
       "11100374       12.075     41.0         NaN               NaN          NaN   \n",
       "\n",
       "          Temperature  weight  CAM  Diastolic BP  fio2  mortality_in_hospital  \\\n",
       "11100040          NaN     NaN  NaN           NaN   NaN                      0   \n",
       "11100097          NaN     NaN  NaN           NaN   NaN                      0   \n",
       "11100164          NaN     NaN  NaN           NaN   NaN                      0   \n",
       "11100176          NaN     NaN  NaN           NaN   NaN                      0   \n",
       "11100374          NaN     NaN  NaN           NaN   NaN                      0   \n",
       "\n",
       "          length_of_stay_in_er  \n",
       "11100040             15.400000  \n",
       "11100097             16.816668  \n",
       "11100164              3.650000  \n",
       "11100176              8.350000  \n",
       "11100374             24.250000  "
      ]
     },
     "execution_count": 8,
     "metadata": {},
     "output_type": "execute_result"
    },
    {
     "data": {
      "application/javascript": [
       "\n",
       "            setTimeout(function() {\n",
       "                var nbb_cell_id = 8;\n",
       "                var nbb_unformatted_code = \"pd.set_option(\\\"display.max_columns\\\", None)\\nfeature_handler.features.head()\";\n",
       "                var nbb_formatted_code = \"pd.set_option(\\\"display.max_columns\\\", None)\\nfeature_handler.features.head()\";\n",
       "                var nbb_cells = Jupyter.notebook.get_cells();\n",
       "                for (var i = 0; i < nbb_cells.length; ++i) {\n",
       "                    if (nbb_cells[i].input_prompt_number == nbb_cell_id) {\n",
       "                        if (nbb_cells[i].get_text() == nbb_unformatted_code) {\n",
       "                             nbb_cells[i].set_text(nbb_formatted_code);\n",
       "                        }\n",
       "                        break;\n",
       "                    }\n",
       "                }\n",
       "            }, 500);\n",
       "            "
      ],
      "text/plain": [
       "<IPython.core.display.Javascript object>"
      ]
     },
     "metadata": {},
     "output_type": "display_data"
    }
   ],
   "source": [
    "pd.set_option(\"display.max_columns\", None)\n",
    "feature_handler.features.head()"
   ]
  },
  {
   "cell_type": "code",
   "execution_count": 10,
   "id": "third-chest",
   "metadata": {},
   "outputs": [
    {
     "data": {
      "text/html": [
       "<div>\n",
       "<style scoped>\n",
       "    .dataframe tbody tr th:only-of-type {\n",
       "        vertical-align: middle;\n",
       "    }\n",
       "\n",
       "    .dataframe tbody tr th {\n",
       "        vertical-align: top;\n",
       "    }\n",
       "\n",
       "    .dataframe thead th {\n",
       "        text-align: right;\n",
       "    }\n",
       "</style>\n",
       "<table border=\"1\" class=\"dataframe\">\n",
       "  <thead>\n",
       "    <tr style=\"text-align: right;\">\n",
       "      <th></th>\n",
       "      <th>age</th>\n",
       "      <th>sex</th>\n",
       "      <th>bilirubin</th>\n",
       "      <th>calcium</th>\n",
       "      <th>creatinine</th>\n",
       "      <th>glucose random</th>\n",
       "      <th>hematocrit</th>\n",
       "      <th>hemoglobin</th>\n",
       "      <th>mean cell volume</th>\n",
       "      <th>platelet count</th>\n",
       "      <th>potassium</th>\n",
       "      <th>sodium</th>\n",
       "      <th>bicarbonate</th>\n",
       "      <th>white blood cell count</th>\n",
       "      <th>lymphocyte</th>\n",
       "      <th>neutrophils</th>\n",
       "      <th>albumin</th>\n",
       "      <th>mortality_in_hospital</th>\n",
       "      <th>length_of_stay_in_er</th>\n",
       "      <th>Heart Rate_indicator</th>\n",
       "      <th>respiratory rate_indicator</th>\n",
       "      <th>Systolic BP_indicator</th>\n",
       "      <th>Temperature_indicator</th>\n",
       "      <th>weight_indicator</th>\n",
       "      <th>CAM_indicator</th>\n",
       "      <th>Diastolic BP_indicator</th>\n",
       "      <th>fio2_indicator</th>\n",
       "      <th>aptt_indicator</th>\n",
       "      <th>ketone_indicator</th>\n",
       "      <th>bilirubin_indicator</th>\n",
       "      <th>calcium_indicator</th>\n",
       "      <th>calcium, ionized_indicator</th>\n",
       "      <th>creatinine_indicator</th>\n",
       "      <th>esr_indicator</th>\n",
       "      <th>serum alcohol_indicator</th>\n",
       "      <th>ferritin_indicator</th>\n",
       "      <th>fibrinogen_indicator</th>\n",
       "      <th>glucose fasting_indicator</th>\n",
       "      <th>glucose point of care_indicator</th>\n",
       "      <th>glucose random_indicator</th>\n",
       "      <th>hematocrit_indicator</th>\n",
       "      <th>hemoglobin_indicator</th>\n",
       "      <th>crp_indicator</th>\n",
       "      <th>influenza_indicator</th>\n",
       "      <th>inr_indicator</th>\n",
       "      <th>lactate arterial_indicator</th>\n",
       "      <th>lactate venous_indicator</th>\n",
       "      <th>mean cell volume_indicator</th>\n",
       "      <th>arterial paco2_indicator</th>\n",
       "      <th>venous pco2_indicator</th>\n",
       "      <th>arterial ph_indicator</th>\n",
       "      <th>venous ph_indicator</th>\n",
       "      <th>platelet count_indicator</th>\n",
       "      <th>arterial pao2_indicator</th>\n",
       "      <th>potassium_indicator</th>\n",
       "      <th>pt_indicator</th>\n",
       "      <th>sodium_indicator</th>\n",
       "      <th>urine sodium_indicator</th>\n",
       "      <th>urine specific gravity_indicator</th>\n",
       "      <th>bicarbonate_indicator</th>\n",
       "      <th>troponin_indicator</th>\n",
       "      <th>blood urea nitrogen_indicator</th>\n",
       "      <th>vitamin b12_indicator</th>\n",
       "      <th>white blood cell count_indicator</th>\n",
       "      <th>high sensitivity troponin_indicator</th>\n",
       "      <th>vitamin d_indicator</th>\n",
       "      <th>hba1c_indicator</th>\n",
       "      <th>lymphocyte_indicator</th>\n",
       "      <th>neutrophils_indicator</th>\n",
       "      <th>albumin_indicator</th>\n",
       "    </tr>\n",
       "  </thead>\n",
       "  <tbody>\n",
       "    <tr>\n",
       "      <th>11100097</th>\n",
       "      <td>65</td>\n",
       "      <td>1</td>\n",
       "      <td>9.5</td>\n",
       "      <td>2.25</td>\n",
       "      <td>42.5</td>\n",
       "      <td>9.4</td>\n",
       "      <td>0.4565</td>\n",
       "      <td>146.5</td>\n",
       "      <td>99.70</td>\n",
       "      <td>274.5</td>\n",
       "      <td>4.85</td>\n",
       "      <td>130.5</td>\n",
       "      <td>23.0</td>\n",
       "      <td>12.715</td>\n",
       "      <td>1.630</td>\n",
       "      <td>9.830</td>\n",
       "      <td>30.0</td>\n",
       "      <td>0</td>\n",
       "      <td>16.816668</td>\n",
       "      <td>1</td>\n",
       "      <td>1</td>\n",
       "      <td>1</td>\n",
       "      <td>1</td>\n",
       "      <td>1</td>\n",
       "      <td>1</td>\n",
       "      <td>1</td>\n",
       "      <td>1</td>\n",
       "      <td>1</td>\n",
       "      <td>1</td>\n",
       "      <td>0</td>\n",
       "      <td>0</td>\n",
       "      <td>1</td>\n",
       "      <td>0</td>\n",
       "      <td>1</td>\n",
       "      <td>1</td>\n",
       "      <td>1</td>\n",
       "      <td>1</td>\n",
       "      <td>1</td>\n",
       "      <td>1</td>\n",
       "      <td>0</td>\n",
       "      <td>0</td>\n",
       "      <td>0</td>\n",
       "      <td>1</td>\n",
       "      <td>1</td>\n",
       "      <td>1</td>\n",
       "      <td>1</td>\n",
       "      <td>0</td>\n",
       "      <td>0</td>\n",
       "      <td>1</td>\n",
       "      <td>0</td>\n",
       "      <td>1</td>\n",
       "      <td>0</td>\n",
       "      <td>0</td>\n",
       "      <td>1</td>\n",
       "      <td>0</td>\n",
       "      <td>1</td>\n",
       "      <td>0</td>\n",
       "      <td>1</td>\n",
       "      <td>0</td>\n",
       "      <td>0</td>\n",
       "      <td>0</td>\n",
       "      <td>1</td>\n",
       "      <td>1</td>\n",
       "      <td>0</td>\n",
       "      <td>1</td>\n",
       "      <td>1</td>\n",
       "      <td>1</td>\n",
       "      <td>0</td>\n",
       "      <td>0</td>\n",
       "      <td>0</td>\n",
       "    </tr>\n",
       "    <tr>\n",
       "      <th>11100164</th>\n",
       "      <td>59</td>\n",
       "      <td>1</td>\n",
       "      <td>8.0</td>\n",
       "      <td>2.25</td>\n",
       "      <td>95.0</td>\n",
       "      <td>6.5</td>\n",
       "      <td>0.4400</td>\n",
       "      <td>145.5</td>\n",
       "      <td>86.35</td>\n",
       "      <td>224.0</td>\n",
       "      <td>4.10</td>\n",
       "      <td>134.5</td>\n",
       "      <td>24.5</td>\n",
       "      <td>7.260</td>\n",
       "      <td>0.955</td>\n",
       "      <td>5.755</td>\n",
       "      <td>44.0</td>\n",
       "      <td>0</td>\n",
       "      <td>3.650000</td>\n",
       "      <td>1</td>\n",
       "      <td>1</td>\n",
       "      <td>1</td>\n",
       "      <td>1</td>\n",
       "      <td>1</td>\n",
       "      <td>1</td>\n",
       "      <td>1</td>\n",
       "      <td>1</td>\n",
       "      <td>0</td>\n",
       "      <td>1</td>\n",
       "      <td>0</td>\n",
       "      <td>0</td>\n",
       "      <td>1</td>\n",
       "      <td>0</td>\n",
       "      <td>1</td>\n",
       "      <td>0</td>\n",
       "      <td>1</td>\n",
       "      <td>0</td>\n",
       "      <td>1</td>\n",
       "      <td>1</td>\n",
       "      <td>0</td>\n",
       "      <td>0</td>\n",
       "      <td>0</td>\n",
       "      <td>1</td>\n",
       "      <td>1</td>\n",
       "      <td>0</td>\n",
       "      <td>1</td>\n",
       "      <td>0</td>\n",
       "      <td>0</td>\n",
       "      <td>1</td>\n",
       "      <td>0</td>\n",
       "      <td>1</td>\n",
       "      <td>0</td>\n",
       "      <td>0</td>\n",
       "      <td>1</td>\n",
       "      <td>0</td>\n",
       "      <td>0</td>\n",
       "      <td>0</td>\n",
       "      <td>1</td>\n",
       "      <td>1</td>\n",
       "      <td>0</td>\n",
       "      <td>1</td>\n",
       "      <td>1</td>\n",
       "      <td>1</td>\n",
       "      <td>0</td>\n",
       "      <td>1</td>\n",
       "      <td>1</td>\n",
       "      <td>0</td>\n",
       "      <td>0</td>\n",
       "      <td>0</td>\n",
       "      <td>0</td>\n",
       "    </tr>\n",
       "    <tr>\n",
       "      <th>11100374</th>\n",
       "      <td>46</td>\n",
       "      <td>1</td>\n",
       "      <td>11.0</td>\n",
       "      <td>2.47</td>\n",
       "      <td>23.5</td>\n",
       "      <td>7.0</td>\n",
       "      <td>0.4810</td>\n",
       "      <td>152.0</td>\n",
       "      <td>91.20</td>\n",
       "      <td>270.0</td>\n",
       "      <td>4.65</td>\n",
       "      <td>136.0</td>\n",
       "      <td>29.0</td>\n",
       "      <td>14.190</td>\n",
       "      <td>1.015</td>\n",
       "      <td>12.075</td>\n",
       "      <td>41.0</td>\n",
       "      <td>0</td>\n",
       "      <td>24.250000</td>\n",
       "      <td>1</td>\n",
       "      <td>1</td>\n",
       "      <td>1</td>\n",
       "      <td>1</td>\n",
       "      <td>1</td>\n",
       "      <td>1</td>\n",
       "      <td>1</td>\n",
       "      <td>1</td>\n",
       "      <td>1</td>\n",
       "      <td>1</td>\n",
       "      <td>0</td>\n",
       "      <td>0</td>\n",
       "      <td>1</td>\n",
       "      <td>0</td>\n",
       "      <td>1</td>\n",
       "      <td>0</td>\n",
       "      <td>1</td>\n",
       "      <td>1</td>\n",
       "      <td>1</td>\n",
       "      <td>1</td>\n",
       "      <td>0</td>\n",
       "      <td>0</td>\n",
       "      <td>0</td>\n",
       "      <td>1</td>\n",
       "      <td>1</td>\n",
       "      <td>1</td>\n",
       "      <td>1</td>\n",
       "      <td>0</td>\n",
       "      <td>0</td>\n",
       "      <td>0</td>\n",
       "      <td>0</td>\n",
       "      <td>0</td>\n",
       "      <td>0</td>\n",
       "      <td>0</td>\n",
       "      <td>0</td>\n",
       "      <td>0</td>\n",
       "      <td>1</td>\n",
       "      <td>0</td>\n",
       "      <td>1</td>\n",
       "      <td>0</td>\n",
       "      <td>0</td>\n",
       "      <td>0</td>\n",
       "      <td>1</td>\n",
       "      <td>0</td>\n",
       "      <td>0</td>\n",
       "      <td>1</td>\n",
       "      <td>1</td>\n",
       "      <td>1</td>\n",
       "      <td>0</td>\n",
       "      <td>0</td>\n",
       "      <td>0</td>\n",
       "    </tr>\n",
       "    <tr>\n",
       "      <th>11100375</th>\n",
       "      <td>28</td>\n",
       "      <td>1</td>\n",
       "      <td>10.5</td>\n",
       "      <td>2.40</td>\n",
       "      <td>606.5</td>\n",
       "      <td>5.6</td>\n",
       "      <td>0.3455</td>\n",
       "      <td>106.5</td>\n",
       "      <td>124.10</td>\n",
       "      <td>55.5</td>\n",
       "      <td>4.00</td>\n",
       "      <td>139.0</td>\n",
       "      <td>27.5</td>\n",
       "      <td>7.645</td>\n",
       "      <td>1.955</td>\n",
       "      <td>4.470</td>\n",
       "      <td>43.5</td>\n",
       "      <td>0</td>\n",
       "      <td>13.366667</td>\n",
       "      <td>0</td>\n",
       "      <td>0</td>\n",
       "      <td>0</td>\n",
       "      <td>0</td>\n",
       "      <td>1</td>\n",
       "      <td>1</td>\n",
       "      <td>0</td>\n",
       "      <td>1</td>\n",
       "      <td>0</td>\n",
       "      <td>1</td>\n",
       "      <td>0</td>\n",
       "      <td>0</td>\n",
       "      <td>1</td>\n",
       "      <td>0</td>\n",
       "      <td>1</td>\n",
       "      <td>1</td>\n",
       "      <td>1</td>\n",
       "      <td>1</td>\n",
       "      <td>1</td>\n",
       "      <td>1</td>\n",
       "      <td>0</td>\n",
       "      <td>0</td>\n",
       "      <td>0</td>\n",
       "      <td>0</td>\n",
       "      <td>1</td>\n",
       "      <td>0</td>\n",
       "      <td>1</td>\n",
       "      <td>0</td>\n",
       "      <td>0</td>\n",
       "      <td>1</td>\n",
       "      <td>0</td>\n",
       "      <td>1</td>\n",
       "      <td>0</td>\n",
       "      <td>0</td>\n",
       "      <td>1</td>\n",
       "      <td>0</td>\n",
       "      <td>0</td>\n",
       "      <td>0</td>\n",
       "      <td>1</td>\n",
       "      <td>1</td>\n",
       "      <td>0</td>\n",
       "      <td>0</td>\n",
       "      <td>0</td>\n",
       "      <td>1</td>\n",
       "      <td>0</td>\n",
       "      <td>1</td>\n",
       "      <td>1</td>\n",
       "      <td>1</td>\n",
       "      <td>0</td>\n",
       "      <td>0</td>\n",
       "      <td>0</td>\n",
       "    </tr>\n",
       "    <tr>\n",
       "      <th>11100740</th>\n",
       "      <td>63</td>\n",
       "      <td>1</td>\n",
       "      <td>7.0</td>\n",
       "      <td>1.89</td>\n",
       "      <td>127.5</td>\n",
       "      <td>5.0</td>\n",
       "      <td>0.2545</td>\n",
       "      <td>77.5</td>\n",
       "      <td>99.60</td>\n",
       "      <td>276.0</td>\n",
       "      <td>3.65</td>\n",
       "      <td>137.0</td>\n",
       "      <td>24.0</td>\n",
       "      <td>10.330</td>\n",
       "      <td>1.050</td>\n",
       "      <td>8.460</td>\n",
       "      <td>21.0</td>\n",
       "      <td>0</td>\n",
       "      <td>33.966667</td>\n",
       "      <td>1</td>\n",
       "      <td>1</td>\n",
       "      <td>1</td>\n",
       "      <td>1</td>\n",
       "      <td>1</td>\n",
       "      <td>1</td>\n",
       "      <td>1</td>\n",
       "      <td>1</td>\n",
       "      <td>1</td>\n",
       "      <td>1</td>\n",
       "      <td>0</td>\n",
       "      <td>0</td>\n",
       "      <td>1</td>\n",
       "      <td>0</td>\n",
       "      <td>1</td>\n",
       "      <td>1</td>\n",
       "      <td>1</td>\n",
       "      <td>1</td>\n",
       "      <td>1</td>\n",
       "      <td>1</td>\n",
       "      <td>0</td>\n",
       "      <td>0</td>\n",
       "      <td>0</td>\n",
       "      <td>1</td>\n",
       "      <td>1</td>\n",
       "      <td>1</td>\n",
       "      <td>1</td>\n",
       "      <td>0</td>\n",
       "      <td>0</td>\n",
       "      <td>1</td>\n",
       "      <td>0</td>\n",
       "      <td>1</td>\n",
       "      <td>0</td>\n",
       "      <td>0</td>\n",
       "      <td>1</td>\n",
       "      <td>0</td>\n",
       "      <td>1</td>\n",
       "      <td>0</td>\n",
       "      <td>1</td>\n",
       "      <td>1</td>\n",
       "      <td>0</td>\n",
       "      <td>0</td>\n",
       "      <td>0</td>\n",
       "      <td>1</td>\n",
       "      <td>0</td>\n",
       "      <td>1</td>\n",
       "      <td>1</td>\n",
       "      <td>1</td>\n",
       "      <td>0</td>\n",
       "      <td>0</td>\n",
       "      <td>0</td>\n",
       "    </tr>\n",
       "  </tbody>\n",
       "</table>\n",
       "</div>"
      ],
      "text/plain": [
       "          age  sex  bilirubin  calcium  creatinine  glucose random  \\\n",
       "11100097   65    1        9.5     2.25        42.5             9.4   \n",
       "11100164   59    1        8.0     2.25        95.0             6.5   \n",
       "11100374   46    1       11.0     2.47        23.5             7.0   \n",
       "11100375   28    1       10.5     2.40       606.5             5.6   \n",
       "11100740   63    1        7.0     1.89       127.5             5.0   \n",
       "\n",
       "          hematocrit  hemoglobin  mean cell volume  platelet count  potassium  \\\n",
       "11100097      0.4565       146.5             99.70           274.5       4.85   \n",
       "11100164      0.4400       145.5             86.35           224.0       4.10   \n",
       "11100374      0.4810       152.0             91.20           270.0       4.65   \n",
       "11100375      0.3455       106.5            124.10            55.5       4.00   \n",
       "11100740      0.2545        77.5             99.60           276.0       3.65   \n",
       "\n",
       "          sodium  bicarbonate  white blood cell count  lymphocyte  \\\n",
       "11100097   130.5         23.0                  12.715       1.630   \n",
       "11100164   134.5         24.5                   7.260       0.955   \n",
       "11100374   136.0         29.0                  14.190       1.015   \n",
       "11100375   139.0         27.5                   7.645       1.955   \n",
       "11100740   137.0         24.0                  10.330       1.050   \n",
       "\n",
       "          neutrophils  albumin  mortality_in_hospital  length_of_stay_in_er  \\\n",
       "11100097        9.830     30.0                      0             16.816668   \n",
       "11100164        5.755     44.0                      0              3.650000   \n",
       "11100374       12.075     41.0                      0             24.250000   \n",
       "11100375        4.470     43.5                      0             13.366667   \n",
       "11100740        8.460     21.0                      0             33.966667   \n",
       "\n",
       "          Heart Rate_indicator  respiratory rate_indicator  \\\n",
       "11100097                     1                           1   \n",
       "11100164                     1                           1   \n",
       "11100374                     1                           1   \n",
       "11100375                     0                           0   \n",
       "11100740                     1                           1   \n",
       "\n",
       "          Systolic BP_indicator  Temperature_indicator  weight_indicator  \\\n",
       "11100097                      1                      1                 1   \n",
       "11100164                      1                      1                 1   \n",
       "11100374                      1                      1                 1   \n",
       "11100375                      0                      0                 1   \n",
       "11100740                      1                      1                 1   \n",
       "\n",
       "          CAM_indicator  Diastolic BP_indicator  fio2_indicator  \\\n",
       "11100097              1                       1               1   \n",
       "11100164              1                       1               1   \n",
       "11100374              1                       1               1   \n",
       "11100375              1                       0               1   \n",
       "11100740              1                       1               1   \n",
       "\n",
       "          aptt_indicator  ketone_indicator  bilirubin_indicator  \\\n",
       "11100097               1                 1                    0   \n",
       "11100164               0                 1                    0   \n",
       "11100374               1                 1                    0   \n",
       "11100375               0                 1                    0   \n",
       "11100740               1                 1                    0   \n",
       "\n",
       "          calcium_indicator  calcium, ionized_indicator  creatinine_indicator  \\\n",
       "11100097                  0                           1                     0   \n",
       "11100164                  0                           1                     0   \n",
       "11100374                  0                           1                     0   \n",
       "11100375                  0                           1                     0   \n",
       "11100740                  0                           1                     0   \n",
       "\n",
       "          esr_indicator  serum alcohol_indicator  ferritin_indicator  \\\n",
       "11100097              1                        1                   1   \n",
       "11100164              1                        0                   1   \n",
       "11100374              1                        0                   1   \n",
       "11100375              1                        1                   1   \n",
       "11100740              1                        1                   1   \n",
       "\n",
       "          fibrinogen_indicator  glucose fasting_indicator  \\\n",
       "11100097                     1                          1   \n",
       "11100164                     0                          1   \n",
       "11100374                     1                          1   \n",
       "11100375                     1                          1   \n",
       "11100740                     1                          1   \n",
       "\n",
       "          glucose point of care_indicator  glucose random_indicator  \\\n",
       "11100097                                1                         0   \n",
       "11100164                                1                         0   \n",
       "11100374                                1                         0   \n",
       "11100375                                1                         0   \n",
       "11100740                                1                         0   \n",
       "\n",
       "          hematocrit_indicator  hemoglobin_indicator  crp_indicator  \\\n",
       "11100097                     0                     0              1   \n",
       "11100164                     0                     0              1   \n",
       "11100374                     0                     0              1   \n",
       "11100375                     0                     0              0   \n",
       "11100740                     0                     0              1   \n",
       "\n",
       "          influenza_indicator  inr_indicator  lactate arterial_indicator  \\\n",
       "11100097                    1              1                           1   \n",
       "11100164                    1              0                           1   \n",
       "11100374                    1              1                           1   \n",
       "11100375                    1              0                           1   \n",
       "11100740                    1              1                           1   \n",
       "\n",
       "          lactate venous_indicator  mean cell volume_indicator  \\\n",
       "11100097                         0                           0   \n",
       "11100164                         0                           0   \n",
       "11100374                         0                           0   \n",
       "11100375                         0                           0   \n",
       "11100740                         0                           0   \n",
       "\n",
       "          arterial paco2_indicator  venous pco2_indicator  \\\n",
       "11100097                         1                      0   \n",
       "11100164                         1                      0   \n",
       "11100374                         0                      0   \n",
       "11100375                         1                      0   \n",
       "11100740                         1                      0   \n",
       "\n",
       "          arterial ph_indicator  venous ph_indicator  \\\n",
       "11100097                      1                    0   \n",
       "11100164                      1                    0   \n",
       "11100374                      0                    0   \n",
       "11100375                      1                    0   \n",
       "11100740                      1                    0   \n",
       "\n",
       "          platelet count_indicator  arterial pao2_indicator  \\\n",
       "11100097                         0                        1   \n",
       "11100164                         0                        1   \n",
       "11100374                         0                        0   \n",
       "11100375                         0                        1   \n",
       "11100740                         0                        1   \n",
       "\n",
       "          potassium_indicator  pt_indicator  sodium_indicator  \\\n",
       "11100097                    0             1                 0   \n",
       "11100164                    0             0                 0   \n",
       "11100374                    0             1                 0   \n",
       "11100375                    0             0                 0   \n",
       "11100740                    0             1                 0   \n",
       "\n",
       "          urine sodium_indicator  urine specific gravity_indicator  \\\n",
       "11100097                       1                                 0   \n",
       "11100164                       1                                 1   \n",
       "11100374                       1                                 0   \n",
       "11100375                       1                                 1   \n",
       "11100740                       1                                 1   \n",
       "\n",
       "          bicarbonate_indicator  troponin_indicator  \\\n",
       "11100097                      0                   0   \n",
       "11100164                      0                   1   \n",
       "11100374                      0                   0   \n",
       "11100375                      0                   0   \n",
       "11100740                      0                   0   \n",
       "\n",
       "          blood urea nitrogen_indicator  vitamin b12_indicator  \\\n",
       "11100097                              1                      1   \n",
       "11100164                              1                      1   \n",
       "11100374                              1                      0   \n",
       "11100375                              0                      1   \n",
       "11100740                              0                      1   \n",
       "\n",
       "          white blood cell count_indicator  \\\n",
       "11100097                                 0   \n",
       "11100164                                 0   \n",
       "11100374                                 0   \n",
       "11100375                                 0   \n",
       "11100740                                 0   \n",
       "\n",
       "          high sensitivity troponin_indicator  vitamin d_indicator  \\\n",
       "11100097                                    1                    1   \n",
       "11100164                                    1                    1   \n",
       "11100374                                    1                    1   \n",
       "11100375                                    1                    1   \n",
       "11100740                                    1                    1   \n",
       "\n",
       "          hba1c_indicator  lymphocyte_indicator  neutrophils_indicator  \\\n",
       "11100097                1                     0                      0   \n",
       "11100164                0                     0                      0   \n",
       "11100374                1                     0                      0   \n",
       "11100375                1                     0                      0   \n",
       "11100740                1                     0                      0   \n",
       "\n",
       "          albumin_indicator  \n",
       "11100097                  0  \n",
       "11100164                  0  \n",
       "11100374                  0  \n",
       "11100375                  0  \n",
       "11100740                  0  "
      ]
     },
     "execution_count": 10,
     "metadata": {},
     "output_type": "execute_result"
    },
    {
     "data": {
      "application/javascript": [
       "\n",
       "            setTimeout(function() {\n",
       "                var nbb_cell_id = 10;\n",
       "                var nbb_unformatted_code = \"x = feature_handler.features\\nx_ind = (\\n    x[list(vitals_features.columns.values) + list(labs_features.columns.values)]\\n    .isnull()\\n    .astype(int)\\n    .add_suffix(\\\"_indicator\\\")\\n)\\nX = pd.concat([x, x_ind], axis=1)\\nfeat = feature_handler.features.isnull().sum(axis=0).sort_values(ascending=False)\\nfeat_remov = feat[feat > 5000].index\\nX = X.drop(feat_remov, axis=1)\\nX = X.dropna()\\nX = X.fillna(X.mean())\\nX.head()\";\n",
       "                var nbb_formatted_code = \"x = feature_handler.features\\nx_ind = (\\n    x[list(vitals_features.columns.values) + list(labs_features.columns.values)]\\n    .isnull()\\n    .astype(int)\\n    .add_suffix(\\\"_indicator\\\")\\n)\\nX = pd.concat([x, x_ind], axis=1)\\nfeat = feature_handler.features.isnull().sum(axis=0).sort_values(ascending=False)\\nfeat_remov = feat[feat > 5000].index\\nX = X.drop(feat_remov, axis=1)\\nX = X.dropna()\\nX = X.fillna(X.mean())\\nX.head()\";\n",
       "                var nbb_cells = Jupyter.notebook.get_cells();\n",
       "                for (var i = 0; i < nbb_cells.length; ++i) {\n",
       "                    if (nbb_cells[i].input_prompt_number == nbb_cell_id) {\n",
       "                        if (nbb_cells[i].get_text() == nbb_unformatted_code) {\n",
       "                             nbb_cells[i].set_text(nbb_formatted_code);\n",
       "                        }\n",
       "                        break;\n",
       "                    }\n",
       "                }\n",
       "            }, 500);\n",
       "            "
      ],
      "text/plain": [
       "<IPython.core.display.Javascript object>"
      ]
     },
     "metadata": {},
     "output_type": "display_data"
    }
   ],
   "source": [
    "x = feature_handler.features\n",
    "x_ind = (\n",
    "    x[list(vitals_features.columns.values) + list(labs_features.columns.values)]\n",
    "    .isnull()\n",
    "    .astype(int)\n",
    "    .add_suffix(\"_indicator\")\n",
    ")\n",
    "X = pd.concat([x, x_ind], axis=1)\n",
    "feat = feature_handler.features.isnull().sum(axis=0).sort_values(ascending=False)\n",
    "feat_remov = feat[feat > 5000].index\n",
    "X = X.drop(feat_remov, axis=1)\n",
    "X = X.dropna()\n",
    "X = X.fillna(X.mean())\n",
    "X.head()"
   ]
  },
  {
   "cell_type": "code",
   "execution_count": 11,
   "id": "consolidated-microphone",
   "metadata": {},
   "outputs": [
    {
     "data": {
      "text/html": [
       "<div>\n",
       "<style scoped>\n",
       "    .dataframe tbody tr th:only-of-type {\n",
       "        vertical-align: middle;\n",
       "    }\n",
       "\n",
       "    .dataframe tbody tr th {\n",
       "        vertical-align: top;\n",
       "    }\n",
       "\n",
       "    .dataframe thead th {\n",
       "        text-align: right;\n",
       "    }\n",
       "</style>\n",
       "<table border=\"1\" class=\"dataframe\">\n",
       "  <thead>\n",
       "    <tr style=\"text-align: right;\">\n",
       "      <th></th>\n",
       "      <th>age</th>\n",
       "      <th>sex</th>\n",
       "      <th>bilirubin</th>\n",
       "      <th>calcium</th>\n",
       "      <th>creatinine</th>\n",
       "      <th>glucose random</th>\n",
       "      <th>hematocrit</th>\n",
       "      <th>hemoglobin</th>\n",
       "      <th>mean cell volume</th>\n",
       "      <th>platelet count</th>\n",
       "      <th>potassium</th>\n",
       "      <th>sodium</th>\n",
       "      <th>bicarbonate</th>\n",
       "      <th>white blood cell count</th>\n",
       "      <th>lymphocyte</th>\n",
       "      <th>neutrophils</th>\n",
       "      <th>albumin</th>\n",
       "      <th>Heart Rate_indicator</th>\n",
       "      <th>respiratory rate_indicator</th>\n",
       "      <th>Systolic BP_indicator</th>\n",
       "      <th>Temperature_indicator</th>\n",
       "      <th>weight_indicator</th>\n",
       "      <th>CAM_indicator</th>\n",
       "      <th>Diastolic BP_indicator</th>\n",
       "      <th>fio2_indicator</th>\n",
       "      <th>aptt_indicator</th>\n",
       "      <th>ketone_indicator</th>\n",
       "      <th>bilirubin_indicator</th>\n",
       "      <th>calcium_indicator</th>\n",
       "      <th>calcium, ionized_indicator</th>\n",
       "      <th>creatinine_indicator</th>\n",
       "      <th>esr_indicator</th>\n",
       "      <th>serum alcohol_indicator</th>\n",
       "      <th>ferritin_indicator</th>\n",
       "      <th>fibrinogen_indicator</th>\n",
       "      <th>glucose fasting_indicator</th>\n",
       "      <th>glucose point of care_indicator</th>\n",
       "      <th>glucose random_indicator</th>\n",
       "      <th>hematocrit_indicator</th>\n",
       "      <th>hemoglobin_indicator</th>\n",
       "      <th>crp_indicator</th>\n",
       "      <th>influenza_indicator</th>\n",
       "      <th>inr_indicator</th>\n",
       "      <th>lactate arterial_indicator</th>\n",
       "      <th>lactate venous_indicator</th>\n",
       "      <th>mean cell volume_indicator</th>\n",
       "      <th>arterial paco2_indicator</th>\n",
       "      <th>venous pco2_indicator</th>\n",
       "      <th>arterial ph_indicator</th>\n",
       "      <th>venous ph_indicator</th>\n",
       "      <th>platelet count_indicator</th>\n",
       "      <th>arterial pao2_indicator</th>\n",
       "      <th>potassium_indicator</th>\n",
       "      <th>pt_indicator</th>\n",
       "      <th>sodium_indicator</th>\n",
       "      <th>urine sodium_indicator</th>\n",
       "      <th>urine specific gravity_indicator</th>\n",
       "      <th>bicarbonate_indicator</th>\n",
       "      <th>troponin_indicator</th>\n",
       "      <th>blood urea nitrogen_indicator</th>\n",
       "      <th>vitamin b12_indicator</th>\n",
       "      <th>white blood cell count_indicator</th>\n",
       "      <th>high sensitivity troponin_indicator</th>\n",
       "      <th>vitamin d_indicator</th>\n",
       "      <th>hba1c_indicator</th>\n",
       "      <th>lymphocyte_indicator</th>\n",
       "      <th>neutrophils_indicator</th>\n",
       "      <th>albumin_indicator</th>\n",
       "    </tr>\n",
       "  </thead>\n",
       "  <tbody>\n",
       "    <tr>\n",
       "      <th>11101884</th>\n",
       "      <td>54</td>\n",
       "      <td>1</td>\n",
       "      <td>17.5</td>\n",
       "      <td>2.30</td>\n",
       "      <td>55.0</td>\n",
       "      <td>6.766667</td>\n",
       "      <td>0.479333</td>\n",
       "      <td>172.666667</td>\n",
       "      <td>92.300000</td>\n",
       "      <td>145.333333</td>\n",
       "      <td>3.366667</td>\n",
       "      <td>132.333333</td>\n",
       "      <td>22.333333</td>\n",
       "      <td>13.030000</td>\n",
       "      <td>1.006667</td>\n",
       "      <td>10.780000</td>\n",
       "      <td>37.0</td>\n",
       "      <td>0</td>\n",
       "      <td>0</td>\n",
       "      <td>0</td>\n",
       "      <td>0</td>\n",
       "      <td>1</td>\n",
       "      <td>1</td>\n",
       "      <td>0</td>\n",
       "      <td>1</td>\n",
       "      <td>1</td>\n",
       "      <td>1</td>\n",
       "      <td>0</td>\n",
       "      <td>0</td>\n",
       "      <td>1</td>\n",
       "      <td>0</td>\n",
       "      <td>1</td>\n",
       "      <td>0</td>\n",
       "      <td>1</td>\n",
       "      <td>1</td>\n",
       "      <td>1</td>\n",
       "      <td>1</td>\n",
       "      <td>0</td>\n",
       "      <td>0</td>\n",
       "      <td>0</td>\n",
       "      <td>0</td>\n",
       "      <td>1</td>\n",
       "      <td>1</td>\n",
       "      <td>1</td>\n",
       "      <td>0</td>\n",
       "      <td>0</td>\n",
       "      <td>1</td>\n",
       "      <td>0</td>\n",
       "      <td>1</td>\n",
       "      <td>0</td>\n",
       "      <td>0</td>\n",
       "      <td>1</td>\n",
       "      <td>0</td>\n",
       "      <td>1</td>\n",
       "      <td>0</td>\n",
       "      <td>1</td>\n",
       "      <td>1</td>\n",
       "      <td>0</td>\n",
       "      <td>1</td>\n",
       "      <td>1</td>\n",
       "      <td>1</td>\n",
       "      <td>0</td>\n",
       "      <td>0</td>\n",
       "      <td>1</td>\n",
       "      <td>1</td>\n",
       "      <td>0</td>\n",
       "      <td>0</td>\n",
       "      <td>0</td>\n",
       "    </tr>\n",
       "    <tr>\n",
       "      <th>11103929</th>\n",
       "      <td>62</td>\n",
       "      <td>1</td>\n",
       "      <td>17.5</td>\n",
       "      <td>2.38</td>\n",
       "      <td>78.5</td>\n",
       "      <td>7.250000</td>\n",
       "      <td>0.432000</td>\n",
       "      <td>154.000000</td>\n",
       "      <td>86.250000</td>\n",
       "      <td>211.000000</td>\n",
       "      <td>3.250000</td>\n",
       "      <td>132.000000</td>\n",
       "      <td>25.000000</td>\n",
       "      <td>15.135000</td>\n",
       "      <td>0.495000</td>\n",
       "      <td>13.765000</td>\n",
       "      <td>44.0</td>\n",
       "      <td>0</td>\n",
       "      <td>0</td>\n",
       "      <td>0</td>\n",
       "      <td>0</td>\n",
       "      <td>1</td>\n",
       "      <td>0</td>\n",
       "      <td>0</td>\n",
       "      <td>1</td>\n",
       "      <td>1</td>\n",
       "      <td>0</td>\n",
       "      <td>0</td>\n",
       "      <td>0</td>\n",
       "      <td>1</td>\n",
       "      <td>0</td>\n",
       "      <td>1</td>\n",
       "      <td>0</td>\n",
       "      <td>1</td>\n",
       "      <td>1</td>\n",
       "      <td>1</td>\n",
       "      <td>1</td>\n",
       "      <td>0</td>\n",
       "      <td>0</td>\n",
       "      <td>0</td>\n",
       "      <td>1</td>\n",
       "      <td>1</td>\n",
       "      <td>1</td>\n",
       "      <td>1</td>\n",
       "      <td>0</td>\n",
       "      <td>0</td>\n",
       "      <td>1</td>\n",
       "      <td>0</td>\n",
       "      <td>1</td>\n",
       "      <td>0</td>\n",
       "      <td>0</td>\n",
       "      <td>1</td>\n",
       "      <td>0</td>\n",
       "      <td>1</td>\n",
       "      <td>0</td>\n",
       "      <td>1</td>\n",
       "      <td>0</td>\n",
       "      <td>0</td>\n",
       "      <td>1</td>\n",
       "      <td>1</td>\n",
       "      <td>0</td>\n",
       "      <td>0</td>\n",
       "      <td>0</td>\n",
       "      <td>1</td>\n",
       "      <td>1</td>\n",
       "      <td>0</td>\n",
       "      <td>0</td>\n",
       "      <td>0</td>\n",
       "    </tr>\n",
       "    <tr>\n",
       "      <th>11104009</th>\n",
       "      <td>57</td>\n",
       "      <td>1</td>\n",
       "      <td>12.0</td>\n",
       "      <td>2.23</td>\n",
       "      <td>65.0</td>\n",
       "      <td>4.300000</td>\n",
       "      <td>0.411000</td>\n",
       "      <td>143.000000</td>\n",
       "      <td>93.950000</td>\n",
       "      <td>158.500000</td>\n",
       "      <td>3.900000</td>\n",
       "      <td>136.500000</td>\n",
       "      <td>26.500000</td>\n",
       "      <td>7.010000</td>\n",
       "      <td>1.255000</td>\n",
       "      <td>4.975000</td>\n",
       "      <td>39.0</td>\n",
       "      <td>0</td>\n",
       "      <td>0</td>\n",
       "      <td>0</td>\n",
       "      <td>0</td>\n",
       "      <td>0</td>\n",
       "      <td>0</td>\n",
       "      <td>0</td>\n",
       "      <td>1</td>\n",
       "      <td>1</td>\n",
       "      <td>1</td>\n",
       "      <td>0</td>\n",
       "      <td>0</td>\n",
       "      <td>1</td>\n",
       "      <td>0</td>\n",
       "      <td>1</td>\n",
       "      <td>0</td>\n",
       "      <td>1</td>\n",
       "      <td>1</td>\n",
       "      <td>1</td>\n",
       "      <td>1</td>\n",
       "      <td>0</td>\n",
       "      <td>0</td>\n",
       "      <td>0</td>\n",
       "      <td>1</td>\n",
       "      <td>1</td>\n",
       "      <td>0</td>\n",
       "      <td>1</td>\n",
       "      <td>0</td>\n",
       "      <td>0</td>\n",
       "      <td>1</td>\n",
       "      <td>0</td>\n",
       "      <td>1</td>\n",
       "      <td>0</td>\n",
       "      <td>0</td>\n",
       "      <td>1</td>\n",
       "      <td>0</td>\n",
       "      <td>0</td>\n",
       "      <td>0</td>\n",
       "      <td>1</td>\n",
       "      <td>1</td>\n",
       "      <td>0</td>\n",
       "      <td>1</td>\n",
       "      <td>0</td>\n",
       "      <td>0</td>\n",
       "      <td>0</td>\n",
       "      <td>0</td>\n",
       "      <td>1</td>\n",
       "      <td>1</td>\n",
       "      <td>0</td>\n",
       "      <td>0</td>\n",
       "      <td>0</td>\n",
       "    </tr>\n",
       "    <tr>\n",
       "      <th>11105187</th>\n",
       "      <td>44</td>\n",
       "      <td>1</td>\n",
       "      <td>18.0</td>\n",
       "      <td>2.09</td>\n",
       "      <td>59.5</td>\n",
       "      <td>5.300000</td>\n",
       "      <td>0.370000</td>\n",
       "      <td>123.000000</td>\n",
       "      <td>96.750000</td>\n",
       "      <td>168.500000</td>\n",
       "      <td>3.550000</td>\n",
       "      <td>138.500000</td>\n",
       "      <td>23.500000</td>\n",
       "      <td>9.875000</td>\n",
       "      <td>1.375000</td>\n",
       "      <td>7.120000</td>\n",
       "      <td>37.0</td>\n",
       "      <td>0</td>\n",
       "      <td>0</td>\n",
       "      <td>0</td>\n",
       "      <td>0</td>\n",
       "      <td>1</td>\n",
       "      <td>0</td>\n",
       "      <td>0</td>\n",
       "      <td>1</td>\n",
       "      <td>1</td>\n",
       "      <td>1</td>\n",
       "      <td>0</td>\n",
       "      <td>0</td>\n",
       "      <td>1</td>\n",
       "      <td>0</td>\n",
       "      <td>1</td>\n",
       "      <td>0</td>\n",
       "      <td>1</td>\n",
       "      <td>1</td>\n",
       "      <td>1</td>\n",
       "      <td>1</td>\n",
       "      <td>0</td>\n",
       "      <td>0</td>\n",
       "      <td>0</td>\n",
       "      <td>1</td>\n",
       "      <td>1</td>\n",
       "      <td>0</td>\n",
       "      <td>1</td>\n",
       "      <td>1</td>\n",
       "      <td>0</td>\n",
       "      <td>1</td>\n",
       "      <td>1</td>\n",
       "      <td>1</td>\n",
       "      <td>1</td>\n",
       "      <td>0</td>\n",
       "      <td>1</td>\n",
       "      <td>0</td>\n",
       "      <td>0</td>\n",
       "      <td>0</td>\n",
       "      <td>1</td>\n",
       "      <td>1</td>\n",
       "      <td>0</td>\n",
       "      <td>1</td>\n",
       "      <td>1</td>\n",
       "      <td>0</td>\n",
       "      <td>0</td>\n",
       "      <td>1</td>\n",
       "      <td>1</td>\n",
       "      <td>1</td>\n",
       "      <td>0</td>\n",
       "      <td>0</td>\n",
       "      <td>0</td>\n",
       "    </tr>\n",
       "    <tr>\n",
       "      <th>11105307</th>\n",
       "      <td>43</td>\n",
       "      <td>0</td>\n",
       "      <td>146.0</td>\n",
       "      <td>2.00</td>\n",
       "      <td>83.5</td>\n",
       "      <td>6.400000</td>\n",
       "      <td>0.193333</td>\n",
       "      <td>61.000000</td>\n",
       "      <td>100.633333</td>\n",
       "      <td>78.000000</td>\n",
       "      <td>3.800000</td>\n",
       "      <td>133.500000</td>\n",
       "      <td>23.500000</td>\n",
       "      <td>4.426667</td>\n",
       "      <td>0.900000</td>\n",
       "      <td>2.896667</td>\n",
       "      <td>23.5</td>\n",
       "      <td>0</td>\n",
       "      <td>0</td>\n",
       "      <td>0</td>\n",
       "      <td>0</td>\n",
       "      <td>1</td>\n",
       "      <td>1</td>\n",
       "      <td>0</td>\n",
       "      <td>1</td>\n",
       "      <td>0</td>\n",
       "      <td>1</td>\n",
       "      <td>0</td>\n",
       "      <td>0</td>\n",
       "      <td>1</td>\n",
       "      <td>0</td>\n",
       "      <td>1</td>\n",
       "      <td>1</td>\n",
       "      <td>1</td>\n",
       "      <td>0</td>\n",
       "      <td>1</td>\n",
       "      <td>1</td>\n",
       "      <td>0</td>\n",
       "      <td>0</td>\n",
       "      <td>0</td>\n",
       "      <td>1</td>\n",
       "      <td>1</td>\n",
       "      <td>0</td>\n",
       "      <td>1</td>\n",
       "      <td>1</td>\n",
       "      <td>0</td>\n",
       "      <td>1</td>\n",
       "      <td>1</td>\n",
       "      <td>1</td>\n",
       "      <td>1</td>\n",
       "      <td>0</td>\n",
       "      <td>1</td>\n",
       "      <td>0</td>\n",
       "      <td>0</td>\n",
       "      <td>0</td>\n",
       "      <td>1</td>\n",
       "      <td>1</td>\n",
       "      <td>0</td>\n",
       "      <td>1</td>\n",
       "      <td>1</td>\n",
       "      <td>1</td>\n",
       "      <td>0</td>\n",
       "      <td>1</td>\n",
       "      <td>1</td>\n",
       "      <td>1</td>\n",
       "      <td>0</td>\n",
       "      <td>0</td>\n",
       "      <td>0</td>\n",
       "    </tr>\n",
       "  </tbody>\n",
       "</table>\n",
       "</div>"
      ],
      "text/plain": [
       "          age  sex  bilirubin  calcium  creatinine  glucose random  \\\n",
       "11101884   54    1       17.5     2.30        55.0        6.766667   \n",
       "11103929   62    1       17.5     2.38        78.5        7.250000   \n",
       "11104009   57    1       12.0     2.23        65.0        4.300000   \n",
       "11105187   44    1       18.0     2.09        59.5        5.300000   \n",
       "11105307   43    0      146.0     2.00        83.5        6.400000   \n",
       "\n",
       "          hematocrit  hemoglobin  mean cell volume  platelet count  potassium  \\\n",
       "11101884    0.479333  172.666667         92.300000      145.333333   3.366667   \n",
       "11103929    0.432000  154.000000         86.250000      211.000000   3.250000   \n",
       "11104009    0.411000  143.000000         93.950000      158.500000   3.900000   \n",
       "11105187    0.370000  123.000000         96.750000      168.500000   3.550000   \n",
       "11105307    0.193333   61.000000        100.633333       78.000000   3.800000   \n",
       "\n",
       "              sodium  bicarbonate  white blood cell count  lymphocyte  \\\n",
       "11101884  132.333333    22.333333               13.030000    1.006667   \n",
       "11103929  132.000000    25.000000               15.135000    0.495000   \n",
       "11104009  136.500000    26.500000                7.010000    1.255000   \n",
       "11105187  138.500000    23.500000                9.875000    1.375000   \n",
       "11105307  133.500000    23.500000                4.426667    0.900000   \n",
       "\n",
       "          neutrophils  albumin  Heart Rate_indicator  \\\n",
       "11101884    10.780000     37.0                     0   \n",
       "11103929    13.765000     44.0                     0   \n",
       "11104009     4.975000     39.0                     0   \n",
       "11105187     7.120000     37.0                     0   \n",
       "11105307     2.896667     23.5                     0   \n",
       "\n",
       "          respiratory rate_indicator  Systolic BP_indicator  \\\n",
       "11101884                           0                      0   \n",
       "11103929                           0                      0   \n",
       "11104009                           0                      0   \n",
       "11105187                           0                      0   \n",
       "11105307                           0                      0   \n",
       "\n",
       "          Temperature_indicator  weight_indicator  CAM_indicator  \\\n",
       "11101884                      0                 1              1   \n",
       "11103929                      0                 1              0   \n",
       "11104009                      0                 0              0   \n",
       "11105187                      0                 1              0   \n",
       "11105307                      0                 1              1   \n",
       "\n",
       "          Diastolic BP_indicator  fio2_indicator  aptt_indicator  \\\n",
       "11101884                       0               1               1   \n",
       "11103929                       0               1               1   \n",
       "11104009                       0               1               1   \n",
       "11105187                       0               1               1   \n",
       "11105307                       0               1               0   \n",
       "\n",
       "          ketone_indicator  bilirubin_indicator  calcium_indicator  \\\n",
       "11101884                 1                    0                  0   \n",
       "11103929                 0                    0                  0   \n",
       "11104009                 1                    0                  0   \n",
       "11105187                 1                    0                  0   \n",
       "11105307                 1                    0                  0   \n",
       "\n",
       "          calcium, ionized_indicator  creatinine_indicator  esr_indicator  \\\n",
       "11101884                           1                     0              1   \n",
       "11103929                           1                     0              1   \n",
       "11104009                           1                     0              1   \n",
       "11105187                           1                     0              1   \n",
       "11105307                           1                     0              1   \n",
       "\n",
       "          serum alcohol_indicator  ferritin_indicator  fibrinogen_indicator  \\\n",
       "11101884                        0                   1                     1   \n",
       "11103929                        0                   1                     1   \n",
       "11104009                        0                   1                     1   \n",
       "11105187                        0                   1                     1   \n",
       "11105307                        1                   1                     0   \n",
       "\n",
       "          glucose fasting_indicator  glucose point of care_indicator  \\\n",
       "11101884                          1                                1   \n",
       "11103929                          1                                1   \n",
       "11104009                          1                                1   \n",
       "11105187                          1                                1   \n",
       "11105307                          1                                1   \n",
       "\n",
       "          glucose random_indicator  hematocrit_indicator  \\\n",
       "11101884                         0                     0   \n",
       "11103929                         0                     0   \n",
       "11104009                         0                     0   \n",
       "11105187                         0                     0   \n",
       "11105307                         0                     0   \n",
       "\n",
       "          hemoglobin_indicator  crp_indicator  influenza_indicator  \\\n",
       "11101884                     0              0                    1   \n",
       "11103929                     0              1                    1   \n",
       "11104009                     0              1                    1   \n",
       "11105187                     0              1                    1   \n",
       "11105307                     0              1                    1   \n",
       "\n",
       "          inr_indicator  lactate arterial_indicator  lactate venous_indicator  \\\n",
       "11101884              1                           1                         0   \n",
       "11103929              1                           1                         0   \n",
       "11104009              0                           1                         0   \n",
       "11105187              0                           1                         1   \n",
       "11105307              0                           1                         1   \n",
       "\n",
       "          mean cell volume_indicator  arterial paco2_indicator  \\\n",
       "11101884                           0                         1   \n",
       "11103929                           0                         1   \n",
       "11104009                           0                         1   \n",
       "11105187                           0                         1   \n",
       "11105307                           0                         1   \n",
       "\n",
       "          venous pco2_indicator  arterial ph_indicator  venous ph_indicator  \\\n",
       "11101884                      0                      1                    0   \n",
       "11103929                      0                      1                    0   \n",
       "11104009                      0                      1                    0   \n",
       "11105187                      1                      1                    1   \n",
       "11105307                      1                      1                    1   \n",
       "\n",
       "          platelet count_indicator  arterial pao2_indicator  \\\n",
       "11101884                         0                        1   \n",
       "11103929                         0                        1   \n",
       "11104009                         0                        1   \n",
       "11105187                         0                        1   \n",
       "11105307                         0                        1   \n",
       "\n",
       "          potassium_indicator  pt_indicator  sodium_indicator  \\\n",
       "11101884                    0             1                 0   \n",
       "11103929                    0             1                 0   \n",
       "11104009                    0             0                 0   \n",
       "11105187                    0             0                 0   \n",
       "11105307                    0             0                 0   \n",
       "\n",
       "          urine sodium_indicator  urine specific gravity_indicator  \\\n",
       "11101884                       1                                 1   \n",
       "11103929                       1                                 0   \n",
       "11104009                       1                                 1   \n",
       "11105187                       1                                 1   \n",
       "11105307                       1                                 1   \n",
       "\n",
       "          bicarbonate_indicator  troponin_indicator  \\\n",
       "11101884                      0                   1   \n",
       "11103929                      0                   1   \n",
       "11104009                      0                   1   \n",
       "11105187                      0                   1   \n",
       "11105307                      0                   1   \n",
       "\n",
       "          blood urea nitrogen_indicator  vitamin b12_indicator  \\\n",
       "11101884                              1                      1   \n",
       "11103929                              1                      0   \n",
       "11104009                              0                      0   \n",
       "11105187                              1                      0   \n",
       "11105307                              1                      1   \n",
       "\n",
       "          white blood cell count_indicator  \\\n",
       "11101884                                 0   \n",
       "11103929                                 0   \n",
       "11104009                                 0   \n",
       "11105187                                 0   \n",
       "11105307                                 0   \n",
       "\n",
       "          high sensitivity troponin_indicator  vitamin d_indicator  \\\n",
       "11101884                                    0                    1   \n",
       "11103929                                    0                    1   \n",
       "11104009                                    0                    1   \n",
       "11105187                                    1                    1   \n",
       "11105307                                    1                    1   \n",
       "\n",
       "          hba1c_indicator  lymphocyte_indicator  neutrophils_indicator  \\\n",
       "11101884                1                     0                      0   \n",
       "11103929                1                     0                      0   \n",
       "11104009                1                     0                      0   \n",
       "11105187                1                     0                      0   \n",
       "11105307                1                     0                      0   \n",
       "\n",
       "          albumin_indicator  \n",
       "11101884                  0  \n",
       "11103929                  0  \n",
       "11104009                  0  \n",
       "11105187                  0  \n",
       "11105307                  0  "
      ]
     },
     "execution_count": 11,
     "metadata": {},
     "output_type": "execute_result"
    },
    {
     "data": {
      "application/javascript": [
       "\n",
       "            setTimeout(function() {\n",
       "                var nbb_cell_id = 11;\n",
       "                var nbb_unformatted_code = \"ids_precovid = data.loc[\\n    data[\\\"admit_timestamp\\\"].dt.date < datetime.date(2020, 3, 1), \\\"encounter_id\\\"\\n]\\nX_train = X.loc[X.index.isin(ids_precovid)]\\n# label_column specifies the index of the column containing the true label\\ny_train = X_train[\\\"mortality_in_hospital\\\"]\\nX_train = X_train.drop(columns=[\\\"mortality_in_hospital\\\", \\\"length_of_stay_in_er\\\"])\\nX_train, X_val, y_train, y_val = train_test_split(X_train, y_train, train_size=0.67)\\n\\nids_covid = data.loc[\\n    data[\\\"admit_timestamp\\\"].dt.date > datetime.date(2020, 2, 28), \\\"encounter_id\\\"\\n]\\nX_test = X.loc[X.index.isin(ids_covid)]\\ny_test = X_test[\\\"mortality_in_hospital\\\"]\\nX_test = X_test.drop(columns=[\\\"mortality_in_hospital\\\", \\\"length_of_stay_in_er\\\"])\\nX_test.head()\";\n",
       "                var nbb_formatted_code = \"ids_precovid = data.loc[\\n    data[\\\"admit_timestamp\\\"].dt.date < datetime.date(2020, 3, 1), \\\"encounter_id\\\"\\n]\\nX_train = X.loc[X.index.isin(ids_precovid)]\\n# label_column specifies the index of the column containing the true label\\ny_train = X_train[\\\"mortality_in_hospital\\\"]\\nX_train = X_train.drop(columns=[\\\"mortality_in_hospital\\\", \\\"length_of_stay_in_er\\\"])\\nX_train, X_val, y_train, y_val = train_test_split(X_train, y_train, train_size=0.67)\\n\\nids_covid = data.loc[\\n    data[\\\"admit_timestamp\\\"].dt.date > datetime.date(2020, 2, 28), \\\"encounter_id\\\"\\n]\\nX_test = X.loc[X.index.isin(ids_covid)]\\ny_test = X_test[\\\"mortality_in_hospital\\\"]\\nX_test = X_test.drop(columns=[\\\"mortality_in_hospital\\\", \\\"length_of_stay_in_er\\\"])\\nX_test.head()\";\n",
       "                var nbb_cells = Jupyter.notebook.get_cells();\n",
       "                for (var i = 0; i < nbb_cells.length; ++i) {\n",
       "                    if (nbb_cells[i].input_prompt_number == nbb_cell_id) {\n",
       "                        if (nbb_cells[i].get_text() == nbb_unformatted_code) {\n",
       "                             nbb_cells[i].set_text(nbb_formatted_code);\n",
       "                        }\n",
       "                        break;\n",
       "                    }\n",
       "                }\n",
       "            }, 500);\n",
       "            "
      ],
      "text/plain": [
       "<IPython.core.display.Javascript object>"
      ]
     },
     "metadata": {},
     "output_type": "display_data"
    }
   ],
   "source": [
    "ids_precovid = data.loc[\n",
    "    data[\"admit_timestamp\"].dt.date < datetime.date(2020, 3, 1), \"encounter_id\"\n",
    "]\n",
    "X_train = X.loc[X.index.isin(ids_precovid)]\n",
    "# label_column specifies the index of the column containing the true label\n",
    "y_train = X_train[\"mortality_in_hospital\"]\n",
    "X_train = X_train.drop(columns=[\"mortality_in_hospital\", \"length_of_stay_in_er\"])\n",
    "X_train, X_val, y_train, y_val = train_test_split(X_train, y_train, train_size=0.67)\n",
    "\n",
    "ids_covid = data.loc[\n",
    "    data[\"admit_timestamp\"].dt.date > datetime.date(2020, 2, 28), \"encounter_id\"\n",
    "]\n",
    "X_test = X.loc[X.index.isin(ids_covid)]\n",
    "y_test = X_test[\"mortality_in_hospital\"]\n",
    "X_test = X_test.drop(columns=[\"mortality_in_hospital\", \"length_of_stay_in_er\"])\n",
    "X_test.head()"
   ]
  },
  {
   "cell_type": "markdown",
   "id": "decent-version",
   "metadata": {},
   "source": [
    "## Modeling ##"
   ]
  },
  {
   "cell_type": "markdown",
   "id": "western-probability",
   "metadata": {},
   "source": [
    "### MLP ###"
   ]
  },
  {
   "cell_type": "code",
   "execution_count": 236,
   "id": "vocational-academy",
   "metadata": {},
   "outputs": [
    {
     "name": "stdout",
     "output_type": "stream",
     "text": [
      "Fitted model with C: 0.1 AUC: 0.7394759105171288\n",
      "Fitted model with C: 0.01 AUC: 0.6566753408080872\n",
      "Fitted model with C: 0.001 AUC: 0.4684785984300875\n",
      "Fitted model with C: 0.0001 AUC: 0.5755828273417505\n",
      "Fitted model with C: 1e-05 AUC: 0.5356121694991486\n",
      "Fitted model with C: 1e-06 AUC: 0.5947783810411111\n",
      "Fitted model with C: 1e-07 AUC: 0.6677161306903974\n",
      "Best C: 0.1 AUC: 0.7394759105171288\n"
     ]
    },
    {
     "data": {
      "application/javascript": [
       "\n",
       "            setTimeout(function() {\n",
       "                var nbb_cell_id = 236;\n",
       "                var nbb_unformatted_code = \"from sklearn.neural_network import MLPClassifier as MLP\\nfrom sklearn.metrics import roc_auc_score\\n\\n\\ndef fit_MLP(X, Y, Xv, Yv):\\n    best_c = None\\n    best_score = 0\\n    best_model = None\\n    for c in [1e-1, 1e-2, 1e-3, 1e-4, 1e-5, 1e-6, 1e-7]:\\n        m = MLP(\\n            hidden_layer_sizes=(256, 256, 256, 256),\\n            alpha=c,\\n            early_stopping=True,\\n            learning_rate=\\\"adaptive\\\",\\n            batch_size=128,\\n        )\\n        m.fit(X.values, Y)\\n        Pv = m.predict_proba(Xv.values)[:, 1]\\n        score = roc_auc_score(Yv, Pv)\\n        print(\\\"Fitted model with C:\\\", c, \\\"AUC:\\\", score)\\n        if score > best_score:\\n            best_score = score\\n            best_model = m\\n            best_c = c\\n\\n    print(\\\"Best C:\\\", best_c, \\\"AUC:\\\", best_score)\\n    return best_model\\n\\n\\noptimised_mlp = fit_MLP(X_train, y_train, X_val, y_val)\";\n",
       "                var nbb_formatted_code = \"from sklearn.neural_network import MLPClassifier as MLP\\nfrom sklearn.metrics import roc_auc_score\\n\\n\\ndef fit_MLP(X, Y, Xv, Yv):\\n    best_c = None\\n    best_score = 0\\n    best_model = None\\n    for c in [1e-1, 1e-2, 1e-3, 1e-4, 1e-5, 1e-6, 1e-7]:\\n        m = MLP(\\n            hidden_layer_sizes=(256, 256, 256, 256),\\n            alpha=c,\\n            early_stopping=True,\\n            learning_rate=\\\"adaptive\\\",\\n            batch_size=128,\\n        )\\n        m.fit(X.values, Y)\\n        Pv = m.predict_proba(Xv.values)[:, 1]\\n        score = roc_auc_score(Yv, Pv)\\n        print(\\\"Fitted model with C:\\\", c, \\\"AUC:\\\", score)\\n        if score > best_score:\\n            best_score = score\\n            best_model = m\\n            best_c = c\\n\\n    print(\\\"Best C:\\\", best_c, \\\"AUC:\\\", best_score)\\n    return best_model\\n\\n\\noptimised_mlp = fit_MLP(X_train, y_train, X_val, y_val)\";\n",
       "                var nbb_cells = Jupyter.notebook.get_cells();\n",
       "                for (var i = 0; i < nbb_cells.length; ++i) {\n",
       "                    if (nbb_cells[i].input_prompt_number == nbb_cell_id) {\n",
       "                        if (nbb_cells[i].get_text() == nbb_unformatted_code) {\n",
       "                             nbb_cells[i].set_text(nbb_formatted_code);\n",
       "                        }\n",
       "                        break;\n",
       "                    }\n",
       "                }\n",
       "            }, 500);\n",
       "            "
      ],
      "text/plain": [
       "<IPython.core.display.Javascript object>"
      ]
     },
     "metadata": {},
     "output_type": "display_data"
    }
   ],
   "source": [
    "from sklearn.neural_network import MLPClassifier as MLP\n",
    "from sklearn.metrics import roc_auc_score\n",
    "\n",
    "\n",
    "def fit_MLP(X, Y, Xv, Yv):\n",
    "    best_c = None\n",
    "    best_score = 0\n",
    "    best_model = None\n",
    "    for c in [1e-1, 1e-2, 1e-3, 1e-4, 1e-5, 1e-6, 1e-7]:\n",
    "        m = MLP(\n",
    "            hidden_layer_sizes=(256, 256, 256, 256),\n",
    "            alpha=c,\n",
    "            early_stopping=True,\n",
    "            learning_rate=\"adaptive\",\n",
    "            batch_size=128,\n",
    "        )\n",
    "        m.fit(X.values, Y)\n",
    "        Pv = m.predict_proba(Xv.values)[:, 1]\n",
    "        score = roc_auc_score(Yv, Pv)\n",
    "        print(\"Fitted model with C:\", c, \"AUC:\", score)\n",
    "        if score > best_score:\n",
    "            best_score = score\n",
    "            best_model = m\n",
    "            best_c = c\n",
    "\n",
    "    print(\"Best C:\", best_c, \"AUC:\", best_score)\n",
    "    return best_model\n",
    "\n",
    "\n",
    "optimised_mlp = fit_MLP(X_train, y_train, X_val, y_val)"
   ]
  },
  {
   "cell_type": "code",
   "execution_count": 237,
   "id": "spiritual-priest",
   "metadata": {},
   "outputs": [
    {
     "name": "stdout",
     "output_type": "stream",
     "text": [
      "Sensitivity: 0.0\n",
      "Specificity: 0.9986091794158554\n",
      "Positive Predictive Value: 0.0\n",
      "False Positive Rate: 0.0013908205841446453\n",
      "False Negative Rate: 1.0\n",
      "Accuracy: 0.9288486416558862\n"
     ]
    },
    {
     "data": {
      "application/javascript": [
       "\n",
       "            setTimeout(function() {\n",
       "                var nbb_cell_id = 237;\n",
       "                var nbb_unformatted_code = \"y_pred = optimised_mlp.predict(X_test.values)\\nprint_metrics(y_test, y_pred)\";\n",
       "                var nbb_formatted_code = \"y_pred = optimised_mlp.predict(X_test.values)\\nprint_metrics(y_test, y_pred)\";\n",
       "                var nbb_cells = Jupyter.notebook.get_cells();\n",
       "                for (var i = 0; i < nbb_cells.length; ++i) {\n",
       "                    if (nbb_cells[i].input_prompt_number == nbb_cell_id) {\n",
       "                        if (nbb_cells[i].get_text() == nbb_unformatted_code) {\n",
       "                             nbb_cells[i].set_text(nbb_formatted_code);\n",
       "                        }\n",
       "                        break;\n",
       "                    }\n",
       "                }\n",
       "            }, 500);\n",
       "            "
      ],
      "text/plain": [
       "<IPython.core.display.Javascript object>"
      ]
     },
     "metadata": {},
     "output_type": "display_data"
    }
   ],
   "source": [
    "y_pred = optimised_mlp.predict(X_test.values)\n",
    "compute_threshold_metric(y_test, y_pred, 0.5)"
   ]
  },
  {
   "cell_type": "code",
   "execution_count": 238,
   "id": "rational-logistics",
   "metadata": {},
   "outputs": [
    {
     "name": "stderr",
     "output_type": "stream",
     "text": [
      "/mnt/nfs/home/subasriv/.conda/envs/vector_delirium/lib/python3.8/site-packages/sklearn/base.py:443: UserWarning: X has feature names, but MLPClassifier was fitted without feature names\n",
      "  warnings.warn(\n",
      "WARNING:matplotlib.legend:No artists with labels found to put in legend.  Note that artists whose label start with an underscore are ignored when legend() is called with no argument.\n"
     ]
    },
    {
     "data": {
      "image/png": "[encoded data removed]",
      "text/plain": [
       "<Figure size 432x288 with 1 Axes>"
      ]
     },
     "metadata": {
      "needs_background": "light"
     },
     "output_type": "display_data"
    },
    {
     "data": {
      "image/png": "[encoded data removed]",
      "text/plain": [
       "<Figure size 432x288 with 1 Axes>"
      ]
     },
     "metadata": {
      "needs_background": "light"
     },
     "output_type": "display_data"
    },
    {
     "data": {
      "application/javascript": [
       "\n",
       "            setTimeout(function() {\n",
       "                var nbb_cell_id = 238;\n",
       "                var nbb_unformatted_code = \"y_pred_prob = optimised_mlp.predict_proba(X_val)[:, 1]\\nfpr, tpr, thresholds = roc_curve(y_val, y_pred_prob, pos_label=1)\\nroc_auc = auc(fpr, tpr)\\nprecision, recall, thresholds = precision_recall_curve(y_val, y_pred_prob)\\navg_pr = average_precision_score(y_val, y_pred_prob)\\nplot_roc(fpr, tpr, roc_auc)\\nplot_pr(recall, precision, avg_pr)\";\n",
       "                var nbb_formatted_code = \"y_pred_prob = optimised_mlp.predict_proba(X_val)[:, 1]\\nfpr, tpr, thresholds = roc_curve(y_val, y_pred_prob, pos_label=1)\\nroc_auc = auc(fpr, tpr)\\nprecision, recall, thresholds = precision_recall_curve(y_val, y_pred_prob)\\navg_pr = average_precision_score(y_val, y_pred_prob)\\nplot_roc(fpr, tpr, roc_auc)\\nplot_pr(recall, precision, avg_pr)\";\n",
       "                var nbb_cells = Jupyter.notebook.get_cells();\n",
       "                for (var i = 0; i < nbb_cells.length; ++i) {\n",
       "                    if (nbb_cells[i].input_prompt_number == nbb_cell_id) {\n",
       "                        if (nbb_cells[i].get_text() == nbb_unformatted_code) {\n",
       "                             nbb_cells[i].set_text(nbb_formatted_code);\n",
       "                        }\n",
       "                        break;\n",
       "                    }\n",
       "                }\n",
       "            }, 500);\n",
       "            "
      ],
      "text/plain": [
       "<IPython.core.display.Javascript object>"
      ]
     },
     "metadata": {},
     "output_type": "display_data"
    }
   ],
   "source": [
    "y_pred_prob = optimised_mlp.predict_proba(X_val)[:, 1]\n",
    "fpr, tpr, thresholds = roc_curve(y_val, y_pred_prob, pos_label=1)\n",
    "roc_auc = auc(fpr, tpr)\n",
    "precision, recall, thresholds = precision_recall_curve(y_val, y_pred_prob)\n",
    "avg_pr = average_precision_score(y_val, y_pred_prob)\n",
    "plot_roc(fpr, tpr, roc_auc)\n",
    "plot_pr(recall, precision, avg_pr)"
   ]
  },
  {
   "cell_type": "code",
   "execution_count": 239,
   "id": "acceptable-emission",
   "metadata": {},
   "outputs": [
    {
     "name": "stderr",
     "output_type": "stream",
     "text": [
      "/mnt/nfs/home/subasriv/.conda/envs/vector_delirium/lib/python3.8/site-packages/sklearn/base.py:443: UserWarning: X has feature names, but MLPClassifier was fitted without feature names\n",
      "  warnings.warn(\n",
      "WARNING:matplotlib.legend:No artists with labels found to put in legend.  Note that artists whose label start with an underscore are ignored when legend() is called with no argument.\n"
     ]
    },
    {
     "data": {
      "image/png": "[encoded data removed]",
      "text/plain": [
       "<Figure size 432x288 with 1 Axes>"
      ]
     },
     "metadata": {
      "needs_background": "light"
     },
     "output_type": "display_data"
    },
    {
     "data": {
      "image/png": "[encoded data removed]",
      "text/plain": [
       "<Figure size 432x288 with 1 Axes>"
      ]
     },
     "metadata": {
      "needs_background": "light"
     },
     "output_type": "display_data"
    },
    {
     "data": {
      "application/javascript": [
       "\n",
       "            setTimeout(function() {\n",
       "                var nbb_cell_id = 239;\n",
       "                var nbb_unformatted_code = \"y_pred_prob = optimised_mlp.predict_proba(X_test)[:, 1]\\nfpr, tpr, thresholds = roc_curve(y_test, y_pred_prob, pos_label=1)\\nroc_auc = auc(fpr, tpr)\\nprecision, recall, thresholds = precision_recall_curve(y_test, y_pred_prob)\\navg_pr = average_precision_score(y_test, y_pred_prob)\\nplot_roc(fpr, tpr, roc_auc)\\nplot_pr(recall, precision, avg_pr)\";\n",
       "                var nbb_formatted_code = \"y_pred_prob = optimised_mlp.predict_proba(X_test)[:, 1]\\nfpr, tpr, thresholds = roc_curve(y_test, y_pred_prob, pos_label=1)\\nroc_auc = auc(fpr, tpr)\\nprecision, recall, thresholds = precision_recall_curve(y_test, y_pred_prob)\\navg_pr = average_precision_score(y_test, y_pred_prob)\\nplot_roc(fpr, tpr, roc_auc)\\nplot_pr(recall, precision, avg_pr)\";\n",
       "                var nbb_cells = Jupyter.notebook.get_cells();\n",
       "                for (var i = 0; i < nbb_cells.length; ++i) {\n",
       "                    if (nbb_cells[i].input_prompt_number == nbb_cell_id) {\n",
       "                        if (nbb_cells[i].get_text() == nbb_unformatted_code) {\n",
       "                             nbb_cells[i].set_text(nbb_formatted_code);\n",
       "                        }\n",
       "                        break;\n",
       "                    }\n",
       "                }\n",
       "            }, 500);\n",
       "            "
      ],
      "text/plain": [
       "<IPython.core.display.Javascript object>"
      ]
     },
     "metadata": {},
     "output_type": "display_data"
    }
   ],
   "source": [
    "y_pred_prob = optimised_mlp.predict_proba(X_test)[:, 1]\n",
    "fpr, tpr, thresholds = roc_curve(y_test, y_pred_prob, pos_label=1)\n",
    "roc_auc = auc(fpr, tpr)\n",
    "precision, recall, thresholds = precision_recall_curve(y_test, y_pred_prob)\n",
    "avg_pr = average_precision_score(y_test, y_pred_prob)\n",
    "plot_roc(fpr, tpr, roc_auc)\n",
    "plot_pr(recall, precision, avg_pr)"
   ]
  },
  {
   "cell_type": "markdown",
   "id": "searching-lobby",
   "metadata": {},
   "source": [
    "### Random Forest ###"
   ]
  },
  {
   "cell_type": "code",
   "execution_count": 240,
   "id": "verified-muscle",
   "metadata": {},
   "outputs": [
    {
     "name": "stdout",
     "output_type": "stream",
     "text": [
      "Fitting model with n: 5\n",
      "Fitting model with n: 10\n",
      "Fitting model with n: 50\n",
      "Fitting model with n: 100\n",
      "Fitting model with n: 500\n",
      "Best n: 500\n"
     ]
    },
    {
     "data": {
      "application/javascript": [
       "\n",
       "            setTimeout(function() {\n",
       "                var nbb_cell_id = 240;\n",
       "                var nbb_unformatted_code = \"from sklearn.ensemble import RandomForestClassifier as RF\\nfrom sklearn.metrics import roc_auc_score\\n\\n\\ndef fit_rf(X, Y, Xv, Yv):\\n    best_n = None\\n    best_score = 0\\n    best_model = None\\n    for n in [5, 10, 50, 100, 500]:\\n        m = RF(n_estimators=n, n_jobs=-1)\\n        print(\\\"Fitting model with n:\\\", n)\\n        m.fit(X, Y)\\n        Pv = m.predict_proba(Xv)[:, 1]\\n        score = roc_auc_score(Yv, Pv)\\n        if score > best_score:\\n            best_score = score\\n            best_model = m\\n            best_n = n\\n\\n    print(\\\"Best n:\\\", best_n)\\n    return best_model\\n\\n\\noptimised_rf = fit_rf(X_train, y_train, X_val, y_val)\";\n",
       "                var nbb_formatted_code = \"from sklearn.ensemble import RandomForestClassifier as RF\\nfrom sklearn.metrics import roc_auc_score\\n\\n\\ndef fit_rf(X, Y, Xv, Yv):\\n    best_n = None\\n    best_score = 0\\n    best_model = None\\n    for n in [5, 10, 50, 100, 500]:\\n        m = RF(n_estimators=n, n_jobs=-1)\\n        print(\\\"Fitting model with n:\\\", n)\\n        m.fit(X, Y)\\n        Pv = m.predict_proba(Xv)[:, 1]\\n        score = roc_auc_score(Yv, Pv)\\n        if score > best_score:\\n            best_score = score\\n            best_model = m\\n            best_n = n\\n\\n    print(\\\"Best n:\\\", best_n)\\n    return best_model\\n\\n\\noptimised_rf = fit_rf(X_train, y_train, X_val, y_val)\";\n",
       "                var nbb_cells = Jupyter.notebook.get_cells();\n",
       "                for (var i = 0; i < nbb_cells.length; ++i) {\n",
       "                    if (nbb_cells[i].input_prompt_number == nbb_cell_id) {\n",
       "                        if (nbb_cells[i].get_text() == nbb_unformatted_code) {\n",
       "                             nbb_cells[i].set_text(nbb_formatted_code);\n",
       "                        }\n",
       "                        break;\n",
       "                    }\n",
       "                }\n",
       "            }, 500);\n",
       "            "
      ],
      "text/plain": [
       "<IPython.core.display.Javascript object>"
      ]
     },
     "metadata": {},
     "output_type": "display_data"
    }
   ],
   "source": [
    "from sklearn.ensemble import RandomForestClassifier as RF\n",
    "from sklearn.metrics import roc_auc_score\n",
    "\n",
    "\n",
    "def fit_rf(X, Y, Xv, Yv):\n",
    "    best_n = None\n",
    "    best_score = 0\n",
    "    best_model = None\n",
    "    for n in [5, 10, 50, 100, 500]:\n",
    "        m = RF(n_estimators=n, n_jobs=-1)\n",
    "        print(\"Fitting model with n:\", n)\n",
    "        m.fit(X, Y)\n",
    "        Pv = m.predict_proba(Xv)[:, 1]\n",
    "        score = roc_auc_score(Yv, Pv)\n",
    "        if score > best_score:\n",
    "            best_score = score\n",
    "            best_model = m\n",
    "            best_n = n\n",
    "\n",
    "    print(\"Best n:\", best_n)\n",
    "    return best_model\n",
    "\n",
    "\n",
    "optimised_rf = fit_rf(X_train, y_train, X_val, y_val)"
   ]
  },
  {
   "cell_type": "code",
   "execution_count": 241,
   "id": "rapid-context",
   "metadata": {},
   "outputs": [
    {
     "name": "stdout",
     "output_type": "stream",
     "text": [
      "Sensitivity: 0.018518518518518517\n",
      "Specificity: 1.0\n",
      "Positive Predictive Value: 1.0\n",
      "False Positive Rate: 0.0\n",
      "False Negative Rate: 0.9814814814814815\n",
      "Accuracy: 0.9314359637774903\n"
     ]
    },
    {
     "data": {
      "application/javascript": [
       "\n",
       "            setTimeout(function() {\n",
       "                var nbb_cell_id = 241;\n",
       "                var nbb_unformatted_code = \"y_pred = optimised_rf.predict(X_test)\\nprint_metrics(y_test, y_pred)\";\n",
       "                var nbb_formatted_code = \"y_pred = optimised_rf.predict(X_test)\\nprint_metrics(y_test, y_pred)\";\n",
       "                var nbb_cells = Jupyter.notebook.get_cells();\n",
       "                for (var i = 0; i < nbb_cells.length; ++i) {\n",
       "                    if (nbb_cells[i].input_prompt_number == nbb_cell_id) {\n",
       "                        if (nbb_cells[i].get_text() == nbb_unformatted_code) {\n",
       "                             nbb_cells[i].set_text(nbb_formatted_code);\n",
       "                        }\n",
       "                        break;\n",
       "                    }\n",
       "                }\n",
       "            }, 500);\n",
       "            "
      ],
      "text/plain": [
       "<IPython.core.display.Javascript object>"
      ]
     },
     "metadata": {},
     "output_type": "display_data"
    }
   ],
   "source": [
    "y_pred = optimised_rf.predict(X_test)\n",
    "print_metrics(y_test, y_pred)"
   ]
  },
  {
   "cell_type": "code",
   "execution_count": 242,
   "id": "imposed-weather",
   "metadata": {},
   "outputs": [
    {
     "name": "stderr",
     "output_type": "stream",
     "text": [
      "WARNING:matplotlib.legend:No artists with labels found to put in legend.  Note that artists whose label start with an underscore are ignored when legend() is called with no argument.\n"
     ]
    },
    {
     "data": {
      "image/png": "[encoded data removed]",
      "text/plain": [
       "<Figure size 432x288 with 1 Axes>"
      ]
     },
     "metadata": {
      "needs_background": "light"
     },
     "output_type": "display_data"
    },
    {
     "data": {
      "image/png": "[encoded data removed]",
      "text/plain": [
       "<Figure size 432x288 with 1 Axes>"
      ]
     },
     "metadata": {
      "needs_background": "light"
     },
     "output_type": "display_data"
    },
    {
     "data": {
      "application/javascript": [
       "\n",
       "            setTimeout(function() {\n",
       "                var nbb_cell_id = 242;\n",
       "                var nbb_unformatted_code = \"y_pred_prob = optimised_rf.predict_proba(X_val)[:, 1]\\nfpr, tpr, thresholds = roc_curve(y_val, y_pred_prob, pos_label=1)\\nroc_auc = auc(fpr, tpr)\\nprecision, recall, thresholds = precision_recall_curve(y_val, y_pred_prob)\\navg_pr = average_precision_score(y_val, y_pred_prob)\\nplot_roc(fpr, tpr, roc_auc)\\nplot_pr(recall, precision, avg_pr)\";\n",
       "                var nbb_formatted_code = \"y_pred_prob = optimised_rf.predict_proba(X_val)[:, 1]\\nfpr, tpr, thresholds = roc_curve(y_val, y_pred_prob, pos_label=1)\\nroc_auc = auc(fpr, tpr)\\nprecision, recall, thresholds = precision_recall_curve(y_val, y_pred_prob)\\navg_pr = average_precision_score(y_val, y_pred_prob)\\nplot_roc(fpr, tpr, roc_auc)\\nplot_pr(recall, precision, avg_pr)\";\n",
       "                var nbb_cells = Jupyter.notebook.get_cells();\n",
       "                for (var i = 0; i < nbb_cells.length; ++i) {\n",
       "                    if (nbb_cells[i].input_prompt_number == nbb_cell_id) {\n",
       "                        if (nbb_cells[i].get_text() == nbb_unformatted_code) {\n",
       "                             nbb_cells[i].set_text(nbb_formatted_code);\n",
       "                        }\n",
       "                        break;\n",
       "                    }\n",
       "                }\n",
       "            }, 500);\n",
       "            "
      ],
      "text/plain": [
       "<IPython.core.display.Javascript object>"
      ]
     },
     "metadata": {},
     "output_type": "display_data"
    }
   ],
   "source": [
    "y_pred_prob = optimised_rf.predict_proba(X_val)[:, 1]\n",
    "fpr, tpr, thresholds = roc_curve(y_val, y_pred_prob, pos_label=1)\n",
    "roc_auc = auc(fpr, tpr)\n",
    "precision, recall, thresholds = precision_recall_curve(y_val, y_pred_prob)\n",
    "avg_pr = average_precision_score(y_val, y_pred_prob)\n",
    "plot_roc(fpr, tpr, roc_auc)\n",
    "plot_pr(recall, precision, avg_pr)"
   ]
  },
  {
   "cell_type": "code",
   "execution_count": 243,
   "id": "considerable-brake",
   "metadata": {},
   "outputs": [
    {
     "name": "stderr",
     "output_type": "stream",
     "text": [
      "WARNING:matplotlib.legend:No artists with labels found to put in legend.  Note that artists whose label start with an underscore are ignored when legend() is called with no argument.\n"
     ]
    },
    {
     "data": {
      "image/png": "[encoded data removed]",
      "text/plain": [
       "<Figure size 432x288 with 1 Axes>"
      ]
     },
     "metadata": {
      "needs_background": "light"
     },
     "output_type": "display_data"
    },
    {
     "data": {
      "image/png": "[encoded data removed]",
      "text/plain": [
       "<Figure size 432x288 with 1 Axes>"
      ]
     },
     "metadata": {
      "needs_background": "light"
     },
     "output_type": "display_data"
    },
    {
     "data": {
      "application/javascript": [
       "\n",
       "            setTimeout(function() {\n",
       "                var nbb_cell_id = 243;\n",
       "                var nbb_unformatted_code = \"y_pred_prob = optimised_rf.predict_proba(X_test)[:, 1]\\nfpr, tpr, thresholds = roc_curve(y_test, y_pred_prob, pos_label=1)\\nroc_auc = auc(fpr, tpr)\\nprecision, recall, thresholds = precision_recall_curve(y_test, y_pred_prob)\\navg_pr = average_precision_score(y_test, y_pred_prob)\\nplot_roc(fpr, tpr, roc_auc)\\nplot_pr(recall, precision, avg_pr)\";\n",
       "                var nbb_formatted_code = \"y_pred_prob = optimised_rf.predict_proba(X_test)[:, 1]\\nfpr, tpr, thresholds = roc_curve(y_test, y_pred_prob, pos_label=1)\\nroc_auc = auc(fpr, tpr)\\nprecision, recall, thresholds = precision_recall_curve(y_test, y_pred_prob)\\navg_pr = average_precision_score(y_test, y_pred_prob)\\nplot_roc(fpr, tpr, roc_auc)\\nplot_pr(recall, precision, avg_pr)\";\n",
       "                var nbb_cells = Jupyter.notebook.get_cells();\n",
       "                for (var i = 0; i < nbb_cells.length; ++i) {\n",
       "                    if (nbb_cells[i].input_prompt_number == nbb_cell_id) {\n",
       "                        if (nbb_cells[i].get_text() == nbb_unformatted_code) {\n",
       "                             nbb_cells[i].set_text(nbb_formatted_code);\n",
       "                        }\n",
       "                        break;\n",
       "                    }\n",
       "                }\n",
       "            }, 500);\n",
       "            "
      ],
      "text/plain": [
       "<IPython.core.display.Javascript object>"
      ]
     },
     "metadata": {},
     "output_type": "display_data"
    }
   ],
   "source": [
    "y_pred_prob = optimised_rf.predict_proba(X_test)[:, 1]\n",
    "fpr, tpr, thresholds = roc_curve(y_test, y_pred_prob, pos_label=1)\n",
    "roc_auc = auc(fpr, tpr)\n",
    "precision, recall, thresholds = precision_recall_curve(y_test, y_pred_prob)\n",
    "avg_pr = average_precision_score(y_test, y_pred_prob)\n",
    "plot_roc(fpr, tpr, roc_auc)\n",
    "plot_pr(recall, precision, avg_pr)"
   ]
  },
  {
   "cell_type": "markdown",
   "id": "chicken-burke",
   "metadata": {},
   "source": [
    "### Gradient Boosted Tree ###"
   ]
  },
  {
   "cell_type": "code",
   "execution_count": 266,
   "id": "charming-stretch",
   "metadata": {},
   "outputs": [
    {
     "data": {
      "application/javascript": [
       "\n",
       "            setTimeout(function() {\n",
       "                var nbb_cell_id = 266;\n",
       "                var nbb_unformatted_code = \"X = pd.concat([x, x_ind], axis=1)\\nfeat_remov = feat[feat > 9000].index\\nX = X.drop(feat_remov, axis=1)\\n\\nX_train = X.loc[X.index.isin(ids_precovid)]\\n# label_column specifies the index of the column containing the true label\\ny_train = X_train[\\\"mortality_in_hospital\\\"]\\nX_train = X_train.drop(columns=[\\\"mortality_in_hospital\\\", \\\"length_of_stay_in_er\\\"])\\nX_train, X_val, y_train, y_val = train_test_split(X_train, y_train, train_size=0.67)\\nX_test = X.loc[X.index.isin(ids_covid)]\\ny_test = X_test[\\\"mortality_in_hospital\\\"]\\nX_test = X_test.drop(columns=[\\\"mortality_in_hospital\\\", \\\"length_of_stay_in_er\\\"])\";\n",
       "                var nbb_formatted_code = \"X = pd.concat([x, x_ind], axis=1)\\nfeat_remov = feat[feat > 9000].index\\nX = X.drop(feat_remov, axis=1)\\n\\nX_train = X.loc[X.index.isin(ids_precovid)]\\n# label_column specifies the index of the column containing the true label\\ny_train = X_train[\\\"mortality_in_hospital\\\"]\\nX_train = X_train.drop(columns=[\\\"mortality_in_hospital\\\", \\\"length_of_stay_in_er\\\"])\\nX_train, X_val, y_train, y_val = train_test_split(X_train, y_train, train_size=0.67)\\nX_test = X.loc[X.index.isin(ids_covid)]\\ny_test = X_test[\\\"mortality_in_hospital\\\"]\\nX_test = X_test.drop(columns=[\\\"mortality_in_hospital\\\", \\\"length_of_stay_in_er\\\"])\";\n",
       "                var nbb_cells = Jupyter.notebook.get_cells();\n",
       "                for (var i = 0; i < nbb_cells.length; ++i) {\n",
       "                    if (nbb_cells[i].input_prompt_number == nbb_cell_id) {\n",
       "                        if (nbb_cells[i].get_text() == nbb_unformatted_code) {\n",
       "                             nbb_cells[i].set_text(nbb_formatted_code);\n",
       "                        }\n",
       "                        break;\n",
       "                    }\n",
       "                }\n",
       "            }, 500);\n",
       "            "
      ],
      "text/plain": [
       "<IPython.core.display.Javascript object>"
      ]
     },
     "metadata": {},
     "output_type": "display_data"
    }
   ],
   "source": [
    "X = pd.concat([x, x_ind], axis=1)\n",
    "feat_remov = feat[feat > 9000].index\n",
    "X = X.drop(feat_remov, axis=1)\n",
    "\n",
    "X_train = X.loc[X.index.isin(ids_precovid)]\n",
    "# label_column specifies the index of the column containing the true label\n",
    "y_train = X_train[\"mortality_in_hospital\"]\n",
    "X_train = X_train.drop(columns=[\"mortality_in_hospital\", \"length_of_stay_in_er\"])\n",
    "X_train, X_val, y_train, y_val = train_test_split(X_train, y_train, train_size=0.67)\n",
    "X_test = X.loc[X.index.isin(ids_covid)]\n",
    "y_test = X_test[\"mortality_in_hospital\"]\n",
    "X_test = X_test.drop(columns=[\"mortality_in_hospital\", \"length_of_stay_in_er\"])"
   ]
  },
  {
   "cell_type": "code",
   "execution_count": 267,
   "id": "iraqi-republic",
   "metadata": {},
   "outputs": [
    {
     "name": "stdout",
     "output_type": "stream",
     "text": [
      "Best g: 2\n",
      "Best n: 5\n"
     ]
    },
    {
     "data": {
      "application/javascript": [
       "\n",
       "            setTimeout(function() {\n",
       "                var nbb_cell_id = 267;\n",
       "                var nbb_unformatted_code = \"from xgboost import XGBClassifier\\n\\n\\ndef fit_xgb(X, Y, Xv, Yv):\\n    best_n = None\\n    best_g = None\\n    best_score = 0\\n    best_model = None\\n    for n in [3, 5, 7, 9, 11]:\\n        for g in [0.5, 1, 1.5, 2, 5]:\\n            m = XGBClassifier(\\n                max_depth=n,\\n                gamma=g,\\n                objective=\\\"binary:logistic\\\",\\n                learning_rate=0.1,\\n                eval_metric=\\\"logloss\\\",\\n                min_child_weight=1,\\n                seed=42,\\n                use_label_encoder=False,\\n            )\\n            # print(\\\"Fitting model with n: {} and g: {}\\\".format(n, g))\\n            m.fit(X, Y)\\n            Pv = m.predict_proba(Xv)[:, 1]\\n            score = roc_auc_score(Yv, Pv)\\n            if score > best_score:\\n                best_score = score\\n                best_model = m\\n                best_n = n\\n                best_g = g\\n    print(\\\"Best g:\\\", best_g)\\n    print(\\\"Best n:\\\", best_n)\\n    return best_model\\n\\n\\noptimised_xgb = fit_xgb(X_train, y_train, X_val, y_val)\";\n",
       "                var nbb_formatted_code = \"from xgboost import XGBClassifier\\n\\n\\ndef fit_xgb(X, Y, Xv, Yv):\\n    best_n = None\\n    best_g = None\\n    best_score = 0\\n    best_model = None\\n    for n in [3, 5, 7, 9, 11]:\\n        for g in [0.5, 1, 1.5, 2, 5]:\\n            m = XGBClassifier(\\n                max_depth=n,\\n                gamma=g,\\n                objective=\\\"binary:logistic\\\",\\n                learning_rate=0.1,\\n                eval_metric=\\\"logloss\\\",\\n                min_child_weight=1,\\n                seed=42,\\n                use_label_encoder=False,\\n            )\\n            # print(\\\"Fitting model with n: {} and g: {}\\\".format(n, g))\\n            m.fit(X, Y)\\n            Pv = m.predict_proba(Xv)[:, 1]\\n            score = roc_auc_score(Yv, Pv)\\n            if score > best_score:\\n                best_score = score\\n                best_model = m\\n                best_n = n\\n                best_g = g\\n    print(\\\"Best g:\\\", best_g)\\n    print(\\\"Best n:\\\", best_n)\\n    return best_model\\n\\n\\noptimised_xgb = fit_xgb(X_train, y_train, X_val, y_val)\";\n",
       "                var nbb_cells = Jupyter.notebook.get_cells();\n",
       "                for (var i = 0; i < nbb_cells.length; ++i) {\n",
       "                    if (nbb_cells[i].input_prompt_number == nbb_cell_id) {\n",
       "                        if (nbb_cells[i].get_text() == nbb_unformatted_code) {\n",
       "                             nbb_cells[i].set_text(nbb_formatted_code);\n",
       "                        }\n",
       "                        break;\n",
       "                    }\n",
       "                }\n",
       "            }, 500);\n",
       "            "
      ],
      "text/plain": [
       "<IPython.core.display.Javascript object>"
      ]
     },
     "metadata": {},
     "output_type": "display_data"
    }
   ],
   "source": [
    "from xgboost import XGBClassifier\n",
    "\n",
    "\n",
    "def fit_xgb(X, Y, Xv, Yv):\n",
    "    best_n = None\n",
    "    best_g = None\n",
    "    best_score = 0\n",
    "    best_model = None\n",
    "    for n in [3, 5, 7, 9, 11]:\n",
    "        for g in [0.5, 1, 1.5, 2, 5]:\n",
    "            m = XGBClassifier(\n",
    "                max_depth=n,\n",
    "                gamma=g,\n",
    "                objective=\"binary:logistic\",\n",
    "                learning_rate=0.1,\n",
    "                eval_metric=\"logloss\",\n",
    "                min_child_weight=1,\n",
    "                seed=42,\n",
    "                use_label_encoder=False,\n",
    "            )\n",
    "            # print(\"Fitting model with n: {} and g: {}\".format(n, g))\n",
    "            m.fit(X, Y)\n",
    "            Pv = m.predict_proba(Xv)[:, 1]\n",
    "            score = roc_auc_score(Yv, Pv)\n",
    "            if score > best_score:\n",
    "                best_score = score\n",
    "                best_model = m\n",
    "                best_n = n\n",
    "                best_g = g\n",
    "    print(\"Best g:\", best_g)\n",
    "    print(\"Best n:\", best_n)\n",
    "    return best_model\n",
    "\n",
    "\n",
    "optimised_xgb = fit_xgb(X_train, y_train, X_val, y_val)"
   ]
  },
  {
   "cell_type": "code",
   "execution_count": 268,
   "id": "theoretical-welding",
   "metadata": {},
   "outputs": [
    {
     "name": "stderr",
     "output_type": "stream",
     "text": [
      "WARNING:matplotlib.legend:No artists with labels found to put in legend.  Note that artists whose label start with an underscore are ignored when legend() is called with no argument.\n"
     ]
    },
    {
     "data": {
      "image/png": "[encoded data removed]",
      "text/plain": [
       "<Figure size 432x288 with 1 Axes>"
      ]
     },
     "metadata": {
      "needs_background": "light"
     },
     "output_type": "display_data"
    },
    {
     "data": {
      "image/png": "[encoded data removed]",
      "text/plain": [
       "<Figure size 432x288 with 1 Axes>"
      ]
     },
     "metadata": {
      "needs_background": "light"
     },
     "output_type": "display_data"
    },
    {
     "data": {
      "application/javascript": [
       "\n",
       "            setTimeout(function() {\n",
       "                var nbb_cell_id = 268;\n",
       "                var nbb_unformatted_code = \"y_pred_prob = optimised_xgb.predict_proba(X_val)[:, 1]\\nfpr, tpr, thresholds = roc_curve(y_val, y_pred_prob, pos_label=1)\\nroc_auc = auc(fpr, tpr)\\nprecision, recall, thresholds = precision_recall_curve(y_val, y_pred_prob)\\navg_pr = average_precision_score(y_val, y_pred_prob)\\nplot_roc(fpr, tpr, roc_auc)\\nplot_pr(recall, precision, avg_pr)\";\n",
       "                var nbb_formatted_code = \"y_pred_prob = optimised_xgb.predict_proba(X_val)[:, 1]\\nfpr, tpr, thresholds = roc_curve(y_val, y_pred_prob, pos_label=1)\\nroc_auc = auc(fpr, tpr)\\nprecision, recall, thresholds = precision_recall_curve(y_val, y_pred_prob)\\navg_pr = average_precision_score(y_val, y_pred_prob)\\nplot_roc(fpr, tpr, roc_auc)\\nplot_pr(recall, precision, avg_pr)\";\n",
       "                var nbb_cells = Jupyter.notebook.get_cells();\n",
       "                for (var i = 0; i < nbb_cells.length; ++i) {\n",
       "                    if (nbb_cells[i].input_prompt_number == nbb_cell_id) {\n",
       "                        if (nbb_cells[i].get_text() == nbb_unformatted_code) {\n",
       "                             nbb_cells[i].set_text(nbb_formatted_code);\n",
       "                        }\n",
       "                        break;\n",
       "                    }\n",
       "                }\n",
       "            }, 500);\n",
       "            "
      ],
      "text/plain": [
       "<IPython.core.display.Javascript object>"
      ]
     },
     "metadata": {},
     "output_type": "display_data"
    }
   ],
   "source": [
    "y_pred_prob = optimised_xgb.predict_proba(X_val)[:, 1]\n",
    "fpr, tpr, thresholds = roc_curve(y_val, y_pred_prob, pos_label=1)\n",
    "roc_auc = auc(fpr, tpr)\n",
    "precision, recall, thresholds = precision_recall_curve(y_val, y_pred_prob)\n",
    "avg_pr = average_precision_score(y_val, y_pred_prob)\n",
    "plot_roc(fpr, tpr, roc_auc)\n",
    "plot_pr(recall, precision, avg_pr)"
   ]
  },
  {
   "cell_type": "code",
   "execution_count": 269,
   "id": "corresponding-spouse",
   "metadata": {},
   "outputs": [
    {
     "name": "stderr",
     "output_type": "stream",
     "text": [
      "WARNING:matplotlib.legend:No artists with labels found to put in legend.  Note that artists whose label start with an underscore are ignored when legend() is called with no argument.\n"
     ]
    },
    {
     "data": {
      "image/png": "[encoded data removed]",
      "text/plain": [
       "<Figure size 432x288 with 1 Axes>"
      ]
     },
     "metadata": {
      "needs_background": "light"
     },
     "output_type": "display_data"
    },
    {
     "data": {
      "image/png": "[encoded data removed]",
      "text/plain": [
       "<Figure size 432x288 with 1 Axes>"
      ]
     },
     "metadata": {
      "needs_background": "light"
     },
     "output_type": "display_data"
    },
    {
     "data": {
      "application/javascript": [
       "\n",
       "            setTimeout(function() {\n",
       "                var nbb_cell_id = 269;\n",
       "                var nbb_unformatted_code = \"y_pred_prob = optimised_xgb.predict_proba(X_test)[:, 1]\\nfpr, tpr, thresholds = roc_curve(y_test, y_pred_prob, pos_label=1)\\nroc_auc = auc(fpr, tpr)\\nprecision, recall, thresholds = precision_recall_curve(y_test, y_pred_prob)\\navg_pr = average_precision_score(y_test, y_pred_prob)\\nplot_roc(fpr, tpr, roc_auc)\\nplot_pr(recall, precision, avg_pr)\";\n",
       "                var nbb_formatted_code = \"y_pred_prob = optimised_xgb.predict_proba(X_test)[:, 1]\\nfpr, tpr, thresholds = roc_curve(y_test, y_pred_prob, pos_label=1)\\nroc_auc = auc(fpr, tpr)\\nprecision, recall, thresholds = precision_recall_curve(y_test, y_pred_prob)\\navg_pr = average_precision_score(y_test, y_pred_prob)\\nplot_roc(fpr, tpr, roc_auc)\\nplot_pr(recall, precision, avg_pr)\";\n",
       "                var nbb_cells = Jupyter.notebook.get_cells();\n",
       "                for (var i = 0; i < nbb_cells.length; ++i) {\n",
       "                    if (nbb_cells[i].input_prompt_number == nbb_cell_id) {\n",
       "                        if (nbb_cells[i].get_text() == nbb_unformatted_code) {\n",
       "                             nbb_cells[i].set_text(nbb_formatted_code);\n",
       "                        }\n",
       "                        break;\n",
       "                    }\n",
       "                }\n",
       "            }, 500);\n",
       "            "
      ],
      "text/plain": [
       "<IPython.core.display.Javascript object>"
      ]
     },
     "metadata": {},
     "output_type": "display_data"
    }
   ],
   "source": [
    "y_pred_prob = optimised_xgb.predict_proba(X_test)[:, 1]\n",
    "fpr, tpr, thresholds = roc_curve(y_test, y_pred_prob, pos_label=1)\n",
    "roc_auc = auc(fpr, tpr)\n",
    "precision, recall, thresholds = precision_recall_curve(y_test, y_pred_prob)\n",
    "avg_pr = average_precision_score(y_test, y_pred_prob)\n",
    "plot_roc(fpr, tpr, roc_auc)\n",
    "plot_pr(recall, precision, avg_pr)"
   ]
  },
  {
   "cell_type": "markdown",
   "id": "proved-trademark",
   "metadata": {},
   "source": [
    "## Drift Test ## "
   ]
  },
  {
   "cell_type": "code",
   "execution_count": 14,
   "id": "comic-panel",
   "metadata": {},
   "outputs": [
    {
     "data": {
      "application/javascript": [
       "\n",
       "            setTimeout(function() {\n",
       "                var nbb_cell_id = 14;\n",
       "                var nbb_unformatted_code = \"path = \\\"/path/\\\"\\ndataset = \\\"gemini\\\"\\nsamples = [10, 20, 50, 100, 200, 500, 1000, 2000]\\n# Number of random runs to average results over.\\nrandom_runs = 5\\n# Significance level.\\nsign_level = 0.05\\n# Whether to calculate accuracy for malignancy quantification.\\ncalc_acc = True\\n\\ndr_techniques = [\\\"NoRed\\\", \\\"SRP\\\",\\\"kPCA\\\",\\\"Isomap\\\"] #\\\"PCA\\\", \\\"BBSDs_FFNN\\\"] \\n# Statistical Tests\\nmd_tests = [\\\"MMD\\\", \\\"LSDD\\\"]\";\n",
       "                var nbb_formatted_code = \"path = \\\"/path/\\\"\\ndataset = \\\"gemini\\\"\\nsamples = [10, 20, 50, 100, 200, 500, 1000, 2000]\\n# Number of random runs to average results over.\\nrandom_runs = 5\\n# Significance level.\\nsign_level = 0.05\\n# Whether to calculate accuracy for malignancy quantification.\\ncalc_acc = True\\n\\ndr_techniques = [\\\"NoRed\\\", \\\"SRP\\\", \\\"kPCA\\\", \\\"Isomap\\\"]  # \\\"PCA\\\", \\\"BBSDs_FFNN\\\"]\\n# Statistical Tests\\nmd_tests = [\\\"MMD\\\", \\\"LSDD\\\"]\";\n",
       "                var nbb_cells = Jupyter.notebook.get_cells();\n",
       "                for (var i = 0; i < nbb_cells.length; ++i) {\n",
       "                    if (nbb_cells[i].input_prompt_number == nbb_cell_id) {\n",
       "                        if (nbb_cells[i].get_text() == nbb_unformatted_code) {\n",
       "                             nbb_cells[i].set_text(nbb_formatted_code);\n",
       "                        }\n",
       "                        break;\n",
       "                    }\n",
       "                }\n",
       "            }, 500);\n",
       "            "
      ],
      "text/plain": [
       "<IPython.core.display.Javascript object>"
      ]
     },
     "metadata": {},
     "output_type": "display_data"
    }
   ],
   "source": [
    "path = \"/path/\"\n",
    "dataset = \"gemini\"\n",
    "samples = [10, 20, 50, 100, 200, 500, 1000, 2000]\n",
    "# Number of random runs to average results over.\n",
    "random_runs = 5\n",
    "# Significance level.\n",
    "sign_level = 0.05\n",
    "# Whether to calculate accuracy for malignancy quantification.\n",
    "calc_acc = True\n",
    "na_cutoff = 5000\n",
    "dr_techniques = [\"NoRed\", \"SRP\", \"kPCA\", \"Isomap\"]  # \"PCA\", \"BBSDs_FFNN\"]\n",
    "# Statistical Tests\n",
    "md_tests = [\"MMD\", \"LSDD\"]"
   ]
  },
  {
   "cell_type": "code",
   "execution_count": 15,
   "id": "invalid-destiny",
   "metadata": {},
   "outputs": [
    {
     "name": "stderr",
     "output_type": "stream",
     "text": [
      "torch.range is deprecated and will be removed in a future release because its behavior is inconsistent with Python's range builtin. Instead, use torch.arange, which produces values in [start, end).\n",
      "2022-03-17 12:15:02,568 \u001b[1;37mINFO\u001b[0m cyclops.processors.base - Processing raw admin data...\n",
      "2022-03-17 12:15:02,571 \u001b[1;37mINFO\u001b[0m cyclops.processors.base - # samples: 10756, # encounters: 10756\n",
      "2022-03-17 12:15:02,574 \u001b[1;37mINFO\u001b[0m cyclops.processors.admin - # admin features: 2, # encounters: 10756\n"
     ]
    },
    {
     "name": "stdout",
     "output_type": "stream",
     "text": [
      "Shift pre-covid\n"
     ]
    },
    {
     "name": "stderr",
     "output_type": "stream",
     "text": [
      "2022-03-17 12:15:08,159 \u001b[1;37mINFO\u001b[0m cyclops.utils.profile - Finished executing function process in 5.590303 s\n"
     ]
    },
    {
     "name": "stdout",
     "output_type": "stream",
     "text": [
      "Random Run 0 : Sample 10\n",
      "No GPU detected, fall back on CPU.\n",
      "Shift p-vals:  0.3700000047683716\n",
      "Random Run 0 : Sample 20\n",
      "No GPU detected, fall back on CPU.\n",
      "Shift p-vals:  0.4099999964237213\n",
      "Random Run 0 : Sample 50\n",
      "No GPU detected, fall back on CPU.\n",
      "Shift p-vals:  0.8999999761581421\n",
      "Random Run 0 : Sample 100\n",
      "No GPU detected, fall back on CPU.\n",
      "Shift p-vals:  0.6499999761581421\n",
      "Random Run 0 : Sample 200\n",
      "No GPU detected, fall back on CPU.\n",
      "Shift p-vals:  0.550000011920929\n",
      "Random Run 0 : Sample 500\n",
      "No GPU detected, fall back on CPU.\n",
      "Shift p-vals:  0.25\n",
      "Random Run 0 : Sample 1000\n",
      "No GPU detected, fall back on CPU.\n",
      "Shift p-vals:  0.18000000715255737\n",
      "Random Run 0 : Sample 2000\n",
      "No GPU detected, fall back on CPU.\n"
     ]
    },
    {
     "name": "stderr",
     "output_type": "stream",
     "text": [
      "2022-03-17 12:15:18,876 \u001b[1;37mINFO\u001b[0m cyclops.processors.base - Processing raw admin data...\n",
      "2022-03-17 12:15:18,878 \u001b[1;37mINFO\u001b[0m cyclops.processors.base - # samples: 10756, # encounters: 10756\n",
      "2022-03-17 12:15:18,881 \u001b[1;37mINFO\u001b[0m cyclops.processors.admin - # admin features: 2, # encounters: 10756\n"
     ]
    },
    {
     "name": "stdout",
     "output_type": "stream",
     "text": [
      "Shift p-vals:  0.2199999988079071\n"
     ]
    },
    {
     "name": "stderr",
     "output_type": "stream",
     "text": [
      "2022-03-17 12:15:24,562 \u001b[1;37mINFO\u001b[0m cyclops.utils.profile - Finished executing function process in 5.687597 s\n"
     ]
    },
    {
     "name": "stdout",
     "output_type": "stream",
     "text": [
      "Random Run 1 : Sample 10\n",
      "No GPU detected, fall back on CPU.\n",
      "Shift p-vals:  0.9300000071525574\n",
      "Random Run 1 : Sample 20\n",
      "No GPU detected, fall back on CPU.\n",
      "Shift p-vals:  0.9100000262260437\n",
      "Random Run 1 : Sample 50\n",
      "No GPU detected, fall back on CPU.\n",
      "Shift p-vals:  0.8199999928474426\n",
      "Random Run 1 : Sample 100\n",
      "No GPU detected, fall back on CPU.\n",
      "Shift p-vals:  0.30000001192092896\n",
      "Random Run 1 : Sample 200\n",
      "No GPU detected, fall back on CPU.\n",
      "Shift p-vals:  0.009999999776482582\n",
      "Random Run 1 : Sample 500\n",
      "No GPU detected, fall back on CPU.\n",
      "Shift p-vals:  0.5099999904632568\n",
      "Random Run 1 : Sample 1000\n",
      "No GPU detected, fall back on CPU.\n",
      "Shift p-vals:  0.23999999463558197\n",
      "Random Run 1 : Sample 2000\n",
      "No GPU detected, fall back on CPU.\n"
     ]
    },
    {
     "name": "stderr",
     "output_type": "stream",
     "text": [
      "2022-03-17 12:15:34,876 \u001b[1;37mINFO\u001b[0m cyclops.processors.base - Processing raw admin data...\n",
      "2022-03-17 12:15:34,880 \u001b[1;37mINFO\u001b[0m cyclops.processors.base - # samples: 10756, # encounters: 10756\n",
      "2022-03-17 12:15:34,883 \u001b[1;37mINFO\u001b[0m cyclops.processors.admin - # admin features: 2, # encounters: 10756\n"
     ]
    },
    {
     "name": "stdout",
     "output_type": "stream",
     "text": [
      "Shift p-vals:  0.27000001072883606\n"
     ]
    },
    {
     "name": "stderr",
     "output_type": "stream",
     "text": [
      "2022-03-17 12:15:40,708 \u001b[1;37mINFO\u001b[0m cyclops.utils.profile - Finished executing function process in 5.832186 s\n"
     ]
    },
    {
     "name": "stdout",
     "output_type": "stream",
     "text": [
      "Random Run 2 : Sample 10\n",
      "No GPU detected, fall back on CPU.\n",
      "Shift p-vals:  0.17000000178813934\n",
      "Random Run 2 : Sample 20\n",
      "No GPU detected, fall back on CPU.\n",
      "Shift p-vals:  0.1599999964237213\n",
      "Random Run 2 : Sample 50\n",
      "No GPU detected, fall back on CPU.\n",
      "Shift p-vals:  0.12999999523162842\n",
      "Random Run 2 : Sample 100\n",
      "No GPU detected, fall back on CPU.\n",
      "Shift p-vals:  0.17000000178813934\n",
      "Random Run 2 : Sample 200\n",
      "No GPU detected, fall back on CPU.\n",
      "Shift p-vals:  0.15000000596046448\n",
      "Random Run 2 : Sample 500\n",
      "No GPU detected, fall back on CPU.\n",
      "Shift p-vals:  0.8500000238418579\n",
      "Random Run 2 : Sample 1000\n",
      "No GPU detected, fall back on CPU.\n",
      "Shift p-vals:  0.12999999523162842\n",
      "Random Run 2 : Sample 2000\n",
      "No GPU detected, fall back on CPU.\n"
     ]
    },
    {
     "name": "stderr",
     "output_type": "stream",
     "text": [
      "2022-03-17 12:15:51,375 \u001b[1;37mINFO\u001b[0m cyclops.processors.base - Processing raw admin data...\n",
      "2022-03-17 12:15:51,379 \u001b[1;37mINFO\u001b[0m cyclops.processors.base - # samples: 10756, # encounters: 10756\n",
      "2022-03-17 12:15:51,382 \u001b[1;37mINFO\u001b[0m cyclops.processors.admin - # admin features: 2, # encounters: 10756\n"
     ]
    },
    {
     "name": "stdout",
     "output_type": "stream",
     "text": [
      "Shift p-vals:  0.3499999940395355\n"
     ]
    },
    {
     "name": "stderr",
     "output_type": "stream",
     "text": [
      "2022-03-17 12:15:56,948 \u001b[1;37mINFO\u001b[0m cyclops.utils.profile - Finished executing function process in 5.573188 s\n"
     ]
    },
    {
     "name": "stdout",
     "output_type": "stream",
     "text": [
      "Random Run 3 : Sample 10\n",
      "No GPU detected, fall back on CPU.\n",
      "Shift p-vals:  0.7699999809265137\n",
      "Random Run 3 : Sample 20\n",
      "No GPU detected, fall back on CPU.\n",
      "Shift p-vals:  0.6100000143051147\n",
      "Random Run 3 : Sample 50\n",
      "No GPU detected, fall back on CPU.\n",
      "Shift p-vals:  0.6200000047683716\n",
      "Random Run 3 : Sample 100\n",
      "No GPU detected, fall back on CPU.\n",
      "Shift p-vals:  0.7400000095367432\n",
      "Random Run 3 : Sample 200\n",
      "No GPU detected, fall back on CPU.\n",
      "Shift p-vals:  0.029999999329447746\n",
      "Random Run 3 : Sample 500\n",
      "No GPU detected, fall back on CPU.\n",
      "Shift p-vals:  0.3400000035762787\n",
      "Random Run 3 : Sample 1000\n",
      "No GPU detected, fall back on CPU.\n",
      "Shift p-vals:  0.09000000357627869\n",
      "Random Run 3 : Sample 2000\n",
      "No GPU detected, fall back on CPU.\n"
     ]
    },
    {
     "name": "stderr",
     "output_type": "stream",
     "text": [
      "2022-03-17 12:16:07,767 \u001b[1;37mINFO\u001b[0m cyclops.processors.base - Processing raw admin data...\n",
      "2022-03-17 12:16:07,771 \u001b[1;37mINFO\u001b[0m cyclops.processors.base - # samples: 10756, # encounters: 10756\n",
      "2022-03-17 12:16:07,774 \u001b[1;37mINFO\u001b[0m cyclops.processors.admin - # admin features: 2, # encounters: 10756\n"
     ]
    },
    {
     "name": "stdout",
     "output_type": "stream",
     "text": [
      "Shift p-vals:  0.14000000059604645\n"
     ]
    },
    {
     "name": "stderr",
     "output_type": "stream",
     "text": [
      "2022-03-17 12:16:13,419 \u001b[1;37mINFO\u001b[0m cyclops.utils.profile - Finished executing function process in 5.651558 s\n"
     ]
    },
    {
     "name": "stdout",
     "output_type": "stream",
     "text": [
      "Random Run 4 : Sample 10\n",
      "No GPU detected, fall back on CPU.\n",
      "Shift p-vals:  0.7099999785423279\n",
      "Random Run 4 : Sample 20\n",
      "No GPU detected, fall back on CPU.\n",
      "Shift p-vals:  0.8199999928474426\n",
      "Random Run 4 : Sample 50\n",
      "No GPU detected, fall back on CPU.\n",
      "Shift p-vals:  0.07000000029802322\n",
      "Random Run 4 : Sample 100\n",
      "No GPU detected, fall back on CPU.\n",
      "Shift p-vals:  0.09000000357627869\n",
      "Random Run 4 : Sample 200\n",
      "No GPU detected, fall back on CPU.\n",
      "Shift p-vals:  0.019999999552965164\n",
      "Random Run 4 : Sample 500\n",
      "No GPU detected, fall back on CPU.\n",
      "Shift p-vals:  0.10999999940395355\n",
      "Random Run 4 : Sample 1000\n",
      "No GPU detected, fall back on CPU.\n",
      "Shift p-vals:  0.33000001311302185\n",
      "Random Run 4 : Sample 2000\n",
      "No GPU detected, fall back on CPU.\n"
     ]
    },
    {
     "name": "stderr",
     "output_type": "stream",
     "text": [
      "torch.range is deprecated and will be removed in a future release because its behavior is inconsistent with Python's range builtin. Instead, use torch.arange, which produces values in [start, end).\n",
      "2022-03-17 12:16:22,048 \u001b[1;37mINFO\u001b[0m cyclops.processors.base - Processing raw admin data...\n",
      "2022-03-17 12:16:22,052 \u001b[1;37mINFO\u001b[0m cyclops.processors.base - # samples: 10756, # encounters: 10756\n",
      "2022-03-17 12:16:22,055 \u001b[1;37mINFO\u001b[0m cyclops.processors.admin - # admin features: 2, # encounters: 10756\n"
     ]
    },
    {
     "name": "stdout",
     "output_type": "stream",
     "text": [
      "Shift p-vals:  0.7200000286102295\n",
      "Shift pre-covid\n"
     ]
    },
    {
     "name": "stderr",
     "output_type": "stream",
     "text": [
      "2022-03-17 12:16:28,154 \u001b[1;37mINFO\u001b[0m cyclops.utils.profile - Finished executing function process in 6.106497 s\n"
     ]
    },
    {
     "name": "stdout",
     "output_type": "stream",
     "text": [
      "Random Run 0 : Sample 10\n",
      "No GPU detected, fall back on CPU.\n",
      "Shift p-vals:  0.0\n",
      "Random Run 0 : Sample 20\n",
      "No GPU detected, fall back on CPU.\n",
      "Shift p-vals:  0.0\n",
      "Random Run 0 : Sample 50\n",
      "No GPU detected, fall back on CPU.\n",
      "Shift p-vals:  0.6800000071525574\n",
      "Random Run 0 : Sample 100\n",
      "No GPU detected, fall back on CPU.\n",
      "Shift p-vals:  0.2800000011920929\n",
      "Random Run 0 : Sample 200\n",
      "No GPU detected, fall back on CPU.\n",
      "Shift p-vals:  0.20999999344348907\n",
      "Random Run 0 : Sample 500\n",
      "No GPU detected, fall back on CPU.\n",
      "Shift p-vals:  0.7300000190734863\n",
      "Random Run 0 : Sample 1000\n",
      "No GPU detected, fall back on CPU.\n",
      "Shift p-vals:  0.8899999856948853\n",
      "Random Run 0 : Sample 2000\n",
      "No GPU detected, fall back on CPU.\n"
     ]
    },
    {
     "name": "stderr",
     "output_type": "stream",
     "text": [
      "2022-03-17 12:16:29,064 \u001b[1;37mINFO\u001b[0m cyclops.processors.base - Processing raw admin data...\n",
      "2022-03-17 12:16:29,067 \u001b[1;37mINFO\u001b[0m cyclops.processors.base - # samples: 10756, # encounters: 10756\n",
      "2022-03-17 12:16:29,070 \u001b[1;37mINFO\u001b[0m cyclops.processors.admin - # admin features: 2, # encounters: 10756\n"
     ]
    },
    {
     "name": "stdout",
     "output_type": "stream",
     "text": [
      "Shift p-vals:  0.8199999928474426\n"
     ]
    },
    {
     "name": "stderr",
     "output_type": "stream",
     "text": [
      "2022-03-17 12:16:34,553 \u001b[1;37mINFO\u001b[0m cyclops.utils.profile - Finished executing function process in 5.488147 s\n"
     ]
    },
    {
     "name": "stdout",
     "output_type": "stream",
     "text": [
      "Random Run 1 : Sample 10\n",
      "No GPU detected, fall back on CPU.\n",
      "Shift p-vals:  0.0\n",
      "Random Run 1 : Sample 20\n",
      "No GPU detected, fall back on CPU.\n",
      "Shift p-vals:  0.0\n",
      "Random Run 1 : Sample 50\n",
      "No GPU detected, fall back on CPU.\n",
      "Shift p-vals:  0.03999999910593033\n",
      "Random Run 1 : Sample 100\n",
      "No GPU detected, fall back on CPU.\n",
      "Shift p-vals:  0.1899999976158142\n",
      "Random Run 1 : Sample 200\n",
      "No GPU detected, fall back on CPU.\n",
      "Shift p-vals:  0.05000000074505806\n",
      "Random Run 1 : Sample 500\n",
      "No GPU detected, fall back on CPU.\n",
      "Shift p-vals:  0.1899999976158142\n",
      "Random Run 1 : Sample 1000\n",
      "No GPU detected, fall back on CPU.\n",
      "Shift p-vals:  0.7699999809265137\n",
      "Random Run 1 : Sample 2000\n",
      "No GPU detected, fall back on CPU.\n"
     ]
    },
    {
     "name": "stderr",
     "output_type": "stream",
     "text": [
      "2022-03-17 12:16:35,441 \u001b[1;37mINFO\u001b[0m cyclops.processors.base - Processing raw admin data...\n",
      "2022-03-17 12:16:35,444 \u001b[1;37mINFO\u001b[0m cyclops.processors.base - # samples: 10756, # encounters: 10756\n",
      "2022-03-17 12:16:35,447 \u001b[1;37mINFO\u001b[0m cyclops.processors.admin - # admin features: 2, # encounters: 10756\n"
     ]
    },
    {
     "name": "stdout",
     "output_type": "stream",
     "text": [
      "Shift p-vals:  0.949999988079071\n"
     ]
    },
    {
     "name": "stderr",
     "output_type": "stream",
     "text": [
      "2022-03-17 12:16:41,020 \u001b[1;37mINFO\u001b[0m cyclops.utils.profile - Finished executing function process in 5.579063 s\n"
     ]
    },
    {
     "name": "stdout",
     "output_type": "stream",
     "text": [
      "Random Run 2 : Sample 10\n",
      "No GPU detected, fall back on CPU.\n",
      "Shift p-vals:  0.14000000059604645\n",
      "Random Run 2 : Sample 20\n",
      "No GPU detected, fall back on CPU.\n",
      "Shift p-vals:  0.17000000178813934\n",
      "Random Run 2 : Sample 50\n",
      "No GPU detected, fall back on CPU.\n",
      "Shift p-vals:  0.23000000417232513\n",
      "Random Run 2 : Sample 100\n",
      "No GPU detected, fall back on CPU.\n",
      "Shift p-vals:  0.05000000074505806\n",
      "Random Run 2 : Sample 200\n",
      "No GPU detected, fall back on CPU.\n",
      "Shift p-vals:  0.20000000298023224\n",
      "Random Run 2 : Sample 500\n",
      "No GPU detected, fall back on CPU.\n",
      "Shift p-vals:  0.17000000178813934\n",
      "Random Run 2 : Sample 1000\n",
      "No GPU detected, fall back on CPU.\n",
      "Shift p-vals:  0.6700000166893005\n",
      "Random Run 2 : Sample 2000\n",
      "No GPU detected, fall back on CPU.\n"
     ]
    },
    {
     "name": "stderr",
     "output_type": "stream",
     "text": [
      "2022-03-17 12:16:41,893 \u001b[1;37mINFO\u001b[0m cyclops.processors.base - Processing raw admin data...\n",
      "2022-03-17 12:16:41,895 \u001b[1;37mINFO\u001b[0m cyclops.processors.base - # samples: 10756, # encounters: 10756\n",
      "2022-03-17 12:16:41,899 \u001b[1;37mINFO\u001b[0m cyclops.processors.admin - # admin features: 2, # encounters: 10756\n"
     ]
    },
    {
     "name": "stdout",
     "output_type": "stream",
     "text": [
      "Shift p-vals:  0.2800000011920929\n"
     ]
    },
    {
     "name": "stderr",
     "output_type": "stream",
     "text": [
      "2022-03-17 12:16:47,459 \u001b[1;37mINFO\u001b[0m cyclops.utils.profile - Finished executing function process in 5.566623 s\n"
     ]
    },
    {
     "name": "stdout",
     "output_type": "stream",
     "text": [
      "Random Run 3 : Sample 10\n",
      "No GPU detected, fall back on CPU.\n",
      "Shift p-vals:  0.49000000953674316\n",
      "Random Run 3 : Sample 20\n",
      "No GPU detected, fall back on CPU.\n",
      "Shift p-vals:  0.09000000357627869\n",
      "Random Run 3 : Sample 50\n",
      "No GPU detected, fall back on CPU.\n",
      "Shift p-vals:  0.10999999940395355\n",
      "Random Run 3 : Sample 100\n",
      "No GPU detected, fall back on CPU.\n",
      "Shift p-vals:  0.800000011920929\n",
      "Random Run 3 : Sample 200\n",
      "No GPU detected, fall back on CPU.\n",
      "Shift p-vals:  0.5199999809265137\n",
      "Random Run 3 : Sample 500\n",
      "No GPU detected, fall back on CPU.\n",
      "Shift p-vals:  0.25\n",
      "Random Run 3 : Sample 1000\n",
      "No GPU detected, fall back on CPU.\n",
      "Shift p-vals:  0.7599999904632568\n",
      "Random Run 3 : Sample 2000\n",
      "No GPU detected, fall back on CPU.\n"
     ]
    },
    {
     "name": "stderr",
     "output_type": "stream",
     "text": [
      "2022-03-17 12:16:48,342 \u001b[1;37mINFO\u001b[0m cyclops.processors.base - Processing raw admin data...\n",
      "2022-03-17 12:16:48,344 \u001b[1;37mINFO\u001b[0m cyclops.processors.base - # samples: 10756, # encounters: 10756\n",
      "2022-03-17 12:16:48,347 \u001b[1;37mINFO\u001b[0m cyclops.processors.admin - # admin features: 2, # encounters: 10756\n"
     ]
    },
    {
     "name": "stdout",
     "output_type": "stream",
     "text": [
      "Shift p-vals:  0.8600000143051147\n"
     ]
    },
    {
     "name": "stderr",
     "output_type": "stream",
     "text": [
      "2022-03-17 12:16:54,022 \u001b[1;37mINFO\u001b[0m cyclops.utils.profile - Finished executing function process in 5.680637 s\n"
     ]
    },
    {
     "name": "stdout",
     "output_type": "stream",
     "text": [
      "Random Run 4 : Sample 10\n",
      "No GPU detected, fall back on CPU.\n",
      "Shift p-vals:  0.009999999776482582\n",
      "Random Run 4 : Sample 20\n",
      "No GPU detected, fall back on CPU.\n",
      "Shift p-vals:  0.05000000074505806\n",
      "Random Run 4 : Sample 50\n",
      "No GPU detected, fall back on CPU.\n",
      "Shift p-vals:  0.12999999523162842\n",
      "Random Run 4 : Sample 100\n",
      "No GPU detected, fall back on CPU.\n",
      "Shift p-vals:  0.17000000178813934\n",
      "Random Run 4 : Sample 200\n",
      "No GPU detected, fall back on CPU.\n",
      "Shift p-vals:  0.49000000953674316\n",
      "Random Run 4 : Sample 500\n",
      "No GPU detected, fall back on CPU.\n",
      "Shift p-vals:  0.8500000238418579\n",
      "Random Run 4 : Sample 1000\n",
      "No GPU detected, fall back on CPU.\n",
      "Shift p-vals:  0.8700000047683716\n",
      "Random Run 4 : Sample 2000\n",
      "No GPU detected, fall back on CPU.\n"
     ]
    },
    {
     "name": "stderr",
     "output_type": "stream",
     "text": [
      "torch.range is deprecated and will be removed in a future release because its behavior is inconsistent with Python's range builtin. Instead, use torch.arange, which produces values in [start, end).\n",
      "2022-03-17 12:16:54,900 \u001b[1;37mINFO\u001b[0m cyclops.processors.base - Processing raw admin data...\n",
      "2022-03-17 12:16:54,904 \u001b[1;37mINFO\u001b[0m cyclops.processors.base - # samples: 10756, # encounters: 10756\n",
      "2022-03-17 12:16:54,908 \u001b[1;37mINFO\u001b[0m cyclops.processors.admin - # admin features: 2, # encounters: 10756\n"
     ]
    },
    {
     "name": "stdout",
     "output_type": "stream",
     "text": [
      "Shift p-vals:  0.8799999952316284\n",
      "Shift pre-covid\n"
     ]
    },
    {
     "name": "stderr",
     "output_type": "stream",
     "text": [
      "2022-03-17 12:17:00,446 \u001b[1;37mINFO\u001b[0m cyclops.utils.profile - Finished executing function process in 5.546026 s\n"
     ]
    },
    {
     "name": "stdout",
     "output_type": "stream",
     "text": [
      "Random Run 0 : Sample 10\n",
      "No GPU detected, fall back on CPU.\n",
      "Shift p-vals:  0.8199999928474426\n",
      "Random Run 0 : Sample 20\n",
      "No GPU detected, fall back on CPU.\n",
      "Shift p-vals:  0.17000000178813934\n",
      "Random Run 0 : Sample 50\n",
      "No GPU detected, fall back on CPU.\n",
      "Shift p-vals:  0.7300000190734863\n",
      "Random Run 0 : Sample 100\n",
      "No GPU detected, fall back on CPU.\n",
      "Shift p-vals:  0.17000000178813934\n",
      "Random Run 0 : Sample 200\n",
      "No GPU detected, fall back on CPU.\n",
      "Shift p-vals:  0.8299999833106995\n",
      "Random Run 0 : Sample 500\n",
      "No GPU detected, fall back on CPU.\n",
      "Shift p-vals:  0.550000011920929\n",
      "Random Run 0 : Sample 1000\n",
      "No GPU detected, fall back on CPU.\n",
      "Shift p-vals:  0.8600000143051147\n",
      "Random Run 0 : Sample 2000\n",
      "No GPU detected, fall back on CPU.\n"
     ]
    },
    {
     "name": "stderr",
     "output_type": "stream",
     "text": [
      "2022-03-17 12:17:10,913 \u001b[1;37mINFO\u001b[0m cyclops.processors.base - Processing raw admin data...\n",
      "2022-03-17 12:17:10,915 \u001b[1;37mINFO\u001b[0m cyclops.processors.base - # samples: 10756, # encounters: 10756\n",
      "2022-03-17 12:17:10,920 \u001b[1;37mINFO\u001b[0m cyclops.processors.admin - # admin features: 2, # encounters: 10756\n"
     ]
    },
    {
     "name": "stdout",
     "output_type": "stream",
     "text": [
      "Shift p-vals:  0.36000001430511475\n"
     ]
    },
    {
     "name": "stderr",
     "output_type": "stream",
     "text": [
      "2022-03-17 12:17:16,538 \u001b[1;37mINFO\u001b[0m cyclops.utils.profile - Finished executing function process in 5.624691 s\n"
     ]
    },
    {
     "name": "stdout",
     "output_type": "stream",
     "text": [
      "Random Run 1 : Sample 10\n",
      "No GPU detected, fall back on CPU.\n",
      "Shift p-vals:  0.6899999976158142\n",
      "Random Run 1 : Sample 20\n",
      "No GPU detected, fall back on CPU.\n",
      "Shift p-vals:  0.5199999809265137\n",
      "Random Run 1 : Sample 50\n",
      "No GPU detected, fall back on CPU.\n",
      "Shift p-vals:  0.8600000143051147\n",
      "Random Run 1 : Sample 100\n",
      "No GPU detected, fall back on CPU.\n",
      "Shift p-vals:  0.3400000035762787\n",
      "Random Run 1 : Sample 200\n",
      "No GPU detected, fall back on CPU.\n",
      "Shift p-vals:  0.6000000238418579\n",
      "Random Run 1 : Sample 500\n",
      "No GPU detected, fall back on CPU.\n",
      "Shift p-vals:  0.41999998688697815\n",
      "Random Run 1 : Sample 1000\n",
      "No GPU detected, fall back on CPU.\n",
      "Shift p-vals:  0.8100000023841858\n",
      "Random Run 1 : Sample 2000\n",
      "No GPU detected, fall back on CPU.\n"
     ]
    },
    {
     "name": "stderr",
     "output_type": "stream",
     "text": [
      "2022-03-17 12:17:25,136 \u001b[1;37mINFO\u001b[0m cyclops.processors.base - Processing raw admin data...\n",
      "2022-03-17 12:17:25,138 \u001b[1;37mINFO\u001b[0m cyclops.processors.base - # samples: 10756, # encounters: 10756\n",
      "2022-03-17 12:17:25,143 \u001b[1;37mINFO\u001b[0m cyclops.processors.admin - # admin features: 2, # encounters: 10756\n"
     ]
    },
    {
     "name": "stdout",
     "output_type": "stream",
     "text": [
      "Shift p-vals:  0.36000001430511475\n"
     ]
    },
    {
     "name": "stderr",
     "output_type": "stream",
     "text": [
      "2022-03-17 12:17:30,894 \u001b[1;37mINFO\u001b[0m cyclops.utils.profile - Finished executing function process in 5.757750 s\n"
     ]
    },
    {
     "name": "stdout",
     "output_type": "stream",
     "text": [
      "Random Run 2 : Sample 10\n",
      "No GPU detected, fall back on CPU.\n",
      "Shift p-vals:  0.5600000023841858\n",
      "Random Run 2 : Sample 20\n",
      "No GPU detected, fall back on CPU.\n",
      "Shift p-vals:  0.5\n",
      "Random Run 2 : Sample 50\n",
      "No GPU detected, fall back on CPU.\n",
      "Shift p-vals:  0.27000001072883606\n",
      "Random Run 2 : Sample 100\n",
      "No GPU detected, fall back on CPU.\n",
      "Shift p-vals:  0.4300000071525574\n",
      "Random Run 2 : Sample 200\n",
      "No GPU detected, fall back on CPU.\n",
      "Shift p-vals:  0.28999999165534973\n",
      "Random Run 2 : Sample 500\n",
      "No GPU detected, fall back on CPU.\n",
      "Shift p-vals:  0.9800000190734863\n",
      "Random Run 2 : Sample 1000\n",
      "No GPU detected, fall back on CPU.\n",
      "Shift p-vals:  0.5699999928474426\n",
      "Random Run 2 : Sample 2000\n",
      "No GPU detected, fall back on CPU.\n"
     ]
    },
    {
     "name": "stderr",
     "output_type": "stream",
     "text": [
      "2022-03-17 12:17:41,214 \u001b[1;37mINFO\u001b[0m cyclops.processors.base - Processing raw admin data...\n",
      "2022-03-17 12:17:41,220 \u001b[1;37mINFO\u001b[0m cyclops.processors.base - # samples: 10756, # encounters: 10756\n",
      "2022-03-17 12:17:41,223 \u001b[1;37mINFO\u001b[0m cyclops.processors.admin - # admin features: 2, # encounters: 10756\n"
     ]
    },
    {
     "name": "stdout",
     "output_type": "stream",
     "text": [
      "Shift p-vals:  0.6700000166893005\n"
     ]
    },
    {
     "name": "stderr",
     "output_type": "stream",
     "text": [
      "2022-03-17 12:17:46,967 \u001b[1;37mINFO\u001b[0m cyclops.utils.profile - Finished executing function process in 5.752870 s\n"
     ]
    },
    {
     "name": "stdout",
     "output_type": "stream",
     "text": [
      "Random Run 3 : Sample 10\n",
      "No GPU detected, fall back on CPU.\n",
      "Shift p-vals:  0.7400000095367432\n",
      "Random Run 3 : Sample 20\n",
      "No GPU detected, fall back on CPU.\n",
      "Shift p-vals:  0.7799999713897705\n",
      "Random Run 3 : Sample 50\n",
      "No GPU detected, fall back on CPU.\n",
      "Shift p-vals:  0.2800000011920929\n",
      "Random Run 3 : Sample 100\n",
      "No GPU detected, fall back on CPU.\n",
      "Shift p-vals:  0.7900000214576721\n",
      "Random Run 3 : Sample 200\n",
      "No GPU detected, fall back on CPU.\n",
      "Shift p-vals:  0.6800000071525574\n",
      "Random Run 3 : Sample 500\n",
      "No GPU detected, fall back on CPU.\n",
      "Shift p-vals:  0.5099999904632568\n",
      "Random Run 3 : Sample 1000\n",
      "No GPU detected, fall back on CPU.\n",
      "Shift p-vals:  0.6700000166893005\n",
      "Random Run 3 : Sample 2000\n",
      "No GPU detected, fall back on CPU.\n"
     ]
    },
    {
     "name": "stderr",
     "output_type": "stream",
     "text": [
      "2022-03-17 12:17:57,723 \u001b[1;37mINFO\u001b[0m cyclops.processors.base - Processing raw admin data...\n",
      "2022-03-17 12:17:57,729 \u001b[1;37mINFO\u001b[0m cyclops.processors.base - # samples: 10756, # encounters: 10756\n",
      "2022-03-17 12:17:57,732 \u001b[1;37mINFO\u001b[0m cyclops.processors.admin - # admin features: 2, # encounters: 10756\n"
     ]
    },
    {
     "name": "stdout",
     "output_type": "stream",
     "text": [
      "Shift p-vals:  0.1899999976158142\n"
     ]
    },
    {
     "name": "stderr",
     "output_type": "stream",
     "text": [
      "2022-03-17 12:18:03,511 \u001b[1;37mINFO\u001b[0m cyclops.utils.profile - Finished executing function process in 5.788460 s\n"
     ]
    },
    {
     "name": "stdout",
     "output_type": "stream",
     "text": [
      "Random Run 4 : Sample 10\n",
      "No GPU detected, fall back on CPU.\n",
      "Shift p-vals:  0.8799999952316284\n",
      "Random Run 4 : Sample 20\n",
      "No GPU detected, fall back on CPU.\n",
      "Shift p-vals:  0.27000001072883606\n",
      "Random Run 4 : Sample 50\n",
      "No GPU detected, fall back on CPU.\n",
      "Shift p-vals:  0.9700000286102295\n",
      "Random Run 4 : Sample 100\n",
      "No GPU detected, fall back on CPU.\n",
      "Shift p-vals:  0.03999999910593033\n",
      "Random Run 4 : Sample 200\n",
      "No GPU detected, fall back on CPU.\n",
      "Shift p-vals:  0.09000000357627869\n",
      "Random Run 4 : Sample 500\n",
      "No GPU detected, fall back on CPU.\n",
      "Shift p-vals:  0.4399999976158142\n",
      "Random Run 4 : Sample 1000\n",
      "No GPU detected, fall back on CPU.\n",
      "Shift p-vals:  0.7400000095367432\n",
      "Random Run 4 : Sample 2000\n",
      "No GPU detected, fall back on CPU.\n"
     ]
    },
    {
     "name": "stderr",
     "output_type": "stream",
     "text": [
      "torch.range is deprecated and will be removed in a future release because its behavior is inconsistent with Python's range builtin. Instead, use torch.arange, which produces values in [start, end).\n",
      "2022-03-17 12:18:14,076 \u001b[1;37mINFO\u001b[0m cyclops.processors.base - Processing raw admin data...\n",
      "2022-03-17 12:18:14,078 \u001b[1;37mINFO\u001b[0m cyclops.processors.base - # samples: 10756, # encounters: 10756\n",
      "2022-03-17 12:18:14,083 \u001b[1;37mINFO\u001b[0m cyclops.processors.admin - # admin features: 2, # encounters: 10756\n"
     ]
    },
    {
     "name": "stdout",
     "output_type": "stream",
     "text": [
      "Shift p-vals:  0.3199999928474426\n",
      "Shift pre-covid\n"
     ]
    },
    {
     "name": "stderr",
     "output_type": "stream",
     "text": [
      "2022-03-17 12:18:19,678 \u001b[1;37mINFO\u001b[0m cyclops.utils.profile - Finished executing function process in 5.602117 s\n"
     ]
    },
    {
     "name": "stdout",
     "output_type": "stream",
     "text": [
      "Random Run 0 : Sample 10\n",
      "No GPU detected, fall back on CPU.\n",
      "Shift p-vals:  0.05999999865889549\n",
      "Random Run 0 : Sample 20\n",
      "No GPU detected, fall back on CPU.\n",
      "Shift p-vals:  0.20000000298023224\n",
      "Random Run 0 : Sample 50\n",
      "No GPU detected, fall back on CPU.\n",
      "Shift p-vals:  0.5600000023841858\n",
      "Random Run 0 : Sample 100\n",
      "No GPU detected, fall back on CPU.\n",
      "Shift p-vals:  0.5299999713897705\n",
      "Random Run 0 : Sample 200\n",
      "No GPU detected, fall back on CPU.\n",
      "Shift p-vals:  0.18000000715255737\n",
      "Random Run 0 : Sample 500\n",
      "No GPU detected, fall back on CPU.\n",
      "Shift p-vals:  0.38999998569488525\n",
      "Random Run 0 : Sample 1000\n",
      "No GPU detected, fall back on CPU.\n",
      "Shift p-vals:  0.6700000166893005\n",
      "Random Run 0 : Sample 2000\n",
      "No GPU detected, fall back on CPU.\n"
     ]
    },
    {
     "name": "stderr",
     "output_type": "stream",
     "text": [
      "2022-03-17 12:18:20,508 \u001b[1;37mINFO\u001b[0m cyclops.processors.base - Processing raw admin data...\n",
      "2022-03-17 12:18:20,510 \u001b[1;37mINFO\u001b[0m cyclops.processors.base - # samples: 10756, # encounters: 10756\n",
      "2022-03-17 12:18:20,513 \u001b[1;37mINFO\u001b[0m cyclops.processors.admin - # admin features: 2, # encounters: 10756\n"
     ]
    },
    {
     "name": "stdout",
     "output_type": "stream",
     "text": [
      "Shift p-vals:  0.7300000190734863\n"
     ]
    },
    {
     "name": "stderr",
     "output_type": "stream",
     "text": [
      "2022-03-17 12:18:26,171 \u001b[1;37mINFO\u001b[0m cyclops.utils.profile - Finished executing function process in 5.663165 s\n"
     ]
    },
    {
     "name": "stdout",
     "output_type": "stream",
     "text": [
      "Random Run 1 : Sample 10\n",
      "No GPU detected, fall back on CPU.\n",
      "Shift p-vals:  0.23999999463558197\n",
      "Random Run 1 : Sample 20\n",
      "No GPU detected, fall back on CPU.\n",
      "Shift p-vals:  0.5400000214576721\n",
      "Random Run 1 : Sample 50\n",
      "No GPU detected, fall back on CPU.\n",
      "Shift p-vals:  0.9200000166893005\n",
      "Random Run 1 : Sample 100\n",
      "No GPU detected, fall back on CPU.\n",
      "Shift p-vals:  0.5799999833106995\n",
      "Random Run 1 : Sample 200\n",
      "No GPU detected, fall back on CPU.\n",
      "Shift p-vals:  0.949999988079071\n",
      "Random Run 1 : Sample 500\n",
      "No GPU detected, fall back on CPU.\n",
      "Shift p-vals:  0.5400000214576721\n",
      "Random Run 1 : Sample 1000\n",
      "No GPU detected, fall back on CPU.\n",
      "Shift p-vals:  0.4099999964237213\n",
      "Random Run 1 : Sample 2000\n",
      "No GPU detected, fall back on CPU.\n"
     ]
    },
    {
     "name": "stderr",
     "output_type": "stream",
     "text": [
      "2022-03-17 12:18:27,095 \u001b[1;37mINFO\u001b[0m cyclops.processors.base - Processing raw admin data...\n",
      "2022-03-17 12:18:27,097 \u001b[1;37mINFO\u001b[0m cyclops.processors.base - # samples: 10756, # encounters: 10756\n",
      "2022-03-17 12:18:27,100 \u001b[1;37mINFO\u001b[0m cyclops.processors.admin - # admin features: 2, # encounters: 10756\n"
     ]
    },
    {
     "name": "stdout",
     "output_type": "stream",
     "text": [
      "Shift p-vals:  0.28999999165534973\n"
     ]
    },
    {
     "name": "stderr",
     "output_type": "stream",
     "text": [
      "2022-03-17 12:18:32,783 \u001b[1;37mINFO\u001b[0m cyclops.utils.profile - Finished executing function process in 5.688721 s\n"
     ]
    },
    {
     "name": "stdout",
     "output_type": "stream",
     "text": [
      "Random Run 2 : Sample 10\n",
      "No GPU detected, fall back on CPU.\n",
      "Shift p-vals:  0.3100000023841858\n",
      "Random Run 2 : Sample 20\n",
      "No GPU detected, fall back on CPU.\n",
      "Shift p-vals:  0.75\n",
      "Random Run 2 : Sample 50\n",
      "No GPU detected, fall back on CPU.\n",
      "Shift p-vals:  0.23000000417232513\n",
      "Random Run 2 : Sample 100\n",
      "No GPU detected, fall back on CPU.\n",
      "Shift p-vals:  0.2199999988079071\n",
      "Random Run 2 : Sample 200\n",
      "No GPU detected, fall back on CPU.\n",
      "Shift p-vals:  0.3499999940395355\n",
      "Random Run 2 : Sample 500\n",
      "No GPU detected, fall back on CPU.\n",
      "Shift p-vals:  0.6299999952316284\n",
      "Random Run 2 : Sample 1000\n",
      "No GPU detected, fall back on CPU.\n",
      "Shift p-vals:  0.949999988079071\n",
      "Random Run 2 : Sample 2000\n",
      "No GPU detected, fall back on CPU.\n"
     ]
    },
    {
     "name": "stderr",
     "output_type": "stream",
     "text": [
      "2022-03-17 12:18:33,632 \u001b[1;37mINFO\u001b[0m cyclops.processors.base - Processing raw admin data...\n",
      "2022-03-17 12:18:33,635 \u001b[1;37mINFO\u001b[0m cyclops.processors.base - # samples: 10756, # encounters: 10756\n",
      "2022-03-17 12:18:33,638 \u001b[1;37mINFO\u001b[0m cyclops.processors.admin - # admin features: 2, # encounters: 10756\n"
     ]
    },
    {
     "name": "stdout",
     "output_type": "stream",
     "text": [
      "Shift p-vals:  0.44999998807907104\n"
     ]
    },
    {
     "name": "stderr",
     "output_type": "stream",
     "text": [
      "2022-03-17 12:18:39,417 \u001b[1;37mINFO\u001b[0m cyclops.utils.profile - Finished executing function process in 5.784654 s\n"
     ]
    },
    {
     "name": "stdout",
     "output_type": "stream",
     "text": [
      "Random Run 3 : Sample 10\n",
      "No GPU detected, fall back on CPU.\n",
      "Shift p-vals:  0.8999999761581421\n",
      "Random Run 3 : Sample 20\n",
      "No GPU detected, fall back on CPU.\n",
      "Shift p-vals:  0.5799999833106995\n",
      "Random Run 3 : Sample 50\n",
      "No GPU detected, fall back on CPU.\n",
      "Shift p-vals:  0.6100000143051147\n",
      "Random Run 3 : Sample 100\n",
      "No GPU detected, fall back on CPU.\n",
      "Shift p-vals:  0.9200000166893005\n",
      "Random Run 3 : Sample 200\n",
      "No GPU detected, fall back on CPU.\n",
      "Shift p-vals:  0.6100000143051147\n",
      "Random Run 3 : Sample 500\n",
      "No GPU detected, fall back on CPU.\n",
      "Shift p-vals:  0.09000000357627869\n",
      "Random Run 3 : Sample 1000\n",
      "No GPU detected, fall back on CPU.\n",
      "Shift p-vals:  0.5699999928474426\n",
      "Random Run 3 : Sample 2000\n",
      "No GPU detected, fall back on CPU.\n"
     ]
    },
    {
     "name": "stderr",
     "output_type": "stream",
     "text": [
      "2022-03-17 12:18:40,316 \u001b[1;37mINFO\u001b[0m cyclops.processors.base - Processing raw admin data...\n",
      "2022-03-17 12:18:40,319 \u001b[1;37mINFO\u001b[0m cyclops.processors.base - # samples: 10756, # encounters: 10756\n",
      "2022-03-17 12:18:40,322 \u001b[1;37mINFO\u001b[0m cyclops.processors.admin - # admin features: 2, # encounters: 10756\n"
     ]
    },
    {
     "name": "stdout",
     "output_type": "stream",
     "text": [
      "Shift p-vals:  0.6100000143051147\n"
     ]
    },
    {
     "name": "stderr",
     "output_type": "stream",
     "text": [
      "2022-03-17 12:18:46,132 \u001b[1;37mINFO\u001b[0m cyclops.utils.profile - Finished executing function process in 5.814805 s\n"
     ]
    },
    {
     "name": "stdout",
     "output_type": "stream",
     "text": [
      "Random Run 4 : Sample 10\n",
      "No GPU detected, fall back on CPU.\n",
      "Shift p-vals:  0.2199999988079071\n",
      "Random Run 4 : Sample 20\n",
      "No GPU detected, fall back on CPU.\n",
      "Shift p-vals:  0.3199999928474426\n",
      "Random Run 4 : Sample 50\n",
      "No GPU detected, fall back on CPU.\n",
      "Shift p-vals:  1.0\n",
      "Random Run 4 : Sample 100\n",
      "No GPU detected, fall back on CPU.\n",
      "Shift p-vals:  0.44999998807907104\n",
      "Random Run 4 : Sample 200\n",
      "No GPU detected, fall back on CPU.\n",
      "Shift p-vals:  0.3700000047683716\n",
      "Random Run 4 : Sample 500\n",
      "No GPU detected, fall back on CPU.\n",
      "Shift p-vals:  0.75\n",
      "Random Run 4 : Sample 1000\n",
      "No GPU detected, fall back on CPU.\n",
      "Shift p-vals:  0.9700000286102295\n",
      "Random Run 4 : Sample 2000\n",
      "No GPU detected, fall back on CPU.\n"
     ]
    },
    {
     "name": "stderr",
     "output_type": "stream",
     "text": [
      "torch.range is deprecated and will be removed in a future release because its behavior is inconsistent with Python's range builtin. Instead, use torch.arange, which produces values in [start, end).\n",
      "2022-03-17 12:18:47,013 \u001b[1;37mINFO\u001b[0m cyclops.processors.base - Processing raw admin data...\n",
      "2022-03-17 12:18:47,015 \u001b[1;37mINFO\u001b[0m cyclops.processors.base - # samples: 10756, # encounters: 10756\n",
      "2022-03-17 12:18:47,019 \u001b[1;37mINFO\u001b[0m cyclops.processors.admin - # admin features: 2, # encounters: 10756\n"
     ]
    },
    {
     "name": "stdout",
     "output_type": "stream",
     "text": [
      "Shift p-vals:  0.1599999964237213\n",
      "Shift pre-covid\n"
     ]
    },
    {
     "name": "stderr",
     "output_type": "stream",
     "text": [
      "2022-03-17 12:18:52,637 \u001b[1;37mINFO\u001b[0m cyclops.utils.profile - Finished executing function process in 5.624316 s\n"
     ]
    },
    {
     "name": "stdout",
     "output_type": "stream",
     "text": [
      "Random Run 0 : Sample 10\n",
      "No GPU detected, fall back on CPU.\n",
      "Shift p-vals:  0.7699999809265137\n",
      "Random Run 0 : Sample 20\n",
      "No GPU detected, fall back on CPU.\n",
      "Shift p-vals:  0.8999999761581421\n",
      "Random Run 0 : Sample 50\n",
      "No GPU detected, fall back on CPU.\n",
      "Shift p-vals:  0.05000000074505806\n",
      "Random Run 0 : Sample 100\n",
      "No GPU detected, fall back on CPU.\n",
      "Shift p-vals:  0.9800000190734863\n",
      "Random Run 0 : Sample 200\n",
      "No GPU detected, fall back on CPU.\n",
      "Shift p-vals:  0.49000000953674316\n",
      "Random Run 0 : Sample 500\n",
      "No GPU detected, fall back on CPU.\n",
      "Shift p-vals:  0.23000000417232513\n",
      "Random Run 0 : Sample 1000\n",
      "No GPU detected, fall back on CPU.\n",
      "Shift p-vals:  0.09000000357627869\n",
      "Random Run 0 : Sample 2000\n",
      "No GPU detected, fall back on CPU.\n"
     ]
    },
    {
     "name": "stderr",
     "output_type": "stream",
     "text": [
      "2022-03-17 12:19:07,641 \u001b[1;37mINFO\u001b[0m cyclops.processors.base - Processing raw admin data...\n",
      "2022-03-17 12:19:07,643 \u001b[1;37mINFO\u001b[0m cyclops.processors.base - # samples: 10756, # encounters: 10756\n",
      "2022-03-17 12:19:07,647 \u001b[1;37mINFO\u001b[0m cyclops.processors.admin - # admin features: 2, # encounters: 10756\n"
     ]
    },
    {
     "name": "stdout",
     "output_type": "stream",
     "text": [
      "Shift p-vals:  0.30000001192092896\n"
     ]
    },
    {
     "name": "stderr",
     "output_type": "stream",
     "text": [
      "2022-03-17 12:19:13,247 \u001b[1;37mINFO\u001b[0m cyclops.utils.profile - Finished executing function process in 5.606060 s\n"
     ]
    },
    {
     "name": "stdout",
     "output_type": "stream",
     "text": [
      "Random Run 1 : Sample 10\n",
      "No GPU detected, fall back on CPU.\n",
      "Shift p-vals:  0.699999988079071\n",
      "Random Run 1 : Sample 20\n",
      "No GPU detected, fall back on CPU.\n",
      "Shift p-vals:  0.9399999976158142\n",
      "Random Run 1 : Sample 50\n",
      "No GPU detected, fall back on CPU.\n",
      "Shift p-vals:  0.75\n",
      "Random Run 1 : Sample 100\n",
      "No GPU detected, fall back on CPU.\n",
      "Shift p-vals:  0.9800000190734863\n",
      "Random Run 1 : Sample 200\n",
      "No GPU detected, fall back on CPU.\n",
      "Shift p-vals:  0.8899999856948853\n",
      "Random Run 1 : Sample 500\n",
      "No GPU detected, fall back on CPU.\n",
      "Shift p-vals:  0.6100000143051147\n",
      "Random Run 1 : Sample 1000\n",
      "No GPU detected, fall back on CPU.\n",
      "Shift p-vals:  0.7699999809265137\n",
      "Random Run 1 : Sample 2000\n",
      "No GPU detected, fall back on CPU.\n"
     ]
    },
    {
     "name": "stderr",
     "output_type": "stream",
     "text": [
      "2022-03-17 12:19:28,136 \u001b[1;37mINFO\u001b[0m cyclops.processors.base - Processing raw admin data...\n",
      "2022-03-17 12:19:28,140 \u001b[1;37mINFO\u001b[0m cyclops.processors.base - # samples: 10756, # encounters: 10756\n",
      "2022-03-17 12:19:28,143 \u001b[1;37mINFO\u001b[0m cyclops.processors.admin - # admin features: 2, # encounters: 10756\n"
     ]
    },
    {
     "name": "stdout",
     "output_type": "stream",
     "text": [
      "Shift p-vals:  0.5299999713897705\n"
     ]
    },
    {
     "name": "stderr",
     "output_type": "stream",
     "text": [
      "2022-03-17 12:19:33,675 \u001b[1;37mINFO\u001b[0m cyclops.utils.profile - Finished executing function process in 5.538535 s\n"
     ]
    },
    {
     "name": "stdout",
     "output_type": "stream",
     "text": [
      "Random Run 2 : Sample 10\n",
      "No GPU detected, fall back on CPU.\n",
      "Shift p-vals:  0.5099999904632568\n",
      "Random Run 2 : Sample 20\n",
      "No GPU detected, fall back on CPU.\n",
      "Shift p-vals:  0.9800000190734863\n",
      "Random Run 2 : Sample 50\n",
      "No GPU detected, fall back on CPU.\n",
      "Shift p-vals:  0.47999998927116394\n",
      "Random Run 2 : Sample 100\n",
      "No GPU detected, fall back on CPU.\n",
      "Shift p-vals:  0.800000011920929\n",
      "Random Run 2 : Sample 200\n",
      "No GPU detected, fall back on CPU.\n",
      "Shift p-vals:  1.0\n",
      "Random Run 2 : Sample 500\n",
      "No GPU detected, fall back on CPU.\n",
      "Shift p-vals:  0.23999999463558197\n",
      "Random Run 2 : Sample 1000\n",
      "No GPU detected, fall back on CPU.\n",
      "Shift p-vals:  0.5400000214576721\n",
      "Random Run 2 : Sample 2000\n",
      "No GPU detected, fall back on CPU.\n"
     ]
    },
    {
     "name": "stderr",
     "output_type": "stream",
     "text": [
      "2022-03-17 12:19:48,610 \u001b[1;37mINFO\u001b[0m cyclops.processors.base - Processing raw admin data...\n",
      "2022-03-17 12:19:48,616 \u001b[1;37mINFO\u001b[0m cyclops.processors.base - # samples: 10756, # encounters: 10756\n",
      "2022-03-17 12:19:48,619 \u001b[1;37mINFO\u001b[0m cyclops.processors.admin - # admin features: 2, # encounters: 10756\n"
     ]
    },
    {
     "name": "stdout",
     "output_type": "stream",
     "text": [
      "Shift p-vals:  0.8700000047683716\n"
     ]
    },
    {
     "name": "stderr",
     "output_type": "stream",
     "text": [
      "2022-03-17 12:19:54,317 \u001b[1;37mINFO\u001b[0m cyclops.utils.profile - Finished executing function process in 5.706559 s\n"
     ]
    },
    {
     "name": "stdout",
     "output_type": "stream",
     "text": [
      "Random Run 3 : Sample 10\n",
      "No GPU detected, fall back on CPU.\n",
      "Shift p-vals:  0.7200000286102295\n",
      "Random Run 3 : Sample 20\n",
      "No GPU detected, fall back on CPU.\n",
      "Shift p-vals:  0.8899999856948853\n",
      "Random Run 3 : Sample 50\n",
      "No GPU detected, fall back on CPU.\n",
      "Shift p-vals:  0.8999999761581421\n",
      "Random Run 3 : Sample 100\n",
      "No GPU detected, fall back on CPU.\n",
      "Shift p-vals:  0.9200000166893005\n",
      "Random Run 3 : Sample 200\n",
      "No GPU detected, fall back on CPU.\n",
      "Shift p-vals:  0.3700000047683716\n",
      "Random Run 3 : Sample 500\n",
      "No GPU detected, fall back on CPU.\n",
      "Shift p-vals:  0.6899999976158142\n",
      "Random Run 3 : Sample 1000\n",
      "No GPU detected, fall back on CPU.\n",
      "Shift p-vals:  0.699999988079071\n",
      "Random Run 3 : Sample 2000\n",
      "No GPU detected, fall back on CPU.\n"
     ]
    },
    {
     "name": "stderr",
     "output_type": "stream",
     "text": [
      "2022-03-17 12:20:09,734 \u001b[1;37mINFO\u001b[0m cyclops.processors.base - Processing raw admin data...\n",
      "2022-03-17 12:20:09,736 \u001b[1;37mINFO\u001b[0m cyclops.processors.base - # samples: 10756, # encounters: 10756\n",
      "2022-03-17 12:20:09,740 \u001b[1;37mINFO\u001b[0m cyclops.processors.admin - # admin features: 2, # encounters: 10756\n"
     ]
    },
    {
     "name": "stdout",
     "output_type": "stream",
     "text": [
      "Shift p-vals:  0.3799999952316284\n"
     ]
    },
    {
     "name": "stderr",
     "output_type": "stream",
     "text": [
      "2022-03-17 12:20:15,289 \u001b[1;37mINFO\u001b[0m cyclops.utils.profile - Finished executing function process in 5.554549 s\n"
     ]
    },
    {
     "name": "stdout",
     "output_type": "stream",
     "text": [
      "Random Run 4 : Sample 10\n",
      "No GPU detected, fall back on CPU.\n",
      "Shift p-vals:  0.7099999785423279\n",
      "Random Run 4 : Sample 20\n",
      "No GPU detected, fall back on CPU.\n",
      "Shift p-vals:  0.6800000071525574\n",
      "Random Run 4 : Sample 50\n",
      "No GPU detected, fall back on CPU.\n",
      "Shift p-vals:  0.4399999976158142\n",
      "Random Run 4 : Sample 100\n",
      "No GPU detected, fall back on CPU.\n",
      "Shift p-vals:  0.33000001311302185\n",
      "Random Run 4 : Sample 200\n",
      "No GPU detected, fall back on CPU.\n",
      "Shift p-vals:  0.3799999952316284\n",
      "Random Run 4 : Sample 500\n",
      "No GPU detected, fall back on CPU.\n",
      "Shift p-vals:  0.3100000023841858\n",
      "Random Run 4 : Sample 1000\n",
      "No GPU detected, fall back on CPU.\n",
      "Shift p-vals:  0.1899999976158142\n",
      "Random Run 4 : Sample 2000\n",
      "No GPU detected, fall back on CPU.\n"
     ]
    },
    {
     "name": "stderr",
     "output_type": "stream",
     "text": [
      "torch.range is deprecated and will be removed in a future release because its behavior is inconsistent with Python's range builtin. Instead, use torch.arange, which produces values in [start, end).\n",
      "2022-03-17 12:20:30,077 \u001b[1;37mINFO\u001b[0m cyclops.processors.base - Processing raw admin data...\n",
      "2022-03-17 12:20:30,079 \u001b[1;37mINFO\u001b[0m cyclops.processors.base - # samples: 10756, # encounters: 10756\n",
      "2022-03-17 12:20:30,082 \u001b[1;37mINFO\u001b[0m cyclops.processors.admin - # admin features: 2, # encounters: 10756\n"
     ]
    },
    {
     "name": "stdout",
     "output_type": "stream",
     "text": [
      "Shift p-vals:  0.2800000011920929\n",
      "Shift pre-covid\n"
     ]
    },
    {
     "name": "stderr",
     "output_type": "stream",
     "text": [
      "2022-03-17 12:20:35,631 \u001b[1;37mINFO\u001b[0m cyclops.utils.profile - Finished executing function process in 5.554270 s\n"
     ]
    },
    {
     "name": "stdout",
     "output_type": "stream",
     "text": [
      "Random Run 0 : Sample 10\n",
      "No GPU detected, fall back on CPU.\n",
      "Shift p-vals:  0.3700000047683716\n",
      "Random Run 0 : Sample 20\n",
      "No GPU detected, fall back on CPU.\n",
      "Shift p-vals:  0.8299999833106995\n",
      "Random Run 0 : Sample 50\n",
      "No GPU detected, fall back on CPU.\n",
      "Shift p-vals:  0.009999999776482582\n",
      "Random Run 0 : Sample 100\n",
      "No GPU detected, fall back on CPU.\n",
      "Shift p-vals:  0.8799999952316284\n",
      "Random Run 0 : Sample 200\n",
      "No GPU detected, fall back on CPU.\n",
      "Shift p-vals:  0.6499999761581421\n",
      "Random Run 0 : Sample 500\n",
      "No GPU detected, fall back on CPU.\n",
      "Shift p-vals:  0.38999998569488525\n",
      "Random Run 0 : Sample 1000\n",
      "No GPU detected, fall back on CPU.\n",
      "Shift p-vals:  0.3700000047683716\n",
      "Random Run 0 : Sample 2000\n",
      "No GPU detected, fall back on CPU.\n"
     ]
    },
    {
     "name": "stderr",
     "output_type": "stream",
     "text": [
      "2022-03-17 12:20:41,063 \u001b[1;37mINFO\u001b[0m cyclops.processors.base - Processing raw admin data...\n",
      "2022-03-17 12:20:41,066 \u001b[1;37mINFO\u001b[0m cyclops.processors.base - # samples: 10756, # encounters: 10756\n",
      "2022-03-17 12:20:41,068 \u001b[1;37mINFO\u001b[0m cyclops.processors.admin - # admin features: 2, # encounters: 10756\n"
     ]
    },
    {
     "name": "stdout",
     "output_type": "stream",
     "text": [
      "Shift p-vals:  0.44999998807907104\n"
     ]
    },
    {
     "name": "stderr",
     "output_type": "stream",
     "text": [
      "2022-03-17 12:20:46,637 \u001b[1;37mINFO\u001b[0m cyclops.utils.profile - Finished executing function process in 5.573681 s\n"
     ]
    },
    {
     "name": "stdout",
     "output_type": "stream",
     "text": [
      "Random Run 1 : Sample 10\n",
      "No GPU detected, fall back on CPU.\n",
      "Shift p-vals:  0.7200000286102295\n",
      "Random Run 1 : Sample 20\n",
      "No GPU detected, fall back on CPU.\n",
      "Shift p-vals:  0.7900000214576721\n",
      "Random Run 1 : Sample 50\n",
      "No GPU detected, fall back on CPU.\n",
      "Shift p-vals:  0.5299999713897705\n",
      "Random Run 1 : Sample 100\n",
      "No GPU detected, fall back on CPU.\n",
      "Shift p-vals:  0.9700000286102295\n",
      "Random Run 1 : Sample 200\n",
      "No GPU detected, fall back on CPU.\n",
      "Shift p-vals:  0.8199999928474426\n",
      "Random Run 1 : Sample 500\n",
      "No GPU detected, fall back on CPU.\n",
      "Shift p-vals:  0.7900000214576721\n",
      "Random Run 1 : Sample 1000\n",
      "No GPU detected, fall back on CPU.\n",
      "Shift p-vals:  0.5799999833106995\n",
      "Random Run 1 : Sample 2000\n",
      "No GPU detected, fall back on CPU.\n"
     ]
    },
    {
     "name": "stderr",
     "output_type": "stream",
     "text": [
      "2022-03-17 12:20:51,805 \u001b[1;37mINFO\u001b[0m cyclops.processors.base - Processing raw admin data...\n",
      "2022-03-17 12:20:51,807 \u001b[1;37mINFO\u001b[0m cyclops.processors.base - # samples: 10756, # encounters: 10756\n",
      "2022-03-17 12:20:51,810 \u001b[1;37mINFO\u001b[0m cyclops.processors.admin - # admin features: 2, # encounters: 10756\n"
     ]
    },
    {
     "name": "stdout",
     "output_type": "stream",
     "text": [
      "Shift p-vals:  0.7900000214576721\n"
     ]
    },
    {
     "name": "stderr",
     "output_type": "stream",
     "text": [
      "2022-03-17 12:20:57,394 \u001b[1;37mINFO\u001b[0m cyclops.utils.profile - Finished executing function process in 5.587520 s\n"
     ]
    },
    {
     "name": "stdout",
     "output_type": "stream",
     "text": [
      "Random Run 2 : Sample 10\n",
      "No GPU detected, fall back on CPU.\n",
      "Shift p-vals:  0.7400000095367432\n",
      "Random Run 2 : Sample 20\n",
      "No GPU detected, fall back on CPU.\n",
      "Shift p-vals:  0.5899999737739563\n",
      "Random Run 2 : Sample 50\n",
      "No GPU detected, fall back on CPU.\n",
      "Shift p-vals:  0.2800000011920929\n",
      "Random Run 2 : Sample 100\n",
      "No GPU detected, fall back on CPU.\n",
      "Shift p-vals:  0.6200000047683716\n",
      "Random Run 2 : Sample 200\n",
      "No GPU detected, fall back on CPU.\n",
      "Shift p-vals:  0.949999988079071\n",
      "Random Run 2 : Sample 500\n",
      "No GPU detected, fall back on CPU.\n",
      "Shift p-vals:  0.09000000357627869\n",
      "Random Run 2 : Sample 1000\n",
      "No GPU detected, fall back on CPU.\n",
      "Shift p-vals:  0.30000001192092896\n",
      "Random Run 2 : Sample 2000\n",
      "No GPU detected, fall back on CPU.\n"
     ]
    },
    {
     "name": "stderr",
     "output_type": "stream",
     "text": [
      "2022-03-17 12:21:02,606 \u001b[1;37mINFO\u001b[0m cyclops.processors.base - Processing raw admin data...\n",
      "2022-03-17 12:21:02,608 \u001b[1;37mINFO\u001b[0m cyclops.processors.base - # samples: 10756, # encounters: 10756\n",
      "2022-03-17 12:21:02,611 \u001b[1;37mINFO\u001b[0m cyclops.processors.admin - # admin features: 2, # encounters: 10756\n"
     ]
    },
    {
     "name": "stdout",
     "output_type": "stream",
     "text": [
      "Shift p-vals:  0.8199999928474426\n"
     ]
    },
    {
     "name": "stderr",
     "output_type": "stream",
     "text": [
      "2022-03-17 12:21:08,137 \u001b[1;37mINFO\u001b[0m cyclops.utils.profile - Finished executing function process in 5.531562 s\n"
     ]
    },
    {
     "name": "stdout",
     "output_type": "stream",
     "text": [
      "Random Run 3 : Sample 10\n",
      "No GPU detected, fall back on CPU.\n",
      "Shift p-vals:  0.6700000166893005\n",
      "Random Run 3 : Sample 20\n",
      "No GPU detected, fall back on CPU.\n",
      "Shift p-vals:  0.23999999463558197\n",
      "Random Run 3 : Sample 50\n",
      "No GPU detected, fall back on CPU.\n",
      "Shift p-vals:  0.550000011920929\n",
      "Random Run 3 : Sample 100\n",
      "No GPU detected, fall back on CPU.\n",
      "Shift p-vals:  0.7300000190734863\n",
      "Random Run 3 : Sample 200\n",
      "No GPU detected, fall back on CPU.\n",
      "Shift p-vals:  0.5099999904632568\n",
      "Random Run 3 : Sample 500\n",
      "No GPU detected, fall back on CPU.\n",
      "Shift p-vals:  0.8600000143051147\n",
      "Random Run 3 : Sample 1000\n",
      "No GPU detected, fall back on CPU.\n",
      "Shift p-vals:  0.6700000166893005\n",
      "Random Run 3 : Sample 2000\n",
      "No GPU detected, fall back on CPU.\n"
     ]
    },
    {
     "name": "stderr",
     "output_type": "stream",
     "text": [
      "2022-03-17 12:21:13,195 \u001b[1;37mINFO\u001b[0m cyclops.processors.base - Processing raw admin data...\n",
      "2022-03-17 12:21:13,197 \u001b[1;37mINFO\u001b[0m cyclops.processors.base - # samples: 10756, # encounters: 10756\n",
      "2022-03-17 12:21:13,200 \u001b[1;37mINFO\u001b[0m cyclops.processors.admin - # admin features: 2, # encounters: 10756\n"
     ]
    },
    {
     "name": "stdout",
     "output_type": "stream",
     "text": [
      "Shift p-vals:  0.4399999976158142\n"
     ]
    },
    {
     "name": "stderr",
     "output_type": "stream",
     "text": [
      "2022-03-17 12:21:18,715 \u001b[1;37mINFO\u001b[0m cyclops.utils.profile - Finished executing function process in 5.520263 s\n"
     ]
    },
    {
     "name": "stdout",
     "output_type": "stream",
     "text": [
      "Random Run 4 : Sample 10\n",
      "No GPU detected, fall back on CPU.\n",
      "Shift p-vals:  0.5299999713897705\n",
      "Random Run 4 : Sample 20\n",
      "No GPU detected, fall back on CPU.\n",
      "Shift p-vals:  0.9800000190734863\n",
      "Random Run 4 : Sample 50\n",
      "No GPU detected, fall back on CPU.\n",
      "Shift p-vals:  0.2199999988079071\n",
      "Random Run 4 : Sample 100\n",
      "No GPU detected, fall back on CPU.\n",
      "Shift p-vals:  0.20000000298023224\n",
      "Random Run 4 : Sample 200\n",
      "No GPU detected, fall back on CPU.\n",
      "Shift p-vals:  0.3100000023841858\n",
      "Random Run 4 : Sample 500\n",
      "No GPU detected, fall back on CPU.\n",
      "Shift p-vals:  0.7400000095367432\n",
      "Random Run 4 : Sample 1000\n",
      "No GPU detected, fall back on CPU.\n",
      "Shift p-vals:  0.4099999964237213\n",
      "Random Run 4 : Sample 2000\n",
      "No GPU detected, fall back on CPU.\n"
     ]
    },
    {
     "name": "stderr",
     "output_type": "stream",
     "text": [
      "torch.range is deprecated and will be removed in a future release because its behavior is inconsistent with Python's range builtin. Instead, use torch.arange, which produces values in [start, end).\n",
      "2022-03-17 12:21:23,966 \u001b[1;37mINFO\u001b[0m cyclops.processors.base - Processing raw admin data...\n",
      "2022-03-17 12:21:23,968 \u001b[1;37mINFO\u001b[0m cyclops.processors.base - # samples: 10756, # encounters: 10756\n",
      "2022-03-17 12:21:23,971 \u001b[1;37mINFO\u001b[0m cyclops.processors.admin - # admin features: 2, # encounters: 10756\n"
     ]
    },
    {
     "name": "stdout",
     "output_type": "stream",
     "text": [
      "Shift p-vals:  0.3700000047683716\n",
      "Shift pre-covid\n"
     ]
    },
    {
     "name": "stderr",
     "output_type": "stream",
     "text": [
      "2022-03-17 12:21:29,510 \u001b[1;37mINFO\u001b[0m cyclops.utils.profile - Finished executing function process in 5.544109 s\n"
     ]
    },
    {
     "name": "stdout",
     "output_type": "stream",
     "text": [
      "Random Run 0 : Sample 10\n",
      "No GPU detected, fall back on CPU.\n",
      "Shift p-vals:  0.5600000023841858\n",
      "Random Run 0 : Sample 20\n",
      "No GPU detected, fall back on CPU.\n",
      "Shift p-vals:  0.38999998569488525\n",
      "Random Run 0 : Sample 50\n",
      "No GPU detected, fall back on CPU.\n",
      "Shift p-vals:  0.9300000071525574\n",
      "Random Run 0 : Sample 100\n",
      "No GPU detected, fall back on CPU.\n",
      "Shift p-vals:  0.47999998927116394\n",
      "Random Run 0 : Sample 200\n",
      "No GPU detected, fall back on CPU.\n",
      "Shift p-vals:  0.5600000023841858\n",
      "Random Run 0 : Sample 500\n",
      "No GPU detected, fall back on CPU.\n",
      "Shift p-vals:  0.1899999976158142\n",
      "Random Run 0 : Sample 1000\n",
      "No GPU detected, fall back on CPU.\n",
      "Shift p-vals:  0.1899999976158142\n",
      "Random Run 0 : Sample 2000\n",
      "No GPU detected, fall back on CPU.\n"
     ]
    },
    {
     "name": "stderr",
     "output_type": "stream",
     "text": [
      "2022-03-17 12:22:28,420 \u001b[1;37mINFO\u001b[0m cyclops.processors.base - Processing raw admin data...\n",
      "2022-03-17 12:22:28,423 \u001b[1;37mINFO\u001b[0m cyclops.processors.base - # samples: 10756, # encounters: 10756\n",
      "2022-03-17 12:22:28,425 \u001b[1;37mINFO\u001b[0m cyclops.processors.admin - # admin features: 2, # encounters: 10756\n"
     ]
    },
    {
     "name": "stdout",
     "output_type": "stream",
     "text": [
      "Shift p-vals:  0.15000000596046448\n"
     ]
    },
    {
     "name": "stderr",
     "output_type": "stream",
     "text": [
      "2022-03-17 12:22:34,217 \u001b[1;37mINFO\u001b[0m cyclops.utils.profile - Finished executing function process in 5.796586 s\n"
     ]
    },
    {
     "name": "stdout",
     "output_type": "stream",
     "text": [
      "Random Run 1 : Sample 10\n",
      "No GPU detected, fall back on CPU.\n",
      "Shift p-vals:  0.7300000190734863\n",
      "Random Run 1 : Sample 20\n",
      "No GPU detected, fall back on CPU.\n",
      "Shift p-vals:  0.9599999785423279\n",
      "Random Run 1 : Sample 50\n",
      "No GPU detected, fall back on CPU.\n",
      "Shift p-vals:  0.699999988079071\n",
      "Random Run 1 : Sample 100\n",
      "No GPU detected, fall back on CPU.\n",
      "Shift p-vals:  0.4099999964237213\n",
      "Random Run 1 : Sample 200\n",
      "No GPU detected, fall back on CPU.\n",
      "Shift p-vals:  0.0\n",
      "Random Run 1 : Sample 500\n",
      "No GPU detected, fall back on CPU.\n",
      "Shift p-vals:  0.47999998927116394\n",
      "Random Run 1 : Sample 1000\n",
      "No GPU detected, fall back on CPU.\n",
      "Shift p-vals:  0.2800000011920929\n",
      "Random Run 1 : Sample 2000\n",
      "No GPU detected, fall back on CPU.\n"
     ]
    },
    {
     "name": "stderr",
     "output_type": "stream",
     "text": [
      "2022-03-17 12:23:32,863 \u001b[1;37mINFO\u001b[0m cyclops.processors.base - Processing raw admin data...\n",
      "2022-03-17 12:23:32,866 \u001b[1;37mINFO\u001b[0m cyclops.processors.base - # samples: 10756, # encounters: 10756\n",
      "2022-03-17 12:23:32,868 \u001b[1;37mINFO\u001b[0m cyclops.processors.admin - # admin features: 2, # encounters: 10756\n"
     ]
    },
    {
     "name": "stdout",
     "output_type": "stream",
     "text": [
      "Shift p-vals:  0.4300000071525574\n"
     ]
    },
    {
     "name": "stderr",
     "output_type": "stream",
     "text": [
      "2022-03-17 12:23:38,475 \u001b[1;37mINFO\u001b[0m cyclops.utils.profile - Finished executing function process in 5.612313 s\n"
     ]
    },
    {
     "name": "stdout",
     "output_type": "stream",
     "text": [
      "Random Run 2 : Sample 10\n",
      "No GPU detected, fall back on CPU.\n",
      "Shift p-vals:  0.1899999976158142\n",
      "Random Run 2 : Sample 20\n",
      "No GPU detected, fall back on CPU.\n",
      "Shift p-vals:  0.2199999988079071\n",
      "Random Run 2 : Sample 50\n",
      "No GPU detected, fall back on CPU.\n",
      "Shift p-vals:  0.07000000029802322\n",
      "Random Run 2 : Sample 100\n",
      "No GPU detected, fall back on CPU.\n",
      "Shift p-vals:  0.11999999731779099\n",
      "Random Run 2 : Sample 200\n",
      "No GPU detected, fall back on CPU.\n",
      "Shift p-vals:  0.11999999731779099\n",
      "Random Run 2 : Sample 500\n",
      "No GPU detected, fall back on CPU.\n",
      "Shift p-vals:  0.6499999761581421\n",
      "Random Run 2 : Sample 1000\n",
      "No GPU detected, fall back on CPU.\n",
      "Shift p-vals:  0.09000000357627869\n",
      "Random Run 2 : Sample 2000\n",
      "No GPU detected, fall back on CPU.\n"
     ]
    },
    {
     "name": "stderr",
     "output_type": "stream",
     "text": [
      "2022-03-17 12:24:53,342 \u001b[1;37mINFO\u001b[0m cyclops.processors.base - Processing raw admin data...\n",
      "2022-03-17 12:24:53,345 \u001b[1;37mINFO\u001b[0m cyclops.processors.base - # samples: 10756, # encounters: 10756\n",
      "2022-03-17 12:24:53,348 \u001b[1;37mINFO\u001b[0m cyclops.processors.admin - # admin features: 2, # encounters: 10756\n"
     ]
    },
    {
     "name": "stdout",
     "output_type": "stream",
     "text": [
      "Shift p-vals:  0.30000001192092896\n"
     ]
    },
    {
     "name": "stderr",
     "output_type": "stream",
     "text": [
      "2022-03-17 12:24:58,971 \u001b[1;37mINFO\u001b[0m cyclops.utils.profile - Finished executing function process in 5.627128 s\n"
     ]
    },
    {
     "name": "stdout",
     "output_type": "stream",
     "text": [
      "Random Run 3 : Sample 10\n",
      "No GPU detected, fall back on CPU.\n",
      "Shift p-vals:  0.6100000143051147\n",
      "Random Run 3 : Sample 20\n",
      "No GPU detected, fall back on CPU.\n",
      "Shift p-vals:  0.7400000095367432\n",
      "Random Run 3 : Sample 50\n",
      "No GPU detected, fall back on CPU.\n",
      "Shift p-vals:  0.7699999809265137\n",
      "Random Run 3 : Sample 100\n",
      "No GPU detected, fall back on CPU.\n",
      "Shift p-vals:  0.4399999976158142\n",
      "Random Run 3 : Sample 200\n",
      "No GPU detected, fall back on CPU.\n",
      "Shift p-vals:  0.019999999552965164\n",
      "Random Run 3 : Sample 500\n",
      "No GPU detected, fall back on CPU.\n",
      "Shift p-vals:  0.41999998688697815\n",
      "Random Run 3 : Sample 1000\n",
      "No GPU detected, fall back on CPU.\n",
      "Shift p-vals:  0.11999999731779099\n",
      "Random Run 3 : Sample 2000\n",
      "No GPU detected, fall back on CPU.\n"
     ]
    },
    {
     "name": "stderr",
     "output_type": "stream",
     "text": [
      "2022-03-17 12:26:20,768 \u001b[1;37mINFO\u001b[0m cyclops.processors.base - Processing raw admin data...\n",
      "2022-03-17 12:26:20,772 \u001b[1;37mINFO\u001b[0m cyclops.processors.base - # samples: 10756, # encounters: 10756\n",
      "2022-03-17 12:26:20,775 \u001b[1;37mINFO\u001b[0m cyclops.processors.admin - # admin features: 2, # encounters: 10756\n"
     ]
    },
    {
     "name": "stdout",
     "output_type": "stream",
     "text": [
      "Shift p-vals:  0.20999999344348907\n"
     ]
    },
    {
     "name": "stderr",
     "output_type": "stream",
     "text": [
      "2022-03-17 12:26:26,475 \u001b[1;37mINFO\u001b[0m cyclops.utils.profile - Finished executing function process in 5.706905 s\n"
     ]
    },
    {
     "name": "stdout",
     "output_type": "stream",
     "text": [
      "Random Run 4 : Sample 10\n",
      "No GPU detected, fall back on CPU.\n",
      "Shift p-vals:  0.5600000023841858\n",
      "Random Run 4 : Sample 20\n",
      "No GPU detected, fall back on CPU.\n",
      "Shift p-vals:  0.6000000238418579\n",
      "Random Run 4 : Sample 50\n",
      "No GPU detected, fall back on CPU.\n",
      "Shift p-vals:  0.009999999776482582\n",
      "Random Run 4 : Sample 100\n",
      "No GPU detected, fall back on CPU.\n",
      "Shift p-vals:  0.09000000357627869\n",
      "Random Run 4 : Sample 200\n",
      "No GPU detected, fall back on CPU.\n",
      "Shift p-vals:  0.009999999776482582\n",
      "Random Run 4 : Sample 500\n",
      "No GPU detected, fall back on CPU.\n",
      "Shift p-vals:  0.05999999865889549\n",
      "Random Run 4 : Sample 1000\n",
      "No GPU detected, fall back on CPU.\n",
      "Shift p-vals:  0.25999999046325684\n",
      "Random Run 4 : Sample 2000\n",
      "No GPU detected, fall back on CPU.\n"
     ]
    },
    {
     "name": "stderr",
     "output_type": "stream",
     "text": [
      "torch.range is deprecated and will be removed in a future release because its behavior is inconsistent with Python's range builtin. Instead, use torch.arange, which produces values in [start, end).\n",
      "2022-03-17 12:27:43,998 \u001b[1;37mINFO\u001b[0m cyclops.processors.base - Processing raw admin data...\n",
      "2022-03-17 12:27:44,002 \u001b[1;37mINFO\u001b[0m cyclops.processors.base - # samples: 10756, # encounters: 10756\n",
      "2022-03-17 12:27:44,006 \u001b[1;37mINFO\u001b[0m cyclops.processors.admin - # admin features: 2, # encounters: 10756\n"
     ]
    },
    {
     "name": "stdout",
     "output_type": "stream",
     "text": [
      "Shift p-vals:  0.8299999833106995\n",
      "Shift pre-covid\n"
     ]
    },
    {
     "name": "stderr",
     "output_type": "stream",
     "text": [
      "2022-03-17 12:27:49,818 \u001b[1;37mINFO\u001b[0m cyclops.utils.profile - Finished executing function process in 5.820501 s\n"
     ]
    },
    {
     "name": "stdout",
     "output_type": "stream",
     "text": [
      "Random Run 0 : Sample 10\n",
      "No GPU detected, fall back on CPU.\n",
      "Shift p-vals:  0.8100000023841858\n",
      "Random Run 0 : Sample 20\n",
      "No GPU detected, fall back on CPU.\n",
      "Shift p-vals:  0.20000000298023224\n",
      "Random Run 0 : Sample 50\n",
      "No GPU detected, fall back on CPU.\n",
      "Shift p-vals:  0.9399999976158142\n",
      "Random Run 0 : Sample 100\n",
      "No GPU detected, fall back on CPU.\n",
      "Shift p-vals:  0.3199999928474426\n",
      "Random Run 0 : Sample 200\n",
      "No GPU detected, fall back on CPU.\n",
      "Shift p-vals:  0.6899999976158142\n",
      "Random Run 0 : Sample 500\n",
      "No GPU detected, fall back on CPU.\n",
      "Shift p-vals:  0.3499999940395355\n",
      "Random Run 0 : Sample 1000\n",
      "No GPU detected, fall back on CPU.\n",
      "Shift p-vals:  0.15000000596046448\n",
      "Random Run 0 : Sample 2000\n",
      "No GPU detected, fall back on CPU.\n"
     ]
    },
    {
     "name": "stderr",
     "output_type": "stream",
     "text": [
      "2022-03-17 12:28:45,836 \u001b[1;37mINFO\u001b[0m cyclops.processors.base - Processing raw admin data...\n",
      "2022-03-17 12:28:45,840 \u001b[1;37mINFO\u001b[0m cyclops.processors.base - # samples: 10756, # encounters: 10756\n",
      "2022-03-17 12:28:45,843 \u001b[1;37mINFO\u001b[0m cyclops.processors.admin - # admin features: 2, # encounters: 10756\n"
     ]
    },
    {
     "name": "stdout",
     "output_type": "stream",
     "text": [
      "Shift p-vals:  0.25999999046325684\n"
     ]
    },
    {
     "name": "stderr",
     "output_type": "stream",
     "text": [
      "2022-03-17 12:28:51,548 \u001b[1;37mINFO\u001b[0m cyclops.utils.profile - Finished executing function process in 5.712166 s\n"
     ]
    },
    {
     "name": "stdout",
     "output_type": "stream",
     "text": [
      "Random Run 1 : Sample 10\n",
      "No GPU detected, fall back on CPU.\n",
      "Shift p-vals:  0.8399999737739563\n",
      "Random Run 1 : Sample 20\n",
      "No GPU detected, fall back on CPU.\n",
      "Shift p-vals:  0.8999999761581421\n",
      "Random Run 1 : Sample 50\n",
      "No GPU detected, fall back on CPU.\n",
      "Shift p-vals:  0.8299999833106995\n",
      "Random Run 1 : Sample 100\n",
      "No GPU detected, fall back on CPU.\n",
      "Shift p-vals:  0.3199999928474426\n",
      "Random Run 1 : Sample 200\n",
      "No GPU detected, fall back on CPU.\n",
      "Shift p-vals:  0.09000000357627869\n",
      "Random Run 1 : Sample 500\n",
      "No GPU detected, fall back on CPU.\n",
      "Shift p-vals:  0.5299999713897705\n",
      "Random Run 1 : Sample 1000\n",
      "No GPU detected, fall back on CPU.\n",
      "Shift p-vals:  0.2800000011920929\n",
      "Random Run 1 : Sample 2000\n",
      "No GPU detected, fall back on CPU.\n",
      "Shift p-vals:  0.23999999463558197\n"
     ]
    },
    {
     "name": "stderr",
     "output_type": "stream",
     "text": [
      "2022-03-17 12:29:48,888 \u001b[1;37mINFO\u001b[0m cyclops.processors.base - Processing raw admin data...\n",
      "2022-03-17 12:29:48,891 \u001b[1;37mINFO\u001b[0m cyclops.processors.base - # samples: 10756, # encounters: 10756\n",
      "2022-03-17 12:29:48,894 \u001b[1;37mINFO\u001b[0m cyclops.processors.admin - # admin features: 2, # encounters: 10756\n",
      "2022-03-17 12:29:54,534 \u001b[1;37mINFO\u001b[0m cyclops.utils.profile - Finished executing function process in 5.646127 s\n"
     ]
    },
    {
     "name": "stdout",
     "output_type": "stream",
     "text": [
      "Random Run 2 : Sample 10\n",
      "No GPU detected, fall back on CPU.\n",
      "Shift p-vals:  0.07000000029802322\n",
      "Random Run 2 : Sample 20\n",
      "No GPU detected, fall back on CPU.\n",
      "Shift p-vals:  0.49000000953674316\n",
      "Random Run 2 : Sample 50\n",
      "No GPU detected, fall back on CPU.\n",
      "Shift p-vals:  0.05000000074505806\n",
      "Random Run 2 : Sample 100\n",
      "No GPU detected, fall back on CPU.\n",
      "Shift p-vals:  0.05999999865889549\n",
      "Random Run 2 : Sample 200\n",
      "No GPU detected, fall back on CPU.\n",
      "Shift p-vals:  0.20000000298023224\n",
      "Random Run 2 : Sample 500\n",
      "No GPU detected, fall back on CPU.\n",
      "Shift p-vals:  0.7900000214576721\n",
      "Random Run 2 : Sample 1000\n",
      "No GPU detected, fall back on CPU.\n",
      "Shift p-vals:  0.09000000357627869\n",
      "Random Run 2 : Sample 2000\n",
      "No GPU detected, fall back on CPU.\n"
     ]
    },
    {
     "name": "stderr",
     "output_type": "stream",
     "text": [
      "2022-03-17 12:30:49,941 \u001b[1;37mINFO\u001b[0m cyclops.processors.base - Processing raw admin data...\n",
      "2022-03-17 12:30:49,943 \u001b[1;37mINFO\u001b[0m cyclops.processors.base - # samples: 10756, # encounters: 10756\n",
      "2022-03-17 12:30:49,947 \u001b[1;37mINFO\u001b[0m cyclops.processors.admin - # admin features: 2, # encounters: 10756\n"
     ]
    },
    {
     "name": "stdout",
     "output_type": "stream",
     "text": [
      "Shift p-vals:  0.3400000035762787\n"
     ]
    },
    {
     "name": "stderr",
     "output_type": "stream",
     "text": [
      "2022-03-17 12:30:55,618 \u001b[1;37mINFO\u001b[0m cyclops.utils.profile - Finished executing function process in 5.678009 s\n"
     ]
    },
    {
     "name": "stdout",
     "output_type": "stream",
     "text": [
      "Random Run 3 : Sample 10\n",
      "No GPU detected, fall back on CPU.\n",
      "Shift p-vals:  0.25\n",
      "Random Run 3 : Sample 20\n",
      "No GPU detected, fall back on CPU.\n",
      "Shift p-vals:  0.46000000834465027\n",
      "Random Run 3 : Sample 50\n",
      "No GPU detected, fall back on CPU.\n",
      "Shift p-vals:  0.6600000262260437\n",
      "Random Run 3 : Sample 100\n",
      "No GPU detected, fall back on CPU.\n",
      "Shift p-vals:  0.20000000298023224\n",
      "Random Run 3 : Sample 200\n",
      "No GPU detected, fall back on CPU.\n",
      "Shift p-vals:  0.03999999910593033\n",
      "Random Run 3 : Sample 500\n",
      "No GPU detected, fall back on CPU.\n",
      "Shift p-vals:  0.49000000953674316\n",
      "Random Run 3 : Sample 1000\n",
      "No GPU detected, fall back on CPU.\n",
      "Shift p-vals:  0.10999999940395355\n",
      "Random Run 3 : Sample 2000\n",
      "No GPU detected, fall back on CPU.\n"
     ]
    },
    {
     "name": "stderr",
     "output_type": "stream",
     "text": [
      "2022-03-17 12:31:52,147 \u001b[1;37mINFO\u001b[0m cyclops.processors.base - Processing raw admin data...\n",
      "2022-03-17 12:31:52,150 \u001b[1;37mINFO\u001b[0m cyclops.processors.base - # samples: 10756, # encounters: 10756\n",
      "2022-03-17 12:31:52,154 \u001b[1;37mINFO\u001b[0m cyclops.processors.admin - # admin features: 2, # encounters: 10756\n"
     ]
    },
    {
     "name": "stdout",
     "output_type": "stream",
     "text": [
      "Shift p-vals:  0.23999999463558197\n"
     ]
    },
    {
     "name": "stderr",
     "output_type": "stream",
     "text": [
      "2022-03-17 12:31:57,713 \u001b[1;37mINFO\u001b[0m cyclops.utils.profile - Finished executing function process in 5.565408 s\n"
     ]
    },
    {
     "name": "stdout",
     "output_type": "stream",
     "text": [
      "Random Run 4 : Sample 10\n",
      "No GPU detected, fall back on CPU.\n",
      "Shift p-vals:  0.27000001072883606\n",
      "Random Run 4 : Sample 20\n",
      "No GPU detected, fall back on CPU.\n",
      "Shift p-vals:  0.23999999463558197\n",
      "Random Run 4 : Sample 50\n",
      "No GPU detected, fall back on CPU.\n",
      "Shift p-vals:  0.11999999731779099\n",
      "Random Run 4 : Sample 100\n",
      "No GPU detected, fall back on CPU.\n",
      "Shift p-vals:  0.3199999928474426\n",
      "Random Run 4 : Sample 200\n",
      "No GPU detected, fall back on CPU.\n",
      "Shift p-vals:  0.009999999776482582\n",
      "Random Run 4 : Sample 500\n",
      "No GPU detected, fall back on CPU.\n",
      "Shift p-vals:  0.029999999329447746\n",
      "Random Run 4 : Sample 1000\n",
      "No GPU detected, fall back on CPU.\n",
      "Shift p-vals:  0.4300000071525574\n",
      "Random Run 4 : Sample 2000\n",
      "No GPU detected, fall back on CPU.\n"
     ]
    },
    {
     "name": "stderr",
     "output_type": "stream",
     "text": [
      "torch.range is deprecated and will be removed in a future release because its behavior is inconsistent with Python's range builtin. Instead, use torch.arange, which produces values in [start, end).\n",
      "2022-03-17 12:32:53,861 \u001b[1;37mINFO\u001b[0m cyclops.processors.base - Processing raw admin data...\n",
      "2022-03-17 12:32:53,868 \u001b[1;37mINFO\u001b[0m cyclops.processors.base - # samples: 10756, # encounters: 10756\n",
      "2022-03-17 12:32:53,871 \u001b[1;37mINFO\u001b[0m cyclops.processors.admin - # admin features: 2, # encounters: 10756\n"
     ]
    },
    {
     "name": "stdout",
     "output_type": "stream",
     "text": [
      "Shift p-vals:  0.8299999833106995\n",
      "Shift covid\n"
     ]
    },
    {
     "name": "stderr",
     "output_type": "stream",
     "text": [
      "2022-03-17 12:32:59,566 \u001b[1;37mINFO\u001b[0m cyclops.utils.profile - Finished executing function process in 5.705003 s\n"
     ]
    },
    {
     "name": "stdout",
     "output_type": "stream",
     "text": [
      "Random Run 0 : Sample 10\n",
      "No GPU detected, fall back on CPU.\n",
      "Shift p-vals:  0.07999999821186066\n",
      "Random Run 0 : Sample 20\n",
      "No GPU detected, fall back on CPU.\n",
      "Shift p-vals:  0.41999998688697815\n",
      "Random Run 0 : Sample 50\n",
      "No GPU detected, fall back on CPU.\n",
      "Shift p-vals:  0.5099999904632568\n",
      "Random Run 0 : Sample 100\n",
      "No GPU detected, fall back on CPU.\n",
      "Shift p-vals:  0.49000000953674316\n",
      "Random Run 0 : Sample 200\n",
      "No GPU detected, fall back on CPU.\n",
      "Shift p-vals:  0.8799999952316284\n",
      "Random Run 0 : Sample 500\n",
      "No GPU detected, fall back on CPU.\n",
      "Shift p-vals:  0.4699999988079071\n",
      "Random Run 0 : Sample 1000\n",
      "No GPU detected, fall back on CPU.\n",
      "Shift p-vals:  0.07999999821186066\n",
      "Random Run 0 : Sample 2000\n",
      "No GPU detected, fall back on CPU.\n"
     ]
    },
    {
     "name": "stderr",
     "output_type": "stream",
     "text": [
      "2022-03-17 12:33:27,837 \u001b[1;37mINFO\u001b[0m cyclops.processors.base - Processing raw admin data...\n",
      "2022-03-17 12:33:27,840 \u001b[1;37mINFO\u001b[0m cyclops.processors.base - # samples: 10756, # encounters: 10756\n",
      "2022-03-17 12:33:27,845 \u001b[1;37mINFO\u001b[0m cyclops.processors.admin - # admin features: 2, # encounters: 10756\n"
     ]
    },
    {
     "name": "stdout",
     "output_type": "stream",
     "text": [
      "Shift p-vals:  0.18000000715255737\n"
     ]
    },
    {
     "name": "stderr",
     "output_type": "stream",
     "text": [
      "2022-03-17 12:33:33,651 \u001b[1;37mINFO\u001b[0m cyclops.utils.profile - Finished executing function process in 5.813882 s\n"
     ]
    },
    {
     "name": "stdout",
     "output_type": "stream",
     "text": [
      "Random Run 1 : Sample 10\n",
      "No GPU detected, fall back on CPU.\n",
      "Shift p-vals:  0.6299999952316284\n",
      "Random Run 1 : Sample 20\n",
      "No GPU detected, fall back on CPU.\n",
      "Shift p-vals:  0.4699999988079071\n",
      "Random Run 1 : Sample 50\n",
      "No GPU detected, fall back on CPU.\n",
      "Shift p-vals:  0.25\n",
      "Random Run 1 : Sample 100\n",
      "No GPU detected, fall back on CPU.\n",
      "Shift p-vals:  0.5799999833106995\n",
      "Random Run 1 : Sample 200\n",
      "No GPU detected, fall back on CPU.\n",
      "Shift p-vals:  0.8299999833106995\n",
      "Random Run 1 : Sample 500\n",
      "No GPU detected, fall back on CPU.\n",
      "Shift p-vals:  0.2800000011920929\n",
      "Random Run 1 : Sample 1000\n",
      "No GPU detected, fall back on CPU.\n",
      "Shift p-vals:  0.0\n",
      "Random Run 1 : Sample 2000\n",
      "No GPU detected, fall back on CPU.\n"
     ]
    },
    {
     "name": "stderr",
     "output_type": "stream",
     "text": [
      "2022-03-17 12:34:02,742 \u001b[1;37mINFO\u001b[0m cyclops.processors.base - Processing raw admin data...\n",
      "2022-03-17 12:34:02,747 \u001b[1;37mINFO\u001b[0m cyclops.processors.base - # samples: 10756, # encounters: 10756\n",
      "2022-03-17 12:34:02,755 \u001b[1;37mINFO\u001b[0m cyclops.processors.admin - # admin features: 2, # encounters: 10756\n"
     ]
    },
    {
     "name": "stdout",
     "output_type": "stream",
     "text": [
      "Shift p-vals:  0.019999999552965164\n"
     ]
    },
    {
     "name": "stderr",
     "output_type": "stream",
     "text": [
      "2022-03-17 12:34:08,384 \u001b[1;37mINFO\u001b[0m cyclops.utils.profile - Finished executing function process in 5.640421 s\n"
     ]
    },
    {
     "name": "stdout",
     "output_type": "stream",
     "text": [
      "Random Run 2 : Sample 10\n",
      "No GPU detected, fall back on CPU.\n",
      "Shift p-vals:  0.3799999952316284\n",
      "Random Run 2 : Sample 20\n",
      "No GPU detected, fall back on CPU.\n",
      "Shift p-vals:  0.9800000190734863\n",
      "Random Run 2 : Sample 50\n",
      "No GPU detected, fall back on CPU.\n",
      "Shift p-vals:  0.5699999928474426\n",
      "Random Run 2 : Sample 100\n",
      "No GPU detected, fall back on CPU.\n",
      "Shift p-vals:  0.5899999737739563\n",
      "Random Run 2 : Sample 200\n",
      "No GPU detected, fall back on CPU.\n",
      "Shift p-vals:  0.7599999904632568\n",
      "Random Run 2 : Sample 500\n",
      "No GPU detected, fall back on CPU.\n",
      "Shift p-vals:  0.3400000035762787\n",
      "Random Run 2 : Sample 1000\n",
      "No GPU detected, fall back on CPU.\n",
      "Shift p-vals:  0.019999999552965164\n",
      "Random Run 2 : Sample 2000\n",
      "No GPU detected, fall back on CPU.\n",
      "Shift p-vals:  0.10000000149011612\n"
     ]
    },
    {
     "name": "stderr",
     "output_type": "stream",
     "text": [
      "2022-03-17 12:34:34,757 \u001b[1;37mINFO\u001b[0m cyclops.processors.base - Processing raw admin data...\n",
      "2022-03-17 12:34:34,767 \u001b[1;37mINFO\u001b[0m cyclops.processors.base - # samples: 10756, # encounters: 10756\n",
      "2022-03-17 12:34:34,769 \u001b[1;37mINFO\u001b[0m cyclops.processors.admin - # admin features: 2, # encounters: 10756\n",
      "2022-03-17 12:34:40,415 \u001b[1;37mINFO\u001b[0m cyclops.utils.profile - Finished executing function process in 5.657734 s\n"
     ]
    },
    {
     "name": "stdout",
     "output_type": "stream",
     "text": [
      "Random Run 3 : Sample 10\n",
      "No GPU detected, fall back on CPU.\n",
      "Shift p-vals:  0.25\n",
      "Random Run 3 : Sample 20\n",
      "No GPU detected, fall back on CPU.\n",
      "Shift p-vals:  0.5600000023841858\n",
      "Random Run 3 : Sample 50\n",
      "No GPU detected, fall back on CPU.\n",
      "Shift p-vals:  0.800000011920929\n",
      "Random Run 3 : Sample 100\n",
      "No GPU detected, fall back on CPU.\n",
      "Shift p-vals:  0.7400000095367432\n",
      "Random Run 3 : Sample 200\n",
      "No GPU detected, fall back on CPU.\n",
      "Shift p-vals:  0.8500000238418579\n",
      "Random Run 3 : Sample 500\n",
      "No GPU detected, fall back on CPU.\n",
      "Shift p-vals:  0.25999999046325684\n",
      "Random Run 3 : Sample 1000\n",
      "No GPU detected, fall back on CPU.\n",
      "Shift p-vals:  0.05000000074505806\n",
      "Random Run 3 : Sample 2000\n",
      "No GPU detected, fall back on CPU.\n"
     ]
    },
    {
     "name": "stderr",
     "output_type": "stream",
     "text": [
      "2022-03-17 12:35:09,541 \u001b[1;37mINFO\u001b[0m cyclops.processors.base - Processing raw admin data...\n",
      "2022-03-17 12:35:09,543 \u001b[1;37mINFO\u001b[0m cyclops.processors.base - # samples: 10756, # encounters: 10756\n",
      "2022-03-17 12:35:09,545 \u001b[1;37mINFO\u001b[0m cyclops.processors.admin - # admin features: 2, # encounters: 10756\n"
     ]
    },
    {
     "name": "stdout",
     "output_type": "stream",
     "text": [
      "Shift p-vals:  0.07999999821186066\n"
     ]
    },
    {
     "name": "stderr",
     "output_type": "stream",
     "text": [
      "2022-03-17 12:35:15,347 \u001b[1;37mINFO\u001b[0m cyclops.utils.profile - Finished executing function process in 5.806554 s\n"
     ]
    },
    {
     "name": "stdout",
     "output_type": "stream",
     "text": [
      "Random Run 4 : Sample 10\n",
      "No GPU detected, fall back on CPU.\n",
      "Shift p-vals:  0.5099999904632568\n",
      "Random Run 4 : Sample 20\n",
      "No GPU detected, fall back on CPU.\n",
      "Shift p-vals:  0.8100000023841858\n",
      "Random Run 4 : Sample 50\n",
      "No GPU detected, fall back on CPU.\n",
      "Shift p-vals:  0.46000000834465027\n",
      "Random Run 4 : Sample 100\n",
      "No GPU detected, fall back on CPU.\n",
      "Shift p-vals:  0.5199999809265137\n",
      "Random Run 4 : Sample 200\n",
      "No GPU detected, fall back on CPU.\n",
      "Shift p-vals:  0.550000011920929\n",
      "Random Run 4 : Sample 500\n",
      "No GPU detected, fall back on CPU.\n",
      "Shift p-vals:  0.4699999988079071\n",
      "Random Run 4 : Sample 1000\n",
      "No GPU detected, fall back on CPU.\n",
      "Shift p-vals:  0.019999999552965164\n",
      "Random Run 4 : Sample 2000\n",
      "No GPU detected, fall back on CPU.\n",
      "Shift p-vals:  0.10000000149011612\n",
      "Shift covid\n"
     ]
    },
    {
     "name": "stderr",
     "output_type": "stream",
     "text": [
      "torch.range is deprecated and will be removed in a future release because its behavior is inconsistent with Python's range builtin. Instead, use torch.arange, which produces values in [start, end).\n",
      "2022-03-17 12:35:44,576 \u001b[1;37mINFO\u001b[0m cyclops.processors.base - Processing raw admin data...\n",
      "2022-03-17 12:35:44,586 \u001b[1;37mINFO\u001b[0m cyclops.processors.base - # samples: 10756, # encounters: 10756\n",
      "2022-03-17 12:35:44,588 \u001b[1;37mINFO\u001b[0m cyclops.processors.admin - # admin features: 2, # encounters: 10756\n",
      "2022-03-17 12:35:50,444 \u001b[1;37mINFO\u001b[0m cyclops.utils.profile - Finished executing function process in 5.867347 s\n"
     ]
    },
    {
     "name": "stdout",
     "output_type": "stream",
     "text": [
      "Random Run 0 : Sample 10\n",
      "No GPU detected, fall back on CPU.\n",
      "Shift p-vals:  0.0\n",
      "Random Run 0 : Sample 20\n",
      "No GPU detected, fall back on CPU.\n",
      "Shift p-vals:  0.0\n",
      "Random Run 0 : Sample 50\n",
      "No GPU detected, fall back on CPU.\n",
      "Shift p-vals:  0.0\n",
      "Random Run 0 : Sample 100\n",
      "No GPU detected, fall back on CPU.\n",
      "Shift p-vals:  0.0\n",
      "Random Run 0 : Sample 200\n",
      "No GPU detected, fall back on CPU.\n",
      "Shift p-vals:  0.0\n",
      "Random Run 0 : Sample 500\n",
      "No GPU detected, fall back on CPU.\n",
      "Shift p-vals:  0.0\n",
      "Random Run 0 : Sample 1000\n",
      "No GPU detected, fall back on CPU.\n",
      "Shift p-vals:  0.0\n",
      "Random Run 0 : Sample 2000\n",
      "No GPU detected, fall back on CPU.\n"
     ]
    },
    {
     "name": "stderr",
     "output_type": "stream",
     "text": [
      "2022-03-17 12:35:52,260 \u001b[1;37mINFO\u001b[0m cyclops.processors.base - Processing raw admin data...\n",
      "2022-03-17 12:35:52,264 \u001b[1;37mINFO\u001b[0m cyclops.processors.base - # samples: 10756, # encounters: 10756\n",
      "2022-03-17 12:35:52,267 \u001b[1;37mINFO\u001b[0m cyclops.processors.admin - # admin features: 2, # encounters: 10756\n"
     ]
    },
    {
     "name": "stdout",
     "output_type": "stream",
     "text": [
      "Shift p-vals:  0.0\n"
     ]
    },
    {
     "name": "stderr",
     "output_type": "stream",
     "text": [
      "2022-03-17 12:35:58,327 \u001b[1;37mINFO\u001b[0m cyclops.utils.profile - Finished executing function process in 6.067056 s\n"
     ]
    },
    {
     "name": "stdout",
     "output_type": "stream",
     "text": [
      "Random Run 1 : Sample 10\n",
      "No GPU detected, fall back on CPU.\n",
      "Shift p-vals:  0.0\n",
      "Random Run 1 : Sample 20\n",
      "No GPU detected, fall back on CPU.\n",
      "Shift p-vals:  0.0\n",
      "Random Run 1 : Sample 50\n",
      "No GPU detected, fall back on CPU.\n",
      "Shift p-vals:  0.0\n",
      "Random Run 1 : Sample 100\n",
      "No GPU detected, fall back on CPU.\n",
      "Shift p-vals:  0.0\n",
      "Random Run 1 : Sample 200\n",
      "No GPU detected, fall back on CPU.\n",
      "Shift p-vals:  0.0\n",
      "Random Run 1 : Sample 500\n",
      "No GPU detected, fall back on CPU.\n",
      "Shift p-vals:  0.0\n",
      "Random Run 1 : Sample 1000\n",
      "No GPU detected, fall back on CPU.\n",
      "Shift p-vals:  0.0\n",
      "Random Run 1 : Sample 2000\n",
      "No GPU detected, fall back on CPU.\n"
     ]
    },
    {
     "name": "stderr",
     "output_type": "stream",
     "text": [
      "2022-03-17 12:36:04,896 \u001b[1;37mINFO\u001b[0m cyclops.processors.base - Processing raw admin data...\n",
      "2022-03-17 12:36:04,900 \u001b[1;37mINFO\u001b[0m cyclops.processors.base - # samples: 10756, # encounters: 10756\n",
      "2022-03-17 12:36:04,904 \u001b[1;37mINFO\u001b[0m cyclops.processors.admin - # admin features: 2, # encounters: 10756\n"
     ]
    },
    {
     "name": "stdout",
     "output_type": "stream",
     "text": [
      "Shift p-vals:  0.0\n"
     ]
    },
    {
     "name": "stderr",
     "output_type": "stream",
     "text": [
      "2022-03-17 12:36:10,646 \u001b[1;37mINFO\u001b[0m cyclops.utils.profile - Finished executing function process in 5.749593 s\n"
     ]
    },
    {
     "name": "stdout",
     "output_type": "stream",
     "text": [
      "Random Run 2 : Sample 10\n",
      "No GPU detected, fall back on CPU.\n",
      "Shift p-vals:  0.12999999523162842\n",
      "Random Run 2 : Sample 20\n",
      "No GPU detected, fall back on CPU.\n",
      "Shift p-vals:  0.17000000178813934\n",
      "Random Run 2 : Sample 50\n",
      "No GPU detected, fall back on CPU.\n",
      "Shift p-vals:  0.0\n",
      "Random Run 2 : Sample 100\n",
      "No GPU detected, fall back on CPU.\n",
      "Shift p-vals:  0.0\n",
      "Random Run 2 : Sample 200\n",
      "No GPU detected, fall back on CPU.\n",
      "Shift p-vals:  0.0\n",
      "Random Run 2 : Sample 500\n",
      "No GPU detected, fall back on CPU.\n",
      "Shift p-vals:  0.0\n",
      "Random Run 2 : Sample 1000\n",
      "No GPU detected, fall back on CPU.\n",
      "Shift p-vals:  0.0\n",
      "Random Run 2 : Sample 2000\n",
      "No GPU detected, fall back on CPU.\n"
     ]
    },
    {
     "name": "stderr",
     "output_type": "stream",
     "text": [
      "2022-03-17 12:36:14,211 \u001b[1;37mINFO\u001b[0m cyclops.processors.base - Processing raw admin data...\n",
      "2022-03-17 12:36:14,213 \u001b[1;37mINFO\u001b[0m cyclops.processors.base - # samples: 10756, # encounters: 10756\n",
      "2022-03-17 12:36:14,216 \u001b[1;37mINFO\u001b[0m cyclops.processors.admin - # admin features: 2, # encounters: 10756\n"
     ]
    },
    {
     "name": "stdout",
     "output_type": "stream",
     "text": [
      "Shift p-vals:  0.0\n"
     ]
    },
    {
     "name": "stderr",
     "output_type": "stream",
     "text": [
      "2022-03-17 12:36:19,975 \u001b[1;37mINFO\u001b[0m cyclops.utils.profile - Finished executing function process in 5.763166 s\n"
     ]
    },
    {
     "name": "stdout",
     "output_type": "stream",
     "text": [
      "Random Run 3 : Sample 10\n",
      "No GPU detected, fall back on CPU.\n",
      "Shift p-vals:  0.0\n",
      "Random Run 3 : Sample 20\n",
      "No GPU detected, fall back on CPU.\n",
      "Shift p-vals:  0.0\n",
      "Random Run 3 : Sample 50\n",
      "No GPU detected, fall back on CPU.\n",
      "Shift p-vals:  0.0\n",
      "Random Run 3 : Sample 100\n",
      "No GPU detected, fall back on CPU.\n",
      "Shift p-vals:  0.0\n",
      "Random Run 3 : Sample 200\n",
      "No GPU detected, fall back on CPU.\n",
      "Shift p-vals:  0.0\n",
      "Random Run 3 : Sample 500\n",
      "No GPU detected, fall back on CPU.\n",
      "Shift p-vals:  0.0\n",
      "Random Run 3 : Sample 1000\n",
      "No GPU detected, fall back on CPU.\n",
      "Shift p-vals:  0.0\n",
      "Random Run 3 : Sample 2000\n",
      "No GPU detected, fall back on CPU.\n"
     ]
    },
    {
     "name": "stderr",
     "output_type": "stream",
     "text": [
      "2022-03-17 12:36:26,246 \u001b[1;37mINFO\u001b[0m cyclops.processors.base - Processing raw admin data...\n",
      "2022-03-17 12:36:26,252 \u001b[1;37mINFO\u001b[0m cyclops.processors.base - # samples: 10756, # encounters: 10756\n",
      "2022-03-17 12:36:26,256 \u001b[1;37mINFO\u001b[0m cyclops.processors.admin - # admin features: 2, # encounters: 10756\n"
     ]
    },
    {
     "name": "stdout",
     "output_type": "stream",
     "text": [
      "Shift p-vals:  0.0\n"
     ]
    },
    {
     "name": "stderr",
     "output_type": "stream",
     "text": [
      "2022-03-17 12:36:32,028 \u001b[1;37mINFO\u001b[0m cyclops.utils.profile - Finished executing function process in 5.782491 s\n"
     ]
    },
    {
     "name": "stdout",
     "output_type": "stream",
     "text": [
      "Random Run 4 : Sample 10\n",
      "No GPU detected, fall back on CPU.\n",
      "Shift p-vals:  0.0\n",
      "Random Run 4 : Sample 20\n",
      "No GPU detected, fall back on CPU.\n",
      "Shift p-vals:  0.0\n",
      "Random Run 4 : Sample 50\n",
      "No GPU detected, fall back on CPU.\n",
      "Shift p-vals:  0.0\n",
      "Random Run 4 : Sample 100\n",
      "No GPU detected, fall back on CPU.\n",
      "Shift p-vals:  0.0\n",
      "Random Run 4 : Sample 200\n",
      "No GPU detected, fall back on CPU.\n",
      "Shift p-vals:  0.0\n",
      "Random Run 4 : Sample 500\n",
      "No GPU detected, fall back on CPU.\n",
      "Shift p-vals:  0.0\n",
      "Random Run 4 : Sample 1000\n",
      "No GPU detected, fall back on CPU.\n",
      "Shift p-vals:  0.0\n",
      "Random Run 4 : Sample 2000\n",
      "No GPU detected, fall back on CPU.\n"
     ]
    },
    {
     "name": "stderr",
     "output_type": "stream",
     "text": [
      "torch.range is deprecated and will be removed in a future release because its behavior is inconsistent with Python's range builtin. Instead, use torch.arange, which produces values in [start, end).\n",
      "2022-03-17 12:36:38,316 \u001b[1;37mINFO\u001b[0m cyclops.processors.base - Processing raw admin data...\n",
      "2022-03-17 12:36:38,320 \u001b[1;37mINFO\u001b[0m cyclops.processors.base - # samples: 10756, # encounters: 10756\n",
      "2022-03-17 12:36:38,323 \u001b[1;37mINFO\u001b[0m cyclops.processors.admin - # admin features: 2, # encounters: 10756\n"
     ]
    },
    {
     "name": "stdout",
     "output_type": "stream",
     "text": [
      "Shift p-vals:  0.0\n",
      "Shift covid\n"
     ]
    },
    {
     "name": "stderr",
     "output_type": "stream",
     "text": [
      "2022-03-17 12:36:44,194 \u001b[1;37mINFO\u001b[0m cyclops.utils.profile - Finished executing function process in 5.878393 s\n"
     ]
    },
    {
     "name": "stdout",
     "output_type": "stream",
     "text": [
      "Random Run 0 : Sample 10\n",
      "No GPU detected, fall back on CPU.\n",
      "Shift p-vals:  0.7300000190734863\n",
      "Random Run 0 : Sample 20\n",
      "No GPU detected, fall back on CPU.\n",
      "Shift p-vals:  0.09000000357627869\n",
      "Random Run 0 : Sample 50\n",
      "No GPU detected, fall back on CPU.\n",
      "Shift p-vals:  0.009999999776482582\n",
      "Random Run 0 : Sample 100\n",
      "No GPU detected, fall back on CPU.\n",
      "Shift p-vals:  0.9100000262260437\n",
      "Random Run 0 : Sample 200\n",
      "No GPU detected, fall back on CPU.\n",
      "Shift p-vals:  0.36000001430511475\n",
      "Random Run 0 : Sample 500\n",
      "No GPU detected, fall back on CPU.\n",
      "Shift p-vals:  0.0\n",
      "Random Run 0 : Sample 1000\n",
      "No GPU detected, fall back on CPU.\n",
      "Shift p-vals:  0.0\n",
      "Random Run 0 : Sample 2000\n",
      "No GPU detected, fall back on CPU.\n"
     ]
    },
    {
     "name": "stderr",
     "output_type": "stream",
     "text": [
      "2022-03-17 12:37:12,998 \u001b[1;37mINFO\u001b[0m cyclops.processors.base - Processing raw admin data...\n",
      "2022-03-17 12:37:13,003 \u001b[1;37mINFO\u001b[0m cyclops.processors.base - # samples: 10756, # encounters: 10756\n",
      "2022-03-17 12:37:13,006 \u001b[1;37mINFO\u001b[0m cyclops.processors.admin - # admin features: 2, # encounters: 10756\n"
     ]
    },
    {
     "name": "stdout",
     "output_type": "stream",
     "text": [
      "Shift p-vals:  0.36000001430511475\n"
     ]
    },
    {
     "name": "stderr",
     "output_type": "stream",
     "text": [
      "2022-03-17 12:37:18,862 \u001b[1;37mINFO\u001b[0m cyclops.utils.profile - Finished executing function process in 5.862410 s\n"
     ]
    },
    {
     "name": "stdout",
     "output_type": "stream",
     "text": [
      "Random Run 1 : Sample 10\n",
      "No GPU detected, fall back on CPU.\n",
      "Shift p-vals:  0.8500000238418579\n",
      "Random Run 1 : Sample 20\n",
      "No GPU detected, fall back on CPU.\n",
      "Shift p-vals:  0.029999999329447746\n",
      "Random Run 1 : Sample 50\n",
      "No GPU detected, fall back on CPU.\n",
      "Shift p-vals:  0.12999999523162842\n",
      "Random Run 1 : Sample 100\n",
      "No GPU detected, fall back on CPU.\n",
      "Shift p-vals:  0.009999999776482582\n",
      "Random Run 1 : Sample 200\n",
      "No GPU detected, fall back on CPU.\n",
      "Shift p-vals:  0.009999999776482582\n",
      "Random Run 1 : Sample 500\n",
      "No GPU detected, fall back on CPU.\n",
      "Shift p-vals:  0.019999999552965164\n",
      "Random Run 1 : Sample 1000\n",
      "No GPU detected, fall back on CPU.\n",
      "Shift p-vals:  0.05999999865889549\n",
      "Random Run 1 : Sample 2000\n",
      "No GPU detected, fall back on CPU.\n",
      "Shift p-vals:  0.03999999910593033\n"
     ]
    },
    {
     "name": "stderr",
     "output_type": "stream",
     "text": [
      "2022-03-17 12:37:47,903 \u001b[1;37mINFO\u001b[0m cyclops.processors.base - Processing raw admin data...\n",
      "2022-03-17 12:37:47,906 \u001b[1;37mINFO\u001b[0m cyclops.processors.base - # samples: 10756, # encounters: 10756\n",
      "2022-03-17 12:37:47,909 \u001b[1;37mINFO\u001b[0m cyclops.processors.admin - # admin features: 2, # encounters: 10756\n",
      "2022-03-17 12:37:53,758 \u001b[1;37mINFO\u001b[0m cyclops.utils.profile - Finished executing function process in 5.854079 s\n"
     ]
    },
    {
     "name": "stdout",
     "output_type": "stream",
     "text": [
      "Random Run 2 : Sample 10\n",
      "No GPU detected, fall back on CPU.\n",
      "Shift p-vals:  0.6299999952316284\n",
      "Random Run 2 : Sample 20\n",
      "No GPU detected, fall back on CPU.\n",
      "Shift p-vals:  0.9900000095367432\n",
      "Random Run 2 : Sample 50\n",
      "No GPU detected, fall back on CPU.\n",
      "Shift p-vals:  0.38999998569488525\n",
      "Random Run 2 : Sample 100\n",
      "No GPU detected, fall back on CPU.\n",
      "Shift p-vals:  0.4399999976158142\n",
      "Random Run 2 : Sample 200\n",
      "No GPU detected, fall back on CPU.\n",
      "Shift p-vals:  0.12999999523162842\n",
      "Random Run 2 : Sample 500\n",
      "No GPU detected, fall back on CPU.\n",
      "Shift p-vals:  0.05000000074505806\n",
      "Random Run 2 : Sample 1000\n",
      "No GPU detected, fall back on CPU.\n",
      "Shift p-vals:  0.07999999821186066\n",
      "Random Run 2 : Sample 2000\n",
      "No GPU detected, fall back on CPU.\n",
      "Shift p-vals:  0.0\n"
     ]
    },
    {
     "name": "stderr",
     "output_type": "stream",
     "text": [
      "2022-03-17 12:38:19,683 \u001b[1;37mINFO\u001b[0m cyclops.processors.base - Processing raw admin data...\n",
      "2022-03-17 12:38:19,687 \u001b[1;37mINFO\u001b[0m cyclops.processors.base - # samples: 10756, # encounters: 10756\n",
      "2022-03-17 12:38:19,689 \u001b[1;37mINFO\u001b[0m cyclops.processors.admin - # admin features: 2, # encounters: 10756\n",
      "2022-03-17 12:38:25,242 \u001b[1;37mINFO\u001b[0m cyclops.utils.profile - Finished executing function process in 5.559166 s\n"
     ]
    },
    {
     "name": "stdout",
     "output_type": "stream",
     "text": [
      "Random Run 3 : Sample 10\n",
      "No GPU detected, fall back on CPU.\n",
      "Shift p-vals:  0.7599999904632568\n",
      "Random Run 3 : Sample 20\n",
      "No GPU detected, fall back on CPU.\n",
      "Shift p-vals:  0.4300000071525574\n",
      "Random Run 3 : Sample 50\n",
      "No GPU detected, fall back on CPU.\n",
      "Shift p-vals:  0.9800000190734863\n",
      "Random Run 3 : Sample 100\n",
      "No GPU detected, fall back on CPU.\n",
      "Shift p-vals:  0.5899999737739563\n",
      "Random Run 3 : Sample 200\n",
      "No GPU detected, fall back on CPU.\n",
      "Shift p-vals:  0.4300000071525574\n",
      "Random Run 3 : Sample 500\n",
      "No GPU detected, fall back on CPU.\n",
      "Shift p-vals:  0.0\n",
      "Random Run 3 : Sample 1000\n",
      "No GPU detected, fall back on CPU.\n",
      "Shift p-vals:  0.07000000029802322\n",
      "Random Run 3 : Sample 2000\n",
      "No GPU detected, fall back on CPU.\n"
     ]
    },
    {
     "name": "stderr",
     "output_type": "stream",
     "text": [
      "2022-03-17 12:38:54,144 \u001b[1;37mINFO\u001b[0m cyclops.processors.base - Processing raw admin data...\n",
      "2022-03-17 12:38:54,147 \u001b[1;37mINFO\u001b[0m cyclops.processors.base - # samples: 10756, # encounters: 10756\n",
      "2022-03-17 12:38:54,151 \u001b[1;37mINFO\u001b[0m cyclops.processors.admin - # admin features: 2, # encounters: 10756\n"
     ]
    },
    {
     "name": "stdout",
     "output_type": "stream",
     "text": [
      "Shift p-vals:  0.03999999910593033\n"
     ]
    },
    {
     "name": "stderr",
     "output_type": "stream",
     "text": [
      "2022-03-17 12:38:59,713 \u001b[1;37mINFO\u001b[0m cyclops.utils.profile - Finished executing function process in 5.569561 s\n"
     ]
    },
    {
     "name": "stdout",
     "output_type": "stream",
     "text": [
      "Random Run 4 : Sample 10\n",
      "No GPU detected, fall back on CPU.\n",
      "Shift p-vals:  0.10999999940395355\n",
      "Random Run 4 : Sample 20\n",
      "No GPU detected, fall back on CPU.\n",
      "Shift p-vals:  0.5099999904632568\n",
      "Random Run 4 : Sample 50\n",
      "No GPU detected, fall back on CPU.\n",
      "Shift p-vals:  0.2800000011920929\n",
      "Random Run 4 : Sample 100\n",
      "No GPU detected, fall back on CPU.\n",
      "Shift p-vals:  0.1599999964237213\n",
      "Random Run 4 : Sample 200\n",
      "No GPU detected, fall back on CPU.\n",
      "Shift p-vals:  0.2199999988079071\n",
      "Random Run 4 : Sample 500\n",
      "No GPU detected, fall back on CPU.\n",
      "Shift p-vals:  0.18000000715255737\n",
      "Random Run 4 : Sample 1000\n",
      "No GPU detected, fall back on CPU.\n",
      "Shift p-vals:  0.0\n",
      "Random Run 4 : Sample 2000\n",
      "No GPU detected, fall back on CPU.\n"
     ]
    },
    {
     "name": "stderr",
     "output_type": "stream",
     "text": [
      "torch.range is deprecated and will be removed in a future release because its behavior is inconsistent with Python's range builtin. Instead, use torch.arange, which produces values in [start, end).\n",
      "2022-03-17 12:39:28,312 \u001b[1;37mINFO\u001b[0m cyclops.processors.base - Processing raw admin data...\n",
      "2022-03-17 12:39:28,314 \u001b[1;37mINFO\u001b[0m cyclops.processors.base - # samples: 10756, # encounters: 10756\n",
      "2022-03-17 12:39:28,318 \u001b[1;37mINFO\u001b[0m cyclops.processors.admin - # admin features: 2, # encounters: 10756\n"
     ]
    },
    {
     "name": "stdout",
     "output_type": "stream",
     "text": [
      "Shift p-vals:  0.0\n",
      "Shift covid\n"
     ]
    },
    {
     "name": "stderr",
     "output_type": "stream",
     "text": [
      "2022-03-17 12:39:34,210 \u001b[1;37mINFO\u001b[0m cyclops.utils.profile - Finished executing function process in 5.898967 s\n"
     ]
    },
    {
     "name": "stdout",
     "output_type": "stream",
     "text": [
      "Random Run 0 : Sample 10\n",
      "No GPU detected, fall back on CPU.\n",
      "Shift p-vals:  0.7200000286102295\n",
      "Random Run 0 : Sample 20\n",
      "No GPU detected, fall back on CPU.\n",
      "Shift p-vals:  0.029999999329447746\n",
      "Random Run 0 : Sample 50\n",
      "No GPU detected, fall back on CPU.\n",
      "Shift p-vals:  0.11999999731779099\n",
      "Random Run 0 : Sample 100\n",
      "No GPU detected, fall back on CPU.\n",
      "Shift p-vals:  0.8500000238418579\n",
      "Random Run 0 : Sample 200\n",
      "No GPU detected, fall back on CPU.\n",
      "Shift p-vals:  0.2800000011920929\n",
      "Random Run 0 : Sample 500\n",
      "No GPU detected, fall back on CPU.\n",
      "Shift p-vals:  0.0\n",
      "Random Run 0 : Sample 1000\n",
      "No GPU detected, fall back on CPU.\n",
      "Shift p-vals:  0.0\n",
      "Random Run 0 : Sample 2000\n",
      "No GPU detected, fall back on CPU.\n"
     ]
    },
    {
     "name": "stderr",
     "output_type": "stream",
     "text": [
      "2022-03-17 12:39:37,662 \u001b[1;37mINFO\u001b[0m cyclops.processors.base - Processing raw admin data...\n",
      "2022-03-17 12:39:37,667 \u001b[1;37mINFO\u001b[0m cyclops.processors.base - # samples: 10756, # encounters: 10756\n",
      "2022-03-17 12:39:37,670 \u001b[1;37mINFO\u001b[0m cyclops.processors.admin - # admin features: 2, # encounters: 10756\n"
     ]
    },
    {
     "name": "stdout",
     "output_type": "stream",
     "text": [
      "Shift p-vals:  0.800000011920929\n"
     ]
    },
    {
     "name": "stderr",
     "output_type": "stream",
     "text": [
      "2022-03-17 12:39:43,400 \u001b[1;37mINFO\u001b[0m cyclops.utils.profile - Finished executing function process in 5.737421 s\n"
     ]
    },
    {
     "name": "stdout",
     "output_type": "stream",
     "text": [
      "Random Run 1 : Sample 10\n",
      "No GPU detected, fall back on CPU.\n",
      "Shift p-vals:  0.25\n",
      "Random Run 1 : Sample 20\n",
      "No GPU detected, fall back on CPU.\n",
      "Shift p-vals:  0.4300000071525574\n",
      "Random Run 1 : Sample 50\n",
      "No GPU detected, fall back on CPU.\n",
      "Shift p-vals:  0.10000000149011612\n",
      "Random Run 1 : Sample 100\n",
      "No GPU detected, fall back on CPU.\n",
      "Shift p-vals:  0.0\n",
      "Random Run 1 : Sample 200\n",
      "No GPU detected, fall back on CPU.\n",
      "Shift p-vals:  0.0\n",
      "Random Run 1 : Sample 500\n",
      "No GPU detected, fall back on CPU.\n",
      "Shift p-vals:  0.03999999910593033\n",
      "Random Run 1 : Sample 1000\n",
      "No GPU detected, fall back on CPU.\n",
      "Shift p-vals:  0.27000001072883606\n",
      "Random Run 1 : Sample 2000\n",
      "No GPU detected, fall back on CPU.\n"
     ]
    },
    {
     "name": "stderr",
     "output_type": "stream",
     "text": [
      "2022-03-17 12:39:47,102 \u001b[1;37mINFO\u001b[0m cyclops.processors.base - Processing raw admin data...\n",
      "2022-03-17 12:39:47,107 \u001b[1;37mINFO\u001b[0m cyclops.processors.base - # samples: 10756, # encounters: 10756\n",
      "2022-03-17 12:39:47,110 \u001b[1;37mINFO\u001b[0m cyclops.processors.admin - # admin features: 2, # encounters: 10756\n"
     ]
    },
    {
     "name": "stdout",
     "output_type": "stream",
     "text": [
      "Shift p-vals:  0.0\n"
     ]
    },
    {
     "name": "stderr",
     "output_type": "stream",
     "text": [
      "2022-03-17 12:39:52,820 \u001b[1;37mINFO\u001b[0m cyclops.utils.profile - Finished executing function process in 5.717738 s\n"
     ]
    },
    {
     "name": "stdout",
     "output_type": "stream",
     "text": [
      "Random Run 2 : Sample 10\n",
      "No GPU detected, fall back on CPU.\n",
      "Shift p-vals:  0.5600000023841858\n",
      "Random Run 2 : Sample 20\n",
      "No GPU detected, fall back on CPU.\n",
      "Shift p-vals:  0.8700000047683716\n",
      "Random Run 2 : Sample 50\n",
      "No GPU detected, fall back on CPU.\n",
      "Shift p-vals:  0.05999999865889549\n",
      "Random Run 2 : Sample 100\n",
      "No GPU detected, fall back on CPU.\n",
      "Shift p-vals:  0.10000000149011612\n",
      "Random Run 2 : Sample 200\n",
      "No GPU detected, fall back on CPU.\n",
      "Shift p-vals:  0.3700000047683716\n",
      "Random Run 2 : Sample 500\n",
      "No GPU detected, fall back on CPU.\n",
      "Shift p-vals:  0.0\n",
      "Random Run 2 : Sample 1000\n",
      "No GPU detected, fall back on CPU.\n",
      "Shift p-vals:  0.03999999910593033\n",
      "Random Run 2 : Sample 2000\n",
      "No GPU detected, fall back on CPU.\n"
     ]
    },
    {
     "name": "stderr",
     "output_type": "stream",
     "text": [
      "2022-03-17 12:39:58,909 \u001b[1;37mINFO\u001b[0m cyclops.processors.base - Processing raw admin data...\n",
      "2022-03-17 12:39:58,914 \u001b[1;37mINFO\u001b[0m cyclops.processors.base - # samples: 10756, # encounters: 10756\n",
      "2022-03-17 12:39:58,918 \u001b[1;37mINFO\u001b[0m cyclops.processors.admin - # admin features: 2, # encounters: 10756\n"
     ]
    },
    {
     "name": "stdout",
     "output_type": "stream",
     "text": [
      "Shift p-vals:  0.0\n"
     ]
    },
    {
     "name": "stderr",
     "output_type": "stream",
     "text": [
      "2022-03-17 12:40:04,971 \u001b[1;37mINFO\u001b[0m cyclops.utils.profile - Finished executing function process in 6.061826 s\n"
     ]
    },
    {
     "name": "stdout",
     "output_type": "stream",
     "text": [
      "Random Run 3 : Sample 10\n",
      "No GPU detected, fall back on CPU.\n",
      "Shift p-vals:  0.7400000095367432\n",
      "Random Run 3 : Sample 20\n",
      "No GPU detected, fall back on CPU.\n",
      "Shift p-vals:  0.5799999833106995\n",
      "Random Run 3 : Sample 50\n",
      "No GPU detected, fall back on CPU.\n",
      "Shift p-vals:  0.75\n",
      "Random Run 3 : Sample 100\n",
      "No GPU detected, fall back on CPU.\n",
      "Shift p-vals:  0.17000000178813934\n",
      "Random Run 3 : Sample 200\n",
      "No GPU detected, fall back on CPU.\n",
      "Shift p-vals:  0.7200000286102295\n",
      "Random Run 3 : Sample 500\n",
      "No GPU detected, fall back on CPU.\n",
      "Shift p-vals:  0.0\n",
      "Random Run 3 : Sample 1000\n",
      "No GPU detected, fall back on CPU.\n",
      "Shift p-vals:  0.09000000357627869\n",
      "Random Run 3 : Sample 2000\n",
      "No GPU detected, fall back on CPU.\n"
     ]
    },
    {
     "name": "stderr",
     "output_type": "stream",
     "text": [
      "2022-03-17 12:40:11,334 \u001b[1;37mINFO\u001b[0m cyclops.processors.base - Processing raw admin data...\n",
      "2022-03-17 12:40:11,339 \u001b[1;37mINFO\u001b[0m cyclops.processors.base - # samples: 10756, # encounters: 10756\n",
      "2022-03-17 12:40:11,342 \u001b[1;37mINFO\u001b[0m cyclops.processors.admin - # admin features: 2, # encounters: 10756\n"
     ]
    },
    {
     "name": "stdout",
     "output_type": "stream",
     "text": [
      "Shift p-vals:  0.10999999940395355\n"
     ]
    },
    {
     "name": "stderr",
     "output_type": "stream",
     "text": [
      "2022-03-17 12:40:17,083 \u001b[1;37mINFO\u001b[0m cyclops.utils.profile - Finished executing function process in 5.748720 s\n"
     ]
    },
    {
     "name": "stdout",
     "output_type": "stream",
     "text": [
      "Random Run 4 : Sample 10\n",
      "No GPU detected, fall back on CPU.\n",
      "Shift p-vals:  0.5299999713897705\n",
      "Random Run 4 : Sample 20\n",
      "No GPU detected, fall back on CPU.\n",
      "Shift p-vals:  0.0\n",
      "Random Run 4 : Sample 50\n",
      "No GPU detected, fall back on CPU.\n",
      "Shift p-vals:  0.9599999785423279\n",
      "Random Run 4 : Sample 100\n",
      "No GPU detected, fall back on CPU.\n",
      "Shift p-vals:  0.28999999165534973\n",
      "Random Run 4 : Sample 200\n",
      "No GPU detected, fall back on CPU.\n",
      "Shift p-vals:  0.46000000834465027\n",
      "Random Run 4 : Sample 500\n",
      "No GPU detected, fall back on CPU.\n",
      "Shift p-vals:  0.0\n",
      "Random Run 4 : Sample 1000\n",
      "No GPU detected, fall back on CPU.\n",
      "Shift p-vals:  0.009999999776482582\n",
      "Random Run 4 : Sample 2000\n",
      "No GPU detected, fall back on CPU.\n"
     ]
    },
    {
     "name": "stderr",
     "output_type": "stream",
     "text": [
      "torch.range is deprecated and will be removed in a future release because its behavior is inconsistent with Python's range builtin. Instead, use torch.arange, which produces values in [start, end).\n",
      "2022-03-17 12:40:23,379 \u001b[1;37mINFO\u001b[0m cyclops.processors.base - Processing raw admin data...\n",
      "2022-03-17 12:40:23,381 \u001b[1;37mINFO\u001b[0m cyclops.processors.base - # samples: 10756, # encounters: 10756\n",
      "2022-03-17 12:40:23,388 \u001b[1;37mINFO\u001b[0m cyclops.processors.admin - # admin features: 2, # encounters: 10756\n"
     ]
    },
    {
     "name": "stdout",
     "output_type": "stream",
     "text": [
      "Shift p-vals:  0.0\n",
      "Shift covid\n"
     ]
    },
    {
     "name": "stderr",
     "output_type": "stream",
     "text": [
      "2022-03-17 12:40:29,694 \u001b[1;37mINFO\u001b[0m cyclops.utils.profile - Finished executing function process in 6.315602 s\n"
     ]
    },
    {
     "name": "stdout",
     "output_type": "stream",
     "text": [
      "Random Run 0 : Sample 10\n",
      "No GPU detected, fall back on CPU.\n",
      "Shift p-vals:  0.9900000095367432\n",
      "Random Run 0 : Sample 20\n",
      "No GPU detected, fall back on CPU.\n",
      "Shift p-vals:  0.6700000166893005\n",
      "Random Run 0 : Sample 50\n",
      "No GPU detected, fall back on CPU.\n",
      "Shift p-vals:  0.5899999737739563\n",
      "Random Run 0 : Sample 100\n",
      "No GPU detected, fall back on CPU.\n",
      "Shift p-vals:  0.9100000262260437\n",
      "Random Run 0 : Sample 200\n",
      "No GPU detected, fall back on CPU.\n",
      "Shift p-vals:  0.8399999737739563\n",
      "Random Run 0 : Sample 500\n",
      "No GPU detected, fall back on CPU.\n",
      "Shift p-vals:  0.2199999988079071\n",
      "Random Run 0 : Sample 1000\n",
      "No GPU detected, fall back on CPU.\n",
      "Shift p-vals:  0.23999999463558197\n",
      "Random Run 0 : Sample 2000\n",
      "No GPU detected, fall back on CPU.\n",
      "Shift p-vals:  0.25\n"
     ]
    },
    {
     "name": "stderr",
     "output_type": "stream",
     "text": [
      "2022-03-17 12:41:18,271 \u001b[1;37mINFO\u001b[0m cyclops.processors.base - Processing raw admin data...\n",
      "2022-03-17 12:41:18,273 \u001b[1;37mINFO\u001b[0m cyclops.processors.base - # samples: 10756, # encounters: 10756\n",
      "2022-03-17 12:41:18,276 \u001b[1;37mINFO\u001b[0m cyclops.processors.admin - # admin features: 2, # encounters: 10756\n",
      "2022-03-17 12:41:24,235 \u001b[1;37mINFO\u001b[0m cyclops.utils.profile - Finished executing function process in 5.964131 s\n"
     ]
    },
    {
     "name": "stdout",
     "output_type": "stream",
     "text": [
      "Random Run 1 : Sample 10\n",
      "No GPU detected, fall back on CPU.\n",
      "Shift p-vals:  0.10999999940395355\n",
      "Random Run 1 : Sample 20\n",
      "No GPU detected, fall back on CPU.\n",
      "Shift p-vals:  0.23999999463558197\n",
      "Random Run 1 : Sample 50\n",
      "No GPU detected, fall back on CPU.\n",
      "Shift p-vals:  0.5600000023841858\n",
      "Random Run 1 : Sample 100\n",
      "No GPU detected, fall back on CPU.\n",
      "Shift p-vals:  0.5600000023841858\n",
      "Random Run 1 : Sample 200\n",
      "No GPU detected, fall back on CPU.\n",
      "Shift p-vals:  0.4399999976158142\n",
      "Random Run 1 : Sample 500\n",
      "No GPU detected, fall back on CPU.\n",
      "Shift p-vals:  0.20999999344348907\n",
      "Random Run 1 : Sample 1000\n",
      "No GPU detected, fall back on CPU.\n",
      "Shift p-vals:  0.03999999910593033\n",
      "Random Run 1 : Sample 2000\n",
      "No GPU detected, fall back on CPU.\n"
     ]
    },
    {
     "name": "stderr",
     "output_type": "stream",
     "text": [
      "2022-03-17 12:42:19,550 \u001b[1;37mINFO\u001b[0m cyclops.processors.base - Processing raw admin data...\n",
      "2022-03-17 12:42:19,554 \u001b[1;37mINFO\u001b[0m cyclops.processors.base - # samples: 10756, # encounters: 10756\n",
      "2022-03-17 12:42:19,558 \u001b[1;37mINFO\u001b[0m cyclops.processors.admin - # admin features: 2, # encounters: 10756\n"
     ]
    },
    {
     "name": "stdout",
     "output_type": "stream",
     "text": [
      "Shift p-vals:  0.019999999552965164\n"
     ]
    },
    {
     "name": "stderr",
     "output_type": "stream",
     "text": [
      "2022-03-17 12:42:25,110 \u001b[1;37mINFO\u001b[0m cyclops.utils.profile - Finished executing function process in 5.559622 s\n"
     ]
    },
    {
     "name": "stdout",
     "output_type": "stream",
     "text": [
      "Random Run 2 : Sample 10\n",
      "No GPU detected, fall back on CPU.\n",
      "Shift p-vals:  0.1899999976158142\n",
      "Random Run 2 : Sample 20\n",
      "No GPU detected, fall back on CPU.\n",
      "Shift p-vals:  0.2800000011920929\n",
      "Random Run 2 : Sample 50\n",
      "No GPU detected, fall back on CPU.\n",
      "Shift p-vals:  0.019999999552965164\n",
      "Random Run 2 : Sample 100\n",
      "No GPU detected, fall back on CPU.\n",
      "Shift p-vals:  0.10000000149011612\n",
      "Random Run 2 : Sample 200\n",
      "No GPU detected, fall back on CPU.\n",
      "Shift p-vals:  0.44999998807907104\n",
      "Random Run 2 : Sample 500\n",
      "No GPU detected, fall back on CPU.\n",
      "Shift p-vals:  0.17000000178813934\n",
      "Random Run 2 : Sample 1000\n",
      "No GPU detected, fall back on CPU.\n",
      "Shift p-vals:  0.05000000074505806\n",
      "Random Run 2 : Sample 2000\n",
      "No GPU detected, fall back on CPU.\n"
     ]
    },
    {
     "name": "stderr",
     "output_type": "stream",
     "text": [
      "2022-03-17 12:43:15,958 \u001b[1;37mINFO\u001b[0m cyclops.processors.base - Processing raw admin data...\n",
      "2022-03-17 12:43:15,960 \u001b[1;37mINFO\u001b[0m cyclops.processors.base - # samples: 10756, # encounters: 10756\n",
      "2022-03-17 12:43:15,962 \u001b[1;37mINFO\u001b[0m cyclops.processors.admin - # admin features: 2, # encounters: 10756\n"
     ]
    },
    {
     "name": "stdout",
     "output_type": "stream",
     "text": [
      "Shift p-vals:  0.07999999821186066\n"
     ]
    },
    {
     "name": "stderr",
     "output_type": "stream",
     "text": [
      "2022-03-17 12:43:21,718 \u001b[1;37mINFO\u001b[0m cyclops.utils.profile - Finished executing function process in 5.760183 s\n"
     ]
    },
    {
     "name": "stdout",
     "output_type": "stream",
     "text": [
      "Random Run 3 : Sample 10\n",
      "No GPU detected, fall back on CPU.\n",
      "Shift p-vals:  0.3799999952316284\n",
      "Random Run 3 : Sample 20\n",
      "No GPU detected, fall back on CPU.\n",
      "Shift p-vals:  0.1599999964237213\n",
      "Random Run 3 : Sample 50\n",
      "No GPU detected, fall back on CPU.\n",
      "Shift p-vals:  0.27000001072883606\n",
      "Random Run 3 : Sample 100\n",
      "No GPU detected, fall back on CPU.\n",
      "Shift p-vals:  0.23000000417232513\n",
      "Random Run 3 : Sample 200\n",
      "No GPU detected, fall back on CPU.\n",
      "Shift p-vals:  0.10999999940395355\n",
      "Random Run 3 : Sample 500\n",
      "No GPU detected, fall back on CPU.\n",
      "Shift p-vals:  0.009999999776482582\n",
      "Random Run 3 : Sample 1000\n",
      "No GPU detected, fall back on CPU.\n",
      "Shift p-vals:  0.0\n",
      "Random Run 3 : Sample 2000\n",
      "No GPU detected, fall back on CPU.\n"
     ]
    },
    {
     "name": "stderr",
     "output_type": "stream",
     "text": [
      "2022-03-17 12:44:15,348 \u001b[1;37mINFO\u001b[0m cyclops.processors.base - Processing raw admin data...\n",
      "2022-03-17 12:44:15,352 \u001b[1;37mINFO\u001b[0m cyclops.processors.base - # samples: 10756, # encounters: 10756\n",
      "2022-03-17 12:44:15,355 \u001b[1;37mINFO\u001b[0m cyclops.processors.admin - # admin features: 2, # encounters: 10756\n"
     ]
    },
    {
     "name": "stdout",
     "output_type": "stream",
     "text": [
      "Shift p-vals:  0.11999999731779099\n"
     ]
    },
    {
     "name": "stderr",
     "output_type": "stream",
     "text": [
      "2022-03-17 12:44:21,270 \u001b[1;37mINFO\u001b[0m cyclops.utils.profile - Finished executing function process in 5.922040 s\n"
     ]
    },
    {
     "name": "stdout",
     "output_type": "stream",
     "text": [
      "Random Run 4 : Sample 10\n",
      "No GPU detected, fall back on CPU.\n",
      "Shift p-vals:  0.03999999910593033\n",
      "Random Run 4 : Sample 20\n",
      "No GPU detected, fall back on CPU.\n",
      "Shift p-vals:  0.9300000071525574\n",
      "Random Run 4 : Sample 50\n",
      "No GPU detected, fall back on CPU.\n",
      "Shift p-vals:  0.7300000190734863\n",
      "Random Run 4 : Sample 100\n",
      "No GPU detected, fall back on CPU.\n",
      "Shift p-vals:  0.6000000238418579\n",
      "Random Run 4 : Sample 200\n",
      "No GPU detected, fall back on CPU.\n",
      "Shift p-vals:  0.3700000047683716\n",
      "Random Run 4 : Sample 500\n",
      "No GPU detected, fall back on CPU.\n",
      "Shift p-vals:  0.5199999809265137\n",
      "Random Run 4 : Sample 1000\n",
      "No GPU detected, fall back on CPU.\n",
      "Shift p-vals:  0.05000000074505806\n",
      "Random Run 4 : Sample 2000\n",
      "No GPU detected, fall back on CPU.\n",
      "Shift p-vals:  0.10000000149011612\n",
      "Shift covid\n"
     ]
    },
    {
     "name": "stderr",
     "output_type": "stream",
     "text": [
      "torch.range is deprecated and will be removed in a future release because its behavior is inconsistent with Python's range builtin. Instead, use torch.arange, which produces values in [start, end).\n",
      "2022-03-17 12:45:14,374 \u001b[1;37mINFO\u001b[0m cyclops.processors.base - Processing raw admin data...\n",
      "2022-03-17 12:45:14,378 \u001b[1;37mINFO\u001b[0m cyclops.processors.base - # samples: 10756, # encounters: 10756\n",
      "2022-03-17 12:45:14,381 \u001b[1;37mINFO\u001b[0m cyclops.processors.admin - # admin features: 2, # encounters: 10756\n",
      "2022-03-17 12:45:20,208 \u001b[1;37mINFO\u001b[0m cyclops.utils.profile - Finished executing function process in 5.833657 s\n"
     ]
    },
    {
     "name": "stdout",
     "output_type": "stream",
     "text": [
      "Random Run 0 : Sample 10\n",
      "No GPU detected, fall back on CPU.\n",
      "Shift p-vals:  0.7599999904632568\n",
      "Random Run 0 : Sample 20\n",
      "No GPU detected, fall back on CPU.\n",
      "Shift p-vals:  0.8500000238418579\n",
      "Random Run 0 : Sample 50\n",
      "No GPU detected, fall back on CPU.\n",
      "Shift p-vals:  0.6000000238418579\n",
      "Random Run 0 : Sample 100\n",
      "No GPU detected, fall back on CPU.\n",
      "Shift p-vals:  0.6600000262260437\n",
      "Random Run 0 : Sample 200\n",
      "No GPU detected, fall back on CPU.\n",
      "Shift p-vals:  0.9100000262260437\n",
      "Random Run 0 : Sample 500\n",
      "No GPU detected, fall back on CPU.\n",
      "Shift p-vals:  0.27000001072883606\n",
      "Random Run 0 : Sample 1000\n",
      "No GPU detected, fall back on CPU.\n",
      "Shift p-vals:  0.36000001430511475\n",
      "Random Run 0 : Sample 2000\n",
      "No GPU detected, fall back on CPU.\n"
     ]
    },
    {
     "name": "stderr",
     "output_type": "stream",
     "text": [
      "2022-03-17 12:45:48,371 \u001b[1;37mINFO\u001b[0m cyclops.processors.base - Processing raw admin data...\n",
      "2022-03-17 12:45:48,374 \u001b[1;37mINFO\u001b[0m cyclops.processors.base - # samples: 10756, # encounters: 10756\n",
      "2022-03-17 12:45:48,377 \u001b[1;37mINFO\u001b[0m cyclops.processors.admin - # admin features: 2, # encounters: 10756\n"
     ]
    },
    {
     "name": "stdout",
     "output_type": "stream",
     "text": [
      "Shift p-vals:  0.49000000953674316\n"
     ]
    },
    {
     "name": "stderr",
     "output_type": "stream",
     "text": [
      "2022-03-17 12:45:54,147 \u001b[1;37mINFO\u001b[0m cyclops.utils.profile - Finished executing function process in 5.774356 s\n"
     ]
    },
    {
     "name": "stdout",
     "output_type": "stream",
     "text": [
      "Random Run 1 : Sample 10\n",
      "No GPU detected, fall back on CPU.\n",
      "Shift p-vals:  0.3700000047683716\n",
      "Random Run 1 : Sample 20\n",
      "No GPU detected, fall back on CPU.\n",
      "Shift p-vals:  0.17000000178813934\n",
      "Random Run 1 : Sample 50\n",
      "No GPU detected, fall back on CPU.\n",
      "Shift p-vals:  0.1899999976158142\n",
      "Random Run 1 : Sample 100\n",
      "No GPU detected, fall back on CPU.\n",
      "Shift p-vals:  0.2800000011920929\n",
      "Random Run 1 : Sample 200\n",
      "No GPU detected, fall back on CPU.\n",
      "Shift p-vals:  0.46000000834465027\n",
      "Random Run 1 : Sample 500\n",
      "No GPU detected, fall back on CPU.\n",
      "Shift p-vals:  0.07999999821186066\n",
      "Random Run 1 : Sample 1000\n",
      "No GPU detected, fall back on CPU.\n",
      "Shift p-vals:  0.05999999865889549\n",
      "Random Run 1 : Sample 2000\n",
      "No GPU detected, fall back on CPU.\n"
     ]
    },
    {
     "name": "stderr",
     "output_type": "stream",
     "text": [
      "2022-03-17 12:46:24,114 \u001b[1;37mINFO\u001b[0m cyclops.processors.base - Processing raw admin data...\n",
      "2022-03-17 12:46:24,127 \u001b[1;37mINFO\u001b[0m cyclops.processors.base - # samples: 10756, # encounters: 10756\n",
      "2022-03-17 12:46:24,132 \u001b[1;37mINFO\u001b[0m cyclops.processors.admin - # admin features: 2, # encounters: 10756\n"
     ]
    },
    {
     "name": "stdout",
     "output_type": "stream",
     "text": [
      "Shift p-vals:  0.09000000357627869\n"
     ]
    },
    {
     "name": "stderr",
     "output_type": "stream",
     "text": [
      "2022-03-17 12:46:30,096 \u001b[1;37mINFO\u001b[0m cyclops.utils.profile - Finished executing function process in 5.982707 s\n"
     ]
    },
    {
     "name": "stdout",
     "output_type": "stream",
     "text": [
      "Random Run 2 : Sample 10\n",
      "No GPU detected, fall back on CPU.\n",
      "Shift p-vals:  0.10000000149011612\n",
      "Random Run 2 : Sample 20\n",
      "No GPU detected, fall back on CPU.\n",
      "Shift p-vals:  0.8100000023841858\n",
      "Random Run 2 : Sample 50\n",
      "No GPU detected, fall back on CPU.\n",
      "Shift p-vals:  0.019999999552965164\n",
      "Random Run 2 : Sample 100\n",
      "No GPU detected, fall back on CPU.\n",
      "Shift p-vals:  0.05000000074505806\n",
      "Random Run 2 : Sample 200\n",
      "No GPU detected, fall back on CPU.\n",
      "Shift p-vals:  0.4699999988079071\n",
      "Random Run 2 : Sample 500\n",
      "No GPU detected, fall back on CPU.\n",
      "Shift p-vals:  0.15000000596046448\n",
      "Random Run 2 : Sample 1000\n",
      "No GPU detected, fall back on CPU.\n",
      "Shift p-vals:  0.05999999865889549\n",
      "Random Run 2 : Sample 2000\n",
      "No GPU detected, fall back on CPU.\n"
     ]
    },
    {
     "name": "stderr",
     "output_type": "stream",
     "text": [
      "2022-03-17 12:46:55,389 \u001b[1;37mINFO\u001b[0m cyclops.processors.base - Processing raw admin data...\n",
      "2022-03-17 12:46:55,393 \u001b[1;37mINFO\u001b[0m cyclops.processors.base - # samples: 10756, # encounters: 10756\n",
      "2022-03-17 12:46:55,396 \u001b[1;37mINFO\u001b[0m cyclops.processors.admin - # admin features: 2, # encounters: 10756\n"
     ]
    },
    {
     "name": "stdout",
     "output_type": "stream",
     "text": [
      "Shift p-vals:  0.10999999940395355\n"
     ]
    },
    {
     "name": "stderr",
     "output_type": "stream",
     "text": [
      "2022-03-17 12:47:01,046 \u001b[1;37mINFO\u001b[0m cyclops.utils.profile - Finished executing function process in 5.657348 s\n"
     ]
    },
    {
     "name": "stdout",
     "output_type": "stream",
     "text": [
      "Random Run 3 : Sample 10\n",
      "No GPU detected, fall back on CPU.\n",
      "Shift p-vals:  0.15000000596046448\n",
      "Random Run 3 : Sample 20\n",
      "No GPU detected, fall back on CPU.\n",
      "Shift p-vals:  0.30000001192092896\n",
      "Random Run 3 : Sample 50\n",
      "No GPU detected, fall back on CPU.\n",
      "Shift p-vals:  0.8100000023841858\n",
      "Random Run 3 : Sample 100\n",
      "No GPU detected, fall back on CPU.\n",
      "Shift p-vals:  0.3100000023841858\n",
      "Random Run 3 : Sample 200\n",
      "No GPU detected, fall back on CPU.\n",
      "Shift p-vals:  0.12999999523162842\n",
      "Random Run 3 : Sample 500\n",
      "No GPU detected, fall back on CPU.\n",
      "Shift p-vals:  0.0\n",
      "Random Run 3 : Sample 1000\n",
      "No GPU detected, fall back on CPU.\n",
      "Shift p-vals:  0.019999999552965164\n",
      "Random Run 3 : Sample 2000\n",
      "No GPU detected, fall back on CPU.\n"
     ]
    },
    {
     "name": "stderr",
     "output_type": "stream",
     "text": [
      "2022-03-17 12:47:31,982 \u001b[1;37mINFO\u001b[0m cyclops.processors.base - Processing raw admin data...\n",
      "2022-03-17 12:47:31,985 \u001b[1;37mINFO\u001b[0m cyclops.processors.base - # samples: 10756, # encounters: 10756\n",
      "2022-03-17 12:47:31,991 \u001b[1;37mINFO\u001b[0m cyclops.processors.admin - # admin features: 2, # encounters: 10756\n"
     ]
    },
    {
     "name": "stdout",
     "output_type": "stream",
     "text": [
      "Shift p-vals:  0.12999999523162842\n"
     ]
    },
    {
     "name": "stderr",
     "output_type": "stream",
     "text": [
      "2022-03-17 12:47:37,550 \u001b[1;37mINFO\u001b[0m cyclops.utils.profile - Finished executing function process in 5.567865 s\n"
     ]
    },
    {
     "name": "stdout",
     "output_type": "stream",
     "text": [
      "Random Run 4 : Sample 10\n",
      "No GPU detected, fall back on CPU.\n",
      "Shift p-vals:  0.029999999329447746\n",
      "Random Run 4 : Sample 20\n",
      "No GPU detected, fall back on CPU.\n",
      "Shift p-vals:  0.8999999761581421\n",
      "Random Run 4 : Sample 50\n",
      "No GPU detected, fall back on CPU.\n",
      "Shift p-vals:  0.5400000214576721\n",
      "Random Run 4 : Sample 100\n",
      "No GPU detected, fall back on CPU.\n",
      "Shift p-vals:  0.7799999713897705\n",
      "Random Run 4 : Sample 200\n",
      "No GPU detected, fall back on CPU.\n",
      "Shift p-vals:  0.5199999809265137\n",
      "Random Run 4 : Sample 500\n",
      "No GPU detected, fall back on CPU.\n",
      "Shift p-vals:  0.3799999952316284\n",
      "Random Run 4 : Sample 1000\n",
      "No GPU detected, fall back on CPU.\n",
      "Shift p-vals:  0.019999999552965164\n",
      "Random Run 4 : Sample 2000\n",
      "No GPU detected, fall back on CPU.\n"
     ]
    },
    {
     "name": "stderr",
     "output_type": "stream",
     "text": [
      "torch.range is deprecated and will be removed in a future release because its behavior is inconsistent with Python's range builtin. Instead, use torch.arange, which produces values in [start, end).\n",
      "2022-03-17 12:48:06,180 \u001b[1;37mINFO\u001b[0m cyclops.processors.base - Processing raw admin data...\n",
      "2022-03-17 12:48:06,186 \u001b[1;37mINFO\u001b[0m cyclops.processors.base - # samples: 10756, # encounters: 10756\n",
      "2022-03-17 12:48:06,190 \u001b[1;37mINFO\u001b[0m cyclops.processors.admin - # admin features: 2, # encounters: 10756\n"
     ]
    },
    {
     "name": "stdout",
     "output_type": "stream",
     "text": [
      "Shift p-vals:  0.05000000074505806\n",
      "Shift covid\n"
     ]
    },
    {
     "name": "stderr",
     "output_type": "stream",
     "text": [
      "2022-03-17 12:48:12,145 \u001b[1;37mINFO\u001b[0m cyclops.utils.profile - Finished executing function process in 5.964088 s\n"
     ]
    },
    {
     "name": "stdout",
     "output_type": "stream",
     "text": [
      "Random Run 0 : Sample 10\n",
      "No GPU detected, fall back on CPU.\n",
      "Shift p-vals:  0.07999999821186066\n",
      "Random Run 0 : Sample 20\n",
      "No GPU detected, fall back on CPU.\n",
      "Shift p-vals:  0.3100000023841858\n",
      "Random Run 0 : Sample 50\n",
      "No GPU detected, fall back on CPU.\n",
      "Shift p-vals:  0.44999998807907104\n",
      "Random Run 0 : Sample 100\n",
      "No GPU detected, fall back on CPU.\n"
     ]
    },
    {
     "name": "stderr",
     "output_type": "stream",
     "text": [
      "2022-03-17 12:51:53,918 \u001b[1;37mINFO\u001b[0m cyclops.processors.base - Processing raw admin data...\n",
      "2022-03-17 12:51:53,921 \u001b[1;37mINFO\u001b[0m cyclops.processors.base - # samples: 10756, # encounters: 10756\n",
      "2022-03-17 12:51:53,925 \u001b[1;37mINFO\u001b[0m cyclops.processors.admin - # admin features: 2, # encounters: 10756\n"
     ]
    },
    {
     "name": "stdout",
     "output_type": "stream",
     "text": [
      "Shift p-vals:  0.30000001192092896\n"
     ]
    },
    {
     "name": "stderr",
     "output_type": "stream",
     "text": [
      "2022-03-17 12:51:59,524 \u001b[1;37mINFO\u001b[0m cyclops.utils.profile - Finished executing function process in 5.607366 s\n"
     ]
    },
    {
     "name": "stdout",
     "output_type": "stream",
     "text": [
      "Random Run 1 : Sample 10\n",
      "No GPU detected, fall back on CPU.\n",
      "Shift p-vals:  0.5699999928474426\n",
      "Random Run 1 : Sample 20\n",
      "No GPU detected, fall back on CPU.\n",
      "Shift p-vals:  0.47999998927116394\n",
      "Random Run 1 : Sample 50\n",
      "No GPU detected, fall back on CPU.\n",
      "Shift p-vals:  0.14000000059604645\n",
      "Random Run 1 : Sample 100\n",
      "No GPU detected, fall back on CPU.\n",
      "Shift p-vals:  0.5\n",
      "Random Run 1 : Sample 200\n",
      "No GPU detected, fall back on CPU.\n",
      "Shift p-vals:  0.8399999737739563\n",
      "Random Run 1 : Sample 500\n",
      "No GPU detected, fall back on CPU.\n",
      "Shift p-vals:  0.5899999737739563\n",
      "Random Run 1 : Sample 1000\n",
      "No GPU detected, fall back on CPU.\n",
      "Shift p-vals:  0.0\n",
      "Random Run 1 : Sample 2000\n",
      "No GPU detected, fall back on CPU.\n"
     ]
    },
    {
     "name": "stderr",
     "output_type": "stream",
     "text": [
      "2022-03-17 12:55:40,106 \u001b[1;37mINFO\u001b[0m cyclops.processors.base - Processing raw admin data...\n"
     ]
    },
    {
     "name": "stdout",
     "output_type": "stream",
     "text": [
      "Shift p-vals:  0.0\n"
     ]
    },
    {
     "name": "stderr",
     "output_type": "stream",
     "text": [
      "2022-03-17 12:55:40,112 \u001b[1;37mINFO\u001b[0m cyclops.processors.base - # samples: 10756, # encounters: 10756\n",
      "2022-03-17 12:55:40,117 \u001b[1;37mINFO\u001b[0m cyclops.processors.admin - # admin features: 2, # encounters: 10756\n",
      "2022-03-17 12:55:45,838 \u001b[1;37mINFO\u001b[0m cyclops.utils.profile - Finished executing function process in 5.732760 s\n"
     ]
    },
    {
     "name": "stdout",
     "output_type": "stream",
     "text": [
      "Random Run 2 : Sample 10\n",
      "No GPU detected, fall back on CPU.\n",
      "Shift p-vals:  0.1899999976158142\n",
      "Random Run 2 : Sample 20\n",
      "No GPU detected, fall back on CPU.\n",
      "Shift p-vals:  0.8600000143051147\n",
      "Random Run 2 : Sample 50\n",
      "No GPU detected, fall back on CPU.\n",
      "Shift p-vals:  0.49000000953674316\n",
      "Random Run 2 : Sample 100\n",
      "No GPU detected, fall back on CPU.\n",
      "Shift p-vals:  0.5799999833106995\n",
      "Random Run 2 : Sample 200\n",
      "No GPU detected, fall back on CPU.\n",
      "Shift p-vals:  0.5799999833106995\n",
      "Random Run 2 : Sample 500\n",
      "No GPU detected, fall back on CPU.\n",
      "Shift p-vals:  0.3199999928474426\n",
      "Random Run 2 : Sample 1000\n",
      "No GPU detected, fall back on CPU.\n",
      "Shift p-vals:  0.10999999940395355\n",
      "Random Run 2 : Sample 2000\n",
      "No GPU detected, fall back on CPU.\n"
     ]
    },
    {
     "name": "stderr",
     "output_type": "stream",
     "text": [
      "2022-03-17 12:59:28,753 \u001b[1;37mINFO\u001b[0m cyclops.processors.base - Processing raw admin data...\n",
      "2022-03-17 12:59:28,757 \u001b[1;37mINFO\u001b[0m cyclops.processors.base - # samples: 10756, # encounters: 10756\n",
      "2022-03-17 12:59:28,760 \u001b[1;37mINFO\u001b[0m cyclops.processors.admin - # admin features: 2, # encounters: 10756\n"
     ]
    },
    {
     "name": "stdout",
     "output_type": "stream",
     "text": [
      "Shift p-vals:  0.1899999976158142\n"
     ]
    },
    {
     "name": "stderr",
     "output_type": "stream",
     "text": [
      "2022-03-17 12:59:34,491 \u001b[1;37mINFO\u001b[0m cyclops.utils.profile - Finished executing function process in 5.738254 s\n"
     ]
    },
    {
     "name": "stdout",
     "output_type": "stream",
     "text": [
      "Random Run 3 : Sample 10\n",
      "No GPU detected, fall back on CPU.\n",
      "Shift p-vals:  0.11999999731779099\n",
      "Random Run 3 : Sample 20\n",
      "No GPU detected, fall back on CPU.\n",
      "Shift p-vals:  0.550000011920929\n",
      "Random Run 3 : Sample 50\n",
      "No GPU detected, fall back on CPU.\n",
      "Shift p-vals:  0.7799999713897705\n",
      "Random Run 3 : Sample 100\n",
      "No GPU detected, fall back on CPU.\n",
      "Shift p-vals:  0.8199999928474426\n",
      "Random Run 3 : Sample 200\n",
      "No GPU detected, fall back on CPU.\n",
      "Shift p-vals:  0.6800000071525574\n",
      "Random Run 3 : Sample 500\n",
      "No GPU detected, fall back on CPU.\n",
      "Shift p-vals:  0.3199999928474426\n",
      "Random Run 3 : Sample 1000\n",
      "No GPU detected, fall back on CPU.\n",
      "Shift p-vals:  0.7699999809265137\n",
      "Random Run 4 : Sample 50\n",
      "No GPU detected, fall back on CPU.\n",
      "Shift p-vals:  0.5199999809265137\n",
      "Random Run 4 : Sample 100\n",
      "No GPU detected, fall back on CPU.\n",
      "Shift p-vals:  0.5299999713897705\n",
      "Random Run 4 : Sample 200\n",
      "No GPU detected, fall back on CPU.\n",
      "Shift p-vals:  0.4099999964237213\n",
      "Random Run 4 : Sample 500\n",
      "No GPU detected, fall back on CPU.\n",
      "Shift p-vals:  0.7699999809265137\n",
      "Random Run 4 : Sample 1000\n",
      "No GPU detected, fall back on CPU.\n",
      "Shift p-vals:  0.03999999910593033\n",
      "Random Run 4 : Sample 2000\n",
      "No GPU detected, fall back on CPU.\n"
     ]
    },
    {
     "name": "stderr",
     "output_type": "stream",
     "text": [
      "torch.range is deprecated and will be removed in a future release because its behavior is inconsistent with Python's range builtin. Instead, use torch.arange, which produces values in [start, end).\n",
      "2022-03-17 13:07:04,957 \u001b[1;37mINFO\u001b[0m cyclops.processors.base - Processing raw admin data...\n",
      "2022-03-17 13:07:04,964 \u001b[1;37mINFO\u001b[0m cyclops.processors.base - # samples: 10756, # encounters: 10756\n",
      "2022-03-17 13:07:04,968 \u001b[1;37mINFO\u001b[0m cyclops.processors.admin - # admin features: 2, # encounters: 10756\n"
     ]
    },
    {
     "name": "stdout",
     "output_type": "stream",
     "text": [
      "Shift p-vals:  0.1899999976158142\n",
      "Shift covid\n"
     ]
    },
    {
     "name": "stderr",
     "output_type": "stream",
     "text": [
      "2022-03-17 13:07:11,035 \u001b[1;37mINFO\u001b[0m cyclops.utils.profile - Finished executing function process in 6.078169 s\n"
     ]
    },
    {
     "name": "stdout",
     "output_type": "stream",
     "text": [
      "Random Run 0 : Sample 10\n",
      "No GPU detected, fall back on CPU.\n",
      "Shift p-vals:  0.03999999910593033\n",
      "Random Run 0 : Sample 20\n",
      "No GPU detected, fall back on CPU.\n",
      "Shift p-vals:  0.20000000298023224\n",
      "Random Run 0 : Sample 50\n",
      "No GPU detected, fall back on CPU.\n",
      "Shift p-vals:  0.44999998807907104\n",
      "Random Run 0 : Sample 100\n",
      "No GPU detected, fall back on CPU.\n",
      "Shift p-vals:  0.3199999928474426\n",
      "Random Run 0 : Sample 200\n",
      "No GPU detected, fall back on CPU.\n",
      "Shift p-vals:  0.7400000095367432\n",
      "Random Run 0 : Sample 500\n",
      "No GPU detected, fall back on CPU.\n",
      "Shift p-vals:  0.6499999761581421\n",
      "Random Run 0 : Sample 1000\n",
      "No GPU detected, fall back on CPU.\n",
      "Shift p-vals:  0.11999999731779099\n",
      "Random Run 0 : Sample 2000\n",
      "No GPU detected, fall back on CPU.\n"
     ]
    },
    {
     "name": "stderr",
     "output_type": "stream",
     "text": [
      "2022-03-17 13:10:48,229 \u001b[1;37mINFO\u001b[0m cyclops.processors.base - Processing raw admin data...\n",
      "2022-03-17 13:10:48,234 \u001b[1;37mINFO\u001b[0m cyclops.processors.base - # samples: 10756, # encounters: 10756\n",
      "2022-03-17 13:10:48,237 \u001b[1;37mINFO\u001b[0m cyclops.processors.admin - # admin features: 2, # encounters: 10756\n"
     ]
    },
    {
     "name": "stdout",
     "output_type": "stream",
     "text": [
      "Shift p-vals:  0.47999998927116394\n"
     ]
    },
    {
     "name": "stderr",
     "output_type": "stream",
     "text": [
      "2022-03-17 13:10:53,756 \u001b[1;37mINFO\u001b[0m cyclops.utils.profile - Finished executing function process in 5.526709 s\n"
     ]
    },
    {
     "name": "stdout",
     "output_type": "stream",
     "text": [
      "Random Run 1 : Sample 10\n",
      "No GPU detected, fall back on CPU.\n",
      "Shift p-vals:  0.9800000190734863\n",
      "Random Run 1 : Sample 20\n",
      "No GPU detected, fall back on CPU.\n",
      "Shift p-vals:  0.07000000029802322\n",
      "Random Run 1 : Sample 50\n",
      "No GPU detected, fall back on CPU.\n",
      "Shift p-vals:  0.05999999865889549\n",
      "Random Run 1 : Sample 100\n",
      "No GPU detected, fall back on CPU.\n",
      "Shift p-vals:  0.3700000047683716\n",
      "Random Run 1 : Sample 200\n",
      "No GPU detected, fall back on CPU.\n",
      "Shift p-vals:  0.8199999928474426\n",
      "Random Run 1 : Sample 500\n",
      "No GPU detected, fall back on CPU.\n",
      "Shift p-vals:  0.4099999964237213\n",
      "Random Run 1 : Sample 1000\n",
      "No GPU detected, fall back on CPU.\n",
      "Shift p-vals:  0.0\n",
      "Random Run 1 : Sample 2000\n",
      "No GPU detected, fall back on CPU.\n",
      "Shift p-vals:  0.009999999776482582\n"
     ]
    },
    {
     "name": "stderr",
     "output_type": "stream",
     "text": [
      "2022-03-17 13:14:24,686 \u001b[1;37mINFO\u001b[0m cyclops.processors.base - Processing raw admin data...\n",
      "2022-03-17 13:14:24,691 \u001b[1;37mINFO\u001b[0m cyclops.processors.base - # samples: 10756, # encounters: 10756\n",
      "2022-03-17 13:14:24,695 \u001b[1;37mINFO\u001b[0m cyclops.processors.admin - # admin features: 2, # encounters: 10756\n",
      "2022-03-17 13:14:30,493 \u001b[1;37mINFO\u001b[0m cyclops.utils.profile - Finished executing function process in 5.807552 s\n"
     ]
    },
    {
     "name": "stdout",
     "output_type": "stream",
     "text": [
      "Random Run 2 : Sample 10\n",
      "No GPU detected, fall back on CPU.\n",
      "Shift p-vals:  0.23000000417232513\n",
      "Random Run 2 : Sample 20\n",
      "No GPU detected, fall back on CPU.\n",
      "Shift p-vals:  0.9399999976158142\n",
      "Random Run 2 : Sample 50\n",
      "No GPU detected, fall back on CPU.\n",
      "Shift p-vals:  0.7300000190734863\n",
      "Random Run 2 : Sample 100\n",
      "No GPU detected, fall back on CPU.\n",
      "Shift p-vals:  0.5299999713897705\n",
      "Random Run 2 : Sample 200\n",
      "No GPU detected, fall back on CPU.\n",
      "Shift p-vals:  0.6499999761581421\n",
      "Random Run 2 : Sample 500\n",
      "No GPU detected, fall back on CPU.\n",
      "Shift p-vals:  0.3100000023841858\n",
      "Random Run 2 : Sample 1000\n",
      "No GPU detected, fall back on CPU.\n",
      "Shift p-vals:  0.019999999552965164\n",
      "Random Run 2 : Sample 2000\n",
      "No GPU detected, fall back on CPU.\n"
     ]
    },
    {
     "name": "stderr",
     "output_type": "stream",
     "text": [
      "2022-03-17 13:18:04,968 \u001b[1;37mINFO\u001b[0m cyclops.processors.base - Processing raw admin data...\n",
      "2022-03-17 13:18:04,973 \u001b[1;37mINFO\u001b[0m cyclops.processors.base - # samples: 10756, # encounters: 10756\n",
      "2022-03-17 13:18:04,975 \u001b[1;37mINFO\u001b[0m cyclops.processors.admin - # admin features: 2, # encounters: 10756\n"
     ]
    },
    {
     "name": "stdout",
     "output_type": "stream",
     "text": [
      "Shift p-vals:  0.3100000023841858\n"
     ]
    },
    {
     "name": "stderr",
     "output_type": "stream",
     "text": [
      "2022-03-17 13:18:10,616 \u001b[1;37mINFO\u001b[0m cyclops.utils.profile - Finished executing function process in 5.647971 s\n"
     ]
    },
    {
     "name": "stdout",
     "output_type": "stream",
     "text": [
      "Random Run 3 : Sample 10\n",
      "No GPU detected, fall back on CPU.\n",
      "Shift p-vals:  0.9700000286102295\n",
      "Random Run 3 : Sample 20\n",
      "No GPU detected, fall back on CPU.\n",
      "Shift p-vals:  0.5600000023841858\n",
      "Random Run 3 : Sample 50\n",
      "No GPU detected, fall back on CPU.\n",
      "Shift p-vals:  0.4000000059604645\n",
      "Random Run 3 : Sample 100\n",
      "No GPU detected, fall back on CPU.\n",
      "Shift p-vals:  0.6899999976158142\n",
      "Random Run 3 : Sample 200\n",
      "No GPU detected, fall back on CPU.\n",
      "Shift p-vals:  0.5199999809265137\n",
      "Random Run 3 : Sample 500\n",
      "No GPU detected, fall back on CPU.\n",
      "Shift p-vals:  0.3499999940395355\n",
      "Random Run 3 : Sample 1000\n",
      "No GPU detected, fall back on CPU.\n",
      "Shift p-vals:  0.03999999910593033\n",
      "Random Run 3 : Sample 2000\n",
      "No GPU detected, fall back on CPU.\n"
     ]
    },
    {
     "name": "stderr",
     "output_type": "stream",
     "text": [
      "2022-03-17 13:21:43,012 \u001b[1;37mINFO\u001b[0m cyclops.processors.base - Processing raw admin data...\n",
      "2022-03-17 13:21:43,016 \u001b[1;37mINFO\u001b[0m cyclops.processors.base - # samples: 10756, # encounters: 10756\n",
      "2022-03-17 13:21:43,019 \u001b[1;37mINFO\u001b[0m cyclops.processors.admin - # admin features: 2, # encounters: 10756\n"
     ]
    },
    {
     "name": "stdout",
     "output_type": "stream",
     "text": [
      "Shift p-vals:  0.019999999552965164\n"
     ]
    },
    {
     "name": "stderr",
     "output_type": "stream",
     "text": [
      "2022-03-17 13:21:48,904 \u001b[1;37mINFO\u001b[0m cyclops.utils.profile - Finished executing function process in 5.892325 s\n"
     ]
    },
    {
     "name": "stdout",
     "output_type": "stream",
     "text": [
      "Random Run 4 : Sample 10\n",
      "No GPU detected, fall back on CPU.\n",
      "Shift p-vals:  0.25\n",
      "Random Run 4 : Sample 20\n",
      "No GPU detected, fall back on CPU.\n",
      "Shift p-vals:  0.4300000071525574\n",
      "Random Run 4 : Sample 50\n",
      "No GPU detected, fall back on CPU.\n",
      "Shift p-vals:  0.23000000417232513\n",
      "Random Run 4 : Sample 100\n",
      "No GPU detected, fall back on CPU.\n",
      "Shift p-vals:  0.5099999904632568\n",
      "Random Run 4 : Sample 200\n",
      "No GPU detected, fall back on CPU.\n",
      "Shift p-vals:  0.3199999928474426\n",
      "Random Run 4 : Sample 500\n",
      "No GPU detected, fall back on CPU.\n",
      "Shift p-vals:  0.6399999856948853\n",
      "Random Run 4 : Sample 1000\n",
      "No GPU detected, fall back on CPU.\n",
      "Shift p-vals:  0.019999999552965164\n",
      "Random Run 4 : Sample 2000\n",
      "No GPU detected, fall back on CPU.\n",
      "Shift p-vals:  0.07000000029802322\n"
     ]
    },
    {
     "data": {
      "application/javascript": [
       "\n",
       "            setTimeout(function() {\n",
       "                var nbb_cell_id = 15;\n",
       "                var nbb_unformatted_code = \"times = [\\\"pre-covid\\\", \\\"covid\\\"]\\nmean_dr_md = np.ones((len(times), len(dr_techniques), len(md_tests), len(samples))) * (\\n    -1\\n)\\nstd_dr_md = np.ones((len(times), len(dr_techniques), len(md_tests), len(samples))) * (\\n    -1\\n)\\n\\nfor ti, time in enumerate(times):\\n    for di, dr_technique in enumerate(dr_techniques):\\n        for mi, md_test in enumerate(md_tests):\\n            mean_p_vals, std_p_vals = run_shift_experiment(\\n                time,\\n                path,\\n                dr_technique,\\n                md_test,\\n                samples,\\n                dataset,\\n                sign_level,\\n                features,\\n                random_runs,\\n                calc_acc=True,\\n            )\\n            mean_dr_md[ti, di, mi, :] = mean_p_vals\\n            std_dr_md[ti, di, mi, :] = std_p_vals\";\n",
       "                var nbb_formatted_code = \"times = [\\\"pre-covid\\\", \\\"covid\\\"]\\nmean_dr_md = np.ones((len(times), len(dr_techniques), len(md_tests), len(samples))) * (\\n    -1\\n)\\nstd_dr_md = np.ones((len(times), len(dr_techniques), len(md_tests), len(samples))) * (\\n    -1\\n)\\n\\nfor ti, time in enumerate(times):\\n    for di, dr_technique in enumerate(dr_techniques):\\n        for mi, md_test in enumerate(md_tests):\\n            mean_p_vals, std_p_vals = run_shift_experiment(\\n                time,\\n                path,\\n                dr_technique,\\n                md_test,\\n                samples,\\n                dataset,\\n                sign_level,\\n                features,\\n                random_runs,\\n                calc_acc=True,\\n            )\\n            mean_dr_md[ti, di, mi, :] = mean_p_vals\\n            std_dr_md[ti, di, mi, :] = std_p_vals\";\n",
       "                var nbb_cells = Jupyter.notebook.get_cells();\n",
       "                for (var i = 0; i < nbb_cells.length; ++i) {\n",
       "                    if (nbb_cells[i].input_prompt_number == nbb_cell_id) {\n",
       "                        if (nbb_cells[i].get_text() == nbb_unformatted_code) {\n",
       "                             nbb_cells[i].set_text(nbb_formatted_code);\n",
       "                        }\n",
       "                        break;\n",
       "                    }\n",
       "                }\n",
       "            }, 500);\n",
       "            "
      ],
      "text/plain": [
       "<IPython.core.display.Javascript object>"
      ]
     },
     "metadata": {},
     "output_type": "display_data"
    }
   ],
   "source": [
    "times = [\"pre-covid\", \"covid\"]\n",
    "mean_dr_md = np.ones((len(times), len(dr_techniques), len(md_tests), len(samples))) * (\n",
    "    -1\n",
    ")\n",
    "std_dr_md = np.ones((len(times), len(dr_techniques), len(md_tests), len(samples))) * (\n",
    "    -1\n",
    ")\n",
    "\n",
    "for ti, time in enumerate(times):\n",
    "    for di, dr_technique in enumerate(dr_techniques):\n",
    "        for mi, md_test in enumerate(md_tests):\n",
    "            mean_p_vals, std_p_vals = run_shift_experiment(\n",
    "                time,\n",
    "                path,\n",
    "                dr_technique,\n",
    "                md_test,\n",
    "                samples,\n",
    "                dataset,\n",
    "                sign_level,\n",
    "                na_cutoff,\n",
    "                features,\n",
    "                random_runs,\n",
    "                calc_acc=True,\n",
    "            )\n",
    "            mean_dr_md[ti, di, mi, :] = mean_p_vals\n",
    "            std_dr_md[ti, di, mi, :] = std_p_vals"
   ]
  },
  {
   "cell_type": "code",
   "execution_count": 16,
   "id": "computational-minority",
   "metadata": {},
   "outputs": [
    {
     "data": {
      "image/png": "[encoded data removed]",
      "text/plain": [
       "<Figure size 792x576 with 1 Axes>"
      ]
     },
     "metadata": {
      "needs_background": "light"
     },
     "output_type": "display_data"
    },
    {
     "data": {
      "application/javascript": [
       "\n",
       "            setTimeout(function() {\n",
       "                var nbb_cell_id = 16;\n",
       "                var nbb_unformatted_code = \"fig = plt.figure(figsize=(11, 8))\\nfor ti, time in enumerate(times):\\n    for di, dr_technique in enumerate(dr_techniques):\\n        for mi, md_test in enumerate(md_tests):\\n            if di == 0 and mi == 1:\\n                errorfill(\\n                    np.array(samples),\\n                    mean_dr_md[ti, di, mi, :],\\n                    std_dr_md[ti, di, mi, :],\\n                    fmt=linestyles[mi] + markers[mi],\\n                    color=colorscale(colors[ti], brightness[di]),\\n                    label=\\\"%s\\\" % \\\"_\\\".join([time, dr_technique, md_test]),\\n                )\\nplt.xlabel(\\\"Number of samples from test\\\")\\nplt.ylabel(\\\"$p$-value\\\")\\nplt.axhline(y=sign_level, color=\\\"k\\\")\\nplt.legend()\\nplt.show()\";\n",
       "                var nbb_formatted_code = \"fig = plt.figure(figsize=(11, 8))\\nfor ti, time in enumerate(times):\\n    for di, dr_technique in enumerate(dr_techniques):\\n        for mi, md_test in enumerate(md_tests):\\n            if di == 0 and mi == 1:\\n                errorfill(\\n                    np.array(samples),\\n                    mean_dr_md[ti, di, mi, :],\\n                    std_dr_md[ti, di, mi, :],\\n                    fmt=linestyles[mi] + markers[mi],\\n                    color=colorscale(colors[ti], brightness[di]),\\n                    label=\\\"%s\\\" % \\\"_\\\".join([time, dr_technique, md_test]),\\n                )\\nplt.xlabel(\\\"Number of samples from test\\\")\\nplt.ylabel(\\\"$p$-value\\\")\\nplt.axhline(y=sign_level, color=\\\"k\\\")\\nplt.legend()\\nplt.show()\";\n",
       "                var nbb_cells = Jupyter.notebook.get_cells();\n",
       "                for (var i = 0; i < nbb_cells.length; ++i) {\n",
       "                    if (nbb_cells[i].input_prompt_number == nbb_cell_id) {\n",
       "                        if (nbb_cells[i].get_text() == nbb_unformatted_code) {\n",
       "                             nbb_cells[i].set_text(nbb_formatted_code);\n",
       "                        }\n",
       "                        break;\n",
       "                    }\n",
       "                }\n",
       "            }, 500);\n",
       "            "
      ],
      "text/plain": [
       "<IPython.core.display.Javascript object>"
      ]
     },
     "metadata": {},
     "output_type": "display_data"
    }
   ],
   "source": [
    "fig = plt.figure(figsize=(11, 8))\n",
    "for ti, time in enumerate(times):\n",
    "    for di, dr_technique in enumerate(dr_techniques):\n",
    "        for mi, md_test in enumerate(md_tests):\n",
    "            if di == 0 and mi == 1:\n",
    "                errorfill(\n",
    "                    np.array(samples),\n",
    "                    mean_dr_md[ti, di, mi, :],\n",
    "                    std_dr_md[ti, di, mi, :],\n",
    "                    fmt=linestyles[mi] + markers[mi],\n",
    "                    color=colorscale(colors[ti], brightness[di]),\n",
    "                    label=\"%s\" % \"_\".join([time, dr_technique, md_test]),\n",
    "                )\n",
    "plt.xlabel(\"Number of samples from test\")\n",
    "plt.ylabel(\"$p$-value\")\n",
    "plt.axhline(y=sign_level, color=\"k\")\n",
    "plt.legend()\n",
    "plt.show()"
   ]
  }
 ],
 "metadata": {
  "kernelspec": {
   "display_name": "vector_delirium",
   "language": "python",
   "name": "vector_delirium"
  },
  "language_info": {
   "codemirror_mode": {
    "name": "ipython",
    "version": 3
   },
   "file_extension": ".py",
   "mimetype": "text/x-python",
   "name": "python",
   "nbconvert_exporter": "python",
   "pygments_lexer": "ipython3",
   "version": "3.8.5"
  }
 },
 "nbformat": 4,
 "nbformat_minor": 5
}
