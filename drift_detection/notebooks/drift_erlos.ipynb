{
 "cells": [
  {
   "cell_type": "code",
   "execution_count": 2,
   "id": "traditional-palmer",
   "metadata": {},
   "outputs": [
    {
     "name": "stderr",
     "output_type": "stream",
     "text": [
      "2022-03-18 09:11:29.139640: W tensorflow/stream_executor/platform/default/dso_loader.cc:64] Could not load dynamic library 'libcudart.so.11.0'; dlerror: libcudart.so.11.0: cannot open shared object file: No such file or directory; LD_LIBRARY_PATH: /mnt/nfs/home/subasriv/.conda/envs/vector_delirium/lib/python3.8/site-packages/cv2/../../lib64:/opt/R/4.0.4/lib/R/lib::/lib:/usr/local/lib:/usr/lib/x86_64-linux-gnu:/usr/lib/jvm/java-11-openjdk-amd64/lib/server\n",
      "2022-03-18 09:11:29.139700: I tensorflow/stream_executor/cuda/cudart_stub.cc:29] Ignore above cudart dlerror if you do not have a GPU set up on your machine.\n",
      "2022-03-18 09:11:33.785915: E tensorflow/stream_executor/cuda/cuda_driver.cc:271] failed call to cuInit: CUDA_ERROR_NO_DEVICE: no CUDA-capable device is detected\n",
      "2022-03-18 09:11:33.786282: I tensorflow/stream_executor/cuda/cuda_diagnostics.cc:156] kernel driver does not appear to be running on this host (cpu1.gemini-hpc.ca): /proc/driver/nvidia/version does not exist\n",
      "2022-03-18 09:11:33.787388: I tensorflow/core/platform/cpu_feature_guard.cc:151] This TensorFlow binary is optimized with oneAPI Deep Neural Network Library (oneDNN) to use the following CPU instructions in performance-critical operations:  AVX2 AVX512F FMA\n",
      "To enable them in other operations, rebuild TensorFlow with the appropriate compiler flags.\n",
      "2022-03-18 09:11:37,802 \u001b[1;37mINFO\u001b[0m config          - Log file is /mnt/nfs/home/subasriv/vector-delirium/log.log\n",
      "2022-03-18 09:11:37,811 \u001b[1;37mINFO\u001b[0m cyclops.processors.base - Log file is /mnt/nfs/home/subasriv/vector-delirium/log.log\n",
      "2022-03-18 09:11:37,816 \u001b[1;37mINFO\u001b[0m cyclops.utils.profile - Log file is /mnt/nfs/home/subasriv/vector-delirium/log.log\n",
      "2022-03-18 09:11:37,820 \u001b[1;37mINFO\u001b[0m cyclops.processors.admin - Log file is /mnt/nfs/home/subasriv/vector-delirium/log.log\n",
      "2022-03-18 09:11:37,846 \u001b[1;37mINFO\u001b[0m cyclops.processors.vitals - Log file is /mnt/nfs/home/subasriv/vector-delirium/log.log\n",
      "2022-03-18 09:11:37,851 \u001b[1;37mINFO\u001b[0m cyclops.processors.labs - Log file is /mnt/nfs/home/subasriv/vector-delirium/log.log\n",
      "2022-03-18 09:11:37,856 \u001b[1;37mINFO\u001b[0m cyclops.processors.outcomes - Log file is /mnt/nfs/home/subasriv/vector-delirium/log.log\n",
      "2022-03-18 09:11:37,862 \u001b[1;37mINFO\u001b[0m cyclops.processors.feature_handler - Log file is /mnt/nfs/home/subasriv/vector-delirium/log.log\n",
      "2022-03-18 09:11:37,997 \u001b[1;37mINFO\u001b[0m cyclops.orm     - Log file is /mnt/nfs/home/subasriv/vector-delirium/log.log\n"
     ]
    },
    {
     "data": {
      "application/javascript": [
       "\n",
       "            setTimeout(function() {\n",
       "                var nbb_cell_id = 2;\n",
       "                var nbb_unformatted_code = \"import sys\\nimport pandas as pd\\nimport numpy as np\\nimport os\\nfrom functools import reduce\\nimport datetime\\nimport joblib\\nimport matplotlib.pyplot as plt\\nfrom sklearn.metrics import (\\n    auc,\\n    accuracy_score,\\n    confusion_matrix,\\n    roc_auc_score,\\n    roc_curve,\\n    precision_recall_curve,\\n    average_precision_score,\\n)\\nfrom sklearn.model_selection import GridSearchCV, train_test_split\\nimport shap\\n\\nsys.path.append(\\\"..\\\")\\n\\nfrom shift_detector import *\\nfrom shift_reductor import *\\nfrom shift_experiments import *\\nfrom shift_tester import *\\nfrom shift_utils import *\\nfrom shift_models import *\\nfrom constants import *\\nfrom shift_plot_utils import *\\n\\nsys.path.append(\\\"../..\\\")\\n\\nimport sqlalchemy\\nfrom sqlalchemy import select, func, extract, desc\\nfrom sqlalchemy.sql.expression import and_\\n\\nfrom evidently import ColumnMapping\\nfrom evidently.dashboard import Dashboard\\nfrom evidently.dashboard.tabs import DataQualityTab\\nfrom evidently.model_profile import Profile\\nfrom evidently.model_profile.sections import DataQualityProfileSection\\n\\nimport config\\nimport cyclops\\nfrom cyclops.processors.column_names import (\\n    ENCOUNTER_ID,\\n    HOSPITAL_ID,\\n    ADMIT_TIMESTAMP,\\n    DISCHARGE_TIMESTAMP,\\n    DISCHARGE_DISPOSITION,\\n    READMISSION,\\n    AGE,\\n    SEX,\\n    TOTAL_COST,\\n    CITY,\\n    PROVINCE,\\n    COUNTRY,\\n    LANGUAGE,\\n    LENGTH_OF_STAY_IN_ER,\\n    VITAL_MEASUREMENT_NAME,\\n    VITAL_MEASUREMENT_VALUE,\\n    VITAL_MEASUREMENT_TIMESTAMP,\\n    LAB_TEST_NAME,\\n    LAB_TEST_TIMESTAMP,\\n    LAB_TEST_RESULT_VALUE,\\n    LAB_TEST_RESULT_UNIT,\\n    REFERENCE_RANGE,\\n)\\nfrom cyclops.processors.constants import EMPTY_STRING\\nfrom cyclops.processors.admin import AdminProcessor\\nfrom cyclops.processors.vitals import VitalsProcessor\\nfrom cyclops.processors.labs import LabsProcessor\\nfrom cyclops.processors.outcomes import OutcomesProcessor\\nfrom cyclops.processors.feature_handler import FeatureHandler\\nfrom cyclops.orm import Database\\n\\n%reload_ext autoreload\\n%reload_ext nb_black\";\n",
       "                var nbb_formatted_code = \"import sys\\nimport pandas as pd\\nimport numpy as np\\nimport os\\nfrom functools import reduce\\nimport datetime\\nimport joblib\\nimport matplotlib.pyplot as plt\\nfrom sklearn.metrics import (\\n    auc,\\n    accuracy_score,\\n    confusion_matrix,\\n    roc_auc_score,\\n    roc_curve,\\n    precision_recall_curve,\\n    average_precision_score,\\n)\\nfrom sklearn.model_selection import GridSearchCV, train_test_split\\nimport shap\\n\\nsys.path.append(\\\"..\\\")\\n\\nfrom shift_detector import *\\nfrom shift_reductor import *\\nfrom shift_experiments import *\\nfrom shift_tester import *\\nfrom shift_utils import *\\nfrom shift_models import *\\nfrom constants import *\\nfrom shift_plot_utils import *\\n\\nsys.path.append(\\\"../..\\\")\\n\\nimport sqlalchemy\\nfrom sqlalchemy import select, func, extract, desc\\nfrom sqlalchemy.sql.expression import and_\\n\\nfrom evidently import ColumnMapping\\nfrom evidently.dashboard import Dashboard\\nfrom evidently.dashboard.tabs import DataQualityTab\\nfrom evidently.model_profile import Profile\\nfrom evidently.model_profile.sections import DataQualityProfileSection\\n\\nimport config\\nimport cyclops\\nfrom cyclops.processors.column_names import (\\n    ENCOUNTER_ID,\\n    HOSPITAL_ID,\\n    ADMIT_TIMESTAMP,\\n    DISCHARGE_TIMESTAMP,\\n    DISCHARGE_DISPOSITION,\\n    READMISSION,\\n    AGE,\\n    SEX,\\n    TOTAL_COST,\\n    CITY,\\n    PROVINCE,\\n    COUNTRY,\\n    LANGUAGE,\\n    LENGTH_OF_STAY_IN_ER,\\n    VITAL_MEASUREMENT_NAME,\\n    VITAL_MEASUREMENT_VALUE,\\n    VITAL_MEASUREMENT_TIMESTAMP,\\n    LAB_TEST_NAME,\\n    LAB_TEST_TIMESTAMP,\\n    LAB_TEST_RESULT_VALUE,\\n    LAB_TEST_RESULT_UNIT,\\n    REFERENCE_RANGE,\\n)\\nfrom cyclops.processors.constants import EMPTY_STRING\\nfrom cyclops.processors.admin import AdminProcessor\\nfrom cyclops.processors.vitals import VitalsProcessor\\nfrom cyclops.processors.labs import LabsProcessor\\nfrom cyclops.processors.outcomes import OutcomesProcessor\\nfrom cyclops.processors.feature_handler import FeatureHandler\\nfrom cyclops.orm import Database\\n\\n%reload_ext autoreload\\n%reload_ext nb_black\";\n",
       "                var nbb_cells = Jupyter.notebook.get_cells();\n",
       "                for (var i = 0; i < nbb_cells.length; ++i) {\n",
       "                    if (nbb_cells[i].input_prompt_number == nbb_cell_id) {\n",
       "                        if (nbb_cells[i].get_text() == nbb_unformatted_code) {\n",
       "                             nbb_cells[i].set_text(nbb_formatted_code);\n",
       "                        }\n",
       "                        break;\n",
       "                    }\n",
       "                }\n",
       "            }, 500);\n",
       "            "
      ],
      "text/plain": [
       "<IPython.core.display.Javascript object>"
      ]
     },
     "metadata": {},
     "output_type": "display_data"
    }
   ],
   "source": [
    "import sys\n",
    "import pandas as pd\n",
    "import numpy as np\n",
    "import os\n",
    "from functools import reduce\n",
    "import datetime\n",
    "import joblib\n",
    "import matplotlib.pyplot as plt\n",
    "from sklearn.metrics import (\n",
    "    auc,\n",
    "    accuracy_score,\n",
    "    confusion_matrix,\n",
    "    roc_auc_score,\n",
    "    roc_curve,\n",
    "    precision_recall_curve,\n",
    "    average_precision_score,\n",
    ")\n",
    "from sklearn.model_selection import GridSearchCV, train_test_split\n",
    "import shap\n",
    "\n",
    "sys.path.append(\"..\")\n",
    "\n",
    "from shift_detector import *\n",
    "from shift_reductor import *\n",
    "from shift_experiments import *\n",
    "from shift_tester import *\n",
    "from shift_utils import *\n",
    "from shift_models import *\n",
    "from shift_constants import *\n",
    "from shift_plot_utils import *\n",
    "\n",
    "sys.path.append(\"../..\")\n",
    "\n",
    "import sqlalchemy\n",
    "from sqlalchemy import select, func, extract, desc\n",
    "from sqlalchemy.sql.expression import and_\n",
    "\n",
    "from evidently import ColumnMapping\n",
    "from evidently.dashboard import Dashboard\n",
    "from evidently.dashboard.tabs import DataQualityTab\n",
    "from evidently.model_profile import Profile\n",
    "from evidently.model_profile.sections import DataQualityProfileSection\n",
    "\n",
    "import config\n",
    "import cyclops\n",
    "from cyclops.processors.column_names import (\n",
    "    ENCOUNTER_ID,\n",
    "    HOSPITAL_ID,\n",
    "    ADMIT_TIMESTAMP,\n",
    "    DISCHARGE_TIMESTAMP,\n",
    "    DISCHARGE_DISPOSITION,\n",
    "    READMISSION,\n",
    "    AGE,\n",
    "    SEX,\n",
    "    TOTAL_COST,\n",
    "    CITY,\n",
    "    PROVINCE,\n",
    "    COUNTRY,\n",
    "    LANGUAGE,\n",
    "    LENGTH_OF_STAY_IN_ER,\n",
    "    VITAL_MEASUREMENT_NAME,\n",
    "    VITAL_MEASUREMENT_VALUE,\n",
    "    VITAL_MEASUREMENT_TIMESTAMP,\n",
    "    LAB_TEST_NAME,\n",
    "    LAB_TEST_TIMESTAMP,\n",
    "    LAB_TEST_RESULT_VALUE,\n",
    "    LAB_TEST_RESULT_UNIT,\n",
    "    REFERENCE_RANGE,\n",
    ")\n",
    "from cyclops.processors.constants import EMPTY_STRING\n",
    "from cyclops.processors.admin import AdminProcessor\n",
    "from cyclops.processors.vitals import VitalsProcessor\n",
    "from cyclops.processors.labs import LabsProcessor\n",
    "from cyclops.processors.outcomes import OutcomesProcessor\n",
    "from cyclops.processors.feature_handler import FeatureHandler\n",
    "from cyclops.orm import Database\n",
    "\n",
    "%reload_ext autoreload\n",
    "%reload_ext nb_black"
   ]
  },
  {
   "cell_type": "markdown",
   "id": "surface-circle",
   "metadata": {},
   "source": [
    "## Load Data ##"
   ]
  },
  {
   "cell_type": "code",
   "execution_count": 3,
   "id": "theoretical-mambo",
   "metadata": {},
   "outputs": [
    {
     "name": "stderr",
     "output_type": "stream",
     "text": [
      "2022-03-18 09:11:39,719 \u001b[1;37mINFO\u001b[0m cyclops.orm     - Database setup, ready to run queries!\n"
     ]
    },
    {
     "data": {
      "application/javascript": [
       "\n",
       "            setTimeout(function() {\n",
       "                var nbb_cell_id = 3;\n",
       "                var nbb_unformatted_code = \"cfg = config.read_config(\\\"../../configs/default/*.yaml\\\")\\ndb = Database(cfg)\\n\\nEXTRACT_SAVE_PATH = \\\"/mnt/nfs/project/delirium/_extract/first_models/extract.h5\\\"\";\n",
       "                var nbb_formatted_code = \"cfg = config.read_config(\\\"../../configs/default/*.yaml\\\")\\ndb = Database(cfg)\\n\\nEXTRACT_SAVE_PATH = \\\"/mnt/nfs/project/delirium/_extract/first_models/extract.h5\\\"\";\n",
       "                var nbb_cells = Jupyter.notebook.get_cells();\n",
       "                for (var i = 0; i < nbb_cells.length; ++i) {\n",
       "                    if (nbb_cells[i].input_prompt_number == nbb_cell_id) {\n",
       "                        if (nbb_cells[i].get_text() == nbb_unformatted_code) {\n",
       "                             nbb_cells[i].set_text(nbb_formatted_code);\n",
       "                        }\n",
       "                        break;\n",
       "                    }\n",
       "                }\n",
       "            }, 500);\n",
       "            "
      ],
      "text/plain": [
       "<IPython.core.display.Javascript object>"
      ]
     },
     "metadata": {},
     "output_type": "display_data"
    }
   ],
   "source": [
    "cfg = config.read_config(\"../../configs/default/*.yaml\")\n",
    "db = Database(cfg)\n",
    "\n",
    "EXTRACT_SAVE_PATH = \"/mnt/nfs/project/delirium/_extract/first_models/extract.h5\""
   ]
  },
  {
   "cell_type": "code",
   "execution_count": 4,
   "id": "special-diary",
   "metadata": {},
   "outputs": [
    {
     "name": "stderr",
     "output_type": "stream",
     "text": [
      "2022-03-18 09:11:39,907 \u001b[1;37mINFO\u001b[0m cyclops.processors.base - Processing raw admin data...\n",
      "2022-03-18 09:11:39,911 \u001b[1;37mINFO\u001b[0m cyclops.processors.base - # samples: 10756, # encounters: 10756\n",
      "2022-03-18 09:11:39,914 \u001b[1;37mINFO\u001b[0m cyclops.processors.admin - # admin features: 2, # encounters: 10756\n",
      "2022-03-18 09:11:52,742 \u001b[1;37mINFO\u001b[0m cyclops.utils.profile - Finished executing function process in 12.819247 s\n"
     ]
    },
    {
     "data": {
      "application/javascript": [
       "\n",
       "            setTimeout(function() {\n",
       "                var nbb_cell_id = 4;\n",
       "                var nbb_unformatted_code = \"%autoreload 2\\n\\ndata = pd.read_hdf(EXTRACT_SAVE_PATH, key=f\\\"query_gemini_admin\\\")\\nmust_have_columns = [ENCOUNTER_ID, AGE, SEX]\\n\\nadmin_processor = AdminProcessor(data, must_have_columns)\\nadmin_features = admin_processor.process()\";\n",
       "                var nbb_formatted_code = \"%autoreload 2\\n\\ndata = pd.read_hdf(EXTRACT_SAVE_PATH, key=f\\\"query_gemini_admin\\\")\\nmust_have_columns = [ENCOUNTER_ID, AGE, SEX]\\n\\nadmin_processor = AdminProcessor(data, must_have_columns)\\nadmin_features = admin_processor.process()\";\n",
       "                var nbb_cells = Jupyter.notebook.get_cells();\n",
       "                for (var i = 0; i < nbb_cells.length; ++i) {\n",
       "                    if (nbb_cells[i].input_prompt_number == nbb_cell_id) {\n",
       "                        if (nbb_cells[i].get_text() == nbb_unformatted_code) {\n",
       "                             nbb_cells[i].set_text(nbb_formatted_code);\n",
       "                        }\n",
       "                        break;\n",
       "                    }\n",
       "                }\n",
       "            }, 500);\n",
       "            "
      ],
      "text/plain": [
       "<IPython.core.display.Javascript object>"
      ]
     },
     "metadata": {},
     "output_type": "display_data"
    }
   ],
   "source": [
    "%autoreload 2\n",
    "\n",
    "data = pd.read_hdf(EXTRACT_SAVE_PATH, key=f\"query_gemini_admin\")\n",
    "must_have_columns = [ENCOUNTER_ID, AGE, SEX]\n",
    "\n",
    "admin_processor = AdminProcessor(data, must_have_columns)\n",
    "admin_features = admin_processor.process()"
   ]
  },
  {
   "cell_type": "code",
   "execution_count": 5,
   "id": "broken-venture",
   "metadata": {},
   "outputs": [
    {
     "name": "stderr",
     "output_type": "stream",
     "text": [
      "2022-03-18 09:11:59,490 \u001b[1;37mINFO\u001b[0m cyclops.processors.base - Processing raw lab data...\n",
      "2022-03-18 09:11:59,519 \u001b[1;37mINFO\u001b[0m cyclops.processors.base - # samples: 1290086, # encounters: 10688\n",
      "2022-03-18 09:12:00,252 \u001b[1;37mINFO\u001b[0m cyclops.processors.base - Aggregating labs within aggregation window...\n",
      "2022-03-18 09:12:00,260 \u001b[1;37mINFO\u001b[0m cyclops.processors.base - # samples: 482354, # encounters: 10653\n",
      "2022-03-18 09:12:01,773 \u001b[1;37mINFO\u001b[0m cyclops.processors.base - Remove text in parentheses and normalize lab test names...\n",
      "2022-03-18 09:12:01,782 \u001b[1;37mINFO\u001b[0m cyclops.processors.base - # samples: 482354, # encounters: 10653\n",
      "2022-03-18 09:12:02,236 \u001b[1;37mINFO\u001b[0m cyclops.processors.base - Drop unsupported...\n",
      "2022-03-18 09:12:02,258 \u001b[1;37mINFO\u001b[0m cyclops.processors.base - # samples: 410025, # encounters: 10653\n",
      "2022-03-18 09:12:03,882 \u001b[1;37mINFO\u001b[0m cyclops.processors.base - Fixing inequalities and removing outlier values...\n",
      "2022-03-18 09:12:03,889 \u001b[1;37mINFO\u001b[0m cyclops.processors.base - # samples: 410025, # encounters: 10653\n",
      "2022-03-18 09:12:04,019 \u001b[1;37mINFO\u001b[0m cyclops.processors.base - Fill empty result string values with NaN...\n",
      "2022-03-18 09:12:04,042 \u001b[1;37mINFO\u001b[0m cyclops.processors.base - # samples: 410025, # encounters: 10653\n",
      "2022-03-18 09:12:04,044 \u001b[1;37mINFO\u001b[0m cyclops.processors.labs - Converting string result values to numeric...\n",
      "2022-03-18 09:12:04,208 \u001b[1;37mINFO\u001b[0m cyclops.processors.labs - Cleaning units and converting to SI...\n",
      "2022-03-18 09:12:06,420 \u001b[1;37mINFO\u001b[0m cyclops.processors.labs - Creating features...\n",
      "2022-03-18 09:12:06,466 \u001b[1;37mINFO\u001b[0m cyclops.processors.labs - ['aptt', 'ketone', 'bilirubin', 'calcium', 'calcium, ionized', 'creatinine', 'esr', 'serum alcohol', 'ferritin', 'fibrinogen', 'glucose fasting', 'glucose point of care', 'glucose random', 'hematocrit', 'hemoglobin', 'crp', 'influenza', 'inr', 'lactate arterial', 'lactate venous', 'mean cell volume', 'arterial paco2', 'venous pco2', 'arterial ph', 'venous ph', 'platelet count', 'arterial pao2', 'potassium', 'pt', 'sodium', 'urine sodium', 'urine specific gravity', 'bicarbonate', 'troponin', 'blood urea nitrogen', 'vitamin b12', 'white blood cell count', 'high sensitivity troponin', 'vitamin d', 'hba1c', 'lymphocyte', 'neutrophils', 'albumin']\n",
      "2022-03-18 09:12:06,490 \u001b[1;37mINFO\u001b[0m cyclops.processors.labs - # labs features: 43, # encounters: 10653\n",
      "2022-03-18 09:14:38,501 \u001b[1;37mINFO\u001b[0m cyclops.utils.profile - Finished executing function process in 159.010985 s\n"
     ]
    },
    {
     "data": {
      "application/javascript": [
       "\n",
       "            setTimeout(function() {\n",
       "                var nbb_cell_id = 5;\n",
       "                var nbb_unformatted_code = \"%autoreload 2\\nlabs = pd.read_hdf(EXTRACT_SAVE_PATH, key=f\\\"query_gemini_admin_labs\\\")\\nmust_have_columns = [\\n    ENCOUNTER_ID,\\n    ADMIT_TIMESTAMP,\\n    LAB_TEST_NAME,\\n    LAB_TEST_TIMESTAMP,\\n    LAB_TEST_RESULT_VALUE,\\n    LAB_TEST_RESULT_UNIT,\\n    REFERENCE_RANGE,\\n]\\nlabs_processor = LabsProcessor(labs, must_have_columns)\\nlabs_features = labs_processor.process()\";\n",
       "                var nbb_formatted_code = \"%autoreload 2\\nlabs = pd.read_hdf(EXTRACT_SAVE_PATH, key=f\\\"query_gemini_admin_labs\\\")\\nmust_have_columns = [\\n    ENCOUNTER_ID,\\n    ADMIT_TIMESTAMP,\\n    LAB_TEST_NAME,\\n    LAB_TEST_TIMESTAMP,\\n    LAB_TEST_RESULT_VALUE,\\n    LAB_TEST_RESULT_UNIT,\\n    REFERENCE_RANGE,\\n]\\nlabs_processor = LabsProcessor(labs, must_have_columns)\\nlabs_features = labs_processor.process()\";\n",
       "                var nbb_cells = Jupyter.notebook.get_cells();\n",
       "                for (var i = 0; i < nbb_cells.length; ++i) {\n",
       "                    if (nbb_cells[i].input_prompt_number == nbb_cell_id) {\n",
       "                        if (nbb_cells[i].get_text() == nbb_unformatted_code) {\n",
       "                             nbb_cells[i].set_text(nbb_formatted_code);\n",
       "                        }\n",
       "                        break;\n",
       "                    }\n",
       "                }\n",
       "            }, 500);\n",
       "            "
      ],
      "text/plain": [
       "<IPython.core.display.Javascript object>"
      ]
     },
     "metadata": {},
     "output_type": "display_data"
    }
   ],
   "source": [
    "%autoreload 2\n",
    "labs = pd.read_hdf(EXTRACT_SAVE_PATH, key=f\"query_gemini_admin_labs\")\n",
    "must_have_columns = [\n",
    "    ENCOUNTER_ID,\n",
    "    ADMIT_TIMESTAMP,\n",
    "    LAB_TEST_NAME,\n",
    "    LAB_TEST_TIMESTAMP,\n",
    "    LAB_TEST_RESULT_VALUE,\n",
    "    LAB_TEST_RESULT_UNIT,\n",
    "    REFERENCE_RANGE,\n",
    "]\n",
    "labs_processor = LabsProcessor(labs, must_have_columns)\n",
    "labs_features = labs_processor.process()"
   ]
  },
  {
   "cell_type": "code",
   "execution_count": 6,
   "id": "requested-america",
   "metadata": {},
   "outputs": [
    {
     "name": "stderr",
     "output_type": "stream",
     "text": [
      "2022-03-18 09:14:41,446 \u001b[1;37mINFO\u001b[0m cyclops.processors.base - Processing raw vitals data...\n",
      "2022-03-18 09:14:41,475 \u001b[1;37mINFO\u001b[0m cyclops.processors.base - # samples: 594190, # encounters: 3082\n",
      "2022-03-18 09:14:41,671 \u001b[1;37mINFO\u001b[0m cyclops.processors.base - Aggregating vitals within aggregation window...\n",
      "2022-03-18 09:14:41,675 \u001b[1;37mINFO\u001b[0m cyclops.processors.base - # samples: 74304, # encounters: 3014\n",
      "2022-03-18 09:14:41,914 \u001b[1;37mINFO\u001b[0m cyclops.processors.base - Drop oxygen flow rate, saturation samples (unsupported)...\n",
      "2022-03-18 09:14:41,918 \u001b[1;37mINFO\u001b[0m cyclops.processors.base - # samples: 56344, # encounters: 3014\n",
      "2022-03-18 09:14:42,267 \u001b[1;37mINFO\u001b[0m cyclops.processors.base - Convert Positive/Negative to 1/0...\n",
      "2022-03-18 09:14:42,270 \u001b[1;37mINFO\u001b[0m cyclops.processors.base - # samples: 56344, # encounters: 3014\n",
      "2022-03-18 09:14:42,283 \u001b[1;37mINFO\u001b[0m cyclops.processors.base - Fill empty result string values with NaN...\n",
      "2022-03-18 09:14:42,301 \u001b[1;37mINFO\u001b[0m cyclops.processors.base - # samples: 56344, # encounters: 3014\n",
      "2022-03-18 09:14:42,313 \u001b[1;37mINFO\u001b[0m cyclops.processors.vitals - Converting string result values to numeric...\n",
      "2022-03-18 09:14:42,315 \u001b[1;37mINFO\u001b[0m cyclops.processors.vitals - Creating features...\n",
      "2022-03-18 09:14:42,324 \u001b[1;37mINFO\u001b[0m cyclops.processors.vitals - # vitals features: 8, # encounters: 3014\n",
      "2022-03-18 09:14:54,075 \u001b[1;37mINFO\u001b[0m cyclops.utils.profile - Finished executing function process in 12.629666 s\n"
     ]
    },
    {
     "data": {
      "application/javascript": [
       "\n",
       "            setTimeout(function() {\n",
       "                var nbb_cell_id = 6;\n",
       "                var nbb_unformatted_code = \"%autoreload 2\\nvitals = pd.read_hdf(EXTRACT_SAVE_PATH, key=f\\\"query_gemini_admin_vitals\\\")\\nmust_have_columns = [\\n    ENCOUNTER_ID,\\n    ADMIT_TIMESTAMP,\\n    VITAL_MEASUREMENT_NAME,\\n    VITAL_MEASUREMENT_VALUE,\\n    VITAL_MEASUREMENT_TIMESTAMP,\\n    REFERENCE_RANGE,\\n]\\n\\nvitals_processor = VitalsProcessor(vitals, must_have_columns)\\nvitals_features = vitals_processor.process()\";\n",
       "                var nbb_formatted_code = \"%autoreload 2\\nvitals = pd.read_hdf(EXTRACT_SAVE_PATH, key=f\\\"query_gemini_admin_vitals\\\")\\nmust_have_columns = [\\n    ENCOUNTER_ID,\\n    ADMIT_TIMESTAMP,\\n    VITAL_MEASUREMENT_NAME,\\n    VITAL_MEASUREMENT_VALUE,\\n    VITAL_MEASUREMENT_TIMESTAMP,\\n    REFERENCE_RANGE,\\n]\\n\\nvitals_processor = VitalsProcessor(vitals, must_have_columns)\\nvitals_features = vitals_processor.process()\";\n",
       "                var nbb_cells = Jupyter.notebook.get_cells();\n",
       "                for (var i = 0; i < nbb_cells.length; ++i) {\n",
       "                    if (nbb_cells[i].input_prompt_number == nbb_cell_id) {\n",
       "                        if (nbb_cells[i].get_text() == nbb_unformatted_code) {\n",
       "                             nbb_cells[i].set_text(nbb_formatted_code);\n",
       "                        }\n",
       "                        break;\n",
       "                    }\n",
       "                }\n",
       "            }, 500);\n",
       "            "
      ],
      "text/plain": [
       "<IPython.core.display.Javascript object>"
      ]
     },
     "metadata": {},
     "output_type": "display_data"
    }
   ],
   "source": [
    "%autoreload 2\n",
    "vitals = pd.read_hdf(EXTRACT_SAVE_PATH, key=f\"query_gemini_admin_vitals\")\n",
    "must_have_columns = [\n",
    "    ENCOUNTER_ID,\n",
    "    ADMIT_TIMESTAMP,\n",
    "    VITAL_MEASUREMENT_NAME,\n",
    "    VITAL_MEASUREMENT_VALUE,\n",
    "    VITAL_MEASUREMENT_TIMESTAMP,\n",
    "    REFERENCE_RANGE,\n",
    "]\n",
    "\n",
    "vitals_processor = VitalsProcessor(vitals, must_have_columns)\n",
    "vitals_features = vitals_processor.process()"
   ]
  },
  {
   "cell_type": "code",
   "execution_count": 7,
   "id": "married-portfolio",
   "metadata": {},
   "outputs": [
    {
     "name": "stderr",
     "output_type": "stream",
     "text": [
      "2022-03-18 09:14:54,367 \u001b[1;37mINFO\u001b[0m cyclops.processors.base - Processing raw outcomes data...\n",
      "2022-03-18 09:14:54,385 \u001b[1;37mINFO\u001b[0m cyclops.processors.base - # samples: 10756, # encounters: 10756\n",
      "2022-03-18 09:14:54,423 \u001b[1;37mINFO\u001b[0m cyclops.utils.profile - Finished executing function process in 0.056225 s\n"
     ]
    },
    {
     "data": {
      "application/javascript": [
       "\n",
       "            setTimeout(function() {\n",
       "                var nbb_cell_id = 7;\n",
       "                var nbb_unformatted_code = \"%autoreload 2\\n\\nadmin_data = pd.read_hdf(EXTRACT_SAVE_PATH, key=f\\\"query_gemini_admin\\\")\\nlos_er_data = pd.read_hdf(EXTRACT_SAVE_PATH, key=f\\\"query_gemini_los_er\\\")\\n\\ndata = pd.merge(admin_data, los_er_data, how=\\\"outer\\\")\\nmust_have_columns = [\\n    ENCOUNTER_ID,\\n    AGE,\\n    SEX,\\n    DISCHARGE_DISPOSITION,\\n    LENGTH_OF_STAY_IN_ER,\\n]\\noutcomes_processor = OutcomesProcessor(data, must_have_columns)\\noutcome_targets = outcomes_processor.process()\";\n",
       "                var nbb_formatted_code = \"%autoreload 2\\n\\nadmin_data = pd.read_hdf(EXTRACT_SAVE_PATH, key=f\\\"query_gemini_admin\\\")\\nlos_er_data = pd.read_hdf(EXTRACT_SAVE_PATH, key=f\\\"query_gemini_los_er\\\")\\n\\ndata = pd.merge(admin_data, los_er_data, how=\\\"outer\\\")\\nmust_have_columns = [\\n    ENCOUNTER_ID,\\n    AGE,\\n    SEX,\\n    DISCHARGE_DISPOSITION,\\n    LENGTH_OF_STAY_IN_ER,\\n]\\noutcomes_processor = OutcomesProcessor(data, must_have_columns)\\noutcome_targets = outcomes_processor.process()\";\n",
       "                var nbb_cells = Jupyter.notebook.get_cells();\n",
       "                for (var i = 0; i < nbb_cells.length; ++i) {\n",
       "                    if (nbb_cells[i].input_prompt_number == nbb_cell_id) {\n",
       "                        if (nbb_cells[i].get_text() == nbb_unformatted_code) {\n",
       "                             nbb_cells[i].set_text(nbb_formatted_code);\n",
       "                        }\n",
       "                        break;\n",
       "                    }\n",
       "                }\n",
       "            }, 500);\n",
       "            "
      ],
      "text/plain": [
       "<IPython.core.display.Javascript object>"
      ]
     },
     "metadata": {},
     "output_type": "display_data"
    }
   ],
   "source": [
    "%autoreload 2\n",
    "\n",
    "admin_data = pd.read_hdf(EXTRACT_SAVE_PATH, key=f\"query_gemini_admin\")\n",
    "los_er_data = pd.read_hdf(EXTRACT_SAVE_PATH, key=f\"query_gemini_los_er\")\n",
    "\n",
    "data = pd.merge(admin_data, los_er_data, how=\"outer\")\n",
    "must_have_columns = [\n",
    "    ENCOUNTER_ID,\n",
    "    AGE,\n",
    "    SEX,\n",
    "    DISCHARGE_DISPOSITION,\n",
    "    LENGTH_OF_STAY_IN_ER,\n",
    "]\n",
    "outcomes_processor = OutcomesProcessor(data, must_have_columns)\n",
    "outcome_targets = outcomes_processor.process()"
   ]
  },
  {
   "cell_type": "code",
   "execution_count": 8,
   "id": "minor-delicious",
   "metadata": {},
   "outputs": [
    {
     "name": "stderr",
     "output_type": "stream",
     "text": [
      "invalid value encountered in true_divide\n",
      "invalid value encountered in true_divide\n",
      "invalid value encountered in true_divide\n"
     ]
    },
    {
     "data": {
      "application/javascript": [
       "\n",
       "            setTimeout(function() {\n",
       "                var nbb_cell_id = 8;\n",
       "                var nbb_unformatted_code = \"feature_handler = FeatureHandler()\\nfeature_handler.add_features(admin_features)\\nfeature_handler.add_features(labs_features)\\nfeature_handler.add_features(vitals_features)\\nfeature_handler.add_features(outcome_targets)\";\n",
       "                var nbb_formatted_code = \"feature_handler = FeatureHandler()\\nfeature_handler.add_features(admin_features)\\nfeature_handler.add_features(labs_features)\\nfeature_handler.add_features(vitals_features)\\nfeature_handler.add_features(outcome_targets)\";\n",
       "                var nbb_cells = Jupyter.notebook.get_cells();\n",
       "                for (var i = 0; i < nbb_cells.length; ++i) {\n",
       "                    if (nbb_cells[i].input_prompt_number == nbb_cell_id) {\n",
       "                        if (nbb_cells[i].get_text() == nbb_unformatted_code) {\n",
       "                             nbb_cells[i].set_text(nbb_formatted_code);\n",
       "                        }\n",
       "                        break;\n",
       "                    }\n",
       "                }\n",
       "            }, 500);\n",
       "            "
      ],
      "text/plain": [
       "<IPython.core.display.Javascript object>"
      ]
     },
     "metadata": {},
     "output_type": "display_data"
    }
   ],
   "source": [
    "feature_handler = FeatureHandler()\n",
    "feature_handler.add_features(admin_features)\n",
    "feature_handler.add_features(labs_features)\n",
    "feature_handler.add_features(vitals_features)\n",
    "feature_handler.add_features(outcome_targets)"
   ]
  },
  {
   "cell_type": "code",
   "execution_count": 9,
   "id": "velvet-county",
   "metadata": {},
   "outputs": [
    {
     "data": {
      "text/html": [
       "<div>\n",
       "<style scoped>\n",
       "    .dataframe tbody tr th:only-of-type {\n",
       "        vertical-align: middle;\n",
       "    }\n",
       "\n",
       "    .dataframe tbody tr th {\n",
       "        vertical-align: top;\n",
       "    }\n",
       "\n",
       "    .dataframe thead th {\n",
       "        text-align: right;\n",
       "    }\n",
       "</style>\n",
       "<table border=\"1\" class=\"dataframe\">\n",
       "  <thead>\n",
       "    <tr style=\"text-align: right;\">\n",
       "      <th></th>\n",
       "      <th>age</th>\n",
       "      <th>sex</th>\n",
       "      <th>aptt</th>\n",
       "      <th>ketone</th>\n",
       "      <th>bilirubin</th>\n",
       "      <th>calcium</th>\n",
       "      <th>calcium, ionized</th>\n",
       "      <th>creatinine</th>\n",
       "      <th>esr</th>\n",
       "      <th>serum alcohol</th>\n",
       "      <th>ferritin</th>\n",
       "      <th>fibrinogen</th>\n",
       "      <th>glucose fasting</th>\n",
       "      <th>glucose point of care</th>\n",
       "      <th>glucose random</th>\n",
       "      <th>hematocrit</th>\n",
       "      <th>hemoglobin</th>\n",
       "      <th>crp</th>\n",
       "      <th>influenza</th>\n",
       "      <th>inr</th>\n",
       "      <th>lactate arterial</th>\n",
       "      <th>lactate venous</th>\n",
       "      <th>mean cell volume</th>\n",
       "      <th>arterial paco2</th>\n",
       "      <th>venous pco2</th>\n",
       "      <th>arterial ph</th>\n",
       "      <th>venous ph</th>\n",
       "      <th>platelet count</th>\n",
       "      <th>arterial pao2</th>\n",
       "      <th>potassium</th>\n",
       "      <th>pt</th>\n",
       "      <th>sodium</th>\n",
       "      <th>urine sodium</th>\n",
       "      <th>urine specific gravity</th>\n",
       "      <th>bicarbonate</th>\n",
       "      <th>troponin</th>\n",
       "      <th>blood urea nitrogen</th>\n",
       "      <th>vitamin b12</th>\n",
       "      <th>white blood cell count</th>\n",
       "      <th>high sensitivity troponin</th>\n",
       "      <th>vitamin d</th>\n",
       "      <th>hba1c</th>\n",
       "      <th>lymphocyte</th>\n",
       "      <th>neutrophils</th>\n",
       "      <th>albumin</th>\n",
       "      <th>Heart Rate</th>\n",
       "      <th>respiratory rate</th>\n",
       "      <th>Systolic BP</th>\n",
       "      <th>CAM</th>\n",
       "      <th>Diastolic BP</th>\n",
       "      <th>Temperature</th>\n",
       "      <th>weight</th>\n",
       "      <th>fio2</th>\n",
       "      <th>mortality_in_hospital</th>\n",
       "      <th>length_of_stay_in_er</th>\n",
       "    </tr>\n",
       "  </thead>\n",
       "  <tbody>\n",
       "    <tr>\n",
       "      <th>11100040</th>\n",
       "      <td>84</td>\n",
       "      <td>1</td>\n",
       "      <td>27.7</td>\n",
       "      <td>NaN</td>\n",
       "      <td>NaN</td>\n",
       "      <td>1.69</td>\n",
       "      <td>NaN</td>\n",
       "      <td>664.0</td>\n",
       "      <td>NaN</td>\n",
       "      <td>NaN</td>\n",
       "      <td>NaN</td>\n",
       "      <td>NaN</td>\n",
       "      <td>NaN</td>\n",
       "      <td>12.675</td>\n",
       "      <td>13.2</td>\n",
       "      <td>0.2880</td>\n",
       "      <td>95.5</td>\n",
       "      <td>NaN</td>\n",
       "      <td>NaN</td>\n",
       "      <td>1.14</td>\n",
       "      <td>NaN</td>\n",
       "      <td>NaN</td>\n",
       "      <td>102.45</td>\n",
       "      <td>NaN</td>\n",
       "      <td>NaN</td>\n",
       "      <td>NaN</td>\n",
       "      <td>NaN</td>\n",
       "      <td>112.5</td>\n",
       "      <td>NaN</td>\n",
       "      <td>3.70</td>\n",
       "      <td>12.65</td>\n",
       "      <td>131.5</td>\n",
       "      <td>NaN</td>\n",
       "      <td>NaN</td>\n",
       "      <td>20.5</td>\n",
       "      <td>NaN</td>\n",
       "      <td>NaN</td>\n",
       "      <td>NaN</td>\n",
       "      <td>8.500</td>\n",
       "      <td>NaN</td>\n",
       "      <td>NaN</td>\n",
       "      <td>NaN</td>\n",
       "      <td>1.110</td>\n",
       "      <td>6.445</td>\n",
       "      <td>28.0</td>\n",
       "      <td>NaN</td>\n",
       "      <td>NaN</td>\n",
       "      <td>NaN</td>\n",
       "      <td>NaN</td>\n",
       "      <td>NaN</td>\n",
       "      <td>NaN</td>\n",
       "      <td>NaN</td>\n",
       "      <td>NaN</td>\n",
       "      <td>0</td>\n",
       "      <td>15.400000</td>\n",
       "    </tr>\n",
       "    <tr>\n",
       "      <th>11100097</th>\n",
       "      <td>65</td>\n",
       "      <td>1</td>\n",
       "      <td>NaN</td>\n",
       "      <td>NaN</td>\n",
       "      <td>9.5</td>\n",
       "      <td>2.25</td>\n",
       "      <td>NaN</td>\n",
       "      <td>42.5</td>\n",
       "      <td>NaN</td>\n",
       "      <td>NaN</td>\n",
       "      <td>NaN</td>\n",
       "      <td>NaN</td>\n",
       "      <td>NaN</td>\n",
       "      <td>NaN</td>\n",
       "      <td>9.4</td>\n",
       "      <td>0.4565</td>\n",
       "      <td>146.5</td>\n",
       "      <td>NaN</td>\n",
       "      <td>NaN</td>\n",
       "      <td>NaN</td>\n",
       "      <td>NaN</td>\n",
       "      <td>2.30</td>\n",
       "      <td>99.70</td>\n",
       "      <td>NaN</td>\n",
       "      <td>38.0</td>\n",
       "      <td>NaN</td>\n",
       "      <td>7.45</td>\n",
       "      <td>274.5</td>\n",
       "      <td>NaN</td>\n",
       "      <td>4.85</td>\n",
       "      <td>NaN</td>\n",
       "      <td>130.5</td>\n",
       "      <td>NaN</td>\n",
       "      <td>1.015</td>\n",
       "      <td>23.0</td>\n",
       "      <td>0.006000</td>\n",
       "      <td>NaN</td>\n",
       "      <td>NaN</td>\n",
       "      <td>12.715</td>\n",
       "      <td>NaN</td>\n",
       "      <td>NaN</td>\n",
       "      <td>NaN</td>\n",
       "      <td>1.630</td>\n",
       "      <td>9.830</td>\n",
       "      <td>30.0</td>\n",
       "      <td>NaN</td>\n",
       "      <td>NaN</td>\n",
       "      <td>NaN</td>\n",
       "      <td>NaN</td>\n",
       "      <td>NaN</td>\n",
       "      <td>NaN</td>\n",
       "      <td>NaN</td>\n",
       "      <td>NaN</td>\n",
       "      <td>0</td>\n",
       "      <td>16.816668</td>\n",
       "    </tr>\n",
       "    <tr>\n",
       "      <th>11100164</th>\n",
       "      <td>59</td>\n",
       "      <td>1</td>\n",
       "      <td>25.1</td>\n",
       "      <td>NaN</td>\n",
       "      <td>8.0</td>\n",
       "      <td>2.25</td>\n",
       "      <td>NaN</td>\n",
       "      <td>95.0</td>\n",
       "      <td>NaN</td>\n",
       "      <td>1.0</td>\n",
       "      <td>NaN</td>\n",
       "      <td>3.16</td>\n",
       "      <td>NaN</td>\n",
       "      <td>NaN</td>\n",
       "      <td>6.5</td>\n",
       "      <td>0.4400</td>\n",
       "      <td>145.5</td>\n",
       "      <td>NaN</td>\n",
       "      <td>NaN</td>\n",
       "      <td>0.96</td>\n",
       "      <td>NaN</td>\n",
       "      <td>1.20</td>\n",
       "      <td>86.35</td>\n",
       "      <td>NaN</td>\n",
       "      <td>47.0</td>\n",
       "      <td>NaN</td>\n",
       "      <td>7.35</td>\n",
       "      <td>224.0</td>\n",
       "      <td>NaN</td>\n",
       "      <td>4.10</td>\n",
       "      <td>10.70</td>\n",
       "      <td>134.5</td>\n",
       "      <td>NaN</td>\n",
       "      <td>NaN</td>\n",
       "      <td>24.5</td>\n",
       "      <td>NaN</td>\n",
       "      <td>NaN</td>\n",
       "      <td>NaN</td>\n",
       "      <td>7.260</td>\n",
       "      <td>NaN</td>\n",
       "      <td>NaN</td>\n",
       "      <td>0.055</td>\n",
       "      <td>0.955</td>\n",
       "      <td>5.755</td>\n",
       "      <td>44.0</td>\n",
       "      <td>NaN</td>\n",
       "      <td>NaN</td>\n",
       "      <td>NaN</td>\n",
       "      <td>NaN</td>\n",
       "      <td>NaN</td>\n",
       "      <td>NaN</td>\n",
       "      <td>NaN</td>\n",
       "      <td>NaN</td>\n",
       "      <td>0</td>\n",
       "      <td>3.650000</td>\n",
       "    </tr>\n",
       "    <tr>\n",
       "      <th>11100176</th>\n",
       "      <td>63</td>\n",
       "      <td>1</td>\n",
       "      <td>25.6</td>\n",
       "      <td>NaN</td>\n",
       "      <td>NaN</td>\n",
       "      <td>2.26</td>\n",
       "      <td>NaN</td>\n",
       "      <td>312.0</td>\n",
       "      <td>NaN</td>\n",
       "      <td>NaN</td>\n",
       "      <td>NaN</td>\n",
       "      <td>NaN</td>\n",
       "      <td>NaN</td>\n",
       "      <td>NaN</td>\n",
       "      <td>NaN</td>\n",
       "      <td>0.3285</td>\n",
       "      <td>98.5</td>\n",
       "      <td>NaN</td>\n",
       "      <td>NaN</td>\n",
       "      <td>0.99</td>\n",
       "      <td>NaN</td>\n",
       "      <td>NaN</td>\n",
       "      <td>69.15</td>\n",
       "      <td>NaN</td>\n",
       "      <td>NaN</td>\n",
       "      <td>NaN</td>\n",
       "      <td>NaN</td>\n",
       "      <td>407.5</td>\n",
       "      <td>NaN</td>\n",
       "      <td>5.00</td>\n",
       "      <td>10.90</td>\n",
       "      <td>134.5</td>\n",
       "      <td>NaN</td>\n",
       "      <td>NaN</td>\n",
       "      <td>23.0</td>\n",
       "      <td>0.006000</td>\n",
       "      <td>NaN</td>\n",
       "      <td>NaN</td>\n",
       "      <td>10.280</td>\n",
       "      <td>NaN</td>\n",
       "      <td>NaN</td>\n",
       "      <td>NaN</td>\n",
       "      <td>1.020</td>\n",
       "      <td>7.615</td>\n",
       "      <td>33.0</td>\n",
       "      <td>NaN</td>\n",
       "      <td>NaN</td>\n",
       "      <td>NaN</td>\n",
       "      <td>NaN</td>\n",
       "      <td>NaN</td>\n",
       "      <td>NaN</td>\n",
       "      <td>NaN</td>\n",
       "      <td>NaN</td>\n",
       "      <td>0</td>\n",
       "      <td>8.350000</td>\n",
       "    </tr>\n",
       "    <tr>\n",
       "      <th>11100374</th>\n",
       "      <td>46</td>\n",
       "      <td>1</td>\n",
       "      <td>NaN</td>\n",
       "      <td>NaN</td>\n",
       "      <td>11.0</td>\n",
       "      <td>2.47</td>\n",
       "      <td>NaN</td>\n",
       "      <td>23.5</td>\n",
       "      <td>NaN</td>\n",
       "      <td>1.0</td>\n",
       "      <td>NaN</td>\n",
       "      <td>NaN</td>\n",
       "      <td>NaN</td>\n",
       "      <td>NaN</td>\n",
       "      <td>7.0</td>\n",
       "      <td>0.4810</td>\n",
       "      <td>152.0</td>\n",
       "      <td>NaN</td>\n",
       "      <td>NaN</td>\n",
       "      <td>NaN</td>\n",
       "      <td>NaN</td>\n",
       "      <td>1.55</td>\n",
       "      <td>91.20</td>\n",
       "      <td>43.0</td>\n",
       "      <td>58.5</td>\n",
       "      <td>7.37</td>\n",
       "      <td>7.33</td>\n",
       "      <td>270.0</td>\n",
       "      <td>67.0</td>\n",
       "      <td>4.65</td>\n",
       "      <td>NaN</td>\n",
       "      <td>136.0</td>\n",
       "      <td>NaN</td>\n",
       "      <td>1.013</td>\n",
       "      <td>29.0</td>\n",
       "      <td>0.035667</td>\n",
       "      <td>NaN</td>\n",
       "      <td>232.0</td>\n",
       "      <td>14.190</td>\n",
       "      <td>NaN</td>\n",
       "      <td>NaN</td>\n",
       "      <td>NaN</td>\n",
       "      <td>1.015</td>\n",
       "      <td>12.075</td>\n",
       "      <td>41.0</td>\n",
       "      <td>NaN</td>\n",
       "      <td>NaN</td>\n",
       "      <td>NaN</td>\n",
       "      <td>NaN</td>\n",
       "      <td>NaN</td>\n",
       "      <td>NaN</td>\n",
       "      <td>NaN</td>\n",
       "      <td>NaN</td>\n",
       "      <td>0</td>\n",
       "      <td>24.250000</td>\n",
       "    </tr>\n",
       "  </tbody>\n",
       "</table>\n",
       "</div>"
      ],
      "text/plain": [
       "          age  sex  aptt  ketone  bilirubin  calcium  calcium, ionized  \\\n",
       "11100040   84    1  27.7     NaN        NaN     1.69               NaN   \n",
       "11100097   65    1   NaN     NaN        9.5     2.25               NaN   \n",
       "11100164   59    1  25.1     NaN        8.0     2.25               NaN   \n",
       "11100176   63    1  25.6     NaN        NaN     2.26               NaN   \n",
       "11100374   46    1   NaN     NaN       11.0     2.47               NaN   \n",
       "\n",
       "          creatinine  esr  serum alcohol  ferritin  fibrinogen  \\\n",
       "11100040       664.0  NaN            NaN       NaN         NaN   \n",
       "11100097        42.5  NaN            NaN       NaN         NaN   \n",
       "11100164        95.0  NaN            1.0       NaN        3.16   \n",
       "11100176       312.0  NaN            NaN       NaN         NaN   \n",
       "11100374        23.5  NaN            1.0       NaN         NaN   \n",
       "\n",
       "          glucose fasting  glucose point of care  glucose random  hematocrit  \\\n",
       "11100040              NaN                 12.675            13.2      0.2880   \n",
       "11100097              NaN                    NaN             9.4      0.4565   \n",
       "11100164              NaN                    NaN             6.5      0.4400   \n",
       "11100176              NaN                    NaN             NaN      0.3285   \n",
       "11100374              NaN                    NaN             7.0      0.4810   \n",
       "\n",
       "          hemoglobin  crp  influenza   inr  lactate arterial  lactate venous  \\\n",
       "11100040        95.5  NaN        NaN  1.14               NaN             NaN   \n",
       "11100097       146.5  NaN        NaN   NaN               NaN            2.30   \n",
       "11100164       145.5  NaN        NaN  0.96               NaN            1.20   \n",
       "11100176        98.5  NaN        NaN  0.99               NaN             NaN   \n",
       "11100374       152.0  NaN        NaN   NaN               NaN            1.55   \n",
       "\n",
       "          mean cell volume  arterial paco2  venous pco2  arterial ph  \\\n",
       "11100040            102.45             NaN          NaN          NaN   \n",
       "11100097             99.70             NaN         38.0          NaN   \n",
       "11100164             86.35             NaN         47.0          NaN   \n",
       "11100176             69.15             NaN          NaN          NaN   \n",
       "11100374             91.20            43.0         58.5         7.37   \n",
       "\n",
       "          venous ph  platelet count  arterial pao2  potassium     pt  sodium  \\\n",
       "11100040        NaN           112.5            NaN       3.70  12.65   131.5   \n",
       "11100097       7.45           274.5            NaN       4.85    NaN   130.5   \n",
       "11100164       7.35           224.0            NaN       4.10  10.70   134.5   \n",
       "11100176        NaN           407.5            NaN       5.00  10.90   134.5   \n",
       "11100374       7.33           270.0           67.0       4.65    NaN   136.0   \n",
       "\n",
       "          urine sodium  urine specific gravity  bicarbonate  troponin  \\\n",
       "11100040           NaN                     NaN         20.5       NaN   \n",
       "11100097           NaN                   1.015         23.0  0.006000   \n",
       "11100164           NaN                     NaN         24.5       NaN   \n",
       "11100176           NaN                     NaN         23.0  0.006000   \n",
       "11100374           NaN                   1.013         29.0  0.035667   \n",
       "\n",
       "          blood urea nitrogen  vitamin b12  white blood cell count  \\\n",
       "11100040                  NaN          NaN                   8.500   \n",
       "11100097                  NaN          NaN                  12.715   \n",
       "11100164                  NaN          NaN                   7.260   \n",
       "11100176                  NaN          NaN                  10.280   \n",
       "11100374                  NaN        232.0                  14.190   \n",
       "\n",
       "          high sensitivity troponin  vitamin d  hba1c  lymphocyte  \\\n",
       "11100040                        NaN        NaN    NaN       1.110   \n",
       "11100097                        NaN        NaN    NaN       1.630   \n",
       "11100164                        NaN        NaN  0.055       0.955   \n",
       "11100176                        NaN        NaN    NaN       1.020   \n",
       "11100374                        NaN        NaN    NaN       1.015   \n",
       "\n",
       "          neutrophils  albumin  Heart Rate  respiratory rate  Systolic BP  \\\n",
       "11100040        6.445     28.0         NaN               NaN          NaN   \n",
       "11100097        9.830     30.0         NaN               NaN          NaN   \n",
       "11100164        5.755     44.0         NaN               NaN          NaN   \n",
       "11100176        7.615     33.0         NaN               NaN          NaN   \n",
       "11100374       12.075     41.0         NaN               NaN          NaN   \n",
       "\n",
       "          CAM  Diastolic BP  Temperature  weight  fio2  mortality_in_hospital  \\\n",
       "11100040  NaN           NaN          NaN     NaN   NaN                      0   \n",
       "11100097  NaN           NaN          NaN     NaN   NaN                      0   \n",
       "11100164  NaN           NaN          NaN     NaN   NaN                      0   \n",
       "11100176  NaN           NaN          NaN     NaN   NaN                      0   \n",
       "11100374  NaN           NaN          NaN     NaN   NaN                      0   \n",
       "\n",
       "          length_of_stay_in_er  \n",
       "11100040             15.400000  \n",
       "11100097             16.816668  \n",
       "11100164              3.650000  \n",
       "11100176              8.350000  \n",
       "11100374             24.250000  "
      ]
     },
     "execution_count": 9,
     "metadata": {},
     "output_type": "execute_result"
    },
    {
     "data": {
      "application/javascript": [
       "\n",
       "            setTimeout(function() {\n",
       "                var nbb_cell_id = 9;\n",
       "                var nbb_unformatted_code = \"pd.set_option(\\\"display.max_columns\\\", None)\\nfeature_handler.features.head()\";\n",
       "                var nbb_formatted_code = \"pd.set_option(\\\"display.max_columns\\\", None)\\nfeature_handler.features.head()\";\n",
       "                var nbb_cells = Jupyter.notebook.get_cells();\n",
       "                for (var i = 0; i < nbb_cells.length; ++i) {\n",
       "                    if (nbb_cells[i].input_prompt_number == nbb_cell_id) {\n",
       "                        if (nbb_cells[i].get_text() == nbb_unformatted_code) {\n",
       "                             nbb_cells[i].set_text(nbb_formatted_code);\n",
       "                        }\n",
       "                        break;\n",
       "                    }\n",
       "                }\n",
       "            }, 500);\n",
       "            "
      ],
      "text/plain": [
       "<IPython.core.display.Javascript object>"
      ]
     },
     "metadata": {},
     "output_type": "display_data"
    }
   ],
   "source": [
    "pd.set_option(\"display.max_columns\", None)\n",
    "feature_handler.features.head()"
   ]
  },
  {
   "cell_type": "code",
   "execution_count": 10,
   "id": "third-chest",
   "metadata": {},
   "outputs": [
    {
     "data": {
      "text/html": [
       "<div>\n",
       "<style scoped>\n",
       "    .dataframe tbody tr th:only-of-type {\n",
       "        vertical-align: middle;\n",
       "    }\n",
       "\n",
       "    .dataframe tbody tr th {\n",
       "        vertical-align: top;\n",
       "    }\n",
       "\n",
       "    .dataframe thead th {\n",
       "        text-align: right;\n",
       "    }\n",
       "</style>\n",
       "<table border=\"1\" class=\"dataframe\">\n",
       "  <thead>\n",
       "    <tr style=\"text-align: right;\">\n",
       "      <th></th>\n",
       "      <th>age</th>\n",
       "      <th>sex</th>\n",
       "      <th>bilirubin</th>\n",
       "      <th>calcium</th>\n",
       "      <th>creatinine</th>\n",
       "      <th>glucose random</th>\n",
       "      <th>hematocrit</th>\n",
       "      <th>hemoglobin</th>\n",
       "      <th>mean cell volume</th>\n",
       "      <th>platelet count</th>\n",
       "      <th>potassium</th>\n",
       "      <th>sodium</th>\n",
       "      <th>bicarbonate</th>\n",
       "      <th>white blood cell count</th>\n",
       "      <th>lymphocyte</th>\n",
       "      <th>neutrophils</th>\n",
       "      <th>albumin</th>\n",
       "      <th>mortality_in_hospital</th>\n",
       "      <th>length_of_stay_in_er</th>\n",
       "      <th>Heart Rate_indicator</th>\n",
       "      <th>respiratory rate_indicator</th>\n",
       "      <th>Systolic BP_indicator</th>\n",
       "      <th>CAM_indicator</th>\n",
       "      <th>Diastolic BP_indicator</th>\n",
       "      <th>Temperature_indicator</th>\n",
       "      <th>weight_indicator</th>\n",
       "      <th>fio2_indicator</th>\n",
       "      <th>aptt_indicator</th>\n",
       "      <th>ketone_indicator</th>\n",
       "      <th>bilirubin_indicator</th>\n",
       "      <th>calcium_indicator</th>\n",
       "      <th>calcium, ionized_indicator</th>\n",
       "      <th>creatinine_indicator</th>\n",
       "      <th>esr_indicator</th>\n",
       "      <th>serum alcohol_indicator</th>\n",
       "      <th>ferritin_indicator</th>\n",
       "      <th>fibrinogen_indicator</th>\n",
       "      <th>glucose fasting_indicator</th>\n",
       "      <th>glucose point of care_indicator</th>\n",
       "      <th>glucose random_indicator</th>\n",
       "      <th>hematocrit_indicator</th>\n",
       "      <th>hemoglobin_indicator</th>\n",
       "      <th>crp_indicator</th>\n",
       "      <th>influenza_indicator</th>\n",
       "      <th>inr_indicator</th>\n",
       "      <th>lactate arterial_indicator</th>\n",
       "      <th>lactate venous_indicator</th>\n",
       "      <th>mean cell volume_indicator</th>\n",
       "      <th>arterial paco2_indicator</th>\n",
       "      <th>venous pco2_indicator</th>\n",
       "      <th>arterial ph_indicator</th>\n",
       "      <th>venous ph_indicator</th>\n",
       "      <th>platelet count_indicator</th>\n",
       "      <th>arterial pao2_indicator</th>\n",
       "      <th>potassium_indicator</th>\n",
       "      <th>pt_indicator</th>\n",
       "      <th>sodium_indicator</th>\n",
       "      <th>urine sodium_indicator</th>\n",
       "      <th>urine specific gravity_indicator</th>\n",
       "      <th>bicarbonate_indicator</th>\n",
       "      <th>troponin_indicator</th>\n",
       "      <th>blood urea nitrogen_indicator</th>\n",
       "      <th>vitamin b12_indicator</th>\n",
       "      <th>white blood cell count_indicator</th>\n",
       "      <th>high sensitivity troponin_indicator</th>\n",
       "      <th>vitamin d_indicator</th>\n",
       "      <th>hba1c_indicator</th>\n",
       "      <th>lymphocyte_indicator</th>\n",
       "      <th>neutrophils_indicator</th>\n",
       "      <th>albumin_indicator</th>\n",
       "    </tr>\n",
       "  </thead>\n",
       "  <tbody>\n",
       "    <tr>\n",
       "      <th>11100040</th>\n",
       "      <td>84</td>\n",
       "      <td>1</td>\n",
       "      <td>16.889285</td>\n",
       "      <td>1.69</td>\n",
       "      <td>664.0</td>\n",
       "      <td>13.200000</td>\n",
       "      <td>0.2880</td>\n",
       "      <td>95.5</td>\n",
       "      <td>102.45</td>\n",
       "      <td>112.5</td>\n",
       "      <td>3.70</td>\n",
       "      <td>131.5</td>\n",
       "      <td>20.5</td>\n",
       "      <td>8.500</td>\n",
       "      <td>1.110</td>\n",
       "      <td>6.445</td>\n",
       "      <td>28.0</td>\n",
       "      <td>0</td>\n",
       "      <td>15.400000</td>\n",
       "      <td>1</td>\n",
       "      <td>1</td>\n",
       "      <td>1</td>\n",
       "      <td>1</td>\n",
       "      <td>1</td>\n",
       "      <td>1</td>\n",
       "      <td>1</td>\n",
       "      <td>1</td>\n",
       "      <td>0</td>\n",
       "      <td>1</td>\n",
       "      <td>1</td>\n",
       "      <td>0</td>\n",
       "      <td>1</td>\n",
       "      <td>0</td>\n",
       "      <td>1</td>\n",
       "      <td>1</td>\n",
       "      <td>1</td>\n",
       "      <td>1</td>\n",
       "      <td>1</td>\n",
       "      <td>0</td>\n",
       "      <td>0</td>\n",
       "      <td>0</td>\n",
       "      <td>0</td>\n",
       "      <td>1</td>\n",
       "      <td>1</td>\n",
       "      <td>0</td>\n",
       "      <td>1</td>\n",
       "      <td>1</td>\n",
       "      <td>0</td>\n",
       "      <td>1</td>\n",
       "      <td>1</td>\n",
       "      <td>1</td>\n",
       "      <td>1</td>\n",
       "      <td>0</td>\n",
       "      <td>1</td>\n",
       "      <td>0</td>\n",
       "      <td>0</td>\n",
       "      <td>0</td>\n",
       "      <td>1</td>\n",
       "      <td>1</td>\n",
       "      <td>0</td>\n",
       "      <td>1</td>\n",
       "      <td>1</td>\n",
       "      <td>1</td>\n",
       "      <td>0</td>\n",
       "      <td>1</td>\n",
       "      <td>1</td>\n",
       "      <td>1</td>\n",
       "      <td>0</td>\n",
       "      <td>0</td>\n",
       "      <td>0</td>\n",
       "    </tr>\n",
       "    <tr>\n",
       "      <th>11100097</th>\n",
       "      <td>65</td>\n",
       "      <td>1</td>\n",
       "      <td>9.500000</td>\n",
       "      <td>2.25</td>\n",
       "      <td>42.5</td>\n",
       "      <td>9.400000</td>\n",
       "      <td>0.4565</td>\n",
       "      <td>146.5</td>\n",
       "      <td>99.70</td>\n",
       "      <td>274.5</td>\n",
       "      <td>4.85</td>\n",
       "      <td>130.5</td>\n",
       "      <td>23.0</td>\n",
       "      <td>12.715</td>\n",
       "      <td>1.630</td>\n",
       "      <td>9.830</td>\n",
       "      <td>30.0</td>\n",
       "      <td>0</td>\n",
       "      <td>16.816668</td>\n",
       "      <td>1</td>\n",
       "      <td>1</td>\n",
       "      <td>1</td>\n",
       "      <td>1</td>\n",
       "      <td>1</td>\n",
       "      <td>1</td>\n",
       "      <td>1</td>\n",
       "      <td>1</td>\n",
       "      <td>1</td>\n",
       "      <td>1</td>\n",
       "      <td>0</td>\n",
       "      <td>0</td>\n",
       "      <td>1</td>\n",
       "      <td>0</td>\n",
       "      <td>1</td>\n",
       "      <td>1</td>\n",
       "      <td>1</td>\n",
       "      <td>1</td>\n",
       "      <td>1</td>\n",
       "      <td>1</td>\n",
       "      <td>0</td>\n",
       "      <td>0</td>\n",
       "      <td>0</td>\n",
       "      <td>1</td>\n",
       "      <td>1</td>\n",
       "      <td>1</td>\n",
       "      <td>1</td>\n",
       "      <td>0</td>\n",
       "      <td>0</td>\n",
       "      <td>1</td>\n",
       "      <td>0</td>\n",
       "      <td>1</td>\n",
       "      <td>0</td>\n",
       "      <td>0</td>\n",
       "      <td>1</td>\n",
       "      <td>0</td>\n",
       "      <td>1</td>\n",
       "      <td>0</td>\n",
       "      <td>1</td>\n",
       "      <td>0</td>\n",
       "      <td>0</td>\n",
       "      <td>0</td>\n",
       "      <td>1</td>\n",
       "      <td>1</td>\n",
       "      <td>0</td>\n",
       "      <td>1</td>\n",
       "      <td>1</td>\n",
       "      <td>1</td>\n",
       "      <td>0</td>\n",
       "      <td>0</td>\n",
       "      <td>0</td>\n",
       "    </tr>\n",
       "    <tr>\n",
       "      <th>11100164</th>\n",
       "      <td>59</td>\n",
       "      <td>1</td>\n",
       "      <td>8.000000</td>\n",
       "      <td>2.25</td>\n",
       "      <td>95.0</td>\n",
       "      <td>6.500000</td>\n",
       "      <td>0.4400</td>\n",
       "      <td>145.5</td>\n",
       "      <td>86.35</td>\n",
       "      <td>224.0</td>\n",
       "      <td>4.10</td>\n",
       "      <td>134.5</td>\n",
       "      <td>24.5</td>\n",
       "      <td>7.260</td>\n",
       "      <td>0.955</td>\n",
       "      <td>5.755</td>\n",
       "      <td>44.0</td>\n",
       "      <td>0</td>\n",
       "      <td>3.650000</td>\n",
       "      <td>1</td>\n",
       "      <td>1</td>\n",
       "      <td>1</td>\n",
       "      <td>1</td>\n",
       "      <td>1</td>\n",
       "      <td>1</td>\n",
       "      <td>1</td>\n",
       "      <td>1</td>\n",
       "      <td>0</td>\n",
       "      <td>1</td>\n",
       "      <td>0</td>\n",
       "      <td>0</td>\n",
       "      <td>1</td>\n",
       "      <td>0</td>\n",
       "      <td>1</td>\n",
       "      <td>0</td>\n",
       "      <td>1</td>\n",
       "      <td>0</td>\n",
       "      <td>1</td>\n",
       "      <td>1</td>\n",
       "      <td>0</td>\n",
       "      <td>0</td>\n",
       "      <td>0</td>\n",
       "      <td>1</td>\n",
       "      <td>1</td>\n",
       "      <td>0</td>\n",
       "      <td>1</td>\n",
       "      <td>0</td>\n",
       "      <td>0</td>\n",
       "      <td>1</td>\n",
       "      <td>0</td>\n",
       "      <td>1</td>\n",
       "      <td>0</td>\n",
       "      <td>0</td>\n",
       "      <td>1</td>\n",
       "      <td>0</td>\n",
       "      <td>0</td>\n",
       "      <td>0</td>\n",
       "      <td>1</td>\n",
       "      <td>1</td>\n",
       "      <td>0</td>\n",
       "      <td>1</td>\n",
       "      <td>1</td>\n",
       "      <td>1</td>\n",
       "      <td>0</td>\n",
       "      <td>1</td>\n",
       "      <td>1</td>\n",
       "      <td>0</td>\n",
       "      <td>0</td>\n",
       "      <td>0</td>\n",
       "      <td>0</td>\n",
       "    </tr>\n",
       "    <tr>\n",
       "      <th>11100176</th>\n",
       "      <td>63</td>\n",
       "      <td>1</td>\n",
       "      <td>16.889285</td>\n",
       "      <td>2.26</td>\n",
       "      <td>312.0</td>\n",
       "      <td>8.149029</td>\n",
       "      <td>0.3285</td>\n",
       "      <td>98.5</td>\n",
       "      <td>69.15</td>\n",
       "      <td>407.5</td>\n",
       "      <td>5.00</td>\n",
       "      <td>134.5</td>\n",
       "      <td>23.0</td>\n",
       "      <td>10.280</td>\n",
       "      <td>1.020</td>\n",
       "      <td>7.615</td>\n",
       "      <td>33.0</td>\n",
       "      <td>0</td>\n",
       "      <td>8.350000</td>\n",
       "      <td>1</td>\n",
       "      <td>1</td>\n",
       "      <td>1</td>\n",
       "      <td>1</td>\n",
       "      <td>1</td>\n",
       "      <td>1</td>\n",
       "      <td>1</td>\n",
       "      <td>1</td>\n",
       "      <td>0</td>\n",
       "      <td>1</td>\n",
       "      <td>1</td>\n",
       "      <td>0</td>\n",
       "      <td>1</td>\n",
       "      <td>0</td>\n",
       "      <td>1</td>\n",
       "      <td>1</td>\n",
       "      <td>1</td>\n",
       "      <td>1</td>\n",
       "      <td>1</td>\n",
       "      <td>1</td>\n",
       "      <td>1</td>\n",
       "      <td>0</td>\n",
       "      <td>0</td>\n",
       "      <td>1</td>\n",
       "      <td>1</td>\n",
       "      <td>0</td>\n",
       "      <td>1</td>\n",
       "      <td>1</td>\n",
       "      <td>0</td>\n",
       "      <td>1</td>\n",
       "      <td>1</td>\n",
       "      <td>1</td>\n",
       "      <td>1</td>\n",
       "      <td>0</td>\n",
       "      <td>1</td>\n",
       "      <td>0</td>\n",
       "      <td>0</td>\n",
       "      <td>0</td>\n",
       "      <td>1</td>\n",
       "      <td>1</td>\n",
       "      <td>0</td>\n",
       "      <td>0</td>\n",
       "      <td>1</td>\n",
       "      <td>1</td>\n",
       "      <td>0</td>\n",
       "      <td>1</td>\n",
       "      <td>1</td>\n",
       "      <td>1</td>\n",
       "      <td>0</td>\n",
       "      <td>0</td>\n",
       "      <td>0</td>\n",
       "    </tr>\n",
       "    <tr>\n",
       "      <th>11100374</th>\n",
       "      <td>46</td>\n",
       "      <td>1</td>\n",
       "      <td>11.000000</td>\n",
       "      <td>2.47</td>\n",
       "      <td>23.5</td>\n",
       "      <td>7.000000</td>\n",
       "      <td>0.4810</td>\n",
       "      <td>152.0</td>\n",
       "      <td>91.20</td>\n",
       "      <td>270.0</td>\n",
       "      <td>4.65</td>\n",
       "      <td>136.0</td>\n",
       "      <td>29.0</td>\n",
       "      <td>14.190</td>\n",
       "      <td>1.015</td>\n",
       "      <td>12.075</td>\n",
       "      <td>41.0</td>\n",
       "      <td>0</td>\n",
       "      <td>24.250000</td>\n",
       "      <td>1</td>\n",
       "      <td>1</td>\n",
       "      <td>1</td>\n",
       "      <td>1</td>\n",
       "      <td>1</td>\n",
       "      <td>1</td>\n",
       "      <td>1</td>\n",
       "      <td>1</td>\n",
       "      <td>1</td>\n",
       "      <td>1</td>\n",
       "      <td>0</td>\n",
       "      <td>0</td>\n",
       "      <td>1</td>\n",
       "      <td>0</td>\n",
       "      <td>1</td>\n",
       "      <td>0</td>\n",
       "      <td>1</td>\n",
       "      <td>1</td>\n",
       "      <td>1</td>\n",
       "      <td>1</td>\n",
       "      <td>0</td>\n",
       "      <td>0</td>\n",
       "      <td>0</td>\n",
       "      <td>1</td>\n",
       "      <td>1</td>\n",
       "      <td>1</td>\n",
       "      <td>1</td>\n",
       "      <td>0</td>\n",
       "      <td>0</td>\n",
       "      <td>0</td>\n",
       "      <td>0</td>\n",
       "      <td>0</td>\n",
       "      <td>0</td>\n",
       "      <td>0</td>\n",
       "      <td>0</td>\n",
       "      <td>0</td>\n",
       "      <td>1</td>\n",
       "      <td>0</td>\n",
       "      <td>1</td>\n",
       "      <td>0</td>\n",
       "      <td>0</td>\n",
       "      <td>0</td>\n",
       "      <td>1</td>\n",
       "      <td>0</td>\n",
       "      <td>0</td>\n",
       "      <td>1</td>\n",
       "      <td>1</td>\n",
       "      <td>1</td>\n",
       "      <td>0</td>\n",
       "      <td>0</td>\n",
       "      <td>0</td>\n",
       "    </tr>\n",
       "  </tbody>\n",
       "</table>\n",
       "</div>"
      ],
      "text/plain": [
       "          age  sex  bilirubin  calcium  creatinine  glucose random  \\\n",
       "11100040   84    1  16.889285     1.69       664.0       13.200000   \n",
       "11100097   65    1   9.500000     2.25        42.5        9.400000   \n",
       "11100164   59    1   8.000000     2.25        95.0        6.500000   \n",
       "11100176   63    1  16.889285     2.26       312.0        8.149029   \n",
       "11100374   46    1  11.000000     2.47        23.5        7.000000   \n",
       "\n",
       "          hematocrit  hemoglobin  mean cell volume  platelet count  potassium  \\\n",
       "11100040      0.2880        95.5            102.45           112.5       3.70   \n",
       "11100097      0.4565       146.5             99.70           274.5       4.85   \n",
       "11100164      0.4400       145.5             86.35           224.0       4.10   \n",
       "11100176      0.3285        98.5             69.15           407.5       5.00   \n",
       "11100374      0.4810       152.0             91.20           270.0       4.65   \n",
       "\n",
       "          sodium  bicarbonate  white blood cell count  lymphocyte  \\\n",
       "11100040   131.5         20.5                   8.500       1.110   \n",
       "11100097   130.5         23.0                  12.715       1.630   \n",
       "11100164   134.5         24.5                   7.260       0.955   \n",
       "11100176   134.5         23.0                  10.280       1.020   \n",
       "11100374   136.0         29.0                  14.190       1.015   \n",
       "\n",
       "          neutrophils  albumin  mortality_in_hospital  length_of_stay_in_er  \\\n",
       "11100040        6.445     28.0                      0             15.400000   \n",
       "11100097        9.830     30.0                      0             16.816668   \n",
       "11100164        5.755     44.0                      0              3.650000   \n",
       "11100176        7.615     33.0                      0              8.350000   \n",
       "11100374       12.075     41.0                      0             24.250000   \n",
       "\n",
       "          Heart Rate_indicator  respiratory rate_indicator  \\\n",
       "11100040                     1                           1   \n",
       "11100097                     1                           1   \n",
       "11100164                     1                           1   \n",
       "11100176                     1                           1   \n",
       "11100374                     1                           1   \n",
       "\n",
       "          Systolic BP_indicator  CAM_indicator  Diastolic BP_indicator  \\\n",
       "11100040                      1              1                       1   \n",
       "11100097                      1              1                       1   \n",
       "11100164                      1              1                       1   \n",
       "11100176                      1              1                       1   \n",
       "11100374                      1              1                       1   \n",
       "\n",
       "          Temperature_indicator  weight_indicator  fio2_indicator  \\\n",
       "11100040                      1                 1               1   \n",
       "11100097                      1                 1               1   \n",
       "11100164                      1                 1               1   \n",
       "11100176                      1                 1               1   \n",
       "11100374                      1                 1               1   \n",
       "\n",
       "          aptt_indicator  ketone_indicator  bilirubin_indicator  \\\n",
       "11100040               0                 1                    1   \n",
       "11100097               1                 1                    0   \n",
       "11100164               0                 1                    0   \n",
       "11100176               0                 1                    1   \n",
       "11100374               1                 1                    0   \n",
       "\n",
       "          calcium_indicator  calcium, ionized_indicator  creatinine_indicator  \\\n",
       "11100040                  0                           1                     0   \n",
       "11100097                  0                           1                     0   \n",
       "11100164                  0                           1                     0   \n",
       "11100176                  0                           1                     0   \n",
       "11100374                  0                           1                     0   \n",
       "\n",
       "          esr_indicator  serum alcohol_indicator  ferritin_indicator  \\\n",
       "11100040              1                        1                   1   \n",
       "11100097              1                        1                   1   \n",
       "11100164              1                        0                   1   \n",
       "11100176              1                        1                   1   \n",
       "11100374              1                        0                   1   \n",
       "\n",
       "          fibrinogen_indicator  glucose fasting_indicator  \\\n",
       "11100040                     1                          1   \n",
       "11100097                     1                          1   \n",
       "11100164                     0                          1   \n",
       "11100176                     1                          1   \n",
       "11100374                     1                          1   \n",
       "\n",
       "          glucose point of care_indicator  glucose random_indicator  \\\n",
       "11100040                                0                         0   \n",
       "11100097                                1                         0   \n",
       "11100164                                1                         0   \n",
       "11100176                                1                         1   \n",
       "11100374                                1                         0   \n",
       "\n",
       "          hematocrit_indicator  hemoglobin_indicator  crp_indicator  \\\n",
       "11100040                     0                     0              1   \n",
       "11100097                     0                     0              1   \n",
       "11100164                     0                     0              1   \n",
       "11100176                     0                     0              1   \n",
       "11100374                     0                     0              1   \n",
       "\n",
       "          influenza_indicator  inr_indicator  lactate arterial_indicator  \\\n",
       "11100040                    1              0                           1   \n",
       "11100097                    1              1                           1   \n",
       "11100164                    1              0                           1   \n",
       "11100176                    1              0                           1   \n",
       "11100374                    1              1                           1   \n",
       "\n",
       "          lactate venous_indicator  mean cell volume_indicator  \\\n",
       "11100040                         1                           0   \n",
       "11100097                         0                           0   \n",
       "11100164                         0                           0   \n",
       "11100176                         1                           0   \n",
       "11100374                         0                           0   \n",
       "\n",
       "          arterial paco2_indicator  venous pco2_indicator  \\\n",
       "11100040                         1                      1   \n",
       "11100097                         1                      0   \n",
       "11100164                         1                      0   \n",
       "11100176                         1                      1   \n",
       "11100374                         0                      0   \n",
       "\n",
       "          arterial ph_indicator  venous ph_indicator  \\\n",
       "11100040                      1                    1   \n",
       "11100097                      1                    0   \n",
       "11100164                      1                    0   \n",
       "11100176                      1                    1   \n",
       "11100374                      0                    0   \n",
       "\n",
       "          platelet count_indicator  arterial pao2_indicator  \\\n",
       "11100040                         0                        1   \n",
       "11100097                         0                        1   \n",
       "11100164                         0                        1   \n",
       "11100176                         0                        1   \n",
       "11100374                         0                        0   \n",
       "\n",
       "          potassium_indicator  pt_indicator  sodium_indicator  \\\n",
       "11100040                    0             0                 0   \n",
       "11100097                    0             1                 0   \n",
       "11100164                    0             0                 0   \n",
       "11100176                    0             0                 0   \n",
       "11100374                    0             1                 0   \n",
       "\n",
       "          urine sodium_indicator  urine specific gravity_indicator  \\\n",
       "11100040                       1                                 1   \n",
       "11100097                       1                                 0   \n",
       "11100164                       1                                 1   \n",
       "11100176                       1                                 1   \n",
       "11100374                       1                                 0   \n",
       "\n",
       "          bicarbonate_indicator  troponin_indicator  \\\n",
       "11100040                      0                   1   \n",
       "11100097                      0                   0   \n",
       "11100164                      0                   1   \n",
       "11100176                      0                   0   \n",
       "11100374                      0                   0   \n",
       "\n",
       "          blood urea nitrogen_indicator  vitamin b12_indicator  \\\n",
       "11100040                              1                      1   \n",
       "11100097                              1                      1   \n",
       "11100164                              1                      1   \n",
       "11100176                              1                      1   \n",
       "11100374                              1                      0   \n",
       "\n",
       "          white blood cell count_indicator  \\\n",
       "11100040                                 0   \n",
       "11100097                                 0   \n",
       "11100164                                 0   \n",
       "11100176                                 0   \n",
       "11100374                                 0   \n",
       "\n",
       "          high sensitivity troponin_indicator  vitamin d_indicator  \\\n",
       "11100040                                    1                    1   \n",
       "11100097                                    1                    1   \n",
       "11100164                                    1                    1   \n",
       "11100176                                    1                    1   \n",
       "11100374                                    1                    1   \n",
       "\n",
       "          hba1c_indicator  lymphocyte_indicator  neutrophils_indicator  \\\n",
       "11100040                1                     0                      0   \n",
       "11100097                1                     0                      0   \n",
       "11100164                0                     0                      0   \n",
       "11100176                1                     0                      0   \n",
       "11100374                1                     0                      0   \n",
       "\n",
       "          albumin_indicator  \n",
       "11100040                  0  \n",
       "11100097                  0  \n",
       "11100164                  0  \n",
       "11100176                  0  \n",
       "11100374                  0  "
      ]
     },
     "execution_count": 10,
     "metadata": {},
     "output_type": "execute_result"
    },
    {
     "data": {
      "application/javascript": [
       "\n",
       "            setTimeout(function() {\n",
       "                var nbb_cell_id = 10;\n",
       "                var nbb_unformatted_code = \"x = feature_handler.features\\nx_ind = (\\n    x[list(vitals_features.columns.values) + list(labs_features.columns.values)]\\n    .isnull()\\n    .astype(int)\\n    .add_suffix(\\\"_indicator\\\")\\n)\\nX = pd.concat([x, x_ind], axis=1)\\nX = X[X[\\\"length_of_stay_in_er\\\"].notna()]\\nfeat = feature_handler.features.isnull().sum(axis=0).sort_values(ascending=False)\\nfeat_remov = feat[feat > 5000].index\\nX = X.drop(feat_remov, axis=1)\\n# X = X.dropna()\\nX = X.fillna(X.mean())\\nX.head()\";\n",
       "                var nbb_formatted_code = \"x = feature_handler.features\\nx_ind = (\\n    x[list(vitals_features.columns.values) + list(labs_features.columns.values)]\\n    .isnull()\\n    .astype(int)\\n    .add_suffix(\\\"_indicator\\\")\\n)\\nX = pd.concat([x, x_ind], axis=1)\\nX = X[X[\\\"length_of_stay_in_er\\\"].notna()]\\nfeat = feature_handler.features.isnull().sum(axis=0).sort_values(ascending=False)\\nfeat_remov = feat[feat > 5000].index\\nX = X.drop(feat_remov, axis=1)\\n# X = X.dropna()\\nX = X.fillna(X.mean())\\nX.head()\";\n",
       "                var nbb_cells = Jupyter.notebook.get_cells();\n",
       "                for (var i = 0; i < nbb_cells.length; ++i) {\n",
       "                    if (nbb_cells[i].input_prompt_number == nbb_cell_id) {\n",
       "                        if (nbb_cells[i].get_text() == nbb_unformatted_code) {\n",
       "                             nbb_cells[i].set_text(nbb_formatted_code);\n",
       "                        }\n",
       "                        break;\n",
       "                    }\n",
       "                }\n",
       "            }, 500);\n",
       "            "
      ],
      "text/plain": [
       "<IPython.core.display.Javascript object>"
      ]
     },
     "metadata": {},
     "output_type": "display_data"
    }
   ],
   "source": [
    "x = feature_handler.features\n",
    "x_ind = (\n",
    "    x[list(vitals_features.columns.values) + list(labs_features.columns.values)]\n",
    "    .isnull()\n",
    "    .astype(int)\n",
    "    .add_suffix(\"_indicator\")\n",
    ")\n",
    "X = pd.concat([x, x_ind], axis=1)\n",
    "X = X[X[\"length_of_stay_in_er\"].notna()]\n",
    "feat = feature_handler.features.isnull().sum(axis=0).sort_values(ascending=False)\n",
    "feat_remov = feat[feat > 5000].index\n",
    "X = X.drop(feat_remov, axis=1)\n",
    "# X = X.dropna()\n",
    "X = X.fillna(X.mean())\n",
    "X.head()"
   ]
  },
  {
   "cell_type": "code",
   "execution_count": 11,
   "id": "consolidated-microphone",
   "metadata": {},
   "outputs": [
    {
     "data": {
      "text/html": [
       "<div>\n",
       "<style scoped>\n",
       "    .dataframe tbody tr th:only-of-type {\n",
       "        vertical-align: middle;\n",
       "    }\n",
       "\n",
       "    .dataframe tbody tr th {\n",
       "        vertical-align: top;\n",
       "    }\n",
       "\n",
       "    .dataframe thead th {\n",
       "        text-align: right;\n",
       "    }\n",
       "</style>\n",
       "<table border=\"1\" class=\"dataframe\">\n",
       "  <thead>\n",
       "    <tr style=\"text-align: right;\">\n",
       "      <th></th>\n",
       "      <th>age</th>\n",
       "      <th>sex</th>\n",
       "      <th>bilirubin</th>\n",
       "      <th>calcium</th>\n",
       "      <th>creatinine</th>\n",
       "      <th>glucose random</th>\n",
       "      <th>hematocrit</th>\n",
       "      <th>hemoglobin</th>\n",
       "      <th>mean cell volume</th>\n",
       "      <th>platelet count</th>\n",
       "      <th>potassium</th>\n",
       "      <th>sodium</th>\n",
       "      <th>bicarbonate</th>\n",
       "      <th>white blood cell count</th>\n",
       "      <th>lymphocyte</th>\n",
       "      <th>neutrophils</th>\n",
       "      <th>albumin</th>\n",
       "      <th>Heart Rate_indicator</th>\n",
       "      <th>respiratory rate_indicator</th>\n",
       "      <th>Systolic BP_indicator</th>\n",
       "      <th>CAM_indicator</th>\n",
       "      <th>Diastolic BP_indicator</th>\n",
       "      <th>Temperature_indicator</th>\n",
       "      <th>weight_indicator</th>\n",
       "      <th>fio2_indicator</th>\n",
       "      <th>aptt_indicator</th>\n",
       "      <th>ketone_indicator</th>\n",
       "      <th>bilirubin_indicator</th>\n",
       "      <th>calcium_indicator</th>\n",
       "      <th>calcium, ionized_indicator</th>\n",
       "      <th>creatinine_indicator</th>\n",
       "      <th>esr_indicator</th>\n",
       "      <th>serum alcohol_indicator</th>\n",
       "      <th>ferritin_indicator</th>\n",
       "      <th>fibrinogen_indicator</th>\n",
       "      <th>glucose fasting_indicator</th>\n",
       "      <th>glucose point of care_indicator</th>\n",
       "      <th>glucose random_indicator</th>\n",
       "      <th>hematocrit_indicator</th>\n",
       "      <th>hemoglobin_indicator</th>\n",
       "      <th>crp_indicator</th>\n",
       "      <th>influenza_indicator</th>\n",
       "      <th>inr_indicator</th>\n",
       "      <th>lactate arterial_indicator</th>\n",
       "      <th>lactate venous_indicator</th>\n",
       "      <th>mean cell volume_indicator</th>\n",
       "      <th>arterial paco2_indicator</th>\n",
       "      <th>venous pco2_indicator</th>\n",
       "      <th>arterial ph_indicator</th>\n",
       "      <th>venous ph_indicator</th>\n",
       "      <th>platelet count_indicator</th>\n",
       "      <th>arterial pao2_indicator</th>\n",
       "      <th>potassium_indicator</th>\n",
       "      <th>pt_indicator</th>\n",
       "      <th>sodium_indicator</th>\n",
       "      <th>urine sodium_indicator</th>\n",
       "      <th>urine specific gravity_indicator</th>\n",
       "      <th>bicarbonate_indicator</th>\n",
       "      <th>troponin_indicator</th>\n",
       "      <th>blood urea nitrogen_indicator</th>\n",
       "      <th>vitamin b12_indicator</th>\n",
       "      <th>white blood cell count_indicator</th>\n",
       "      <th>high sensitivity troponin_indicator</th>\n",
       "      <th>vitamin d_indicator</th>\n",
       "      <th>hba1c_indicator</th>\n",
       "      <th>lymphocyte_indicator</th>\n",
       "      <th>neutrophils_indicator</th>\n",
       "      <th>albumin_indicator</th>\n",
       "    </tr>\n",
       "  </thead>\n",
       "  <tbody>\n",
       "    <tr>\n",
       "      <th>11101884</th>\n",
       "      <td>54</td>\n",
       "      <td>1</td>\n",
       "      <td>17.5</td>\n",
       "      <td>2.300000</td>\n",
       "      <td>55.0</td>\n",
       "      <td>6.766667</td>\n",
       "      <td>0.479333</td>\n",
       "      <td>172.666667</td>\n",
       "      <td>92.30</td>\n",
       "      <td>145.333333</td>\n",
       "      <td>3.366667</td>\n",
       "      <td>132.333333</td>\n",
       "      <td>22.333333</td>\n",
       "      <td>13.030</td>\n",
       "      <td>1.006667</td>\n",
       "      <td>10.780</td>\n",
       "      <td>37.0</td>\n",
       "      <td>0</td>\n",
       "      <td>0</td>\n",
       "      <td>0</td>\n",
       "      <td>1</td>\n",
       "      <td>0</td>\n",
       "      <td>0</td>\n",
       "      <td>1</td>\n",
       "      <td>1</td>\n",
       "      <td>1</td>\n",
       "      <td>1</td>\n",
       "      <td>0</td>\n",
       "      <td>0</td>\n",
       "      <td>1</td>\n",
       "      <td>0</td>\n",
       "      <td>1</td>\n",
       "      <td>0</td>\n",
       "      <td>1</td>\n",
       "      <td>1</td>\n",
       "      <td>1</td>\n",
       "      <td>1</td>\n",
       "      <td>0</td>\n",
       "      <td>0</td>\n",
       "      <td>0</td>\n",
       "      <td>0</td>\n",
       "      <td>1</td>\n",
       "      <td>1</td>\n",
       "      <td>1</td>\n",
       "      <td>0</td>\n",
       "      <td>0</td>\n",
       "      <td>1</td>\n",
       "      <td>0</td>\n",
       "      <td>1</td>\n",
       "      <td>0</td>\n",
       "      <td>0</td>\n",
       "      <td>1</td>\n",
       "      <td>0</td>\n",
       "      <td>1</td>\n",
       "      <td>0</td>\n",
       "      <td>1</td>\n",
       "      <td>1</td>\n",
       "      <td>0</td>\n",
       "      <td>1</td>\n",
       "      <td>1</td>\n",
       "      <td>1</td>\n",
       "      <td>0</td>\n",
       "      <td>0</td>\n",
       "      <td>1</td>\n",
       "      <td>1</td>\n",
       "      <td>0</td>\n",
       "      <td>0</td>\n",
       "      <td>0</td>\n",
       "    </tr>\n",
       "    <tr>\n",
       "      <th>11102331</th>\n",
       "      <td>94</td>\n",
       "      <td>1</td>\n",
       "      <td>8.0</td>\n",
       "      <td>2.223746</td>\n",
       "      <td>87.0</td>\n",
       "      <td>8.000000</td>\n",
       "      <td>0.350000</td>\n",
       "      <td>113.000000</td>\n",
       "      <td>102.00</td>\n",
       "      <td>158.000000</td>\n",
       "      <td>3.800000</td>\n",
       "      <td>142.000000</td>\n",
       "      <td>26.000000</td>\n",
       "      <td>7.340</td>\n",
       "      <td>0.870000</td>\n",
       "      <td>5.380</td>\n",
       "      <td>34.0</td>\n",
       "      <td>0</td>\n",
       "      <td>0</td>\n",
       "      <td>0</td>\n",
       "      <td>1</td>\n",
       "      <td>0</td>\n",
       "      <td>0</td>\n",
       "      <td>1</td>\n",
       "      <td>1</td>\n",
       "      <td>1</td>\n",
       "      <td>1</td>\n",
       "      <td>0</td>\n",
       "      <td>1</td>\n",
       "      <td>1</td>\n",
       "      <td>0</td>\n",
       "      <td>1</td>\n",
       "      <td>1</td>\n",
       "      <td>1</td>\n",
       "      <td>1</td>\n",
       "      <td>1</td>\n",
       "      <td>1</td>\n",
       "      <td>0</td>\n",
       "      <td>0</td>\n",
       "      <td>0</td>\n",
       "      <td>1</td>\n",
       "      <td>1</td>\n",
       "      <td>1</td>\n",
       "      <td>1</td>\n",
       "      <td>1</td>\n",
       "      <td>0</td>\n",
       "      <td>1</td>\n",
       "      <td>1</td>\n",
       "      <td>1</td>\n",
       "      <td>1</td>\n",
       "      <td>0</td>\n",
       "      <td>1</td>\n",
       "      <td>0</td>\n",
       "      <td>1</td>\n",
       "      <td>0</td>\n",
       "      <td>1</td>\n",
       "      <td>0</td>\n",
       "      <td>0</td>\n",
       "      <td>1</td>\n",
       "      <td>1</td>\n",
       "      <td>0</td>\n",
       "      <td>0</td>\n",
       "      <td>0</td>\n",
       "      <td>1</td>\n",
       "      <td>1</td>\n",
       "      <td>0</td>\n",
       "      <td>0</td>\n",
       "      <td>0</td>\n",
       "    </tr>\n",
       "    <tr>\n",
       "      <th>11103929</th>\n",
       "      <td>62</td>\n",
       "      <td>1</td>\n",
       "      <td>17.5</td>\n",
       "      <td>2.380000</td>\n",
       "      <td>78.5</td>\n",
       "      <td>7.250000</td>\n",
       "      <td>0.432000</td>\n",
       "      <td>154.000000</td>\n",
       "      <td>86.25</td>\n",
       "      <td>211.000000</td>\n",
       "      <td>3.250000</td>\n",
       "      <td>132.000000</td>\n",
       "      <td>25.000000</td>\n",
       "      <td>15.135</td>\n",
       "      <td>0.495000</td>\n",
       "      <td>13.765</td>\n",
       "      <td>44.0</td>\n",
       "      <td>0</td>\n",
       "      <td>0</td>\n",
       "      <td>0</td>\n",
       "      <td>0</td>\n",
       "      <td>0</td>\n",
       "      <td>0</td>\n",
       "      <td>1</td>\n",
       "      <td>1</td>\n",
       "      <td>1</td>\n",
       "      <td>0</td>\n",
       "      <td>0</td>\n",
       "      <td>0</td>\n",
       "      <td>1</td>\n",
       "      <td>0</td>\n",
       "      <td>1</td>\n",
       "      <td>0</td>\n",
       "      <td>1</td>\n",
       "      <td>1</td>\n",
       "      <td>1</td>\n",
       "      <td>1</td>\n",
       "      <td>0</td>\n",
       "      <td>0</td>\n",
       "      <td>0</td>\n",
       "      <td>1</td>\n",
       "      <td>1</td>\n",
       "      <td>1</td>\n",
       "      <td>1</td>\n",
       "      <td>0</td>\n",
       "      <td>0</td>\n",
       "      <td>1</td>\n",
       "      <td>0</td>\n",
       "      <td>1</td>\n",
       "      <td>0</td>\n",
       "      <td>0</td>\n",
       "      <td>1</td>\n",
       "      <td>0</td>\n",
       "      <td>1</td>\n",
       "      <td>0</td>\n",
       "      <td>1</td>\n",
       "      <td>0</td>\n",
       "      <td>0</td>\n",
       "      <td>1</td>\n",
       "      <td>1</td>\n",
       "      <td>0</td>\n",
       "      <td>0</td>\n",
       "      <td>0</td>\n",
       "      <td>1</td>\n",
       "      <td>1</td>\n",
       "      <td>0</td>\n",
       "      <td>0</td>\n",
       "      <td>0</td>\n",
       "    </tr>\n",
       "    <tr>\n",
       "      <th>11104009</th>\n",
       "      <td>57</td>\n",
       "      <td>1</td>\n",
       "      <td>12.0</td>\n",
       "      <td>2.230000</td>\n",
       "      <td>65.0</td>\n",
       "      <td>4.300000</td>\n",
       "      <td>0.411000</td>\n",
       "      <td>143.000000</td>\n",
       "      <td>93.95</td>\n",
       "      <td>158.500000</td>\n",
       "      <td>3.900000</td>\n",
       "      <td>136.500000</td>\n",
       "      <td>26.500000</td>\n",
       "      <td>7.010</td>\n",
       "      <td>1.255000</td>\n",
       "      <td>4.975</td>\n",
       "      <td>39.0</td>\n",
       "      <td>0</td>\n",
       "      <td>0</td>\n",
       "      <td>0</td>\n",
       "      <td>0</td>\n",
       "      <td>0</td>\n",
       "      <td>0</td>\n",
       "      <td>0</td>\n",
       "      <td>1</td>\n",
       "      <td>1</td>\n",
       "      <td>1</td>\n",
       "      <td>0</td>\n",
       "      <td>0</td>\n",
       "      <td>1</td>\n",
       "      <td>0</td>\n",
       "      <td>1</td>\n",
       "      <td>0</td>\n",
       "      <td>1</td>\n",
       "      <td>1</td>\n",
       "      <td>1</td>\n",
       "      <td>1</td>\n",
       "      <td>0</td>\n",
       "      <td>0</td>\n",
       "      <td>0</td>\n",
       "      <td>1</td>\n",
       "      <td>1</td>\n",
       "      <td>0</td>\n",
       "      <td>1</td>\n",
       "      <td>0</td>\n",
       "      <td>0</td>\n",
       "      <td>1</td>\n",
       "      <td>0</td>\n",
       "      <td>1</td>\n",
       "      <td>0</td>\n",
       "      <td>0</td>\n",
       "      <td>1</td>\n",
       "      <td>0</td>\n",
       "      <td>0</td>\n",
       "      <td>0</td>\n",
       "      <td>1</td>\n",
       "      <td>1</td>\n",
       "      <td>0</td>\n",
       "      <td>1</td>\n",
       "      <td>0</td>\n",
       "      <td>0</td>\n",
       "      <td>0</td>\n",
       "      <td>0</td>\n",
       "      <td>1</td>\n",
       "      <td>1</td>\n",
       "      <td>0</td>\n",
       "      <td>0</td>\n",
       "      <td>0</td>\n",
       "    </tr>\n",
       "    <tr>\n",
       "      <th>11105030</th>\n",
       "      <td>35</td>\n",
       "      <td>1</td>\n",
       "      <td>6.0</td>\n",
       "      <td>2.223746</td>\n",
       "      <td>73.0</td>\n",
       "      <td>5.100000</td>\n",
       "      <td>0.461500</td>\n",
       "      <td>158.000000</td>\n",
       "      <td>95.35</td>\n",
       "      <td>222.000000</td>\n",
       "      <td>4.400000</td>\n",
       "      <td>136.000000</td>\n",
       "      <td>28.500000</td>\n",
       "      <td>7.955</td>\n",
       "      <td>0.665000</td>\n",
       "      <td>6.720</td>\n",
       "      <td>39.0</td>\n",
       "      <td>0</td>\n",
       "      <td>0</td>\n",
       "      <td>0</td>\n",
       "      <td>0</td>\n",
       "      <td>0</td>\n",
       "      <td>0</td>\n",
       "      <td>1</td>\n",
       "      <td>1</td>\n",
       "      <td>1</td>\n",
       "      <td>1</td>\n",
       "      <td>0</td>\n",
       "      <td>1</td>\n",
       "      <td>1</td>\n",
       "      <td>0</td>\n",
       "      <td>1</td>\n",
       "      <td>0</td>\n",
       "      <td>0</td>\n",
       "      <td>1</td>\n",
       "      <td>1</td>\n",
       "      <td>1</td>\n",
       "      <td>0</td>\n",
       "      <td>0</td>\n",
       "      <td>0</td>\n",
       "      <td>0</td>\n",
       "      <td>1</td>\n",
       "      <td>1</td>\n",
       "      <td>1</td>\n",
       "      <td>1</td>\n",
       "      <td>0</td>\n",
       "      <td>1</td>\n",
       "      <td>1</td>\n",
       "      <td>1</td>\n",
       "      <td>1</td>\n",
       "      <td>0</td>\n",
       "      <td>1</td>\n",
       "      <td>0</td>\n",
       "      <td>1</td>\n",
       "      <td>0</td>\n",
       "      <td>1</td>\n",
       "      <td>1</td>\n",
       "      <td>0</td>\n",
       "      <td>1</td>\n",
       "      <td>1</td>\n",
       "      <td>1</td>\n",
       "      <td>0</td>\n",
       "      <td>1</td>\n",
       "      <td>1</td>\n",
       "      <td>1</td>\n",
       "      <td>0</td>\n",
       "      <td>0</td>\n",
       "      <td>0</td>\n",
       "    </tr>\n",
       "  </tbody>\n",
       "</table>\n",
       "</div>"
      ],
      "text/plain": [
       "          age  sex  bilirubin   calcium  creatinine  glucose random  \\\n",
       "11101884   54    1       17.5  2.300000        55.0        6.766667   \n",
       "11102331   94    1        8.0  2.223746        87.0        8.000000   \n",
       "11103929   62    1       17.5  2.380000        78.5        7.250000   \n",
       "11104009   57    1       12.0  2.230000        65.0        4.300000   \n",
       "11105030   35    1        6.0  2.223746        73.0        5.100000   \n",
       "\n",
       "          hematocrit  hemoglobin  mean cell volume  platelet count  potassium  \\\n",
       "11101884    0.479333  172.666667             92.30      145.333333   3.366667   \n",
       "11102331    0.350000  113.000000            102.00      158.000000   3.800000   \n",
       "11103929    0.432000  154.000000             86.25      211.000000   3.250000   \n",
       "11104009    0.411000  143.000000             93.95      158.500000   3.900000   \n",
       "11105030    0.461500  158.000000             95.35      222.000000   4.400000   \n",
       "\n",
       "              sodium  bicarbonate  white blood cell count  lymphocyte  \\\n",
       "11101884  132.333333    22.333333                  13.030    1.006667   \n",
       "11102331  142.000000    26.000000                   7.340    0.870000   \n",
       "11103929  132.000000    25.000000                  15.135    0.495000   \n",
       "11104009  136.500000    26.500000                   7.010    1.255000   \n",
       "11105030  136.000000    28.500000                   7.955    0.665000   \n",
       "\n",
       "          neutrophils  albumin  Heart Rate_indicator  \\\n",
       "11101884       10.780     37.0                     0   \n",
       "11102331        5.380     34.0                     0   \n",
       "11103929       13.765     44.0                     0   \n",
       "11104009        4.975     39.0                     0   \n",
       "11105030        6.720     39.0                     0   \n",
       "\n",
       "          respiratory rate_indicator  Systolic BP_indicator  CAM_indicator  \\\n",
       "11101884                           0                      0              1   \n",
       "11102331                           0                      0              1   \n",
       "11103929                           0                      0              0   \n",
       "11104009                           0                      0              0   \n",
       "11105030                           0                      0              0   \n",
       "\n",
       "          Diastolic BP_indicator  Temperature_indicator  weight_indicator  \\\n",
       "11101884                       0                      0                 1   \n",
       "11102331                       0                      0                 1   \n",
       "11103929                       0                      0                 1   \n",
       "11104009                       0                      0                 0   \n",
       "11105030                       0                      0                 1   \n",
       "\n",
       "          fio2_indicator  aptt_indicator  ketone_indicator  \\\n",
       "11101884               1               1                 1   \n",
       "11102331               1               1                 1   \n",
       "11103929               1               1                 0   \n",
       "11104009               1               1                 1   \n",
       "11105030               1               1                 1   \n",
       "\n",
       "          bilirubin_indicator  calcium_indicator  calcium, ionized_indicator  \\\n",
       "11101884                    0                  0                           1   \n",
       "11102331                    0                  1                           1   \n",
       "11103929                    0                  0                           1   \n",
       "11104009                    0                  0                           1   \n",
       "11105030                    0                  1                           1   \n",
       "\n",
       "          creatinine_indicator  esr_indicator  serum alcohol_indicator  \\\n",
       "11101884                     0              1                        0   \n",
       "11102331                     0              1                        1   \n",
       "11103929                     0              1                        0   \n",
       "11104009                     0              1                        0   \n",
       "11105030                     0              1                        0   \n",
       "\n",
       "          ferritin_indicator  fibrinogen_indicator  glucose fasting_indicator  \\\n",
       "11101884                   1                     1                          1   \n",
       "11102331                   1                     1                          1   \n",
       "11103929                   1                     1                          1   \n",
       "11104009                   1                     1                          1   \n",
       "11105030                   0                     1                          1   \n",
       "\n",
       "          glucose point of care_indicator  glucose random_indicator  \\\n",
       "11101884                                1                         0   \n",
       "11102331                                1                         0   \n",
       "11103929                                1                         0   \n",
       "11104009                                1                         0   \n",
       "11105030                                1                         0   \n",
       "\n",
       "          hematocrit_indicator  hemoglobin_indicator  crp_indicator  \\\n",
       "11101884                     0                     0              0   \n",
       "11102331                     0                     0              1   \n",
       "11103929                     0                     0              1   \n",
       "11104009                     0                     0              1   \n",
       "11105030                     0                     0              0   \n",
       "\n",
       "          influenza_indicator  inr_indicator  lactate arterial_indicator  \\\n",
       "11101884                    1              1                           1   \n",
       "11102331                    1              1                           1   \n",
       "11103929                    1              1                           1   \n",
       "11104009                    1              0                           1   \n",
       "11105030                    1              1                           1   \n",
       "\n",
       "          lactate venous_indicator  mean cell volume_indicator  \\\n",
       "11101884                         0                           0   \n",
       "11102331                         1                           0   \n",
       "11103929                         0                           0   \n",
       "11104009                         0                           0   \n",
       "11105030                         1                           0   \n",
       "\n",
       "          arterial paco2_indicator  venous pco2_indicator  \\\n",
       "11101884                         1                      0   \n",
       "11102331                         1                      1   \n",
       "11103929                         1                      0   \n",
       "11104009                         1                      0   \n",
       "11105030                         1                      1   \n",
       "\n",
       "          arterial ph_indicator  venous ph_indicator  \\\n",
       "11101884                      1                    0   \n",
       "11102331                      1                    1   \n",
       "11103929                      1                    0   \n",
       "11104009                      1                    0   \n",
       "11105030                      1                    1   \n",
       "\n",
       "          platelet count_indicator  arterial pao2_indicator  \\\n",
       "11101884                         0                        1   \n",
       "11102331                         0                        1   \n",
       "11103929                         0                        1   \n",
       "11104009                         0                        1   \n",
       "11105030                         0                        1   \n",
       "\n",
       "          potassium_indicator  pt_indicator  sodium_indicator  \\\n",
       "11101884                    0             1                 0   \n",
       "11102331                    0             1                 0   \n",
       "11103929                    0             1                 0   \n",
       "11104009                    0             0                 0   \n",
       "11105030                    0             1                 0   \n",
       "\n",
       "          urine sodium_indicator  urine specific gravity_indicator  \\\n",
       "11101884                       1                                 1   \n",
       "11102331                       1                                 0   \n",
       "11103929                       1                                 0   \n",
       "11104009                       1                                 1   \n",
       "11105030                       1                                 1   \n",
       "\n",
       "          bicarbonate_indicator  troponin_indicator  \\\n",
       "11101884                      0                   1   \n",
       "11102331                      0                   1   \n",
       "11103929                      0                   1   \n",
       "11104009                      0                   1   \n",
       "11105030                      0                   1   \n",
       "\n",
       "          blood urea nitrogen_indicator  vitamin b12_indicator  \\\n",
       "11101884                              1                      1   \n",
       "11102331                              1                      0   \n",
       "11103929                              1                      0   \n",
       "11104009                              0                      0   \n",
       "11105030                              1                      1   \n",
       "\n",
       "          white blood cell count_indicator  \\\n",
       "11101884                                 0   \n",
       "11102331                                 0   \n",
       "11103929                                 0   \n",
       "11104009                                 0   \n",
       "11105030                                 0   \n",
       "\n",
       "          high sensitivity troponin_indicator  vitamin d_indicator  \\\n",
       "11101884                                    0                    1   \n",
       "11102331                                    0                    1   \n",
       "11103929                                    0                    1   \n",
       "11104009                                    0                    1   \n",
       "11105030                                    1                    1   \n",
       "\n",
       "          hba1c_indicator  lymphocyte_indicator  neutrophils_indicator  \\\n",
       "11101884                1                     0                      0   \n",
       "11102331                1                     0                      0   \n",
       "11103929                1                     0                      0   \n",
       "11104009                1                     0                      0   \n",
       "11105030                1                     0                      0   \n",
       "\n",
       "          albumin_indicator  \n",
       "11101884                  0  \n",
       "11102331                  0  \n",
       "11103929                  0  \n",
       "11104009                  0  \n",
       "11105030                  0  "
      ]
     },
     "execution_count": 11,
     "metadata": {},
     "output_type": "execute_result"
    },
    {
     "data": {
      "application/javascript": [
       "\n",
       "            setTimeout(function() {\n",
       "                var nbb_cell_id = 11;\n",
       "                var nbb_unformatted_code = \"ids_precovid = data.loc[\\n    data[\\\"admit_timestamp\\\"].dt.date < datetime.date(2020, 3, 1), \\\"encounter_id\\\"\\n]\\nX_train = X.loc[X.index.isin(ids_precovid)]\\n# label_column specifies the index of the column containing the true label\\ny_train = np.where(X_train[\\\"length_of_stay_in_er\\\"] > 7, 1, 0)\\nX_train = X_train.drop(columns=[\\\"mortality_in_hospital\\\", \\\"length_of_stay_in_er\\\"])\\nX_train, X_val, y_train, y_val = train_test_split(X_train, y_train, train_size=0.67)\\n\\nids_covid = data.loc[\\n    data[\\\"admit_timestamp\\\"].dt.date > datetime.date(2020, 2, 28), \\\"encounter_id\\\"\\n]\\nX_test = X.loc[X.index.isin(ids_covid)]\\ny_test = np.where(X_test[\\\"length_of_stay_in_er\\\"] > 7, 1, 0)\\nX_test = X_test.drop(columns=[\\\"mortality_in_hospital\\\", \\\"length_of_stay_in_er\\\"])\\nX_test.head()\";\n",
       "                var nbb_formatted_code = \"ids_precovid = data.loc[\\n    data[\\\"admit_timestamp\\\"].dt.date < datetime.date(2020, 3, 1), \\\"encounter_id\\\"\\n]\\nX_train = X.loc[X.index.isin(ids_precovid)]\\n# label_column specifies the index of the column containing the true label\\ny_train = np.where(X_train[\\\"length_of_stay_in_er\\\"] > 7, 1, 0)\\nX_train = X_train.drop(columns=[\\\"mortality_in_hospital\\\", \\\"length_of_stay_in_er\\\"])\\nX_train, X_val, y_train, y_val = train_test_split(X_train, y_train, train_size=0.67)\\n\\nids_covid = data.loc[\\n    data[\\\"admit_timestamp\\\"].dt.date > datetime.date(2020, 2, 28), \\\"encounter_id\\\"\\n]\\nX_test = X.loc[X.index.isin(ids_covid)]\\ny_test = np.where(X_test[\\\"length_of_stay_in_er\\\"] > 7, 1, 0)\\nX_test = X_test.drop(columns=[\\\"mortality_in_hospital\\\", \\\"length_of_stay_in_er\\\"])\\nX_test.head()\";\n",
       "                var nbb_cells = Jupyter.notebook.get_cells();\n",
       "                for (var i = 0; i < nbb_cells.length; ++i) {\n",
       "                    if (nbb_cells[i].input_prompt_number == nbb_cell_id) {\n",
       "                        if (nbb_cells[i].get_text() == nbb_unformatted_code) {\n",
       "                             nbb_cells[i].set_text(nbb_formatted_code);\n",
       "                        }\n",
       "                        break;\n",
       "                    }\n",
       "                }\n",
       "            }, 500);\n",
       "            "
      ],
      "text/plain": [
       "<IPython.core.display.Javascript object>"
      ]
     },
     "metadata": {},
     "output_type": "display_data"
    }
   ],
   "source": [
    "ids_precovid = data.loc[\n",
    "    data[\"admit_timestamp\"].dt.date < datetime.date(2020, 3, 1), \"encounter_id\"\n",
    "]\n",
    "X_train = X.loc[X.index.isin(ids_precovid)]\n",
    "# label_column specifies the index of the column containing the true label\n",
    "y_train = np.where(X_train[\"length_of_stay_in_er\"] > 7, 1, 0)\n",
    "X_train = X_train.drop(columns=[\"mortality_in_hospital\", \"length_of_stay_in_er\"])\n",
    "X_train, X_val, y_train, y_val = train_test_split(X_train, y_train, train_size=0.67)\n",
    "\n",
    "ids_covid = data.loc[\n",
    "    data[\"admit_timestamp\"].dt.date > datetime.date(2020, 2, 28), \"encounter_id\"\n",
    "]\n",
    "X_test = X.loc[X.index.isin(ids_covid)]\n",
    "y_test = np.where(X_test[\"length_of_stay_in_er\"] > 7, 1, 0)\n",
    "X_test = X_test.drop(columns=[\"mortality_in_hospital\", \"length_of_stay_in_er\"])\n",
    "X_test.head()"
   ]
  },
  {
   "cell_type": "markdown",
   "id": "static-swiss",
   "metadata": {},
   "source": [
    "## Modeling ## "
   ]
  },
  {
   "cell_type": "markdown",
   "id": "bibliographic-premium",
   "metadata": {},
   "source": [
    "### MLP ###"
   ]
  },
  {
   "cell_type": "code",
   "execution_count": 12,
   "id": "exotic-grade",
   "metadata": {},
   "outputs": [
    {
     "name": "stdout",
     "output_type": "stream",
     "text": [
      "Fitted model with C: 0.1 AUC: 0.5584394006614147\n",
      "Fitted model with C: 0.01 AUC: 0.5462309790245635\n",
      "Fitted model with C: 0.001 AUC: 0.5220032628849488\n",
      "Fitted model with C: 0.0001 AUC: 0.5319085755898734\n",
      "Fitted model with C: 1e-05 AUC: 0.5512013108101181\n",
      "Fitted model with C: 1e-06 AUC: 0.5146803309548091\n",
      "Fitted model with C: 1e-07 AUC: 0.5342647108210768\n",
      "Best C: 0.1 AUC: 0.5584394006614147\n"
     ]
    },
    {
     "data": {
      "application/javascript": [
       "\n",
       "            setTimeout(function() {\n",
       "                var nbb_cell_id = 12;\n",
       "                var nbb_unformatted_code = \"from sklearn.neural_network import MLPClassifier as MLP\\nfrom sklearn.metrics import roc_auc_score\\n\\n\\ndef fit_MLP(X, Y, Xv, Yv):\\n    best_c = None\\n    best_score = 0\\n    best_model = None\\n    for c in [1e-1, 1e-2, 1e-3, 1e-4, 1e-5, 1e-6, 1e-7]:\\n        m = MLP(\\n            hidden_layer_sizes=(256, 256, 256, 256),\\n            alpha=c,\\n            early_stopping=True,\\n            learning_rate=\\\"adaptive\\\",\\n            batch_size=128,\\n        )\\n        m.fit(X.values, Y)\\n        Pv = m.predict_proba(Xv.values)[:, 1]\\n        score = roc_auc_score(Yv, Pv)\\n        print(\\\"Fitted model with C:\\\", c, \\\"AUC:\\\", score)\\n        if score > best_score:\\n            best_score = score\\n            best_model = m\\n            best_c = c\\n\\n    print(\\\"Best C:\\\", best_c, \\\"AUC:\\\", best_score)\\n    return best_model\\n\\n\\noptimised_mlp = fit_MLP(X_train, y_train, X_val, y_val)\";\n",
       "                var nbb_formatted_code = \"from sklearn.neural_network import MLPClassifier as MLP\\nfrom sklearn.metrics import roc_auc_score\\n\\n\\ndef fit_MLP(X, Y, Xv, Yv):\\n    best_c = None\\n    best_score = 0\\n    best_model = None\\n    for c in [1e-1, 1e-2, 1e-3, 1e-4, 1e-5, 1e-6, 1e-7]:\\n        m = MLP(\\n            hidden_layer_sizes=(256, 256, 256, 256),\\n            alpha=c,\\n            early_stopping=True,\\n            learning_rate=\\\"adaptive\\\",\\n            batch_size=128,\\n        )\\n        m.fit(X.values, Y)\\n        Pv = m.predict_proba(Xv.values)[:, 1]\\n        score = roc_auc_score(Yv, Pv)\\n        print(\\\"Fitted model with C:\\\", c, \\\"AUC:\\\", score)\\n        if score > best_score:\\n            best_score = score\\n            best_model = m\\n            best_c = c\\n\\n    print(\\\"Best C:\\\", best_c, \\\"AUC:\\\", best_score)\\n    return best_model\\n\\n\\noptimised_mlp = fit_MLP(X_train, y_train, X_val, y_val)\";\n",
       "                var nbb_cells = Jupyter.notebook.get_cells();\n",
       "                for (var i = 0; i < nbb_cells.length; ++i) {\n",
       "                    if (nbb_cells[i].input_prompt_number == nbb_cell_id) {\n",
       "                        if (nbb_cells[i].get_text() == nbb_unformatted_code) {\n",
       "                             nbb_cells[i].set_text(nbb_formatted_code);\n",
       "                        }\n",
       "                        break;\n",
       "                    }\n",
       "                }\n",
       "            }, 500);\n",
       "            "
      ],
      "text/plain": [
       "<IPython.core.display.Javascript object>"
      ]
     },
     "metadata": {},
     "output_type": "display_data"
    }
   ],
   "source": [
    "from sklearn.neural_network import MLPClassifier as MLP\n",
    "from sklearn.metrics import roc_auc_score\n",
    "\n",
    "\n",
    "def fit_MLP(X, Y, Xv, Yv):\n",
    "    best_c = None\n",
    "    best_score = 0\n",
    "    best_model = None\n",
    "    for c in [1e-1, 1e-2, 1e-3, 1e-4, 1e-5, 1e-6, 1e-7]:\n",
    "        m = MLP(\n",
    "            hidden_layer_sizes=(256, 256, 256, 256),\n",
    "            alpha=c,\n",
    "            early_stopping=True,\n",
    "            learning_rate=\"adaptive\",\n",
    "            batch_size=128,\n",
    "        )\n",
    "        m.fit(X.values, Y)\n",
    "        Pv = m.predict_proba(Xv.values)[:, 1]\n",
    "        score = roc_auc_score(Yv, Pv)\n",
    "        print(\"Fitted model with C:\", c, \"AUC:\", score)\n",
    "        if score > best_score:\n",
    "            best_score = score\n",
    "            best_model = m\n",
    "            best_c = c\n",
    "\n",
    "    print(\"Best C:\", best_c, \"AUC:\", best_score)\n",
    "    return best_model\n",
    "\n",
    "\n",
    "optimised_mlp = fit_MLP(X_train, y_train, X_val, y_val)"
   ]
  },
  {
   "cell_type": "code",
   "execution_count": 13,
   "id": "desperate-scope",
   "metadata": {},
   "outputs": [
    {
     "name": "stdout",
     "output_type": "stream",
     "text": [
      "Sensitivity: 1.0\n",
      "Specificity: 0.0\n",
      "Positive Predictive Value: 0.9092409240924092\n",
      "False Positive Rate: 1.0\n",
      "False Negative Rate: 0.0\n",
      "Accuracy: 0.9092409240924092\n"
     ]
    },
    {
     "data": {
      "application/javascript": [
       "\n",
       "            setTimeout(function() {\n",
       "                var nbb_cell_id = 13;\n",
       "                var nbb_unformatted_code = \"y_pred = optimised_mlp.predict(X_test.values)\\nprint_metrics(y_test, y_pred)\";\n",
       "                var nbb_formatted_code = \"y_pred = optimised_mlp.predict(X_test.values)\\nprint_metrics(y_test, y_pred)\";\n",
       "                var nbb_cells = Jupyter.notebook.get_cells();\n",
       "                for (var i = 0; i < nbb_cells.length; ++i) {\n",
       "                    if (nbb_cells[i].input_prompt_number == nbb_cell_id) {\n",
       "                        if (nbb_cells[i].get_text() == nbb_unformatted_code) {\n",
       "                             nbb_cells[i].set_text(nbb_formatted_code);\n",
       "                        }\n",
       "                        break;\n",
       "                    }\n",
       "                }\n",
       "            }, 500);\n",
       "            "
      ],
      "text/plain": [
       "<IPython.core.display.Javascript object>"
      ]
     },
     "metadata": {},
     "output_type": "display_data"
    }
   ],
   "source": [
    "y_pred = optimised_mlp.predict(X_test.values)\n",
    "compute_threshold_metric(y_test, y_pred, 0.5)"
   ]
  },
  {
   "cell_type": "code",
   "execution_count": 14,
   "id": "resistant-dover",
   "metadata": {},
   "outputs": [
    {
     "name": "stderr",
     "output_type": "stream",
     "text": [
      "X has feature names, but MLPClassifier was fitted without feature names\n",
      "No artists with labels found to put in legend.  Note that artists whose label start with an underscore are ignored when legend() is called with no argument.\n"
     ]
    },
    {
     "data": {
      "image/png": "[encoded data removed]",
      "text/plain": [
       "<Figure size 432x288 with 1 Axes>"
      ]
     },
     "metadata": {
      "needs_background": "light"
     },
     "output_type": "display_data"
    },
    {
     "data": {
      "image/png": "[encoded data removed]",
      "text/plain": [
       "<Figure size 432x288 with 1 Axes>"
      ]
     },
     "metadata": {
      "needs_background": "light"
     },
     "output_type": "display_data"
    },
    {
     "data": {
      "application/javascript": [
       "\n",
       "            setTimeout(function() {\n",
       "                var nbb_cell_id = 14;\n",
       "                var nbb_unformatted_code = \"y_pred_prob = optimised_mlp.predict_proba(X_val)[:, 1]\\nfpr, tpr, thresholds = roc_curve(y_val, y_pred_prob, pos_label=1)\\nroc_auc = auc(fpr, tpr)\\nprecision, recall, thresholds = precision_recall_curve(y_val, y_pred_prob)\\navg_pr = average_precision_score(y_val, y_pred_prob)\\nplot_roc(fpr, tpr, roc_auc)\\nplot_pr(recall, precision, avg_pr)\";\n",
       "                var nbb_formatted_code = \"y_pred_prob = optimised_mlp.predict_proba(X_val)[:, 1]\\nfpr, tpr, thresholds = roc_curve(y_val, y_pred_prob, pos_label=1)\\nroc_auc = auc(fpr, tpr)\\nprecision, recall, thresholds = precision_recall_curve(y_val, y_pred_prob)\\navg_pr = average_precision_score(y_val, y_pred_prob)\\nplot_roc(fpr, tpr, roc_auc)\\nplot_pr(recall, precision, avg_pr)\";\n",
       "                var nbb_cells = Jupyter.notebook.get_cells();\n",
       "                for (var i = 0; i < nbb_cells.length; ++i) {\n",
       "                    if (nbb_cells[i].input_prompt_number == nbb_cell_id) {\n",
       "                        if (nbb_cells[i].get_text() == nbb_unformatted_code) {\n",
       "                             nbb_cells[i].set_text(nbb_formatted_code);\n",
       "                        }\n",
       "                        break;\n",
       "                    }\n",
       "                }\n",
       "            }, 500);\n",
       "            "
      ],
      "text/plain": [
       "<IPython.core.display.Javascript object>"
      ]
     },
     "metadata": {},
     "output_type": "display_data"
    }
   ],
   "source": [
    "y_pred_prob = optimised_mlp.predict_proba(X_val)[:, 1]\n",
    "fpr, tpr, thresholds = roc_curve(y_val, y_pred_prob, pos_label=1)\n",
    "roc_auc = auc(fpr, tpr)\n",
    "precision, recall, thresholds = precision_recall_curve(y_val, y_pred_prob)\n",
    "avg_pr = average_precision_score(y_val, y_pred_prob)\n",
    "plot_roc(fpr, tpr, roc_auc)\n",
    "plot_pr(recall, precision, avg_pr)"
   ]
  },
  {
   "cell_type": "code",
   "execution_count": 15,
   "id": "affecting-marriage",
   "metadata": {},
   "outputs": [
    {
     "name": "stderr",
     "output_type": "stream",
     "text": [
      "X has feature names, but MLPClassifier was fitted without feature names\n",
      "No artists with labels found to put in legend.  Note that artists whose label start with an underscore are ignored when legend() is called with no argument.\n"
     ]
    },
    {
     "data": {
      "image/png": "[encoded data removed]",
      "text/plain": [
       "<Figure size 432x288 with 1 Axes>"
      ]
     },
     "metadata": {
      "needs_background": "light"
     },
     "output_type": "display_data"
    },
    {
     "data": {
      "image/png": "[encoded data removed]",
      "text/plain": [
       "<Figure size 432x288 with 1 Axes>"
      ]
     },
     "metadata": {
      "needs_background": "light"
     },
     "output_type": "display_data"
    },
    {
     "data": {
      "application/javascript": [
       "\n",
       "            setTimeout(function() {\n",
       "                var nbb_cell_id = 15;\n",
       "                var nbb_unformatted_code = \"y_pred_prob = optimised_mlp.predict_proba(X_test)[:, 1]\\nfpr, tpr, thresholds = roc_curve(y_test, y_pred_prob, pos_label=1)\\nroc_auc = auc(fpr, tpr)\\nprecision, recall, thresholds = precision_recall_curve(y_test, y_pred_prob)\\navg_pr = average_precision_score(y_test, y_pred_prob)\\nplot_roc(fpr, tpr, roc_auc)\\nplot_pr(recall, precision, avg_pr)\";\n",
       "                var nbb_formatted_code = \"y_pred_prob = optimised_mlp.predict_proba(X_test)[:, 1]\\nfpr, tpr, thresholds = roc_curve(y_test, y_pred_prob, pos_label=1)\\nroc_auc = auc(fpr, tpr)\\nprecision, recall, thresholds = precision_recall_curve(y_test, y_pred_prob)\\navg_pr = average_precision_score(y_test, y_pred_prob)\\nplot_roc(fpr, tpr, roc_auc)\\nplot_pr(recall, precision, avg_pr)\";\n",
       "                var nbb_cells = Jupyter.notebook.get_cells();\n",
       "                for (var i = 0; i < nbb_cells.length; ++i) {\n",
       "                    if (nbb_cells[i].input_prompt_number == nbb_cell_id) {\n",
       "                        if (nbb_cells[i].get_text() == nbb_unformatted_code) {\n",
       "                             nbb_cells[i].set_text(nbb_formatted_code);\n",
       "                        }\n",
       "                        break;\n",
       "                    }\n",
       "                }\n",
       "            }, 500);\n",
       "            "
      ],
      "text/plain": [
       "<IPython.core.display.Javascript object>"
      ]
     },
     "metadata": {},
     "output_type": "display_data"
    }
   ],
   "source": [
    "y_pred_prob = optimised_mlp.predict_proba(X_test)[:, 1]\n",
    "fpr, tpr, thresholds = roc_curve(y_test, y_pred_prob, pos_label=1)\n",
    "roc_auc = auc(fpr, tpr)\n",
    "precision, recall, thresholds = precision_recall_curve(y_test, y_pred_prob)\n",
    "avg_pr = average_precision_score(y_test, y_pred_prob)\n",
    "plot_roc(fpr, tpr, roc_auc)\n",
    "plot_pr(recall, precision, avg_pr)"
   ]
  },
  {
   "cell_type": "markdown",
   "id": "iraqi-colleague",
   "metadata": {},
   "source": [
    "### Random Forest ###"
   ]
  },
  {
   "cell_type": "code",
   "execution_count": 16,
   "id": "unable-stationery",
   "metadata": {},
   "outputs": [
    {
     "name": "stdout",
     "output_type": "stream",
     "text": [
      "Fitting model with n: 5\n",
      "Fitting model with n: 10\n",
      "Fitting model with n: 50\n",
      "Fitting model with n: 100\n",
      "Fitting model with n: 500\n",
      "Best n: 500\n"
     ]
    },
    {
     "data": {
      "application/javascript": [
       "\n",
       "            setTimeout(function() {\n",
       "                var nbb_cell_id = 16;\n",
       "                var nbb_unformatted_code = \"from sklearn.ensemble import RandomForestClassifier as RF\\nfrom sklearn.metrics import roc_auc_score\\n\\n\\ndef fit_rf(X, Y, Xv, Yv):\\n    best_n = None\\n    best_score = 0\\n    best_model = None\\n    for n in [5, 10, 50, 100, 500]:\\n        m = RF(n_estimators=n, n_jobs=-1)\\n        print(\\\"Fitting model with n:\\\", n)\\n        m.fit(X, Y)\\n        Pv = m.predict_proba(Xv)[:, 1]\\n        score = roc_auc_score(Yv, Pv)\\n        if score > best_score:\\n            best_score = score\\n            best_model = m\\n            best_n = n\\n\\n    print(\\\"Best n:\\\", best_n)\\n    return best_model\\n\\n\\noptimised_rf = fit_rf(X_train, y_train, X_val, y_val)\";\n",
       "                var nbb_formatted_code = \"from sklearn.ensemble import RandomForestClassifier as RF\\nfrom sklearn.metrics import roc_auc_score\\n\\n\\ndef fit_rf(X, Y, Xv, Yv):\\n    best_n = None\\n    best_score = 0\\n    best_model = None\\n    for n in [5, 10, 50, 100, 500]:\\n        m = RF(n_estimators=n, n_jobs=-1)\\n        print(\\\"Fitting model with n:\\\", n)\\n        m.fit(X, Y)\\n        Pv = m.predict_proba(Xv)[:, 1]\\n        score = roc_auc_score(Yv, Pv)\\n        if score > best_score:\\n            best_score = score\\n            best_model = m\\n            best_n = n\\n\\n    print(\\\"Best n:\\\", best_n)\\n    return best_model\\n\\n\\noptimised_rf = fit_rf(X_train, y_train, X_val, y_val)\";\n",
       "                var nbb_cells = Jupyter.notebook.get_cells();\n",
       "                for (var i = 0; i < nbb_cells.length; ++i) {\n",
       "                    if (nbb_cells[i].input_prompt_number == nbb_cell_id) {\n",
       "                        if (nbb_cells[i].get_text() == nbb_unformatted_code) {\n",
       "                             nbb_cells[i].set_text(nbb_formatted_code);\n",
       "                        }\n",
       "                        break;\n",
       "                    }\n",
       "                }\n",
       "            }, 500);\n",
       "            "
      ],
      "text/plain": [
       "<IPython.core.display.Javascript object>"
      ]
     },
     "metadata": {},
     "output_type": "display_data"
    }
   ],
   "source": [
    "from sklearn.ensemble import RandomForestClassifier as RF\n",
    "from sklearn.metrics import roc_auc_score\n",
    "\n",
    "\n",
    "def fit_rf(X, Y, Xv, Yv):\n",
    "    best_n = None\n",
    "    best_score = 0\n",
    "    best_model = None\n",
    "    for n in [5, 10, 50, 100, 500]:\n",
    "        m = RF(n_estimators=n, n_jobs=-1)\n",
    "        print(\"Fitting model with n:\", n)\n",
    "        m.fit(X, Y)\n",
    "        Pv = m.predict_proba(Xv)[:, 1]\n",
    "        score = roc_auc_score(Yv, Pv)\n",
    "        if score > best_score:\n",
    "            best_score = score\n",
    "            best_model = m\n",
    "            best_n = n\n",
    "\n",
    "    print(\"Best n:\", best_n)\n",
    "    return best_model\n",
    "\n",
    "\n",
    "optimised_rf = fit_rf(X_train, y_train, X_val, y_val)"
   ]
  },
  {
   "cell_type": "code",
   "execution_count": 17,
   "id": "mature-projector",
   "metadata": {},
   "outputs": [
    {
     "name": "stdout",
     "output_type": "stream",
     "text": [
      "Sensitivity: 0.9990925589836661\n",
      "Specificity: 0.00909090909090909\n",
      "Positive Predictive Value: 0.9099173553719008\n",
      "False Positive Rate: 0.990909090909091\n",
      "False Negative Rate: 0.0009074410163339383\n",
      "Accuracy: 0.9092409240924092\n"
     ]
    },
    {
     "data": {
      "application/javascript": [
       "\n",
       "            setTimeout(function() {\n",
       "                var nbb_cell_id = 17;\n",
       "                var nbb_unformatted_code = \"y_pred = optimised_rf.predict(X_test)\\nprint_metrics(y_test, y_pred)\";\n",
       "                var nbb_formatted_code = \"y_pred = optimised_rf.predict(X_test)\\nprint_metrics(y_test, y_pred)\";\n",
       "                var nbb_cells = Jupyter.notebook.get_cells();\n",
       "                for (var i = 0; i < nbb_cells.length; ++i) {\n",
       "                    if (nbb_cells[i].input_prompt_number == nbb_cell_id) {\n",
       "                        if (nbb_cells[i].get_text() == nbb_unformatted_code) {\n",
       "                             nbb_cells[i].set_text(nbb_formatted_code);\n",
       "                        }\n",
       "                        break;\n",
       "                    }\n",
       "                }\n",
       "            }, 500);\n",
       "            "
      ],
      "text/plain": [
       "<IPython.core.display.Javascript object>"
      ]
     },
     "metadata": {},
     "output_type": "display_data"
    }
   ],
   "source": [
    "y_pred = optimised_rf.predict(X_test)\n",
    "print_metrics(y_test, y_pred)"
   ]
  },
  {
   "cell_type": "code",
   "execution_count": 18,
   "id": "numerical-width",
   "metadata": {},
   "outputs": [
    {
     "name": "stderr",
     "output_type": "stream",
     "text": [
      "No artists with labels found to put in legend.  Note that artists whose label start with an underscore are ignored when legend() is called with no argument.\n"
     ]
    },
    {
     "data": {
      "image/png": "[encoded data removed]",
      "text/plain": [
       "<Figure size 432x288 with 1 Axes>"
      ]
     },
     "metadata": {
      "needs_background": "light"
     },
     "output_type": "display_data"
    },
    {
     "data": {
      "image/png": "[encoded data removed]",
      "text/plain": [
       "<Figure size 432x288 with 1 Axes>"
      ]
     },
     "metadata": {
      "needs_background": "light"
     },
     "output_type": "display_data"
    },
    {
     "data": {
      "application/javascript": [
       "\n",
       "            setTimeout(function() {\n",
       "                var nbb_cell_id = 18;\n",
       "                var nbb_unformatted_code = \"y_pred_prob = optimised_rf.predict_proba(X_val)[:, 1]\\nfpr, tpr, thresholds = roc_curve(y_val, y_pred_prob, pos_label=1)\\nroc_auc = auc(fpr, tpr)\\nprecision, recall, thresholds = precision_recall_curve(y_val, y_pred_prob)\\navg_pr = average_precision_score(y_val, y_pred_prob)\\nplot_roc(fpr, tpr, roc_auc)\\nplot_pr(recall, precision, avg_pr)\";\n",
       "                var nbb_formatted_code = \"y_pred_prob = optimised_rf.predict_proba(X_val)[:, 1]\\nfpr, tpr, thresholds = roc_curve(y_val, y_pred_prob, pos_label=1)\\nroc_auc = auc(fpr, tpr)\\nprecision, recall, thresholds = precision_recall_curve(y_val, y_pred_prob)\\navg_pr = average_precision_score(y_val, y_pred_prob)\\nplot_roc(fpr, tpr, roc_auc)\\nplot_pr(recall, precision, avg_pr)\";\n",
       "                var nbb_cells = Jupyter.notebook.get_cells();\n",
       "                for (var i = 0; i < nbb_cells.length; ++i) {\n",
       "                    if (nbb_cells[i].input_prompt_number == nbb_cell_id) {\n",
       "                        if (nbb_cells[i].get_text() == nbb_unformatted_code) {\n",
       "                             nbb_cells[i].set_text(nbb_formatted_code);\n",
       "                        }\n",
       "                        break;\n",
       "                    }\n",
       "                }\n",
       "            }, 500);\n",
       "            "
      ],
      "text/plain": [
       "<IPython.core.display.Javascript object>"
      ]
     },
     "metadata": {},
     "output_type": "display_data"
    }
   ],
   "source": [
    "y_pred_prob = optimised_rf.predict_proba(X_val)[:, 1]\n",
    "fpr, tpr, thresholds = roc_curve(y_val, y_pred_prob, pos_label=1)\n",
    "roc_auc = auc(fpr, tpr)\n",
    "precision, recall, thresholds = precision_recall_curve(y_val, y_pred_prob)\n",
    "avg_pr = average_precision_score(y_val, y_pred_prob)\n",
    "plot_roc(fpr, tpr, roc_auc)\n",
    "plot_pr(recall, precision, avg_pr)"
   ]
  },
  {
   "cell_type": "code",
   "execution_count": 19,
   "id": "postal-approach",
   "metadata": {},
   "outputs": [
    {
     "name": "stderr",
     "output_type": "stream",
     "text": [
      "No artists with labels found to put in legend.  Note that artists whose label start with an underscore are ignored when legend() is called with no argument.\n"
     ]
    },
    {
     "data": {
      "image/png": "[encoded data removed]",
      "text/plain": [
       "<Figure size 432x288 with 1 Axes>"
      ]
     },
     "metadata": {
      "needs_background": "light"
     },
     "output_type": "display_data"
    },
    {
     "data": {
      "image/png": "[encoded data removed]",
      "text/plain": [
       "<Figure size 432x288 with 1 Axes>"
      ]
     },
     "metadata": {
      "needs_background": "light"
     },
     "output_type": "display_data"
    },
    {
     "data": {
      "application/javascript": [
       "\n",
       "            setTimeout(function() {\n",
       "                var nbb_cell_id = 19;\n",
       "                var nbb_unformatted_code = \"y_pred_prob = optimised_rf.predict_proba(X_test)[:, 1]\\nfpr, tpr, thresholds = roc_curve(y_test, y_pred_prob, pos_label=1)\\nroc_auc = auc(fpr, tpr)\\nprecision, recall, thresholds = precision_recall_curve(y_test, y_pred_prob)\\navg_pr = average_precision_score(y_test, y_pred_prob)\\nplot_roc(fpr, tpr, roc_auc)\\nplot_pr(recall, precision, avg_pr)\";\n",
       "                var nbb_formatted_code = \"y_pred_prob = optimised_rf.predict_proba(X_test)[:, 1]\\nfpr, tpr, thresholds = roc_curve(y_test, y_pred_prob, pos_label=1)\\nroc_auc = auc(fpr, tpr)\\nprecision, recall, thresholds = precision_recall_curve(y_test, y_pred_prob)\\navg_pr = average_precision_score(y_test, y_pred_prob)\\nplot_roc(fpr, tpr, roc_auc)\\nplot_pr(recall, precision, avg_pr)\";\n",
       "                var nbb_cells = Jupyter.notebook.get_cells();\n",
       "                for (var i = 0; i < nbb_cells.length; ++i) {\n",
       "                    if (nbb_cells[i].input_prompt_number == nbb_cell_id) {\n",
       "                        if (nbb_cells[i].get_text() == nbb_unformatted_code) {\n",
       "                             nbb_cells[i].set_text(nbb_formatted_code);\n",
       "                        }\n",
       "                        break;\n",
       "                    }\n",
       "                }\n",
       "            }, 500);\n",
       "            "
      ],
      "text/plain": [
       "<IPython.core.display.Javascript object>"
      ]
     },
     "metadata": {},
     "output_type": "display_data"
    }
   ],
   "source": [
    "y_pred_prob = optimised_rf.predict_proba(X_test)[:, 1]\n",
    "fpr, tpr, thresholds = roc_curve(y_test, y_pred_prob, pos_label=1)\n",
    "roc_auc = auc(fpr, tpr)\n",
    "precision, recall, thresholds = precision_recall_curve(y_test, y_pred_prob)\n",
    "avg_pr = average_precision_score(y_test, y_pred_prob)\n",
    "plot_roc(fpr, tpr, roc_auc)\n",
    "plot_pr(recall, precision, avg_pr)"
   ]
  },
  {
   "cell_type": "markdown",
   "id": "anonymous-cleaning",
   "metadata": {},
   "source": [
    "### Gradient Boosted Tree ###"
   ]
  },
  {
   "cell_type": "code",
   "execution_count": 20,
   "id": "noticed-carol",
   "metadata": {},
   "outputs": [
    {
     "data": {
      "application/javascript": [
       "\n",
       "            setTimeout(function() {\n",
       "                var nbb_cell_id = 20;\n",
       "                var nbb_unformatted_code = \"X = pd.concat([x, x_ind], axis=1)\\nfeat_remov = feat[feat > 9000].index\\nX = X.drop(feat_remov, axis=1)\\n\\nX_train = X.loc[X.index.isin(ids_precovid)]\\n# label_column specifies the index of the column containing the true label\\ny_train = np.where(X_train[\\\"length_of_stay_in_er\\\"] > 7, 1, 0)\\nX_train = X_train.drop(columns=[\\\"mortality_in_hospital\\\", \\\"length_of_stay_in_er\\\"])\\nX_train, X_val, y_train, y_val = train_test_split(X_train, y_train, train_size=0.67)\\nX_test = X.loc[X.index.isin(ids_covid)]\\ny_test = np.where(X_test[\\\"length_of_stay_in_er\\\"] > 7, 1, 0)\\nX_test = X_test.drop(columns=[\\\"mortality_in_hospital\\\", \\\"length_of_stay_in_er\\\"])\";\n",
       "                var nbb_formatted_code = \"X = pd.concat([x, x_ind], axis=1)\\nfeat_remov = feat[feat > 9000].index\\nX = X.drop(feat_remov, axis=1)\\n\\nX_train = X.loc[X.index.isin(ids_precovid)]\\n# label_column specifies the index of the column containing the true label\\ny_train = np.where(X_train[\\\"length_of_stay_in_er\\\"] > 7, 1, 0)\\nX_train = X_train.drop(columns=[\\\"mortality_in_hospital\\\", \\\"length_of_stay_in_er\\\"])\\nX_train, X_val, y_train, y_val = train_test_split(X_train, y_train, train_size=0.67)\\nX_test = X.loc[X.index.isin(ids_covid)]\\ny_test = np.where(X_test[\\\"length_of_stay_in_er\\\"] > 7, 1, 0)\\nX_test = X_test.drop(columns=[\\\"mortality_in_hospital\\\", \\\"length_of_stay_in_er\\\"])\";\n",
       "                var nbb_cells = Jupyter.notebook.get_cells();\n",
       "                for (var i = 0; i < nbb_cells.length; ++i) {\n",
       "                    if (nbb_cells[i].input_prompt_number == nbb_cell_id) {\n",
       "                        if (nbb_cells[i].get_text() == nbb_unformatted_code) {\n",
       "                             nbb_cells[i].set_text(nbb_formatted_code);\n",
       "                        }\n",
       "                        break;\n",
       "                    }\n",
       "                }\n",
       "            }, 500);\n",
       "            "
      ],
      "text/plain": [
       "<IPython.core.display.Javascript object>"
      ]
     },
     "metadata": {},
     "output_type": "display_data"
    }
   ],
   "source": [
    "X = pd.concat([x, x_ind], axis=1)\n",
    "feat_remov = feat[feat > 9000].index\n",
    "X = X.drop(feat_remov, axis=1)\n",
    "\n",
    "X_train = X.loc[X.index.isin(ids_precovid)]\n",
    "# label_column specifies the index of the column containing the true label\n",
    "y_train = np.where(X_train[\"length_of_stay_in_er\"] > 7, 1, 0)\n",
    "X_train = X_train.drop(columns=[\"mortality_in_hospital\", \"length_of_stay_in_er\"])\n",
    "X_train, X_val, y_train, y_val = train_test_split(X_train, y_train, train_size=0.67)\n",
    "X_test = X.loc[X.index.isin(ids_covid)]\n",
    "y_test = np.where(X_test[\"length_of_stay_in_er\"] > 7, 1, 0)\n",
    "X_test = X_test.drop(columns=[\"mortality_in_hospital\", \"length_of_stay_in_er\"])"
   ]
  },
  {
   "cell_type": "code",
   "execution_count": 21,
   "id": "electric-psychiatry",
   "metadata": {},
   "outputs": [
    {
     "name": "stdout",
     "output_type": "stream",
     "text": [
      "Best g: 5\n",
      "Best n: 11\n"
     ]
    },
    {
     "data": {
      "application/javascript": [
       "\n",
       "            setTimeout(function() {\n",
       "                var nbb_cell_id = 21;\n",
       "                var nbb_unformatted_code = \"from xgboost import XGBClassifier\\n\\n\\ndef fit_xgb(X, Y, Xv, Yv):\\n    best_n = None\\n    best_g = None\\n    best_score = 0\\n    best_model = None\\n    for n in [3, 5, 7, 9, 11]:\\n        for g in [0.5, 1, 1.5, 2, 5]:\\n            m = XGBClassifier(\\n                max_depth=n,\\n                gamma=g,\\n                objective=\\\"binary:logistic\\\",\\n                learning_rate=0.1,\\n                eval_metric=\\\"logloss\\\",\\n                min_child_weight=1,\\n                seed=42,\\n                use_label_encoder=False,\\n            )\\n            # print(\\\"Fitting model with n: {} and g: {}\\\".format(n, g))\\n            m.fit(X, Y)\\n            Pv = m.predict_proba(Xv)[:, 1]\\n            score = roc_auc_score(Yv, Pv)\\n            if score > best_score:\\n                best_score = score\\n                best_model = m\\n                best_n = n\\n                best_g = g\\n    print(\\\"Best g:\\\", best_g)\\n    print(\\\"Best n:\\\", best_n)\\n    return best_model\\n\\n\\noptimised_xgb = fit_xgb(X_train, y_train, X_val, y_val)\";\n",
       "                var nbb_formatted_code = \"from xgboost import XGBClassifier\\n\\n\\ndef fit_xgb(X, Y, Xv, Yv):\\n    best_n = None\\n    best_g = None\\n    best_score = 0\\n    best_model = None\\n    for n in [3, 5, 7, 9, 11]:\\n        for g in [0.5, 1, 1.5, 2, 5]:\\n            m = XGBClassifier(\\n                max_depth=n,\\n                gamma=g,\\n                objective=\\\"binary:logistic\\\",\\n                learning_rate=0.1,\\n                eval_metric=\\\"logloss\\\",\\n                min_child_weight=1,\\n                seed=42,\\n                use_label_encoder=False,\\n            )\\n            # print(\\\"Fitting model with n: {} and g: {}\\\".format(n, g))\\n            m.fit(X, Y)\\n            Pv = m.predict_proba(Xv)[:, 1]\\n            score = roc_auc_score(Yv, Pv)\\n            if score > best_score:\\n                best_score = score\\n                best_model = m\\n                best_n = n\\n                best_g = g\\n    print(\\\"Best g:\\\", best_g)\\n    print(\\\"Best n:\\\", best_n)\\n    return best_model\\n\\n\\noptimised_xgb = fit_xgb(X_train, y_train, X_val, y_val)\";\n",
       "                var nbb_cells = Jupyter.notebook.get_cells();\n",
       "                for (var i = 0; i < nbb_cells.length; ++i) {\n",
       "                    if (nbb_cells[i].input_prompt_number == nbb_cell_id) {\n",
       "                        if (nbb_cells[i].get_text() == nbb_unformatted_code) {\n",
       "                             nbb_cells[i].set_text(nbb_formatted_code);\n",
       "                        }\n",
       "                        break;\n",
       "                    }\n",
       "                }\n",
       "            }, 500);\n",
       "            "
      ],
      "text/plain": [
       "<IPython.core.display.Javascript object>"
      ]
     },
     "metadata": {},
     "output_type": "display_data"
    }
   ],
   "source": [
    "from xgboost import XGBClassifier\n",
    "\n",
    "\n",
    "def fit_xgb(X, Y, Xv, Yv):\n",
    "    best_n = None\n",
    "    best_g = None\n",
    "    best_score = 0\n",
    "    best_model = None\n",
    "    for n in [3, 5, 7, 9, 11]:\n",
    "        for g in [0.5, 1, 1.5, 2, 5]:\n",
    "            m = XGBClassifier(\n",
    "                max_depth=n,\n",
    "                gamma=g,\n",
    "                objective=\"binary:logistic\",\n",
    "                learning_rate=0.1,\n",
    "                eval_metric=\"logloss\",\n",
    "                min_child_weight=1,\n",
    "                seed=42,\n",
    "                use_label_encoder=False,\n",
    "            )\n",
    "            # print(\"Fitting model with n: {} and g: {}\".format(n, g))\n",
    "            m.fit(X, Y)\n",
    "            Pv = m.predict_proba(Xv)[:, 1]\n",
    "            score = roc_auc_score(Yv, Pv)\n",
    "            if score > best_score:\n",
    "                best_score = score\n",
    "                best_model = m\n",
    "                best_n = n\n",
    "                best_g = g\n",
    "    print(\"Best g:\", best_g)\n",
    "    print(\"Best n:\", best_n)\n",
    "    return best_model\n",
    "\n",
    "\n",
    "optimised_xgb = fit_xgb(X_train, y_train, X_val, y_val)"
   ]
  },
  {
   "cell_type": "code",
   "execution_count": 22,
   "id": "affiliated-badge",
   "metadata": {},
   "outputs": [
    {
     "name": "stderr",
     "output_type": "stream",
     "text": [
      "No artists with labels found to put in legend.  Note that artists whose label start with an underscore are ignored when legend() is called with no argument.\n"
     ]
    },
    {
     "data": {
      "image/png": "[encoded data removed]",
      "text/plain": [
       "<Figure size 432x288 with 1 Axes>"
      ]
     },
     "metadata": {
      "needs_background": "light"
     },
     "output_type": "display_data"
    },
    {
     "data": {
      "image/png": "[encoded data removed]",
      "text/plain": [
       "<Figure size 432x288 with 1 Axes>"
      ]
     },
     "metadata": {
      "needs_background": "light"
     },
     "output_type": "display_data"
    },
    {
     "data": {
      "application/javascript": [
       "\n",
       "            setTimeout(function() {\n",
       "                var nbb_cell_id = 22;\n",
       "                var nbb_unformatted_code = \"y_pred_prob = optimised_xgb.predict_proba(X_val)[:, 1]\\nfpr, tpr, thresholds = roc_curve(y_val, y_pred_prob, pos_label=1)\\nroc_auc = auc(fpr, tpr)\\nprecision, recall, thresholds = precision_recall_curve(y_val, y_pred_prob)\\navg_pr = average_precision_score(y_val, y_pred_prob)\\nplot_roc(fpr, tpr, roc_auc)\\nplot_pr(recall, precision, avg_pr)\";\n",
       "                var nbb_formatted_code = \"y_pred_prob = optimised_xgb.predict_proba(X_val)[:, 1]\\nfpr, tpr, thresholds = roc_curve(y_val, y_pred_prob, pos_label=1)\\nroc_auc = auc(fpr, tpr)\\nprecision, recall, thresholds = precision_recall_curve(y_val, y_pred_prob)\\navg_pr = average_precision_score(y_val, y_pred_prob)\\nplot_roc(fpr, tpr, roc_auc)\\nplot_pr(recall, precision, avg_pr)\";\n",
       "                var nbb_cells = Jupyter.notebook.get_cells();\n",
       "                for (var i = 0; i < nbb_cells.length; ++i) {\n",
       "                    if (nbb_cells[i].input_prompt_number == nbb_cell_id) {\n",
       "                        if (nbb_cells[i].get_text() == nbb_unformatted_code) {\n",
       "                             nbb_cells[i].set_text(nbb_formatted_code);\n",
       "                        }\n",
       "                        break;\n",
       "                    }\n",
       "                }\n",
       "            }, 500);\n",
       "            "
      ],
      "text/plain": [
       "<IPython.core.display.Javascript object>"
      ]
     },
     "metadata": {},
     "output_type": "display_data"
    }
   ],
   "source": [
    "y_pred_prob = optimised_xgb.predict_proba(X_val)[:, 1]\n",
    "fpr, tpr, thresholds = roc_curve(y_val, y_pred_prob, pos_label=1)\n",
    "roc_auc = auc(fpr, tpr)\n",
    "precision, recall, thresholds = precision_recall_curve(y_val, y_pred_prob)\n",
    "avg_pr = average_precision_score(y_val, y_pred_prob)\n",
    "plot_roc(fpr, tpr, roc_auc)\n",
    "plot_pr(recall, precision, avg_pr)"
   ]
  },
  {
   "cell_type": "code",
   "execution_count": 23,
   "id": "curious-windows",
   "metadata": {},
   "outputs": [
    {
     "name": "stderr",
     "output_type": "stream",
     "text": [
      "No artists with labels found to put in legend.  Note that artists whose label start with an underscore are ignored when legend() is called with no argument.\n"
     ]
    },
    {
     "data": {
      "image/png": "[encoded data removed]",
      "text/plain": [
       "<Figure size 432x288 with 1 Axes>"
      ]
     },
     "metadata": {
      "needs_background": "light"
     },
     "output_type": "display_data"
    },
    {
     "data": {
      "image/png": "[encoded data removed]",
      "text/plain": [
       "<Figure size 432x288 with 1 Axes>"
      ]
     },
     "metadata": {
      "needs_background": "light"
     },
     "output_type": "display_data"
    },
    {
     "data": {
      "application/javascript": [
       "\n",
       "            setTimeout(function() {\n",
       "                var nbb_cell_id = 23;\n",
       "                var nbb_unformatted_code = \"y_pred_prob = optimised_xgb.predict_proba(X_test)[:, 1]\\nfpr, tpr, thresholds = roc_curve(y_test, y_pred_prob, pos_label=1)\\nroc_auc = auc(fpr, tpr)\\nprecision, recall, thresholds = precision_recall_curve(y_test, y_pred_prob)\\navg_pr = average_precision_score(y_test, y_pred_prob)\\nplot_roc(fpr, tpr, roc_auc)\\nplot_pr(recall, precision, avg_pr)\";\n",
       "                var nbb_formatted_code = \"y_pred_prob = optimised_xgb.predict_proba(X_test)[:, 1]\\nfpr, tpr, thresholds = roc_curve(y_test, y_pred_prob, pos_label=1)\\nroc_auc = auc(fpr, tpr)\\nprecision, recall, thresholds = precision_recall_curve(y_test, y_pred_prob)\\navg_pr = average_precision_score(y_test, y_pred_prob)\\nplot_roc(fpr, tpr, roc_auc)\\nplot_pr(recall, precision, avg_pr)\";\n",
       "                var nbb_cells = Jupyter.notebook.get_cells();\n",
       "                for (var i = 0; i < nbb_cells.length; ++i) {\n",
       "                    if (nbb_cells[i].input_prompt_number == nbb_cell_id) {\n",
       "                        if (nbb_cells[i].get_text() == nbb_unformatted_code) {\n",
       "                             nbb_cells[i].set_text(nbb_formatted_code);\n",
       "                        }\n",
       "                        break;\n",
       "                    }\n",
       "                }\n",
       "            }, 500);\n",
       "            "
      ],
      "text/plain": [
       "<IPython.core.display.Javascript object>"
      ]
     },
     "metadata": {},
     "output_type": "display_data"
    }
   ],
   "source": [
    "y_pred_prob = optimised_xgb.predict_proba(X_test)[:, 1]\n",
    "fpr, tpr, thresholds = roc_curve(y_test, y_pred_prob, pos_label=1)\n",
    "roc_auc = auc(fpr, tpr)\n",
    "precision, recall, thresholds = precision_recall_curve(y_test, y_pred_prob)\n",
    "avg_pr = average_precision_score(y_test, y_pred_prob)\n",
    "plot_roc(fpr, tpr, roc_auc)\n",
    "plot_pr(recall, precision, avg_pr)"
   ]
  },
  {
   "cell_type": "markdown",
   "id": "extensive-insight",
   "metadata": {},
   "source": [
    "# Drift Tests #"
   ]
  },
  {
   "cell_type": "code",
   "execution_count": 26,
   "id": "covered-junior",
   "metadata": {},
   "outputs": [
    {
     "data": {
      "application/javascript": [
       "\n",
       "            setTimeout(function() {\n",
       "                var nbb_cell_id = 26;\n",
       "                var nbb_unformatted_code = \"path = \\\"/path/\\\"\\ndataset = \\\"gemini\\\"\\nsamples = [10, 20, 50, 100, 200, 500, 1000, 2000]\\n# Number of random runs to average results over.\\nrandom_runs = 5\\n# Significance level.\\nsign_level = 0.05\\n# Whether to calculate accuracy for malignancy quantification.\\ncalc_acc = True\\nna_cutoff = 4000\\ndr_techniques = [\\\"NoRed\\\", \\\"PCA\\\", \\\"BBSDs_FFNN\\\"]  # ,\\\"SRP\\\",\\\"kPCA\\\",\\\"Isomap\\\"]\\n# Statistical Tests\\nmd_tests = [\\\"MMD\\\", \\\"LSDD\\\"]\";\n",
       "                var nbb_formatted_code = \"path = \\\"/path/\\\"\\ndataset = \\\"gemini\\\"\\nsamples = [10, 20, 50, 100, 200, 500, 1000, 2000]\\n# Number of random runs to average results over.\\nrandom_runs = 5\\n# Significance level.\\nsign_level = 0.05\\n# Whether to calculate accuracy for malignancy quantification.\\ncalc_acc = True\\nna_cutoff = 4000\\ndr_techniques = [\\\"NoRed\\\", \\\"PCA\\\", \\\"BBSDs_FFNN\\\"]  # ,\\\"SRP\\\",\\\"kPCA\\\",\\\"Isomap\\\"]\\n# Statistical Tests\\nmd_tests = [\\\"MMD\\\", \\\"LSDD\\\"]\";\n",
       "                var nbb_cells = Jupyter.notebook.get_cells();\n",
       "                for (var i = 0; i < nbb_cells.length; ++i) {\n",
       "                    if (nbb_cells[i].input_prompt_number == nbb_cell_id) {\n",
       "                        if (nbb_cells[i].get_text() == nbb_unformatted_code) {\n",
       "                             nbb_cells[i].set_text(nbb_formatted_code);\n",
       "                        }\n",
       "                        break;\n",
       "                    }\n",
       "                }\n",
       "            }, 500);\n",
       "            "
      ],
      "text/plain": [
       "<IPython.core.display.Javascript object>"
      ]
     },
     "metadata": {},
     "output_type": "display_data"
    }
   ],
   "source": [
    "path = \"/path/\"\n",
    "dataset = \"gemini\"\n",
    "samples = [10, 20, 50, 100, 200, 500, 1000, 2000]\n",
    "# Number of random runs to average results over.\n",
    "random_runs = 5\n",
    "# Significance level.\n",
    "sign_level = 0.05\n",
    "# Whether to calculate accuracy for malignancy quantification.\n",
    "calc_acc = True\n",
    "na_cutoff = 4000\n",
    "dr_techniques = [\"NoRed\", \"PCA\", \"BBSDs_FFNN\"]  # ,\"SRP\",\"kPCA\",\"Isomap\"]\n",
    "# Statistical Tests\n",
    "md_tests = [\"MMD\", \"LSDD\"]"
   ]
  },
  {
   "cell_type": "code",
   "execution_count": 27,
   "id": "comparative-newman",
   "metadata": {},
   "outputs": [
    {
     "name": "stdout",
     "output_type": "stream",
     "text": [
      "Shift pre-covid\n"
     ]
    },
    {
     "name": "stderr",
     "output_type": "stream",
     "text": [
      "torch.range is deprecated and will be removed in a future release because its behavior is inconsistent with Python's range builtin. Instead, use torch.arange, which produces values in [start, end).\n",
      "2022-03-18 09:26:24,876 \u001b[1;37mINFO\u001b[0m cyclops.processors.base - Processing raw admin data...\n",
      "2022-03-18 09:26:24,879 \u001b[1;37mINFO\u001b[0m cyclops.processors.base - # samples: 10756, # encounters: 10756\n",
      "2022-03-18 09:26:24,882 \u001b[1;37mINFO\u001b[0m cyclops.processors.admin - # admin features: 2, # encounters: 10756\n",
      "2022-03-18 09:26:36,261 \u001b[1;37mINFO\u001b[0m cyclops.utils.profile - Finished executing function process in 11.384994 s\n"
     ]
    },
    {
     "name": "stdout",
     "output_type": "stream",
     "text": [
      "Random Run 0 : Sample 10\n",
      "No GPU detected, fall back on CPU.\n",
      "Shift p-vals:  0.3199999928474426\n",
      "Random Run 0 : Sample 20\n",
      "No GPU detected, fall back on CPU.\n",
      "Shift p-vals:  0.3499999940395355\n",
      "Random Run 0 : Sample 50\n",
      "No GPU detected, fall back on CPU.\n",
      "Shift p-vals:  0.9599999785423279\n",
      "Random Run 0 : Sample 100\n",
      "No GPU detected, fall back on CPU.\n",
      "Shift p-vals:  0.6200000047683716\n",
      "Random Run 0 : Sample 200\n",
      "No GPU detected, fall back on CPU.\n",
      "Shift p-vals:  0.5799999833106995\n",
      "Random Run 0 : Sample 500\n",
      "No GPU detected, fall back on CPU.\n",
      "Shift p-vals:  0.27000001072883606\n",
      "Random Run 0 : Sample 1000\n",
      "No GPU detected, fall back on CPU.\n",
      "Shift p-vals:  0.17000000178813934\n",
      "Random Run 0 : Sample 2000\n",
      "No GPU detected, fall back on CPU.\n",
      "Shift p-vals:  0.36000001430511475\n"
     ]
    },
    {
     "name": "stderr",
     "output_type": "stream",
     "text": [
      "2022-03-18 09:27:13,731 \u001b[1;37mINFO\u001b[0m cyclops.processors.base - Processing raw admin data...\n",
      "2022-03-18 09:27:13,743 \u001b[1;37mINFO\u001b[0m cyclops.processors.base - # samples: 10756, # encounters: 10756\n",
      "2022-03-18 09:27:13,746 \u001b[1;37mINFO\u001b[0m cyclops.processors.admin - # admin features: 2, # encounters: 10756\n",
      "2022-03-18 09:27:24,909 \u001b[1;37mINFO\u001b[0m cyclops.utils.profile - Finished executing function process in 11.177785 s\n"
     ]
    },
    {
     "name": "stdout",
     "output_type": "stream",
     "text": [
      "Random Run 1 : Sample 10\n",
      "No GPU detected, fall back on CPU.\n",
      "Shift p-vals:  0.9200000166893005\n",
      "Random Run 1 : Sample 20\n",
      "No GPU detected, fall back on CPU.\n",
      "Shift p-vals:  0.949999988079071\n",
      "Random Run 1 : Sample 50\n",
      "No GPU detected, fall back on CPU.\n",
      "Shift p-vals:  0.7799999713897705\n",
      "Random Run 1 : Sample 100\n",
      "No GPU detected, fall back on CPU.\n",
      "Shift p-vals:  0.4000000059604645\n",
      "Random Run 1 : Sample 200\n",
      "No GPU detected, fall back on CPU.\n",
      "Shift p-vals:  0.029999999329447746\n",
      "Random Run 1 : Sample 500\n",
      "No GPU detected, fall back on CPU.\n",
      "Shift p-vals:  0.5299999713897705\n",
      "Random Run 1 : Sample 1000\n",
      "No GPU detected, fall back on CPU.\n",
      "Shift p-vals:  0.25999999046325684\n",
      "Random Run 1 : Sample 2000\n",
      "No GPU detected, fall back on CPU.\n",
      "Shift p-vals:  0.3199999928474426\n"
     ]
    },
    {
     "name": "stderr",
     "output_type": "stream",
     "text": [
      "2022-03-18 09:28:01,919 \u001b[1;37mINFO\u001b[0m cyclops.processors.base - Processing raw admin data...\n",
      "2022-03-18 09:28:01,922 \u001b[1;37mINFO\u001b[0m cyclops.processors.base - # samples: 10756, # encounters: 10756\n",
      "2022-03-18 09:28:01,925 \u001b[1;37mINFO\u001b[0m cyclops.processors.admin - # admin features: 2, # encounters: 10756\n",
      "2022-03-18 09:28:13,044 \u001b[1;37mINFO\u001b[0m cyclops.utils.profile - Finished executing function process in 11.124924 s\n"
     ]
    },
    {
     "name": "stdout",
     "output_type": "stream",
     "text": [
      "Random Run 2 : Sample 10\n",
      "No GPU detected, fall back on CPU.\n",
      "Shift p-vals:  0.1899999976158142\n",
      "Random Run 2 : Sample 20\n",
      "No GPU detected, fall back on CPU.\n",
      "Shift p-vals:  0.28999999165534973\n",
      "Random Run 2 : Sample 50\n",
      "No GPU detected, fall back on CPU.\n",
      "Shift p-vals:  0.09000000357627869\n",
      "Random Run 2 : Sample 100\n",
      "No GPU detected, fall back on CPU.\n",
      "Shift p-vals:  0.14000000059604645\n",
      "Random Run 2 : Sample 200\n",
      "No GPU detected, fall back on CPU.\n",
      "Shift p-vals:  0.18000000715255737\n",
      "Random Run 2 : Sample 500\n",
      "No GPU detected, fall back on CPU.\n",
      "Shift p-vals:  0.7799999713897705\n",
      "Random Run 2 : Sample 1000\n",
      "No GPU detected, fall back on CPU.\n",
      "Shift p-vals:  0.1599999964237213\n",
      "Random Run 2 : Sample 2000\n",
      "No GPU detected, fall back on CPU.\n",
      "Shift p-vals:  0.33000001311302185\n"
     ]
    },
    {
     "name": "stderr",
     "output_type": "stream",
     "text": [
      "2022-03-18 09:28:49,348 \u001b[1;37mINFO\u001b[0m cyclops.processors.base - Processing raw admin data...\n",
      "2022-03-18 09:28:49,354 \u001b[1;37mINFO\u001b[0m cyclops.processors.base - # samples: 10756, # encounters: 10756\n",
      "2022-03-18 09:28:49,357 \u001b[1;37mINFO\u001b[0m cyclops.processors.admin - # admin features: 2, # encounters: 10756\n",
      "2022-03-18 09:29:00,589 \u001b[1;37mINFO\u001b[0m cyclops.utils.profile - Finished executing function process in 11.241354 s\n"
     ]
    },
    {
     "name": "stdout",
     "output_type": "stream",
     "text": [
      "Random Run 3 : Sample 10\n",
      "No GPU detected, fall back on CPU.\n",
      "Shift p-vals:  0.75\n",
      "Random Run 3 : Sample 20\n",
      "No GPU detected, fall back on CPU.\n",
      "Shift p-vals:  0.6800000071525574\n",
      "Random Run 3 : Sample 50\n",
      "No GPU detected, fall back on CPU.\n",
      "Shift p-vals:  0.7200000286102295\n",
      "Random Run 3 : Sample 100\n",
      "No GPU detected, fall back on CPU.\n",
      "Shift p-vals:  0.6100000143051147\n",
      "Random Run 3 : Sample 200\n",
      "No GPU detected, fall back on CPU.\n",
      "Shift p-vals:  0.03999999910593033\n",
      "Random Run 3 : Sample 500\n",
      "No GPU detected, fall back on CPU.\n",
      "Shift p-vals:  0.3799999952316284\n",
      "Random Run 3 : Sample 1000\n",
      "No GPU detected, fall back on CPU.\n",
      "Shift p-vals:  0.10999999940395355\n",
      "Random Run 3 : Sample 2000\n",
      "No GPU detected, fall back on CPU.\n",
      "Shift p-vals:  0.10000000149011612\n"
     ]
    },
    {
     "name": "stderr",
     "output_type": "stream",
     "text": [
      "2022-03-18 09:29:37,055 \u001b[1;37mINFO\u001b[0m cyclops.processors.base - Processing raw admin data...\n",
      "2022-03-18 09:29:37,073 \u001b[1;37mINFO\u001b[0m cyclops.processors.base - # samples: 10756, # encounters: 10756\n",
      "2022-03-18 09:29:37,076 \u001b[1;37mINFO\u001b[0m cyclops.processors.admin - # admin features: 2, # encounters: 10756\n",
      "2022-03-18 09:29:48,633 \u001b[1;37mINFO\u001b[0m cyclops.utils.profile - Finished executing function process in 11.577936 s\n"
     ]
    },
    {
     "name": "stdout",
     "output_type": "stream",
     "text": [
      "Random Run 4 : Sample 10\n",
      "No GPU detected, fall back on CPU.\n",
      "Shift p-vals:  0.75\n",
      "Random Run 4 : Sample 20\n",
      "No GPU detected, fall back on CPU.\n",
      "Shift p-vals:  0.7300000190734863\n",
      "Random Run 4 : Sample 50\n",
      "No GPU detected, fall back on CPU.\n",
      "Shift p-vals:  0.009999999776482582\n",
      "Random Run 4 : Sample 100\n",
      "No GPU detected, fall back on CPU.\n",
      "Shift p-vals:  0.07999999821186066\n",
      "Random Run 4 : Sample 200\n",
      "No GPU detected, fall back on CPU.\n",
      "Shift p-vals:  0.009999999776482582\n",
      "Random Run 4 : Sample 500\n",
      "No GPU detected, fall back on CPU.\n",
      "Shift p-vals:  0.07999999821186066\n",
      "Random Run 4 : Sample 1000\n",
      "No GPU detected, fall back on CPU.\n",
      "Shift p-vals:  0.25\n",
      "Random Run 4 : Sample 2000\n",
      "No GPU detected, fall back on CPU.\n"
     ]
    },
    {
     "name": "stderr",
     "output_type": "stream",
     "text": [
      "torch.range is deprecated and will be removed in a future release because its behavior is inconsistent with Python's range builtin. Instead, use torch.arange, which produces values in [start, end).\n",
      "2022-03-18 09:30:19,589 \u001b[1;37mINFO\u001b[0m cyclops.processors.base - Processing raw admin data...\n",
      "2022-03-18 09:30:19,593 \u001b[1;37mINFO\u001b[0m cyclops.processors.base - # samples: 10756, # encounters: 10756\n"
     ]
    },
    {
     "name": "stdout",
     "output_type": "stream",
     "text": [
      "Shift p-vals:  0.5699999928474426\n",
      "Shift pre-covid\n"
     ]
    },
    {
     "name": "stderr",
     "output_type": "stream",
     "text": [
      "2022-03-18 09:30:19,599 \u001b[1;37mINFO\u001b[0m cyclops.processors.admin - # admin features: 2, # encounters: 10756\n",
      "2022-03-18 09:30:31,939 \u001b[1;37mINFO\u001b[0m cyclops.utils.profile - Finished executing function process in 12.349803 s\n"
     ]
    },
    {
     "name": "stdout",
     "output_type": "stream",
     "text": [
      "Random Run 0 : Sample 10\n",
      "No GPU detected, fall back on CPU.\n",
      "Shift p-vals:  0.019999999552965164\n",
      "Random Run 0 : Sample 20\n",
      "No GPU detected, fall back on CPU.\n",
      "Shift p-vals:  0.0\n",
      "Random Run 0 : Sample 50\n",
      "No GPU detected, fall back on CPU.\n",
      "Shift p-vals:  0.4000000059604645\n",
      "Random Run 0 : Sample 100\n",
      "No GPU detected, fall back on CPU.\n",
      "Shift p-vals:  0.05999999865889549\n",
      "Random Run 0 : Sample 200\n",
      "No GPU detected, fall back on CPU.\n",
      "Shift p-vals:  0.3400000035762787\n",
      "Random Run 0 : Sample 500\n",
      "No GPU detected, fall back on CPU.\n",
      "Shift p-vals:  0.6700000166893005\n",
      "Random Run 0 : Sample 1000\n",
      "No GPU detected, fall back on CPU.\n",
      "Shift p-vals:  0.9900000095367432\n",
      "Random Run 0 : Sample 2000\n",
      "No GPU detected, fall back on CPU.\n"
     ]
    },
    {
     "name": "stderr",
     "output_type": "stream",
     "text": [
      "2022-03-18 09:30:33,883 \u001b[1;37mINFO\u001b[0m cyclops.processors.base - Processing raw admin data...\n",
      "2022-03-18 09:30:33,887 \u001b[1;37mINFO\u001b[0m cyclops.processors.base - # samples: 10756, # encounters: 10756\n",
      "2022-03-18 09:30:33,890 \u001b[1;37mINFO\u001b[0m cyclops.processors.admin - # admin features: 2, # encounters: 10756\n"
     ]
    },
    {
     "name": "stdout",
     "output_type": "stream",
     "text": [
      "Shift p-vals:  0.8600000143051147\n"
     ]
    },
    {
     "name": "stderr",
     "output_type": "stream",
     "text": [
      "2022-03-18 09:30:45,808 \u001b[1;37mINFO\u001b[0m cyclops.utils.profile - Finished executing function process in 11.925184 s\n"
     ]
    },
    {
     "name": "stdout",
     "output_type": "stream",
     "text": [
      "Random Run 1 : Sample 10\n",
      "No GPU detected, fall back on CPU.\n",
      "Shift p-vals:  0.0\n",
      "Random Run 1 : Sample 20\n",
      "No GPU detected, fall back on CPU.\n",
      "Shift p-vals:  0.0\n",
      "Random Run 1 : Sample 50\n",
      "No GPU detected, fall back on CPU.\n",
      "Shift p-vals:  0.029999999329447746\n",
      "Random Run 1 : Sample 100\n",
      "No GPU detected, fall back on CPU.\n",
      "Shift p-vals:  0.6200000047683716\n",
      "Random Run 1 : Sample 200\n",
      "No GPU detected, fall back on CPU.\n",
      "Shift p-vals:  0.07999999821186066\n",
      "Random Run 1 : Sample 500\n",
      "No GPU detected, fall back on CPU.\n",
      "Shift p-vals:  0.2199999988079071\n",
      "Random Run 1 : Sample 1000\n",
      "No GPU detected, fall back on CPU.\n",
      "Shift p-vals:  0.6899999976158142\n",
      "Random Run 1 : Sample 2000\n",
      "No GPU detected, fall back on CPU.\n"
     ]
    },
    {
     "name": "stderr",
     "output_type": "stream",
     "text": [
      "2022-03-18 09:30:47,738 \u001b[1;37mINFO\u001b[0m cyclops.processors.base - Processing raw admin data...\n",
      "2022-03-18 09:30:47,742 \u001b[1;37mINFO\u001b[0m cyclops.processors.base - # samples: 10756, # encounters: 10756\n",
      "2022-03-18 09:30:47,745 \u001b[1;37mINFO\u001b[0m cyclops.processors.admin - # admin features: 2, # encounters: 10756\n"
     ]
    },
    {
     "name": "stdout",
     "output_type": "stream",
     "text": [
      "Shift p-vals:  0.8600000143051147\n"
     ]
    },
    {
     "name": "stderr",
     "output_type": "stream",
     "text": [
      "2022-03-18 09:30:59,659 \u001b[1;37mINFO\u001b[0m cyclops.utils.profile - Finished executing function process in 11.920287 s\n"
     ]
    },
    {
     "name": "stdout",
     "output_type": "stream",
     "text": [
      "Random Run 2 : Sample 10\n",
      "No GPU detected, fall back on CPU.\n",
      "Shift p-vals:  0.10000000149011612\n",
      "Random Run 2 : Sample 20\n",
      "No GPU detected, fall back on CPU.\n",
      "Shift p-vals:  0.1599999964237213\n",
      "Random Run 2 : Sample 50\n",
      "No GPU detected, fall back on CPU.\n",
      "Shift p-vals:  0.6899999976158142\n",
      "Random Run 2 : Sample 100\n",
      "No GPU detected, fall back on CPU.\n",
      "Shift p-vals:  0.03999999910593033\n",
      "Random Run 2 : Sample 200\n",
      "No GPU detected, fall back on CPU.\n",
      "Shift p-vals:  0.10000000149011612\n",
      "Random Run 2 : Sample 500\n",
      "No GPU detected, fall back on CPU.\n",
      "Shift p-vals:  0.14000000059604645\n",
      "Random Run 2 : Sample 1000\n",
      "No GPU detected, fall back on CPU.\n",
      "Shift p-vals:  0.5400000214576721\n",
      "Random Run 2 : Sample 2000\n",
      "No GPU detected, fall back on CPU.\n"
     ]
    },
    {
     "name": "stderr",
     "output_type": "stream",
     "text": [
      "2022-03-18 09:31:01,709 \u001b[1;37mINFO\u001b[0m cyclops.processors.base - Processing raw admin data...\n",
      "2022-03-18 09:31:01,713 \u001b[1;37mINFO\u001b[0m cyclops.processors.base - # samples: 10756, # encounters: 10756\n",
      "2022-03-18 09:31:01,717 \u001b[1;37mINFO\u001b[0m cyclops.processors.admin - # admin features: 2, # encounters: 10756\n"
     ]
    },
    {
     "name": "stdout",
     "output_type": "stream",
     "text": [
      "Shift p-vals:  0.17000000178813934\n"
     ]
    },
    {
     "name": "stderr",
     "output_type": "stream",
     "text": [
      "2022-03-18 09:31:14,050 \u001b[1;37mINFO\u001b[0m cyclops.utils.profile - Finished executing function process in 12.341344 s\n"
     ]
    },
    {
     "name": "stdout",
     "output_type": "stream",
     "text": [
      "Random Run 3 : Sample 10\n",
      "No GPU detected, fall back on CPU.\n",
      "Shift p-vals:  0.4399999976158142\n",
      "Random Run 3 : Sample 20\n",
      "No GPU detected, fall back on CPU.\n",
      "Shift p-vals:  0.029999999329447746\n",
      "Random Run 3 : Sample 50\n",
      "No GPU detected, fall back on CPU.\n",
      "Shift p-vals:  0.3499999940395355\n",
      "Random Run 3 : Sample 100\n",
      "No GPU detected, fall back on CPU.\n",
      "Shift p-vals:  0.23000000417232513\n",
      "Random Run 3 : Sample 200\n",
      "No GPU detected, fall back on CPU.\n",
      "Shift p-vals:  0.4399999976158142\n",
      "Random Run 3 : Sample 500\n",
      "No GPU detected, fall back on CPU.\n",
      "Shift p-vals:  0.2199999988079071\n",
      "Random Run 3 : Sample 1000\n",
      "No GPU detected, fall back on CPU.\n",
      "Shift p-vals:  0.8999999761581421\n",
      "Random Run 3 : Sample 2000\n",
      "No GPU detected, fall back on CPU.\n"
     ]
    },
    {
     "name": "stderr",
     "output_type": "stream",
     "text": [
      "2022-03-18 09:31:16,028 \u001b[1;37mINFO\u001b[0m cyclops.processors.base - Processing raw admin data...\n",
      "2022-03-18 09:31:16,032 \u001b[1;37mINFO\u001b[0m cyclops.processors.base - # samples: 10756, # encounters: 10756\n",
      "2022-03-18 09:31:16,035 \u001b[1;37mINFO\u001b[0m cyclops.processors.admin - # admin features: 2, # encounters: 10756\n"
     ]
    },
    {
     "name": "stdout",
     "output_type": "stream",
     "text": [
      "Shift p-vals:  0.9700000286102295\n"
     ]
    },
    {
     "name": "stderr",
     "output_type": "stream",
     "text": [
      "2022-03-18 09:31:25,234 \u001b[1;37mINFO\u001b[0m cyclops.utils.profile - Finished executing function process in 9.206662 s\n"
     ]
    },
    {
     "name": "stdout",
     "output_type": "stream",
     "text": [
      "Random Run 4 : Sample 10\n",
      "No GPU detected, fall back on CPU.\n",
      "Shift p-vals:  0.019999999552965164\n",
      "Random Run 4 : Sample 20\n",
      "No GPU detected, fall back on CPU.\n",
      "Shift p-vals:  0.0\n",
      "Random Run 4 : Sample 50\n",
      "No GPU detected, fall back on CPU.\n",
      "Shift p-vals:  0.800000011920929\n",
      "Random Run 4 : Sample 100\n",
      "No GPU detected, fall back on CPU.\n",
      "Shift p-vals:  0.15000000596046448\n",
      "Random Run 4 : Sample 200\n",
      "No GPU detected, fall back on CPU.\n",
      "Shift p-vals:  0.47999998927116394\n",
      "Random Run 4 : Sample 500\n",
      "No GPU detected, fall back on CPU.\n",
      "Shift p-vals:  0.5\n",
      "Random Run 4 : Sample 1000\n",
      "No GPU detected, fall back on CPU.\n",
      "Shift p-vals:  0.800000011920929\n",
      "Random Run 4 : Sample 2000\n",
      "No GPU detected, fall back on CPU.\n"
     ]
    },
    {
     "name": "stderr",
     "output_type": "stream",
     "text": [
      "torch.range is deprecated and will be removed in a future release because its behavior is inconsistent with Python's range builtin. Instead, use torch.arange, which produces values in [start, end).\n",
      "2022-03-18 09:31:26,255 \u001b[1;37mINFO\u001b[0m cyclops.processors.base - Processing raw admin data...\n",
      "2022-03-18 09:31:26,259 \u001b[1;37mINFO\u001b[0m cyclops.processors.base - # samples: 10756, # encounters: 10756\n",
      "2022-03-18 09:31:26,262 \u001b[1;37mINFO\u001b[0m cyclops.processors.admin - # admin features: 2, # encounters: 10756\n"
     ]
    },
    {
     "name": "stdout",
     "output_type": "stream",
     "text": [
      "Shift p-vals:  0.9800000190734863\n",
      "Shift pre-covid\n"
     ]
    },
    {
     "name": "stderr",
     "output_type": "stream",
     "text": [
      "2022-03-18 09:31:31,797 \u001b[1;37mINFO\u001b[0m cyclops.utils.profile - Finished executing function process in 5.541952 s\n"
     ]
    },
    {
     "name": "stdout",
     "output_type": "stream",
     "text": [
      "Random Run 0 : Sample 10\n",
      "No GPU detected, fall back on CPU.\n",
      "Shift p-vals:  0.41999998688697815\n",
      "Random Run 0 : Sample 20\n",
      "No GPU detected, fall back on CPU.\n",
      "Shift p-vals:  0.23999999463558197\n",
      "Random Run 0 : Sample 50\n",
      "No GPU detected, fall back on CPU.\n",
      "Shift p-vals:  0.9399999976158142\n",
      "Random Run 0 : Sample 100\n",
      "No GPU detected, fall back on CPU.\n",
      "Shift p-vals:  0.6499999761581421\n",
      "Random Run 0 : Sample 200\n",
      "No GPU detected, fall back on CPU.\n",
      "Shift p-vals:  0.5699999928474426\n",
      "Random Run 0 : Sample 500\n",
      "No GPU detected, fall back on CPU.\n",
      "Shift p-vals:  0.20000000298023224\n",
      "Random Run 0 : Sample 1000\n",
      "No GPU detected, fall back on CPU.\n",
      "Shift p-vals:  0.10999999940395355\n",
      "Random Run 0 : Sample 2000\n",
      "No GPU detected, fall back on CPU.\n"
     ]
    },
    {
     "name": "stderr",
     "output_type": "stream",
     "text": [
      "2022-03-18 09:31:53,864 \u001b[1;37mINFO\u001b[0m cyclops.processors.base - Processing raw admin data...\n",
      "2022-03-18 09:31:53,868 \u001b[1;37mINFO\u001b[0m cyclops.processors.base - # samples: 10756, # encounters: 10756\n",
      "2022-03-18 09:31:53,871 \u001b[1;37mINFO\u001b[0m cyclops.processors.admin - # admin features: 2, # encounters: 10756\n"
     ]
    },
    {
     "name": "stdout",
     "output_type": "stream",
     "text": [
      "Shift p-vals:  0.1899999976158142\n"
     ]
    },
    {
     "name": "stderr",
     "output_type": "stream",
     "text": [
      "2022-03-18 09:32:00,232 \u001b[1;37mINFO\u001b[0m cyclops.utils.profile - Finished executing function process in 6.368167 s\n"
     ]
    },
    {
     "name": "stdout",
     "output_type": "stream",
     "text": [
      "Random Run 1 : Sample 10\n",
      "No GPU detected, fall back on CPU.\n",
      "Shift p-vals:  0.8299999833106995\n",
      "Random Run 1 : Sample 20\n",
      "No GPU detected, fall back on CPU.\n",
      "Shift p-vals:  0.8899999856948853\n",
      "Random Run 1 : Sample 50\n",
      "No GPU detected, fall back on CPU.\n",
      "Shift p-vals:  0.6200000047683716\n",
      "Random Run 1 : Sample 100\n",
      "No GPU detected, fall back on CPU.\n",
      "Shift p-vals:  0.4000000059604645\n",
      "Random Run 1 : Sample 200\n",
      "No GPU detected, fall back on CPU.\n",
      "Shift p-vals:  0.0\n",
      "Random Run 1 : Sample 500\n",
      "No GPU detected, fall back on CPU.\n",
      "Shift p-vals:  0.5299999713897705\n",
      "Random Run 1 : Sample 1000\n",
      "No GPU detected, fall back on CPU.\n",
      "Shift p-vals:  0.23000000417232513\n",
      "Random Run 1 : Sample 2000\n",
      "No GPU detected, fall back on CPU.\n"
     ]
    },
    {
     "name": "stderr",
     "output_type": "stream",
     "text": [
      "2022-03-18 09:32:18,822 \u001b[1;37mINFO\u001b[0m cyclops.processors.base - Processing raw admin data...\n",
      "2022-03-18 09:32:18,826 \u001b[1;37mINFO\u001b[0m cyclops.processors.base - # samples: 10756, # encounters: 10756\n",
      "2022-03-18 09:32:18,829 \u001b[1;37mINFO\u001b[0m cyclops.processors.admin - # admin features: 2, # encounters: 10756\n"
     ]
    },
    {
     "name": "stdout",
     "output_type": "stream",
     "text": [
      "Shift p-vals:  0.3700000047683716\n"
     ]
    },
    {
     "name": "stderr",
     "output_type": "stream",
     "text": [
      "2022-03-18 09:32:24,701 \u001b[1;37mINFO\u001b[0m cyclops.utils.profile - Finished executing function process in 5.879508 s\n"
     ]
    },
    {
     "name": "stdout",
     "output_type": "stream",
     "text": [
      "Random Run 2 : Sample 10\n",
      "No GPU detected, fall back on CPU.\n",
      "Shift p-vals:  0.12999999523162842\n",
      "Random Run 2 : Sample 20\n",
      "No GPU detected, fall back on CPU.\n",
      "Shift p-vals:  0.25\n",
      "Random Run 2 : Sample 50\n",
      "No GPU detected, fall back on CPU.\n",
      "Shift p-vals:  0.10999999940395355\n",
      "Random Run 2 : Sample 100\n",
      "No GPU detected, fall back on CPU.\n",
      "Shift p-vals:  0.15000000596046448\n",
      "Random Run 2 : Sample 200\n",
      "No GPU detected, fall back on CPU.\n",
      "Shift p-vals:  0.10999999940395355\n",
      "Random Run 2 : Sample 500\n",
      "No GPU detected, fall back on CPU.\n",
      "Shift p-vals:  0.7099999785423279\n",
      "Random Run 2 : Sample 1000\n",
      "No GPU detected, fall back on CPU.\n",
      "Shift p-vals:  0.10999999940395355\n",
      "Random Run 2 : Sample 2000\n",
      "No GPU detected, fall back on CPU.\n"
     ]
    },
    {
     "name": "stderr",
     "output_type": "stream",
     "text": [
      "2022-03-18 09:32:40,584 \u001b[1;37mINFO\u001b[0m cyclops.processors.base - Processing raw admin data...\n",
      "2022-03-18 09:32:40,588 \u001b[1;37mINFO\u001b[0m cyclops.processors.base - # samples: 10756, # encounters: 10756\n",
      "2022-03-18 09:32:40,591 \u001b[1;37mINFO\u001b[0m cyclops.processors.admin - # admin features: 2, # encounters: 10756\n"
     ]
    },
    {
     "name": "stdout",
     "output_type": "stream",
     "text": [
      "Shift p-vals:  0.2800000011920929\n"
     ]
    },
    {
     "name": "stderr",
     "output_type": "stream",
     "text": [
      "2022-03-18 09:32:46,164 \u001b[1;37mINFO\u001b[0m cyclops.utils.profile - Finished executing function process in 5.580431 s\n"
     ]
    },
    {
     "name": "stdout",
     "output_type": "stream",
     "text": [
      "Random Run 3 : Sample 10\n",
      "No GPU detected, fall back on CPU.\n",
      "Shift p-vals:  0.7599999904632568\n",
      "Random Run 3 : Sample 20\n",
      "No GPU detected, fall back on CPU.\n",
      "Shift p-vals:  0.7400000095367432\n",
      "Random Run 3 : Sample 50\n",
      "No GPU detected, fall back on CPU.\n",
      "Shift p-vals:  0.6899999976158142\n",
      "Random Run 3 : Sample 100\n",
      "No GPU detected, fall back on CPU.\n",
      "Shift p-vals:  0.6200000047683716\n",
      "Random Run 3 : Sample 200\n",
      "No GPU detected, fall back on CPU.\n",
      "Shift p-vals:  0.009999999776482582\n",
      "Random Run 3 : Sample 500\n",
      "No GPU detected, fall back on CPU.\n",
      "Shift p-vals:  0.25\n",
      "Random Run 3 : Sample 1000\n",
      "No GPU detected, fall back on CPU.\n",
      "Shift p-vals:  0.019999999552965164\n",
      "Random Run 3 : Sample 2000\n",
      "No GPU detected, fall back on CPU.\n"
     ]
    },
    {
     "name": "stderr",
     "output_type": "stream",
     "text": [
      "2022-03-18 09:33:07,694 \u001b[1;37mINFO\u001b[0m cyclops.processors.base - Processing raw admin data...\n",
      "2022-03-18 09:33:07,698 \u001b[1;37mINFO\u001b[0m cyclops.processors.base - # samples: 10756, # encounters: 10756\n",
      "2022-03-18 09:33:07,702 \u001b[1;37mINFO\u001b[0m cyclops.processors.admin - # admin features: 2, # encounters: 10756\n"
     ]
    },
    {
     "name": "stdout",
     "output_type": "stream",
     "text": [
      "Shift p-vals:  0.07999999821186066\n"
     ]
    },
    {
     "name": "stderr",
     "output_type": "stream",
     "text": [
      "2022-03-18 09:33:13,609 \u001b[1;37mINFO\u001b[0m cyclops.utils.profile - Finished executing function process in 5.914892 s\n"
     ]
    },
    {
     "name": "stdout",
     "output_type": "stream",
     "text": [
      "Random Run 4 : Sample 10\n",
      "No GPU detected, fall back on CPU.\n",
      "Shift p-vals:  0.5799999833106995\n",
      "Random Run 4 : Sample 20\n",
      "No GPU detected, fall back on CPU.\n",
      "Shift p-vals:  0.5199999809265137\n",
      "Random Run 4 : Sample 50\n",
      "No GPU detected, fall back on CPU.\n",
      "Shift p-vals:  0.05999999865889549\n",
      "Random Run 4 : Sample 100\n",
      "No GPU detected, fall back on CPU.\n",
      "Shift p-vals:  0.20000000298023224\n",
      "Random Run 4 : Sample 200\n",
      "No GPU detected, fall back on CPU.\n",
      "Shift p-vals:  0.009999999776482582\n",
      "Random Run 4 : Sample 500\n",
      "No GPU detected, fall back on CPU.\n",
      "Shift p-vals:  0.03999999910593033\n",
      "Random Run 4 : Sample 1000\n",
      "No GPU detected, fall back on CPU.\n",
      "Shift p-vals:  0.12999999523162842\n",
      "Random Run 4 : Sample 2000\n",
      "No GPU detected, fall back on CPU.\n",
      "Shift p-vals:  0.6800000071525574\n",
      "Shift pre-covid\n"
     ]
    },
    {
     "name": "stderr",
     "output_type": "stream",
     "text": [
      "torch.range is deprecated and will be removed in a future release because its behavior is inconsistent with Python's range builtin. Instead, use torch.arange, which produces values in [start, end).\n",
      "2022-03-18 09:33:31,825 \u001b[1;37mINFO\u001b[0m cyclops.processors.base - Processing raw admin data...\n",
      "2022-03-18 09:33:31,839 \u001b[1;37mINFO\u001b[0m cyclops.processors.base - # samples: 10756, # encounters: 10756\n",
      "2022-03-18 09:33:31,843 \u001b[1;37mINFO\u001b[0m cyclops.processors.admin - # admin features: 2, # encounters: 10756\n",
      "2022-03-18 09:33:37,854 \u001b[1;37mINFO\u001b[0m cyclops.utils.profile - Finished executing function process in 6.028810 s\n"
     ]
    },
    {
     "name": "stdout",
     "output_type": "stream",
     "text": [
      "Random Run 0 : Sample 10\n",
      "No GPU detected, fall back on CPU.\n",
      "Shift p-vals:  0.6499999761581421\n",
      "Random Run 0 : Sample 20\n",
      "No GPU detected, fall back on CPU.\n",
      "Shift p-vals:  0.18000000715255737\n",
      "Random Run 0 : Sample 50\n",
      "No GPU detected, fall back on CPU.\n",
      "Shift p-vals:  0.9900000095367432\n",
      "Random Run 0 : Sample 100\n",
      "No GPU detected, fall back on CPU.\n",
      "Shift p-vals:  0.5799999833106995\n",
      "Random Run 0 : Sample 200\n",
      "No GPU detected, fall back on CPU.\n",
      "Shift p-vals:  0.6299999952316284\n",
      "Random Run 0 : Sample 500\n",
      "No GPU detected, fall back on CPU.\n",
      "Shift p-vals:  0.18000000715255737\n",
      "Random Run 0 : Sample 1000\n",
      "No GPU detected, fall back on CPU.\n",
      "Shift p-vals:  0.07999999821186066\n",
      "Random Run 0 : Sample 2000\n",
      "No GPU detected, fall back on CPU.\n"
     ]
    },
    {
     "name": "stderr",
     "output_type": "stream",
     "text": [
      "2022-03-18 09:33:38,991 \u001b[1;37mINFO\u001b[0m cyclops.processors.base - Processing raw admin data...\n",
      "2022-03-18 09:33:38,995 \u001b[1;37mINFO\u001b[0m cyclops.processors.base - # samples: 10756, # encounters: 10756\n",
      "2022-03-18 09:33:38,999 \u001b[1;37mINFO\u001b[0m cyclops.processors.admin - # admin features: 2, # encounters: 10756\n"
     ]
    },
    {
     "name": "stdout",
     "output_type": "stream",
     "text": [
      "Shift p-vals:  0.17000000178813934\n"
     ]
    },
    {
     "name": "stderr",
     "output_type": "stream",
     "text": [
      "2022-03-18 09:33:44,819 \u001b[1;37mINFO\u001b[0m cyclops.utils.profile - Finished executing function process in 5.828031 s\n"
     ]
    },
    {
     "name": "stdout",
     "output_type": "stream",
     "text": [
      "Random Run 1 : Sample 10\n",
      "No GPU detected, fall back on CPU.\n",
      "Shift p-vals:  0.5099999904632568\n",
      "Random Run 1 : Sample 20\n",
      "No GPU detected, fall back on CPU.\n",
      "Shift p-vals:  0.9300000071525574\n",
      "Random Run 1 : Sample 50\n",
      "No GPU detected, fall back on CPU.\n",
      "Shift p-vals:  0.8899999856948853\n",
      "Random Run 1 : Sample 100\n",
      "No GPU detected, fall back on CPU.\n",
      "Shift p-vals:  0.4399999976158142\n",
      "Random Run 1 : Sample 200\n",
      "No GPU detected, fall back on CPU.\n",
      "Shift p-vals:  0.09000000357627869\n",
      "Random Run 1 : Sample 500\n",
      "No GPU detected, fall back on CPU.\n",
      "Shift p-vals:  0.75\n",
      "Random Run 1 : Sample 1000\n",
      "No GPU detected, fall back on CPU.\n",
      "Shift p-vals:  0.12999999523162842\n",
      "Random Run 1 : Sample 2000\n",
      "No GPU detected, fall back on CPU.\n"
     ]
    },
    {
     "name": "stderr",
     "output_type": "stream",
     "text": [
      "2022-03-18 09:33:45,994 \u001b[1;37mINFO\u001b[0m cyclops.processors.base - Processing raw admin data...\n",
      "2022-03-18 09:33:45,999 \u001b[1;37mINFO\u001b[0m cyclops.processors.base - # samples: 10756, # encounters: 10756\n",
      "2022-03-18 09:33:46,002 \u001b[1;37mINFO\u001b[0m cyclops.processors.admin - # admin features: 2, # encounters: 10756\n"
     ]
    },
    {
     "name": "stdout",
     "output_type": "stream",
     "text": [
      "Shift p-vals:  0.14000000059604645\n"
     ]
    },
    {
     "name": "stderr",
     "output_type": "stream",
     "text": [
      "2022-03-18 09:33:51,818 \u001b[1;37mINFO\u001b[0m cyclops.utils.profile - Finished executing function process in 5.823082 s\n"
     ]
    },
    {
     "name": "stdout",
     "output_type": "stream",
     "text": [
      "Random Run 2 : Sample 10\n",
      "No GPU detected, fall back on CPU.\n",
      "Shift p-vals:  0.05000000074505806\n",
      "Random Run 2 : Sample 20\n",
      "No GPU detected, fall back on CPU.\n",
      "Shift p-vals:  0.4099999964237213\n",
      "Random Run 2 : Sample 50\n",
      "No GPU detected, fall back on CPU.\n",
      "Shift p-vals:  0.05000000074505806\n",
      "Random Run 2 : Sample 100\n",
      "No GPU detected, fall back on CPU.\n",
      "Shift p-vals:  0.30000001192092896\n",
      "Random Run 2 : Sample 200\n",
      "No GPU detected, fall back on CPU.\n",
      "Shift p-vals:  0.25999999046325684\n",
      "Random Run 2 : Sample 500\n",
      "No GPU detected, fall back on CPU.\n",
      "Shift p-vals:  0.6399999856948853\n",
      "Random Run 2 : Sample 1000\n",
      "No GPU detected, fall back on CPU.\n",
      "Shift p-vals:  0.1899999976158142\n",
      "Random Run 2 : Sample 2000\n",
      "No GPU detected, fall back on CPU.\n"
     ]
    },
    {
     "name": "stderr",
     "output_type": "stream",
     "text": [
      "2022-03-18 09:33:52,970 \u001b[1;37mINFO\u001b[0m cyclops.processors.base - Processing raw admin data...\n",
      "2022-03-18 09:33:52,974 \u001b[1;37mINFO\u001b[0m cyclops.processors.base - # samples: 10756, # encounters: 10756\n",
      "2022-03-18 09:33:52,978 \u001b[1;37mINFO\u001b[0m cyclops.processors.admin - # admin features: 2, # encounters: 10756\n"
     ]
    },
    {
     "name": "stdout",
     "output_type": "stream",
     "text": [
      "Shift p-vals:  0.03999999910593033\n"
     ]
    },
    {
     "name": "stderr",
     "output_type": "stream",
     "text": [
      "2022-03-18 09:33:59,487 \u001b[1;37mINFO\u001b[0m cyclops.utils.profile - Finished executing function process in 6.516362 s\n"
     ]
    },
    {
     "name": "stdout",
     "output_type": "stream",
     "text": [
      "Random Run 3 : Sample 10\n",
      "No GPU detected, fall back on CPU.\n",
      "Shift p-vals:  0.5400000214576721\n",
      "Random Run 3 : Sample 20\n",
      "No GPU detected, fall back on CPU.\n",
      "Shift p-vals:  0.1599999964237213\n",
      "Random Run 3 : Sample 50\n",
      "No GPU detected, fall back on CPU.\n",
      "Shift p-vals:  0.8700000047683716\n",
      "Random Run 3 : Sample 100\n",
      "No GPU detected, fall back on CPU.\n",
      "Shift p-vals:  0.8600000143051147\n",
      "Random Run 3 : Sample 200\n",
      "No GPU detected, fall back on CPU.\n",
      "Shift p-vals:  0.11999999731779099\n",
      "Random Run 3 : Sample 500\n",
      "No GPU detected, fall back on CPU.\n",
      "Shift p-vals:  0.2800000011920929\n",
      "Random Run 3 : Sample 1000\n",
      "No GPU detected, fall back on CPU.\n",
      "Shift p-vals:  0.09000000357627869\n",
      "Random Run 3 : Sample 2000\n",
      "No GPU detected, fall back on CPU.\n"
     ]
    },
    {
     "name": "stderr",
     "output_type": "stream",
     "text": [
      "2022-03-18 09:34:00,624 \u001b[1;37mINFO\u001b[0m cyclops.processors.base - Processing raw admin data...\n",
      "2022-03-18 09:34:00,628 \u001b[1;37mINFO\u001b[0m cyclops.processors.base - # samples: 10756, # encounters: 10756\n",
      "2022-03-18 09:34:00,631 \u001b[1;37mINFO\u001b[0m cyclops.processors.admin - # admin features: 2, # encounters: 10756\n"
     ]
    },
    {
     "name": "stdout",
     "output_type": "stream",
     "text": [
      "Shift p-vals:  0.07000000029802322\n"
     ]
    },
    {
     "name": "stderr",
     "output_type": "stream",
     "text": [
      "2022-03-18 09:34:06,183 \u001b[1;37mINFO\u001b[0m cyclops.utils.profile - Finished executing function process in 5.559075 s\n"
     ]
    },
    {
     "name": "stdout",
     "output_type": "stream",
     "text": [
      "Random Run 4 : Sample 10\n",
      "No GPU detected, fall back on CPU.\n",
      "Shift p-vals:  0.44999998807907104\n",
      "Random Run 4 : Sample 20\n",
      "No GPU detected, fall back on CPU.\n",
      "Shift p-vals:  0.6000000238418579\n",
      "Random Run 4 : Sample 50\n",
      "No GPU detected, fall back on CPU.\n",
      "Shift p-vals:  0.07000000029802322\n",
      "Random Run 4 : Sample 100\n",
      "No GPU detected, fall back on CPU.\n",
      "Shift p-vals:  0.3799999952316284\n",
      "Random Run 4 : Sample 200\n",
      "No GPU detected, fall back on CPU.\n",
      "Shift p-vals:  0.029999999329447746\n",
      "Random Run 4 : Sample 500\n",
      "No GPU detected, fall back on CPU.\n",
      "Shift p-vals:  0.029999999329447746\n",
      "Random Run 4 : Sample 1000\n",
      "No GPU detected, fall back on CPU.\n",
      "Shift p-vals:  0.33000001311302185\n",
      "Random Run 4 : Sample 2000\n",
      "No GPU detected, fall back on CPU.\n",
      "Shift p-vals:  0.6800000071525574\n",
      "Shift pre-covid\n"
     ]
    },
    {
     "name": "stderr",
     "output_type": "stream",
     "text": [
      "torch.range is deprecated and will be removed in a future release because its behavior is inconsistent with Python's range builtin. Instead, use torch.arange, which produces values in [start, end).\n",
      "2022-03-18 09:34:07,526 \u001b[1;37mINFO\u001b[0m cyclops.processors.base - Processing raw admin data...\n",
      "2022-03-18 09:34:07,528 \u001b[1;37mINFO\u001b[0m cyclops.processors.base - # samples: 10756, # encounters: 10756\n",
      "2022-03-18 09:34:07,530 \u001b[1;37mINFO\u001b[0m cyclops.processors.admin - # admin features: 2, # encounters: 10756\n",
      "2022-03-18 09:34:13,597 \u001b[1;37mINFO\u001b[0m cyclops.utils.profile - Finished executing function process in 6.070965 s\n"
     ]
    },
    {
     "name": "stdout",
     "output_type": "stream",
     "text": [
      "Random Run 0 : Sample 10\n",
      "No GPU detected, fall back on CPU.\n",
      "Shift p-vals:  0.2800000011920929\n",
      "Random Run 0 : Sample 20\n",
      "No GPU detected, fall back on CPU.\n",
      "Shift p-vals:  0.5\n",
      "Random Run 0 : Sample 50\n",
      "No GPU detected, fall back on CPU.\n",
      "Shift p-vals:  0.9100000262260437\n",
      "Random Run 0 : Sample 100\n",
      "No GPU detected, fall back on CPU.\n",
      "Shift p-vals:  0.38999998569488525\n",
      "Random Run 0 : Sample 200\n",
      "No GPU detected, fall back on CPU.\n",
      "Shift p-vals:  0.20000000298023224\n",
      "Random Run 0 : Sample 500\n",
      "No GPU detected, fall back on CPU.\n",
      "Shift p-vals:  0.25999999046325684\n",
      "Random Run 0 : Sample 1000\n",
      "No GPU detected, fall back on CPU.\n",
      "Shift p-vals:  0.2199999988079071\n",
      "Random Run 0 : Sample 2000\n",
      "No GPU detected, fall back on CPU.\n"
     ]
    },
    {
     "name": "stderr",
     "output_type": "stream",
     "text": [
      "2022-03-18 09:34:31,733 \u001b[1;37mINFO\u001b[0m cyclops.processors.base - Processing raw admin data...\n",
      "2022-03-18 09:34:31,740 \u001b[1;37mINFO\u001b[0m cyclops.processors.base - # samples: 10756, # encounters: 10756\n",
      "2022-03-18 09:34:31,743 \u001b[1;37mINFO\u001b[0m cyclops.processors.admin - # admin features: 2, # encounters: 10756\n"
     ]
    },
    {
     "name": "stdout",
     "output_type": "stream",
     "text": [
      "Shift p-vals:  0.019999999552965164\n"
     ]
    },
    {
     "name": "stderr",
     "output_type": "stream",
     "text": [
      "2022-03-18 09:34:37,773 \u001b[1;37mINFO\u001b[0m cyclops.utils.profile - Finished executing function process in 6.040185 s\n"
     ]
    },
    {
     "name": "stdout",
     "output_type": "stream",
     "text": [
      "Random Run 1 : Sample 10\n",
      "No GPU detected, fall back on CPU.\n",
      "Shift p-vals:  0.8799999952316284\n",
      "Random Run 1 : Sample 20\n",
      "No GPU detected, fall back on CPU.\n",
      "Shift p-vals:  0.25\n",
      "Random Run 1 : Sample 50\n",
      "No GPU detected, fall back on CPU.\n",
      "Shift p-vals:  0.44999998807907104\n",
      "Random Run 1 : Sample 100\n",
      "No GPU detected, fall back on CPU.\n",
      "Shift p-vals:  0.9200000166893005\n",
      "Random Run 1 : Sample 200\n",
      "No GPU detected, fall back on CPU.\n",
      "Shift p-vals:  0.6000000238418579\n",
      "Random Run 1 : Sample 500\n",
      "No GPU detected, fall back on CPU.\n",
      "Shift p-vals:  0.5799999833106995\n",
      "Random Run 1 : Sample 1000\n",
      "No GPU detected, fall back on CPU.\n",
      "Shift p-vals:  0.7599999904632568\n",
      "Random Run 1 : Sample 2000\n",
      "No GPU detected, fall back on CPU.\n"
     ]
    },
    {
     "name": "stderr",
     "output_type": "stream",
     "text": [
      "2022-03-18 09:34:56,056 \u001b[1;37mINFO\u001b[0m cyclops.processors.base - Processing raw admin data...\n",
      "2022-03-18 09:34:56,061 \u001b[1;37mINFO\u001b[0m cyclops.processors.base - # samples: 10756, # encounters: 10756\n",
      "2022-03-18 09:34:56,065 \u001b[1;37mINFO\u001b[0m cyclops.processors.admin - # admin features: 2, # encounters: 10756\n"
     ]
    },
    {
     "name": "stdout",
     "output_type": "stream",
     "text": [
      "Shift p-vals:  0.5199999809265137\n"
     ]
    },
    {
     "name": "stderr",
     "output_type": "stream",
     "text": [
      "2022-03-18 09:35:01,759 \u001b[1;37mINFO\u001b[0m cyclops.utils.profile - Finished executing function process in 5.703254 s\n"
     ]
    },
    {
     "name": "stdout",
     "output_type": "stream",
     "text": [
      "Random Run 2 : Sample 10\n",
      "No GPU detected, fall back on CPU.\n",
      "Shift p-vals:  0.2800000011920929\n",
      "Random Run 2 : Sample 20\n",
      "No GPU detected, fall back on CPU.\n",
      "Shift p-vals:  0.49000000953674316\n",
      "Random Run 2 : Sample 50\n",
      "No GPU detected, fall back on CPU.\n",
      "Shift p-vals:  0.18000000715255737\n",
      "Random Run 2 : Sample 100\n",
      "No GPU detected, fall back on CPU.\n",
      "Shift p-vals:  0.41999998688697815\n",
      "Random Run 2 : Sample 200\n",
      "No GPU detected, fall back on CPU.\n",
      "Shift p-vals:  0.75\n",
      "Random Run 2 : Sample 500\n",
      "No GPU detected, fall back on CPU.\n",
      "Shift p-vals:  0.7900000214576721\n",
      "Random Run 2 : Sample 1000\n",
      "No GPU detected, fall back on CPU.\n",
      "Shift p-vals:  0.27000001072883606\n",
      "Random Run 2 : Sample 2000\n",
      "No GPU detected, fall back on CPU.\n"
     ]
    },
    {
     "name": "stderr",
     "output_type": "stream",
     "text": [
      "2022-03-18 09:35:20,126 \u001b[1;37mINFO\u001b[0m cyclops.processors.base - Processing raw admin data...\n",
      "2022-03-18 09:35:20,132 \u001b[1;37mINFO\u001b[0m cyclops.processors.base - # samples: 10756, # encounters: 10756\n",
      "2022-03-18 09:35:20,135 \u001b[1;37mINFO\u001b[0m cyclops.processors.admin - # admin features: 2, # encounters: 10756\n"
     ]
    },
    {
     "name": "stdout",
     "output_type": "stream",
     "text": [
      "Shift p-vals:  0.03999999910593033\n"
     ]
    },
    {
     "name": "stderr",
     "output_type": "stream",
     "text": [
      "2022-03-18 09:35:25,898 \u001b[1;37mINFO\u001b[0m cyclops.utils.profile - Finished executing function process in 5.771905 s\n"
     ]
    },
    {
     "name": "stdout",
     "output_type": "stream",
     "text": [
      "Random Run 3 : Sample 10\n",
      "No GPU detected, fall back on CPU.\n",
      "Shift p-vals:  0.8500000238418579\n",
      "Random Run 3 : Sample 20\n",
      "No GPU detected, fall back on CPU.\n",
      "Shift p-vals:  0.6899999976158142\n",
      "Random Run 3 : Sample 50\n",
      "No GPU detected, fall back on CPU.\n",
      "Shift p-vals:  0.5\n",
      "Random Run 3 : Sample 100\n",
      "No GPU detected, fall back on CPU.\n",
      "Shift p-vals:  0.7300000190734863\n",
      "Random Run 3 : Sample 200\n",
      "No GPU detected, fall back on CPU.\n",
      "Shift p-vals:  0.12999999523162842\n",
      "Random Run 3 : Sample 500\n",
      "No GPU detected, fall back on CPU.\n",
      "Shift p-vals:  0.550000011920929\n",
      "Random Run 3 : Sample 1000\n",
      "No GPU detected, fall back on CPU.\n",
      "Shift p-vals:  0.25999999046325684\n",
      "Random Run 3 : Sample 2000\n",
      "No GPU detected, fall back on CPU.\n"
     ]
    },
    {
     "name": "stderr",
     "output_type": "stream",
     "text": [
      "2022-03-18 09:35:42,165 \u001b[1;37mINFO\u001b[0m cyclops.processors.base - Processing raw admin data...\n",
      "2022-03-18 09:35:42,170 \u001b[1;37mINFO\u001b[0m cyclops.processors.base - # samples: 10756, # encounters: 10756\n",
      "2022-03-18 09:35:42,173 \u001b[1;37mINFO\u001b[0m cyclops.processors.admin - # admin features: 2, # encounters: 10756\n"
     ]
    },
    {
     "name": "stdout",
     "output_type": "stream",
     "text": [
      "Shift p-vals:  0.3100000023841858\n"
     ]
    },
    {
     "name": "stderr",
     "output_type": "stream",
     "text": [
      "2022-03-18 09:35:48,215 \u001b[1;37mINFO\u001b[0m cyclops.utils.profile - Finished executing function process in 6.049607 s\n"
     ]
    },
    {
     "name": "stdout",
     "output_type": "stream",
     "text": [
      "Random Run 4 : Sample 10\n",
      "No GPU detected, fall back on CPU.\n",
      "Shift p-vals:  0.8899999856948853\n",
      "Random Run 4 : Sample 20\n",
      "No GPU detected, fall back on CPU.\n",
      "Shift p-vals:  0.7400000095367432\n",
      "Random Run 4 : Sample 50\n",
      "No GPU detected, fall back on CPU.\n",
      "Shift p-vals:  0.009999999776482582\n",
      "Random Run 4 : Sample 100\n",
      "No GPU detected, fall back on CPU.\n",
      "Shift p-vals:  0.6399999856948853\n",
      "Random Run 4 : Sample 200\n",
      "No GPU detected, fall back on CPU.\n",
      "Shift p-vals:  0.12999999523162842\n",
      "Random Run 4 : Sample 500\n",
      "No GPU detected, fall back on CPU.\n",
      "Shift p-vals:  0.8899999856948853\n",
      "Random Run 4 : Sample 1000\n",
      "No GPU detected, fall back on CPU.\n",
      "Shift p-vals:  0.5199999809265137\n",
      "Random Run 4 : Sample 2000\n",
      "No GPU detected, fall back on CPU.\n"
     ]
    },
    {
     "name": "stderr",
     "output_type": "stream",
     "text": [
      "torch.range is deprecated and will be removed in a future release because its behavior is inconsistent with Python's range builtin. Instead, use torch.arange, which produces values in [start, end).\n",
      "2022-03-18 09:36:03,497 \u001b[1;37mINFO\u001b[0m cyclops.processors.base - Processing raw admin data...\n",
      "2022-03-18 09:36:03,503 \u001b[1;37mINFO\u001b[0m cyclops.processors.base - # samples: 10756, # encounters: 10756\n",
      "2022-03-18 09:36:03,506 \u001b[1;37mINFO\u001b[0m cyclops.processors.admin - # admin features: 2, # encounters: 10756\n"
     ]
    },
    {
     "name": "stdout",
     "output_type": "stream",
     "text": [
      "Shift p-vals:  0.6399999856948853\n",
      "Shift pre-covid\n"
     ]
    },
    {
     "name": "stderr",
     "output_type": "stream",
     "text": [
      "2022-03-18 09:36:09,654 \u001b[1;37mINFO\u001b[0m cyclops.utils.profile - Finished executing function process in 6.156559 s\n"
     ]
    },
    {
     "name": "stdout",
     "output_type": "stream",
     "text": [
      "Random Run 0 : Sample 10\n",
      "No GPU detected, fall back on CPU.\n",
      "Shift p-vals:  0.47999998927116394\n",
      "Random Run 0 : Sample 20\n",
      "No GPU detected, fall back on CPU.\n",
      "Shift p-vals:  0.8799999952316284\n",
      "Random Run 0 : Sample 50\n",
      "No GPU detected, fall back on CPU.\n",
      "Shift p-vals:  0.8600000143051147\n",
      "Random Run 0 : Sample 100\n",
      "No GPU detected, fall back on CPU.\n",
      "Shift p-vals:  0.11999999731779099\n",
      "Random Run 0 : Sample 200\n",
      "No GPU detected, fall back on CPU.\n",
      "Shift p-vals:  0.1599999964237213\n",
      "Random Run 0 : Sample 500\n",
      "No GPU detected, fall back on CPU.\n",
      "Shift p-vals:  0.7799999713897705\n",
      "Random Run 0 : Sample 1000\n",
      "No GPU detected, fall back on CPU.\n",
      "Shift p-vals:  0.10999999940395355\n",
      "Random Run 0 : Sample 2000\n",
      "No GPU detected, fall back on CPU.\n"
     ]
    },
    {
     "name": "stderr",
     "output_type": "stream",
     "text": [
      "2022-03-18 09:36:10,790 \u001b[1;37mINFO\u001b[0m cyclops.processors.base - Processing raw admin data...\n",
      "2022-03-18 09:36:10,794 \u001b[1;37mINFO\u001b[0m cyclops.processors.base - # samples: 10756, # encounters: 10756\n",
      "2022-03-18 09:36:10,798 \u001b[1;37mINFO\u001b[0m cyclops.processors.admin - # admin features: 2, # encounters: 10756\n"
     ]
    },
    {
     "name": "stdout",
     "output_type": "stream",
     "text": [
      "Shift p-vals:  0.17000000178813934\n"
     ]
    },
    {
     "name": "stderr",
     "output_type": "stream",
     "text": [
      "2022-03-18 09:36:17,957 \u001b[1;37mINFO\u001b[0m cyclops.utils.profile - Finished executing function process in 7.166700 s\n"
     ]
    },
    {
     "name": "stdout",
     "output_type": "stream",
     "text": [
      "Random Run 1 : Sample 10\n",
      "No GPU detected, fall back on CPU.\n",
      "Shift p-vals:  0.49000000953674316\n",
      "Random Run 1 : Sample 20\n",
      "No GPU detected, fall back on CPU.\n",
      "Shift p-vals:  0.8600000143051147\n",
      "Random Run 1 : Sample 50\n",
      "No GPU detected, fall back on CPU.\n",
      "Shift p-vals:  0.8600000143051147\n",
      "Random Run 1 : Sample 100\n",
      "No GPU detected, fall back on CPU.\n",
      "Shift p-vals:  0.2800000011920929\n",
      "Random Run 1 : Sample 200\n",
      "No GPU detected, fall back on CPU.\n",
      "Shift p-vals:  0.9399999976158142\n",
      "Random Run 1 : Sample 500\n",
      "No GPU detected, fall back on CPU.\n",
      "Shift p-vals:  0.7799999713897705\n",
      "Random Run 1 : Sample 1000\n",
      "No GPU detected, fall back on CPU.\n",
      "Shift p-vals:  0.6499999761581421\n",
      "Random Run 1 : Sample 2000\n",
      "No GPU detected, fall back on CPU.\n",
      "Shift p-vals:  0.3700000047683716\n"
     ]
    },
    {
     "name": "stderr",
     "output_type": "stream",
     "text": [
      "2022-03-18 09:36:19,924 \u001b[1;37mINFO\u001b[0m cyclops.processors.base - Processing raw admin data...\n",
      "2022-03-18 09:36:19,927 \u001b[1;37mINFO\u001b[0m cyclops.processors.base - # samples: 10756, # encounters: 10756\n",
      "2022-03-18 09:36:19,930 \u001b[1;37mINFO\u001b[0m cyclops.processors.admin - # admin features: 2, # encounters: 10756\n",
      "2022-03-18 09:36:26,313 \u001b[1;37mINFO\u001b[0m cyclops.utils.profile - Finished executing function process in 6.389037 s\n"
     ]
    },
    {
     "name": "stdout",
     "output_type": "stream",
     "text": [
      "Random Run 2 : Sample 10\n",
      "No GPU detected, fall back on CPU.\n",
      "Shift p-vals:  0.75\n",
      "Random Run 2 : Sample 20\n",
      "No GPU detected, fall back on CPU.\n",
      "Shift p-vals:  0.4300000071525574\n",
      "Random Run 2 : Sample 50\n",
      "No GPU detected, fall back on CPU.\n",
      "Shift p-vals:  0.41999998688697815\n",
      "Random Run 2 : Sample 100\n",
      "No GPU detected, fall back on CPU.\n",
      "Shift p-vals:  0.07000000029802322\n",
      "Random Run 2 : Sample 200\n",
      "No GPU detected, fall back on CPU.\n",
      "Shift p-vals:  0.6299999952316284\n",
      "Random Run 2 : Sample 500\n",
      "No GPU detected, fall back on CPU.\n",
      "Shift p-vals:  0.8399999737739563\n",
      "Random Run 2 : Sample 1000\n",
      "No GPU detected, fall back on CPU.\n",
      "Shift p-vals:  0.8399999737739563\n",
      "Random Run 2 : Sample 2000\n",
      "No GPU detected, fall back on CPU.\n"
     ]
    },
    {
     "name": "stderr",
     "output_type": "stream",
     "text": [
      "2022-03-18 09:36:27,364 \u001b[1;37mINFO\u001b[0m cyclops.processors.base - Processing raw admin data...\n",
      "2022-03-18 09:36:27,368 \u001b[1;37mINFO\u001b[0m cyclops.processors.base - # samples: 10756, # encounters: 10756\n",
      "2022-03-18 09:36:27,372 \u001b[1;37mINFO\u001b[0m cyclops.processors.admin - # admin features: 2, # encounters: 10756\n"
     ]
    },
    {
     "name": "stdout",
     "output_type": "stream",
     "text": [
      "Shift p-vals:  0.8500000238418579\n"
     ]
    },
    {
     "name": "stderr",
     "output_type": "stream",
     "text": [
      "2022-03-18 09:36:32,920 \u001b[1;37mINFO\u001b[0m cyclops.utils.profile - Finished executing function process in 5.555997 s\n"
     ]
    },
    {
     "name": "stdout",
     "output_type": "stream",
     "text": [
      "Random Run 3 : Sample 10\n",
      "No GPU detected, fall back on CPU.\n",
      "Shift p-vals:  0.9700000286102295\n",
      "Random Run 3 : Sample 20\n",
      "No GPU detected, fall back on CPU.\n",
      "Shift p-vals:  0.3199999928474426\n",
      "Random Run 3 : Sample 50\n",
      "No GPU detected, fall back on CPU.\n",
      "Shift p-vals:  0.3499999940395355\n",
      "Random Run 3 : Sample 100\n",
      "No GPU detected, fall back on CPU.\n",
      "Shift p-vals:  0.7799999713897705\n",
      "Random Run 3 : Sample 200\n",
      "No GPU detected, fall back on CPU.\n",
      "Shift p-vals:  0.7400000095367432\n",
      "Random Run 3 : Sample 500\n",
      "No GPU detected, fall back on CPU.\n",
      "Shift p-vals:  0.23000000417232513\n",
      "Random Run 3 : Sample 1000\n",
      "No GPU detected, fall back on CPU.\n",
      "Shift p-vals:  0.10999999940395355\n",
      "Random Run 3 : Sample 2000\n",
      "No GPU detected, fall back on CPU.\n"
     ]
    },
    {
     "name": "stderr",
     "output_type": "stream",
     "text": [
      "2022-03-18 09:36:33,970 \u001b[1;37mINFO\u001b[0m cyclops.processors.base - Processing raw admin data...\n",
      "2022-03-18 09:36:33,976 \u001b[1;37mINFO\u001b[0m cyclops.processors.base - # samples: 10756, # encounters: 10756\n",
      "2022-03-18 09:36:33,979 \u001b[1;37mINFO\u001b[0m cyclops.processors.admin - # admin features: 2, # encounters: 10756\n"
     ]
    },
    {
     "name": "stdout",
     "output_type": "stream",
     "text": [
      "Shift p-vals:  0.5899999737739563\n"
     ]
    },
    {
     "name": "stderr",
     "output_type": "stream",
     "text": [
      "2022-03-18 09:36:39,493 \u001b[1;37mINFO\u001b[0m cyclops.utils.profile - Finished executing function process in 5.522784 s\n"
     ]
    },
    {
     "name": "stdout",
     "output_type": "stream",
     "text": [
      "Random Run 4 : Sample 10\n",
      "No GPU detected, fall back on CPU.\n",
      "Shift p-vals:  0.20000000298023224\n",
      "Random Run 4 : Sample 20\n",
      "No GPU detected, fall back on CPU.\n",
      "Shift p-vals:  0.6100000143051147\n",
      "Random Run 4 : Sample 50\n",
      "No GPU detected, fall back on CPU.\n",
      "Shift p-vals:  0.03999999910593033\n",
      "Random Run 4 : Sample 100\n",
      "No GPU detected, fall back on CPU.\n",
      "Shift p-vals:  0.47999998927116394\n",
      "Random Run 4 : Sample 200\n",
      "No GPU detected, fall back on CPU.\n",
      "Shift p-vals:  0.15000000596046448\n",
      "Random Run 4 : Sample 500\n",
      "No GPU detected, fall back on CPU.\n",
      "Shift p-vals:  0.30000001192092896\n",
      "Random Run 4 : Sample 1000\n",
      "No GPU detected, fall back on CPU.\n",
      "Shift p-vals:  0.18000000715255737\n",
      "Random Run 4 : Sample 2000\n",
      "No GPU detected, fall back on CPU.\n"
     ]
    },
    {
     "name": "stderr",
     "output_type": "stream",
     "text": [
      "torch.range is deprecated and will be removed in a future release because its behavior is inconsistent with Python's range builtin. Instead, use torch.arange, which produces values in [start, end).\n",
      "2022-03-18 09:36:40,544 \u001b[1;37mINFO\u001b[0m cyclops.processors.base - Processing raw admin data...\n",
      "2022-03-18 09:36:40,548 \u001b[1;37mINFO\u001b[0m cyclops.processors.base - # samples: 10756, # encounters: 10756\n",
      "2022-03-18 09:36:40,551 \u001b[1;37mINFO\u001b[0m cyclops.processors.admin - # admin features: 2, # encounters: 10756\n"
     ]
    },
    {
     "name": "stdout",
     "output_type": "stream",
     "text": [
      "Shift p-vals:  0.4099999964237213\n",
      "Shift covid\n"
     ]
    },
    {
     "name": "stderr",
     "output_type": "stream",
     "text": [
      "2022-03-18 09:36:46,441 \u001b[1;37mINFO\u001b[0m cyclops.utils.profile - Finished executing function process in 5.897337 s\n"
     ]
    },
    {
     "name": "stdout",
     "output_type": "stream",
     "text": [
      "Random Run 0 : Sample 10\n",
      "No GPU detected, fall back on CPU.\n",
      "Shift p-vals:  0.07999999821186066\n",
      "Random Run 0 : Sample 20\n",
      "No GPU detected, fall back on CPU.\n",
      "Shift p-vals:  0.25999999046325684\n",
      "Random Run 0 : Sample 50\n",
      "No GPU detected, fall back on CPU.\n",
      "Shift p-vals:  0.5600000023841858\n",
      "Random Run 0 : Sample 100\n",
      "No GPU detected, fall back on CPU.\n",
      "Shift p-vals:  0.49000000953674316\n",
      "Random Run 0 : Sample 200\n",
      "No GPU detected, fall back on CPU.\n",
      "Shift p-vals:  0.9100000262260437\n",
      "Random Run 0 : Sample 500\n",
      "No GPU detected, fall back on CPU.\n",
      "Shift p-vals:  0.5199999809265137\n",
      "Random Run 0 : Sample 1000\n",
      "No GPU detected, fall back on CPU.\n",
      "Shift p-vals:  0.10999999940395355\n",
      "Random Run 0 : Sample 2000\n",
      "No GPU detected, fall back on CPU.\n"
     ]
    },
    {
     "name": "stderr",
     "output_type": "stream",
     "text": [
      "2022-03-18 09:37:00,931 \u001b[1;37mINFO\u001b[0m cyclops.processors.base - Processing raw admin data...\n",
      "2022-03-18 09:37:00,934 \u001b[1;37mINFO\u001b[0m cyclops.processors.base - # samples: 10756, # encounters: 10756\n",
      "2022-03-18 09:37:00,936 \u001b[1;37mINFO\u001b[0m cyclops.processors.admin - # admin features: 2, # encounters: 10756\n"
     ]
    },
    {
     "name": "stdout",
     "output_type": "stream",
     "text": [
      "Shift p-vals:  0.14000000059604645\n"
     ]
    },
    {
     "name": "stderr",
     "output_type": "stream",
     "text": [
      "2022-03-18 09:37:07,042 \u001b[1;37mINFO\u001b[0m cyclops.utils.profile - Finished executing function process in 6.110989 s\n"
     ]
    },
    {
     "name": "stdout",
     "output_type": "stream",
     "text": [
      "Random Run 1 : Sample 10\n",
      "No GPU detected, fall back on CPU.\n",
      "Shift p-vals:  0.6600000262260437\n",
      "Random Run 1 : Sample 20\n",
      "No GPU detected, fall back on CPU.\n",
      "Shift p-vals:  0.4099999964237213\n",
      "Random Run 1 : Sample 50\n",
      "No GPU detected, fall back on CPU.\n",
      "Shift p-vals:  0.28999999165534973\n",
      "Random Run 1 : Sample 100\n",
      "No GPU detected, fall back on CPU.\n",
      "Shift p-vals:  0.6000000238418579\n",
      "Random Run 1 : Sample 200\n",
      "No GPU detected, fall back on CPU.\n",
      "Shift p-vals:  0.8299999833106995\n",
      "Random Run 1 : Sample 500\n",
      "No GPU detected, fall back on CPU.\n",
      "Shift p-vals:  0.36000001430511475\n",
      "Random Run 1 : Sample 1000\n",
      "No GPU detected, fall back on CPU.\n",
      "Shift p-vals:  0.019999999552965164\n",
      "Random Run 1 : Sample 2000\n",
      "No GPU detected, fall back on CPU.\n"
     ]
    },
    {
     "name": "stderr",
     "output_type": "stream",
     "text": [
      "2022-03-18 09:37:21,399 \u001b[1;37mINFO\u001b[0m cyclops.processors.base - Processing raw admin data...\n",
      "2022-03-18 09:37:21,404 \u001b[1;37mINFO\u001b[0m cyclops.processors.base - # samples: 10756, # encounters: 10756\n",
      "2022-03-18 09:37:21,407 \u001b[1;37mINFO\u001b[0m cyclops.processors.admin - # admin features: 2, # encounters: 10756\n"
     ]
    },
    {
     "name": "stdout",
     "output_type": "stream",
     "text": [
      "Shift p-vals:  0.0\n"
     ]
    },
    {
     "name": "stderr",
     "output_type": "stream",
     "text": [
      "2022-03-18 09:37:26,923 \u001b[1;37mINFO\u001b[0m cyclops.utils.profile - Finished executing function process in 5.523217 s\n"
     ]
    },
    {
     "name": "stdout",
     "output_type": "stream",
     "text": [
      "Random Run 2 : Sample 10\n",
      "No GPU detected, fall back on CPU.\n",
      "Shift p-vals:  0.4300000071525574\n",
      "Random Run 2 : Sample 20\n",
      "No GPU detected, fall back on CPU.\n",
      "Shift p-vals:  0.9700000286102295\n",
      "Random Run 2 : Sample 50\n",
      "No GPU detected, fall back on CPU.\n",
      "Shift p-vals:  0.4099999964237213\n",
      "Random Run 2 : Sample 100\n",
      "No GPU detected, fall back on CPU.\n",
      "Shift p-vals:  0.6299999952316284\n",
      "Random Run 2 : Sample 200\n",
      "No GPU detected, fall back on CPU.\n",
      "Shift p-vals:  0.7900000214576721\n",
      "Random Run 2 : Sample 500\n",
      "No GPU detected, fall back on CPU.\n",
      "Shift p-vals:  0.30000001192092896\n",
      "Random Run 2 : Sample 1000\n",
      "No GPU detected, fall back on CPU.\n",
      "Shift p-vals:  0.03999999910593033\n",
      "Random Run 2 : Sample 2000\n",
      "No GPU detected, fall back on CPU.\n"
     ]
    },
    {
     "name": "stderr",
     "output_type": "stream",
     "text": [
      "2022-03-18 09:37:41,309 \u001b[1;37mINFO\u001b[0m cyclops.processors.base - Processing raw admin data...\n",
      "2022-03-18 09:37:41,314 \u001b[1;37mINFO\u001b[0m cyclops.processors.base - # samples: 10756, # encounters: 10756\n",
      "2022-03-18 09:37:41,317 \u001b[1;37mINFO\u001b[0m cyclops.processors.admin - # admin features: 2, # encounters: 10756\n"
     ]
    },
    {
     "name": "stdout",
     "output_type": "stream",
     "text": [
      "Shift p-vals:  0.10000000149011612\n"
     ]
    },
    {
     "name": "stderr",
     "output_type": "stream",
     "text": [
      "2022-03-18 09:37:47,092 \u001b[1;37mINFO\u001b[0m cyclops.utils.profile - Finished executing function process in 5.783580 s\n"
     ]
    },
    {
     "name": "stdout",
     "output_type": "stream",
     "text": [
      "Random Run 3 : Sample 10\n",
      "No GPU detected, fall back on CPU.\n",
      "Shift p-vals:  0.2800000011920929\n",
      "Random Run 3 : Sample 20\n",
      "No GPU detected, fall back on CPU.\n",
      "Shift p-vals:  0.6100000143051147\n",
      "Random Run 3 : Sample 50\n",
      "No GPU detected, fall back on CPU.\n",
      "Shift p-vals:  0.7200000286102295\n",
      "Random Run 3 : Sample 100\n",
      "No GPU detected, fall back on CPU.\n",
      "Shift p-vals:  0.7599999904632568\n",
      "Random Run 3 : Sample 200\n",
      "No GPU detected, fall back on CPU.\n",
      "Shift p-vals:  0.8899999856948853\n",
      "Random Run 3 : Sample 500\n",
      "No GPU detected, fall back on CPU.\n",
      "Shift p-vals:  0.23999999463558197\n",
      "Random Run 3 : Sample 1000\n",
      "No GPU detected, fall back on CPU.\n",
      "Shift p-vals:  0.0\n",
      "Random Run 3 : Sample 2000\n",
      "No GPU detected, fall back on CPU.\n",
      "Shift p-vals:  0.029999999329447746\n"
     ]
    },
    {
     "name": "stderr",
     "output_type": "stream",
     "text": [
      "2022-03-18 09:38:00,948 \u001b[1;37mINFO\u001b[0m cyclops.processors.base - Processing raw admin data...\n",
      "2022-03-18 09:38:00,951 \u001b[1;37mINFO\u001b[0m cyclops.processors.base - # samples: 10756, # encounters: 10756\n",
      "2022-03-18 09:38:00,954 \u001b[1;37mINFO\u001b[0m cyclops.processors.admin - # admin features: 2, # encounters: 10756\n",
      "2022-03-18 09:38:07,321 \u001b[1;37mINFO\u001b[0m cyclops.utils.profile - Finished executing function process in 6.372969 s\n"
     ]
    },
    {
     "name": "stdout",
     "output_type": "stream",
     "text": [
      "Random Run 4 : Sample 10\n",
      "No GPU detected, fall back on CPU.\n",
      "Shift p-vals:  0.44999998807907104\n",
      "Random Run 4 : Sample 20\n",
      "No GPU detected, fall back on CPU.\n",
      "Shift p-vals:  0.8100000023841858\n",
      "Random Run 4 : Sample 50\n",
      "No GPU detected, fall back on CPU.\n",
      "Shift p-vals:  0.5799999833106995\n",
      "Random Run 4 : Sample 100\n",
      "No GPU detected, fall back on CPU.\n",
      "Shift p-vals:  0.5400000214576721\n",
      "Random Run 4 : Sample 200\n",
      "No GPU detected, fall back on CPU.\n",
      "Shift p-vals:  0.5899999737739563\n",
      "Random Run 4 : Sample 500\n",
      "No GPU detected, fall back on CPU.\n",
      "Shift p-vals:  0.4699999988079071\n",
      "Random Run 4 : Sample 1000\n",
      "No GPU detected, fall back on CPU.\n",
      "Shift p-vals:  0.019999999552965164\n",
      "Random Run 4 : Sample 2000\n",
      "No GPU detected, fall back on CPU.\n"
     ]
    },
    {
     "name": "stderr",
     "output_type": "stream",
     "text": [
      "torch.range is deprecated and will be removed in a future release because its behavior is inconsistent with Python's range builtin. Instead, use torch.arange, which produces values in [start, end).\n",
      "2022-03-18 09:38:21,511 \u001b[1;37mINFO\u001b[0m cyclops.processors.base - Processing raw admin data...\n",
      "2022-03-18 09:38:21,515 \u001b[1;37mINFO\u001b[0m cyclops.processors.base - # samples: 10756, # encounters: 10756\n",
      "2022-03-18 09:38:21,518 \u001b[1;37mINFO\u001b[0m cyclops.processors.admin - # admin features: 2, # encounters: 10756\n"
     ]
    },
    {
     "name": "stdout",
     "output_type": "stream",
     "text": [
      "Shift p-vals:  0.15000000596046448\n",
      "Shift covid\n"
     ]
    },
    {
     "name": "stderr",
     "output_type": "stream",
     "text": [
      "2022-03-18 09:38:27,293 \u001b[1;37mINFO\u001b[0m cyclops.utils.profile - Finished executing function process in 5.782751 s\n"
     ]
    },
    {
     "name": "stdout",
     "output_type": "stream",
     "text": [
      "Random Run 0 : Sample 10\n",
      "No GPU detected, fall back on CPU.\n",
      "Shift p-vals:  0.0\n",
      "Random Run 0 : Sample 20\n",
      "No GPU detected, fall back on CPU.\n",
      "Shift p-vals:  0.0\n",
      "Random Run 0 : Sample 50\n",
      "No GPU detected, fall back on CPU.\n",
      "Shift p-vals:  0.0\n",
      "Random Run 0 : Sample 100\n",
      "No GPU detected, fall back on CPU.\n",
      "Shift p-vals:  0.0\n",
      "Random Run 0 : Sample 200\n",
      "No GPU detected, fall back on CPU.\n",
      "Shift p-vals:  0.0\n",
      "Random Run 0 : Sample 500\n",
      "No GPU detected, fall back on CPU.\n",
      "Shift p-vals:  0.0\n",
      "Random Run 0 : Sample 1000\n",
      "No GPU detected, fall back on CPU.\n",
      "Shift p-vals:  0.0\n",
      "Random Run 0 : Sample 2000\n",
      "No GPU detected, fall back on CPU.\n"
     ]
    },
    {
     "name": "stderr",
     "output_type": "stream",
     "text": [
      "2022-03-18 09:38:28,736 \u001b[1;37mINFO\u001b[0m cyclops.processors.base - Processing raw admin data...\n",
      "2022-03-18 09:38:28,740 \u001b[1;37mINFO\u001b[0m cyclops.processors.base - # samples: 10756, # encounters: 10756\n",
      "2022-03-18 09:38:28,743 \u001b[1;37mINFO\u001b[0m cyclops.processors.admin - # admin features: 2, # encounters: 10756\n"
     ]
    },
    {
     "name": "stdout",
     "output_type": "stream",
     "text": [
      "Shift p-vals:  0.0\n"
     ]
    },
    {
     "name": "stderr",
     "output_type": "stream",
     "text": [
      "2022-03-18 09:38:34,277 \u001b[1;37mINFO\u001b[0m cyclops.utils.profile - Finished executing function process in 5.541485 s\n"
     ]
    },
    {
     "name": "stdout",
     "output_type": "stream",
     "text": [
      "Random Run 1 : Sample 10\n",
      "No GPU detected, fall back on CPU.\n",
      "Shift p-vals:  0.0\n",
      "Random Run 1 : Sample 20\n",
      "No GPU detected, fall back on CPU.\n",
      "Shift p-vals:  0.0\n",
      "Random Run 1 : Sample 50\n",
      "No GPU detected, fall back on CPU.\n",
      "Shift p-vals:  0.0\n",
      "Random Run 1 : Sample 100\n",
      "No GPU detected, fall back on CPU.\n",
      "Shift p-vals:  0.0\n",
      "Random Run 1 : Sample 200\n",
      "No GPU detected, fall back on CPU.\n",
      "Shift p-vals:  0.0\n",
      "Random Run 1 : Sample 500\n",
      "No GPU detected, fall back on CPU.\n",
      "Shift p-vals:  0.0\n",
      "Random Run 1 : Sample 1000\n",
      "No GPU detected, fall back on CPU.\n",
      "Shift p-vals:  0.0\n",
      "Random Run 1 : Sample 2000\n",
      "No GPU detected, fall back on CPU.\n",
      "Shift p-vals:  0.0\n"
     ]
    },
    {
     "name": "stderr",
     "output_type": "stream",
     "text": [
      "2022-03-18 09:38:36,287 \u001b[1;37mINFO\u001b[0m cyclops.processors.base - Processing raw admin data...\n",
      "2022-03-18 09:38:36,291 \u001b[1;37mINFO\u001b[0m cyclops.processors.base - # samples: 10756, # encounters: 10756\n",
      "2022-03-18 09:38:36,294 \u001b[1;37mINFO\u001b[0m cyclops.processors.admin - # admin features: 2, # encounters: 10756\n",
      "2022-03-18 09:38:48,147 \u001b[1;37mINFO\u001b[0m cyclops.utils.profile - Finished executing function process in 11.859644 s\n"
     ]
    },
    {
     "name": "stdout",
     "output_type": "stream",
     "text": [
      "Random Run 2 : Sample 10\n",
      "No GPU detected, fall back on CPU.\n",
      "Shift p-vals:  0.029999999329447746\n",
      "Random Run 2 : Sample 20\n",
      "No GPU detected, fall back on CPU.\n",
      "Shift p-vals:  0.75\n",
      "Random Run 2 : Sample 50\n",
      "No GPU detected, fall back on CPU.\n",
      "Shift p-vals:  0.0\n",
      "Random Run 2 : Sample 100\n",
      "No GPU detected, fall back on CPU.\n",
      "Shift p-vals:  0.0\n",
      "Random Run 2 : Sample 200\n",
      "No GPU detected, fall back on CPU.\n",
      "Shift p-vals:  0.0\n",
      "Random Run 2 : Sample 500\n",
      "No GPU detected, fall back on CPU.\n",
      "Shift p-vals:  0.0\n",
      "Random Run 2 : Sample 1000\n",
      "No GPU detected, fall back on CPU.\n",
      "Shift p-vals:  0.0\n",
      "Random Run 2 : Sample 2000\n",
      "No GPU detected, fall back on CPU.\n",
      "Shift p-vals:  0.0\n"
     ]
    },
    {
     "name": "stderr",
     "output_type": "stream",
     "text": [
      "2022-03-18 09:38:51,051 \u001b[1;37mINFO\u001b[0m cyclops.processors.base - Processing raw admin data...\n",
      "2022-03-18 09:38:51,055 \u001b[1;37mINFO\u001b[0m cyclops.processors.base - # samples: 10756, # encounters: 10756\n",
      "2022-03-18 09:38:51,058 \u001b[1;37mINFO\u001b[0m cyclops.processors.admin - # admin features: 2, # encounters: 10756\n",
      "2022-03-18 09:39:03,121 \u001b[1;37mINFO\u001b[0m cyclops.utils.profile - Finished executing function process in 12.068686 s\n"
     ]
    },
    {
     "name": "stdout",
     "output_type": "stream",
     "text": [
      "Random Run 3 : Sample 10\n",
      "No GPU detected, fall back on CPU.\n",
      "Shift p-vals:  0.0\n",
      "Random Run 3 : Sample 20\n",
      "No GPU detected, fall back on CPU.\n",
      "Shift p-vals:  0.0\n",
      "Random Run 3 : Sample 50\n",
      "No GPU detected, fall back on CPU.\n",
      "Shift p-vals:  0.0\n",
      "Random Run 3 : Sample 100\n",
      "No GPU detected, fall back on CPU.\n",
      "Shift p-vals:  0.0\n",
      "Random Run 3 : Sample 200\n",
      "No GPU detected, fall back on CPU.\n",
      "Shift p-vals:  0.0\n",
      "Random Run 3 : Sample 500\n",
      "No GPU detected, fall back on CPU.\n",
      "Shift p-vals:  0.0\n",
      "Random Run 3 : Sample 1000\n",
      "No GPU detected, fall back on CPU.\n",
      "Shift p-vals:  0.0\n",
      "Random Run 3 : Sample 2000\n",
      "No GPU detected, fall back on CPU.\n",
      "Shift p-vals:  0.0\n"
     ]
    },
    {
     "name": "stderr",
     "output_type": "stream",
     "text": [
      "2022-03-18 09:39:06,624 \u001b[1;37mINFO\u001b[0m cyclops.processors.base - Processing raw admin data...\n",
      "2022-03-18 09:39:06,628 \u001b[1;37mINFO\u001b[0m cyclops.processors.base - # samples: 10756, # encounters: 10756\n",
      "2022-03-18 09:39:06,632 \u001b[1;37mINFO\u001b[0m cyclops.processors.admin - # admin features: 2, # encounters: 10756\n",
      "2022-03-18 09:39:18,798 \u001b[1;37mINFO\u001b[0m cyclops.utils.profile - Finished executing function process in 12.172487 s\n"
     ]
    },
    {
     "name": "stdout",
     "output_type": "stream",
     "text": [
      "Random Run 4 : Sample 10\n",
      "No GPU detected, fall back on CPU.\n",
      "Shift p-vals:  0.0\n",
      "Random Run 4 : Sample 20\n",
      "No GPU detected, fall back on CPU.\n",
      "Shift p-vals:  0.0\n",
      "Random Run 4 : Sample 50\n",
      "No GPU detected, fall back on CPU.\n",
      "Shift p-vals:  0.0\n",
      "Random Run 4 : Sample 100\n",
      "No GPU detected, fall back on CPU.\n",
      "Shift p-vals:  0.0\n",
      "Random Run 4 : Sample 200\n",
      "No GPU detected, fall back on CPU.\n",
      "Shift p-vals:  0.0\n",
      "Random Run 4 : Sample 500\n",
      "No GPU detected, fall back on CPU.\n",
      "Shift p-vals:  0.0\n",
      "Random Run 4 : Sample 1000\n",
      "No GPU detected, fall back on CPU.\n",
      "Shift p-vals:  0.0\n",
      "Random Run 4 : Sample 2000\n",
      "No GPU detected, fall back on CPU.\n",
      "Shift p-vals:  0.0\n",
      "Shift covid\n"
     ]
    },
    {
     "name": "stderr",
     "output_type": "stream",
     "text": [
      "torch.range is deprecated and will be removed in a future release because its behavior is inconsistent with Python's range builtin. Instead, use torch.arange, which produces values in [start, end).\n",
      "2022-03-18 09:39:21,908 \u001b[1;37mINFO\u001b[0m cyclops.processors.base - Processing raw admin data...\n",
      "2022-03-18 09:39:21,911 \u001b[1;37mINFO\u001b[0m cyclops.processors.base - # samples: 10756, # encounters: 10756\n",
      "2022-03-18 09:39:21,915 \u001b[1;37mINFO\u001b[0m cyclops.processors.admin - # admin features: 2, # encounters: 10756\n",
      "2022-03-18 09:39:33,811 \u001b[1;37mINFO\u001b[0m cyclops.utils.profile - Finished executing function process in 11.903225 s\n"
     ]
    },
    {
     "name": "stdout",
     "output_type": "stream",
     "text": [
      "Random Run 0 : Sample 10\n",
      "No GPU detected, fall back on CPU.\n",
      "Shift p-vals:  0.05000000074505806\n",
      "Random Run 0 : Sample 20\n",
      "No GPU detected, fall back on CPU.\n",
      "Shift p-vals:  0.3799999952316284\n",
      "Random Run 0 : Sample 50\n",
      "No GPU detected, fall back on CPU.\n",
      "Shift p-vals:  0.6399999856948853\n",
      "Random Run 0 : Sample 100\n",
      "No GPU detected, fall back on CPU.\n",
      "Shift p-vals:  0.3499999940395355\n",
      "Random Run 0 : Sample 200\n",
      "No GPU detected, fall back on CPU.\n",
      "Shift p-vals:  0.9100000262260437\n",
      "Random Run 0 : Sample 500\n",
      "No GPU detected, fall back on CPU.\n",
      "Shift p-vals:  0.6100000143051147\n",
      "Random Run 0 : Sample 1000\n",
      "No GPU detected, fall back on CPU.\n",
      "Shift p-vals:  0.2199999988079071\n",
      "Random Run 0 : Sample 2000\n",
      "No GPU detected, fall back on CPU.\n",
      "Shift p-vals:  0.44999998807907104\n"
     ]
    },
    {
     "name": "stderr",
     "output_type": "stream",
     "text": [
      "2022-03-18 09:40:04,595 \u001b[1;37mINFO\u001b[0m cyclops.processors.base - Processing raw admin data...\n",
      "2022-03-18 09:40:04,600 \u001b[1;37mINFO\u001b[0m cyclops.processors.base - # samples: 10756, # encounters: 10756\n",
      "2022-03-18 09:40:04,603 \u001b[1;37mINFO\u001b[0m cyclops.processors.admin - # admin features: 2, # encounters: 10756\n",
      "2022-03-18 09:40:16,262 \u001b[1;37mINFO\u001b[0m cyclops.utils.profile - Finished executing function process in 11.666995 s\n"
     ]
    },
    {
     "name": "stdout",
     "output_type": "stream",
     "text": [
      "Random Run 1 : Sample 10\n",
      "No GPU detected, fall back on CPU.\n",
      "Shift p-vals:  0.5899999737739563\n",
      "Random Run 1 : Sample 20\n",
      "No GPU detected, fall back on CPU.\n",
      "Shift p-vals:  0.47999998927116394\n",
      "Random Run 1 : Sample 50\n",
      "No GPU detected, fall back on CPU.\n",
      "Shift p-vals:  0.3799999952316284\n",
      "Random Run 1 : Sample 100\n",
      "No GPU detected, fall back on CPU.\n",
      "Shift p-vals:  0.550000011920929\n",
      "Random Run 1 : Sample 200\n",
      "No GPU detected, fall back on CPU.\n",
      "Shift p-vals:  0.7900000214576721\n",
      "Random Run 1 : Sample 500\n",
      "No GPU detected, fall back on CPU.\n",
      "Shift p-vals:  0.46000000834465027\n",
      "Random Run 1 : Sample 1000\n",
      "No GPU detected, fall back on CPU.\n",
      "Shift p-vals:  0.0\n",
      "Random Run 1 : Sample 2000\n",
      "No GPU detected, fall back on CPU.\n",
      "Shift p-vals:  0.0\n"
     ]
    },
    {
     "name": "stderr",
     "output_type": "stream",
     "text": [
      "2022-03-18 09:40:46,311 \u001b[1;37mINFO\u001b[0m cyclops.processors.base - Processing raw admin data...\n",
      "2022-03-18 09:40:46,315 \u001b[1;37mINFO\u001b[0m cyclops.processors.base - # samples: 10756, # encounters: 10756\n",
      "2022-03-18 09:40:46,318 \u001b[1;37mINFO\u001b[0m cyclops.processors.admin - # admin features: 2, # encounters: 10756\n",
      "2022-03-18 09:40:57,640 \u001b[1;37mINFO\u001b[0m cyclops.utils.profile - Finished executing function process in 11.328658 s\n"
     ]
    },
    {
     "name": "stdout",
     "output_type": "stream",
     "text": [
      "Random Run 2 : Sample 10\n",
      "No GPU detected, fall back on CPU.\n",
      "Shift p-vals:  0.28999999165534973\n",
      "Random Run 2 : Sample 20\n",
      "No GPU detected, fall back on CPU.\n",
      "Shift p-vals:  0.9200000166893005\n",
      "Random Run 2 : Sample 50\n",
      "No GPU detected, fall back on CPU.\n",
      "Shift p-vals:  0.38999998569488525\n",
      "Random Run 2 : Sample 100\n",
      "No GPU detected, fall back on CPU.\n",
      "Shift p-vals:  0.5699999928474426\n",
      "Random Run 2 : Sample 200\n",
      "No GPU detected, fall back on CPU.\n",
      "Shift p-vals:  0.6600000262260437\n",
      "Random Run 2 : Sample 500\n",
      "No GPU detected, fall back on CPU.\n",
      "Shift p-vals:  0.3799999952316284\n",
      "Random Run 2 : Sample 1000\n",
      "No GPU detected, fall back on CPU.\n",
      "Shift p-vals:  0.12999999523162842\n",
      "Random Run 2 : Sample 2000\n",
      "No GPU detected, fall back on CPU.\n",
      "Shift p-vals:  0.25\n"
     ]
    },
    {
     "name": "stderr",
     "output_type": "stream",
     "text": [
      "2022-03-18 09:41:27,539 \u001b[1;37mINFO\u001b[0m cyclops.processors.base - Processing raw admin data...\n",
      "2022-03-18 09:41:27,542 \u001b[1;37mINFO\u001b[0m cyclops.processors.base - # samples: 10756, # encounters: 10756\n",
      "2022-03-18 09:41:27,545 \u001b[1;37mINFO\u001b[0m cyclops.processors.admin - # admin features: 2, # encounters: 10756\n",
      "2022-03-18 09:41:38,829 \u001b[1;37mINFO\u001b[0m cyclops.utils.profile - Finished executing function process in 11.289832 s\n"
     ]
    },
    {
     "name": "stdout",
     "output_type": "stream",
     "text": [
      "Random Run 3 : Sample 10\n",
      "No GPU detected, fall back on CPU.\n",
      "Shift p-vals:  0.18000000715255737\n",
      "Random Run 3 : Sample 20\n",
      "No GPU detected, fall back on CPU.\n",
      "Shift p-vals:  0.5\n",
      "Random Run 3 : Sample 50\n",
      "No GPU detected, fall back on CPU.\n",
      "Shift p-vals:  0.8299999833106995\n",
      "Random Run 3 : Sample 100\n",
      "No GPU detected, fall back on CPU.\n",
      "Shift p-vals:  0.6899999976158142\n",
      "Random Run 3 : Sample 200\n",
      "No GPU detected, fall back on CPU.\n",
      "Shift p-vals:  0.6299999952316284\n",
      "Random Run 3 : Sample 500\n",
      "No GPU detected, fall back on CPU.\n",
      "Shift p-vals:  0.3700000047683716\n",
      "Random Run 3 : Sample 1000\n",
      "No GPU detected, fall back on CPU.\n",
      "Shift p-vals:  0.05000000074505806\n",
      "Random Run 3 : Sample 2000\n",
      "No GPU detected, fall back on CPU.\n",
      "Shift p-vals:  0.05000000074505806\n"
     ]
    },
    {
     "name": "stderr",
     "output_type": "stream",
     "text": [
      "2022-03-18 09:42:08,960 \u001b[1;37mINFO\u001b[0m cyclops.processors.base - Processing raw admin data...\n",
      "2022-03-18 09:42:08,964 \u001b[1;37mINFO\u001b[0m cyclops.processors.base - # samples: 10756, # encounters: 10756\n",
      "2022-03-18 09:42:08,967 \u001b[1;37mINFO\u001b[0m cyclops.processors.admin - # admin features: 2, # encounters: 10756\n",
      "2022-03-18 09:42:20,247 \u001b[1;37mINFO\u001b[0m cyclops.utils.profile - Finished executing function process in 11.286746 s\n"
     ]
    },
    {
     "name": "stdout",
     "output_type": "stream",
     "text": [
      "Random Run 4 : Sample 10\n",
      "No GPU detected, fall back on CPU.\n",
      "Shift p-vals:  0.3799999952316284\n",
      "Random Run 4 : Sample 20\n",
      "No GPU detected, fall back on CPU.\n",
      "Shift p-vals:  0.7699999809265137\n",
      "Random Run 4 : Sample 50\n",
      "No GPU detected, fall back on CPU.\n",
      "Shift p-vals:  0.41999998688697815\n",
      "Random Run 4 : Sample 100\n",
      "No GPU detected, fall back on CPU.\n",
      "Shift p-vals:  0.5\n",
      "Random Run 4 : Sample 200\n",
      "No GPU detected, fall back on CPU.\n",
      "Shift p-vals:  0.3700000047683716\n",
      "Random Run 4 : Sample 500\n",
      "No GPU detected, fall back on CPU.\n",
      "Shift p-vals:  0.6700000166893005\n",
      "Random Run 4 : Sample 1000\n",
      "No GPU detected, fall back on CPU.\n",
      "Shift p-vals:  0.07000000029802322\n",
      "Random Run 4 : Sample 2000\n",
      "No GPU detected, fall back on CPU.\n"
     ]
    },
    {
     "name": "stderr",
     "output_type": "stream",
     "text": [
      "torch.range is deprecated and will be removed in a future release because its behavior is inconsistent with Python's range builtin. Instead, use torch.arange, which produces values in [start, end).\n",
      "2022-03-18 09:42:40,327 \u001b[1;37mINFO\u001b[0m cyclops.processors.base - Processing raw admin data...\n",
      "2022-03-18 09:42:40,331 \u001b[1;37mINFO\u001b[0m cyclops.processors.base - # samples: 10756, # encounters: 10756\n",
      "2022-03-18 09:42:40,335 \u001b[1;37mINFO\u001b[0m cyclops.processors.admin - # admin features: 2, # encounters: 10756\n"
     ]
    },
    {
     "name": "stdout",
     "output_type": "stream",
     "text": [
      "Shift p-vals:  0.17000000178813934\n",
      "Shift covid\n"
     ]
    },
    {
     "name": "stderr",
     "output_type": "stream",
     "text": [
      "2022-03-18 09:42:45,887 \u001b[1;37mINFO\u001b[0m cyclops.utils.profile - Finished executing function process in 5.559713 s\n"
     ]
    },
    {
     "name": "stdout",
     "output_type": "stream",
     "text": [
      "Random Run 0 : Sample 10\n",
      "No GPU detected, fall back on CPU.\n",
      "Shift p-vals:  0.15000000596046448\n",
      "Random Run 0 : Sample 20\n",
      "No GPU detected, fall back on CPU.\n",
      "Shift p-vals:  0.9200000166893005\n",
      "Random Run 0 : Sample 50\n",
      "No GPU detected, fall back on CPU.\n",
      "Shift p-vals:  0.6299999952316284\n",
      "Random Run 0 : Sample 100\n",
      "No GPU detected, fall back on CPU.\n",
      "Shift p-vals:  0.47999998927116394\n",
      "Random Run 0 : Sample 200\n",
      "No GPU detected, fall back on CPU.\n",
      "Shift p-vals:  0.8999999761581421\n",
      "Random Run 0 : Sample 500\n",
      "No GPU detected, fall back on CPU.\n",
      "Shift p-vals:  0.4099999964237213\n",
      "Random Run 0 : Sample 1000\n",
      "No GPU detected, fall back on CPU.\n",
      "Shift p-vals:  0.27000001072883606\n",
      "Random Run 0 : Sample 2000\n",
      "No GPU detected, fall back on CPU.\n"
     ]
    },
    {
     "name": "stderr",
     "output_type": "stream",
     "text": [
      "2022-03-18 09:42:47,605 \u001b[1;37mINFO\u001b[0m cyclops.processors.base - Processing raw admin data...\n",
      "2022-03-18 09:42:47,609 \u001b[1;37mINFO\u001b[0m cyclops.processors.base - # samples: 10756, # encounters: 10756\n",
      "2022-03-18 09:42:47,613 \u001b[1;37mINFO\u001b[0m cyclops.processors.admin - # admin features: 2, # encounters: 10756\n"
     ]
    },
    {
     "name": "stdout",
     "output_type": "stream",
     "text": [
      "Shift p-vals:  0.5400000214576721\n"
     ]
    },
    {
     "name": "stderr",
     "output_type": "stream",
     "text": [
      "2022-03-18 09:42:53,126 \u001b[1;37mINFO\u001b[0m cyclops.utils.profile - Finished executing function process in 5.521015 s\n"
     ]
    },
    {
     "name": "stdout",
     "output_type": "stream",
     "text": [
      "Random Run 1 : Sample 10\n",
      "No GPU detected, fall back on CPU.\n",
      "Shift p-vals:  0.28999999165534973\n",
      "Random Run 1 : Sample 20\n",
      "No GPU detected, fall back on CPU.\n",
      "Shift p-vals:  0.4399999976158142\n",
      "Random Run 1 : Sample 50\n",
      "No GPU detected, fall back on CPU.\n",
      "Shift p-vals:  0.6700000166893005\n",
      "Random Run 1 : Sample 100\n",
      "No GPU detected, fall back on CPU.\n",
      "Shift p-vals:  0.3700000047683716\n",
      "Random Run 1 : Sample 200\n",
      "No GPU detected, fall back on CPU.\n",
      "Shift p-vals:  0.7300000190734863\n",
      "Random Run 1 : Sample 500\n",
      "No GPU detected, fall back on CPU.\n",
      "Shift p-vals:  0.41999998688697815\n",
      "Random Run 1 : Sample 1000\n",
      "No GPU detected, fall back on CPU.\n",
      "Shift p-vals:  0.009999999776482582\n",
      "Random Run 1 : Sample 2000\n",
      "No GPU detected, fall back on CPU.\n"
     ]
    },
    {
     "name": "stderr",
     "output_type": "stream",
     "text": [
      "2022-03-18 09:42:54,925 \u001b[1;37mINFO\u001b[0m cyclops.processors.base - Processing raw admin data...\n",
      "2022-03-18 09:42:54,929 \u001b[1;37mINFO\u001b[0m cyclops.processors.base - # samples: 10756, # encounters: 10756\n",
      "2022-03-18 09:42:54,932 \u001b[1;37mINFO\u001b[0m cyclops.processors.admin - # admin features: 2, # encounters: 10756\n"
     ]
    },
    {
     "name": "stdout",
     "output_type": "stream",
     "text": [
      "Shift p-vals:  0.0\n"
     ]
    },
    {
     "name": "stderr",
     "output_type": "stream",
     "text": [
      "2022-03-18 09:43:00,684 \u001b[1;37mINFO\u001b[0m cyclops.utils.profile - Finished executing function process in 5.758954 s\n"
     ]
    },
    {
     "name": "stdout",
     "output_type": "stream",
     "text": [
      "Random Run 2 : Sample 10\n",
      "No GPU detected, fall back on CPU.\n",
      "Shift p-vals:  0.5799999833106995\n",
      "Random Run 2 : Sample 20\n",
      "No GPU detected, fall back on CPU.\n",
      "Shift p-vals:  0.3700000047683716\n",
      "Random Run 2 : Sample 50\n",
      "No GPU detected, fall back on CPU.\n",
      "Shift p-vals:  0.6100000143051147\n",
      "Random Run 2 : Sample 100\n",
      "No GPU detected, fall back on CPU.\n",
      "Shift p-vals:  0.6499999761581421\n",
      "Random Run 2 : Sample 200\n",
      "No GPU detected, fall back on CPU.\n",
      "Shift p-vals:  0.6600000262260437\n",
      "Random Run 2 : Sample 500\n",
      "No GPU detected, fall back on CPU.\n",
      "Shift p-vals:  0.15000000596046448\n",
      "Random Run 2 : Sample 1000\n",
      "No GPU detected, fall back on CPU.\n",
      "Shift p-vals:  0.029999999329447746\n",
      "Random Run 2 : Sample 2000\n",
      "No GPU detected, fall back on CPU.\n"
     ]
    },
    {
     "name": "stderr",
     "output_type": "stream",
     "text": [
      "2022-03-18 09:43:02,432 \u001b[1;37mINFO\u001b[0m cyclops.processors.base - Processing raw admin data...\n",
      "2022-03-18 09:43:02,436 \u001b[1;37mINFO\u001b[0m cyclops.processors.base - # samples: 10756, # encounters: 10756\n",
      "2022-03-18 09:43:02,439 \u001b[1;37mINFO\u001b[0m cyclops.processors.admin - # admin features: 2, # encounters: 10756\n"
     ]
    },
    {
     "name": "stdout",
     "output_type": "stream",
     "text": [
      "Shift p-vals:  0.17000000178813934\n"
     ]
    },
    {
     "name": "stderr",
     "output_type": "stream",
     "text": [
      "2022-03-18 09:43:07,998 \u001b[1;37mINFO\u001b[0m cyclops.utils.profile - Finished executing function process in 5.566329 s\n"
     ]
    },
    {
     "name": "stdout",
     "output_type": "stream",
     "text": [
      "Random Run 3 : Sample 10\n",
      "No GPU detected, fall back on CPU.\n",
      "Shift p-vals:  0.7099999785423279\n",
      "Random Run 3 : Sample 20\n",
      "No GPU detected, fall back on CPU.\n",
      "Shift p-vals:  0.3799999952316284\n",
      "Random Run 3 : Sample 50\n",
      "No GPU detected, fall back on CPU.\n",
      "Shift p-vals:  0.699999988079071\n",
      "Random Run 3 : Sample 100\n",
      "No GPU detected, fall back on CPU.\n",
      "Shift p-vals:  0.6800000071525574\n",
      "Random Run 3 : Sample 200\n",
      "No GPU detected, fall back on CPU.\n",
      "Shift p-vals:  0.6700000166893005\n",
      "Random Run 3 : Sample 500\n",
      "No GPU detected, fall back on CPU.\n",
      "Shift p-vals:  0.5\n",
      "Random Run 3 : Sample 1000\n",
      "No GPU detected, fall back on CPU.\n",
      "Shift p-vals:  0.009999999776482582\n",
      "Random Run 3 : Sample 2000\n",
      "No GPU detected, fall back on CPU.\n"
     ]
    },
    {
     "name": "stderr",
     "output_type": "stream",
     "text": [
      "2022-03-18 09:43:09,717 \u001b[1;37mINFO\u001b[0m cyclops.processors.base - Processing raw admin data...\n",
      "2022-03-18 09:43:09,721 \u001b[1;37mINFO\u001b[0m cyclops.processors.base - # samples: 10756, # encounters: 10756\n",
      "2022-03-18 09:43:09,724 \u001b[1;37mINFO\u001b[0m cyclops.processors.admin - # admin features: 2, # encounters: 10756\n"
     ]
    },
    {
     "name": "stdout",
     "output_type": "stream",
     "text": [
      "Shift p-vals:  0.09000000357627869\n"
     ]
    },
    {
     "name": "stderr",
     "output_type": "stream",
     "text": [
      "2022-03-18 09:43:15,405 \u001b[1;37mINFO\u001b[0m cyclops.utils.profile - Finished executing function process in 5.688461 s\n"
     ]
    },
    {
     "name": "stdout",
     "output_type": "stream",
     "text": [
      "Random Run 4 : Sample 10\n",
      "No GPU detected, fall back on CPU.\n",
      "Shift p-vals:  0.4699999988079071\n",
      "Random Run 4 : Sample 20\n",
      "No GPU detected, fall back on CPU.\n",
      "Shift p-vals:  0.4699999988079071\n",
      "Random Run 4 : Sample 50\n",
      "No GPU detected, fall back on CPU.\n",
      "Shift p-vals:  0.2199999988079071\n",
      "Random Run 4 : Sample 100\n",
      "No GPU detected, fall back on CPU.\n",
      "Shift p-vals:  0.33000001311302185\n",
      "Random Run 4 : Sample 200\n",
      "No GPU detected, fall back on CPU.\n",
      "Shift p-vals:  0.23000000417232513\n",
      "Random Run 4 : Sample 500\n",
      "No GPU detected, fall back on CPU.\n",
      "Shift p-vals:  0.47999998927116394\n",
      "Random Run 4 : Sample 1000\n",
      "No GPU detected, fall back on CPU.\n",
      "Shift p-vals:  0.11999999731779099\n",
      "Random Run 4 : Sample 2000\n",
      "No GPU detected, fall back on CPU.\n"
     ]
    },
    {
     "name": "stderr",
     "output_type": "stream",
     "text": [
      "torch.range is deprecated and will be removed in a future release because its behavior is inconsistent with Python's range builtin. Instead, use torch.arange, which produces values in [start, end).\n",
      "2022-03-18 09:43:17,187 \u001b[1;37mINFO\u001b[0m cyclops.processors.base - Processing raw admin data...\n",
      "2022-03-18 09:43:17,191 \u001b[1;37mINFO\u001b[0m cyclops.processors.base - # samples: 10756, # encounters: 10756\n",
      "2022-03-18 09:43:17,194 \u001b[1;37mINFO\u001b[0m cyclops.processors.admin - # admin features: 2, # encounters: 10756\n"
     ]
    },
    {
     "name": "stdout",
     "output_type": "stream",
     "text": [
      "Shift p-vals:  0.1599999964237213\n",
      "Shift covid\n"
     ]
    },
    {
     "name": "stderr",
     "output_type": "stream",
     "text": [
      "2022-03-18 09:43:22,704 \u001b[1;37mINFO\u001b[0m cyclops.utils.profile - Finished executing function process in 5.516767 s\n"
     ]
    },
    {
     "name": "stdout",
     "output_type": "stream",
     "text": [
      "Random Run 0 : Sample 10\n",
      "No GPU detected, fall back on CPU.\n",
      "Shift p-vals:  0.05999999865889549\n",
      "Random Run 0 : Sample 20\n",
      "No GPU detected, fall back on CPU.\n",
      "Shift p-vals:  0.36000001430511475\n",
      "Random Run 0 : Sample 50\n",
      "No GPU detected, fall back on CPU.\n",
      "Shift p-vals:  0.5899999737739563\n",
      "Random Run 0 : Sample 100\n",
      "No GPU detected, fall back on CPU.\n",
      "Shift p-vals:  0.8100000023841858\n",
      "Random Run 0 : Sample 200\n",
      "No GPU detected, fall back on CPU.\n",
      "Shift p-vals:  0.9700000286102295\n",
      "Random Run 0 : Sample 500\n",
      "No GPU detected, fall back on CPU.\n",
      "Shift p-vals:  0.05000000074505806\n",
      "Random Run 0 : Sample 1000\n",
      "No GPU detected, fall back on CPU.\n",
      "Shift p-vals:  0.2199999988079071\n",
      "Random Run 0 : Sample 2000\n",
      "No GPU detected, fall back on CPU.\n"
     ]
    },
    {
     "name": "stderr",
     "output_type": "stream",
     "text": [
      "2022-03-18 09:43:37,139 \u001b[1;37mINFO\u001b[0m cyclops.processors.base - Processing raw admin data...\n",
      "2022-03-18 09:43:37,144 \u001b[1;37mINFO\u001b[0m cyclops.processors.base - # samples: 10756, # encounters: 10756\n",
      "2022-03-18 09:43:37,147 \u001b[1;37mINFO\u001b[0m cyclops.processors.admin - # admin features: 2, # encounters: 10756\n"
     ]
    },
    {
     "name": "stdout",
     "output_type": "stream",
     "text": [
      "Shift p-vals:  0.6700000166893005\n"
     ]
    },
    {
     "name": "stderr",
     "output_type": "stream",
     "text": [
      "2022-03-18 09:43:42,888 \u001b[1;37mINFO\u001b[0m cyclops.utils.profile - Finished executing function process in 5.749211 s\n"
     ]
    },
    {
     "name": "stdout",
     "output_type": "stream",
     "text": [
      "Random Run 1 : Sample 10\n",
      "No GPU detected, fall back on CPU.\n",
      "Shift p-vals:  0.7400000095367432\n",
      "Random Run 1 : Sample 20\n",
      "No GPU detected, fall back on CPU.\n",
      "Shift p-vals:  0.9599999785423279\n",
      "Random Run 1 : Sample 50\n",
      "No GPU detected, fall back on CPU.\n",
      "Shift p-vals:  0.6399999856948853\n",
      "Random Run 1 : Sample 100\n",
      "No GPU detected, fall back on CPU.\n",
      "Shift p-vals:  0.029999999329447746\n",
      "Random Run 1 : Sample 200\n",
      "No GPU detected, fall back on CPU.\n",
      "Shift p-vals:  0.25\n",
      "Random Run 1 : Sample 500\n",
      "No GPU detected, fall back on CPU.\n",
      "Shift p-vals:  0.14000000059604645\n",
      "Random Run 1 : Sample 1000\n",
      "No GPU detected, fall back on CPU.\n",
      "Shift p-vals:  0.33000001311302185\n",
      "Random Run 1 : Sample 2000\n",
      "No GPU detected, fall back on CPU.\n"
     ]
    },
    {
     "name": "stderr",
     "output_type": "stream",
     "text": [
      "2022-03-18 09:43:57,564 \u001b[1;37mINFO\u001b[0m cyclops.processors.base - Processing raw admin data...\n",
      "2022-03-18 09:43:57,569 \u001b[1;37mINFO\u001b[0m cyclops.processors.base - # samples: 10756, # encounters: 10756\n",
      "2022-03-18 09:43:57,572 \u001b[1;37mINFO\u001b[0m cyclops.processors.admin - # admin features: 2, # encounters: 10756\n"
     ]
    },
    {
     "name": "stdout",
     "output_type": "stream",
     "text": [
      "Shift p-vals:  0.25999999046325684\n"
     ]
    },
    {
     "name": "stderr",
     "output_type": "stream",
     "text": [
      "2022-03-18 09:44:03,037 \u001b[1;37mINFO\u001b[0m cyclops.utils.profile - Finished executing function process in 5.473140 s\n"
     ]
    },
    {
     "name": "stdout",
     "output_type": "stream",
     "text": [
      "Random Run 2 : Sample 10\n",
      "No GPU detected, fall back on CPU.\n",
      "Shift p-vals:  0.20999999344348907\n",
      "Random Run 2 : Sample 20\n",
      "No GPU detected, fall back on CPU.\n",
      "Shift p-vals:  0.9399999976158142\n",
      "Random Run 2 : Sample 50\n",
      "No GPU detected, fall back on CPU.\n",
      "Shift p-vals:  0.10999999940395355\n",
      "Random Run 2 : Sample 100\n",
      "No GPU detected, fall back on CPU.\n",
      "Shift p-vals:  0.009999999776482582\n",
      "Random Run 2 : Sample 200\n",
      "No GPU detected, fall back on CPU.\n",
      "Shift p-vals:  0.9800000190734863\n",
      "Random Run 2 : Sample 500\n",
      "No GPU detected, fall back on CPU.\n",
      "Shift p-vals:  0.14000000059604645\n",
      "Random Run 2 : Sample 1000\n",
      "No GPU detected, fall back on CPU.\n",
      "Shift p-vals:  0.7200000286102295\n",
      "Random Run 2 : Sample 2000\n",
      "No GPU detected, fall back on CPU.\n"
     ]
    },
    {
     "name": "stderr",
     "output_type": "stream",
     "text": [
      "2022-03-18 09:44:17,463 \u001b[1;37mINFO\u001b[0m cyclops.processors.base - Processing raw admin data...\n",
      "2022-03-18 09:44:17,468 \u001b[1;37mINFO\u001b[0m cyclops.processors.base - # samples: 10756, # encounters: 10756\n",
      "2022-03-18 09:44:17,471 \u001b[1;37mINFO\u001b[0m cyclops.processors.admin - # admin features: 2, # encounters: 10756\n"
     ]
    },
    {
     "name": "stdout",
     "output_type": "stream",
     "text": [
      "Shift p-vals:  0.3799999952316284\n"
     ]
    },
    {
     "name": "stderr",
     "output_type": "stream",
     "text": [
      "2022-03-18 09:44:23,792 \u001b[1;37mINFO\u001b[0m cyclops.utils.profile - Finished executing function process in 6.328860 s\n"
     ]
    },
    {
     "name": "stdout",
     "output_type": "stream",
     "text": [
      "Random Run 3 : Sample 10\n",
      "No GPU detected, fall back on CPU.\n",
      "Shift p-vals:  0.17000000178813934\n",
      "Random Run 3 : Sample 20\n",
      "No GPU detected, fall back on CPU.\n",
      "Shift p-vals:  0.46000000834465027\n",
      "Random Run 3 : Sample 50\n",
      "No GPU detected, fall back on CPU.\n",
      "Shift p-vals:  0.8500000238418579\n",
      "Random Run 3 : Sample 100\n",
      "No GPU detected, fall back on CPU.\n",
      "Shift p-vals:  0.17000000178813934\n",
      "Random Run 3 : Sample 200\n",
      "No GPU detected, fall back on CPU.\n",
      "Shift p-vals:  0.9100000262260437\n",
      "Random Run 3 : Sample 500\n",
      "No GPU detected, fall back on CPU.\n",
      "Shift p-vals:  0.8999999761581421\n",
      "Random Run 3 : Sample 1000\n",
      "No GPU detected, fall back on CPU.\n",
      "Shift p-vals:  0.12999999523162842\n",
      "Random Run 3 : Sample 2000\n",
      "No GPU detected, fall back on CPU.\n"
     ]
    },
    {
     "name": "stderr",
     "output_type": "stream",
     "text": [
      "2022-03-18 09:44:38,169 \u001b[1;37mINFO\u001b[0m cyclops.processors.base - Processing raw admin data...\n",
      "2022-03-18 09:44:38,174 \u001b[1;37mINFO\u001b[0m cyclops.processors.base - # samples: 10756, # encounters: 10756\n",
      "2022-03-18 09:44:38,177 \u001b[1;37mINFO\u001b[0m cyclops.processors.admin - # admin features: 2, # encounters: 10756\n"
     ]
    },
    {
     "name": "stdout",
     "output_type": "stream",
     "text": [
      "Shift p-vals:  0.009999999776482582\n"
     ]
    },
    {
     "name": "stderr",
     "output_type": "stream",
     "text": [
      "2022-03-18 09:44:43,981 \u001b[1;37mINFO\u001b[0m cyclops.utils.profile - Finished executing function process in 5.812043 s\n"
     ]
    },
    {
     "name": "stdout",
     "output_type": "stream",
     "text": [
      "Random Run 4 : Sample 10\n",
      "No GPU detected, fall back on CPU.\n",
      "Shift p-vals:  0.6100000143051147\n",
      "Random Run 4 : Sample 20\n",
      "No GPU detected, fall back on CPU.\n",
      "Shift p-vals:  0.6100000143051147\n",
      "Random Run 4 : Sample 50\n",
      "No GPU detected, fall back on CPU.\n",
      "Shift p-vals:  0.800000011920929\n",
      "Random Run 4 : Sample 100\n",
      "No GPU detected, fall back on CPU.\n",
      "Shift p-vals:  0.5\n",
      "Random Run 4 : Sample 200\n",
      "No GPU detected, fall back on CPU.\n",
      "Shift p-vals:  0.8600000143051147\n",
      "Random Run 4 : Sample 500\n",
      "No GPU detected, fall back on CPU.\n",
      "Shift p-vals:  0.800000011920929\n",
      "Random Run 4 : Sample 1000\n",
      "No GPU detected, fall back on CPU.\n",
      "Shift p-vals:  0.20000000298023224\n",
      "Random Run 4 : Sample 2000\n",
      "No GPU detected, fall back on CPU.\n"
     ]
    },
    {
     "name": "stderr",
     "output_type": "stream",
     "text": [
      "torch.range is deprecated and will be removed in a future release because its behavior is inconsistent with Python's range builtin. Instead, use torch.arange, which produces values in [start, end).\n",
      "2022-03-18 09:44:58,462 \u001b[1;37mINFO\u001b[0m cyclops.processors.base - Processing raw admin data...\n",
      "2022-03-18 09:44:58,466 \u001b[1;37mINFO\u001b[0m cyclops.processors.base - # samples: 10756, # encounters: 10756\n",
      "2022-03-18 09:44:58,470 \u001b[1;37mINFO\u001b[0m cyclops.processors.admin - # admin features: 2, # encounters: 10756\n"
     ]
    },
    {
     "name": "stdout",
     "output_type": "stream",
     "text": [
      "Shift p-vals:  0.0\n",
      "Shift covid\n"
     ]
    },
    {
     "name": "stderr",
     "output_type": "stream",
     "text": [
      "2022-03-18 09:45:04,062 \u001b[1;37mINFO\u001b[0m cyclops.utils.profile - Finished executing function process in 5.600496 s\n"
     ]
    },
    {
     "name": "stdout",
     "output_type": "stream",
     "text": [
      "Random Run 0 : Sample 10\n",
      "No GPU detected, fall back on CPU.\n",
      "Shift p-vals:  0.10999999940395355\n",
      "Random Run 0 : Sample 20\n",
      "No GPU detected, fall back on CPU.\n",
      "Shift p-vals:  0.7099999785423279\n",
      "Random Run 0 : Sample 50\n",
      "No GPU detected, fall back on CPU.\n",
      "Shift p-vals:  0.4699999988079071\n",
      "Random Run 0 : Sample 100\n",
      "No GPU detected, fall back on CPU.\n",
      "Shift p-vals:  0.3400000035762787\n",
      "Random Run 0 : Sample 200\n",
      "No GPU detected, fall back on CPU.\n",
      "Shift p-vals:  0.7900000214576721\n",
      "Random Run 0 : Sample 500\n",
      "No GPU detected, fall back on CPU.\n",
      "Shift p-vals:  0.2800000011920929\n",
      "Random Run 0 : Sample 1000\n",
      "No GPU detected, fall back on CPU.\n",
      "Shift p-vals:  0.10999999940395355\n",
      "Random Run 0 : Sample 2000\n",
      "No GPU detected, fall back on CPU.\n"
     ]
    },
    {
     "name": "stderr",
     "output_type": "stream",
     "text": [
      "2022-03-18 09:45:05,619 \u001b[1;37mINFO\u001b[0m cyclops.processors.base - Processing raw admin data...\n",
      "2022-03-18 09:45:05,623 \u001b[1;37mINFO\u001b[0m cyclops.processors.base - # samples: 10756, # encounters: 10756\n",
      "2022-03-18 09:45:05,626 \u001b[1;37mINFO\u001b[0m cyclops.processors.admin - # admin features: 2, # encounters: 10756\n"
     ]
    },
    {
     "name": "stdout",
     "output_type": "stream",
     "text": [
      "Shift p-vals:  0.019999999552965164\n"
     ]
    },
    {
     "name": "stderr",
     "output_type": "stream",
     "text": [
      "2022-03-18 09:45:11,173 \u001b[1;37mINFO\u001b[0m cyclops.utils.profile - Finished executing function process in 5.554929 s\n"
     ]
    },
    {
     "name": "stdout",
     "output_type": "stream",
     "text": [
      "Random Run 1 : Sample 10\n",
      "No GPU detected, fall back on CPU.\n",
      "Shift p-vals:  0.7699999809265137\n",
      "Random Run 1 : Sample 20\n",
      "No GPU detected, fall back on CPU.\n",
      "Shift p-vals:  0.7300000190734863\n",
      "Random Run 1 : Sample 50\n",
      "No GPU detected, fall back on CPU.\n",
      "Shift p-vals:  0.3499999940395355\n",
      "Random Run 1 : Sample 100\n",
      "No GPU detected, fall back on CPU.\n",
      "Shift p-vals:  0.3199999928474426\n",
      "Random Run 1 : Sample 200\n",
      "No GPU detected, fall back on CPU.\n",
      "Shift p-vals:  0.8999999761581421\n",
      "Random Run 1 : Sample 500\n",
      "No GPU detected, fall back on CPU.\n",
      "Shift p-vals:  0.0\n",
      "Random Run 1 : Sample 1000\n",
      "No GPU detected, fall back on CPU.\n",
      "Shift p-vals:  0.0\n",
      "Random Run 1 : Sample 2000\n",
      "No GPU detected, fall back on CPU.\n"
     ]
    },
    {
     "name": "stderr",
     "output_type": "stream",
     "text": [
      "2022-03-18 09:45:12,706 \u001b[1;37mINFO\u001b[0m cyclops.processors.base - Processing raw admin data...\n",
      "2022-03-18 09:45:12,710 \u001b[1;37mINFO\u001b[0m cyclops.processors.base - # samples: 10756, # encounters: 10756\n",
      "2022-03-18 09:45:12,714 \u001b[1;37mINFO\u001b[0m cyclops.processors.admin - # admin features: 2, # encounters: 10756\n"
     ]
    },
    {
     "name": "stdout",
     "output_type": "stream",
     "text": [
      "Shift p-vals:  0.009999999776482582\n"
     ]
    },
    {
     "name": "stderr",
     "output_type": "stream",
     "text": [
      "2022-03-18 09:45:18,399 \u001b[1;37mINFO\u001b[0m cyclops.utils.profile - Finished executing function process in 5.692955 s\n"
     ]
    },
    {
     "name": "stdout",
     "output_type": "stream",
     "text": [
      "Random Run 2 : Sample 10\n",
      "No GPU detected, fall back on CPU.\n",
      "Shift p-vals:  0.6399999856948853\n",
      "Random Run 2 : Sample 20\n",
      "No GPU detected, fall back on CPU.\n",
      "Shift p-vals:  0.6600000262260437\n",
      "Random Run 2 : Sample 50\n",
      "No GPU detected, fall back on CPU.\n",
      "Shift p-vals:  0.9399999976158142\n",
      "Random Run 2 : Sample 100\n",
      "No GPU detected, fall back on CPU.\n",
      "Shift p-vals:  0.18000000715255737\n",
      "Random Run 2 : Sample 200\n",
      "No GPU detected, fall back on CPU.\n",
      "Shift p-vals:  0.9800000190734863\n",
      "Random Run 2 : Sample 500\n",
      "No GPU detected, fall back on CPU.\n",
      "Shift p-vals:  0.9700000286102295\n",
      "Random Run 2 : Sample 1000\n",
      "No GPU detected, fall back on CPU.\n",
      "Shift p-vals:  0.3199999928474426\n",
      "Random Run 2 : Sample 2000\n",
      "No GPU detected, fall back on CPU.\n"
     ]
    },
    {
     "name": "stderr",
     "output_type": "stream",
     "text": [
      "2022-03-18 09:45:19,933 \u001b[1;37mINFO\u001b[0m cyclops.processors.base - Processing raw admin data...\n",
      "2022-03-18 09:45:19,938 \u001b[1;37mINFO\u001b[0m cyclops.processors.base - # samples: 10756, # encounters: 10756\n",
      "2022-03-18 09:45:19,941 \u001b[1;37mINFO\u001b[0m cyclops.processors.admin - # admin features: 2, # encounters: 10756\n"
     ]
    },
    {
     "name": "stdout",
     "output_type": "stream",
     "text": [
      "Shift p-vals:  0.2800000011920929\n"
     ]
    },
    {
     "name": "stderr",
     "output_type": "stream",
     "text": [
      "2022-03-18 09:45:25,691 \u001b[1;37mINFO\u001b[0m cyclops.utils.profile - Finished executing function process in 5.757893 s\n"
     ]
    },
    {
     "name": "stdout",
     "output_type": "stream",
     "text": [
      "Random Run 3 : Sample 10\n",
      "No GPU detected, fall back on CPU.\n",
      "Shift p-vals:  0.3700000047683716\n",
      "Random Run 3 : Sample 20\n",
      "No GPU detected, fall back on CPU.\n",
      "Shift p-vals:  0.5299999713897705\n",
      "Random Run 3 : Sample 50\n",
      "No GPU detected, fall back on CPU.\n",
      "Shift p-vals:  0.41999998688697815\n",
      "Random Run 3 : Sample 100\n",
      "No GPU detected, fall back on CPU.\n",
      "Shift p-vals:  1.0\n",
      "Random Run 3 : Sample 200\n",
      "No GPU detected, fall back on CPU.\n",
      "Shift p-vals:  0.8299999833106995\n",
      "Random Run 3 : Sample 500\n",
      "No GPU detected, fall back on CPU.\n",
      "Shift p-vals:  0.11999999731779099\n",
      "Random Run 3 : Sample 1000\n",
      "No GPU detected, fall back on CPU.\n",
      "Shift p-vals:  0.7200000286102295\n",
      "Random Run 3 : Sample 2000\n",
      "No GPU detected, fall back on CPU.\n"
     ]
    },
    {
     "name": "stderr",
     "output_type": "stream",
     "text": [
      "2022-03-18 09:45:27,221 \u001b[1;37mINFO\u001b[0m cyclops.processors.base - Processing raw admin data...\n",
      "2022-03-18 09:45:27,226 \u001b[1;37mINFO\u001b[0m cyclops.processors.base - # samples: 10756, # encounters: 10756\n",
      "2022-03-18 09:45:27,229 \u001b[1;37mINFO\u001b[0m cyclops.processors.admin - # admin features: 2, # encounters: 10756\n"
     ]
    },
    {
     "name": "stdout",
     "output_type": "stream",
     "text": [
      "Shift p-vals:  0.0\n"
     ]
    },
    {
     "name": "stderr",
     "output_type": "stream",
     "text": [
      "2022-03-18 09:45:33,292 \u001b[1;37mINFO\u001b[0m cyclops.utils.profile - Finished executing function process in 6.071724 s\n"
     ]
    },
    {
     "name": "stdout",
     "output_type": "stream",
     "text": [
      "Random Run 4 : Sample 10\n",
      "No GPU detected, fall back on CPU.\n",
      "Shift p-vals:  0.41999998688697815\n",
      "Random Run 4 : Sample 20\n",
      "No GPU detected, fall back on CPU.\n",
      "Shift p-vals:  0.8199999928474426\n",
      "Random Run 4 : Sample 50\n",
      "No GPU detected, fall back on CPU.\n",
      "Shift p-vals:  0.009999999776482582\n",
      "Random Run 4 : Sample 100\n",
      "No GPU detected, fall back on CPU.\n",
      "Shift p-vals:  0.6800000071525574\n",
      "Random Run 4 : Sample 200\n",
      "No GPU detected, fall back on CPU.\n",
      "Shift p-vals:  0.8700000047683716\n",
      "Random Run 4 : Sample 500\n",
      "No GPU detected, fall back on CPU.\n",
      "Shift p-vals:  0.6000000238418579\n",
      "Random Run 4 : Sample 1000\n",
      "No GPU detected, fall back on CPU.\n",
      "Shift p-vals:  0.33000001311302185\n",
      "Random Run 4 : Sample 2000\n",
      "No GPU detected, fall back on CPU.\n",
      "Shift p-vals:  0.23000000417232513\n"
     ]
    },
    {
     "data": {
      "application/javascript": [
       "\n",
       "            setTimeout(function() {\n",
       "                var nbb_cell_id = 27;\n",
       "                var nbb_unformatted_code = \"times = [\\\"pre-covid\\\", \\\"covid\\\"]\\nmean_dr_md = np.ones((len(times), len(dr_techniques), len(md_tests), len(samples))) * (\\n    -1\\n)\\nstd_dr_md = np.ones((len(times), len(dr_techniques), len(md_tests), len(samples))) * (\\n    -1\\n)\\n\\nfor ti, time in enumerate(times):\\n    for di, dr_technique in enumerate(dr_techniques):\\n        for mi, md_test in enumerate(md_tests):\\n            mean_p_vals, std_p_vals = run_shift_experiment(\\n                time,\\n                path,\\n                dr_technique,\\n                md_test,\\n                samples,\\n                dataset,\\n                sign_level,\\n                na_cutoff,\\n                features,\\n                random_runs,\\n                calc_acc=True,\\n            )\\n            mean_dr_md[ti, di, mi, :] = mean_p_vals\\n            std_dr_md[ti, di, mi, :] = std_p_vals\";\n",
       "                var nbb_formatted_code = \"times = [\\\"pre-covid\\\", \\\"covid\\\"]\\nmean_dr_md = np.ones((len(times), len(dr_techniques), len(md_tests), len(samples))) * (\\n    -1\\n)\\nstd_dr_md = np.ones((len(times), len(dr_techniques), len(md_tests), len(samples))) * (\\n    -1\\n)\\n\\nfor ti, time in enumerate(times):\\n    for di, dr_technique in enumerate(dr_techniques):\\n        for mi, md_test in enumerate(md_tests):\\n            mean_p_vals, std_p_vals = run_shift_experiment(\\n                time,\\n                path,\\n                dr_technique,\\n                md_test,\\n                samples,\\n                dataset,\\n                sign_level,\\n                na_cutoff,\\n                features,\\n                random_runs,\\n                calc_acc=True,\\n            )\\n            mean_dr_md[ti, di, mi, :] = mean_p_vals\\n            std_dr_md[ti, di, mi, :] = std_p_vals\";\n",
       "                var nbb_cells = Jupyter.notebook.get_cells();\n",
       "                for (var i = 0; i < nbb_cells.length; ++i) {\n",
       "                    if (nbb_cells[i].input_prompt_number == nbb_cell_id) {\n",
       "                        if (nbb_cells[i].get_text() == nbb_unformatted_code) {\n",
       "                             nbb_cells[i].set_text(nbb_formatted_code);\n",
       "                        }\n",
       "                        break;\n",
       "                    }\n",
       "                }\n",
       "            }, 500);\n",
       "            "
      ],
      "text/plain": [
       "<IPython.core.display.Javascript object>"
      ]
     },
     "metadata": {},
     "output_type": "display_data"
    }
   ],
   "source": [
    "times = [\"pre-covid\", \"covid\"]\n",
    "mean_dr_md = np.ones((len(times), len(dr_techniques), len(md_tests), len(samples))) * (\n",
    "    -1\n",
    ")\n",
    "std_dr_md = np.ones((len(times), len(dr_techniques), len(md_tests), len(samples))) * (\n",
    "    -1\n",
    ")\n",
    "\n",
    "for ti, time in enumerate(times):\n",
    "    for di, dr_technique in enumerate(dr_techniques):\n",
    "        for mi, md_test in enumerate(md_tests):\n",
    "            mean_p_vals, std_p_vals = run_shift_experiment(\n",
    "                time,\n",
    "                path,\n",
    "                dr_technique,\n",
    "                md_test,\n",
    "                samples,\n",
    "                dataset,\n",
    "                sign_level,\n",
    "                na_cutoff,\n",
    "                features,\n",
    "                random_runs,\n",
    "                calc_acc=True,\n",
    "            )\n",
    "            mean_dr_md[ti, di, mi, :] = mean_p_vals\n",
    "            std_dr_md[ti, di, mi, :] = std_p_vals"
   ]
  },
  {
   "cell_type": "code",
   "execution_count": 28,
   "id": "specialized-founder",
   "metadata": {},
   "outputs": [
    {
     "data": {
      "image/png": "[encoded data removed]",
      "text/plain": [
       "<Figure size 792x576 with 1 Axes>"
      ]
     },
     "metadata": {
      "needs_background": "light"
     },
     "output_type": "display_data"
    },
    {
     "data": {
      "application/javascript": [
       "\n",
       "            setTimeout(function() {\n",
       "                var nbb_cell_id = 28;\n",
       "                var nbb_unformatted_code = \"fig = plt.figure(figsize=(11, 8))\\nfor ti, time in enumerate(times):\\n    for di, dr_technique in enumerate(dr_techniques):\\n        for mi, md_test in enumerate(md_tests):\\n            if di == 0 and mi == 1:\\n                errorfill(\\n                    np.array(samples),\\n                    mean_dr_md[ti, di, mi, :],\\n                    std_dr_md[ti, di, mi, :],\\n                    fmt=linestyles[mi] + markers[mi],\\n                    color=colorscale(colors[ti], brightness[di]),\\n                    label=\\\"%s\\\" % \\\"_\\\".join([time, dr_technique, md_test]),\\n                )\\nplt.xlabel(\\\"Number of samples from test\\\")\\nplt.ylabel(\\\"$p$-value\\\")\\nplt.axhline(y=sign_level, color=\\\"k\\\")\\nplt.legend()\\nplt.show()\";\n",
       "                var nbb_formatted_code = \"fig = plt.figure(figsize=(11, 8))\\nfor ti, time in enumerate(times):\\n    for di, dr_technique in enumerate(dr_techniques):\\n        for mi, md_test in enumerate(md_tests):\\n            if di == 0 and mi == 1:\\n                errorfill(\\n                    np.array(samples),\\n                    mean_dr_md[ti, di, mi, :],\\n                    std_dr_md[ti, di, mi, :],\\n                    fmt=linestyles[mi] + markers[mi],\\n                    color=colorscale(colors[ti], brightness[di]),\\n                    label=\\\"%s\\\" % \\\"_\\\".join([time, dr_technique, md_test]),\\n                )\\nplt.xlabel(\\\"Number of samples from test\\\")\\nplt.ylabel(\\\"$p$-value\\\")\\nplt.axhline(y=sign_level, color=\\\"k\\\")\\nplt.legend()\\nplt.show()\";\n",
       "                var nbb_cells = Jupyter.notebook.get_cells();\n",
       "                for (var i = 0; i < nbb_cells.length; ++i) {\n",
       "                    if (nbb_cells[i].input_prompt_number == nbb_cell_id) {\n",
       "                        if (nbb_cells[i].get_text() == nbb_unformatted_code) {\n",
       "                             nbb_cells[i].set_text(nbb_formatted_code);\n",
       "                        }\n",
       "                        break;\n",
       "                    }\n",
       "                }\n",
       "            }, 500);\n",
       "            "
      ],
      "text/plain": [
       "<IPython.core.display.Javascript object>"
      ]
     },
     "metadata": {},
     "output_type": "display_data"
    }
   ],
   "source": [
    "fig = plt.figure(figsize=(11, 8))\n",
    "for ti, time in enumerate(times):\n",
    "    for di, dr_technique in enumerate(dr_techniques):\n",
    "        for mi, md_test in enumerate(md_tests):\n",
    "            if di == 0 and mi == 1:\n",
    "                errorfill(\n",
    "                    np.array(samples),\n",
    "                    mean_dr_md[ti, di, mi, :],\n",
    "                    std_dr_md[ti, di, mi, :],\n",
    "                    fmt=linestyles[mi] + markers[mi],\n",
    "                    color=colorscale(colors[ti], brightness[di]),\n",
    "                    label=\"%s\" % \"_\".join([time, dr_technique, md_test]),\n",
    "                )\n",
    "plt.xlabel(\"Number of samples from test\")\n",
    "plt.ylabel(\"$p$-value\")\n",
    "plt.axhline(y=sign_level, color=\"k\")\n",
    "plt.legend()\n",
    "plt.show()"
   ]
  },
  {
   "cell_type": "code",
   "execution_count": 1,
   "id": "military-produce",
   "metadata": {},
   "outputs": [],
   "source": [
    "# this takes a minute or two since we are explaining over 30 thousand samples in a model with over a thousand trees\n",
    "explainer = shap.TreeExplainer(model)\n",
    "shap_values = explainer.shap_values(X)"
   ]
  },
  {
   "cell_type": "code",
   "execution_count": null,
   "id": "electric-methodology",
   "metadata": {},
   "outputs": [],
   "source": [
    "shap.force_plot(explainer.expected_value, shap_values[:1000,:], X_display.iloc[:1000,:])"
   ]
  },
  {
   "cell_type": "code",
   "execution_count": null,
   "id": "tracked-affect",
   "metadata": {},
   "outputs": [],
   "source": [
    "shap.summary_plot(shap_values, X_display, plot_type=\"bar\")"
   ]
  },
  {
   "cell_type": "code",
   "execution_count": null,
   "id": "wicked-pencil",
   "metadata": {},
   "outputs": [],
   "source": [
    "shap.summary_plot(shap_values, X)"
   ]
  }
 ],
 "metadata": {
  "kernelspec": {
   "display_name": "vector_delirium",
   "language": "python",
   "name": "vector_delirium"
  },
  "language_info": {
   "codemirror_mode": {
    "name": "ipython",
    "version": 3
   },
   "file_extension": ".py",
   "mimetype": "text/x-python",
   "name": "python",
   "nbconvert_exporter": "python",
   "pygments_lexer": "ipython3",
   "version": "3.8.5"
  }
 },
 "nbformat": 4,
 "nbformat_minor": 5
}
