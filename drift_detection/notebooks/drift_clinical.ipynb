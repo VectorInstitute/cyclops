{
 "cells": [
  {
   "cell_type": "code",
   "execution_count": 85,
   "id": "6b553ccb-04dc-4516-a838-c3f3e3d4fc97",
   "metadata": {},
   "outputs": [],
   "source": [
    "import sys\n",
    "import pandas as pd\n",
    "import numpy as np\n",
    "import os\n",
    "from functools import reduce\n",
    "import datetime\n",
    "import pickle\n",
    "import matplotlib.pyplot as plt\n",
    "from sklearn.metrics import (\n",
    "    auc,\n",
    "    accuracy_score,\n",
    "    confusion_matrix,\n",
    "    roc_auc_score,\n",
    "    roc_curve,\n",
    "    precision_recall_curve,\n",
    "    average_precision_score,\n",
    ")\n",
    "\n",
    "sys.path.append(\"..\")\n",
    "\n",
    "from cyclops.feature_handler import FeatureHandler\n",
    "from drift_detector.explainer import ShiftExplainer\n",
    "from experiments import *\n",
    "from utils.constants import *\n",
    "from utils.plot_utils import errorfill, plot_roc, plot_pr, linestyles, markers, colors, brightness, colorscale\n",
    "from utils.utils import run_shift_experiment, get_gemini_data, import_dataset_hospital, get_dataset_hospital\n",
    "from baseline_models.static.utils import run_model"
   ]
  },
  {
   "cell_type": "markdown",
   "id": "renewable-mortgage",
   "metadata": {},
   "source": [
    "# Config Parameters #"
   ]
  },
  {
   "cell_type": "code",
   "execution_count": 86,
   "id": "hourly-insider",
   "metadata": {},
   "outputs": [],
   "source": [
    "PATH = \"/mnt/nfs/project/delirium/drift_exp/JULY-04-2022\"\n",
    "DATASET = \"gemini\"\n",
    "SAMPLES = [10, 20, 50, 100, 200, 500, 1000]\n",
    "RANDOM_RUNS = 5\n",
    "SIGN_LEVEL = 0.05\n",
    "CALC_ACC = True\n",
    "TIMESTEPS = 6\n",
    "AGGREGATION_TYPE = \"mean\"\n",
    "SCALE=\"scale\"\n",
    "DR_TECHNIQUES = [\"NoRed\",\"SRP\", \"PCA\", \"kPCA\", \"Isomap\",\"BBSDs_FFNN\"]\n",
    "MD_TESTS = [\"LSDD\", \"MMD\", \"LK\",\"Classifier\"]"
   ]
  },
  {
   "cell_type": "markdown",
   "id": "ee047a8c-392e-46c5-8877-37aa9ca4fc15",
   "metadata": {},
   "source": [
    "# Query Data"
   ]
  },
  {
   "cell_type": "code",
   "execution_count": 63,
   "id": "7651e075-3673-44ec-9196-bf9bee056cfd",
   "metadata": {},
   "outputs": [
    {
     "name": "stderr",
     "output_type": "stream",
     "text": [
      "2022-07-05 17:14:08,302 \u001b[1;37mINFO\u001b[0m cyclops.utils.file - Loading dataframe to /mnt/nfs/project/delirium/drift_exp/JULY-04-2022/aggregated_events.parquet\n"
     ]
    },
    {
     "name": "stdout",
     "output_type": "stream",
     "text": [
      "Load data from aggregated events...\n"
     ]
    },
    {
     "name": "stderr",
     "output_type": "stream",
     "text": [
      "2022-07-05 17:14:08,590 \u001b[1;37mINFO\u001b[0m cyclops.utils.file - Loading dataframe to /mnt/nfs/project/delirium/drift_exp/JULY-04-2022/aggmeta_start_ts.parquet\n",
      "2022-07-05 17:14:08,694 \u001b[1;37mINFO\u001b[0m cyclops.feature_handler - Loading features from file...\n",
      "2022-07-05 17:14:08,698 \u001b[1;37mINFO\u001b[0m cyclops.feature_handler - Found file to load for static features...\n",
      "2022-07-05 17:14:08,700 \u001b[1;37mINFO\u001b[0m cyclops.feature_handler - Successfully loaded static features from file...\n",
      "2022-07-05 17:14:08,727 \u001b[1;37mINFO\u001b[0m cyclops.feature_handler - Found file to load for temporal features...\n"
     ]
    },
    {
     "name": "stdout",
     "output_type": "stream",
     "text": [
      "Load data from feature handler...\n"
     ]
    },
    {
     "name": "stderr",
     "output_type": "stream",
     "text": [
      "2022-07-05 17:14:13,491 \u001b[1;37mINFO\u001b[0m cyclops.feature_handler - Successfully loaded temporal features from file...\n"
     ]
    },
    {
     "name": "stdout",
     "output_type": "stream",
     "text": [
      "Load data from admin data...\n"
     ]
    },
    {
     "name": "stderr",
     "output_type": "stream",
     "text": [
      "2022-07-05 17:14:21,905 \u001b[1;37mINFO\u001b[0m cyclops.utils.file - Loading dataframe to /mnt/nfs/project/delirium/drift_exp/JULY-04-2022/aggmeta_end_ts.parquet\n"
     ]
    }
   ],
   "source": [
    "admin_data, x, y = get_gemini_data(PATH)"
   ]
  },
  {
   "cell_type": "markdown",
   "id": "typical-angola",
   "metadata": {},
   "source": [
    "# Input Parameters #"
   ]
  },
  {
   "cell_type": "code",
   "execution_count": 64,
   "id": "308b97d6-7ec6-4825-aad0-59370c7bf44b",
   "metadata": {},
   "outputs": [
    {
     "name": "stdin",
     "output_type": "stream",
     "text": [
      "Select experiment:  covid\n",
      "Select outcome variable:  mortality\n",
      "Select hospital:  SMH\n"
     ]
    }
   ],
   "source": [
    "SHIFT = input(\"Select experiment: \")  # covid,seasonal,hosp_type\n",
    "OUTCOME = input(\"Select outcome variable: \") # mortality\n",
    "if SHIFT != \"hosp_type\":\n",
    "    HOSPITAL = input(\"Select hospital: \") # SMH,MSH,THPC,THPM,UHNTG,UHNTW,PMH\n",
    "    HOSPITAL = HOSPITAL.split(',')\n",
    "\n",
    "if SHIFT == \"covid\":\n",
    "    EXPERIMENTS = [\"pre-covid\", \"covid\"]\n",
    "\n",
    "if SHIFT == \"seasonal\":\n",
    "    EXPERIMENTS = [\"summer\", \"winter\", \"seasonal\"]\n",
    "\n",
    "if SHIFT == \"hosp_type\":\n",
    "    EXPERIMENTS = [\"academic\", \"community\", \"hosp_type\"]\n",
    "    HOSPITAL = [\"SMH\"]\n"
   ]
  },
  {
   "cell_type": "markdown",
   "id": "tropical-switch",
   "metadata": {},
   "source": [
    "# Drift Tests #"
   ]
  },
  {
   "cell_type": "code",
   "execution_count": 68,
   "id": "55c38f08-0878-416c-b8fa-1c966728041e",
   "metadata": {},
   "outputs": [
    {
     "name": "stderr",
     "output_type": "stream",
     "text": [
      "2022-07-05 17:16:12,322 \u001b[1;37mINFO\u001b[0m cyclops.feature_handler - Loading features from file...\n",
      "2022-07-05 17:16:12,324 \u001b[1;37mINFO\u001b[0m cyclops.feature_handler - Found file to load for static features...\n",
      "2022-07-05 17:16:12,325 \u001b[1;37mINFO\u001b[0m cyclops.feature_handler - Successfully loaded static features from file...\n",
      "2022-07-05 17:16:12,355 \u001b[1;37mINFO\u001b[0m cyclops.feature_handler - Found file to load for temporal features...\n"
     ]
    },
    {
     "name": "stdout",
     "output_type": "stream",
     "text": [
      "pre-covid | ['SMH'] | NoRed | LSDD\n"
     ]
    },
    {
     "name": "stderr",
     "output_type": "stream",
     "text": [
      "2022-07-05 17:16:17,171 \u001b[1;37mINFO\u001b[0m cyclops.feature_handler - Successfully loaded temporal features from file...\n",
      "2022-07-05 17:16:20,203 \u001b[1;37mINFO\u001b[0m cyclops.feature_handler - Loading features from file...\n",
      "2022-07-05 17:16:20,207 \u001b[1;37mINFO\u001b[0m cyclops.feature_handler - Found file to load for static features...\n",
      "2022-07-05 17:16:20,210 \u001b[1;37mINFO\u001b[0m cyclops.feature_handler - Successfully loaded static features from file...\n",
      "2022-07-05 17:16:20,243 \u001b[1;37mINFO\u001b[0m cyclops.feature_handler - Found file to load for temporal features...\n"
     ]
    },
    {
     "name": "stdout",
     "output_type": "stream",
     "text": [
      "pre-covid | ['SMH'] | NoRed | MMD\n"
     ]
    },
    {
     "name": "stderr",
     "output_type": "stream",
     "text": [
      "2022-07-05 17:16:25,051 \u001b[1;37mINFO\u001b[0m cyclops.feature_handler - Successfully loaded temporal features from file...\n",
      "2022-07-05 17:16:28,362 \u001b[1;37mINFO\u001b[0m cyclops.feature_handler - Loading features from file...\n",
      "2022-07-05 17:16:28,364 \u001b[1;37mINFO\u001b[0m cyclops.feature_handler - Found file to load for static features...\n",
      "2022-07-05 17:16:28,367 \u001b[1;37mINFO\u001b[0m cyclops.feature_handler - Successfully loaded static features from file...\n",
      "2022-07-05 17:16:28,395 \u001b[1;37mINFO\u001b[0m cyclops.feature_handler - Found file to load for temporal features...\n"
     ]
    },
    {
     "name": "stdout",
     "output_type": "stream",
     "text": [
      "pre-covid | ['SMH'] | NoRed | LK\n"
     ]
    },
    {
     "name": "stderr",
     "output_type": "stream",
     "text": [
      "2022-07-05 17:16:33,234 \u001b[1;37mINFO\u001b[0m cyclops.feature_handler - Successfully loaded temporal features from file...\n",
      "2022-07-05 17:16:40,804 \u001b[1;37mINFO\u001b[0m cyclops.feature_handler - Loading features from file...\n",
      "2022-07-05 17:16:40,808 \u001b[1;37mINFO\u001b[0m cyclops.feature_handler - Found file to load for static features...\n",
      "2022-07-05 17:16:40,809 \u001b[1;37mINFO\u001b[0m cyclops.feature_handler - Successfully loaded static features from file...\n",
      "2022-07-05 17:16:40,838 \u001b[1;37mINFO\u001b[0m cyclops.feature_handler - Found file to load for temporal features...\n"
     ]
    },
    {
     "name": "stdout",
     "output_type": "stream",
     "text": [
      "pre-covid | ['SMH'] | NoRed | Classifier\n"
     ]
    },
    {
     "name": "stderr",
     "output_type": "stream",
     "text": [
      "2022-07-05 17:16:45,626 \u001b[1;37mINFO\u001b[0m cyclops.feature_handler - Successfully loaded temporal features from file...\n",
      "2022-07-05 17:16:49,726 \u001b[1;37mINFO\u001b[0m cyclops.feature_handler - Loading features from file...\n",
      "2022-07-05 17:16:49,727 \u001b[1;37mINFO\u001b[0m cyclops.feature_handler - Found file to load for static features...\n",
      "2022-07-05 17:16:49,733 \u001b[1;37mINFO\u001b[0m cyclops.feature_handler - Successfully loaded static features from file...\n",
      "2022-07-05 17:16:49,764 \u001b[1;37mINFO\u001b[0m cyclops.feature_handler - Found file to load for temporal features...\n"
     ]
    },
    {
     "name": "stdout",
     "output_type": "stream",
     "text": [
      "pre-covid | ['SMH'] | SRP | LSDD\n"
     ]
    },
    {
     "name": "stderr",
     "output_type": "stream",
     "text": [
      "2022-07-05 17:16:54,569 \u001b[1;37mINFO\u001b[0m cyclops.feature_handler - Successfully loaded temporal features from file...\n",
      "2022-07-05 17:16:57,900 \u001b[1;37mINFO\u001b[0m cyclops.feature_handler - Loading features from file...\n",
      "2022-07-05 17:16:57,901 \u001b[1;37mINFO\u001b[0m cyclops.feature_handler - Found file to load for static features...\n",
      "2022-07-05 17:16:57,904 \u001b[1;37mINFO\u001b[0m cyclops.feature_handler - Successfully loaded static features from file...\n",
      "2022-07-05 17:16:57,932 \u001b[1;37mINFO\u001b[0m cyclops.feature_handler - Found file to load for temporal features...\n"
     ]
    },
    {
     "name": "stdout",
     "output_type": "stream",
     "text": [
      "pre-covid | ['SMH'] | SRP | MMD\n"
     ]
    },
    {
     "name": "stderr",
     "output_type": "stream",
     "text": [
      "2022-07-05 17:17:02,737 \u001b[1;37mINFO\u001b[0m cyclops.feature_handler - Successfully loaded temporal features from file...\n",
      "2022-07-05 17:17:07,111 \u001b[1;37mINFO\u001b[0m cyclops.feature_handler - Loading features from file...\n",
      "2022-07-05 17:17:07,116 \u001b[1;37mINFO\u001b[0m cyclops.feature_handler - Found file to load for static features...\n",
      "2022-07-05 17:17:07,119 \u001b[1;37mINFO\u001b[0m cyclops.feature_handler - Successfully loaded static features from file...\n",
      "2022-07-05 17:17:07,152 \u001b[1;37mINFO\u001b[0m cyclops.feature_handler - Found file to load for temporal features...\n"
     ]
    },
    {
     "name": "stdout",
     "output_type": "stream",
     "text": [
      "pre-covid | ['SMH'] | SRP | LK\n"
     ]
    },
    {
     "name": "stderr",
     "output_type": "stream",
     "text": [
      "2022-07-05 17:17:11,980 \u001b[1;37mINFO\u001b[0m cyclops.feature_handler - Successfully loaded temporal features from file...\n",
      "2022-07-05 17:17:19,964 \u001b[1;37mINFO\u001b[0m cyclops.feature_handler - Loading features from file...\n",
      "2022-07-05 17:17:19,966 \u001b[1;37mINFO\u001b[0m cyclops.feature_handler - Found file to load for static features...\n",
      "2022-07-05 17:17:19,967 \u001b[1;37mINFO\u001b[0m cyclops.feature_handler - Successfully loaded static features from file...\n",
      "2022-07-05 17:17:19,995 \u001b[1;37mINFO\u001b[0m cyclops.feature_handler - Found file to load for temporal features...\n"
     ]
    },
    {
     "name": "stdout",
     "output_type": "stream",
     "text": [
      "pre-covid | ['SMH'] | SRP | Classifier\n"
     ]
    },
    {
     "name": "stderr",
     "output_type": "stream",
     "text": [
      "2022-07-05 17:17:24,763 \u001b[1;37mINFO\u001b[0m cyclops.feature_handler - Successfully loaded temporal features from file...\n",
      "2022-07-05 17:17:28,819 \u001b[1;37mINFO\u001b[0m cyclops.feature_handler - Loading features from file...\n",
      "2022-07-05 17:17:28,821 \u001b[1;37mINFO\u001b[0m cyclops.feature_handler - Found file to load for static features...\n",
      "2022-07-05 17:17:28,823 \u001b[1;37mINFO\u001b[0m cyclops.feature_handler - Successfully loaded static features from file...\n",
      "2022-07-05 17:17:28,851 \u001b[1;37mINFO\u001b[0m cyclops.feature_handler - Found file to load for temporal features...\n"
     ]
    },
    {
     "name": "stdout",
     "output_type": "stream",
     "text": [
      "pre-covid | ['SMH'] | PCA | LSDD\n"
     ]
    },
    {
     "name": "stderr",
     "output_type": "stream",
     "text": [
      "2022-07-05 17:17:33,643 \u001b[1;37mINFO\u001b[0m cyclops.feature_handler - Successfully loaded temporal features from file...\n",
      "2022-07-05 17:17:37,297 \u001b[1;37mINFO\u001b[0m cyclops.feature_handler - Loading features from file...\n",
      "2022-07-05 17:17:37,302 \u001b[1;37mINFO\u001b[0m cyclops.feature_handler - Found file to load for static features...\n",
      "2022-07-05 17:17:37,305 \u001b[1;37mINFO\u001b[0m cyclops.feature_handler - Successfully loaded static features from file...\n",
      "2022-07-05 17:17:37,337 \u001b[1;37mINFO\u001b[0m cyclops.feature_handler - Found file to load for temporal features...\n"
     ]
    },
    {
     "name": "stdout",
     "output_type": "stream",
     "text": [
      "pre-covid | ['SMH'] | PCA | MMD\n"
     ]
    },
    {
     "name": "stderr",
     "output_type": "stream",
     "text": [
      "2022-07-05 17:17:42,153 \u001b[1;37mINFO\u001b[0m cyclops.feature_handler - Successfully loaded temporal features from file...\n",
      "2022-07-05 17:17:47,272 \u001b[1;37mINFO\u001b[0m cyclops.feature_handler - Loading features from file...\n",
      "2022-07-05 17:17:47,274 \u001b[1;37mINFO\u001b[0m cyclops.feature_handler - Found file to load for static features...\n",
      "2022-07-05 17:17:47,277 \u001b[1;37mINFO\u001b[0m cyclops.feature_handler - Successfully loaded static features from file...\n",
      "2022-07-05 17:17:47,318 \u001b[1;37mINFO\u001b[0m cyclops.feature_handler - Found file to load for temporal features...\n"
     ]
    },
    {
     "name": "stdout",
     "output_type": "stream",
     "text": [
      "pre-covid | ['SMH'] | PCA | LK\n"
     ]
    },
    {
     "name": "stderr",
     "output_type": "stream",
     "text": [
      "2022-07-05 17:17:52,113 \u001b[1;37mINFO\u001b[0m cyclops.feature_handler - Successfully loaded temporal features from file...\n",
      "2022-07-05 17:18:01,005 \u001b[1;37mINFO\u001b[0m cyclops.feature_handler - Loading features from file...\n",
      "2022-07-05 17:18:01,007 \u001b[1;37mINFO\u001b[0m cyclops.feature_handler - Found file to load for static features...\n",
      "2022-07-05 17:18:01,009 \u001b[1;37mINFO\u001b[0m cyclops.feature_handler - Successfully loaded static features from file...\n",
      "2022-07-05 17:18:01,039 \u001b[1;37mINFO\u001b[0m cyclops.feature_handler - Found file to load for temporal features...\n"
     ]
    },
    {
     "name": "stdout",
     "output_type": "stream",
     "text": [
      "pre-covid | ['SMH'] | PCA | Classifier\n"
     ]
    },
    {
     "name": "stderr",
     "output_type": "stream",
     "text": [
      "2022-07-05 17:18:05,801 \u001b[1;37mINFO\u001b[0m cyclops.feature_handler - Successfully loaded temporal features from file...\n",
      "2022-07-05 17:18:10,803 \u001b[1;37mINFO\u001b[0m cyclops.feature_handler - Loading features from file...\n",
      "2022-07-05 17:18:10,808 \u001b[1;37mINFO\u001b[0m cyclops.feature_handler - Found file to load for static features...\n",
      "2022-07-05 17:18:10,812 \u001b[1;37mINFO\u001b[0m cyclops.feature_handler - Successfully loaded static features from file...\n",
      "2022-07-05 17:18:10,841 \u001b[1;37mINFO\u001b[0m cyclops.feature_handler - Found file to load for temporal features...\n"
     ]
    },
    {
     "name": "stdout",
     "output_type": "stream",
     "text": [
      "pre-covid | ['SMH'] | kPCA | LSDD\n"
     ]
    },
    {
     "name": "stderr",
     "output_type": "stream",
     "text": [
      "2022-07-05 17:18:15,636 \u001b[1;37mINFO\u001b[0m cyclops.feature_handler - Successfully loaded temporal features from file...\n",
      "2022-07-05 17:18:20,594 \u001b[1;37mINFO\u001b[0m cyclops.feature_handler - Loading features from file...\n",
      "2022-07-05 17:18:20,599 \u001b[1;37mINFO\u001b[0m cyclops.feature_handler - Found file to load for static features...\n",
      "2022-07-05 17:18:20,602 \u001b[1;37mINFO\u001b[0m cyclops.feature_handler - Successfully loaded static features from file...\n",
      "2022-07-05 17:18:20,632 \u001b[1;37mINFO\u001b[0m cyclops.feature_handler - Found file to load for temporal features...\n"
     ]
    },
    {
     "name": "stdout",
     "output_type": "stream",
     "text": [
      "pre-covid | ['SMH'] | kPCA | MMD\n"
     ]
    },
    {
     "name": "stderr",
     "output_type": "stream",
     "text": [
      "2022-07-05 17:18:25,418 \u001b[1;37mINFO\u001b[0m cyclops.feature_handler - Successfully loaded temporal features from file...\n",
      "2022-07-05 17:18:30,266 \u001b[1;37mINFO\u001b[0m cyclops.feature_handler - Loading features from file...\n",
      "2022-07-05 17:18:30,270 \u001b[1;37mINFO\u001b[0m cyclops.feature_handler - Found file to load for static features...\n",
      "2022-07-05 17:18:30,273 \u001b[1;37mINFO\u001b[0m cyclops.feature_handler - Successfully loaded static features from file...\n",
      "2022-07-05 17:18:30,302 \u001b[1;37mINFO\u001b[0m cyclops.feature_handler - Found file to load for temporal features...\n"
     ]
    },
    {
     "name": "stdout",
     "output_type": "stream",
     "text": [
      "pre-covid | ['SMH'] | kPCA | LK\n"
     ]
    },
    {
     "name": "stderr",
     "output_type": "stream",
     "text": [
      "2022-07-05 17:18:35,058 \u001b[1;37mINFO\u001b[0m cyclops.feature_handler - Successfully loaded temporal features from file...\n",
      "2022-07-05 17:18:43,741 \u001b[1;37mINFO\u001b[0m cyclops.feature_handler - Loading features from file...\n",
      "2022-07-05 17:18:43,742 \u001b[1;37mINFO\u001b[0m cyclops.feature_handler - Found file to load for static features...\n",
      "2022-07-05 17:18:43,744 \u001b[1;37mINFO\u001b[0m cyclops.feature_handler - Successfully loaded static features from file...\n",
      "2022-07-05 17:18:43,772 \u001b[1;37mINFO\u001b[0m cyclops.feature_handler - Found file to load for temporal features...\n"
     ]
    },
    {
     "name": "stdout",
     "output_type": "stream",
     "text": [
      "pre-covid | ['SMH'] | kPCA | Classifier\n"
     ]
    },
    {
     "name": "stderr",
     "output_type": "stream",
     "text": [
      "2022-07-05 17:18:48,572 \u001b[1;37mINFO\u001b[0m cyclops.feature_handler - Successfully loaded temporal features from file...\n",
      "2022-07-05 17:18:53,232 \u001b[1;37mINFO\u001b[0m cyclops.feature_handler - Loading features from file...\n",
      "2022-07-05 17:18:53,236 \u001b[1;37mINFO\u001b[0m cyclops.feature_handler - Found file to load for static features...\n",
      "2022-07-05 17:18:53,237 \u001b[1;37mINFO\u001b[0m cyclops.feature_handler - Successfully loaded static features from file...\n",
      "2022-07-05 17:18:53,272 \u001b[1;37mINFO\u001b[0m cyclops.feature_handler - Found file to load for temporal features...\n"
     ]
    },
    {
     "name": "stdout",
     "output_type": "stream",
     "text": [
      "pre-covid | ['SMH'] | Isomap | LSDD\n"
     ]
    },
    {
     "name": "stderr",
     "output_type": "stream",
     "text": [
      "2022-07-05 17:18:58,046 \u001b[1;37mINFO\u001b[0m cyclops.feature_handler - Successfully loaded temporal features from file...\n",
      "2022-07-05 17:19:02,481 \u001b[1;37mINFO\u001b[0m cyclops.feature_handler - Loading features from file...\n",
      "2022-07-05 17:19:02,483 \u001b[1;37mINFO\u001b[0m cyclops.feature_handler - Found file to load for static features...\n",
      "2022-07-05 17:19:02,486 \u001b[1;37mINFO\u001b[0m cyclops.feature_handler - Successfully loaded static features from file...\n",
      "2022-07-05 17:19:02,528 \u001b[1;37mINFO\u001b[0m cyclops.feature_handler - Found file to load for temporal features...\n"
     ]
    },
    {
     "name": "stdout",
     "output_type": "stream",
     "text": [
      "pre-covid | ['SMH'] | Isomap | MMD\n"
     ]
    },
    {
     "name": "stderr",
     "output_type": "stream",
     "text": [
      "2022-07-05 17:19:07,291 \u001b[1;37mINFO\u001b[0m cyclops.feature_handler - Successfully loaded temporal features from file...\n",
      "2022-07-05 17:19:13,952 \u001b[1;37mINFO\u001b[0m cyclops.feature_handler - Loading features from file...\n",
      "2022-07-05 17:19:13,957 \u001b[1;37mINFO\u001b[0m cyclops.feature_handler - Found file to load for static features...\n",
      "2022-07-05 17:19:13,961 \u001b[1;37mINFO\u001b[0m cyclops.feature_handler - Successfully loaded static features from file...\n",
      "2022-07-05 17:19:13,990 \u001b[1;37mINFO\u001b[0m cyclops.feature_handler - Found file to load for temporal features...\n"
     ]
    },
    {
     "name": "stdout",
     "output_type": "stream",
     "text": [
      "pre-covid | ['SMH'] | Isomap | LK\n"
     ]
    },
    {
     "name": "stderr",
     "output_type": "stream",
     "text": [
      "2022-07-05 17:19:18,722 \u001b[1;37mINFO\u001b[0m cyclops.feature_handler - Successfully loaded temporal features from file...\n",
      "2022-07-05 17:19:28,368 \u001b[1;37mINFO\u001b[0m cyclops.feature_handler - Loading features from file...\n",
      "2022-07-05 17:19:28,373 \u001b[1;37mINFO\u001b[0m cyclops.feature_handler - Found file to load for static features...\n",
      "2022-07-05 17:19:28,377 \u001b[1;37mINFO\u001b[0m cyclops.feature_handler - Successfully loaded static features from file...\n",
      "2022-07-05 17:19:28,407 \u001b[1;37mINFO\u001b[0m cyclops.feature_handler - Found file to load for temporal features...\n"
     ]
    },
    {
     "name": "stdout",
     "output_type": "stream",
     "text": [
      "pre-covid | ['SMH'] | Isomap | Classifier\n"
     ]
    },
    {
     "name": "stderr",
     "output_type": "stream",
     "text": [
      "2022-07-05 17:19:33,175 \u001b[1;37mINFO\u001b[0m cyclops.feature_handler - Successfully loaded temporal features from file...\n",
      "2022-07-05 17:19:38,471 \u001b[1;37mINFO\u001b[0m cyclops.feature_handler - Loading features from file...\n",
      "2022-07-05 17:19:38,473 \u001b[1;37mINFO\u001b[0m cyclops.feature_handler - Found file to load for static features...\n",
      "2022-07-05 17:19:38,477 \u001b[1;37mINFO\u001b[0m cyclops.feature_handler - Successfully loaded static features from file...\n",
      "2022-07-05 17:19:38,504 \u001b[1;37mINFO\u001b[0m cyclops.feature_handler - Found file to load for temporal features...\n"
     ]
    },
    {
     "name": "stdout",
     "output_type": "stream",
     "text": [
      "pre-covid | ['SMH'] | BBSDs_FFNN | LSDD\n"
     ]
    },
    {
     "name": "stderr",
     "output_type": "stream",
     "text": [
      "2022-07-05 17:19:43,262 \u001b[1;37mINFO\u001b[0m cyclops.feature_handler - Successfully loaded temporal features from file...\n",
      "2022-07-05 17:19:46,544 \u001b[1;37mINFO\u001b[0m cyclops.feature_handler - Loading features from file...\n",
      "2022-07-05 17:19:46,548 \u001b[1;37mINFO\u001b[0m cyclops.feature_handler - Found file to load for static features...\n",
      "2022-07-05 17:19:46,552 \u001b[1;37mINFO\u001b[0m cyclops.feature_handler - Successfully loaded static features from file...\n",
      "2022-07-05 17:19:46,583 \u001b[1;37mINFO\u001b[0m cyclops.feature_handler - Found file to load for temporal features...\n"
     ]
    },
    {
     "name": "stdout",
     "output_type": "stream",
     "text": [
      "pre-covid | ['SMH'] | BBSDs_FFNN | MMD\n"
     ]
    },
    {
     "name": "stderr",
     "output_type": "stream",
     "text": [
      "2022-07-05 17:19:51,356 \u001b[1;37mINFO\u001b[0m cyclops.feature_handler - Successfully loaded temporal features from file...\n",
      "2022-07-05 17:19:54,883 \u001b[1;37mINFO\u001b[0m cyclops.feature_handler - Loading features from file...\n",
      "2022-07-05 17:19:54,888 \u001b[1;37mINFO\u001b[0m cyclops.feature_handler - Found file to load for static features...\n",
      "2022-07-05 17:19:54,891 \u001b[1;37mINFO\u001b[0m cyclops.feature_handler - Successfully loaded static features from file...\n",
      "2022-07-05 17:19:54,925 \u001b[1;37mINFO\u001b[0m cyclops.feature_handler - Found file to load for temporal features...\n"
     ]
    },
    {
     "name": "stdout",
     "output_type": "stream",
     "text": [
      "pre-covid | ['SMH'] | BBSDs_FFNN | LK\n"
     ]
    },
    {
     "name": "stderr",
     "output_type": "stream",
     "text": [
      "2022-07-05 17:19:59,702 \u001b[1;37mINFO\u001b[0m cyclops.feature_handler - Successfully loaded temporal features from file...\n",
      "2022-07-05 17:20:06,999 \u001b[1;37mINFO\u001b[0m cyclops.feature_handler - Loading features from file...\n",
      "2022-07-05 17:20:07,000 \u001b[1;37mINFO\u001b[0m cyclops.feature_handler - Found file to load for static features...\n",
      "2022-07-05 17:20:07,004 \u001b[1;37mINFO\u001b[0m cyclops.feature_handler - Successfully loaded static features from file...\n",
      "2022-07-05 17:20:07,032 \u001b[1;37mINFO\u001b[0m cyclops.feature_handler - Found file to load for temporal features...\n"
     ]
    },
    {
     "name": "stdout",
     "output_type": "stream",
     "text": [
      "pre-covid | ['SMH'] | BBSDs_FFNN | Classifier\n"
     ]
    },
    {
     "name": "stderr",
     "output_type": "stream",
     "text": [
      "2022-07-05 17:20:11,797 \u001b[1;37mINFO\u001b[0m cyclops.feature_handler - Successfully loaded temporal features from file...\n",
      "2022-07-05 17:20:15,721 \u001b[1;37mINFO\u001b[0m cyclops.feature_handler - Loading features from file...\n",
      "2022-07-05 17:20:15,726 \u001b[1;37mINFO\u001b[0m cyclops.feature_handler - Found file to load for static features...\n",
      "2022-07-05 17:20:15,729 \u001b[1;37mINFO\u001b[0m cyclops.feature_handler - Successfully loaded static features from file...\n",
      "2022-07-05 17:20:15,759 \u001b[1;37mINFO\u001b[0m cyclops.feature_handler - Found file to load for temporal features...\n"
     ]
    },
    {
     "name": "stdout",
     "output_type": "stream",
     "text": [
      "covid | ['SMH'] | NoRed | LSDD\n"
     ]
    },
    {
     "name": "stderr",
     "output_type": "stream",
     "text": [
      "2022-07-05 17:20:20,491 \u001b[1;37mINFO\u001b[0m cyclops.feature_handler - Successfully loaded temporal features from file...\n",
      "2022-07-05 17:20:24,841 \u001b[1;37mINFO\u001b[0m cyclops.feature_handler - Loading features from file...\n",
      "2022-07-05 17:20:24,845 \u001b[1;37mINFO\u001b[0m cyclops.feature_handler - Found file to load for static features...\n",
      "2022-07-05 17:20:24,848 \u001b[1;37mINFO\u001b[0m cyclops.feature_handler - Successfully loaded static features from file...\n",
      "2022-07-05 17:20:24,878 \u001b[1;37mINFO\u001b[0m cyclops.feature_handler - Found file to load for temporal features...\n"
     ]
    },
    {
     "name": "stdout",
     "output_type": "stream",
     "text": [
      "covid | ['SMH'] | NoRed | MMD\n"
     ]
    },
    {
     "name": "stderr",
     "output_type": "stream",
     "text": [
      "2022-07-05 17:20:29,605 \u001b[1;37mINFO\u001b[0m cyclops.feature_handler - Successfully loaded temporal features from file...\n",
      "2022-07-05 17:20:34,469 \u001b[1;37mINFO\u001b[0m cyclops.feature_handler - Loading features from file...\n",
      "2022-07-05 17:20:34,471 \u001b[1;37mINFO\u001b[0m cyclops.feature_handler - Found file to load for static features...\n",
      "2022-07-05 17:20:34,474 \u001b[1;37mINFO\u001b[0m cyclops.feature_handler - Successfully loaded static features from file...\n",
      "2022-07-05 17:20:34,504 \u001b[1;37mINFO\u001b[0m cyclops.feature_handler - Found file to load for temporal features...\n"
     ]
    },
    {
     "name": "stdout",
     "output_type": "stream",
     "text": [
      "covid | ['SMH'] | NoRed | LK\n"
     ]
    },
    {
     "name": "stderr",
     "output_type": "stream",
     "text": [
      "2022-07-05 17:20:39,223 \u001b[1;37mINFO\u001b[0m cyclops.feature_handler - Successfully loaded temporal features from file...\n",
      "2022-07-05 17:20:53,475 \u001b[1;37mINFO\u001b[0m cyclops.feature_handler - Loading features from file...\n",
      "2022-07-05 17:20:53,477 \u001b[1;37mINFO\u001b[0m cyclops.feature_handler - Found file to load for static features...\n",
      "2022-07-05 17:20:53,479 \u001b[1;37mINFO\u001b[0m cyclops.feature_handler - Successfully loaded static features from file...\n",
      "2022-07-05 17:20:53,510 \u001b[1;37mINFO\u001b[0m cyclops.feature_handler - Found file to load for temporal features...\n"
     ]
    },
    {
     "name": "stdout",
     "output_type": "stream",
     "text": [
      "covid | ['SMH'] | NoRed | Classifier\n"
     ]
    },
    {
     "name": "stderr",
     "output_type": "stream",
     "text": [
      "2022-07-05 17:20:58,248 \u001b[1;37mINFO\u001b[0m cyclops.feature_handler - Successfully loaded temporal features from file...\n",
      "2022-07-05 17:21:03,970 \u001b[1;37mINFO\u001b[0m cyclops.feature_handler - Loading features from file...\n",
      "2022-07-05 17:21:03,971 \u001b[1;37mINFO\u001b[0m cyclops.feature_handler - Found file to load for static features...\n",
      "2022-07-05 17:21:03,974 \u001b[1;37mINFO\u001b[0m cyclops.feature_handler - Successfully loaded static features from file...\n",
      "2022-07-05 17:21:04,004 \u001b[1;37mINFO\u001b[0m cyclops.feature_handler - Found file to load for temporal features...\n"
     ]
    },
    {
     "name": "stdout",
     "output_type": "stream",
     "text": [
      "covid | ['SMH'] | SRP | LSDD\n"
     ]
    },
    {
     "name": "stderr",
     "output_type": "stream",
     "text": [
      "2022-07-05 17:21:08,790 \u001b[1;37mINFO\u001b[0m cyclops.feature_handler - Successfully loaded temporal features from file...\n",
      "2022-07-05 17:21:13,275 \u001b[1;37mINFO\u001b[0m cyclops.feature_handler - Loading features from file...\n",
      "2022-07-05 17:21:13,277 \u001b[1;37mINFO\u001b[0m cyclops.feature_handler - Found file to load for static features...\n",
      "2022-07-05 17:21:13,279 \u001b[1;37mINFO\u001b[0m cyclops.feature_handler - Successfully loaded static features from file...\n",
      "2022-07-05 17:21:13,307 \u001b[1;37mINFO\u001b[0m cyclops.feature_handler - Found file to load for temporal features...\n"
     ]
    },
    {
     "name": "stdout",
     "output_type": "stream",
     "text": [
      "covid | ['SMH'] | SRP | MMD\n"
     ]
    },
    {
     "name": "stderr",
     "output_type": "stream",
     "text": [
      "2022-07-05 17:21:18,067 \u001b[1;37mINFO\u001b[0m cyclops.feature_handler - Successfully loaded temporal features from file...\n",
      "2022-07-05 17:21:23,471 \u001b[1;37mINFO\u001b[0m cyclops.feature_handler - Loading features from file...\n",
      "2022-07-05 17:21:23,473 \u001b[1;37mINFO\u001b[0m cyclops.feature_handler - Found file to load for static features...\n",
      "2022-07-05 17:21:23,475 \u001b[1;37mINFO\u001b[0m cyclops.feature_handler - Successfully loaded static features from file...\n",
      "2022-07-05 17:21:23,512 \u001b[1;37mINFO\u001b[0m cyclops.feature_handler - Found file to load for temporal features...\n"
     ]
    },
    {
     "name": "stdout",
     "output_type": "stream",
     "text": [
      "covid | ['SMH'] | SRP | LK\n"
     ]
    },
    {
     "name": "stderr",
     "output_type": "stream",
     "text": [
      "2022-07-05 17:21:28,276 \u001b[1;37mINFO\u001b[0m cyclops.feature_handler - Successfully loaded temporal features from file...\n",
      "2022-07-05 17:21:43,032 \u001b[1;37mINFO\u001b[0m cyclops.feature_handler - Loading features from file...\n",
      "2022-07-05 17:21:43,034 \u001b[1;37mINFO\u001b[0m cyclops.feature_handler - Found file to load for static features...\n",
      "2022-07-05 17:21:43,038 \u001b[1;37mINFO\u001b[0m cyclops.feature_handler - Successfully loaded static features from file...\n",
      "2022-07-05 17:21:43,069 \u001b[1;37mINFO\u001b[0m cyclops.feature_handler - Found file to load for temporal features...\n"
     ]
    },
    {
     "name": "stdout",
     "output_type": "stream",
     "text": [
      "covid | ['SMH'] | SRP | Classifier\n"
     ]
    },
    {
     "name": "stderr",
     "output_type": "stream",
     "text": [
      "2022-07-05 17:21:47,856 \u001b[1;37mINFO\u001b[0m cyclops.feature_handler - Successfully loaded temporal features from file...\n",
      "2022-07-05 17:21:54,267 \u001b[1;37mINFO\u001b[0m cyclops.feature_handler - Loading features from file...\n",
      "2022-07-05 17:21:54,268 \u001b[1;37mINFO\u001b[0m cyclops.feature_handler - Found file to load for static features...\n",
      "2022-07-05 17:21:54,272 \u001b[1;37mINFO\u001b[0m cyclops.feature_handler - Successfully loaded static features from file...\n",
      "2022-07-05 17:21:54,304 \u001b[1;37mINFO\u001b[0m cyclops.feature_handler - Found file to load for temporal features...\n"
     ]
    },
    {
     "name": "stdout",
     "output_type": "stream",
     "text": [
      "covid | ['SMH'] | PCA | LSDD\n"
     ]
    },
    {
     "name": "stderr",
     "output_type": "stream",
     "text": [
      "2022-07-05 17:21:59,044 \u001b[1;37mINFO\u001b[0m cyclops.feature_handler - Successfully loaded temporal features from file...\n",
      "2022-07-05 17:22:07,423 \u001b[1;37mINFO\u001b[0m cyclops.feature_handler - Loading features from file...\n",
      "2022-07-05 17:22:07,431 \u001b[1;37mINFO\u001b[0m cyclops.feature_handler - Found file to load for static features...\n",
      "2022-07-05 17:22:07,435 \u001b[1;37mINFO\u001b[0m cyclops.feature_handler - Successfully loaded static features from file...\n",
      "2022-07-05 17:22:07,480 \u001b[1;37mINFO\u001b[0m cyclops.feature_handler - Found file to load for temporal features...\n"
     ]
    },
    {
     "name": "stdout",
     "output_type": "stream",
     "text": [
      "covid | ['SMH'] | PCA | MMD\n"
     ]
    },
    {
     "name": "stderr",
     "output_type": "stream",
     "text": [
      "2022-07-05 17:22:12,273 \u001b[1;37mINFO\u001b[0m cyclops.feature_handler - Successfully loaded temporal features from file...\n",
      "2022-07-05 17:22:18,758 \u001b[1;37mINFO\u001b[0m cyclops.feature_handler - Loading features from file...\n",
      "2022-07-05 17:22:18,762 \u001b[1;37mINFO\u001b[0m cyclops.feature_handler - Found file to load for static features...\n",
      "2022-07-05 17:22:18,765 \u001b[1;37mINFO\u001b[0m cyclops.feature_handler - Successfully loaded static features from file...\n",
      "2022-07-05 17:22:18,797 \u001b[1;37mINFO\u001b[0m cyclops.feature_handler - Found file to load for temporal features...\n"
     ]
    },
    {
     "name": "stdout",
     "output_type": "stream",
     "text": [
      "covid | ['SMH'] | PCA | LK\n"
     ]
    },
    {
     "name": "stderr",
     "output_type": "stream",
     "text": [
      "2022-07-05 17:22:23,544 \u001b[1;37mINFO\u001b[0m cyclops.feature_handler - Successfully loaded temporal features from file...\n",
      "2022-07-05 17:22:39,078 \u001b[1;37mINFO\u001b[0m cyclops.feature_handler - Loading features from file...\n",
      "2022-07-05 17:22:39,082 \u001b[1;37mINFO\u001b[0m cyclops.feature_handler - Found file to load for static features...\n",
      "2022-07-05 17:22:39,085 \u001b[1;37mINFO\u001b[0m cyclops.feature_handler - Successfully loaded static features from file...\n",
      "2022-07-05 17:22:39,114 \u001b[1;37mINFO\u001b[0m cyclops.feature_handler - Found file to load for temporal features...\n"
     ]
    },
    {
     "name": "stdout",
     "output_type": "stream",
     "text": [
      "covid | ['SMH'] | PCA | Classifier\n"
     ]
    },
    {
     "name": "stderr",
     "output_type": "stream",
     "text": [
      "2022-07-05 17:22:43,891 \u001b[1;37mINFO\u001b[0m cyclops.feature_handler - Successfully loaded temporal features from file...\n",
      "2022-07-05 17:22:51,510 \u001b[1;37mINFO\u001b[0m cyclops.feature_handler - Loading features from file...\n",
      "2022-07-05 17:22:51,512 \u001b[1;37mINFO\u001b[0m cyclops.feature_handler - Found file to load for static features...\n",
      "2022-07-05 17:22:51,515 \u001b[1;37mINFO\u001b[0m cyclops.feature_handler - Successfully loaded static features from file...\n",
      "2022-07-05 17:22:51,550 \u001b[1;37mINFO\u001b[0m cyclops.feature_handler - Found file to load for temporal features...\n"
     ]
    },
    {
     "name": "stdout",
     "output_type": "stream",
     "text": [
      "covid | ['SMH'] | kPCA | LSDD\n"
     ]
    },
    {
     "name": "stderr",
     "output_type": "stream",
     "text": [
      "2022-07-05 17:22:56,284 \u001b[1;37mINFO\u001b[0m cyclops.feature_handler - Successfully loaded temporal features from file...\n",
      "2022-07-05 17:23:04,220 \u001b[1;37mINFO\u001b[0m cyclops.feature_handler - Loading features from file...\n",
      "2022-07-05 17:23:04,221 \u001b[1;37mINFO\u001b[0m cyclops.feature_handler - Found file to load for static features...\n",
      "2022-07-05 17:23:04,224 \u001b[1;37mINFO\u001b[0m cyclops.feature_handler - Successfully loaded static features from file...\n",
      "2022-07-05 17:23:04,259 \u001b[1;37mINFO\u001b[0m cyclops.feature_handler - Found file to load for temporal features...\n"
     ]
    },
    {
     "name": "stdout",
     "output_type": "stream",
     "text": [
      "covid | ['SMH'] | kPCA | MMD\n"
     ]
    },
    {
     "name": "stderr",
     "output_type": "stream",
     "text": [
      "2022-07-05 17:23:09,017 \u001b[1;37mINFO\u001b[0m cyclops.feature_handler - Successfully loaded temporal features from file...\n",
      "2022-07-05 17:23:15,719 \u001b[1;37mINFO\u001b[0m cyclops.feature_handler - Loading features from file...\n",
      "2022-07-05 17:23:15,721 \u001b[1;37mINFO\u001b[0m cyclops.feature_handler - Found file to load for static features...\n",
      "2022-07-05 17:23:15,724 \u001b[1;37mINFO\u001b[0m cyclops.feature_handler - Successfully loaded static features from file...\n",
      "2022-07-05 17:23:15,757 \u001b[1;37mINFO\u001b[0m cyclops.feature_handler - Found file to load for temporal features...\n"
     ]
    },
    {
     "name": "stdout",
     "output_type": "stream",
     "text": [
      "covid | ['SMH'] | kPCA | LK\n"
     ]
    },
    {
     "name": "stderr",
     "output_type": "stream",
     "text": [
      "2022-07-05 17:23:20,532 \u001b[1;37mINFO\u001b[0m cyclops.feature_handler - Successfully loaded temporal features from file...\n",
      "2022-07-05 17:23:36,567 \u001b[1;37mINFO\u001b[0m cyclops.feature_handler - Loading features from file...\n",
      "2022-07-05 17:23:36,571 \u001b[1;37mINFO\u001b[0m cyclops.feature_handler - Found file to load for static features...\n",
      "2022-07-05 17:23:36,574 \u001b[1;37mINFO\u001b[0m cyclops.feature_handler - Successfully loaded static features from file...\n",
      "2022-07-05 17:23:36,607 \u001b[1;37mINFO\u001b[0m cyclops.feature_handler - Found file to load for temporal features...\n"
     ]
    },
    {
     "name": "stdout",
     "output_type": "stream",
     "text": [
      "covid | ['SMH'] | kPCA | Classifier\n"
     ]
    },
    {
     "name": "stderr",
     "output_type": "stream",
     "text": [
      "2022-07-05 17:23:41,350 \u001b[1;37mINFO\u001b[0m cyclops.feature_handler - Successfully loaded temporal features from file...\n",
      "2022-07-05 17:23:48,199 \u001b[1;37mINFO\u001b[0m cyclops.feature_handler - Loading features from file...\n",
      "2022-07-05 17:23:48,200 \u001b[1;37mINFO\u001b[0m cyclops.feature_handler - Found file to load for static features...\n",
      "2022-07-05 17:23:48,203 \u001b[1;37mINFO\u001b[0m cyclops.feature_handler - Successfully loaded static features from file...\n",
      "2022-07-05 17:23:48,233 \u001b[1;37mINFO\u001b[0m cyclops.feature_handler - Found file to load for temporal features...\n"
     ]
    },
    {
     "name": "stdout",
     "output_type": "stream",
     "text": [
      "covid | ['SMH'] | Isomap | LSDD\n"
     ]
    },
    {
     "name": "stderr",
     "output_type": "stream",
     "text": [
      "2022-07-05 17:23:52,979 \u001b[1;37mINFO\u001b[0m cyclops.feature_handler - Successfully loaded temporal features from file...\n",
      "2022-07-05 17:24:01,781 \u001b[1;37mINFO\u001b[0m cyclops.feature_handler - Loading features from file...\n",
      "2022-07-05 17:24:01,783 \u001b[1;37mINFO\u001b[0m cyclops.feature_handler - Found file to load for static features...\n",
      "2022-07-05 17:24:01,785 \u001b[1;37mINFO\u001b[0m cyclops.feature_handler - Successfully loaded static features from file...\n",
      "2022-07-05 17:24:01,822 \u001b[1;37mINFO\u001b[0m cyclops.feature_handler - Found file to load for temporal features...\n"
     ]
    },
    {
     "name": "stdout",
     "output_type": "stream",
     "text": [
      "covid | ['SMH'] | Isomap | MMD\n"
     ]
    },
    {
     "name": "stderr",
     "output_type": "stream",
     "text": [
      "2022-07-05 17:24:06,564 \u001b[1;37mINFO\u001b[0m cyclops.feature_handler - Successfully loaded temporal features from file...\n",
      "2022-07-05 17:24:14,832 \u001b[1;37mINFO\u001b[0m cyclops.feature_handler - Loading features from file...\n",
      "2022-07-05 17:24:14,837 \u001b[1;37mINFO\u001b[0m cyclops.feature_handler - Found file to load for static features...\n",
      "2022-07-05 17:24:14,840 \u001b[1;37mINFO\u001b[0m cyclops.feature_handler - Successfully loaded static features from file...\n",
      "2022-07-05 17:24:14,882 \u001b[1;37mINFO\u001b[0m cyclops.feature_handler - Found file to load for temporal features...\n"
     ]
    },
    {
     "name": "stdout",
     "output_type": "stream",
     "text": [
      "covid | ['SMH'] | Isomap | LK\n"
     ]
    },
    {
     "name": "stderr",
     "output_type": "stream",
     "text": [
      "2022-07-05 17:24:19,623 \u001b[1;37mINFO\u001b[0m cyclops.feature_handler - Successfully loaded temporal features from file...\n",
      "2022-07-05 17:24:39,059 \u001b[1;37mINFO\u001b[0m cyclops.feature_handler - Loading features from file...\n",
      "2022-07-05 17:24:39,063 \u001b[1;37mINFO\u001b[0m cyclops.feature_handler - Found file to load for static features...\n",
      "2022-07-05 17:24:39,066 \u001b[1;37mINFO\u001b[0m cyclops.feature_handler - Successfully loaded static features from file...\n",
      "2022-07-05 17:24:39,096 \u001b[1;37mINFO\u001b[0m cyclops.feature_handler - Found file to load for temporal features...\n"
     ]
    },
    {
     "name": "stdout",
     "output_type": "stream",
     "text": [
      "covid | ['SMH'] | Isomap | Classifier\n"
     ]
    },
    {
     "name": "stderr",
     "output_type": "stream",
     "text": [
      "2022-07-05 17:24:43,895 \u001b[1;37mINFO\u001b[0m cyclops.feature_handler - Successfully loaded temporal features from file...\n",
      "2022-07-05 17:24:54,031 \u001b[1;37mINFO\u001b[0m cyclops.feature_handler - Loading features from file...\n",
      "2022-07-05 17:24:54,032 \u001b[1;37mINFO\u001b[0m cyclops.feature_handler - Found file to load for static features...\n",
      "2022-07-05 17:24:54,035 \u001b[1;37mINFO\u001b[0m cyclops.feature_handler - Successfully loaded static features from file...\n",
      "2022-07-05 17:24:54,068 \u001b[1;37mINFO\u001b[0m cyclops.feature_handler - Found file to load for temporal features...\n"
     ]
    },
    {
     "name": "stdout",
     "output_type": "stream",
     "text": [
      "covid | ['SMH'] | BBSDs_FFNN | LSDD\n"
     ]
    },
    {
     "name": "stderr",
     "output_type": "stream",
     "text": [
      "2022-07-05 17:24:58,773 \u001b[1;37mINFO\u001b[0m cyclops.feature_handler - Successfully loaded temporal features from file...\n",
      "2022-07-05 17:25:03,280 \u001b[1;37mINFO\u001b[0m cyclops.feature_handler - Loading features from file...\n",
      "2022-07-05 17:25:03,282 \u001b[1;37mINFO\u001b[0m cyclops.feature_handler - Found file to load for static features...\n",
      "2022-07-05 17:25:03,284 \u001b[1;37mINFO\u001b[0m cyclops.feature_handler - Successfully loaded static features from file...\n",
      "2022-07-05 17:25:03,314 \u001b[1;37mINFO\u001b[0m cyclops.feature_handler - Found file to load for temporal features...\n"
     ]
    },
    {
     "name": "stdout",
     "output_type": "stream",
     "text": [
      "covid | ['SMH'] | BBSDs_FFNN | MMD\n"
     ]
    },
    {
     "name": "stderr",
     "output_type": "stream",
     "text": [
      "2022-07-05 17:25:08,047 \u001b[1;37mINFO\u001b[0m cyclops.feature_handler - Successfully loaded temporal features from file...\n",
      "2022-07-05 17:25:13,617 \u001b[1;37mINFO\u001b[0m cyclops.feature_handler - Loading features from file...\n",
      "2022-07-05 17:25:13,621 \u001b[1;37mINFO\u001b[0m cyclops.feature_handler - Found file to load for static features...\n",
      "2022-07-05 17:25:13,625 \u001b[1;37mINFO\u001b[0m cyclops.feature_handler - Successfully loaded static features from file...\n",
      "2022-07-05 17:25:13,654 \u001b[1;37mINFO\u001b[0m cyclops.feature_handler - Found file to load for temporal features...\n"
     ]
    },
    {
     "name": "stdout",
     "output_type": "stream",
     "text": [
      "covid | ['SMH'] | BBSDs_FFNN | LK\n"
     ]
    },
    {
     "name": "stderr",
     "output_type": "stream",
     "text": [
      "2022-07-05 17:25:18,399 \u001b[1;37mINFO\u001b[0m cyclops.feature_handler - Successfully loaded temporal features from file...\n",
      "2022-07-05 17:25:32,857 \u001b[1;37mINFO\u001b[0m cyclops.feature_handler - Loading features from file...\n",
      "2022-07-05 17:25:32,859 \u001b[1;37mINFO\u001b[0m cyclops.feature_handler - Found file to load for static features...\n",
      "2022-07-05 17:25:32,860 \u001b[1;37mINFO\u001b[0m cyclops.feature_handler - Successfully loaded static features from file...\n",
      "2022-07-05 17:25:32,889 \u001b[1;37mINFO\u001b[0m cyclops.feature_handler - Found file to load for temporal features...\n"
     ]
    },
    {
     "name": "stdout",
     "output_type": "stream",
     "text": [
      "covid | ['SMH'] | BBSDs_FFNN | Classifier\n"
     ]
    },
    {
     "name": "stderr",
     "output_type": "stream",
     "text": [
      "2022-07-05 17:25:37,663 \u001b[1;37mINFO\u001b[0m cyclops.feature_handler - Successfully loaded temporal features from file...\n"
     ]
    }
   ],
   "source": [
    "# Run shift experiments\n",
    "if os.path.exists(os.path.join(PATH, '_'.join([SHIFT, '_'.join(HOSPITAL),\"mean_dr_md_pval.pkl\"]))):\n",
    "    with open(os.path.join(PATH, '_'.join([SHIFT, '_'.join(HOSPITAL),\"mean_dr_md_pval.pkl\"])), \"rb\") as f:\n",
    "        mean_dr_md_pval = pickle.load(f)\n",
    "    with open(os.path.join(PATH, '_'.join([SHIFT, '_'.join(HOSPITAL),\"mean_dr_md_dist.pkl\"])), \"rb\") as f:\n",
    "        mean_dr_md_dist = pickle.load(f)\n",
    "else:\n",
    "    mean_dr_md_pval = np.ones(\n",
    "        (len(EXPERIMENTS), len(DR_TECHNIQUES), len(MD_TESTS), len(SAMPLES))\n",
    "    ) * (-1)\n",
    "    mean_dr_md_dist = np.ones(\n",
    "        (len(EXPERIMENTS), len(DR_TECHNIQUES), len(MD_TESTS), len(SAMPLES))\n",
    "    ) * (-1)\n",
    "\n",
    "if os.path.exists(os.path.join(PATH, '_'.join([SHIFT, '_'.join(HOSPITAL),\"std_dr_md_pval.pkl\"]))):\n",
    "    with open(os.path.join(PATH, '_'.join([SHIFT, '_'.join(HOSPITAL),\"std_dr_md_pval.pkl\"])), \"rb\") as f:\n",
    "        std_dr_md_pval = pickle.load(f)\n",
    "    with open(os.path.join(PATH, '_'.join([SHIFT, '_'.join(HOSPITAL),\"std_dr_md_dist.pkl\"])), \"rb\") as f:\n",
    "        std_dr_md_dist = pickle.load(f)\n",
    "        \n",
    "else:\n",
    "    std_dr_md_pval = np.ones(\n",
    "        (len(EXPERIMENTS), len(DR_TECHNIQUES), len(MD_TESTS), len(SAMPLES))\n",
    "    ) * (-1)\n",
    "    std_dr_md_dist = np.ones(\n",
    "        (len(EXPERIMENTS), len(DR_TECHNIQUES), len(MD_TESTS), len(SAMPLES))\n",
    "    ) * (-1)\n",
    "\n",
    "for si, SHIFT in enumerate(EXPERIMENTS):\n",
    "    for di, DR_TECHNIQUE in enumerate(DR_TECHNIQUES):\n",
    "        for mi, MD_TEST in enumerate(MD_TESTS):\n",
    "            if np.any(mean_dr_md_pval[si, di, mi, :] == -1):\n",
    "                print(\n",
    "                    \"{} | {} | {} | {}\".format(\n",
    "                        SHIFT, HOSPITAL, DR_TECHNIQUE, MD_TEST\n",
    "                    )\n",
    "                )\n",
    "                try:\n",
    "                    mean_p_vals, std_p_vals, mean_dist, std_dist = run_shift_experiment(\n",
    "                        shift=SHIFT,\n",
    "                        admin_data=admin_data,\n",
    "                        x=x, \n",
    "                        y=y,\n",
    "                        outcome=OUTCOME,\n",
    "                        hospital=HOSPITAL,\n",
    "                        path=PATH,\n",
    "                        aggregation_type=AGGREGATION_TYPE,\n",
    "                        scale=SCALE,\n",
    "                        dr_technique=DR_TECHNIQUE,\n",
    "                        md_test=MD_TEST,\n",
    "                        samples=SAMPLES,\n",
    "                        dataset=DATASET,\n",
    "                        sign_level=SIGN_LEVEL,\n",
    "                        timesteps=TIMESTEPS,\n",
    "                        random_runs=RANDOM_RUNS,\n",
    "                        calc_acc=CALC_ACC\n",
    "                    )\n",
    "                    \n",
    "                    mean_dr_md_pval[si, di, mi, :] = mean_p_vals\n",
    "                    std_dr_md_pval[si, di, mi, :] = std_p_vals\n",
    "                    mean_dr_md_dist[si, di, mi, :] = mean_dist\n",
    "                    std_dr_md_dist[si, di, mi, :] = std_dist\n",
    "                except ValueError as e:\n",
    "                    print(\"Value Error\")\n",
    "                    pass"
   ]
  },
  {
   "cell_type": "code",
   "execution_count": 79,
   "id": "88acfc2d-21ad-46f7-813d-00041adbddee",
   "metadata": {},
   "outputs": [
    {
     "name": "stdin",
     "output_type": "stream",
     "text": [
      "Select Pre-Processing:  kPCA\n",
      "Select Two-Sample Testing:  MMD\n"
     ]
    },
    {
     "data": {
      "image/png": "[encoded data removed]",
      "text/plain": [
       "<Figure size 576x432 with 1 Axes>"
      ]
     },
     "metadata": {
      "needs_background": "light"
     },
     "output_type": "display_data"
    }
   ],
   "source": [
    "DIM_RED = input(\"Select Pre-Processing: \")\n",
    "MD_TEST = input(\"Select Two-Sample Testing: \")\n",
    "\n",
    "fig = plt.figure(figsize=(8, 6))\n",
    "for si, shift in enumerate(EXPERIMENTS):\n",
    "    for di, dr_technique in enumerate(DR_TECHNIQUES):\n",
    "        for mi, md_test in enumerate(MD_TESTS):\n",
    "            if (\n",
    "                    dr_technique == DIM_RED\n",
    "                    and md_test == MD_TEST\n",
    "            ):\n",
    "                errorfill(\n",
    "                        np.array(SAMPLES),\n",
    "                        mean_dr_md_pval[si, di, mi, :],\n",
    "                        std_dr_md_pval[si, di, mi, :],\n",
    "                        fmt=linestyles[si] + markers[si],\n",
    "                        color=colorscale(colors[si], brightness[si]),\n",
    "                        label=\"%s\" % \"_\".join([shift, dr_technique, md_test]),\n",
    "                )\n",
    "plt.xlabel(\"Number of samples from test data\")\n",
    "plt.ylabel(\"$p$-value\")\n",
    "plt.axhline(y=SIGN_LEVEL, color=\"k\")\n",
    "plt.legend()\n",
    "plt.show()\n",
    "\n",
    "# Run shift experiments\n",
    "if not os.path.exists(os.path.join(PATH, '_'.join([SHIFT, '_'.join(HOSPITAL),\"mean_dr_md_pval.pkl\"]))):\n",
    "    with open(os.path.join(PATH, '_'.join([SHIFT, '_'.join(HOSPITAL),\"mean_dr_md_pval.pkl\"])), \"wb\") as f:\n",
    "        pickle.dump(mean_dr_md_pval, f)\n",
    "    with open(os.path.join(PATH, '_'.join([SHIFT, '_'.join(HOSPITAL),\"mean_dr_md_dist.pkl\"])), \"wb\") as f:\n",
    "        pickle.dump(mean_dr_md_dist, f)\n",
    "if not os.path.exists(os.path.join(PATH, '_'.join([SHIFT, '_'.join(HOSPITAL),\"std_dr_md_pval.pkl\"]))):\n",
    "    with open(os.path.join(PATH, '_'.join([SHIFT, '_'.join(HOSPITAL),\"std_dr_md_pval.pkl\"])), \"wb\") as f:\n",
    "        pickle.dump(std_dr_md_pval, f)\n",
    "    with open(os.path.join(PATH, '_'.join([SHIFT, '_'.join(HOSPITAL),\"std_dr_md_dist.pkl\"])), \"wb\") as f:\n",
    "        pickle.dump(std_dr_md_dist, f)"
   ]
  },
  {
   "cell_type": "markdown",
   "id": "bibliographic-premium",
   "metadata": {},
   "source": [
    "# Build Model #"
   ]
  },
  {
   "cell_type": "code",
   "execution_count": null,
   "id": "bfcd7bfd-1634-458b-8a9d-ca25675805c6",
   "metadata": {},
   "outputs": [],
   "source": [
    "(X_tr, y_tr), (X_val, y_val), (X_t, y_t), feats, orig_dims, admin_data = import_dataset_hospital(admin_data, x, y, SHIFT, OUTCOME, HOSPITAL, 1, shuffle=True)\n",
    "\n",
    "MODEL_NAME = input(\"Select Model: \")\n",
    "MODEL_PATH = PATH + \"_\".join([SHIFT, OUTCOME, '_'.join(HOSPITAL), MODEL_NAME]) + \".pkl\"\n",
    "if os.path.exists(MODEL_PATH):\n",
    "    optimised_model = pickle.load(open(MODEL_PATH, \"rb\"))\n",
    "else:\n",
    "    optimised_model = run_model(MODEL_NAME, X_tr, y_tr, X_val, y_val)"
   ]
  },
  {
   "cell_type": "markdown",
   "id": "front-present",
   "metadata": {},
   "source": [
    "### Performance on Source Data ###"
   ]
  },
  {
   "cell_type": "code",
   "execution_count": 17,
   "id": "resistant-dover",
   "metadata": {},
   "outputs": [
    {
     "data": {
      "text/plain": [
       "<AxesSubplot:title={'center':'Average Precision: 0.962282'}, xlabel='Recall', ylabel='Precision'>"
      ]
     },
     "execution_count": 17,
     "metadata": {},
     "output_type": "execute_result"
    },
    {
     "data": {
      "image/png": "[encoded data removed]",
      "text/plain": [
       "<Figure size 1296x504 with 2 Axes>"
      ]
     },
     "metadata": {
      "needs_background": "light"
     },
     "output_type": "display_data"
    }
   ],
   "source": [
    "y_pred_prob = optimised_model.predict_proba(X_val)[:, 1]\n",
    "\n",
    "fpr, tpr, thresholds = roc_curve(y_val, y_pred_prob, pos_label=1)\n",
    "roc_auc = auc(fpr, tpr)\n",
    "precision, recall, thresholds = precision_recall_curve(y_val, y_pred_prob)\n",
    "avg_pr = average_precision_score(y_val, y_pred_prob)\n",
    "fig, ax = plt.subplots(nrows=1, ncols=2, figsize=(18, 7))\n",
    "plot_roc(ax[0], fpr, tpr, roc_auc)\n",
    "plot_pr(ax[1], recall, precision, avg_pr)"
   ]
  },
  {
   "cell_type": "markdown",
   "id": "distinct-opening",
   "metadata": {},
   "source": [
    "### Performance on Target Data ###"
   ]
  },
  {
   "cell_type": "code",
   "execution_count": 18,
   "id": "affecting-marriage",
   "metadata": {},
   "outputs": [
    {
     "data": {
      "text/plain": [
       "<AxesSubplot:title={'center':'Average Precision: 0.913662'}, xlabel='Recall', ylabel='Precision'>"
      ]
     },
     "execution_count": 18,
     "metadata": {},
     "output_type": "execute_result"
    },
    {
     "data": {
      "image/png": "[encoded data removed]",
      "text/plain": [
       "<Figure size 1296x504 with 2 Axes>"
      ]
     },
     "metadata": {
      "needs_background": "light"
     },
     "output_type": "display_data"
    }
   ],
   "source": [
    "y_pred_prob = optimised_model.predict_proba(X_test)[:, 1]\n",
    "fpr, tpr, thresholds = roc_curve(y_test, y_pred_prob, pos_label=1)\n",
    "roc_auc = auc(fpr, tpr)\n",
    "precision, recall, thresholds = precision_recall_curve(y_test, y_pred_prob)\n",
    "avg_pr = average_precision_score(y_test, y_pred_prob)\n",
    "fig, ax = plt.subplots(nrows=1, ncols=2, figsize=(18, 7))\n",
    "plot_roc(ax[0], fpr, tpr, roc_auc)\n",
    "plot_pr(ax[1], recall, precision, avg_pr)"
   ]
  },
  {
   "cell_type": "markdown",
   "id": "tender-bracket",
   "metadata": {},
   "source": [
    "## Performance by Sample Size ##"
   ]
  },
  {
   "cell_type": "code",
   "execution_count": 19,
   "id": "employed-curtis",
   "metadata": {},
   "outputs": [
    {
     "name": "stderr",
     "output_type": "stream",
     "text": [
      "torch.range is deprecated and will be removed in a future release because its behavior is inconsistent with Python's range builtin. Instead, use torch.arange, which produces values in [start, end).\n",
      "No negative samples in y_true, false positive value should be meaningless\n",
      "No negative samples in y_true, false positive value should be meaningless\n",
      "No negative samples in y_true, false positive value should be meaningless\n",
      "No negative samples in y_true, false positive value should be meaningless\n",
      "No negative samples in y_true, false positive value should be meaningless\n",
      "torch.range is deprecated and will be removed in a future release because its behavior is inconsistent with Python's range builtin. Instead, use torch.arange, which produces values in [start, end).\n",
      "torch.range is deprecated and will be removed in a future release because its behavior is inconsistent with Python's range builtin. Instead, use torch.arange, which produces values in [start, end).\n",
      "torch.range is deprecated and will be removed in a future release because its behavior is inconsistent with Python's range builtin. Instead, use torch.arange, which produces values in [start, end).\n",
      "torch.range is deprecated and will be removed in a future release because its behavior is inconsistent with Python's range builtin. Instead, use torch.arange, which produces values in [start, end).\n",
      "torch.range is deprecated and will be removed in a future release because its behavior is inconsistent with Python's range builtin. Instead, use torch.arange, which produces values in [start, end).\n",
      "torch.range is deprecated and will be removed in a future release because its behavior is inconsistent with Python's range builtin. Instead, use torch.arange, which produces values in [start, end).\n",
      "torch.range is deprecated and will be removed in a future release because its behavior is inconsistent with Python's range builtin. Instead, use torch.arange, which produces values in [start, end).\n"
     ]
    }
   ],
   "source": [
    "samp_metrics = np.ones((len(SAMPLES), RANDOM_RUNS, 2, 2)) * (-1)\n",
    "for si, sample in enumerate(SAMPLES):\n",
    "    for i in range(0, RANDOM_RUNS - 1):\n",
    "        i = int(i)\n",
    "        np.random.seed(i)\n",
    "        X_val, y_val = unison_shuffled_copies(X_val, y_val)\n",
    "        X_test, y_test = unison_shuffled_copies(X_test, y_test)\n",
    "\n",
    "        y_val_pred_prob = optimised_model.predict_proba(X_val[:sample])[:, 1]\n",
    "        val_fpr, val_tpr, val_thresholds = roc_curve(\n",
    "            y_val[:sample], y_val_pred_prob, pos_label=1\n",
    "        )\n",
    "        val_roc_auc = auc(val_fpr, val_tpr)\n",
    "        val_avg_pr = average_precision_score(y_val[:sample], y_val_pred_prob)\n",
    "\n",
    "        y_test_pred_prob = optimised_model.predict_proba(X_test[:sample])[:, 1]\n",
    "        test_fpr, test_tpr, test_thresholds = roc_curve(\n",
    "            y_test[:sample], y_test_pred_prob, pos_label=1\n",
    "        )\n",
    "        test_roc_auc = auc(test_fpr, test_tpr)\n",
    "        test_avg_pr = average_precision_score(y_test[:sample], y_test_pred_prob)\n",
    "\n",
    "        samp_metrics[si, i, 0, :] = [val_roc_auc, val_avg_pr]\n",
    "        samp_metrics[si, i, 1, :] = [test_roc_auc, test_avg_pr]\n",
    "\n",
    "    mean_samp_metrics = np.mean(samp_metrics, axis=1)\n",
    "    std_samp_metrics = np.std(samp_metrics, axis=1)"
   ]
  },
  {
   "cell_type": "code",
   "execution_count": 21,
   "id": "powerful-tournament",
   "metadata": {},
   "outputs": [
    {
     "data": {
      "image/png": "[encoded data removed]",
      "text/plain": [
       "<Figure size 576x432 with 1 Axes>"
      ]
     },
     "metadata": {
      "needs_background": "light"
     },
     "output_type": "display_data"
    }
   ],
   "source": [
    "fig = plt.figure(figsize=(8, 6))\n",
    "for si, shift in enumerate([\"baseline\", SHIFT]):\n",
    "    for mi, metric in enumerate([\"AuROC\", \"Avg Pr\"]):\n",
    "        if metric == \"AuROC\":\n",
    "            errorfill(\n",
    "                np.array(SAMPLES[1:]),\n",
    "                mean_samp_metrics[1:, si, mi],\n",
    "                std_samp_metrics[1:, si, mi],\n",
    "                fmt=linestyles[mi] + markers[mi],\n",
    "                color=colorscale(colors[si], brightness[si]),\n",
    "                label=\"%s\" % \"_\".join([shift]),\n",
    "            )\n",
    "plt.xlabel(\"Number of samples from test data\")\n",
    "plt.ylabel(\"AuROC\")\n",
    "plt.legend()\n",
    "plt.show()"
   ]
  },
  {
   "cell_type": "markdown",
   "id": "structured-utilization",
   "metadata": {},
   "source": [
    "## Explain Difference in Model Predictions ## "
   ]
  },
  {
   "cell_type": "code",
   "execution_count": 22,
   "id": "agreed-airfare",
   "metadata": {},
   "outputs": [
    {
     "name": "stderr",
     "output_type": "stream",
     "text": [
      "ntree_limit is deprecated, use `iteration_range` or model slicing instead.\n"
     ]
    },
    {
     "data": {
      "image/png": "[encoded data removed]",
      "text/plain": [
       "<Figure size 864x864 with 1 Axes>"
      ]
     },
     "metadata": {
      "needs_background": "light"
     },
     "output_type": "display_data"
    }
   ],
   "source": [
    "explainer = ShiftExplainer(optimised_model)\n",
    "explainer.get_explainer()\n",
    "\n",
    "X_val_df = pd.DataFrame(X_val, columns=feats)\n",
    "val_shap_values = explainer.get_shap_values(X_val_df)\n",
    "X_test_df = pd.DataFrame(X_test, columns=feats)\n",
    "test_shap_values = explainer.get_shap_values(X_test_df)\n",
    "\n",
    "diff = np.mean(np.abs(test_shap_values.values), axis=0) - np.mean(\n",
    "    np.abs(val_shap_values.values), axis=0\n",
    ")\n",
    "diff_sorted, feats_sorted = zip(*sorted(zip(diff, feats), reverse=True))\n",
    "diff_sorted, feats_sorted = zip(\n",
    "    *(((x, y) for x, y in zip(diff_sorted, feats_sorted) if x != 0))\n",
    ")\n",
    "fig, ax = plt.subplots(figsize=(12, 12))\n",
    "y_pos = np.arange(len(diff_sorted))\n",
    "ax.barh(y_pos, diff_sorted, align=\"center\")\n",
    "ax.set_yticks(y_pos, labels=feats_sorted)\n",
    "ax.invert_yaxis()  # labels read top-to-bottom\n",
    "ax.set_xlabel(\"Mean Difference in Shap Value\")\n",
    "ax.set_title(\"Features\")\n",
    "plt.show()"
   ]
  },
  {
   "cell_type": "code",
   "execution_count": 80,
   "id": "037e8625-067d-4ab8-b6da-23076e63e81e",
   "metadata": {},
   "outputs": [
    {
     "name": "stderr",
     "output_type": "stream",
     "text": [
      "2022-07-05 17:36:10,315 \u001b[1;37mINFO\u001b[0m cyclops.feature_handler - Loading features from file...\n",
      "2022-07-05 17:36:10,317 \u001b[1;37mINFO\u001b[0m cyclops.feature_handler - Found file to load for static features...\n",
      "2022-07-05 17:36:10,318 \u001b[1;37mINFO\u001b[0m cyclops.feature_handler - Successfully loaded static features from file...\n",
      "2022-07-05 17:36:10,345 \u001b[1;37mINFO\u001b[0m cyclops.feature_handler - Found file to load for temporal features...\n",
      "2022-07-05 17:36:15,060 \u001b[1;37mINFO\u001b[0m cyclops.feature_handler - Successfully loaded temporal features from file...\n"
     ]
    },
    {
     "data": {
      "text/plain": [
       "0.5399999618530273"
      ]
     },
     "execution_count": 83,
     "metadata": {},
     "output_type": "execute_result"
    }
   ],
   "source": [
    "from cyclops.feature_handler import FeatureHandler\n",
    "\n",
    "scale=True\n",
    "#SHIFT=\"summer\"\n",
    "OUTCOME=\"mortality\"\n",
    "#HOSPITAL=[\"MSH\"]\n",
    "feature_handler = FeatureHandler()\n",
    "feature_handler.load(PATH, \"features\")\n",
    "numerical_cols = feature_handler.get_numerical_feature_names()[\"temporal\"]\n",
    "numerical_cols += [\"age\"]\n",
    "    \n",
    "(X_tr, y_tr), (X_val, y_val), (X_t, y_t), feats, orig_dims, admin_data = import_dataset_hospital(admin_data, x, y, SHIFT, OUTCOME, HOSPITAL, 1, shuffle=True)\n",
    "\n",
    "from sklearn.preprocessing import StandardScaler\n",
    "X_tr_normalized = X_tr.groupby(level=[0]).last()#first()\n",
    "X_val_normalized = X_val.groupby(level=[0]).last()#first()\n",
    "X_t_normalized = X_t.groupby(level=[0]).last()#first()\n",
    "\n",
    "#X_tr_normalized = X_tr.copy()\n",
    "#X_val_normalized = X_val.copy()\n",
    "#X_t_normalized = X_t.copy()\n",
    "\n",
    "\n",
    "if scale:\n",
    "    for col in numerical_cols:\n",
    "        scaler = StandardScaler().fit(X_tr_normalized[col].values.reshape(-1, 1))\n",
    "        X_tr_normalized[col] = pd.Series(\n",
    "            np.squeeze(scaler.transform(X_tr_normalized[col].values.reshape(-1, 1))),\n",
    "            index=X_tr_normalized[col].index,\n",
    "        )\n",
    "        X_val_normalized[col] = pd.Series(\n",
    "            np.squeeze(scaler.transform(X_val_normalized[col].values.reshape(-1, 1))),\n",
    "            index=X_val_normalized[col].index,\n",
    "        )\n",
    "        X_t_normalized[col] = pd.Series(\n",
    "            np.squeeze(scaler.transform(X_t_normalized[col].values.reshape(-1, 1))),\n",
    "            index=X_t_normalized[col].index,\n",
    "        )\n",
    "\n",
    "X_tr_final = X_tr_normalized.dropna().to_numpy()\n",
    "X_val_final = X_val_normalized.dropna().to_numpy()\n",
    "X_t_final = X_t_normalized.dropna().to_numpy()        \n",
    "\n",
    "#X_tr_final = X_tr_normalized.unstack(1).dropna().to_numpy()\n",
    "#X_val_final = X_val_normalized.unstack(1).dropna().to_numpy()\n",
    "#X_t_final = X_t_normalized.unstack(1).dropna().to_numpy()          \n",
    "\n",
    "sys.path.append(\"..\")\n",
    "\n",
    "from drift_detector.detector import ShiftDetector\n",
    "from drift_detector.reductor import ShiftReductor\n",
    "\n",
    "sample=100\n",
    "timesteps=6\n",
    "dr_technique=\"NoRed\"\n",
    "md_test=\"LSDD\"\n",
    "shift_reductor = ShiftReductor(\n",
    "            X_tr_final, y_tr, dr_technique, orig_dims, DATASET, dr_amount=None, var_ret=0.9, scale=False, scaler=\"standard\", model=None\n",
    ")\n",
    "\n",
    "shift_detector = ShiftDetector(\n",
    "                dr_technique, md_test, SIGN_LEVEL, shift_reductor, sample, DATASET\n",
    ")\n",
    "\n",
    "(p_val,\n",
    " dist,\n",
    " val_acc,\n",
    " te_acc,\n",
    ") = shift_detector.detect_data_shift(\n",
    "                X_tr_final, y_tr, X_val_final, y_val, X_t_final[:sample,:], y_t[:sample], orig_dims\n",
    ")\n",
    "\n",
    "X_tr_final.shape, X_val_final.shape, X_t_final.shape\n",
    "\n",
    "p_val"
   ]
  },
  {
   "cell_type": "code",
   "execution_count": 81,
   "id": "c93b51f7-f834-4cc6-bcc2-d2e8690931c5",
   "metadata": {},
   "outputs": [
    {
     "data": {
      "text/html": [
       "<div>\n",
       "<style scoped>\n",
       "    .dataframe tbody tr th:only-of-type {\n",
       "        vertical-align: middle;\n",
       "    }\n",
       "\n",
       "    .dataframe tbody tr th {\n",
       "        vertical-align: top;\n",
       "    }\n",
       "\n",
       "    .dataframe thead th {\n",
       "        text-align: right;\n",
       "    }\n",
       "</style>\n",
       "<table border=\"1\" class=\"dataframe\">\n",
       "  <thead>\n",
       "    <tr style=\"text-align: right;\">\n",
       "      <th></th>\n",
       "      <th>age</th>\n",
       "      <th>albumin</th>\n",
       "      <th>albumin_indicator</th>\n",
       "      <th>aptt</th>\n",
       "      <th>aptt_indicator</th>\n",
       "      <th>arterial paco2</th>\n",
       "      <th>arterial paco2_indicator</th>\n",
       "      <th>arterial pao2</th>\n",
       "      <th>arterial pao2_indicator</th>\n",
       "      <th>arterial ph</th>\n",
       "      <th>...</th>\n",
       "      <th>venous pco2_indicator</th>\n",
       "      <th>venous ph</th>\n",
       "      <th>venous ph_indicator</th>\n",
       "      <th>vitamin b12</th>\n",
       "      <th>vitamin b12_indicator</th>\n",
       "      <th>vitamin d</th>\n",
       "      <th>vitamin d_indicator</th>\n",
       "      <th>white blood cell count</th>\n",
       "      <th>white blood cell count_indicator</th>\n",
       "      <th>x-ray</th>\n",
       "    </tr>\n",
       "    <tr>\n",
       "      <th>encounter_id</th>\n",
       "      <th></th>\n",
       "      <th></th>\n",
       "      <th></th>\n",
       "      <th></th>\n",
       "      <th></th>\n",
       "      <th></th>\n",
       "      <th></th>\n",
       "      <th></th>\n",
       "      <th></th>\n",
       "      <th></th>\n",
       "      <th></th>\n",
       "      <th></th>\n",
       "      <th></th>\n",
       "      <th></th>\n",
       "      <th></th>\n",
       "      <th></th>\n",
       "      <th></th>\n",
       "      <th></th>\n",
       "      <th></th>\n",
       "      <th></th>\n",
       "      <th></th>\n",
       "    </tr>\n",
       "  </thead>\n",
       "  <tbody>\n",
       "    <tr>\n",
       "      <th>11100856</th>\n",
       "      <td>1.156679</td>\n",
       "      <td>0.009583</td>\n",
       "      <td>0</td>\n",
       "      <td>0.184130</td>\n",
       "      <td>0</td>\n",
       "      <td>1.043150</td>\n",
       "      <td>0</td>\n",
       "      <td>-0.055069</td>\n",
       "      <td>0</td>\n",
       "      <td>-0.465261</td>\n",
       "      <td>...</td>\n",
       "      <td>0</td>\n",
       "      <td>-0.384364</td>\n",
       "      <td>0</td>\n",
       "      <td>-0.994695</td>\n",
       "      <td>0</td>\n",
       "      <td>-0.533147</td>\n",
       "      <td>0</td>\n",
       "      <td>-0.174462</td>\n",
       "      <td>0</td>\n",
       "      <td>1</td>\n",
       "    </tr>\n",
       "    <tr>\n",
       "      <th>11103117</th>\n",
       "      <td>-0.114244</td>\n",
       "      <td>1.055060</td>\n",
       "      <td>0</td>\n",
       "      <td>-0.145082</td>\n",
       "      <td>0</td>\n",
       "      <td>1.043150</td>\n",
       "      <td>0</td>\n",
       "      <td>-0.055069</td>\n",
       "      <td>0</td>\n",
       "      <td>-0.465261</td>\n",
       "      <td>...</td>\n",
       "      <td>0</td>\n",
       "      <td>-0.260651</td>\n",
       "      <td>0</td>\n",
       "      <td>-1.067831</td>\n",
       "      <td>0</td>\n",
       "      <td>-0.533147</td>\n",
       "      <td>0</td>\n",
       "      <td>-0.780966</td>\n",
       "      <td>1</td>\n",
       "      <td>0</td>\n",
       "    </tr>\n",
       "    <tr>\n",
       "      <th>11104582</th>\n",
       "      <td>-1.108879</td>\n",
       "      <td>-0.737186</td>\n",
       "      <td>0</td>\n",
       "      <td>0.388468</td>\n",
       "      <td>0</td>\n",
       "      <td>1.043150</td>\n",
       "      <td>0</td>\n",
       "      <td>-0.055069</td>\n",
       "      <td>0</td>\n",
       "      <td>-0.465261</td>\n",
       "      <td>...</td>\n",
       "      <td>0</td>\n",
       "      <td>0.976480</td>\n",
       "      <td>0</td>\n",
       "      <td>-1.067831</td>\n",
       "      <td>0</td>\n",
       "      <td>-0.533147</td>\n",
       "      <td>0</td>\n",
       "      <td>0.793365</td>\n",
       "      <td>1</td>\n",
       "      <td>1</td>\n",
       "    </tr>\n",
       "    <tr>\n",
       "      <th>11112932</th>\n",
       "      <td>1.156679</td>\n",
       "      <td>1.204414</td>\n",
       "      <td>0</td>\n",
       "      <td>0.286299</td>\n",
       "      <td>0</td>\n",
       "      <td>-0.200130</td>\n",
       "      <td>0</td>\n",
       "      <td>-0.545965</td>\n",
       "      <td>0</td>\n",
       "      <td>-3.304942</td>\n",
       "      <td>...</td>\n",
       "      <td>0</td>\n",
       "      <td>-0.260651</td>\n",
       "      <td>0</td>\n",
       "      <td>1.818026</td>\n",
       "      <td>0</td>\n",
       "      <td>-0.533147</td>\n",
       "      <td>0</td>\n",
       "      <td>0.394620</td>\n",
       "      <td>0</td>\n",
       "      <td>1</td>\n",
       "    </tr>\n",
       "    <tr>\n",
       "      <th>11117740</th>\n",
       "      <td>0.106786</td>\n",
       "      <td>-0.886540</td>\n",
       "      <td>0</td>\n",
       "      <td>0.064932</td>\n",
       "      <td>0</td>\n",
       "      <td>-0.682597</td>\n",
       "      <td>0</td>\n",
       "      <td>0.401678</td>\n",
       "      <td>0</td>\n",
       "      <td>0.181922</td>\n",
       "      <td>...</td>\n",
       "      <td>0</td>\n",
       "      <td>-0.446221</td>\n",
       "      <td>0</td>\n",
       "      <td>-0.330368</td>\n",
       "      <td>0</td>\n",
       "      <td>-0.193256</td>\n",
       "      <td>0</td>\n",
       "      <td>0.888857</td>\n",
       "      <td>0</td>\n",
       "      <td>1</td>\n",
       "    </tr>\n",
       "    <tr>\n",
       "      <th>...</th>\n",
       "      <td>...</td>\n",
       "      <td>...</td>\n",
       "      <td>...</td>\n",
       "      <td>...</td>\n",
       "      <td>...</td>\n",
       "      <td>...</td>\n",
       "      <td>...</td>\n",
       "      <td>...</td>\n",
       "      <td>...</td>\n",
       "      <td>...</td>\n",
       "      <td>...</td>\n",
       "      <td>...</td>\n",
       "      <td>...</td>\n",
       "      <td>...</td>\n",
       "      <td>...</td>\n",
       "      <td>...</td>\n",
       "      <td>...</td>\n",
       "      <td>...</td>\n",
       "      <td>...</td>\n",
       "      <td>...</td>\n",
       "      <td>...</td>\n",
       "    </tr>\n",
       "    <tr>\n",
       "      <th>11987986</th>\n",
       "      <td>0.935649</td>\n",
       "      <td>1.055060</td>\n",
       "      <td>0</td>\n",
       "      <td>-0.411857</td>\n",
       "      <td>0</td>\n",
       "      <td>0.096773</td>\n",
       "      <td>0</td>\n",
       "      <td>3.193381</td>\n",
       "      <td>0</td>\n",
       "      <td>0.023429</td>\n",
       "      <td>...</td>\n",
       "      <td>0</td>\n",
       "      <td>0.976480</td>\n",
       "      <td>0</td>\n",
       "      <td>-0.976410</td>\n",
       "      <td>0</td>\n",
       "      <td>-0.605981</td>\n",
       "      <td>0</td>\n",
       "      <td>-0.473843</td>\n",
       "      <td>0</td>\n",
       "      <td>1</td>\n",
       "    </tr>\n",
       "    <tr>\n",
       "      <th>11993143</th>\n",
       "      <td>-1.274652</td>\n",
       "      <td>-2.380079</td>\n",
       "      <td>0</td>\n",
       "      <td>-0.105350</td>\n",
       "      <td>0</td>\n",
       "      <td>0.096773</td>\n",
       "      <td>0</td>\n",
       "      <td>3.193381</td>\n",
       "      <td>0</td>\n",
       "      <td>0.023429</td>\n",
       "      <td>...</td>\n",
       "      <td>0</td>\n",
       "      <td>-0.590553</td>\n",
       "      <td>0</td>\n",
       "      <td>-1.073926</td>\n",
       "      <td>0</td>\n",
       "      <td>0.000968</td>\n",
       "      <td>0</td>\n",
       "      <td>-0.445453</td>\n",
       "      <td>0</td>\n",
       "      <td>1</td>\n",
       "    </tr>\n",
       "    <tr>\n",
       "      <th>11993279</th>\n",
       "      <td>0.935649</td>\n",
       "      <td>0.457644</td>\n",
       "      <td>0</td>\n",
       "      <td>-0.411857</td>\n",
       "      <td>0</td>\n",
       "      <td>2.731784</td>\n",
       "      <td>0</td>\n",
       "      <td>-0.750860</td>\n",
       "      <td>0</td>\n",
       "      <td>-0.372806</td>\n",
       "      <td>...</td>\n",
       "      <td>0</td>\n",
       "      <td>-1.312213</td>\n",
       "      <td>0</td>\n",
       "      <td>-1.332952</td>\n",
       "      <td>0</td>\n",
       "      <td>0.000968</td>\n",
       "      <td>0</td>\n",
       "      <td>1.590854</td>\n",
       "      <td>0</td>\n",
       "      <td>1</td>\n",
       "    </tr>\n",
       "    <tr>\n",
       "      <th>11993518</th>\n",
       "      <td>0.880391</td>\n",
       "      <td>0.457644</td>\n",
       "      <td>0</td>\n",
       "      <td>-0.411857</td>\n",
       "      <td>0</td>\n",
       "      <td>2.731784</td>\n",
       "      <td>0</td>\n",
       "      <td>-0.750860</td>\n",
       "      <td>0</td>\n",
       "      <td>-0.372806</td>\n",
       "      <td>...</td>\n",
       "      <td>0</td>\n",
       "      <td>-1.312213</td>\n",
       "      <td>0</td>\n",
       "      <td>-0.848421</td>\n",
       "      <td>0</td>\n",
       "      <td>0.000968</td>\n",
       "      <td>0</td>\n",
       "      <td>-0.736446</td>\n",
       "      <td>0</td>\n",
       "      <td>1</td>\n",
       "    </tr>\n",
       "    <tr>\n",
       "      <th>11994501</th>\n",
       "      <td>1.543481</td>\n",
       "      <td>0.457644</td>\n",
       "      <td>0</td>\n",
       "      <td>-0.468617</td>\n",
       "      <td>0</td>\n",
       "      <td>2.731784</td>\n",
       "      <td>0</td>\n",
       "      <td>-0.750860</td>\n",
       "      <td>0</td>\n",
       "      <td>-0.372806</td>\n",
       "      <td>...</td>\n",
       "      <td>0</td>\n",
       "      <td>-1.312213</td>\n",
       "      <td>0</td>\n",
       "      <td>-0.848421</td>\n",
       "      <td>0</td>\n",
       "      <td>0.000968</td>\n",
       "      <td>0</td>\n",
       "      <td>-0.556430</td>\n",
       "      <td>0</td>\n",
       "      <td>1</td>\n",
       "    </tr>\n",
       "  </tbody>\n",
       "</table>\n",
       "<p>161 rows × 108 columns</p>\n",
       "</div>"
      ],
      "text/plain": [
       "                   age   albumin  albumin_indicator      aptt  aptt_indicator  \\\n",
       "encounter_id                                                                    \n",
       "11100856      1.156679  0.009583                  0  0.184130               0   \n",
       "11103117     -0.114244  1.055060                  0 -0.145082               0   \n",
       "11104582     -1.108879 -0.737186                  0  0.388468               0   \n",
       "11112932      1.156679  1.204414                  0  0.286299               0   \n",
       "11117740      0.106786 -0.886540                  0  0.064932               0   \n",
       "...                ...       ...                ...       ...             ...   \n",
       "11987986      0.935649  1.055060                  0 -0.411857               0   \n",
       "11993143     -1.274652 -2.380079                  0 -0.105350               0   \n",
       "11993279      0.935649  0.457644                  0 -0.411857               0   \n",
       "11993518      0.880391  0.457644                  0 -0.411857               0   \n",
       "11994501      1.543481  0.457644                  0 -0.468617               0   \n",
       "\n",
       "              arterial paco2  arterial paco2_indicator  arterial pao2  \\\n",
       "encounter_id                                                            \n",
       "11100856            1.043150                         0      -0.055069   \n",
       "11103117            1.043150                         0      -0.055069   \n",
       "11104582            1.043150                         0      -0.055069   \n",
       "11112932           -0.200130                         0      -0.545965   \n",
       "11117740           -0.682597                         0       0.401678   \n",
       "...                      ...                       ...            ...   \n",
       "11987986            0.096773                         0       3.193381   \n",
       "11993143            0.096773                         0       3.193381   \n",
       "11993279            2.731784                         0      -0.750860   \n",
       "11993518            2.731784                         0      -0.750860   \n",
       "11994501            2.731784                         0      -0.750860   \n",
       "\n",
       "              arterial pao2_indicator  arterial ph  ...  \\\n",
       "encounter_id                                        ...   \n",
       "11100856                            0    -0.465261  ...   \n",
       "11103117                            0    -0.465261  ...   \n",
       "11104582                            0    -0.465261  ...   \n",
       "11112932                            0    -3.304942  ...   \n",
       "11117740                            0     0.181922  ...   \n",
       "...                               ...          ...  ...   \n",
       "11987986                            0     0.023429  ...   \n",
       "11993143                            0     0.023429  ...   \n",
       "11993279                            0    -0.372806  ...   \n",
       "11993518                            0    -0.372806  ...   \n",
       "11994501                            0    -0.372806  ...   \n",
       "\n",
       "              venous pco2_indicator  venous ph  venous ph_indicator  \\\n",
       "encounter_id                                                          \n",
       "11100856                          0  -0.384364                    0   \n",
       "11103117                          0  -0.260651                    0   \n",
       "11104582                          0   0.976480                    0   \n",
       "11112932                          0  -0.260651                    0   \n",
       "11117740                          0  -0.446221                    0   \n",
       "...                             ...        ...                  ...   \n",
       "11987986                          0   0.976480                    0   \n",
       "11993143                          0  -0.590553                    0   \n",
       "11993279                          0  -1.312213                    0   \n",
       "11993518                          0  -1.312213                    0   \n",
       "11994501                          0  -1.312213                    0   \n",
       "\n",
       "              vitamin b12  vitamin b12_indicator  vitamin d  \\\n",
       "encounter_id                                                  \n",
       "11100856        -0.994695                      0  -0.533147   \n",
       "11103117        -1.067831                      0  -0.533147   \n",
       "11104582        -1.067831                      0  -0.533147   \n",
       "11112932         1.818026                      0  -0.533147   \n",
       "11117740        -0.330368                      0  -0.193256   \n",
       "...                   ...                    ...        ...   \n",
       "11987986        -0.976410                      0  -0.605981   \n",
       "11993143        -1.073926                      0   0.000968   \n",
       "11993279        -1.332952                      0   0.000968   \n",
       "11993518        -0.848421                      0   0.000968   \n",
       "11994501        -0.848421                      0   0.000968   \n",
       "\n",
       "              vitamin d_indicator  white blood cell count  \\\n",
       "encounter_id                                                \n",
       "11100856                        0               -0.174462   \n",
       "11103117                        0               -0.780966   \n",
       "11104582                        0                0.793365   \n",
       "11112932                        0                0.394620   \n",
       "11117740                        0                0.888857   \n",
       "...                           ...                     ...   \n",
       "11987986                        0               -0.473843   \n",
       "11993143                        0               -0.445453   \n",
       "11993279                        0                1.590854   \n",
       "11993518                        0               -0.736446   \n",
       "11994501                        0               -0.556430   \n",
       "\n",
       "              white blood cell count_indicator  x-ray  \n",
       "encounter_id                                           \n",
       "11100856                                     0      1  \n",
       "11103117                                     1      0  \n",
       "11104582                                     1      1  \n",
       "11112932                                     0      1  \n",
       "11117740                                     0      1  \n",
       "...                                        ...    ...  \n",
       "11987986                                     0      1  \n",
       "11993143                                     0      1  \n",
       "11993279                                     0      1  \n",
       "11993518                                     0      1  \n",
       "11994501                                     0      1  \n",
       "\n",
       "[161 rows x 108 columns]"
      ]
     },
     "execution_count": 81,
     "metadata": {},
     "output_type": "execute_result"
    }
   ],
   "source": [
    "X_val_normalized"
   ]
  },
  {
   "cell_type": "code",
   "execution_count": 82,
   "id": "35031884-5de6-4827-b47c-979521a0fa2b",
   "metadata": {},
   "outputs": [
    {
     "data": {
      "text/html": [
       "<div>\n",
       "<style scoped>\n",
       "    .dataframe tbody tr th:only-of-type {\n",
       "        vertical-align: middle;\n",
       "    }\n",
       "\n",
       "    .dataframe tbody tr th {\n",
       "        vertical-align: top;\n",
       "    }\n",
       "\n",
       "    .dataframe thead th {\n",
       "        text-align: right;\n",
       "    }\n",
       "</style>\n",
       "<table border=\"1\" class=\"dataframe\">\n",
       "  <thead>\n",
       "    <tr style=\"text-align: right;\">\n",
       "      <th></th>\n",
       "      <th>age</th>\n",
       "      <th>albumin</th>\n",
       "      <th>albumin_indicator</th>\n",
       "      <th>aptt</th>\n",
       "      <th>aptt_indicator</th>\n",
       "      <th>arterial paco2</th>\n",
       "      <th>arterial paco2_indicator</th>\n",
       "      <th>arterial pao2</th>\n",
       "      <th>arterial pao2_indicator</th>\n",
       "      <th>arterial ph</th>\n",
       "      <th>...</th>\n",
       "      <th>venous pco2_indicator</th>\n",
       "      <th>venous ph</th>\n",
       "      <th>venous ph_indicator</th>\n",
       "      <th>vitamin b12</th>\n",
       "      <th>vitamin b12_indicator</th>\n",
       "      <th>vitamin d</th>\n",
       "      <th>vitamin d_indicator</th>\n",
       "      <th>white blood cell count</th>\n",
       "      <th>white blood cell count_indicator</th>\n",
       "      <th>x-ray</th>\n",
       "    </tr>\n",
       "    <tr>\n",
       "      <th>encounter_id</th>\n",
       "      <th></th>\n",
       "      <th></th>\n",
       "      <th></th>\n",
       "      <th></th>\n",
       "      <th></th>\n",
       "      <th></th>\n",
       "      <th></th>\n",
       "      <th></th>\n",
       "      <th></th>\n",
       "      <th></th>\n",
       "      <th></th>\n",
       "      <th></th>\n",
       "      <th></th>\n",
       "      <th></th>\n",
       "      <th></th>\n",
       "      <th></th>\n",
       "      <th></th>\n",
       "      <th></th>\n",
       "      <th></th>\n",
       "      <th></th>\n",
       "      <th></th>\n",
       "    </tr>\n",
       "  </thead>\n",
       "  <tbody>\n",
       "    <tr>\n",
       "      <th>11105194</th>\n",
       "      <td>-1.882484</td>\n",
       "      <td>0.905706</td>\n",
       "      <td>0</td>\n",
       "      <td>-0.655927</td>\n",
       "      <td>0</td>\n",
       "      <td>-0.311469</td>\n",
       "      <td>0</td>\n",
       "      <td>-0.443517</td>\n",
       "      <td>0</td>\n",
       "      <td>0.895145</td>\n",
       "      <td>...</td>\n",
       "      <td>0</td>\n",
       "      <td>-0.136938</td>\n",
       "      <td>0</td>\n",
       "      <td>-1.067831</td>\n",
       "      <td>0</td>\n",
       "      <td>-0.533147</td>\n",
       "      <td>0</td>\n",
       "      <td>0.510759</td>\n",
       "      <td>0</td>\n",
       "      <td>1</td>\n",
       "    </tr>\n",
       "    <tr>\n",
       "      <th>11121597</th>\n",
       "      <td>0.659361</td>\n",
       "      <td>-0.886540</td>\n",
       "      <td>0</td>\n",
       "      <td>-0.650251</td>\n",
       "      <td>0</td>\n",
       "      <td>-0.645484</td>\n",
       "      <td>0</td>\n",
       "      <td>-0.059338</td>\n",
       "      <td>0</td>\n",
       "      <td>0.419663</td>\n",
       "      <td>...</td>\n",
       "      <td>0</td>\n",
       "      <td>0.605340</td>\n",
       "      <td>0</td>\n",
       "      <td>-0.561968</td>\n",
       "      <td>0</td>\n",
       "      <td>-0.193256</td>\n",
       "      <td>0</td>\n",
       "      <td>0.763685</td>\n",
       "      <td>0</td>\n",
       "      <td>1</td>\n",
       "    </tr>\n",
       "    <tr>\n",
       "      <th>11130949</th>\n",
       "      <td>1.156679</td>\n",
       "      <td>-0.065094</td>\n",
       "      <td>0</td>\n",
       "      <td>0.904989</td>\n",
       "      <td>0</td>\n",
       "      <td>0.282337</td>\n",
       "      <td>0</td>\n",
       "      <td>0.504125</td>\n",
       "      <td>0</td>\n",
       "      <td>-0.848287</td>\n",
       "      <td>...</td>\n",
       "      <td>0</td>\n",
       "      <td>-0.600862</td>\n",
       "      <td>0</td>\n",
       "      <td>-0.872800</td>\n",
       "      <td>0</td>\n",
       "      <td>1.336256</td>\n",
       "      <td>0</td>\n",
       "      <td>-0.505458</td>\n",
       "      <td>0</td>\n",
       "      <td>1</td>\n",
       "    </tr>\n",
       "    <tr>\n",
       "      <th>11141777</th>\n",
       "      <td>0.714619</td>\n",
       "      <td>1.055060</td>\n",
       "      <td>0</td>\n",
       "      <td>1.052567</td>\n",
       "      <td>0</td>\n",
       "      <td>-0.478476</td>\n",
       "      <td>0</td>\n",
       "      <td>-0.878920</td>\n",
       "      <td>0</td>\n",
       "      <td>0.895145</td>\n",
       "      <td>...</td>\n",
       "      <td>0</td>\n",
       "      <td>0.234201</td>\n",
       "      <td>0</td>\n",
       "      <td>0.352242</td>\n",
       "      <td>0</td>\n",
       "      <td>1.336256</td>\n",
       "      <td>0</td>\n",
       "      <td>0.319775</td>\n",
       "      <td>0</td>\n",
       "      <td>1</td>\n",
       "    </tr>\n",
       "    <tr>\n",
       "      <th>11147990</th>\n",
       "      <td>0.217301</td>\n",
       "      <td>1.055060</td>\n",
       "      <td>0</td>\n",
       "      <td>-0.445913</td>\n",
       "      <td>0</td>\n",
       "      <td>-0.051679</td>\n",
       "      <td>0</td>\n",
       "      <td>-1.365547</td>\n",
       "      <td>0</td>\n",
       "      <td>0.498910</td>\n",
       "      <td>...</td>\n",
       "      <td>0</td>\n",
       "      <td>0.729053</td>\n",
       "      <td>0</td>\n",
       "      <td>-1.174489</td>\n",
       "      <td>0</td>\n",
       "      <td>1.336256</td>\n",
       "      <td>0</td>\n",
       "      <td>1.272761</td>\n",
       "      <td>0</td>\n",
       "      <td>1</td>\n",
       "    </tr>\n",
       "    <tr>\n",
       "      <th>...</th>\n",
       "      <td>...</td>\n",
       "      <td>...</td>\n",
       "      <td>...</td>\n",
       "      <td>...</td>\n",
       "      <td>...</td>\n",
       "      <td>...</td>\n",
       "      <td>...</td>\n",
       "      <td>...</td>\n",
       "      <td>...</td>\n",
       "      <td>...</td>\n",
       "      <td>...</td>\n",
       "      <td>...</td>\n",
       "      <td>...</td>\n",
       "      <td>...</td>\n",
       "      <td>...</td>\n",
       "      <td>...</td>\n",
       "      <td>...</td>\n",
       "      <td>...</td>\n",
       "      <td>...</td>\n",
       "      <td>...</td>\n",
       "      <td>...</td>\n",
       "    </tr>\n",
       "    <tr>\n",
       "      <th>11965913</th>\n",
       "      <td>1.211936</td>\n",
       "      <td>0.756352</td>\n",
       "      <td>0</td>\n",
       "      <td>-0.718364</td>\n",
       "      <td>0</td>\n",
       "      <td>-0.237243</td>\n",
       "      <td>0</td>\n",
       "      <td>0.990753</td>\n",
       "      <td>0</td>\n",
       "      <td>0.895145</td>\n",
       "      <td>...</td>\n",
       "      <td>0</td>\n",
       "      <td>-0.508077</td>\n",
       "      <td>0</td>\n",
       "      <td>1.476721</td>\n",
       "      <td>0</td>\n",
       "      <td>0.559361</td>\n",
       "      <td>0</td>\n",
       "      <td>-0.453196</td>\n",
       "      <td>0</td>\n",
       "      <td>1</td>\n",
       "    </tr>\n",
       "    <tr>\n",
       "      <th>11980784</th>\n",
       "      <td>-2.324544</td>\n",
       "      <td>0.308290</td>\n",
       "      <td>0</td>\n",
       "      <td>-0.116702</td>\n",
       "      <td>0</td>\n",
       "      <td>-0.311469</td>\n",
       "      <td>0</td>\n",
       "      <td>-0.494741</td>\n",
       "      <td>0</td>\n",
       "      <td>0.657404</td>\n",
       "      <td>...</td>\n",
       "      <td>0</td>\n",
       "      <td>-0.343127</td>\n",
       "      <td>0</td>\n",
       "      <td>-0.150574</td>\n",
       "      <td>0</td>\n",
       "      <td>-0.605981</td>\n",
       "      <td>0</td>\n",
       "      <td>-0.635147</td>\n",
       "      <td>0</td>\n",
       "      <td>1</td>\n",
       "    </tr>\n",
       "    <tr>\n",
       "      <th>11990559</th>\n",
       "      <td>1.046164</td>\n",
       "      <td>0.009583</td>\n",
       "      <td>1</td>\n",
       "      <td>0.081960</td>\n",
       "      <td>0</td>\n",
       "      <td>0.096773</td>\n",
       "      <td>0</td>\n",
       "      <td>3.193381</td>\n",
       "      <td>0</td>\n",
       "      <td>0.023429</td>\n",
       "      <td>...</td>\n",
       "      <td>0</td>\n",
       "      <td>0.234201</td>\n",
       "      <td>0</td>\n",
       "      <td>-0.461405</td>\n",
       "      <td>0</td>\n",
       "      <td>0.000968</td>\n",
       "      <td>0</td>\n",
       "      <td>-0.835164</td>\n",
       "      <td>1</td>\n",
       "      <td>1</td>\n",
       "    </tr>\n",
       "    <tr>\n",
       "      <th>11995208</th>\n",
       "      <td>0.659361</td>\n",
       "      <td>1.055060</td>\n",
       "      <td>0</td>\n",
       "      <td>-0.468617</td>\n",
       "      <td>0</td>\n",
       "      <td>2.731784</td>\n",
       "      <td>0</td>\n",
       "      <td>-0.750860</td>\n",
       "      <td>0</td>\n",
       "      <td>-0.372806</td>\n",
       "      <td>...</td>\n",
       "      <td>0</td>\n",
       "      <td>-0.013225</td>\n",
       "      <td>0</td>\n",
       "      <td>-0.848421</td>\n",
       "      <td>0</td>\n",
       "      <td>0.000968</td>\n",
       "      <td>0</td>\n",
       "      <td>-0.228660</td>\n",
       "      <td>0</td>\n",
       "      <td>1</td>\n",
       "    </tr>\n",
       "    <tr>\n",
       "      <th>11999021</th>\n",
       "      <td>0.769876</td>\n",
       "      <td>-2.081371</td>\n",
       "      <td>0</td>\n",
       "      <td>-0.968111</td>\n",
       "      <td>0</td>\n",
       "      <td>-0.274356</td>\n",
       "      <td>0</td>\n",
       "      <td>-1.058204</td>\n",
       "      <td>0</td>\n",
       "      <td>0.815898</td>\n",
       "      <td>...</td>\n",
       "      <td>0</td>\n",
       "      <td>-0.260651</td>\n",
       "      <td>0</td>\n",
       "      <td>1.818026</td>\n",
       "      <td>0</td>\n",
       "      <td>0.000968</td>\n",
       "      <td>0</td>\n",
       "      <td>0.834659</td>\n",
       "      <td>0</td>\n",
       "      <td>1</td>\n",
       "    </tr>\n",
       "  </tbody>\n",
       "</table>\n",
       "<p>146 rows × 108 columns</p>\n",
       "</div>"
      ],
      "text/plain": [
       "                   age   albumin  albumin_indicator      aptt  aptt_indicator  \\\n",
       "encounter_id                                                                    \n",
       "11105194     -1.882484  0.905706                  0 -0.655927               0   \n",
       "11121597      0.659361 -0.886540                  0 -0.650251               0   \n",
       "11130949      1.156679 -0.065094                  0  0.904989               0   \n",
       "11141777      0.714619  1.055060                  0  1.052567               0   \n",
       "11147990      0.217301  1.055060                  0 -0.445913               0   \n",
       "...                ...       ...                ...       ...             ...   \n",
       "11965913      1.211936  0.756352                  0 -0.718364               0   \n",
       "11980784     -2.324544  0.308290                  0 -0.116702               0   \n",
       "11990559      1.046164  0.009583                  1  0.081960               0   \n",
       "11995208      0.659361  1.055060                  0 -0.468617               0   \n",
       "11999021      0.769876 -2.081371                  0 -0.968111               0   \n",
       "\n",
       "              arterial paco2  arterial paco2_indicator  arterial pao2  \\\n",
       "encounter_id                                                            \n",
       "11105194           -0.311469                         0      -0.443517   \n",
       "11121597           -0.645484                         0      -0.059338   \n",
       "11130949            0.282337                         0       0.504125   \n",
       "11141777           -0.478476                         0      -0.878920   \n",
       "11147990           -0.051679                         0      -1.365547   \n",
       "...                      ...                       ...            ...   \n",
       "11965913           -0.237243                         0       0.990753   \n",
       "11980784           -0.311469                         0      -0.494741   \n",
       "11990559            0.096773                         0       3.193381   \n",
       "11995208            2.731784                         0      -0.750860   \n",
       "11999021           -0.274356                         0      -1.058204   \n",
       "\n",
       "              arterial pao2_indicator  arterial ph  ...  \\\n",
       "encounter_id                                        ...   \n",
       "11105194                            0     0.895145  ...   \n",
       "11121597                            0     0.419663  ...   \n",
       "11130949                            0    -0.848287  ...   \n",
       "11141777                            0     0.895145  ...   \n",
       "11147990                            0     0.498910  ...   \n",
       "...                               ...          ...  ...   \n",
       "11965913                            0     0.895145  ...   \n",
       "11980784                            0     0.657404  ...   \n",
       "11990559                            0     0.023429  ...   \n",
       "11995208                            0    -0.372806  ...   \n",
       "11999021                            0     0.815898  ...   \n",
       "\n",
       "              venous pco2_indicator  venous ph  venous ph_indicator  \\\n",
       "encounter_id                                                          \n",
       "11105194                          0  -0.136938                    0   \n",
       "11121597                          0   0.605340                    0   \n",
       "11130949                          0  -0.600862                    0   \n",
       "11141777                          0   0.234201                    0   \n",
       "11147990                          0   0.729053                    0   \n",
       "...                             ...        ...                  ...   \n",
       "11965913                          0  -0.508077                    0   \n",
       "11980784                          0  -0.343127                    0   \n",
       "11990559                          0   0.234201                    0   \n",
       "11995208                          0  -0.013225                    0   \n",
       "11999021                          0  -0.260651                    0   \n",
       "\n",
       "              vitamin b12  vitamin b12_indicator  vitamin d  \\\n",
       "encounter_id                                                  \n",
       "11105194        -1.067831                      0  -0.533147   \n",
       "11121597        -0.561968                      0  -0.193256   \n",
       "11130949        -0.872800                      0   1.336256   \n",
       "11141777         0.352242                      0   1.336256   \n",
       "11147990        -1.174489                      0   1.336256   \n",
       "...                   ...                    ...        ...   \n",
       "11965913         1.476721                      0   0.559361   \n",
       "11980784        -0.150574                      0  -0.605981   \n",
       "11990559        -0.461405                      0   0.000968   \n",
       "11995208        -0.848421                      0   0.000968   \n",
       "11999021         1.818026                      0   0.000968   \n",
       "\n",
       "              vitamin d_indicator  white blood cell count  \\\n",
       "encounter_id                                                \n",
       "11105194                        0                0.510759   \n",
       "11121597                        0                0.763685   \n",
       "11130949                        0               -0.505458   \n",
       "11141777                        0                0.319775   \n",
       "11147990                        0                1.272761   \n",
       "...                           ...                     ...   \n",
       "11965913                        0               -0.453196   \n",
       "11980784                        0               -0.635147   \n",
       "11990559                        0               -0.835164   \n",
       "11995208                        0               -0.228660   \n",
       "11999021                        0                0.834659   \n",
       "\n",
       "              white blood cell count_indicator  x-ray  \n",
       "encounter_id                                           \n",
       "11105194                                     0      1  \n",
       "11121597                                     0      1  \n",
       "11130949                                     0      1  \n",
       "11141777                                     0      1  \n",
       "11147990                                     0      1  \n",
       "...                                        ...    ...  \n",
       "11965913                                     0      1  \n",
       "11980784                                     0      1  \n",
       "11990559                                     1      1  \n",
       "11995208                                     0      1  \n",
       "11999021                                     0      1  \n",
       "\n",
       "[146 rows x 108 columns]"
      ]
     },
     "execution_count": 82,
     "metadata": {},
     "output_type": "execute_result"
    }
   ],
   "source": [
    "X_t_normalized"
   ]
  },
  {
   "cell_type": "code",
   "execution_count": null,
   "id": "9a0d5e31-0bb2-4470-bc81-2a042e51aa1d",
   "metadata": {},
   "outputs": [],
   "source": []
  }
 ],
 "metadata": {
  "kernelspec": {
   "display_name": "cyclops-KKtuQLwg-py3.9",
   "language": "python",
   "name": "cyclops-kktuqlwg-py3.9"
  },
  "language_info": {
   "codemirror_mode": {
    "name": "ipython",
    "version": 3
   },
   "file_extension": ".py",
   "mimetype": "text/x-python",
   "name": "python",
   "nbconvert_exporter": "python",
   "pygments_lexer": "ipython3",
   "version": "3.9.7"
  }
 },
 "nbformat": 4,
 "nbformat_minor": 5
}
