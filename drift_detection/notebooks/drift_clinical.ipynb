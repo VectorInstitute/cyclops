{
 "cells": [
  {
   "cell_type": "code",
   "execution_count": 1,
   "id": "6b553ccb-04dc-4516-a838-c3f3e3d4fc97",
   "metadata": {},
   "outputs": [
    {
     "name": "stderr",
     "output_type": "stream",
     "text": [
      "2022-07-07 10:27:48,868 \u001b[1;37mINFO\u001b[0m cyclops.orm     - Database setup, ready to run queries!\n"
     ]
    }
   ],
   "source": [
    "import sys\n",
    "import pandas as pd\n",
    "import numpy as np\n",
    "import os\n",
    "from functools import reduce\n",
    "import datetime\n",
    "import pickle\n",
    "import matplotlib.pyplot as plt\n",
    "from sklearn.metrics import (\n",
    "    auc,\n",
    "    accuracy_score,\n",
    "    confusion_matrix,\n",
    "    roc_auc_score,\n",
    "    roc_curve,\n",
    "    precision_recall_curve,\n",
    "    average_precision_score,\n",
    ")\n",
    "\n",
    "sys.path.append(\"..\")\n",
    "\n",
    "from cyclops.feature_handler import FeatureHandler\n",
    "from drift_detector.explainer import ShiftExplainer\n",
    "from experiments import *\n",
    "from utils.constants import *\n",
    "from utils.plot_utils import errorfill, plot_roc, plot_pr, linestyles, markers, colors, brightness, colorscale\n",
    "from utils.utils import run_shift_experiment, get_gemini_data, import_dataset_hospital, get_dataset_hospital, reshape_inputs\n",
    "from baseline_models.static.utils import run_model"
   ]
  },
  {
   "cell_type": "markdown",
   "id": "renewable-mortgage",
   "metadata": {},
   "source": [
    "# Config Parameters #"
   ]
  },
  {
   "cell_type": "code",
   "execution_count": 33,
   "id": "hourly-insider",
   "metadata": {},
   "outputs": [],
   "source": [
    "PATH = \"/mnt/nfs/project/delirium/drift_exp/JULY-04-2022\"\n",
    "DATASET = \"gemini\"\n",
    "SAMPLES = [10, 20, 50, 100, 200, 500, 1000]\n",
    "RANDOM_RUNS = 5\n",
    "SIGN_LEVEL = 0.05\n",
    "CALC_ACC = True\n",
    "TIMESTEPS = 6\n",
    "AGGREGATION_TYPE = \"time_flatten\"\n",
    "SCALE=True\n",
    "DR_TECHNIQUES = [\"NoRed\"]#[\"NoRed\",\"SRP\", \"PCA\", \"kPCA\", \"Isomap\",\"BBSDs_FFNN\",\"BBSDs_LSTM\"]\n",
    "MD_TESTS = [\"MMD\"]#[\"LSDD\", \"MMD\", \"LK\",\"Classifier\"]"
   ]
  },
  {
   "cell_type": "markdown",
   "id": "ee047a8c-392e-46c5-8877-37aa9ca4fc15",
   "metadata": {},
   "source": [
    "# Query Data"
   ]
  },
  {
   "cell_type": "code",
   "execution_count": 34,
   "id": "7651e075-3673-44ec-9196-bf9bee056cfd",
   "metadata": {},
   "outputs": [
    {
     "name": "stderr",
     "output_type": "stream",
     "text": [
      "2022-07-07 10:36:31,704 \u001b[1;37mINFO\u001b[0m cyclops.utils.file - Loading dataframe to /mnt/nfs/project/delirium/drift_exp/JULY-04-2022/aggregated_events.parquet\n"
     ]
    },
    {
     "name": "stdout",
     "output_type": "stream",
     "text": [
      "Load data from aggregated events...\n"
     ]
    },
    {
     "name": "stderr",
     "output_type": "stream",
     "text": [
      "2022-07-07 10:36:31,988 \u001b[1;37mINFO\u001b[0m cyclops.utils.file - Loading dataframe to /mnt/nfs/project/delirium/drift_exp/JULY-04-2022/aggmeta_start_ts.parquet\n",
      "2022-07-07 10:36:32,071 \u001b[1;37mINFO\u001b[0m cyclops.feature_handler - Loading features from file...\n",
      "2022-07-07 10:36:32,072 \u001b[1;37mINFO\u001b[0m cyclops.feature_handler - Found file to load for static features...\n",
      "2022-07-07 10:36:32,073 \u001b[1;37mINFO\u001b[0m cyclops.feature_handler - Successfully loaded static features from file...\n",
      "2022-07-07 10:36:32,101 \u001b[1;37mINFO\u001b[0m cyclops.feature_handler - Found file to load for temporal features...\n"
     ]
    },
    {
     "name": "stdout",
     "output_type": "stream",
     "text": [
      "Load data from feature handler...\n"
     ]
    },
    {
     "name": "stderr",
     "output_type": "stream",
     "text": [
      "2022-07-07 10:36:36,892 \u001b[1;37mINFO\u001b[0m cyclops.feature_handler - Successfully loaded temporal features from file...\n"
     ]
    },
    {
     "name": "stdout",
     "output_type": "stream",
     "text": [
      "Load data from admin data...\n"
     ]
    },
    {
     "name": "stderr",
     "output_type": "stream",
     "text": [
      "2022-07-07 10:36:45,356 \u001b[1;37mINFO\u001b[0m cyclops.utils.file - Loading dataframe to /mnt/nfs/project/delirium/drift_exp/JULY-04-2022/aggmeta_end_ts.parquet\n"
     ]
    }
   ],
   "source": [
    "admin_data, x, y = get_gemini_data(PATH)"
   ]
  },
  {
   "cell_type": "markdown",
   "id": "typical-angola",
   "metadata": {},
   "source": [
    "# Input Parameters #"
   ]
  },
  {
   "cell_type": "code",
   "execution_count": 4,
   "id": "308b97d6-7ec6-4825-aad0-59370c7bf44b",
   "metadata": {},
   "outputs": [
    {
     "name": "stdin",
     "output_type": "stream",
     "text": [
      "Select experiment:  covid\n",
      "Select outcome variable:  mortality\n",
      "Select hospital:  SMH,MSH,THPC,THPM,UHNTG,UHNTW,PMH\n"
     ]
    }
   ],
   "source": [
    "SHIFT = input(\"Select experiment: \")  # covid,seasonal,hosp_type\n",
    "OUTCOME = input(\"Select outcome variable: \") # mortality\n",
    "if SHIFT != \"hosp_type\":\n",
    "    HOSPITAL = input(\"Select hospital: \") # SMH,MSH,UHNTG,UHNTW,PMH\n",
    "    HOSPITAL = HOSPITAL.split(',')\n",
    "\n",
    "if SHIFT == \"covid\":\n",
    "    EXPERIMENTS = [\"pre-covid\", \"covid\"]\n",
    "    HOSPITAL= [\"SMH\",\"MSH\",\"UHNTG\",\"UHNTW\",\"PMH\"]\n",
    "\n",
    "if SHIFT == \"seasonal\":\n",
    "    EXPERIMENTS = [\"summer\", \"winter\", \"seasonal\"] #SMH,MSH,THPC,THPM,UHNTG,UHNTW,PMH\n",
    "\n",
    "if SHIFT == \"hosp_type\":\n",
    "    EXPERIMENTS = [\"academic\", \"community\", \"hosp_type\"]\n",
    "    HOSPITAL = [\"SMH\",\"MSH\",\"THPC\",\"THPM\",\"UHNTG\",\"UHNTW\",\"PMH\"]\n"
   ]
  },
  {
   "cell_type": "markdown",
   "id": "tropical-switch",
   "metadata": {},
   "source": [
    "# Drift Tests #"
   ]
  },
  {
   "cell_type": "code",
   "execution_count": 36,
   "id": "55c38f08-0878-416c-b8fa-1c966728041e",
   "metadata": {},
   "outputs": [
    {
     "name": "stderr",
     "output_type": "stream",
     "text": [
      "2022-07-07 10:37:31,301 \u001b[1;37mINFO\u001b[0m cyclops.feature_handler - Loading features from file...\n",
      "2022-07-07 10:37:31,303 \u001b[1;37mINFO\u001b[0m cyclops.feature_handler - Found file to load for static features...\n",
      "2022-07-07 10:37:31,304 \u001b[1;37mINFO\u001b[0m cyclops.feature_handler - Successfully loaded static features from file...\n",
      "2022-07-07 10:37:31,332 \u001b[1;37mINFO\u001b[0m cyclops.feature_handler - Found file to load for temporal features...\n"
     ]
    },
    {
     "name": "stdout",
     "output_type": "stream",
     "text": [
      "pre-covid | ['SMH', 'MSH', 'UHNTG', 'UHNTW', 'PMH'] | NoRed | MMD\n"
     ]
    },
    {
     "name": "stderr",
     "output_type": "stream",
     "text": [
      "2022-07-07 10:37:36,111 \u001b[1;37mINFO\u001b[0m cyclops.feature_handler - Successfully loaded temporal features from file...\n",
      "2022-07-07 10:37:39,783 \u001b[1;37mINFO\u001b[0m cyclops.feature_handler - Loading features from file...\n",
      "2022-07-07 10:37:39,784 \u001b[1;37mINFO\u001b[0m cyclops.feature_handler - Found file to load for static features...\n",
      "2022-07-07 10:37:39,785 \u001b[1;37mINFO\u001b[0m cyclops.feature_handler - Successfully loaded static features from file...\n",
      "2022-07-07 10:37:39,813 \u001b[1;37mINFO\u001b[0m cyclops.feature_handler - Found file to load for temporal features...\n"
     ]
    },
    {
     "name": "stdout",
     "output_type": "stream",
     "text": [
      "covid | ['SMH', 'MSH', 'UHNTG', 'UHNTW', 'PMH'] | NoRed | MMD\n"
     ]
    },
    {
     "name": "stderr",
     "output_type": "stream",
     "text": [
      "2022-07-07 10:37:44,556 \u001b[1;37mINFO\u001b[0m cyclops.feature_handler - Successfully loaded temporal features from file...\n"
     ]
    }
   ],
   "source": [
    "# Run shift experiments\n",
    "if os.path.exists(os.path.join(PATH, '_'.join([SHIFT, '_'.join(HOSPITAL),\"mean_dr_md_pval.pkl\"]))):\n",
    "    with open(os.path.join(PATH, '_'.join([SHIFT, '_'.join(HOSPITAL),\"mean_dr_md_pval.pkl\"])), \"rb\") as f:\n",
    "        mean_dr_md_pval = pickle.load(f)\n",
    "    with open(os.path.join(PATH, '_'.join([SHIFT, '_'.join(HOSPITAL),\"mean_dr_md_dist.pkl\"])), \"rb\") as f:\n",
    "        mean_dr_md_dist = pickle.load(f)\n",
    "else:\n",
    "    mean_dr_md_pval = np.ones(\n",
    "        (len(EXPERIMENTS), len(DR_TECHNIQUES), len(MD_TESTS), len(SAMPLES))\n",
    "    ) * (-1)\n",
    "    mean_dr_md_dist = np.ones(\n",
    "        (len(EXPERIMENTS), len(DR_TECHNIQUES), len(MD_TESTS), len(SAMPLES))\n",
    "    ) * (-1)\n",
    "\n",
    "if os.path.exists(os.path.join(PATH, '_'.join([SHIFT, '_'.join(HOSPITAL),\"std_dr_md_pval.pkl\"]))):\n",
    "    with open(os.path.join(PATH, '_'.join([SHIFT, '_'.join(HOSPITAL),\"std_dr_md_pval.pkl\"])), \"rb\") as f:\n",
    "        std_dr_md_pval = pickle.load(f)\n",
    "    with open(os.path.join(PATH, '_'.join([SHIFT, '_'.join(HOSPITAL),\"std_dr_md_dist.pkl\"])), \"rb\") as f:\n",
    "        std_dr_md_dist = pickle.load(f)\n",
    "        \n",
    "else:\n",
    "    std_dr_md_pval = np.ones(\n",
    "        (len(EXPERIMENTS), len(DR_TECHNIQUES), len(MD_TESTS), len(SAMPLES))\n",
    "    ) * (-1)\n",
    "    std_dr_md_dist = np.ones(\n",
    "        (len(EXPERIMENTS), len(DR_TECHNIQUES), len(MD_TESTS), len(SAMPLES))\n",
    "    ) * (-1)\n",
    "\n",
    "\n",
    "for si, SHIFT in enumerate(EXPERIMENTS):\n",
    "    for di, DR_TECHNIQUE in enumerate(DR_TECHNIQUES):\n",
    "        for mi, MD_TEST in enumerate(MD_TESTS):\n",
    "            if np.any(mean_dr_md_pval[si, di, mi, :] == -1):\n",
    "                print(\n",
    "                    \"{} | {} | {} | {}\".format(\n",
    "                        SHIFT, HOSPITAL, DR_TECHNIQUE, MD_TEST\n",
    "                    )\n",
    "                )\n",
    "                try:\n",
    "                    mean_p_vals, std_p_vals, mean_dist, std_dist = run_shift_experiment(\n",
    "                        shift=SHIFT,\n",
    "                        admin_data=admin_data,\n",
    "                        x=x, \n",
    "                        y=y,\n",
    "                        outcome=OUTCOME,\n",
    "                        hospital=HOSPITAL,\n",
    "                        path=PATH,\n",
    "                        aggregation_type=AGGREGATION_TYPE,\n",
    "                        scale=SCALE,\n",
    "                        dr_technique=DR_TECHNIQUE,\n",
    "                        md_test=MD_TEST,\n",
    "                        samples=SAMPLES,\n",
    "                        dataset=DATASET,\n",
    "                        sign_level=SIGN_LEVEL,\n",
    "                        timesteps=TIMESTEPS,\n",
    "                        random_runs=RANDOM_RUNS,\n",
    "                        calc_acc=CALC_ACC\n",
    "                    )\n",
    "                    \n",
    "                    mean_dr_md_pval[si, di, mi, :] = mean_p_vals\n",
    "                    std_dr_md_pval[si, di, mi, :] = std_p_vals\n",
    "                    mean_dr_md_dist[si, di, mi, :] = mean_dist\n",
    "                    std_dr_md_dist[si, di, mi, :] = std_dist\n",
    "                except ValueError as e:\n",
    "                    print(\"Value Error\")\n",
    "                    pass"
   ]
  },
  {
   "cell_type": "code",
   "execution_count": 37,
   "id": "88acfc2d-21ad-46f7-813d-00041adbddee",
   "metadata": {},
   "outputs": [
    {
     "name": "stdin",
     "output_type": "stream",
     "text": [
      "Select Pre-Processing:  NoRed\n",
      "Select Two-Sample Testing:  MMD\n"
     ]
    },
    {
     "data": {
      "image/png": "[encoded data removed]",
      "text/plain": [
       "<Figure size 576x432 with 1 Axes>"
      ]
     },
     "metadata": {
      "needs_background": "light"
     },
     "output_type": "display_data"
    }
   ],
   "source": [
    "DIM_RED = input(\"Select Pre-Processing: \")\n",
    "MD_TEST = input(\"Select Two-Sample Testing: \")\n",
    "\n",
    "fig = plt.figure(figsize=(8, 6))\n",
    "for si, shift in enumerate(EXPERIMENTS):\n",
    "    for di, dr_technique in enumerate(DR_TECHNIQUES):\n",
    "        for mi, md_test in enumerate(MD_TESTS):\n",
    "            if (\n",
    "                    dr_technique == DIM_RED\n",
    "                    and md_test == MD_TEST\n",
    "            ):\n",
    "                errorfill(\n",
    "                        np.array(SAMPLES),\n",
    "                        mean_dr_md_pval[si, di, mi, :],\n",
    "                        std_dr_md_pval[si, di, mi, :],\n",
    "                        fmt=linestyles[si] + markers[si],\n",
    "                        color=colorscale(colors[si], brightness[si]),\n",
    "                        label=\"%s\" % \"_\".join([shift, dr_technique, md_test]),\n",
    "                )\n",
    "plt.xlabel(\"Number of samples from test data\")\n",
    "plt.ylabel(\"$p$-value\")\n",
    "plt.axhline(y=SIGN_LEVEL, color=\"k\")\n",
    "plt.legend()\n",
    "plt.show()\n",
    "\n",
    "# Run shift experiments\n",
    "if not os.path.exists(os.path.join(PATH, '_'.join([SHIFT, '_'.join(HOSPITAL),\"mean_dr_md_pval.pkl\"]))):\n",
    "    with open(os.path.join(PATH, '_'.join([SHIFT, '_'.join(HOSPITAL),\"mean_dr_md_pval.pkl\"])), \"wb\") as f:\n",
    "        pickle.dump(mean_dr_md_pval, f)\n",
    "    with open(os.path.join(PATH, '_'.join([SHIFT, '_'.join(HOSPITAL),\"mean_dr_md_dist.pkl\"])), \"wb\") as f:\n",
    "        pickle.dump(mean_dr_md_dist, f)\n",
    "if not os.path.exists(os.path.join(PATH, '_'.join([SHIFT, '_'.join(HOSPITAL),\"std_dr_md_pval.pkl\"]))):\n",
    "    with open(os.path.join(PATH, '_'.join([SHIFT, '_'.join(HOSPITAL),\"std_dr_md_pval.pkl\"])), \"wb\") as f:\n",
    "        pickle.dump(std_dr_md_pval, f)\n",
    "    with open(os.path.join(PATH, '_'.join([SHIFT, '_'.join(HOSPITAL),\"std_dr_md_dist.pkl\"])), \"wb\") as f:\n",
    "        pickle.dump(std_dr_md_dist, f)"
   ]
  },
  {
   "cell_type": "markdown",
   "id": "bibliographic-premium",
   "metadata": {},
   "source": [
    "# Build Model #"
   ]
  },
  {
   "cell_type": "code",
   "execution_count": null,
   "id": "bfcd7bfd-1634-458b-8a9d-ca25675805c6",
   "metadata": {},
   "outputs": [],
   "source": [
    "(X_tr, y_tr), (X_val, y_val), (X_t, y_t), feats, orig_dims, admin_data = import_dataset_hospital(admin_data, x, y, SHIFT, OUTCOME, HOSPITAL, 1, shuffle=True)\n",
    "\n",
    "MODEL_NAME = input(\"Select Model: \")\n",
    "MODEL_PATH = PATH + \"_\".join([SHIFT, OUTCOME, '_'.join(HOSPITAL), MODEL_NAME]) + \".pkl\"\n",
    "if os.path.exists(MODEL_PATH):\n",
    "    optimised_model = pickle.load(open(MODEL_PATH, \"rb\"))\n",
    "else:\n",
    "    optimised_model = run_model(MODEL_NAME, X_tr, y_tr, X_val, y_val)"
   ]
  },
  {
   "cell_type": "markdown",
   "id": "front-present",
   "metadata": {},
   "source": [
    "### Performance on Source Data ###"
   ]
  },
  {
   "cell_type": "code",
   "execution_count": 17,
   "id": "resistant-dover",
   "metadata": {},
   "outputs": [
    {
     "data": {
      "text/plain": [
       "<AxesSubplot:title={'center':'Average Precision: 0.962282'}, xlabel='Recall', ylabel='Precision'>"
      ]
     },
     "execution_count": 17,
     "metadata": {},
     "output_type": "execute_result"
    },
    {
     "data": {
      "image/png": "[encoded data removed]",
      "text/plain": [
       "<Figure size 1296x504 with 2 Axes>"
      ]
     },
     "metadata": {
      "needs_background": "light"
     },
     "output_type": "display_data"
    }
   ],
   "source": [
    "y_pred_prob = optimised_model.predict_proba(X_val)[:, 1]\n",
    "\n",
    "fpr, tpr, thresholds = roc_curve(y_val, y_pred_prob, pos_label=1)\n",
    "roc_auc = auc(fpr, tpr)\n",
    "precision, recall, thresholds = precision_recall_curve(y_val, y_pred_prob)\n",
    "avg_pr = average_precision_score(y_val, y_pred_prob)\n",
    "fig, ax = plt.subplots(nrows=1, ncols=2, figsize=(18, 7))\n",
    "plot_roc(ax[0], fpr, tpr, roc_auc)\n",
    "plot_pr(ax[1], recall, precision, avg_pr)"
   ]
  },
  {
   "cell_type": "markdown",
   "id": "distinct-opening",
   "metadata": {},
   "source": [
    "### Performance on Target Data ###"
   ]
  },
  {
   "cell_type": "code",
   "execution_count": 18,
   "id": "affecting-marriage",
   "metadata": {},
   "outputs": [
    {
     "data": {
      "text/plain": [
       "<AxesSubplot:title={'center':'Average Precision: 0.913662'}, xlabel='Recall', ylabel='Precision'>"
      ]
     },
     "execution_count": 18,
     "metadata": {},
     "output_type": "execute_result"
    },
    {
     "data": {
      "image/png": "[encoded data removed]",
      "text/plain": [
       "<Figure size 1296x504 with 2 Axes>"
      ]
     },
     "metadata": {
      "needs_background": "light"
     },
     "output_type": "display_data"
    }
   ],
   "source": [
    "y_pred_prob = optimised_model.predict_proba(X_test)[:, 1]\n",
    "fpr, tpr, thresholds = roc_curve(y_test, y_pred_prob, pos_label=1)\n",
    "roc_auc = auc(fpr, tpr)\n",
    "precision, recall, thresholds = precision_recall_curve(y_test, y_pred_prob)\n",
    "avg_pr = average_precision_score(y_test, y_pred_prob)\n",
    "fig, ax = plt.subplots(nrows=1, ncols=2, figsize=(18, 7))\n",
    "plot_roc(ax[0], fpr, tpr, roc_auc)\n",
    "plot_pr(ax[1], recall, precision, avg_pr)"
   ]
  },
  {
   "cell_type": "markdown",
   "id": "tender-bracket",
   "metadata": {},
   "source": [
    "## Performance by Sample Size ##"
   ]
  },
  {
   "cell_type": "code",
   "execution_count": 19,
   "id": "employed-curtis",
   "metadata": {},
   "outputs": [
    {
     "name": "stderr",
     "output_type": "stream",
     "text": [
      "torch.range is deprecated and will be removed in a future release because its behavior is inconsistent with Python's range builtin. Instead, use torch.arange, which produces values in [start, end).\n",
      "No negative samples in y_true, false positive value should be meaningless\n",
      "No negative samples in y_true, false positive value should be meaningless\n",
      "No negative samples in y_true, false positive value should be meaningless\n",
      "No negative samples in y_true, false positive value should be meaningless\n",
      "No negative samples in y_true, false positive value should be meaningless\n",
      "torch.range is deprecated and will be removed in a future release because its behavior is inconsistent with Python's range builtin. Instead, use torch.arange, which produces values in [start, end).\n",
      "torch.range is deprecated and will be removed in a future release because its behavior is inconsistent with Python's range builtin. Instead, use torch.arange, which produces values in [start, end).\n",
      "torch.range is deprecated and will be removed in a future release because its behavior is inconsistent with Python's range builtin. Instead, use torch.arange, which produces values in [start, end).\n",
      "torch.range is deprecated and will be removed in a future release because its behavior is inconsistent with Python's range builtin. Instead, use torch.arange, which produces values in [start, end).\n",
      "torch.range is deprecated and will be removed in a future release because its behavior is inconsistent with Python's range builtin. Instead, use torch.arange, which produces values in [start, end).\n",
      "torch.range is deprecated and will be removed in a future release because its behavior is inconsistent with Python's range builtin. Instead, use torch.arange, which produces values in [start, end).\n",
      "torch.range is deprecated and will be removed in a future release because its behavior is inconsistent with Python's range builtin. Instead, use torch.arange, which produces values in [start, end).\n"
     ]
    }
   ],
   "source": [
    "samp_metrics = np.ones((len(SAMPLES), RANDOM_RUNS, 2, 2)) * (-1)\n",
    "for si, sample in enumerate(SAMPLES):\n",
    "    for i in range(0, RANDOM_RUNS - 1):\n",
    "        i = int(i)\n",
    "        np.random.seed(i)\n",
    "        X_val, y_val = unison_shuffled_copies(X_val, y_val)\n",
    "        X_test, y_test = unison_shuffled_copies(X_test, y_test)\n",
    "\n",
    "        y_val_pred_prob = optimised_model.predict_proba(X_val[:sample])[:, 1]\n",
    "        val_fpr, val_tpr, val_thresholds = roc_curve(\n",
    "            y_val[:sample], y_val_pred_prob, pos_label=1\n",
    "        )\n",
    "        val_roc_auc = auc(val_fpr, val_tpr)\n",
    "        val_avg_pr = average_precision_score(y_val[:sample], y_val_pred_prob)\n",
    "\n",
    "        y_test_pred_prob = optimised_model.predict_proba(X_test[:sample])[:, 1]\n",
    "        test_fpr, test_tpr, test_thresholds = roc_curve(\n",
    "            y_test[:sample], y_test_pred_prob, pos_label=1\n",
    "        )\n",
    "        test_roc_auc = auc(test_fpr, test_tpr)\n",
    "        test_avg_pr = average_precision_score(y_test[:sample], y_test_pred_prob)\n",
    "\n",
    "        samp_metrics[si, i, 0, :] = [val_roc_auc, val_avg_pr]\n",
    "        samp_metrics[si, i, 1, :] = [test_roc_auc, test_avg_pr]\n",
    "\n",
    "    mean_samp_metrics = np.mean(samp_metrics, axis=1)\n",
    "    std_samp_metrics = np.std(samp_metrics, axis=1)"
   ]
  },
  {
   "cell_type": "code",
   "execution_count": 21,
   "id": "powerful-tournament",
   "metadata": {},
   "outputs": [
    {
     "data": {
      "image/png": "[encoded data removed]",
      "text/plain": [
       "<Figure size 576x432 with 1 Axes>"
      ]
     },
     "metadata": {
      "needs_background": "light"
     },
     "output_type": "display_data"
    }
   ],
   "source": [
    "fig = plt.figure(figsize=(8, 6))\n",
    "for si, shift in enumerate([\"baseline\", SHIFT]):\n",
    "    for mi, metric in enumerate([\"AuROC\", \"Avg Pr\"]):\n",
    "        if metric == \"AuROC\":\n",
    "            errorfill(\n",
    "                np.array(SAMPLES[1:]),\n",
    "                mean_samp_metrics[1:, si, mi],\n",
    "                std_samp_metrics[1:, si, mi],\n",
    "                fmt=linestyles[mi] + markers[mi],\n",
    "                color=colorscale(colors[si], brightness[si]),\n",
    "                label=\"%s\" % \"_\".join([shift]),\n",
    "            )\n",
    "plt.xlabel(\"Number of samples from test data\")\n",
    "plt.ylabel(\"AuROC\")\n",
    "plt.legend()\n",
    "plt.show()"
   ]
  },
  {
   "cell_type": "markdown",
   "id": "structured-utilization",
   "metadata": {},
   "source": [
    "## Explain Difference in Model Predictions ## "
   ]
  },
  {
   "cell_type": "code",
   "execution_count": 22,
   "id": "agreed-airfare",
   "metadata": {},
   "outputs": [
    {
     "name": "stderr",
     "output_type": "stream",
     "text": [
      "ntree_limit is deprecated, use `iteration_range` or model slicing instead.\n"
     ]
    },
    {
     "data": {
      "image/png": "[encoded data removed]",
      "text/plain": [
       "<Figure size 864x864 with 1 Axes>"
      ]
     },
     "metadata": {
      "needs_background": "light"
     },
     "output_type": "display_data"
    }
   ],
   "source": [
    "explainer = ShiftExplainer(optimised_model)\n",
    "explainer.get_explainer()\n",
    "\n",
    "X_val_df = pd.DataFrame(X_val, columns=feats)\n",
    "val_shap_values = explainer.get_shap_values(X_val_df)\n",
    "X_test_df = pd.DataFrame(X_test, columns=feats)\n",
    "test_shap_values = explainer.get_shap_values(X_test_df)\n",
    "\n",
    "diff = np.mean(np.abs(test_shap_values.values), axis=0) - np.mean(\n",
    "    np.abs(val_shap_values.values), axis=0\n",
    ")\n",
    "diff_sorted, feats_sorted = zip(*sorted(zip(diff, feats), reverse=True))\n",
    "diff_sorted, feats_sorted = zip(\n",
    "    *(((x, y) for x, y in zip(diff_sorted, feats_sorted) if x != 0))\n",
    ")\n",
    "fig, ax = plt.subplots(figsize=(12, 12))\n",
    "y_pos = np.arange(len(diff_sorted))\n",
    "ax.barh(y_pos, diff_sorted, align=\"center\")\n",
    "ax.set_yticks(y_pos, labels=feats_sorted)\n",
    "ax.invert_yaxis()  # labels read top-to-bottom\n",
    "ax.set_xlabel(\"Mean Difference in Shap Value\")\n",
    "ax.set_title(\"Features\")\n",
    "plt.show()"
   ]
  },
  {
   "cell_type": "markdown",
   "id": "bc2d58ce-3217-48d1-910d-a61a7633c3c0",
   "metadata": {},
   "source": [
    "## Debugging cause what is happening"
   ]
  },
  {
   "cell_type": "code",
   "execution_count": 70,
   "id": "177df59b-d711-4854-9f17-c4c8fe2c9494",
   "metadata": {},
   "outputs": [
    {
     "name": "stderr",
     "output_type": "stream",
     "text": [
      "2022-07-07 10:47:27,466 \u001b[1;37mINFO\u001b[0m cyclops.feature_handler - Loading features from file...\n",
      "2022-07-07 10:47:27,468 \u001b[1;37mINFO\u001b[0m cyclops.feature_handler - Found file to load for static features...\n",
      "2022-07-07 10:47:27,469 \u001b[1;37mINFO\u001b[0m cyclops.feature_handler - Successfully loaded static features from file...\n",
      "2022-07-07 10:47:27,499 \u001b[1;37mINFO\u001b[0m cyclops.feature_handler - Found file to load for temporal features...\n",
      "2022-07-07 10:47:32,261 \u001b[1;37mINFO\u001b[0m cyclops.feature_handler - Successfully loaded temporal features from file...\n"
     ]
    },
    {
     "data": {
      "text/plain": [
       "0.0"
      ]
     },
     "execution_count": 70,
     "metadata": {},
     "output_type": "execute_result"
    }
   ],
   "source": [
    "from cyclops.feature_handler import FeatureHandler\n",
    "\n",
    "SHIFT=\"winter\"\n",
    "aggregation_type=\"time_flatten\"\n",
    "scale=True\n",
    "sys.path.append(\"..\")\n",
    "from sklearn.preprocessing import StandardScaler\n",
    "from drift_detector.detector import ShiftDetector\n",
    "from drift_detector.reductor import ShiftReductor\n",
    "\n",
    "sample=100\n",
    "dr_technique=\"NoRed\"\n",
    "md_test=\"MMD\"\n",
    "feature_handler = FeatureHandler()\n",
    "feature_handler.load(PATH, \"features\")\n",
    "numerical_cols = feature_handler.get_numerical_feature_names()[\"temporal\"]\n",
    "numerical_cols += [\"age\"]\n",
    "    \n",
    "(X_tr, y_tr), (X_val, y_val), (X_t, y_t), feats, orig_dims, admin_data = import_dataset_hospital(admin_data, x, y, SHIFT, OUTCOME, HOSPITAL, 1, shuffle=True)\n",
    "\n",
    "\n",
    "if aggregation_type == \"mean\":\n",
    "    X_tr_normalized = X_tr.groupby(level=[0]).mean()\n",
    "    X_val_normalized = X_val.groupby(level=[0]).mean()\n",
    "    X_t_normalized = X_t.groupby(level=[0]).mean()     \n",
    "elif aggregation_type == \"first\":\n",
    "    X_tr_normalized = X_tr.groupby(level=[0]).first()\n",
    "    X_val_normalized = X_val.groupby(level=[0]).first()\n",
    "    X_t_normalized = X_t.groupby(level=[0]).first()    \n",
    "elif aggregation_type == \"last\":\n",
    "    X_tr_normalized = X_tr.groupby(level=[0]).last()\n",
    "    X_val_normalized = X_val.groupby(level=[0]).last()\n",
    "    X_t_normalized = X_t.groupby(level=[0]).last()   \n",
    "elif aggregation_type == \"time_flatten\" or aggregation_type == \"time\":\n",
    "    X_tr_normalized = X_tr.copy()\n",
    "    X_val_normalized = X_val.copy()\n",
    "    X_t_normalized = X_t.copy()\n",
    "else:\n",
    "    raise ValueError(\"Incorrect Aggregation Type\")\n",
    "\n",
    "if scale:\n",
    "    for col in numerical_cols:\n",
    "        scaler = StandardScaler().fit(X_tr_normalized[col].values.reshape(-1, 1))\n",
    "        X_tr_normalized[col] = pd.Series(\n",
    "            np.squeeze(scaler.transform(X_tr_normalized[col].values.reshape(-1, 1))),\n",
    "            index=X_tr_normalized[col].index,\n",
    "        )\n",
    "        X_val_normalized[col] = pd.Series(\n",
    "            np.squeeze(scaler.transform(X_val_normalized[col].values.reshape(-1, 1))),\n",
    "            index=X_val_normalized[col].index,\n",
    "        )\n",
    "        X_t_normalized[col] = pd.Series(\n",
    "            np.squeeze(scaler.transform(X_t_normalized[col].values.reshape(-1, 1))),\n",
    "            index=X_t_normalized[col].index,\n",
    "        )\n",
    "\n",
    "if aggregation_type == \"time_flatten\":\n",
    "    X_tr_input = X_tr_normalized.unstack(1).dropna().to_numpy()\n",
    "    X_val_input = X_val_normalized.unstack(1).dropna().to_numpy()\n",
    "    X_t_input = X_t_normalized.unstack(1).dropna().to_numpy()\n",
    "elif aggregation_type == \"time\":\n",
    "    X_tr_input = reshape_inputs(X_tr_normalized, timesteps)\n",
    "    X_val_input = reshape_inputs(X_val_normalized, timesteps)\n",
    "    X_t_input = reshape_inputs(X_t_normalized, timesteps)\n",
    "else:\n",
    "    X_tr_input = X_tr_normalized.dropna().to_numpy()\n",
    "    X_val_input = X_val_normalized.dropna().to_numpy()\n",
    "    X_t_input = X_t_normalized.dropna().to_numpy()\n",
    "\n",
    "X_tr_final = X_tr_input.copy()\n",
    "X_val_final = X_val_input.copy()\n",
    "X_t_final = X_t_input.copy()\n",
    "        \n",
    "shift_reductor = ShiftReductor(\n",
    "            X_tr_final, y_tr, dr_technique, orig_dims, DATASET, var_ret=0.8, model=None\n",
    ")\n",
    "\n",
    "shift_detector = ShiftDetector(\n",
    "                dr_technique, md_test, SIGN_LEVEL, shift_reductor, sample, DATASET\n",
    ")\n",
    "\n",
    "(p_val,\n",
    " dist,\n",
    " val_acc,\n",
    " te_acc,\n",
    ") = shift_detector.detect_data_shift(\n",
    "                X_tr_final, y_tr, X_val_final[:sample,:], y_val[:sample], X_t_final[:sample,:], y_t[:sample], orig_dims\n",
    ")\n",
    "\n",
    "X_tr_final.shape, X_val_final.shape, X_t_final.shape\n",
    "\n",
    "p_val"
   ]
  },
  {
   "cell_type": "code",
   "execution_count": 71,
   "id": "cc792144-aa0f-4a38-8029-8d765f592962",
   "metadata": {},
   "outputs": [],
   "source": [
    "from alibi_detect.cd import MMDDrift\n",
    "cd = MMDDrift(X_val_final[:sample,:], backend='pytorch', p_val=.05)\n",
    "preds = cd.predict(X_t_final[:sample,:], return_p_val=True, return_distance=True)"
   ]
  },
  {
   "cell_type": "code",
   "execution_count": 72,
   "id": "48e1bc8e-5714-41d6-9856-7e2bb7b079a3",
   "metadata": {},
   "outputs": [
    {
     "data": {
      "text/plain": [
       "{'data': {'is_drift': 1,\n",
       "  'distance': 0.0074223669804821535,\n",
       "  'p_val': 0.0,\n",
       "  'threshold': 0.05,\n",
       "  'distance_threshold': 0.0033503664},\n",
       " 'meta': {'name': 'MMDDriftTorch',\n",
       "  'detector_type': 'offline',\n",
       "  'data_type': None,\n",
       "  'version': '0.9.1',\n",
       "  'backend': 'pytorch'}}"
      ]
     },
     "execution_count": 72,
     "metadata": {},
     "output_type": "execute_result"
    }
   ],
   "source": [
    "preds"
   ]
  },
  {
   "cell_type": "code",
   "execution_count": 73,
   "id": "2634d87a-b49d-4796-aabf-f61a98ba633c",
   "metadata": {},
   "outputs": [
    {
     "data": {
      "text/plain": [
       "((116, 648), (351, 648))"
      ]
     },
     "execution_count": 73,
     "metadata": {},
     "output_type": "execute_result"
    }
   ],
   "source": [
    "X_val_final.shape, X_t_final.shape"
   ]
  },
  {
   "cell_type": "code",
   "execution_count": 90,
   "id": "037e8625-067d-4ab8-b6da-23076e63e81e",
   "metadata": {},
   "outputs": [
    {
     "ename": "AttributeError",
     "evalue": "'numpy.ndarray' object has no attribute 'columns'",
     "output_type": "error",
     "traceback": [
      "\u001b[0;31m---------------------------------------------------------------------------\u001b[0m",
      "\u001b[0;31mAttributeError\u001b[0m                            Traceback (most recent call last)",
      "Input \u001b[0;32mIn [90]\u001b[0m, in \u001b[0;36m<cell line: 73>\u001b[0;34m()\u001b[0m\n\u001b[1;32m     61\u001b[0m shift_reductor \u001b[38;5;241m=\u001b[39m ShiftReductor(\n\u001b[1;32m     62\u001b[0m             X_tr_final, y_tr, dr_technique, orig_dims, DATASET, var_ret\u001b[38;5;241m=\u001b[39m\u001b[38;5;241m0.8\u001b[39m, model\u001b[38;5;241m=\u001b[39m\u001b[38;5;28;01mNone\u001b[39;00m\n\u001b[1;32m     63\u001b[0m )\n\u001b[1;32m     65\u001b[0m shift_detector \u001b[38;5;241m=\u001b[39m ShiftDetector(\n\u001b[1;32m     66\u001b[0m                 dr_technique, md_test, SIGN_LEVEL, shift_reductor, sample, DATASET\n\u001b[1;32m     67\u001b[0m )\n\u001b[1;32m     69\u001b[0m (p_val,\n\u001b[1;32m     70\u001b[0m  dist,\n\u001b[1;32m     71\u001b[0m  val_acc,\n\u001b[1;32m     72\u001b[0m  te_acc,\n\u001b[0;32m---> 73\u001b[0m ) \u001b[38;5;241m=\u001b[39m \u001b[43mshift_detector\u001b[49m\u001b[38;5;241;43m.\u001b[39;49m\u001b[43mdetect_data_shift\u001b[49m\u001b[43m(\u001b[49m\n\u001b[1;32m     74\u001b[0m \u001b[43m                \u001b[49m\u001b[43mX_tr_final\u001b[49m\u001b[43m,\u001b[49m\u001b[43m \u001b[49m\u001b[43my_tr\u001b[49m\u001b[43m,\u001b[49m\u001b[43m \u001b[49m\u001b[43mX_val_final\u001b[49m\u001b[43m,\u001b[49m\u001b[43m \u001b[49m\u001b[43my_val\u001b[49m\u001b[43m,\u001b[49m\u001b[43m \u001b[49m\u001b[43mX_t_final\u001b[49m\u001b[43m[\u001b[49m\u001b[43m:\u001b[49m\u001b[43msample\u001b[49m\u001b[43m,\u001b[49m\u001b[43m:\u001b[49m\u001b[43m]\u001b[49m\u001b[43m,\u001b[49m\u001b[43m \u001b[49m\u001b[43my_t\u001b[49m\u001b[43m[\u001b[49m\u001b[43m:\u001b[49m\u001b[43msample\u001b[49m\u001b[43m]\u001b[49m\u001b[43m,\u001b[49m\u001b[43m \u001b[49m\u001b[43morig_dims\u001b[49m\n\u001b[1;32m     75\u001b[0m \u001b[43m)\u001b[49m\n\u001b[1;32m     77\u001b[0m X_tr_final\u001b[38;5;241m.\u001b[39mshape, X_val_final\u001b[38;5;241m.\u001b[39mshape, X_t_final\u001b[38;5;241m.\u001b[39mshape\n\u001b[1;32m     79\u001b[0m p_val\n",
      "File \u001b[0;32m~/cyclops/drift_detection/notebooks/../drift_detector/detector.py:58\u001b[0m, in \u001b[0;36mShiftDetector.detect_data_shift\u001b[0;34m(self, X_s_tr, y_s_tr, X_s_val, y_s_val, X_t, y_t, orig_dims)\u001b[0m\n\u001b[1;32m     56\u001b[0m \u001b[38;5;66;03m# Perform statistical test\u001b[39;00m\n\u001b[1;32m     57\u001b[0m shift_tester \u001b[38;5;241m=\u001b[39m ShiftTester(sign_level\u001b[38;5;241m=\u001b[39m\u001b[38;5;28mself\u001b[39m\u001b[38;5;241m.\u001b[39msign_level, mt\u001b[38;5;241m=\u001b[39m\u001b[38;5;28mself\u001b[39m\u001b[38;5;241m.\u001b[39mmd_test)\n\u001b[0;32m---> 58\u001b[0m p_val, dist \u001b[38;5;241m=\u001b[39m \u001b[43mshift_tester\u001b[49m\u001b[38;5;241;43m.\u001b[39;49m\u001b[43mtest_shift\u001b[49m\u001b[43m(\u001b[49m\u001b[43mX_s_red\u001b[49m\u001b[43m[\u001b[49m\u001b[43m:\u001b[49m\u001b[43m \u001b[49m\u001b[38;5;28;43mself\u001b[39;49m\u001b[38;5;241;43m.\u001b[39;49m\u001b[43msample\u001b[49m\u001b[43m]\u001b[49m\u001b[43m,\u001b[49m\u001b[43m \u001b[49m\u001b[43mX_t_red\u001b[49m\u001b[43m)\u001b[49m\n\u001b[1;32m     60\u001b[0m \u001b[38;5;28;01mif\u001b[39;00m \u001b[38;5;28mself\u001b[39m\u001b[38;5;241m.\u001b[39mdr_technique \u001b[38;5;241m!=\u001b[39m \u001b[38;5;124m\"\u001b[39m\u001b[38;5;124mBBSDh\u001b[39m\u001b[38;5;124m\"\u001b[39m:\n\u001b[1;32m     61\u001b[0m     \u001b[38;5;66;03m# Lower the significance level for all tests (Bonferroni) besides BBSDh, which needs no correction.\u001b[39;00m\n\u001b[1;32m     62\u001b[0m     adjust_sign_level \u001b[38;5;241m=\u001b[39m \u001b[38;5;28mself\u001b[39m\u001b[38;5;241m.\u001b[39msign_level \u001b[38;5;241m/\u001b[39m X_s_red\u001b[38;5;241m.\u001b[39mshape[\u001b[38;5;241m1\u001b[39m]\n",
      "File \u001b[0;32m~/cyclops/drift_detection/notebooks/../drift_detector/tester.py:136\u001b[0m, in \u001b[0;36mShiftTester.test_shift\u001b[0;34m(self, X_s, X_t, backend)\u001b[0m\n\u001b[1;32m    132\u001b[0m     dist \u001b[38;5;241m=\u001b[39m preds[\u001b[38;5;124m\"\u001b[39m\u001b[38;5;124mdata\u001b[39m\u001b[38;5;124m\"\u001b[39m][\u001b[38;5;124m\"\u001b[39m\u001b[38;5;124mdistance\u001b[39m\u001b[38;5;124m\"\u001b[39m]\n\u001b[1;32m    134\u001b[0m \u001b[38;5;28;01melif\u001b[39;00m \u001b[38;5;28mself\u001b[39m\u001b[38;5;241m.\u001b[39mmt \u001b[38;5;241m==\u001b[39m \u001b[38;5;124m\"\u001b[39m\u001b[38;5;124mUnivariate\u001b[39m\u001b[38;5;124m\"\u001b[39m:\n\u001b[1;32m    135\u001b[0m     \u001b[38;5;66;03m## change this to get appropriate column indexing for feature map\u001b[39;00m\n\u001b[0;32m--> 136\u001b[0m     feature_map \u001b[38;5;241m=\u001b[39m {f: \u001b[38;5;28;01mNone\u001b[39;00m \u001b[38;5;28;01mfor\u001b[39;00m f \u001b[38;5;129;01min\u001b[39;00m \u001b[38;5;28mlist\u001b[39m(\u001b[43mX_s\u001b[49m\u001b[38;5;241;43m.\u001b[39;49m\u001b[43mcolumns\u001b[49m)}\n\u001b[1;32m    137\u001b[0m     dd \u001b[38;5;241m=\u001b[39m TabularDrift(X_s, p_val\u001b[38;5;241m=\u001b[39m\u001b[38;5;241m0.05\u001b[39m, categories_per_feature\u001b[38;5;241m=\u001b[39mfeature_map)\n\u001b[1;32m    138\u001b[0m     preds \u001b[38;5;241m=\u001b[39m dd\u001b[38;5;241m.\u001b[39mpredict(\n\u001b[1;32m    139\u001b[0m         X_t, drift_type\u001b[38;5;241m=\u001b[39m\u001b[38;5;124m\"\u001b[39m\u001b[38;5;124mbatch\u001b[39m\u001b[38;5;124m\"\u001b[39m, return_p_val\u001b[38;5;241m=\u001b[39m\u001b[38;5;28;01mTrue\u001b[39;00m, return_distance\u001b[38;5;241m=\u001b[39m\u001b[38;5;28;01mTrue\u001b[39;00m\n\u001b[1;32m    140\u001b[0m     )\n",
      "\u001b[0;31mAttributeError\u001b[0m: 'numpy.ndarray' object has no attribute 'columns'"
     ]
    }
   ],
   "source": [
    "SHIFT=\"seasonal\"\n",
    "scale=True\n",
    "sample=100\n",
    "dr_technique=\"MMD\"\n",
    "md_test=\"Univariate\"\n",
    "    \n",
    "(X_tr, y_tr), (X_val, y_val), (X_t, y_t), feats, orig_dims, admin_data = import_dataset_hospital(admin_data, x, y, SHIFT, OUTCOME, HOSPITAL, 1, shuffle=True)\n",
    "\n",
    "if aggregation_type == \"mean\":\n",
    "    X_tr_normalized = X_tr.groupby(level=[0]).mean()\n",
    "    X_val_normalized = X_val.groupby(level=[0]).mean()\n",
    "    X_t_normalized = X_t.groupby(level=[0]).mean()     \n",
    "elif aggregation_type == \"first\":\n",
    "    X_tr_normalized = X_tr.groupby(level=[0]).first()\n",
    "    X_val_normalized = X_val.groupby(level=[0]).first()\n",
    "    X_t_normalized = X_t.groupby(level=[0]).first()    \n",
    "elif aggregation_type == \"last\":\n",
    "    X_tr_normalized = X_tr.groupby(level=[0]).last()\n",
    "    X_val_normalized = X_val.groupby(level=[0]).last()\n",
    "    X_t_normalized = X_t.groupby(level=[0]).last()   \n",
    "elif aggregation_type == \"time_flatten\" or aggregation_type == \"time\":\n",
    "    X_tr_normalized = X_tr.copy()\n",
    "    X_val_normalized = X_val.copy()\n",
    "    X_t_normalized = X_t.copy()\n",
    "else:\n",
    "    raise ValueError(\"Incorrect Aggregation Type\")\n",
    "\n",
    "if scale:\n",
    "    for col in numerical_cols:\n",
    "        scaler = StandardScaler().fit(X_tr_normalized[col].values.reshape(-1, 1))\n",
    "        X_tr_normalized[col] = pd.Series(\n",
    "            np.squeeze(scaler.transform(X_tr_normalized[col].values.reshape(-1, 1))),\n",
    "            index=X_tr_normalized[col].index,\n",
    "        )\n",
    "        X_val_normalized[col] = pd.Series(\n",
    "            np.squeeze(scaler.transform(X_val_normalized[col].values.reshape(-1, 1))),\n",
    "            index=X_val_normalized[col].index,\n",
    "        )\n",
    "        X_t_normalized[col] = pd.Series(\n",
    "            np.squeeze(scaler.transform(X_t_normalized[col].values.reshape(-1, 1))),\n",
    "            index=X_t_normalized[col].index,\n",
    "        )\n",
    "\n",
    "if aggregation_type == \"time_flatten\":\n",
    "    X_tr_input = X_tr_normalized.unstack(1).dropna().to_numpy()\n",
    "    X_val_input = X_val_normalized.unstack(1).dropna().to_numpy()\n",
    "    X_t_input = X_t_normalized.unstack(1).dropna().to_numpy()\n",
    "elif aggregation_type == \"time\":\n",
    "    X_tr_input = reshape_inputs(X_tr_normalized, timesteps)\n",
    "    X_val_input = reshape_inputs(X_val_normalized, timesteps)\n",
    "    X_t_input = reshape_inputs(X_t_normalized, timesteps)\n",
    "else:\n",
    "    X_tr_input = X_tr_normalized.dropna().to_numpy()\n",
    "    X_val_input = X_val_normalized.dropna().to_numpy()\n",
    "    X_t_input = X_t_normalized.dropna().to_numpy()\n",
    "\n",
    "X_tr_final = X_tr_input.copy()\n",
    "X_val_final = X_val_input.copy()\n",
    "X_t_final = X_t_input.copy()\n",
    "\n",
    "shift_reductor = ShiftReductor(\n",
    "            X_tr_final, y_tr, dr_technique, orig_dims, DATASET, var_ret=0.8, model=None\n",
    ")\n",
    "\n",
    "shift_detector = ShiftDetector(\n",
    "                dr_technique, md_test, SIGN_LEVEL, shift_reductor, sample, DATASET\n",
    ")\n",
    "\n",
    "(p_val,\n",
    " dist,\n",
    " val_acc,\n",
    " te_acc,\n",
    ") = shift_detector.detect_data_shift(\n",
    "                X_tr_final, y_tr, X_val_final, y_val, X_t_final[:sample,:], y_t[:sample], orig_dims\n",
    ")\n",
    "\n",
    "X_tr_final.shape, X_val_final.shape, X_t_final.shape\n",
    "\n",
    "p_val"
   ]
  },
  {
   "cell_type": "code",
   "execution_count": 75,
   "id": "11aba2c5-8a4d-4885-8eb3-5ee6797d996f",
   "metadata": {},
   "outputs": [],
   "source": [
    "from alibi_detect.cd import MMDDrift\n",
    "cd = MMDDrift(X_val_final[:sample,:], backend='pytorch', p_val=.05)\n",
    "preds = cd.predict(X_t_final[:sample,:], return_p_val=True, return_distance=True)"
   ]
  },
  {
   "cell_type": "code",
   "execution_count": 76,
   "id": "56fba312-5513-48fa-a4a1-e6dfca89f7f4",
   "metadata": {},
   "outputs": [
    {
     "data": {
      "text/plain": [
       "{'data': {'is_drift': 0,\n",
       "  'distance': 0.0011914108607290474,\n",
       "  'p_val': 0.2199999988079071,\n",
       "  'threshold': 0.05,\n",
       "  'distance_threshold': 0.0032360093},\n",
       " 'meta': {'name': 'MMDDriftTorch',\n",
       "  'detector_type': 'offline',\n",
       "  'data_type': None,\n",
       "  'version': '0.9.1',\n",
       "  'backend': 'pytorch'}}"
      ]
     },
     "execution_count": 76,
     "metadata": {},
     "output_type": "execute_result"
    }
   ],
   "source": [
    "preds"
   ]
  },
  {
   "cell_type": "code",
   "execution_count": 77,
   "id": "ca205722-3f12-40b6-983b-5daaecde65e0",
   "metadata": {},
   "outputs": [
    {
     "data": {
      "text/plain": [
       "((232, 648), (476, 648))"
      ]
     },
     "execution_count": 77,
     "metadata": {},
     "output_type": "execute_result"
    }
   ],
   "source": [
    "X_val_final.shape, X_t_final.shape"
   ]
  },
  {
   "cell_type": "code",
   "execution_count": 84,
   "id": "52f789f7-a505-4126-808d-97ca95a81601",
   "metadata": {},
   "outputs": [
    {
     "data": {
      "text/plain": [
       "10      2019-12-26 19:45:00\n",
       "15      2015-11-16 02:11:00\n",
       "232     2020-02-20 20:09:00\n",
       "242     2016-02-12 16:30:00\n",
       "244     2019-11-18 15:00:00\n",
       "                ...        \n",
       "15661   2019-11-07 11:56:00\n",
       "15677   2019-11-23 08:44:00\n",
       "15686   2015-11-26 22:19:00\n",
       "15710   2018-11-30 08:31:00\n",
       "15717   2016-12-04 13:07:00\n",
       "Name: admit_timestamp, Length: 232, dtype: datetime64[ns]"
      ]
     },
     "execution_count": 84,
     "metadata": {},
     "output_type": "execute_result"
    }
   ],
   "source": [
    "admin_data.loc[\n",
    "            admin_data['encounter_id'].isin(list(X_val_normalized.index.get_level_values(0).unique())),\n",
    "    'admit_timestamp'\n",
    "]"
   ]
  },
  {
   "cell_type": "code",
   "execution_count": 86,
   "id": "8b48ff7a-5d47-476b-b2aa-a1218d0287e4",
   "metadata": {},
   "outputs": [
    {
     "data": {
      "text/plain": [
       "0       2019-06-25 17:52:00\n",
       "1       2016-06-26 19:24:00\n",
       "6       2019-07-03 18:42:00\n",
       "7       2019-08-02 08:52:00\n",
       "8       2016-06-03 19:18:00\n",
       "                ...        \n",
       "15691   2015-08-07 00:15:00\n",
       "15703   2018-08-08 23:09:00\n",
       "15711   2016-06-08 03:08:00\n",
       "15780   2020-07-18 03:14:00\n",
       "16910   2020-06-29 06:06:00\n",
       "Name: admit_timestamp, Length: 476, dtype: datetime64[ns]"
      ]
     },
     "execution_count": 86,
     "metadata": {},
     "output_type": "execute_result"
    }
   ],
   "source": [
    "admin_data.loc[\n",
    "            admin_data['encounter_id'].isin(list(X_t_normalized.index.get_level_values(0).unique())),\n",
    "    'admit_timestamp'\n",
    "]"
   ]
  },
  {
   "cell_type": "code",
   "execution_count": 88,
   "id": "c098263e-753e-4952-a0f4-4d5524157897",
   "metadata": {},
   "outputs": [
    {
     "data": {
      "text/html": [
       "<div>\n",
       "<style scoped>\n",
       "    .dataframe tbody tr th:only-of-type {\n",
       "        vertical-align: middle;\n",
       "    }\n",
       "\n",
       "    .dataframe tbody tr th {\n",
       "        vertical-align: top;\n",
       "    }\n",
       "\n",
       "    .dataframe thead th {\n",
       "        text-align: right;\n",
       "    }\n",
       "</style>\n",
       "<table border=\"1\" class=\"dataframe\">\n",
       "  <thead>\n",
       "    <tr style=\"text-align: right;\">\n",
       "      <th></th>\n",
       "      <th>age</th>\n",
       "      <th>albumin</th>\n",
       "      <th>albumin_indicator</th>\n",
       "      <th>aptt</th>\n",
       "      <th>aptt_indicator</th>\n",
       "      <th>arterial paco2</th>\n",
       "      <th>arterial paco2_indicator</th>\n",
       "      <th>arterial pao2</th>\n",
       "      <th>arterial pao2_indicator</th>\n",
       "      <th>arterial ph</th>\n",
       "      <th>...</th>\n",
       "      <th>venous pco2_indicator</th>\n",
       "      <th>venous ph</th>\n",
       "      <th>venous ph_indicator</th>\n",
       "      <th>vitamin b12</th>\n",
       "      <th>vitamin b12_indicator</th>\n",
       "      <th>vitamin d</th>\n",
       "      <th>vitamin d_indicator</th>\n",
       "      <th>white blood cell count</th>\n",
       "      <th>white blood cell count_indicator</th>\n",
       "      <th>x-ray</th>\n",
       "    </tr>\n",
       "  </thead>\n",
       "  <tbody>\n",
       "    <tr>\n",
       "      <th>count</th>\n",
       "      <td>1392.000000</td>\n",
       "      <td>1392.000000</td>\n",
       "      <td>1392.000000</td>\n",
       "      <td>1392.000000</td>\n",
       "      <td>1392.000000</td>\n",
       "      <td>1392.000000</td>\n",
       "      <td>1392.000000</td>\n",
       "      <td>1392.000000</td>\n",
       "      <td>1392.000000</td>\n",
       "      <td>1392.000000</td>\n",
       "      <td>...</td>\n",
       "      <td>1392.000000</td>\n",
       "      <td>1392.000000</td>\n",
       "      <td>1392.000000</td>\n",
       "      <td>1392.000000</td>\n",
       "      <td>1392.000000</td>\n",
       "      <td>1392.000000</td>\n",
       "      <td>1392.000000</td>\n",
       "      <td>1392.000000</td>\n",
       "      <td>1392.000000</td>\n",
       "      <td>1392.000000</td>\n",
       "    </tr>\n",
       "    <tr>\n",
       "      <th>mean</th>\n",
       "      <td>-0.038333</td>\n",
       "      <td>-0.069983</td>\n",
       "      <td>0.334052</td>\n",
       "      <td>0.024606</td>\n",
       "      <td>0.210489</td>\n",
       "      <td>-0.076236</td>\n",
       "      <td>0.068966</td>\n",
       "      <td>0.039067</td>\n",
       "      <td>0.071121</td>\n",
       "      <td>0.060484</td>\n",
       "      <td>...</td>\n",
       "      <td>0.112787</td>\n",
       "      <td>0.085396</td>\n",
       "      <td>0.112787</td>\n",
       "      <td>-0.062548</td>\n",
       "      <td>0.045977</td>\n",
       "      <td>-0.099725</td>\n",
       "      <td>0.007902</td>\n",
       "      <td>-0.019904</td>\n",
       "      <td>0.589080</td>\n",
       "      <td>0.778017</td>\n",
       "    </tr>\n",
       "    <tr>\n",
       "      <th>std</th>\n",
       "      <td>1.000984</td>\n",
       "      <td>1.032698</td>\n",
       "      <td>0.471827</td>\n",
       "      <td>1.125771</td>\n",
       "      <td>0.407802</td>\n",
       "      <td>0.748279</td>\n",
       "      <td>0.253487</td>\n",
       "      <td>1.064783</td>\n",
       "      <td>0.257119</td>\n",
       "      <td>0.852524</td>\n",
       "      <td>...</td>\n",
       "      <td>0.316446</td>\n",
       "      <td>0.704499</td>\n",
       "      <td>0.316446</td>\n",
       "      <td>1.009895</td>\n",
       "      <td>0.209511</td>\n",
       "      <td>0.848504</td>\n",
       "      <td>0.088575</td>\n",
       "      <td>0.903005</td>\n",
       "      <td>0.492178</td>\n",
       "      <td>0.415729</td>\n",
       "    </tr>\n",
       "    <tr>\n",
       "      <th>min</th>\n",
       "      <td>-2.890096</td>\n",
       "      <td>-2.343331</td>\n",
       "      <td>0.000000</td>\n",
       "      <td>-1.060593</td>\n",
       "      <td>0.000000</td>\n",
       "      <td>-1.341179</td>\n",
       "      <td>0.000000</td>\n",
       "      <td>-1.535067</td>\n",
       "      <td>0.000000</td>\n",
       "      <td>-3.324420</td>\n",
       "      <td>...</td>\n",
       "      <td>0.000000</td>\n",
       "      <td>-9.931858</td>\n",
       "      <td>0.000000</td>\n",
       "      <td>-1.388537</td>\n",
       "      <td>0.000000</td>\n",
       "      <td>-1.295805</td>\n",
       "      <td>0.000000</td>\n",
       "      <td>-1.509414</td>\n",
       "      <td>0.000000</td>\n",
       "      <td>0.000000</td>\n",
       "    </tr>\n",
       "    <tr>\n",
       "      <th>25%</th>\n",
       "      <td>-0.625704</td>\n",
       "      <td>-0.794175</td>\n",
       "      <td>0.000000</td>\n",
       "      <td>-0.505207</td>\n",
       "      <td>0.000000</td>\n",
       "      <td>-0.535546</td>\n",
       "      <td>0.000000</td>\n",
       "      <td>-0.699403</td>\n",
       "      <td>0.000000</td>\n",
       "      <td>-0.411190</td>\n",
       "      <td>...</td>\n",
       "      <td>0.000000</td>\n",
       "      <td>0.101262</td>\n",
       "      <td>0.000000</td>\n",
       "      <td>-0.869015</td>\n",
       "      <td>0.000000</td>\n",
       "      <td>-0.610914</td>\n",
       "      <td>0.000000</td>\n",
       "      <td>-0.594052</td>\n",
       "      <td>0.000000</td>\n",
       "      <td>1.000000</td>\n",
       "    </tr>\n",
       "    <tr>\n",
       "      <th>50%</th>\n",
       "      <td>0.012971</td>\n",
       "      <td>0.050819</td>\n",
       "      <td>0.000000</td>\n",
       "      <td>-0.322421</td>\n",
       "      <td>0.000000</td>\n",
       "      <td>-0.222245</td>\n",
       "      <td>0.000000</td>\n",
       "      <td>-0.086584</td>\n",
       "      <td>0.000000</td>\n",
       "      <td>0.218697</td>\n",
       "      <td>...</td>\n",
       "      <td>0.000000</td>\n",
       "      <td>0.142270</td>\n",
       "      <td>0.000000</td>\n",
       "      <td>-0.483852</td>\n",
       "      <td>0.000000</td>\n",
       "      <td>-0.382618</td>\n",
       "      <td>0.000000</td>\n",
       "      <td>-0.210154</td>\n",
       "      <td>1.000000</td>\n",
       "      <td>1.000000</td>\n",
       "    </tr>\n",
       "    <tr>\n",
       "      <th>75%</th>\n",
       "      <td>0.709707</td>\n",
       "      <td>0.661093</td>\n",
       "      <td>1.000000</td>\n",
       "      <td>0.015029</td>\n",
       "      <td>0.000000</td>\n",
       "      <td>0.180571</td>\n",
       "      <td>0.000000</td>\n",
       "      <td>0.442670</td>\n",
       "      <td>0.000000</td>\n",
       "      <td>0.612377</td>\n",
       "      <td>...</td>\n",
       "      <td>0.000000</td>\n",
       "      <td>0.210615</td>\n",
       "      <td>0.000000</td>\n",
       "      <td>0.582063</td>\n",
       "      <td>0.000000</td>\n",
       "      <td>0.429104</td>\n",
       "      <td>0.000000</td>\n",
       "      <td>0.303707</td>\n",
       "      <td>1.000000</td>\n",
       "      <td>1.000000</td>\n",
       "    </tr>\n",
       "    <tr>\n",
       "      <th>max</th>\n",
       "      <td>1.870934</td>\n",
       "      <td>3.149131</td>\n",
       "      <td>1.000000</td>\n",
       "      <td>7.938077</td>\n",
       "      <td>1.000000</td>\n",
       "      <td>3.447858</td>\n",
       "      <td>1.000000</td>\n",
       "      <td>6.389807</td>\n",
       "      <td>1.000000</td>\n",
       "      <td>1.872152</td>\n",
       "      <td>...</td>\n",
       "      <td>1.000000</td>\n",
       "      <td>0.374644</td>\n",
       "      <td>1.000000</td>\n",
       "      <td>1.782337</td>\n",
       "      <td>1.000000</td>\n",
       "      <td>3.878923</td>\n",
       "      <td>1.000000</td>\n",
       "      <td>7.353196</td>\n",
       "      <td>1.000000</td>\n",
       "      <td>1.000000</td>\n",
       "    </tr>\n",
       "  </tbody>\n",
       "</table>\n",
       "<p>8 rows × 108 columns</p>\n",
       "</div>"
      ],
      "text/plain": [
       "               age      albumin  albumin_indicator         aptt  \\\n",
       "count  1392.000000  1392.000000        1392.000000  1392.000000   \n",
       "mean     -0.038333    -0.069983           0.334052     0.024606   \n",
       "std       1.000984     1.032698           0.471827     1.125771   \n",
       "min      -2.890096    -2.343331           0.000000    -1.060593   \n",
       "25%      -0.625704    -0.794175           0.000000    -0.505207   \n",
       "50%       0.012971     0.050819           0.000000    -0.322421   \n",
       "75%       0.709707     0.661093           1.000000     0.015029   \n",
       "max       1.870934     3.149131           1.000000     7.938077   \n",
       "\n",
       "       aptt_indicator  arterial paco2  arterial paco2_indicator  \\\n",
       "count     1392.000000     1392.000000               1392.000000   \n",
       "mean         0.210489       -0.076236                  0.068966   \n",
       "std          0.407802        0.748279                  0.253487   \n",
       "min          0.000000       -1.341179                  0.000000   \n",
       "25%          0.000000       -0.535546                  0.000000   \n",
       "50%          0.000000       -0.222245                  0.000000   \n",
       "75%          0.000000        0.180571                  0.000000   \n",
       "max          1.000000        3.447858                  1.000000   \n",
       "\n",
       "       arterial pao2  arterial pao2_indicator  arterial ph  ...  \\\n",
       "count    1392.000000              1392.000000  1392.000000  ...   \n",
       "mean        0.039067                 0.071121     0.060484  ...   \n",
       "std         1.064783                 0.257119     0.852524  ...   \n",
       "min        -1.535067                 0.000000    -3.324420  ...   \n",
       "25%        -0.699403                 0.000000    -0.411190  ...   \n",
       "50%        -0.086584                 0.000000     0.218697  ...   \n",
       "75%         0.442670                 0.000000     0.612377  ...   \n",
       "max         6.389807                 1.000000     1.872152  ...   \n",
       "\n",
       "       venous pco2_indicator    venous ph  venous ph_indicator  vitamin b12  \\\n",
       "count            1392.000000  1392.000000          1392.000000  1392.000000   \n",
       "mean                0.112787     0.085396             0.112787    -0.062548   \n",
       "std                 0.316446     0.704499             0.316446     1.009895   \n",
       "min                 0.000000    -9.931858             0.000000    -1.388537   \n",
       "25%                 0.000000     0.101262             0.000000    -0.869015   \n",
       "50%                 0.000000     0.142270             0.000000    -0.483852   \n",
       "75%                 0.000000     0.210615             0.000000     0.582063   \n",
       "max                 1.000000     0.374644             1.000000     1.782337   \n",
       "\n",
       "       vitamin b12_indicator    vitamin d  vitamin d_indicator  \\\n",
       "count            1392.000000  1392.000000          1392.000000   \n",
       "mean                0.045977    -0.099725             0.007902   \n",
       "std                 0.209511     0.848504             0.088575   \n",
       "min                 0.000000    -1.295805             0.000000   \n",
       "25%                 0.000000    -0.610914             0.000000   \n",
       "50%                 0.000000    -0.382618             0.000000   \n",
       "75%                 0.000000     0.429104             0.000000   \n",
       "max                 1.000000     3.878923             1.000000   \n",
       "\n",
       "       white blood cell count  white blood cell count_indicator        x-ray  \n",
       "count             1392.000000                       1392.000000  1392.000000  \n",
       "mean                -0.019904                          0.589080     0.778017  \n",
       "std                  0.903005                          0.492178     0.415729  \n",
       "min                 -1.509414                          0.000000     0.000000  \n",
       "25%                 -0.594052                          0.000000     1.000000  \n",
       "50%                 -0.210154                          1.000000     1.000000  \n",
       "75%                  0.303707                          1.000000     1.000000  \n",
       "max                  7.353196                          1.000000     1.000000  \n",
       "\n",
       "[8 rows x 108 columns]"
      ]
     },
     "execution_count": 88,
     "metadata": {},
     "output_type": "execute_result"
    }
   ],
   "source": [
    "X_val_normalized.describe()"
   ]
  },
  {
   "cell_type": "code",
   "execution_count": 89,
   "id": "9ed42cc9-5bf8-4d76-918b-0b1cda32db43",
   "metadata": {},
   "outputs": [
    {
     "data": {
      "text/html": [
       "<div>\n",
       "<style scoped>\n",
       "    .dataframe tbody tr th:only-of-type {\n",
       "        vertical-align: middle;\n",
       "    }\n",
       "\n",
       "    .dataframe tbody tr th {\n",
       "        vertical-align: top;\n",
       "    }\n",
       "\n",
       "    .dataframe thead th {\n",
       "        text-align: right;\n",
       "    }\n",
       "</style>\n",
       "<table border=\"1\" class=\"dataframe\">\n",
       "  <thead>\n",
       "    <tr style=\"text-align: right;\">\n",
       "      <th></th>\n",
       "      <th>age</th>\n",
       "      <th>albumin</th>\n",
       "      <th>albumin_indicator</th>\n",
       "      <th>aptt</th>\n",
       "      <th>aptt_indicator</th>\n",
       "      <th>arterial paco2</th>\n",
       "      <th>arterial paco2_indicator</th>\n",
       "      <th>arterial pao2</th>\n",
       "      <th>arterial pao2_indicator</th>\n",
       "      <th>arterial ph</th>\n",
       "      <th>...</th>\n",
       "      <th>venous pco2_indicator</th>\n",
       "      <th>venous ph</th>\n",
       "      <th>venous ph_indicator</th>\n",
       "      <th>vitamin b12</th>\n",
       "      <th>vitamin b12_indicator</th>\n",
       "      <th>vitamin d</th>\n",
       "      <th>vitamin d_indicator</th>\n",
       "      <th>white blood cell count</th>\n",
       "      <th>white blood cell count_indicator</th>\n",
       "      <th>x-ray</th>\n",
       "    </tr>\n",
       "  </thead>\n",
       "  <tbody>\n",
       "    <tr>\n",
       "      <th>count</th>\n",
       "      <td>2856.000000</td>\n",
       "      <td>2856.000000</td>\n",
       "      <td>2856.000000</td>\n",
       "      <td>2856.000000</td>\n",
       "      <td>2856.000000</td>\n",
       "      <td>2856.000000</td>\n",
       "      <td>2856.000000</td>\n",
       "      <td>2856.000000</td>\n",
       "      <td>2856.000000</td>\n",
       "      <td>2856.000000</td>\n",
       "      <td>...</td>\n",
       "      <td>2856.000000</td>\n",
       "      <td>2856.000000</td>\n",
       "      <td>2856.000000</td>\n",
       "      <td>2856.000000</td>\n",
       "      <td>2856.000000</td>\n",
       "      <td>2856.000000</td>\n",
       "      <td>2856.000000</td>\n",
       "      <td>2856.000000</td>\n",
       "      <td>2856.000000</td>\n",
       "      <td>2856.000000</td>\n",
       "    </tr>\n",
       "    <tr>\n",
       "      <th>mean</th>\n",
       "      <td>0.017240</td>\n",
       "      <td>0.094961</td>\n",
       "      <td>0.305322</td>\n",
       "      <td>0.042295</td>\n",
       "      <td>0.169118</td>\n",
       "      <td>-0.023973</td>\n",
       "      <td>0.053922</td>\n",
       "      <td>0.070583</td>\n",
       "      <td>0.056022</td>\n",
       "      <td>0.047621</td>\n",
       "      <td>...</td>\n",
       "      <td>0.106443</td>\n",
       "      <td>0.088586</td>\n",
       "      <td>0.110294</td>\n",
       "      <td>-0.004980</td>\n",
       "      <td>0.043067</td>\n",
       "      <td>-0.097469</td>\n",
       "      <td>0.005952</td>\n",
       "      <td>-0.024024</td>\n",
       "      <td>0.522059</td>\n",
       "      <td>0.789566</td>\n",
       "    </tr>\n",
       "    <tr>\n",
       "      <th>std</th>\n",
       "      <td>1.010363</td>\n",
       "      <td>0.969808</td>\n",
       "      <td>0.460624</td>\n",
       "      <td>1.063643</td>\n",
       "      <td>0.374921</td>\n",
       "      <td>1.003785</td>\n",
       "      <td>0.225902</td>\n",
       "      <td>1.152179</td>\n",
       "      <td>0.230005</td>\n",
       "      <td>0.915866</td>\n",
       "      <td>...</td>\n",
       "      <td>0.308457</td>\n",
       "      <td>0.479163</td>\n",
       "      <td>0.313311</td>\n",
       "      <td>1.029921</td>\n",
       "      <td>0.203044</td>\n",
       "      <td>0.843634</td>\n",
       "      <td>0.076935</td>\n",
       "      <td>1.089505</td>\n",
       "      <td>0.499601</td>\n",
       "      <td>0.407688</td>\n",
       "    </tr>\n",
       "    <tr>\n",
       "      <th>min</th>\n",
       "      <td>-2.948158</td>\n",
       "      <td>-2.343331</td>\n",
       "      <td>0.000000</td>\n",
       "      <td>-1.187137</td>\n",
       "      <td>0.000000</td>\n",
       "      <td>-1.341179</td>\n",
       "      <td>0.000000</td>\n",
       "      <td>-1.535067</td>\n",
       "      <td>0.000000</td>\n",
       "      <td>-4.190515</td>\n",
       "      <td>...</td>\n",
       "      <td>0.000000</td>\n",
       "      <td>-9.931858</td>\n",
       "      <td>0.000000</td>\n",
       "      <td>-1.388537</td>\n",
       "      <td>0.000000</td>\n",
       "      <td>-1.295805</td>\n",
       "      <td>0.000000</td>\n",
       "      <td>-1.396679</td>\n",
       "      <td>0.000000</td>\n",
       "      <td>0.000000</td>\n",
       "    </tr>\n",
       "    <tr>\n",
       "      <th>25%</th>\n",
       "      <td>-0.625704</td>\n",
       "      <td>-0.512510</td>\n",
       "      <td>0.000000</td>\n",
       "      <td>-0.484116</td>\n",
       "      <td>0.000000</td>\n",
       "      <td>-0.535546</td>\n",
       "      <td>0.000000</td>\n",
       "      <td>-0.699403</td>\n",
       "      <td>0.000000</td>\n",
       "      <td>-0.358699</td>\n",
       "      <td>...</td>\n",
       "      <td>0.000000</td>\n",
       "      <td>0.087593</td>\n",
       "      <td>0.000000</td>\n",
       "      <td>-0.907830</td>\n",
       "      <td>0.000000</td>\n",
       "      <td>-0.610914</td>\n",
       "      <td>0.000000</td>\n",
       "      <td>-0.606037</td>\n",
       "      <td>0.000000</td>\n",
       "      <td>1.000000</td>\n",
       "    </tr>\n",
       "    <tr>\n",
       "      <th>50%</th>\n",
       "      <td>0.100063</td>\n",
       "      <td>0.191651</td>\n",
       "      <td>0.000000</td>\n",
       "      <td>-0.266179</td>\n",
       "      <td>0.000000</td>\n",
       "      <td>-0.222245</td>\n",
       "      <td>0.000000</td>\n",
       "      <td>-0.072656</td>\n",
       "      <td>0.000000</td>\n",
       "      <td>0.218697</td>\n",
       "      <td>...</td>\n",
       "      <td>0.000000</td>\n",
       "      <td>0.155939</td>\n",
       "      <td>0.000000</td>\n",
       "      <td>-0.307693</td>\n",
       "      <td>0.000000</td>\n",
       "      <td>-0.357251</td>\n",
       "      <td>0.000000</td>\n",
       "      <td>-0.290679</td>\n",
       "      <td>1.000000</td>\n",
       "      <td>1.000000</td>\n",
       "    </tr>\n",
       "    <tr>\n",
       "      <th>75%</th>\n",
       "      <td>0.825830</td>\n",
       "      <td>0.754981</td>\n",
       "      <td>1.000000</td>\n",
       "      <td>0.085331</td>\n",
       "      <td>0.000000</td>\n",
       "      <td>0.180571</td>\n",
       "      <td>0.000000</td>\n",
       "      <td>0.349818</td>\n",
       "      <td>0.000000</td>\n",
       "      <td>0.691113</td>\n",
       "      <td>...</td>\n",
       "      <td>0.000000</td>\n",
       "      <td>0.217450</td>\n",
       "      <td>0.000000</td>\n",
       "      <td>0.940353</td>\n",
       "      <td>0.000000</td>\n",
       "      <td>0.429104</td>\n",
       "      <td>0.000000</td>\n",
       "      <td>0.257265</td>\n",
       "      <td>1.000000</td>\n",
       "      <td>1.000000</td>\n",
       "    </tr>\n",
       "    <tr>\n",
       "      <th>max</th>\n",
       "      <td>2.161241</td>\n",
       "      <td>3.008299</td>\n",
       "      <td>1.000000</td>\n",
       "      <td>8.064621</td>\n",
       "      <td>1.000000</td>\n",
       "      <td>8.863498</td>\n",
       "      <td>1.000000</td>\n",
       "      <td>6.389807</td>\n",
       "      <td>1.000000</td>\n",
       "      <td>1.872152</td>\n",
       "      <td>...</td>\n",
       "      <td>1.000000</td>\n",
       "      <td>0.388313</td>\n",
       "      <td>1.000000</td>\n",
       "      <td>1.782337</td>\n",
       "      <td>1.000000</td>\n",
       "      <td>3.878923</td>\n",
       "      <td>1.000000</td>\n",
       "      <td>14.712799</td>\n",
       "      <td>1.000000</td>\n",
       "      <td>1.000000</td>\n",
       "    </tr>\n",
       "  </tbody>\n",
       "</table>\n",
       "<p>8 rows × 108 columns</p>\n",
       "</div>"
      ],
      "text/plain": [
       "               age      albumin  albumin_indicator         aptt  \\\n",
       "count  2856.000000  2856.000000        2856.000000  2856.000000   \n",
       "mean      0.017240     0.094961           0.305322     0.042295   \n",
       "std       1.010363     0.969808           0.460624     1.063643   \n",
       "min      -2.948158    -2.343331           0.000000    -1.187137   \n",
       "25%      -0.625704    -0.512510           0.000000    -0.484116   \n",
       "50%       0.100063     0.191651           0.000000    -0.266179   \n",
       "75%       0.825830     0.754981           1.000000     0.085331   \n",
       "max       2.161241     3.008299           1.000000     8.064621   \n",
       "\n",
       "       aptt_indicator  arterial paco2  arterial paco2_indicator  \\\n",
       "count     2856.000000     2856.000000               2856.000000   \n",
       "mean         0.169118       -0.023973                  0.053922   \n",
       "std          0.374921        1.003785                  0.225902   \n",
       "min          0.000000       -1.341179                  0.000000   \n",
       "25%          0.000000       -0.535546                  0.000000   \n",
       "50%          0.000000       -0.222245                  0.000000   \n",
       "75%          0.000000        0.180571                  0.000000   \n",
       "max          1.000000        8.863498                  1.000000   \n",
       "\n",
       "       arterial pao2  arterial pao2_indicator  arterial ph  ...  \\\n",
       "count    2856.000000              2856.000000  2856.000000  ...   \n",
       "mean        0.070583                 0.056022     0.047621  ...   \n",
       "std         1.152179                 0.230005     0.915866  ...   \n",
       "min        -1.535067                 0.000000    -4.190515  ...   \n",
       "25%        -0.699403                 0.000000    -0.358699  ...   \n",
       "50%        -0.072656                 0.000000     0.218697  ...   \n",
       "75%         0.349818                 0.000000     0.691113  ...   \n",
       "max         6.389807                 1.000000     1.872152  ...   \n",
       "\n",
       "       venous pco2_indicator    venous ph  venous ph_indicator  vitamin b12  \\\n",
       "count            2856.000000  2856.000000          2856.000000  2856.000000   \n",
       "mean                0.106443     0.088586             0.110294    -0.004980   \n",
       "std                 0.308457     0.479163             0.313311     1.029921   \n",
       "min                 0.000000    -9.931858             0.000000    -1.388537   \n",
       "25%                 0.000000     0.087593             0.000000    -0.907830   \n",
       "50%                 0.000000     0.155939             0.000000    -0.307693   \n",
       "75%                 0.000000     0.217450             0.000000     0.940353   \n",
       "max                 1.000000     0.388313             1.000000     1.782337   \n",
       "\n",
       "       vitamin b12_indicator    vitamin d  vitamin d_indicator  \\\n",
       "count            2856.000000  2856.000000          2856.000000   \n",
       "mean                0.043067    -0.097469             0.005952   \n",
       "std                 0.203044     0.843634             0.076935   \n",
       "min                 0.000000    -1.295805             0.000000   \n",
       "25%                 0.000000    -0.610914             0.000000   \n",
       "50%                 0.000000    -0.357251             0.000000   \n",
       "75%                 0.000000     0.429104             0.000000   \n",
       "max                 1.000000     3.878923             1.000000   \n",
       "\n",
       "       white blood cell count  white blood cell count_indicator        x-ray  \n",
       "count             2856.000000                       2856.000000  2856.000000  \n",
       "mean                -0.024024                          0.522059     0.789566  \n",
       "std                  1.089505                          0.499601     0.407688  \n",
       "min                 -1.396679                          0.000000     0.000000  \n",
       "25%                 -0.606037                          0.000000     1.000000  \n",
       "50%                 -0.290679                          1.000000     1.000000  \n",
       "75%                  0.257265                          1.000000     1.000000  \n",
       "max                 14.712799                          1.000000     1.000000  \n",
       "\n",
       "[8 rows x 108 columns]"
      ]
     },
     "execution_count": 89,
     "metadata": {},
     "output_type": "execute_result"
    }
   ],
   "source": [
    "X_t_normalized.describe()"
   ]
  },
  {
   "cell_type": "code",
   "execution_count": null,
   "id": "3ce91d0c-64d5-404f-92d9-98d70cd5c9d1",
   "metadata": {},
   "outputs": [],
   "source": []
  }
 ],
 "metadata": {
  "kernelspec": {
   "display_name": "cyclops-KKtuQLwg-py3.9",
   "language": "python",
   "name": "cyclops-kktuqlwg-py3.9"
  },
  "language_info": {
   "codemirror_mode": {
    "name": "ipython",
    "version": 3
   },
   "file_extension": ".py",
   "mimetype": "text/x-python",
   "name": "python",
   "nbconvert_exporter": "python",
   "pygments_lexer": "ipython3",
   "version": "3.9.7"
  }
 },
 "nbformat": 4,
 "nbformat_minor": 5
}
