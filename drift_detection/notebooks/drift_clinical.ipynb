{
 "cells": [
  {
   "cell_type": "code",
   "execution_count": 1,
   "id": "traditional-palmer",
   "metadata": {},
   "outputs": [
    {
     "name": "stderr",
     "output_type": "stream",
     "text": [
      "2022-04-29 11:32:00.333545: W tensorflow/stream_executor/platform/default/dso_loader.cc:64] Could not load dynamic library 'libcudart.so.11.0'; dlerror: libcudart.so.11.0: cannot open shared object file: No such file or directory; LD_LIBRARY_PATH: /opt/R/4.0.4/lib/R/lib::/lib:/usr/local/lib:/usr/lib/x86_64-linux-gnu:/usr/lib/jvm/java-11-openjdk-amd64/lib/server\n",
      "2022-04-29 11:32:00.333619: I tensorflow/stream_executor/cuda/cudart_stub.cc:29] Ignore above cudart dlerror if you do not have a GPU set up on your machine.\n",
      "2022-04-29 11:32:06,894 \u001b[1;37mINFO\u001b[0m cyclops.config  - Log file is /mnt/nfs/home/krishnanam/vector-delirium/log.log\n",
      "2022-04-29 11:32:06,910 \u001b[1;37mINFO\u001b[0m cyclops.utils.profile - Log file is /mnt/nfs/home/krishnanam/vector-delirium/log.log\n",
      "2022-04-29 11:32:06,916 \u001b[1;37mINFO\u001b[0m cyclops.processors.impute - Log file is /mnt/nfs/home/krishnanam/vector-delirium/log.log\n",
      "2022-04-29 11:32:06,923 \u001b[1;37mINFO\u001b[0m cyclops.feature_handler - Log file is /mnt/nfs/home/krishnanam/vector-delirium/log.log\n",
      "2022-04-29 11:32:06,930 \u001b[1;37mINFO\u001b[0m cyclops.processors.utils - Log file is /mnt/nfs/home/krishnanam/vector-delirium/log.log\n",
      "2022-04-29 11:32:06,957 \u001b[1;37mINFO\u001b[0m cyclops.processors.aggregate - Log file is /mnt/nfs/home/krishnanam/vector-delirium/log.log\n",
      "2022-04-29 11:32:06,964 \u001b[1;37mINFO\u001b[0m cyclops.processors.diagnoses - Log file is /mnt/nfs/home/krishnanam/vector-delirium/log.log\n",
      "2022-04-29 11:32:06,969 \u001b[1;37mINFO\u001b[0m cyclops.processors.events - Log file is /mnt/nfs/home/krishnanam/vector-delirium/log.log\n",
      "2022-04-29 11:32:06,975 \u001b[1;37mINFO\u001b[0m cyclops.processors.outcomes - Log file is /mnt/nfs/home/krishnanam/vector-delirium/log.log\n",
      "pandas.Int64Index is deprecated and will be removed from pandas in a future version. Use pandas.Index with the appropriate dtype instead.\n"
     ]
    }
   ],
   "source": [
    "import sys\n",
    "import pandas as pd\n",
    "import numpy as np\n",
    "import os\n",
    "from functools import reduce\n",
    "import datetime\n",
    "import joblib\n",
    "import matplotlib.pyplot as plt\n",
    "from sklearn.metrics import (\n",
    "    auc,\n",
    "    accuracy_score,\n",
    "    confusion_matrix,\n",
    "    roc_auc_score,\n",
    "    roc_curve,\n",
    "    precision_recall_curve,\n",
    "    average_precision_score,\n",
    ")\n",
    "from sklearn.model_selection import GridSearchCV, train_test_split\n",
    "\n",
    "sys.path.append(\"..\")\n",
    "\n",
    "from shift_detector import *\n",
    "from shift_reductor import *\n",
    "from shift_experiments import *\n",
    "from shift_explainer import *\n",
    "from shift_tester import *\n",
    "from shift_utils import *\n",
    "from shift_models import *\n",
    "from shift_constants import *\n",
    "from shift_plot_utils import *\n",
    "\n",
    "import sqlalchemy\n",
    "from sqlalchemy import select, func, extract, desc\n",
    "from sqlalchemy.sql.expression import and_\n",
    "\n",
    "from evidently import ColumnMapping\n",
    "from evidently.dashboard import Dashboard\n",
    "from evidently.dashboard.tabs import DataQualityTab\n",
    "from evidently.model_profile import Profile\n",
    "from evidently.model_profile.sections import DataQualityProfileSection\n",
    "\n",
    "import cyclops.config\n",
    "from cyclops.processors.column_names import (\n",
    "    ENCOUNTER_ID,\n",
    "    HOSPITAL_ID,\n",
    "    ADMIT_TIMESTAMP,\n",
    "    DISCHARGE_TIMESTAMP,\n",
    "    DISCHARGE_DISPOSITION,\n",
    "    READMISSION,\n",
    "    AGE,\n",
    "    SEX,\n",
    "    TOTAL_COST,\n",
    "    CITY,\n",
    "    PROVINCE,\n",
    "    COUNTRY,\n",
    "    LANGUAGE,\n",
    "    LENGTH_OF_STAY_IN_ER,\n",
    "    REFERENCE_RANGE,\n",
    ")"
   ]
  },
  {
   "cell_type": "markdown",
   "id": "renewable-mortgage",
   "metadata": {},
   "source": [
    "# Parameters #"
   ]
  },
  {
   "cell_type": "code",
   "execution_count": 2,
   "id": "hourly-insider",
   "metadata": {},
   "outputs": [],
   "source": [
    "PATH = \"/mnt/nfs/project/delirium/drift_exp/\"\n",
    "PATH = \"/mnt/nfs/project/delirium/sprint_demo/APR-28-2022/\"\n",
    "DATASET = \"gemini\"\n",
    "SAMPLES = [10, 20, 50, 100, 200, 500, 1000, 2000]\n",
    "RANDOM_RUNS = 5\n",
    "SIGN_LEVEL = 0.05\n",
    "calc_acc = True\n",
    "SAMPLES = [10, 20, 50, 100, 200, 500, 1000, 2000]\n",
    "SHIFTS = [\"pre-covid\", \"covid\", \"summer\", \"winter\", \"seasonal\"]\n",
    "OUTCOMES = [\"length_of_stay_in_er\", \"mortality_in_hospital\"]\n",
    "HOSPITALS = [\"SMH\", \"MSH\", \"THPC\", \"THPM\", \"UHNTG\", \"UHNTW\"]\n",
    "HOSPITALS = [\"SMH\", \"MSH\"]\n",
    "DR_TECHNIQUES = [\"NoRed\", \"SRP\", \"PCA\", \"BBSDs_FFNN\"]\n",
    "MD_TESTS = [\"MMD\", \"LK\", \"LSDD\"]"
   ]
  },
  {
   "cell_type": "markdown",
   "id": "typical-angola",
   "metadata": {},
   "source": [
    "# Load Data #"
   ]
  },
  {
   "cell_type": "code",
   "execution_count": 3,
   "id": "accurate-beatles",
   "metadata": {},
   "outputs": [
    {
     "name": "stdout",
     "output_type": "stream",
     "text": [
      "Select experiment: covid\n",
      "Select outcome variable: length_of_stay_in_er\n",
      "Select hospital: MSH\n"
     ]
    }
   ],
   "source": [
    "SHIFT_EXPERIMENT = input(\"Select experiment: \")\n",
    "OUTCOME = input(\"Select outcome variable: \")\n",
    "if SHIFT_EXPERIMENT != \"hosp_type\":\n",
    "    HOSPITAL = [input(\"Select hospital: \")]\n",
    "NA_CUTOFF = 0.60\n",
    "\n",
    "if SHIFT_EXPERIMENT == \"covid\":\n",
    "    SHIFT_BS = [\"pre-covid\", \"covid\"]\n",
    "\n",
    "if SHIFT_EXPERIMENT == \"seasonal\":\n",
    "    SHIFT_BS = [\"summer\", \"winter\", \"seasonal\"]\n",
    "    \n",
    "(\n",
    "    (X_train, y_train),\n",
    "    (X_val, y_val),\n",
    "    (X_test, y_test),\n",
    "    feats,\n",
    "    orig_dims,\n",
    ") = import_dataset_hospital(\n",
    "    SHIFT_EXPERIMENT, OUTCOME, HOSPITAL, NA_CUTOFF, shuffle=True\n",
    ")"
   ]
  },
  {
   "cell_type": "markdown",
   "id": "tropical-switch",
   "metadata": {},
   "source": [
    "# Drift Tests #"
   ]
  },
  {
   "cell_type": "code",
   "execution_count": 4,
   "id": "existing-counter",
   "metadata": {},
   "outputs": [
    {
     "name": "stdout",
     "output_type": "stream",
     "text": [
      "pre-covid | SMH | NoRed | MMD\n",
      "Shift pre-covid\n"
     ]
    },
    {
     "name": "stderr",
     "output_type": "stream",
     "text": [
      "torch.range is deprecated and will be removed in a future release because its behavior is inconsistent with Python's range builtin. Instead, use torch.arange, which produces values in [start, end).\n"
     ]
    },
    {
     "name": "stdout",
     "output_type": "stream",
     "text": [
      "Random Run 0 : Sample 10\n",
      "No GPU detected, fall back on CPU.\n",
      "Shift p-vals:  0.23000000417232513\n",
      "Random Run 0 : Sample 20\n",
      "No GPU detected, fall back on CPU.\n",
      "Shift p-vals:  0.14000000059604645\n",
      "Random Run 0 : Sample 50\n",
      "No GPU detected, fall back on CPU.\n",
      "Shift p-vals:  0.8199999928474426\n",
      "Random Run 0 : Sample 100\n",
      "No GPU detected, fall back on CPU.\n",
      "Shift p-vals:  0.5400000214576721\n",
      "Random Run 0 : Sample 200\n",
      "No GPU detected, fall back on CPU.\n",
      "Shift p-vals:  0.75\n",
      "Random Run 0 : Sample 500\n",
      "No GPU detected, fall back on CPU.\n",
      "Shift p-vals:  0.6600000262260437\n",
      "Random Run 0 : Sample 1000\n",
      "No GPU detected, fall back on CPU.\n",
      "Shift p-vals:  0.8700000047683716\n",
      "Random Run 0 : Sample 2000\n",
      "No GPU detected, fall back on CPU.\n",
      "Shift p-vals:  0.7699999809265137\n",
      "Random Run 1 : Sample 10\n",
      "No GPU detected, fall back on CPU.\n",
      "Shift p-vals:  0.2800000011920929\n",
      "Random Run 1 : Sample 20\n",
      "No GPU detected, fall back on CPU.\n",
      "Shift p-vals:  0.8100000023841858\n",
      "Random Run 1 : Sample 50\n",
      "No GPU detected, fall back on CPU.\n",
      "Shift p-vals:  0.9200000166893005\n",
      "Random Run 1 : Sample 100\n",
      "No GPU detected, fall back on CPU.\n",
      "Shift p-vals:  0.2199999988079071\n",
      "Random Run 1 : Sample 200\n",
      "No GPU detected, fall back on CPU.\n",
      "Shift p-vals:  0.1599999964237213\n",
      "Random Run 1 : Sample 500\n",
      "No GPU detected, fall back on CPU.\n",
      "Shift p-vals:  0.07999999821186066\n",
      "Random Run 1 : Sample 1000\n",
      "No GPU detected, fall back on CPU.\n",
      "Shift p-vals:  0.1599999964237213\n",
      "Random Run 1 : Sample 2000\n",
      "No GPU detected, fall back on CPU.\n",
      "Shift p-vals:  0.20999999344348907\n",
      "Random Run 2 : Sample 10\n",
      "No GPU detected, fall back on CPU.\n",
      "Shift p-vals:  0.1899999976158142\n",
      "Random Run 2 : Sample 20\n",
      "No GPU detected, fall back on CPU.\n",
      "Shift p-vals:  0.6000000238418579\n",
      "Random Run 2 : Sample 50\n",
      "No GPU detected, fall back on CPU.\n",
      "Shift p-vals:  0.36000001430511475\n",
      "Random Run 2 : Sample 100\n",
      "No GPU detected, fall back on CPU.\n",
      "Shift p-vals:  0.3199999928474426\n",
      "Random Run 2 : Sample 200\n",
      "No GPU detected, fall back on CPU.\n",
      "Shift p-vals:  0.23000000417232513\n",
      "Random Run 2 : Sample 500\n",
      "No GPU detected, fall back on CPU.\n",
      "Shift p-vals:  0.27000001072883606\n",
      "Random Run 2 : Sample 1000\n",
      "No GPU detected, fall back on CPU.\n",
      "Shift p-vals:  0.41999998688697815\n",
      "Random Run 2 : Sample 2000\n",
      "No GPU detected, fall back on CPU.\n",
      "Shift p-vals:  0.44999998807907104\n",
      "Random Run 3 : Sample 10\n",
      "No GPU detected, fall back on CPU.\n",
      "Shift p-vals:  0.38999998569488525\n",
      "Random Run 3 : Sample 20\n",
      "No GPU detected, fall back on CPU.\n",
      "Shift p-vals:  0.9700000286102295\n",
      "Random Run 3 : Sample 50\n",
      "No GPU detected, fall back on CPU.\n",
      "Shift p-vals:  0.38999998569488525\n",
      "Random Run 3 : Sample 100\n",
      "No GPU detected, fall back on CPU.\n",
      "Shift p-vals:  0.7099999785423279\n",
      "Random Run 3 : Sample 200\n",
      "No GPU detected, fall back on CPU.\n",
      "Shift p-vals:  0.27000001072883606\n",
      "Random Run 3 : Sample 500\n",
      "No GPU detected, fall back on CPU.\n",
      "Shift p-vals:  0.09000000357627869\n",
      "Random Run 3 : Sample 1000\n",
      "No GPU detected, fall back on CPU.\n",
      "Shift p-vals:  0.20999999344348907\n",
      "Random Run 3 : Sample 2000\n",
      "No GPU detected, fall back on CPU.\n",
      "Shift p-vals:  0.14000000059604645\n",
      "Random Run 4 : Sample 10\n",
      "No GPU detected, fall back on CPU.\n",
      "Shift p-vals:  0.1899999976158142\n",
      "Random Run 4 : Sample 20\n",
      "No GPU detected, fall back on CPU.\n",
      "Shift p-vals:  0.20000000298023224\n",
      "Random Run 4 : Sample 50\n",
      "No GPU detected, fall back on CPU.\n",
      "Shift p-vals:  0.6399999856948853\n",
      "Random Run 4 : Sample 100\n",
      "No GPU detected, fall back on CPU.\n",
      "Shift p-vals:  0.5899999737739563\n",
      "Random Run 4 : Sample 200\n",
      "No GPU detected, fall back on CPU.\n",
      "Shift p-vals:  0.44999998807907104\n",
      "Random Run 4 : Sample 500\n",
      "No GPU detected, fall back on CPU.\n",
      "Shift p-vals:  0.27000001072883606\n",
      "Random Run 4 : Sample 1000\n",
      "No GPU detected, fall back on CPU.\n",
      "Shift p-vals:  0.5799999833106995\n",
      "Random Run 4 : Sample 2000\n",
      "No GPU detected, fall back on CPU.\n",
      "Shift p-vals:  0.5400000214576721\n",
      "pre-covid | SMH | NoRed | LK\n",
      "Shift pre-covid\n"
     ]
    },
    {
     "name": "stderr",
     "output_type": "stream",
     "text": [
      "torch.range is deprecated and will be removed in a future release because its behavior is inconsistent with Python's range builtin. Instead, use torch.arange, which produces values in [start, end).\n",
      "No GPU detected, fall back on CPU.\n",
      "No GPU detected, fall back on CPU.\n",
      "No GPU detected, fall back on CPU.\n",
      "No GPU detected, fall back on CPU.\n"
     ]
    },
    {
     "name": "stdout",
     "output_type": "stream",
     "text": [
      "Random Run 0 : Sample 10\n",
      "Shift p-vals:  0.5\n",
      "Random Run 0 : Sample 20\n",
      "Shift p-vals:  0.5099999904632568\n",
      "Random Run 0 : Sample 50\n",
      "Shift p-vals:  0.8199999928474426\n",
      "Random Run 0 : Sample 100\n"
     ]
    },
    {
     "name": "stderr",
     "output_type": "stream",
     "text": [
      "No GPU detected, fall back on CPU.\n"
     ]
    },
    {
     "name": "stdout",
     "output_type": "stream",
     "text": [
      "Shift p-vals:  0.5400000214576721\n",
      "Random Run 0 : Sample 200\n"
     ]
    },
    {
     "name": "stderr",
     "output_type": "stream",
     "text": [
      "No GPU detected, fall back on CPU.\n"
     ]
    },
    {
     "name": "stdout",
     "output_type": "stream",
     "text": [
      "Shift p-vals:  0.27000001072883606\n",
      "Random Run 0 : Sample 500\n"
     ]
    },
    {
     "name": "stderr",
     "output_type": "stream",
     "text": [
      "No GPU detected, fall back on CPU.\n"
     ]
    },
    {
     "name": "stdout",
     "output_type": "stream",
     "text": [
      "Shift p-vals:  0.14000000059604645\n",
      "Random Run 0 : Sample 1000\n"
     ]
    },
    {
     "name": "stderr",
     "output_type": "stream",
     "text": [
      "No GPU detected, fall back on CPU.\n"
     ]
    },
    {
     "name": "stdout",
     "output_type": "stream",
     "text": [
      "Shift p-vals:  0.9100000262260437\n",
      "Random Run 0 : Sample 2000\n",
      "Shift p-vals:  0.6399999856948853\n"
     ]
    },
    {
     "name": "stderr",
     "output_type": "stream",
     "text": [
      "No GPU detected, fall back on CPU.\n",
      "No GPU detected, fall back on CPU.\n",
      "No GPU detected, fall back on CPU.\n",
      "No GPU detected, fall back on CPU.\n"
     ]
    },
    {
     "name": "stdout",
     "output_type": "stream",
     "text": [
      "Random Run 1 : Sample 10\n",
      "Shift p-vals:  0.28999999165534973\n",
      "Random Run 1 : Sample 20\n",
      "Shift p-vals:  0.17000000178813934\n",
      "Random Run 1 : Sample 50\n",
      "Shift p-vals:  1.0\n",
      "Random Run 1 : Sample 100\n"
     ]
    },
    {
     "name": "stderr",
     "output_type": "stream",
     "text": [
      "No GPU detected, fall back on CPU.\n"
     ]
    },
    {
     "name": "stdout",
     "output_type": "stream",
     "text": [
      "Shift p-vals:  0.8799999952316284\n",
      "Random Run 1 : Sample 200\n"
     ]
    },
    {
     "name": "stderr",
     "output_type": "stream",
     "text": [
      "No GPU detected, fall back on CPU.\n"
     ]
    },
    {
     "name": "stdout",
     "output_type": "stream",
     "text": [
      "Shift p-vals:  0.10000000149011612\n",
      "Random Run 1 : Sample 500\n"
     ]
    },
    {
     "name": "stderr",
     "output_type": "stream",
     "text": [
      "No GPU detected, fall back on CPU.\n"
     ]
    },
    {
     "name": "stdout",
     "output_type": "stream",
     "text": [
      "Shift p-vals:  0.07000000029802322\n",
      "Random Run 1 : Sample 1000\n"
     ]
    },
    {
     "name": "stderr",
     "output_type": "stream",
     "text": [
      "No GPU detected, fall back on CPU.\n"
     ]
    },
    {
     "name": "stdout",
     "output_type": "stream",
     "text": [
      "Shift p-vals:  0.550000011920929\n",
      "Random Run 1 : Sample 2000\n",
      "Shift p-vals:  0.36000001430511475\n"
     ]
    },
    {
     "name": "stderr",
     "output_type": "stream",
     "text": [
      "No GPU detected, fall back on CPU.\n",
      "No GPU detected, fall back on CPU.\n",
      "No GPU detected, fall back on CPU.\n",
      "No GPU detected, fall back on CPU.\n"
     ]
    },
    {
     "name": "stdout",
     "output_type": "stream",
     "text": [
      "Random Run 2 : Sample 10\n",
      "Shift p-vals:  0.8799999952316284\n",
      "Random Run 2 : Sample 20\n",
      "Shift p-vals:  0.4399999976158142\n",
      "Random Run 2 : Sample 50\n",
      "Shift p-vals:  0.8799999952316284\n",
      "Random Run 2 : Sample 100\n"
     ]
    },
    {
     "name": "stderr",
     "output_type": "stream",
     "text": [
      "No GPU detected, fall back on CPU.\n"
     ]
    },
    {
     "name": "stdout",
     "output_type": "stream",
     "text": [
      "Shift p-vals:  0.8600000143051147\n",
      "Random Run 2 : Sample 200\n"
     ]
    },
    {
     "name": "stderr",
     "output_type": "stream",
     "text": [
      "No GPU detected, fall back on CPU.\n"
     ]
    },
    {
     "name": "stdout",
     "output_type": "stream",
     "text": [
      "Shift p-vals:  0.5099999904632568\n",
      "Random Run 2 : Sample 500\n"
     ]
    },
    {
     "name": "stderr",
     "output_type": "stream",
     "text": [
      "No GPU detected, fall back on CPU.\n"
     ]
    },
    {
     "name": "stdout",
     "output_type": "stream",
     "text": [
      "Shift p-vals:  0.4699999988079071\n",
      "Random Run 2 : Sample 1000\n"
     ]
    },
    {
     "name": "stderr",
     "output_type": "stream",
     "text": [
      "No GPU detected, fall back on CPU.\n"
     ]
    },
    {
     "name": "stdout",
     "output_type": "stream",
     "text": [
      "Shift p-vals:  0.6700000166893005\n",
      "Random Run 2 : Sample 2000\n",
      "Shift p-vals:  0.6700000166893005\n"
     ]
    },
    {
     "name": "stderr",
     "output_type": "stream",
     "text": [
      "No GPU detected, fall back on CPU.\n",
      "No GPU detected, fall back on CPU.\n",
      "No GPU detected, fall back on CPU.\n",
      "No GPU detected, fall back on CPU.\n"
     ]
    },
    {
     "name": "stdout",
     "output_type": "stream",
     "text": [
      "Random Run 3 : Sample 10\n",
      "Shift p-vals:  0.4300000071525574\n",
      "Random Run 3 : Sample 20\n",
      "Shift p-vals:  0.10000000149011612\n",
      "Random Run 3 : Sample 50\n",
      "Shift p-vals:  0.46000000834465027\n",
      "Random Run 3 : Sample 100\n"
     ]
    },
    {
     "name": "stderr",
     "output_type": "stream",
     "text": [
      "No GPU detected, fall back on CPU.\n"
     ]
    },
    {
     "name": "stdout",
     "output_type": "stream",
     "text": [
      "Shift p-vals:  0.8700000047683716\n",
      "Random Run 3 : Sample 200\n"
     ]
    },
    {
     "name": "stderr",
     "output_type": "stream",
     "text": [
      "No GPU detected, fall back on CPU.\n"
     ]
    },
    {
     "name": "stdout",
     "output_type": "stream",
     "text": [
      "Shift p-vals:  0.25\n",
      "Random Run 3 : Sample 500\n"
     ]
    },
    {
     "name": "stderr",
     "output_type": "stream",
     "text": [
      "No GPU detected, fall back on CPU.\n"
     ]
    },
    {
     "name": "stdout",
     "output_type": "stream",
     "text": [
      "Shift p-vals:  0.5899999737739563\n",
      "Random Run 3 : Sample 1000\n"
     ]
    },
    {
     "name": "stderr",
     "output_type": "stream",
     "text": [
      "No GPU detected, fall back on CPU.\n"
     ]
    },
    {
     "name": "stdout",
     "output_type": "stream",
     "text": [
      "Shift p-vals:  0.6800000071525574\n",
      "Random Run 3 : Sample 2000\n",
      "Shift p-vals:  0.44999998807907104\n"
     ]
    },
    {
     "name": "stderr",
     "output_type": "stream",
     "text": [
      "No GPU detected, fall back on CPU.\n",
      "No GPU detected, fall back on CPU.\n",
      "No GPU detected, fall back on CPU.\n",
      "No GPU detected, fall back on CPU.\n"
     ]
    },
    {
     "name": "stdout",
     "output_type": "stream",
     "text": [
      "Random Run 4 : Sample 10\n",
      "Shift p-vals:  0.10999999940395355\n",
      "Random Run 4 : Sample 20\n",
      "Shift p-vals:  0.1899999976158142\n",
      "Random Run 4 : Sample 50\n",
      "Shift p-vals:  0.6800000071525574\n",
      "Random Run 4 : Sample 100\n"
     ]
    },
    {
     "name": "stderr",
     "output_type": "stream",
     "text": [
      "No GPU detected, fall back on CPU.\n"
     ]
    },
    {
     "name": "stdout",
     "output_type": "stream",
     "text": [
      "Shift p-vals:  0.6299999952316284\n",
      "Random Run 4 : Sample 200\n"
     ]
    },
    {
     "name": "stderr",
     "output_type": "stream",
     "text": [
      "No GPU detected, fall back on CPU.\n"
     ]
    },
    {
     "name": "stdout",
     "output_type": "stream",
     "text": [
      "Shift p-vals:  0.699999988079071\n",
      "Random Run 4 : Sample 500\n"
     ]
    },
    {
     "name": "stderr",
     "output_type": "stream",
     "text": [
      "No GPU detected, fall back on CPU.\n"
     ]
    },
    {
     "name": "stdout",
     "output_type": "stream",
     "text": [
      "Shift p-vals:  0.9200000166893005\n",
      "Random Run 4 : Sample 1000\n"
     ]
    },
    {
     "name": "stderr",
     "output_type": "stream",
     "text": [
      "No GPU detected, fall back on CPU.\n"
     ]
    },
    {
     "name": "stdout",
     "output_type": "stream",
     "text": [
      "Shift p-vals:  0.8199999928474426\n",
      "Random Run 4 : Sample 2000\n",
      "Shift p-vals:  0.9599999785423279\n",
      "pre-covid | SMH | NoRed | LSDD\n",
      "Shift pre-covid\n"
     ]
    },
    {
     "name": "stderr",
     "output_type": "stream",
     "text": [
      "torch.range is deprecated and will be removed in a future release because its behavior is inconsistent with Python's range builtin. Instead, use torch.arange, which produces values in [start, end).\n"
     ]
    },
    {
     "name": "stdout",
     "output_type": "stream",
     "text": [
      "Random Run 0 : Sample 10\n",
      "No GPU detected, fall back on CPU.\n",
      "Shift p-vals:  0.23000000417232513\n",
      "Random Run 0 : Sample 20\n",
      "No GPU detected, fall back on CPU.\n",
      "Shift p-vals:  0.5400000214576721\n",
      "Random Run 0 : Sample 50\n",
      "No GPU detected, fall back on CPU.\n",
      "Shift p-vals:  0.009999999776482582\n",
      "Random Run 0 : Sample 100\n",
      "No GPU detected, fall back on CPU.\n",
      "Shift p-vals:  0.38999998569488525\n",
      "Random Run 0 : Sample 200\n",
      "No GPU detected, fall back on CPU.\n",
      "Shift p-vals:  0.47999998927116394\n",
      "Random Run 0 : Sample 500\n",
      "No GPU detected, fall back on CPU.\n",
      "Shift p-vals:  0.8799999952316284\n",
      "Random Run 0 : Sample 1000\n",
      "No GPU detected, fall back on CPU.\n",
      "Shift p-vals:  0.3499999940395355\n",
      "Random Run 0 : Sample 2000\n",
      "No GPU detected, fall back on CPU.\n",
      "Shift p-vals:  0.9200000166893005\n",
      "Random Run 1 : Sample 10\n",
      "No GPU detected, fall back on CPU.\n",
      "Shift p-vals:  0.1899999976158142\n",
      "Random Run 1 : Sample 20\n",
      "No GPU detected, fall back on CPU.\n",
      "Shift p-vals:  0.009999999776482582\n",
      "Random Run 1 : Sample 50\n",
      "No GPU detected, fall back on CPU.\n",
      "Shift p-vals:  0.0\n",
      "Random Run 1 : Sample 100\n",
      "No GPU detected, fall back on CPU.\n",
      "Shift p-vals:  0.0\n",
      "Random Run 1 : Sample 200\n",
      "No GPU detected, fall back on CPU.\n",
      "Shift p-vals:  0.25\n",
      "Random Run 1 : Sample 500\n",
      "No GPU detected, fall back on CPU.\n",
      "Shift p-vals:  0.15000000596046448\n",
      "Random Run 1 : Sample 1000\n",
      "No GPU detected, fall back on CPU.\n",
      "Shift p-vals:  0.5299999713897705\n",
      "Random Run 1 : Sample 2000\n",
      "No GPU detected, fall back on CPU.\n",
      "Shift p-vals:  0.699999988079071\n",
      "Random Run 2 : Sample 10\n",
      "No GPU detected, fall back on CPU.\n",
      "Shift p-vals:  0.30000001192092896\n",
      "Random Run 2 : Sample 20\n",
      "No GPU detected, fall back on CPU.\n",
      "Shift p-vals:  0.009999999776482582\n",
      "Random Run 2 : Sample 50\n",
      "No GPU detected, fall back on CPU.\n",
      "Shift p-vals:  0.0\n",
      "Random Run 2 : Sample 100\n",
      "No GPU detected, fall back on CPU.\n",
      "Shift p-vals:  0.1599999964237213\n",
      "Random Run 2 : Sample 200\n",
      "No GPU detected, fall back on CPU.\n",
      "Shift p-vals:  0.5299999713897705\n",
      "Random Run 2 : Sample 500\n",
      "No GPU detected, fall back on CPU.\n",
      "Shift p-vals:  0.9200000166893005\n",
      "Random Run 2 : Sample 1000\n",
      "No GPU detected, fall back on CPU.\n",
      "Shift p-vals:  0.6499999761581421\n",
      "Random Run 2 : Sample 2000\n",
      "No GPU detected, fall back on CPU.\n",
      "Shift p-vals:  0.5\n",
      "Random Run 3 : Sample 10\n",
      "No GPU detected, fall back on CPU.\n",
      "Shift p-vals:  0.029999999329447746\n",
      "Random Run 3 : Sample 20\n",
      "No GPU detected, fall back on CPU.\n",
      "Shift p-vals:  0.029999999329447746\n",
      "Random Run 3 : Sample 50\n",
      "No GPU detected, fall back on CPU.\n",
      "Shift p-vals:  0.009999999776482582\n",
      "Random Run 3 : Sample 100\n",
      "No GPU detected, fall back on CPU.\n",
      "Shift p-vals:  0.9399999976158142\n",
      "Random Run 3 : Sample 200\n",
      "No GPU detected, fall back on CPU.\n",
      "Shift p-vals:  0.550000011920929\n",
      "Random Run 3 : Sample 500\n",
      "No GPU detected, fall back on CPU.\n",
      "Shift p-vals:  0.6299999952316284\n",
      "Random Run 3 : Sample 1000\n",
      "No GPU detected, fall back on CPU.\n",
      "Shift p-vals:  0.75\n",
      "Random Run 3 : Sample 2000\n",
      "No GPU detected, fall back on CPU.\n",
      "Shift p-vals:  0.38999998569488525\n",
      "Random Run 4 : Sample 10\n",
      "No GPU detected, fall back on CPU.\n",
      "Shift p-vals:  0.0\n",
      "Random Run 4 : Sample 20\n",
      "No GPU detected, fall back on CPU.\n",
      "Shift p-vals:  0.3199999928474426\n",
      "Random Run 4 : Sample 50\n",
      "No GPU detected, fall back on CPU.\n",
      "Shift p-vals:  0.12999999523162842\n",
      "Random Run 4 : Sample 100\n",
      "No GPU detected, fall back on CPU.\n",
      "Shift p-vals:  0.8299999833106995\n",
      "Random Run 4 : Sample 200\n",
      "No GPU detected, fall back on CPU.\n",
      "Shift p-vals:  0.3100000023841858\n",
      "Random Run 4 : Sample 500\n",
      "No GPU detected, fall back on CPU.\n",
      "Shift p-vals:  0.36000001430511475\n",
      "Random Run 4 : Sample 1000\n",
      "No GPU detected, fall back on CPU.\n",
      "Shift p-vals:  0.36000001430511475\n",
      "Random Run 4 : Sample 2000\n",
      "No GPU detected, fall back on CPU.\n",
      "Shift p-vals:  0.33000001311302185\n",
      "pre-covid | SMH | SRP | MMD\n",
      "Shift pre-covid\n"
     ]
    },
    {
     "name": "stderr",
     "output_type": "stream",
     "text": [
      "torch.range is deprecated and will be removed in a future release because its behavior is inconsistent with Python's range builtin. Instead, use torch.arange, which produces values in [start, end).\n"
     ]
    },
    {
     "name": "stdout",
     "output_type": "stream",
     "text": [
      "Random Run 0 : Sample 10\n",
      "No GPU detected, fall back on CPU.\n",
      "Shift p-vals:  0.25\n",
      "Random Run 0 : Sample 20\n",
      "No GPU detected, fall back on CPU.\n",
      "Shift p-vals:  0.11999999731779099\n",
      "Random Run 0 : Sample 50\n",
      "No GPU detected, fall back on CPU.\n",
      "Shift p-vals:  0.46000000834465027\n",
      "Random Run 0 : Sample 100\n",
      "No GPU detected, fall back on CPU.\n",
      "Shift p-vals:  0.25\n",
      "Random Run 0 : Sample 200\n",
      "No GPU detected, fall back on CPU.\n",
      "Shift p-vals:  0.17000000178813934\n",
      "Random Run 0 : Sample 500\n",
      "No GPU detected, fall back on CPU.\n",
      "Shift p-vals:  0.2800000011920929\n",
      "Random Run 0 : Sample 1000\n",
      "No GPU detected, fall back on CPU.\n",
      "Shift p-vals:  0.9300000071525574\n",
      "Random Run 0 : Sample 2000\n",
      "No GPU detected, fall back on CPU.\n",
      "Shift p-vals:  0.6499999761581421\n",
      "Random Run 1 : Sample 10\n",
      "No GPU detected, fall back on CPU.\n",
      "Shift p-vals:  0.11999999731779099\n",
      "Random Run 1 : Sample 20\n",
      "No GPU detected, fall back on CPU.\n",
      "Shift p-vals:  0.949999988079071\n",
      "Random Run 1 : Sample 50\n",
      "No GPU detected, fall back on CPU.\n",
      "Shift p-vals:  0.019999999552965164\n",
      "Random Run 1 : Sample 100\n",
      "No GPU detected, fall back on CPU.\n",
      "Shift p-vals:  0.7599999904632568\n",
      "Random Run 1 : Sample 200\n",
      "No GPU detected, fall back on CPU.\n",
      "Shift p-vals:  0.8799999952316284\n",
      "Random Run 1 : Sample 500\n",
      "No GPU detected, fall back on CPU.\n",
      "Shift p-vals:  0.029999999329447746\n",
      "Random Run 1 : Sample 1000\n",
      "No GPU detected, fall back on CPU.\n",
      "Shift p-vals:  0.49000000953674316\n",
      "Random Run 1 : Sample 2000\n",
      "No GPU detected, fall back on CPU.\n",
      "Shift p-vals:  0.0\n",
      "Random Run 2 : Sample 10\n",
      "No GPU detected, fall back on CPU.\n",
      "Shift p-vals:  0.7900000214576721\n",
      "Random Run 2 : Sample 20\n",
      "No GPU detected, fall back on CPU.\n",
      "Shift p-vals:  0.5400000214576721\n",
      "Random Run 2 : Sample 50\n",
      "No GPU detected, fall back on CPU.\n",
      "Shift p-vals:  0.15000000596046448\n",
      "Random Run 2 : Sample 100\n",
      "No GPU detected, fall back on CPU.\n",
      "Shift p-vals:  0.9800000190734863\n",
      "Random Run 2 : Sample 200\n",
      "No GPU detected, fall back on CPU.\n",
      "Shift p-vals:  0.1899999976158142\n",
      "Random Run 2 : Sample 500\n",
      "No GPU detected, fall back on CPU.\n",
      "Shift p-vals:  1.0\n",
      "Random Run 2 : Sample 1000\n",
      "No GPU detected, fall back on CPU.\n",
      "Shift p-vals:  0.03999999910593033\n",
      "Random Run 2 : Sample 2000\n",
      "No GPU detected, fall back on CPU.\n",
      "Shift p-vals:  0.3499999940395355\n",
      "Random Run 3 : Sample 10\n",
      "No GPU detected, fall back on CPU.\n",
      "Shift p-vals:  0.9800000190734863\n",
      "Random Run 3 : Sample 20\n",
      "No GPU detected, fall back on CPU.\n",
      "Shift p-vals:  0.5400000214576721\n",
      "Random Run 3 : Sample 50\n",
      "No GPU detected, fall back on CPU.\n",
      "Shift p-vals:  0.49000000953674316\n",
      "Random Run 3 : Sample 100\n",
      "No GPU detected, fall back on CPU.\n",
      "Shift p-vals:  0.23999999463558197\n",
      "Random Run 3 : Sample 200\n",
      "No GPU detected, fall back on CPU.\n",
      "Shift p-vals:  0.15000000596046448\n",
      "Random Run 3 : Sample 500\n",
      "No GPU detected, fall back on CPU.\n",
      "Shift p-vals:  0.7400000095367432\n",
      "Random Run 3 : Sample 1000\n",
      "No GPU detected, fall back on CPU.\n",
      "Shift p-vals:  0.2199999988079071\n",
      "Random Run 3 : Sample 2000\n",
      "No GPU detected, fall back on CPU.\n",
      "Shift p-vals:  0.1599999964237213\n",
      "Random Run 4 : Sample 10\n",
      "No GPU detected, fall back on CPU.\n",
      "Shift p-vals:  0.8600000143051147\n",
      "Random Run 4 : Sample 20\n",
      "No GPU detected, fall back on CPU.\n",
      "Shift p-vals:  0.7200000286102295\n",
      "Random Run 4 : Sample 50\n",
      "No GPU detected, fall back on CPU.\n",
      "Shift p-vals:  0.9599999785423279\n",
      "Random Run 4 : Sample 100\n",
      "No GPU detected, fall back on CPU.\n",
      "Shift p-vals:  0.14000000059604645\n",
      "Random Run 4 : Sample 200\n",
      "No GPU detected, fall back on CPU.\n",
      "Shift p-vals:  0.23000000417232513\n",
      "Random Run 4 : Sample 500\n",
      "No GPU detected, fall back on CPU.\n",
      "Shift p-vals:  0.4399999976158142\n",
      "Random Run 4 : Sample 1000\n",
      "No GPU detected, fall back on CPU.\n",
      "Shift p-vals:  0.27000001072883606\n",
      "Random Run 4 : Sample 2000\n",
      "No GPU detected, fall back on CPU.\n",
      "Shift p-vals:  0.6800000071525574\n",
      "pre-covid | SMH | SRP | LK\n",
      "Shift pre-covid\n"
     ]
    },
    {
     "name": "stderr",
     "output_type": "stream",
     "text": [
      "torch.range is deprecated and will be removed in a future release because its behavior is inconsistent with Python's range builtin. Instead, use torch.arange, which produces values in [start, end).\n",
      "No GPU detected, fall back on CPU.\n",
      "No GPU detected, fall back on CPU.\n",
      "No GPU detected, fall back on CPU.\n",
      "No GPU detected, fall back on CPU.\n"
     ]
    },
    {
     "name": "stdout",
     "output_type": "stream",
     "text": [
      "Random Run 0 : Sample 10\n",
      "Shift p-vals:  0.5299999713897705\n",
      "Random Run 0 : Sample 20\n",
      "Shift p-vals:  0.5\n",
      "Random Run 0 : Sample 50\n",
      "Shift p-vals:  0.3400000035762787\n",
      "Random Run 0 : Sample 100\n"
     ]
    },
    {
     "name": "stderr",
     "output_type": "stream",
     "text": [
      "No GPU detected, fall back on CPU.\n"
     ]
    },
    {
     "name": "stdout",
     "output_type": "stream",
     "text": [
      "Shift p-vals:  0.28999999165534973\n",
      "Random Run 0 : Sample 200\n"
     ]
    },
    {
     "name": "stderr",
     "output_type": "stream",
     "text": [
      "No GPU detected, fall back on CPU.\n"
     ]
    },
    {
     "name": "stdout",
     "output_type": "stream",
     "text": [
      "Shift p-vals:  0.6700000166893005\n",
      "Random Run 0 : Sample 500\n"
     ]
    },
    {
     "name": "stderr",
     "output_type": "stream",
     "text": [
      "No GPU detected, fall back on CPU.\n"
     ]
    },
    {
     "name": "stdout",
     "output_type": "stream",
     "text": [
      "Shift p-vals:  0.28999999165534973\n",
      "Random Run 0 : Sample 1000\n"
     ]
    },
    {
     "name": "stderr",
     "output_type": "stream",
     "text": [
      "No GPU detected, fall back on CPU.\n"
     ]
    },
    {
     "name": "stdout",
     "output_type": "stream",
     "text": [
      "Shift p-vals:  0.47999998927116394\n",
      "Random Run 0 : Sample 2000\n",
      "Shift p-vals:  0.9200000166893005\n"
     ]
    },
    {
     "name": "stderr",
     "output_type": "stream",
     "text": [
      "No GPU detected, fall back on CPU.\n",
      "No GPU detected, fall back on CPU.\n",
      "No GPU detected, fall back on CPU.\n",
      "No GPU detected, fall back on CPU.\n"
     ]
    },
    {
     "name": "stdout",
     "output_type": "stream",
     "text": [
      "Random Run 1 : Sample 10\n",
      "Shift p-vals:  0.1899999976158142\n",
      "Random Run 1 : Sample 20\n",
      "Shift p-vals:  0.5299999713897705\n",
      "Random Run 1 : Sample 50\n",
      "Shift p-vals:  0.4000000059604645\n",
      "Random Run 1 : Sample 100\n"
     ]
    },
    {
     "name": "stderr",
     "output_type": "stream",
     "text": [
      "No GPU detected, fall back on CPU.\n"
     ]
    },
    {
     "name": "stdout",
     "output_type": "stream",
     "text": [
      "Shift p-vals:  0.14000000059604645\n",
      "Random Run 1 : Sample 200\n"
     ]
    },
    {
     "name": "stderr",
     "output_type": "stream",
     "text": [
      "No GPU detected, fall back on CPU.\n"
     ]
    },
    {
     "name": "stdout",
     "output_type": "stream",
     "text": [
      "Shift p-vals:  0.5899999737739563\n",
      "Random Run 1 : Sample 500\n"
     ]
    },
    {
     "name": "stderr",
     "output_type": "stream",
     "text": [
      "No GPU detected, fall back on CPU.\n"
     ]
    },
    {
     "name": "stdout",
     "output_type": "stream",
     "text": [
      "Shift p-vals:  0.3199999928474426\n",
      "Random Run 1 : Sample 1000\n"
     ]
    },
    {
     "name": "stderr",
     "output_type": "stream",
     "text": [
      "No GPU detected, fall back on CPU.\n"
     ]
    },
    {
     "name": "stdout",
     "output_type": "stream",
     "text": [
      "Shift p-vals:  0.23000000417232513\n",
      "Random Run 1 : Sample 2000\n",
      "Shift p-vals:  0.7900000214576721\n"
     ]
    },
    {
     "name": "stderr",
     "output_type": "stream",
     "text": [
      "No GPU detected, fall back on CPU.\n",
      "No GPU detected, fall back on CPU.\n",
      "No GPU detected, fall back on CPU.\n",
      "No GPU detected, fall back on CPU.\n"
     ]
    },
    {
     "name": "stdout",
     "output_type": "stream",
     "text": [
      "Random Run 2 : Sample 10\n",
      "Shift p-vals:  0.15000000596046448\n",
      "Random Run 2 : Sample 20\n",
      "Shift p-vals:  0.8100000023841858\n",
      "Random Run 2 : Sample 50\n",
      "Shift p-vals:  0.28999999165534973\n",
      "Random Run 2 : Sample 100\n"
     ]
    },
    {
     "name": "stderr",
     "output_type": "stream",
     "text": [
      "No GPU detected, fall back on CPU.\n"
     ]
    },
    {
     "name": "stdout",
     "output_type": "stream",
     "text": [
      "Shift p-vals:  0.9900000095367432\n",
      "Random Run 2 : Sample 200\n"
     ]
    },
    {
     "name": "stderr",
     "output_type": "stream",
     "text": [
      "No GPU detected, fall back on CPU.\n"
     ]
    },
    {
     "name": "stdout",
     "output_type": "stream",
     "text": [
      "Shift p-vals:  0.3199999928474426\n",
      "Random Run 2 : Sample 500\n"
     ]
    },
    {
     "name": "stderr",
     "output_type": "stream",
     "text": [
      "No GPU detected, fall back on CPU.\n"
     ]
    },
    {
     "name": "stdout",
     "output_type": "stream",
     "text": [
      "Shift p-vals:  0.6399999856948853\n",
      "Random Run 2 : Sample 1000\n"
     ]
    },
    {
     "name": "stderr",
     "output_type": "stream",
     "text": [
      "No GPU detected, fall back on CPU.\n"
     ]
    },
    {
     "name": "stdout",
     "output_type": "stream",
     "text": [
      "Shift p-vals:  0.029999999329447746\n",
      "Random Run 2 : Sample 2000\n",
      "Shift p-vals:  0.8299999833106995\n"
     ]
    },
    {
     "name": "stderr",
     "output_type": "stream",
     "text": [
      "No GPU detected, fall back on CPU.\n",
      "No GPU detected, fall back on CPU.\n",
      "No GPU detected, fall back on CPU.\n",
      "No GPU detected, fall back on CPU.\n"
     ]
    },
    {
     "name": "stdout",
     "output_type": "stream",
     "text": [
      "Random Run 3 : Sample 10\n",
      "Shift p-vals:  1.0\n",
      "Random Run 3 : Sample 20\n",
      "Shift p-vals:  0.2199999988079071\n",
      "Random Run 3 : Sample 50\n",
      "Shift p-vals:  0.4699999988079071\n",
      "Random Run 3 : Sample 100\n"
     ]
    },
    {
     "name": "stderr",
     "output_type": "stream",
     "text": [
      "No GPU detected, fall back on CPU.\n"
     ]
    },
    {
     "name": "stdout",
     "output_type": "stream",
     "text": [
      "Shift p-vals:  0.949999988079071\n",
      "Random Run 3 : Sample 200\n"
     ]
    },
    {
     "name": "stderr",
     "output_type": "stream",
     "text": [
      "No GPU detected, fall back on CPU.\n"
     ]
    },
    {
     "name": "stdout",
     "output_type": "stream",
     "text": [
      "Shift p-vals:  0.20999999344348907\n",
      "Random Run 3 : Sample 500\n"
     ]
    },
    {
     "name": "stderr",
     "output_type": "stream",
     "text": [
      "No GPU detected, fall back on CPU.\n"
     ]
    },
    {
     "name": "stdout",
     "output_type": "stream",
     "text": [
      "Shift p-vals:  0.6499999761581421\n",
      "Random Run 3 : Sample 1000\n"
     ]
    },
    {
     "name": "stderr",
     "output_type": "stream",
     "text": [
      "No GPU detected, fall back on CPU.\n"
     ]
    },
    {
     "name": "stdout",
     "output_type": "stream",
     "text": [
      "Shift p-vals:  0.5099999904632568\n",
      "Random Run 3 : Sample 2000\n",
      "Shift p-vals:  0.6600000262260437\n"
     ]
    },
    {
     "name": "stderr",
     "output_type": "stream",
     "text": [
      "No GPU detected, fall back on CPU.\n",
      "No GPU detected, fall back on CPU.\n",
      "No GPU detected, fall back on CPU.\n",
      "No GPU detected, fall back on CPU.\n"
     ]
    },
    {
     "name": "stdout",
     "output_type": "stream",
     "text": [
      "Random Run 4 : Sample 10\n",
      "Shift p-vals:  0.8500000238418579\n",
      "Random Run 4 : Sample 20\n",
      "Shift p-vals:  0.5699999928474426\n",
      "Random Run 4 : Sample 50\n",
      "Shift p-vals:  0.7900000214576721\n",
      "Random Run 4 : Sample 100\n"
     ]
    },
    {
     "name": "stderr",
     "output_type": "stream",
     "text": [
      "No GPU detected, fall back on CPU.\n"
     ]
    },
    {
     "name": "stdout",
     "output_type": "stream",
     "text": [
      "Shift p-vals:  0.38999998569488525\n",
      "Random Run 4 : Sample 200\n"
     ]
    },
    {
     "name": "stderr",
     "output_type": "stream",
     "text": [
      "No GPU detected, fall back on CPU.\n"
     ]
    },
    {
     "name": "stdout",
     "output_type": "stream",
     "text": [
      "Shift p-vals:  0.7300000190734863\n",
      "Random Run 4 : Sample 500\n"
     ]
    },
    {
     "name": "stderr",
     "output_type": "stream",
     "text": [
      "No GPU detected, fall back on CPU.\n"
     ]
    },
    {
     "name": "stdout",
     "output_type": "stream",
     "text": [
      "Shift p-vals:  0.6299999952316284\n",
      "Random Run 4 : Sample 1000\n"
     ]
    },
    {
     "name": "stderr",
     "output_type": "stream",
     "text": [
      "No GPU detected, fall back on CPU.\n"
     ]
    },
    {
     "name": "stdout",
     "output_type": "stream",
     "text": [
      "Shift p-vals:  0.1599999964237213\n",
      "Random Run 4 : Sample 2000\n",
      "Shift p-vals:  0.6399999856948853\n",
      "pre-covid | SMH | SRP | LSDD\n",
      "Shift pre-covid\n"
     ]
    },
    {
     "name": "stderr",
     "output_type": "stream",
     "text": [
      "torch.range is deprecated and will be removed in a future release because its behavior is inconsistent with Python's range builtin. Instead, use torch.arange, which produces values in [start, end).\n"
     ]
    },
    {
     "name": "stdout",
     "output_type": "stream",
     "text": [
      "Random Run 0 : Sample 10\n",
      "No GPU detected, fall back on CPU.\n",
      "Shift p-vals:  0.03999999910593033\n",
      "Random Run 0 : Sample 20\n",
      "No GPU detected, fall back on CPU.\n",
      "Shift p-vals:  0.12999999523162842\n",
      "Random Run 0 : Sample 50\n",
      "No GPU detected, fall back on CPU.\n",
      "Shift p-vals:  0.1599999964237213\n",
      "Random Run 0 : Sample 100\n",
      "No GPU detected, fall back on CPU.\n",
      "Shift p-vals:  0.7099999785423279\n",
      "Random Run 0 : Sample 200\n",
      "No GPU detected, fall back on CPU.\n",
      "Shift p-vals:  0.2199999988079071\n",
      "Random Run 0 : Sample 500\n",
      "No GPU detected, fall back on CPU.\n",
      "Shift p-vals:  0.3700000047683716\n",
      "Random Run 0 : Sample 1000\n",
      "No GPU detected, fall back on CPU.\n",
      "Shift p-vals:  0.6499999761581421\n",
      "Random Run 0 : Sample 2000\n",
      "No GPU detected, fall back on CPU.\n",
      "Shift p-vals:  0.3499999940395355\n",
      "Random Run 1 : Sample 10\n",
      "No GPU detected, fall back on CPU.\n",
      "Shift p-vals:  0.5600000023841858\n",
      "Random Run 1 : Sample 20\n",
      "No GPU detected, fall back on CPU.\n",
      "Shift p-vals:  0.9599999785423279\n",
      "Random Run 1 : Sample 50\n",
      "No GPU detected, fall back on CPU.\n",
      "Shift p-vals:  0.0\n",
      "Random Run 1 : Sample 100\n",
      "No GPU detected, fall back on CPU.\n",
      "Shift p-vals:  0.20999999344348907\n",
      "Random Run 1 : Sample 200\n",
      "No GPU detected, fall back on CPU.\n",
      "Shift p-vals:  0.9399999976158142\n",
      "Random Run 1 : Sample 500\n",
      "No GPU detected, fall back on CPU.\n",
      "Shift p-vals:  0.3700000047683716\n",
      "Random Run 1 : Sample 1000\n",
      "No GPU detected, fall back on CPU.\n",
      "Shift p-vals:  0.09000000357627869\n",
      "Random Run 1 : Sample 2000\n",
      "No GPU detected, fall back on CPU.\n",
      "Shift p-vals:  0.10000000149011612\n",
      "Random Run 2 : Sample 10\n",
      "No GPU detected, fall back on CPU.\n",
      "Shift p-vals:  0.9800000190734863\n",
      "Random Run 2 : Sample 20\n",
      "No GPU detected, fall back on CPU.\n",
      "Shift p-vals:  0.5699999928474426\n",
      "Random Run 2 : Sample 50\n",
      "No GPU detected, fall back on CPU.\n",
      "Shift p-vals:  0.9700000286102295\n",
      "Random Run 2 : Sample 100\n",
      "No GPU detected, fall back on CPU.\n",
      "Shift p-vals:  0.7699999809265137\n",
      "Random Run 2 : Sample 200\n",
      "No GPU detected, fall back on CPU.\n",
      "Shift p-vals:  0.09000000357627869\n",
      "Random Run 2 : Sample 500\n",
      "No GPU detected, fall back on CPU.\n",
      "Shift p-vals:  1.0\n",
      "Random Run 2 : Sample 1000\n",
      "No GPU detected, fall back on CPU.\n",
      "Shift p-vals:  0.46000000834465027\n",
      "Random Run 2 : Sample 2000\n",
      "No GPU detected, fall back on CPU.\n",
      "Shift p-vals:  0.3199999928474426\n",
      "Random Run 3 : Sample 10\n",
      "No GPU detected, fall back on CPU.\n",
      "Shift p-vals:  0.6399999856948853\n",
      "Random Run 3 : Sample 20\n",
      "No GPU detected, fall back on CPU.\n",
      "Shift p-vals:  0.3199999928474426\n",
      "Random Run 3 : Sample 50\n",
      "No GPU detected, fall back on CPU.\n",
      "Shift p-vals:  0.30000001192092896\n",
      "Random Run 3 : Sample 100\n",
      "No GPU detected, fall back on CPU.\n",
      "Shift p-vals:  0.07999999821186066\n",
      "Random Run 3 : Sample 200\n",
      "No GPU detected, fall back on CPU.\n",
      "Shift p-vals:  0.03999999910593033\n",
      "Random Run 3 : Sample 500\n",
      "No GPU detected, fall back on CPU.\n",
      "Shift p-vals:  0.2800000011920929\n",
      "Random Run 3 : Sample 1000\n",
      "No GPU detected, fall back on CPU.\n",
      "Shift p-vals:  0.44999998807907104\n",
      "Random Run 3 : Sample 2000\n",
      "No GPU detected, fall back on CPU.\n",
      "Shift p-vals:  0.07000000029802322\n",
      "Random Run 4 : Sample 10\n",
      "No GPU detected, fall back on CPU.\n",
      "Shift p-vals:  0.17000000178813934\n",
      "Random Run 4 : Sample 20\n",
      "No GPU detected, fall back on CPU.\n",
      "Shift p-vals:  0.7699999809265137\n",
      "Random Run 4 : Sample 50\n",
      "No GPU detected, fall back on CPU.\n",
      "Shift p-vals:  0.6600000262260437\n",
      "Random Run 4 : Sample 100\n",
      "No GPU detected, fall back on CPU.\n",
      "Shift p-vals:  0.03999999910593033\n",
      "Random Run 4 : Sample 200\n",
      "No GPU detected, fall back on CPU.\n",
      "Shift p-vals:  0.09000000357627869\n",
      "Random Run 4 : Sample 500\n",
      "No GPU detected, fall back on CPU.\n",
      "Shift p-vals:  0.30000001192092896\n",
      "Random Run 4 : Sample 1000\n",
      "No GPU detected, fall back on CPU.\n",
      "Shift p-vals:  0.5199999809265137\n",
      "Random Run 4 : Sample 2000\n",
      "No GPU detected, fall back on CPU.\n",
      "Shift p-vals:  0.2199999988079071\n",
      "pre-covid | SMH | PCA | MMD\n",
      "Shift pre-covid\n"
     ]
    },
    {
     "name": "stderr",
     "output_type": "stream",
     "text": [
      "torch.range is deprecated and will be removed in a future release because its behavior is inconsistent with Python's range builtin. Instead, use torch.arange, which produces values in [start, end).\n"
     ]
    },
    {
     "name": "stdout",
     "output_type": "stream",
     "text": [
      "Random Run 0 : Sample 10\n",
      "No GPU detected, fall back on CPU.\n",
      "Shift p-vals:  0.17000000178813934\n",
      "Random Run 0 : Sample 20\n",
      "No GPU detected, fall back on CPU.\n",
      "Shift p-vals:  0.17000000178813934\n",
      "Random Run 0 : Sample 50\n",
      "No GPU detected, fall back on CPU.\n",
      "Shift p-vals:  0.7799999713897705\n",
      "Random Run 0 : Sample 100\n",
      "No GPU detected, fall back on CPU.\n",
      "Shift p-vals:  0.5400000214576721\n",
      "Random Run 0 : Sample 200\n",
      "No GPU detected, fall back on CPU.\n",
      "Shift p-vals:  0.8299999833106995\n",
      "Random Run 0 : Sample 500\n",
      "No GPU detected, fall back on CPU.\n",
      "Shift p-vals:  0.7099999785423279\n",
      "Random Run 0 : Sample 1000\n",
      "No GPU detected, fall back on CPU.\n",
      "Shift p-vals:  0.8199999928474426\n",
      "Random Run 0 : Sample 2000\n",
      "No GPU detected, fall back on CPU.\n",
      "Shift p-vals:  0.8899999856948853\n",
      "Random Run 1 : Sample 10\n",
      "No GPU detected, fall back on CPU.\n",
      "Shift p-vals:  0.25\n",
      "Random Run 1 : Sample 20\n",
      "No GPU detected, fall back on CPU.\n",
      "Shift p-vals:  0.9100000262260437\n",
      "Random Run 1 : Sample 50\n",
      "No GPU detected, fall back on CPU.\n",
      "Shift p-vals:  0.9200000166893005\n",
      "Random Run 1 : Sample 100\n",
      "No GPU detected, fall back on CPU.\n",
      "Shift p-vals:  0.3499999940395355\n",
      "Random Run 1 : Sample 200\n",
      "No GPU detected, fall back on CPU.\n",
      "Shift p-vals:  0.2800000011920929\n",
      "Random Run 1 : Sample 500\n",
      "No GPU detected, fall back on CPU.\n",
      "Shift p-vals:  0.20999999344348907\n",
      "Random Run 1 : Sample 1000\n",
      "No GPU detected, fall back on CPU.\n",
      "Shift p-vals:  0.38999998569488525\n",
      "Random Run 1 : Sample 2000\n",
      "No GPU detected, fall back on CPU.\n",
      "Shift p-vals:  0.27000001072883606\n",
      "Random Run 2 : Sample 10\n",
      "No GPU detected, fall back on CPU.\n",
      "Shift p-vals:  0.1599999964237213\n",
      "Random Run 2 : Sample 20\n",
      "No GPU detected, fall back on CPU.\n",
      "Shift p-vals:  0.5199999809265137\n",
      "Random Run 2 : Sample 50\n",
      "No GPU detected, fall back on CPU.\n",
      "Shift p-vals:  0.36000001430511475\n",
      "Random Run 2 : Sample 100\n",
      "No GPU detected, fall back on CPU.\n",
      "Shift p-vals:  0.3499999940395355\n",
      "Random Run 2 : Sample 200\n",
      "No GPU detected, fall back on CPU.\n",
      "Shift p-vals:  0.3100000023841858\n",
      "Random Run 2 : Sample 500\n",
      "No GPU detected, fall back on CPU.\n",
      "Shift p-vals:  0.30000001192092896\n",
      "Random Run 2 : Sample 1000\n",
      "No GPU detected, fall back on CPU.\n",
      "Shift p-vals:  0.44999998807907104\n",
      "Random Run 2 : Sample 2000\n",
      "No GPU detected, fall back on CPU.\n",
      "Shift p-vals:  0.41999998688697815\n",
      "Random Run 3 : Sample 10\n",
      "No GPU detected, fall back on CPU.\n",
      "Shift p-vals:  0.1899999976158142\n",
      "Random Run 3 : Sample 20\n",
      "No GPU detected, fall back on CPU.\n",
      "Shift p-vals:  0.9300000071525574\n",
      "Random Run 3 : Sample 50\n",
      "No GPU detected, fall back on CPU.\n",
      "Shift p-vals:  0.38999998569488525\n",
      "Random Run 3 : Sample 100\n",
      "No GPU detected, fall back on CPU.\n",
      "Shift p-vals:  0.7400000095367432\n",
      "Random Run 3 : Sample 200\n",
      "No GPU detected, fall back on CPU.\n",
      "Shift p-vals:  0.4699999988079071\n",
      "Random Run 3 : Sample 500\n",
      "No GPU detected, fall back on CPU.\n",
      "Shift p-vals:  0.18000000715255737\n",
      "Random Run 3 : Sample 1000\n",
      "No GPU detected, fall back on CPU.\n",
      "Shift p-vals:  0.1599999964237213\n",
      "Random Run 3 : Sample 2000\n",
      "No GPU detected, fall back on CPU.\n",
      "Shift p-vals:  0.14000000059604645\n",
      "Random Run 4 : Sample 10\n",
      "No GPU detected, fall back on CPU.\n",
      "Shift p-vals:  0.20999999344348907\n",
      "Random Run 4 : Sample 20\n",
      "No GPU detected, fall back on CPU.\n",
      "Shift p-vals:  0.2800000011920929\n",
      "Random Run 4 : Sample 50\n",
      "No GPU detected, fall back on CPU.\n",
      "Shift p-vals:  0.5799999833106995\n",
      "Random Run 4 : Sample 100\n",
      "No GPU detected, fall back on CPU.\n",
      "Shift p-vals:  0.6299999952316284\n",
      "Random Run 4 : Sample 200\n",
      "No GPU detected, fall back on CPU.\n",
      "Shift p-vals:  0.550000011920929\n",
      "Random Run 4 : Sample 500\n",
      "No GPU detected, fall back on CPU.\n",
      "Shift p-vals:  0.41999998688697815\n",
      "Random Run 4 : Sample 1000\n",
      "No GPU detected, fall back on CPU.\n",
      "Shift p-vals:  0.5899999737739563\n",
      "Random Run 4 : Sample 2000\n",
      "No GPU detected, fall back on CPU.\n",
      "Shift p-vals:  0.7200000286102295\n",
      "pre-covid | SMH | PCA | LK\n",
      "Shift pre-covid\n"
     ]
    },
    {
     "name": "stderr",
     "output_type": "stream",
     "text": [
      "torch.range is deprecated and will be removed in a future release because its behavior is inconsistent with Python's range builtin. Instead, use torch.arange, which produces values in [start, end).\n",
      "No GPU detected, fall back on CPU.\n",
      "No GPU detected, fall back on CPU.\n",
      "No GPU detected, fall back on CPU.\n",
      "No GPU detected, fall back on CPU.\n"
     ]
    },
    {
     "name": "stdout",
     "output_type": "stream",
     "text": [
      "Random Run 0 : Sample 10\n",
      "Shift p-vals:  0.5400000214576721\n",
      "Random Run 0 : Sample 20\n",
      "Shift p-vals:  0.4699999988079071\n",
      "Random Run 0 : Sample 50\n",
      "Shift p-vals:  0.6600000262260437\n",
      "Random Run 0 : Sample 100\n"
     ]
    },
    {
     "name": "stderr",
     "output_type": "stream",
     "text": [
      "No GPU detected, fall back on CPU.\n"
     ]
    },
    {
     "name": "stdout",
     "output_type": "stream",
     "text": [
      "Shift p-vals:  0.3700000047683716\n",
      "Random Run 0 : Sample 200\n"
     ]
    },
    {
     "name": "stderr",
     "output_type": "stream",
     "text": [
      "No GPU detected, fall back on CPU.\n"
     ]
    },
    {
     "name": "stdout",
     "output_type": "stream",
     "text": [
      "Shift p-vals:  0.20000000298023224\n",
      "Random Run 0 : Sample 500\n"
     ]
    },
    {
     "name": "stderr",
     "output_type": "stream",
     "text": [
      "No GPU detected, fall back on CPU.\n"
     ]
    },
    {
     "name": "stdout",
     "output_type": "stream",
     "text": [
      "Shift p-vals:  0.9300000071525574\n",
      "Random Run 0 : Sample 1000\n"
     ]
    },
    {
     "name": "stderr",
     "output_type": "stream",
     "text": [
      "No GPU detected, fall back on CPU.\n"
     ]
    },
    {
     "name": "stdout",
     "output_type": "stream",
     "text": [
      "Shift p-vals:  0.10999999940395355\n",
      "Random Run 0 : Sample 2000\n",
      "Shift p-vals:  0.38999998569488525\n"
     ]
    },
    {
     "name": "stderr",
     "output_type": "stream",
     "text": [
      "No GPU detected, fall back on CPU.\n",
      "No GPU detected, fall back on CPU.\n",
      "No GPU detected, fall back on CPU.\n",
      "No GPU detected, fall back on CPU.\n"
     ]
    },
    {
     "name": "stdout",
     "output_type": "stream",
     "text": [
      "Random Run 1 : Sample 10\n",
      "Shift p-vals:  0.33000001311302185\n",
      "Random Run 1 : Sample 20\n",
      "Shift p-vals:  0.550000011920929\n",
      "Random Run 1 : Sample 50\n",
      "Shift p-vals:  0.28999999165534973\n",
      "Random Run 1 : Sample 100\n"
     ]
    },
    {
     "name": "stderr",
     "output_type": "stream",
     "text": [
      "No GPU detected, fall back on CPU.\n"
     ]
    },
    {
     "name": "stdout",
     "output_type": "stream",
     "text": [
      "Shift p-vals:  0.949999988079071\n",
      "Random Run 1 : Sample 200\n"
     ]
    },
    {
     "name": "stderr",
     "output_type": "stream",
     "text": [
      "No GPU detected, fall back on CPU.\n"
     ]
    },
    {
     "name": "stdout",
     "output_type": "stream",
     "text": [
      "Shift p-vals:  0.36000001430511475\n",
      "Random Run 1 : Sample 500\n"
     ]
    },
    {
     "name": "stderr",
     "output_type": "stream",
     "text": [
      "No GPU detected, fall back on CPU.\n"
     ]
    },
    {
     "name": "stdout",
     "output_type": "stream",
     "text": [
      "Shift p-vals:  0.4000000059604645\n",
      "Random Run 1 : Sample 1000\n"
     ]
    },
    {
     "name": "stderr",
     "output_type": "stream",
     "text": [
      "No GPU detected, fall back on CPU.\n"
     ]
    },
    {
     "name": "stdout",
     "output_type": "stream",
     "text": [
      "Shift p-vals:  0.23999999463558197\n",
      "Random Run 1 : Sample 2000\n",
      "Shift p-vals:  0.009999999776482582\n"
     ]
    },
    {
     "name": "stderr",
     "output_type": "stream",
     "text": [
      "No GPU detected, fall back on CPU.\n",
      "No GPU detected, fall back on CPU.\n",
      "No GPU detected, fall back on CPU.\n",
      "No GPU detected, fall back on CPU.\n"
     ]
    },
    {
     "name": "stdout",
     "output_type": "stream",
     "text": [
      "Random Run 2 : Sample 10\n",
      "Shift p-vals:  0.5400000214576721\n",
      "Random Run 2 : Sample 20\n",
      "Shift p-vals:  0.0\n",
      "Random Run 2 : Sample 50\n",
      "Shift p-vals:  0.019999999552965164\n",
      "Random Run 2 : Sample 100\n"
     ]
    },
    {
     "name": "stderr",
     "output_type": "stream",
     "text": [
      "No GPU detected, fall back on CPU.\n"
     ]
    },
    {
     "name": "stdout",
     "output_type": "stream",
     "text": [
      "Shift p-vals:  0.5600000023841858\n",
      "Random Run 2 : Sample 200\n"
     ]
    },
    {
     "name": "stderr",
     "output_type": "stream",
     "text": [
      "No GPU detected, fall back on CPU.\n"
     ]
    },
    {
     "name": "stdout",
     "output_type": "stream",
     "text": [
      "Shift p-vals:  0.8100000023841858\n",
      "Random Run 2 : Sample 500\n"
     ]
    },
    {
     "name": "stderr",
     "output_type": "stream",
     "text": [
      "No GPU detected, fall back on CPU.\n"
     ]
    },
    {
     "name": "stdout",
     "output_type": "stream",
     "text": [
      "Shift p-vals:  0.6100000143051147\n",
      "Random Run 2 : Sample 1000\n"
     ]
    },
    {
     "name": "stderr",
     "output_type": "stream",
     "text": [
      "No GPU detected, fall back on CPU.\n"
     ]
    },
    {
     "name": "stdout",
     "output_type": "stream",
     "text": [
      "Shift p-vals:  0.7599999904632568\n",
      "Random Run 2 : Sample 2000\n",
      "Shift p-vals:  0.03999999910593033\n"
     ]
    },
    {
     "name": "stderr",
     "output_type": "stream",
     "text": [
      "No GPU detected, fall back on CPU.\n",
      "No GPU detected, fall back on CPU.\n",
      "No GPU detected, fall back on CPU.\n",
      "No GPU detected, fall back on CPU.\n"
     ]
    },
    {
     "name": "stdout",
     "output_type": "stream",
     "text": [
      "Random Run 3 : Sample 10\n",
      "Shift p-vals:  0.33000001311302185\n",
      "Random Run 3 : Sample 20\n",
      "Shift p-vals:  0.9700000286102295\n",
      "Random Run 3 : Sample 50\n",
      "Shift p-vals:  0.6600000262260437\n",
      "Random Run 3 : Sample 100\n"
     ]
    },
    {
     "name": "stderr",
     "output_type": "stream",
     "text": [
      "No GPU detected, fall back on CPU.\n"
     ]
    },
    {
     "name": "stdout",
     "output_type": "stream",
     "text": [
      "Shift p-vals:  0.5699999928474426\n",
      "Random Run 3 : Sample 200\n"
     ]
    },
    {
     "name": "stderr",
     "output_type": "stream",
     "text": [
      "No GPU detected, fall back on CPU.\n"
     ]
    },
    {
     "name": "stdout",
     "output_type": "stream",
     "text": [
      "Shift p-vals:  0.07000000029802322\n",
      "Random Run 3 : Sample 500\n"
     ]
    },
    {
     "name": "stderr",
     "output_type": "stream",
     "text": [
      "No GPU detected, fall back on CPU.\n"
     ]
    },
    {
     "name": "stdout",
     "output_type": "stream",
     "text": [
      "Shift p-vals:  0.009999999776482582\n",
      "Random Run 3 : Sample 1000\n"
     ]
    },
    {
     "name": "stderr",
     "output_type": "stream",
     "text": [
      "No GPU detected, fall back on CPU.\n"
     ]
    },
    {
     "name": "stdout",
     "output_type": "stream",
     "text": [
      "Shift p-vals:  0.3799999952316284\n",
      "Random Run 3 : Sample 2000\n",
      "Shift p-vals:  0.9300000071525574\n"
     ]
    },
    {
     "name": "stderr",
     "output_type": "stream",
     "text": [
      "No GPU detected, fall back on CPU.\n",
      "No GPU detected, fall back on CPU.\n",
      "No GPU detected, fall back on CPU.\n",
      "No GPU detected, fall back on CPU.\n"
     ]
    },
    {
     "name": "stdout",
     "output_type": "stream",
     "text": [
      "Random Run 4 : Sample 10\n",
      "Shift p-vals:  0.14000000059604645\n",
      "Random Run 4 : Sample 20\n",
      "Shift p-vals:  0.9300000071525574\n",
      "Random Run 4 : Sample 50\n",
      "Shift p-vals:  0.05999999865889549\n",
      "Random Run 4 : Sample 100\n"
     ]
    },
    {
     "name": "stderr",
     "output_type": "stream",
     "text": [
      "No GPU detected, fall back on CPU.\n"
     ]
    },
    {
     "name": "stdout",
     "output_type": "stream",
     "text": [
      "Shift p-vals:  0.6499999761581421\n",
      "Random Run 4 : Sample 200\n"
     ]
    },
    {
     "name": "stderr",
     "output_type": "stream",
     "text": [
      "No GPU detected, fall back on CPU.\n"
     ]
    },
    {
     "name": "stdout",
     "output_type": "stream",
     "text": [
      "Shift p-vals:  0.800000011920929\n",
      "Random Run 4 : Sample 500\n"
     ]
    },
    {
     "name": "stderr",
     "output_type": "stream",
     "text": [
      "No GPU detected, fall back on CPU.\n"
     ]
    },
    {
     "name": "stdout",
     "output_type": "stream",
     "text": [
      "Shift p-vals:  0.3199999928474426\n",
      "Random Run 4 : Sample 1000\n"
     ]
    },
    {
     "name": "stderr",
     "output_type": "stream",
     "text": [
      "No GPU detected, fall back on CPU.\n"
     ]
    },
    {
     "name": "stdout",
     "output_type": "stream",
     "text": [
      "Shift p-vals:  0.8500000238418579\n",
      "Random Run 4 : Sample 2000\n",
      "Shift p-vals:  0.9300000071525574\n",
      "pre-covid | SMH | PCA | LSDD\n",
      "Shift pre-covid\n"
     ]
    },
    {
     "name": "stderr",
     "output_type": "stream",
     "text": [
      "torch.range is deprecated and will be removed in a future release because its behavior is inconsistent with Python's range builtin. Instead, use torch.arange, which produces values in [start, end).\n"
     ]
    },
    {
     "name": "stdout",
     "output_type": "stream",
     "text": [
      "Random Run 0 : Sample 10\n",
      "No GPU detected, fall back on CPU.\n",
      "Shift p-vals:  0.10999999940395355\n",
      "Random Run 0 : Sample 20\n",
      "No GPU detected, fall back on CPU.\n",
      "Shift p-vals:  0.8700000047683716\n",
      "Random Run 0 : Sample 50\n",
      "No GPU detected, fall back on CPU.\n",
      "Shift p-vals:  0.7099999785423279\n",
      "Random Run 0 : Sample 100\n",
      "No GPU detected, fall back on CPU.\n",
      "Shift p-vals:  0.3799999952316284\n",
      "Random Run 0 : Sample 200\n",
      "No GPU detected, fall back on CPU.\n",
      "Shift p-vals:  0.8700000047683716\n",
      "Random Run 0 : Sample 500\n",
      "No GPU detected, fall back on CPU.\n",
      "Shift p-vals:  0.8799999952316284\n",
      "Random Run 0 : Sample 1000\n",
      "No GPU detected, fall back on CPU.\n",
      "Shift p-vals:  0.9300000071525574\n",
      "Random Run 0 : Sample 2000\n",
      "No GPU detected, fall back on CPU.\n",
      "Shift p-vals:  0.9900000095367432\n",
      "Random Run 1 : Sample 10\n",
      "No GPU detected, fall back on CPU.\n",
      "Shift p-vals:  0.6299999952316284\n",
      "Random Run 1 : Sample 20\n",
      "No GPU detected, fall back on CPU.\n",
      "Shift p-vals:  0.6499999761581421\n",
      "Random Run 1 : Sample 50\n",
      "No GPU detected, fall back on CPU.\n",
      "Shift p-vals:  0.5600000023841858\n",
      "Random Run 1 : Sample 100\n",
      "No GPU detected, fall back on CPU.\n",
      "Shift p-vals:  0.8100000023841858\n",
      "Random Run 1 : Sample 200\n",
      "No GPU detected, fall back on CPU.\n",
      "Shift p-vals:  0.6100000143051147\n",
      "Random Run 1 : Sample 500\n",
      "No GPU detected, fall back on CPU.\n",
      "Shift p-vals:  0.15000000596046448\n",
      "Random Run 1 : Sample 1000\n",
      "No GPU detected, fall back on CPU.\n",
      "Shift p-vals:  0.36000001430511475\n",
      "Random Run 1 : Sample 2000\n",
      "No GPU detected, fall back on CPU.\n",
      "Shift p-vals:  0.4300000071525574\n",
      "Random Run 2 : Sample 10\n",
      "No GPU detected, fall back on CPU.\n",
      "Shift p-vals:  0.10000000149011612\n",
      "Random Run 2 : Sample 20\n",
      "No GPU detected, fall back on CPU.\n",
      "Shift p-vals:  0.33000001311302185\n",
      "Random Run 2 : Sample 50\n",
      "No GPU detected, fall back on CPU.\n",
      "Shift p-vals:  0.10000000149011612\n",
      "Random Run 2 : Sample 100\n",
      "No GPU detected, fall back on CPU.\n",
      "Shift p-vals:  0.5899999737739563\n",
      "Random Run 2 : Sample 200\n",
      "No GPU detected, fall back on CPU.\n",
      "Shift p-vals:  0.3799999952316284\n",
      "Random Run 2 : Sample 500\n",
      "No GPU detected, fall back on CPU.\n",
      "Shift p-vals:  0.25\n",
      "Random Run 2 : Sample 1000\n",
      "No GPU detected, fall back on CPU.\n",
      "Shift p-vals:  0.800000011920929\n",
      "Random Run 2 : Sample 2000\n",
      "No GPU detected, fall back on CPU.\n",
      "Shift p-vals:  0.5899999737739563\n",
      "Random Run 3 : Sample 10\n",
      "No GPU detected, fall back on CPU.\n",
      "Shift p-vals:  0.20000000298023224\n",
      "Random Run 3 : Sample 20\n",
      "No GPU detected, fall back on CPU.\n",
      "Shift p-vals:  0.800000011920929\n",
      "Random Run 3 : Sample 50\n",
      "No GPU detected, fall back on CPU.\n",
      "Shift p-vals:  0.6899999976158142\n",
      "Random Run 3 : Sample 100\n",
      "No GPU detected, fall back on CPU.\n",
      "Shift p-vals:  0.5600000023841858\n",
      "Random Run 3 : Sample 200\n",
      "No GPU detected, fall back on CPU.\n",
      "Shift p-vals:  0.7599999904632568\n",
      "Random Run 3 : Sample 500\n",
      "No GPU detected, fall back on CPU.\n",
      "Shift p-vals:  0.14000000059604645\n",
      "Random Run 3 : Sample 1000\n",
      "No GPU detected, fall back on CPU.\n",
      "Shift p-vals:  0.17000000178813934\n",
      "Random Run 3 : Sample 2000\n",
      "No GPU detected, fall back on CPU.\n",
      "Shift p-vals:  0.09000000357627869\n",
      "Random Run 4 : Sample 10\n",
      "No GPU detected, fall back on CPU.\n",
      "Shift p-vals:  0.07999999821186066\n",
      "Random Run 4 : Sample 20\n",
      "No GPU detected, fall back on CPU.\n",
      "Shift p-vals:  0.6700000166893005\n",
      "Random Run 4 : Sample 50\n",
      "No GPU detected, fall back on CPU.\n",
      "Shift p-vals:  0.7400000095367432\n",
      "Random Run 4 : Sample 100\n",
      "No GPU detected, fall back on CPU.\n",
      "Shift p-vals:  0.6100000143051147\n",
      "Random Run 4 : Sample 200\n",
      "No GPU detected, fall back on CPU.\n",
      "Shift p-vals:  0.6100000143051147\n",
      "Random Run 4 : Sample 500\n",
      "No GPU detected, fall back on CPU.\n",
      "Shift p-vals:  0.5600000023841858\n",
      "Random Run 4 : Sample 1000\n",
      "No GPU detected, fall back on CPU.\n",
      "Shift p-vals:  0.75\n",
      "Random Run 4 : Sample 2000\n",
      "No GPU detected, fall back on CPU.\n",
      "Shift p-vals:  0.7699999809265137\n",
      "pre-covid | SMH | BBSDs_FFNN | MMD\n",
      "Shift pre-covid\n"
     ]
    },
    {
     "name": "stderr",
     "output_type": "stream",
     "text": [
      "torch.range is deprecated and will be removed in a future release because its behavior is inconsistent with Python's range builtin. Instead, use torch.arange, which produces values in [start, end).\n"
     ]
    },
    {
     "name": "stdout",
     "output_type": "stream",
     "text": [
      "Random Run 0 : Sample 10\n",
      "No GPU detected, fall back on CPU.\n",
      "Shift p-vals:  0.36000001430511475\n",
      "Random Run 0 : Sample 20\n",
      "No GPU detected, fall back on CPU.\n",
      "Shift p-vals:  0.6499999761581421\n",
      "Random Run 0 : Sample 50\n",
      "No GPU detected, fall back on CPU.\n",
      "Shift p-vals:  0.7799999713897705\n",
      "Random Run 0 : Sample 100\n",
      "No GPU detected, fall back on CPU.\n",
      "Shift p-vals:  0.41999998688697815\n",
      "Random Run 0 : Sample 200\n",
      "No GPU detected, fall back on CPU.\n",
      "Shift p-vals:  0.5799999833106995\n",
      "Random Run 0 : Sample 500\n",
      "No GPU detected, fall back on CPU.\n",
      "Shift p-vals:  0.6000000238418579\n",
      "Random Run 0 : Sample 1000\n",
      "No GPU detected, fall back on CPU.\n",
      "Shift p-vals:  0.029999999329447746\n",
      "Random Run 0 : Sample 2000\n",
      "No GPU detected, fall back on CPU.\n",
      "Shift p-vals:  0.3100000023841858\n",
      "Random Run 1 : Sample 10\n",
      "No GPU detected, fall back on CPU.\n",
      "Shift p-vals:  0.75\n",
      "Random Run 1 : Sample 20\n",
      "No GPU detected, fall back on CPU.\n",
      "Shift p-vals:  0.5299999713897705\n",
      "Random Run 1 : Sample 50\n",
      "No GPU detected, fall back on CPU.\n",
      "Shift p-vals:  0.6600000262260437\n",
      "Random Run 1 : Sample 100\n",
      "No GPU detected, fall back on CPU.\n",
      "Shift p-vals:  0.5299999713897705\n",
      "Random Run 1 : Sample 200\n",
      "No GPU detected, fall back on CPU.\n",
      "Shift p-vals:  0.1899999976158142\n",
      "Random Run 1 : Sample 500\n",
      "No GPU detected, fall back on CPU.\n",
      "Shift p-vals:  0.3100000023841858\n",
      "Random Run 1 : Sample 1000\n",
      "No GPU detected, fall back on CPU.\n",
      "Shift p-vals:  0.1899999976158142\n",
      "Random Run 1 : Sample 2000\n",
      "No GPU detected, fall back on CPU.\n",
      "Shift p-vals:  0.4699999988079071\n",
      "Random Run 2 : Sample 10\n",
      "No GPU detected, fall back on CPU.\n",
      "Shift p-vals:  0.9800000190734863\n",
      "Random Run 2 : Sample 20\n",
      "No GPU detected, fall back on CPU.\n",
      "Shift p-vals:  0.33000001311302185\n",
      "Random Run 2 : Sample 50\n",
      "No GPU detected, fall back on CPU.\n",
      "Shift p-vals:  0.1899999976158142\n",
      "Random Run 2 : Sample 100\n",
      "No GPU detected, fall back on CPU.\n",
      "Shift p-vals:  0.1899999976158142\n",
      "Random Run 2 : Sample 200\n",
      "No GPU detected, fall back on CPU.\n",
      "Shift p-vals:  0.14000000059604645\n",
      "Random Run 2 : Sample 500\n",
      "No GPU detected, fall back on CPU.\n",
      "Shift p-vals:  0.3100000023841858\n",
      "Random Run 2 : Sample 1000\n",
      "No GPU detected, fall back on CPU.\n",
      "Shift p-vals:  0.15000000596046448\n",
      "Random Run 2 : Sample 2000\n",
      "No GPU detected, fall back on CPU.\n",
      "Shift p-vals:  1.0\n",
      "Random Run 3 : Sample 10\n",
      "No GPU detected, fall back on CPU.\n",
      "Shift p-vals:  0.5299999713897705\n",
      "Random Run 3 : Sample 20\n",
      "No GPU detected, fall back on CPU.\n",
      "Shift p-vals:  0.5600000023841858\n",
      "Random Run 3 : Sample 50\n",
      "No GPU detected, fall back on CPU.\n",
      "Shift p-vals:  0.5099999904632568\n",
      "Random Run 3 : Sample 100\n",
      "No GPU detected, fall back on CPU.\n",
      "Shift p-vals:  0.7300000190734863\n",
      "Random Run 3 : Sample 200\n",
      "No GPU detected, fall back on CPU.\n",
      "Shift p-vals:  0.3799999952316284\n",
      "Random Run 3 : Sample 500\n",
      "No GPU detected, fall back on CPU.\n",
      "Shift p-vals:  0.25999999046325684\n",
      "Random Run 3 : Sample 1000\n",
      "No GPU detected, fall back on CPU.\n",
      "Shift p-vals:  0.18000000715255737\n",
      "Random Run 3 : Sample 2000\n",
      "No GPU detected, fall back on CPU.\n",
      "Shift p-vals:  0.9399999976158142\n",
      "Random Run 4 : Sample 10\n",
      "No GPU detected, fall back on CPU.\n",
      "Shift p-vals:  0.3799999952316284\n",
      "Random Run 4 : Sample 20\n",
      "No GPU detected, fall back on CPU.\n",
      "Shift p-vals:  0.5199999809265137\n",
      "Random Run 4 : Sample 50\n",
      "No GPU detected, fall back on CPU.\n",
      "Shift p-vals:  0.699999988079071\n",
      "Random Run 4 : Sample 100\n",
      "No GPU detected, fall back on CPU.\n",
      "Shift p-vals:  0.8299999833106995\n",
      "Random Run 4 : Sample 200\n",
      "No GPU detected, fall back on CPU.\n",
      "Shift p-vals:  0.5099999904632568\n",
      "Random Run 4 : Sample 500\n",
      "No GPU detected, fall back on CPU.\n",
      "Shift p-vals:  0.6399999856948853\n",
      "Random Run 4 : Sample 1000\n",
      "No GPU detected, fall back on CPU.\n",
      "Shift p-vals:  0.8500000238418579\n",
      "Random Run 4 : Sample 2000\n",
      "No GPU detected, fall back on CPU.\n",
      "Shift p-vals:  0.7900000214576721\n",
      "pre-covid | SMH | BBSDs_FFNN | LK\n",
      "Shift pre-covid\n"
     ]
    },
    {
     "name": "stderr",
     "output_type": "stream",
     "text": [
      "torch.range is deprecated and will be removed in a future release because its behavior is inconsistent with Python's range builtin. Instead, use torch.arange, which produces values in [start, end).\n",
      "No GPU detected, fall back on CPU.\n",
      "No GPU detected, fall back on CPU.\n",
      "No GPU detected, fall back on CPU.\n",
      "No GPU detected, fall back on CPU.\n"
     ]
    },
    {
     "name": "stdout",
     "output_type": "stream",
     "text": [
      "Random Run 0 : Sample 10\n",
      "Shift p-vals:  0.14000000059604645\n",
      "Random Run 0 : Sample 20\n",
      "Shift p-vals:  0.6499999761581421\n",
      "Random Run 0 : Sample 50\n",
      "Shift p-vals:  0.9100000262260437\n",
      "Random Run 0 : Sample 100\n"
     ]
    },
    {
     "name": "stderr",
     "output_type": "stream",
     "text": [
      "No GPU detected, fall back on CPU.\n"
     ]
    },
    {
     "name": "stdout",
     "output_type": "stream",
     "text": [
      "Shift p-vals:  0.7099999785423279\n",
      "Random Run 0 : Sample 200\n"
     ]
    },
    {
     "name": "stderr",
     "output_type": "stream",
     "text": [
      "No GPU detected, fall back on CPU.\n"
     ]
    },
    {
     "name": "stdout",
     "output_type": "stream",
     "text": [
      "Shift p-vals:  0.0\n",
      "Random Run 0 : Sample 500\n"
     ]
    },
    {
     "name": "stderr",
     "output_type": "stream",
     "text": [
      "No GPU detected, fall back on CPU.\n"
     ]
    },
    {
     "name": "stdout",
     "output_type": "stream",
     "text": [
      "Shift p-vals:  0.07000000029802322\n",
      "Random Run 0 : Sample 1000\n"
     ]
    },
    {
     "name": "stderr",
     "output_type": "stream",
     "text": [
      "No GPU detected, fall back on CPU.\n"
     ]
    },
    {
     "name": "stdout",
     "output_type": "stream",
     "text": [
      "Shift p-vals:  0.029999999329447746\n",
      "Random Run 0 : Sample 2000\n",
      "Shift p-vals:  0.7300000190734863\n"
     ]
    },
    {
     "name": "stderr",
     "output_type": "stream",
     "text": [
      "No GPU detected, fall back on CPU.\n",
      "No GPU detected, fall back on CPU.\n",
      "No GPU detected, fall back on CPU.\n",
      "No GPU detected, fall back on CPU.\n"
     ]
    },
    {
     "name": "stdout",
     "output_type": "stream",
     "text": [
      "Random Run 1 : Sample 10\n",
      "Shift p-vals:  0.8999999761581421\n",
      "Random Run 1 : Sample 20\n",
      "Shift p-vals:  0.23999999463558197\n",
      "Random Run 1 : Sample 50\n",
      "Shift p-vals:  0.6200000047683716\n",
      "Random Run 1 : Sample 100\n"
     ]
    },
    {
     "name": "stderr",
     "output_type": "stream",
     "text": [
      "No GPU detected, fall back on CPU.\n"
     ]
    },
    {
     "name": "stdout",
     "output_type": "stream",
     "text": [
      "Shift p-vals:  0.9900000095367432\n",
      "Random Run 1 : Sample 200\n"
     ]
    },
    {
     "name": "stderr",
     "output_type": "stream",
     "text": [
      "No GPU detected, fall back on CPU.\n"
     ]
    },
    {
     "name": "stdout",
     "output_type": "stream",
     "text": [
      "Shift p-vals:  0.3400000035762787\n",
      "Random Run 1 : Sample 500\n"
     ]
    },
    {
     "name": "stderr",
     "output_type": "stream",
     "text": [
      "No GPU detected, fall back on CPU.\n"
     ]
    },
    {
     "name": "stdout",
     "output_type": "stream",
     "text": [
      "Shift p-vals:  0.30000001192092896\n",
      "Random Run 1 : Sample 1000\n"
     ]
    },
    {
     "name": "stderr",
     "output_type": "stream",
     "text": [
      "No GPU detected, fall back on CPU.\n"
     ]
    },
    {
     "name": "stdout",
     "output_type": "stream",
     "text": [
      "Shift p-vals:  0.38999998569488525\n",
      "Random Run 1 : Sample 2000\n",
      "Shift p-vals:  0.5600000023841858\n"
     ]
    },
    {
     "name": "stderr",
     "output_type": "stream",
     "text": [
      "No GPU detected, fall back on CPU.\n",
      "No GPU detected, fall back on CPU.\n",
      "No GPU detected, fall back on CPU.\n",
      "No GPU detected, fall back on CPU.\n"
     ]
    },
    {
     "name": "stdout",
     "output_type": "stream",
     "text": [
      "Random Run 2 : Sample 10\n",
      "Shift p-vals:  0.75\n",
      "Random Run 2 : Sample 20\n",
      "Shift p-vals:  0.4099999964237213\n",
      "Random Run 2 : Sample 50\n",
      "Shift p-vals:  0.029999999329447746\n",
      "Random Run 2 : Sample 100\n"
     ]
    },
    {
     "name": "stderr",
     "output_type": "stream",
     "text": [
      "No GPU detected, fall back on CPU.\n"
     ]
    },
    {
     "name": "stdout",
     "output_type": "stream",
     "text": [
      "Shift p-vals:  0.49000000953674316\n",
      "Random Run 2 : Sample 200\n"
     ]
    },
    {
     "name": "stderr",
     "output_type": "stream",
     "text": [
      "No GPU detected, fall back on CPU.\n"
     ]
    },
    {
     "name": "stdout",
     "output_type": "stream",
     "text": [
      "Shift p-vals:  0.6299999952316284\n",
      "Random Run 2 : Sample 500\n"
     ]
    },
    {
     "name": "stderr",
     "output_type": "stream",
     "text": [
      "No GPU detected, fall back on CPU.\n"
     ]
    },
    {
     "name": "stdout",
     "output_type": "stream",
     "text": [
      "Shift p-vals:  0.25\n",
      "Random Run 2 : Sample 1000\n"
     ]
    },
    {
     "name": "stderr",
     "output_type": "stream",
     "text": [
      "No GPU detected, fall back on CPU.\n"
     ]
    },
    {
     "name": "stdout",
     "output_type": "stream",
     "text": [
      "Shift p-vals:  0.2800000011920929\n",
      "Random Run 2 : Sample 2000\n",
      "Shift p-vals:  0.9700000286102295\n"
     ]
    },
    {
     "name": "stderr",
     "output_type": "stream",
     "text": [
      "No GPU detected, fall back on CPU.\n",
      "No GPU detected, fall back on CPU.\n",
      "No GPU detected, fall back on CPU.\n",
      "No GPU detected, fall back on CPU.\n"
     ]
    },
    {
     "name": "stdout",
     "output_type": "stream",
     "text": [
      "Random Run 3 : Sample 10\n",
      "Shift p-vals:  0.5600000023841858\n",
      "Random Run 3 : Sample 20\n",
      "Shift p-vals:  0.38999998569488525\n",
      "Random Run 3 : Sample 50\n",
      "Shift p-vals:  0.7900000214576721\n",
      "Random Run 3 : Sample 100\n"
     ]
    },
    {
     "name": "stderr",
     "output_type": "stream",
     "text": [
      "No GPU detected, fall back on CPU.\n"
     ]
    },
    {
     "name": "stdout",
     "output_type": "stream",
     "text": [
      "Shift p-vals:  0.9100000262260437\n",
      "Random Run 3 : Sample 200\n"
     ]
    },
    {
     "name": "stderr",
     "output_type": "stream",
     "text": [
      "No GPU detected, fall back on CPU.\n"
     ]
    },
    {
     "name": "stdout",
     "output_type": "stream",
     "text": [
      "Shift p-vals:  0.17000000178813934\n",
      "Random Run 3 : Sample 500\n"
     ]
    },
    {
     "name": "stderr",
     "output_type": "stream",
     "text": [
      "No GPU detected, fall back on CPU.\n"
     ]
    },
    {
     "name": "stdout",
     "output_type": "stream",
     "text": [
      "Shift p-vals:  0.3199999928474426\n",
      "Random Run 3 : Sample 1000\n"
     ]
    },
    {
     "name": "stderr",
     "output_type": "stream",
     "text": [
      "No GPU detected, fall back on CPU.\n"
     ]
    },
    {
     "name": "stdout",
     "output_type": "stream",
     "text": [
      "Shift p-vals:  0.10000000149011612\n",
      "Random Run 3 : Sample 2000\n",
      "Shift p-vals:  0.12999999523162842\n"
     ]
    },
    {
     "name": "stderr",
     "output_type": "stream",
     "text": [
      "No GPU detected, fall back on CPU.\n",
      "No GPU detected, fall back on CPU.\n",
      "No GPU detected, fall back on CPU.\n",
      "No GPU detected, fall back on CPU.\n"
     ]
    },
    {
     "name": "stdout",
     "output_type": "stream",
     "text": [
      "Random Run 4 : Sample 10\n",
      "Shift p-vals:  0.05000000074505806\n",
      "Random Run 4 : Sample 20\n",
      "Shift p-vals:  0.5299999713897705\n",
      "Random Run 4 : Sample 50\n",
      "Shift p-vals:  0.30000001192092896\n",
      "Random Run 4 : Sample 100\n"
     ]
    },
    {
     "name": "stderr",
     "output_type": "stream",
     "text": [
      "No GPU detected, fall back on CPU.\n"
     ]
    },
    {
     "name": "stdout",
     "output_type": "stream",
     "text": [
      "Shift p-vals:  0.20999999344348907\n",
      "Random Run 4 : Sample 200\n"
     ]
    },
    {
     "name": "stderr",
     "output_type": "stream",
     "text": [
      "No GPU detected, fall back on CPU.\n"
     ]
    },
    {
     "name": "stdout",
     "output_type": "stream",
     "text": [
      "Shift p-vals:  0.8600000143051147\n",
      "Random Run 4 : Sample 500\n"
     ]
    },
    {
     "name": "stderr",
     "output_type": "stream",
     "text": [
      "No GPU detected, fall back on CPU.\n"
     ]
    },
    {
     "name": "stdout",
     "output_type": "stream",
     "text": [
      "Shift p-vals:  0.1599999964237213\n",
      "Random Run 4 : Sample 1000\n"
     ]
    },
    {
     "name": "stderr",
     "output_type": "stream",
     "text": [
      "No GPU detected, fall back on CPU.\n"
     ]
    },
    {
     "name": "stdout",
     "output_type": "stream",
     "text": [
      "Shift p-vals:  0.9100000262260437\n",
      "Random Run 4 : Sample 2000\n",
      "Shift p-vals:  0.9700000286102295\n",
      "pre-covid | SMH | BBSDs_FFNN | LSDD\n",
      "Shift pre-covid\n"
     ]
    },
    {
     "name": "stderr",
     "output_type": "stream",
     "text": [
      "torch.range is deprecated and will be removed in a future release because its behavior is inconsistent with Python's range builtin. Instead, use torch.arange, which produces values in [start, end).\n"
     ]
    },
    {
     "name": "stdout",
     "output_type": "stream",
     "text": [
      "Random Run 0 : Sample 10\n",
      "No GPU detected, fall back on CPU.\n",
      "Shift p-vals:  0.019999999552965164\n",
      "Random Run 0 : Sample 20\n",
      "No GPU detected, fall back on CPU.\n",
      "Shift p-vals:  0.18000000715255737\n",
      "Random Run 0 : Sample 50\n",
      "No GPU detected, fall back on CPU.\n",
      "Shift p-vals:  0.6600000262260437\n",
      "Random Run 0 : Sample 100\n",
      "No GPU detected, fall back on CPU.\n",
      "Shift p-vals:  0.800000011920929\n",
      "Random Run 0 : Sample 200\n",
      "No GPU detected, fall back on CPU.\n",
      "Shift p-vals:  0.25999999046325684\n",
      "Random Run 0 : Sample 500\n",
      "No GPU detected, fall back on CPU.\n",
      "Shift p-vals:  0.9100000262260437\n",
      "Random Run 0 : Sample 1000\n",
      "No GPU detected, fall back on CPU.\n",
      "Shift p-vals:  0.28999999165534973\n",
      "Random Run 0 : Sample 2000\n",
      "No GPU detected, fall back on CPU.\n",
      "Shift p-vals:  0.7099999785423279\n",
      "Random Run 1 : Sample 10\n",
      "No GPU detected, fall back on CPU.\n",
      "Shift p-vals:  0.2199999988079071\n",
      "Random Run 1 : Sample 20\n",
      "No GPU detected, fall back on CPU.\n",
      "Shift p-vals:  0.5899999737739563\n",
      "Random Run 1 : Sample 50\n",
      "No GPU detected, fall back on CPU.\n",
      "Shift p-vals:  0.8199999928474426\n",
      "Random Run 1 : Sample 100\n",
      "No GPU detected, fall back on CPU.\n",
      "Shift p-vals:  0.5600000023841858\n",
      "Random Run 1 : Sample 200\n",
      "No GPU detected, fall back on CPU.\n",
      "Shift p-vals:  0.3700000047683716\n",
      "Random Run 1 : Sample 500\n",
      "No GPU detected, fall back on CPU.\n",
      "Shift p-vals:  0.2800000011920929\n",
      "Random Run 1 : Sample 1000\n",
      "No GPU detected, fall back on CPU.\n",
      "Shift p-vals:  0.17000000178813934\n",
      "Random Run 1 : Sample 2000\n",
      "No GPU detected, fall back on CPU.\n",
      "Shift p-vals:  0.9300000071525574\n",
      "Random Run 2 : Sample 10\n",
      "No GPU detected, fall back on CPU.\n",
      "Shift p-vals:  0.6399999856948853\n",
      "Random Run 2 : Sample 20\n",
      "No GPU detected, fall back on CPU.\n",
      "Shift p-vals:  0.9399999976158142\n",
      "Random Run 2 : Sample 50\n",
      "No GPU detected, fall back on CPU.\n",
      "Shift p-vals:  0.949999988079071\n",
      "Random Run 2 : Sample 100\n",
      "No GPU detected, fall back on CPU.\n",
      "Shift p-vals:  0.4699999988079071\n",
      "Random Run 2 : Sample 200\n",
      "No GPU detected, fall back on CPU.\n",
      "Shift p-vals:  0.07999999821186066\n",
      "Random Run 2 : Sample 500\n",
      "No GPU detected, fall back on CPU.\n",
      "Shift p-vals:  0.9399999976158142\n",
      "Random Run 2 : Sample 1000\n",
      "No GPU detected, fall back on CPU.\n",
      "Shift p-vals:  0.7799999713897705\n",
      "Random Run 2 : Sample 2000\n",
      "No GPU detected, fall back on CPU.\n",
      "Shift p-vals:  0.11999999731779099\n",
      "Random Run 3 : Sample 10\n",
      "No GPU detected, fall back on CPU.\n",
      "Shift p-vals:  0.33000001311302185\n",
      "Random Run 3 : Sample 20\n",
      "No GPU detected, fall back on CPU.\n",
      "Shift p-vals:  0.6800000071525574\n",
      "Random Run 3 : Sample 50\n",
      "No GPU detected, fall back on CPU.\n",
      "Shift p-vals:  0.6100000143051147\n",
      "Random Run 3 : Sample 100\n",
      "No GPU detected, fall back on CPU.\n",
      "Shift p-vals:  0.10999999940395355\n",
      "Random Run 3 : Sample 200\n",
      "No GPU detected, fall back on CPU.\n",
      "Shift p-vals:  0.46000000834465027\n",
      "Random Run 3 : Sample 500\n",
      "No GPU detected, fall back on CPU.\n",
      "Shift p-vals:  0.3199999928474426\n",
      "Random Run 3 : Sample 1000\n",
      "No GPU detected, fall back on CPU.\n",
      "Shift p-vals:  0.7099999785423279\n",
      "Random Run 3 : Sample 2000\n",
      "No GPU detected, fall back on CPU.\n",
      "Shift p-vals:  0.30000001192092896\n",
      "Random Run 4 : Sample 10\n",
      "No GPU detected, fall back on CPU.\n",
      "Shift p-vals:  0.25\n",
      "Random Run 4 : Sample 20\n",
      "No GPU detected, fall back on CPU.\n",
      "Shift p-vals:  0.8399999737739563\n",
      "Random Run 4 : Sample 50\n",
      "No GPU detected, fall back on CPU.\n",
      "Shift p-vals:  0.6499999761581421\n",
      "Random Run 4 : Sample 100\n",
      "No GPU detected, fall back on CPU.\n",
      "Shift p-vals:  0.17000000178813934\n",
      "Random Run 4 : Sample 200\n",
      "No GPU detected, fall back on CPU.\n",
      "Shift p-vals:  0.07999999821186066\n",
      "Random Run 4 : Sample 500\n",
      "No GPU detected, fall back on CPU.\n",
      "Shift p-vals:  0.3400000035762787\n",
      "Random Run 4 : Sample 1000\n",
      "No GPU detected, fall back on CPU.\n",
      "Shift p-vals:  0.5600000023841858\n",
      "Random Run 4 : Sample 2000\n",
      "No GPU detected, fall back on CPU.\n",
      "Shift p-vals:  0.4000000059604645\n",
      "pre-covid | MSH | NoRed | MMD\n",
      "Shift pre-covid\n"
     ]
    },
    {
     "name": "stderr",
     "output_type": "stream",
     "text": [
      "torch.range is deprecated and will be removed in a future release because its behavior is inconsistent with Python's range builtin. Instead, use torch.arange, which produces values in [start, end).\n"
     ]
    },
    {
     "name": "stdout",
     "output_type": "stream",
     "text": [
      "Random Run 0 : Sample 10\n",
      "No GPU detected, fall back on CPU.\n",
      "Shift p-vals:  0.07999999821186066\n",
      "Random Run 0 : Sample 20\n",
      "No GPU detected, fall back on CPU.\n",
      "Shift p-vals:  0.9100000262260437\n",
      "Random Run 0 : Sample 50\n",
      "No GPU detected, fall back on CPU.\n",
      "Shift p-vals:  0.3799999952316284\n",
      "Random Run 0 : Sample 100\n",
      "No GPU detected, fall back on CPU.\n",
      "Shift p-vals:  0.09000000357627869\n",
      "Random Run 0 : Sample 200\n",
      "No GPU detected, fall back on CPU.\n",
      "Shift p-vals:  0.07999999821186066\n",
      "Random Run 0 : Sample 500\n",
      "No GPU detected, fall back on CPU.\n",
      "Shift p-vals:  0.05999999865889549\n",
      "Random Run 0 : Sample 1000\n",
      "No GPU detected, fall back on CPU.\n",
      "Shift p-vals:  0.029999999329447746\n",
      "Random Run 0 : Sample 2000\n",
      "No GPU detected, fall back on CPU.\n",
      "Shift p-vals:  0.029999999329447746\n",
      "Random Run 1 : Sample 10\n",
      "No GPU detected, fall back on CPU.\n",
      "Shift p-vals:  0.7099999785423279\n",
      "Random Run 1 : Sample 20\n",
      "No GPU detected, fall back on CPU.\n",
      "Shift p-vals:  0.7099999785423279\n",
      "Random Run 1 : Sample 50\n",
      "No GPU detected, fall back on CPU.\n",
      "Shift p-vals:  0.8999999761581421\n",
      "Random Run 1 : Sample 100\n",
      "No GPU detected, fall back on CPU.\n",
      "Shift p-vals:  0.6399999856948853\n",
      "Random Run 1 : Sample 200\n",
      "No GPU detected, fall back on CPU.\n",
      "Shift p-vals:  0.46000000834465027\n",
      "Random Run 1 : Sample 500\n",
      "No GPU detected, fall back on CPU.\n",
      "Shift p-vals:  0.5600000023841858\n",
      "Random Run 1 : Sample 1000\n",
      "No GPU detected, fall back on CPU.\n",
      "Shift p-vals:  0.5799999833106995\n",
      "Random Run 1 : Sample 2000\n",
      "No GPU detected, fall back on CPU.\n",
      "Shift p-vals:  0.47999998927116394\n",
      "Random Run 2 : Sample 10\n",
      "No GPU detected, fall back on CPU.\n",
      "Shift p-vals:  0.23999999463558197\n",
      "Random Run 2 : Sample 20\n",
      "No GPU detected, fall back on CPU.\n",
      "Shift p-vals:  0.4000000059604645\n",
      "Random Run 2 : Sample 50\n",
      "No GPU detected, fall back on CPU.\n",
      "Shift p-vals:  0.28999999165534973\n",
      "Random Run 2 : Sample 100\n",
      "No GPU detected, fall back on CPU.\n",
      "Shift p-vals:  0.47999998927116394\n",
      "Random Run 2 : Sample 200\n",
      "No GPU detected, fall back on CPU.\n",
      "Shift p-vals:  0.20000000298023224\n",
      "Random Run 2 : Sample 500\n",
      "No GPU detected, fall back on CPU.\n",
      "Shift p-vals:  0.3700000047683716\n",
      "Random Run 2 : Sample 1000\n",
      "No GPU detected, fall back on CPU.\n",
      "Shift p-vals:  0.2800000011920929\n",
      "Random Run 2 : Sample 2000\n",
      "No GPU detected, fall back on CPU.\n",
      "Shift p-vals:  0.28999999165534973\n",
      "Random Run 3 : Sample 10\n",
      "No GPU detected, fall back on CPU.\n",
      "Shift p-vals:  0.6899999976158142\n",
      "Random Run 3 : Sample 20\n",
      "No GPU detected, fall back on CPU.\n",
      "Shift p-vals:  0.8299999833106995\n",
      "Random Run 3 : Sample 50\n",
      "No GPU detected, fall back on CPU.\n",
      "Shift p-vals:  0.49000000953674316\n",
      "Random Run 3 : Sample 100\n",
      "No GPU detected, fall back on CPU.\n",
      "Shift p-vals:  0.3199999928474426\n",
      "Random Run 3 : Sample 200\n",
      "No GPU detected, fall back on CPU.\n",
      "Shift p-vals:  0.30000001192092896\n",
      "Random Run 3 : Sample 500\n",
      "No GPU detected, fall back on CPU.\n",
      "Shift p-vals:  0.4000000059604645\n",
      "Random Run 3 : Sample 1000\n",
      "No GPU detected, fall back on CPU.\n",
      "Shift p-vals:  0.3400000035762787\n",
      "Random Run 3 : Sample 2000\n",
      "No GPU detected, fall back on CPU.\n",
      "Shift p-vals:  0.3499999940395355\n",
      "Random Run 4 : Sample 10\n",
      "No GPU detected, fall back on CPU.\n",
      "Shift p-vals:  0.7900000214576721\n",
      "Random Run 4 : Sample 20\n",
      "No GPU detected, fall back on CPU.\n",
      "Shift p-vals:  0.6399999856948853\n",
      "Random Run 4 : Sample 50\n",
      "No GPU detected, fall back on CPU.\n",
      "Shift p-vals:  0.4300000071525574\n",
      "Random Run 4 : Sample 100\n",
      "No GPU detected, fall back on CPU.\n",
      "Shift p-vals:  0.3199999928474426\n",
      "Random Run 4 : Sample 200\n",
      "No GPU detected, fall back on CPU.\n",
      "Shift p-vals:  0.14000000059604645\n",
      "Random Run 4 : Sample 500\n",
      "No GPU detected, fall back on CPU.\n",
      "Shift p-vals:  0.25\n",
      "Random Run 4 : Sample 1000\n",
      "No GPU detected, fall back on CPU.\n",
      "Shift p-vals:  0.15000000596046448\n",
      "Random Run 4 : Sample 2000\n",
      "No GPU detected, fall back on CPU.\n",
      "Shift p-vals:  0.23999999463558197\n",
      "pre-covid | MSH | NoRed | LK\n",
      "Shift pre-covid\n"
     ]
    },
    {
     "name": "stderr",
     "output_type": "stream",
     "text": [
      "torch.range is deprecated and will be removed in a future release because its behavior is inconsistent with Python's range builtin. Instead, use torch.arange, which produces values in [start, end).\n",
      "No GPU detected, fall back on CPU.\n",
      "No GPU detected, fall back on CPU.\n",
      "No GPU detected, fall back on CPU.\n",
      "No GPU detected, fall back on CPU.\n"
     ]
    },
    {
     "name": "stdout",
     "output_type": "stream",
     "text": [
      "Random Run 0 : Sample 10\n",
      "Shift p-vals:  0.30000001192092896\n",
      "Random Run 0 : Sample 20\n",
      "Shift p-vals:  0.05999999865889549\n",
      "Random Run 0 : Sample 50\n",
      "Shift p-vals:  0.41999998688697815\n",
      "Random Run 0 : Sample 100\n"
     ]
    },
    {
     "name": "stderr",
     "output_type": "stream",
     "text": [
      "No GPU detected, fall back on CPU.\n",
      "No GPU detected, fall back on CPU.\n"
     ]
    },
    {
     "name": "stdout",
     "output_type": "stream",
     "text": [
      "Shift p-vals:  0.800000011920929\n",
      "Random Run 0 : Sample 200\n",
      "Shift p-vals:  1.0\n",
      "Random Run 0 : Sample 500\n"
     ]
    },
    {
     "name": "stderr",
     "output_type": "stream",
     "text": [
      "No GPU detected, fall back on CPU.\n"
     ]
    },
    {
     "name": "stdout",
     "output_type": "stream",
     "text": [
      "Shift p-vals:  0.9599999785423279\n",
      "Random Run 0 : Sample 1000\n"
     ]
    },
    {
     "name": "stderr",
     "output_type": "stream",
     "text": [
      "No GPU detected, fall back on CPU.\n"
     ]
    },
    {
     "name": "stdout",
     "output_type": "stream",
     "text": [
      "Shift p-vals:  0.46000000834465027\n",
      "Random Run 0 : Sample 2000\n",
      "Shift p-vals:  0.7900000214576721\n"
     ]
    },
    {
     "name": "stderr",
     "output_type": "stream",
     "text": [
      "No GPU detected, fall back on CPU.\n",
      "No GPU detected, fall back on CPU.\n",
      "No GPU detected, fall back on CPU.\n",
      "No GPU detected, fall back on CPU.\n"
     ]
    },
    {
     "name": "stdout",
     "output_type": "stream",
     "text": [
      "Random Run 1 : Sample 10\n",
      "Shift p-vals:  0.25999999046325684\n",
      "Random Run 1 : Sample 20\n",
      "Shift p-vals:  0.6600000262260437\n",
      "Random Run 1 : Sample 50\n",
      "Shift p-vals:  0.1899999976158142\n",
      "Random Run 1 : Sample 100\n"
     ]
    },
    {
     "name": "stderr",
     "output_type": "stream",
     "text": [
      "No GPU detected, fall back on CPU.\n"
     ]
    },
    {
     "name": "stdout",
     "output_type": "stream",
     "text": [
      "Shift p-vals:  0.5\n",
      "Random Run 1 : Sample 200\n",
      "Shift p-vals:  0.6899999976158142\n",
      "Random Run 1 : Sample 500\n"
     ]
    },
    {
     "name": "stderr",
     "output_type": "stream",
     "text": [
      "No GPU detected, fall back on CPU.\n",
      "No GPU detected, fall back on CPU.\n"
     ]
    },
    {
     "name": "stdout",
     "output_type": "stream",
     "text": [
      "Shift p-vals:  0.5600000023841858\n",
      "Random Run 1 : Sample 1000\n",
      "Shift p-vals:  0.8299999833106995\n",
      "Random Run 1 : Sample 2000\n"
     ]
    },
    {
     "name": "stderr",
     "output_type": "stream",
     "text": [
      "No GPU detected, fall back on CPU.\n"
     ]
    },
    {
     "name": "stdout",
     "output_type": "stream",
     "text": [
      "Shift p-vals:  0.05000000074505806\n"
     ]
    },
    {
     "name": "stderr",
     "output_type": "stream",
     "text": [
      "No GPU detected, fall back on CPU.\n",
      "No GPU detected, fall back on CPU.\n",
      "No GPU detected, fall back on CPU.\n",
      "No GPU detected, fall back on CPU.\n"
     ]
    },
    {
     "name": "stdout",
     "output_type": "stream",
     "text": [
      "Random Run 2 : Sample 10\n",
      "Shift p-vals:  0.5299999713897705\n",
      "Random Run 2 : Sample 20\n",
      "Shift p-vals:  0.20000000298023224\n",
      "Random Run 2 : Sample 50\n",
      "Shift p-vals:  0.2800000011920929\n",
      "Random Run 2 : Sample 100\n"
     ]
    },
    {
     "name": "stderr",
     "output_type": "stream",
     "text": [
      "No GPU detected, fall back on CPU.\n",
      "No GPU detected, fall back on CPU.\n"
     ]
    },
    {
     "name": "stdout",
     "output_type": "stream",
     "text": [
      "Shift p-vals:  0.4099999964237213\n",
      "Random Run 2 : Sample 200\n",
      "Shift p-vals:  0.23999999463558197\n",
      "Random Run 2 : Sample 500\n"
     ]
    },
    {
     "name": "stderr",
     "output_type": "stream",
     "text": [
      "No GPU detected, fall back on CPU.\n"
     ]
    },
    {
     "name": "stdout",
     "output_type": "stream",
     "text": [
      "Shift p-vals:  0.8399999737739563\n",
      "Random Run 2 : Sample 1000\n",
      "Shift p-vals:  0.25999999046325684\n",
      "Random Run 2 : Sample 2000\n"
     ]
    },
    {
     "name": "stderr",
     "output_type": "stream",
     "text": [
      "No GPU detected, fall back on CPU.\n"
     ]
    },
    {
     "name": "stdout",
     "output_type": "stream",
     "text": [
      "Shift p-vals:  0.5699999928474426\n"
     ]
    },
    {
     "name": "stderr",
     "output_type": "stream",
     "text": [
      "No GPU detected, fall back on CPU.\n",
      "No GPU detected, fall back on CPU.\n",
      "No GPU detected, fall back on CPU.\n",
      "No GPU detected, fall back on CPU.\n"
     ]
    },
    {
     "name": "stdout",
     "output_type": "stream",
     "text": [
      "Random Run 3 : Sample 10\n",
      "Shift p-vals:  0.8999999761581421\n",
      "Random Run 3 : Sample 20\n",
      "Shift p-vals:  0.4099999964237213\n",
      "Random Run 3 : Sample 50\n",
      "Shift p-vals:  0.07999999821186066\n",
      "Random Run 3 : Sample 100\n"
     ]
    },
    {
     "name": "stderr",
     "output_type": "stream",
     "text": [
      "No GPU detected, fall back on CPU.\n",
      "No GPU detected, fall back on CPU.\n"
     ]
    },
    {
     "name": "stdout",
     "output_type": "stream",
     "text": [
      "Shift p-vals:  0.12999999523162842\n",
      "Random Run 3 : Sample 200\n",
      "Shift p-vals:  0.4300000071525574\n",
      "Random Run 3 : Sample 500\n"
     ]
    },
    {
     "name": "stderr",
     "output_type": "stream",
     "text": [
      "No GPU detected, fall back on CPU.\n"
     ]
    },
    {
     "name": "stdout",
     "output_type": "stream",
     "text": [
      "Shift p-vals:  0.23999999463558197\n",
      "Random Run 3 : Sample 1000\n"
     ]
    },
    {
     "name": "stderr",
     "output_type": "stream",
     "text": [
      "No GPU detected, fall back on CPU.\n"
     ]
    },
    {
     "name": "stdout",
     "output_type": "stream",
     "text": [
      "Shift p-vals:  0.20000000298023224\n",
      "Random Run 3 : Sample 2000\n",
      "Shift p-vals:  0.3799999952316284\n"
     ]
    },
    {
     "name": "stderr",
     "output_type": "stream",
     "text": [
      "No GPU detected, fall back on CPU.\n",
      "No GPU detected, fall back on CPU.\n",
      "No GPU detected, fall back on CPU.\n",
      "No GPU detected, fall back on CPU.\n"
     ]
    },
    {
     "name": "stdout",
     "output_type": "stream",
     "text": [
      "Random Run 4 : Sample 10\n",
      "Shift p-vals:  0.800000011920929\n",
      "Random Run 4 : Sample 20\n",
      "Shift p-vals:  0.07000000029802322\n",
      "Random Run 4 : Sample 50\n",
      "Shift p-vals:  0.9399999976158142\n",
      "Random Run 4 : Sample 100\n"
     ]
    },
    {
     "name": "stderr",
     "output_type": "stream",
     "text": [
      "No GPU detected, fall back on CPU.\n"
     ]
    },
    {
     "name": "stdout",
     "output_type": "stream",
     "text": [
      "Shift p-vals:  0.6000000238418579\n",
      "Random Run 4 : Sample 200\n"
     ]
    },
    {
     "name": "stderr",
     "output_type": "stream",
     "text": [
      "No GPU detected, fall back on CPU.\n"
     ]
    },
    {
     "name": "stdout",
     "output_type": "stream",
     "text": [
      "Shift p-vals:  0.75\n",
      "Random Run 4 : Sample 500\n"
     ]
    },
    {
     "name": "stderr",
     "output_type": "stream",
     "text": [
      "No GPU detected, fall back on CPU.\n"
     ]
    },
    {
     "name": "stdout",
     "output_type": "stream",
     "text": [
      "Shift p-vals:  0.6200000047683716\n",
      "Random Run 4 : Sample 1000\n"
     ]
    },
    {
     "name": "stderr",
     "output_type": "stream",
     "text": [
      "No GPU detected, fall back on CPU.\n"
     ]
    },
    {
     "name": "stdout",
     "output_type": "stream",
     "text": [
      "Shift p-vals:  0.5\n",
      "Random Run 4 : Sample 2000\n",
      "Shift p-vals:  0.550000011920929\n",
      "pre-covid | MSH | NoRed | LSDD\n",
      "Shift pre-covid\n"
     ]
    },
    {
     "name": "stderr",
     "output_type": "stream",
     "text": [
      "torch.range is deprecated and will be removed in a future release because its behavior is inconsistent with Python's range builtin. Instead, use torch.arange, which produces values in [start, end).\n"
     ]
    },
    {
     "name": "stdout",
     "output_type": "stream",
     "text": [
      "Random Run 0 : Sample 10\n",
      "No GPU detected, fall back on CPU.\n",
      "Shift p-vals:  0.0\n",
      "Random Run 0 : Sample 20\n",
      "No GPU detected, fall back on CPU.\n",
      "Shift p-vals:  0.0\n",
      "Random Run 0 : Sample 50\n",
      "No GPU detected, fall back on CPU.\n",
      "Shift p-vals:  0.0\n",
      "Random Run 0 : Sample 100\n",
      "No GPU detected, fall back on CPU.\n",
      "Shift p-vals:  0.0\n",
      "Random Run 0 : Sample 200\n",
      "No GPU detected, fall back on CPU.\n",
      "Shift p-vals:  0.0\n",
      "Random Run 0 : Sample 500\n",
      "No GPU detected, fall back on CPU.\n",
      "Shift p-vals:  0.0\n",
      "Random Run 0 : Sample 1000\n",
      "No GPU detected, fall back on CPU.\n",
      "Shift p-vals:  0.0\n",
      "Random Run 0 : Sample 2000\n",
      "No GPU detected, fall back on CPU.\n",
      "Shift p-vals:  0.0\n",
      "Random Run 1 : Sample 10\n",
      "No GPU detected, fall back on CPU.\n",
      "Shift p-vals:  0.019999999552965164\n",
      "Random Run 1 : Sample 20\n",
      "No GPU detected, fall back on CPU.\n",
      "Shift p-vals:  0.0\n",
      "Random Run 1 : Sample 50\n",
      "No GPU detected, fall back on CPU.\n",
      "Shift p-vals:  0.05000000074505806\n",
      "Random Run 1 : Sample 100\n",
      "No GPU detected, fall back on CPU.\n",
      "Shift p-vals:  0.7599999904632568\n",
      "Random Run 1 : Sample 200\n",
      "No GPU detected, fall back on CPU.\n",
      "Shift p-vals:  0.33000001311302185\n",
      "Random Run 1 : Sample 500\n",
      "No GPU detected, fall back on CPU.\n",
      "Shift p-vals:  0.4300000071525574\n",
      "Random Run 1 : Sample 1000\n",
      "No GPU detected, fall back on CPU.\n",
      "Shift p-vals:  0.7200000286102295\n",
      "Random Run 1 : Sample 2000\n",
      "No GPU detected, fall back on CPU.\n",
      "Shift p-vals:  0.8100000023841858\n",
      "Random Run 2 : Sample 10\n",
      "No GPU detected, fall back on CPU.\n",
      "Shift p-vals:  0.0\n",
      "Random Run 2 : Sample 20\n",
      "No GPU detected, fall back on CPU.\n",
      "Shift p-vals:  0.0\n",
      "Random Run 2 : Sample 50\n",
      "No GPU detected, fall back on CPU.\n",
      "Shift p-vals:  0.4699999988079071\n",
      "Random Run 2 : Sample 100\n",
      "No GPU detected, fall back on CPU.\n",
      "Shift p-vals:  0.8199999928474426\n",
      "Random Run 2 : Sample 200\n",
      "No GPU detected, fall back on CPU.\n",
      "Shift p-vals:  0.07000000029802322\n",
      "Random Run 2 : Sample 500\n",
      "No GPU detected, fall back on CPU.\n",
      "Shift p-vals:  0.5600000023841858\n",
      "Random Run 2 : Sample 1000\n",
      "No GPU detected, fall back on CPU.\n",
      "Shift p-vals:  0.7200000286102295\n",
      "Random Run 2 : Sample 2000\n",
      "No GPU detected, fall back on CPU.\n",
      "Shift p-vals:  0.5099999904632568\n",
      "Random Run 3 : Sample 10\n",
      "No GPU detected, fall back on CPU.\n",
      "Shift p-vals:  0.0\n",
      "Random Run 3 : Sample 20\n",
      "No GPU detected, fall back on CPU.\n",
      "Shift p-vals:  0.0\n",
      "Random Run 3 : Sample 50\n",
      "No GPU detected, fall back on CPU.\n",
      "Shift p-vals:  0.33000001311302185\n",
      "Random Run 3 : Sample 100\n",
      "No GPU detected, fall back on CPU.\n",
      "Shift p-vals:  0.6600000262260437\n",
      "Random Run 3 : Sample 200\n",
      "No GPU detected, fall back on CPU.\n",
      "Shift p-vals:  0.07000000029802322\n",
      "Random Run 3 : Sample 500\n",
      "No GPU detected, fall back on CPU.\n",
      "Shift p-vals:  0.25\n",
      "Random Run 3 : Sample 1000\n",
      "No GPU detected, fall back on CPU.\n",
      "Shift p-vals:  0.2800000011920929\n",
      "Random Run 3 : Sample 2000\n",
      "No GPU detected, fall back on CPU.\n",
      "Shift p-vals:  0.23999999463558197\n",
      "Random Run 4 : Sample 10\n",
      "No GPU detected, fall back on CPU.\n",
      "Shift p-vals:  0.009999999776482582\n",
      "Random Run 4 : Sample 20\n",
      "No GPU detected, fall back on CPU.\n",
      "Shift p-vals:  0.07000000029802322\n",
      "Random Run 4 : Sample 50\n",
      "No GPU detected, fall back on CPU.\n",
      "Shift p-vals:  0.0\n",
      "Random Run 4 : Sample 100\n",
      "No GPU detected, fall back on CPU.\n",
      "Shift p-vals:  0.17000000178813934\n",
      "Random Run 4 : Sample 200\n",
      "No GPU detected, fall back on CPU.\n",
      "Shift p-vals:  0.009999999776482582\n",
      "Random Run 4 : Sample 500\n",
      "No GPU detected, fall back on CPU.\n",
      "Shift p-vals:  0.03999999910593033\n",
      "Random Run 4 : Sample 1000\n",
      "No GPU detected, fall back on CPU.\n",
      "Shift p-vals:  0.0\n",
      "Random Run 4 : Sample 2000\n",
      "No GPU detected, fall back on CPU.\n",
      "Shift p-vals:  0.019999999552965164\n",
      "pre-covid | MSH | SRP | MMD\n",
      "Shift pre-covid\n"
     ]
    },
    {
     "name": "stderr",
     "output_type": "stream",
     "text": [
      "torch.range is deprecated and will be removed in a future release because its behavior is inconsistent with Python's range builtin. Instead, use torch.arange, which produces values in [start, end).\n"
     ]
    },
    {
     "name": "stdout",
     "output_type": "stream",
     "text": [
      "Random Run 0 : Sample 10\n",
      "No GPU detected, fall back on CPU.\n",
      "Shift p-vals:  0.41999998688697815\n",
      "Random Run 0 : Sample 20\n",
      "No GPU detected, fall back on CPU.\n",
      "Shift p-vals:  0.75\n",
      "Random Run 0 : Sample 50\n",
      "No GPU detected, fall back on CPU.\n",
      "Shift p-vals:  0.019999999552965164\n",
      "Random Run 0 : Sample 100\n",
      "No GPU detected, fall back on CPU.\n",
      "Shift p-vals:  0.0\n",
      "Random Run 0 : Sample 200\n",
      "No GPU detected, fall back on CPU.\n",
      "Shift p-vals:  0.4300000071525574\n",
      "Random Run 0 : Sample 500\n",
      "No GPU detected, fall back on CPU.\n",
      "Shift p-vals:  0.6100000143051147\n",
      "Random Run 0 : Sample 1000\n",
      "No GPU detected, fall back on CPU.\n",
      "Shift p-vals:  0.3400000035762787\n",
      "Random Run 0 : Sample 2000\n",
      "No GPU detected, fall back on CPU.\n",
      "Shift p-vals:  0.6399999856948853\n",
      "Random Run 1 : Sample 10\n",
      "No GPU detected, fall back on CPU.\n",
      "Shift p-vals:  0.7200000286102295\n",
      "Random Run 1 : Sample 20\n",
      "No GPU detected, fall back on CPU.\n",
      "Shift p-vals:  0.5699999928474426\n",
      "Random Run 1 : Sample 50\n",
      "No GPU detected, fall back on CPU.\n",
      "Shift p-vals:  0.9100000262260437\n",
      "Random Run 1 : Sample 100\n",
      "No GPU detected, fall back on CPU.\n",
      "Shift p-vals:  0.23999999463558197\n",
      "Random Run 1 : Sample 200\n",
      "No GPU detected, fall back on CPU.\n",
      "Shift p-vals:  0.7599999904632568\n",
      "Random Run 1 : Sample 500\n",
      "No GPU detected, fall back on CPU.\n",
      "Shift p-vals:  0.7900000214576721\n",
      "Random Run 1 : Sample 1000\n",
      "No GPU detected, fall back on CPU.\n",
      "Shift p-vals:  0.029999999329447746\n",
      "Random Run 1 : Sample 2000\n",
      "No GPU detected, fall back on CPU.\n",
      "Shift p-vals:  0.09000000357627869\n",
      "Random Run 2 : Sample 10\n",
      "No GPU detected, fall back on CPU.\n",
      "Shift p-vals:  0.7599999904632568\n",
      "Random Run 2 : Sample 20\n",
      "No GPU detected, fall back on CPU.\n",
      "Shift p-vals:  0.47999998927116394\n",
      "Random Run 2 : Sample 50\n",
      "No GPU detected, fall back on CPU.\n",
      "Shift p-vals:  0.3700000047683716\n",
      "Random Run 2 : Sample 100\n",
      "No GPU detected, fall back on CPU.\n",
      "Shift p-vals:  0.07000000029802322\n",
      "Random Run 2 : Sample 200\n",
      "No GPU detected, fall back on CPU.\n",
      "Shift p-vals:  0.7699999809265137\n",
      "Random Run 2 : Sample 500\n",
      "No GPU detected, fall back on CPU.\n",
      "Shift p-vals:  0.20000000298023224\n",
      "Random Run 2 : Sample 1000\n",
      "No GPU detected, fall back on CPU.\n",
      "Shift p-vals:  0.5799999833106995\n",
      "Random Run 2 : Sample 2000\n",
      "No GPU detected, fall back on CPU.\n",
      "Shift p-vals:  0.3499999940395355\n",
      "Random Run 3 : Sample 10\n",
      "No GPU detected, fall back on CPU.\n",
      "Shift p-vals:  0.23000000417232513\n",
      "Random Run 3 : Sample 20\n",
      "No GPU detected, fall back on CPU.\n",
      "Shift p-vals:  0.3100000023841858\n",
      "Random Run 3 : Sample 50\n",
      "No GPU detected, fall back on CPU.\n",
      "Shift p-vals:  0.2199999988079071\n",
      "Random Run 3 : Sample 100\n",
      "No GPU detected, fall back on CPU.\n",
      "Shift p-vals:  0.6399999856948853\n",
      "Random Run 3 : Sample 200\n",
      "No GPU detected, fall back on CPU.\n",
      "Shift p-vals:  0.3499999940395355\n",
      "Random Run 3 : Sample 500\n",
      "No GPU detected, fall back on CPU.\n",
      "Shift p-vals:  0.7099999785423279\n",
      "Random Run 3 : Sample 1000\n",
      "No GPU detected, fall back on CPU.\n",
      "Shift p-vals:  0.3799999952316284\n",
      "Random Run 3 : Sample 2000\n",
      "No GPU detected, fall back on CPU.\n",
      "Shift p-vals:  0.7799999713897705\n",
      "Random Run 4 : Sample 10\n",
      "No GPU detected, fall back on CPU.\n",
      "Shift p-vals:  0.28999999165534973\n",
      "Random Run 4 : Sample 20\n",
      "No GPU detected, fall back on CPU.\n",
      "Shift p-vals:  0.25\n",
      "Random Run 4 : Sample 50\n",
      "No GPU detected, fall back on CPU.\n",
      "Shift p-vals:  0.38999998569488525\n",
      "Random Run 4 : Sample 100\n",
      "No GPU detected, fall back on CPU.\n",
      "Shift p-vals:  0.4699999988079071\n",
      "Random Run 4 : Sample 200\n",
      "No GPU detected, fall back on CPU.\n",
      "Shift p-vals:  0.0\n",
      "Random Run 4 : Sample 500\n",
      "No GPU detected, fall back on CPU.\n",
      "Shift p-vals:  0.18000000715255737\n",
      "Random Run 4 : Sample 1000\n",
      "No GPU detected, fall back on CPU.\n",
      "Shift p-vals:  0.23000000417232513\n",
      "Random Run 4 : Sample 2000\n",
      "No GPU detected, fall back on CPU.\n",
      "Shift p-vals:  0.07000000029802322\n",
      "pre-covid | MSH | SRP | LK\n",
      "Shift pre-covid\n"
     ]
    },
    {
     "name": "stderr",
     "output_type": "stream",
     "text": [
      "torch.range is deprecated and will be removed in a future release because its behavior is inconsistent with Python's range builtin. Instead, use torch.arange, which produces values in [start, end).\n",
      "No GPU detected, fall back on CPU.\n",
      "No GPU detected, fall back on CPU.\n",
      "No GPU detected, fall back on CPU.\n",
      "No GPU detected, fall back on CPU.\n"
     ]
    },
    {
     "name": "stdout",
     "output_type": "stream",
     "text": [
      "Random Run 0 : Sample 10\n",
      "Shift p-vals:  0.6399999856948853\n",
      "Random Run 0 : Sample 20\n",
      "Shift p-vals:  0.12999999523162842\n",
      "Random Run 0 : Sample 50\n",
      "Shift p-vals:  0.10000000149011612\n",
      "Random Run 0 : Sample 100\n"
     ]
    },
    {
     "name": "stderr",
     "output_type": "stream",
     "text": [
      "No GPU detected, fall back on CPU.\n"
     ]
    },
    {
     "name": "stdout",
     "output_type": "stream",
     "text": [
      "Shift p-vals:  0.2199999988079071\n",
      "Random Run 0 : Sample 200\n",
      "Shift p-vals:  0.8600000143051147\n",
      "Random Run 0 : Sample 500\n"
     ]
    },
    {
     "name": "stderr",
     "output_type": "stream",
     "text": [
      "No GPU detected, fall back on CPU.\n",
      "No GPU detected, fall back on CPU.\n"
     ]
    },
    {
     "name": "stdout",
     "output_type": "stream",
     "text": [
      "Shift p-vals:  0.30000001192092896\n",
      "Random Run 0 : Sample 1000\n"
     ]
    },
    {
     "name": "stderr",
     "output_type": "stream",
     "text": [
      "No GPU detected, fall back on CPU.\n"
     ]
    },
    {
     "name": "stdout",
     "output_type": "stream",
     "text": [
      "Shift p-vals:  0.5\n",
      "Random Run 0 : Sample 2000\n",
      "Shift p-vals:  0.3400000035762787\n"
     ]
    },
    {
     "name": "stderr",
     "output_type": "stream",
     "text": [
      "No GPU detected, fall back on CPU.\n",
      "No GPU detected, fall back on CPU.\n",
      "No GPU detected, fall back on CPU.\n",
      "No GPU detected, fall back on CPU.\n"
     ]
    },
    {
     "name": "stdout",
     "output_type": "stream",
     "text": [
      "Random Run 1 : Sample 10\n",
      "Shift p-vals:  0.17000000178813934\n",
      "Random Run 1 : Sample 20\n",
      "Shift p-vals:  0.7200000286102295\n",
      "Random Run 1 : Sample 50\n",
      "Shift p-vals:  0.36000001430511475\n",
      "Random Run 1 : Sample 100\n"
     ]
    },
    {
     "name": "stderr",
     "output_type": "stream",
     "text": [
      "No GPU detected, fall back on CPU.\n",
      "No GPU detected, fall back on CPU.\n"
     ]
    },
    {
     "name": "stdout",
     "output_type": "stream",
     "text": [
      "Shift p-vals:  0.5099999904632568\n",
      "Random Run 1 : Sample 200\n",
      "Shift p-vals:  0.6399999856948853\n",
      "Random Run 1 : Sample 500\n"
     ]
    },
    {
     "name": "stderr",
     "output_type": "stream",
     "text": [
      "No GPU detected, fall back on CPU.\n"
     ]
    },
    {
     "name": "stdout",
     "output_type": "stream",
     "text": [
      "Shift p-vals:  0.7099999785423279\n",
      "Random Run 1 : Sample 1000\n",
      "Shift p-vals:  0.75\n",
      "Random Run 1 : Sample 2000\n"
     ]
    },
    {
     "name": "stderr",
     "output_type": "stream",
     "text": [
      "No GPU detected, fall back on CPU.\n"
     ]
    },
    {
     "name": "stdout",
     "output_type": "stream",
     "text": [
      "Shift p-vals:  0.7300000190734863\n"
     ]
    },
    {
     "name": "stderr",
     "output_type": "stream",
     "text": [
      "No GPU detected, fall back on CPU.\n",
      "No GPU detected, fall back on CPU.\n",
      "No GPU detected, fall back on CPU.\n",
      "No GPU detected, fall back on CPU.\n"
     ]
    },
    {
     "name": "stdout",
     "output_type": "stream",
     "text": [
      "Random Run 2 : Sample 10\n",
      "Shift p-vals:  0.5899999737739563\n",
      "Random Run 2 : Sample 20\n",
      "Shift p-vals:  0.2199999988079071\n",
      "Random Run 2 : Sample 50\n",
      "Shift p-vals:  0.550000011920929\n",
      "Random Run 2 : Sample 100\n"
     ]
    },
    {
     "name": "stderr",
     "output_type": "stream",
     "text": [
      "No GPU detected, fall back on CPU.\n"
     ]
    },
    {
     "name": "stdout",
     "output_type": "stream",
     "text": [
      "Shift p-vals:  0.8299999833106995\n",
      "Random Run 2 : Sample 200\n",
      "Shift p-vals:  0.8600000143051147\n",
      "Random Run 2 : Sample 500\n"
     ]
    },
    {
     "name": "stderr",
     "output_type": "stream",
     "text": [
      "No GPU detected, fall back on CPU.\n",
      "No GPU detected, fall back on CPU.\n"
     ]
    },
    {
     "name": "stdout",
     "output_type": "stream",
     "text": [
      "Shift p-vals:  0.4399999976158142\n",
      "Random Run 2 : Sample 1000\n",
      "Shift p-vals:  0.4000000059604645\n",
      "Random Run 2 : Sample 2000\n"
     ]
    },
    {
     "name": "stderr",
     "output_type": "stream",
     "text": [
      "No GPU detected, fall back on CPU.\n"
     ]
    },
    {
     "name": "stdout",
     "output_type": "stream",
     "text": [
      "Shift p-vals:  0.07999999821186066\n"
     ]
    },
    {
     "name": "stderr",
     "output_type": "stream",
     "text": [
      "No GPU detected, fall back on CPU.\n",
      "No GPU detected, fall back on CPU.\n",
      "No GPU detected, fall back on CPU.\n",
      "No GPU detected, fall back on CPU.\n"
     ]
    },
    {
     "name": "stdout",
     "output_type": "stream",
     "text": [
      "Random Run 3 : Sample 10\n",
      "Shift p-vals:  0.550000011920929\n",
      "Random Run 3 : Sample 20\n",
      "Shift p-vals:  0.6000000238418579\n",
      "Random Run 3 : Sample 50\n",
      "Shift p-vals:  0.20000000298023224\n",
      "Random Run 3 : Sample 100\n"
     ]
    },
    {
     "name": "stderr",
     "output_type": "stream",
     "text": [
      "No GPU detected, fall back on CPU.\n"
     ]
    },
    {
     "name": "stdout",
     "output_type": "stream",
     "text": [
      "Shift p-vals:  0.4099999964237213\n",
      "Random Run 3 : Sample 200\n",
      "Shift p-vals:  0.7799999713897705\n",
      "Random Run 3 : Sample 500\n"
     ]
    },
    {
     "name": "stderr",
     "output_type": "stream",
     "text": [
      "No GPU detected, fall back on CPU.\n",
      "No GPU detected, fall back on CPU.\n"
     ]
    },
    {
     "name": "stdout",
     "output_type": "stream",
     "text": [
      "Shift p-vals:  0.6800000071525574\n",
      "Random Run 3 : Sample 1000\n"
     ]
    },
    {
     "name": "stderr",
     "output_type": "stream",
     "text": [
      "No GPU detected, fall back on CPU.\n"
     ]
    },
    {
     "name": "stdout",
     "output_type": "stream",
     "text": [
      "Shift p-vals:  0.9200000166893005\n",
      "Random Run 3 : Sample 2000\n",
      "Shift p-vals:  0.33000001311302185\n"
     ]
    },
    {
     "name": "stderr",
     "output_type": "stream",
     "text": [
      "No GPU detected, fall back on CPU.\n",
      "No GPU detected, fall back on CPU.\n",
      "No GPU detected, fall back on CPU.\n",
      "No GPU detected, fall back on CPU.\n"
     ]
    },
    {
     "name": "stdout",
     "output_type": "stream",
     "text": [
      "Random Run 4 : Sample 10\n",
      "Shift p-vals:  0.46000000834465027\n",
      "Random Run 4 : Sample 20\n",
      "Shift p-vals:  0.4099999964237213\n",
      "Random Run 4 : Sample 50\n",
      "Shift p-vals:  0.4699999988079071\n",
      "Random Run 4 : Sample 100\n"
     ]
    },
    {
     "name": "stderr",
     "output_type": "stream",
     "text": [
      "No GPU detected, fall back on CPU.\n"
     ]
    },
    {
     "name": "stdout",
     "output_type": "stream",
     "text": [
      "Shift p-vals:  0.9900000095367432\n",
      "Random Run 4 : Sample 200\n",
      "Shift p-vals:  0.550000011920929\n",
      "Random Run 4 : Sample 500\n"
     ]
    },
    {
     "name": "stderr",
     "output_type": "stream",
     "text": [
      "No GPU detected, fall back on CPU.\n",
      "No GPU detected, fall back on CPU.\n"
     ]
    },
    {
     "name": "stdout",
     "output_type": "stream",
     "text": [
      "Shift p-vals:  0.1899999976158142\n",
      "Random Run 4 : Sample 1000\n",
      "Shift p-vals:  0.8100000023841858\n",
      "Random Run 4 : Sample 2000\n"
     ]
    },
    {
     "name": "stderr",
     "output_type": "stream",
     "text": [
      "No GPU detected, fall back on CPU.\n",
      "torch.range is deprecated and will be removed in a future release because its behavior is inconsistent with Python's range builtin. Instead, use torch.arange, which produces values in [start, end).\n"
     ]
    },
    {
     "name": "stdout",
     "output_type": "stream",
     "text": [
      "Shift p-vals:  0.75\n",
      "pre-covid | MSH | SRP | LSDD\n",
      "Shift pre-covid\n",
      "Random Run 0 : Sample 10\n",
      "No GPU detected, fall back on CPU.\n",
      "Shift p-vals:  0.20999999344348907\n",
      "Random Run 0 : Sample 20\n",
      "No GPU detected, fall back on CPU.\n",
      "Shift p-vals:  0.9599999785423279\n",
      "Random Run 0 : Sample 50\n",
      "No GPU detected, fall back on CPU.\n",
      "Shift p-vals:  0.23999999463558197\n",
      "Random Run 0 : Sample 100\n",
      "No GPU detected, fall back on CPU.\n",
      "Shift p-vals:  0.10000000149011612\n",
      "Random Run 0 : Sample 200\n",
      "No GPU detected, fall back on CPU.\n",
      "Shift p-vals:  0.6700000166893005\n",
      "Random Run 0 : Sample 500\n",
      "No GPU detected, fall back on CPU.\n",
      "Shift p-vals:  0.029999999329447746\n",
      "Random Run 0 : Sample 1000\n",
      "No GPU detected, fall back on CPU.\n",
      "Shift p-vals:  0.27000001072883606\n",
      "Random Run 0 : Sample 2000\n",
      "No GPU detected, fall back on CPU.\n",
      "Shift p-vals:  0.05999999865889549\n",
      "Random Run 1 : Sample 10\n",
      "No GPU detected, fall back on CPU.\n",
      "Shift p-vals:  0.9399999976158142\n",
      "Random Run 1 : Sample 20\n",
      "No GPU detected, fall back on CPU.\n",
      "Shift p-vals:  0.7400000095367432\n",
      "Random Run 1 : Sample 50\n",
      "No GPU detected, fall back on CPU.\n",
      "Shift p-vals:  0.8600000143051147\n",
      "Random Run 1 : Sample 100\n",
      "No GPU detected, fall back on CPU.\n",
      "Shift p-vals:  0.7400000095367432\n",
      "Random Run 1 : Sample 200\n",
      "No GPU detected, fall back on CPU.\n",
      "Shift p-vals:  0.5600000023841858\n",
      "Random Run 1 : Sample 500\n",
      "No GPU detected, fall back on CPU.\n",
      "Shift p-vals:  0.6299999952316284\n",
      "Random Run 1 : Sample 1000\n",
      "No GPU detected, fall back on CPU.\n",
      "Shift p-vals:  0.27000001072883606\n",
      "Random Run 1 : Sample 2000\n",
      "No GPU detected, fall back on CPU.\n",
      "Shift p-vals:  0.7200000286102295\n",
      "Random Run 2 : Sample 10\n",
      "No GPU detected, fall back on CPU.\n",
      "Shift p-vals:  0.75\n",
      "Random Run 2 : Sample 20\n",
      "No GPU detected, fall back on CPU.\n",
      "Shift p-vals:  0.5899999737739563\n",
      "Random Run 2 : Sample 50\n",
      "No GPU detected, fall back on CPU.\n",
      "Shift p-vals:  0.12999999523162842\n",
      "Random Run 2 : Sample 100\n",
      "No GPU detected, fall back on CPU.\n",
      "Shift p-vals:  0.550000011920929\n",
      "Random Run 2 : Sample 200\n",
      "No GPU detected, fall back on CPU.\n",
      "Shift p-vals:  0.9900000095367432\n",
      "Random Run 2 : Sample 500\n",
      "No GPU detected, fall back on CPU.\n",
      "Shift p-vals:  0.4000000059604645\n",
      "Random Run 2 : Sample 1000\n",
      "No GPU detected, fall back on CPU.\n",
      "Shift p-vals:  0.5199999809265137\n",
      "Random Run 2 : Sample 2000\n",
      "No GPU detected, fall back on CPU.\n",
      "Shift p-vals:  0.800000011920929\n",
      "Random Run 3 : Sample 10\n",
      "No GPU detected, fall back on CPU.\n",
      "Shift p-vals:  0.5099999904632568\n",
      "Random Run 3 : Sample 20\n",
      "No GPU detected, fall back on CPU.\n",
      "Shift p-vals:  0.25999999046325684\n",
      "Random Run 3 : Sample 50\n",
      "No GPU detected, fall back on CPU.\n",
      "Shift p-vals:  0.6700000166893005\n",
      "Random Run 3 : Sample 100\n",
      "No GPU detected, fall back on CPU.\n",
      "Shift p-vals:  0.8199999928474426\n",
      "Random Run 3 : Sample 200\n",
      "No GPU detected, fall back on CPU.\n",
      "Shift p-vals:  0.23999999463558197\n",
      "Random Run 3 : Sample 500\n",
      "No GPU detected, fall back on CPU.\n",
      "Shift p-vals:  0.8199999928474426\n",
      "Random Run 3 : Sample 1000\n",
      "No GPU detected, fall back on CPU.\n",
      "Shift p-vals:  0.5699999928474426\n",
      "Random Run 3 : Sample 2000\n",
      "No GPU detected, fall back on CPU.\n",
      "Shift p-vals:  0.46000000834465027\n",
      "Random Run 4 : Sample 10\n",
      "No GPU detected, fall back on CPU.\n",
      "Shift p-vals:  0.33000001311302185\n",
      "Random Run 4 : Sample 20\n",
      "No GPU detected, fall back on CPU.\n",
      "Shift p-vals:  0.07999999821186066\n",
      "Random Run 4 : Sample 50\n",
      "No GPU detected, fall back on CPU.\n",
      "Shift p-vals:  0.49000000953674316\n",
      "Random Run 4 : Sample 100\n",
      "No GPU detected, fall back on CPU.\n",
      "Shift p-vals:  0.75\n",
      "Random Run 4 : Sample 200\n",
      "No GPU detected, fall back on CPU.\n",
      "Shift p-vals:  0.10000000149011612\n",
      "Random Run 4 : Sample 500\n",
      "No GPU detected, fall back on CPU.\n",
      "Shift p-vals:  0.07000000029802322\n",
      "Random Run 4 : Sample 1000\n",
      "No GPU detected, fall back on CPU.\n",
      "Shift p-vals:  0.6899999976158142\n",
      "Random Run 4 : Sample 2000\n",
      "No GPU detected, fall back on CPU.\n",
      "Shift p-vals:  0.23999999463558197\n",
      "pre-covid | MSH | PCA | MMD\n",
      "Shift pre-covid\n"
     ]
    },
    {
     "name": "stderr",
     "output_type": "stream",
     "text": [
      "torch.range is deprecated and will be removed in a future release because its behavior is inconsistent with Python's range builtin. Instead, use torch.arange, which produces values in [start, end).\n"
     ]
    },
    {
     "name": "stdout",
     "output_type": "stream",
     "text": [
      "Random Run 0 : Sample 10\n",
      "No GPU detected, fall back on CPU.\n",
      "Shift p-vals:  0.07000000029802322\n",
      "Random Run 0 : Sample 20\n",
      "No GPU detected, fall back on CPU.\n",
      "Shift p-vals:  0.7799999713897705\n",
      "Random Run 0 : Sample 50\n",
      "No GPU detected, fall back on CPU.\n",
      "Shift p-vals:  0.41999998688697815\n",
      "Random Run 0 : Sample 100\n",
      "No GPU detected, fall back on CPU.\n",
      "Shift p-vals:  0.11999999731779099\n",
      "Random Run 0 : Sample 200\n",
      "No GPU detected, fall back on CPU.\n",
      "Shift p-vals:  0.07000000029802322\n",
      "Random Run 0 : Sample 500\n",
      "No GPU detected, fall back on CPU.\n",
      "Shift p-vals:  0.03999999910593033\n",
      "Random Run 0 : Sample 1000\n",
      "No GPU detected, fall back on CPU.\n",
      "Shift p-vals:  0.07999999821186066\n",
      "Random Run 0 : Sample 2000\n",
      "No GPU detected, fall back on CPU.\n",
      "Shift p-vals:  0.07000000029802322\n",
      "Random Run 1 : Sample 10\n",
      "No GPU detected, fall back on CPU.\n",
      "Shift p-vals:  0.8799999952316284\n",
      "Random Run 1 : Sample 20\n",
      "No GPU detected, fall back on CPU.\n",
      "Shift p-vals:  0.6899999976158142\n",
      "Random Run 1 : Sample 50\n",
      "No GPU detected, fall back on CPU.\n",
      "Shift p-vals:  0.8899999856948853\n",
      "Random Run 1 : Sample 100\n",
      "No GPU detected, fall back on CPU.\n",
      "Shift p-vals:  0.7699999809265137\n",
      "Random Run 1 : Sample 200\n",
      "No GPU detected, fall back on CPU.\n",
      "Shift p-vals:  0.4300000071525574\n",
      "Random Run 1 : Sample 500\n",
      "No GPU detected, fall back on CPU.\n",
      "Shift p-vals:  0.33000001311302185\n",
      "Random Run 1 : Sample 1000\n",
      "No GPU detected, fall back on CPU.\n",
      "Shift p-vals:  0.3499999940395355\n",
      "Random Run 1 : Sample 2000\n",
      "No GPU detected, fall back on CPU.\n",
      "Shift p-vals:  0.4300000071525574\n",
      "Random Run 2 : Sample 10\n",
      "No GPU detected, fall back on CPU.\n",
      "Shift p-vals:  0.4699999988079071\n",
      "Random Run 2 : Sample 20\n",
      "No GPU detected, fall back on CPU.\n",
      "Shift p-vals:  0.44999998807907104\n",
      "Random Run 2 : Sample 50\n",
      "No GPU detected, fall back on CPU.\n",
      "Shift p-vals:  0.18000000715255737\n",
      "Random Run 2 : Sample 100\n",
      "No GPU detected, fall back on CPU.\n",
      "Shift p-vals:  0.38999998569488525\n",
      "Random Run 2 : Sample 200\n",
      "No GPU detected, fall back on CPU.\n",
      "Shift p-vals:  0.12999999523162842\n",
      "Random Run 2 : Sample 500\n",
      "No GPU detected, fall back on CPU.\n",
      "Shift p-vals:  0.20999999344348907\n",
      "Random Run 2 : Sample 1000\n",
      "No GPU detected, fall back on CPU.\n",
      "Shift p-vals:  0.27000001072883606\n",
      "Random Run 2 : Sample 2000\n",
      "No GPU detected, fall back on CPU.\n",
      "Shift p-vals:  0.23999999463558197\n",
      "Random Run 3 : Sample 10\n",
      "No GPU detected, fall back on CPU.\n",
      "Shift p-vals:  0.75\n",
      "Random Run 3 : Sample 20\n",
      "No GPU detected, fall back on CPU.\n",
      "Shift p-vals:  0.7599999904632568\n",
      "Random Run 3 : Sample 50\n",
      "No GPU detected, fall back on CPU.\n",
      "Shift p-vals:  0.4399999976158142\n",
      "Random Run 3 : Sample 100\n",
      "No GPU detected, fall back on CPU.\n",
      "Shift p-vals:  0.33000001311302185\n",
      "Random Run 3 : Sample 200\n",
      "No GPU detected, fall back on CPU.\n",
      "Shift p-vals:  0.25\n",
      "Random Run 3 : Sample 500\n",
      "No GPU detected, fall back on CPU.\n",
      "Shift p-vals:  0.33000001311302185\n",
      "Random Run 3 : Sample 1000\n",
      "No GPU detected, fall back on CPU.\n",
      "Shift p-vals:  0.33000001311302185\n",
      "Random Run 3 : Sample 2000\n",
      "No GPU detected, fall back on CPU.\n",
      "Shift p-vals:  0.30000001192092896\n",
      "Random Run 4 : Sample 10\n",
      "No GPU detected, fall back on CPU.\n",
      "Shift p-vals:  0.7400000095367432\n",
      "Random Run 4 : Sample 20\n",
      "No GPU detected, fall back on CPU.\n",
      "Shift p-vals:  0.5899999737739563\n",
      "Random Run 4 : Sample 50\n",
      "No GPU detected, fall back on CPU.\n",
      "Shift p-vals:  0.20999999344348907\n",
      "Random Run 4 : Sample 100\n",
      "No GPU detected, fall back on CPU.\n",
      "Shift p-vals:  0.36000001430511475\n",
      "Random Run 4 : Sample 200\n",
      "No GPU detected, fall back on CPU.\n",
      "Shift p-vals:  0.1899999976158142\n",
      "Random Run 4 : Sample 500\n",
      "No GPU detected, fall back on CPU.\n",
      "Shift p-vals:  0.25\n",
      "Random Run 4 : Sample 1000\n",
      "No GPU detected, fall back on CPU.\n",
      "Shift p-vals:  0.25999999046325684\n",
      "Random Run 4 : Sample 2000\n",
      "No GPU detected, fall back on CPU.\n",
      "Shift p-vals:  0.25999999046325684\n",
      "pre-covid | MSH | PCA | LK\n",
      "Shift pre-covid\n"
     ]
    },
    {
     "name": "stderr",
     "output_type": "stream",
     "text": [
      "torch.range is deprecated and will be removed in a future release because its behavior is inconsistent with Python's range builtin. Instead, use torch.arange, which produces values in [start, end).\n",
      "No GPU detected, fall back on CPU.\n",
      "No GPU detected, fall back on CPU.\n",
      "No GPU detected, fall back on CPU.\n",
      "No GPU detected, fall back on CPU.\n"
     ]
    },
    {
     "name": "stdout",
     "output_type": "stream",
     "text": [
      "Random Run 0 : Sample 10\n",
      "Shift p-vals:  0.6000000238418579\n",
      "Random Run 0 : Sample 20\n",
      "Shift p-vals:  0.3799999952316284\n",
      "Random Run 0 : Sample 50\n",
      "Shift p-vals:  0.41999998688697815\n",
      "Random Run 0 : Sample 100\n"
     ]
    },
    {
     "name": "stderr",
     "output_type": "stream",
     "text": [
      "No GPU detected, fall back on CPU.\n"
     ]
    },
    {
     "name": "stdout",
     "output_type": "stream",
     "text": [
      "Shift p-vals:  0.25\n",
      "Random Run 0 : Sample 200\n"
     ]
    },
    {
     "name": "stderr",
     "output_type": "stream",
     "text": [
      "No GPU detected, fall back on CPU.\n"
     ]
    },
    {
     "name": "stdout",
     "output_type": "stream",
     "text": [
      "Shift p-vals:  0.23000000417232513\n",
      "Random Run 0 : Sample 500\n"
     ]
    },
    {
     "name": "stderr",
     "output_type": "stream",
     "text": [
      "No GPU detected, fall back on CPU.\n"
     ]
    },
    {
     "name": "stdout",
     "output_type": "stream",
     "text": [
      "Shift p-vals:  0.03999999910593033\n",
      "Random Run 0 : Sample 1000\n"
     ]
    },
    {
     "name": "stderr",
     "output_type": "stream",
     "text": [
      "No GPU detected, fall back on CPU.\n"
     ]
    },
    {
     "name": "stdout",
     "output_type": "stream",
     "text": [
      "Shift p-vals:  0.7400000095367432\n",
      "Random Run 0 : Sample 2000\n",
      "Shift p-vals:  0.9399999976158142\n"
     ]
    },
    {
     "name": "stderr",
     "output_type": "stream",
     "text": [
      "No GPU detected, fall back on CPU.\n",
      "No GPU detected, fall back on CPU.\n",
      "No GPU detected, fall back on CPU.\n",
      "No GPU detected, fall back on CPU.\n"
     ]
    },
    {
     "name": "stdout",
     "output_type": "stream",
     "text": [
      "Random Run 1 : Sample 10\n",
      "Shift p-vals:  0.6100000143051147\n",
      "Random Run 1 : Sample 20\n",
      "Shift p-vals:  0.4099999964237213\n",
      "Random Run 1 : Sample 50\n",
      "Shift p-vals:  0.2800000011920929\n",
      "Random Run 1 : Sample 100\n"
     ]
    },
    {
     "name": "stderr",
     "output_type": "stream",
     "text": [
      "No GPU detected, fall back on CPU.\n"
     ]
    },
    {
     "name": "stdout",
     "output_type": "stream",
     "text": [
      "Shift p-vals:  0.8399999737739563\n",
      "Random Run 1 : Sample 200\n",
      "Shift p-vals:  0.949999988079071\n",
      "Random Run 1 : Sample 500\n"
     ]
    },
    {
     "name": "stderr",
     "output_type": "stream",
     "text": [
      "No GPU detected, fall back on CPU.\n",
      "No GPU detected, fall back on CPU.\n"
     ]
    },
    {
     "name": "stdout",
     "output_type": "stream",
     "text": [
      "Shift p-vals:  0.019999999552965164\n",
      "Random Run 1 : Sample 1000\n"
     ]
    },
    {
     "name": "stderr",
     "output_type": "stream",
     "text": [
      "No GPU detected, fall back on CPU.\n"
     ]
    },
    {
     "name": "stdout",
     "output_type": "stream",
     "text": [
      "Shift p-vals:  0.8299999833106995\n",
      "Random Run 1 : Sample 2000\n",
      "Shift p-vals:  0.1899999976158142\n"
     ]
    },
    {
     "name": "stderr",
     "output_type": "stream",
     "text": [
      "No GPU detected, fall back on CPU.\n",
      "No GPU detected, fall back on CPU.\n",
      "No GPU detected, fall back on CPU.\n",
      "No GPU detected, fall back on CPU.\n"
     ]
    },
    {
     "name": "stdout",
     "output_type": "stream",
     "text": [
      "Random Run 2 : Sample 10\n",
      "Shift p-vals:  0.10999999940395355\n",
      "Random Run 2 : Sample 20\n",
      "Shift p-vals:  0.5699999928474426\n",
      "Random Run 2 : Sample 50\n",
      "Shift p-vals:  0.7799999713897705\n",
      "Random Run 2 : Sample 100\n"
     ]
    },
    {
     "name": "stderr",
     "output_type": "stream",
     "text": [
      "No GPU detected, fall back on CPU.\n"
     ]
    },
    {
     "name": "stdout",
     "output_type": "stream",
     "text": [
      "Shift p-vals:  0.6600000262260437\n",
      "Random Run 2 : Sample 200\n"
     ]
    },
    {
     "name": "stderr",
     "output_type": "stream",
     "text": [
      "No GPU detected, fall back on CPU.\n"
     ]
    },
    {
     "name": "stdout",
     "output_type": "stream",
     "text": [
      "Shift p-vals:  0.7099999785423279\n",
      "Random Run 2 : Sample 500\n"
     ]
    },
    {
     "name": "stderr",
     "output_type": "stream",
     "text": [
      "No GPU detected, fall back on CPU.\n"
     ]
    },
    {
     "name": "stdout",
     "output_type": "stream",
     "text": [
      "Shift p-vals:  0.18000000715255737\n",
      "Random Run 2 : Sample 1000\n"
     ]
    },
    {
     "name": "stderr",
     "output_type": "stream",
     "text": [
      "No GPU detected, fall back on CPU.\n"
     ]
    },
    {
     "name": "stdout",
     "output_type": "stream",
     "text": [
      "Shift p-vals:  0.9200000166893005\n",
      "Random Run 2 : Sample 2000\n",
      "Shift p-vals:  0.6299999952316284\n"
     ]
    },
    {
     "name": "stderr",
     "output_type": "stream",
     "text": [
      "No GPU detected, fall back on CPU.\n",
      "No GPU detected, fall back on CPU.\n",
      "No GPU detected, fall back on CPU.\n",
      "No GPU detected, fall back on CPU.\n"
     ]
    },
    {
     "name": "stdout",
     "output_type": "stream",
     "text": [
      "Random Run 3 : Sample 10\n",
      "Shift p-vals:  0.07999999821186066\n",
      "Random Run 3 : Sample 20\n",
      "Shift p-vals:  0.5199999809265137\n",
      "Random Run 3 : Sample 50\n",
      "Shift p-vals:  0.10000000149011612\n",
      "Random Run 3 : Sample 100\n"
     ]
    },
    {
     "name": "stderr",
     "output_type": "stream",
     "text": [
      "No GPU detected, fall back on CPU.\n"
     ]
    },
    {
     "name": "stdout",
     "output_type": "stream",
     "text": [
      "Shift p-vals:  0.75\n",
      "Random Run 3 : Sample 200\n",
      "Shift p-vals:  0.8600000143051147\n",
      "Random Run 3 : Sample 500\n"
     ]
    },
    {
     "name": "stderr",
     "output_type": "stream",
     "text": [
      "No GPU detected, fall back on CPU.\n",
      "No GPU detected, fall back on CPU.\n"
     ]
    },
    {
     "name": "stdout",
     "output_type": "stream",
     "text": [
      "Shift p-vals:  0.7699999809265137\n",
      "Random Run 3 : Sample 1000\n"
     ]
    },
    {
     "name": "stderr",
     "output_type": "stream",
     "text": [
      "No GPU detected, fall back on CPU.\n"
     ]
    },
    {
     "name": "stdout",
     "output_type": "stream",
     "text": [
      "Shift p-vals:  0.7900000214576721\n",
      "Random Run 3 : Sample 2000\n",
      "Shift p-vals:  0.10999999940395355\n"
     ]
    },
    {
     "name": "stderr",
     "output_type": "stream",
     "text": [
      "No GPU detected, fall back on CPU.\n",
      "No GPU detected, fall back on CPU.\n",
      "No GPU detected, fall back on CPU.\n",
      "No GPU detected, fall back on CPU.\n"
     ]
    },
    {
     "name": "stdout",
     "output_type": "stream",
     "text": [
      "Random Run 4 : Sample 10\n",
      "Shift p-vals:  0.4300000071525574\n",
      "Random Run 4 : Sample 20\n",
      "Shift p-vals:  0.2199999988079071\n",
      "Random Run 4 : Sample 50\n",
      "Shift p-vals:  0.3499999940395355\n",
      "Random Run 4 : Sample 100\n"
     ]
    },
    {
     "name": "stderr",
     "output_type": "stream",
     "text": [
      "No GPU detected, fall back on CPU.\n",
      "No GPU detected, fall back on CPU.\n"
     ]
    },
    {
     "name": "stdout",
     "output_type": "stream",
     "text": [
      "Shift p-vals:  0.11999999731779099\n",
      "Random Run 4 : Sample 200\n",
      "Shift p-vals:  0.9900000095367432\n",
      "Random Run 4 : Sample 500\n"
     ]
    },
    {
     "name": "stderr",
     "output_type": "stream",
     "text": [
      "No GPU detected, fall back on CPU.\n"
     ]
    },
    {
     "name": "stdout",
     "output_type": "stream",
     "text": [
      "Shift p-vals:  0.5799999833106995\n",
      "Random Run 4 : Sample 1000\n"
     ]
    },
    {
     "name": "stderr",
     "output_type": "stream",
     "text": [
      "No GPU detected, fall back on CPU.\n"
     ]
    },
    {
     "name": "stdout",
     "output_type": "stream",
     "text": [
      "Shift p-vals:  0.4099999964237213\n",
      "Random Run 4 : Sample 2000\n",
      "Shift p-vals:  0.009999999776482582\n",
      "pre-covid | MSH | PCA | LSDD\n",
      "Shift pre-covid\n"
     ]
    },
    {
     "name": "stderr",
     "output_type": "stream",
     "text": [
      "torch.range is deprecated and will be removed in a future release because its behavior is inconsistent with Python's range builtin. Instead, use torch.arange, which produces values in [start, end).\n"
     ]
    },
    {
     "name": "stdout",
     "output_type": "stream",
     "text": [
      "Random Run 0 : Sample 10\n",
      "No GPU detected, fall back on CPU.\n",
      "Shift p-vals:  0.9599999785423279\n",
      "Random Run 0 : Sample 20\n",
      "No GPU detected, fall back on CPU.\n",
      "Shift p-vals:  0.5400000214576721\n",
      "Random Run 0 : Sample 50\n",
      "No GPU detected, fall back on CPU.\n",
      "Shift p-vals:  0.1599999964237213\n",
      "Random Run 0 : Sample 100\n",
      "No GPU detected, fall back on CPU.\n",
      "Shift p-vals:  0.09000000357627869\n",
      "Random Run 0 : Sample 200\n",
      "No GPU detected, fall back on CPU.\n",
      "Shift p-vals:  0.3799999952316284\n",
      "Random Run 0 : Sample 500\n",
      "No GPU detected, fall back on CPU.\n",
      "Shift p-vals:  0.10000000149011612\n",
      "Random Run 0 : Sample 1000\n",
      "No GPU detected, fall back on CPU.\n",
      "Shift p-vals:  0.44999998807907104\n",
      "Random Run 0 : Sample 2000\n",
      "No GPU detected, fall back on CPU.\n",
      "Shift p-vals:  0.12999999523162842\n",
      "Random Run 1 : Sample 10\n",
      "No GPU detected, fall back on CPU.\n",
      "Shift p-vals:  0.8100000023841858\n",
      "Random Run 1 : Sample 20\n",
      "No GPU detected, fall back on CPU.\n",
      "Shift p-vals:  0.8100000023841858\n",
      "Random Run 1 : Sample 50\n",
      "No GPU detected, fall back on CPU.\n",
      "Shift p-vals:  1.0\n",
      "Random Run 1 : Sample 100\n",
      "No GPU detected, fall back on CPU.\n",
      "Shift p-vals:  0.6000000238418579\n",
      "Random Run 1 : Sample 200\n",
      "No GPU detected, fall back on CPU.\n",
      "Shift p-vals:  0.6800000071525574\n",
      "Random Run 1 : Sample 500\n",
      "No GPU detected, fall back on CPU.\n",
      "Shift p-vals:  0.7400000095367432\n",
      "Random Run 1 : Sample 1000\n",
      "No GPU detected, fall back on CPU.\n",
      "Shift p-vals:  0.75\n",
      "Random Run 1 : Sample 2000\n",
      "No GPU detected, fall back on CPU.\n",
      "Shift p-vals:  0.550000011920929\n",
      "Random Run 2 : Sample 10\n",
      "No GPU detected, fall back on CPU.\n",
      "Shift p-vals:  0.8899999856948853\n",
      "Random Run 2 : Sample 20\n",
      "No GPU detected, fall back on CPU.\n",
      "Shift p-vals:  0.6800000071525574\n",
      "Random Run 2 : Sample 50\n",
      "No GPU detected, fall back on CPU.\n",
      "Shift p-vals:  0.6899999976158142\n",
      "Random Run 2 : Sample 100\n",
      "No GPU detected, fall back on CPU.\n",
      "Shift p-vals:  0.9900000095367432\n",
      "Random Run 2 : Sample 200\n",
      "No GPU detected, fall back on CPU.\n",
      "Shift p-vals:  0.7900000214576721\n",
      "Random Run 2 : Sample 500\n",
      "No GPU detected, fall back on CPU.\n",
      "Shift p-vals:  0.18000000715255737\n",
      "Random Run 2 : Sample 1000\n",
      "No GPU detected, fall back on CPU.\n",
      "Shift p-vals:  0.1599999964237213\n",
      "Random Run 2 : Sample 2000\n",
      "No GPU detected, fall back on CPU.\n",
      "Shift p-vals:  0.5799999833106995\n",
      "Random Run 3 : Sample 10\n",
      "No GPU detected, fall back on CPU.\n",
      "Shift p-vals:  0.6700000166893005\n",
      "Random Run 3 : Sample 20\n",
      "No GPU detected, fall back on CPU.\n",
      "Shift p-vals:  0.4000000059604645\n",
      "Random Run 3 : Sample 50\n",
      "No GPU detected, fall back on CPU.\n",
      "Shift p-vals:  0.6899999976158142\n",
      "Random Run 3 : Sample 100\n",
      "No GPU detected, fall back on CPU.\n",
      "Shift p-vals:  0.28999999165534973\n",
      "Random Run 3 : Sample 200\n",
      "No GPU detected, fall back on CPU.\n",
      "Shift p-vals:  0.5199999809265137\n",
      "Random Run 3 : Sample 500\n",
      "No GPU detected, fall back on CPU.\n",
      "Shift p-vals:  0.5600000023841858\n",
      "Random Run 3 : Sample 1000\n",
      "No GPU detected, fall back on CPU.\n",
      "Shift p-vals:  0.11999999731779099\n",
      "Random Run 3 : Sample 2000\n",
      "No GPU detected, fall back on CPU.\n",
      "Shift p-vals:  0.5400000214576721\n",
      "Random Run 4 : Sample 10\n",
      "No GPU detected, fall back on CPU.\n",
      "Shift p-vals:  0.3199999928474426\n",
      "Random Run 4 : Sample 20\n",
      "No GPU detected, fall back on CPU.\n",
      "Shift p-vals:  0.18000000715255737\n",
      "Random Run 4 : Sample 50\n",
      "No GPU detected, fall back on CPU.\n",
      "Shift p-vals:  0.9800000190734863\n",
      "Random Run 4 : Sample 100\n",
      "No GPU detected, fall back on CPU.\n",
      "Shift p-vals:  0.9800000190734863\n",
      "Random Run 4 : Sample 200\n",
      "No GPU detected, fall back on CPU.\n",
      "Shift p-vals:  0.25999999046325684\n",
      "Random Run 4 : Sample 500\n",
      "No GPU detected, fall back on CPU.\n",
      "Shift p-vals:  0.2800000011920929\n",
      "Random Run 4 : Sample 1000\n",
      "No GPU detected, fall back on CPU.\n",
      "Shift p-vals:  0.30000001192092896\n",
      "Random Run 4 : Sample 2000\n",
      "No GPU detected, fall back on CPU.\n",
      "Shift p-vals:  0.8600000143051147\n",
      "pre-covid | MSH | BBSDs_FFNN | MMD\n",
      "Shift pre-covid\n"
     ]
    },
    {
     "name": "stderr",
     "output_type": "stream",
     "text": [
      "torch.range is deprecated and will be removed in a future release because its behavior is inconsistent with Python's range builtin. Instead, use torch.arange, which produces values in [start, end).\n"
     ]
    },
    {
     "name": "stdout",
     "output_type": "stream",
     "text": [
      "Random Run 0 : Sample 10\n",
      "No GPU detected, fall back on CPU.\n",
      "Shift p-vals:  0.9300000071525574\n",
      "Random Run 0 : Sample 20\n",
      "No GPU detected, fall back on CPU.\n",
      "Shift p-vals:  0.7099999785423279\n",
      "Random Run 0 : Sample 50\n",
      "No GPU detected, fall back on CPU.\n",
      "Shift p-vals:  0.07000000029802322\n",
      "Random Run 0 : Sample 100\n",
      "No GPU detected, fall back on CPU.\n",
      "Shift p-vals:  0.23000000417232513\n",
      "Random Run 0 : Sample 200\n",
      "No GPU detected, fall back on CPU.\n",
      "Shift p-vals:  0.0\n",
      "Random Run 0 : Sample 500\n",
      "No GPU detected, fall back on CPU.\n",
      "Shift p-vals:  0.5799999833106995\n",
      "Random Run 0 : Sample 1000\n",
      "No GPU detected, fall back on CPU.\n",
      "Shift p-vals:  0.5199999809265137\n",
      "Random Run 0 : Sample 2000\n",
      "No GPU detected, fall back on CPU.\n",
      "Shift p-vals:  0.029999999329447746\n",
      "Random Run 1 : Sample 10\n",
      "No GPU detected, fall back on CPU.\n",
      "Shift p-vals:  0.8799999952316284\n",
      "Random Run 1 : Sample 20\n",
      "No GPU detected, fall back on CPU.\n",
      "Shift p-vals:  0.1599999964237213\n",
      "Random Run 1 : Sample 50\n",
      "No GPU detected, fall back on CPU.\n",
      "Shift p-vals:  0.9300000071525574\n",
      "Random Run 1 : Sample 100\n",
      "No GPU detected, fall back on CPU.\n",
      "Shift p-vals:  0.3799999952316284\n",
      "Random Run 1 : Sample 200\n",
      "No GPU detected, fall back on CPU.\n",
      "Shift p-vals:  0.800000011920929\n",
      "Random Run 1 : Sample 500\n",
      "No GPU detected, fall back on CPU.\n",
      "Shift p-vals:  0.7300000190734863\n",
      "Random Run 1 : Sample 1000\n",
      "No GPU detected, fall back on CPU.\n",
      "Shift p-vals:  0.10000000149011612\n",
      "Random Run 1 : Sample 2000\n",
      "No GPU detected, fall back on CPU.\n",
      "Shift p-vals:  0.11999999731779099\n",
      "Random Run 2 : Sample 10\n",
      "No GPU detected, fall back on CPU.\n",
      "Shift p-vals:  0.4300000071525574\n",
      "Random Run 2 : Sample 20\n",
      "No GPU detected, fall back on CPU.\n",
      "Shift p-vals:  0.7699999809265137\n",
      "Random Run 2 : Sample 50\n",
      "No GPU detected, fall back on CPU.\n",
      "Shift p-vals:  0.4699999988079071\n",
      "Random Run 2 : Sample 100\n",
      "No GPU detected, fall back on CPU.\n",
      "Shift p-vals:  0.14000000059604645\n",
      "Random Run 2 : Sample 200\n",
      "No GPU detected, fall back on CPU.\n",
      "Shift p-vals:  0.2199999988079071\n",
      "Random Run 2 : Sample 500\n",
      "No GPU detected, fall back on CPU.\n",
      "Shift p-vals:  0.009999999776482582\n",
      "Random Run 2 : Sample 1000\n",
      "No GPU detected, fall back on CPU.\n",
      "Shift p-vals:  0.46000000834465027\n",
      "Random Run 2 : Sample 2000\n",
      "No GPU detected, fall back on CPU.\n",
      "Shift p-vals:  0.6299999952316284\n",
      "Random Run 3 : Sample 10\n",
      "No GPU detected, fall back on CPU.\n",
      "Shift p-vals:  0.7900000214576721\n",
      "Random Run 3 : Sample 20\n",
      "No GPU detected, fall back on CPU.\n",
      "Shift p-vals:  0.949999988079071\n",
      "Random Run 3 : Sample 50\n",
      "No GPU detected, fall back on CPU.\n",
      "Shift p-vals:  0.8399999737739563\n",
      "Random Run 3 : Sample 100\n",
      "No GPU detected, fall back on CPU.\n",
      "Shift p-vals:  0.7200000286102295\n",
      "Random Run 3 : Sample 200\n",
      "No GPU detected, fall back on CPU.\n",
      "Shift p-vals:  0.75\n",
      "Random Run 3 : Sample 500\n",
      "No GPU detected, fall back on CPU.\n",
      "Shift p-vals:  0.30000001192092896\n",
      "Random Run 3 : Sample 1000\n",
      "No GPU detected, fall back on CPU.\n",
      "Shift p-vals:  0.8999999761581421\n",
      "Random Run 3 : Sample 2000\n",
      "No GPU detected, fall back on CPU.\n",
      "Shift p-vals:  0.18000000715255737\n",
      "Random Run 4 : Sample 10\n",
      "No GPU detected, fall back on CPU.\n",
      "Shift p-vals:  0.4300000071525574\n",
      "Random Run 4 : Sample 20\n",
      "No GPU detected, fall back on CPU.\n",
      "Shift p-vals:  0.8700000047683716\n",
      "Random Run 4 : Sample 50\n",
      "No GPU detected, fall back on CPU.\n",
      "Shift p-vals:  0.5199999809265137\n",
      "Random Run 4 : Sample 100\n",
      "No GPU detected, fall back on CPU.\n",
      "Shift p-vals:  0.6399999856948853\n",
      "Random Run 4 : Sample 200\n",
      "No GPU detected, fall back on CPU.\n",
      "Shift p-vals:  0.20999999344348907\n",
      "Random Run 4 : Sample 500\n",
      "No GPU detected, fall back on CPU.\n",
      "Shift p-vals:  0.3700000047683716\n",
      "Random Run 4 : Sample 1000\n",
      "No GPU detected, fall back on CPU.\n",
      "Shift p-vals:  0.11999999731779099\n",
      "Random Run 4 : Sample 2000\n",
      "No GPU detected, fall back on CPU.\n",
      "Shift p-vals:  0.10000000149011612\n",
      "pre-covid | MSH | BBSDs_FFNN | LK\n",
      "Shift pre-covid\n"
     ]
    },
    {
     "name": "stderr",
     "output_type": "stream",
     "text": [
      "torch.range is deprecated and will be removed in a future release because its behavior is inconsistent with Python's range builtin. Instead, use torch.arange, which produces values in [start, end).\n",
      "No GPU detected, fall back on CPU.\n",
      "No GPU detected, fall back on CPU.\n",
      "No GPU detected, fall back on CPU.\n",
      "No GPU detected, fall back on CPU.\n"
     ]
    },
    {
     "name": "stdout",
     "output_type": "stream",
     "text": [
      "Random Run 0 : Sample 10\n",
      "Shift p-vals:  0.07000000029802322\n",
      "Random Run 0 : Sample 20\n",
      "Shift p-vals:  0.009999999776482582\n",
      "Random Run 0 : Sample 50\n",
      "Shift p-vals:  0.5899999737739563\n",
      "Random Run 0 : Sample 100\n"
     ]
    },
    {
     "name": "stderr",
     "output_type": "stream",
     "text": [
      "No GPU detected, fall back on CPU.\n",
      "No GPU detected, fall back on CPU.\n"
     ]
    },
    {
     "name": "stdout",
     "output_type": "stream",
     "text": [
      "Shift p-vals:  0.4000000059604645\n",
      "Random Run 0 : Sample 200\n",
      "Shift p-vals:  0.5199999809265137\n",
      "Random Run 0 : Sample 500\n"
     ]
    },
    {
     "name": "stderr",
     "output_type": "stream",
     "text": [
      "No GPU detected, fall back on CPU.\n"
     ]
    },
    {
     "name": "stdout",
     "output_type": "stream",
     "text": [
      "Shift p-vals:  0.949999988079071\n",
      "Random Run 0 : Sample 1000\n",
      "Shift p-vals:  0.7799999713897705\n",
      "Random Run 0 : Sample 2000\n"
     ]
    },
    {
     "name": "stderr",
     "output_type": "stream",
     "text": [
      "No GPU detected, fall back on CPU.\n"
     ]
    },
    {
     "name": "stdout",
     "output_type": "stream",
     "text": [
      "Shift p-vals:  0.9800000190734863\n"
     ]
    },
    {
     "name": "stderr",
     "output_type": "stream",
     "text": [
      "No GPU detected, fall back on CPU.\n",
      "No GPU detected, fall back on CPU.\n",
      "No GPU detected, fall back on CPU.\n",
      "No GPU detected, fall back on CPU.\n"
     ]
    },
    {
     "name": "stdout",
     "output_type": "stream",
     "text": [
      "Random Run 1 : Sample 10\n",
      "Shift p-vals:  0.4399999976158142\n",
      "Random Run 1 : Sample 20\n",
      "Shift p-vals:  0.07000000029802322\n",
      "Random Run 1 : Sample 50\n",
      "Shift p-vals:  0.6000000238418579\n",
      "Random Run 1 : Sample 100\n"
     ]
    },
    {
     "name": "stderr",
     "output_type": "stream",
     "text": [
      "No GPU detected, fall back on CPU.\n"
     ]
    },
    {
     "name": "stdout",
     "output_type": "stream",
     "text": [
      "Shift p-vals:  0.1599999964237213\n",
      "Random Run 1 : Sample 200\n",
      "Shift p-vals:  0.009999999776482582\n",
      "Random Run 1 : Sample 500\n"
     ]
    },
    {
     "name": "stderr",
     "output_type": "stream",
     "text": [
      "No GPU detected, fall back on CPU.\n",
      "No GPU detected, fall back on CPU.\n"
     ]
    },
    {
     "name": "stdout",
     "output_type": "stream",
     "text": [
      "Shift p-vals:  0.8899999856948853\n",
      "Random Run 1 : Sample 1000\n",
      "Shift p-vals:  0.18000000715255737\n",
      "Random Run 1 : Sample 2000\n"
     ]
    },
    {
     "name": "stderr",
     "output_type": "stream",
     "text": [
      "No GPU detected, fall back on CPU.\n"
     ]
    },
    {
     "name": "stdout",
     "output_type": "stream",
     "text": [
      "Shift p-vals:  0.5400000214576721\n"
     ]
    },
    {
     "name": "stderr",
     "output_type": "stream",
     "text": [
      "No GPU detected, fall back on CPU.\n",
      "No GPU detected, fall back on CPU.\n",
      "No GPU detected, fall back on CPU.\n",
      "No GPU detected, fall back on CPU.\n"
     ]
    },
    {
     "name": "stdout",
     "output_type": "stream",
     "text": [
      "Random Run 2 : Sample 10\n",
      "Shift p-vals:  0.41999998688697815\n",
      "Random Run 2 : Sample 20\n",
      "Shift p-vals:  0.3100000023841858\n",
      "Random Run 2 : Sample 50\n",
      "Shift p-vals:  0.30000001192092896\n",
      "Random Run 2 : Sample 100\n"
     ]
    },
    {
     "name": "stderr",
     "output_type": "stream",
     "text": [
      "No GPU detected, fall back on CPU.\n"
     ]
    },
    {
     "name": "stdout",
     "output_type": "stream",
     "text": [
      "Shift p-vals:  0.8500000238418579\n",
      "Random Run 2 : Sample 200\n"
     ]
    },
    {
     "name": "stderr",
     "output_type": "stream",
     "text": [
      "No GPU detected, fall back on CPU.\n"
     ]
    },
    {
     "name": "stdout",
     "output_type": "stream",
     "text": [
      "Shift p-vals:  0.6399999856948853\n",
      "Random Run 2 : Sample 500\n",
      "Shift p-vals:  0.7699999809265137\n",
      "Random Run 2 : Sample 1000\n"
     ]
    },
    {
     "name": "stderr",
     "output_type": "stream",
     "text": [
      "No GPU detected, fall back on CPU.\n",
      "No GPU detected, fall back on CPU.\n"
     ]
    },
    {
     "name": "stdout",
     "output_type": "stream",
     "text": [
      "Shift p-vals:  0.8500000238418579\n",
      "Random Run 2 : Sample 2000\n",
      "Shift p-vals:  0.8600000143051147\n"
     ]
    },
    {
     "name": "stderr",
     "output_type": "stream",
     "text": [
      "No GPU detected, fall back on CPU.\n",
      "No GPU detected, fall back on CPU.\n",
      "No GPU detected, fall back on CPU.\n",
      "No GPU detected, fall back on CPU.\n"
     ]
    },
    {
     "name": "stdout",
     "output_type": "stream",
     "text": [
      "Random Run 3 : Sample 10\n",
      "Shift p-vals:  0.7400000095367432\n",
      "Random Run 3 : Sample 20\n",
      "Shift p-vals:  0.5799999833106995\n",
      "Random Run 3 : Sample 50\n",
      "Shift p-vals:  0.1899999976158142\n",
      "Random Run 3 : Sample 100\n"
     ]
    },
    {
     "name": "stderr",
     "output_type": "stream",
     "text": [
      "No GPU detected, fall back on CPU.\n"
     ]
    },
    {
     "name": "stdout",
     "output_type": "stream",
     "text": [
      "Shift p-vals:  0.47999998927116394\n",
      "Random Run 3 : Sample 200\n",
      "Shift p-vals:  0.949999988079071\n",
      "Random Run 3 : Sample 500\n"
     ]
    },
    {
     "name": "stderr",
     "output_type": "stream",
     "text": [
      "No GPU detected, fall back on CPU.\n",
      "No GPU detected, fall back on CPU.\n"
     ]
    },
    {
     "name": "stdout",
     "output_type": "stream",
     "text": [
      "Shift p-vals:  0.8199999928474426\n",
      "Random Run 3 : Sample 1000\n"
     ]
    },
    {
     "name": "stderr",
     "output_type": "stream",
     "text": [
      "No GPU detected, fall back on CPU.\n"
     ]
    },
    {
     "name": "stdout",
     "output_type": "stream",
     "text": [
      "Shift p-vals:  1.0\n",
      "Random Run 3 : Sample 2000\n",
      "Shift p-vals:  0.009999999776482582\n"
     ]
    },
    {
     "name": "stderr",
     "output_type": "stream",
     "text": [
      "No GPU detected, fall back on CPU.\n",
      "No GPU detected, fall back on CPU.\n",
      "No GPU detected, fall back on CPU.\n",
      "No GPU detected, fall back on CPU.\n"
     ]
    },
    {
     "name": "stdout",
     "output_type": "stream",
     "text": [
      "Random Run 4 : Sample 10\n",
      "Shift p-vals:  0.38999998569488525\n",
      "Random Run 4 : Sample 20\n",
      "Shift p-vals:  0.09000000357627869\n",
      "Random Run 4 : Sample 50\n",
      "Shift p-vals:  0.699999988079071\n",
      "Random Run 4 : Sample 100\n"
     ]
    },
    {
     "name": "stderr",
     "output_type": "stream",
     "text": [
      "No GPU detected, fall back on CPU.\n",
      "No GPU detected, fall back on CPU.\n"
     ]
    },
    {
     "name": "stdout",
     "output_type": "stream",
     "text": [
      "Shift p-vals:  0.3100000023841858\n",
      "Random Run 4 : Sample 200\n",
      "Shift p-vals:  0.6399999856948853\n",
      "Random Run 4 : Sample 500\n"
     ]
    },
    {
     "name": "stderr",
     "output_type": "stream",
     "text": [
      "No GPU detected, fall back on CPU.\n"
     ]
    },
    {
     "name": "stdout",
     "output_type": "stream",
     "text": [
      "Shift p-vals:  0.46000000834465027\n",
      "Random Run 4 : Sample 1000\n",
      "Shift p-vals:  0.11999999731779099\n",
      "Random Run 4 : Sample 2000\n"
     ]
    },
    {
     "name": "stderr",
     "output_type": "stream",
     "text": [
      "No GPU detected, fall back on CPU.\n",
      "torch.range is deprecated and will be removed in a future release because its behavior is inconsistent with Python's range builtin. Instead, use torch.arange, which produces values in [start, end).\n"
     ]
    },
    {
     "name": "stdout",
     "output_type": "stream",
     "text": [
      "Shift p-vals:  0.6899999976158142\n",
      "pre-covid | MSH | BBSDs_FFNN | LSDD\n",
      "Shift pre-covid\n",
      "Random Run 0 : Sample 10\n",
      "No GPU detected, fall back on CPU.\n",
      "Shift p-vals:  0.07000000029802322\n",
      "Random Run 0 : Sample 20\n",
      "No GPU detected, fall back on CPU.\n",
      "Shift p-vals:  0.9900000095367432\n",
      "Random Run 0 : Sample 50\n",
      "No GPU detected, fall back on CPU.\n",
      "Shift p-vals:  0.5400000214576721\n",
      "Random Run 0 : Sample 100\n",
      "No GPU detected, fall back on CPU.\n",
      "Shift p-vals:  0.07000000029802322\n",
      "Random Run 0 : Sample 200\n",
      "No GPU detected, fall back on CPU.\n",
      "Shift p-vals:  0.9399999976158142\n",
      "Random Run 0 : Sample 500\n",
      "No GPU detected, fall back on CPU.\n",
      "Shift p-vals:  0.33000001311302185\n",
      "Random Run 0 : Sample 1000\n",
      "No GPU detected, fall back on CPU.\n",
      "Shift p-vals:  0.41999998688697815\n",
      "Random Run 0 : Sample 2000\n",
      "No GPU detected, fall back on CPU.\n",
      "Shift p-vals:  0.03999999910593033\n",
      "Random Run 1 : Sample 10\n",
      "No GPU detected, fall back on CPU.\n",
      "Shift p-vals:  0.6200000047683716\n",
      "Random Run 1 : Sample 20\n",
      "No GPU detected, fall back on CPU.\n",
      "Shift p-vals:  0.7799999713897705\n",
      "Random Run 1 : Sample 50\n",
      "No GPU detected, fall back on CPU.\n",
      "Shift p-vals:  0.20999999344348907\n",
      "Random Run 1 : Sample 100\n",
      "No GPU detected, fall back on CPU.\n",
      "Shift p-vals:  0.7400000095367432\n",
      "Random Run 1 : Sample 200\n",
      "No GPU detected, fall back on CPU.\n",
      "Shift p-vals:  0.8999999761581421\n",
      "Random Run 1 : Sample 500\n",
      "No GPU detected, fall back on CPU.\n",
      "Shift p-vals:  0.8299999833106995\n",
      "Random Run 1 : Sample 1000\n",
      "No GPU detected, fall back on CPU.\n",
      "Shift p-vals:  0.11999999731779099\n",
      "Random Run 1 : Sample 2000\n",
      "No GPU detected, fall back on CPU.\n",
      "Shift p-vals:  0.36000001430511475\n",
      "Random Run 2 : Sample 10\n",
      "No GPU detected, fall back on CPU.\n",
      "Shift p-vals:  0.0\n",
      "Random Run 2 : Sample 20\n",
      "No GPU detected, fall back on CPU.\n",
      "Shift p-vals:  0.6000000238418579\n",
      "Random Run 2 : Sample 50\n",
      "No GPU detected, fall back on CPU.\n",
      "Shift p-vals:  0.27000001072883606\n",
      "Random Run 2 : Sample 100\n",
      "No GPU detected, fall back on CPU.\n",
      "Shift p-vals:  0.6100000143051147\n",
      "Random Run 2 : Sample 200\n",
      "No GPU detected, fall back on CPU.\n",
      "Shift p-vals:  0.4699999988079071\n",
      "Random Run 2 : Sample 500\n",
      "No GPU detected, fall back on CPU.\n",
      "Shift p-vals:  0.7599999904632568\n",
      "Random Run 2 : Sample 1000\n",
      "No GPU detected, fall back on CPU.\n",
      "Shift p-vals:  0.3499999940395355\n",
      "Random Run 2 : Sample 2000\n",
      "No GPU detected, fall back on CPU.\n",
      "Shift p-vals:  0.75\n",
      "Random Run 3 : Sample 10\n",
      "No GPU detected, fall back on CPU.\n",
      "Shift p-vals:  0.5899999737739563\n",
      "Random Run 3 : Sample 20\n",
      "No GPU detected, fall back on CPU.\n",
      "Shift p-vals:  1.0\n",
      "Random Run 3 : Sample 50\n",
      "No GPU detected, fall back on CPU.\n",
      "Shift p-vals:  0.9200000166893005\n",
      "Random Run 3 : Sample 100\n",
      "No GPU detected, fall back on CPU.\n",
      "Shift p-vals:  0.05000000074505806\n",
      "Random Run 3 : Sample 200\n",
      "No GPU detected, fall back on CPU.\n",
      "Shift p-vals:  0.23999999463558197\n",
      "Random Run 3 : Sample 500\n",
      "No GPU detected, fall back on CPU.\n",
      "Shift p-vals:  0.9700000286102295\n",
      "Random Run 3 : Sample 1000\n",
      "No GPU detected, fall back on CPU.\n",
      "Shift p-vals:  0.2199999988079071\n",
      "Random Run 3 : Sample 2000\n",
      "No GPU detected, fall back on CPU.\n",
      "Shift p-vals:  0.3400000035762787\n",
      "Random Run 4 : Sample 10\n",
      "No GPU detected, fall back on CPU.\n",
      "Shift p-vals:  0.28999999165534973\n",
      "Random Run 4 : Sample 20\n",
      "No GPU detected, fall back on CPU.\n",
      "Shift p-vals:  0.6499999761581421\n",
      "Random Run 4 : Sample 50\n",
      "No GPU detected, fall back on CPU.\n",
      "Shift p-vals:  0.7699999809265137\n",
      "Random Run 4 : Sample 100\n",
      "No GPU detected, fall back on CPU.\n",
      "Shift p-vals:  0.6200000047683716\n",
      "Random Run 4 : Sample 200\n",
      "No GPU detected, fall back on CPU.\n",
      "Shift p-vals:  0.36000001430511475\n",
      "Random Run 4 : Sample 500\n",
      "No GPU detected, fall back on CPU.\n",
      "Shift p-vals:  0.49000000953674316\n",
      "Random Run 4 : Sample 1000\n",
      "No GPU detected, fall back on CPU.\n",
      "Shift p-vals:  0.23999999463558197\n",
      "Random Run 4 : Sample 2000\n",
      "No GPU detected, fall back on CPU.\n",
      "Shift p-vals:  0.20999999344348907\n",
      "covid | SMH | NoRed | MMD\n",
      "Shift covid\n"
     ]
    },
    {
     "name": "stderr",
     "output_type": "stream",
     "text": [
      "torch.range is deprecated and will be removed in a future release because its behavior is inconsistent with Python's range builtin. Instead, use torch.arange, which produces values in [start, end).\n"
     ]
    },
    {
     "name": "stdout",
     "output_type": "stream",
     "text": [
      "Random Run 0 : Sample 10\n",
      "No GPU detected, fall back on CPU.\n",
      "Shift p-vals:  0.0\n",
      "Random Run 0 : Sample 20\n",
      "No GPU detected, fall back on CPU.\n",
      "Shift p-vals:  0.009999999776482582\n",
      "Random Run 0 : Sample 50\n",
      "No GPU detected, fall back on CPU.\n",
      "Shift p-vals:  0.029999999329447746\n",
      "Random Run 0 : Sample 100\n",
      "No GPU detected, fall back on CPU.\n",
      "Shift p-vals:  0.009999999776482582\n",
      "Random Run 0 : Sample 200\n",
      "No GPU detected, fall back on CPU.\n",
      "Shift p-vals:  0.0\n",
      "Random Run 0 : Sample 500\n",
      "No GPU detected, fall back on CPU.\n",
      "Shift p-vals:  0.0\n",
      "Random Run 0 : Sample 1000\n",
      "No GPU detected, fall back on CPU.\n",
      "Shift p-vals:  0.0\n",
      "Random Run 0 : Sample 2000\n",
      "No GPU detected, fall back on CPU.\n",
      "Shift p-vals:  0.0\n",
      "Random Run 1 : Sample 10\n",
      "No GPU detected, fall back on CPU.\n",
      "Shift p-vals:  0.05999999865889549\n",
      "Random Run 1 : Sample 20\n",
      "No GPU detected, fall back on CPU.\n",
      "Shift p-vals:  0.1899999976158142\n",
      "Random Run 1 : Sample 50\n",
      "No GPU detected, fall back on CPU.\n",
      "Shift p-vals:  0.009999999776482582\n",
      "Random Run 1 : Sample 100\n",
      "No GPU detected, fall back on CPU.\n",
      "Shift p-vals:  0.009999999776482582\n",
      "Random Run 1 : Sample 200\n",
      "No GPU detected, fall back on CPU.\n",
      "Shift p-vals:  0.0\n",
      "Random Run 1 : Sample 500\n",
      "No GPU detected, fall back on CPU.\n",
      "Shift p-vals:  0.0\n",
      "Random Run 1 : Sample 1000\n",
      "No GPU detected, fall back on CPU.\n",
      "Shift p-vals:  0.0\n",
      "Random Run 1 : Sample 2000\n",
      "No GPU detected, fall back on CPU.\n",
      "Shift p-vals:  0.0\n",
      "Random Run 2 : Sample 10\n",
      "No GPU detected, fall back on CPU.\n",
      "Shift p-vals:  0.05999999865889549\n",
      "Random Run 2 : Sample 20\n",
      "No GPU detected, fall back on CPU.\n",
      "Shift p-vals:  0.10000000149011612\n",
      "Random Run 2 : Sample 50\n",
      "No GPU detected, fall back on CPU.\n",
      "Shift p-vals:  0.009999999776482582\n",
      "Random Run 2 : Sample 100\n",
      "No GPU detected, fall back on CPU.\n",
      "Shift p-vals:  0.009999999776482582\n",
      "Random Run 2 : Sample 200\n",
      "No GPU detected, fall back on CPU.\n",
      "Shift p-vals:  0.11999999731779099\n",
      "Random Run 2 : Sample 500\n",
      "No GPU detected, fall back on CPU.\n",
      "Shift p-vals:  0.0\n",
      "Random Run 2 : Sample 1000\n",
      "No GPU detected, fall back on CPU.\n",
      "Shift p-vals:  0.0\n",
      "Random Run 2 : Sample 2000\n",
      "No GPU detected, fall back on CPU.\n",
      "Shift p-vals:  0.0\n",
      "Random Run 3 : Sample 10\n",
      "No GPU detected, fall back on CPU.\n",
      "Shift p-vals:  0.07999999821186066\n",
      "Random Run 3 : Sample 20\n",
      "No GPU detected, fall back on CPU.\n",
      "Shift p-vals:  0.14000000059604645\n",
      "Random Run 3 : Sample 50\n",
      "No GPU detected, fall back on CPU.\n",
      "Shift p-vals:  0.28999999165534973\n",
      "Random Run 3 : Sample 100\n",
      "No GPU detected, fall back on CPU.\n",
      "Shift p-vals:  0.07999999821186066\n",
      "Random Run 3 : Sample 200\n",
      "No GPU detected, fall back on CPU.\n",
      "Shift p-vals:  0.0\n",
      "Random Run 3 : Sample 500\n",
      "No GPU detected, fall back on CPU.\n",
      "Shift p-vals:  0.0\n",
      "Random Run 3 : Sample 1000\n",
      "No GPU detected, fall back on CPU.\n",
      "Shift p-vals:  0.0\n",
      "Random Run 3 : Sample 2000\n",
      "No GPU detected, fall back on CPU.\n",
      "Shift p-vals:  0.0\n",
      "Random Run 4 : Sample 10\n",
      "No GPU detected, fall back on CPU.\n",
      "Shift p-vals:  0.20999999344348907\n",
      "Random Run 4 : Sample 20\n",
      "No GPU detected, fall back on CPU.\n",
      "Shift p-vals:  0.2199999988079071\n",
      "Random Run 4 : Sample 50\n",
      "No GPU detected, fall back on CPU.\n",
      "Shift p-vals:  0.09000000357627869\n",
      "Random Run 4 : Sample 100\n",
      "No GPU detected, fall back on CPU.\n",
      "Shift p-vals:  0.019999999552965164\n",
      "Random Run 4 : Sample 200\n",
      "No GPU detected, fall back on CPU.\n",
      "Shift p-vals:  0.009999999776482582\n",
      "Random Run 4 : Sample 500\n",
      "No GPU detected, fall back on CPU.\n",
      "Shift p-vals:  0.0\n",
      "Random Run 4 : Sample 1000\n",
      "No GPU detected, fall back on CPU.\n",
      "Shift p-vals:  0.0\n",
      "Random Run 4 : Sample 2000\n",
      "No GPU detected, fall back on CPU.\n",
      "Shift p-vals:  0.0\n",
      "covid | SMH | NoRed | LK\n",
      "Shift covid\n"
     ]
    },
    {
     "name": "stderr",
     "output_type": "stream",
     "text": [
      "torch.range is deprecated and will be removed in a future release because its behavior is inconsistent with Python's range builtin. Instead, use torch.arange, which produces values in [start, end).\n",
      "No GPU detected, fall back on CPU.\n",
      "No GPU detected, fall back on CPU.\n",
      "No GPU detected, fall back on CPU.\n",
      "No GPU detected, fall back on CPU.\n"
     ]
    },
    {
     "name": "stdout",
     "output_type": "stream",
     "text": [
      "Random Run 0 : Sample 10\n",
      "Shift p-vals:  0.5299999713897705\n",
      "Random Run 0 : Sample 20\n",
      "Shift p-vals:  0.28999999165534973\n",
      "Random Run 0 : Sample 50\n",
      "Shift p-vals:  0.44999998807907104\n",
      "Random Run 0 : Sample 100\n"
     ]
    },
    {
     "name": "stderr",
     "output_type": "stream",
     "text": [
      "No GPU detected, fall back on CPU.\n"
     ]
    },
    {
     "name": "stdout",
     "output_type": "stream",
     "text": [
      "Shift p-vals:  0.9200000166893005\n",
      "Random Run 0 : Sample 200\n"
     ]
    },
    {
     "name": "stderr",
     "output_type": "stream",
     "text": [
      "No GPU detected, fall back on CPU.\n"
     ]
    },
    {
     "name": "stdout",
     "output_type": "stream",
     "text": [
      "Shift p-vals:  0.5799999833106995\n",
      "Random Run 0 : Sample 500\n"
     ]
    },
    {
     "name": "stderr",
     "output_type": "stream",
     "text": [
      "No GPU detected, fall back on CPU.\n"
     ]
    },
    {
     "name": "stdout",
     "output_type": "stream",
     "text": [
      "Shift p-vals:  0.6499999761581421\n",
      "Random Run 0 : Sample 1000\n"
     ]
    },
    {
     "name": "stderr",
     "output_type": "stream",
     "text": [
      "No GPU detected, fall back on CPU.\n"
     ]
    },
    {
     "name": "stdout",
     "output_type": "stream",
     "text": [
      "Shift p-vals:  0.949999988079071\n",
      "Random Run 0 : Sample 2000\n",
      "Shift p-vals:  0.36000001430511475\n"
     ]
    },
    {
     "name": "stderr",
     "output_type": "stream",
     "text": [
      "No GPU detected, fall back on CPU.\n",
      "No GPU detected, fall back on CPU.\n",
      "No GPU detected, fall back on CPU.\n",
      "No GPU detected, fall back on CPU.\n"
     ]
    },
    {
     "name": "stdout",
     "output_type": "stream",
     "text": [
      "Random Run 1 : Sample 10\n",
      "Shift p-vals:  0.12999999523162842\n",
      "Random Run 1 : Sample 20\n",
      "Shift p-vals:  0.05000000074505806\n",
      "Random Run 1 : Sample 50\n",
      "Shift p-vals:  0.07999999821186066\n",
      "Random Run 1 : Sample 100\n"
     ]
    },
    {
     "name": "stderr",
     "output_type": "stream",
     "text": [
      "No GPU detected, fall back on CPU.\n"
     ]
    },
    {
     "name": "stdout",
     "output_type": "stream",
     "text": [
      "Shift p-vals:  0.09000000357627869\n",
      "Random Run 1 : Sample 200\n"
     ]
    },
    {
     "name": "stderr",
     "output_type": "stream",
     "text": [
      "No GPU detected, fall back on CPU.\n"
     ]
    },
    {
     "name": "stdout",
     "output_type": "stream",
     "text": [
      "Shift p-vals:  0.7099999785423279\n",
      "Random Run 1 : Sample 500\n"
     ]
    },
    {
     "name": "stderr",
     "output_type": "stream",
     "text": [
      "No GPU detected, fall back on CPU.\n"
     ]
    },
    {
     "name": "stdout",
     "output_type": "stream",
     "text": [
      "Shift p-vals:  0.8500000238418579\n",
      "Random Run 1 : Sample 1000\n"
     ]
    },
    {
     "name": "stderr",
     "output_type": "stream",
     "text": [
      "No GPU detected, fall back on CPU.\n"
     ]
    },
    {
     "name": "stdout",
     "output_type": "stream",
     "text": [
      "Shift p-vals:  0.44999998807907104\n",
      "Random Run 1 : Sample 2000\n",
      "Shift p-vals:  0.019999999552965164\n"
     ]
    },
    {
     "name": "stderr",
     "output_type": "stream",
     "text": [
      "No GPU detected, fall back on CPU.\n",
      "No GPU detected, fall back on CPU.\n",
      "No GPU detected, fall back on CPU.\n",
      "No GPU detected, fall back on CPU.\n"
     ]
    },
    {
     "name": "stdout",
     "output_type": "stream",
     "text": [
      "Random Run 2 : Sample 10\n",
      "Shift p-vals:  0.7799999713897705\n",
      "Random Run 2 : Sample 20\n",
      "Shift p-vals:  0.7200000286102295\n",
      "Random Run 2 : Sample 50\n",
      "Shift p-vals:  0.029999999329447746\n",
      "Random Run 2 : Sample 100\n"
     ]
    },
    {
     "name": "stderr",
     "output_type": "stream",
     "text": [
      "No GPU detected, fall back on CPU.\n"
     ]
    },
    {
     "name": "stdout",
     "output_type": "stream",
     "text": [
      "Shift p-vals:  0.7099999785423279\n",
      "Random Run 2 : Sample 200\n"
     ]
    },
    {
     "name": "stderr",
     "output_type": "stream",
     "text": [
      "No GPU detected, fall back on CPU.\n"
     ]
    },
    {
     "name": "stdout",
     "output_type": "stream",
     "text": [
      "Shift p-vals:  0.27000001072883606\n",
      "Random Run 2 : Sample 500\n"
     ]
    },
    {
     "name": "stderr",
     "output_type": "stream",
     "text": [
      "No GPU detected, fall back on CPU.\n"
     ]
    },
    {
     "name": "stdout",
     "output_type": "stream",
     "text": [
      "Shift p-vals:  0.4399999976158142\n",
      "Random Run 2 : Sample 1000\n"
     ]
    },
    {
     "name": "stderr",
     "output_type": "stream",
     "text": [
      "No GPU detected, fall back on CPU.\n"
     ]
    },
    {
     "name": "stdout",
     "output_type": "stream",
     "text": [
      "Shift p-vals:  0.8299999833106995\n",
      "Random Run 2 : Sample 2000\n",
      "Shift p-vals:  0.0\n"
     ]
    },
    {
     "name": "stderr",
     "output_type": "stream",
     "text": [
      "No GPU detected, fall back on CPU.\n",
      "No GPU detected, fall back on CPU.\n",
      "No GPU detected, fall back on CPU.\n",
      "No GPU detected, fall back on CPU.\n"
     ]
    },
    {
     "name": "stdout",
     "output_type": "stream",
     "text": [
      "Random Run 3 : Sample 10\n",
      "Shift p-vals:  1.0\n",
      "Random Run 3 : Sample 20\n",
      "Shift p-vals:  0.3400000035762787\n",
      "Random Run 3 : Sample 50\n",
      "Shift p-vals:  0.25999999046325684\n",
      "Random Run 3 : Sample 100\n"
     ]
    },
    {
     "name": "stderr",
     "output_type": "stream",
     "text": [
      "No GPU detected, fall back on CPU.\n"
     ]
    },
    {
     "name": "stdout",
     "output_type": "stream",
     "text": [
      "Shift p-vals:  0.46000000834465027\n",
      "Random Run 3 : Sample 200\n"
     ]
    },
    {
     "name": "stderr",
     "output_type": "stream",
     "text": [
      "No GPU detected, fall back on CPU.\n"
     ]
    },
    {
     "name": "stdout",
     "output_type": "stream",
     "text": [
      "Shift p-vals:  0.12999999523162842\n",
      "Random Run 3 : Sample 500\n"
     ]
    },
    {
     "name": "stderr",
     "output_type": "stream",
     "text": [
      "No GPU detected, fall back on CPU.\n"
     ]
    },
    {
     "name": "stdout",
     "output_type": "stream",
     "text": [
      "Shift p-vals:  0.75\n",
      "Random Run 3 : Sample 1000\n"
     ]
    },
    {
     "name": "stderr",
     "output_type": "stream",
     "text": [
      "No GPU detected, fall back on CPU.\n"
     ]
    },
    {
     "name": "stdout",
     "output_type": "stream",
     "text": [
      "Shift p-vals:  0.6299999952316284\n",
      "Random Run 3 : Sample 2000\n",
      "Shift p-vals:  0.07999999821186066\n"
     ]
    },
    {
     "name": "stderr",
     "output_type": "stream",
     "text": [
      "No GPU detected, fall back on CPU.\n",
      "No GPU detected, fall back on CPU.\n",
      "No GPU detected, fall back on CPU.\n",
      "No GPU detected, fall back on CPU.\n"
     ]
    },
    {
     "name": "stdout",
     "output_type": "stream",
     "text": [
      "Random Run 4 : Sample 10\n",
      "Shift p-vals:  0.75\n",
      "Random Run 4 : Sample 20\n",
      "Shift p-vals:  0.9300000071525574\n",
      "Random Run 4 : Sample 50\n",
      "Shift p-vals:  0.0\n",
      "Random Run 4 : Sample 100\n"
     ]
    },
    {
     "name": "stderr",
     "output_type": "stream",
     "text": [
      "No GPU detected, fall back on CPU.\n"
     ]
    },
    {
     "name": "stdout",
     "output_type": "stream",
     "text": [
      "Shift p-vals:  0.7599999904632568\n",
      "Random Run 4 : Sample 200\n"
     ]
    },
    {
     "name": "stderr",
     "output_type": "stream",
     "text": [
      "No GPU detected, fall back on CPU.\n"
     ]
    },
    {
     "name": "stdout",
     "output_type": "stream",
     "text": [
      "Shift p-vals:  0.5400000214576721\n",
      "Random Run 4 : Sample 500\n"
     ]
    },
    {
     "name": "stderr",
     "output_type": "stream",
     "text": [
      "No GPU detected, fall back on CPU.\n"
     ]
    },
    {
     "name": "stdout",
     "output_type": "stream",
     "text": [
      "Shift p-vals:  0.699999988079071\n",
      "Random Run 4 : Sample 1000\n"
     ]
    },
    {
     "name": "stderr",
     "output_type": "stream",
     "text": [
      "No GPU detected, fall back on CPU.\n"
     ]
    },
    {
     "name": "stdout",
     "output_type": "stream",
     "text": [
      "Shift p-vals:  0.2199999988079071\n",
      "Random Run 4 : Sample 2000\n",
      "Shift p-vals:  0.5199999809265137\n",
      "covid | SMH | NoRed | LSDD\n",
      "Shift covid\n"
     ]
    },
    {
     "name": "stderr",
     "output_type": "stream",
     "text": [
      "torch.range is deprecated and will be removed in a future release because its behavior is inconsistent with Python's range builtin. Instead, use torch.arange, which produces values in [start, end).\n"
     ]
    },
    {
     "name": "stdout",
     "output_type": "stream",
     "text": [
      "Random Run 0 : Sample 10\n",
      "No GPU detected, fall back on CPU.\n",
      "Shift p-vals:  0.009999999776482582\n",
      "Random Run 0 : Sample 20\n",
      "No GPU detected, fall back on CPU.\n",
      "Shift p-vals:  0.14000000059604645\n",
      "Random Run 0 : Sample 50\n",
      "No GPU detected, fall back on CPU.\n",
      "Shift p-vals:  0.009999999776482582\n",
      "Random Run 0 : Sample 100\n",
      "No GPU detected, fall back on CPU.\n",
      "Shift p-vals:  0.25\n",
      "Random Run 0 : Sample 200\n",
      "No GPU detected, fall back on CPU.\n",
      "Shift p-vals:  0.0\n",
      "Random Run 0 : Sample 500\n",
      "No GPU detected, fall back on CPU.\n",
      "Shift p-vals:  0.0\n",
      "Random Run 0 : Sample 1000\n",
      "No GPU detected, fall back on CPU.\n",
      "Shift p-vals:  0.0\n",
      "Random Run 0 : Sample 2000\n",
      "No GPU detected, fall back on CPU.\n",
      "Shift p-vals:  0.0\n",
      "Random Run 1 : Sample 10\n",
      "No GPU detected, fall back on CPU.\n",
      "Shift p-vals:  0.7099999785423279\n",
      "Random Run 1 : Sample 20\n",
      "No GPU detected, fall back on CPU.\n",
      "Shift p-vals:  0.03999999910593033\n",
      "Random Run 1 : Sample 50\n",
      "No GPU detected, fall back on CPU.\n",
      "Shift p-vals:  0.029999999329447746\n",
      "Random Run 1 : Sample 100\n",
      "No GPU detected, fall back on CPU.\n",
      "Shift p-vals:  0.0\n",
      "Random Run 1 : Sample 200\n",
      "No GPU detected, fall back on CPU.\n",
      "Shift p-vals:  0.0\n",
      "Random Run 1 : Sample 500\n",
      "No GPU detected, fall back on CPU.\n",
      "Shift p-vals:  0.0\n",
      "Random Run 1 : Sample 1000\n",
      "No GPU detected, fall back on CPU.\n",
      "Shift p-vals:  0.0\n",
      "Random Run 1 : Sample 2000\n",
      "No GPU detected, fall back on CPU.\n",
      "Shift p-vals:  0.0\n",
      "Random Run 2 : Sample 10\n",
      "No GPU detected, fall back on CPU.\n",
      "Shift p-vals:  0.09000000357627869\n",
      "Random Run 2 : Sample 20\n",
      "No GPU detected, fall back on CPU.\n",
      "Shift p-vals:  0.28999999165534973\n",
      "Random Run 2 : Sample 50\n",
      "No GPU detected, fall back on CPU.\n",
      "Shift p-vals:  0.0\n",
      "Random Run 2 : Sample 100\n",
      "No GPU detected, fall back on CPU.\n",
      "Shift p-vals:  0.0\n",
      "Random Run 2 : Sample 200\n",
      "No GPU detected, fall back on CPU.\n",
      "Shift p-vals:  0.0\n",
      "Random Run 2 : Sample 500\n",
      "No GPU detected, fall back on CPU.\n",
      "Shift p-vals:  0.0\n",
      "Random Run 2 : Sample 1000\n",
      "No GPU detected, fall back on CPU.\n",
      "Shift p-vals:  0.0\n",
      "Random Run 2 : Sample 2000\n",
      "No GPU detected, fall back on CPU.\n",
      "Shift p-vals:  0.0\n",
      "Random Run 3 : Sample 10\n",
      "No GPU detected, fall back on CPU.\n",
      "Shift p-vals:  0.23999999463558197\n",
      "Random Run 3 : Sample 20\n",
      "No GPU detected, fall back on CPU.\n",
      "Shift p-vals:  0.009999999776482582\n",
      "Random Run 3 : Sample 50\n",
      "No GPU detected, fall back on CPU.\n",
      "Shift p-vals:  0.4000000059604645\n",
      "Random Run 3 : Sample 100\n",
      "No GPU detected, fall back on CPU.\n",
      "Shift p-vals:  0.23999999463558197\n",
      "Random Run 3 : Sample 200\n",
      "No GPU detected, fall back on CPU.\n",
      "Shift p-vals:  0.0\n",
      "Random Run 3 : Sample 500\n",
      "No GPU detected, fall back on CPU.\n",
      "Shift p-vals:  0.0\n",
      "Random Run 3 : Sample 1000\n",
      "No GPU detected, fall back on CPU.\n",
      "Shift p-vals:  0.0\n",
      "Random Run 3 : Sample 2000\n",
      "No GPU detected, fall back on CPU.\n",
      "Shift p-vals:  0.0\n",
      "Random Run 4 : Sample 10\n",
      "No GPU detected, fall back on CPU.\n",
      "Shift p-vals:  0.12999999523162842\n",
      "Random Run 4 : Sample 20\n",
      "No GPU detected, fall back on CPU.\n",
      "Shift p-vals:  0.12999999523162842\n",
      "Random Run 4 : Sample 50\n",
      "No GPU detected, fall back on CPU.\n",
      "Shift p-vals:  0.7400000095367432\n",
      "Random Run 4 : Sample 100\n",
      "No GPU detected, fall back on CPU.\n",
      "Shift p-vals:  0.0\n",
      "Random Run 4 : Sample 200\n",
      "No GPU detected, fall back on CPU.\n",
      "Shift p-vals:  0.0\n",
      "Random Run 4 : Sample 500\n",
      "No GPU detected, fall back on CPU.\n",
      "Shift p-vals:  0.0\n",
      "Random Run 4 : Sample 1000\n",
      "No GPU detected, fall back on CPU.\n",
      "Shift p-vals:  0.0\n",
      "Random Run 4 : Sample 2000\n",
      "No GPU detected, fall back on CPU.\n",
      "Shift p-vals:  0.0\n",
      "covid | SMH | SRP | MMD\n",
      "Shift covid\n"
     ]
    },
    {
     "name": "stderr",
     "output_type": "stream",
     "text": [
      "torch.range is deprecated and will be removed in a future release because its behavior is inconsistent with Python's range builtin. Instead, use torch.arange, which produces values in [start, end).\n"
     ]
    },
    {
     "name": "stdout",
     "output_type": "stream",
     "text": [
      "Random Run 0 : Sample 10\n",
      "No GPU detected, fall back on CPU.\n",
      "Shift p-vals:  0.33000001311302185\n",
      "Random Run 0 : Sample 20\n",
      "No GPU detected, fall back on CPU.\n",
      "Shift p-vals:  0.9300000071525574\n",
      "Random Run 0 : Sample 50\n",
      "No GPU detected, fall back on CPU.\n",
      "Shift p-vals:  0.07999999821186066\n",
      "Random Run 0 : Sample 100\n",
      "No GPU detected, fall back on CPU.\n",
      "Shift p-vals:  0.3799999952316284\n",
      "Random Run 0 : Sample 200\n",
      "No GPU detected, fall back on CPU.\n",
      "Shift p-vals:  0.0\n",
      "Random Run 0 : Sample 500\n",
      "No GPU detected, fall back on CPU.\n",
      "Shift p-vals:  0.3499999940395355\n",
      "Random Run 0 : Sample 1000\n",
      "No GPU detected, fall back on CPU.\n",
      "Shift p-vals:  0.0\n",
      "Random Run 0 : Sample 2000\n",
      "No GPU detected, fall back on CPU.\n",
      "Shift p-vals:  0.0\n",
      "Random Run 1 : Sample 10\n",
      "No GPU detected, fall back on CPU.\n",
      "Shift p-vals:  0.05000000074505806\n",
      "Random Run 1 : Sample 20\n",
      "No GPU detected, fall back on CPU.\n",
      "Shift p-vals:  0.3499999940395355\n",
      "Random Run 1 : Sample 50\n",
      "No GPU detected, fall back on CPU.\n",
      "Shift p-vals:  0.11999999731779099\n",
      "Random Run 1 : Sample 100\n",
      "No GPU detected, fall back on CPU.\n",
      "Shift p-vals:  0.6800000071525574\n",
      "Random Run 1 : Sample 200\n",
      "No GPU detected, fall back on CPU.\n",
      "Shift p-vals:  0.0\n",
      "Random Run 1 : Sample 500\n",
      "No GPU detected, fall back on CPU.\n",
      "Shift p-vals:  0.0\n",
      "Random Run 1 : Sample 1000\n",
      "No GPU detected, fall back on CPU.\n",
      "Shift p-vals:  0.0\n",
      "Random Run 1 : Sample 2000\n",
      "No GPU detected, fall back on CPU.\n",
      "Shift p-vals:  0.0\n",
      "Random Run 2 : Sample 10\n",
      "No GPU detected, fall back on CPU.\n",
      "Shift p-vals:  0.07999999821186066\n",
      "Random Run 2 : Sample 20\n",
      "No GPU detected, fall back on CPU.\n",
      "Shift p-vals:  0.7200000286102295\n",
      "Random Run 2 : Sample 50\n",
      "No GPU detected, fall back on CPU.\n",
      "Shift p-vals:  0.1899999976158142\n",
      "Random Run 2 : Sample 100\n",
      "No GPU detected, fall back on CPU.\n",
      "Shift p-vals:  0.4000000059604645\n",
      "Random Run 2 : Sample 200\n",
      "No GPU detected, fall back on CPU.\n",
      "Shift p-vals:  0.30000001192092896\n",
      "Random Run 2 : Sample 500\n",
      "No GPU detected, fall back on CPU.\n",
      "Shift p-vals:  0.2800000011920929\n",
      "Random Run 2 : Sample 1000\n",
      "No GPU detected, fall back on CPU.\n",
      "Shift p-vals:  0.0\n",
      "Random Run 2 : Sample 2000\n",
      "No GPU detected, fall back on CPU.\n",
      "Shift p-vals:  0.0\n",
      "Random Run 3 : Sample 10\n",
      "No GPU detected, fall back on CPU.\n",
      "Shift p-vals:  0.1899999976158142\n",
      "Random Run 3 : Sample 20\n",
      "No GPU detected, fall back on CPU.\n",
      "Shift p-vals:  0.23000000417232513\n",
      "Random Run 3 : Sample 50\n",
      "No GPU detected, fall back on CPU.\n",
      "Shift p-vals:  0.550000011920929\n",
      "Random Run 3 : Sample 100\n",
      "No GPU detected, fall back on CPU.\n",
      "Shift p-vals:  0.20000000298023224\n",
      "Random Run 3 : Sample 200\n",
      "No GPU detected, fall back on CPU.\n",
      "Shift p-vals:  0.0\n",
      "Random Run 3 : Sample 500\n",
      "No GPU detected, fall back on CPU.\n",
      "Shift p-vals:  0.009999999776482582\n",
      "Random Run 3 : Sample 1000\n",
      "No GPU detected, fall back on CPU.\n",
      "Shift p-vals:  0.20000000298023224\n",
      "Random Run 3 : Sample 2000\n",
      "No GPU detected, fall back on CPU.\n",
      "Shift p-vals:  0.38999998569488525\n",
      "Random Run 4 : Sample 10\n",
      "No GPU detected, fall back on CPU.\n",
      "Shift p-vals:  0.019999999552965164\n",
      "Random Run 4 : Sample 20\n",
      "No GPU detected, fall back on CPU.\n",
      "Shift p-vals:  0.33000001311302185\n",
      "Random Run 4 : Sample 50\n",
      "No GPU detected, fall back on CPU.\n",
      "Shift p-vals:  0.46000000834465027\n",
      "Random Run 4 : Sample 100\n",
      "No GPU detected, fall back on CPU.\n",
      "Shift p-vals:  0.07000000029802322\n",
      "Random Run 4 : Sample 200\n",
      "No GPU detected, fall back on CPU.\n",
      "Shift p-vals:  0.05999999865889549\n",
      "Random Run 4 : Sample 500\n",
      "No GPU detected, fall back on CPU.\n",
      "Shift p-vals:  0.0\n",
      "Random Run 4 : Sample 1000\n",
      "No GPU detected, fall back on CPU.\n",
      "Shift p-vals:  0.0\n",
      "Random Run 4 : Sample 2000\n",
      "No GPU detected, fall back on CPU.\n",
      "Shift p-vals:  0.25999999046325684\n",
      "covid | SMH | SRP | LK\n",
      "Shift covid\n"
     ]
    },
    {
     "name": "stderr",
     "output_type": "stream",
     "text": [
      "torch.range is deprecated and will be removed in a future release because its behavior is inconsistent with Python's range builtin. Instead, use torch.arange, which produces values in [start, end).\n",
      "No GPU detected, fall back on CPU.\n",
      "No GPU detected, fall back on CPU.\n",
      "No GPU detected, fall back on CPU.\n",
      "No GPU detected, fall back on CPU.\n"
     ]
    },
    {
     "name": "stdout",
     "output_type": "stream",
     "text": [
      "Random Run 0 : Sample 10\n",
      "Shift p-vals:  0.949999988079071\n",
      "Random Run 0 : Sample 20\n",
      "Shift p-vals:  0.14000000059604645\n",
      "Random Run 0 : Sample 50\n",
      "Shift p-vals:  0.49000000953674316\n",
      "Random Run 0 : Sample 100\n"
     ]
    },
    {
     "name": "stderr",
     "output_type": "stream",
     "text": [
      "No GPU detected, fall back on CPU.\n"
     ]
    },
    {
     "name": "stdout",
     "output_type": "stream",
     "text": [
      "Shift p-vals:  0.27000001072883606\n",
      "Random Run 0 : Sample 200\n"
     ]
    },
    {
     "name": "stderr",
     "output_type": "stream",
     "text": [
      "No GPU detected, fall back on CPU.\n"
     ]
    },
    {
     "name": "stdout",
     "output_type": "stream",
     "text": [
      "Shift p-vals:  0.07999999821186066\n",
      "Random Run 0 : Sample 500\n"
     ]
    },
    {
     "name": "stderr",
     "output_type": "stream",
     "text": [
      "No GPU detected, fall back on CPU.\n"
     ]
    },
    {
     "name": "stdout",
     "output_type": "stream",
     "text": [
      "Shift p-vals:  0.8899999856948853\n",
      "Random Run 0 : Sample 1000\n"
     ]
    },
    {
     "name": "stderr",
     "output_type": "stream",
     "text": [
      "No GPU detected, fall back on CPU.\n"
     ]
    },
    {
     "name": "stdout",
     "output_type": "stream",
     "text": [
      "Shift p-vals:  0.019999999552965164\n",
      "Random Run 0 : Sample 2000\n",
      "Shift p-vals:  0.14000000059604645\n"
     ]
    },
    {
     "name": "stderr",
     "output_type": "stream",
     "text": [
      "No GPU detected, fall back on CPU.\n",
      "No GPU detected, fall back on CPU.\n",
      "No GPU detected, fall back on CPU.\n",
      "No GPU detected, fall back on CPU.\n"
     ]
    },
    {
     "name": "stdout",
     "output_type": "stream",
     "text": [
      "Random Run 1 : Sample 10\n",
      "Shift p-vals:  0.800000011920929\n",
      "Random Run 1 : Sample 20\n",
      "Shift p-vals:  0.5400000214576721\n",
      "Random Run 1 : Sample 50\n",
      "Shift p-vals:  0.3700000047683716\n",
      "Random Run 1 : Sample 100\n"
     ]
    },
    {
     "name": "stderr",
     "output_type": "stream",
     "text": [
      "No GPU detected, fall back on CPU.\n"
     ]
    },
    {
     "name": "stdout",
     "output_type": "stream",
     "text": [
      "Shift p-vals:  0.5600000023841858\n",
      "Random Run 1 : Sample 200\n"
     ]
    },
    {
     "name": "stderr",
     "output_type": "stream",
     "text": [
      "No GPU detected, fall back on CPU.\n"
     ]
    },
    {
     "name": "stdout",
     "output_type": "stream",
     "text": [
      "Shift p-vals:  0.7599999904632568\n",
      "Random Run 1 : Sample 500\n"
     ]
    },
    {
     "name": "stderr",
     "output_type": "stream",
     "text": [
      "No GPU detected, fall back on CPU.\n"
     ]
    },
    {
     "name": "stdout",
     "output_type": "stream",
     "text": [
      "Shift p-vals:  0.4000000059604645\n",
      "Random Run 1 : Sample 1000\n"
     ]
    },
    {
     "name": "stderr",
     "output_type": "stream",
     "text": [
      "No GPU detected, fall back on CPU.\n"
     ]
    },
    {
     "name": "stdout",
     "output_type": "stream",
     "text": [
      "Shift p-vals:  0.8700000047683716\n",
      "Random Run 1 : Sample 2000\n",
      "Shift p-vals:  0.019999999552965164\n"
     ]
    },
    {
     "name": "stderr",
     "output_type": "stream",
     "text": [
      "No GPU detected, fall back on CPU.\n",
      "No GPU detected, fall back on CPU.\n",
      "No GPU detected, fall back on CPU.\n",
      "No GPU detected, fall back on CPU.\n"
     ]
    },
    {
     "name": "stdout",
     "output_type": "stream",
     "text": [
      "Random Run 2 : Sample 10\n",
      "Shift p-vals:  1.0\n",
      "Random Run 2 : Sample 20\n",
      "Shift p-vals:  0.6700000166893005\n",
      "Random Run 2 : Sample 50\n",
      "Shift p-vals:  0.17000000178813934\n",
      "Random Run 2 : Sample 100\n"
     ]
    },
    {
     "name": "stderr",
     "output_type": "stream",
     "text": [
      "No GPU detected, fall back on CPU.\n"
     ]
    },
    {
     "name": "stdout",
     "output_type": "stream",
     "text": [
      "Shift p-vals:  0.8700000047683716\n",
      "Random Run 2 : Sample 200\n"
     ]
    },
    {
     "name": "stderr",
     "output_type": "stream",
     "text": [
      "No GPU detected, fall back on CPU.\n"
     ]
    },
    {
     "name": "stdout",
     "output_type": "stream",
     "text": [
      "Shift p-vals:  0.8399999737739563\n",
      "Random Run 2 : Sample 500\n"
     ]
    },
    {
     "name": "stderr",
     "output_type": "stream",
     "text": [
      "No GPU detected, fall back on CPU.\n"
     ]
    },
    {
     "name": "stdout",
     "output_type": "stream",
     "text": [
      "Shift p-vals:  0.25999999046325684\n",
      "Random Run 2 : Sample 1000\n"
     ]
    },
    {
     "name": "stderr",
     "output_type": "stream",
     "text": [
      "No GPU detected, fall back on CPU.\n"
     ]
    },
    {
     "name": "stdout",
     "output_type": "stream",
     "text": [
      "Shift p-vals:  0.6100000143051147\n",
      "Random Run 2 : Sample 2000\n",
      "Shift p-vals:  0.4300000071525574\n"
     ]
    },
    {
     "name": "stderr",
     "output_type": "stream",
     "text": [
      "No GPU detected, fall back on CPU.\n",
      "No GPU detected, fall back on CPU.\n",
      "No GPU detected, fall back on CPU.\n",
      "No GPU detected, fall back on CPU.\n"
     ]
    },
    {
     "name": "stdout",
     "output_type": "stream",
     "text": [
      "Random Run 3 : Sample 10\n",
      "Shift p-vals:  0.8500000238418579\n",
      "Random Run 3 : Sample 20\n",
      "Shift p-vals:  0.6000000238418579\n",
      "Random Run 3 : Sample 50\n",
      "Shift p-vals:  0.3499999940395355\n",
      "Random Run 3 : Sample 100\n"
     ]
    },
    {
     "name": "stderr",
     "output_type": "stream",
     "text": [
      "No GPU detected, fall back on CPU.\n"
     ]
    },
    {
     "name": "stdout",
     "output_type": "stream",
     "text": [
      "Shift p-vals:  0.5199999809265137\n",
      "Random Run 3 : Sample 200\n"
     ]
    },
    {
     "name": "stderr",
     "output_type": "stream",
     "text": [
      "No GPU detected, fall back on CPU.\n"
     ]
    },
    {
     "name": "stdout",
     "output_type": "stream",
     "text": [
      "Shift p-vals:  0.17000000178813934\n",
      "Random Run 3 : Sample 500\n"
     ]
    },
    {
     "name": "stderr",
     "output_type": "stream",
     "text": [
      "No GPU detected, fall back on CPU.\n"
     ]
    },
    {
     "name": "stdout",
     "output_type": "stream",
     "text": [
      "Shift p-vals:  1.0\n",
      "Random Run 3 : Sample 1000\n"
     ]
    },
    {
     "name": "stderr",
     "output_type": "stream",
     "text": [
      "No GPU detected, fall back on CPU.\n"
     ]
    },
    {
     "name": "stdout",
     "output_type": "stream",
     "text": [
      "Shift p-vals:  0.6899999976158142\n",
      "Random Run 3 : Sample 2000\n",
      "Shift p-vals:  0.07000000029802322\n"
     ]
    },
    {
     "name": "stderr",
     "output_type": "stream",
     "text": [
      "No GPU detected, fall back on CPU.\n",
      "No GPU detected, fall back on CPU.\n",
      "No GPU detected, fall back on CPU.\n",
      "No GPU detected, fall back on CPU.\n"
     ]
    },
    {
     "name": "stdout",
     "output_type": "stream",
     "text": [
      "Random Run 4 : Sample 10\n",
      "Shift p-vals:  0.44999998807907104\n",
      "Random Run 4 : Sample 20\n",
      "Shift p-vals:  0.20000000298023224\n",
      "Random Run 4 : Sample 50\n",
      "Shift p-vals:  1.0\n",
      "Random Run 4 : Sample 100\n"
     ]
    },
    {
     "name": "stderr",
     "output_type": "stream",
     "text": [
      "No GPU detected, fall back on CPU.\n"
     ]
    },
    {
     "name": "stdout",
     "output_type": "stream",
     "text": [
      "Shift p-vals:  0.4399999976158142\n",
      "Random Run 4 : Sample 200\n"
     ]
    },
    {
     "name": "stderr",
     "output_type": "stream",
     "text": [
      "No GPU detected, fall back on CPU.\n"
     ]
    },
    {
     "name": "stdout",
     "output_type": "stream",
     "text": [
      "Shift p-vals:  0.05999999865889549\n",
      "Random Run 4 : Sample 500\n"
     ]
    },
    {
     "name": "stderr",
     "output_type": "stream",
     "text": [
      "No GPU detected, fall back on CPU.\n"
     ]
    },
    {
     "name": "stdout",
     "output_type": "stream",
     "text": [
      "Shift p-vals:  0.4399999976158142\n",
      "Random Run 4 : Sample 1000\n"
     ]
    },
    {
     "name": "stderr",
     "output_type": "stream",
     "text": [
      "No GPU detected, fall back on CPU.\n"
     ]
    },
    {
     "name": "stdout",
     "output_type": "stream",
     "text": [
      "Shift p-vals:  0.20000000298023224\n",
      "Random Run 4 : Sample 2000\n",
      "Shift p-vals:  0.7200000286102295\n",
      "covid | SMH | SRP | LSDD\n",
      "Shift covid\n"
     ]
    },
    {
     "name": "stderr",
     "output_type": "stream",
     "text": [
      "torch.range is deprecated and will be removed in a future release because its behavior is inconsistent with Python's range builtin. Instead, use torch.arange, which produces values in [start, end).\n"
     ]
    },
    {
     "name": "stdout",
     "output_type": "stream",
     "text": [
      "Random Run 0 : Sample 10\n",
      "No GPU detected, fall back on CPU.\n",
      "Shift p-vals:  0.9200000166893005\n",
      "Random Run 0 : Sample 20\n",
      "No GPU detected, fall back on CPU.\n",
      "Shift p-vals:  0.9800000190734863\n",
      "Random Run 0 : Sample 50\n",
      "No GPU detected, fall back on CPU.\n",
      "Shift p-vals:  0.9599999785423279\n",
      "Random Run 0 : Sample 100\n",
      "No GPU detected, fall back on CPU.\n",
      "Shift p-vals:  0.17000000178813934\n",
      "Random Run 0 : Sample 200\n",
      "No GPU detected, fall back on CPU.\n",
      "Shift p-vals:  0.0\n",
      "Random Run 0 : Sample 500\n",
      "No GPU detected, fall back on CPU.\n",
      "Shift p-vals:  0.17000000178813934\n",
      "Random Run 0 : Sample 1000\n",
      "No GPU detected, fall back on CPU.\n",
      "Shift p-vals:  0.0\n",
      "Random Run 0 : Sample 2000\n",
      "No GPU detected, fall back on CPU.\n",
      "Shift p-vals:  0.0\n",
      "Random Run 1 : Sample 10\n",
      "No GPU detected, fall back on CPU.\n",
      "Shift p-vals:  0.8399999737739563\n",
      "Random Run 1 : Sample 20\n",
      "No GPU detected, fall back on CPU.\n",
      "Shift p-vals:  0.9900000095367432\n",
      "Random Run 1 : Sample 50\n",
      "No GPU detected, fall back on CPU.\n",
      "Shift p-vals:  0.5\n",
      "Random Run 1 : Sample 100\n",
      "No GPU detected, fall back on CPU.\n",
      "Shift p-vals:  0.6899999976158142\n",
      "Random Run 1 : Sample 200\n",
      "No GPU detected, fall back on CPU.\n",
      "Shift p-vals:  0.05999999865889549\n",
      "Random Run 1 : Sample 500\n",
      "No GPU detected, fall back on CPU.\n",
      "Shift p-vals:  0.0\n",
      "Random Run 1 : Sample 1000\n",
      "No GPU detected, fall back on CPU.\n",
      "Shift p-vals:  0.0\n",
      "Random Run 1 : Sample 2000\n",
      "No GPU detected, fall back on CPU.\n",
      "Shift p-vals:  0.0\n",
      "Random Run 2 : Sample 10\n",
      "No GPU detected, fall back on CPU.\n",
      "Shift p-vals:  0.0\n",
      "Random Run 2 : Sample 20\n",
      "No GPU detected, fall back on CPU.\n",
      "Shift p-vals:  0.8399999737739563\n",
      "Random Run 2 : Sample 50\n",
      "No GPU detected, fall back on CPU.\n",
      "Shift p-vals:  0.25\n",
      "Random Run 2 : Sample 100\n",
      "No GPU detected, fall back on CPU.\n",
      "Shift p-vals:  0.46000000834465027\n",
      "Random Run 2 : Sample 200\n",
      "No GPU detected, fall back on CPU.\n",
      "Shift p-vals:  0.949999988079071\n",
      "Random Run 2 : Sample 500\n",
      "No GPU detected, fall back on CPU.\n",
      "Shift p-vals:  0.0\n",
      "Random Run 2 : Sample 1000\n",
      "No GPU detected, fall back on CPU.\n",
      "Shift p-vals:  0.0\n",
      "Random Run 2 : Sample 2000\n",
      "No GPU detected, fall back on CPU.\n",
      "Shift p-vals:  0.0\n",
      "Random Run 3 : Sample 10\n",
      "No GPU detected, fall back on CPU.\n",
      "Shift p-vals:  0.3799999952316284\n",
      "Random Run 3 : Sample 20\n",
      "No GPU detected, fall back on CPU.\n",
      "Shift p-vals:  0.12999999523162842\n",
      "Random Run 3 : Sample 50\n",
      "No GPU detected, fall back on CPU.\n",
      "Shift p-vals:  0.9399999976158142\n",
      "Random Run 3 : Sample 100\n",
      "No GPU detected, fall back on CPU.\n",
      "Shift p-vals:  0.1899999976158142\n",
      "Random Run 3 : Sample 200\n",
      "No GPU detected, fall back on CPU.\n",
      "Shift p-vals:  0.0\n",
      "Random Run 3 : Sample 500\n",
      "No GPU detected, fall back on CPU.\n",
      "Shift p-vals:  0.0\n",
      "Random Run 3 : Sample 1000\n",
      "No GPU detected, fall back on CPU.\n",
      "Shift p-vals:  0.03999999910593033\n",
      "Random Run 3 : Sample 2000\n",
      "No GPU detected, fall back on CPU.\n",
      "Shift p-vals:  0.009999999776482582\n",
      "Random Run 4 : Sample 10\n",
      "No GPU detected, fall back on CPU.\n",
      "Shift p-vals:  0.029999999329447746\n",
      "Random Run 4 : Sample 20\n",
      "No GPU detected, fall back on CPU.\n",
      "Shift p-vals:  0.23000000417232513\n",
      "Random Run 4 : Sample 50\n",
      "No GPU detected, fall back on CPU.\n",
      "Shift p-vals:  0.7400000095367432\n",
      "Random Run 4 : Sample 100\n",
      "No GPU detected, fall back on CPU.\n",
      "Shift p-vals:  0.15000000596046448\n",
      "Random Run 4 : Sample 200\n",
      "No GPU detected, fall back on CPU.\n",
      "Shift p-vals:  0.0\n",
      "Random Run 4 : Sample 500\n",
      "No GPU detected, fall back on CPU.\n",
      "Shift p-vals:  0.0\n",
      "Random Run 4 : Sample 1000\n",
      "No GPU detected, fall back on CPU.\n",
      "Shift p-vals:  0.0\n",
      "Random Run 4 : Sample 2000\n",
      "No GPU detected, fall back on CPU.\n",
      "Shift p-vals:  0.0\n",
      "covid | SMH | PCA | MMD\n",
      "Shift covid\n"
     ]
    },
    {
     "name": "stderr",
     "output_type": "stream",
     "text": [
      "torch.range is deprecated and will be removed in a future release because its behavior is inconsistent with Python's range builtin. Instead, use torch.arange, which produces values in [start, end).\n"
     ]
    },
    {
     "name": "stdout",
     "output_type": "stream",
     "text": [
      "Random Run 0 : Sample 10\n",
      "No GPU detected, fall back on CPU.\n",
      "Shift p-vals:  0.05000000074505806\n",
      "Random Run 0 : Sample 20\n",
      "No GPU detected, fall back on CPU.\n",
      "Shift p-vals:  0.009999999776482582\n",
      "Random Run 0 : Sample 50\n",
      "No GPU detected, fall back on CPU.\n",
      "Shift p-vals:  0.009999999776482582\n",
      "Random Run 0 : Sample 100\n",
      "No GPU detected, fall back on CPU.\n",
      "Shift p-vals:  0.0\n",
      "Random Run 0 : Sample 200\n",
      "No GPU detected, fall back on CPU.\n",
      "Shift p-vals:  0.009999999776482582\n",
      "Random Run 0 : Sample 500\n",
      "No GPU detected, fall back on CPU.\n",
      "Shift p-vals:  0.0\n",
      "Random Run 0 : Sample 1000\n",
      "No GPU detected, fall back on CPU.\n",
      "Shift p-vals:  0.0\n",
      "Random Run 0 : Sample 2000\n",
      "No GPU detected, fall back on CPU.\n",
      "Shift p-vals:  0.0\n",
      "Random Run 1 : Sample 10\n",
      "No GPU detected, fall back on CPU.\n",
      "Shift p-vals:  0.03999999910593033\n",
      "Random Run 1 : Sample 20\n",
      "No GPU detected, fall back on CPU.\n",
      "Shift p-vals:  0.14000000059604645\n",
      "Random Run 1 : Sample 50\n",
      "No GPU detected, fall back on CPU.\n",
      "Shift p-vals:  0.019999999552965164\n",
      "Random Run 1 : Sample 100\n",
      "No GPU detected, fall back on CPU.\n",
      "Shift p-vals:  0.07000000029802322\n",
      "Random Run 1 : Sample 200\n",
      "No GPU detected, fall back on CPU.\n",
      "Shift p-vals:  0.0\n",
      "Random Run 1 : Sample 500\n",
      "No GPU detected, fall back on CPU.\n",
      "Shift p-vals:  0.0\n",
      "Random Run 1 : Sample 1000\n",
      "No GPU detected, fall back on CPU.\n",
      "Shift p-vals:  0.0\n",
      "Random Run 1 : Sample 2000\n",
      "No GPU detected, fall back on CPU.\n",
      "Shift p-vals:  0.0\n",
      "Random Run 2 : Sample 10\n",
      "No GPU detected, fall back on CPU.\n",
      "Shift p-vals:  0.10000000149011612\n",
      "Random Run 2 : Sample 20\n",
      "No GPU detected, fall back on CPU.\n",
      "Shift p-vals:  0.10999999940395355\n",
      "Random Run 2 : Sample 50\n",
      "No GPU detected, fall back on CPU.\n",
      "Shift p-vals:  0.019999999552965164\n",
      "Random Run 2 : Sample 100\n",
      "No GPU detected, fall back on CPU.\n",
      "Shift p-vals:  0.03999999910593033\n",
      "Random Run 2 : Sample 200\n",
      "No GPU detected, fall back on CPU.\n",
      "Shift p-vals:  0.07000000029802322\n",
      "Random Run 2 : Sample 500\n",
      "No GPU detected, fall back on CPU.\n",
      "Shift p-vals:  0.0\n",
      "Random Run 2 : Sample 1000\n",
      "No GPU detected, fall back on CPU.\n",
      "Shift p-vals:  0.0\n",
      "Random Run 2 : Sample 2000\n",
      "No GPU detected, fall back on CPU.\n",
      "Shift p-vals:  0.0\n",
      "Random Run 3 : Sample 10\n",
      "No GPU detected, fall back on CPU.\n",
      "Shift p-vals:  0.05000000074505806\n",
      "Random Run 3 : Sample 20\n",
      "No GPU detected, fall back on CPU.\n",
      "Shift p-vals:  0.23999999463558197\n",
      "Random Run 3 : Sample 50\n",
      "No GPU detected, fall back on CPU.\n",
      "Shift p-vals:  0.2800000011920929\n",
      "Random Run 3 : Sample 100\n",
      "No GPU detected, fall back on CPU.\n",
      "Shift p-vals:  0.07999999821186066\n",
      "Random Run 3 : Sample 200\n",
      "No GPU detected, fall back on CPU.\n",
      "Shift p-vals:  0.009999999776482582\n",
      "Random Run 3 : Sample 500\n",
      "No GPU detected, fall back on CPU.\n",
      "Shift p-vals:  0.0\n",
      "Random Run 3 : Sample 1000\n",
      "No GPU detected, fall back on CPU.\n",
      "Shift p-vals:  0.0\n",
      "Random Run 3 : Sample 2000\n",
      "No GPU detected, fall back on CPU.\n",
      "Shift p-vals:  0.0\n",
      "Random Run 4 : Sample 10\n",
      "No GPU detected, fall back on CPU.\n",
      "Shift p-vals:  0.3499999940395355\n",
      "Random Run 4 : Sample 20\n",
      "No GPU detected, fall back on CPU.\n",
      "Shift p-vals:  0.2199999988079071\n",
      "Random Run 4 : Sample 50\n",
      "No GPU detected, fall back on CPU.\n",
      "Shift p-vals:  0.12999999523162842\n",
      "Random Run 4 : Sample 100\n",
      "No GPU detected, fall back on CPU.\n",
      "Shift p-vals:  0.009999999776482582\n",
      "Random Run 4 : Sample 200\n",
      "No GPU detected, fall back on CPU.\n",
      "Shift p-vals:  0.009999999776482582\n",
      "Random Run 4 : Sample 500\n",
      "No GPU detected, fall back on CPU.\n",
      "Shift p-vals:  0.0\n",
      "Random Run 4 : Sample 1000\n",
      "No GPU detected, fall back on CPU.\n",
      "Shift p-vals:  0.0\n",
      "Random Run 4 : Sample 2000\n",
      "No GPU detected, fall back on CPU.\n",
      "Shift p-vals:  0.0\n",
      "covid | SMH | PCA | LK\n",
      "Shift covid\n"
     ]
    },
    {
     "name": "stderr",
     "output_type": "stream",
     "text": [
      "torch.range is deprecated and will be removed in a future release because its behavior is inconsistent with Python's range builtin. Instead, use torch.arange, which produces values in [start, end).\n",
      "No GPU detected, fall back on CPU.\n",
      "No GPU detected, fall back on CPU.\n",
      "No GPU detected, fall back on CPU.\n"
     ]
    },
    {
     "name": "stdout",
     "output_type": "stream",
     "text": [
      "Random Run 0 : Sample 10\n",
      "Shift p-vals:  0.6100000143051147\n",
      "Random Run 0 : Sample 20\n",
      "Shift p-vals:  0.23999999463558197\n",
      "Random Run 0 : Sample 50\n"
     ]
    },
    {
     "name": "stderr",
     "output_type": "stream",
     "text": [
      "No GPU detected, fall back on CPU.\n"
     ]
    },
    {
     "name": "stdout",
     "output_type": "stream",
     "text": [
      "Shift p-vals:  0.6800000071525574\n",
      "Random Run 0 : Sample 100\n"
     ]
    },
    {
     "name": "stderr",
     "output_type": "stream",
     "text": [
      "No GPU detected, fall back on CPU.\n"
     ]
    },
    {
     "name": "stdout",
     "output_type": "stream",
     "text": [
      "Shift p-vals:  0.4099999964237213\n",
      "Random Run 0 : Sample 200\n"
     ]
    },
    {
     "name": "stderr",
     "output_type": "stream",
     "text": [
      "No GPU detected, fall back on CPU.\n"
     ]
    },
    {
     "name": "stdout",
     "output_type": "stream",
     "text": [
      "Shift p-vals:  0.44999998807907104\n",
      "Random Run 0 : Sample 500\n"
     ]
    },
    {
     "name": "stderr",
     "output_type": "stream",
     "text": [
      "No GPU detected, fall back on CPU.\n"
     ]
    },
    {
     "name": "stdout",
     "output_type": "stream",
     "text": [
      "Shift p-vals:  0.44999998807907104\n",
      "Random Run 0 : Sample 1000\n"
     ]
    },
    {
     "name": "stderr",
     "output_type": "stream",
     "text": [
      "No GPU detected, fall back on CPU.\n"
     ]
    },
    {
     "name": "stdout",
     "output_type": "stream",
     "text": [
      "Shift p-vals:  0.0\n",
      "Random Run 0 : Sample 2000\n",
      "Shift p-vals:  0.07999999821186066\n"
     ]
    },
    {
     "name": "stderr",
     "output_type": "stream",
     "text": [
      "No GPU detected, fall back on CPU.\n",
      "No GPU detected, fall back on CPU.\n",
      "No GPU detected, fall back on CPU.\n"
     ]
    },
    {
     "name": "stdout",
     "output_type": "stream",
     "text": [
      "Random Run 1 : Sample 10\n",
      "Shift p-vals:  0.25\n",
      "Random Run 1 : Sample 20\n",
      "Shift p-vals:  0.8600000143051147\n",
      "Random Run 1 : Sample 50\n",
      "Shift p-vals:  0.07000000029802322\n",
      "Random Run 1 : Sample 100\n"
     ]
    },
    {
     "name": "stderr",
     "output_type": "stream",
     "text": [
      "No GPU detected, fall back on CPU.\n",
      "No GPU detected, fall back on CPU.\n"
     ]
    },
    {
     "name": "stdout",
     "output_type": "stream",
     "text": [
      "Shift p-vals:  0.7799999713897705\n",
      "Random Run 1 : Sample 200\n"
     ]
    },
    {
     "name": "stderr",
     "output_type": "stream",
     "text": [
      "No GPU detected, fall back on CPU.\n"
     ]
    },
    {
     "name": "stdout",
     "output_type": "stream",
     "text": [
      "Shift p-vals:  0.49000000953674316\n",
      "Random Run 1 : Sample 500\n"
     ]
    },
    {
     "name": "stderr",
     "output_type": "stream",
     "text": [
      "No GPU detected, fall back on CPU.\n"
     ]
    },
    {
     "name": "stdout",
     "output_type": "stream",
     "text": [
      "Shift p-vals:  0.9399999976158142\n",
      "Random Run 1 : Sample 1000\n"
     ]
    },
    {
     "name": "stderr",
     "output_type": "stream",
     "text": [
      "No GPU detected, fall back on CPU.\n"
     ]
    },
    {
     "name": "stdout",
     "output_type": "stream",
     "text": [
      "Shift p-vals:  0.0\n",
      "Random Run 1 : Sample 2000\n",
      "Shift p-vals:  0.23999999463558197\n"
     ]
    },
    {
     "name": "stderr",
     "output_type": "stream",
     "text": [
      "No GPU detected, fall back on CPU.\n",
      "No GPU detected, fall back on CPU.\n",
      "No GPU detected, fall back on CPU.\n"
     ]
    },
    {
     "name": "stdout",
     "output_type": "stream",
     "text": [
      "Random Run 2 : Sample 10\n",
      "Shift p-vals:  0.7599999904632568\n",
      "Random Run 2 : Sample 20\n",
      "Shift p-vals:  0.25999999046325684\n",
      "Random Run 2 : Sample 50\n",
      "Shift p-vals:  0.6800000071525574\n",
      "Random Run 2 : Sample 100\n"
     ]
    },
    {
     "name": "stderr",
     "output_type": "stream",
     "text": [
      "No GPU detected, fall back on CPU.\n",
      "No GPU detected, fall back on CPU.\n"
     ]
    },
    {
     "name": "stdout",
     "output_type": "stream",
     "text": [
      "Shift p-vals:  0.23999999463558197\n",
      "Random Run 2 : Sample 200\n"
     ]
    },
    {
     "name": "stderr",
     "output_type": "stream",
     "text": [
      "No GPU detected, fall back on CPU.\n"
     ]
    },
    {
     "name": "stdout",
     "output_type": "stream",
     "text": [
      "Shift p-vals:  0.8799999952316284\n",
      "Random Run 2 : Sample 500\n"
     ]
    },
    {
     "name": "stderr",
     "output_type": "stream",
     "text": [
      "No GPU detected, fall back on CPU.\n"
     ]
    },
    {
     "name": "stdout",
     "output_type": "stream",
     "text": [
      "Shift p-vals:  0.029999999329447746\n",
      "Random Run 2 : Sample 1000\n"
     ]
    },
    {
     "name": "stderr",
     "output_type": "stream",
     "text": [
      "No GPU detected, fall back on CPU.\n"
     ]
    },
    {
     "name": "stdout",
     "output_type": "stream",
     "text": [
      "Shift p-vals:  0.009999999776482582\n",
      "Random Run 2 : Sample 2000\n",
      "Shift p-vals:  0.0\n"
     ]
    },
    {
     "name": "stderr",
     "output_type": "stream",
     "text": [
      "No GPU detected, fall back on CPU.\n",
      "No GPU detected, fall back on CPU.\n",
      "No GPU detected, fall back on CPU.\n"
     ]
    },
    {
     "name": "stdout",
     "output_type": "stream",
     "text": [
      "Random Run 3 : Sample 10\n",
      "Shift p-vals:  0.12999999523162842\n",
      "Random Run 3 : Sample 20\n",
      "Shift p-vals:  0.09000000357627869\n",
      "Random Run 3 : Sample 50\n",
      "Shift p-vals:  0.5\n",
      "Random Run 3 : Sample 100\n"
     ]
    },
    {
     "name": "stderr",
     "output_type": "stream",
     "text": [
      "No GPU detected, fall back on CPU.\n",
      "No GPU detected, fall back on CPU.\n"
     ]
    },
    {
     "name": "stdout",
     "output_type": "stream",
     "text": [
      "Shift p-vals:  0.5099999904632568\n",
      "Random Run 3 : Sample 200\n"
     ]
    },
    {
     "name": "stderr",
     "output_type": "stream",
     "text": [
      "No GPU detected, fall back on CPU.\n"
     ]
    },
    {
     "name": "stdout",
     "output_type": "stream",
     "text": [
      "Shift p-vals:  0.03999999910593033\n",
      "Random Run 3 : Sample 500\n"
     ]
    },
    {
     "name": "stderr",
     "output_type": "stream",
     "text": [
      "No GPU detected, fall back on CPU.\n"
     ]
    },
    {
     "name": "stdout",
     "output_type": "stream",
     "text": [
      "Shift p-vals:  0.009999999776482582\n",
      "Random Run 3 : Sample 1000\n"
     ]
    },
    {
     "name": "stderr",
     "output_type": "stream",
     "text": [
      "No GPU detected, fall back on CPU.\n"
     ]
    },
    {
     "name": "stdout",
     "output_type": "stream",
     "text": [
      "Shift p-vals:  0.49000000953674316\n",
      "Random Run 3 : Sample 2000\n",
      "Shift p-vals:  0.019999999552965164\n"
     ]
    },
    {
     "name": "stderr",
     "output_type": "stream",
     "text": [
      "No GPU detected, fall back on CPU.\n",
      "No GPU detected, fall back on CPU.\n",
      "No GPU detected, fall back on CPU.\n"
     ]
    },
    {
     "name": "stdout",
     "output_type": "stream",
     "text": [
      "Random Run 4 : Sample 10\n",
      "Shift p-vals:  0.3700000047683716\n",
      "Random Run 4 : Sample 20\n",
      "Shift p-vals:  0.7900000214576721\n",
      "Random Run 4 : Sample 50\n",
      "Shift p-vals:  0.38999998569488525\n",
      "Random Run 4 : Sample 100\n"
     ]
    },
    {
     "name": "stderr",
     "output_type": "stream",
     "text": [
      "No GPU detected, fall back on CPU.\n",
      "No GPU detected, fall back on CPU.\n"
     ]
    },
    {
     "name": "stdout",
     "output_type": "stream",
     "text": [
      "Shift p-vals:  0.019999999552965164\n",
      "Random Run 4 : Sample 200\n"
     ]
    },
    {
     "name": "stderr",
     "output_type": "stream",
     "text": [
      "No GPU detected, fall back on CPU.\n"
     ]
    },
    {
     "name": "stdout",
     "output_type": "stream",
     "text": [
      "Shift p-vals:  0.4000000059604645\n",
      "Random Run 4 : Sample 500\n"
     ]
    },
    {
     "name": "stderr",
     "output_type": "stream",
     "text": [
      "No GPU detected, fall back on CPU.\n"
     ]
    },
    {
     "name": "stdout",
     "output_type": "stream",
     "text": [
      "Shift p-vals:  0.07999999821186066\n",
      "Random Run 4 : Sample 1000\n"
     ]
    },
    {
     "name": "stderr",
     "output_type": "stream",
     "text": [
      "No GPU detected, fall back on CPU.\n"
     ]
    },
    {
     "name": "stdout",
     "output_type": "stream",
     "text": [
      "Shift p-vals:  0.47999998927116394\n",
      "Random Run 4 : Sample 2000\n",
      "Shift p-vals:  0.5799999833106995\n",
      "covid | SMH | PCA | LSDD\n",
      "Shift covid\n"
     ]
    },
    {
     "name": "stderr",
     "output_type": "stream",
     "text": [
      "torch.range is deprecated and will be removed in a future release because its behavior is inconsistent with Python's range builtin. Instead, use torch.arange, which produces values in [start, end).\n"
     ]
    },
    {
     "name": "stdout",
     "output_type": "stream",
     "text": [
      "Random Run 0 : Sample 10\n",
      "No GPU detected, fall back on CPU.\n",
      "Shift p-vals:  0.44999998807907104\n",
      "Random Run 0 : Sample 20\n",
      "No GPU detected, fall back on CPU.\n",
      "Shift p-vals:  0.019999999552965164\n",
      "Random Run 0 : Sample 50\n",
      "No GPU detected, fall back on CPU.\n",
      "Shift p-vals:  0.699999988079071\n",
      "Random Run 0 : Sample 100\n",
      "No GPU detected, fall back on CPU.\n",
      "Shift p-vals:  0.0\n",
      "Random Run 0 : Sample 200\n",
      "No GPU detected, fall back on CPU.\n",
      "Shift p-vals:  0.0\n",
      "Random Run 0 : Sample 500\n",
      "No GPU detected, fall back on CPU.\n",
      "Shift p-vals:  0.0\n",
      "Random Run 0 : Sample 1000\n",
      "No GPU detected, fall back on CPU.\n",
      "Shift p-vals:  0.0\n",
      "Random Run 0 : Sample 2000\n",
      "No GPU detected, fall back on CPU.\n",
      "Shift p-vals:  0.0\n",
      "Random Run 1 : Sample 10\n",
      "No GPU detected, fall back on CPU.\n",
      "Shift p-vals:  0.5600000023841858\n",
      "Random Run 1 : Sample 20\n",
      "No GPU detected, fall back on CPU.\n",
      "Shift p-vals:  0.1899999976158142\n",
      "Random Run 1 : Sample 50\n",
      "No GPU detected, fall back on CPU.\n",
      "Shift p-vals:  0.019999999552965164\n",
      "Random Run 1 : Sample 100\n",
      "No GPU detected, fall back on CPU.\n",
      "Shift p-vals:  0.029999999329447746\n",
      "Random Run 1 : Sample 200\n",
      "No GPU detected, fall back on CPU.\n",
      "Shift p-vals:  0.9300000071525574\n",
      "Random Run 1 : Sample 500\n",
      "No GPU detected, fall back on CPU.\n",
      "Shift p-vals:  0.019999999552965164\n",
      "Random Run 1 : Sample 1000\n",
      "No GPU detected, fall back on CPU.\n",
      "Shift p-vals:  0.009999999776482582\n",
      "Random Run 1 : Sample 2000\n",
      "No GPU detected, fall back on CPU.\n",
      "Shift p-vals:  0.03999999910593033\n",
      "Random Run 2 : Sample 10\n",
      "No GPU detected, fall back on CPU.\n",
      "Shift p-vals:  0.8799999952316284\n",
      "Random Run 2 : Sample 20\n",
      "No GPU detected, fall back on CPU.\n",
      "Shift p-vals:  0.9900000095367432\n",
      "Random Run 2 : Sample 50\n",
      "No GPU detected, fall back on CPU.\n",
      "Shift p-vals:  0.949999988079071\n",
      "Random Run 2 : Sample 100\n",
      "No GPU detected, fall back on CPU.\n",
      "Shift p-vals:  0.3700000047683716\n",
      "Random Run 2 : Sample 200\n",
      "No GPU detected, fall back on CPU.\n",
      "Shift p-vals:  0.25\n",
      "Random Run 2 : Sample 500\n",
      "No GPU detected, fall back on CPU.\n",
      "Shift p-vals:  0.0\n",
      "Random Run 2 : Sample 1000\n",
      "No GPU detected, fall back on CPU.\n",
      "Shift p-vals:  0.0\n",
      "Random Run 2 : Sample 2000\n",
      "No GPU detected, fall back on CPU.\n",
      "Shift p-vals:  0.0\n",
      "Random Run 3 : Sample 10\n",
      "No GPU detected, fall back on CPU.\n",
      "Shift p-vals:  0.05999999865889549\n",
      "Random Run 3 : Sample 20\n",
      "No GPU detected, fall back on CPU.\n",
      "Shift p-vals:  0.05000000074505806\n",
      "Random Run 3 : Sample 50\n",
      "No GPU detected, fall back on CPU.\n",
      "Shift p-vals:  0.25999999046325684\n",
      "Random Run 3 : Sample 100\n",
      "No GPU detected, fall back on CPU.\n",
      "Shift p-vals:  0.0\n",
      "Random Run 3 : Sample 200\n",
      "No GPU detected, fall back on CPU.\n",
      "Shift p-vals:  0.0\n",
      "Random Run 3 : Sample 500\n",
      "No GPU detected, fall back on CPU.\n",
      "Shift p-vals:  0.0\n",
      "Random Run 3 : Sample 1000\n",
      "No GPU detected, fall back on CPU.\n",
      "Shift p-vals:  0.0\n",
      "Random Run 3 : Sample 2000\n",
      "No GPU detected, fall back on CPU.\n",
      "Shift p-vals:  0.0\n",
      "Random Run 4 : Sample 10\n",
      "No GPU detected, fall back on CPU.\n",
      "Shift p-vals:  0.8899999856948853\n",
      "Random Run 4 : Sample 20\n",
      "No GPU detected, fall back on CPU.\n",
      "Shift p-vals:  0.019999999552965164\n",
      "Random Run 4 : Sample 50\n",
      "No GPU detected, fall back on CPU.\n",
      "Shift p-vals:  0.0\n",
      "Random Run 4 : Sample 100\n",
      "No GPU detected, fall back on CPU.\n",
      "Shift p-vals:  0.0\n",
      "Random Run 4 : Sample 200\n",
      "No GPU detected, fall back on CPU.\n",
      "Shift p-vals:  0.009999999776482582\n",
      "Random Run 4 : Sample 500\n",
      "No GPU detected, fall back on CPU.\n",
      "Shift p-vals:  0.0\n",
      "Random Run 4 : Sample 1000\n",
      "No GPU detected, fall back on CPU.\n",
      "Shift p-vals:  0.0\n",
      "Random Run 4 : Sample 2000\n",
      "No GPU detected, fall back on CPU.\n",
      "Shift p-vals:  0.0\n",
      "covid | SMH | BBSDs_FFNN | MMD\n",
      "Shift covid\n"
     ]
    },
    {
     "name": "stderr",
     "output_type": "stream",
     "text": [
      "torch.range is deprecated and will be removed in a future release because its behavior is inconsistent with Python's range builtin. Instead, use torch.arange, which produces values in [start, end).\n"
     ]
    },
    {
     "name": "stdout",
     "output_type": "stream",
     "text": [
      "Random Run 0 : Sample 10\n",
      "No GPU detected, fall back on CPU.\n",
      "Shift p-vals:  0.0\n",
      "Random Run 0 : Sample 20\n",
      "No GPU detected, fall back on CPU.\n",
      "Shift p-vals:  0.6499999761581421\n",
      "Random Run 0 : Sample 50\n",
      "No GPU detected, fall back on CPU.\n",
      "Shift p-vals:  0.20000000298023224\n",
      "Random Run 0 : Sample 100\n",
      "No GPU detected, fall back on CPU.\n",
      "Shift p-vals:  0.0\n",
      "Random Run 0 : Sample 200\n",
      "No GPU detected, fall back on CPU.\n",
      "Shift p-vals:  0.23999999463558197\n",
      "Random Run 0 : Sample 500\n",
      "No GPU detected, fall back on CPU.\n",
      "Shift p-vals:  0.4000000059604645\n",
      "Random Run 0 : Sample 1000\n",
      "No GPU detected, fall back on CPU.\n",
      "Shift p-vals:  0.44999998807907104\n",
      "Random Run 0 : Sample 2000\n",
      "No GPU detected, fall back on CPU.\n",
      "Shift p-vals:  0.05000000074505806\n",
      "Random Run 1 : Sample 10\n",
      "No GPU detected, fall back on CPU.\n",
      "Shift p-vals:  0.07999999821186066\n",
      "Random Run 1 : Sample 20\n",
      "No GPU detected, fall back on CPU.\n",
      "Shift p-vals:  0.8500000238418579\n",
      "Random Run 1 : Sample 50\n",
      "No GPU detected, fall back on CPU.\n",
      "Shift p-vals:  0.05000000074505806\n",
      "Random Run 1 : Sample 100\n",
      "No GPU detected, fall back on CPU.\n",
      "Shift p-vals:  0.5699999928474426\n",
      "Random Run 1 : Sample 200\n",
      "No GPU detected, fall back on CPU.\n",
      "Shift p-vals:  0.12999999523162842\n",
      "Random Run 1 : Sample 500\n",
      "No GPU detected, fall back on CPU.\n",
      "Shift p-vals:  0.0\n",
      "Random Run 1 : Sample 1000\n",
      "No GPU detected, fall back on CPU.\n",
      "Shift p-vals:  0.0\n",
      "Random Run 1 : Sample 2000\n",
      "No GPU detected, fall back on CPU.\n",
      "Shift p-vals:  0.0\n",
      "Random Run 2 : Sample 10\n",
      "No GPU detected, fall back on CPU.\n",
      "Shift p-vals:  0.3799999952316284\n",
      "Random Run 2 : Sample 20\n",
      "No GPU detected, fall back on CPU.\n",
      "Shift p-vals:  0.3199999928474426\n",
      "Random Run 2 : Sample 50\n",
      "No GPU detected, fall back on CPU.\n",
      "Shift p-vals:  0.47999998927116394\n",
      "Random Run 2 : Sample 100\n",
      "No GPU detected, fall back on CPU.\n",
      "Shift p-vals:  0.03999999910593033\n",
      "Random Run 2 : Sample 200\n",
      "No GPU detected, fall back on CPU.\n",
      "Shift p-vals:  0.41999998688697815\n",
      "Random Run 2 : Sample 500\n",
      "No GPU detected, fall back on CPU.\n",
      "Shift p-vals:  0.4000000059604645\n",
      "Random Run 2 : Sample 1000\n",
      "No GPU detected, fall back on CPU.\n",
      "Shift p-vals:  0.6899999976158142\n",
      "Random Run 2 : Sample 2000\n",
      "No GPU detected, fall back on CPU.\n",
      "Shift p-vals:  0.009999999776482582\n",
      "Random Run 3 : Sample 10\n",
      "No GPU detected, fall back on CPU.\n",
      "Shift p-vals:  0.7599999904632568\n",
      "Random Run 3 : Sample 20\n",
      "No GPU detected, fall back on CPU.\n",
      "Shift p-vals:  0.800000011920929\n",
      "Random Run 3 : Sample 50\n",
      "No GPU detected, fall back on CPU.\n",
      "Shift p-vals:  0.4699999988079071\n",
      "Random Run 3 : Sample 100\n",
      "No GPU detected, fall back on CPU.\n",
      "Shift p-vals:  0.009999999776482582\n",
      "Random Run 3 : Sample 200\n",
      "No GPU detected, fall back on CPU.\n",
      "Shift p-vals:  0.6000000238418579\n",
      "Random Run 3 : Sample 500\n",
      "No GPU detected, fall back on CPU.\n",
      "Shift p-vals:  0.27000001072883606\n",
      "Random Run 3 : Sample 1000\n",
      "No GPU detected, fall back on CPU.\n",
      "Shift p-vals:  0.0\n",
      "Random Run 3 : Sample 2000\n",
      "No GPU detected, fall back on CPU.\n",
      "Shift p-vals:  0.10999999940395355\n",
      "Random Run 4 : Sample 10\n",
      "No GPU detected, fall back on CPU.\n",
      "Shift p-vals:  0.46000000834465027\n",
      "Random Run 4 : Sample 20\n",
      "No GPU detected, fall back on CPU.\n",
      "Shift p-vals:  0.20999999344348907\n",
      "Random Run 4 : Sample 50\n",
      "No GPU detected, fall back on CPU.\n",
      "Shift p-vals:  0.029999999329447746\n",
      "Random Run 4 : Sample 100\n",
      "No GPU detected, fall back on CPU.\n",
      "Shift p-vals:  0.3400000035762787\n",
      "Random Run 4 : Sample 200\n",
      "No GPU detected, fall back on CPU.\n",
      "Shift p-vals:  0.0\n",
      "Random Run 4 : Sample 500\n",
      "No GPU detected, fall back on CPU.\n",
      "Shift p-vals:  0.0\n",
      "Random Run 4 : Sample 1000\n",
      "No GPU detected, fall back on CPU.\n",
      "Shift p-vals:  0.0\n",
      "Random Run 4 : Sample 2000\n",
      "No GPU detected, fall back on CPU.\n",
      "Shift p-vals:  0.18000000715255737\n",
      "covid | SMH | BBSDs_FFNN | LK\n",
      "Shift covid\n"
     ]
    },
    {
     "name": "stderr",
     "output_type": "stream",
     "text": [
      "torch.range is deprecated and will be removed in a future release because its behavior is inconsistent with Python's range builtin. Instead, use torch.arange, which produces values in [start, end).\n",
      "No GPU detected, fall back on CPU.\n",
      "No GPU detected, fall back on CPU.\n",
      "No GPU detected, fall back on CPU.\n",
      "No GPU detected, fall back on CPU.\n"
     ]
    },
    {
     "name": "stdout",
     "output_type": "stream",
     "text": [
      "Random Run 0 : Sample 10\n",
      "Shift p-vals:  0.550000011920929\n",
      "Random Run 0 : Sample 20\n",
      "Shift p-vals:  0.8500000238418579\n",
      "Random Run 0 : Sample 50\n",
      "Shift p-vals:  0.17000000178813934\n",
      "Random Run 0 : Sample 100\n"
     ]
    },
    {
     "name": "stderr",
     "output_type": "stream",
     "text": [
      "No GPU detected, fall back on CPU.\n"
     ]
    },
    {
     "name": "stdout",
     "output_type": "stream",
     "text": [
      "Shift p-vals:  0.550000011920929\n",
      "Random Run 0 : Sample 200\n"
     ]
    },
    {
     "name": "stderr",
     "output_type": "stream",
     "text": [
      "No GPU detected, fall back on CPU.\n"
     ]
    },
    {
     "name": "stdout",
     "output_type": "stream",
     "text": [
      "Shift p-vals:  0.46000000834465027\n",
      "Random Run 0 : Sample 500\n"
     ]
    },
    {
     "name": "stderr",
     "output_type": "stream",
     "text": [
      "No GPU detected, fall back on CPU.\n"
     ]
    },
    {
     "name": "stdout",
     "output_type": "stream",
     "text": [
      "Shift p-vals:  0.8199999928474426\n",
      "Random Run 0 : Sample 1000\n"
     ]
    },
    {
     "name": "stderr",
     "output_type": "stream",
     "text": [
      "No GPU detected, fall back on CPU.\n"
     ]
    },
    {
     "name": "stdout",
     "output_type": "stream",
     "text": [
      "Shift p-vals:  0.029999999329447746\n",
      "Random Run 0 : Sample 2000\n",
      "Shift p-vals:  0.699999988079071\n"
     ]
    },
    {
     "name": "stderr",
     "output_type": "stream",
     "text": [
      "No GPU detected, fall back on CPU.\n",
      "No GPU detected, fall back on CPU.\n",
      "No GPU detected, fall back on CPU.\n",
      "No GPU detected, fall back on CPU.\n"
     ]
    },
    {
     "name": "stdout",
     "output_type": "stream",
     "text": [
      "Random Run 1 : Sample 10\n",
      "Shift p-vals:  0.14000000059604645\n",
      "Random Run 1 : Sample 20\n",
      "Shift p-vals:  0.5099999904632568\n",
      "Random Run 1 : Sample 50\n",
      "Shift p-vals:  0.4099999964237213\n",
      "Random Run 1 : Sample 100\n"
     ]
    },
    {
     "name": "stderr",
     "output_type": "stream",
     "text": [
      "No GPU detected, fall back on CPU.\n"
     ]
    },
    {
     "name": "stdout",
     "output_type": "stream",
     "text": [
      "Shift p-vals:  0.12999999523162842\n",
      "Random Run 1 : Sample 200\n"
     ]
    },
    {
     "name": "stderr",
     "output_type": "stream",
     "text": [
      "No GPU detected, fall back on CPU.\n"
     ]
    },
    {
     "name": "stdout",
     "output_type": "stream",
     "text": [
      "Shift p-vals:  0.3199999928474426\n",
      "Random Run 1 : Sample 500\n"
     ]
    },
    {
     "name": "stderr",
     "output_type": "stream",
     "text": [
      "No GPU detected, fall back on CPU.\n"
     ]
    },
    {
     "name": "stdout",
     "output_type": "stream",
     "text": [
      "Shift p-vals:  0.0\n",
      "Random Run 1 : Sample 1000\n"
     ]
    },
    {
     "name": "stderr",
     "output_type": "stream",
     "text": [
      "No GPU detected, fall back on CPU.\n"
     ]
    },
    {
     "name": "stdout",
     "output_type": "stream",
     "text": [
      "Shift p-vals:  0.5199999809265137\n",
      "Random Run 1 : Sample 2000\n",
      "Shift p-vals:  0.0\n"
     ]
    },
    {
     "name": "stderr",
     "output_type": "stream",
     "text": [
      "No GPU detected, fall back on CPU.\n",
      "No GPU detected, fall back on CPU.\n",
      "No GPU detected, fall back on CPU.\n",
      "No GPU detected, fall back on CPU.\n"
     ]
    },
    {
     "name": "stdout",
     "output_type": "stream",
     "text": [
      "Random Run 2 : Sample 10\n",
      "Shift p-vals:  0.15000000596046448\n",
      "Random Run 2 : Sample 20\n",
      "Shift p-vals:  0.550000011920929\n",
      "Random Run 2 : Sample 50\n",
      "Shift p-vals:  0.7599999904632568\n",
      "Random Run 2 : Sample 100\n"
     ]
    },
    {
     "name": "stderr",
     "output_type": "stream",
     "text": [
      "No GPU detected, fall back on CPU.\n"
     ]
    },
    {
     "name": "stdout",
     "output_type": "stream",
     "text": [
      "Shift p-vals:  0.7799999713897705\n",
      "Random Run 2 : Sample 200\n"
     ]
    },
    {
     "name": "stderr",
     "output_type": "stream",
     "text": [
      "No GPU detected, fall back on CPU.\n"
     ]
    },
    {
     "name": "stdout",
     "output_type": "stream",
     "text": [
      "Shift p-vals:  0.23000000417232513\n",
      "Random Run 2 : Sample 500\n"
     ]
    },
    {
     "name": "stderr",
     "output_type": "stream",
     "text": [
      "No GPU detected, fall back on CPU.\n"
     ]
    },
    {
     "name": "stdout",
     "output_type": "stream",
     "text": [
      "Shift p-vals:  0.36000001430511475\n",
      "Random Run 2 : Sample 1000\n"
     ]
    },
    {
     "name": "stderr",
     "output_type": "stream",
     "text": [
      "No GPU detected, fall back on CPU.\n"
     ]
    },
    {
     "name": "stdout",
     "output_type": "stream",
     "text": [
      "Shift p-vals:  0.36000001430511475\n",
      "Random Run 2 : Sample 2000\n",
      "Shift p-vals:  0.5799999833106995\n"
     ]
    },
    {
     "name": "stderr",
     "output_type": "stream",
     "text": [
      "No GPU detected, fall back on CPU.\n",
      "No GPU detected, fall back on CPU.\n",
      "No GPU detected, fall back on CPU.\n",
      "No GPU detected, fall back on CPU.\n"
     ]
    },
    {
     "name": "stdout",
     "output_type": "stream",
     "text": [
      "Random Run 3 : Sample 10\n",
      "Shift p-vals:  0.9100000262260437\n",
      "Random Run 3 : Sample 20\n",
      "Shift p-vals:  0.3199999928474426\n",
      "Random Run 3 : Sample 50\n",
      "Shift p-vals:  0.029999999329447746\n",
      "Random Run 3 : Sample 100\n"
     ]
    },
    {
     "name": "stderr",
     "output_type": "stream",
     "text": [
      "No GPU detected, fall back on CPU.\n"
     ]
    },
    {
     "name": "stdout",
     "output_type": "stream",
     "text": [
      "Shift p-vals:  0.6200000047683716\n",
      "Random Run 3 : Sample 200\n"
     ]
    },
    {
     "name": "stderr",
     "output_type": "stream",
     "text": [
      "No GPU detected, fall back on CPU.\n"
     ]
    },
    {
     "name": "stdout",
     "output_type": "stream",
     "text": [
      "Shift p-vals:  0.27000001072883606\n",
      "Random Run 3 : Sample 500\n"
     ]
    },
    {
     "name": "stderr",
     "output_type": "stream",
     "text": [
      "No GPU detected, fall back on CPU.\n"
     ]
    },
    {
     "name": "stdout",
     "output_type": "stream",
     "text": [
      "Shift p-vals:  0.5\n",
      "Random Run 3 : Sample 1000\n"
     ]
    },
    {
     "name": "stderr",
     "output_type": "stream",
     "text": [
      "No GPU detected, fall back on CPU.\n"
     ]
    },
    {
     "name": "stdout",
     "output_type": "stream",
     "text": [
      "Shift p-vals:  0.3700000047683716\n",
      "Random Run 3 : Sample 2000\n",
      "Shift p-vals:  0.15000000596046448\n"
     ]
    },
    {
     "name": "stderr",
     "output_type": "stream",
     "text": [
      "No GPU detected, fall back on CPU.\n",
      "No GPU detected, fall back on CPU.\n",
      "No GPU detected, fall back on CPU.\n",
      "No GPU detected, fall back on CPU.\n"
     ]
    },
    {
     "name": "stdout",
     "output_type": "stream",
     "text": [
      "Random Run 4 : Sample 10\n",
      "Shift p-vals:  0.3499999940395355\n",
      "Random Run 4 : Sample 20\n",
      "Shift p-vals:  0.6899999976158142\n",
      "Random Run 4 : Sample 50\n",
      "Shift p-vals:  0.3400000035762787\n",
      "Random Run 4 : Sample 100\n"
     ]
    },
    {
     "name": "stderr",
     "output_type": "stream",
     "text": [
      "No GPU detected, fall back on CPU.\n"
     ]
    },
    {
     "name": "stdout",
     "output_type": "stream",
     "text": [
      "Shift p-vals:  0.800000011920929\n",
      "Random Run 4 : Sample 200\n"
     ]
    },
    {
     "name": "stderr",
     "output_type": "stream",
     "text": [
      "No GPU detected, fall back on CPU.\n"
     ]
    },
    {
     "name": "stdout",
     "output_type": "stream",
     "text": [
      "Shift p-vals:  0.49000000953674316\n",
      "Random Run 4 : Sample 500\n"
     ]
    },
    {
     "name": "stderr",
     "output_type": "stream",
     "text": [
      "No GPU detected, fall back on CPU.\n"
     ]
    },
    {
     "name": "stdout",
     "output_type": "stream",
     "text": [
      "Shift p-vals:  0.4300000071525574\n",
      "Random Run 4 : Sample 1000\n"
     ]
    },
    {
     "name": "stderr",
     "output_type": "stream",
     "text": [
      "No GPU detected, fall back on CPU.\n"
     ]
    },
    {
     "name": "stdout",
     "output_type": "stream",
     "text": [
      "Shift p-vals:  0.8299999833106995\n",
      "Random Run 4 : Sample 2000\n",
      "Shift p-vals:  0.0\n",
      "covid | SMH | BBSDs_FFNN | LSDD\n",
      "Shift covid\n"
     ]
    },
    {
     "name": "stderr",
     "output_type": "stream",
     "text": [
      "torch.range is deprecated and will be removed in a future release because its behavior is inconsistent with Python's range builtin. Instead, use torch.arange, which produces values in [start, end).\n"
     ]
    },
    {
     "name": "stdout",
     "output_type": "stream",
     "text": [
      "Random Run 0 : Sample 10\n",
      "No GPU detected, fall back on CPU.\n",
      "Shift p-vals:  0.20000000298023224\n",
      "Random Run 0 : Sample 20\n",
      "No GPU detected, fall back on CPU.\n",
      "Shift p-vals:  0.10999999940395355\n",
      "Random Run 0 : Sample 50\n",
      "No GPU detected, fall back on CPU.\n",
      "Shift p-vals:  0.019999999552965164\n",
      "Random Run 0 : Sample 100\n",
      "No GPU detected, fall back on CPU.\n",
      "Shift p-vals:  0.5799999833106995\n",
      "Random Run 0 : Sample 200\n",
      "No GPU detected, fall back on CPU.\n",
      "Shift p-vals:  0.6499999761581421\n",
      "Random Run 0 : Sample 500\n",
      "No GPU detected, fall back on CPU.\n",
      "Shift p-vals:  0.009999999776482582\n",
      "Random Run 0 : Sample 1000\n",
      "No GPU detected, fall back on CPU.\n",
      "Shift p-vals:  0.11999999731779099\n",
      "Random Run 0 : Sample 2000\n",
      "No GPU detected, fall back on CPU.\n",
      "Shift p-vals:  0.0\n",
      "Random Run 1 : Sample 10\n",
      "No GPU detected, fall back on CPU.\n",
      "Shift p-vals:  1.0\n",
      "Random Run 1 : Sample 20\n",
      "No GPU detected, fall back on CPU.\n",
      "Shift p-vals:  0.8100000023841858\n",
      "Random Run 1 : Sample 50\n",
      "No GPU detected, fall back on CPU.\n",
      "Shift p-vals:  0.28999999165534973\n",
      "Random Run 1 : Sample 100\n",
      "No GPU detected, fall back on CPU.\n",
      "Shift p-vals:  0.1599999964237213\n",
      "Random Run 1 : Sample 200\n",
      "No GPU detected, fall back on CPU.\n",
      "Shift p-vals:  0.7599999904632568\n",
      "Random Run 1 : Sample 500\n",
      "No GPU detected, fall back on CPU.\n",
      "Shift p-vals:  0.0\n",
      "Random Run 1 : Sample 1000\n",
      "No GPU detected, fall back on CPU.\n",
      "Shift p-vals:  0.0\n",
      "Random Run 1 : Sample 2000\n",
      "No GPU detected, fall back on CPU.\n",
      "Shift p-vals:  0.0\n",
      "Random Run 2 : Sample 10\n",
      "No GPU detected, fall back on CPU.\n",
      "Shift p-vals:  0.550000011920929\n",
      "Random Run 2 : Sample 20\n",
      "No GPU detected, fall back on CPU.\n",
      "Shift p-vals:  0.8700000047683716\n",
      "Random Run 2 : Sample 50\n",
      "No GPU detected, fall back on CPU.\n",
      "Shift p-vals:  0.8100000023841858\n",
      "Random Run 2 : Sample 100\n",
      "No GPU detected, fall back on CPU.\n",
      "Shift p-vals:  0.5699999928474426\n",
      "Random Run 2 : Sample 200\n",
      "No GPU detected, fall back on CPU.\n",
      "Shift p-vals:  0.8199999928474426\n",
      "Random Run 2 : Sample 500\n",
      "No GPU detected, fall back on CPU.\n",
      "Shift p-vals:  0.0\n",
      "Random Run 2 : Sample 1000\n",
      "No GPU detected, fall back on CPU.\n",
      "Shift p-vals:  0.0\n",
      "Random Run 2 : Sample 2000\n",
      "No GPU detected, fall back on CPU.\n",
      "Shift p-vals:  0.0\n",
      "Random Run 3 : Sample 10\n",
      "No GPU detected, fall back on CPU.\n",
      "Shift p-vals:  0.019999999552965164\n",
      "Random Run 3 : Sample 20\n",
      "No GPU detected, fall back on CPU.\n",
      "Shift p-vals:  0.5\n",
      "Random Run 3 : Sample 50\n",
      "No GPU detected, fall back on CPU.\n",
      "Shift p-vals:  0.6600000262260437\n",
      "Random Run 3 : Sample 100\n",
      "No GPU detected, fall back on CPU.\n",
      "Shift p-vals:  0.029999999329447746\n",
      "Random Run 3 : Sample 200\n",
      "No GPU detected, fall back on CPU.\n",
      "Shift p-vals:  0.4000000059604645\n",
      "Random Run 3 : Sample 500\n",
      "No GPU detected, fall back on CPU.\n",
      "Shift p-vals:  0.5\n",
      "Random Run 3 : Sample 1000\n",
      "No GPU detected, fall back on CPU.\n",
      "Shift p-vals:  0.3799999952316284\n",
      "Random Run 3 : Sample 2000\n",
      "No GPU detected, fall back on CPU.\n",
      "Shift p-vals:  0.019999999552965164\n",
      "Random Run 4 : Sample 10\n",
      "No GPU detected, fall back on CPU.\n",
      "Shift p-vals:  0.05999999865889549\n",
      "Random Run 4 : Sample 20\n",
      "No GPU detected, fall back on CPU.\n",
      "Shift p-vals:  0.20999999344348907\n",
      "Random Run 4 : Sample 50\n",
      "No GPU detected, fall back on CPU.\n",
      "Shift p-vals:  0.7200000286102295\n",
      "Random Run 4 : Sample 100\n",
      "No GPU detected, fall back on CPU.\n",
      "Shift p-vals:  0.17000000178813934\n",
      "Random Run 4 : Sample 200\n",
      "No GPU detected, fall back on CPU.\n",
      "Shift p-vals:  0.11999999731779099\n",
      "Random Run 4 : Sample 500\n",
      "No GPU detected, fall back on CPU.\n",
      "Shift p-vals:  0.0\n",
      "Random Run 4 : Sample 1000\n",
      "No GPU detected, fall back on CPU.\n",
      "Shift p-vals:  0.0\n",
      "Random Run 4 : Sample 2000\n",
      "No GPU detected, fall back on CPU.\n",
      "Shift p-vals:  0.30000001192092896\n",
      "covid | MSH | NoRed | MMD\n",
      "Shift covid\n"
     ]
    },
    {
     "name": "stderr",
     "output_type": "stream",
     "text": [
      "torch.range is deprecated and will be removed in a future release because its behavior is inconsistent with Python's range builtin. Instead, use torch.arange, which produces values in [start, end).\n"
     ]
    },
    {
     "name": "stdout",
     "output_type": "stream",
     "text": [
      "Random Run 0 : Sample 10\n",
      "No GPU detected, fall back on CPU.\n",
      "Shift p-vals:  0.6000000238418579\n",
      "Random Run 0 : Sample 20\n",
      "No GPU detected, fall back on CPU.\n",
      "Shift p-vals:  0.41999998688697815\n",
      "Random Run 0 : Sample 50\n",
      "No GPU detected, fall back on CPU.\n",
      "Shift p-vals:  0.25\n",
      "Random Run 0 : Sample 100\n",
      "No GPU detected, fall back on CPU.\n",
      "Shift p-vals:  0.019999999552965164\n",
      "Random Run 0 : Sample 200\n",
      "No GPU detected, fall back on CPU.\n",
      "Shift p-vals:  0.3100000023841858\n",
      "Random Run 0 : Sample 500\n",
      "No GPU detected, fall back on CPU.\n",
      "Shift p-vals:  0.7300000190734863\n",
      "Random Run 0 : Sample 1000\n",
      "No GPU detected, fall back on CPU.\n",
      "Shift p-vals:  0.6399999856948853\n",
      "Random Run 0 : Sample 2000\n",
      "No GPU detected, fall back on CPU.\n",
      "Shift p-vals:  0.7099999785423279\n",
      "Random Run 1 : Sample 10\n",
      "No GPU detected, fall back on CPU.\n",
      "Shift p-vals:  0.4300000071525574\n",
      "Random Run 1 : Sample 20\n",
      "No GPU detected, fall back on CPU.\n",
      "Shift p-vals:  0.550000011920929\n",
      "Random Run 1 : Sample 50\n",
      "No GPU detected, fall back on CPU.\n",
      "Shift p-vals:  0.25999999046325684\n",
      "Random Run 1 : Sample 100\n",
      "No GPU detected, fall back on CPU.\n",
      "Shift p-vals:  0.33000001311302185\n",
      "Random Run 1 : Sample 200\n",
      "No GPU detected, fall back on CPU.\n",
      "Shift p-vals:  0.27000001072883606\n",
      "Random Run 1 : Sample 500\n",
      "No GPU detected, fall back on CPU.\n",
      "Shift p-vals:  0.46000000834465027\n",
      "Random Run 1 : Sample 1000\n",
      "No GPU detected, fall back on CPU.\n",
      "Shift p-vals:  0.41999998688697815\n",
      "Random Run 1 : Sample 2000\n",
      "No GPU detected, fall back on CPU.\n",
      "Shift p-vals:  0.3799999952316284\n",
      "Random Run 2 : Sample 10\n",
      "No GPU detected, fall back on CPU.\n",
      "Shift p-vals:  0.8199999928474426\n",
      "Random Run 2 : Sample 20\n",
      "No GPU detected, fall back on CPU.\n",
      "Shift p-vals:  0.9100000262260437\n",
      "Random Run 2 : Sample 50\n",
      "No GPU detected, fall back on CPU.\n",
      "Shift p-vals:  0.7900000214576721\n",
      "Random Run 2 : Sample 100\n",
      "No GPU detected, fall back on CPU.\n",
      "Shift p-vals:  0.23999999463558197\n",
      "Random Run 2 : Sample 200\n",
      "No GPU detected, fall back on CPU.\n",
      "Shift p-vals:  0.46000000834465027\n",
      "Random Run 2 : Sample 500\n",
      "No GPU detected, fall back on CPU.\n",
      "Shift p-vals:  0.5699999928474426\n",
      "Random Run 2 : Sample 1000\n",
      "No GPU detected, fall back on CPU.\n",
      "Shift p-vals:  0.5199999809265137\n",
      "Random Run 2 : Sample 2000\n",
      "No GPU detected, fall back on CPU.\n",
      "Shift p-vals:  0.4300000071525574\n",
      "Random Run 3 : Sample 10\n",
      "No GPU detected, fall back on CPU.\n",
      "Shift p-vals:  0.03999999910593033\n",
      "Random Run 3 : Sample 20\n",
      "No GPU detected, fall back on CPU.\n",
      "Shift p-vals:  0.1599999964237213\n",
      "Random Run 3 : Sample 50\n",
      "No GPU detected, fall back on CPU.\n",
      "Shift p-vals:  0.1899999976158142\n",
      "Random Run 3 : Sample 100\n",
      "No GPU detected, fall back on CPU.\n",
      "Shift p-vals:  0.009999999776482582\n",
      "Random Run 3 : Sample 200\n",
      "No GPU detected, fall back on CPU.\n",
      "Shift p-vals:  0.07000000029802322\n",
      "Random Run 3 : Sample 500\n",
      "No GPU detected, fall back on CPU.\n",
      "Shift p-vals:  0.4300000071525574\n",
      "Random Run 3 : Sample 1000\n",
      "No GPU detected, fall back on CPU.\n",
      "Shift p-vals:  0.2800000011920929\n",
      "Random Run 3 : Sample 2000\n",
      "No GPU detected, fall back on CPU.\n",
      "Shift p-vals:  0.3799999952316284\n",
      "Random Run 4 : Sample 10\n",
      "No GPU detected, fall back on CPU.\n",
      "Shift p-vals:  0.949999988079071\n",
      "Random Run 4 : Sample 20\n",
      "No GPU detected, fall back on CPU.\n",
      "Shift p-vals:  0.550000011920929\n",
      "Random Run 4 : Sample 50\n",
      "No GPU detected, fall back on CPU.\n",
      "Shift p-vals:  0.5299999713897705\n",
      "Random Run 4 : Sample 100\n",
      "No GPU detected, fall back on CPU.\n",
      "Shift p-vals:  0.23000000417232513\n",
      "Random Run 4 : Sample 200\n",
      "No GPU detected, fall back on CPU.\n",
      "Shift p-vals:  0.8299999833106995\n",
      "Random Run 4 : Sample 500\n",
      "No GPU detected, fall back on CPU.\n",
      "Shift p-vals:  0.9300000071525574\n",
      "Random Run 4 : Sample 1000\n",
      "No GPU detected, fall back on CPU.\n",
      "Shift p-vals:  0.8799999952316284\n",
      "Random Run 4 : Sample 2000\n",
      "No GPU detected, fall back on CPU.\n",
      "Shift p-vals:  0.9100000262260437\n",
      "covid | MSH | NoRed | LK\n",
      "Shift covid\n"
     ]
    },
    {
     "name": "stderr",
     "output_type": "stream",
     "text": [
      "torch.range is deprecated and will be removed in a future release because its behavior is inconsistent with Python's range builtin. Instead, use torch.arange, which produces values in [start, end).\n",
      "No GPU detected, fall back on CPU.\n",
      "No GPU detected, fall back on CPU.\n",
      "No GPU detected, fall back on CPU.\n",
      "No GPU detected, fall back on CPU.\n"
     ]
    },
    {
     "name": "stdout",
     "output_type": "stream",
     "text": [
      "Random Run 0 : Sample 10\n",
      "Shift p-vals:  0.5099999904632568\n",
      "Random Run 0 : Sample 20\n",
      "Shift p-vals:  0.4099999964237213\n",
      "Random Run 0 : Sample 50\n",
      "Shift p-vals:  0.9700000286102295\n",
      "Random Run 0 : Sample 100\n"
     ]
    },
    {
     "name": "stderr",
     "output_type": "stream",
     "text": [
      "No GPU detected, fall back on CPU.\n"
     ]
    },
    {
     "name": "stdout",
     "output_type": "stream",
     "text": [
      "Shift p-vals:  0.5600000023841858\n",
      "Random Run 0 : Sample 200\n"
     ]
    },
    {
     "name": "stderr",
     "output_type": "stream",
     "text": [
      "No GPU detected, fall back on CPU.\n"
     ]
    },
    {
     "name": "stdout",
     "output_type": "stream",
     "text": [
      "Shift p-vals:  0.1899999976158142\n",
      "Random Run 0 : Sample 500\n"
     ]
    },
    {
     "name": "stderr",
     "output_type": "stream",
     "text": [
      "No GPU detected, fall back on CPU.\n"
     ]
    },
    {
     "name": "stdout",
     "output_type": "stream",
     "text": [
      "Shift p-vals:  0.5299999713897705\n",
      "Random Run 0 : Sample 1000\n"
     ]
    },
    {
     "name": "stderr",
     "output_type": "stream",
     "text": [
      "No GPU detected, fall back on CPU.\n"
     ]
    },
    {
     "name": "stdout",
     "output_type": "stream",
     "text": [
      "Shift p-vals:  0.7799999713897705\n",
      "Random Run 0 : Sample 2000\n",
      "Shift p-vals:  0.28999999165534973\n"
     ]
    },
    {
     "name": "stderr",
     "output_type": "stream",
     "text": [
      "No GPU detected, fall back on CPU.\n",
      "No GPU detected, fall back on CPU.\n",
      "No GPU detected, fall back on CPU.\n",
      "No GPU detected, fall back on CPU.\n"
     ]
    },
    {
     "name": "stdout",
     "output_type": "stream",
     "text": [
      "Random Run 1 : Sample 10\n",
      "Shift p-vals:  0.6299999952316284\n",
      "Random Run 1 : Sample 20\n",
      "Shift p-vals:  0.6800000071525574\n",
      "Random Run 1 : Sample 50\n",
      "Shift p-vals:  0.6100000143051147\n",
      "Random Run 1 : Sample 100\n"
     ]
    },
    {
     "name": "stderr",
     "output_type": "stream",
     "text": [
      "No GPU detected, fall back on CPU.\n"
     ]
    },
    {
     "name": "stdout",
     "output_type": "stream",
     "text": [
      "Shift p-vals:  0.5099999904632568\n",
      "Random Run 1 : Sample 200\n"
     ]
    },
    {
     "name": "stderr",
     "output_type": "stream",
     "text": [
      "No GPU detected, fall back on CPU.\n"
     ]
    },
    {
     "name": "stdout",
     "output_type": "stream",
     "text": [
      "Shift p-vals:  0.25\n",
      "Random Run 1 : Sample 500\n"
     ]
    },
    {
     "name": "stderr",
     "output_type": "stream",
     "text": [
      "No GPU detected, fall back on CPU.\n"
     ]
    },
    {
     "name": "stdout",
     "output_type": "stream",
     "text": [
      "Shift p-vals:  0.5400000214576721\n",
      "Random Run 1 : Sample 1000\n"
     ]
    },
    {
     "name": "stderr",
     "output_type": "stream",
     "text": [
      "No GPU detected, fall back on CPU.\n"
     ]
    },
    {
     "name": "stdout",
     "output_type": "stream",
     "text": [
      "Shift p-vals:  0.10000000149011612\n",
      "Random Run 1 : Sample 2000\n",
      "Shift p-vals:  0.7599999904632568\n"
     ]
    },
    {
     "name": "stderr",
     "output_type": "stream",
     "text": [
      "No GPU detected, fall back on CPU.\n",
      "No GPU detected, fall back on CPU.\n",
      "No GPU detected, fall back on CPU.\n",
      "No GPU detected, fall back on CPU.\n"
     ]
    },
    {
     "name": "stdout",
     "output_type": "stream",
     "text": [
      "Random Run 2 : Sample 10\n",
      "Shift p-vals:  0.23999999463558197\n",
      "Random Run 2 : Sample 20\n",
      "Shift p-vals:  0.5799999833106995\n",
      "Random Run 2 : Sample 50\n",
      "Shift p-vals:  0.4099999964237213\n",
      "Random Run 2 : Sample 100\n"
     ]
    },
    {
     "name": "stderr",
     "output_type": "stream",
     "text": [
      "No GPU detected, fall back on CPU.\n"
     ]
    },
    {
     "name": "stdout",
     "output_type": "stream",
     "text": [
      "Shift p-vals:  0.27000001072883606\n",
      "Random Run 2 : Sample 200\n"
     ]
    },
    {
     "name": "stderr",
     "output_type": "stream",
     "text": [
      "No GPU detected, fall back on CPU.\n"
     ]
    },
    {
     "name": "stdout",
     "output_type": "stream",
     "text": [
      "Shift p-vals:  0.20000000298023224\n",
      "Random Run 2 : Sample 500\n"
     ]
    },
    {
     "name": "stderr",
     "output_type": "stream",
     "text": [
      "No GPU detected, fall back on CPU.\n"
     ]
    },
    {
     "name": "stdout",
     "output_type": "stream",
     "text": [
      "Shift p-vals:  0.25999999046325684\n",
      "Random Run 2 : Sample 1000\n"
     ]
    },
    {
     "name": "stderr",
     "output_type": "stream",
     "text": [
      "No GPU detected, fall back on CPU.\n"
     ]
    },
    {
     "name": "stdout",
     "output_type": "stream",
     "text": [
      "Shift p-vals:  0.7799999713897705\n",
      "Random Run 2 : Sample 2000\n",
      "Shift p-vals:  0.8100000023841858\n"
     ]
    },
    {
     "name": "stderr",
     "output_type": "stream",
     "text": [
      "No GPU detected, fall back on CPU.\n",
      "No GPU detected, fall back on CPU.\n",
      "No GPU detected, fall back on CPU.\n",
      "No GPU detected, fall back on CPU.\n"
     ]
    },
    {
     "name": "stdout",
     "output_type": "stream",
     "text": [
      "Random Run 3 : Sample 10\n",
      "Shift p-vals:  1.0\n",
      "Random Run 3 : Sample 20\n",
      "Shift p-vals:  0.1599999964237213\n",
      "Random Run 3 : Sample 50\n",
      "Shift p-vals:  0.05000000074505806\n",
      "Random Run 3 : Sample 100\n"
     ]
    },
    {
     "name": "stderr",
     "output_type": "stream",
     "text": [
      "No GPU detected, fall back on CPU.\n"
     ]
    },
    {
     "name": "stdout",
     "output_type": "stream",
     "text": [
      "Shift p-vals:  0.9700000286102295\n",
      "Random Run 3 : Sample 200\n"
     ]
    },
    {
     "name": "stderr",
     "output_type": "stream",
     "text": [
      "No GPU detected, fall back on CPU.\n"
     ]
    },
    {
     "name": "stdout",
     "output_type": "stream",
     "text": [
      "Shift p-vals:  0.4300000071525574\n",
      "Random Run 3 : Sample 500\n"
     ]
    },
    {
     "name": "stderr",
     "output_type": "stream",
     "text": [
      "No GPU detected, fall back on CPU.\n"
     ]
    },
    {
     "name": "stdout",
     "output_type": "stream",
     "text": [
      "Shift p-vals:  0.07000000029802322\n",
      "Random Run 3 : Sample 1000\n"
     ]
    },
    {
     "name": "stderr",
     "output_type": "stream",
     "text": [
      "No GPU detected, fall back on CPU.\n"
     ]
    },
    {
     "name": "stdout",
     "output_type": "stream",
     "text": [
      "Shift p-vals:  0.15000000596046448\n",
      "Random Run 3 : Sample 2000\n",
      "Shift p-vals:  0.5\n"
     ]
    },
    {
     "name": "stderr",
     "output_type": "stream",
     "text": [
      "No GPU detected, fall back on CPU.\n",
      "No GPU detected, fall back on CPU.\n",
      "No GPU detected, fall back on CPU.\n",
      "No GPU detected, fall back on CPU.\n"
     ]
    },
    {
     "name": "stdout",
     "output_type": "stream",
     "text": [
      "Random Run 4 : Sample 10\n",
      "Shift p-vals:  0.20999999344348907\n",
      "Random Run 4 : Sample 20\n",
      "Shift p-vals:  0.550000011920929\n",
      "Random Run 4 : Sample 50\n",
      "Shift p-vals:  0.6299999952316284\n",
      "Random Run 4 : Sample 100\n"
     ]
    },
    {
     "name": "stderr",
     "output_type": "stream",
     "text": [
      "No GPU detected, fall back on CPU.\n"
     ]
    },
    {
     "name": "stdout",
     "output_type": "stream",
     "text": [
      "Shift p-vals:  0.3499999940395355\n",
      "Random Run 4 : Sample 200\n"
     ]
    },
    {
     "name": "stderr",
     "output_type": "stream",
     "text": [
      "No GPU detected, fall back on CPU.\n"
     ]
    },
    {
     "name": "stdout",
     "output_type": "stream",
     "text": [
      "Shift p-vals:  0.3400000035762787\n",
      "Random Run 4 : Sample 500\n"
     ]
    },
    {
     "name": "stderr",
     "output_type": "stream",
     "text": [
      "No GPU detected, fall back on CPU.\n"
     ]
    },
    {
     "name": "stdout",
     "output_type": "stream",
     "text": [
      "Shift p-vals:  0.0\n",
      "Random Run 4 : Sample 1000\n"
     ]
    },
    {
     "name": "stderr",
     "output_type": "stream",
     "text": [
      "No GPU detected, fall back on CPU.\n"
     ]
    },
    {
     "name": "stdout",
     "output_type": "stream",
     "text": [
      "Shift p-vals:  0.5899999737739563\n",
      "Random Run 4 : Sample 2000\n",
      "Shift p-vals:  0.11999999731779099\n",
      "covid | MSH | NoRed | LSDD\n",
      "Shift covid\n"
     ]
    },
    {
     "name": "stderr",
     "output_type": "stream",
     "text": [
      "torch.range is deprecated and will be removed in a future release because its behavior is inconsistent with Python's range builtin. Instead, use torch.arange, which produces values in [start, end).\n"
     ]
    },
    {
     "name": "stdout",
     "output_type": "stream",
     "text": [
      "Random Run 0 : Sample 10\n",
      "No GPU detected, fall back on CPU.\n",
      "Shift p-vals:  0.009999999776482582\n",
      "Random Run 0 : Sample 20\n",
      "No GPU detected, fall back on CPU.\n",
      "Shift p-vals:  0.6700000166893005\n",
      "Random Run 0 : Sample 50\n",
      "No GPU detected, fall back on CPU.\n",
      "Shift p-vals:  0.0\n",
      "Random Run 0 : Sample 100\n",
      "No GPU detected, fall back on CPU.\n",
      "Shift p-vals:  0.17000000178813934\n",
      "Random Run 0 : Sample 200\n",
      "No GPU detected, fall back on CPU.\n",
      "Shift p-vals:  0.0\n",
      "Random Run 0 : Sample 500\n",
      "No GPU detected, fall back on CPU.\n",
      "Shift p-vals:  0.0\n",
      "Random Run 0 : Sample 1000\n",
      "No GPU detected, fall back on CPU.\n",
      "Shift p-vals:  0.0\n",
      "Random Run 0 : Sample 2000\n",
      "No GPU detected, fall back on CPU.\n",
      "Shift p-vals:  0.0\n",
      "Random Run 1 : Sample 10\n",
      "No GPU detected, fall back on CPU.\n",
      "Shift p-vals:  0.0\n",
      "Random Run 1 : Sample 20\n",
      "No GPU detected, fall back on CPU.\n",
      "Shift p-vals:  0.0\n",
      "Random Run 1 : Sample 50\n",
      "No GPU detected, fall back on CPU.\n",
      "Shift p-vals:  0.0\n",
      "Random Run 1 : Sample 100\n",
      "No GPU detected, fall back on CPU.\n",
      "Shift p-vals:  0.0\n",
      "Random Run 1 : Sample 200\n",
      "No GPU detected, fall back on CPU.\n",
      "Shift p-vals:  0.0\n",
      "Random Run 1 : Sample 500\n",
      "No GPU detected, fall back on CPU.\n",
      "Shift p-vals:  0.0\n",
      "Random Run 1 : Sample 1000\n",
      "No GPU detected, fall back on CPU.\n",
      "Shift p-vals:  0.0\n",
      "Random Run 1 : Sample 2000\n",
      "No GPU detected, fall back on CPU.\n",
      "Shift p-vals:  0.0\n",
      "Random Run 2 : Sample 10\n",
      "No GPU detected, fall back on CPU.\n",
      "Shift p-vals:  0.0\n",
      "Random Run 2 : Sample 20\n",
      "No GPU detected, fall back on CPU.\n",
      "Shift p-vals:  0.029999999329447746\n",
      "Random Run 2 : Sample 50\n",
      "No GPU detected, fall back on CPU.\n",
      "Shift p-vals:  0.03999999910593033\n",
      "Random Run 2 : Sample 100\n",
      "No GPU detected, fall back on CPU.\n",
      "Shift p-vals:  0.0\n",
      "Random Run 2 : Sample 200\n",
      "No GPU detected, fall back on CPU.\n",
      "Shift p-vals:  0.0\n",
      "Random Run 2 : Sample 500\n",
      "No GPU detected, fall back on CPU.\n",
      "Shift p-vals:  0.0\n",
      "Random Run 2 : Sample 1000\n",
      "No GPU detected, fall back on CPU.\n",
      "Shift p-vals:  0.0\n",
      "Random Run 2 : Sample 2000\n",
      "No GPU detected, fall back on CPU.\n",
      "Shift p-vals:  0.0\n",
      "Random Run 3 : Sample 10\n",
      "No GPU detected, fall back on CPU.\n",
      "Shift p-vals:  0.03999999910593033\n",
      "Random Run 3 : Sample 20\n",
      "No GPU detected, fall back on CPU.\n",
      "Shift p-vals:  0.0\n",
      "Random Run 3 : Sample 50\n",
      "No GPU detected, fall back on CPU.\n",
      "Shift p-vals:  0.05000000074505806\n",
      "Random Run 3 : Sample 100\n",
      "No GPU detected, fall back on CPU.\n",
      "Shift p-vals:  0.0\n",
      "Random Run 3 : Sample 200\n",
      "No GPU detected, fall back on CPU.\n",
      "Shift p-vals:  0.0\n",
      "Random Run 3 : Sample 500\n",
      "No GPU detected, fall back on CPU.\n",
      "Shift p-vals:  0.0\n",
      "Random Run 3 : Sample 1000\n",
      "No GPU detected, fall back on CPU.\n",
      "Shift p-vals:  0.0\n",
      "Random Run 3 : Sample 2000\n",
      "No GPU detected, fall back on CPU.\n",
      "Shift p-vals:  0.0\n",
      "Random Run 4 : Sample 10\n",
      "No GPU detected, fall back on CPU.\n",
      "Shift p-vals:  0.0\n",
      "Random Run 4 : Sample 20\n",
      "No GPU detected, fall back on CPU.\n",
      "Shift p-vals:  0.0\n",
      "Random Run 4 : Sample 50\n",
      "No GPU detected, fall back on CPU.\n",
      "Shift p-vals:  0.0\n",
      "Random Run 4 : Sample 100\n",
      "No GPU detected, fall back on CPU.\n",
      "Shift p-vals:  0.0\n",
      "Random Run 4 : Sample 200\n",
      "No GPU detected, fall back on CPU.\n",
      "Shift p-vals:  0.0\n",
      "Random Run 4 : Sample 500\n",
      "No GPU detected, fall back on CPU.\n",
      "Shift p-vals:  0.0\n",
      "Random Run 4 : Sample 1000\n",
      "No GPU detected, fall back on CPU.\n",
      "Shift p-vals:  0.0\n",
      "Random Run 4 : Sample 2000\n",
      "No GPU detected, fall back on CPU.\n",
      "Shift p-vals:  0.0\n",
      "covid | MSH | SRP | MMD\n",
      "Shift covid\n"
     ]
    },
    {
     "name": "stderr",
     "output_type": "stream",
     "text": [
      "torch.range is deprecated and will be removed in a future release because its behavior is inconsistent with Python's range builtin. Instead, use torch.arange, which produces values in [start, end).\n"
     ]
    },
    {
     "name": "stdout",
     "output_type": "stream",
     "text": [
      "Random Run 0 : Sample 10\n",
      "No GPU detected, fall back on CPU.\n",
      "Shift p-vals:  0.8299999833106995\n",
      "Random Run 0 : Sample 20\n",
      "No GPU detected, fall back on CPU.\n",
      "Shift p-vals:  0.07000000029802322\n",
      "Random Run 0 : Sample 50\n",
      "No GPU detected, fall back on CPU.\n",
      "Shift p-vals:  0.23999999463558197\n",
      "Random Run 0 : Sample 100\n",
      "No GPU detected, fall back on CPU.\n",
      "Shift p-vals:  0.019999999552965164\n",
      "Random Run 0 : Sample 200\n",
      "No GPU detected, fall back on CPU.\n",
      "Shift p-vals:  0.7699999809265137\n",
      "Random Run 0 : Sample 500\n",
      "No GPU detected, fall back on CPU.\n",
      "Shift p-vals:  0.4300000071525574\n",
      "Random Run 0 : Sample 1000\n",
      "No GPU detected, fall back on CPU.\n",
      "Shift p-vals:  0.0\n",
      "Random Run 0 : Sample 2000\n",
      "No GPU detected, fall back on CPU.\n",
      "Shift p-vals:  0.28999999165534973\n",
      "Random Run 1 : Sample 10\n",
      "No GPU detected, fall back on CPU.\n",
      "Shift p-vals:  0.1899999976158142\n",
      "Random Run 1 : Sample 20\n",
      "No GPU detected, fall back on CPU.\n",
      "Shift p-vals:  0.23999999463558197\n",
      "Random Run 1 : Sample 50\n",
      "No GPU detected, fall back on CPU.\n",
      "Shift p-vals:  0.36000001430511475\n",
      "Random Run 1 : Sample 100\n",
      "No GPU detected, fall back on CPU.\n",
      "Shift p-vals:  0.8100000023841858\n",
      "Random Run 1 : Sample 200\n",
      "No GPU detected, fall back on CPU.\n",
      "Shift p-vals:  0.03999999910593033\n",
      "Random Run 1 : Sample 500\n",
      "No GPU detected, fall back on CPU.\n",
      "Shift p-vals:  0.23999999463558197\n",
      "Random Run 1 : Sample 1000\n",
      "No GPU detected, fall back on CPU.\n",
      "Shift p-vals:  0.07999999821186066\n",
      "Random Run 1 : Sample 2000\n",
      "No GPU detected, fall back on CPU.\n",
      "Shift p-vals:  0.1599999964237213\n",
      "Random Run 2 : Sample 10\n",
      "No GPU detected, fall back on CPU.\n",
      "Shift p-vals:  0.7099999785423279\n",
      "Random Run 2 : Sample 20\n",
      "No GPU detected, fall back on CPU.\n",
      "Shift p-vals:  0.8600000143051147\n",
      "Random Run 2 : Sample 50\n",
      "No GPU detected, fall back on CPU.\n",
      "Shift p-vals:  0.09000000357627869\n",
      "Random Run 2 : Sample 100\n",
      "No GPU detected, fall back on CPU.\n",
      "Shift p-vals:  0.27000001072883606\n",
      "Random Run 2 : Sample 200\n",
      "No GPU detected, fall back on CPU.\n",
      "Shift p-vals:  0.20999999344348907\n",
      "Random Run 2 : Sample 500\n",
      "No GPU detected, fall back on CPU.\n",
      "Shift p-vals:  0.0\n",
      "Random Run 2 : Sample 1000\n",
      "No GPU detected, fall back on CPU.\n",
      "Shift p-vals:  0.6100000143051147\n",
      "Random Run 2 : Sample 2000\n",
      "No GPU detected, fall back on CPU.\n",
      "Shift p-vals:  0.7699999809265137\n",
      "Random Run 3 : Sample 10\n",
      "No GPU detected, fall back on CPU.\n",
      "Shift p-vals:  0.8600000143051147\n",
      "Random Run 3 : Sample 20\n",
      "No GPU detected, fall back on CPU.\n",
      "Shift p-vals:  0.8199999928474426\n",
      "Random Run 3 : Sample 50\n",
      "No GPU detected, fall back on CPU.\n",
      "Shift p-vals:  0.28999999165534973\n",
      "Random Run 3 : Sample 100\n",
      "No GPU detected, fall back on CPU.\n",
      "Shift p-vals:  0.009999999776482582\n",
      "Random Run 3 : Sample 200\n",
      "No GPU detected, fall back on CPU.\n",
      "Shift p-vals:  0.11999999731779099\n",
      "Random Run 3 : Sample 500\n",
      "No GPU detected, fall back on CPU.\n",
      "Shift p-vals:  0.41999998688697815\n",
      "Random Run 3 : Sample 1000\n",
      "No GPU detected, fall back on CPU.\n",
      "Shift p-vals:  0.20000000298023224\n",
      "Random Run 3 : Sample 2000\n",
      "No GPU detected, fall back on CPU.\n",
      "Shift p-vals:  0.019999999552965164\n",
      "Random Run 4 : Sample 10\n",
      "No GPU detected, fall back on CPU.\n",
      "Shift p-vals:  0.7900000214576721\n",
      "Random Run 4 : Sample 20\n",
      "No GPU detected, fall back on CPU.\n",
      "Shift p-vals:  0.7599999904632568\n",
      "Random Run 4 : Sample 50\n",
      "No GPU detected, fall back on CPU.\n",
      "Shift p-vals:  0.8899999856948853\n",
      "Random Run 4 : Sample 100\n",
      "No GPU detected, fall back on CPU.\n",
      "Shift p-vals:  0.4399999976158142\n",
      "Random Run 4 : Sample 200\n",
      "No GPU detected, fall back on CPU.\n",
      "Shift p-vals:  0.6600000262260437\n",
      "Random Run 4 : Sample 500\n",
      "No GPU detected, fall back on CPU.\n",
      "Shift p-vals:  0.9300000071525574\n",
      "Random Run 4 : Sample 1000\n",
      "No GPU detected, fall back on CPU.\n",
      "Shift p-vals:  0.9599999785423279\n",
      "Random Run 4 : Sample 2000\n",
      "No GPU detected, fall back on CPU.\n",
      "Shift p-vals:  0.6100000143051147\n",
      "covid | MSH | SRP | LK\n",
      "Shift covid\n"
     ]
    },
    {
     "name": "stderr",
     "output_type": "stream",
     "text": [
      "torch.range is deprecated and will be removed in a future release because its behavior is inconsistent with Python's range builtin. Instead, use torch.arange, which produces values in [start, end).\n",
      "No GPU detected, fall back on CPU.\n",
      "No GPU detected, fall back on CPU.\n",
      "No GPU detected, fall back on CPU.\n",
      "No GPU detected, fall back on CPU.\n"
     ]
    },
    {
     "name": "stdout",
     "output_type": "stream",
     "text": [
      "Random Run 0 : Sample 10\n",
      "Shift p-vals:  0.03999999910593033\n",
      "Random Run 0 : Sample 20\n",
      "Shift p-vals:  0.1599999964237213\n",
      "Random Run 0 : Sample 50\n",
      "Shift p-vals:  0.75\n",
      "Random Run 0 : Sample 100\n"
     ]
    },
    {
     "name": "stderr",
     "output_type": "stream",
     "text": [
      "No GPU detected, fall back on CPU.\n"
     ]
    },
    {
     "name": "stdout",
     "output_type": "stream",
     "text": [
      "Shift p-vals:  0.1599999964237213\n",
      "Random Run 0 : Sample 200\n"
     ]
    },
    {
     "name": "stderr",
     "output_type": "stream",
     "text": [
      "No GPU detected, fall back on CPU.\n"
     ]
    },
    {
     "name": "stdout",
     "output_type": "stream",
     "text": [
      "Shift p-vals:  0.8999999761581421\n",
      "Random Run 0 : Sample 500\n"
     ]
    },
    {
     "name": "stderr",
     "output_type": "stream",
     "text": [
      "No GPU detected, fall back on CPU.\n"
     ]
    },
    {
     "name": "stdout",
     "output_type": "stream",
     "text": [
      "Shift p-vals:  0.3799999952316284\n",
      "Random Run 0 : Sample 1000\n"
     ]
    },
    {
     "name": "stderr",
     "output_type": "stream",
     "text": [
      "No GPU detected, fall back on CPU.\n"
     ]
    },
    {
     "name": "stdout",
     "output_type": "stream",
     "text": [
      "Shift p-vals:  0.15000000596046448\n",
      "Random Run 0 : Sample 2000\n",
      "Shift p-vals:  0.6299999952316284\n"
     ]
    },
    {
     "name": "stderr",
     "output_type": "stream",
     "text": [
      "No GPU detected, fall back on CPU.\n",
      "No GPU detected, fall back on CPU.\n",
      "No GPU detected, fall back on CPU.\n",
      "No GPU detected, fall back on CPU.\n"
     ]
    },
    {
     "name": "stdout",
     "output_type": "stream",
     "text": [
      "Random Run 1 : Sample 10\n",
      "Shift p-vals:  0.07000000029802322\n",
      "Random Run 1 : Sample 20\n",
      "Shift p-vals:  0.20000000298023224\n",
      "Random Run 1 : Sample 50\n",
      "Shift p-vals:  0.4300000071525574\n",
      "Random Run 1 : Sample 100\n"
     ]
    },
    {
     "name": "stderr",
     "output_type": "stream",
     "text": [
      "No GPU detected, fall back on CPU.\n"
     ]
    },
    {
     "name": "stdout",
     "output_type": "stream",
     "text": [
      "Shift p-vals:  0.5299999713897705\n",
      "Random Run 1 : Sample 200\n"
     ]
    },
    {
     "name": "stderr",
     "output_type": "stream",
     "text": [
      "No GPU detected, fall back on CPU.\n"
     ]
    },
    {
     "name": "stdout",
     "output_type": "stream",
     "text": [
      "Shift p-vals:  0.4000000059604645\n",
      "Random Run 1 : Sample 500\n"
     ]
    },
    {
     "name": "stderr",
     "output_type": "stream",
     "text": [
      "No GPU detected, fall back on CPU.\n"
     ]
    },
    {
     "name": "stdout",
     "output_type": "stream",
     "text": [
      "Shift p-vals:  0.0\n",
      "Random Run 1 : Sample 1000\n"
     ]
    },
    {
     "name": "stderr",
     "output_type": "stream",
     "text": [
      "No GPU detected, fall back on CPU.\n"
     ]
    },
    {
     "name": "stdout",
     "output_type": "stream",
     "text": [
      "Shift p-vals:  0.8700000047683716\n",
      "Random Run 1 : Sample 2000\n",
      "Shift p-vals:  0.5899999737739563\n"
     ]
    },
    {
     "name": "stderr",
     "output_type": "stream",
     "text": [
      "No GPU detected, fall back on CPU.\n",
      "No GPU detected, fall back on CPU.\n",
      "No GPU detected, fall back on CPU.\n",
      "No GPU detected, fall back on CPU.\n"
     ]
    },
    {
     "name": "stdout",
     "output_type": "stream",
     "text": [
      "Random Run 2 : Sample 10\n",
      "Shift p-vals:  1.0\n",
      "Random Run 2 : Sample 20\n",
      "Shift p-vals:  0.14000000059604645\n",
      "Random Run 2 : Sample 50\n",
      "Shift p-vals:  0.009999999776482582\n",
      "Random Run 2 : Sample 100\n"
     ]
    },
    {
     "name": "stderr",
     "output_type": "stream",
     "text": [
      "No GPU detected, fall back on CPU.\n"
     ]
    },
    {
     "name": "stdout",
     "output_type": "stream",
     "text": [
      "Shift p-vals:  0.800000011920929\n",
      "Random Run 2 : Sample 200\n"
     ]
    },
    {
     "name": "stderr",
     "output_type": "stream",
     "text": [
      "No GPU detected, fall back on CPU.\n"
     ]
    },
    {
     "name": "stdout",
     "output_type": "stream",
     "text": [
      "Shift p-vals:  0.0\n",
      "Random Run 2 : Sample 500\n"
     ]
    },
    {
     "name": "stderr",
     "output_type": "stream",
     "text": [
      "No GPU detected, fall back on CPU.\n"
     ]
    },
    {
     "name": "stdout",
     "output_type": "stream",
     "text": [
      "Shift p-vals:  0.07000000029802322\n",
      "Random Run 2 : Sample 1000\n"
     ]
    },
    {
     "name": "stderr",
     "output_type": "stream",
     "text": [
      "No GPU detected, fall back on CPU.\n"
     ]
    },
    {
     "name": "stdout",
     "output_type": "stream",
     "text": [
      "Shift p-vals:  0.5699999928474426\n",
      "Random Run 2 : Sample 2000\n",
      "Shift p-vals:  0.07000000029802322\n"
     ]
    },
    {
     "name": "stderr",
     "output_type": "stream",
     "text": [
      "No GPU detected, fall back on CPU.\n",
      "No GPU detected, fall back on CPU.\n",
      "No GPU detected, fall back on CPU.\n",
      "No GPU detected, fall back on CPU.\n"
     ]
    },
    {
     "name": "stdout",
     "output_type": "stream",
     "text": [
      "Random Run 3 : Sample 10\n",
      "Shift p-vals:  0.10000000149011612\n",
      "Random Run 3 : Sample 20\n",
      "Shift p-vals:  0.11999999731779099\n",
      "Random Run 3 : Sample 50\n",
      "Shift p-vals:  0.6899999976158142\n",
      "Random Run 3 : Sample 100\n"
     ]
    },
    {
     "name": "stderr",
     "output_type": "stream",
     "text": [
      "No GPU detected, fall back on CPU.\n"
     ]
    },
    {
     "name": "stdout",
     "output_type": "stream",
     "text": [
      "Shift p-vals:  0.6499999761581421\n",
      "Random Run 3 : Sample 200\n"
     ]
    },
    {
     "name": "stderr",
     "output_type": "stream",
     "text": [
      "No GPU detected, fall back on CPU.\n"
     ]
    },
    {
     "name": "stdout",
     "output_type": "stream",
     "text": [
      "Shift p-vals:  0.019999999552965164\n",
      "Random Run 3 : Sample 500\n"
     ]
    },
    {
     "name": "stderr",
     "output_type": "stream",
     "text": [
      "No GPU detected, fall back on CPU.\n"
     ]
    },
    {
     "name": "stdout",
     "output_type": "stream",
     "text": [
      "Shift p-vals:  0.4300000071525574\n",
      "Random Run 3 : Sample 1000\n"
     ]
    },
    {
     "name": "stderr",
     "output_type": "stream",
     "text": [
      "No GPU detected, fall back on CPU.\n"
     ]
    },
    {
     "name": "stdout",
     "output_type": "stream",
     "text": [
      "Shift p-vals:  0.05000000074505806\n",
      "Random Run 3 : Sample 2000\n",
      "Shift p-vals:  0.20999999344348907\n"
     ]
    },
    {
     "name": "stderr",
     "output_type": "stream",
     "text": [
      "No GPU detected, fall back on CPU.\n",
      "No GPU detected, fall back on CPU.\n",
      "No GPU detected, fall back on CPU.\n",
      "No GPU detected, fall back on CPU.\n"
     ]
    },
    {
     "name": "stdout",
     "output_type": "stream",
     "text": [
      "Random Run 4 : Sample 10\n",
      "Shift p-vals:  0.7699999809265137\n",
      "Random Run 4 : Sample 20\n",
      "Shift p-vals:  0.6000000238418579\n",
      "Random Run 4 : Sample 50\n",
      "Shift p-vals:  0.75\n",
      "Random Run 4 : Sample 100\n"
     ]
    },
    {
     "name": "stderr",
     "output_type": "stream",
     "text": [
      "No GPU detected, fall back on CPU.\n"
     ]
    },
    {
     "name": "stdout",
     "output_type": "stream",
     "text": [
      "Shift p-vals:  0.0\n",
      "Random Run 4 : Sample 200\n"
     ]
    },
    {
     "name": "stderr",
     "output_type": "stream",
     "text": [
      "No GPU detected, fall back on CPU.\n"
     ]
    },
    {
     "name": "stdout",
     "output_type": "stream",
     "text": [
      "Shift p-vals:  0.9200000166893005\n",
      "Random Run 4 : Sample 500\n"
     ]
    },
    {
     "name": "stderr",
     "output_type": "stream",
     "text": [
      "No GPU detected, fall back on CPU.\n"
     ]
    },
    {
     "name": "stdout",
     "output_type": "stream",
     "text": [
      "Shift p-vals:  0.3700000047683716\n",
      "Random Run 4 : Sample 1000\n"
     ]
    },
    {
     "name": "stderr",
     "output_type": "stream",
     "text": [
      "No GPU detected, fall back on CPU.\n"
     ]
    },
    {
     "name": "stdout",
     "output_type": "stream",
     "text": [
      "Shift p-vals:  0.6499999761581421\n",
      "Random Run 4 : Sample 2000\n",
      "Shift p-vals:  0.6800000071525574\n",
      "covid | MSH | SRP | LSDD\n",
      "Shift covid\n"
     ]
    },
    {
     "name": "stderr",
     "output_type": "stream",
     "text": [
      "torch.range is deprecated and will be removed in a future release because its behavior is inconsistent with Python's range builtin. Instead, use torch.arange, which produces values in [start, end).\n"
     ]
    },
    {
     "name": "stdout",
     "output_type": "stream",
     "text": [
      "Random Run 0 : Sample 10\n",
      "No GPU detected, fall back on CPU.\n",
      "Shift p-vals:  0.9399999976158142\n",
      "Random Run 0 : Sample 20\n",
      "No GPU detected, fall back on CPU.\n",
      "Shift p-vals:  0.05000000074505806\n",
      "Random Run 0 : Sample 50\n",
      "No GPU detected, fall back on CPU.\n",
      "Shift p-vals:  0.0\n",
      "Random Run 0 : Sample 100\n",
      "No GPU detected, fall back on CPU.\n",
      "Shift p-vals:  0.0\n",
      "Random Run 0 : Sample 200\n",
      "No GPU detected, fall back on CPU.\n",
      "Shift p-vals:  0.0\n",
      "Random Run 0 : Sample 500\n",
      "No GPU detected, fall back on CPU.\n",
      "Shift p-vals:  0.38999998569488525\n",
      "Random Run 0 : Sample 1000\n",
      "No GPU detected, fall back on CPU.\n",
      "Shift p-vals:  0.0\n",
      "Random Run 0 : Sample 2000\n",
      "No GPU detected, fall back on CPU.\n",
      "Shift p-vals:  0.20000000298023224\n",
      "Random Run 1 : Sample 10\n",
      "No GPU detected, fall back on CPU.\n",
      "Shift p-vals:  0.3100000023841858\n",
      "Random Run 1 : Sample 20\n",
      "No GPU detected, fall back on CPU.\n",
      "Shift p-vals:  0.0\n",
      "Random Run 1 : Sample 50\n",
      "No GPU detected, fall back on CPU.\n",
      "Shift p-vals:  0.25\n",
      "Random Run 1 : Sample 100\n",
      "No GPU detected, fall back on CPU.\n",
      "Shift p-vals:  0.3400000035762787\n",
      "Random Run 1 : Sample 200\n",
      "No GPU detected, fall back on CPU.\n",
      "Shift p-vals:  0.0\n",
      "Random Run 1 : Sample 500\n",
      "No GPU detected, fall back on CPU.\n",
      "Shift p-vals:  0.0\n",
      "Random Run 1 : Sample 1000\n",
      "No GPU detected, fall back on CPU.\n",
      "Shift p-vals:  0.0\n",
      "Random Run 1 : Sample 2000\n",
      "No GPU detected, fall back on CPU.\n",
      "Shift p-vals:  0.0\n",
      "Random Run 2 : Sample 10\n",
      "No GPU detected, fall back on CPU.\n",
      "Shift p-vals:  0.5899999737739563\n",
      "Random Run 2 : Sample 20\n",
      "No GPU detected, fall back on CPU.\n",
      "Shift p-vals:  0.9200000166893005\n",
      "Random Run 2 : Sample 50\n",
      "No GPU detected, fall back on CPU.\n",
      "Shift p-vals:  0.11999999731779099\n",
      "Random Run 2 : Sample 100\n",
      "No GPU detected, fall back on CPU.\n",
      "Shift p-vals:  0.3199999928474426\n",
      "Random Run 2 : Sample 200\n",
      "No GPU detected, fall back on CPU.\n",
      "Shift p-vals:  0.0\n",
      "Random Run 2 : Sample 500\n",
      "No GPU detected, fall back on CPU.\n",
      "Shift p-vals:  0.009999999776482582\n",
      "Random Run 2 : Sample 1000\n",
      "No GPU detected, fall back on CPU.\n",
      "Shift p-vals:  0.0\n",
      "Random Run 2 : Sample 2000\n",
      "No GPU detected, fall back on CPU.\n",
      "Shift p-vals:  0.4000000059604645\n",
      "Random Run 3 : Sample 10\n",
      "No GPU detected, fall back on CPU.\n",
      "Shift p-vals:  0.7599999904632568\n",
      "Random Run 3 : Sample 20\n",
      "No GPU detected, fall back on CPU.\n",
      "Shift p-vals:  0.1899999976158142\n",
      "Random Run 3 : Sample 50\n",
      "No GPU detected, fall back on CPU.\n",
      "Shift p-vals:  0.46000000834465027\n",
      "Random Run 3 : Sample 100\n",
      "No GPU detected, fall back on CPU.\n",
      "Shift p-vals:  0.12999999523162842\n",
      "Random Run 3 : Sample 200\n",
      "No GPU detected, fall back on CPU.\n",
      "Shift p-vals:  0.009999999776482582\n",
      "Random Run 3 : Sample 500\n",
      "No GPU detected, fall back on CPU.\n",
      "Shift p-vals:  0.38999998569488525\n",
      "Random Run 3 : Sample 1000\n",
      "No GPU detected, fall back on CPU.\n",
      "Shift p-vals:  0.0\n",
      "Random Run 3 : Sample 2000\n",
      "No GPU detected, fall back on CPU.\n",
      "Shift p-vals:  0.0\n",
      "Random Run 4 : Sample 10\n",
      "No GPU detected, fall back on CPU.\n",
      "Shift p-vals:  0.6899999976158142\n",
      "Random Run 4 : Sample 20\n",
      "No GPU detected, fall back on CPU.\n",
      "Shift p-vals:  0.09000000357627869\n",
      "Random Run 4 : Sample 50\n",
      "No GPU detected, fall back on CPU.\n",
      "Shift p-vals:  0.07000000029802322\n",
      "Random Run 4 : Sample 100\n",
      "No GPU detected, fall back on CPU.\n",
      "Shift p-vals:  0.4000000059604645\n",
      "Random Run 4 : Sample 200\n",
      "No GPU detected, fall back on CPU.\n",
      "Shift p-vals:  0.7200000286102295\n",
      "Random Run 4 : Sample 500\n",
      "No GPU detected, fall back on CPU.\n",
      "Shift p-vals:  0.0\n",
      "Random Run 4 : Sample 1000\n",
      "No GPU detected, fall back on CPU.\n",
      "Shift p-vals:  0.009999999776482582\n",
      "Random Run 4 : Sample 2000\n",
      "No GPU detected, fall back on CPU.\n",
      "Shift p-vals:  0.029999999329447746\n",
      "covid | MSH | PCA | MMD\n",
      "Shift covid\n"
     ]
    },
    {
     "name": "stderr",
     "output_type": "stream",
     "text": [
      "torch.range is deprecated and will be removed in a future release because its behavior is inconsistent with Python's range builtin. Instead, use torch.arange, which produces values in [start, end).\n"
     ]
    },
    {
     "name": "stdout",
     "output_type": "stream",
     "text": [
      "Random Run 0 : Sample 10\n",
      "No GPU detected, fall back on CPU.\n",
      "Shift p-vals:  0.5600000023841858\n",
      "Random Run 0 : Sample 20\n",
      "No GPU detected, fall back on CPU.\n",
      "Shift p-vals:  0.36000001430511475\n",
      "Random Run 0 : Sample 50\n",
      "No GPU detected, fall back on CPU.\n",
      "Shift p-vals:  0.10000000149011612\n",
      "Random Run 0 : Sample 100\n",
      "No GPU detected, fall back on CPU.\n",
      "Shift p-vals:  0.05000000074505806\n",
      "Random Run 0 : Sample 200\n",
      "No GPU detected, fall back on CPU.\n",
      "Shift p-vals:  0.38999998569488525\n",
      "Random Run 0 : Sample 500\n",
      "No GPU detected, fall back on CPU.\n",
      "Shift p-vals:  0.800000011920929\n",
      "Random Run 0 : Sample 1000\n",
      "No GPU detected, fall back on CPU.\n",
      "Shift p-vals:  0.75\n",
      "Random Run 0 : Sample 2000\n",
      "No GPU detected, fall back on CPU.\n",
      "Shift p-vals:  0.7699999809265137\n",
      "Random Run 1 : Sample 10\n",
      "No GPU detected, fall back on CPU.\n",
      "Shift p-vals:  0.5099999904632568\n",
      "Random Run 1 : Sample 20\n",
      "No GPU detected, fall back on CPU.\n",
      "Shift p-vals:  0.5199999809265137\n",
      "Random Run 1 : Sample 50\n",
      "No GPU detected, fall back on CPU.\n",
      "Shift p-vals:  0.25999999046325684\n",
      "Random Run 1 : Sample 100\n",
      "No GPU detected, fall back on CPU.\n",
      "Shift p-vals:  0.3499999940395355\n",
      "Random Run 1 : Sample 200\n",
      "No GPU detected, fall back on CPU.\n",
      "Shift p-vals:  0.4000000059604645\n",
      "Random Run 1 : Sample 500\n",
      "No GPU detected, fall back on CPU.\n",
      "Shift p-vals:  0.5199999809265137\n",
      "Random Run 1 : Sample 1000\n",
      "No GPU detected, fall back on CPU.\n",
      "Shift p-vals:  0.5400000214576721\n",
      "Random Run 1 : Sample 2000\n",
      "No GPU detected, fall back on CPU.\n",
      "Shift p-vals:  0.4699999988079071\n",
      "Random Run 2 : Sample 10\n",
      "No GPU detected, fall back on CPU.\n",
      "Shift p-vals:  0.7799999713897705\n",
      "Random Run 2 : Sample 20\n",
      "No GPU detected, fall back on CPU.\n",
      "Shift p-vals:  0.9399999976158142\n",
      "Random Run 2 : Sample 50\n",
      "No GPU detected, fall back on CPU.\n",
      "Shift p-vals:  0.8700000047683716\n",
      "Random Run 2 : Sample 100\n",
      "No GPU detected, fall back on CPU.\n",
      "Shift p-vals:  0.4000000059604645\n",
      "Random Run 2 : Sample 200\n",
      "No GPU detected, fall back on CPU.\n",
      "Shift p-vals:  0.4099999964237213\n",
      "Random Run 2 : Sample 500\n",
      "No GPU detected, fall back on CPU.\n",
      "Shift p-vals:  0.6100000143051147\n",
      "Random Run 2 : Sample 1000\n",
      "No GPU detected, fall back on CPU.\n",
      "Shift p-vals:  0.5400000214576721\n",
      "Random Run 2 : Sample 2000\n",
      "No GPU detected, fall back on CPU.\n",
      "Shift p-vals:  0.6200000047683716\n",
      "Random Run 3 : Sample 10\n",
      "No GPU detected, fall back on CPU.\n",
      "Shift p-vals:  0.019999999552965164\n",
      "Random Run 3 : Sample 20\n",
      "No GPU detected, fall back on CPU.\n",
      "Shift p-vals:  0.23000000417232513\n",
      "Random Run 3 : Sample 50\n",
      "No GPU detected, fall back on CPU.\n",
      "Shift p-vals:  0.4099999964237213\n",
      "Random Run 3 : Sample 100\n",
      "No GPU detected, fall back on CPU.\n",
      "Shift p-vals:  0.019999999552965164\n",
      "Random Run 3 : Sample 200\n",
      "No GPU detected, fall back on CPU.\n",
      "Shift p-vals:  0.14000000059604645\n",
      "Random Run 3 : Sample 500\n",
      "No GPU detected, fall back on CPU.\n",
      "Shift p-vals:  0.7099999785423279\n",
      "Random Run 3 : Sample 1000\n",
      "No GPU detected, fall back on CPU.\n",
      "Shift p-vals:  0.6100000143051147\n",
      "Random Run 3 : Sample 2000\n",
      "No GPU detected, fall back on CPU.\n",
      "Shift p-vals:  0.5600000023841858\n",
      "Random Run 4 : Sample 10\n",
      "No GPU detected, fall back on CPU.\n",
      "Shift p-vals:  0.8299999833106995\n",
      "Random Run 4 : Sample 20\n",
      "No GPU detected, fall back on CPU.\n",
      "Shift p-vals:  0.6000000238418579\n",
      "Random Run 4 : Sample 50\n",
      "No GPU detected, fall back on CPU.\n",
      "Shift p-vals:  0.5799999833106995\n",
      "Random Run 4 : Sample 100\n",
      "No GPU detected, fall back on CPU.\n",
      "Shift p-vals:  0.25\n",
      "Random Run 4 : Sample 200\n",
      "No GPU detected, fall back on CPU.\n",
      "Shift p-vals:  0.9100000262260437\n",
      "Random Run 4 : Sample 500\n",
      "No GPU detected, fall back on CPU.\n",
      "Shift p-vals:  0.9700000286102295\n",
      "Random Run 4 : Sample 1000\n",
      "No GPU detected, fall back on CPU.\n",
      "Shift p-vals:  0.9700000286102295\n",
      "Random Run 4 : Sample 2000\n",
      "No GPU detected, fall back on CPU.\n",
      "Shift p-vals:  0.9800000190734863\n",
      "covid | MSH | PCA | LK\n",
      "Shift covid\n"
     ]
    },
    {
     "name": "stderr",
     "output_type": "stream",
     "text": [
      "torch.range is deprecated and will be removed in a future release because its behavior is inconsistent with Python's range builtin. Instead, use torch.arange, which produces values in [start, end).\n",
      "No GPU detected, fall back on CPU.\n",
      "No GPU detected, fall back on CPU.\n",
      "No GPU detected, fall back on CPU.\n",
      "No GPU detected, fall back on CPU.\n"
     ]
    },
    {
     "name": "stdout",
     "output_type": "stream",
     "text": [
      "Random Run 0 : Sample 10\n",
      "Shift p-vals:  0.9200000166893005\n",
      "Random Run 0 : Sample 20\n",
      "Shift p-vals:  0.6200000047683716\n",
      "Random Run 0 : Sample 50\n",
      "Shift p-vals:  0.5299999713897705\n",
      "Random Run 0 : Sample 100\n"
     ]
    },
    {
     "name": "stderr",
     "output_type": "stream",
     "text": [
      "No GPU detected, fall back on CPU.\n"
     ]
    },
    {
     "name": "stdout",
     "output_type": "stream",
     "text": [
      "Shift p-vals:  0.20000000298023224\n",
      "Random Run 0 : Sample 200\n"
     ]
    },
    {
     "name": "stderr",
     "output_type": "stream",
     "text": [
      "No GPU detected, fall back on CPU.\n"
     ]
    },
    {
     "name": "stdout",
     "output_type": "stream",
     "text": [
      "Shift p-vals:  0.5299999713897705\n",
      "Random Run 0 : Sample 500\n"
     ]
    },
    {
     "name": "stderr",
     "output_type": "stream",
     "text": [
      "No GPU detected, fall back on CPU.\n"
     ]
    },
    {
     "name": "stdout",
     "output_type": "stream",
     "text": [
      "Shift p-vals:  0.25\n",
      "Random Run 0 : Sample 1000\n"
     ]
    },
    {
     "name": "stderr",
     "output_type": "stream",
     "text": [
      "No GPU detected, fall back on CPU.\n"
     ]
    },
    {
     "name": "stdout",
     "output_type": "stream",
     "text": [
      "Shift p-vals:  0.5699999928474426\n",
      "Random Run 0 : Sample 2000\n",
      "Shift p-vals:  0.6100000143051147\n"
     ]
    },
    {
     "name": "stderr",
     "output_type": "stream",
     "text": [
      "No GPU detected, fall back on CPU.\n",
      "No GPU detected, fall back on CPU.\n",
      "No GPU detected, fall back on CPU.\n",
      "No GPU detected, fall back on CPU.\n"
     ]
    },
    {
     "name": "stdout",
     "output_type": "stream",
     "text": [
      "Random Run 1 : Sample 10\n",
      "Shift p-vals:  0.3400000035762787\n",
      "Random Run 1 : Sample 20\n",
      "Shift p-vals:  1.0\n",
      "Random Run 1 : Sample 50\n",
      "Shift p-vals:  0.7900000214576721\n",
      "Random Run 1 : Sample 100\n"
     ]
    },
    {
     "name": "stderr",
     "output_type": "stream",
     "text": [
      "No GPU detected, fall back on CPU.\n"
     ]
    },
    {
     "name": "stdout",
     "output_type": "stream",
     "text": [
      "Shift p-vals:  0.9200000166893005\n",
      "Random Run 1 : Sample 200\n"
     ]
    },
    {
     "name": "stderr",
     "output_type": "stream",
     "text": [
      "No GPU detected, fall back on CPU.\n"
     ]
    },
    {
     "name": "stdout",
     "output_type": "stream",
     "text": [
      "Shift p-vals:  0.20999999344348907\n",
      "Random Run 1 : Sample 500\n"
     ]
    },
    {
     "name": "stderr",
     "output_type": "stream",
     "text": [
      "No GPU detected, fall back on CPU.\n"
     ]
    },
    {
     "name": "stdout",
     "output_type": "stream",
     "text": [
      "Shift p-vals:  0.20000000298023224\n",
      "Random Run 1 : Sample 1000\n"
     ]
    },
    {
     "name": "stderr",
     "output_type": "stream",
     "text": [
      "No GPU detected, fall back on CPU.\n"
     ]
    },
    {
     "name": "stdout",
     "output_type": "stream",
     "text": [
      "Shift p-vals:  0.3100000023841858\n",
      "Random Run 1 : Sample 2000\n",
      "Shift p-vals:  0.9100000262260437\n"
     ]
    },
    {
     "name": "stderr",
     "output_type": "stream",
     "text": [
      "No GPU detected, fall back on CPU.\n",
      "No GPU detected, fall back on CPU.\n",
      "No GPU detected, fall back on CPU.\n",
      "No GPU detected, fall back on CPU.\n"
     ]
    },
    {
     "name": "stdout",
     "output_type": "stream",
     "text": [
      "Random Run 2 : Sample 10\n",
      "Shift p-vals:  1.0\n",
      "Random Run 2 : Sample 20\n",
      "Shift p-vals:  0.1899999976158142\n",
      "Random Run 2 : Sample 50\n",
      "Shift p-vals:  0.3400000035762787\n",
      "Random Run 2 : Sample 100\n"
     ]
    },
    {
     "name": "stderr",
     "output_type": "stream",
     "text": [
      "No GPU detected, fall back on CPU.\n"
     ]
    },
    {
     "name": "stdout",
     "output_type": "stream",
     "text": [
      "Shift p-vals:  0.27000001072883606\n",
      "Random Run 2 : Sample 200\n"
     ]
    },
    {
     "name": "stderr",
     "output_type": "stream",
     "text": [
      "No GPU detected, fall back on CPU.\n"
     ]
    },
    {
     "name": "stdout",
     "output_type": "stream",
     "text": [
      "Shift p-vals:  0.7599999904632568\n",
      "Random Run 2 : Sample 500\n"
     ]
    },
    {
     "name": "stderr",
     "output_type": "stream",
     "text": [
      "No GPU detected, fall back on CPU.\n"
     ]
    },
    {
     "name": "stdout",
     "output_type": "stream",
     "text": [
      "Shift p-vals:  0.17000000178813934\n",
      "Random Run 2 : Sample 1000\n"
     ]
    },
    {
     "name": "stderr",
     "output_type": "stream",
     "text": [
      "No GPU detected, fall back on CPU.\n"
     ]
    },
    {
     "name": "stdout",
     "output_type": "stream",
     "text": [
      "Shift p-vals:  0.019999999552965164\n",
      "Random Run 2 : Sample 2000\n",
      "Shift p-vals:  0.18000000715255737\n"
     ]
    },
    {
     "name": "stderr",
     "output_type": "stream",
     "text": [
      "No GPU detected, fall back on CPU.\n",
      "No GPU detected, fall back on CPU.\n",
      "No GPU detected, fall back on CPU.\n"
     ]
    },
    {
     "name": "stdout",
     "output_type": "stream",
     "text": [
      "Random Run 3 : Sample 10\n",
      "Shift p-vals:  0.8799999952316284\n",
      "Random Run 3 : Sample 20\n",
      "Shift p-vals:  0.2800000011920929\n",
      "Random Run 3 : Sample 50\n",
      "Shift p-vals:  0.36000001430511475\n",
      "Random Run 3 : Sample 100\n"
     ]
    },
    {
     "name": "stderr",
     "output_type": "stream",
     "text": [
      "No GPU detected, fall back on CPU.\n",
      "No GPU detected, fall back on CPU.\n"
     ]
    },
    {
     "name": "stdout",
     "output_type": "stream",
     "text": [
      "Shift p-vals:  0.029999999329447746\n",
      "Random Run 3 : Sample 200\n"
     ]
    },
    {
     "name": "stderr",
     "output_type": "stream",
     "text": [
      "No GPU detected, fall back on CPU.\n"
     ]
    },
    {
     "name": "stdout",
     "output_type": "stream",
     "text": [
      "Shift p-vals:  0.11999999731779099\n",
      "Random Run 3 : Sample 500\n"
     ]
    },
    {
     "name": "stderr",
     "output_type": "stream",
     "text": [
      "No GPU detected, fall back on CPU.\n"
     ]
    },
    {
     "name": "stdout",
     "output_type": "stream",
     "text": [
      "Shift p-vals:  0.6100000143051147\n",
      "Random Run 3 : Sample 1000\n"
     ]
    },
    {
     "name": "stderr",
     "output_type": "stream",
     "text": [
      "No GPU detected, fall back on CPU.\n"
     ]
    },
    {
     "name": "stdout",
     "output_type": "stream",
     "text": [
      "Shift p-vals:  0.44999998807907104\n",
      "Random Run 3 : Sample 2000\n",
      "Shift p-vals:  0.7699999809265137\n"
     ]
    },
    {
     "name": "stderr",
     "output_type": "stream",
     "text": [
      "No GPU detected, fall back on CPU.\n",
      "No GPU detected, fall back on CPU.\n",
      "No GPU detected, fall back on CPU.\n"
     ]
    },
    {
     "name": "stdout",
     "output_type": "stream",
     "text": [
      "Random Run 4 : Sample 10\n",
      "Shift p-vals:  0.8399999737739563\n",
      "Random Run 4 : Sample 20\n",
      "Shift p-vals:  0.11999999731779099\n",
      "Random Run 4 : Sample 50\n",
      "Shift p-vals:  0.9900000095367432\n",
      "Random Run 4 : Sample 100\n"
     ]
    },
    {
     "name": "stderr",
     "output_type": "stream",
     "text": [
      "No GPU detected, fall back on CPU.\n",
      "No GPU detected, fall back on CPU.\n"
     ]
    },
    {
     "name": "stdout",
     "output_type": "stream",
     "text": [
      "Shift p-vals:  0.6700000166893005\n",
      "Random Run 4 : Sample 200\n"
     ]
    },
    {
     "name": "stderr",
     "output_type": "stream",
     "text": [
      "No GPU detected, fall back on CPU.\n"
     ]
    },
    {
     "name": "stdout",
     "output_type": "stream",
     "text": [
      "Shift p-vals:  0.4699999988079071\n",
      "Random Run 4 : Sample 500\n"
     ]
    },
    {
     "name": "stderr",
     "output_type": "stream",
     "text": [
      "No GPU detected, fall back on CPU.\n"
     ]
    },
    {
     "name": "stdout",
     "output_type": "stream",
     "text": [
      "Shift p-vals:  0.8999999761581421\n",
      "Random Run 4 : Sample 1000\n"
     ]
    },
    {
     "name": "stderr",
     "output_type": "stream",
     "text": [
      "No GPU detected, fall back on CPU.\n"
     ]
    },
    {
     "name": "stdout",
     "output_type": "stream",
     "text": [
      "Shift p-vals:  0.9399999976158142\n",
      "Random Run 4 : Sample 2000\n",
      "Shift p-vals:  0.009999999776482582\n",
      "covid | MSH | PCA | LSDD\n",
      "Shift covid\n"
     ]
    },
    {
     "name": "stderr",
     "output_type": "stream",
     "text": [
      "torch.range is deprecated and will be removed in a future release because its behavior is inconsistent with Python's range builtin. Instead, use torch.arange, which produces values in [start, end).\n"
     ]
    },
    {
     "name": "stdout",
     "output_type": "stream",
     "text": [
      "Random Run 0 : Sample 10\n",
      "No GPU detected, fall back on CPU.\n",
      "Shift p-vals:  0.5699999928474426\n",
      "Random Run 0 : Sample 20\n",
      "No GPU detected, fall back on CPU.\n",
      "Shift p-vals:  0.11999999731779099\n",
      "Random Run 0 : Sample 50\n",
      "No GPU detected, fall back on CPU.\n",
      "Shift p-vals:  0.20999999344348907\n",
      "Random Run 0 : Sample 100\n",
      "No GPU detected, fall back on CPU.\n",
      "Shift p-vals:  0.009999999776482582\n",
      "Random Run 0 : Sample 200\n",
      "No GPU detected, fall back on CPU.\n",
      "Shift p-vals:  0.5400000214576721\n",
      "Random Run 0 : Sample 500\n",
      "No GPU detected, fall back on CPU.\n",
      "Shift p-vals:  0.3700000047683716\n",
      "Random Run 0 : Sample 1000\n",
      "No GPU detected, fall back on CPU.\n",
      "Shift p-vals:  0.5699999928474426\n",
      "Random Run 0 : Sample 2000\n",
      "No GPU detected, fall back on CPU.\n",
      "Shift p-vals:  0.6499999761581421\n",
      "Random Run 1 : Sample 10\n",
      "No GPU detected, fall back on CPU.\n",
      "Shift p-vals:  1.0\n",
      "Random Run 1 : Sample 20\n",
      "No GPU detected, fall back on CPU.\n",
      "Shift p-vals:  0.2800000011920929\n",
      "Random Run 1 : Sample 50\n",
      "No GPU detected, fall back on CPU.\n",
      "Shift p-vals:  0.5\n",
      "Random Run 1 : Sample 100\n",
      "No GPU detected, fall back on CPU.\n",
      "Shift p-vals:  0.550000011920929\n",
      "Random Run 1 : Sample 200\n",
      "No GPU detected, fall back on CPU.\n",
      "Shift p-vals:  0.5400000214576721\n",
      "Random Run 1 : Sample 500\n",
      "No GPU detected, fall back on CPU.\n",
      "Shift p-vals:  0.550000011920929\n",
      "Random Run 1 : Sample 1000\n",
      "No GPU detected, fall back on CPU.\n",
      "Shift p-vals:  0.3400000035762787\n",
      "Random Run 1 : Sample 2000\n",
      "No GPU detected, fall back on CPU.\n",
      "Shift p-vals:  0.6499999761581421\n",
      "Random Run 2 : Sample 10\n",
      "No GPU detected, fall back on CPU.\n",
      "Shift p-vals:  0.7799999713897705\n",
      "Random Run 2 : Sample 20\n",
      "No GPU detected, fall back on CPU.\n",
      "Shift p-vals:  0.8999999761581421\n",
      "Random Run 2 : Sample 50\n",
      "No GPU detected, fall back on CPU.\n",
      "Shift p-vals:  0.6399999856948853\n",
      "Random Run 2 : Sample 100\n",
      "No GPU detected, fall back on CPU.\n",
      "Shift p-vals:  0.4699999988079071\n",
      "Random Run 2 : Sample 200\n",
      "No GPU detected, fall back on CPU.\n",
      "Shift p-vals:  0.8100000023841858\n",
      "Random Run 2 : Sample 500\n",
      "No GPU detected, fall back on CPU.\n",
      "Shift p-vals:  0.5799999833106995\n",
      "Random Run 2 : Sample 1000\n",
      "No GPU detected, fall back on CPU.\n",
      "Shift p-vals:  0.6499999761581421\n",
      "Random Run 2 : Sample 2000\n",
      "No GPU detected, fall back on CPU.\n",
      "Shift p-vals:  0.6399999856948853\n",
      "Random Run 3 : Sample 10\n",
      "No GPU detected, fall back on CPU.\n",
      "Shift p-vals:  0.17000000178813934\n",
      "Random Run 3 : Sample 20\n",
      "No GPU detected, fall back on CPU.\n",
      "Shift p-vals:  0.17000000178813934\n",
      "Random Run 3 : Sample 50\n",
      "No GPU detected, fall back on CPU.\n",
      "Shift p-vals:  0.10999999940395355\n",
      "Random Run 3 : Sample 100\n",
      "No GPU detected, fall back on CPU.\n",
      "Shift p-vals:  0.029999999329447746\n",
      "Random Run 3 : Sample 200\n",
      "No GPU detected, fall back on CPU.\n",
      "Shift p-vals:  0.4300000071525574\n",
      "Random Run 3 : Sample 500\n",
      "No GPU detected, fall back on CPU.\n",
      "Shift p-vals:  0.46000000834465027\n",
      "Random Run 3 : Sample 1000\n",
      "No GPU detected, fall back on CPU.\n",
      "Shift p-vals:  0.36000001430511475\n",
      "Random Run 3 : Sample 2000\n",
      "No GPU detected, fall back on CPU.\n",
      "Shift p-vals:  0.4300000071525574\n",
      "Random Run 4 : Sample 10\n",
      "No GPU detected, fall back on CPU.\n",
      "Shift p-vals:  0.6100000143051147\n",
      "Random Run 4 : Sample 20\n",
      "No GPU detected, fall back on CPU.\n",
      "Shift p-vals:  0.7099999785423279\n",
      "Random Run 4 : Sample 50\n",
      "No GPU detected, fall back on CPU.\n",
      "Shift p-vals:  0.10999999940395355\n",
      "Random Run 4 : Sample 100\n",
      "No GPU detected, fall back on CPU.\n",
      "Shift p-vals:  0.1599999964237213\n",
      "Random Run 4 : Sample 200\n",
      "No GPU detected, fall back on CPU.\n",
      "Shift p-vals:  0.8799999952316284\n",
      "Random Run 4 : Sample 500\n",
      "No GPU detected, fall back on CPU.\n",
      "Shift p-vals:  0.9200000166893005\n",
      "Random Run 4 : Sample 1000\n",
      "No GPU detected, fall back on CPU.\n",
      "Shift p-vals:  0.9599999785423279\n",
      "Random Run 4 : Sample 2000\n",
      "No GPU detected, fall back on CPU.\n",
      "Shift p-vals:  0.9800000190734863\n",
      "covid | MSH | BBSDs_FFNN | MMD\n",
      "Shift covid\n"
     ]
    },
    {
     "name": "stderr",
     "output_type": "stream",
     "text": [
      "torch.range is deprecated and will be removed in a future release because its behavior is inconsistent with Python's range builtin. Instead, use torch.arange, which produces values in [start, end).\n"
     ]
    },
    {
     "name": "stdout",
     "output_type": "stream",
     "text": [
      "Random Run 0 : Sample 10\n",
      "No GPU detected, fall back on CPU.\n",
      "Shift p-vals:  0.4300000071525574\n",
      "Random Run 0 : Sample 20\n",
      "No GPU detected, fall back on CPU.\n",
      "Shift p-vals:  0.41999998688697815\n",
      "Random Run 0 : Sample 50\n",
      "No GPU detected, fall back on CPU.\n",
      "Shift p-vals:  0.12999999523162842\n",
      "Random Run 0 : Sample 100\n",
      "No GPU detected, fall back on CPU.\n",
      "Shift p-vals:  0.1599999964237213\n",
      "Random Run 0 : Sample 200\n",
      "No GPU detected, fall back on CPU.\n",
      "Shift p-vals:  0.3100000023841858\n",
      "Random Run 0 : Sample 500\n",
      "No GPU detected, fall back on CPU.\n",
      "Shift p-vals:  0.7200000286102295\n",
      "Random Run 0 : Sample 1000\n",
      "No GPU detected, fall back on CPU.\n",
      "Shift p-vals:  0.7900000214576721\n",
      "Random Run 0 : Sample 2000\n",
      "No GPU detected, fall back on CPU.\n",
      "Shift p-vals:  0.5299999713897705\n",
      "Random Run 1 : Sample 10\n",
      "No GPU detected, fall back on CPU.\n",
      "Shift p-vals:  0.6299999952316284\n",
      "Random Run 1 : Sample 20\n",
      "No GPU detected, fall back on CPU.\n",
      "Shift p-vals:  0.8299999833106995\n",
      "Random Run 1 : Sample 50\n",
      "No GPU detected, fall back on CPU.\n",
      "Shift p-vals:  0.27000001072883606\n",
      "Random Run 1 : Sample 100\n",
      "No GPU detected, fall back on CPU.\n",
      "Shift p-vals:  0.5899999737739563\n",
      "Random Run 1 : Sample 200\n",
      "No GPU detected, fall back on CPU.\n",
      "Shift p-vals:  0.9399999976158142\n",
      "Random Run 1 : Sample 500\n",
      "No GPU detected, fall back on CPU.\n",
      "Shift p-vals:  0.49000000953674316\n",
      "Random Run 1 : Sample 1000\n",
      "No GPU detected, fall back on CPU.\n",
      "Shift p-vals:  0.9200000166893005\n",
      "Random Run 1 : Sample 2000\n",
      "No GPU detected, fall back on CPU.\n",
      "Shift p-vals:  0.09000000357627869\n",
      "Random Run 2 : Sample 10\n",
      "No GPU detected, fall back on CPU.\n",
      "Shift p-vals:  0.8299999833106995\n",
      "Random Run 2 : Sample 20\n",
      "No GPU detected, fall back on CPU.\n",
      "Shift p-vals:  0.4300000071525574\n",
      "Random Run 2 : Sample 50\n",
      "No GPU detected, fall back on CPU.\n",
      "Shift p-vals:  0.7300000190734863\n",
      "Random Run 2 : Sample 100\n",
      "No GPU detected, fall back on CPU.\n",
      "Shift p-vals:  0.800000011920929\n",
      "Random Run 2 : Sample 200\n",
      "No GPU detected, fall back on CPU.\n",
      "Shift p-vals:  0.4000000059604645\n",
      "Random Run 2 : Sample 500\n",
      "No GPU detected, fall back on CPU.\n",
      "Shift p-vals:  0.20999999344348907\n",
      "Random Run 2 : Sample 1000\n",
      "No GPU detected, fall back on CPU.\n",
      "Shift p-vals:  0.9700000286102295\n",
      "Random Run 2 : Sample 2000\n",
      "No GPU detected, fall back on CPU.\n",
      "Shift p-vals:  0.27000001072883606\n",
      "Random Run 3 : Sample 10\n",
      "No GPU detected, fall back on CPU.\n",
      "Shift p-vals:  0.0\n",
      "Random Run 3 : Sample 20\n",
      "No GPU detected, fall back on CPU.\n",
      "Shift p-vals:  0.7799999713897705\n",
      "Random Run 3 : Sample 50\n",
      "No GPU detected, fall back on CPU.\n",
      "Shift p-vals:  0.3400000035762787\n",
      "Random Run 3 : Sample 100\n",
      "No GPU detected, fall back on CPU.\n",
      "Shift p-vals:  0.05999999865889549\n",
      "Random Run 3 : Sample 200\n",
      "No GPU detected, fall back on CPU.\n",
      "Shift p-vals:  0.20000000298023224\n",
      "Random Run 3 : Sample 500\n",
      "No GPU detected, fall back on CPU.\n",
      "Shift p-vals:  0.3100000023841858\n",
      "Random Run 3 : Sample 1000\n",
      "No GPU detected, fall back on CPU.\n",
      "Shift p-vals:  0.11999999731779099\n",
      "Random Run 3 : Sample 2000\n",
      "No GPU detected, fall back on CPU.\n",
      "Shift p-vals:  0.4000000059604645\n",
      "Random Run 4 : Sample 10\n",
      "No GPU detected, fall back on CPU.\n",
      "Shift p-vals:  0.5699999928474426\n",
      "Random Run 4 : Sample 20\n",
      "No GPU detected, fall back on CPU.\n",
      "Shift p-vals:  0.3799999952316284\n",
      "Random Run 4 : Sample 50\n",
      "No GPU detected, fall back on CPU.\n",
      "Shift p-vals:  0.800000011920929\n",
      "Random Run 4 : Sample 100\n",
      "No GPU detected, fall back on CPU.\n",
      "Shift p-vals:  0.36000001430511475\n",
      "Random Run 4 : Sample 200\n",
      "No GPU detected, fall back on CPU.\n",
      "Shift p-vals:  0.36000001430511475\n",
      "Random Run 4 : Sample 500\n",
      "No GPU detected, fall back on CPU.\n",
      "Shift p-vals:  0.7200000286102295\n",
      "Random Run 4 : Sample 1000\n",
      "No GPU detected, fall back on CPU.\n",
      "Shift p-vals:  0.5799999833106995\n",
      "Random Run 4 : Sample 2000\n",
      "No GPU detected, fall back on CPU.\n",
      "Shift p-vals:  0.23999999463558197\n",
      "covid | MSH | BBSDs_FFNN | LK\n",
      "Shift covid\n"
     ]
    },
    {
     "name": "stderr",
     "output_type": "stream",
     "text": [
      "torch.range is deprecated and will be removed in a future release because its behavior is inconsistent with Python's range builtin. Instead, use torch.arange, which produces values in [start, end).\n",
      "No GPU detected, fall back on CPU.\n",
      "No GPU detected, fall back on CPU.\n",
      "No GPU detected, fall back on CPU.\n",
      "No GPU detected, fall back on CPU.\n"
     ]
    },
    {
     "name": "stdout",
     "output_type": "stream",
     "text": [
      "Random Run 0 : Sample 10\n",
      "Shift p-vals:  0.800000011920929\n",
      "Random Run 0 : Sample 20\n",
      "Shift p-vals:  0.6700000166893005\n",
      "Random Run 0 : Sample 50\n",
      "Shift p-vals:  0.2199999988079071\n",
      "Random Run 0 : Sample 100\n"
     ]
    },
    {
     "name": "stderr",
     "output_type": "stream",
     "text": [
      "No GPU detected, fall back on CPU.\n"
     ]
    },
    {
     "name": "stdout",
     "output_type": "stream",
     "text": [
      "Shift p-vals:  0.7699999809265137\n",
      "Random Run 0 : Sample 200\n"
     ]
    },
    {
     "name": "stderr",
     "output_type": "stream",
     "text": [
      "No GPU detected, fall back on CPU.\n"
     ]
    },
    {
     "name": "stdout",
     "output_type": "stream",
     "text": [
      "Shift p-vals:  0.3799999952316284\n",
      "Random Run 0 : Sample 500\n"
     ]
    },
    {
     "name": "stderr",
     "output_type": "stream",
     "text": [
      "No GPU detected, fall back on CPU.\n"
     ]
    },
    {
     "name": "stdout",
     "output_type": "stream",
     "text": [
      "Shift p-vals:  0.5600000023841858\n",
      "Random Run 0 : Sample 1000\n"
     ]
    },
    {
     "name": "stderr",
     "output_type": "stream",
     "text": [
      "No GPU detected, fall back on CPU.\n"
     ]
    },
    {
     "name": "stdout",
     "output_type": "stream",
     "text": [
      "Shift p-vals:  0.4699999988079071\n",
      "Random Run 0 : Sample 2000\n",
      "Shift p-vals:  0.1599999964237213\n"
     ]
    },
    {
     "name": "stderr",
     "output_type": "stream",
     "text": [
      "No GPU detected, fall back on CPU.\n",
      "No GPU detected, fall back on CPU.\n",
      "No GPU detected, fall back on CPU.\n",
      "No GPU detected, fall back on CPU.\n"
     ]
    },
    {
     "name": "stdout",
     "output_type": "stream",
     "text": [
      "Random Run 1 : Sample 10\n",
      "Shift p-vals:  0.8199999928474426\n",
      "Random Run 1 : Sample 20\n",
      "Shift p-vals:  0.9200000166893005\n",
      "Random Run 1 : Sample 50\n",
      "Shift p-vals:  0.8700000047683716\n",
      "Random Run 1 : Sample 100\n"
     ]
    },
    {
     "name": "stderr",
     "output_type": "stream",
     "text": [
      "No GPU detected, fall back on CPU.\n"
     ]
    },
    {
     "name": "stdout",
     "output_type": "stream",
     "text": [
      "Shift p-vals:  0.6700000166893005\n",
      "Random Run 1 : Sample 200\n"
     ]
    },
    {
     "name": "stderr",
     "output_type": "stream",
     "text": [
      "No GPU detected, fall back on CPU.\n"
     ]
    },
    {
     "name": "stdout",
     "output_type": "stream",
     "text": [
      "Shift p-vals:  0.550000011920929\n",
      "Random Run 1 : Sample 500\n"
     ]
    },
    {
     "name": "stderr",
     "output_type": "stream",
     "text": [
      "No GPU detected, fall back on CPU.\n"
     ]
    },
    {
     "name": "stdout",
     "output_type": "stream",
     "text": [
      "Shift p-vals:  0.8799999952316284\n",
      "Random Run 1 : Sample 1000\n"
     ]
    },
    {
     "name": "stderr",
     "output_type": "stream",
     "text": [
      "No GPU detected, fall back on CPU.\n"
     ]
    },
    {
     "name": "stdout",
     "output_type": "stream",
     "text": [
      "Shift p-vals:  0.28999999165534973\n",
      "Random Run 1 : Sample 2000\n",
      "Shift p-vals:  0.7900000214576721\n"
     ]
    },
    {
     "name": "stderr",
     "output_type": "stream",
     "text": [
      "No GPU detected, fall back on CPU.\n",
      "No GPU detected, fall back on CPU.\n",
      "No GPU detected, fall back on CPU.\n",
      "No GPU detected, fall back on CPU.\n"
     ]
    },
    {
     "name": "stdout",
     "output_type": "stream",
     "text": [
      "Random Run 2 : Sample 10\n",
      "Shift p-vals:  0.8399999737739563\n",
      "Random Run 2 : Sample 20\n",
      "Shift p-vals:  0.46000000834465027\n",
      "Random Run 2 : Sample 50\n",
      "Shift p-vals:  0.4300000071525574\n",
      "Random Run 2 : Sample 100\n"
     ]
    },
    {
     "name": "stderr",
     "output_type": "stream",
     "text": [
      "No GPU detected, fall back on CPU.\n"
     ]
    },
    {
     "name": "stdout",
     "output_type": "stream",
     "text": [
      "Shift p-vals:  0.33000001311302185\n",
      "Random Run 2 : Sample 200\n"
     ]
    },
    {
     "name": "stderr",
     "output_type": "stream",
     "text": [
      "No GPU detected, fall back on CPU.\n"
     ]
    },
    {
     "name": "stdout",
     "output_type": "stream",
     "text": [
      "Shift p-vals:  0.4300000071525574\n",
      "Random Run 2 : Sample 500\n"
     ]
    },
    {
     "name": "stderr",
     "output_type": "stream",
     "text": [
      "No GPU detected, fall back on CPU.\n"
     ]
    },
    {
     "name": "stdout",
     "output_type": "stream",
     "text": [
      "Shift p-vals:  0.949999988079071\n",
      "Random Run 2 : Sample 1000\n"
     ]
    },
    {
     "name": "stderr",
     "output_type": "stream",
     "text": [
      "No GPU detected, fall back on CPU.\n"
     ]
    },
    {
     "name": "stdout",
     "output_type": "stream",
     "text": [
      "Shift p-vals:  0.8399999737739563\n",
      "Random Run 2 : Sample 2000\n",
      "Shift p-vals:  0.6399999856948853\n"
     ]
    },
    {
     "name": "stderr",
     "output_type": "stream",
     "text": [
      "No GPU detected, fall back on CPU.\n",
      "No GPU detected, fall back on CPU.\n",
      "No GPU detected, fall back on CPU.\n",
      "No GPU detected, fall back on CPU.\n"
     ]
    },
    {
     "name": "stdout",
     "output_type": "stream",
     "text": [
      "Random Run 3 : Sample 10\n",
      "Shift p-vals:  0.9900000095367432\n",
      "Random Run 3 : Sample 20\n",
      "Shift p-vals:  0.6399999856948853\n",
      "Random Run 3 : Sample 50\n",
      "Shift p-vals:  0.7799999713897705\n",
      "Random Run 3 : Sample 100\n"
     ]
    },
    {
     "name": "stderr",
     "output_type": "stream",
     "text": [
      "No GPU detected, fall back on CPU.\n"
     ]
    },
    {
     "name": "stdout",
     "output_type": "stream",
     "text": [
      "Shift p-vals:  0.3799999952316284\n",
      "Random Run 3 : Sample 200\n"
     ]
    },
    {
     "name": "stderr",
     "output_type": "stream",
     "text": [
      "No GPU detected, fall back on CPU.\n"
     ]
    },
    {
     "name": "stdout",
     "output_type": "stream",
     "text": [
      "Shift p-vals:  0.2199999988079071\n",
      "Random Run 3 : Sample 500\n"
     ]
    },
    {
     "name": "stderr",
     "output_type": "stream",
     "text": [
      "No GPU detected, fall back on CPU.\n"
     ]
    },
    {
     "name": "stdout",
     "output_type": "stream",
     "text": [
      "Shift p-vals:  0.20999999344348907\n",
      "Random Run 3 : Sample 1000\n"
     ]
    },
    {
     "name": "stderr",
     "output_type": "stream",
     "text": [
      "No GPU detected, fall back on CPU.\n"
     ]
    },
    {
     "name": "stdout",
     "output_type": "stream",
     "text": [
      "Shift p-vals:  0.44999998807907104\n",
      "Random Run 3 : Sample 2000\n",
      "Shift p-vals:  0.30000001192092896\n"
     ]
    },
    {
     "name": "stderr",
     "output_type": "stream",
     "text": [
      "No GPU detected, fall back on CPU.\n",
      "No GPU detected, fall back on CPU.\n",
      "No GPU detected, fall back on CPU.\n",
      "No GPU detected, fall back on CPU.\n"
     ]
    },
    {
     "name": "stdout",
     "output_type": "stream",
     "text": [
      "Random Run 4 : Sample 10\n",
      "Shift p-vals:  0.7900000214576721\n",
      "Random Run 4 : Sample 20\n",
      "Shift p-vals:  0.8700000047683716\n",
      "Random Run 4 : Sample 50\n",
      "Shift p-vals:  0.6499999761581421\n",
      "Random Run 4 : Sample 100\n"
     ]
    },
    {
     "name": "stderr",
     "output_type": "stream",
     "text": [
      "No GPU detected, fall back on CPU.\n"
     ]
    },
    {
     "name": "stdout",
     "output_type": "stream",
     "text": [
      "Shift p-vals:  0.4000000059604645\n",
      "Random Run 4 : Sample 200\n"
     ]
    },
    {
     "name": "stderr",
     "output_type": "stream",
     "text": [
      "No GPU detected, fall back on CPU.\n"
     ]
    },
    {
     "name": "stdout",
     "output_type": "stream",
     "text": [
      "Shift p-vals:  0.20000000298023224\n",
      "Random Run 4 : Sample 500\n"
     ]
    },
    {
     "name": "stderr",
     "output_type": "stream",
     "text": [
      "No GPU detected, fall back on CPU.\n"
     ]
    },
    {
     "name": "stdout",
     "output_type": "stream",
     "text": [
      "Shift p-vals:  0.20999999344348907\n",
      "Random Run 4 : Sample 1000\n"
     ]
    },
    {
     "name": "stderr",
     "output_type": "stream",
     "text": [
      "No GPU detected, fall back on CPU.\n"
     ]
    },
    {
     "name": "stdout",
     "output_type": "stream",
     "text": [
      "Shift p-vals:  0.2800000011920929\n",
      "Random Run 4 : Sample 2000\n",
      "Shift p-vals:  0.2800000011920929\n",
      "covid | MSH | BBSDs_FFNN | LSDD\n",
      "Shift covid\n"
     ]
    },
    {
     "name": "stderr",
     "output_type": "stream",
     "text": [
      "torch.range is deprecated and will be removed in a future release because its behavior is inconsistent with Python's range builtin. Instead, use torch.arange, which produces values in [start, end).\n"
     ]
    },
    {
     "name": "stdout",
     "output_type": "stream",
     "text": [
      "Random Run 0 : Sample 10\n",
      "No GPU detected, fall back on CPU.\n",
      "Shift p-vals:  0.3799999952316284\n",
      "Random Run 0 : Sample 20\n",
      "No GPU detected, fall back on CPU.\n",
      "Shift p-vals:  0.4699999988079071\n",
      "Random Run 0 : Sample 50\n",
      "No GPU detected, fall back on CPU.\n",
      "Shift p-vals:  0.6000000238418579\n",
      "Random Run 0 : Sample 100\n",
      "No GPU detected, fall back on CPU.\n",
      "Shift p-vals:  0.09000000357627869\n",
      "Random Run 0 : Sample 200\n",
      "No GPU detected, fall back on CPU.\n",
      "Shift p-vals:  0.7400000095367432\n",
      "Random Run 0 : Sample 500\n",
      "No GPU detected, fall back on CPU.\n",
      "Shift p-vals:  0.7799999713897705\n",
      "Random Run 0 : Sample 1000\n",
      "No GPU detected, fall back on CPU.\n",
      "Shift p-vals:  0.8199999928474426\n",
      "Random Run 0 : Sample 2000\n",
      "No GPU detected, fall back on CPU.\n",
      "Shift p-vals:  0.7099999785423279\n",
      "Random Run 1 : Sample 10\n",
      "No GPU detected, fall back on CPU.\n",
      "Shift p-vals:  0.4399999976158142\n",
      "Random Run 1 : Sample 20\n",
      "No GPU detected, fall back on CPU.\n",
      "Shift p-vals:  0.9900000095367432\n",
      "Random Run 1 : Sample 50\n",
      "No GPU detected, fall back on CPU.\n",
      "Shift p-vals:  0.6899999976158142\n",
      "Random Run 1 : Sample 100\n",
      "No GPU detected, fall back on CPU.\n",
      "Shift p-vals:  0.029999999329447746\n",
      "Random Run 1 : Sample 200\n",
      "No GPU detected, fall back on CPU.\n",
      "Shift p-vals:  0.47999998927116394\n",
      "Random Run 1 : Sample 500\n",
      "No GPU detected, fall back on CPU.\n",
      "Shift p-vals:  0.9800000190734863\n",
      "Random Run 1 : Sample 1000\n",
      "No GPU detected, fall back on CPU.\n",
      "Shift p-vals:  0.8199999928474426\n",
      "Random Run 1 : Sample 2000\n",
      "No GPU detected, fall back on CPU.\n",
      "Shift p-vals:  0.009999999776482582\n",
      "Random Run 2 : Sample 10\n",
      "No GPU detected, fall back on CPU.\n",
      "Shift p-vals:  0.800000011920929\n",
      "Random Run 2 : Sample 20\n",
      "No GPU detected, fall back on CPU.\n",
      "Shift p-vals:  0.12999999523162842\n",
      "Random Run 2 : Sample 50\n",
      "No GPU detected, fall back on CPU.\n",
      "Shift p-vals:  0.8500000238418579\n",
      "Random Run 2 : Sample 100\n",
      "No GPU detected, fall back on CPU.\n",
      "Shift p-vals:  0.7599999904632568\n",
      "Random Run 2 : Sample 200\n",
      "No GPU detected, fall back on CPU.\n",
      "Shift p-vals:  0.09000000357627869\n",
      "Random Run 2 : Sample 500\n",
      "No GPU detected, fall back on CPU.\n",
      "Shift p-vals:  0.47999998927116394\n",
      "Random Run 2 : Sample 1000\n",
      "No GPU detected, fall back on CPU.\n",
      "Shift p-vals:  0.1899999976158142\n",
      "Random Run 2 : Sample 2000\n",
      "No GPU detected, fall back on CPU.\n",
      "Shift p-vals:  0.7400000095367432\n",
      "Random Run 3 : Sample 10\n",
      "No GPU detected, fall back on CPU.\n",
      "Shift p-vals:  0.05000000074505806\n",
      "Random Run 3 : Sample 20\n",
      "No GPU detected, fall back on CPU.\n",
      "Shift p-vals:  0.019999999552965164\n",
      "Random Run 3 : Sample 50\n",
      "No GPU detected, fall back on CPU.\n",
      "Shift p-vals:  0.3400000035762787\n",
      "Random Run 3 : Sample 100\n",
      "No GPU detected, fall back on CPU.\n",
      "Shift p-vals:  0.38999998569488525\n",
      "Random Run 3 : Sample 200\n",
      "No GPU detected, fall back on CPU.\n",
      "Shift p-vals:  0.38999998569488525\n",
      "Random Run 3 : Sample 500\n",
      "No GPU detected, fall back on CPU.\n",
      "Shift p-vals:  0.25999999046325684\n",
      "Random Run 3 : Sample 1000\n",
      "No GPU detected, fall back on CPU.\n",
      "Shift p-vals:  0.8899999856948853\n",
      "Random Run 3 : Sample 2000\n",
      "No GPU detected, fall back on CPU.\n",
      "Shift p-vals:  0.8600000143051147\n",
      "Random Run 4 : Sample 10\n",
      "No GPU detected, fall back on CPU.\n",
      "Shift p-vals:  0.949999988079071\n",
      "Random Run 4 : Sample 20\n",
      "No GPU detected, fall back on CPU.\n",
      "Shift p-vals:  0.3199999928474426\n",
      "Random Run 4 : Sample 50\n",
      "No GPU detected, fall back on CPU.\n",
      "Shift p-vals:  0.33000001311302185\n",
      "Random Run 4 : Sample 100\n",
      "No GPU detected, fall back on CPU.\n",
      "Shift p-vals:  0.3100000023841858\n",
      "Random Run 4 : Sample 200\n",
      "No GPU detected, fall back on CPU.\n",
      "Shift p-vals:  0.09000000357627869\n",
      "Random Run 4 : Sample 500\n",
      "No GPU detected, fall back on CPU.\n",
      "Shift p-vals:  0.7099999785423279\n",
      "Random Run 4 : Sample 1000\n",
      "No GPU detected, fall back on CPU.\n",
      "Shift p-vals:  0.17000000178813934\n",
      "Random Run 4 : Sample 2000\n",
      "No GPU detected, fall back on CPU.\n",
      "Shift p-vals:  0.3700000047683716\n",
      "summer | SMH | NoRed | MMD\n",
      "Shift summer\n"
     ]
    },
    {
     "name": "stderr",
     "output_type": "stream",
     "text": [
      "torch.range is deprecated and will be removed in a future release because its behavior is inconsistent with Python's range builtin. Instead, use torch.arange, which produces values in [start, end).\n"
     ]
    },
    {
     "name": "stdout",
     "output_type": "stream",
     "text": [
      "Random Run 0 : Sample 10\n",
      "No GPU detected, fall back on CPU.\n",
      "Shift p-vals:  0.9200000166893005\n",
      "Random Run 0 : Sample 20\n",
      "No GPU detected, fall back on CPU.\n",
      "Shift p-vals:  0.7599999904632568\n",
      "Random Run 0 : Sample 50\n",
      "No GPU detected, fall back on CPU.\n",
      "Shift p-vals:  0.7699999809265137\n",
      "Random Run 0 : Sample 100\n",
      "No GPU detected, fall back on CPU.\n",
      "Shift p-vals:  0.7099999785423279\n",
      "Random Run 0 : Sample 200\n",
      "No GPU detected, fall back on CPU.\n",
      "Shift p-vals:  0.8100000023841858\n",
      "Random Run 0 : Sample 500\n",
      "No GPU detected, fall back on CPU.\n",
      "Shift p-vals:  0.75\n",
      "Random Run 0 : Sample 1000\n",
      "No GPU detected, fall back on CPU.\n",
      "Shift p-vals:  0.7699999809265137\n",
      "Random Run 0 : Sample 2000\n",
      "No GPU detected, fall back on CPU.\n",
      "Shift p-vals:  0.699999988079071\n",
      "Random Run 1 : Sample 10\n",
      "No GPU detected, fall back on CPU.\n",
      "Shift p-vals:  0.9900000095367432\n",
      "Random Run 1 : Sample 20\n",
      "No GPU detected, fall back on CPU.\n",
      "Shift p-vals:  1.0\n",
      "Random Run 1 : Sample 50\n",
      "No GPU detected, fall back on CPU.\n",
      "Shift p-vals:  1.0\n",
      "Random Run 1 : Sample 100\n",
      "No GPU detected, fall back on CPU.\n",
      "Shift p-vals:  1.0\n",
      "Random Run 1 : Sample 200\n",
      "No GPU detected, fall back on CPU.\n",
      "Shift p-vals:  1.0\n",
      "Random Run 1 : Sample 500\n",
      "No GPU detected, fall back on CPU.\n",
      "Shift p-vals:  1.0\n",
      "Random Run 1 : Sample 1000\n",
      "No GPU detected, fall back on CPU.\n",
      "Shift p-vals:  1.0\n",
      "Random Run 1 : Sample 2000\n",
      "No GPU detected, fall back on CPU.\n",
      "Shift p-vals:  1.0\n",
      "Random Run 2 : Sample 10\n",
      "No GPU detected, fall back on CPU.\n",
      "Shift p-vals:  0.5899999737739563\n",
      "Random Run 2 : Sample 20\n",
      "No GPU detected, fall back on CPU.\n",
      "Shift p-vals:  0.2800000011920929\n",
      "Random Run 2 : Sample 50\n",
      "No GPU detected, fall back on CPU.\n",
      "Shift p-vals:  0.4399999976158142\n",
      "Random Run 2 : Sample 100\n",
      "No GPU detected, fall back on CPU.\n",
      "Shift p-vals:  0.36000001430511475\n",
      "Random Run 2 : Sample 200\n",
      "No GPU detected, fall back on CPU.\n",
      "Shift p-vals:  0.4099999964237213\n",
      "Random Run 2 : Sample 500\n",
      "No GPU detected, fall back on CPU.\n",
      "Shift p-vals:  0.38999998569488525\n",
      "Random Run 2 : Sample 1000\n",
      "No GPU detected, fall back on CPU.\n",
      "Shift p-vals:  0.36000001430511475\n",
      "Random Run 2 : Sample 2000\n",
      "No GPU detected, fall back on CPU.\n",
      "Shift p-vals:  0.46000000834465027\n",
      "Random Run 3 : Sample 10\n",
      "No GPU detected, fall back on CPU.\n",
      "Shift p-vals:  0.25999999046325684\n",
      "Random Run 3 : Sample 20\n",
      "No GPU detected, fall back on CPU.\n",
      "Shift p-vals:  0.15000000596046448\n",
      "Random Run 3 : Sample 50\n",
      "No GPU detected, fall back on CPU.\n",
      "Shift p-vals:  0.5699999928474426\n",
      "Random Run 3 : Sample 100\n",
      "No GPU detected, fall back on CPU.\n",
      "Shift p-vals:  0.6700000166893005\n",
      "Random Run 3 : Sample 200\n",
      "No GPU detected, fall back on CPU.\n",
      "Shift p-vals:  0.7300000190734863\n",
      "Random Run 3 : Sample 500\n",
      "No GPU detected, fall back on CPU.\n",
      "Shift p-vals:  0.6800000071525574\n",
      "Random Run 3 : Sample 1000\n",
      "No GPU detected, fall back on CPU.\n",
      "Shift p-vals:  0.7200000286102295\n",
      "Random Run 3 : Sample 2000\n",
      "No GPU detected, fall back on CPU.\n",
      "Shift p-vals:  0.6200000047683716\n",
      "Random Run 4 : Sample 10\n",
      "No GPU detected, fall back on CPU.\n",
      "Shift p-vals:  0.7699999809265137\n",
      "Random Run 4 : Sample 20\n",
      "No GPU detected, fall back on CPU.\n",
      "Shift p-vals:  0.9100000262260437\n",
      "Random Run 4 : Sample 50\n",
      "No GPU detected, fall back on CPU.\n",
      "Shift p-vals:  0.9200000166893005\n",
      "Random Run 4 : Sample 100\n",
      "No GPU detected, fall back on CPU.\n",
      "Shift p-vals:  0.8899999856948853\n",
      "Random Run 4 : Sample 200\n",
      "No GPU detected, fall back on CPU.\n",
      "Shift p-vals:  0.8999999761581421\n",
      "Random Run 4 : Sample 500\n",
      "No GPU detected, fall back on CPU.\n",
      "Shift p-vals:  0.949999988079071\n",
      "Random Run 4 : Sample 1000\n",
      "No GPU detected, fall back on CPU.\n",
      "Shift p-vals:  0.8700000047683716\n",
      "Random Run 4 : Sample 2000\n",
      "No GPU detected, fall back on CPU.\n",
      "Shift p-vals:  0.8899999856948853\n",
      "summer | SMH | NoRed | LK\n",
      "Shift summer\n"
     ]
    },
    {
     "name": "stderr",
     "output_type": "stream",
     "text": [
      "torch.range is deprecated and will be removed in a future release because its behavior is inconsistent with Python's range builtin. Instead, use torch.arange, which produces values in [start, end).\n",
      "No GPU detected, fall back on CPU.\n",
      "No GPU detected, fall back on CPU.\n",
      "No GPU detected, fall back on CPU.\n",
      "No GPU detected, fall back on CPU.\n",
      "No GPU detected, fall back on CPU.\n",
      "No GPU detected, fall back on CPU.\n",
      "No GPU detected, fall back on CPU.\n",
      "No GPU detected, fall back on CPU.\n"
     ]
    },
    {
     "name": "stdout",
     "output_type": "stream",
     "text": [
      "Random Run 0 : Sample 10\n",
      "Shift p-vals:  0.9900000095367432\n",
      "Random Run 0 : Sample 20\n",
      "Shift p-vals:  0.5099999904632568\n",
      "Random Run 0 : Sample 50\n",
      "Shift p-vals:  0.8500000238418579\n",
      "Random Run 0 : Sample 100\n",
      "Shift p-vals:  0.5199999809265137\n",
      "Random Run 0 : Sample 200\n",
      "Shift p-vals:  0.3400000035762787\n",
      "Random Run 0 : Sample 500\n",
      "Shift p-vals:  0.949999988079071\n",
      "Random Run 0 : Sample 1000\n",
      "Shift p-vals:  0.5600000023841858\n",
      "Random Run 0 : Sample 2000\n",
      "Shift p-vals:  0.12999999523162842\n"
     ]
    },
    {
     "name": "stderr",
     "output_type": "stream",
     "text": [
      "No GPU detected, fall back on CPU.\n",
      "No GPU detected, fall back on CPU.\n",
      "No GPU detected, fall back on CPU.\n",
      "No GPU detected, fall back on CPU.\n",
      "No GPU detected, fall back on CPU.\n",
      "No GPU detected, fall back on CPU.\n",
      "No GPU detected, fall back on CPU.\n",
      "No GPU detected, fall back on CPU.\n"
     ]
    },
    {
     "name": "stdout",
     "output_type": "stream",
     "text": [
      "Random Run 1 : Sample 10\n",
      "Shift p-vals:  0.9700000286102295\n",
      "Random Run 1 : Sample 20\n",
      "Shift p-vals:  0.2199999988079071\n",
      "Random Run 1 : Sample 50\n",
      "Shift p-vals:  0.9800000190734863\n",
      "Random Run 1 : Sample 100\n",
      "Shift p-vals:  0.49000000953674316\n",
      "Random Run 1 : Sample 200\n",
      "Shift p-vals:  0.07000000029802322\n",
      "Random Run 1 : Sample 500\n",
      "Shift p-vals:  0.4000000059604645\n",
      "Random Run 1 : Sample 1000\n",
      "Shift p-vals:  0.7900000214576721\n",
      "Random Run 1 : Sample 2000\n",
      "Shift p-vals:  0.5\n"
     ]
    },
    {
     "name": "stderr",
     "output_type": "stream",
     "text": [
      "No GPU detected, fall back on CPU.\n",
      "No GPU detected, fall back on CPU.\n",
      "No GPU detected, fall back on CPU.\n",
      "No GPU detected, fall back on CPU.\n",
      "No GPU detected, fall back on CPU.\n",
      "No GPU detected, fall back on CPU.\n",
      "No GPU detected, fall back on CPU.\n",
      "No GPU detected, fall back on CPU.\n"
     ]
    },
    {
     "name": "stdout",
     "output_type": "stream",
     "text": [
      "Random Run 2 : Sample 10\n",
      "Shift p-vals:  0.5099999904632568\n",
      "Random Run 2 : Sample 20\n",
      "Shift p-vals:  0.4000000059604645\n",
      "Random Run 2 : Sample 50\n",
      "Shift p-vals:  0.28999999165534973\n",
      "Random Run 2 : Sample 100\n",
      "Shift p-vals:  0.44999998807907104\n",
      "Random Run 2 : Sample 200\n",
      "Shift p-vals:  0.8100000023841858\n",
      "Random Run 2 : Sample 500\n",
      "Shift p-vals:  0.4399999976158142\n",
      "Random Run 2 : Sample 1000\n",
      "Shift p-vals:  0.5\n",
      "Random Run 2 : Sample 2000\n",
      "Shift p-vals:  0.029999999329447746\n"
     ]
    },
    {
     "name": "stderr",
     "output_type": "stream",
     "text": [
      "No GPU detected, fall back on CPU.\n",
      "No GPU detected, fall back on CPU.\n",
      "No GPU detected, fall back on CPU.\n",
      "No GPU detected, fall back on CPU.\n",
      "No GPU detected, fall back on CPU.\n",
      "No GPU detected, fall back on CPU.\n",
      "No GPU detected, fall back on CPU.\n",
      "No GPU detected, fall back on CPU.\n"
     ]
    },
    {
     "name": "stdout",
     "output_type": "stream",
     "text": [
      "Random Run 3 : Sample 10\n",
      "Shift p-vals:  1.0\n",
      "Random Run 3 : Sample 20\n",
      "Shift p-vals:  0.7699999809265137\n",
      "Random Run 3 : Sample 50\n",
      "Shift p-vals:  0.23000000417232513\n",
      "Random Run 3 : Sample 100\n",
      "Shift p-vals:  0.03999999910593033\n",
      "Random Run 3 : Sample 200\n",
      "Shift p-vals:  0.09000000357627869\n",
      "Random Run 3 : Sample 500\n",
      "Shift p-vals:  0.9900000095367432\n",
      "Random Run 3 : Sample 1000\n",
      "Shift p-vals:  0.7400000095367432\n",
      "Random Run 3 : Sample 2000\n",
      "Shift p-vals:  0.6600000262260437\n"
     ]
    },
    {
     "name": "stderr",
     "output_type": "stream",
     "text": [
      "No GPU detected, fall back on CPU.\n",
      "No GPU detected, fall back on CPU.\n",
      "No GPU detected, fall back on CPU.\n",
      "No GPU detected, fall back on CPU.\n",
      "No GPU detected, fall back on CPU.\n",
      "No GPU detected, fall back on CPU.\n",
      "No GPU detected, fall back on CPU.\n",
      "No GPU detected, fall back on CPU.\n"
     ]
    },
    {
     "name": "stdout",
     "output_type": "stream",
     "text": [
      "Random Run 4 : Sample 10\n",
      "Shift p-vals:  0.800000011920929\n",
      "Random Run 4 : Sample 20\n",
      "Shift p-vals:  0.4099999964237213\n",
      "Random Run 4 : Sample 50\n",
      "Shift p-vals:  0.550000011920929\n",
      "Random Run 4 : Sample 100\n",
      "Shift p-vals:  0.9200000166893005\n",
      "Random Run 4 : Sample 200\n",
      "Shift p-vals:  0.8999999761581421\n",
      "Random Run 4 : Sample 500\n",
      "Shift p-vals:  0.6499999761581421\n",
      "Random Run 4 : Sample 1000\n",
      "Shift p-vals:  0.49000000953674316\n",
      "Random Run 4 : Sample 2000\n",
      "Shift p-vals:  0.949999988079071\n",
      "summer | SMH | NoRed | LSDD\n",
      "Shift summer\n"
     ]
    },
    {
     "name": "stderr",
     "output_type": "stream",
     "text": [
      "torch.range is deprecated and will be removed in a future release because its behavior is inconsistent with Python's range builtin. Instead, use torch.arange, which produces values in [start, end).\n"
     ]
    },
    {
     "name": "stdout",
     "output_type": "stream",
     "text": [
      "Random Run 0 : Sample 10\n",
      "No GPU detected, fall back on CPU.\n",
      "Shift p-vals:  0.0\n",
      "Random Run 0 : Sample 20\n",
      "No GPU detected, fall back on CPU.\n",
      "Shift p-vals:  0.0\n",
      "Random Run 0 : Sample 50\n",
      "No GPU detected, fall back on CPU.\n",
      "Value Error\n",
      "summer | SMH | SRP | MMD\n",
      "Shift summer\n"
     ]
    },
    {
     "name": "stderr",
     "output_type": "stream",
     "text": [
      "torch.range is deprecated and will be removed in a future release because its behavior is inconsistent with Python's range builtin. Instead, use torch.arange, which produces values in [start, end).\n"
     ]
    },
    {
     "name": "stdout",
     "output_type": "stream",
     "text": [
      "Random Run 0 : Sample 10\n",
      "No GPU detected, fall back on CPU.\n",
      "Shift p-vals:  0.36000001430511475\n",
      "Random Run 0 : Sample 20\n",
      "No GPU detected, fall back on CPU.\n",
      "Shift p-vals:  0.8399999737739563\n",
      "Random Run 0 : Sample 50\n",
      "No GPU detected, fall back on CPU.\n",
      "Shift p-vals:  0.10000000149011612\n",
      "Random Run 0 : Sample 100\n",
      "No GPU detected, fall back on CPU.\n",
      "Shift p-vals:  0.4699999988079071\n",
      "Random Run 0 : Sample 200\n",
      "No GPU detected, fall back on CPU.\n",
      "Shift p-vals:  0.8799999952316284\n",
      "Random Run 0 : Sample 500\n",
      "No GPU detected, fall back on CPU.\n",
      "Shift p-vals:  0.8799999952316284\n",
      "Random Run 0 : Sample 1000\n",
      "No GPU detected, fall back on CPU.\n",
      "Shift p-vals:  0.6899999976158142\n",
      "Random Run 0 : Sample 2000\n",
      "No GPU detected, fall back on CPU.\n",
      "Shift p-vals:  0.9100000262260437\n",
      "Random Run 1 : Sample 10\n",
      "No GPU detected, fall back on CPU.\n",
      "Shift p-vals:  0.6899999976158142\n",
      "Random Run 1 : Sample 20\n",
      "No GPU detected, fall back on CPU.\n",
      "Shift p-vals:  0.699999988079071\n",
      "Random Run 1 : Sample 50\n",
      "No GPU detected, fall back on CPU.\n",
      "Shift p-vals:  0.9700000286102295\n",
      "Random Run 1 : Sample 100\n",
      "No GPU detected, fall back on CPU.\n",
      "Shift p-vals:  0.17000000178813934\n",
      "Random Run 1 : Sample 200\n",
      "No GPU detected, fall back on CPU.\n",
      "Shift p-vals:  0.9900000095367432\n",
      "Random Run 1 : Sample 500\n",
      "No GPU detected, fall back on CPU.\n",
      "Shift p-vals:  0.029999999329447746\n",
      "Random Run 1 : Sample 1000\n",
      "No GPU detected, fall back on CPU.\n",
      "Shift p-vals:  0.9800000190734863\n",
      "Random Run 1 : Sample 2000\n",
      "No GPU detected, fall back on CPU.\n",
      "Shift p-vals:  0.4699999988079071\n",
      "Random Run 2 : Sample 10\n",
      "No GPU detected, fall back on CPU.\n",
      "Shift p-vals:  0.7400000095367432\n",
      "Random Run 2 : Sample 20\n",
      "No GPU detected, fall back on CPU.\n",
      "Shift p-vals:  0.5799999833106995\n",
      "Random Run 2 : Sample 50\n",
      "No GPU detected, fall back on CPU.\n",
      "Shift p-vals:  0.949999988079071\n",
      "Random Run 2 : Sample 100\n",
      "No GPU detected, fall back on CPU.\n",
      "Shift p-vals:  0.25999999046325684\n",
      "Random Run 2 : Sample 200\n",
      "No GPU detected, fall back on CPU.\n",
      "Shift p-vals:  0.9800000190734863\n",
      "Random Run 2 : Sample 500\n",
      "No GPU detected, fall back on CPU.\n",
      "Shift p-vals:  0.75\n",
      "Random Run 2 : Sample 1000\n",
      "No GPU detected, fall back on CPU.\n",
      "Shift p-vals:  0.9300000071525574\n",
      "Random Run 2 : Sample 2000\n",
      "No GPU detected, fall back on CPU.\n",
      "Shift p-vals:  0.9200000166893005\n",
      "Random Run 3 : Sample 10\n",
      "No GPU detected, fall back on CPU.\n",
      "Shift p-vals:  0.5400000214576721\n",
      "Random Run 3 : Sample 20\n",
      "No GPU detected, fall back on CPU.\n",
      "Shift p-vals:  0.5899999737739563\n",
      "Random Run 3 : Sample 50\n",
      "No GPU detected, fall back on CPU.\n",
      "Shift p-vals:  0.10000000149011612\n",
      "Random Run 3 : Sample 100\n",
      "No GPU detected, fall back on CPU.\n",
      "Shift p-vals:  0.23000000417232513\n",
      "Random Run 3 : Sample 200\n",
      "No GPU detected, fall back on CPU.\n",
      "Shift p-vals:  0.5699999928474426\n",
      "Random Run 3 : Sample 500\n",
      "No GPU detected, fall back on CPU.\n",
      "Shift p-vals:  0.3400000035762787\n",
      "Random Run 3 : Sample 1000\n",
      "No GPU detected, fall back on CPU.\n",
      "Shift p-vals:  0.5899999737739563\n",
      "Random Run 3 : Sample 2000\n",
      "No GPU detected, fall back on CPU.\n",
      "Shift p-vals:  0.5\n",
      "Random Run 4 : Sample 10\n",
      "No GPU detected, fall back on CPU.\n",
      "Shift p-vals:  0.33000001311302185\n",
      "Random Run 4 : Sample 20\n",
      "No GPU detected, fall back on CPU.\n",
      "Shift p-vals:  0.8600000143051147\n",
      "Random Run 4 : Sample 50\n",
      "No GPU detected, fall back on CPU.\n",
      "Shift p-vals:  0.8899999856948853\n",
      "Random Run 4 : Sample 100\n",
      "No GPU detected, fall back on CPU.\n",
      "Shift p-vals:  0.8999999761581421\n",
      "Random Run 4 : Sample 200\n",
      "No GPU detected, fall back on CPU.\n",
      "Shift p-vals:  1.0\n",
      "Random Run 4 : Sample 500\n",
      "No GPU detected, fall back on CPU.\n",
      "Shift p-vals:  0.8799999952316284\n",
      "Random Run 4 : Sample 1000\n",
      "No GPU detected, fall back on CPU.\n",
      "Shift p-vals:  0.1599999964237213\n",
      "Random Run 4 : Sample 2000\n",
      "No GPU detected, fall back on CPU.\n",
      "Shift p-vals:  0.09000000357627869\n",
      "summer | SMH | SRP | LK\n",
      "Shift summer\n"
     ]
    },
    {
     "name": "stderr",
     "output_type": "stream",
     "text": [
      "torch.range is deprecated and will be removed in a future release because its behavior is inconsistent with Python's range builtin. Instead, use torch.arange, which produces values in [start, end).\n",
      "No GPU detected, fall back on CPU.\n",
      "No GPU detected, fall back on CPU.\n",
      "No GPU detected, fall back on CPU.\n",
      "No GPU detected, fall back on CPU.\n",
      "No GPU detected, fall back on CPU.\n",
      "No GPU detected, fall back on CPU.\n",
      "No GPU detected, fall back on CPU.\n",
      "No GPU detected, fall back on CPU.\n"
     ]
    },
    {
     "name": "stdout",
     "output_type": "stream",
     "text": [
      "Random Run 0 : Sample 10\n",
      "Shift p-vals:  0.7599999904632568\n",
      "Random Run 0 : Sample 20\n",
      "Shift p-vals:  0.5199999809265137\n",
      "Random Run 0 : Sample 50\n",
      "Shift p-vals:  0.4099999964237213\n",
      "Random Run 0 : Sample 100\n",
      "Shift p-vals:  0.2800000011920929\n",
      "Random Run 0 : Sample 200\n",
      "Shift p-vals:  0.5899999737739563\n",
      "Random Run 0 : Sample 500\n",
      "Shift p-vals:  0.5199999809265137\n",
      "Random Run 0 : Sample 1000\n",
      "Shift p-vals:  0.0\n",
      "Random Run 0 : Sample 2000\n",
      "Shift p-vals:  0.9200000166893005\n"
     ]
    },
    {
     "name": "stderr",
     "output_type": "stream",
     "text": [
      "No GPU detected, fall back on CPU.\n",
      "No GPU detected, fall back on CPU.\n",
      "No GPU detected, fall back on CPU.\n",
      "No GPU detected, fall back on CPU.\n",
      "No GPU detected, fall back on CPU.\n",
      "No GPU detected, fall back on CPU.\n",
      "No GPU detected, fall back on CPU.\n",
      "No GPU detected, fall back on CPU.\n"
     ]
    },
    {
     "name": "stdout",
     "output_type": "stream",
     "text": [
      "Random Run 1 : Sample 10\n",
      "Shift p-vals:  0.5699999928474426\n",
      "Random Run 1 : Sample 20\n",
      "Shift p-vals:  0.8899999856948853\n",
      "Random Run 1 : Sample 50\n",
      "Shift p-vals:  0.6299999952316284\n",
      "Random Run 1 : Sample 100\n",
      "Shift p-vals:  0.49000000953674316\n",
      "Random Run 1 : Sample 200\n",
      "Shift p-vals:  0.5799999833106995\n",
      "Random Run 1 : Sample 500\n",
      "Shift p-vals:  0.6200000047683716\n",
      "Random Run 1 : Sample 1000\n",
      "Shift p-vals:  0.7200000286102295\n",
      "Random Run 1 : Sample 2000\n",
      "Shift p-vals:  0.9100000262260437\n"
     ]
    },
    {
     "name": "stderr",
     "output_type": "stream",
     "text": [
      "No GPU detected, fall back on CPU.\n",
      "No GPU detected, fall back on CPU.\n",
      "No GPU detected, fall back on CPU.\n",
      "No GPU detected, fall back on CPU.\n",
      "No GPU detected, fall back on CPU.\n",
      "No GPU detected, fall back on CPU.\n",
      "No GPU detected, fall back on CPU.\n",
      "No GPU detected, fall back on CPU.\n"
     ]
    },
    {
     "name": "stdout",
     "output_type": "stream",
     "text": [
      "Random Run 2 : Sample 10\n",
      "Shift p-vals:  0.7099999785423279\n",
      "Random Run 2 : Sample 20\n",
      "Shift p-vals:  0.5199999809265137\n",
      "Random Run 2 : Sample 50\n",
      "Shift p-vals:  0.6899999976158142\n",
      "Random Run 2 : Sample 100\n",
      "Shift p-vals:  0.7900000214576721\n",
      "Random Run 2 : Sample 200\n",
      "Shift p-vals:  1.0\n",
      "Random Run 2 : Sample 500\n",
      "Shift p-vals:  0.0\n",
      "Random Run 2 : Sample 1000\n",
      "Shift p-vals:  0.029999999329447746\n",
      "Random Run 2 : Sample 2000\n",
      "Shift p-vals:  0.20000000298023224\n"
     ]
    },
    {
     "name": "stderr",
     "output_type": "stream",
     "text": [
      "No GPU detected, fall back on CPU.\n",
      "No GPU detected, fall back on CPU.\n",
      "No GPU detected, fall back on CPU.\n",
      "No GPU detected, fall back on CPU.\n",
      "No GPU detected, fall back on CPU.\n",
      "No GPU detected, fall back on CPU.\n",
      "No GPU detected, fall back on CPU.\n",
      "No GPU detected, fall back on CPU.\n"
     ]
    },
    {
     "name": "stdout",
     "output_type": "stream",
     "text": [
      "Random Run 3 : Sample 10\n",
      "Shift p-vals:  0.23000000417232513\n",
      "Random Run 3 : Sample 20\n",
      "Shift p-vals:  0.8999999761581421\n",
      "Random Run 3 : Sample 50\n",
      "Shift p-vals:  0.2800000011920929\n",
      "Random Run 3 : Sample 100\n",
      "Shift p-vals:  0.6700000166893005\n",
      "Random Run 3 : Sample 200\n",
      "Shift p-vals:  0.10000000149011612\n",
      "Random Run 3 : Sample 500\n",
      "Shift p-vals:  0.9100000262260437\n",
      "Random Run 3 : Sample 1000\n",
      "Shift p-vals:  0.9300000071525574\n",
      "Random Run 3 : Sample 2000\n",
      "Shift p-vals:  0.7400000095367432\n"
     ]
    },
    {
     "name": "stderr",
     "output_type": "stream",
     "text": [
      "No GPU detected, fall back on CPU.\n",
      "No GPU detected, fall back on CPU.\n",
      "No GPU detected, fall back on CPU.\n",
      "No GPU detected, fall back on CPU.\n",
      "No GPU detected, fall back on CPU.\n",
      "No GPU detected, fall back on CPU.\n",
      "No GPU detected, fall back on CPU.\n",
      "No GPU detected, fall back on CPU.\n"
     ]
    },
    {
     "name": "stdout",
     "output_type": "stream",
     "text": [
      "Random Run 4 : Sample 10\n",
      "Shift p-vals:  0.6200000047683716\n",
      "Random Run 4 : Sample 20\n",
      "Shift p-vals:  0.3700000047683716\n",
      "Random Run 4 : Sample 50\n",
      "Shift p-vals:  0.5699999928474426\n",
      "Random Run 4 : Sample 100\n",
      "Shift p-vals:  0.7599999904632568\n",
      "Random Run 4 : Sample 200\n",
      "Shift p-vals:  0.41999998688697815\n",
      "Random Run 4 : Sample 500\n",
      "Shift p-vals:  0.5899999737739563\n",
      "Random Run 4 : Sample 1000\n",
      "Shift p-vals:  0.8899999856948853\n",
      "Random Run 4 : Sample 2000\n",
      "Shift p-vals:  0.3199999928474426\n"
     ]
    },
    {
     "name": "stderr",
     "output_type": "stream",
     "text": [
      "torch.range is deprecated and will be removed in a future release because its behavior is inconsistent with Python's range builtin. Instead, use torch.arange, which produces values in [start, end).\n"
     ]
    },
    {
     "name": "stdout",
     "output_type": "stream",
     "text": [
      "summer | SMH | SRP | LSDD\n",
      "Shift summer\n",
      "Random Run 0 : Sample 10\n",
      "No GPU detected, fall back on CPU.\n",
      "Shift p-vals:  0.800000011920929\n",
      "Random Run 0 : Sample 20\n",
      "No GPU detected, fall back on CPU.\n",
      "Shift p-vals:  0.550000011920929\n",
      "Random Run 0 : Sample 50\n",
      "No GPU detected, fall back on CPU.\n",
      "Shift p-vals:  0.7300000190734863\n",
      "Random Run 0 : Sample 100\n",
      "No GPU detected, fall back on CPU.\n",
      "Shift p-vals:  0.1899999976158142\n",
      "Random Run 0 : Sample 200\n",
      "No GPU detected, fall back on CPU.\n",
      "Shift p-vals:  0.18000000715255737\n",
      "Random Run 0 : Sample 500\n",
      "No GPU detected, fall back on CPU.\n",
      "Shift p-vals:  0.9100000262260437\n",
      "Random Run 0 : Sample 1000\n",
      "No GPU detected, fall back on CPU.\n",
      "Shift p-vals:  0.550000011920929\n",
      "Random Run 0 : Sample 2000\n",
      "No GPU detected, fall back on CPU.\n",
      "Shift p-vals:  0.9399999976158142\n",
      "Random Run 1 : Sample 10\n",
      "No GPU detected, fall back on CPU.\n",
      "Shift p-vals:  0.8700000047683716\n",
      "Random Run 1 : Sample 20\n",
      "No GPU detected, fall back on CPU.\n",
      "Shift p-vals:  0.4699999988079071\n",
      "Random Run 1 : Sample 50\n",
      "No GPU detected, fall back on CPU.\n",
      "Shift p-vals:  0.3700000047683716\n",
      "Random Run 1 : Sample 100\n",
      "No GPU detected, fall back on CPU.\n",
      "Shift p-vals:  0.30000001192092896\n",
      "Random Run 1 : Sample 200\n",
      "No GPU detected, fall back on CPU.\n",
      "Shift p-vals:  0.5699999928474426\n",
      "Random Run 1 : Sample 500\n",
      "No GPU detected, fall back on CPU.\n",
      "Shift p-vals:  0.49000000953674316\n",
      "Random Run 1 : Sample 1000\n",
      "No GPU detected, fall back on CPU.\n",
      "Shift p-vals:  0.15000000596046448\n",
      "Random Run 1 : Sample 2000\n",
      "No GPU detected, fall back on CPU.\n",
      "Shift p-vals:  0.25\n",
      "Random Run 2 : Sample 10\n",
      "No GPU detected, fall back on CPU.\n",
      "Shift p-vals:  0.4399999976158142\n",
      "Random Run 2 : Sample 20\n",
      "No GPU detected, fall back on CPU.\n",
      "Shift p-vals:  0.6299999952316284\n",
      "Random Run 2 : Sample 50\n",
      "No GPU detected, fall back on CPU.\n",
      "Shift p-vals:  0.6700000166893005\n",
      "Random Run 2 : Sample 100\n",
      "No GPU detected, fall back on CPU.\n",
      "Shift p-vals:  0.75\n",
      "Random Run 2 : Sample 200\n",
      "No GPU detected, fall back on CPU.\n",
      "Shift p-vals:  0.49000000953674316\n",
      "Random Run 2 : Sample 500\n",
      "No GPU detected, fall back on CPU.\n",
      "Shift p-vals:  0.9399999976158142\n",
      "Random Run 2 : Sample 1000\n",
      "No GPU detected, fall back on CPU.\n",
      "Shift p-vals:  0.550000011920929\n",
      "Random Run 2 : Sample 2000\n",
      "No GPU detected, fall back on CPU.\n",
      "Shift p-vals:  0.07000000029802322\n",
      "Random Run 3 : Sample 10\n",
      "No GPU detected, fall back on CPU.\n",
      "Shift p-vals:  0.9599999785423279\n",
      "Random Run 3 : Sample 20\n",
      "No GPU detected, fall back on CPU.\n",
      "Shift p-vals:  0.8500000238418579\n",
      "Random Run 3 : Sample 50\n",
      "No GPU detected, fall back on CPU.\n",
      "Shift p-vals:  0.20999999344348907\n",
      "Random Run 3 : Sample 100\n",
      "No GPU detected, fall back on CPU.\n",
      "Shift p-vals:  0.5899999737739563\n",
      "Random Run 3 : Sample 200\n",
      "No GPU detected, fall back on CPU.\n",
      "Shift p-vals:  0.23999999463558197\n",
      "Random Run 3 : Sample 500\n",
      "No GPU detected, fall back on CPU.\n",
      "Shift p-vals:  0.8500000238418579\n",
      "Random Run 3 : Sample 1000\n",
      "No GPU detected, fall back on CPU.\n",
      "Shift p-vals:  0.10999999940395355\n",
      "Random Run 3 : Sample 2000\n",
      "No GPU detected, fall back on CPU.\n",
      "Shift p-vals:  0.5099999904632568\n",
      "Random Run 4 : Sample 10\n",
      "No GPU detected, fall back on CPU.\n",
      "Shift p-vals:  0.7699999809265137\n",
      "Random Run 4 : Sample 20\n",
      "No GPU detected, fall back on CPU.\n",
      "Shift p-vals:  0.20999999344348907\n",
      "Random Run 4 : Sample 50\n",
      "No GPU detected, fall back on CPU.\n",
      "Shift p-vals:  0.949999988079071\n",
      "Random Run 4 : Sample 100\n",
      "No GPU detected, fall back on CPU.\n",
      "Shift p-vals:  0.8199999928474426\n",
      "Random Run 4 : Sample 200\n",
      "No GPU detected, fall back on CPU.\n",
      "Shift p-vals:  0.44999998807907104\n",
      "Random Run 4 : Sample 500\n",
      "No GPU detected, fall back on CPU.\n",
      "Shift p-vals:  0.009999999776482582\n",
      "Random Run 4 : Sample 1000\n",
      "No GPU detected, fall back on CPU.\n",
      "Shift p-vals:  0.4300000071525574\n",
      "Random Run 4 : Sample 2000\n",
      "No GPU detected, fall back on CPU.\n",
      "Shift p-vals:  0.15000000596046448\n",
      "summer | SMH | PCA | MMD\n",
      "Shift summer\n"
     ]
    },
    {
     "name": "stderr",
     "output_type": "stream",
     "text": [
      "torch.range is deprecated and will be removed in a future release because its behavior is inconsistent with Python's range builtin. Instead, use torch.arange, which produces values in [start, end).\n"
     ]
    },
    {
     "name": "stdout",
     "output_type": "stream",
     "text": [
      "Random Run 0 : Sample 10\n",
      "No GPU detected, fall back on CPU.\n",
      "Shift p-vals:  0.8199999928474426\n",
      "Random Run 0 : Sample 20\n",
      "No GPU detected, fall back on CPU.\n",
      "Shift p-vals:  0.7799999713897705\n",
      "Random Run 0 : Sample 50\n",
      "No GPU detected, fall back on CPU.\n",
      "Shift p-vals:  0.6800000071525574\n",
      "Random Run 0 : Sample 100\n",
      "No GPU detected, fall back on CPU.\n",
      "Shift p-vals:  0.6800000071525574\n",
      "Random Run 0 : Sample 200\n",
      "No GPU detected, fall back on CPU.\n",
      "Shift p-vals:  0.7300000190734863\n",
      "Random Run 0 : Sample 500\n",
      "No GPU detected, fall back on CPU.\n",
      "Shift p-vals:  0.6499999761581421\n",
      "Random Run 0 : Sample 1000\n",
      "No GPU detected, fall back on CPU.\n",
      "Shift p-vals:  0.7300000190734863\n",
      "Random Run 0 : Sample 2000\n",
      "No GPU detected, fall back on CPU.\n",
      "Shift p-vals:  0.6200000047683716\n",
      "Random Run 1 : Sample 10\n",
      "No GPU detected, fall back on CPU.\n",
      "Shift p-vals:  0.7799999713897705\n",
      "Random Run 1 : Sample 20\n",
      "No GPU detected, fall back on CPU.\n",
      "Shift p-vals:  0.9300000071525574\n",
      "Random Run 1 : Sample 50\n",
      "No GPU detected, fall back on CPU.\n",
      "Shift p-vals:  1.0\n",
      "Random Run 1 : Sample 100\n",
      "No GPU detected, fall back on CPU.\n",
      "Shift p-vals:  0.9900000095367432\n",
      "Random Run 1 : Sample 200\n",
      "No GPU detected, fall back on CPU.\n",
      "Shift p-vals:  0.9800000190734863\n",
      "Random Run 1 : Sample 500\n",
      "No GPU detected, fall back on CPU.\n",
      "Shift p-vals:  0.9900000095367432\n",
      "Random Run 1 : Sample 1000\n",
      "No GPU detected, fall back on CPU.\n",
      "Shift p-vals:  0.9800000190734863\n",
      "Random Run 1 : Sample 2000\n",
      "No GPU detected, fall back on CPU.\n",
      "Shift p-vals:  1.0\n",
      "Random Run 2 : Sample 10\n",
      "No GPU detected, fall back on CPU.\n",
      "Shift p-vals:  0.5400000214576721\n",
      "Random Run 2 : Sample 20\n",
      "No GPU detected, fall back on CPU.\n",
      "Shift p-vals:  0.25999999046325684\n",
      "Random Run 2 : Sample 50\n",
      "No GPU detected, fall back on CPU.\n",
      "Shift p-vals:  0.3199999928474426\n",
      "Random Run 2 : Sample 100\n",
      "No GPU detected, fall back on CPU.\n",
      "Shift p-vals:  0.25\n",
      "Random Run 2 : Sample 200\n",
      "No GPU detected, fall back on CPU.\n",
      "Shift p-vals:  0.23000000417232513\n",
      "Random Run 2 : Sample 500\n",
      "No GPU detected, fall back on CPU.\n",
      "Shift p-vals:  0.30000001192092896\n",
      "Random Run 2 : Sample 1000\n",
      "No GPU detected, fall back on CPU.\n",
      "Shift p-vals:  0.30000001192092896\n",
      "Random Run 2 : Sample 2000\n",
      "No GPU detected, fall back on CPU.\n",
      "Shift p-vals:  0.27000001072883606\n",
      "Random Run 3 : Sample 10\n",
      "No GPU detected, fall back on CPU.\n",
      "Shift p-vals:  0.23000000417232513\n",
      "Random Run 3 : Sample 20\n",
      "No GPU detected, fall back on CPU.\n",
      "Shift p-vals:  0.27000001072883606\n",
      "Random Run 3 : Sample 50\n",
      "No GPU detected, fall back on CPU.\n",
      "Shift p-vals:  0.6399999856948853\n",
      "Random Run 3 : Sample 100\n",
      "No GPU detected, fall back on CPU.\n",
      "Shift p-vals:  0.6899999976158142\n",
      "Random Run 3 : Sample 200\n",
      "No GPU detected, fall back on CPU.\n",
      "Shift p-vals:  0.6899999976158142\n",
      "Random Run 3 : Sample 500\n",
      "No GPU detected, fall back on CPU.\n",
      "Shift p-vals:  0.75\n",
      "Random Run 3 : Sample 1000\n",
      "No GPU detected, fall back on CPU.\n",
      "Shift p-vals:  0.6700000166893005\n",
      "Random Run 3 : Sample 2000\n",
      "No GPU detected, fall back on CPU.\n",
      "Shift p-vals:  0.6200000047683716\n",
      "Random Run 4 : Sample 10\n",
      "No GPU detected, fall back on CPU.\n",
      "Shift p-vals:  0.75\n",
      "Random Run 4 : Sample 20\n",
      "No GPU detected, fall back on CPU.\n",
      "Shift p-vals:  0.8100000023841858\n",
      "Random Run 4 : Sample 50\n",
      "No GPU detected, fall back on CPU.\n",
      "Shift p-vals:  0.9100000262260437\n",
      "Random Run 4 : Sample 100\n",
      "No GPU detected, fall back on CPU.\n",
      "Shift p-vals:  0.9700000286102295\n",
      "Random Run 4 : Sample 200\n",
      "No GPU detected, fall back on CPU.\n",
      "Shift p-vals:  0.9100000262260437\n",
      "Random Run 4 : Sample 500\n",
      "No GPU detected, fall back on CPU.\n",
      "Shift p-vals:  0.9599999785423279\n",
      "Random Run 4 : Sample 1000\n",
      "No GPU detected, fall back on CPU.\n",
      "Shift p-vals:  0.9300000071525574\n",
      "Random Run 4 : Sample 2000\n",
      "No GPU detected, fall back on CPU.\n",
      "Shift p-vals:  0.9100000262260437\n",
      "summer | SMH | PCA | LK\n",
      "Shift summer\n"
     ]
    },
    {
     "name": "stderr",
     "output_type": "stream",
     "text": [
      "torch.range is deprecated and will be removed in a future release because its behavior is inconsistent with Python's range builtin. Instead, use torch.arange, which produces values in [start, end).\n",
      "No GPU detected, fall back on CPU.\n",
      "No GPU detected, fall back on CPU.\n",
      "No GPU detected, fall back on CPU.\n",
      "No GPU detected, fall back on CPU.\n",
      "No GPU detected, fall back on CPU.\n",
      "No GPU detected, fall back on CPU.\n",
      "No GPU detected, fall back on CPU.\n",
      "No GPU detected, fall back on CPU.\n"
     ]
    },
    {
     "name": "stdout",
     "output_type": "stream",
     "text": [
      "Random Run 0 : Sample 10\n",
      "Shift p-vals:  0.3799999952316284\n",
      "Random Run 0 : Sample 20\n",
      "Shift p-vals:  0.5899999737739563\n",
      "Random Run 0 : Sample 50\n",
      "Shift p-vals:  0.550000011920929\n",
      "Random Run 0 : Sample 100\n",
      "Shift p-vals:  0.9100000262260437\n",
      "Random Run 0 : Sample 200\n",
      "Shift p-vals:  0.4699999988079071\n",
      "Random Run 0 : Sample 500\n",
      "Shift p-vals:  0.28999999165534973\n",
      "Random Run 0 : Sample 1000\n",
      "Shift p-vals:  0.5600000023841858\n",
      "Random Run 0 : Sample 2000\n",
      "Shift p-vals:  0.9300000071525574\n"
     ]
    },
    {
     "name": "stderr",
     "output_type": "stream",
     "text": [
      "No GPU detected, fall back on CPU.\n",
      "No GPU detected, fall back on CPU.\n",
      "No GPU detected, fall back on CPU.\n",
      "No GPU detected, fall back on CPU.\n",
      "No GPU detected, fall back on CPU.\n",
      "No GPU detected, fall back on CPU.\n",
      "No GPU detected, fall back on CPU.\n",
      "No GPU detected, fall back on CPU.\n"
     ]
    },
    {
     "name": "stdout",
     "output_type": "stream",
     "text": [
      "Random Run 1 : Sample 10\n",
      "Shift p-vals:  0.800000011920929\n",
      "Random Run 1 : Sample 20\n",
      "Shift p-vals:  0.46000000834465027\n",
      "Random Run 1 : Sample 50\n",
      "Shift p-vals:  0.6299999952316284\n",
      "Random Run 1 : Sample 100\n",
      "Shift p-vals:  0.9599999785423279\n",
      "Random Run 1 : Sample 200\n",
      "Shift p-vals:  0.2199999988079071\n",
      "Random Run 1 : Sample 500\n",
      "Shift p-vals:  0.5299999713897705\n",
      "Random Run 1 : Sample 1000\n",
      "Shift p-vals:  0.6200000047683716\n",
      "Random Run 1 : Sample 2000\n",
      "Shift p-vals:  0.25\n"
     ]
    },
    {
     "name": "stderr",
     "output_type": "stream",
     "text": [
      "No GPU detected, fall back on CPU.\n",
      "No GPU detected, fall back on CPU.\n",
      "No GPU detected, fall back on CPU.\n",
      "No GPU detected, fall back on CPU.\n",
      "No GPU detected, fall back on CPU.\n",
      "No GPU detected, fall back on CPU.\n",
      "No GPU detected, fall back on CPU.\n",
      "No GPU detected, fall back on CPU.\n"
     ]
    },
    {
     "name": "stdout",
     "output_type": "stream",
     "text": [
      "Random Run 2 : Sample 10\n",
      "Shift p-vals:  0.7599999904632568\n",
      "Random Run 2 : Sample 20\n",
      "Shift p-vals:  0.09000000357627869\n",
      "Random Run 2 : Sample 50\n",
      "Shift p-vals:  0.6499999761581421\n",
      "Random Run 2 : Sample 100\n",
      "Shift p-vals:  0.18000000715255737\n",
      "Random Run 2 : Sample 200\n",
      "Shift p-vals:  0.30000001192092896\n",
      "Random Run 2 : Sample 500\n",
      "Shift p-vals:  0.20999999344348907\n",
      "Random Run 2 : Sample 1000\n",
      "Shift p-vals:  0.8500000238418579\n",
      "Random Run 2 : Sample 2000\n",
      "Shift p-vals:  0.9399999976158142\n"
     ]
    },
    {
     "name": "stderr",
     "output_type": "stream",
     "text": [
      "No GPU detected, fall back on CPU.\n",
      "No GPU detected, fall back on CPU.\n",
      "No GPU detected, fall back on CPU.\n",
      "No GPU detected, fall back on CPU.\n",
      "No GPU detected, fall back on CPU.\n",
      "No GPU detected, fall back on CPU.\n",
      "No GPU detected, fall back on CPU.\n",
      "No GPU detected, fall back on CPU.\n"
     ]
    },
    {
     "name": "stdout",
     "output_type": "stream",
     "text": [
      "Random Run 3 : Sample 10\n",
      "Shift p-vals:  0.3799999952316284\n",
      "Random Run 3 : Sample 20\n",
      "Shift p-vals:  0.9700000286102295\n",
      "Random Run 3 : Sample 50\n",
      "Shift p-vals:  0.8199999928474426\n",
      "Random Run 3 : Sample 100\n",
      "Shift p-vals:  0.0\n",
      "Random Run 3 : Sample 200\n",
      "Shift p-vals:  0.15000000596046448\n",
      "Random Run 3 : Sample 500\n",
      "Shift p-vals:  0.9100000262260437\n",
      "Random Run 3 : Sample 1000\n",
      "Shift p-vals:  0.6800000071525574\n",
      "Random Run 3 : Sample 2000\n",
      "Shift p-vals:  0.3700000047683716\n"
     ]
    },
    {
     "name": "stderr",
     "output_type": "stream",
     "text": [
      "No GPU detected, fall back on CPU.\n",
      "No GPU detected, fall back on CPU.\n",
      "No GPU detected, fall back on CPU.\n",
      "No GPU detected, fall back on CPU.\n",
      "No GPU detected, fall back on CPU.\n",
      "No GPU detected, fall back on CPU.\n",
      "No GPU detected, fall back on CPU.\n",
      "No GPU detected, fall back on CPU.\n"
     ]
    },
    {
     "name": "stdout",
     "output_type": "stream",
     "text": [
      "Random Run 4 : Sample 10\n",
      "Shift p-vals:  0.5600000023841858\n",
      "Random Run 4 : Sample 20\n",
      "Shift p-vals:  0.9900000095367432\n",
      "Random Run 4 : Sample 50\n",
      "Shift p-vals:  0.6600000262260437\n",
      "Random Run 4 : Sample 100\n",
      "Shift p-vals:  0.8199999928474426\n",
      "Random Run 4 : Sample 200\n",
      "Shift p-vals:  0.28999999165534973\n",
      "Random Run 4 : Sample 500\n",
      "Shift p-vals:  0.3700000047683716\n",
      "Random Run 4 : Sample 1000\n",
      "Shift p-vals:  0.18000000715255737\n",
      "Random Run 4 : Sample 2000\n",
      "Shift p-vals:  0.9599999785423279\n",
      "summer | SMH | PCA | LSDD\n",
      "Shift summer\n"
     ]
    },
    {
     "name": "stderr",
     "output_type": "stream",
     "text": [
      "torch.range is deprecated and will be removed in a future release because its behavior is inconsistent with Python's range builtin. Instead, use torch.arange, which produces values in [start, end).\n"
     ]
    },
    {
     "name": "stdout",
     "output_type": "stream",
     "text": [
      "Random Run 0 : Sample 10\n",
      "No GPU detected, fall back on CPU.\n",
      "Shift p-vals:  0.3199999928474426\n",
      "Random Run 0 : Sample 20\n",
      "No GPU detected, fall back on CPU.\n",
      "Shift p-vals:  0.3499999940395355\n",
      "Random Run 0 : Sample 50\n",
      "No GPU detected, fall back on CPU.\n",
      "Shift p-vals:  0.25999999046325684\n",
      "Random Run 0 : Sample 100\n",
      "No GPU detected, fall back on CPU.\n",
      "Shift p-vals:  0.25999999046325684\n",
      "Random Run 0 : Sample 200\n",
      "No GPU detected, fall back on CPU.\n",
      "Shift p-vals:  0.8199999928474426\n",
      "Random Run 0 : Sample 500\n",
      "No GPU detected, fall back on CPU.\n",
      "Shift p-vals:  0.33000001311302185\n",
      "Random Run 0 : Sample 1000\n",
      "No GPU detected, fall back on CPU.\n",
      "Shift p-vals:  0.9800000190734863\n",
      "Random Run 0 : Sample 2000\n",
      "No GPU detected, fall back on CPU.\n",
      "Shift p-vals:  0.9900000095367432\n",
      "Random Run 1 : Sample 10\n",
      "No GPU detected, fall back on CPU.\n",
      "Shift p-vals:  0.4099999964237213\n",
      "Random Run 1 : Sample 20\n",
      "No GPU detected, fall back on CPU.\n",
      "Shift p-vals:  0.3199999928474426\n",
      "Random Run 1 : Sample 50\n",
      "No GPU detected, fall back on CPU.\n",
      "Shift p-vals:  0.8100000023841858\n",
      "Random Run 1 : Sample 100\n",
      "No GPU detected, fall back on CPU.\n",
      "Shift p-vals:  0.9100000262260437\n",
      "Random Run 1 : Sample 200\n",
      "No GPU detected, fall back on CPU.\n",
      "Shift p-vals:  0.949999988079071\n",
      "Random Run 1 : Sample 500\n",
      "No GPU detected, fall back on CPU.\n",
      "Shift p-vals:  0.550000011920929\n",
      "Random Run 1 : Sample 1000\n",
      "No GPU detected, fall back on CPU.\n",
      "Shift p-vals:  0.8799999952316284\n",
      "Random Run 1 : Sample 2000\n",
      "No GPU detected, fall back on CPU.\n",
      "Shift p-vals:  0.949999988079071\n",
      "Random Run 2 : Sample 10\n",
      "No GPU detected, fall back on CPU.\n",
      "Shift p-vals:  0.8199999928474426\n",
      "Random Run 2 : Sample 20\n",
      "No GPU detected, fall back on CPU.\n",
      "Shift p-vals:  0.07999999821186066\n",
      "Random Run 2 : Sample 50\n",
      "No GPU detected, fall back on CPU.\n",
      "Shift p-vals:  0.17000000178813934\n",
      "Random Run 2 : Sample 100\n",
      "No GPU detected, fall back on CPU.\n",
      "Shift p-vals:  0.8999999761581421\n",
      "Random Run 2 : Sample 200\n",
      "No GPU detected, fall back on CPU.\n",
      "Shift p-vals:  0.8899999856948853\n",
      "Random Run 2 : Sample 500\n",
      "No GPU detected, fall back on CPU.\n",
      "Shift p-vals:  0.5699999928474426\n",
      "Random Run 2 : Sample 1000\n",
      "No GPU detected, fall back on CPU.\n",
      "Shift p-vals:  0.07999999821186066\n",
      "Random Run 2 : Sample 2000\n",
      "No GPU detected, fall back on CPU.\n",
      "Shift p-vals:  0.15000000596046448\n",
      "Random Run 3 : Sample 10\n",
      "No GPU detected, fall back on CPU.\n",
      "Shift p-vals:  0.14000000059604645\n",
      "Random Run 3 : Sample 20\n",
      "No GPU detected, fall back on CPU.\n",
      "Shift p-vals:  0.9200000166893005\n",
      "Random Run 3 : Sample 50\n",
      "No GPU detected, fall back on CPU.\n",
      "Shift p-vals:  0.47999998927116394\n",
      "Random Run 3 : Sample 100\n",
      "No GPU detected, fall back on CPU.\n",
      "Shift p-vals:  0.6899999976158142\n",
      "Random Run 3 : Sample 200\n",
      "No GPU detected, fall back on CPU.\n",
      "Shift p-vals:  0.7799999713897705\n",
      "Random Run 3 : Sample 500\n",
      "No GPU detected, fall back on CPU.\n",
      "Shift p-vals:  0.9300000071525574\n",
      "Random Run 3 : Sample 1000\n",
      "No GPU detected, fall back on CPU.\n",
      "Shift p-vals:  0.3199999928474426\n",
      "Random Run 3 : Sample 2000\n",
      "No GPU detected, fall back on CPU.\n",
      "Shift p-vals:  0.36000001430511475\n",
      "Random Run 4 : Sample 10\n",
      "No GPU detected, fall back on CPU.\n",
      "Shift p-vals:  0.9800000190734863\n",
      "Random Run 4 : Sample 20\n",
      "No GPU detected, fall back on CPU.\n",
      "Shift p-vals:  0.9900000095367432\n",
      "Random Run 4 : Sample 50\n",
      "No GPU detected, fall back on CPU.\n",
      "Shift p-vals:  0.7699999809265137\n",
      "Random Run 4 : Sample 100\n",
      "No GPU detected, fall back on CPU.\n",
      "Shift p-vals:  0.9100000262260437\n",
      "Random Run 4 : Sample 200\n",
      "No GPU detected, fall back on CPU.\n",
      "Shift p-vals:  0.550000011920929\n",
      "Random Run 4 : Sample 500\n",
      "No GPU detected, fall back on CPU.\n",
      "Shift p-vals:  0.3799999952316284\n",
      "Random Run 4 : Sample 1000\n",
      "No GPU detected, fall back on CPU.\n",
      "Shift p-vals:  0.9599999785423279\n",
      "Random Run 4 : Sample 2000\n",
      "No GPU detected, fall back on CPU.\n",
      "Shift p-vals:  0.7599999904632568\n",
      "summer | SMH | BBSDs_FFNN | MMD\n",
      "Shift summer\n"
     ]
    },
    {
     "name": "stderr",
     "output_type": "stream",
     "text": [
      "torch.range is deprecated and will be removed in a future release because its behavior is inconsistent with Python's range builtin. Instead, use torch.arange, which produces values in [start, end).\n"
     ]
    },
    {
     "name": "stdout",
     "output_type": "stream",
     "text": [
      "Random Run 0 : Sample 10\n",
      "No GPU detected, fall back on CPU.\n",
      "Shift p-vals:  0.9300000071525574\n",
      "Random Run 0 : Sample 20\n",
      "No GPU detected, fall back on CPU.\n",
      "Shift p-vals:  0.4300000071525574\n",
      "Random Run 0 : Sample 50\n",
      "No GPU detected, fall back on CPU.\n",
      "Shift p-vals:  0.23999999463558197\n",
      "Random Run 0 : Sample 100\n",
      "No GPU detected, fall back on CPU.\n",
      "Shift p-vals:  0.7599999904632568\n",
      "Random Run 0 : Sample 200\n",
      "No GPU detected, fall back on CPU.\n",
      "Shift p-vals:  0.5600000023841858\n",
      "Random Run 0 : Sample 500\n",
      "No GPU detected, fall back on CPU.\n",
      "Shift p-vals:  1.0\n",
      "Random Run 0 : Sample 1000\n",
      "No GPU detected, fall back on CPU.\n",
      "Shift p-vals:  0.3199999928474426\n",
      "Random Run 0 : Sample 2000\n",
      "No GPU detected, fall back on CPU.\n",
      "Shift p-vals:  0.7300000190734863\n",
      "Random Run 1 : Sample 10\n",
      "No GPU detected, fall back on CPU.\n",
      "Shift p-vals:  0.07000000029802322\n",
      "Random Run 1 : Sample 20\n",
      "No GPU detected, fall back on CPU.\n",
      "Shift p-vals:  0.2800000011920929\n",
      "Random Run 1 : Sample 50\n",
      "No GPU detected, fall back on CPU.\n",
      "Shift p-vals:  0.9800000190734863\n",
      "Random Run 1 : Sample 100\n",
      "No GPU detected, fall back on CPU.\n",
      "Shift p-vals:  0.9100000262260437\n",
      "Random Run 1 : Sample 200\n",
      "No GPU detected, fall back on CPU.\n",
      "Shift p-vals:  0.5699999928474426\n",
      "Random Run 1 : Sample 500\n",
      "No GPU detected, fall back on CPU.\n",
      "Shift p-vals:  0.4099999964237213\n",
      "Random Run 1 : Sample 1000\n",
      "No GPU detected, fall back on CPU.\n",
      "Shift p-vals:  0.8199999928474426\n",
      "Random Run 1 : Sample 2000\n",
      "No GPU detected, fall back on CPU.\n",
      "Shift p-vals:  0.9100000262260437\n",
      "Random Run 2 : Sample 10\n",
      "No GPU detected, fall back on CPU.\n",
      "Shift p-vals:  0.1599999964237213\n",
      "Random Run 2 : Sample 20\n",
      "No GPU detected, fall back on CPU.\n",
      "Shift p-vals:  0.2800000011920929\n",
      "Random Run 2 : Sample 50\n",
      "No GPU detected, fall back on CPU.\n",
      "Shift p-vals:  0.23000000417232513\n",
      "Random Run 2 : Sample 100\n",
      "No GPU detected, fall back on CPU.\n",
      "Shift p-vals:  0.1899999976158142\n",
      "Random Run 2 : Sample 200\n",
      "No GPU detected, fall back on CPU.\n",
      "Shift p-vals:  0.8700000047683716\n",
      "Random Run 2 : Sample 500\n",
      "No GPU detected, fall back on CPU.\n",
      "Shift p-vals:  0.3700000047683716\n",
      "Random Run 2 : Sample 1000\n",
      "No GPU detected, fall back on CPU.\n",
      "Shift p-vals:  0.6700000166893005\n",
      "Random Run 2 : Sample 2000\n",
      "No GPU detected, fall back on CPU.\n",
      "Shift p-vals:  0.4300000071525574\n",
      "Random Run 3 : Sample 10\n",
      "No GPU detected, fall back on CPU.\n",
      "Shift p-vals:  0.019999999552965164\n",
      "Random Run 3 : Sample 20\n",
      "No GPU detected, fall back on CPU.\n",
      "Shift p-vals:  0.5400000214576721\n",
      "Random Run 3 : Sample 50\n",
      "No GPU detected, fall back on CPU.\n",
      "Shift p-vals:  0.5099999904632568\n",
      "Random Run 3 : Sample 100\n",
      "No GPU detected, fall back on CPU.\n",
      "Shift p-vals:  0.4099999964237213\n",
      "Random Run 3 : Sample 200\n",
      "No GPU detected, fall back on CPU.\n",
      "Shift p-vals:  0.75\n",
      "Random Run 3 : Sample 500\n",
      "No GPU detected, fall back on CPU.\n",
      "Shift p-vals:  0.800000011920929\n",
      "Random Run 3 : Sample 1000\n",
      "No GPU detected, fall back on CPU.\n",
      "Shift p-vals:  0.6700000166893005\n",
      "Random Run 3 : Sample 2000\n",
      "No GPU detected, fall back on CPU.\n",
      "Shift p-vals:  0.9900000095367432\n",
      "Random Run 4 : Sample 10\n",
      "No GPU detected, fall back on CPU.\n",
      "Shift p-vals:  0.1899999976158142\n",
      "Random Run 4 : Sample 20\n",
      "No GPU detected, fall back on CPU.\n",
      "Shift p-vals:  0.7799999713897705\n",
      "Random Run 4 : Sample 50\n",
      "No GPU detected, fall back on CPU.\n",
      "Shift p-vals:  0.8799999952316284\n",
      "Random Run 4 : Sample 100\n",
      "No GPU detected, fall back on CPU.\n",
      "Shift p-vals:  0.9300000071525574\n",
      "Random Run 4 : Sample 200\n",
      "No GPU detected, fall back on CPU.\n",
      "Shift p-vals:  0.30000001192092896\n",
      "Random Run 4 : Sample 500\n",
      "No GPU detected, fall back on CPU.\n",
      "Shift p-vals:  0.8500000238418579\n",
      "Random Run 4 : Sample 1000\n",
      "No GPU detected, fall back on CPU.\n",
      "Shift p-vals:  0.9399999976158142\n",
      "Random Run 4 : Sample 2000\n",
      "No GPU detected, fall back on CPU.\n",
      "Shift p-vals:  0.6200000047683716\n",
      "summer | SMH | BBSDs_FFNN | LK\n",
      "Shift summer\n"
     ]
    },
    {
     "name": "stderr",
     "output_type": "stream",
     "text": [
      "torch.range is deprecated and will be removed in a future release because its behavior is inconsistent with Python's range builtin. Instead, use torch.arange, which produces values in [start, end).\n",
      "No GPU detected, fall back on CPU.\n",
      "No GPU detected, fall back on CPU.\n",
      "No GPU detected, fall back on CPU.\n",
      "No GPU detected, fall back on CPU.\n",
      "No GPU detected, fall back on CPU.\n",
      "No GPU detected, fall back on CPU.\n",
      "No GPU detected, fall back on CPU.\n",
      "No GPU detected, fall back on CPU.\n"
     ]
    },
    {
     "name": "stdout",
     "output_type": "stream",
     "text": [
      "Random Run 0 : Sample 10\n",
      "Shift p-vals:  0.6800000071525574\n",
      "Random Run 0 : Sample 20\n",
      "Shift p-vals:  0.6299999952316284\n",
      "Random Run 0 : Sample 50\n",
      "Shift p-vals:  0.6000000238418579\n",
      "Random Run 0 : Sample 100\n",
      "Shift p-vals:  0.8299999833106995\n",
      "Random Run 0 : Sample 200\n",
      "Shift p-vals:  0.6700000166893005\n",
      "Random Run 0 : Sample 500\n",
      "Shift p-vals:  0.5199999809265137\n",
      "Random Run 0 : Sample 1000\n",
      "Shift p-vals:  0.550000011920929\n",
      "Random Run 0 : Sample 2000\n",
      "Shift p-vals:  0.5299999713897705\n"
     ]
    },
    {
     "name": "stderr",
     "output_type": "stream",
     "text": [
      "No GPU detected, fall back on CPU.\n",
      "No GPU detected, fall back on CPU.\n",
      "No GPU detected, fall back on CPU.\n",
      "No GPU detected, fall back on CPU.\n",
      "No GPU detected, fall back on CPU.\n",
      "No GPU detected, fall back on CPU.\n",
      "No GPU detected, fall back on CPU.\n",
      "No GPU detected, fall back on CPU.\n"
     ]
    },
    {
     "name": "stdout",
     "output_type": "stream",
     "text": [
      "Random Run 1 : Sample 10\n",
      "Shift p-vals:  1.0\n",
      "Random Run 1 : Sample 20\n",
      "Shift p-vals:  0.25999999046325684\n",
      "Random Run 1 : Sample 50\n",
      "Shift p-vals:  0.1899999976158142\n",
      "Random Run 1 : Sample 100\n",
      "Shift p-vals:  0.8999999761581421\n",
      "Random Run 1 : Sample 200\n",
      "Shift p-vals:  0.12999999523162842\n",
      "Random Run 1 : Sample 500\n",
      "Shift p-vals:  0.36000001430511475\n",
      "Random Run 1 : Sample 1000\n",
      "Shift p-vals:  0.6299999952316284\n",
      "Random Run 1 : Sample 2000\n",
      "Shift p-vals:  0.30000001192092896\n"
     ]
    },
    {
     "name": "stderr",
     "output_type": "stream",
     "text": [
      "No GPU detected, fall back on CPU.\n",
      "No GPU detected, fall back on CPU.\n",
      "No GPU detected, fall back on CPU.\n",
      "No GPU detected, fall back on CPU.\n",
      "No GPU detected, fall back on CPU.\n",
      "No GPU detected, fall back on CPU.\n",
      "No GPU detected, fall back on CPU.\n",
      "No GPU detected, fall back on CPU.\n"
     ]
    },
    {
     "name": "stdout",
     "output_type": "stream",
     "text": [
      "Random Run 2 : Sample 10\n",
      "Shift p-vals:  0.8100000023841858\n",
      "Random Run 2 : Sample 20\n",
      "Shift p-vals:  0.4000000059604645\n",
      "Random Run 2 : Sample 50\n",
      "Shift p-vals:  0.25\n",
      "Random Run 2 : Sample 100\n",
      "Shift p-vals:  0.3100000023841858\n",
      "Random Run 2 : Sample 200\n",
      "Shift p-vals:  0.4399999976158142\n",
      "Random Run 2 : Sample 500\n",
      "Shift p-vals:  0.12999999523162842\n",
      "Random Run 2 : Sample 1000\n",
      "Shift p-vals:  0.550000011920929\n",
      "Random Run 2 : Sample 2000\n",
      "Shift p-vals:  0.3700000047683716\n"
     ]
    },
    {
     "name": "stderr",
     "output_type": "stream",
     "text": [
      "No GPU detected, fall back on CPU.\n",
      "No GPU detected, fall back on CPU.\n",
      "No GPU detected, fall back on CPU.\n",
      "No GPU detected, fall back on CPU.\n",
      "No GPU detected, fall back on CPU.\n",
      "No GPU detected, fall back on CPU.\n",
      "No GPU detected, fall back on CPU.\n",
      "No GPU detected, fall back on CPU.\n"
     ]
    },
    {
     "name": "stdout",
     "output_type": "stream",
     "text": [
      "Random Run 3 : Sample 10\n",
      "Shift p-vals:  0.7400000095367432\n",
      "Random Run 3 : Sample 20\n",
      "Shift p-vals:  0.7599999904632568\n",
      "Random Run 3 : Sample 50\n",
      "Shift p-vals:  0.7099999785423279\n",
      "Random Run 3 : Sample 100\n",
      "Shift p-vals:  0.23000000417232513\n",
      "Random Run 3 : Sample 200\n",
      "Shift p-vals:  0.14000000059604645\n",
      "Random Run 3 : Sample 500\n",
      "Shift p-vals:  0.25999999046325684\n",
      "Random Run 3 : Sample 1000\n",
      "Shift p-vals:  0.41999998688697815\n",
      "Random Run 3 : Sample 2000\n",
      "Shift p-vals:  0.8199999928474426\n"
     ]
    },
    {
     "name": "stderr",
     "output_type": "stream",
     "text": [
      "No GPU detected, fall back on CPU.\n",
      "No GPU detected, fall back on CPU.\n",
      "No GPU detected, fall back on CPU.\n",
      "No GPU detected, fall back on CPU.\n",
      "No GPU detected, fall back on CPU.\n",
      "No GPU detected, fall back on CPU.\n",
      "No GPU detected, fall back on CPU.\n",
      "No GPU detected, fall back on CPU.\n"
     ]
    },
    {
     "name": "stdout",
     "output_type": "stream",
     "text": [
      "Random Run 4 : Sample 10\n",
      "Shift p-vals:  0.18000000715255737\n",
      "Random Run 4 : Sample 20\n",
      "Shift p-vals:  0.8899999856948853\n",
      "Random Run 4 : Sample 50\n",
      "Shift p-vals:  0.1899999976158142\n",
      "Random Run 4 : Sample 100\n",
      "Shift p-vals:  0.8799999952316284\n",
      "Random Run 4 : Sample 200\n",
      "Shift p-vals:  0.25\n",
      "Random Run 4 : Sample 500\n",
      "Shift p-vals:  0.8700000047683716\n",
      "Random Run 4 : Sample 1000\n",
      "Shift p-vals:  0.9800000190734863\n",
      "Random Run 4 : Sample 2000\n",
      "Shift p-vals:  0.029999999329447746\n",
      "summer | SMH | BBSDs_FFNN | LSDD\n",
      "Shift summer\n"
     ]
    },
    {
     "name": "stderr",
     "output_type": "stream",
     "text": [
      "torch.range is deprecated and will be removed in a future release because its behavior is inconsistent with Python's range builtin. Instead, use torch.arange, which produces values in [start, end).\n"
     ]
    },
    {
     "name": "stdout",
     "output_type": "stream",
     "text": [
      "Random Run 0 : Sample 10\n",
      "No GPU detected, fall back on CPU.\n",
      "Shift p-vals:  0.33000001311302185\n",
      "Random Run 0 : Sample 20\n",
      "No GPU detected, fall back on CPU.\n",
      "Shift p-vals:  0.7599999904632568\n",
      "Random Run 0 : Sample 50\n",
      "No GPU detected, fall back on CPU.\n",
      "Shift p-vals:  0.6700000166893005\n",
      "Random Run 0 : Sample 100\n",
      "No GPU detected, fall back on CPU.\n",
      "Shift p-vals:  0.8600000143051147\n",
      "Random Run 0 : Sample 200\n",
      "No GPU detected, fall back on CPU.\n",
      "Shift p-vals:  0.3400000035762787\n",
      "Random Run 0 : Sample 500\n",
      "No GPU detected, fall back on CPU.\n",
      "Shift p-vals:  0.8299999833106995\n",
      "Random Run 0 : Sample 1000\n",
      "No GPU detected, fall back on CPU.\n",
      "Shift p-vals:  0.2800000011920929\n",
      "Random Run 0 : Sample 2000\n",
      "No GPU detected, fall back on CPU.\n",
      "Shift p-vals:  0.23999999463558197\n",
      "Random Run 1 : Sample 10\n",
      "No GPU detected, fall back on CPU.\n",
      "Shift p-vals:  0.5299999713897705\n",
      "Random Run 1 : Sample 20\n",
      "No GPU detected, fall back on CPU.\n",
      "Shift p-vals:  0.7900000214576721\n",
      "Random Run 1 : Sample 50\n",
      "No GPU detected, fall back on CPU.\n",
      "Shift p-vals:  0.8700000047683716\n",
      "Random Run 1 : Sample 100\n",
      "No GPU detected, fall back on CPU.\n",
      "Shift p-vals:  0.46000000834465027\n",
      "Random Run 1 : Sample 200\n",
      "No GPU detected, fall back on CPU.\n",
      "Shift p-vals:  0.30000001192092896\n",
      "Random Run 1 : Sample 500\n",
      "No GPU detected, fall back on CPU.\n",
      "Shift p-vals:  0.7400000095367432\n",
      "Random Run 1 : Sample 1000\n",
      "No GPU detected, fall back on CPU.\n",
      "Shift p-vals:  0.5899999737739563\n",
      "Random Run 1 : Sample 2000\n",
      "No GPU detected, fall back on CPU.\n",
      "Shift p-vals:  0.6600000262260437\n",
      "Random Run 2 : Sample 10\n",
      "No GPU detected, fall back on CPU.\n",
      "Shift p-vals:  0.3799999952316284\n",
      "Random Run 2 : Sample 20\n",
      "No GPU detected, fall back on CPU.\n",
      "Shift p-vals:  0.7900000214576721\n",
      "Random Run 2 : Sample 50\n",
      "No GPU detected, fall back on CPU.\n",
      "Shift p-vals:  0.7200000286102295\n",
      "Random Run 2 : Sample 100\n",
      "No GPU detected, fall back on CPU.\n",
      "Shift p-vals:  0.11999999731779099\n",
      "Random Run 2 : Sample 200\n",
      "No GPU detected, fall back on CPU.\n",
      "Shift p-vals:  0.8299999833106995\n",
      "Random Run 2 : Sample 500\n",
      "No GPU detected, fall back on CPU.\n",
      "Shift p-vals:  0.6399999856948853\n",
      "Random Run 2 : Sample 1000\n",
      "No GPU detected, fall back on CPU.\n",
      "Shift p-vals:  0.2800000011920929\n",
      "Random Run 2 : Sample 2000\n",
      "No GPU detected, fall back on CPU.\n",
      "Shift p-vals:  0.12999999523162842\n",
      "Random Run 3 : Sample 10\n",
      "No GPU detected, fall back on CPU.\n",
      "Shift p-vals:  0.8100000023841858\n",
      "Random Run 3 : Sample 20\n",
      "No GPU detected, fall back on CPU.\n",
      "Shift p-vals:  0.0\n",
      "Random Run 3 : Sample 50\n",
      "No GPU detected, fall back on CPU.\n",
      "Shift p-vals:  0.7900000214576721\n",
      "Random Run 3 : Sample 100\n",
      "No GPU detected, fall back on CPU.\n",
      "Shift p-vals:  0.23000000417232513\n",
      "Random Run 3 : Sample 200\n",
      "No GPU detected, fall back on CPU.\n",
      "Shift p-vals:  0.4099999964237213\n",
      "Random Run 3 : Sample 500\n",
      "No GPU detected, fall back on CPU.\n",
      "Shift p-vals:  0.46000000834465027\n",
      "Random Run 3 : Sample 1000\n",
      "No GPU detected, fall back on CPU.\n",
      "Shift p-vals:  0.6399999856948853\n",
      "Random Run 3 : Sample 2000\n",
      "No GPU detected, fall back on CPU.\n",
      "Shift p-vals:  0.6000000238418579\n",
      "Random Run 4 : Sample 10\n",
      "No GPU detected, fall back on CPU.\n",
      "Shift p-vals:  0.5199999809265137\n",
      "Random Run 4 : Sample 20\n",
      "No GPU detected, fall back on CPU.\n",
      "Shift p-vals:  0.6700000166893005\n",
      "Random Run 4 : Sample 50\n",
      "No GPU detected, fall back on CPU.\n",
      "Shift p-vals:  0.6899999976158142\n",
      "Random Run 4 : Sample 100\n",
      "No GPU detected, fall back on CPU.\n",
      "Shift p-vals:  0.6100000143051147\n",
      "Random Run 4 : Sample 200\n",
      "No GPU detected, fall back on CPU.\n",
      "Shift p-vals:  0.3799999952316284\n",
      "Random Run 4 : Sample 500\n",
      "No GPU detected, fall back on CPU.\n",
      "Shift p-vals:  0.1899999976158142\n",
      "Random Run 4 : Sample 1000\n",
      "No GPU detected, fall back on CPU.\n",
      "Shift p-vals:  0.27000001072883606\n",
      "Random Run 4 : Sample 2000\n",
      "No GPU detected, fall back on CPU.\n",
      "Shift p-vals:  0.9399999976158142\n",
      "summer | MSH | NoRed | MMD\n",
      "Shift summer\n"
     ]
    },
    {
     "name": "stderr",
     "output_type": "stream",
     "text": [
      "torch.range is deprecated and will be removed in a future release because its behavior is inconsistent with Python's range builtin. Instead, use torch.arange, which produces values in [start, end).\n"
     ]
    },
    {
     "name": "stdout",
     "output_type": "stream",
     "text": [
      "Random Run 0 : Sample 10\n",
      "No GPU detected, fall back on CPU.\n",
      "Shift p-vals:  0.5\n",
      "Random Run 0 : Sample 20\n",
      "No GPU detected, fall back on CPU.\n",
      "Shift p-vals:  0.7900000214576721\n",
      "Random Run 0 : Sample 50\n",
      "No GPU detected, fall back on CPU.\n",
      "Shift p-vals:  0.8299999833106995\n",
      "Random Run 0 : Sample 100\n",
      "No GPU detected, fall back on CPU.\n",
      "Shift p-vals:  0.8600000143051147\n",
      "Random Run 0 : Sample 200\n",
      "No GPU detected, fall back on CPU.\n",
      "Shift p-vals:  0.7599999904632568\n",
      "Random Run 0 : Sample 500\n",
      "No GPU detected, fall back on CPU.\n",
      "Shift p-vals:  0.8299999833106995\n",
      "Random Run 0 : Sample 1000\n",
      "No GPU detected, fall back on CPU.\n",
      "Shift p-vals:  0.800000011920929\n",
      "Random Run 0 : Sample 2000\n",
      "No GPU detected, fall back on CPU.\n",
      "Shift p-vals:  0.7799999713897705\n",
      "Random Run 1 : Sample 10\n",
      "No GPU detected, fall back on CPU.\n",
      "Shift p-vals:  0.5\n",
      "Random Run 1 : Sample 20\n",
      "No GPU detected, fall back on CPU.\n",
      "Shift p-vals:  0.4300000071525574\n",
      "Random Run 1 : Sample 50\n",
      "No GPU detected, fall back on CPU.\n",
      "Shift p-vals:  0.49000000953674316\n",
      "Random Run 1 : Sample 100\n",
      "No GPU detected, fall back on CPU.\n",
      "Shift p-vals:  0.44999998807907104\n",
      "Random Run 1 : Sample 200\n",
      "No GPU detected, fall back on CPU.\n",
      "Shift p-vals:  0.4000000059604645\n",
      "Random Run 1 : Sample 500\n",
      "No GPU detected, fall back on CPU.\n",
      "Shift p-vals:  0.3400000035762787\n",
      "Random Run 1 : Sample 1000\n",
      "No GPU detected, fall back on CPU.\n",
      "Shift p-vals:  0.3700000047683716\n",
      "Random Run 1 : Sample 2000\n",
      "No GPU detected, fall back on CPU.\n",
      "Shift p-vals:  0.4099999964237213\n",
      "Random Run 2 : Sample 10\n",
      "No GPU detected, fall back on CPU.\n",
      "Shift p-vals:  0.7900000214576721\n",
      "Random Run 2 : Sample 20\n",
      "No GPU detected, fall back on CPU.\n",
      "Shift p-vals:  0.7200000286102295\n",
      "Random Run 2 : Sample 50\n",
      "No GPU detected, fall back on CPU.\n",
      "Shift p-vals:  0.7599999904632568\n",
      "Random Run 2 : Sample 100\n",
      "No GPU detected, fall back on CPU.\n",
      "Shift p-vals:  0.699999988079071\n",
      "Random Run 2 : Sample 200\n",
      "No GPU detected, fall back on CPU.\n",
      "Shift p-vals:  0.6399999856948853\n",
      "Random Run 2 : Sample 500\n",
      "No GPU detected, fall back on CPU.\n",
      "Shift p-vals:  0.6499999761581421\n",
      "Random Run 2 : Sample 1000\n",
      "No GPU detected, fall back on CPU.\n",
      "Shift p-vals:  0.7400000095367432\n",
      "Random Run 2 : Sample 2000\n",
      "No GPU detected, fall back on CPU.\n",
      "Shift p-vals:  0.6700000166893005\n",
      "Random Run 3 : Sample 10\n",
      "No GPU detected, fall back on CPU.\n",
      "Shift p-vals:  0.44999998807907104\n",
      "Random Run 3 : Sample 20\n",
      "No GPU detected, fall back on CPU.\n",
      "Shift p-vals:  0.20999999344348907\n",
      "Random Run 3 : Sample 50\n",
      "No GPU detected, fall back on CPU.\n",
      "Shift p-vals:  0.11999999731779099\n",
      "Random Run 3 : Sample 100\n",
      "No GPU detected, fall back on CPU.\n",
      "Shift p-vals:  0.20000000298023224\n",
      "Random Run 3 : Sample 200\n",
      "No GPU detected, fall back on CPU.\n",
      "Shift p-vals:  0.25\n",
      "Random Run 3 : Sample 500\n",
      "No GPU detected, fall back on CPU.\n",
      "Shift p-vals:  0.17000000178813934\n",
      "Random Run 3 : Sample 1000\n",
      "No GPU detected, fall back on CPU.\n",
      "Shift p-vals:  0.14000000059604645\n",
      "Random Run 3 : Sample 2000\n",
      "No GPU detected, fall back on CPU.\n",
      "Shift p-vals:  0.07999999821186066\n",
      "Random Run 4 : Sample 10\n",
      "No GPU detected, fall back on CPU.\n",
      "Shift p-vals:  0.6299999952316284\n",
      "Random Run 4 : Sample 20\n",
      "No GPU detected, fall back on CPU.\n",
      "Shift p-vals:  0.3799999952316284\n",
      "Random Run 4 : Sample 50\n",
      "No GPU detected, fall back on CPU.\n",
      "Shift p-vals:  0.5299999713897705\n",
      "Random Run 4 : Sample 100\n",
      "No GPU detected, fall back on CPU.\n",
      "Shift p-vals:  0.47999998927116394\n",
      "Random Run 4 : Sample 200\n",
      "No GPU detected, fall back on CPU.\n",
      "Shift p-vals:  0.550000011920929\n",
      "Random Run 4 : Sample 500\n",
      "No GPU detected, fall back on CPU.\n",
      "Shift p-vals:  0.5400000214576721\n",
      "Random Run 4 : Sample 1000\n",
      "No GPU detected, fall back on CPU.\n",
      "Shift p-vals:  0.4399999976158142\n",
      "Random Run 4 : Sample 2000\n",
      "No GPU detected, fall back on CPU.\n",
      "Shift p-vals:  0.41999998688697815\n",
      "summer | MSH | NoRed | LK\n",
      "Shift summer\n"
     ]
    },
    {
     "name": "stderr",
     "output_type": "stream",
     "text": [
      "torch.range is deprecated and will be removed in a future release because its behavior is inconsistent with Python's range builtin. Instead, use torch.arange, which produces values in [start, end).\n",
      "No GPU detected, fall back on CPU.\n",
      "No GPU detected, fall back on CPU.\n",
      "No GPU detected, fall back on CPU.\n",
      "No GPU detected, fall back on CPU.\n",
      "No GPU detected, fall back on CPU.\n",
      "No GPU detected, fall back on CPU.\n",
      "No GPU detected, fall back on CPU.\n",
      "No GPU detected, fall back on CPU.\n"
     ]
    },
    {
     "name": "stdout",
     "output_type": "stream",
     "text": [
      "Random Run 0 : Sample 10\n",
      "Shift p-vals:  0.1899999976158142\n",
      "Random Run 0 : Sample 20\n",
      "Shift p-vals:  0.75\n",
      "Random Run 0 : Sample 50\n",
      "Shift p-vals:  0.6800000071525574\n",
      "Random Run 0 : Sample 100\n",
      "Shift p-vals:  0.20000000298023224\n",
      "Random Run 0 : Sample 200\n",
      "Shift p-vals:  0.009999999776482582\n",
      "Random Run 0 : Sample 500\n",
      "Shift p-vals:  0.6600000262260437\n",
      "Random Run 0 : Sample 1000\n",
      "Shift p-vals:  0.1899999976158142\n",
      "Random Run 0 : Sample 2000\n",
      "Shift p-vals:  0.5799999833106995\n"
     ]
    },
    {
     "name": "stderr",
     "output_type": "stream",
     "text": [
      "No GPU detected, fall back on CPU.\n",
      "No GPU detected, fall back on CPU.\n",
      "No GPU detected, fall back on CPU.\n",
      "No GPU detected, fall back on CPU.\n",
      "No GPU detected, fall back on CPU.\n",
      "No GPU detected, fall back on CPU.\n",
      "No GPU detected, fall back on CPU.\n",
      "No GPU detected, fall back on CPU.\n"
     ]
    },
    {
     "name": "stdout",
     "output_type": "stream",
     "text": [
      "Random Run 1 : Sample 10\n",
      "Shift p-vals:  0.36000001430511475\n",
      "Random Run 1 : Sample 20\n",
      "Shift p-vals:  0.5899999737739563\n",
      "Random Run 1 : Sample 50\n",
      "Shift p-vals:  0.7099999785423279\n",
      "Random Run 1 : Sample 100\n",
      "Shift p-vals:  0.8899999856948853\n",
      "Random Run 1 : Sample 200\n",
      "Shift p-vals:  0.1599999964237213\n",
      "Random Run 1 : Sample 500\n",
      "Shift p-vals:  0.7400000095367432\n",
      "Random Run 1 : Sample 1000\n",
      "Shift p-vals:  0.7900000214576721\n",
      "Random Run 1 : Sample 2000\n",
      "Shift p-vals:  0.6899999976158142\n"
     ]
    },
    {
     "name": "stderr",
     "output_type": "stream",
     "text": [
      "No GPU detected, fall back on CPU.\n",
      "No GPU detected, fall back on CPU.\n",
      "No GPU detected, fall back on CPU.\n",
      "No GPU detected, fall back on CPU.\n",
      "No GPU detected, fall back on CPU.\n",
      "No GPU detected, fall back on CPU.\n",
      "No GPU detected, fall back on CPU.\n",
      "No GPU detected, fall back on CPU.\n"
     ]
    },
    {
     "name": "stdout",
     "output_type": "stream",
     "text": [
      "Random Run 2 : Sample 10\n",
      "Shift p-vals:  0.6399999856948853\n",
      "Random Run 2 : Sample 20\n",
      "Shift p-vals:  0.27000001072883606\n",
      "Random Run 2 : Sample 50\n",
      "Shift p-vals:  0.3400000035762787\n",
      "Random Run 2 : Sample 100\n",
      "Shift p-vals:  0.9100000262260437\n",
      "Random Run 2 : Sample 200\n",
      "Shift p-vals:  0.2800000011920929\n",
      "Random Run 2 : Sample 500\n",
      "Shift p-vals:  0.5199999809265137\n",
      "Random Run 2 : Sample 1000\n",
      "Shift p-vals:  0.9300000071525574\n",
      "Random Run 2 : Sample 2000\n",
      "Shift p-vals:  0.6899999976158142\n"
     ]
    },
    {
     "name": "stderr",
     "output_type": "stream",
     "text": [
      "No GPU detected, fall back on CPU.\n",
      "No GPU detected, fall back on CPU.\n",
      "No GPU detected, fall back on CPU.\n",
      "No GPU detected, fall back on CPU.\n",
      "No GPU detected, fall back on CPU.\n",
      "No GPU detected, fall back on CPU.\n",
      "No GPU detected, fall back on CPU.\n",
      "No GPU detected, fall back on CPU.\n"
     ]
    },
    {
     "name": "stdout",
     "output_type": "stream",
     "text": [
      "Random Run 3 : Sample 10\n",
      "Shift p-vals:  0.33000001311302185\n",
      "Random Run 3 : Sample 20\n",
      "Shift p-vals:  0.28999999165534973\n",
      "Random Run 3 : Sample 50\n",
      "Shift p-vals:  0.44999998807907104\n",
      "Random Run 3 : Sample 100\n",
      "Shift p-vals:  0.3199999928474426\n",
      "Random Run 3 : Sample 200\n",
      "Shift p-vals:  0.38999998569488525\n",
      "Random Run 3 : Sample 500\n",
      "Shift p-vals:  0.8299999833106995\n",
      "Random Run 3 : Sample 1000\n",
      "Shift p-vals:  0.019999999552965164\n",
      "Random Run 3 : Sample 2000\n",
      "Shift p-vals:  0.6100000143051147\n"
     ]
    },
    {
     "name": "stderr",
     "output_type": "stream",
     "text": [
      "No GPU detected, fall back on CPU.\n",
      "No GPU detected, fall back on CPU.\n",
      "No GPU detected, fall back on CPU.\n",
      "No GPU detected, fall back on CPU.\n",
      "No GPU detected, fall back on CPU.\n",
      "No GPU detected, fall back on CPU.\n",
      "No GPU detected, fall back on CPU.\n",
      "No GPU detected, fall back on CPU.\n"
     ]
    },
    {
     "name": "stdout",
     "output_type": "stream",
     "text": [
      "Random Run 4 : Sample 10\n",
      "Shift p-vals:  0.8799999952316284\n",
      "Random Run 4 : Sample 20\n",
      "Shift p-vals:  0.800000011920929\n",
      "Random Run 4 : Sample 50\n",
      "Shift p-vals:  0.03999999910593033\n",
      "Random Run 4 : Sample 100\n",
      "Shift p-vals:  0.41999998688697815\n",
      "Random Run 4 : Sample 200\n",
      "Shift p-vals:  0.11999999731779099\n",
      "Random Run 4 : Sample 500\n",
      "Shift p-vals:  0.550000011920929\n",
      "Random Run 4 : Sample 1000\n",
      "Shift p-vals:  0.4399999976158142\n",
      "Random Run 4 : Sample 2000\n",
      "Shift p-vals:  0.8500000238418579\n",
      "summer | MSH | NoRed | LSDD\n",
      "Shift summer\n"
     ]
    },
    {
     "name": "stderr",
     "output_type": "stream",
     "text": [
      "torch.range is deprecated and will be removed in a future release because its behavior is inconsistent with Python's range builtin. Instead, use torch.arange, which produces values in [start, end).\n"
     ]
    },
    {
     "name": "stdout",
     "output_type": "stream",
     "text": [
      "Random Run 0 : Sample 10\n",
      "No GPU detected, fall back on CPU.\n",
      "Shift p-vals:  0.1899999976158142\n",
      "Random Run 0 : Sample 20\n",
      "No GPU detected, fall back on CPU.\n",
      "Shift p-vals:  0.019999999552965164\n",
      "Random Run 0 : Sample 50\n",
      "No GPU detected, fall back on CPU.\n",
      "Shift p-vals:  0.0\n",
      "Random Run 0 : Sample 100\n",
      "No GPU detected, fall back on CPU.\n",
      "Shift p-vals:  0.0\n",
      "Random Run 0 : Sample 200\n",
      "No GPU detected, fall back on CPU.\n",
      "Shift p-vals:  0.0\n",
      "Random Run 0 : Sample 500\n",
      "No GPU detected, fall back on CPU.\n",
      "Shift p-vals:  0.0\n",
      "Random Run 0 : Sample 1000\n",
      "No GPU detected, fall back on CPU.\n",
      "Shift p-vals:  0.0\n",
      "Random Run 0 : Sample 2000\n",
      "No GPU detected, fall back on CPU.\n",
      "Shift p-vals:  0.009999999776482582\n",
      "Random Run 1 : Sample 10\n",
      "No GPU detected, fall back on CPU.\n",
      "Shift p-vals:  0.019999999552965164\n",
      "Random Run 1 : Sample 20\n",
      "No GPU detected, fall back on CPU.\n",
      "Shift p-vals:  0.009999999776482582\n",
      "Random Run 1 : Sample 50\n",
      "No GPU detected, fall back on CPU.\n",
      "Shift p-vals:  0.0\n",
      "Random Run 1 : Sample 100\n",
      "No GPU detected, fall back on CPU.\n",
      "Shift p-vals:  0.0\n",
      "Random Run 1 : Sample 200\n",
      "No GPU detected, fall back on CPU.\n",
      "Shift p-vals:  0.0\n",
      "Random Run 1 : Sample 500\n",
      "No GPU detected, fall back on CPU.\n",
      "Shift p-vals:  0.0\n",
      "Random Run 1 : Sample 1000\n",
      "No GPU detected, fall back on CPU.\n",
      "Shift p-vals:  0.0\n",
      "Random Run 1 : Sample 2000\n",
      "No GPU detected, fall back on CPU.\n",
      "Shift p-vals:  0.0\n",
      "Random Run 2 : Sample 10\n",
      "No GPU detected, fall back on CPU.\n",
      "Shift p-vals:  0.0\n",
      "Random Run 2 : Sample 20\n",
      "No GPU detected, fall back on CPU.\n",
      "Shift p-vals:  0.0\n",
      "Random Run 2 : Sample 50\n",
      "No GPU detected, fall back on CPU.\n",
      "Shift p-vals:  0.009999999776482582\n",
      "Random Run 2 : Sample 100\n",
      "No GPU detected, fall back on CPU.\n",
      "Shift p-vals:  0.009999999776482582\n",
      "Random Run 2 : Sample 200\n",
      "No GPU detected, fall back on CPU.\n",
      "Shift p-vals:  0.009999999776482582\n",
      "Random Run 2 : Sample 500\n",
      "No GPU detected, fall back on CPU.\n",
      "Shift p-vals:  0.019999999552965164\n",
      "Random Run 2 : Sample 1000\n",
      "No GPU detected, fall back on CPU.\n",
      "Shift p-vals:  0.0\n",
      "Random Run 2 : Sample 2000\n",
      "No GPU detected, fall back on CPU.\n",
      "Shift p-vals:  0.009999999776482582\n",
      "Random Run 3 : Sample 10\n",
      "No GPU detected, fall back on CPU.\n",
      "Shift p-vals:  0.8299999833106995\n",
      "Random Run 3 : Sample 20\n",
      "No GPU detected, fall back on CPU.\n",
      "Shift p-vals:  0.30000001192092896\n",
      "Random Run 3 : Sample 50\n",
      "No GPU detected, fall back on CPU.\n",
      "Shift p-vals:  0.15000000596046448\n",
      "Random Run 3 : Sample 100\n",
      "No GPU detected, fall back on CPU.\n",
      "Shift p-vals:  0.18000000715255737\n",
      "Random Run 3 : Sample 200\n",
      "No GPU detected, fall back on CPU.\n",
      "Shift p-vals:  0.15000000596046448\n",
      "Random Run 3 : Sample 500\n",
      "No GPU detected, fall back on CPU.\n",
      "Shift p-vals:  0.09000000357627869\n",
      "Random Run 3 : Sample 1000\n",
      "No GPU detected, fall back on CPU.\n",
      "Shift p-vals:  0.23000000417232513\n",
      "Random Run 3 : Sample 2000\n",
      "No GPU detected, fall back on CPU.\n",
      "Shift p-vals:  0.07000000029802322\n",
      "Random Run 4 : Sample 10\n",
      "No GPU detected, fall back on CPU.\n",
      "Shift p-vals:  0.07000000029802322\n",
      "Random Run 4 : Sample 20\n",
      "No GPU detected, fall back on CPU.\n",
      "Shift p-vals:  0.1599999964237213\n",
      "Random Run 4 : Sample 50\n",
      "No GPU detected, fall back on CPU.\n",
      "Shift p-vals:  0.03999999910593033\n",
      "Random Run 4 : Sample 100\n",
      "No GPU detected, fall back on CPU.\n",
      "Shift p-vals:  0.029999999329447746\n",
      "Random Run 4 : Sample 200\n",
      "No GPU detected, fall back on CPU.\n",
      "Shift p-vals:  0.05999999865889549\n",
      "Random Run 4 : Sample 500\n",
      "No GPU detected, fall back on CPU.\n",
      "Shift p-vals:  0.029999999329447746\n",
      "Random Run 4 : Sample 1000\n",
      "No GPU detected, fall back on CPU.\n",
      "Shift p-vals:  0.019999999552965164\n",
      "Random Run 4 : Sample 2000\n",
      "No GPU detected, fall back on CPU.\n",
      "Shift p-vals:  0.05000000074505806\n",
      "summer | MSH | SRP | MMD\n",
      "Shift summer\n"
     ]
    },
    {
     "name": "stderr",
     "output_type": "stream",
     "text": [
      "torch.range is deprecated and will be removed in a future release because its behavior is inconsistent with Python's range builtin. Instead, use torch.arange, which produces values in [start, end).\n"
     ]
    },
    {
     "name": "stdout",
     "output_type": "stream",
     "text": [
      "Random Run 0 : Sample 10\n",
      "No GPU detected, fall back on CPU.\n",
      "Shift p-vals:  0.41999998688697815\n",
      "Random Run 0 : Sample 20\n",
      "No GPU detected, fall back on CPU.\n",
      "Shift p-vals:  0.949999988079071\n",
      "Random Run 0 : Sample 50\n",
      "No GPU detected, fall back on CPU.\n",
      "Shift p-vals:  0.7599999904632568\n",
      "Random Run 0 : Sample 100\n",
      "No GPU detected, fall back on CPU.\n",
      "Shift p-vals:  0.7200000286102295\n",
      "Random Run 0 : Sample 200\n",
      "No GPU detected, fall back on CPU.\n",
      "Shift p-vals:  0.4000000059604645\n",
      "Random Run 0 : Sample 500\n",
      "No GPU detected, fall back on CPU.\n",
      "Shift p-vals:  0.009999999776482582\n",
      "Random Run 0 : Sample 1000\n",
      "No GPU detected, fall back on CPU.\n",
      "Shift p-vals:  0.7099999785423279\n",
      "Random Run 0 : Sample 2000\n",
      "No GPU detected, fall back on CPU.\n",
      "Shift p-vals:  0.9700000286102295\n",
      "Random Run 1 : Sample 10\n",
      "No GPU detected, fall back on CPU.\n",
      "Shift p-vals:  0.9599999785423279\n",
      "Random Run 1 : Sample 20\n",
      "No GPU detected, fall back on CPU.\n",
      "Shift p-vals:  0.20000000298023224\n",
      "Random Run 1 : Sample 50\n",
      "No GPU detected, fall back on CPU.\n",
      "Shift p-vals:  0.3499999940395355\n",
      "Random Run 1 : Sample 100\n",
      "No GPU detected, fall back on CPU.\n",
      "Shift p-vals:  0.20000000298023224\n",
      "Random Run 1 : Sample 200\n",
      "No GPU detected, fall back on CPU.\n",
      "Shift p-vals:  0.20000000298023224\n",
      "Random Run 1 : Sample 500\n",
      "No GPU detected, fall back on CPU.\n",
      "Shift p-vals:  0.9700000286102295\n",
      "Random Run 1 : Sample 1000\n",
      "No GPU detected, fall back on CPU.\n",
      "Shift p-vals:  0.20000000298023224\n",
      "Random Run 1 : Sample 2000\n",
      "No GPU detected, fall back on CPU.\n",
      "Shift p-vals:  0.20000000298023224\n",
      "Random Run 2 : Sample 10\n",
      "No GPU detected, fall back on CPU.\n",
      "Shift p-vals:  0.20999999344348907\n",
      "Random Run 2 : Sample 20\n",
      "No GPU detected, fall back on CPU.\n",
      "Shift p-vals:  0.7699999809265137\n",
      "Random Run 2 : Sample 50\n",
      "No GPU detected, fall back on CPU.\n",
      "Shift p-vals:  0.8899999856948853\n",
      "Random Run 2 : Sample 100\n",
      "No GPU detected, fall back on CPU.\n",
      "Shift p-vals:  0.14000000059604645\n",
      "Random Run 2 : Sample 200\n",
      "No GPU detected, fall back on CPU.\n",
      "Shift p-vals:  0.6200000047683716\n",
      "Random Run 2 : Sample 500\n",
      "No GPU detected, fall back on CPU.\n",
      "Shift p-vals:  0.20000000298023224\n",
      "Random Run 2 : Sample 1000\n",
      "No GPU detected, fall back on CPU.\n",
      "Shift p-vals:  0.3700000047683716\n",
      "Random Run 2 : Sample 2000\n",
      "No GPU detected, fall back on CPU.\n",
      "Shift p-vals:  0.8100000023841858\n",
      "Random Run 3 : Sample 10\n",
      "No GPU detected, fall back on CPU.\n",
      "Shift p-vals:  0.5699999928474426\n",
      "Random Run 3 : Sample 20\n",
      "No GPU detected, fall back on CPU.\n",
      "Shift p-vals:  0.7099999785423279\n",
      "Random Run 3 : Sample 50\n",
      "No GPU detected, fall back on CPU.\n",
      "Shift p-vals:  0.9300000071525574\n",
      "Random Run 3 : Sample 100\n",
      "No GPU detected, fall back on CPU.\n",
      "Shift p-vals:  0.5099999904632568\n",
      "Random Run 3 : Sample 200\n",
      "No GPU detected, fall back on CPU.\n",
      "Shift p-vals:  0.05999999865889549\n",
      "Random Run 3 : Sample 500\n",
      "No GPU detected, fall back on CPU.\n",
      "Shift p-vals:  0.7099999785423279\n",
      "Random Run 3 : Sample 1000\n",
      "No GPU detected, fall back on CPU.\n",
      "Shift p-vals:  0.3700000047683716\n",
      "Random Run 3 : Sample 2000\n",
      "No GPU detected, fall back on CPU.\n",
      "Shift p-vals:  0.47999998927116394\n",
      "Random Run 4 : Sample 10\n",
      "No GPU detected, fall back on CPU.\n",
      "Shift p-vals:  0.18000000715255737\n",
      "Random Run 4 : Sample 20\n",
      "No GPU detected, fall back on CPU.\n",
      "Shift p-vals:  0.9200000166893005\n",
      "Random Run 4 : Sample 50\n",
      "No GPU detected, fall back on CPU.\n",
      "Shift p-vals:  0.6899999976158142\n",
      "Random Run 4 : Sample 100\n",
      "No GPU detected, fall back on CPU.\n",
      "Shift p-vals:  0.2199999988079071\n",
      "Random Run 4 : Sample 200\n",
      "No GPU detected, fall back on CPU.\n",
      "Shift p-vals:  0.699999988079071\n",
      "Random Run 4 : Sample 500\n",
      "No GPU detected, fall back on CPU.\n",
      "Shift p-vals:  0.41999998688697815\n",
      "Random Run 4 : Sample 1000\n",
      "No GPU detected, fall back on CPU.\n",
      "Shift p-vals:  0.5400000214576721\n",
      "Random Run 4 : Sample 2000\n",
      "No GPU detected, fall back on CPU.\n",
      "Shift p-vals:  0.47999998927116394\n",
      "summer | MSH | SRP | LK\n",
      "Shift summer\n"
     ]
    },
    {
     "name": "stderr",
     "output_type": "stream",
     "text": [
      "torch.range is deprecated and will be removed in a future release because its behavior is inconsistent with Python's range builtin. Instead, use torch.arange, which produces values in [start, end).\n",
      "No GPU detected, fall back on CPU.\n",
      "No GPU detected, fall back on CPU.\n",
      "No GPU detected, fall back on CPU.\n",
      "No GPU detected, fall back on CPU.\n",
      "No GPU detected, fall back on CPU.\n",
      "No GPU detected, fall back on CPU.\n",
      "No GPU detected, fall back on CPU.\n",
      "No GPU detected, fall back on CPU.\n"
     ]
    },
    {
     "name": "stdout",
     "output_type": "stream",
     "text": [
      "Random Run 0 : Sample 10\n",
      "Shift p-vals:  0.6600000262260437\n",
      "Random Run 0 : Sample 20\n",
      "Shift p-vals:  0.4300000071525574\n",
      "Random Run 0 : Sample 50\n",
      "Shift p-vals:  0.38999998569488525\n",
      "Random Run 0 : Sample 100\n",
      "Shift p-vals:  0.3499999940395355\n",
      "Random Run 0 : Sample 200\n",
      "Shift p-vals:  0.8299999833106995\n",
      "Random Run 0 : Sample 500\n",
      "Shift p-vals:  0.07999999821186066\n",
      "Random Run 0 : Sample 1000\n",
      "Shift p-vals:  0.5099999904632568\n",
      "Random Run 0 : Sample 2000\n",
      "Shift p-vals:  0.8399999737739563\n"
     ]
    },
    {
     "name": "stderr",
     "output_type": "stream",
     "text": [
      "No GPU detected, fall back on CPU.\n",
      "No GPU detected, fall back on CPU.\n",
      "No GPU detected, fall back on CPU.\n",
      "No GPU detected, fall back on CPU.\n",
      "No GPU detected, fall back on CPU.\n",
      "No GPU detected, fall back on CPU.\n",
      "No GPU detected, fall back on CPU.\n",
      "No GPU detected, fall back on CPU.\n"
     ]
    },
    {
     "name": "stdout",
     "output_type": "stream",
     "text": [
      "Random Run 1 : Sample 10\n",
      "Shift p-vals:  0.18000000715255737\n",
      "Random Run 1 : Sample 20\n",
      "Shift p-vals:  0.5299999713897705\n",
      "Random Run 1 : Sample 50\n",
      "Shift p-vals:  0.5600000023841858\n",
      "Random Run 1 : Sample 100\n",
      "Shift p-vals:  0.7900000214576721\n",
      "Random Run 1 : Sample 200\n",
      "Shift p-vals:  0.3499999940395355\n",
      "Random Run 1 : Sample 500\n",
      "Shift p-vals:  0.8700000047683716\n",
      "Random Run 1 : Sample 1000\n",
      "Shift p-vals:  0.5600000023841858\n",
      "Random Run 1 : Sample 2000\n",
      "Shift p-vals:  0.9300000071525574\n"
     ]
    },
    {
     "name": "stderr",
     "output_type": "stream",
     "text": [
      "No GPU detected, fall back on CPU.\n",
      "No GPU detected, fall back on CPU.\n",
      "No GPU detected, fall back on CPU.\n",
      "No GPU detected, fall back on CPU.\n",
      "No GPU detected, fall back on CPU.\n",
      "No GPU detected, fall back on CPU.\n",
      "No GPU detected, fall back on CPU.\n",
      "No GPU detected, fall back on CPU.\n"
     ]
    },
    {
     "name": "stdout",
     "output_type": "stream",
     "text": [
      "Random Run 2 : Sample 10\n",
      "Shift p-vals:  0.30000001192092896\n",
      "Random Run 2 : Sample 20\n",
      "Shift p-vals:  0.2199999988079071\n",
      "Random Run 2 : Sample 50\n",
      "Shift p-vals:  0.550000011920929\n",
      "Random Run 2 : Sample 100\n",
      "Shift p-vals:  0.8999999761581421\n",
      "Random Run 2 : Sample 200\n",
      "Shift p-vals:  0.7099999785423279\n",
      "Random Run 2 : Sample 500\n",
      "Shift p-vals:  0.7400000095367432\n",
      "Random Run 2 : Sample 1000\n",
      "Shift p-vals:  0.05999999865889549\n",
      "Random Run 2 : Sample 2000\n",
      "Shift p-vals:  0.6499999761581421\n"
     ]
    },
    {
     "name": "stderr",
     "output_type": "stream",
     "text": [
      "No GPU detected, fall back on CPU.\n",
      "No GPU detected, fall back on CPU.\n",
      "No GPU detected, fall back on CPU.\n",
      "No GPU detected, fall back on CPU.\n",
      "No GPU detected, fall back on CPU.\n",
      "No GPU detected, fall back on CPU.\n",
      "No GPU detected, fall back on CPU.\n",
      "No GPU detected, fall back on CPU.\n"
     ]
    },
    {
     "name": "stdout",
     "output_type": "stream",
     "text": [
      "Random Run 3 : Sample 10\n",
      "Shift p-vals:  0.7200000286102295\n",
      "Random Run 3 : Sample 20\n",
      "Shift p-vals:  0.6700000166893005\n",
      "Random Run 3 : Sample 50\n",
      "Shift p-vals:  0.4399999976158142\n",
      "Random Run 3 : Sample 100\n",
      "Shift p-vals:  0.7300000190734863\n",
      "Random Run 3 : Sample 200\n",
      "Shift p-vals:  0.5699999928474426\n",
      "Random Run 3 : Sample 500\n",
      "Shift p-vals:  0.7699999809265137\n",
      "Random Run 3 : Sample 1000\n",
      "Shift p-vals:  0.25999999046325684\n",
      "Random Run 3 : Sample 2000\n",
      "Shift p-vals:  0.18000000715255737\n"
     ]
    },
    {
     "name": "stderr",
     "output_type": "stream",
     "text": [
      "No GPU detected, fall back on CPU.\n",
      "No GPU detected, fall back on CPU.\n",
      "No GPU detected, fall back on CPU.\n",
      "No GPU detected, fall back on CPU.\n",
      "No GPU detected, fall back on CPU.\n",
      "No GPU detected, fall back on CPU.\n",
      "No GPU detected, fall back on CPU.\n",
      "No GPU detected, fall back on CPU.\n"
     ]
    },
    {
     "name": "stdout",
     "output_type": "stream",
     "text": [
      "Random Run 4 : Sample 10\n",
      "Shift p-vals:  0.6600000262260437\n",
      "Random Run 4 : Sample 20\n",
      "Shift p-vals:  0.6899999976158142\n",
      "Random Run 4 : Sample 50\n",
      "Shift p-vals:  0.17000000178813934\n",
      "Random Run 4 : Sample 100\n",
      "Shift p-vals:  0.7099999785423279\n",
      "Random Run 4 : Sample 200\n",
      "Shift p-vals:  0.5799999833106995\n",
      "Random Run 4 : Sample 500\n",
      "Shift p-vals:  0.6299999952316284\n",
      "Random Run 4 : Sample 1000\n",
      "Shift p-vals:  0.25999999046325684\n",
      "Random Run 4 : Sample 2000\n",
      "Shift p-vals:  0.05000000074505806\n",
      "summer | MSH | SRP | LSDD\n",
      "Shift summer\n"
     ]
    },
    {
     "name": "stderr",
     "output_type": "stream",
     "text": [
      "torch.range is deprecated and will be removed in a future release because its behavior is inconsistent with Python's range builtin. Instead, use torch.arange, which produces values in [start, end).\n"
     ]
    },
    {
     "name": "stdout",
     "output_type": "stream",
     "text": [
      "Random Run 0 : Sample 10\n",
      "No GPU detected, fall back on CPU.\n",
      "Shift p-vals:  0.5600000023841858\n",
      "Random Run 0 : Sample 20\n",
      "No GPU detected, fall back on CPU.\n",
      "Shift p-vals:  0.7400000095367432\n",
      "Random Run 0 : Sample 50\n",
      "No GPU detected, fall back on CPU.\n",
      "Shift p-vals:  0.9300000071525574\n",
      "Random Run 0 : Sample 100\n",
      "No GPU detected, fall back on CPU.\n",
      "Shift p-vals:  0.7799999713897705\n",
      "Random Run 0 : Sample 200\n",
      "No GPU detected, fall back on CPU.\n",
      "Shift p-vals:  0.44999998807907104\n",
      "Random Run 0 : Sample 500\n",
      "No GPU detected, fall back on CPU.\n",
      "Shift p-vals:  0.07000000029802322\n",
      "Random Run 0 : Sample 1000\n",
      "No GPU detected, fall back on CPU.\n",
      "Shift p-vals:  0.8199999928474426\n",
      "Random Run 0 : Sample 2000\n",
      "No GPU detected, fall back on CPU.\n",
      "Shift p-vals:  1.0\n",
      "Random Run 1 : Sample 10\n",
      "No GPU detected, fall back on CPU.\n",
      "Shift p-vals:  0.699999988079071\n",
      "Random Run 1 : Sample 20\n",
      "No GPU detected, fall back on CPU.\n",
      "Shift p-vals:  1.0\n",
      "Random Run 1 : Sample 50\n",
      "No GPU detected, fall back on CPU.\n",
      "Shift p-vals:  0.3499999940395355\n",
      "Random Run 1 : Sample 100\n",
      "No GPU detected, fall back on CPU.\n",
      "Shift p-vals:  0.6700000166893005\n",
      "Random Run 1 : Sample 200\n",
      "No GPU detected, fall back on CPU.\n",
      "Shift p-vals:  0.5299999713897705\n",
      "Random Run 1 : Sample 500\n",
      "No GPU detected, fall back on CPU.\n",
      "Shift p-vals:  0.3400000035762787\n",
      "Random Run 1 : Sample 1000\n",
      "No GPU detected, fall back on CPU.\n",
      "Shift p-vals:  0.09000000357627869\n",
      "Random Run 1 : Sample 2000\n",
      "No GPU detected, fall back on CPU.\n",
      "Shift p-vals:  0.8700000047683716\n",
      "Random Run 2 : Sample 10\n",
      "No GPU detected, fall back on CPU.\n",
      "Shift p-vals:  0.7099999785423279\n",
      "Random Run 2 : Sample 20\n",
      "No GPU detected, fall back on CPU.\n",
      "Shift p-vals:  0.2199999988079071\n",
      "Random Run 2 : Sample 50\n",
      "No GPU detected, fall back on CPU.\n",
      "Shift p-vals:  0.9700000286102295\n",
      "Random Run 2 : Sample 100\n",
      "No GPU detected, fall back on CPU.\n",
      "Shift p-vals:  0.20999999344348907\n",
      "Random Run 2 : Sample 200\n",
      "No GPU detected, fall back on CPU.\n",
      "Shift p-vals:  0.44999998807907104\n",
      "Random Run 2 : Sample 500\n",
      "No GPU detected, fall back on CPU.\n",
      "Shift p-vals:  0.6000000238418579\n",
      "Random Run 2 : Sample 1000\n",
      "No GPU detected, fall back on CPU.\n",
      "Shift p-vals:  0.25999999046325684\n",
      "Random Run 2 : Sample 2000\n",
      "No GPU detected, fall back on CPU.\n",
      "Shift p-vals:  0.5799999833106995\n",
      "Random Run 3 : Sample 10\n",
      "No GPU detected, fall back on CPU.\n",
      "Shift p-vals:  0.6299999952316284\n",
      "Random Run 3 : Sample 20\n",
      "No GPU detected, fall back on CPU.\n",
      "Shift p-vals:  0.4399999976158142\n",
      "Random Run 3 : Sample 50\n",
      "No GPU detected, fall back on CPU.\n",
      "Shift p-vals:  0.9399999976158142\n",
      "Random Run 3 : Sample 100\n",
      "No GPU detected, fall back on CPU.\n",
      "Shift p-vals:  0.949999988079071\n",
      "Random Run 3 : Sample 200\n",
      "No GPU detected, fall back on CPU.\n",
      "Shift p-vals:  0.28999999165534973\n",
      "Random Run 3 : Sample 500\n",
      "No GPU detected, fall back on CPU.\n",
      "Shift p-vals:  0.3499999940395355\n",
      "Random Run 3 : Sample 1000\n",
      "No GPU detected, fall back on CPU.\n",
      "Shift p-vals:  0.6899999976158142\n",
      "Random Run 3 : Sample 2000\n",
      "No GPU detected, fall back on CPU.\n",
      "Shift p-vals:  0.20000000298023224\n",
      "Random Run 4 : Sample 10\n",
      "No GPU detected, fall back on CPU.\n",
      "Shift p-vals:  0.9700000286102295\n",
      "Random Run 4 : Sample 20\n",
      "No GPU detected, fall back on CPU.\n",
      "Shift p-vals:  0.07000000029802322\n",
      "Random Run 4 : Sample 50\n",
      "No GPU detected, fall back on CPU.\n",
      "Shift p-vals:  0.25999999046325684\n",
      "Random Run 4 : Sample 100\n",
      "No GPU detected, fall back on CPU.\n",
      "Shift p-vals:  0.28999999165534973\n",
      "Random Run 4 : Sample 200\n",
      "No GPU detected, fall back on CPU.\n",
      "Shift p-vals:  0.6499999761581421\n",
      "Random Run 4 : Sample 500\n",
      "No GPU detected, fall back on CPU.\n",
      "Shift p-vals:  0.28999999165534973\n",
      "Random Run 4 : Sample 1000\n",
      "No GPU detected, fall back on CPU.\n",
      "Shift p-vals:  0.8999999761581421\n",
      "Random Run 4 : Sample 2000\n",
      "No GPU detected, fall back on CPU.\n",
      "Shift p-vals:  0.7900000214576721\n",
      "summer | MSH | PCA | MMD\n",
      "Shift summer\n"
     ]
    },
    {
     "name": "stderr",
     "output_type": "stream",
     "text": [
      "torch.range is deprecated and will be removed in a future release because its behavior is inconsistent with Python's range builtin. Instead, use torch.arange, which produces values in [start, end).\n"
     ]
    },
    {
     "name": "stdout",
     "output_type": "stream",
     "text": [
      "Random Run 0 : Sample 10\n",
      "No GPU detected, fall back on CPU.\n",
      "Shift p-vals:  0.550000011920929\n",
      "Random Run 0 : Sample 20\n",
      "No GPU detected, fall back on CPU.\n",
      "Shift p-vals:  0.75\n",
      "Random Run 0 : Sample 50\n",
      "No GPU detected, fall back on CPU.\n",
      "Shift p-vals:  0.8700000047683716\n",
      "Random Run 0 : Sample 100\n",
      "No GPU detected, fall back on CPU.\n",
      "Shift p-vals:  0.7799999713897705\n",
      "Random Run 0 : Sample 200\n",
      "No GPU detected, fall back on CPU.\n",
      "Shift p-vals:  0.8700000047683716\n",
      "Random Run 0 : Sample 500\n",
      "No GPU detected, fall back on CPU.\n",
      "Shift p-vals:  0.75\n",
      "Random Run 0 : Sample 1000\n",
      "No GPU detected, fall back on CPU.\n",
      "Shift p-vals:  0.8500000238418579\n",
      "Random Run 0 : Sample 2000\n",
      "No GPU detected, fall back on CPU.\n",
      "Shift p-vals:  0.8799999952316284\n",
      "Random Run 1 : Sample 10\n",
      "No GPU detected, fall back on CPU.\n",
      "Shift p-vals:  0.44999998807907104\n",
      "Random Run 1 : Sample 20\n",
      "No GPU detected, fall back on CPU.\n",
      "Shift p-vals:  0.3199999928474426\n",
      "Random Run 1 : Sample 50\n",
      "No GPU detected, fall back on CPU.\n",
      "Shift p-vals:  0.18000000715255737\n",
      "Random Run 1 : Sample 100\n",
      "No GPU detected, fall back on CPU.\n",
      "Shift p-vals:  0.2800000011920929\n",
      "Random Run 1 : Sample 200\n",
      "No GPU detected, fall back on CPU.\n",
      "Shift p-vals:  0.30000001192092896\n",
      "Random Run 1 : Sample 500\n",
      "No GPU detected, fall back on CPU.\n",
      "Shift p-vals:  0.23999999463558197\n",
      "Random Run 1 : Sample 1000\n",
      "No GPU detected, fall back on CPU.\n",
      "Shift p-vals:  0.3199999928474426\n",
      "Random Run 1 : Sample 2000\n",
      "No GPU detected, fall back on CPU.\n",
      "Shift p-vals:  0.25999999046325684\n",
      "Random Run 2 : Sample 10\n",
      "No GPU detected, fall back on CPU.\n",
      "Shift p-vals:  0.7699999809265137\n",
      "Random Run 2 : Sample 20\n",
      "No GPU detected, fall back on CPU.\n",
      "Shift p-vals:  0.5899999737739563\n",
      "Random Run 2 : Sample 50\n",
      "No GPU detected, fall back on CPU.\n",
      "Shift p-vals:  0.4399999976158142\n",
      "Random Run 2 : Sample 100\n",
      "No GPU detected, fall back on CPU.\n",
      "Shift p-vals:  0.5600000023841858\n",
      "Random Run 2 : Sample 200\n",
      "No GPU detected, fall back on CPU.\n",
      "Shift p-vals:  0.5400000214576721\n",
      "Random Run 2 : Sample 500\n",
      "No GPU detected, fall back on CPU.\n",
      "Shift p-vals:  0.5099999904632568\n",
      "Random Run 2 : Sample 1000\n",
      "No GPU detected, fall back on CPU.\n",
      "Shift p-vals:  0.5799999833106995\n",
      "Random Run 2 : Sample 2000\n",
      "No GPU detected, fall back on CPU.\n",
      "Shift p-vals:  0.44999998807907104\n",
      "Random Run 3 : Sample 10\n",
      "No GPU detected, fall back on CPU.\n",
      "Shift p-vals:  0.44999998807907104\n",
      "Random Run 3 : Sample 20\n",
      "No GPU detected, fall back on CPU.\n",
      "Shift p-vals:  0.17000000178813934\n",
      "Random Run 3 : Sample 50\n",
      "No GPU detected, fall back on CPU.\n",
      "Shift p-vals:  0.10000000149011612\n",
      "Random Run 3 : Sample 100\n",
      "No GPU detected, fall back on CPU.\n",
      "Shift p-vals:  0.10999999940395355\n",
      "Random Run 3 : Sample 200\n",
      "No GPU detected, fall back on CPU.\n",
      "Shift p-vals:  0.12999999523162842\n",
      "Random Run 3 : Sample 500\n",
      "No GPU detected, fall back on CPU.\n",
      "Shift p-vals:  0.10999999940395355\n",
      "Random Run 3 : Sample 1000\n",
      "No GPU detected, fall back on CPU.\n",
      "Shift p-vals:  0.09000000357627869\n",
      "Random Run 3 : Sample 2000\n",
      "No GPU detected, fall back on CPU.\n",
      "Shift p-vals:  0.15000000596046448\n",
      "Random Run 4 : Sample 10\n",
      "No GPU detected, fall back on CPU.\n",
      "Shift p-vals:  0.6299999952316284\n",
      "Random Run 4 : Sample 20\n",
      "No GPU detected, fall back on CPU.\n",
      "Shift p-vals:  0.3100000023841858\n",
      "Random Run 4 : Sample 50\n",
      "No GPU detected, fall back on CPU.\n",
      "Shift p-vals:  0.3700000047683716\n",
      "Random Run 4 : Sample 100\n",
      "No GPU detected, fall back on CPU.\n",
      "Shift p-vals:  0.23999999463558197\n",
      "Random Run 4 : Sample 200\n",
      "No GPU detected, fall back on CPU.\n",
      "Shift p-vals:  0.3700000047683716\n",
      "Random Run 4 : Sample 500\n",
      "No GPU detected, fall back on CPU.\n",
      "Shift p-vals:  0.3199999928474426\n",
      "Random Run 4 : Sample 1000\n",
      "No GPU detected, fall back on CPU.\n",
      "Shift p-vals:  0.33000001311302185\n",
      "Random Run 4 : Sample 2000\n",
      "No GPU detected, fall back on CPU.\n",
      "Shift p-vals:  0.27000001072883606\n",
      "summer | MSH | PCA | LK\n",
      "Shift summer\n"
     ]
    },
    {
     "name": "stderr",
     "output_type": "stream",
     "text": [
      "torch.range is deprecated and will be removed in a future release because its behavior is inconsistent with Python's range builtin. Instead, use torch.arange, which produces values in [start, end).\n",
      "No GPU detected, fall back on CPU.\n",
      "No GPU detected, fall back on CPU.\n",
      "No GPU detected, fall back on CPU.\n",
      "No GPU detected, fall back on CPU.\n",
      "No GPU detected, fall back on CPU.\n",
      "No GPU detected, fall back on CPU.\n",
      "No GPU detected, fall back on CPU.\n",
      "No GPU detected, fall back on CPU.\n"
     ]
    },
    {
     "name": "stdout",
     "output_type": "stream",
     "text": [
      "Random Run 0 : Sample 10\n",
      "Shift p-vals:  0.9200000166893005\n",
      "Random Run 0 : Sample 20\n",
      "Shift p-vals:  0.8700000047683716\n",
      "Random Run 0 : Sample 50\n",
      "Shift p-vals:  0.23000000417232513\n",
      "Random Run 0 : Sample 100\n",
      "Shift p-vals:  0.7599999904632568\n",
      "Random Run 0 : Sample 200\n",
      "Shift p-vals:  0.10000000149011612\n",
      "Random Run 0 : Sample 500\n",
      "Shift p-vals:  0.17000000178813934\n",
      "Random Run 0 : Sample 1000\n",
      "Shift p-vals:  0.4300000071525574\n",
      "Random Run 0 : Sample 2000\n",
      "Shift p-vals:  0.3400000035762787\n"
     ]
    },
    {
     "name": "stderr",
     "output_type": "stream",
     "text": [
      "No GPU detected, fall back on CPU.\n",
      "No GPU detected, fall back on CPU.\n",
      "No GPU detected, fall back on CPU.\n",
      "No GPU detected, fall back on CPU.\n",
      "No GPU detected, fall back on CPU.\n",
      "No GPU detected, fall back on CPU.\n",
      "No GPU detected, fall back on CPU.\n",
      "No GPU detected, fall back on CPU.\n"
     ]
    },
    {
     "name": "stdout",
     "output_type": "stream",
     "text": [
      "Random Run 1 : Sample 10\n",
      "Shift p-vals:  0.1899999976158142\n",
      "Random Run 1 : Sample 20\n",
      "Shift p-vals:  0.800000011920929\n",
      "Random Run 1 : Sample 50\n",
      "Shift p-vals:  0.07000000029802322\n",
      "Random Run 1 : Sample 100\n",
      "Shift p-vals:  0.25\n",
      "Random Run 1 : Sample 200\n",
      "Shift p-vals:  0.2800000011920929\n",
      "Random Run 1 : Sample 500\n",
      "Shift p-vals:  0.20000000298023224\n",
      "Random Run 1 : Sample 1000\n",
      "Shift p-vals:  0.7200000286102295\n",
      "Random Run 1 : Sample 2000\n",
      "Shift p-vals:  0.46000000834465027\n"
     ]
    },
    {
     "name": "stderr",
     "output_type": "stream",
     "text": [
      "No GPU detected, fall back on CPU.\n",
      "No GPU detected, fall back on CPU.\n",
      "No GPU detected, fall back on CPU.\n",
      "No GPU detected, fall back on CPU.\n",
      "No GPU detected, fall back on CPU.\n",
      "No GPU detected, fall back on CPU.\n",
      "No GPU detected, fall back on CPU.\n",
      "No GPU detected, fall back on CPU.\n"
     ]
    },
    {
     "name": "stdout",
     "output_type": "stream",
     "text": [
      "Random Run 2 : Sample 10\n",
      "Shift p-vals:  0.5299999713897705\n",
      "Random Run 2 : Sample 20\n",
      "Shift p-vals:  1.0\n",
      "Random Run 2 : Sample 50\n",
      "Shift p-vals:  0.09000000357627869\n",
      "Random Run 2 : Sample 100\n",
      "Shift p-vals:  0.1899999976158142\n",
      "Random Run 2 : Sample 200\n",
      "Shift p-vals:  0.4300000071525574\n",
      "Random Run 2 : Sample 500\n",
      "Shift p-vals:  0.4300000071525574\n",
      "Random Run 2 : Sample 1000\n",
      "Shift p-vals:  0.5600000023841858\n",
      "Random Run 2 : Sample 2000\n",
      "Shift p-vals:  0.3199999928474426\n"
     ]
    },
    {
     "name": "stderr",
     "output_type": "stream",
     "text": [
      "No GPU detected, fall back on CPU.\n",
      "No GPU detected, fall back on CPU.\n",
      "No GPU detected, fall back on CPU.\n",
      "No GPU detected, fall back on CPU.\n",
      "No GPU detected, fall back on CPU.\n",
      "No GPU detected, fall back on CPU.\n",
      "No GPU detected, fall back on CPU.\n",
      "No GPU detected, fall back on CPU.\n"
     ]
    },
    {
     "name": "stdout",
     "output_type": "stream",
     "text": [
      "Random Run 3 : Sample 10\n",
      "Shift p-vals:  0.07000000029802322\n",
      "Random Run 3 : Sample 20\n",
      "Shift p-vals:  0.11999999731779099\n",
      "Random Run 3 : Sample 50\n",
      "Shift p-vals:  0.6899999976158142\n",
      "Random Run 3 : Sample 100\n",
      "Shift p-vals:  0.8799999952316284\n",
      "Random Run 3 : Sample 200\n",
      "Shift p-vals:  0.4000000059604645\n",
      "Random Run 3 : Sample 500\n",
      "Shift p-vals:  0.9200000166893005\n",
      "Random Run 3 : Sample 1000\n",
      "Shift p-vals:  0.10999999940395355\n",
      "Random Run 3 : Sample 2000\n",
      "Shift p-vals:  0.3799999952316284\n"
     ]
    },
    {
     "name": "stderr",
     "output_type": "stream",
     "text": [
      "No GPU detected, fall back on CPU.\n",
      "No GPU detected, fall back on CPU.\n",
      "No GPU detected, fall back on CPU.\n",
      "No GPU detected, fall back on CPU.\n",
      "No GPU detected, fall back on CPU.\n",
      "No GPU detected, fall back on CPU.\n",
      "No GPU detected, fall back on CPU.\n",
      "No GPU detected, fall back on CPU.\n"
     ]
    },
    {
     "name": "stdout",
     "output_type": "stream",
     "text": [
      "Random Run 4 : Sample 10\n",
      "Shift p-vals:  0.550000011920929\n",
      "Random Run 4 : Sample 20\n",
      "Shift p-vals:  0.8899999856948853\n",
      "Random Run 4 : Sample 50\n",
      "Shift p-vals:  0.0\n",
      "Random Run 4 : Sample 100\n",
      "Shift p-vals:  0.800000011920929\n",
      "Random Run 4 : Sample 200\n",
      "Shift p-vals:  0.6800000071525574\n",
      "Random Run 4 : Sample 500\n",
      "Shift p-vals:  0.15000000596046448\n",
      "Random Run 4 : Sample 1000\n",
      "Shift p-vals:  0.07999999821186066\n",
      "Random Run 4 : Sample 2000\n",
      "Shift p-vals:  0.6600000262260437\n",
      "summer | MSH | PCA | LSDD\n",
      "Shift summer\n"
     ]
    },
    {
     "name": "stderr",
     "output_type": "stream",
     "text": [
      "torch.range is deprecated and will be removed in a future release because its behavior is inconsistent with Python's range builtin. Instead, use torch.arange, which produces values in [start, end).\n"
     ]
    },
    {
     "name": "stdout",
     "output_type": "stream",
     "text": [
      "Random Run 0 : Sample 10\n",
      "No GPU detected, fall back on CPU.\n",
      "Shift p-vals:  0.6499999761581421\n",
      "Random Run 0 : Sample 20\n",
      "No GPU detected, fall back on CPU.\n",
      "Shift p-vals:  0.8100000023841858\n",
      "Random Run 0 : Sample 50\n",
      "No GPU detected, fall back on CPU.\n",
      "Shift p-vals:  0.8600000143051147\n",
      "Random Run 0 : Sample 100\n",
      "No GPU detected, fall back on CPU.\n",
      "Shift p-vals:  0.6200000047683716\n",
      "Random Run 0 : Sample 200\n",
      "No GPU detected, fall back on CPU.\n",
      "Shift p-vals:  0.7099999785423279\n",
      "Random Run 0 : Sample 500\n",
      "No GPU detected, fall back on CPU.\n",
      "Shift p-vals:  0.5799999833106995\n",
      "Random Run 0 : Sample 1000\n",
      "No GPU detected, fall back on CPU.\n",
      "Shift p-vals:  0.36000001430511475\n",
      "Random Run 0 : Sample 2000\n",
      "No GPU detected, fall back on CPU.\n",
      "Shift p-vals:  0.9300000071525574\n",
      "Random Run 1 : Sample 10\n",
      "No GPU detected, fall back on CPU.\n",
      "Shift p-vals:  0.44999998807907104\n",
      "Random Run 1 : Sample 20\n",
      "No GPU detected, fall back on CPU.\n",
      "Shift p-vals:  0.47999998927116394\n",
      "Random Run 1 : Sample 50\n",
      "No GPU detected, fall back on CPU.\n",
      "Shift p-vals:  0.28999999165534973\n",
      "Random Run 1 : Sample 100\n",
      "No GPU detected, fall back on CPU.\n",
      "Shift p-vals:  0.47999998927116394\n",
      "Random Run 1 : Sample 200\n",
      "No GPU detected, fall back on CPU.\n",
      "Shift p-vals:  0.36000001430511475\n",
      "Random Run 1 : Sample 500\n",
      "No GPU detected, fall back on CPU.\n",
      "Shift p-vals:  0.5799999833106995\n",
      "Random Run 1 : Sample 1000\n",
      "No GPU detected, fall back on CPU.\n",
      "Shift p-vals:  0.5299999713897705\n",
      "Random Run 1 : Sample 2000\n",
      "No GPU detected, fall back on CPU.\n",
      "Shift p-vals:  0.6499999761581421\n",
      "Random Run 2 : Sample 10\n",
      "No GPU detected, fall back on CPU.\n",
      "Shift p-vals:  0.5699999928474426\n",
      "Random Run 2 : Sample 20\n",
      "No GPU detected, fall back on CPU.\n",
      "Shift p-vals:  0.28999999165534973\n",
      "Random Run 2 : Sample 50\n",
      "No GPU detected, fall back on CPU.\n",
      "Shift p-vals:  0.8799999952316284\n",
      "Random Run 2 : Sample 100\n",
      "No GPU detected, fall back on CPU.\n",
      "Shift p-vals:  0.23000000417232513\n",
      "Random Run 2 : Sample 200\n",
      "No GPU detected, fall back on CPU.\n",
      "Shift p-vals:  0.9100000262260437\n",
      "Random Run 2 : Sample 500\n",
      "No GPU detected, fall back on CPU.\n",
      "Shift p-vals:  0.6200000047683716\n",
      "Random Run 2 : Sample 1000\n",
      "No GPU detected, fall back on CPU.\n",
      "Shift p-vals:  0.7099999785423279\n",
      "Random Run 2 : Sample 2000\n",
      "No GPU detected, fall back on CPU.\n",
      "Shift p-vals:  0.27000001072883606\n",
      "Random Run 3 : Sample 10\n",
      "No GPU detected, fall back on CPU.\n",
      "Shift p-vals:  0.5400000214576721\n",
      "Random Run 3 : Sample 20\n",
      "No GPU detected, fall back on CPU.\n",
      "Shift p-vals:  0.1599999964237213\n",
      "Random Run 3 : Sample 50\n",
      "No GPU detected, fall back on CPU.\n",
      "Shift p-vals:  0.2199999988079071\n",
      "Random Run 3 : Sample 100\n",
      "No GPU detected, fall back on CPU.\n",
      "Shift p-vals:  0.15000000596046448\n",
      "Random Run 3 : Sample 200\n",
      "No GPU detected, fall back on CPU.\n",
      "Shift p-vals:  0.41999998688697815\n",
      "Random Run 3 : Sample 500\n",
      "No GPU detected, fall back on CPU.\n",
      "Shift p-vals:  0.6399999856948853\n",
      "Random Run 3 : Sample 1000\n",
      "No GPU detected, fall back on CPU.\n",
      "Shift p-vals:  0.5699999928474426\n",
      "Random Run 3 : Sample 2000\n",
      "No GPU detected, fall back on CPU.\n",
      "Shift p-vals:  0.09000000357627869\n",
      "Random Run 4 : Sample 10\n",
      "No GPU detected, fall back on CPU.\n",
      "Shift p-vals:  0.9399999976158142\n",
      "Random Run 4 : Sample 20\n",
      "No GPU detected, fall back on CPU.\n",
      "Shift p-vals:  0.5799999833106995\n",
      "Random Run 4 : Sample 50\n",
      "No GPU detected, fall back on CPU.\n",
      "Shift p-vals:  0.9900000095367432\n",
      "Random Run 4 : Sample 100\n",
      "No GPU detected, fall back on CPU.\n",
      "Shift p-vals:  0.05999999865889549\n",
      "Random Run 4 : Sample 200\n",
      "No GPU detected, fall back on CPU.\n",
      "Shift p-vals:  0.2199999988079071\n",
      "Random Run 4 : Sample 500\n",
      "No GPU detected, fall back on CPU.\n",
      "Shift p-vals:  0.8100000023841858\n",
      "Random Run 4 : Sample 1000\n",
      "No GPU detected, fall back on CPU.\n",
      "Shift p-vals:  1.0\n",
      "Random Run 4 : Sample 2000\n",
      "No GPU detected, fall back on CPU.\n",
      "Shift p-vals:  1.0\n",
      "summer | MSH | BBSDs_FFNN | MMD\n",
      "Shift summer\n"
     ]
    },
    {
     "name": "stderr",
     "output_type": "stream",
     "text": [
      "torch.range is deprecated and will be removed in a future release because its behavior is inconsistent with Python's range builtin. Instead, use torch.arange, which produces values in [start, end).\n"
     ]
    },
    {
     "name": "stdout",
     "output_type": "stream",
     "text": [
      "Random Run 0 : Sample 10\n",
      "No GPU detected, fall back on CPU.\n",
      "Shift p-vals:  0.8399999737739563\n",
      "Random Run 0 : Sample 20\n",
      "No GPU detected, fall back on CPU.\n",
      "Shift p-vals:  0.5400000214576721\n",
      "Random Run 0 : Sample 50\n",
      "No GPU detected, fall back on CPU.\n",
      "Shift p-vals:  0.8799999952316284\n",
      "Random Run 0 : Sample 100\n",
      "No GPU detected, fall back on CPU.\n",
      "Shift p-vals:  0.8999999761581421\n",
      "Random Run 0 : Sample 200\n",
      "No GPU detected, fall back on CPU.\n",
      "Shift p-vals:  0.9200000166893005\n",
      "Random Run 0 : Sample 500\n",
      "No GPU detected, fall back on CPU.\n",
      "Shift p-vals:  0.44999998807907104\n",
      "Random Run 0 : Sample 1000\n",
      "No GPU detected, fall back on CPU.\n",
      "Shift p-vals:  0.5600000023841858\n",
      "Random Run 0 : Sample 2000\n",
      "No GPU detected, fall back on CPU.\n",
      "Shift p-vals:  0.3400000035762787\n",
      "Random Run 1 : Sample 10\n",
      "No GPU detected, fall back on CPU.\n",
      "Shift p-vals:  0.4000000059604645\n",
      "Random Run 1 : Sample 20\n",
      "No GPU detected, fall back on CPU.\n",
      "Shift p-vals:  0.17000000178813934\n",
      "Random Run 1 : Sample 50\n",
      "No GPU detected, fall back on CPU.\n",
      "Shift p-vals:  0.8399999737739563\n",
      "Random Run 1 : Sample 100\n",
      "No GPU detected, fall back on CPU.\n",
      "Shift p-vals:  0.6800000071525574\n",
      "Random Run 1 : Sample 200\n",
      "No GPU detected, fall back on CPU.\n",
      "Shift p-vals:  0.6399999856948853\n",
      "Random Run 1 : Sample 500\n",
      "No GPU detected, fall back on CPU.\n",
      "Shift p-vals:  0.949999988079071\n",
      "Random Run 1 : Sample 1000\n",
      "No GPU detected, fall back on CPU.\n",
      "Shift p-vals:  0.6100000143051147\n",
      "Random Run 1 : Sample 2000\n",
      "No GPU detected, fall back on CPU.\n",
      "Shift p-vals:  0.7300000190734863\n",
      "Random Run 2 : Sample 10\n",
      "No GPU detected, fall back on CPU.\n",
      "Shift p-vals:  0.7799999713897705\n",
      "Random Run 2 : Sample 20\n",
      "No GPU detected, fall back on CPU.\n",
      "Shift p-vals:  0.75\n",
      "Random Run 2 : Sample 50\n",
      "No GPU detected, fall back on CPU.\n",
      "Shift p-vals:  0.9900000095367432\n",
      "Random Run 2 : Sample 100\n",
      "No GPU detected, fall back on CPU.\n",
      "Shift p-vals:  0.8799999952316284\n",
      "Random Run 2 : Sample 200\n",
      "No GPU detected, fall back on CPU.\n",
      "Shift p-vals:  0.07999999821186066\n",
      "Random Run 2 : Sample 500\n",
      "No GPU detected, fall back on CPU.\n",
      "Shift p-vals:  0.800000011920929\n",
      "Random Run 2 : Sample 1000\n",
      "No GPU detected, fall back on CPU.\n",
      "Shift p-vals:  0.9900000095367432\n",
      "Random Run 2 : Sample 2000\n",
      "No GPU detected, fall back on CPU.\n",
      "Shift p-vals:  0.23999999463558197\n",
      "Random Run 3 : Sample 10\n",
      "No GPU detected, fall back on CPU.\n",
      "Shift p-vals:  0.8299999833106995\n",
      "Random Run 3 : Sample 20\n",
      "No GPU detected, fall back on CPU.\n",
      "Shift p-vals:  0.07000000029802322\n",
      "Random Run 3 : Sample 50\n",
      "No GPU detected, fall back on CPU.\n",
      "Shift p-vals:  0.23999999463558197\n",
      "Random Run 3 : Sample 100\n",
      "No GPU detected, fall back on CPU.\n",
      "Shift p-vals:  0.8399999737739563\n",
      "Random Run 3 : Sample 200\n",
      "No GPU detected, fall back on CPU.\n",
      "Shift p-vals:  0.10999999940395355\n",
      "Random Run 3 : Sample 500\n",
      "No GPU detected, fall back on CPU.\n",
      "Shift p-vals:  0.029999999329447746\n",
      "Random Run 3 : Sample 1000\n",
      "No GPU detected, fall back on CPU.\n",
      "Shift p-vals:  0.3799999952316284\n",
      "Random Run 3 : Sample 2000\n",
      "No GPU detected, fall back on CPU.\n",
      "Shift p-vals:  0.15000000596046448\n",
      "Random Run 4 : Sample 10\n",
      "No GPU detected, fall back on CPU.\n",
      "Shift p-vals:  0.25999999046325684\n",
      "Random Run 4 : Sample 20\n",
      "No GPU detected, fall back on CPU.\n",
      "Shift p-vals:  0.3700000047683716\n",
      "Random Run 4 : Sample 50\n",
      "No GPU detected, fall back on CPU.\n",
      "Shift p-vals:  0.6899999976158142\n",
      "Random Run 4 : Sample 100\n",
      "No GPU detected, fall back on CPU.\n",
      "Shift p-vals:  0.7900000214576721\n",
      "Random Run 4 : Sample 200\n",
      "No GPU detected, fall back on CPU.\n",
      "Shift p-vals:  0.11999999731779099\n",
      "Random Run 4 : Sample 500\n",
      "No GPU detected, fall back on CPU.\n",
      "Shift p-vals:  0.38999998569488525\n",
      "Random Run 4 : Sample 1000\n",
      "No GPU detected, fall back on CPU.\n",
      "Shift p-vals:  0.6499999761581421\n",
      "Random Run 4 : Sample 2000\n",
      "No GPU detected, fall back on CPU.\n",
      "Shift p-vals:  0.25\n",
      "summer | MSH | BBSDs_FFNN | LK\n",
      "Shift summer\n"
     ]
    },
    {
     "name": "stderr",
     "output_type": "stream",
     "text": [
      "torch.range is deprecated and will be removed in a future release because its behavior is inconsistent with Python's range builtin. Instead, use torch.arange, which produces values in [start, end).\n",
      "No GPU detected, fall back on CPU.\n",
      "No GPU detected, fall back on CPU.\n",
      "No GPU detected, fall back on CPU.\n",
      "No GPU detected, fall back on CPU.\n",
      "No GPU detected, fall back on CPU.\n",
      "No GPU detected, fall back on CPU.\n",
      "No GPU detected, fall back on CPU.\n",
      "No GPU detected, fall back on CPU.\n"
     ]
    },
    {
     "name": "stdout",
     "output_type": "stream",
     "text": [
      "Random Run 0 : Sample 10\n",
      "Shift p-vals:  0.4000000059604645\n",
      "Random Run 0 : Sample 20\n",
      "Shift p-vals:  0.949999988079071\n",
      "Random Run 0 : Sample 50\n",
      "Shift p-vals:  0.7200000286102295\n",
      "Random Run 0 : Sample 100\n",
      "Shift p-vals:  0.6499999761581421\n",
      "Random Run 0 : Sample 200\n",
      "Shift p-vals:  0.8899999856948853\n",
      "Random Run 0 : Sample 500\n",
      "Shift p-vals:  0.800000011920929\n",
      "Random Run 0 : Sample 1000\n",
      "Shift p-vals:  0.800000011920929\n",
      "Random Run 0 : Sample 2000\n",
      "Shift p-vals:  0.28999999165534973\n"
     ]
    },
    {
     "name": "stderr",
     "output_type": "stream",
     "text": [
      "No GPU detected, fall back on CPU.\n",
      "No GPU detected, fall back on CPU.\n",
      "No GPU detected, fall back on CPU.\n",
      "No GPU detected, fall back on CPU.\n",
      "No GPU detected, fall back on CPU.\n",
      "No GPU detected, fall back on CPU.\n",
      "No GPU detected, fall back on CPU.\n",
      "No GPU detected, fall back on CPU.\n"
     ]
    },
    {
     "name": "stdout",
     "output_type": "stream",
     "text": [
      "Random Run 1 : Sample 10\n",
      "Shift p-vals:  1.0\n",
      "Random Run 1 : Sample 20\n",
      "Shift p-vals:  0.0\n",
      "Random Run 1 : Sample 50\n",
      "Shift p-vals:  0.8100000023841858\n",
      "Random Run 1 : Sample 100\n",
      "Shift p-vals:  0.7200000286102295\n",
      "Random Run 1 : Sample 200\n",
      "Shift p-vals:  0.8399999737739563\n",
      "Random Run 1 : Sample 500\n",
      "Shift p-vals:  0.3700000047683716\n",
      "Random Run 1 : Sample 1000\n",
      "Shift p-vals:  0.4000000059604645\n",
      "Random Run 1 : Sample 2000\n",
      "Shift p-vals:  0.6499999761581421\n"
     ]
    },
    {
     "name": "stderr",
     "output_type": "stream",
     "text": [
      "No GPU detected, fall back on CPU.\n",
      "No GPU detected, fall back on CPU.\n",
      "No GPU detected, fall back on CPU.\n",
      "No GPU detected, fall back on CPU.\n",
      "No GPU detected, fall back on CPU.\n",
      "No GPU detected, fall back on CPU.\n",
      "No GPU detected, fall back on CPU.\n",
      "No GPU detected, fall back on CPU.\n"
     ]
    },
    {
     "name": "stdout",
     "output_type": "stream",
     "text": [
      "Random Run 2 : Sample 10\n",
      "Shift p-vals:  0.14000000059604645\n",
      "Random Run 2 : Sample 20\n",
      "Shift p-vals:  0.23000000417232513\n",
      "Random Run 2 : Sample 50\n",
      "Shift p-vals:  0.4099999964237213\n",
      "Random Run 2 : Sample 100\n",
      "Shift p-vals:  0.3100000023841858\n",
      "Random Run 2 : Sample 200\n",
      "Shift p-vals:  0.75\n",
      "Random Run 2 : Sample 500\n",
      "Shift p-vals:  0.5\n",
      "Random Run 2 : Sample 1000\n",
      "Shift p-vals:  0.3199999928474426\n",
      "Random Run 2 : Sample 2000\n",
      "Shift p-vals:  0.05000000074505806\n"
     ]
    },
    {
     "name": "stderr",
     "output_type": "stream",
     "text": [
      "No GPU detected, fall back on CPU.\n",
      "No GPU detected, fall back on CPU.\n",
      "No GPU detected, fall back on CPU.\n",
      "No GPU detected, fall back on CPU.\n",
      "No GPU detected, fall back on CPU.\n",
      "No GPU detected, fall back on CPU.\n",
      "No GPU detected, fall back on CPU.\n",
      "No GPU detected, fall back on CPU.\n"
     ]
    },
    {
     "name": "stdout",
     "output_type": "stream",
     "text": [
      "Random Run 3 : Sample 10\n",
      "Shift p-vals:  0.1599999964237213\n",
      "Random Run 3 : Sample 20\n",
      "Shift p-vals:  0.27000001072883606\n",
      "Random Run 3 : Sample 50\n",
      "Shift p-vals:  0.2199999988079071\n",
      "Random Run 3 : Sample 100\n",
      "Shift p-vals:  0.8700000047683716\n",
      "Random Run 3 : Sample 200\n",
      "Shift p-vals:  0.0\n",
      "Random Run 3 : Sample 500\n",
      "Shift p-vals:  0.7099999785423279\n",
      "Random Run 3 : Sample 1000\n",
      "Shift p-vals:  0.6299999952316284\n",
      "Random Run 3 : Sample 2000\n",
      "Shift p-vals:  0.5199999809265137\n"
     ]
    },
    {
     "name": "stderr",
     "output_type": "stream",
     "text": [
      "No GPU detected, fall back on CPU.\n",
      "No GPU detected, fall back on CPU.\n",
      "No GPU detected, fall back on CPU.\n",
      "No GPU detected, fall back on CPU.\n",
      "No GPU detected, fall back on CPU.\n",
      "No GPU detected, fall back on CPU.\n",
      "No GPU detected, fall back on CPU.\n",
      "No GPU detected, fall back on CPU.\n"
     ]
    },
    {
     "name": "stdout",
     "output_type": "stream",
     "text": [
      "Random Run 4 : Sample 10\n",
      "Shift p-vals:  0.7300000190734863\n",
      "Random Run 4 : Sample 20\n",
      "Shift p-vals:  0.6899999976158142\n",
      "Random Run 4 : Sample 50\n",
      "Shift p-vals:  0.41999998688697815\n",
      "Random Run 4 : Sample 100\n",
      "Shift p-vals:  0.20999999344348907\n",
      "Random Run 4 : Sample 200\n",
      "Shift p-vals:  0.9399999976158142\n",
      "Random Run 4 : Sample 500\n",
      "Shift p-vals:  0.3400000035762787\n",
      "Random Run 4 : Sample 1000\n",
      "Shift p-vals:  0.1599999964237213\n",
      "Random Run 4 : Sample 2000\n",
      "Shift p-vals:  0.5199999809265137\n",
      "summer | MSH | BBSDs_FFNN | LSDD\n",
      "Shift summer\n"
     ]
    },
    {
     "name": "stderr",
     "output_type": "stream",
     "text": [
      "torch.range is deprecated and will be removed in a future release because its behavior is inconsistent with Python's range builtin. Instead, use torch.arange, which produces values in [start, end).\n"
     ]
    },
    {
     "name": "stdout",
     "output_type": "stream",
     "text": [
      "Random Run 0 : Sample 10\n",
      "No GPU detected, fall back on CPU.\n",
      "Shift p-vals:  0.6200000047683716\n",
      "Random Run 0 : Sample 20\n",
      "No GPU detected, fall back on CPU.\n",
      "Shift p-vals:  0.4099999964237213\n",
      "Random Run 0 : Sample 50\n",
      "No GPU detected, fall back on CPU.\n",
      "Shift p-vals:  0.9100000262260437\n",
      "Random Run 0 : Sample 100\n",
      "No GPU detected, fall back on CPU.\n",
      "Shift p-vals:  0.7200000286102295\n",
      "Random Run 0 : Sample 200\n",
      "No GPU detected, fall back on CPU.\n",
      "Shift p-vals:  0.6499999761581421\n",
      "Random Run 0 : Sample 500\n",
      "No GPU detected, fall back on CPU.\n",
      "Shift p-vals:  0.44999998807907104\n",
      "Random Run 0 : Sample 1000\n",
      "No GPU detected, fall back on CPU.\n",
      "Shift p-vals:  0.25\n",
      "Random Run 0 : Sample 2000\n",
      "No GPU detected, fall back on CPU.\n",
      "Shift p-vals:  0.09000000357627869\n",
      "Random Run 1 : Sample 10\n",
      "No GPU detected, fall back on CPU.\n",
      "Shift p-vals:  0.009999999776482582\n",
      "Random Run 1 : Sample 20\n",
      "No GPU detected, fall back on CPU.\n",
      "Shift p-vals:  0.23000000417232513\n",
      "Random Run 1 : Sample 50\n",
      "No GPU detected, fall back on CPU.\n",
      "Shift p-vals:  0.05999999865889549\n",
      "Random Run 1 : Sample 100\n",
      "No GPU detected, fall back on CPU.\n",
      "Shift p-vals:  0.5099999904632568\n",
      "Random Run 1 : Sample 200\n",
      "No GPU detected, fall back on CPU.\n",
      "Shift p-vals:  0.12999999523162842\n",
      "Random Run 1 : Sample 500\n",
      "No GPU detected, fall back on CPU.\n",
      "Shift p-vals:  0.20999999344348907\n",
      "Random Run 1 : Sample 1000\n",
      "No GPU detected, fall back on CPU.\n",
      "Shift p-vals:  0.8999999761581421\n",
      "Random Run 1 : Sample 2000\n",
      "No GPU detected, fall back on CPU.\n",
      "Shift p-vals:  0.9300000071525574\n",
      "Random Run 2 : Sample 10\n",
      "No GPU detected, fall back on CPU.\n",
      "Shift p-vals:  0.5299999713897705\n",
      "Random Run 2 : Sample 20\n",
      "No GPU detected, fall back on CPU.\n",
      "Shift p-vals:  0.4300000071525574\n",
      "Random Run 2 : Sample 50\n",
      "No GPU detected, fall back on CPU.\n",
      "Shift p-vals:  0.3100000023841858\n",
      "Random Run 2 : Sample 100\n",
      "No GPU detected, fall back on CPU.\n",
      "Shift p-vals:  0.6000000238418579\n",
      "Random Run 2 : Sample 200\n",
      "No GPU detected, fall back on CPU.\n",
      "Shift p-vals:  0.800000011920929\n",
      "Random Run 2 : Sample 500\n",
      "No GPU detected, fall back on CPU.\n",
      "Shift p-vals:  0.6399999856948853\n",
      "Random Run 2 : Sample 1000\n",
      "No GPU detected, fall back on CPU.\n",
      "Shift p-vals:  0.3100000023841858\n",
      "Random Run 2 : Sample 2000\n",
      "No GPU detected, fall back on CPU.\n",
      "Shift p-vals:  0.17000000178813934\n",
      "Random Run 3 : Sample 10\n",
      "No GPU detected, fall back on CPU.\n",
      "Shift p-vals:  0.3199999928474426\n",
      "Random Run 3 : Sample 20\n",
      "No GPU detected, fall back on CPU.\n",
      "Shift p-vals:  0.8199999928474426\n",
      "Random Run 3 : Sample 50\n",
      "No GPU detected, fall back on CPU.\n",
      "Shift p-vals:  0.5099999904632568\n",
      "Random Run 3 : Sample 100\n",
      "No GPU detected, fall back on CPU.\n",
      "Shift p-vals:  0.029999999329447746\n",
      "Random Run 3 : Sample 200\n",
      "No GPU detected, fall back on CPU.\n",
      "Shift p-vals:  0.07000000029802322\n",
      "Random Run 3 : Sample 500\n",
      "No GPU detected, fall back on CPU.\n",
      "Shift p-vals:  0.4399999976158142\n",
      "Random Run 3 : Sample 1000\n",
      "No GPU detected, fall back on CPU.\n",
      "Shift p-vals:  0.699999988079071\n",
      "Random Run 3 : Sample 2000\n",
      "No GPU detected, fall back on CPU.\n",
      "Shift p-vals:  1.0\n",
      "Random Run 4 : Sample 10\n",
      "No GPU detected, fall back on CPU.\n",
      "Shift p-vals:  0.05999999865889549\n",
      "Random Run 4 : Sample 20\n",
      "No GPU detected, fall back on CPU.\n",
      "Shift p-vals:  0.2800000011920929\n",
      "Random Run 4 : Sample 50\n",
      "No GPU detected, fall back on CPU.\n",
      "Shift p-vals:  0.5400000214576721\n",
      "Random Run 4 : Sample 100\n",
      "No GPU detected, fall back on CPU.\n",
      "Shift p-vals:  0.23999999463558197\n",
      "Random Run 4 : Sample 200\n",
      "No GPU detected, fall back on CPU.\n",
      "Shift p-vals:  0.4300000071525574\n",
      "Random Run 4 : Sample 500\n",
      "No GPU detected, fall back on CPU.\n",
      "Shift p-vals:  0.7200000286102295\n",
      "Random Run 4 : Sample 1000\n",
      "No GPU detected, fall back on CPU.\n",
      "Shift p-vals:  0.8600000143051147\n",
      "Random Run 4 : Sample 2000\n",
      "No GPU detected, fall back on CPU.\n",
      "Shift p-vals:  0.8100000023841858\n",
      "winter | SMH | NoRed | MMD\n",
      "Shift winter\n"
     ]
    },
    {
     "name": "stderr",
     "output_type": "stream",
     "text": [
      "torch.range is deprecated and will be removed in a future release because its behavior is inconsistent with Python's range builtin. Instead, use torch.arange, which produces values in [start, end).\n"
     ]
    },
    {
     "name": "stdout",
     "output_type": "stream",
     "text": [
      "Random Run 0 : Sample 10\n",
      "No GPU detected, fall back on CPU.\n",
      "Shift p-vals:  0.07000000029802322\n",
      "Random Run 0 : Sample 20\n",
      "No GPU detected, fall back on CPU.\n",
      "Shift p-vals:  0.20999999344348907\n",
      "Random Run 0 : Sample 50\n",
      "No GPU detected, fall back on CPU.\n",
      "Shift p-vals:  0.6499999761581421\n",
      "Random Run 0 : Sample 100\n",
      "No GPU detected, fall back on CPU.\n",
      "Shift p-vals:  0.4099999964237213\n",
      "Random Run 0 : Sample 200\n",
      "No GPU detected, fall back on CPU.\n",
      "Shift p-vals:  0.20000000298023224\n",
      "Random Run 0 : Sample 500\n",
      "No GPU detected, fall back on CPU.\n",
      "Shift p-vals:  0.23999999463558197\n",
      "Random Run 0 : Sample 1000\n",
      "No GPU detected, fall back on CPU.\n",
      "Shift p-vals:  0.1899999976158142\n",
      "Random Run 0 : Sample 2000\n",
      "No GPU detected, fall back on CPU.\n",
      "Shift p-vals:  0.15000000596046448\n",
      "Random Run 1 : Sample 10\n",
      "No GPU detected, fall back on CPU.\n",
      "Shift p-vals:  0.25\n",
      "Random Run 1 : Sample 20\n",
      "No GPU detected, fall back on CPU.\n",
      "Shift p-vals:  0.17000000178813934\n",
      "Random Run 1 : Sample 50\n",
      "No GPU detected, fall back on CPU.\n",
      "Shift p-vals:  0.6000000238418579\n",
      "Random Run 1 : Sample 100\n",
      "No GPU detected, fall back on CPU.\n",
      "Shift p-vals:  0.6800000071525574\n",
      "Random Run 1 : Sample 200\n",
      "No GPU detected, fall back on CPU.\n",
      "Shift p-vals:  0.5400000214576721\n",
      "Random Run 1 : Sample 500\n",
      "No GPU detected, fall back on CPU.\n",
      "Shift p-vals:  0.41999998688697815\n",
      "Random Run 1 : Sample 1000\n",
      "No GPU detected, fall back on CPU.\n",
      "Shift p-vals:  0.46000000834465027\n",
      "Random Run 1 : Sample 2000\n",
      "No GPU detected, fall back on CPU.\n",
      "Shift p-vals:  0.5299999713897705\n",
      "Random Run 2 : Sample 10\n",
      "No GPU detected, fall back on CPU.\n",
      "Shift p-vals:  0.009999999776482582\n",
      "Random Run 2 : Sample 20\n",
      "No GPU detected, fall back on CPU.\n",
      "Shift p-vals:  0.10999999940395355\n",
      "Random Run 2 : Sample 50\n",
      "No GPU detected, fall back on CPU.\n",
      "Shift p-vals:  0.7900000214576721\n",
      "Random Run 2 : Sample 100\n",
      "No GPU detected, fall back on CPU.\n",
      "Shift p-vals:  0.8500000238418579\n",
      "Random Run 2 : Sample 200\n",
      "No GPU detected, fall back on CPU.\n",
      "Shift p-vals:  0.6499999761581421\n",
      "Random Run 2 : Sample 500\n",
      "No GPU detected, fall back on CPU.\n",
      "Shift p-vals:  0.6600000262260437\n",
      "Random Run 2 : Sample 1000\n",
      "No GPU detected, fall back on CPU.\n",
      "Shift p-vals:  0.7200000286102295\n",
      "Random Run 2 : Sample 2000\n",
      "No GPU detected, fall back on CPU.\n",
      "Shift p-vals:  0.7400000095367432\n",
      "Random Run 3 : Sample 10\n",
      "No GPU detected, fall back on CPU.\n",
      "Shift p-vals:  0.10000000149011612\n",
      "Random Run 3 : Sample 20\n",
      "No GPU detected, fall back on CPU.\n",
      "Shift p-vals:  0.07999999821186066\n",
      "Random Run 3 : Sample 50\n",
      "No GPU detected, fall back on CPU.\n",
      "Shift p-vals:  0.46000000834465027\n",
      "Random Run 3 : Sample 100\n",
      "No GPU detected, fall back on CPU.\n",
      "Shift p-vals:  0.4699999988079071\n",
      "Random Run 3 : Sample 200\n",
      "No GPU detected, fall back on CPU.\n",
      "Shift p-vals:  0.20999999344348907\n",
      "Random Run 3 : Sample 500\n",
      "No GPU detected, fall back on CPU.\n",
      "Shift p-vals:  0.20999999344348907\n",
      "Random Run 3 : Sample 1000\n",
      "No GPU detected, fall back on CPU.\n",
      "Shift p-vals:  0.25999999046325684\n",
      "Random Run 3 : Sample 2000\n",
      "No GPU detected, fall back on CPU.\n",
      "Shift p-vals:  0.20000000298023224\n",
      "Random Run 4 : Sample 10\n",
      "No GPU detected, fall back on CPU.\n",
      "Shift p-vals:  0.029999999329447746\n",
      "Random Run 4 : Sample 20\n",
      "No GPU detected, fall back on CPU.\n",
      "Shift p-vals:  0.15000000596046448\n",
      "Random Run 4 : Sample 50\n",
      "No GPU detected, fall back on CPU.\n",
      "Shift p-vals:  0.23000000417232513\n",
      "Random Run 4 : Sample 100\n",
      "No GPU detected, fall back on CPU.\n",
      "Shift p-vals:  0.11999999731779099\n",
      "Random Run 4 : Sample 200\n",
      "No GPU detected, fall back on CPU.\n",
      "Shift p-vals:  0.029999999329447746\n",
      "Random Run 4 : Sample 500\n",
      "No GPU detected, fall back on CPU.\n",
      "Shift p-vals:  0.019999999552965164\n",
      "Random Run 4 : Sample 1000\n",
      "No GPU detected, fall back on CPU.\n",
      "Shift p-vals:  0.029999999329447746\n",
      "Random Run 4 : Sample 2000\n",
      "No GPU detected, fall back on CPU.\n",
      "Shift p-vals:  0.03999999910593033\n",
      "winter | SMH | NoRed | LK\n",
      "Shift winter\n"
     ]
    },
    {
     "name": "stderr",
     "output_type": "stream",
     "text": [
      "torch.range is deprecated and will be removed in a future release because its behavior is inconsistent with Python's range builtin. Instead, use torch.arange, which produces values in [start, end).\n",
      "No GPU detected, fall back on CPU.\n",
      "No GPU detected, fall back on CPU.\n",
      "No GPU detected, fall back on CPU.\n",
      "No GPU detected, fall back on CPU.\n"
     ]
    },
    {
     "name": "stdout",
     "output_type": "stream",
     "text": [
      "Random Run 0 : Sample 10\n",
      "Shift p-vals:  0.10999999940395355\n",
      "Random Run 0 : Sample 20\n",
      "Shift p-vals:  0.6399999856948853\n",
      "Random Run 0 : Sample 50\n",
      "Shift p-vals:  0.6899999976158142\n",
      "Random Run 0 : Sample 100\n"
     ]
    },
    {
     "name": "stderr",
     "output_type": "stream",
     "text": [
      "No GPU detected, fall back on CPU.\n",
      "No GPU detected, fall back on CPU.\n"
     ]
    },
    {
     "name": "stdout",
     "output_type": "stream",
     "text": [
      "Shift p-vals:  0.38999998569488525\n",
      "Random Run 0 : Sample 200\n",
      "Shift p-vals:  0.699999988079071\n",
      "Random Run 0 : Sample 500\n"
     ]
    },
    {
     "name": "stderr",
     "output_type": "stream",
     "text": [
      "No GPU detected, fall back on CPU.\n",
      "No GPU detected, fall back on CPU.\n"
     ]
    },
    {
     "name": "stdout",
     "output_type": "stream",
     "text": [
      "Shift p-vals:  0.20999999344348907\n",
      "Random Run 0 : Sample 1000\n",
      "Shift p-vals:  0.3499999940395355\n",
      "Random Run 0 : Sample 2000\n",
      "Shift p-vals:  0.20999999344348907\n"
     ]
    },
    {
     "name": "stderr",
     "output_type": "stream",
     "text": [
      "No GPU detected, fall back on CPU.\n",
      "No GPU detected, fall back on CPU.\n",
      "No GPU detected, fall back on CPU.\n",
      "No GPU detected, fall back on CPU.\n"
     ]
    },
    {
     "name": "stdout",
     "output_type": "stream",
     "text": [
      "Random Run 1 : Sample 10\n",
      "Shift p-vals:  1.0\n",
      "Random Run 1 : Sample 20\n",
      "Shift p-vals:  0.5199999809265137\n",
      "Random Run 1 : Sample 50\n",
      "Shift p-vals:  0.1599999964237213\n",
      "Random Run 1 : Sample 100\n"
     ]
    },
    {
     "name": "stderr",
     "output_type": "stream",
     "text": [
      "No GPU detected, fall back on CPU.\n",
      "No GPU detected, fall back on CPU.\n"
     ]
    },
    {
     "name": "stdout",
     "output_type": "stream",
     "text": [
      "Shift p-vals:  0.8199999928474426\n",
      "Random Run 1 : Sample 200\n",
      "Shift p-vals:  0.17000000178813934\n",
      "Random Run 1 : Sample 500\n"
     ]
    },
    {
     "name": "stderr",
     "output_type": "stream",
     "text": [
      "No GPU detected, fall back on CPU.\n",
      "No GPU detected, fall back on CPU.\n"
     ]
    },
    {
     "name": "stdout",
     "output_type": "stream",
     "text": [
      "Shift p-vals:  0.9599999785423279\n",
      "Random Run 1 : Sample 1000\n",
      "Shift p-vals:  0.17000000178813934\n",
      "Random Run 1 : Sample 2000\n",
      "Shift p-vals:  0.5600000023841858\n"
     ]
    },
    {
     "name": "stderr",
     "output_type": "stream",
     "text": [
      "No GPU detected, fall back on CPU.\n",
      "No GPU detected, fall back on CPU.\n",
      "No GPU detected, fall back on CPU.\n",
      "No GPU detected, fall back on CPU.\n"
     ]
    },
    {
     "name": "stdout",
     "output_type": "stream",
     "text": [
      "Random Run 2 : Sample 10\n",
      "Shift p-vals:  0.8399999737739563\n",
      "Random Run 2 : Sample 20\n",
      "Shift p-vals:  0.6600000262260437\n",
      "Random Run 2 : Sample 50\n",
      "Shift p-vals:  0.0\n",
      "Random Run 2 : Sample 100\n"
     ]
    },
    {
     "name": "stderr",
     "output_type": "stream",
     "text": [
      "No GPU detected, fall back on CPU.\n",
      "No GPU detected, fall back on CPU.\n"
     ]
    },
    {
     "name": "stdout",
     "output_type": "stream",
     "text": [
      "Shift p-vals:  0.3400000035762787\n",
      "Random Run 2 : Sample 200\n",
      "Shift p-vals:  0.3400000035762787\n",
      "Random Run 2 : Sample 500\n"
     ]
    },
    {
     "name": "stderr",
     "output_type": "stream",
     "text": [
      "No GPU detected, fall back on CPU.\n",
      "No GPU detected, fall back on CPU.\n"
     ]
    },
    {
     "name": "stdout",
     "output_type": "stream",
     "text": [
      "Shift p-vals:  0.8899999856948853\n",
      "Random Run 2 : Sample 1000\n",
      "Shift p-vals:  0.8100000023841858\n",
      "Random Run 2 : Sample 2000\n",
      "Shift p-vals:  0.9700000286102295\n"
     ]
    },
    {
     "name": "stderr",
     "output_type": "stream",
     "text": [
      "No GPU detected, fall back on CPU.\n",
      "No GPU detected, fall back on CPU.\n",
      "No GPU detected, fall back on CPU.\n",
      "No GPU detected, fall back on CPU.\n"
     ]
    },
    {
     "name": "stdout",
     "output_type": "stream",
     "text": [
      "Random Run 3 : Sample 10\n",
      "Shift p-vals:  0.5299999713897705\n",
      "Random Run 3 : Sample 20\n",
      "Shift p-vals:  0.12999999523162842\n",
      "Random Run 3 : Sample 50\n",
      "Shift p-vals:  0.6000000238418579\n",
      "Random Run 3 : Sample 100\n"
     ]
    },
    {
     "name": "stderr",
     "output_type": "stream",
     "text": [
      "No GPU detected, fall back on CPU.\n",
      "No GPU detected, fall back on CPU.\n"
     ]
    },
    {
     "name": "stdout",
     "output_type": "stream",
     "text": [
      "Shift p-vals:  0.44999998807907104\n",
      "Random Run 3 : Sample 200\n",
      "Shift p-vals:  0.019999999552965164\n",
      "Random Run 3 : Sample 500\n"
     ]
    },
    {
     "name": "stderr",
     "output_type": "stream",
     "text": [
      "No GPU detected, fall back on CPU.\n",
      "No GPU detected, fall back on CPU.\n"
     ]
    },
    {
     "name": "stdout",
     "output_type": "stream",
     "text": [
      "Shift p-vals:  0.10999999940395355\n",
      "Random Run 3 : Sample 1000\n",
      "Shift p-vals:  0.8799999952316284\n",
      "Random Run 3 : Sample 2000\n",
      "Shift p-vals:  0.18000000715255737\n"
     ]
    },
    {
     "name": "stderr",
     "output_type": "stream",
     "text": [
      "No GPU detected, fall back on CPU.\n",
      "No GPU detected, fall back on CPU.\n",
      "No GPU detected, fall back on CPU.\n",
      "No GPU detected, fall back on CPU.\n"
     ]
    },
    {
     "name": "stdout",
     "output_type": "stream",
     "text": [
      "Random Run 4 : Sample 10\n",
      "Shift p-vals:  0.03999999910593033\n",
      "Random Run 4 : Sample 20\n",
      "Shift p-vals:  0.9399999976158142\n",
      "Random Run 4 : Sample 50\n",
      "Shift p-vals:  0.49000000953674316\n",
      "Random Run 4 : Sample 100\n"
     ]
    },
    {
     "name": "stderr",
     "output_type": "stream",
     "text": [
      "No GPU detected, fall back on CPU.\n",
      "No GPU detected, fall back on CPU.\n"
     ]
    },
    {
     "name": "stdout",
     "output_type": "stream",
     "text": [
      "Shift p-vals:  0.9200000166893005\n",
      "Random Run 4 : Sample 200\n",
      "Shift p-vals:  0.6600000262260437\n",
      "Random Run 4 : Sample 500\n"
     ]
    },
    {
     "name": "stderr",
     "output_type": "stream",
     "text": [
      "No GPU detected, fall back on CPU.\n",
      "No GPU detected, fall back on CPU.\n"
     ]
    },
    {
     "name": "stdout",
     "output_type": "stream",
     "text": [
      "Shift p-vals:  0.75\n",
      "Random Run 4 : Sample 1000\n",
      "Shift p-vals:  0.5899999737739563\n",
      "Random Run 4 : Sample 2000\n"
     ]
    },
    {
     "name": "stderr",
     "output_type": "stream",
     "text": [
      "torch.range is deprecated and will be removed in a future release because its behavior is inconsistent with Python's range builtin. Instead, use torch.arange, which produces values in [start, end).\n"
     ]
    },
    {
     "name": "stdout",
     "output_type": "stream",
     "text": [
      "Shift p-vals:  0.07000000029802322\n",
      "winter | SMH | NoRed | LSDD\n",
      "Shift winter\n",
      "Random Run 0 : Sample 10\n",
      "No GPU detected, fall back on CPU.\n",
      "Shift p-vals:  0.0\n",
      "Random Run 0 : Sample 20\n",
      "No GPU detected, fall back on CPU.\n",
      "Shift p-vals:  0.0\n",
      "Random Run 0 : Sample 50\n",
      "No GPU detected, fall back on CPU.\n",
      "Shift p-vals:  0.07000000029802322\n",
      "Random Run 0 : Sample 100\n",
      "No GPU detected, fall back on CPU.\n",
      "Shift p-vals:  0.49000000953674316\n",
      "Random Run 0 : Sample 200\n",
      "No GPU detected, fall back on CPU.\n",
      "Shift p-vals:  0.1899999976158142\n",
      "Random Run 0 : Sample 500\n",
      "No GPU detected, fall back on CPU.\n",
      "Shift p-vals:  0.2800000011920929\n",
      "Random Run 0 : Sample 1000\n",
      "No GPU detected, fall back on CPU.\n",
      "Shift p-vals:  0.019999999552965164\n",
      "Random Run 0 : Sample 2000\n",
      "No GPU detected, fall back on CPU.\n",
      "Shift p-vals:  0.10999999940395355\n",
      "Random Run 1 : Sample 10\n",
      "No GPU detected, fall back on CPU.\n",
      "Shift p-vals:  0.0\n",
      "Random Run 1 : Sample 20\n",
      "No GPU detected, fall back on CPU.\n",
      "Shift p-vals:  0.0\n",
      "Random Run 1 : Sample 50\n",
      "No GPU detected, fall back on CPU.\n",
      "Shift p-vals:  0.009999999776482582\n",
      "Random Run 1 : Sample 100\n",
      "No GPU detected, fall back on CPU.\n",
      "Shift p-vals:  0.07999999821186066\n",
      "Random Run 1 : Sample 200\n",
      "No GPU detected, fall back on CPU.\n",
      "Shift p-vals:  0.0\n",
      "Random Run 1 : Sample 500\n",
      "No GPU detected, fall back on CPU.\n",
      "Shift p-vals:  0.029999999329447746\n",
      "Random Run 1 : Sample 1000\n",
      "No GPU detected, fall back on CPU.\n",
      "Shift p-vals:  0.009999999776482582\n",
      "Random Run 1 : Sample 2000\n",
      "No GPU detected, fall back on CPU.\n",
      "Shift p-vals:  0.0\n",
      "Random Run 2 : Sample 10\n",
      "No GPU detected, fall back on CPU.\n",
      "Shift p-vals:  0.0\n",
      "Random Run 2 : Sample 20\n",
      "No GPU detected, fall back on CPU.\n",
      "Shift p-vals:  0.009999999776482582\n",
      "Random Run 2 : Sample 50\n",
      "No GPU detected, fall back on CPU.\n",
      "Shift p-vals:  0.029999999329447746\n",
      "Random Run 2 : Sample 100\n",
      "No GPU detected, fall back on CPU.\n",
      "Shift p-vals:  0.07000000029802322\n",
      "Random Run 2 : Sample 200\n",
      "No GPU detected, fall back on CPU.\n",
      "Shift p-vals:  0.18000000715255737\n",
      "Random Run 2 : Sample 500\n",
      "No GPU detected, fall back on CPU.\n",
      "Shift p-vals:  0.09000000357627869\n",
      "Random Run 2 : Sample 1000\n",
      "No GPU detected, fall back on CPU.\n",
      "Shift p-vals:  0.05000000074505806\n",
      "Random Run 2 : Sample 2000\n",
      "No GPU detected, fall back on CPU.\n",
      "Shift p-vals:  0.05000000074505806\n",
      "Random Run 3 : Sample 10\n",
      "No GPU detected, fall back on CPU.\n",
      "Shift p-vals:  0.0\n",
      "Random Run 3 : Sample 20\n",
      "No GPU detected, fall back on CPU.\n",
      "Shift p-vals:  0.009999999776482582\n",
      "Random Run 3 : Sample 50\n",
      "No GPU detected, fall back on CPU.\n",
      "Shift p-vals:  0.009999999776482582\n",
      "Random Run 3 : Sample 100\n",
      "No GPU detected, fall back on CPU.\n",
      "Shift p-vals:  0.0\n",
      "Random Run 3 : Sample 200\n",
      "No GPU detected, fall back on CPU.\n",
      "Shift p-vals:  0.009999999776482582\n",
      "Random Run 3 : Sample 500\n",
      "No GPU detected, fall back on CPU.\n",
      "Shift p-vals:  0.0\n",
      "Random Run 3 : Sample 1000\n",
      "No GPU detected, fall back on CPU.\n",
      "Shift p-vals:  0.009999999776482582\n",
      "Random Run 3 : Sample 2000\n",
      "No GPU detected, fall back on CPU.\n",
      "Shift p-vals:  0.0\n",
      "Random Run 4 : Sample 10\n",
      "No GPU detected, fall back on CPU.\n",
      "Shift p-vals:  0.0\n",
      "Random Run 4 : Sample 20\n",
      "No GPU detected, fall back on CPU.\n",
      "Shift p-vals:  0.0\n",
      "Random Run 4 : Sample 50\n",
      "No GPU detected, fall back on CPU.\n",
      "Shift p-vals:  0.0\n",
      "Random Run 4 : Sample 100\n",
      "No GPU detected, fall back on CPU.\n",
      "Shift p-vals:  0.10999999940395355\n",
      "Random Run 4 : Sample 200\n",
      "No GPU detected, fall back on CPU.\n",
      "Shift p-vals:  0.0\n",
      "Random Run 4 : Sample 500\n",
      "No GPU detected, fall back on CPU.\n",
      "Shift p-vals:  0.2800000011920929\n",
      "Random Run 4 : Sample 1000\n",
      "No GPU detected, fall back on CPU.\n",
      "Shift p-vals:  0.4000000059604645\n",
      "Random Run 4 : Sample 2000\n",
      "No GPU detected, fall back on CPU.\n",
      "Shift p-vals:  0.03999999910593033\n",
      "winter | SMH | SRP | MMD\n",
      "Shift winter\n"
     ]
    },
    {
     "name": "stderr",
     "output_type": "stream",
     "text": [
      "torch.range is deprecated and will be removed in a future release because its behavior is inconsistent with Python's range builtin. Instead, use torch.arange, which produces values in [start, end).\n"
     ]
    },
    {
     "name": "stdout",
     "output_type": "stream",
     "text": [
      "Random Run 0 : Sample 10\n",
      "No GPU detected, fall back on CPU.\n",
      "Shift p-vals:  0.9100000262260437\n",
      "Random Run 0 : Sample 20\n",
      "No GPU detected, fall back on CPU.\n",
      "Shift p-vals:  0.3700000047683716\n",
      "Random Run 0 : Sample 50\n",
      "No GPU detected, fall back on CPU.\n",
      "Shift p-vals:  0.7599999904632568\n",
      "Random Run 0 : Sample 100\n",
      "No GPU detected, fall back on CPU.\n",
      "Shift p-vals:  0.029999999329447746\n",
      "Random Run 0 : Sample 200\n",
      "No GPU detected, fall back on CPU.\n",
      "Shift p-vals:  0.3199999928474426\n",
      "Random Run 0 : Sample 500\n",
      "No GPU detected, fall back on CPU.\n",
      "Shift p-vals:  0.6600000262260437\n",
      "Random Run 0 : Sample 1000\n",
      "No GPU detected, fall back on CPU.\n",
      "Shift p-vals:  0.49000000953674316\n",
      "Random Run 0 : Sample 2000\n",
      "No GPU detected, fall back on CPU.\n",
      "Shift p-vals:  0.07999999821186066\n",
      "Random Run 1 : Sample 10\n",
      "No GPU detected, fall back on CPU.\n",
      "Shift p-vals:  0.23000000417232513\n",
      "Random Run 1 : Sample 20\n",
      "No GPU detected, fall back on CPU.\n",
      "Shift p-vals:  0.25\n",
      "Random Run 1 : Sample 50\n",
      "No GPU detected, fall back on CPU.\n",
      "Shift p-vals:  0.5299999713897705\n",
      "Random Run 1 : Sample 100\n",
      "No GPU detected, fall back on CPU.\n",
      "Shift p-vals:  0.75\n",
      "Random Run 1 : Sample 200\n",
      "No GPU detected, fall back on CPU.\n",
      "Shift p-vals:  0.5099999904632568\n",
      "Random Run 1 : Sample 500\n",
      "No GPU detected, fall back on CPU.\n",
      "Shift p-vals:  0.949999988079071\n",
      "Random Run 1 : Sample 1000\n",
      "No GPU detected, fall back on CPU.\n",
      "Shift p-vals:  0.9700000286102295\n",
      "Random Run 1 : Sample 2000\n",
      "No GPU detected, fall back on CPU.\n",
      "Shift p-vals:  0.7200000286102295\n",
      "Random Run 2 : Sample 10\n",
      "No GPU detected, fall back on CPU.\n",
      "Shift p-vals:  0.05000000074505806\n",
      "Random Run 2 : Sample 20\n",
      "No GPU detected, fall back on CPU.\n",
      "Shift p-vals:  0.550000011920929\n",
      "Random Run 2 : Sample 50\n",
      "No GPU detected, fall back on CPU.\n",
      "Shift p-vals:  0.949999988079071\n",
      "Random Run 2 : Sample 100\n",
      "No GPU detected, fall back on CPU.\n",
      "Shift p-vals:  0.3499999940395355\n",
      "Random Run 2 : Sample 200\n",
      "No GPU detected, fall back on CPU.\n",
      "Shift p-vals:  0.8100000023841858\n",
      "Random Run 2 : Sample 500\n",
      "No GPU detected, fall back on CPU.\n",
      "Shift p-vals:  0.2199999988079071\n",
      "Random Run 2 : Sample 1000\n",
      "No GPU detected, fall back on CPU.\n",
      "Shift p-vals:  0.2199999988079071\n",
      "Random Run 2 : Sample 2000\n",
      "No GPU detected, fall back on CPU.\n",
      "Shift p-vals:  0.8100000023841858\n",
      "Random Run 3 : Sample 10\n",
      "No GPU detected, fall back on CPU.\n",
      "Shift p-vals:  0.4699999988079071\n",
      "Random Run 3 : Sample 20\n",
      "No GPU detected, fall back on CPU.\n",
      "Shift p-vals:  0.41999998688697815\n",
      "Random Run 3 : Sample 50\n",
      "No GPU detected, fall back on CPU.\n",
      "Shift p-vals:  0.20000000298023224\n",
      "Random Run 3 : Sample 100\n",
      "No GPU detected, fall back on CPU.\n",
      "Shift p-vals:  0.30000001192092896\n",
      "Random Run 3 : Sample 200\n",
      "No GPU detected, fall back on CPU.\n",
      "Shift p-vals:  0.36000001430511475\n",
      "Random Run 3 : Sample 500\n",
      "No GPU detected, fall back on CPU.\n",
      "Shift p-vals:  0.41999998688697815\n",
      "Random Run 3 : Sample 1000\n",
      "No GPU detected, fall back on CPU.\n",
      "Shift p-vals:  0.6399999856948853\n",
      "Random Run 3 : Sample 2000\n",
      "No GPU detected, fall back on CPU.\n",
      "Shift p-vals:  0.800000011920929\n",
      "Random Run 4 : Sample 10\n",
      "No GPU detected, fall back on CPU.\n",
      "Shift p-vals:  0.10000000149011612\n",
      "Random Run 4 : Sample 20\n",
      "No GPU detected, fall back on CPU.\n",
      "Shift p-vals:  0.009999999776482582\n",
      "Random Run 4 : Sample 50\n",
      "No GPU detected, fall back on CPU.\n",
      "Shift p-vals:  0.10999999940395355\n",
      "Random Run 4 : Sample 100\n",
      "No GPU detected, fall back on CPU.\n",
      "Shift p-vals:  0.44999998807907104\n",
      "Random Run 4 : Sample 200\n",
      "No GPU detected, fall back on CPU.\n",
      "Shift p-vals:  0.03999999910593033\n",
      "Random Run 4 : Sample 500\n",
      "No GPU detected, fall back on CPU.\n",
      "Shift p-vals:  0.30000001192092896\n",
      "Random Run 4 : Sample 1000\n",
      "No GPU detected, fall back on CPU.\n",
      "Shift p-vals:  0.9100000262260437\n",
      "Random Run 4 : Sample 2000\n",
      "No GPU detected, fall back on CPU.\n",
      "Shift p-vals:  0.7599999904632568\n",
      "winter | SMH | SRP | LK\n",
      "Shift winter\n"
     ]
    },
    {
     "name": "stderr",
     "output_type": "stream",
     "text": [
      "torch.range is deprecated and will be removed in a future release because its behavior is inconsistent with Python's range builtin. Instead, use torch.arange, which produces values in [start, end).\n",
      "No GPU detected, fall back on CPU.\n",
      "No GPU detected, fall back on CPU.\n",
      "No GPU detected, fall back on CPU.\n",
      "No GPU detected, fall back on CPU.\n"
     ]
    },
    {
     "name": "stdout",
     "output_type": "stream",
     "text": [
      "Random Run 0 : Sample 10\n",
      "Shift p-vals:  0.5899999737739563\n",
      "Random Run 0 : Sample 20\n",
      "Shift p-vals:  0.14000000059604645\n",
      "Random Run 0 : Sample 50\n",
      "Shift p-vals:  0.25999999046325684\n",
      "Random Run 0 : Sample 100\n"
     ]
    },
    {
     "name": "stderr",
     "output_type": "stream",
     "text": [
      "No GPU detected, fall back on CPU.\n",
      "No GPU detected, fall back on CPU.\n"
     ]
    },
    {
     "name": "stdout",
     "output_type": "stream",
     "text": [
      "Shift p-vals:  0.5400000214576721\n",
      "Random Run 0 : Sample 200\n",
      "Shift p-vals:  0.2199999988079071\n",
      "Random Run 0 : Sample 500\n"
     ]
    },
    {
     "name": "stderr",
     "output_type": "stream",
     "text": [
      "No GPU detected, fall back on CPU.\n",
      "No GPU detected, fall back on CPU.\n"
     ]
    },
    {
     "name": "stdout",
     "output_type": "stream",
     "text": [
      "Shift p-vals:  0.07000000029802322\n",
      "Random Run 0 : Sample 1000\n",
      "Shift p-vals:  0.11999999731779099\n",
      "Random Run 0 : Sample 2000\n",
      "Shift p-vals:  0.5899999737739563\n"
     ]
    },
    {
     "name": "stderr",
     "output_type": "stream",
     "text": [
      "No GPU detected, fall back on CPU.\n",
      "No GPU detected, fall back on CPU.\n",
      "No GPU detected, fall back on CPU.\n",
      "No GPU detected, fall back on CPU.\n"
     ]
    },
    {
     "name": "stdout",
     "output_type": "stream",
     "text": [
      "Random Run 1 : Sample 10\n",
      "Shift p-vals:  0.20000000298023224\n",
      "Random Run 1 : Sample 20\n",
      "Shift p-vals:  0.09000000357627869\n",
      "Random Run 1 : Sample 50\n",
      "Shift p-vals:  0.9300000071525574\n",
      "Random Run 1 : Sample 100\n"
     ]
    },
    {
     "name": "stderr",
     "output_type": "stream",
     "text": [
      "No GPU detected, fall back on CPU.\n",
      "No GPU detected, fall back on CPU.\n"
     ]
    },
    {
     "name": "stdout",
     "output_type": "stream",
     "text": [
      "Shift p-vals:  0.8299999833106995\n",
      "Random Run 1 : Sample 200\n",
      "Shift p-vals:  0.5099999904632568\n",
      "Random Run 1 : Sample 500\n"
     ]
    },
    {
     "name": "stderr",
     "output_type": "stream",
     "text": [
      "No GPU detected, fall back on CPU.\n",
      "No GPU detected, fall back on CPU.\n"
     ]
    },
    {
     "name": "stdout",
     "output_type": "stream",
     "text": [
      "Shift p-vals:  0.27000001072883606\n",
      "Random Run 1 : Sample 1000\n",
      "Shift p-vals:  0.28999999165534973\n",
      "Random Run 1 : Sample 2000\n",
      "Shift p-vals:  0.20000000298023224\n"
     ]
    },
    {
     "name": "stderr",
     "output_type": "stream",
     "text": [
      "No GPU detected, fall back on CPU.\n",
      "No GPU detected, fall back on CPU.\n",
      "No GPU detected, fall back on CPU.\n",
      "No GPU detected, fall back on CPU.\n"
     ]
    },
    {
     "name": "stdout",
     "output_type": "stream",
     "text": [
      "Random Run 2 : Sample 10\n",
      "Shift p-vals:  0.2800000011920929\n",
      "Random Run 2 : Sample 20\n",
      "Shift p-vals:  0.9300000071525574\n",
      "Random Run 2 : Sample 50\n",
      "Shift p-vals:  0.46000000834465027\n",
      "Random Run 2 : Sample 100\n"
     ]
    },
    {
     "name": "stderr",
     "output_type": "stream",
     "text": [
      "No GPU detected, fall back on CPU.\n",
      "No GPU detected, fall back on CPU.\n"
     ]
    },
    {
     "name": "stdout",
     "output_type": "stream",
     "text": [
      "Shift p-vals:  0.8299999833106995\n",
      "Random Run 2 : Sample 200\n",
      "Shift p-vals:  0.800000011920929\n",
      "Random Run 2 : Sample 500\n"
     ]
    },
    {
     "name": "stderr",
     "output_type": "stream",
     "text": [
      "No GPU detected, fall back on CPU.\n",
      "No GPU detected, fall back on CPU.\n"
     ]
    },
    {
     "name": "stdout",
     "output_type": "stream",
     "text": [
      "Shift p-vals:  0.5799999833106995\n",
      "Random Run 2 : Sample 1000\n",
      "Shift p-vals:  0.5099999904632568\n",
      "Random Run 2 : Sample 2000\n",
      "Shift p-vals:  0.5\n"
     ]
    },
    {
     "name": "stderr",
     "output_type": "stream",
     "text": [
      "No GPU detected, fall back on CPU.\n",
      "No GPU detected, fall back on CPU.\n",
      "No GPU detected, fall back on CPU.\n",
      "No GPU detected, fall back on CPU.\n"
     ]
    },
    {
     "name": "stdout",
     "output_type": "stream",
     "text": [
      "Random Run 3 : Sample 10\n",
      "Shift p-vals:  0.05000000074505806\n",
      "Random Run 3 : Sample 20\n",
      "Shift p-vals:  0.9200000166893005\n",
      "Random Run 3 : Sample 50\n",
      "Shift p-vals:  0.28999999165534973\n",
      "Random Run 3 : Sample 100\n"
     ]
    },
    {
     "name": "stderr",
     "output_type": "stream",
     "text": [
      "No GPU detected, fall back on CPU.\n",
      "No GPU detected, fall back on CPU.\n"
     ]
    },
    {
     "name": "stdout",
     "output_type": "stream",
     "text": [
      "Shift p-vals:  0.5099999904632568\n",
      "Random Run 3 : Sample 200\n",
      "Shift p-vals:  0.5799999833106995\n",
      "Random Run 3 : Sample 500\n"
     ]
    },
    {
     "name": "stderr",
     "output_type": "stream",
     "text": [
      "No GPU detected, fall back on CPU.\n",
      "No GPU detected, fall back on CPU.\n"
     ]
    },
    {
     "name": "stdout",
     "output_type": "stream",
     "text": [
      "Shift p-vals:  0.5600000023841858\n",
      "Random Run 3 : Sample 1000\n",
      "Shift p-vals:  0.1899999976158142\n",
      "Random Run 3 : Sample 2000\n",
      "Shift p-vals:  0.029999999329447746\n"
     ]
    },
    {
     "name": "stderr",
     "output_type": "stream",
     "text": [
      "No GPU detected, fall back on CPU.\n",
      "No GPU detected, fall back on CPU.\n",
      "No GPU detected, fall back on CPU.\n",
      "No GPU detected, fall back on CPU.\n"
     ]
    },
    {
     "name": "stdout",
     "output_type": "stream",
     "text": [
      "Random Run 4 : Sample 10\n",
      "Shift p-vals:  0.6800000071525574\n",
      "Random Run 4 : Sample 20\n",
      "Shift p-vals:  0.47999998927116394\n",
      "Random Run 4 : Sample 50\n",
      "Shift p-vals:  0.800000011920929\n",
      "Random Run 4 : Sample 100\n"
     ]
    },
    {
     "name": "stderr",
     "output_type": "stream",
     "text": [
      "No GPU detected, fall back on CPU.\n",
      "No GPU detected, fall back on CPU.\n"
     ]
    },
    {
     "name": "stdout",
     "output_type": "stream",
     "text": [
      "Shift p-vals:  0.14000000059604645\n",
      "Random Run 4 : Sample 200\n",
      "Shift p-vals:  0.019999999552965164\n",
      "Random Run 4 : Sample 500\n"
     ]
    },
    {
     "name": "stderr",
     "output_type": "stream",
     "text": [
      "No GPU detected, fall back on CPU.\n",
      "No GPU detected, fall back on CPU.\n"
     ]
    },
    {
     "name": "stdout",
     "output_type": "stream",
     "text": [
      "Shift p-vals:  0.11999999731779099\n",
      "Random Run 4 : Sample 1000\n",
      "Shift p-vals:  0.9300000071525574\n",
      "Random Run 4 : Sample 2000\n"
     ]
    },
    {
     "name": "stderr",
     "output_type": "stream",
     "text": [
      "torch.range is deprecated and will be removed in a future release because its behavior is inconsistent with Python's range builtin. Instead, use torch.arange, which produces values in [start, end).\n"
     ]
    },
    {
     "name": "stdout",
     "output_type": "stream",
     "text": [
      "Shift p-vals:  0.3100000023841858\n",
      "winter | SMH | SRP | LSDD\n",
      "Shift winter\n",
      "Random Run 0 : Sample 10\n",
      "No GPU detected, fall back on CPU.\n",
      "Shift p-vals:  0.6299999952316284\n",
      "Random Run 0 : Sample 20\n",
      "No GPU detected, fall back on CPU.\n",
      "Shift p-vals:  0.6000000238418579\n",
      "Random Run 0 : Sample 50\n",
      "No GPU detected, fall back on CPU.\n",
      "Shift p-vals:  0.4000000059604645\n",
      "Random Run 0 : Sample 100\n",
      "No GPU detected, fall back on CPU.\n",
      "Shift p-vals:  0.4099999964237213\n",
      "Random Run 0 : Sample 200\n",
      "No GPU detected, fall back on CPU.\n",
      "Shift p-vals:  0.46000000834465027\n",
      "Random Run 0 : Sample 500\n",
      "No GPU detected, fall back on CPU.\n",
      "Shift p-vals:  0.550000011920929\n",
      "Random Run 0 : Sample 1000\n",
      "No GPU detected, fall back on CPU.\n",
      "Shift p-vals:  0.3799999952316284\n",
      "Random Run 0 : Sample 2000\n",
      "No GPU detected, fall back on CPU.\n",
      "Shift p-vals:  0.2199999988079071\n",
      "Random Run 1 : Sample 10\n",
      "No GPU detected, fall back on CPU.\n",
      "Shift p-vals:  0.6200000047683716\n",
      "Random Run 1 : Sample 20\n",
      "No GPU detected, fall back on CPU.\n",
      "Shift p-vals:  0.019999999552965164\n",
      "Random Run 1 : Sample 50\n",
      "No GPU detected, fall back on CPU.\n",
      "Shift p-vals:  0.25\n",
      "Random Run 1 : Sample 100\n",
      "No GPU detected, fall back on CPU.\n",
      "Shift p-vals:  0.14000000059604645\n",
      "Random Run 1 : Sample 200\n",
      "No GPU detected, fall back on CPU.\n",
      "Shift p-vals:  0.2199999988079071\n",
      "Random Run 1 : Sample 500\n",
      "No GPU detected, fall back on CPU.\n",
      "Shift p-vals:  0.3400000035762787\n",
      "Random Run 1 : Sample 1000\n",
      "No GPU detected, fall back on CPU.\n",
      "Shift p-vals:  0.9200000166893005\n",
      "Random Run 1 : Sample 2000\n",
      "No GPU detected, fall back on CPU.\n",
      "Shift p-vals:  0.7099999785423279\n",
      "Random Run 2 : Sample 10\n",
      "No GPU detected, fall back on CPU.\n",
      "Shift p-vals:  0.0\n",
      "Random Run 2 : Sample 20\n",
      "No GPU detected, fall back on CPU.\n",
      "Shift p-vals:  0.03999999910593033\n",
      "Random Run 2 : Sample 50\n",
      "No GPU detected, fall back on CPU.\n",
      "Shift p-vals:  0.8700000047683716\n",
      "Random Run 2 : Sample 100\n",
      "No GPU detected, fall back on CPU.\n",
      "Shift p-vals:  0.4300000071525574\n",
      "Random Run 2 : Sample 200\n",
      "No GPU detected, fall back on CPU.\n",
      "Shift p-vals:  0.2199999988079071\n",
      "Random Run 2 : Sample 500\n",
      "No GPU detected, fall back on CPU.\n",
      "Shift p-vals:  0.20999999344348907\n",
      "Random Run 2 : Sample 1000\n",
      "No GPU detected, fall back on CPU.\n",
      "Shift p-vals:  0.5600000023841858\n",
      "Random Run 2 : Sample 2000\n",
      "No GPU detected, fall back on CPU.\n",
      "Shift p-vals:  0.3799999952316284\n",
      "Random Run 3 : Sample 10\n",
      "No GPU detected, fall back on CPU.\n",
      "Shift p-vals:  0.09000000357627869\n",
      "Random Run 3 : Sample 20\n",
      "No GPU detected, fall back on CPU.\n",
      "Shift p-vals:  0.8700000047683716\n",
      "Random Run 3 : Sample 50\n",
      "No GPU detected, fall back on CPU.\n",
      "Shift p-vals:  0.18000000715255737\n",
      "Random Run 3 : Sample 100\n",
      "No GPU detected, fall back on CPU.\n",
      "Shift p-vals:  0.8700000047683716\n",
      "Random Run 3 : Sample 200\n",
      "No GPU detected, fall back on CPU.\n",
      "Shift p-vals:  0.6600000262260437\n",
      "Random Run 3 : Sample 500\n",
      "No GPU detected, fall back on CPU.\n",
      "Shift p-vals:  0.20000000298023224\n",
      "Random Run 3 : Sample 1000\n",
      "No GPU detected, fall back on CPU.\n",
      "Shift p-vals:  0.7699999809265137\n",
      "Random Run 3 : Sample 2000\n",
      "No GPU detected, fall back on CPU.\n",
      "Shift p-vals:  0.23000000417232513\n",
      "Random Run 4 : Sample 10\n",
      "No GPU detected, fall back on CPU.\n",
      "Shift p-vals:  0.75\n",
      "Random Run 4 : Sample 20\n",
      "No GPU detected, fall back on CPU.\n",
      "Shift p-vals:  0.10000000149011612\n",
      "Random Run 4 : Sample 50\n",
      "No GPU detected, fall back on CPU.\n",
      "Shift p-vals:  0.2800000011920929\n",
      "Random Run 4 : Sample 100\n",
      "No GPU detected, fall back on CPU.\n",
      "Shift p-vals:  0.18000000715255737\n",
      "Random Run 4 : Sample 200\n",
      "No GPU detected, fall back on CPU.\n",
      "Shift p-vals:  0.009999999776482582\n",
      "Random Run 4 : Sample 500\n",
      "No GPU detected, fall back on CPU.\n",
      "Shift p-vals:  0.3700000047683716\n",
      "Random Run 4 : Sample 1000\n",
      "No GPU detected, fall back on CPU.\n",
      "Shift p-vals:  0.4699999988079071\n",
      "Random Run 4 : Sample 2000\n",
      "No GPU detected, fall back on CPU.\n",
      "Shift p-vals:  0.4099999964237213\n",
      "winter | SMH | PCA | MMD\n",
      "Shift winter\n"
     ]
    },
    {
     "name": "stderr",
     "output_type": "stream",
     "text": [
      "torch.range is deprecated and will be removed in a future release because its behavior is inconsistent with Python's range builtin. Instead, use torch.arange, which produces values in [start, end).\n"
     ]
    },
    {
     "name": "stdout",
     "output_type": "stream",
     "text": [
      "Random Run 0 : Sample 10\n",
      "No GPU detected, fall back on CPU.\n",
      "Shift p-vals:  0.12999999523162842\n",
      "Random Run 0 : Sample 20\n",
      "No GPU detected, fall back on CPU.\n",
      "Shift p-vals:  0.10999999940395355\n",
      "Random Run 0 : Sample 50\n",
      "No GPU detected, fall back on CPU.\n",
      "Shift p-vals:  0.5099999904632568\n",
      "Random Run 0 : Sample 100\n",
      "No GPU detected, fall back on CPU.\n",
      "Shift p-vals:  0.30000001192092896\n",
      "Random Run 0 : Sample 200\n",
      "No GPU detected, fall back on CPU.\n",
      "Shift p-vals:  0.11999999731779099\n",
      "Random Run 0 : Sample 500\n",
      "No GPU detected, fall back on CPU.\n",
      "Shift p-vals:  0.10999999940395355\n",
      "Random Run 0 : Sample 1000\n",
      "No GPU detected, fall back on CPU.\n",
      "Shift p-vals:  0.18000000715255737\n",
      "Random Run 0 : Sample 2000\n",
      "No GPU detected, fall back on CPU.\n",
      "Shift p-vals:  0.10999999940395355\n",
      "Random Run 1 : Sample 10\n",
      "No GPU detected, fall back on CPU.\n",
      "Shift p-vals:  0.14000000059604645\n",
      "Random Run 1 : Sample 20\n",
      "No GPU detected, fall back on CPU.\n",
      "Shift p-vals:  0.18000000715255737\n",
      "Random Run 1 : Sample 50\n",
      "No GPU detected, fall back on CPU.\n",
      "Shift p-vals:  0.5600000023841858\n",
      "Random Run 1 : Sample 100\n",
      "No GPU detected, fall back on CPU.\n",
      "Shift p-vals:  0.7799999713897705\n",
      "Random Run 1 : Sample 200\n",
      "No GPU detected, fall back on CPU.\n",
      "Shift p-vals:  0.6200000047683716\n",
      "Random Run 1 : Sample 500\n",
      "No GPU detected, fall back on CPU.\n",
      "Shift p-vals:  0.5099999904632568\n",
      "Random Run 1 : Sample 1000\n",
      "No GPU detected, fall back on CPU.\n",
      "Shift p-vals:  0.5\n",
      "Random Run 1 : Sample 2000\n",
      "No GPU detected, fall back on CPU.\n",
      "Shift p-vals:  0.5\n",
      "Random Run 2 : Sample 10\n",
      "No GPU detected, fall back on CPU.\n",
      "Shift p-vals:  0.0\n",
      "Random Run 2 : Sample 20\n",
      "No GPU detected, fall back on CPU.\n",
      "Shift p-vals:  0.11999999731779099\n",
      "Random Run 2 : Sample 50\n",
      "No GPU detected, fall back on CPU.\n",
      "Shift p-vals:  0.8100000023841858\n",
      "Random Run 2 : Sample 100\n",
      "No GPU detected, fall back on CPU.\n",
      "Shift p-vals:  0.9399999976158142\n",
      "Random Run 2 : Sample 200\n",
      "No GPU detected, fall back on CPU.\n",
      "Shift p-vals:  0.6100000143051147\n",
      "Random Run 2 : Sample 500\n",
      "No GPU detected, fall back on CPU.\n",
      "Shift p-vals:  0.6499999761581421\n",
      "Random Run 2 : Sample 1000\n",
      "No GPU detected, fall back on CPU.\n",
      "Shift p-vals:  0.6800000071525574\n",
      "Random Run 2 : Sample 2000\n",
      "No GPU detected, fall back on CPU.\n",
      "Shift p-vals:  0.6499999761581421\n",
      "Random Run 3 : Sample 10\n",
      "No GPU detected, fall back on CPU.\n",
      "Shift p-vals:  0.14000000059604645\n",
      "Random Run 3 : Sample 20\n",
      "No GPU detected, fall back on CPU.\n",
      "Shift p-vals:  0.05000000074505806\n",
      "Random Run 3 : Sample 50\n",
      "No GPU detected, fall back on CPU.\n",
      "Shift p-vals:  0.5600000023841858\n",
      "Random Run 3 : Sample 100\n",
      "No GPU detected, fall back on CPU.\n",
      "Shift p-vals:  0.5400000214576721\n",
      "Random Run 3 : Sample 200\n",
      "No GPU detected, fall back on CPU.\n",
      "Shift p-vals:  0.17000000178813934\n",
      "Random Run 3 : Sample 500\n",
      "No GPU detected, fall back on CPU.\n",
      "Shift p-vals:  0.11999999731779099\n",
      "Random Run 3 : Sample 1000\n",
      "No GPU detected, fall back on CPU.\n",
      "Shift p-vals:  0.20000000298023224\n",
      "Random Run 3 : Sample 2000\n",
      "No GPU detected, fall back on CPU.\n",
      "Shift p-vals:  0.15000000596046448\n",
      "Random Run 4 : Sample 10\n",
      "No GPU detected, fall back on CPU.\n",
      "Shift p-vals:  0.019999999552965164\n",
      "Random Run 4 : Sample 20\n",
      "No GPU detected, fall back on CPU.\n",
      "Shift p-vals:  0.07999999821186066\n",
      "Random Run 4 : Sample 50\n",
      "No GPU detected, fall back on CPU.\n",
      "Shift p-vals:  0.23000000417232513\n",
      "Random Run 4 : Sample 100\n",
      "No GPU detected, fall back on CPU.\n",
      "Shift p-vals:  0.07000000029802322\n",
      "Random Run 4 : Sample 200\n",
      "No GPU detected, fall back on CPU.\n",
      "Shift p-vals:  0.05000000074505806\n",
      "Random Run 4 : Sample 500\n",
      "No GPU detected, fall back on CPU.\n",
      "Shift p-vals:  0.009999999776482582\n",
      "Random Run 4 : Sample 1000\n",
      "No GPU detected, fall back on CPU.\n",
      "Shift p-vals:  0.029999999329447746\n",
      "Random Run 4 : Sample 2000\n",
      "No GPU detected, fall back on CPU.\n",
      "Shift p-vals:  0.019999999552965164\n",
      "winter | SMH | PCA | LK\n",
      "Shift winter\n"
     ]
    },
    {
     "name": "stderr",
     "output_type": "stream",
     "text": [
      "torch.range is deprecated and will be removed in a future release because its behavior is inconsistent with Python's range builtin. Instead, use torch.arange, which produces values in [start, end).\n",
      "No GPU detected, fall back on CPU.\n",
      "No GPU detected, fall back on CPU.\n",
      "No GPU detected, fall back on CPU.\n",
      "No GPU detected, fall back on CPU.\n"
     ]
    },
    {
     "name": "stdout",
     "output_type": "stream",
     "text": [
      "Random Run 0 : Sample 10\n",
      "Shift p-vals:  0.4300000071525574\n",
      "Random Run 0 : Sample 20\n",
      "Shift p-vals:  0.03999999910593033\n",
      "Random Run 0 : Sample 50\n",
      "Shift p-vals:  0.49000000953674316\n",
      "Random Run 0 : Sample 100\n"
     ]
    },
    {
     "name": "stderr",
     "output_type": "stream",
     "text": [
      "No GPU detected, fall back on CPU.\n",
      "No GPU detected, fall back on CPU.\n"
     ]
    },
    {
     "name": "stdout",
     "output_type": "stream",
     "text": [
      "Shift p-vals:  0.6600000262260437\n",
      "Random Run 0 : Sample 200\n",
      "Shift p-vals:  0.9200000166893005\n",
      "Random Run 0 : Sample 500\n"
     ]
    },
    {
     "name": "stderr",
     "output_type": "stream",
     "text": [
      "No GPU detected, fall back on CPU.\n",
      "No GPU detected, fall back on CPU.\n"
     ]
    },
    {
     "name": "stdout",
     "output_type": "stream",
     "text": [
      "Shift p-vals:  0.8899999856948853\n",
      "Random Run 0 : Sample 1000\n",
      "Shift p-vals:  0.019999999552965164\n",
      "Random Run 0 : Sample 2000\n",
      "Shift p-vals:  0.9800000190734863\n"
     ]
    },
    {
     "name": "stderr",
     "output_type": "stream",
     "text": [
      "No GPU detected, fall back on CPU.\n",
      "No GPU detected, fall back on CPU.\n",
      "No GPU detected, fall back on CPU.\n",
      "No GPU detected, fall back on CPU.\n"
     ]
    },
    {
     "name": "stdout",
     "output_type": "stream",
     "text": [
      "Random Run 1 : Sample 10\n",
      "Shift p-vals:  0.7300000190734863\n",
      "Random Run 1 : Sample 20\n",
      "Shift p-vals:  0.6000000238418579\n",
      "Random Run 1 : Sample 50\n",
      "Shift p-vals:  0.6700000166893005\n",
      "Random Run 1 : Sample 100\n"
     ]
    },
    {
     "name": "stderr",
     "output_type": "stream",
     "text": [
      "No GPU detected, fall back on CPU.\n",
      "No GPU detected, fall back on CPU.\n"
     ]
    },
    {
     "name": "stdout",
     "output_type": "stream",
     "text": [
      "Shift p-vals:  0.07000000029802322\n",
      "Random Run 1 : Sample 200\n",
      "Shift p-vals:  0.36000001430511475\n",
      "Random Run 1 : Sample 500\n"
     ]
    },
    {
     "name": "stderr",
     "output_type": "stream",
     "text": [
      "No GPU detected, fall back on CPU.\n",
      "No GPU detected, fall back on CPU.\n"
     ]
    },
    {
     "name": "stdout",
     "output_type": "stream",
     "text": [
      "Shift p-vals:  0.46000000834465027\n",
      "Random Run 1 : Sample 1000\n",
      "Shift p-vals:  0.36000001430511475\n",
      "Random Run 1 : Sample 2000\n",
      "Shift p-vals:  0.9300000071525574\n"
     ]
    },
    {
     "name": "stderr",
     "output_type": "stream",
     "text": [
      "No GPU detected, fall back on CPU.\n",
      "No GPU detected, fall back on CPU.\n",
      "No GPU detected, fall back on CPU.\n",
      "No GPU detected, fall back on CPU.\n"
     ]
    },
    {
     "name": "stdout",
     "output_type": "stream",
     "text": [
      "Random Run 2 : Sample 10\n",
      "Shift p-vals:  0.8999999761581421\n",
      "Random Run 2 : Sample 20\n",
      "Shift p-vals:  0.3499999940395355\n",
      "Random Run 2 : Sample 50\n",
      "Shift p-vals:  0.10999999940395355\n",
      "Random Run 2 : Sample 100\n"
     ]
    },
    {
     "name": "stderr",
     "output_type": "stream",
     "text": [
      "No GPU detected, fall back on CPU.\n",
      "No GPU detected, fall back on CPU.\n"
     ]
    },
    {
     "name": "stdout",
     "output_type": "stream",
     "text": [
      "Shift p-vals:  0.9800000190734863\n",
      "Random Run 2 : Sample 200\n",
      "Shift p-vals:  0.23999999463558197\n",
      "Random Run 2 : Sample 500\n"
     ]
    },
    {
     "name": "stderr",
     "output_type": "stream",
     "text": [
      "No GPU detected, fall back on CPU.\n",
      "No GPU detected, fall back on CPU.\n"
     ]
    },
    {
     "name": "stdout",
     "output_type": "stream",
     "text": [
      "Shift p-vals:  0.4399999976158142\n",
      "Random Run 2 : Sample 1000\n",
      "Shift p-vals:  0.9599999785423279\n",
      "Random Run 2 : Sample 2000\n",
      "Shift p-vals:  0.6000000238418579\n"
     ]
    },
    {
     "name": "stderr",
     "output_type": "stream",
     "text": [
      "No GPU detected, fall back on CPU.\n",
      "No GPU detected, fall back on CPU.\n",
      "No GPU detected, fall back on CPU.\n",
      "No GPU detected, fall back on CPU.\n"
     ]
    },
    {
     "name": "stdout",
     "output_type": "stream",
     "text": [
      "Random Run 3 : Sample 10\n",
      "Shift p-vals:  0.4699999988079071\n",
      "Random Run 3 : Sample 20\n",
      "Shift p-vals:  0.05999999865889549\n",
      "Random Run 3 : Sample 50\n",
      "Shift p-vals:  0.8399999737739563\n",
      "Random Run 3 : Sample 100\n"
     ]
    },
    {
     "name": "stderr",
     "output_type": "stream",
     "text": [
      "No GPU detected, fall back on CPU.\n",
      "No GPU detected, fall back on CPU.\n"
     ]
    },
    {
     "name": "stdout",
     "output_type": "stream",
     "text": [
      "Shift p-vals:  0.27000001072883606\n",
      "Random Run 3 : Sample 200\n",
      "Shift p-vals:  0.3400000035762787\n",
      "Random Run 3 : Sample 500\n"
     ]
    },
    {
     "name": "stderr",
     "output_type": "stream",
     "text": [
      "No GPU detected, fall back on CPU.\n",
      "No GPU detected, fall back on CPU.\n"
     ]
    },
    {
     "name": "stdout",
     "output_type": "stream",
     "text": [
      "Shift p-vals:  0.6700000166893005\n",
      "Random Run 3 : Sample 1000\n",
      "Shift p-vals:  0.07000000029802322\n",
      "Random Run 3 : Sample 2000\n",
      "Shift p-vals:  0.33000001311302185\n"
     ]
    },
    {
     "name": "stderr",
     "output_type": "stream",
     "text": [
      "No GPU detected, fall back on CPU.\n",
      "No GPU detected, fall back on CPU.\n",
      "No GPU detected, fall back on CPU.\n",
      "No GPU detected, fall back on CPU.\n"
     ]
    },
    {
     "name": "stdout",
     "output_type": "stream",
     "text": [
      "Random Run 4 : Sample 10\n",
      "Shift p-vals:  0.0\n",
      "Random Run 4 : Sample 20\n",
      "Shift p-vals:  0.25\n",
      "Random Run 4 : Sample 50\n",
      "Shift p-vals:  0.23999999463558197\n",
      "Random Run 4 : Sample 100\n"
     ]
    },
    {
     "name": "stderr",
     "output_type": "stream",
     "text": [
      "No GPU detected, fall back on CPU.\n",
      "No GPU detected, fall back on CPU.\n"
     ]
    },
    {
     "name": "stdout",
     "output_type": "stream",
     "text": [
      "Shift p-vals:  0.7099999785423279\n",
      "Random Run 4 : Sample 200\n",
      "Shift p-vals:  0.3799999952316284\n",
      "Random Run 4 : Sample 500\n"
     ]
    },
    {
     "name": "stderr",
     "output_type": "stream",
     "text": [
      "No GPU detected, fall back on CPU.\n",
      "No GPU detected, fall back on CPU.\n"
     ]
    },
    {
     "name": "stdout",
     "output_type": "stream",
     "text": [
      "Shift p-vals:  0.20000000298023224\n",
      "Random Run 4 : Sample 1000\n",
      "Shift p-vals:  0.9300000071525574\n",
      "Random Run 4 : Sample 2000\n"
     ]
    },
    {
     "name": "stderr",
     "output_type": "stream",
     "text": [
      "torch.range is deprecated and will be removed in a future release because its behavior is inconsistent with Python's range builtin. Instead, use torch.arange, which produces values in [start, end).\n"
     ]
    },
    {
     "name": "stdout",
     "output_type": "stream",
     "text": [
      "Shift p-vals:  0.14000000059604645\n",
      "winter | SMH | PCA | LSDD\n",
      "Shift winter\n",
      "Random Run 0 : Sample 10\n",
      "No GPU detected, fall back on CPU.\n",
      "Shift p-vals:  0.8600000143051147\n",
      "Random Run 0 : Sample 20\n",
      "No GPU detected, fall back on CPU.\n",
      "Shift p-vals:  0.7599999904632568\n",
      "Random Run 0 : Sample 50\n",
      "No GPU detected, fall back on CPU.\n",
      "Shift p-vals:  0.6700000166893005\n",
      "Random Run 0 : Sample 100\n",
      "No GPU detected, fall back on CPU.\n",
      "Shift p-vals:  0.6200000047683716\n",
      "Random Run 0 : Sample 200\n",
      "No GPU detected, fall back on CPU.\n",
      "Shift p-vals:  0.12999999523162842\n",
      "Random Run 0 : Sample 500\n",
      "No GPU detected, fall back on CPU.\n",
      "Shift p-vals:  0.14000000059604645\n",
      "Random Run 0 : Sample 1000\n",
      "No GPU detected, fall back on CPU.\n",
      "Shift p-vals:  0.47999998927116394\n",
      "Random Run 0 : Sample 2000\n",
      "No GPU detected, fall back on CPU.\n",
      "Shift p-vals:  0.18000000715255737\n",
      "Random Run 1 : Sample 10\n",
      "No GPU detected, fall back on CPU.\n",
      "Shift p-vals:  0.4300000071525574\n",
      "Random Run 1 : Sample 20\n",
      "No GPU detected, fall back on CPU.\n",
      "Shift p-vals:  0.699999988079071\n",
      "Random Run 1 : Sample 50\n",
      "No GPU detected, fall back on CPU.\n",
      "Shift p-vals:  0.46000000834465027\n",
      "Random Run 1 : Sample 100\n",
      "No GPU detected, fall back on CPU.\n",
      "Shift p-vals:  0.36000001430511475\n",
      "Random Run 1 : Sample 200\n",
      "No GPU detected, fall back on CPU.\n",
      "Shift p-vals:  0.8299999833106995\n",
      "Random Run 1 : Sample 500\n",
      "No GPU detected, fall back on CPU.\n",
      "Shift p-vals:  0.3700000047683716\n",
      "Random Run 1 : Sample 1000\n",
      "No GPU detected, fall back on CPU.\n",
      "Shift p-vals:  0.5\n",
      "Random Run 1 : Sample 2000\n",
      "No GPU detected, fall back on CPU.\n",
      "Shift p-vals:  0.6200000047683716\n",
      "Random Run 2 : Sample 10\n",
      "No GPU detected, fall back on CPU.\n",
      "Shift p-vals:  0.05999999865889549\n",
      "Random Run 2 : Sample 20\n",
      "No GPU detected, fall back on CPU.\n",
      "Shift p-vals:  0.05000000074505806\n",
      "Random Run 2 : Sample 50\n",
      "No GPU detected, fall back on CPU.\n",
      "Shift p-vals:  0.38999998569488525\n",
      "Random Run 2 : Sample 100\n",
      "No GPU detected, fall back on CPU.\n",
      "Shift p-vals:  0.7200000286102295\n",
      "Random Run 2 : Sample 200\n",
      "No GPU detected, fall back on CPU.\n",
      "Shift p-vals:  0.2800000011920929\n",
      "Random Run 2 : Sample 500\n",
      "No GPU detected, fall back on CPU.\n",
      "Shift p-vals:  0.38999998569488525\n",
      "Random Run 2 : Sample 1000\n",
      "No GPU detected, fall back on CPU.\n",
      "Shift p-vals:  0.6200000047683716\n",
      "Random Run 2 : Sample 2000\n",
      "No GPU detected, fall back on CPU.\n",
      "Shift p-vals:  0.8799999952316284\n",
      "Random Run 3 : Sample 10\n",
      "No GPU detected, fall back on CPU.\n",
      "Shift p-vals:  0.2800000011920929\n",
      "Random Run 3 : Sample 20\n",
      "No GPU detected, fall back on CPU.\n",
      "Shift p-vals:  0.33000001311302185\n",
      "Random Run 3 : Sample 50\n",
      "No GPU detected, fall back on CPU.\n",
      "Shift p-vals:  0.4300000071525574\n",
      "Random Run 3 : Sample 100\n",
      "No GPU detected, fall back on CPU.\n",
      "Shift p-vals:  0.6299999952316284\n",
      "Random Run 3 : Sample 200\n",
      "No GPU detected, fall back on CPU.\n",
      "Shift p-vals:  0.11999999731779099\n",
      "Random Run 3 : Sample 500\n",
      "No GPU detected, fall back on CPU.\n",
      "Shift p-vals:  0.07000000029802322\n",
      "Random Run 3 : Sample 1000\n",
      "No GPU detected, fall back on CPU.\n",
      "Shift p-vals:  0.3100000023841858\n",
      "Random Run 3 : Sample 2000\n",
      "No GPU detected, fall back on CPU.\n",
      "Shift p-vals:  0.3100000023841858\n",
      "Random Run 4 : Sample 10\n",
      "No GPU detected, fall back on CPU.\n",
      "Shift p-vals:  0.05999999865889549\n",
      "Random Run 4 : Sample 20\n",
      "No GPU detected, fall back on CPU.\n",
      "Shift p-vals:  0.9399999976158142\n",
      "Random Run 4 : Sample 50\n",
      "No GPU detected, fall back on CPU.\n",
      "Shift p-vals:  0.1599999964237213\n",
      "Random Run 4 : Sample 100\n",
      "No GPU detected, fall back on CPU.\n",
      "Shift p-vals:  0.1899999976158142\n",
      "Random Run 4 : Sample 200\n",
      "No GPU detected, fall back on CPU.\n",
      "Shift p-vals:  0.05999999865889549\n",
      "Random Run 4 : Sample 500\n",
      "No GPU detected, fall back on CPU.\n",
      "Shift p-vals:  0.3499999940395355\n",
      "Random Run 4 : Sample 1000\n",
      "No GPU detected, fall back on CPU.\n",
      "Shift p-vals:  0.36000001430511475\n",
      "Random Run 4 : Sample 2000\n",
      "No GPU detected, fall back on CPU.\n",
      "Shift p-vals:  0.5199999809265137\n",
      "winter | SMH | BBSDs_FFNN | MMD\n",
      "Shift winter\n"
     ]
    },
    {
     "name": "stderr",
     "output_type": "stream",
     "text": [
      "torch.range is deprecated and will be removed in a future release because its behavior is inconsistent with Python's range builtin. Instead, use torch.arange, which produces values in [start, end).\n"
     ]
    },
    {
     "name": "stdout",
     "output_type": "stream",
     "text": [
      "Random Run 0 : Sample 10\n",
      "No GPU detected, fall back on CPU.\n",
      "Shift p-vals:  0.6299999952316284\n",
      "Random Run 0 : Sample 20\n",
      "No GPU detected, fall back on CPU.\n",
      "Shift p-vals:  0.8100000023841858\n",
      "Random Run 0 : Sample 50\n",
      "No GPU detected, fall back on CPU.\n",
      "Shift p-vals:  0.7300000190734863\n",
      "Random Run 0 : Sample 100\n",
      "No GPU detected, fall back on CPU.\n",
      "Shift p-vals:  0.25999999046325684\n",
      "Random Run 0 : Sample 200\n",
      "No GPU detected, fall back on CPU.\n",
      "Shift p-vals:  0.75\n",
      "Random Run 0 : Sample 500\n",
      "No GPU detected, fall back on CPU.\n",
      "Shift p-vals:  0.2199999988079071\n",
      "Random Run 0 : Sample 1000\n",
      "No GPU detected, fall back on CPU.\n",
      "Shift p-vals:  0.10000000149011612\n",
      "Random Run 0 : Sample 2000\n",
      "No GPU detected, fall back on CPU.\n",
      "Shift p-vals:  0.2800000011920929\n",
      "Random Run 1 : Sample 10\n",
      "No GPU detected, fall back on CPU.\n",
      "Shift p-vals:  0.23000000417232513\n",
      "Random Run 1 : Sample 20\n",
      "No GPU detected, fall back on CPU.\n",
      "Shift p-vals:  0.14000000059604645\n",
      "Random Run 1 : Sample 50\n",
      "No GPU detected, fall back on CPU.\n",
      "Shift p-vals:  0.33000001311302185\n",
      "Random Run 1 : Sample 100\n",
      "No GPU detected, fall back on CPU.\n",
      "Shift p-vals:  0.33000001311302185\n",
      "Random Run 1 : Sample 200\n",
      "No GPU detected, fall back on CPU.\n",
      "Shift p-vals:  0.2199999988079071\n",
      "Random Run 1 : Sample 500\n",
      "No GPU detected, fall back on CPU.\n",
      "Shift p-vals:  0.3100000023841858\n",
      "Random Run 1 : Sample 1000\n",
      "No GPU detected, fall back on CPU.\n",
      "Shift p-vals:  0.8799999952316284\n",
      "Random Run 1 : Sample 2000\n",
      "No GPU detected, fall back on CPU.\n",
      "Shift p-vals:  0.800000011920929\n",
      "Random Run 2 : Sample 10\n",
      "No GPU detected, fall back on CPU.\n",
      "Shift p-vals:  0.07999999821186066\n",
      "Random Run 2 : Sample 20\n",
      "No GPU detected, fall back on CPU.\n",
      "Shift p-vals:  0.949999988079071\n",
      "Random Run 2 : Sample 50\n",
      "No GPU detected, fall back on CPU.\n",
      "Shift p-vals:  0.23000000417232513\n",
      "Random Run 2 : Sample 100\n",
      "No GPU detected, fall back on CPU.\n",
      "Shift p-vals:  0.8999999761581421\n",
      "Random Run 2 : Sample 200\n",
      "No GPU detected, fall back on CPU.\n",
      "Shift p-vals:  0.2199999988079071\n",
      "Random Run 2 : Sample 500\n",
      "No GPU detected, fall back on CPU.\n",
      "Shift p-vals:  0.7200000286102295\n",
      "Random Run 2 : Sample 1000\n",
      "No GPU detected, fall back on CPU.\n",
      "Shift p-vals:  0.0\n",
      "Random Run 2 : Sample 2000\n",
      "No GPU detected, fall back on CPU.\n",
      "Shift p-vals:  0.8199999928474426\n",
      "Random Run 3 : Sample 10\n",
      "No GPU detected, fall back on CPU.\n",
      "Shift p-vals:  0.1899999976158142\n",
      "Random Run 3 : Sample 20\n",
      "No GPU detected, fall back on CPU.\n",
      "Shift p-vals:  0.20999999344348907\n",
      "Random Run 3 : Sample 50\n",
      "No GPU detected, fall back on CPU.\n",
      "Shift p-vals:  0.6299999952316284\n",
      "Random Run 3 : Sample 100\n",
      "No GPU detected, fall back on CPU.\n",
      "Shift p-vals:  0.5299999713897705\n",
      "Random Run 3 : Sample 200\n",
      "No GPU detected, fall back on CPU.\n",
      "Shift p-vals:  0.46000000834465027\n",
      "Random Run 3 : Sample 500\n",
      "No GPU detected, fall back on CPU.\n",
      "Shift p-vals:  0.18000000715255737\n",
      "Random Run 3 : Sample 1000\n",
      "No GPU detected, fall back on CPU.\n",
      "Shift p-vals:  0.75\n",
      "Random Run 3 : Sample 2000\n",
      "No GPU detected, fall back on CPU.\n",
      "Shift p-vals:  0.800000011920929\n",
      "Random Run 4 : Sample 10\n",
      "No GPU detected, fall back on CPU.\n",
      "Shift p-vals:  0.12999999523162842\n",
      "Random Run 4 : Sample 20\n",
      "No GPU detected, fall back on CPU.\n",
      "Shift p-vals:  0.30000001192092896\n",
      "Random Run 4 : Sample 50\n",
      "No GPU detected, fall back on CPU.\n",
      "Shift p-vals:  0.46000000834465027\n",
      "Random Run 4 : Sample 100\n",
      "No GPU detected, fall back on CPU.\n",
      "Shift p-vals:  0.12999999523162842\n",
      "Random Run 4 : Sample 200\n",
      "No GPU detected, fall back on CPU.\n",
      "Shift p-vals:  0.10000000149011612\n",
      "Random Run 4 : Sample 500\n",
      "No GPU detected, fall back on CPU.\n",
      "Shift p-vals:  0.4699999988079071\n",
      "Random Run 4 : Sample 1000\n",
      "No GPU detected, fall back on CPU.\n",
      "Shift p-vals:  0.019999999552965164\n",
      "Random Run 4 : Sample 2000\n",
      "No GPU detected, fall back on CPU.\n",
      "Shift p-vals:  0.6899999976158142\n",
      "winter | SMH | BBSDs_FFNN | LK\n",
      "Shift winter\n"
     ]
    },
    {
     "name": "stderr",
     "output_type": "stream",
     "text": [
      "torch.range is deprecated and will be removed in a future release because its behavior is inconsistent with Python's range builtin. Instead, use torch.arange, which produces values in [start, end).\n",
      "No GPU detected, fall back on CPU.\n",
      "No GPU detected, fall back on CPU.\n",
      "No GPU detected, fall back on CPU.\n",
      "No GPU detected, fall back on CPU.\n"
     ]
    },
    {
     "name": "stdout",
     "output_type": "stream",
     "text": [
      "Random Run 0 : Sample 10\n",
      "Shift p-vals:  1.0\n",
      "Random Run 0 : Sample 20\n",
      "Shift p-vals:  0.25999999046325684\n",
      "Random Run 0 : Sample 50\n",
      "Shift p-vals:  0.33000001311302185\n",
      "Random Run 0 : Sample 100\n"
     ]
    },
    {
     "name": "stderr",
     "output_type": "stream",
     "text": [
      "No GPU detected, fall back on CPU.\n",
      "No GPU detected, fall back on CPU.\n"
     ]
    },
    {
     "name": "stdout",
     "output_type": "stream",
     "text": [
      "Shift p-vals:  0.20999999344348907\n",
      "Random Run 0 : Sample 200\n",
      "Shift p-vals:  0.0\n",
      "Random Run 0 : Sample 500\n"
     ]
    },
    {
     "name": "stderr",
     "output_type": "stream",
     "text": [
      "No GPU detected, fall back on CPU.\n",
      "No GPU detected, fall back on CPU.\n"
     ]
    },
    {
     "name": "stdout",
     "output_type": "stream",
     "text": [
      "Shift p-vals:  0.5400000214576721\n",
      "Random Run 0 : Sample 1000\n",
      "Shift p-vals:  0.8100000023841858\n",
      "Random Run 0 : Sample 2000\n",
      "Shift p-vals:  0.07000000029802322\n"
     ]
    },
    {
     "name": "stderr",
     "output_type": "stream",
     "text": [
      "No GPU detected, fall back on CPU.\n",
      "No GPU detected, fall back on CPU.\n",
      "No GPU detected, fall back on CPU.\n",
      "No GPU detected, fall back on CPU.\n"
     ]
    },
    {
     "name": "stdout",
     "output_type": "stream",
     "text": [
      "Random Run 1 : Sample 10\n",
      "Shift p-vals:  0.1899999976158142\n",
      "Random Run 1 : Sample 20\n",
      "Shift p-vals:  0.3700000047683716\n",
      "Random Run 1 : Sample 50\n",
      "Shift p-vals:  0.7599999904632568\n",
      "Random Run 1 : Sample 100\n"
     ]
    },
    {
     "name": "stderr",
     "output_type": "stream",
     "text": [
      "No GPU detected, fall back on CPU.\n",
      "No GPU detected, fall back on CPU.\n"
     ]
    },
    {
     "name": "stdout",
     "output_type": "stream",
     "text": [
      "Shift p-vals:  0.09000000357627869\n",
      "Random Run 1 : Sample 200\n",
      "Shift p-vals:  0.3799999952316284\n",
      "Random Run 1 : Sample 500\n"
     ]
    },
    {
     "name": "stderr",
     "output_type": "stream",
     "text": [
      "No GPU detected, fall back on CPU.\n",
      "No GPU detected, fall back on CPU.\n"
     ]
    },
    {
     "name": "stdout",
     "output_type": "stream",
     "text": [
      "Shift p-vals:  0.6100000143051147\n",
      "Random Run 1 : Sample 1000\n",
      "Shift p-vals:  0.2199999988079071\n",
      "Random Run 1 : Sample 2000\n",
      "Shift p-vals:  0.8700000047683716\n"
     ]
    },
    {
     "name": "stderr",
     "output_type": "stream",
     "text": [
      "No GPU detected, fall back on CPU.\n",
      "No GPU detected, fall back on CPU.\n",
      "No GPU detected, fall back on CPU.\n",
      "No GPU detected, fall back on CPU.\n"
     ]
    },
    {
     "name": "stdout",
     "output_type": "stream",
     "text": [
      "Random Run 2 : Sample 10\n",
      "Shift p-vals:  0.800000011920929\n",
      "Random Run 2 : Sample 20\n",
      "Shift p-vals:  0.550000011920929\n",
      "Random Run 2 : Sample 50\n",
      "Shift p-vals:  0.41999998688697815\n",
      "Random Run 2 : Sample 100\n"
     ]
    },
    {
     "name": "stderr",
     "output_type": "stream",
     "text": [
      "No GPU detected, fall back on CPU.\n",
      "No GPU detected, fall back on CPU.\n"
     ]
    },
    {
     "name": "stdout",
     "output_type": "stream",
     "text": [
      "Shift p-vals:  0.7699999809265137\n",
      "Random Run 2 : Sample 200\n",
      "Shift p-vals:  0.4099999964237213\n",
      "Random Run 2 : Sample 500\n"
     ]
    },
    {
     "name": "stderr",
     "output_type": "stream",
     "text": [
      "No GPU detected, fall back on CPU.\n",
      "No GPU detected, fall back on CPU.\n"
     ]
    },
    {
     "name": "stdout",
     "output_type": "stream",
     "text": [
      "Shift p-vals:  0.27000001072883606\n",
      "Random Run 2 : Sample 1000\n",
      "Shift p-vals:  0.46000000834465027\n",
      "Random Run 2 : Sample 2000\n",
      "Shift p-vals:  0.8500000238418579\n"
     ]
    },
    {
     "name": "stderr",
     "output_type": "stream",
     "text": [
      "No GPU detected, fall back on CPU.\n",
      "No GPU detected, fall back on CPU.\n",
      "No GPU detected, fall back on CPU.\n",
      "No GPU detected, fall back on CPU.\n"
     ]
    },
    {
     "name": "stdout",
     "output_type": "stream",
     "text": [
      "Random Run 3 : Sample 10\n",
      "Shift p-vals:  0.7900000214576721\n",
      "Random Run 3 : Sample 20\n",
      "Shift p-vals:  0.2800000011920929\n",
      "Random Run 3 : Sample 50\n",
      "Shift p-vals:  0.4699999988079071\n",
      "Random Run 3 : Sample 100\n"
     ]
    },
    {
     "name": "stderr",
     "output_type": "stream",
     "text": [
      "No GPU detected, fall back on CPU.\n",
      "No GPU detected, fall back on CPU.\n"
     ]
    },
    {
     "name": "stdout",
     "output_type": "stream",
     "text": [
      "Shift p-vals:  0.9100000262260437\n",
      "Random Run 3 : Sample 200\n",
      "Shift p-vals:  0.8799999952316284\n",
      "Random Run 3 : Sample 500\n"
     ]
    },
    {
     "name": "stderr",
     "output_type": "stream",
     "text": [
      "No GPU detected, fall back on CPU.\n",
      "No GPU detected, fall back on CPU.\n"
     ]
    },
    {
     "name": "stdout",
     "output_type": "stream",
     "text": [
      "Shift p-vals:  0.25999999046325684\n",
      "Random Run 3 : Sample 1000\n",
      "Shift p-vals:  0.25\n",
      "Random Run 3 : Sample 2000\n",
      "Shift p-vals:  0.14000000059604645\n"
     ]
    },
    {
     "name": "stderr",
     "output_type": "stream",
     "text": [
      "No GPU detected, fall back on CPU.\n",
      "No GPU detected, fall back on CPU.\n",
      "No GPU detected, fall back on CPU.\n",
      "No GPU detected, fall back on CPU.\n"
     ]
    },
    {
     "name": "stdout",
     "output_type": "stream",
     "text": [
      "Random Run 4 : Sample 10\n",
      "Shift p-vals:  0.33000001311302185\n",
      "Random Run 4 : Sample 20\n",
      "Shift p-vals:  0.9300000071525574\n",
      "Random Run 4 : Sample 50\n",
      "Shift p-vals:  0.5400000214576721\n",
      "Random Run 4 : Sample 100\n"
     ]
    },
    {
     "name": "stderr",
     "output_type": "stream",
     "text": [
      "No GPU detected, fall back on CPU.\n",
      "No GPU detected, fall back on CPU.\n"
     ]
    },
    {
     "name": "stdout",
     "output_type": "stream",
     "text": [
      "Shift p-vals:  0.20000000298023224\n",
      "Random Run 4 : Sample 200\n",
      "Shift p-vals:  0.07000000029802322\n",
      "Random Run 4 : Sample 500\n"
     ]
    },
    {
     "name": "stderr",
     "output_type": "stream",
     "text": [
      "No GPU detected, fall back on CPU.\n",
      "No GPU detected, fall back on CPU.\n"
     ]
    },
    {
     "name": "stdout",
     "output_type": "stream",
     "text": [
      "Shift p-vals:  0.15000000596046448\n",
      "Random Run 4 : Sample 1000\n",
      "Shift p-vals:  0.9800000190734863\n",
      "Random Run 4 : Sample 2000\n"
     ]
    },
    {
     "name": "stderr",
     "output_type": "stream",
     "text": [
      "torch.range is deprecated and will be removed in a future release because its behavior is inconsistent with Python's range builtin. Instead, use torch.arange, which produces values in [start, end).\n"
     ]
    },
    {
     "name": "stdout",
     "output_type": "stream",
     "text": [
      "Shift p-vals:  0.23999999463558197\n",
      "winter | SMH | BBSDs_FFNN | LSDD\n",
      "Shift winter\n",
      "Random Run 0 : Sample 10\n",
      "No GPU detected, fall back on CPU.\n",
      "Shift p-vals:  0.6000000238418579\n",
      "Random Run 0 : Sample 20\n",
      "No GPU detected, fall back on CPU.\n",
      "Shift p-vals:  0.3700000047683716\n",
      "Random Run 0 : Sample 50\n",
      "No GPU detected, fall back on CPU.\n",
      "Shift p-vals:  0.8500000238418579\n",
      "Random Run 0 : Sample 100\n",
      "No GPU detected, fall back on CPU.\n",
      "Shift p-vals:  0.3799999952316284\n",
      "Random Run 0 : Sample 200\n",
      "No GPU detected, fall back on CPU.\n",
      "Shift p-vals:  0.8100000023841858\n",
      "Random Run 0 : Sample 500\n",
      "No GPU detected, fall back on CPU.\n",
      "Shift p-vals:  0.7400000095367432\n",
      "Random Run 0 : Sample 1000\n",
      "No GPU detected, fall back on CPU.\n",
      "Shift p-vals:  0.6399999856948853\n",
      "Random Run 0 : Sample 2000\n",
      "No GPU detected, fall back on CPU.\n",
      "Shift p-vals:  0.23000000417232513\n",
      "Random Run 1 : Sample 10\n",
      "No GPU detected, fall back on CPU.\n",
      "Shift p-vals:  0.6200000047683716\n",
      "Random Run 1 : Sample 20\n",
      "No GPU detected, fall back on CPU.\n",
      "Shift p-vals:  0.3499999940395355\n",
      "Random Run 1 : Sample 50\n",
      "No GPU detected, fall back on CPU.\n",
      "Shift p-vals:  0.3199999928474426\n",
      "Random Run 1 : Sample 100\n",
      "No GPU detected, fall back on CPU.\n",
      "Shift p-vals:  0.699999988079071\n",
      "Random Run 1 : Sample 200\n",
      "No GPU detected, fall back on CPU.\n",
      "Shift p-vals:  0.8199999928474426\n",
      "Random Run 1 : Sample 500\n",
      "No GPU detected, fall back on CPU.\n",
      "Shift p-vals:  0.9800000190734863\n",
      "Random Run 1 : Sample 1000\n",
      "No GPU detected, fall back on CPU.\n",
      "Shift p-vals:  0.6200000047683716\n",
      "Random Run 1 : Sample 2000\n",
      "No GPU detected, fall back on CPU.\n",
      "Shift p-vals:  0.6899999976158142\n",
      "Random Run 2 : Sample 10\n",
      "No GPU detected, fall back on CPU.\n",
      "Shift p-vals:  0.5899999737739563\n",
      "Random Run 2 : Sample 20\n",
      "No GPU detected, fall back on CPU.\n",
      "Shift p-vals:  0.12999999523162842\n",
      "Random Run 2 : Sample 50\n",
      "No GPU detected, fall back on CPU.\n",
      "Shift p-vals:  0.550000011920929\n",
      "Random Run 2 : Sample 100\n",
      "No GPU detected, fall back on CPU.\n",
      "Shift p-vals:  0.6600000262260437\n",
      "Random Run 2 : Sample 200\n",
      "No GPU detected, fall back on CPU.\n",
      "Shift p-vals:  0.5400000214576721\n",
      "Random Run 2 : Sample 500\n",
      "No GPU detected, fall back on CPU.\n",
      "Shift p-vals:  0.47999998927116394\n",
      "Random Run 2 : Sample 1000\n",
      "No GPU detected, fall back on CPU.\n",
      "Shift p-vals:  0.6899999976158142\n",
      "Random Run 2 : Sample 2000\n",
      "No GPU detected, fall back on CPU.\n",
      "Shift p-vals:  0.33000001311302185\n",
      "Random Run 3 : Sample 10\n",
      "No GPU detected, fall back on CPU.\n",
      "Shift p-vals:  0.699999988079071\n",
      "Random Run 3 : Sample 20\n",
      "No GPU detected, fall back on CPU.\n",
      "Shift p-vals:  0.7900000214576721\n",
      "Random Run 3 : Sample 50\n",
      "No GPU detected, fall back on CPU.\n",
      "Shift p-vals:  0.4399999976158142\n",
      "Random Run 3 : Sample 100\n",
      "No GPU detected, fall back on CPU.\n",
      "Shift p-vals:  0.18000000715255737\n",
      "Random Run 3 : Sample 200\n",
      "No GPU detected, fall back on CPU.\n",
      "Shift p-vals:  0.3799999952316284\n",
      "Random Run 3 : Sample 500\n",
      "No GPU detected, fall back on CPU.\n",
      "Shift p-vals:  0.3799999952316284\n",
      "Random Run 3 : Sample 1000\n",
      "No GPU detected, fall back on CPU.\n",
      "Shift p-vals:  0.8199999928474426\n",
      "Random Run 3 : Sample 2000\n",
      "No GPU detected, fall back on CPU.\n",
      "Shift p-vals:  0.09000000357627869\n",
      "Random Run 4 : Sample 10\n",
      "No GPU detected, fall back on CPU.\n",
      "Shift p-vals:  0.33000001311302185\n",
      "Random Run 4 : Sample 20\n",
      "No GPU detected, fall back on CPU.\n",
      "Shift p-vals:  0.4699999988079071\n",
      "Random Run 4 : Sample 50\n",
      "No GPU detected, fall back on CPU.\n",
      "Shift p-vals:  0.30000001192092896\n",
      "Random Run 4 : Sample 100\n",
      "No GPU detected, fall back on CPU.\n",
      "Shift p-vals:  0.6499999761581421\n",
      "Random Run 4 : Sample 200\n",
      "No GPU detected, fall back on CPU.\n",
      "Shift p-vals:  0.1599999964237213\n",
      "Random Run 4 : Sample 500\n",
      "No GPU detected, fall back on CPU.\n",
      "Shift p-vals:  0.7200000286102295\n",
      "Random Run 4 : Sample 1000\n",
      "No GPU detected, fall back on CPU.\n",
      "Shift p-vals:  0.11999999731779099\n",
      "Random Run 4 : Sample 2000\n",
      "No GPU detected, fall back on CPU.\n",
      "Shift p-vals:  0.8600000143051147\n",
      "winter | MSH | NoRed | MMD\n",
      "Shift winter\n"
     ]
    },
    {
     "name": "stderr",
     "output_type": "stream",
     "text": [
      "torch.range is deprecated and will be removed in a future release because its behavior is inconsistent with Python's range builtin. Instead, use torch.arange, which produces values in [start, end).\n"
     ]
    },
    {
     "name": "stdout",
     "output_type": "stream",
     "text": [
      "Random Run 0 : Sample 10\n",
      "No GPU detected, fall back on CPU.\n",
      "Shift p-vals:  0.7799999713897705\n",
      "Random Run 0 : Sample 20\n",
      "No GPU detected, fall back on CPU.\n",
      "Shift p-vals:  0.10000000149011612\n",
      "Random Run 0 : Sample 50\n",
      "No GPU detected, fall back on CPU.\n",
      "Shift p-vals:  0.05999999865889549\n",
      "Random Run 0 : Sample 100\n",
      "No GPU detected, fall back on CPU.\n",
      "Shift p-vals:  0.07000000029802322\n",
      "Random Run 0 : Sample 200\n",
      "No GPU detected, fall back on CPU.\n",
      "Shift p-vals:  0.11999999731779099\n",
      "Random Run 0 : Sample 500\n",
      "No GPU detected, fall back on CPU.\n",
      "Shift p-vals:  0.10000000149011612\n",
      "Random Run 0 : Sample 1000\n",
      "No GPU detected, fall back on CPU.\n",
      "Shift p-vals:  0.15000000596046448\n",
      "Random Run 0 : Sample 2000\n",
      "No GPU detected, fall back on CPU.\n",
      "Shift p-vals:  0.17000000178813934\n",
      "Random Run 1 : Sample 10\n",
      "No GPU detected, fall back on CPU.\n",
      "Shift p-vals:  0.23000000417232513\n",
      "Random Run 1 : Sample 20\n",
      "No GPU detected, fall back on CPU.\n",
      "Shift p-vals:  0.33000001311302185\n",
      "Random Run 1 : Sample 50\n",
      "No GPU detected, fall back on CPU.\n",
      "Shift p-vals:  0.4099999964237213\n",
      "Random Run 1 : Sample 100\n",
      "No GPU detected, fall back on CPU.\n",
      "Shift p-vals:  0.2199999988079071\n",
      "Random Run 1 : Sample 200\n",
      "No GPU detected, fall back on CPU.\n",
      "Shift p-vals:  0.30000001192092896\n",
      "Random Run 1 : Sample 500\n",
      "No GPU detected, fall back on CPU.\n",
      "Shift p-vals:  0.2800000011920929\n",
      "Random Run 1 : Sample 1000\n",
      "No GPU detected, fall back on CPU.\n",
      "Shift p-vals:  0.23000000417232513\n",
      "Random Run 1 : Sample 2000\n",
      "No GPU detected, fall back on CPU.\n",
      "Shift p-vals:  0.23999999463558197\n",
      "Random Run 2 : Sample 10\n",
      "No GPU detected, fall back on CPU.\n",
      "Shift p-vals:  0.7300000190734863\n",
      "Random Run 2 : Sample 20\n",
      "No GPU detected, fall back on CPU.\n",
      "Shift p-vals:  0.75\n",
      "Random Run 2 : Sample 50\n",
      "No GPU detected, fall back on CPU.\n",
      "Shift p-vals:  0.5600000023841858\n",
      "Random Run 2 : Sample 100\n",
      "No GPU detected, fall back on CPU.\n",
      "Shift p-vals:  0.5400000214576721\n",
      "Random Run 2 : Sample 200\n",
      "No GPU detected, fall back on CPU.\n",
      "Shift p-vals:  0.5799999833106995\n",
      "Random Run 2 : Sample 500\n",
      "No GPU detected, fall back on CPU.\n",
      "Shift p-vals:  0.6600000262260437\n",
      "Random Run 2 : Sample 1000\n",
      "No GPU detected, fall back on CPU.\n",
      "Shift p-vals:  0.5899999737739563\n",
      "Random Run 2 : Sample 2000\n",
      "No GPU detected, fall back on CPU.\n",
      "Shift p-vals:  0.6399999856948853\n",
      "Random Run 3 : Sample 10\n",
      "No GPU detected, fall back on CPU.\n",
      "Shift p-vals:  0.3199999928474426\n",
      "Random Run 3 : Sample 20\n",
      "No GPU detected, fall back on CPU.\n",
      "Shift p-vals:  0.8700000047683716\n",
      "Random Run 3 : Sample 50\n",
      "No GPU detected, fall back on CPU.\n",
      "Shift p-vals:  0.7099999785423279\n",
      "Random Run 3 : Sample 100\n",
      "No GPU detected, fall back on CPU.\n",
      "Shift p-vals:  0.2199999988079071\n",
      "Random Run 3 : Sample 200\n",
      "No GPU detected, fall back on CPU.\n",
      "Shift p-vals:  0.23999999463558197\n",
      "Random Run 3 : Sample 500\n",
      "No GPU detected, fall back on CPU.\n",
      "Shift p-vals:  0.25999999046325684\n",
      "Random Run 3 : Sample 1000\n",
      "No GPU detected, fall back on CPU.\n",
      "Shift p-vals:  0.23000000417232513\n",
      "Random Run 3 : Sample 2000\n",
      "No GPU detected, fall back on CPU.\n",
      "Shift p-vals:  0.23999999463558197\n",
      "Random Run 4 : Sample 10\n",
      "No GPU detected, fall back on CPU.\n",
      "Shift p-vals:  0.5600000023841858\n",
      "Random Run 4 : Sample 20\n",
      "No GPU detected, fall back on CPU.\n",
      "Shift p-vals:  0.9300000071525574\n",
      "Random Run 4 : Sample 50\n",
      "No GPU detected, fall back on CPU.\n",
      "Shift p-vals:  0.9700000286102295\n",
      "Random Run 4 : Sample 100\n",
      "No GPU detected, fall back on CPU.\n",
      "Shift p-vals:  0.47999998927116394\n",
      "Random Run 4 : Sample 200\n",
      "No GPU detected, fall back on CPU.\n",
      "Shift p-vals:  0.38999998569488525\n",
      "Random Run 4 : Sample 500\n",
      "No GPU detected, fall back on CPU.\n",
      "Shift p-vals:  0.4399999976158142\n",
      "Random Run 4 : Sample 1000\n",
      "No GPU detected, fall back on CPU.\n",
      "Shift p-vals:  0.44999998807907104\n",
      "Random Run 4 : Sample 2000\n",
      "No GPU detected, fall back on CPU.\n",
      "Shift p-vals:  0.41999998688697815\n",
      "winter | MSH | NoRed | LK\n",
      "Shift winter\n"
     ]
    },
    {
     "name": "stderr",
     "output_type": "stream",
     "text": [
      "torch.range is deprecated and will be removed in a future release because its behavior is inconsistent with Python's range builtin. Instead, use torch.arange, which produces values in [start, end).\n",
      "No GPU detected, fall back on CPU.\n",
      "No GPU detected, fall back on CPU.\n",
      "No GPU detected, fall back on CPU.\n",
      "No GPU detected, fall back on CPU.\n",
      "No GPU detected, fall back on CPU.\n",
      "No GPU detected, fall back on CPU.\n",
      "No GPU detected, fall back on CPU.\n",
      "No GPU detected, fall back on CPU.\n"
     ]
    },
    {
     "name": "stdout",
     "output_type": "stream",
     "text": [
      "Random Run 0 : Sample 10\n",
      "Shift p-vals:  0.14000000059604645\n",
      "Random Run 0 : Sample 20\n",
      "Shift p-vals:  0.6399999856948853\n",
      "Random Run 0 : Sample 50\n",
      "Shift p-vals:  0.41999998688697815\n",
      "Random Run 0 : Sample 100\n",
      "Shift p-vals:  0.05000000074505806\n",
      "Random Run 0 : Sample 200\n",
      "Shift p-vals:  0.8399999737739563\n",
      "Random Run 0 : Sample 500\n",
      "Shift p-vals:  0.7400000095367432\n",
      "Random Run 0 : Sample 1000\n",
      "Shift p-vals:  0.4699999988079071\n",
      "Random Run 0 : Sample 2000\n",
      "Shift p-vals:  0.18000000715255737\n"
     ]
    },
    {
     "name": "stderr",
     "output_type": "stream",
     "text": [
      "No GPU detected, fall back on CPU.\n",
      "No GPU detected, fall back on CPU.\n",
      "No GPU detected, fall back on CPU.\n",
      "No GPU detected, fall back on CPU.\n",
      "No GPU detected, fall back on CPU.\n",
      "No GPU detected, fall back on CPU.\n",
      "No GPU detected, fall back on CPU.\n",
      "No GPU detected, fall back on CPU.\n"
     ]
    },
    {
     "name": "stdout",
     "output_type": "stream",
     "text": [
      "Random Run 1 : Sample 10\n",
      "Shift p-vals:  0.4300000071525574\n",
      "Random Run 1 : Sample 20\n",
      "Shift p-vals:  0.8100000023841858\n",
      "Random Run 1 : Sample 50\n",
      "Shift p-vals:  0.07999999821186066\n",
      "Random Run 1 : Sample 100\n",
      "Shift p-vals:  0.019999999552965164\n",
      "Random Run 1 : Sample 200\n",
      "Shift p-vals:  0.5\n",
      "Random Run 1 : Sample 500\n",
      "Shift p-vals:  0.44999998807907104\n",
      "Random Run 1 : Sample 1000\n",
      "Shift p-vals:  0.03999999910593033\n",
      "Random Run 1 : Sample 2000\n",
      "Shift p-vals:  0.14000000059604645\n"
     ]
    },
    {
     "name": "stderr",
     "output_type": "stream",
     "text": [
      "No GPU detected, fall back on CPU.\n",
      "No GPU detected, fall back on CPU.\n",
      "No GPU detected, fall back on CPU.\n",
      "No GPU detected, fall back on CPU.\n",
      "No GPU detected, fall back on CPU.\n",
      "No GPU detected, fall back on CPU.\n",
      "No GPU detected, fall back on CPU.\n",
      "No GPU detected, fall back on CPU.\n"
     ]
    },
    {
     "name": "stdout",
     "output_type": "stream",
     "text": [
      "Random Run 2 : Sample 10\n",
      "Shift p-vals:  0.36000001430511475\n",
      "Random Run 2 : Sample 20\n",
      "Shift p-vals:  0.6000000238418579\n",
      "Random Run 2 : Sample 50\n",
      "Shift p-vals:  0.8700000047683716\n",
      "Random Run 2 : Sample 100\n",
      "Shift p-vals:  1.0\n",
      "Random Run 2 : Sample 200\n",
      "Shift p-vals:  0.6200000047683716\n",
      "Random Run 2 : Sample 500\n",
      "Shift p-vals:  0.33000001311302185\n",
      "Random Run 2 : Sample 1000\n",
      "Shift p-vals:  0.03999999910593033\n",
      "Random Run 2 : Sample 2000\n",
      "Shift p-vals:  0.20999999344348907\n"
     ]
    },
    {
     "name": "stderr",
     "output_type": "stream",
     "text": [
      "No GPU detected, fall back on CPU.\n",
      "No GPU detected, fall back on CPU.\n",
      "No GPU detected, fall back on CPU.\n",
      "No GPU detected, fall back on CPU.\n",
      "No GPU detected, fall back on CPU.\n",
      "No GPU detected, fall back on CPU.\n",
      "No GPU detected, fall back on CPU.\n",
      "No GPU detected, fall back on CPU.\n"
     ]
    },
    {
     "name": "stdout",
     "output_type": "stream",
     "text": [
      "Random Run 3 : Sample 10\n",
      "Shift p-vals:  0.4000000059604645\n",
      "Random Run 3 : Sample 20\n",
      "Shift p-vals:  0.7900000214576721\n",
      "Random Run 3 : Sample 50\n",
      "Shift p-vals:  0.949999988079071\n",
      "Random Run 3 : Sample 100\n",
      "Shift p-vals:  0.7900000214576721\n",
      "Random Run 3 : Sample 200\n",
      "Shift p-vals:  0.8199999928474426\n",
      "Random Run 3 : Sample 500\n",
      "Shift p-vals:  0.5699999928474426\n",
      "Random Run 3 : Sample 1000\n",
      "Shift p-vals:  0.11999999731779099\n",
      "Random Run 3 : Sample 2000\n",
      "Shift p-vals:  0.8799999952316284\n"
     ]
    },
    {
     "name": "stderr",
     "output_type": "stream",
     "text": [
      "No GPU detected, fall back on CPU.\n",
      "No GPU detected, fall back on CPU.\n",
      "No GPU detected, fall back on CPU.\n",
      "No GPU detected, fall back on CPU.\n",
      "No GPU detected, fall back on CPU.\n",
      "No GPU detected, fall back on CPU.\n",
      "No GPU detected, fall back on CPU.\n",
      "No GPU detected, fall back on CPU.\n"
     ]
    },
    {
     "name": "stdout",
     "output_type": "stream",
     "text": [
      "Random Run 4 : Sample 10\n",
      "Shift p-vals:  0.44999998807907104\n",
      "Random Run 4 : Sample 20\n",
      "Shift p-vals:  0.6299999952316284\n",
      "Random Run 4 : Sample 50\n",
      "Shift p-vals:  0.7900000214576721\n",
      "Random Run 4 : Sample 100\n",
      "Shift p-vals:  0.28999999165534973\n",
      "Random Run 4 : Sample 200\n",
      "Shift p-vals:  0.3499999940395355\n",
      "Random Run 4 : Sample 500\n",
      "Shift p-vals:  0.03999999910593033\n",
      "Random Run 4 : Sample 1000\n",
      "Shift p-vals:  0.8199999928474426\n",
      "Random Run 4 : Sample 2000\n",
      "Shift p-vals:  0.4000000059604645\n",
      "winter | MSH | NoRed | LSDD\n",
      "Shift winter\n"
     ]
    },
    {
     "name": "stderr",
     "output_type": "stream",
     "text": [
      "torch.range is deprecated and will be removed in a future release because its behavior is inconsistent with Python's range builtin. Instead, use torch.arange, which produces values in [start, end).\n"
     ]
    },
    {
     "name": "stdout",
     "output_type": "stream",
     "text": [
      "Random Run 0 : Sample 10\n",
      "No GPU detected, fall back on CPU.\n",
      "Shift p-vals:  0.019999999552965164\n",
      "Random Run 0 : Sample 20\n",
      "No GPU detected, fall back on CPU.\n",
      "Shift p-vals:  0.5299999713897705\n",
      "Random Run 0 : Sample 50\n",
      "No GPU detected, fall back on CPU.\n",
      "Shift p-vals:  0.07999999821186066\n",
      "Random Run 0 : Sample 100\n",
      "No GPU detected, fall back on CPU.\n",
      "Shift p-vals:  0.10000000149011612\n",
      "Random Run 0 : Sample 200\n",
      "No GPU detected, fall back on CPU.\n",
      "Shift p-vals:  0.18000000715255737\n",
      "Random Run 0 : Sample 500\n",
      "No GPU detected, fall back on CPU.\n",
      "Shift p-vals:  0.05000000074505806\n",
      "Random Run 0 : Sample 1000\n",
      "No GPU detected, fall back on CPU.\n",
      "Shift p-vals:  0.009999999776482582\n",
      "Random Run 0 : Sample 2000\n",
      "No GPU detected, fall back on CPU.\n",
      "Shift p-vals:  0.029999999329447746\n",
      "Random Run 1 : Sample 10\n",
      "No GPU detected, fall back on CPU.\n",
      "Shift p-vals:  0.009999999776482582\n",
      "Random Run 1 : Sample 20\n",
      "No GPU detected, fall back on CPU.\n",
      "Shift p-vals:  0.9100000262260437\n",
      "Random Run 1 : Sample 50\n",
      "No GPU detected, fall back on CPU.\n",
      "Shift p-vals:  0.6499999761581421\n",
      "Random Run 1 : Sample 100\n",
      "No GPU detected, fall back on CPU.\n",
      "Shift p-vals:  0.10000000149011612\n",
      "Random Run 1 : Sample 200\n",
      "No GPU detected, fall back on CPU.\n",
      "Shift p-vals:  0.11999999731779099\n",
      "Random Run 1 : Sample 500\n",
      "No GPU detected, fall back on CPU.\n",
      "Shift p-vals:  0.41999998688697815\n",
      "Random Run 1 : Sample 1000\n",
      "No GPU detected, fall back on CPU.\n",
      "Shift p-vals:  0.28999999165534973\n",
      "Random Run 1 : Sample 2000\n",
      "No GPU detected, fall back on CPU.\n",
      "Shift p-vals:  0.2800000011920929\n",
      "Random Run 2 : Sample 10\n",
      "No GPU detected, fall back on CPU.\n",
      "Shift p-vals:  0.029999999329447746\n",
      "Random Run 2 : Sample 20\n",
      "No GPU detected, fall back on CPU.\n",
      "Shift p-vals:  0.800000011920929\n",
      "Random Run 2 : Sample 50\n",
      "No GPU detected, fall back on CPU.\n",
      "Shift p-vals:  0.10000000149011612\n",
      "Random Run 2 : Sample 100\n",
      "No GPU detected, fall back on CPU.\n",
      "Shift p-vals:  0.07999999821186066\n",
      "Random Run 2 : Sample 200\n",
      "No GPU detected, fall back on CPU.\n",
      "Shift p-vals:  0.0\n",
      "Random Run 2 : Sample 500\n",
      "No GPU detected, fall back on CPU.\n",
      "Shift p-vals:  0.05999999865889549\n",
      "Random Run 2 : Sample 1000\n",
      "No GPU detected, fall back on CPU.\n",
      "Shift p-vals:  0.07999999821186066\n",
      "Random Run 2 : Sample 2000\n",
      "No GPU detected, fall back on CPU.\n",
      "Shift p-vals:  0.0\n",
      "Random Run 3 : Sample 10\n",
      "No GPU detected, fall back on CPU.\n",
      "Shift p-vals:  0.009999999776482582\n",
      "Random Run 3 : Sample 20\n",
      "No GPU detected, fall back on CPU.\n",
      "Shift p-vals:  0.1599999964237213\n",
      "Random Run 3 : Sample 50\n",
      "No GPU detected, fall back on CPU.\n",
      "Shift p-vals:  0.09000000357627869\n",
      "Random Run 3 : Sample 100\n",
      "No GPU detected, fall back on CPU.\n",
      "Shift p-vals:  0.0\n",
      "Random Run 3 : Sample 200\n",
      "No GPU detected, fall back on CPU.\n",
      "Shift p-vals:  0.0\n",
      "Random Run 3 : Sample 500\n",
      "No GPU detected, fall back on CPU.\n",
      "Shift p-vals:  0.009999999776482582\n",
      "Random Run 3 : Sample 1000\n",
      "No GPU detected, fall back on CPU.\n",
      "Shift p-vals:  0.0\n",
      "Random Run 3 : Sample 2000\n",
      "No GPU detected, fall back on CPU.\n",
      "Shift p-vals:  0.009999999776482582\n",
      "Random Run 4 : Sample 10\n",
      "No GPU detected, fall back on CPU.\n",
      "Shift p-vals:  0.07000000029802322\n",
      "Random Run 4 : Sample 20\n",
      "No GPU detected, fall back on CPU.\n",
      "Shift p-vals:  0.5600000023841858\n",
      "Random Run 4 : Sample 50\n",
      "No GPU detected, fall back on CPU.\n",
      "Shift p-vals:  0.20999999344348907\n",
      "Random Run 4 : Sample 100\n",
      "No GPU detected, fall back on CPU.\n",
      "Shift p-vals:  0.20999999344348907\n",
      "Random Run 4 : Sample 200\n",
      "No GPU detected, fall back on CPU.\n",
      "Shift p-vals:  0.18000000715255737\n",
      "Random Run 4 : Sample 500\n",
      "No GPU detected, fall back on CPU.\n",
      "Shift p-vals:  0.07999999821186066\n",
      "Random Run 4 : Sample 1000\n",
      "No GPU detected, fall back on CPU.\n",
      "Shift p-vals:  0.11999999731779099\n",
      "Random Run 4 : Sample 2000\n",
      "No GPU detected, fall back on CPU.\n",
      "Shift p-vals:  0.05000000074505806\n",
      "winter | MSH | SRP | MMD\n",
      "Shift winter\n"
     ]
    },
    {
     "name": "stderr",
     "output_type": "stream",
     "text": [
      "torch.range is deprecated and will be removed in a future release because its behavior is inconsistent with Python's range builtin. Instead, use torch.arange, which produces values in [start, end).\n"
     ]
    },
    {
     "name": "stdout",
     "output_type": "stream",
     "text": [
      "Random Run 0 : Sample 10\n",
      "No GPU detected, fall back on CPU.\n",
      "Shift p-vals:  0.5199999809265137\n",
      "Random Run 0 : Sample 20\n",
      "No GPU detected, fall back on CPU.\n",
      "Shift p-vals:  0.6299999952316284\n",
      "Random Run 0 : Sample 50\n",
      "No GPU detected, fall back on CPU.\n",
      "Shift p-vals:  0.7599999904632568\n",
      "Random Run 0 : Sample 100\n",
      "No GPU detected, fall back on CPU.\n",
      "Shift p-vals:  0.7900000214576721\n",
      "Random Run 0 : Sample 200\n",
      "No GPU detected, fall back on CPU.\n",
      "Shift p-vals:  0.2199999988079071\n",
      "Random Run 0 : Sample 500\n",
      "No GPU detected, fall back on CPU.\n",
      "Shift p-vals:  0.33000001311302185\n",
      "Random Run 0 : Sample 1000\n",
      "No GPU detected, fall back on CPU.\n",
      "Shift p-vals:  0.009999999776482582\n",
      "Random Run 0 : Sample 2000\n",
      "No GPU detected, fall back on CPU.\n",
      "Shift p-vals:  0.27000001072883606\n",
      "Random Run 1 : Sample 10\n",
      "No GPU detected, fall back on CPU.\n",
      "Shift p-vals:  0.6200000047683716\n",
      "Random Run 1 : Sample 20\n",
      "No GPU detected, fall back on CPU.\n",
      "Shift p-vals:  0.07999999821186066\n",
      "Random Run 1 : Sample 50\n",
      "No GPU detected, fall back on CPU.\n",
      "Shift p-vals:  0.11999999731779099\n",
      "Random Run 1 : Sample 100\n",
      "No GPU detected, fall back on CPU.\n",
      "Shift p-vals:  0.23000000417232513\n",
      "Random Run 1 : Sample 200\n",
      "No GPU detected, fall back on CPU.\n",
      "Shift p-vals:  0.25999999046325684\n",
      "Random Run 1 : Sample 500\n",
      "No GPU detected, fall back on CPU.\n",
      "Shift p-vals:  0.1899999976158142\n",
      "Random Run 1 : Sample 1000\n",
      "No GPU detected, fall back on CPU.\n",
      "Shift p-vals:  0.1599999964237213\n",
      "Random Run 1 : Sample 2000\n",
      "No GPU detected, fall back on CPU.\n",
      "Shift p-vals:  0.10999999940395355\n",
      "Random Run 2 : Sample 10\n",
      "No GPU detected, fall back on CPU.\n",
      "Shift p-vals:  0.7599999904632568\n",
      "Random Run 2 : Sample 20\n",
      "No GPU detected, fall back on CPU.\n",
      "Shift p-vals:  0.5\n",
      "Random Run 2 : Sample 50\n",
      "No GPU detected, fall back on CPU.\n",
      "Shift p-vals:  0.2199999988079071\n",
      "Random Run 2 : Sample 100\n",
      "No GPU detected, fall back on CPU.\n",
      "Shift p-vals:  0.9200000166893005\n",
      "Random Run 2 : Sample 200\n",
      "No GPU detected, fall back on CPU.\n",
      "Shift p-vals:  0.1899999976158142\n",
      "Random Run 2 : Sample 500\n",
      "No GPU detected, fall back on CPU.\n",
      "Shift p-vals:  0.8799999952316284\n",
      "Random Run 2 : Sample 1000\n",
      "No GPU detected, fall back on CPU.\n",
      "Shift p-vals:  0.38999998569488525\n",
      "Random Run 2 : Sample 2000\n",
      "No GPU detected, fall back on CPU.\n",
      "Shift p-vals:  0.6700000166893005\n",
      "Random Run 3 : Sample 10\n",
      "No GPU detected, fall back on CPU.\n",
      "Shift p-vals:  0.3100000023841858\n",
      "Random Run 3 : Sample 20\n",
      "No GPU detected, fall back on CPU.\n",
      "Shift p-vals:  0.5600000023841858\n",
      "Random Run 3 : Sample 50\n",
      "No GPU detected, fall back on CPU.\n",
      "Shift p-vals:  0.5199999809265137\n",
      "Random Run 3 : Sample 100\n",
      "No GPU detected, fall back on CPU.\n",
      "Shift p-vals:  0.44999998807907104\n",
      "Random Run 3 : Sample 200\n",
      "No GPU detected, fall back on CPU.\n",
      "Shift p-vals:  0.07999999821186066\n",
      "Random Run 3 : Sample 500\n",
      "No GPU detected, fall back on CPU.\n",
      "Shift p-vals:  0.5799999833106995\n",
      "Random Run 3 : Sample 1000\n",
      "No GPU detected, fall back on CPU.\n",
      "Shift p-vals:  0.33000001311302185\n",
      "Random Run 3 : Sample 2000\n",
      "No GPU detected, fall back on CPU.\n",
      "Shift p-vals:  0.07000000029802322\n",
      "Random Run 4 : Sample 10\n",
      "No GPU detected, fall back on CPU.\n",
      "Shift p-vals:  0.4699999988079071\n",
      "Random Run 4 : Sample 20\n",
      "No GPU detected, fall back on CPU.\n",
      "Shift p-vals:  0.6200000047683716\n",
      "Random Run 4 : Sample 50\n",
      "No GPU detected, fall back on CPU.\n",
      "Shift p-vals:  0.7900000214576721\n",
      "Random Run 4 : Sample 100\n",
      "No GPU detected, fall back on CPU.\n",
      "Shift p-vals:  0.8199999928474426\n",
      "Random Run 4 : Sample 200\n",
      "No GPU detected, fall back on CPU.\n",
      "Shift p-vals:  0.6200000047683716\n",
      "Random Run 4 : Sample 500\n",
      "No GPU detected, fall back on CPU.\n",
      "Shift p-vals:  0.07000000029802322\n",
      "Random Run 4 : Sample 1000\n",
      "No GPU detected, fall back on CPU.\n",
      "Shift p-vals:  0.8199999928474426\n",
      "Random Run 4 : Sample 2000\n",
      "No GPU detected, fall back on CPU.\n",
      "Shift p-vals:  0.7300000190734863\n",
      "winter | MSH | SRP | LK\n",
      "Shift winter\n"
     ]
    },
    {
     "name": "stderr",
     "output_type": "stream",
     "text": [
      "torch.range is deprecated and will be removed in a future release because its behavior is inconsistent with Python's range builtin. Instead, use torch.arange, which produces values in [start, end).\n",
      "No GPU detected, fall back on CPU.\n",
      "No GPU detected, fall back on CPU.\n",
      "No GPU detected, fall back on CPU.\n",
      "No GPU detected, fall back on CPU.\n",
      "No GPU detected, fall back on CPU.\n",
      "No GPU detected, fall back on CPU.\n",
      "No GPU detected, fall back on CPU.\n",
      "No GPU detected, fall back on CPU.\n"
     ]
    },
    {
     "name": "stdout",
     "output_type": "stream",
     "text": [
      "Random Run 0 : Sample 10\n",
      "Shift p-vals:  0.30000001192092896\n",
      "Random Run 0 : Sample 20\n",
      "Shift p-vals:  0.03999999910593033\n",
      "Random Run 0 : Sample 50\n",
      "Shift p-vals:  0.029999999329447746\n",
      "Random Run 0 : Sample 100\n",
      "Shift p-vals:  0.9100000262260437\n",
      "Random Run 0 : Sample 200\n",
      "Shift p-vals:  0.5600000023841858\n",
      "Random Run 0 : Sample 500\n",
      "Shift p-vals:  0.6200000047683716\n",
      "Random Run 0 : Sample 1000\n",
      "Shift p-vals:  0.8799999952316284\n",
      "Random Run 0 : Sample 2000\n",
      "Shift p-vals:  0.7300000190734863\n"
     ]
    },
    {
     "name": "stderr",
     "output_type": "stream",
     "text": [
      "No GPU detected, fall back on CPU.\n",
      "No GPU detected, fall back on CPU.\n",
      "No GPU detected, fall back on CPU.\n",
      "No GPU detected, fall back on CPU.\n",
      "No GPU detected, fall back on CPU.\n",
      "No GPU detected, fall back on CPU.\n",
      "No GPU detected, fall back on CPU.\n",
      "No GPU detected, fall back on CPU.\n"
     ]
    },
    {
     "name": "stdout",
     "output_type": "stream",
     "text": [
      "Random Run 1 : Sample 10\n",
      "Shift p-vals:  0.3799999952316284\n",
      "Random Run 1 : Sample 20\n",
      "Shift p-vals:  0.0\n",
      "Random Run 1 : Sample 50\n",
      "Shift p-vals:  0.75\n",
      "Random Run 1 : Sample 100\n",
      "Shift p-vals:  0.009999999776482582\n",
      "Random Run 1 : Sample 200\n",
      "Shift p-vals:  0.7699999809265137\n",
      "Random Run 1 : Sample 500\n",
      "Shift p-vals:  0.15000000596046448\n",
      "Random Run 1 : Sample 1000\n",
      "Shift p-vals:  0.800000011920929\n",
      "Random Run 1 : Sample 2000\n",
      "Shift p-vals:  0.25999999046325684\n"
     ]
    },
    {
     "name": "stderr",
     "output_type": "stream",
     "text": [
      "No GPU detected, fall back on CPU.\n",
      "No GPU detected, fall back on CPU.\n",
      "No GPU detected, fall back on CPU.\n",
      "No GPU detected, fall back on CPU.\n",
      "No GPU detected, fall back on CPU.\n",
      "No GPU detected, fall back on CPU.\n",
      "No GPU detected, fall back on CPU.\n",
      "No GPU detected, fall back on CPU.\n"
     ]
    },
    {
     "name": "stdout",
     "output_type": "stream",
     "text": [
      "Random Run 2 : Sample 10\n",
      "Shift p-vals:  0.09000000357627869\n",
      "Random Run 2 : Sample 20\n",
      "Shift p-vals:  0.8799999952316284\n",
      "Random Run 2 : Sample 50\n",
      "Shift p-vals:  0.3199999928474426\n",
      "Random Run 2 : Sample 100\n",
      "Shift p-vals:  0.7300000190734863\n",
      "Random Run 2 : Sample 200\n",
      "Shift p-vals:  0.8700000047683716\n",
      "Random Run 2 : Sample 500\n",
      "Shift p-vals:  0.14000000059604645\n",
      "Random Run 2 : Sample 1000\n",
      "Shift p-vals:  0.17000000178813934\n",
      "Random Run 2 : Sample 2000\n",
      "Shift p-vals:  0.3499999940395355\n"
     ]
    },
    {
     "name": "stderr",
     "output_type": "stream",
     "text": [
      "No GPU detected, fall back on CPU.\n",
      "No GPU detected, fall back on CPU.\n",
      "No GPU detected, fall back on CPU.\n",
      "No GPU detected, fall back on CPU.\n",
      "No GPU detected, fall back on CPU.\n",
      "No GPU detected, fall back on CPU.\n",
      "No GPU detected, fall back on CPU.\n",
      "No GPU detected, fall back on CPU.\n"
     ]
    },
    {
     "name": "stdout",
     "output_type": "stream",
     "text": [
      "Random Run 3 : Sample 10\n",
      "Shift p-vals:  0.6600000262260437\n",
      "Random Run 3 : Sample 20\n",
      "Shift p-vals:  0.12999999523162842\n",
      "Random Run 3 : Sample 50\n",
      "Shift p-vals:  0.8199999928474426\n",
      "Random Run 3 : Sample 100\n",
      "Shift p-vals:  0.41999998688697815\n",
      "Random Run 3 : Sample 200\n",
      "Shift p-vals:  0.5799999833106995\n",
      "Random Run 3 : Sample 500\n",
      "Shift p-vals:  0.27000001072883606\n",
      "Random Run 3 : Sample 1000\n",
      "Shift p-vals:  0.44999998807907104\n",
      "Random Run 3 : Sample 2000\n",
      "Shift p-vals:  0.8199999928474426\n"
     ]
    },
    {
     "name": "stderr",
     "output_type": "stream",
     "text": [
      "No GPU detected, fall back on CPU.\n",
      "No GPU detected, fall back on CPU.\n",
      "No GPU detected, fall back on CPU.\n",
      "No GPU detected, fall back on CPU.\n",
      "No GPU detected, fall back on CPU.\n",
      "No GPU detected, fall back on CPU.\n",
      "No GPU detected, fall back on CPU.\n",
      "No GPU detected, fall back on CPU.\n"
     ]
    },
    {
     "name": "stdout",
     "output_type": "stream",
     "text": [
      "Random Run 4 : Sample 10\n",
      "Shift p-vals:  0.07999999821186066\n",
      "Random Run 4 : Sample 20\n",
      "Shift p-vals:  0.9800000190734863\n",
      "Random Run 4 : Sample 50\n",
      "Shift p-vals:  0.49000000953674316\n",
      "Random Run 4 : Sample 100\n",
      "Shift p-vals:  0.2800000011920929\n",
      "Random Run 4 : Sample 200\n",
      "Shift p-vals:  0.5199999809265137\n",
      "Random Run 4 : Sample 500\n",
      "Shift p-vals:  0.8600000143051147\n",
      "Random Run 4 : Sample 1000\n",
      "Shift p-vals:  0.7599999904632568\n",
      "Random Run 4 : Sample 2000\n",
      "Shift p-vals:  0.5199999809265137\n",
      "winter | MSH | SRP | LSDD\n",
      "Shift winter\n"
     ]
    },
    {
     "name": "stderr",
     "output_type": "stream",
     "text": [
      "torch.range is deprecated and will be removed in a future release because its behavior is inconsistent with Python's range builtin. Instead, use torch.arange, which produces values in [start, end).\n"
     ]
    },
    {
     "name": "stdout",
     "output_type": "stream",
     "text": [
      "Random Run 0 : Sample 10\n",
      "No GPU detected, fall back on CPU.\n",
      "Shift p-vals:  0.6000000238418579\n",
      "Random Run 0 : Sample 20\n",
      "No GPU detected, fall back on CPU.\n",
      "Shift p-vals:  0.14000000059604645\n",
      "Random Run 0 : Sample 50\n",
      "No GPU detected, fall back on CPU.\n",
      "Shift p-vals:  0.949999988079071\n",
      "Random Run 0 : Sample 100\n",
      "No GPU detected, fall back on CPU.\n",
      "Shift p-vals:  0.33000001311302185\n",
      "Random Run 0 : Sample 200\n",
      "No GPU detected, fall back on CPU.\n",
      "Shift p-vals:  0.3199999928474426\n",
      "Random Run 0 : Sample 500\n",
      "No GPU detected, fall back on CPU.\n",
      "Shift p-vals:  0.0\n",
      "Random Run 0 : Sample 1000\n",
      "No GPU detected, fall back on CPU.\n",
      "Shift p-vals:  0.8100000023841858\n",
      "Random Run 0 : Sample 2000\n",
      "No GPU detected, fall back on CPU.\n",
      "Shift p-vals:  0.9399999976158142\n",
      "Random Run 1 : Sample 10\n",
      "No GPU detected, fall back on CPU.\n",
      "Shift p-vals:  0.4000000059604645\n",
      "Random Run 1 : Sample 20\n",
      "No GPU detected, fall back on CPU.\n",
      "Shift p-vals:  0.4399999976158142\n",
      "Random Run 1 : Sample 50\n",
      "No GPU detected, fall back on CPU.\n",
      "Shift p-vals:  0.5099999904632568\n",
      "Random Run 1 : Sample 100\n",
      "No GPU detected, fall back on CPU.\n",
      "Shift p-vals:  0.699999988079071\n",
      "Random Run 1 : Sample 200\n",
      "No GPU detected, fall back on CPU.\n",
      "Shift p-vals:  0.12999999523162842\n",
      "Random Run 1 : Sample 500\n",
      "No GPU detected, fall back on CPU.\n",
      "Shift p-vals:  0.949999988079071\n",
      "Random Run 1 : Sample 1000\n",
      "No GPU detected, fall back on CPU.\n",
      "Shift p-vals:  0.1899999976158142\n",
      "Random Run 1 : Sample 2000\n",
      "No GPU detected, fall back on CPU.\n",
      "Shift p-vals:  0.3700000047683716\n",
      "Random Run 2 : Sample 10\n",
      "No GPU detected, fall back on CPU.\n",
      "Shift p-vals:  0.05000000074505806\n",
      "Random Run 2 : Sample 20\n",
      "No GPU detected, fall back on CPU.\n",
      "Shift p-vals:  0.7699999809265137\n",
      "Random Run 2 : Sample 50\n",
      "No GPU detected, fall back on CPU.\n",
      "Shift p-vals:  0.3400000035762787\n",
      "Random Run 2 : Sample 100\n",
      "No GPU detected, fall back on CPU.\n",
      "Shift p-vals:  0.20999999344348907\n",
      "Random Run 2 : Sample 200\n",
      "No GPU detected, fall back on CPU.\n",
      "Shift p-vals:  0.0\n",
      "Random Run 2 : Sample 500\n",
      "No GPU detected, fall back on CPU.\n",
      "Shift p-vals:  0.28999999165534973\n",
      "Random Run 2 : Sample 1000\n",
      "No GPU detected, fall back on CPU.\n",
      "Shift p-vals:  0.6399999856948853\n",
      "Random Run 2 : Sample 2000\n",
      "No GPU detected, fall back on CPU.\n",
      "Shift p-vals:  0.9200000166893005\n",
      "Random Run 3 : Sample 10\n",
      "No GPU detected, fall back on CPU.\n",
      "Shift p-vals:  1.0\n",
      "Random Run 3 : Sample 20\n",
      "No GPU detected, fall back on CPU.\n",
      "Shift p-vals:  0.25999999046325684\n",
      "Random Run 3 : Sample 50\n",
      "No GPU detected, fall back on CPU.\n",
      "Shift p-vals:  0.8999999761581421\n",
      "Random Run 3 : Sample 100\n",
      "No GPU detected, fall back on CPU.\n",
      "Shift p-vals:  0.05000000074505806\n",
      "Random Run 3 : Sample 200\n",
      "No GPU detected, fall back on CPU.\n",
      "Shift p-vals:  0.30000001192092896\n",
      "Random Run 3 : Sample 500\n",
      "No GPU detected, fall back on CPU.\n",
      "Shift p-vals:  0.33000001311302185\n",
      "Random Run 3 : Sample 1000\n",
      "No GPU detected, fall back on CPU.\n",
      "Shift p-vals:  0.75\n",
      "Random Run 3 : Sample 2000\n",
      "No GPU detected, fall back on CPU.\n",
      "Shift p-vals:  0.7699999809265137\n",
      "Random Run 4 : Sample 10\n",
      "No GPU detected, fall back on CPU.\n",
      "Shift p-vals:  0.7099999785423279\n",
      "Random Run 4 : Sample 20\n",
      "No GPU detected, fall back on CPU.\n",
      "Shift p-vals:  0.5699999928474426\n",
      "Random Run 4 : Sample 50\n",
      "No GPU detected, fall back on CPU.\n",
      "Shift p-vals:  0.6000000238418579\n",
      "Random Run 4 : Sample 100\n",
      "No GPU detected, fall back on CPU.\n",
      "Shift p-vals:  0.8199999928474426\n",
      "Random Run 4 : Sample 200\n",
      "No GPU detected, fall back on CPU.\n",
      "Shift p-vals:  0.9599999785423279\n",
      "Random Run 4 : Sample 500\n",
      "No GPU detected, fall back on CPU.\n",
      "Shift p-vals:  0.4699999988079071\n",
      "Random Run 4 : Sample 1000\n",
      "No GPU detected, fall back on CPU.\n",
      "Shift p-vals:  0.699999988079071\n",
      "Random Run 4 : Sample 2000\n",
      "No GPU detected, fall back on CPU.\n",
      "Shift p-vals:  0.6299999952316284\n",
      "winter | MSH | PCA | MMD\n",
      "Shift winter\n"
     ]
    },
    {
     "name": "stderr",
     "output_type": "stream",
     "text": [
      "torch.range is deprecated and will be removed in a future release because its behavior is inconsistent with Python's range builtin. Instead, use torch.arange, which produces values in [start, end).\n"
     ]
    },
    {
     "name": "stdout",
     "output_type": "stream",
     "text": [
      "Random Run 0 : Sample 10\n",
      "No GPU detected, fall back on CPU.\n",
      "Shift p-vals:  0.7400000095367432\n",
      "Random Run 0 : Sample 20\n",
      "No GPU detected, fall back on CPU.\n",
      "Shift p-vals:  0.07999999821186066\n",
      "Random Run 0 : Sample 50\n",
      "No GPU detected, fall back on CPU.\n",
      "Shift p-vals:  0.019999999552965164\n",
      "Random Run 0 : Sample 100\n",
      "No GPU detected, fall back on CPU.\n",
      "Shift p-vals:  0.10000000149011612\n",
      "Random Run 0 : Sample 200\n",
      "No GPU detected, fall back on CPU.\n",
      "Shift p-vals:  0.07999999821186066\n",
      "Random Run 0 : Sample 500\n",
      "No GPU detected, fall back on CPU.\n",
      "Shift p-vals:  0.1599999964237213\n",
      "Random Run 0 : Sample 1000\n",
      "No GPU detected, fall back on CPU.\n",
      "Shift p-vals:  0.14000000059604645\n",
      "Random Run 0 : Sample 2000\n",
      "No GPU detected, fall back on CPU.\n",
      "Shift p-vals:  0.10000000149011612\n",
      "Random Run 1 : Sample 10\n",
      "No GPU detected, fall back on CPU.\n",
      "Shift p-vals:  0.03999999910593033\n",
      "Random Run 1 : Sample 20\n",
      "No GPU detected, fall back on CPU.\n",
      "Shift p-vals:  0.9100000262260437\n",
      "Random Run 1 : Sample 50\n",
      "No GPU detected, fall back on CPU.\n",
      "Shift p-vals:  0.8199999928474426\n",
      "Random Run 1 : Sample 100\n",
      "No GPU detected, fall back on CPU.\n",
      "Shift p-vals:  0.7099999785423279\n",
      "Random Run 1 : Sample 200\n",
      "No GPU detected, fall back on CPU.\n",
      "Shift p-vals:  0.6800000071525574\n",
      "Random Run 1 : Sample 500\n",
      "No GPU detected, fall back on CPU.\n",
      "Shift p-vals:  0.6499999761581421\n",
      "Random Run 1 : Sample 1000\n",
      "No GPU detected, fall back on CPU.\n",
      "Shift p-vals:  0.7200000286102295\n",
      "Random Run 1 : Sample 2000\n",
      "No GPU detected, fall back on CPU.\n",
      "Shift p-vals:  0.6399999856948853\n",
      "Random Run 2 : Sample 10\n",
      "No GPU detected, fall back on CPU.\n",
      "Shift p-vals:  0.38999998569488525\n",
      "Random Run 2 : Sample 20\n",
      "No GPU detected, fall back on CPU.\n",
      "Shift p-vals:  0.7799999713897705\n",
      "Random Run 2 : Sample 50\n",
      "No GPU detected, fall back on CPU.\n",
      "Shift p-vals:  0.6200000047683716\n",
      "Random Run 2 : Sample 100\n",
      "No GPU detected, fall back on CPU.\n",
      "Shift p-vals:  0.33000001311302185\n",
      "Random Run 2 : Sample 200\n",
      "No GPU detected, fall back on CPU.\n",
      "Shift p-vals:  0.41999998688697815\n",
      "Random Run 2 : Sample 500\n",
      "No GPU detected, fall back on CPU.\n",
      "Shift p-vals:  0.5099999904632568\n",
      "Random Run 2 : Sample 1000\n",
      "No GPU detected, fall back on CPU.\n",
      "Shift p-vals:  0.4099999964237213\n",
      "Random Run 2 : Sample 2000\n",
      "No GPU detected, fall back on CPU.\n",
      "Shift p-vals:  0.4000000059604645\n",
      "Random Run 3 : Sample 10\n",
      "No GPU detected, fall back on CPU.\n",
      "Shift p-vals:  0.33000001311302185\n",
      "Random Run 3 : Sample 20\n",
      "No GPU detected, fall back on CPU.\n",
      "Shift p-vals:  0.9100000262260437\n",
      "Random Run 3 : Sample 50\n",
      "No GPU detected, fall back on CPU.\n",
      "Shift p-vals:  0.8399999737739563\n",
      "Random Run 3 : Sample 100\n",
      "No GPU detected, fall back on CPU.\n",
      "Shift p-vals:  0.28999999165534973\n",
      "Random Run 3 : Sample 200\n",
      "No GPU detected, fall back on CPU.\n",
      "Shift p-vals:  0.30000001192092896\n",
      "Random Run 3 : Sample 500\n",
      "No GPU detected, fall back on CPU.\n",
      "Shift p-vals:  0.28999999165534973\n",
      "Random Run 3 : Sample 1000\n",
      "No GPU detected, fall back on CPU.\n",
      "Shift p-vals:  0.30000001192092896\n",
      "Random Run 3 : Sample 2000\n",
      "No GPU detected, fall back on CPU.\n",
      "Shift p-vals:  0.38999998569488525\n",
      "Random Run 4 : Sample 10\n",
      "No GPU detected, fall back on CPU.\n",
      "Shift p-vals:  0.28999999165534973\n",
      "Random Run 4 : Sample 20\n",
      "No GPU detected, fall back on CPU.\n",
      "Shift p-vals:  0.9399999976158142\n",
      "Random Run 4 : Sample 50\n",
      "No GPU detected, fall back on CPU.\n",
      "Shift p-vals:  0.9900000095367432\n",
      "Random Run 4 : Sample 100\n",
      "No GPU detected, fall back on CPU.\n",
      "Shift p-vals:  0.7599999904632568\n",
      "Random Run 4 : Sample 200\n",
      "No GPU detected, fall back on CPU.\n",
      "Shift p-vals:  0.6600000262260437\n",
      "Random Run 4 : Sample 500\n",
      "No GPU detected, fall back on CPU.\n",
      "Shift p-vals:  0.6700000166893005\n",
      "Random Run 4 : Sample 1000\n",
      "No GPU detected, fall back on CPU.\n",
      "Shift p-vals:  0.5799999833106995\n",
      "Random Run 4 : Sample 2000\n",
      "No GPU detected, fall back on CPU.\n",
      "Shift p-vals:  0.7099999785423279\n",
      "winter | MSH | PCA | LK\n",
      "Shift winter\n"
     ]
    },
    {
     "name": "stderr",
     "output_type": "stream",
     "text": [
      "torch.range is deprecated and will be removed in a future release because its behavior is inconsistent with Python's range builtin. Instead, use torch.arange, which produces values in [start, end).\n",
      "No GPU detected, fall back on CPU.\n",
      "No GPU detected, fall back on CPU.\n",
      "No GPU detected, fall back on CPU.\n",
      "No GPU detected, fall back on CPU.\n",
      "No GPU detected, fall back on CPU.\n",
      "No GPU detected, fall back on CPU.\n",
      "No GPU detected, fall back on CPU.\n",
      "No GPU detected, fall back on CPU.\n"
     ]
    },
    {
     "name": "stdout",
     "output_type": "stream",
     "text": [
      "Random Run 0 : Sample 10\n",
      "Shift p-vals:  0.20999999344348907\n",
      "Random Run 0 : Sample 20\n",
      "Shift p-vals:  0.15000000596046448\n",
      "Random Run 0 : Sample 50\n",
      "Shift p-vals:  0.4699999988079071\n",
      "Random Run 0 : Sample 100\n",
      "Shift p-vals:  0.36000001430511475\n",
      "Random Run 0 : Sample 200\n",
      "Shift p-vals:  0.800000011920929\n",
      "Random Run 0 : Sample 500\n",
      "Shift p-vals:  0.8500000238418579\n",
      "Random Run 0 : Sample 1000\n",
      "Shift p-vals:  0.6399999856948853\n",
      "Random Run 0 : Sample 2000\n",
      "Shift p-vals:  0.05000000074505806\n"
     ]
    },
    {
     "name": "stderr",
     "output_type": "stream",
     "text": [
      "No GPU detected, fall back on CPU.\n",
      "No GPU detected, fall back on CPU.\n",
      "No GPU detected, fall back on CPU.\n",
      "No GPU detected, fall back on CPU.\n",
      "No GPU detected, fall back on CPU.\n",
      "No GPU detected, fall back on CPU.\n",
      "No GPU detected, fall back on CPU.\n",
      "No GPU detected, fall back on CPU.\n"
     ]
    },
    {
     "name": "stdout",
     "output_type": "stream",
     "text": [
      "Random Run 1 : Sample 10\n",
      "Shift p-vals:  0.4099999964237213\n",
      "Random Run 1 : Sample 20\n",
      "Shift p-vals:  0.28999999165534973\n",
      "Random Run 1 : Sample 50\n",
      "Shift p-vals:  0.07000000029802322\n",
      "Random Run 1 : Sample 100\n",
      "Shift p-vals:  0.5799999833106995\n",
      "Random Run 1 : Sample 200\n",
      "Shift p-vals:  0.5299999713897705\n",
      "Random Run 1 : Sample 500\n",
      "Shift p-vals:  0.10000000149011612\n",
      "Random Run 1 : Sample 1000\n",
      "Shift p-vals:  0.2199999988079071\n",
      "Random Run 1 : Sample 2000\n",
      "Shift p-vals:  0.38999998569488525\n"
     ]
    },
    {
     "name": "stderr",
     "output_type": "stream",
     "text": [
      "No GPU detected, fall back on CPU.\n",
      "No GPU detected, fall back on CPU.\n",
      "No GPU detected, fall back on CPU.\n",
      "No GPU detected, fall back on CPU.\n",
      "No GPU detected, fall back on CPU.\n",
      "No GPU detected, fall back on CPU.\n",
      "No GPU detected, fall back on CPU.\n",
      "No GPU detected, fall back on CPU.\n"
     ]
    },
    {
     "name": "stdout",
     "output_type": "stream",
     "text": [
      "Random Run 2 : Sample 10\n",
      "Shift p-vals:  0.17000000178813934\n",
      "Random Run 2 : Sample 20\n",
      "Shift p-vals:  0.41999998688697815\n",
      "Random Run 2 : Sample 50\n",
      "Shift p-vals:  0.6200000047683716\n",
      "Random Run 2 : Sample 100\n",
      "Shift p-vals:  0.019999999552965164\n",
      "Random Run 2 : Sample 200\n",
      "Shift p-vals:  0.46000000834465027\n",
      "Random Run 2 : Sample 500\n",
      "Shift p-vals:  0.20000000298023224\n",
      "Random Run 2 : Sample 1000\n",
      "Shift p-vals:  0.8500000238418579\n",
      "Random Run 2 : Sample 2000\n",
      "Shift p-vals:  0.7599999904632568\n"
     ]
    },
    {
     "name": "stderr",
     "output_type": "stream",
     "text": [
      "No GPU detected, fall back on CPU.\n",
      "No GPU detected, fall back on CPU.\n",
      "No GPU detected, fall back on CPU.\n",
      "No GPU detected, fall back on CPU.\n",
      "No GPU detected, fall back on CPU.\n",
      "No GPU detected, fall back on CPU.\n",
      "No GPU detected, fall back on CPU.\n",
      "No GPU detected, fall back on CPU.\n"
     ]
    },
    {
     "name": "stdout",
     "output_type": "stream",
     "text": [
      "Random Run 3 : Sample 10\n",
      "Shift p-vals:  0.9200000166893005\n",
      "Random Run 3 : Sample 20\n",
      "Shift p-vals:  0.7699999809265137\n",
      "Random Run 3 : Sample 50\n",
      "Shift p-vals:  0.029999999329447746\n",
      "Random Run 3 : Sample 100\n",
      "Shift p-vals:  0.5799999833106995\n",
      "Random Run 3 : Sample 200\n",
      "Shift p-vals:  0.8600000143051147\n",
      "Random Run 3 : Sample 500\n",
      "Shift p-vals:  0.07999999821186066\n",
      "Random Run 3 : Sample 1000\n",
      "Shift p-vals:  0.10999999940395355\n",
      "Random Run 3 : Sample 2000\n",
      "Shift p-vals:  0.20999999344348907\n"
     ]
    },
    {
     "name": "stderr",
     "output_type": "stream",
     "text": [
      "No GPU detected, fall back on CPU.\n",
      "No GPU detected, fall back on CPU.\n",
      "No GPU detected, fall back on CPU.\n",
      "No GPU detected, fall back on CPU.\n",
      "No GPU detected, fall back on CPU.\n",
      "No GPU detected, fall back on CPU.\n",
      "No GPU detected, fall back on CPU.\n",
      "No GPU detected, fall back on CPU.\n"
     ]
    },
    {
     "name": "stdout",
     "output_type": "stream",
     "text": [
      "Random Run 4 : Sample 10\n",
      "Shift p-vals:  0.7599999904632568\n",
      "Random Run 4 : Sample 20\n",
      "Shift p-vals:  0.4699999988079071\n",
      "Random Run 4 : Sample 50\n",
      "Shift p-vals:  0.1599999964237213\n",
      "Random Run 4 : Sample 100\n",
      "Shift p-vals:  0.6000000238418579\n",
      "Random Run 4 : Sample 200\n",
      "Shift p-vals:  0.7599999904632568\n",
      "Random Run 4 : Sample 500\n",
      "Shift p-vals:  0.20000000298023224\n",
      "Random Run 4 : Sample 1000\n",
      "Shift p-vals:  0.36000001430511475\n",
      "Random Run 4 : Sample 2000\n",
      "Shift p-vals:  0.4300000071525574\n",
      "winter | MSH | PCA | LSDD\n",
      "Shift winter\n"
     ]
    },
    {
     "name": "stderr",
     "output_type": "stream",
     "text": [
      "torch.range is deprecated and will be removed in a future release because its behavior is inconsistent with Python's range builtin. Instead, use torch.arange, which produces values in [start, end).\n"
     ]
    },
    {
     "name": "stdout",
     "output_type": "stream",
     "text": [
      "Random Run 0 : Sample 10\n",
      "No GPU detected, fall back on CPU.\n",
      "Shift p-vals:  0.1899999976158142\n",
      "Random Run 0 : Sample 20\n",
      "No GPU detected, fall back on CPU.\n",
      "Shift p-vals:  0.019999999552965164\n",
      "Random Run 0 : Sample 50\n",
      "No GPU detected, fall back on CPU.\n",
      "Shift p-vals:  0.9599999785423279\n",
      "Random Run 0 : Sample 100\n",
      "No GPU detected, fall back on CPU.\n",
      "Shift p-vals:  0.6200000047683716\n",
      "Random Run 0 : Sample 200\n",
      "No GPU detected, fall back on CPU.\n",
      "Shift p-vals:  0.009999999776482582\n",
      "Random Run 0 : Sample 500\n",
      "No GPU detected, fall back on CPU.\n",
      "Shift p-vals:  0.019999999552965164\n",
      "Random Run 0 : Sample 1000\n",
      "No GPU detected, fall back on CPU.\n",
      "Shift p-vals:  0.019999999552965164\n",
      "Random Run 0 : Sample 2000\n",
      "No GPU detected, fall back on CPU.\n",
      "Shift p-vals:  0.029999999329447746\n",
      "Random Run 1 : Sample 10\n",
      "No GPU detected, fall back on CPU.\n",
      "Shift p-vals:  0.009999999776482582\n",
      "Random Run 1 : Sample 20\n",
      "No GPU detected, fall back on CPU.\n",
      "Shift p-vals:  0.36000001430511475\n",
      "Random Run 1 : Sample 50\n",
      "No GPU detected, fall back on CPU.\n",
      "Shift p-vals:  0.6899999976158142\n",
      "Random Run 1 : Sample 100\n",
      "No GPU detected, fall back on CPU.\n",
      "Shift p-vals:  0.5299999713897705\n",
      "Random Run 1 : Sample 200\n",
      "No GPU detected, fall back on CPU.\n",
      "Shift p-vals:  0.8199999928474426\n",
      "Random Run 1 : Sample 500\n",
      "No GPU detected, fall back on CPU.\n",
      "Shift p-vals:  0.4000000059604645\n",
      "Random Run 1 : Sample 1000\n",
      "No GPU detected, fall back on CPU.\n",
      "Shift p-vals:  0.9900000095367432\n",
      "Random Run 1 : Sample 2000\n",
      "No GPU detected, fall back on CPU.\n",
      "Shift p-vals:  0.6100000143051147\n",
      "Random Run 2 : Sample 10\n",
      "No GPU detected, fall back on CPU.\n",
      "Shift p-vals:  0.9599999785423279\n",
      "Random Run 2 : Sample 20\n",
      "No GPU detected, fall back on CPU.\n",
      "Shift p-vals:  0.18000000715255737\n",
      "Random Run 2 : Sample 50\n",
      "No GPU detected, fall back on CPU.\n",
      "Shift p-vals:  0.7599999904632568\n",
      "Random Run 2 : Sample 100\n",
      "No GPU detected, fall back on CPU.\n",
      "Shift p-vals:  0.5199999809265137\n",
      "Random Run 2 : Sample 200\n",
      "No GPU detected, fall back on CPU.\n",
      "Shift p-vals:  0.6399999856948853\n",
      "Random Run 2 : Sample 500\n",
      "No GPU detected, fall back on CPU.\n",
      "Shift p-vals:  0.4399999976158142\n",
      "Random Run 2 : Sample 1000\n",
      "No GPU detected, fall back on CPU.\n",
      "Shift p-vals:  0.0\n",
      "Random Run 2 : Sample 2000\n",
      "No GPU detected, fall back on CPU.\n",
      "Shift p-vals:  0.6899999976158142\n",
      "Random Run 3 : Sample 10\n",
      "No GPU detected, fall back on CPU.\n",
      "Shift p-vals:  0.7599999904632568\n",
      "Random Run 3 : Sample 20\n",
      "No GPU detected, fall back on CPU.\n",
      "Shift p-vals:  0.9900000095367432\n",
      "Random Run 3 : Sample 50\n",
      "No GPU detected, fall back on CPU.\n",
      "Shift p-vals:  0.2800000011920929\n",
      "Random Run 3 : Sample 100\n",
      "No GPU detected, fall back on CPU.\n",
      "Shift p-vals:  0.33000001311302185\n",
      "Random Run 3 : Sample 200\n",
      "No GPU detected, fall back on CPU.\n",
      "Shift p-vals:  0.17000000178813934\n",
      "Random Run 3 : Sample 500\n",
      "No GPU detected, fall back on CPU.\n",
      "Shift p-vals:  0.3799999952316284\n",
      "Random Run 3 : Sample 1000\n",
      "No GPU detected, fall back on CPU.\n",
      "Shift p-vals:  0.3100000023841858\n",
      "Random Run 3 : Sample 2000\n",
      "No GPU detected, fall back on CPU.\n",
      "Shift p-vals:  0.6299999952316284\n",
      "Random Run 4 : Sample 10\n",
      "No GPU detected, fall back on CPU.\n",
      "Shift p-vals:  0.7599999904632568\n",
      "Random Run 4 : Sample 20\n",
      "No GPU detected, fall back on CPU.\n",
      "Shift p-vals:  0.7599999904632568\n",
      "Random Run 4 : Sample 50\n",
      "No GPU detected, fall back on CPU.\n",
      "Shift p-vals:  0.8199999928474426\n",
      "Random Run 4 : Sample 100\n",
      "No GPU detected, fall back on CPU.\n",
      "Shift p-vals:  0.5600000023841858\n",
      "Random Run 4 : Sample 200\n",
      "No GPU detected, fall back on CPU.\n",
      "Shift p-vals:  0.5\n",
      "Random Run 4 : Sample 500\n",
      "No GPU detected, fall back on CPU.\n",
      "Shift p-vals:  0.8899999856948853\n",
      "Random Run 4 : Sample 1000\n",
      "No GPU detected, fall back on CPU.\n",
      "Shift p-vals:  0.800000011920929\n",
      "Random Run 4 : Sample 2000\n",
      "No GPU detected, fall back on CPU.\n",
      "Shift p-vals:  0.7400000095367432\n",
      "winter | MSH | BBSDs_FFNN | MMD\n",
      "Shift winter\n"
     ]
    },
    {
     "name": "stderr",
     "output_type": "stream",
     "text": [
      "torch.range is deprecated and will be removed in a future release because its behavior is inconsistent with Python's range builtin. Instead, use torch.arange, which produces values in [start, end).\n"
     ]
    },
    {
     "name": "stdout",
     "output_type": "stream",
     "text": [
      "Random Run 0 : Sample 10\n",
      "No GPU detected, fall back on CPU.\n",
      "Shift p-vals:  0.949999988079071\n",
      "Random Run 0 : Sample 20\n",
      "No GPU detected, fall back on CPU.\n",
      "Shift p-vals:  0.5799999833106995\n",
      "Random Run 0 : Sample 50\n",
      "No GPU detected, fall back on CPU.\n",
      "Shift p-vals:  0.5600000023841858\n",
      "Random Run 0 : Sample 100\n",
      "No GPU detected, fall back on CPU.\n",
      "Shift p-vals:  0.5\n",
      "Random Run 0 : Sample 200\n",
      "No GPU detected, fall back on CPU.\n",
      "Shift p-vals:  0.6200000047683716\n",
      "Random Run 0 : Sample 500\n",
      "No GPU detected, fall back on CPU.\n",
      "Shift p-vals:  0.2800000011920929\n",
      "Random Run 0 : Sample 1000\n",
      "No GPU detected, fall back on CPU.\n",
      "Shift p-vals:  0.550000011920929\n",
      "Random Run 0 : Sample 2000\n",
      "No GPU detected, fall back on CPU.\n",
      "Shift p-vals:  0.029999999329447746\n",
      "Random Run 1 : Sample 10\n",
      "No GPU detected, fall back on CPU.\n",
      "Shift p-vals:  0.4000000059604645\n",
      "Random Run 1 : Sample 20\n",
      "No GPU detected, fall back on CPU.\n",
      "Shift p-vals:  0.019999999552965164\n",
      "Random Run 1 : Sample 50\n",
      "No GPU detected, fall back on CPU.\n",
      "Shift p-vals:  0.3400000035762787\n",
      "Random Run 1 : Sample 100\n",
      "No GPU detected, fall back on CPU.\n",
      "Shift p-vals:  0.8500000238418579\n",
      "Random Run 1 : Sample 200\n",
      "No GPU detected, fall back on CPU.\n",
      "Shift p-vals:  0.0\n",
      "Random Run 1 : Sample 500\n",
      "No GPU detected, fall back on CPU.\n",
      "Shift p-vals:  0.3499999940395355\n",
      "Random Run 1 : Sample 1000\n",
      "No GPU detected, fall back on CPU.\n",
      "Shift p-vals:  0.8700000047683716\n",
      "Random Run 1 : Sample 2000\n",
      "No GPU detected, fall back on CPU.\n",
      "Shift p-vals:  0.12999999523162842\n",
      "Random Run 2 : Sample 10\n",
      "No GPU detected, fall back on CPU.\n",
      "Shift p-vals:  0.550000011920929\n",
      "Random Run 2 : Sample 20\n",
      "No GPU detected, fall back on CPU.\n",
      "Shift p-vals:  0.5799999833106995\n",
      "Random Run 2 : Sample 50\n",
      "No GPU detected, fall back on CPU.\n",
      "Shift p-vals:  0.25999999046325684\n",
      "Random Run 2 : Sample 100\n",
      "No GPU detected, fall back on CPU.\n",
      "Shift p-vals:  0.6299999952316284\n",
      "Random Run 2 : Sample 200\n",
      "No GPU detected, fall back on CPU.\n",
      "Shift p-vals:  0.41999998688697815\n",
      "Random Run 2 : Sample 500\n",
      "No GPU detected, fall back on CPU.\n",
      "Shift p-vals:  0.7300000190734863\n",
      "Random Run 2 : Sample 1000\n",
      "No GPU detected, fall back on CPU.\n",
      "Shift p-vals:  0.4399999976158142\n",
      "Random Run 2 : Sample 2000\n",
      "No GPU detected, fall back on CPU.\n",
      "Shift p-vals:  0.550000011920929\n",
      "Random Run 3 : Sample 10\n",
      "No GPU detected, fall back on CPU.\n",
      "Shift p-vals:  0.8700000047683716\n",
      "Random Run 3 : Sample 20\n",
      "No GPU detected, fall back on CPU.\n",
      "Shift p-vals:  0.1599999964237213\n",
      "Random Run 3 : Sample 50\n",
      "No GPU detected, fall back on CPU.\n",
      "Shift p-vals:  0.9900000095367432\n",
      "Random Run 3 : Sample 100\n",
      "No GPU detected, fall back on CPU.\n",
      "Shift p-vals:  0.7599999904632568\n",
      "Random Run 3 : Sample 200\n",
      "No GPU detected, fall back on CPU.\n",
      "Shift p-vals:  0.949999988079071\n",
      "Random Run 3 : Sample 500\n",
      "No GPU detected, fall back on CPU.\n",
      "Shift p-vals:  0.3100000023841858\n",
      "Random Run 3 : Sample 1000\n",
      "No GPU detected, fall back on CPU.\n",
      "Shift p-vals:  0.6299999952316284\n",
      "Random Run 3 : Sample 2000\n",
      "No GPU detected, fall back on CPU.\n",
      "Shift p-vals:  0.5899999737739563\n",
      "Random Run 4 : Sample 10\n",
      "No GPU detected, fall back on CPU.\n",
      "Shift p-vals:  0.3400000035762787\n",
      "Random Run 4 : Sample 20\n",
      "No GPU detected, fall back on CPU.\n",
      "Shift p-vals:  0.8399999737739563\n",
      "Random Run 4 : Sample 50\n",
      "No GPU detected, fall back on CPU.\n",
      "Shift p-vals:  0.8700000047683716\n",
      "Random Run 4 : Sample 100\n",
      "No GPU detected, fall back on CPU.\n",
      "Shift p-vals:  0.9900000095367432\n",
      "Random Run 4 : Sample 200\n",
      "No GPU detected, fall back on CPU.\n",
      "Shift p-vals:  0.4399999976158142\n",
      "Random Run 4 : Sample 500\n",
      "No GPU detected, fall back on CPU.\n",
      "Shift p-vals:  0.3499999940395355\n",
      "Random Run 4 : Sample 1000\n",
      "No GPU detected, fall back on CPU.\n",
      "Shift p-vals:  0.6700000166893005\n",
      "Random Run 4 : Sample 2000\n",
      "No GPU detected, fall back on CPU.\n",
      "Shift p-vals:  0.9399999976158142\n",
      "winter | MSH | BBSDs_FFNN | LK\n",
      "Shift winter\n"
     ]
    },
    {
     "name": "stderr",
     "output_type": "stream",
     "text": [
      "torch.range is deprecated and will be removed in a future release because its behavior is inconsistent with Python's range builtin. Instead, use torch.arange, which produces values in [start, end).\n",
      "No GPU detected, fall back on CPU.\n",
      "No GPU detected, fall back on CPU.\n",
      "No GPU detected, fall back on CPU.\n",
      "No GPU detected, fall back on CPU.\n",
      "No GPU detected, fall back on CPU.\n",
      "No GPU detected, fall back on CPU.\n",
      "No GPU detected, fall back on CPU.\n",
      "No GPU detected, fall back on CPU.\n"
     ]
    },
    {
     "name": "stdout",
     "output_type": "stream",
     "text": [
      "Random Run 0 : Sample 10\n",
      "Shift p-vals:  0.5400000214576721\n",
      "Random Run 0 : Sample 20\n",
      "Shift p-vals:  0.05999999865889549\n",
      "Random Run 0 : Sample 50\n",
      "Shift p-vals:  0.4000000059604645\n",
      "Random Run 0 : Sample 100\n",
      "Shift p-vals:  0.1599999964237213\n",
      "Random Run 0 : Sample 200\n",
      "Shift p-vals:  0.8700000047683716\n",
      "Random Run 0 : Sample 500\n",
      "Shift p-vals:  0.41999998688697815\n",
      "Random Run 0 : Sample 1000\n",
      "Shift p-vals:  0.4300000071525574\n",
      "Random Run 0 : Sample 2000\n",
      "Shift p-vals:  0.1899999976158142\n"
     ]
    },
    {
     "name": "stderr",
     "output_type": "stream",
     "text": [
      "No GPU detected, fall back on CPU.\n",
      "No GPU detected, fall back on CPU.\n",
      "No GPU detected, fall back on CPU.\n",
      "No GPU detected, fall back on CPU.\n",
      "No GPU detected, fall back on CPU.\n",
      "No GPU detected, fall back on CPU.\n",
      "No GPU detected, fall back on CPU.\n",
      "No GPU detected, fall back on CPU.\n"
     ]
    },
    {
     "name": "stdout",
     "output_type": "stream",
     "text": [
      "Random Run 1 : Sample 10\n",
      "Shift p-vals:  1.0\n",
      "Random Run 1 : Sample 20\n",
      "Shift p-vals:  0.30000001192092896\n",
      "Random Run 1 : Sample 50\n",
      "Shift p-vals:  0.05000000074505806\n",
      "Random Run 1 : Sample 100\n",
      "Shift p-vals:  0.2800000011920929\n",
      "Random Run 1 : Sample 200\n",
      "Shift p-vals:  0.8299999833106995\n",
      "Random Run 1 : Sample 500\n",
      "Shift p-vals:  0.8799999952316284\n",
      "Random Run 1 : Sample 1000\n",
      "Shift p-vals:  0.7099999785423279\n",
      "Random Run 1 : Sample 2000\n",
      "Shift p-vals:  0.800000011920929\n"
     ]
    },
    {
     "name": "stderr",
     "output_type": "stream",
     "text": [
      "No GPU detected, fall back on CPU.\n",
      "No GPU detected, fall back on CPU.\n",
      "No GPU detected, fall back on CPU.\n",
      "No GPU detected, fall back on CPU.\n",
      "No GPU detected, fall back on CPU.\n",
      "No GPU detected, fall back on CPU.\n",
      "No GPU detected, fall back on CPU.\n",
      "No GPU detected, fall back on CPU.\n"
     ]
    },
    {
     "name": "stdout",
     "output_type": "stream",
     "text": [
      "Random Run 2 : Sample 10\n",
      "Shift p-vals:  0.5600000023841858\n",
      "Random Run 2 : Sample 20\n",
      "Shift p-vals:  0.8199999928474426\n",
      "Random Run 2 : Sample 50\n",
      "Shift p-vals:  0.7400000095367432\n",
      "Random Run 2 : Sample 100\n",
      "Shift p-vals:  0.8500000238418579\n",
      "Random Run 2 : Sample 200\n",
      "Shift p-vals:  0.1899999976158142\n",
      "Random Run 2 : Sample 500\n",
      "Shift p-vals:  0.5400000214576721\n",
      "Random Run 2 : Sample 1000\n",
      "Shift p-vals:  0.20999999344348907\n",
      "Random Run 2 : Sample 2000\n",
      "Shift p-vals:  0.4000000059604645\n"
     ]
    },
    {
     "name": "stderr",
     "output_type": "stream",
     "text": [
      "No GPU detected, fall back on CPU.\n",
      "No GPU detected, fall back on CPU.\n",
      "No GPU detected, fall back on CPU.\n",
      "No GPU detected, fall back on CPU.\n",
      "No GPU detected, fall back on CPU.\n",
      "No GPU detected, fall back on CPU.\n",
      "No GPU detected, fall back on CPU.\n",
      "No GPU detected, fall back on CPU.\n"
     ]
    },
    {
     "name": "stdout",
     "output_type": "stream",
     "text": [
      "Random Run 3 : Sample 10\n",
      "Shift p-vals:  0.8999999761581421\n",
      "Random Run 3 : Sample 20\n",
      "Shift p-vals:  0.33000001311302185\n",
      "Random Run 3 : Sample 50\n",
      "Shift p-vals:  0.699999988079071\n",
      "Random Run 3 : Sample 100\n",
      "Shift p-vals:  0.15000000596046448\n",
      "Random Run 3 : Sample 200\n",
      "Shift p-vals:  0.47999998927116394\n",
      "Random Run 3 : Sample 500\n",
      "Shift p-vals:  0.7300000190734863\n",
      "Random Run 3 : Sample 1000\n",
      "Shift p-vals:  0.27000001072883606\n",
      "Random Run 3 : Sample 2000\n",
      "Shift p-vals:  0.7900000214576721\n"
     ]
    },
    {
     "name": "stderr",
     "output_type": "stream",
     "text": [
      "No GPU detected, fall back on CPU.\n",
      "No GPU detected, fall back on CPU.\n",
      "No GPU detected, fall back on CPU.\n",
      "No GPU detected, fall back on CPU.\n",
      "No GPU detected, fall back on CPU.\n",
      "No GPU detected, fall back on CPU.\n",
      "No GPU detected, fall back on CPU.\n",
      "No GPU detected, fall back on CPU.\n"
     ]
    },
    {
     "name": "stdout",
     "output_type": "stream",
     "text": [
      "Random Run 4 : Sample 10\n",
      "Shift p-vals:  0.36000001430511475\n",
      "Random Run 4 : Sample 20\n",
      "Shift p-vals:  0.28999999165534973\n",
      "Random Run 4 : Sample 50\n",
      "Shift p-vals:  0.7599999904632568\n",
      "Random Run 4 : Sample 100\n",
      "Shift p-vals:  0.9300000071525574\n",
      "Random Run 4 : Sample 200\n",
      "Shift p-vals:  0.6800000071525574\n",
      "Random Run 4 : Sample 500\n",
      "Shift p-vals:  0.019999999552965164\n",
      "Random Run 4 : Sample 1000\n",
      "Shift p-vals:  0.41999998688697815\n",
      "Random Run 4 : Sample 2000\n",
      "Shift p-vals:  0.3700000047683716\n",
      "winter | MSH | BBSDs_FFNN | LSDD\n",
      "Shift winter\n"
     ]
    },
    {
     "name": "stderr",
     "output_type": "stream",
     "text": [
      "torch.range is deprecated and will be removed in a future release because its behavior is inconsistent with Python's range builtin. Instead, use torch.arange, which produces values in [start, end).\n"
     ]
    },
    {
     "name": "stdout",
     "output_type": "stream",
     "text": [
      "Random Run 0 : Sample 10\n",
      "No GPU detected, fall back on CPU.\n",
      "Shift p-vals:  0.9399999976158142\n",
      "Random Run 0 : Sample 20\n",
      "No GPU detected, fall back on CPU.\n",
      "Shift p-vals:  0.15000000596046448\n",
      "Random Run 0 : Sample 50\n",
      "No GPU detected, fall back on CPU.\n",
      "Shift p-vals:  0.5899999737739563\n",
      "Random Run 0 : Sample 100\n",
      "No GPU detected, fall back on CPU.\n",
      "Shift p-vals:  0.8700000047683716\n",
      "Random Run 0 : Sample 200\n",
      "No GPU detected, fall back on CPU.\n",
      "Shift p-vals:  0.5799999833106995\n",
      "Random Run 0 : Sample 500\n",
      "No GPU detected, fall back on CPU.\n",
      "Shift p-vals:  0.6000000238418579\n",
      "Random Run 0 : Sample 1000\n",
      "No GPU detected, fall back on CPU.\n",
      "Shift p-vals:  0.9100000262260437\n",
      "Random Run 0 : Sample 2000\n",
      "No GPU detected, fall back on CPU.\n",
      "Shift p-vals:  0.7599999904632568\n",
      "Random Run 1 : Sample 10\n",
      "No GPU detected, fall back on CPU.\n",
      "Shift p-vals:  0.7200000286102295\n",
      "Random Run 1 : Sample 20\n",
      "No GPU detected, fall back on CPU.\n",
      "Shift p-vals:  0.47999998927116394\n",
      "Random Run 1 : Sample 50\n",
      "No GPU detected, fall back on CPU.\n",
      "Shift p-vals:  0.699999988079071\n",
      "Random Run 1 : Sample 100\n",
      "No GPU detected, fall back on CPU.\n",
      "Shift p-vals:  0.8199999928474426\n",
      "Random Run 1 : Sample 200\n",
      "No GPU detected, fall back on CPU.\n",
      "Shift p-vals:  0.20000000298023224\n",
      "Random Run 1 : Sample 500\n",
      "No GPU detected, fall back on CPU.\n",
      "Shift p-vals:  0.25\n",
      "Random Run 1 : Sample 1000\n",
      "No GPU detected, fall back on CPU.\n",
      "Shift p-vals:  0.17000000178813934\n",
      "Random Run 1 : Sample 2000\n",
      "No GPU detected, fall back on CPU.\n",
      "Shift p-vals:  0.6100000143051147\n",
      "Random Run 2 : Sample 10\n",
      "No GPU detected, fall back on CPU.\n",
      "Shift p-vals:  0.6299999952316284\n",
      "Random Run 2 : Sample 20\n",
      "No GPU detected, fall back on CPU.\n",
      "Shift p-vals:  0.1899999976158142\n",
      "Random Run 2 : Sample 50\n",
      "No GPU detected, fall back on CPU.\n",
      "Shift p-vals:  0.2800000011920929\n",
      "Random Run 2 : Sample 100\n",
      "No GPU detected, fall back on CPU.\n",
      "Shift p-vals:  0.4099999964237213\n",
      "Random Run 2 : Sample 200\n",
      "No GPU detected, fall back on CPU.\n",
      "Shift p-vals:  0.11999999731779099\n",
      "Random Run 2 : Sample 500\n",
      "No GPU detected, fall back on CPU.\n",
      "Shift p-vals:  0.8299999833106995\n",
      "Random Run 2 : Sample 1000\n",
      "No GPU detected, fall back on CPU.\n",
      "Shift p-vals:  0.07000000029802322\n",
      "Random Run 2 : Sample 2000\n",
      "No GPU detected, fall back on CPU.\n",
      "Shift p-vals:  0.25999999046325684\n",
      "Random Run 3 : Sample 10\n",
      "No GPU detected, fall back on CPU.\n",
      "Shift p-vals:  0.03999999910593033\n",
      "Random Run 3 : Sample 20\n",
      "No GPU detected, fall back on CPU.\n",
      "Shift p-vals:  0.800000011920929\n",
      "Random Run 3 : Sample 50\n",
      "No GPU detected, fall back on CPU.\n",
      "Shift p-vals:  0.4699999988079071\n",
      "Random Run 3 : Sample 100\n",
      "No GPU detected, fall back on CPU.\n",
      "Shift p-vals:  0.5299999713897705\n",
      "Random Run 3 : Sample 200\n",
      "No GPU detected, fall back on CPU.\n",
      "Shift p-vals:  0.27000001072883606\n",
      "Random Run 3 : Sample 500\n",
      "No GPU detected, fall back on CPU.\n",
      "Shift p-vals:  0.2199999988079071\n",
      "Random Run 3 : Sample 1000\n",
      "No GPU detected, fall back on CPU.\n",
      "Shift p-vals:  0.44999998807907104\n",
      "Random Run 3 : Sample 2000\n",
      "No GPU detected, fall back on CPU.\n",
      "Shift p-vals:  0.8999999761581421\n",
      "Random Run 4 : Sample 10\n",
      "No GPU detected, fall back on CPU.\n",
      "Shift p-vals:  0.6899999976158142\n",
      "Random Run 4 : Sample 20\n",
      "No GPU detected, fall back on CPU.\n",
      "Shift p-vals:  0.7599999904632568\n",
      "Random Run 4 : Sample 50\n",
      "No GPU detected, fall back on CPU.\n",
      "Shift p-vals:  0.5799999833106995\n",
      "Random Run 4 : Sample 100\n",
      "No GPU detected, fall back on CPU.\n",
      "Shift p-vals:  0.8899999856948853\n",
      "Random Run 4 : Sample 200\n",
      "No GPU detected, fall back on CPU.\n",
      "Shift p-vals:  0.18000000715255737\n",
      "Random Run 4 : Sample 500\n",
      "No GPU detected, fall back on CPU.\n",
      "Shift p-vals:  0.05999999865889549\n",
      "Random Run 4 : Sample 1000\n",
      "No GPU detected, fall back on CPU.\n",
      "Shift p-vals:  0.9700000286102295\n",
      "Random Run 4 : Sample 2000\n",
      "No GPU detected, fall back on CPU.\n",
      "Shift p-vals:  0.75\n",
      "seasonal | SMH | NoRed | MMD\n",
      "Shift seasonal\n"
     ]
    },
    {
     "name": "stderr",
     "output_type": "stream",
     "text": [
      "torch.range is deprecated and will be removed in a future release because its behavior is inconsistent with Python's range builtin. Instead, use torch.arange, which produces values in [start, end).\n"
     ]
    },
    {
     "name": "stdout",
     "output_type": "stream",
     "text": [
      "Random Run 0 : Sample 10\n",
      "No GPU detected, fall back on CPU.\n",
      "Shift p-vals:  0.12999999523162842\n",
      "Random Run 0 : Sample 20\n",
      "No GPU detected, fall back on CPU.\n",
      "Shift p-vals:  0.019999999552965164\n",
      "Random Run 0 : Sample 50\n",
      "No GPU detected, fall back on CPU.\n",
      "Shift p-vals:  0.029999999329447746\n",
      "Random Run 0 : Sample 100\n",
      "No GPU detected, fall back on CPU.\n",
      "Shift p-vals:  0.029999999329447746\n",
      "Random Run 0 : Sample 200\n",
      "No GPU detected, fall back on CPU.\n",
      "Shift p-vals:  0.0\n",
      "Random Run 0 : Sample 500\n",
      "No GPU detected, fall back on CPU.\n",
      "Shift p-vals:  0.019999999552965164\n",
      "Random Run 0 : Sample 1000\n",
      "No GPU detected, fall back on CPU.\n",
      "Shift p-vals:  0.0\n",
      "Random Run 0 : Sample 2000\n",
      "No GPU detected, fall back on CPU.\n",
      "Shift p-vals:  0.009999999776482582\n",
      "Random Run 1 : Sample 10\n",
      "No GPU detected, fall back on CPU.\n",
      "Shift p-vals:  0.36000001430511475\n",
      "Random Run 1 : Sample 20\n",
      "No GPU detected, fall back on CPU.\n",
      "Shift p-vals:  0.2199999988079071\n",
      "Random Run 1 : Sample 50\n",
      "No GPU detected, fall back on CPU.\n",
      "Shift p-vals:  0.49000000953674316\n",
      "Random Run 1 : Sample 100\n",
      "No GPU detected, fall back on CPU.\n",
      "Shift p-vals:  0.09000000357627869\n",
      "Random Run 1 : Sample 200\n",
      "No GPU detected, fall back on CPU.\n",
      "Shift p-vals:  0.12999999523162842\n",
      "Random Run 1 : Sample 500\n",
      "No GPU detected, fall back on CPU.\n",
      "Shift p-vals:  0.10000000149011612\n",
      "Random Run 1 : Sample 1000\n",
      "No GPU detected, fall back on CPU.\n",
      "Shift p-vals:  0.07999999821186066\n",
      "Random Run 1 : Sample 2000\n",
      "No GPU detected, fall back on CPU.\n",
      "Shift p-vals:  0.07999999821186066\n",
      "Random Run 2 : Sample 10\n",
      "No GPU detected, fall back on CPU.\n",
      "Shift p-vals:  0.4699999988079071\n",
      "Random Run 2 : Sample 20\n",
      "No GPU detected, fall back on CPU.\n",
      "Shift p-vals:  0.38999998569488525\n",
      "Random Run 2 : Sample 50\n",
      "No GPU detected, fall back on CPU.\n",
      "Shift p-vals:  0.11999999731779099\n",
      "Random Run 2 : Sample 100\n",
      "No GPU detected, fall back on CPU.\n",
      "Shift p-vals:  0.05000000074505806\n",
      "Random Run 2 : Sample 200\n",
      "No GPU detected, fall back on CPU.\n",
      "Shift p-vals:  0.11999999731779099\n",
      "Random Run 2 : Sample 500\n",
      "No GPU detected, fall back on CPU.\n",
      "Shift p-vals:  0.07999999821186066\n",
      "Random Run 2 : Sample 1000\n",
      "No GPU detected, fall back on CPU.\n",
      "Shift p-vals:  0.07999999821186066\n",
      "Random Run 2 : Sample 2000\n",
      "No GPU detected, fall back on CPU.\n",
      "Shift p-vals:  0.10000000149011612\n",
      "Random Run 3 : Sample 10\n",
      "No GPU detected, fall back on CPU.\n",
      "Shift p-vals:  0.3199999928474426\n",
      "Random Run 3 : Sample 20\n",
      "No GPU detected, fall back on CPU.\n",
      "Shift p-vals:  0.05999999865889549\n",
      "Random Run 3 : Sample 50\n",
      "No GPU detected, fall back on CPU.\n",
      "Shift p-vals:  0.2199999988079071\n",
      "Random Run 3 : Sample 100\n",
      "No GPU detected, fall back on CPU.\n",
      "Shift p-vals:  0.029999999329447746\n",
      "Random Run 3 : Sample 200\n",
      "No GPU detected, fall back on CPU.\n",
      "Shift p-vals:  0.019999999552965164\n",
      "Random Run 3 : Sample 500\n",
      "No GPU detected, fall back on CPU.\n",
      "Shift p-vals:  0.03999999910593033\n",
      "Random Run 3 : Sample 1000\n",
      "No GPU detected, fall back on CPU.\n",
      "Shift p-vals:  0.009999999776482582\n",
      "Random Run 3 : Sample 2000\n",
      "No GPU detected, fall back on CPU.\n",
      "Shift p-vals:  0.019999999552965164\n",
      "Random Run 4 : Sample 10\n",
      "No GPU detected, fall back on CPU.\n",
      "Shift p-vals:  0.9200000166893005\n",
      "Random Run 4 : Sample 20\n",
      "No GPU detected, fall back on CPU.\n",
      "Shift p-vals:  0.44999998807907104\n",
      "Random Run 4 : Sample 50\n",
      "No GPU detected, fall back on CPU.\n",
      "Shift p-vals:  0.25999999046325684\n",
      "Random Run 4 : Sample 100\n",
      "No GPU detected, fall back on CPU.\n",
      "Shift p-vals:  0.07000000029802322\n",
      "Random Run 4 : Sample 200\n",
      "No GPU detected, fall back on CPU.\n",
      "Shift p-vals:  0.07999999821186066\n",
      "Random Run 4 : Sample 500\n",
      "No GPU detected, fall back on CPU.\n",
      "Shift p-vals:  0.05000000074505806\n",
      "Random Run 4 : Sample 1000\n",
      "No GPU detected, fall back on CPU.\n",
      "Shift p-vals:  0.09000000357627869\n",
      "Random Run 4 : Sample 2000\n",
      "No GPU detected, fall back on CPU.\n",
      "Shift p-vals:  0.03999999910593033\n",
      "seasonal | SMH | NoRed | LK\n",
      "Shift seasonal\n"
     ]
    },
    {
     "name": "stderr",
     "output_type": "stream",
     "text": [
      "torch.range is deprecated and will be removed in a future release because its behavior is inconsistent with Python's range builtin. Instead, use torch.arange, which produces values in [start, end).\n",
      "No GPU detected, fall back on CPU.\n",
      "No GPU detected, fall back on CPU.\n",
      "No GPU detected, fall back on CPU.\n",
      "No GPU detected, fall back on CPU.\n"
     ]
    },
    {
     "name": "stdout",
     "output_type": "stream",
     "text": [
      "Random Run 0 : Sample 10\n",
      "Shift p-vals:  0.18000000715255737\n",
      "Random Run 0 : Sample 20\n",
      "Shift p-vals:  0.09000000357627869\n",
      "Random Run 0 : Sample 50\n",
      "Shift p-vals:  0.05999999865889549\n",
      "Random Run 0 : Sample 100\n"
     ]
    },
    {
     "name": "stderr",
     "output_type": "stream",
     "text": [
      "No GPU detected, fall back on CPU.\n",
      "No GPU detected, fall back on CPU.\n"
     ]
    },
    {
     "name": "stdout",
     "output_type": "stream",
     "text": [
      "Shift p-vals:  0.7300000190734863\n",
      "Random Run 0 : Sample 200\n",
      "Shift p-vals:  0.550000011920929\n",
      "Random Run 0 : Sample 500\n"
     ]
    },
    {
     "name": "stderr",
     "output_type": "stream",
     "text": [
      "No GPU detected, fall back on CPU.\n",
      "No GPU detected, fall back on CPU.\n"
     ]
    },
    {
     "name": "stdout",
     "output_type": "stream",
     "text": [
      "Shift p-vals:  0.3100000023841858\n",
      "Random Run 0 : Sample 1000\n",
      "Shift p-vals:  0.10999999940395355\n",
      "Random Run 0 : Sample 2000\n",
      "Shift p-vals:  0.03999999910593033\n"
     ]
    },
    {
     "name": "stderr",
     "output_type": "stream",
     "text": [
      "No GPU detected, fall back on CPU.\n",
      "No GPU detected, fall back on CPU.\n",
      "No GPU detected, fall back on CPU.\n",
      "No GPU detected, fall back on CPU.\n"
     ]
    },
    {
     "name": "stdout",
     "output_type": "stream",
     "text": [
      "Random Run 1 : Sample 10\n",
      "Shift p-vals:  0.4099999964237213\n",
      "Random Run 1 : Sample 20\n",
      "Shift p-vals:  0.10000000149011612\n",
      "Random Run 1 : Sample 50\n",
      "Shift p-vals:  0.9399999976158142\n",
      "Random Run 1 : Sample 100\n"
     ]
    },
    {
     "name": "stderr",
     "output_type": "stream",
     "text": [
      "No GPU detected, fall back on CPU.\n",
      "No GPU detected, fall back on CPU.\n"
     ]
    },
    {
     "name": "stdout",
     "output_type": "stream",
     "text": [
      "Shift p-vals:  0.9200000166893005\n",
      "Random Run 1 : Sample 200\n",
      "Shift p-vals:  0.3100000023841858\n",
      "Random Run 1 : Sample 500\n"
     ]
    },
    {
     "name": "stderr",
     "output_type": "stream",
     "text": [
      "No GPU detected, fall back on CPU.\n",
      "No GPU detected, fall back on CPU.\n"
     ]
    },
    {
     "name": "stdout",
     "output_type": "stream",
     "text": [
      "Shift p-vals:  0.03999999910593033\n",
      "Random Run 1 : Sample 1000\n",
      "Shift p-vals:  0.6499999761581421\n",
      "Random Run 1 : Sample 2000\n",
      "Shift p-vals:  0.07000000029802322\n"
     ]
    },
    {
     "name": "stderr",
     "output_type": "stream",
     "text": [
      "No GPU detected, fall back on CPU.\n",
      "No GPU detected, fall back on CPU.\n",
      "No GPU detected, fall back on CPU.\n",
      "No GPU detected, fall back on CPU.\n"
     ]
    },
    {
     "name": "stdout",
     "output_type": "stream",
     "text": [
      "Random Run 2 : Sample 10\n",
      "Shift p-vals:  0.6899999976158142\n",
      "Random Run 2 : Sample 20\n",
      "Shift p-vals:  0.5199999809265137\n",
      "Random Run 2 : Sample 50\n",
      "Shift p-vals:  0.33000001311302185\n",
      "Random Run 2 : Sample 100\n"
     ]
    },
    {
     "name": "stderr",
     "output_type": "stream",
     "text": [
      "No GPU detected, fall back on CPU.\n",
      "No GPU detected, fall back on CPU.\n"
     ]
    },
    {
     "name": "stdout",
     "output_type": "stream",
     "text": [
      "Shift p-vals:  0.550000011920929\n",
      "Random Run 2 : Sample 200\n",
      "Shift p-vals:  0.8600000143051147\n",
      "Random Run 2 : Sample 500\n"
     ]
    },
    {
     "name": "stderr",
     "output_type": "stream",
     "text": [
      "No GPU detected, fall back on CPU.\n",
      "No GPU detected, fall back on CPU.\n"
     ]
    },
    {
     "name": "stdout",
     "output_type": "stream",
     "text": [
      "Shift p-vals:  0.009999999776482582\n",
      "Random Run 2 : Sample 1000\n",
      "Shift p-vals:  0.699999988079071\n",
      "Random Run 2 : Sample 2000\n",
      "Shift p-vals:  0.03999999910593033\n"
     ]
    },
    {
     "name": "stderr",
     "output_type": "stream",
     "text": [
      "No GPU detected, fall back on CPU.\n",
      "No GPU detected, fall back on CPU.\n",
      "No GPU detected, fall back on CPU.\n",
      "No GPU detected, fall back on CPU.\n"
     ]
    },
    {
     "name": "stdout",
     "output_type": "stream",
     "text": [
      "Random Run 3 : Sample 10\n",
      "Shift p-vals:  0.05999999865889549\n",
      "Random Run 3 : Sample 20\n",
      "Shift p-vals:  0.4099999964237213\n",
      "Random Run 3 : Sample 50\n",
      "Shift p-vals:  0.2800000011920929\n",
      "Random Run 3 : Sample 100\n"
     ]
    },
    {
     "name": "stderr",
     "output_type": "stream",
     "text": [
      "No GPU detected, fall back on CPU.\n",
      "No GPU detected, fall back on CPU.\n"
     ]
    },
    {
     "name": "stdout",
     "output_type": "stream",
     "text": [
      "Shift p-vals:  0.49000000953674316\n",
      "Random Run 3 : Sample 200\n",
      "Shift p-vals:  0.14000000059604645\n",
      "Random Run 3 : Sample 500\n"
     ]
    },
    {
     "name": "stderr",
     "output_type": "stream",
     "text": [
      "No GPU detected, fall back on CPU.\n",
      "No GPU detected, fall back on CPU.\n"
     ]
    },
    {
     "name": "stdout",
     "output_type": "stream",
     "text": [
      "Shift p-vals:  0.009999999776482582\n",
      "Random Run 3 : Sample 1000\n",
      "Shift p-vals:  0.8299999833106995\n",
      "Random Run 3 : Sample 2000\n",
      "Shift p-vals:  0.46000000834465027\n"
     ]
    },
    {
     "name": "stderr",
     "output_type": "stream",
     "text": [
      "No GPU detected, fall back on CPU.\n",
      "No GPU detected, fall back on CPU.\n",
      "No GPU detected, fall back on CPU.\n",
      "No GPU detected, fall back on CPU.\n"
     ]
    },
    {
     "name": "stdout",
     "output_type": "stream",
     "text": [
      "Random Run 4 : Sample 10\n",
      "Shift p-vals:  0.09000000357627869\n",
      "Random Run 4 : Sample 20\n",
      "Shift p-vals:  0.1899999976158142\n",
      "Random Run 4 : Sample 50\n",
      "Shift p-vals:  0.7200000286102295\n",
      "Random Run 4 : Sample 100\n"
     ]
    },
    {
     "name": "stderr",
     "output_type": "stream",
     "text": [
      "No GPU detected, fall back on CPU.\n",
      "No GPU detected, fall back on CPU.\n"
     ]
    },
    {
     "name": "stdout",
     "output_type": "stream",
     "text": [
      "Shift p-vals:  0.6700000166893005\n",
      "Random Run 4 : Sample 200\n",
      "Shift p-vals:  0.4000000059604645\n",
      "Random Run 4 : Sample 500\n"
     ]
    },
    {
     "name": "stderr",
     "output_type": "stream",
     "text": [
      "No GPU detected, fall back on CPU.\n",
      "No GPU detected, fall back on CPU.\n"
     ]
    },
    {
     "name": "stdout",
     "output_type": "stream",
     "text": [
      "Shift p-vals:  0.7599999904632568\n",
      "Random Run 4 : Sample 1000\n",
      "Shift p-vals:  0.1899999976158142\n",
      "Random Run 4 : Sample 2000\n"
     ]
    },
    {
     "name": "stderr",
     "output_type": "stream",
     "text": [
      "torch.range is deprecated and will be removed in a future release because its behavior is inconsistent with Python's range builtin. Instead, use torch.arange, which produces values in [start, end).\n"
     ]
    },
    {
     "name": "stdout",
     "output_type": "stream",
     "text": [
      "Shift p-vals:  0.9700000286102295\n",
      "seasonal | SMH | NoRed | LSDD\n",
      "Shift seasonal\n",
      "Random Run 0 : Sample 10\n",
      "No GPU detected, fall back on CPU.\n",
      "Shift p-vals:  0.0\n",
      "Random Run 0 : Sample 20\n",
      "No GPU detected, fall back on CPU.\n",
      "Shift p-vals:  0.019999999552965164\n",
      "Random Run 0 : Sample 50\n",
      "No GPU detected, fall back on CPU.\n",
      "Shift p-vals:  0.0\n",
      "Random Run 0 : Sample 100\n",
      "No GPU detected, fall back on CPU.\n",
      "Shift p-vals:  0.0\n",
      "Random Run 0 : Sample 200\n",
      "No GPU detected, fall back on CPU.\n",
      "Shift p-vals:  0.0\n",
      "Random Run 0 : Sample 500\n",
      "No GPU detected, fall back on CPU.\n",
      "Shift p-vals:  0.0\n",
      "Random Run 0 : Sample 1000\n",
      "No GPU detected, fall back on CPU.\n",
      "Shift p-vals:  0.0\n",
      "Random Run 0 : Sample 2000\n",
      "No GPU detected, fall back on CPU.\n",
      "Shift p-vals:  0.0\n",
      "Random Run 1 : Sample 10\n",
      "No GPU detected, fall back on CPU.\n",
      "Shift p-vals:  0.0\n",
      "Random Run 1 : Sample 20\n",
      "No GPU detected, fall back on CPU.\n",
      "Shift p-vals:  0.029999999329447746\n",
      "Random Run 1 : Sample 50\n",
      "No GPU detected, fall back on CPU.\n",
      "Shift p-vals:  0.15000000596046448\n",
      "Random Run 1 : Sample 100\n",
      "No GPU detected, fall back on CPU.\n",
      "Shift p-vals:  0.0\n",
      "Random Run 1 : Sample 200\n",
      "No GPU detected, fall back on CPU.\n",
      "Shift p-vals:  0.0\n",
      "Random Run 1 : Sample 500\n",
      "No GPU detected, fall back on CPU.\n",
      "Shift p-vals:  0.0\n",
      "Random Run 1 : Sample 1000\n",
      "No GPU detected, fall back on CPU.\n",
      "Shift p-vals:  0.0\n",
      "Random Run 1 : Sample 2000\n",
      "No GPU detected, fall back on CPU.\n",
      "Shift p-vals:  0.0\n",
      "Random Run 2 : Sample 10\n",
      "No GPU detected, fall back on CPU.\n",
      "Shift p-vals:  0.0\n",
      "Random Run 2 : Sample 20\n",
      "No GPU detected, fall back on CPU.\n",
      "Shift p-vals:  0.36000001430511475\n",
      "Random Run 2 : Sample 50\n",
      "No GPU detected, fall back on CPU.\n",
      "Shift p-vals:  0.0\n",
      "Random Run 2 : Sample 100\n",
      "No GPU detected, fall back on CPU.\n",
      "Shift p-vals:  0.0\n",
      "Random Run 2 : Sample 200\n",
      "No GPU detected, fall back on CPU.\n",
      "Shift p-vals:  0.0\n",
      "Random Run 2 : Sample 500\n",
      "No GPU detected, fall back on CPU.\n",
      "Shift p-vals:  0.0\n",
      "Random Run 2 : Sample 1000\n",
      "No GPU detected, fall back on CPU.\n",
      "Shift p-vals:  0.0\n",
      "Random Run 2 : Sample 2000\n",
      "No GPU detected, fall back on CPU.\n",
      "Shift p-vals:  0.0\n",
      "Random Run 3 : Sample 10\n",
      "No GPU detected, fall back on CPU.\n",
      "Shift p-vals:  0.009999999776482582\n",
      "Random Run 3 : Sample 20\n",
      "No GPU detected, fall back on CPU.\n",
      "Shift p-vals:  0.009999999776482582\n",
      "Random Run 3 : Sample 50\n",
      "No GPU detected, fall back on CPU.\n",
      "Shift p-vals:  0.0\n",
      "Random Run 3 : Sample 100\n",
      "No GPU detected, fall back on CPU.\n",
      "Shift p-vals:  0.0\n",
      "Random Run 3 : Sample 200\n",
      "No GPU detected, fall back on CPU.\n",
      "Shift p-vals:  0.0\n",
      "Random Run 3 : Sample 500\n",
      "No GPU detected, fall back on CPU.\n",
      "Shift p-vals:  0.0\n",
      "Random Run 3 : Sample 1000\n",
      "No GPU detected, fall back on CPU.\n",
      "Shift p-vals:  0.0\n",
      "Random Run 3 : Sample 2000\n",
      "No GPU detected, fall back on CPU.\n",
      "Shift p-vals:  0.0\n",
      "Random Run 4 : Sample 10\n",
      "No GPU detected, fall back on CPU.\n",
      "Shift p-vals:  0.0\n",
      "Random Run 4 : Sample 20\n",
      "No GPU detected, fall back on CPU.\n",
      "Shift p-vals:  0.0\n",
      "Random Run 4 : Sample 50\n",
      "No GPU detected, fall back on CPU.\n",
      "Shift p-vals:  0.0\n",
      "Random Run 4 : Sample 100\n",
      "No GPU detected, fall back on CPU.\n",
      "Shift p-vals:  0.0\n",
      "Random Run 4 : Sample 200\n",
      "No GPU detected, fall back on CPU.\n",
      "Shift p-vals:  0.0\n",
      "Random Run 4 : Sample 500\n",
      "No GPU detected, fall back on CPU.\n",
      "Shift p-vals:  0.009999999776482582\n",
      "Random Run 4 : Sample 1000\n",
      "No GPU detected, fall back on CPU.\n",
      "Shift p-vals:  0.0\n",
      "Random Run 4 : Sample 2000\n",
      "No GPU detected, fall back on CPU.\n",
      "Shift p-vals:  0.0\n",
      "seasonal | SMH | SRP | MMD\n",
      "Shift seasonal\n"
     ]
    },
    {
     "name": "stderr",
     "output_type": "stream",
     "text": [
      "torch.range is deprecated and will be removed in a future release because its behavior is inconsistent with Python's range builtin. Instead, use torch.arange, which produces values in [start, end).\n"
     ]
    },
    {
     "name": "stdout",
     "output_type": "stream",
     "text": [
      "Random Run 0 : Sample 10\n",
      "No GPU detected, fall back on CPU.\n",
      "Shift p-vals:  0.12999999523162842\n",
      "Random Run 0 : Sample 20\n",
      "No GPU detected, fall back on CPU.\n",
      "Shift p-vals:  0.07999999821186066\n",
      "Random Run 0 : Sample 50\n",
      "No GPU detected, fall back on CPU.\n",
      "Shift p-vals:  0.3700000047683716\n",
      "Random Run 0 : Sample 100\n",
      "No GPU detected, fall back on CPU.\n",
      "Shift p-vals:  0.05999999865889549\n",
      "Random Run 0 : Sample 200\n",
      "No GPU detected, fall back on CPU.\n",
      "Shift p-vals:  0.0\n",
      "Random Run 0 : Sample 500\n",
      "No GPU detected, fall back on CPU.\n",
      "Shift p-vals:  0.41999998688697815\n",
      "Random Run 0 : Sample 1000\n",
      "No GPU detected, fall back on CPU.\n",
      "Shift p-vals:  0.009999999776482582\n",
      "Random Run 0 : Sample 2000\n",
      "No GPU detected, fall back on CPU.\n",
      "Shift p-vals:  0.30000001192092896\n",
      "Random Run 1 : Sample 10\n",
      "No GPU detected, fall back on CPU.\n",
      "Shift p-vals:  0.019999999552965164\n",
      "Random Run 1 : Sample 20\n",
      "No GPU detected, fall back on CPU.\n",
      "Shift p-vals:  0.6700000166893005\n",
      "Random Run 1 : Sample 50\n",
      "No GPU detected, fall back on CPU.\n",
      "Shift p-vals:  0.47999998927116394\n",
      "Random Run 1 : Sample 100\n",
      "No GPU detected, fall back on CPU.\n",
      "Shift p-vals:  0.47999998927116394\n",
      "Random Run 1 : Sample 200\n",
      "No GPU detected, fall back on CPU.\n",
      "Shift p-vals:  0.0\n",
      "Random Run 1 : Sample 500\n",
      "No GPU detected, fall back on CPU.\n",
      "Shift p-vals:  0.0\n",
      "Random Run 1 : Sample 1000\n",
      "No GPU detected, fall back on CPU.\n",
      "Shift p-vals:  0.03999999910593033\n",
      "Random Run 1 : Sample 2000\n",
      "No GPU detected, fall back on CPU.\n",
      "Shift p-vals:  0.0\n",
      "Random Run 2 : Sample 10\n",
      "No GPU detected, fall back on CPU.\n",
      "Shift p-vals:  0.38999998569488525\n",
      "Random Run 2 : Sample 20\n",
      "No GPU detected, fall back on CPU.\n",
      "Shift p-vals:  0.20000000298023224\n",
      "Random Run 2 : Sample 50\n",
      "No GPU detected, fall back on CPU.\n",
      "Shift p-vals:  0.3100000023841858\n",
      "Random Run 2 : Sample 100\n",
      "No GPU detected, fall back on CPU.\n",
      "Shift p-vals:  0.550000011920929\n",
      "Random Run 2 : Sample 200\n",
      "No GPU detected, fall back on CPU.\n",
      "Shift p-vals:  0.5799999833106995\n",
      "Random Run 2 : Sample 500\n",
      "No GPU detected, fall back on CPU.\n",
      "Shift p-vals:  0.17000000178813934\n",
      "Random Run 2 : Sample 1000\n",
      "No GPU detected, fall back on CPU.\n",
      "Shift p-vals:  0.7699999809265137\n",
      "Random Run 2 : Sample 2000\n",
      "No GPU detected, fall back on CPU.\n",
      "Shift p-vals:  0.7599999904632568\n",
      "Random Run 3 : Sample 10\n",
      "No GPU detected, fall back on CPU.\n",
      "Shift p-vals:  0.5\n",
      "Random Run 3 : Sample 20\n",
      "No GPU detected, fall back on CPU.\n",
      "Shift p-vals:  0.17000000178813934\n",
      "Random Run 3 : Sample 50\n",
      "No GPU detected, fall back on CPU.\n",
      "Shift p-vals:  0.6399999856948853\n",
      "Random Run 3 : Sample 100\n",
      "No GPU detected, fall back on CPU.\n",
      "Shift p-vals:  0.0\n",
      "Random Run 3 : Sample 200\n",
      "No GPU detected, fall back on CPU.\n",
      "Shift p-vals:  0.0\n",
      "Random Run 3 : Sample 500\n",
      "No GPU detected, fall back on CPU.\n",
      "Shift p-vals:  0.44999998807907104\n",
      "Random Run 3 : Sample 1000\n",
      "No GPU detected, fall back on CPU.\n",
      "Shift p-vals:  0.46000000834465027\n",
      "Random Run 3 : Sample 2000\n",
      "No GPU detected, fall back on CPU.\n",
      "Shift p-vals:  0.019999999552965164\n",
      "Random Run 4 : Sample 10\n",
      "No GPU detected, fall back on CPU.\n",
      "Shift p-vals:  0.8799999952316284\n",
      "Random Run 4 : Sample 20\n",
      "No GPU detected, fall back on CPU.\n",
      "Shift p-vals:  0.15000000596046448\n",
      "Random Run 4 : Sample 50\n",
      "No GPU detected, fall back on CPU.\n",
      "Shift p-vals:  0.10000000149011612\n",
      "Random Run 4 : Sample 100\n",
      "No GPU detected, fall back on CPU.\n",
      "Shift p-vals:  0.029999999329447746\n",
      "Random Run 4 : Sample 200\n",
      "No GPU detected, fall back on CPU.\n",
      "Shift p-vals:  0.1899999976158142\n",
      "Random Run 4 : Sample 500\n",
      "No GPU detected, fall back on CPU.\n",
      "Shift p-vals:  0.6299999952316284\n",
      "Random Run 4 : Sample 1000\n",
      "No GPU detected, fall back on CPU.\n",
      "Shift p-vals:  0.09000000357627869\n",
      "Random Run 4 : Sample 2000\n",
      "No GPU detected, fall back on CPU.\n",
      "Shift p-vals:  0.05000000074505806\n",
      "seasonal | SMH | SRP | LK\n",
      "Shift seasonal\n"
     ]
    },
    {
     "name": "stderr",
     "output_type": "stream",
     "text": [
      "torch.range is deprecated and will be removed in a future release because its behavior is inconsistent with Python's range builtin. Instead, use torch.arange, which produces values in [start, end).\n",
      "No GPU detected, fall back on CPU.\n",
      "No GPU detected, fall back on CPU.\n",
      "No GPU detected, fall back on CPU.\n",
      "No GPU detected, fall back on CPU.\n"
     ]
    },
    {
     "name": "stdout",
     "output_type": "stream",
     "text": [
      "Random Run 0 : Sample 10\n",
      "Shift p-vals:  0.14000000059604645\n",
      "Random Run 0 : Sample 20\n",
      "Shift p-vals:  0.6000000238418579\n",
      "Random Run 0 : Sample 50\n",
      "Shift p-vals:  0.7900000214576721\n",
      "Random Run 0 : Sample 100\n"
     ]
    },
    {
     "name": "stderr",
     "output_type": "stream",
     "text": [
      "No GPU detected, fall back on CPU.\n"
     ]
    },
    {
     "name": "stdout",
     "output_type": "stream",
     "text": [
      "Shift p-vals:  0.0\n",
      "Random Run 0 : Sample 200\n"
     ]
    },
    {
     "name": "stderr",
     "output_type": "stream",
     "text": [
      "No GPU detected, fall back on CPU.\n"
     ]
    },
    {
     "name": "stdout",
     "output_type": "stream",
     "text": [
      "Shift p-vals:  0.009999999776482582\n",
      "Random Run 0 : Sample 500\n",
      "Shift p-vals:  0.5899999737739563\n",
      "Random Run 0 : Sample 1000\n"
     ]
    },
    {
     "name": "stderr",
     "output_type": "stream",
     "text": [
      "No GPU detected, fall back on CPU.\n",
      "No GPU detected, fall back on CPU.\n"
     ]
    },
    {
     "name": "stdout",
     "output_type": "stream",
     "text": [
      "Shift p-vals:  0.7599999904632568\n",
      "Random Run 0 : Sample 2000\n",
      "Shift p-vals:  0.6499999761581421\n"
     ]
    },
    {
     "name": "stderr",
     "output_type": "stream",
     "text": [
      "No GPU detected, fall back on CPU.\n",
      "No GPU detected, fall back on CPU.\n",
      "No GPU detected, fall back on CPU.\n",
      "No GPU detected, fall back on CPU.\n"
     ]
    },
    {
     "name": "stdout",
     "output_type": "stream",
     "text": [
      "Random Run 1 : Sample 10\n",
      "Shift p-vals:  0.9100000262260437\n",
      "Random Run 1 : Sample 20\n",
      "Shift p-vals:  0.019999999552965164\n",
      "Random Run 1 : Sample 50\n",
      "Shift p-vals:  0.5799999833106995\n",
      "Random Run 1 : Sample 100\n"
     ]
    },
    {
     "name": "stderr",
     "output_type": "stream",
     "text": [
      "No GPU detected, fall back on CPU.\n"
     ]
    },
    {
     "name": "stdout",
     "output_type": "stream",
     "text": [
      "Shift p-vals:  0.9300000071525574\n",
      "Random Run 1 : Sample 200\n"
     ]
    },
    {
     "name": "stderr",
     "output_type": "stream",
     "text": [
      "No GPU detected, fall back on CPU.\n"
     ]
    },
    {
     "name": "stdout",
     "output_type": "stream",
     "text": [
      "Shift p-vals:  0.550000011920929\n",
      "Random Run 1 : Sample 500\n",
      "Shift p-vals:  0.03999999910593033\n",
      "Random Run 1 : Sample 1000\n"
     ]
    },
    {
     "name": "stderr",
     "output_type": "stream",
     "text": [
      "No GPU detected, fall back on CPU.\n",
      "No GPU detected, fall back on CPU.\n"
     ]
    },
    {
     "name": "stdout",
     "output_type": "stream",
     "text": [
      "Shift p-vals:  0.019999999552965164\n",
      "Random Run 1 : Sample 2000\n",
      "Shift p-vals:  0.7400000095367432\n"
     ]
    },
    {
     "name": "stderr",
     "output_type": "stream",
     "text": [
      "No GPU detected, fall back on CPU.\n",
      "No GPU detected, fall back on CPU.\n",
      "No GPU detected, fall back on CPU.\n",
      "No GPU detected, fall back on CPU.\n"
     ]
    },
    {
     "name": "stdout",
     "output_type": "stream",
     "text": [
      "Random Run 2 : Sample 10\n",
      "Shift p-vals:  0.20000000298023224\n",
      "Random Run 2 : Sample 20\n",
      "Shift p-vals:  0.9300000071525574\n",
      "Random Run 2 : Sample 50\n",
      "Shift p-vals:  0.4399999976158142\n",
      "Random Run 2 : Sample 100\n"
     ]
    },
    {
     "name": "stderr",
     "output_type": "stream",
     "text": [
      "No GPU detected, fall back on CPU.\n",
      "No GPU detected, fall back on CPU.\n"
     ]
    },
    {
     "name": "stdout",
     "output_type": "stream",
     "text": [
      "Shift p-vals:  0.0\n",
      "Random Run 2 : Sample 200\n",
      "Shift p-vals:  0.25\n",
      "Random Run 2 : Sample 500\n"
     ]
    },
    {
     "name": "stderr",
     "output_type": "stream",
     "text": [
      "No GPU detected, fall back on CPU.\n",
      "No GPU detected, fall back on CPU.\n"
     ]
    },
    {
     "name": "stdout",
     "output_type": "stream",
     "text": [
      "Shift p-vals:  0.029999999329447746\n",
      "Random Run 2 : Sample 1000\n",
      "Shift p-vals:  0.2199999988079071\n",
      "Random Run 2 : Sample 2000\n",
      "Shift p-vals:  0.7699999809265137\n"
     ]
    },
    {
     "name": "stderr",
     "output_type": "stream",
     "text": [
      "No GPU detected, fall back on CPU.\n",
      "No GPU detected, fall back on CPU.\n",
      "No GPU detected, fall back on CPU.\n",
      "No GPU detected, fall back on CPU.\n"
     ]
    },
    {
     "name": "stdout",
     "output_type": "stream",
     "text": [
      "Random Run 3 : Sample 10\n",
      "Shift p-vals:  0.5299999713897705\n",
      "Random Run 3 : Sample 20\n",
      "Shift p-vals:  0.11999999731779099\n",
      "Random Run 3 : Sample 50\n",
      "Shift p-vals:  0.15000000596046448\n",
      "Random Run 3 : Sample 100\n"
     ]
    },
    {
     "name": "stderr",
     "output_type": "stream",
     "text": [
      "No GPU detected, fall back on CPU.\n",
      "No GPU detected, fall back on CPU.\n"
     ]
    },
    {
     "name": "stdout",
     "output_type": "stream",
     "text": [
      "Shift p-vals:  0.8700000047683716\n",
      "Random Run 3 : Sample 200\n",
      "Shift p-vals:  0.10999999940395355\n",
      "Random Run 3 : Sample 500\n"
     ]
    },
    {
     "name": "stderr",
     "output_type": "stream",
     "text": [
      "No GPU detected, fall back on CPU.\n",
      "No GPU detected, fall back on CPU.\n"
     ]
    },
    {
     "name": "stdout",
     "output_type": "stream",
     "text": [
      "Shift p-vals:  0.07999999821186066\n",
      "Random Run 3 : Sample 1000\n",
      "Shift p-vals:  0.8299999833106995\n",
      "Random Run 3 : Sample 2000\n",
      "Shift p-vals:  0.7099999785423279\n"
     ]
    },
    {
     "name": "stderr",
     "output_type": "stream",
     "text": [
      "No GPU detected, fall back on CPU.\n",
      "No GPU detected, fall back on CPU.\n",
      "No GPU detected, fall back on CPU.\n",
      "No GPU detected, fall back on CPU.\n"
     ]
    },
    {
     "name": "stdout",
     "output_type": "stream",
     "text": [
      "Random Run 4 : Sample 10\n",
      "Shift p-vals:  0.7699999809265137\n",
      "Random Run 4 : Sample 20\n",
      "Shift p-vals:  0.7799999713897705\n",
      "Random Run 4 : Sample 50\n",
      "Shift p-vals:  0.019999999552965164\n",
      "Random Run 4 : Sample 100\n"
     ]
    },
    {
     "name": "stderr",
     "output_type": "stream",
     "text": [
      "No GPU detected, fall back on CPU.\n",
      "No GPU detected, fall back on CPU.\n"
     ]
    },
    {
     "name": "stdout",
     "output_type": "stream",
     "text": [
      "Shift p-vals:  0.7099999785423279\n",
      "Random Run 4 : Sample 200\n",
      "Shift p-vals:  0.0\n",
      "Random Run 4 : Sample 500\n"
     ]
    },
    {
     "name": "stderr",
     "output_type": "stream",
     "text": [
      "No GPU detected, fall back on CPU.\n",
      "No GPU detected, fall back on CPU.\n"
     ]
    },
    {
     "name": "stdout",
     "output_type": "stream",
     "text": [
      "Shift p-vals:  0.18000000715255737\n",
      "Random Run 4 : Sample 1000\n",
      "Shift p-vals:  0.10000000149011612\n",
      "Random Run 4 : Sample 2000\n"
     ]
    },
    {
     "name": "stderr",
     "output_type": "stream",
     "text": [
      "torch.range is deprecated and will be removed in a future release because its behavior is inconsistent with Python's range builtin. Instead, use torch.arange, which produces values in [start, end).\n"
     ]
    },
    {
     "name": "stdout",
     "output_type": "stream",
     "text": [
      "Shift p-vals:  0.8700000047683716\n",
      "seasonal | SMH | SRP | LSDD\n",
      "Shift seasonal\n",
      "Random Run 0 : Sample 10\n",
      "No GPU detected, fall back on CPU.\n",
      "Shift p-vals:  0.4000000059604645\n",
      "Random Run 0 : Sample 20\n",
      "No GPU detected, fall back on CPU.\n",
      "Shift p-vals:  0.20999999344348907\n",
      "Random Run 0 : Sample 50\n",
      "No GPU detected, fall back on CPU.\n",
      "Shift p-vals:  0.0\n",
      "Random Run 0 : Sample 100\n",
      "No GPU detected, fall back on CPU.\n",
      "Shift p-vals:  0.029999999329447746\n",
      "Random Run 0 : Sample 200\n",
      "No GPU detected, fall back on CPU.\n",
      "Shift p-vals:  0.0\n",
      "Random Run 0 : Sample 500\n",
      "No GPU detected, fall back on CPU.\n",
      "Shift p-vals:  0.1899999976158142\n",
      "Random Run 0 : Sample 1000\n",
      "No GPU detected, fall back on CPU.\n",
      "Shift p-vals:  0.20000000298023224\n",
      "Random Run 0 : Sample 2000\n",
      "No GPU detected, fall back on CPU.\n",
      "Shift p-vals:  0.0\n",
      "Random Run 1 : Sample 10\n",
      "No GPU detected, fall back on CPU.\n",
      "Shift p-vals:  0.5799999833106995\n",
      "Random Run 1 : Sample 20\n",
      "No GPU detected, fall back on CPU.\n",
      "Shift p-vals:  0.07999999821186066\n",
      "Random Run 1 : Sample 50\n",
      "No GPU detected, fall back on CPU.\n",
      "Shift p-vals:  0.05999999865889549\n",
      "Random Run 1 : Sample 100\n",
      "No GPU detected, fall back on CPU.\n",
      "Shift p-vals:  0.8799999952316284\n",
      "Random Run 1 : Sample 200\n",
      "No GPU detected, fall back on CPU.\n",
      "Shift p-vals:  0.0\n",
      "Random Run 1 : Sample 500\n",
      "No GPU detected, fall back on CPU.\n",
      "Shift p-vals:  0.0\n",
      "Random Run 1 : Sample 1000\n",
      "No GPU detected, fall back on CPU.\n",
      "Shift p-vals:  0.10000000149011612\n",
      "Random Run 1 : Sample 2000\n",
      "No GPU detected, fall back on CPU.\n",
      "Shift p-vals:  0.009999999776482582\n",
      "Random Run 2 : Sample 10\n",
      "No GPU detected, fall back on CPU.\n",
      "Shift p-vals:  0.0\n",
      "Random Run 2 : Sample 20\n",
      "No GPU detected, fall back on CPU.\n",
      "Shift p-vals:  0.18000000715255737\n",
      "Random Run 2 : Sample 50\n",
      "No GPU detected, fall back on CPU.\n",
      "Shift p-vals:  0.25\n",
      "Random Run 2 : Sample 100\n",
      "No GPU detected, fall back on CPU.\n",
      "Shift p-vals:  0.4699999988079071\n",
      "Random Run 2 : Sample 200\n",
      "No GPU detected, fall back on CPU.\n",
      "Shift p-vals:  0.0\n",
      "Random Run 2 : Sample 500\n",
      "No GPU detected, fall back on CPU.\n",
      "Shift p-vals:  0.03999999910593033\n",
      "Random Run 2 : Sample 1000\n",
      "No GPU detected, fall back on CPU.\n",
      "Shift p-vals:  0.0\n",
      "Random Run 2 : Sample 2000\n",
      "No GPU detected, fall back on CPU.\n",
      "Shift p-vals:  0.0\n",
      "Random Run 3 : Sample 10\n",
      "No GPU detected, fall back on CPU.\n",
      "Shift p-vals:  0.5600000023841858\n",
      "Random Run 3 : Sample 20\n",
      "No GPU detected, fall back on CPU.\n",
      "Shift p-vals:  0.75\n",
      "Random Run 3 : Sample 50\n",
      "No GPU detected, fall back on CPU.\n",
      "Shift p-vals:  0.0\n",
      "Random Run 3 : Sample 100\n",
      "No GPU detected, fall back on CPU.\n",
      "Shift p-vals:  0.0\n",
      "Random Run 3 : Sample 200\n",
      "No GPU detected, fall back on CPU.\n",
      "Shift p-vals:  0.4399999976158142\n",
      "Random Run 3 : Sample 500\n",
      "No GPU detected, fall back on CPU.\n",
      "Shift p-vals:  0.17000000178813934\n",
      "Random Run 3 : Sample 1000\n",
      "No GPU detected, fall back on CPU.\n",
      "Shift p-vals:  0.33000001311302185\n",
      "Random Run 3 : Sample 2000\n",
      "No GPU detected, fall back on CPU.\n",
      "Shift p-vals:  0.0\n",
      "Random Run 4 : Sample 10\n",
      "No GPU detected, fall back on CPU.\n",
      "Shift p-vals:  0.4699999988079071\n",
      "Random Run 4 : Sample 20\n",
      "No GPU detected, fall back on CPU.\n",
      "Shift p-vals:  0.49000000953674316\n",
      "Random Run 4 : Sample 50\n",
      "No GPU detected, fall back on CPU.\n",
      "Shift p-vals:  0.28999999165534973\n",
      "Random Run 4 : Sample 100\n",
      "No GPU detected, fall back on CPU.\n",
      "Shift p-vals:  0.0\n",
      "Random Run 4 : Sample 200\n",
      "No GPU detected, fall back on CPU.\n",
      "Shift p-vals:  0.3499999940395355\n",
      "Random Run 4 : Sample 500\n",
      "No GPU detected, fall back on CPU.\n",
      "Shift p-vals:  0.5899999737739563\n",
      "Random Run 4 : Sample 1000\n",
      "No GPU detected, fall back on CPU.\n",
      "Shift p-vals:  0.5600000023841858\n",
      "Random Run 4 : Sample 2000\n",
      "No GPU detected, fall back on CPU.\n",
      "Shift p-vals:  0.03999999910593033\n",
      "seasonal | SMH | PCA | MMD\n",
      "Shift seasonal\n"
     ]
    },
    {
     "name": "stderr",
     "output_type": "stream",
     "text": [
      "torch.range is deprecated and will be removed in a future release because its behavior is inconsistent with Python's range builtin. Instead, use torch.arange, which produces values in [start, end).\n"
     ]
    },
    {
     "name": "stdout",
     "output_type": "stream",
     "text": [
      "Random Run 0 : Sample 10\n",
      "No GPU detected, fall back on CPU.\n",
      "Shift p-vals:  0.14000000059604645\n",
      "Random Run 0 : Sample 20\n",
      "No GPU detected, fall back on CPU.\n",
      "Shift p-vals:  0.009999999776482582\n",
      "Random Run 0 : Sample 50\n",
      "No GPU detected, fall back on CPU.\n",
      "Shift p-vals:  0.03999999910593033\n",
      "Random Run 0 : Sample 100\n",
      "No GPU detected, fall back on CPU.\n",
      "Shift p-vals:  0.009999999776482582\n",
      "Random Run 0 : Sample 200\n",
      "No GPU detected, fall back on CPU.\n",
      "Shift p-vals:  0.009999999776482582\n",
      "Random Run 0 : Sample 500\n",
      "No GPU detected, fall back on CPU.\n",
      "Shift p-vals:  0.0\n",
      "Random Run 0 : Sample 1000\n",
      "No GPU detected, fall back on CPU.\n",
      "Shift p-vals:  0.0\n",
      "Random Run 0 : Sample 2000\n",
      "No GPU detected, fall back on CPU.\n",
      "Shift p-vals:  0.009999999776482582\n",
      "Random Run 1 : Sample 10\n",
      "No GPU detected, fall back on CPU.\n",
      "Shift p-vals:  0.23999999463558197\n",
      "Random Run 1 : Sample 20\n",
      "No GPU detected, fall back on CPU.\n",
      "Shift p-vals:  0.3499999940395355\n",
      "Random Run 1 : Sample 50\n",
      "No GPU detected, fall back on CPU.\n",
      "Shift p-vals:  0.5099999904632568\n",
      "Random Run 1 : Sample 100\n",
      "No GPU detected, fall back on CPU.\n",
      "Shift p-vals:  0.03999999910593033\n",
      "Random Run 1 : Sample 200\n",
      "No GPU detected, fall back on CPU.\n",
      "Shift p-vals:  0.05000000074505806\n",
      "Random Run 1 : Sample 500\n",
      "No GPU detected, fall back on CPU.\n",
      "Shift p-vals:  0.10999999940395355\n",
      "Random Run 1 : Sample 1000\n",
      "No GPU detected, fall back on CPU.\n",
      "Shift p-vals:  0.07000000029802322\n",
      "Random Run 1 : Sample 2000\n",
      "No GPU detected, fall back on CPU.\n",
      "Shift p-vals:  0.03999999910593033\n",
      "Random Run 2 : Sample 10\n",
      "No GPU detected, fall back on CPU.\n",
      "Shift p-vals:  0.3799999952316284\n",
      "Random Run 2 : Sample 20\n",
      "No GPU detected, fall back on CPU.\n",
      "Shift p-vals:  0.28999999165534973\n",
      "Random Run 2 : Sample 50\n",
      "No GPU detected, fall back on CPU.\n",
      "Shift p-vals:  0.25\n",
      "Random Run 2 : Sample 100\n",
      "No GPU detected, fall back on CPU.\n",
      "Shift p-vals:  0.14000000059604645\n",
      "Random Run 2 : Sample 200\n",
      "No GPU detected, fall back on CPU.\n",
      "Shift p-vals:  0.07000000029802322\n",
      "Random Run 2 : Sample 500\n",
      "No GPU detected, fall back on CPU.\n",
      "Shift p-vals:  0.07000000029802322\n",
      "Random Run 2 : Sample 1000\n",
      "No GPU detected, fall back on CPU.\n",
      "Shift p-vals:  0.07000000029802322\n",
      "Random Run 2 : Sample 2000\n",
      "No GPU detected, fall back on CPU.\n",
      "Shift p-vals:  0.07999999821186066\n",
      "Random Run 3 : Sample 10\n",
      "No GPU detected, fall back on CPU.\n",
      "Shift p-vals:  0.3499999940395355\n",
      "Random Run 3 : Sample 20\n",
      "No GPU detected, fall back on CPU.\n",
      "Shift p-vals:  0.07999999821186066\n",
      "Random Run 3 : Sample 50\n",
      "No GPU detected, fall back on CPU.\n",
      "Shift p-vals:  0.11999999731779099\n",
      "Random Run 3 : Sample 100\n",
      "No GPU detected, fall back on CPU.\n",
      "Shift p-vals:  0.05999999865889549\n",
      "Random Run 3 : Sample 200\n",
      "No GPU detected, fall back on CPU.\n",
      "Shift p-vals:  0.0\n",
      "Random Run 3 : Sample 500\n",
      "No GPU detected, fall back on CPU.\n",
      "Shift p-vals:  0.019999999552965164\n",
      "Random Run 3 : Sample 1000\n",
      "No GPU detected, fall back on CPU.\n",
      "Shift p-vals:  0.029999999329447746\n",
      "Random Run 3 : Sample 2000\n",
      "No GPU detected, fall back on CPU.\n",
      "Shift p-vals:  0.05999999865889549\n",
      "Random Run 4 : Sample 10\n",
      "No GPU detected, fall back on CPU.\n",
      "Shift p-vals:  0.8899999856948853\n",
      "Random Run 4 : Sample 20\n",
      "No GPU detected, fall back on CPU.\n",
      "Shift p-vals:  0.4699999988079071\n",
      "Random Run 4 : Sample 50\n",
      "No GPU detected, fall back on CPU.\n",
      "Shift p-vals:  0.20999999344348907\n",
      "Random Run 4 : Sample 100\n",
      "No GPU detected, fall back on CPU.\n",
      "Shift p-vals:  0.05000000074505806\n",
      "Random Run 4 : Sample 200\n",
      "No GPU detected, fall back on CPU.\n",
      "Shift p-vals:  0.03999999910593033\n",
      "Random Run 4 : Sample 500\n",
      "No GPU detected, fall back on CPU.\n",
      "Shift p-vals:  0.07999999821186066\n",
      "Random Run 4 : Sample 1000\n",
      "No GPU detected, fall back on CPU.\n",
      "Shift p-vals:  0.05999999865889549\n",
      "Random Run 4 : Sample 2000\n",
      "No GPU detected, fall back on CPU.\n",
      "Shift p-vals:  0.03999999910593033\n",
      "seasonal | SMH | PCA | LK\n",
      "Shift seasonal\n"
     ]
    },
    {
     "name": "stderr",
     "output_type": "stream",
     "text": [
      "torch.range is deprecated and will be removed in a future release because its behavior is inconsistent with Python's range builtin. Instead, use torch.arange, which produces values in [start, end).\n",
      "No GPU detected, fall back on CPU.\n",
      "No GPU detected, fall back on CPU.\n",
      "No GPU detected, fall back on CPU.\n",
      "No GPU detected, fall back on CPU.\n"
     ]
    },
    {
     "name": "stdout",
     "output_type": "stream",
     "text": [
      "Random Run 0 : Sample 10\n",
      "Shift p-vals:  0.07999999821186066\n",
      "Random Run 0 : Sample 20\n",
      "Shift p-vals:  0.9700000286102295\n",
      "Random Run 0 : Sample 50\n",
      "Shift p-vals:  0.09000000357627869\n",
      "Random Run 0 : Sample 100\n"
     ]
    },
    {
     "name": "stderr",
     "output_type": "stream",
     "text": [
      "No GPU detected, fall back on CPU.\n",
      "No GPU detected, fall back on CPU.\n"
     ]
    },
    {
     "name": "stdout",
     "output_type": "stream",
     "text": [
      "Shift p-vals:  0.17000000178813934\n",
      "Random Run 0 : Sample 200\n",
      "Shift p-vals:  0.5199999809265137\n",
      "Random Run 0 : Sample 500\n"
     ]
    },
    {
     "name": "stderr",
     "output_type": "stream",
     "text": [
      "No GPU detected, fall back on CPU.\n"
     ]
    },
    {
     "name": "stdout",
     "output_type": "stream",
     "text": [
      "Shift p-vals:  0.12999999523162842\n",
      "Random Run 0 : Sample 1000\n",
      "Shift p-vals:  0.550000011920929\n",
      "Random Run 0 : Sample 2000\n"
     ]
    },
    {
     "name": "stderr",
     "output_type": "stream",
     "text": [
      "No GPU detected, fall back on CPU.\n"
     ]
    },
    {
     "name": "stdout",
     "output_type": "stream",
     "text": [
      "Shift p-vals:  0.8999999761581421\n"
     ]
    },
    {
     "name": "stderr",
     "output_type": "stream",
     "text": [
      "No GPU detected, fall back on CPU.\n",
      "No GPU detected, fall back on CPU.\n",
      "No GPU detected, fall back on CPU.\n",
      "No GPU detected, fall back on CPU.\n"
     ]
    },
    {
     "name": "stdout",
     "output_type": "stream",
     "text": [
      "Random Run 1 : Sample 10\n",
      "Shift p-vals:  0.07999999821186066\n",
      "Random Run 1 : Sample 20\n",
      "Shift p-vals:  0.3400000035762787\n",
      "Random Run 1 : Sample 50\n",
      "Shift p-vals:  0.5600000023841858\n",
      "Random Run 1 : Sample 100\n"
     ]
    },
    {
     "name": "stderr",
     "output_type": "stream",
     "text": [
      "No GPU detected, fall back on CPU.\n",
      "No GPU detected, fall back on CPU.\n"
     ]
    },
    {
     "name": "stdout",
     "output_type": "stream",
     "text": [
      "Shift p-vals:  0.9800000190734863\n",
      "Random Run 1 : Sample 200\n",
      "Shift p-vals:  0.6299999952316284\n",
      "Random Run 1 : Sample 500\n"
     ]
    },
    {
     "name": "stderr",
     "output_type": "stream",
     "text": [
      "No GPU detected, fall back on CPU.\n",
      "No GPU detected, fall back on CPU.\n"
     ]
    },
    {
     "name": "stdout",
     "output_type": "stream",
     "text": [
      "Shift p-vals:  0.1899999976158142\n",
      "Random Run 1 : Sample 1000\n",
      "Shift p-vals:  0.7300000190734863\n",
      "Random Run 1 : Sample 2000\n",
      "Shift p-vals:  0.6899999976158142\n"
     ]
    },
    {
     "name": "stderr",
     "output_type": "stream",
     "text": [
      "No GPU detected, fall back on CPU.\n",
      "No GPU detected, fall back on CPU.\n",
      "No GPU detected, fall back on CPU.\n",
      "No GPU detected, fall back on CPU.\n"
     ]
    },
    {
     "name": "stdout",
     "output_type": "stream",
     "text": [
      "Random Run 2 : Sample 10\n",
      "Shift p-vals:  0.7099999785423279\n",
      "Random Run 2 : Sample 20\n",
      "Shift p-vals:  0.36000001430511475\n",
      "Random Run 2 : Sample 50\n",
      "Shift p-vals:  0.699999988079071\n",
      "Random Run 2 : Sample 100\n"
     ]
    },
    {
     "name": "stderr",
     "output_type": "stream",
     "text": [
      "No GPU detected, fall back on CPU.\n",
      "No GPU detected, fall back on CPU.\n"
     ]
    },
    {
     "name": "stdout",
     "output_type": "stream",
     "text": [
      "Shift p-vals:  0.20000000298023224\n",
      "Random Run 2 : Sample 200\n",
      "Shift p-vals:  0.3799999952316284\n",
      "Random Run 2 : Sample 500\n"
     ]
    },
    {
     "name": "stderr",
     "output_type": "stream",
     "text": [
      "No GPU detected, fall back on CPU.\n"
     ]
    },
    {
     "name": "stdout",
     "output_type": "stream",
     "text": [
      "Shift p-vals:  0.4399999976158142\n",
      "Random Run 2 : Sample 1000\n",
      "Shift p-vals:  0.36000001430511475\n",
      "Random Run 2 : Sample 2000\n"
     ]
    },
    {
     "name": "stderr",
     "output_type": "stream",
     "text": [
      "No GPU detected, fall back on CPU.\n"
     ]
    },
    {
     "name": "stdout",
     "output_type": "stream",
     "text": [
      "Shift p-vals:  0.8899999856948853\n"
     ]
    },
    {
     "name": "stderr",
     "output_type": "stream",
     "text": [
      "No GPU detected, fall back on CPU.\n",
      "No GPU detected, fall back on CPU.\n",
      "No GPU detected, fall back on CPU.\n",
      "No GPU detected, fall back on CPU.\n"
     ]
    },
    {
     "name": "stdout",
     "output_type": "stream",
     "text": [
      "Random Run 3 : Sample 10\n",
      "Shift p-vals:  0.15000000596046448\n",
      "Random Run 3 : Sample 20\n",
      "Shift p-vals:  0.14000000059604645\n",
      "Random Run 3 : Sample 50\n",
      "Shift p-vals:  0.3799999952316284\n",
      "Random Run 3 : Sample 100\n"
     ]
    },
    {
     "name": "stderr",
     "output_type": "stream",
     "text": [
      "No GPU detected, fall back on CPU.\n",
      "No GPU detected, fall back on CPU.\n"
     ]
    },
    {
     "name": "stdout",
     "output_type": "stream",
     "text": [
      "Shift p-vals:  0.20000000298023224\n",
      "Random Run 3 : Sample 200\n",
      "Shift p-vals:  0.8500000238418579\n",
      "Random Run 3 : Sample 500\n"
     ]
    },
    {
     "name": "stderr",
     "output_type": "stream",
     "text": [
      "No GPU detected, fall back on CPU.\n",
      "No GPU detected, fall back on CPU.\n"
     ]
    },
    {
     "name": "stdout",
     "output_type": "stream",
     "text": [
      "Shift p-vals:  0.05000000074505806\n",
      "Random Run 3 : Sample 1000\n",
      "Shift p-vals:  0.009999999776482582\n",
      "Random Run 3 : Sample 2000\n",
      "Shift p-vals:  0.3700000047683716\n"
     ]
    },
    {
     "name": "stderr",
     "output_type": "stream",
     "text": [
      "No GPU detected, fall back on CPU.\n",
      "No GPU detected, fall back on CPU.\n",
      "No GPU detected, fall back on CPU.\n",
      "No GPU detected, fall back on CPU.\n"
     ]
    },
    {
     "name": "stdout",
     "output_type": "stream",
     "text": [
      "Random Run 4 : Sample 10\n",
      "Shift p-vals:  0.9100000262260437\n",
      "Random Run 4 : Sample 20\n",
      "Shift p-vals:  0.30000001192092896\n",
      "Random Run 4 : Sample 50\n",
      "Shift p-vals:  0.7300000190734863\n",
      "Random Run 4 : Sample 100\n"
     ]
    },
    {
     "name": "stderr",
     "output_type": "stream",
     "text": [
      "No GPU detected, fall back on CPU.\n"
     ]
    },
    {
     "name": "stdout",
     "output_type": "stream",
     "text": [
      "Shift p-vals:  0.8999999761581421\n",
      "Random Run 4 : Sample 200\n",
      "Shift p-vals:  0.9599999785423279\n",
      "Random Run 4 : Sample 500\n"
     ]
    },
    {
     "name": "stderr",
     "output_type": "stream",
     "text": [
      "No GPU detected, fall back on CPU.\n",
      "No GPU detected, fall back on CPU.\n"
     ]
    },
    {
     "name": "stdout",
     "output_type": "stream",
     "text": [
      "Shift p-vals:  0.699999988079071\n",
      "Random Run 4 : Sample 1000\n",
      "Shift p-vals:  0.019999999552965164\n",
      "Random Run 4 : Sample 2000\n"
     ]
    },
    {
     "name": "stderr",
     "output_type": "stream",
     "text": [
      "No GPU detected, fall back on CPU.\n",
      "torch.range is deprecated and will be removed in a future release because its behavior is inconsistent with Python's range builtin. Instead, use torch.arange, which produces values in [start, end).\n"
     ]
    },
    {
     "name": "stdout",
     "output_type": "stream",
     "text": [
      "Shift p-vals:  0.6499999761581421\n",
      "seasonal | SMH | PCA | LSDD\n",
      "Shift seasonal\n",
      "Random Run 0 : Sample 10\n",
      "No GPU detected, fall back on CPU.\n",
      "Shift p-vals:  0.25\n",
      "Random Run 0 : Sample 20\n",
      "No GPU detected, fall back on CPU.\n",
      "Shift p-vals:  0.07000000029802322\n",
      "Random Run 0 : Sample 50\n",
      "No GPU detected, fall back on CPU.\n",
      "Shift p-vals:  0.12999999523162842\n",
      "Random Run 0 : Sample 100\n",
      "No GPU detected, fall back on CPU.\n",
      "Shift p-vals:  0.11999999731779099\n",
      "Random Run 0 : Sample 200\n",
      "No GPU detected, fall back on CPU.\n",
      "Shift p-vals:  0.8100000023841858\n",
      "Random Run 0 : Sample 500\n",
      "No GPU detected, fall back on CPU.\n",
      "Shift p-vals:  0.3700000047683716\n",
      "Random Run 0 : Sample 1000\n",
      "No GPU detected, fall back on CPU.\n",
      "Shift p-vals:  0.07999999821186066\n",
      "Random Run 0 : Sample 2000\n",
      "No GPU detected, fall back on CPU.\n",
      "Shift p-vals:  0.1899999976158142\n",
      "Random Run 1 : Sample 10\n",
      "No GPU detected, fall back on CPU.\n",
      "Shift p-vals:  0.30000001192092896\n",
      "Random Run 1 : Sample 20\n",
      "No GPU detected, fall back on CPU.\n",
      "Shift p-vals:  0.20999999344348907\n",
      "Random Run 1 : Sample 50\n",
      "No GPU detected, fall back on CPU.\n",
      "Shift p-vals:  0.0\n",
      "Random Run 1 : Sample 100\n",
      "No GPU detected, fall back on CPU.\n",
      "Shift p-vals:  0.0\n",
      "Random Run 1 : Sample 200\n",
      "No GPU detected, fall back on CPU.\n",
      "Shift p-vals:  0.0\n",
      "Random Run 1 : Sample 500\n",
      "No GPU detected, fall back on CPU.\n",
      "Shift p-vals:  0.0\n",
      "Random Run 1 : Sample 1000\n",
      "No GPU detected, fall back on CPU.\n",
      "Shift p-vals:  0.0\n",
      "Random Run 1 : Sample 2000\n",
      "No GPU detected, fall back on CPU.\n",
      "Shift p-vals:  0.0\n",
      "Random Run 2 : Sample 10\n",
      "No GPU detected, fall back on CPU.\n",
      "Shift p-vals:  0.9599999785423279\n",
      "Random Run 2 : Sample 20\n",
      "No GPU detected, fall back on CPU.\n",
      "Shift p-vals:  0.6299999952316284\n",
      "Random Run 2 : Sample 50\n",
      "No GPU detected, fall back on CPU.\n",
      "Shift p-vals:  0.07000000029802322\n",
      "Random Run 2 : Sample 100\n",
      "No GPU detected, fall back on CPU.\n",
      "Shift p-vals:  0.6200000047683716\n",
      "Random Run 2 : Sample 200\n",
      "No GPU detected, fall back on CPU.\n",
      "Shift p-vals:  0.6800000071525574\n",
      "Random Run 2 : Sample 500\n",
      "No GPU detected, fall back on CPU.\n",
      "Shift p-vals:  0.5199999809265137\n",
      "Random Run 2 : Sample 1000\n",
      "No GPU detected, fall back on CPU.\n",
      "Shift p-vals:  0.9100000262260437\n",
      "Random Run 2 : Sample 2000\n",
      "No GPU detected, fall back on CPU.\n",
      "Shift p-vals:  0.3199999928474426\n",
      "Random Run 3 : Sample 10\n",
      "No GPU detected, fall back on CPU.\n",
      "Shift p-vals:  0.17000000178813934\n",
      "Random Run 3 : Sample 20\n",
      "No GPU detected, fall back on CPU.\n",
      "Shift p-vals:  0.6299999952316284\n",
      "Random Run 3 : Sample 50\n",
      "No GPU detected, fall back on CPU.\n",
      "Shift p-vals:  0.25\n",
      "Random Run 3 : Sample 100\n",
      "No GPU detected, fall back on CPU.\n",
      "Shift p-vals:  0.9700000286102295\n",
      "Random Run 3 : Sample 200\n",
      "No GPU detected, fall back on CPU.\n",
      "Shift p-vals:  0.009999999776482582\n",
      "Random Run 3 : Sample 500\n",
      "No GPU detected, fall back on CPU.\n",
      "Shift p-vals:  0.05000000074505806\n",
      "Random Run 3 : Sample 1000\n",
      "No GPU detected, fall back on CPU.\n",
      "Shift p-vals:  0.0\n",
      "Random Run 3 : Sample 2000\n",
      "No GPU detected, fall back on CPU.\n",
      "Shift p-vals:  0.0\n",
      "Random Run 4 : Sample 10\n",
      "No GPU detected, fall back on CPU.\n",
      "Shift p-vals:  0.41999998688697815\n",
      "Random Run 4 : Sample 20\n",
      "No GPU detected, fall back on CPU.\n",
      "Shift p-vals:  0.8799999952316284\n",
      "Random Run 4 : Sample 50\n",
      "No GPU detected, fall back on CPU.\n",
      "Shift p-vals:  0.0\n",
      "Random Run 4 : Sample 100\n",
      "No GPU detected, fall back on CPU.\n",
      "Shift p-vals:  0.0\n",
      "Random Run 4 : Sample 200\n",
      "No GPU detected, fall back on CPU.\n",
      "Shift p-vals:  0.8700000047683716\n",
      "Random Run 4 : Sample 500\n",
      "No GPU detected, fall back on CPU.\n",
      "Shift p-vals:  0.009999999776482582\n",
      "Random Run 4 : Sample 1000\n",
      "No GPU detected, fall back on CPU.\n",
      "Shift p-vals:  0.0\n",
      "Random Run 4 : Sample 2000\n",
      "No GPU detected, fall back on CPU.\n",
      "Shift p-vals:  0.38999998569488525\n",
      "seasonal | SMH | BBSDs_FFNN | MMD\n",
      "Shift seasonal\n"
     ]
    },
    {
     "name": "stderr",
     "output_type": "stream",
     "text": [
      "torch.range is deprecated and will be removed in a future release because its behavior is inconsistent with Python's range builtin. Instead, use torch.arange, which produces values in [start, end).\n"
     ]
    },
    {
     "name": "stdout",
     "output_type": "stream",
     "text": [
      "Random Run 0 : Sample 10\n",
      "No GPU detected, fall back on CPU.\n",
      "Shift p-vals:  0.8199999928474426\n",
      "Random Run 0 : Sample 20\n",
      "No GPU detected, fall back on CPU.\n",
      "Shift p-vals:  0.4399999976158142\n",
      "Random Run 0 : Sample 50\n",
      "No GPU detected, fall back on CPU.\n",
      "Shift p-vals:  0.12999999523162842\n",
      "Random Run 0 : Sample 100\n",
      "No GPU detected, fall back on CPU.\n",
      "Shift p-vals:  0.28999999165534973\n",
      "Random Run 0 : Sample 200\n",
      "No GPU detected, fall back on CPU.\n",
      "Shift p-vals:  0.0\n",
      "Random Run 0 : Sample 500\n",
      "No GPU detected, fall back on CPU.\n",
      "Shift p-vals:  0.33000001311302185\n",
      "Random Run 0 : Sample 1000\n",
      "No GPU detected, fall back on CPU.\n",
      "Shift p-vals:  0.23000000417232513\n",
      "Random Run 0 : Sample 2000\n",
      "No GPU detected, fall back on CPU.\n",
      "Shift p-vals:  0.0\n",
      "Random Run 1 : Sample 10\n",
      "No GPU detected, fall back on CPU.\n",
      "Shift p-vals:  0.6800000071525574\n",
      "Random Run 1 : Sample 20\n",
      "No GPU detected, fall back on CPU.\n",
      "Shift p-vals:  0.03999999910593033\n",
      "Random Run 1 : Sample 50\n",
      "No GPU detected, fall back on CPU.\n",
      "Shift p-vals:  0.6600000262260437\n",
      "Random Run 1 : Sample 100\n",
      "No GPU detected, fall back on CPU.\n",
      "Shift p-vals:  0.019999999552965164\n",
      "Random Run 1 : Sample 200\n",
      "No GPU detected, fall back on CPU.\n",
      "Shift p-vals:  0.3499999940395355\n",
      "Random Run 1 : Sample 500\n",
      "No GPU detected, fall back on CPU.\n",
      "Shift p-vals:  0.27000001072883606\n",
      "Random Run 1 : Sample 1000\n",
      "No GPU detected, fall back on CPU.\n",
      "Shift p-vals:  0.2199999988079071\n",
      "Random Run 1 : Sample 2000\n",
      "No GPU detected, fall back on CPU.\n",
      "Shift p-vals:  0.7300000190734863\n",
      "Random Run 2 : Sample 10\n",
      "No GPU detected, fall back on CPU.\n",
      "Shift p-vals:  0.25\n",
      "Random Run 2 : Sample 20\n",
      "No GPU detected, fall back on CPU.\n",
      "Shift p-vals:  0.7599999904632568\n",
      "Random Run 2 : Sample 50\n",
      "No GPU detected, fall back on CPU.\n",
      "Shift p-vals:  0.12999999523162842\n",
      "Random Run 2 : Sample 100\n",
      "No GPU detected, fall back on CPU.\n",
      "Shift p-vals:  0.5400000214576721\n",
      "Random Run 2 : Sample 200\n",
      "No GPU detected, fall back on CPU.\n",
      "Shift p-vals:  0.0\n",
      "Random Run 2 : Sample 500\n",
      "No GPU detected, fall back on CPU.\n",
      "Shift p-vals:  0.7099999785423279\n",
      "Random Run 2 : Sample 1000\n",
      "No GPU detected, fall back on CPU.\n",
      "Shift p-vals:  0.3799999952316284\n",
      "Random Run 2 : Sample 2000\n",
      "No GPU detected, fall back on CPU.\n",
      "Shift p-vals:  0.009999999776482582\n",
      "Random Run 3 : Sample 10\n",
      "No GPU detected, fall back on CPU.\n",
      "Shift p-vals:  0.9200000166893005\n",
      "Random Run 3 : Sample 20\n",
      "No GPU detected, fall back on CPU.\n",
      "Shift p-vals:  0.8100000023841858\n",
      "Random Run 3 : Sample 50\n",
      "No GPU detected, fall back on CPU.\n",
      "Shift p-vals:  0.029999999329447746\n",
      "Random Run 3 : Sample 100\n",
      "No GPU detected, fall back on CPU.\n",
      "Shift p-vals:  0.41999998688697815\n",
      "Random Run 3 : Sample 200\n",
      "No GPU detected, fall back on CPU.\n",
      "Shift p-vals:  0.10999999940395355\n",
      "Random Run 3 : Sample 500\n",
      "No GPU detected, fall back on CPU.\n",
      "Shift p-vals:  0.23999999463558197\n",
      "Random Run 3 : Sample 1000\n",
      "No GPU detected, fall back on CPU.\n",
      "Shift p-vals:  0.0\n",
      "Random Run 3 : Sample 2000\n",
      "No GPU detected, fall back on CPU.\n",
      "Shift p-vals:  0.14000000059604645\n",
      "Random Run 4 : Sample 10\n",
      "No GPU detected, fall back on CPU.\n",
      "Shift p-vals:  0.18000000715255737\n",
      "Random Run 4 : Sample 20\n",
      "No GPU detected, fall back on CPU.\n",
      "Shift p-vals:  0.41999998688697815\n",
      "Random Run 4 : Sample 50\n",
      "No GPU detected, fall back on CPU.\n",
      "Shift p-vals:  0.09000000357627869\n",
      "Random Run 4 : Sample 100\n",
      "No GPU detected, fall back on CPU.\n",
      "Shift p-vals:  0.9800000190734863\n",
      "Random Run 4 : Sample 200\n",
      "No GPU detected, fall back on CPU.\n",
      "Shift p-vals:  0.75\n",
      "Random Run 4 : Sample 500\n",
      "No GPU detected, fall back on CPU.\n",
      "Shift p-vals:  0.6399999856948853\n",
      "Random Run 4 : Sample 1000\n",
      "No GPU detected, fall back on CPU.\n",
      "Shift p-vals:  0.550000011920929\n",
      "Random Run 4 : Sample 2000\n",
      "No GPU detected, fall back on CPU.\n",
      "Shift p-vals:  0.7400000095367432\n",
      "seasonal | SMH | BBSDs_FFNN | LK\n",
      "Shift seasonal\n"
     ]
    },
    {
     "name": "stderr",
     "output_type": "stream",
     "text": [
      "torch.range is deprecated and will be removed in a future release because its behavior is inconsistent with Python's range builtin. Instead, use torch.arange, which produces values in [start, end).\n",
      "No GPU detected, fall back on CPU.\n",
      "No GPU detected, fall back on CPU.\n",
      "No GPU detected, fall back on CPU.\n",
      "No GPU detected, fall back on CPU.\n"
     ]
    },
    {
     "name": "stdout",
     "output_type": "stream",
     "text": [
      "Random Run 0 : Sample 10\n",
      "Shift p-vals:  0.38999998569488525\n",
      "Random Run 0 : Sample 20\n",
      "Shift p-vals:  0.20999999344348907\n",
      "Random Run 0 : Sample 50\n",
      "Shift p-vals:  0.07000000029802322\n",
      "Random Run 0 : Sample 100\n"
     ]
    },
    {
     "name": "stderr",
     "output_type": "stream",
     "text": [
      "No GPU detected, fall back on CPU.\n",
      "No GPU detected, fall back on CPU.\n"
     ]
    },
    {
     "name": "stdout",
     "output_type": "stream",
     "text": [
      "Shift p-vals:  0.7699999809265137\n",
      "Random Run 0 : Sample 200\n",
      "Shift p-vals:  0.6899999976158142\n",
      "Random Run 0 : Sample 500\n"
     ]
    },
    {
     "name": "stderr",
     "output_type": "stream",
     "text": [
      "No GPU detected, fall back on CPU.\n",
      "No GPU detected, fall back on CPU.\n"
     ]
    },
    {
     "name": "stdout",
     "output_type": "stream",
     "text": [
      "Shift p-vals:  0.10999999940395355\n",
      "Random Run 0 : Sample 1000\n",
      "Shift p-vals:  0.5\n",
      "Random Run 0 : Sample 2000\n",
      "Shift p-vals:  0.9200000166893005\n"
     ]
    },
    {
     "name": "stderr",
     "output_type": "stream",
     "text": [
      "No GPU detected, fall back on CPU.\n",
      "No GPU detected, fall back on CPU.\n",
      "No GPU detected, fall back on CPU.\n",
      "No GPU detected, fall back on CPU.\n"
     ]
    },
    {
     "name": "stdout",
     "output_type": "stream",
     "text": [
      "Random Run 1 : Sample 10\n",
      "Shift p-vals:  0.8100000023841858\n",
      "Random Run 1 : Sample 20\n",
      "Shift p-vals:  0.23000000417232513\n",
      "Random Run 1 : Sample 50\n",
      "Shift p-vals:  0.6700000166893005\n",
      "Random Run 1 : Sample 100\n"
     ]
    },
    {
     "name": "stderr",
     "output_type": "stream",
     "text": [
      "No GPU detected, fall back on CPU.\n"
     ]
    },
    {
     "name": "stdout",
     "output_type": "stream",
     "text": [
      "Shift p-vals:  0.6200000047683716\n",
      "Random Run 1 : Sample 200\n"
     ]
    },
    {
     "name": "stderr",
     "output_type": "stream",
     "text": [
      "No GPU detected, fall back on CPU.\n"
     ]
    },
    {
     "name": "stdout",
     "output_type": "stream",
     "text": [
      "Shift p-vals:  0.009999999776482582\n",
      "Random Run 1 : Sample 500\n"
     ]
    },
    {
     "name": "stderr",
     "output_type": "stream",
     "text": [
      "No GPU detected, fall back on CPU.\n"
     ]
    },
    {
     "name": "stdout",
     "output_type": "stream",
     "text": [
      "Shift p-vals:  0.14000000059604645\n",
      "Random Run 1 : Sample 1000\n"
     ]
    },
    {
     "name": "stderr",
     "output_type": "stream",
     "text": [
      "No GPU detected, fall back on CPU.\n"
     ]
    },
    {
     "name": "stdout",
     "output_type": "stream",
     "text": [
      "Shift p-vals:  0.07000000029802322\n",
      "Random Run 1 : Sample 2000\n",
      "Shift p-vals:  0.05000000074505806\n"
     ]
    },
    {
     "name": "stderr",
     "output_type": "stream",
     "text": [
      "No GPU detected, fall back on CPU.\n",
      "No GPU detected, fall back on CPU.\n",
      "No GPU detected, fall back on CPU.\n",
      "No GPU detected, fall back on CPU.\n"
     ]
    },
    {
     "name": "stdout",
     "output_type": "stream",
     "text": [
      "Random Run 2 : Sample 10\n",
      "Shift p-vals:  0.6700000166893005\n",
      "Random Run 2 : Sample 20\n",
      "Shift p-vals:  0.6200000047683716\n",
      "Random Run 2 : Sample 50\n",
      "Shift p-vals:  0.019999999552965164\n",
      "Random Run 2 : Sample 100\n"
     ]
    },
    {
     "name": "stderr",
     "output_type": "stream",
     "text": [
      "No GPU detected, fall back on CPU.\n",
      "No GPU detected, fall back on CPU.\n"
     ]
    },
    {
     "name": "stdout",
     "output_type": "stream",
     "text": [
      "Shift p-vals:  0.18000000715255737\n",
      "Random Run 2 : Sample 200\n",
      "Shift p-vals:  0.4300000071525574\n",
      "Random Run 2 : Sample 500\n"
     ]
    },
    {
     "name": "stderr",
     "output_type": "stream",
     "text": [
      "No GPU detected, fall back on CPU.\n",
      "No GPU detected, fall back on CPU.\n"
     ]
    },
    {
     "name": "stdout",
     "output_type": "stream",
     "text": [
      "Shift p-vals:  0.5\n",
      "Random Run 2 : Sample 1000\n",
      "Shift p-vals:  0.029999999329447746\n",
      "Random Run 2 : Sample 2000\n",
      "Shift p-vals:  0.029999999329447746\n"
     ]
    },
    {
     "name": "stderr",
     "output_type": "stream",
     "text": [
      "No GPU detected, fall back on CPU.\n",
      "No GPU detected, fall back on CPU.\n",
      "No GPU detected, fall back on CPU.\n",
      "No GPU detected, fall back on CPU.\n"
     ]
    },
    {
     "name": "stdout",
     "output_type": "stream",
     "text": [
      "Random Run 3 : Sample 10\n",
      "Shift p-vals:  0.20999999344348907\n",
      "Random Run 3 : Sample 20\n",
      "Shift p-vals:  0.18000000715255737\n",
      "Random Run 3 : Sample 50\n",
      "Shift p-vals:  0.5400000214576721\n",
      "Random Run 3 : Sample 100\n"
     ]
    },
    {
     "name": "stderr",
     "output_type": "stream",
     "text": [
      "No GPU detected, fall back on CPU.\n",
      "No GPU detected, fall back on CPU.\n"
     ]
    },
    {
     "name": "stdout",
     "output_type": "stream",
     "text": [
      "Shift p-vals:  0.15000000596046448\n",
      "Random Run 3 : Sample 200\n",
      "Shift p-vals:  0.05999999865889549\n",
      "Random Run 3 : Sample 500\n"
     ]
    },
    {
     "name": "stderr",
     "output_type": "stream",
     "text": [
      "No GPU detected, fall back on CPU.\n",
      "No GPU detected, fall back on CPU.\n"
     ]
    },
    {
     "name": "stdout",
     "output_type": "stream",
     "text": [
      "Shift p-vals:  0.9200000166893005\n",
      "Random Run 3 : Sample 1000\n",
      "Shift p-vals:  0.4399999976158142\n",
      "Random Run 3 : Sample 2000\n",
      "Shift p-vals:  0.0\n"
     ]
    },
    {
     "name": "stderr",
     "output_type": "stream",
     "text": [
      "No GPU detected, fall back on CPU.\n",
      "No GPU detected, fall back on CPU.\n",
      "No GPU detected, fall back on CPU.\n",
      "No GPU detected, fall back on CPU.\n"
     ]
    },
    {
     "name": "stdout",
     "output_type": "stream",
     "text": [
      "Random Run 4 : Sample 10\n",
      "Shift p-vals:  0.6000000238418579\n",
      "Random Run 4 : Sample 20\n",
      "Shift p-vals:  1.0\n",
      "Random Run 4 : Sample 50\n",
      "Shift p-vals:  0.41999998688697815\n",
      "Random Run 4 : Sample 100\n"
     ]
    },
    {
     "name": "stderr",
     "output_type": "stream",
     "text": [
      "No GPU detected, fall back on CPU.\n",
      "No GPU detected, fall back on CPU.\n"
     ]
    },
    {
     "name": "stdout",
     "output_type": "stream",
     "text": [
      "Shift p-vals:  0.009999999776482582\n",
      "Random Run 4 : Sample 200\n",
      "Shift p-vals:  0.4300000071525574\n",
      "Random Run 4 : Sample 500\n"
     ]
    },
    {
     "name": "stderr",
     "output_type": "stream",
     "text": [
      "No GPU detected, fall back on CPU.\n",
      "No GPU detected, fall back on CPU.\n"
     ]
    },
    {
     "name": "stdout",
     "output_type": "stream",
     "text": [
      "Shift p-vals:  0.6600000262260437\n",
      "Random Run 4 : Sample 1000\n",
      "Shift p-vals:  0.4300000071525574\n",
      "Random Run 4 : Sample 2000\n"
     ]
    },
    {
     "name": "stderr",
     "output_type": "stream",
     "text": [
      "torch.range is deprecated and will be removed in a future release because its behavior is inconsistent with Python's range builtin. Instead, use torch.arange, which produces values in [start, end).\n"
     ]
    },
    {
     "name": "stdout",
     "output_type": "stream",
     "text": [
      "Shift p-vals:  0.2800000011920929\n",
      "seasonal | SMH | BBSDs_FFNN | LSDD\n",
      "Shift seasonal\n",
      "Random Run 0 : Sample 10\n",
      "No GPU detected, fall back on CPU.\n",
      "Shift p-vals:  0.5899999737739563\n",
      "Random Run 0 : Sample 20\n",
      "No GPU detected, fall back on CPU.\n",
      "Shift p-vals:  0.8100000023841858\n",
      "Random Run 0 : Sample 50\n",
      "No GPU detected, fall back on CPU.\n",
      "Shift p-vals:  0.009999999776482582\n",
      "Random Run 0 : Sample 100\n",
      "No GPU detected, fall back on CPU.\n",
      "Shift p-vals:  0.15000000596046448\n",
      "Random Run 0 : Sample 200\n",
      "No GPU detected, fall back on CPU.\n",
      "Shift p-vals:  0.9399999976158142\n",
      "Random Run 0 : Sample 500\n",
      "No GPU detected, fall back on CPU.\n",
      "Shift p-vals:  0.4000000059604645\n",
      "Random Run 0 : Sample 1000\n",
      "No GPU detected, fall back on CPU.\n",
      "Shift p-vals:  0.3700000047683716\n",
      "Random Run 0 : Sample 2000\n",
      "No GPU detected, fall back on CPU.\n",
      "Shift p-vals:  0.6299999952316284\n",
      "Random Run 1 : Sample 10\n",
      "No GPU detected, fall back on CPU.\n",
      "Shift p-vals:  0.5799999833106995\n",
      "Random Run 1 : Sample 20\n",
      "No GPU detected, fall back on CPU.\n",
      "Shift p-vals:  0.30000001192092896\n",
      "Random Run 1 : Sample 50\n",
      "No GPU detected, fall back on CPU.\n",
      "Shift p-vals:  0.4300000071525574\n",
      "Random Run 1 : Sample 100\n",
      "No GPU detected, fall back on CPU.\n",
      "Shift p-vals:  0.1599999964237213\n",
      "Random Run 1 : Sample 200\n",
      "No GPU detected, fall back on CPU.\n",
      "Shift p-vals:  0.019999999552965164\n",
      "Random Run 1 : Sample 500\n",
      "No GPU detected, fall back on CPU.\n",
      "Shift p-vals:  0.6700000166893005\n",
      "Random Run 1 : Sample 1000\n",
      "No GPU detected, fall back on CPU.\n",
      "Shift p-vals:  0.009999999776482582\n",
      "Random Run 1 : Sample 2000\n",
      "No GPU detected, fall back on CPU.\n",
      "Shift p-vals:  0.9100000262260437\n",
      "Random Run 2 : Sample 10\n",
      "No GPU detected, fall back on CPU.\n",
      "Shift p-vals:  0.6299999952316284\n",
      "Random Run 2 : Sample 20\n",
      "No GPU detected, fall back on CPU.\n",
      "Shift p-vals:  0.07000000029802322\n",
      "Random Run 2 : Sample 50\n",
      "No GPU detected, fall back on CPU.\n",
      "Shift p-vals:  0.9800000190734863\n",
      "Random Run 2 : Sample 100\n",
      "No GPU detected, fall back on CPU.\n",
      "Shift p-vals:  0.05000000074505806\n",
      "Random Run 2 : Sample 200\n",
      "No GPU detected, fall back on CPU.\n",
      "Shift p-vals:  0.1899999976158142\n",
      "Random Run 2 : Sample 500\n",
      "No GPU detected, fall back on CPU.\n",
      "Shift p-vals:  0.20999999344348907\n",
      "Random Run 2 : Sample 1000\n",
      "No GPU detected, fall back on CPU.\n",
      "Shift p-vals:  0.5400000214576721\n",
      "Random Run 2 : Sample 2000\n",
      "No GPU detected, fall back on CPU.\n",
      "Shift p-vals:  0.2800000011920929\n",
      "Random Run 3 : Sample 10\n",
      "No GPU detected, fall back on CPU.\n",
      "Shift p-vals:  0.4699999988079071\n",
      "Random Run 3 : Sample 20\n",
      "No GPU detected, fall back on CPU.\n",
      "Shift p-vals:  0.5699999928474426\n",
      "Random Run 3 : Sample 50\n",
      "No GPU detected, fall back on CPU.\n",
      "Shift p-vals:  0.7699999809265137\n",
      "Random Run 3 : Sample 100\n",
      "No GPU detected, fall back on CPU.\n",
      "Shift p-vals:  0.10000000149011612\n",
      "Random Run 3 : Sample 200\n",
      "No GPU detected, fall back on CPU.\n",
      "Shift p-vals:  0.3499999940395355\n",
      "Random Run 3 : Sample 500\n",
      "No GPU detected, fall back on CPU.\n",
      "Shift p-vals:  0.09000000357627869\n",
      "Random Run 3 : Sample 1000\n",
      "No GPU detected, fall back on CPU.\n",
      "Shift p-vals:  0.8899999856948853\n",
      "Random Run 3 : Sample 2000\n",
      "No GPU detected, fall back on CPU.\n",
      "Shift p-vals:  0.8999999761581421\n",
      "Random Run 4 : Sample 10\n",
      "No GPU detected, fall back on CPU.\n",
      "Shift p-vals:  0.36000001430511475\n",
      "Random Run 4 : Sample 20\n",
      "No GPU detected, fall back on CPU.\n",
      "Shift p-vals:  0.12999999523162842\n",
      "Random Run 4 : Sample 50\n",
      "No GPU detected, fall back on CPU.\n",
      "Shift p-vals:  0.2199999988079071\n",
      "Random Run 4 : Sample 100\n",
      "No GPU detected, fall back on CPU.\n",
      "Shift p-vals:  0.3499999940395355\n",
      "Random Run 4 : Sample 200\n",
      "No GPU detected, fall back on CPU.\n",
      "Shift p-vals:  0.3100000023841858\n",
      "Random Run 4 : Sample 500\n",
      "No GPU detected, fall back on CPU.\n",
      "Shift p-vals:  0.6000000238418579\n",
      "Random Run 4 : Sample 1000\n",
      "No GPU detected, fall back on CPU.\n",
      "Shift p-vals:  0.029999999329447746\n",
      "Random Run 4 : Sample 2000\n",
      "No GPU detected, fall back on CPU.\n",
      "Shift p-vals:  0.6000000238418579\n",
      "seasonal | MSH | NoRed | MMD\n",
      "Shift seasonal\n"
     ]
    },
    {
     "name": "stderr",
     "output_type": "stream",
     "text": [
      "torch.range is deprecated and will be removed in a future release because its behavior is inconsistent with Python's range builtin. Instead, use torch.arange, which produces values in [start, end).\n"
     ]
    },
    {
     "name": "stdout",
     "output_type": "stream",
     "text": [
      "Random Run 0 : Sample 10\n",
      "No GPU detected, fall back on CPU.\n",
      "Shift p-vals:  0.12999999523162842\n",
      "Random Run 0 : Sample 20\n",
      "No GPU detected, fall back on CPU.\n",
      "Shift p-vals:  0.15000000596046448\n",
      "Random Run 0 : Sample 50\n",
      "No GPU detected, fall back on CPU.\n",
      "Shift p-vals:  0.9800000190734863\n",
      "Random Run 0 : Sample 100\n",
      "No GPU detected, fall back on CPU.\n",
      "Shift p-vals:  0.6299999952316284\n",
      "Random Run 0 : Sample 200\n",
      "No GPU detected, fall back on CPU.\n",
      "Shift p-vals:  0.6800000071525574\n",
      "Random Run 0 : Sample 500\n",
      "No GPU detected, fall back on CPU.\n",
      "Shift p-vals:  0.6399999856948853\n",
      "Random Run 0 : Sample 1000\n",
      "No GPU detected, fall back on CPU.\n",
      "Shift p-vals:  0.7099999785423279\n",
      "Random Run 0 : Sample 2000\n",
      "No GPU detected, fall back on CPU.\n",
      "Shift p-vals:  0.699999988079071\n",
      "Random Run 1 : Sample 10\n",
      "No GPU detected, fall back on CPU.\n",
      "Shift p-vals:  0.9399999976158142\n",
      "Random Run 1 : Sample 20\n",
      "No GPU detected, fall back on CPU.\n",
      "Shift p-vals:  0.33000001311302185\n",
      "Random Run 1 : Sample 50\n",
      "No GPU detected, fall back on CPU.\n",
      "Shift p-vals:  0.8299999833106995\n",
      "Random Run 1 : Sample 100\n",
      "No GPU detected, fall back on CPU.\n",
      "Shift p-vals:  0.7900000214576721\n",
      "Random Run 1 : Sample 200\n",
      "No GPU detected, fall back on CPU.\n",
      "Shift p-vals:  0.8299999833106995\n",
      "Random Run 1 : Sample 500\n",
      "No GPU detected, fall back on CPU.\n",
      "Shift p-vals:  0.8399999737739563\n",
      "Random Run 1 : Sample 1000\n",
      "No GPU detected, fall back on CPU.\n",
      "Shift p-vals:  0.8199999928474426\n",
      "Random Run 1 : Sample 2000\n",
      "No GPU detected, fall back on CPU.\n",
      "Shift p-vals:  0.8600000143051147\n",
      "Random Run 2 : Sample 10\n",
      "No GPU detected, fall back on CPU.\n",
      "Shift p-vals:  0.28999999165534973\n",
      "Random Run 2 : Sample 20\n",
      "No GPU detected, fall back on CPU.\n",
      "Shift p-vals:  0.75\n",
      "Random Run 2 : Sample 50\n",
      "No GPU detected, fall back on CPU.\n",
      "Shift p-vals:  0.6899999976158142\n",
      "Random Run 2 : Sample 100\n",
      "No GPU detected, fall back on CPU.\n",
      "Shift p-vals:  0.49000000953674316\n",
      "Random Run 2 : Sample 200\n",
      "No GPU detected, fall back on CPU.\n",
      "Shift p-vals:  0.5099999904632568\n",
      "Random Run 2 : Sample 500\n",
      "No GPU detected, fall back on CPU.\n",
      "Shift p-vals:  0.49000000953674316\n",
      "Random Run 2 : Sample 1000\n",
      "No GPU detected, fall back on CPU.\n",
      "Shift p-vals:  0.5699999928474426\n",
      "Random Run 2 : Sample 2000\n",
      "No GPU detected, fall back on CPU.\n",
      "Shift p-vals:  0.550000011920929\n",
      "Random Run 3 : Sample 10\n",
      "No GPU detected, fall back on CPU.\n",
      "Shift p-vals:  0.6700000166893005\n",
      "Random Run 3 : Sample 20\n",
      "No GPU detected, fall back on CPU.\n",
      "Shift p-vals:  0.23000000417232513\n",
      "Random Run 3 : Sample 50\n",
      "No GPU detected, fall back on CPU.\n",
      "Shift p-vals:  0.25999999046325684\n",
      "Random Run 3 : Sample 100\n",
      "No GPU detected, fall back on CPU.\n",
      "Shift p-vals:  0.5\n",
      "Random Run 3 : Sample 200\n",
      "No GPU detected, fall back on CPU.\n",
      "Shift p-vals:  0.38999998569488525\n",
      "Random Run 3 : Sample 500\n",
      "No GPU detected, fall back on CPU.\n",
      "Shift p-vals:  0.36000001430511475\n",
      "Random Run 3 : Sample 1000\n",
      "No GPU detected, fall back on CPU.\n",
      "Shift p-vals:  0.4000000059604645\n",
      "Random Run 3 : Sample 2000\n",
      "No GPU detected, fall back on CPU.\n",
      "Shift p-vals:  0.3799999952316284\n",
      "Random Run 4 : Sample 10\n",
      "No GPU detected, fall back on CPU.\n",
      "Shift p-vals:  0.18000000715255737\n",
      "Random Run 4 : Sample 20\n",
      "No GPU detected, fall back on CPU.\n",
      "Shift p-vals:  0.11999999731779099\n",
      "Random Run 4 : Sample 50\n",
      "No GPU detected, fall back on CPU.\n",
      "Shift p-vals:  0.6000000238418579\n",
      "Random Run 4 : Sample 100\n",
      "No GPU detected, fall back on CPU.\n",
      "Shift p-vals:  0.3799999952316284\n",
      "Random Run 4 : Sample 200\n",
      "No GPU detected, fall back on CPU.\n",
      "Shift p-vals:  0.2800000011920929\n",
      "Random Run 4 : Sample 500\n",
      "No GPU detected, fall back on CPU.\n",
      "Shift p-vals:  0.3199999928474426\n",
      "Random Run 4 : Sample 1000\n",
      "No GPU detected, fall back on CPU.\n",
      "Shift p-vals:  0.30000001192092896\n",
      "Random Run 4 : Sample 2000\n",
      "No GPU detected, fall back on CPU.\n",
      "Shift p-vals:  0.30000001192092896\n",
      "seasonal | MSH | NoRed | LK\n",
      "Shift seasonal\n"
     ]
    },
    {
     "name": "stderr",
     "output_type": "stream",
     "text": [
      "torch.range is deprecated and will be removed in a future release because its behavior is inconsistent with Python's range builtin. Instead, use torch.arange, which produces values in [start, end).\n",
      "No GPU detected, fall back on CPU.\n",
      "No GPU detected, fall back on CPU.\n",
      "No GPU detected, fall back on CPU.\n",
      "No GPU detected, fall back on CPU.\n"
     ]
    },
    {
     "name": "stdout",
     "output_type": "stream",
     "text": [
      "Random Run 0 : Sample 10\n",
      "Shift p-vals:  0.5299999713897705\n",
      "Random Run 0 : Sample 20\n",
      "Shift p-vals:  0.550000011920929\n",
      "Random Run 0 : Sample 50\n",
      "Shift p-vals:  0.5400000214576721\n",
      "Random Run 0 : Sample 100\n"
     ]
    },
    {
     "name": "stderr",
     "output_type": "stream",
     "text": [
      "No GPU detected, fall back on CPU.\n",
      "No GPU detected, fall back on CPU.\n"
     ]
    },
    {
     "name": "stdout",
     "output_type": "stream",
     "text": [
      "Shift p-vals:  0.1899999976158142\n",
      "Random Run 0 : Sample 200\n",
      "Shift p-vals:  0.10999999940395355\n",
      "Random Run 0 : Sample 500\n"
     ]
    },
    {
     "name": "stderr",
     "output_type": "stream",
     "text": [
      "No GPU detected, fall back on CPU.\n",
      "No GPU detected, fall back on CPU.\n"
     ]
    },
    {
     "name": "stdout",
     "output_type": "stream",
     "text": [
      "Shift p-vals:  0.8299999833106995\n",
      "Random Run 0 : Sample 1000\n",
      "Shift p-vals:  0.3799999952316284\n",
      "Random Run 0 : Sample 2000\n",
      "Shift p-vals:  0.1899999976158142\n"
     ]
    },
    {
     "name": "stderr",
     "output_type": "stream",
     "text": [
      "No GPU detected, fall back on CPU.\n",
      "No GPU detected, fall back on CPU.\n",
      "No GPU detected, fall back on CPU.\n",
      "No GPU detected, fall back on CPU.\n"
     ]
    },
    {
     "name": "stdout",
     "output_type": "stream",
     "text": [
      "Random Run 1 : Sample 10\n",
      "Shift p-vals:  0.5299999713897705\n",
      "Random Run 1 : Sample 20\n",
      "Shift p-vals:  0.6700000166893005\n",
      "Random Run 1 : Sample 50\n",
      "Shift p-vals:  0.3499999940395355\n",
      "Random Run 1 : Sample 100\n"
     ]
    },
    {
     "name": "stderr",
     "output_type": "stream",
     "text": [
      "No GPU detected, fall back on CPU.\n",
      "No GPU detected, fall back on CPU.\n"
     ]
    },
    {
     "name": "stdout",
     "output_type": "stream",
     "text": [
      "Shift p-vals:  0.8899999856948853\n",
      "Random Run 1 : Sample 200\n",
      "Shift p-vals:  0.1599999964237213\n",
      "Random Run 1 : Sample 500\n"
     ]
    },
    {
     "name": "stderr",
     "output_type": "stream",
     "text": [
      "No GPU detected, fall back on CPU.\n",
      "No GPU detected, fall back on CPU.\n"
     ]
    },
    {
     "name": "stdout",
     "output_type": "stream",
     "text": [
      "Shift p-vals:  0.3400000035762787\n",
      "Random Run 1 : Sample 1000\n",
      "Shift p-vals:  0.28999999165534973\n",
      "Random Run 1 : Sample 2000\n",
      "Shift p-vals:  0.9700000286102295\n"
     ]
    },
    {
     "name": "stderr",
     "output_type": "stream",
     "text": [
      "No GPU detected, fall back on CPU.\n",
      "No GPU detected, fall back on CPU.\n",
      "No GPU detected, fall back on CPU.\n",
      "No GPU detected, fall back on CPU.\n"
     ]
    },
    {
     "name": "stdout",
     "output_type": "stream",
     "text": [
      "Random Run 2 : Sample 10\n",
      "Shift p-vals:  0.8700000047683716\n",
      "Random Run 2 : Sample 20\n",
      "Shift p-vals:  0.20999999344348907\n",
      "Random Run 2 : Sample 50\n",
      "Shift p-vals:  0.800000011920929\n",
      "Random Run 2 : Sample 100\n"
     ]
    },
    {
     "name": "stderr",
     "output_type": "stream",
     "text": [
      "No GPU detected, fall back on CPU.\n",
      "No GPU detected, fall back on CPU.\n",
      "No GPU detected, fall back on CPU.\n"
     ]
    },
    {
     "name": "stdout",
     "output_type": "stream",
     "text": [
      "Shift p-vals:  0.6899999976158142\n",
      "Random Run 2 : Sample 200\n",
      "Shift p-vals:  0.03999999910593033\n",
      "Random Run 2 : Sample 500\n",
      "Shift p-vals:  0.5699999928474426\n",
      "Random Run 2 : Sample 1000\n"
     ]
    },
    {
     "name": "stderr",
     "output_type": "stream",
     "text": [
      "No GPU detected, fall back on CPU.\n"
     ]
    },
    {
     "name": "stdout",
     "output_type": "stream",
     "text": [
      "Shift p-vals:  0.9900000095367432\n",
      "Random Run 2 : Sample 2000\n",
      "Shift p-vals:  0.5699999928474426\n"
     ]
    },
    {
     "name": "stderr",
     "output_type": "stream",
     "text": [
      "No GPU detected, fall back on CPU.\n",
      "No GPU detected, fall back on CPU.\n",
      "No GPU detected, fall back on CPU.\n",
      "No GPU detected, fall back on CPU.\n"
     ]
    },
    {
     "name": "stdout",
     "output_type": "stream",
     "text": [
      "Random Run 3 : Sample 10\n",
      "Shift p-vals:  1.0\n",
      "Random Run 3 : Sample 20\n",
      "Shift p-vals:  0.23000000417232513\n",
      "Random Run 3 : Sample 50\n",
      "Shift p-vals:  0.23000000417232513\n",
      "Random Run 3 : Sample 100\n"
     ]
    },
    {
     "name": "stderr",
     "output_type": "stream",
     "text": [
      "No GPU detected, fall back on CPU.\n",
      "No GPU detected, fall back on CPU.\n",
      "No GPU detected, fall back on CPU.\n"
     ]
    },
    {
     "name": "stdout",
     "output_type": "stream",
     "text": [
      "Shift p-vals:  0.8799999952316284\n",
      "Random Run 3 : Sample 200\n",
      "Shift p-vals:  0.699999988079071\n",
      "Random Run 3 : Sample 500\n",
      "Shift p-vals:  0.23999999463558197\n",
      "Random Run 3 : Sample 1000\n"
     ]
    },
    {
     "name": "stderr",
     "output_type": "stream",
     "text": [
      "No GPU detected, fall back on CPU.\n"
     ]
    },
    {
     "name": "stdout",
     "output_type": "stream",
     "text": [
      "Shift p-vals:  0.15000000596046448\n",
      "Random Run 3 : Sample 2000\n",
      "Shift p-vals:  0.8399999737739563\n"
     ]
    },
    {
     "name": "stderr",
     "output_type": "stream",
     "text": [
      "No GPU detected, fall back on CPU.\n",
      "No GPU detected, fall back on CPU.\n",
      "No GPU detected, fall back on CPU.\n",
      "No GPU detected, fall back on CPU.\n"
     ]
    },
    {
     "name": "stdout",
     "output_type": "stream",
     "text": [
      "Random Run 4 : Sample 10\n",
      "Shift p-vals:  0.6000000238418579\n",
      "Random Run 4 : Sample 20\n",
      "Shift p-vals:  0.3499999940395355\n",
      "Random Run 4 : Sample 50\n",
      "Shift p-vals:  0.7099999785423279\n",
      "Random Run 4 : Sample 100\n"
     ]
    },
    {
     "name": "stderr",
     "output_type": "stream",
     "text": [
      "No GPU detected, fall back on CPU.\n",
      "No GPU detected, fall back on CPU.\n",
      "No GPU detected, fall back on CPU.\n"
     ]
    },
    {
     "name": "stdout",
     "output_type": "stream",
     "text": [
      "Shift p-vals:  0.9700000286102295\n",
      "Random Run 4 : Sample 200\n",
      "Shift p-vals:  0.12999999523162842\n",
      "Random Run 4 : Sample 500\n",
      "Shift p-vals:  0.800000011920929\n",
      "Random Run 4 : Sample 1000\n"
     ]
    },
    {
     "name": "stderr",
     "output_type": "stream",
     "text": [
      "No GPU detected, fall back on CPU.\n",
      "torch.range is deprecated and will be removed in a future release because its behavior is inconsistent with Python's range builtin. Instead, use torch.arange, which produces values in [start, end).\n"
     ]
    },
    {
     "name": "stdout",
     "output_type": "stream",
     "text": [
      "Shift p-vals:  0.41999998688697815\n",
      "Random Run 4 : Sample 2000\n",
      "Shift p-vals:  0.5299999713897705\n",
      "seasonal | MSH | NoRed | LSDD\n",
      "Shift seasonal\n",
      "Random Run 0 : Sample 10\n",
      "No GPU detected, fall back on CPU.\n",
      "Shift p-vals:  0.05000000074505806\n",
      "Random Run 0 : Sample 20\n",
      "No GPU detected, fall back on CPU.\n",
      "Shift p-vals:  0.0\n",
      "Random Run 0 : Sample 50\n",
      "No GPU detected, fall back on CPU.\n",
      "Shift p-vals:  0.0\n",
      "Random Run 0 : Sample 100\n",
      "No GPU detected, fall back on CPU.\n",
      "Shift p-vals:  0.0\n",
      "Random Run 0 : Sample 200\n",
      "No GPU detected, fall back on CPU.\n",
      "Shift p-vals:  0.0\n",
      "Random Run 0 : Sample 500\n",
      "No GPU detected, fall back on CPU.\n",
      "Shift p-vals:  0.0\n",
      "Random Run 0 : Sample 1000\n",
      "No GPU detected, fall back on CPU.\n",
      "Shift p-vals:  0.0\n",
      "Random Run 0 : Sample 2000\n",
      "No GPU detected, fall back on CPU.\n",
      "Shift p-vals:  0.0\n",
      "Random Run 1 : Sample 10\n",
      "No GPU detected, fall back on CPU.\n",
      "Shift p-vals:  0.05000000074505806\n",
      "Random Run 1 : Sample 20\n",
      "No GPU detected, fall back on CPU.\n",
      "Shift p-vals:  0.10999999940395355\n",
      "Random Run 1 : Sample 50\n",
      "No GPU detected, fall back on CPU.\n",
      "Shift p-vals:  0.0\n",
      "Random Run 1 : Sample 100\n",
      "No GPU detected, fall back on CPU.\n",
      "Shift p-vals:  0.0\n",
      "Random Run 1 : Sample 200\n",
      "No GPU detected, fall back on CPU.\n",
      "Shift p-vals:  0.5199999809265137\n",
      "Random Run 1 : Sample 500\n",
      "No GPU detected, fall back on CPU.\n",
      "Shift p-vals:  0.0\n",
      "Random Run 1 : Sample 1000\n",
      "No GPU detected, fall back on CPU.\n",
      "Shift p-vals:  0.11999999731779099\n",
      "Random Run 1 : Sample 2000\n",
      "No GPU detected, fall back on CPU.\n",
      "Shift p-vals:  0.05000000074505806\n",
      "Random Run 2 : Sample 10\n",
      "No GPU detected, fall back on CPU.\n",
      "Shift p-vals:  0.9300000071525574\n",
      "Random Run 2 : Sample 20\n",
      "No GPU detected, fall back on CPU.\n",
      "Shift p-vals:  0.3499999940395355\n",
      "Random Run 2 : Sample 50\n",
      "No GPU detected, fall back on CPU.\n",
      "Shift p-vals:  0.009999999776482582\n",
      "Random Run 2 : Sample 100\n",
      "No GPU detected, fall back on CPU.\n",
      "Shift p-vals:  0.0\n",
      "Random Run 2 : Sample 200\n",
      "No GPU detected, fall back on CPU.\n",
      "Shift p-vals:  0.0\n",
      "Random Run 2 : Sample 500\n",
      "No GPU detected, fall back on CPU.\n",
      "Shift p-vals:  0.0\n",
      "Random Run 2 : Sample 1000\n",
      "No GPU detected, fall back on CPU.\n",
      "Shift p-vals:  0.0\n",
      "Random Run 2 : Sample 2000\n",
      "No GPU detected, fall back on CPU.\n",
      "Shift p-vals:  0.0\n",
      "Random Run 3 : Sample 10\n",
      "No GPU detected, fall back on CPU.\n",
      "Shift p-vals:  0.0\n",
      "Random Run 3 : Sample 20\n",
      "No GPU detected, fall back on CPU.\n",
      "Shift p-vals:  0.07999999821186066\n",
      "Random Run 3 : Sample 50\n",
      "No GPU detected, fall back on CPU.\n",
      "Shift p-vals:  0.7200000286102295\n",
      "Random Run 3 : Sample 100\n",
      "No GPU detected, fall back on CPU.\n",
      "Shift p-vals:  0.3700000047683716\n",
      "Random Run 3 : Sample 200\n",
      "No GPU detected, fall back on CPU.\n",
      "Shift p-vals:  0.0\n",
      "Random Run 3 : Sample 500\n",
      "No GPU detected, fall back on CPU.\n",
      "Shift p-vals:  0.0\n",
      "Random Run 3 : Sample 1000\n",
      "No GPU detected, fall back on CPU.\n",
      "Shift p-vals:  0.0\n",
      "Random Run 3 : Sample 2000\n",
      "No GPU detected, fall back on CPU.\n",
      "Shift p-vals:  0.0\n",
      "Random Run 4 : Sample 10\n",
      "No GPU detected, fall back on CPU.\n",
      "Shift p-vals:  0.28999999165534973\n",
      "Random Run 4 : Sample 20\n",
      "No GPU detected, fall back on CPU.\n",
      "Shift p-vals:  0.019999999552965164\n",
      "Random Run 4 : Sample 50\n",
      "No GPU detected, fall back on CPU.\n",
      "Shift p-vals:  0.0\n",
      "Random Run 4 : Sample 100\n",
      "No GPU detected, fall back on CPU.\n",
      "Shift p-vals:  0.0\n",
      "Random Run 4 : Sample 200\n",
      "No GPU detected, fall back on CPU.\n",
      "Shift p-vals:  0.0\n",
      "Random Run 4 : Sample 500\n",
      "No GPU detected, fall back on CPU.\n",
      "Shift p-vals:  0.0\n",
      "Random Run 4 : Sample 1000\n",
      "No GPU detected, fall back on CPU.\n",
      "Shift p-vals:  0.0\n",
      "Random Run 4 : Sample 2000\n",
      "No GPU detected, fall back on CPU.\n",
      "Shift p-vals:  0.0\n",
      "seasonal | MSH | SRP | MMD\n",
      "Shift seasonal\n"
     ]
    },
    {
     "name": "stderr",
     "output_type": "stream",
     "text": [
      "torch.range is deprecated and will be removed in a future release because its behavior is inconsistent with Python's range builtin. Instead, use torch.arange, which produces values in [start, end).\n"
     ]
    },
    {
     "name": "stdout",
     "output_type": "stream",
     "text": [
      "Random Run 0 : Sample 10\n",
      "No GPU detected, fall back on CPU.\n",
      "Shift p-vals:  0.07999999821186066\n",
      "Random Run 0 : Sample 20\n",
      "No GPU detected, fall back on CPU.\n",
      "Shift p-vals:  0.10999999940395355\n",
      "Random Run 0 : Sample 50\n",
      "No GPU detected, fall back on CPU.\n",
      "Shift p-vals:  0.28999999165534973\n",
      "Random Run 0 : Sample 100\n",
      "No GPU detected, fall back on CPU.\n",
      "Shift p-vals:  0.25999999046325684\n",
      "Random Run 0 : Sample 200\n",
      "No GPU detected, fall back on CPU.\n",
      "Shift p-vals:  0.8299999833106995\n",
      "Random Run 0 : Sample 500\n",
      "No GPU detected, fall back on CPU.\n",
      "Shift p-vals:  0.3199999928474426\n",
      "Random Run 0 : Sample 1000\n",
      "No GPU detected, fall back on CPU.\n",
      "Shift p-vals:  0.8500000238418579\n",
      "Random Run 0 : Sample 2000\n",
      "No GPU detected, fall back on CPU.\n",
      "Shift p-vals:  0.25999999046325684\n",
      "Random Run 1 : Sample 10\n",
      "No GPU detected, fall back on CPU.\n",
      "Shift p-vals:  0.949999988079071\n",
      "Random Run 1 : Sample 20\n",
      "No GPU detected, fall back on CPU.\n",
      "Shift p-vals:  0.10999999940395355\n",
      "Random Run 1 : Sample 50\n",
      "No GPU detected, fall back on CPU.\n",
      "Shift p-vals:  0.6000000238418579\n",
      "Random Run 1 : Sample 100\n",
      "No GPU detected, fall back on CPU.\n",
      "Shift p-vals:  0.7200000286102295\n",
      "Random Run 1 : Sample 200\n",
      "No GPU detected, fall back on CPU.\n",
      "Shift p-vals:  0.7799999713897705\n",
      "Random Run 1 : Sample 500\n",
      "No GPU detected, fall back on CPU.\n",
      "Shift p-vals:  0.14000000059604645\n",
      "Random Run 1 : Sample 1000\n",
      "No GPU detected, fall back on CPU.\n",
      "Shift p-vals:  0.38999998569488525\n",
      "Random Run 1 : Sample 2000\n",
      "No GPU detected, fall back on CPU.\n",
      "Shift p-vals:  0.10000000149011612\n",
      "Random Run 2 : Sample 10\n",
      "No GPU detected, fall back on CPU.\n",
      "Shift p-vals:  0.6299999952316284\n",
      "Random Run 2 : Sample 20\n",
      "No GPU detected, fall back on CPU.\n",
      "Shift p-vals:  0.9800000190734863\n",
      "Random Run 2 : Sample 50\n",
      "No GPU detected, fall back on CPU.\n",
      "Shift p-vals:  0.3400000035762787\n",
      "Random Run 2 : Sample 100\n",
      "No GPU detected, fall back on CPU.\n",
      "Shift p-vals:  0.38999998569488525\n",
      "Random Run 2 : Sample 200\n",
      "No GPU detected, fall back on CPU.\n",
      "Shift p-vals:  0.0\n",
      "Random Run 2 : Sample 500\n",
      "No GPU detected, fall back on CPU.\n",
      "Shift p-vals:  0.0\n",
      "Random Run 2 : Sample 1000\n",
      "No GPU detected, fall back on CPU.\n",
      "Shift p-vals:  0.3499999940395355\n",
      "Random Run 2 : Sample 2000\n",
      "No GPU detected, fall back on CPU.\n",
      "Shift p-vals:  0.5899999737739563\n",
      "Random Run 3 : Sample 10\n",
      "No GPU detected, fall back on CPU.\n",
      "Shift p-vals:  0.9800000190734863\n",
      "Random Run 3 : Sample 20\n",
      "No GPU detected, fall back on CPU.\n",
      "Shift p-vals:  0.18000000715255737\n",
      "Random Run 3 : Sample 50\n",
      "No GPU detected, fall back on CPU.\n",
      "Shift p-vals:  0.05000000074505806\n",
      "Random Run 3 : Sample 100\n",
      "No GPU detected, fall back on CPU.\n",
      "Shift p-vals:  0.2199999988079071\n",
      "Random Run 3 : Sample 200\n",
      "No GPU detected, fall back on CPU.\n",
      "Shift p-vals:  0.28999999165534973\n",
      "Random Run 3 : Sample 500\n",
      "No GPU detected, fall back on CPU.\n",
      "Shift p-vals:  0.30000001192092896\n",
      "Random Run 3 : Sample 1000\n",
      "No GPU detected, fall back on CPU.\n",
      "Shift p-vals:  0.1899999976158142\n",
      "Random Run 3 : Sample 2000\n",
      "No GPU detected, fall back on CPU.\n",
      "Shift p-vals:  0.6700000166893005\n",
      "Random Run 4 : Sample 10\n",
      "No GPU detected, fall back on CPU.\n",
      "Shift p-vals:  0.7900000214576721\n",
      "Random Run 4 : Sample 20\n",
      "No GPU detected, fall back on CPU.\n",
      "Shift p-vals:  0.4399999976158142\n",
      "Random Run 4 : Sample 50\n",
      "No GPU detected, fall back on CPU.\n",
      "Shift p-vals:  0.10000000149011612\n",
      "Random Run 4 : Sample 100\n",
      "No GPU detected, fall back on CPU.\n",
      "Shift p-vals:  0.17000000178813934\n",
      "Random Run 4 : Sample 200\n",
      "No GPU detected, fall back on CPU.\n",
      "Shift p-vals:  0.5600000023841858\n",
      "Random Run 4 : Sample 500\n",
      "No GPU detected, fall back on CPU.\n",
      "Shift p-vals:  0.550000011920929\n",
      "Random Run 4 : Sample 1000\n",
      "No GPU detected, fall back on CPU.\n",
      "Shift p-vals:  0.6899999976158142\n",
      "Random Run 4 : Sample 2000\n",
      "No GPU detected, fall back on CPU.\n",
      "Shift p-vals:  0.25\n",
      "seasonal | MSH | SRP | LK\n",
      "Shift seasonal\n"
     ]
    },
    {
     "name": "stderr",
     "output_type": "stream",
     "text": [
      "torch.range is deprecated and will be removed in a future release because its behavior is inconsistent with Python's range builtin. Instead, use torch.arange, which produces values in [start, end).\n",
      "No GPU detected, fall back on CPU.\n",
      "No GPU detected, fall back on CPU.\n",
      "No GPU detected, fall back on CPU.\n",
      "No GPU detected, fall back on CPU.\n"
     ]
    },
    {
     "name": "stdout",
     "output_type": "stream",
     "text": [
      "Random Run 0 : Sample 10\n",
      "Shift p-vals:  0.6700000166893005\n",
      "Random Run 0 : Sample 20\n",
      "Shift p-vals:  0.38999998569488525\n",
      "Random Run 0 : Sample 50\n",
      "Shift p-vals:  0.7300000190734863\n",
      "Random Run 0 : Sample 100\n"
     ]
    },
    {
     "name": "stderr",
     "output_type": "stream",
     "text": [
      "No GPU detected, fall back on CPU.\n",
      "No GPU detected, fall back on CPU.\n"
     ]
    },
    {
     "name": "stdout",
     "output_type": "stream",
     "text": [
      "Shift p-vals:  0.5199999809265137\n",
      "Random Run 0 : Sample 200\n",
      "Shift p-vals:  0.7900000214576721\n",
      "Random Run 0 : Sample 500\n"
     ]
    },
    {
     "name": "stderr",
     "output_type": "stream",
     "text": [
      "No GPU detected, fall back on CPU.\n",
      "No GPU detected, fall back on CPU.\n"
     ]
    },
    {
     "name": "stdout",
     "output_type": "stream",
     "text": [
      "Shift p-vals:  0.6499999761581421\n",
      "Random Run 0 : Sample 1000\n",
      "Shift p-vals:  0.46000000834465027\n",
      "Random Run 0 : Sample 2000\n",
      "Shift p-vals:  0.6499999761581421\n"
     ]
    },
    {
     "name": "stderr",
     "output_type": "stream",
     "text": [
      "No GPU detected, fall back on CPU.\n",
      "No GPU detected, fall back on CPU.\n",
      "No GPU detected, fall back on CPU.\n",
      "No GPU detected, fall back on CPU.\n"
     ]
    },
    {
     "name": "stdout",
     "output_type": "stream",
     "text": [
      "Random Run 1 : Sample 10\n",
      "Shift p-vals:  0.5099999904632568\n",
      "Random Run 1 : Sample 20\n",
      "Shift p-vals:  0.30000001192092896\n",
      "Random Run 1 : Sample 50\n",
      "Shift p-vals:  0.3700000047683716\n",
      "Random Run 1 : Sample 100\n"
     ]
    },
    {
     "name": "stderr",
     "output_type": "stream",
     "text": [
      "No GPU detected, fall back on CPU.\n",
      "No GPU detected, fall back on CPU.\n"
     ]
    },
    {
     "name": "stdout",
     "output_type": "stream",
     "text": [
      "Shift p-vals:  0.8600000143051147\n",
      "Random Run 1 : Sample 200\n",
      "Shift p-vals:  0.5299999713897705\n",
      "Random Run 1 : Sample 500\n"
     ]
    },
    {
     "name": "stderr",
     "output_type": "stream",
     "text": [
      "No GPU detected, fall back on CPU.\n",
      "No GPU detected, fall back on CPU.\n"
     ]
    },
    {
     "name": "stdout",
     "output_type": "stream",
     "text": [
      "Shift p-vals:  0.1599999964237213\n",
      "Random Run 1 : Sample 1000\n",
      "Shift p-vals:  0.3499999940395355\n",
      "Random Run 1 : Sample 2000\n",
      "Shift p-vals:  0.5699999928474426\n"
     ]
    },
    {
     "name": "stderr",
     "output_type": "stream",
     "text": [
      "No GPU detected, fall back on CPU.\n",
      "No GPU detected, fall back on CPU.\n",
      "No GPU detected, fall back on CPU.\n",
      "No GPU detected, fall back on CPU.\n"
     ]
    },
    {
     "name": "stdout",
     "output_type": "stream",
     "text": [
      "Random Run 2 : Sample 10\n",
      "Shift p-vals:  0.11999999731779099\n",
      "Random Run 2 : Sample 20\n",
      "Shift p-vals:  0.3700000047683716\n",
      "Random Run 2 : Sample 50\n",
      "Shift p-vals:  0.9700000286102295\n",
      "Random Run 2 : Sample 100\n"
     ]
    },
    {
     "name": "stderr",
     "output_type": "stream",
     "text": [
      "No GPU detected, fall back on CPU.\n",
      "No GPU detected, fall back on CPU.\n"
     ]
    },
    {
     "name": "stdout",
     "output_type": "stream",
     "text": [
      "Shift p-vals:  0.5099999904632568\n",
      "Random Run 2 : Sample 200\n",
      "Shift p-vals:  0.3100000023841858\n",
      "Random Run 2 : Sample 500\n"
     ]
    },
    {
     "name": "stderr",
     "output_type": "stream",
     "text": [
      "No GPU detected, fall back on CPU.\n",
      "No GPU detected, fall back on CPU.\n"
     ]
    },
    {
     "name": "stdout",
     "output_type": "stream",
     "text": [
      "Shift p-vals:  0.23000000417232513\n",
      "Random Run 2 : Sample 1000\n",
      "Shift p-vals:  0.10000000149011612\n",
      "Random Run 2 : Sample 2000\n",
      "Shift p-vals:  0.009999999776482582\n"
     ]
    },
    {
     "name": "stderr",
     "output_type": "stream",
     "text": [
      "No GPU detected, fall back on CPU.\n",
      "No GPU detected, fall back on CPU.\n",
      "No GPU detected, fall back on CPU.\n",
      "No GPU detected, fall back on CPU.\n"
     ]
    },
    {
     "name": "stdout",
     "output_type": "stream",
     "text": [
      "Random Run 3 : Sample 10\n",
      "Shift p-vals:  0.800000011920929\n",
      "Random Run 3 : Sample 20\n",
      "Shift p-vals:  0.6600000262260437\n",
      "Random Run 3 : Sample 50\n",
      "Shift p-vals:  0.46000000834465027\n",
      "Random Run 3 : Sample 100\n"
     ]
    },
    {
     "name": "stderr",
     "output_type": "stream",
     "text": [
      "No GPU detected, fall back on CPU.\n",
      "No GPU detected, fall back on CPU.\n"
     ]
    },
    {
     "name": "stdout",
     "output_type": "stream",
     "text": [
      "Shift p-vals:  0.38999998569488525\n",
      "Random Run 3 : Sample 200\n",
      "Shift p-vals:  0.6399999856948853\n",
      "Random Run 3 : Sample 500\n"
     ]
    },
    {
     "name": "stderr",
     "output_type": "stream",
     "text": [
      "No GPU detected, fall back on CPU.\n",
      "No GPU detected, fall back on CPU.\n"
     ]
    },
    {
     "name": "stdout",
     "output_type": "stream",
     "text": [
      "Shift p-vals:  0.05999999865889549\n",
      "Random Run 3 : Sample 1000\n",
      "Shift p-vals:  0.30000001192092896\n",
      "Random Run 3 : Sample 2000\n",
      "Shift p-vals:  0.5899999737739563\n"
     ]
    },
    {
     "name": "stderr",
     "output_type": "stream",
     "text": [
      "No GPU detected, fall back on CPU.\n",
      "No GPU detected, fall back on CPU.\n",
      "No GPU detected, fall back on CPU.\n",
      "No GPU detected, fall back on CPU.\n"
     ]
    },
    {
     "name": "stdout",
     "output_type": "stream",
     "text": [
      "Random Run 4 : Sample 10\n",
      "Shift p-vals:  0.550000011920929\n",
      "Random Run 4 : Sample 20\n",
      "Shift p-vals:  0.8299999833106995\n",
      "Random Run 4 : Sample 50\n",
      "Shift p-vals:  0.28999999165534973\n",
      "Random Run 4 : Sample 100\n"
     ]
    },
    {
     "name": "stderr",
     "output_type": "stream",
     "text": [
      "No GPU detected, fall back on CPU.\n",
      "No GPU detected, fall back on CPU.\n",
      "No GPU detected, fall back on CPU.\n"
     ]
    },
    {
     "name": "stdout",
     "output_type": "stream",
     "text": [
      "Shift p-vals:  0.44999998807907104\n",
      "Random Run 4 : Sample 200\n",
      "Shift p-vals:  0.029999999329447746\n",
      "Random Run 4 : Sample 500\n",
      "Shift p-vals:  0.44999998807907104\n",
      "Random Run 4 : Sample 1000\n"
     ]
    },
    {
     "name": "stderr",
     "output_type": "stream",
     "text": [
      "No GPU detected, fall back on CPU.\n",
      "torch.range is deprecated and will be removed in a future release because its behavior is inconsistent with Python's range builtin. Instead, use torch.arange, which produces values in [start, end).\n"
     ]
    },
    {
     "name": "stdout",
     "output_type": "stream",
     "text": [
      "Shift p-vals:  0.8899999856948853\n",
      "Random Run 4 : Sample 2000\n",
      "Shift p-vals:  0.5\n",
      "seasonal | MSH | SRP | LSDD\n",
      "Shift seasonal\n",
      "Random Run 0 : Sample 10\n",
      "No GPU detected, fall back on CPU.\n",
      "Shift p-vals:  0.8600000143051147\n",
      "Random Run 0 : Sample 20\n",
      "No GPU detected, fall back on CPU.\n",
      "Shift p-vals:  0.0\n",
      "Random Run 0 : Sample 50\n",
      "No GPU detected, fall back on CPU.\n",
      "Shift p-vals:  0.9800000190734863\n",
      "Random Run 0 : Sample 100\n",
      "No GPU detected, fall back on CPU.\n",
      "Shift p-vals:  0.0\n",
      "Random Run 0 : Sample 200\n",
      "No GPU detected, fall back on CPU.\n",
      "Shift p-vals:  0.009999999776482582\n",
      "Random Run 0 : Sample 500\n",
      "No GPU detected, fall back on CPU.\n",
      "Shift p-vals:  0.23000000417232513\n",
      "Random Run 0 : Sample 1000\n",
      "No GPU detected, fall back on CPU.\n",
      "Shift p-vals:  0.8899999856948853\n",
      "Random Run 0 : Sample 2000\n",
      "No GPU detected, fall back on CPU.\n",
      "Shift p-vals:  0.0\n",
      "Random Run 1 : Sample 10\n",
      "No GPU detected, fall back on CPU.\n",
      "Shift p-vals:  0.6399999856948853\n",
      "Random Run 1 : Sample 20\n",
      "No GPU detected, fall back on CPU.\n",
      "Shift p-vals:  0.2800000011920929\n",
      "Random Run 1 : Sample 50\n",
      "No GPU detected, fall back on CPU.\n",
      "Shift p-vals:  0.09000000357627869\n",
      "Random Run 1 : Sample 100\n",
      "No GPU detected, fall back on CPU.\n",
      "Shift p-vals:  0.9300000071525574\n",
      "Random Run 1 : Sample 200\n",
      "No GPU detected, fall back on CPU.\n",
      "Shift p-vals:  0.3400000035762787\n",
      "Random Run 1 : Sample 500\n",
      "No GPU detected, fall back on CPU.\n",
      "Shift p-vals:  0.009999999776482582\n",
      "Random Run 1 : Sample 1000\n",
      "No GPU detected, fall back on CPU.\n",
      "Shift p-vals:  0.029999999329447746\n",
      "Random Run 1 : Sample 2000\n",
      "No GPU detected, fall back on CPU.\n",
      "Shift p-vals:  0.0\n",
      "Random Run 2 : Sample 10\n",
      "No GPU detected, fall back on CPU.\n",
      "Shift p-vals:  0.5799999833106995\n",
      "Random Run 2 : Sample 20\n",
      "No GPU detected, fall back on CPU.\n",
      "Shift p-vals:  0.0\n",
      "Random Run 2 : Sample 50\n",
      "No GPU detected, fall back on CPU.\n",
      "Shift p-vals:  0.0\n",
      "Random Run 2 : Sample 100\n",
      "No GPU detected, fall back on CPU.\n",
      "Shift p-vals:  0.4099999964237213\n",
      "Random Run 2 : Sample 200\n",
      "No GPU detected, fall back on CPU.\n",
      "Shift p-vals:  0.0\n",
      "Random Run 2 : Sample 500\n",
      "No GPU detected, fall back on CPU.\n",
      "Shift p-vals:  0.0\n",
      "Random Run 2 : Sample 1000\n",
      "No GPU detected, fall back on CPU.\n",
      "Shift p-vals:  0.33000001311302185\n",
      "Random Run 2 : Sample 2000\n",
      "No GPU detected, fall back on CPU.\n",
      "Shift p-vals:  0.4000000059604645\n",
      "Random Run 3 : Sample 10\n",
      "No GPU detected, fall back on CPU.\n",
      "Shift p-vals:  0.23000000417232513\n",
      "Random Run 3 : Sample 20\n",
      "No GPU detected, fall back on CPU.\n",
      "Shift p-vals:  0.6399999856948853\n",
      "Random Run 3 : Sample 50\n",
      "No GPU detected, fall back on CPU.\n",
      "Shift p-vals:  0.9800000190734863\n",
      "Random Run 3 : Sample 100\n",
      "No GPU detected, fall back on CPU.\n",
      "Shift p-vals:  0.0\n",
      "Random Run 3 : Sample 200\n",
      "No GPU detected, fall back on CPU.\n",
      "Shift p-vals:  0.6600000262260437\n",
      "Random Run 3 : Sample 500\n",
      "No GPU detected, fall back on CPU.\n",
      "Shift p-vals:  0.10999999940395355\n",
      "Random Run 3 : Sample 1000\n",
      "No GPU detected, fall back on CPU.\n",
      "Shift p-vals:  0.07000000029802322\n",
      "Random Run 3 : Sample 2000\n",
      "No GPU detected, fall back on CPU.\n",
      "Shift p-vals:  0.05000000074505806\n",
      "Random Run 4 : Sample 10\n",
      "No GPU detected, fall back on CPU.\n",
      "Shift p-vals:  0.28999999165534973\n",
      "Random Run 4 : Sample 20\n",
      "No GPU detected, fall back on CPU.\n",
      "Shift p-vals:  0.2800000011920929\n",
      "Random Run 4 : Sample 50\n",
      "No GPU detected, fall back on CPU.\n",
      "Shift p-vals:  0.3799999952316284\n",
      "Random Run 4 : Sample 100\n",
      "No GPU detected, fall back on CPU.\n",
      "Shift p-vals:  0.029999999329447746\n",
      "Random Run 4 : Sample 200\n",
      "No GPU detected, fall back on CPU.\n",
      "Shift p-vals:  0.7799999713897705\n",
      "Random Run 4 : Sample 500\n",
      "No GPU detected, fall back on CPU.\n",
      "Shift p-vals:  0.05999999865889549\n",
      "Random Run 4 : Sample 1000\n",
      "No GPU detected, fall back on CPU.\n",
      "Shift p-vals:  0.6800000071525574\n",
      "Random Run 4 : Sample 2000\n",
      "No GPU detected, fall back on CPU.\n",
      "Shift p-vals:  0.3100000023841858\n",
      "seasonal | MSH | PCA | MMD\n",
      "Shift seasonal\n"
     ]
    },
    {
     "name": "stderr",
     "output_type": "stream",
     "text": [
      "torch.range is deprecated and will be removed in a future release because its behavior is inconsistent with Python's range builtin. Instead, use torch.arange, which produces values in [start, end).\n"
     ]
    },
    {
     "name": "stdout",
     "output_type": "stream",
     "text": [
      "Random Run 0 : Sample 10\n",
      "No GPU detected, fall back on CPU.\n",
      "Shift p-vals:  0.11999999731779099\n",
      "Random Run 0 : Sample 20\n",
      "No GPU detected, fall back on CPU.\n",
      "Shift p-vals:  0.10000000149011612\n",
      "Random Run 0 : Sample 50\n",
      "No GPU detected, fall back on CPU.\n",
      "Shift p-vals:  0.9200000166893005\n",
      "Random Run 0 : Sample 100\n",
      "No GPU detected, fall back on CPU.\n",
      "Shift p-vals:  0.6700000166893005\n",
      "Random Run 0 : Sample 200\n",
      "No GPU detected, fall back on CPU.\n",
      "Shift p-vals:  0.6100000143051147\n",
      "Random Run 0 : Sample 500\n",
      "No GPU detected, fall back on CPU.\n",
      "Shift p-vals:  0.6399999856948853\n",
      "Random Run 0 : Sample 1000\n",
      "No GPU detected, fall back on CPU.\n",
      "Shift p-vals:  0.5400000214576721\n",
      "Random Run 0 : Sample 2000\n",
      "No GPU detected, fall back on CPU.\n",
      "Shift p-vals:  0.6800000071525574\n",
      "Random Run 1 : Sample 10\n",
      "No GPU detected, fall back on CPU.\n",
      "Shift p-vals:  0.7300000190734863\n",
      "Random Run 1 : Sample 20\n",
      "No GPU detected, fall back on CPU.\n",
      "Shift p-vals:  0.18000000715255737\n",
      "Random Run 1 : Sample 50\n",
      "No GPU detected, fall back on CPU.\n",
      "Shift p-vals:  0.7300000190734863\n",
      "Random Run 1 : Sample 100\n",
      "No GPU detected, fall back on CPU.\n",
      "Shift p-vals:  0.8100000023841858\n",
      "Random Run 1 : Sample 200\n",
      "No GPU detected, fall back on CPU.\n",
      "Shift p-vals:  0.800000011920929\n",
      "Random Run 1 : Sample 500\n",
      "No GPU detected, fall back on CPU.\n",
      "Shift p-vals:  0.7699999809265137\n",
      "Random Run 1 : Sample 1000\n",
      "No GPU detected, fall back on CPU.\n",
      "Shift p-vals:  0.8600000143051147\n",
      "Random Run 1 : Sample 2000\n",
      "No GPU detected, fall back on CPU.\n",
      "Shift p-vals:  0.8299999833106995\n",
      "Random Run 2 : Sample 10\n",
      "No GPU detected, fall back on CPU.\n",
      "Shift p-vals:  0.2800000011920929\n",
      "Random Run 2 : Sample 20\n",
      "No GPU detected, fall back on CPU.\n",
      "Shift p-vals:  0.8500000238418579\n",
      "Random Run 2 : Sample 50\n",
      "No GPU detected, fall back on CPU.\n",
      "Shift p-vals:  0.800000011920929\n",
      "Random Run 2 : Sample 100\n",
      "No GPU detected, fall back on CPU.\n",
      "Shift p-vals:  0.6100000143051147\n",
      "Random Run 2 : Sample 200\n",
      "No GPU detected, fall back on CPU.\n",
      "Shift p-vals:  0.6499999761581421\n",
      "Random Run 2 : Sample 500\n",
      "No GPU detected, fall back on CPU.\n",
      "Shift p-vals:  0.7099999785423279\n",
      "Random Run 2 : Sample 1000\n",
      "No GPU detected, fall back on CPU.\n",
      "Shift p-vals:  0.5899999737739563\n",
      "Random Run 2 : Sample 2000\n",
      "No GPU detected, fall back on CPU.\n",
      "Shift p-vals:  0.5899999737739563\n",
      "Random Run 3 : Sample 10\n",
      "No GPU detected, fall back on CPU.\n",
      "Shift p-vals:  0.5899999737739563\n",
      "Random Run 3 : Sample 20\n",
      "No GPU detected, fall back on CPU.\n",
      "Shift p-vals:  0.23000000417232513\n",
      "Random Run 3 : Sample 50\n",
      "No GPU detected, fall back on CPU.\n",
      "Shift p-vals:  0.27000001072883606\n",
      "Random Run 3 : Sample 100\n",
      "No GPU detected, fall back on CPU.\n",
      "Shift p-vals:  0.2800000011920929\n",
      "Random Run 3 : Sample 200\n",
      "No GPU detected, fall back on CPU.\n",
      "Shift p-vals:  0.23000000417232513\n",
      "Random Run 3 : Sample 500\n",
      "No GPU detected, fall back on CPU.\n",
      "Shift p-vals:  0.38999998569488525\n",
      "Random Run 3 : Sample 1000\n",
      "No GPU detected, fall back on CPU.\n",
      "Shift p-vals:  0.2800000011920929\n",
      "Random Run 3 : Sample 2000\n",
      "No GPU detected, fall back on CPU.\n",
      "Shift p-vals:  0.33000001311302185\n",
      "Random Run 4 : Sample 10\n",
      "No GPU detected, fall back on CPU.\n",
      "Shift p-vals:  0.15000000596046448\n",
      "Random Run 4 : Sample 20\n",
      "No GPU detected, fall back on CPU.\n",
      "Shift p-vals:  0.17000000178813934\n",
      "Random Run 4 : Sample 50\n",
      "No GPU detected, fall back on CPU.\n",
      "Shift p-vals:  0.6800000071525574\n",
      "Random Run 4 : Sample 100\n",
      "No GPU detected, fall back on CPU.\n",
      "Shift p-vals:  0.33000001311302185\n",
      "Random Run 4 : Sample 200\n",
      "No GPU detected, fall back on CPU.\n",
      "Shift p-vals:  0.44999998807907104\n",
      "Random Run 4 : Sample 500\n",
      "No GPU detected, fall back on CPU.\n",
      "Shift p-vals:  0.46000000834465027\n",
      "Random Run 4 : Sample 1000\n",
      "No GPU detected, fall back on CPU.\n",
      "Shift p-vals:  0.4099999964237213\n",
      "Random Run 4 : Sample 2000\n",
      "No GPU detected, fall back on CPU.\n",
      "Shift p-vals:  0.4099999964237213\n",
      "seasonal | MSH | PCA | LK\n",
      "Shift seasonal\n"
     ]
    },
    {
     "name": "stderr",
     "output_type": "stream",
     "text": [
      "torch.range is deprecated and will be removed in a future release because its behavior is inconsistent with Python's range builtin. Instead, use torch.arange, which produces values in [start, end).\n",
      "No GPU detected, fall back on CPU.\n",
      "No GPU detected, fall back on CPU.\n",
      "No GPU detected, fall back on CPU.\n",
      "No GPU detected, fall back on CPU.\n"
     ]
    },
    {
     "name": "stdout",
     "output_type": "stream",
     "text": [
      "Random Run 0 : Sample 10\n",
      "Shift p-vals:  0.3199999928474426\n",
      "Random Run 0 : Sample 20\n",
      "Shift p-vals:  0.8500000238418579\n",
      "Random Run 0 : Sample 50\n",
      "Shift p-vals:  0.1599999964237213\n",
      "Random Run 0 : Sample 100\n"
     ]
    },
    {
     "name": "stderr",
     "output_type": "stream",
     "text": [
      "No GPU detected, fall back on CPU.\n",
      "No GPU detected, fall back on CPU.\n"
     ]
    },
    {
     "name": "stdout",
     "output_type": "stream",
     "text": [
      "Shift p-vals:  0.07999999821186066\n",
      "Random Run 0 : Sample 200\n",
      "Shift p-vals:  0.4000000059604645\n",
      "Random Run 0 : Sample 500\n"
     ]
    },
    {
     "name": "stderr",
     "output_type": "stream",
     "text": [
      "No GPU detected, fall back on CPU.\n",
      "No GPU detected, fall back on CPU.\n"
     ]
    },
    {
     "name": "stdout",
     "output_type": "stream",
     "text": [
      "Shift p-vals:  0.23999999463558197\n",
      "Random Run 0 : Sample 1000\n",
      "Shift p-vals:  0.75\n",
      "Random Run 0 : Sample 2000\n",
      "Shift p-vals:  0.8299999833106995\n"
     ]
    },
    {
     "name": "stderr",
     "output_type": "stream",
     "text": [
      "No GPU detected, fall back on CPU.\n",
      "No GPU detected, fall back on CPU.\n",
      "No GPU detected, fall back on CPU.\n",
      "No GPU detected, fall back on CPU.\n"
     ]
    },
    {
     "name": "stdout",
     "output_type": "stream",
     "text": [
      "Random Run 1 : Sample 10\n",
      "Shift p-vals:  0.800000011920929\n",
      "Random Run 1 : Sample 20\n",
      "Shift p-vals:  0.5699999928474426\n",
      "Random Run 1 : Sample 50\n",
      "Shift p-vals:  0.23000000417232513\n",
      "Random Run 1 : Sample 100\n"
     ]
    },
    {
     "name": "stderr",
     "output_type": "stream",
     "text": [
      "No GPU detected, fall back on CPU.\n",
      "No GPU detected, fall back on CPU.\n"
     ]
    },
    {
     "name": "stdout",
     "output_type": "stream",
     "text": [
      "Shift p-vals:  0.8399999737739563\n",
      "Random Run 1 : Sample 200\n",
      "Shift p-vals:  0.6399999856948853\n",
      "Random Run 1 : Sample 500\n"
     ]
    },
    {
     "name": "stderr",
     "output_type": "stream",
     "text": [
      "No GPU detected, fall back on CPU.\n",
      "No GPU detected, fall back on CPU.\n"
     ]
    },
    {
     "name": "stdout",
     "output_type": "stream",
     "text": [
      "Shift p-vals:  0.1899999976158142\n",
      "Random Run 1 : Sample 1000\n",
      "Shift p-vals:  0.05000000074505806\n",
      "Random Run 1 : Sample 2000\n",
      "Shift p-vals:  0.03999999910593033\n"
     ]
    },
    {
     "name": "stderr",
     "output_type": "stream",
     "text": [
      "No GPU detected, fall back on CPU.\n",
      "No GPU detected, fall back on CPU.\n",
      "No GPU detected, fall back on CPU.\n",
      "No GPU detected, fall back on CPU.\n"
     ]
    },
    {
     "name": "stdout",
     "output_type": "stream",
     "text": [
      "Random Run 2 : Sample 10\n",
      "Shift p-vals:  0.949999988079071\n",
      "Random Run 2 : Sample 20\n",
      "Shift p-vals:  0.23999999463558197\n",
      "Random Run 2 : Sample 50\n",
      "Shift p-vals:  0.8299999833106995\n",
      "Random Run 2 : Sample 100\n"
     ]
    },
    {
     "name": "stderr",
     "output_type": "stream",
     "text": [
      "No GPU detected, fall back on CPU.\n",
      "No GPU detected, fall back on CPU.\n"
     ]
    },
    {
     "name": "stdout",
     "output_type": "stream",
     "text": [
      "Shift p-vals:  0.5899999737739563\n",
      "Random Run 2 : Sample 200\n",
      "Shift p-vals:  0.5199999809265137\n",
      "Random Run 2 : Sample 500\n"
     ]
    },
    {
     "name": "stderr",
     "output_type": "stream",
     "text": [
      "No GPU detected, fall back on CPU.\n",
      "No GPU detected, fall back on CPU.\n"
     ]
    },
    {
     "name": "stdout",
     "output_type": "stream",
     "text": [
      "Shift p-vals:  0.8500000238418579\n",
      "Random Run 2 : Sample 1000\n",
      "Shift p-vals:  0.8500000238418579\n",
      "Random Run 2 : Sample 2000\n",
      "Shift p-vals:  0.7099999785423279\n"
     ]
    },
    {
     "name": "stderr",
     "output_type": "stream",
     "text": [
      "No GPU detected, fall back on CPU.\n",
      "No GPU detected, fall back on CPU.\n",
      "No GPU detected, fall back on CPU.\n",
      "No GPU detected, fall back on CPU.\n"
     ]
    },
    {
     "name": "stdout",
     "output_type": "stream",
     "text": [
      "Random Run 3 : Sample 10\n",
      "Shift p-vals:  0.6100000143051147\n",
      "Random Run 3 : Sample 20\n",
      "Shift p-vals:  0.800000011920929\n",
      "Random Run 3 : Sample 50\n",
      "Shift p-vals:  0.49000000953674316\n",
      "Random Run 3 : Sample 100\n"
     ]
    },
    {
     "name": "stderr",
     "output_type": "stream",
     "text": [
      "No GPU detected, fall back on CPU.\n",
      "No GPU detected, fall back on CPU.\n"
     ]
    },
    {
     "name": "stdout",
     "output_type": "stream",
     "text": [
      "Shift p-vals:  0.14000000059604645\n",
      "Random Run 3 : Sample 200\n",
      "Shift p-vals:  0.1899999976158142\n",
      "Random Run 3 : Sample 500\n"
     ]
    },
    {
     "name": "stderr",
     "output_type": "stream",
     "text": [
      "No GPU detected, fall back on CPU.\n",
      "No GPU detected, fall back on CPU.\n"
     ]
    },
    {
     "name": "stdout",
     "output_type": "stream",
     "text": [
      "Shift p-vals:  0.6700000166893005\n",
      "Random Run 3 : Sample 1000\n",
      "Shift p-vals:  0.8500000238418579\n",
      "Random Run 3 : Sample 2000\n",
      "Shift p-vals:  0.49000000953674316\n"
     ]
    },
    {
     "name": "stderr",
     "output_type": "stream",
     "text": [
      "No GPU detected, fall back on CPU.\n",
      "No GPU detected, fall back on CPU.\n",
      "No GPU detected, fall back on CPU.\n",
      "No GPU detected, fall back on CPU.\n"
     ]
    },
    {
     "name": "stdout",
     "output_type": "stream",
     "text": [
      "Random Run 4 : Sample 10\n",
      "Shift p-vals:  0.8600000143051147\n",
      "Random Run 4 : Sample 20\n",
      "Shift p-vals:  0.550000011920929\n",
      "Random Run 4 : Sample 50\n",
      "Shift p-vals:  0.5099999904632568\n",
      "Random Run 4 : Sample 100\n"
     ]
    },
    {
     "name": "stderr",
     "output_type": "stream",
     "text": [
      "No GPU detected, fall back on CPU.\n",
      "No GPU detected, fall back on CPU.\n"
     ]
    },
    {
     "name": "stdout",
     "output_type": "stream",
     "text": [
      "Shift p-vals:  0.6899999976158142\n",
      "Random Run 4 : Sample 200\n",
      "Shift p-vals:  0.05999999865889549\n",
      "Random Run 4 : Sample 500\n"
     ]
    },
    {
     "name": "stderr",
     "output_type": "stream",
     "text": [
      "No GPU detected, fall back on CPU.\n",
      "No GPU detected, fall back on CPU.\n"
     ]
    },
    {
     "name": "stdout",
     "output_type": "stream",
     "text": [
      "Shift p-vals:  0.6700000166893005\n",
      "Random Run 4 : Sample 1000\n",
      "Shift p-vals:  0.3499999940395355\n",
      "Random Run 4 : Sample 2000\n"
     ]
    },
    {
     "name": "stderr",
     "output_type": "stream",
     "text": [
      "torch.range is deprecated and will be removed in a future release because its behavior is inconsistent with Python's range builtin. Instead, use torch.arange, which produces values in [start, end).\n"
     ]
    },
    {
     "name": "stdout",
     "output_type": "stream",
     "text": [
      "Shift p-vals:  0.8399999737739563\n",
      "seasonal | MSH | PCA | LSDD\n",
      "Shift seasonal\n",
      "Random Run 0 : Sample 10\n",
      "No GPU detected, fall back on CPU.\n",
      "Shift p-vals:  0.6100000143051147\n",
      "Random Run 0 : Sample 20\n",
      "No GPU detected, fall back on CPU.\n",
      "Shift p-vals:  0.5199999809265137\n",
      "Random Run 0 : Sample 50\n",
      "No GPU detected, fall back on CPU.\n",
      "Shift p-vals:  0.8999999761581421\n",
      "Random Run 0 : Sample 100\n",
      "No GPU detected, fall back on CPU.\n",
      "Shift p-vals:  0.550000011920929\n",
      "Random Run 0 : Sample 200\n",
      "No GPU detected, fall back on CPU.\n",
      "Shift p-vals:  0.7799999713897705\n",
      "Random Run 0 : Sample 500\n",
      "No GPU detected, fall back on CPU.\n",
      "Shift p-vals:  0.8399999737739563\n",
      "Random Run 0 : Sample 1000\n",
      "No GPU detected, fall back on CPU.\n",
      "Shift p-vals:  0.75\n",
      "Random Run 0 : Sample 2000\n",
      "No GPU detected, fall back on CPU.\n",
      "Shift p-vals:  0.949999988079071\n",
      "Random Run 1 : Sample 10\n",
      "No GPU detected, fall back on CPU.\n",
      "Shift p-vals:  0.8899999856948853\n",
      "Random Run 1 : Sample 20\n",
      "No GPU detected, fall back on CPU.\n",
      "Shift p-vals:  0.12999999523162842\n",
      "Random Run 1 : Sample 50\n",
      "No GPU detected, fall back on CPU.\n",
      "Shift p-vals:  0.9100000262260437\n",
      "Random Run 1 : Sample 100\n",
      "No GPU detected, fall back on CPU.\n",
      "Shift p-vals:  0.9200000166893005\n",
      "Random Run 1 : Sample 200\n",
      "No GPU detected, fall back on CPU.\n",
      "Shift p-vals:  0.4300000071525574\n",
      "Random Run 1 : Sample 500\n",
      "No GPU detected, fall back on CPU.\n",
      "Shift p-vals:  0.5799999833106995\n",
      "Random Run 1 : Sample 1000\n",
      "No GPU detected, fall back on CPU.\n",
      "Shift p-vals:  0.6200000047683716\n",
      "Random Run 1 : Sample 2000\n",
      "No GPU detected, fall back on CPU.\n",
      "Shift p-vals:  0.7200000286102295\n",
      "Random Run 2 : Sample 10\n",
      "No GPU detected, fall back on CPU.\n",
      "Shift p-vals:  0.019999999552965164\n",
      "Random Run 2 : Sample 20\n",
      "No GPU detected, fall back on CPU.\n",
      "Shift p-vals:  0.3499999940395355\n",
      "Random Run 2 : Sample 50\n",
      "No GPU detected, fall back on CPU.\n",
      "Shift p-vals:  0.8799999952316284\n",
      "Random Run 2 : Sample 100\n",
      "No GPU detected, fall back on CPU.\n",
      "Shift p-vals:  0.2800000011920929\n",
      "Random Run 2 : Sample 200\n",
      "No GPU detected, fall back on CPU.\n",
      "Shift p-vals:  0.23999999463558197\n",
      "Random Run 2 : Sample 500\n",
      "No GPU detected, fall back on CPU.\n",
      "Shift p-vals:  0.23999999463558197\n",
      "Random Run 2 : Sample 1000\n",
      "No GPU detected, fall back on CPU.\n",
      "Shift p-vals:  0.4000000059604645\n",
      "Random Run 2 : Sample 2000\n",
      "No GPU detected, fall back on CPU.\n",
      "Shift p-vals:  0.75\n",
      "Random Run 3 : Sample 10\n",
      "No GPU detected, fall back on CPU.\n",
      "Shift p-vals:  0.46000000834465027\n",
      "Random Run 3 : Sample 20\n",
      "No GPU detected, fall back on CPU.\n",
      "Shift p-vals:  0.17000000178813934\n",
      "Random Run 3 : Sample 50\n",
      "No GPU detected, fall back on CPU.\n",
      "Shift p-vals:  0.25999999046325684\n",
      "Random Run 3 : Sample 100\n",
      "No GPU detected, fall back on CPU.\n",
      "Shift p-vals:  0.7099999785423279\n",
      "Random Run 3 : Sample 200\n",
      "No GPU detected, fall back on CPU.\n",
      "Shift p-vals:  0.30000001192092896\n",
      "Random Run 3 : Sample 500\n",
      "No GPU detected, fall back on CPU.\n",
      "Shift p-vals:  0.2800000011920929\n",
      "Random Run 3 : Sample 1000\n",
      "No GPU detected, fall back on CPU.\n",
      "Shift p-vals:  0.4699999988079071\n",
      "Random Run 3 : Sample 2000\n",
      "No GPU detected, fall back on CPU.\n",
      "Shift p-vals:  0.3499999940395355\n",
      "Random Run 4 : Sample 10\n",
      "No GPU detected, fall back on CPU.\n",
      "Shift p-vals:  0.11999999731779099\n",
      "Random Run 4 : Sample 20\n",
      "No GPU detected, fall back on CPU.\n",
      "Shift p-vals:  0.1899999976158142\n",
      "Random Run 4 : Sample 50\n",
      "No GPU detected, fall back on CPU.\n",
      "Shift p-vals:  0.5699999928474426\n",
      "Random Run 4 : Sample 100\n",
      "No GPU detected, fall back on CPU.\n",
      "Shift p-vals:  0.14000000059604645\n",
      "Random Run 4 : Sample 200\n",
      "No GPU detected, fall back on CPU.\n",
      "Shift p-vals:  0.07999999821186066\n",
      "Random Run 4 : Sample 500\n",
      "No GPU detected, fall back on CPU.\n",
      "Shift p-vals:  0.5099999904632568\n",
      "Random Run 4 : Sample 1000\n",
      "No GPU detected, fall back on CPU.\n",
      "Shift p-vals:  0.11999999731779099\n",
      "Random Run 4 : Sample 2000\n",
      "No GPU detected, fall back on CPU.\n",
      "Shift p-vals:  0.14000000059604645\n",
      "seasonal | MSH | BBSDs_FFNN | MMD\n",
      "Shift seasonal\n"
     ]
    },
    {
     "name": "stderr",
     "output_type": "stream",
     "text": [
      "torch.range is deprecated and will be removed in a future release because its behavior is inconsistent with Python's range builtin. Instead, use torch.arange, which produces values in [start, end).\n"
     ]
    },
    {
     "name": "stdout",
     "output_type": "stream",
     "text": [
      "Random Run 0 : Sample 10\n",
      "No GPU detected, fall back on CPU.\n",
      "Shift p-vals:  0.44999998807907104\n",
      "Random Run 0 : Sample 20\n",
      "No GPU detected, fall back on CPU.\n",
      "Shift p-vals:  0.009999999776482582\n",
      "Random Run 0 : Sample 50\n",
      "No GPU detected, fall back on CPU.\n",
      "Shift p-vals:  0.49000000953674316\n",
      "Random Run 0 : Sample 100\n",
      "No GPU detected, fall back on CPU.\n",
      "Shift p-vals:  0.8799999952316284\n",
      "Random Run 0 : Sample 200\n",
      "No GPU detected, fall back on CPU.\n",
      "Shift p-vals:  0.6800000071525574\n",
      "Random Run 0 : Sample 500\n",
      "No GPU detected, fall back on CPU.\n",
      "Shift p-vals:  0.2800000011920929\n",
      "Random Run 0 : Sample 1000\n",
      "No GPU detected, fall back on CPU.\n",
      "Shift p-vals:  0.8700000047683716\n",
      "Random Run 0 : Sample 2000\n",
      "No GPU detected, fall back on CPU.\n",
      "Shift p-vals:  0.9800000190734863\n",
      "Random Run 1 : Sample 10\n",
      "No GPU detected, fall back on CPU.\n",
      "Shift p-vals:  0.7599999904632568\n",
      "Random Run 1 : Sample 20\n",
      "No GPU detected, fall back on CPU.\n",
      "Shift p-vals:  0.9399999976158142\n",
      "Random Run 1 : Sample 50\n",
      "No GPU detected, fall back on CPU.\n",
      "Shift p-vals:  0.8700000047683716\n",
      "Random Run 1 : Sample 100\n",
      "No GPU detected, fall back on CPU.\n",
      "Shift p-vals:  0.8799999952316284\n",
      "Random Run 1 : Sample 200\n",
      "No GPU detected, fall back on CPU.\n",
      "Shift p-vals:  0.7200000286102295\n",
      "Random Run 1 : Sample 500\n",
      "No GPU detected, fall back on CPU.\n",
      "Shift p-vals:  0.6000000238418579\n",
      "Random Run 1 : Sample 1000\n",
      "No GPU detected, fall back on CPU.\n",
      "Shift p-vals:  0.28999999165534973\n",
      "Random Run 1 : Sample 2000\n",
      "No GPU detected, fall back on CPU.\n",
      "Shift p-vals:  0.27000001072883606\n",
      "Random Run 2 : Sample 10\n",
      "No GPU detected, fall back on CPU.\n",
      "Shift p-vals:  0.8100000023841858\n",
      "Random Run 2 : Sample 20\n",
      "No GPU detected, fall back on CPU.\n",
      "Shift p-vals:  0.6700000166893005\n",
      "Random Run 2 : Sample 50\n",
      "No GPU detected, fall back on CPU.\n",
      "Shift p-vals:  0.25\n",
      "Random Run 2 : Sample 100\n",
      "No GPU detected, fall back on CPU.\n",
      "Shift p-vals:  0.7799999713897705\n",
      "Random Run 2 : Sample 200\n",
      "No GPU detected, fall back on CPU.\n",
      "Shift p-vals:  0.28999999165534973\n",
      "Random Run 2 : Sample 500\n",
      "No GPU detected, fall back on CPU.\n",
      "Shift p-vals:  0.3100000023841858\n",
      "Random Run 2 : Sample 1000\n",
      "No GPU detected, fall back on CPU.\n",
      "Shift p-vals:  0.41999998688697815\n",
      "Random Run 2 : Sample 2000\n",
      "No GPU detected, fall back on CPU.\n",
      "Shift p-vals:  0.8100000023841858\n",
      "Random Run 3 : Sample 10\n",
      "No GPU detected, fall back on CPU.\n",
      "Shift p-vals:  0.10000000149011612\n",
      "Random Run 3 : Sample 20\n",
      "No GPU detected, fall back on CPU.\n",
      "Shift p-vals:  0.9700000286102295\n",
      "Random Run 3 : Sample 50\n",
      "No GPU detected, fall back on CPU.\n",
      "Shift p-vals:  0.44999998807907104\n",
      "Random Run 3 : Sample 100\n",
      "No GPU detected, fall back on CPU.\n",
      "Shift p-vals:  0.8799999952316284\n",
      "Random Run 3 : Sample 200\n",
      "No GPU detected, fall back on CPU.\n",
      "Shift p-vals:  0.8700000047683716\n",
      "Random Run 3 : Sample 500\n",
      "No GPU detected, fall back on CPU.\n",
      "Shift p-vals:  0.38999998569488525\n",
      "Random Run 3 : Sample 1000\n",
      "No GPU detected, fall back on CPU.\n",
      "Shift p-vals:  0.8399999737739563\n",
      "Random Run 3 : Sample 2000\n",
      "No GPU detected, fall back on CPU.\n",
      "Shift p-vals:  0.10999999940395355\n",
      "Random Run 4 : Sample 10\n",
      "No GPU detected, fall back on CPU.\n",
      "Shift p-vals:  0.949999988079071\n",
      "Random Run 4 : Sample 20\n",
      "No GPU detected, fall back on CPU.\n",
      "Shift p-vals:  0.18000000715255737\n",
      "Random Run 4 : Sample 50\n",
      "No GPU detected, fall back on CPU.\n",
      "Shift p-vals:  0.4099999964237213\n",
      "Random Run 4 : Sample 100\n",
      "No GPU detected, fall back on CPU.\n",
      "Shift p-vals:  0.41999998688697815\n",
      "Random Run 4 : Sample 200\n",
      "No GPU detected, fall back on CPU.\n",
      "Shift p-vals:  0.9200000166893005\n",
      "Random Run 4 : Sample 500\n",
      "No GPU detected, fall back on CPU.\n",
      "Shift p-vals:  0.07000000029802322\n",
      "Random Run 4 : Sample 1000\n",
      "No GPU detected, fall back on CPU.\n",
      "Shift p-vals:  0.9399999976158142\n",
      "Random Run 4 : Sample 2000\n",
      "No GPU detected, fall back on CPU.\n",
      "Shift p-vals:  0.25999999046325684\n",
      "seasonal | MSH | BBSDs_FFNN | LK\n",
      "Shift seasonal\n"
     ]
    },
    {
     "name": "stderr",
     "output_type": "stream",
     "text": [
      "torch.range is deprecated and will be removed in a future release because its behavior is inconsistent with Python's range builtin. Instead, use torch.arange, which produces values in [start, end).\n",
      "No GPU detected, fall back on CPU.\n",
      "No GPU detected, fall back on CPU.\n",
      "No GPU detected, fall back on CPU.\n",
      "No GPU detected, fall back on CPU.\n"
     ]
    },
    {
     "name": "stdout",
     "output_type": "stream",
     "text": [
      "Random Run 0 : Sample 10\n",
      "Shift p-vals:  0.1899999976158142\n",
      "Random Run 0 : Sample 20\n",
      "Shift p-vals:  0.3499999940395355\n",
      "Random Run 0 : Sample 50\n",
      "Shift p-vals:  0.6200000047683716\n",
      "Random Run 0 : Sample 100\n"
     ]
    },
    {
     "name": "stderr",
     "output_type": "stream",
     "text": [
      "No GPU detected, fall back on CPU.\n",
      "No GPU detected, fall back on CPU.\n"
     ]
    },
    {
     "name": "stdout",
     "output_type": "stream",
     "text": [
      "Shift p-vals:  0.38999998569488525\n",
      "Random Run 0 : Sample 200\n",
      "Shift p-vals:  0.14000000059604645\n",
      "Random Run 0 : Sample 500\n"
     ]
    },
    {
     "name": "stderr",
     "output_type": "stream",
     "text": [
      "No GPU detected, fall back on CPU.\n",
      "No GPU detected, fall back on CPU.\n"
     ]
    },
    {
     "name": "stdout",
     "output_type": "stream",
     "text": [
      "Shift p-vals:  0.9100000262260437\n",
      "Random Run 0 : Sample 1000\n",
      "Shift p-vals:  0.8799999952316284\n",
      "Random Run 0 : Sample 2000\n",
      "Shift p-vals:  0.6000000238418579\n"
     ]
    },
    {
     "name": "stderr",
     "output_type": "stream",
     "text": [
      "No GPU detected, fall back on CPU.\n",
      "No GPU detected, fall back on CPU.\n",
      "No GPU detected, fall back on CPU.\n",
      "No GPU detected, fall back on CPU.\n"
     ]
    },
    {
     "name": "stdout",
     "output_type": "stream",
     "text": [
      "Random Run 1 : Sample 10\n",
      "Shift p-vals:  0.49000000953674316\n",
      "Random Run 1 : Sample 20\n",
      "Shift p-vals:  0.17000000178813934\n",
      "Random Run 1 : Sample 50\n",
      "Shift p-vals:  0.7400000095367432\n",
      "Random Run 1 : Sample 100\n"
     ]
    },
    {
     "name": "stderr",
     "output_type": "stream",
     "text": [
      "No GPU detected, fall back on CPU.\n",
      "No GPU detected, fall back on CPU.\n"
     ]
    },
    {
     "name": "stdout",
     "output_type": "stream",
     "text": [
      "Shift p-vals:  0.5\n",
      "Random Run 1 : Sample 200\n",
      "Shift p-vals:  0.1899999976158142\n",
      "Random Run 1 : Sample 500\n"
     ]
    },
    {
     "name": "stderr",
     "output_type": "stream",
     "text": [
      "No GPU detected, fall back on CPU.\n",
      "No GPU detected, fall back on CPU.\n"
     ]
    },
    {
     "name": "stdout",
     "output_type": "stream",
     "text": [
      "Shift p-vals:  0.07000000029802322\n",
      "Random Run 1 : Sample 1000\n",
      "Shift p-vals:  0.9399999976158142\n",
      "Random Run 1 : Sample 2000\n",
      "Shift p-vals:  0.23999999463558197\n"
     ]
    },
    {
     "name": "stderr",
     "output_type": "stream",
     "text": [
      "No GPU detected, fall back on CPU.\n",
      "No GPU detected, fall back on CPU.\n",
      "No GPU detected, fall back on CPU.\n",
      "No GPU detected, fall back on CPU.\n"
     ]
    },
    {
     "name": "stdout",
     "output_type": "stream",
     "text": [
      "Random Run 2 : Sample 10\n",
      "Shift p-vals:  0.8600000143051147\n",
      "Random Run 2 : Sample 20\n",
      "Shift p-vals:  1.0\n",
      "Random Run 2 : Sample 50\n",
      "Shift p-vals:  0.12999999523162842\n",
      "Random Run 2 : Sample 100\n"
     ]
    },
    {
     "name": "stderr",
     "output_type": "stream",
     "text": [
      "No GPU detected, fall back on CPU.\n",
      "No GPU detected, fall back on CPU.\n"
     ]
    },
    {
     "name": "stdout",
     "output_type": "stream",
     "text": [
      "Shift p-vals:  0.8999999761581421\n",
      "Random Run 2 : Sample 200\n",
      "Shift p-vals:  0.1599999964237213\n",
      "Random Run 2 : Sample 500\n"
     ]
    },
    {
     "name": "stderr",
     "output_type": "stream",
     "text": [
      "No GPU detected, fall back on CPU.\n",
      "No GPU detected, fall back on CPU.\n"
     ]
    },
    {
     "name": "stdout",
     "output_type": "stream",
     "text": [
      "Shift p-vals:  0.27000001072883606\n",
      "Random Run 2 : Sample 1000\n",
      "Shift p-vals:  0.7300000190734863\n",
      "Random Run 2 : Sample 2000\n",
      "Shift p-vals:  0.4399999976158142\n"
     ]
    },
    {
     "name": "stderr",
     "output_type": "stream",
     "text": [
      "No GPU detected, fall back on CPU.\n",
      "No GPU detected, fall back on CPU.\n",
      "No GPU detected, fall back on CPU.\n",
      "No GPU detected, fall back on CPU.\n"
     ]
    },
    {
     "name": "stdout",
     "output_type": "stream",
     "text": [
      "Random Run 3 : Sample 10\n",
      "Shift p-vals:  0.38999998569488525\n",
      "Random Run 3 : Sample 20\n",
      "Shift p-vals:  0.8100000023841858\n",
      "Random Run 3 : Sample 50\n",
      "Shift p-vals:  0.3799999952316284\n",
      "Random Run 3 : Sample 100\n"
     ]
    },
    {
     "name": "stderr",
     "output_type": "stream",
     "text": [
      "No GPU detected, fall back on CPU.\n",
      "No GPU detected, fall back on CPU.\n"
     ]
    },
    {
     "name": "stdout",
     "output_type": "stream",
     "text": [
      "Shift p-vals:  0.25\n",
      "Random Run 3 : Sample 200\n",
      "Shift p-vals:  0.3499999940395355\n",
      "Random Run 3 : Sample 500\n"
     ]
    },
    {
     "name": "stderr",
     "output_type": "stream",
     "text": [
      "No GPU detected, fall back on CPU.\n",
      "No GPU detected, fall back on CPU.\n"
     ]
    },
    {
     "name": "stdout",
     "output_type": "stream",
     "text": [
      "Shift p-vals:  0.46000000834465027\n",
      "Random Run 3 : Sample 1000\n",
      "Shift p-vals:  0.33000001311302185\n",
      "Random Run 3 : Sample 2000\n",
      "Shift p-vals:  0.3100000023841858\n"
     ]
    },
    {
     "name": "stderr",
     "output_type": "stream",
     "text": [
      "No GPU detected, fall back on CPU.\n",
      "No GPU detected, fall back on CPU.\n",
      "No GPU detected, fall back on CPU.\n",
      "No GPU detected, fall back on CPU.\n"
     ]
    },
    {
     "name": "stdout",
     "output_type": "stream",
     "text": [
      "Random Run 4 : Sample 10\n",
      "Shift p-vals:  0.3199999928474426\n",
      "Random Run 4 : Sample 20\n",
      "Shift p-vals:  0.6000000238418579\n",
      "Random Run 4 : Sample 50\n",
      "Shift p-vals:  0.28999999165534973\n",
      "Random Run 4 : Sample 100\n"
     ]
    },
    {
     "name": "stderr",
     "output_type": "stream",
     "text": [
      "No GPU detected, fall back on CPU.\n",
      "No GPU detected, fall back on CPU.\n"
     ]
    },
    {
     "name": "stdout",
     "output_type": "stream",
     "text": [
      "Shift p-vals:  0.9800000190734863\n",
      "Random Run 4 : Sample 200\n",
      "Shift p-vals:  0.07000000029802322\n",
      "Random Run 4 : Sample 500\n"
     ]
    },
    {
     "name": "stderr",
     "output_type": "stream",
     "text": [
      "No GPU detected, fall back on CPU.\n",
      "No GPU detected, fall back on CPU.\n"
     ]
    },
    {
     "name": "stdout",
     "output_type": "stream",
     "text": [
      "Shift p-vals:  0.5699999928474426\n",
      "Random Run 4 : Sample 1000\n",
      "Shift p-vals:  0.5299999713897705\n",
      "Random Run 4 : Sample 2000\n"
     ]
    },
    {
     "name": "stderr",
     "output_type": "stream",
     "text": [
      "torch.range is deprecated and will be removed in a future release because its behavior is inconsistent with Python's range builtin. Instead, use torch.arange, which produces values in [start, end).\n"
     ]
    },
    {
     "name": "stdout",
     "output_type": "stream",
     "text": [
      "Shift p-vals:  0.05999999865889549\n",
      "seasonal | MSH | BBSDs_FFNN | LSDD\n",
      "Shift seasonal\n",
      "Random Run 0 : Sample 10\n",
      "No GPU detected, fall back on CPU.\n",
      "Shift p-vals:  0.9599999785423279\n",
      "Random Run 0 : Sample 20\n",
      "No GPU detected, fall back on CPU.\n",
      "Shift p-vals:  0.10999999940395355\n",
      "Random Run 0 : Sample 50\n",
      "No GPU detected, fall back on CPU.\n",
      "Shift p-vals:  0.9399999976158142\n",
      "Random Run 0 : Sample 100\n",
      "No GPU detected, fall back on CPU.\n",
      "Shift p-vals:  0.8100000023841858\n",
      "Random Run 0 : Sample 200\n",
      "No GPU detected, fall back on CPU.\n",
      "Shift p-vals:  0.20999999344348907\n",
      "Random Run 0 : Sample 500\n",
      "No GPU detected, fall back on CPU.\n",
      "Shift p-vals:  0.8299999833106995\n",
      "Random Run 0 : Sample 1000\n",
      "No GPU detected, fall back on CPU.\n",
      "Shift p-vals:  0.3400000035762787\n",
      "Random Run 0 : Sample 2000\n",
      "No GPU detected, fall back on CPU.\n",
      "Shift p-vals:  0.05000000074505806\n",
      "Random Run 1 : Sample 10\n",
      "No GPU detected, fall back on CPU.\n",
      "Shift p-vals:  0.5899999737739563\n",
      "Random Run 1 : Sample 20\n",
      "No GPU detected, fall back on CPU.\n",
      "Shift p-vals:  0.3499999940395355\n",
      "Random Run 1 : Sample 50\n",
      "No GPU detected, fall back on CPU.\n",
      "Shift p-vals:  0.8799999952316284\n",
      "Random Run 1 : Sample 100\n",
      "No GPU detected, fall back on CPU.\n",
      "Shift p-vals:  0.3799999952316284\n",
      "Random Run 1 : Sample 200\n",
      "No GPU detected, fall back on CPU.\n",
      "Shift p-vals:  0.3700000047683716\n",
      "Random Run 1 : Sample 500\n",
      "No GPU detected, fall back on CPU.\n",
      "Shift p-vals:  0.550000011920929\n",
      "Random Run 1 : Sample 1000\n",
      "No GPU detected, fall back on CPU.\n",
      "Shift p-vals:  0.5199999809265137\n",
      "Random Run 1 : Sample 2000\n",
      "No GPU detected, fall back on CPU.\n",
      "Shift p-vals:  0.4399999976158142\n",
      "Random Run 2 : Sample 10\n",
      "No GPU detected, fall back on CPU.\n",
      "Shift p-vals:  0.9700000286102295\n",
      "Random Run 2 : Sample 20\n",
      "No GPU detected, fall back on CPU.\n",
      "Shift p-vals:  0.7900000214576721\n",
      "Random Run 2 : Sample 50\n",
      "No GPU detected, fall back on CPU.\n",
      "Shift p-vals:  0.3400000035762787\n",
      "Random Run 2 : Sample 100\n",
      "No GPU detected, fall back on CPU.\n",
      "Shift p-vals:  0.15000000596046448\n",
      "Random Run 2 : Sample 200\n",
      "No GPU detected, fall back on CPU.\n",
      "Shift p-vals:  0.8999999761581421\n",
      "Random Run 2 : Sample 500\n",
      "No GPU detected, fall back on CPU.\n",
      "Shift p-vals:  1.0\n",
      "Random Run 2 : Sample 1000\n",
      "No GPU detected, fall back on CPU.\n",
      "Shift p-vals:  0.20999999344348907\n",
      "Random Run 2 : Sample 2000\n",
      "No GPU detected, fall back on CPU.\n",
      "Shift p-vals:  0.6499999761581421\n",
      "Random Run 3 : Sample 10\n",
      "No GPU detected, fall back on CPU.\n",
      "Shift p-vals:  0.4300000071525574\n",
      "Random Run 3 : Sample 20\n",
      "No GPU detected, fall back on CPU.\n",
      "Shift p-vals:  0.7699999809265137\n",
      "Random Run 3 : Sample 50\n",
      "No GPU detected, fall back on CPU.\n",
      "Shift p-vals:  0.8799999952316284\n",
      "Random Run 3 : Sample 100\n",
      "No GPU detected, fall back on CPU.\n",
      "Shift p-vals:  0.27000001072883606\n",
      "Random Run 3 : Sample 200\n",
      "No GPU detected, fall back on CPU.\n",
      "Shift p-vals:  0.20000000298023224\n",
      "Random Run 3 : Sample 500\n",
      "No GPU detected, fall back on CPU.\n",
      "Shift p-vals:  0.33000001311302185\n",
      "Random Run 3 : Sample 1000\n",
      "No GPU detected, fall back on CPU.\n",
      "Shift p-vals:  0.23999999463558197\n",
      "Random Run 3 : Sample 2000\n",
      "No GPU detected, fall back on CPU.\n",
      "Shift p-vals:  0.6499999761581421\n",
      "Random Run 4 : Sample 10\n",
      "No GPU detected, fall back on CPU.\n",
      "Shift p-vals:  0.7599999904632568\n",
      "Random Run 4 : Sample 20\n",
      "No GPU detected, fall back on CPU.\n",
      "Shift p-vals:  0.09000000357627869\n",
      "Random Run 4 : Sample 50\n",
      "No GPU detected, fall back on CPU.\n",
      "Shift p-vals:  0.2199999988079071\n",
      "Random Run 4 : Sample 100\n",
      "No GPU detected, fall back on CPU.\n",
      "Shift p-vals:  0.30000001192092896\n",
      "Random Run 4 : Sample 200\n",
      "No GPU detected, fall back on CPU.\n",
      "Shift p-vals:  0.3700000047683716\n",
      "Random Run 4 : Sample 500\n",
      "No GPU detected, fall back on CPU.\n",
      "Shift p-vals:  0.5799999833106995\n",
      "Random Run 4 : Sample 1000\n",
      "No GPU detected, fall back on CPU.\n",
      "Shift p-vals:  0.7400000095367432\n",
      "Random Run 4 : Sample 2000\n",
      "No GPU detected, fall back on CPU.\n",
      "Shift p-vals:  0.5400000214576721\n",
      "Select Pre-Processing: PCA\n",
      "Select Two-Sample Testing: MMD\n"
     ]
    },
    {
     "data": {
      "image/png": "[encoded data removed]",
      "text/plain": [
       "<Figure size 576x432 with 1 Axes>"
      ]
     },
     "metadata": {
      "needs_background": "light"
     },
     "output_type": "display_data"
    }
   ],
   "source": [
    "# Run shift experiments\n",
    "if os.path.exists(PATH + \"/mean_dr_md.pkl\"):\n",
    "    with open(PATH + \"/mean_dr_md.pkl\", \"rb\") as f:\n",
    "        mean_dr_md = pickle.load(f)\n",
    "else:\n",
    "    mean_dr_md = np.ones(\n",
    "        (len(SHIFTS), len(HOSPITALS), len(DR_TECHNIQUES), len(MD_TESTS), len(SAMPLES))\n",
    "    ) * (-1)\n",
    "\n",
    "if os.path.exists(PATH + \"/std_dr_md.pkl\"):\n",
    "    with open(PATH + \"/std_dr_md.pkl\", \"rb\") as f:\n",
    "        std_dr_md = pickle.load(f)\n",
    "else:\n",
    "    std_dr_md = np.ones(\n",
    "        (len(SHIFTS), len(HOSPITALS), len(DR_TECHNIQUES), len(MD_TESTS), len(SAMPLES))\n",
    "    ) * (-1)\n",
    "\n",
    "for si, SHIFT in enumerate(SHIFTS):\n",
    "    for hi, HOSPITAL in enumerate(HOSPITALS):\n",
    "        for di, DR_TECHNIQUE in enumerate(DR_TECHNIQUES):\n",
    "            for mi, MD_TEST in enumerate(MD_TESTS):\n",
    "                if np.any(mean_dr_md[si, hi, di, mi, :] == -1):\n",
    "                    print(\n",
    "                        \"{} | {} | {} | {}\".format(\n",
    "                            SHIFT, HOSPITAL, DR_TECHNIQUE, MD_TEST\n",
    "                        )\n",
    "                    )\n",
    "                    try:\n",
    "                        mean_p_vals, std_p_vals = run_shift_experiment(\n",
    "                            SHIFT,\n",
    "                            OUTCOME,\n",
    "                            [HOSPITAL],\n",
    "                            PATH,\n",
    "                            DR_TECHNIQUE,\n",
    "                            MD_TEST,\n",
    "                            SAMPLES,\n",
    "                            DATASET,\n",
    "                            SIGN_LEVEL,\n",
    "                            NA_CUTOFF,\n",
    "                            RANDOM_RUNS,\n",
    "                            calc_acc=True,\n",
    "                        )\n",
    "                        mean_dr_md[si, hi, di, mi, :] = mean_p_vals\n",
    "                        std_dr_md[si, hi, di, mi, :] = std_p_vals\n",
    "                    except ValueError as e:\n",
    "                        print(\"Value Error\")\n",
    "                        pass\n",
    "\n",
    "DIM_RED = input(\"Select Pre-Processing: \")\n",
    "MD_TEST = input(\"Select Two-Sample Testing: \")\n",
    "\n",
    "fig = plt.figure(figsize=(8, 6))\n",
    "for si, shift in enumerate(SHIFTS):\n",
    "    for hi, hospital in enumerate(HOSPITALS):\n",
    "        for di, dr_technique in enumerate(DR_TECHNIQUES):\n",
    "            for mi, md_test in enumerate(MD_TESTS):\n",
    "                if (\n",
    "                    shift in SHIFT_BS\n",
    "                    and hospital == HOSPITAL\n",
    "                    and dr_technique == DIM_RED\n",
    "                    and md_test == MD_TEST\n",
    "                ):\n",
    "                    errorfill(\n",
    "                        np.array(SAMPLES[1:]),\n",
    "                        mean_dr_md[si, hi, di, mi, 1:],\n",
    "                        std_dr_md[si, hi, di, mi, 1:],\n",
    "                        fmt=linestyles[di] + markers[di],\n",
    "                        color=colorscale(colors[si], brightness[mi]),\n",
    "                        label=\"%s\" % \"_\".join([shift, dr_technique, md_test]),\n",
    "                    )\n",
    "plt.xlabel(\"Number of samples from test data\")\n",
    "plt.ylabel(\"$p$-value\")\n",
    "plt.axhline(y=SIGN_LEVEL, color=\"k\")\n",
    "plt.legend()\n",
    "plt.show()\n",
    "\n",
    "# Run shift experiments\n",
    "if not os.path.exists(PATH + \"/mean_dr_md.pkl\"):\n",
    "    with open(PATH + \"/mean_dr_md.pkl\", \"wb\") as f:\n",
    "        pickle.dump(mean_dr_md, f)\n",
    "if not os.path.exists(PATH + \"/std_dr_md.pkl\"):\n",
    "    with open(PATH + \"/std_dr_md.pkl\", \"wb\") as f:\n",
    "        pickle.dump(std_dr_md, f)"
   ]
  },
  {
   "cell_type": "markdown",
   "id": "bibliographic-premium",
   "metadata": {},
   "source": [
    "# Build Model #"
   ]
  },
  {
   "cell_type": "code",
   "execution_count": 5,
   "id": "dying-graham",
   "metadata": {},
   "outputs": [
    {
     "name": "stdout",
     "output_type": "stream",
     "text": [
      "Select Model: xgb\n",
      "Best eta: 0.3\n",
      "Best g: 1.5\n",
      "Best n: 7\n"
     ]
    }
   ],
   "source": [
    "(\n",
    "    (X_train, y_train),\n",
    "    (X_val, y_val),\n",
    "    (X_test, y_test),\n",
    "    feats,\n",
    "    orig_dims,\n",
    ") = import_dataset_hospital(\n",
    "    SHIFT_EXPERIMENT, OUTCOME, [HOSPITAL], NA_CUTOFF, shuffle=True\n",
    ")\n",
    "\n",
    "MODEL_NAME = input(\"Select Model: \")\n",
    "MODEL_PATH = PATH + \"_\".join([SHIFT_EXPERIMENT, OUTCOME, HOSPITAL, MODEL_NAME]) + \".pkl\"\n",
    "if os.path.exists(MODEL_PATH):\n",
    "    optimised_model = pickle.load(open(MODEL_PATH, \"rb\"))\n",
    "else:\n",
    "    optimised_model = run_model(MODEL_NAME, X_train, y_train, X_val, y_val)"
   ]
  },
  {
   "cell_type": "markdown",
   "id": "front-present",
   "metadata": {},
   "source": [
    "### Performance on Source Data ###"
   ]
  },
  {
   "cell_type": "code",
   "execution_count": 6,
   "id": "resistant-dover",
   "metadata": {},
   "outputs": [
    {
     "data": {
      "text/plain": [
       "<AxesSubplot:title={'center':'Average Precision: 0.894447'}, xlabel='Recall', ylabel='Precision'>"
      ]
     },
     "execution_count": 6,
     "metadata": {},
     "output_type": "execute_result"
    },
    {
     "data": {
      "image/png": "[encoded data removed]",
      "text/plain": [
       "<Figure size 1296x504 with 2 Axes>"
      ]
     },
     "metadata": {
      "needs_background": "light"
     },
     "output_type": "display_data"
    }
   ],
   "source": [
    "y_pred_prob = optimised_model.predict_proba(X_val)[:, 1]\n",
    "\n",
    "fpr, tpr, thresholds = roc_curve(y_val, y_pred_prob, pos_label=1)\n",
    "roc_auc = auc(fpr, tpr)\n",
    "precision, recall, thresholds = precision_recall_curve(y_val, y_pred_prob)\n",
    "avg_pr = average_precision_score(y_val, y_pred_prob)\n",
    "fig, ax = plt.subplots(nrows=1, ncols=2, figsize=(18, 7))\n",
    "plot_roc(ax[0], fpr, tpr, roc_auc)\n",
    "plot_pr(ax[1], recall, precision, avg_pr)"
   ]
  },
  {
   "cell_type": "markdown",
   "id": "distinct-opening",
   "metadata": {},
   "source": [
    "### Performance on Target Data ###"
   ]
  },
  {
   "cell_type": "code",
   "execution_count": 7,
   "id": "affecting-marriage",
   "metadata": {},
   "outputs": [
    {
     "data": {
      "text/plain": [
       "<AxesSubplot:title={'center':'Average Precision: 0.895099'}, xlabel='Recall', ylabel='Precision'>"
      ]
     },
     "execution_count": 7,
     "metadata": {},
     "output_type": "execute_result"
    },
    {
     "data": {
      "image/png": "[encoded data removed]",
      "text/plain": [
       "<Figure size 1296x504 with 2 Axes>"
      ]
     },
     "metadata": {
      "needs_background": "light"
     },
     "output_type": "display_data"
    }
   ],
   "source": [
    "y_pred_prob = optimised_model.predict_proba(X_test)[:, 1]\n",
    "fpr, tpr, thresholds = roc_curve(y_test, y_pred_prob, pos_label=1)\n",
    "roc_auc = auc(fpr, tpr)\n",
    "precision, recall, thresholds = precision_recall_curve(y_test, y_pred_prob)\n",
    "avg_pr = average_precision_score(y_test, y_pred_prob)\n",
    "fig, ax = plt.subplots(nrows=1, ncols=2, figsize=(18, 7))\n",
    "plot_roc(ax[0], fpr, tpr, roc_auc)\n",
    "plot_pr(ax[1], recall, precision, avg_pr)"
   ]
  },
  {
   "cell_type": "markdown",
   "id": "tender-bracket",
   "metadata": {},
   "source": [
    "## Performance by Sample Size ##"
   ]
  },
  {
   "cell_type": "code",
   "execution_count": 8,
   "id": "touched-texture",
   "metadata": {},
   "outputs": [],
   "source": [
    "def __unison_shuffled_copies(a, b):\n",
    "    assert len(a) == len(b)\n",
    "    p = np.random.permutation(len(a))\n",
    "    return a[p], b[p]"
   ]
  },
  {
   "cell_type": "code",
   "execution_count": 9,
   "id": "employed-curtis",
   "metadata": {},
   "outputs": [
    {
     "name": "stderr",
     "output_type": "stream",
     "text": [
      "torch.range is deprecated and will be removed in a future release because its behavior is inconsistent with Python's range builtin. Instead, use torch.arange, which produces values in [start, end).\n",
      "No negative samples in y_true, false positive value should be meaningless\n",
      "torch.range is deprecated and will be removed in a future release because its behavior is inconsistent with Python's range builtin. Instead, use torch.arange, which produces values in [start, end).\n",
      "torch.range is deprecated and will be removed in a future release because its behavior is inconsistent with Python's range builtin. Instead, use torch.arange, which produces values in [start, end).\n",
      "torch.range is deprecated and will be removed in a future release because its behavior is inconsistent with Python's range builtin. Instead, use torch.arange, which produces values in [start, end).\n",
      "torch.range is deprecated and will be removed in a future release because its behavior is inconsistent with Python's range builtin. Instead, use torch.arange, which produces values in [start, end).\n",
      "torch.range is deprecated and will be removed in a future release because its behavior is inconsistent with Python's range builtin. Instead, use torch.arange, which produces values in [start, end).\n",
      "torch.range is deprecated and will be removed in a future release because its behavior is inconsistent with Python's range builtin. Instead, use torch.arange, which produces values in [start, end).\n",
      "torch.range is deprecated and will be removed in a future release because its behavior is inconsistent with Python's range builtin. Instead, use torch.arange, which produces values in [start, end).\n"
     ]
    }
   ],
   "source": [
    "samp_metrics = np.ones((len(SAMPLES), RANDOM_RUNS, 2, 2)) * (-1)\n",
    "for si, sample in enumerate(SAMPLES):\n",
    "    for i in range(0, RANDOM_RUNS - 1):\n",
    "        i = int(i)\n",
    "        np.random.seed(i)\n",
    "        X_val, y_val = __unison_shuffled_copies(X_val, y_val)\n",
    "        X_test, y_test = __unison_shuffled_copies(X_test, y_test)\n",
    "\n",
    "        y_val_pred_prob = optimised_model.predict_proba(X_val[:sample])[:, 1]\n",
    "        val_fpr, val_tpr, val_thresholds = roc_curve(\n",
    "            y_val[:sample], y_val_pred_prob, pos_label=1\n",
    "        )\n",
    "        val_roc_auc = auc(val_fpr, val_tpr)\n",
    "        val_avg_pr = average_precision_score(y_val[:sample], y_val_pred_prob)\n",
    "\n",
    "        y_test_pred_prob = optimised_model.predict_proba(X_test[:sample])[:, 1]\n",
    "        test_fpr, test_tpr, test_thresholds = roc_curve(\n",
    "            y_test[:sample], y_test_pred_prob, pos_label=1\n",
    "        )\n",
    "        test_roc_auc = auc(test_fpr, test_tpr)\n",
    "        test_avg_pr = average_precision_score(y_test[:sample], y_test_pred_prob)\n",
    "\n",
    "        samp_metrics[si, i, 0, :] = [val_roc_auc, val_avg_pr]\n",
    "        samp_metrics[si, i, 1, :] = [test_roc_auc, test_avg_pr]\n",
    "\n",
    "    mean_samp_metrics = np.mean(samp_metrics, axis=1)\n",
    "    std_samp_metrics = np.std(samp_metrics, axis=1)"
   ]
  },
  {
   "cell_type": "code",
   "execution_count": 10,
   "id": "powerful-tournament",
   "metadata": {},
   "outputs": [
    {
     "data": {
      "image/png": "[encoded data removed]",
      "text/plain": [
       "<Figure size 576x432 with 1 Axes>"
      ]
     },
     "metadata": {
      "needs_background": "light"
     },
     "output_type": "display_data"
    }
   ],
   "source": [
    "fig = plt.figure(figsize=(8, 6))\n",
    "for si, shift in enumerate([\"baseline\", SHIFT]):\n",
    "    for mi, metric in enumerate([\"AuROC\", \"Avg Pr\"]):\n",
    "        if metric == \"AuROC\":\n",
    "            errorfill(\n",
    "                np.array(SAMPLES[1:]),\n",
    "                mean_samp_metrics[1:, si, mi],\n",
    "                std_samp_metrics[1:, si, mi],\n",
    "                fmt=linestyles[mi] + markers[mi],\n",
    "                color=colorscale(colors[si], brightness[si]),\n",
    "                label=\"%s\" % \"_\".join([shift]),\n",
    "            )\n",
    "plt.xlabel(\"Number of samples from test data\")\n",
    "plt.ylabel(\"AuROC\")\n",
    "plt.legend()\n",
    "plt.show()"
   ]
  },
  {
   "cell_type": "markdown",
   "id": "structured-utilization",
   "metadata": {},
   "source": [
    "## Explain Difference in Model Predictions ## "
   ]
  },
  {
   "cell_type": "code",
   "execution_count": 11,
   "id": "agreed-airfare",
   "metadata": {},
   "outputs": [
    {
     "name": "stderr",
     "output_type": "stream",
     "text": [
      "ntree_limit is deprecated, use `iteration_range` or model slicing instead.\n"
     ]
    },
    {
     "data": {
      "image/png": "[encoded data removed]",
      "text/plain": [
       "<Figure size 864x864 with 1 Axes>"
      ]
     },
     "metadata": {
      "needs_background": "light"
     },
     "output_type": "display_data"
    }
   ],
   "source": [
    "explainer = ShiftExplainer(optimised_model)\n",
    "explainer.get_explainer()\n",
    "\n",
    "X_val_df = pd.DataFrame(X_val, columns=feats)\n",
    "val_shap_values = explainer.get_shap_values(X_val_df)\n",
    "X_test_df = pd.DataFrame(X_test, columns=feats)\n",
    "test_shap_values = explainer.get_shap_values(X_test_df)\n",
    "\n",
    "diff = np.mean(np.abs(test_shap_values.values), axis=0) - np.mean(\n",
    "    np.abs(val_shap_values.values), axis=0\n",
    ")\n",
    "diff_sorted, feats_sorted = zip(*sorted(zip(diff, feats), reverse=True))\n",
    "diff_sorted, feats_sorted = zip(\n",
    "    *(((x, y) for x, y in zip(diff_sorted, feats_sorted) if x != 0))\n",
    ")\n",
    "fig, ax = plt.subplots(figsize=(12, 12))\n",
    "y_pos = np.arange(len(diff_sorted))\n",
    "ax.barh(y_pos, diff_sorted, align=\"center\")\n",
    "ax.set_yticks(y_pos, labels=feats_sorted)\n",
    "ax.invert_yaxis()  # labels read top-to-bottom\n",
    "ax.set_xlabel(\"Mean Difference in Shap Value\")\n",
    "ax.set_title(\"Features\")\n",
    "plt.show()"
   ]
  }
 ],
 "metadata": {
  "kernelspec": {
   "display_name": "cyclops",
   "language": "python",
   "name": "cyclops"
  },
  "language_info": {
   "codemirror_mode": {
    "name": "ipython",
    "version": 3
   },
   "file_extension": ".py",
   "mimetype": "text/x-python",
   "name": "python",
   "nbconvert_exporter": "python",
   "pygments_lexer": "ipython3",
   "version": "3.8.5"
  }
 },
 "nbformat": 4,
 "nbformat_minor": 5
}
