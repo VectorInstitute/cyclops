{
 "cells": [
  {
   "cell_type": "markdown",
   "id": "cd4e001b-4921-4a4f-8c2c-0c364d082a3f",
   "metadata": {},
   "source": [
    "## Train temporal models for mortality risk prediction"
   ]
  },
  {
   "cell_type": "markdown",
   "id": "d4681dab-9200-4063-9544-f2013bdcd2ba",
   "metadata": {},
   "source": [
    "## Imports"
   ]
  },
  {
   "cell_type": "code",
   "execution_count": 12,
   "id": "cce5e9ec-e3d0-4719-a7ee-43e88dcde8b2",
   "metadata": {},
   "outputs": [],
   "source": [
    "import os\n",
    "import random\n",
    "import sys\n",
    "\n",
    "import matplotlib as mpl\n",
    "import matplotlib.pyplot as plt\n",
    "import numpy as np\n",
    "import pandas as pd\n",
    "import plotly.graph_objects as go\n",
    "import torch.nn as nn\n",
    "import torch.optim as optim\n",
    "from sklearn import metrics\n",
    "\n",
    "sys.path.append(\"..\")\n",
    "sys.path.append(\"../..\")\n",
    "from cyclops.utils.file import load_dataframe, save_dataframe\n",
    "from drift_detection.baseline_models.temporal.pytorch.optimizer import Optimizer\n",
    "from drift_detection.baseline_models.temporal.pytorch.utils import *"
   ]
  },
  {
   "cell_type": "markdown",
   "id": "89e583ae-7a70-49d1-9e93-26b692c85d89",
   "metadata": {},
   "source": [
    "## Load train/val/test inputs and labels"
   ]
  },
  {
   "cell_type": "code",
   "execution_count": 43,
   "id": "12066550-01d2-4869-a96b-2ab9c37171ae",
   "metadata": {},
   "outputs": [
    {
     "name": "stdout",
     "output_type": "stream",
     "text": [
      "Train set size: 13015\n",
      "Val set size: 3254\n",
      "Test set size: 1099\n",
      "Num features: 108\n",
      "(13015, 6, 108) (3254, 6, 108) (1099, 6, 108)\n"
     ]
    }
   ],
   "source": [
    "DIR = \"/mnt/nfs/project/delirium/drift_exp/risk_of_mortality\"\n",
    "DIR = \"/mnt/nfs/project/delirium/drift_exp/JULY-04-2022/\"\n",
    "split_type = \"random\"\n",
    "split_type = \"covid\"\n",
    "X_train = np.load(os.path.join(DIR, split_type, \"X_train.npy\"))\n",
    "X_val = np.load(os.path.join(DIR, split_type, \"X_val.npy\"))\n",
    "X_test = np.load(os.path.join(DIR, split_type, \"X_test.npy\"))\n",
    "\n",
    "y_train = np.load(os.path.join(DIR, split_type, \"y_train.npy\"))\n",
    "y_val = np.load(os.path.join(DIR, split_type, \"y_val.npy\"))\n",
    "y_test = np.load(os.path.join(DIR, split_type, \"y_test.npy\"))\n",
    "\n",
    "print(\"Train set size:\", X_train.shape[0])\n",
    "print(\"Val set size:\", X_val.shape[0])\n",
    "print(\"Test set size:\", X_test.shape[0])\n",
    "\n",
    "print(\"Num features:\", X_train.shape[2])"
   ]
  },
  {
   "cell_type": "markdown",
   "id": "dde55789-cb88-49db-9121-27cbdbddc46b",
   "metadata": {},
   "source": [
    "## Model and training configuration"
   ]
  },
  {
   "cell_type": "code",
   "execution_count": 44,
   "id": "810aab27-5fc4-4271-98eb-16f0917eb520",
   "metadata": {},
   "outputs": [
    {
     "data": {
      "text/plain": [
       "LSTMModel(\n",
       "  (lstm): LSTM(108, 64, num_layers=2, batch_first=True, dropout=0.2)\n",
       "  (fc): Linear(in_features=64, out_features=1, bias=True)\n",
       "  (sigmoid): Sigmoid()\n",
       ")"
      ]
     },
     "execution_count": 44,
     "metadata": {},
     "output_type": "execute_result"
    }
   ],
   "source": [
    "output_dim = 1\n",
    "batch_size = 64\n",
    "input_dim = X_train.shape[2]\n",
    "timesteps = X_train.shape[1]\n",
    "hidden_dim = 64\n",
    "layer_dim = 2\n",
    "dropout = 0.2\n",
    "n_epochs = 256\n",
    "learning_rate = 2e-3\n",
    "weight_decay = 1e-6\n",
    "last_timestep_only = False\n",
    "\n",
    "device = get_device()\n",
    "\n",
    "X_train_inputs = X_train\n",
    "X_val_inputs = X_val\n",
    "X_test_inputs = X_test\n",
    "\n",
    "train_dataset = get_data(X_train_inputs, y_train)\n",
    "train_loader = train_dataset.to_loader(batch_size, shuffle=True)\n",
    "\n",
    "val_dataset = get_data(X_val_inputs, y_val)\n",
    "val_loader = val_dataset.to_loader(batch_size)\n",
    "\n",
    "model_params = {\n",
    "    \"device\": device,\n",
    "    \"input_dim\": input_dim,\n",
    "    \"hidden_dim\": hidden_dim,\n",
    "    \"layer_dim\": layer_dim,\n",
    "    \"output_dim\": output_dim,\n",
    "    \"dropout_prob\": dropout,\n",
    "    \"last_timestep_only\": last_timestep_only,\n",
    "}\n",
    "\n",
    "model = get_temporal_model(\"lstm\", model_params).to(device)\n",
    "model"
   ]
  },
  {
   "cell_type": "markdown",
   "id": "388af42e-49ac-48c5-a285-8ce66a714518",
   "metadata": {},
   "source": [
    "## Training and validation"
   ]
  },
  {
   "cell_type": "code",
   "execution_count": 45,
   "id": "89bdb2aa-8cb2-4632-b6bd-753033903716",
   "metadata": {},
   "outputs": [
    {
     "name": "stdout",
     "output_type": "stream",
     "text": [
      "[1/256] Training loss: 0.6104\t Validation loss: 0.5888\n",
      "[2/256] Training loss: 0.5755\t Validation loss: 0.5730\n",
      "[3/256] Training loss: 0.5603\t Validation loss: 0.5622\n",
      "[4/256] Training loss: 0.5481\t Validation loss: 0.5545\n",
      "[5/256] Training loss: 0.5397\t Validation loss: 0.5477\n",
      "[6/256] Training loss: 0.5341\t Validation loss: 0.5435\n",
      "[7/256] Training loss: 0.5285\t Validation loss: 0.5405\n",
      "[8/256] Training loss: 0.5247\t Validation loss: 0.5379\n",
      "[9/256] Training loss: 0.5216\t Validation loss: 0.5358\n",
      "[10/256] Training loss: 0.5192\t Validation loss: 0.5345\n",
      "[11/256] Training loss: 0.5173\t Validation loss: 0.5319\n",
      "[12/256] Training loss: 0.5150\t Validation loss: 0.5301\n",
      "[13/256] Training loss: 0.5125\t Validation loss: 0.5288\n",
      "[14/256] Training loss: 0.5105\t Validation loss: 0.5275\n",
      "[15/256] Training loss: 0.5090\t Validation loss: 0.5276\n",
      "[16/256] Training loss: 0.5091\t Validation loss: 0.5263\n",
      "[17/256] Training loss: 0.5067\t Validation loss: 0.5247\n",
      "[18/256] Training loss: 0.5061\t Validation loss: 0.5234\n",
      "[19/256] Training loss: 0.5045\t Validation loss: 0.5228\n",
      "[20/256] Training loss: 0.5037\t Validation loss: 0.5222\n",
      "[21/256] Training loss: 0.5023\t Validation loss: 0.5214\n",
      "[22/256] Training loss: 0.5013\t Validation loss: 0.5207\n",
      "[23/256] Training loss: 0.5019\t Validation loss: 0.5219\n",
      "[24/256] Training loss: 0.4993\t Validation loss: 0.5199\n",
      "[25/256] Training loss: 0.4991\t Validation loss: 0.5189\n",
      "[26/256] Training loss: 0.4972\t Validation loss: 0.5183\n",
      "[27/256] Training loss: 0.4976\t Validation loss: 0.5177\n",
      "[28/256] Training loss: 0.4966\t Validation loss: 0.5175\n",
      "[29/256] Training loss: 0.4953\t Validation loss: 0.5171\n",
      "[30/256] Training loss: 0.4947\t Validation loss: 0.5167\n",
      "[31/256] Training loss: 0.4934\t Validation loss: 0.5160\n",
      "[32/256] Training loss: 0.4929\t Validation loss: 0.5158\n",
      "[33/256] Training loss: 0.4931\t Validation loss: 0.5156\n",
      "[34/256] Training loss: 0.4934\t Validation loss: 0.5147\n",
      "[35/256] Training loss: 0.4918\t Validation loss: 0.5146\n",
      "[36/256] Training loss: 0.4912\t Validation loss: 0.5142\n",
      "[37/256] Training loss: 0.4905\t Validation loss: 0.5138\n",
      "[38/256] Training loss: 0.4908\t Validation loss: 0.5136\n",
      "[39/256] Training loss: 0.4895\t Validation loss: 0.5133\n",
      "[40/256] Training loss: 0.4897\t Validation loss: 0.5131\n",
      "[41/256] Training loss: 0.4885\t Validation loss: 0.5124\n",
      "[42/256] Training loss: 0.4883\t Validation loss: 0.5123\n",
      "[43/256] Training loss: 0.4865\t Validation loss: 0.5122\n",
      "[44/256] Training loss: 0.4870\t Validation loss: 0.5123\n",
      "[45/256] Training loss: 0.4865\t Validation loss: 0.5115\n",
      "[46/256] Training loss: 0.4846\t Validation loss: 0.5113\n",
      "[47/256] Training loss: 0.4861\t Validation loss: 0.5109\n",
      "[48/256] Training loss: 0.4844\t Validation loss: 0.5112\n",
      "[49/256] Training loss: 0.4841\t Validation loss: 0.5108\n",
      "[50/256] Training loss: 0.4849\t Validation loss: 0.5106\n",
      "[51/256] Training loss: 0.4838\t Validation loss: 0.5110\n",
      "[52/256] Training loss: 0.4846\t Validation loss: 0.5106\n",
      "[53/256] Training loss: 0.4837\t Validation loss: 0.5100\n",
      "[54/256] Training loss: 0.4827\t Validation loss: 0.5101\n",
      "[55/256] Training loss: 0.4830\t Validation loss: 0.5096\n",
      "[56/256] Training loss: 0.4804\t Validation loss: 0.5095\n",
      "[57/256] Training loss: 0.4810\t Validation loss: 0.5091\n",
      "[58/256] Training loss: 0.4815\t Validation loss: 0.5086\n",
      "[59/256] Training loss: 0.4797\t Validation loss: 0.5088\n",
      "[60/256] Training loss: 0.4803\t Validation loss: 0.5086\n",
      "[61/256] Training loss: 0.4793\t Validation loss: 0.5083\n",
      "[62/256] Training loss: 0.4803\t Validation loss: 0.5082\n",
      "[63/256] Training loss: 0.4776\t Validation loss: 0.5080\n",
      "[64/256] Training loss: 0.4783\t Validation loss: 0.5081\n",
      "[65/256] Training loss: 0.4790\t Validation loss: 0.5081\n",
      "[66/256] Training loss: 0.4779\t Validation loss: 0.5078\n",
      "[67/256] Training loss: 0.4781\t Validation loss: 0.5075\n",
      "[68/256] Training loss: 0.4773\t Validation loss: 0.5075\n",
      "[69/256] Training loss: 0.4789\t Validation loss: 0.5083\n",
      "[70/256] Training loss: 0.4765\t Validation loss: 0.5074\n",
      "[71/256] Training loss: 0.4768\t Validation loss: 0.5080\n",
      "[72/256] Training loss: 0.4766\t Validation loss: 0.5068\n",
      "[73/256] Training loss: 0.4765\t Validation loss: 0.5067\n",
      "[74/256] Training loss: 0.4760\t Validation loss: 0.5065\n",
      "[75/256] Training loss: 0.4744\t Validation loss: 0.5065\n",
      "[76/256] Training loss: 0.4752\t Validation loss: 0.5064\n",
      "[77/256] Training loss: 0.4744\t Validation loss: 0.5064\n",
      "[78/256] Training loss: 0.4739\t Validation loss: 0.5062\n",
      "[79/256] Training loss: 0.4746\t Validation loss: 0.5062\n",
      "[80/256] Training loss: 0.4736\t Validation loss: 0.5064\n",
      "[81/256] Training loss: 0.4735\t Validation loss: 0.5063\n",
      "[82/256] Training loss: 0.4734\t Validation loss: 0.5060\n",
      "[83/256] Training loss: 0.4745\t Validation loss: 0.5055\n",
      "[84/256] Training loss: 0.4719\t Validation loss: 0.5059\n",
      "[85/256] Training loss: 0.4713\t Validation loss: 0.5057\n",
      "[86/256] Training loss: 0.4717\t Validation loss: 0.5055\n",
      "[87/256] Training loss: 0.4718\t Validation loss: 0.5057\n",
      "[88/256] Training loss: 0.4721\t Validation loss: 0.5059\n",
      "[89/256] Training loss: 0.4716\t Validation loss: 0.5052\n",
      "[90/256] Training loss: 0.4708\t Validation loss: 0.5051\n",
      "[91/256] Training loss: 0.4692\t Validation loss: 0.5054\n",
      "[92/256] Training loss: 0.4709\t Validation loss: 0.5049\n",
      "[93/256] Training loss: 0.4710\t Validation loss: 0.5049\n",
      "[94/256] Training loss: 0.4705\t Validation loss: 0.5048\n",
      "[95/256] Training loss: 0.4693\t Validation loss: 0.5050\n",
      "[96/256] Training loss: 0.4690\t Validation loss: 0.5047\n",
      "[97/256] Training loss: 0.4690\t Validation loss: 0.5054\n",
      "[98/256] Training loss: 0.4692\t Validation loss: 0.5049\n",
      "[99/256] Training loss: 0.4690\t Validation loss: 0.5045\n",
      "[100/256] Training loss: 0.4686\t Validation loss: 0.5044\n",
      "[101/256] Training loss: 0.4682\t Validation loss: 0.5043\n",
      "[102/256] Training loss: 0.4673\t Validation loss: 0.5044\n",
      "[103/256] Training loss: 0.4673\t Validation loss: 0.5043\n",
      "[104/256] Training loss: 0.4669\t Validation loss: 0.5043\n",
      "[105/256] Training loss: 0.4665\t Validation loss: 0.5043\n",
      "[106/256] Training loss: 0.4663\t Validation loss: 0.5041\n",
      "[107/256] Training loss: 0.4659\t Validation loss: 0.5042\n",
      "[108/256] Training loss: 0.4649\t Validation loss: 0.5044\n",
      "[109/256] Training loss: 0.4649\t Validation loss: 0.5042\n",
      "[110/256] Training loss: 0.4672\t Validation loss: 0.5045\n",
      "[111/256] Training loss: 0.4647\t Validation loss: 0.5052\n",
      "[112/256] Training loss: 0.4644\t Validation loss: 0.5047\n",
      "[113/256] Training loss: 0.4649\t Validation loss: 0.5040\n",
      "[114/256] Training loss: 0.4648\t Validation loss: 0.5040\n",
      "[115/256] Training loss: 0.4664\t Validation loss: 0.5042\n",
      "[116/256] Training loss: 0.4630\t Validation loss: 0.5041\n",
      "[117/256] Training loss: 0.4660\t Validation loss: 0.5037\n",
      "[118/256] Training loss: 0.4618\t Validation loss: 0.5039\n",
      "[119/256] Training loss: 0.4638\t Validation loss: 0.5038\n",
      "[120/256] Training loss: 0.4621\t Validation loss: 0.5039\n",
      "[121/256] Training loss: 0.4627\t Validation loss: 0.5039\n",
      "[122/256] Training loss: 0.4623\t Validation loss: 0.5041\n",
      "[123/256] Training loss: 0.4625\t Validation loss: 0.5044\n",
      "[124/256] Training loss: 0.4618\t Validation loss: 0.5039\n",
      "[125/256] Training loss: 0.4612\t Validation loss: 0.5036\n",
      "[126/256] Training loss: 0.4617\t Validation loss: 0.5044\n",
      "[127/256] Training loss: 0.4619\t Validation loss: 0.5038\n",
      "[128/256] Training loss: 0.4614\t Validation loss: 0.5040\n",
      "[129/256] Training loss: 0.4609\t Validation loss: 0.5036\n",
      "[130/256] Training loss: 0.4608\t Validation loss: 0.5037\n",
      "[131/256] Training loss: 0.4596\t Validation loss: 0.5042\n",
      "[132/256] Training loss: 0.4602\t Validation loss: 0.5038\n",
      "[133/256] Training loss: 0.4607\t Validation loss: 0.5038\n",
      "[134/256] Training loss: 0.4587\t Validation loss: 0.5039\n",
      "[135/256] Training loss: 0.4599\t Validation loss: 0.5038\n",
      "[136/256] Training loss: 0.4604\t Validation loss: 0.5039\n",
      "[137/256] Training loss: 0.4602\t Validation loss: 0.5041\n",
      "[138/256] Training loss: 0.4598\t Validation loss: 0.5043\n",
      "[139/256] Training loss: 0.4607\t Validation loss: 0.5037\n",
      "[140/256] Training loss: 0.4584\t Validation loss: 0.5040\n",
      "[141/256] Training loss: 0.4586\t Validation loss: 0.5037\n",
      "[142/256] Training loss: 0.4598\t Validation loss: 0.5038\n",
      "[143/256] Training loss: 0.4592\t Validation loss: 0.5038\n",
      "[144/256] Training loss: 0.4581\t Validation loss: 0.5037\n",
      "[145/256] Training loss: 0.4594\t Validation loss: 0.5037\n",
      "[146/256] Training loss: 0.4602\t Validation loss: 0.5037\n",
      "[147/256] Training loss: 0.4589\t Validation loss: 0.5036\n",
      "[148/256] Training loss: 0.4584\t Validation loss: 0.5038\n",
      "[149/256] Training loss: 0.4595\t Validation loss: 0.5039\n",
      "[150/256] Training loss: 0.4589\t Validation loss: 0.5040\n",
      "[151/256] Training loss: 0.4579\t Validation loss: 0.5038\n",
      "[152/256] Training loss: 0.4586\t Validation loss: 0.5039\n",
      "[153/256] Training loss: 0.4567\t Validation loss: 0.5041\n",
      "[154/256] Training loss: 0.4600\t Validation loss: 0.5038\n",
      "[155/256] Training loss: 0.4566\t Validation loss: 0.5038\n",
      "[156/256] Training loss: 0.4571\t Validation loss: 0.5038\n",
      "[157/256] Training loss: 0.4580\t Validation loss: 0.5039\n",
      "[158/256] Training loss: 0.4558\t Validation loss: 0.5042\n",
      "[159/256] Training loss: 0.4564\t Validation loss: 0.5039\n",
      "[160/256] Training loss: 0.4578\t Validation loss: 0.5041\n",
      "[161/256] Training loss: 0.4582\t Validation loss: 0.5038\n",
      "[162/256] Training loss: 0.4571\t Validation loss: 0.5040\n",
      "[163/256] Training loss: 0.4569\t Validation loss: 0.5040\n",
      "[164/256] Training loss: 0.4555\t Validation loss: 0.5041\n",
      "[165/256] Training loss: 0.4580\t Validation loss: 0.5041\n",
      "[166/256] Training loss: 0.4558\t Validation loss: 0.5041\n",
      "[167/256] Training loss: 0.4565\t Validation loss: 0.5040\n",
      "[168/256] Training loss: 0.4563\t Validation loss: 0.5041\n",
      "[169/256] Training loss: 0.4568\t Validation loss: 0.5040\n",
      "[170/256] Training loss: 0.4565\t Validation loss: 0.5038\n",
      "[171/256] Training loss: 0.4571\t Validation loss: 0.5043\n",
      "[172/256] Training loss: 0.4562\t Validation loss: 0.5038\n",
      "[173/256] Training loss: 0.4565\t Validation loss: 0.5045\n",
      "[174/256] Training loss: 0.4556\t Validation loss: 0.5039\n",
      "[175/256] Training loss: 0.4562\t Validation loss: 0.5042\n",
      "[176/256] Training loss: 0.4553\t Validation loss: 0.5042\n",
      "[177/256] Training loss: 0.4568\t Validation loss: 0.5040\n",
      "[178/256] Training loss: 0.4556\t Validation loss: 0.5040\n",
      "[179/256] Training loss: 0.4550\t Validation loss: 0.5041\n",
      "[180/256] Training loss: 0.4552\t Validation loss: 0.5042\n",
      "[181/256] Training loss: 0.4553\t Validation loss: 0.5042\n",
      "[182/256] Training loss: 0.4552\t Validation loss: 0.5038\n",
      "[183/256] Training loss: 0.4555\t Validation loss: 0.5040\n",
      "[184/256] Training loss: 0.4546\t Validation loss: 0.5041\n",
      "[185/256] Training loss: 0.4542\t Validation loss: 0.5039\n",
      "[186/256] Training loss: 0.4550\t Validation loss: 0.5040\n",
      "[187/256] Training loss: 0.4563\t Validation loss: 0.5042\n",
      "[188/256] Training loss: 0.4544\t Validation loss: 0.5042\n",
      "[189/256] Training loss: 0.4556\t Validation loss: 0.5039\n",
      "[190/256] Training loss: 0.4547\t Validation loss: 0.5042\n",
      "[191/256] Training loss: 0.4544\t Validation loss: 0.5041\n",
      "[192/256] Training loss: 0.4545\t Validation loss: 0.5041\n",
      "[193/256] Training loss: 0.4545\t Validation loss: 0.5042\n",
      "[194/256] Training loss: 0.4535\t Validation loss: 0.5041\n",
      "[195/256] Training loss: 0.4552\t Validation loss: 0.5043\n",
      "[196/256] Training loss: 0.4550\t Validation loss: 0.5041\n",
      "[197/256] Training loss: 0.4534\t Validation loss: 0.5041\n",
      "[198/256] Training loss: 0.4532\t Validation loss: 0.5043\n",
      "[199/256] Training loss: 0.4534\t Validation loss: 0.5044\n",
      "[200/256] Training loss: 0.4545\t Validation loss: 0.5041\n",
      "[201/256] Training loss: 0.4536\t Validation loss: 0.5042\n",
      "[202/256] Training loss: 0.4539\t Validation loss: 0.5041\n",
      "[203/256] Training loss: 0.4549\t Validation loss: 0.5043\n",
      "[204/256] Training loss: 0.4538\t Validation loss: 0.5040\n",
      "[205/256] Training loss: 0.4526\t Validation loss: 0.5042\n",
      "[206/256] Training loss: 0.4547\t Validation loss: 0.5042\n",
      "[207/256] Training loss: 0.4535\t Validation loss: 0.5044\n",
      "[208/256] Training loss: 0.4549\t Validation loss: 0.5042\n",
      "[209/256] Training loss: 0.4530\t Validation loss: 0.5041\n",
      "[210/256] Training loss: 0.4534\t Validation loss: 0.5044\n",
      "[211/256] Training loss: 0.4520\t Validation loss: 0.5042\n",
      "[212/256] Training loss: 0.4536\t Validation loss: 0.5043\n",
      "[213/256] Training loss: 0.4532\t Validation loss: 0.5047\n",
      "[214/256] Training loss: 0.4527\t Validation loss: 0.5043\n",
      "[215/256] Training loss: 0.4516\t Validation loss: 0.5043\n",
      "[216/256] Training loss: 0.4518\t Validation loss: 0.5043\n",
      "[217/256] Training loss: 0.4525\t Validation loss: 0.5047\n",
      "[218/256] Training loss: 0.4517\t Validation loss: 0.5044\n",
      "[219/256] Training loss: 0.4522\t Validation loss: 0.5043\n",
      "[220/256] Training loss: 0.4511\t Validation loss: 0.5045\n",
      "[221/256] Training loss: 0.4511\t Validation loss: 0.5044\n",
      "[222/256] Training loss: 0.4501\t Validation loss: 0.5045\n",
      "[223/256] Training loss: 0.4525\t Validation loss: 0.5045\n",
      "[224/256] Training loss: 0.4497\t Validation loss: 0.5048\n",
      "[225/256] Training loss: 0.4523\t Validation loss: 0.5046\n",
      "[226/256] Training loss: 0.4527\t Validation loss: 0.5046\n",
      "[227/256] Training loss: 0.4521\t Validation loss: 0.5044\n",
      "[228/256] Training loss: 0.4506\t Validation loss: 0.5044\n",
      "[229/256] Training loss: 0.4504\t Validation loss: 0.5047\n",
      "[230/256] Training loss: 0.4501\t Validation loss: 0.5045\n",
      "[231/256] Training loss: 0.4504\t Validation loss: 0.5050\n",
      "[232/256] Training loss: 0.4521\t Validation loss: 0.5049\n",
      "[233/256] Training loss: 0.4512\t Validation loss: 0.5049\n",
      "[234/256] Training loss: 0.4506\t Validation loss: 0.5048\n",
      "[235/256] Training loss: 0.4504\t Validation loss: 0.5047\n",
      "[236/256] Training loss: 0.4510\t Validation loss: 0.5048\n",
      "[237/256] Training loss: 0.4514\t Validation loss: 0.5048\n",
      "[238/256] Training loss: 0.4508\t Validation loss: 0.5047\n",
      "[239/256] Training loss: 0.4487\t Validation loss: 0.5053\n",
      "[240/256] Training loss: 0.4510\t Validation loss: 0.5048\n",
      "[241/256] Training loss: 0.4500\t Validation loss: 0.5048\n",
      "[242/256] Training loss: 0.4509\t Validation loss: 0.5048\n",
      "[243/256] Training loss: 0.4493\t Validation loss: 0.5051\n",
      "[244/256] Training loss: 0.4497\t Validation loss: 0.5049\n",
      "[245/256] Training loss: 0.4496\t Validation loss: 0.5048\n",
      "[246/256] Training loss: 0.4490\t Validation loss: 0.5051\n",
      "[247/256] Training loss: 0.4493\t Validation loss: 0.5050\n",
      "[248/256] Training loss: 0.4503\t Validation loss: 0.5050\n",
      "[249/256] Training loss: 0.4486\t Validation loss: 0.5048\n",
      "[250/256] Training loss: 0.4490\t Validation loss: 0.5050\n",
      "[251/256] Training loss: 0.4506\t Validation loss: 0.5049\n",
      "[252/256] Training loss: 0.4497\t Validation loss: 0.5048\n",
      "[253/256] Training loss: 0.4491\t Validation loss: 0.5049\n",
      "[254/256] Training loss: 0.4503\t Validation loss: 0.5048\n",
      "[255/256] Training loss: 0.4499\t Validation loss: 0.5049\n",
      "[256/256] Training loss: 0.4497\t Validation loss: 0.5049\n"
     ]
    },
    {
     "data": {
      "image/png": "[encoded data removed]",
      "text/plain": [
       "<Figure size 432x288 with 1 Axes>"
      ]
     },
     "metadata": {
      "needs_background": "light"
     },
     "output_type": "display_data"
    }
   ],
   "source": [
    "loss_fn = nn.BCEWithLogitsLoss(reduction=\"none\")\n",
    "optimizer = optim.Adagrad(\n",
    "    model.parameters(), lr=learning_rate, weight_decay=weight_decay\n",
    ")\n",
    "lr_scheduler = optim.lr_scheduler.StepLR(optimizer, step_size=128, gamma=0.5)\n",
    "activation = nn.Sigmoid()\n",
    "opt = Optimizer(\n",
    "    model=model,\n",
    "    loss_fn=loss_fn,\n",
    "    optimizer=optimizer,\n",
    "    activation=activation,\n",
    "    lr_scheduler=lr_scheduler,\n",
    ")\n",
    "opt.train(\n",
    "    train_loader,\n",
    "    val_loader,\n",
    "    batch_size=batch_size,\n",
    "    n_epochs=n_epochs,\n",
    "    n_features=input_dim,\n",
    "    timesteps=timesteps,\n",
    ")\n",
    "opt.plot_losses()"
   ]
  },
  {
   "cell_type": "markdown",
   "id": "4c90d5cb-2f17-4595-b442-1eb300af7403",
   "metadata": {},
   "source": [
    "## Val Metrics"
   ]
  },
  {
   "cell_type": "code",
   "execution_count": 50,
   "id": "c902f76d-7831-4bfd-a7ea-11eadb3560de",
   "metadata": {},
   "outputs": [
    {
     "name": "stdout",
     "output_type": "stream",
     "text": [
      "[[9782 1292]\n",
      " [2762 2805]]\n",
      "confusion matrix:\n",
      "[[9782 1292]\n",
      " [2762 2805]]\n",
      "accuracy = 0.7563848495483398\n",
      "precision class 0 = 0.7798150777816772\n",
      "precision class 1 = 0.6846473217010498\n",
      "recall class 0 = 0.8833303451538086\n",
      "recall class 1 = 0.5038620233535767\n",
      "AUC of ROC = 0.8012392601996614\n",
      "AUC of PRC = 0.67758512683843\n",
      "min(+P, Se) = 0.6267504488330341\n",
      "Precision: 0.7322311997413635\n",
      "Recall: 0.6935961842536926\n"
     ]
    }
   ],
   "source": [
    "val_evaluate_loader = torch.utils.data.DataLoader(val_dataset, batch_size=1, shuffle=False)\n",
    "y_val_labels, y_val_pred_values, y_val_pred_labels = opt.evaluate(\n",
    "    val_evaluate_loader, batch_size=1, n_features=input_dim, timesteps=timesteps\n",
    ")\n",
    "\n",
    "y_val_pred_values = y_val_pred_values[y_val_labels != -1]\n",
    "y_val_pred_labels = y_val_pred_labels[y_val_labels != -1]\n",
    "y_val_labels = y_val_labels[y_val_labels != -1]\n",
    "\n",
    "confusion_matrix = metrics.confusion_matrix(y_val_labels, y_val_pred_labels)\n",
    "print(confusion_matrix)\n",
    "\n",
    "pred_metrics = print_metrics_binary(y_val_labels, y_val_pred_values, y_val_pred_labels)\n",
    "prec = (pred_metrics[\"prec0\"] + pred_metrics[\"prec1\"]) / 2\n",
    "rec = (pred_metrics[\"rec0\"] + pred_metrics[\"rec1\"]) / 2\n",
    "print(f\"Precision: {prec}\")\n",
    "print(f\"Recall: {rec}\")"
   ]
  },
  {
   "cell_type": "markdown",
   "id": "9a11dbaa-02e3-4415-84ee-abc159a5337a",
   "metadata": {},
   "source": [
    "## Testing, metrics"
   ]
  },
  {
   "cell_type": "code",
   "execution_count": 51,
   "id": "14f74137-9a38-40c6-92ee-1e6f4e02290c",
   "metadata": {},
   "outputs": [
    {
     "name": "stdout",
     "output_type": "stream",
     "text": [
      "[[2932  247]\n",
      " [1284 1038]]\n",
      "confusion matrix:\n",
      "[[2932  247]\n",
      " [1284 1038]]\n",
      "accuracy = 0.7216869592666626\n",
      "precision class 0 = 0.6954458951950073\n",
      "precision class 1 = 0.8077821135520935\n",
      "recall class 0 = 0.9223026037216187\n",
      "recall class 1 = 0.44702842831611633\n",
      "AUC of ROC = 0.803191717068759\n",
      "AUC of PRC = 0.7586217683746967\n",
      "min(+P, Se) = 0.6722652885443583\n",
      "Precision: 0.751613974571228\n",
      "Recall: 0.6846655011177063\n"
     ]
    }
   ],
   "source": [
    "test_dataset = get_data(X_test_inputs, y_test)\n",
    "test_loader = torch.utils.data.DataLoader(test_dataset, batch_size=1, shuffle=False)\n",
    "y_test_labels, y_pred_values, y_pred_labels = opt.evaluate(\n",
    "    test_loader, batch_size=1, n_features=input_dim, timesteps=timesteps\n",
    ")\n",
    "\n",
    "y_pred_values = y_pred_values[y_test_labels != -1]\n",
    "y_pred_labels = y_pred_labels[y_test_labels != -1]\n",
    "y_test_labels = y_test_labels[y_test_labels != -1]\n",
    "\n",
    "confusion_matrix = metrics.confusion_matrix(y_test_labels, y_pred_labels)\n",
    "print(confusion_matrix)\n",
    "\n",
    "pred_metrics = print_metrics_binary(y_test_labels, y_pred_values, y_pred_labels)\n",
    "prec = (pred_metrics[\"prec0\"] + pred_metrics[\"prec1\"]) / 2\n",
    "rec = (pred_metrics[\"rec0\"] + pred_metrics[\"rec1\"]) / 2\n",
    "print(f\"Precision: {prec}\")\n",
    "print(f\"Recall: {rec}\")"
   ]
  },
  {
   "cell_type": "markdown",
   "id": "612d8bf4-79c5-449f-ad60-f20217377827",
   "metadata": {},
   "source": [
    "## Plot confusion matrix"
   ]
  },
  {
   "cell_type": "code",
   "execution_count": 48,
   "id": "a2dd7ab5-71cc-44f2-9df5-b7efba66d568",
   "metadata": {},
   "outputs": [
    {
     "data": {
      "application/vnd.plotly.v1+json": {
       "config": {
        "plotlyServerURL": "https://plot.ly"
       },
       "data": [
        {
         "colorscale": [
          [
           0,
           "rgb(247,252,245)"
          ],
          [
           0.125,
           "rgb(229,245,224)"
          ],
          [
           0.25,
           "rgb(199,233,192)"
          ],
          [
           0.375,
           "rgb(161,217,155)"
          ],
          [
           0.5,
           "rgb(116,196,118)"
          ],
          [
           0.625,
           "rgb(65,171,93)"
          ],
          [
           0.75,
           "rgb(35,139,69)"
          ],
          [
           0.875,
           "rgb(0,109,44)"
          ],
          [
           1,
           "rgb(0,68,27)"
          ]
         ],
         "hoverongaps": false,
         "type": "heatmap",
         "x": [
          "low risk of mortality",
          "high risk of mortality"
         ],
         "y": [
          "low risk of mortality",
          "high risk of mortality"
         ],
         "z": [
          [
           0.9223026108839257,
           0.07769738911607424
          ],
          [
           0.5529715762273901,
           0.4470284237726098
          ]
         ]
        }
       ],
       "layout": {
        "height": 512,
        "template": {
         "data": {
          "bar": [
           {
            "error_x": {
             "color": "#2a3f5f"
            },
            "error_y": {
             "color": "#2a3f5f"
            },
            "marker": {
             "line": {
              "color": "#E5ECF6",
              "width": 0.5
             },
             "pattern": {
              "fillmode": "overlay",
              "size": 10,
              "solidity": 0.2
             }
            },
            "type": "bar"
           }
          ],
          "barpolar": [
           {
            "marker": {
             "line": {
              "color": "#E5ECF6",
              "width": 0.5
             },
             "pattern": {
              "fillmode": "overlay",
              "size": 10,
              "solidity": 0.2
             }
            },
            "type": "barpolar"
           }
          ],
          "carpet": [
           {
            "aaxis": {
             "endlinecolor": "#2a3f5f",
             "gridcolor": "white",
             "linecolor": "white",
             "minorgridcolor": "white",
             "startlinecolor": "#2a3f5f"
            },
            "baxis": {
             "endlinecolor": "#2a3f5f",
             "gridcolor": "white",
             "linecolor": "white",
             "minorgridcolor": "white",
             "startlinecolor": "#2a3f5f"
            },
            "type": "carpet"
           }
          ],
          "choropleth": [
           {
            "colorbar": {
             "outlinewidth": 0,
             "ticks": ""
            },
            "type": "choropleth"
           }
          ],
          "contour": [
           {
            "colorbar": {
             "outlinewidth": 0,
             "ticks": ""
            },
            "colorscale": [
             [
              0,
              "#0d0887"
             ],
             [
              0.1111111111111111,
              "#46039f"
             ],
             [
              0.2222222222222222,
              "#7201a8"
             ],
             [
              0.3333333333333333,
              "#9c179e"
             ],
             [
              0.4444444444444444,
              "#bd3786"
             ],
             [
              0.5555555555555556,
              "#d8576b"
             ],
             [
              0.6666666666666666,
              "#ed7953"
             ],
             [
              0.7777777777777778,
              "#fb9f3a"
             ],
             [
              0.8888888888888888,
              "#fdca26"
             ],
             [
              1,
              "#f0f921"
             ]
            ],
            "type": "contour"
           }
          ],
          "contourcarpet": [
           {
            "colorbar": {
             "outlinewidth": 0,
             "ticks": ""
            },
            "type": "contourcarpet"
           }
          ],
          "heatmap": [
           {
            "colorbar": {
             "outlinewidth": 0,
             "ticks": ""
            },
            "colorscale": [
             [
              0,
              "#0d0887"
             ],
             [
              0.1111111111111111,
              "#46039f"
             ],
             [
              0.2222222222222222,
              "#7201a8"
             ],
             [
              0.3333333333333333,
              "#9c179e"
             ],
             [
              0.4444444444444444,
              "#bd3786"
             ],
             [
              0.5555555555555556,
              "#d8576b"
             ],
             [
              0.6666666666666666,
              "#ed7953"
             ],
             [
              0.7777777777777778,
              "#fb9f3a"
             ],
             [
              0.8888888888888888,
              "#fdca26"
             ],
             [
              1,
              "#f0f921"
             ]
            ],
            "type": "heatmap"
           }
          ],
          "heatmapgl": [
           {
            "colorbar": {
             "outlinewidth": 0,
             "ticks": ""
            },
            "colorscale": [
             [
              0,
              "#0d0887"
             ],
             [
              0.1111111111111111,
              "#46039f"
             ],
             [
              0.2222222222222222,
              "#7201a8"
             ],
             [
              0.3333333333333333,
              "#9c179e"
             ],
             [
              0.4444444444444444,
              "#bd3786"
             ],
             [
              0.5555555555555556,
              "#d8576b"
             ],
             [
              0.6666666666666666,
              "#ed7953"
             ],
             [
              0.7777777777777778,
              "#fb9f3a"
             ],
             [
              0.8888888888888888,
              "#fdca26"
             ],
             [
              1,
              "#f0f921"
             ]
            ],
            "type": "heatmapgl"
           }
          ],
          "histogram": [
           {
            "marker": {
             "pattern": {
              "fillmode": "overlay",
              "size": 10,
              "solidity": 0.2
             }
            },
            "type": "histogram"
           }
          ],
          "histogram2d": [
           {
            "colorbar": {
             "outlinewidth": 0,
             "ticks": ""
            },
            "colorscale": [
             [
              0,
              "#0d0887"
             ],
             [
              0.1111111111111111,
              "#46039f"
             ],
             [
              0.2222222222222222,
              "#7201a8"
             ],
             [
              0.3333333333333333,
              "#9c179e"
             ],
             [
              0.4444444444444444,
              "#bd3786"
             ],
             [
              0.5555555555555556,
              "#d8576b"
             ],
             [
              0.6666666666666666,
              "#ed7953"
             ],
             [
              0.7777777777777778,
              "#fb9f3a"
             ],
             [
              0.8888888888888888,
              "#fdca26"
             ],
             [
              1,
              "#f0f921"
             ]
            ],
            "type": "histogram2d"
           }
          ],
          "histogram2dcontour": [
           {
            "colorbar": {
             "outlinewidth": 0,
             "ticks": ""
            },
            "colorscale": [
             [
              0,
              "#0d0887"
             ],
             [
              0.1111111111111111,
              "#46039f"
             ],
             [
              0.2222222222222222,
              "#7201a8"
             ],
             [
              0.3333333333333333,
              "#9c179e"
             ],
             [
              0.4444444444444444,
              "#bd3786"
             ],
             [
              0.5555555555555556,
              "#d8576b"
             ],
             [
              0.6666666666666666,
              "#ed7953"
             ],
             [
              0.7777777777777778,
              "#fb9f3a"
             ],
             [
              0.8888888888888888,
              "#fdca26"
             ],
             [
              1,
              "#f0f921"
             ]
            ],
            "type": "histogram2dcontour"
           }
          ],
          "mesh3d": [
           {
            "colorbar": {
             "outlinewidth": 0,
             "ticks": ""
            },
            "type": "mesh3d"
           }
          ],
          "parcoords": [
           {
            "line": {
             "colorbar": {
              "outlinewidth": 0,
              "ticks": ""
             }
            },
            "type": "parcoords"
           }
          ],
          "pie": [
           {
            "automargin": true,
            "type": "pie"
           }
          ],
          "scatter": [
           {
            "fillpattern": {
             "fillmode": "overlay",
             "size": 10,
             "solidity": 0.2
            },
            "type": "scatter"
           }
          ],
          "scatter3d": [
           {
            "line": {
             "colorbar": {
              "outlinewidth": 0,
              "ticks": ""
             }
            },
            "marker": {
             "colorbar": {
              "outlinewidth": 0,
              "ticks": ""
             }
            },
            "type": "scatter3d"
           }
          ],
          "scattercarpet": [
           {
            "marker": {
             "colorbar": {
              "outlinewidth": 0,
              "ticks": ""
             }
            },
            "type": "scattercarpet"
           }
          ],
          "scattergeo": [
           {
            "marker": {
             "colorbar": {
              "outlinewidth": 0,
              "ticks": ""
             }
            },
            "type": "scattergeo"
           }
          ],
          "scattergl": [
           {
            "marker": {
             "colorbar": {
              "outlinewidth": 0,
              "ticks": ""
             }
            },
            "type": "scattergl"
           }
          ],
          "scattermapbox": [
           {
            "marker": {
             "colorbar": {
              "outlinewidth": 0,
              "ticks": ""
             }
            },
            "type": "scattermapbox"
           }
          ],
          "scatterpolar": [
           {
            "marker": {
             "colorbar": {
              "outlinewidth": 0,
              "ticks": ""
             }
            },
            "type": "scatterpolar"
           }
          ],
          "scatterpolargl": [
           {
            "marker": {
             "colorbar": {
              "outlinewidth": 0,
              "ticks": ""
             }
            },
            "type": "scatterpolargl"
           }
          ],
          "scatterternary": [
           {
            "marker": {
             "colorbar": {
              "outlinewidth": 0,
              "ticks": ""
             }
            },
            "type": "scatterternary"
           }
          ],
          "surface": [
           {
            "colorbar": {
             "outlinewidth": 0,
             "ticks": ""
            },
            "colorscale": [
             [
              0,
              "#0d0887"
             ],
             [
              0.1111111111111111,
              "#46039f"
             ],
             [
              0.2222222222222222,
              "#7201a8"
             ],
             [
              0.3333333333333333,
              "#9c179e"
             ],
             [
              0.4444444444444444,
              "#bd3786"
             ],
             [
              0.5555555555555556,
              "#d8576b"
             ],
             [
              0.6666666666666666,
              "#ed7953"
             ],
             [
              0.7777777777777778,
              "#fb9f3a"
             ],
             [
              0.8888888888888888,
              "#fdca26"
             ],
             [
              1,
              "#f0f921"
             ]
            ],
            "type": "surface"
           }
          ],
          "table": [
           {
            "cells": {
             "fill": {
              "color": "#EBF0F8"
             },
             "line": {
              "color": "white"
             }
            },
            "header": {
             "fill": {
              "color": "#C8D4E3"
             },
             "line": {
              "color": "white"
             }
            },
            "type": "table"
           }
          ]
         },
         "layout": {
          "annotationdefaults": {
           "arrowcolor": "#2a3f5f",
           "arrowhead": 0,
           "arrowwidth": 1
          },
          "autotypenumbers": "strict",
          "coloraxis": {
           "colorbar": {
            "outlinewidth": 0,
            "ticks": ""
           }
          },
          "colorscale": {
           "diverging": [
            [
             0,
             "#8e0152"
            ],
            [
             0.1,
             "#c51b7d"
            ],
            [
             0.2,
             "#de77ae"
            ],
            [
             0.3,
             "#f1b6da"
            ],
            [
             0.4,
             "#fde0ef"
            ],
            [
             0.5,
             "#f7f7f7"
            ],
            [
             0.6,
             "#e6f5d0"
            ],
            [
             0.7,
             "#b8e186"
            ],
            [
             0.8,
             "#7fbc41"
            ],
            [
             0.9,
             "#4d9221"
            ],
            [
             1,
             "#276419"
            ]
           ],
           "sequential": [
            [
             0,
             "#0d0887"
            ],
            [
             0.1111111111111111,
             "#46039f"
            ],
            [
             0.2222222222222222,
             "#7201a8"
            ],
            [
             0.3333333333333333,
             "#9c179e"
            ],
            [
             0.4444444444444444,
             "#bd3786"
            ],
            [
             0.5555555555555556,
             "#d8576b"
            ],
            [
             0.6666666666666666,
             "#ed7953"
            ],
            [
             0.7777777777777778,
             "#fb9f3a"
            ],
            [
             0.8888888888888888,
             "#fdca26"
            ],
            [
             1,
             "#f0f921"
            ]
           ],
           "sequentialminus": [
            [
             0,
             "#0d0887"
            ],
            [
             0.1111111111111111,
             "#46039f"
            ],
            [
             0.2222222222222222,
             "#7201a8"
            ],
            [
             0.3333333333333333,
             "#9c179e"
            ],
            [
             0.4444444444444444,
             "#bd3786"
            ],
            [
             0.5555555555555556,
             "#d8576b"
            ],
            [
             0.6666666666666666,
             "#ed7953"
            ],
            [
             0.7777777777777778,
             "#fb9f3a"
            ],
            [
             0.8888888888888888,
             "#fdca26"
            ],
            [
             1,
             "#f0f921"
            ]
           ]
          },
          "colorway": [
           "#636efa",
           "#EF553B",
           "#00cc96",
           "#ab63fa",
           "#FFA15A",
           "#19d3f3",
           "#FF6692",
           "#B6E880",
           "#FF97FF",
           "#FECB52"
          ],
          "font": {
           "color": "#2a3f5f"
          },
          "geo": {
           "bgcolor": "white",
           "lakecolor": "white",
           "landcolor": "#E5ECF6",
           "showlakes": true,
           "showland": true,
           "subunitcolor": "white"
          },
          "hoverlabel": {
           "align": "left"
          },
          "hovermode": "closest",
          "mapbox": {
           "style": "light"
          },
          "paper_bgcolor": "white",
          "plot_bgcolor": "#E5ECF6",
          "polar": {
           "angularaxis": {
            "gridcolor": "white",
            "linecolor": "white",
            "ticks": ""
           },
           "bgcolor": "#E5ECF6",
           "radialaxis": {
            "gridcolor": "white",
            "linecolor": "white",
            "ticks": ""
           }
          },
          "scene": {
           "xaxis": {
            "backgroundcolor": "#E5ECF6",
            "gridcolor": "white",
            "gridwidth": 2,
            "linecolor": "white",
            "showbackground": true,
            "ticks": "",
            "zerolinecolor": "white"
           },
           "yaxis": {
            "backgroundcolor": "#E5ECF6",
            "gridcolor": "white",
            "gridwidth": 2,
            "linecolor": "white",
            "showbackground": true,
            "ticks": "",
            "zerolinecolor": "white"
           },
           "zaxis": {
            "backgroundcolor": "#E5ECF6",
            "gridcolor": "white",
            "gridwidth": 2,
            "linecolor": "white",
            "showbackground": true,
            "ticks": "",
            "zerolinecolor": "white"
           }
          },
          "shapedefaults": {
           "line": {
            "color": "#2a3f5f"
           }
          },
          "ternary": {
           "aaxis": {
            "gridcolor": "white",
            "linecolor": "white",
            "ticks": ""
           },
           "baxis": {
            "gridcolor": "white",
            "linecolor": "white",
            "ticks": ""
           },
           "bgcolor": "#E5ECF6",
           "caxis": {
            "gridcolor": "white",
            "linecolor": "white",
            "ticks": ""
           }
          },
          "title": {
           "x": 0.05
          },
          "xaxis": {
           "automargin": true,
           "gridcolor": "white",
           "linecolor": "white",
           "ticks": "",
           "title": {
            "standoff": 15
           },
           "zerolinecolor": "white",
           "zerolinewidth": 2
          },
          "yaxis": {
           "automargin": true,
           "gridcolor": "white",
           "linecolor": "white",
           "ticks": "",
           "title": {
            "standoff": 15
           },
           "zerolinecolor": "white",
           "zerolinewidth": 2
          }
         }
        },
        "title": {
         "text": "Confusion Matrix"
        },
        "width": 1024,
        "xaxis": {
         "title": {
          "text": "Predicted value"
         }
        },
        "yaxis": {
         "title": {
          "text": "Real value"
         }
        }
       }
      },
      "text/html": [
       "<div>                            <div id=\"3cebb762-f6cd-43b4-8209-16d856cd82dd\" class=\"plotly-graph-div\" style=\"height:512px; width:1024px;\"></div>            <script type=\"text/javascript\">                require([\"plotly\"], function(Plotly) {                    window.PLOTLYENV=window.PLOTLYENV || {};                                    if (document.getElementById(\"3cebb762-f6cd-43b4-8209-16d856cd82dd\")) {                    Plotly.newPlot(                        \"3cebb762-f6cd-43b4-8209-16d856cd82dd\",                        [{\"colorscale\":[[0.0,\"rgb(247,252,245)\"],[0.125,\"rgb(229,245,224)\"],[0.25,\"rgb(199,233,192)\"],[0.375,\"rgb(161,217,155)\"],[0.5,\"rgb(116,196,118)\"],[0.625,\"rgb(65,171,93)\"],[0.75,\"rgb(35,139,69)\"],[0.875,\"rgb(0,109,44)\"],[1.0,\"rgb(0,68,27)\"]],\"hoverongaps\":false,\"x\":[\"low risk of mortality\",\"high risk of mortality\"],\"y\":[\"low risk of mortality\",\"high risk of mortality\"],\"z\":[[0.9223026108839257,0.07769738911607424],[0.5529715762273901,0.4470284237726098]],\"type\":\"heatmap\"}],                        {\"title\":{\"text\":\"Confusion Matrix\"},\"xaxis\":{\"title\":{\"text\":\"Predicted value\"}},\"yaxis\":{\"title\":{\"text\":\"Real value\"}},\"template\":{\"data\":{\"histogram2dcontour\":[{\"type\":\"histogram2dcontour\",\"colorbar\":{\"outlinewidth\":0,\"ticks\":\"\"},\"colorscale\":[[0.0,\"#0d0887\"],[0.1111111111111111,\"#46039f\"],[0.2222222222222222,\"#7201a8\"],[0.3333333333333333,\"#9c179e\"],[0.4444444444444444,\"#bd3786\"],[0.5555555555555556,\"#d8576b\"],[0.6666666666666666,\"#ed7953\"],[0.7777777777777778,\"#fb9f3a\"],[0.8888888888888888,\"#fdca26\"],[1.0,\"#f0f921\"]]}],\"choropleth\":[{\"type\":\"choropleth\",\"colorbar\":{\"outlinewidth\":0,\"ticks\":\"\"}}],\"histogram2d\":[{\"type\":\"histogram2d\",\"colorbar\":{\"outlinewidth\":0,\"ticks\":\"\"},\"colorscale\":[[0.0,\"#0d0887\"],[0.1111111111111111,\"#46039f\"],[0.2222222222222222,\"#7201a8\"],[0.3333333333333333,\"#9c179e\"],[0.4444444444444444,\"#bd3786\"],[0.5555555555555556,\"#d8576b\"],[0.6666666666666666,\"#ed7953\"],[0.7777777777777778,\"#fb9f3a\"],[0.8888888888888888,\"#fdca26\"],[1.0,\"#f0f921\"]]}],\"heatmap\":[{\"type\":\"heatmap\",\"colorbar\":{\"outlinewidth\":0,\"ticks\":\"\"},\"colorscale\":[[0.0,\"#0d0887\"],[0.1111111111111111,\"#46039f\"],[0.2222222222222222,\"#7201a8\"],[0.3333333333333333,\"#9c179e\"],[0.4444444444444444,\"#bd3786\"],[0.5555555555555556,\"#d8576b\"],[0.6666666666666666,\"#ed7953\"],[0.7777777777777778,\"#fb9f3a\"],[0.8888888888888888,\"#fdca26\"],[1.0,\"#f0f921\"]]}],\"heatmapgl\":[{\"type\":\"heatmapgl\",\"colorbar\":{\"outlinewidth\":0,\"ticks\":\"\"},\"colorscale\":[[0.0,\"#0d0887\"],[0.1111111111111111,\"#46039f\"],[0.2222222222222222,\"#7201a8\"],[0.3333333333333333,\"#9c179e\"],[0.4444444444444444,\"#bd3786\"],[0.5555555555555556,\"#d8576b\"],[0.6666666666666666,\"#ed7953\"],[0.7777777777777778,\"#fb9f3a\"],[0.8888888888888888,\"#fdca26\"],[1.0,\"#f0f921\"]]}],\"contourcarpet\":[{\"type\":\"contourcarpet\",\"colorbar\":{\"outlinewidth\":0,\"ticks\":\"\"}}],\"contour\":[{\"type\":\"contour\",\"colorbar\":{\"outlinewidth\":0,\"ticks\":\"\"},\"colorscale\":[[0.0,\"#0d0887\"],[0.1111111111111111,\"#46039f\"],[0.2222222222222222,\"#7201a8\"],[0.3333333333333333,\"#9c179e\"],[0.4444444444444444,\"#bd3786\"],[0.5555555555555556,\"#d8576b\"],[0.6666666666666666,\"#ed7953\"],[0.7777777777777778,\"#fb9f3a\"],[0.8888888888888888,\"#fdca26\"],[1.0,\"#f0f921\"]]}],\"surface\":[{\"type\":\"surface\",\"colorbar\":{\"outlinewidth\":0,\"ticks\":\"\"},\"colorscale\":[[0.0,\"#0d0887\"],[0.1111111111111111,\"#46039f\"],[0.2222222222222222,\"#7201a8\"],[0.3333333333333333,\"#9c179e\"],[0.4444444444444444,\"#bd3786\"],[0.5555555555555556,\"#d8576b\"],[0.6666666666666666,\"#ed7953\"],[0.7777777777777778,\"#fb9f3a\"],[0.8888888888888888,\"#fdca26\"],[1.0,\"#f0f921\"]]}],\"mesh3d\":[{\"type\":\"mesh3d\",\"colorbar\":{\"outlinewidth\":0,\"ticks\":\"\"}}],\"scatter\":[{\"fillpattern\":{\"fillmode\":\"overlay\",\"size\":10,\"solidity\":0.2},\"type\":\"scatter\"}],\"parcoords\":[{\"type\":\"parcoords\",\"line\":{\"colorbar\":{\"outlinewidth\":0,\"ticks\":\"\"}}}],\"scatterpolargl\":[{\"type\":\"scatterpolargl\",\"marker\":{\"colorbar\":{\"outlinewidth\":0,\"ticks\":\"\"}}}],\"bar\":[{\"error_x\":{\"color\":\"#2a3f5f\"},\"error_y\":{\"color\":\"#2a3f5f\"},\"marker\":{\"line\":{\"color\":\"#E5ECF6\",\"width\":0.5},\"pattern\":{\"fillmode\":\"overlay\",\"size\":10,\"solidity\":0.2}},\"type\":\"bar\"}],\"scattergeo\":[{\"type\":\"scattergeo\",\"marker\":{\"colorbar\":{\"outlinewidth\":0,\"ticks\":\"\"}}}],\"scatterpolar\":[{\"type\":\"scatterpolar\",\"marker\":{\"colorbar\":{\"outlinewidth\":0,\"ticks\":\"\"}}}],\"histogram\":[{\"marker\":{\"pattern\":{\"fillmode\":\"overlay\",\"size\":10,\"solidity\":0.2}},\"type\":\"histogram\"}],\"scattergl\":[{\"type\":\"scattergl\",\"marker\":{\"colorbar\":{\"outlinewidth\":0,\"ticks\":\"\"}}}],\"scatter3d\":[{\"type\":\"scatter3d\",\"line\":{\"colorbar\":{\"outlinewidth\":0,\"ticks\":\"\"}},\"marker\":{\"colorbar\":{\"outlinewidth\":0,\"ticks\":\"\"}}}],\"scattermapbox\":[{\"type\":\"scattermapbox\",\"marker\":{\"colorbar\":{\"outlinewidth\":0,\"ticks\":\"\"}}}],\"scatterternary\":[{\"type\":\"scatterternary\",\"marker\":{\"colorbar\":{\"outlinewidth\":0,\"ticks\":\"\"}}}],\"scattercarpet\":[{\"type\":\"scattercarpet\",\"marker\":{\"colorbar\":{\"outlinewidth\":0,\"ticks\":\"\"}}}],\"carpet\":[{\"aaxis\":{\"endlinecolor\":\"#2a3f5f\",\"gridcolor\":\"white\",\"linecolor\":\"white\",\"minorgridcolor\":\"white\",\"startlinecolor\":\"#2a3f5f\"},\"baxis\":{\"endlinecolor\":\"#2a3f5f\",\"gridcolor\":\"white\",\"linecolor\":\"white\",\"minorgridcolor\":\"white\",\"startlinecolor\":\"#2a3f5f\"},\"type\":\"carpet\"}],\"table\":[{\"cells\":{\"fill\":{\"color\":\"#EBF0F8\"},\"line\":{\"color\":\"white\"}},\"header\":{\"fill\":{\"color\":\"#C8D4E3\"},\"line\":{\"color\":\"white\"}},\"type\":\"table\"}],\"barpolar\":[{\"marker\":{\"line\":{\"color\":\"#E5ECF6\",\"width\":0.5},\"pattern\":{\"fillmode\":\"overlay\",\"size\":10,\"solidity\":0.2}},\"type\":\"barpolar\"}],\"pie\":[{\"automargin\":true,\"type\":\"pie\"}]},\"layout\":{\"autotypenumbers\":\"strict\",\"colorway\":[\"#636efa\",\"#EF553B\",\"#00cc96\",\"#ab63fa\",\"#FFA15A\",\"#19d3f3\",\"#FF6692\",\"#B6E880\",\"#FF97FF\",\"#FECB52\"],\"font\":{\"color\":\"#2a3f5f\"},\"hovermode\":\"closest\",\"hoverlabel\":{\"align\":\"left\"},\"paper_bgcolor\":\"white\",\"plot_bgcolor\":\"#E5ECF6\",\"polar\":{\"bgcolor\":\"#E5ECF6\",\"angularaxis\":{\"gridcolor\":\"white\",\"linecolor\":\"white\",\"ticks\":\"\"},\"radialaxis\":{\"gridcolor\":\"white\",\"linecolor\":\"white\",\"ticks\":\"\"}},\"ternary\":{\"bgcolor\":\"#E5ECF6\",\"aaxis\":{\"gridcolor\":\"white\",\"linecolor\":\"white\",\"ticks\":\"\"},\"baxis\":{\"gridcolor\":\"white\",\"linecolor\":\"white\",\"ticks\":\"\"},\"caxis\":{\"gridcolor\":\"white\",\"linecolor\":\"white\",\"ticks\":\"\"}},\"coloraxis\":{\"colorbar\":{\"outlinewidth\":0,\"ticks\":\"\"}},\"colorscale\":{\"sequential\":[[0.0,\"#0d0887\"],[0.1111111111111111,\"#46039f\"],[0.2222222222222222,\"#7201a8\"],[0.3333333333333333,\"#9c179e\"],[0.4444444444444444,\"#bd3786\"],[0.5555555555555556,\"#d8576b\"],[0.6666666666666666,\"#ed7953\"],[0.7777777777777778,\"#fb9f3a\"],[0.8888888888888888,\"#fdca26\"],[1.0,\"#f0f921\"]],\"sequentialminus\":[[0.0,\"#0d0887\"],[0.1111111111111111,\"#46039f\"],[0.2222222222222222,\"#7201a8\"],[0.3333333333333333,\"#9c179e\"],[0.4444444444444444,\"#bd3786\"],[0.5555555555555556,\"#d8576b\"],[0.6666666666666666,\"#ed7953\"],[0.7777777777777778,\"#fb9f3a\"],[0.8888888888888888,\"#fdca26\"],[1.0,\"#f0f921\"]],\"diverging\":[[0,\"#8e0152\"],[0.1,\"#c51b7d\"],[0.2,\"#de77ae\"],[0.3,\"#f1b6da\"],[0.4,\"#fde0ef\"],[0.5,\"#f7f7f7\"],[0.6,\"#e6f5d0\"],[0.7,\"#b8e186\"],[0.8,\"#7fbc41\"],[0.9,\"#4d9221\"],[1,\"#276419\"]]},\"xaxis\":{\"gridcolor\":\"white\",\"linecolor\":\"white\",\"ticks\":\"\",\"title\":{\"standoff\":15},\"zerolinecolor\":\"white\",\"automargin\":true,\"zerolinewidth\":2},\"yaxis\":{\"gridcolor\":\"white\",\"linecolor\":\"white\",\"ticks\":\"\",\"title\":{\"standoff\":15},\"zerolinecolor\":\"white\",\"automargin\":true,\"zerolinewidth\":2},\"scene\":{\"xaxis\":{\"backgroundcolor\":\"#E5ECF6\",\"gridcolor\":\"white\",\"linecolor\":\"white\",\"showbackground\":true,\"ticks\":\"\",\"zerolinecolor\":\"white\",\"gridwidth\":2},\"yaxis\":{\"backgroundcolor\":\"#E5ECF6\",\"gridcolor\":\"white\",\"linecolor\":\"white\",\"showbackground\":true,\"ticks\":\"\",\"zerolinecolor\":\"white\",\"gridwidth\":2},\"zaxis\":{\"backgroundcolor\":\"#E5ECF6\",\"gridcolor\":\"white\",\"linecolor\":\"white\",\"showbackground\":true,\"ticks\":\"\",\"zerolinecolor\":\"white\",\"gridwidth\":2}},\"shapedefaults\":{\"line\":{\"color\":\"#2a3f5f\"}},\"annotationdefaults\":{\"arrowcolor\":\"#2a3f5f\",\"arrowhead\":0,\"arrowwidth\":1},\"geo\":{\"bgcolor\":\"white\",\"landcolor\":\"#E5ECF6\",\"subunitcolor\":\"white\",\"showland\":true,\"showlakes\":true,\"lakecolor\":\"white\"},\"title\":{\"x\":0.05},\"mapbox\":{\"style\":\"light\"}}},\"height\":512,\"width\":1024},                        {\"responsive\": true}                    ).then(function(){\n",
       "                            \n",
       "var gd = document.getElementById('3cebb762-f6cd-43b4-8209-16d856cd82dd');\n",
       "var x = new MutationObserver(function (mutations, observer) {{\n",
       "        var display = window.getComputedStyle(gd).display;\n",
       "        if (!display || display === 'none') {{\n",
       "            console.log([gd, 'removed!']);\n",
       "            Plotly.purge(gd);\n",
       "            observer.disconnect();\n",
       "        }}\n",
       "}});\n",
       "\n",
       "// Listen for the removal of the full notebook cells\n",
       "var notebookContainer = gd.closest('#notebook-container');\n",
       "if (notebookContainer) {{\n",
       "    x.observe(notebookContainer, {childList: true});\n",
       "}}\n",
       "\n",
       "// Listen for the clearing of the current output cell\n",
       "var outputEl = gd.closest('.output');\n",
       "if (outputEl) {{\n",
       "    x.observe(outputEl, {childList: true});\n",
       "}}\n",
       "\n",
       "                        })                };                });            </script>        </div>"
      ]
     },
     "metadata": {},
     "output_type": "display_data"
    }
   ],
   "source": [
    "def plot_confusion_matrix(confusion_matrix, class_names):\n",
    "    confusion_matrix = (\n",
    "        confusion_matrix.astype(\"float\") / confusion_matrix.sum(axis=1)[:, np.newaxis]\n",
    "    )\n",
    "\n",
    "    layout = {\n",
    "        \"title\": \"Confusion Matrix\",\n",
    "        \"xaxis\": {\"title\": \"Predicted value\"},\n",
    "        \"yaxis\": {\"title\": \"Real value\"},\n",
    "    }\n",
    "\n",
    "    fig = go.Figure(\n",
    "        data=go.Heatmap(\n",
    "            z=confusion_matrix,\n",
    "            x=class_names,\n",
    "            y=class_names,\n",
    "            hoverongaps=False,\n",
    "            colorscale=\"Greens\",\n",
    "        ),\n",
    "        layout=layout,\n",
    "    )\n",
    "    fig.update_layout(height=512, width=1024)\n",
    "    fig.show()\n",
    "\n",
    "\n",
    "plot_confusion_matrix(\n",
    "    confusion_matrix, [\"low risk of mortality\", \"high risk of mortality\"]\n",
    ")"
   ]
  },
  {
   "cell_type": "markdown",
   "id": "a43cfde9-3c6d-4de9-817e-811376f5cb3f",
   "metadata": {},
   "source": [
    "## Compute AUROC across timesteps"
   ]
  },
  {
   "cell_type": "code",
   "execution_count": 49,
   "id": "679e86a5-8db4-4e44-bf50-babfb186427b",
   "metadata": {},
   "outputs": [
    {
     "data": {
      "application/vnd.plotly.v1+json": {
       "config": {
        "plotlyServerURL": "https://plot.ly"
       },
       "data": [
        {
         "name": "model confidence",
         "type": "bar",
         "x": [
          24,
          48,
          72,
          96,
          120,
          144
         ],
         "y": [
          0.8002491809650731,
          0.8117622013610861,
          0.8094336529792641,
          0.8209988160585513,
          0.8057952799888284,
          0.7765570065293822
         ]
        }
       ],
       "layout": {
        "autosize": false,
        "template": {
         "data": {
          "bar": [
           {
            "error_x": {
             "color": "#2a3f5f"
            },
            "error_y": {
             "color": "#2a3f5f"
            },
            "marker": {
             "line": {
              "color": "#E5ECF6",
              "width": 0.5
             },
             "pattern": {
              "fillmode": "overlay",
              "size": 10,
              "solidity": 0.2
             }
            },
            "type": "bar"
           }
          ],
          "barpolar": [
           {
            "marker": {
             "line": {
              "color": "#E5ECF6",
              "width": 0.5
             },
             "pattern": {
              "fillmode": "overlay",
              "size": 10,
              "solidity": 0.2
             }
            },
            "type": "barpolar"
           }
          ],
          "carpet": [
           {
            "aaxis": {
             "endlinecolor": "#2a3f5f",
             "gridcolor": "white",
             "linecolor": "white",
             "minorgridcolor": "white",
             "startlinecolor": "#2a3f5f"
            },
            "baxis": {
             "endlinecolor": "#2a3f5f",
             "gridcolor": "white",
             "linecolor": "white",
             "minorgridcolor": "white",
             "startlinecolor": "#2a3f5f"
            },
            "type": "carpet"
           }
          ],
          "choropleth": [
           {
            "colorbar": {
             "outlinewidth": 0,
             "ticks": ""
            },
            "type": "choropleth"
           }
          ],
          "contour": [
           {
            "colorbar": {
             "outlinewidth": 0,
             "ticks": ""
            },
            "colorscale": [
             [
              0,
              "#0d0887"
             ],
             [
              0.1111111111111111,
              "#46039f"
             ],
             [
              0.2222222222222222,
              "#7201a8"
             ],
             [
              0.3333333333333333,
              "#9c179e"
             ],
             [
              0.4444444444444444,
              "#bd3786"
             ],
             [
              0.5555555555555556,
              "#d8576b"
             ],
             [
              0.6666666666666666,
              "#ed7953"
             ],
             [
              0.7777777777777778,
              "#fb9f3a"
             ],
             [
              0.8888888888888888,
              "#fdca26"
             ],
             [
              1,
              "#f0f921"
             ]
            ],
            "type": "contour"
           }
          ],
          "contourcarpet": [
           {
            "colorbar": {
             "outlinewidth": 0,
             "ticks": ""
            },
            "type": "contourcarpet"
           }
          ],
          "heatmap": [
           {
            "colorbar": {
             "outlinewidth": 0,
             "ticks": ""
            },
            "colorscale": [
             [
              0,
              "#0d0887"
             ],
             [
              0.1111111111111111,
              "#46039f"
             ],
             [
              0.2222222222222222,
              "#7201a8"
             ],
             [
              0.3333333333333333,
              "#9c179e"
             ],
             [
              0.4444444444444444,
              "#bd3786"
             ],
             [
              0.5555555555555556,
              "#d8576b"
             ],
             [
              0.6666666666666666,
              "#ed7953"
             ],
             [
              0.7777777777777778,
              "#fb9f3a"
             ],
             [
              0.8888888888888888,
              "#fdca26"
             ],
             [
              1,
              "#f0f921"
             ]
            ],
            "type": "heatmap"
           }
          ],
          "heatmapgl": [
           {
            "colorbar": {
             "outlinewidth": 0,
             "ticks": ""
            },
            "colorscale": [
             [
              0,
              "#0d0887"
             ],
             [
              0.1111111111111111,
              "#46039f"
             ],
             [
              0.2222222222222222,
              "#7201a8"
             ],
             [
              0.3333333333333333,
              "#9c179e"
             ],
             [
              0.4444444444444444,
              "#bd3786"
             ],
             [
              0.5555555555555556,
              "#d8576b"
             ],
             [
              0.6666666666666666,
              "#ed7953"
             ],
             [
              0.7777777777777778,
              "#fb9f3a"
             ],
             [
              0.8888888888888888,
              "#fdca26"
             ],
             [
              1,
              "#f0f921"
             ]
            ],
            "type": "heatmapgl"
           }
          ],
          "histogram": [
           {
            "marker": {
             "pattern": {
              "fillmode": "overlay",
              "size": 10,
              "solidity": 0.2
             }
            },
            "type": "histogram"
           }
          ],
          "histogram2d": [
           {
            "colorbar": {
             "outlinewidth": 0,
             "ticks": ""
            },
            "colorscale": [
             [
              0,
              "#0d0887"
             ],
             [
              0.1111111111111111,
              "#46039f"
             ],
             [
              0.2222222222222222,
              "#7201a8"
             ],
             [
              0.3333333333333333,
              "#9c179e"
             ],
             [
              0.4444444444444444,
              "#bd3786"
             ],
             [
              0.5555555555555556,
              "#d8576b"
             ],
             [
              0.6666666666666666,
              "#ed7953"
             ],
             [
              0.7777777777777778,
              "#fb9f3a"
             ],
             [
              0.8888888888888888,
              "#fdca26"
             ],
             [
              1,
              "#f0f921"
             ]
            ],
            "type": "histogram2d"
           }
          ],
          "histogram2dcontour": [
           {
            "colorbar": {
             "outlinewidth": 0,
             "ticks": ""
            },
            "colorscale": [
             [
              0,
              "#0d0887"
             ],
             [
              0.1111111111111111,
              "#46039f"
             ],
             [
              0.2222222222222222,
              "#7201a8"
             ],
             [
              0.3333333333333333,
              "#9c179e"
             ],
             [
              0.4444444444444444,
              "#bd3786"
             ],
             [
              0.5555555555555556,
              "#d8576b"
             ],
             [
              0.6666666666666666,
              "#ed7953"
             ],
             [
              0.7777777777777778,
              "#fb9f3a"
             ],
             [
              0.8888888888888888,
              "#fdca26"
             ],
             [
              1,
              "#f0f921"
             ]
            ],
            "type": "histogram2dcontour"
           }
          ],
          "mesh3d": [
           {
            "colorbar": {
             "outlinewidth": 0,
             "ticks": ""
            },
            "type": "mesh3d"
           }
          ],
          "parcoords": [
           {
            "line": {
             "colorbar": {
              "outlinewidth": 0,
              "ticks": ""
             }
            },
            "type": "parcoords"
           }
          ],
          "pie": [
           {
            "automargin": true,
            "type": "pie"
           }
          ],
          "scatter": [
           {
            "fillpattern": {
             "fillmode": "overlay",
             "size": 10,
             "solidity": 0.2
            },
            "type": "scatter"
           }
          ],
          "scatter3d": [
           {
            "line": {
             "colorbar": {
              "outlinewidth": 0,
              "ticks": ""
             }
            },
            "marker": {
             "colorbar": {
              "outlinewidth": 0,
              "ticks": ""
             }
            },
            "type": "scatter3d"
           }
          ],
          "scattercarpet": [
           {
            "marker": {
             "colorbar": {
              "outlinewidth": 0,
              "ticks": ""
             }
            },
            "type": "scattercarpet"
           }
          ],
          "scattergeo": [
           {
            "marker": {
             "colorbar": {
              "outlinewidth": 0,
              "ticks": ""
             }
            },
            "type": "scattergeo"
           }
          ],
          "scattergl": [
           {
            "marker": {
             "colorbar": {
              "outlinewidth": 0,
              "ticks": ""
             }
            },
            "type": "scattergl"
           }
          ],
          "scattermapbox": [
           {
            "marker": {
             "colorbar": {
              "outlinewidth": 0,
              "ticks": ""
             }
            },
            "type": "scattermapbox"
           }
          ],
          "scatterpolar": [
           {
            "marker": {
             "colorbar": {
              "outlinewidth": 0,
              "ticks": ""
             }
            },
            "type": "scatterpolar"
           }
          ],
          "scatterpolargl": [
           {
            "marker": {
             "colorbar": {
              "outlinewidth": 0,
              "ticks": ""
             }
            },
            "type": "scatterpolargl"
           }
          ],
          "scatterternary": [
           {
            "marker": {
             "colorbar": {
              "outlinewidth": 0,
              "ticks": ""
             }
            },
            "type": "scatterternary"
           }
          ],
          "surface": [
           {
            "colorbar": {
             "outlinewidth": 0,
             "ticks": ""
            },
            "colorscale": [
             [
              0,
              "#0d0887"
             ],
             [
              0.1111111111111111,
              "#46039f"
             ],
             [
              0.2222222222222222,
              "#7201a8"
             ],
             [
              0.3333333333333333,
              "#9c179e"
             ],
             [
              0.4444444444444444,
              "#bd3786"
             ],
             [
              0.5555555555555556,
              "#d8576b"
             ],
             [
              0.6666666666666666,
              "#ed7953"
             ],
             [
              0.7777777777777778,
              "#fb9f3a"
             ],
             [
              0.8888888888888888,
              "#fdca26"
             ],
             [
              1,
              "#f0f921"
             ]
            ],
            "type": "surface"
           }
          ],
          "table": [
           {
            "cells": {
             "fill": {
              "color": "#EBF0F8"
             },
             "line": {
              "color": "white"
             }
            },
            "header": {
             "fill": {
              "color": "#C8D4E3"
             },
             "line": {
              "color": "white"
             }
            },
            "type": "table"
           }
          ]
         },
         "layout": {
          "annotationdefaults": {
           "arrowcolor": "#2a3f5f",
           "arrowhead": 0,
           "arrowwidth": 1
          },
          "autotypenumbers": "strict",
          "coloraxis": {
           "colorbar": {
            "outlinewidth": 0,
            "ticks": ""
           }
          },
          "colorscale": {
           "diverging": [
            [
             0,
             "#8e0152"
            ],
            [
             0.1,
             "#c51b7d"
            ],
            [
             0.2,
             "#de77ae"
            ],
            [
             0.3,
             "#f1b6da"
            ],
            [
             0.4,
             "#fde0ef"
            ],
            [
             0.5,
             "#f7f7f7"
            ],
            [
             0.6,
             "#e6f5d0"
            ],
            [
             0.7,
             "#b8e186"
            ],
            [
             0.8,
             "#7fbc41"
            ],
            [
             0.9,
             "#4d9221"
            ],
            [
             1,
             "#276419"
            ]
           ],
           "sequential": [
            [
             0,
             "#0d0887"
            ],
            [
             0.1111111111111111,
             "#46039f"
            ],
            [
             0.2222222222222222,
             "#7201a8"
            ],
            [
             0.3333333333333333,
             "#9c179e"
            ],
            [
             0.4444444444444444,
             "#bd3786"
            ],
            [
             0.5555555555555556,
             "#d8576b"
            ],
            [
             0.6666666666666666,
             "#ed7953"
            ],
            [
             0.7777777777777778,
             "#fb9f3a"
            ],
            [
             0.8888888888888888,
             "#fdca26"
            ],
            [
             1,
             "#f0f921"
            ]
           ],
           "sequentialminus": [
            [
             0,
             "#0d0887"
            ],
            [
             0.1111111111111111,
             "#46039f"
            ],
            [
             0.2222222222222222,
             "#7201a8"
            ],
            [
             0.3333333333333333,
             "#9c179e"
            ],
            [
             0.4444444444444444,
             "#bd3786"
            ],
            [
             0.5555555555555556,
             "#d8576b"
            ],
            [
             0.6666666666666666,
             "#ed7953"
            ],
            [
             0.7777777777777778,
             "#fb9f3a"
            ],
            [
             0.8888888888888888,
             "#fdca26"
            ],
            [
             1,
             "#f0f921"
            ]
           ]
          },
          "colorway": [
           "#636efa",
           "#EF553B",
           "#00cc96",
           "#ab63fa",
           "#FFA15A",
           "#19d3f3",
           "#FF6692",
           "#B6E880",
           "#FF97FF",
           "#FECB52"
          ],
          "font": {
           "color": "#2a3f5f"
          },
          "geo": {
           "bgcolor": "white",
           "lakecolor": "white",
           "landcolor": "#E5ECF6",
           "showlakes": true,
           "showland": true,
           "subunitcolor": "white"
          },
          "hoverlabel": {
           "align": "left"
          },
          "hovermode": "closest",
          "mapbox": {
           "style": "light"
          },
          "paper_bgcolor": "white",
          "plot_bgcolor": "#E5ECF6",
          "polar": {
           "angularaxis": {
            "gridcolor": "white",
            "linecolor": "white",
            "ticks": ""
           },
           "bgcolor": "#E5ECF6",
           "radialaxis": {
            "gridcolor": "white",
            "linecolor": "white",
            "ticks": ""
           }
          },
          "scene": {
           "xaxis": {
            "backgroundcolor": "#E5ECF6",
            "gridcolor": "white",
            "gridwidth": 2,
            "linecolor": "white",
            "showbackground": true,
            "ticks": "",
            "zerolinecolor": "white"
           },
           "yaxis": {
            "backgroundcolor": "#E5ECF6",
            "gridcolor": "white",
            "gridwidth": 2,
            "linecolor": "white",
            "showbackground": true,
            "ticks": "",
            "zerolinecolor": "white"
           },
           "zaxis": {
            "backgroundcolor": "#E5ECF6",
            "gridcolor": "white",
            "gridwidth": 2,
            "linecolor": "white",
            "showbackground": true,
            "ticks": "",
            "zerolinecolor": "white"
           }
          },
          "shapedefaults": {
           "line": {
            "color": "#2a3f5f"
           }
          },
          "ternary": {
           "aaxis": {
            "gridcolor": "white",
            "linecolor": "white",
            "ticks": ""
           },
           "baxis": {
            "gridcolor": "white",
            "linecolor": "white",
            "ticks": ""
           },
           "bgcolor": "#E5ECF6",
           "caxis": {
            "gridcolor": "white",
            "linecolor": "white",
            "ticks": ""
           }
          },
          "title": {
           "x": 0.05
          },
          "xaxis": {
           "automargin": true,
           "gridcolor": "white",
           "linecolor": "white",
           "ticks": "",
           "title": {
            "standoff": 15
           },
           "zerolinecolor": "white",
           "zerolinewidth": 2
          },
          "yaxis": {
           "automargin": true,
           "gridcolor": "white",
           "linecolor": "white",
           "ticks": "",
           "title": {
            "standoff": 15
           },
           "zerolinecolor": "white",
           "zerolinewidth": 2
          }
         }
        },
        "title": {
         "text": "AUROC split by no. of hours after admission"
        },
        "xaxis": {
         "tickvals": [
          24,
          48,
          72,
          96,
          120,
          144
         ],
         "title": {
          "text": "No. of hours after admission"
         }
        },
        "yaxis": {
         "range": [
          0.7265570065293822,
          0.8709988160585513
         ]
        }
       }
      },
      "text/html": [
       "<div>                            <div id=\"507ceffa-44ca-4efc-ac39-e7429e4d5c96\" class=\"plotly-graph-div\" style=\"height:525px; width:100%;\"></div>            <script type=\"text/javascript\">                require([\"plotly\"], function(Plotly) {                    window.PLOTLYENV=window.PLOTLYENV || {};                                    if (document.getElementById(\"507ceffa-44ca-4efc-ac39-e7429e4d5c96\")) {                    Plotly.newPlot(                        \"507ceffa-44ca-4efc-ac39-e7429e4d5c96\",                        [{\"name\":\"model confidence\",\"x\":[24,48,72,96,120,144],\"y\":[0.8002491809650731,0.8117622013610861,0.8094336529792641,0.8209988160585513,0.8057952799888284,0.7765570065293822],\"type\":\"bar\"}],                        {\"template\":{\"data\":{\"histogram2dcontour\":[{\"type\":\"histogram2dcontour\",\"colorbar\":{\"outlinewidth\":0,\"ticks\":\"\"},\"colorscale\":[[0.0,\"#0d0887\"],[0.1111111111111111,\"#46039f\"],[0.2222222222222222,\"#7201a8\"],[0.3333333333333333,\"#9c179e\"],[0.4444444444444444,\"#bd3786\"],[0.5555555555555556,\"#d8576b\"],[0.6666666666666666,\"#ed7953\"],[0.7777777777777778,\"#fb9f3a\"],[0.8888888888888888,\"#fdca26\"],[1.0,\"#f0f921\"]]}],\"choropleth\":[{\"type\":\"choropleth\",\"colorbar\":{\"outlinewidth\":0,\"ticks\":\"\"}}],\"histogram2d\":[{\"type\":\"histogram2d\",\"colorbar\":{\"outlinewidth\":0,\"ticks\":\"\"},\"colorscale\":[[0.0,\"#0d0887\"],[0.1111111111111111,\"#46039f\"],[0.2222222222222222,\"#7201a8\"],[0.3333333333333333,\"#9c179e\"],[0.4444444444444444,\"#bd3786\"],[0.5555555555555556,\"#d8576b\"],[0.6666666666666666,\"#ed7953\"],[0.7777777777777778,\"#fb9f3a\"],[0.8888888888888888,\"#fdca26\"],[1.0,\"#f0f921\"]]}],\"heatmap\":[{\"type\":\"heatmap\",\"colorbar\":{\"outlinewidth\":0,\"ticks\":\"\"},\"colorscale\":[[0.0,\"#0d0887\"],[0.1111111111111111,\"#46039f\"],[0.2222222222222222,\"#7201a8\"],[0.3333333333333333,\"#9c179e\"],[0.4444444444444444,\"#bd3786\"],[0.5555555555555556,\"#d8576b\"],[0.6666666666666666,\"#ed7953\"],[0.7777777777777778,\"#fb9f3a\"],[0.8888888888888888,\"#fdca26\"],[1.0,\"#f0f921\"]]}],\"heatmapgl\":[{\"type\":\"heatmapgl\",\"colorbar\":{\"outlinewidth\":0,\"ticks\":\"\"},\"colorscale\":[[0.0,\"#0d0887\"],[0.1111111111111111,\"#46039f\"],[0.2222222222222222,\"#7201a8\"],[0.3333333333333333,\"#9c179e\"],[0.4444444444444444,\"#bd3786\"],[0.5555555555555556,\"#d8576b\"],[0.6666666666666666,\"#ed7953\"],[0.7777777777777778,\"#fb9f3a\"],[0.8888888888888888,\"#fdca26\"],[1.0,\"#f0f921\"]]}],\"contourcarpet\":[{\"type\":\"contourcarpet\",\"colorbar\":{\"outlinewidth\":0,\"ticks\":\"\"}}],\"contour\":[{\"type\":\"contour\",\"colorbar\":{\"outlinewidth\":0,\"ticks\":\"\"},\"colorscale\":[[0.0,\"#0d0887\"],[0.1111111111111111,\"#46039f\"],[0.2222222222222222,\"#7201a8\"],[0.3333333333333333,\"#9c179e\"],[0.4444444444444444,\"#bd3786\"],[0.5555555555555556,\"#d8576b\"],[0.6666666666666666,\"#ed7953\"],[0.7777777777777778,\"#fb9f3a\"],[0.8888888888888888,\"#fdca26\"],[1.0,\"#f0f921\"]]}],\"surface\":[{\"type\":\"surface\",\"colorbar\":{\"outlinewidth\":0,\"ticks\":\"\"},\"colorscale\":[[0.0,\"#0d0887\"],[0.1111111111111111,\"#46039f\"],[0.2222222222222222,\"#7201a8\"],[0.3333333333333333,\"#9c179e\"],[0.4444444444444444,\"#bd3786\"],[0.5555555555555556,\"#d8576b\"],[0.6666666666666666,\"#ed7953\"],[0.7777777777777778,\"#fb9f3a\"],[0.8888888888888888,\"#fdca26\"],[1.0,\"#f0f921\"]]}],\"mesh3d\":[{\"type\":\"mesh3d\",\"colorbar\":{\"outlinewidth\":0,\"ticks\":\"\"}}],\"scatter\":[{\"fillpattern\":{\"fillmode\":\"overlay\",\"size\":10,\"solidity\":0.2},\"type\":\"scatter\"}],\"parcoords\":[{\"type\":\"parcoords\",\"line\":{\"colorbar\":{\"outlinewidth\":0,\"ticks\":\"\"}}}],\"scatterpolargl\":[{\"type\":\"scatterpolargl\",\"marker\":{\"colorbar\":{\"outlinewidth\":0,\"ticks\":\"\"}}}],\"bar\":[{\"error_x\":{\"color\":\"#2a3f5f\"},\"error_y\":{\"color\":\"#2a3f5f\"},\"marker\":{\"line\":{\"color\":\"#E5ECF6\",\"width\":0.5},\"pattern\":{\"fillmode\":\"overlay\",\"size\":10,\"solidity\":0.2}},\"type\":\"bar\"}],\"scattergeo\":[{\"type\":\"scattergeo\",\"marker\":{\"colorbar\":{\"outlinewidth\":0,\"ticks\":\"\"}}}],\"scatterpolar\":[{\"type\":\"scatterpolar\",\"marker\":{\"colorbar\":{\"outlinewidth\":0,\"ticks\":\"\"}}}],\"histogram\":[{\"marker\":{\"pattern\":{\"fillmode\":\"overlay\",\"size\":10,\"solidity\":0.2}},\"type\":\"histogram\"}],\"scattergl\":[{\"type\":\"scattergl\",\"marker\":{\"colorbar\":{\"outlinewidth\":0,\"ticks\":\"\"}}}],\"scatter3d\":[{\"type\":\"scatter3d\",\"line\":{\"colorbar\":{\"outlinewidth\":0,\"ticks\":\"\"}},\"marker\":{\"colorbar\":{\"outlinewidth\":0,\"ticks\":\"\"}}}],\"scattermapbox\":[{\"type\":\"scattermapbox\",\"marker\":{\"colorbar\":{\"outlinewidth\":0,\"ticks\":\"\"}}}],\"scatterternary\":[{\"type\":\"scatterternary\",\"marker\":{\"colorbar\":{\"outlinewidth\":0,\"ticks\":\"\"}}}],\"scattercarpet\":[{\"type\":\"scattercarpet\",\"marker\":{\"colorbar\":{\"outlinewidth\":0,\"ticks\":\"\"}}}],\"carpet\":[{\"aaxis\":{\"endlinecolor\":\"#2a3f5f\",\"gridcolor\":\"white\",\"linecolor\":\"white\",\"minorgridcolor\":\"white\",\"startlinecolor\":\"#2a3f5f\"},\"baxis\":{\"endlinecolor\":\"#2a3f5f\",\"gridcolor\":\"white\",\"linecolor\":\"white\",\"minorgridcolor\":\"white\",\"startlinecolor\":\"#2a3f5f\"},\"type\":\"carpet\"}],\"table\":[{\"cells\":{\"fill\":{\"color\":\"#EBF0F8\"},\"line\":{\"color\":\"white\"}},\"header\":{\"fill\":{\"color\":\"#C8D4E3\"},\"line\":{\"color\":\"white\"}},\"type\":\"table\"}],\"barpolar\":[{\"marker\":{\"line\":{\"color\":\"#E5ECF6\",\"width\":0.5},\"pattern\":{\"fillmode\":\"overlay\",\"size\":10,\"solidity\":0.2}},\"type\":\"barpolar\"}],\"pie\":[{\"automargin\":true,\"type\":\"pie\"}]},\"layout\":{\"autotypenumbers\":\"strict\",\"colorway\":[\"#636efa\",\"#EF553B\",\"#00cc96\",\"#ab63fa\",\"#FFA15A\",\"#19d3f3\",\"#FF6692\",\"#B6E880\",\"#FF97FF\",\"#FECB52\"],\"font\":{\"color\":\"#2a3f5f\"},\"hovermode\":\"closest\",\"hoverlabel\":{\"align\":\"left\"},\"paper_bgcolor\":\"white\",\"plot_bgcolor\":\"#E5ECF6\",\"polar\":{\"bgcolor\":\"#E5ECF6\",\"angularaxis\":{\"gridcolor\":\"white\",\"linecolor\":\"white\",\"ticks\":\"\"},\"radialaxis\":{\"gridcolor\":\"white\",\"linecolor\":\"white\",\"ticks\":\"\"}},\"ternary\":{\"bgcolor\":\"#E5ECF6\",\"aaxis\":{\"gridcolor\":\"white\",\"linecolor\":\"white\",\"ticks\":\"\"},\"baxis\":{\"gridcolor\":\"white\",\"linecolor\":\"white\",\"ticks\":\"\"},\"caxis\":{\"gridcolor\":\"white\",\"linecolor\":\"white\",\"ticks\":\"\"}},\"coloraxis\":{\"colorbar\":{\"outlinewidth\":0,\"ticks\":\"\"}},\"colorscale\":{\"sequential\":[[0.0,\"#0d0887\"],[0.1111111111111111,\"#46039f\"],[0.2222222222222222,\"#7201a8\"],[0.3333333333333333,\"#9c179e\"],[0.4444444444444444,\"#bd3786\"],[0.5555555555555556,\"#d8576b\"],[0.6666666666666666,\"#ed7953\"],[0.7777777777777778,\"#fb9f3a\"],[0.8888888888888888,\"#fdca26\"],[1.0,\"#f0f921\"]],\"sequentialminus\":[[0.0,\"#0d0887\"],[0.1111111111111111,\"#46039f\"],[0.2222222222222222,\"#7201a8\"],[0.3333333333333333,\"#9c179e\"],[0.4444444444444444,\"#bd3786\"],[0.5555555555555556,\"#d8576b\"],[0.6666666666666666,\"#ed7953\"],[0.7777777777777778,\"#fb9f3a\"],[0.8888888888888888,\"#fdca26\"],[1.0,\"#f0f921\"]],\"diverging\":[[0,\"#8e0152\"],[0.1,\"#c51b7d\"],[0.2,\"#de77ae\"],[0.3,\"#f1b6da\"],[0.4,\"#fde0ef\"],[0.5,\"#f7f7f7\"],[0.6,\"#e6f5d0\"],[0.7,\"#b8e186\"],[0.8,\"#7fbc41\"],[0.9,\"#4d9221\"],[1,\"#276419\"]]},\"xaxis\":{\"gridcolor\":\"white\",\"linecolor\":\"white\",\"ticks\":\"\",\"title\":{\"standoff\":15},\"zerolinecolor\":\"white\",\"automargin\":true,\"zerolinewidth\":2},\"yaxis\":{\"gridcolor\":\"white\",\"linecolor\":\"white\",\"ticks\":\"\",\"title\":{\"standoff\":15},\"zerolinecolor\":\"white\",\"automargin\":true,\"zerolinewidth\":2},\"scene\":{\"xaxis\":{\"backgroundcolor\":\"#E5ECF6\",\"gridcolor\":\"white\",\"linecolor\":\"white\",\"showbackground\":true,\"ticks\":\"\",\"zerolinecolor\":\"white\",\"gridwidth\":2},\"yaxis\":{\"backgroundcolor\":\"#E5ECF6\",\"gridcolor\":\"white\",\"linecolor\":\"white\",\"showbackground\":true,\"ticks\":\"\",\"zerolinecolor\":\"white\",\"gridwidth\":2},\"zaxis\":{\"backgroundcolor\":\"#E5ECF6\",\"gridcolor\":\"white\",\"linecolor\":\"white\",\"showbackground\":true,\"ticks\":\"\",\"zerolinecolor\":\"white\",\"gridwidth\":2}},\"shapedefaults\":{\"line\":{\"color\":\"#2a3f5f\"}},\"annotationdefaults\":{\"arrowcolor\":\"#2a3f5f\",\"arrowhead\":0,\"arrowwidth\":1},\"geo\":{\"bgcolor\":\"white\",\"landcolor\":\"#E5ECF6\",\"subunitcolor\":\"white\",\"showland\":true,\"showlakes\":true,\"lakecolor\":\"white\"},\"title\":{\"x\":0.05},\"mapbox\":{\"style\":\"light\"}}},\"xaxis\":{\"tickvals\":[24,48,72,96,120,144],\"title\":{\"text\":\"No. of hours after admission\"}},\"yaxis\":{\"range\":[0.7265570065293822,0.8709988160585513]},\"title\":{\"text\":\"AUROC split by no. of hours after admission\"},\"autosize\":false},                        {\"responsive\": true}                    ).then(function(){\n",
       "                            \n",
       "var gd = document.getElementById('507ceffa-44ca-4efc-ac39-e7429e4d5c96');\n",
       "var x = new MutationObserver(function (mutations, observer) {{\n",
       "        var display = window.getComputedStyle(gd).display;\n",
       "        if (!display || display === 'none') {{\n",
       "            console.log([gd, 'removed!']);\n",
       "            Plotly.purge(gd);\n",
       "            observer.disconnect();\n",
       "        }}\n",
       "}});\n",
       "\n",
       "// Listen for the removal of the full notebook cells\n",
       "var notebookContainer = gd.closest('#notebook-container');\n",
       "if (notebookContainer) {{\n",
       "    x.observe(notebookContainer, {childList: true});\n",
       "}}\n",
       "\n",
       "// Listen for the clearing of the current output cell\n",
       "var outputEl = gd.closest('.output');\n",
       "if (outputEl) {{\n",
       "    x.observe(outputEl, {childList: true});\n",
       "}}\n",
       "\n",
       "                        })                };                });            </script>        </div>"
      ]
     },
     "metadata": {},
     "output_type": "display_data"
    }
   ],
   "source": [
    "y_test_labels, y_pred_values, y_pred_labels = opt.evaluate(\n",
    "    test_loader, batch_size=1, n_features=input_dim, timesteps=timesteps, flatten=False\n",
    ")\n",
    "\n",
    "num_timesteps = y_pred_labels.shape[1]\n",
    "auroc_timesteps = []\n",
    "for i in range(num_timesteps):\n",
    "    labels = y_test_labels[:, i]\n",
    "    pred_vals = y_pred_values[:, i]\n",
    "    preds = y_pred_labels[:, i]\n",
    "    pred_vals = pred_vals[labels != -1]\n",
    "    preds = preds[labels != -1]\n",
    "    labels = labels[labels != -1]\n",
    "    pred_metrics = print_metrics_binary(labels, pred_vals, preds, verbose=False)\n",
    "    auroc_timesteps.append(pred_metrics[\"auroc\"])\n",
    "\n",
    "\n",
    "prediction_hours = list(range(24, 168, 24))\n",
    "fig = go.Figure(\n",
    "    data=[go.Bar(x=prediction_hours, y=auroc_timesteps, name=\"model confidence\")]\n",
    ")\n",
    "\n",
    "fig.update_xaxes(tickvals=prediction_hours)\n",
    "fig.update_yaxes(range=[min(auroc_timesteps) - 0.05, max(auroc_timesteps) + 0.05])\n",
    "\n",
    "fig.update_layout(\n",
    "    title=\"AUROC split by no. of hours after admission\",\n",
    "    autosize=False,\n",
    "    xaxis_title=\"No. of hours after admission\",\n",
    ")\n",
    "fig.show()"
   ]
  },
  {
   "cell_type": "markdown",
   "id": "1aea19ab-7dc3-4f9e-b073-17f788537b81",
   "metadata": {},
   "source": [
    "## WIP: Compute accuracy across lead times"
   ]
  },
  {
   "cell_type": "code",
   "execution_count": null,
   "id": "5ed54c9c-4e81-4bce-9fe7-09a18296c3de",
   "metadata": {},
   "outputs": [],
   "source": [
    "# BASE_DATA_PATH = \"/mnt/nfs/project/delirium/drift_exp/risk_of_mortality\"\n",
    "\n",
    "# combined_events = load_dataframe(os.path.join(BASE_DATA_PATH, \"combined_events\"))\n",
    "# timestep_end_timestamps = load_dataframe(os.path.join(BASE_DATA_PATH, \"aggmeta_end_ts\"))\n",
    "\n",
    "# mortality_events = combined_events.loc[combined_events[\"event_name\"] == \"death\"]\n",
    "\n",
    "# y_test_labels, y_pred_values, y_pred_labels = opt.evaluate(\n",
    "#     test_loader, batch_size=1, n_features=input_dim, timesteps=timesteps, flatten=False\n",
    "# )\n",
    "# train_val_test_ids = load_dataframe(os.path.join(BASE_DATA_PATH, \"train_val_test_ids\"))\n",
    "# test_ids = train_val_test_ids[\"test\"].dropna()\n",
    "\n",
    "# num_timesteps = y_pred_labels.shape[1]\n",
    "# acc_timesteps = []\n",
    "# for timestep in range(num_timesteps):\n",
    "#     labels = y_test_labels[:, timestep]\n",
    "#     pred_vals = y_pred_values[:, timestep]\n",
    "#     preds = y_pred_labels[:, timestep]\n",
    "\n",
    "#     is_correct_timestep = []\n",
    "#     for enc_id in test_ids:\n",
    "#         timestep_end_timestamp = timestep_end_timestamps.loc[enc_id, timestep]\n",
    "#         mortality_timestamp = mortality_events.loc[mortality_events[\"encounter_id\"] == enc_id][\"discharge_timestamp\"]\n",
    "#         lead_time = mortality_timestamp - timestep_end_timestamp\n",
    "#         print(timestep_end_timestamp, mortality_timestamp)\n",
    "#         if (lead_time > pd.to_timedelta(0, unit=\"h\")).all():\n",
    "#             label_ = labels[test_ids.index(enc_id)]\n",
    "#             pred_ = preds[test_ids.index(enc_id)]\n",
    "\n",
    "#             if label_ == 1:\n",
    "#                 if label_ == pred_:\n",
    "#                     is_correct_timestep.append(1)\n",
    "#                 else:\n",
    "#                     is_correct_timestep.append(0)\n",
    "\n",
    "#     acc_timesteps.append(sum(is_correct_timestep) / len(is_correct_timestep))"
   ]
  },
  {
   "cell_type": "markdown",
   "id": "d8825f3a-a941-456b-b418-db620c224eb0",
   "metadata": {},
   "source": [
    "## Visualize model outputs and labels"
   ]
  },
  {
   "cell_type": "code",
   "execution_count": null,
   "id": "5bc758ab-2734-4f03-9615-f1f0feb43b1a",
   "metadata": {},
   "outputs": [],
   "source": [
    "def plot_risk_mortality(predictions, labels=None):\n",
    "    prediction_hours = list(range(24, 168, 24))\n",
    "    is_mortality = labels == 1\n",
    "    after_discharge = labels == -1\n",
    "    label_h = -0.2\n",
    "    fig = go.Figure(\n",
    "        data=[\n",
    "            go.Scatter(\n",
    "                mode=\"markers\",\n",
    "                x=prediction_hours,\n",
    "                y=[label_h for x in prediction_hours],\n",
    "                line=dict(color=\"Black\"),\n",
    "                name=\"low risk of mortality label\",\n",
    "                marker=dict(color=\"Green\", size=20, line=dict(color=\"Black\", width=2)),\n",
    "            ),\n",
    "            go.Scatter(\n",
    "                mode=\"markers\",\n",
    "                x=[prediction_hours[i] for i, v in enumerate(is_mortality) if v],\n",
    "                y=[label_h for _, v in enumerate(is_mortality) if v],\n",
    "                line=dict(color=\"Red\"),\n",
    "                name=\"high risk of mortality label\",\n",
    "                marker=dict(color=\"Red\", size=20, line=dict(color=\"Black\", width=2)),\n",
    "            ),\n",
    "            go.Scatter(\n",
    "                mode=\"markers\",\n",
    "                x=[prediction_hours[i] for i, v in enumerate(after_discharge) if v],\n",
    "                y=[label_h for _, v in enumerate(after_discharge) if v],\n",
    "                line=dict(color=\"Grey\"),\n",
    "                name=\"post discharge label\",\n",
    "                marker=dict(color=\"Grey\", size=20, line=dict(color=\"Black\", width=2)),\n",
    "            ),\n",
    "            go.Bar(\n",
    "                x=prediction_hours,\n",
    "                y=predictions,\n",
    "                marker_color=\"Red\",\n",
    "                name=\"model confidence\",\n",
    "            ),\n",
    "        ]\n",
    "    )\n",
    "    fig.update_yaxes(range=[label_h, 1])\n",
    "    fig.update_xaxes(tickvals=prediction_hours)\n",
    "    fig.update_xaxes(showline=True, linewidth=2, linecolor=\"black\")\n",
    "\n",
    "    fig.add_hline(y=0.5)\n",
    "\n",
    "    fig.update_layout(\n",
    "        title=\"Model output visualization\",\n",
    "        autosize=False,\n",
    "        xaxis_title=\"No. of hours after admission\",\n",
    "        yaxis_title=\"Model confidence\",\n",
    "    )\n",
    "\n",
    "    return fig\n",
    "\n",
    "\n",
    "mortality_cases = [idx for idx, v in enumerate(y_test_labels)]\n",
    "sample_idx = random.choice(mortality_cases)\n",
    "fig = plot_risk_mortality(\n",
    "    y_pred_values[sample_idx].squeeze(), y_test_labels[sample_idx]\n",
    ")\n",
    "fig.show()"
   ]
  },
  {
   "cell_type": "markdown",
   "id": "e8e182f4-e943-4e8f-ac45-8c445ed064c5",
   "metadata": {},
   "source": [
    "## Journal of some experiments"
   ]
  },
  {
   "cell_type": "code",
   "execution_count": 50,
   "id": "eee214c4-83af-4832-87f4-e441afd623ce",
   "metadata": {},
   "outputs": [
    {
     "name": "stdout",
     "output_type": "stream",
     "text": [
      "[[9782 1292]\n",
      " [2762 2805]]\n",
      "confusion matrix:\n",
      "[[9782 1292]\n",
      " [2762 2805]]\n",
      "accuracy = 0.7563848495483398\n",
      "precision class 0 = 0.7798150777816772\n",
      "precision class 1 = 0.6846473217010498\n",
      "recall class 0 = 0.8833303451538086\n",
      "recall class 1 = 0.5038620233535767\n",
      "AUC of ROC = 0.8012392601996614\n",
      "AUC of PRC = 0.67758512683843\n",
      "min(+P, Se) = 0.6267504488330341\n",
      "Precision: 0.7322311997413635\n",
      "Recall: 0.6935961842536926\n"
     ]
    }
   ],
   "source": [
    "### Val Metrics (covid)"
   ]
  },
  {
   "cell_type": "code",
   "execution_count": 51,
   "id": "7e02545b-0a39-4d8c-8acb-f2c97eb78728",
   "metadata": {},
   "outputs": [
    {
     "name": "stdout",
     "output_type": "stream",
     "text": [
      "[[2932  247]\n",
      " [1284 1038]]\n",
      "confusion matrix:\n",
      "[[2932  247]\n",
      " [1284 1038]]\n",
      "accuracy = 0.7216869592666626\n",
      "precision class 0 = 0.6954458951950073\n",
      "precision class 1 = 0.8077821135520935\n",
      "recall class 0 = 0.9223026037216187\n",
      "recall class 1 = 0.44702842831611633\n",
      "AUC of ROC = 0.803191717068759\n",
      "AUC of PRC = 0.7586217683746967\n",
      "min(+P, Se) = 0.6722652885443583\n",
      "Precision: 0.751613974571228\n",
      "Recall: 0.6846655011177063\n"
     ]
    }
   ],
   "source": [
    "### Test Metrics (covid)"
   ]
  },
  {
   "cell_type": "code",
   "execution_count": null,
   "id": "0308603e-dd2b-419a-a4b7-3b67389d966b",
   "metadata": {},
   "outputs": [
    {
     "name": "stdout",
     "output_type": "stream",
     "text": [
      "[[3575  606]\n",
      " [ 977  932]]\n",
      "confusion matrix:\n",
      "[[3575  606]\n",
      " [ 977  932]]\n",
      "accuracy = 0.7400656938552856\n",
      "precision class 0 = 0.7853690981864929\n",
      "precision class 1 = 0.6059817671775818\n",
      "recall class 0 = 0.8550586104393005\n",
      "recall class 1 = 0.4882137179374695\n",
      "AUC of ROC = 0.7499390154442839\n",
      "AUC of PRC = 0.5656325748774201\n",
      "min(+P, Se) = 0.560376372190277\n",
      "Precision: 0.6956754326820374\n",
      "Recall: 0.671636164188385\n"
     ]
    }
   ],
   "source": [
    "### Val Metrics (seasonal)"
   ]
  },
  {
   "cell_type": "code",
   "execution_count": 36,
   "id": "4ee3eb9c-2c54-464f-af45-b56ad50328f8",
   "metadata": {},
   "outputs": [
    {
     "name": "stdout",
     "output_type": "stream",
     "text": [
      "[[13601  2411]\n",
      " [ 4608  3906]]\n",
      "confusion matrix:\n",
      "[[13601  2411]\n",
      " [ 4608  3906]]\n",
      "accuracy = 0.7138139009475708\n",
      "precision class 0 = 0.7469383478164673\n",
      "precision class 1 = 0.6183314919471741\n",
      "recall class 0 = 0.8494254350662231\n",
      "recall class 1 = 0.45877379179000854\n",
      "AUC of ROC = 0.7276978290770999\n",
      "AUC of PRC = 0.5793506812041425\n",
      "min(+P, Se) = 0.5755226685459244\n",
      "Precision: 0.6826349496841431\n",
      "Recall: 0.6540995836257935\n"
     ]
    }
   ],
   "source": [
    "### Test Metrics (seasonal)"
   ]
  },
  {
   "cell_type": "code",
   "execution_count": 50,
   "id": "d88a1b76-c4ed-4d75-b6ca-77959e0f8f28",
   "metadata": {},
   "outputs": [
    {
     "name": "stdout",
     "output_type": "stream",
     "text": [
      "[[6393  717]\n",
      " [1549 1212]]\n",
      "confusion matrix:\n",
      "[[6393  717]\n",
      " [1549 1212]]\n",
      "accuracy = 0.7704386711120605\n",
      "precision class 0 = 0.8049609661102295\n",
      "precision class 1 = 0.6283048391342163\n",
      "recall class 0 = 0.8991560935974121\n",
      "recall class 1 = 0.4389714002609253\n",
      "AUC of ROC = 0.7895631385721659\n",
      "AUC of PRC = 0.6116704744660759\n",
      "min(+P, Se) = 0.563787495482472\n",
      "Precision: 0.7166329026222229\n",
      "Recall: 0.6690637469291687\n"
     ]
    }
   ],
   "source": [
    "### Val Metrics (covid)"
   ]
  },
  {
   "cell_type": "code",
   "execution_count": 42,
   "id": "68f38507-afbb-40d8-a974-e7a56ad93b9a",
   "metadata": {},
   "outputs": [
    {
     "name": "stdout",
     "output_type": "stream",
     "text": [
      "[[13490  2178]\n",
      " [ 6870  5545]]\n",
      "confusion matrix:\n",
      "[[13490  2178]\n",
      " [ 6870  5545]]\n",
      "accuracy = 0.6778122186660767\n",
      "precision class 0 = 0.6625736951828003\n",
      "precision class 1 = 0.717985212802887\n",
      "recall class 0 = 0.8609905242919922\n",
      "recall class 1 = 0.4466371238231659\n",
      "AUC of ROC = 0.7313315996825387\n",
      "AUC of PRC = 0.6916549001198892\n",
      "min(+P, Se) = 0.6353898195876289\n",
      "Precision: 0.690279483795166\n",
      "Recall: 0.6538138389587402\n"
     ]
    }
   ],
   "source": [
    "#Test Metrics (hosp type)"
   ]
  },
  {
   "cell_type": "markdown",
   "id": "9cb21dd9-83a7-4b49-b328-655bf02a3c8b",
   "metadata": {},
   "source": [
    "\n",
    "<table>\n",
    "    <thead>\n",
    "        <tr>\n",
    "            <th>Split</th>\n",
    "            <th>Model</th>\n",
    "            <th>AUROC</th>\n",
    "        </tr>\n",
    "    </thead>\n",
    "    <tbody>\n",
    "        <tr>\n",
    "            <td rowspan=4>Random</td>\n",
    "        </tr>\n",
    "        <tr>\n",
    "            <td>LSTM</td>\n",
    "            <td><b>0.8005</b></td>\n",
    "        </tr>\n",
    "          <tr style=\"border-bottom:1px solid black\">\n",
    "            <td colspan=\"100%\"></td>\n",
    "          </tr>\n",
    "          <tr> ... </tr>\n",
    "    </tbody>\n",
    "</table>"
   ]
  }
 ],
 "metadata": {
  "kernelspec": {
   "display_name": "cyclops-KKtuQLwg-py3.9",
   "language": "python",
   "name": "cyclops-kktuqlwg-py3.9"
  },
  "language_info": {
   "codemirror_mode": {
    "name": "ipython",
    "version": 3
   },
   "file_extension": ".py",
   "mimetype": "text/x-python",
   "name": "python",
   "nbconvert_exporter": "python",
   "pygments_lexer": "ipython3",
   "version": "3.9.7"
  }
 },
 "nbformat": 4,
 "nbformat_minor": 5
}
