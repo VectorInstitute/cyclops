{
 "cells": [
  {
   "cell_type": "code",
   "execution_count": null,
   "id": "2deeb4f4-93a0-4f77-b652-b7cc68199411",
   "metadata": {},
   "outputs": [],
   "source": [
    "import sys\n",
    "import random\n",
    "import pandas as pd\n",
    "import numpy as np\n",
    "import torch.nn as nn\n",
    "import torch.optim as optim\n",
    "import matplotlib as mpl\n",
    "import matplotlib.pyplot as plt\n",
    "from sklearn.model_selection import train_test_split\n",
    "\n",
    "sys.append(\"..\")\n",
    "from baseline_models.temporal.pytorch.optimizer import Optimizer\n",
    "from baseline_models.temporal.pytorch.temporal_model_utils import *\n",
    "\n",
    "sys.path.append(\"../..\")\n",
    "from cyclops.feature_handler import FeatureHandler\n",
    "\n",
    "%load_ext autoreload\n",
    "%load_ext nb_black"
   ]
  },
  {
   "cell_type": "code",
   "execution_count": null,
   "id": "c93c5382-6901-4af1-828f-d831dd0a7c35",
   "metadata": {},
   "outputs": [],
   "source": [
    "DIR=\"/mnt/nfs/project/delirium/drift_exp/MAY-31-2022/\"\n",
    "feature_handler = FeatureHandler()\n",
    "feature_handler.load(DIR, \"test_features\")"
   ]
  },
  {
   "cell_type": "code",
   "execution_count": null,
   "id": "93471285-8ee3-48ed-8021-574cb76dfc16",
   "metadata": {},
   "outputs": [],
   "source": [
    "ref_static = feature_handler.reference['static']\n",
    "ref_static"
   ]
  },
  {
   "cell_type": "code",
   "execution_count": null,
   "id": "12066550-01d2-4869-a96b-2ab9c37171ae",
   "metadata": {},
   "outputs": [],
   "source": [
    "static = feature_handler.features['static']\n",
    "print(\"Encounters:\",static.shape[0])\n",
    "print(\"Static Features:\",static.shape[1])"
   ]
  },
  {
   "cell_type": "code",
   "execution_count": null,
   "id": "fec963d0-2cf6-4f18-b90e-cc6f7ff0f104",
   "metadata": {},
   "outputs": [],
   "source": [
    "static"
   ]
  },
  {
   "cell_type": "code",
   "execution_count": null,
   "id": "0762c68f-d914-4c6b-8061-036b4bc2fb9d",
   "metadata": {},
   "outputs": [],
   "source": [
    "static['mortality'] = np.where(\n",
    "        static[\"discharge_disposition\"].isin([7, 66, 72, 73]), 1, 0\n",
    "    )\n",
    "\n",
    "m1 = (static['length_of_stay_in_er']>=0) & (static['length_of_stay_in_er']<7)\n",
    "m2 = (static['length_of_stay_in_er']>=7) & (static['length_of_stay_in_er']<14)\n",
    "m3 = (static['length_of_stay_in_er']>=14) & (static['length_of_stay_in_er']<30)\n",
    "\n",
    "vals = [1, 2, 3]\n",
    "default = 4"
   ]
  },
  {
   "cell_type": "code",
   "execution_count": null,
   "id": "52579432-ad0a-4564-9cad-bb0690b19bab",
   "metadata": {},
   "outputs": [],
   "source": [
    "fig, ax = plt.subplots(figsize=(14, 4))\n",
    "plt.hist(static[\"mortality\"], bins=2, alpha=0.5, width=0.5, label=\"mortality\")\n",
    "fig.legend(loc=\"upper right\")\n",
    "plt.show()"
   ]
  },
  {
   "cell_type": "code",
   "execution_count": null,
   "id": "f8a26261-06a0-4659-85a7-3362bb636213",
   "metadata": {},
   "outputs": [],
   "source": [
    "ref_temporal = feature_handler.reference['temporal']\n",
    "ref_temporal"
   ]
  },
  {
   "cell_type": "code",
   "execution_count": null,
   "id": "d0128912-139c-4cef-9e86-cd787d9fc85f",
   "metadata": {},
   "outputs": [],
   "source": [
    "temporal = feature_handler.features['temporal']\n",
    "samples=len(temporal.index.unique(level=0))\n",
    "timesteps=len(temporal.index.unique(level=1))\n",
    "features=temporal.shape[1]\n",
    "print(\"Encounters:\",samples)\n",
    "print(\"Timesteps:\",timesteps)\n",
    "print(\"Temporal Features:\",features)"
   ]
  },
  {
   "cell_type": "code",
   "execution_count": null,
   "id": "deb9b875-8343-4557-aee3-83f0f28e303c",
   "metadata": {},
   "outputs": [],
   "source": [
    "temporal = temporal.rename_axis(\"features\", axis=\"columns\")\n",
    "temporal"
   ]
  },
  {
   "cell_type": "code",
   "execution_count": null,
   "id": "810aab27-5fc4-4271-98eb-16f0917eb520",
   "metadata": {},
   "outputs": [],
   "source": [
    "batch_size = 1\n",
    "input_dim = features*3\n",
    "output_dim = 1\n",
    "hidden_dim = 128\n",
    "layer_dim = 1\n",
    "dropout = 0.2\n",
    "n_epochs = 10\n",
    "learning_rate = 1e-3\n",
    "weight_decay = 1e-6\n",
    "\n",
    "device = get_device()\n",
    "\n",
    "outcome = \"mortality\"\n",
    "\n",
    "X = temporal[np.in1d(temporal.index.get_level_values(0), static.index.get_level_values(0))]\n",
    "y = static[np.in1d(static.index.get_level_values(0), X.index.get_level_values(0))]\n",
    "y_train, y_val = train_test_split(y, test_size=1/2)\n",
    "y_val, y_test = train_test_split(y_val, test_size=1/2)\n",
    "X_train = X[np.in1d(X.index.get_level_values(0), y_train.index.get_level_values(0))]\n",
    "X_train_inputs = format_dataset(X_train, level=\"features\",imputation_method=\"simple\")\n",
    "X_val = X[np.in1d(X.index.get_level_values(0), y_val.index.get_level_values(0))]\n",
    "X_val_inputs = format_dataset(X_val, level=\"features\",imputation_method=\"simple\")\n",
    "X_test = X[np.in1d(X.index.get_level_values(0), y_test.index.get_level_values(0))]\n",
    "X_test_inputs = format_dataset(X_test, level=\"features\",imputation_method=\"simple\")\n",
    "y_train = y_train[[outcome]].to_numpy()\n",
    "y_val = y_val[[outcome]].to_numpy()\n",
    "y_test = y_test[[outcome]].to_numpy()\n",
    "\n",
    "train_dataset = get_data(X_train_inputs,y_train)\n",
    "train_loader = train_dataset.to_loader(batch_size) \n",
    "\n",
    "val_dataset = get_data(X_val_inputs,y_val)\n",
    "val_loader = val_dataset.to_loader(batch_size)"
   ]
  },
  {
   "cell_type": "code",
   "execution_count": null,
   "id": "3f5debd9-db36-4d80-87dd-a5c87411d9d9",
   "metadata": {},
   "outputs": [],
   "source": [
    "model_params = {'device': device,\n",
    "                'input_dim': input_dim,\n",
    "                'hidden_dim' : hidden_dim,\n",
    "                'layer_dim' : layer_dim,\n",
    "                'output_dim' : output_dim,\n",
    "                'dropout_prob' : dropout}\n",
    "\n",
    "model = get_temporal_model('lstmcell', model_params).to(device)"
   ]
  },
  {
   "cell_type": "code",
   "execution_count": null,
   "id": "be852932-a909-4496-98b4-13d9b97bdd8b",
   "metadata": {},
   "outputs": [],
   "source": [
    "loss_fn = nn.BCEWithLogitsLoss()\n",
    "optimizer = optim.Adagrad(model.parameters(), lr=learning_rate, weight_decay=weight_decay)\n",
    "activation = nn.Sigmoid()\n",
    "opt = Optimizer(model=model, loss_fn=loss_fn, optimizer=optimizer,activation=activation)\n",
    "opt.train(train_loader, val_loader, batch_size=batch_size, n_epochs=n_epochs, n_features=input_dim)\n",
    "opt.plot_losses()"
   ]
  },
  {
   "cell_type": "code",
   "execution_count": null,
   "id": "0ad1b59f-82e9-4def-9ce7-ff16c4b5df21",
   "metadata": {},
   "outputs": [],
   "source": [
    "test_dataset = get_data(X_test_inputs,y_test)\n",
    "test_loader = torch.utils.data.DataLoader(test_dataset, batch_size=1, shuffle=False, drop_last=True)\n",
    "predictions, values, tags = opt.evaluate(test_loader, batch_size=1, n_features=input_dim)"
   ]
  },
  {
   "cell_type": "code",
   "execution_count": null,
   "id": "762fb61c-3a02-438a-abd2-238a70d5a807",
   "metadata": {},
   "outputs": [],
   "source": [
    "df_result = format_predictions(predictions, values, tags, X_test)"
   ]
  },
  {
   "cell_type": "code",
   "execution_count": null,
   "id": "479c3872-3ef6-4364-bbb1-1d0bef1d0669",
   "metadata": {},
   "outputs": [],
   "source": [
    "df_result.head(n=20)"
   ]
  },
  {
   "cell_type": "code",
   "execution_count": null,
   "id": "f1223d5f-f1c3-4991-8ee8-2ac28a0d9316",
   "metadata": {},
   "outputs": [],
   "source": []
  }
 ],
 "metadata": {
  "kernelspec": {
   "display_name": "cyclops",
   "language": "python",
   "name": "cyclops"
  },
  "language_info": {
   "codemirror_mode": {
    "name": "ipython",
    "version": 3
   },
   "file_extension": ".py",
   "mimetype": "text/x-python",
   "name": "python",
   "nbconvert_exporter": "python",
   "pygments_lexer": "ipython3",
   "version": "3.9.7"
  }
 },
 "nbformat": 4,
 "nbformat_minor": 5
}
