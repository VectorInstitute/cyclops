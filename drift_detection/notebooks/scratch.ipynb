{
 "cells": [
  {
   "cell_type": "code",
   "execution_count": null,
   "id": "556486d0",
   "metadata": {},
   "outputs": [],
   "source": [
    "from sklearn.ensemble import RandomForestClassifier\n",
    "import torch.nn as nn\n",
    "import torch"
   ]
  },
  {
   "cell_type": "code",
   "execution_count": null,
   "id": "d82a0c57",
   "metadata": {},
   "outputs": [],
   "source": [
    "rf = RandomForestClassifier()"
   ]
  },
  {
   "cell_type": "code",
   "execution_count": null,
   "id": "7dcdaf44",
   "metadata": {},
   "outputs": [],
   "source": [
    "rf.__class__.__name__"
   ]
  },
  {
   "cell_type": "code",
   "execution_count": null,
   "id": "13c57399",
   "metadata": {},
   "outputs": [],
   "source": [
    "str(type(rf))[8:].split('.')[0]"
   ]
  },
  {
   "cell_type": "code",
   "execution_count": null,
   "id": "df4d8b67",
   "metadata": {},
   "outputs": [],
   "source": [
    "m1 = nn.Sequential(\n",
    "    nn.LazyLinear(32),\n",
    "    nn.Linear(32, 32)\n",
    ")"
   ]
  },
  {
   "cell_type": "code",
   "execution_count": null,
   "id": "3347a82e",
   "metadata": {},
   "outputs": [],
   "source": [
    "x = torch.rand(1, 33)"
   ]
  },
  {
   "cell_type": "code",
   "execution_count": null,
   "id": "96079412",
   "metadata": {},
   "outputs": [],
   "source": [
    "m1(x)"
   ]
  },
  {
   "cell_type": "code",
   "execution_count": null,
   "id": "a9ae7540",
   "metadata": {},
   "outputs": [],
   "source": [
    "torch.save(m1.state_dict(), 'weight.pt')"
   ]
  },
  {
   "cell_type": "code",
   "execution_count": null,
   "id": "da7ab252",
   "metadata": {},
   "outputs": [],
   "source": [
    "m1 = nn.Sequential(\n",
    "    nn.LazyLinear(32),\n",
    "    nn.Linear(32, 32)\n",
    ")"
   ]
  },
  {
   "cell_type": "code",
   "execution_count": null,
   "id": "233ca06c",
   "metadata": {},
   "outputs": [],
   "source": [
    "m1.load_state_dict(torch.load('weight.pt'))"
   ]
  }
 ],
 "metadata": {
  "kernelspec": {
   "display_name": "cyclops",
   "language": "python",
   "name": "cyclops"
  },
  "language_info": {
   "codemirror_mode": {
    "name": "ipython",
    "version": 3
   },
   "file_extension": ".py",
   "mimetype": "text/x-python",
   "name": "python",
   "nbconvert_exporter": "python",
   "pygments_lexer": "ipython3",
   "version": "3.9.7"
  }
 },
 "nbformat": 4,
 "nbformat_minor": 5
}
