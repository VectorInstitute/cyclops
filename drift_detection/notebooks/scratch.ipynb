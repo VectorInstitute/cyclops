{
 "cells": [
  {
   "cell_type": "code",
   "execution_count": 16,
   "id": "556486d0",
   "metadata": {},
   "outputs": [],
   "source": [
    "from sklearn.ensemble import RandomForestClassifier\n",
    "import torch.nn as nn\n",
    "import torch"
   ]
  },
  {
   "cell_type": "code",
   "execution_count": 2,
   "id": "d82a0c57",
   "metadata": {},
   "outputs": [],
   "source": [
    "rf = RandomForestClassifier()"
   ]
  },
  {
   "cell_type": "code",
   "execution_count": 6,
   "id": "7dcdaf44",
   "metadata": {},
   "outputs": [
    {
     "data": {
      "text/plain": [
       "'RandomForestClassifier'"
      ]
     },
     "execution_count": 6,
     "metadata": {},
     "output_type": "execute_result"
    }
   ],
   "source": [
    "rf.__class__.__name__"
   ]
  },
  {
   "cell_type": "code",
   "execution_count": 37,
   "id": "13c57399",
   "metadata": {},
   "outputs": [
    {
     "data": {
      "text/plain": [
       "'sklearn'"
      ]
     },
     "execution_count": 37,
     "metadata": {},
     "output_type": "execute_result"
    }
   ],
   "source": [
    "str(type(rf))[8:].split('.')[0]"
   ]
  },
  {
   "cell_type": "code",
   "execution_count": 75,
   "id": "df4d8b67",
   "metadata": {},
   "outputs": [],
   "source": [
    "m1 = nn.Sequential(\n",
    "    nn.LazyLinear(32),\n",
    "    nn.Linear(32, 32)\n",
    ")"
   ]
  },
  {
   "cell_type": "code",
   "execution_count": 76,
   "id": "3347a82e",
   "metadata": {},
   "outputs": [],
   "source": [
    "x = torch.rand(1, 33)"
   ]
  },
  {
   "cell_type": "code",
   "execution_count": 77,
   "id": "96079412",
   "metadata": {},
   "outputs": [
    {
     "data": {
      "text/plain": [
       "tensor([[-0.0999, -0.2052,  0.0258,  0.3287, -0.1628, -0.1717,  0.1734, -0.1279,\n",
       "          0.0996, -0.1653, -0.1611, -0.1872,  0.5636, -0.1159,  0.0350, -0.3266,\n",
       "          0.4082,  0.1111,  0.1466,  0.3053,  0.0529, -0.2654, -0.1661,  0.3056,\n",
       "          0.0536,  0.1363,  0.3330,  0.3689, -0.4923,  0.1204,  0.0460,  0.2156]],\n",
       "       grad_fn=<AddmmBackward0>)"
      ]
     },
     "execution_count": 77,
     "metadata": {},
     "output_type": "execute_result"
    }
   ],
   "source": [
    "m1(x)"
   ]
  },
  {
   "cell_type": "code",
   "execution_count": 78,
   "id": "a9ae7540",
   "metadata": {},
   "outputs": [],
   "source": [
    "torch.save(m1.state_dict(), 'weight.pt')"
   ]
  },
  {
   "cell_type": "code",
   "execution_count": 79,
   "id": "da7ab252",
   "metadata": {},
   "outputs": [],
   "source": [
    "m1 = nn.Sequential(\n",
    "    nn.LazyLinear(32),\n",
    "    nn.Linear(32, 32)\n",
    ")"
   ]
  },
  {
   "cell_type": "code",
   "execution_count": 80,
   "id": "233ca06c",
   "metadata": {},
   "outputs": [
    {
     "data": {
      "text/plain": [
       "<All keys matched successfully>"
      ]
     },
     "execution_count": 80,
     "metadata": {},
     "output_type": "execute_result"
    }
   ],
   "source": [
    "m1.load_state_dict(torch.load('weight.pt'))"
   ]
  }
 ],
 "metadata": {
  "kernelspec": {
   "display_name": "cyclops",
   "language": "python",
   "name": "cyclops"
  },
  "language_info": {
   "codemirror_mode": {
    "name": "ipython",
    "version": 3
   },
   "file_extension": ".py",
   "mimetype": "text/x-python",
   "name": "python",
   "nbconvert_exporter": "python",
   "pygments_lexer": "ipython3",
   "version": "3.9.7"
  }
 },
 "nbformat": 4,
 "nbformat_minor": 5
}
