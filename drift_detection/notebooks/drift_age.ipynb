{
 "cells": [
  {
   "cell_type": "code",
   "execution_count": 4,
   "id": "swiss-meditation",
   "metadata": {},
   "outputs": [],
   "source": [
    "import sys\n",
    "sys.path.append(\"../drift-detection\")\n",
    "from shift_detector import *\n",
    "from shift_reductor import *\n",
    "from shift_experiments import *\n",
    "from shift_tester import *\n",
    "import pandas as pd\n",
    "import os\n",
    "from shift_utils import *\n",
    "from shift_constants import *\n",
    "from shift_plot_utils import *\n",
    "from alibi_detect.cd import ChiSquareDrift, TabularDrift\n",
    "import matplotlib as mpl\n",
    "import matplotlib.pyplot as plt"
   ]
  },
  {
   "cell_type": "markdown",
   "id": "orange-fraction",
   "metadata": {},
   "source": [
    "### Load data ###"
   ]
  },
  {
   "cell_type": "code",
   "execution_count": 16,
   "id": "divided-lodge",
   "metadata": {},
   "outputs": [],
   "source": [
    "(X_tr, y_tr), (X_val, y_val), (X_t, y_t), orig_dims = import_dataset('los',shuffle=True,)\n",
    "(X_t_1, y_t_1) = apply_shift(X_tr, y_tr, X_t, y_t, 'small_gn_shift_0.1')"
   ]
  },
  {
   "cell_type": "markdown",
   "id": "reflected-summer",
   "metadata": {},
   "source": [
    "### Plot ###"
   ]
  },
  {
   "cell_type": "code",
   "execution_count": 22,
   "id": "happy-programmer",
   "metadata": {},
   "outputs": [
    {
     "data": {
      "image/png": "[encoded data removed]",
      "text/plain": [
       "<Figure size 792x432 with 1 Axes>"
      ]
     },
     "metadata": {
      "needs_background": "light"
     },
     "output_type": "display_data"
    }
   ],
   "source": [
    "fig, ax = plt.subplots(figsize=(11, 6))\n",
    "plt.hist(X_tr[:,0], bins=50, alpha=0.5,label='train')\n",
    "plt.hist(X_val[:,0], bins=50, alpha=0.5, label='val')\n",
    "plt.hist(X_t_1[:,0], bins=50, alpha=0.5 , label='test+noise')\n",
    "fig.legend(loc='upper right')\n",
    "plt.show()"
   ]
  },
  {
   "cell_type": "markdown",
   "id": "painted-equivalent",
   "metadata": {},
   "source": [
    "### KS Test ###"
   ]
  },
  {
   "cell_type": "code",
   "execution_count": 23,
   "id": "korean-correlation",
   "metadata": {},
   "outputs": [
    {
     "name": "stdout",
     "output_type": "stream",
     "text": [
      "sex Drift? Yes! P-value: 1.3406529433268588e-06\n",
      "icd10_C00_D49 Drift? Yes! P-value: 0.00627606688067317\n",
      "age Drift? Yes! P-value: 0.026416651904582977\n"
     ]
    },
    {
     "name": "stderr",
     "output_type": "stream",
     "text": [
      "\n",
      "A value is trying to be set on a copy of a slice from a DataFrame.\n",
      "Try using .loc[row_indexer,col_indexer] = value instead\n",
      "\n",
      "See the caveats in the documentation: https://pandas.pydata.org/pandas-docs/stable/user_guide/indexing.html#returning-a-view-versus-a-copy\n",
      "torch.range is deprecated and will be removed in a future release because its behavior is inconsistent with Python's range builtin. Instead, use torch.arange, which produces values in [start, end).\n"
     ]
    }
   ],
   "source": [
    "test_hosp='UHNTG'\n",
    "train_hosp='SMH'\n",
    "(X_tr, y_tr), (X_val, y_val), (X_t, y_t), orig_dims = import_dataset_hospital('los',[HOSPITAL_ID[train_hosp]],[HOSPITAL_ID[test_hosp]])\n",
    "sample = X_val.shape[0]\n",
    "cd = TabularDrift(X_val, p_val=.05)\n",
    "preds = cd.predict(X_t[0:sample,])\n",
    "labels = ['No!', 'Yes!']\n",
    "import scipy.stats as ss\n",
    "pvals = preds['data']['p_val']\n",
    "feat_rank = ss.rankdata(pvals)\n",
    "for i in range(0,len(pvals)):\n",
    "    i = int(i)\n",
    "    if i == 3:\n",
    "        break\n",
    "    n = i+1\n",
    "    feat_index = np.where(feat_rank == n)[0][0]\n",
    "    print('{} Drift? {} P-value: {}'.format(features[feat_index],labels[preds['data']['is_drift']],pvals[feat_index]))\n"
   ]
  },
  {
   "cell_type": "code",
   "execution_count": null,
   "id": "respective-synthetic",
   "metadata": {},
   "outputs": [],
   "source": [
    "label = 'los'\n",
    "feat_index = np.where(feat_rank == 1)[0][0]\n",
    "fig, ax = plt.subplots(figsize=(11, 6))\n",
    "if features[feat_index] == \"age\":\n",
    "    plt.hist(X_tr[:,feat_index], bins=50, alpha=0.5,label=train_hosp)\n",
    "    plt.hist(X_val[:,feat_index], bins=50, alpha=0.5, label=train_hosp)\n",
    "    plt.hist(X_t[0:sample,feat_index], bins=50, alpha=0.5 , label=test_hosp)\n",
    "else:\n",
    "    #fig.add_axes([0,1])\n",
    "    X_tr = pd.concat([pd.DataFrame(X_tr,columns=features),pd.DataFrame(y_tr,columns=['los'])],axis=1)\n",
    "    X_tr_pos = X_tr.loc[X_tr[label] == 1]\n",
    "    plt.bar([0,1],np.bincount(X_tr[features[feat_index]]),color='g')\n",
    "    plt.bar([0,1],np.bincount(X_tr_pos[features[feat_index]]),color='r')\n",
    "  #  X_val_pos = X_val.loc[X_val[label] == 1]\n",
    "  #  plt.bar([0,1],np.bincount(X_val[:,feat_index]))\n",
    "    X_t = pd.concat([pd.DataFrame(X_t,columns=features),pd.DataFrame(y_t,columns=['los'])],axis=1)\n",
    "    X_t_pos = X_t.loc[X_t[label] == 1]  \n",
    "    plt.bar([0,1]+0.25,np.bincount(X_t[:,feat_index]),color='g')\n",
    "    plt.bar([0,1]+0.25,np.bincount(X_t_pos[:,feat_index]),color='r')\n",
    "    #'LOS ',\"LOS > 7 days\"\n",
    "fig.legend(loc='upper right')\n",
    "plt.show()"
   ]
  },
  {
   "cell_type": "markdown",
   "id": "social-domestic",
   "metadata": {},
   "source": [
    "### MMD ###"
   ]
  },
  {
   "cell_type": "code",
   "execution_count": 11,
   "id": "sacred-reduction",
   "metadata": {},
   "outputs": [
    {
     "name": "stdout",
     "output_type": "stream",
     "text": [
      "No GPU detected, fall back on CPU.\n",
      "Drift? Yes! P-value: 0.009999999776482582\n"
     ]
    }
   ],
   "source": [
    "#preprocess_fn = partial(preprocess_drift, model=encoder_net, device=device, batch_size=512)\n",
    "cd = MMDDrift(X_val, backend='pytorch', p_val=.05,)\n",
    "preds = cd.predict(X_t_1)\n",
    "print('Drift? {} P-value: {}'.format(labels[preds['data']['is_drift']],preds['data']['p_val']))"
   ]
  },
  {
   "cell_type": "markdown",
   "id": "rising-arrangement",
   "metadata": {},
   "source": [
    "### All Multivariate ###"
   ]
  },
  {
   "cell_type": "code",
   "execution_count": 6,
   "id": "mature-silver",
   "metadata": {},
   "outputs": [
    {
     "name": "stdout",
     "output_type": "stream",
     "text": [
      "Shift medium_gn_shift_0.1\n"
     ]
    },
    {
     "name": "stderr",
     "output_type": "stream",
     "text": [
      "torch.range is deprecated and will be removed in a future release because its behavior is inconsistent with Python's range builtin. Instead, use torch.arange, which produces values in [start, end).\n"
     ]
    },
    {
     "name": "stdout",
     "output_type": "stream",
     "text": [
      "Random Run 0 : Sample 10\n",
      "No GPU detected, fall back on CPU.\n",
      "Shift p-vals:  0.019999999552965164\n",
      "Random Run 0 : Sample 50\n",
      "No GPU detected, fall back on CPU.\n",
      "Shift p-vals:  0.07000000029802322\n",
      "Random Run 0 : Sample 100\n",
      "No GPU detected, fall back on CPU.\n",
      "Shift p-vals:  0.029999999329447746\n",
      "Random Run 0 : Sample 500\n",
      "No GPU detected, fall back on CPU.\n",
      "Shift p-vals:  0.10000000149011612\n",
      "Random Run 0 : Sample 1000\n",
      "No GPU detected, fall back on CPU.\n",
      "Shift p-vals:  0.949999988079071\n",
      "Random Run 1 : Sample 10\n",
      "No GPU detected, fall back on CPU.\n",
      "Shift p-vals:  0.03999999910593033\n",
      "Random Run 1 : Sample 50\n",
      "No GPU detected, fall back on CPU.\n",
      "Shift p-vals:  0.029999999329447746\n",
      "Random Run 1 : Sample 100\n",
      "No GPU detected, fall back on CPU.\n",
      "Shift p-vals:  0.46000000834465027\n",
      "Random Run 1 : Sample 500\n",
      "No GPU detected, fall back on CPU.\n",
      "Shift p-vals:  0.10000000149011612\n",
      "Random Run 1 : Sample 1000\n",
      "No GPU detected, fall back on CPU.\n",
      "Shift p-vals:  0.1899999976158142\n",
      "Random Run 2 : Sample 10\n",
      "No GPU detected, fall back on CPU.\n",
      "Shift p-vals:  0.05000000074505806\n",
      "Random Run 2 : Sample 50\n",
      "No GPU detected, fall back on CPU.\n",
      "Shift p-vals:  0.41999998688697815\n",
      "Random Run 2 : Sample 100\n",
      "No GPU detected, fall back on CPU.\n",
      "Shift p-vals:  0.1599999964237213\n",
      "Random Run 2 : Sample 500\n",
      "No GPU detected, fall back on CPU.\n",
      "Shift p-vals:  0.6000000238418579\n",
      "Random Run 2 : Sample 1000\n",
      "No GPU detected, fall back on CPU.\n",
      "Shift p-vals:  0.8100000023841858\n",
      "Random Run 3 : Sample 10\n",
      "No GPU detected, fall back on CPU.\n",
      "Shift p-vals:  0.0\n",
      "Random Run 3 : Sample 50\n",
      "No GPU detected, fall back on CPU.\n",
      "Shift p-vals:  0.0\n",
      "Random Run 3 : Sample 100\n",
      "No GPU detected, fall back on CPU.\n",
      "Shift p-vals:  0.0\n",
      "Random Run 3 : Sample 500\n",
      "No GPU detected, fall back on CPU.\n",
      "Shift p-vals:  0.4099999964237213\n",
      "Random Run 3 : Sample 1000\n",
      "No GPU detected, fall back on CPU.\n",
      "Shift p-vals:  1.0\n",
      "Random Run 4 : Sample 10\n",
      "No GPU detected, fall back on CPU.\n",
      "Shift p-vals:  0.0\n",
      "Random Run 4 : Sample 50\n",
      "No GPU detected, fall back on CPU.\n",
      "Shift p-vals:  0.019999999552965164\n",
      "Random Run 4 : Sample 100\n",
      "No GPU detected, fall back on CPU.\n",
      "Shift p-vals:  0.36000001430511475\n",
      "Random Run 4 : Sample 500\n",
      "No GPU detected, fall back on CPU.\n",
      "Shift p-vals:  0.4099999964237213\n",
      "Random Run 4 : Sample 1000\n",
      "No GPU detected, fall back on CPU.\n",
      "Shift p-vals:  0.36000001430511475\n",
      "Shift medium_gn_shift_0.1\n"
     ]
    },
    {
     "name": "stderr",
     "output_type": "stream",
     "text": [
      "torch.range is deprecated and will be removed in a future release because its behavior is inconsistent with Python's range builtin. Instead, use torch.arange, which produces values in [start, end).\n",
      "No GPU detected, fall back on CPU.\n",
      "No GPU detected, fall back on CPU.\n",
      "No GPU detected, fall back on CPU.\n"
     ]
    },
    {
     "name": "stdout",
     "output_type": "stream",
     "text": [
      "Random Run 0 : Sample 10\n",
      "Shift p-vals:  0.5\n",
      "Random Run 0 : Sample 50\n",
      "Shift p-vals:  0.019999999552965164\n",
      "Random Run 0 : Sample 100\n"
     ]
    },
    {
     "name": "stderr",
     "output_type": "stream",
     "text": [
      "No GPU detected, fall back on CPU.\n"
     ]
    },
    {
     "name": "stdout",
     "output_type": "stream",
     "text": [
      "Shift p-vals:  0.9900000095367432\n",
      "Random Run 0 : Sample 500\n"
     ]
    },
    {
     "name": "stderr",
     "output_type": "stream",
     "text": [
      "No GPU detected, fall back on CPU.\n"
     ]
    },
    {
     "name": "stdout",
     "output_type": "stream",
     "text": [
      "Shift p-vals:  0.4000000059604645\n",
      "Random Run 0 : Sample 1000\n",
      "Shift p-vals:  0.49000000953674316\n"
     ]
    },
    {
     "name": "stderr",
     "output_type": "stream",
     "text": [
      "No GPU detected, fall back on CPU.\n",
      "No GPU detected, fall back on CPU.\n",
      "No GPU detected, fall back on CPU.\n"
     ]
    },
    {
     "name": "stdout",
     "output_type": "stream",
     "text": [
      "Random Run 1 : Sample 10\n",
      "Shift p-vals:  1.0\n",
      "Random Run 1 : Sample 50\n",
      "Shift p-vals:  0.9900000095367432\n",
      "Random Run 1 : Sample 100\n"
     ]
    },
    {
     "name": "stderr",
     "output_type": "stream",
     "text": [
      "No GPU detected, fall back on CPU.\n"
     ]
    },
    {
     "name": "stdout",
     "output_type": "stream",
     "text": [
      "Shift p-vals:  0.03999999910593033\n",
      "Random Run 1 : Sample 500\n"
     ]
    },
    {
     "name": "stderr",
     "output_type": "stream",
     "text": [
      "No GPU detected, fall back on CPU.\n"
     ]
    },
    {
     "name": "stdout",
     "output_type": "stream",
     "text": [
      "Shift p-vals:  0.05000000074505806\n",
      "Random Run 1 : Sample 1000\n",
      "Shift p-vals:  0.07999999821186066\n"
     ]
    },
    {
     "name": "stderr",
     "output_type": "stream",
     "text": [
      "No GPU detected, fall back on CPU.\n",
      "No GPU detected, fall back on CPU.\n",
      "No GPU detected, fall back on CPU.\n"
     ]
    },
    {
     "name": "stdout",
     "output_type": "stream",
     "text": [
      "Random Run 2 : Sample 10\n",
      "Shift p-vals:  0.20999999344348907\n",
      "Random Run 2 : Sample 50\n",
      "Shift p-vals:  0.6700000166893005\n",
      "Random Run 2 : Sample 100\n"
     ]
    },
    {
     "name": "stderr",
     "output_type": "stream",
     "text": [
      "No GPU detected, fall back on CPU.\n"
     ]
    },
    {
     "name": "stdout",
     "output_type": "stream",
     "text": [
      "Shift p-vals:  0.5199999809265137\n",
      "Random Run 2 : Sample 500\n"
     ]
    },
    {
     "name": "stderr",
     "output_type": "stream",
     "text": [
      "No GPU detected, fall back on CPU.\n"
     ]
    },
    {
     "name": "stdout",
     "output_type": "stream",
     "text": [
      "Shift p-vals:  0.28999999165534973\n",
      "Random Run 2 : Sample 1000\n",
      "Shift p-vals:  0.23000000417232513\n"
     ]
    },
    {
     "name": "stderr",
     "output_type": "stream",
     "text": [
      "No GPU detected, fall back on CPU.\n",
      "No GPU detected, fall back on CPU.\n",
      "No GPU detected, fall back on CPU.\n"
     ]
    },
    {
     "name": "stdout",
     "output_type": "stream",
     "text": [
      "Random Run 3 : Sample 10\n",
      "Shift p-vals:  0.009999999776482582\n",
      "Random Run 3 : Sample 50\n",
      "Shift p-vals:  0.05000000074505806\n",
      "Random Run 3 : Sample 100\n"
     ]
    },
    {
     "name": "stderr",
     "output_type": "stream",
     "text": [
      "No GPU detected, fall back on CPU.\n"
     ]
    },
    {
     "name": "stdout",
     "output_type": "stream",
     "text": [
      "Shift p-vals:  0.4000000059604645\n",
      "Random Run 3 : Sample 500\n"
     ]
    },
    {
     "name": "stderr",
     "output_type": "stream",
     "text": [
      "No GPU detected, fall back on CPU.\n"
     ]
    },
    {
     "name": "stdout",
     "output_type": "stream",
     "text": [
      "Shift p-vals:  1.0\n",
      "Random Run 3 : Sample 1000\n",
      "Shift p-vals:  0.8500000238418579\n"
     ]
    },
    {
     "name": "stderr",
     "output_type": "stream",
     "text": [
      "No GPU detected, fall back on CPU.\n",
      "No GPU detected, fall back on CPU.\n",
      "No GPU detected, fall back on CPU.\n"
     ]
    },
    {
     "name": "stdout",
     "output_type": "stream",
     "text": [
      "Random Run 4 : Sample 10\n",
      "Shift p-vals:  0.029999999329447746\n",
      "Random Run 4 : Sample 50\n",
      "Shift p-vals:  0.8299999833106995\n",
      "Random Run 4 : Sample 100\n"
     ]
    },
    {
     "name": "stderr",
     "output_type": "stream",
     "text": [
      "No GPU detected, fall back on CPU.\n"
     ]
    },
    {
     "name": "stdout",
     "output_type": "stream",
     "text": [
      "Shift p-vals:  0.5099999904632568\n",
      "Random Run 4 : Sample 500\n"
     ]
    },
    {
     "name": "stderr",
     "output_type": "stream",
     "text": [
      "No GPU detected, fall back on CPU.\n"
     ]
    },
    {
     "name": "stdout",
     "output_type": "stream",
     "text": [
      "Shift p-vals:  0.4699999988079071\n",
      "Random Run 4 : Sample 1000\n",
      "Shift p-vals:  0.5600000023841858\n",
      "Shift medium_gn_shift_0.1\n"
     ]
    },
    {
     "name": "stderr",
     "output_type": "stream",
     "text": [
      "torch.range is deprecated and will be removed in a future release because its behavior is inconsistent with Python's range builtin. Instead, use torch.arange, which produces values in [start, end).\n"
     ]
    },
    {
     "name": "stdout",
     "output_type": "stream",
     "text": [
      "Random Run 0 : Sample 10\n",
      "No GPU detected, fall back on CPU.\n",
      "Shift p-vals:  0.009999999776482582\n",
      "Random Run 0 : Sample 50\n",
      "No GPU detected, fall back on CPU.\n",
      "Shift p-vals:  0.10000000149011612\n",
      "Random Run 0 : Sample 100\n",
      "No GPU detected, fall back on CPU.\n",
      "Shift p-vals:  0.09000000357627869\n",
      "Random Run 0 : Sample 500\n",
      "No GPU detected, fall back on CPU.\n",
      "Shift p-vals:  0.23000000417232513\n",
      "Random Run 0 : Sample 1000\n",
      "No GPU detected, fall back on CPU.\n",
      "Shift p-vals:  0.8600000143051147\n",
      "Random Run 1 : Sample 10\n",
      "No GPU detected, fall back on CPU.\n",
      "Shift p-vals:  0.46000000834465027\n",
      "Random Run 1 : Sample 50\n",
      "No GPU detected, fall back on CPU.\n",
      "Shift p-vals:  0.10999999940395355\n",
      "Random Run 1 : Sample 100\n",
      "No GPU detected, fall back on CPU.\n",
      "Shift p-vals:  0.49000000953674316\n",
      "Random Run 1 : Sample 500\n",
      "No GPU detected, fall back on CPU.\n",
      "Shift p-vals:  0.17000000178813934\n",
      "Random Run 1 : Sample 1000\n",
      "No GPU detected, fall back on CPU.\n",
      "Shift p-vals:  0.4300000071525574\n",
      "Random Run 2 : Sample 10\n",
      "No GPU detected, fall back on CPU.\n",
      "Shift p-vals:  0.15000000596046448\n",
      "Random Run 2 : Sample 50\n",
      "No GPU detected, fall back on CPU.\n",
      "Shift p-vals:  0.4699999988079071\n",
      "Random Run 2 : Sample 100\n",
      "No GPU detected, fall back on CPU.\n",
      "Shift p-vals:  0.10999999940395355\n",
      "Random Run 2 : Sample 500\n",
      "No GPU detected, fall back on CPU.\n",
      "Shift p-vals:  0.5799999833106995\n",
      "Random Run 2 : Sample 1000\n",
      "No GPU detected, fall back on CPU.\n",
      "Shift p-vals:  0.8199999928474426\n",
      "Random Run 3 : Sample 10\n",
      "No GPU detected, fall back on CPU.\n",
      "Shift p-vals:  0.0\n",
      "Random Run 3 : Sample 50\n",
      "No GPU detected, fall back on CPU.\n",
      "Shift p-vals:  0.0\n",
      "Random Run 3 : Sample 100\n",
      "No GPU detected, fall back on CPU.\n",
      "Shift p-vals:  0.019999999552965164\n",
      "Random Run 3 : Sample 500\n",
      "No GPU detected, fall back on CPU.\n",
      "Shift p-vals:  0.4000000059604645\n",
      "Random Run 3 : Sample 1000\n",
      "No GPU detected, fall back on CPU.\n",
      "Shift p-vals:  0.8600000143051147\n",
      "Random Run 4 : Sample 10\n",
      "No GPU detected, fall back on CPU.\n",
      "Shift p-vals:  0.14000000059604645\n",
      "Random Run 4 : Sample 50\n",
      "No GPU detected, fall back on CPU.\n",
      "Shift p-vals:  0.05000000074505806\n",
      "Random Run 4 : Sample 100\n",
      "No GPU detected, fall back on CPU.\n",
      "Shift p-vals:  0.2199999988079071\n",
      "Random Run 4 : Sample 500\n",
      "No GPU detected, fall back on CPU.\n",
      "Shift p-vals:  0.20000000298023224\n",
      "Random Run 4 : Sample 1000\n",
      "No GPU detected, fall back on CPU.\n",
      "Shift p-vals:  0.3799999952316284\n",
      "Shift medium_gn_shift_0.5\n"
     ]
    },
    {
     "name": "stderr",
     "output_type": "stream",
     "text": [
      "torch.range is deprecated and will be removed in a future release because its behavior is inconsistent with Python's range builtin. Instead, use torch.arange, which produces values in [start, end).\n"
     ]
    },
    {
     "name": "stdout",
     "output_type": "stream",
     "text": [
      "Random Run 0 : Sample 10\n",
      "No GPU detected, fall back on CPU.\n",
      "Shift p-vals:  0.019999999552965164\n",
      "Random Run 0 : Sample 50\n",
      "No GPU detected, fall back on CPU.\n",
      "Shift p-vals:  0.10999999940395355\n",
      "Random Run 0 : Sample 100\n",
      "No GPU detected, fall back on CPU.\n",
      "Shift p-vals:  0.03999999910593033\n",
      "Random Run 0 : Sample 500\n",
      "No GPU detected, fall back on CPU.\n",
      "Shift p-vals:  0.47999998927116394\n",
      "Random Run 0 : Sample 1000\n",
      "No GPU detected, fall back on CPU.\n",
      "Shift p-vals:  0.7099999785423279\n",
      "Random Run 1 : Sample 10\n",
      "No GPU detected, fall back on CPU.\n",
      "Shift p-vals:  0.18000000715255737\n",
      "Random Run 1 : Sample 50\n",
      "No GPU detected, fall back on CPU.\n",
      "Shift p-vals:  0.07000000029802322\n",
      "Random Run 1 : Sample 100\n",
      "No GPU detected, fall back on CPU.\n",
      "Shift p-vals:  0.6600000262260437\n",
      "Random Run 1 : Sample 500\n",
      "No GPU detected, fall back on CPU.\n",
      "Shift p-vals:  0.14000000059604645\n",
      "Random Run 1 : Sample 1000\n",
      "No GPU detected, fall back on CPU.\n",
      "Shift p-vals:  0.12999999523162842\n",
      "Random Run 2 : Sample 10\n",
      "No GPU detected, fall back on CPU.\n",
      "Shift p-vals:  0.14000000059604645\n",
      "Random Run 2 : Sample 50\n",
      "No GPU detected, fall back on CPU.\n",
      "Shift p-vals:  0.5899999737739563\n",
      "Random Run 2 : Sample 100\n",
      "No GPU detected, fall back on CPU.\n",
      "Shift p-vals:  0.17000000178813934\n",
      "Random Run 2 : Sample 500\n",
      "No GPU detected, fall back on CPU.\n",
      "Shift p-vals:  0.5299999713897705\n",
      "Random Run 2 : Sample 1000\n",
      "No GPU detected, fall back on CPU.\n",
      "Shift p-vals:  0.8500000238418579\n",
      "Random Run 3 : Sample 10\n",
      "No GPU detected, fall back on CPU.\n",
      "Shift p-vals:  0.0\n",
      "Random Run 3 : Sample 50\n",
      "No GPU detected, fall back on CPU.\n",
      "Shift p-vals:  0.009999999776482582\n",
      "Random Run 3 : Sample 100\n",
      "No GPU detected, fall back on CPU.\n",
      "Shift p-vals:  0.0\n",
      "Random Run 3 : Sample 500\n",
      "No GPU detected, fall back on CPU.\n",
      "Shift p-vals:  0.3400000035762787\n",
      "Random Run 3 : Sample 1000\n",
      "No GPU detected, fall back on CPU.\n",
      "Shift p-vals:  0.8700000047683716\n",
      "Random Run 4 : Sample 10\n",
      "No GPU detected, fall back on CPU.\n",
      "Shift p-vals:  0.0\n",
      "Random Run 4 : Sample 50\n",
      "No GPU detected, fall back on CPU.\n",
      "Shift p-vals:  0.23000000417232513\n",
      "Random Run 4 : Sample 100\n",
      "No GPU detected, fall back on CPU.\n",
      "Shift p-vals:  0.7599999904632568\n",
      "Random Run 4 : Sample 500\n",
      "No GPU detected, fall back on CPU.\n",
      "Shift p-vals:  0.75\n",
      "Random Run 4 : Sample 1000\n",
      "No GPU detected, fall back on CPU.\n",
      "Shift p-vals:  0.38999998569488525\n",
      "Shift medium_gn_shift_0.5\n"
     ]
    },
    {
     "name": "stderr",
     "output_type": "stream",
     "text": [
      "torch.range is deprecated and will be removed in a future release because its behavior is inconsistent with Python's range builtin. Instead, use torch.arange, which produces values in [start, end).\n",
      "No GPU detected, fall back on CPU.\n",
      "No GPU detected, fall back on CPU.\n",
      "No GPU detected, fall back on CPU.\n"
     ]
    },
    {
     "name": "stdout",
     "output_type": "stream",
     "text": [
      "Random Run 0 : Sample 10\n",
      "Shift p-vals:  0.07000000029802322\n",
      "Random Run 0 : Sample 50\n",
      "Shift p-vals:  0.20000000298023224\n",
      "Random Run 0 : Sample 100\n"
     ]
    },
    {
     "name": "stderr",
     "output_type": "stream",
     "text": [
      "No GPU detected, fall back on CPU.\n"
     ]
    },
    {
     "name": "stdout",
     "output_type": "stream",
     "text": [
      "Shift p-vals:  0.20999999344348907\n",
      "Random Run 0 : Sample 500\n"
     ]
    },
    {
     "name": "stderr",
     "output_type": "stream",
     "text": [
      "No GPU detected, fall back on CPU.\n"
     ]
    },
    {
     "name": "stdout",
     "output_type": "stream",
     "text": [
      "Shift p-vals:  0.4699999988079071\n",
      "Random Run 0 : Sample 1000\n",
      "Shift p-vals:  0.5\n"
     ]
    },
    {
     "name": "stderr",
     "output_type": "stream",
     "text": [
      "No GPU detected, fall back on CPU.\n",
      "No GPU detected, fall back on CPU.\n",
      "No GPU detected, fall back on CPU.\n"
     ]
    },
    {
     "name": "stdout",
     "output_type": "stream",
     "text": [
      "Random Run 1 : Sample 10\n",
      "Shift p-vals:  0.05999999865889549\n",
      "Random Run 1 : Sample 50\n",
      "Shift p-vals:  0.7300000190734863\n",
      "Random Run 1 : Sample 100\n"
     ]
    },
    {
     "name": "stderr",
     "output_type": "stream",
     "text": [
      "No GPU detected, fall back on CPU.\n"
     ]
    },
    {
     "name": "stdout",
     "output_type": "stream",
     "text": [
      "Shift p-vals:  0.10000000149011612\n",
      "Random Run 1 : Sample 500\n"
     ]
    },
    {
     "name": "stderr",
     "output_type": "stream",
     "text": [
      "No GPU detected, fall back on CPU.\n"
     ]
    },
    {
     "name": "stdout",
     "output_type": "stream",
     "text": [
      "Shift p-vals:  0.8199999928474426\n",
      "Random Run 1 : Sample 1000\n",
      "Shift p-vals:  0.38999998569488525\n"
     ]
    },
    {
     "name": "stderr",
     "output_type": "stream",
     "text": [
      "No GPU detected, fall back on CPU.\n",
      "No GPU detected, fall back on CPU.\n",
      "No GPU detected, fall back on CPU.\n"
     ]
    },
    {
     "name": "stdout",
     "output_type": "stream",
     "text": [
      "Random Run 2 : Sample 10\n",
      "Shift p-vals:  0.5\n",
      "Random Run 2 : Sample 50\n",
      "Shift p-vals:  0.7300000190734863\n",
      "Random Run 2 : Sample 100\n"
     ]
    },
    {
     "name": "stderr",
     "output_type": "stream",
     "text": [
      "No GPU detected, fall back on CPU.\n"
     ]
    },
    {
     "name": "stdout",
     "output_type": "stream",
     "text": [
      "Shift p-vals:  0.8500000238418579\n",
      "Random Run 2 : Sample 500\n"
     ]
    },
    {
     "name": "stderr",
     "output_type": "stream",
     "text": [
      "No GPU detected, fall back on CPU.\n"
     ]
    },
    {
     "name": "stdout",
     "output_type": "stream",
     "text": [
      "Shift p-vals:  0.18000000715255737\n",
      "Random Run 2 : Sample 1000\n",
      "Shift p-vals:  0.07999999821186066\n"
     ]
    },
    {
     "name": "stderr",
     "output_type": "stream",
     "text": [
      "No GPU detected, fall back on CPU.\n",
      "No GPU detected, fall back on CPU.\n",
      "No GPU detected, fall back on CPU.\n"
     ]
    },
    {
     "name": "stdout",
     "output_type": "stream",
     "text": [
      "Random Run 3 : Sample 10\n",
      "Shift p-vals:  0.05000000074505806\n",
      "Random Run 3 : Sample 50\n",
      "Shift p-vals:  0.27000001072883606\n",
      "Random Run 3 : Sample 100\n"
     ]
    },
    {
     "name": "stderr",
     "output_type": "stream",
     "text": [
      "No GPU detected, fall back on CPU.\n"
     ]
    },
    {
     "name": "stdout",
     "output_type": "stream",
     "text": [
      "Shift p-vals:  0.4000000059604645\n",
      "Random Run 3 : Sample 500\n"
     ]
    },
    {
     "name": "stderr",
     "output_type": "stream",
     "text": [
      "No GPU detected, fall back on CPU.\n"
     ]
    },
    {
     "name": "stdout",
     "output_type": "stream",
     "text": [
      "Shift p-vals:  0.7200000286102295\n",
      "Random Run 3 : Sample 1000\n",
      "Shift p-vals:  0.6399999856948853\n"
     ]
    },
    {
     "name": "stderr",
     "output_type": "stream",
     "text": [
      "No GPU detected, fall back on CPU.\n",
      "No GPU detected, fall back on CPU.\n",
      "No GPU detected, fall back on CPU.\n"
     ]
    },
    {
     "name": "stdout",
     "output_type": "stream",
     "text": [
      "Random Run 4 : Sample 10\n",
      "Shift p-vals:  0.05000000074505806\n",
      "Random Run 4 : Sample 50\n",
      "Shift p-vals:  0.14000000059604645\n",
      "Random Run 4 : Sample 100\n"
     ]
    },
    {
     "name": "stderr",
     "output_type": "stream",
     "text": [
      "No GPU detected, fall back on CPU.\n"
     ]
    },
    {
     "name": "stdout",
     "output_type": "stream",
     "text": [
      "Shift p-vals:  0.7400000095367432\n",
      "Random Run 4 : Sample 500\n"
     ]
    },
    {
     "name": "stderr",
     "output_type": "stream",
     "text": [
      "No GPU detected, fall back on CPU.\n"
     ]
    },
    {
     "name": "stdout",
     "output_type": "stream",
     "text": [
      "Shift p-vals:  0.5799999833106995\n",
      "Random Run 4 : Sample 1000\n",
      "Shift p-vals:  0.23999999463558197\n",
      "Shift medium_gn_shift_0.5\n"
     ]
    },
    {
     "name": "stderr",
     "output_type": "stream",
     "text": [
      "torch.range is deprecated and will be removed in a future release because its behavior is inconsistent with Python's range builtin. Instead, use torch.arange, which produces values in [start, end).\n"
     ]
    },
    {
     "name": "stdout",
     "output_type": "stream",
     "text": [
      "Random Run 0 : Sample 10\n",
      "No GPU detected, fall back on CPU.\n",
      "Shift p-vals:  0.0\n",
      "Random Run 0 : Sample 50\n",
      "No GPU detected, fall back on CPU.\n",
      "Shift p-vals:  0.23000000417232513\n",
      "Random Run 0 : Sample 100\n",
      "No GPU detected, fall back on CPU.\n",
      "Shift p-vals:  0.14000000059604645\n",
      "Random Run 0 : Sample 500\n",
      "No GPU detected, fall back on CPU.\n",
      "Shift p-vals:  0.699999988079071\n",
      "Random Run 0 : Sample 1000\n",
      "No GPU detected, fall back on CPU.\n",
      "Shift p-vals:  0.8199999928474426\n",
      "Random Run 1 : Sample 10\n",
      "No GPU detected, fall back on CPU.\n",
      "Shift p-vals:  0.019999999552965164\n",
      "Random Run 1 : Sample 50\n",
      "No GPU detected, fall back on CPU.\n",
      "Shift p-vals:  0.05000000074505806\n",
      "Random Run 1 : Sample 100\n",
      "No GPU detected, fall back on CPU.\n",
      "Shift p-vals:  0.3199999928474426\n",
      "Random Run 1 : Sample 500\n",
      "No GPU detected, fall back on CPU.\n",
      "Shift p-vals:  0.3499999940395355\n",
      "Random Run 1 : Sample 1000\n",
      "No GPU detected, fall back on CPU.\n",
      "Shift p-vals:  0.4000000059604645\n",
      "Random Run 2 : Sample 10\n",
      "No GPU detected, fall back on CPU.\n",
      "Shift p-vals:  0.2800000011920929\n",
      "Random Run 2 : Sample 50\n",
      "No GPU detected, fall back on CPU.\n",
      "Shift p-vals:  0.4099999964237213\n",
      "Random Run 2 : Sample 100\n",
      "No GPU detected, fall back on CPU.\n",
      "Shift p-vals:  0.3199999928474426\n",
      "Random Run 2 : Sample 500\n",
      "No GPU detected, fall back on CPU.\n",
      "Shift p-vals:  0.6000000238418579\n",
      "Random Run 2 : Sample 1000\n",
      "No GPU detected, fall back on CPU.\n",
      "Shift p-vals:  0.6000000238418579\n",
      "Random Run 3 : Sample 10\n",
      "No GPU detected, fall back on CPU.\n",
      "Shift p-vals:  0.0\n",
      "Random Run 3 : Sample 50\n",
      "No GPU detected, fall back on CPU.\n",
      "Shift p-vals:  0.12999999523162842\n",
      "Random Run 3 : Sample 100\n",
      "No GPU detected, fall back on CPU.\n",
      "Shift p-vals:  0.029999999329447746\n",
      "Random Run 3 : Sample 500\n",
      "No GPU detected, fall back on CPU.\n",
      "Shift p-vals:  0.1599999964237213\n",
      "Random Run 3 : Sample 1000\n",
      "No GPU detected, fall back on CPU.\n",
      "Shift p-vals:  0.550000011920929\n",
      "Random Run 4 : Sample 10\n",
      "No GPU detected, fall back on CPU.\n",
      "Shift p-vals:  0.029999999329447746\n",
      "Random Run 4 : Sample 50\n",
      "No GPU detected, fall back on CPU.\n",
      "Shift p-vals:  0.4399999976158142\n",
      "Random Run 4 : Sample 100\n",
      "No GPU detected, fall back on CPU.\n",
      "Shift p-vals:  0.6600000262260437\n",
      "Random Run 4 : Sample 500\n",
      "No GPU detected, fall back on CPU.\n",
      "Shift p-vals:  0.8100000023841858\n",
      "Random Run 4 : Sample 1000\n",
      "No GPU detected, fall back on CPU.\n",
      "Shift p-vals:  0.5600000023841858\n",
      "Shift medium_gn_shift_1.0\n"
     ]
    },
    {
     "name": "stderr",
     "output_type": "stream",
     "text": [
      "torch.range is deprecated and will be removed in a future release because its behavior is inconsistent with Python's range builtin. Instead, use torch.arange, which produces values in [start, end).\n"
     ]
    },
    {
     "name": "stdout",
     "output_type": "stream",
     "text": [
      "Random Run 0 : Sample 10\n",
      "No GPU detected, fall back on CPU.\n",
      "Shift p-vals:  0.0\n",
      "Random Run 0 : Sample 50\n",
      "No GPU detected, fall back on CPU.\n",
      "Shift p-vals:  0.28999999165534973\n",
      "Random Run 0 : Sample 100\n",
      "No GPU detected, fall back on CPU.\n",
      "Shift p-vals:  0.09000000357627869\n",
      "Random Run 0 : Sample 500\n",
      "No GPU detected, fall back on CPU.\n",
      "Shift p-vals:  0.49000000953674316\n",
      "Random Run 0 : Sample 1000\n",
      "No GPU detected, fall back on CPU.\n",
      "Shift p-vals:  0.10999999940395355\n",
      "Random Run 1 : Sample 10\n",
      "No GPU detected, fall back on CPU.\n",
      "Shift p-vals:  0.3700000047683716\n",
      "Random Run 1 : Sample 50\n",
      "No GPU detected, fall back on CPU.\n",
      "Shift p-vals:  0.1899999976158142\n",
      "Random Run 1 : Sample 100\n",
      "No GPU detected, fall back on CPU.\n",
      "Shift p-vals:  0.6299999952316284\n",
      "Random Run 1 : Sample 500\n",
      "No GPU detected, fall back on CPU.\n",
      "Shift p-vals:  0.3199999928474426\n",
      "Random Run 1 : Sample 1000\n",
      "No GPU detected, fall back on CPU.\n",
      "Shift p-vals:  0.20000000298023224\n",
      "Random Run 2 : Sample 10\n",
      "No GPU detected, fall back on CPU.\n",
      "Shift p-vals:  0.2199999988079071\n",
      "Random Run 2 : Sample 50\n",
      "No GPU detected, fall back on CPU.\n",
      "Shift p-vals:  0.5600000023841858\n",
      "Random Run 2 : Sample 100\n",
      "No GPU detected, fall back on CPU.\n",
      "Shift p-vals:  0.25\n",
      "Random Run 2 : Sample 500\n",
      "No GPU detected, fall back on CPU.\n",
      "Shift p-vals:  0.07000000029802322\n",
      "Random Run 2 : Sample 1000\n",
      "No GPU detected, fall back on CPU.\n",
      "Shift p-vals:  0.14000000059604645\n",
      "Random Run 3 : Sample 10\n",
      "No GPU detected, fall back on CPU.\n",
      "Shift p-vals:  0.10000000149011612\n",
      "Random Run 3 : Sample 50\n",
      "No GPU detected, fall back on CPU.\n",
      "Shift p-vals:  0.009999999776482582\n",
      "Random Run 3 : Sample 100\n",
      "No GPU detected, fall back on CPU.\n",
      "Shift p-vals:  0.0\n",
      "Random Run 3 : Sample 500\n",
      "No GPU detected, fall back on CPU.\n",
      "Shift p-vals:  0.25999999046325684\n",
      "Random Run 3 : Sample 1000\n",
      "No GPU detected, fall back on CPU.\n",
      "Shift p-vals:  0.11999999731779099\n",
      "Random Run 4 : Sample 10\n",
      "No GPU detected, fall back on CPU.\n",
      "Shift p-vals:  0.009999999776482582\n",
      "Random Run 4 : Sample 50\n",
      "No GPU detected, fall back on CPU.\n",
      "Shift p-vals:  0.2199999988079071\n",
      "Random Run 4 : Sample 100\n",
      "No GPU detected, fall back on CPU.\n",
      "Shift p-vals:  0.4099999964237213\n",
      "Random Run 4 : Sample 500\n",
      "No GPU detected, fall back on CPU.\n",
      "Shift p-vals:  0.7099999785423279\n",
      "Random Run 4 : Sample 1000\n",
      "No GPU detected, fall back on CPU.\n",
      "Shift p-vals:  0.3199999928474426\n",
      "Shift medium_gn_shift_1.0\n"
     ]
    },
    {
     "name": "stderr",
     "output_type": "stream",
     "text": [
      "torch.range is deprecated and will be removed in a future release because its behavior is inconsistent with Python's range builtin. Instead, use torch.arange, which produces values in [start, end).\n",
      "No GPU detected, fall back on CPU.\n",
      "No GPU detected, fall back on CPU.\n",
      "No GPU detected, fall back on CPU.\n"
     ]
    },
    {
     "name": "stdout",
     "output_type": "stream",
     "text": [
      "Random Run 0 : Sample 10\n",
      "Shift p-vals:  0.029999999329447746\n",
      "Random Run 0 : Sample 50\n",
      "Shift p-vals:  0.4099999964237213\n",
      "Random Run 0 : Sample 100\n"
     ]
    },
    {
     "name": "stderr",
     "output_type": "stream",
     "text": [
      "No GPU detected, fall back on CPU.\n"
     ]
    },
    {
     "name": "stdout",
     "output_type": "stream",
     "text": [
      "Shift p-vals:  0.6899999976158142\n",
      "Random Run 0 : Sample 500\n"
     ]
    },
    {
     "name": "stderr",
     "output_type": "stream",
     "text": [
      "No GPU detected, fall back on CPU.\n"
     ]
    },
    {
     "name": "stdout",
     "output_type": "stream",
     "text": [
      "Shift p-vals:  0.550000011920929\n",
      "Random Run 0 : Sample 1000\n",
      "Shift p-vals:  0.8299999833106995\n"
     ]
    },
    {
     "name": "stderr",
     "output_type": "stream",
     "text": [
      "No GPU detected, fall back on CPU.\n",
      "No GPU detected, fall back on CPU.\n",
      "No GPU detected, fall back on CPU.\n"
     ]
    },
    {
     "name": "stdout",
     "output_type": "stream",
     "text": [
      "Random Run 1 : Sample 10\n",
      "Shift p-vals:  0.1899999976158142\n",
      "Random Run 1 : Sample 50\n",
      "Shift p-vals:  0.4399999976158142\n",
      "Random Run 1 : Sample 100\n"
     ]
    },
    {
     "name": "stderr",
     "output_type": "stream",
     "text": [
      "No GPU detected, fall back on CPU.\n"
     ]
    },
    {
     "name": "stdout",
     "output_type": "stream",
     "text": [
      "Shift p-vals:  0.3400000035762787\n",
      "Random Run 1 : Sample 500\n"
     ]
    },
    {
     "name": "stderr",
     "output_type": "stream",
     "text": [
      "No GPU detected, fall back on CPU.\n"
     ]
    },
    {
     "name": "stdout",
     "output_type": "stream",
     "text": [
      "Shift p-vals:  0.9300000071525574\n",
      "Random Run 1 : Sample 1000\n",
      "Shift p-vals:  0.800000011920929\n"
     ]
    },
    {
     "name": "stderr",
     "output_type": "stream",
     "text": [
      "No GPU detected, fall back on CPU.\n",
      "No GPU detected, fall back on CPU.\n",
      "No GPU detected, fall back on CPU.\n"
     ]
    },
    {
     "name": "stdout",
     "output_type": "stream",
     "text": [
      "Random Run 2 : Sample 10\n",
      "Shift p-vals:  0.18000000715255737\n",
      "Random Run 2 : Sample 50\n",
      "Shift p-vals:  0.17000000178813934\n",
      "Random Run 2 : Sample 100\n"
     ]
    },
    {
     "name": "stderr",
     "output_type": "stream",
     "text": [
      "No GPU detected, fall back on CPU.\n"
     ]
    },
    {
     "name": "stdout",
     "output_type": "stream",
     "text": [
      "Shift p-vals:  0.03999999910593033\n",
      "Random Run 2 : Sample 500\n"
     ]
    },
    {
     "name": "stderr",
     "output_type": "stream",
     "text": [
      "No GPU detected, fall back on CPU.\n"
     ]
    },
    {
     "name": "stdout",
     "output_type": "stream",
     "text": [
      "Shift p-vals:  0.14000000059604645\n",
      "Random Run 2 : Sample 1000\n",
      "Shift p-vals:  0.9399999976158142\n"
     ]
    },
    {
     "name": "stderr",
     "output_type": "stream",
     "text": [
      "No GPU detected, fall back on CPU.\n",
      "No GPU detected, fall back on CPU.\n",
      "No GPU detected, fall back on CPU.\n"
     ]
    },
    {
     "name": "stdout",
     "output_type": "stream",
     "text": [
      "Random Run 3 : Sample 10\n",
      "Shift p-vals:  0.27000001072883606\n",
      "Random Run 3 : Sample 50\n",
      "Shift p-vals:  0.5799999833106995\n",
      "Random Run 3 : Sample 100\n"
     ]
    },
    {
     "name": "stderr",
     "output_type": "stream",
     "text": [
      "No GPU detected, fall back on CPU.\n"
     ]
    },
    {
     "name": "stdout",
     "output_type": "stream",
     "text": [
      "Shift p-vals:  0.12999999523162842\n",
      "Random Run 3 : Sample 500\n"
     ]
    },
    {
     "name": "stderr",
     "output_type": "stream",
     "text": [
      "No GPU detected, fall back on CPU.\n"
     ]
    },
    {
     "name": "stdout",
     "output_type": "stream",
     "text": [
      "Shift p-vals:  0.0\n",
      "Random Run 3 : Sample 1000\n",
      "Shift p-vals:  0.25999999046325684\n"
     ]
    },
    {
     "name": "stderr",
     "output_type": "stream",
     "text": [
      "No GPU detected, fall back on CPU.\n",
      "No GPU detected, fall back on CPU.\n",
      "No GPU detected, fall back on CPU.\n"
     ]
    },
    {
     "name": "stdout",
     "output_type": "stream",
     "text": [
      "Random Run 4 : Sample 10\n",
      "Shift p-vals:  0.03999999910593033\n",
      "Random Run 4 : Sample 50\n",
      "Shift p-vals:  0.0\n",
      "Random Run 4 : Sample 100\n"
     ]
    },
    {
     "name": "stderr",
     "output_type": "stream",
     "text": [
      "No GPU detected, fall back on CPU.\n"
     ]
    },
    {
     "name": "stdout",
     "output_type": "stream",
     "text": [
      "Shift p-vals:  0.0\n",
      "Random Run 4 : Sample 500\n"
     ]
    },
    {
     "name": "stderr",
     "output_type": "stream",
     "text": [
      "No GPU detected, fall back on CPU.\n"
     ]
    },
    {
     "name": "stdout",
     "output_type": "stream",
     "text": [
      "Shift p-vals:  0.8999999761581421\n",
      "Random Run 4 : Sample 1000\n",
      "Shift p-vals:  0.4300000071525574\n",
      "Shift medium_gn_shift_1.0\n"
     ]
    },
    {
     "name": "stderr",
     "output_type": "stream",
     "text": [
      "torch.range is deprecated and will be removed in a future release because its behavior is inconsistent with Python's range builtin. Instead, use torch.arange, which produces values in [start, end).\n"
     ]
    },
    {
     "name": "stdout",
     "output_type": "stream",
     "text": [
      "Random Run 0 : Sample 10\n",
      "No GPU detected, fall back on CPU.\n",
      "Shift p-vals:  0.0\n",
      "Random Run 0 : Sample 50\n",
      "No GPU detected, fall back on CPU.\n",
      "Shift p-vals:  0.3700000047683716\n",
      "Random Run 0 : Sample 100\n",
      "No GPU detected, fall back on CPU.\n",
      "Shift p-vals:  0.17000000178813934\n",
      "Random Run 0 : Sample 500\n",
      "No GPU detected, fall back on CPU.\n",
      "Shift p-vals:  0.6700000166893005\n",
      "Random Run 0 : Sample 1000\n",
      "No GPU detected, fall back on CPU.\n",
      "Shift p-vals:  0.3100000023841858\n",
      "Random Run 1 : Sample 10\n",
      "No GPU detected, fall back on CPU.\n",
      "Shift p-vals:  0.17000000178813934\n",
      "Random Run 1 : Sample 50\n",
      "No GPU detected, fall back on CPU.\n",
      "Shift p-vals:  0.3199999928474426\n",
      "Random Run 1 : Sample 100\n",
      "No GPU detected, fall back on CPU.\n",
      "Shift p-vals:  0.5\n",
      "Random Run 1 : Sample 500\n",
      "No GPU detected, fall back on CPU.\n",
      "Shift p-vals:  0.6399999856948853\n",
      "Random Run 1 : Sample 1000\n",
      "No GPU detected, fall back on CPU.\n",
      "Shift p-vals:  0.30000001192092896\n",
      "Random Run 2 : Sample 10\n",
      "No GPU detected, fall back on CPU.\n",
      "Shift p-vals:  0.20999999344348907\n",
      "Random Run 2 : Sample 50\n",
      "No GPU detected, fall back on CPU.\n",
      "Shift p-vals:  0.8999999761581421\n",
      "Random Run 2 : Sample 100\n",
      "No GPU detected, fall back on CPU.\n",
      "Shift p-vals:  0.23000000417232513\n",
      "Random Run 2 : Sample 500\n",
      "No GPU detected, fall back on CPU.\n",
      "Shift p-vals:  0.03999999910593033\n",
      "Random Run 2 : Sample 1000\n",
      "No GPU detected, fall back on CPU.\n",
      "Shift p-vals:  0.11999999731779099\n",
      "Random Run 3 : Sample 10\n",
      "No GPU detected, fall back on CPU.\n",
      "Shift p-vals:  0.10000000149011612\n",
      "Random Run 3 : Sample 50\n",
      "No GPU detected, fall back on CPU.\n",
      "Shift p-vals:  0.009999999776482582\n",
      "Random Run 3 : Sample 100\n",
      "No GPU detected, fall back on CPU.\n",
      "Shift p-vals:  0.05000000074505806\n",
      "Random Run 3 : Sample 500\n",
      "No GPU detected, fall back on CPU.\n",
      "Shift p-vals:  0.3400000035762787\n",
      "Random Run 3 : Sample 1000\n",
      "No GPU detected, fall back on CPU.\n",
      "Shift p-vals:  0.3400000035762787\n",
      "Random Run 4 : Sample 10\n",
      "No GPU detected, fall back on CPU.\n",
      "Shift p-vals:  0.009999999776482582\n",
      "Random Run 4 : Sample 50\n",
      "No GPU detected, fall back on CPU.\n",
      "Shift p-vals:  0.5\n",
      "Random Run 4 : Sample 100\n",
      "No GPU detected, fall back on CPU.\n",
      "Shift p-vals:  0.41999998688697815\n",
      "Random Run 4 : Sample 500\n",
      "No GPU detected, fall back on CPU.\n",
      "Shift p-vals:  0.8799999952316284\n",
      "Random Run 4 : Sample 1000\n",
      "No GPU detected, fall back on CPU.\n",
      "Shift p-vals:  0.6200000047683716\n"
     ]
    }
   ],
   "source": [
    "path = \"/path/\"\n",
    "dataset = \"gemini\"\n",
    "samples = [10, 50, 100, 500, 1000]\n",
    "# Number of random runs to average results over.\n",
    "random_runs = 5\n",
    "# Significance level.\n",
    "sign_level = 0.05\n",
    "# Whether to calculate accuracy for malignancy quantification.\n",
    "calc_acc = True\n",
    "# Define shift types.\n",
    "shifts = ['medium_gn_shift_0.1','medium_gn_shift_0.5','medium_gn_shift_1.0']\n",
    "\n",
    "dr_technique = \"NoRed\"\n",
    "md_tests = [\"MMD\",\"LK\",\"LSDD\"]\n",
    "mean_shifts_pca_md = np.ones((len(shifts),len(md_tests),len(samples))) * (-1)\n",
    "std_shifts_pca_md = np.ones((len(shifts),len(md_tests),len(samples))) * (-1)\n",
    "\n",
    "for si, shift in enumerate(shifts):\n",
    "    for mi, md_test in enumerate(md_tests):                \n",
    "        mean_p_vals, std_p_vals = run_synthetic_shift_experiment(shift, path, dr_technique, md_test, samples, dataset,sign_level,[\"age\"],random_runs=5,calc_acc=True)\n",
    "        mean_shifts_pca_md[si,mi,:] = mean_p_vals\n",
    "        std_shifts_pca_md[si,mi,:] = std_p_vals   "
   ]
  },
  {
   "cell_type": "code",
   "execution_count": 7,
   "id": "dynamic-replica",
   "metadata": {},
   "outputs": [
    {
     "data": {
      "image/png": "[encoded data removed]",
      "text/plain": [
       "<Figure size 792x576 with 1 Axes>"
      ]
     },
     "metadata": {
      "needs_background": "light"
     },
     "output_type": "display_data"
    }
   ],
   "source": [
    "fig = plt.figure(figsize =(11, 8))\n",
    "for si, shift in enumerate(shifts):\n",
    "    for mi, md_test in enumerate(md_tests):\n",
    "        errorfill(np.array(samples), mean_shifts_pca_md[si,mi,:], std_shifts_pca_md[si,mi,:], fmt=linestyles[mi]+markers[mi], color=colorscale(colors[si],brightness[mi]), label=\"%s\" % '_'.join([shift,dr_technique,md_test]))\n",
    "plt.xlabel('Number of samples from test')\n",
    "plt.ylabel('$p$-value')\n",
    "plt.axhline(y=sign_level, color='k')\n",
    "plt.legend()\n",
    "plt.show()"
   ]
  }
 ],
 "metadata": {
  "kernelspec": {
   "display_name": "vector_delirium",
   "language": "python",
   "name": "vector_delirium"
  },
  "language_info": {
   "codemirror_mode": {
    "name": "ipython",
    "version": 3
   },
   "file_extension": ".py",
   "mimetype": "text/x-python",
   "name": "python",
   "nbconvert_exporter": "python",
   "pygments_lexer": "ipython3",
   "version": "3.8.5"
  }
 },
 "nbformat": 4,
 "nbformat_minor": 5
}
