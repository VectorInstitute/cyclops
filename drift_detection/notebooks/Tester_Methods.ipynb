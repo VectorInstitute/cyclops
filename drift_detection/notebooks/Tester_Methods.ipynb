{
 "cells": [
  {
   "cell_type": "code",
   "execution_count": null,
   "id": "e9d9c96c",
   "metadata": {},
   "outputs": [],
   "source": [
    "import matplotlib.pyplot as plt\n",
    "import numpy as np\n",
    "import torch\n",
    "\n",
    "from drift_detection.drift_detector import DCTester, TSTester\n",
    "\n",
    "tester = TSTester(\"mmd\")\n",
    "\n",
    "X_s = np.random.randn(200, 512)\n",
    "X_t = X_s\n",
    "\n",
    "p_val, dist = tester.test_shift(X_s=X_s, X_t=X_t, backend=\"pytorch\")\n",
    "\n",
    "p_val"
   ]
  },
  {
   "cell_type": "code",
   "execution_count": null,
   "id": "38da5211",
   "metadata": {},
   "outputs": [],
   "source": [
    "import matplotlib.pyplot as plt\n",
    "import numpy as np\n",
    "import torch\n",
    "\n",
    "from drift_detection.drift_detector import TSTester\n",
    "\n",
    "tester = TSTester(\"lk\")\n",
    "\n",
    "X_s = np.random.randn(200, 64, 512)\n",
    "X_t = X_s\n",
    "\n",
    "p_val, dist = tester.test_shift(\n",
    "    X_s=X_s, X_t=X_t, backend=\"pytorch\", proj_type=\"ffnn\", verbose=1, epochs=50\n",
    ")\n",
    "\n",
    "p_val"
   ]
  },
  {
   "cell_type": "code",
   "execution_count": null,
   "id": "9819c573",
   "metadata": {},
   "outputs": [],
   "source": [
    "import matplotlib.pyplot as plt\n",
    "import numpy as np\n",
    "import torch\n",
    "\n",
    "from drift_detection.drift_detector import DCTester\n",
    "\n",
    "tester = DCTester(\"rf\")\n",
    "\n",
    "X_s = np.random.randn(200, 512)\n",
    "X_t = X_s\n",
    "\n",
    "p_val, dist = tester.test_shift(\n",
    "    X_s=X_s,\n",
    "    X_t=X_t,\n",
    "    backend=\"sklearn\",\n",
    "    verbose=1,\n",
    ")\n",
    "\n",
    "p_val"
   ]
  }
 ],
 "metadata": {
  "kernelspec": {
   "display_name": "cyclops",
   "language": "python",
   "name": "cyclops"
  },
  "language_info": {
   "codemirror_mode": {
    "name": "ipython",
    "version": 3
   },
   "file_extension": ".py",
   "mimetype": "text/x-python",
   "name": "python",
   "nbconvert_exporter": "python",
   "pygments_lexer": "ipython3",
   "version": "3.9.7"
  }
 },
 "nbformat": 4,
 "nbformat_minor": 5
}
