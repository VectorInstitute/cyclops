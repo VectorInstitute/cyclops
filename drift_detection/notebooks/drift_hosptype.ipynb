{
 "cells": [
  {
   "cell_type": "code",
   "execution_count": 1,
   "id": "outdoor-copyright",
   "metadata": {},
   "outputs": [
    {
     "name": "stderr",
     "output_type": "stream",
     "text": [
      "2022-04-21 22:11:13.451413: W tensorflow/stream_executor/platform/default/dso_loader.cc:64] Could not load dynamic library 'libcudart.so.11.0'; dlerror: libcudart.so.11.0: cannot open shared object file: No such file or directory; LD_LIBRARY_PATH: /opt/R/4.0.4/lib/R/lib::/lib:/usr/local/lib:/usr/lib/x86_64-linux-gnu:/usr/lib/jvm/java-11-openjdk-amd64/lib/server\n",
      "2022-04-21 22:11:13.451490: I tensorflow/stream_executor/cuda/cudart_stub.cc:29] Ignore above cudart dlerror if you do not have a GPU set up on your machine.\n",
      "2022-04-21 22:11:16.452492: E tensorflow/stream_executor/cuda/cuda_driver.cc:271] failed call to cuInit: CUDA_ERROR_NO_DEVICE: no CUDA-capable device is detected\n",
      "2022-04-21 22:11:16.452571: I tensorflow/stream_executor/cuda/cuda_diagnostics.cc:156] kernel driver does not appear to be running on this host (cpu1.gemini-hpc.ca): /proc/driver/nvidia/version does not exist\n",
      "2022-04-21 22:11:16.456511: I tensorflow/core/platform/cpu_feature_guard.cc:151] This TensorFlow binary is optimized with oneAPI Deep Neural Network Library (oneDNN) to use the following CPU instructions in performance-critical operations:  AVX2 AVX512F FMA\n",
      "To enable them in other operations, rebuild TensorFlow with the appropriate compiler flags.\n",
      "2022-04-21 22:11:19,956 \u001b[1;37mINFO\u001b[0m config          - Log file is /mnt/nfs/home/subasriv/vector-delirium/log.log\n",
      "2022-04-21 22:11:19,966 \u001b[1;37mINFO\u001b[0m cyclops.processors.base - Log file is /mnt/nfs/home/subasriv/vector-delirium/log.log\n",
      "2022-04-21 22:11:19,971 \u001b[1;37mINFO\u001b[0m cyclops.utils.profile - Log file is /mnt/nfs/home/subasriv/vector-delirium/log.log\n",
      "2022-04-21 22:11:19,976 \u001b[1;37mINFO\u001b[0m cyclops.processors.admin - Log file is /mnt/nfs/home/subasriv/vector-delirium/log.log\n",
      "2022-04-21 22:11:20,002 \u001b[1;37mINFO\u001b[0m cyclops.processors.vitals - Log file is /mnt/nfs/home/subasriv/vector-delirium/log.log\n",
      "2022-04-21 22:11:20,008 \u001b[1;37mINFO\u001b[0m cyclops.processors.labs - Log file is /mnt/nfs/home/subasriv/vector-delirium/log.log\n",
      "2022-04-21 22:11:20,013 \u001b[1;37mINFO\u001b[0m cyclops.processors.outcomes - Log file is /mnt/nfs/home/subasriv/vector-delirium/log.log\n",
      "2022-04-21 22:11:20,018 \u001b[1;37mINFO\u001b[0m cyclops.processors.feature_handler - Log file is /mnt/nfs/home/subasriv/vector-delirium/log.log\n",
      "2022-04-21 22:11:20,091 \u001b[1;37mINFO\u001b[0m cyclops.orm     - Log file is /mnt/nfs/home/subasriv/vector-delirium/log.log\n",
      "2022-04-21 22:11:20,659 \u001b[1;37mINFO\u001b[0m cyclops.orm     - Database setup, ready to run queries!\n"
     ]
    },
    {
     "data": {
      "application/javascript": [
       "\n",
       "            setTimeout(function() {\n",
       "                var nbb_cell_id = 1;\n",
       "                var nbb_unformatted_code = \"import sys\\nimport pandas as pd\\nimport numpy as np\\nimport os\\nfrom functools import reduce\\nimport datetime\\nimport joblib\\nimport matplotlib.pyplot as plt\\nfrom sklearn.metrics import (\\n    auc,\\n    accuracy_score,\\n    confusion_matrix,\\n    roc_auc_score,\\n    roc_curve,\\n    precision_recall_curve,\\n    average_precision_score,\\n)\\nfrom sklearn.model_selection import GridSearchCV, train_test_split\\n\\nsys.path.append(\\\"..\\\")\\n\\nfrom shift_detector import *\\nfrom shift_reductor import *\\nfrom shift_experiments import *\\nfrom shift_explainer import *\\nfrom shift_tester import *\\nfrom shift_utils import *\\nfrom shift_models import *\\nfrom shift_constants import *\\nfrom shift_plot_utils import *\\n\\nsys.path.append(\\\"../..\\\")\\n\\nimport sqlalchemy\\nfrom sqlalchemy import select, func, extract, desc\\nfrom sqlalchemy.sql.expression import and_\\n\\nfrom evidently import ColumnMapping\\nfrom evidently.dashboard import Dashboard\\nfrom evidently.dashboard.tabs import DataQualityTab\\nfrom evidently.model_profile import Profile\\nfrom evidently.model_profile.sections import DataQualityProfileSection\\n\\nimport config\\nimport cyclops\\nfrom cyclops.processors.column_names import (\\n    ENCOUNTER_ID,\\n    HOSPITAL_ID,\\n    ADMIT_TIMESTAMP,\\n    DISCHARGE_TIMESTAMP,\\n    DISCHARGE_DISPOSITION,\\n    READMISSION,\\n    AGE,\\n    SEX,\\n    TOTAL_COST,\\n    CITY,\\n    PROVINCE,\\n    COUNTRY,\\n    LANGUAGE,\\n    LENGTH_OF_STAY_IN_ER,\\n    VITAL_MEASUREMENT_NAME,\\n    VITAL_MEASUREMENT_VALUE,\\n    VITAL_MEASUREMENT_TIMESTAMP,\\n    LAB_TEST_NAME,\\n    LAB_TEST_TIMESTAMP,\\n    LAB_TEST_RESULT_VALUE,\\n    LAB_TEST_RESULT_UNIT,\\n    REFERENCE_RANGE,\\n)\\nfrom cyclops.processors.constants import EMPTY_STRING\\nfrom cyclops.processors.admin import AdminProcessor\\nfrom cyclops.processors.vitals import VitalsProcessor\\nfrom cyclops.processors.labs import LabsProcessor\\nfrom cyclops.processors.outcomes import OutcomesProcessor\\nfrom cyclops.processors.feature_handler import FeatureHandler\\nfrom cyclops.orm import Database\\n\\n%reload_ext autoreload\\n%reload_ext nb_black\";\n",
       "                var nbb_formatted_code = \"import sys\\nimport pandas as pd\\nimport numpy as np\\nimport os\\nfrom functools import reduce\\nimport datetime\\nimport joblib\\nimport matplotlib.pyplot as plt\\nfrom sklearn.metrics import (\\n    auc,\\n    accuracy_score,\\n    confusion_matrix,\\n    roc_auc_score,\\n    roc_curve,\\n    precision_recall_curve,\\n    average_precision_score,\\n)\\nfrom sklearn.model_selection import GridSearchCV, train_test_split\\n\\nsys.path.append(\\\"..\\\")\\n\\nfrom shift_detector import *\\nfrom shift_reductor import *\\nfrom shift_experiments import *\\nfrom shift_explainer import *\\nfrom shift_tester import *\\nfrom shift_utils import *\\nfrom shift_models import *\\nfrom shift_constants import *\\nfrom shift_plot_utils import *\\n\\nsys.path.append(\\\"../..\\\")\\n\\nimport sqlalchemy\\nfrom sqlalchemy import select, func, extract, desc\\nfrom sqlalchemy.sql.expression import and_\\n\\nfrom evidently import ColumnMapping\\nfrom evidently.dashboard import Dashboard\\nfrom evidently.dashboard.tabs import DataQualityTab\\nfrom evidently.model_profile import Profile\\nfrom evidently.model_profile.sections import DataQualityProfileSection\\n\\nimport config\\nimport cyclops\\nfrom cyclops.processors.column_names import (\\n    ENCOUNTER_ID,\\n    HOSPITAL_ID,\\n    ADMIT_TIMESTAMP,\\n    DISCHARGE_TIMESTAMP,\\n    DISCHARGE_DISPOSITION,\\n    READMISSION,\\n    AGE,\\n    SEX,\\n    TOTAL_COST,\\n    CITY,\\n    PROVINCE,\\n    COUNTRY,\\n    LANGUAGE,\\n    LENGTH_OF_STAY_IN_ER,\\n    VITAL_MEASUREMENT_NAME,\\n    VITAL_MEASUREMENT_VALUE,\\n    VITAL_MEASUREMENT_TIMESTAMP,\\n    LAB_TEST_NAME,\\n    LAB_TEST_TIMESTAMP,\\n    LAB_TEST_RESULT_VALUE,\\n    LAB_TEST_RESULT_UNIT,\\n    REFERENCE_RANGE,\\n)\\nfrom cyclops.processors.constants import EMPTY_STRING\\nfrom cyclops.processors.admin import AdminProcessor\\nfrom cyclops.processors.vitals import VitalsProcessor\\nfrom cyclops.processors.labs import LabsProcessor\\nfrom cyclops.processors.outcomes import OutcomesProcessor\\nfrom cyclops.processors.feature_handler import FeatureHandler\\nfrom cyclops.orm import Database\\n\\n%reload_ext autoreload\\n%reload_ext nb_black\";\n",
       "                var nbb_cells = Jupyter.notebook.get_cells();\n",
       "                for (var i = 0; i < nbb_cells.length; ++i) {\n",
       "                    if (nbb_cells[i].input_prompt_number == nbb_cell_id) {\n",
       "                        if (nbb_cells[i].get_text() == nbb_unformatted_code) {\n",
       "                             nbb_cells[i].set_text(nbb_formatted_code);\n",
       "                        }\n",
       "                        break;\n",
       "                    }\n",
       "                }\n",
       "            }, 500);\n",
       "            "
      ],
      "text/plain": [
       "<IPython.core.display.Javascript object>"
      ]
     },
     "metadata": {},
     "output_type": "display_data"
    }
   ],
   "source": [
    "import sys\n",
    "import pandas as pd\n",
    "import numpy as np\n",
    "import os\n",
    "from functools import reduce\n",
    "import datetime\n",
    "import joblib\n",
    "import matplotlib.pyplot as plt\n",
    "from sklearn.metrics import (\n",
    "    auc,\n",
    "    accuracy_score,\n",
    "    confusion_matrix,\n",
    "    roc_auc_score,\n",
    "    roc_curve,\n",
    "    precision_recall_curve,\n",
    "    average_precision_score,\n",
    ")\n",
    "from sklearn.model_selection import GridSearchCV, train_test_split\n",
    "\n",
    "sys.path.append(\"..\")\n",
    "\n",
    "from shift_detector import *\n",
    "from shift_reductor import *\n",
    "from shift_experiments import *\n",
    "from shift_explainer import *\n",
    "from shift_tester import *\n",
    "from shift_utils import *\n",
    "from shift_models import *\n",
    "from shift_constants import *\n",
    "from shift_plot_utils import *\n",
    "\n",
    "sys.path.append(\"../..\")\n",
    "\n",
    "import sqlalchemy\n",
    "from sqlalchemy import select, func, extract, desc\n",
    "from sqlalchemy.sql.expression import and_\n",
    "\n",
    "from evidently import ColumnMapping\n",
    "from evidently.dashboard import Dashboard\n",
    "from evidently.dashboard.tabs import DataQualityTab\n",
    "from evidently.model_profile import Profile\n",
    "from evidently.model_profile.sections import DataQualityProfileSection\n",
    "\n",
    "import config\n",
    "import cyclops\n",
    "from cyclops.processors.column_names import (\n",
    "    ENCOUNTER_ID,\n",
    "    HOSPITAL_ID,\n",
    "    ADMIT_TIMESTAMP,\n",
    "    DISCHARGE_TIMESTAMP,\n",
    "    DISCHARGE_DISPOSITION,\n",
    "    READMISSION,\n",
    "    AGE,\n",
    "    SEX,\n",
    "    TOTAL_COST,\n",
    "    CITY,\n",
    "    PROVINCE,\n",
    "    COUNTRY,\n",
    "    LANGUAGE,\n",
    "    LENGTH_OF_STAY_IN_ER,\n",
    "    VITAL_MEASUREMENT_NAME,\n",
    "    VITAL_MEASUREMENT_VALUE,\n",
    "    VITAL_MEASUREMENT_TIMESTAMP,\n",
    "    LAB_TEST_NAME,\n",
    "    LAB_TEST_TIMESTAMP,\n",
    "    LAB_TEST_RESULT_VALUE,\n",
    "    LAB_TEST_RESULT_UNIT,\n",
    "    REFERENCE_RANGE,\n",
    ")\n",
    "from cyclops.processors.constants import EMPTY_STRING\n",
    "from cyclops.processors.admin import AdminProcessor\n",
    "from cyclops.processors.vitals import VitalsProcessor\n",
    "from cyclops.processors.labs import LabsProcessor\n",
    "from cyclops.processors.outcomes import OutcomesProcessor\n",
    "from cyclops.processors.feature_handler import FeatureHandler\n",
    "from cyclops.orm import Database\n",
    "\n",
    "%reload_ext autoreload\n",
    "%reload_ext nb_black"
   ]
  },
  {
   "cell_type": "code",
   "execution_count": 2,
   "id": "disciplinary-tradition",
   "metadata": {},
   "outputs": [
    {
     "data": {
      "application/javascript": [
       "\n",
       "            setTimeout(function() {\n",
       "                var nbb_cell_id = 2;\n",
       "                var nbb_unformatted_code = \"PATH = \\\"/mnt/nfs/project/delirium/drift_exp/\\\"\\nDATASET = \\\"gemini\\\"\\nSAMPLES = [10, 20, 50, 100, 200, 500, 1000, 2000]\\nPATH = \\\"/mnt/nfs/project/delirium/drift_exp/\\\"\\nRANDOM_RUNS = 5\\nSIGN_LEVEL = 0.05\\ncalc_acc = True\\nSAMPLES = [10, 20, 50, 100, 200, 500, 1000, 2000]\\nSHIFTS = [\\\"hosp_type\\\", \\\"academic\\\", \\\"community\\\"]\\nOUTCOMES = [\\\"length_of_stay_in_er\\\", \\\"mortality_in_hospital\\\"]\\nHOSPITALS = [\\\"SMH\\\", \\\"MSH\\\", \\\"THPC\\\", \\\"THPM\\\", \\\"UHNTG\\\", \\\"UHNTW\\\"]\\nDR_TECHNIQUES = [\\\"NoRed\\\", \\\"SRP\\\", \\\"PCA\\\", \\\"BBSDs_FFNN\\\"]\\nMD_TESTS = [\\\"MMD\\\", \\\"LK\\\", \\\"LSDD\\\"]\";\n",
       "                var nbb_formatted_code = \"PATH = \\\"/mnt/nfs/project/delirium/drift_exp/\\\"\\nDATASET = \\\"gemini\\\"\\nSAMPLES = [10, 20, 50, 100, 200, 500, 1000, 2000]\\nPATH = \\\"/mnt/nfs/project/delirium/drift_exp/\\\"\\nRANDOM_RUNS = 5\\nSIGN_LEVEL = 0.05\\ncalc_acc = True\\nSAMPLES = [10, 20, 50, 100, 200, 500, 1000, 2000]\\nSHIFTS = [\\\"hosp_type\\\", \\\"academic\\\", \\\"community\\\"]\\nOUTCOMES = [\\\"length_of_stay_in_er\\\", \\\"mortality_in_hospital\\\"]\\nHOSPITALS = [\\\"SMH\\\", \\\"MSH\\\", \\\"THPC\\\", \\\"THPM\\\", \\\"UHNTG\\\", \\\"UHNTW\\\"]\\nDR_TECHNIQUES = [\\\"NoRed\\\", \\\"SRP\\\", \\\"PCA\\\", \\\"BBSDs_FFNN\\\"]\\nMD_TESTS = [\\\"MMD\\\", \\\"LK\\\", \\\"LSDD\\\"]\";\n",
       "                var nbb_cells = Jupyter.notebook.get_cells();\n",
       "                for (var i = 0; i < nbb_cells.length; ++i) {\n",
       "                    if (nbb_cells[i].input_prompt_number == nbb_cell_id) {\n",
       "                        if (nbb_cells[i].get_text() == nbb_unformatted_code) {\n",
       "                             nbb_cells[i].set_text(nbb_formatted_code);\n",
       "                        }\n",
       "                        break;\n",
       "                    }\n",
       "                }\n",
       "            }, 500);\n",
       "            "
      ],
      "text/plain": [
       "<IPython.core.display.Javascript object>"
      ]
     },
     "metadata": {},
     "output_type": "display_data"
    }
   ],
   "source": [
    "PATH = \"/mnt/nfs/project/delirium/drift_exp/\"\n",
    "DATASET = \"gemini\"\n",
    "SAMPLES = [10, 20, 50, 100, 200, 500, 1000, 2000]\n",
    "PATH = \"/mnt/nfs/project/delirium/drift_exp/\"\n",
    "RANDOM_RUNS = 5\n",
    "SIGN_LEVEL = 0.05\n",
    "calc_acc = True\n",
    "SAMPLES = [10, 20, 50, 100, 200, 500, 1000, 2000]\n",
    "SHIFTS = [\"hosp_type\", \"academic\", \"community\"]\n",
    "OUTCOMES = [\"length_of_stay_in_er\", \"mortality_in_hospital\"]\n",
    "HOSPITALS = [\"SMH\", \"MSH\", \"THPC\", \"THPM\", \"UHNTG\", \"UHNTW\"]\n",
    "DR_TECHNIQUES = [\"NoRed\", \"SRP\", \"PCA\", \"BBSDs_FFNN\"]\n",
    "MD_TESTS = [\"MMD\", \"LK\", \"LSDD\"]"
   ]
  },
  {
   "cell_type": "code",
   "execution_count": 3,
   "id": "helpful-green",
   "metadata": {},
   "outputs": [
    {
     "name": "stdout",
     "output_type": "stream",
     "text": [
      "Select outcome variable: length_of_stay_in_er\n"
     ]
    },
    {
     "data": {
      "application/javascript": [
       "\n",
       "            setTimeout(function() {\n",
       "                var nbb_cell_id = 3;\n",
       "                var nbb_unformatted_code = \"OUTCOME = input(\\\"Select outcome variable: \\\")\\nNA_CUTOFF = 0.60\";\n",
       "                var nbb_formatted_code = \"OUTCOME = input(\\\"Select outcome variable: \\\")\\nNA_CUTOFF = 0.60\";\n",
       "                var nbb_cells = Jupyter.notebook.get_cells();\n",
       "                for (var i = 0; i < nbb_cells.length; ++i) {\n",
       "                    if (nbb_cells[i].input_prompt_number == nbb_cell_id) {\n",
       "                        if (nbb_cells[i].get_text() == nbb_unformatted_code) {\n",
       "                             nbb_cells[i].set_text(nbb_formatted_code);\n",
       "                        }\n",
       "                        break;\n",
       "                    }\n",
       "                }\n",
       "            }, 500);\n",
       "            "
      ],
      "text/plain": [
       "<IPython.core.display.Javascript object>"
      ]
     },
     "metadata": {},
     "output_type": "display_data"
    }
   ],
   "source": [
    "OUTCOME = input(\"Select outcome variable: \")\n",
    "NA_CUTOFF = 0.60"
   ]
  },
  {
   "cell_type": "code",
   "execution_count": 7,
   "id": "surface-ceiling",
   "metadata": {},
   "outputs": [
    {
     "data": {
      "application/javascript": [
       "\n",
       "            setTimeout(function() {\n",
       "                var nbb_cell_id = 7;\n",
       "                var nbb_unformatted_code = \"# Run shift experiments\\nif os.path.exists(PATH + \\\"/mean_dr_md_hosptype.pkl\\\"):\\n    with open(PATH + \\\"/mean_dr_md_hosptype.pkl\\\", \\\"rb\\\") as f:\\n        mean_dr_md = pickle.load(f)\\nelse:\\n    mean_dr_md = np.ones(\\n        (len(SHIFTS), len(DR_TECHNIQUES), len(MD_TESTS), len(SAMPLES))\\n    ) * (-1)\\n\\nif os.path.exists(PATH + \\\"/std_dr_md_hosptype.pkl\\\"):\\n    with open(PATH + \\\"/std_dr_md_hosptype.pkl\\\", \\\"rb\\\") as f:\\n        std_dr_md = pickle.load(f)\\nelse:\\n    std_dr_md = np.ones(\\n        (len(SHIFTS), len(DR_TECHNIQUES), len(MD_TESTS), len(SAMPLES))\\n    ) * (-1)\\n\\nfor si, SHIFT in enumerate(SHIFTS):\\n    for di, DR_TECHNIQUE in enumerate(DR_TECHNIQUES):\\n        for mi, MD_TEST in enumerate(MD_TESTS):\\n            if np.any(mean_dr_md[si, di, mi, :] == -1):\\n                print(\\\"{} | {} | {}\\\".format(SHIFT, DR_TECHNIQUE, MD_TEST))\\n                try:\\n                    mean_p_vals, std_p_vals = run_shift_experiment(\\n                        SHIFT,\\n                        OUTCOME,\\n                        HOSPITALS,\\n                        PATH,\\n                        DR_TECHNIQUE,\\n                        MD_TEST,\\n                        SAMPLES,\\n                        DATASET,\\n                        SIGN_LEVEL,\\n                        NA_CUTOFF,\\n                        RANDOM_RUNS,\\n                        calc_acc=True,\\n                    )\\n                    mean_dr_md[si, di, mi, :] = mean_p_vals\\n                    std_dr_md[si, di, mi, :] = std_p_vals\\n                except ValueError as e:\\n                    print(\\\"Value Error\\\")\\n                    pass\";\n",
       "                var nbb_formatted_code = \"# Run shift experiments\\nif os.path.exists(PATH + \\\"/mean_dr_md_hosptype.pkl\\\"):\\n    with open(PATH + \\\"/mean_dr_md_hosptype.pkl\\\", \\\"rb\\\") as f:\\n        mean_dr_md = pickle.load(f)\\nelse:\\n    mean_dr_md = np.ones(\\n        (len(SHIFTS), len(DR_TECHNIQUES), len(MD_TESTS), len(SAMPLES))\\n    ) * (-1)\\n\\nif os.path.exists(PATH + \\\"/std_dr_md_hosptype.pkl\\\"):\\n    with open(PATH + \\\"/std_dr_md_hosptype.pkl\\\", \\\"rb\\\") as f:\\n        std_dr_md = pickle.load(f)\\nelse:\\n    std_dr_md = np.ones(\\n        (len(SHIFTS), len(DR_TECHNIQUES), len(MD_TESTS), len(SAMPLES))\\n    ) * (-1)\\n\\nfor si, SHIFT in enumerate(SHIFTS):\\n    for di, DR_TECHNIQUE in enumerate(DR_TECHNIQUES):\\n        for mi, MD_TEST in enumerate(MD_TESTS):\\n            if np.any(mean_dr_md[si, di, mi, :] == -1):\\n                print(\\\"{} | {} | {}\\\".format(SHIFT, DR_TECHNIQUE, MD_TEST))\\n                try:\\n                    mean_p_vals, std_p_vals = run_shift_experiment(\\n                        SHIFT,\\n                        OUTCOME,\\n                        HOSPITALS,\\n                        PATH,\\n                        DR_TECHNIQUE,\\n                        MD_TEST,\\n                        SAMPLES,\\n                        DATASET,\\n                        SIGN_LEVEL,\\n                        NA_CUTOFF,\\n                        RANDOM_RUNS,\\n                        calc_acc=True,\\n                    )\\n                    mean_dr_md[si, di, mi, :] = mean_p_vals\\n                    std_dr_md[si, di, mi, :] = std_p_vals\\n                except ValueError as e:\\n                    print(\\\"Value Error\\\")\\n                    pass\";\n",
       "                var nbb_cells = Jupyter.notebook.get_cells();\n",
       "                for (var i = 0; i < nbb_cells.length; ++i) {\n",
       "                    if (nbb_cells[i].input_prompt_number == nbb_cell_id) {\n",
       "                        if (nbb_cells[i].get_text() == nbb_unformatted_code) {\n",
       "                             nbb_cells[i].set_text(nbb_formatted_code);\n",
       "                        }\n",
       "                        break;\n",
       "                    }\n",
       "                }\n",
       "            }, 500);\n",
       "            "
      ],
      "text/plain": [
       "<IPython.core.display.Javascript object>"
      ]
     },
     "metadata": {},
     "output_type": "display_data"
    }
   ],
   "source": [
    "# Run shift experiments\n",
    "if os.path.exists(PATH + \"/mean_dr_md_hosptype.pkl\"):\n",
    "    with open(PATH + \"/mean_dr_md_hosptype.pkl\", \"rb\") as f:\n",
    "        mean_dr_md = pickle.load(f)\n",
    "else:\n",
    "    mean_dr_md = np.ones(\n",
    "        (len(SHIFTS), len(DR_TECHNIQUES), len(MD_TESTS), len(SAMPLES))\n",
    "    ) * (-1)\n",
    "\n",
    "if os.path.exists(PATH + \"/std_dr_md_hosptype.pkl\"):\n",
    "    with open(PATH + \"/std_dr_md_hosptype.pkl\", \"rb\") as f:\n",
    "        std_dr_md = pickle.load(f)\n",
    "else:\n",
    "    std_dr_md = np.ones(\n",
    "        (len(SHIFTS), len(DR_TECHNIQUES), len(MD_TESTS), len(SAMPLES))\n",
    "    ) * (-1)\n",
    "\n",
    "for si, SHIFT in enumerate(SHIFTS):\n",
    "    for di, DR_TECHNIQUE in enumerate(DR_TECHNIQUES):\n",
    "        for mi, MD_TEST in enumerate(MD_TESTS):\n",
    "            if np.any(mean_dr_md[si, di, mi, :] == -1):\n",
    "                print(\"{} | {} | {}\".format(SHIFT, DR_TECHNIQUE, MD_TEST))\n",
    "                try:\n",
    "                    mean_p_vals, std_p_vals = run_shift_experiment(\n",
    "                        SHIFT,\n",
    "                        OUTCOME,\n",
    "                        HOSPITALS,\n",
    "                        PATH,\n",
    "                        DR_TECHNIQUE,\n",
    "                        MD_TEST,\n",
    "                        SAMPLES,\n",
    "                        DATASET,\n",
    "                        SIGN_LEVEL,\n",
    "                        NA_CUTOFF,\n",
    "                        RANDOM_RUNS,\n",
    "                        calc_acc=True,\n",
    "                    )\n",
    "                    mean_dr_md[si, di, mi, :] = mean_p_vals\n",
    "                    std_dr_md[si, di, mi, :] = std_p_vals\n",
    "                except ValueError as e:\n",
    "                    print(\"Value Error\")\n",
    "                    pass"
   ]
  },
  {
   "cell_type": "code",
   "execution_count": 8,
   "id": "representative-ensemble",
   "metadata": {},
   "outputs": [
    {
     "data": {
      "application/javascript": [
       "\n",
       "            setTimeout(function() {\n",
       "                var nbb_cell_id = 8;\n",
       "                var nbb_unformatted_code = \"# Run shift experiments\\nif not os.path.exists(PATH + \\\"/mean_dr_md_hosptype.pkl\\\"):\\n    with open(PATH + \\\"/mean_dr_md_hosptype.pkl\\\", \\\"wb\\\") as f:\\n        pickle.dump(mean_dr_md, f)\\nif not os.path.exists(PATH + \\\"/std_dr_md_hosptype.pkl\\\"):\\n    with open(PATH + \\\"/std_dr_md_hosptype.pkl\\\", \\\"wb\\\") as f:\\n        pickle.dump(std_dr_md, f)\";\n",
       "                var nbb_formatted_code = \"# Run shift experiments\\nif not os.path.exists(PATH + \\\"/mean_dr_md_hosptype.pkl\\\"):\\n    with open(PATH + \\\"/mean_dr_md_hosptype.pkl\\\", \\\"wb\\\") as f:\\n        pickle.dump(mean_dr_md, f)\\nif not os.path.exists(PATH + \\\"/std_dr_md_hosptype.pkl\\\"):\\n    with open(PATH + \\\"/std_dr_md_hosptype.pkl\\\", \\\"wb\\\") as f:\\n        pickle.dump(std_dr_md, f)\";\n",
       "                var nbb_cells = Jupyter.notebook.get_cells();\n",
       "                for (var i = 0; i < nbb_cells.length; ++i) {\n",
       "                    if (nbb_cells[i].input_prompt_number == nbb_cell_id) {\n",
       "                        if (nbb_cells[i].get_text() == nbb_unformatted_code) {\n",
       "                             nbb_cells[i].set_text(nbb_formatted_code);\n",
       "                        }\n",
       "                        break;\n",
       "                    }\n",
       "                }\n",
       "            }, 500);\n",
       "            "
      ],
      "text/plain": [
       "<IPython.core.display.Javascript object>"
      ]
     },
     "metadata": {},
     "output_type": "display_data"
    }
   ],
   "source": [
    "# Run shift experiments\n",
    "if not os.path.exists(PATH + \"/mean_dr_md_hosptype.pkl\"):\n",
    "    with open(PATH + \"/mean_dr_md_hosptype.pkl\", \"wb\") as f:\n",
    "        pickle.dump(mean_dr_md, f)\n",
    "if not os.path.exists(PATH + \"/std_dr_md_hosptype.pkl\"):\n",
    "    with open(PATH + \"/std_dr_md_hosptype.pkl\", \"wb\") as f:\n",
    "        pickle.dump(std_dr_md, f)"
   ]
  },
  {
   "cell_type": "code",
   "execution_count": 11,
   "id": "burning-hospital",
   "metadata": {},
   "outputs": [
    {
     "name": "stdout",
     "output_type": "stream",
     "text": [
      "Select Pre-Processing: NoRed\n",
      "Select Two-Sample Testing: LSDD\n"
     ]
    },
    {
     "data": {
      "image/png": "[encoded data removed]",
      "text/plain": [
       "<Figure size 576x432 with 1 Axes>"
      ]
     },
     "metadata": {
      "needs_background": "light"
     },
     "output_type": "display_data"
    },
    {
     "data": {
      "application/javascript": [
       "\n",
       "            setTimeout(function() {\n",
       "                var nbb_cell_id = 11;\n",
       "                var nbb_unformatted_code = \"DIM_RED = input(\\\"Select Pre-Processing: \\\")\\nMD_TEST = input(\\\"Select Two-Sample Testing: \\\")\\n\\nfig = plt.figure(figsize=(8, 6))\\nfor si, shift in enumerate(SHIFTS):\\n    for di, dr_technique in enumerate(DR_TECHNIQUES):\\n        for mi, md_test in enumerate(MD_TESTS):\\n            if shift in SHIFTS and dr_technique == DIM_RED and md_test == MD_TEST:\\n                errorfill(\\n                    np.array(SAMPLES[1:]),\\n                    mean_dr_md[si, di, mi, 1:],\\n                    std_dr_md[si, di, mi, 1:],\\n                    fmt=linestyles[di] + markers[di],\\n                    color=colorscale(colors[si], brightness[mi]),\\n                    label=\\\"%s\\\" % \\\"_\\\".join([shift, dr_technique, md_test]),\\n                )\\nplt.xlabel(\\\"Number of samples from test data\\\")\\nplt.ylabel(\\\"$p$-value\\\")\\nplt.axhline(y=SIGN_LEVEL, color=\\\"k\\\")\\nplt.legend()\\nplt.show()\";\n",
       "                var nbb_formatted_code = \"DIM_RED = input(\\\"Select Pre-Processing: \\\")\\nMD_TEST = input(\\\"Select Two-Sample Testing: \\\")\\n\\nfig = plt.figure(figsize=(8, 6))\\nfor si, shift in enumerate(SHIFTS):\\n    for di, dr_technique in enumerate(DR_TECHNIQUES):\\n        for mi, md_test in enumerate(MD_TESTS):\\n            if shift in SHIFTS and dr_technique == DIM_RED and md_test == MD_TEST:\\n                errorfill(\\n                    np.array(SAMPLES[1:]),\\n                    mean_dr_md[si, di, mi, 1:],\\n                    std_dr_md[si, di, mi, 1:],\\n                    fmt=linestyles[di] + markers[di],\\n                    color=colorscale(colors[si], brightness[mi]),\\n                    label=\\\"%s\\\" % \\\"_\\\".join([shift, dr_technique, md_test]),\\n                )\\nplt.xlabel(\\\"Number of samples from test data\\\")\\nplt.ylabel(\\\"$p$-value\\\")\\nplt.axhline(y=SIGN_LEVEL, color=\\\"k\\\")\\nplt.legend()\\nplt.show()\";\n",
       "                var nbb_cells = Jupyter.notebook.get_cells();\n",
       "                for (var i = 0; i < nbb_cells.length; ++i) {\n",
       "                    if (nbb_cells[i].input_prompt_number == nbb_cell_id) {\n",
       "                        if (nbb_cells[i].get_text() == nbb_unformatted_code) {\n",
       "                             nbb_cells[i].set_text(nbb_formatted_code);\n",
       "                        }\n",
       "                        break;\n",
       "                    }\n",
       "                }\n",
       "            }, 500);\n",
       "            "
      ],
      "text/plain": [
       "<IPython.core.display.Javascript object>"
      ]
     },
     "metadata": {},
     "output_type": "display_data"
    }
   ],
   "source": [
    "DIM_RED = input(\"Select Pre-Processing: \")\n",
    "MD_TEST = input(\"Select Two-Sample Testing: \")\n",
    "\n",
    "fig = plt.figure(figsize=(8, 6))\n",
    "for si, shift in enumerate(SHIFTS):\n",
    "    for di, dr_technique in enumerate(DR_TECHNIQUES):\n",
    "        for mi, md_test in enumerate(MD_TESTS):\n",
    "            if shift in SHIFTS and dr_technique == DIM_RED and md_test == MD_TEST:\n",
    "                errorfill(\n",
    "                    np.array(SAMPLES[1:]),\n",
    "                    mean_dr_md[si, di, mi, 1:],\n",
    "                    std_dr_md[si, di, mi, 1:],\n",
    "                    fmt=linestyles[di] + markers[di],\n",
    "                    color=colorscale(colors[si], brightness[mi]),\n",
    "                    label=\"%s\" % \"_\".join([shift, dr_technique, md_test]),\n",
    "                )\n",
    "plt.xlabel(\"Number of samples from test data\")\n",
    "plt.ylabel(\"$p$-value\")\n",
    "plt.axhline(y=SIGN_LEVEL, color=\"k\")\n",
    "plt.legend()\n",
    "plt.show()"
   ]
  },
  {
   "cell_type": "code",
   "execution_count": null,
   "id": "impaired-range",
   "metadata": {},
   "outputs": [],
   "source": [
    "(\n",
    "    (X_train, y_train),\n",
    "    (X_val, y_val),\n",
    "    (X_test, y_test),\n",
    "    feats,\n",
    "    orig_dims,\n",
    ") = import_dataset_hospital(\n",
    "    SHIFT_EXPERIMENT, OUTCOME, HOSPITALS, NA_CUTOFF, shuffle=True\n",
    ")\n",
    "\n",
    "MODEL_NAME = input(\"Select Model: \")\n",
    "MODEL_PATH = PATH + \"_\".join([SHIFT_EXPERIMENT, OUTCOME, MODEL_NAME]) + \".pkl\"\n",
    "if os.path.exists(MODEL_PATH):\n",
    "    optimised_model = pickle.load(open(MODEL_PATH, \"rb\"))\n",
    "else:\n",
    "    optimised_model = run_model(MODEL_NAME, X_train, y_train, X_val, y_val)"
   ]
  }
 ],
 "metadata": {
  "kernelspec": {
   "display_name": "vector_delirium",
   "language": "python",
   "name": "vector_delirium"
  },
  "language_info": {
   "codemirror_mode": {
    "name": "ipython",
    "version": 3
   },
   "file_extension": ".py",
   "mimetype": "text/x-python",
   "name": "python",
   "nbconvert_exporter": "python",
   "pygments_lexer": "ipython3",
   "version": "3.8.5"
  }
 },
 "nbformat": 4,
 "nbformat_minor": 5
}
