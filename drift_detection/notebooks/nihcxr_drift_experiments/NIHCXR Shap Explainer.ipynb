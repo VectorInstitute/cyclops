{
 "cells": [
  {
   "cell_type": "code",
   "execution_count": null,
   "id": "8faaa3ff",
   "metadata": {},
   "outputs": [],
   "source": [
    "from torchxrayvision.datasets import XRayCenterCrop, XRayResizer\n",
    "from torchxrayvision.datasets import NIH_Dataset\n",
    "from torchxrayvision.models import DenseNet, ResNet\n",
    "import torchvision.transforms as transforms\n",
    "from torchvision.utils import make_grid\n",
    "from torch.utils.data import Subset\n",
    "import matplotlib.pyplot as plt\n",
    "import numpy as np\n",
    "import torch"
   ]
  },
  {
   "cell_type": "code",
   "execution_count": null,
   "id": "3efc6306",
   "metadata": {},
   "outputs": [],
   "source": [
    "import torch, torchvision\n",
    "from torch import nn\n",
    "from torchvision import transforms, models, datasets\n",
    "import shap\n",
    "import json\n",
    "import numpy as np\n",
    "import os"
   ]
  },
  {
   "cell_type": "code",
   "execution_count": null,
   "id": "9a218dda",
   "metadata": {},
   "outputs": [],
   "source": [
    "# paths for NIH dataset\n",
    "IMAGE_PATH = '/home/akore/NIHCXR/images'\n",
    "CSV_PATH = '/home/akore/NIHCXR/Data_Entry_2017.csv'\n",
    "\n",
    "# load NIH dataset\n",
    "dataset = NIH_Dataset(IMAGE_PATH, CSV_PATH, \n",
    "                      views=['AP', 'PA'], unique_patients=False, \n",
    "                      transform=transforms.Compose([XRayCenterCrop(),\n",
    "                                                    XRayResizer(224, engine='cv2')]))\n",
    "\n",
    "# grab random subset of 400 image indices from dataset\n",
    "indices = list(range(50)) \n",
    "dataset = Subset(dataset, indices)"
   ]
  },
  {
   "cell_type": "code",
   "execution_count": null,
   "id": "e12b68f1",
   "metadata": {},
   "outputs": [],
   "source": [
    "model = DenseNet(weights=\"densenet121-res224-all\").eval()"
   ]
  },
  {
   "cell_type": "code",
   "execution_count": null,
   "id": "3107e22c",
   "metadata": {},
   "outputs": [],
   "source": [
    "X = torch.concat([torch.tensor(img['img']) for img in dataset]).unsqueeze(1)\n",
    "to_explain = torch.from_numpy(dataset[0]['img']).unsqueeze(0)"
   ]
  },
  {
   "cell_type": "code",
   "execution_count": null,
   "id": "437c494e",
   "metadata": {},
   "outputs": [],
   "source": [
    "class_names = model.pathologies"
   ]
  },
  {
   "cell_type": "code",
   "execution_count": null,
   "id": "a50a2050",
   "metadata": {},
   "outputs": [],
   "source": [
    "e = shap.GradientExplainer((model, model.features), imgs)"
   ]
  },
  {
   "cell_type": "code",
   "execution_count": null,
   "id": "845412d4",
   "metadata": {},
   "outputs": [],
   "source": [
    "shap_values, indexes = e.shap_values(to_explain, ranked_outputs=2, nsamples=200)"
   ]
  },
  {
   "cell_type": "code",
   "execution_count": null,
   "id": "d890e4d1",
   "metadata": {},
   "outputs": [],
   "source": [
    "# get the names for the classes\n",
    "index_names = np.vectorize(lambda x: class_names[x])(indexes)"
   ]
  },
  {
   "cell_type": "code",
   "execution_count": null,
   "id": "e5253659",
   "metadata": {},
   "outputs": [],
   "source": [
    "# plot the explanations\n",
    "shap_values = [np.swapaxes(np.swapaxes(s, 2, 3), 1, -1) for s in shap_values]"
   ]
  },
  {
   "cell_type": "code",
   "execution_count": null,
   "id": "f450cc47",
   "metadata": {},
   "outputs": [],
   "source": [
    "shap.image_plot(shap_values, np.array(to_explain[0]), index_names)"
   ]
  }
 ],
 "metadata": {
  "kernelspec": {
   "display_name": "Python 3 (ipykernel)",
   "language": "python",
   "name": "python3"
  },
  "language_info": {
   "codemirror_mode": {
    "name": "ipython",
    "version": 3
   },
   "file_extension": ".py",
   "mimetype": "text/x-python",
   "name": "python",
   "nbconvert_exporter": "python",
   "pygments_lexer": "ipython3",
   "version": "3.9.7"
  }
 },
 "nbformat": 4,
 "nbformat_minor": 5
}
