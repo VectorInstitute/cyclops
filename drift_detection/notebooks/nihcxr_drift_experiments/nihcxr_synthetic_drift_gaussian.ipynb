{
 "cells": [
  {
   "cell_type": "markdown",
   "id": "6b2520a8-d4ad-4941-8ea7-71fdd631225f",
   "metadata": {},
   "source": [
    "### Synthetic Drift Detection ###"
   ]
  },
  {
   "cell_type": "code",
   "execution_count": null,
   "id": "checked-supervisor",
   "metadata": {},
   "outputs": [],
   "source": [
    "import os\n",
    "\n",
    "import numpy as np\n",
    "import torchvision.transforms as transforms\n",
    "from torch.utils.data import Subset\n",
    "from torchxrayvision.datasets import NIH_Dataset, XRayCenterCrop, XRayResizer\n",
    "\n",
    "from drift_detection.drift_detector.detector import Detector\n",
    "from drift_detection.drift_detector.experimenter import Experimenter\n",
    "from drift_detection.drift_detector.plotter import plot_drift_samples_pval\n",
    "from drift_detection.drift_detector.reductor import Reductor\n",
    "from drift_detection.drift_detector.synthetic_applicator import SyntheticShiftApplicator\n",
    "from drift_detection.drift_detector.tester import TSTester\n",
    "\n",
    "IMAGE_PATH = os.environ[\"NIHCXR_IMAGE_PATH\"]\n",
    "CSV_PATH = os.environ[\"NIHCXR_CSV_PATH\"]\n",
    "\n",
    "# load NIH dataset\n",
    "dataset = NIH_Dataset(\n",
    "    IMAGE_PATH,\n",
    "    CSV_PATH,\n",
    "    views=[\"AP\", \"PA\"],\n",
    "    unique_patients=False,\n",
    "    transform=transforms.Compose([XRayCenterCrop(), XRayResizer(224, engine=\"cv2\")]),\n",
    ")\n",
    "\n",
    "# grab random subset of 2000 images from dataset\n",
    "indices = np.random.randint(len(dataset), size=2000)\n",
    "dataset = Subset(dataset, indices)\n",
    "\n",
    "reductor = Reductor(\n",
    "    dr_method=\"TAE_txrv_CNN\",\n",
    ")\n",
    "\n",
    "tester = TSTester(\n",
    "    tester_method=\"mmd\",\n",
    ")\n",
    "\n",
    "\n",
    "detector = Detector(\n",
    "    reductor=reductor,\n",
    "    tester=tester,\n",
    "    p_val_threshold=0.05,\n",
    ")\n",
    "detector.fit(dataset)\n",
    "\n",
    "\n",
    "shiftapplicator = SyntheticShiftApplicator(\n",
    "    shift_type=\"gn_shift\",\n",
    ")\n",
    "\n",
    "baseline_experiment = Experimenter(\n",
    "    \"sensitivity_test\",\n",
    "    detector=detector,\n",
    ")\n",
    "\n",
    "drift_experiment = Experimenter(\n",
    "    \"sensitivity_test\",\n",
    "    detector=detector,\n",
    "    shiftapplicator=shiftapplicator,\n",
    ")\n",
    "\n",
    "baseline_results = baseline_experiment.run(dataset)\n",
    "drift_results = drift_experiment.run(dataset)\n",
    "\n",
    "results = {\"baseline\": baseline_results, \"experiment\": drift_results}"
   ]
  },
  {
   "cell_type": "code",
   "execution_count": null,
   "id": "5f96bc43",
   "metadata": {},
   "outputs": [],
   "source": [
    "plot_drift_samples_pval(results, 0.05)"
   ]
  }
 ],
 "metadata": {
  "kernelspec": {
   "display_name": "cyclops",
   "language": "python",
   "name": "cyclops"
  },
  "language_info": {
   "codemirror_mode": {
    "name": "ipython",
    "version": 3
   },
   "file_extension": ".py",
   "mimetype": "text/x-python",
   "name": "python",
   "nbconvert_exporter": "python",
   "pygments_lexer": "ipython3",
   "version": "3.9.7"
  }
 },
 "nbformat": 4,
 "nbformat_minor": 5
}
