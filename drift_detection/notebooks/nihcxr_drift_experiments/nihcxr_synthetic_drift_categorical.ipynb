{
 "cells": [
  {
   "cell_type": "markdown",
   "id": "6b2520a8-d4ad-4941-8ea7-71fdd631225f",
   "metadata": {},
   "source": [
    "# NIHCXR Synthetic Drift - Categorical Shift"
   ]
  },
  {
   "cell_type": "markdown",
   "id": "275fdb05",
   "metadata": {},
   "source": [
    "## Load Libraries"
   ]
  },
  {
   "cell_type": "code",
   "execution_count": null,
   "id": "8aa3302d",
   "metadata": {},
   "outputs": [],
   "source": [
    "from drift_detection.drift_detector import (\n",
    "    Detector,\n",
    "    Experimenter,\n",
    "    Reductor,\n",
    "    SyntheticShiftApplicator,\n",
    "    TSTester,\n",
    "    plot_drift_samples_pval,\n",
    ")\n",
    "\n",
    "# from drift_detection.datasets.utils import load_dataset"
   ]
  },
  {
   "cell_type": "markdown",
   "id": "6df16752",
   "metadata": {},
   "source": [
    "## Query Data"
   ]
  },
  {
   "cell_type": "code",
   "execution_count": null,
   "id": "3b16b869",
   "metadata": {},
   "outputs": [],
   "source": [
    "load_dataset = callable()\n",
    "dataset, metadata, metadata_mapping = load_dataset(\n",
    "    \"nihcxr\", \"../../datasets/configs/nihcxr.yaml\"\n",
    ")\n",
    "\n",
    "type(dataset)"
   ]
  },
  {
   "cell_type": "markdown",
   "id": "c06f808d",
   "metadata": {},
   "source": [
    "## Initalize Reductor, Tester & Detector"
   ]
  },
  {
   "cell_type": "code",
   "execution_count": null,
   "id": "e350f886",
   "metadata": {},
   "outputs": [],
   "source": [
    "reductor = Reductor(\n",
    "    dr_method=\"TAE_txrv_CNN\",\n",
    ")\n",
    "\n",
    "tester = TSTester(\n",
    "    tester_method=\"mmd\",\n",
    ")\n",
    "\n",
    "\n",
    "detector = Detector(\n",
    "    reductor=reductor,\n",
    "    tester=tester,\n",
    ")\n",
    "\n",
    "detector.fit(dataset, progress=False)"
   ]
  },
  {
   "cell_type": "markdown",
   "id": "bc9302e3",
   "metadata": {},
   "source": [
    "## Setup Baseline Experiment"
   ]
  },
  {
   "cell_type": "code",
   "execution_count": null,
   "id": "60c6c946",
   "metadata": {},
   "outputs": [],
   "source": [
    "baseline_experiment = Experimenter(\n",
    "    \"sensitivity_test\",\n",
    "    detector=detector,\n",
    ")"
   ]
  },
  {
   "cell_type": "markdown",
   "id": "b40cf9e1",
   "metadata": {},
   "source": [
    "## Setup Drift Experiment (Categorical Shift)"
   ]
  },
  {
   "cell_type": "code",
   "execution_count": null,
   "id": "ce636179",
   "metadata": {},
   "outputs": [],
   "source": [
    "shiftapplicator = SyntheticShiftApplicator(\n",
    "    shift_type=\"categorical_shift\",\n",
    "    metadata=dataset.dataset.csv.iloc[dataset.indices, :],\n",
    "    categorical_column=\"Patient Gender\",\n",
    "    target_category=\"M\",\n",
    ")\n",
    "\n",
    "drift_experiment = Experimenter(\n",
    "    \"sensitivity_test\",\n",
    "    detector=detector,\n",
    "    shiftapplicator=shiftapplicator,\n",
    ")"
   ]
  },
  {
   "cell_type": "markdown",
   "id": "2c3f38c1",
   "metadata": {},
   "source": [
    "## Run Experiments & Gather Results"
   ]
  },
  {
   "cell_type": "code",
   "execution_count": null,
   "id": "checked-supervisor",
   "metadata": {},
   "outputs": [],
   "source": [
    "baseline_results = baseline_experiment.run(dataset)\n",
    "drift_results = drift_experiment.run(dataset)\n",
    "\n",
    "results = {\"baseline\": baseline_results, \"experiment\": drift_results}"
   ]
  },
  {
   "cell_type": "markdown",
   "id": "03342cc7",
   "metadata": {},
   "source": [
    "## Plot Experimental Results"
   ]
  },
  {
   "cell_type": "code",
   "execution_count": null,
   "id": "5f96bc43",
   "metadata": {},
   "outputs": [],
   "source": [
    "plot_drift_samples_pval(results, 0.05)"
   ]
  }
 ],
 "metadata": {
  "kernelspec": {
   "display_name": "cyclops",
   "language": "python",
   "name": "cyclops"
  },
  "language_info": {
   "codemirror_mode": {
    "name": "ipython",
    "version": 3
   },
   "file_extension": ".py",
   "mimetype": "text/x-python",
   "name": "python",
   "nbconvert_exporter": "python",
   "pygments_lexer": "ipython3",
   "version": "3.9.7"
  }
 },
 "nbformat": 4,
 "nbformat_minor": 5
}
