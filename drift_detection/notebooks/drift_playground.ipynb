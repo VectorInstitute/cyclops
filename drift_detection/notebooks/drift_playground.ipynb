{
 "cells": [
  {
   "cell_type": "code",
   "execution_count": 1,
   "id": "editorial-fields",
   "metadata": {},
   "outputs": [
    {
     "name": "stderr",
     "output_type": "stream",
     "text": [
      "2022-04-21 10:41:28.989590: W tensorflow/stream_executor/platform/default/dso_loader.cc:64] Could not load dynamic library 'libcudart.so.11.0'; dlerror: libcudart.so.11.0: cannot open shared object file: No such file or directory; LD_LIBRARY_PATH: /opt/R/4.0.4/lib/R/lib::/lib:/usr/local/lib:/usr/lib/x86_64-linux-gnu:/usr/lib/jvm/java-11-openjdk-amd64/lib/server\n",
      "2022-04-21 10:41:28.989634: I tensorflow/stream_executor/cuda/cudart_stub.cc:29] Ignore above cudart dlerror if you do not have a GPU set up on your machine.\n",
      "2022-04-21 10:41:33.111783: I tensorflow/stream_executor/cuda/cuda_gpu_executor.cc:939] successful NUMA node read from SysFS had negative value (-1), but there must be at least one NUMA node, so returning NUMA node zero\n",
      "2022-04-21 10:41:33.112593: W tensorflow/stream_executor/platform/default/dso_loader.cc:64] Could not load dynamic library 'libcudart.so.11.0'; dlerror: libcudart.so.11.0: cannot open shared object file: No such file or directory; LD_LIBRARY_PATH: /opt/R/4.0.4/lib/R/lib::/lib:/usr/local/lib:/usr/lib/x86_64-linux-gnu:/usr/lib/jvm/java-11-openjdk-amd64/lib/server\n",
      "2022-04-21 10:41:33.112728: W tensorflow/stream_executor/platform/default/dso_loader.cc:64] Could not load dynamic library 'libcublas.so.11'; dlerror: libcublas.so.11: cannot open shared object file: No such file or directory; LD_LIBRARY_PATH: /opt/R/4.0.4/lib/R/lib::/lib:/usr/local/lib:/usr/lib/x86_64-linux-gnu:/usr/lib/jvm/java-11-openjdk-amd64/lib/server\n",
      "2022-04-21 10:41:33.112842: W tensorflow/stream_executor/platform/default/dso_loader.cc:64] Could not load dynamic library 'libcublasLt.so.11'; dlerror: libcublasLt.so.11: cannot open shared object file: No such file or directory; LD_LIBRARY_PATH: /opt/R/4.0.4/lib/R/lib::/lib:/usr/local/lib:/usr/lib/x86_64-linux-gnu:/usr/lib/jvm/java-11-openjdk-amd64/lib/server\n",
      "2022-04-21 10:41:33.115969: W tensorflow/stream_executor/platform/default/dso_loader.cc:64] Could not load dynamic library 'libcusolver.so.11'; dlerror: libcusolver.so.11: cannot open shared object file: No such file or directory; LD_LIBRARY_PATH: /opt/R/4.0.4/lib/R/lib::/lib:/usr/local/lib:/usr/lib/x86_64-linux-gnu:/usr/lib/jvm/java-11-openjdk-amd64/lib/server\n",
      "2022-04-21 10:41:33.116094: W tensorflow/stream_executor/platform/default/dso_loader.cc:64] Could not load dynamic library 'libcusparse.so.11'; dlerror: libcusparse.so.11: cannot open shared object file: No such file or directory; LD_LIBRARY_PATH: /opt/R/4.0.4/lib/R/lib::/lib:/usr/local/lib:/usr/lib/x86_64-linux-gnu:/usr/lib/jvm/java-11-openjdk-amd64/lib/server\n",
      "2022-04-21 10:41:33.116211: W tensorflow/stream_executor/platform/default/dso_loader.cc:64] Could not load dynamic library 'libcudnn.so.8'; dlerror: libcudnn.so.8: cannot open shared object file: No such file or directory; LD_LIBRARY_PATH: /opt/R/4.0.4/lib/R/lib::/lib:/usr/local/lib:/usr/lib/x86_64-linux-gnu:/usr/lib/jvm/java-11-openjdk-amd64/lib/server\n",
      "2022-04-21 10:41:33.116231: W tensorflow/core/common_runtime/gpu/gpu_device.cc:1850] Cannot dlopen some GPU libraries. Please make sure the missing libraries mentioned above are installed properly if you would like to use GPU. Follow the guide at https://www.tensorflow.org/install/gpu for how to download and setup the required libraries for your platform.\n",
      "Skipping registering GPU devices...\n",
      "2022-04-21 10:41:33.116595: I tensorflow/core/platform/cpu_feature_guard.cc:151] This TensorFlow binary is optimized with oneAPI Deep Neural Network Library (oneDNN) to use the following CPU instructions in performance-critical operations:  AVX2 AVX512F FMA\n",
      "To enable them in other operations, rebuild TensorFlow with the appropriate compiler flags.\n",
      "2022-04-21 10:41:37,985 \u001b[1;37mINFO\u001b[0m config          - Log file is /mnt/nfs/home/subasriv/vector-delirium/log.log\n",
      "2022-04-21 10:41:37,994 \u001b[1;37mINFO\u001b[0m cyclops.processors.base - Log file is /mnt/nfs/home/subasriv/vector-delirium/log.log\n",
      "2022-04-21 10:41:38,000 \u001b[1;37mINFO\u001b[0m cyclops.utils.profile - Log file is /mnt/nfs/home/subasriv/vector-delirium/log.log\n",
      "2022-04-21 10:41:38,004 \u001b[1;37mINFO\u001b[0m cyclops.processors.admin - Log file is /mnt/nfs/home/subasriv/vector-delirium/log.log\n",
      "2022-04-21 10:41:38,011 \u001b[1;37mINFO\u001b[0m cyclops.processors.vitals - Log file is /mnt/nfs/home/subasriv/vector-delirium/log.log\n",
      "2022-04-21 10:41:38,016 \u001b[1;37mINFO\u001b[0m cyclops.processors.labs - Log file is /mnt/nfs/home/subasriv/vector-delirium/log.log\n",
      "2022-04-21 10:41:38,021 \u001b[1;37mINFO\u001b[0m cyclops.processors.outcomes - Log file is /mnt/nfs/home/subasriv/vector-delirium/log.log\n",
      "2022-04-21 10:41:38,027 \u001b[1;37mINFO\u001b[0m cyclops.processors.feature_handler - Log file is /mnt/nfs/home/subasriv/vector-delirium/log.log\n",
      "2022-04-21 10:41:38,144 \u001b[1;37mINFO\u001b[0m cyclops.orm     - Log file is /mnt/nfs/home/subasriv/vector-delirium/log.log\n",
      "2022-04-21 10:41:38,853 \u001b[1;37mINFO\u001b[0m cyclops.orm     - Database setup, ready to run queries!\n"
     ]
    },
    {
     "data": {
      "application/javascript": [
       "\n",
       "            setTimeout(function() {\n",
       "                var nbb_cell_id = 1;\n",
       "                var nbb_unformatted_code = \"import sys\\nimport pandas as pd\\nimport numpy as np\\nimport os\\nfrom functools import reduce\\nimport datetime\\nimport joblib\\nimport seaborn as sns\\nimport matplotlib.pyplot as plt\\nfrom sklearn.metrics import (\\n    auc,\\n    recall_score,\\n    accuracy_score,\\n    confusion_matrix,\\n    roc_auc_score,\\n    roc_curve,\\n    precision_recall_curve,\\n    average_precision_score,\\n)\\nfrom sklearn.model_selection import GridSearchCV, train_test_split\\n\\nsys.path.append(\\\"..\\\")\\n\\nfrom shift_detector import *\\nfrom shift_reductor import *\\nfrom shift_experiments import *\\nfrom shift_explainer import *\\nfrom shift_tester import *\\nfrom shift_utils import *\\nfrom shift_models import *\\nfrom shift_constants import *\\nfrom shift_plot_utils import *\\n\\nsys.path.append(\\\"../..\\\")\\n\\nimport sqlalchemy\\nfrom sqlalchemy import select, func, extract, desc\\nfrom sqlalchemy.sql.expression import and_\\n\\nfrom evidently import ColumnMapping\\nfrom evidently.dashboard import Dashboard\\nfrom evidently.dashboard.tabs import DataQualityTab\\nfrom evidently.model_profile import Profile\\nfrom evidently.model_profile.sections import DataQualityProfileSection\\n\\nimport config\\nimport cyclops\\nfrom cyclops.processors.column_names import (\\n    ENCOUNTER_ID,\\n    HOSPITAL_ID,\\n    ADMIT_TIMESTAMP,\\n    DISCHARGE_TIMESTAMP,\\n    DISCHARGE_DISPOSITION,\\n    READMISSION,\\n    AGE,\\n    SEX,\\n    TOTAL_COST,\\n    CITY,\\n    PROVINCE,\\n    COUNTRY,\\n    LANGUAGE,\\n    LENGTH_OF_STAY_IN_ER,\\n    VITAL_MEASUREMENT_NAME,\\n    VITAL_MEASUREMENT_VALUE,\\n    VITAL_MEASUREMENT_TIMESTAMP,\\n    LAB_TEST_NAME,\\n    LAB_TEST_TIMESTAMP,\\n    LAB_TEST_RESULT_VALUE,\\n    LAB_TEST_RESULT_UNIT,\\n    REFERENCE_RANGE,\\n)\\nfrom cyclops.processors.constants import EMPTY_STRING\\nfrom cyclops.processors.admin import AdminProcessor\\nfrom cyclops.processors.vitals import VitalsProcessor\\nfrom cyclops.processors.labs import LabsProcessor\\nfrom cyclops.processors.outcomes import OutcomesProcessor\\nfrom cyclops.processors.feature_handler import FeatureHandler\\nfrom cyclops.orm import Database\\n\\n%reload_ext autoreload\\n%reload_ext nb_black\";\n",
       "                var nbb_formatted_code = \"import sys\\nimport pandas as pd\\nimport numpy as np\\nimport os\\nfrom functools import reduce\\nimport datetime\\nimport joblib\\nimport seaborn as sns\\nimport matplotlib.pyplot as plt\\nfrom sklearn.metrics import (\\n    auc,\\n    recall_score,\\n    accuracy_score,\\n    confusion_matrix,\\n    roc_auc_score,\\n    roc_curve,\\n    precision_recall_curve,\\n    average_precision_score,\\n)\\nfrom sklearn.model_selection import GridSearchCV, train_test_split\\n\\nsys.path.append(\\\"..\\\")\\n\\nfrom shift_detector import *\\nfrom shift_reductor import *\\nfrom shift_experiments import *\\nfrom shift_explainer import *\\nfrom shift_tester import *\\nfrom shift_utils import *\\nfrom shift_models import *\\nfrom shift_constants import *\\nfrom shift_plot_utils import *\\n\\nsys.path.append(\\\"../..\\\")\\n\\nimport sqlalchemy\\nfrom sqlalchemy import select, func, extract, desc\\nfrom sqlalchemy.sql.expression import and_\\n\\nfrom evidently import ColumnMapping\\nfrom evidently.dashboard import Dashboard\\nfrom evidently.dashboard.tabs import DataQualityTab\\nfrom evidently.model_profile import Profile\\nfrom evidently.model_profile.sections import DataQualityProfileSection\\n\\nimport config\\nimport cyclops\\nfrom cyclops.processors.column_names import (\\n    ENCOUNTER_ID,\\n    HOSPITAL_ID,\\n    ADMIT_TIMESTAMP,\\n    DISCHARGE_TIMESTAMP,\\n    DISCHARGE_DISPOSITION,\\n    READMISSION,\\n    AGE,\\n    SEX,\\n    TOTAL_COST,\\n    CITY,\\n    PROVINCE,\\n    COUNTRY,\\n    LANGUAGE,\\n    LENGTH_OF_STAY_IN_ER,\\n    VITAL_MEASUREMENT_NAME,\\n    VITAL_MEASUREMENT_VALUE,\\n    VITAL_MEASUREMENT_TIMESTAMP,\\n    LAB_TEST_NAME,\\n    LAB_TEST_TIMESTAMP,\\n    LAB_TEST_RESULT_VALUE,\\n    LAB_TEST_RESULT_UNIT,\\n    REFERENCE_RANGE,\\n)\\nfrom cyclops.processors.constants import EMPTY_STRING\\nfrom cyclops.processors.admin import AdminProcessor\\nfrom cyclops.processors.vitals import VitalsProcessor\\nfrom cyclops.processors.labs import LabsProcessor\\nfrom cyclops.processors.outcomes import OutcomesProcessor\\nfrom cyclops.processors.feature_handler import FeatureHandler\\nfrom cyclops.orm import Database\\n\\n%reload_ext autoreload\\n%reload_ext nb_black\";\n",
       "                var nbb_cells = Jupyter.notebook.get_cells();\n",
       "                for (var i = 0; i < nbb_cells.length; ++i) {\n",
       "                    if (nbb_cells[i].input_prompt_number == nbb_cell_id) {\n",
       "                        if (nbb_cells[i].get_text() == nbb_unformatted_code) {\n",
       "                             nbb_cells[i].set_text(nbb_formatted_code);\n",
       "                        }\n",
       "                        break;\n",
       "                    }\n",
       "                }\n",
       "            }, 500);\n",
       "            "
      ],
      "text/plain": [
       "<IPython.core.display.Javascript object>"
      ]
     },
     "metadata": {},
     "output_type": "display_data"
    }
   ],
   "source": [
    "import sys\n",
    "import pandas as pd\n",
    "import numpy as np\n",
    "import os\n",
    "from functools import reduce\n",
    "import datetime\n",
    "import joblib\n",
    "import seaborn as sns\n",
    "import matplotlib.pyplot as plt\n",
    "from sklearn.metrics import (\n",
    "    auc,\n",
    "    recall_score,\n",
    "    accuracy_score,\n",
    "    confusion_matrix,\n",
    "    roc_auc_score,\n",
    "    roc_curve,\n",
    "    precision_recall_curve,\n",
    "    average_precision_score,\n",
    ")\n",
    "from sklearn.model_selection import GridSearchCV, train_test_split\n",
    "\n",
    "sys.path.append(\"..\")\n",
    "\n",
    "from shift_detector import *\n",
    "from shift_reductor import *\n",
    "from shift_experiments import *\n",
    "from shift_explainer import *\n",
    "from shift_tester import *\n",
    "from shift_utils import *\n",
    "from shift_models import *\n",
    "from shift_constants import *\n",
    "from shift_plot_utils import *\n"
   ]
  },
  {
   "cell_type": "markdown",
   "id": "presidential-swaziland",
   "metadata": {},
   "source": [
    "## Parameters ##"
   ]
  },
  {
   "cell_type": "code",
   "execution_count": 1,
   "id": "industrial-nevada",
   "metadata": {},
   "outputs": [],
   "source": [
    "SHIFTS = [\"pre-covid\", \"covid\", \"summer\", \"winter\", \"seasonal\"]\n",
    "OUTCOMES = [\"length_of_stay_in_er\", \"mortality_in_hospital\"]\n",
    "HOSPITALS = [\"SMH\", \"MSH\", \"THPC\", \"THPM\", \"UHNTG\", \"UHNTW\"]\n",
    "MODELS = [\"lr\", \"rf\", \"xgb\",\"gp\",\"mlp\"]\n",
    "NA_CUTOFF = 0.6\n",
    "PATH = \"/mnt/nfs/project/delirium/drift_exp/\"\n",
    "DATASET = \"gemini\"\n",
    "SAMPLES = [10, 20, 50, 100, 200, 500, 1000, 2000]\n",
    "RANDOM_RUNS = 5\n",
    "SIGN_LEVEL = 0.05\n",
    "CALC_ACC = True\n",
    "DR_TECHNIQUES = [\"NoRed\", \"SRP\", \"PCA\", \"BBSDs_FFNN\"]  # \"Isomap\", \"kPCA\"]\n",
    "MD_TESTS = [\"MMD\", \"LK\", \"LSDD\"]"
   ]
  },
  {
   "cell_type": "markdown",
   "id": "respective-pregnancy",
   "metadata": {},
   "source": [
    "## Model Fitting ##"
   ]
  },
  {
   "cell_type": "code",
   "execution_count": 12,
   "id": "compressed-optics",
   "metadata": {},
   "outputs": [
    {
     "data": {
      "application/javascript": [
       "\n",
       "            setTimeout(function() {\n",
       "                var nbb_cell_id = 12;\n",
       "                var nbb_unformatted_code = \"# Run model fitting\\nif os.path.exists(PATH + \\\"/shift_auc.pkl\\\"):\\n    with open(PATH + \\\"/shift_auc.pkl\\\", \\\"rb\\\") as f:\\n        shift_auc = pickle.load(f)\\nelse:\\n    shift_auc = np.ones(\\n        (len(SHIFTS), len(OUTCOMES), len(HOSPITALS), len(MODELS), 2)\\n    ) * (-1)\\n\\nif os.path.exists(PATH + \\\"/shift_pr.pkl\\\"):\\n    with open(PATH + \\\"/shift_pr.pkl\\\", \\\"rb\\\") as f:\\n        shift_pr = pickle.load(f)\\nelse:\\n    shift_pr = np.ones((len(SHIFTS), len(OUTCOMES), len(HOSPITALS), len(MODELS), 2)) * (\\n        -1\\n    )\";\n",
       "                var nbb_formatted_code = \"# Run model fitting\\nif os.path.exists(PATH + \\\"/shift_auc.pkl\\\"):\\n    with open(PATH + \\\"/shift_auc.pkl\\\", \\\"rb\\\") as f:\\n        shift_auc = pickle.load(f)\\nelse:\\n    shift_auc = np.ones(\\n        (len(SHIFTS), len(OUTCOMES), len(HOSPITALS), len(MODELS), 2)\\n    ) * (-1)\\n\\nif os.path.exists(PATH + \\\"/shift_pr.pkl\\\"):\\n    with open(PATH + \\\"/shift_pr.pkl\\\", \\\"rb\\\") as f:\\n        shift_pr = pickle.load(f)\\nelse:\\n    shift_pr = np.ones((len(SHIFTS), len(OUTCOMES), len(HOSPITALS), len(MODELS), 2)) * (\\n        -1\\n    )\";\n",
       "                var nbb_cells = Jupyter.notebook.get_cells();\n",
       "                for (var i = 0; i < nbb_cells.length; ++i) {\n",
       "                    if (nbb_cells[i].input_prompt_number == nbb_cell_id) {\n",
       "                        if (nbb_cells[i].get_text() == nbb_unformatted_code) {\n",
       "                             nbb_cells[i].set_text(nbb_formatted_code);\n",
       "                        }\n",
       "                        break;\n",
       "                    }\n",
       "                }\n",
       "            }, 500);\n",
       "            "
      ],
      "text/plain": [
       "<IPython.core.display.Javascript object>"
      ]
     },
     "metadata": {},
     "output_type": "display_data"
    }
   ],
   "source": [
    "# Run model fitting\n",
    "if os.path.exists(PATH + \"/shift_auc.pkl\"):\n",
    "    with open(PATH + \"/shift_auc.pkl\", \"rb\") as f:\n",
    "        shift_auc = pickle.load(f)\n",
    "else:\n",
    "    shift_auc = np.ones(\n",
    "        (len(SHIFTS), len(OUTCOMES), len(HOSPITALS), len(MODELS), 2)\n",
    "    ) * (-1)\n",
    "\n",
    "if os.path.exists(PATH + \"/shift_pr.pkl\"):\n",
    "    with open(PATH + \"/shift_pr.pkl\", \"rb\") as f:\n",
    "        shift_pr = pickle.load(f)\n",
    "else:\n",
    "    shift_pr = np.ones((len(SHIFTS), len(OUTCOMES), len(HOSPITALS), len(MODELS), 2)) * (\n",
    "        -1\n",
    "    )"
   ]
  },
  {
   "cell_type": "code",
   "execution_count": 6,
   "id": "composed-millennium",
   "metadata": {},
   "outputs": [
    {
     "name": "stdout",
     "output_type": "stream",
     "text": [
      "summer | length_of_stay_in_er | SMH | lr\n"
     ]
    },
    {
     "name": "stderr",
     "output_type": "stream",
     "text": [
      "2022-04-20 14:08:40,708 \u001b[1;37mINFO\u001b[0m cyclops.processors.base - Processing raw admin data...\n",
      "2022-04-20 14:08:40,714 \u001b[1;37mINFO\u001b[0m cyclops.processors.base - # samples: 85953, # encounters: 85953\n",
      "2022-04-20 14:08:40,726 \u001b[1;37mINFO\u001b[0m cyclops.processors.admin - # admin features: 2, # encounters: 85953\n",
      "2022-04-20 14:09:27,367 \u001b[1;37mINFO\u001b[0m cyclops.utils.profile - Finished executing function process in 46.659002 s\n",
      "lbfgs failed to converge (status=1):\n",
      "STOP: TOTAL NO. of ITERATIONS REACHED LIMIT.\n",
      "\n",
      "Increase the number of iterations (max_iter) or scale the data as shown in:\n",
      "    https://scikit-learn.org/stable/modules/preprocessing.html\n",
      "Please also refer to the documentation for alternative solver options:\n",
      "    https://scikit-learn.org/stable/modules/linear_model.html#logistic-regression\n",
      "lbfgs failed to converge (status=1):\n",
      "STOP: TOTAL NO. of ITERATIONS REACHED LIMIT.\n",
      "\n",
      "Increase the number of iterations (max_iter) or scale the data as shown in:\n",
      "    https://scikit-learn.org/stable/modules/preprocessing.html\n",
      "Please also refer to the documentation for alternative solver options:\n",
      "    https://scikit-learn.org/stable/modules/linear_model.html#logistic-regression\n"
     ]
    },
    {
     "name": "stdout",
     "output_type": "stream",
     "text": [
      "Fitting model with C: 0.1\n",
      "Fitting model with C: 0.01\n",
      "Fitting model with C: 0.001\n",
      "Fitting model with C: 0.0001\n",
      "Fitting model with C: 1e-05\n",
      "Fitting model with C: 1e-06\n",
      "Fitting model with C: 1e-07\n",
      "Best C: 0.01\n",
      "summer | length_of_stay_in_er | SMH | rf\n"
     ]
    },
    {
     "name": "stderr",
     "output_type": "stream",
     "text": [
      "lbfgs failed to converge (status=1):\n",
      "STOP: TOTAL NO. of ITERATIONS REACHED LIMIT.\n",
      "\n",
      "Increase the number of iterations (max_iter) or scale the data as shown in:\n",
      "    https://scikit-learn.org/stable/modules/preprocessing.html\n",
      "Please also refer to the documentation for alternative solver options:\n",
      "    https://scikit-learn.org/stable/modules/linear_model.html#logistic-regression\n",
      "2022-04-20 14:09:27,720 \u001b[1;37mINFO\u001b[0m cyclops.processors.base - Processing raw admin data...\n",
      "2022-04-20 14:09:27,726 \u001b[1;37mINFO\u001b[0m cyclops.processors.base - # samples: 85953, # encounters: 85953\n",
      "2022-04-20 14:09:27,735 \u001b[1;37mINFO\u001b[0m cyclops.processors.admin - # admin features: 2, # encounters: 85953\n",
      "2022-04-20 14:10:12,638 \u001b[1;37mINFO\u001b[0m cyclops.utils.profile - Finished executing function process in 44.917812 s\n"
     ]
    },
    {
     "name": "stdout",
     "output_type": "stream",
     "text": [
      "Fitting model with n: 5\n",
      "Fitting model with n: 10\n",
      "Fitting model with n: 50\n",
      "Fitting model with n: 100\n",
      "Fitting model with n: 500\n",
      "Best n: 100\n"
     ]
    },
    {
     "name": "stderr",
     "output_type": "stream",
     "text": [
      "2022-04-20 14:10:15,536 \u001b[1;37mINFO\u001b[0m cyclops.processors.base - Processing raw admin data...\n",
      "2022-04-20 14:10:15,542 \u001b[1;37mINFO\u001b[0m cyclops.processors.base - # samples: 85953, # encounters: 85953\n",
      "2022-04-20 14:10:15,552 \u001b[1;37mINFO\u001b[0m cyclops.processors.admin - # admin features: 2, # encounters: 85953\n"
     ]
    },
    {
     "name": "stdout",
     "output_type": "stream",
     "text": [
      "summer | length_of_stay_in_er | SMH | xgb\n"
     ]
    },
    {
     "name": "stderr",
     "output_type": "stream",
     "text": [
      "2022-04-20 14:11:02,133 \u001b[1;37mINFO\u001b[0m cyclops.utils.profile - Finished executing function process in 46.596487 s\n"
     ]
    },
    {
     "name": "stdout",
     "output_type": "stream",
     "text": [
      "Best eta: 0.005\n",
      "Best g: 2\n",
      "Best n: 9\n"
     ]
    },
    {
     "name": "stderr",
     "output_type": "stream",
     "text": [
      "2022-04-20 14:12:55,304 \u001b[1;37mINFO\u001b[0m cyclops.processors.base - Processing raw admin data...\n",
      "2022-04-20 14:12:55,312 \u001b[1;37mINFO\u001b[0m cyclops.processors.base - # samples: 85953, # encounters: 85953\n",
      "2022-04-20 14:12:55,325 \u001b[1;37mINFO\u001b[0m cyclops.processors.admin - # admin features: 2, # encounters: 85953\n"
     ]
    },
    {
     "name": "stdout",
     "output_type": "stream",
     "text": [
      "summer | length_of_stay_in_er | MSH | lr\n"
     ]
    },
    {
     "name": "stderr",
     "output_type": "stream",
     "text": [
      "2022-04-20 14:13:42,004 \u001b[1;37mINFO\u001b[0m cyclops.utils.profile - Finished executing function process in 46.700308 s\n",
      "lbfgs failed to converge (status=1):\n",
      "STOP: TOTAL NO. of ITERATIONS REACHED LIMIT.\n",
      "\n",
      "Increase the number of iterations (max_iter) or scale the data as shown in:\n",
      "    https://scikit-learn.org/stable/modules/preprocessing.html\n",
      "Please also refer to the documentation for alternative solver options:\n",
      "    https://scikit-learn.org/stable/modules/linear_model.html#logistic-regression\n",
      "lbfgs failed to converge (status=1):\n",
      "STOP: TOTAL NO. of ITERATIONS REACHED LIMIT.\n",
      "\n",
      "Increase the number of iterations (max_iter) or scale the data as shown in:\n",
      "    https://scikit-learn.org/stable/modules/preprocessing.html\n",
      "Please also refer to the documentation for alternative solver options:\n",
      "    https://scikit-learn.org/stable/modules/linear_model.html#logistic-regression\n"
     ]
    },
    {
     "name": "stdout",
     "output_type": "stream",
     "text": [
      "Fitting model with C: 0.1\n",
      "Fitting model with C: 0.01\n",
      "Fitting model with C: 0.001\n",
      "Fitting model with C: 0.0001\n",
      "Fitting model with C: 1e-05\n",
      "Fitting model with C: 1e-06\n",
      "Fitting model with C: 1e-07\n",
      "Best C: 0.1\n"
     ]
    },
    {
     "name": "stderr",
     "output_type": "stream",
     "text": [
      "lbfgs failed to converge (status=1):\n",
      "STOP: TOTAL NO. of ITERATIONS REACHED LIMIT.\n",
      "\n",
      "Increase the number of iterations (max_iter) or scale the data as shown in:\n",
      "    https://scikit-learn.org/stable/modules/preprocessing.html\n",
      "Please also refer to the documentation for alternative solver options:\n",
      "    https://scikit-learn.org/stable/modules/linear_model.html#logistic-regression\n",
      "lbfgs failed to converge (status=1):\n",
      "STOP: TOTAL NO. of ITERATIONS REACHED LIMIT.\n",
      "\n",
      "Increase the number of iterations (max_iter) or scale the data as shown in:\n",
      "    https://scikit-learn.org/stable/modules/preprocessing.html\n",
      "Please also refer to the documentation for alternative solver options:\n",
      "    https://scikit-learn.org/stable/modules/linear_model.html#logistic-regression\n",
      "2022-04-20 14:13:43,104 \u001b[1;37mINFO\u001b[0m cyclops.processors.base - Processing raw admin data...\n",
      "2022-04-20 14:13:43,111 \u001b[1;37mINFO\u001b[0m cyclops.processors.base - # samples: 85953, # encounters: 85953\n",
      "2022-04-20 14:13:43,121 \u001b[1;37mINFO\u001b[0m cyclops.processors.admin - # admin features: 2, # encounters: 85953\n"
     ]
    },
    {
     "name": "stdout",
     "output_type": "stream",
     "text": [
      "summer | length_of_stay_in_er | MSH | rf\n"
     ]
    },
    {
     "name": "stderr",
     "output_type": "stream",
     "text": [
      "2022-04-20 14:14:29,771 \u001b[1;37mINFO\u001b[0m cyclops.utils.profile - Finished executing function process in 46.666866 s\n"
     ]
    },
    {
     "name": "stdout",
     "output_type": "stream",
     "text": [
      "Fitting model with n: 5\n",
      "Fitting model with n: 10\n",
      "Fitting model with n: 50\n",
      "Fitting model with n: 100\n",
      "Fitting model with n: 500\n",
      "Best n: 500\n"
     ]
    },
    {
     "name": "stderr",
     "output_type": "stream",
     "text": [
      "2022-04-20 14:14:31,861 \u001b[1;37mINFO\u001b[0m cyclops.processors.base - Processing raw admin data...\n",
      "2022-04-20 14:14:31,868 \u001b[1;37mINFO\u001b[0m cyclops.processors.base - # samples: 85953, # encounters: 85953\n",
      "2022-04-20 14:14:31,880 \u001b[1;37mINFO\u001b[0m cyclops.processors.admin - # admin features: 2, # encounters: 85953\n"
     ]
    },
    {
     "name": "stdout",
     "output_type": "stream",
     "text": [
      "summer | length_of_stay_in_er | MSH | xgb\n"
     ]
    },
    {
     "name": "stderr",
     "output_type": "stream",
     "text": [
      "2022-04-20 14:15:18,787 \u001b[1;37mINFO\u001b[0m cyclops.utils.profile - Finished executing function process in 46.925954 s\n",
      "2022-04-20 14:17:13,772 \u001b[1;37mINFO\u001b[0m cyclops.processors.base - Processing raw admin data...\n",
      "2022-04-20 14:17:13,785 \u001b[1;37mINFO\u001b[0m cyclops.processors.base - # samples: 85953, # encounters: 85953\n"
     ]
    },
    {
     "name": "stdout",
     "output_type": "stream",
     "text": [
      "Best eta: 0.2\n",
      "Best g: 0.5\n",
      "Best n: 11\n",
      "summer | length_of_stay_in_er | THPC | lr\n"
     ]
    },
    {
     "name": "stderr",
     "output_type": "stream",
     "text": [
      "2022-04-20 14:17:13,797 \u001b[1;37mINFO\u001b[0m cyclops.processors.admin - # admin features: 2, # encounters: 85953\n",
      "2022-04-20 14:17:58,465 \u001b[1;37mINFO\u001b[0m cyclops.utils.profile - Finished executing function process in 44.692407 s\n"
     ]
    },
    {
     "name": "stdout",
     "output_type": "stream",
     "text": [
      "Fitting model with C: 0.1\n",
      "Fitting model with C: 0.01\n",
      "Fitting model with C: 0.001\n",
      "Fitting model with C: 0.0001\n"
     ]
    },
    {
     "name": "stderr",
     "output_type": "stream",
     "text": [
      "lbfgs failed to converge (status=1):\n",
      "STOP: TOTAL NO. of ITERATIONS REACHED LIMIT.\n",
      "\n",
      "Increase the number of iterations (max_iter) or scale the data as shown in:\n",
      "    https://scikit-learn.org/stable/modules/preprocessing.html\n",
      "Please also refer to the documentation for alternative solver options:\n",
      "    https://scikit-learn.org/stable/modules/linear_model.html#logistic-regression\n",
      "lbfgs failed to converge (status=1):\n",
      "STOP: TOTAL NO. of ITERATIONS REACHED LIMIT.\n",
      "\n",
      "Increase the number of iterations (max_iter) or scale the data as shown in:\n",
      "    https://scikit-learn.org/stable/modules/preprocessing.html\n",
      "Please also refer to the documentation for alternative solver options:\n",
      "    https://scikit-learn.org/stable/modules/linear_model.html#logistic-regression\n",
      "lbfgs failed to converge (status=1):\n",
      "STOP: TOTAL NO. of ITERATIONS REACHED LIMIT.\n",
      "\n",
      "Increase the number of iterations (max_iter) or scale the data as shown in:\n",
      "    https://scikit-learn.org/stable/modules/preprocessing.html\n",
      "Please also refer to the documentation for alternative solver options:\n",
      "    https://scikit-learn.org/stable/modules/linear_model.html#logistic-regression\n",
      "lbfgs failed to converge (status=1):\n",
      "STOP: TOTAL NO. of ITERATIONS REACHED LIMIT.\n",
      "\n",
      "Increase the number of iterations (max_iter) or scale the data as shown in:\n",
      "    https://scikit-learn.org/stable/modules/preprocessing.html\n",
      "Please also refer to the documentation for alternative solver options:\n",
      "    https://scikit-learn.org/stable/modules/linear_model.html#logistic-regression\n",
      "2022-04-20 14:17:58,982 \u001b[1;37mINFO\u001b[0m cyclops.processors.base - Processing raw admin data...\n",
      "2022-04-20 14:17:58,988 \u001b[1;37mINFO\u001b[0m cyclops.processors.base - # samples: 85953, # encounters: 85953\n",
      "2022-04-20 14:17:58,998 \u001b[1;37mINFO\u001b[0m cyclops.processors.admin - # admin features: 2, # encounters: 85953\n"
     ]
    },
    {
     "name": "stdout",
     "output_type": "stream",
     "text": [
      "Fitting model with C: 1e-05\n",
      "Fitting model with C: 1e-06\n",
      "Fitting model with C: 1e-07\n",
      "Best C: 0.0001\n",
      "summer | length_of_stay_in_er | THPC | rf\n"
     ]
    },
    {
     "name": "stderr",
     "output_type": "stream",
     "text": [
      "2022-04-20 14:18:46,028 \u001b[1;37mINFO\u001b[0m cyclops.utils.profile - Finished executing function process in 47.046213 s\n"
     ]
    },
    {
     "name": "stdout",
     "output_type": "stream",
     "text": [
      "Fitting model with n: 5\n",
      "Fitting model with n: 10\n",
      "Fitting model with n: 50\n",
      "Fitting model with n: 100\n",
      "Fitting model with n: 500\n",
      "Best n: 500\n"
     ]
    },
    {
     "name": "stderr",
     "output_type": "stream",
     "text": [
      "2022-04-20 14:18:48,650 \u001b[1;37mINFO\u001b[0m cyclops.processors.base - Processing raw admin data...\n",
      "2022-04-20 14:18:48,657 \u001b[1;37mINFO\u001b[0m cyclops.processors.base - # samples: 85953, # encounters: 85953\n",
      "2022-04-20 14:18:48,667 \u001b[1;37mINFO\u001b[0m cyclops.processors.admin - # admin features: 2, # encounters: 85953\n"
     ]
    },
    {
     "name": "stdout",
     "output_type": "stream",
     "text": [
      "summer | length_of_stay_in_er | THPC | xgb\n"
     ]
    },
    {
     "name": "stderr",
     "output_type": "stream",
     "text": [
      "2022-04-20 14:19:35,948 \u001b[1;37mINFO\u001b[0m cyclops.utils.profile - Finished executing function process in 47.297573 s\n",
      "2022-04-20 14:21:58,458 \u001b[1;37mINFO\u001b[0m cyclops.processors.base - Processing raw admin data...\n",
      "2022-04-20 14:21:58,468 \u001b[1;37mINFO\u001b[0m cyclops.processors.base - # samples: 85953, # encounters: 85953\n",
      "2022-04-20 14:21:58,479 \u001b[1;37mINFO\u001b[0m cyclops.processors.admin - # admin features: 2, # encounters: 85953\n"
     ]
    },
    {
     "name": "stdout",
     "output_type": "stream",
     "text": [
      "Best eta: 0.2\n",
      "Best g: 5\n",
      "Best n: 3\n",
      "summer | length_of_stay_in_er | THPM | lr\n"
     ]
    },
    {
     "name": "stderr",
     "output_type": "stream",
     "text": [
      "2022-04-20 14:22:42,827 \u001b[1;37mINFO\u001b[0m cyclops.utils.profile - Finished executing function process in 44.368934 s\n",
      "lbfgs failed to converge (status=1):\n",
      "STOP: TOTAL NO. of ITERATIONS REACHED LIMIT.\n",
      "\n",
      "Increase the number of iterations (max_iter) or scale the data as shown in:\n",
      "    https://scikit-learn.org/stable/modules/preprocessing.html\n",
      "Please also refer to the documentation for alternative solver options:\n",
      "    https://scikit-learn.org/stable/modules/linear_model.html#logistic-regression\n"
     ]
    },
    {
     "name": "stdout",
     "output_type": "stream",
     "text": [
      "Fitting model with C: 0.1\n",
      "Fitting model with C: 0.01\n",
      "Fitting model with C: 0.001\n",
      "Fitting model with C: 0.0001\n",
      "Fitting model with C: 1e-05\n"
     ]
    },
    {
     "name": "stderr",
     "output_type": "stream",
     "text": [
      "lbfgs failed to converge (status=1):\n",
      "STOP: TOTAL NO. of ITERATIONS REACHED LIMIT.\n",
      "\n",
      "Increase the number of iterations (max_iter) or scale the data as shown in:\n",
      "    https://scikit-learn.org/stable/modules/preprocessing.html\n",
      "Please also refer to the documentation for alternative solver options:\n",
      "    https://scikit-learn.org/stable/modules/linear_model.html#logistic-regression\n",
      "lbfgs failed to converge (status=1):\n",
      "STOP: TOTAL NO. of ITERATIONS REACHED LIMIT.\n",
      "\n",
      "Increase the number of iterations (max_iter) or scale the data as shown in:\n",
      "    https://scikit-learn.org/stable/modules/preprocessing.html\n",
      "Please also refer to the documentation for alternative solver options:\n",
      "    https://scikit-learn.org/stable/modules/linear_model.html#logistic-regression\n",
      "2022-04-20 14:22:43,266 \u001b[1;37mINFO\u001b[0m cyclops.processors.base - Processing raw admin data...\n",
      "2022-04-20 14:22:43,272 \u001b[1;37mINFO\u001b[0m cyclops.processors.base - # samples: 85953, # encounters: 85953\n",
      "2022-04-20 14:22:43,283 \u001b[1;37mINFO\u001b[0m cyclops.processors.admin - # admin features: 2, # encounters: 85953\n"
     ]
    },
    {
     "name": "stdout",
     "output_type": "stream",
     "text": [
      "Fitting model with C: 1e-06\n",
      "Fitting model with C: 1e-07\n",
      "Best C: 1e-07\n",
      "summer | length_of_stay_in_er | THPM | rf\n"
     ]
    },
    {
     "name": "stderr",
     "output_type": "stream",
     "text": [
      "2022-04-20 14:23:28,036 \u001b[1;37mINFO\u001b[0m cyclops.utils.profile - Finished executing function process in 44.769950 s\n"
     ]
    },
    {
     "name": "stdout",
     "output_type": "stream",
     "text": [
      "Fitting model with n: 5\n",
      "Fitting model with n: 10\n",
      "Fitting model with n: 50\n",
      "Fitting model with n: 100\n",
      "Fitting model with n: 500\n",
      "Best n: 500\n"
     ]
    },
    {
     "name": "stderr",
     "output_type": "stream",
     "text": [
      "2022-04-20 14:23:31,440 \u001b[1;37mINFO\u001b[0m cyclops.processors.base - Processing raw admin data...\n",
      "2022-04-20 14:23:31,446 \u001b[1;37mINFO\u001b[0m cyclops.processors.base - # samples: 85953, # encounters: 85953\n",
      "2022-04-20 14:23:31,457 \u001b[1;37mINFO\u001b[0m cyclops.processors.admin - # admin features: 2, # encounters: 85953\n"
     ]
    },
    {
     "name": "stdout",
     "output_type": "stream",
     "text": [
      "summer | length_of_stay_in_er | THPM | xgb\n"
     ]
    },
    {
     "name": "stderr",
     "output_type": "stream",
     "text": [
      "2022-04-20 14:24:18,543 \u001b[1;37mINFO\u001b[0m cyclops.utils.profile - Finished executing function process in 47.102956 s\n"
     ]
    },
    {
     "name": "stdout",
     "output_type": "stream",
     "text": [
      "Best eta: 0.05\n",
      "Best g: 0.5\n",
      "Best n: 9\n",
      "summer | length_of_stay_in_er | UHNTG | lr\n"
     ]
    },
    {
     "name": "stderr",
     "output_type": "stream",
     "text": [
      "2022-04-20 14:26:50,621 \u001b[1;37mINFO\u001b[0m cyclops.processors.base - Processing raw admin data...\n",
      "2022-04-20 14:26:50,629 \u001b[1;37mINFO\u001b[0m cyclops.processors.base - # samples: 85953, # encounters: 85953\n",
      "2022-04-20 14:26:50,645 \u001b[1;37mINFO\u001b[0m cyclops.processors.admin - # admin features: 2, # encounters: 85953\n",
      "2022-04-20 14:27:36,983 \u001b[1;37mINFO\u001b[0m cyclops.utils.profile - Finished executing function process in 46.362498 s\n",
      "lbfgs failed to converge (status=1):\n",
      "STOP: TOTAL NO. of ITERATIONS REACHED LIMIT.\n",
      "\n",
      "Increase the number of iterations (max_iter) or scale the data as shown in:\n",
      "    https://scikit-learn.org/stable/modules/preprocessing.html\n",
      "Please also refer to the documentation for alternative solver options:\n",
      "    https://scikit-learn.org/stable/modules/linear_model.html#logistic-regression\n"
     ]
    },
    {
     "name": "stdout",
     "output_type": "stream",
     "text": [
      "Fitting model with C: 0.1\n",
      "Fitting model with C: 0.01\n",
      "Fitting model with C: 0.001\n",
      "Fitting model with C: 0.0001\n",
      "Fitting model with C: 1e-05\n",
      "Fitting model with C: 1e-06\n"
     ]
    },
    {
     "name": "stderr",
     "output_type": "stream",
     "text": [
      "lbfgs failed to converge (status=1):\n",
      "STOP: TOTAL NO. of ITERATIONS REACHED LIMIT.\n",
      "\n",
      "Increase the number of iterations (max_iter) or scale the data as shown in:\n",
      "    https://scikit-learn.org/stable/modules/preprocessing.html\n",
      "Please also refer to the documentation for alternative solver options:\n",
      "    https://scikit-learn.org/stable/modules/linear_model.html#logistic-regression\n",
      "lbfgs failed to converge (status=1):\n",
      "STOP: TOTAL NO. of ITERATIONS REACHED LIMIT.\n",
      "\n",
      "Increase the number of iterations (max_iter) or scale the data as shown in:\n",
      "    https://scikit-learn.org/stable/modules/preprocessing.html\n",
      "Please also refer to the documentation for alternative solver options:\n",
      "    https://scikit-learn.org/stable/modules/linear_model.html#logistic-regression\n",
      "2022-04-20 14:27:37,431 \u001b[1;37mINFO\u001b[0m cyclops.processors.base - Processing raw admin data...\n",
      "2022-04-20 14:27:37,437 \u001b[1;37mINFO\u001b[0m cyclops.processors.base - # samples: 85953, # encounters: 85953\n",
      "2022-04-20 14:27:37,447 \u001b[1;37mINFO\u001b[0m cyclops.processors.admin - # admin features: 2, # encounters: 85953\n"
     ]
    },
    {
     "name": "stdout",
     "output_type": "stream",
     "text": [
      "Fitting model with C: 1e-07\n",
      "Best C: 0.1\n",
      "summer | length_of_stay_in_er | UHNTG | rf\n"
     ]
    },
    {
     "name": "stderr",
     "output_type": "stream",
     "text": [
      "2022-04-20 14:28:24,307 \u001b[1;37mINFO\u001b[0m cyclops.utils.profile - Finished executing function process in 46.876127 s\n"
     ]
    },
    {
     "name": "stdout",
     "output_type": "stream",
     "text": [
      "Fitting model with n: 5\n",
      "Fitting model with n: 10\n",
      "Fitting model with n: 50\n",
      "Fitting model with n: 100\n",
      "Fitting model with n: 500\n"
     ]
    },
    {
     "name": "stderr",
     "output_type": "stream",
     "text": [
      "2022-04-20 14:28:26,170 \u001b[1;37mINFO\u001b[0m cyclops.processors.base - Processing raw admin data...\n",
      "2022-04-20 14:28:26,177 \u001b[1;37mINFO\u001b[0m cyclops.processors.base - # samples: 85953, # encounters: 85953\n",
      "2022-04-20 14:28:26,187 \u001b[1;37mINFO\u001b[0m cyclops.processors.admin - # admin features: 2, # encounters: 85953\n"
     ]
    },
    {
     "name": "stdout",
     "output_type": "stream",
     "text": [
      "Best n: 5\n",
      "summer | length_of_stay_in_er | UHNTG | xgb\n"
     ]
    },
    {
     "name": "stderr",
     "output_type": "stream",
     "text": [
      "2022-04-20 14:29:11,864 \u001b[1;37mINFO\u001b[0m cyclops.utils.profile - Finished executing function process in 45.694420 s\n"
     ]
    },
    {
     "name": "stdout",
     "output_type": "stream",
     "text": [
      "Best eta: 0.3\n",
      "Best g: 5\n",
      "Best n: 7\n",
      "summer | length_of_stay_in_er | UHNTW | lr\n"
     ]
    },
    {
     "name": "stderr",
     "output_type": "stream",
     "text": [
      "2022-04-20 14:31:15,062 \u001b[1;37mINFO\u001b[0m cyclops.processors.base - Processing raw admin data...\n",
      "2022-04-20 14:31:15,082 \u001b[1;37mINFO\u001b[0m cyclops.processors.base - # samples: 85953, # encounters: 85953\n",
      "2022-04-20 14:31:15,095 \u001b[1;37mINFO\u001b[0m cyclops.processors.admin - # admin features: 2, # encounters: 85953\n",
      "2022-04-20 14:32:01,280 \u001b[1;37mINFO\u001b[0m cyclops.utils.profile - Finished executing function process in 46.217518 s\n",
      "lbfgs failed to converge (status=1):\n",
      "STOP: TOTAL NO. of ITERATIONS REACHED LIMIT.\n",
      "\n",
      "Increase the number of iterations (max_iter) or scale the data as shown in:\n",
      "    https://scikit-learn.org/stable/modules/preprocessing.html\n",
      "Please also refer to the documentation for alternative solver options:\n",
      "    https://scikit-learn.org/stable/modules/linear_model.html#logistic-regression\n"
     ]
    },
    {
     "name": "stdout",
     "output_type": "stream",
     "text": [
      "Fitting model with C: 0.1\n",
      "Fitting model with C: 0.01\n",
      "Fitting model with C: 0.001\n",
      "Fitting model with C: 0.0001\n",
      "Fitting model with C: 1e-05\n"
     ]
    },
    {
     "name": "stderr",
     "output_type": "stream",
     "text": [
      "lbfgs failed to converge (status=1):\n",
      "STOP: TOTAL NO. of ITERATIONS REACHED LIMIT.\n",
      "\n",
      "Increase the number of iterations (max_iter) or scale the data as shown in:\n",
      "    https://scikit-learn.org/stable/modules/preprocessing.html\n",
      "Please also refer to the documentation for alternative solver options:\n",
      "    https://scikit-learn.org/stable/modules/linear_model.html#logistic-regression\n",
      "lbfgs failed to converge (status=1):\n",
      "STOP: TOTAL NO. of ITERATIONS REACHED LIMIT.\n",
      "\n",
      "Increase the number of iterations (max_iter) or scale the data as shown in:\n",
      "    https://scikit-learn.org/stable/modules/preprocessing.html\n",
      "Please also refer to the documentation for alternative solver options:\n",
      "    https://scikit-learn.org/stable/modules/linear_model.html#logistic-regression\n",
      "lbfgs failed to converge (status=1):\n",
      "STOP: TOTAL NO. of ITERATIONS REACHED LIMIT.\n",
      "\n",
      "Increase the number of iterations (max_iter) or scale the data as shown in:\n",
      "    https://scikit-learn.org/stable/modules/preprocessing.html\n",
      "Please also refer to the documentation for alternative solver options:\n",
      "    https://scikit-learn.org/stable/modules/linear_model.html#logistic-regression\n",
      "2022-04-20 14:32:01,757 \u001b[1;37mINFO\u001b[0m cyclops.processors.base - Processing raw admin data...\n",
      "2022-04-20 14:32:01,763 \u001b[1;37mINFO\u001b[0m cyclops.processors.base - # samples: 85953, # encounters: 85953\n",
      "2022-04-20 14:32:01,775 \u001b[1;37mINFO\u001b[0m cyclops.processors.admin - # admin features: 2, # encounters: 85953\n"
     ]
    },
    {
     "name": "stdout",
     "output_type": "stream",
     "text": [
      "Fitting model with C: 1e-06\n",
      "Fitting model with C: 1e-07\n",
      "Best C: 0.0001\n",
      "summer | length_of_stay_in_er | UHNTW | rf\n"
     ]
    },
    {
     "name": "stderr",
     "output_type": "stream",
     "text": [
      "2022-04-20 14:32:48,395 \u001b[1;37mINFO\u001b[0m cyclops.utils.profile - Finished executing function process in 46.638168 s\n"
     ]
    },
    {
     "name": "stdout",
     "output_type": "stream",
     "text": [
      "Fitting model with n: 5\n",
      "Fitting model with n: 10\n",
      "Fitting model with n: 50\n",
      "Fitting model with n: 100\n",
      "Fitting model with n: 500\n"
     ]
    },
    {
     "name": "stderr",
     "output_type": "stream",
     "text": [
      "2022-04-20 14:32:50,121 \u001b[1;37mINFO\u001b[0m cyclops.processors.base - Processing raw admin data...\n",
      "2022-04-20 14:32:50,128 \u001b[1;37mINFO\u001b[0m cyclops.processors.base - # samples: 85953, # encounters: 85953\n",
      "2022-04-20 14:32:50,139 \u001b[1;37mINFO\u001b[0m cyclops.processors.admin - # admin features: 2, # encounters: 85953\n"
     ]
    },
    {
     "name": "stdout",
     "output_type": "stream",
     "text": [
      "Best n: 50\n",
      "summer | length_of_stay_in_er | UHNTW | xgb\n"
     ]
    },
    {
     "name": "stderr",
     "output_type": "stream",
     "text": [
      "2022-04-20 14:33:37,212 \u001b[1;37mINFO\u001b[0m cyclops.utils.profile - Finished executing function process in 47.090674 s\n",
      "2022-04-20 14:35:29,295 \u001b[1;37mINFO\u001b[0m cyclops.processors.base - Processing raw admin data...\n",
      "2022-04-20 14:35:29,303 \u001b[1;37mINFO\u001b[0m cyclops.processors.base - # samples: 85953, # encounters: 85953\n",
      "2022-04-20 14:35:29,313 \u001b[1;37mINFO\u001b[0m cyclops.processors.admin - # admin features: 2, # encounters: 85953\n"
     ]
    },
    {
     "name": "stdout",
     "output_type": "stream",
     "text": [
      "Best eta: 0.01\n",
      "Best g: 0.5\n",
      "Best n: 5\n",
      "summer | mortality_in_hospital | SMH | lr\n"
     ]
    },
    {
     "name": "stderr",
     "output_type": "stream",
     "text": [
      "2022-04-20 14:36:13,529 \u001b[1;37mINFO\u001b[0m cyclops.utils.profile - Finished executing function process in 44.234085 s\n",
      "lbfgs failed to converge (status=1):\n",
      "STOP: TOTAL NO. of ITERATIONS REACHED LIMIT.\n",
      "\n",
      "Increase the number of iterations (max_iter) or scale the data as shown in:\n",
      "    https://scikit-learn.org/stable/modules/preprocessing.html\n",
      "Please also refer to the documentation for alternative solver options:\n",
      "    https://scikit-learn.org/stable/modules/linear_model.html#logistic-regression\n",
      "lbfgs failed to converge (status=1):\n",
      "STOP: TOTAL NO. of ITERATIONS REACHED LIMIT.\n",
      "\n",
      "Increase the number of iterations (max_iter) or scale the data as shown in:\n",
      "    https://scikit-learn.org/stable/modules/preprocessing.html\n",
      "Please also refer to the documentation for alternative solver options:\n",
      "    https://scikit-learn.org/stable/modules/linear_model.html#logistic-regression\n"
     ]
    },
    {
     "name": "stdout",
     "output_type": "stream",
     "text": [
      "Fitting model with C: 0.1\n",
      "Fitting model with C: 0.01\n",
      "Fitting model with C: 0.001\n",
      "Fitting model with C: 0.0001\n",
      "Fitting model with C: 1e-05\n",
      "Fitting model with C: 1e-06\n",
      "Fitting model with C: 1e-07\n"
     ]
    },
    {
     "name": "stderr",
     "output_type": "stream",
     "text": [
      "lbfgs failed to converge (status=1):\n",
      "STOP: TOTAL NO. of ITERATIONS REACHED LIMIT.\n",
      "\n",
      "Increase the number of iterations (max_iter) or scale the data as shown in:\n",
      "    https://scikit-learn.org/stable/modules/preprocessing.html\n",
      "Please also refer to the documentation for alternative solver options:\n",
      "    https://scikit-learn.org/stable/modules/linear_model.html#logistic-regression\n",
      "2022-04-20 14:36:13,908 \u001b[1;37mINFO\u001b[0m cyclops.processors.base - Processing raw admin data...\n",
      "2022-04-20 14:36:13,913 \u001b[1;37mINFO\u001b[0m cyclops.processors.base - # samples: 85953, # encounters: 85953\n",
      "2022-04-20 14:36:13,923 \u001b[1;37mINFO\u001b[0m cyclops.processors.admin - # admin features: 2, # encounters: 85953\n"
     ]
    },
    {
     "name": "stdout",
     "output_type": "stream",
     "text": [
      "Best C: 0.1\n",
      "summer | mortality_in_hospital | SMH | rf\n"
     ]
    },
    {
     "name": "stderr",
     "output_type": "stream",
     "text": [
      "2022-04-20 14:37:00,455 \u001b[1;37mINFO\u001b[0m cyclops.utils.profile - Finished executing function process in 46.547072 s\n"
     ]
    },
    {
     "name": "stdout",
     "output_type": "stream",
     "text": [
      "Fitting model with n: 5\n",
      "Fitting model with n: 10\n",
      "Fitting model with n: 50\n",
      "Fitting model with n: 100\n",
      "Fitting model with n: 500\n",
      "Best n: 500\n"
     ]
    },
    {
     "name": "stderr",
     "output_type": "stream",
     "text": [
      "2022-04-20 14:37:02,255 \u001b[1;37mINFO\u001b[0m cyclops.processors.base - Processing raw admin data...\n",
      "2022-04-20 14:37:02,261 \u001b[1;37mINFO\u001b[0m cyclops.processors.base - # samples: 85953, # encounters: 85953\n",
      "2022-04-20 14:37:02,271 \u001b[1;37mINFO\u001b[0m cyclops.processors.admin - # admin features: 2, # encounters: 85953\n"
     ]
    },
    {
     "name": "stdout",
     "output_type": "stream",
     "text": [
      "summer | mortality_in_hospital | SMH | xgb\n"
     ]
    },
    {
     "name": "stderr",
     "output_type": "stream",
     "text": [
      "2022-04-20 14:37:49,328 \u001b[1;37mINFO\u001b[0m cyclops.utils.profile - Finished executing function process in 47.072920 s\n",
      "2022-04-20 14:39:31,596 \u001b[1;37mINFO\u001b[0m cyclops.processors.base - Processing raw admin data...\n",
      "2022-04-20 14:39:31,607 \u001b[1;37mINFO\u001b[0m cyclops.processors.base - # samples: 85953, # encounters: 85953\n",
      "2022-04-20 14:39:31,624 \u001b[1;37mINFO\u001b[0m cyclops.processors.admin - # admin features: 2, # encounters: 85953\n"
     ]
    },
    {
     "name": "stdout",
     "output_type": "stream",
     "text": [
      "Best eta: 0.3\n",
      "Best g: 1\n",
      "Best n: 3\n",
      "summer | mortality_in_hospital | MSH | lr\n"
     ]
    },
    {
     "name": "stderr",
     "output_type": "stream",
     "text": [
      "2022-04-20 14:40:15,683 \u001b[1;37mINFO\u001b[0m cyclops.utils.profile - Finished executing function process in 44.086659 s\n",
      "lbfgs failed to converge (status=1):\n",
      "STOP: TOTAL NO. of ITERATIONS REACHED LIMIT.\n",
      "\n",
      "Increase the number of iterations (max_iter) or scale the data as shown in:\n",
      "    https://scikit-learn.org/stable/modules/preprocessing.html\n",
      "Please also refer to the documentation for alternative solver options:\n",
      "    https://scikit-learn.org/stable/modules/linear_model.html#logistic-regression\n",
      "lbfgs failed to converge (status=1):\n",
      "STOP: TOTAL NO. of ITERATIONS REACHED LIMIT.\n",
      "\n",
      "Increase the number of iterations (max_iter) or scale the data as shown in:\n",
      "    https://scikit-learn.org/stable/modules/preprocessing.html\n",
      "Please also refer to the documentation for alternative solver options:\n",
      "    https://scikit-learn.org/stable/modules/linear_model.html#logistic-regression\n"
     ]
    },
    {
     "name": "stdout",
     "output_type": "stream",
     "text": [
      "Fitting model with C: 0.1\n",
      "Fitting model with C: 0.01\n",
      "Fitting model with C: 0.001\n",
      "Fitting model with C: 0.0001\n",
      "Fitting model with C: 1e-05\n",
      "Fitting model with C: 1e-06\n",
      "Fitting model with C: 1e-07\n",
      "Best C: 1e-07\n",
      "summer | mortality_in_hospital | MSH | rf\n"
     ]
    },
    {
     "name": "stderr",
     "output_type": "stream",
     "text": [
      "lbfgs failed to converge (status=1):\n",
      "STOP: TOTAL NO. of ITERATIONS REACHED LIMIT.\n",
      "\n",
      "Increase the number of iterations (max_iter) or scale the data as shown in:\n",
      "    https://scikit-learn.org/stable/modules/preprocessing.html\n",
      "Please also refer to the documentation for alternative solver options:\n",
      "    https://scikit-learn.org/stable/modules/linear_model.html#logistic-regression\n",
      "2022-04-20 14:40:16,043 \u001b[1;37mINFO\u001b[0m cyclops.processors.base - Processing raw admin data...\n",
      "2022-04-20 14:40:16,048 \u001b[1;37mINFO\u001b[0m cyclops.processors.base - # samples: 85953, # encounters: 85953\n",
      "2022-04-20 14:40:16,064 \u001b[1;37mINFO\u001b[0m cyclops.processors.admin - # admin features: 2, # encounters: 85953\n",
      "2022-04-20 14:41:02,380 \u001b[1;37mINFO\u001b[0m cyclops.utils.profile - Finished executing function process in 46.336864 s\n"
     ]
    },
    {
     "name": "stdout",
     "output_type": "stream",
     "text": [
      "Fitting model with n: 5\n",
      "Fitting model with n: 10\n",
      "Fitting model with n: 50\n",
      "Fitting model with n: 100\n",
      "Fitting model with n: 500\n",
      "Best n: 50\n"
     ]
    },
    {
     "name": "stderr",
     "output_type": "stream",
     "text": [
      "2022-04-20 14:41:06,126 \u001b[1;37mINFO\u001b[0m cyclops.processors.base - Processing raw admin data...\n",
      "2022-04-20 14:41:06,133 \u001b[1;37mINFO\u001b[0m cyclops.processors.base - # samples: 85953, # encounters: 85953\n",
      "2022-04-20 14:41:06,144 \u001b[1;37mINFO\u001b[0m cyclops.processors.admin - # admin features: 2, # encounters: 85953\n"
     ]
    },
    {
     "name": "stdout",
     "output_type": "stream",
     "text": [
      "summer | mortality_in_hospital | MSH | xgb\n"
     ]
    },
    {
     "name": "stderr",
     "output_type": "stream",
     "text": [
      "2022-04-20 14:41:52,261 \u001b[1;37mINFO\u001b[0m cyclops.utils.profile - Finished executing function process in 46.134921 s\n"
     ]
    },
    {
     "name": "stdout",
     "output_type": "stream",
     "text": [
      "Best eta: 0.3\n",
      "Best g: 1\n",
      "Best n: 9\n",
      "summer | mortality_in_hospital | THPC | lr\n"
     ]
    },
    {
     "name": "stderr",
     "output_type": "stream",
     "text": [
      "2022-04-20 14:43:37,430 \u001b[1;37mINFO\u001b[0m cyclops.processors.base - Processing raw admin data...\n",
      "2022-04-20 14:43:37,437 \u001b[1;37mINFO\u001b[0m cyclops.processors.base - # samples: 85953, # encounters: 85953\n",
      "2022-04-20 14:43:37,453 \u001b[1;37mINFO\u001b[0m cyclops.processors.admin - # admin features: 2, # encounters: 85953\n",
      "2022-04-20 14:44:23,848 \u001b[1;37mINFO\u001b[0m cyclops.utils.profile - Finished executing function process in 46.416670 s\n"
     ]
    },
    {
     "name": "stdout",
     "output_type": "stream",
     "text": [
      "Fitting model with C: 0.1\n",
      "Fitting model with C: 0.01\n",
      "Fitting model with C: 0.001\n",
      "Fitting model with C: 0.0001\n"
     ]
    },
    {
     "name": "stderr",
     "output_type": "stream",
     "text": [
      "lbfgs failed to converge (status=1):\n",
      "STOP: TOTAL NO. of ITERATIONS REACHED LIMIT.\n",
      "\n",
      "Increase the number of iterations (max_iter) or scale the data as shown in:\n",
      "    https://scikit-learn.org/stable/modules/preprocessing.html\n",
      "Please also refer to the documentation for alternative solver options:\n",
      "    https://scikit-learn.org/stable/modules/linear_model.html#logistic-regression\n",
      "lbfgs failed to converge (status=1):\n",
      "STOP: TOTAL NO. of ITERATIONS REACHED LIMIT.\n",
      "\n",
      "Increase the number of iterations (max_iter) or scale the data as shown in:\n",
      "    https://scikit-learn.org/stable/modules/preprocessing.html\n",
      "Please also refer to the documentation for alternative solver options:\n",
      "    https://scikit-learn.org/stable/modules/linear_model.html#logistic-regression\n",
      "lbfgs failed to converge (status=1):\n",
      "STOP: TOTAL NO. of ITERATIONS REACHED LIMIT.\n",
      "\n",
      "Increase the number of iterations (max_iter) or scale the data as shown in:\n",
      "    https://scikit-learn.org/stable/modules/preprocessing.html\n",
      "Please also refer to the documentation for alternative solver options:\n",
      "    https://scikit-learn.org/stable/modules/linear_model.html#logistic-regression\n",
      "lbfgs failed to converge (status=1):\n",
      "STOP: TOTAL NO. of ITERATIONS REACHED LIMIT.\n",
      "\n",
      "Increase the number of iterations (max_iter) or scale the data as shown in:\n",
      "    https://scikit-learn.org/stable/modules/preprocessing.html\n",
      "Please also refer to the documentation for alternative solver options:\n",
      "    https://scikit-learn.org/stable/modules/linear_model.html#logistic-regression\n",
      "2022-04-20 14:44:24,435 \u001b[1;37mINFO\u001b[0m cyclops.processors.base - Processing raw admin data...\n",
      "2022-04-20 14:44:24,441 \u001b[1;37mINFO\u001b[0m cyclops.processors.base - # samples: 85953, # encounters: 85953\n",
      "2022-04-20 14:44:24,451 \u001b[1;37mINFO\u001b[0m cyclops.processors.admin - # admin features: 2, # encounters: 85953\n"
     ]
    },
    {
     "name": "stdout",
     "output_type": "stream",
     "text": [
      "Fitting model with C: 1e-05\n",
      "Fitting model with C: 1e-06\n",
      "Fitting model with C: 1e-07\n",
      "Best C: 1e-05\n",
      "summer | mortality_in_hospital | THPC | rf\n"
     ]
    },
    {
     "name": "stderr",
     "output_type": "stream",
     "text": [
      "2022-04-20 14:45:11,341 \u001b[1;37mINFO\u001b[0m cyclops.utils.profile - Finished executing function process in 46.906439 s\n"
     ]
    },
    {
     "name": "stdout",
     "output_type": "stream",
     "text": [
      "Fitting model with n: 5\n",
      "Fitting model with n: 10\n",
      "Fitting model with n: 50\n",
      "Fitting model with n: 100\n",
      "Fitting model with n: 500\n",
      "Best n: 500\n"
     ]
    },
    {
     "name": "stderr",
     "output_type": "stream",
     "text": [
      "2022-04-20 14:45:14,819 \u001b[1;37mINFO\u001b[0m cyclops.processors.base - Processing raw admin data...\n",
      "2022-04-20 14:45:14,826 \u001b[1;37mINFO\u001b[0m cyclops.processors.base - # samples: 85953, # encounters: 85953\n",
      "2022-04-20 14:45:14,836 \u001b[1;37mINFO\u001b[0m cyclops.processors.admin - # admin features: 2, # encounters: 85953\n"
     ]
    },
    {
     "name": "stdout",
     "output_type": "stream",
     "text": [
      "summer | mortality_in_hospital | THPC | xgb\n"
     ]
    },
    {
     "name": "stderr",
     "output_type": "stream",
     "text": [
      "2022-04-20 14:46:00,924 \u001b[1;37mINFO\u001b[0m cyclops.utils.profile - Finished executing function process in 46.104104 s\n",
      "2022-04-20 14:48:29,109 \u001b[1;37mINFO\u001b[0m cyclops.processors.base - Processing raw admin data...\n",
      "2022-04-20 14:48:29,119 \u001b[1;37mINFO\u001b[0m cyclops.processors.base - # samples: 85953, # encounters: 85953\n",
      "2022-04-20 14:48:29,130 \u001b[1;37mINFO\u001b[0m cyclops.processors.admin - # admin features: 2, # encounters: 85953\n"
     ]
    },
    {
     "name": "stdout",
     "output_type": "stream",
     "text": [
      "Best eta: 0.3\n",
      "Best g: 0.5\n",
      "Best n: 3\n",
      "summer | mortality_in_hospital | THPM | lr\n"
     ]
    },
    {
     "name": "stderr",
     "output_type": "stream",
     "text": [
      "2022-04-20 14:49:16,781 \u001b[1;37mINFO\u001b[0m cyclops.utils.profile - Finished executing function process in 47.673826 s\n",
      "lbfgs failed to converge (status=1):\n",
      "STOP: TOTAL NO. of ITERATIONS REACHED LIMIT.\n",
      "\n",
      "Increase the number of iterations (max_iter) or scale the data as shown in:\n",
      "    https://scikit-learn.org/stable/modules/preprocessing.html\n",
      "Please also refer to the documentation for alternative solver options:\n",
      "    https://scikit-learn.org/stable/modules/linear_model.html#logistic-regression\n"
     ]
    },
    {
     "name": "stdout",
     "output_type": "stream",
     "text": [
      "Fitting model with C: 0.1\n",
      "Fitting model with C: 0.01\n",
      "Fitting model with C: 0.001\n",
      "Fitting model with C: 0.0001\n"
     ]
    },
    {
     "name": "stderr",
     "output_type": "stream",
     "text": [
      "lbfgs failed to converge (status=1):\n",
      "STOP: TOTAL NO. of ITERATIONS REACHED LIMIT.\n",
      "\n",
      "Increase the number of iterations (max_iter) or scale the data as shown in:\n",
      "    https://scikit-learn.org/stable/modules/preprocessing.html\n",
      "Please also refer to the documentation for alternative solver options:\n",
      "    https://scikit-learn.org/stable/modules/linear_model.html#logistic-regression\n",
      "lbfgs failed to converge (status=1):\n",
      "STOP: TOTAL NO. of ITERATIONS REACHED LIMIT.\n",
      "\n",
      "Increase the number of iterations (max_iter) or scale the data as shown in:\n",
      "    https://scikit-learn.org/stable/modules/preprocessing.html\n",
      "Please also refer to the documentation for alternative solver options:\n",
      "    https://scikit-learn.org/stable/modules/linear_model.html#logistic-regression\n",
      "lbfgs failed to converge (status=1):\n",
      "STOP: TOTAL NO. of ITERATIONS REACHED LIMIT.\n",
      "\n",
      "Increase the number of iterations (max_iter) or scale the data as shown in:\n",
      "    https://scikit-learn.org/stable/modules/preprocessing.html\n",
      "Please also refer to the documentation for alternative solver options:\n",
      "    https://scikit-learn.org/stable/modules/linear_model.html#logistic-regression\n",
      "2022-04-20 14:49:17,261 \u001b[1;37mINFO\u001b[0m cyclops.processors.base - Processing raw admin data...\n",
      "2022-04-20 14:49:17,268 \u001b[1;37mINFO\u001b[0m cyclops.processors.base - # samples: 85953, # encounters: 85953\n",
      "2022-04-20 14:49:17,278 \u001b[1;37mINFO\u001b[0m cyclops.processors.admin - # admin features: 2, # encounters: 85953\n"
     ]
    },
    {
     "name": "stdout",
     "output_type": "stream",
     "text": [
      "Fitting model with C: 1e-05\n",
      "Fitting model with C: 1e-06\n",
      "Fitting model with C: 1e-07\n",
      "Best C: 0.001\n",
      "summer | mortality_in_hospital | THPM | rf\n"
     ]
    },
    {
     "name": "stderr",
     "output_type": "stream",
     "text": [
      "2022-04-20 14:50:03,507 \u001b[1;37mINFO\u001b[0m cyclops.utils.profile - Finished executing function process in 46.246053 s\n"
     ]
    },
    {
     "name": "stdout",
     "output_type": "stream",
     "text": [
      "Fitting model with n: 5\n",
      "Fitting model with n: 10\n",
      "Fitting model with n: 50\n",
      "Fitting model with n: 100\n",
      "Fitting model with n: 500\n",
      "Best n: 500\n"
     ]
    },
    {
     "name": "stderr",
     "output_type": "stream",
     "text": [
      "2022-04-20 14:50:06,533 \u001b[1;37mINFO\u001b[0m cyclops.processors.base - Processing raw admin data...\n",
      "2022-04-20 14:50:06,540 \u001b[1;37mINFO\u001b[0m cyclops.processors.base - # samples: 85953, # encounters: 85953\n",
      "2022-04-20 14:50:06,550 \u001b[1;37mINFO\u001b[0m cyclops.processors.admin - # admin features: 2, # encounters: 85953\n"
     ]
    },
    {
     "name": "stdout",
     "output_type": "stream",
     "text": [
      "summer | mortality_in_hospital | THPM | xgb\n"
     ]
    },
    {
     "name": "stderr",
     "output_type": "stream",
     "text": [
      "2022-04-20 14:50:53,357 \u001b[1;37mINFO\u001b[0m cyclops.utils.profile - Finished executing function process in 46.822492 s\n"
     ]
    },
    {
     "name": "stdout",
     "output_type": "stream",
     "text": [
      "Best eta: 0.1\n",
      "Best g: 5\n",
      "Best n: 7\n",
      "summer | mortality_in_hospital | UHNTG | lr\n"
     ]
    },
    {
     "name": "stderr",
     "output_type": "stream",
     "text": [
      "2022-04-20 14:53:20,675 \u001b[1;37mINFO\u001b[0m cyclops.processors.base - Processing raw admin data...\n",
      "2022-04-20 14:53:20,686 \u001b[1;37mINFO\u001b[0m cyclops.processors.base - # samples: 85953, # encounters: 85953\n",
      "2022-04-20 14:53:20,707 \u001b[1;37mINFO\u001b[0m cyclops.processors.admin - # admin features: 2, # encounters: 85953\n",
      "2022-04-20 14:54:04,933 \u001b[1;37mINFO\u001b[0m cyclops.utils.profile - Finished executing function process in 44.258372 s\n"
     ]
    },
    {
     "name": "stdout",
     "output_type": "stream",
     "text": [
      "Fitting model with C: 0.1\n",
      "Fitting model with C: 0.01\n",
      "Fitting model with C: 0.001\n",
      "Fitting model with C: 0.0001\n",
      "Fitting model with C: 1e-05\n"
     ]
    },
    {
     "name": "stderr",
     "output_type": "stream",
     "text": [
      "lbfgs failed to converge (status=1):\n",
      "STOP: TOTAL NO. of ITERATIONS REACHED LIMIT.\n",
      "\n",
      "Increase the number of iterations (max_iter) or scale the data as shown in:\n",
      "    https://scikit-learn.org/stable/modules/preprocessing.html\n",
      "Please also refer to the documentation for alternative solver options:\n",
      "    https://scikit-learn.org/stable/modules/linear_model.html#logistic-regression\n",
      "lbfgs failed to converge (status=1):\n",
      "STOP: TOTAL NO. of ITERATIONS REACHED LIMIT.\n",
      "\n",
      "Increase the number of iterations (max_iter) or scale the data as shown in:\n",
      "    https://scikit-learn.org/stable/modules/preprocessing.html\n",
      "Please also refer to the documentation for alternative solver options:\n",
      "    https://scikit-learn.org/stable/modules/linear_model.html#logistic-regression\n",
      "lbfgs failed to converge (status=1):\n",
      "STOP: TOTAL NO. of ITERATIONS REACHED LIMIT.\n",
      "\n",
      "Increase the number of iterations (max_iter) or scale the data as shown in:\n",
      "    https://scikit-learn.org/stable/modules/preprocessing.html\n",
      "Please also refer to the documentation for alternative solver options:\n",
      "    https://scikit-learn.org/stable/modules/linear_model.html#logistic-regression\n",
      "2022-04-20 14:54:05,432 \u001b[1;37mINFO\u001b[0m cyclops.processors.base - Processing raw admin data...\n",
      "2022-04-20 14:54:05,438 \u001b[1;37mINFO\u001b[0m cyclops.processors.base - # samples: 85953, # encounters: 85953\n",
      "2022-04-20 14:54:05,459 \u001b[1;37mINFO\u001b[0m cyclops.processors.admin - # admin features: 2, # encounters: 85953\n"
     ]
    },
    {
     "name": "stdout",
     "output_type": "stream",
     "text": [
      "Fitting model with C: 1e-06\n",
      "Fitting model with C: 1e-07\n",
      "Best C: 0.1\n",
      "summer | mortality_in_hospital | UHNTG | rf\n"
     ]
    },
    {
     "name": "stderr",
     "output_type": "stream",
     "text": [
      "2022-04-20 14:54:49,829 \u001b[1;37mINFO\u001b[0m cyclops.utils.profile - Finished executing function process in 44.393778 s\n"
     ]
    },
    {
     "name": "stdout",
     "output_type": "stream",
     "text": [
      "Fitting model with n: 5\n",
      "Fitting model with n: 10\n",
      "Fitting model with n: 50\n",
      "Fitting model with n: 100\n",
      "Fitting model with n: 500\n",
      "Best n: 500\n",
      "summer | mortality_in_hospital | UHNTG | xgb\n"
     ]
    },
    {
     "name": "stderr",
     "output_type": "stream",
     "text": [
      "2022-04-20 14:54:52,336 \u001b[1;37mINFO\u001b[0m cyclops.processors.base - Processing raw admin data...\n",
      "2022-04-20 14:54:52,342 \u001b[1;37mINFO\u001b[0m cyclops.processors.base - # samples: 85953, # encounters: 85953\n",
      "2022-04-20 14:54:52,356 \u001b[1;37mINFO\u001b[0m cyclops.processors.admin - # admin features: 2, # encounters: 85953\n",
      "2022-04-20 14:55:36,719 \u001b[1;37mINFO\u001b[0m cyclops.utils.profile - Finished executing function process in 44.381918 s\n"
     ]
    },
    {
     "name": "stdout",
     "output_type": "stream",
     "text": [
      "Best eta: 0.3\n",
      "Best g: 1\n",
      "Best n: 3\n",
      "summer | mortality_in_hospital | UHNTW | lr\n"
     ]
    },
    {
     "name": "stderr",
     "output_type": "stream",
     "text": [
      "2022-04-20 14:57:38,755 \u001b[1;37mINFO\u001b[0m cyclops.processors.base - Processing raw admin data...\n",
      "2022-04-20 14:57:38,765 \u001b[1;37mINFO\u001b[0m cyclops.processors.base - # samples: 85953, # encounters: 85953\n",
      "2022-04-20 14:57:38,780 \u001b[1;37mINFO\u001b[0m cyclops.processors.admin - # admin features: 2, # encounters: 85953\n",
      "2022-04-20 14:58:26,019 \u001b[1;37mINFO\u001b[0m cyclops.utils.profile - Finished executing function process in 47.261547 s\n"
     ]
    },
    {
     "name": "stdout",
     "output_type": "stream",
     "text": [
      "Fitting model with C: 0.1\n",
      "Fitting model with C: 0.01\n",
      "Fitting model with C: 0.001\n",
      "Fitting model with C: 0.0001\n"
     ]
    },
    {
     "name": "stderr",
     "output_type": "stream",
     "text": [
      "lbfgs failed to converge (status=1):\n",
      "STOP: TOTAL NO. of ITERATIONS REACHED LIMIT.\n",
      "\n",
      "Increase the number of iterations (max_iter) or scale the data as shown in:\n",
      "    https://scikit-learn.org/stable/modules/preprocessing.html\n",
      "Please also refer to the documentation for alternative solver options:\n",
      "    https://scikit-learn.org/stable/modules/linear_model.html#logistic-regression\n",
      "lbfgs failed to converge (status=1):\n",
      "STOP: TOTAL NO. of ITERATIONS REACHED LIMIT.\n",
      "\n",
      "Increase the number of iterations (max_iter) or scale the data as shown in:\n",
      "    https://scikit-learn.org/stable/modules/preprocessing.html\n",
      "Please also refer to the documentation for alternative solver options:\n",
      "    https://scikit-learn.org/stable/modules/linear_model.html#logistic-regression\n",
      "lbfgs failed to converge (status=1):\n",
      "STOP: TOTAL NO. of ITERATIONS REACHED LIMIT.\n",
      "\n",
      "Increase the number of iterations (max_iter) or scale the data as shown in:\n",
      "    https://scikit-learn.org/stable/modules/preprocessing.html\n",
      "Please also refer to the documentation for alternative solver options:\n",
      "    https://scikit-learn.org/stable/modules/linear_model.html#logistic-regression\n",
      "lbfgs failed to converge (status=1):\n",
      "STOP: TOTAL NO. of ITERATIONS REACHED LIMIT.\n",
      "\n",
      "Increase the number of iterations (max_iter) or scale the data as shown in:\n",
      "    https://scikit-learn.org/stable/modules/preprocessing.html\n",
      "Please also refer to the documentation for alternative solver options:\n",
      "    https://scikit-learn.org/stable/modules/linear_model.html#logistic-regression\n"
     ]
    },
    {
     "name": "stdout",
     "output_type": "stream",
     "text": [
      "Fitting model with C: 1e-05\n",
      "Fitting model with C: 1e-06\n",
      "Fitting model with C: 1e-07\n",
      "Best C: 0.1\n",
      "summer | mortality_in_hospital | UHNTW | rf\n"
     ]
    },
    {
     "name": "stderr",
     "output_type": "stream",
     "text": [
      "2022-04-20 14:58:26,886 \u001b[1;37mINFO\u001b[0m cyclops.processors.base - Processing raw admin data...\n",
      "2022-04-20 14:58:26,893 \u001b[1;37mINFO\u001b[0m cyclops.processors.base - # samples: 85953, # encounters: 85953\n",
      "2022-04-20 14:58:26,905 \u001b[1;37mINFO\u001b[0m cyclops.processors.admin - # admin features: 2, # encounters: 85953\n",
      "2022-04-20 14:59:13,856 \u001b[1;37mINFO\u001b[0m cyclops.utils.profile - Finished executing function process in 46.969347 s\n"
     ]
    },
    {
     "name": "stdout",
     "output_type": "stream",
     "text": [
      "Fitting model with n: 5\n",
      "Fitting model with n: 10\n",
      "Fitting model with n: 50\n",
      "Fitting model with n: 100\n",
      "Fitting model with n: 500\n",
      "Best n: 500\n"
     ]
    },
    {
     "name": "stderr",
     "output_type": "stream",
     "text": [
      "2022-04-20 14:59:16,125 \u001b[1;37mINFO\u001b[0m cyclops.processors.base - Processing raw admin data...\n",
      "2022-04-20 14:59:16,131 \u001b[1;37mINFO\u001b[0m cyclops.processors.base - # samples: 85953, # encounters: 85953\n",
      "2022-04-20 14:59:16,144 \u001b[1;37mINFO\u001b[0m cyclops.processors.admin - # admin features: 2, # encounters: 85953\n"
     ]
    },
    {
     "name": "stdout",
     "output_type": "stream",
     "text": [
      "summer | mortality_in_hospital | UHNTW | xgb\n"
     ]
    },
    {
     "name": "stderr",
     "output_type": "stream",
     "text": [
      "2022-04-20 15:00:00,606 \u001b[1;37mINFO\u001b[0m cyclops.utils.profile - Finished executing function process in 44.480655 s\n"
     ]
    },
    {
     "name": "stdout",
     "output_type": "stream",
     "text": [
      "Best eta: 0.01\n",
      "Best g: 1\n",
      "Best n: 7\n",
      "winter | length_of_stay_in_er | SMH | lr\n"
     ]
    },
    {
     "name": "stderr",
     "output_type": "stream",
     "text": [
      "2022-04-20 15:01:54,095 \u001b[1;37mINFO\u001b[0m cyclops.processors.base - Processing raw admin data...\n",
      "2022-04-20 15:01:54,110 \u001b[1;37mINFO\u001b[0m cyclops.processors.base - # samples: 85953, # encounters: 85953\n",
      "2022-04-20 15:01:54,135 \u001b[1;37mINFO\u001b[0m cyclops.processors.admin - # admin features: 2, # encounters: 85953\n",
      "2022-04-20 15:02:40,942 \u001b[1;37mINFO\u001b[0m cyclops.utils.profile - Finished executing function process in 46.845084 s\n"
     ]
    },
    {
     "name": "stdout",
     "output_type": "stream",
     "text": [
      "Fitting model with C: 0.1\n",
      "Fitting model with C: 0.01\n",
      "Fitting model with C: 0.001\n",
      "Fitting model with C: 0.0001\n",
      "Fitting model with C: 1e-05\n"
     ]
    },
    {
     "name": "stderr",
     "output_type": "stream",
     "text": [
      "lbfgs failed to converge (status=1):\n",
      "STOP: TOTAL NO. of ITERATIONS REACHED LIMIT.\n",
      "\n",
      "Increase the number of iterations (max_iter) or scale the data as shown in:\n",
      "    https://scikit-learn.org/stable/modules/preprocessing.html\n",
      "Please also refer to the documentation for alternative solver options:\n",
      "    https://scikit-learn.org/stable/modules/linear_model.html#logistic-regression\n",
      "lbfgs failed to converge (status=1):\n",
      "STOP: TOTAL NO. of ITERATIONS REACHED LIMIT.\n",
      "\n",
      "Increase the number of iterations (max_iter) or scale the data as shown in:\n",
      "    https://scikit-learn.org/stable/modules/preprocessing.html\n",
      "Please also refer to the documentation for alternative solver options:\n",
      "    https://scikit-learn.org/stable/modules/linear_model.html#logistic-regression\n"
     ]
    },
    {
     "name": "stdout",
     "output_type": "stream",
     "text": [
      "Fitting model with C: 1e-06\n",
      "Fitting model with C: 1e-07\n",
      "Best C: 0.1\n",
      "winter | length_of_stay_in_er | SMH | rf\n"
     ]
    },
    {
     "name": "stderr",
     "output_type": "stream",
     "text": [
      "2022-04-20 15:02:41,884 \u001b[1;37mINFO\u001b[0m cyclops.processors.base - Processing raw admin data...\n",
      "2022-04-20 15:02:41,891 \u001b[1;37mINFO\u001b[0m cyclops.processors.base - # samples: 85953, # encounters: 85953\n",
      "2022-04-20 15:02:41,911 \u001b[1;37mINFO\u001b[0m cyclops.processors.admin - # admin features: 2, # encounters: 85953\n",
      "2022-04-20 15:03:27,075 \u001b[1;37mINFO\u001b[0m cyclops.utils.profile - Finished executing function process in 45.190206 s\n"
     ]
    },
    {
     "name": "stdout",
     "output_type": "stream",
     "text": [
      "Fitting model with n: 5\n",
      "Fitting model with n: 10\n",
      "Fitting model with n: 50\n",
      "Fitting model with n: 100\n",
      "Fitting model with n: 500\n"
     ]
    },
    {
     "name": "stderr",
     "output_type": "stream",
     "text": [
      "2022-04-20 15:03:28,910 \u001b[1;37mINFO\u001b[0m cyclops.processors.base - Processing raw admin data...\n",
      "2022-04-20 15:03:28,918 \u001b[1;37mINFO\u001b[0m cyclops.processors.base - # samples: 85953, # encounters: 85953\n",
      "2022-04-20 15:03:28,927 \u001b[1;37mINFO\u001b[0m cyclops.processors.admin - # admin features: 2, # encounters: 85953\n"
     ]
    },
    {
     "name": "stdout",
     "output_type": "stream",
     "text": [
      "Best n: 50\n",
      "winter | length_of_stay_in_er | SMH | xgb\n"
     ]
    },
    {
     "name": "stderr",
     "output_type": "stream",
     "text": [
      "2022-04-20 15:04:16,325 \u001b[1;37mINFO\u001b[0m cyclops.utils.profile - Finished executing function process in 47.414408 s\n"
     ]
    },
    {
     "name": "stdout",
     "output_type": "stream",
     "text": [
      "Best eta: 0.05\n",
      "Best g: 5\n",
      "Best n: 3\n",
      "winter | length_of_stay_in_er | MSH | lr\n"
     ]
    },
    {
     "name": "stderr",
     "output_type": "stream",
     "text": [
      "2022-04-20 15:06:12,230 \u001b[1;37mINFO\u001b[0m cyclops.processors.base - Processing raw admin data...\n",
      "2022-04-20 15:06:12,243 \u001b[1;37mINFO\u001b[0m cyclops.processors.base - # samples: 85953, # encounters: 85953\n",
      "2022-04-20 15:06:12,263 \u001b[1;37mINFO\u001b[0m cyclops.processors.admin - # admin features: 2, # encounters: 85953\n",
      "2022-04-20 15:06:56,707 \u001b[1;37mINFO\u001b[0m cyclops.utils.profile - Finished executing function process in 44.475107 s\n"
     ]
    },
    {
     "name": "stdout",
     "output_type": "stream",
     "text": [
      "Fitting model with C: 0.1\n",
      "Fitting model with C: 0.01\n",
      "Fitting model with C: 0.001\n",
      "Fitting model with C: 0.0001\n"
     ]
    },
    {
     "name": "stderr",
     "output_type": "stream",
     "text": [
      "lbfgs failed to converge (status=1):\n",
      "STOP: TOTAL NO. of ITERATIONS REACHED LIMIT.\n",
      "\n",
      "Increase the number of iterations (max_iter) or scale the data as shown in:\n",
      "    https://scikit-learn.org/stable/modules/preprocessing.html\n",
      "Please also refer to the documentation for alternative solver options:\n",
      "    https://scikit-learn.org/stable/modules/linear_model.html#logistic-regression\n",
      "lbfgs failed to converge (status=1):\n",
      "STOP: TOTAL NO. of ITERATIONS REACHED LIMIT.\n",
      "\n",
      "Increase the number of iterations (max_iter) or scale the data as shown in:\n",
      "    https://scikit-learn.org/stable/modules/preprocessing.html\n",
      "Please also refer to the documentation for alternative solver options:\n",
      "    https://scikit-learn.org/stable/modules/linear_model.html#logistic-regression\n",
      "lbfgs failed to converge (status=1):\n",
      "STOP: TOTAL NO. of ITERATIONS REACHED LIMIT.\n",
      "\n",
      "Increase the number of iterations (max_iter) or scale the data as shown in:\n",
      "    https://scikit-learn.org/stable/modules/preprocessing.html\n",
      "Please also refer to the documentation for alternative solver options:\n",
      "    https://scikit-learn.org/stable/modules/linear_model.html#logistic-regression\n"
     ]
    },
    {
     "name": "stdout",
     "output_type": "stream",
     "text": [
      "Fitting model with C: 1e-05\n",
      "Fitting model with C: 1e-06\n",
      "Fitting model with C: 1e-07\n",
      "Best C: 0.0001\n",
      "winter | length_of_stay_in_er | MSH | rf\n"
     ]
    },
    {
     "name": "stderr",
     "output_type": "stream",
     "text": [
      "2022-04-20 15:06:57,587 \u001b[1;37mINFO\u001b[0m cyclops.processors.base - Processing raw admin data...\n",
      "2022-04-20 15:06:57,592 \u001b[1;37mINFO\u001b[0m cyclops.processors.base - # samples: 85953, # encounters: 85953\n",
      "2022-04-20 15:06:57,614 \u001b[1;37mINFO\u001b[0m cyclops.processors.admin - # admin features: 2, # encounters: 85953\n",
      "2022-04-20 15:07:42,417 \u001b[1;37mINFO\u001b[0m cyclops.utils.profile - Finished executing function process in 44.830426 s\n"
     ]
    },
    {
     "name": "stdout",
     "output_type": "stream",
     "text": [
      "Fitting model with n: 5\n",
      "Fitting model with n: 10\n",
      "Fitting model with n: 50\n",
      "Fitting model with n: 100\n",
      "Fitting model with n: 500\n",
      "Best n: 100\n"
     ]
    },
    {
     "name": "stderr",
     "output_type": "stream",
     "text": [
      "2022-04-20 15:07:44,404 \u001b[1;37mINFO\u001b[0m cyclops.processors.base - Processing raw admin data...\n",
      "2022-04-20 15:07:44,411 \u001b[1;37mINFO\u001b[0m cyclops.processors.base - # samples: 85953, # encounters: 85953\n",
      "2022-04-20 15:07:44,421 \u001b[1;37mINFO\u001b[0m cyclops.processors.admin - # admin features: 2, # encounters: 85953\n"
     ]
    },
    {
     "name": "stdout",
     "output_type": "stream",
     "text": [
      "winter | length_of_stay_in_er | MSH | xgb\n"
     ]
    },
    {
     "name": "stderr",
     "output_type": "stream",
     "text": [
      "2022-04-20 15:08:31,477 \u001b[1;37mINFO\u001b[0m cyclops.utils.profile - Finished executing function process in 47.070961 s\n"
     ]
    },
    {
     "name": "stdout",
     "output_type": "stream",
     "text": [
      "Best eta: 0.3\n",
      "Best g: 1.5\n",
      "Best n: 11\n",
      "winter | length_of_stay_in_er | THPC | lr\n"
     ]
    },
    {
     "name": "stderr",
     "output_type": "stream",
     "text": [
      "2022-04-20 15:10:23,863 \u001b[1;37mINFO\u001b[0m cyclops.processors.base - Processing raw admin data...\n",
      "2022-04-20 15:10:23,870 \u001b[1;37mINFO\u001b[0m cyclops.processors.base - # samples: 85953, # encounters: 85953\n",
      "2022-04-20 15:10:23,882 \u001b[1;37mINFO\u001b[0m cyclops.processors.admin - # admin features: 2, # encounters: 85953\n",
      "2022-04-20 15:11:07,589 \u001b[1;37mINFO\u001b[0m cyclops.utils.profile - Finished executing function process in 43.725768 s\n"
     ]
    },
    {
     "name": "stdout",
     "output_type": "stream",
     "text": [
      "Fitting model with C: 0.1\n",
      "Fitting model with C: 0.01\n",
      "Fitting model with C: 0.001\n",
      "Fitting model with C: 0.0001\n"
     ]
    },
    {
     "name": "stderr",
     "output_type": "stream",
     "text": [
      "lbfgs failed to converge (status=1):\n",
      "STOP: TOTAL NO. of ITERATIONS REACHED LIMIT.\n",
      "\n",
      "Increase the number of iterations (max_iter) or scale the data as shown in:\n",
      "    https://scikit-learn.org/stable/modules/preprocessing.html\n",
      "Please also refer to the documentation for alternative solver options:\n",
      "    https://scikit-learn.org/stable/modules/linear_model.html#logistic-regression\n",
      "lbfgs failed to converge (status=1):\n",
      "STOP: TOTAL NO. of ITERATIONS REACHED LIMIT.\n",
      "\n",
      "Increase the number of iterations (max_iter) or scale the data as shown in:\n",
      "    https://scikit-learn.org/stable/modules/preprocessing.html\n",
      "Please also refer to the documentation for alternative solver options:\n",
      "    https://scikit-learn.org/stable/modules/linear_model.html#logistic-regression\n",
      "lbfgs failed to converge (status=1):\n",
      "STOP: TOTAL NO. of ITERATIONS REACHED LIMIT.\n",
      "\n",
      "Increase the number of iterations (max_iter) or scale the data as shown in:\n",
      "    https://scikit-learn.org/stable/modules/preprocessing.html\n",
      "Please also refer to the documentation for alternative solver options:\n",
      "    https://scikit-learn.org/stable/modules/linear_model.html#logistic-regression\n",
      "2022-04-20 15:11:08,191 \u001b[1;37mINFO\u001b[0m cyclops.processors.base - Processing raw admin data...\n",
      "2022-04-20 15:11:08,196 \u001b[1;37mINFO\u001b[0m cyclops.processors.base - # samples: 85953, # encounters: 85953\n",
      "2022-04-20 15:11:08,205 \u001b[1;37mINFO\u001b[0m cyclops.processors.admin - # admin features: 2, # encounters: 85953\n"
     ]
    },
    {
     "name": "stdout",
     "output_type": "stream",
     "text": [
      "Fitting model with C: 1e-05\n",
      "Fitting model with C: 1e-06\n",
      "Fitting model with C: 1e-07\n",
      "Best C: 1e-07\n",
      "winter | length_of_stay_in_er | THPC | rf\n"
     ]
    },
    {
     "name": "stderr",
     "output_type": "stream",
     "text": [
      "2022-04-20 15:11:52,236 \u001b[1;37mINFO\u001b[0m cyclops.utils.profile - Finished executing function process in 44.045050 s\n"
     ]
    },
    {
     "name": "stdout",
     "output_type": "stream",
     "text": [
      "Fitting model with n: 5\n",
      "Fitting model with n: 10\n",
      "Fitting model with n: 50\n",
      "Fitting model with n: 100\n",
      "Fitting model with n: 500\n"
     ]
    },
    {
     "name": "stderr",
     "output_type": "stream",
     "text": [
      "2022-04-20 15:11:54,151 \u001b[1;37mINFO\u001b[0m cyclops.processors.base - Processing raw admin data...\n",
      "2022-04-20 15:11:54,157 \u001b[1;37mINFO\u001b[0m cyclops.processors.base - # samples: 85953, # encounters: 85953\n",
      "2022-04-20 15:11:54,167 \u001b[1;37mINFO\u001b[0m cyclops.processors.admin - # admin features: 2, # encounters: 85953\n"
     ]
    },
    {
     "name": "stdout",
     "output_type": "stream",
     "text": [
      "Best n: 50\n",
      "winter | length_of_stay_in_er | THPC | xgb\n"
     ]
    },
    {
     "name": "stderr",
     "output_type": "stream",
     "text": [
      "2022-04-20 15:12:38,442 \u001b[1;37mINFO\u001b[0m cyclops.utils.profile - Finished executing function process in 44.290253 s\n"
     ]
    },
    {
     "name": "stdout",
     "output_type": "stream",
     "text": [
      "Best eta: 0.05\n",
      "Best g: 5\n",
      "Best n: 7\n",
      "winter | length_of_stay_in_er | THPM | lr\n"
     ]
    },
    {
     "name": "stderr",
     "output_type": "stream",
     "text": [
      "2022-04-20 15:14:39,906 \u001b[1;37mINFO\u001b[0m cyclops.processors.base - Processing raw admin data...\n",
      "2022-04-20 15:14:39,916 \u001b[1;37mINFO\u001b[0m cyclops.processors.base - # samples: 85953, # encounters: 85953\n",
      "2022-04-20 15:14:39,934 \u001b[1;37mINFO\u001b[0m cyclops.processors.admin - # admin features: 2, # encounters: 85953\n",
      "2022-04-20 15:15:26,816 \u001b[1;37mINFO\u001b[0m cyclops.utils.profile - Finished executing function process in 46.911411 s\n"
     ]
    },
    {
     "name": "stdout",
     "output_type": "stream",
     "text": [
      "Fitting model with C: 0.1\n",
      "Fitting model with C: 0.01\n",
      "Fitting model with C: 0.001\n",
      "Fitting model with C: 0.0001\n",
      "Fitting model with C: 1e-05\n"
     ]
    },
    {
     "name": "stderr",
     "output_type": "stream",
     "text": [
      "lbfgs failed to converge (status=1):\n",
      "STOP: TOTAL NO. of ITERATIONS REACHED LIMIT.\n",
      "\n",
      "Increase the number of iterations (max_iter) or scale the data as shown in:\n",
      "    https://scikit-learn.org/stable/modules/preprocessing.html\n",
      "Please also refer to the documentation for alternative solver options:\n",
      "    https://scikit-learn.org/stable/modules/linear_model.html#logistic-regression\n",
      "lbfgs failed to converge (status=1):\n",
      "STOP: TOTAL NO. of ITERATIONS REACHED LIMIT.\n",
      "\n",
      "Increase the number of iterations (max_iter) or scale the data as shown in:\n",
      "    https://scikit-learn.org/stable/modules/preprocessing.html\n",
      "Please also refer to the documentation for alternative solver options:\n",
      "    https://scikit-learn.org/stable/modules/linear_model.html#logistic-regression\n",
      "lbfgs failed to converge (status=1):\n",
      "STOP: TOTAL NO. of ITERATIONS REACHED LIMIT.\n",
      "\n",
      "Increase the number of iterations (max_iter) or scale the data as shown in:\n",
      "    https://scikit-learn.org/stable/modules/preprocessing.html\n",
      "Please also refer to the documentation for alternative solver options:\n",
      "    https://scikit-learn.org/stable/modules/linear_model.html#logistic-regression\n",
      "lbfgs failed to converge (status=1):\n",
      "STOP: TOTAL NO. of ITERATIONS REACHED LIMIT.\n",
      "\n",
      "Increase the number of iterations (max_iter) or scale the data as shown in:\n",
      "    https://scikit-learn.org/stable/modules/preprocessing.html\n",
      "Please also refer to the documentation for alternative solver options:\n",
      "    https://scikit-learn.org/stable/modules/linear_model.html#logistic-regression\n",
      "2022-04-20 15:15:27,303 \u001b[1;37mINFO\u001b[0m cyclops.processors.base - Processing raw admin data...\n",
      "2022-04-20 15:15:27,308 \u001b[1;37mINFO\u001b[0m cyclops.processors.base - # samples: 85953, # encounters: 85953\n",
      "2022-04-20 15:15:27,318 \u001b[1;37mINFO\u001b[0m cyclops.processors.admin - # admin features: 2, # encounters: 85953\n"
     ]
    },
    {
     "name": "stdout",
     "output_type": "stream",
     "text": [
      "Fitting model with C: 1e-06\n",
      "Fitting model with C: 1e-07\n",
      "Best C: 0.1\n",
      "winter | length_of_stay_in_er | THPM | rf\n"
     ]
    },
    {
     "name": "stderr",
     "output_type": "stream",
     "text": [
      "2022-04-20 15:16:13,953 \u001b[1;37mINFO\u001b[0m cyclops.utils.profile - Finished executing function process in 46.650125 s\n"
     ]
    },
    {
     "name": "stdout",
     "output_type": "stream",
     "text": [
      "Fitting model with n: 5\n",
      "Fitting model with n: 10\n",
      "Fitting model with n: 50\n",
      "Fitting model with n: 100\n",
      "Fitting model with n: 500\n",
      "Best n: 500\n"
     ]
    },
    {
     "name": "stderr",
     "output_type": "stream",
     "text": [
      "2022-04-20 15:16:16,776 \u001b[1;37mINFO\u001b[0m cyclops.processors.base - Processing raw admin data...\n",
      "2022-04-20 15:16:16,782 \u001b[1;37mINFO\u001b[0m cyclops.processors.base - # samples: 85953, # encounters: 85953\n",
      "2022-04-20 15:16:16,791 \u001b[1;37mINFO\u001b[0m cyclops.processors.admin - # admin features: 2, # encounters: 85953\n"
     ]
    },
    {
     "name": "stdout",
     "output_type": "stream",
     "text": [
      "winter | length_of_stay_in_er | THPM | xgb\n"
     ]
    },
    {
     "name": "stderr",
     "output_type": "stream",
     "text": [
      "2022-04-20 15:17:00,942 \u001b[1;37mINFO\u001b[0m cyclops.utils.profile - Finished executing function process in 44.165478 s\n"
     ]
    },
    {
     "name": "stdout",
     "output_type": "stream",
     "text": [
      "Best eta: 0.01\n",
      "Best g: 5\n",
      "Best n: 11\n"
     ]
    },
    {
     "name": "stderr",
     "output_type": "stream",
     "text": [
      "2022-04-20 15:19:29,482 \u001b[1;37mINFO\u001b[0m cyclops.processors.base - Processing raw admin data...\n",
      "2022-04-20 15:19:29,491 \u001b[1;37mINFO\u001b[0m cyclops.processors.base - # samples: 85953, # encounters: 85953\n",
      "2022-04-20 15:19:29,502 \u001b[1;37mINFO\u001b[0m cyclops.processors.admin - # admin features: 2, # encounters: 85953\n"
     ]
    },
    {
     "name": "stdout",
     "output_type": "stream",
     "text": [
      "winter | length_of_stay_in_er | UHNTG | lr\n"
     ]
    },
    {
     "name": "stderr",
     "output_type": "stream",
     "text": [
      "2022-04-20 15:20:16,028 \u001b[1;37mINFO\u001b[0m cyclops.utils.profile - Finished executing function process in 46.544276 s\n",
      "lbfgs failed to converge (status=1):\n",
      "STOP: TOTAL NO. of ITERATIONS REACHED LIMIT.\n",
      "\n",
      "Increase the number of iterations (max_iter) or scale the data as shown in:\n",
      "    https://scikit-learn.org/stable/modules/preprocessing.html\n",
      "Please also refer to the documentation for alternative solver options:\n",
      "    https://scikit-learn.org/stable/modules/linear_model.html#logistic-regression\n"
     ]
    },
    {
     "name": "stdout",
     "output_type": "stream",
     "text": [
      "Fitting model with C: 0.1\n",
      "Fitting model with C: 0.01\n",
      "Fitting model with C: 0.001\n",
      "Fitting model with C: 0.0001\n",
      "Fitting model with C: 1e-05\n"
     ]
    },
    {
     "name": "stderr",
     "output_type": "stream",
     "text": [
      "lbfgs failed to converge (status=1):\n",
      "STOP: TOTAL NO. of ITERATIONS REACHED LIMIT.\n",
      "\n",
      "Increase the number of iterations (max_iter) or scale the data as shown in:\n",
      "    https://scikit-learn.org/stable/modules/preprocessing.html\n",
      "Please also refer to the documentation for alternative solver options:\n",
      "    https://scikit-learn.org/stable/modules/linear_model.html#logistic-regression\n",
      "lbfgs failed to converge (status=1):\n",
      "STOP: TOTAL NO. of ITERATIONS REACHED LIMIT.\n",
      "\n",
      "Increase the number of iterations (max_iter) or scale the data as shown in:\n",
      "    https://scikit-learn.org/stable/modules/preprocessing.html\n",
      "Please also refer to the documentation for alternative solver options:\n",
      "    https://scikit-learn.org/stable/modules/linear_model.html#logistic-regression\n",
      "lbfgs failed to converge (status=1):\n",
      "STOP: TOTAL NO. of ITERATIONS REACHED LIMIT.\n",
      "\n",
      "Increase the number of iterations (max_iter) or scale the data as shown in:\n",
      "    https://scikit-learn.org/stable/modules/preprocessing.html\n",
      "Please also refer to the documentation for alternative solver options:\n",
      "    https://scikit-learn.org/stable/modules/linear_model.html#logistic-regression\n",
      "2022-04-20 15:20:16,511 \u001b[1;37mINFO\u001b[0m cyclops.processors.base - Processing raw admin data...\n",
      "2022-04-20 15:20:16,519 \u001b[1;37mINFO\u001b[0m cyclops.processors.base - # samples: 85953, # encounters: 85953\n",
      "2022-04-20 15:20:16,529 \u001b[1;37mINFO\u001b[0m cyclops.processors.admin - # admin features: 2, # encounters: 85953\n"
     ]
    },
    {
     "name": "stdout",
     "output_type": "stream",
     "text": [
      "Fitting model with C: 1e-06\n",
      "Fitting model with C: 1e-07\n",
      "Best C: 0.1\n",
      "winter | length_of_stay_in_er | UHNTG | rf\n"
     ]
    },
    {
     "name": "stderr",
     "output_type": "stream",
     "text": [
      "2022-04-20 15:21:02,303 \u001b[1;37mINFO\u001b[0m cyclops.utils.profile - Finished executing function process in 45.791100 s\n"
     ]
    },
    {
     "name": "stdout",
     "output_type": "stream",
     "text": [
      "Fitting model with n: 5\n",
      "Fitting model with n: 10\n",
      "Fitting model with n: 50\n",
      "Fitting model with n: 100\n",
      "Fitting model with n: 500\n",
      "Best n: 100\n"
     ]
    },
    {
     "name": "stderr",
     "output_type": "stream",
     "text": [
      "2022-04-20 15:21:04,417 \u001b[1;37mINFO\u001b[0m cyclops.processors.base - Processing raw admin data...\n",
      "2022-04-20 15:21:04,422 \u001b[1;37mINFO\u001b[0m cyclops.processors.base - # samples: 85953, # encounters: 85953\n",
      "2022-04-20 15:21:04,431 \u001b[1;37mINFO\u001b[0m cyclops.processors.admin - # admin features: 2, # encounters: 85953\n"
     ]
    },
    {
     "name": "stdout",
     "output_type": "stream",
     "text": [
      "winter | length_of_stay_in_er | UHNTG | xgb\n"
     ]
    },
    {
     "name": "stderr",
     "output_type": "stream",
     "text": [
      "2022-04-20 15:21:48,220 \u001b[1;37mINFO\u001b[0m cyclops.utils.profile - Finished executing function process in 43.803560 s\n"
     ]
    },
    {
     "name": "stdout",
     "output_type": "stream",
     "text": [
      "Best eta: 0.3\n",
      "Best g: 1.5\n",
      "Best n: 9\n"
     ]
    },
    {
     "name": "stderr",
     "output_type": "stream",
     "text": [
      "2022-04-20 15:23:55,002 \u001b[1;37mINFO\u001b[0m cyclops.processors.base - Processing raw admin data...\n"
     ]
    },
    {
     "name": "stdout",
     "output_type": "stream",
     "text": [
      "winter | length_of_stay_in_er | UHNTW | lr\n"
     ]
    },
    {
     "name": "stderr",
     "output_type": "stream",
     "text": [
      "2022-04-20 15:23:55,009 \u001b[1;37mINFO\u001b[0m cyclops.processors.base - # samples: 85953, # encounters: 85953\n",
      "2022-04-20 15:23:55,026 \u001b[1;37mINFO\u001b[0m cyclops.processors.admin - # admin features: 2, # encounters: 85953\n",
      "2022-04-20 15:24:41,602 \u001b[1;37mINFO\u001b[0m cyclops.utils.profile - Finished executing function process in 46.600105 s\n",
      "lbfgs failed to converge (status=1):\n",
      "STOP: TOTAL NO. of ITERATIONS REACHED LIMIT.\n",
      "\n",
      "Increase the number of iterations (max_iter) or scale the data as shown in:\n",
      "    https://scikit-learn.org/stable/modules/preprocessing.html\n",
      "Please also refer to the documentation for alternative solver options:\n",
      "    https://scikit-learn.org/stable/modules/linear_model.html#logistic-regression\n"
     ]
    },
    {
     "name": "stdout",
     "output_type": "stream",
     "text": [
      "Fitting model with C: 0.1\n",
      "Fitting model with C: 0.01\n",
      "Fitting model with C: 0.001\n",
      "Fitting model with C: 0.0001\n",
      "Fitting model with C: 1e-05\n"
     ]
    },
    {
     "name": "stderr",
     "output_type": "stream",
     "text": [
      "lbfgs failed to converge (status=1):\n",
      "STOP: TOTAL NO. of ITERATIONS REACHED LIMIT.\n",
      "\n",
      "Increase the number of iterations (max_iter) or scale the data as shown in:\n",
      "    https://scikit-learn.org/stable/modules/preprocessing.html\n",
      "Please also refer to the documentation for alternative solver options:\n",
      "    https://scikit-learn.org/stable/modules/linear_model.html#logistic-regression\n",
      "lbfgs failed to converge (status=1):\n",
      "STOP: TOTAL NO. of ITERATIONS REACHED LIMIT.\n",
      "\n",
      "Increase the number of iterations (max_iter) or scale the data as shown in:\n",
      "    https://scikit-learn.org/stable/modules/preprocessing.html\n",
      "Please also refer to the documentation for alternative solver options:\n",
      "    https://scikit-learn.org/stable/modules/linear_model.html#logistic-regression\n"
     ]
    },
    {
     "name": "stdout",
     "output_type": "stream",
     "text": [
      "Fitting model with C: 1e-06\n",
      "Fitting model with C: 1e-07\n",
      "Best C: 1e-07\n"
     ]
    },
    {
     "name": "stderr",
     "output_type": "stream",
     "text": [
      "2022-04-20 15:24:57,511 \u001b[1;37mINFO\u001b[0m cyclops.processors.base - Processing raw admin data...\n",
      "2022-04-20 15:24:57,524 \u001b[1;37mINFO\u001b[0m cyclops.processors.base - # samples: 85953, # encounters: 85953\n",
      "2022-04-20 15:24:57,533 \u001b[1;37mINFO\u001b[0m cyclops.processors.admin - # admin features: 2, # encounters: 85953\n"
     ]
    },
    {
     "name": "stdout",
     "output_type": "stream",
     "text": [
      "winter | length_of_stay_in_er | UHNTW | rf\n"
     ]
    },
    {
     "name": "stderr",
     "output_type": "stream",
     "text": [
      "2022-04-20 15:25:44,338 \u001b[1;37mINFO\u001b[0m cyclops.utils.profile - Finished executing function process in 46.826532 s\n"
     ]
    },
    {
     "name": "stdout",
     "output_type": "stream",
     "text": [
      "Fitting model with n: 5\n",
      "Fitting model with n: 10\n",
      "Fitting model with n: 50\n",
      "Fitting model with n: 100\n",
      "Fitting model with n: 500\n",
      "Best n: 100\n"
     ]
    },
    {
     "name": "stderr",
     "output_type": "stream",
     "text": [
      "2022-04-20 15:25:50,581 \u001b[1;37mINFO\u001b[0m cyclops.processors.base - Processing raw admin data...\n"
     ]
    },
    {
     "name": "stdout",
     "output_type": "stream",
     "text": [
      "winter | length_of_stay_in_er | UHNTW | xgb\n"
     ]
    },
    {
     "name": "stderr",
     "output_type": "stream",
     "text": [
      "2022-04-20 15:25:55,970 \u001b[1;37mINFO\u001b[0m cyclops.processors.base - # samples: 85953, # encounters: 85953\n",
      "2022-04-20 15:25:55,985 \u001b[1;37mINFO\u001b[0m cyclops.processors.admin - # admin features: 2, # encounters: 85953\n",
      "2022-04-20 15:26:42,422 \u001b[1;37mINFO\u001b[0m cyclops.utils.profile - Finished executing function process in 51.840654 s\n"
     ]
    },
    {
     "name": "stdout",
     "output_type": "stream",
     "text": [
      "Best eta: 0.3\n",
      "Best g: 0.5\n",
      "Best n: 11\n",
      "winter | mortality_in_hospital | SMH | lr\n"
     ]
    },
    {
     "name": "stderr",
     "output_type": "stream",
     "text": [
      "2022-04-20 15:28:40,625 \u001b[1;37mINFO\u001b[0m cyclops.processors.base - Processing raw admin data...\n",
      "2022-04-20 15:28:40,633 \u001b[1;37mINFO\u001b[0m cyclops.processors.base - # samples: 85953, # encounters: 85953\n",
      "2022-04-20 15:28:40,649 \u001b[1;37mINFO\u001b[0m cyclops.processors.admin - # admin features: 2, # encounters: 85953\n",
      "2022-04-20 15:29:24,913 \u001b[1;37mINFO\u001b[0m cyclops.utils.profile - Finished executing function process in 44.288162 s\n",
      "lbfgs failed to converge (status=1):\n",
      "STOP: TOTAL NO. of ITERATIONS REACHED LIMIT.\n",
      "\n",
      "Increase the number of iterations (max_iter) or scale the data as shown in:\n",
      "    https://scikit-learn.org/stable/modules/preprocessing.html\n",
      "Please also refer to the documentation for alternative solver options:\n",
      "    https://scikit-learn.org/stable/modules/linear_model.html#logistic-regression\n"
     ]
    },
    {
     "name": "stdout",
     "output_type": "stream",
     "text": [
      "Fitting model with C: 0.1\n",
      "Fitting model with C: 0.01\n",
      "Fitting model with C: 0.001\n",
      "Fitting model with C: 0.0001\n",
      "Fitting model with C: 1e-05\n",
      "Fitting model with C: 1e-06\n"
     ]
    },
    {
     "name": "stderr",
     "output_type": "stream",
     "text": [
      "lbfgs failed to converge (status=1):\n",
      "STOP: TOTAL NO. of ITERATIONS REACHED LIMIT.\n",
      "\n",
      "Increase the number of iterations (max_iter) or scale the data as shown in:\n",
      "    https://scikit-learn.org/stable/modules/preprocessing.html\n",
      "Please also refer to the documentation for alternative solver options:\n",
      "    https://scikit-learn.org/stable/modules/linear_model.html#logistic-regression\n",
      "lbfgs failed to converge (status=1):\n",
      "STOP: TOTAL NO. of ITERATIONS REACHED LIMIT.\n",
      "\n",
      "Increase the number of iterations (max_iter) or scale the data as shown in:\n",
      "    https://scikit-learn.org/stable/modules/preprocessing.html\n",
      "Please also refer to the documentation for alternative solver options:\n",
      "    https://scikit-learn.org/stable/modules/linear_model.html#logistic-regression\n",
      "lbfgs failed to converge (status=1):\n",
      "STOP: TOTAL NO. of ITERATIONS REACHED LIMIT.\n",
      "\n",
      "Increase the number of iterations (max_iter) or scale the data as shown in:\n",
      "    https://scikit-learn.org/stable/modules/preprocessing.html\n",
      "Please also refer to the documentation for alternative solver options:\n",
      "    https://scikit-learn.org/stable/modules/linear_model.html#logistic-regression\n"
     ]
    },
    {
     "name": "stdout",
     "output_type": "stream",
     "text": [
      "Fitting model with C: 1e-07\n",
      "Best C: 0.001\n"
     ]
    },
    {
     "name": "stderr",
     "output_type": "stream",
     "text": [
      "2022-04-20 15:29:25,546 \u001b[1;37mINFO\u001b[0m cyclops.processors.base - Processing raw admin data...\n",
      "2022-04-20 15:29:25,558 \u001b[1;37mINFO\u001b[0m cyclops.processors.base - # samples: 85953, # encounters: 85953\n",
      "2022-04-20 15:29:25,571 \u001b[1;37mINFO\u001b[0m cyclops.processors.admin - # admin features: 2, # encounters: 85953\n"
     ]
    },
    {
     "name": "stdout",
     "output_type": "stream",
     "text": [
      "winter | mortality_in_hospital | SMH | rf\n"
     ]
    },
    {
     "name": "stderr",
     "output_type": "stream",
     "text": [
      "2022-04-20 15:30:11,058 \u001b[1;37mINFO\u001b[0m cyclops.utils.profile - Finished executing function process in 45.511996 s\n"
     ]
    },
    {
     "name": "stdout",
     "output_type": "stream",
     "text": [
      "Fitting model with n: 5\n",
      "Fitting model with n: 10\n",
      "Fitting model with n: 50\n",
      "Fitting model with n: 100\n",
      "Fitting model with n: 500\n",
      "Best n: 500\n"
     ]
    },
    {
     "name": "stderr",
     "output_type": "stream",
     "text": [
      "2022-04-20 15:30:13,269 \u001b[1;37mINFO\u001b[0m cyclops.processors.base - Processing raw admin data...\n",
      "2022-04-20 15:30:13,276 \u001b[1;37mINFO\u001b[0m cyclops.processors.base - # samples: 85953, # encounters: 85953\n",
      "2022-04-20 15:30:13,286 \u001b[1;37mINFO\u001b[0m cyclops.processors.admin - # admin features: 2, # encounters: 85953\n"
     ]
    },
    {
     "name": "stdout",
     "output_type": "stream",
     "text": [
      "winter | mortality_in_hospital | SMH | xgb\n"
     ]
    },
    {
     "name": "stderr",
     "output_type": "stream",
     "text": [
      "2022-04-20 15:30:59,397 \u001b[1;37mINFO\u001b[0m cyclops.utils.profile - Finished executing function process in 46.127487 s\n",
      "2022-04-20 15:32:52,514 \u001b[1;37mINFO\u001b[0m cyclops.processors.base - Processing raw admin data...\n",
      "2022-04-20 15:32:52,525 \u001b[1;37mINFO\u001b[0m cyclops.processors.base - # samples: 85953, # encounters: 85953\n",
      "2022-04-20 15:32:52,537 \u001b[1;37mINFO\u001b[0m cyclops.processors.admin - # admin features: 2, # encounters: 85953\n"
     ]
    },
    {
     "name": "stdout",
     "output_type": "stream",
     "text": [
      "Best eta: 0.05\n",
      "Best g: 0.5\n",
      "Best n: 3\n",
      "winter | mortality_in_hospital | MSH | lr\n"
     ]
    },
    {
     "name": "stderr",
     "output_type": "stream",
     "text": [
      "2022-04-20 15:33:36,315 \u001b[1;37mINFO\u001b[0m cyclops.utils.profile - Finished executing function process in 43.800897 s\n",
      "lbfgs failed to converge (status=1):\n",
      "STOP: TOTAL NO. of ITERATIONS REACHED LIMIT.\n",
      "\n",
      "Increase the number of iterations (max_iter) or scale the data as shown in:\n",
      "    https://scikit-learn.org/stable/modules/preprocessing.html\n",
      "Please also refer to the documentation for alternative solver options:\n",
      "    https://scikit-learn.org/stable/modules/linear_model.html#logistic-regression\n",
      "lbfgs failed to converge (status=1):\n",
      "STOP: TOTAL NO. of ITERATIONS REACHED LIMIT.\n",
      "\n",
      "Increase the number of iterations (max_iter) or scale the data as shown in:\n",
      "    https://scikit-learn.org/stable/modules/preprocessing.html\n",
      "Please also refer to the documentation for alternative solver options:\n",
      "    https://scikit-learn.org/stable/modules/linear_model.html#logistic-regression\n"
     ]
    },
    {
     "name": "stdout",
     "output_type": "stream",
     "text": [
      "Fitting model with C: 0.1\n",
      "Fitting model with C: 0.01\n",
      "Fitting model with C: 0.001\n",
      "Fitting model with C: 0.0001\n",
      "Fitting model with C: 1e-05\n",
      "Fitting model with C: 1e-06\n",
      "Fitting model with C: 1e-07\n"
     ]
    },
    {
     "name": "stderr",
     "output_type": "stream",
     "text": [
      "lbfgs failed to converge (status=1):\n",
      "STOP: TOTAL NO. of ITERATIONS REACHED LIMIT.\n",
      "\n",
      "Increase the number of iterations (max_iter) or scale the data as shown in:\n",
      "    https://scikit-learn.org/stable/modules/preprocessing.html\n",
      "Please also refer to the documentation for alternative solver options:\n",
      "    https://scikit-learn.org/stable/modules/linear_model.html#logistic-regression\n",
      "lbfgs failed to converge (status=1):\n",
      "STOP: TOTAL NO. of ITERATIONS REACHED LIMIT.\n",
      "\n",
      "Increase the number of iterations (max_iter) or scale the data as shown in:\n",
      "    https://scikit-learn.org/stable/modules/preprocessing.html\n",
      "Please also refer to the documentation for alternative solver options:\n",
      "    https://scikit-learn.org/stable/modules/linear_model.html#logistic-regression\n",
      "2022-04-20 15:33:36,733 \u001b[1;37mINFO\u001b[0m cyclops.processors.base - Processing raw admin data...\n",
      "2022-04-20 15:33:36,738 \u001b[1;37mINFO\u001b[0m cyclops.processors.base - # samples: 85953, # encounters: 85953\n",
      "2022-04-20 15:33:36,753 \u001b[1;37mINFO\u001b[0m cyclops.processors.admin - # admin features: 2, # encounters: 85953\n"
     ]
    },
    {
     "name": "stdout",
     "output_type": "stream",
     "text": [
      "Best C: 1e-06\n",
      "winter | mortality_in_hospital | MSH | rf\n"
     ]
    },
    {
     "name": "stderr",
     "output_type": "stream",
     "text": [
      "2022-04-20 15:34:21,170 \u001b[1;37mINFO\u001b[0m cyclops.utils.profile - Finished executing function process in 44.435658 s\n"
     ]
    },
    {
     "name": "stdout",
     "output_type": "stream",
     "text": [
      "Fitting model with n: 5\n",
      "Fitting model with n: 10\n",
      "Fitting model with n: 50\n",
      "Fitting model with n: 100\n",
      "Fitting model with n: 500\n",
      "Best n: 500\n"
     ]
    },
    {
     "name": "stderr",
     "output_type": "stream",
     "text": [
      "2022-04-20 15:34:23,276 \u001b[1;37mINFO\u001b[0m cyclops.processors.base - Processing raw admin data...\n",
      "2022-04-20 15:34:23,282 \u001b[1;37mINFO\u001b[0m cyclops.processors.base - # samples: 85953, # encounters: 85953\n",
      "2022-04-20 15:34:23,291 \u001b[1;37mINFO\u001b[0m cyclops.processors.admin - # admin features: 2, # encounters: 85953\n"
     ]
    },
    {
     "name": "stdout",
     "output_type": "stream",
     "text": [
      "winter | mortality_in_hospital | MSH | xgb\n"
     ]
    },
    {
     "name": "stderr",
     "output_type": "stream",
     "text": [
      "2022-04-20 15:35:07,498 \u001b[1;37mINFO\u001b[0m cyclops.utils.profile - Finished executing function process in 44.221044 s\n"
     ]
    },
    {
     "name": "stdout",
     "output_type": "stream",
     "text": [
      "Best eta: 0.05\n",
      "Best g: 1\n",
      "Best n: 9\n",
      "winter | mortality_in_hospital | THPC | lr\n"
     ]
    },
    {
     "name": "stderr",
     "output_type": "stream",
     "text": [
      "2022-04-20 15:37:00,548 \u001b[1;37mINFO\u001b[0m cyclops.processors.base - Processing raw admin data...\n",
      "2022-04-20 15:37:00,558 \u001b[1;37mINFO\u001b[0m cyclops.processors.base - # samples: 85953, # encounters: 85953\n",
      "2022-04-20 15:37:00,575 \u001b[1;37mINFO\u001b[0m cyclops.processors.admin - # admin features: 2, # encounters: 85953\n",
      "2022-04-20 15:37:47,001 \u001b[1;37mINFO\u001b[0m cyclops.utils.profile - Finished executing function process in 46.453214 s\n"
     ]
    },
    {
     "name": "stdout",
     "output_type": "stream",
     "text": [
      "Fitting model with C: 0.1\n",
      "Fitting model with C: 0.01\n",
      "Fitting model with C: 0.001\n",
      "Fitting model with C: 0.0001\n"
     ]
    },
    {
     "name": "stderr",
     "output_type": "stream",
     "text": [
      "lbfgs failed to converge (status=1):\n",
      "STOP: TOTAL NO. of ITERATIONS REACHED LIMIT.\n",
      "\n",
      "Increase the number of iterations (max_iter) or scale the data as shown in:\n",
      "    https://scikit-learn.org/stable/modules/preprocessing.html\n",
      "Please also refer to the documentation for alternative solver options:\n",
      "    https://scikit-learn.org/stable/modules/linear_model.html#logistic-regression\n",
      "lbfgs failed to converge (status=1):\n",
      "STOP: TOTAL NO. of ITERATIONS REACHED LIMIT.\n",
      "\n",
      "Increase the number of iterations (max_iter) or scale the data as shown in:\n",
      "    https://scikit-learn.org/stable/modules/preprocessing.html\n",
      "Please also refer to the documentation for alternative solver options:\n",
      "    https://scikit-learn.org/stable/modules/linear_model.html#logistic-regression\n",
      "lbfgs failed to converge (status=1):\n",
      "STOP: TOTAL NO. of ITERATIONS REACHED LIMIT.\n",
      "\n",
      "Increase the number of iterations (max_iter) or scale the data as shown in:\n",
      "    https://scikit-learn.org/stable/modules/preprocessing.html\n",
      "Please also refer to the documentation for alternative solver options:\n",
      "    https://scikit-learn.org/stable/modules/linear_model.html#logistic-regression\n",
      "lbfgs failed to converge (status=1):\n",
      "STOP: TOTAL NO. of ITERATIONS REACHED LIMIT.\n",
      "\n",
      "Increase the number of iterations (max_iter) or scale the data as shown in:\n",
      "    https://scikit-learn.org/stable/modules/preprocessing.html\n",
      "Please also refer to the documentation for alternative solver options:\n",
      "    https://scikit-learn.org/stable/modules/linear_model.html#logistic-regression\n",
      "2022-04-20 15:37:47,531 \u001b[1;37mINFO\u001b[0m cyclops.processors.base - Processing raw admin data...\n",
      "2022-04-20 15:37:47,537 \u001b[1;37mINFO\u001b[0m cyclops.processors.base - # samples: 85953, # encounters: 85953\n",
      "2022-04-20 15:37:47,546 \u001b[1;37mINFO\u001b[0m cyclops.processors.admin - # admin features: 2, # encounters: 85953\n"
     ]
    },
    {
     "name": "stdout",
     "output_type": "stream",
     "text": [
      "Fitting model with C: 1e-05\n",
      "Fitting model with C: 1e-06\n",
      "Fitting model with C: 1e-07\n",
      "Best C: 0.1\n",
      "winter | mortality_in_hospital | THPC | rf\n"
     ]
    },
    {
     "name": "stderr",
     "output_type": "stream",
     "text": [
      "2022-04-20 15:38:31,025 \u001b[1;37mINFO\u001b[0m cyclops.utils.profile - Finished executing function process in 43.494038 s\n"
     ]
    },
    {
     "name": "stdout",
     "output_type": "stream",
     "text": [
      "Fitting model with n: 5\n",
      "Fitting model with n: 10\n",
      "Fitting model with n: 50\n",
      "Fitting model with n: 100\n",
      "Fitting model with n: 500\n",
      "Best n: 500\n"
     ]
    },
    {
     "name": "stderr",
     "output_type": "stream",
     "text": [
      "2022-04-20 15:38:33,607 \u001b[1;37mINFO\u001b[0m cyclops.processors.base - Processing raw admin data...\n",
      "2022-04-20 15:38:33,614 \u001b[1;37mINFO\u001b[0m cyclops.processors.base - # samples: 85953, # encounters: 85953\n",
      "2022-04-20 15:38:33,624 \u001b[1;37mINFO\u001b[0m cyclops.processors.admin - # admin features: 2, # encounters: 85953\n"
     ]
    },
    {
     "name": "stdout",
     "output_type": "stream",
     "text": [
      "winter | mortality_in_hospital | THPC | xgb\n"
     ]
    },
    {
     "name": "stderr",
     "output_type": "stream",
     "text": [
      "2022-04-20 15:39:20,455 \u001b[1;37mINFO\u001b[0m cyclops.utils.profile - Finished executing function process in 46.847793 s\n",
      "2022-04-20 15:41:48,544 \u001b[1;37mINFO\u001b[0m cyclops.processors.base - Processing raw admin data...\n",
      "2022-04-20 15:41:48,554 \u001b[1;37mINFO\u001b[0m cyclops.processors.base - # samples: 85953, # encounters: 85953\n",
      "2022-04-20 15:41:48,564 \u001b[1;37mINFO\u001b[0m cyclops.processors.admin - # admin features: 2, # encounters: 85953\n"
     ]
    },
    {
     "name": "stdout",
     "output_type": "stream",
     "text": [
      "Best eta: 0.1\n",
      "Best g: 2\n",
      "Best n: 9\n",
      "winter | mortality_in_hospital | THPM | lr\n"
     ]
    },
    {
     "name": "stderr",
     "output_type": "stream",
     "text": [
      "2022-04-20 15:42:34,835 \u001b[1;37mINFO\u001b[0m cyclops.utils.profile - Finished executing function process in 46.290601 s\n"
     ]
    },
    {
     "name": "stdout",
     "output_type": "stream",
     "text": [
      "Fitting model with C: 0.1\n",
      "Fitting model with C: 0.01\n",
      "Fitting model with C: 0.001\n",
      "Fitting model with C: 0.0001\n"
     ]
    },
    {
     "name": "stderr",
     "output_type": "stream",
     "text": [
      "lbfgs failed to converge (status=1):\n",
      "STOP: TOTAL NO. of ITERATIONS REACHED LIMIT.\n",
      "\n",
      "Increase the number of iterations (max_iter) or scale the data as shown in:\n",
      "    https://scikit-learn.org/stable/modules/preprocessing.html\n",
      "Please also refer to the documentation for alternative solver options:\n",
      "    https://scikit-learn.org/stable/modules/linear_model.html#logistic-regression\n",
      "lbfgs failed to converge (status=1):\n",
      "STOP: TOTAL NO. of ITERATIONS REACHED LIMIT.\n",
      "\n",
      "Increase the number of iterations (max_iter) or scale the data as shown in:\n",
      "    https://scikit-learn.org/stable/modules/preprocessing.html\n",
      "Please also refer to the documentation for alternative solver options:\n",
      "    https://scikit-learn.org/stable/modules/linear_model.html#logistic-regression\n",
      "lbfgs failed to converge (status=1):\n",
      "STOP: TOTAL NO. of ITERATIONS REACHED LIMIT.\n",
      "\n",
      "Increase the number of iterations (max_iter) or scale the data as shown in:\n",
      "    https://scikit-learn.org/stable/modules/preprocessing.html\n",
      "Please also refer to the documentation for alternative solver options:\n",
      "    https://scikit-learn.org/stable/modules/linear_model.html#logistic-regression\n",
      "lbfgs failed to converge (status=1):\n",
      "STOP: TOTAL NO. of ITERATIONS REACHED LIMIT.\n",
      "\n",
      "Increase the number of iterations (max_iter) or scale the data as shown in:\n",
      "    https://scikit-learn.org/stable/modules/preprocessing.html\n",
      "Please also refer to the documentation for alternative solver options:\n",
      "    https://scikit-learn.org/stable/modules/linear_model.html#logistic-regression\n",
      "2022-04-20 15:42:35,385 \u001b[1;37mINFO\u001b[0m cyclops.processors.base - Processing raw admin data...\n",
      "2022-04-20 15:42:35,391 \u001b[1;37mINFO\u001b[0m cyclops.processors.base - # samples: 85953, # encounters: 85953\n",
      "2022-04-20 15:42:35,400 \u001b[1;37mINFO\u001b[0m cyclops.processors.admin - # admin features: 2, # encounters: 85953\n"
     ]
    },
    {
     "name": "stdout",
     "output_type": "stream",
     "text": [
      "Fitting model with C: 1e-05\n",
      "Fitting model with C: 1e-06\n",
      "Fitting model with C: 1e-07\n",
      "Best C: 0.1\n",
      "winter | mortality_in_hospital | THPM | rf\n"
     ]
    },
    {
     "name": "stderr",
     "output_type": "stream",
     "text": [
      "2022-04-20 15:43:22,341 \u001b[1;37mINFO\u001b[0m cyclops.utils.profile - Finished executing function process in 46.955351 s\n"
     ]
    },
    {
     "name": "stdout",
     "output_type": "stream",
     "text": [
      "Fitting model with n: 5\n",
      "Fitting model with n: 10\n",
      "Fitting model with n: 50\n",
      "Fitting model with n: 100\n",
      "Fitting model with n: 500\n",
      "Best n: 500\n"
     ]
    },
    {
     "name": "stderr",
     "output_type": "stream",
     "text": [
      "2022-04-20 15:43:25,138 \u001b[1;37mINFO\u001b[0m cyclops.processors.base - Processing raw admin data...\n",
      "2022-04-20 15:43:25,144 \u001b[1;37mINFO\u001b[0m cyclops.processors.base - # samples: 85953, # encounters: 85953\n",
      "2022-04-20 15:43:25,153 \u001b[1;37mINFO\u001b[0m cyclops.processors.admin - # admin features: 2, # encounters: 85953\n"
     ]
    },
    {
     "name": "stdout",
     "output_type": "stream",
     "text": [
      "winter | mortality_in_hospital | THPM | xgb\n"
     ]
    },
    {
     "name": "stderr",
     "output_type": "stream",
     "text": [
      "2022-04-20 15:44:09,736 \u001b[1;37mINFO\u001b[0m cyclops.utils.profile - Finished executing function process in 44.597502 s\n"
     ]
    },
    {
     "name": "stdout",
     "output_type": "stream",
     "text": [
      "Best eta: 0.05\n",
      "Best g: 0.5\n",
      "Best n: 7\n",
      "winter | mortality_in_hospital | UHNTG | lr\n"
     ]
    },
    {
     "name": "stderr",
     "output_type": "stream",
     "text": [
      "2022-04-20 15:46:37,710 \u001b[1;37mINFO\u001b[0m cyclops.processors.base - Processing raw admin data...\n",
      "2022-04-20 15:46:37,718 \u001b[1;37mINFO\u001b[0m cyclops.processors.base - # samples: 85953, # encounters: 85953\n",
      "2022-04-20 15:46:37,733 \u001b[1;37mINFO\u001b[0m cyclops.processors.admin - # admin features: 2, # encounters: 85953\n",
      "2022-04-20 15:47:21,423 \u001b[1;37mINFO\u001b[0m cyclops.utils.profile - Finished executing function process in 43.712599 s\n"
     ]
    },
    {
     "name": "stdout",
     "output_type": "stream",
     "text": [
      "Fitting model with C: 0.1\n",
      "Fitting model with C: 0.01\n",
      "Fitting model with C: 0.001\n",
      "Fitting model with C: 0.0001\n",
      "Fitting model with C: 1e-05\n"
     ]
    },
    {
     "name": "stderr",
     "output_type": "stream",
     "text": [
      "lbfgs failed to converge (status=1):\n",
      "STOP: TOTAL NO. of ITERATIONS REACHED LIMIT.\n",
      "\n",
      "Increase the number of iterations (max_iter) or scale the data as shown in:\n",
      "    https://scikit-learn.org/stable/modules/preprocessing.html\n",
      "Please also refer to the documentation for alternative solver options:\n",
      "    https://scikit-learn.org/stable/modules/linear_model.html#logistic-regression\n",
      "lbfgs failed to converge (status=1):\n",
      "STOP: TOTAL NO. of ITERATIONS REACHED LIMIT.\n",
      "\n",
      "Increase the number of iterations (max_iter) or scale the data as shown in:\n",
      "    https://scikit-learn.org/stable/modules/preprocessing.html\n",
      "Please also refer to the documentation for alternative solver options:\n",
      "    https://scikit-learn.org/stable/modules/linear_model.html#logistic-regression\n",
      "lbfgs failed to converge (status=1):\n",
      "STOP: TOTAL NO. of ITERATIONS REACHED LIMIT.\n",
      "\n",
      "Increase the number of iterations (max_iter) or scale the data as shown in:\n",
      "    https://scikit-learn.org/stable/modules/preprocessing.html\n",
      "Please also refer to the documentation for alternative solver options:\n",
      "    https://scikit-learn.org/stable/modules/linear_model.html#logistic-regression\n",
      "lbfgs failed to converge (status=1):\n",
      "STOP: TOTAL NO. of ITERATIONS REACHED LIMIT.\n",
      "\n",
      "Increase the number of iterations (max_iter) or scale the data as shown in:\n",
      "    https://scikit-learn.org/stable/modules/preprocessing.html\n",
      "Please also refer to the documentation for alternative solver options:\n",
      "    https://scikit-learn.org/stable/modules/linear_model.html#logistic-regression\n",
      "2022-04-20 15:47:21,930 \u001b[1;37mINFO\u001b[0m cyclops.processors.base - Processing raw admin data...\n",
      "2022-04-20 15:47:21,935 \u001b[1;37mINFO\u001b[0m cyclops.processors.base - # samples: 85953, # encounters: 85953\n",
      "2022-04-20 15:47:21,949 \u001b[1;37mINFO\u001b[0m cyclops.processors.admin - # admin features: 2, # encounters: 85953\n"
     ]
    },
    {
     "name": "stdout",
     "output_type": "stream",
     "text": [
      "Fitting model with C: 1e-06\n",
      "Fitting model with C: 1e-07\n",
      "Best C: 0.001\n",
      "winter | mortality_in_hospital | UHNTG | rf\n"
     ]
    },
    {
     "name": "stderr",
     "output_type": "stream",
     "text": [
      "2022-04-20 15:48:06,149 \u001b[1;37mINFO\u001b[0m cyclops.utils.profile - Finished executing function process in 44.218933 s\n"
     ]
    },
    {
     "name": "stdout",
     "output_type": "stream",
     "text": [
      "Fitting model with n: 5\n",
      "Fitting model with n: 10\n",
      "Fitting model with n: 50\n",
      "Fitting model with n: 100\n",
      "Fitting model with n: 500\n",
      "Best n: 100\n"
     ]
    },
    {
     "name": "stderr",
     "output_type": "stream",
     "text": [
      "2022-04-20 15:48:08,338 \u001b[1;37mINFO\u001b[0m cyclops.processors.base - Processing raw admin data...\n",
      "2022-04-20 15:48:08,346 \u001b[1;37mINFO\u001b[0m cyclops.processors.base - # samples: 85953, # encounters: 85953\n",
      "2022-04-20 15:48:08,356 \u001b[1;37mINFO\u001b[0m cyclops.processors.admin - # admin features: 2, # encounters: 85953\n"
     ]
    },
    {
     "name": "stdout",
     "output_type": "stream",
     "text": [
      "winter | mortality_in_hospital | UHNTG | xgb\n"
     ]
    },
    {
     "name": "stderr",
     "output_type": "stream",
     "text": [
      "2022-04-20 15:48:54,618 \u001b[1;37mINFO\u001b[0m cyclops.utils.profile - Finished executing function process in 46.279992 s\n",
      "2022-04-20 15:50:58,958 \u001b[1;37mINFO\u001b[0m cyclops.processors.base - Processing raw admin data...\n",
      "2022-04-20 15:50:58,966 \u001b[1;37mINFO\u001b[0m cyclops.processors.base - # samples: 85953, # encounters: 85953\n",
      "2022-04-20 15:50:58,977 \u001b[1;37mINFO\u001b[0m cyclops.processors.admin - # admin features: 2, # encounters: 85953\n"
     ]
    },
    {
     "name": "stdout",
     "output_type": "stream",
     "text": [
      "Best eta: 0.2\n",
      "Best g: 5\n",
      "Best n: 11\n",
      "winter | mortality_in_hospital | UHNTW | lr\n"
     ]
    },
    {
     "name": "stderr",
     "output_type": "stream",
     "text": [
      "2022-04-20 15:51:42,803 \u001b[1;37mINFO\u001b[0m cyclops.utils.profile - Finished executing function process in 43.844762 s\n",
      "lbfgs failed to converge (status=1):\n",
      "STOP: TOTAL NO. of ITERATIONS REACHED LIMIT.\n",
      "\n",
      "Increase the number of iterations (max_iter) or scale the data as shown in:\n",
      "    https://scikit-learn.org/stable/modules/preprocessing.html\n",
      "Please also refer to the documentation for alternative solver options:\n",
      "    https://scikit-learn.org/stable/modules/linear_model.html#logistic-regression\n",
      "lbfgs failed to converge (status=1):\n",
      "STOP: TOTAL NO. of ITERATIONS REACHED LIMIT.\n",
      "\n",
      "Increase the number of iterations (max_iter) or scale the data as shown in:\n",
      "    https://scikit-learn.org/stable/modules/preprocessing.html\n",
      "Please also refer to the documentation for alternative solver options:\n",
      "    https://scikit-learn.org/stable/modules/linear_model.html#logistic-regression\n"
     ]
    },
    {
     "name": "stdout",
     "output_type": "stream",
     "text": [
      "Fitting model with C: 0.1\n",
      "Fitting model with C: 0.01\n",
      "Fitting model with C: 0.001\n",
      "Fitting model with C: 0.0001\n",
      "Fitting model with C: 1e-05\n"
     ]
    },
    {
     "name": "stderr",
     "output_type": "stream",
     "text": [
      "lbfgs failed to converge (status=1):\n",
      "STOP: TOTAL NO. of ITERATIONS REACHED LIMIT.\n",
      "\n",
      "Increase the number of iterations (max_iter) or scale the data as shown in:\n",
      "    https://scikit-learn.org/stable/modules/preprocessing.html\n",
      "Please also refer to the documentation for alternative solver options:\n",
      "    https://scikit-learn.org/stable/modules/linear_model.html#logistic-regression\n",
      "lbfgs failed to converge (status=1):\n",
      "STOP: TOTAL NO. of ITERATIONS REACHED LIMIT.\n",
      "\n",
      "Increase the number of iterations (max_iter) or scale the data as shown in:\n",
      "    https://scikit-learn.org/stable/modules/preprocessing.html\n",
      "Please also refer to the documentation for alternative solver options:\n",
      "    https://scikit-learn.org/stable/modules/linear_model.html#logistic-regression\n",
      "2022-04-20 15:51:43,197 \u001b[1;37mINFO\u001b[0m cyclops.processors.base - Processing raw admin data...\n",
      "2022-04-20 15:51:43,203 \u001b[1;37mINFO\u001b[0m cyclops.processors.base - # samples: 85953, # encounters: 85953\n",
      "2022-04-20 15:51:43,213 \u001b[1;37mINFO\u001b[0m cyclops.processors.admin - # admin features: 2, # encounters: 85953\n"
     ]
    },
    {
     "name": "stdout",
     "output_type": "stream",
     "text": [
      "Fitting model with C: 1e-06\n",
      "Fitting model with C: 1e-07\n",
      "Best C: 0.01\n",
      "winter | mortality_in_hospital | UHNTW | rf\n"
     ]
    },
    {
     "name": "stderr",
     "output_type": "stream",
     "text": [
      "2022-04-20 15:52:27,479 \u001b[1;37mINFO\u001b[0m cyclops.utils.profile - Finished executing function process in 44.281570 s\n"
     ]
    },
    {
     "name": "stdout",
     "output_type": "stream",
     "text": [
      "Fitting model with n: 5\n",
      "Fitting model with n: 10\n",
      "Fitting model with n: 50\n",
      "Fitting model with n: 100\n",
      "Fitting model with n: 500\n",
      "Best n: 500\n"
     ]
    },
    {
     "name": "stderr",
     "output_type": "stream",
     "text": [
      "2022-04-20 15:52:29,773 \u001b[1;37mINFO\u001b[0m cyclops.processors.base - Processing raw admin data...\n",
      "2022-04-20 15:52:29,780 \u001b[1;37mINFO\u001b[0m cyclops.processors.base - # samples: 85953, # encounters: 85953\n",
      "2022-04-20 15:52:29,789 \u001b[1;37mINFO\u001b[0m cyclops.processors.admin - # admin features: 2, # encounters: 85953\n"
     ]
    },
    {
     "name": "stdout",
     "output_type": "stream",
     "text": [
      "winter | mortality_in_hospital | UHNTW | xgb\n"
     ]
    },
    {
     "name": "stderr",
     "output_type": "stream",
     "text": [
      "2022-04-20 15:53:14,058 \u001b[1;37mINFO\u001b[0m cyclops.utils.profile - Finished executing function process in 44.284869 s\n",
      "2022-04-20 15:55:11,826 \u001b[1;37mINFO\u001b[0m cyclops.processors.base - Processing raw admin data...\n",
      "2022-04-20 15:55:11,836 \u001b[1;37mINFO\u001b[0m cyclops.processors.base - # samples: 85953, # encounters: 85953\n",
      "2022-04-20 15:55:11,846 \u001b[1;37mINFO\u001b[0m cyclops.processors.admin - # admin features: 2, # encounters: 85953\n"
     ]
    },
    {
     "name": "stdout",
     "output_type": "stream",
     "text": [
      "Best eta: 0.05\n",
      "Best g: 5\n",
      "Best n: 3\n",
      "seasonal | length_of_stay_in_er | SMH | lr\n"
     ]
    },
    {
     "name": "stderr",
     "output_type": "stream",
     "text": [
      "2022-04-20 15:55:55,760 \u001b[1;37mINFO\u001b[0m cyclops.utils.profile - Finished executing function process in 43.934282 s\n",
      "lbfgs failed to converge (status=1):\n",
      "STOP: TOTAL NO. of ITERATIONS REACHED LIMIT.\n",
      "\n",
      "Increase the number of iterations (max_iter) or scale the data as shown in:\n",
      "    https://scikit-learn.org/stable/modules/preprocessing.html\n",
      "Please also refer to the documentation for alternative solver options:\n",
      "    https://scikit-learn.org/stable/modules/linear_model.html#logistic-regression\n"
     ]
    },
    {
     "name": "stdout",
     "output_type": "stream",
     "text": [
      "Fitting model with C: 0.1\n",
      "Fitting model with C: 0.01\n",
      "Fitting model with C: 0.001\n",
      "Fitting model with C: 0.0001\n"
     ]
    },
    {
     "name": "stderr",
     "output_type": "stream",
     "text": [
      "lbfgs failed to converge (status=1):\n",
      "STOP: TOTAL NO. of ITERATIONS REACHED LIMIT.\n",
      "\n",
      "Increase the number of iterations (max_iter) or scale the data as shown in:\n",
      "    https://scikit-learn.org/stable/modules/preprocessing.html\n",
      "Please also refer to the documentation for alternative solver options:\n",
      "    https://scikit-learn.org/stable/modules/linear_model.html#logistic-regression\n",
      "lbfgs failed to converge (status=1):\n",
      "STOP: TOTAL NO. of ITERATIONS REACHED LIMIT.\n",
      "\n",
      "Increase the number of iterations (max_iter) or scale the data as shown in:\n",
      "    https://scikit-learn.org/stable/modules/preprocessing.html\n",
      "Please also refer to the documentation for alternative solver options:\n",
      "    https://scikit-learn.org/stable/modules/linear_model.html#logistic-regression\n",
      "lbfgs failed to converge (status=1):\n",
      "STOP: TOTAL NO. of ITERATIONS REACHED LIMIT.\n",
      "\n",
      "Increase the number of iterations (max_iter) or scale the data as shown in:\n",
      "    https://scikit-learn.org/stable/modules/preprocessing.html\n",
      "Please also refer to the documentation for alternative solver options:\n",
      "    https://scikit-learn.org/stable/modules/linear_model.html#logistic-regression\n",
      "2022-04-20 15:55:56,282 \u001b[1;37mINFO\u001b[0m cyclops.processors.base - Processing raw admin data...\n",
      "2022-04-20 15:55:56,288 \u001b[1;37mINFO\u001b[0m cyclops.processors.base - # samples: 85953, # encounters: 85953\n",
      "2022-04-20 15:55:56,298 \u001b[1;37mINFO\u001b[0m cyclops.processors.admin - # admin features: 2, # encounters: 85953\n"
     ]
    },
    {
     "name": "stdout",
     "output_type": "stream",
     "text": [
      "Fitting model with C: 1e-05\n",
      "Fitting model with C: 1e-06\n",
      "Fitting model with C: 1e-07\n",
      "Best C: 0.1\n",
      "seasonal | length_of_stay_in_er | SMH | rf\n"
     ]
    },
    {
     "name": "stderr",
     "output_type": "stream",
     "text": [
      "2022-04-20 15:56:42,618 \u001b[1;37mINFO\u001b[0m cyclops.utils.profile - Finished executing function process in 46.336131 s\n"
     ]
    },
    {
     "name": "stdout",
     "output_type": "stream",
     "text": [
      "Fitting model with n: 5\n",
      "Fitting model with n: 10\n",
      "Fitting model with n: 50\n",
      "Fitting model with n: 100\n",
      "Fitting model with n: 500\n",
      "Best n: 500\n"
     ]
    },
    {
     "name": "stderr",
     "output_type": "stream",
     "text": [
      "2022-04-20 15:56:45,933 \u001b[1;37mINFO\u001b[0m cyclops.processors.base - Processing raw admin data...\n",
      "2022-04-20 15:56:45,940 \u001b[1;37mINFO\u001b[0m cyclops.processors.base - # samples: 85953, # encounters: 85953\n",
      "2022-04-20 15:56:45,954 \u001b[1;37mINFO\u001b[0m cyclops.processors.admin - # admin features: 2, # encounters: 85953\n"
     ]
    },
    {
     "name": "stdout",
     "output_type": "stream",
     "text": [
      "seasonal | length_of_stay_in_er | SMH | xgb\n"
     ]
    },
    {
     "name": "stderr",
     "output_type": "stream",
     "text": [
      "2022-04-20 15:57:32,607 \u001b[1;37mINFO\u001b[0m cyclops.utils.profile - Finished executing function process in 46.673664 s\n"
     ]
    },
    {
     "name": "stdout",
     "output_type": "stream",
     "text": [
      "Best eta: 0.3\n",
      "Best g: 5\n",
      "Best n: 5\n",
      "seasonal | length_of_stay_in_er | MSH | lr\n"
     ]
    },
    {
     "name": "stderr",
     "output_type": "stream",
     "text": [
      "2022-04-20 16:00:24,909 \u001b[1;37mINFO\u001b[0m cyclops.processors.base - Processing raw admin data...\n",
      "2022-04-20 16:00:24,917 \u001b[1;37mINFO\u001b[0m cyclops.processors.base - # samples: 85953, # encounters: 85953\n",
      "2022-04-20 16:00:24,930 \u001b[1;37mINFO\u001b[0m cyclops.processors.admin - # admin features: 2, # encounters: 85953\n",
      "2022-04-20 16:01:11,255 \u001b[1;37mINFO\u001b[0m cyclops.utils.profile - Finished executing function process in 46.346168 s\n"
     ]
    },
    {
     "name": "stdout",
     "output_type": "stream",
     "text": [
      "Fitting model with C: 0.1\n",
      "Fitting model with C: 0.01\n",
      "Fitting model with C: 0.001\n",
      "Fitting model with C: 0.0001\n"
     ]
    },
    {
     "name": "stderr",
     "output_type": "stream",
     "text": [
      "lbfgs failed to converge (status=1):\n",
      "STOP: TOTAL NO. of ITERATIONS REACHED LIMIT.\n",
      "\n",
      "Increase the number of iterations (max_iter) or scale the data as shown in:\n",
      "    https://scikit-learn.org/stable/modules/preprocessing.html\n",
      "Please also refer to the documentation for alternative solver options:\n",
      "    https://scikit-learn.org/stable/modules/linear_model.html#logistic-regression\n",
      "lbfgs failed to converge (status=1):\n",
      "STOP: TOTAL NO. of ITERATIONS REACHED LIMIT.\n",
      "\n",
      "Increase the number of iterations (max_iter) or scale the data as shown in:\n",
      "    https://scikit-learn.org/stable/modules/preprocessing.html\n",
      "Please also refer to the documentation for alternative solver options:\n",
      "    https://scikit-learn.org/stable/modules/linear_model.html#logistic-regression\n",
      "lbfgs failed to converge (status=1):\n",
      "STOP: TOTAL NO. of ITERATIONS REACHED LIMIT.\n",
      "\n",
      "Increase the number of iterations (max_iter) or scale the data as shown in:\n",
      "    https://scikit-learn.org/stable/modules/preprocessing.html\n",
      "Please also refer to the documentation for alternative solver options:\n",
      "    https://scikit-learn.org/stable/modules/linear_model.html#logistic-regression\n",
      "lbfgs failed to converge (status=1):\n",
      "STOP: TOTAL NO. of ITERATIONS REACHED LIMIT.\n",
      "\n",
      "Increase the number of iterations (max_iter) or scale the data as shown in:\n",
      "    https://scikit-learn.org/stable/modules/preprocessing.html\n",
      "Please also refer to the documentation for alternative solver options:\n",
      "    https://scikit-learn.org/stable/modules/linear_model.html#logistic-regression\n",
      "2022-04-20 16:01:11,794 \u001b[1;37mINFO\u001b[0m cyclops.processors.base - Processing raw admin data...\n",
      "2022-04-20 16:01:11,800 \u001b[1;37mINFO\u001b[0m cyclops.processors.base - # samples: 85953, # encounters: 85953\n",
      "2022-04-20 16:01:11,813 \u001b[1;37mINFO\u001b[0m cyclops.processors.admin - # admin features: 2, # encounters: 85953\n"
     ]
    },
    {
     "name": "stdout",
     "output_type": "stream",
     "text": [
      "Fitting model with C: 1e-05\n",
      "Fitting model with C: 1e-06\n",
      "Fitting model with C: 1e-07\n",
      "Best C: 0.0001\n",
      "seasonal | length_of_stay_in_er | MSH | rf\n"
     ]
    },
    {
     "name": "stderr",
     "output_type": "stream",
     "text": [
      "2022-04-20 16:01:55,932 \u001b[1;37mINFO\u001b[0m cyclops.utils.profile - Finished executing function process in 44.138156 s\n"
     ]
    },
    {
     "name": "stdout",
     "output_type": "stream",
     "text": [
      "Fitting model with n: 5\n",
      "Fitting model with n: 10\n",
      "Fitting model with n: 50\n",
      "Fitting model with n: 100\n",
      "Fitting model with n: 500\n",
      "Best n: 500\n"
     ]
    },
    {
     "name": "stderr",
     "output_type": "stream",
     "text": [
      "2022-04-20 16:01:58,909 \u001b[1;37mINFO\u001b[0m cyclops.processors.base - Processing raw admin data...\n",
      "2022-04-20 16:01:58,916 \u001b[1;37mINFO\u001b[0m cyclops.processors.base - # samples: 85953, # encounters: 85953\n",
      "2022-04-20 16:01:58,926 \u001b[1;37mINFO\u001b[0m cyclops.processors.admin - # admin features: 2, # encounters: 85953\n"
     ]
    },
    {
     "name": "stdout",
     "output_type": "stream",
     "text": [
      "seasonal | length_of_stay_in_er | MSH | xgb\n"
     ]
    },
    {
     "name": "stderr",
     "output_type": "stream",
     "text": [
      "2022-04-20 16:02:45,857 \u001b[1;37mINFO\u001b[0m cyclops.utils.profile - Finished executing function process in 46.947236 s\n",
      "2022-04-20 16:05:30,410 \u001b[1;37mINFO\u001b[0m cyclops.processors.base - Processing raw admin data...\n",
      "2022-04-20 16:05:30,420 \u001b[1;37mINFO\u001b[0m cyclops.processors.base - # samples: 85953, # encounters: 85953\n",
      "2022-04-20 16:05:30,433 \u001b[1;37mINFO\u001b[0m cyclops.processors.admin - # admin features: 2, # encounters: 85953\n"
     ]
    },
    {
     "name": "stdout",
     "output_type": "stream",
     "text": [
      "Best eta: 0.05\n",
      "Best g: 0.5\n",
      "Best n: 7\n",
      "seasonal | length_of_stay_in_er | THPC | lr\n"
     ]
    },
    {
     "name": "stderr",
     "output_type": "stream",
     "text": [
      "2022-04-20 16:06:16,865 \u001b[1;37mINFO\u001b[0m cyclops.utils.profile - Finished executing function process in 46.455363 s\n"
     ]
    },
    {
     "name": "stdout",
     "output_type": "stream",
     "text": [
      "Fitting model with C: 0.1\n",
      "Fitting model with C: 0.01\n",
      "Fitting model with C: 0.001\n"
     ]
    },
    {
     "name": "stderr",
     "output_type": "stream",
     "text": [
      "lbfgs failed to converge (status=1):\n",
      "STOP: TOTAL NO. of ITERATIONS REACHED LIMIT.\n",
      "\n",
      "Increase the number of iterations (max_iter) or scale the data as shown in:\n",
      "    https://scikit-learn.org/stable/modules/preprocessing.html\n",
      "Please also refer to the documentation for alternative solver options:\n",
      "    https://scikit-learn.org/stable/modules/linear_model.html#logistic-regression\n",
      "lbfgs failed to converge (status=1):\n",
      "STOP: TOTAL NO. of ITERATIONS REACHED LIMIT.\n",
      "\n",
      "Increase the number of iterations (max_iter) or scale the data as shown in:\n",
      "    https://scikit-learn.org/stable/modules/preprocessing.html\n",
      "Please also refer to the documentation for alternative solver options:\n",
      "    https://scikit-learn.org/stable/modules/linear_model.html#logistic-regression\n",
      "lbfgs failed to converge (status=1):\n",
      "STOP: TOTAL NO. of ITERATIONS REACHED LIMIT.\n",
      "\n",
      "Increase the number of iterations (max_iter) or scale the data as shown in:\n",
      "    https://scikit-learn.org/stable/modules/preprocessing.html\n",
      "Please also refer to the documentation for alternative solver options:\n",
      "    https://scikit-learn.org/stable/modules/linear_model.html#logistic-regression\n"
     ]
    },
    {
     "name": "stdout",
     "output_type": "stream",
     "text": [
      "Fitting model with C: 0.0001\n",
      "Fitting model with C: 1e-05\n",
      "Fitting model with C: 1e-06\n",
      "Fitting model with C: 1e-07\n",
      "Best C: 0.0001\n",
      "seasonal | length_of_stay_in_er | THPC | rf\n"
     ]
    },
    {
     "name": "stderr",
     "output_type": "stream",
     "text": [
      "lbfgs failed to converge (status=1):\n",
      "STOP: TOTAL NO. of ITERATIONS REACHED LIMIT.\n",
      "\n",
      "Increase the number of iterations (max_iter) or scale the data as shown in:\n",
      "    https://scikit-learn.org/stable/modules/preprocessing.html\n",
      "Please also refer to the documentation for alternative solver options:\n",
      "    https://scikit-learn.org/stable/modules/linear_model.html#logistic-regression\n",
      "2022-04-20 16:06:17,537 \u001b[1;37mINFO\u001b[0m cyclops.processors.base - Processing raw admin data...\n",
      "2022-04-20 16:06:17,543 \u001b[1;37mINFO\u001b[0m cyclops.processors.base - # samples: 85953, # encounters: 85953\n",
      "2022-04-20 16:06:17,553 \u001b[1;37mINFO\u001b[0m cyclops.processors.admin - # admin features: 2, # encounters: 85953\n",
      "2022-04-20 16:07:03,815 \u001b[1;37mINFO\u001b[0m cyclops.utils.profile - Finished executing function process in 46.278206 s\n"
     ]
    },
    {
     "name": "stdout",
     "output_type": "stream",
     "text": [
      "Fitting model with n: 5\n",
      "Fitting model with n: 10\n",
      "Fitting model with n: 50\n",
      "Fitting model with n: 100\n",
      "Fitting model with n: 500\n",
      "Best n: 50\n",
      "seasonal | length_of_stay_in_er | THPC | xgb\n"
     ]
    },
    {
     "name": "stderr",
     "output_type": "stream",
     "text": [
      "2022-04-20 16:07:06,982 \u001b[1;37mINFO\u001b[0m cyclops.processors.base - Processing raw admin data...\n",
      "2022-04-20 16:07:06,988 \u001b[1;37mINFO\u001b[0m cyclops.processors.base - # samples: 85953, # encounters: 85953\n",
      "2022-04-20 16:07:06,996 \u001b[1;37mINFO\u001b[0m cyclops.processors.admin - # admin features: 2, # encounters: 85953\n",
      "2022-04-20 16:07:50,610 \u001b[1;37mINFO\u001b[0m cyclops.utils.profile - Finished executing function process in 43.627868 s\n"
     ]
    },
    {
     "name": "stdout",
     "output_type": "stream",
     "text": [
      "Best eta: 0.05\n",
      "Best g: 2\n",
      "Best n: 11\n",
      "seasonal | length_of_stay_in_er | THPM | lr\n"
     ]
    },
    {
     "name": "stderr",
     "output_type": "stream",
     "text": [
      "2022-04-20 16:11:18,029 \u001b[1;37mINFO\u001b[0m cyclops.processors.base - Processing raw admin data...\n",
      "2022-04-20 16:11:18,036 \u001b[1;37mINFO\u001b[0m cyclops.processors.base - # samples: 85953, # encounters: 85953\n",
      "2022-04-20 16:11:18,047 \u001b[1;37mINFO\u001b[0m cyclops.processors.admin - # admin features: 2, # encounters: 85953\n",
      "2022-04-20 16:12:02,336 \u001b[1;37mINFO\u001b[0m cyclops.utils.profile - Finished executing function process in 44.306752 s\n"
     ]
    },
    {
     "name": "stdout",
     "output_type": "stream",
     "text": [
      "Fitting model with C: 0.1\n",
      "Fitting model with C: 0.01\n",
      "Fitting model with C: 0.001\n"
     ]
    },
    {
     "name": "stderr",
     "output_type": "stream",
     "text": [
      "lbfgs failed to converge (status=1):\n",
      "STOP: TOTAL NO. of ITERATIONS REACHED LIMIT.\n",
      "\n",
      "Increase the number of iterations (max_iter) or scale the data as shown in:\n",
      "    https://scikit-learn.org/stable/modules/preprocessing.html\n",
      "Please also refer to the documentation for alternative solver options:\n",
      "    https://scikit-learn.org/stable/modules/linear_model.html#logistic-regression\n",
      "lbfgs failed to converge (status=1):\n",
      "STOP: TOTAL NO. of ITERATIONS REACHED LIMIT.\n",
      "\n",
      "Increase the number of iterations (max_iter) or scale the data as shown in:\n",
      "    https://scikit-learn.org/stable/modules/preprocessing.html\n",
      "Please also refer to the documentation for alternative solver options:\n",
      "    https://scikit-learn.org/stable/modules/linear_model.html#logistic-regression\n",
      "lbfgs failed to converge (status=1):\n",
      "STOP: TOTAL NO. of ITERATIONS REACHED LIMIT.\n",
      "\n",
      "Increase the number of iterations (max_iter) or scale the data as shown in:\n",
      "    https://scikit-learn.org/stable/modules/preprocessing.html\n",
      "Please also refer to the documentation for alternative solver options:\n",
      "    https://scikit-learn.org/stable/modules/linear_model.html#logistic-regression\n"
     ]
    },
    {
     "name": "stdout",
     "output_type": "stream",
     "text": [
      "Fitting model with C: 0.0001\n",
      "Fitting model with C: 1e-05\n",
      "Fitting model with C: 1e-06\n",
      "Fitting model with C: 1e-07\n",
      "Best C: 0.1\n"
     ]
    },
    {
     "name": "stderr",
     "output_type": "stream",
     "text": [
      "lbfgs failed to converge (status=1):\n",
      "STOP: TOTAL NO. of ITERATIONS REACHED LIMIT.\n",
      "\n",
      "Increase the number of iterations (max_iter) or scale the data as shown in:\n",
      "    https://scikit-learn.org/stable/modules/preprocessing.html\n",
      "Please also refer to the documentation for alternative solver options:\n",
      "    https://scikit-learn.org/stable/modules/linear_model.html#logistic-regression\n",
      "2022-04-20 16:12:03,101 \u001b[1;37mINFO\u001b[0m cyclops.processors.base - Processing raw admin data...\n",
      "2022-04-20 16:12:03,106 \u001b[1;37mINFO\u001b[0m cyclops.processors.base - # samples: 85953, # encounters: 85953\n",
      "2022-04-20 16:12:03,116 \u001b[1;37mINFO\u001b[0m cyclops.processors.admin - # admin features: 2, # encounters: 85953\n"
     ]
    },
    {
     "name": "stdout",
     "output_type": "stream",
     "text": [
      "seasonal | length_of_stay_in_er | THPM | rf\n"
     ]
    },
    {
     "name": "stderr",
     "output_type": "stream",
     "text": [
      "2022-04-20 16:12:47,608 \u001b[1;37mINFO\u001b[0m cyclops.utils.profile - Finished executing function process in 44.507795 s\n"
     ]
    },
    {
     "name": "stdout",
     "output_type": "stream",
     "text": [
      "Fitting model with n: 5\n",
      "Fitting model with n: 10\n",
      "Fitting model with n: 50\n",
      "Fitting model with n: 100\n",
      "Fitting model with n: 500\n",
      "Best n: 100\n"
     ]
    },
    {
     "name": "stderr",
     "output_type": "stream",
     "text": [
      "2022-04-20 16:12:52,142 \u001b[1;37mINFO\u001b[0m cyclops.processors.base - Processing raw admin data...\n",
      "2022-04-20 16:12:52,148 \u001b[1;37mINFO\u001b[0m cyclops.processors.base - # samples: 85953, # encounters: 85953\n",
      "2022-04-20 16:12:52,158 \u001b[1;37mINFO\u001b[0m cyclops.processors.admin - # admin features: 2, # encounters: 85953\n"
     ]
    },
    {
     "name": "stdout",
     "output_type": "stream",
     "text": [
      "seasonal | length_of_stay_in_er | THPM | xgb\n"
     ]
    },
    {
     "name": "stderr",
     "output_type": "stream",
     "text": [
      "2022-04-20 16:13:36,208 \u001b[1;37mINFO\u001b[0m cyclops.utils.profile - Finished executing function process in 44.064861 s\n"
     ]
    },
    {
     "name": "stdout",
     "output_type": "stream",
     "text": [
      "Best eta: 0.1\n",
      "Best g: 5\n",
      "Best n: 3\n",
      "seasonal | length_of_stay_in_er | UHNTG | lr\n"
     ]
    },
    {
     "name": "stderr",
     "output_type": "stream",
     "text": [
      "2022-04-20 16:17:28,348 \u001b[1;37mINFO\u001b[0m cyclops.processors.base - Processing raw admin data...\n",
      "2022-04-20 16:17:28,357 \u001b[1;37mINFO\u001b[0m cyclops.processors.base - # samples: 85953, # encounters: 85953\n",
      "2022-04-20 16:17:28,368 \u001b[1;37mINFO\u001b[0m cyclops.processors.admin - # admin features: 2, # encounters: 85953\n",
      "2022-04-20 16:18:14,877 \u001b[1;37mINFO\u001b[0m cyclops.utils.profile - Finished executing function process in 46.528901 s\n"
     ]
    },
    {
     "name": "stdout",
     "output_type": "stream",
     "text": [
      "Fitting model with C: 0.1\n",
      "Fitting model with C: 0.01\n",
      "Fitting model with C: 0.001\n",
      "Fitting model with C: 0.0001\n"
     ]
    },
    {
     "name": "stderr",
     "output_type": "stream",
     "text": [
      "lbfgs failed to converge (status=1):\n",
      "STOP: TOTAL NO. of ITERATIONS REACHED LIMIT.\n",
      "\n",
      "Increase the number of iterations (max_iter) or scale the data as shown in:\n",
      "    https://scikit-learn.org/stable/modules/preprocessing.html\n",
      "Please also refer to the documentation for alternative solver options:\n",
      "    https://scikit-learn.org/stable/modules/linear_model.html#logistic-regression\n",
      "lbfgs failed to converge (status=1):\n",
      "STOP: TOTAL NO. of ITERATIONS REACHED LIMIT.\n",
      "\n",
      "Increase the number of iterations (max_iter) or scale the data as shown in:\n",
      "    https://scikit-learn.org/stable/modules/preprocessing.html\n",
      "Please also refer to the documentation for alternative solver options:\n",
      "    https://scikit-learn.org/stable/modules/linear_model.html#logistic-regression\n",
      "lbfgs failed to converge (status=1):\n",
      "STOP: TOTAL NO. of ITERATIONS REACHED LIMIT.\n",
      "\n",
      "Increase the number of iterations (max_iter) or scale the data as shown in:\n",
      "    https://scikit-learn.org/stable/modules/preprocessing.html\n",
      "Please also refer to the documentation for alternative solver options:\n",
      "    https://scikit-learn.org/stable/modules/linear_model.html#logistic-regression\n",
      "lbfgs failed to converge (status=1):\n",
      "STOP: TOTAL NO. of ITERATIONS REACHED LIMIT.\n",
      "\n",
      "Increase the number of iterations (max_iter) or scale the data as shown in:\n",
      "    https://scikit-learn.org/stable/modules/preprocessing.html\n",
      "Please also refer to the documentation for alternative solver options:\n",
      "    https://scikit-learn.org/stable/modules/linear_model.html#logistic-regression\n",
      "2022-04-20 16:18:15,449 \u001b[1;37mINFO\u001b[0m cyclops.processors.base - Processing raw admin data...\n",
      "2022-04-20 16:18:15,456 \u001b[1;37mINFO\u001b[0m cyclops.processors.base - # samples: 85953, # encounters: 85953\n",
      "2022-04-20 16:18:15,465 \u001b[1;37mINFO\u001b[0m cyclops.processors.admin - # admin features: 2, # encounters: 85953\n"
     ]
    },
    {
     "name": "stdout",
     "output_type": "stream",
     "text": [
      "Fitting model with C: 1e-05\n",
      "Fitting model with C: 1e-06\n",
      "Fitting model with C: 1e-07\n",
      "Best C: 0.1\n",
      "seasonal | length_of_stay_in_er | UHNTG | rf\n"
     ]
    },
    {
     "name": "stderr",
     "output_type": "stream",
     "text": [
      "2022-04-20 16:19:01,801 \u001b[1;37mINFO\u001b[0m cyclops.utils.profile - Finished executing function process in 46.351412 s\n"
     ]
    },
    {
     "name": "stdout",
     "output_type": "stream",
     "text": [
      "Fitting model with n: 5\n",
      "Fitting model with n: 10\n",
      "Fitting model with n: 50\n",
      "Fitting model with n: 100\n",
      "Fitting model with n: 500\n",
      "Best n: 100\n"
     ]
    },
    {
     "name": "stderr",
     "output_type": "stream",
     "text": [
      "2022-04-20 16:19:05,394 \u001b[1;37mINFO\u001b[0m cyclops.processors.base - Processing raw admin data...\n",
      "2022-04-20 16:19:05,400 \u001b[1;37mINFO\u001b[0m cyclops.processors.base - # samples: 85953, # encounters: 85953\n",
      "2022-04-20 16:19:05,409 \u001b[1;37mINFO\u001b[0m cyclops.processors.admin - # admin features: 2, # encounters: 85953\n"
     ]
    },
    {
     "name": "stdout",
     "output_type": "stream",
     "text": [
      "seasonal | length_of_stay_in_er | UHNTG | xgb\n"
     ]
    },
    {
     "name": "stderr",
     "output_type": "stream",
     "text": [
      "2022-04-20 16:19:49,628 \u001b[1;37mINFO\u001b[0m cyclops.utils.profile - Finished executing function process in 44.233955 s\n",
      "2022-04-20 16:22:56,193 \u001b[1;37mINFO\u001b[0m cyclops.processors.base - Processing raw admin data...\n",
      "2022-04-20 16:22:56,204 \u001b[1;37mINFO\u001b[0m cyclops.processors.base - # samples: 85953, # encounters: 85953\n",
      "2022-04-20 16:22:56,215 \u001b[1;37mINFO\u001b[0m cyclops.processors.admin - # admin features: 2, # encounters: 85953\n"
     ]
    },
    {
     "name": "stdout",
     "output_type": "stream",
     "text": [
      "Best eta: 0.2\n",
      "Best g: 0.5\n",
      "Best n: 9\n",
      "seasonal | length_of_stay_in_er | UHNTW | lr\n"
     ]
    },
    {
     "name": "stderr",
     "output_type": "stream",
     "text": [
      "2022-04-20 16:23:40,084 \u001b[1;37mINFO\u001b[0m cyclops.utils.profile - Finished executing function process in 43.890631 s\n",
      "lbfgs failed to converge (status=1):\n",
      "STOP: TOTAL NO. of ITERATIONS REACHED LIMIT.\n",
      "\n",
      "Increase the number of iterations (max_iter) or scale the data as shown in:\n",
      "    https://scikit-learn.org/stable/modules/preprocessing.html\n",
      "Please also refer to the documentation for alternative solver options:\n",
      "    https://scikit-learn.org/stable/modules/linear_model.html#logistic-regression\n"
     ]
    },
    {
     "name": "stdout",
     "output_type": "stream",
     "text": [
      "Fitting model with C: 0.1\n",
      "Fitting model with C: 0.01\n",
      "Fitting model with C: 0.001\n",
      "Fitting model with C: 0.0001\n"
     ]
    },
    {
     "name": "stderr",
     "output_type": "stream",
     "text": [
      "lbfgs failed to converge (status=1):\n",
      "STOP: TOTAL NO. of ITERATIONS REACHED LIMIT.\n",
      "\n",
      "Increase the number of iterations (max_iter) or scale the data as shown in:\n",
      "    https://scikit-learn.org/stable/modules/preprocessing.html\n",
      "Please also refer to the documentation for alternative solver options:\n",
      "    https://scikit-learn.org/stable/modules/linear_model.html#logistic-regression\n",
      "lbfgs failed to converge (status=1):\n",
      "STOP: TOTAL NO. of ITERATIONS REACHED LIMIT.\n",
      "\n",
      "Increase the number of iterations (max_iter) or scale the data as shown in:\n",
      "    https://scikit-learn.org/stable/modules/preprocessing.html\n",
      "Please also refer to the documentation for alternative solver options:\n",
      "    https://scikit-learn.org/stable/modules/linear_model.html#logistic-regression\n",
      "lbfgs failed to converge (status=1):\n",
      "STOP: TOTAL NO. of ITERATIONS REACHED LIMIT.\n",
      "\n",
      "Increase the number of iterations (max_iter) or scale the data as shown in:\n",
      "    https://scikit-learn.org/stable/modules/preprocessing.html\n",
      "Please also refer to the documentation for alternative solver options:\n",
      "    https://scikit-learn.org/stable/modules/linear_model.html#logistic-regression\n",
      "2022-04-20 16:23:40,620 \u001b[1;37mINFO\u001b[0m cyclops.processors.base - Processing raw admin data...\n",
      "2022-04-20 16:23:40,626 \u001b[1;37mINFO\u001b[0m cyclops.processors.base - # samples: 85953, # encounters: 85953\n",
      "2022-04-20 16:23:40,635 \u001b[1;37mINFO\u001b[0m cyclops.processors.admin - # admin features: 2, # encounters: 85953\n"
     ]
    },
    {
     "name": "stdout",
     "output_type": "stream",
     "text": [
      "Fitting model with C: 1e-05\n",
      "Fitting model with C: 1e-06\n",
      "Fitting model with C: 1e-07\n",
      "Best C: 0.1\n",
      "seasonal | length_of_stay_in_er | UHNTW | rf\n"
     ]
    },
    {
     "name": "stderr",
     "output_type": "stream",
     "text": [
      "2022-04-20 16:24:24,357 \u001b[1;37mINFO\u001b[0m cyclops.utils.profile - Finished executing function process in 43.735519 s\n"
     ]
    },
    {
     "name": "stdout",
     "output_type": "stream",
     "text": [
      "Fitting model with n: 5\n",
      "Fitting model with n: 10\n",
      "Fitting model with n: 50\n",
      "Fitting model with n: 100\n",
      "Fitting model with n: 500\n",
      "Best n: 500\n"
     ]
    },
    {
     "name": "stderr",
     "output_type": "stream",
     "text": [
      "2022-04-20 16:24:27,848 \u001b[1;37mINFO\u001b[0m cyclops.processors.base - Processing raw admin data...\n",
      "2022-04-20 16:24:27,854 \u001b[1;37mINFO\u001b[0m cyclops.processors.base - # samples: 85953, # encounters: 85953\n",
      "2022-04-20 16:24:27,870 \u001b[1;37mINFO\u001b[0m cyclops.processors.admin - # admin features: 2, # encounters: 85953\n"
     ]
    },
    {
     "name": "stdout",
     "output_type": "stream",
     "text": [
      "seasonal | length_of_stay_in_er | UHNTW | xgb\n"
     ]
    },
    {
     "name": "stderr",
     "output_type": "stream",
     "text": [
      "2022-04-20 16:25:14,726 \u001b[1;37mINFO\u001b[0m cyclops.utils.profile - Finished executing function process in 46.878206 s\n"
     ]
    },
    {
     "name": "stdout",
     "output_type": "stream",
     "text": [
      "Best eta: 0.005\n",
      "Best g: 0.5\n",
      "Best n: 11\n",
      "seasonal | mortality_in_hospital | SMH | lr\n"
     ]
    },
    {
     "name": "stderr",
     "output_type": "stream",
     "text": [
      "2022-04-20 16:28:09,591 \u001b[1;37mINFO\u001b[0m cyclops.processors.base - Processing raw admin data...\n",
      "2022-04-20 16:28:09,600 \u001b[1;37mINFO\u001b[0m cyclops.processors.base - # samples: 85953, # encounters: 85953\n",
      "2022-04-20 16:28:09,617 \u001b[1;37mINFO\u001b[0m cyclops.processors.admin - # admin features: 2, # encounters: 85953\n",
      "2022-04-20 16:28:55,536 \u001b[1;37mINFO\u001b[0m cyclops.utils.profile - Finished executing function process in 45.945423 s\n"
     ]
    },
    {
     "name": "stdout",
     "output_type": "stream",
     "text": [
      "Fitting model with C: 0.1\n",
      "Fitting model with C: 0.01\n",
      "Fitting model with C: 0.001\n",
      "Fitting model with C: 0.0001\n"
     ]
    },
    {
     "name": "stderr",
     "output_type": "stream",
     "text": [
      "lbfgs failed to converge (status=1):\n",
      "STOP: TOTAL NO. of ITERATIONS REACHED LIMIT.\n",
      "\n",
      "Increase the number of iterations (max_iter) or scale the data as shown in:\n",
      "    https://scikit-learn.org/stable/modules/preprocessing.html\n",
      "Please also refer to the documentation for alternative solver options:\n",
      "    https://scikit-learn.org/stable/modules/linear_model.html#logistic-regression\n",
      "lbfgs failed to converge (status=1):\n",
      "STOP: TOTAL NO. of ITERATIONS REACHED LIMIT.\n",
      "\n",
      "Increase the number of iterations (max_iter) or scale the data as shown in:\n",
      "    https://scikit-learn.org/stable/modules/preprocessing.html\n",
      "Please also refer to the documentation for alternative solver options:\n",
      "    https://scikit-learn.org/stable/modules/linear_model.html#logistic-regression\n",
      "lbfgs failed to converge (status=1):\n",
      "STOP: TOTAL NO. of ITERATIONS REACHED LIMIT.\n",
      "\n",
      "Increase the number of iterations (max_iter) or scale the data as shown in:\n",
      "    https://scikit-learn.org/stable/modules/preprocessing.html\n",
      "Please also refer to the documentation for alternative solver options:\n",
      "    https://scikit-learn.org/stable/modules/linear_model.html#logistic-regression\n",
      "lbfgs failed to converge (status=1):\n",
      "STOP: TOTAL NO. of ITERATIONS REACHED LIMIT.\n",
      "\n",
      "Increase the number of iterations (max_iter) or scale the data as shown in:\n",
      "    https://scikit-learn.org/stable/modules/preprocessing.html\n",
      "Please also refer to the documentation for alternative solver options:\n",
      "    https://scikit-learn.org/stable/modules/linear_model.html#logistic-regression\n",
      "2022-04-20 16:28:56,162 \u001b[1;37mINFO\u001b[0m cyclops.processors.base - Processing raw admin data...\n",
      "2022-04-20 16:28:56,169 \u001b[1;37mINFO\u001b[0m cyclops.processors.base - # samples: 85953, # encounters: 85953\n",
      "2022-04-20 16:28:56,178 \u001b[1;37mINFO\u001b[0m cyclops.processors.admin - # admin features: 2, # encounters: 85953\n"
     ]
    },
    {
     "name": "stdout",
     "output_type": "stream",
     "text": [
      "Fitting model with C: 1e-05\n",
      "Fitting model with C: 1e-06\n",
      "Fitting model with C: 1e-07\n",
      "Best C: 0.001\n",
      "seasonal | mortality_in_hospital | SMH | rf\n"
     ]
    },
    {
     "name": "stderr",
     "output_type": "stream",
     "text": [
      "2022-04-20 16:29:40,100 \u001b[1;37mINFO\u001b[0m cyclops.utils.profile - Finished executing function process in 43.937256 s\n"
     ]
    },
    {
     "name": "stdout",
     "output_type": "stream",
     "text": [
      "Fitting model with n: 5\n",
      "Fitting model with n: 10\n",
      "Fitting model with n: 50\n",
      "Fitting model with n: 100\n",
      "Fitting model with n: 500\n",
      "Best n: 500\n"
     ]
    },
    {
     "name": "stderr",
     "output_type": "stream",
     "text": [
      "2022-04-20 16:29:42,946 \u001b[1;37mINFO\u001b[0m cyclops.processors.base - Processing raw admin data...\n",
      "2022-04-20 16:29:42,951 \u001b[1;37mINFO\u001b[0m cyclops.processors.base - # samples: 85953, # encounters: 85953\n",
      "2022-04-20 16:29:42,961 \u001b[1;37mINFO\u001b[0m cyclops.processors.admin - # admin features: 2, # encounters: 85953\n"
     ]
    },
    {
     "name": "stdout",
     "output_type": "stream",
     "text": [
      "seasonal | mortality_in_hospital | SMH | xgb\n"
     ]
    },
    {
     "name": "stderr",
     "output_type": "stream",
     "text": [
      "2022-04-20 16:30:29,723 \u001b[1;37mINFO\u001b[0m cyclops.utils.profile - Finished executing function process in 46.777482 s\n",
      "2022-04-20 16:33:16,418 \u001b[1;37mINFO\u001b[0m cyclops.processors.base - Processing raw admin data...\n",
      "2022-04-20 16:33:16,431 \u001b[1;37mINFO\u001b[0m cyclops.processors.base - # samples: 85953, # encounters: 85953\n",
      "2022-04-20 16:33:16,442 \u001b[1;37mINFO\u001b[0m cyclops.processors.admin - # admin features: 2, # encounters: 85953\n"
     ]
    },
    {
     "name": "stdout",
     "output_type": "stream",
     "text": [
      "Best eta: 0.1\n",
      "Best g: 5\n",
      "Best n: 9\n",
      "seasonal | mortality_in_hospital | MSH | lr\n"
     ]
    },
    {
     "name": "stderr",
     "output_type": "stream",
     "text": [
      "2022-04-20 16:34:02,300 \u001b[1;37mINFO\u001b[0m cyclops.utils.profile - Finished executing function process in 45.882003 s\n",
      "lbfgs failed to converge (status=1):\n",
      "STOP: TOTAL NO. of ITERATIONS REACHED LIMIT.\n",
      "\n",
      "Increase the number of iterations (max_iter) or scale the data as shown in:\n",
      "    https://scikit-learn.org/stable/modules/preprocessing.html\n",
      "Please also refer to the documentation for alternative solver options:\n",
      "    https://scikit-learn.org/stable/modules/linear_model.html#logistic-regression\n"
     ]
    },
    {
     "name": "stdout",
     "output_type": "stream",
     "text": [
      "Fitting model with C: 0.1\n",
      "Fitting model with C: 0.01\n",
      "Fitting model with C: 0.001\n",
      "Fitting model with C: 0.0001\n"
     ]
    },
    {
     "name": "stderr",
     "output_type": "stream",
     "text": [
      "lbfgs failed to converge (status=1):\n",
      "STOP: TOTAL NO. of ITERATIONS REACHED LIMIT.\n",
      "\n",
      "Increase the number of iterations (max_iter) or scale the data as shown in:\n",
      "    https://scikit-learn.org/stable/modules/preprocessing.html\n",
      "Please also refer to the documentation for alternative solver options:\n",
      "    https://scikit-learn.org/stable/modules/linear_model.html#logistic-regression\n",
      "lbfgs failed to converge (status=1):\n",
      "STOP: TOTAL NO. of ITERATIONS REACHED LIMIT.\n",
      "\n",
      "Increase the number of iterations (max_iter) or scale the data as shown in:\n",
      "    https://scikit-learn.org/stable/modules/preprocessing.html\n",
      "Please also refer to the documentation for alternative solver options:\n",
      "    https://scikit-learn.org/stable/modules/linear_model.html#logistic-regression\n",
      "lbfgs failed to converge (status=1):\n",
      "STOP: TOTAL NO. of ITERATIONS REACHED LIMIT.\n",
      "\n",
      "Increase the number of iterations (max_iter) or scale the data as shown in:\n",
      "    https://scikit-learn.org/stable/modules/preprocessing.html\n",
      "Please also refer to the documentation for alternative solver options:\n",
      "    https://scikit-learn.org/stable/modules/linear_model.html#logistic-regression\n",
      "2022-04-20 16:34:02,799 \u001b[1;37mINFO\u001b[0m cyclops.processors.base - Processing raw admin data...\n",
      "2022-04-20 16:34:02,804 \u001b[1;37mINFO\u001b[0m cyclops.processors.base - # samples: 85953, # encounters: 85953\n",
      "2022-04-20 16:34:02,813 \u001b[1;37mINFO\u001b[0m cyclops.processors.admin - # admin features: 2, # encounters: 85953\n"
     ]
    },
    {
     "name": "stdout",
     "output_type": "stream",
     "text": [
      "Fitting model with C: 1e-05\n",
      "Fitting model with C: 1e-06\n",
      "Fitting model with C: 1e-07\n",
      "Best C: 0.1\n",
      "seasonal | mortality_in_hospital | MSH | rf\n"
     ]
    },
    {
     "name": "stderr",
     "output_type": "stream",
     "text": [
      "2022-04-20 16:34:46,619 \u001b[1;37mINFO\u001b[0m cyclops.utils.profile - Finished executing function process in 43.820302 s\n"
     ]
    },
    {
     "name": "stdout",
     "output_type": "stream",
     "text": [
      "Fitting model with n: 5\n",
      "Fitting model with n: 10\n",
      "Fitting model with n: 50\n",
      "Fitting model with n: 100\n",
      "Fitting model with n: 500\n",
      "Best n: 500\n"
     ]
    },
    {
     "name": "stderr",
     "output_type": "stream",
     "text": [
      "2022-04-20 16:34:49,349 \u001b[1;37mINFO\u001b[0m cyclops.processors.base - Processing raw admin data...\n",
      "2022-04-20 16:34:49,355 \u001b[1;37mINFO\u001b[0m cyclops.processors.base - # samples: 85953, # encounters: 85953\n",
      "2022-04-20 16:34:49,368 \u001b[1;37mINFO\u001b[0m cyclops.processors.admin - # admin features: 2, # encounters: 85953\n"
     ]
    },
    {
     "name": "stdout",
     "output_type": "stream",
     "text": [
      "seasonal | mortality_in_hospital | MSH | xgb\n"
     ]
    },
    {
     "name": "stderr",
     "output_type": "stream",
     "text": [
      "2022-04-20 16:35:33,327 \u001b[1;37mINFO\u001b[0m cyclops.utils.profile - Finished executing function process in 43.978016 s\n"
     ]
    },
    {
     "name": "stdout",
     "output_type": "stream",
     "text": [
      "Best eta: 0.1\n",
      "Best g: 5\n",
      "Best n: 3\n",
      "seasonal | mortality_in_hospital | THPC | lr\n"
     ]
    },
    {
     "name": "stderr",
     "output_type": "stream",
     "text": [
      "2022-04-20 16:38:18,157 \u001b[1;37mINFO\u001b[0m cyclops.processors.base - Processing raw admin data...\n",
      "2022-04-20 16:38:18,163 \u001b[1;37mINFO\u001b[0m cyclops.processors.base - # samples: 85953, # encounters: 85953\n",
      "2022-04-20 16:38:18,176 \u001b[1;37mINFO\u001b[0m cyclops.processors.admin - # admin features: 2, # encounters: 85953\n",
      "2022-04-20 16:39:01,915 \u001b[1;37mINFO\u001b[0m cyclops.utils.profile - Finished executing function process in 43.758276 s\n"
     ]
    },
    {
     "name": "stdout",
     "output_type": "stream",
     "text": [
      "Fitting model with C: 0.1\n",
      "Fitting model with C: 0.01\n",
      "Fitting model with C: 0.001\n"
     ]
    },
    {
     "name": "stderr",
     "output_type": "stream",
     "text": [
      "lbfgs failed to converge (status=1):\n",
      "STOP: TOTAL NO. of ITERATIONS REACHED LIMIT.\n",
      "\n",
      "Increase the number of iterations (max_iter) or scale the data as shown in:\n",
      "    https://scikit-learn.org/stable/modules/preprocessing.html\n",
      "Please also refer to the documentation for alternative solver options:\n",
      "    https://scikit-learn.org/stable/modules/linear_model.html#logistic-regression\n",
      "lbfgs failed to converge (status=1):\n",
      "STOP: TOTAL NO. of ITERATIONS REACHED LIMIT.\n",
      "\n",
      "Increase the number of iterations (max_iter) or scale the data as shown in:\n",
      "    https://scikit-learn.org/stable/modules/preprocessing.html\n",
      "Please also refer to the documentation for alternative solver options:\n",
      "    https://scikit-learn.org/stable/modules/linear_model.html#logistic-regression\n",
      "lbfgs failed to converge (status=1):\n",
      "STOP: TOTAL NO. of ITERATIONS REACHED LIMIT.\n",
      "\n",
      "Increase the number of iterations (max_iter) or scale the data as shown in:\n",
      "    https://scikit-learn.org/stable/modules/preprocessing.html\n",
      "Please also refer to the documentation for alternative solver options:\n",
      "    https://scikit-learn.org/stable/modules/linear_model.html#logistic-regression\n"
     ]
    },
    {
     "name": "stdout",
     "output_type": "stream",
     "text": [
      "Fitting model with C: 0.0001\n",
      "Fitting model with C: 1e-05\n",
      "Fitting model with C: 1e-06\n",
      "Fitting model with C: 1e-07\n"
     ]
    },
    {
     "name": "stderr",
     "output_type": "stream",
     "text": [
      "lbfgs failed to converge (status=1):\n",
      "STOP: TOTAL NO. of ITERATIONS REACHED LIMIT.\n",
      "\n",
      "Increase the number of iterations (max_iter) or scale the data as shown in:\n",
      "    https://scikit-learn.org/stable/modules/preprocessing.html\n",
      "Please also refer to the documentation for alternative solver options:\n",
      "    https://scikit-learn.org/stable/modules/linear_model.html#logistic-regression\n",
      "2022-04-20 16:39:02,687 \u001b[1;37mINFO\u001b[0m cyclops.processors.base - Processing raw admin data...\n",
      "2022-04-20 16:39:02,692 \u001b[1;37mINFO\u001b[0m cyclops.processors.base - # samples: 85953, # encounters: 85953\n",
      "2022-04-20 16:39:02,700 \u001b[1;37mINFO\u001b[0m cyclops.processors.admin - # admin features: 2, # encounters: 85953\n"
     ]
    },
    {
     "name": "stdout",
     "output_type": "stream",
     "text": [
      "Best C: 0.1\n",
      "seasonal | mortality_in_hospital | THPC | rf\n"
     ]
    },
    {
     "name": "stderr",
     "output_type": "stream",
     "text": [
      "2022-04-20 16:39:46,537 \u001b[1;37mINFO\u001b[0m cyclops.utils.profile - Finished executing function process in 43.850140 s\n"
     ]
    },
    {
     "name": "stdout",
     "output_type": "stream",
     "text": [
      "Fitting model with n: 5\n",
      "Fitting model with n: 10\n",
      "Fitting model with n: 50\n",
      "Fitting model with n: 100\n",
      "Fitting model with n: 500\n",
      "Best n: 500\n"
     ]
    },
    {
     "name": "stderr",
     "output_type": "stream",
     "text": [
      "2022-04-20 16:39:50,917 \u001b[1;37mINFO\u001b[0m cyclops.processors.base - Processing raw admin data...\n",
      "2022-04-20 16:39:50,923 \u001b[1;37mINFO\u001b[0m cyclops.processors.base - # samples: 85953, # encounters: 85953\n",
      "2022-04-20 16:39:50,936 \u001b[1;37mINFO\u001b[0m cyclops.processors.admin - # admin features: 2, # encounters: 85953\n"
     ]
    },
    {
     "name": "stdout",
     "output_type": "stream",
     "text": [
      "seasonal | mortality_in_hospital | THPC | xgb\n"
     ]
    },
    {
     "name": "stderr",
     "output_type": "stream",
     "text": [
      "2022-04-20 16:40:37,680 \u001b[1;37mINFO\u001b[0m cyclops.utils.profile - Finished executing function process in 46.763012 s\n"
     ]
    },
    {
     "name": "stdout",
     "output_type": "stream",
     "text": [
      "Best eta: 0.1\n",
      "Best g: 5\n",
      "Best n: 9\n",
      "seasonal | mortality_in_hospital | THPM | lr\n"
     ]
    },
    {
     "name": "stderr",
     "output_type": "stream",
     "text": [
      "2022-04-20 16:44:41,260 \u001b[1;37mINFO\u001b[0m cyclops.processors.base - Processing raw admin data...\n",
      "2022-04-20 16:44:41,270 \u001b[1;37mINFO\u001b[0m cyclops.processors.base - # samples: 85953, # encounters: 85953\n",
      "2022-04-20 16:44:41,286 \u001b[1;37mINFO\u001b[0m cyclops.processors.admin - # admin features: 2, # encounters: 85953\n",
      "2022-04-20 16:45:25,291 \u001b[1;37mINFO\u001b[0m cyclops.utils.profile - Finished executing function process in 44.030870 s\n"
     ]
    },
    {
     "name": "stdout",
     "output_type": "stream",
     "text": [
      "Fitting model with C: 0.1\n",
      "Fitting model with C: 0.01\n",
      "Fitting model with C: 0.001\n"
     ]
    },
    {
     "name": "stderr",
     "output_type": "stream",
     "text": [
      "lbfgs failed to converge (status=1):\n",
      "STOP: TOTAL NO. of ITERATIONS REACHED LIMIT.\n",
      "\n",
      "Increase the number of iterations (max_iter) or scale the data as shown in:\n",
      "    https://scikit-learn.org/stable/modules/preprocessing.html\n",
      "Please also refer to the documentation for alternative solver options:\n",
      "    https://scikit-learn.org/stable/modules/linear_model.html#logistic-regression\n",
      "lbfgs failed to converge (status=1):\n",
      "STOP: TOTAL NO. of ITERATIONS REACHED LIMIT.\n",
      "\n",
      "Increase the number of iterations (max_iter) or scale the data as shown in:\n",
      "    https://scikit-learn.org/stable/modules/preprocessing.html\n",
      "Please also refer to the documentation for alternative solver options:\n",
      "    https://scikit-learn.org/stable/modules/linear_model.html#logistic-regression\n",
      "lbfgs failed to converge (status=1):\n",
      "STOP: TOTAL NO. of ITERATIONS REACHED LIMIT.\n",
      "\n",
      "Increase the number of iterations (max_iter) or scale the data as shown in:\n",
      "    https://scikit-learn.org/stable/modules/preprocessing.html\n",
      "Please also refer to the documentation for alternative solver options:\n",
      "    https://scikit-learn.org/stable/modules/linear_model.html#logistic-regression\n"
     ]
    },
    {
     "name": "stdout",
     "output_type": "stream",
     "text": [
      "Fitting model with C: 0.0001\n",
      "Fitting model with C: 1e-05\n",
      "Fitting model with C: 1e-06\n",
      "Fitting model with C: 1e-07\n",
      "Best C: 0.01\n"
     ]
    },
    {
     "name": "stderr",
     "output_type": "stream",
     "text": [
      "lbfgs failed to converge (status=1):\n",
      "STOP: TOTAL NO. of ITERATIONS REACHED LIMIT.\n",
      "\n",
      "Increase the number of iterations (max_iter) or scale the data as shown in:\n",
      "    https://scikit-learn.org/stable/modules/preprocessing.html\n",
      "Please also refer to the documentation for alternative solver options:\n",
      "    https://scikit-learn.org/stable/modules/linear_model.html#logistic-regression\n",
      "2022-04-20 16:45:25,988 \u001b[1;37mINFO\u001b[0m cyclops.processors.base - Processing raw admin data...\n",
      "2022-04-20 16:45:25,994 \u001b[1;37mINFO\u001b[0m cyclops.processors.base - # samples: 85953, # encounters: 85953\n",
      "2022-04-20 16:45:26,003 \u001b[1;37mINFO\u001b[0m cyclops.processors.admin - # admin features: 2, # encounters: 85953\n"
     ]
    },
    {
     "name": "stdout",
     "output_type": "stream",
     "text": [
      "seasonal | mortality_in_hospital | THPM | rf\n"
     ]
    },
    {
     "name": "stderr",
     "output_type": "stream",
     "text": [
      "2022-04-20 16:46:12,564 \u001b[1;37mINFO\u001b[0m cyclops.utils.profile - Finished executing function process in 46.576048 s\n"
     ]
    },
    {
     "name": "stdout",
     "output_type": "stream",
     "text": [
      "Fitting model with n: 5\n",
      "Fitting model with n: 10\n",
      "Fitting model with n: 50\n",
      "Fitting model with n: 100\n",
      "Fitting model with n: 500\n",
      "Best n: 500\n"
     ]
    },
    {
     "name": "stderr",
     "output_type": "stream",
     "text": [
      "2022-04-20 16:46:17,486 \u001b[1;37mINFO\u001b[0m cyclops.processors.base - Processing raw admin data...\n",
      "2022-04-20 16:46:17,492 \u001b[1;37mINFO\u001b[0m cyclops.processors.base - # samples: 85953, # encounters: 85953\n",
      "2022-04-20 16:46:17,506 \u001b[1;37mINFO\u001b[0m cyclops.processors.admin - # admin features: 2, # encounters: 85953\n"
     ]
    },
    {
     "name": "stdout",
     "output_type": "stream",
     "text": [
      "seasonal | mortality_in_hospital | THPM | xgb\n"
     ]
    },
    {
     "name": "stderr",
     "output_type": "stream",
     "text": [
      "2022-04-20 16:47:03,869 \u001b[1;37mINFO\u001b[0m cyclops.utils.profile - Finished executing function process in 46.382876 s\n",
      "2022-04-20 16:50:49,726 \u001b[1;37mINFO\u001b[0m cyclops.processors.base - Processing raw admin data...\n",
      "2022-04-20 16:50:49,739 \u001b[1;37mINFO\u001b[0m cyclops.processors.base - # samples: 85953, # encounters: 85953\n",
      "2022-04-20 16:50:49,750 \u001b[1;37mINFO\u001b[0m cyclops.processors.admin - # admin features: 2, # encounters: 85953\n"
     ]
    },
    {
     "name": "stdout",
     "output_type": "stream",
     "text": [
      "Best eta: 0.3\n",
      "Best g: 5\n",
      "Best n: 3\n",
      "seasonal | mortality_in_hospital | UHNTG | lr\n"
     ]
    },
    {
     "name": "stderr",
     "output_type": "stream",
     "text": [
      "2022-04-20 16:51:33,865 \u001b[1;37mINFO\u001b[0m cyclops.utils.profile - Finished executing function process in 44.138166 s\n"
     ]
    },
    {
     "name": "stdout",
     "output_type": "stream",
     "text": [
      "Fitting model with C: 0.1\n",
      "Fitting model with C: 0.01\n",
      "Fitting model with C: 0.001\n",
      "Fitting model with C: 0.0001\n"
     ]
    },
    {
     "name": "stderr",
     "output_type": "stream",
     "text": [
      "lbfgs failed to converge (status=1):\n",
      "STOP: TOTAL NO. of ITERATIONS REACHED LIMIT.\n",
      "\n",
      "Increase the number of iterations (max_iter) or scale the data as shown in:\n",
      "    https://scikit-learn.org/stable/modules/preprocessing.html\n",
      "Please also refer to the documentation for alternative solver options:\n",
      "    https://scikit-learn.org/stable/modules/linear_model.html#logistic-regression\n",
      "lbfgs failed to converge (status=1):\n",
      "STOP: TOTAL NO. of ITERATIONS REACHED LIMIT.\n",
      "\n",
      "Increase the number of iterations (max_iter) or scale the data as shown in:\n",
      "    https://scikit-learn.org/stable/modules/preprocessing.html\n",
      "Please also refer to the documentation for alternative solver options:\n",
      "    https://scikit-learn.org/stable/modules/linear_model.html#logistic-regression\n",
      "lbfgs failed to converge (status=1):\n",
      "STOP: TOTAL NO. of ITERATIONS REACHED LIMIT.\n",
      "\n",
      "Increase the number of iterations (max_iter) or scale the data as shown in:\n",
      "    https://scikit-learn.org/stable/modules/preprocessing.html\n",
      "Please also refer to the documentation for alternative solver options:\n",
      "    https://scikit-learn.org/stable/modules/linear_model.html#logistic-regression\n",
      "2022-04-20 16:51:34,402 \u001b[1;37mINFO\u001b[0m cyclops.processors.base - Processing raw admin data...\n",
      "2022-04-20 16:51:34,409 \u001b[1;37mINFO\u001b[0m cyclops.processors.base - # samples: 85953, # encounters: 85953\n",
      "2022-04-20 16:51:34,418 \u001b[1;37mINFO\u001b[0m cyclops.processors.admin - # admin features: 2, # encounters: 85953\n"
     ]
    },
    {
     "name": "stdout",
     "output_type": "stream",
     "text": [
      "Fitting model with C: 1e-05\n",
      "Fitting model with C: 1e-06\n",
      "Fitting model with C: 1e-07\n",
      "Best C: 0.01\n",
      "seasonal | mortality_in_hospital | UHNTG | rf\n"
     ]
    },
    {
     "name": "stderr",
     "output_type": "stream",
     "text": [
      "2022-04-20 16:52:18,839 \u001b[1;37mINFO\u001b[0m cyclops.utils.profile - Finished executing function process in 44.436117 s\n"
     ]
    },
    {
     "name": "stdout",
     "output_type": "stream",
     "text": [
      "Fitting model with n: 5\n",
      "Fitting model with n: 10\n",
      "Fitting model with n: 50\n",
      "Fitting model with n: 100\n",
      "Fitting model with n: 500\n",
      "Best n: 100\n"
     ]
    },
    {
     "name": "stderr",
     "output_type": "stream",
     "text": [
      "2022-04-20 16:52:21,993 \u001b[1;37mINFO\u001b[0m cyclops.processors.base - Processing raw admin data...\n",
      "2022-04-20 16:52:21,999 \u001b[1;37mINFO\u001b[0m cyclops.processors.base - # samples: 85953, # encounters: 85953\n",
      "2022-04-20 16:52:22,015 \u001b[1;37mINFO\u001b[0m cyclops.processors.admin - # admin features: 2, # encounters: 85953\n"
     ]
    },
    {
     "name": "stdout",
     "output_type": "stream",
     "text": [
      "seasonal | mortality_in_hospital | UHNTG | xgb\n"
     ]
    },
    {
     "name": "stderr",
     "output_type": "stream",
     "text": [
      "2022-04-20 16:53:05,908 \u001b[1;37mINFO\u001b[0m cyclops.utils.profile - Finished executing function process in 43.913905 s\n"
     ]
    },
    {
     "name": "stdout",
     "output_type": "stream",
     "text": [
      "Best eta: 0.1\n",
      "Best g: 5\n",
      "Best n: 5\n",
      "seasonal | mortality_in_hospital | UHNTW | lr\n"
     ]
    },
    {
     "name": "stderr",
     "output_type": "stream",
     "text": [
      "2022-04-20 16:56:06,973 \u001b[1;37mINFO\u001b[0m cyclops.processors.base - Processing raw admin data...\n",
      "2022-04-20 16:56:06,985 \u001b[1;37mINFO\u001b[0m cyclops.processors.base - # samples: 85953, # encounters: 85953\n",
      "2022-04-20 16:56:07,003 \u001b[1;37mINFO\u001b[0m cyclops.processors.admin - # admin features: 2, # encounters: 85953\n",
      "2022-04-20 16:56:52,915 \u001b[1;37mINFO\u001b[0m cyclops.utils.profile - Finished executing function process in 45.943198 s\n"
     ]
    },
    {
     "name": "stdout",
     "output_type": "stream",
     "text": [
      "Fitting model with C: 0.1\n",
      "Fitting model with C: 0.01\n",
      "Fitting model with C: 0.001\n",
      "Fitting model with C: 0.0001\n"
     ]
    },
    {
     "name": "stderr",
     "output_type": "stream",
     "text": [
      "lbfgs failed to converge (status=1):\n",
      "STOP: TOTAL NO. of ITERATIONS REACHED LIMIT.\n",
      "\n",
      "Increase the number of iterations (max_iter) or scale the data as shown in:\n",
      "    https://scikit-learn.org/stable/modules/preprocessing.html\n",
      "Please also refer to the documentation for alternative solver options:\n",
      "    https://scikit-learn.org/stable/modules/linear_model.html#logistic-regression\n",
      "lbfgs failed to converge (status=1):\n",
      "STOP: TOTAL NO. of ITERATIONS REACHED LIMIT.\n",
      "\n",
      "Increase the number of iterations (max_iter) or scale the data as shown in:\n",
      "    https://scikit-learn.org/stable/modules/preprocessing.html\n",
      "Please also refer to the documentation for alternative solver options:\n",
      "    https://scikit-learn.org/stable/modules/linear_model.html#logistic-regression\n",
      "lbfgs failed to converge (status=1):\n",
      "STOP: TOTAL NO. of ITERATIONS REACHED LIMIT.\n",
      "\n",
      "Increase the number of iterations (max_iter) or scale the data as shown in:\n",
      "    https://scikit-learn.org/stable/modules/preprocessing.html\n",
      "Please also refer to the documentation for alternative solver options:\n",
      "    https://scikit-learn.org/stable/modules/linear_model.html#logistic-regression\n",
      "lbfgs failed to converge (status=1):\n",
      "STOP: TOTAL NO. of ITERATIONS REACHED LIMIT.\n",
      "\n",
      "Increase the number of iterations (max_iter) or scale the data as shown in:\n",
      "    https://scikit-learn.org/stable/modules/preprocessing.html\n",
      "Please also refer to the documentation for alternative solver options:\n",
      "    https://scikit-learn.org/stable/modules/linear_model.html#logistic-regression\n",
      "2022-04-20 16:56:53,483 \u001b[1;37mINFO\u001b[0m cyclops.processors.base - Processing raw admin data...\n",
      "2022-04-20 16:56:53,490 \u001b[1;37mINFO\u001b[0m cyclops.processors.base - # samples: 85953, # encounters: 85953\n",
      "2022-04-20 16:56:53,500 \u001b[1;37mINFO\u001b[0m cyclops.processors.admin - # admin features: 2, # encounters: 85953\n"
     ]
    },
    {
     "name": "stdout",
     "output_type": "stream",
     "text": [
      "Fitting model with C: 1e-05\n",
      "Fitting model with C: 1e-06\n",
      "Fitting model with C: 1e-07\n",
      "Best C: 0.1\n",
      "seasonal | mortality_in_hospital | UHNTW | rf\n"
     ]
    },
    {
     "name": "stderr",
     "output_type": "stream",
     "text": [
      "2022-04-20 16:57:37,240 \u001b[1;37mINFO\u001b[0m cyclops.utils.profile - Finished executing function process in 43.757082 s\n"
     ]
    },
    {
     "name": "stdout",
     "output_type": "stream",
     "text": [
      "Fitting model with n: 5\n",
      "Fitting model with n: 10\n",
      "Fitting model with n: 50\n",
      "Fitting model with n: 100\n",
      "Fitting model with n: 500\n",
      "Best n: 500\n"
     ]
    },
    {
     "name": "stderr",
     "output_type": "stream",
     "text": [
      "2022-04-20 16:57:40,555 \u001b[1;37mINFO\u001b[0m cyclops.processors.base - Processing raw admin data...\n",
      "2022-04-20 16:57:40,562 \u001b[1;37mINFO\u001b[0m cyclops.processors.base - # samples: 85953, # encounters: 85953\n",
      "2022-04-20 16:57:40,603 \u001b[1;37mINFO\u001b[0m cyclops.processors.admin - # admin features: 2, # encounters: 85953\n"
     ]
    },
    {
     "name": "stdout",
     "output_type": "stream",
     "text": [
      "seasonal | mortality_in_hospital | UHNTW | xgb\n"
     ]
    },
    {
     "name": "stderr",
     "output_type": "stream",
     "text": [
      "2022-04-20 16:58:24,746 \u001b[1;37mINFO\u001b[0m cyclops.utils.profile - Finished executing function process in 44.191170 s\n"
     ]
    },
    {
     "name": "stdout",
     "output_type": "stream",
     "text": [
      "Best eta: 0.1\n",
      "Best g: 5\n",
      "Best n: 11\n"
     ]
    },
    {
     "data": {
      "application/javascript": [
       "\n",
       "            setTimeout(function() {\n",
       "                var nbb_cell_id = 6;\n",
       "                var nbb_unformatted_code = \"for si, SHIFT in enumerate(SHIFTS):\\n    for oi, OUTCOME in enumerate(OUTCOMES):\\n        for hi, HOSPITAL in enumerate(HOSPITALS):\\n            for mi, MODEL in enumerate(MODELS):\\n                if np.any(shift_auc[si, oi, hi, mi, :] == -1)  or (SHIFT in [\\\"summer\\\", \\\"winter\\\", \\\"seasonal\\\"]):\\n                    print(\\\"{} | {} | {} | {}\\\".format(SHIFT, OUTCOME, HOSPITAL, MODEL))\\n                    (\\n                        (X_train, y_train),\\n                        (X_val, y_val),\\n                        (X_test, y_test),\\n                        feats,\\n                        orig_dims,\\n                    ) = import_dataset_hospital(\\n                        SHIFT, OUTCOME, [HOSPITAL], NA_CUTOFF, shuffle=True\\n                    )\\n\\n                    model_path = (\\n                        PATH + \\\"_\\\".join([SHIFT, OUTCOME, HOSPITAL, MODEL]) + \\\".pkl\\\"\\n                    )\\n                    if os.path.exists(model_path):\\n                        optimised_model = pickle.load(open(model_path, \\\"rb\\\"))\\n                    else:\\n                        optimised_model = run_model(\\n                            MODEL, X_train, y_train, X_val, y_val\\n                        )\\n                        pickle.dump(\\n                            optimised_model,\\n                            open(\\n                                model_path,\\n                                \\\"wb\\\",\\n                            ),\\n                        )\\n\\n                    # calc metrics for validation set\\n                    y_val_pred_prob = optimised_model.predict_proba(X_val)[:, 1]\\n                    val_fpr, val_tpr, val_thresholds = roc_curve(\\n                        y_val, y_val_pred_prob, pos_label=1\\n                    )\\n\\n                    val_roc_auc = auc(val_fpr, val_tpr)\\n\\n                    val_avg_pr = average_precision_score(y_val, y_val_pred_prob)\\n                    # val_recall = recall_score(y_val, y_val_pred_prob, average='weighted')\\n\\n                    # calc metrics for test set\\n                    y_test_pred_prob = optimised_model.predict_proba(X_test)[:, 1]\\n                    test_fpr, test_tpr, test_thresholds = roc_curve(\\n                        y_test, y_test_pred_prob, pos_label=1\\n                    )\\n                    test_roc_auc = auc(test_fpr, test_tpr)\\n                    test_avg_pr = average_precision_score(y_test, y_test_pred_prob)\\n                    # test_recall = recall_score(y_test, y_test_pred_prob, average='weighted')\\n\\n                    shift_auc[si, oi, hi, mi, :] = [val_roc_auc, test_roc_auc]\\n                    shift_pr[si, oi, hi, mi, :] = [val_avg_pr, test_avg_pr]\\n\\nif not os.path.exists(PATH + \\\"/shift_auc.pkl\\\"):\\n    with open(PATH + \\\"/shift_auc.pkl\\\", \\\"wb\\\") as f:\\n        pickle.dump(shift_auc, f)\\nif not os.path.exists(PATH + \\\"/shift_pr.pkl\\\"):\\n    with open(PATH + \\\"/shift_pr.pkl\\\", \\\"wb\\\") as f:\\n        pickle.dump(shift_pr, f)\";\n",
       "                var nbb_formatted_code = \"for si, SHIFT in enumerate(SHIFTS):\\n    for oi, OUTCOME in enumerate(OUTCOMES):\\n        for hi, HOSPITAL in enumerate(HOSPITALS):\\n            for mi, MODEL in enumerate(MODELS):\\n                if np.any(shift_auc[si, oi, hi, mi, :] == -1) or (\\n                    SHIFT in [\\\"summer\\\", \\\"winter\\\", \\\"seasonal\\\"]\\n                ):\\n                    print(\\\"{} | {} | {} | {}\\\".format(SHIFT, OUTCOME, HOSPITAL, MODEL))\\n                    (\\n                        (X_train, y_train),\\n                        (X_val, y_val),\\n                        (X_test, y_test),\\n                        feats,\\n                        orig_dims,\\n                    ) = import_dataset_hospital(\\n                        SHIFT, OUTCOME, [HOSPITAL], NA_CUTOFF, shuffle=True\\n                    )\\n\\n                    model_path = (\\n                        PATH + \\\"_\\\".join([SHIFT, OUTCOME, HOSPITAL, MODEL]) + \\\".pkl\\\"\\n                    )\\n                    if os.path.exists(model_path):\\n                        optimised_model = pickle.load(open(model_path, \\\"rb\\\"))\\n                    else:\\n                        optimised_model = run_model(\\n                            MODEL, X_train, y_train, X_val, y_val\\n                        )\\n                        pickle.dump(\\n                            optimised_model,\\n                            open(\\n                                model_path,\\n                                \\\"wb\\\",\\n                            ),\\n                        )\\n\\n                    # calc metrics for validation set\\n                    y_val_pred_prob = optimised_model.predict_proba(X_val)[:, 1]\\n                    val_fpr, val_tpr, val_thresholds = roc_curve(\\n                        y_val, y_val_pred_prob, pos_label=1\\n                    )\\n\\n                    val_roc_auc = auc(val_fpr, val_tpr)\\n\\n                    val_avg_pr = average_precision_score(y_val, y_val_pred_prob)\\n                    # val_recall = recall_score(y_val, y_val_pred_prob, average='weighted')\\n\\n                    # calc metrics for test set\\n                    y_test_pred_prob = optimised_model.predict_proba(X_test)[:, 1]\\n                    test_fpr, test_tpr, test_thresholds = roc_curve(\\n                        y_test, y_test_pred_prob, pos_label=1\\n                    )\\n                    test_roc_auc = auc(test_fpr, test_tpr)\\n                    test_avg_pr = average_precision_score(y_test, y_test_pred_prob)\\n                    # test_recall = recall_score(y_test, y_test_pred_prob, average='weighted')\\n\\n                    shift_auc[si, oi, hi, mi, :] = [val_roc_auc, test_roc_auc]\\n                    shift_pr[si, oi, hi, mi, :] = [val_avg_pr, test_avg_pr]\\n\\nif not os.path.exists(PATH + \\\"/shift_auc.pkl\\\"):\\n    with open(PATH + \\\"/shift_auc.pkl\\\", \\\"wb\\\") as f:\\n        pickle.dump(shift_auc, f)\\nif not os.path.exists(PATH + \\\"/shift_pr.pkl\\\"):\\n    with open(PATH + \\\"/shift_pr.pkl\\\", \\\"wb\\\") as f:\\n        pickle.dump(shift_pr, f)\";\n",
       "                var nbb_cells = Jupyter.notebook.get_cells();\n",
       "                for (var i = 0; i < nbb_cells.length; ++i) {\n",
       "                    if (nbb_cells[i].input_prompt_number == nbb_cell_id) {\n",
       "                        if (nbb_cells[i].get_text() == nbb_unformatted_code) {\n",
       "                             nbb_cells[i].set_text(nbb_formatted_code);\n",
       "                        }\n",
       "                        break;\n",
       "                    }\n",
       "                }\n",
       "            }, 500);\n",
       "            "
      ],
      "text/plain": [
       "<IPython.core.display.Javascript object>"
      ]
     },
     "metadata": {},
     "output_type": "display_data"
    }
   ],
   "source": [
    "for si, SHIFT in enumerate(SHIFTS):\n",
    "    for oi, OUTCOME in enumerate(OUTCOMES):\n",
    "        for hi, HOSPITAL in enumerate(HOSPITALS):\n",
    "            for mi, MODEL in enumerate(MODELS):\n",
    "                if np.any(shift_auc[si, oi, hi, mi, :] == -1)  or (SHIFT in [\"summer\", \"winter\", \"seasonal\"]):\n",
    "                    print(\"{} | {} | {} | {}\".format(SHIFT, OUTCOME, HOSPITAL, MODEL))\n",
    "                    (\n",
    "                        (X_train, y_train),\n",
    "                        (X_val, y_val),\n",
    "                        (X_test, y_test),\n",
    "                        feats,\n",
    "                        orig_dims,\n",
    "                    ) = import_dataset_hospital(\n",
    "                        SHIFT, OUTCOME, [HOSPITAL], NA_CUTOFF, shuffle=True\n",
    "                    )\n",
    "\n",
    "                    model_path = (\n",
    "                        PATH + \"_\".join([SHIFT, OUTCOME, HOSPITAL, MODEL]) + \".pkl\"\n",
    "                    )\n",
    "                    if os.path.exists(model_path):\n",
    "                        optimised_model = pickle.load(open(model_path, \"rb\"))\n",
    "                    else:\n",
    "                        optimised_model = run_model(\n",
    "                            MODEL, X_train, y_train, X_val, y_val\n",
    "                        )\n",
    "                        pickle.dump(\n",
    "                            optimised_model,\n",
    "                            open(\n",
    "                                model_path,\n",
    "                                \"wb\",\n",
    "                            ),\n",
    "                        )\n",
    "\n",
    "                    # calc metrics for validation set\n",
    "                    y_val_pred_prob = optimised_model.predict_proba(X_val)[:, 1]\n",
    "                    val_fpr, val_tpr, val_thresholds = roc_curve(\n",
    "                        y_val, y_val_pred_prob, pos_label=1\n",
    "                    )\n",
    "\n",
    "                    val_roc_auc = auc(val_fpr, val_tpr)\n",
    "\n",
    "                    val_avg_pr = average_precision_score(y_val, y_val_pred_prob)\n",
    "                    # val_recall = recall_score(y_val, y_val_pred_prob, average='weighted')\n",
    "\n",
    "                    # calc metrics for test set\n",
    "                    y_test_pred_prob = optimised_model.predict_proba(X_test)[:, 1]\n",
    "                    test_fpr, test_tpr, test_thresholds = roc_curve(\n",
    "                        y_test, y_test_pred_prob, pos_label=1\n",
    "                    )\n",
    "                    test_roc_auc = auc(test_fpr, test_tpr)\n",
    "                    test_avg_pr = average_precision_score(y_test, y_test_pred_prob)\n",
    "                    # test_recall = recall_score(y_test, y_test_pred_prob, average='weighted')\n",
    "\n",
    "                    shift_auc[si, oi, hi, mi, :] = [val_roc_auc, test_roc_auc]\n",
    "                    shift_pr[si, oi, hi, mi, :] = [val_avg_pr, test_avg_pr]\n"
   ]
  },
  {
   "cell_type": "code",
   "execution_count": 7,
   "id": "weekly-endorsement",
   "metadata": {},
   "outputs": [
    {
     "data": {
      "application/javascript": [
       "\n",
       "            setTimeout(function() {\n",
       "                var nbb_cell_id = 7;\n",
       "                var nbb_unformatted_code = \"if not os.path.exists(PATH + \\\"/shift_auc.pkl\\\"):\\n    with open(PATH + \\\"/shift_auc.pkl\\\", \\\"wb\\\") as f:\\n        pickle.dump(shift_auc, f)\\nif not os.path.exists(PATH + \\\"/shift_pr.pkl\\\"):\\n    with open(PATH + \\\"/shift_pr.pkl\\\", \\\"wb\\\") as f:\\n        pickle.dump(shift_pr, f)\";\n",
       "                var nbb_formatted_code = \"if not os.path.exists(PATH + \\\"/shift_auc.pkl\\\"):\\n    with open(PATH + \\\"/shift_auc.pkl\\\", \\\"wb\\\") as f:\\n        pickle.dump(shift_auc, f)\\nif not os.path.exists(PATH + \\\"/shift_pr.pkl\\\"):\\n    with open(PATH + \\\"/shift_pr.pkl\\\", \\\"wb\\\") as f:\\n        pickle.dump(shift_pr, f)\";\n",
       "                var nbb_cells = Jupyter.notebook.get_cells();\n",
       "                for (var i = 0; i < nbb_cells.length; ++i) {\n",
       "                    if (nbb_cells[i].input_prompt_number == nbb_cell_id) {\n",
       "                        if (nbb_cells[i].get_text() == nbb_unformatted_code) {\n",
       "                             nbb_cells[i].set_text(nbb_formatted_code);\n",
       "                        }\n",
       "                        break;\n",
       "                    }\n",
       "                }\n",
       "            }, 500);\n",
       "            "
      ],
      "text/plain": [
       "<IPython.core.display.Javascript object>"
      ]
     },
     "metadata": {},
     "output_type": "display_data"
    }
   ],
   "source": [
    "if not os.path.exists(PATH + \"/shift_auc.pkl\"):\n",
    "    with open(PATH + \"/shift_auc.pkl\", \"wb\") as f:\n",
    "        pickle.dump(shift_auc, f)\n",
    "if not os.path.exists(PATH + \"/shift_pr.pkl\"):\n",
    "    with open(PATH + \"/shift_pr.pkl\", \"wb\") as f:\n",
    "        pickle.dump(shift_pr, f)"
   ]
  },
  {
   "cell_type": "markdown",
   "id": "extended-progressive",
   "metadata": {},
   "source": [
    "## ROC AUC ##"
   ]
  },
  {
   "cell_type": "code",
   "execution_count": 15,
   "id": "instant-landscape",
   "metadata": {},
   "outputs": [
    {
     "data": {
      "text/html": [
       "<div>\n",
       "<style scoped>\n",
       "    .dataframe tbody tr th:only-of-type {\n",
       "        vertical-align: middle;\n",
       "    }\n",
       "\n",
       "    .dataframe tbody tr th {\n",
       "        vertical-align: top;\n",
       "    }\n",
       "\n",
       "    .dataframe thead tr th {\n",
       "        text-align: left;\n",
       "    }\n",
       "</style>\n",
       "<table border=\"1\" class=\"dataframe\">\n",
       "  <thead>\n",
       "    <tr>\n",
       "      <th></th>\n",
       "      <th></th>\n",
       "      <th colspan=\"10\" halign=\"left\">length_of_stay_in_er</th>\n",
       "      <th>...</th>\n",
       "      <th colspan=\"10\" halign=\"left\">mortality_in_hospital</th>\n",
       "    </tr>\n",
       "    <tr>\n",
       "      <th></th>\n",
       "      <th></th>\n",
       "      <th colspan=\"3\" halign=\"left\">SMH</th>\n",
       "      <th colspan=\"3\" halign=\"left\">MSH</th>\n",
       "      <th colspan=\"3\" halign=\"left\">THPC</th>\n",
       "      <th>THPM</th>\n",
       "      <th>...</th>\n",
       "      <th>THPC</th>\n",
       "      <th colspan=\"3\" halign=\"left\">THPM</th>\n",
       "      <th colspan=\"3\" halign=\"left\">UHNTG</th>\n",
       "      <th colspan=\"3\" halign=\"left\">UHNTW</th>\n",
       "    </tr>\n",
       "    <tr>\n",
       "      <th></th>\n",
       "      <th></th>\n",
       "      <th>lr</th>\n",
       "      <th>rf</th>\n",
       "      <th>xgb</th>\n",
       "      <th>lr</th>\n",
       "      <th>rf</th>\n",
       "      <th>xgb</th>\n",
       "      <th>lr</th>\n",
       "      <th>rf</th>\n",
       "      <th>xgb</th>\n",
       "      <th>lr</th>\n",
       "      <th>...</th>\n",
       "      <th>xgb</th>\n",
       "      <th>lr</th>\n",
       "      <th>rf</th>\n",
       "      <th>xgb</th>\n",
       "      <th>lr</th>\n",
       "      <th>rf</th>\n",
       "      <th>xgb</th>\n",
       "      <th>lr</th>\n",
       "      <th>rf</th>\n",
       "      <th>xgb</th>\n",
       "    </tr>\n",
       "  </thead>\n",
       "  <tbody>\n",
       "    <tr>\n",
       "      <th rowspan=\"2\" valign=\"top\">pre-covid</th>\n",
       "      <th>VAL_ROC_AUC</th>\n",
       "      <td>0.685077</td>\n",
       "      <td>0.679966</td>\n",
       "      <td>0.698393</td>\n",
       "      <td>0.566220</td>\n",
       "      <td>0.656885</td>\n",
       "      <td>0.613776</td>\n",
       "      <td>0.631915</td>\n",
       "      <td>0.605530</td>\n",
       "      <td>0.701081</td>\n",
       "      <td>0.622109</td>\n",
       "      <td>...</td>\n",
       "      <td>0.804163</td>\n",
       "      <td>0.769393</td>\n",
       "      <td>0.782642</td>\n",
       "      <td>0.804211</td>\n",
       "      <td>0.754195</td>\n",
       "      <td>0.708317</td>\n",
       "      <td>0.781442</td>\n",
       "      <td>0.790147</td>\n",
       "      <td>0.834507</td>\n",
       "      <td>0.829115</td>\n",
       "    </tr>\n",
       "    <tr>\n",
       "      <th>TEST_ROC_AUC</th>\n",
       "      <td>0.642507</td>\n",
       "      <td>0.607752</td>\n",
       "      <td>0.627380</td>\n",
       "      <td>0.609688</td>\n",
       "      <td>0.613614</td>\n",
       "      <td>0.612724</td>\n",
       "      <td>0.646738</td>\n",
       "      <td>0.639663</td>\n",
       "      <td>0.712715</td>\n",
       "      <td>0.634415</td>\n",
       "      <td>...</td>\n",
       "      <td>0.826634</td>\n",
       "      <td>0.773520</td>\n",
       "      <td>0.803547</td>\n",
       "      <td>0.807082</td>\n",
       "      <td>0.726976</td>\n",
       "      <td>0.764703</td>\n",
       "      <td>0.776332</td>\n",
       "      <td>0.733691</td>\n",
       "      <td>0.800266</td>\n",
       "      <td>0.804448</td>\n",
       "    </tr>\n",
       "    <tr>\n",
       "      <th rowspan=\"2\" valign=\"top\">covid</th>\n",
       "      <th>VAL_ROC_AUC</th>\n",
       "      <td>0.631242</td>\n",
       "      <td>0.683626</td>\n",
       "      <td>0.855658</td>\n",
       "      <td>0.627196</td>\n",
       "      <td>0.628763</td>\n",
       "      <td>0.667785</td>\n",
       "      <td>0.633527</td>\n",
       "      <td>0.630492</td>\n",
       "      <td>0.681453</td>\n",
       "      <td>0.642752</td>\n",
       "      <td>...</td>\n",
       "      <td>0.838525</td>\n",
       "      <td>0.788514</td>\n",
       "      <td>0.814293</td>\n",
       "      <td>0.827120</td>\n",
       "      <td>0.716387</td>\n",
       "      <td>0.772647</td>\n",
       "      <td>0.793052</td>\n",
       "      <td>0.735057</td>\n",
       "      <td>0.808685</td>\n",
       "      <td>0.835661</td>\n",
       "    </tr>\n",
       "    <tr>\n",
       "      <th>TEST_ROC_AUC</th>\n",
       "      <td>0.527422</td>\n",
       "      <td>0.537757</td>\n",
       "      <td>0.525798</td>\n",
       "      <td>0.608638</td>\n",
       "      <td>0.630080</td>\n",
       "      <td>0.631802</td>\n",
       "      <td>0.600501</td>\n",
       "      <td>0.612604</td>\n",
       "      <td>0.621335</td>\n",
       "      <td>0.577815</td>\n",
       "      <td>...</td>\n",
       "      <td>0.825559</td>\n",
       "      <td>0.758934</td>\n",
       "      <td>0.819457</td>\n",
       "      <td>0.805789</td>\n",
       "      <td>0.696609</td>\n",
       "      <td>0.760753</td>\n",
       "      <td>0.744392</td>\n",
       "      <td>0.798331</td>\n",
       "      <td>0.865612</td>\n",
       "      <td>0.841179</td>\n",
       "    </tr>\n",
       "    <tr>\n",
       "      <th rowspan=\"2\" valign=\"top\">summer</th>\n",
       "      <th>VAL_ROC_AUC</th>\n",
       "      <td>0.709691</td>\n",
       "      <td>0.573438</td>\n",
       "      <td>0.718881</td>\n",
       "      <td>0.484106</td>\n",
       "      <td>0.657390</td>\n",
       "      <td>0.656328</td>\n",
       "      <td>0.571716</td>\n",
       "      <td>0.624705</td>\n",
       "      <td>0.813322</td>\n",
       "      <td>0.548540</td>\n",
       "      <td>...</td>\n",
       "      <td>0.841226</td>\n",
       "      <td>0.730047</td>\n",
       "      <td>0.752463</td>\n",
       "      <td>0.768693</td>\n",
       "      <td>0.694954</td>\n",
       "      <td>0.788208</td>\n",
       "      <td>0.832025</td>\n",
       "      <td>0.691193</td>\n",
       "      <td>0.834218</td>\n",
       "      <td>0.862806</td>\n",
       "    </tr>\n",
       "    <tr>\n",
       "      <th>TEST_ROC_AUC</th>\n",
       "      <td>0.614141</td>\n",
       "      <td>0.640415</td>\n",
       "      <td>0.583768</td>\n",
       "      <td>0.596742</td>\n",
       "      <td>0.538386</td>\n",
       "      <td>0.557886</td>\n",
       "      <td>0.537304</td>\n",
       "      <td>0.610319</td>\n",
       "      <td>0.663882</td>\n",
       "      <td>0.554803</td>\n",
       "      <td>...</td>\n",
       "      <td>0.756369</td>\n",
       "      <td>0.743208</td>\n",
       "      <td>0.770202</td>\n",
       "      <td>0.774707</td>\n",
       "      <td>0.674151</td>\n",
       "      <td>0.709262</td>\n",
       "      <td>0.704820</td>\n",
       "      <td>0.713624</td>\n",
       "      <td>0.771321</td>\n",
       "      <td>0.798468</td>\n",
       "    </tr>\n",
       "    <tr>\n",
       "      <th rowspan=\"2\" valign=\"top\">winter</th>\n",
       "      <th>VAL_ROC_AUC</th>\n",
       "      <td>0.721528</td>\n",
       "      <td>0.679006</td>\n",
       "      <td>0.759598</td>\n",
       "      <td>0.610094</td>\n",
       "      <td>0.680569</td>\n",
       "      <td>0.682984</td>\n",
       "      <td>0.567846</td>\n",
       "      <td>0.584277</td>\n",
       "      <td>0.662912</td>\n",
       "      <td>0.698539</td>\n",
       "      <td>...</td>\n",
       "      <td>0.845351</td>\n",
       "      <td>0.753762</td>\n",
       "      <td>0.724957</td>\n",
       "      <td>0.756307</td>\n",
       "      <td>0.635192</td>\n",
       "      <td>0.731446</td>\n",
       "      <td>0.852190</td>\n",
       "      <td>0.659228</td>\n",
       "      <td>0.761755</td>\n",
       "      <td>0.767065</td>\n",
       "    </tr>\n",
       "    <tr>\n",
       "      <th>TEST_ROC_AUC</th>\n",
       "      <td>0.575490</td>\n",
       "      <td>0.560690</td>\n",
       "      <td>0.588586</td>\n",
       "      <td>0.588233</td>\n",
       "      <td>0.646145</td>\n",
       "      <td>0.606705</td>\n",
       "      <td>0.515961</td>\n",
       "      <td>0.630460</td>\n",
       "      <td>0.737796</td>\n",
       "      <td>0.646844</td>\n",
       "      <td>...</td>\n",
       "      <td>0.767157</td>\n",
       "      <td>0.732821</td>\n",
       "      <td>0.784026</td>\n",
       "      <td>0.759509</td>\n",
       "      <td>0.741359</td>\n",
       "      <td>0.738412</td>\n",
       "      <td>0.769978</td>\n",
       "      <td>0.746516</td>\n",
       "      <td>0.757149</td>\n",
       "      <td>0.739021</td>\n",
       "    </tr>\n",
       "    <tr>\n",
       "      <th rowspan=\"2\" valign=\"top\">seasonal</th>\n",
       "      <th>VAL_ROC_AUC</th>\n",
       "      <td>0.605823</td>\n",
       "      <td>0.671599</td>\n",
       "      <td>0.698691</td>\n",
       "      <td>0.612962</td>\n",
       "      <td>0.717015</td>\n",
       "      <td>0.701790</td>\n",
       "      <td>0.644771</td>\n",
       "      <td>0.653797</td>\n",
       "      <td>0.762517</td>\n",
       "      <td>0.692114</td>\n",
       "      <td>...</td>\n",
       "      <td>0.812637</td>\n",
       "      <td>0.764571</td>\n",
       "      <td>0.787212</td>\n",
       "      <td>0.765824</td>\n",
       "      <td>0.753640</td>\n",
       "      <td>0.782721</td>\n",
       "      <td>0.787711</td>\n",
       "      <td>0.733670</td>\n",
       "      <td>0.783926</td>\n",
       "      <td>0.811153</td>\n",
       "    </tr>\n",
       "    <tr>\n",
       "      <th>TEST_ROC_AUC</th>\n",
       "      <td>0.628347</td>\n",
       "      <td>0.635830</td>\n",
       "      <td>0.616060</td>\n",
       "      <td>0.511055</td>\n",
       "      <td>0.553190</td>\n",
       "      <td>0.541383</td>\n",
       "      <td>0.521770</td>\n",
       "      <td>0.644131</td>\n",
       "      <td>0.652518</td>\n",
       "      <td>0.606998</td>\n",
       "      <td>...</td>\n",
       "      <td>0.779523</td>\n",
       "      <td>0.765733</td>\n",
       "      <td>0.772455</td>\n",
       "      <td>0.787183</td>\n",
       "      <td>0.721615</td>\n",
       "      <td>0.747815</td>\n",
       "      <td>0.721990</td>\n",
       "      <td>0.727170</td>\n",
       "      <td>0.846615</td>\n",
       "      <td>0.832272</td>\n",
       "    </tr>\n",
       "  </tbody>\n",
       "</table>\n",
       "<p>10 rows × 36 columns</p>\n",
       "</div>"
      ],
      "text/plain": [
       "                       length_of_stay_in_er                                \\\n",
       "                                        SMH                           MSH   \n",
       "                                         lr        rf       xgb        lr   \n",
       "pre-covid VAL_ROC_AUC              0.685077  0.679966  0.698393  0.566220   \n",
       "          TEST_ROC_AUC             0.642507  0.607752  0.627380  0.609688   \n",
       "covid     VAL_ROC_AUC              0.631242  0.683626  0.855658  0.627196   \n",
       "          TEST_ROC_AUC             0.527422  0.537757  0.525798  0.608638   \n",
       "summer    VAL_ROC_AUC              0.709691  0.573438  0.718881  0.484106   \n",
       "          TEST_ROC_AUC             0.614141  0.640415  0.583768  0.596742   \n",
       "winter    VAL_ROC_AUC              0.721528  0.679006  0.759598  0.610094   \n",
       "          TEST_ROC_AUC             0.575490  0.560690  0.588586  0.588233   \n",
       "seasonal  VAL_ROC_AUC              0.605823  0.671599  0.698691  0.612962   \n",
       "          TEST_ROC_AUC             0.628347  0.635830  0.616060  0.511055   \n",
       "\n",
       "                                                                          \\\n",
       "                                                THPC                       \n",
       "                              rf       xgb        lr        rf       xgb   \n",
       "pre-covid VAL_ROC_AUC   0.656885  0.613776  0.631915  0.605530  0.701081   \n",
       "          TEST_ROC_AUC  0.613614  0.612724  0.646738  0.639663  0.712715   \n",
       "covid     VAL_ROC_AUC   0.628763  0.667785  0.633527  0.630492  0.681453   \n",
       "          TEST_ROC_AUC  0.630080  0.631802  0.600501  0.612604  0.621335   \n",
       "summer    VAL_ROC_AUC   0.657390  0.656328  0.571716  0.624705  0.813322   \n",
       "          TEST_ROC_AUC  0.538386  0.557886  0.537304  0.610319  0.663882   \n",
       "winter    VAL_ROC_AUC   0.680569  0.682984  0.567846  0.584277  0.662912   \n",
       "          TEST_ROC_AUC  0.646145  0.606705  0.515961  0.630460  0.737796   \n",
       "seasonal  VAL_ROC_AUC   0.717015  0.701790  0.644771  0.653797  0.762517   \n",
       "          TEST_ROC_AUC  0.553190  0.541383  0.521770  0.644131  0.652518   \n",
       "\n",
       "                                  ... mortality_in_hospital            \\\n",
       "                            THPM  ...                  THPC      THPM   \n",
       "                              lr  ...                   xgb        lr   \n",
       "pre-covid VAL_ROC_AUC   0.622109  ...              0.804163  0.769393   \n",
       "          TEST_ROC_AUC  0.634415  ...              0.826634  0.773520   \n",
       "covid     VAL_ROC_AUC   0.642752  ...              0.838525  0.788514   \n",
       "          TEST_ROC_AUC  0.577815  ...              0.825559  0.758934   \n",
       "summer    VAL_ROC_AUC   0.548540  ...              0.841226  0.730047   \n",
       "          TEST_ROC_AUC  0.554803  ...              0.756369  0.743208   \n",
       "winter    VAL_ROC_AUC   0.698539  ...              0.845351  0.753762   \n",
       "          TEST_ROC_AUC  0.646844  ...              0.767157  0.732821   \n",
       "seasonal  VAL_ROC_AUC   0.692114  ...              0.812637  0.764571   \n",
       "          TEST_ROC_AUC  0.606998  ...              0.779523  0.765733   \n",
       "\n",
       "                                                                          \\\n",
       "                                               UHNTG                       \n",
       "                              rf       xgb        lr        rf       xgb   \n",
       "pre-covid VAL_ROC_AUC   0.782642  0.804211  0.754195  0.708317  0.781442   \n",
       "          TEST_ROC_AUC  0.803547  0.807082  0.726976  0.764703  0.776332   \n",
       "covid     VAL_ROC_AUC   0.814293  0.827120  0.716387  0.772647  0.793052   \n",
       "          TEST_ROC_AUC  0.819457  0.805789  0.696609  0.760753  0.744392   \n",
       "summer    VAL_ROC_AUC   0.752463  0.768693  0.694954  0.788208  0.832025   \n",
       "          TEST_ROC_AUC  0.770202  0.774707  0.674151  0.709262  0.704820   \n",
       "winter    VAL_ROC_AUC   0.724957  0.756307  0.635192  0.731446  0.852190   \n",
       "          TEST_ROC_AUC  0.784026  0.759509  0.741359  0.738412  0.769978   \n",
       "seasonal  VAL_ROC_AUC   0.787212  0.765824  0.753640  0.782721  0.787711   \n",
       "          TEST_ROC_AUC  0.772455  0.787183  0.721615  0.747815  0.721990   \n",
       "\n",
       "                                                      \n",
       "                           UHNTW                      \n",
       "                              lr        rf       xgb  \n",
       "pre-covid VAL_ROC_AUC   0.790147  0.834507  0.829115  \n",
       "          TEST_ROC_AUC  0.733691  0.800266  0.804448  \n",
       "covid     VAL_ROC_AUC   0.735057  0.808685  0.835661  \n",
       "          TEST_ROC_AUC  0.798331  0.865612  0.841179  \n",
       "summer    VAL_ROC_AUC   0.691193  0.834218  0.862806  \n",
       "          TEST_ROC_AUC  0.713624  0.771321  0.798468  \n",
       "winter    VAL_ROC_AUC   0.659228  0.761755  0.767065  \n",
       "          TEST_ROC_AUC  0.746516  0.757149  0.739021  \n",
       "seasonal  VAL_ROC_AUC   0.733670  0.783926  0.811153  \n",
       "          TEST_ROC_AUC  0.727170  0.846615  0.832272  \n",
       "\n",
       "[10 rows x 36 columns]"
      ]
     },
     "execution_count": 15,
     "metadata": {},
     "output_type": "execute_result"
    },
    {
     "data": {
      "application/javascript": [
       "\n",
       "            setTimeout(function() {\n",
       "                var nbb_cell_id = 15;\n",
       "                var nbb_unformatted_code = \"auc_file = PATH + \\\"/driftexp_auc.csv\\\"\\nif os.path.exists(auc_file):\\n    all_auc = pd.read_csv(auc_file, sep=\\\"\\\\t\\\", header=[0, 1, 2], index_col=[0, 1])\\nelse:\\n    all_auc = np.rollaxis(shift_auc, 4, 1)\\n    cols = pd.MultiIndex.from_product(\\n        [\\n            OUTCOMES,\\n            HOSPITALS,\\n            MODELS,\\n        ]\\n    )\\n    index = pd.MultiIndex.from_product([SHIFTS, [\\\"VAL_ROC_AUC\\\", \\\"TEST_ROC_AUC\\\"]])\\n    all_auc = all_auc.reshape(\\n        len(SHIFTS) * 2, len(OUTCOMES) * len(HOSPITALS) * len(MODELS)\\n    )\\n    all_auc = pd.DataFrame(all_auc, columns=cols, index=index)\\n    all_auc.to_csv(auc_file, sep=\\\"\\\\t\\\")\\nall_auc.head(n=10)\";\n",
       "                var nbb_formatted_code = \"auc_file = PATH + \\\"/driftexp_auc.csv\\\"\\nif os.path.exists(auc_file):\\n    all_auc = pd.read_csv(auc_file, sep=\\\"\\\\t\\\", header=[0, 1, 2], index_col=[0, 1])\\nelse:\\n    all_auc = np.rollaxis(shift_auc, 4, 1)\\n    cols = pd.MultiIndex.from_product(\\n        [\\n            OUTCOMES,\\n            HOSPITALS,\\n            MODELS,\\n        ]\\n    )\\n    index = pd.MultiIndex.from_product([SHIFTS, [\\\"VAL_ROC_AUC\\\", \\\"TEST_ROC_AUC\\\"]])\\n    all_auc = all_auc.reshape(\\n        len(SHIFTS) * 2, len(OUTCOMES) * len(HOSPITALS) * len(MODELS)\\n    )\\n    all_auc = pd.DataFrame(all_auc, columns=cols, index=index)\\n    all_auc.to_csv(auc_file, sep=\\\"\\\\t\\\")\\nall_auc.head(n=10)\";\n",
       "                var nbb_cells = Jupyter.notebook.get_cells();\n",
       "                for (var i = 0; i < nbb_cells.length; ++i) {\n",
       "                    if (nbb_cells[i].input_prompt_number == nbb_cell_id) {\n",
       "                        if (nbb_cells[i].get_text() == nbb_unformatted_code) {\n",
       "                             nbb_cells[i].set_text(nbb_formatted_code);\n",
       "                        }\n",
       "                        break;\n",
       "                    }\n",
       "                }\n",
       "            }, 500);\n",
       "            "
      ],
      "text/plain": [
       "<IPython.core.display.Javascript object>"
      ]
     },
     "metadata": {},
     "output_type": "display_data"
    }
   ],
   "source": [
    "auc_file = PATH + \"/driftexp_auc.csv\"\n",
    "if os.path.exists(auc_file):\n",
    "    all_auc = pd.read_csv(auc_file, sep=\"\\t\", header=[0, 1, 2], index_col=[0, 1])\n",
    "else:\n",
    "    all_auc = np.rollaxis(shift_auc, 4, 1)\n",
    "    cols = pd.MultiIndex.from_product(\n",
    "        [\n",
    "            OUTCOMES,\n",
    "            HOSPITALS,\n",
    "            MODELS,\n",
    "        ]\n",
    "    )\n",
    "    index = pd.MultiIndex.from_product([SHIFTS, [\"VAL_ROC_AUC\", \"TEST_ROC_AUC\"]])\n",
    "    all_auc = all_auc.reshape(\n",
    "        len(SHIFTS) * 2, len(OUTCOMES) * len(HOSPITALS) * len(MODELS)\n",
    "    )\n",
    "    all_auc = pd.DataFrame(all_auc, columns=cols, index=index)\n",
    "    all_auc.to_csv(auc_file, sep=\"\\t\")\n",
    "all_auc.head(n=10)"
   ]
  },
  {
   "cell_type": "markdown",
   "id": "ongoing-massachusetts",
   "metadata": {},
   "source": [
    "## Avg Precision ## "
   ]
  },
  {
   "cell_type": "code",
   "execution_count": 10,
   "id": "appointed-parent",
   "metadata": {},
   "outputs": [
    {
     "data": {
      "text/html": [
       "<div>\n",
       "<style scoped>\n",
       "    .dataframe tbody tr th:only-of-type {\n",
       "        vertical-align: middle;\n",
       "    }\n",
       "\n",
       "    .dataframe tbody tr th {\n",
       "        vertical-align: top;\n",
       "    }\n",
       "\n",
       "    .dataframe thead tr th {\n",
       "        text-align: left;\n",
       "    }\n",
       "</style>\n",
       "<table border=\"1\" class=\"dataframe\">\n",
       "  <thead>\n",
       "    <tr>\n",
       "      <th></th>\n",
       "      <th></th>\n",
       "      <th colspan=\"10\" halign=\"left\">length_of_stay_in_er</th>\n",
       "      <th>...</th>\n",
       "      <th colspan=\"10\" halign=\"left\">mortality_in_hospital</th>\n",
       "    </tr>\n",
       "    <tr>\n",
       "      <th></th>\n",
       "      <th></th>\n",
       "      <th colspan=\"3\" halign=\"left\">SMH</th>\n",
       "      <th colspan=\"3\" halign=\"left\">MSH</th>\n",
       "      <th colspan=\"3\" halign=\"left\">THPC</th>\n",
       "      <th>THPM</th>\n",
       "      <th>...</th>\n",
       "      <th>THPC</th>\n",
       "      <th colspan=\"3\" halign=\"left\">THPM</th>\n",
       "      <th colspan=\"3\" halign=\"left\">UHNTG</th>\n",
       "      <th colspan=\"3\" halign=\"left\">UHNTW</th>\n",
       "    </tr>\n",
       "    <tr>\n",
       "      <th></th>\n",
       "      <th></th>\n",
       "      <th>lr</th>\n",
       "      <th>rf</th>\n",
       "      <th>xgb</th>\n",
       "      <th>lr</th>\n",
       "      <th>rf</th>\n",
       "      <th>xgb</th>\n",
       "      <th>lr</th>\n",
       "      <th>rf</th>\n",
       "      <th>xgb</th>\n",
       "      <th>lr</th>\n",
       "      <th>...</th>\n",
       "      <th>xgb</th>\n",
       "      <th>lr</th>\n",
       "      <th>rf</th>\n",
       "      <th>xgb</th>\n",
       "      <th>lr</th>\n",
       "      <th>rf</th>\n",
       "      <th>xgb</th>\n",
       "      <th>lr</th>\n",
       "      <th>rf</th>\n",
       "      <th>xgb</th>\n",
       "    </tr>\n",
       "  </thead>\n",
       "  <tbody>\n",
       "    <tr>\n",
       "      <th rowspan=\"2\" valign=\"top\">pre-covid</th>\n",
       "      <th>VAL_AVG_PR</th>\n",
       "      <td>0.963674</td>\n",
       "      <td>0.957496</td>\n",
       "      <td>0.965287</td>\n",
       "      <td>0.926774</td>\n",
       "      <td>0.951242</td>\n",
       "      <td>0.940339</td>\n",
       "      <td>0.982330</td>\n",
       "      <td>0.980631</td>\n",
       "      <td>0.984906</td>\n",
       "      <td>0.932441</td>\n",
       "      <td>...</td>\n",
       "      <td>0.217650</td>\n",
       "      <td>0.265299</td>\n",
       "      <td>0.274416</td>\n",
       "      <td>0.290236</td>\n",
       "      <td>0.262854</td>\n",
       "      <td>0.135012</td>\n",
       "      <td>0.282909</td>\n",
       "      <td>0.195200</td>\n",
       "      <td>0.280007</td>\n",
       "      <td>0.273449</td>\n",
       "    </tr>\n",
       "    <tr>\n",
       "      <th>TEST_AVG_PR</th>\n",
       "      <td>0.956293</td>\n",
       "      <td>0.947867</td>\n",
       "      <td>0.950945</td>\n",
       "      <td>0.944635</td>\n",
       "      <td>0.940464</td>\n",
       "      <td>0.940862</td>\n",
       "      <td>0.983729</td>\n",
       "      <td>0.982424</td>\n",
       "      <td>0.988094</td>\n",
       "      <td>0.929164</td>\n",
       "      <td>...</td>\n",
       "      <td>0.237370</td>\n",
       "      <td>0.255550</td>\n",
       "      <td>0.305829</td>\n",
       "      <td>0.318708</td>\n",
       "      <td>0.178841</td>\n",
       "      <td>0.200371</td>\n",
       "      <td>0.236748</td>\n",
       "      <td>0.152695</td>\n",
       "      <td>0.241591</td>\n",
       "      <td>0.238829</td>\n",
       "    </tr>\n",
       "    <tr>\n",
       "      <th rowspan=\"2\" valign=\"top\">covid</th>\n",
       "      <th>VAL_AVG_PR</th>\n",
       "      <td>0.952438</td>\n",
       "      <td>0.959760</td>\n",
       "      <td>0.983736</td>\n",
       "      <td>0.942762</td>\n",
       "      <td>0.942892</td>\n",
       "      <td>0.949709</td>\n",
       "      <td>0.983655</td>\n",
       "      <td>0.978965</td>\n",
       "      <td>0.986268</td>\n",
       "      <td>0.938714</td>\n",
       "      <td>...</td>\n",
       "      <td>0.269774</td>\n",
       "      <td>0.273020</td>\n",
       "      <td>0.353413</td>\n",
       "      <td>0.365054</td>\n",
       "      <td>0.198689</td>\n",
       "      <td>0.227043</td>\n",
       "      <td>0.244693</td>\n",
       "      <td>0.136230</td>\n",
       "      <td>0.218985</td>\n",
       "      <td>0.268443</td>\n",
       "    </tr>\n",
       "    <tr>\n",
       "      <th>TEST_AVG_PR</th>\n",
       "      <td>0.927761</td>\n",
       "      <td>0.928200</td>\n",
       "      <td>0.924837</td>\n",
       "      <td>0.888672</td>\n",
       "      <td>0.884944</td>\n",
       "      <td>0.901402</td>\n",
       "      <td>0.964567</td>\n",
       "      <td>0.967740</td>\n",
       "      <td>0.971053</td>\n",
       "      <td>0.845510</td>\n",
       "      <td>...</td>\n",
       "      <td>0.296712</td>\n",
       "      <td>0.295666</td>\n",
       "      <td>0.429879</td>\n",
       "      <td>0.392413</td>\n",
       "      <td>0.137305</td>\n",
       "      <td>0.187095</td>\n",
       "      <td>0.178531</td>\n",
       "      <td>0.320630</td>\n",
       "      <td>0.414761</td>\n",
       "      <td>0.374917</td>\n",
       "    </tr>\n",
       "    <tr>\n",
       "      <th rowspan=\"2\" valign=\"top\">summer</th>\n",
       "      <th>VAL_AVG_PR</th>\n",
       "      <td>0.969173</td>\n",
       "      <td>0.933612</td>\n",
       "      <td>0.962087</td>\n",
       "      <td>0.863009</td>\n",
       "      <td>0.906191</td>\n",
       "      <td>0.907414</td>\n",
       "      <td>0.973521</td>\n",
       "      <td>0.980335</td>\n",
       "      <td>0.992943</td>\n",
       "      <td>0.875732</td>\n",
       "      <td>...</td>\n",
       "      <td>0.248100</td>\n",
       "      <td>0.168429</td>\n",
       "      <td>0.290750</td>\n",
       "      <td>0.260715</td>\n",
       "      <td>0.139840</td>\n",
       "      <td>0.228221</td>\n",
       "      <td>0.237840</td>\n",
       "      <td>0.227963</td>\n",
       "      <td>0.331556</td>\n",
       "      <td>0.237442</td>\n",
       "    </tr>\n",
       "    <tr>\n",
       "      <th>TEST_AVG_PR</th>\n",
       "      <td>0.942457</td>\n",
       "      <td>0.948574</td>\n",
       "      <td>0.932642</td>\n",
       "      <td>0.936357</td>\n",
       "      <td>0.922450</td>\n",
       "      <td>0.917540</td>\n",
       "      <td>0.976327</td>\n",
       "      <td>0.978225</td>\n",
       "      <td>0.980445</td>\n",
       "      <td>0.871457</td>\n",
       "      <td>...</td>\n",
       "      <td>0.196609</td>\n",
       "      <td>0.204482</td>\n",
       "      <td>0.273205</td>\n",
       "      <td>0.250202</td>\n",
       "      <td>0.153771</td>\n",
       "      <td>0.145883</td>\n",
       "      <td>0.196804</td>\n",
       "      <td>0.084398</td>\n",
       "      <td>0.128524</td>\n",
       "      <td>0.122906</td>\n",
       "    </tr>\n",
       "    <tr>\n",
       "      <th rowspan=\"2\" valign=\"top\">winter</th>\n",
       "      <th>VAL_AVG_PR</th>\n",
       "      <td>0.979877</td>\n",
       "      <td>0.962251</td>\n",
       "      <td>0.976883</td>\n",
       "      <td>0.945810</td>\n",
       "      <td>0.956542</td>\n",
       "      <td>0.952512</td>\n",
       "      <td>0.980808</td>\n",
       "      <td>0.984828</td>\n",
       "      <td>0.987487</td>\n",
       "      <td>0.964484</td>\n",
       "      <td>...</td>\n",
       "      <td>0.285717</td>\n",
       "      <td>0.266758</td>\n",
       "      <td>0.239860</td>\n",
       "      <td>0.233866</td>\n",
       "      <td>0.160526</td>\n",
       "      <td>0.166549</td>\n",
       "      <td>0.262022</td>\n",
       "      <td>0.096555</td>\n",
       "      <td>0.173653</td>\n",
       "      <td>0.199901</td>\n",
       "    </tr>\n",
       "    <tr>\n",
       "      <th>TEST_AVG_PR</th>\n",
       "      <td>0.936335</td>\n",
       "      <td>0.937453</td>\n",
       "      <td>0.939887</td>\n",
       "      <td>0.946463</td>\n",
       "      <td>0.963494</td>\n",
       "      <td>0.965041</td>\n",
       "      <td>0.981497</td>\n",
       "      <td>0.985908</td>\n",
       "      <td>0.991629</td>\n",
       "      <td>0.947651</td>\n",
       "      <td>...</td>\n",
       "      <td>0.211780</td>\n",
       "      <td>0.184521</td>\n",
       "      <td>0.245788</td>\n",
       "      <td>0.230327</td>\n",
       "      <td>0.245367</td>\n",
       "      <td>0.234943</td>\n",
       "      <td>0.205297</td>\n",
       "      <td>0.205953</td>\n",
       "      <td>0.254280</td>\n",
       "      <td>0.233798</td>\n",
       "    </tr>\n",
       "    <tr>\n",
       "      <th rowspan=\"2\" valign=\"top\">seasonal</th>\n",
       "      <th>VAL_AVG_PR</th>\n",
       "      <td>0.938586</td>\n",
       "      <td>0.966905</td>\n",
       "      <td>0.967252</td>\n",
       "      <td>0.967191</td>\n",
       "      <td>0.981668</td>\n",
       "      <td>0.978245</td>\n",
       "      <td>0.990071</td>\n",
       "      <td>0.983908</td>\n",
       "      <td>0.994544</td>\n",
       "      <td>0.963572</td>\n",
       "      <td>...</td>\n",
       "      <td>0.283362</td>\n",
       "      <td>0.194406</td>\n",
       "      <td>0.316601</td>\n",
       "      <td>0.292216</td>\n",
       "      <td>0.182191</td>\n",
       "      <td>0.234296</td>\n",
       "      <td>0.268850</td>\n",
       "      <td>0.239683</td>\n",
       "      <td>0.224483</td>\n",
       "      <td>0.276819</td>\n",
       "    </tr>\n",
       "    <tr>\n",
       "      <th>TEST_AVG_PR</th>\n",
       "      <td>0.943202</td>\n",
       "      <td>0.941331</td>\n",
       "      <td>0.934854</td>\n",
       "      <td>0.896710</td>\n",
       "      <td>0.905960</td>\n",
       "      <td>0.909699</td>\n",
       "      <td>0.972416</td>\n",
       "      <td>0.978704</td>\n",
       "      <td>0.979741</td>\n",
       "      <td>0.892374</td>\n",
       "      <td>...</td>\n",
       "      <td>0.206595</td>\n",
       "      <td>0.217188</td>\n",
       "      <td>0.257224</td>\n",
       "      <td>0.248178</td>\n",
       "      <td>0.143607</td>\n",
       "      <td>0.166247</td>\n",
       "      <td>0.180682</td>\n",
       "      <td>0.179391</td>\n",
       "      <td>0.207600</td>\n",
       "      <td>0.223105</td>\n",
       "    </tr>\n",
       "  </tbody>\n",
       "</table>\n",
       "<p>10 rows × 36 columns</p>\n",
       "</div>"
      ],
      "text/plain": [
       "                      length_of_stay_in_er                                \\\n",
       "                                       SMH                           MSH   \n",
       "                                        lr        rf       xgb        lr   \n",
       "pre-covid VAL_AVG_PR              0.963674  0.957496  0.965287  0.926774   \n",
       "          TEST_AVG_PR             0.956293  0.947867  0.950945  0.944635   \n",
       "covid     VAL_AVG_PR              0.952438  0.959760  0.983736  0.942762   \n",
       "          TEST_AVG_PR             0.927761  0.928200  0.924837  0.888672   \n",
       "summer    VAL_AVG_PR              0.969173  0.933612  0.962087  0.863009   \n",
       "          TEST_AVG_PR             0.942457  0.948574  0.932642  0.936357   \n",
       "winter    VAL_AVG_PR              0.979877  0.962251  0.976883  0.945810   \n",
       "          TEST_AVG_PR             0.936335  0.937453  0.939887  0.946463   \n",
       "seasonal  VAL_AVG_PR              0.938586  0.966905  0.967252  0.967191   \n",
       "          TEST_AVG_PR             0.943202  0.941331  0.934854  0.896710   \n",
       "\n",
       "                                                                         \\\n",
       "                                               THPC                       \n",
       "                             rf       xgb        lr        rf       xgb   \n",
       "pre-covid VAL_AVG_PR   0.951242  0.940339  0.982330  0.980631  0.984906   \n",
       "          TEST_AVG_PR  0.940464  0.940862  0.983729  0.982424  0.988094   \n",
       "covid     VAL_AVG_PR   0.942892  0.949709  0.983655  0.978965  0.986268   \n",
       "          TEST_AVG_PR  0.884944  0.901402  0.964567  0.967740  0.971053   \n",
       "summer    VAL_AVG_PR   0.906191  0.907414  0.973521  0.980335  0.992943   \n",
       "          TEST_AVG_PR  0.922450  0.917540  0.976327  0.978225  0.980445   \n",
       "winter    VAL_AVG_PR   0.956542  0.952512  0.980808  0.984828  0.987487   \n",
       "          TEST_AVG_PR  0.963494  0.965041  0.981497  0.985908  0.991629   \n",
       "seasonal  VAL_AVG_PR   0.981668  0.978245  0.990071  0.983908  0.994544   \n",
       "          TEST_AVG_PR  0.905960  0.909699  0.972416  0.978704  0.979741   \n",
       "\n",
       "                                 ... mortality_in_hospital            \\\n",
       "                           THPM  ...                  THPC      THPM   \n",
       "                             lr  ...                   xgb        lr   \n",
       "pre-covid VAL_AVG_PR   0.932441  ...              0.217650  0.265299   \n",
       "          TEST_AVG_PR  0.929164  ...              0.237370  0.255550   \n",
       "covid     VAL_AVG_PR   0.938714  ...              0.269774  0.273020   \n",
       "          TEST_AVG_PR  0.845510  ...              0.296712  0.295666   \n",
       "summer    VAL_AVG_PR   0.875732  ...              0.248100  0.168429   \n",
       "          TEST_AVG_PR  0.871457  ...              0.196609  0.204482   \n",
       "winter    VAL_AVG_PR   0.964484  ...              0.285717  0.266758   \n",
       "          TEST_AVG_PR  0.947651  ...              0.211780  0.184521   \n",
       "seasonal  VAL_AVG_PR   0.963572  ...              0.283362  0.194406   \n",
       "          TEST_AVG_PR  0.892374  ...              0.206595  0.217188   \n",
       "\n",
       "                                                                         \\\n",
       "                                              UHNTG                       \n",
       "                             rf       xgb        lr        rf       xgb   \n",
       "pre-covid VAL_AVG_PR   0.274416  0.290236  0.262854  0.135012  0.282909   \n",
       "          TEST_AVG_PR  0.305829  0.318708  0.178841  0.200371  0.236748   \n",
       "covid     VAL_AVG_PR   0.353413  0.365054  0.198689  0.227043  0.244693   \n",
       "          TEST_AVG_PR  0.429879  0.392413  0.137305  0.187095  0.178531   \n",
       "summer    VAL_AVG_PR   0.290750  0.260715  0.139840  0.228221  0.237840   \n",
       "          TEST_AVG_PR  0.273205  0.250202  0.153771  0.145883  0.196804   \n",
       "winter    VAL_AVG_PR   0.239860  0.233866  0.160526  0.166549  0.262022   \n",
       "          TEST_AVG_PR  0.245788  0.230327  0.245367  0.234943  0.205297   \n",
       "seasonal  VAL_AVG_PR   0.316601  0.292216  0.182191  0.234296  0.268850   \n",
       "          TEST_AVG_PR  0.257224  0.248178  0.143607  0.166247  0.180682   \n",
       "\n",
       "                                                     \n",
       "                          UHNTW                      \n",
       "                             lr        rf       xgb  \n",
       "pre-covid VAL_AVG_PR   0.195200  0.280007  0.273449  \n",
       "          TEST_AVG_PR  0.152695  0.241591  0.238829  \n",
       "covid     VAL_AVG_PR   0.136230  0.218985  0.268443  \n",
       "          TEST_AVG_PR  0.320630  0.414761  0.374917  \n",
       "summer    VAL_AVG_PR   0.227963  0.331556  0.237442  \n",
       "          TEST_AVG_PR  0.084398  0.128524  0.122906  \n",
       "winter    VAL_AVG_PR   0.096555  0.173653  0.199901  \n",
       "          TEST_AVG_PR  0.205953  0.254280  0.233798  \n",
       "seasonal  VAL_AVG_PR   0.239683  0.224483  0.276819  \n",
       "          TEST_AVG_PR  0.179391  0.207600  0.223105  \n",
       "\n",
       "[10 rows x 36 columns]"
      ]
     },
     "execution_count": 10,
     "metadata": {},
     "output_type": "execute_result"
    },
    {
     "data": {
      "application/javascript": [
       "\n",
       "            setTimeout(function() {\n",
       "                var nbb_cell_id = 10;\n",
       "                var nbb_unformatted_code = \"pr_file = PATH + \\\"/driftexp_pr.csv\\\"\\n#if os.path.exists(pr_file):\\n#    pr = pd.read_csv(pr_file, sep=\\\"\\\\t\\\", header=[0, 1, 2], index_col=[0, 1])\\n#else:\\nif True:\\n    pr = np.rollaxis(shift_pr, 4, 1)\\n    cols = pd.MultiIndex.from_product([OUTCOMES, HOSPITALS, MODELS])\\n    index = pd.MultiIndex.from_product([SHIFTS, [\\\"VAL_AVG_PR\\\", \\\"TEST_AVG_PR\\\"]])\\n    pr = pr.reshape(len(SHIFTS) * 2, len(OUTCOMES) * len(HOSPITALS) * len(MODELS))\\n    pr = pd.DataFrame(pr, columns=cols, index=index)\\n    pr.to_csv(pr_file, sep=\\\"\\\\t\\\")\\npr.head(n=10)\";\n",
       "                var nbb_formatted_code = \"pr_file = PATH + \\\"/driftexp_pr.csv\\\"\\n# if os.path.exists(pr_file):\\n#    pr = pd.read_csv(pr_file, sep=\\\"\\\\t\\\", header=[0, 1, 2], index_col=[0, 1])\\n# else:\\nif True:\\n    pr = np.rollaxis(shift_pr, 4, 1)\\n    cols = pd.MultiIndex.from_product([OUTCOMES, HOSPITALS, MODELS])\\n    index = pd.MultiIndex.from_product([SHIFTS, [\\\"VAL_AVG_PR\\\", \\\"TEST_AVG_PR\\\"]])\\n    pr = pr.reshape(len(SHIFTS) * 2, len(OUTCOMES) * len(HOSPITALS) * len(MODELS))\\n    pr = pd.DataFrame(pr, columns=cols, index=index)\\n    pr.to_csv(pr_file, sep=\\\"\\\\t\\\")\\npr.head(n=10)\";\n",
       "                var nbb_cells = Jupyter.notebook.get_cells();\n",
       "                for (var i = 0; i < nbb_cells.length; ++i) {\n",
       "                    if (nbb_cells[i].input_prompt_number == nbb_cell_id) {\n",
       "                        if (nbb_cells[i].get_text() == nbb_unformatted_code) {\n",
       "                             nbb_cells[i].set_text(nbb_formatted_code);\n",
       "                        }\n",
       "                        break;\n",
       "                    }\n",
       "                }\n",
       "            }, 500);\n",
       "            "
      ],
      "text/plain": [
       "<IPython.core.display.Javascript object>"
      ]
     },
     "metadata": {},
     "output_type": "display_data"
    }
   ],
   "source": [
    "pr_file = PATH + \"/driftexp_pr.csv\"\n",
    "if os.path.exists(pr_file):\n",
    "    pr = pd.read_csv(pr_file, sep=\"\\t\", header=[0, 1, 2], index_col=[0, 1])\n",
    "else:\n",
    "    pr = np.rollaxis(shift_pr, 4, 1)\n",
    "    cols = pd.MultiIndex.from_product([OUTCOMES, HOSPITALS, MODELS])\n",
    "    index = pd.MultiIndex.from_product([SHIFTS, [\"VAL_AVG_PR\", \"TEST_AVG_PR\"]])\n",
    "    pr = pr.reshape(len(SHIFTS) * 2, len(OUTCOMES) * len(HOSPITALS) * len(MODELS))\n",
    "    pr = pd.DataFrame(pr, columns=cols, index=index)\n",
    "    pr.to_csv(pr_file, sep=\"\\t\")\n",
    "pr.head(n=10)"
   ]
  },
  {
   "cell_type": "markdown",
   "id": "nervous-homeless",
   "metadata": {},
   "source": [
    "## Drift Detection ##"
   ]
  },
  {
   "cell_type": "code",
   "execution_count": 3,
   "id": "junior-france",
   "metadata": {},
   "outputs": [
    {
     "data": {
      "application/javascript": [
       "\n",
       "            setTimeout(function() {\n",
       "                var nbb_cell_id = 3;\n",
       "                var nbb_unformatted_code = \"# Run shift experiments\\nif os.path.exists(PATH + \\\"/mean_dr_md.pkl\\\"):\\n    with open(PATH + \\\"/mean_dr_md.pkl\\\", \\\"rb\\\") as f:\\n        mean_dr_md = pickle.load(f)\\nelse:\\n    mean_dr_md = np.ones(\\n        (len(SHIFTS), len(HOSPITALS), len(DR_TECHNIQUES), len(MD_TESTS), len(SAMPLES))\\n    ) * (-1)\\n\\nif os.path.exists(PATH + \\\"/std_dr_md.pkl\\\"):\\n    with open(PATH + \\\"/std_dr_md.pkl\\\", \\\"rb\\\") as f:\\n        std_dr_md = pickle.load(f)\\nelse:\\n    std_dr_md = np.ones(\\n        (len(SHIFTS), len(HOSPITALS), len(DR_TECHNIQUES), len(MD_TESTS), len(SAMPLES))\\n    ) * (-1)\\n\\nfor si, SHIFT in enumerate(SHIFTS):\\n    for hi, HOSPITAL in enumerate(HOSPITALS):\\n        for di, DR_TECHNIQUE in enumerate(DR_TECHNIQUES):\\n            for mi, MD_TEST in enumerate(MD_TESTS):\\n                if np.any(mean_dr_md[si, hi, di, mi, :] == -1):\\n                    print(\\n                        \\\"{} | {} | {} | {}\\\".format(\\n                            SHIFT, HOSPITAL, DR_TECHNIQUE, MD_TEST\\n                        )\\n                    )\\n                    try:\\n                        mean_p_vals, std_p_vals = run_shift_experiment(\\n                            SHIFT,\\n                            OUTCOME,\\n                            HOSPITAL,\\n                            PATH,\\n                            DR_TECHNIQUE,\\n                            MD_TEST,\\n                            SAMPLES,\\n                            DATASET,\\n                            SIGN_LEVEL,\\n                            NA_CUTOFF,\\n                            RANDOM_RUNS,\\n                            calc_acc=True,\\n                        )\\n                        mean_dr_md[si, hi, di, mi, :] = mean_p_vals\\n                        std_dr_md[si, hi, di, mi, :] = std_p_vals\\n                    except ValueError as e:\\n                        print(\\\"Value Error\\\")\\n                        pass\";\n",
       "                var nbb_formatted_code = \"# Run shift experiments\\nif os.path.exists(PATH + \\\"/mean_dr_md.pkl\\\"):\\n    with open(PATH + \\\"/mean_dr_md.pkl\\\", \\\"rb\\\") as f:\\n        mean_dr_md = pickle.load(f)\\nelse:\\n    mean_dr_md = np.ones(\\n        (len(SHIFTS), len(HOSPITALS), len(DR_TECHNIQUES), len(MD_TESTS), len(SAMPLES))\\n    ) * (-1)\\n\\nif os.path.exists(PATH + \\\"/std_dr_md.pkl\\\"):\\n    with open(PATH + \\\"/std_dr_md.pkl\\\", \\\"rb\\\") as f:\\n        std_dr_md = pickle.load(f)\\nelse:\\n    std_dr_md = np.ones(\\n        (len(SHIFTS), len(HOSPITALS), len(DR_TECHNIQUES), len(MD_TESTS), len(SAMPLES))\\n    ) * (-1)\\n\\nfor si, SHIFT in enumerate(SHIFTS):\\n    for hi, HOSPITAL in enumerate(HOSPITALS):\\n        for di, DR_TECHNIQUE in enumerate(DR_TECHNIQUES):\\n            for mi, MD_TEST in enumerate(MD_TESTS):\\n                if np.any(mean_dr_md[si, hi, di, mi, :] == -1):\\n                    print(\\n                        \\\"{} | {} | {} | {}\\\".format(\\n                            SHIFT, HOSPITAL, DR_TECHNIQUE, MD_TEST\\n                        )\\n                    )\\n                    try:\\n                        mean_p_vals, std_p_vals = run_shift_experiment(\\n                            SHIFT,\\n                            OUTCOME,\\n                            HOSPITAL,\\n                            PATH,\\n                            DR_TECHNIQUE,\\n                            MD_TEST,\\n                            SAMPLES,\\n                            DATASET,\\n                            SIGN_LEVEL,\\n                            NA_CUTOFF,\\n                            RANDOM_RUNS,\\n                            calc_acc=True,\\n                        )\\n                        mean_dr_md[si, hi, di, mi, :] = mean_p_vals\\n                        std_dr_md[si, hi, di, mi, :] = std_p_vals\\n                    except ValueError as e:\\n                        print(\\\"Value Error\\\")\\n                        pass\";\n",
       "                var nbb_cells = Jupyter.notebook.get_cells();\n",
       "                for (var i = 0; i < nbb_cells.length; ++i) {\n",
       "                    if (nbb_cells[i].input_prompt_number == nbb_cell_id) {\n",
       "                        if (nbb_cells[i].get_text() == nbb_unformatted_code) {\n",
       "                             nbb_cells[i].set_text(nbb_formatted_code);\n",
       "                        }\n",
       "                        break;\n",
       "                    }\n",
       "                }\n",
       "            }, 500);\n",
       "            "
      ],
      "text/plain": [
       "<IPython.core.display.Javascript object>"
      ]
     },
     "metadata": {},
     "output_type": "display_data"
    }
   ],
   "source": [
    "# Run shift experiments\n",
    "if os.path.exists(PATH + \"/mean_dr_md.pkl\"):\n",
    "    with open(PATH + \"/mean_dr_md.pkl\", \"rb\") as f:\n",
    "        mean_dr_md = pickle.load(f)\n",
    "else:\n",
    "    mean_dr_md = np.ones(\n",
    "        (len(SHIFTS), len(HOSPITALS), len(DR_TECHNIQUES), len(MD_TESTS), len(SAMPLES))\n",
    "    ) * (-1)\n",
    "\n",
    "if os.path.exists(PATH + \"/std_dr_md.pkl\"):\n",
    "    with open(PATH + \"/std_dr_md.pkl\", \"rb\") as f:\n",
    "        std_dr_md = pickle.load(f)\n",
    "else:\n",
    "    std_dr_md = np.ones(\n",
    "        (len(SHIFTS), len(HOSPITALS), len(DR_TECHNIQUES), len(MD_TESTS), len(SAMPLES))\n",
    "    ) * (-1)\n",
    "\n",
    "for si, SHIFT in enumerate(SHIFTS):\n",
    "    for hi, HOSPITAL in enumerate(HOSPITALS):\n",
    "        for di, DR_TECHNIQUE in enumerate(DR_TECHNIQUES):\n",
    "            for mi, MD_TEST in enumerate(MD_TESTS):\n",
    "                if np.any(mean_dr_md[si, hi, di, mi, :] == -1):\n",
    "                    print(\n",
    "                        \"{} | {} | {} | {}\".format(\n",
    "                            SHIFT, HOSPITAL, DR_TECHNIQUE, MD_TEST\n",
    "                        )\n",
    "                    )\n",
    "                    try:\n",
    "                        mean_p_vals, std_p_vals = run_shift_experiment(\n",
    "                            SHIFT,\n",
    "                            OUTCOME,\n",
    "                            HOSPITAL,\n",
    "                            PATH,\n",
    "                            DR_TECHNIQUE,\n",
    "                            MD_TEST,\n",
    "                            SAMPLES,\n",
    "                            DATASET,\n",
    "                            SIGN_LEVEL,\n",
    "                            NA_CUTOFF,\n",
    "                            RANDOM_RUNS,\n",
    "                            calc_acc=True,\n",
    "                        )\n",
    "                        mean_dr_md[si, hi, di, mi, :] = mean_p_vals\n",
    "                        std_dr_md[si, hi, di, mi, :] = std_p_vals\n",
    "                    except ValueError as e:\n",
    "                        print(\"Value Error\")\n",
    "                        pass"
   ]
  },
  {
   "cell_type": "code",
   "execution_count": 4,
   "id": "excessive-jacob",
   "metadata": {},
   "outputs": [
    {
     "data": {
      "text/html": [
       "<div>\n",
       "<style scoped>\n",
       "    .dataframe tbody tr th:only-of-type {\n",
       "        vertical-align: middle;\n",
       "    }\n",
       "\n",
       "    .dataframe tbody tr th {\n",
       "        vertical-align: top;\n",
       "    }\n",
       "\n",
       "    .dataframe thead tr th {\n",
       "        text-align: left;\n",
       "    }\n",
       "\n",
       "    .dataframe thead tr:last-of-type th {\n",
       "        text-align: right;\n",
       "    }\n",
       "</style>\n",
       "<table border=\"1\" class=\"dataframe\">\n",
       "  <thead>\n",
       "    <tr>\n",
       "      <th></th>\n",
       "      <th></th>\n",
       "      <th></th>\n",
       "      <th colspan=\"3\" halign=\"left\">NoRed</th>\n",
       "      <th colspan=\"3\" halign=\"left\">SRP</th>\n",
       "      <th colspan=\"3\" halign=\"left\">PCA</th>\n",
       "      <th colspan=\"3\" halign=\"left\">BBSDs_FFNN</th>\n",
       "    </tr>\n",
       "    <tr>\n",
       "      <th></th>\n",
       "      <th></th>\n",
       "      <th></th>\n",
       "      <th>MMD</th>\n",
       "      <th>LK</th>\n",
       "      <th>LSDD</th>\n",
       "      <th>MMD</th>\n",
       "      <th>LK</th>\n",
       "      <th>LSDD</th>\n",
       "      <th>MMD</th>\n",
       "      <th>LK</th>\n",
       "      <th>LSDD</th>\n",
       "      <th>MMD</th>\n",
       "      <th>LK</th>\n",
       "      <th>LSDD</th>\n",
       "    </tr>\n",
       "    <tr>\n",
       "      <th>Dataset</th>\n",
       "      <th>Hospital</th>\n",
       "      <th>Samples</th>\n",
       "      <th></th>\n",
       "      <th></th>\n",
       "      <th></th>\n",
       "      <th></th>\n",
       "      <th></th>\n",
       "      <th></th>\n",
       "      <th></th>\n",
       "      <th></th>\n",
       "      <th></th>\n",
       "      <th></th>\n",
       "      <th></th>\n",
       "      <th></th>\n",
       "    </tr>\n",
       "  </thead>\n",
       "  <tbody>\n",
       "    <tr>\n",
       "      <th rowspan=\"16\" valign=\"top\">pre-covid</th>\n",
       "      <th rowspan=\"8\" valign=\"top\">SMH</th>\n",
       "      <th>10</th>\n",
       "      <td>0.374</td>\n",
       "      <td>0.456</td>\n",
       "      <td>0.154</td>\n",
       "      <td>0.488</td>\n",
       "      <td>0.418</td>\n",
       "      <td>0.316</td>\n",
       "      <td>0.388</td>\n",
       "      <td>0.410</td>\n",
       "      <td>0.708</td>\n",
       "      <td>0.510</td>\n",
       "      <td>0.410</td>\n",
       "      <td>0.464</td>\n",
       "    </tr>\n",
       "    <tr>\n",
       "      <th>20</th>\n",
       "      <td>0.316</td>\n",
       "      <td>0.476</td>\n",
       "      <td>0.032</td>\n",
       "      <td>0.362</td>\n",
       "      <td>0.608</td>\n",
       "      <td>0.358</td>\n",
       "      <td>0.334</td>\n",
       "      <td>0.390</td>\n",
       "      <td>0.548</td>\n",
       "      <td>0.412</td>\n",
       "      <td>0.504</td>\n",
       "      <td>0.480</td>\n",
       "    </tr>\n",
       "    <tr>\n",
       "      <th>50</th>\n",
       "      <td>0.264</td>\n",
       "      <td>0.426</td>\n",
       "      <td>0.070</td>\n",
       "      <td>0.578</td>\n",
       "      <td>0.402</td>\n",
       "      <td>0.428</td>\n",
       "      <td>0.300</td>\n",
       "      <td>0.458</td>\n",
       "      <td>0.464</td>\n",
       "      <td>0.356</td>\n",
       "      <td>0.280</td>\n",
       "      <td>0.428</td>\n",
       "    </tr>\n",
       "    <tr>\n",
       "      <th>100</th>\n",
       "      <td>0.182</td>\n",
       "      <td>0.492</td>\n",
       "      <td>0.488</td>\n",
       "      <td>0.622</td>\n",
       "      <td>0.468</td>\n",
       "      <td>0.344</td>\n",
       "      <td>0.174</td>\n",
       "      <td>0.664</td>\n",
       "      <td>0.254</td>\n",
       "      <td>0.376</td>\n",
       "      <td>0.750</td>\n",
       "      <td>0.332</td>\n",
       "    </tr>\n",
       "    <tr>\n",
       "      <th>200</th>\n",
       "      <td>0.190</td>\n",
       "      <td>0.436</td>\n",
       "      <td>0.402</td>\n",
       "      <td>0.432</td>\n",
       "      <td>0.478</td>\n",
       "      <td>0.424</td>\n",
       "      <td>0.194</td>\n",
       "      <td>0.418</td>\n",
       "      <td>0.222</td>\n",
       "      <td>0.438</td>\n",
       "      <td>0.368</td>\n",
       "      <td>0.250</td>\n",
       "    </tr>\n",
       "    <tr>\n",
       "      <th>500</th>\n",
       "      <td>0.384</td>\n",
       "      <td>0.340</td>\n",
       "      <td>0.534</td>\n",
       "      <td>0.504</td>\n",
       "      <td>0.520</td>\n",
       "      <td>0.476</td>\n",
       "      <td>0.336</td>\n",
       "      <td>0.402</td>\n",
       "      <td>0.464</td>\n",
       "      <td>0.360</td>\n",
       "      <td>0.222</td>\n",
       "      <td>0.516</td>\n",
       "    </tr>\n",
       "    <tr>\n",
       "      <th>1000</th>\n",
       "      <td>0.080</td>\n",
       "      <td>0.468</td>\n",
       "      <td>0.648</td>\n",
       "      <td>0.480</td>\n",
       "      <td>0.234</td>\n",
       "      <td>0.534</td>\n",
       "      <td>0.074</td>\n",
       "      <td>0.532</td>\n",
       "      <td>0.140</td>\n",
       "      <td>0.282</td>\n",
       "      <td>0.620</td>\n",
       "      <td>0.188</td>\n",
       "    </tr>\n",
       "    <tr>\n",
       "      <th>2000</th>\n",
       "      <td>0.336</td>\n",
       "      <td>0.294</td>\n",
       "      <td>0.752</td>\n",
       "      <td>0.518</td>\n",
       "      <td>0.390</td>\n",
       "      <td>0.434</td>\n",
       "      <td>0.354</td>\n",
       "      <td>0.456</td>\n",
       "      <td>0.304</td>\n",
       "      <td>0.508</td>\n",
       "      <td>0.516</td>\n",
       "      <td>0.690</td>\n",
       "    </tr>\n",
       "    <tr>\n",
       "      <th rowspan=\"8\" valign=\"top\">MSH</th>\n",
       "      <th>10</th>\n",
       "      <td>0.572</td>\n",
       "      <td>0.522</td>\n",
       "      <td>0.122</td>\n",
       "      <td>0.350</td>\n",
       "      <td>0.384</td>\n",
       "      <td>0.192</td>\n",
       "      <td>0.576</td>\n",
       "      <td>0.566</td>\n",
       "      <td>0.252</td>\n",
       "      <td>0.372</td>\n",
       "      <td>0.470</td>\n",
       "      <td>0.312</td>\n",
       "    </tr>\n",
       "    <tr>\n",
       "      <th>20</th>\n",
       "      <td>0.672</td>\n",
       "      <td>0.674</td>\n",
       "      <td>0.382</td>\n",
       "      <td>0.450</td>\n",
       "      <td>0.658</td>\n",
       "      <td>0.586</td>\n",
       "      <td>0.660</td>\n",
       "      <td>0.656</td>\n",
       "      <td>0.558</td>\n",
       "      <td>0.610</td>\n",
       "      <td>0.474</td>\n",
       "      <td>0.616</td>\n",
       "    </tr>\n",
       "    <tr>\n",
       "      <th>50</th>\n",
       "      <td>0.632</td>\n",
       "      <td>0.390</td>\n",
       "      <td>0.402</td>\n",
       "      <td>0.662</td>\n",
       "      <td>0.556</td>\n",
       "      <td>0.506</td>\n",
       "      <td>0.650</td>\n",
       "      <td>0.696</td>\n",
       "      <td>0.648</td>\n",
       "      <td>0.444</td>\n",
       "      <td>0.424</td>\n",
       "      <td>0.722</td>\n",
       "    </tr>\n",
       "    <tr>\n",
       "      <th>100</th>\n",
       "      <td>0.670</td>\n",
       "      <td>0.382</td>\n",
       "      <td>0.288</td>\n",
       "      <td>0.706</td>\n",
       "      <td>0.512</td>\n",
       "      <td>0.416</td>\n",
       "      <td>0.746</td>\n",
       "      <td>0.432</td>\n",
       "      <td>0.768</td>\n",
       "      <td>0.650</td>\n",
       "      <td>0.276</td>\n",
       "      <td>0.704</td>\n",
       "    </tr>\n",
       "    <tr>\n",
       "      <th>200</th>\n",
       "      <td>0.526</td>\n",
       "      <td>0.408</td>\n",
       "      <td>0.256</td>\n",
       "      <td>0.516</td>\n",
       "      <td>0.500</td>\n",
       "      <td>0.474</td>\n",
       "      <td>0.550</td>\n",
       "      <td>0.526</td>\n",
       "      <td>0.496</td>\n",
       "      <td>0.538</td>\n",
       "      <td>0.506</td>\n",
       "      <td>0.220</td>\n",
       "    </tr>\n",
       "    <tr>\n",
       "      <th>500</th>\n",
       "      <td>0.710</td>\n",
       "      <td>0.536</td>\n",
       "      <td>0.220</td>\n",
       "      <td>0.584</td>\n",
       "      <td>0.404</td>\n",
       "      <td>0.514</td>\n",
       "      <td>0.718</td>\n",
       "      <td>0.494</td>\n",
       "      <td>0.654</td>\n",
       "      <td>0.626</td>\n",
       "      <td>0.472</td>\n",
       "      <td>0.618</td>\n",
       "    </tr>\n",
       "    <tr>\n",
       "      <th>1000</th>\n",
       "      <td>0.628</td>\n",
       "      <td>0.468</td>\n",
       "      <td>0.616</td>\n",
       "      <td>0.430</td>\n",
       "      <td>0.626</td>\n",
       "      <td>0.780</td>\n",
       "      <td>0.516</td>\n",
       "      <td>0.626</td>\n",
       "      <td>0.560</td>\n",
       "      <td>0.744</td>\n",
       "      <td>0.458</td>\n",
       "      <td>0.330</td>\n",
       "    </tr>\n",
       "    <tr>\n",
       "      <th>2000</th>\n",
       "      <td>0.558</td>\n",
       "      <td>0.498</td>\n",
       "      <td>0.642</td>\n",
       "      <td>0.500</td>\n",
       "      <td>0.376</td>\n",
       "      <td>0.634</td>\n",
       "      <td>0.468</td>\n",
       "      <td>0.646</td>\n",
       "      <td>0.536</td>\n",
       "      <td>0.636</td>\n",
       "      <td>0.552</td>\n",
       "      <td>0.464</td>\n",
       "    </tr>\n",
       "  </tbody>\n",
       "</table>\n",
       "</div>"
      ],
      "text/plain": [
       "                            NoRed                  SRP                  PCA  \\\n",
       "                              MMD     LK   LSDD    MMD     LK   LSDD    MMD   \n",
       "Dataset   Hospital Samples                                                    \n",
       "pre-covid SMH      10       0.374  0.456  0.154  0.488  0.418  0.316  0.388   \n",
       "                   20       0.316  0.476  0.032  0.362  0.608  0.358  0.334   \n",
       "                   50       0.264  0.426  0.070  0.578  0.402  0.428  0.300   \n",
       "                   100      0.182  0.492  0.488  0.622  0.468  0.344  0.174   \n",
       "                   200      0.190  0.436  0.402  0.432  0.478  0.424  0.194   \n",
       "                   500      0.384  0.340  0.534  0.504  0.520  0.476  0.336   \n",
       "                   1000     0.080  0.468  0.648  0.480  0.234  0.534  0.074   \n",
       "                   2000     0.336  0.294  0.752  0.518  0.390  0.434  0.354   \n",
       "          MSH      10       0.572  0.522  0.122  0.350  0.384  0.192  0.576   \n",
       "                   20       0.672  0.674  0.382  0.450  0.658  0.586  0.660   \n",
       "                   50       0.632  0.390  0.402  0.662  0.556  0.506  0.650   \n",
       "                   100      0.670  0.382  0.288  0.706  0.512  0.416  0.746   \n",
       "                   200      0.526  0.408  0.256  0.516  0.500  0.474  0.550   \n",
       "                   500      0.710  0.536  0.220  0.584  0.404  0.514  0.718   \n",
       "                   1000     0.628  0.468  0.616  0.430  0.626  0.780  0.516   \n",
       "                   2000     0.558  0.498  0.642  0.500  0.376  0.634  0.468   \n",
       "\n",
       "                                         BBSDs_FFNN                \n",
       "                               LK   LSDD        MMD     LK   LSDD  \n",
       "Dataset   Hospital Samples                                         \n",
       "pre-covid SMH      10       0.410  0.708      0.510  0.410  0.464  \n",
       "                   20       0.390  0.548      0.412  0.504  0.480  \n",
       "                   50       0.458  0.464      0.356  0.280  0.428  \n",
       "                   100      0.664  0.254      0.376  0.750  0.332  \n",
       "                   200      0.418  0.222      0.438  0.368  0.250  \n",
       "                   500      0.402  0.464      0.360  0.222  0.516  \n",
       "                   1000     0.532  0.140      0.282  0.620  0.188  \n",
       "                   2000     0.456  0.304      0.508  0.516  0.690  \n",
       "          MSH      10       0.566  0.252      0.372  0.470  0.312  \n",
       "                   20       0.656  0.558      0.610  0.474  0.616  \n",
       "                   50       0.696  0.648      0.444  0.424  0.722  \n",
       "                   100      0.432  0.768      0.650  0.276  0.704  \n",
       "                   200      0.526  0.496      0.538  0.506  0.220  \n",
       "                   500      0.494  0.654      0.626  0.472  0.618  \n",
       "                   1000     0.626  0.560      0.744  0.458  0.330  \n",
       "                   2000     0.646  0.536      0.636  0.552  0.464  "
      ]
     },
     "execution_count": 4,
     "metadata": {},
     "output_type": "execute_result"
    },
    {
     "data": {
      "application/javascript": [
       "\n",
       "            setTimeout(function() {\n",
       "                var nbb_cell_id = 4;\n",
       "                var nbb_unformatted_code = \"means_file = PATH + \\\"/driftexp_means.csv\\\"\\nif True:\\n    means = np.moveaxis(mean_dr_md, 4, 2)\\n    cols = pd.MultiIndex.from_product([DR_TECHNIQUES, MD_TESTS])\\n    index = pd.MultiIndex.from_product([SHIFTS, HOSPITALS, SAMPLES])\\n    means = means.reshape(\\n        len(SHIFTS) * len(HOSPITALS) * len(SAMPLES), len(DR_TECHNIQUES) * len(MD_TESTS)\\n    )\\n    means = pd.DataFrame(means, columns=cols, index=index)\\n    means.index.names = [\\\"Dataset\\\", \\\"Hospital\\\", \\\"Samples\\\"]\\n    means.to_csv(PATH + \\\"/driftexp_means.csv\\\", sep=\\\"\\\\t\\\")\\n\\nstds_file = PATH + \\\"/driftexp_stds.csv\\\"\\nif True:\\n    stds = np.moveaxis(std_dr_md, 4, 2)\\n    cols = pd.MultiIndex.from_product([DR_TECHNIQUES, MD_TESTS])\\n    index = pd.MultiIndex.from_product([SHIFTS, HOSPITALS, SAMPLES])\\n    stds = stds.reshape(\\n        len(SHIFTS) * len(HOSPITALS) * len(SAMPLES), len(DR_TECHNIQUES) * len(MD_TESTS)\\n    )\\n    stds = pd.DataFrame(stds, columns=cols, index=index)\\n    stds.to_csv(PATH + \\\"/driftexp_stds.csv\\\", sep=\\\"\\\\t\\\")\\n\\npd.set_option(\\\"display.max_rows\\\", 500)\\nmeans.head(n=16)\";\n",
       "                var nbb_formatted_code = \"means_file = PATH + \\\"/driftexp_means.csv\\\"\\nif True:\\n    means = np.moveaxis(mean_dr_md, 4, 2)\\n    cols = pd.MultiIndex.from_product([DR_TECHNIQUES, MD_TESTS])\\n    index = pd.MultiIndex.from_product([SHIFTS, HOSPITALS, SAMPLES])\\n    means = means.reshape(\\n        len(SHIFTS) * len(HOSPITALS) * len(SAMPLES), len(DR_TECHNIQUES) * len(MD_TESTS)\\n    )\\n    means = pd.DataFrame(means, columns=cols, index=index)\\n    means.index.names = [\\\"Dataset\\\", \\\"Hospital\\\", \\\"Samples\\\"]\\n    means.to_csv(PATH + \\\"/driftexp_means.csv\\\", sep=\\\"\\\\t\\\")\\n\\nstds_file = PATH + \\\"/driftexp_stds.csv\\\"\\nif True:\\n    stds = np.moveaxis(std_dr_md, 4, 2)\\n    cols = pd.MultiIndex.from_product([DR_TECHNIQUES, MD_TESTS])\\n    index = pd.MultiIndex.from_product([SHIFTS, HOSPITALS, SAMPLES])\\n    stds = stds.reshape(\\n        len(SHIFTS) * len(HOSPITALS) * len(SAMPLES), len(DR_TECHNIQUES) * len(MD_TESTS)\\n    )\\n    stds = pd.DataFrame(stds, columns=cols, index=index)\\n    stds.to_csv(PATH + \\\"/driftexp_stds.csv\\\", sep=\\\"\\\\t\\\")\\n\\npd.set_option(\\\"display.max_rows\\\", 500)\\nmeans.head(n=16)\";\n",
       "                var nbb_cells = Jupyter.notebook.get_cells();\n",
       "                for (var i = 0; i < nbb_cells.length; ++i) {\n",
       "                    if (nbb_cells[i].input_prompt_number == nbb_cell_id) {\n",
       "                        if (nbb_cells[i].get_text() == nbb_unformatted_code) {\n",
       "                             nbb_cells[i].set_text(nbb_formatted_code);\n",
       "                        }\n",
       "                        break;\n",
       "                    }\n",
       "                }\n",
       "            }, 500);\n",
       "            "
      ],
      "text/plain": [
       "<IPython.core.display.Javascript object>"
      ]
     },
     "metadata": {},
     "output_type": "display_data"
    }
   ],
   "source": [
    "means_file = PATH + \"/driftexp_means.csv\"\n",
    "if os.path.exists(means_file):\n",
    "    means = pd.read_csv(means_file, sep=\"\\t\", header=[0, 1], index_col=[0, 1, 2])\n",
    "else:\n",
    "    means = np.moveaxis(mean_dr_md, 4, 2)\n",
    "    cols = pd.MultiIndex.from_product([DR_TECHNIQUES, MD_TESTS])\n",
    "    index = pd.MultiIndex.from_product([SHIFTS, HOSPITALS, SAMPLES])\n",
    "    means = means.reshape(\n",
    "        len(SHIFTS) * len(HOSPITALS) * len(SAMPLES), len(DR_TECHNIQUES) * len(MD_TESTS)\n",
    "    )\n",
    "    means = pd.DataFrame(means, columns=cols, index=index)\n",
    "    means.index.names = [\"Dataset\", \"Hospital\", \"Samples\"]\n",
    "    means.to_csv(PATH + \"/driftexp_means.csv\", sep=\"\\t\")\n",
    "\n",
    "stds_file = PATH + \"/driftexp_stds.csv\"\n",
    "if os.path.exists(stds_file):\n",
    "    means = pd.read_csv(stds_file, sep=\"\\t\", header=[0, 1], index_col=[0, 1, 2])\n",
    "else:\n",
    "    stds = np.moveaxis(std_dr_md, 4, 2)\n",
    "    cols = pd.MultiIndex.from_product([DR_TECHNIQUES, MD_TESTS])\n",
    "    index = pd.MultiIndex.from_product([SHIFTS, HOSPITALS, SAMPLES])\n",
    "    stds = stds.reshape(\n",
    "        len(SHIFTS) * len(HOSPITALS) * len(SAMPLES), len(DR_TECHNIQUES) * len(MD_TESTS)\n",
    "    )\n",
    "    stds = pd.DataFrame(stds, columns=cols, index=index)\n",
    "    stds.to_csv(PATH + \"/driftexp_stds.csv\", sep=\"\\t\")\n",
    "\n",
    "pd.set_option(\"display.max_rows\", 500)\n",
    "means.head(n=16)"
   ]
  },
  {
   "cell_type": "markdown",
   "id": "progressive-prince",
   "metadata": {},
   "source": [
    "## COVID "
   ]
  },
  {
   "cell_type": "code",
   "execution_count": 5,
   "id": "documented-apparatus",
   "metadata": {},
   "outputs": [
    {
     "data": {
      "image/png": "[encoded data removed]",
      "text/plain": [
       "<Figure size 864x1296 with 2 Axes>"
      ]
     },
     "metadata": {
      "needs_background": "light"
     },
     "output_type": "display_data"
    },
    {
     "data": {
      "application/javascript": [
       "\n",
       "            setTimeout(function() {\n",
       "                var nbb_cell_id = 5;\n",
       "                var nbb_unformatted_code = \"plt.figure(figsize=(12, 18))\\nidx = pd.IndexSlice\\nsns.set(font_scale=0.6)\\ns = sns.heatmap(means.loc[pd.IndexSlice[[\\\"pre-covid\\\", \\\"covid\\\"]], :, :])\\ns.set_xlabel(\\\"Drift Detection\\\", fontsize=10)\\ns.set_ylabel(\\\"Dataset\\\", fontsize=10)\\nplt.show()\";\n",
       "                var nbb_formatted_code = \"plt.figure(figsize=(12, 18))\\nidx = pd.IndexSlice\\nsns.set(font_scale=0.6)\\ns = sns.heatmap(means.loc[pd.IndexSlice[[\\\"pre-covid\\\", \\\"covid\\\"]], :, :])\\ns.set_xlabel(\\\"Drift Detection\\\", fontsize=10)\\ns.set_ylabel(\\\"Dataset\\\", fontsize=10)\\nplt.show()\";\n",
       "                var nbb_cells = Jupyter.notebook.get_cells();\n",
       "                for (var i = 0; i < nbb_cells.length; ++i) {\n",
       "                    if (nbb_cells[i].input_prompt_number == nbb_cell_id) {\n",
       "                        if (nbb_cells[i].get_text() == nbb_unformatted_code) {\n",
       "                             nbb_cells[i].set_text(nbb_formatted_code);\n",
       "                        }\n",
       "                        break;\n",
       "                    }\n",
       "                }\n",
       "            }, 500);\n",
       "            "
      ],
      "text/plain": [
       "<IPython.core.display.Javascript object>"
      ]
     },
     "metadata": {},
     "output_type": "display_data"
    }
   ],
   "source": [
    "plt.figure(figsize=(12, 18))\n",
    "idx = pd.IndexSlice\n",
    "sns.set(font_scale=0.6)\n",
    "s = sns.heatmap(means.loc[pd.IndexSlice[[\"pre-covid\", \"covid\"]], :, :])\n",
    "s.set_xlabel(\"Drift Detection\", fontsize=10)\n",
    "s.set_ylabel(\"Dataset\", fontsize=10)\n",
    "plt.show()"
   ]
  },
  {
   "cell_type": "markdown",
   "id": "authentic-subscriber",
   "metadata": {},
   "source": [
    "## Seasonal"
   ]
  },
  {
   "cell_type": "code",
   "execution_count": 6,
   "id": "fleet-wheel",
   "metadata": {},
   "outputs": [
    {
     "data": {
      "image/png": "[encoded data removed]",
      "text/plain": [
       "<Figure size 864x1296 with 2 Axes>"
      ]
     },
     "metadata": {},
     "output_type": "display_data"
    },
    {
     "data": {
      "application/javascript": [
       "\n",
       "            setTimeout(function() {\n",
       "                var nbb_cell_id = 6;\n",
       "                var nbb_unformatted_code = \"plt.figure(figsize=(12, 18))\\nidx = pd.IndexSlice\\nsns.set(font_scale=0.6)\\ns = sns.heatmap(means.loc[pd.IndexSlice[[\\\"summer\\\", \\\"winter\\\", \\\"seasonal\\\"]], :, :])\\ns.set_xlabel(\\\"Drift Detection\\\", fontsize=10)\\ns.set_ylabel(\\\"Dataset\\\", fontsize=10)\\nplt.show()\";\n",
       "                var nbb_formatted_code = \"plt.figure(figsize=(12, 18))\\nidx = pd.IndexSlice\\nsns.set(font_scale=0.6)\\ns = sns.heatmap(means.loc[pd.IndexSlice[[\\\"summer\\\", \\\"winter\\\", \\\"seasonal\\\"]], :, :])\\ns.set_xlabel(\\\"Drift Detection\\\", fontsize=10)\\ns.set_ylabel(\\\"Dataset\\\", fontsize=10)\\nplt.show()\";\n",
       "                var nbb_cells = Jupyter.notebook.get_cells();\n",
       "                for (var i = 0; i < nbb_cells.length; ++i) {\n",
       "                    if (nbb_cells[i].input_prompt_number == nbb_cell_id) {\n",
       "                        if (nbb_cells[i].get_text() == nbb_unformatted_code) {\n",
       "                             nbb_cells[i].set_text(nbb_formatted_code);\n",
       "                        }\n",
       "                        break;\n",
       "                    }\n",
       "                }\n",
       "            }, 500);\n",
       "            "
      ],
      "text/plain": [
       "<IPython.core.display.Javascript object>"
      ]
     },
     "metadata": {},
     "output_type": "display_data"
    }
   ],
   "source": [
    "plt.figure(figsize=(12, 18))\n",
    "idx = pd.IndexSlice\n",
    "sns.set(font_scale=0.6)\n",
    "s = sns.heatmap(means.loc[pd.IndexSlice[[\"summer\", \"winter\", \"seasonal\"]], :, :])\n",
    "s.set_xlabel(\"Drift Detection\", fontsize=10)\n",
    "s.set_ylabel(\"Dataset\", fontsize=10)\n",
    "plt.show()"
   ]
  }
 ],
 "metadata": {
  "kernelspec": {
   "display_name": "Python 3 (ipykernel)",
   "language": "python",
   "name": "python3"
  },
  "language_info": {
   "codemirror_mode": {
    "name": "ipython",
    "version": 3
   },
   "file_extension": ".py",
   "mimetype": "text/x-python",
   "name": "python",
   "nbconvert_exporter": "python",
   "pygments_lexer": "ipython3",
   "version": "3.10.4"
  }
 },
 "nbformat": 4,
 "nbformat_minor": 5
}
