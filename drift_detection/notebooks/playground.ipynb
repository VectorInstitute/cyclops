{
 "cells": [
  {
   "cell_type": "code",
   "execution_count": null,
   "id": "editorial-fields",
   "metadata": {},
   "outputs": [],
   "source": [
    "import os\n",
    "\n",
    "# import sys\n",
    "# sys.path.append(\"..\")\n",
    "import pickle\n",
    "\n",
    "import matplotlib.pyplot as plt\n",
    "import numpy as np\n",
    "import pandas as pd\n",
    "import seaborn as sns\n",
    "from baseline_models.static.utils import run_model\n",
    "\n",
    "# from gemini.constants import *\n",
    "from gemini.utils import import_dataset_hospital, run_shift_experiment\n",
    "from sklearn.metrics import auc, average_precision_score, roc_curve"
   ]
  },
  {
   "cell_type": "markdown",
   "id": "presidential-swaziland",
   "metadata": {},
   "source": [
    "## Parameters ##"
   ]
  },
  {
   "cell_type": "code",
   "execution_count": null,
   "id": "industrial-nevada",
   "metadata": {},
   "outputs": [],
   "source": [
    "PATH = \"/mnt/nfs/project/delirium/drift_exp\"\n",
    "DATASET = \"gemini\"\n",
    "SAMPLES = [10, 20, 50, 100, 200, 500, 1000]\n",
    "RANDOM_RUNS = 5\n",
    "SIGN_LEVEL = 0.05\n",
    "CALC_ACC = True\n",
    "SAMPLES = [10, 20, 50, 100, 200, 500, 1000]\n",
    "DR_TECHNIQUES = [\"NoRed\", \"SRP\", \"PCA\", \"kPCA\", \"Isomap\", \"BBSDs_FFNN\"]\n",
    "MD_TESTS = [\"LSDD\", \"MMD\", \"LK\", \"Classifier\"]\n",
    "\n",
    "SHIFTS = [\"pre-covid\", \"covid\", \"summer\", \"winter\", \"seasonal\"]\n",
    "OUTCOMES = [\"length_of_stay_in_er\", \"mortality_in_hospital\"]\n",
    "HOSPITALS = [\"SMH\", \"MSH\", \"THPC\", \"THPM\", \"UHNTG\", \"UHNTW\"]\n",
    "MODELS = [\"lr\", \"rf\", \"xgb\", \"mlp\", \"gp\"]\n",
    "NA_CUTOFF = 0.6"
   ]
  },
  {
   "cell_type": "markdown",
   "id": "respective-pregnancy",
   "metadata": {},
   "source": [
    "## Model Fitting ##"
   ]
  },
  {
   "cell_type": "code",
   "execution_count": null,
   "id": "compressed-optics",
   "metadata": {},
   "outputs": [],
   "source": [
    "# Run model fitting\n",
    "if os.path.exists(PATH + \"/shift_auc.pkl\"):\n",
    "    with open(PATH + \"/shift_auc.pkl\", \"rb\") as f:\n",
    "        shift_auc = pickle.load(f)\n",
    "else:\n",
    "    shift_auc = np.ones(\n",
    "        (len(SHIFTS), len(OUTCOMES), len(HOSPITALS), len(MODELS), 2)\n",
    "    ) * (-1)\n",
    "\n",
    "if os.path.exists(PATH + \"/shift_pr.pkl\"):\n",
    "    with open(PATH + \"/shift_pr.pkl\", \"rb\") as f:\n",
    "        shift_pr = pickle.load(f)\n",
    "else:\n",
    "    shift_pr = np.ones((len(SHIFTS), len(OUTCOMES), len(HOSPITALS), len(MODELS), 2)) * (\n",
    "        -1\n",
    "    )"
   ]
  },
  {
   "cell_type": "code",
   "execution_count": null,
   "id": "composed-millennium",
   "metadata": {},
   "outputs": [],
   "source": [
    "for si, SHIFT in enumerate(SHIFTS):\n",
    "    for oi, OUTCOME in enumerate(OUTCOMES):\n",
    "        for hi, HOSPITAL in enumerate(HOSPITALS):\n",
    "            for mi, MODEL in enumerate(MODELS):\n",
    "                if np.any(shift_auc[si, oi, hi, mi, :] == -1) or (\n",
    "                    SHIFT in [\"summer\", \"winter\", \"seasonal\"]\n",
    "                ):\n",
    "                    print(\"{} | {} | {} | {}\".format(SHIFT, OUTCOME, HOSPITAL, MODEL))\n",
    "                    (\n",
    "                        (X_train, y_train),\n",
    "                        (X_val, y_val),\n",
    "                        (X_test, y_test),\n",
    "                        feats,\n",
    "                        orig_dims,\n",
    "                    ) = import_dataset_hospital(\n",
    "                        SHIFT, OUTCOME, [HOSPITAL], NA_CUTOFF, shuffle=True\n",
    "                    )\n",
    "\n",
    "                    model_path = (\n",
    "                        PATH + \"_\".join([SHIFT, OUTCOME, HOSPITAL, MODEL]) + \".pkl\"\n",
    "                    )\n",
    "                    if os.path.exists(model_path):\n",
    "                        optimised_model = pickle.load(open(model_path, \"rb\"))\n",
    "                    else:\n",
    "                        optimised_model = run_model(\n",
    "                            MODEL, X_train, y_train, X_val, y_val\n",
    "                        )\n",
    "                        pickle.dump(\n",
    "                            optimised_model,\n",
    "                            open(\n",
    "                                model_path,\n",
    "                                \"wb\",\n",
    "                            ),\n",
    "                        )\n",
    "\n",
    "                    # calc metrics for validation set\n",
    "                    y_val_pred_prob = optimised_model.predict_proba(X_val)[:, 1]\n",
    "                    val_fpr, val_tpr, val_thresholds = roc_curve(\n",
    "                        y_val, y_val_pred_prob, pos_label=1\n",
    "                    )\n",
    "\n",
    "                    val_roc_auc = auc(val_fpr, val_tpr)\n",
    "\n",
    "                    val_avg_pr = average_precision_score(y_val, y_val_pred_prob)\n",
    "                    # val_recall = recall_score(y_val,\n",
    "                    #              y_val_pred_prob, average='weighted')\n",
    "\n",
    "                    # calc metrics for test set\n",
    "                    y_test_pred_prob = optimised_model.predict_proba(X_test)[:, 1]\n",
    "                    test_fpr, test_tpr, test_thresholds = roc_curve(\n",
    "                        y_test, y_test_pred_prob, pos_label=1\n",
    "                    )\n",
    "                    test_roc_auc = auc(test_fpr, test_tpr)\n",
    "                    test_avg_pr = average_precision_score(y_test, y_test_pred_prob)\n",
    "                    # test_recall = recall_score(y_test,\n",
    "                    #               y_test_pred_prob, average='weighted')\n",
    "\n",
    "                    shift_auc[si, oi, hi, mi, :] = [val_roc_auc, test_roc_auc]\n",
    "                    shift_pr[si, oi, hi, mi, :] = [val_avg_pr, test_avg_pr]"
   ]
  },
  {
   "cell_type": "code",
   "execution_count": null,
   "id": "weekly-endorsement",
   "metadata": {},
   "outputs": [],
   "source": [
    "if not os.path.exists(PATH + \"/shift_auc.pkl\"):\n",
    "    with open(PATH + \"/shift_auc.pkl\", \"wb\") as f:\n",
    "        pickle.dump(shift_auc, f)\n",
    "if not os.path.exists(PATH + \"/shift_pr.pkl\"):\n",
    "    with open(PATH + \"/shift_pr.pkl\", \"wb\") as f:\n",
    "        pickle.dump(shift_pr, f)"
   ]
  },
  {
   "cell_type": "markdown",
   "id": "extended-progressive",
   "metadata": {},
   "source": [
    "## ROC AUC ##"
   ]
  },
  {
   "cell_type": "code",
   "execution_count": null,
   "id": "instant-landscape",
   "metadata": {},
   "outputs": [],
   "source": [
    "auc_file = PATH + \"/driftexp_auc.csv\"\n",
    "if os.path.exists(auc_file):\n",
    "    all_auc = pd.read_csv(auc_file, sep=\"\\t\", header=[0, 1, 2], index_col=[0, 1])\n",
    "else:\n",
    "    all_auc = np.rollaxis(shift_auc, 4, 1)\n",
    "    cols = pd.MultiIndex.from_product(\n",
    "        [\n",
    "            OUTCOMES,\n",
    "            HOSPITALS,\n",
    "            MODELS,\n",
    "        ]\n",
    "    )\n",
    "    index = pd.MultiIndex.from_product([SHIFTS, [\"VAL_ROC_AUC\", \"TEST_ROC_AUC\"]])\n",
    "    all_auc = all_auc.reshape(\n",
    "        len(SHIFTS) * 2, len(OUTCOMES) * len(HOSPITALS) * len(MODELS)\n",
    "    )\n",
    "    all_auc = pd.DataFrame(all_auc, columns=cols, index=index)\n",
    "    all_auc.to_csv(auc_file, sep=\"\\t\")\n",
    "all_auc.head(n=10)"
   ]
  },
  {
   "cell_type": "markdown",
   "id": "ongoing-massachusetts",
   "metadata": {},
   "source": [
    "## Avg Precision ## "
   ]
  },
  {
   "cell_type": "code",
   "execution_count": null,
   "id": "appointed-parent",
   "metadata": {},
   "outputs": [],
   "source": [
    "pr_file = PATH + \"/driftexp_pr.csv\"\n",
    "if os.path.exists(pr_file):\n",
    "    pr = pd.read_csv(pr_file, sep=\"\\t\", header=[0, 1, 2], index_col=[0, 1])\n",
    "else:\n",
    "    pr = np.rollaxis(shift_pr, 4, 1)\n",
    "    cols = pd.MultiIndex.from_product([OUTCOMES, HOSPITALS, MODELS])\n",
    "    index = pd.MultiIndex.from_product([SHIFTS, [\"VAL_AVG_PR\", \"TEST_AVG_PR\"]])\n",
    "    pr = pr.reshape(len(SHIFTS) * 2, len(OUTCOMES) * len(HOSPITALS) * len(MODELS))\n",
    "    pr = pd.DataFrame(pr, columns=cols, index=index)\n",
    "    pr.to_csv(pr_file, sep=\"\\t\")\n",
    "pr.head(n=10)"
   ]
  },
  {
   "cell_type": "markdown",
   "id": "nervous-homeless",
   "metadata": {},
   "source": [
    "## Drift Detection ##"
   ]
  },
  {
   "cell_type": "code",
   "execution_count": null,
   "id": "junior-france",
   "metadata": {},
   "outputs": [],
   "source": [
    "# Run shift experiments\n",
    "if os.path.exists(PATH + \"/mean_dr_md.pkl\"):\n",
    "    with open(PATH + \"/mean_dr_md.pkl\", \"rb\") as f:\n",
    "        mean_dr_md = pickle.load(f)\n",
    "else:\n",
    "    mean_dr_md = np.ones(\n",
    "        (len(SHIFTS), len(HOSPITALS), len(DR_TECHNIQUES), len(MD_TESTS), len(SAMPLES))\n",
    "    ) * (-1)\n",
    "\n",
    "if os.path.exists(PATH + \"/std_dr_md.pkl\"):\n",
    "    with open(PATH + \"/std_dr_md.pkl\", \"rb\") as f:\n",
    "        std_dr_md = pickle.load(f)\n",
    "else:\n",
    "    std_dr_md = np.ones(\n",
    "        (len(SHIFTS), len(HOSPITALS), len(DR_TECHNIQUES), len(MD_TESTS), len(SAMPLES))\n",
    "    ) * (-1)\n",
    "\n",
    "for si, SHIFT in enumerate(SHIFTS):\n",
    "    for hi, HOSPITAL in enumerate(HOSPITALS):\n",
    "        for di, DR_TECHNIQUE in enumerate(DR_TECHNIQUES):\n",
    "            for mi, MD_TEST in enumerate(MD_TESTS):\n",
    "                if np.any(mean_dr_md[si, hi, di, mi, :] == -1):\n",
    "                    print(\n",
    "                        \"{} | {} | {} | {}\".format(\n",
    "                            SHIFT, HOSPITAL, DR_TECHNIQUE, MD_TEST\n",
    "                        )\n",
    "                    )\n",
    "                    try:\n",
    "                        mean_p_vals, std_p_vals = run_shift_experiment(\n",
    "                            SHIFT,\n",
    "                            OUTCOME,\n",
    "                            HOSPITAL,\n",
    "                            PATH,\n",
    "                            DR_TECHNIQUE,\n",
    "                            MD_TEST,\n",
    "                            SAMPLES,\n",
    "                            DATASET,\n",
    "                            SIGN_LEVEL,\n",
    "                            NA_CUTOFF,\n",
    "                            RANDOM_RUNS,\n",
    "                            calc_acc=True,\n",
    "                        )\n",
    "                        mean_dr_md[si, hi, di, mi, :] = mean_p_vals\n",
    "                        std_dr_md[si, hi, di, mi, :] = std_p_vals\n",
    "                    except ValueError:\n",
    "                        print(\"Value Error\")\n",
    "                        pass"
   ]
  },
  {
   "cell_type": "code",
   "execution_count": null,
   "id": "excessive-jacob",
   "metadata": {},
   "outputs": [],
   "source": [
    "means_file = PATH + \"/driftexp_means.csv\"\n",
    "if os.path.exists(means_file):\n",
    "    means = pd.read_csv(means_file, sep=\"\\t\", header=[0, 1], index_col=[0, 1, 2])\n",
    "else:\n",
    "    means = np.moveaxis(mean_dr_md, 4, 2)\n",
    "    cols = pd.MultiIndex.from_product([DR_TECHNIQUES, MD_TESTS])\n",
    "    index = pd.MultiIndex.from_product([SHIFTS, HOSPITALS, SAMPLES])\n",
    "    means = means.reshape(\n",
    "        len(SHIFTS) * len(HOSPITALS) * len(SAMPLES), len(DR_TECHNIQUES) * len(MD_TESTS)\n",
    "    )\n",
    "    means = pd.DataFrame(means, columns=cols, index=index)\n",
    "    means.index.names = [\"Dataset\", \"Hospital\", \"Samples\"]\n",
    "    means.to_csv(PATH + \"/driftexp_means.csv\", sep=\"\\t\")\n",
    "\n",
    "stds_file = PATH + \"/driftexp_stds.csv\"\n",
    "if os.path.exists(stds_file):\n",
    "    means = pd.read_csv(stds_file, sep=\"\\t\", header=[0, 1], index_col=[0, 1, 2])\n",
    "else:\n",
    "    stds = np.moveaxis(std_dr_md, 4, 2)\n",
    "    cols = pd.MultiIndex.from_product([DR_TECHNIQUES, MD_TESTS])\n",
    "    index = pd.MultiIndex.from_product([SHIFTS, HOSPITALS, SAMPLES])\n",
    "    stds = stds.reshape(\n",
    "        len(SHIFTS) * len(HOSPITALS) * len(SAMPLES), len(DR_TECHNIQUES) * len(MD_TESTS)\n",
    "    )\n",
    "    stds = pd.DataFrame(stds, columns=cols, index=index)\n",
    "    stds.to_csv(PATH + \"/driftexp_stds.csv\", sep=\"\\t\")\n",
    "\n",
    "pd.set_option(\"display.max_rows\", 500)\n",
    "means.head(n=16)"
   ]
  },
  {
   "cell_type": "markdown",
   "id": "progressive-prince",
   "metadata": {},
   "source": [
    "## COVID "
   ]
  },
  {
   "cell_type": "code",
   "execution_count": null,
   "id": "documented-apparatus",
   "metadata": {},
   "outputs": [],
   "source": [
    "plt.figure(figsize=(12, 18))\n",
    "idx = pd.IndexSlice\n",
    "sns.set(font_scale=0.6)\n",
    "s = sns.heatmap(means.loc[pd.IndexSlice[[\"pre-covid\", \"covid\"]], :, :])\n",
    "s.set_xlabel(\"Drift Detection\", fontsize=10)\n",
    "s.set_ylabel(\"Dataset\", fontsize=10)\n",
    "plt.show()"
   ]
  },
  {
   "cell_type": "markdown",
   "id": "authentic-subscriber",
   "metadata": {},
   "source": [
    "## Seasonal"
   ]
  },
  {
   "cell_type": "code",
   "execution_count": null,
   "id": "fleet-wheel",
   "metadata": {},
   "outputs": [],
   "source": [
    "plt.figure(figsize=(12, 18))\n",
    "idx = pd.IndexSlice\n",
    "sns.set(font_scale=0.6)\n",
    "s = sns.heatmap(means.loc[pd.IndexSlice[[\"summer\", \"winter\", \"seasonal\"]], :, :])\n",
    "s.set_xlabel(\"Drift Detection\", fontsize=10)\n",
    "s.set_ylabel(\"Dataset\", fontsize=10)\n",
    "plt.show()"
   ]
  }
 ],
 "metadata": {
  "kernelspec": {
   "display_name": "Python 3.9.7 ('cyclops-4J2PL5I8-py3.9')",
   "language": "python",
   "name": "python3"
  },
  "language_info": {
   "codemirror_mode": {
    "name": "ipython",
    "version": 3
   },
   "file_extension": ".py",
   "mimetype": "text/x-python",
   "name": "python",
   "nbconvert_exporter": "python",
   "pygments_lexer": "ipython3",
   "version": "3.9.7"
  },
  "vscode": {
   "interpreter": {
    "hash": "bd2cd438e1c6ddffa3035fc73b17ac5cc0e0ea8897eb8be17cc645c6abf0c8cc"
   }
  }
 },
 "nbformat": 4,
 "nbformat_minor": 5
}
