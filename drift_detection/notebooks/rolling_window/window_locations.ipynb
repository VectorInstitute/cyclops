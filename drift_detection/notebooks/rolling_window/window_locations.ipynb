{
 "cells": [
  {
   "cell_type": "code",
   "execution_count": 1,
   "id": "9a0204ce-4c3e-44d4-ba4e-87700c720acf",
   "metadata": {},
   "outputs": [
    {
     "name": "stderr",
     "output_type": "stream",
     "text": [
      "2022-08-23 19:28:01,300 \u001b[1;37mINFO\u001b[0m cyclops.orm     - Database setup, ready to run queries!\n"
     ]
    }
   ],
   "source": [
    "import os\n",
    "import random\n",
    "import sys\n",
    "import matplotlib as mpl\n",
    "import matplotlib.pyplot as plt\n",
    "import numpy as np\n",
    "import pandas as pd\n",
    "import torch.nn as nn\n",
    "import torch.optim as optim\n",
    "from sklearn.preprocessing import StandardScaler\n",
    "from matplotlib.colors import ListedColormap\n",
    "from datetime import date, timedelta\n",
    "\n",
    "sys.path.append(\"../..\")\n",
    "\n",
    "from utils.utils import *\n",
    "from drift_detector.rolling_window import *\n",
    "from baseline_models.temporal.pytorch.optimizer import Optimizer\n",
    "from baseline_models.temporal.pytorch.utils import *\n",
    "from drift_detection.baseline_models.temporal.pytorch.optimizer import Optimizer\n",
    "from drift_detection.baseline_models.temporal.pytorch.utils import *"
   ]
  },
  {
   "cell_type": "code",
   "execution_count": 2,
   "id": "9dc229b2-82b7-45f6-808a-f03b438f09ba",
   "metadata": {},
   "outputs": [],
   "source": [
    "PATH = \"/mnt/nfs/project/delirium/drift_exp/JULY-04-2022\"\n",
    "SHIFT=\"covid\"\n",
    "threshold=0.05\n",
    "num_timesteps = 6\n",
    "stat_window=30\n",
    "lookup_window=0\n",
    "stride=1\n",
    "run=1\n",
    "hospital = [\"SBK\", \"UHNTG\", \"THPC\", \"THPM\", \"UHNTW\", \"SMH\",\"MSH\",\"PMH\"]\n",
    "outcome=\"mortality\"\n",
    "aggregation_type=\"time_flatten\"\n",
    "experiments = [\"hosp_type_community_baseline\",\"hosp_type_community\"]"
   ]
  },
  {
   "cell_type": "code",
   "execution_count": 3,
   "id": "94627389-7636-4555-a27b-457d3980fad5",
   "metadata": {},
   "outputs": [
    {
     "name": "stderr",
     "output_type": "stream",
     "text": [
      "2022-08-23 19:28:01,755 \u001b[1;37mINFO\u001b[0m cyclops.utils.file - Loading dataframe to /mnt/nfs/project/delirium/drift_exp/JULY-04-2022/aggregated_events.parquet\n"
     ]
    },
    {
     "name": "stdout",
     "output_type": "stream",
     "text": [
      "Load data from aggregated events...\n"
     ]
    },
    {
     "name": "stderr",
     "output_type": "stream",
     "text": [
      "2022-08-23 19:28:02,211 \u001b[1;37mINFO\u001b[0m cyclops.utils.file - Loading dataframe to /mnt/nfs/project/delirium/drift_exp/JULY-04-2022/aggmeta_start_ts.parquet\n",
      "2022-08-23 19:28:02,572 \u001b[1;37mINFO\u001b[0m cyclops.feature_handler - Loading features from file...\n",
      "2022-08-23 19:28:02,574 \u001b[1;37mINFO\u001b[0m cyclops.feature_handler - Found file to load for static features...\n",
      "2022-08-23 19:28:02,576 \u001b[1;37mINFO\u001b[0m cyclops.feature_handler - Successfully loaded static features from file...\n",
      "2022-08-23 19:28:02,603 \u001b[1;37mINFO\u001b[0m cyclops.feature_handler - Found file to load for temporal features...\n"
     ]
    },
    {
     "name": "stdout",
     "output_type": "stream",
     "text": [
      "Load data from feature handler...\n"
     ]
    },
    {
     "name": "stderr",
     "output_type": "stream",
     "text": [
      "2022-08-23 19:28:05,731 \u001b[1;37mINFO\u001b[0m cyclops.feature_handler - Successfully loaded temporal features from file...\n"
     ]
    },
    {
     "name": "stdout",
     "output_type": "stream",
     "text": [
      "Load data from admin data...\n"
     ]
    },
    {
     "name": "stderr",
     "output_type": "stream",
     "text": [
      "2022-08-23 19:28:10,250 \u001b[1;37mINFO\u001b[0m cyclops.utils.file - Loading dataframe to /mnt/nfs/project/delirium/drift_exp/JULY-04-2022/aggmeta_end_ts.parquet\n",
      "2022-08-23 19:28:25,466 \u001b[1;37mINFO\u001b[0m cyclops.feature_handler - Loading features from file...\n",
      "2022-08-23 19:28:25,468 \u001b[1;37mINFO\u001b[0m cyclops.feature_handler - Found file to load for static features...\n",
      "2022-08-23 19:28:25,471 \u001b[1;37mINFO\u001b[0m cyclops.feature_handler - Successfully loaded static features from file...\n",
      "2022-08-23 19:28:25,500 \u001b[1;37mINFO\u001b[0m cyclops.feature_handler - Found file to load for temporal features...\n",
      "2022-08-23 19:28:28,340 \u001b[1;37mINFO\u001b[0m cyclops.feature_handler - Successfully loaded temporal features from file...\n"
     ]
    }
   ],
   "source": [
    "admin_data, x, y = get_gemini_data(PATH)\n",
    "\n",
    "numerical_cols = get_numerical_cols(PATH)\n",
    "for col in numerical_cols:\n",
    "    scaler = StandardScaler().fit(x[col].values.reshape(-1, 1))\n",
    "    x[col] = pd.Series(\n",
    "        np.squeeze(scaler.transform(x[col].values.reshape(-1, 1))),\n",
    "        index=x[col].index,\n",
    "    )\n",
    "X = reshape_inputs(x, num_timesteps)"
   ]
  },
  {
   "cell_type": "markdown",
   "id": "2db722df-32bf-4533-937b-de9f6c82a2fa",
   "metadata": {},
   "source": [
    "## Get prediction model"
   ]
  },
  {
   "cell_type": "code",
   "execution_count": 4,
   "id": "15a1d71e-19f8-4d70-bd65-c4c4f7e3124e",
   "metadata": {},
   "outputs": [],
   "source": [
    "output_dim = 1\n",
    "batch_size = 64\n",
    "input_dim = 108\n",
    "timesteps = 6\n",
    "hidden_dim = 64\n",
    "layer_dim = 2\n",
    "dropout = 0.2\n",
    "n_epochs = 256\n",
    "learning_rate = 2e-3\n",
    "weight_decay = 1e-6\n",
    "last_timestep_only = False\n",
    "\n",
    "device = get_device()\n",
    "\n",
    "model_params = {\n",
    "    \"device\": device,\n",
    "    \"input_dim\": input_dim,\n",
    "    \"hidden_dim\": hidden_dim,\n",
    "    \"layer_dim\": layer_dim,\n",
    "    \"output_dim\": output_dim,\n",
    "    \"dropout_prob\": dropout,\n",
    "    \"last_timestep_only\": last_timestep_only,\n",
    "}\n",
    "\n",
    "model = get_temporal_model(\"lstm\", model_params).to(device)\n",
    "model.load_state_dict(torch.load(model_path))\n",
    "loss_fn = nn.BCEWithLogitsLoss(reduction=\"none\")\n",
    "optimizer = optim.Adagrad(\n",
    "    model.parameters(), lr=learning_rate, weight_decay=weight_decay\n",
    ")\n",
    "lr_scheduler = optim.lr_scheduler.StepLR(optimizer, step_size=128, gamma=0.5)\n",
    "activation = nn.Sigmoid()\n",
    "opt = Optimizer(\n",
    "    model=model,\n",
    "    loss_fn=loss_fn,\n",
    "    optimizer=optimizer,\n",
    "    activation=activation,\n",
    "    lr_scheduler=lr_scheduler,\n",
    ")"
   ]
  },
  {
   "cell_type": "markdown",
   "id": "6ee33c06-61f3-4e6e-bb8c-556a8b73e967",
   "metadata": {},
   "source": [
    "## Rolling window"
   ]
  },
  {
   "cell_type": "code",
   "execution_count": 5,
   "id": "2254a5f9-76cd-4f1a-bd76-b9127ed5bdfe",
   "metadata": {},
   "outputs": [],
   "source": [
    "dr_technique=\"BBSDs_untrained_FFNN\"\n",
    "md_test=\"MMD\"\n",
    "sign_level=0.05\n",
    "sample=1000\n",
    "dataset=\"gemini\"\n",
    "context_type=\"lstm\"\n",
    "representation=\"rf\"\n",
    "threshold=0.05\n",
    "scale=True\n",
    "start_date = date(2018, 1, 1)\n",
    "end_date = date(2020, 8, 1)"
   ]
  },
  {
   "cell_type": "code",
   "execution_count": null,
   "id": "245f8b37-c960-4321-8783-6f3e8ee11cc3",
   "metadata": {},
   "outputs": [],
   "source": [
    "experiment_results = []\n",
    "\n",
    "for shift in experiments:\n",
    "    \n",
    "    ## Set constant reference distribution\n",
    "    random.seed(1)\n",
    "    print(\"Query data %s ...\" % SHIFT)\n",
    "    (x_train, y_train), (x_val, y_val), (x_test, y_test), feats, admin_data = import_dataset_hospital(admin_data, x, y, SHIFT, outcome, hospital, run, shuffle=True)\n",
    "\n",
    "    print(\"Get source data...\")\n",
    "    # Normalize data\n",
    "    (X_tr_normalized, y_tr),(X_val_normalized, y_val), (X_t_normalized, y_t) = normalize_data(aggregation_type, admin_data, num_timesteps, x_train, y_train, x_val, y_val, x_test, y_test)\n",
    "    # Scale data\n",
    "    if scale:\n",
    "        X_tr_normalized, X_val_normalized, X_t_normalized = scale_data(numerical_cols, X_tr_normalized, X_val_normalized, X_t_normalized)\n",
    "    # Process data\n",
    "    X_tr_final, X_val_final, X_t_final = process_data(aggregation_type, num_timesteps, X_tr_normalized, X_val_normalized, X_t_normalized)\n",
    "    \n",
    "    val_ids=list(X_val_normalized.index.get_level_values(0).unique())\n",
    "    \n",
    "    print(\"Get target data streams...\")\n",
    "    x_test_stream, y_test_stream, measure_dates_test = get_streams(x, y, admin_data, start_date, end_date, stride=1, window=1, ids_to_exclude=val_ids)\n",
    "    \n",
    "    print(\"Get Shift Reductor...\")\n",
    "    # Get shift reductor\n",
    "    shift_reductor = ShiftReductor(\n",
    "        X_tr_final, y_tr, dr_technique, dataset, var_ret=0.8, model_path=model_path,\n",
    "    )\n",
    "    print(\"Get Shift Detector...\")\n",
    "    # Get shift detector\n",
    "    shift_detector = ShiftDetector(\n",
    "        dr_technique, md_test, sign_level, shift_reductor, sample, dataset, feats, model_path, context_type, representation,\n",
    "    )\n",
    "\n",
    "    print(\"Rolling Window...\")\n",
    "    dist_vals_test, pvals_test = rolling_window_drift(X_tr_final, x_test_stream, shift_detector, sample, stat_window, lookup_window, stride, num_timesteps, threshold, X_val_final)\n",
    "    \n",
    "    performance_metrics = rolling_window_performance(x_test_stream, y_test_stream, opt, sample, stat_window, lookup_window, stride, num_timesteps, threshold, X_val_final)\n",
    "    \n",
    "    measure_dates_test = [(datetime.datetime.strptime(date,\"%Y-%m-%d\")+datetime.timedelta(days=lookup_window+stat_window*2)).strftime(\"%Y-%m-%d\") for date in measure_dates_test]\n",
    "    end = len(p_vals_test)\n",
    "    results = pd.DataFrame(\n",
    "    {'dates': measure_dates_test[1:end],\n",
    "     'pval': pvals_test[1:end],\n",
    "     'dist': dist_vals_test[1:end],\n",
    "     'detection': np.where(p_vals_test[1:end]<threshold,1,0)\n",
    "    })\n",
    "    results = pd.concat([results,performance_metrics],axis=1)\n",
    "    results.to_pickle(os.path.join(PATH,shift+\"_\"+dr_technique+\"_\"+md_test+\"_results.pkl\")) \n",
    "    experiment_results.append(results)\n"
   ]
  },
  {
   "cell_type": "code",
   "execution_count": null,
   "id": "371b47d0-eec9-482f-a702-5b44cd633f70",
   "metadata": {},
   "outputs": [],
   "source": [
    "fig, (ax1, ax2, ax3, ax4) = plt.subplots(4, 1, figsize=(22,12))\n",
    "cmap = ListedColormap(['lightgrey','red'])\n",
    "ax1.plot(experiment_results[0]['dates'], experiment_results[0]['pval'], '.-', color=\"blue\", linewidth=0.5, markersize=2)\n",
    "ax1.plot(experiment_results[1]['dates'], experiment_results[1]['pval'], '.-', color=\"red\", linewidth=0.5, markersize=2)\n",
    "ax1.set_xlim(experiment_results[0]['dates'][0],experiment_results[0]['dates'][len(experiment_results[0]['dates'])-1])\n",
    "ax1.axhline(y=0.05, color='dimgrey', linestyle='--')\n",
    "ax1.set_ylabel('P-Values',fontsize=16)\n",
    "ax1.set_xticklabels([])\n",
    "ax1.pcolorfast(ax1.get_xlim(), ax1.get_ylim(),experiment_results[1]['detection'].values[np.newaxis], cmap = cmap, alpha = 0.4)\n",
    "\n",
    "ax2.plot(experiment_results[0]['dates'], experiment_results[0]['dist'], '.-',color=\"blue\", linewidth=0.5, markersize=2)\n",
    "ax2.plot(experiment_results[1]['dates'], experiment_results[1]['dist'], '.-',color=\"red\", linewidth=0.5, markersize=2)\n",
    "ax2.set_xlim(experiment_results[0]['dates'][0],experiment_results[0]['dates'][len(experiment_results[0]['dates'])-1])\n",
    "ax2.set_ylabel('Distance',fontsize=16)\n",
    "ax2.axhline(y=np.mean(experiment_results[0]['dist_val_val']), color='dimgrey', linestyle='--')\n",
    "ax2.set_xticklabels([])\n",
    "ax2.pcolorfast(ax2.get_xlim(), ax2.get_ylim(),experiment_results[1]['detection'].values[np.newaxis], cmap = cmap, alpha = 0.4)\n",
    "\n",
    "ax3.plot(experiment_results[0]['dates'], experiment_results[0]['auroc'], '.-',color=\"blue\", linewidth=0.5, markersize=2)\n",
    "ax3.plot(experiment_results[1]['dates'], experiment_results[1]['auroc'], '.-',color=\"red\", linewidth=0.5, markersize=2)\n",
    "ax3.set_xlim(measure_dates_test_covid[1],measure_dates_test_covid[end])\n",
    "ax3.set_ylabel('AUROC', fontsize=16)\n",
    "ax3.axhline(y=np.mean(auroc_test_covid), color='dimgrey', linestyle='--')\n",
    "ax3.set_xticklabels([])\n",
    "ax3.pcolorfast(ax3.get_xlim(), ax3.get_ylim(),experiment_results[1]['detection'].values[np.newaxis], cmap = cmap, alpha = 0.4)\n",
    "\n",
    "ax4.plot(experiment_results[0]['dates'], experiment_results[0]['auprc'], '.-',color=\"blue\", linewidth=0.5, markersize=2)\n",
    "ax4.plot(experiment_results[1]['dates'], experiment_results[1]['auprc'], '.-',color=\"red\", linewidth=0.5, markersize=2)\n",
    "ax4.set_xlim(measure_dates_test_covid[1],measure_dates_test_covid[end])\n",
    "ax4.set_ylabel('AUPRC',fontsize=16)\n",
    "ax4.set_xlabel('time (s)', fontsize=16)\n",
    "ax4.axhline(y=np.mean(auprc_test_covid), color='dimgrey', linestyle='--')\n",
    "ax4.tick_params(axis='x', labelrotation=45)\n",
    "ax4.pcolorfast(ax4.get_xlim(), ax4.get_ylim(),experiment_results[1]['detection'].values[np.newaxis], cmap = cmap, alpha = 0.4)\n",
    "\n",
    "\n",
    "\n",
    "for index, label in enumerate(ax4.xaxis.get_ticklabels()):\n",
    "    if index % 28 != 0:\n",
    "        label.set_visible(False)\n",
    "\n",
    "plt.show()"
   ]
  },
  {
   "cell_type": "code",
   "execution_count": null,
   "id": "a009ad30-09c1-4ebc-a917-6204667f5dff",
   "metadata": {},
   "outputs": [],
   "source": []
  }
 ],
 "metadata": {
  "kernelspec": {
   "display_name": "cyclops-KKtuQLwg-py3.9",
   "language": "python",
   "name": "cyclops-kktuqlwg-py3.9"
  },
  "language_info": {
   "codemirror_mode": {
    "name": "ipython",
    "version": 3
   },
   "file_extension": ".py",
   "mimetype": "text/x-python",
   "name": "python",
   "nbconvert_exporter": "python",
   "pygments_lexer": "ipython3",
   "version": "3.9.7"
  }
 },
 "nbformat": 4,
 "nbformat_minor": 5
}
