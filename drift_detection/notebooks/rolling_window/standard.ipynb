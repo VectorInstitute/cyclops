{
 "cells": [
  {
   "cell_type": "code",
   "execution_count": null,
   "id": "d995dcd3-fb7a-4398-b8b8-984c2ddc78be",
   "metadata": {},
   "outputs": [],
   "source": [
    "import os\n",
    "import random\n",
    "import sys\n",
    "\n",
    "import matplotlib as mpl\n",
    "import matplotlib.pyplot as plt\n",
    "import numpy as np\n",
    "import pandas as pd\n",
    "import torch.nn as nn\n",
    "import torch.optim as optim\n",
    "from sklearn.preprocessing import StandardScaler\n",
    "from alibi_detect.cd import MMDDrift\n",
    "import random\n",
    "from matplotlib.colors import ListedColormap\n",
    "from datetime import date, timedelta\n",
    "\n",
    "sys.path.append(\"..\")\n",
    "\n",
    "from utils.utils import *\n",
    "from baseline_models.temporal.pytorch.optimizer import Optimizer\n",
    "from baseline_models.temporal.pytorch.utils import *"
   ]
  },
  {
   "cell_type": "code",
   "execution_count": null,
   "id": "17cff9cf-c682-4973-ab27-1161b70d516a",
   "metadata": {},
   "outputs": [],
   "source": [
    "PATH = \"/mnt/nfs/project/delirium/drift_exp/JULY-04-2022\""
   ]
  },
  {
   "cell_type": "code",
   "execution_count": null,
   "id": "e1e41187-da04-4f27-aaf3-8a945ff4a7ea",
   "metadata": {},
   "outputs": [],
   "source": [
    "admin_data, x, y = get_gemini_data(PATH)"
   ]
  },
  {
   "cell_type": "markdown",
   "id": "cb0a5be5-e6e5-48da-aa6a-94511b907a69",
   "metadata": {},
   "source": [
    "## Create Data Streams"
   ]
  },
  {
   "cell_type": "code",
   "execution_count": null,
   "id": "950b8746-7262-489e-bd31-c4e381900525",
   "metadata": {},
   "outputs": [],
   "source": [
    "#####################################################\n",
    "## a given date contains data from previous two weeks \n",
    "#####################################################\n",
    "\n",
    "start_date = date(2018, 1, 1)\n",
    "end_date = date(2020, 8, 1)\n",
    "\n",
    "def daterange(start_date, end_date, stride, window):\n",
    "    for n in range(int((end_date - start_date).days)):\n",
    "        if start_date + timedelta(n*stride+window) < end_date:\n",
    "            yield start_date+ timedelta(n*stride)\n",
    "            \n",
    "\n",
    "def get_streams(x, y, admin_data, start_date, end_date, stride, window):\n",
    "    target_stream_x = []\n",
    "    target_stream_y = [] \n",
    "    measure_dates = []\n",
    "\n",
    "    admit_df = admin_data[[ENCOUNTER_ID,ADMIT_TIMESTAMP]].sort_values(by=ADMIT_TIMESTAMP)\n",
    "    for single_date in daterange(start_date, end_date, stride, window):\n",
    "        if single_date.month ==1 and single_date.day == 1:\n",
    "            print(single_date.strftime(\"%Y-%m-%d\"),\"-\",(single_date+timedelta(days=window)).strftime(\"%Y-%m-%d\"))\n",
    "        encounters_inwindow = admit_df.loc[((single_date+timedelta(days=window)).strftime(\"%Y-%m-%d\") > admit_df[ADMIT_TIMESTAMP].dt.strftime(\"%Y-%m-%d\")) \n",
    "                           & (admit_df[ADMIT_TIMESTAMP].dt.strftime(\"%Y-%m-%d\") >= single_date.strftime(\"%Y-%m-%d\")), ENCOUNTER_ID].unique()\n",
    "        encounter_ids = x.index.get_level_values(0).unique()\n",
    "        x_inwindow = x.loc[x.index.get_level_values(0).isin(encounters_inwindow)]\n",
    "        y_inwindow = y[np.in1d(encounter_ids, encounters_inwindow)]\n",
    "        if not x_inwindow.empty:\n",
    "            target_stream_x.append(x_inwindow)\n",
    "            target_stream_y.append(y_inwindow)\n",
    "            measure_dates.append((single_date+timedelta(days=window)).strftime(\"%Y-%m-%d\"))\n",
    "    return(target_stream_x, target_stream_y, measure_dates)\n",
    "\n",
    "x_test_stream, y_test_stream, measure_dates_test = get_streams(x, y, admin_data, start_date, end_date, stride=1, window=1)"
   ]
  },
  {
   "cell_type": "markdown",
   "id": "0079b877-0c48-4ba0-862a-e3e1bd8703b9",
   "metadata": {},
   "source": [
    "## Rolling Window (14 days)"
   ]
  },
  {
   "cell_type": "code",
   "execution_count": null,
   "id": "9647cfce-1c84-410e-b88c-132c9e42a6d9",
   "metadata": {},
   "outputs": [],
   "source": [
    "# compare data for patients admitted in the same date ACROSS TIMESTEPS (e.g. all patients have same admit date) --> patient deteroriation\n",
    "# compare data for patients ACROSS DATE (timestep agnostic) --> more of dataset shift \n",
    "# compare data for group of patients ACROSS DATE and TIMESTEP --> dataset shift + deterioration\n",
    "threshold = 0.05\n",
    "num_timesteps = 6\n",
    "stat_window=14\n",
    "lookup_window=14\n",
    "stride=1\n",
    "random.seed(1)\n",
    "\n",
    "#####################################################\n",
    "## rolling window - not cumulatively including data and no adjustment made when drift occurs\n",
    "##################################################### \n",
    "def rolling_window(stat_window, lookup_window, stride, num_timesteps, series, threshold,custom_ref=None):\n",
    "\n",
    "    p_vals = np.asarray([])\n",
    "    dist_vals = np.asarray([])\n",
    "    i = 0 \n",
    "    if custom_ref is not None:\n",
    "        prev = reshape_inputs(custom_ref, num_timesteps)\n",
    "        \n",
    "    while i+stat_window+lookup_window < len(series):\n",
    "        feat_index = 0\n",
    "        \n",
    "        if custom_ref is None:\n",
    "            prev = pd.concat(series[i:i+stat_window])\n",
    "            prev = prev[~prev.index.duplicated(keep='first')]\n",
    "            prev = reshape_inputs(prev, num_timesteps)\n",
    "            #prev = prev.reshape(prev.shape[0]*prev.shape[1],prev.shape[2])\n",
    "            \n",
    "        next = pd.concat(series[i+lookup_window:i+lookup_window+stat_window])\n",
    "        next = next[~next.index.duplicated(keep='first')]\n",
    "        next = reshape_inputs(next, num_timesteps)\n",
    "        #next = next.reshape(next.shape[0]*next.shape[1],next.shape[2])\n",
    "        \n",
    "        if next.shape[0]<=2 or prev.shape[0]<=2:\n",
    "            break\n",
    "        \n",
    "        ## run distribution shift check here\n",
    "        cd = MMDDrift(prev, backend='pytorch', p_val=.05)\n",
    "        preds = cd.predict(next, return_p_val=True, return_distance=True)\n",
    "        p_val = preds['data']['p_val']\n",
    "        if p_val < threshold:\n",
    "            print(\"P-value below threshold.\")\n",
    "            print(i,\"-\", i+stat_window,\"-->\",i+lookup_window,\"-\",i+stat_window+lookup_window,\"\\tP-Value: \",p_val)\n",
    "        dist_val = preds['data']['distance']\n",
    "        dist_vals = np.concatenate((dist_vals, np.repeat(dist_val, 1)))\n",
    "        p_vals = np.concatenate((p_vals, np.repeat(p_val, 1)))\n",
    "        i += stride\n",
    "            \n",
    "    return dist_vals, p_vals\n",
    "\n",
    "#dist_vals_test, p_vals_test = rolling_window(stat_window, lookup_window, stride, num_timesteps, x_test_stream, threshold)"
   ]
  },
  {
   "cell_type": "code",
   "execution_count": null,
   "id": "cbe5ea1a-59dc-47c2-94f7-3b849c071f31",
   "metadata": {},
   "outputs": [],
   "source": [
    "measure_dates_test_14d = [(datetime.datetime.strptime(date,\"%Y-%m-%d\")+datetime.timedelta(days=stat_window*2+lookup_window)).strftime(\"%Y-%m-%d\") for date in measure_dates_test]\n",
    "fig, (ax1, ax2) = plt.subplots(2, 1, figsize=(20,8))\n",
    "fig.suptitle('Rolling Windowing')\n",
    "\n",
    "end = len(p_vals_test)\n",
    "results = percentile_list = pd.DataFrame(\n",
    "    {'dates': measure_dates_test_14d[1:end],\n",
    "     'p_val_val': p_vals_test[1:end],\n",
    "     'dist metric_val': dist_vals_test[1:end],\n",
    "     'detection': np.where(p_vals_test[1:end]<threshold,1,0)\n",
    "    })\n",
    "\n",
    "\n",
    "cmap = ListedColormap(['lightgrey','red'])\n",
    "ax1.plot(measure_dates_test_14d[1:end], p_vals_test[1:end], '.-', color=\"red\")\n",
    "ax1.set_xlim(measure_dates_test_14d[1],measure_dates_test_14d[end])\n",
    "ax1.axhline(y=0.05, color='black', linestyle='--')\n",
    "ax1.set_ylabel('P-Values')\n",
    "ax1.set_xticklabels([])\n",
    "ax1.pcolorfast(ax1.get_xlim(), ax1.get_ylim(),results['detection'].values[np.newaxis], cmap = cmap, alpha = 0.4)\n",
    "        \n",
    "ax2.plot(measure_dates_test_14d[1:end], dist_vals_test[1:end], '.-',color=\"blue\")\n",
    "ax2.set_xlim(measure_dates_test_14d[1],measure_dates_test_14d[end])\n",
    "ax2.set_xlabel('time (s)')\n",
    "ax2.set_ylabel('Distance Metric')\n",
    "ax2.tick_params(axis='x', labelrotation=45)\n",
    "ax2.pcolorfast(ax2.get_xlim(), ax2.get_ylim(),results['detection'].values[np.newaxis], cmap = cmap, alpha = 0.4)\n",
    "for index, label in enumerate(ax2.xaxis.get_ticklabels()):\n",
    "    if index % 28 != 0:\n",
    "        label.set_visible(False)\n",
    "\n",
    "plt.show()"
   ]
  },
  {
   "cell_type": "markdown",
   "id": "990970e0-5808-421d-ad0b-5bab760751a1",
   "metadata": {},
   "source": [
    "## Rolling Window (60 Days)"
   ]
  },
  {
   "cell_type": "code",
   "execution_count": null,
   "id": "a991e894-de5b-45ab-8094-e64ec6f5bf77",
   "metadata": {},
   "outputs": [],
   "source": [
    "stat_window=14\n",
    "lookup_window=60\n",
    "dist_vals_test, p_vals_test = rolling_window(stat_window, lookup_window, stride, num_timesteps, x_test_stream, threshold)"
   ]
  },
  {
   "cell_type": "code",
   "execution_count": null,
   "id": "ca1d7687-b2dd-40e6-bd50-1d6812d01225",
   "metadata": {},
   "outputs": [],
   "source": [
    "measure_dates_test_60d = [(datetime.datetime.strptime(date,\"%Y-%m-%d\")+datetime.timedelta(days=stat_window*2+lookup_window)).strftime(\"%Y-%m-%d\") for date in measure_dates_test]\n",
    "fig, (ax1, ax2) = plt.subplots(2, 1, figsize=(20,8))\n",
    "fig.suptitle('Rolling Windowing')\n",
    "\n",
    "end = len(p_vals_test)\n",
    "results = percentile_list = pd.DataFrame(\n",
    "    {'dates': measure_dates_test_60d[1:end],\n",
    "     'p_val_val': p_vals_test[1:end],\n",
    "     'dist metric_val': dist_vals_test[1:end],\n",
    "     'detection': np.where(p_vals_test[1:end]<threshold,1,0)\n",
    "    })\n",
    "\n",
    "\n",
    "cmap = ListedColormap(['lightgrey','red'])\n",
    "ax1.plot(measure_dates_test_60d[1:end], p_vals_test[1:end], '.-', color=\"red\")\n",
    "ax1.set_xlim(measure_dates_test_60d[1],measure_dates_test_60d[end])\n",
    "ax1.axhline(y=0.05, color='black', linestyle='--')\n",
    "ax1.set_ylabel('P-Values')\n",
    "ax1.set_xticklabels([])\n",
    "ax1.pcolorfast(ax1.get_xlim(), ax1.get_ylim(),results['detection'].values[np.newaxis], cmap = cmap, alpha = 0.4)\n",
    "        \n",
    "ax2.plot(measure_dates_test_60d[1:end], dist_vals_test[1:end], '.-',color=\"blue\")\n",
    "ax2.set_xlim(measure_dates_test_60d[1],measure_dates_test_60d[end])\n",
    "ax2.set_xlabel('time (s)')\n",
    "ax2.set_ylabel('Distance Metric')\n",
    "ax2.tick_params(axis='x', labelrotation=45)\n",
    "ax2.pcolorfast(ax2.get_xlim(), ax2.get_ylim(),results['detection'].values[np.newaxis], cmap = cmap, alpha = 0.4)\n",
    "for index, label in enumerate(ax2.xaxis.get_ticklabels()):\n",
    "    if index % 28 != 0:\n",
    "        label.set_visible(False)\n",
    "\n",
    "plt.show()"
   ]
  },
  {
   "cell_type": "markdown",
   "id": "dac035d3-aa12-465a-a1b2-a7af9ee6a5ff",
   "metadata": {},
   "source": [
    "## Rolling Window (120 Days)"
   ]
  },
  {
   "cell_type": "code",
   "execution_count": null,
   "id": "14e68d31-fd70-4568-aca3-67bd5ad76a43",
   "metadata": {},
   "outputs": [],
   "source": [
    "stat_window=14\n",
    "lookup_window=120\n",
    "dist_vals_test, p_vals_test = rolling_window(stat_window, lookup_window, stride, num_timesteps, x_test_stream, threshold)\n",
    "measure_dates_test_120d = [(datetime.datetime.strptime(date,\"%Y-%m-%d\")+datetime.timedelta(days=stat_window*2+lookup_window)).strftime(\"%Y-%m-%d\") for date in measure_dates_test]"
   ]
  },
  {
   "cell_type": "code",
   "execution_count": null,
   "id": "786b6457-58d1-48e4-98f7-042e3509b5ea",
   "metadata": {},
   "outputs": [],
   "source": [
    "fig, (ax1, ax2) = plt.subplots(2, 1, figsize=(20,8))\n",
    "fig.suptitle('Rolling Windowing')\n",
    "\n",
    "end = len(p_vals_test)\n",
    "results = percentile_list = pd.DataFrame(\n",
    "    {'dates': measure_dates_test_120d[1:end],\n",
    "     'p_val_val': p_vals_test[1:end],\n",
    "     'dist metric_val': dist_vals_test[1:end],\n",
    "     'detection': np.where(p_vals_test[1:end]<threshold,1,0)\n",
    "    })\n",
    "\n",
    "\n",
    "cmap = ListedColormap(['lightgrey','red'])\n",
    "ax1.plot(measure_dates_test_120d[1:end], p_vals_test[1:end], '.-', color=\"red\")\n",
    "ax1.set_xlim(measure_dates_test_120d[1],measure_dates_test_120d[end])\n",
    "ax1.axhline(y=0.05, color='black', linestyle='--')\n",
    "ax1.set_ylabel('P-Values')\n",
    "ax1.set_xticklabels([])\n",
    "ax1.pcolorfast(ax1.get_xlim(), ax1.get_ylim(),results['detection'].values[np.newaxis], cmap = cmap, alpha = 0.4)\n",
    "        \n",
    "ax2.plot(measure_dates_test_120d[1:end], dist_vals_test[1:end], '.-',color=\"blue\")\n",
    "ax2.set_xlim(measure_dates_test_120d[1],measure_dates_test_120d[end])\n",
    "ax2.set_xlabel('time (s)')\n",
    "ax2.set_ylabel('Distance Metric')\n",
    "ax2.tick_params(axis='x', labelrotation=45)\n",
    "ax2.pcolorfast(ax2.get_xlim(), ax2.get_ylim(),results['detection'].values[np.newaxis], cmap = cmap, alpha = 0.4)\n",
    "for index, label in enumerate(ax2.xaxis.get_ticklabels()):\n",
    "    if index % 28 != 0:\n",
    "        label.set_visible(False)\n",
    "\n",
    "plt.show()"
   ]
  },
  {
   "cell_type": "markdown",
   "id": "82953248-e267-4152-bf5b-866226bded62",
   "metadata": {},
   "source": [
    "## Longer rolling window (120 days) with longer stat window (30 days)"
   ]
  },
  {
   "cell_type": "code",
   "execution_count": null,
   "id": "f697c1eb-ae51-474f-a7b9-f90ec7b43d9c",
   "metadata": {},
   "outputs": [],
   "source": [
    "stat_window=30\n",
    "lookup_window=120\n",
    "dist_vals_test, p_vals_test = rolling_window(stat_window, lookup_window, stride, num_timesteps, x_test_stream, threshold)"
   ]
  },
  {
   "cell_type": "code",
   "execution_count": null,
   "id": "7da6235b-0f3d-4d12-987b-d2f9c4b7af4a",
   "metadata": {},
   "outputs": [],
   "source": [
    "measure_dates_test[0]"
   ]
  },
  {
   "cell_type": "code",
   "execution_count": null,
   "id": "6971cf4c-94a8-4c39-bb52-d6a5389f14a5",
   "metadata": {},
   "outputs": [],
   "source": [
    "measure_dates_test_120d = [(datetime.datetime.strptime(date,\"%Y-%m-%d\")+datetime.timedelta(days=lookup_window+stat_window*2)).strftime(\"%Y-%m-%d\") for date in measure_dates_test]\n",
    "measure_dates_test_120d[0]"
   ]
  },
  {
   "cell_type": "code",
   "execution_count": null,
   "id": "40bc8e79-4f7f-403d-83fe-cef68d0c4939",
   "metadata": {},
   "outputs": [],
   "source": [
    "end = len(p_vals_test)\n",
    "measure_dates_test_120d = [(datetime.datetime.strptime(date,\"%Y-%m-%d\")+datetime.timedelta(days=lookup_window+stat_window*2)).strftime(\"%Y-%m-%d\") for date in measure_dates_test]\n",
    "fig, (ax1, ax2) = plt.subplots(2, 1, figsize=(20,8))\n",
    "fig.suptitle('Rolling Windowing')\n",
    "\n",
    "results = percentile_list = pd.DataFrame(\n",
    "    {'dates': measure_dates_test_120d[1:end],\n",
    "     'p_val_val': p_vals_test[1:end],\n",
    "     'dist metric_val': dist_vals_test[1:end],\n",
    "     'detection': np.where(p_vals_test[1:end]<threshold,1,0)\n",
    "    })\n",
    "\n",
    "\n",
    "cmap = ListedColormap(['lightgrey','red'])\n",
    "ax1.plot(measure_dates_test_120d[1:end], p_vals_test[1:end], '.-', color=\"red\")\n",
    "ax1.set_xlim(measure_dates_test_120d[1],measure_dates_test_120d[end])\n",
    "ax1.axhline(y=0.05, color='black', linestyle='--')\n",
    "ax1.set_ylabel('P-Values')\n",
    "ax1.set_xticklabels([])\n",
    "ax1.pcolorfast(ax1.get_xlim(), ax1.get_ylim(),results['detection'].values[np.newaxis], cmap = cmap, alpha = 0.4)\n",
    "        \n",
    "ax2.plot(measure_dates_test_120d[1:end], dist_vals_test[1:end], '.-',color=\"blue\")\n",
    "ax2.set_xlim(measure_dates_test_120d[1],measure_dates_test_120d[end])\n",
    "ax2.set_xlabel('time (s)')\n",
    "ax2.set_ylabel('Distance Metric')\n",
    "ax2.tick_params(axis='x', labelrotation=45)\n",
    "ax2.pcolorfast(ax2.get_xlim(), ax2.get_ylim(),results['detection'].values[np.newaxis], cmap = cmap, alpha = 0.4)\n",
    "for index, label in enumerate(ax2.xaxis.get_ticklabels()):\n",
    "    if index % 28 != 0:\n",
    "        label.set_visible(False)\n",
    "\n",
    "plt.show()"
   ]
  },
  {
   "cell_type": "markdown",
   "id": "29b5566a-d4d9-42ac-8475-468c18c3a872",
   "metadata": {},
   "source": [
    "## Rolling window with year look ahead"
   ]
  },
  {
   "cell_type": "code",
   "execution_count": null,
   "id": "14ab2fdd-8160-48ae-ac81-7e8af586bbae",
   "metadata": {},
   "outputs": [],
   "source": [
    "stat_window=30\n",
    "lookup_window=365\n",
    "dist_vals_test, p_vals_test = rolling_window(stat_window, lookup_window, stride, num_timesteps, x_test_stream, threshold)"
   ]
  },
  {
   "cell_type": "code",
   "execution_count": null,
   "id": "90e8bca3-33fa-4613-a268-389878f4dda0",
   "metadata": {},
   "outputs": [],
   "source": [
    "end = len(p_vals_test)\n",
    "measure_dates_test_year = [(datetime.datetime.strptime(date,\"%Y-%m-%d\")+datetime.timedelta(days=lookup_window+stat_window*2)).strftime(\"%Y-%m-%d\") for date in measure_dates_test]\n",
    "fig, (ax1, ax2) = plt.subplots(2, 1, figsize=(20,8))\n",
    "fig.suptitle('Rolling Windowing')\n",
    "\n",
    "results = percentile_list = pd.DataFrame(\n",
    "    {'dates': measure_dates_test_year[1:end],\n",
    "     'p_val_val': p_vals_test[1:end],\n",
    "     'dist metric_val': dist_vals_test[1:end],\n",
    "     'detection': np.where(p_vals_test[1:end]<threshold,1,0)\n",
    "    })\n",
    "\n",
    "\n",
    "cmap = ListedColormap(['lightgrey','red'])\n",
    "ax1.plot(measure_dates_test_year[1:end], p_vals_test[1:end], '.-', color=\"red\")\n",
    "ax1.set_xlim(measure_dates_test_year[1],measure_dates_test_year[end])\n",
    "ax1.axhline(y=0.05, color='black', linestyle='--')\n",
    "ax1.set_ylabel('P-Values')\n",
    "ax1.set_xticklabels([])\n",
    "ax1.pcolorfast(ax1.get_xlim(), ax1.get_ylim(),results['detection'].values[np.newaxis], cmap = cmap, alpha = 0.4)\n",
    "        \n",
    "ax2.plot(measure_dates_test_year[1:end], dist_vals_test[1:end], '.-',color=\"blue\")\n",
    "ax2.set_xlim(measure_dates_test_year[1],measure_dates_test_year[end])\n",
    "ax2.set_xlabel('time (s)')\n",
    "ax2.set_ylabel('Distance Metric')\n",
    "ax2.tick_params(axis='x', labelrotation=45)\n",
    "ax2.pcolorfast(ax2.get_xlim(), ax2.get_ylim(),results['detection'].values[np.newaxis], cmap = cmap, alpha = 0.4)\n",
    "for index, label in enumerate(ax2.xaxis.get_ticklabels()):\n",
    "    if index % 28 != 0:\n",
    "        label.set_visible(False)\n",
    "\n",
    "plt.show()"
   ]
  }
 ],
 "metadata": {
  "kernelspec": {
   "display_name": "cyclops",
   "language": "python",
   "name": "cyclops"
  },
  "language_info": {
   "codemirror_mode": {
    "name": "ipython",
    "version": 3
   },
   "file_extension": ".py",
   "mimetype": "text/x-python",
   "name": "python",
   "nbconvert_exporter": "python",
   "pygments_lexer": "ipython3",
   "version": "3.9.7"
  }
 },
 "nbformat": 4,
 "nbformat_minor": 5
}
