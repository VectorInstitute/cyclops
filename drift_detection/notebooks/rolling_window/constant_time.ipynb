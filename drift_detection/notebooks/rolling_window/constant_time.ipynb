{
 "cells": [
  {
   "cell_type": "code",
   "execution_count": null,
   "id": "9a0204ce-4c3e-44d4-ba4e-87700c720acf",
   "metadata": {},
   "outputs": [],
   "source": [
    "import os\n",
    "import random\n",
    "import sys\n",
    "\n",
    "import matplotlib as mpl\n",
    "import matplotlib.pyplot as plt\n",
    "import numpy as np\n",
    "import pandas as pd\n",
    "import torch.nn as nn\n",
    "import torch.optim as optim\n",
    "from sklearn.preprocessing import StandardScaler\n",
    "from alibi_detect.cd import MMDDrift\n",
    "import random\n",
    "from matplotlib.colors import ListedColormap\n",
    "\n",
    "\n",
    "sys.path.append(\"../..\")\n",
    "\n",
    "from utils.utils import *\n",
    "from drift_detector.rolling_window import *\n",
    "from baseline_models.temporal.pytorch.optimizer import Optimizer\n",
    "from baseline_models.temporal.pytorch.utils import *"
   ]
  },
  {
   "cell_type": "code",
   "execution_count": null,
   "id": "9dc229b2-82b7-45f6-808a-f03b438f09ba",
   "metadata": {},
   "outputs": [],
   "source": [
    "PATH = \"/mnt/nfs/project/delirium/drift_exp/JULY-04-2022\"\n",
    "threshold=0.05\n",
    "num_timesteps = 6\n",
    "stat_window=60\n",
    "lookup_window=0\n",
    "stride=1\n",
    "run=1\n",
    "shift=\"covid\"\n",
    "hospital = [\"SBK\", \"UHNTG\", \"THPC\", \"THPM\", \"UHNTW\", \"SMH\",\"MSH\",\"PMH\"]\n",
    "outcome=\"mortality\"\n",
    "aggregation_type=\"time\"\n",
    "scale=True"
   ]
  },
  {
   "cell_type": "code",
   "execution_count": null,
   "id": "94627389-7636-4555-a27b-457d3980fad5",
   "metadata": {},
   "outputs": [],
   "source": [
    "admin_data, x, y = get_gemini_data(PATH)\n",
    "\n",
    "numerical_cols = get_numerical_cols(PATH)\n",
    "for col in numerical_cols:\n",
    "    scaler = StandardScaler().fit(x[col].values.reshape(-1, 1))\n",
    "    x[col] = pd.Series(\n",
    "        np.squeeze(scaler.transform(x[col].values.reshape(-1, 1))),\n",
    "        index=x[col].index,\n",
    "    )\n",
    "X = reshape_inputs(x, num_timesteps)"
   ]
  },
  {
   "cell_type": "markdown",
   "id": "3508a128-d17a-4601-b97e-18628c9bdee2",
   "metadata": {},
   "source": [
    "## Set constant reference distribution"
   ]
  },
  {
   "cell_type": "code",
   "execution_count": null,
   "id": "cb25fc74-11f8-4ff7-89dc-93b5e5164d32",
   "metadata": {},
   "outputs": [],
   "source": [
    "(x_train, y_train), (x_val, y_val), (x_test, y_test), feats, orig_dims, admin_data = import_dataset_hospital(admin_data, x, y, shift, outcome, hospital, run, shuffle=True)\n",
    "\n",
    "random.seed(1)\n",
    "\n",
    "# Normalize data\n",
    "(X_tr_normalized, y_tr),(X_val_normalized, y_val), (X_t_normalized, y_t) = normalize_data(aggregation_type, admin_data, num_timesteps, x_train, y_train, x_val, y_val, x_test, y_test)\n",
    "# Scale data\n",
    "if scale:\n",
    "    X_tr_normalized, X_val_normalized, X_t_normalized = scale_data(numerical_cols, X_tr_normalized, X_val_normalized, X_t_normalized)\n",
    "# Process data\n",
    "X_tr_final, X_val_final, X_t_final = process_data(aggregation_type, num_timesteps, X_tr_normalized, X_val_normalized, X_t_normalized)"
   ]
  },
  {
   "cell_type": "markdown",
   "id": "875c1032-4b87-4c8b-bc89-ffcc311259c0",
   "metadata": {},
   "source": [
    "## Create Data Streams"
   ]
  },
  {
   "cell_type": "code",
   "execution_count": null,
   "id": "4213b586-46d5-4607-ae79-7a262e252ac1",
   "metadata": {},
   "outputs": [],
   "source": [
    "start_date = date(2019, 1, 1)\n",
    "end_date = date(2020, 8, 1)\n",
    "\n",
    "val_ids=list(X_val_normalized.index.get_level_values(0).unique())"
   ]
  },
  {
   "cell_type": "code",
   "execution_count": null,
   "id": "04bf4086-e759-4a88-b781-c241106a56ea",
   "metadata": {},
   "outputs": [],
   "source": [
    "x_test_stream, y_test_stream, measure_dates_test = get_streams(x, y, admin_data, start_date, end_date, stride=1, window=1, ids_to_exclude=val_ids)"
   ]
  },
  {
   "cell_type": "markdown",
   "id": "de8fcfb0-9637-4eb9-a1e1-4e4463ba537a",
   "metadata": {},
   "source": [
    "## Rolling Window Drift"
   ]
  },
  {
   "cell_type": "code",
   "execution_count": null,
   "id": "7ae5be77-cd44-4e8a-9c3d-402196327952",
   "metadata": {},
   "outputs": [],
   "source": [
    "dr_technique=\"BBSDs_trained_LSTM\"\n",
    "model_path=os.path.join(os.getcwd(),\"../../saved_models/\"+shift+\"_lstm.pt\")\n",
    "md_test=\"MMD\"\n",
    "sign_level=0.05\n",
    "sample=1000\n",
    "dataset=\"gemini\"\n",
    "context_type=\"lstm\"\n",
    "representation=\"rf\"\n",
    "\n",
    "shift_reductor = ShiftReductor(\n",
    "    X_tr_final, y_tr, dr_technique, orig_dims, dataset, var_ret=0.8, model_path=model_path,\n",
    ")\n",
    "# Get shift detector\n",
    "shift_detector = ShiftDetector(\n",
    "    dr_technique, md_test, sign_level, shift_reductor, sample, dataset, feats, model_path, context_type, representation,\n",
    ")"
   ]
  },
  {
   "cell_type": "code",
   "execution_count": null,
   "id": "a28af0ab-3df8-4277-a044-d8f363653a60",
   "metadata": {},
   "outputs": [],
   "source": [
    "dist_test, pvals_test = rolling_window_drift(X_tr_final, x_test_stream, shift_detector, sample, stat_window, lookup_window, stride, num_timesteps, threshold, X_val_final)"
   ]
  },
  {
   "cell_type": "markdown",
   "id": "3bfa1dee-dce1-461e-958c-7870e4050984",
   "metadata": {},
   "source": [
    "## Rolling Window Prediction Performance"
   ]
  },
  {
   "cell_type": "code",
   "execution_count": null,
   "id": "15a1d71e-19f8-4d70-bd65-c4c4f7e3124e",
   "metadata": {},
   "outputs": [],
   "source": [
    "from drift_detection.baseline_models.temporal.pytorch.optimizer import Optimizer\n",
    "from drift_detection.baseline_models.temporal.pytorch.utils import *\n",
    "\n",
    "output_dim = 1\n",
    "batch_size = 64\n",
    "input_dim = 108\n",
    "timesteps = 6\n",
    "hidden_dim = 64\n",
    "layer_dim = 2\n",
    "dropout = 0.2\n",
    "n_epochs = 256\n",
    "learning_rate = 2e-3\n",
    "weight_decay = 1e-6\n",
    "last_timestep_only = False\n",
    "\n",
    "device = get_device()\n",
    "\n",
    "model_params = {\n",
    "    \"device\": device,\n",
    "    \"input_dim\": input_dim,\n",
    "    \"hidden_dim\": hidden_dim,\n",
    "    \"layer_dim\": layer_dim,\n",
    "    \"output_dim\": output_dim,\n",
    "    \"dropout_prob\": dropout,\n",
    "    \"last_timestep_only\": last_timestep_only,\n",
    "}\n",
    "\n",
    "model = get_temporal_model(\"lstm\", model_params).to(device)\n",
    "model_path=os.path.join(os.getcwd(),\"../../saved_models/\"+shift+\"_lstm.pt\")\n",
    "model.load_state_dict(torch.load(model_path))\n",
    "loss_fn = nn.BCEWithLogitsLoss(reduction=\"none\")\n",
    "optimizer = optim.Adagrad(\n",
    "    model.parameters(), lr=learning_rate, weight_decay=weight_decay\n",
    ")\n",
    "lr_scheduler = optim.lr_scheduler.StepLR(optimizer, step_size=128, gamma=0.5)\n",
    "activation = nn.Sigmoid()\n",
    "opt = Optimizer(\n",
    "    model=model,\n",
    "    loss_fn=loss_fn,\n",
    "    optimizer=optimizer,\n",
    "    activation=activation,\n",
    "    lr_scheduler=lr_scheduler,\n",
    ")"
   ]
  },
  {
   "cell_type": "code",
   "execution_count": null,
   "id": "37651b2c-3c16-469d-a6b7-897932cab2d1",
   "metadata": {},
   "outputs": [],
   "source": [
    "performance_metrics = rolling_window_performance(x_test_stream, y_test_stream, opt, sample, stat_window, lookup_window, stride, num_timesteps, threshold, X_val_final)"
   ]
  },
  {
   "cell_type": "code",
   "execution_count": null,
   "id": "371b47d0-eec9-482f-a702-5b44cd633f70",
   "metadata": {},
   "outputs": [],
   "source": [
    "end = len(pvals_test)\n",
    "threshold=0.05\n",
    "measure_dates_test_adjust = [(datetime.datetime.strptime(date,\"%Y-%m-%d\")+datetime.timedelta(days=lookup_window+stat_window)).strftime(\"%Y-%m-%d\") for date in measure_dates_test]\n",
    "fig, (ax1, ax2, ax3, ax4, ax5) = plt.subplots(5, 1, figsize=(22,12))\n",
    "results = pd.DataFrame(\n",
    "    {'dates': measure_dates_test_adjust[1:end],\n",
    "     'pval': pvals_test[0:end],\n",
    "     'dist': dist_test[0:end]\n",
    "     'auroc': auroc_test[0:end],\n",
    "     'auprc': auprc_test[0:end],\n",
    "     'accuracy': accuracy_test[0:end],\n",
    "     'detection': np.where(pvals_test[0:end]<threshold,1,0)\n",
    "    })\n",
    "results.to_pickle(os.path.join(PATH,shift,shift+\"_\"+dr_technique+\"_\"+md_test+\"_results.pkl\")) \n",
    "cmap = ListedColormap(['lightgrey','red'])\n",
    "ax1.plot(results['dates'], results['pval'], '.-', color=\"red\", linewidth=0.5, markersize=2)\n",
    "ax1.set_xlim(results['dates'][plot_start], results['dates'][plot_end])\n",
    "ax1.axhline(y=threshold, color='dimgrey', linestyle='--')\n",
    "ax1.set_ylabel('P-Values',fontsize=16)\n",
    "ax1.set_xticklabels([])\n",
    "ax1.pcolorfast(ax1.get_xlim(), ax1.get_ylim(),results['detection'].values[np.newaxis], cmap = cmap, alpha = 0.4)\n",
    "  \n",
    "ax2.plot(results['dates'], results['dist'], '.-',color=\"red\", linewidth=0.5, markersize=2)\n",
    "ax2.set_xlim(results['dates'][plot_start], results['dates'][plot_end])\n",
    "ax2.set_ylabel('Distance',fontsize=16)\n",
    "ax2.axhline(y=np.mean(results['dist']), color='dimgrey', linestyle='--')\n",
    "ax2.set_xticklabels([])\n",
    "ax2.pcolorfast(ax2.get_xlim(), ax2.get_ylim(),results['detection'].values[np.newaxis], cmap = cmap, alpha = 0.4)\n",
    "\n",
    "ax3.plot(results['dates'], results['accuracy'], '.-',color=\"blue\", linewidth=0.5, markersize=2)\n",
    "ax3.set_xlim(results['dates'][plot_start], results['dates'][plot_end])\n",
    "ax3.set_ylabel('Accuracy', fontsize=16)\n",
    "ax3.axhline(y=np.mean(results['accuracy']), color='dimgrey', linestyle='--')\n",
    "ax3.set_xticklabels([])\n",
    "ax3.pcolorfast(ax3.get_xlim(), ax3.get_ylim(),results['detection'].values[np.newaxis], cmap = cmap, alpha = 0.4)\n",
    "\n",
    "ax4.plot(results['dates'], results['auroc'], '.-',color=\"blue\", linewidth=0.5, markersize=2)\n",
    "ax4.set_xlim(results['dates'][plot_start], results['dates'][plot_end])\n",
    "ax4.set_ylabel('AuRoc', fontsize=16)\n",
    "ax4.axhline(y=np.mean(results['auroc']), color='dimgrey', linestyle='--')\n",
    "ax4.set_xticklabels([])\n",
    "ax4.pcolorfast(ax4.get_xlim(), ax4.get_ylim(),results['detection'].values[np.newaxis], cmap = cmap, alpha = 0.4)\n",
    "\n",
    "ax5.plot(results['dates'], results['auprc'], '.-',color=\"blue\", linewidth=0.5, markersize=2)\n",
    "ax5.set_xlim(results['dates'][plot_start], results['dates'][plot_end])\n",
    "ax5.set_ylabel('AuPrc',fontsize=16)\n",
    "ax5.set_xlabel('time (s)', fontsize=16)\n",
    "ax5.axhline(y=np.mean(results['auprc']), color='dimgrey', linestyle='--')\n",
    "ax5.tick_params(axis='x', labelrotation=45)\n",
    "ax5.pcolorfast(ax5.get_xlim(), ax5.get_ylim(),results['detection'].values[np.newaxis], cmap = cmap, alpha = 0.4)\n",
    "\n",
    "for index, label in enumerate(ax5.xaxis.get_ticklabels()):\n",
    "    if index % 28 != 0:\n",
    "        label.set_visible(False)\n",
    "\n",
    "plt.show()"
   ]
  }
 ],
 "metadata": {
  "kernelspec": {
   "display_name": "cyclops",
   "language": "python",
   "name": "cyclops"
  },
  "language_info": {
   "codemirror_mode": {
    "name": "ipython",
    "version": 3
   },
   "file_extension": ".py",
   "mimetype": "text/x-python",
   "name": "python",
   "nbconvert_exporter": "python",
   "pygments_lexer": "ipython3",
   "version": "3.9.7"
  }
 },
 "nbformat": 4,
 "nbformat_minor": 5
}
