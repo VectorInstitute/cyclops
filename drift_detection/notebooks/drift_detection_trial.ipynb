{
 "cells": [
  {
   "cell_type": "code",
   "execution_count": 5,
   "id": "checked-supervisor",
   "metadata": {
    "scrolled": false
   },
   "outputs": [],
   "source": [
    "import sys\n",
    "sys.path.append(\"..\")\n",
    "from shift_detector import *\n",
    "from shift_reductor import *\n",
    "from shift_experiments import *\n",
    "from shift_tester import *\n",
    "import pandas as pd\n",
    "import os\n",
    "from shift_plot_utils import *\n",
    "from shift_utils import *\n",
    "from legacy_utils import *"
   ]
  },
  {
   "cell_type": "markdown",
   "id": "distributed-psychiatry",
   "metadata": {},
   "source": [
    "###  Load data ###"
   ]
  },
  {
   "cell_type": "code",
   "execution_count": 9,
   "id": "applied-identity",
   "metadata": {},
   "outputs": [
    {
     "name": "stdout",
     "output_type": "stream",
     "text": [
      "Loading data...\n"
     ]
    }
   ],
   "source": [
    "print(\"Loading data...\")  \n",
    "(X_s_tr, y_s_tr), (X_s_val, y_s_val), (X_t, y_t), orig_dims = import_dataset('los')"
   ]
  },
  {
   "cell_type": "markdown",
   "id": "requested-vanilla",
   "metadata": {},
   "source": [
    "### Define Shift Detector and Parameters ###"
   ]
  },
  {
   "cell_type": "code",
   "execution_count": 10,
   "id": "66b1a046-20a3-4723-afff-296837dc05bf",
   "metadata": {},
   "outputs": [
    {
     "name": "stdout",
     "output_type": "stream",
     "text": [
      "Building shift detector...\n"
     ]
    }
   ],
   "source": [
    "sign_level = 0.05\n",
    "dr_technique = \"NoRed\"\n",
    "md_test = \"Classifier\"\n",
    "red_model = None\n",
    "datset = \"test experiment\"\n",
    "samples = [10, 20, 50, 100, 200, 500, 1000]\n",
    "sample = samples[5]\n",
    "orig_dims = X_s_tr.shape[1:]\n",
    "print(\"Building shift detector...\")\n",
    "sd = ShiftDetector(dr_technique, md_test, sign_level, red_model, sample, datset)"
   ]
  },
  {
   "cell_type": "markdown",
   "id": "normal-animation",
   "metadata": {},
   "source": [
    "#### Drift from 2019 to 2019 ####"
   ]
  },
  {
   "cell_type": "code",
   "execution_count": 11,
   "id": "impossible-tunnel",
   "metadata": {},
   "outputs": [
    {
     "name": "stderr",
     "output_type": "stream",
     "text": [
      "No GPU detected, fall back on CPU.\n"
     ]
    },
    {
     "name": "stdout",
     "output_type": "stream",
     "text": [
      "0.09392214161842637 0.10891152267749686\n"
     ]
    }
   ],
   "source": [
    "p_val, dist, red_dim, red_model, t1_acc, t2_acc = sd.detect_data_shift(X_s_tr, y_s_tr, X_s_tr, y_s_tr, X_s_val, y_s_val, orig_dims)\n",
    "print(p_val,dist)"
   ]
  },
  {
   "cell_type": "markdown",
   "id": "creative-thailand",
   "metadata": {},
   "source": [
    "#### Drift from 2019 to 2020 ####"
   ]
  },
  {
   "cell_type": "code",
   "execution_count": 12,
   "id": "patent-ownership",
   "metadata": {
    "scrolled": false
   },
   "outputs": [
    {
     "name": "stderr",
     "output_type": "stream",
     "text": [
      "No GPU detected, fall back on CPU.\n"
     ]
    },
    {
     "name": "stdout",
     "output_type": "stream",
     "text": [
      "0.32785030639922275 0.07744927536231884\n"
     ]
    }
   ],
   "source": [
    "p_val, dist, red_dim, red_model, t1_acc, t2_acc = sd.detect_data_shift(X_s_tr, y_s_tr, X_s_val, y_s_val, X_t, y_t, orig_dims)\n",
    "print(p_val,dist)"
   ]
  },
  {
   "cell_type": "markdown",
   "id": "imperial-clark",
   "metadata": {},
   "source": [
    "#### Knockout Shift ####"
   ]
  },
  {
   "cell_type": "code",
   "execution_count": 16,
   "id": "418111e5-e908-40b6-ba44-de81a9f91e76",
   "metadata": {},
   "outputs": [
    {
     "name": "stderr",
     "output_type": "stream",
     "text": [
      "No GPU detected, fall back on CPU.\n"
     ]
    },
    {
     "name": "stdout",
     "output_type": "stream",
     "text": [
      "0.06082786758764797 0.14681967213114755\n"
     ]
    }
   ],
   "source": [
    "shift = \"ko_shift_1.0\"\n",
    "X_ko, y_ko = apply_shift(X_s_tr, y_s_tr, X_s_val, y_s_val, shift)\n",
    "p_val, dist, red_dim, red_model, t1_acc, t2_acc = sd.detect_data_shift(X_s_tr, y_s_tr, X_s_val, y_s_val, X_ko, y_ko, orig_dims)\n",
    "print(p_val,dist)"
   ]
  },
  {
   "cell_type": "markdown",
   "id": "attempted-peripheral",
   "metadata": {},
   "source": [
    "#### Gaussian Noise Shift ####"
   ]
  },
  {
   "cell_type": "code",
   "execution_count": 22,
   "id": "close-clearance",
   "metadata": {},
   "outputs": [
    {
     "name": "stderr",
     "output_type": "stream",
     "text": [
      "No GPU detected, fall back on CPU.\n",
      "No GPU detected, fall back on CPU.\n"
     ]
    },
    {
     "name": "stdout",
     "output_type": "stream",
     "text": [
      "0.5731153736169436 0.052812299240158615\n",
      "0.9747435623461163 0.00981928821685414\n"
     ]
    }
   ],
   "source": [
    "shift = \"small_gn_shift_0.1\"\n",
    "X_sgn, y_sgn = apply_shift(X_s_tr, y_s_tr, X_s_val, y_s_val, shift)\n",
    "p_val, dist, red_dim, red_model, t1_acc, t2_acc = sd.detect_data_shift(X_s_tr, y_s_tr, X_s_val, y_s_val, X_sgn, y_sgn, orig_dims)\n",
    "print(p_val,dist)\n",
    "\n",
    "shift = \"large_gn_shift_1.0\"\n",
    "X_lgn, y_lgn = apply_shift(X_s_tr, y_s_tr, X_s_val, y_s_val, shift)\n",
    "p_val, dist, red_dim, red_model, t1_acc, t2_acc = sd.detect_data_shift(X_s_tr, y_s_tr, X_s_val, y_s_val, X_lgn, y_lgn, orig_dims)\n",
    "print(p_val,dist)"
   ]
  },
  {
   "cell_type": "markdown",
   "id": "australian-intake",
   "metadata": {},
   "source": [
    "#### Multiway Feature Association Shift ####"
   ]
  },
  {
   "cell_type": "code",
   "execution_count": 18,
   "id": "70e786ad-5ed4-4cc4-b9bf-7537ce7ad10d",
   "metadata": {},
   "outputs": [
    {
     "name": "stderr",
     "output_type": "stream",
     "text": [
      "No GPU detected, fall back on CPU.\n"
     ]
    },
    {
     "name": "stdout",
     "output_type": "stream",
     "text": [
      "0.7493483684547241 0.04490165631469979\n"
     ]
    }
   ],
   "source": [
    "shift = \"mfa_shift_0.5\"\n",
    "X_mfa, y_mfa = apply_shift(X_s_tr, y_s_tr, X_s_val, y_s_val, shift)\n",
    "p_val, dist, red_dim, red_model, t1_acc, t2_acc = sd.detect_data_shift(X_s_tr, y_s_tr, X_s_val, y_s_val, X_mfa[:sample,:], y_mfa[:sample], orig_dims)\n",
    "print(p_val,dist)"
   ]
  },
  {
   "cell_type": "markdown",
   "id": "legal-stationery",
   "metadata": {},
   "source": [
    "#### Changepoint Shift ####"
   ]
  },
  {
   "cell_type": "code",
   "execution_count": 19,
   "id": "66247b6e-2af0-4ba7-b30a-e7d7229f68f4",
   "metadata": {},
   "outputs": [
    {
     "name": "stderr",
     "output_type": "stream",
     "text": [
      "Features [15 16 19] are constant.\n",
      "invalid value encountered in true_divide\n",
      "No GPU detected, fall back on CPU.\n"
     ]
    },
    {
     "name": "stdout",
     "output_type": "stream",
     "text": [
      "0.788445033272746 0.04038461538461539\n"
     ]
    }
   ],
   "source": [
    "shift= \"cp_shift_0.75\"\n",
    "X_cp, y_cp = apply_shift(X_s_tr, y_s_tr, X_s_val, y_s_val, shift)\n",
    "p_val, dist, red_dim, red_model, t1_acc, t2_acc = sd.detect_data_shift(X_s_tr, y_s_tr, X_s_val, y_s_val, X_cp[:sample,:], y_cp[:sample], orig_dims)\n",
    "print(p_val,dist)"
   ]
  }
 ],
 "metadata": {
  "kernelspec": {
   "display_name": "vector_delirium",
   "language": "python",
   "name": "vector_delirium"
  },
  "language_info": {
   "codemirror_mode": {
    "name": "ipython",
    "version": 3
   },
   "file_extension": ".py",
   "mimetype": "text/x-python",
   "name": "python",
   "nbconvert_exporter": "python",
   "pygments_lexer": "ipython3",
   "version": "3.8.5"
  }
 },
 "nbformat": 4,
 "nbformat_minor": 5
}
