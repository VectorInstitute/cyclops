{
 "cells": [
  {
   "cell_type": "markdown",
   "id": "b531fc96-47b9-41e7-a97a-2eeacec256eb",
   "metadata": {},
   "source": [
    "## Get all patient encounters including ER data, with diagnoses from a hospital from a Start Date to End Date, with vitals and labs and interventions."
   ]
  },
  {
   "cell_type": "code",
   "execution_count": 1,
   "id": "c79fbca4-e927-4eb0-8798-d96bfde3b2cf",
   "metadata": {},
   "outputs": [
    {
     "name": "stderr",
     "output_type": "stream",
     "text": [
      "2022-06-06 08:27:56,107 \u001b[1;37mINFO\u001b[0m cyclops.orm     - Database setup, ready to run queries!\n"
     ]
    }
   ],
   "source": [
    "import random\n",
    "\n",
    "import matplotlib.pyplot as plt\n",
    "import pandas as pd\n",
    "import sys\n",
    "import os\n",
    "\n",
    "sys.path.append('../..')\n",
    "\n",
    "from cyclops.feature_handler import FeatureHandler\n",
    "from cyclops.processor import featurize\n",
    "from cyclops.processors.aggregate import Aggregator\n",
    "from cyclops.processors.column_names import (\n",
    "    ADMIT_TIMESTAMP,\n",
    "    AGE,\n",
    "    DIAGNOSIS_CODE,\n",
    "    ENCOUNTER_ID,\n",
    "    HOSPITAL_ID,\n",
    "    SEX,\n",
    "    DISCHARGE_DISPOSITION,\n",
    "    DISCHARGE_TIMESTAMP,\n",
    "    EVENT_NAME,\n",
    "    EVENT_TIMESTAMP,\n",
    "    EVENT_VALUE,\n",
    "    EVENT_VALUE_UNIT,\n",
    "    LENGTH_OF_STAY_IN_ER,\n",
    "    DIAGNOSIS_TYPE\n",
    ")\n",
    "\n",
    "from cyclops.processors.constants import SMH, THPM, SBK, UHNTG, UHNTW, THPC, PMH, MSH\n",
    "from cyclops.processors.impute import Imputer\n",
    "from cyclops.processors.util import gather_columns\n",
    "from cyclops.query import gemini"
   ]
  },
  {
   "cell_type": "markdown",
   "id": "f52b7037-b739-44d5-b00e-fbd9c0929571",
   "metadata": {},
   "source": [
    "## Config"
   ]
  },
  {
   "cell_type": "code",
   "execution_count": 2,
   "id": "abc06791-5b2e-4817-b882-cc47dbf97989",
   "metadata": {},
   "outputs": [],
   "source": [
    "path = \"/mnt/nfs/project/delirium/drift_exp/\"\n",
    "hospitals=[SMH,THPM, SBK, UHNTG, UHNTW, THPC, PMH, MSH]\n",
    "from_date=\"2018-01-01\"\n",
    "to_date=\"2020-12-31\"\n",
    "years=[2018, 2019, 2020]"
   ]
  },
  {
   "cell_type": "code",
   "execution_count": null,
   "id": "22d8ffb3-2793-4130-821a-73d0500ff057",
   "metadata": {},
   "outputs": [],
   "source": [
    "patients = gemini.patients(\n",
    "    hospitals=hospitals, years=years, include_er_data=True\n",
    ")\n",
    "patients_diagnoses = gemini.diagnoses(patients=patients)\n",
    "patients_vitals = gemini.events(patients=patients, category=\"vitals\")\n",
    "patients_labs = gemini.events(patients=patients, category=\"lab\")\n",
    "patients_interventions = gemini.events(patients=patients, category=\"intervention\")\n",
    "\n",
    "diagnoses_data = patients_diagnoses.run()\n",
    "vitals_data = patients_vitals.run()\n",
    "labs_data = patients_labs.run()\n",
    "interventions_data = patients_interventions.run()\n",
    "\n",
    "print(f\"{len(diagnoses_data)} diagnoses rows extracted!\")\n",
    "print(f\"{len(vitals_data)} vitals rows extracted!\")\n",
    "print(f\"{len(labs_data)} labs rows extracted!\")\n",
    "print(f\"{len(interventions_data)} interventions rows extracted!\")\n",
    "\n",
    "patients_diagnoses.save(path, \"diagnoses\")\n",
    "patients_vitals.save(path, \"vitals\")\n",
    "patients_labs.save(path, \"lab\")\n",
    "patients_interventions.save(path, \"intervention\")"
   ]
  },
  {
   "cell_type": "markdown",
   "id": "6e9179da-9968-4f7b-9394-4df02dd4300f",
   "metadata": {},
   "source": [
    "## Process queried data into features. (Static + Temporal)."
   ]
  },
  {
   "cell_type": "code",
   "execution_count": null,
   "id": "3c6e1953-6868-40fa-b1be-2811650389dd",
   "metadata": {},
   "outputs": [
    {
     "name": "stderr",
     "output_type": "stream",
     "text": [
      "2022-06-06 08:28:45,854 \u001b[1;37mINFO\u001b[0m cyclops.processors.util - Processing raw diagnosis codes...\n",
      "2022-06-06 08:28:45,880 \u001b[1;37mINFO\u001b[0m cyclops.processors.util - # samples: 824193, # encounters: 90699\n",
      "2022-06-06 08:29:13,363 \u001b[1;37mINFO\u001b[0m cyclops.processors.util - Grouping ICD codes to trajectories...\n",
      "2022-06-06 08:29:13,375 \u001b[1;37mINFO\u001b[0m cyclops.processors.util - # samples: 824193, # encounters: 90699\n",
      "2022-06-06 08:29:13,434 \u001b[1;37mINFO\u001b[0m cyclops.processors.diagnoses - # diagnosis features: 21, # encounters: 90699\n",
      "2022-06-06 08:29:20,390 \u001b[1;37mINFO\u001b[0m cyclops.utils.profile - Finished executing function group_diagnosis_codes_to_trajectories in 34.536333 s\n",
      "2022-06-06 08:29:20,590 \u001b[1;37mINFO\u001b[0m cyclops.processors.util - Computing static columns...\n",
      "2022-06-06 08:29:20,603 \u001b[1;37mINFO\u001b[0m cyclops.processors.util - # samples: 824193, # encounters: 90699\n",
      "2022-06-06 08:29:20,606 \u001b[1;37mINFO\u001b[0m cyclops.processors.util - # columns: 9, # encounters: 90699\n",
      "2022-06-06 08:31:12,714 \u001b[1;37mINFO\u001b[0m cyclops.processors.statics - Found {'age', 'discharge_disposition', 'discharge_timestamp', 'hospital_id', 'sex', 'length_of_stay_in_er', 'admit_timestamp'} static feature columns.\n",
      "2022-06-06 08:31:12,717 \u001b[1;37mINFO\u001b[0m cyclops.utils.profile - Finished executing function infer_statics in 112.109791 s\n",
      "2022-06-06 08:32:45,559 \u001b[1;37mINFO\u001b[0m cyclops.utils.profile - Finished executing function compute_statics in 204.968887 s\n",
      "2022-06-06 08:32:50,666 \u001b[1;37mINFO\u001b[0m cyclops.processors.util - Cleaning raw event data...\n",
      "2022-06-06 08:32:50,737 \u001b[1;37mINFO\u001b[0m cyclops.processors.util - # samples: 10684768, # encounters: 90482\n",
      "2022-06-06 08:32:50,740 \u001b[1;37mINFO\u001b[0m cyclops.processors.util - # columns: 59, # encounters: 90482\n",
      "2022-06-06 08:33:04,003 \u001b[1;37mINFO\u001b[0m cyclops.processors.util - Remove text in parentheses and normalise event names...\n",
      "2022-06-06 08:33:04,071 \u001b[1;37mINFO\u001b[0m cyclops.processors.util - # samples: 10684768, # encounters: 90482\n",
      "2022-06-06 08:33:04,074 \u001b[1;37mINFO\u001b[0m cyclops.processors.util - # columns: 59, # encounters: 90482\n",
      "2022-06-06 08:33:20,533 \u001b[1;37mINFO\u001b[0m cyclops.processors.util - Drop unsupported events...\n",
      "2022-06-06 08:33:20,596 \u001b[1;37mINFO\u001b[0m cyclops.processors.util - # samples: 9726373, # encounters: 90482\n",
      "2022-06-06 08:33:20,599 \u001b[1;37mINFO\u001b[0m cyclops.processors.util - # columns: 59, # encounters: 90482\n",
      "2022-06-06 08:33:49,300 \u001b[1;37mINFO\u001b[0m cyclops.processors.util - Convert Positive/Negative to 1/0...\n",
      "2022-06-06 08:33:49,363 \u001b[1;37mINFO\u001b[0m cyclops.processors.util - # samples: 9726373, # encounters: 90482\n",
      "2022-06-06 08:33:49,365 \u001b[1;37mINFO\u001b[0m cyclops.processors.util - # columns: 59, # encounters: 90482\n",
      "2022-06-06 08:33:57,834 \u001b[1;37mINFO\u001b[0m cyclops.processors.util - Remove any text in paranthesis\n",
      "2022-06-06 08:33:57,899 \u001b[1;37mINFO\u001b[0m cyclops.processors.util - # samples: 9726373, # encounters: 90482\n",
      "2022-06-06 08:33:57,902 \u001b[1;37mINFO\u001b[0m cyclops.processors.util - # columns: 59, # encounters: 90482\n",
      "2022-06-06 08:34:11,332 \u001b[1;37mINFO\u001b[0m cyclops.processors.util - Fixing inequalities and removing outlier values...\n",
      "2022-06-06 08:34:11,395 \u001b[1;37mINFO\u001b[0m cyclops.processors.util - # samples: 9726373, # encounters: 90482\n",
      "2022-06-06 08:34:11,397 \u001b[1;37mINFO\u001b[0m cyclops.processors.util - # columns: 59, # encounters: 90482\n",
      "2022-06-06 08:34:12,985 \u001b[1;37mINFO\u001b[0m cyclops.processors.util - Fill empty result string values with NaN...\n",
      "2022-06-06 08:34:13,050 \u001b[1;37mINFO\u001b[0m cyclops.processors.util - # samples: 9726373, # encounters: 90482\n",
      "2022-06-06 08:34:13,052 \u001b[1;37mINFO\u001b[0m cyclops.processors.util - # columns: 59, # encounters: 90482\n",
      "2022-06-06 08:34:13,912 \u001b[1;37mINFO\u001b[0m cyclops.processors.events - Converting string result values to numeric...\n",
      "2022-06-06 08:34:13,914 \u001b[1;37mINFO\u001b[0m cyclops.processors.events - Normalizing units...\n",
      "2022-06-06 08:34:39,958 \u001b[1;37mINFO\u001b[0m cyclops.utils.profile - Finished executing function normalise_events in 114.181831 s\n",
      "2022-06-06 08:34:39,962 \u001b[1;37mINFO\u001b[0m cyclops.processors.util - Gathering event features...\n",
      "2022-06-06 08:34:40,026 \u001b[1;37mINFO\u001b[0m cyclops.processors.util - # samples: 9726373, # encounters: 90482\n",
      "2022-06-06 08:34:40,028 \u001b[1;37mINFO\u001b[0m cyclops.processors.util - # columns: 59, # encounters: 90482\n",
      "2022-06-06 08:35:17,183 \u001b[1;37mINFO\u001b[0m cyclops.processors.util - Restricting events within window...\n",
      "2022-06-06 08:35:17,217 \u001b[1;37mINFO\u001b[0m cyclops.processors.util - # samples: 4324402, # encounters: 90482\n",
      "2022-06-06 08:35:17,220 \u001b[1;37mINFO\u001b[0m cyclops.processors.util - # columns: 59, # encounters: 90482\n"
     ]
    }
   ],
   "source": [
    "diagnoses_data = pd.read_parquet(os.path.join(path,\"query_diagnoses.gzip\"))\n",
    "vitals_data = pd.read_parquet(os.path.join(path,\"query_vitals.gzip\"))\n",
    "labs_data = pd.read_parquet(os.path.join(path,\"query_lab.gzip\"))\n",
    "interventions_data = pd.read_parquet(os.path.join(path,\"query_intervention.gzip\"))\n",
    "\n",
    "static_diagnoses_data = gather_columns(\n",
    "    diagnoses_data,\n",
    "    [\n",
    "        ENCOUNTER_ID,\n",
    "        AGE,\n",
    "        SEX,\n",
    "        DIAGNOSIS_CODE,\n",
    "        HOSPITAL_ID,\n",
    "        ADMIT_TIMESTAMP,\n",
    "        LENGTH_OF_STAY_IN_ER,\n",
    "        DISCHARGE_DISPOSITION,\n",
    "        DISCHARGE_TIMESTAMP,\n",
    "        ADMIT_TIMESTAMP\n",
    "        \n",
    "    ],\n",
    ")\n",
    "\n",
    "feature_handler = featurize(\n",
    "    static_data=[static_diagnoses_data],\n",
    "    temporal_data=[labs_data, vitals_data],\n",
    "    aggregator=Aggregator(bucket_size=6, window=48),\n",
    "    static_imputer=Imputer(\n",
    "        strategy=\"median\",\n",
    "        encounter_missingness_threshold=0.25,\n",
    "        feature_missingness_threshold=0.5,\n",
    "    ),\n",
    "    temporal_imputer=Imputer(\n",
    "        strategy=None,\n",
    "        encounter_missingness_threshold=0.75,\n",
    "        feature_missingness_threshold=0.95,\n",
    "    ),\n",
    "    reference_cols=[HOSPITAL_ID, ADMIT_TIMESTAMP, DISCHARGE_TIMESTAMP],\n",
    ")"
   ]
  },
  {
   "cell_type": "markdown",
   "id": "9808107b-6901-48eb-bfe6-193f239cdd1b",
   "metadata": {},
   "source": [
    "## Create new FeatureHandler and load features from file."
   ]
  },
  {
   "cell_type": "code",
   "execution_count": null,
   "id": "9e7e9dbb-bbf3-420e-a749-d64206a41777",
   "metadata": {},
   "outputs": [],
   "source": [
    "feature_handler.save(path, \"test_features\")\n",
    "feature_handler = FeatureHandler()\n",
    "feature_handler.load(path, \"test_features\")"
   ]
  }
 ],
 "metadata": {
  "kernelspec": {
   "display_name": "cyclops-KKtuQLwg-py3.9",
   "language": "python",
   "name": "cyclops-kktuqlwg-py3.9"
  },
  "language_info": {
   "codemirror_mode": {
    "name": "ipython",
    "version": 3
   },
   "file_extension": ".py",
   "mimetype": "text/x-python",
   "name": "python",
   "nbconvert_exporter": "python",
   "pygments_lexer": "ipython3",
   "version": "3.9.7"
  }
 },
 "nbformat": 4,
 "nbformat_minor": 5
}
