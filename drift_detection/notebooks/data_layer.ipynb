{
 "cells": [
  {
   "cell_type": "markdown",
   "id": "b531fc96-47b9-41e7-a97a-2eeacec256eb",
   "metadata": {},
   "source": [
    "## Get all patient encounters including ER data, with diagnoses from a hospital from a Start Date to End Date, with vitals and labs and interventions."
   ]
  },
  {
   "cell_type": "code",
   "execution_count": null,
   "id": "51f156e2-7925-408d-911f-fd865040fb24",
   "metadata": {},
   "outputs": [],
   "source": [
    "import random\n",
    "\n",
    "import matplotlib.pyplot as plt\n",
    "import pandas as pd\n",
    "import sys\n",
    "import os\n",
    "\n",
    "sys.path.append('../..')\n",
    "\n",
    "from cyclops.feature_handler import FeatureHandler\n",
    "from cyclops.processor import featurize\n",
    "from cyclops.processors.aggregate import Aggregator\n",
    "from cyclops.processors.column_names import (\n",
    "    ADMIT_TIMESTAMP,\n",
    "    AGE,\n",
    "    DIAGNOSIS_CODE,\n",
    "    ENCOUNTER_ID,\n",
    "    HOSPITAL_ID,\n",
    "    SEX,\n",
    "    DISCHARGE_DISPOSITION,\n",
    "    DISCHARGE_TIMESTAMP,\n",
    "    EVENT_NAME,\n",
    "    EVENT_TIMESTAMP,\n",
    "    EVENT_VALUE,\n",
    "    EVENT_VALUE_UNIT,\n",
    "    LENGTH_OF_STAY_IN_ER,\n",
    "    DIAGNOSIS_TYPE\n",
    ")\n",
    "from cyclops.processors.constants import SMH\n",
    "from cyclops.processors.impute import Imputer\n",
    "from cyclops.processors.util import gather_columns\n",
    "from cyclops.query import gemini"
   ]
  },
  {
   "cell_type": "markdown",
   "id": "f52b7037-b739-44d5-b00e-fbd9c0929571",
   "metadata": {},
   "source": [
    "## Config"
   ]
  },
  {
   "cell_type": "code",
   "execution_count": null,
   "id": "abc06791-5b2e-4817-b882-cc47dbf97989",
   "metadata": {},
   "outputs": [],
   "source": [
    "path = \"/mnt/nfs/project/delirium/drift_exp/\"\n",
    "hospitals=[SMH,THPM, SBK, UHNTG, UHNTW, THPC, PMH, MSH]\n",
    "from_date=\"2018-01-01\"\n",
    "to_date=\"2020-12-31\"\n",
    "years=[2018, 2019, 2020]"
   ]
  },
  {
   "cell_type": "code",
   "execution_count": null,
   "id": "22d8ffb3-2793-4130-821a-73d0500ff057",
   "metadata": {},
   "outputs": [],
   "source": [
    "patients = gemini.patients(\n",
    "    hospitals=hospitals, years=years, include_er_data=True\n",
    ")\n",
    "patients_diagnoses = gemini.diagnoses(patients=patients)\n",
    "patients_vitals = gemini.events(patients=patients, category=\"vitals\")\n",
    "patients_labs = gemini.events(patients=patients, category=\"lab\")\n",
    "patients_interventions = gemini.events(patients=patients, category=\"intervention\")\n",
    "\n",
    "diagnoses_data = patients_diagnoses.run()\n",
    "vitals_data = patients_vitals.run()\n",
    "labs_data = patients_labs.run()\n",
    "interventions_data = patients_interventions.run()\n",
    "\n",
    "print(f\"{len(diagnoses_data)} diagnoses rows extracted!\")\n",
    "print(f\"{len(vitals_data)} vitals rows extracted!\")\n",
    "print(f\"{len(labs_data)} labs rows extracted!\")\n",
    "print(f\"{len(interventions_data)} interventions rows extracted!\")\n",
    "\n",
    "patients_diagnoses.save(path, \"diagnoses\")\n",
    "patients_vitals.save(path, \"vitals\")\n",
    "patients_labs.save(path, \"lab\")\n",
    "patients_interventions.save(path, \"intervention\")"
   ]
  },
  {
   "cell_type": "markdown",
   "id": "6e9179da-9968-4f7b-9394-4df02dd4300f",
   "metadata": {},
   "source": [
    "## Process queried data into features. (Static + Temporal)."
   ]
  },
  {
   "cell_type": "code",
   "execution_count": null,
   "id": "3c6e1953-6868-40fa-b1be-2811650389dd",
   "metadata": {},
   "outputs": [],
   "source": [
    "diagnoses_data = pd.read_parquet(os.path.join(path,\"query_diagnoses.gzip\"))\n",
    "vitals_data = pd.read_parquet(os.path.join(path,\"query_vitals.gzip\"))\n",
    "labs_data = pd.read_parquet(os.path.join(path,\"query_lab.gzip\"))\n",
    "interventions_data = pd.read_parquet(os.path.join(path,\"query_intervention.gzip\"))\n",
    "\n",
    "static_diagnoses_data = gather_columns(\n",
    "    diagnoses_data,\n",
    "    [\n",
    "        ENCOUNTER_ID,\n",
    "        AGE,\n",
    "        SEX,\n",
    "        DIAGNOSIS_CODE,\n",
    "        HOSPITAL_ID,\n",
    "        ADMIT_TIMESTAMP,\n",
    "        LENGTH_OF_STAY_IN_ER,\n",
    "        DISCHARGE_DISPOSITION,\n",
    "        DISCHARGE_TIMESTAMP,\n",
    "        ADMIT_TIMESTAMP\n",
    "        \n",
    "    ],\n",
    ")\n",
    "\n",
    "feature_handler = featurize(\n",
    "    static_data=[static_diagnoses_data],\n",
    "    temporal_data=[labs_data, vitals_data],\n",
    "    aggregator=Aggregator(bucket_size=6, window=48),\n",
    "    static_imputer=Imputer(\n",
    "        strategy=\"median\",\n",
    "        encounter_missingness_threshold=0.25,\n",
    "        feature_missingness_threshold=0.5,\n",
    "    ),\n",
    "    temporal_imputer=Imputer(\n",
    "        strategy=None,\n",
    "        encounter_missingness_threshold=0.75,\n",
    "        feature_missingness_threshold=0.95,\n",
    "    ),\n",
    "    reference_cols=[HOSPITAL_ID, ADMIT_TIMESTAMP, DISCHARGE_TIMESTAMP],\n",
    ")"
   ]
  },
  {
   "cell_type": "markdown",
   "id": "9808107b-6901-48eb-bfe6-193f239cdd1b",
   "metadata": {},
   "source": [
    "## Create new FeatureHandler and load features from file."
   ]
  },
  {
   "cell_type": "code",
   "execution_count": null,
   "id": "9e7e9dbb-bbf3-420e-a749-d64206a41777",
   "metadata": {},
   "outputs": [],
   "source": [
    "feature_handler.save(path, \"test_features\")\n",
    "feature_handler = FeatureHandler()\n",
    "feature_handler.load(path, \"test_features\")"
   ]
  }
 ],
 "metadata": {
  "kernelspec": {
   "display_name": "cyclops-KKtuQLwg-py3.9",
   "language": "python",
   "name": "cyclops-kktuqlwg-py3.9"
  },
  "language_info": {
   "codemirror_mode": {
    "name": "ipython",
    "version": 3
   },
   "file_extension": ".py",
   "mimetype": "text/x-python",
   "name": "python",
   "nbconvert_exporter": "python",
   "pygments_lexer": "ipython3",
   "version": "3.9.7"
  }
 },
 "nbformat": 4,
 "nbformat_minor": 5
}
