{
 "cells": [
  {
   "cell_type": "markdown",
   "id": "b531fc96-47b9-41e7-a97a-2eeacec256eb",
   "metadata": {},
   "source": [
    "## Get all patient encounters including ER data, with diagnoses from a hospital from a Start Date to End Date, with vitals and labs and interventions."
   ]
  },
  {
   "cell_type": "code",
   "execution_count": 1,
   "id": "c79fbca4-e927-4eb0-8798-d96bfde3b2cf",
   "metadata": {},
   "outputs": [
    {
     "name": "stderr",
     "output_type": "stream",
     "text": [
      "2022-05-31 19:27:42,009 \u001b[1;37mINFO\u001b[0m cyclops.orm     - Database setup, ready to run queries!\n"
     ]
    }
   ],
   "source": [
    "import random\n",
    "\n",
    "import matplotlib.pyplot as plt\n",
    "import pandas as pd\n",
    "import sys\n",
    "import os\n",
    "\n",
    "sys.path.append('../..')\n",
    "\n",
    "from cyclops.feature_handler import FeatureHandler\n",
    "from cyclops.processor import featurize\n",
    "from cyclops.processors.aggregate import Aggregator\n",
    "from cyclops.processors.column_names import (\n",
    "    ADMIT_TIMESTAMP,\n",
    "    AGE,\n",
    "    DIAGNOSIS_CODE,\n",
    "    ENCOUNTER_ID,\n",
    "    HOSPITAL_ID,\n",
    "    SEX,\n",
    "    DISCHARGE_DISPOSITION,\n",
    "    DISCHARGE_TIMESTAMP,\n",
    "    EVENT_NAME,\n",
    "    EVENT_TIMESTAMP,\n",
    "    EVENT_VALUE,\n",
    "    EVENT_VALUE_UNIT,\n",
    "    LENGTH_OF_STAY_IN_ER,\n",
    "    DIAGNOSIS_TYPE\n",
    ")\n",
    "\n",
    "from cyclops.processors.constants import SMH\n",
    "from cyclops.processors.impute import Imputer\n",
    "from cyclops.processors.util import gather_columns\n",
    "from cyclops.query import gemini"
   ]
  },
  {
   "cell_type": "markdown",
   "id": "f52b7037-b739-44d5-b00e-fbd9c0929571",
   "metadata": {},
   "source": [
    "## Config"
   ]
  },
  {
   "cell_type": "code",
   "execution_count": 2,
   "id": "abc06791-5b2e-4817-b882-cc47dbf97989",
   "metadata": {},
   "outputs": [],
   "source": [
    "path = \"/mnt/nfs/project/delirium/drift_exp/MAY-27-2022/\"\n",
    "hospitals=[SMH]\n",
    "from_date=\"2019-01-01\"\n",
    "to_date=\"2020-02-29\""
   ]
  },
  {
   "cell_type": "code",
   "execution_count": 3,
   "id": "63e1c0bf-348a-47ca-a3b1-56358721aa2c",
   "metadata": {},
   "outputs": [
    {
     "name": "stderr",
     "output_type": "stream",
     "text": [
      "2022-05-31 19:32:53,951 \u001b[1;37mINFO\u001b[0m cyclops.orm     - Query returned successfully!\n",
      "2022-05-31 19:32:53,955 \u001b[1;37mINFO\u001b[0m cyclops.utils.profile - Finished executing function run_query in 311.897845 s\n",
      "2022-05-31 19:39:37,378 \u001b[1;37mINFO\u001b[0m cyclops.orm     - Query returned successfully!\n",
      "2022-05-31 19:39:37,382 \u001b[1;37mINFO\u001b[0m cyclops.utils.profile - Finished executing function run_query in 403.425079 s\n",
      "2022-05-31 21:30:59,871 \u001b[1;37mINFO\u001b[0m cyclops.orm     - Query returned successfully!\n",
      "2022-05-31 21:30:59,874 \u001b[1;37mINFO\u001b[0m cyclops.utils.profile - Finished executing function run_query in 6682.489769 s\n",
      "2022-05-31 21:32:24,746 \u001b[1;37mINFO\u001b[0m cyclops.orm     - Query returned successfully!\n",
      "2022-05-31 21:32:24,759 \u001b[1;37mINFO\u001b[0m cyclops.utils.profile - Finished executing function run_query in 84.882515 s\n",
      "2022-05-31 21:32:24,762 \u001b[1;37mINFO\u001b[0m cyclops.query.interface - Saving queried data to /mnt/nfs/project/delirium/drift_exp/MAY-27-2022/diagnoses.gzip\n"
     ]
    },
    {
     "name": "stdout",
     "output_type": "stream",
     "text": [
      "36071 diagnoses rows extracted!\n",
      "334717 vitals rows extracted!\n",
      "582105 labs rows extracted!\n",
      "12734 interventions rows extracted!\n"
     ]
    },
    {
     "name": "stderr",
     "output_type": "stream",
     "text": [
      "2022-05-31 21:32:25,306 \u001b[1;37mINFO\u001b[0m cyclops.query.interface - Saving queried data to /mnt/nfs/project/delirium/drift_exp/MAY-27-2022/vitals.gzip\n",
      "2022-05-31 21:32:27,814 \u001b[1;37mINFO\u001b[0m cyclops.query.interface - Saving queried data to /mnt/nfs/project/delirium/drift_exp/MAY-27-2022/lab.gzip\n",
      "2022-05-31 21:32:31,034 \u001b[1;37mINFO\u001b[0m cyclops.query.interface - Saving queried data to /mnt/nfs/project/delirium/drift_exp/MAY-27-2022/intervention.gzip\n"
     ]
    }
   ],
   "source": [
    "patients = gemini.patients(\n",
    "    hospitals=hospitals, from_date=from_date, to_date=to_date, include_er_data=True\n",
    ")\n",
    "patients_diagnoses = gemini.diagnoses(patients=patients)\n",
    "patients_vitals = gemini.events(patients=patients, category=\"vitals\")\n",
    "patients_labs = gemini.events(patients=patients, category=\"lab\")\n",
    "patients_interventions = gemini.events(patients=patients, category=\"intervention\")\n",
    "\n",
    "diagnoses_data = patients_diagnoses.run()\n",
    "vitals_data = patients_vitals.run()\n",
    "labs_data = patients_labs.run()\n",
    "interventions_data = patients_interventions.run()\n",
    "\n",
    "print(f\"{len(diagnoses_data)} diagnoses rows extracted!\")\n",
    "print(f\"{len(vitals_data)} vitals rows extracted!\")\n",
    "print(f\"{len(labs_data)} labs rows extracted!\")\n",
    "print(f\"{len(interventions_data)} interventions rows extracted!\")\n",
    "\n",
    "patients_diagnoses.save(path, \"diagnoses\")\n",
    "patients_vitals.save(path, \"vitals\")\n",
    "patients_labs.save(path, \"lab\")\n",
    "patients_interventions.save(path, \"intervention\")"
   ]
  },
  {
   "cell_type": "markdown",
   "id": "6e9179da-9968-4f7b-9394-4df02dd4300f",
   "metadata": {},
   "source": [
    "## Process queried data into features. (Static + Temporal)."
   ]
  },
  {
   "cell_type": "code",
   "execution_count": 4,
   "id": "3c6e1953-6868-40fa-b1be-2811650389dd",
   "metadata": {},
   "outputs": [
    {
     "name": "stderr",
     "output_type": "stream",
     "text": [
      "2022-05-31 21:32:33,196 \u001b[1;37mINFO\u001b[0m cyclops.processors.util - Processing raw diagnosis codes...\n",
      "2022-05-31 21:32:33,200 \u001b[1;37mINFO\u001b[0m cyclops.processors.util - # samples: 36071, # encounters: 5064\n",
      "2022-05-31 21:32:34,501 \u001b[1;37mINFO\u001b[0m cyclops.processors.util - Grouping ICD codes to trajectories...\n",
      "2022-05-31 21:32:34,504 \u001b[1;37mINFO\u001b[0m cyclops.processors.util - # samples: 36071, # encounters: 5064\n",
      "2022-05-31 21:32:34,509 \u001b[1;37mINFO\u001b[0m cyclops.processors.diagnoses - # diagnosis features: 21, # encounters: 5064\n",
      "2022-05-31 21:32:34,916 \u001b[1;37mINFO\u001b[0m cyclops.utils.profile - Finished executing function group_diagnosis_codes_to_trajectories in 1.720139 s\n",
      "2022-05-31 21:32:34,948 \u001b[1;37mINFO\u001b[0m cyclops.processors.util - Gathering static features...\n",
      "2022-05-31 21:32:34,952 \u001b[1;37mINFO\u001b[0m cyclops.processors.util - # samples: 36071, # encounters: 5064\n",
      "2022-05-31 21:32:34,954 \u001b[1;37mINFO\u001b[0m cyclops.processors.util - # columns: 9, # encounters: 5064\n",
      "2022-05-31 21:32:41,432 \u001b[1;37mINFO\u001b[0m cyclops.processors.aggregate - Found {'hospital_id', 'age', 'discharge_disposition', 'admit_timestamp', 'sex', 'length_of_stay_in_er', 'discharge_timestamp'} static feature columns.\n",
      "2022-05-31 21:32:41,435 \u001b[1;37mINFO\u001b[0m cyclops.utils.profile - Finished executing function infer_statics in 6.479587 s\n",
      "2022-05-31 21:32:47,598 \u001b[1;37mINFO\u001b[0m cyclops.utils.profile - Finished executing function gather_statics in 12.649332 s\n",
      "2022-05-31 21:32:47,650 \u001b[1;33mWARNING\u001b[0m cyclops.feature_handler - Feature discharge_disposition already exists, possibly rename if its a new feature!\n",
      "2022-05-31 21:32:47,766 \u001b[1;37mINFO\u001b[0m cyclops.processors.util - Cleaning raw event data...\n",
      "2022-05-31 21:32:47,773 \u001b[1;37mINFO\u001b[0m cyclops.processors.util - # samples: 582105, # encounters: 5046\n",
      "2022-05-31 21:32:47,775 \u001b[1;37mINFO\u001b[0m cyclops.processors.util - # columns: 59, # encounters: 5046\n",
      "2022-05-31 21:32:48,564 \u001b[1;37mINFO\u001b[0m cyclops.processors.util - Remove text in parentheses and normalize event names...\n",
      "2022-05-31 21:32:48,571 \u001b[1;37mINFO\u001b[0m cyclops.processors.util - # samples: 582105, # encounters: 5046\n",
      "2022-05-31 21:32:48,573 \u001b[1;37mINFO\u001b[0m cyclops.processors.util - # columns: 59, # encounters: 5046\n",
      "2022-05-31 21:32:49,527 \u001b[1;37mINFO\u001b[0m cyclops.processors.util - Drop unsupported events...\n",
      "2022-05-31 21:32:49,533 \u001b[1;37mINFO\u001b[0m cyclops.processors.util - # samples: 530566, # encounters: 5046\n",
      "2022-05-31 21:32:49,535 \u001b[1;37mINFO\u001b[0m cyclops.processors.util - # columns: 59, # encounters: 5046\n",
      "2022-05-31 21:32:50,554 \u001b[1;37mINFO\u001b[0m cyclops.processors.util - Fixing inequalities and removing outlier values...\n",
      "2022-05-31 21:32:50,561 \u001b[1;37mINFO\u001b[0m cyclops.processors.util - # samples: 530566, # encounters: 5046\n",
      "2022-05-31 21:32:50,563 \u001b[1;37mINFO\u001b[0m cyclops.processors.util - # columns: 59, # encounters: 5046\n",
      "2022-05-31 21:32:51,882 \u001b[1;37mINFO\u001b[0m cyclops.processors.util - Convert Positive/Negative to 1/0...\n",
      "2022-05-31 21:32:51,888 \u001b[1;37mINFO\u001b[0m cyclops.processors.util - # samples: 530566, # encounters: 5046\n",
      "2022-05-31 21:32:51,890 \u001b[1;37mINFO\u001b[0m cyclops.processors.util - # columns: 59, # encounters: 5046\n",
      "2022-05-31 21:32:51,977 \u001b[1;37mINFO\u001b[0m cyclops.processors.util - Fill empty result string values with NaN...\n",
      "2022-05-31 21:32:51,984 \u001b[1;37mINFO\u001b[0m cyclops.processors.util - # samples: 530566, # encounters: 5046\n",
      "2022-05-31 21:32:51,986 \u001b[1;37mINFO\u001b[0m cyclops.processors.util - # columns: 59, # encounters: 5046\n",
      "2022-05-31 21:32:52,037 \u001b[1;37mINFO\u001b[0m cyclops.processors.events - Converting string result values to numeric...\n",
      "2022-05-31 21:32:52,039 \u001b[1;37mINFO\u001b[0m cyclops.processors.events - Cleaning units and converting to SI...\n",
      "2022-05-31 21:32:53,287 \u001b[1;37mINFO\u001b[0m cyclops.utils.profile - Finished executing function clean_events in 5.634755 s\n",
      "2022-05-31 21:32:53,290 \u001b[1;37mINFO\u001b[0m cyclops.processors.util - Gathering event features...\n",
      "2022-05-31 21:32:53,295 \u001b[1;37mINFO\u001b[0m cyclops.processors.util - # samples: 530566, # encounters: 5046\n",
      "2022-05-31 21:32:53,297 \u001b[1;37mINFO\u001b[0m cyclops.processors.util - # columns: 59, # encounters: 5046\n",
      "2022-05-31 21:32:54,632 \u001b[1;37mINFO\u001b[0m cyclops.utils.profile - Finished executing function filter_upto_window in 1.333174 s\n",
      "2022-05-31 21:32:54,635 \u001b[1;37mINFO\u001b[0m cyclops.processors.util - Filtering events within window...\n",
      "2022-05-31 21:32:54,639 \u001b[1;37mINFO\u001b[0m cyclops.processors.util - # samples: 234068, # encounters: 5046\n",
      "2022-05-31 21:32:54,641 \u001b[1;37mINFO\u001b[0m cyclops.processors.util - # columns: 59, # encounters: 5046\n",
      "2022-05-31 21:57:47,532 \u001b[1;37mINFO\u001b[0m cyclops.utils.profile - Finished executing function gather_event_features in 1494.242381 s\n",
      "2022-05-31 21:57:47,769 \u001b[1;33mWARNING\u001b[0m cyclops.feature_handler - Feature influenza has all NaNs, will not be added.\n",
      "2022-05-31 21:57:48,068 \u001b[1;37mINFO\u001b[0m cyclops.processors.util - Cleaning raw event data...\n",
      "2022-05-31 21:57:48,074 \u001b[1;37mINFO\u001b[0m cyclops.processors.util - # samples: 334717, # encounters: 1602\n",
      "2022-05-31 21:57:48,076 \u001b[1;37mINFO\u001b[0m cyclops.processors.util - # columns: 58, # encounters: 1602\n",
      "2022-05-31 21:57:48,505 \u001b[1;37mINFO\u001b[0m cyclops.processors.util - Remove text in parentheses and normalize event names...\n",
      "2022-05-31 21:57:48,510 \u001b[1;37mINFO\u001b[0m cyclops.processors.util - # samples: 334717, # encounters: 1602\n",
      "2022-05-31 21:57:48,512 \u001b[1;37mINFO\u001b[0m cyclops.processors.util - # columns: 58, # encounters: 1602\n",
      "2022-05-31 21:57:49,092 \u001b[1;37mINFO\u001b[0m cyclops.processors.util - Drop unsupported events...\n",
      "2022-05-31 21:57:49,098 \u001b[1;37mINFO\u001b[0m cyclops.processors.util - # samples: 334717, # encounters: 1602\n",
      "2022-05-31 21:57:49,100 \u001b[1;37mINFO\u001b[0m cyclops.processors.util - # columns: 58, # encounters: 1602\n",
      "2022-05-31 21:57:49,718 \u001b[1;37mINFO\u001b[0m cyclops.processors.util - Fixing inequalities and removing outlier values...\n",
      "2022-05-31 21:57:49,723 \u001b[1;37mINFO\u001b[0m cyclops.processors.util - # samples: 334717, # encounters: 1602\n",
      "2022-05-31 21:57:49,725 \u001b[1;37mINFO\u001b[0m cyclops.processors.util - # columns: 58, # encounters: 1602\n",
      "2022-05-31 21:57:50,497 \u001b[1;37mINFO\u001b[0m cyclops.processors.util - Convert Positive/Negative to 1/0...\n",
      "2022-05-31 21:57:50,502 \u001b[1;37mINFO\u001b[0m cyclops.processors.util - # samples: 334717, # encounters: 1602\n",
      "2022-05-31 21:57:50,504 \u001b[1;37mINFO\u001b[0m cyclops.processors.util - # columns: 58, # encounters: 1602\n",
      "2022-05-31 21:57:50,562 \u001b[1;37mINFO\u001b[0m cyclops.processors.util - Fill empty result string values with NaN...\n",
      "2022-05-31 21:57:50,568 \u001b[1;37mINFO\u001b[0m cyclops.processors.util - # samples: 334717, # encounters: 1602\n",
      "2022-05-31 21:57:50,570 \u001b[1;37mINFO\u001b[0m cyclops.processors.util - # columns: 58, # encounters: 1602\n",
      "2022-05-31 21:57:50,599 \u001b[1;37mINFO\u001b[0m cyclops.processors.events - Converting string result values to numeric...\n",
      "2022-05-31 21:57:50,602 \u001b[1;37mINFO\u001b[0m cyclops.utils.profile - Finished executing function clean_events in 2.591602 s\n",
      "2022-05-31 21:57:50,603 \u001b[1;37mINFO\u001b[0m cyclops.processors.util - Gathering event features...\n",
      "2022-05-31 21:57:50,607 \u001b[1;37mINFO\u001b[0m cyclops.processors.util - # samples: 334717, # encounters: 1602\n",
      "2022-05-31 21:57:50,609 \u001b[1;37mINFO\u001b[0m cyclops.processors.util - # columns: 58, # encounters: 1602\n",
      "2022-05-31 21:57:50,956 \u001b[1;37mINFO\u001b[0m cyclops.utils.profile - Finished executing function filter_upto_window in 0.344586 s\n",
      "2022-05-31 21:57:50,958 \u001b[1;37mINFO\u001b[0m cyclops.processors.util - Filtering events within window...\n",
      "2022-05-31 21:57:50,962 \u001b[1;37mINFO\u001b[0m cyclops.processors.util - # samples: 54999, # encounters: 1602\n",
      "2022-05-31 21:57:50,964 \u001b[1;37mINFO\u001b[0m cyclops.processors.util - # columns: 58, # encounters: 1602\n",
      "2022-05-31 22:00:52,157 \u001b[1;37mINFO\u001b[0m cyclops.utils.profile - Finished executing function gather_event_features in 181.553850 s\n",
      "2022-05-31 22:00:52,175 \u001b[1;33mWARNING\u001b[0m cyclops.feature_handler - Feature cam has all NaNs, will not be added.\n",
      "2022-05-31 22:00:52,922 \u001b[1;33mWARNING\u001b[0m cyclops.feature_handler - Feature oxygen_delivery has all NaNs, will not be added.\n",
      "2022-05-31 22:00:53,421 \u001b[1;37mINFO\u001b[0m cyclops.processors.impute - Dropped 0 encounters, due to missingness!\n",
      "2022-05-31 22:00:53,459 \u001b[1;37mINFO\u001b[0m cyclops.utils.profile - Finished executing function impute_features in 0.041378 s\n",
      "2022-05-31 22:03:10,871 \u001b[1;37mINFO\u001b[0m cyclops.processors.impute - Dropped 4916 encounters, due to missingness!\n",
      "2022-05-31 22:03:10,878 \u001b[1;37mINFO\u001b[0m cyclops.processors.impute - Dropping crp feature, missingness is higher than threshold!\n",
      "2022-05-31 22:03:10,881 \u001b[1;37mINFO\u001b[0m cyclops.processors.impute - Dropping esr feature, missingness is higher than threshold!\n",
      "2022-05-31 22:03:10,884 \u001b[1;37mINFO\u001b[0m cyclops.processors.impute - Dropping ferritin feature, missingness is higher than threshold!\n",
      "2022-05-31 22:03:10,886 \u001b[1;37mINFO\u001b[0m cyclops.processors.impute - Dropping fibrinogen feature, missingness is higher than threshold!\n",
      "2022-05-31 22:03:10,889 \u001b[1;37mINFO\u001b[0m cyclops.processors.impute - Dropping glucose fasting feature, missingness is higher than threshold!\n",
      "2022-05-31 22:03:10,892 \u001b[1;37mINFO\u001b[0m cyclops.processors.impute - Dropping hba1c feature, missingness is higher than threshold!\n",
      "2022-05-31 22:03:10,894 \u001b[1;37mINFO\u001b[0m cyclops.processors.impute - Dropping ketone feature, missingness is higher than threshold!\n",
      "2022-05-31 22:03:10,897 \u001b[1;37mINFO\u001b[0m cyclops.processors.impute - Dropping vitamin b12 feature, missingness is higher than threshold!\n",
      "2022-05-31 22:03:10,900 \u001b[1;37mINFO\u001b[0m cyclops.processors.impute - Dropping vitamin d feature, missingness is higher than threshold!\n",
      "2022-05-31 22:03:10,902 \u001b[1;37mINFO\u001b[0m cyclops.processors.impute - Dropping fio2 feature, missingness is higher than threshold!\n",
      "2022-05-31 22:03:10,905 \u001b[1;37mINFO\u001b[0m cyclops.processors.impute - Dropping weight feature, missingness is higher than threshold!\n",
      "2022-05-31 22:03:10,907 \u001b[1;37mINFO\u001b[0m cyclops.utils.profile - Finished executing function impute_features in 137.445344 s\n"
     ]
    }
   ],
   "source": [
    "diagnoses_data = pd.read_parquet(os.path.join(path,\"diagnoses.gzip\"))\n",
    "vitals_data = pd.read_parquet(os.path.join(path,\"vitals.gzip\"))\n",
    "labs_data = pd.read_parquet(os.path.join(path,\"lab.gzip\"))\n",
    "interventions_data = pd.read_parquet(os.path.join(path,\"intervention.gzip\"))\n",
    "\n",
    "static_diagnoses_data = gather_columns(\n",
    "    diagnoses_data,\n",
    "    [\n",
    "        ENCOUNTER_ID,\n",
    "        AGE,\n",
    "        SEX,\n",
    "        DIAGNOSIS_CODE,\n",
    "        HOSPITAL_ID,\n",
    "        ADMIT_TIMESTAMP,\n",
    "        LENGTH_OF_STAY_IN_ER,\n",
    "        DISCHARGE_DISPOSITION,\n",
    "        DISCHARGE_TIMESTAMP,\n",
    "        ADMIT_TIMESTAMP\n",
    "        \n",
    "    ],\n",
    ")\n",
    "\n",
    "feature_handler = featurize(\n",
    "    static_data=[static_diagnoses_data],\n",
    "    temporal_data=[labs_data, vitals_data],\n",
    "    aggregator=Aggregator(bucket_size=6, window=48),\n",
    "    static_imputer=Imputer(\n",
    "        strategy=\"median\",\n",
    "        encounter_missingness_threshold=0.25,\n",
    "        feature_missingness_threshold=0.5,\n",
    "    ),\n",
    "    temporal_imputer=Imputer(\n",
    "        strategy=None,\n",
    "        encounter_missingness_threshold=0.75,\n",
    "        feature_missingness_threshold=0.95,\n",
    "    ),\n",
    "    reference_cols=[HOSPITAL_ID, ADMIT_TIMESTAMP, DISCHARGE_TIMESTAMP],\n",
    ")"
   ]
  },
  {
   "cell_type": "markdown",
   "id": "9808107b-6901-48eb-bfe6-193f239cdd1b",
   "metadata": {},
   "source": [
    "## Create new FeatureHandler and load features from file."
   ]
  },
  {
   "cell_type": "code",
   "execution_count": 5,
   "id": "9e7e9dbb-bbf3-420e-a749-d64206a41777",
   "metadata": {},
   "outputs": [
    {
     "name": "stderr",
     "output_type": "stream",
     "text": [
      "2022-05-31 22:03:10,964 \u001b[1;37mINFO\u001b[0m cyclops.feature_handler - Saving static features to /mnt/nfs/project/delirium/drift_exp/MAY-27-2022/test_features_static.gzip\n",
      "2022-05-31 22:03:10,983 \u001b[1;37mINFO\u001b[0m cyclops.feature_handler - Saving temporal features to /mnt/nfs/project/delirium/drift_exp/MAY-27-2022/test_features_temporal.gzip\n",
      "2022-05-31 22:03:11,000 \u001b[1;37mINFO\u001b[0m cyclops.feature_handler - Loading features from file...\n",
      "2022-05-31 22:03:11,002 \u001b[1;37mINFO\u001b[0m cyclops.feature_handler - Found file to load for static features...\n",
      "2022-05-31 22:03:11,003 \u001b[1;37mINFO\u001b[0m cyclops.feature_handler - Successfully loaded static features from file...\n",
      "2022-05-31 22:03:11,050 \u001b[1;37mINFO\u001b[0m cyclops.feature_handler - Found file to load for temporal features...\n",
      "2022-05-31 22:03:11,144 \u001b[1;37mINFO\u001b[0m cyclops.feature_handler - Successfully loaded temporal features from file...\n"
     ]
    }
   ],
   "source": [
    "feature_handler.save(path, \"test_features\")\n",
    "feature_handler = FeatureHandler()\n",
    "feature_handler.load(path, \"test_features\")"
   ]
  },
  {
   "cell_type": "code",
   "execution_count": null,
   "id": "3ee57d25-2dbc-4142-800c-ed0e568696ee",
   "metadata": {},
   "outputs": [],
   "source": []
  }
 ],
 "metadata": {
  "kernelspec": {
   "display_name": "cyclops-KKtuQLwg-py3.9",
   "language": "python",
   "name": "cyclops-kktuqlwg-py3.9"
  },
  "language_info": {
   "codemirror_mode": {
    "name": "ipython",
    "version": 3
   },
   "file_extension": ".py",
   "mimetype": "text/x-python",
   "name": "python",
   "nbconvert_exporter": "python",
   "pygments_lexer": "ipython3",
   "version": "3.9.7"
  }
 },
 "nbformat": 4,
 "nbformat_minor": 5
}
