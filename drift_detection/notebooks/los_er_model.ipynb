{
 "cells": [
  {
   "cell_type": "code",
   "execution_count": 3,
   "id": "2deeb4f4-93a0-4f77-b652-b7cc68199411",
   "metadata": {},
   "outputs": [
    {
     "data": {
      "application/javascript": [
       "\n",
       "            setTimeout(function() {\n",
       "                var nbb_cell_id = 3;\n",
       "                var nbb_unformatted_code = \"import sys\\nimport random\\nimport pandas as pd\\nimport numpy as np\\nimport torch.nn as nn\\nimport torch.optim as optim\\nimport matplotlib as mpl\\nimport matplotlib.pyplot as plt\\nfrom sklearn.model_selection import train_test_split\\n\\nsys.path.append(\\\"..\\\")\\nfrom baseline_models.temporal.pytorch.optimizer import Optimizer\\nfrom baseline_models.temporal.pytorch.temporal_model_utils import *\\n\\nsys.path.append(\\\"../..\\\")\\nfrom cyclops.feature_handler import FeatureHandler\\n\\n%load_ext autoreload\\n%load_ext nb_black\";\n",
       "                var nbb_formatted_code = \"import sys\\nimport random\\nimport pandas as pd\\nimport numpy as np\\nimport torch.nn as nn\\nimport torch.optim as optim\\nimport matplotlib as mpl\\nimport matplotlib.pyplot as plt\\nfrom sklearn.model_selection import train_test_split\\n\\nsys.path.append(\\\"..\\\")\\nfrom baseline_models.temporal.pytorch.optimizer import Optimizer\\nfrom baseline_models.temporal.pytorch.temporal_model_utils import *\\n\\nsys.path.append(\\\"../..\\\")\\nfrom cyclops.feature_handler import FeatureHandler\\n\\n%load_ext autoreload\\n%load_ext nb_black\";\n",
       "                var nbb_cells = Jupyter.notebook.get_cells();\n",
       "                for (var i = 0; i < nbb_cells.length; ++i) {\n",
       "                    if (nbb_cells[i].input_prompt_number == nbb_cell_id) {\n",
       "                        if (nbb_cells[i].get_text() == nbb_unformatted_code) {\n",
       "                             nbb_cells[i].set_text(nbb_formatted_code);\n",
       "                        }\n",
       "                        break;\n",
       "                    }\n",
       "                }\n",
       "            }, 500);\n",
       "            "
      ],
      "text/plain": [
       "<IPython.core.display.Javascript object>"
      ]
     },
     "metadata": {},
     "output_type": "display_data"
    }
   ],
   "source": [
    "import sys\n",
    "import random\n",
    "import pandas as pd\n",
    "import numpy as np\n",
    "import torch.nn as nn\n",
    "import torch.optim as optim\n",
    "import matplotlib as mpl\n",
    "import matplotlib.pyplot as plt\n",
    "from sklearn.model_selection import train_test_split\n",
    "\n",
    "sys.path.append(\"..\")\n",
    "from baseline_models.temporal.pytorch.optimizer import Optimizer\n",
    "from baseline_models.temporal.pytorch.temporal_model_utils import *\n",
    "\n",
    "sys.path.append(\"../..\")\n",
    "from cyclops.feature_handler import FeatureHandler\n",
    "\n",
    "%load_ext autoreload\n",
    "%load_ext nb_black"
   ]
  },
  {
   "cell_type": "code",
   "execution_count": 4,
   "id": "c93c5382-6901-4af1-828f-d831dd0a7c35",
   "metadata": {},
   "outputs": [
    {
     "name": "stderr",
     "output_type": "stream",
     "text": [
      "2022-06-06 13:16:29,470 \u001b[1;37mINFO\u001b[0m cyclops.feature_handler - Loading features from file...\n",
      "2022-06-06 13:16:29,479 \u001b[1;37mINFO\u001b[0m cyclops.feature_handler - Found file to load for static features...\n",
      "2022-06-06 13:16:29,479 \u001b[1;37mINFO\u001b[0m cyclops.feature_handler - Successfully loaded static features from file...\n",
      "2022-06-06 13:16:29,657 \u001b[1;37mINFO\u001b[0m cyclops.feature_handler - Found file to load for temporal features...\n",
      "2022-06-06 13:16:29,927 \u001b[1;37mINFO\u001b[0m cyclops.feature_handler - Successfully loaded temporal features from file...\n"
     ]
    },
    {
     "data": {
      "application/javascript": [
       "\n",
       "            setTimeout(function() {\n",
       "                var nbb_cell_id = 4;\n",
       "                var nbb_unformatted_code = \"DIR=\\\"/mnt/nfs/project/delirium/drift_exp/MAY-31-2022/\\\"\\nfeature_handler = FeatureHandler()\\nfeature_handler.load(DIR, \\\"test_features\\\")\";\n",
       "                var nbb_formatted_code = \"DIR = \\\"/mnt/nfs/project/delirium/drift_exp/MAY-31-2022/\\\"\\nfeature_handler = FeatureHandler()\\nfeature_handler.load(DIR, \\\"test_features\\\")\";\n",
       "                var nbb_cells = Jupyter.notebook.get_cells();\n",
       "                for (var i = 0; i < nbb_cells.length; ++i) {\n",
       "                    if (nbb_cells[i].input_prompt_number == nbb_cell_id) {\n",
       "                        if (nbb_cells[i].get_text() == nbb_unformatted_code) {\n",
       "                             nbb_cells[i].set_text(nbb_formatted_code);\n",
       "                        }\n",
       "                        break;\n",
       "                    }\n",
       "                }\n",
       "            }, 500);\n",
       "            "
      ],
      "text/plain": [
       "<IPython.core.display.Javascript object>"
      ]
     },
     "metadata": {},
     "output_type": "display_data"
    }
   ],
   "source": [
    "DIR=\"/mnt/nfs/project/delirium/drift_exp/MAY-31-2022/\"\n",
    "feature_handler = FeatureHandler()\n",
    "feature_handler.load(DIR, \"test_features\")"
   ]
  },
  {
   "cell_type": "code",
   "execution_count": 6,
   "id": "93471285-8ee3-48ed-8021-574cb76dfc16",
   "metadata": {},
   "outputs": [
    {
     "data": {
      "application/javascript": [
       "\n",
       "            setTimeout(function() {\n",
       "                var nbb_cell_id = 6;\n",
       "                var nbb_unformatted_code = \"ref_static = feature_handler.reference['static']\";\n",
       "                var nbb_formatted_code = \"ref_static = feature_handler.reference[\\\"static\\\"]\";\n",
       "                var nbb_cells = Jupyter.notebook.get_cells();\n",
       "                for (var i = 0; i < nbb_cells.length; ++i) {\n",
       "                    if (nbb_cells[i].input_prompt_number == nbb_cell_id) {\n",
       "                        if (nbb_cells[i].get_text() == nbb_unformatted_code) {\n",
       "                             nbb_cells[i].set_text(nbb_formatted_code);\n",
       "                        }\n",
       "                        break;\n",
       "                    }\n",
       "                }\n",
       "            }, 500);\n",
       "            "
      ],
      "text/plain": [
       "<IPython.core.display.Javascript object>"
      ]
     },
     "metadata": {},
     "output_type": "display_data"
    }
   ],
   "source": [
    "ref_static = feature_handler.reference['static']"
   ]
  },
  {
   "cell_type": "code",
   "execution_count": 7,
   "id": "12066550-01d2-4869-a96b-2ab9c37171ae",
   "metadata": {},
   "outputs": [
    {
     "name": "stdout",
     "output_type": "stream",
     "text": [
      "Encounters: 5064\n",
      "Static Features: 25\n"
     ]
    },
    {
     "data": {
      "application/javascript": [
       "\n",
       "            setTimeout(function() {\n",
       "                var nbb_cell_id = 7;\n",
       "                var nbb_unformatted_code = \"static = feature_handler.features['static']\\nprint(\\\"Encounters:\\\",static.shape[0])\\nprint(\\\"Static Features:\\\",static.shape[1])\";\n",
       "                var nbb_formatted_code = \"static = feature_handler.features[\\\"static\\\"]\\nprint(\\\"Encounters:\\\", static.shape[0])\\nprint(\\\"Static Features:\\\", static.shape[1])\";\n",
       "                var nbb_cells = Jupyter.notebook.get_cells();\n",
       "                for (var i = 0; i < nbb_cells.length; ++i) {\n",
       "                    if (nbb_cells[i].input_prompt_number == nbb_cell_id) {\n",
       "                        if (nbb_cells[i].get_text() == nbb_unformatted_code) {\n",
       "                             nbb_cells[i].set_text(nbb_formatted_code);\n",
       "                        }\n",
       "                        break;\n",
       "                    }\n",
       "                }\n",
       "            }, 500);\n",
       "            "
      ],
      "text/plain": [
       "<IPython.core.display.Javascript object>"
      ]
     },
     "metadata": {},
     "output_type": "display_data"
    }
   ],
   "source": [
    "static = feature_handler.features['static']\n",
    "print(\"Encounters:\",static.shape[0])\n",
    "print(\"Static Features:\",static.shape[1])"
   ]
  },
  {
   "cell_type": "code",
   "execution_count": 10,
   "id": "39615191-4c65-484a-bdc8-cfd057b34d7d",
   "metadata": {},
   "outputs": [
    {
     "data": {
      "image/png": "[encoded data removed]",
      "text/plain": [
       "<Figure size 1008x288 with 1 Axes>"
      ]
     },
     "metadata": {
      "needs_background": "light"
     },
     "output_type": "display_data"
    },
    {
     "data": {
      "application/javascript": [
       "\n",
       "            setTimeout(function() {\n",
       "                var nbb_cell_id = 10;\n",
       "                var nbb_unformatted_code = \"fig, ax = plt.subplots(figsize=(14, 4))\\nplt.hist(static[\\\"length_of_stay_in_er\\\"], bins=75, alpha=0.5, width=1, label=\\\"los\\\")\\nfig.legend(loc=\\\"upper right\\\")\\nplt.show()\";\n",
       "                var nbb_formatted_code = \"fig, ax = plt.subplots(figsize=(14, 4))\\nplt.hist(static[\\\"length_of_stay_in_er\\\"], bins=75, alpha=0.5, width=1, label=\\\"los\\\")\\nfig.legend(loc=\\\"upper right\\\")\\nplt.show()\";\n",
       "                var nbb_cells = Jupyter.notebook.get_cells();\n",
       "                for (var i = 0; i < nbb_cells.length; ++i) {\n",
       "                    if (nbb_cells[i].input_prompt_number == nbb_cell_id) {\n",
       "                        if (nbb_cells[i].get_text() == nbb_unformatted_code) {\n",
       "                             nbb_cells[i].set_text(nbb_formatted_code);\n",
       "                        }\n",
       "                        break;\n",
       "                    }\n",
       "                }\n",
       "            }, 500);\n",
       "            "
      ],
      "text/plain": [
       "<IPython.core.display.Javascript object>"
      ]
     },
     "metadata": {},
     "output_type": "display_data"
    }
   ],
   "source": [
    "fig, ax = plt.subplots(figsize=(14, 4))\n",
    "plt.hist(static[\"length_of_stay_in_er\"], bins=75, alpha=0.5, width=1, label=\"los\")\n",
    "fig.legend(loc=\"upper right\")\n",
    "plt.show()"
   ]
  },
  {
   "cell_type": "code",
   "execution_count": 11,
   "id": "e08b2fdb-0efc-4b4b-b395-41673585471d",
   "metadata": {},
   "outputs": [
    {
     "data": {
      "application/javascript": [
       "\n",
       "            setTimeout(function() {\n",
       "                var nbb_cell_id = 11;\n",
       "                var nbb_unformatted_code = \"m1 = (static['length_of_stay_in_er']>=0) & (static['length_of_stay_in_er']<7)\\nm2 = (static['length_of_stay_in_er']>=7) & (static['length_of_stay_in_er']<14)\\nm3 = (static['length_of_stay_in_er']>=14) & (static['length_of_stay_in_er']<30)\\n\\nvals = [1, 2, 3]\\ndefault = 4\\n\\nstatic['los_er_derived'] = np.select([m1,m2,m3], vals, default=default)\";\n",
       "                var nbb_formatted_code = \"m1 = (static[\\\"length_of_stay_in_er\\\"] >= 0) & (static[\\\"length_of_stay_in_er\\\"] < 7)\\nm2 = (static[\\\"length_of_stay_in_er\\\"] >= 7) & (static[\\\"length_of_stay_in_er\\\"] < 14)\\nm3 = (static[\\\"length_of_stay_in_er\\\"] >= 14) & (static[\\\"length_of_stay_in_er\\\"] < 30)\\n\\nvals = [1, 2, 3]\\ndefault = 4\\n\\nstatic[\\\"los_er_derived\\\"] = np.select([m1, m2, m3], vals, default=default)\";\n",
       "                var nbb_cells = Jupyter.notebook.get_cells();\n",
       "                for (var i = 0; i < nbb_cells.length; ++i) {\n",
       "                    if (nbb_cells[i].input_prompt_number == nbb_cell_id) {\n",
       "                        if (nbb_cells[i].get_text() == nbb_unformatted_code) {\n",
       "                             nbb_cells[i].set_text(nbb_formatted_code);\n",
       "                        }\n",
       "                        break;\n",
       "                    }\n",
       "                }\n",
       "            }, 500);\n",
       "            "
      ],
      "text/plain": [
       "<IPython.core.display.Javascript object>"
      ]
     },
     "metadata": {},
     "output_type": "display_data"
    }
   ],
   "source": [
    "static = process_outcome(\"length_of_stay_in_er\", static)"
   ]
  },
  {
   "cell_type": "code",
   "execution_count": 12,
   "id": "a17f00d5-c32b-49d0-bbb4-85393c672984",
   "metadata": {},
   "outputs": [
    {
     "data": {
      "image/png": "[encoded data removed]",
      "text/plain": [
       "<Figure size 1008x288 with 1 Axes>"
      ]
     },
     "metadata": {
      "needs_background": "light"
     },
     "output_type": "display_data"
    },
    {
     "data": {
      "application/javascript": [
       "\n",
       "            setTimeout(function() {\n",
       "                var nbb_cell_id = 12;\n",
       "                var nbb_unformatted_code = \"fig, ax = plt.subplots(figsize=(14, 4))\\nplt.hist(static[\\\"los_er_derived\\\"], bins=4, alpha=0.5, width=0.5, label=\\\"los_er_derived\\\")\\nfig.legend(loc=\\\"upper right\\\")\\nplt.show()\";\n",
       "                var nbb_formatted_code = \"fig, ax = plt.subplots(figsize=(14, 4))\\nplt.hist(static[\\\"los_er_derived\\\"], bins=4, alpha=0.5, width=0.5, label=\\\"los_er_derived\\\")\\nfig.legend(loc=\\\"upper right\\\")\\nplt.show()\";\n",
       "                var nbb_cells = Jupyter.notebook.get_cells();\n",
       "                for (var i = 0; i < nbb_cells.length; ++i) {\n",
       "                    if (nbb_cells[i].input_prompt_number == nbb_cell_id) {\n",
       "                        if (nbb_cells[i].get_text() == nbb_unformatted_code) {\n",
       "                             nbb_cells[i].set_text(nbb_formatted_code);\n",
       "                        }\n",
       "                        break;\n",
       "                    }\n",
       "                }\n",
       "            }, 500);\n",
       "            "
      ],
      "text/plain": [
       "<IPython.core.display.Javascript object>"
      ]
     },
     "metadata": {},
     "output_type": "display_data"
    }
   ],
   "source": [
    "fig, ax = plt.subplots(figsize=(14, 4))\n",
    "plt.hist(static[\"los_er_derived\"], bins=4, alpha=0.5, width=0.5, label=\"los_er_derived\")\n",
    "fig.legend(loc=\"upper right\")\n",
    "plt.show()"
   ]
  },
  {
   "cell_type": "code",
   "execution_count": 14,
   "id": "f8a26261-06a0-4659-85a7-3362bb636213",
   "metadata": {},
   "outputs": [
    {
     "data": {
      "application/javascript": [
       "\n",
       "            setTimeout(function() {\n",
       "                var nbb_cell_id = 14;\n",
       "                var nbb_unformatted_code = \"ref_temporal = feature_handler.reference['temporal']\";\n",
       "                var nbb_formatted_code = \"ref_temporal = feature_handler.reference[\\\"temporal\\\"]\";\n",
       "                var nbb_cells = Jupyter.notebook.get_cells();\n",
       "                for (var i = 0; i < nbb_cells.length; ++i) {\n",
       "                    if (nbb_cells[i].input_prompt_number == nbb_cell_id) {\n",
       "                        if (nbb_cells[i].get_text() == nbb_unformatted_code) {\n",
       "                             nbb_cells[i].set_text(nbb_formatted_code);\n",
       "                        }\n",
       "                        break;\n",
       "                    }\n",
       "                }\n",
       "            }, 500);\n",
       "            "
      ],
      "text/plain": [
       "<IPython.core.display.Javascript object>"
      ]
     },
     "metadata": {},
     "output_type": "display_data"
    }
   ],
   "source": [
    "ref_temporal = feature_handler.reference['temporal']"
   ]
  },
  {
   "cell_type": "code",
   "execution_count": 15,
   "id": "d0128912-139c-4cef-9e86-cd787d9fc85f",
   "metadata": {},
   "outputs": [
    {
     "name": "stdout",
     "output_type": "stream",
     "text": [
      "Encounters: 4613\n",
      "Timesteps: 8\n",
      "Temporal Features: 12\n"
     ]
    },
    {
     "data": {
      "application/javascript": [
       "\n",
       "            setTimeout(function() {\n",
       "                var nbb_cell_id = 15;\n",
       "                var nbb_unformatted_code = \"temporal = feature_handler.features['temporal']\\nsamples=len(temporal.index.unique(level=0))\\ntimesteps=len(temporal.index.unique(level=1))\\nfeatures=temporal.shape[1]\\nprint(\\\"Encounters:\\\",samples)\\nprint(\\\"Timesteps:\\\",timesteps)\\nprint(\\\"Temporal Features:\\\",features)\";\n",
       "                var nbb_formatted_code = \"temporal = feature_handler.features[\\\"temporal\\\"]\\nsamples = len(temporal.index.unique(level=0))\\ntimesteps = len(temporal.index.unique(level=1))\\nfeatures = temporal.shape[1]\\nprint(\\\"Encounters:\\\", samples)\\nprint(\\\"Timesteps:\\\", timesteps)\\nprint(\\\"Temporal Features:\\\", features)\";\n",
       "                var nbb_cells = Jupyter.notebook.get_cells();\n",
       "                for (var i = 0; i < nbb_cells.length; ++i) {\n",
       "                    if (nbb_cells[i].input_prompt_number == nbb_cell_id) {\n",
       "                        if (nbb_cells[i].get_text() == nbb_unformatted_code) {\n",
       "                             nbb_cells[i].set_text(nbb_formatted_code);\n",
       "                        }\n",
       "                        break;\n",
       "                    }\n",
       "                }\n",
       "            }, 500);\n",
       "            "
      ],
      "text/plain": [
       "<IPython.core.display.Javascript object>"
      ]
     },
     "metadata": {},
     "output_type": "display_data"
    }
   ],
   "source": [
    "temporal = feature_handler.features['temporal']\n",
    "samples=len(temporal.index.unique(level=0))\n",
    "timesteps=len(temporal.index.unique(level=1))\n",
    "features=temporal.shape[1]\n",
    "print(\"Encounters:\",samples)\n",
    "print(\"Timesteps:\",timesteps)\n",
    "print(\"Temporal Features:\",features)"
   ]
  },
  {
   "cell_type": "code",
   "execution_count": 17,
   "id": "deb9b875-8343-4557-aee3-83f0f28e303c",
   "metadata": {},
   "outputs": [
    {
     "data": {
      "application/javascript": [
       "\n",
       "            setTimeout(function() {\n",
       "                var nbb_cell_id = 17;\n",
       "                var nbb_unformatted_code = \"temporal = temporal.rename_axis(\\\"features\\\", axis=\\\"columns\\\")\";\n",
       "                var nbb_formatted_code = \"temporal = temporal.rename_axis(\\\"features\\\", axis=\\\"columns\\\")\";\n",
       "                var nbb_cells = Jupyter.notebook.get_cells();\n",
       "                for (var i = 0; i < nbb_cells.length; ++i) {\n",
       "                    if (nbb_cells[i].input_prompt_number == nbb_cell_id) {\n",
       "                        if (nbb_cells[i].get_text() == nbb_unformatted_code) {\n",
       "                             nbb_cells[i].set_text(nbb_formatted_code);\n",
       "                        }\n",
       "                        break;\n",
       "                    }\n",
       "                }\n",
       "            }, 500);\n",
       "            "
      ],
      "text/plain": [
       "<IPython.core.display.Javascript object>"
      ]
     },
     "metadata": {},
     "output_type": "display_data"
    }
   ],
   "source": [
    "temporal = temporal.rename_axis(\"features\", axis=\"columns\")"
   ]
  },
  {
   "cell_type": "code",
   "execution_count": null,
   "id": "810aab27-5fc4-4271-98eb-16f0917eb520",
   "metadata": {},
   "outputs": [],
   "source": [
    "outcome = \"los_er_derived\"\n",
    "batch_size = 1\n",
    "input_dim = features*3\n",
    "output_dim = 1\n",
    "hidden_dim = 128\n",
    "layer_dim = 1\n",
    "dropout = 0.2\n",
    "n_epochs = 10\n",
    "learning_rate = 1e-3\n",
    "weight_decay = 1e-6\n",
    "\n",
    "device = get_device()\n",
    "\n",
    "X = temporal[np.in1d(temporal.index.get_level_values(0), static.index.get_level_values(0))]\n",
    "y = static[np.in1d(static.index.get_level_values(0), X.index.get_level_values(0))]\n",
    "y_train, y_val = train_test_split(y, test_size=1/2)\n",
    "y_val, y_test = train_test_split(y_val, test_size=1/2)\n",
    "X_train = X[np.in1d(X.index.get_level_values(0), y_train.index.get_level_values(0))]\n",
    "X_train_inputs = format_dataset(X_train, level=\"features\",imputation_method=\"simple\")\n",
    "X_val = X[np.in1d(X.index.get_level_values(0), y_val.index.get_level_values(0))]\n",
    "X_val_inputs = format_dataset(X_val, level=\"features\",imputation_method=\"simple\")\n",
    "X_test = X[np.in1d(X.index.get_level_values(0), y_test.index.get_level_values(0))]\n",
    "X_test_inputs = format_dataset(X_test, level=\"features\",imputation_method=\"simple\")\n",
    "y_train = y_train[[outcome]].to_numpy().reshape(len(y_train),1)\n",
    "y_val = y_val[[outcome]].to_numpy().reshape(len(y_val),1)\n",
    "y_test = y_test[[outcome]].to_numpy().reshape(len(y_test),1)\n",
    "\n",
    "train_dataset = get_data(X_train_inputs,y_train)\n",
    "train_loader = train_dataset.to_loader(batch_size) \n",
    "\n",
    "val_dataset = get_data(X_val_inputs,y_val)\n",
    "val_loader = val_dataset.to_loader(batch_size)"
   ]
  },
  {
   "cell_type": "code",
   "execution_count": null,
   "id": "3f5debd9-db36-4d80-87dd-a5c87411d9d9",
   "metadata": {},
   "outputs": [],
   "source": [
    "model_params = {'device': device,\n",
    "                'input_dim': input_dim,\n",
    "                'hidden_dim' : hidden_dim,\n",
    "                'layer_dim' : layer_dim,\n",
    "                'output_dim' : output_dim,\n",
    "                'dropout_prob' : dropout}\n",
    "\n",
    "model = get_temporal_model('lstmcell', model_params).to(device)"
   ]
  },
  {
   "cell_type": "code",
   "execution_count": null,
   "id": "be852932-a909-4496-98b4-13d9b97bdd8b",
   "metadata": {},
   "outputs": [],
   "source": [
    "loss_fn = nn.CrossEntropyLoss()\n",
    "optimizer = optim.Adam(model.parameters(), lr=learning_rate, weight_decay=weight_decay)\n",
    "activation = nn.Softmax(dim=1)\n",
    "opt = Optimizer(model=model, loss_fn=loss_fn, optimizer=optimizer,activation=activation)\n",
    "opt.train(train_loader, val_loader, batch_size=batch_size, n_epochs=n_epochs, n_features=input_dim)\n",
    "opt.plot_losses()"
   ]
  },
  {
   "cell_type": "code",
   "execution_count": null,
   "id": "0ad1b59f-82e9-4def-9ce7-ff16c4b5df21",
   "metadata": {},
   "outputs": [],
   "source": [
    "test_dataset = get_data(X_test_inputs,y_test)\n",
    "test_loader = torch.utils.data.DataLoader(test_dataset, batch_size=1, shuffle=False, drop_last=True)\n",
    "predictions, values, tags = opt.evaluate(test_loader, batch_size=1, n_features=input_dim)"
   ]
  },
  {
   "cell_type": "code",
   "execution_count": null,
   "id": "762fb61c-3a02-438a-abd2-238a70d5a807",
   "metadata": {},
   "outputs": [],
   "source": [
    "df_result = format_predictions(predictions, values, tags, X_test)"
   ]
  },
  {
   "cell_type": "code",
   "execution_count": null,
   "id": "479c3872-3ef6-4364-bbb1-1d0bef1d0669",
   "metadata": {},
   "outputs": [],
   "source": [
    "df_result.head(n=20)"
   ]
  }
 ],
 "metadata": {
  "kernelspec": {
   "display_name": "cyclops-KKtuQLwg-py3.9",
   "language": "python",
   "name": "cyclops-kktuqlwg-py3.9"
  },
  "language_info": {
   "codemirror_mode": {
    "name": "ipython",
    "version": 3
   },
   "file_extension": ".py",
   "mimetype": "text/x-python",
   "name": "python",
   "nbconvert_exporter": "python",
   "pygments_lexer": "ipython3",
   "version": "3.9.7"
  }
 },
 "nbformat": 4,
 "nbformat_minor": 5
}
