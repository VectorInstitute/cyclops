{
 "cells": [
  {
   "cell_type": "markdown",
   "id": "6b2520a8-d4ad-4941-8ea7-71fdd631225f",
   "metadata": {},
   "source": [
    "### Synthetic Drift Detection ###"
   ]
  },
  {
   "cell_type": "markdown",
   "id": "e8bb193b-16d6-4f63-b5d3-3744cd1380e4",
   "metadata": {},
   "source": [
    "## Imports ## "
   ]
  },
  {
   "cell_type": "code",
   "execution_count": 46,
   "id": "checked-supervisor",
   "metadata": {
    "scrolled": true
   },
   "outputs": [],
   "source": [
    "import sys\n",
    "import pandas as pd\n",
    "import numpy as np\n",
    "import os\n",
    "from functools import reduce\n",
    "import datetime\n",
    "import matplotlib.pyplot as plt\n",
    "\n",
    "sys.path.append(\"../..\")\n",
    "\n",
    "from gemini.constants import *\n",
    "from gemini.utils import *\n",
    "from drift_detector.plotter import plot_drift_samples_pval, errorfill, plot_roc, plot_pr, linestyles, markers, colors, brightness, colorscale\n",
    "from drift_detector.utils import scale\n",
    "from drift_detector.detector import Detector\n",
    "from drift_detector.reductor import Reductor\n",
    "from drift_detector.tester import TSTester, DCTester\n",
    "from drift_detector.experimenter import Experimenter\n",
    "from drift_detector.synthetic_applicator import SyntheticShiftApplicator, apply_predefined_shift"
   ]
  },
  {
   "cell_type": "markdown",
   "id": "stopped-relevance",
   "metadata": {},
   "source": [
    "## Parameters ##"
   ]
  },
  {
   "cell_type": "code",
   "execution_count": 47,
   "id": "retained-characterization",
   "metadata": {},
   "outputs": [],
   "source": [
    "PATH = \"/mnt/nfs/project/delirium/drift_exp/JULY-04-2022/\"\n",
    "MODEL_PATH = \"/mnt/nfs/project/delirium/drift_exp/JULY-04-2022/saved_models/random_lstm.pt\"\n",
    "TIMESTEPS = 6\n",
    "AGGREGATION_TYPE = \"time_flatten\"\n",
    "CONTEXT_TYPE=\"lstm\"\n",
    "REPRESENTATION=\"rf\"\n",
    "HOSPITALS = [\"SMH\", \"MSH\", \"THPC\", \"THPM\", \"UHNTG\", \"UHNTW\", \"PMH\",\"SBK\"]\n",
    "OUTCOME = \"mortality\""
   ]
  },
  {
   "cell_type": "markdown",
   "id": "9b601256-e684-42ee-a209-63b67fa2031d",
   "metadata": {},
   "source": [
    "## Query Data"
   ]
  },
  {
   "cell_type": "code",
   "execution_count": 64,
   "id": "f60048ac-3bb6-4499-a1fd-8fd1f8511aef",
   "metadata": {},
   "outputs": [
    {
     "name": "stderr",
     "output_type": "stream",
     "text": [
      "2022-10-05 10:34:02,486 \u001b[1;37mINFO\u001b[0m cyclops.utils.file - Loading dataframe to /mnt/nfs/project/delirium/drift_exp/JULY-04-2022/aggregated_events.parquet\n"
     ]
    },
    {
     "name": "stdout",
     "output_type": "stream",
     "text": [
      "Load data from aggregated events...\n"
     ]
    },
    {
     "name": "stderr",
     "output_type": "stream",
     "text": [
      "2022-10-05 10:34:02,780 \u001b[1;37mINFO\u001b[0m cyclops.utils.file - Loading dataframe to /mnt/nfs/project/delirium/drift_exp/JULY-04-2022/aggmeta_start_ts.parquet\n",
      "2022-10-05 10:34:02,921 \u001b[1;37mINFO\u001b[0m cyclops.feature_handler - Loading features from file...\n",
      "2022-10-05 10:34:02,926 \u001b[1;37mINFO\u001b[0m cyclops.feature_handler - Found file to load for static features...\n",
      "2022-10-05 10:34:02,930 \u001b[1;37mINFO\u001b[0m cyclops.feature_handler - Successfully loaded static features from file...\n",
      "2022-10-05 10:34:02,968 \u001b[1;37mINFO\u001b[0m cyclops.feature_handler - Found file to load for temporal features...\n"
     ]
    },
    {
     "name": "stdout",
     "output_type": "stream",
     "text": [
      "Load data from feature handler...\n"
     ]
    },
    {
     "name": "stderr",
     "output_type": "stream",
     "text": [
      "2022-10-05 10:34:08,114 \u001b[1;37mINFO\u001b[0m cyclops.feature_handler - Successfully loaded temporal features from file...\n"
     ]
    },
    {
     "name": "stdout",
     "output_type": "stream",
     "text": [
      "Load data from admin data...\n"
     ]
    },
    {
     "name": "stderr",
     "output_type": "stream",
     "text": [
      "2022-10-05 10:34:17,016 \u001b[1;37mINFO\u001b[0m cyclops.utils.file - Loading dataframe to /mnt/nfs/project/delirium/drift_exp/JULY-04-2022/aggmeta_end_ts.parquet\n"
     ]
    }
   ],
   "source": [
    "admin_data, x, y = get_gemini_data(PATH)"
   ]
  },
  {
   "cell_type": "markdown",
   "id": "ece297c5-43e3-4fbd-a0d9-6763d0f13b81",
   "metadata": {},
   "source": [
    "## Preprocess Data"
   ]
  },
  {
   "cell_type": "code",
   "execution_count": 65,
   "id": "97a15f71-6b53-4e33-80a4-90bc6cb3b915",
   "metadata": {},
   "outputs": [],
   "source": [
    "# Get subset\n",
    "(X_tr, y_tr), (X_val, y_val), (X_t, y_t), feats, admin_data = import_dataset_hospital(admin_data, x, y, \"random\", OUTCOME, HOSPITALS)\n",
    "\n",
    "# Normalize data\n",
    "X_tr_normalized  = normalize(admin_data, X_tr, AGGREGATION_TYPE, TIMESTEPS)\n",
    "X_val_normalized = normalize(admin_data, X_val, AGGREGATION_TYPE, TIMESTEPS)\n",
    "X_t_normalized = normalize(admin_data, X_t, AGGREGATION_TYPE, TIMESTEPS)\n",
    "\n",
    "if AGGREGATION_TYPE != \"time\":\n",
    "    # Get labels\n",
    "    y_tr = get_label(admin_data, X_tr, OUTCOME)\n",
    "    y_val = get_label(admin_data, X_val, OUTCOME)\n",
    "    y_t = get_label(admin_data, X_t, OUTCOME)\n",
    "    \n",
    "# Scale data\n",
    "X_tr_scaled = scale(X_tr_normalized)\n",
    "X_val_scaled = scale(X_val_normalized)\n",
    "X_t_scaled = scale(X_t_normalized)\n",
    "\n",
    "# Process data\n",
    "X_tr_final = process(X_tr_scaled, AGGREGATION_TYPE, TIMESTEPS)\n",
    "X_val_final = process(X_val_scaled, AGGREGATION_TYPE, TIMESTEPS)\n",
    "X_t_final = process(X_t_scaled, AGGREGATION_TYPE, TIMESTEPS)"
   ]
  },
  {
   "cell_type": "markdown",
   "id": "c68dc343-a0f6-47a3-b9a4-ac3e3f0fbb63",
   "metadata": {},
   "source": [
    "## Reductor"
   ]
  },
  {
   "cell_type": "code",
   "execution_count": 7,
   "id": "c72515e2-2854-415a-9232-4c0bca3f6798",
   "metadata": {},
   "outputs": [
    {
     "name": "stdin",
     "output_type": "stream",
     "text": [
      "Select dimensionality reduction technique:  PCA\n"
     ]
    }
   ],
   "source": [
    "DR_TECHNIQUE = input(\"Select dimensionality reduction technique: \")\n",
    "\n",
    "reductor = Reductor(\n",
    "    dr_method = DR_TECHNIQUE,\n",
    "    model_path = MODEL_PATH,\n",
    "    var_ret = 0.8,\n",
    ")"
   ]
  },
  {
   "cell_type": "markdown",
   "id": "308363ea-83be-4f59-ba5c-719e023d0b5c",
   "metadata": {},
   "source": [
    "## Two Sample Tester"
   ]
  },
  {
   "cell_type": "code",
   "execution_count": 8,
   "id": "04c8a3ca-5095-4595-91d8-c9e280c0e97a",
   "metadata": {
    "tags": []
   },
   "outputs": [
    {
     "name": "stdin",
     "output_type": "stream",
     "text": [
      "Select test method:  mmd\n"
     ]
    }
   ],
   "source": [
    "TS_TEST = input(\"Select test method: \")\n",
    "\n",
    "tester = TSTester(\n",
    "    tester_method=TS_TEST,\n",
    ")"
   ]
  },
  {
   "cell_type": "markdown",
   "id": "59669b5e-e16c-4cea-968e-2a4ead89a82c",
   "metadata": {},
   "source": [
    "## Domain Classifier Tester"
   ]
  },
  {
   "cell_type": "code",
   "execution_count": null,
   "id": "2e8faa6a-d514-462b-9737-42f62d4a5a4b",
   "metadata": {},
   "outputs": [],
   "source": [
    "DC_TEST = input(\"Select test method: \")\n",
    "\n",
    "tester = DCTester(\n",
    "    tester_method=DC_TEST,\n",
    ")"
   ]
  },
  {
   "cell_type": "markdown",
   "id": "6d643707-c7f6-4b49-8806-4094ee0dbb0d",
   "metadata": {},
   "source": [
    "## Detector "
   ]
  },
  {
   "cell_type": "code",
   "execution_count": 9,
   "id": "5ebcbad5-ac85-4f1b-8792-669ec7ff54ca",
   "metadata": {},
   "outputs": [],
   "source": [
    "detector = Detector(\n",
    "    reductor = reductor,\n",
    "    tester = tester,\n",
    "    p_val_threshold = 0.05,\n",
    ")\n",
    "detector.fit(X_tr_final)"
   ]
  },
  {
   "cell_type": "markdown",
   "id": "154c9739-57ea-4b97-aae8-b6e65e331499",
   "metadata": {},
   "source": [
    "## SyntheticShiftApplicator"
   ]
  },
  {
   "cell_type": "code",
   "execution_count": 10,
   "id": "ccc93e4b-4505-4b0b-a79a-9b8768cfc80d",
   "metadata": {},
   "outputs": [],
   "source": [
    "shiftapplicator = SyntheticShiftApplicator(\n",
    "    shift_type = \"gn_shift\",\n",
    ") "
   ]
  },
  {
   "cell_type": "markdown",
   "id": "6606a732-0139-409b-8a28-116af000907c",
   "metadata": {},
   "source": [
    "## Experimenter"
   ]
  },
  {
   "cell_type": "code",
   "execution_count": 11,
   "id": "74f47fec-829e-4d46-bc0b-14c7e67a035a",
   "metadata": {},
   "outputs": [],
   "source": [
    "experimenter_custom = Experimenter(\n",
    "    detector = detector,\n",
    "    shiftapplicator = shiftapplicator,\n",
    "    admin_data = admin_data\n",
    ")"
   ]
  },
  {
   "cell_type": "markdown",
   "id": "addeb3e3-62a7-4af0-80ae-3d8af706c031",
   "metadata": {},
   "source": [
    "## Run custom shift experiment"
   ]
  },
  {
   "cell_type": "code",
   "execution_count": 12,
   "id": "35f88d98-d833-4e51-85a3-e6f0468bd5c5",
   "metadata": {},
   "outputs": [
    {
     "name": "stderr",
     "output_type": "stream",
     "text": [
      "2022-10-05 09:45:33.455931: I tensorflow/stream_executor/cuda/cuda_gpu_executor.cc:936] successful NUMA node read from SysFS had negative value (-1), but there must be at least one NUMA node, so returning NUMA node zero\n",
      "2022-10-05 09:45:33.567448: W tensorflow/stream_executor/platform/default/dso_loader.cc:64] Could not load dynamic library 'libcudnn.so.8'; dlerror: libcudnn.so.8: cannot open shared object file: No such file or directory; LD_LIBRARY_PATH: /mnt/nfs/home/subasriv/.cache/pypoetry/virtualenvs/cyclops-KKtuQLwg-py3.9/lib/python3.9/site-packages/cv2/../../lib64:/usr/local/cuda/lib64:/opt/R/4.0.5/lib/R/lib:/lib:/usr/local/lib:/usr/lib/x86_64-linux-gnu:/usr/lib/jvm/java-11-openjdk-amd64/lib/server\n",
      "2022-10-05 09:45:33.567512: W tensorflow/core/common_runtime/gpu/gpu_device.cc:1850] Cannot dlopen some GPU libraries. Please make sure the missing libraries mentioned above are installed properly if you would like to use GPU. Follow the guide at https://www.tensorflow.org/install/gpu for how to download and setup the required libraries for your platform.\n",
      "Skipping registering GPU devices...\n",
      "2022-10-05 09:45:33.570185: I tensorflow/core/platform/cpu_feature_guard.cc:151] This TensorFlow binary is optimized with oneAPI Deep Neural Network Library (oneDNN) to use the following CPU instructions in performance-critical operations:  AVX2 AVX512F FMA\n",
      "To enable them in other operations, rebuild TensorFlow with the appropriate compiler flags.\n"
     ]
    },
    {
     "data": {
      "text/plain": [
       "{'samples': [10, 20, 50, 100, 200, 500, 1000],\n",
       " 'mean_p_vals': array([0., 0., 0., 0., 0., 0., 0.]),\n",
       " 'std_p_vals': array([0., 0., 0., 0., 0., 0., 0.]),\n",
       " 'mean_dist': array([0.21925485, 0.17856405, 0.12100201, 0.10810322, 0.05805973,\n",
       "        0.02112937, 0.01309993]),\n",
       " 'std_dist': array([0.00000000e+00, 7.34329224e-06, 4.13252375e-06, 2.09788029e-06,\n",
       "        1.20548828e-06, 3.28637332e-07, 1.10550147e-07])}"
      ]
     },
     "execution_count": 12,
     "metadata": {},
     "output_type": "execute_result"
    }
   ],
   "source": [
    "X_t_final_shifted = experimenter_custom.apply_synthetic_shift(\n",
    "    X_t_final,\n",
    "    shift_type=\"gn_shift\",\n",
    "    delta=0.01,\n",
    "    noise_amt=0.01,\n",
    "    clip=False\n",
    ")\n",
    "\n",
    "results = experimenter_custom.detect_shift_samples(\n",
    "        X_t_final_shifted\n",
    "    )\n",
    "\n",
    "results"
   ]
  },
  {
   "cell_type": "markdown",
   "id": "sudden-topic",
   "metadata": {},
   "source": [
    "## Run predefined shift experiments ##"
   ]
  },
  {
   "cell_type": "code",
   "execution_count": 33,
   "id": "3164d25a-cbea-4b16-80c5-40ae358cc481",
   "metadata": {},
   "outputs": [
    {
     "name": "stdin",
     "output_type": "stream",
     "text": [
      "Select shift experiment:  small_bn_shift_0.1\n"
     ]
    }
   ],
   "source": [
    "SHIFT = input(\"Select shift experiment: \")\n",
    "\n",
    "if SHIFT =='ko_shift':\n",
    "    shifts = ['ko_shift_0.1','ko_shift_0.5','ko_shift_1.0']\n",
    "elif SHIFT == 'small_gn_shift':\n",
    "    shifts = ['small_gn_shift_0.1','small_gn_shift_0.5','small_gn_shift_1.0']\n",
    "elif SHIFT == 'medium_gn_shift':\n",
    "    shifts = ['medium_gn_shift_0.1', 'medium_gn_shift_0.5','medium_gn_shift_1.0']\n",
    "elif SHIFT == 'large_gn_shift':\n",
    "    shifts = ['large_gn_shift_0.1','large_gn_shift_0.5','large_gn_shift_1.0']\n",
    "elif SHIFT == 'mfa_shift':\n",
    "    shifts = ['mfa_shift_0.25','mfa_shift_0.5','mfa_shift_0.75']\n",
    "elif SHIFT == 'cp_shift':\n",
    "    shifts = ['cp_shift_0.25','cp_shift_0.75']\n",
    "elif SHIFT == 'small_bn_shift':\n",
    "    shifts = ['small_bn_shift_0.1','small_bn_shift_0.5','small_bn_shift_1.0']\n",
    "elif SHIFT == 'medium_bn_shift':\n",
    "    shifts = ['medium_bn_shift_0.1','medium_bn_shift_0.5','medium_bn_shift_1.0']\n",
    "elif SHIFT == 'large_bn_shift':\n",
    "    shifts = ['large_bn_shift_0.1','large_bn_shift_0.5','large_bn_shift_1.0']"
   ]
  },
  {
   "cell_type": "code",
   "execution_count": 60,
   "id": "e876ef31-c3d9-4c03-adee-cc6fe0fdb67d",
   "metadata": {},
   "outputs": [],
   "source": [
    "experimenter_predefined = Experimenter(\n",
    "    detector = detector,\n",
    "    admin_data=admin_data\n",
    ")"
   ]
  },
  {
   "cell_type": "code",
   "execution_count": 66,
   "id": "1ae0a5ae-5134-4026-9da1-80fdedcccbb6",
   "metadata": {},
   "outputs": [],
   "source": [
    "shift_results = {}\n",
    "for si, shift in enumerate(shifts):\n",
    "    X_t_final_shifted = X_t_final.copy()\n",
    "    X_t_final_shifted, _ = apply_predefined_shift(shift, X=X_t_final_shifted,y=y_t)\n",
    "    results = experimenter_predefined.detect_shift_samples(\n",
    "        X_t_final_shifted\n",
    "    )\n",
    "    shift_results.update({shift:results})"
   ]
  },
  {
   "cell_type": "code",
   "execution_count": 67,
   "id": "7743e141-f5d0-4e27-aeea-c5fe6fa00673",
   "metadata": {},
   "outputs": [],
   "source": [
    "X_t_final_shifted = X_t_final.copy()\n",
    "X_t_final_shifted, _ = apply_predefined_shift(shift, X=X_t_final_shifted,y=y_t)"
   ]
  },
  {
   "cell_type": "code",
   "execution_count": 68,
   "id": "c601f173-7f3c-49dc-b42a-c1adde1e6840",
   "metadata": {},
   "outputs": [
    {
     "data": {
      "image/png": "[encoded data removed]",
      "text/plain": [
       "<Figure size 792x432 with 1 Axes>"
      ]
     },
     "metadata": {
      "needs_background": "light"
     },
     "output_type": "display_data"
    }
   ],
   "source": [
    "fig, ax = plt.subplots(figsize=(11, 6))\n",
    "plt.hist(X_val_final[:,0], bins=50, alpha=0.5,label='val',density=True)\n",
    "plt.hist(X_t_final[:,0], bins=50, alpha=0.5,label='test',density=True)\n",
    "plt.hist(X_t_final_shifted[:,0], bins=50, alpha=0.5 , label='test+noise',density=True)\n",
    "fig.legend(loc='upper right')\n",
    "plt.show()"
   ]
  },
  {
   "cell_type": "code",
   "execution_count": 69,
   "id": "20a59f6d-a296-4736-b4ea-a5baa07d0879",
   "metadata": {},
   "outputs": [
    {
     "data": {
      "text/plain": [
       "{'p_val': 0.0, 'distance': 0.002434671, 'shift_detected': True}"
      ]
     },
     "execution_count": 69,
     "metadata": {},
     "output_type": "execute_result"
    }
   ],
   "source": [
    "experimenter2.detect_shift_sample(\n",
    "        X_t_final_shifted,\n",
    "        sample=100\n",
    ")"
   ]
  },
  {
   "cell_type": "markdown",
   "id": "b2ce64ff-70fa-46f1-82bf-277ed96e9dfa",
   "metadata": {},
   "source": [
    "## Plot shift experiments"
   ]
  },
  {
   "cell_type": "code",
   "execution_count": 71,
   "id": "horizontal-holiday",
   "metadata": {},
   "outputs": [
    {
     "data": {
      "image/png": "[encoded data removed]",
      "text/plain": [
       "<Figure size 792x576 with 1 Axes>"
      ]
     },
     "metadata": {
      "needs_background": "light"
     },
     "output_type": "display_data"
    }
   ],
   "source": [
    "plot_drift_samples_pval(shift_results, 0.05)"
   ]
  }
 ],
 "metadata": {
  "kernelspec": {
   "display_name": "cyclops-KKtuQLwg-py3.9",
   "language": "python",
   "name": "cyclops-kktuqlwg-py3.9"
  },
  "language_info": {
   "codemirror_mode": {
    "name": "ipython",
    "version": 3
   },
   "file_extension": ".py",
   "mimetype": "text/x-python",
   "name": "python",
   "nbconvert_exporter": "python",
   "pygments_lexer": "ipython3",
   "version": "3.9.7"
  }
 },
 "nbformat": 4,
 "nbformat_minor": 5
}
