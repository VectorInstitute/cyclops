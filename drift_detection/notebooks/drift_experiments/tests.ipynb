{
 "cells": [
  {
   "cell_type": "code",
   "execution_count": null,
   "id": "checked-supervisor",
   "metadata": {},
   "outputs": [],
   "source": [
    "import sys\n",
    "import pandas as pd\n",
    "import os\n",
    "sys.path.append(\"..\")\n",
    "\n",
    "from drift_detector.reductor import ShiftReductor\n",
    "from drift_detector.detector import ShiftDetector\n",
    "from drift_detector.experiments import *\n",
    "from utils.constants import *\n",
    "from utils.plot_utils import errorfill, plot_roc, plot_pr, linestyles, markers, colors, brightness, colorscale\n",
    "from utils.legacy_utils import import_dataset, import_dataset_hospital, FEATURES\n",
    "from utils.utils import run_synthetic_shift_experiment\n",
    "from baseline_models.static.utils import run_model"
   ]
  },
  {
   "cell_type": "markdown",
   "id": "distributed-psychiatry",
   "metadata": {},
   "source": [
    "###  Load data ###"
   ]
  },
  {
   "cell_type": "code",
   "execution_count": null,
   "id": "applied-identity",
   "metadata": {},
   "outputs": [],
   "source": [
    "print(\"Loading data...\")  \n",
    "(X_s_tr, y_s_tr), (X_s_val, y_s_val), (X_t, y_t), orig_dims = import_dataset('los', features=FEATURES)"
   ]
  },
  {
   "cell_type": "markdown",
   "id": "requested-vanilla",
   "metadata": {},
   "source": [
    "### Define Shift Detector and Parameters ###"
   ]
  },
  {
   "cell_type": "code",
   "execution_count": null,
   "id": "66b1a046-20a3-4723-afff-296837dc05bf",
   "metadata": {},
   "outputs": [],
   "source": [
    "sign_level = 0.05\n",
    "dr_technique = \"NoRed\"\n",
    "md_test = \"Classifier\"\n",
    "red_model = None\n",
    "dataset = \"test experiment\"\n",
    "samples = [10, 20, 50, 100, 200, 500, 1000]\n",
    "sample = samples[5]\n",
    "orig_dims = X_s_tr.shape[1:]\n",
    "print(\"Initializing shift reductor...\")\n",
    "shift_reductor = ShiftReductor(X_s_tr, y_s_tr, dr_technique, orig_dims, dataset, dr_amount=None, var_ret=0.9, scale=False, scaler=\"standard\", model=None)\n",
    "print(\"Initializing shift detector...\")\n",
    "shift_detector = ShiftDetector(dr_technique, md_test, sign_level, shift_reductor, sample, dataset)"
   ]
  },
  {
   "cell_type": "markdown",
   "id": "normal-animation",
   "metadata": {},
   "source": [
    "#### Drift from 2019 to 2019 ####"
   ]
  },
  {
   "cell_type": "code",
   "execution_count": null,
   "id": "impossible-tunnel",
   "metadata": {},
   "outputs": [],
   "source": [
    "p_val, dist, t1_acc, t2_acc = shift_detector.detect_data_shift(X_s_tr, y_s_tr, X_s_tr, y_s_tr, X_s_val, y_s_val, orig_dims)\n",
    "print(p_val,dist)"
   ]
  },
  {
   "cell_type": "markdown",
   "id": "creative-thailand",
   "metadata": {},
   "source": [
    "#### Drift from 2019 to 2020 ####"
   ]
  },
  {
   "cell_type": "code",
   "execution_count": null,
   "id": "patent-ownership",
   "metadata": {},
   "outputs": [],
   "source": [
    "p_val, dist, t1_acc, t2_acc = shift_detector.detect_data_shift(X_s_tr, y_s_tr, X_s_val, y_s_val, X_t, y_t, orig_dims)\n",
    "print(p_val,dist)"
   ]
  },
  {
   "cell_type": "markdown",
   "id": "imperial-clark",
   "metadata": {},
   "source": [
    "#### Knockout Shift ####"
   ]
  },
  {
   "cell_type": "code",
   "execution_count": null,
   "id": "418111e5-e908-40b6-ba44-de81a9f91e76",
   "metadata": {},
   "outputs": [],
   "source": [
    "shift = \"ko_shift_1.0\"\n",
    "X_ko, y_ko = apply_shift(X_s_tr, y_s_tr, X_s_val, y_s_val, shift)\n",
    "p_val, dist, t1_acc, t2_acc = shift_detector.detect_data_shift(X_s_tr, y_s_tr, X_s_val, y_s_val, X_ko, y_ko, orig_dims)\n",
    "print(p_val,dist)"
   ]
  },
  {
   "cell_type": "markdown",
   "id": "attempted-peripheral",
   "metadata": {},
   "source": [
    "#### Gaussian Noise Shift ####"
   ]
  },
  {
   "cell_type": "code",
   "execution_count": null,
   "id": "close-clearance",
   "metadata": {},
   "outputs": [],
   "source": [
    "shift = \"small_gn_shift_0.1\"\n",
    "X_sgn, y_sgn = apply_shift(X_s_tr, y_s_tr, X_s_val, y_s_val, shift)\n",
    "p_val, dist, t1_acc, t2_acc = shift_detector.detect_data_shift(X_s_tr, y_s_tr, X_s_val, y_s_val, X_sgn, y_sgn, orig_dims)\n",
    "print(p_val,dist)\n",
    "\n",
    "shift = \"large_gn_shift_1.0\"\n",
    "X_lgn, y_lgn = apply_shift(X_s_tr, y_s_tr, X_s_val, y_s_val, shift)\n",
    "p_val, dist, t1_acc, t2_acc = shift_detector.detect_data_shift(X_s_tr, y_s_tr, X_s_val, y_s_val, X_lgn, y_lgn, orig_dims)\n",
    "print(p_val,dist)"
   ]
  },
  {
   "cell_type": "markdown",
   "id": "australian-intake",
   "metadata": {},
   "source": [
    "#### Multiway Feature Association Shift ####"
   ]
  },
  {
   "cell_type": "code",
   "execution_count": null,
   "id": "70e786ad-5ed4-4cc4-b9bf-7537ce7ad10d",
   "metadata": {},
   "outputs": [],
   "source": [
    "shift = \"mfa_shift_0.5\"\n",
    "X_mfa, y_mfa = apply_shift(X_s_tr, y_s_tr, X_s_val, y_s_val, shift)\n",
    "p_val, dist, t1_acc, t2_acc = shift_detector.detect_data_shift(X_s_tr, y_s_tr, X_s_val, y_s_val, X_mfa[:sample,:], y_mfa[:sample], orig_dims)\n",
    "print(p_val,dist)"
   ]
  },
  {
   "cell_type": "markdown",
   "id": "legal-stationery",
   "metadata": {},
   "source": [
    "#### Changepoint Shift ####"
   ]
  },
  {
   "cell_type": "code",
   "execution_count": null,
   "id": "66247b6e-2af0-4ba7-b30a-e7d7229f68f4",
   "metadata": {},
   "outputs": [],
   "source": [
    "shift= \"cp_shift_0.75\"\n",
    "X_cp, y_cp = apply_shift(X_s_tr, y_s_tr, X_s_val, y_s_val, shift)\n",
    "p_val, dist, t1_acc, t2_acc = shift_detector.detect_data_shift(X_s_tr, y_s_tr, X_s_val, y_s_val, X_cp[:sample,:], y_cp[:sample], orig_dims)\n",
    "print(p_val,dist)"
   ]
  }
 ],
 "metadata": {
  "kernelspec": {
   "display_name": "cyclops",
   "language": "python",
   "name": "cyclops"
  },
  "language_info": {
   "codemirror_mode": {
    "name": "ipython",
    "version": 3
   },
   "file_extension": ".py",
   "mimetype": "text/x-python",
   "name": "python",
   "nbconvert_exporter": "python",
   "pygments_lexer": "ipython3",
   "version": "3.9.7"
  }
 },
 "nbformat": 4,
 "nbformat_minor": 5
}
