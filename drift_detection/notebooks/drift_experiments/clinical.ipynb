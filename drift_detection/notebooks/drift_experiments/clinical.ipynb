{
 "cells": [
  {
   "cell_type": "markdown",
   "id": "2bb9cf86-573c-4767-9ebb-6784486ef1b9",
   "metadata": {},
   "source": [
    "### Clinical drift detection"
   ]
  },
  {
   "cell_type": "code",
   "execution_count": null,
   "id": "6ecf1fdc-3133-4660-a0c2-72402bd16301",
   "metadata": {},
   "outputs": [],
   "source": [
    "import sys\n",
    "import pandas as pd\n",
    "import numpy as np\n",
    "import os\n",
    "from functools import reduce\n",
    "import datetime\n",
    "import pickle\n",
    "import matplotlib.pyplot as plt\n",
    "\n",
    "sys.path.append(\"../..\")\n",
    "\n",
    "from gemini.constants import *\n",
    "from gemini.utils import *\n",
    "from drift_detector.plotter import plot_drift_samples_pval, errorfill, plot_roc, plot_pr, linestyles, markers, colors, brightness, colorscale\n",
    "from drift_detector.utils import scale\n",
    "from drift_detector.detector import Detector\n",
    "from drift_detector.reductor import Reductor\n",
    "from drift_detector.tester import TSTester, DCTester\n",
    "from drift_detector.experimenter import Experimenter\n",
    "from drift_detector.clinical_applicator import ClinicalShiftApplicator"
   ]
  },
  {
   "cell_type": "markdown",
   "id": "renewable-mortgage",
   "metadata": {},
   "source": [
    "## Config parameters"
   ]
  },
  {
   "cell_type": "code",
   "execution_count": null,
   "id": "hourly-insider",
   "metadata": {},
   "outputs": [],
   "source": [
    "PATH = \"/mnt/nfs/project/delirium/drift_exp/JULY-04-2022/\"\n",
    "HOSPITALS = [\"SMH\",\"MSH\",\"THPC\",\"THPM\",\"UHNTG\",\"UHNTW\",\"PMH\"]\n",
    "TIMESTEPS = 6\n",
    "AGGREGATION_TYPE = \"time_flatten\"\n",
    "ACADEMIC=[\"PMH\", \"SMH\",\"UHNTW\",\"UHNTG\",\"PMH\",\"SBK\"]\n",
    "COMMUNITY=[\"THPC\",\"THPM\"]\n",
    "\n",
    "if AGGREGATION_TYPE == \"time\":\n",
    "    CONTEXT_TYPE=\"rnn\"\n",
    "    REPRESENTATION=\"rnn\"\n",
    "else:\n",
    "    CONTEXT_TYPE=\"ffnn\"\n",
    "    REPRESENTATION=\"rf\"\n",
    "    \n",
    "OUTCOME = input(\"Select outcome variable: \") # mortality\n",
    "SHIFT = input(\"Select experiment: \")  # covid,seasonal,hosp_type\n",
    "MODEL_PATH=\"../../saved_models/\"+SHIFT+\"_lstm.pt\"\n",
    "\n",
    "if SHIFT == \"covid\":\n",
    "    EXPERIMENTS = [\"pre-covid\", \"covid\"]\n",
    "\n",
    "if SHIFT == \"seasonal_summer\":\n",
    "    exp_params = {\n",
    "        'baseline': {'source': [1,2,3,4,5,6,7,8,9,10,11,12], 'target': [6,7,8,9]},\n",
    "        'experiment': {'source': [1,2,3,4,5,10,11,12], 'target':[6,7,8,9]},\n",
    "        'shift_type': \"month\"\n",
    "    }\n",
    "\n",
    "if SHIFT == \"seasonal_winter\":\n",
    "    exp_params = {\n",
    "        'baseline': {'source': [1,2,3,4,5,6,7,8,9,10,11,12], 'target': [11,12,1,2]},\n",
    "        'experiment': {'source': [3,4,5,6,7,8,9,10], 'target':[11,12,1,2]},\n",
    "        'shift_type': \"month\"\n",
    "    }\n",
    "    \n",
    "if SHIFT == \"hosp_type_academic\":\n",
    "    exp_params = {\n",
    "        'baseline': {'source': ACADEMIC, 'target':ACADEMIC},\n",
    "        'experiment': {'source':COMMUNITY, 'target':ACADEMIC},\n",
    "        'shift_type':\"hospital_type\"\n",
    "    }\n",
    "\n",
    "if SHIFT == \"hosp_type_community\":\n",
    "    exp_params = {\n",
    "        'baseline': {'source': COMMUNITY, 'target':COMMUNITY},\n",
    "        'experiment': {'source': ACADEMIC, 'target':COMMUNITY},\n",
    "        'shift_type':\"hospital_type\"\n",
    "    }"
   ]
  },
  {
   "cell_type": "markdown",
   "id": "ee047a8c-392e-46c5-8877-37aa9ca4fc15",
   "metadata": {},
   "source": [
    "## Query data"
   ]
  },
  {
   "cell_type": "code",
   "execution_count": null,
   "id": "7651e075-3673-44ec-9196-bf9bee056cfd",
   "metadata": {},
   "outputs": [],
   "source": [
    "admin_data, x, y = get_gemini_data(PATH)\n",
    "\n",
    "(X_tr, y_tr), (X_val, y_val), (X_t, y_t), feats, admin_data = import_dataset_hospital(admin_data, x, y, SHIFT, OUTCOME, HOSPITALS)\n",
    "x = x.loc[~x.index.get_level_values(0).isin(X_tr.index.get_level_values(0))]\n",
    "\n",
    "# Normalize training data\n",
    "X_tr_normalized  = normalize(AGGREGATION_TYPE, admin_data, TIMESTEPS, X_tr)\n",
    "# Get training labels\n",
    "y_tr = get_label(admin_data, X_tr, \"mortality\")\n",
    "# Scale training data\n",
    "X_tr_scaled = scale(X_tr_normalized)\n",
    "# Process training data\n",
    "X_tr_final = process(AGGREGATION_TYPE, TIMESTEPS, X_tr_scaled)"
   ]
  },
  {
   "cell_type": "markdown",
   "id": "82819774-1874-4ab6-9eb9-abb700319174",
   "metadata": {},
   "source": [
    "## Reductor"
   ]
  },
  {
   "cell_type": "code",
   "execution_count": null,
   "id": "573e9452-151e-4386-9c74-b7d91971aac0",
   "metadata": {},
   "outputs": [],
   "source": [
    " DR_TECHNIQUE = input(\"Select dimensionality reduction technique: \")\n",
    "\n",
    "reductor = Reductor(\n",
    "    dr_method = DR_TECHNIQUE,\n",
    "    model_path = MODEL_PATH,\n",
    "    var_ret = 0.8,\n",
    ")\n",
    "reductor.fit(X_tr_final)"
   ]
  },
  {
   "cell_type": "markdown",
   "id": "7e31d4bc-d0db-4711-a223-fbf7e5b6e751",
   "metadata": {},
   "source": [
    "## Tester"
   ]
  },
  {
   "cell_type": "code",
   "execution_count": null,
   "id": "88acfc2d-21ad-46f7-813d-00041adbddee",
   "metadata": {},
   "outputs": [],
   "source": [
    "MD_TEST = input(\"Select test method: \")\n",
    "\n",
    "tester = TSTester(\n",
    "    tester_method=MD_TEST,\n",
    ")"
   ]
  },
  {
   "cell_type": "markdown",
   "id": "c2930c39-5bb6-46d8-b92c-c9c61f64ea04",
   "metadata": {},
   "source": [
    "## Detector"
   ]
  },
  {
   "cell_type": "code",
   "execution_count": null,
   "id": "bcff54ef-a64c-49f0-896c-406140786ead",
   "metadata": {},
   "outputs": [],
   "source": [
    "detector = Detector(\n",
    "    reductor = reductor,\n",
    "    tester = tester,\n",
    "    p_val_threshold = 0.05,\n",
    ")"
   ]
  },
  {
   "cell_type": "markdown",
   "id": "852cb985-24a9-4794-ab00-c506ca769951",
   "metadata": {},
   "source": [
    "## ClinicalShiftApplicator"
   ]
  },
  {
   "cell_type": "code",
   "execution_count": null,
   "id": "5dfd0a7d-ada5-4261-9f40-c92e478c3862",
   "metadata": {},
   "outputs": [],
   "source": [
    "clinicalshiftapplicator = ClinicalShiftApplicator(\n",
    "    shift_type = exp_params['shift_type']\n",
    "    \n",
    ") \n",
    "\n",
    "experimenter = Experimenter(\n",
    "    detector = detector,\n",
    "    clinicalshiftapplicator = clinicalshiftapplicator,\n",
    "    admin_data = admin_data\n",
    ")"
   ]
  },
  {
   "cell_type": "markdown",
   "id": "bibliographic-premium",
   "metadata": {},
   "source": [
    "## Experimenter"
   ]
  },
  {
   "cell_type": "code",
   "execution_count": null,
   "id": "bab74da1-b9dd-4a32-bedd-2becbfd293a1",
   "metadata": {},
   "outputs": [],
   "source": [
    "shift_results = {}\n",
    "for si, shift in enumerate([\"baseline\",\"experiment\"]):\n",
    "    X_val, X_t = experimenter.apply_clinical_shift(\n",
    "        x,\n",
    "        source=exp_params[shift]['source'],\n",
    "        target=exp_params[shift]['target']\n",
    "    )\n",
    "    # Normalize data\n",
    "    X_val_normalized = normalize(AGGREGATION_TYPE, admin_data, TIMESTEPS, X_val)\n",
    "    X_t_normalized = normalize(AGGREGATION_TYPE, admin_data, TIMESTEPS, X_t)\n",
    "\n",
    "    # Get labels\n",
    "    y_val = get_label(admin_data, X_val, \"mortality\")\n",
    "    y_t = get_label(admin_data, X_t, \"mortality\")\n",
    "    \n",
    "    # Scale data\n",
    "    X_val_scaled = scale(X_val_normalized)\n",
    "    X_t_scaled = scale(X_t_normalized)\n",
    "\n",
    "    # Process data\n",
    "    X_val_final = process(AGGREGATION_TYPE, TIMESTEPS, X_val_scaled)\n",
    "    X_t_final = process(AGGREGATION_TYPE, TIMESTEPS, X_t_scaled)\n",
    "\n",
    "    results = experimenter.detect_shift_samples(\n",
    "        X_val_final, \n",
    "        X_t_final,\n",
    "        synthetic=False\n",
    "    )\n",
    "    shift_results.update({shift:results})"
   ]
  },
  {
   "cell_type": "markdown",
   "id": "51fb5f1d-7859-4086-8d5a-bf84ad1bcad9",
   "metadata": {},
   "source": [
    "## Plot drift results"
   ]
  },
  {
   "cell_type": "code",
   "execution_count": null,
   "id": "9aa06e62-4efe-4d5b-a349-10ec768513d8",
   "metadata": {},
   "outputs": [],
   "source": [
    "plot_drift_samples_pval(shift_results, 0.05)"
   ]
  }
 ],
 "metadata": {
  "kernelspec": {
   "display_name": "cyclops-KKtuQLwg-py3.9",
   "language": "python",
   "name": "cyclops-kktuqlwg-py3.9"
  },
  "language_info": {
   "codemirror_mode": {
    "name": "ipython",
    "version": 3
   },
   "file_extension": ".py",
   "mimetype": "text/x-python",
   "name": "python",
   "nbconvert_exporter": "python",
   "pygments_lexer": "ipython3",
   "version": "3.9.7"
  }
 },
 "nbformat": 4,
 "nbformat_minor": 5
}
