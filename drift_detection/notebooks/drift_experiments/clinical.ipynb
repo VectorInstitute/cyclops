{
 "cells": [
  {
   "cell_type": "code",
   "execution_count": 1,
   "id": "6b553ccb-04dc-4516-a838-c3f3e3d4fc97",
   "metadata": {},
   "outputs": [
    {
     "name": "stderr",
     "output_type": "stream",
     "text": [
      "2022-08-29 17:22:38,794 \u001b[1;37mINFO\u001b[0m cyclops.orm     - Database setup, ready to run queries!\n"
     ]
    }
   ],
   "source": [
    "import sys\n",
    "import pandas as pd\n",
    "import numpy as np\n",
    "import os\n",
    "from functools import reduce\n",
    "import datetime\n",
    "import pickle\n",
    "import matplotlib.pyplot as plt\n",
    "from sklearn.metrics import (\n",
    "    auc,\n",
    "    accuracy_score,\n",
    "    confusion_matrix,\n",
    "    roc_auc_score,\n",
    "    roc_curve,\n",
    "    precision_recall_curve,\n",
    "    average_precision_score,\n",
    ")\n",
    "\n",
    "sys.path.append(\"../..\")\n",
    "\n",
    "from drift_detector.explainer import ShiftExplainer\n",
    "from drift_detector.experiments import *\n",
    "from utils.constants import *\n",
    "from utils.plot_utils import errorfill, plot_roc, plot_pr, linestyles, markers, colors, brightness, colorscale\n",
    "from utils.utils import *\n",
    "from baseline_models.static.utils import run_model"
   ]
  },
  {
   "cell_type": "markdown",
   "id": "renewable-mortgage",
   "metadata": {},
   "source": [
    "# Config Parameters #"
   ]
  },
  {
   "cell_type": "code",
   "execution_count": 2,
   "id": "hourly-insider",
   "metadata": {},
   "outputs": [],
   "source": [
    "PATH = \"/mnt/nfs/project/delirium/drift_exp/JULY-04-2022/\"\n",
    "DATASET = \"gemini\"\n",
    "SAMPLES = [10, 20, 50, 100, 200, 500]\n",
    "RANDOM_RUNS = 5\n",
    "SIGN_LEVEL = 0.05\n",
    "CALC_ACC = True\n",
    "TIMESTEPS = 6\n",
    "AGGREGATION_TYPE = \"time_flatten\"\n",
    "SCALE=True"
   ]
  },
  {
   "cell_type": "code",
   "execution_count": 3,
   "id": "da1ce1ea-3423-4e89-8723-642c9c3f048f",
   "metadata": {},
   "outputs": [],
   "source": [
    "# [\"NoRed\"] --> [\"MMD\", \"LK\",\"Context-Aware MMD\", \"Spot-the-diff\"]\n",
    "# [\"SRP\", \"PCA\", \"kPCA\", \"IsoMap\", \"BBSDs_untrained_FFNN\", \"BBSDs_untrained_LSTM\", \"BBSDs_trained_LSTM\"] --> [\"MMD\", \"LK\" \"Classifier\" Spot-the-diff\"]"
   ]
  },
  {
   "cell_type": "markdown",
   "id": "ee047a8c-392e-46c5-8877-37aa9ca4fc15",
   "metadata": {},
   "source": [
    "# Query Data"
   ]
  },
  {
   "cell_type": "code",
   "execution_count": 4,
   "id": "7651e075-3673-44ec-9196-bf9bee056cfd",
   "metadata": {},
   "outputs": [
    {
     "name": "stderr",
     "output_type": "stream",
     "text": [
      "2022-08-29 17:22:39,107 \u001b[1;37mINFO\u001b[0m cyclops.utils.file - Loading dataframe to /mnt/nfs/project/delirium/drift_exp/JULY-04-2022/aggregated_events.parquet\n"
     ]
    },
    {
     "name": "stdout",
     "output_type": "stream",
     "text": [
      "Load data from aggregated events...\n"
     ]
    },
    {
     "name": "stderr",
     "output_type": "stream",
     "text": [
      "2022-08-29 17:22:39,983 \u001b[1;37mINFO\u001b[0m cyclops.utils.file - Loading dataframe to /mnt/nfs/project/delirium/drift_exp/JULY-04-2022/aggmeta_start_ts.parquet\n",
      "2022-08-29 17:22:40,370 \u001b[1;37mINFO\u001b[0m cyclops.feature_handler - Loading features from file...\n",
      "2022-08-29 17:22:40,390 \u001b[1;37mINFO\u001b[0m cyclops.feature_handler - Found file to load for static features...\n",
      "2022-08-29 17:22:40,395 \u001b[1;37mINFO\u001b[0m cyclops.feature_handler - Successfully loaded static features from file...\n",
      "2022-08-29 17:22:40,459 \u001b[1;37mINFO\u001b[0m cyclops.feature_handler - Found file to load for temporal features...\n"
     ]
    },
    {
     "name": "stdout",
     "output_type": "stream",
     "text": [
      "Load data from feature handler...\n"
     ]
    },
    {
     "name": "stderr",
     "output_type": "stream",
     "text": [
      "2022-08-29 17:22:51,760 \u001b[1;37mINFO\u001b[0m cyclops.feature_handler - Successfully loaded temporal features from file...\n"
     ]
    },
    {
     "name": "stdout",
     "output_type": "stream",
     "text": [
      "Load data from admin data...\n"
     ]
    },
    {
     "name": "stderr",
     "output_type": "stream",
     "text": [
      "2022-08-29 17:23:10,807 \u001b[1;37mINFO\u001b[0m cyclops.utils.file - Loading dataframe to /mnt/nfs/project/delirium/drift_exp/JULY-04-2022/aggmeta_end_ts.parquet\n"
     ]
    }
   ],
   "source": [
    "admin_data, x, y = get_gemini_data(PATH)"
   ]
  },
  {
   "cell_type": "markdown",
   "id": "typical-angola",
   "metadata": {},
   "source": [
    "# Input Parameters #"
   ]
  },
  {
   "cell_type": "code",
   "execution_count": 5,
   "id": "308b97d6-7ec6-4825-aad0-59370c7bf44b",
   "metadata": {},
   "outputs": [
    {
     "name": "stdin",
     "output_type": "stream",
     "text": [
      "Select experiment:  hosp_type_academic\n",
      "Select outcome variable:  mortality\n"
     ]
    }
   ],
   "source": [
    "SHIFT = input(\"Select experiment: \")  # covid,seasonal,hosp_type\n",
    "OUTCOME = input(\"Select outcome variable: \") # mortality\n",
    "\n",
    "if SHIFT == \"covid\":\n",
    "    EXPERIMENTS = [\"pre-covid\", \"covid\"]\n",
    "    HOSPITAL= [\"SMH\",\"MSH\",\"UHNTG\",\"UHNTW\",\"PMH\",\"THPC\",\"THPM\"]\n",
    "    MODEL_PATH=\"../../saved_models/covid_lstm.pt\"\n",
    "\n",
    "if SHIFT == \"seasonal_summer\":\n",
    "    EXPERIMENTS = [\"seasonal_summer_baseline\",\"seasonal_summer\"] \n",
    "    MODEL_PATH=\"../../saved_models/seasonal_summer_lstm.pt\"\n",
    "\n",
    "if SHIFT == \"seasonal_winter\":\n",
    "    EXPERIMENTS = [\"seasonal_winter_baseline\",\"seasonal_winter\"] \n",
    "    MODEL_PATH=\"../../saved_models/seasonal_winter_lstm.pt\"\n",
    "    \n",
    "if SHIFT == \"hosp_type_academic\":\n",
    "    EXPERIMENTS = [\"hosp_type_academic_baseline\",\"hosp_type_academic\"]\n",
    "    MODEL_PATH=\"../../saved_models/hosp_type_academic_lstm.pt\"\n",
    "\n",
    "if SHIFT == \"hosp_type_community\":\n",
    "    EXPERIMENTS = [\"hosp_type_community_baseline\",\"hosp_type_community\"]\n",
    "    MODEL_PATH=\"../../saved_models/hosp_type_community_lstm.pt\"\n",
    "\n",
    "MODEL_PATH = os.path.join(os.getcwd(),MODEL_PATH)\n",
    "HOSPITAL = [\"SMH\",\"MSH\",\"THPC\",\"THPM\",\"UHNTG\",\"UHNTW\",\"PMH\"]"
   ]
  },
  {
   "cell_type": "markdown",
   "id": "tropical-switch",
   "metadata": {},
   "source": [
    "# Drift Tests #"
   ]
  },
  {
   "cell_type": "code",
   "execution_count": 8,
   "id": "bc520427-794a-41dc-88f7-baaa7319aac3",
   "metadata": {},
   "outputs": [],
   "source": [
    "if AGGREGATION_TYPE == \"time\":\n",
    "    DR_TECHNIQUES = [\"NoRed\",\"SRP\", \"PCA\", \"kPCA\", \"Isomap\",\"BBSDs_untrained_FFNN\",\"BBSDs_untrained_LSTM\", \"BBSDs_trained_LSTM\"] \n",
    "    CONTEXT_TYPE=\"rnn\"\n",
    "    REPRESENTATION=\"rnn\"\n",
    "    DRIFT_PATH = PATH + '_'.join([AGGREGATION_TYPE,CONTEXT_TYPE,SHIFT, '_'.join(HOSPITAL),''])\n",
    "else:\n",
    "    DR_TECHNIQUES = [\"NoRed\",\"SRP\", \"PCA\", \"kPCA\", \"Isomap\",\"BBSDs_untrained_FFNN\"]\n",
    "    CONTEXT_TYPE=\"ffnn\"\n",
    "    REPRESENTATION=\"rf\"\n",
    "    DRIFT_PATH = PATH + '_'.join([AGGREGATION_TYPE,CONTEXT_TYPE,REPRESENTATION, SHIFT, '_'.join(HOSPITAL),''])\n",
    "    \n",
    "MD_TESTS = [\"Univariate\",\"MMD\", \"LK\", \"Spot-the-diff\"]"
   ]
  },
  {
   "cell_type": "code",
   "execution_count": 9,
   "id": "885f6fb3-8027-40bd-b2f4-edeeeb429c2e",
   "metadata": {},
   "outputs": [
    {
     "data": {
      "text/plain": [
       "'/mnt/nfs/project/delirium/drift_exp/JULY-04-2022/time_flatten_ffnn_rf_hosp_type_academic_SMH_MSH_THPC_THPM_UHNTG_UHNTW_PMH_'"
      ]
     },
     "execution_count": 9,
     "metadata": {},
     "output_type": "execute_result"
    }
   ],
   "source": [
    "DRIFT_PATH"
   ]
  },
  {
   "cell_type": "code",
   "execution_count": 10,
   "id": "573e9452-151e-4386-9c74-b7d91971aac0",
   "metadata": {},
   "outputs": [
    {
     "name": "stderr",
     "output_type": "stream",
     "text": [
      "2022-08-29 17:24:12,939 \u001b[1;37mINFO\u001b[0m cyclops.feature_handler - Loading features from file...\n",
      "2022-08-29 17:24:12,946 \u001b[1;37mINFO\u001b[0m cyclops.feature_handler - Found file to load for static features...\n",
      "2022-08-29 17:24:12,950 \u001b[1;37mINFO\u001b[0m cyclops.feature_handler - Successfully loaded static features from file...\n",
      "2022-08-29 17:24:13,019 \u001b[1;37mINFO\u001b[0m cyclops.feature_handler - Found file to load for temporal features...\n"
     ]
    },
    {
     "name": "stdout",
     "output_type": "stream",
     "text": [
      "hosp_type_academic | ['SMH', 'MSH', 'THPC', 'THPM', 'UHNTG', 'UHNTW', 'PMH'] | Isomap | Spot-the-diff\n"
     ]
    },
    {
     "name": "stderr",
     "output_type": "stream",
     "text": [
      "\n",
      "KeyboardInterrupt\n",
      "\n"
     ]
    }
   ],
   "source": [
    "# Run shift experiments\n",
    "if os.path.exists(os.path.join(DRIFT_PATH + \"mean_dr_md_pval.pkl\")):\n",
    "    with open(os.path.join(DRIFT_PATH + \"mean_dr_md_pval.pkl\"), \"rb\") as f:\n",
    "        mean_dr_md_pval = pickle.load(f)\n",
    "    with open(os.path.join(DRIFT_PATH + \"mean_dr_md_dist.pkl\"), \"rb\") as f:\n",
    "        mean_dr_md_dist = pickle.load(f)\n",
    "else:\n",
    "    mean_dr_md_pval = np.ones(\n",
    "        (len(EXPERIMENTS), len(DR_TECHNIQUES), len(MD_TESTS), len(SAMPLES))\n",
    "    ) * (-1)\n",
    "    mean_dr_md_dist = np.ones(\n",
    "        (len(EXPERIMENTS), len(DR_TECHNIQUES), len(MD_TESTS), len(SAMPLES))\n",
    "    ) * (-1)\n",
    "\n",
    "if os.path.exists(os.path.join(DRIFT_PATH + \"std_dr_md_pval.pkl\")):\n",
    "    with open(os.path.join(DRIFT_PATH + \"std_dr_md_pval.pkl\"), \"rb\") as f:\n",
    "        std_dr_md_pval = pickle.load(f)\n",
    "    with open(os.path.join(DRIFT_PATH + \"std_dr_md_dist.pkl\"), \"rb\") as f:\n",
    "        std_dr_md_dist = pickle.load(f)\n",
    "        \n",
    "else:\n",
    "    std_dr_md_pval = np.ones(\n",
    "        (len(EXPERIMENTS), len(DR_TECHNIQUES), len(MD_TESTS), len(SAMPLES))\n",
    "    ) * (-1)\n",
    "    std_dr_md_dist = np.ones(\n",
    "        (len(EXPERIMENTS), len(DR_TECHNIQUES), len(MD_TESTS), len(SAMPLES))\n",
    "    ) * (-1)\n",
    "\n",
    "\n",
    "for si, SHIFT in enumerate(EXPERIMENTS):\n",
    "    for di, DR_TECHNIQUE in enumerate(DR_TECHNIQUES):\n",
    "        for mi, MD_TEST in enumerate(MD_TESTS):\n",
    "            if np.any(mean_dr_md_pval[si, di, mi, :] == -1):\n",
    "                print(\n",
    "                    \"{} | {} | {} | {}\".format(\n",
    "                        SHIFT, HOSPITAL, DR_TECHNIQUE, MD_TEST\n",
    "                    )\n",
    "                )\n",
    "                \n",
    "                if AGGREGATION_TYPE == \"time_flatten\" and MD_TEST == \"Classifier\":\n",
    "                    REPRESENTATION=\"rf\"\n",
    "                elif AGGREGATION_TYPE == \"time_flatten\" and MD_TEST == \"LK\":\n",
    "                    REPRESENTATION=\"ffnn\"\n",
    "                    \n",
    "                    \n",
    "                if True:\n",
    "                    mean_p_vals, std_p_vals, mean_dist, std_dist = run_shift_experiment(\n",
    "                            shift=SHIFT,\n",
    "                            admin_data=admin_data,\n",
    "                            x=x, \n",
    "                            y=y,\n",
    "                            outcome=OUTCOME,\n",
    "                            hospital=HOSPITAL,\n",
    "                            path=PATH,\n",
    "                            aggregation_type=AGGREGATION_TYPE,\n",
    "                            scale=SCALE,\n",
    "                            dr_technique=DR_TECHNIQUE,\n",
    "                            model_path=MODEL_PATH,\n",
    "                            md_test=MD_TEST,\n",
    "                            context_type=CONTEXT_TYPE,\n",
    "                            representation=REPRESENTATION,\n",
    "                            samples=SAMPLES,\n",
    "                            dataset=DATASET,\n",
    "                            sign_level=SIGN_LEVEL,\n",
    "                            timesteps=TIMESTEPS,\n",
    "                            random_runs=RANDOM_RUNS,\n",
    "                            calc_acc=CALC_ACC\n",
    "                    )\n",
    "\n",
    "                    mean_dr_md_pval[si, di, mi, :] = mean_p_vals\n",
    "                    std_dr_md_pval[si, di, mi, :] = std_p_vals\n",
    "                    mean_dr_md_dist[si, di, mi, :] = mean_dist\n",
    "                    std_dr_md_dist[si, di, mi, :] = std_dist\n"
   ]
  },
  {
   "cell_type": "code",
   "execution_count": 21,
   "id": "88acfc2d-21ad-46f7-813d-00041adbddee",
   "metadata": {},
   "outputs": [
    {
     "name": "stdin",
     "output_type": "stream",
     "text": [
      "Select Pre-Processing:  NoRed\n",
      "Select Two-Sample Testing:  MMD\n",
      "Plot:  P-Value\n"
     ]
    },
    {
     "data": {
      "image/png": "[encoded data removed]",
      "text/plain": [
       "<Figure size 576x432 with 1 Axes>"
      ]
     },
     "metadata": {
      "needs_background": "light"
     },
     "output_type": "display_data"
    }
   ],
   "source": [
    "DIM_RED = input(\"Select Pre-Processing: \")\n",
    "MD_TEST = input(\"Select Two-Sample Testing: \")\n",
    "PLOT_METRIC = input(\"Plot: \")\n",
    "\n",
    "fig = plt.figure(figsize=(8, 6))\n",
    "for si, shift in enumerate(EXPERIMENTS):\n",
    "    for di, dr_technique in enumerate(DR_TECHNIQUES):\n",
    "        for mi, md_test in enumerate(MD_TESTS):\n",
    "            if (\n",
    "                    dr_technique == DIM_RED\n",
    "                    and md_test == MD_TEST and \n",
    "                    PLOT_METRIC == \"Distance\"\n",
    "            ):\n",
    "                errorfill(\n",
    "                        np.array(SAMPLES),\n",
    "                        mean_dr_md_dist[si, di, mi, :],\n",
    "                        std_dr_md_dist[si, di, mi, :],\n",
    "                        fmt=linestyles[si] + markers[si],\n",
    "                        color=colorscale(colors[si], brightness[si]),\n",
    "                        label=\"%s\" % \"_\".join([shift, dr_technique, md_test]),\n",
    "                )\n",
    "            elif (\n",
    "                    dr_technique == DIM_RED\n",
    "                    and md_test == MD_TEST and \n",
    "                    PLOT_METRIC == \"P-Value\"\n",
    "            ):\n",
    "                errorfill(\n",
    "                        np.array(SAMPLES),\n",
    "                        mean_dr_md_pval[si, di, mi, :],\n",
    "                        std_dr_md_pval[si, di, mi, :],\n",
    "                        fmt=linestyles[si] + markers[si],\n",
    "                        color=colorscale(colors[si], brightness[si]),\n",
    "                        label=\"%s\" % \"_\".join([shift, dr_technique, md_test]),\n",
    "                )\n",
    "plt.xlabel(\"Number of samples from test data\")\n",
    "plt.ylabel(PLOT_METRIC)\n",
    "plt.axhline(y=SIGN_LEVEL, color=\"k\")\n",
    "plt.legend()\n",
    "plt.show()\n",
    "\n",
    "# Run shift experiments\n",
    "if not os.path.exists(os.path.join(DRIFT_PATH + \"mean_dr_md_pval.pkl\")):\n",
    "    with open(os.path.join(DRIFT_PATH + \"mean_dr_md_pval.pkl\"), \"wb\") as f:\n",
    "        pickle.dump(mean_dr_md_pval, f)\n",
    "    with open(os.path.join(DRIFT_PATH + \"mean_dr_md_dist.pkl\"), \"wb\") as f:\n",
    "        pickle.dump(mean_dr_md_dist, f)\n",
    "if not os.path.exists(os.path.join(DRIFT_PATH + \"std_dr_md_pval.pkl\")):\n",
    "    with open(os.path.join(DRIFT_PATH + \"std_dr_md_pval.pkl\"), \"wb\") as f:\n",
    "        pickle.dump(std_dr_md_pval, f)\n",
    "    with open(os.path.join(DRIFT_PATH + \"std_dr_md_dist.pkl\"), \"wb\") as f:\n",
    "        pickle.dump(std_dr_md_dist, f)"
   ]
  },
  {
   "cell_type": "markdown",
   "id": "bibliographic-premium",
   "metadata": {},
   "source": [
    "# Build Model #"
   ]
  },
  {
   "cell_type": "code",
   "execution_count": 22,
   "id": "bab74da1-b9dd-4a32-bedd-2becbfd293a1",
   "metadata": {},
   "outputs": [
    {
     "name": "stderr",
     "output_type": "stream",
     "text": [
      "2022-08-29 17:36:33,802 \u001b[1;37mINFO\u001b[0m cyclops.feature_handler - Loading features from file...\n",
      "2022-08-29 17:36:33,827 \u001b[1;37mINFO\u001b[0m cyclops.feature_handler - Found file to load for static features...\n",
      "2022-08-29 17:36:33,832 \u001b[1;37mINFO\u001b[0m cyclops.feature_handler - Successfully loaded static features from file...\n",
      "2022-08-29 17:36:33,899 \u001b[1;37mINFO\u001b[0m cyclops.feature_handler - Found file to load for temporal features...\n",
      "2022-08-29 17:36:45,075 \u001b[1;37mINFO\u001b[0m cyclops.feature_handler - Successfully loaded temporal features from file...\n"
     ]
    },
    {
     "name": "stdin",
     "output_type": "stream",
     "text": [
      "Select Model:  xgb\n"
     ]
    }
   ],
   "source": [
    "SHIFT=\"hosp_type_community\"\n",
    "scale = True\n",
    "\n",
    "(X_tr, y_tr), (X_val, y_val), (X_t, y_t), feats, admin_data = import_dataset_hospital(admin_data, x, y, SHIFT, OUTCOME, HOSPITAL, 1, shuffle=True)\n",
    "\n",
    "aggregation_type = \"time_flatten\"\n",
    "numerical_cols = get_numerical_cols(PATH)\n",
    "\n",
    "# Normalize data\n",
    "(X_tr_normalized, y_tr),(X_val_normalized, y_val), (X_t_normalized, y_t) = normalize_data(aggregation_type, admin_data, TIMESTEPS, X_tr, y_tr, X_val, y_val, X_t, y_t)\n",
    "\n",
    "# Scale data\n",
    "if scale:\n",
    "    X_tr_normalized, X_val_normalized, X_t_normalized = scale_data(numerical_cols, X_tr_normalized, X_val_normalized, X_t_normalized)\n",
    "# Process data\n",
    "X_tr_final, X_val_final, X_t_final = process_data(aggregation_type, TIMESTEPS, X_tr_normalized, X_val_normalized, X_t_normalized)\n",
    "\n",
    "MODEL_NAME = input(\"Select Model: \")\n",
    "MODEL_PATH = PATH + \"_\".join([SHIFT, OUTCOME, aggregation_type, '_'.join(HOSPITAL), MODEL_NAME]) + \".pkl\"\n",
    "if os.path.exists(MODEL_PATH):\n",
    "    optimised_model = pickle.load(open(MODEL_PATH, \"rb\"))\n",
    "else:\n",
    "    optimised_model = run_model(MODEL_NAME, X_tr_final, y_tr, X_val_final, y_val)\n",
    "    pickle.dump(optimised_model, open(MODEL_PATH, 'wb'))"
   ]
  },
  {
   "cell_type": "code",
   "execution_count": null,
   "id": "15cdbbaa-54db-4e66-ac2b-7e50d91efbd5",
   "metadata": {},
   "outputs": [],
   "source": []
  },
  {
   "cell_type": "markdown",
   "id": "front-present",
   "metadata": {},
   "source": [
    "### Performance on Source Data ###"
   ]
  },
  {
   "cell_type": "code",
   "execution_count": 11,
   "id": "resistant-dover",
   "metadata": {},
   "outputs": [
    {
     "data": {
      "text/plain": [
       "<AxesSubplot:title={'center':'PRC curve (area = 0.914436)'}, xlabel='Recall', ylabel='Precision'>"
      ]
     },
     "execution_count": 11,
     "metadata": {},
     "output_type": "execute_result"
    },
    {
     "data": {
      "image/png": "[encoded data removed]",
      "text/plain": [
       "<Figure size 1008x432 with 2 Axes>"
      ]
     },
     "metadata": {
      "needs_background": "light"
     },
     "output_type": "display_data"
    }
   ],
   "source": [
    "y_pred_prob = optimised_model.predict_proba(X_val_final)[:, 1]\n",
    "\n",
    "fpr, tpr, thresholds = roc_curve(y_val, y_pred_prob, pos_label=1)\n",
    "roc_auc = auc(fpr, tpr)\n",
    "precision, recall, thresholds = precision_recall_curve(y_val, y_pred_prob)\n",
    "auc_pr = auc(recall, precision)\n",
    "fig, ax = plt.subplots(nrows=1, ncols=2, figsize=(14, 6))\n",
    "plot_roc(ax[0], fpr, tpr, roc_auc)\n",
    "plot_pr(ax[1], recall, precision, auc_pr)"
   ]
  },
  {
   "cell_type": "markdown",
   "id": "distinct-opening",
   "metadata": {},
   "source": [
    "### Performance on Target Data ###"
   ]
  },
  {
   "cell_type": "code",
   "execution_count": 12,
   "id": "affecting-marriage",
   "metadata": {},
   "outputs": [
    {
     "data": {
      "text/plain": [
       "<AxesSubplot:title={'center':'PRC curve (area = 0.491456)'}, xlabel='Recall', ylabel='Precision'>"
      ]
     },
     "execution_count": 12,
     "metadata": {},
     "output_type": "execute_result"
    },
    {
     "data": {
      "image/png": "[encoded data removed]",
      "text/plain": [
       "<Figure size 1008x432 with 2 Axes>"
      ]
     },
     "metadata": {
      "needs_background": "light"
     },
     "output_type": "display_data"
    }
   ],
   "source": [
    "y_pred_prob = optimised_model.predict_proba(X_t_final)[:, 1]\n",
    "fpr, tpr, thresholds = roc_curve(y_t, y_pred_prob, pos_label=1)\n",
    "roc_auc = auc(fpr, tpr)\n",
    "precision, recall, thresholds = precision_recall_curve(y_t, y_pred_prob)\n",
    "auc_pr = auc(recall, precision)\n",
    "fig, ax = plt.subplots(nrows=1, ncols=2, figsize=(14, 6))\n",
    "plot_roc(ax[0], fpr, tpr, roc_auc)\n",
    "plot_pr(ax[1], recall, precision, auc_pr)"
   ]
  },
  {
   "cell_type": "code",
   "execution_count": 17,
   "id": "03670cff-5de7-4646-a8c3-7e8344c118c6",
   "metadata": {},
   "outputs": [
    {
     "name": "stdout",
     "output_type": "stream",
     "text": [
      "0\n"
     ]
    },
    {
     "name": "stderr",
     "output_type": "stream",
     "text": [
      "2022-08-29 17:28:08,200 \u001b[1;37mINFO\u001b[0m cyclops.feature_handler - Loading features from file...\n",
      "2022-08-29 17:28:08,221 \u001b[1;37mINFO\u001b[0m cyclops.feature_handler - Found file to load for static features...\n",
      "2022-08-29 17:28:08,225 \u001b[1;37mINFO\u001b[0m cyclops.feature_handler - Successfully loaded static features from file...\n",
      "2022-08-29 17:28:08,275 \u001b[1;37mINFO\u001b[0m cyclops.feature_handler - Found file to load for temporal features...\n",
      "2022-08-29 17:28:18,303 \u001b[1;37mINFO\u001b[0m cyclops.feature_handler - Successfully loaded temporal features from file...\n"
     ]
    },
    {
     "name": "stdout",
     "output_type": "stream",
     "text": [
      "1\n"
     ]
    },
    {
     "name": "stderr",
     "output_type": "stream",
     "text": [
      "2022-08-29 17:28:21,165 \u001b[1;37mINFO\u001b[0m cyclops.feature_handler - Loading features from file...\n",
      "2022-08-29 17:28:21,184 \u001b[1;37mINFO\u001b[0m cyclops.feature_handler - Found file to load for static features...\n",
      "2022-08-29 17:28:21,187 \u001b[1;37mINFO\u001b[0m cyclops.feature_handler - Successfully loaded static features from file...\n",
      "2022-08-29 17:28:21,230 \u001b[1;37mINFO\u001b[0m cyclops.feature_handler - Found file to load for temporal features...\n",
      "2022-08-29 17:28:31,034 \u001b[1;37mINFO\u001b[0m cyclops.feature_handler - Successfully loaded temporal features from file...\n"
     ]
    },
    {
     "name": "stdout",
     "output_type": "stream",
     "text": [
      "2\n"
     ]
    },
    {
     "name": "stderr",
     "output_type": "stream",
     "text": [
      "2022-08-29 17:28:33,901 \u001b[1;37mINFO\u001b[0m cyclops.feature_handler - Loading features from file...\n",
      "2022-08-29 17:28:33,918 \u001b[1;37mINFO\u001b[0m cyclops.feature_handler - Found file to load for static features...\n",
      "2022-08-29 17:28:33,921 \u001b[1;37mINFO\u001b[0m cyclops.feature_handler - Successfully loaded static features from file...\n",
      "2022-08-29 17:28:33,951 \u001b[1;37mINFO\u001b[0m cyclops.feature_handler - Found file to load for temporal features...\n",
      "2022-08-29 17:28:43,759 \u001b[1;37mINFO\u001b[0m cyclops.feature_handler - Successfully loaded temporal features from file...\n"
     ]
    },
    {
     "name": "stdout",
     "output_type": "stream",
     "text": [
      "3\n"
     ]
    },
    {
     "name": "stderr",
     "output_type": "stream",
     "text": [
      "2022-08-29 17:28:46,635 \u001b[1;37mINFO\u001b[0m cyclops.feature_handler - Loading features from file...\n",
      "2022-08-29 17:28:46,655 \u001b[1;37mINFO\u001b[0m cyclops.feature_handler - Found file to load for static features...\n",
      "2022-08-29 17:28:46,658 \u001b[1;37mINFO\u001b[0m cyclops.feature_handler - Successfully loaded static features from file...\n",
      "2022-08-29 17:28:46,704 \u001b[1;37mINFO\u001b[0m cyclops.feature_handler - Found file to load for temporal features...\n",
      "2022-08-29 17:28:56,421 \u001b[1;37mINFO\u001b[0m cyclops.feature_handler - Successfully loaded temporal features from file...\n"
     ]
    },
    {
     "name": "stdout",
     "output_type": "stream",
     "text": [
      "4\n"
     ]
    },
    {
     "name": "stderr",
     "output_type": "stream",
     "text": [
      "2022-08-29 17:28:59,294 \u001b[1;37mINFO\u001b[0m cyclops.feature_handler - Loading features from file...\n",
      "2022-08-29 17:28:59,310 \u001b[1;37mINFO\u001b[0m cyclops.feature_handler - Found file to load for static features...\n",
      "2022-08-29 17:28:59,314 \u001b[1;37mINFO\u001b[0m cyclops.feature_handler - Successfully loaded static features from file...\n",
      "2022-08-29 17:28:59,361 \u001b[1;37mINFO\u001b[0m cyclops.feature_handler - Found file to load for temporal features...\n",
      "2022-08-29 17:29:04,758 \u001b[1;37mINFO\u001b[0m cyclops.feature_handler - Successfully loaded temporal features from file...\n"
     ]
    },
    {
     "name": "stdout",
     "output_type": "stream",
     "text": [
      "5\n"
     ]
    },
    {
     "name": "stderr",
     "output_type": "stream",
     "text": [
      "2022-08-29 17:29:06,495 \u001b[1;37mINFO\u001b[0m cyclops.feature_handler - Loading features from file...\n",
      "2022-08-29 17:29:06,503 \u001b[1;37mINFO\u001b[0m cyclops.feature_handler - Found file to load for static features...\n",
      "2022-08-29 17:29:06,506 \u001b[1;37mINFO\u001b[0m cyclops.feature_handler - Successfully loaded static features from file...\n",
      "2022-08-29 17:29:06,552 \u001b[1;37mINFO\u001b[0m cyclops.feature_handler - Found file to load for temporal features...\n",
      "2022-08-29 17:29:17,655 \u001b[1;37mINFO\u001b[0m cyclops.feature_handler - Successfully loaded temporal features from file...\n"
     ]
    },
    {
     "name": "stdout",
     "output_type": "stream",
     "text": [
      "6\n"
     ]
    },
    {
     "name": "stderr",
     "output_type": "stream",
     "text": [
      "2022-08-29 17:29:21,052 \u001b[1;37mINFO\u001b[0m cyclops.feature_handler - Loading features from file...\n",
      "2022-08-29 17:29:21,063 \u001b[1;37mINFO\u001b[0m cyclops.feature_handler - Found file to load for static features...\n",
      "2022-08-29 17:29:21,087 \u001b[1;37mINFO\u001b[0m cyclops.feature_handler - Successfully loaded static features from file...\n",
      "2022-08-29 17:29:21,134 \u001b[1;37mINFO\u001b[0m cyclops.feature_handler - Found file to load for temporal features...\n",
      "2022-08-29 17:29:29,242 \u001b[1;37mINFO\u001b[0m cyclops.feature_handler - Successfully loaded temporal features from file...\n"
     ]
    },
    {
     "name": "stdout",
     "output_type": "stream",
     "text": [
      "7\n"
     ]
    },
    {
     "name": "stderr",
     "output_type": "stream",
     "text": [
      "2022-08-29 17:29:32,766 \u001b[1;37mINFO\u001b[0m cyclops.feature_handler - Loading features from file...\n",
      "2022-08-29 17:29:32,773 \u001b[1;37mINFO\u001b[0m cyclops.feature_handler - Found file to load for static features...\n",
      "2022-08-29 17:29:32,778 \u001b[1;37mINFO\u001b[0m cyclops.feature_handler - Successfully loaded static features from file...\n",
      "2022-08-29 17:29:32,829 \u001b[1;37mINFO\u001b[0m cyclops.feature_handler - Found file to load for temporal features...\n",
      "2022-08-29 17:29:39,045 \u001b[1;37mINFO\u001b[0m cyclops.feature_handler - Successfully loaded temporal features from file...\n"
     ]
    },
    {
     "name": "stdout",
     "output_type": "stream",
     "text": [
      "8\n"
     ]
    },
    {
     "name": "stderr",
     "output_type": "stream",
     "text": [
      "2022-08-29 17:29:41,982 \u001b[1;37mINFO\u001b[0m cyclops.feature_handler - Loading features from file...\n",
      "2022-08-29 17:29:42,001 \u001b[1;37mINFO\u001b[0m cyclops.feature_handler - Found file to load for static features...\n",
      "2022-08-29 17:29:42,006 \u001b[1;37mINFO\u001b[0m cyclops.feature_handler - Successfully loaded static features from file...\n",
      "2022-08-29 17:29:42,057 \u001b[1;37mINFO\u001b[0m cyclops.feature_handler - Found file to load for temporal features...\n",
      "2022-08-29 17:29:50,395 \u001b[1;37mINFO\u001b[0m cyclops.feature_handler - Successfully loaded temporal features from file...\n"
     ]
    },
    {
     "name": "stdout",
     "output_type": "stream",
     "text": [
      "9\n"
     ]
    },
    {
     "name": "stderr",
     "output_type": "stream",
     "text": [
      "2022-08-29 17:29:53,801 \u001b[1;37mINFO\u001b[0m cyclops.feature_handler - Loading features from file...\n",
      "2022-08-29 17:29:53,819 \u001b[1;37mINFO\u001b[0m cyclops.feature_handler - Found file to load for static features...\n",
      "2022-08-29 17:29:53,824 \u001b[1;37mINFO\u001b[0m cyclops.feature_handler - Successfully loaded static features from file...\n",
      "2022-08-29 17:29:53,873 \u001b[1;37mINFO\u001b[0m cyclops.feature_handler - Found file to load for temporal features...\n",
      "2022-08-29 17:30:05,052 \u001b[1;37mINFO\u001b[0m cyclops.feature_handler - Successfully loaded temporal features from file...\n"
     ]
    }
   ],
   "source": [
    "val_auroc = [] \n",
    "val_auprc = []\n",
    "test_auroc = []\n",
    "test_auprc = []\n",
    "RANDOM_RUNS=10\n",
    "for i in range(0, RANDOM_RUNS):\n",
    "    random.seed(i)\n",
    "    print(i)\n",
    "    (X_tr, y_tr), (X_val, y_val), (X_t, y_t), feats, admin_data = import_dataset_hospital(admin_data, x, y, SHIFT, OUTCOME, HOSPITAL, i, shuffle=True)\n",
    "\n",
    "    aggregation_type = \"time_flatten\"\n",
    "    numerical_cols = get_numerical_cols(PATH)\n",
    "\n",
    "    # Normalize data\n",
    "    (X_tr_normalized, y_tr),(X_val_normalized, y_val), (X_t_normalized, y_t) = normalize_data(aggregation_type, admin_data, TIMESTEPS, X_tr, y_tr, X_val, y_val, X_t, y_t)\n",
    "\n",
    "    # Scale data\n",
    "    if scale:\n",
    "        X_tr_normalized, X_val_normalized, X_t_normalized = scale_data(numerical_cols, X_tr_normalized, X_val_normalized, X_t_normalized)\n",
    "    # Process data\n",
    "    X_tr_final, X_val_final, X_t_final = process_data(aggregation_type, TIMESTEPS, X_tr_normalized, X_val_normalized, X_t_normalized)\n",
    "    \n",
    "    y_pred_prob = optimised_model.predict_proba(X_val_final)[:, 1]\n",
    "    fpr, tpr, thresholds = roc_curve(y_val, y_pred_prob, pos_label=1)\n",
    "    roc_auc = auc(fpr, tpr)\n",
    "    val_auroc.append(roc_auc)\n",
    "    precision, recall, thresholds = precision_recall_curve(y_val, y_pred_prob)\n",
    "    auc_pr = auc(recall, precision)\n",
    "    val_auprc.append(auc_pr)\n",
    "    \n",
    "    y_pred_prob = optimised_model.predict_proba(X_t_final)[:, 1]\n",
    "    fpr, tpr, thresholds = roc_curve(y_t, y_pred_prob, pos_label=1)\n",
    "    roc_auc = auc(fpr, tpr)\n",
    "    test_auroc.append(roc_auc)\n",
    "    precision, recall, thresholds = precision_recall_curve(y_t, y_pred_prob)\n",
    "    auc_pr = auc(recall, precision)\n",
    "    test_auprc.append(auc_pr)"
   ]
  },
  {
   "cell_type": "code",
   "execution_count": 18,
   "id": "cc30ce5c-3d6a-4a4c-8daa-2c5509566b48",
   "metadata": {},
   "outputs": [
    {
     "name": "stdout",
     "output_type": "stream",
     "text": [
      "0.9731215830635378 (0.9515981028457017, 0.9946450632813739)\n",
      "0.9647284768557487 (0.9368889330837101, 0.9925680206277873)\n",
      "0.862866885605228 (0.8608732838813924, 0.8648604873290635)\n",
      "0.9285872624401641 (0.927566466214206, 0.9296080586661222)\n"
     ]
    }
   ],
   "source": [
    "import scipy.stats as st\n",
    "\n",
    "print(np.mean(val_auroc),st.t.interval(0.95, len(val_auroc)-1, loc=np.mean(val_auroc), scale=st.sem(val_auroc)))\n",
    "print(np.mean(val_auprc),st.t.interval(0.95, len(val_auprc)-1, loc=np.mean(val_auprc), scale=st.sem(val_auprc)))\n",
    "print(np.mean(test_auroc),st.t.interval(0.95, len(test_auroc)-1, loc=np.mean(test_auroc), scale=st.sem(test_auroc)))\n",
    "print(np.mean(test_auprc),st.t.interval(0.95, len(test_auprc)-1, loc=np.mean(test_auprc), scale=st.sem(test_auprc)))"
   ]
  },
  {
   "cell_type": "markdown",
   "id": "tender-bracket",
   "metadata": {},
   "source": [
    "## Performance by Sample Size ##"
   ]
  },
  {
   "cell_type": "code",
   "execution_count": 15,
   "id": "employed-curtis",
   "metadata": {},
   "outputs": [
    {
     "name": "stderr",
     "output_type": "stream",
     "text": [
      "No negative samples in y_true, false positive value should be meaningless\n",
      "No negative samples in y_true, false positive value should be meaningless\n"
     ]
    }
   ],
   "source": [
    "def unison_shuffled_copies(a, b):\n",
    "    assert len(a) == len(b)\n",
    "    p = np.random.permutation(len(a))\n",
    "    return a[p], b[p]\n",
    "\n",
    "RANDOM_RUNS=100\n",
    "samp_metrics = np.ones((len(SAMPLES), RANDOM_RUNS, 2, 2)) * (-1)\n",
    "for si, sample in enumerate(SAMPLES):\n",
    "    for i in range(0, RANDOM_RUNS - 1):\n",
    "        i = int(i)\n",
    "        np.random.seed(i)\n",
    "        X_val_shuffled, y_val_shuffled = unison_shuffled_copies(X_val_final, y_val)\n",
    "        X_test_shuffled, y_test_shuffled = unison_shuffled_copies(X_t_final, y_t)\n",
    "\n",
    "        y_val_pred_prob = optimised_model.predict_proba(X_val_shuffled[:sample])[:, 1]\n",
    "        val_fpr, val_tpr, val_thresholds = roc_curve(\n",
    "            y_val_shuffled[:sample], y_val_pred_prob[:sample], pos_label=1\n",
    "        )\n",
    "        val_roc_auc = auc(val_fpr, val_tpr)\n",
    "        val_avg_pr = average_precision_score(y_val_shuffled[:sample], y_val_pred_prob[:sample])\n",
    "\n",
    "        y_test_pred_prob = optimised_model.predict_proba(X_test_shuffled[:sample])[:, 1]\n",
    "        test_fpr, test_tpr, test_thresholds = roc_curve(\n",
    "            y_test_shuffled[:sample], y_test_pred_prob[:sample], pos_label=1\n",
    "        )\n",
    "        test_roc_auc = auc(test_fpr, test_tpr)\n",
    "        test_avg_pr = average_precision_score(y_test_shuffled[:sample], y_test_pred_prob[:sample])\n",
    "\n",
    "        samp_metrics[si, i, 0, :] = [val_roc_auc, val_avg_pr]\n",
    "        samp_metrics[si, i, 1, :] = [test_roc_auc, test_avg_pr]\n",
    "\n",
    "    mean_samp_metrics = np.mean(samp_metrics, axis=1)\n",
    "    std_samp_metrics = np.std(samp_metrics, axis=1)"
   ]
  },
  {
   "cell_type": "code",
   "execution_count": 16,
   "id": "powerful-tournament",
   "metadata": {},
   "outputs": [
    {
     "data": {
      "image/png": "[encoded data removed]",
      "text/plain": [
       "<Figure size 576x432 with 1 Axes>"
      ]
     },
     "metadata": {
      "needs_background": "light"
     },
     "output_type": "display_data"
    }
   ],
   "source": [
    "fig = plt.figure(figsize=(8, 6))\n",
    "for si, shift in enumerate([\"baseline\", SHIFT]):\n",
    "    for mi, metric in enumerate([\"AuROC\", \"Avg Pr\"]):\n",
    "        if metric == \"AuROC\":\n",
    "            errorfill(\n",
    "                np.array(SAMPLES[1:]),\n",
    "                mean_samp_metrics[1:, si, mi],\n",
    "                std_samp_metrics[1:, si, mi],\n",
    "                fmt=linestyles[mi] + markers[mi],\n",
    "                color=colorscale(colors[si], brightness[si]),\n",
    "                label=\"%s\" % \"_\".join([shift]),\n",
    "            )\n",
    "plt.xlabel(\"Number of samples from test data\")\n",
    "plt.ylabel(\"AuROC\")\n",
    "plt.legend()\n",
    "plt.show()"
   ]
  },
  {
   "cell_type": "markdown",
   "id": "structured-utilization",
   "metadata": {},
   "source": [
    "## Explain Difference in Model Predictions ## "
   ]
  },
  {
   "cell_type": "code",
   "execution_count": 22,
   "id": "c7eed7e9-dc3d-4759-aebf-a68a4da777b2",
   "metadata": {},
   "outputs": [],
   "source": [
    "import itertools \n",
    "\n",
    "timesteps = ['T1_', 'T2_','T3_','T4_', 'T5_','T6_']\n",
    "\n",
    "flattened_feats = []\n",
    "for ts in timesteps:\n",
    "    flattened_feats.append(ts+feats)\n",
    "flattened_feats = list(itertools.chain.from_iterable(flattened_feats))"
   ]
  },
  {
   "cell_type": "code",
   "execution_count": 23,
   "id": "agreed-airfare",
   "metadata": {},
   "outputs": [
    {
     "name": "stderr",
     "output_type": "stream",
     "text": [
      "2022-08-29 14:36:20.264078: I tensorflow/stream_executor/cuda/cuda_gpu_executor.cc:936] successful NUMA node read from SysFS had negative value (-1), but there must be at least one NUMA node, so returning NUMA node zero\n",
      "2022-08-29 14:36:20.671153: W tensorflow/stream_executor/platform/default/dso_loader.cc:64] Could not load dynamic library 'libcudnn.so.8'; dlerror: libcudnn.so.8: cannot open shared object file: No such file or directory; LD_LIBRARY_PATH: /mnt/nfs/home/subasriv/.cache/pypoetry/virtualenvs/cyclops-KKtuQLwg-py3.9/lib/python3.9/site-packages/cv2/../../lib64:/usr/local/cuda/lib64:/opt/R/4.0.5/lib/R/lib:/lib:/usr/local/lib:/usr/lib/x86_64-linux-gnu:/usr/lib/jvm/java-11-openjdk-amd64/lib/server\n",
      "2022-08-29 14:36:20.671212: W tensorflow/core/common_runtime/gpu/gpu_device.cc:1850] Cannot dlopen some GPU libraries. Please make sure the missing libraries mentioned above are installed properly if you would like to use GPU. Follow the guide at https://www.tensorflow.org/install/gpu for how to download and setup the required libraries for your platform.\n",
      "Skipping registering GPU devices...\n",
      "2022-08-29 14:36:20.683535: I tensorflow/core/platform/cpu_feature_guard.cc:151] This TensorFlow binary is optimized with oneAPI Deep Neural Network Library (oneDNN) to use the following CPU instructions in performance-critical operations:  AVX2 AVX512F FMA\n",
      "To enable them in other operations, rebuild TensorFlow with the appropriate compiler flags.\n",
      "ntree_limit is deprecated, use `iteration_range` or model slicing instead.\n",
      "ntree_limit is deprecated, use `iteration_range` or model slicing instead.\n"
     ]
    },
    {
     "data": {
      "image/png": "[encoded data removed]",
      "text/plain": [
       "<Figure size 864x864 with 1 Axes>"
      ]
     },
     "metadata": {
      "needs_background": "light"
     },
     "output_type": "display_data"
    }
   ],
   "source": [
    "explainer = ShiftExplainer(optimised_model)\n",
    "explainer.get_explainer()\n",
    "\n",
    "X_val_df = pd.DataFrame(X_val_final, columns=flattened_feats)\n",
    "val_shap_values = explainer.get_shap_values(X_val_df)\n",
    "X_test_df = pd.DataFrame(X_t_final, columns=flattened_feats)\n",
    "test_shap_values = explainer.get_shap_values(X_test_df)\n",
    "\n",
    "diff = np.mean(np.abs(test_shap_values.values), axis=0) - np.mean(\n",
    "    np.abs(val_shap_values.values), axis=0\n",
    ")\n",
    "diff_sorted, feats_sorted = zip(*sorted(zip(diff, flattened_feats), reverse=True))\n",
    "diff_sorted, feats_sorted = zip(\n",
    "    *(((x, y) for x, y in zip(diff_sorted, feats_sorted) if (x > 0.01 or x < -0.01)))\n",
    ")\n",
    "diff_sorted = list(diff_sorted)\n",
    "feats_sorted=list(map(lambda x: x.replace('T1_', '').replace('T2_', '').replace('T3_', '').replace('T4_', '').replace('T5_', '').replace('T6_', ''),feats_sorted))\n",
    "del diff_sorted[5]\n",
    "del feats_sorted[5]\n",
    "fig, ax = plt.subplots(figsize=(12, 12))\n",
    "y_pos = np.arange(len(diff_sorted))\n",
    "ax.barh(y_pos, diff_sorted, align=\"center\")\n",
    "ax.set_yticks(y_pos, labels=feats_sorted)\n",
    "ax.invert_yaxis()  # labels read top-to-bottom\n",
    "ax.set_xlabel(\"Mean Difference in Shap Value\")\n",
    "ax.set_title(\"Features\")\n",
    "plt.show()"
   ]
  },
  {
   "cell_type": "code",
   "execution_count": null,
   "id": "c1a63f41-65cb-44fb-b6d5-aa768acf4e01",
   "metadata": {},
   "outputs": [],
   "source": []
  }
 ],
 "metadata": {
  "kernelspec": {
   "display_name": "cyclops-KKtuQLwg-py3.9",
   "language": "python",
   "name": "cyclops-kktuqlwg-py3.9"
  },
  "language_info": {
   "codemirror_mode": {
    "name": "ipython",
    "version": 3
   },
   "file_extension": ".py",
   "mimetype": "text/x-python",
   "name": "python",
   "nbconvert_exporter": "python",
   "pygments_lexer": "ipython3",
   "version": "3.9.7"
  }
 },
 "nbformat": 4,
 "nbformat_minor": 5
}
