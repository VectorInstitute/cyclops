{
 "cells": [
  {
   "cell_type": "markdown",
   "id": "2bb9cf86-573c-4767-9ebb-6784486ef1b9",
   "metadata": {},
   "source": [
    "### Clinical drift detection"
   ]
  },
  {
   "cell_type": "code",
   "execution_count": null,
   "id": "6ecf1fdc-3133-4660-a0c2-72402bd16301",
   "metadata": {},
   "outputs": [],
   "source": [
    "import sys\n",
    "import pandas as pd\n",
    "import numpy as np\n",
    "import os\n",
    "from functools import reduce\n",
    "import datetime\n",
    "import pickle\n",
    "import matplotlib.pyplot as plt\n",
    "\n",
    "sys.path.append(\"../..\")\n",
    "\n",
    "from gemini.constants import *\n",
    "from gemini.utils import *\n",
    "from drift_detector.plotter import plot_drift_samples_pval, errorfill, plot_roc, plot_pr, linestyles, markers, colors, brightness, colorscale\n",
    "from drift_detector.utils import scale\n",
    "from drift_detector.detector import Detector\n",
    "from drift_detector.reductor import Reductor\n",
    "from drift_detector.tester import TSTester, DCTester\n",
    "from drift_detector.experimenter import Experimenter\n",
    "from drift_detector.synthetic_applicator import ClinicalShiftApplicator, apply_predefined_shift"
   ]
  },
  {
   "cell_type": "markdown",
   "id": "renewable-mortgage",
   "metadata": {},
   "source": [
    "## Config Parameters"
   ]
  },
  {
   "cell_type": "code",
   "execution_count": null,
   "id": "hourly-insider",
   "metadata": {},
   "outputs": [],
   "source": [
    "PATH = \"/mnt/nfs/project/delirium/drift_exp/JULY-04-2022/\"\n",
    "TIMESTEPS = 6\n",
    "AGGREGATION_TYPE = \"time_flatten\""
   ]
  },
  {
   "cell_type": "markdown",
   "id": "ee047a8c-392e-46c5-8877-37aa9ca4fc15",
   "metadata": {},
   "source": [
    "## Query Data"
   ]
  },
  {
   "cell_type": "code",
   "execution_count": null,
   "id": "7651e075-3673-44ec-9196-bf9bee056cfd",
   "metadata": {},
   "outputs": [],
   "source": [
    "admin_data, x, y = get_gemini_data(PATH)"
   ]
  },
  {
   "cell_type": "markdown",
   "id": "typical-angola",
   "metadata": {},
   "source": [
    "## Input Parameters"
   ]
  },
  {
   "cell_type": "code",
   "execution_count": null,
   "id": "308b97d6-7ec6-4825-aad0-59370c7bf44b",
   "metadata": {},
   "outputs": [],
   "source": [
    "SHIFT = input(\"Select experiment: \")  # covid,seasonal,hosp_type\n",
    "OUTCOME = input(\"Select outcome variable: \") # mortality\n",
    "\n",
    "if SHIFT == \"covid\":\n",
    "    EXPERIMENTS = [\"pre-covid\", \"covid\"]\n",
    "    HOSPITAL= [\"SMH\",\"MSH\",\"UHNTG\",\"UHNTW\",\"PMH\",\"THPC\",\"THPM\"]\n",
    "    MODEL_PATH=\"../../saved_models/covid_lstm.pt\"\n",
    "\n",
    "if SHIFT == \"seasonal_summer\":\n",
    "    EXPERIMENTS = [\"seasonal_summer_baseline\",\"seasonal_summer\"] \n",
    "    MODEL_PATH=\"../../saved_models/seasonal_summer_lstm.pt\"\n",
    "\n",
    "if SHIFT == \"seasonal_winter\":\n",
    "    EXPERIMENTS = [\"seasonal_winter_baseline\",\"seasonal_winter\"] \n",
    "    MODEL_PATH=\"../../saved_models/seasonal_winter_lstm.pt\"\n",
    "    \n",
    "if SHIFT == \"hosp_type_academic\":\n",
    "    EXPERIMENTS = [\"hosp_type_academic_baseline\",\"hosp_type_academic\"]\n",
    "    MODEL_PATH=\"../../saved_models/hosp_type_academic_lstm.pt\"\n",
    "\n",
    "if SHIFT == \"hosp_type_community\":\n",
    "    EXPERIMENTS = [\"hosp_type_community_baseline\",\"hosp_type_community\"]\n",
    "    MODEL_PATH=\"../../saved_models/hosp_type_community_lstm.pt\"\n",
    "\n",
    "MODEL_PATH = os.path.join(os.getcwd(),MODEL_PATH)\n",
    "HOSPITAL = [\"SMH\",\"MSH\",\"THPC\",\"THPM\",\"UHNTG\",\"UHNTW\",\"PMH\"]"
   ]
  },
  {
   "cell_type": "markdown",
   "id": "tropical-switch",
   "metadata": {},
   "source": [
    "## Drift Tests"
   ]
  },
  {
   "cell_type": "code",
   "execution_count": null,
   "id": "bc520427-794a-41dc-88f7-baaa7319aac3",
   "metadata": {},
   "outputs": [],
   "source": [
    "if AGGREGATION_TYPE == \"time\":\n",
    "    DR_TECHNIQUES = [\"NoRed\",\"SRP\", \"PCA\", \"kPCA\", \"Isomap\",\"BBSDs_untrained_FFNN\",\"BBSDs_untrained_LSTM\", \"BBSDs_trained_LSTM\"] \n",
    "    CONTEXT_TYPE=\"rnn\"\n",
    "    REPRESENTATION=\"rnn\"\n",
    "    DRIFT_PATH = PATH + '_'.join([AGGREGATION_TYPE,CONTEXT_TYPE,SHIFT, '_'.join(HOSPITAL),''])\n",
    "else:\n",
    "    DR_TECHNIQUES = [\"NoRed\",\"SRP\", \"PCA\", \"kPCA\", \"Isomap\",\"BBSDs_untrained_FFNN\"]\n",
    "    CONTEXT_TYPE=\"ffnn\"\n",
    "    REPRESENTATION=\"rf\"\n",
    "    DRIFT_PATH = PATH + '_'.join([AGGREGATION_TYPE,CONTEXT_TYPE,REPRESENTATION, SHIFT, '_'.join(HOSPITAL),''])\n",
    "    \n",
    "MD_TESTS = [\"Univariate\",\"MMD\", \"LK\", \"Spot-the-diff\"]"
   ]
  },
  {
   "cell_type": "markdown",
   "id": "82819774-1874-4ab6-9eb9-abb700319174",
   "metadata": {},
   "source": [
    "## Reductor"
   ]
  },
  {
   "cell_type": "code",
   "execution_count": null,
   "id": "573e9452-151e-4386-9c74-b7d91971aac0",
   "metadata": {},
   "outputs": [],
   "source": [
    "DR_TECHNIQUE = input(\"Select dimensionality reduction technique: \")\n",
    "\n",
    "reductor = Reductor(\n",
    "    dr_method = DR_TECHNIQUE,\n",
    "    model_path = MODEL_PATH,\n",
    "    var_ret = 0.8,\n",
    ")"
   ]
  },
  {
   "cell_type": "markdown",
   "id": "7e31d4bc-d0db-4711-a223-fbf7e5b6e751",
   "metadata": {},
   "source": [
    "## Tester"
   ]
  },
  {
   "cell_type": "code",
   "execution_count": null,
   "id": "88acfc2d-21ad-46f7-813d-00041adbddee",
   "metadata": {},
   "outputs": [],
   "source": [
    "MD_TEST = input(\"Select test method: \")\n",
    "\n",
    "tester = TSTester(\n",
    "    tester_method=MD_TEST,\n",
    ")"
   ]
  },
  {
   "cell_type": "markdown",
   "id": "c2930c39-5bb6-46d8-b92c-c9c61f64ea04",
   "metadata": {},
   "source": [
    "## Detector"
   ]
  },
  {
   "cell_type": "code",
   "execution_count": null,
   "id": "bcff54ef-a64c-49f0-896c-406140786ead",
   "metadata": {},
   "outputs": [],
   "source": [
    "detector = Detector(\n",
    "    reductor = reductor,\n",
    "    tester = tester,\n",
    "    p_val_threshold = 0.05,\n",
    ")"
   ]
  },
  {
   "cell_type": "markdown",
   "id": "852cb985-24a9-4794-ab00-c506ca769951",
   "metadata": {},
   "source": [
    "## ClinicalShiftApplicator"
   ]
  },
  {
   "cell_type": "code",
   "execution_count": null,
   "id": "5dfd0a7d-ada5-4261-9f40-c92e478c3862",
   "metadata": {},
   "outputs": [],
   "source": [
    "shiftapplicator = ClinicalShiftApplicator(\n",
    "    shift_type = \"time\"\n",
    "    \n",
    ") "
   ]
  },
  {
   "cell_type": "markdown",
   "id": "bibliographic-premium",
   "metadata": {},
   "source": [
    "## Build Model "
   ]
  },
  {
   "cell_type": "code",
   "execution_count": null,
   "id": "bab74da1-b9dd-4a32-bedd-2becbfd293a1",
   "metadata": {},
   "outputs": [],
   "source": [
    "experimenter = Experimenter(\n",
    "    detector = detector,\n",
    "    shiftapplicator = shiftapplicator,\n",
    ")"
   ]
  },
  {
   "cell_type": "code",
   "execution_count": null,
   "id": "9aa06e62-4efe-4d5b-a349-10ec768513d8",
   "metadata": {},
   "outputs": [],
   "source": [
    "shift_results = {}\n",
    "for si, shift in enumerate(shifts):\n",
    "    results = experimenter.detect_shift_samples(\n",
    "        X_val_final, \n",
    "        X_t_final_shifted,\n",
    "    )\n",
    "    shift_results.update({shift:results})\n",
    "\n",
    "## Plot"
   ]
  }
 ],
 "metadata": {
  "kernelspec": {
   "display_name": "cyclops-KKtuQLwg-py3.9",
   "language": "python",
   "name": "cyclops-kktuqlwg-py3.9"
  },
  "language_info": {
   "codemirror_mode": {
    "name": "ipython",
    "version": 3
   },
   "file_extension": ".py",
   "mimetype": "text/x-python",
   "name": "python",
   "nbconvert_exporter": "python",
   "pygments_lexer": "ipython3",
   "version": "3.9.7"
  }
 },
 "nbformat": 4,
 "nbformat_minor": 5
}
