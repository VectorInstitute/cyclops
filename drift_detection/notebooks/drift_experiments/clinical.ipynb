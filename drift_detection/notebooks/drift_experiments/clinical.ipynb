{
 "cells": [
  {
   "cell_type": "code",
   "execution_count": 1,
   "id": "6b553ccb-04dc-4516-a838-c3f3e3d4fc97",
   "metadata": {},
   "outputs": [
    {
     "name": "stderr",
     "output_type": "stream",
     "text": [
      "2022-08-04 19:25:03,907 \u001b[1;37mINFO\u001b[0m cyclops.orm     - Database setup, ready to run queries!\n"
     ]
    }
   ],
   "source": [
    "import sys\n",
    "import pandas as pd\n",
    "import numpy as np\n",
    "import os\n",
    "from functools import reduce\n",
    "import datetime\n",
    "import pickle\n",
    "import matplotlib.pyplot as plt\n",
    "from sklearn.metrics import (\n",
    "    auc,\n",
    "    accuracy_score,\n",
    "    confusion_matrix,\n",
    "    roc_auc_score,\n",
    "    roc_curve,\n",
    "    precision_recall_curve,\n",
    "    average_precision_score,\n",
    ")\n",
    "\n",
    "sys.path.append(\"../..\")\n",
    "\n",
    "from drift_detector.explainer import ShiftExplainer\n",
    "from drift_detector.experiments import *\n",
    "from utils.constants import *\n",
    "from utils.plot_utils import errorfill, plot_roc, plot_pr, linestyles, markers, colors, brightness, colorscale\n",
    "from utils.utils import *\n",
    "from baseline_models.static.utils import run_model"
   ]
  },
  {
   "cell_type": "markdown",
   "id": "renewable-mortgage",
   "metadata": {},
   "source": [
    "# Config Parameters #"
   ]
  },
  {
   "cell_type": "code",
   "execution_count": 2,
   "id": "hourly-insider",
   "metadata": {},
   "outputs": [],
   "source": [
    "PATH = \"/mnt/nfs/project/delirium/drift_exp/JULY-04-2022/\"\n",
    "DATASET = \"gemini\"\n",
    "SAMPLES = [10, 20, 50, 100, 200, 500]\n",
    "RANDOM_RUNS = 5\n",
    "SIGN_LEVEL = 0.05\n",
    "CALC_ACC = True\n",
    "TIMESTEPS = 6\n",
    "AGGREGATION_TYPE = \"time_flatten\"\n",
    "CONTEXT_TYPE=\"lstm\"\n",
    "REPRESENTATION=\"lstm\"\n",
    "SCALE=True\n",
    "HOSPITAL = [\"SMH\",\"MSH\",\"THPC\",\"THPM\",\"UHNTG\",\"UHNTW\",\"PMH\"]\n",
    "DR_TECHNIQUES = [\"NoRed\",\"SRP\", \"PCA\", \"kPCA\", \"Isomap\",\"BBSDs_untrained_FFNN\"]#[\"NoRed\",\"SRP\", \"PCA\", \"kPCA\", \"Isomap\",\"BBSDs_untrained_FFNN\",\"BBSDs_untrained_LSTM\", \"BBSDs_trained_LSTM\"]\n",
    "MD_TESTS = [\"Univariate\",\"MMD\", \"LK\", \"Spot-the-diff\"]"
   ]
  },
  {
   "cell_type": "code",
   "execution_count": 3,
   "id": "da1ce1ea-3423-4e89-8723-642c9c3f048f",
   "metadata": {},
   "outputs": [],
   "source": [
    "# [\"NoRed\"] --> [\"MMD\", \"LK\",\"Context-Aware MMD\", \"Spot-the-diff\"]\n",
    "# [\"SRP\", \"PCA\", \"kPCA\", \"IsoMap\", \"BBSDs_untrained_FFNN\", \"BBSDs_untrained_LSTM\", \"BBSDs_trained_LSTM\"] --> [\"MMD\", \"LK\" \"Classifier\" Spot-the-diff\"]"
   ]
  },
  {
   "cell_type": "markdown",
   "id": "ee047a8c-392e-46c5-8877-37aa9ca4fc15",
   "metadata": {},
   "source": [
    "# Query Data"
   ]
  },
  {
   "cell_type": "code",
   "execution_count": 4,
   "id": "7651e075-3673-44ec-9196-bf9bee056cfd",
   "metadata": {},
   "outputs": [
    {
     "name": "stderr",
     "output_type": "stream",
     "text": [
      "2022-08-04 19:25:04,089 \u001b[1;37mINFO\u001b[0m cyclops.utils.file - Loading dataframe to /mnt/nfs/project/delirium/drift_exp/JULY-04-2022/aggregated_events.parquet\n"
     ]
    },
    {
     "name": "stdout",
     "output_type": "stream",
     "text": [
      "Load data from aggregated events...\n"
     ]
    },
    {
     "name": "stderr",
     "output_type": "stream",
     "text": [
      "2022-08-04 19:25:04,514 \u001b[1;37mINFO\u001b[0m cyclops.utils.file - Loading dataframe to /mnt/nfs/project/delirium/drift_exp/JULY-04-2022/aggmeta_start_ts.parquet\n",
      "2022-08-04 19:25:04,673 \u001b[1;37mINFO\u001b[0m cyclops.feature_handler - Loading features from file...\n",
      "2022-08-04 19:25:04,675 \u001b[1;37mINFO\u001b[0m cyclops.feature_handler - Found file to load for static features...\n",
      "2022-08-04 19:25:04,678 \u001b[1;37mINFO\u001b[0m cyclops.feature_handler - Successfully loaded static features from file...\n",
      "2022-08-04 19:25:04,712 \u001b[1;37mINFO\u001b[0m cyclops.feature_handler - Found file to load for temporal features...\n"
     ]
    },
    {
     "name": "stdout",
     "output_type": "stream",
     "text": [
      "Load data from feature handler...\n"
     ]
    },
    {
     "name": "stderr",
     "output_type": "stream",
     "text": [
      "2022-08-04 19:25:09,658 \u001b[1;37mINFO\u001b[0m cyclops.feature_handler - Successfully loaded temporal features from file...\n"
     ]
    },
    {
     "name": "stdout",
     "output_type": "stream",
     "text": [
      "Load data from admin data...\n"
     ]
    },
    {
     "name": "stderr",
     "output_type": "stream",
     "text": [
      "2022-08-04 19:25:18,039 \u001b[1;37mINFO\u001b[0m cyclops.utils.file - Loading dataframe to /mnt/nfs/project/delirium/drift_exp/JULY-04-2022/aggmeta_end_ts.parquet\n"
     ]
    }
   ],
   "source": [
    "admin_data, x, y = get_gemini_data(PATH)"
   ]
  },
  {
   "cell_type": "markdown",
   "id": "typical-angola",
   "metadata": {},
   "source": [
    "# Input Parameters #"
   ]
  },
  {
   "cell_type": "code",
   "execution_count": 5,
   "id": "308b97d6-7ec6-4825-aad0-59370c7bf44b",
   "metadata": {},
   "outputs": [
    {
     "name": "stdin",
     "output_type": "stream",
     "text": [
      "Select experiment:  seasonal_summer\n",
      "Select outcome variable:  mortality\n"
     ]
    }
   ],
   "source": [
    "SHIFT = input(\"Select experiment: \")  # covid,seasonal,hosp_type\n",
    "OUTCOME = input(\"Select outcome variable: \") # mortality\n",
    "\n",
    "if SHIFT == \"covid\":\n",
    "    EXPERIMENTS = [\"pre-covid\", \"covid\"]\n",
    "    HOSPITAL= [\"SMH\",\"MSH\",\"UHNTG\",\"UHNTW\",\"PMH\",\"THPC\",\"THPM\"]\n",
    "    MODEL_PATH=\"../../saved_models/covid_lstm.pt\"\n",
    "\n",
    "if SHIFT == \"seasonal_summer\":\n",
    "    EXPERIMENTS = [\"seasonal_summer_baseline\",\"seasonal_summer\"] \n",
    "    MODEL_PATH=\"../../saved_models/seasonal_summer_lstm.pt\"\n",
    "\n",
    "if SHIFT == \"seasonal_winter\":\n",
    "    EXPERIMENTS = [\"seasonal_winter_baseline\",\"seasonal_winter\"] \n",
    "    MODEL_PATH=\"../../saved_models/seasonal_winter_lstm.pt\"\n",
    "    \n",
    "if SHIFT == \"hosp_type_academic\":\n",
    "    EXPERIMENTS = [\"hosp_type_academic_baseline\",\"hosp_type_academic\"]\n",
    "    MODEL_PATH=\"../../saved_models/hosp_type_academic_lstm.pt\"\n",
    "\n",
    "if SHIFT == \"hosp_type_community\":\n",
    "    EXPERIMENTS = [\"hosp_type_community_baseline\",\"hosp_type_community\"]\n",
    "    MODEL_PATH=\"../../saved_models/hosp_type_community_lstm.pt\"\n",
    "\n",
    "MODEL_PATH = os.path.join(os.getcwd(),MODEL_PATH)\n",
    "HOSPITAL = [\"SMH\",\"MSH\",\"THPC\",\"THPM\",\"UHNTG\",\"UHNTW\",\"PMH\"]"
   ]
  },
  {
   "cell_type": "markdown",
   "id": "tropical-switch",
   "metadata": {},
   "source": [
    "# Drift Tests #"
   ]
  },
  {
   "cell_type": "code",
   "execution_count": 6,
   "id": "bc520427-794a-41dc-88f7-baaa7319aac3",
   "metadata": {},
   "outputs": [],
   "source": [
    "DRIFT_PATH = PATH + '_'.join(['time_flatten','ffnn','rf',SHIFT, '_'.join(HOSPITAL),''])"
   ]
  },
  {
   "cell_type": "code",
   "execution_count": 7,
   "id": "885f6fb3-8027-40bd-b2f4-edeeeb429c2e",
   "metadata": {},
   "outputs": [
    {
     "data": {
      "text/plain": [
       "'/mnt/nfs/project/delirium/drift_exp/JULY-04-2022/time_flatten_ffnn_rf_seasonal_summer_SMH_MSH_THPC_THPM_UHNTG_UHNTW_PMH_'"
      ]
     },
     "execution_count": 7,
     "metadata": {},
     "output_type": "execute_result"
    }
   ],
   "source": [
    "DRIFT_PATH"
   ]
  },
  {
   "cell_type": "code",
   "execution_count": 10,
   "id": "573e9452-151e-4386-9c74-b7d91971aac0",
   "metadata": {},
   "outputs": [
    {
     "name": "stderr",
     "output_type": "stream",
     "text": [
      "2022-08-04 21:30:04,862 \u001b[1;37mINFO\u001b[0m cyclops.feature_handler - Loading features from file...\n",
      "2022-08-04 21:30:04,866 \u001b[1;37mINFO\u001b[0m cyclops.feature_handler - Found file to load for static features...\n",
      "2022-08-04 21:30:04,867 \u001b[1;37mINFO\u001b[0m cyclops.feature_handler - Successfully loaded static features from file...\n",
      "2022-08-04 21:30:04,903 \u001b[1;37mINFO\u001b[0m cyclops.feature_handler - Found file to load for temporal features...\n"
     ]
    },
    {
     "name": "stdout",
     "output_type": "stream",
     "text": [
      "seasonal_summer_baseline | ['SMH', 'MSH', 'THPC', 'THPM', 'UHNTG', 'UHNTW', 'PMH'] | kPCA | MMD\n"
     ]
    },
    {
     "name": "stderr",
     "output_type": "stream",
     "text": [
      "2022-08-04 21:30:09,791 \u001b[1;37mINFO\u001b[0m cyclops.feature_handler - Successfully loaded temporal features from file...\n"
     ]
    },
    {
     "name": "stdout",
     "output_type": "stream",
     "text": [
      "Shift seasonal_summer_baseline | Random Run 0 | Sample 10 | P-Value 0.1599999964237213\n",
      "Shift seasonal_summer_baseline | Random Run 0 | Sample 20 | P-Value 0.20999999344348907\n",
      "Shift seasonal_summer_baseline | Random Run 0 | Sample 50 | P-Value 0.1899999976158142\n",
      "Shift seasonal_summer_baseline | Random Run 0 | Sample 100 | P-Value 0.0\n",
      "Shift seasonal_summer_baseline | Random Run 0 | Sample 200 | P-Value 0.0\n",
      "Shift seasonal_summer_baseline | Random Run 0 | Sample 500 | P-Value 0.0\n",
      "Shift seasonal_summer_baseline | Random Run 1 | Sample 10 | P-Value 0.019999999552965164\n",
      "Shift seasonal_summer_baseline | Random Run 1 | Sample 20 | P-Value 0.8799999952316284\n",
      "Shift seasonal_summer_baseline | Random Run 1 | Sample 50 | P-Value 0.5199999809265137\n",
      "Shift seasonal_summer_baseline | Random Run 1 | Sample 100 | P-Value 0.009999999776482582\n",
      "Shift seasonal_summer_baseline | Random Run 1 | Sample 200 | P-Value 0.0\n",
      "Shift seasonal_summer_baseline | Random Run 1 | Sample 500 | P-Value 0.0\n",
      "Shift seasonal_summer_baseline | Random Run 2 | Sample 10 | P-Value 0.46000000834465027\n",
      "Shift seasonal_summer_baseline | Random Run 2 | Sample 20 | P-Value 0.28999999165534973\n",
      "Shift seasonal_summer_baseline | Random Run 2 | Sample 50 | P-Value 0.27000001072883606\n",
      "Shift seasonal_summer_baseline | Random Run 2 | Sample 100 | P-Value 0.0\n",
      "Shift seasonal_summer_baseline | Random Run 2 | Sample 200 | P-Value 0.0\n",
      "Shift seasonal_summer_baseline | Random Run 2 | Sample 500 | P-Value 0.0\n",
      "Shift seasonal_summer_baseline | Random Run 3 | Sample 10 | P-Value 0.8799999952316284\n",
      "Shift seasonal_summer_baseline | Random Run 3 | Sample 20 | P-Value 0.699999988079071\n",
      "Shift seasonal_summer_baseline | Random Run 3 | Sample 50 | P-Value 0.550000011920929\n",
      "Shift seasonal_summer_baseline | Random Run 3 | Sample 100 | P-Value 0.1899999976158142\n",
      "Shift seasonal_summer_baseline | Random Run 3 | Sample 200 | P-Value 0.0\n",
      "Shift seasonal_summer_baseline | Random Run 3 | Sample 500 | P-Value 0.0\n",
      "Shift seasonal_summer_baseline | Random Run 4 | Sample 10 | P-Value 0.09000000357627869\n",
      "Shift seasonal_summer_baseline | Random Run 4 | Sample 20 | P-Value 0.05999999865889549\n",
      "Shift seasonal_summer_baseline | Random Run 4 | Sample 50 | P-Value 0.18000000715255737\n",
      "Shift seasonal_summer_baseline | Random Run 4 | Sample 100 | P-Value 0.009999999776482582\n",
      "Shift seasonal_summer_baseline | Random Run 4 | Sample 200 | P-Value 0.0\n"
     ]
    },
    {
     "name": "stderr",
     "output_type": "stream",
     "text": [
      "2022-08-04 21:31:46,850 \u001b[1;37mINFO\u001b[0m cyclops.feature_handler - Loading features from file...\n",
      "2022-08-04 21:31:46,852 \u001b[1;37mINFO\u001b[0m cyclops.feature_handler - Found file to load for static features...\n",
      "2022-08-04 21:31:46,853 \u001b[1;37mINFO\u001b[0m cyclops.feature_handler - Successfully loaded static features from file...\n",
      "2022-08-04 21:31:46,884 \u001b[1;37mINFO\u001b[0m cyclops.feature_handler - Found file to load for temporal features...\n"
     ]
    },
    {
     "name": "stdout",
     "output_type": "stream",
     "text": [
      "Shift seasonal_summer_baseline | Random Run 4 | Sample 500 | P-Value 0.0\n",
      "seasonal_summer_baseline | ['SMH', 'MSH', 'THPC', 'THPM', 'UHNTG', 'UHNTW', 'PMH'] | kPCA | LK\n"
     ]
    },
    {
     "name": "stderr",
     "output_type": "stream",
     "text": [
      "2022-08-04 21:31:51,738 \u001b[1;37mINFO\u001b[0m cyclops.feature_handler - Successfully loaded temporal features from file...\n"
     ]
    },
    {
     "name": "stdout",
     "output_type": "stream",
     "text": [
      "Shift seasonal_summer_baseline | Random Run 0 | Sample 10 | P-Value 0.46000000834465027\n",
      "Shift seasonal_summer_baseline | Random Run 0 | Sample 20 | P-Value 0.9599999785423279\n",
      "Shift seasonal_summer_baseline | Random Run 0 | Sample 50 | P-Value 0.5899999737739563\n",
      "Shift seasonal_summer_baseline | Random Run 0 | Sample 100 | P-Value 0.019999999552965164\n",
      "Shift seasonal_summer_baseline | Random Run 0 | Sample 200 | P-Value 0.05000000074505806\n",
      "Shift seasonal_summer_baseline | Random Run 0 | Sample 500 | P-Value 0.44999998807907104\n",
      "Shift seasonal_summer_baseline | Random Run 1 | Sample 10 | P-Value 0.17000000178813934\n",
      "Shift seasonal_summer_baseline | Random Run 1 | Sample 20 | P-Value 0.6299999952316284\n",
      "Shift seasonal_summer_baseline | Random Run 1 | Sample 50 | P-Value 0.4300000071525574\n",
      "Shift seasonal_summer_baseline | Random Run 1 | Sample 100 | P-Value 0.03999999910593033\n",
      "Shift seasonal_summer_baseline | Random Run 1 | Sample 200 | P-Value 0.5\n",
      "Shift seasonal_summer_baseline | Random Run 1 | Sample 500 | P-Value 0.9399999976158142\n",
      "Shift seasonal_summer_baseline | Random Run 2 | Sample 10 | P-Value 0.9100000262260437\n",
      "Shift seasonal_summer_baseline | Random Run 2 | Sample 20 | P-Value 0.6100000143051147\n",
      "Shift seasonal_summer_baseline | Random Run 2 | Sample 50 | P-Value 0.029999999329447746\n",
      "Shift seasonal_summer_baseline | Random Run 2 | Sample 100 | P-Value 0.07999999821186066\n",
      "Shift seasonal_summer_baseline | Random Run 2 | Sample 200 | P-Value 0.5400000214576721\n",
      "Shift seasonal_summer_baseline | Random Run 2 | Sample 500 | P-Value 0.03999999910593033\n",
      "Shift seasonal_summer_baseline | Random Run 3 | Sample 10 | P-Value 0.30000001192092896\n",
      "Shift seasonal_summer_baseline | Random Run 3 | Sample 20 | P-Value 0.7799999713897705\n",
      "Shift seasonal_summer_baseline | Random Run 3 | Sample 50 | P-Value 0.14000000059604645\n",
      "Shift seasonal_summer_baseline | Random Run 3 | Sample 100 | P-Value 0.20000000298023224\n",
      "Shift seasonal_summer_baseline | Random Run 3 | Sample 200 | P-Value 0.15000000596046448\n",
      "Shift seasonal_summer_baseline | Random Run 3 | Sample 500 | P-Value 0.949999988079071\n",
      "Shift seasonal_summer_baseline | Random Run 4 | Sample 10 | P-Value 0.75\n",
      "Shift seasonal_summer_baseline | Random Run 4 | Sample 20 | P-Value 0.009999999776482582\n",
      "Shift seasonal_summer_baseline | Random Run 4 | Sample 50 | P-Value 0.3499999940395355\n",
      "Shift seasonal_summer_baseline | Random Run 4 | Sample 100 | P-Value 0.03999999910593033\n",
      "Shift seasonal_summer_baseline | Random Run 4 | Sample 200 | P-Value 0.12999999523162842\n"
     ]
    },
    {
     "name": "stderr",
     "output_type": "stream",
     "text": [
      "2022-08-04 21:35:47,404 \u001b[1;37mINFO\u001b[0m cyclops.feature_handler - Loading features from file...\n",
      "2022-08-04 21:35:47,407 \u001b[1;37mINFO\u001b[0m cyclops.feature_handler - Found file to load for static features...\n",
      "2022-08-04 21:35:47,408 \u001b[1;37mINFO\u001b[0m cyclops.feature_handler - Successfully loaded static features from file...\n",
      "2022-08-04 21:35:47,445 \u001b[1;37mINFO\u001b[0m cyclops.feature_handler - Found file to load for temporal features...\n"
     ]
    },
    {
     "name": "stdout",
     "output_type": "stream",
     "text": [
      "Shift seasonal_summer_baseline | Random Run 4 | Sample 500 | P-Value 0.0\n",
      "seasonal_summer_baseline | ['SMH', 'MSH', 'THPC', 'THPM', 'UHNTG', 'UHNTW', 'PMH'] | kPCA | Spot-the-diff\n"
     ]
    },
    {
     "name": "stderr",
     "output_type": "stream",
     "text": [
      "2022-08-04 21:35:52,299 \u001b[1;37mINFO\u001b[0m cyclops.feature_handler - Successfully loaded temporal features from file...\n"
     ]
    },
    {
     "name": "stdout",
     "output_type": "stream",
     "text": [
      "Shift seasonal_summer_baseline | Random Run 0 | Sample 10 | P-Value 1.0\n",
      "Shift seasonal_summer_baseline | Random Run 0 | Sample 20 | P-Value 0.5285714285714286\n",
      "Shift seasonal_summer_baseline | Random Run 0 | Sample 50 | P-Value 0.2084372055458339\n",
      "Shift seasonal_summer_baseline | Random Run 0 | Sample 100 | P-Value 0.06514979774124259\n",
      "Shift seasonal_summer_baseline | Random Run 0 | Sample 200 | P-Value 0.08340073651381849\n",
      "Shift seasonal_summer_baseline | Random Run 0 | Sample 500 | P-Value 1.9403695650987716e-09\n",
      "Shift seasonal_summer_baseline | Random Run 1 | Sample 10 | P-Value 0.5\n",
      "Shift seasonal_summer_baseline | Random Run 1 | Sample 20 | P-Value 0.4222222222222222\n",
      "Shift seasonal_summer_baseline | Random Run 1 | Sample 50 | P-Value 0.45466123749270876\n",
      "Shift seasonal_summer_baseline | Random Run 1 | Sample 100 | P-Value 0.24053316600591346\n",
      "Shift seasonal_summer_baseline | Random Run 1 | Sample 200 | P-Value 0.005755869666883342\n"
     ]
    },
    {
     "ename": "KeyboardInterrupt",
     "evalue": "",
     "output_type": "error",
     "traceback": [
      "\u001b[0;31m---------------------------------------------------------------------------\u001b[0m",
      "\u001b[0;31mKeyboardInterrupt\u001b[0m                         Traceback (most recent call last)",
      "Input \u001b[0;32mIn [10]\u001b[0m, in \u001b[0;36m<cell line: 30>\u001b[0;34m()\u001b[0m\n\u001b[1;32m     48\u001b[0m     REPRESENTATION\u001b[38;5;241m=\u001b[39m\u001b[38;5;124m\"\u001b[39m\u001b[38;5;124mlstm\u001b[39m\u001b[38;5;124m\"\u001b[39m\n\u001b[1;32m     50\u001b[0m \u001b[38;5;28;01mif\u001b[39;00m \u001b[38;5;28;01mTrue\u001b[39;00m:\n\u001b[0;32m---> 51\u001b[0m     mean_p_vals, std_p_vals, mean_dist, std_dist \u001b[38;5;241m=\u001b[39m \u001b[43mrun_shift_experiment\u001b[49m\u001b[43m(\u001b[49m\n\u001b[1;32m     52\u001b[0m \u001b[43m            \u001b[49m\u001b[43mshift\u001b[49m\u001b[38;5;241;43m=\u001b[39;49m\u001b[43mSHIFT\u001b[49m\u001b[43m,\u001b[49m\n\u001b[1;32m     53\u001b[0m \u001b[43m            \u001b[49m\u001b[43madmin_data\u001b[49m\u001b[38;5;241;43m=\u001b[39;49m\u001b[43madmin_data\u001b[49m\u001b[43m,\u001b[49m\n\u001b[1;32m     54\u001b[0m \u001b[43m            \u001b[49m\u001b[43mx\u001b[49m\u001b[38;5;241;43m=\u001b[39;49m\u001b[43mx\u001b[49m\u001b[43m,\u001b[49m\u001b[43m \u001b[49m\n\u001b[1;32m     55\u001b[0m \u001b[43m            \u001b[49m\u001b[43my\u001b[49m\u001b[38;5;241;43m=\u001b[39;49m\u001b[43my\u001b[49m\u001b[43m,\u001b[49m\n\u001b[1;32m     56\u001b[0m \u001b[43m            \u001b[49m\u001b[43moutcome\u001b[49m\u001b[38;5;241;43m=\u001b[39;49m\u001b[43mOUTCOME\u001b[49m\u001b[43m,\u001b[49m\n\u001b[1;32m     57\u001b[0m \u001b[43m            \u001b[49m\u001b[43mhospital\u001b[49m\u001b[38;5;241;43m=\u001b[39;49m\u001b[43mHOSPITAL\u001b[49m\u001b[43m,\u001b[49m\n\u001b[1;32m     58\u001b[0m \u001b[43m            \u001b[49m\u001b[43mpath\u001b[49m\u001b[38;5;241;43m=\u001b[39;49m\u001b[43mPATH\u001b[49m\u001b[43m,\u001b[49m\n\u001b[1;32m     59\u001b[0m \u001b[43m            \u001b[49m\u001b[43maggregation_type\u001b[49m\u001b[38;5;241;43m=\u001b[39;49m\u001b[43mAGGREGATION_TYPE\u001b[49m\u001b[43m,\u001b[49m\n\u001b[1;32m     60\u001b[0m \u001b[43m            \u001b[49m\u001b[43mscale\u001b[49m\u001b[38;5;241;43m=\u001b[39;49m\u001b[43mSCALE\u001b[49m\u001b[43m,\u001b[49m\n\u001b[1;32m     61\u001b[0m \u001b[43m            \u001b[49m\u001b[43mdr_technique\u001b[49m\u001b[38;5;241;43m=\u001b[39;49m\u001b[43mDR_TECHNIQUE\u001b[49m\u001b[43m,\u001b[49m\n\u001b[1;32m     62\u001b[0m \u001b[43m            \u001b[49m\u001b[43mmodel_path\u001b[49m\u001b[38;5;241;43m=\u001b[39;49m\u001b[43mMODEL_PATH\u001b[49m\u001b[43m,\u001b[49m\n\u001b[1;32m     63\u001b[0m \u001b[43m            \u001b[49m\u001b[43mmd_test\u001b[49m\u001b[38;5;241;43m=\u001b[39;49m\u001b[43mMD_TEST\u001b[49m\u001b[43m,\u001b[49m\n\u001b[1;32m     64\u001b[0m \u001b[43m            \u001b[49m\u001b[43mcontext_type\u001b[49m\u001b[38;5;241;43m=\u001b[39;49m\u001b[43mCONTEXT_TYPE\u001b[49m\u001b[43m,\u001b[49m\n\u001b[1;32m     65\u001b[0m \u001b[43m            \u001b[49m\u001b[43mrepresentation\u001b[49m\u001b[38;5;241;43m=\u001b[39;49m\u001b[43mREPRESENTATION\u001b[49m\u001b[43m,\u001b[49m\n\u001b[1;32m     66\u001b[0m \u001b[43m            \u001b[49m\u001b[43msamples\u001b[49m\u001b[38;5;241;43m=\u001b[39;49m\u001b[43mSAMPLES\u001b[49m\u001b[43m,\u001b[49m\n\u001b[1;32m     67\u001b[0m \u001b[43m            \u001b[49m\u001b[43mdataset\u001b[49m\u001b[38;5;241;43m=\u001b[39;49m\u001b[43mDATASET\u001b[49m\u001b[43m,\u001b[49m\n\u001b[1;32m     68\u001b[0m \u001b[43m            \u001b[49m\u001b[43msign_level\u001b[49m\u001b[38;5;241;43m=\u001b[39;49m\u001b[43mSIGN_LEVEL\u001b[49m\u001b[43m,\u001b[49m\n\u001b[1;32m     69\u001b[0m \u001b[43m            \u001b[49m\u001b[43mtimesteps\u001b[49m\u001b[38;5;241;43m=\u001b[39;49m\u001b[43mTIMESTEPS\u001b[49m\u001b[43m,\u001b[49m\n\u001b[1;32m     70\u001b[0m \u001b[43m            \u001b[49m\u001b[43mrandom_runs\u001b[49m\u001b[38;5;241;43m=\u001b[39;49m\u001b[43mRANDOM_RUNS\u001b[49m\u001b[43m,\u001b[49m\n\u001b[1;32m     71\u001b[0m \u001b[43m            \u001b[49m\u001b[43mcalc_acc\u001b[49m\u001b[38;5;241;43m=\u001b[39;49m\u001b[43mCALC_ACC\u001b[49m\n\u001b[1;32m     72\u001b[0m \u001b[43m    \u001b[49m\u001b[43m)\u001b[49m\n\u001b[1;32m     74\u001b[0m     mean_dr_md_pval[si, di, mi, :] \u001b[38;5;241m=\u001b[39m mean_p_vals\n\u001b[1;32m     75\u001b[0m     std_dr_md_pval[si, di, mi, :] \u001b[38;5;241m=\u001b[39m std_p_vals\n",
      "File \u001b[0;32m~/cyclops/drift_detection/notebooks/drift_experiments/../../utils/utils.py:614\u001b[0m, in \u001b[0;36mrun_shift_experiment\u001b[0;34m(shift, admin_data, x, y, outcome, hospital, path, aggregation_type, scale, dr_technique, model_path, md_test, context_type, representation, samples, dataset, sign_level, timesteps, random_runs, calc_acc)\u001b[0m\n\u001b[1;32m    604\u001b[0m shift_detector \u001b[38;5;241m=\u001b[39m ShiftDetector(\n\u001b[1;32m    605\u001b[0m     dr_technique, md_test, sign_level, shift_reductor, sample, dataset, feats, model_path, context_type, representation,\n\u001b[1;32m    606\u001b[0m )\n\u001b[1;32m    608\u001b[0m \u001b[38;5;28;01mtry\u001b[39;00m:\n\u001b[1;32m    609\u001b[0m     (\n\u001b[1;32m    610\u001b[0m         p_val,\n\u001b[1;32m    611\u001b[0m         dist,\n\u001b[1;32m    612\u001b[0m         val_acc,\n\u001b[1;32m    613\u001b[0m         te_acc,\n\u001b[0;32m--> 614\u001b[0m     ) \u001b[38;5;241m=\u001b[39m \u001b[43mshift_detector\u001b[49m\u001b[38;5;241;43m.\u001b[39;49m\u001b[43mdetect_data_shift\u001b[49m\u001b[43m(\u001b[49m\n\u001b[1;32m    615\u001b[0m \u001b[43m        \u001b[49m\u001b[43mX_tr_final\u001b[49m\u001b[43m,\u001b[49m\u001b[43m \u001b[49m\u001b[43mX_val_final\u001b[49m\u001b[43m[\u001b[49m\u001b[43m:\u001b[49m\u001b[38;5;241;43m1000\u001b[39;49m\u001b[43m,\u001b[49m\u001b[43m:\u001b[49m\u001b[43m]\u001b[49m\u001b[43m,\u001b[49m\u001b[43m \u001b[49m\u001b[43mX_t_final\u001b[49m\u001b[43m[\u001b[49m\u001b[43m:\u001b[49m\u001b[43msample\u001b[49m\u001b[43m,\u001b[49m\u001b[43m:\u001b[49m\u001b[43m]\u001b[49m\n\u001b[1;32m    616\u001b[0m \u001b[43m    \u001b[49m\u001b[43m)\u001b[49m\n\u001b[1;32m    618\u001b[0m     \u001b[38;5;28mprint\u001b[39m(\u001b[38;5;124m\"\u001b[39m\u001b[38;5;124mShift \u001b[39m\u001b[38;5;132;01m%s\u001b[39;00m\u001b[38;5;124m | Random Run \u001b[39m\u001b[38;5;132;01m%s\u001b[39;00m\u001b[38;5;124m | Sample \u001b[39m\u001b[38;5;132;01m%s\u001b[39;00m\u001b[38;5;124m | P-Value \u001b[39m\u001b[38;5;132;01m%s\u001b[39;00m\u001b[38;5;124m\"\u001b[39m \u001b[38;5;241m%\u001b[39m (shift, rand_run, sample, p_val))\n\u001b[1;32m    620\u001b[0m     val_accs[rand_run, si] \u001b[38;5;241m=\u001b[39m val_acc\n",
      "File \u001b[0;32m~/cyclops/drift_detection/notebooks/drift_experiments/../../drift_detector/detector.py:61\u001b[0m, in \u001b[0;36mShiftDetector.detect_data_shift\u001b[0;34m(self, X_s_tr, X_s_val, X_t)\u001b[0m\n\u001b[1;32m     54\u001b[0m \u001b[38;5;66;03m# Perform statistical test\u001b[39;00m\n\u001b[1;32m     55\u001b[0m shift_tester \u001b[38;5;241m=\u001b[39m ShiftTester(sign_level\u001b[38;5;241m=\u001b[39m\u001b[38;5;28mself\u001b[39m\u001b[38;5;241m.\u001b[39msign_level, \n\u001b[1;32m     56\u001b[0m                            mt\u001b[38;5;241m=\u001b[39m\u001b[38;5;28mself\u001b[39m\u001b[38;5;241m.\u001b[39mmd_test, \n\u001b[1;32m     57\u001b[0m                            model_path\u001b[38;5;241m=\u001b[39m\u001b[38;5;28mself\u001b[39m\u001b[38;5;241m.\u001b[39mmodel_path, \n\u001b[1;32m     58\u001b[0m                            features\u001b[38;5;241m=\u001b[39m\u001b[38;5;28mself\u001b[39m\u001b[38;5;241m.\u001b[39mfeatures, \n\u001b[1;32m     59\u001b[0m                            dataset\u001b[38;5;241m=\u001b[39m\u001b[38;5;28mself\u001b[39m\u001b[38;5;241m.\u001b[39mdataset)\n\u001b[0;32m---> 61\u001b[0m p_val, dist \u001b[38;5;241m=\u001b[39m \u001b[43mshift_tester\u001b[49m\u001b[38;5;241;43m.\u001b[39;49m\u001b[43mtest_shift\u001b[49m\u001b[43m(\u001b[49m\u001b[43mX_s_red\u001b[49m\u001b[43m[\u001b[49m\u001b[43m:\u001b[49m\u001b[43m \u001b[49m\u001b[38;5;28;43mself\u001b[39;49m\u001b[38;5;241;43m.\u001b[39;49m\u001b[43msample\u001b[49m\u001b[43m]\u001b[49m\u001b[43m,\u001b[49m\u001b[43m \u001b[49m\u001b[43mX_t_red\u001b[49m\u001b[43m,\u001b[49m\u001b[43m \u001b[49m\u001b[38;5;28;43mself\u001b[39;49m\u001b[38;5;241;43m.\u001b[39;49m\u001b[43mcontext_type\u001b[49m\u001b[43m,\u001b[49m\u001b[43m \u001b[49m\u001b[38;5;28;43mself\u001b[39;49m\u001b[38;5;241;43m.\u001b[39;49m\u001b[43mrepresentation\u001b[49m\u001b[43m)\u001b[49m\n\u001b[1;32m     63\u001b[0m \u001b[38;5;28;01mif\u001b[39;00m \u001b[38;5;28mself\u001b[39m\u001b[38;5;241m.\u001b[39mdr_technique \u001b[38;5;241m!=\u001b[39m \u001b[38;5;124m\"\u001b[39m\u001b[38;5;124mBBSDh\u001b[39m\u001b[38;5;124m\"\u001b[39m:\n\u001b[1;32m     64\u001b[0m     \u001b[38;5;66;03m# Lower the significance level for all tests (Bonferroni) besides BBSDh, which needs no correction.\u001b[39;00m\n\u001b[1;32m     65\u001b[0m     adjust_sign_level \u001b[38;5;241m=\u001b[39m \u001b[38;5;28mself\u001b[39m\u001b[38;5;241m.\u001b[39msign_level \u001b[38;5;241m/\u001b[39m X_s_red\u001b[38;5;241m.\u001b[39mshape[\u001b[38;5;241m1\u001b[39m]\n",
      "File \u001b[0;32m~/cyclops/drift_detection/notebooks/drift_experiments/../../drift_detector/tester.py:232\u001b[0m, in \u001b[0;36mShiftTester.test_shift\u001b[0;34m(self, X_s, X_t, context_type, representation, backend)\u001b[0m\n\u001b[1;32m    222\u001b[0m \u001b[38;5;28;01melif\u001b[39;00m \u001b[38;5;28mself\u001b[39m\u001b[38;5;241m.\u001b[39mmt \u001b[38;5;241m==\u001b[39m \u001b[38;5;124m\"\u001b[39m\u001b[38;5;124mSpot-the-diff\u001b[39m\u001b[38;5;124m\"\u001b[39m:\n\u001b[1;32m    223\u001b[0m     dd \u001b[38;5;241m=\u001b[39m SpotTheDiffDrift(\n\u001b[1;32m    224\u001b[0m         X_s,\n\u001b[1;32m    225\u001b[0m         backend\u001b[38;5;241m=\u001b[39mbackend,\n\u001b[0;32m   (...)\u001b[0m\n\u001b[1;32m    230\u001b[0m         batch_size\u001b[38;5;241m=\u001b[39m\u001b[38;5;241m1\u001b[39m,\n\u001b[1;32m    231\u001b[0m     )\n\u001b[0;32m--> 232\u001b[0m     preds \u001b[38;5;241m=\u001b[39m \u001b[43mdd\u001b[49m\u001b[38;5;241;43m.\u001b[39;49m\u001b[43mpredict\u001b[49m\u001b[43m(\u001b[49m\u001b[43mX_t\u001b[49m\u001b[43m,\u001b[49m\u001b[43m \u001b[49m\u001b[43mreturn_p_val\u001b[49m\u001b[38;5;241;43m=\u001b[39;49m\u001b[38;5;28;43;01mTrue\u001b[39;49;00m\u001b[43m,\u001b[49m\u001b[43m \u001b[49m\u001b[43mreturn_distance\u001b[49m\u001b[38;5;241;43m=\u001b[39;49m\u001b[38;5;28;43;01mTrue\u001b[39;49;00m\u001b[43m)\u001b[49m\n\u001b[1;32m    233\u001b[0m     p_val \u001b[38;5;241m=\u001b[39m preds[\u001b[38;5;124m\"\u001b[39m\u001b[38;5;124mdata\u001b[39m\u001b[38;5;124m\"\u001b[39m][\u001b[38;5;124m\"\u001b[39m\u001b[38;5;124mp_val\u001b[39m\u001b[38;5;124m\"\u001b[39m]\n\u001b[1;32m    234\u001b[0m     dist \u001b[38;5;241m=\u001b[39m preds[\u001b[38;5;124m\"\u001b[39m\u001b[38;5;124mdata\u001b[39m\u001b[38;5;124m\"\u001b[39m][\u001b[38;5;124m\"\u001b[39m\u001b[38;5;124mdistance\u001b[39m\u001b[38;5;124m\"\u001b[39m]\n",
      "File \u001b[0;32m~/.cache/pypoetry/virtualenvs/cyclops-KKtuQLwg-py3.9/lib/python3.9/site-packages/alibi_detect/cd/spot_the_diff.py:175\u001b[0m, in \u001b[0;36mSpotTheDiffDrift.predict\u001b[0;34m(self, x, return_p_val, return_distance, return_probs, return_model)\u001b[0m\n\u001b[1;32m    144\u001b[0m \u001b[38;5;28;01mdef\u001b[39;00m \u001b[38;5;21mpredict\u001b[39m(\n\u001b[1;32m    145\u001b[0m     \u001b[38;5;28mself\u001b[39m, x: np\u001b[38;5;241m.\u001b[39mndarray,  return_p_val: \u001b[38;5;28mbool\u001b[39m \u001b[38;5;241m=\u001b[39m \u001b[38;5;28;01mTrue\u001b[39;00m, return_distance: \u001b[38;5;28mbool\u001b[39m \u001b[38;5;241m=\u001b[39m \u001b[38;5;28;01mTrue\u001b[39;00m,\n\u001b[1;32m    146\u001b[0m     return_probs: \u001b[38;5;28mbool\u001b[39m \u001b[38;5;241m=\u001b[39m \u001b[38;5;28;01mTrue\u001b[39;00m, return_model: \u001b[38;5;28mbool\u001b[39m \u001b[38;5;241m=\u001b[39m \u001b[38;5;28;01mTrue\u001b[39;00m\n\u001b[1;32m    147\u001b[0m ) \u001b[38;5;241m-\u001b[39m\u001b[38;5;241m>\u001b[39m Dict[\u001b[38;5;28mstr\u001b[39m, Dict[\u001b[38;5;28mstr\u001b[39m, Union[\u001b[38;5;28mint\u001b[39m, \u001b[38;5;28mstr\u001b[39m, \u001b[38;5;28mfloat\u001b[39m, Callable]]]:\n\u001b[1;32m    148\u001b[0m     \u001b[38;5;124;03m\"\"\"\u001b[39;00m\n\u001b[1;32m    149\u001b[0m \u001b[38;5;124;03m    Predict whether a batch of data has drifted from the reference data.\u001b[39;00m\n\u001b[1;32m    150\u001b[0m \n\u001b[0;32m   (...)\u001b[0m\n\u001b[1;32m    173\u001b[0m \u001b[38;5;124;03m    data, and the trained model.\u001b[39;00m\n\u001b[1;32m    174\u001b[0m \u001b[38;5;124;03m    \"\"\"\u001b[39;00m\n\u001b[0;32m--> 175\u001b[0m     \u001b[38;5;28;01mreturn\u001b[39;00m \u001b[38;5;28;43mself\u001b[39;49m\u001b[38;5;241;43m.\u001b[39;49m\u001b[43m_detector\u001b[49m\u001b[38;5;241;43m.\u001b[39;49m\u001b[43mpredict\u001b[49m\u001b[43m(\u001b[49m\u001b[43mx\u001b[49m\u001b[43m,\u001b[49m\u001b[43m \u001b[49m\u001b[43mreturn_p_val\u001b[49m\u001b[43m,\u001b[49m\u001b[43m \u001b[49m\u001b[43mreturn_distance\u001b[49m\u001b[43m,\u001b[49m\u001b[43m \u001b[49m\u001b[43mreturn_probs\u001b[49m\u001b[43m,\u001b[49m\u001b[43m \u001b[49m\u001b[43mreturn_model\u001b[49m\u001b[43m)\u001b[49m\n",
      "File \u001b[0;32m~/.cache/pypoetry/virtualenvs/cyclops-KKtuQLwg-py3.9/lib/python3.9/site-packages/alibi_detect/cd/pytorch/spot_the_diff.py:214\u001b[0m, in \u001b[0;36mSpotTheDiffDriftTorch.predict\u001b[0;34m(self, x, return_p_val, return_distance, return_probs, return_model)\u001b[0m\n\u001b[1;32m    183\u001b[0m \u001b[38;5;28;01mdef\u001b[39;00m \u001b[38;5;21mpredict\u001b[39m(\n\u001b[1;32m    184\u001b[0m     \u001b[38;5;28mself\u001b[39m, x: np\u001b[38;5;241m.\u001b[39mndarray,  return_p_val: \u001b[38;5;28mbool\u001b[39m \u001b[38;5;241m=\u001b[39m \u001b[38;5;28;01mTrue\u001b[39;00m, return_distance: \u001b[38;5;28mbool\u001b[39m \u001b[38;5;241m=\u001b[39m \u001b[38;5;28;01mTrue\u001b[39;00m,\n\u001b[1;32m    185\u001b[0m     return_probs: \u001b[38;5;28mbool\u001b[39m \u001b[38;5;241m=\u001b[39m \u001b[38;5;28;01mTrue\u001b[39;00m, return_model: \u001b[38;5;28mbool\u001b[39m \u001b[38;5;241m=\u001b[39m \u001b[38;5;28;01mFalse\u001b[39;00m\n\u001b[1;32m    186\u001b[0m ) \u001b[38;5;241m-\u001b[39m\u001b[38;5;241m>\u001b[39m Dict[\u001b[38;5;28mstr\u001b[39m, Dict[\u001b[38;5;28mstr\u001b[39m, Union[\u001b[38;5;28mstr\u001b[39m, \u001b[38;5;28mint\u001b[39m, \u001b[38;5;28mfloat\u001b[39m, Callable]]]:\n\u001b[1;32m    187\u001b[0m     \u001b[38;5;124;03m\"\"\"\u001b[39;00m\n\u001b[1;32m    188\u001b[0m \u001b[38;5;124;03m    Predict whether a batch of data has drifted from the reference data.\u001b[39;00m\n\u001b[1;32m    189\u001b[0m \n\u001b[0;32m   (...)\u001b[0m\n\u001b[1;32m    212\u001b[0m \u001b[38;5;124;03m    data, and the trained model.\u001b[39;00m\n\u001b[1;32m    213\u001b[0m \u001b[38;5;124;03m    \"\"\"\u001b[39;00m\n\u001b[0;32m--> 214\u001b[0m     preds \u001b[38;5;241m=\u001b[39m \u001b[38;5;28;43mself\u001b[39;49m\u001b[38;5;241;43m.\u001b[39;49m\u001b[43m_detector\u001b[49m\u001b[38;5;241;43m.\u001b[39;49m\u001b[43mpredict\u001b[49m\u001b[43m(\u001b[49m\u001b[43mx\u001b[49m\u001b[43m,\u001b[49m\u001b[43m \u001b[49m\u001b[43mreturn_p_val\u001b[49m\u001b[43m,\u001b[49m\u001b[43m \u001b[49m\u001b[43mreturn_distance\u001b[49m\u001b[43m,\u001b[49m\u001b[43m \u001b[49m\u001b[43mreturn_probs\u001b[49m\u001b[43m,\u001b[49m\u001b[43m \u001b[49m\u001b[43mreturn_model\u001b[49m\u001b[38;5;241;43m=\u001b[39;49m\u001b[38;5;28;43;01mTrue\u001b[39;49;00m\u001b[43m)\u001b[49m\n\u001b[1;32m    215\u001b[0m     preds[\u001b[38;5;124m'\u001b[39m\u001b[38;5;124mdata\u001b[39m\u001b[38;5;124m'\u001b[39m][\u001b[38;5;124m'\u001b[39m\u001b[38;5;124mdiffs\u001b[39m\u001b[38;5;124m'\u001b[39m] \u001b[38;5;241m=\u001b[39m preds[\u001b[38;5;124m'\u001b[39m\u001b[38;5;124mdata\u001b[39m\u001b[38;5;124m'\u001b[39m][\u001b[38;5;124m'\u001b[39m\u001b[38;5;124mmodel\u001b[39m\u001b[38;5;124m'\u001b[39m]\u001b[38;5;241m.\u001b[39mdiffs\u001b[38;5;241m.\u001b[39mdetach()\u001b[38;5;241m.\u001b[39mcpu()\u001b[38;5;241m.\u001b[39mnumpy()  \u001b[38;5;66;03m# type: ignore\u001b[39;00m\n\u001b[1;32m    216\u001b[0m     preds[\u001b[38;5;124m'\u001b[39m\u001b[38;5;124mdata\u001b[39m\u001b[38;5;124m'\u001b[39m][\u001b[38;5;124m'\u001b[39m\u001b[38;5;124mdiff_coeffs\u001b[39m\u001b[38;5;124m'\u001b[39m] \u001b[38;5;241m=\u001b[39m preds[\u001b[38;5;124m'\u001b[39m\u001b[38;5;124mdata\u001b[39m\u001b[38;5;124m'\u001b[39m][\u001b[38;5;124m'\u001b[39m\u001b[38;5;124mmodel\u001b[39m\u001b[38;5;124m'\u001b[39m]\u001b[38;5;241m.\u001b[39mcoeffs\u001b[38;5;241m.\u001b[39mdetach()\u001b[38;5;241m.\u001b[39mcpu()\u001b[38;5;241m.\u001b[39mnumpy()  \u001b[38;5;66;03m# type: ignore\u001b[39;00m\n",
      "File \u001b[0;32m~/.cache/pypoetry/virtualenvs/cyclops-KKtuQLwg-py3.9/lib/python3.9/site-packages/alibi_detect/cd/base.py:245\u001b[0m, in \u001b[0;36mBaseClassifierDrift.predict\u001b[0;34m(self, x, return_p_val, return_distance, return_probs, return_model)\u001b[0m\n\u001b[1;32m    218\u001b[0m \u001b[38;5;124;03m\"\"\"\u001b[39;00m\n\u001b[1;32m    219\u001b[0m \u001b[38;5;124;03mPredict whether a batch of data has drifted from the reference data.\u001b[39;00m\n\u001b[1;32m    220\u001b[0m \n\u001b[0;32m   (...)\u001b[0m\n\u001b[1;32m    242\u001b[0m \u001b[38;5;124;03mprediction probabilities on the reference and test data, and the trained model.\u001b[39;00m\n\u001b[1;32m    243\u001b[0m \u001b[38;5;124;03m\"\"\"\u001b[39;00m\n\u001b[1;32m    244\u001b[0m \u001b[38;5;66;03m# compute drift scores\u001b[39;00m\n\u001b[0;32m--> 245\u001b[0m p_val, dist, probs_ref, probs_test \u001b[38;5;241m=\u001b[39m \u001b[38;5;28;43mself\u001b[39;49m\u001b[38;5;241;43m.\u001b[39;49m\u001b[43mscore\u001b[49m\u001b[43m(\u001b[49m\u001b[43mx\u001b[49m\u001b[43m)\u001b[49m\n\u001b[1;32m    246\u001b[0m drift_pred \u001b[38;5;241m=\u001b[39m \u001b[38;5;28mint\u001b[39m(p_val \u001b[38;5;241m<\u001b[39m \u001b[38;5;28mself\u001b[39m\u001b[38;5;241m.\u001b[39mp_val)\n\u001b[1;32m    248\u001b[0m \u001b[38;5;66;03m# update reference dataset\u001b[39;00m\n",
      "File \u001b[0;32m~/.cache/pypoetry/virtualenvs/cyclops-KKtuQLwg-py3.9/lib/python3.9/site-packages/alibi_detect/cd/pytorch/classifier.py:188\u001b[0m, in \u001b[0;36mClassifierDriftTorch.score\u001b[0;34m(self, x)\u001b[0m\n\u001b[1;32m    186\u001b[0m \u001b[38;5;28mself\u001b[39m\u001b[38;5;241m.\u001b[39mmodel \u001b[38;5;241m=\u001b[39m \u001b[38;5;28mself\u001b[39m\u001b[38;5;241m.\u001b[39mmodel\u001b[38;5;241m.\u001b[39mto(\u001b[38;5;28mself\u001b[39m\u001b[38;5;241m.\u001b[39mdevice)\n\u001b[1;32m    187\u001b[0m train_args \u001b[38;5;241m=\u001b[39m [\u001b[38;5;28mself\u001b[39m\u001b[38;5;241m.\u001b[39mmodel, \u001b[38;5;28mself\u001b[39m\u001b[38;5;241m.\u001b[39mloss_fn, dl_tr, \u001b[38;5;28mself\u001b[39m\u001b[38;5;241m.\u001b[39mdevice]\n\u001b[0;32m--> 188\u001b[0m \u001b[43mtrainer\u001b[49m\u001b[43m(\u001b[49m\u001b[38;5;241;43m*\u001b[39;49m\u001b[43mtrain_args\u001b[49m\u001b[43m,\u001b[49m\u001b[43m \u001b[49m\u001b[38;5;241;43m*\u001b[39;49m\u001b[38;5;241;43m*\u001b[39;49m\u001b[38;5;28;43mself\u001b[39;49m\u001b[38;5;241;43m.\u001b[39;49m\u001b[43mtrain_kwargs\u001b[49m\u001b[43m)\u001b[49m  \u001b[38;5;66;03m# type: ignore\u001b[39;00m\n\u001b[1;32m    189\u001b[0m preds \u001b[38;5;241m=\u001b[39m \u001b[38;5;28mself\u001b[39m\u001b[38;5;241m.\u001b[39mpredict_fn(x_te, \u001b[38;5;28mself\u001b[39m\u001b[38;5;241m.\u001b[39mmodel\u001b[38;5;241m.\u001b[39meval())\n\u001b[1;32m    190\u001b[0m preds_oof_list\u001b[38;5;241m.\u001b[39mappend(preds)\n",
      "File \u001b[0;32m~/.cache/pypoetry/virtualenvs/cyclops-KKtuQLwg-py3.9/lib/python3.9/site-packages/alibi_detect/models/pytorch/trainer.py:56\u001b[0m, in \u001b[0;36mtrainer\u001b[0;34m(model, loss_fn, dataloader, device, optimizer, learning_rate, preprocess_fn, epochs, reg_loss_fn, verbose)\u001b[0m\n\u001b[1;32m     54\u001b[0m optimizer\u001b[38;5;241m.\u001b[39mzero_grad()  \u001b[38;5;66;03m# type: ignore\u001b[39;00m\n\u001b[1;32m     55\u001b[0m loss \u001b[38;5;241m=\u001b[39m loss_fn(y_hat, y) \u001b[38;5;241m+\u001b[39m reg_loss_fn(model)\n\u001b[0;32m---> 56\u001b[0m \u001b[43mloss\u001b[49m\u001b[38;5;241;43m.\u001b[39;49m\u001b[43mbackward\u001b[49m\u001b[43m(\u001b[49m\u001b[43m)\u001b[49m\n\u001b[1;32m     57\u001b[0m optimizer\u001b[38;5;241m.\u001b[39mstep()  \u001b[38;5;66;03m# type: ignore\u001b[39;00m\n\u001b[1;32m     58\u001b[0m \u001b[38;5;28;01mif\u001b[39;00m verbose \u001b[38;5;241m==\u001b[39m \u001b[38;5;241m1\u001b[39m:\n",
      "File \u001b[0;32m~/.cache/pypoetry/virtualenvs/cyclops-KKtuQLwg-py3.9/lib/python3.9/site-packages/torch/_tensor.py:363\u001b[0m, in \u001b[0;36mTensor.backward\u001b[0;34m(self, gradient, retain_graph, create_graph, inputs)\u001b[0m\n\u001b[1;32m    354\u001b[0m \u001b[38;5;28;01mif\u001b[39;00m has_torch_function_unary(\u001b[38;5;28mself\u001b[39m):\n\u001b[1;32m    355\u001b[0m     \u001b[38;5;28;01mreturn\u001b[39;00m handle_torch_function(\n\u001b[1;32m    356\u001b[0m         Tensor\u001b[38;5;241m.\u001b[39mbackward,\n\u001b[1;32m    357\u001b[0m         (\u001b[38;5;28mself\u001b[39m,),\n\u001b[0;32m   (...)\u001b[0m\n\u001b[1;32m    361\u001b[0m         create_graph\u001b[38;5;241m=\u001b[39mcreate_graph,\n\u001b[1;32m    362\u001b[0m         inputs\u001b[38;5;241m=\u001b[39minputs)\n\u001b[0;32m--> 363\u001b[0m \u001b[43mtorch\u001b[49m\u001b[38;5;241;43m.\u001b[39;49m\u001b[43mautograd\u001b[49m\u001b[38;5;241;43m.\u001b[39;49m\u001b[43mbackward\u001b[49m\u001b[43m(\u001b[49m\u001b[38;5;28;43mself\u001b[39;49m\u001b[43m,\u001b[49m\u001b[43m \u001b[49m\u001b[43mgradient\u001b[49m\u001b[43m,\u001b[49m\u001b[43m \u001b[49m\u001b[43mretain_graph\u001b[49m\u001b[43m,\u001b[49m\u001b[43m \u001b[49m\u001b[43mcreate_graph\u001b[49m\u001b[43m,\u001b[49m\u001b[43m \u001b[49m\u001b[43minputs\u001b[49m\u001b[38;5;241;43m=\u001b[39;49m\u001b[43minputs\u001b[49m\u001b[43m)\u001b[49m\n",
      "File \u001b[0;32m~/.cache/pypoetry/virtualenvs/cyclops-KKtuQLwg-py3.9/lib/python3.9/site-packages/torch/autograd/__init__.py:173\u001b[0m, in \u001b[0;36mbackward\u001b[0;34m(tensors, grad_tensors, retain_graph, create_graph, grad_variables, inputs)\u001b[0m\n\u001b[1;32m    168\u001b[0m     retain_graph \u001b[38;5;241m=\u001b[39m create_graph\n\u001b[1;32m    170\u001b[0m \u001b[38;5;66;03m# The reason we repeat same the comment below is that\u001b[39;00m\n\u001b[1;32m    171\u001b[0m \u001b[38;5;66;03m# some Python versions print out the first line of a multi-line function\u001b[39;00m\n\u001b[1;32m    172\u001b[0m \u001b[38;5;66;03m# calls in the traceback and some print out the last line\u001b[39;00m\n\u001b[0;32m--> 173\u001b[0m \u001b[43mVariable\u001b[49m\u001b[38;5;241;43m.\u001b[39;49m\u001b[43m_execution_engine\u001b[49m\u001b[38;5;241;43m.\u001b[39;49m\u001b[43mrun_backward\u001b[49m\u001b[43m(\u001b[49m\u001b[43m  \u001b[49m\u001b[38;5;66;43;03m# Calls into the C++ engine to run the backward pass\u001b[39;49;00m\n\u001b[1;32m    174\u001b[0m \u001b[43m    \u001b[49m\u001b[43mtensors\u001b[49m\u001b[43m,\u001b[49m\u001b[43m \u001b[49m\u001b[43mgrad_tensors_\u001b[49m\u001b[43m,\u001b[49m\u001b[43m \u001b[49m\u001b[43mretain_graph\u001b[49m\u001b[43m,\u001b[49m\u001b[43m \u001b[49m\u001b[43mcreate_graph\u001b[49m\u001b[43m,\u001b[49m\u001b[43m \u001b[49m\u001b[43minputs\u001b[49m\u001b[43m,\u001b[49m\n\u001b[1;32m    175\u001b[0m \u001b[43m    \u001b[49m\u001b[43mallow_unreachable\u001b[49m\u001b[38;5;241;43m=\u001b[39;49m\u001b[38;5;28;43;01mTrue\u001b[39;49;00m\u001b[43m,\u001b[49m\u001b[43m \u001b[49m\u001b[43maccumulate_grad\u001b[49m\u001b[38;5;241;43m=\u001b[39;49m\u001b[38;5;28;43;01mTrue\u001b[39;49;00m\u001b[43m)\u001b[49m\n",
      "\u001b[0;31mKeyboardInterrupt\u001b[0m: "
     ]
    }
   ],
   "source": [
    "# Run shift experiments\n",
    "if os.path.exists(os.path.join(DRIFT_PATH + \"mean_dr_md_pval.pkl\")):\n",
    "    with open(os.path.join(DRIFT_PATH + \"mean_dr_md_pval.pkl\"), \"rb\") as f:\n",
    "        mean_dr_md_pval = pickle.load(f)\n",
    "    with open(os.path.join(DRIFT_PATH + \"mean_dr_md_dist.pkl\"), \"rb\") as f:\n",
    "        mean_dr_md_dist = pickle.load(f)\n",
    "else:\n",
    "    mean_dr_md_pval = np.ones(\n",
    "        (len(EXPERIMENTS), len(DR_TECHNIQUES), len(MD_TESTS), len(SAMPLES))\n",
    "    ) * (-1)\n",
    "    mean_dr_md_dist = np.ones(\n",
    "        (len(EXPERIMENTS), len(DR_TECHNIQUES), len(MD_TESTS), len(SAMPLES))\n",
    "    ) * (-1)\n",
    "\n",
    "if os.path.exists(os.path.join(DRIFT_PATH + \"std_dr_md_pval.pkl\")):\n",
    "    with open(os.path.join(DRIFT_PATH + \"std_dr_md_pval.pkl\"), \"rb\") as f:\n",
    "        std_dr_md_pval = pickle.load(f)\n",
    "    with open(os.path.join(DRIFT_PATH + \"std_dr_md_dist.pkl\"), \"rb\") as f:\n",
    "        std_dr_md_dist = pickle.load(f)\n",
    "        \n",
    "else:\n",
    "    std_dr_md_pval = np.ones(\n",
    "        (len(EXPERIMENTS), len(DR_TECHNIQUES), len(MD_TESTS), len(SAMPLES))\n",
    "    ) * (-1)\n",
    "    std_dr_md_dist = np.ones(\n",
    "        (len(EXPERIMENTS), len(DR_TECHNIQUES), len(MD_TESTS), len(SAMPLES))\n",
    "    ) * (-1)\n",
    "\n",
    "\n",
    "for si, SHIFT in enumerate(EXPERIMENTS):\n",
    "    for di, DR_TECHNIQUE in enumerate(DR_TECHNIQUES):\n",
    "        for mi, MD_TEST in enumerate(MD_TESTS):\n",
    "            if np.any(mean_dr_md_pval[si, di, mi, :] == -1):\n",
    "                print(\n",
    "                    \"{} | {} | {} | {}\".format(\n",
    "                        SHIFT, HOSPITAL, DR_TECHNIQUE, MD_TEST\n",
    "                    )\n",
    "                )\n",
    "                \n",
    "                if AGGREGATION_TYPE == \"time_flatten\" and MD_TEST == \"Classifier\":\n",
    "                    REPRESENTATION=\"rf\"\n",
    "                    CONTEXT_TYPE=\"ffnn\"\n",
    "                elif AGGREGATION_TYPE == \"time_flatten\" and MD_TEST == \"LK\":\n",
    "                    REPRESENTATION=\"ffnn\"\n",
    "                    CONTEXT_TYPE=\"ffnn\"\n",
    "                elif AGGREGATION_TYPE == \"time\":\n",
    "                    CONTEXT_TYPE=\"lstm\"\n",
    "                    REPRESENTATION=\"lstm\"\n",
    "                    \n",
    "                if True:\n",
    "                    mean_p_vals, std_p_vals, mean_dist, std_dist = run_shift_experiment(\n",
    "                            shift=SHIFT,\n",
    "                            admin_data=admin_data,\n",
    "                            x=x, \n",
    "                            y=y,\n",
    "                            outcome=OUTCOME,\n",
    "                            hospital=HOSPITAL,\n",
    "                            path=PATH,\n",
    "                            aggregation_type=AGGREGATION_TYPE,\n",
    "                            scale=SCALE,\n",
    "                            dr_technique=DR_TECHNIQUE,\n",
    "                            model_path=MODEL_PATH,\n",
    "                            md_test=MD_TEST,\n",
    "                            context_type=CONTEXT_TYPE,\n",
    "                            representation=REPRESENTATION,\n",
    "                            samples=SAMPLES,\n",
    "                            dataset=DATASET,\n",
    "                            sign_level=SIGN_LEVEL,\n",
    "                            timesteps=TIMESTEPS,\n",
    "                            random_runs=RANDOM_RUNS,\n",
    "                            calc_acc=CALC_ACC\n",
    "                    )\n",
    "\n",
    "                    mean_dr_md_pval[si, di, mi, :] = mean_p_vals\n",
    "                    std_dr_md_pval[si, di, mi, :] = std_p_vals\n",
    "                    mean_dr_md_dist[si, di, mi, :] = mean_dist\n",
    "                    std_dr_md_dist[si, di, mi, :] = std_dist\n"
   ]
  },
  {
   "cell_type": "code",
   "execution_count": 11,
   "id": "88acfc2d-21ad-46f7-813d-00041adbddee",
   "metadata": {},
   "outputs": [
    {
     "name": "stdin",
     "output_type": "stream",
     "text": [
      "Select Pre-Processing:  NoRed\n",
      "Select Two-Sample Testing:  MMD\n",
      "Plot:  P-Value\n"
     ]
    },
    {
     "data": {
      "image/png": "[encoded data removed]",
      "text/plain": [
       "<Figure size 576x432 with 1 Axes>"
      ]
     },
     "metadata": {
      "needs_background": "light"
     },
     "output_type": "display_data"
    }
   ],
   "source": [
    "DIM_RED = input(\"Select Pre-Processing: \")\n",
    "MD_TEST = input(\"Select Two-Sample Testing: \")\n",
    "PLOT_METRIC = input(\"Plot: \")\n",
    "\n",
    "fig = plt.figure(figsize=(8, 6))\n",
    "for si, shift in enumerate(EXPERIMENTS):\n",
    "    for di, dr_technique in enumerate(DR_TECHNIQUES):\n",
    "        for mi, md_test in enumerate(MD_TESTS):\n",
    "            if (\n",
    "                    dr_technique == DIM_RED\n",
    "                    and md_test == MD_TEST and \n",
    "                    PLOT_METRIC == \"Distance\"\n",
    "            ):\n",
    "                errorfill(\n",
    "                        np.array(SAMPLES),\n",
    "                        mean_dr_md_dist[si, di, mi, :],\n",
    "                        std_dr_md_dist[si, di, mi, :],\n",
    "                        fmt=linestyles[si] + markers[si],\n",
    "                        color=colorscale(colors[si], brightness[si]),\n",
    "                        label=\"%s\" % \"_\".join([shift, dr_technique, md_test]),\n",
    "                )\n",
    "            elif (\n",
    "                    dr_technique == DIM_RED\n",
    "                    and md_test == MD_TEST and \n",
    "                    PLOT_METRIC == \"P-Value\"\n",
    "            ):\n",
    "                errorfill(\n",
    "                        np.array(SAMPLES),\n",
    "                        mean_dr_md_pval[si, di, mi, :],\n",
    "                        std_dr_md_pval[si, di, mi, :],\n",
    "                        fmt=linestyles[si] + markers[si],\n",
    "                        color=colorscale(colors[si], brightness[si]),\n",
    "                        label=\"%s\" % \"_\".join([shift, dr_technique, md_test]),\n",
    "                )\n",
    "plt.xlabel(\"Number of samples from test data\")\n",
    "plt.ylabel(PLOT_METRIC)\n",
    "plt.axhline(y=SIGN_LEVEL, color=\"k\")\n",
    "plt.legend()\n",
    "plt.show()\n",
    "\n",
    "# Run shift experiments\n",
    "if not os.path.exists(os.path.join(DRIFT_PATH + \"mean_dr_md_pval.pkl\")):\n",
    "    with open(os.path.join(DRIFT_PATH + \"mean_dr_md_pval.pkl\"), \"wb\") as f:\n",
    "        pickle.dump(mean_dr_md_pval, f)\n",
    "    with open(os.path.join(DRIFT_PATH + \"mean_dr_md_dist.pkl\"), \"wb\") as f:\n",
    "        pickle.dump(mean_dr_md_dist, f)\n",
    "if not os.path.exists(os.path.join(DRIFT_PATH + \"std_dr_md_pval.pkl\")):\n",
    "    with open(os.path.join(DRIFT_PATH + \"std_dr_md_pval.pkl\"), \"wb\") as f:\n",
    "        pickle.dump(std_dr_md_pval, f)\n",
    "    with open(os.path.join(DRIFT_PATH + \"std_dr_md_dist.pkl\"), \"wb\") as f:\n",
    "        pickle.dump(std_dr_md_dist, f)"
   ]
  },
  {
   "cell_type": "markdown",
   "id": "bibliographic-premium",
   "metadata": {},
   "source": [
    "# Build Model #"
   ]
  },
  {
   "cell_type": "code",
   "execution_count": 38,
   "id": "bab74da1-b9dd-4a32-bedd-2becbfd293a1",
   "metadata": {},
   "outputs": [
    {
     "name": "stderr",
     "output_type": "stream",
     "text": [
      "2022-08-02 22:20:48,913 \u001b[1;37mINFO\u001b[0m cyclops.feature_handler - Loading features from file...\n",
      "2022-08-02 22:20:48,916 \u001b[1;37mINFO\u001b[0m cyclops.feature_handler - Found file to load for static features...\n",
      "2022-08-02 22:20:48,917 \u001b[1;37mINFO\u001b[0m cyclops.feature_handler - Successfully loaded static features from file...\n",
      "2022-08-02 22:20:48,951 \u001b[1;37mINFO\u001b[0m cyclops.feature_handler - Found file to load for temporal features...\n",
      "2022-08-02 22:20:53,754 \u001b[1;37mINFO\u001b[0m cyclops.feature_handler - Successfully loaded temporal features from file...\n"
     ]
    },
    {
     "name": "stdin",
     "output_type": "stream",
     "text": [
      "Select Model:  xgb\n"
     ]
    }
   ],
   "source": [
    "SHIFT=\"seasonal_winter\"\n",
    "scale = True\n",
    "\n",
    "(X_tr, y_tr), (X_val, y_val), (X_t, y_t), feats, admin_data = import_dataset_hospital(admin_data, x, y, SHIFT, OUTCOME, HOSPITAL, 1, shuffle=True)\n",
    "\n",
    "aggregation_type = \"time_flatten\"\n",
    "numerical_cols = get_numerical_cols(PATH)\n",
    "\n",
    "# Normalize data\n",
    "(X_tr_normalized, y_tr),(X_val_normalized, y_val), (X_t_normalized, y_t) = normalize_data(aggregation_type, admin_data, TIMESTEPS, X_tr, y_tr, X_val, y_val, X_t, y_t)\n",
    "\n",
    "# Scale data\n",
    "if scale:\n",
    "    X_tr_normalized, X_val_normalized, X_t_normalized = scale_data(numerical_cols, X_tr_normalized, X_val_normalized, X_t_normalized)\n",
    "# Process data\n",
    "X_tr_final, X_val_final, X_t_final = process_data(aggregation_type, TIMESTEPS, X_tr_normalized, X_val_normalized, X_t_normalized)\n",
    "\n",
    "MODEL_NAME = input(\"Select Model: \")\n",
    "MODEL_PATH = PATH + \"_\".join([SHIFT, OUTCOME, aggregation_type, '_'.join(HOSPITAL), MODEL_NAME]) + \".pkl\"\n",
    "if os.path.exists(MODEL_PATH):\n",
    "    optimised_model = pickle.load(open(MODEL_PATH, \"rb\"))\n",
    "else:\n",
    "    optimised_model = run_model(MODEL_NAME, X_tr_final, y_tr, X_val_final, y_val)\n",
    "    pickle.dump(optimised_model, open(MODEL_PATH, 'wb'))"
   ]
  },
  {
   "cell_type": "markdown",
   "id": "front-present",
   "metadata": {},
   "source": [
    "### Performance on Source Data ###"
   ]
  },
  {
   "cell_type": "code",
   "execution_count": 39,
   "id": "resistant-dover",
   "metadata": {},
   "outputs": [
    {
     "data": {
      "text/plain": [
       "<AxesSubplot:title={'center':'PRC curve (area = 0.911178)'}, xlabel='Recall', ylabel='Precision'>"
      ]
     },
     "execution_count": 39,
     "metadata": {},
     "output_type": "execute_result"
    },
    {
     "data": {
      "image/png": "[encoded data removed]",
      "text/plain": [
       "<Figure size 1008x432 with 2 Axes>"
      ]
     },
     "metadata": {
      "needs_background": "light"
     },
     "output_type": "display_data"
    }
   ],
   "source": [
    "y_pred_prob = optimised_model.predict_proba(X_val_final)[:, 1]\n",
    "\n",
    "fpr, tpr, thresholds = roc_curve(y_val, y_pred_prob, pos_label=1)\n",
    "roc_auc = auc(fpr, tpr)\n",
    "precision, recall, thresholds = precision_recall_curve(y_val, y_pred_prob)\n",
    "auc_pr = auc(recall, precision)\n",
    "fig, ax = plt.subplots(nrows=1, ncols=2, figsize=(14, 6))\n",
    "plot_roc(ax[0], fpr, tpr, roc_auc)\n",
    "plot_pr(ax[1], recall, precision, auc_pr)"
   ]
  },
  {
   "cell_type": "markdown",
   "id": "distinct-opening",
   "metadata": {},
   "source": [
    "### Performance on Target Data ###"
   ]
  },
  {
   "cell_type": "code",
   "execution_count": 40,
   "id": "affecting-marriage",
   "metadata": {},
   "outputs": [
    {
     "data": {
      "text/plain": [
       "<AxesSubplot:title={'center':'PRC curve (area = 0.895006)'}, xlabel='Recall', ylabel='Precision'>"
      ]
     },
     "execution_count": 40,
     "metadata": {},
     "output_type": "execute_result"
    },
    {
     "data": {
      "image/png": "[encoded data removed]",
      "text/plain": [
       "<Figure size 1008x432 with 2 Axes>"
      ]
     },
     "metadata": {
      "needs_background": "light"
     },
     "output_type": "display_data"
    }
   ],
   "source": [
    "y_pred_prob = optimised_model.predict_proba(X_t_final)[:, 1]\n",
    "fpr, tpr, thresholds = roc_curve(y_t, y_pred_prob, pos_label=1)\n",
    "roc_auc = auc(fpr, tpr)\n",
    "precision, recall, thresholds = precision_recall_curve(y_t, y_pred_prob)\n",
    "auc_pr = auc(recall, precision)\n",
    "fig, ax = plt.subplots(nrows=1, ncols=2, figsize=(14, 6))\n",
    "plot_roc(ax[0], fpr, tpr, roc_auc)\n",
    "plot_pr(ax[1], recall, precision, auc_pr)"
   ]
  },
  {
   "cell_type": "code",
   "execution_count": 41,
   "id": "03670cff-5de7-4646-a8c3-7e8344c118c6",
   "metadata": {},
   "outputs": [
    {
     "name": "stdout",
     "output_type": "stream",
     "text": [
      "0\n"
     ]
    },
    {
     "name": "stderr",
     "output_type": "stream",
     "text": [
      "2022-08-02 22:20:59,836 \u001b[1;37mINFO\u001b[0m cyclops.feature_handler - Loading features from file...\n",
      "2022-08-02 22:20:59,838 \u001b[1;37mINFO\u001b[0m cyclops.feature_handler - Found file to load for static features...\n",
      "2022-08-02 22:20:59,839 \u001b[1;37mINFO\u001b[0m cyclops.feature_handler - Successfully loaded static features from file...\n",
      "2022-08-02 22:20:59,866 \u001b[1;37mINFO\u001b[0m cyclops.feature_handler - Found file to load for temporal features...\n",
      "2022-08-02 22:21:04,619 \u001b[1;37mINFO\u001b[0m cyclops.feature_handler - Successfully loaded temporal features from file...\n"
     ]
    },
    {
     "name": "stdout",
     "output_type": "stream",
     "text": [
      "1\n"
     ]
    },
    {
     "name": "stderr",
     "output_type": "stream",
     "text": [
      "2022-08-02 22:21:05,644 \u001b[1;37mINFO\u001b[0m cyclops.feature_handler - Loading features from file...\n",
      "2022-08-02 22:21:05,646 \u001b[1;37mINFO\u001b[0m cyclops.feature_handler - Found file to load for static features...\n",
      "2022-08-02 22:21:05,648 \u001b[1;37mINFO\u001b[0m cyclops.feature_handler - Successfully loaded static features from file...\n",
      "2022-08-02 22:21:05,677 \u001b[1;37mINFO\u001b[0m cyclops.feature_handler - Found file to load for temporal features...\n",
      "2022-08-02 22:21:10,442 \u001b[1;37mINFO\u001b[0m cyclops.feature_handler - Successfully loaded temporal features from file...\n"
     ]
    },
    {
     "name": "stdout",
     "output_type": "stream",
     "text": [
      "2\n"
     ]
    },
    {
     "name": "stderr",
     "output_type": "stream",
     "text": [
      "2022-08-02 22:21:11,478 \u001b[1;37mINFO\u001b[0m cyclops.feature_handler - Loading features from file...\n",
      "2022-08-02 22:21:11,480 \u001b[1;37mINFO\u001b[0m cyclops.feature_handler - Found file to load for static features...\n",
      "2022-08-02 22:21:11,482 \u001b[1;37mINFO\u001b[0m cyclops.feature_handler - Successfully loaded static features from file...\n",
      "2022-08-02 22:21:11,511 \u001b[1;37mINFO\u001b[0m cyclops.feature_handler - Found file to load for temporal features...\n",
      "2022-08-02 22:21:16,258 \u001b[1;37mINFO\u001b[0m cyclops.feature_handler - Successfully loaded temporal features from file...\n"
     ]
    },
    {
     "name": "stdout",
     "output_type": "stream",
     "text": [
      "3\n"
     ]
    },
    {
     "name": "stderr",
     "output_type": "stream",
     "text": [
      "2022-08-02 22:21:17,306 \u001b[1;37mINFO\u001b[0m cyclops.feature_handler - Loading features from file...\n",
      "2022-08-02 22:21:17,308 \u001b[1;37mINFO\u001b[0m cyclops.feature_handler - Found file to load for static features...\n",
      "2022-08-02 22:21:17,310 \u001b[1;37mINFO\u001b[0m cyclops.feature_handler - Successfully loaded static features from file...\n",
      "2022-08-02 22:21:17,339 \u001b[1;37mINFO\u001b[0m cyclops.feature_handler - Found file to load for temporal features...\n",
      "2022-08-02 22:21:22,017 \u001b[1;37mINFO\u001b[0m cyclops.feature_handler - Successfully loaded temporal features from file...\n"
     ]
    },
    {
     "name": "stdout",
     "output_type": "stream",
     "text": [
      "4\n"
     ]
    },
    {
     "name": "stderr",
     "output_type": "stream",
     "text": [
      "2022-08-02 22:21:23,061 \u001b[1;37mINFO\u001b[0m cyclops.feature_handler - Loading features from file...\n",
      "2022-08-02 22:21:23,062 \u001b[1;37mINFO\u001b[0m cyclops.feature_handler - Found file to load for static features...\n",
      "2022-08-02 22:21:23,065 \u001b[1;37mINFO\u001b[0m cyclops.feature_handler - Successfully loaded static features from file...\n",
      "2022-08-02 22:21:23,094 \u001b[1;37mINFO\u001b[0m cyclops.feature_handler - Found file to load for temporal features...\n",
      "2022-08-02 22:21:27,808 \u001b[1;37mINFO\u001b[0m cyclops.feature_handler - Successfully loaded temporal features from file...\n"
     ]
    },
    {
     "name": "stdout",
     "output_type": "stream",
     "text": [
      "5\n"
     ]
    },
    {
     "name": "stderr",
     "output_type": "stream",
     "text": [
      "2022-08-02 22:21:28,843 \u001b[1;37mINFO\u001b[0m cyclops.feature_handler - Loading features from file...\n",
      "2022-08-02 22:21:28,845 \u001b[1;37mINFO\u001b[0m cyclops.feature_handler - Found file to load for static features...\n",
      "2022-08-02 22:21:28,847 \u001b[1;37mINFO\u001b[0m cyclops.feature_handler - Successfully loaded static features from file...\n",
      "2022-08-02 22:21:28,876 \u001b[1;37mINFO\u001b[0m cyclops.feature_handler - Found file to load for temporal features...\n",
      "2022-08-02 22:21:33,603 \u001b[1;37mINFO\u001b[0m cyclops.feature_handler - Successfully loaded temporal features from file...\n"
     ]
    },
    {
     "name": "stdout",
     "output_type": "stream",
     "text": [
      "6\n"
     ]
    },
    {
     "name": "stderr",
     "output_type": "stream",
     "text": [
      "2022-08-02 22:21:34,654 \u001b[1;37mINFO\u001b[0m cyclops.feature_handler - Loading features from file...\n",
      "2022-08-02 22:21:34,655 \u001b[1;37mINFO\u001b[0m cyclops.feature_handler - Found file to load for static features...\n",
      "2022-08-02 22:21:34,657 \u001b[1;37mINFO\u001b[0m cyclops.feature_handler - Successfully loaded static features from file...\n",
      "2022-08-02 22:21:34,685 \u001b[1;37mINFO\u001b[0m cyclops.feature_handler - Found file to load for temporal features...\n",
      "2022-08-02 22:21:39,430 \u001b[1;37mINFO\u001b[0m cyclops.feature_handler - Successfully loaded temporal features from file...\n"
     ]
    },
    {
     "name": "stdout",
     "output_type": "stream",
     "text": [
      "7\n"
     ]
    },
    {
     "name": "stderr",
     "output_type": "stream",
     "text": [
      "2022-08-02 22:21:40,479 \u001b[1;37mINFO\u001b[0m cyclops.feature_handler - Loading features from file...\n",
      "2022-08-02 22:21:40,480 \u001b[1;37mINFO\u001b[0m cyclops.feature_handler - Found file to load for static features...\n",
      "2022-08-02 22:21:40,483 \u001b[1;37mINFO\u001b[0m cyclops.feature_handler - Successfully loaded static features from file...\n",
      "2022-08-02 22:21:40,511 \u001b[1;37mINFO\u001b[0m cyclops.feature_handler - Found file to load for temporal features...\n",
      "2022-08-02 22:21:45,234 \u001b[1;37mINFO\u001b[0m cyclops.feature_handler - Successfully loaded temporal features from file...\n"
     ]
    },
    {
     "name": "stdout",
     "output_type": "stream",
     "text": [
      "8\n"
     ]
    },
    {
     "name": "stderr",
     "output_type": "stream",
     "text": [
      "2022-08-02 22:21:46,291 \u001b[1;37mINFO\u001b[0m cyclops.feature_handler - Loading features from file...\n",
      "2022-08-02 22:21:46,292 \u001b[1;37mINFO\u001b[0m cyclops.feature_handler - Found file to load for static features...\n",
      "2022-08-02 22:21:46,293 \u001b[1;37mINFO\u001b[0m cyclops.feature_handler - Successfully loaded static features from file...\n",
      "2022-08-02 22:21:46,322 \u001b[1;37mINFO\u001b[0m cyclops.feature_handler - Found file to load for temporal features...\n",
      "2022-08-02 22:21:51,205 \u001b[1;37mINFO\u001b[0m cyclops.feature_handler - Successfully loaded temporal features from file...\n"
     ]
    },
    {
     "name": "stdout",
     "output_type": "stream",
     "text": [
      "9\n"
     ]
    },
    {
     "name": "stderr",
     "output_type": "stream",
     "text": [
      "2022-08-02 22:21:52,269 \u001b[1;37mINFO\u001b[0m cyclops.feature_handler - Loading features from file...\n",
      "2022-08-02 22:21:52,272 \u001b[1;37mINFO\u001b[0m cyclops.feature_handler - Found file to load for static features...\n",
      "2022-08-02 22:21:52,273 \u001b[1;37mINFO\u001b[0m cyclops.feature_handler - Successfully loaded static features from file...\n",
      "2022-08-02 22:21:52,300 \u001b[1;37mINFO\u001b[0m cyclops.feature_handler - Found file to load for temporal features...\n",
      "2022-08-02 22:21:57,100 \u001b[1;37mINFO\u001b[0m cyclops.feature_handler - Successfully loaded temporal features from file...\n"
     ]
    }
   ],
   "source": [
    "val_auroc = [] \n",
    "val_auprc = []\n",
    "test_auroc = []\n",
    "test_auprc = []\n",
    "RANDOM_RUNS=10\n",
    "for i in range(0, RANDOM_RUNS):\n",
    "    random.seed(i)\n",
    "    print(i)\n",
    "    (X_tr, y_tr), (X_val, y_val), (X_t, y_t), feats, admin_data = import_dataset_hospital(admin_data, x, y, SHIFT, OUTCOME, HOSPITAL, i, shuffle=True)\n",
    "\n",
    "    aggregation_type = \"time_flatten\"\n",
    "    numerical_cols = get_numerical_cols(PATH)\n",
    "\n",
    "    # Normalize data\n",
    "    (X_tr_normalized, y_tr),(X_val_normalized, y_val), (X_t_normalized, y_t) = normalize_data(aggregation_type, admin_data, TIMESTEPS, X_tr, y_tr, X_val, y_val, X_t, y_t)\n",
    "\n",
    "    # Scale data\n",
    "    if scale:\n",
    "        X_tr_normalized, X_val_normalized, X_t_normalized = scale_data(numerical_cols, X_tr_normalized, X_val_normalized, X_t_normalized)\n",
    "    # Process data\n",
    "    X_tr_final, X_val_final, X_t_final = process_data(aggregation_type, TIMESTEPS, X_tr_normalized, X_val_normalized, X_t_normalized)\n",
    "    \n",
    "    y_pred_prob = optimised_model.predict_proba(X_val_final)[:, 1]\n",
    "    fpr, tpr, thresholds = roc_curve(y_val, y_pred_prob, pos_label=1)\n",
    "    roc_auc = auc(fpr, tpr)\n",
    "    val_auroc.append(roc_auc)\n",
    "    precision, recall, thresholds = precision_recall_curve(y_val, y_pred_prob)\n",
    "    auc_pr = auc(recall, precision)\n",
    "    val_auprc.append(auc_pr)\n",
    "    \n",
    "    y_pred_prob = optimised_model.predict_proba(X_t_final)[:, 1]\n",
    "    fpr, tpr, thresholds = roc_curve(y_t, y_pred_prob, pos_label=1)\n",
    "    roc_auc = auc(fpr, tpr)\n",
    "    test_auroc.append(roc_auc)\n",
    "    precision, recall, thresholds = precision_recall_curve(y_t, y_pred_prob)\n",
    "    auc_pr = auc(recall, precision)\n",
    "    test_auprc.append(auc_pr)"
   ]
  },
  {
   "cell_type": "code",
   "execution_count": 42,
   "id": "cc30ce5c-3d6a-4a4c-8daa-2c5509566b48",
   "metadata": {},
   "outputs": [
    {
     "name": "stdout",
     "output_type": "stream",
     "text": [
      "0.977828082529489 (0.9582969679828163, 0.9973591970761618)\n",
      "0.9797629974538387 (0.9622000158543448, 0.9973259790533325)\n",
      "0.8920839181316651 (0.8893362474230636, 0.8948315888402666)\n",
      "0.8840371016459583 (0.8803741040649026, 0.887700099227014)\n"
     ]
    }
   ],
   "source": [
    "import scipy.stats as st\n",
    "\n",
    "print(np.mean(val_auroc),st.t.interval(0.95, len(val_auroc)-1, loc=np.mean(val_auroc), scale=st.sem(val_auroc)))\n",
    "print(np.mean(val_auprc),st.t.interval(0.95, len(val_auprc)-1, loc=np.mean(val_auprc), scale=st.sem(val_auprc)))\n",
    "print(np.mean(test_auroc),st.t.interval(0.95, len(test_auroc)-1, loc=np.mean(test_auroc), scale=st.sem(test_auroc)))\n",
    "print(np.mean(test_auprc),st.t.interval(0.95, len(test_auprc)-1, loc=np.mean(test_auprc), scale=st.sem(test_auprc)))"
   ]
  },
  {
   "cell_type": "markdown",
   "id": "tender-bracket",
   "metadata": {},
   "source": [
    "## Performance by Sample Size ##"
   ]
  },
  {
   "cell_type": "code",
   "execution_count": 106,
   "id": "employed-curtis",
   "metadata": {},
   "outputs": [
    {
     "name": "stderr",
     "output_type": "stream",
     "text": [
      "No negative samples in y_true, false positive value should be meaningless\n",
      "No negative samples in y_true, false positive value should be meaningless\n"
     ]
    }
   ],
   "source": [
    "def unison_shuffled_copies(a, b):\n",
    "    assert len(a) == len(b)\n",
    "    p = np.random.permutation(len(a))\n",
    "    return a[p], b[p]\n",
    "\n",
    "RANDOM_RUNS=100\n",
    "samp_metrics = np.ones((len(SAMPLES), RANDOM_RUNS, 2, 2)) * (-1)\n",
    "for si, sample in enumerate(SAMPLES):\n",
    "    for i in range(0, RANDOM_RUNS - 1):\n",
    "        i = int(i)\n",
    "        np.random.seed(i)\n",
    "        X_val_shuffled, y_val_shuffled = unison_shuffled_copies(X_val_final, y_val)\n",
    "        X_test_shuffled, y_test_shuffled = unison_shuffled_copies(X_t_final, y_t)\n",
    "\n",
    "        y_val_pred_prob = optimised_model.predict_proba(X_val_shuffled[:sample])[:, 1]\n",
    "        val_fpr, val_tpr, val_thresholds = roc_curve(\n",
    "            y_val_shuffled[:sample], y_val_pred_prob[:sample], pos_label=1\n",
    "        )\n",
    "        val_roc_auc = auc(val_fpr, val_tpr)\n",
    "        val_avg_pr = average_precision_score(y_val_shuffled[:sample], y_val_pred_prob[:sample])\n",
    "\n",
    "        y_test_pred_prob = optimised_model.predict_proba(X_test_shuffled[:sample])[:, 1]\n",
    "        test_fpr, test_tpr, test_thresholds = roc_curve(\n",
    "            y_test_shuffled[:sample], y_test_pred_prob[:sample], pos_label=1\n",
    "        )\n",
    "        test_roc_auc = auc(test_fpr, test_tpr)\n",
    "        test_avg_pr = average_precision_score(y_test_shuffled[:sample], y_test_pred_prob[:sample])\n",
    "\n",
    "        samp_metrics[si, i, 0, :] = [val_roc_auc, val_avg_pr]\n",
    "        samp_metrics[si, i, 1, :] = [test_roc_auc, test_avg_pr]\n",
    "\n",
    "    mean_samp_metrics = np.mean(samp_metrics, axis=1)\n",
    "    std_samp_metrics = np.std(samp_metrics, axis=1)"
   ]
  },
  {
   "cell_type": "code",
   "execution_count": 107,
   "id": "powerful-tournament",
   "metadata": {},
   "outputs": [
    {
     "data": {
      "image/png": "[encoded data removed]",
      "text/plain": [
       "<Figure size 576x432 with 1 Axes>"
      ]
     },
     "metadata": {
      "needs_background": "light"
     },
     "output_type": "display_data"
    }
   ],
   "source": [
    "fig = plt.figure(figsize=(8, 6))\n",
    "for si, shift in enumerate([\"baseline\", SHIFT]):\n",
    "    for mi, metric in enumerate([\"AuROC\", \"Avg Pr\"]):\n",
    "        if metric == \"AuROC\":\n",
    "            errorfill(\n",
    "                np.array(SAMPLES[1:]),\n",
    "                mean_samp_metrics[1:, si, mi],\n",
    "                std_samp_metrics[1:, si, mi],\n",
    "                fmt=linestyles[mi] + markers[mi],\n",
    "                color=colorscale(colors[si], brightness[si]),\n",
    "                label=\"%s\" % \"_\".join([shift]),\n",
    "            )\n",
    "plt.xlabel(\"Number of samples from test data\")\n",
    "plt.ylabel(\"AuROC\")\n",
    "plt.legend()\n",
    "plt.show()"
   ]
  },
  {
   "cell_type": "markdown",
   "id": "structured-utilization",
   "metadata": {},
   "source": [
    "## Explain Difference in Model Predictions ## "
   ]
  },
  {
   "cell_type": "code",
   "execution_count": 129,
   "id": "c7eed7e9-dc3d-4759-aebf-a68a4da777b2",
   "metadata": {},
   "outputs": [],
   "source": [
    "import itertools \n",
    "\n",
    "timesteps = ['T1_', 'T2_','T3_','T4_', 'T5_','T6_']\n",
    "\n",
    "flattened_feats = []\n",
    "for ts in timesteps:\n",
    "    flattened_feats.append(ts+feats)\n",
    "flattened_feats = list(itertools.chain.from_iterable(flattened_feats))"
   ]
  },
  {
   "cell_type": "code",
   "execution_count": 169,
   "id": "agreed-airfare",
   "metadata": {},
   "outputs": [
    {
     "name": "stderr",
     "output_type": "stream",
     "text": [
      "ntree_limit is deprecated, use `iteration_range` or model slicing instead.\n",
      "ntree_limit is deprecated, use `iteration_range` or model slicing instead.\n"
     ]
    },
    {
     "data": {
      "image/png": "[encoded data removed]",
      "text/plain": [
       "<Figure size 864x864 with 1 Axes>"
      ]
     },
     "metadata": {
      "needs_background": "light"
     },
     "output_type": "display_data"
    }
   ],
   "source": [
    "explainer = ShiftExplainer(optimised_model)\n",
    "explainer.get_explainer()\n",
    "\n",
    "X_val_df = pd.DataFrame(X_val_final, columns=flattened_feats)\n",
    "val_shap_values = explainer.get_shap_values(X_val_df)\n",
    "X_test_df = pd.DataFrame(X_t_final, columns=flattened_feats)\n",
    "test_shap_values = explainer.get_shap_values(X_test_df)\n",
    "\n",
    "diff = np.mean(np.abs(test_shap_values.values), axis=0) - np.mean(\n",
    "    np.abs(val_shap_values.values), axis=0\n",
    ")\n",
    "diff_sorted, feats_sorted = zip(*sorted(zip(diff, flattened_feats), reverse=True))\n",
    "diff_sorted, feats_sorted = zip(\n",
    "    *(((x, y) for x, y in zip(diff_sorted, feats_sorted) if (x > 0.01 or x < -0.01)))\n",
    ")\n",
    "diff_sorted = list(diff_sorted)\n",
    "feats_sorted=list(map(lambda x: x.replace('T1_', '').replace('T2_', '').replace('T3_', '').replace('T4_', '').replace('T5_', '').replace('T6_', ''),feats_sorted))\n",
    "del diff_sorted[5]\n",
    "del feats_sorted[5]\n",
    "fig, ax = plt.subplots(figsize=(12, 12))\n",
    "y_pos = np.arange(len(diff_sorted))\n",
    "ax.barh(y_pos, diff_sorted, align=\"center\")\n",
    "ax.set_yticks(y_pos, labels=feats_sorted)\n",
    "ax.invert_yaxis()  # labels read top-to-bottom\n",
    "ax.set_xlabel(\"Mean Difference in Shap Value\")\n",
    "ax.set_title(\"Features\")\n",
    "plt.show()"
   ]
  },
  {
   "cell_type": "code",
   "execution_count": null,
   "id": "c1a63f41-65cb-44fb-b6d5-aa768acf4e01",
   "metadata": {},
   "outputs": [],
   "source": []
  }
 ],
 "metadata": {
  "kernelspec": {
   "display_name": "cyclops-KKtuQLwg-py3.9",
   "language": "python",
   "name": "cyclops-kktuqlwg-py3.9"
  },
  "language_info": {
   "codemirror_mode": {
    "name": "ipython",
    "version": 3
   },
   "file_extension": ".py",
   "mimetype": "text/x-python",
   "name": "python",
   "nbconvert_exporter": "python",
   "pygments_lexer": "ipython3",
   "version": "3.9.7"
  }
 },
 "nbformat": 4,
 "nbformat_minor": 5
}
