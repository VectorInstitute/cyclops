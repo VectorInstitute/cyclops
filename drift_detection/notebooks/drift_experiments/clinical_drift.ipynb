{
 "cells": [
  {
   "cell_type": "markdown",
   "id": "7ef2b202-6443-4897-9a0c-f4b63392f851",
   "metadata": {},
   "source": [
    "### Clinical Drift Detection"
   ]
  },
  {
   "cell_type": "code",
   "execution_count": null,
   "id": "24df23a5-e1b9-4ce2-bc5a-55965a979b6a",
   "metadata": {},
   "outputs": [],
   "source": [
    "# import sys\n",
    "# sys.path.append(\"../..\")\n",
    "import datetime\n",
    "\n",
    "from drift_detector.clinical_applicator import ClinicalShiftApplicator\n",
    "from drift_detector.detector import Detector\n",
    "from drift_detector.experimenter import Experimenter\n",
    "from drift_detector.plotter import plot_drift_samples_pval\n",
    "from drift_detector.reductor import Reductor\n",
    "from drift_detector.tester import DCTester, TSTester\n",
    "from gemini.query import get_gemini_data\n",
    "from gemini.utils import get_label, import_dataset_hospital, normalize, process, scale"
   ]
  },
  {
   "cell_type": "markdown",
   "id": "renewable-mortgage",
   "metadata": {},
   "source": [
    "## Config Parameters ##"
   ]
  },
  {
   "cell_type": "code",
   "execution_count": null,
   "id": "hourly-insider",
   "metadata": {},
   "outputs": [],
   "source": [
    "PATH = \"/mnt/nfs/project/delirium/drift_exp/JULY-04-2022/\"\n",
    "HOSPITALS = [\"SMH\", \"MSH\", \"THPC\", \"THPM\", \"UHNTG\", \"UHNTW\", \"PMH\", \"SBK\"]\n",
    "TIMESTEPS = 6\n",
    "AGGREGATION_TYPE = \"time\"\n",
    "ACADEMIC = [\"MSH\", \"PMH\", \"SMH\", \"UHNTW\", \"UHNTG\", \"PMH\", \"SBK\"]\n",
    "COMMUNITY = [\"THPC\", \"THPM\"]\n",
    "\n",
    "if AGGREGATION_TYPE == \"time\":\n",
    "    CONTEXT_TYPE = \"lstm\"\n",
    "    REPRESENTATION = \"lstm\"\n",
    "else:\n",
    "    CONTEXT_TYPE = \"ffnn\"\n",
    "    REPRESENTATION = \"rf\"\n",
    "\n",
    "OUTCOME = input(\"Select outcome variable: \")\n",
    "SHIFT = input(\"Select experiment: \")\n",
    "MODEL_PATH = (\n",
    "    \"/mnt/nfs/project/delirium/drift_exp/JULY-04-2022/saved_models/\"\n",
    "    + SHIFT\n",
    "    + \"_lstm.pt\"\n",
    ")\n",
    "\n",
    "if SHIFT == \"simulated_deployment\":\n",
    "    exp_params = {\n",
    "        \"source\": [datetime.date(2015, 1, 1), datetime.date(2019, 1, 1)],\n",
    "        \"target\": [datetime.date(2019, 1, 1), datetime.date(2020, 8, 1)],\n",
    "        \"shift_type\": \"source_target\",\n",
    "    }\n",
    "\n",
    "if SHIFT == \"covid\":\n",
    "    exp_params = {\n",
    "        \"source\": [datetime.date(2019, 1, 1), datetime.date(2020, 2, 1)],\n",
    "        \"target\": [datetime.date(2020, 3, 1), datetime.date(2020, 8, 1)],\n",
    "        \"shift_type\": \"time\",\n",
    "    }\n",
    "\n",
    "if SHIFT == \"seasonal_summer\":\n",
    "    exp_params = {\n",
    "        \"source\": [1, 2, 3, 4, 5, 10, 11, 12],\n",
    "        \"target\": [6, 7, 8, 9],\n",
    "        \"shift_type\": \"month\",\n",
    "    }\n",
    "\n",
    "if SHIFT == \"seasonal_winter\":\n",
    "    exp_params = {\n",
    "        \"source\": [3, 4, 5, 6, 7, 8, 9, 10],\n",
    "        \"target\": [11, 12, 1, 2],\n",
    "        \"shift_type\": \"month\",\n",
    "    }\n",
    "\n",
    "if SHIFT == \"hosp_type_academic\":\n",
    "    exp_params = {\n",
    "        \"source\": ACADEMIC,\n",
    "        \"target\": COMMUNITY,\n",
    "        \"shift_type\": \"hospital_type\",\n",
    "    }\n",
    "\n",
    "if SHIFT == \"hosp_type_community\":\n",
    "    exp_params = {\n",
    "        \"source\": COMMUNITY,\n",
    "        \"target\": ACADEMIC,\n",
    "        \"shift_type\": \"hospital_type\",\n",
    "    }"
   ]
  },
  {
   "cell_type": "markdown",
   "id": "ee047a8c-392e-46c5-8877-37aa9ca4fc15",
   "metadata": {},
   "source": [
    "## Query Data ##"
   ]
  },
  {
   "cell_type": "code",
   "execution_count": null,
   "id": "7651e075-3673-44ec-9196-bf9bee056cfd",
   "metadata": {
    "tags": []
   },
   "outputs": [],
   "source": [
    "admin_data, x, y = get_gemini_data(PATH)\n",
    "\n",
    "\n",
    "(X_tr, y_tr), (X_val, y_val), (X_t, y_t), feats, admin_data = import_dataset_hospital(\n",
    "    admin_data, x, y, SHIFT, OUTCOME, HOSPITALS\n",
    ")\n",
    "\n",
    "x = x.loc[~x.index.get_level_values(0).isin(X_tr.index.get_level_values(0))]\n",
    "\n",
    "# Normalize training data\n",
    "X_tr_normalized = normalize(admin_data, X_tr, AGGREGATION_TYPE, TIMESTEPS)\n",
    "if AGGREGATION_TYPE != \"time\":\n",
    "    y_tr = get_label(admin_data, X_tr, OUTCOME)\n",
    "# Scale training data\n",
    "X_tr_scaled = scale(X_tr_normalized)\n",
    "# Process training data\n",
    "X_tr_final = process(X_tr_scaled, AGGREGATION_TYPE, TIMESTEPS)"
   ]
  },
  {
   "cell_type": "markdown",
   "id": "d0e01447-bc6a-429b-99a6-cdc83b91153f",
   "metadata": {
    "tags": []
   },
   "source": [
    "## Reductor"
   ]
  },
  {
   "cell_type": "code",
   "execution_count": null,
   "id": "c386e22c-2f8a-4b5c-89c9-d4211bd11bea",
   "metadata": {},
   "outputs": [],
   "source": [
    "DR_TECHNIQUE = input(\"Select dimensionality reduction technique: \")\n",
    "\n",
    "reductor = Reductor(\n",
    "    dr_method=DR_TECHNIQUE,\n",
    "    model_path=MODEL_PATH,\n",
    "    n_features=len(feats),\n",
    "    var_ret=0.8,\n",
    ")"
   ]
  },
  {
   "cell_type": "markdown",
   "id": "17fae68e-7d4e-4a6b-900b-bcd2e262aca3",
   "metadata": {},
   "source": [
    "## Two Sample Tester"
   ]
  },
  {
   "cell_type": "code",
   "execution_count": null,
   "id": "52851a31-9b6e-4d5b-9e23-52f83b6b4639",
   "metadata": {},
   "outputs": [],
   "source": [
    "TS_TEST = input(\"Select test method: \")\n",
    "\n",
    "tester = TSTester(\n",
    "    tester_method=TS_TEST,\n",
    ")"
   ]
  },
  {
   "cell_type": "markdown",
   "id": "225c95e0-73b9-44af-a20f-e030a55ead86",
   "metadata": {},
   "source": [
    "## Domain Classifier Tester"
   ]
  },
  {
   "cell_type": "code",
   "execution_count": null,
   "id": "66715f6c-a85e-4af6-b413-2c22c58a92ee",
   "metadata": {},
   "outputs": [],
   "source": [
    "DC_TEST = input(\"Select test method: \")\n",
    "\n",
    "tester = DCTester(\n",
    "    tester_method=DC_TEST,\n",
    ")"
   ]
  },
  {
   "cell_type": "markdown",
   "id": "ad11d8ca-b171-4f8e-a715-36d73f1e1f0d",
   "metadata": {},
   "source": [
    "## Detector"
   ]
  },
  {
   "cell_type": "code",
   "execution_count": null,
   "id": "c2b71002-f587-4f44-96b5-9437c2d27ee6",
   "metadata": {},
   "outputs": [],
   "source": [
    "detector = Detector(reductor=reductor, tester=tester, p_val_threshold=0.05)\n",
    "detector.fit(X_tr_final, model_path=MODEL_PATH, context_type=CONTEXT_TYPE)"
   ]
  },
  {
   "cell_type": "markdown",
   "id": "87a291d7-2e69-44ef-884c-d40bc750d396",
   "metadata": {},
   "source": [
    "## ClinicalShiftApplicator"
   ]
  },
  {
   "cell_type": "code",
   "execution_count": null,
   "id": "c6ecf217-e948-4d98-889a-25f5f867c100",
   "metadata": {},
   "outputs": [],
   "source": [
    "clinicalshiftapplicator = ClinicalShiftApplicator(shift_type=exp_params[\"shift_type\"])\n",
    "\n",
    "experimenter = Experimenter(\n",
    "    detector=detector,\n",
    "    clinicalshiftapplicator=clinicalshiftapplicator,\n",
    "    admin_data=admin_data,\n",
    ")"
   ]
  },
  {
   "cell_type": "markdown",
   "id": "8c4299b2-51dc-4ab1-ac5b-d3de6cf601a7",
   "metadata": {},
   "source": [
    "## Experimenter"
   ]
  },
  {
   "cell_type": "code",
   "execution_count": null,
   "id": "b53edc1b-14ea-43da-a6ef-0f4a6a02e9d5",
   "metadata": {},
   "outputs": [],
   "source": [
    "X_val, X_t = experimenter.apply_clinical_shift(\n",
    "    x, source=exp_params[\"source\"], target=exp_params[\"target\"]\n",
    ")\n",
    "# Normalize data\n",
    "X_val_normalized = normalize(admin_data, X_val, AGGREGATION_TYPE, TIMESTEPS)\n",
    "X_t_normalized = normalize(admin_data, X_t, AGGREGATION_TYPE, TIMESTEPS)\n",
    "\n",
    "if AGGREGATION_TYPE != \"time\":\n",
    "    y_val = get_label(admin_data, X_val, OUTCOME)\n",
    "    y_t = get_label(admin_data, X_t, OUTCOME)\n",
    "\n",
    "# Scale data\n",
    "X_val_scaled = scale(X_val_normalized)\n",
    "X_t_scaled = scale(X_t_normalized)\n",
    "\n",
    "# Process data\n",
    "X_val_final = process(X_val_scaled, AGGREGATION_TYPE, TIMESTEPS)\n",
    "X_t_final = process(X_t_scaled, AGGREGATION_TYPE, TIMESTEPS)\n",
    "\n",
    "val_drift_results = experimenter.detect_shift_samples(\n",
    "    X_val_final, model_path=MODEL_PATH, context_type=CONTEXT_TYPE, n_permutations=100\n",
    ")\n",
    "test_drift_results = experimenter.detect_shift_samples(\n",
    "    X_t_final, model_path=MODEL_PATH, context_type=CONTEXT_TYPE\n",
    ")\n",
    "shift_results = {\"baseline\": val_drift_results, \"experiment\": test_drift_results}"
   ]
  },
  {
   "cell_type": "markdown",
   "id": "607d5cce-a1e4-4f81-8899-093edf72b7f6",
   "metadata": {},
   "source": [
    "## Plot drift results"
   ]
  },
  {
   "cell_type": "markdown",
   "id": "2e70dd62-b577-42f6-a5ff-3808629f9481",
   "metadata": {},
   "source": [
    "### In hospital mortality (Academic --> Community): BBSDs_untrained_FFNN + MMD"
   ]
  },
  {
   "cell_type": "code",
   "execution_count": null,
   "id": "bab2ee81-c0ec-4fcc-baaa-e76406b35021",
   "metadata": {},
   "outputs": [],
   "source": [
    "plot_drift_samples_pval(shift_results, 0.05)"
   ]
  },
  {
   "cell_type": "markdown",
   "id": "47d57612-a8ef-49d6-b3e3-d26185dccff5",
   "metadata": {},
   "source": [
    "### In hospital mortality (Community --> Academic): BBSDs_untrained_FFNN + MMD"
   ]
  },
  {
   "cell_type": "code",
   "execution_count": null,
   "id": "b4948a19-1ed3-4cbf-b0a0-a6fcd59a4691",
   "metadata": {},
   "outputs": [],
   "source": [
    "plot_drift_samples_pval(shift_results, 0.05)"
   ]
  },
  {
   "cell_type": "markdown",
   "id": "66a82024-5afd-4819-a321-0f22ea4492a3",
   "metadata": {},
   "source": [
    "### Mortality decompensation (Community --> Academic): BBSDs_untrained_FFNN + MMD"
   ]
  },
  {
   "cell_type": "code",
   "execution_count": null,
   "id": "ae26361f-54e4-4fd5-905b-30edf13e49a0",
   "metadata": {},
   "outputs": [],
   "source": [
    "plot_drift_samples_pval(shift_results, 0.05)"
   ]
  },
  {
   "cell_type": "markdown",
   "id": "18b210ff-2329-4f79-b84c-2f05a286ee73",
   "metadata": {},
   "source": [
    "### Mortality decompensation (Community --> Academic): BBSDs_trained_LSTM + MMD"
   ]
  },
  {
   "cell_type": "code",
   "execution_count": null,
   "id": "a56a4862-aa03-4089-a89a-98580dfd0a05",
   "metadata": {},
   "outputs": [],
   "source": [
    "plot_drift_samples_pval(shift_results, 0.05)"
   ]
  },
  {
   "cell_type": "markdown",
   "id": "b4f6d688-2b47-4908-8b59-9434c5bb97bc",
   "metadata": {},
   "source": [
    "### Mortality decompensation (Academic --> Community): BBSDs_trained_LSTM + MMD"
   ]
  },
  {
   "cell_type": "code",
   "execution_count": null,
   "id": "695b5c24-beb4-463f-b7da-f2875f9aedab",
   "metadata": {},
   "outputs": [],
   "source": [
    "plot_drift_samples_pval(shift_results, 0.05)"
   ]
  }
 ],
 "metadata": {
  "kernelspec": {
   "display_name": "Python 3.9.7 ('cyclops-4J2PL5I8-py3.9')",
   "language": "python",
   "name": "python3"
  },
  "language_info": {
   "codemirror_mode": {
    "name": "ipython",
    "version": 3
   },
   "file_extension": ".py",
   "mimetype": "text/x-python",
   "name": "python",
   "nbconvert_exporter": "python",
   "pygments_lexer": "ipython3",
   "version": "3.9.7"
  },
  "vscode": {
   "interpreter": {
    "hash": "bd2cd438e1c6ddffa3035fc73b17ac5cc0e0ea8897eb8be17cc645c6abf0c8cc"
   }
  }
 },
 "nbformat": 4,
 "nbformat_minor": 5
}
