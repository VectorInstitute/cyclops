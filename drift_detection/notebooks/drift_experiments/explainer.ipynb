{
 "cells": [
  {
   "cell_type": "markdown",
   "id": "a156747f-9b23-4ec9-8f10-e388d0edbd4f",
   "metadata": {},
   "source": [
    "### Get explainablity scores for model predictions"
   ]
  },
  {
   "cell_type": "code",
   "execution_count": null,
   "id": "28733c0a-df1c-434e-a07b-67bb1a5a9b56",
   "metadata": {},
   "outputs": [],
   "source": [
    "import sys\n",
    "import itertools\n",
    "import os\n",
    "import numpy as np\n",
    "import pandas as pd\n",
    "from cyclops.feature_handler import FeatureHandler\n",
    "\n",
    "sys.path.append('../..')\n",
    "\n",
    "from drift_detector.explainer import Explainer\n",
    "from baseline_models.temporal.pytorch.utils import load_ckp, get_device, get_temporal_model"
   ]
  },
  {
   "cell_type": "markdown",
   "id": "df74c715-2470-4072-a42f-aa3e2fd902e6",
   "metadata": {},
   "source": [
    "## Get temporal data"
   ]
  },
  {
   "cell_type": "code",
   "execution_count": null,
   "id": "063e9085-6ae3-491b-bc20-eb6caeae93fc",
   "metadata": {},
   "outputs": [],
   "source": [
    "DIR = \"/mnt/nfs/project/delirium/drift_exp/JULY-04-2022\"\n",
    "split_type = \"simulated_deployment\"\n",
    "\n",
    "X_train = np.load(os.path.join(DIR, split_type, \"X_train.npy\"))\n",
    "X_val = np.load(os.path.join(DIR, split_type, \"X_val.npy\"))\n",
    "X_test = np.load(os.path.join(DIR, split_type, \"X_test.npy\"))\n",
    "\n",
    "y_train = np.load(os.path.join(DIR, split_type, \"y_train.npy\"))\n",
    "y_val = np.load(os.path.join(DIR, split_type, \"y_val.npy\"))\n",
    "y_test = np.load(os.path.join(DIR, split_type, \"y_test.npy\"))\n",
    "\n",
    "feature_handler = FeatureHandler()\n",
    "feature_handler.load(DIR, \"features\")\n",
    "features = feature_handler.features[\"temporal\"].columns.tolist() + feature_handler.features[\"static\"].columns.tolist()"
   ]
  },
  {
   "cell_type": "markdown",
   "id": "5e13077f-e305-4e76-b699-541acd679a1c",
   "metadata": {},
   "source": [
    "## Get temporal model"
   ]
  },
  {
   "cell_type": "code",
   "execution_count": null,
   "id": "f6fb0b75-10a9-4d3a-84fa-3f64c05b41b2",
   "metadata": {},
   "outputs": [],
   "source": [
    "MODEL_PATH = os.path.join(DIR, \"saved_models\", split_type + \"_lstm.pt\")\n",
    "\n",
    "device = get_device()\n",
    "input_dim = 108\n",
    "hidden_dim = 64\n",
    "layer_dim = 2\n",
    "output_dim = 1\n",
    "dropout = 0.2\n",
    "last_timestep_only = False\n",
    "\n",
    "model_params = {\n",
    "    \"device\": device,\n",
    "    \"input_dim\": input_dim,\n",
    "    \"hidden_dim\": hidden_dim,\n",
    "    \"layer_dim\": layer_dim,\n",
    "    \"output_dim\": output_dim,\n",
    "    \"dropout_prob\": dropout,\n",
    "    \"last_timestep_only\": last_timestep_only,\n",
    "}\n",
    "\n",
    "\n",
    "model = get_temporal_model(model_name, model_params).to(device)\n",
    "\n",
    "model, opt, n_epochs = load_ckp(MODEL_PATH, model)"
   ]
  },
  {
   "cell_type": "markdown",
   "id": "e415b7fe-6c4f-46e6-9814-3faf1aa1520f",
   "metadata": {},
   "source": [
    "## Get static data"
   ]
  },
  {
   "cell_type": "code",
   "execution_count": null,
   "id": "4e9cc00c-e990-406d-bf55-bc63abfa2b3f",
   "metadata": {},
   "outputs": [],
   "source": [
    "PATH = \"/mnt/nfs/project/delirium/drift_exp/JULY-04-2022/\"\n",
    "SHIFT=\"hosp_type_community\"\n",
    "OUTCOME=\"mortality\"\n",
    "TIMESTEPS=6\n",
    "AGGREGATION_TYPE = \"time_flatten\"\n",
    "HOSPITAL = [\"SMH\",\"MSH\",\"THPC\",\"THPM\",\"UHNTG\",\"UHNTW\",\"PMH\"]\n",
    "\n",
    "# Query data\n",
    "admin_data, x, y = get_gemini_data(PATH)\n",
    "# Filter data\n",
    "(X_tr, y_tr), (X_val, y_val), (X_t, y_t), feats, admin_data = import_dataset_hospital(admin_data, x, y, SHIFT, OUTCOME, HOSPITAL, 1, shuffle=True)\n",
    "# Normalize data\n",
    "(X_tr_normalized, y_tr),(X_val_normalized, y_val), (X_t_normalized, y_t) = normalize_data(AGGREGATION_TYPE, admin_data, TIMESTEPS, X_tr, y_tr, X_val, y_val, X_t, y_t)\n",
    "# Scale data\n",
    "X_tr_normalized, X_val_normalized, X_t_normalized = scale_data(numerical_cols, X_tr_normalized, X_val_normalized, X_t_normalized)\n",
    "# Process data\n",
    "X_tr_final, X_val_final, X_t_final = process_data(AGGREGATION_TYPE, TIMESTEPS, X_tr_normalized, X_val_normalized, X_t_normalized)\n"
   ]
  },
  {
   "cell_type": "markdown",
   "id": "cc4ea87d-9864-4691-8055-a499c6c5872d",
   "metadata": {},
   "source": [
    "## Get static model"
   ]
  },
  {
   "cell_type": "code",
   "execution_count": null,
   "id": "adccb41a-85a6-4357-bd67-b29ba6f215b4",
   "metadata": {},
   "outputs": [],
   "source": [
    "\n",
    "MODEL_NAME = input(\"Select Model: \")\n",
    "MODEL_PATH = PATH + \"_\".join([SHIFT, OUTCOME, '_'.join(HOSPITAL), MODEL_NAME]) + \".pkl\"\n",
    "if os.path.exists(MODEL_PATH):\n",
    "    optimised_model = pickle.load(open(MODEL_PATH, \"rb\"))\n",
    "else:\n",
    "    optimised_model = run_model(MODEL_NAME, X_tr_final, y_tr, X_val_final, y_val)\n",
    "    pickle.dump(optimised_model, open(MODEL_PATH, 'wb'))"
   ]
  },
  {
   "cell_type": "markdown",
   "id": "bcdad027-d005-4e36-8e3a-b9b479cf63b5",
   "metadata": {},
   "source": [
    "## Explain difference in model predictions"
   ]
  },
  {
   "cell_type": "code",
   "execution_count": null,
   "id": "b147db78-449a-4393-bf63-e679285bc465",
   "metadata": {},
   "outputs": [],
   "source": [
    "timesteps = ['T1_', 'T2_','T3_','T4_', 'T5_','T6_']\n",
    "\n",
    "flattened_feats = []\n",
    "for ts in timesteps:\n",
    "    flattened_feats.append(ts+features)\n",
    "flattened_feats = list(itertools.chain.from_iterable(flattened_feats))\n",
    "\n",
    "explainer = Explainer(model)\n",
    "explainer.get_explainer()\n",
    "\n",
    "X_val_df = pd.DataFrame(X_val_final, columns=flattened_feats)\n",
    "val_shap_values = explainer.get_shap_values(X_val_df)\n",
    "X_test_df = pd.DataFrame(X_t_final, columns=flattened_feats)\n",
    "test_shap_values = explainer.get_shap_values(X_test_df)\n",
    "\n",
    "diff = np.mean(np.abs(test_shap_values.values), axis=0) - np.mean(\n",
    "    np.abs(val_shap_values.values), axis=0\n",
    ")\n",
    "diff_sorted, feats_sorted = zip(*sorted(zip(diff, flattened_feats), reverse=True))\n",
    "diff_sorted, feats_sorted = zip(\n",
    "    *(((x, y) for x, y in zip(diff_sorted, feats_sorted) if (x > 0.01 or x < -0.01)))\n",
    ")\n",
    "diff_sorted = list(diff_sorted)\n",
    "feats_sorted=list(map(lambda x: x.replace('T1_', '').replace('T2_', '').replace('T3_', '').replace('T4_', '').replace('T5_', '').replace('T6_', ''),feats_sorted))\n",
    "del diff_sorted[5]\n",
    "del feats_sorted[5]\n",
    "fig, ax = plt.subplots(figsize=(12, 12))\n",
    "y_pos = np.arange(len(diff_sorted))\n",
    "ax.barh(y_pos, diff_sorted, align=\"center\")\n",
    "ax.set_yticks(y_pos, labels=feats_sorted)\n",
    "ax.invert_yaxis()  # labels read top-to-bottom\n",
    "ax.set_xlabel(\"Mean Difference in Shap Value\")\n",
    "ax.set_title(\"Features\")\n",
    "plt.show()"
   ]
  }
 ],
 "metadata": {
  "kernelspec": {
   "display_name": "cyclops-KKtuQLwg-py3.9",
   "language": "python",
   "name": "cyclops-kktuqlwg-py3.9"
  },
  "language_info": {
   "codemirror_mode": {
    "name": "ipython",
    "version": 3
   },
   "file_extension": ".py",
   "mimetype": "text/x-python",
   "name": "python",
   "nbconvert_exporter": "python",
   "pygments_lexer": "ipython3",
   "version": "3.9.7"
  }
 },
 "nbformat": 4,
 "nbformat_minor": 5
}
