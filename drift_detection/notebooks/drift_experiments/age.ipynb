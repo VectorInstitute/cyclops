{
 "cells": [
  {
   "cell_type": "code",
   "execution_count": null,
   "id": "swiss-meditation",
   "metadata": {},
   "outputs": [],
   "source": [
    "import os\n",
    "import sys\n",
    "\n",
    "import matplotlib as mpl\n",
    "import matplotlib.pyplot as plt\n",
    "import pandas as pd\n",
    "import scipy.stats as ss\n",
    "from alibi_detect.cd import ChiSquareDrift, MMDDrift, TabularDrift\n",
    "\n",
    "sys.path.append(\"../..\")\n",
    "\n",
    "from baseline_models.static.utils import run_model\n",
    "from drift_detector.experiments import *\n",
    "from drift_detector.explainer import Explainer\n",
    "from drift_detector.plotter import (\n",
    "    brightness,\n",
    "    colors,\n",
    "    colorscale,\n",
    "    errorfill,\n",
    "    linestyles,\n",
    "    markers,\n",
    "    plot_pr,\n",
    "    plot_roc,\n",
    ")\n",
    "from gemini.constants import *\n",
    "from gemini.legacy_utils import FEATURES, import_dataset, import_dataset_hospital\n",
    "from gemini.utils import run_synthetic_shift_experiment"
   ]
  },
  {
   "cell_type": "markdown",
   "id": "orange-fraction",
   "metadata": {},
   "source": [
    "### Load data ###"
   ]
  },
  {
   "cell_type": "code",
   "execution_count": null,
   "id": "divided-lodge",
   "metadata": {},
   "outputs": [],
   "source": [
    "(X_tr, y_tr), (X_val, y_val), (X_t, y_t), orig_dims = import_dataset(\n",
    "    \"los\",\n",
    "    shuffle=True,\n",
    ")\n",
    "(X_t_1, y_t_1) = apply_shift(X_tr, y_tr, X_t, y_t, \"small_gn_shift_0.1\")"
   ]
  },
  {
   "cell_type": "markdown",
   "id": "reflected-summer",
   "metadata": {},
   "source": [
    "### Plot ###"
   ]
  },
  {
   "cell_type": "code",
   "execution_count": null,
   "id": "happy-programmer",
   "metadata": {},
   "outputs": [],
   "source": [
    "fig, ax = plt.subplots(figsize=(11, 6))\n",
    "plt.hist(X_tr[:, 0], bins=50, alpha=0.5, label=\"train\")\n",
    "plt.hist(X_val[:, 0], bins=50, alpha=0.5, label=\"val\")\n",
    "plt.hist(X_t_1[:, 0], bins=50, alpha=0.5, label=\"test+noise\")\n",
    "fig.legend(loc=\"upper right\")\n",
    "plt.show()"
   ]
  },
  {
   "cell_type": "markdown",
   "id": "painted-equivalent",
   "metadata": {},
   "source": [
    "### KS Test ###"
   ]
  },
  {
   "cell_type": "code",
   "execution_count": null,
   "id": "korean-correlation",
   "metadata": {},
   "outputs": [],
   "source": [
    "test_hosp = \"UHNTG\"\n",
    "train_hosp = \"SMH\"\n",
    "(X_tr, y_tr), (X_val, y_val), (X_t, y_t), orig_dims = import_dataset_hospital(\n",
    "    \"los\", [HOSPITAL_ID[train_hosp]], [HOSPITAL_ID[test_hosp]], FEATURES\n",
    ")\n",
    "sample = X_val.shape[0]\n",
    "cd = TabularDrift(X_val, p_val=0.05)\n",
    "preds = cd.predict(\n",
    "    X_t[\n",
    "        0:sample,\n",
    "    ]\n",
    ")\n",
    "labels = [\"No!\", \"Yes!\"]\n",
    "pvals = preds[\"data\"][\"p_val\"]\n",
    "feat_rank = ss.rankdata(pvals)\n",
    "print(\"Drift? {}\".format(labels[preds[\"data\"][\"is_drift\"]]))\n",
    "print(\"\\nTop Drifted Features:\")\n",
    "for i in range(0, len(pvals)):\n",
    "    i = int(i)\n",
    "    if i == 3:\n",
    "        break\n",
    "    n = i + 1\n",
    "    feat_index = np.where(feat_rank == n)[0][0]\n",
    "    print(\"   {} P-value: {}\".format(FEATURES[feat_index], pvals[feat_index]))"
   ]
  },
  {
   "cell_type": "code",
   "execution_count": null,
   "id": "respective-synthetic",
   "metadata": {},
   "outputs": [],
   "source": [
    "label = \"los\"\n",
    "feat_index = np.where(feat_rank == 1)[0][0]\n",
    "fig, ax = plt.subplots(figsize=(11, 6))\n",
    "if FEATURES[feat_index] == \"age\":\n",
    "    plt.hist(X_tr[:, feat_index], bins=50, alpha=0.5, label=train_hosp)\n",
    "    plt.hist(X_val[:, feat_index], bins=50, alpha=0.5, label=train_hosp)\n",
    "    plt.hist(X_t[0:sample, feat_index], bins=50, alpha=0.5, label=test_hosp)\n",
    "else:\n",
    "    # fig.add_axes([0,1])\n",
    "    X_tr = pd.concat(\n",
    "        [pd.DataFrame(X_tr, columns=FEATURES), pd.DataFrame(y_tr, columns=[\"los\"])],\n",
    "        axis=1,\n",
    "    )\n",
    "    X_tr_pos = X_tr.loc[X_tr[label] == 1]\n",
    "    plt.bar([0, 1], np.bincount(X_tr[FEATURES[feat_index]]), color=\"g\")\n",
    "    plt.bar([0, 1], np.bincount(X_tr_pos[FEATURES[feat_index]]), color=\"r\")\n",
    "    #  X_val = pd.concat([pd.DataFrame(X_val,columns=FEATURES),pd.DataFrame(y_val,columns=['los'])],axis=1)\n",
    "    #  X_val_pos = X_val.loc[X_val[label] == 1]\n",
    "    #  plt.bar([0,1],np.bincount(X_val[FEATURES[feat_index]]))\n",
    "    X_t = pd.concat(\n",
    "        [pd.DataFrame(X_t, columns=FEATURES), pd.DataFrame(y_t, columns=[\"los\"])],\n",
    "        axis=1,\n",
    "    )\n",
    "    X_t_pos = X_t.loc[X_t[label] == 1]\n",
    "    plt.bar([0, 1], np.bincount(X_t[FEATURES[feat_index]]), color=\"g\")\n",
    "    plt.bar([0, 1], np.bincount(X_t_pos[FEATURES[feat_index]]), color=\"r\")\n",
    "    #'LOS ',\"LOS > 7 days\"\n",
    "fig.legend(loc=\"upper right\")\n",
    "plt.show()"
   ]
  },
  {
   "cell_type": "markdown",
   "id": "social-domestic",
   "metadata": {},
   "source": [
    "### MMD ###"
   ]
  },
  {
   "cell_type": "code",
   "execution_count": null,
   "id": "sacred-reduction",
   "metadata": {},
   "outputs": [],
   "source": [
    "cd = MMDDrift(\n",
    "    X_val,\n",
    "    backend=\"pytorch\",\n",
    "    p_val=0.05,\n",
    ")\n",
    "preds = cd.predict(\n",
    "    X_t[\n",
    "        0:sample,\n",
    "    ]\n",
    ")\n",
    "print(\n",
    "    \"Drift? {} P-value: {}\".format(\n",
    "        labels[preds[\"data\"][\"is_drift\"]], preds[\"data\"][\"p_val\"]\n",
    "    )\n",
    ")"
   ]
  }
 ],
 "metadata": {
  "kernelspec": {
   "display_name": "cyclops-KKtuQLwg-py3.9",
   "language": "python",
   "name": "cyclops-kktuqlwg-py3.9"
  },
  "language_info": {
   "codemirror_mode": {
    "name": "ipython",
    "version": 3
   },
   "file_extension": ".py",
   "mimetype": "text/x-python",
   "name": "python",
   "nbconvert_exporter": "python",
   "pygments_lexer": "ipython3",
   "version": "3.9.7"
  }
 },
 "nbformat": 4,
 "nbformat_minor": 5
}
