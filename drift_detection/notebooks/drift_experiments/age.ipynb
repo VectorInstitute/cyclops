{
 "cells": [
  {
   "cell_type": "code",
   "execution_count": null,
   "id": "swiss-meditation",
   "metadata": {},
   "outputs": [],
   "source": [
    "import sys\n",
    "import pandas as pd\n",
    "import os\n",
    "from alibi_detect.cd import ChiSquareDrift, TabularDrift, MMDDrift\n",
    "import matplotlib as mpl\n",
    "import matplotlib.pyplot as plt\n",
    "import scipy.stats as ss\n",
    "\n",
    "sys.path.append(\"..\")\n",
    "\n",
    "from drift_detector.explainer import ShiftExplainer\n",
    "from drift_detector.experiments import *\n",
    "from utils.constants import *\n",
    "from utils.plot_utils import errorfill, plot_roc, plot_pr, linestyles, markers, colors, brightness, colorscale\n",
    "from utils.legacy_utils import import_dataset, import_dataset_hospital, FEATURES\n",
    "from utils.utils import run_synthetic_shift_experiment\n",
    "from baseline_models.static.utils import run_model"
   ]
  },
  {
   "cell_type": "markdown",
   "id": "orange-fraction",
   "metadata": {},
   "source": [
    "### Load data ###"
   ]
  },
  {
   "cell_type": "code",
   "execution_count": null,
   "id": "divided-lodge",
   "metadata": {},
   "outputs": [],
   "source": [
    "(X_tr, y_tr), (X_val, y_val), (X_t, y_t), orig_dims = import_dataset('los',shuffle=True,)\n",
    "(X_t_1, y_t_1) = apply_shift(X_tr, y_tr, X_t, y_t, 'small_gn_shift_0.1')"
   ]
  },
  {
   "cell_type": "markdown",
   "id": "reflected-summer",
   "metadata": {},
   "source": [
    "### Plot ###"
   ]
  },
  {
   "cell_type": "code",
   "execution_count": null,
   "id": "happy-programmer",
   "metadata": {},
   "outputs": [],
   "source": [
    "fig, ax = plt.subplots(figsize=(11, 6))\n",
    "plt.hist(X_tr[:,0], bins=50, alpha=0.5,label='train')\n",
    "plt.hist(X_val[:,0], bins=50, alpha=0.5, label='val')\n",
    "plt.hist(X_t_1[:,0], bins=50, alpha=0.5 , label='test+noise')\n",
    "fig.legend(loc='upper right')\n",
    "plt.show()"
   ]
  },
  {
   "cell_type": "markdown",
   "id": "painted-equivalent",
   "metadata": {},
   "source": [
    "### KS Test ###"
   ]
  },
  {
   "cell_type": "code",
   "execution_count": null,
   "id": "korean-correlation",
   "metadata": {},
   "outputs": [],
   "source": [
    "test_hosp='UHNTG'\n",
    "train_hosp='SMH'\n",
    "(X_tr, y_tr), (X_val, y_val), (X_t, y_t), orig_dims = import_dataset_hospital('los',[HOSPITAL_ID[train_hosp]],[HOSPITAL_ID[test_hosp]],FEATURES)\n",
    "sample = X_val.shape[0]\n",
    "cd = TabularDrift(X_val, p_val=.05)\n",
    "preds = cd.predict(X_t[0:sample,])\n",
    "labels = ['No!', 'Yes!']\n",
    "pvals = preds['data']['p_val']\n",
    "feat_rank = ss.rankdata(pvals)\n",
    "print('Drift? {}'.format(labels[preds['data']['is_drift']]))\n",
    "print('\\nTop Drifted Features:')\n",
    "for i in range(0,len(pvals)):\n",
    "    i = int(i)\n",
    "    if i == 3:\n",
    "        break\n",
    "    n = i+1\n",
    "    feat_index = np.where(feat_rank == n)[0][0]\n",
    "    print('   {} P-value: {}'.format(FEATURES[feat_index],pvals[feat_index]))\n"
   ]
  },
  {
   "cell_type": "code",
   "execution_count": null,
   "id": "respective-synthetic",
   "metadata": {},
   "outputs": [],
   "source": [
    "label = 'los'\n",
    "feat_index = np.where(feat_rank == 1)[0][0]\n",
    "fig, ax = plt.subplots(figsize=(11, 6))\n",
    "if FEATURES[feat_index] == \"age\":\n",
    "    plt.hist(X_tr[:,feat_index], bins=50, alpha=0.5,label=train_hosp)\n",
    "    plt.hist(X_val[:,feat_index], bins=50, alpha=0.5, label=train_hosp)\n",
    "    plt.hist(X_t[0:sample,feat_index], bins=50, alpha=0.5 , label=test_hosp)\n",
    "else:\n",
    "    #fig.add_axes([0,1])\n",
    "    X_tr = pd.concat([pd.DataFrame(X_tr,columns=FEATURES),pd.DataFrame(y_tr,columns=['los'])],axis=1)\n",
    "    X_tr_pos = X_tr.loc[X_tr[label] == 1]\n",
    "    plt.bar([0,1],np.bincount(X_tr[FEATURES[feat_index]]),color='g')\n",
    "    plt.bar([0,1],np.bincount(X_tr_pos[FEATURES[feat_index]]),color='r')\n",
    "  #  X_val = pd.concat([pd.DataFrame(X_val,columns=FEATURES),pd.DataFrame(y_val,columns=['los'])],axis=1)\n",
    "  #  X_val_pos = X_val.loc[X_val[label] == 1]\n",
    "  #  plt.bar([0,1],np.bincount(X_val[FEATURES[feat_index]]))\n",
    "    X_t = pd.concat([pd.DataFrame(X_t,columns=FEATURES),pd.DataFrame(y_t,columns=['los'])],axis=1)\n",
    "    X_t_pos = X_t.loc[X_t[label] == 1]  \n",
    "    plt.bar([0,1],np.bincount(X_t[FEATURES[feat_index]]),color='g')\n",
    "    plt.bar([0,1],np.bincount(X_t_pos[FEATURES[feat_index]]),color='r')\n",
    "    #'LOS ',\"LOS > 7 days\"\n",
    "fig.legend(loc='upper right')\n",
    "plt.show()"
   ]
  },
  {
   "cell_type": "markdown",
   "id": "social-domestic",
   "metadata": {},
   "source": [
    "### MMD ###"
   ]
  },
  {
   "cell_type": "code",
   "execution_count": null,
   "id": "sacred-reduction",
   "metadata": {},
   "outputs": [],
   "source": [
    "cd = MMDDrift(X_val, backend='pytorch', p_val=.05,)\n",
    "preds = cd.predict(X_t[0:sample,])\n",
    "print('Drift? {} P-value: {}'.format(labels[preds['data']['is_drift']],preds['data']['p_val']))"
   ]
  }
 ],
 "metadata": {
  "kernelspec": {
   "display_name": "cyclops",
   "language": "python",
   "name": "cyclops"
  },
  "language_info": {
   "codemirror_mode": {
    "name": "ipython",
    "version": 3
   },
   "file_extension": ".py",
   "mimetype": "text/x-python",
   "name": "python",
   "nbconvert_exporter": "python",
   "pygments_lexer": "ipython3",
   "version": "3.9.7"
  }
 },
 "nbformat": 4,
 "nbformat_minor": 5
}
