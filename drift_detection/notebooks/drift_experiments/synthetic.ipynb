{
 "cells": [
  {
   "cell_type": "markdown",
   "id": "7970841a-9b81-4258-aa14-69ce7e44be92",
   "metadata": {},
   "source": [
    "### Synthetic drift detection"
   ]
  },
  {
   "cell_type": "code",
   "execution_count": null,
   "id": "checked-supervisor",
   "metadata": {},
   "outputs": [],
   "source": [
    "import sys\n",
    "import pandas as pd\n",
    "import numpy as np\n",
    "import os\n",
    "from functools import reduce\n",
    "import datetime\n",
    "import matplotlib.pyplot as plt\n",
    "\n",
    "sys.path.append(\"../..\")\n",
    "\n",
    "from gemini.constants import *\n",
    "from gemini.utils import *\n",
    "from drift_detector.plotter import plot_drift_samples_pval, errorfill, plot_roc, plot_pr, linestyles, markers, colors, brightness, colorscale\n",
    "from drift_detector.utils import scale\n",
    "from drift_detector.detector import Detector\n",
    "from drift_detector.reductor import Reductor\n",
    "from drift_detector.tester import TSTester, DCTester\n",
    "from drift_detector.experimenter import Experimenter\n",
    "from drift_detector.synthetic_applicator import SyntheticShiftApplicator, apply_predefined_shift"
   ]
  },
  {
   "cell_type": "markdown",
   "id": "stopped-relevance",
   "metadata": {},
   "source": [
    "## Parameters ##"
   ]
  },
  {
   "cell_type": "code",
   "execution_count": null,
   "id": "retained-characterization",
   "metadata": {},
   "outputs": [],
   "source": [
    "PATH = \"/mnt/nfs/project/delirium/drift_exp/JULY-04-2022/\"\n",
    "MODEL_PATH = \"/mnt/nfs/project/delirium/drift_exp/JULY-04-2022/random/random_lstm.pt\"\n",
    "TIMESTEPS = 6\n",
    "AGGREGATION_TYPE = \"time_flatten\"\n",
    "CONTEXT_TYPE=\"lstm\"\n",
    "REPRESENTATION=\"rf\"\n",
    "HOSPITALS = [\"SMH\", \"MSH\", \"THPC\", \"THPM\", \"UHNTG\", \"UHNTW\", \"PMH\"]\n",
    "OUTCOME = \"mortality\""
   ]
  },
  {
   "cell_type": "markdown",
   "id": "9b601256-e684-42ee-a209-63b67fa2031d",
   "metadata": {},
   "source": [
    "## Query data"
   ]
  },
  {
   "cell_type": "code",
   "execution_count": null,
   "id": "f60048ac-3bb6-4499-a1fd-8fd1f8511aef",
   "metadata": {},
   "outputs": [],
   "source": [
    "admin_data, x, y = get_gemini_data(PATH)"
   ]
  },
  {
   "cell_type": "markdown",
   "id": "417004a3-6fc2-4582-9010-73fc6e9a4690",
   "metadata": {},
   "source": [
    "## Preprocess data"
   ]
  },
  {
   "cell_type": "code",
   "execution_count": null,
   "id": "b6d3e924-718c-4de9-afc4-83869dbcc589",
   "metadata": {},
   "outputs": [],
   "source": [
    "# Get subset\n",
    "(X_tr, y_tr), (X_val, y_val), (X_t, y_t), feats, admin_data = import_dataset_hospital(admin_data, x, y, \"random\", OUTCOME, HOSPITALS)\n",
    "\n",
    "# Normalize data\n",
    "X_tr_normalized  = normalize(AGGREGATION_TYPE, admin_data, TIMESTEPS, X_tr)\n",
    "X_val_normalized = normalize(AGGREGATION_TYPE, admin_data, TIMESTEPS, X_val)\n",
    "X_t_normalized = normalize(AGGREGATION_TYPE, admin_data, TIMESTEPS, X_t)\n",
    "\n",
    "# Get labels\n",
    "y_tr = get_label(admin_data, X_tr, \"mortality\")\n",
    "y_val = get_label(admin_data, X_val, \"mortality\")\n",
    "y_t = get_label(admin_data, X_t, \"mortality\")\n",
    "    \n",
    "# Scale data\n",
    "X_tr_scaled = scale(X_tr_normalized)\n",
    "X_val_scaled = scale(X_val_normalized)\n",
    "X_t_scaled = scale(X_t_normalized)\n",
    "\n",
    "# Process data\n",
    "X_tr_final = process(AGGREGATION_TYPE, TIMESTEPS, X_tr_scaled)\n",
    "X_val_final = process(AGGREGATION_TYPE, TIMESTEPS, X_val_scaled)\n",
    "X_t_final = process(AGGREGATION_TYPE, TIMESTEPS, X_t_scaled)"
   ]
  },
  {
   "cell_type": "markdown",
   "id": "sudden-topic",
   "metadata": {},
   "source": [
    "## Dimensionality reduction ##"
   ]
  },
  {
   "cell_type": "code",
   "execution_count": null,
   "id": "b4a16852-1d47-4039-8c4f-99ae4e304d3c",
   "metadata": {},
   "outputs": [],
   "source": [
    "DR_TECHNIQUE = input(\"Select dimensionality reduction technique: \")\n",
    "\n",
    "reductor = Reductor(\n",
    "    dr_method = DR_TECHNIQUE,\n",
    "    model_path = MODEL_PATH,\n",
    "    var_ret = 0.8,\n",
    ")\n",
    "reductor.fit(X_tr_final)"
   ]
  },
  {
   "cell_type": "markdown",
   "id": "ab062610-69a9-4fca-8538-f6f22f891c42",
   "metadata": {},
   "source": [
    "## Tester ##"
   ]
  },
  {
   "cell_type": "code",
   "execution_count": null,
   "id": "wanted-latin",
   "metadata": {},
   "outputs": [],
   "source": [
    "MD_TEST = input(\"Select test method: \")\n",
    "\n",
    "tester = TSTester(\n",
    "    tester_method=MD_TEST,\n",
    ")"
   ]
  },
  {
   "cell_type": "markdown",
   "id": "86dad896-40f1-45bd-865c-cc3951c4e208",
   "metadata": {},
   "source": [
    "## Detector ##"
   ]
  },
  {
   "cell_type": "code",
   "execution_count": null,
   "id": "horizontal-holiday",
   "metadata": {},
   "outputs": [],
   "source": [
    "detector = Detector(\n",
    "    reductor = reductor,\n",
    "    tester = tester,\n",
    "    p_val_threshold = 0.05,\n",
    ")"
   ]
  },
  {
   "cell_type": "markdown",
   "id": "59821a1c-45ff-4441-bdcc-ec7ba1ed2ef4",
   "metadata": {},
   "source": [
    "## SyntheticShiftApplicator"
   ]
  },
  {
   "cell_type": "code",
   "execution_count": null,
   "id": "d4172254-7215-4ca2-abf1-0095a2e2b785",
   "metadata": {},
   "outputs": [],
   "source": [
    "syntheticshiftapplicator = SyntheticShiftApplicator(\n",
    "    shift_type = \"gn_shift\",\n",
    ") "
   ]
  },
  {
   "cell_type": "markdown",
   "id": "d9bda7e9-a736-40fa-b7ad-ee58132650db",
   "metadata": {},
   "source": [
    "## Run custom experiments"
   ]
  },
  {
   "cell_type": "code",
   "execution_count": null,
   "id": "7d587d8c-b3f1-43ae-b8a1-de90ee70cc3e",
   "metadata": {},
   "outputs": [],
   "source": [
    "experimenter_custom = Experimenter(\n",
    "    detector = detector,\n",
    "    syntheticshiftapplicator = syntheticshiftapplicator,\n",
    "    admin_data = admin_data\n",
    ")\n",
    "\n",
    "X_t_final_shifted = experimenter_custom.apply_synthetic_shift(\n",
    "    X_t_final,\n",
    "    shift_type=\"gn_shift\",\n",
    "    delta=0.01,\n",
    "    noise_amt=0.01,\n",
    "    clip=False\n",
    ")\n",
    "\n",
    "results = experimenter_custom.detect_shift_samples(\n",
    "        X_val_final, \n",
    "        X_t_final_shifted\n",
    "    )\n",
    "\n",
    "results"
   ]
  },
  {
   "cell_type": "markdown",
   "id": "305aebd2-e9d3-4ab7-901a-f51937849ba7",
   "metadata": {},
   "source": [
    "## Run predefined shift experiment"
   ]
  },
  {
   "cell_type": "code",
   "execution_count": null,
   "id": "0f38dc59-5a23-4b07-8e19-7a57ac1c9b87",
   "metadata": {},
   "outputs": [],
   "source": [
    "SHIFT = input(\"Select shift experiment: \")\n",
    "\n",
    "if SHIFT =='ko_shift':\n",
    "    shifts = ['ko_shift_0.1','ko_shift_0.5','ko_shift_1.0']\n",
    "elif SHIFT == 'small_gn_shift':\n",
    "    shifts = ['small_gn_shift_0.1','small_gn_shift_0.5','small_gn_shift_1.0']\n",
    "elif SHIFT == 'medium_gn_shift':\n",
    "    shifts = ['medium_gn_shift_0.1', 'medium_gn_shift_0.5','medium_gn_shift_1.0']\n",
    "elif SHIFT == 'large_gn_shift':\n",
    "    shifts = ['large_gn_shift_0.1','large_gn_shift_0.5','large_gn_shift_1.0']\n",
    "elif SHIFT == 'mfa_shift':\n",
    "    shifts = ['mfa_shift_0.25','mfa_shift_0.5','mfa_shift_0.75']\n",
    "elif SHIFT == 'cp_shift':\n",
    "    shifts = ['cp_shift_0.25','cp_shift_0.75']\n",
    "elif SHIFT == 'small_bn_shift':\n",
    "    shifts = ['small_bn_shift_0.1','small_bn_shift_0.5','small_bn_shift_1.0']\n",
    "elif SHIFT == 'medium_bn_shift':\n",
    "    shifts = ['medium_bn_shift_0.1','medium_bn_shift_0.5','medium_bn_shift_1.0']\n",
    "elif SHIFT == 'large_bn_shift':\n",
    "    shifts = ['large_bn_shift_0.1','large_bn_shift_0.5','large_bn_shift_1.0']"
   ]
  },
  {
   "cell_type": "code",
   "execution_count": null,
   "id": "1a3e927b-cfc2-4950-b982-4eb345e2cade",
   "metadata": {},
   "outputs": [],
   "source": [
    "experimenter_predefined = Experimenter(\n",
    "    detector = detector,\n",
    "    admin_data=admin_data\n",
    ")\n",
    "\n",
    "shift_results = {}\n",
    "for si, shift in enumerate(shifts):\n",
    "    X_t_final_shifted = X_t_final.copy()\n",
    "    X_t_final_shifted, _ = apply_predefined_shift(shift, X=X_t_final_shifted,y=y_t)\n",
    "    results = experimenter_predefined.detect_shift_samples(\n",
    "        X_val_final, \n",
    "        X_t_final_shifted\n",
    "    )\n",
    "    shift_results.update({shift:results}) "
   ]
  },
  {
   "cell_type": "code",
   "execution_count": null,
   "id": "01996cf9-83e3-4dd6-82cd-2abbef8b0748",
   "metadata": {},
   "outputs": [],
   "source": [
    "experimenter_predefined.detect_shift_sample(\n",
    "        X_val_final, \n",
    "        X_t_final_shifted,\n",
    "        sample=100\n",
    ")"
   ]
  },
  {
   "cell_type": "markdown",
   "id": "4278f429-de15-4bc8-a3d5-3449733a2b15",
   "metadata": {},
   "source": [
    "## Plot shift experiments"
   ]
  },
  {
   "cell_type": "code",
   "execution_count": null,
   "id": "c12254d8-ee08-4ff2-ac86-09c9cebebe5b",
   "metadata": {},
   "outputs": [],
   "source": [
    "fig, ax = plt.subplots(figsize=(11, 6))\n",
    "plt.hist(X_val_final[:,0], bins=50, alpha=0.5,label='val',density=True)\n",
    "plt.hist(X_t_final[:,0], bins=50, alpha=0.5,label='test',density=True)\n",
    "plt.hist(X_t_final_shifted[:,0], bins=50, alpha=0.5 , label='test+noise',density=True)\n",
    "fig.legend(loc='upper right')\n",
    "plt.show()"
   ]
  },
  {
   "cell_type": "code",
   "execution_count": null,
   "id": "c90b65c0-82cf-424a-9939-a9167affd309",
   "metadata": {},
   "outputs": [],
   "source": [
    "plot_drift_samples_pval(shift_results, 0.05)"
   ]
  }
 ],
 "metadata": {
  "kernelspec": {
   "display_name": "cyclops-KKtuQLwg-py3.9",
   "language": "python",
   "name": "cyclops-kktuqlwg-py3.9"
  },
  "language_info": {
   "codemirror_mode": {
    "name": "ipython",
    "version": 3
   },
   "file_extension": ".py",
   "mimetype": "text/x-python",
   "name": "python",
   "nbconvert_exporter": "python",
   "pygments_lexer": "ipython3",
   "version": "3.9.7"
  }
 },
 "nbformat": 4,
 "nbformat_minor": 5
}
