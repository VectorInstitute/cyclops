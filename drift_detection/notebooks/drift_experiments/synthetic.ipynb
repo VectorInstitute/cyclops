{
 "cells": [
  {
   "cell_type": "code",
   "execution_count": 1,
   "id": "checked-supervisor",
   "metadata": {
    "scrolled": true
   },
   "outputs": [
    {
     "name": "stderr",
     "output_type": "stream",
     "text": [
      "2022-07-18 14:34:12,159 \u001b[1;37mINFO\u001b[0m cyclops.orm     - Database setup, ready to run queries!\n"
     ]
    }
   ],
   "source": [
    "import sys\n",
    "import pandas as pd\n",
    "import numpy as np\n",
    "import os\n",
    "from functools import reduce\n",
    "import datetime\n",
    "import pickle\n",
    "import matplotlib.pyplot as plt\n",
    "from sklearn.metrics import (\n",
    "    auc,\n",
    "    accuracy_score,\n",
    "    confusion_matrix,\n",
    "    roc_auc_score,\n",
    "    roc_curve,\n",
    "    precision_recall_curve,\n",
    "    average_precision_score,\n",
    ")\n",
    "\n",
    "sys.path.append(\"../..\")\n",
    "\n",
    "from drift_detector.explainer import ShiftExplainer\n",
    "from drift_detector.experiments import *\n",
    "from utils.constants import *\n",
    "from utils.plot_utils import errorfill, plot_roc, plot_pr, linestyles, markers, colors, brightness, colorscale\n",
    "from utils.utils import *\n",
    "from baseline_models.static.utils import run_model"
   ]
  },
  {
   "cell_type": "markdown",
   "id": "stopped-relevance",
   "metadata": {},
   "source": [
    "### Define Parameters ###"
   ]
  },
  {
   "cell_type": "code",
   "execution_count": 14,
   "id": "retained-characterization",
   "metadata": {},
   "outputs": [],
   "source": [
    "PATH = \"/mnt/nfs/project/delirium/drift_exp/JULY-04-2022/\"\n",
    "DATASET = \"gemini\"\n",
    "SAMPLES = [10, 20, 50, 100, 200, 500, 1000]\n",
    "RANDOM_RUNS = 5\n",
    "SIGN_LEVEL = 0.05\n",
    "CALC_ACC = True\n",
    "TIMESTEPS = 6\n",
    "AGGREGATION_TYPE = \"time\"\n",
    "SCALE=True\n",
    "CONTEXT_TYPE=\"lstm\"\n",
    "MODEL_PATH = \"/mnt/nfs/project/delirium/drift_exp/JULY-04-2022/random/random_lstm.pt\"\n",
    "REPRESENTATION=\"rf\"\n",
    "DR_TECHNIQUES = [\"NoRed\"]#[\"NoRed\",\"SRP\", \"PCA\", \"kPCA\", \"Isomap\",\"BBSDs_untrained_FFNN\",\"BBSDs_untrained_LSTM\", \"BBSDs_trained_LSTM\"]\n",
    "MD_TESTS = [\"Context-Aware MMD\"]#[\"LSDD\", \"MMD\", \"LK\",\"Classifier\",\"Context-Aware MMD\"]\n",
    "HOSPITAL = [\"SMH\",\"MSH\",\"THPC\",\"THPM\",\"UHNTG\",\"UHNTW\",\"PMH\"]"
   ]
  },
  {
   "cell_type": "markdown",
   "id": "9b601256-e684-42ee-a209-63b67fa2031d",
   "metadata": {},
   "source": [
    "# Query Data"
   ]
  },
  {
   "cell_type": "code",
   "execution_count": 11,
   "id": "f60048ac-3bb6-4499-a1fd-8fd1f8511aef",
   "metadata": {},
   "outputs": [
    {
     "name": "stderr",
     "output_type": "stream",
     "text": [
      "2022-07-18 14:39:13,889 \u001b[1;37mINFO\u001b[0m cyclops.utils.file - Loading dataframe to /mnt/nfs/project/delirium/drift_exp/JULY-04-2022/aggregated_events.parquet\n"
     ]
    },
    {
     "name": "stdout",
     "output_type": "stream",
     "text": [
      "Load data from aggregated events...\n"
     ]
    },
    {
     "name": "stderr",
     "output_type": "stream",
     "text": [
      "2022-07-18 14:39:14,205 \u001b[1;37mINFO\u001b[0m cyclops.utils.file - Loading dataframe to /mnt/nfs/project/delirium/drift_exp/JULY-04-2022/aggmeta_start_ts.parquet\n",
      "2022-07-18 14:39:14,290 \u001b[1;37mINFO\u001b[0m cyclops.feature_handler - Loading features from file...\n",
      "2022-07-18 14:39:14,292 \u001b[1;37mINFO\u001b[0m cyclops.feature_handler - Found file to load for static features...\n",
      "2022-07-18 14:39:14,295 \u001b[1;37mINFO\u001b[0m cyclops.feature_handler - Successfully loaded static features from file...\n",
      "2022-07-18 14:39:14,402 \u001b[1;37mINFO\u001b[0m cyclops.feature_handler - Found file to load for temporal features...\n"
     ]
    },
    {
     "name": "stdout",
     "output_type": "stream",
     "text": [
      "Load data from feature handler...\n"
     ]
    },
    {
     "name": "stderr",
     "output_type": "stream",
     "text": [
      "2022-07-18 14:39:19,230 \u001b[1;37mINFO\u001b[0m cyclops.feature_handler - Successfully loaded temporal features from file...\n"
     ]
    },
    {
     "name": "stdout",
     "output_type": "stream",
     "text": [
      "Load data from admin data...\n"
     ]
    },
    {
     "name": "stderr",
     "output_type": "stream",
     "text": [
      "2022-07-18 14:39:27,853 \u001b[1;37mINFO\u001b[0m cyclops.utils.file - Loading dataframe to /mnt/nfs/project/delirium/drift_exp/JULY-04-2022/aggmeta_end_ts.parquet\n"
     ]
    }
   ],
   "source": [
    "admin_data, x, y = get_gemini_data(PATH)"
   ]
  },
  {
   "cell_type": "code",
   "execution_count": 12,
   "id": "b6d3e924-718c-4de9-afc4-83869dbcc589",
   "metadata": {},
   "outputs": [
    {
     "name": "stdin",
     "output_type": "stream",
     "text": [
      "Select shift experiment:  small_gn_shift\n",
      "Select outcome variable:  mortality\n"
     ]
    }
   ],
   "source": [
    "SHIFT = input(\"Select shift experiment: \")\n",
    "OUTCOME = input(\"Select outcome variable: \")\n",
    "\n",
    "# Define shift types.\n",
    "if SHIFT =='ko_shift':\n",
    "    shifts = ['ko_shift_0.1','ko_shift_0.5','ko_shift_1.0']\n",
    "elif SHIFT == 'small_gn_shift':\n",
    "    shifts = ['small_gn_shift_0.1','small_gn_shift_0.5','small_gn_shift_1.0']\n",
    "elif SHIFT == 'medium_gn_shift':\n",
    "    shifts = ['medium_gn_shift_0.1', 'medium_gn_shift_0.5','medium_gn_shift_1.0']\n",
    "elif SHIFT == 'large_gn_shift':\n",
    "    shifts = ['large_gn_shift_0.1','large_gn_shift_0.5','large_gn_shift_1.0']\n",
    "elif SHIFT == 'mfa_shift':\n",
    "    shifts = ['mfa_shift_0.25','mfa_shift_0.5','mfa_shift_0.75']\n",
    "elif SHIFT == 'cp_shift':\n",
    "    shifts = ['cp_shift_0.25','cp_shift_0.75']\n",
    "elif SHIFT == 'small_bn_shift':\n",
    "    shifts = ['small_bn_shift_0.1','small_bn_shift_0.5','small_bn_shift_1.0']\n",
    "elif SHIFT == 'medium_bn_shift':\n",
    "    shifts = ['medium_bn_shift_0.1','medium_bn_shift_0.5','medium_bn_shift_1.0']\n",
    "elif SHIFT == 'large_bn_shift':\n",
    "    shifts = ['large_bn_shift_0.1','large_bn_shift_0.5','large_bn_shift_1.0']"
   ]
  },
  {
   "cell_type": "markdown",
   "id": "sudden-topic",
   "metadata": {},
   "source": [
    "## Run Shift Experiments ##"
   ]
  },
  {
   "cell_type": "code",
   "execution_count": null,
   "id": "b4a16852-1d47-4039-8c4f-99ae4e304d3c",
   "metadata": {},
   "outputs": [],
   "source": [
    "if os.path.exists(os.path.join(PATH, '_'.join([SHIFT, '_'.join(HOSPITAL),\"mean_dr_md_pval.pkl\"]))):\n",
    "    with open(os.path.join(PATH, '_'.join([SHIFT, '_'.join(HOSPITAL),\"mean_dr_md_pval.pkl\"])), \"rb\") as f:\n",
    "        mean_shifts_dr_md_pval = pickle.load(f)\n",
    "    with open(os.path.join(PATH, '_'.join([SHIFT, '_'.join(HOSPITAL),\"mean_dr_md_dist.pkl\"])), \"rb\") as f:\n",
    "        mean_shifts_dr_md_dist = pickle.load(f)\n",
    "else:\n",
    "    mean_shifts_dr_md_pval = np.ones((len(shifts), len(DR_TECHNIQUES),len(MD_TESTS),len(SAMPLES))) * (-1)\n",
    "    mean_shifts_dr_md_dist = np.ones((len(shifts), len(DR_TECHNIQUES),len(MD_TESTS),len(SAMPLES))) * (-1)\n",
    "\n",
    "if os.path.exists(os.path.join(PATH, '_'.join([SHIFT, '_'.join(HOSPITAL),\"std_dr_md_pval.pkl\"]))):\n",
    "    with open(os.path.join(PATH, '_'.join([SHIFT, '_'.join(HOSPITAL),\"std_dr_md_pval.pkl\"])), \"rb\") as f:\n",
    "        std_shifts_dr_md_pval = pickle.load(f)\n",
    "    with open(os.path.join(PATH, '_'.join([SHIFT, '_'.join(HOSPITAL),\"std_dr_md_dist.pkl\"])), \"rb\") as f:\n",
    "        std_shifts_dr_md_dist = pickle.load(f)\n",
    "else:\n",
    "    std_shifts_dr_md_pval = np.ones((len(shifts), len(DR_TECHNIQUES),len(MD_TESTS),len(SAMPLES))) * (-1)\n",
    "    std_shifts_dr_md_dist = np.ones((len(shifts), len(DR_TECHNIQUES),len(MD_TESTS),len(SAMPLES))) * (-1)\n",
    "\n",
    "for si, shift in enumerate(shifts):\n",
    "    for di, dr_technique in enumerate(DR_TECHNIQUES):\n",
    "        for mi, md_test in enumerate(MD_TESTS):\n",
    "            if np.any(mean_shifts_dr_md_pval[si, di, mi, :] == -1):\n",
    "                print(\n",
    "                            \"{} | {} | {} \".format(\n",
    "                                shift, dr_technique, md_test\n",
    "                            )\n",
    "                        )\n",
    "                try:\n",
    "                    mean_p_vals, std_p_vals, mean_dist, std_dist = run_synthetic_shift_experiment(\n",
    "                        shift=shift,\n",
    "                        admin_data=admin_data,\n",
    "                        x=x, \n",
    "                        y=y,\n",
    "                        outcome=OUTCOME,\n",
    "                        hospital=HOSPITAL,\n",
    "                        path=PATH,\n",
    "                        aggregation_type=AGGREGATION_TYPE,\n",
    "                        scale=SCALE,\n",
    "                        dr_technique=dr_technique,\n",
    "                        model_path=MODEL_PATH,\n",
    "                        md_test=md_test,\n",
    "                        context_type=CONTEXT_TYPE,\n",
    "                        representation=REPRESENTATION,\n",
    "                        samples=SAMPLES,\n",
    "                        dataset=DATASET,\n",
    "                        sign_level=SIGN_LEVEL,\n",
    "                        timesteps=TIMESTEPS,\n",
    "                        random_runs=RANDOM_RUNS,\n",
    "                        calc_acc=CALC_ACC\n",
    "                    )\n",
    "                    mean_shifts_dr_md_pval[si,di,mi,:] = mean_p_vals\n",
    "                    std_shifts_dr_md_pval[si,di,mi,:] = std_p_vals\n",
    "                    mean_shifts_dr_md_dist[si,di,mi,:] = mean_dist\n",
    "                    std_shifts_dr_md_dist[si,di,mi,:] = std_dist\n",
    "\n",
    "                except ValueError as e:\n",
    "                    print(\"Value Error\")\n",
    "                    pass\n"
   ]
  },
  {
   "cell_type": "code",
   "execution_count": 36,
   "id": "wanted-latin",
   "metadata": {},
   "outputs": [],
   "source": [
    "if not os.path.exists(os.path.join(PATH, '_'.join([SHIFT, '_'.join(HOSPITAL),\"mean_dr_md_pval.pkl\"]))):\n",
    "    with open(os.path.join(PATH, '_'.join([SHIFT, '_'.join(HOSPITAL),\"mean_dr_md_pval.pkl\"])), \"wb\") as f:\n",
    "        pickle.dump(mean_shifts_dr_md_pval, f)\n",
    "    with open(os.path.join(PATH, '_'.join([SHIFT, '_'.join(HOSPITAL),\"mean_dr_md_dist.pkl\"])), \"wb\") as f:\n",
    "        pickle.dump(mean_shifts_dr_md_dist, f)\n",
    "if not os.path.exists(os.path.join(PATH, '_'.join([SHIFT, '_'.join(HOSPITAL),\"_mean_dr_md_pval.pkl\"]))):\n",
    "    with open(os.path.join(PATH, '_'.join([SHIFT, '_'.join(HOSPITAL),\"std_dr_md_pval.pkl\"])), \"wb\") as f:\n",
    "        pickle.dump(std_shifts_dr_md_pval, f)\n",
    "    with open(os.path.join(PATH, '_'.join([SHIFT, '_'.join(HOSPITAL),\"std_dr_md_dist.pkl\"])), \"wb\") as f:\n",
    "        pickle.dump(std_shifts_dr_md_dist, f)"
   ]
  },
  {
   "cell_type": "code",
   "execution_count": 37,
   "id": "horizontal-holiday",
   "metadata": {},
   "outputs": [
    {
     "name": "stdin",
     "output_type": "stream",
     "text": [
      "Select Pre-Processing:  NoRed\n",
      "Select Two-Sample Testing:  LSDD\n"
     ]
    },
    {
     "data": {
      "image/png": "[encoded data removed]",
      "text/plain": [
       "<Figure size 792x576 with 1 Axes>"
      ]
     },
     "metadata": {
      "needs_background": "light"
     },
     "output_type": "display_data"
    }
   ],
   "source": [
    "DIM_RED = input(\"Select Pre-Processing: \")\n",
    "MD_TEST = input(\"Select Two-Sample Testing: \")\n",
    "\n",
    "fig = plt.figure(figsize=(11, 8))\n",
    "for si, shift in enumerate(shifts):\n",
    "    for di, dr_technique in enumerate(dr_techniques):\n",
    "        for mi, md_test in enumerate(md_tests):\n",
    "            if (\n",
    "                    dr_technique == DIM_RED\n",
    "                    and md_test == MD_TEST\n",
    "            ):\n",
    "                errorfill(\n",
    "                    np.array(samples),\n",
    "                    mean_shifts_dr_md_pval[si, di, mi, :],\n",
    "                    std_shifts_dr_md_pval[si, di, mi, :],\n",
    "                    fmt=linestyles[mi] + markers[mi],\n",
    "                    color=colorscale(colors[si], brightness[mi]),\n",
    "                    label=\"%s\" % \"_\".join([shift, dr_technique, md_test]),\n",
    "                )\n",
    "plt.xlabel(\"Number of samples from test\")\n",
    "plt.ylabel(\"$p$-value\")\n",
    "plt.axhline(y=SIGN_LEVEL, color=\"k\")\n",
    "plt.legend()\n",
    "plt.show()"
   ]
  }
 ],
 "metadata": {
  "kernelspec": {
   "display_name": "cyclops-KKtuQLwg-py3.9",
   "language": "python",
   "name": "cyclops-kktuqlwg-py3.9"
  },
  "language_info": {
   "codemirror_mode": {
    "name": "ipython",
    "version": 3
   },
   "file_extension": ".py",
   "mimetype": "text/x-python",
   "name": "python",
   "nbconvert_exporter": "python",
   "pygments_lexer": "ipython3",
   "version": "3.9.7"
  }
 },
 "nbformat": 4,
 "nbformat_minor": 5
}
