{
 "cells": [
  {
   "cell_type": "markdown",
   "id": "10841305-2ca3-4e00-b9ec-dd7cf3c0d69e",
   "metadata": {},
   "source": [
    "# Shared notebook for processing temporal features."
   ]
  },
  {
   "cell_type": "markdown",
   "id": "1b737fc6-e557-453b-9967-8cefe2c8d80a",
   "metadata": {},
   "source": [
    "# Imports"
   ]
  },
  {
   "cell_type": "code",
   "execution_count": 1,
   "id": "a0d37a3f-c67e-4548-93bd-85d39f7d8d6b",
   "metadata": {},
   "outputs": [],
   "source": [
    "from functools import reduce\n",
    "import numpy as np\n",
    "import pandas as pd\n",
    "\n",
    "from cyclops.processors.aggregate import (\n",
    "    Aggregator,\n",
    "    tabular_as_aggregated,\n",
    "    timestamp_ffill_agg,\n",
    ")\n",
    "from cyclops.processors.column_names import (\n",
    "    ADMIT_TIMESTAMP,\n",
    "    DISCHARGE_TIMESTAMP,\n",
    "    ENCOUNTER_ID,\n",
    "    EVENT_NAME,\n",
    "    EVENT_TIMESTAMP,\n",
    "    EVENT_VALUE,\n",
    "    RESTRICT_TIMESTAMP,\n",
    "    TIMESTEP,\n",
    ")\n",
    "from cyclops.processors.column_names import ENCOUNTER_ID\n",
    "from cyclops.processors.constants import FEATURES, NUMERIC, ORDINAL, STANDARD\n",
    "from cyclops.processors.feature.feature import TabularFeatures\n",
    "from cyclops.processors.constants import ALL, FEATURES, MEAN, NUMERIC, ORDINAL, STANDARD\n",
    "from cyclops.processors.feature.feature import TemporalFeatures\n",
    "from cyclops.processors.feature.vectorize import (\n",
    "    Vectorized,\n",
    "    intersect_vectorized,\n",
    "    split_vectorized,\n",
    "    vec_index_exp,\n",
    ")\n",
    "from cyclops.processors.impute import np_ffill_bfill, np_fill_null_num\n",
    "from cyclops.utils.file import (\n",
    "    join,\n",
    "    load_dataframe,\n",
    "    load_pickle,\n",
    "    save_dataframe,\n",
    "    save_pickle,\n",
    "    yield_dataframes,\n",
    "    yield_pickled_files,\n",
    ")\n",
    "from drift_detection.gemini.utils import get_use_case_params"
   ]
  },
  {
   "cell_type": "markdown",
   "id": "fb49c62b-ceae-4827-90c8-d4411619f089",
   "metadata": {},
   "source": [
    "# Choose dataset and use-case"
   ]
  },
  {
   "cell_type": "code",
   "execution_count": 6,
   "id": "85e8cb82-ddad-4362-a450-6c351de6ffd4",
   "metadata": {},
   "outputs": [
    {
     "name": "stdin",
     "output_type": "stream",
     "text": [
      "WARNING: LOADING CONSTANTS FROM <module 'drift_detection.gemini.mortality.constants' from '/mnt/nfs/home/subasriv/cyclops/drift_detection/gemini/mortality/constants.py'> \n"
     ]
    },
    {
     "data": {
      "text/plain": [
       "''"
      ]
     },
     "execution_count": 6,
     "metadata": {},
     "output_type": "execute_result"
    }
   ],
   "source": [
    "DATASET = \"gemini\"\n",
    "USE_CASE = \"mortality\"\n",
    "\n",
    "use_case_params = get_use_case_params(DATASET, USE_CASE)\n",
    "input(f\"WARNING: LOADING CONSTANTS FROM {use_case_params}\")"
   ]
  },
  {
   "cell_type": "code",
   "execution_count": 7,
   "id": "d25686f7-9752-48e1-93a5-5d2ad6a2b52f",
   "metadata": {},
   "outputs": [
    {
     "name": "stderr",
     "output_type": "stream",
     "text": [
      "2022-11-08 19:23:55,265 \u001b[1;37mINFO\u001b[0m cyclops.utils.file - Loading DataFrame from /mnt/nfs/project/delirium/drift_exp/OCT-18-2022/gemini/mortality/./data/encounters.parquet\n"
     ]
    },
    {
     "data": {
      "text/html": [
       "<div>\n",
       "<style scoped>\n",
       "    .dataframe tbody tr th:only-of-type {\n",
       "        vertical-align: middle;\n",
       "    }\n",
       "\n",
       "    .dataframe tbody tr th {\n",
       "        vertical-align: top;\n",
       "    }\n",
       "\n",
       "    .dataframe thead th {\n",
       "        text-align: right;\n",
       "    }\n",
       "</style>\n",
       "<table border=\"1\" class=\"dataframe\">\n",
       "  <thead>\n",
       "    <tr style=\"text-align: right;\">\n",
       "      <th></th>\n",
       "      <th>encounter_id</th>\n",
       "      <th>admit_timestamp</th>\n",
       "      <th>discharge_timestamp</th>\n",
       "      <th>age</th>\n",
       "      <th>sex</th>\n",
       "      <th>hospital_id</th>\n",
       "      <th>outcome_death</th>\n",
       "      <th>readmission</th>\n",
       "      <th>from_nursing_home_mapped</th>\n",
       "      <th>from_acute_care_institution_mapped</th>\n",
       "      <th>los_derived</th>\n",
       "      <th>prev_encounter_count</th>\n",
       "      <th>diagnosis_code</th>\n",
       "      <th>diagnosis_trajectory</th>\n",
       "      <th>admit_via_ambulance</th>\n",
       "      <th>triage_level</th>\n",
       "      <th>deathtime</th>\n",
       "    </tr>\n",
       "  </thead>\n",
       "  <tbody>\n",
       "    <tr>\n",
       "      <th>0</th>\n",
       "      <td>11100040</td>\n",
       "      <td>2018-07-03 21:36:00</td>\n",
       "      <td>2018-08-03 09:35:00</td>\n",
       "      <td>84</td>\n",
       "      <td>M</td>\n",
       "      <td>SMH</td>\n",
       "      <td>False</td>\n",
       "      <td>planned_from_acute</td>\n",
       "      <td>False</td>\n",
       "      <td>False</td>\n",
       "      <td>30.499306</td>\n",
       "      <td>1</td>\n",
       "      <td>G459</td>\n",
       "      <td>G00_G99</td>\n",
       "      <td>ground</td>\n",
       "      <td>resuscitation</td>\n",
       "      <td>NaT</td>\n",
       "    </tr>\n",
       "    <tr>\n",
       "      <th>1</th>\n",
       "      <td>11100041</td>\n",
       "      <td>2016-12-26 18:21:00</td>\n",
       "      <td>2016-12-27 11:00:00</td>\n",
       "      <td>76</td>\n",
       "      <td>F</td>\n",
       "      <td>SMH</td>\n",
       "      <td>False</td>\n",
       "      <td>new_to_acute</td>\n",
       "      <td>False</td>\n",
       "      <td>False</td>\n",
       "      <td>0.693750</td>\n",
       "      <td>0</td>\n",
       "      <td>R55</td>\n",
       "      <td>R00_R99</td>\n",
       "      <td>ground</td>\n",
       "      <td>emergent</td>\n",
       "      <td>NaT</td>\n",
       "    </tr>\n",
       "    <tr>\n",
       "      <th>2</th>\n",
       "      <td>11100072</td>\n",
       "      <td>2016-08-13 15:20:00</td>\n",
       "      <td>2016-08-16 16:45:00</td>\n",
       "      <td>72</td>\n",
       "      <td>F</td>\n",
       "      <td>SMH</td>\n",
       "      <td>False</td>\n",
       "      <td>new_to_acute</td>\n",
       "      <td>False</td>\n",
       "      <td>False</td>\n",
       "      <td>3.059028</td>\n",
       "      <td>0</td>\n",
       "      <td>J441</td>\n",
       "      <td>J00_J99</td>\n",
       "      <td>no_ambulance</td>\n",
       "      <td>emergent</td>\n",
       "      <td>NaT</td>\n",
       "    </tr>\n",
       "    <tr>\n",
       "      <th>3</th>\n",
       "      <td>11100095</td>\n",
       "      <td>2015-12-20 18:36:00</td>\n",
       "      <td>2015-12-30 10:25:00</td>\n",
       "      <td>84</td>\n",
       "      <td>M</td>\n",
       "      <td>SMH</td>\n",
       "      <td>False</td>\n",
       "      <td>unplanned_8_to_28_day_acute</td>\n",
       "      <td>False</td>\n",
       "      <td>False</td>\n",
       "      <td>9.659028</td>\n",
       "      <td>0</td>\n",
       "      <td>T826</td>\n",
       "      <td>S00_T88</td>\n",
       "      <td>no_ambulance</td>\n",
       "      <td>emergent</td>\n",
       "      <td>NaT</td>\n",
       "    </tr>\n",
       "    <tr>\n",
       "      <th>4</th>\n",
       "      <td>11100097</td>\n",
       "      <td>2019-05-23 06:09:00</td>\n",
       "      <td>2019-05-28 13:07:00</td>\n",
       "      <td>65</td>\n",
       "      <td>M</td>\n",
       "      <td>SMH</td>\n",
       "      <td>False</td>\n",
       "      <td>planned_from_acute</td>\n",
       "      <td>True</td>\n",
       "      <td>False</td>\n",
       "      <td>5.290278</td>\n",
       "      <td>7</td>\n",
       "      <td>N390</td>\n",
       "      <td>N00_N99</td>\n",
       "      <td>ground</td>\n",
       "      <td>emergent</td>\n",
       "      <td>NaT</td>\n",
       "    </tr>\n",
       "  </tbody>\n",
       "</table>\n",
       "</div>"
      ],
      "text/plain": [
       "   encounter_id     admit_timestamp discharge_timestamp  age sex hospital_id  \\\n",
       "0      11100040 2018-07-03 21:36:00 2018-08-03 09:35:00   84   M         SMH   \n",
       "1      11100041 2016-12-26 18:21:00 2016-12-27 11:00:00   76   F         SMH   \n",
       "2      11100072 2016-08-13 15:20:00 2016-08-16 16:45:00   72   F         SMH   \n",
       "3      11100095 2015-12-20 18:36:00 2015-12-30 10:25:00   84   M         SMH   \n",
       "4      11100097 2019-05-23 06:09:00 2019-05-28 13:07:00   65   M         SMH   \n",
       "\n",
       "   outcome_death                  readmission  from_nursing_home_mapped  \\\n",
       "0          False           planned_from_acute                     False   \n",
       "1          False                 new_to_acute                     False   \n",
       "2          False                 new_to_acute                     False   \n",
       "3          False  unplanned_8_to_28_day_acute                     False   \n",
       "4          False           planned_from_acute                      True   \n",
       "\n",
       "   from_acute_care_institution_mapped  los_derived  prev_encounter_count  \\\n",
       "0                               False    30.499306                     1   \n",
       "1                               False     0.693750                     0   \n",
       "2                               False     3.059028                     0   \n",
       "3                               False     9.659028                     0   \n",
       "4                               False     5.290278                     7   \n",
       "\n",
       "  diagnosis_code diagnosis_trajectory admit_via_ambulance   triage_level  \\\n",
       "0           G459              G00_G99              ground  resuscitation   \n",
       "1            R55              R00_R99              ground       emergent   \n",
       "2           J441              J00_J99        no_ambulance       emergent   \n",
       "3           T826              S00_T88        no_ambulance       emergent   \n",
       "4           N390              N00_N99              ground       emergent   \n",
       "\n",
       "  deathtime  \n",
       "0       NaT  \n",
       "1       NaT  \n",
       "2       NaT  \n",
       "3       NaT  \n",
       "4       NaT  "
      ]
     },
     "execution_count": 7,
     "metadata": {},
     "output_type": "execute_result"
    }
   ],
   "source": [
    "cohort = load_dataframe(use_case_params.ENCOUNTERS_FILE)\n",
    "cohort = cohort.reset_index(drop=True)\n",
    "cohort.head(5)"
   ]
  },
  {
   "cell_type": "code",
   "execution_count": 8,
   "id": "8ccea95f-17af-4b70-8c6a-990a1ebe00a0",
   "metadata": {},
   "outputs": [
    {
     "name": "stdout",
     "output_type": "stream",
     "text": [
      "admit_via_ambulance mapping:\n",
      "{0: '', 1: 'air', 2: 'ground', 3: 'no_ambulance', 4: 'no_info'}\n"
     ]
    },
    {
     "name": "stderr",
     "output_type": "stream",
     "text": [
      "/mnt/nfs/home/subasriv/cyclops/cyclops/processors/feature/feature.py:700: SettingWithCopyWarning: \n",
      "A value is trying to be set on a copy of a slice from a DataFrame\n",
      "\n",
      "See the caveats in the documentation: https://pandas.pydata.org/pandas-docs/stable/user_guide/indexing.html#returning-a-view-versus-a-copy\n",
      "  data[feat].replace(mapping, inplace=True)\n",
      "/mnt/nfs/home/subasriv/cyclops/cyclops/processors/feature/feature.py:700: SettingWithCopyWarning: \n",
      "A value is trying to be set on a copy of a slice from a DataFrame\n",
      "\n",
      "See the caveats in the documentation: https://pandas.pydata.org/pandas-docs/stable/user_guide/indexing.html#returning-a-view-versus-a-copy\n",
      "  data[feat].replace(mapping, inplace=True)\n",
      "/mnt/nfs/home/subasriv/cyclops/cyclops/processors/feature/feature.py:700: SettingWithCopyWarning: \n",
      "A value is trying to be set on a copy of a slice from a DataFrame\n",
      "\n",
      "See the caveats in the documentation: https://pandas.pydata.org/pandas-docs/stable/user_guide/indexing.html#returning-a-view-versus-a-copy\n",
      "  data[feat].replace(mapping, inplace=True)\n",
      "/mnt/nfs/home/subasriv/cyclops/cyclops/processors/feature/feature.py:700: SettingWithCopyWarning: \n",
      "A value is trying to be set on a copy of a slice from a DataFrame\n",
      "\n",
      "See the caveats in the documentation: https://pandas.pydata.org/pandas-docs/stable/user_guide/indexing.html#returning-a-view-versus-a-copy\n",
      "  data[feat].replace(mapping, inplace=True)\n",
      "/mnt/nfs/home/subasriv/cyclops/cyclops/processors/feature/feature.py:700: SettingWithCopyWarning: \n",
      "A value is trying to be set on a copy of a slice from a DataFrame\n",
      "\n",
      "See the caveats in the documentation: https://pandas.pydata.org/pandas-docs/stable/user_guide/indexing.html#returning-a-view-versus-a-copy\n",
      "  data[feat].replace(mapping, inplace=True)\n",
      "2022-11-08 19:23:58,507 \u001b[1;37mINFO\u001b[0m cyclops.utils.file - Pickling data to /mnt/nfs/project/delirium/drift_exp/OCT-18-2022/gemini/mortality/./data/tab_vectorized.pkl\n",
      "2022-11-08 19:24:01,075 \u001b[1;37mINFO\u001b[0m cyclops.utils.file - Pickling data to /mnt/nfs/project/delirium/drift_exp/OCT-18-2022/gemini/mortality/./data/tab_features.pkl\n"
     ]
    },
    {
     "data": {
      "text/plain": [
       "'/mnt/nfs/project/delirium/drift_exp/OCT-18-2022/gemini/mortality/./data/tab_features.pkl'"
      ]
     },
     "execution_count": 8,
     "metadata": {},
     "output_type": "execute_result"
    }
   ],
   "source": [
    "tab_features = TabularFeatures(\n",
    "    data=cohort,\n",
    "    features=use_case_params.TAB_FEATURES,\n",
    "    by=ENCOUNTER_ID,\n",
    "    force_types=use_case_params.TAB_FEATURES_TYPES,\n",
    ")\n",
    "\n",
    "numeric_features = tab_features.features_by_type(NUMERIC)\n",
    "ordinal_features = tab_features.features_by_type(ORDINAL)\n",
    "\n",
    "if len(ordinal_features) > 0:\n",
    "    print(ordinal_features[0], \"mapping:\")\n",
    "    print(tab_features.meta[ordinal_features[0]].get_mapping())\n",
    "\n",
    "tab_vectorized = tab_features.vectorize(to_binary_indicators=ordinal_features)\n",
    "save_pickle(tab_vectorized, use_case_params.TAB_VECTORIZED_FILE)\n",
    "save_pickle(tab_features, use_case_params.TAB_FEATURES_FILE)"
   ]
  },
  {
   "cell_type": "code",
   "execution_count": 9,
   "id": "4d3f7441-1fa5-4f3e-86d2-13d5ff016849",
   "metadata": {},
   "outputs": [
    {
     "name": "stderr",
     "output_type": "stream",
     "text": [
      "2022-11-08 19:24:01,393 \u001b[1;37mINFO\u001b[0m cyclops.utils.file - Loading DataFrame from /mnt/nfs/project/delirium/drift_exp/OCT-18-2022/gemini/mortality/./data/encounters.parquet\n"
     ]
    },
    {
     "data": {
      "text/html": [
       "<div>\n",
       "<style scoped>\n",
       "    .dataframe tbody tr th:only-of-type {\n",
       "        vertical-align: middle;\n",
       "    }\n",
       "\n",
       "    .dataframe tbody tr th {\n",
       "        vertical-align: top;\n",
       "    }\n",
       "\n",
       "    .dataframe thead th {\n",
       "        text-align: right;\n",
       "    }\n",
       "</style>\n",
       "<table border=\"1\" class=\"dataframe\">\n",
       "  <thead>\n",
       "    <tr style=\"text-align: right;\">\n",
       "      <th></th>\n",
       "      <th>encounter_id</th>\n",
       "      <th>admit_timestamp</th>\n",
       "      <th>discharge_timestamp</th>\n",
       "      <th>age</th>\n",
       "      <th>sex</th>\n",
       "      <th>hospital_id</th>\n",
       "      <th>outcome_death</th>\n",
       "      <th>readmission</th>\n",
       "      <th>from_nursing_home_mapped</th>\n",
       "      <th>from_acute_care_institution_mapped</th>\n",
       "      <th>los_derived</th>\n",
       "      <th>prev_encounter_count</th>\n",
       "      <th>diagnosis_code</th>\n",
       "      <th>diagnosis_trajectory</th>\n",
       "      <th>admit_via_ambulance</th>\n",
       "      <th>triage_level</th>\n",
       "      <th>deathtime</th>\n",
       "    </tr>\n",
       "  </thead>\n",
       "  <tbody>\n",
       "    <tr>\n",
       "      <th>0</th>\n",
       "      <td>11100040</td>\n",
       "      <td>2018-07-03 21:36:00</td>\n",
       "      <td>2018-08-03 09:35:00</td>\n",
       "      <td>84</td>\n",
       "      <td>M</td>\n",
       "      <td>SMH</td>\n",
       "      <td>False</td>\n",
       "      <td>planned_from_acute</td>\n",
       "      <td>False</td>\n",
       "      <td>False</td>\n",
       "      <td>30.499306</td>\n",
       "      <td>1</td>\n",
       "      <td>G459</td>\n",
       "      <td>G00_G99</td>\n",
       "      <td>ground</td>\n",
       "      <td>resuscitation</td>\n",
       "      <td>NaT</td>\n",
       "    </tr>\n",
       "    <tr>\n",
       "      <th>1</th>\n",
       "      <td>11100041</td>\n",
       "      <td>2016-12-26 18:21:00</td>\n",
       "      <td>2016-12-27 11:00:00</td>\n",
       "      <td>76</td>\n",
       "      <td>F</td>\n",
       "      <td>SMH</td>\n",
       "      <td>False</td>\n",
       "      <td>new_to_acute</td>\n",
       "      <td>False</td>\n",
       "      <td>False</td>\n",
       "      <td>0.693750</td>\n",
       "      <td>0</td>\n",
       "      <td>R55</td>\n",
       "      <td>R00_R99</td>\n",
       "      <td>ground</td>\n",
       "      <td>emergent</td>\n",
       "      <td>NaT</td>\n",
       "    </tr>\n",
       "    <tr>\n",
       "      <th>2</th>\n",
       "      <td>11100072</td>\n",
       "      <td>2016-08-13 15:20:00</td>\n",
       "      <td>2016-08-16 16:45:00</td>\n",
       "      <td>72</td>\n",
       "      <td>F</td>\n",
       "      <td>SMH</td>\n",
       "      <td>False</td>\n",
       "      <td>new_to_acute</td>\n",
       "      <td>False</td>\n",
       "      <td>False</td>\n",
       "      <td>3.059028</td>\n",
       "      <td>0</td>\n",
       "      <td>J441</td>\n",
       "      <td>J00_J99</td>\n",
       "      <td>no_ambulance</td>\n",
       "      <td>emergent</td>\n",
       "      <td>NaT</td>\n",
       "    </tr>\n",
       "    <tr>\n",
       "      <th>3</th>\n",
       "      <td>11100095</td>\n",
       "      <td>2015-12-20 18:36:00</td>\n",
       "      <td>2015-12-30 10:25:00</td>\n",
       "      <td>84</td>\n",
       "      <td>M</td>\n",
       "      <td>SMH</td>\n",
       "      <td>False</td>\n",
       "      <td>unplanned_8_to_28_day_acute</td>\n",
       "      <td>False</td>\n",
       "      <td>False</td>\n",
       "      <td>9.659028</td>\n",
       "      <td>0</td>\n",
       "      <td>T826</td>\n",
       "      <td>S00_T88</td>\n",
       "      <td>no_ambulance</td>\n",
       "      <td>emergent</td>\n",
       "      <td>NaT</td>\n",
       "    </tr>\n",
       "    <tr>\n",
       "      <th>4</th>\n",
       "      <td>11100097</td>\n",
       "      <td>2019-05-23 06:09:00</td>\n",
       "      <td>2019-05-28 13:07:00</td>\n",
       "      <td>65</td>\n",
       "      <td>M</td>\n",
       "      <td>SMH</td>\n",
       "      <td>False</td>\n",
       "      <td>planned_from_acute</td>\n",
       "      <td>True</td>\n",
       "      <td>False</td>\n",
       "      <td>5.290278</td>\n",
       "      <td>7</td>\n",
       "      <td>N390</td>\n",
       "      <td>N00_N99</td>\n",
       "      <td>ground</td>\n",
       "      <td>emergent</td>\n",
       "      <td>NaT</td>\n",
       "    </tr>\n",
       "    <tr>\n",
       "      <th>...</th>\n",
       "      <td>...</td>\n",
       "      <td>...</td>\n",
       "      <td>...</td>\n",
       "      <td>...</td>\n",
       "      <td>...</td>\n",
       "      <td>...</td>\n",
       "      <td>...</td>\n",
       "      <td>...</td>\n",
       "      <td>...</td>\n",
       "      <td>...</td>\n",
       "      <td>...</td>\n",
       "      <td>...</td>\n",
       "      <td>...</td>\n",
       "      <td>...</td>\n",
       "      <td>...</td>\n",
       "      <td>...</td>\n",
       "      <td>...</td>\n",
       "    </tr>\n",
       "    <tr>\n",
       "      <th>143044</th>\n",
       "      <td>15999822</td>\n",
       "      <td>2012-04-09 21:44:00</td>\n",
       "      <td>2012-04-10 17:21:00</td>\n",
       "      <td>61</td>\n",
       "      <td>M</td>\n",
       "      <td>THPM</td>\n",
       "      <td>False</td>\n",
       "      <td>new_to_acute</td>\n",
       "      <td>False</td>\n",
       "      <td>False</td>\n",
       "      <td>0.817361</td>\n",
       "      <td>0</td>\n",
       "      <td>I635</td>\n",
       "      <td>I00_I99</td>\n",
       "      <td>ground</td>\n",
       "      <td>emergent</td>\n",
       "      <td>NaT</td>\n",
       "    </tr>\n",
       "    <tr>\n",
       "      <th>143045</th>\n",
       "      <td>15999864</td>\n",
       "      <td>2018-04-30 20:30:00</td>\n",
       "      <td>2018-05-06 12:46:00</td>\n",
       "      <td>58</td>\n",
       "      <td>F</td>\n",
       "      <td>THPC</td>\n",
       "      <td>False</td>\n",
       "      <td>new_to_acute</td>\n",
       "      <td>False</td>\n",
       "      <td>False</td>\n",
       "      <td>5.677778</td>\n",
       "      <td>0</td>\n",
       "      <td>L032</td>\n",
       "      <td>L00_L99</td>\n",
       "      <td>no_ambulance</td>\n",
       "      <td>emergent</td>\n",
       "      <td>NaT</td>\n",
       "    </tr>\n",
       "    <tr>\n",
       "      <th>143046</th>\n",
       "      <td>15999918</td>\n",
       "      <td>2019-09-18 05:59:00</td>\n",
       "      <td>2019-09-20 14:45:00</td>\n",
       "      <td>68</td>\n",
       "      <td>F</td>\n",
       "      <td>THPM</td>\n",
       "      <td>False</td>\n",
       "      <td>new_to_acute</td>\n",
       "      <td>False</td>\n",
       "      <td>False</td>\n",
       "      <td>2.365278</td>\n",
       "      <td>0</td>\n",
       "      <td>R55</td>\n",
       "      <td>R00_R99</td>\n",
       "      <td>ground</td>\n",
       "      <td>emergent</td>\n",
       "      <td>NaT</td>\n",
       "    </tr>\n",
       "    <tr>\n",
       "      <th>143047</th>\n",
       "      <td>15999943</td>\n",
       "      <td>2015-01-17 08:17:00</td>\n",
       "      <td>2015-01-23 11:33:00</td>\n",
       "      <td>78</td>\n",
       "      <td>F</td>\n",
       "      <td>THPM</td>\n",
       "      <td>False</td>\n",
       "      <td>nota</td>\n",
       "      <td>False</td>\n",
       "      <td>False</td>\n",
       "      <td>6.136111</td>\n",
       "      <td>0</td>\n",
       "      <td>J09</td>\n",
       "      <td>J00_J99</td>\n",
       "      <td>ground</td>\n",
       "      <td>urgent</td>\n",
       "      <td>NaT</td>\n",
       "    </tr>\n",
       "    <tr>\n",
       "      <th>143048</th>\n",
       "      <td>15999969</td>\n",
       "      <td>2015-02-17 19:40:00</td>\n",
       "      <td>2015-02-26 11:37:00</td>\n",
       "      <td>76</td>\n",
       "      <td>F</td>\n",
       "      <td>THPM</td>\n",
       "      <td>False</td>\n",
       "      <td>new_to_acute</td>\n",
       "      <td>False</td>\n",
       "      <td>True</td>\n",
       "      <td>8.664583</td>\n",
       "      <td>0</td>\n",
       "      <td>I634</td>\n",
       "      <td>I00_I99</td>\n",
       "      <td>no_info</td>\n",
       "      <td>no_info</td>\n",
       "      <td>NaT</td>\n",
       "    </tr>\n",
       "  </tbody>\n",
       "</table>\n",
       "<p>143049 rows × 17 columns</p>\n",
       "</div>"
      ],
      "text/plain": [
       "        encounter_id     admit_timestamp discharge_timestamp  age sex  \\\n",
       "0           11100040 2018-07-03 21:36:00 2018-08-03 09:35:00   84   M   \n",
       "1           11100041 2016-12-26 18:21:00 2016-12-27 11:00:00   76   F   \n",
       "2           11100072 2016-08-13 15:20:00 2016-08-16 16:45:00   72   F   \n",
       "3           11100095 2015-12-20 18:36:00 2015-12-30 10:25:00   84   M   \n",
       "4           11100097 2019-05-23 06:09:00 2019-05-28 13:07:00   65   M   \n",
       "...              ...                 ...                 ...  ...  ..   \n",
       "143044      15999822 2012-04-09 21:44:00 2012-04-10 17:21:00   61   M   \n",
       "143045      15999864 2018-04-30 20:30:00 2018-05-06 12:46:00   58   F   \n",
       "143046      15999918 2019-09-18 05:59:00 2019-09-20 14:45:00   68   F   \n",
       "143047      15999943 2015-01-17 08:17:00 2015-01-23 11:33:00   78   F   \n",
       "143048      15999969 2015-02-17 19:40:00 2015-02-26 11:37:00   76   F   \n",
       "\n",
       "       hospital_id  outcome_death                  readmission  \\\n",
       "0              SMH          False           planned_from_acute   \n",
       "1              SMH          False                 new_to_acute   \n",
       "2              SMH          False                 new_to_acute   \n",
       "3              SMH          False  unplanned_8_to_28_day_acute   \n",
       "4              SMH          False           planned_from_acute   \n",
       "...            ...            ...                          ...   \n",
       "143044        THPM          False                 new_to_acute   \n",
       "143045        THPC          False                 new_to_acute   \n",
       "143046        THPM          False                 new_to_acute   \n",
       "143047        THPM          False                         nota   \n",
       "143048        THPM          False                 new_to_acute   \n",
       "\n",
       "        from_nursing_home_mapped  from_acute_care_institution_mapped  \\\n",
       "0                          False                               False   \n",
       "1                          False                               False   \n",
       "2                          False                               False   \n",
       "3                          False                               False   \n",
       "4                           True                               False   \n",
       "...                          ...                                 ...   \n",
       "143044                     False                               False   \n",
       "143045                     False                               False   \n",
       "143046                     False                               False   \n",
       "143047                     False                               False   \n",
       "143048                     False                                True   \n",
       "\n",
       "        los_derived  prev_encounter_count diagnosis_code diagnosis_trajectory  \\\n",
       "0         30.499306                     1           G459              G00_G99   \n",
       "1          0.693750                     0            R55              R00_R99   \n",
       "2          3.059028                     0           J441              J00_J99   \n",
       "3          9.659028                     0           T826              S00_T88   \n",
       "4          5.290278                     7           N390              N00_N99   \n",
       "...             ...                   ...            ...                  ...   \n",
       "143044     0.817361                     0           I635              I00_I99   \n",
       "143045     5.677778                     0           L032              L00_L99   \n",
       "143046     2.365278                     0            R55              R00_R99   \n",
       "143047     6.136111                     0            J09              J00_J99   \n",
       "143048     8.664583                     0           I634              I00_I99   \n",
       "\n",
       "       admit_via_ambulance   triage_level deathtime  \n",
       "0                   ground  resuscitation       NaT  \n",
       "1                   ground       emergent       NaT  \n",
       "2             no_ambulance       emergent       NaT  \n",
       "3             no_ambulance       emergent       NaT  \n",
       "4                   ground       emergent       NaT  \n",
       "...                    ...            ...       ...  \n",
       "143044              ground       emergent       NaT  \n",
       "143045        no_ambulance       emergent       NaT  \n",
       "143046              ground       emergent       NaT  \n",
       "143047              ground         urgent       NaT  \n",
       "143048             no_info        no_info       NaT  \n",
       "\n",
       "[143049 rows x 17 columns]"
      ]
     },
     "execution_count": 9,
     "metadata": {},
     "output_type": "execute_result"
    }
   ],
   "source": [
    "load_dataframe(use_case_params.ENCOUNTERS_FILE)"
   ]
  },
  {
   "cell_type": "code",
   "execution_count": 10,
   "id": "70b0b8aa-701d-400b-bbe8-f6ceb0c484f4",
   "metadata": {},
   "outputs": [
    {
     "name": "stderr",
     "output_type": "stream",
     "text": [
      "2022-11-08 19:24:01,655 \u001b[1;37mINFO\u001b[0m cyclops.utils.file - Loading DataFrame from /mnt/nfs/project/delirium/drift_exp/OCT-18-2022/gemini/mortality/./data/encounters.parquet\n"
     ]
    },
    {
     "data": {
      "text/html": [
       "<div>\n",
       "<style scoped>\n",
       "    .dataframe tbody tr th:only-of-type {\n",
       "        vertical-align: middle;\n",
       "    }\n",
       "\n",
       "    .dataframe tbody tr th {\n",
       "        vertical-align: top;\n",
       "    }\n",
       "\n",
       "    .dataframe thead th {\n",
       "        text-align: right;\n",
       "    }\n",
       "</style>\n",
       "<table border=\"1\" class=\"dataframe\">\n",
       "  <thead>\n",
       "    <tr style=\"text-align: right;\">\n",
       "      <th></th>\n",
       "      <th>restrict_timestamp</th>\n",
       "    </tr>\n",
       "    <tr>\n",
       "      <th>encounter_id</th>\n",
       "      <th></th>\n",
       "    </tr>\n",
       "  </thead>\n",
       "  <tbody>\n",
       "    <tr>\n",
       "      <th>11100040</th>\n",
       "      <td>2018-07-03 21:36:00</td>\n",
       "    </tr>\n",
       "    <tr>\n",
       "      <th>11100041</th>\n",
       "      <td>2016-12-26 18:21:00</td>\n",
       "    </tr>\n",
       "    <tr>\n",
       "      <th>11100072</th>\n",
       "      <td>2016-08-13 15:20:00</td>\n",
       "    </tr>\n",
       "    <tr>\n",
       "      <th>11100095</th>\n",
       "      <td>2015-12-20 18:36:00</td>\n",
       "    </tr>\n",
       "    <tr>\n",
       "      <th>11100097</th>\n",
       "      <td>2019-05-23 06:09:00</td>\n",
       "    </tr>\n",
       "    <tr>\n",
       "      <th>...</th>\n",
       "      <td>...</td>\n",
       "    </tr>\n",
       "    <tr>\n",
       "      <th>15999822</th>\n",
       "      <td>2012-04-09 21:44:00</td>\n",
       "    </tr>\n",
       "    <tr>\n",
       "      <th>15999864</th>\n",
       "      <td>2018-04-30 20:30:00</td>\n",
       "    </tr>\n",
       "    <tr>\n",
       "      <th>15999918</th>\n",
       "      <td>2019-09-18 05:59:00</td>\n",
       "    </tr>\n",
       "    <tr>\n",
       "      <th>15999943</th>\n",
       "      <td>2015-01-17 08:17:00</td>\n",
       "    </tr>\n",
       "    <tr>\n",
       "      <th>15999969</th>\n",
       "      <td>2015-02-17 19:40:00</td>\n",
       "    </tr>\n",
       "  </tbody>\n",
       "</table>\n",
       "<p>143049 rows × 1 columns</p>\n",
       "</div>"
      ],
      "text/plain": [
       "              restrict_timestamp\n",
       "encounter_id                    \n",
       "11100040     2018-07-03 21:36:00\n",
       "11100041     2016-12-26 18:21:00\n",
       "11100072     2016-08-13 15:20:00\n",
       "11100095     2015-12-20 18:36:00\n",
       "11100097     2019-05-23 06:09:00\n",
       "...                          ...\n",
       "15999822     2012-04-09 21:44:00\n",
       "15999864     2018-04-30 20:30:00\n",
       "15999918     2019-09-18 05:59:00\n",
       "15999943     2015-01-17 08:17:00\n",
       "15999969     2015-02-17 19:40:00\n",
       "\n",
       "[143049 rows x 1 columns]"
      ]
     },
     "execution_count": 10,
     "metadata": {},
     "output_type": "execute_result"
    }
   ],
   "source": [
    "timestamps = load_dataframe(use_case_params.ENCOUNTERS_FILE)[\n",
    "    [\n",
    "        ENCOUNTER_ID,\n",
    "        ADMIT_TIMESTAMP,\n",
    "        DISCHARGE_TIMESTAMP,\n",
    "        use_case_params.TARGET_TIMESTAMP,\n",
    "    ]\n",
    "]\n",
    "start_timestamps = (\n",
    "    timestamps[[ENCOUNTER_ID, ADMIT_TIMESTAMP]]\n",
    "    .set_index(ENCOUNTER_ID)\n",
    "    .rename({ADMIT_TIMESTAMP: RESTRICT_TIMESTAMP}, axis=1)\n",
    ")\n",
    "start_timestamps"
   ]
  },
  {
   "cell_type": "markdown",
   "id": "2187007a-7fc8-4c33-b60a-44cb05562c16",
   "metadata": {
    "tags": []
   },
   "source": [
    "# Temporal-specific processing"
   ]
  },
  {
   "cell_type": "code",
   "execution_count": 11,
   "id": "10e89fbb-fffe-462c-a1fd-f9f9ce79dcc0",
   "metadata": {},
   "outputs": [
    {
     "data": {
      "text/plain": [
       "Index(['sodium', 'potassium', 'lymphocyte', 'hemoglobin', 'bicarbonate',\n",
       "       'creatinine', 'white blood cell count', 'platelet count',\n",
       "       'mean cell volume', 'hematocrit', 'neutrophils',\n",
       "       'glucose point of care', 'glucose random', 'urinalysis',\n",
       "       'blood urea nitrogen', 'calcium', 'albumin', 'inr', 'x-ray', 'alt',\n",
       "       'alp', 'bilirubin', 'ast', 'pt', 'aptt', 'lactate venous', 'ct',\n",
       "       'troponin', 'arterial pao2', 'arterial paco2', 'unmapped_intervention',\n",
       "       'arterial ph', 'high sensitivity troponin', 'venous pco2', 'ketone',\n",
       "       'tsh', 'ultrasound', 'ldh', 'venous ph', 'urine specific gravity',\n",
       "       'echo', 'vitamin b12', 'lactate arterial', 'urine sodium', 'rbc',\n",
       "       'urine osmolality', 'ferritin', 'serum osmolality', 'mri',\n",
       "       'endoscopy_mapped', 'crp', 'other', 'non-rbc', 'calcium, ionized',\n",
       "       'hba1c', 'interventional', 'esr', 'fibrinogen', 'serum alcohol',\n",
       "       'glucose fasting', 'd-dimer', 'inv_mech_vent_mapped', 'vitamin d',\n",
       "       'dialysis_mapped', 'lipase', 'surgery_mapped', 'influenza'],\n",
       "      dtype='object')"
      ]
     },
     "execution_count": 11,
     "metadata": {},
     "output_type": "execute_result"
    }
   ],
   "source": [
    "# Determine which events to keep\n",
    "# Keep only the most popular events where the values are not null\n",
    "all_top_events = []\n",
    "for i, events in enumerate(yield_dataframes(use_case_params.CLEANED_DIR, log=False)):\n",
    "    top_events = (\n",
    "        events[EVENT_NAME][~events[EVENT_VALUE].isna()]\n",
    "        .value_counts()[: use_case_params.TOP_N_EVENTS]\n",
    "        .index\n",
    "    )\n",
    "\n",
    "    all_top_events.append(top_events)\n",
    "\n",
    "    del events\n",
    "\n",
    "# Take only the events common to every file\n",
    "top_events = reduce(np.intersect1d, tuple(all_top_events))\n",
    "\n",
    "top_events"
   ]
  },
  {
   "cell_type": "code",
   "execution_count": 12,
   "id": "44595c02-6526-4e6e-930d-53d2e4a3481a",
   "metadata": {},
   "outputs": [
    {
     "data": {
      "text/plain": [
       "67"
      ]
     },
     "execution_count": 12,
     "metadata": {},
     "output_type": "execute_result"
    }
   ],
   "source": [
    "len(top_events)"
   ]
  },
  {
   "cell_type": "code",
   "execution_count": 13,
   "id": "f0de07f3-12a3-492d-aa2b-5260480ff962",
   "metadata": {},
   "outputs": [],
   "source": [
    "aggregator = Aggregator(\n",
    "    aggfuncs={EVENT_VALUE: MEAN},\n",
    "    timestamp_col=EVENT_TIMESTAMP,\n",
    "    time_by=ENCOUNTER_ID,\n",
    "    agg_by=[ENCOUNTER_ID, EVENT_NAME],\n",
    "    timestep_size=use_case_params.TIMESTEP_SIZE,\n",
    "    window_duration=use_case_params.WINDOW_DURATION,\n",
    ")"
   ]
  },
  {
   "cell_type": "code",
   "execution_count": 14,
   "id": "afa902f2-6213-4e7d-8ae6-b9c926aa232a",
   "metadata": {},
   "outputs": [
    {
     "name": "stderr",
     "output_type": "stream",
     "text": [
      "2022-11-08 19:24:47,367 \u001b[1;37mINFO\u001b[0m cyclops.processors.clean - Dropped nulls over columns: event_timestamp. Removed 6861 rows.\n",
      "2022-11-08 19:33:30,129 \u001b[1;37mINFO\u001b[0m cyclops.utils.profile - Finished executing function __call__ in 527.408176 s\n",
      "2022-11-08 19:33:30,137 \u001b[1;37mINFO\u001b[0m cyclops.utils.file - Saving dataframe to /mnt/nfs/project/delirium/drift_exp/OCT-18-2022/gemini/mortality/./data/2-agg/batch_0000.parquet\n"
     ]
    }
   ],
   "source": [
    "# Aggregate\n",
    "skip_n = 0\n",
    "generator = yield_dataframes(use_case_params.CLEANED_DIR, skip_n=skip_n, log=False)\n",
    "\n",
    "for save_count, events in enumerate(generator):\n",
    "    # Take only the top events\n",
    "    events = events[events[EVENT_NAME].isin(top_events)]\n",
    "\n",
    "    # Aggregate\n",
    "    events = events.reset_index(drop=True)\n",
    "    tmp_features = TemporalFeatures(\n",
    "        events,\n",
    "        features=EVENT_VALUE,\n",
    "        by=[ENCOUNTER_ID, EVENT_NAME],\n",
    "        timestamp_col=EVENT_TIMESTAMP,\n",
    "        aggregator=aggregator,\n",
    "    )\n",
    "\n",
    "    aggregated = tmp_features.aggregate(window_start_time=start_timestamps)\n",
    "\n",
    "    save_dataframe(\n",
    "        aggregated,\n",
    "        join(use_case_params.AGGREGATED_DIR, \"batch_\" + f\"{save_count + skip_n:04d}\"),\n",
    "    )\n",
    "    del events"
   ]
  },
  {
   "cell_type": "code",
   "execution_count": 15,
   "id": "ff04dfbd-09bf-4f95-be5c-365316989cb6",
   "metadata": {},
   "outputs": [
    {
     "name": "stderr",
     "output_type": "stream",
     "text": [
      "2022-11-08 19:35:10,078 \u001b[1;37mINFO\u001b[0m cyclops.utils.profile - Finished executing function vectorize in 91.606014 s\n",
      "2022-11-08 19:35:10,086 \u001b[1;37mINFO\u001b[0m cyclops.utils.file - Pickling data to /mnt/nfs/project/delirium/drift_exp/OCT-18-2022/gemini/mortality/./data/3-vec/batch_0000.pkl\n"
     ]
    }
   ],
   "source": [
    "# Vectorize\n",
    "skip_n = 0\n",
    "generator = yield_dataframes(use_case_params.AGGREGATED_DIR, skip_n=skip_n, log=False)\n",
    "for save_count, aggregated in enumerate(generator):\n",
    "    vec = aggregator.vectorize(aggregated)\n",
    "    save_pickle(\n",
    "        vec,\n",
    "        join(use_case_params.VECTORIZED_DIR, \"batch_\" + f\"{save_count + skip_n:04d}\"),\n",
    "    )"
   ]
  },
  {
   "cell_type": "code",
   "execution_count": 16,
   "id": "6136fa3e-5df9-4ae0-8306-9e7a045c6742",
   "metadata": {},
   "outputs": [
    {
     "name": "stderr",
     "output_type": "stream",
     "text": [
      "2022-11-08 19:35:21,529 \u001b[1;37mINFO\u001b[0m cyclops.utils.file - Loading pickled data from /mnt/nfs/project/delirium/drift_exp/OCT-18-2022/gemini/mortality/./data/3-vec/batch_0000.pkl\n"
     ]
    }
   ],
   "source": [
    "# Take all Vectorized objects and turn them into a single object\n",
    "vecs = list([vec for vec in yield_pickled_files(use_case_params.VECTORIZED_DIR)])\n",
    "encounter_axis = vecs[0].get_axis(ENCOUNTER_ID)\n",
    "res = np.concatenate([vec.data for vec in vecs], axis=encounter_axis)\n",
    "indexes = vecs[0].indexes\n",
    "indexes[encounter_axis] = np.concatenate([vec.indexes[encounter_axis] for vec in vecs])\n",
    "temp_vectorized = Vectorized(res, indexes, vecs[0].axis_names)\n",
    "del res"
   ]
  },
  {
   "cell_type": "code",
   "execution_count": 17,
   "id": "8cc24eed-f576-4057-9464-9a91b906ceb5",
   "metadata": {},
   "outputs": [
    {
     "data": {
      "text/plain": [
       "(1, 138187, 67, 6)"
      ]
     },
     "execution_count": 17,
     "metadata": {},
     "output_type": "execute_result"
    }
   ],
   "source": [
    "temp_vectorized.shape"
   ]
  },
  {
   "cell_type": "code",
   "execution_count": 18,
   "id": "aa840bb6-043c-466d-8ff1-0418a3ccd394",
   "metadata": {},
   "outputs": [
    {
     "data": {
      "text/plain": [
       "['aggfuncs', 'encounter_id', 'event_name', 'timestep']"
      ]
     },
     "execution_count": 18,
     "metadata": {},
     "output_type": "execute_result"
    }
   ],
   "source": [
    "temp_vectorized.axis_names"
   ]
  },
  {
   "cell_type": "markdown",
   "id": "0d9f6c14-7246-41a9-8f8b-cfcdaad02355",
   "metadata": {},
   "source": [
    "## Target creation"
   ]
  },
  {
   "cell_type": "code",
   "execution_count": 19,
   "id": "09ffdc46-6f93-45a1-a9dd-7621284ac655",
   "metadata": {},
   "outputs": [
    {
     "data": {
      "text/html": [
       "<div>\n",
       "<style scoped>\n",
       "    .dataframe tbody tr th:only-of-type {\n",
       "        vertical-align: middle;\n",
       "    }\n",
       "\n",
       "    .dataframe tbody tr th {\n",
       "        vertical-align: top;\n",
       "    }\n",
       "\n",
       "    .dataframe thead th {\n",
       "        text-align: right;\n",
       "    }\n",
       "</style>\n",
       "<table border=\"1\" class=\"dataframe\">\n",
       "  <thead>\n",
       "    <tr style=\"text-align: right;\">\n",
       "      <th></th>\n",
       "      <th>encounter_id</th>\n",
       "      <th>admit_timestamp</th>\n",
       "      <th>discharge_timestamp</th>\n",
       "      <th>deathtime</th>\n",
       "      <th>target</th>\n",
       "      <th>target_after_admit</th>\n",
       "      <th>target_timestep</th>\n",
       "      <th>discharge_timestamp_after_admit</th>\n",
       "      <th>discharge_timestamp_timestep</th>\n",
       "    </tr>\n",
       "  </thead>\n",
       "  <tbody>\n",
       "    <tr>\n",
       "      <th>0</th>\n",
       "      <td>11100040</td>\n",
       "      <td>2018-07-03 21:36:00</td>\n",
       "      <td>2018-08-03 09:35:00</td>\n",
       "      <td>NaT</td>\n",
       "      <td>NaT</td>\n",
       "      <td>NaT</td>\n",
       "      <td>NaN</td>\n",
       "      <td>30 days 11:59:00</td>\n",
       "      <td>30.0</td>\n",
       "    </tr>\n",
       "    <tr>\n",
       "      <th>1</th>\n",
       "      <td>11100041</td>\n",
       "      <td>2016-12-26 18:21:00</td>\n",
       "      <td>2016-12-27 11:00:00</td>\n",
       "      <td>NaT</td>\n",
       "      <td>NaT</td>\n",
       "      <td>NaT</td>\n",
       "      <td>NaN</td>\n",
       "      <td>0 days 16:39:00</td>\n",
       "      <td>0.0</td>\n",
       "    </tr>\n",
       "    <tr>\n",
       "      <th>2</th>\n",
       "      <td>11100072</td>\n",
       "      <td>2016-08-13 15:20:00</td>\n",
       "      <td>2016-08-16 16:45:00</td>\n",
       "      <td>NaT</td>\n",
       "      <td>NaT</td>\n",
       "      <td>NaT</td>\n",
       "      <td>NaN</td>\n",
       "      <td>3 days 01:25:00</td>\n",
       "      <td>3.0</td>\n",
       "    </tr>\n",
       "    <tr>\n",
       "      <th>3</th>\n",
       "      <td>11100095</td>\n",
       "      <td>2015-12-20 18:36:00</td>\n",
       "      <td>2015-12-30 10:25:00</td>\n",
       "      <td>NaT</td>\n",
       "      <td>NaT</td>\n",
       "      <td>NaT</td>\n",
       "      <td>NaN</td>\n",
       "      <td>9 days 15:49:00</td>\n",
       "      <td>9.0</td>\n",
       "    </tr>\n",
       "    <tr>\n",
       "      <th>4</th>\n",
       "      <td>11100097</td>\n",
       "      <td>2019-05-23 06:09:00</td>\n",
       "      <td>2019-05-28 13:07:00</td>\n",
       "      <td>NaT</td>\n",
       "      <td>NaT</td>\n",
       "      <td>NaT</td>\n",
       "      <td>NaN</td>\n",
       "      <td>5 days 06:58:00</td>\n",
       "      <td>5.0</td>\n",
       "    </tr>\n",
       "    <tr>\n",
       "      <th>...</th>\n",
       "      <td>...</td>\n",
       "      <td>...</td>\n",
       "      <td>...</td>\n",
       "      <td>...</td>\n",
       "      <td>...</td>\n",
       "      <td>...</td>\n",
       "      <td>...</td>\n",
       "      <td>...</td>\n",
       "      <td>...</td>\n",
       "    </tr>\n",
       "    <tr>\n",
       "      <th>143044</th>\n",
       "      <td>15999822</td>\n",
       "      <td>2012-04-09 21:44:00</td>\n",
       "      <td>2012-04-10 17:21:00</td>\n",
       "      <td>NaT</td>\n",
       "      <td>NaT</td>\n",
       "      <td>NaT</td>\n",
       "      <td>NaN</td>\n",
       "      <td>0 days 19:37:00</td>\n",
       "      <td>0.0</td>\n",
       "    </tr>\n",
       "    <tr>\n",
       "      <th>143045</th>\n",
       "      <td>15999864</td>\n",
       "      <td>2018-04-30 20:30:00</td>\n",
       "      <td>2018-05-06 12:46:00</td>\n",
       "      <td>NaT</td>\n",
       "      <td>NaT</td>\n",
       "      <td>NaT</td>\n",
       "      <td>NaN</td>\n",
       "      <td>5 days 16:16:00</td>\n",
       "      <td>5.0</td>\n",
       "    </tr>\n",
       "    <tr>\n",
       "      <th>143046</th>\n",
       "      <td>15999918</td>\n",
       "      <td>2019-09-18 05:59:00</td>\n",
       "      <td>2019-09-20 14:45:00</td>\n",
       "      <td>NaT</td>\n",
       "      <td>NaT</td>\n",
       "      <td>NaT</td>\n",
       "      <td>NaN</td>\n",
       "      <td>2 days 08:46:00</td>\n",
       "      <td>2.0</td>\n",
       "    </tr>\n",
       "    <tr>\n",
       "      <th>143047</th>\n",
       "      <td>15999943</td>\n",
       "      <td>2015-01-17 08:17:00</td>\n",
       "      <td>2015-01-23 11:33:00</td>\n",
       "      <td>NaT</td>\n",
       "      <td>NaT</td>\n",
       "      <td>NaT</td>\n",
       "      <td>NaN</td>\n",
       "      <td>6 days 03:16:00</td>\n",
       "      <td>6.0</td>\n",
       "    </tr>\n",
       "    <tr>\n",
       "      <th>143048</th>\n",
       "      <td>15999969</td>\n",
       "      <td>2015-02-17 19:40:00</td>\n",
       "      <td>2015-02-26 11:37:00</td>\n",
       "      <td>NaT</td>\n",
       "      <td>NaT</td>\n",
       "      <td>NaT</td>\n",
       "      <td>NaN</td>\n",
       "      <td>8 days 15:57:00</td>\n",
       "      <td>8.0</td>\n",
       "    </tr>\n",
       "  </tbody>\n",
       "</table>\n",
       "<p>143049 rows × 9 columns</p>\n",
       "</div>"
      ],
      "text/plain": [
       "        encounter_id     admit_timestamp discharge_timestamp deathtime target  \\\n",
       "0           11100040 2018-07-03 21:36:00 2018-08-03 09:35:00       NaT    NaT   \n",
       "1           11100041 2016-12-26 18:21:00 2016-12-27 11:00:00       NaT    NaT   \n",
       "2           11100072 2016-08-13 15:20:00 2016-08-16 16:45:00       NaT    NaT   \n",
       "3           11100095 2015-12-20 18:36:00 2015-12-30 10:25:00       NaT    NaT   \n",
       "4           11100097 2019-05-23 06:09:00 2019-05-28 13:07:00       NaT    NaT   \n",
       "...              ...                 ...                 ...       ...    ...   \n",
       "143044      15999822 2012-04-09 21:44:00 2012-04-10 17:21:00       NaT    NaT   \n",
       "143045      15999864 2018-04-30 20:30:00 2018-05-06 12:46:00       NaT    NaT   \n",
       "143046      15999918 2019-09-18 05:59:00 2019-09-20 14:45:00       NaT    NaT   \n",
       "143047      15999943 2015-01-17 08:17:00 2015-01-23 11:33:00       NaT    NaT   \n",
       "143048      15999969 2015-02-17 19:40:00 2015-02-26 11:37:00       NaT    NaT   \n",
       "\n",
       "       target_after_admit  target_timestep discharge_timestamp_after_admit  \\\n",
       "0                     NaT              NaN                30 days 11:59:00   \n",
       "1                     NaT              NaN                 0 days 16:39:00   \n",
       "2                     NaT              NaN                 3 days 01:25:00   \n",
       "3                     NaT              NaN                 9 days 15:49:00   \n",
       "4                     NaT              NaN                 5 days 06:58:00   \n",
       "...                   ...              ...                             ...   \n",
       "143044                NaT              NaN                 0 days 19:37:00   \n",
       "143045                NaT              NaN                 5 days 16:16:00   \n",
       "143046                NaT              NaN                 2 days 08:46:00   \n",
       "143047                NaT              NaN                 6 days 03:16:00   \n",
       "143048                NaT              NaN                 8 days 15:57:00   \n",
       "\n",
       "        discharge_timestamp_timestep  \n",
       "0                               30.0  \n",
       "1                                0.0  \n",
       "2                                3.0  \n",
       "3                                9.0  \n",
       "4                                5.0  \n",
       "...                              ...  \n",
       "143044                           0.0  \n",
       "143045                           5.0  \n",
       "143046                           2.0  \n",
       "143047                           6.0  \n",
       "143048                           8.0  \n",
       "\n",
       "[143049 rows x 9 columns]"
      ]
     },
     "execution_count": 19,
     "metadata": {},
     "output_type": "execute_result"
    }
   ],
   "source": [
    "def compute_timestep(timestamps, event):\n",
    "    timestamps[f\"{event}_after_admit\"] = timestamps[event] - timestamps[ADMIT_TIMESTAMP]\n",
    "    timestamps[f\"{event}_timestep\"] = (\n",
    "        timestamps[f\"{event}_after_admit\"]\n",
    "        / pd.Timedelta(f\"{use_case_params.TIMESTEP_SIZE} hour\")\n",
    "    ).apply(np.floor)\n",
    "    return timestamps\n",
    "\n",
    "\n",
    "timestamps[\"target\"] = timestamps[use_case_params.TARGET_TIMESTAMP] - pd.DateOffset(\n",
    "    hours=use_case_params.PREDICT_OFFSET\n",
    ")\n",
    "timestamps = compute_timestep(timestamps, \"target\")\n",
    "timestamps = compute_timestep(timestamps, DISCHARGE_TIMESTAMP)\n",
    "timestamps"
   ]
  },
  {
   "cell_type": "code",
   "execution_count": 20,
   "id": "4008eb58-3a91-4009-8fe9-b1c1ac3ab645",
   "metadata": {},
   "outputs": [
    {
     "data": {
      "text/html": [
       "<div>\n",
       "<style scoped>\n",
       "    .dataframe tbody tr th:only-of-type {\n",
       "        vertical-align: middle;\n",
       "    }\n",
       "\n",
       "    .dataframe tbody tr th {\n",
       "        vertical-align: top;\n",
       "    }\n",
       "\n",
       "    .dataframe thead th {\n",
       "        text-align: right;\n",
       "    }\n",
       "</style>\n",
       "<table border=\"1\" class=\"dataframe\">\n",
       "  <thead>\n",
       "    <tr style=\"text-align: right;\">\n",
       "      <th></th>\n",
       "      <th>encounter_id</th>\n",
       "      <th>admit_timestamp</th>\n",
       "      <th>discharge_timestamp</th>\n",
       "      <th>deathtime</th>\n",
       "      <th>target</th>\n",
       "      <th>target_after_admit</th>\n",
       "      <th>target_timestep</th>\n",
       "      <th>discharge_timestamp_after_admit</th>\n",
       "      <th>discharge_timestamp_timestep</th>\n",
       "    </tr>\n",
       "  </thead>\n",
       "  <tbody>\n",
       "    <tr>\n",
       "      <th>20</th>\n",
       "      <td>11100856</td>\n",
       "      <td>2019-08-11 18:24:00</td>\n",
       "      <td>2019-08-14 17:15:00</td>\n",
       "      <td>2019-08-14 17:15:00</td>\n",
       "      <td>2019-07-31 17:15:00</td>\n",
       "      <td>-12 days +22:51:00</td>\n",
       "      <td>-12.0</td>\n",
       "      <td>2 days 22:51:00</td>\n",
       "      <td>2.0</td>\n",
       "    </tr>\n",
       "    <tr>\n",
       "      <th>32</th>\n",
       "      <td>11101834</td>\n",
       "      <td>2020-03-31 16:43:00</td>\n",
       "      <td>2020-04-06 12:04:00</td>\n",
       "      <td>2020-04-06 12:04:00</td>\n",
       "      <td>2020-03-23 12:04:00</td>\n",
       "      <td>-9 days +19:21:00</td>\n",
       "      <td>-9.0</td>\n",
       "      <td>5 days 19:21:00</td>\n",
       "      <td>5.0</td>\n",
       "    </tr>\n",
       "    <tr>\n",
       "      <th>37</th>\n",
       "      <td>11102089</td>\n",
       "      <td>2011-01-02 17:00:00</td>\n",
       "      <td>2011-01-26 06:00:00</td>\n",
       "      <td>2011-01-26 06:00:00</td>\n",
       "      <td>2011-01-12 06:00:00</td>\n",
       "      <td>9 days 13:00:00</td>\n",
       "      <td>9.0</td>\n",
       "      <td>23 days 13:00:00</td>\n",
       "      <td>23.0</td>\n",
       "    </tr>\n",
       "    <tr>\n",
       "      <th>56</th>\n",
       "      <td>11103117</td>\n",
       "      <td>2019-03-17 23:37:00</td>\n",
       "      <td>2019-04-01 23:03:00</td>\n",
       "      <td>2019-04-01 23:03:00</td>\n",
       "      <td>2019-03-18 23:03:00</td>\n",
       "      <td>0 days 23:26:00</td>\n",
       "      <td>0.0</td>\n",
       "      <td>14 days 23:26:00</td>\n",
       "      <td>14.0</td>\n",
       "    </tr>\n",
       "    <tr>\n",
       "      <th>86</th>\n",
       "      <td>11104649</td>\n",
       "      <td>2017-06-11 16:39:00</td>\n",
       "      <td>2017-06-12 11:30:00</td>\n",
       "      <td>2017-06-12 11:30:00</td>\n",
       "      <td>2017-05-29 11:30:00</td>\n",
       "      <td>-14 days +18:51:00</td>\n",
       "      <td>-14.0</td>\n",
       "      <td>0 days 18:51:00</td>\n",
       "      <td>0.0</td>\n",
       "    </tr>\n",
       "    <tr>\n",
       "      <th>...</th>\n",
       "      <td>...</td>\n",
       "      <td>...</td>\n",
       "      <td>...</td>\n",
       "      <td>...</td>\n",
       "      <td>...</td>\n",
       "      <td>...</td>\n",
       "      <td>...</td>\n",
       "      <td>...</td>\n",
       "      <td>...</td>\n",
       "    </tr>\n",
       "    <tr>\n",
       "      <th>143009</th>\n",
       "      <td>15998960</td>\n",
       "      <td>2010-12-15 17:35:00</td>\n",
       "      <td>2010-12-19 15:00:00</td>\n",
       "      <td>2010-12-19 15:00:00</td>\n",
       "      <td>2010-12-05 15:00:00</td>\n",
       "      <td>-11 days +21:25:00</td>\n",
       "      <td>-11.0</td>\n",
       "      <td>3 days 21:25:00</td>\n",
       "      <td>3.0</td>\n",
       "    </tr>\n",
       "    <tr>\n",
       "      <th>143032</th>\n",
       "      <td>15999355</td>\n",
       "      <td>2011-08-29 21:52:00</td>\n",
       "      <td>2011-09-06 19:45:00</td>\n",
       "      <td>2011-09-06 19:45:00</td>\n",
       "      <td>2011-08-23 19:45:00</td>\n",
       "      <td>-7 days +21:53:00</td>\n",
       "      <td>-7.0</td>\n",
       "      <td>7 days 21:53:00</td>\n",
       "      <td>7.0</td>\n",
       "    </tr>\n",
       "    <tr>\n",
       "      <th>143033</th>\n",
       "      <td>15999370</td>\n",
       "      <td>2017-04-23 15:01:00</td>\n",
       "      <td>2017-04-26 05:07:00</td>\n",
       "      <td>2017-04-26 05:07:00</td>\n",
       "      <td>2017-04-12 05:07:00</td>\n",
       "      <td>-12 days +14:06:00</td>\n",
       "      <td>-12.0</td>\n",
       "      <td>2 days 14:06:00</td>\n",
       "      <td>2.0</td>\n",
       "    </tr>\n",
       "    <tr>\n",
       "      <th>143035</th>\n",
       "      <td>15999393</td>\n",
       "      <td>2017-01-05 16:22:00</td>\n",
       "      <td>2017-01-10 03:55:00</td>\n",
       "      <td>2017-01-10 03:55:00</td>\n",
       "      <td>2016-12-27 03:55:00</td>\n",
       "      <td>-10 days +11:33:00</td>\n",
       "      <td>-10.0</td>\n",
       "      <td>4 days 11:33:00</td>\n",
       "      <td>4.0</td>\n",
       "    </tr>\n",
       "    <tr>\n",
       "      <th>143042</th>\n",
       "      <td>15999640</td>\n",
       "      <td>2014-01-04 16:49:00</td>\n",
       "      <td>2014-02-05 08:35:00</td>\n",
       "      <td>2014-02-05 08:35:00</td>\n",
       "      <td>2014-01-22 08:35:00</td>\n",
       "      <td>17 days 15:46:00</td>\n",
       "      <td>17.0</td>\n",
       "      <td>31 days 15:46:00</td>\n",
       "      <td>31.0</td>\n",
       "    </tr>\n",
       "  </tbody>\n",
       "</table>\n",
       "<p>14838 rows × 9 columns</p>\n",
       "</div>"
      ],
      "text/plain": [
       "        encounter_id     admit_timestamp discharge_timestamp  \\\n",
       "20          11100856 2019-08-11 18:24:00 2019-08-14 17:15:00   \n",
       "32          11101834 2020-03-31 16:43:00 2020-04-06 12:04:00   \n",
       "37          11102089 2011-01-02 17:00:00 2011-01-26 06:00:00   \n",
       "56          11103117 2019-03-17 23:37:00 2019-04-01 23:03:00   \n",
       "86          11104649 2017-06-11 16:39:00 2017-06-12 11:30:00   \n",
       "...              ...                 ...                 ...   \n",
       "143009      15998960 2010-12-15 17:35:00 2010-12-19 15:00:00   \n",
       "143032      15999355 2011-08-29 21:52:00 2011-09-06 19:45:00   \n",
       "143033      15999370 2017-04-23 15:01:00 2017-04-26 05:07:00   \n",
       "143035      15999393 2017-01-05 16:22:00 2017-01-10 03:55:00   \n",
       "143042      15999640 2014-01-04 16:49:00 2014-02-05 08:35:00   \n",
       "\n",
       "                 deathtime              target target_after_admit  \\\n",
       "20     2019-08-14 17:15:00 2019-07-31 17:15:00 -12 days +22:51:00   \n",
       "32     2020-04-06 12:04:00 2020-03-23 12:04:00  -9 days +19:21:00   \n",
       "37     2011-01-26 06:00:00 2011-01-12 06:00:00    9 days 13:00:00   \n",
       "56     2019-04-01 23:03:00 2019-03-18 23:03:00    0 days 23:26:00   \n",
       "86     2017-06-12 11:30:00 2017-05-29 11:30:00 -14 days +18:51:00   \n",
       "...                    ...                 ...                ...   \n",
       "143009 2010-12-19 15:00:00 2010-12-05 15:00:00 -11 days +21:25:00   \n",
       "143032 2011-09-06 19:45:00 2011-08-23 19:45:00  -7 days +21:53:00   \n",
       "143033 2017-04-26 05:07:00 2017-04-12 05:07:00 -12 days +14:06:00   \n",
       "143035 2017-01-10 03:55:00 2016-12-27 03:55:00 -10 days +11:33:00   \n",
       "143042 2014-02-05 08:35:00 2014-01-22 08:35:00   17 days 15:46:00   \n",
       "\n",
       "        target_timestep discharge_timestamp_after_admit  \\\n",
       "20                -12.0                 2 days 22:51:00   \n",
       "32                 -9.0                 5 days 19:21:00   \n",
       "37                  9.0                23 days 13:00:00   \n",
       "56                  0.0                14 days 23:26:00   \n",
       "86                -14.0                 0 days 18:51:00   \n",
       "...                 ...                             ...   \n",
       "143009            -11.0                 3 days 21:25:00   \n",
       "143032             -7.0                 7 days 21:53:00   \n",
       "143033            -12.0                 2 days 14:06:00   \n",
       "143035            -10.0                 4 days 11:33:00   \n",
       "143042             17.0                31 days 15:46:00   \n",
       "\n",
       "        discharge_timestamp_timestep  \n",
       "20                               2.0  \n",
       "32                               5.0  \n",
       "37                              23.0  \n",
       "56                              14.0  \n",
       "86                               0.0  \n",
       "...                              ...  \n",
       "143009                           3.0  \n",
       "143032                           7.0  \n",
       "143033                           2.0  \n",
       "143035                           4.0  \n",
       "143042                          31.0  \n",
       "\n",
       "[14838 rows x 9 columns]"
      ]
     },
     "execution_count": 20,
     "metadata": {},
     "output_type": "execute_result"
    }
   ],
   "source": [
    "timestamps[~timestamps[use_case_params.TARGET_TIMESTAMP].isna()]"
   ]
  },
  {
   "cell_type": "code",
   "execution_count": 21,
   "id": "2f526901-4292-4be6-ae40-e4fe5ea2864f",
   "metadata": {},
   "outputs": [
    {
     "data": {
      "text/html": [
       "<div>\n",
       "<style scoped>\n",
       "    .dataframe tbody tr th:only-of-type {\n",
       "        vertical-align: middle;\n",
       "    }\n",
       "\n",
       "    .dataframe tbody tr th {\n",
       "        vertical-align: top;\n",
       "    }\n",
       "\n",
       "    .dataframe thead th {\n",
       "        text-align: right;\n",
       "    }\n",
       "</style>\n",
       "<table border=\"1\" class=\"dataframe\">\n",
       "  <thead>\n",
       "    <tr style=\"text-align: right;\">\n",
       "      <th></th>\n",
       "      <th>encounter_id</th>\n",
       "    </tr>\n",
       "  </thead>\n",
       "  <tbody>\n",
       "    <tr>\n",
       "      <th>0</th>\n",
       "      <td>11100040</td>\n",
       "    </tr>\n",
       "    <tr>\n",
       "      <th>1</th>\n",
       "      <td>11100041</td>\n",
       "    </tr>\n",
       "    <tr>\n",
       "      <th>2</th>\n",
       "      <td>11100072</td>\n",
       "    </tr>\n",
       "    <tr>\n",
       "      <th>3</th>\n",
       "      <td>11100095</td>\n",
       "    </tr>\n",
       "    <tr>\n",
       "      <th>4</th>\n",
       "      <td>11100097</td>\n",
       "    </tr>\n",
       "    <tr>\n",
       "      <th>...</th>\n",
       "      <td>...</td>\n",
       "    </tr>\n",
       "    <tr>\n",
       "      <th>138182</th>\n",
       "      <td>15999822</td>\n",
       "    </tr>\n",
       "    <tr>\n",
       "      <th>138183</th>\n",
       "      <td>15999864</td>\n",
       "    </tr>\n",
       "    <tr>\n",
       "      <th>138184</th>\n",
       "      <td>15999918</td>\n",
       "    </tr>\n",
       "    <tr>\n",
       "      <th>138185</th>\n",
       "      <td>15999943</td>\n",
       "    </tr>\n",
       "    <tr>\n",
       "      <th>138186</th>\n",
       "      <td>15999969</td>\n",
       "    </tr>\n",
       "  </tbody>\n",
       "</table>\n",
       "<p>138187 rows × 1 columns</p>\n",
       "</div>"
      ],
      "text/plain": [
       "        encounter_id\n",
       "0           11100040\n",
       "1           11100041\n",
       "2           11100072\n",
       "3           11100095\n",
       "4           11100097\n",
       "...              ...\n",
       "138182      15999822\n",
       "138183      15999864\n",
       "138184      15999918\n",
       "138185      15999943\n",
       "138186      15999969\n",
       "\n",
       "[138187 rows x 1 columns]"
      ]
     },
     "execution_count": 21,
     "metadata": {},
     "output_type": "execute_result"
    }
   ],
   "source": [
    "encounter_order = pd.Series(temp_vectorized.get_index(ENCOUNTER_ID))\n",
    "encounter_order = encounter_order.rename(ENCOUNTER_ID).to_frame()\n",
    "encounter_order"
   ]
  },
  {
   "cell_type": "code",
   "execution_count": 22,
   "id": "fb3051ae-e472-45cc-8586-a6ce37997329",
   "metadata": {},
   "outputs": [
    {
     "data": {
      "text/html": [
       "<div>\n",
       "<style scoped>\n",
       "    .dataframe tbody tr th:only-of-type {\n",
       "        vertical-align: middle;\n",
       "    }\n",
       "\n",
       "    .dataframe tbody tr th {\n",
       "        vertical-align: top;\n",
       "    }\n",
       "\n",
       "    .dataframe thead th {\n",
       "        text-align: right;\n",
       "    }\n",
       "</style>\n",
       "<table border=\"1\" class=\"dataframe\">\n",
       "  <thead>\n",
       "    <tr style=\"text-align: right;\">\n",
       "      <th></th>\n",
       "      <th>encounter_id</th>\n",
       "      <th>target_timestep</th>\n",
       "      <th>discharge_timestamp_timestep</th>\n",
       "    </tr>\n",
       "  </thead>\n",
       "  <tbody>\n",
       "    <tr>\n",
       "      <th>0</th>\n",
       "      <td>11100040</td>\n",
       "      <td>NaN</td>\n",
       "      <td>30.0</td>\n",
       "    </tr>\n",
       "    <tr>\n",
       "      <th>1</th>\n",
       "      <td>11100041</td>\n",
       "      <td>NaN</td>\n",
       "      <td>0.0</td>\n",
       "    </tr>\n",
       "    <tr>\n",
       "      <th>2</th>\n",
       "      <td>11100072</td>\n",
       "      <td>NaN</td>\n",
       "      <td>3.0</td>\n",
       "    </tr>\n",
       "    <tr>\n",
       "      <th>3</th>\n",
       "      <td>11100095</td>\n",
       "      <td>NaN</td>\n",
       "      <td>9.0</td>\n",
       "    </tr>\n",
       "    <tr>\n",
       "      <th>4</th>\n",
       "      <td>11100097</td>\n",
       "      <td>NaN</td>\n",
       "      <td>5.0</td>\n",
       "    </tr>\n",
       "    <tr>\n",
       "      <th>...</th>\n",
       "      <td>...</td>\n",
       "      <td>...</td>\n",
       "      <td>...</td>\n",
       "    </tr>\n",
       "    <tr>\n",
       "      <th>138182</th>\n",
       "      <td>15999822</td>\n",
       "      <td>NaN</td>\n",
       "      <td>0.0</td>\n",
       "    </tr>\n",
       "    <tr>\n",
       "      <th>138183</th>\n",
       "      <td>15999864</td>\n",
       "      <td>NaN</td>\n",
       "      <td>5.0</td>\n",
       "    </tr>\n",
       "    <tr>\n",
       "      <th>138184</th>\n",
       "      <td>15999918</td>\n",
       "      <td>NaN</td>\n",
       "      <td>2.0</td>\n",
       "    </tr>\n",
       "    <tr>\n",
       "      <th>138185</th>\n",
       "      <td>15999943</td>\n",
       "      <td>NaN</td>\n",
       "      <td>6.0</td>\n",
       "    </tr>\n",
       "    <tr>\n",
       "      <th>138186</th>\n",
       "      <td>15999969</td>\n",
       "      <td>NaN</td>\n",
       "      <td>8.0</td>\n",
       "    </tr>\n",
       "  </tbody>\n",
       "</table>\n",
       "<p>138187 rows × 3 columns</p>\n",
       "</div>"
      ],
      "text/plain": [
       "        encounter_id  target_timestep  discharge_timestamp_timestep\n",
       "0           11100040              NaN                          30.0\n",
       "1           11100041              NaN                           0.0\n",
       "2           11100072              NaN                           3.0\n",
       "3           11100095              NaN                           9.0\n",
       "4           11100097              NaN                           5.0\n",
       "...              ...              ...                           ...\n",
       "138182      15999822              NaN                           0.0\n",
       "138183      15999864              NaN                           5.0\n",
       "138184      15999918              NaN                           2.0\n",
       "138185      15999943              NaN                           6.0\n",
       "138186      15999969              NaN                           8.0\n",
       "\n",
       "[138187 rows x 3 columns]"
      ]
     },
     "execution_count": 22,
     "metadata": {},
     "output_type": "execute_result"
    }
   ],
   "source": [
    "discharge_timestep = DISCHARGE_TIMESTAMP + \"_timestep\"\n",
    "timesteps = timestamps[[ENCOUNTER_ID, \"target_timestep\", discharge_timestep]]\n",
    "aligned_timestamps = pd.merge(encounter_order, timesteps, on=ENCOUNTER_ID, how=\"left\")\n",
    "aligned_timestamps"
   ]
  },
  {
   "cell_type": "code",
   "execution_count": 23,
   "id": "461e82a1-9f50-4099-9683-d482974db839",
   "metadata": {},
   "outputs": [
    {
     "data": {
      "text/plain": [
       "array([[ 0.,  0.,  0.,  0.,  0.,  0.],\n",
       "       [ 0., -1., -1., -1., -1., -1.],\n",
       "       [ 0.,  0., -1., -1., -1., -1.],\n",
       "       [ 0.,  0.,  0.,  0.,  0.,  0.],\n",
       "       [ 0.,  0.,  0.,  0.,  0.,  0.],\n",
       "       [ 0.,  0.,  0.,  0.,  0.,  0.],\n",
       "       [ 0., -1., -1., -1., -1., -1.],\n",
       "       [ 0.,  0.,  0.,  0.,  0., -1.],\n",
       "       [ 0.,  0.,  0.,  0.,  0.,  0.],\n",
       "       [ 0.,  0.,  0.,  0.,  0.,  0.],\n",
       "       [ 0.,  0.,  0., -1., -1., -1.],\n",
       "       [ 0.,  0.,  0.,  0.,  0.,  0.],\n",
       "       [ 1.,  1.,  1.,  1.,  1.,  1.],\n",
       "       [ 0.,  0.,  0.,  0.,  0.,  0.],\n",
       "       [ 0.,  0.,  0., -1., -1., -1.],\n",
       "       [-1., -1., -1., -1., -1., -1.],\n",
       "       [ 0.,  0., -1., -1., -1., -1.],\n",
       "       [ 0.,  0.,  0.,  0.,  0.,  0.],\n",
       "       [ 0.,  0.,  0.,  0.,  0.,  0.],\n",
       "       [-1., -1., -1., -1., -1., -1.]])"
      ]
     },
     "execution_count": 23,
     "metadata": {},
     "output_type": "execute_result"
    }
   ],
   "source": [
    "num_timesteps = int(use_case_params.WINDOW_DURATION / use_case_params.TIMESTEP_SIZE)\n",
    "shape = (len(aligned_timestamps), num_timesteps)\n",
    "\n",
    "arr1 = timestamp_ffill_agg(\n",
    "    aligned_timestamps[\"target_timestep\"], num_timesteps, fill_nan=2\n",
    ")\n",
    "arr2 = timestamp_ffill_agg(\n",
    "    aligned_timestamps[discharge_timestep], num_timesteps, val=-1, fill_nan=2\n",
    ")\n",
    "targets = np.minimum(arr1, arr2)\n",
    "targets[targets == 2] = 0\n",
    "targets[126:146]"
   ]
  },
  {
   "cell_type": "code",
   "execution_count": 24,
   "id": "bede3ff8-3d76-4139-914a-de8239d20d73",
   "metadata": {},
   "outputs": [
    {
     "data": {
      "text/html": [
       "<div>\n",
       "<style scoped>\n",
       "    .dataframe tbody tr th:only-of-type {\n",
       "        vertical-align: middle;\n",
       "    }\n",
       "\n",
       "    .dataframe tbody tr th {\n",
       "        vertical-align: top;\n",
       "    }\n",
       "\n",
       "    .dataframe thead th {\n",
       "        text-align: right;\n",
       "    }\n",
       "</style>\n",
       "<table border=\"1\" class=\"dataframe\">\n",
       "  <thead>\n",
       "    <tr style=\"text-align: right;\">\n",
       "      <th></th>\n",
       "      <th>encounter_id</th>\n",
       "      <th>target_timestep</th>\n",
       "      <th>discharge_timestamp_timestep</th>\n",
       "    </tr>\n",
       "  </thead>\n",
       "  <tbody>\n",
       "    <tr>\n",
       "      <th>126</th>\n",
       "      <td>11106664</td>\n",
       "      <td>NaN</td>\n",
       "      <td>20.0</td>\n",
       "    </tr>\n",
       "    <tr>\n",
       "      <th>127</th>\n",
       "      <td>11106666</td>\n",
       "      <td>NaN</td>\n",
       "      <td>1.0</td>\n",
       "    </tr>\n",
       "    <tr>\n",
       "      <th>128</th>\n",
       "      <td>11106673</td>\n",
       "      <td>NaN</td>\n",
       "      <td>2.0</td>\n",
       "    </tr>\n",
       "    <tr>\n",
       "      <th>129</th>\n",
       "      <td>11106716</td>\n",
       "      <td>NaN</td>\n",
       "      <td>14.0</td>\n",
       "    </tr>\n",
       "    <tr>\n",
       "      <th>130</th>\n",
       "      <td>11106811</td>\n",
       "      <td>NaN</td>\n",
       "      <td>6.0</td>\n",
       "    </tr>\n",
       "    <tr>\n",
       "      <th>131</th>\n",
       "      <td>11106827</td>\n",
       "      <td>NaN</td>\n",
       "      <td>10.0</td>\n",
       "    </tr>\n",
       "    <tr>\n",
       "      <th>132</th>\n",
       "      <td>11106961</td>\n",
       "      <td>NaN</td>\n",
       "      <td>1.0</td>\n",
       "    </tr>\n",
       "    <tr>\n",
       "      <th>133</th>\n",
       "      <td>11106980</td>\n",
       "      <td>NaN</td>\n",
       "      <td>5.0</td>\n",
       "    </tr>\n",
       "    <tr>\n",
       "      <th>134</th>\n",
       "      <td>11107038</td>\n",
       "      <td>NaN</td>\n",
       "      <td>10.0</td>\n",
       "    </tr>\n",
       "    <tr>\n",
       "      <th>135</th>\n",
       "      <td>11107053</td>\n",
       "      <td>NaN</td>\n",
       "      <td>17.0</td>\n",
       "    </tr>\n",
       "    <tr>\n",
       "      <th>136</th>\n",
       "      <td>11107078</td>\n",
       "      <td>NaN</td>\n",
       "      <td>3.0</td>\n",
       "    </tr>\n",
       "    <tr>\n",
       "      <th>137</th>\n",
       "      <td>11107115</td>\n",
       "      <td>NaN</td>\n",
       "      <td>40.0</td>\n",
       "    </tr>\n",
       "    <tr>\n",
       "      <th>138</th>\n",
       "      <td>11107136</td>\n",
       "      <td>0.0</td>\n",
       "      <td>14.0</td>\n",
       "    </tr>\n",
       "    <tr>\n",
       "      <th>139</th>\n",
       "      <td>11107158</td>\n",
       "      <td>NaN</td>\n",
       "      <td>6.0</td>\n",
       "    </tr>\n",
       "    <tr>\n",
       "      <th>140</th>\n",
       "      <td>11107168</td>\n",
       "      <td>NaN</td>\n",
       "      <td>3.0</td>\n",
       "    </tr>\n",
       "    <tr>\n",
       "      <th>141</th>\n",
       "      <td>11107343</td>\n",
       "      <td>NaN</td>\n",
       "      <td>0.0</td>\n",
       "    </tr>\n",
       "    <tr>\n",
       "      <th>142</th>\n",
       "      <td>11107385</td>\n",
       "      <td>NaN</td>\n",
       "      <td>2.0</td>\n",
       "    </tr>\n",
       "    <tr>\n",
       "      <th>143</th>\n",
       "      <td>11107434</td>\n",
       "      <td>NaN</td>\n",
       "      <td>11.0</td>\n",
       "    </tr>\n",
       "    <tr>\n",
       "      <th>144</th>\n",
       "      <td>11107453</td>\n",
       "      <td>NaN</td>\n",
       "      <td>10.0</td>\n",
       "    </tr>\n",
       "    <tr>\n",
       "      <th>145</th>\n",
       "      <td>11107463</td>\n",
       "      <td>NaN</td>\n",
       "      <td>0.0</td>\n",
       "    </tr>\n",
       "  </tbody>\n",
       "</table>\n",
       "</div>"
      ],
      "text/plain": [
       "     encounter_id  target_timestep  discharge_timestamp_timestep\n",
       "126      11106664              NaN                          20.0\n",
       "127      11106666              NaN                           1.0\n",
       "128      11106673              NaN                           2.0\n",
       "129      11106716              NaN                          14.0\n",
       "130      11106811              NaN                           6.0\n",
       "131      11106827              NaN                          10.0\n",
       "132      11106961              NaN                           1.0\n",
       "133      11106980              NaN                           5.0\n",
       "134      11107038              NaN                          10.0\n",
       "135      11107053              NaN                          17.0\n",
       "136      11107078              NaN                           3.0\n",
       "137      11107115              NaN                          40.0\n",
       "138      11107136              0.0                          14.0\n",
       "139      11107158              NaN                           6.0\n",
       "140      11107168              NaN                           3.0\n",
       "141      11107343              NaN                           0.0\n",
       "142      11107385              NaN                           2.0\n",
       "143      11107434              NaN                          11.0\n",
       "144      11107453              NaN                          10.0\n",
       "145      11107463              NaN                           0.0"
      ]
     },
     "execution_count": 24,
     "metadata": {},
     "output_type": "execute_result"
    }
   ],
   "source": [
    "aligned_timestamps.iloc[126:146]"
   ]
  },
  {
   "cell_type": "code",
   "execution_count": 25,
   "id": "cd397c63-3626-4feb-9b86-c2b6a24216f4",
   "metadata": {},
   "outputs": [
    {
     "data": {
      "text/plain": [
       "(1, 138187, 1, 6)"
      ]
     },
     "execution_count": 25,
     "metadata": {},
     "output_type": "execute_result"
    }
   ],
   "source": [
    "targets = np.expand_dims(np.expand_dims(targets, 0), 2)\n",
    "targets.shape"
   ]
  },
  {
   "cell_type": "code",
   "execution_count": 26,
   "id": "5cc19e67-90c7-48fa-b1f7-bc06bf64976b",
   "metadata": {},
   "outputs": [
    {
     "data": {
      "text/plain": [
       "(1, 138187, 67, 6)"
      ]
     },
     "execution_count": 26,
     "metadata": {},
     "output_type": "execute_result"
    }
   ],
   "source": [
    "temp_vectorized.shape"
   ]
  },
  {
   "cell_type": "code",
   "execution_count": 27,
   "id": "80730791-f362-4c45-8533-33f83004c479",
   "metadata": {},
   "outputs": [
    {
     "data": {
      "text/plain": [
       "(1, 138187, 68, 6)"
      ]
     },
     "execution_count": 27,
     "metadata": {},
     "output_type": "execute_result"
    }
   ],
   "source": [
    "# Include target\n",
    "# temp_vectorized = temp_vectorized.remove_with_index(EVENT_NAME, TEMP_TARGETS)\n",
    "# print(temp_vectorized.shape)\n",
    "temp_vectorized = temp_vectorized.concat_over_axis(\n",
    "    EVENT_NAME, targets, use_case_params.TEMP_TARGETS\n",
    ")\n",
    "temp_vectorized.shape"
   ]
  },
  {
   "cell_type": "code",
   "execution_count": 28,
   "id": "14af4cdc-0e82-4b7b-b9d6-69c91b2c8d25",
   "metadata": {},
   "outputs": [],
   "source": [
    "only_targets = temp_vectorized.take_with_index(EVENT_NAME, use_case_params.TEMP_TARGETS)\n",
    "assert np.isnan(only_targets.data).sum() == 0"
   ]
  },
  {
   "cell_type": "code",
   "execution_count": 29,
   "id": "dd73ccf9-d87c-4d45-9dc8-cb11271b0896",
   "metadata": {},
   "outputs": [
    {
     "name": "stderr",
     "output_type": "stream",
     "text": [
      "2022-11-08 19:35:23,838 \u001b[1;37mINFO\u001b[0m cyclops.utils.file - Pickling data to /mnt/nfs/project/delirium/drift_exp/OCT-18-2022/gemini/mortality/./data/temp_vectorized.pkl\n"
     ]
    },
    {
     "data": {
      "text/plain": [
       "'/mnt/nfs/project/delirium/drift_exp/OCT-18-2022/gemini/mortality/./data/temp_vectorized.pkl'"
      ]
     },
     "execution_count": 29,
     "metadata": {},
     "output_type": "execute_result"
    }
   ],
   "source": [
    "save_pickle(temp_vectorized, use_case_params.TEMP_VECTORIZED_FILE)"
   ]
  },
  {
   "cell_type": "markdown",
   "id": "c103337f-dbd8-4f04-96a7-b6e721cd3642",
   "metadata": {},
   "source": [
    "# Combined processing"
   ]
  },
  {
   "cell_type": "code",
   "execution_count": 30,
   "id": "d2b89e1c-a1d7-4dd1-b37c-6e78698e3e16",
   "metadata": {},
   "outputs": [
    {
     "name": "stderr",
     "output_type": "stream",
     "text": [
      "2022-11-08 19:35:39,067 \u001b[1;37mINFO\u001b[0m cyclops.utils.file - Loading pickled data from /mnt/nfs/project/delirium/drift_exp/OCT-18-2022/gemini/mortality/./data/temp_vectorized.pkl\n"
     ]
    }
   ],
   "source": [
    "temp_vectorized = load_pickle(use_case_params.TEMP_VECTORIZED_FILE)"
   ]
  },
  {
   "cell_type": "code",
   "execution_count": 31,
   "id": "a7197544-6b93-4856-8959-c1a8228557db",
   "metadata": {},
   "outputs": [
    {
     "name": "stderr",
     "output_type": "stream",
     "text": [
      "/mnt/nfs/home/subasriv/cyclops/cyclops/processors/feature/feature.py:700: SettingWithCopyWarning: \n",
      "A value is trying to be set on a copy of a slice from a DataFrame\n",
      "\n",
      "See the caveats in the documentation: https://pandas.pydata.org/pandas-docs/stable/user_guide/indexing.html#returning-a-view-versus-a-copy\n",
      "  data[feat].replace(mapping, inplace=True)\n"
     ]
    },
    {
     "data": {
      "text/html": [
       "<div>\n",
       "<style scoped>\n",
       "    .dataframe tbody tr th:only-of-type {\n",
       "        vertical-align: middle;\n",
       "    }\n",
       "\n",
       "    .dataframe tbody tr th {\n",
       "        vertical-align: top;\n",
       "    }\n",
       "\n",
       "    .dataframe thead th {\n",
       "        text-align: right;\n",
       "    }\n",
       "</style>\n",
       "<table border=\"1\" class=\"dataframe\">\n",
       "  <thead>\n",
       "    <tr style=\"text-align: right;\">\n",
       "      <th></th>\n",
       "      <th></th>\n",
       "      <th></th>\n",
       "      <th>event_value</th>\n",
       "    </tr>\n",
       "    <tr>\n",
       "      <th>encounter_id</th>\n",
       "      <th>event_name</th>\n",
       "      <th>timestep</th>\n",
       "      <th></th>\n",
       "    </tr>\n",
       "  </thead>\n",
       "  <tbody>\n",
       "    <tr>\n",
       "      <th rowspan=\"5\" valign=\"top\">11100040</th>\n",
       "      <th rowspan=\"5\" valign=\"top\">admit_via_ambulance_</th>\n",
       "      <th>0</th>\n",
       "      <td>0.0</td>\n",
       "    </tr>\n",
       "    <tr>\n",
       "      <th>1</th>\n",
       "      <td>0.0</td>\n",
       "    </tr>\n",
       "    <tr>\n",
       "      <th>2</th>\n",
       "      <td>0.0</td>\n",
       "    </tr>\n",
       "    <tr>\n",
       "      <th>3</th>\n",
       "      <td>0.0</td>\n",
       "    </tr>\n",
       "    <tr>\n",
       "      <th>4</th>\n",
       "      <td>0.0</td>\n",
       "    </tr>\n",
       "    <tr>\n",
       "      <th>...</th>\n",
       "      <th>...</th>\n",
       "      <th>...</th>\n",
       "      <td>...</td>\n",
       "    </tr>\n",
       "    <tr>\n",
       "      <th rowspan=\"5\" valign=\"top\">15999969</th>\n",
       "      <th rowspan=\"5\" valign=\"top\">triage_level_urgent</th>\n",
       "      <th>1</th>\n",
       "      <td>0.0</td>\n",
       "    </tr>\n",
       "    <tr>\n",
       "      <th>2</th>\n",
       "      <td>0.0</td>\n",
       "    </tr>\n",
       "    <tr>\n",
       "      <th>3</th>\n",
       "      <td>0.0</td>\n",
       "    </tr>\n",
       "    <tr>\n",
       "      <th>4</th>\n",
       "      <td>0.0</td>\n",
       "    </tr>\n",
       "    <tr>\n",
       "      <th>5</th>\n",
       "      <td>0.0</td>\n",
       "    </tr>\n",
       "  </tbody>\n",
       "</table>\n",
       "<p>43114344 rows × 1 columns</p>\n",
       "</div>"
      ],
      "text/plain": [
       "                                            event_value\n",
       "encounter_id event_name           timestep             \n",
       "11100040     admit_via_ambulance_ 0                 0.0\n",
       "                                  1                 0.0\n",
       "                                  2                 0.0\n",
       "                                  3                 0.0\n",
       "                                  4                 0.0\n",
       "...                                                 ...\n",
       "15999969     triage_level_urgent  1                 0.0\n",
       "                                  2                 0.0\n",
       "                                  3                 0.0\n",
       "                                  4                 0.0\n",
       "                                  5                 0.0\n",
       "\n",
       "[43114344 rows x 1 columns]"
      ]
     },
     "execution_count": 31,
     "metadata": {},
     "output_type": "execute_result"
    }
   ],
   "source": [
    "tab = tab_features.get_data(to_binary_indicators=ordinal_features).reset_index()\n",
    "\n",
    "# Take only the encounters with temporal events\n",
    "tab = tab[np.in1d(tab[ENCOUNTER_ID].values, temp_vectorized.get_index(ENCOUNTER_ID))]\n",
    "\n",
    "# Aggregate tabular\n",
    "tab_aggregated = tabular_as_aggregated(\n",
    "    tab=tab,\n",
    "    index=ENCOUNTER_ID,\n",
    "    var_name=EVENT_NAME,\n",
    "    value_name=EVENT_VALUE,\n",
    "    strategy=ALL,\n",
    "    num_timesteps=aggregator.window_duration // aggregator.timestep_size,\n",
    ")\n",
    "tab_aggregated"
   ]
  },
  {
   "cell_type": "code",
   "execution_count": 32,
   "id": "0c547a8b-5ab5-4a85-8eb3-59aaa87f96fe",
   "metadata": {},
   "outputs": [
    {
     "name": "stderr",
     "output_type": "stream",
     "text": [
      "2022-11-08 19:37:07,241 \u001b[1;37mINFO\u001b[0m cyclops.utils.profile - Finished executing function vectorize in 35.168415 s\n"
     ]
    },
    {
     "data": {
      "text/plain": [
       "(1, 138187, 52, 6)"
      ]
     },
     "execution_count": 32,
     "metadata": {},
     "output_type": "execute_result"
    }
   ],
   "source": [
    "# Vectorize tabular\n",
    "tab_aggregated_vec = aggregator.vectorize(tab_aggregated)\n",
    "tab_aggregated_vec.shape"
   ]
  },
  {
   "cell_type": "code",
   "execution_count": 33,
   "id": "f8e7b067-e628-49f7-af5d-e2ea297add57",
   "metadata": {},
   "outputs": [
    {
     "data": {
      "text/plain": [
       "(1, 138187, 68, 6)"
      ]
     },
     "execution_count": 33,
     "metadata": {},
     "output_type": "execute_result"
    }
   ],
   "source": [
    "temp_vectorized.shape"
   ]
  },
  {
   "cell_type": "code",
   "execution_count": 34,
   "id": "2cf0b6e6-0633-4030-9863-7885d88c344a",
   "metadata": {},
   "outputs": [
    {
     "data": {
      "text/plain": [
       "(1, 138187, 52, 6)"
      ]
     },
     "execution_count": 34,
     "metadata": {},
     "output_type": "execute_result"
    }
   ],
   "source": [
    "tab_aggregated_vec.shape"
   ]
  },
  {
   "cell_type": "code",
   "execution_count": 35,
   "id": "6406a4f3-b728-4e48-a763-b89253e73af9",
   "metadata": {},
   "outputs": [
    {
     "data": {
      "text/plain": [
       "(1, 138187, 120, 6)"
      ]
     },
     "execution_count": 35,
     "metadata": {},
     "output_type": "execute_result"
    }
   ],
   "source": [
    "# Combine\n",
    "comb_vectorized = temp_vectorized.concat_over_axis(\n",
    "    EVENT_NAME, tab_aggregated_vec.data, tab_aggregated_vec.get_index(EVENT_NAME)\n",
    ")\n",
    "comb_vectorized.shape"
   ]
  },
  {
   "cell_type": "code",
   "execution_count": 36,
   "id": "31dfd482-0b8f-4c30-8d56-7e6b89c4f093",
   "metadata": {},
   "outputs": [
    {
     "data": {
      "text/plain": [
       "(1, 138187, 119, 6)"
      ]
     },
     "execution_count": 36,
     "metadata": {},
     "output_type": "execute_result"
    }
   ],
   "source": [
    "# Don't include any of the tabular targets - split out to avoid label leakage\n",
    "comb_vectorized, _ = comb_vectorized.split_out(EVENT_NAME, use_case_params.TAB_TARGETS)\n",
    "comb_vectorized.shape"
   ]
  },
  {
   "cell_type": "code",
   "execution_count": 37,
   "id": "6e8f266a-007a-4e50-b525-7c47fb475d9f",
   "metadata": {},
   "outputs": [
    {
     "data": {
      "text/plain": [
       "array(['admit_via_ambulance_', 'admit_via_ambulance_air',\n",
       "       'admit_via_ambulance_ground', 'admit_via_ambulance_no_ambulance',\n",
       "       'admit_via_ambulance_no_info', 'age', 'albumin', 'alp', 'alt',\n",
       "       'aptt', 'arterial paco2', 'arterial pao2', 'arterial ph', 'ast',\n",
       "       'bicarbonate', 'bilirubin', 'blood urea nitrogen', 'calcium',\n",
       "       'calcium, ionized', 'creatinine', 'crp', 'ct', 'd-dimer',\n",
       "       'diagnosis_trajectory_A00_B99', 'diagnosis_trajectory_C00_D49',\n",
       "       'diagnosis_trajectory_D50_D89', 'diagnosis_trajectory_E00_E89',\n",
       "       'diagnosis_trajectory_F01_F99', 'diagnosis_trajectory_G00_G99',\n",
       "       'diagnosis_trajectory_H00_H59', 'diagnosis_trajectory_H60_H95',\n",
       "       'diagnosis_trajectory_I00_I99', 'diagnosis_trajectory_J00_J99',\n",
       "       'diagnosis_trajectory_K00_K95', 'diagnosis_trajectory_L00_L99',\n",
       "       'diagnosis_trajectory_M00_M99', 'diagnosis_trajectory_N00_N99',\n",
       "       'diagnosis_trajectory_O00_O99', 'diagnosis_trajectory_Q00_Q99',\n",
       "       'diagnosis_trajectory_R00_R99', 'diagnosis_trajectory_S00_T88',\n",
       "       'diagnosis_trajectory_V00_Y99', 'diagnosis_trajectory_Z00_Z99',\n",
       "       'dialysis_mapped', 'echo', 'endoscopy_mapped', 'esr', 'ferritin',\n",
       "       'fibrinogen', 'from_acute_care_institution_mapped',\n",
       "       'from_nursing_home_mapped', 'glucose fasting',\n",
       "       'glucose point of care', 'glucose random', 'hba1c', 'hematocrit',\n",
       "       'hemoglobin', 'high sensitivity troponin', 'hospital_id_MSH',\n",
       "       'hospital_id_SBK', 'hospital_id_SMH', 'hospital_id_THPC',\n",
       "       'hospital_id_THPM', 'hospital_id_UHNTG', 'hospital_id_UHNTW',\n",
       "       'influenza', 'inr', 'interventional', 'inv_mech_vent_mapped',\n",
       "       'ketone', 'lactate arterial', 'lactate venous', 'ldh', 'lipase',\n",
       "       'lymphocyte', 'mean cell volume', 'mri', 'neutrophils', 'non-rbc',\n",
       "       'other', 'platelet count', 'potassium', 'prev_encounter_count',\n",
       "       'pt', 'rbc', 'readmission_', 'readmission_new_to_acute',\n",
       "       'readmission_nota', 'readmission_planned_from_acute',\n",
       "       'readmission_unplanned_7_day_acute',\n",
       "       'readmission_unplanned_7_day_day_surg',\n",
       "       'readmission_unplanned_8_to_28_day_acute', 'serum alcohol',\n",
       "       'serum osmolality', 'sex', 'sodium', 'surgery_mapped',\n",
       "       'targets - outcome_death', 'triage_level_',\n",
       "       'triage_level_emergent', 'triage_level_no_info',\n",
       "       'triage_level_non-urgent', 'triage_level_resuscitation',\n",
       "       'triage_level_semi-urgent', 'triage_level_urgent', 'troponin',\n",
       "       'tsh', 'ultrasound', 'unmapped_intervention', 'urinalysis',\n",
       "       'urine osmolality', 'urine sodium', 'urine specific gravity',\n",
       "       'venous pco2', 'venous ph', 'vitamin b12', 'vitamin d',\n",
       "       'white blood cell count', 'x-ray'], dtype='<U39')"
      ]
     },
     "execution_count": 37,
     "metadata": {},
     "output_type": "execute_result"
    }
   ],
   "source": [
    "comb_vectorized.get_index(EVENT_NAME)"
   ]
  },
  {
   "cell_type": "code",
   "execution_count": 38,
   "id": "8cd21b0c-4296-4d92-8e0e-9306011b0630",
   "metadata": {},
   "outputs": [
    {
     "data": {
      "text/plain": [
       "0.0"
      ]
     },
     "execution_count": 38,
     "metadata": {},
     "output_type": "execute_result"
    }
   ],
   "source": [
    "np.isnan(tab_aggregated_vec.data).sum() / tab_aggregated_vec.data.size"
   ]
  },
  {
   "cell_type": "code",
   "execution_count": 39,
   "id": "7d283d99-9769-4f61-b423-6526a6928a9f",
   "metadata": {},
   "outputs": [
    {
     "data": {
      "text/plain": [
       "array([[[[0., 0., 0., 0., 0., 0.],\n",
       "         [0., 0., 0., 0., 0., 0.],\n",
       "         [1., 1., 1., 1., 1., 1.],\n",
       "         ...,\n",
       "         [1., 1., 1., 1., 1., 1.],\n",
       "         [0., 0., 0., 0., 0., 0.],\n",
       "         [0., 0., 0., 0., 0., 0.]],\n",
       "\n",
       "        [[0., 0., 0., 0., 0., 0.],\n",
       "         [0., 0., 0., 0., 0., 0.],\n",
       "         [1., 1., 1., 1., 1., 1.],\n",
       "         ...,\n",
       "         [0., 0., 0., 0., 0., 0.],\n",
       "         [0., 0., 0., 0., 0., 0.],\n",
       "         [0., 0., 0., 0., 0., 0.]],\n",
       "\n",
       "        [[0., 0., 0., 0., 0., 0.],\n",
       "         [0., 0., 0., 0., 0., 0.],\n",
       "         [0., 0., 0., 0., 0., 0.],\n",
       "         ...,\n",
       "         [0., 0., 0., 0., 0., 0.],\n",
       "         [0., 0., 0., 0., 0., 0.],\n",
       "         [0., 0., 0., 0., 0., 0.]],\n",
       "\n",
       "        ...,\n",
       "\n",
       "        [[0., 0., 0., 0., 0., 0.],\n",
       "         [0., 0., 0., 0., 0., 0.],\n",
       "         [1., 1., 1., 1., 1., 1.],\n",
       "         ...,\n",
       "         [0., 0., 0., 0., 0., 0.],\n",
       "         [0., 0., 0., 0., 0., 0.],\n",
       "         [0., 0., 0., 0., 0., 0.]],\n",
       "\n",
       "        [[0., 0., 0., 0., 0., 0.],\n",
       "         [0., 0., 0., 0., 0., 0.],\n",
       "         [1., 1., 1., 1., 1., 1.],\n",
       "         ...,\n",
       "         [0., 0., 0., 0., 0., 0.],\n",
       "         [0., 0., 0., 0., 0., 0.],\n",
       "         [1., 1., 1., 1., 1., 1.]],\n",
       "\n",
       "        [[0., 0., 0., 0., 0., 0.],\n",
       "         [0., 0., 0., 0., 0., 0.],\n",
       "         [0., 0., 0., 0., 0., 0.],\n",
       "         ...,\n",
       "         [0., 0., 0., 0., 0., 0.],\n",
       "         [0., 0., 0., 0., 0., 0.],\n",
       "         [0., 0., 0., 0., 0., 0.]]]])"
      ]
     },
     "execution_count": 39,
     "metadata": {},
     "output_type": "execute_result"
    }
   ],
   "source": [
    "tab_aggregated_vec.data"
   ]
  },
  {
   "cell_type": "code",
   "execution_count": 40,
   "id": "69aee9c3-8304-41e5-9a35-8885732fdb63",
   "metadata": {},
   "outputs": [
    {
     "data": {
      "text/plain": [
       "0.8710733976990827"
      ]
     },
     "execution_count": 40,
     "metadata": {},
     "output_type": "execute_result"
    }
   ],
   "source": [
    "np.isnan(temp_vectorized.data).sum() / temp_vectorized.data.size"
   ]
  },
  {
   "cell_type": "code",
   "execution_count": 41,
   "id": "9eecbad6-29c9-471b-a42c-28fa177e6102",
   "metadata": {},
   "outputs": [
    {
     "data": {
      "text/plain": [
       "0.49775622725661867"
      ]
     },
     "execution_count": 41,
     "metadata": {},
     "output_type": "execute_result"
    }
   ],
   "source": [
    "np.isnan(comb_vectorized.data).sum() / comb_vectorized.data.size"
   ]
  },
  {
   "cell_type": "markdown",
   "id": "6fb0a06e-d146-45af-89cd-a90964a6b2df",
   "metadata": {},
   "source": [
    "# Prepare splits"
   ]
  },
  {
   "cell_type": "code",
   "execution_count": 42,
   "id": "1401ee79-1a30-41fd-9c42-fc13a6425649",
   "metadata": {},
   "outputs": [
    {
     "data": {
      "text/plain": [
       "((143049, 52), (1, 138187, 68, 6), (1, 138187, 119, 6))"
      ]
     },
     "execution_count": 42,
     "metadata": {},
     "output_type": "execute_result"
    }
   ],
   "source": [
    "tab_vectorized.shape, temp_vectorized.shape, comb_vectorized.shape"
   ]
  },
  {
   "cell_type": "code",
   "execution_count": 43,
   "id": "3e4c1178-31af-4713-b3a2-fd5f5aacf845",
   "metadata": {},
   "outputs": [
    {
     "data": {
      "text/plain": [
       "((138187, 52), (1, 138187, 68, 6), (1, 138187, 119, 6))"
      ]
     },
     "execution_count": 43,
     "metadata": {},
     "output_type": "execute_result"
    }
   ],
   "source": [
    "tab_vectorized, temp_vectorized, comb_vectorized = intersect_vectorized(\n",
    "    [tab_vectorized, temp_vectorized, comb_vectorized], axes=ENCOUNTER_ID\n",
    ")\n",
    "tab_vectorized.shape, temp_vectorized.shape, comb_vectorized.shape"
   ]
  },
  {
   "cell_type": "markdown",
   "id": "5d0eaa25-0014-4212-b2ae-794cd70e915d",
   "metadata": {},
   "source": [
    "Take only the encounters available in all of the datasets and align the datasets over encounters."
   ]
  },
  {
   "cell_type": "code",
   "execution_count": 51,
   "id": "b97c5aba-847e-4f58-9bce-69222f538f12",
   "metadata": {},
   "outputs": [],
   "source": [
    "# Normalize only numeric features (e.g., not binary indicators)\n",
    "# Note: Normalization is not occuring here, we are only doing the setup\n",
    "normalizer_map = {feat: STANDARD for feat in numeric_features}\n",
    "\n",
    "tab_vectorized.add_normalizer(\n",
    "    FEATURES,\n",
    "    normalizer_map=normalizer_map,\n",
    ")"
   ]
  },
  {
   "cell_type": "code",
   "execution_count": 52,
   "id": "174bb4b0-8948-42d6-a477-b0792a9b7186",
   "metadata": {},
   "outputs": [],
   "source": [
    "# Normalize all events\n",
    "# Note: Normalization is not occuring here, we are only doing the setup\n",
    "temp_vectorized.add_normalizer(\n",
    "    EVENT_NAME,\n",
    "    normalization_method=STANDARD,\n",
    ")\n",
    "\n",
    "comb_vectorized.add_normalizer(\n",
    "    EVENT_NAME,\n",
    "    normalization_method=STANDARD,\n",
    ")"
   ]
  },
  {
   "cell_type": "markdown",
   "id": "ff6663ae-1ed5-445e-a1d6-9021154fe1a7",
   "metadata": {},
   "source": [
    "## Dataset splits"
   ]
  },
  {
   "cell_type": "markdown",
   "id": "839995aa-40cb-449c-a057-ad7719998ecf",
   "metadata": {},
   "source": [
    "Split into training, validation, and testing datasets such that the tabular and temporal encounters remain aligned."
   ]
  },
  {
   "cell_type": "code",
   "execution_count": 53,
   "id": "5a4ec3d2-a221-41ce-93ae-9f5a3018eb00",
   "metadata": {},
   "outputs": [],
   "source": [
    "tab_splits, temp_splits, comb_splits = split_vectorized(\n",
    "    [tab_vectorized, temp_vectorized, comb_vectorized],\n",
    "    use_case_params.SPLIT_FRACTIONS,\n",
    "    axes=ENCOUNTER_ID,\n",
    ")\n",
    "tab_train, tab_val, tab_test = tab_splits\n",
    "temp_train, temp_val, temp_test = temp_splits\n",
    "comb_train, comb_val, comb_test = comb_splits"
   ]
  },
  {
   "cell_type": "code",
   "execution_count": 54,
   "id": "37a6a36d-499d-447e-93eb-3ac002c986c6",
   "metadata": {},
   "outputs": [
    {
     "data": {
      "text/plain": [
       "((110550, 52), (13818, 52), (13819, 52))"
      ]
     },
     "execution_count": 54,
     "metadata": {},
     "output_type": "execute_result"
    }
   ],
   "source": [
    "tab_train.shape, tab_val.shape, tab_test.shape"
   ]
  },
  {
   "cell_type": "code",
   "execution_count": 55,
   "id": "edfd710c-b21d-4dc4-b8e4-550235570768",
   "metadata": {},
   "outputs": [
    {
     "data": {
      "text/plain": [
       "((1, 110550, 68, 6), (1, 13818, 68, 6), (1, 13819, 68, 6))"
      ]
     },
     "execution_count": 55,
     "metadata": {},
     "output_type": "execute_result"
    }
   ],
   "source": [
    "temp_train.shape, temp_val.shape, temp_test.shape"
   ]
  },
  {
   "cell_type": "code",
   "execution_count": 56,
   "id": "faea0fb5-526a-4f42-af8d-d4ee9c9e60df",
   "metadata": {},
   "outputs": [
    {
     "data": {
      "text/plain": [
       "((1, 110550, 119, 6), (1, 13818, 119, 6), (1, 13819, 119, 6))"
      ]
     },
     "execution_count": 56,
     "metadata": {},
     "output_type": "execute_result"
    }
   ],
   "source": [
    "comb_train.shape, comb_val.shape, comb_test.shape"
   ]
  },
  {
   "cell_type": "markdown",
   "id": "203ec0ad-a35a-49df-8979-a32779c3ac13",
   "metadata": {},
   "source": [
    "## Split features/targets"
   ]
  },
  {
   "cell_type": "markdown",
   "id": "9e2f20f3-fe51-41f5-be9f-c74d32519787",
   "metadata": {},
   "source": [
    "Split out the targets in the temporal data."
   ]
  },
  {
   "cell_type": "code",
   "execution_count": 57,
   "id": "aca6b88f-8f3b-46d2-9d75-3fe8eec1745b",
   "metadata": {},
   "outputs": [
    {
     "data": {
      "text/plain": [
       "((110550, 51), (110550, 1))"
      ]
     },
     "execution_count": 57,
     "metadata": {},
     "output_type": "execute_result"
    }
   ],
   "source": [
    "tab_train_X, tab_train_y = tab_train.split_out(FEATURES, use_case_params.TAB_TARGETS)\n",
    "tab_train_X.shape, tab_train_y.shape"
   ]
  },
  {
   "cell_type": "code",
   "execution_count": 58,
   "id": "ec5a428e-fcab-4a49-b9c9-77fe5b56da4f",
   "metadata": {},
   "outputs": [
    {
     "data": {
      "text/plain": [
       "((13818, 51), (13818, 1))"
      ]
     },
     "execution_count": 58,
     "metadata": {},
     "output_type": "execute_result"
    }
   ],
   "source": [
    "tab_val_X, tab_val_y = tab_val.split_out(FEATURES, use_case_params.TAB_TARGETS)\n",
    "tab_val_X.shape, tab_val_y.shape"
   ]
  },
  {
   "cell_type": "code",
   "execution_count": 59,
   "id": "98adfca2-4347-475e-ad9d-aeb15a9f3c65",
   "metadata": {},
   "outputs": [
    {
     "data": {
      "text/plain": [
       "((13819, 51), (13819, 1))"
      ]
     },
     "execution_count": 59,
     "metadata": {},
     "output_type": "execute_result"
    }
   ],
   "source": [
    "tab_test_X, tab_test_y = tab_test.split_out(FEATURES, use_case_params.TAB_TARGETS)\n",
    "tab_test_X.shape, tab_test_y.shape"
   ]
  },
  {
   "cell_type": "code",
   "execution_count": 60,
   "id": "7a251574-2635-42db-b42e-3d8b77143b64",
   "metadata": {},
   "outputs": [
    {
     "data": {
      "text/plain": [
       "((1, 110550, 67, 6), (1, 110550, 1, 6))"
      ]
     },
     "execution_count": 60,
     "metadata": {},
     "output_type": "execute_result"
    }
   ],
   "source": [
    "temp_train_X, temp_train_y = temp_train.split_out(\n",
    "    EVENT_NAME, use_case_params.TEMP_TARGETS\n",
    ")\n",
    "temp_train_X.shape, temp_train_y.shape"
   ]
  },
  {
   "cell_type": "code",
   "execution_count": 61,
   "id": "54795d9d-c2a4-4dd4-9ff9-d3927a0339a3",
   "metadata": {},
   "outputs": [
    {
     "data": {
      "text/plain": [
       "((1, 13818, 67, 6), (1, 13818, 1, 6))"
      ]
     },
     "execution_count": 61,
     "metadata": {},
     "output_type": "execute_result"
    }
   ],
   "source": [
    "temp_val_X, temp_val_y = temp_val.split_out(EVENT_NAME, use_case_params.TEMP_TARGETS)\n",
    "temp_val_X.shape, temp_val_y.shape"
   ]
  },
  {
   "cell_type": "code",
   "execution_count": 62,
   "id": "7857300c-e98e-4af3-89eb-4665e887c60c",
   "metadata": {},
   "outputs": [
    {
     "data": {
      "text/plain": [
       "((1, 13819, 67, 6), (1, 13819, 1, 6))"
      ]
     },
     "execution_count": 62,
     "metadata": {},
     "output_type": "execute_result"
    }
   ],
   "source": [
    "temp_test_X, temp_test_y = temp_test.split_out(EVENT_NAME, use_case_params.TEMP_TARGETS)\n",
    "temp_test_X.shape, temp_test_y.shape"
   ]
  },
  {
   "cell_type": "code",
   "execution_count": 63,
   "id": "24732d0c-cd51-44ed-b84a-ecb7d11588d7",
   "metadata": {},
   "outputs": [
    {
     "data": {
      "text/plain": [
       "((1, 110550, 118, 6), (1, 110550, 1, 6))"
      ]
     },
     "execution_count": 63,
     "metadata": {},
     "output_type": "execute_result"
    }
   ],
   "source": [
    "comb_train_X, comb_train_y = comb_train.split_out(\n",
    "    EVENT_NAME, use_case_params.TEMP_TARGETS\n",
    ")\n",
    "comb_train_X.shape, comb_train_y.shape"
   ]
  },
  {
   "cell_type": "code",
   "execution_count": 64,
   "id": "fb708d63-2fff-4f76-814a-376eb6f06969",
   "metadata": {},
   "outputs": [
    {
     "data": {
      "text/plain": [
       "((1, 13818, 118, 6), (1, 13818, 1, 6))"
      ]
     },
     "execution_count": 64,
     "metadata": {},
     "output_type": "execute_result"
    }
   ],
   "source": [
    "comb_val_X, comb_val_y = comb_val.split_out(EVENT_NAME, use_case_params.TEMP_TARGETS)\n",
    "comb_val_X.shape, comb_val_y.shape"
   ]
  },
  {
   "cell_type": "code",
   "execution_count": 65,
   "id": "e86adf65-7931-49ce-ab02-eae544758a06",
   "metadata": {},
   "outputs": [
    {
     "data": {
      "text/plain": [
       "((1, 13819, 118, 6), (1, 13819, 1, 6))"
      ]
     },
     "execution_count": 65,
     "metadata": {},
     "output_type": "execute_result"
    }
   ],
   "source": [
    "comb_test_X, comb_test_y = comb_test.split_out(EVENT_NAME, use_case_params.TEMP_TARGETS)\n",
    "comb_test_X.shape, comb_test_y.shape"
   ]
  },
  {
   "cell_type": "code",
   "execution_count": 76,
   "id": "2bacb495-8c8a-486a-95db-ca55c02597bf",
   "metadata": {},
   "outputs": [
    {
     "data": {
      "text/plain": [
       "<cyclops.processors.feature.vectorize.Vectorized at 0x7f295c460550>"
      ]
     },
     "execution_count": 76,
     "metadata": {},
     "output_type": "execute_result"
    }
   ],
   "source": []
  },
  {
   "cell_type": "code",
   "execution_count": 66,
   "id": "e901b017-237b-4cb9-85a7-04172d7dc65c",
   "metadata": {},
   "outputs": [
    {
     "name": "stderr",
     "output_type": "stream",
     "text": [
      "/tmp/ipykernel_122500/1113331880.py:12: RuntimeWarning: Mean of empty slice\n",
      "  mean = np.nanmean(data_slice)\n"
     ]
    }
   ],
   "source": [
    "def impute(temp_vec):\n",
    "    # Forward fill then backward fill to get rid of all of the timestep nulls\n",
    "    temp_vec.impute_over_axis(TIMESTEP, np_ffill_bfill)\n",
    "\n",
    "    # Fill those all-null timesteps with feature mean\n",
    "    # (since forward and backward filling still leaves them all null)\n",
    "    axis = temp_vec.get_axis(EVENT_NAME)\n",
    "\n",
    "    for i in range(temp_vec.data.shape[axis]):\n",
    "        index_exp = vec_index_exp[:, :, i]\n",
    "        data_slice = temp_vec.data[index_exp]\n",
    "        mean = np.nanmean(data_slice)\n",
    "        func = lambda x: np_fill_null_num(x, mean)  # noqa: E731\n",
    "        temp_vec.impute_over_axis(TIMESTEP, func, index_exp=index_exp)\n",
    "\n",
    "    return temp_vec\n",
    "\n",
    "\n",
    "temp_train_X = impute(temp_train_X)\n",
    "temp_val_X = impute(temp_val_X)\n",
    "temp_test_X = impute(temp_test_X)\n",
    "\n",
    "comb_train_X = impute(comb_train_X)\n",
    "comb_val_X = impute(comb_val_X)\n",
    "comb_test_X = impute(comb_test_X)"
   ]
  },
  {
   "cell_type": "markdown",
   "id": "b45650c0-847e-4b13-974f-49f9b89cc5f3",
   "metadata": {},
   "source": [
    "### Normalization"
   ]
  },
  {
   "cell_type": "code",
   "execution_count": 67,
   "id": "47896217-2e2c-449b-9ac9-b3ce08028f91",
   "metadata": {},
   "outputs": [],
   "source": [
    "splits = (\n",
    "    tab_train_X,\n",
    "    tab_val_X,\n",
    "    tab_test_X,\n",
    "    temp_train_X,\n",
    "    temp_val_X,\n",
    "    temp_test_X,\n",
    "    comb_train_X,\n",
    "    comb_val_X,\n",
    "    comb_test_X,\n",
    ")\n",
    "\n",
    "for split in splits:\n",
    "    split.fit_normalizer()\n",
    "    split.normalize()\n",
    "\n",
    "(\n",
    "    tab_train_X,\n",
    "    tab_val_X,\n",
    "    tab_test_X,\n",
    "    temp_train_X,\n",
    "    temp_val_X,\n",
    "    temp_test_X,\n",
    "    comb_train_X,\n",
    "    comb_val_X,\n",
    "    comb_test_X,\n",
    ") = splits"
   ]
  },
  {
   "cell_type": "markdown",
   "id": "e1c2c5b5-9979-4678-bead-ad42b547abfb",
   "metadata": {
    "tags": []
   },
   "source": [
    "## Save"
   ]
  },
  {
   "cell_type": "code",
   "execution_count": 68,
   "id": "9f88e2b1-373e-46c6-97ca-aabd2873fe9a",
   "metadata": {},
   "outputs": [
    {
     "name": "stderr",
     "output_type": "stream",
     "text": [
      "2022-11-08 14:52:53,239 \u001b[1;37mINFO\u001b[0m cyclops.utils.file - Pickling data to /mnt/nfs/project/delirium/drift_exp/OCT-18-2022/gemini/mortality/./data/4-final/aligned_tab_train_X.pkl\n",
      "2022-11-08 14:52:55,557 \u001b[1;37mINFO\u001b[0m cyclops.utils.file - Pickling data to /mnt/nfs/project/delirium/drift_exp/OCT-18-2022/gemini/mortality/./data/4-final/aligned_tab_train_y.pkl\n",
      "2022-11-08 14:52:56,913 \u001b[1;37mINFO\u001b[0m cyclops.utils.file - Pickling data to /mnt/nfs/project/delirium/drift_exp/OCT-18-2022/gemini/mortality/./data/4-final/aligned_tab_val_X.pkl\n",
      "2022-11-08 14:52:57,356 \u001b[1;37mINFO\u001b[0m cyclops.utils.file - Pickling data to /mnt/nfs/project/delirium/drift_exp/OCT-18-2022/gemini/mortality/./data/4-final/aligned_tab_val_y.pkl\n",
      "2022-11-08 14:52:57,788 \u001b[1;37mINFO\u001b[0m cyclops.utils.file - Pickling data to /mnt/nfs/project/delirium/drift_exp/OCT-18-2022/gemini/mortality/./data/4-final/aligned_tab_test_X.pkl\n",
      "2022-11-08 14:52:58,239 \u001b[1;37mINFO\u001b[0m cyclops.utils.file - Pickling data to /mnt/nfs/project/delirium/drift_exp/OCT-18-2022/gemini/mortality/./data/4-final/aligned_tab_test_y.pkl\n",
      "2022-11-08 14:52:58,401 \u001b[1;37mINFO\u001b[0m cyclops.utils.file - Pickling data to /mnt/nfs/project/delirium/drift_exp/OCT-18-2022/gemini/mortality/./data/4-final/aligned_temp_train_X.pkl\n",
      "2022-11-08 14:53:01,734 \u001b[1;37mINFO\u001b[0m cyclops.utils.file - Pickling data to /mnt/nfs/project/delirium/drift_exp/OCT-18-2022/gemini/mortality/./data/4-final/aligned_temp_train_y.pkl\n",
      "2022-11-08 14:53:03,961 \u001b[1;37mINFO\u001b[0m cyclops.utils.file - Pickling data to /mnt/nfs/project/delirium/drift_exp/OCT-18-2022/gemini/mortality/./data/4-final/aligned_temp_val_X.pkl\n",
      "2022-11-08 14:53:05,982 \u001b[1;37mINFO\u001b[0m cyclops.utils.file - Pickling data to /mnt/nfs/project/delirium/drift_exp/OCT-18-2022/gemini/mortality/./data/4-final/aligned_temp_val_y.pkl\n",
      "2022-11-08 14:53:06,449 \u001b[1;37mINFO\u001b[0m cyclops.utils.file - Pickling data to /mnt/nfs/project/delirium/drift_exp/OCT-18-2022/gemini/mortality/./data/4-final/aligned_temp_test_X.pkl\n",
      "2022-11-08 14:53:08,869 \u001b[1;37mINFO\u001b[0m cyclops.utils.file - Pickling data to /mnt/nfs/project/delirium/drift_exp/OCT-18-2022/gemini/mortality/./data/4-final/aligned_temp_test_y.pkl\n",
      "2022-11-08 14:53:09,682 \u001b[1;37mINFO\u001b[0m cyclops.utils.file - Pickling data to /mnt/nfs/project/delirium/drift_exp/OCT-18-2022/gemini/mortality/./data/4-final/aligned_comb_train_X.pkl\n",
      "2022-11-08 14:53:15,310 \u001b[1;37mINFO\u001b[0m cyclops.utils.file - Pickling data to /mnt/nfs/project/delirium/drift_exp/OCT-18-2022/gemini/mortality/./data/4-final/aligned_comb_train_y.pkl\n",
      "2022-11-08 14:53:17,644 \u001b[1;37mINFO\u001b[0m cyclops.utils.file - Pickling data to /mnt/nfs/project/delirium/drift_exp/OCT-18-2022/gemini/mortality/./data/4-final/aligned_comb_val_X.pkl\n",
      "2022-11-08 14:53:19,493 \u001b[1;37mINFO\u001b[0m cyclops.utils.file - Pickling data to /mnt/nfs/project/delirium/drift_exp/OCT-18-2022/gemini/mortality/./data/4-final/aligned_comb_val_y.pkl\n",
      "2022-11-08 14:53:19,984 \u001b[1;37mINFO\u001b[0m cyclops.utils.file - Pickling data to /mnt/nfs/project/delirium/drift_exp/OCT-18-2022/gemini/mortality/./data/4-final/aligned_comb_test_X.pkl\n",
      "2022-11-08 14:53:20,560 \u001b[1;37mINFO\u001b[0m cyclops.utils.file - Pickling data to /mnt/nfs/project/delirium/drift_exp/OCT-18-2022/gemini/mortality/./data/4-final/aligned_comb_test_y.pkl\n"
     ]
    }
   ],
   "source": [
    "# Store data (serialize)\n",
    "vectorized = [\n",
    "    (tab_train_X, \"tab_train_X\"),\n",
    "    (tab_train_y, \"tab_train_y\"),\n",
    "    (tab_val_X, \"tab_val_X\"),\n",
    "    (tab_val_y, \"tab_val_y\"),\n",
    "    (tab_test_X, \"tab_test_X\"),\n",
    "    (tab_test_y, \"tab_test_y\"),\n",
    "    (temp_train_X, \"temp_train_X\"),\n",
    "    (temp_train_y, \"temp_train_y\"),\n",
    "    (temp_val_X, \"temp_val_X\"),\n",
    "    (temp_val_y, \"temp_val_y\"),\n",
    "    (temp_test_X, \"temp_test_X\"),\n",
    "    (temp_test_y, \"temp_test_y\"),\n",
    "    (comb_train_X, \"comb_train_X\"),\n",
    "    (comb_train_y, \"comb_train_y\"),\n",
    "    (comb_val_X, \"comb_val_X\"),\n",
    "    (comb_val_y, \"comb_val_y\"),\n",
    "    (comb_test_X, \"comb_test_X\"),\n",
    "    (comb_test_y, \"comb_test_y\"),\n",
    "]\n",
    "for vec, name in vectorized:\n",
    "    save_pickle(vec, use_case_params.TAB_VEC_COMB + name + \".pkl\")"
   ]
  }
 ],
 "metadata": {
  "kernelspec": {
   "display_name": "cyclops-KKtuQLwg-py3.9",
   "language": "python",
   "name": "cyclops-kktuqlwg-py3.9"
  },
  "language_info": {
   "codemirror_mode": {
    "name": "ipython",
    "version": 3
   },
   "file_extension": ".py",
   "mimetype": "text/x-python",
   "name": "python",
   "nbconvert_exporter": "python",
   "pygments_lexer": "ipython3",
   "version": "3.9.7"
  }
 },
 "nbformat": 4,
 "nbformat_minor": 5
}
