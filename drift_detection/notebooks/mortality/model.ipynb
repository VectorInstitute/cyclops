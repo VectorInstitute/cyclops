{
 "cells": [
  {
   "cell_type": "markdown",
   "id": "cd4e001b-4921-4a4f-8c2c-0c364d082a3f",
   "metadata": {},
   "source": [
    "## Train temporal models for mortality risk prediction"
   ]
  },
  {
   "cell_type": "markdown",
   "id": "d4681dab-9200-4063-9544-f2013bdcd2ba",
   "metadata": {},
   "source": [
    "## Imports"
   ]
  },
  {
   "cell_type": "code",
   "execution_count": 1,
   "id": "cce5e9ec-e3d0-4719-a7ee-43e88dcde8b2",
   "metadata": {},
   "outputs": [],
   "source": [
    "import os\n",
    "import random\n",
    "import sys\n",
    "\n",
    "import matplotlib as mpl\n",
    "import matplotlib.pyplot as plt\n",
    "import numpy as np\n",
    "import pandas as pd\n",
    "import plotly.graph_objects as go\n",
    "import torch.nn as nn\n",
    "import torch.optim as optim\n",
    "from sklearn import metrics\n",
    "\n",
    "sys.path.append(\"..\")\n",
    "sys.path.append(\"../..\")\n",
    "from cyclops.utils.file import load_dataframe, save_dataframe\n",
    "from drift_detection.baseline_models.temporal.pytorch.optimizer import Optimizer\n",
    "from drift_detection.baseline_models.temporal.pytorch.utils import *"
   ]
  },
  {
   "cell_type": "markdown",
   "id": "89e583ae-7a70-49d1-9e93-26b692c85d89",
   "metadata": {},
   "source": [
    "## Load train/val/test inputs and labels"
   ]
  },
  {
   "cell_type": "code",
   "execution_count": 3,
   "id": "12066550-01d2-4869-a96b-2ab9c37171ae",
   "metadata": {},
   "outputs": [
    {
     "name": "stdout",
     "output_type": "stream",
     "text": [
<<<<<<< Updated upstream
=======
<<<<<<< HEAD
      "Train set size: 11121\n",
      "Val set size: 2781\n",
      "Test set size: 3476\n",
      "Num features: 111\n"
=======
>>>>>>> Stashed changes
      "Train set size: 12779\n",
      "Val set size: 3195\n",
      "Test set size: 1082\n",
      "Num features: 108\n"
>>>>>>> a2a74ebb2f19e4b2f89c58830922144dc06b8bfa
     ]
    }
   ],
   "source": [
    "DIR = \"/mnt/nfs/project/delirium/drift_exp/JULY-04-2022/\"\n",
<<<<<<< Updated upstream
    "split_type = \"covid\"\n",
=======
<<<<<<< HEAD
    "split_type = \"random\"\n",
=======
    "split_type = \"covid\"\n",
>>>>>>> a2a74ebb2f19e4b2f89c58830922144dc06b8bfa
>>>>>>> Stashed changes
    "X_train = np.load(os.path.join(DIR, split_type, \"X_train.npy\"))\n",
    "X_val = np.load(os.path.join(DIR, split_type, \"X_val.npy\"))\n",
    "X_test = np.load(os.path.join(DIR, split_type, \"X_test.npy\"))\n",
    "\n",
    "y_train = np.load(os.path.join(DIR, split_type, \"y_train.npy\"))\n",
    "y_val = np.load(os.path.join(DIR, split_type, \"y_val.npy\"))\n",
    "y_test = np.load(os.path.join(DIR, split_type, \"y_test.npy\"))\n",
    "\n",
    "print(\"Train set size:\", X_train.shape[0])\n",
    "print(\"Val set size:\", X_val.shape[0])\n",
    "print(\"Test set size:\", X_test.shape[0])\n",
    "\n",
    "print(\"Num features:\", X_train.shape[2])"
   ]
  },
  {
   "cell_type": "code",
   "execution_count": 4,
<<<<<<< Updated upstream
=======
<<<<<<< HEAD
   "id": "1398418b-3a99-4f75-ae3f-a37e1ad72c27",
   "metadata": {},
   "outputs": [
    {
     "name": "stdout",
     "output_type": "stream",
     "text": [
      "      Train   Val   Test\n",
      "-1.0  10470  2534   2704\n",
      " 0.0  38565  9893  10192\n",
      " 1.0  17691  4259   7960\n"
     ]
    }
   ],
   "source": [
    "unique, train_counts = np.unique(y_train, return_counts=True)\n",
    "unique, val_counts = np.unique(y_val, return_counts=True)\n",
    "unique, test_counts = np.unique(y_test, return_counts=True)\n",
    "print(pd.DataFrame({'Train':train_counts,'Val': val_counts, 'Test':test_counts}, index=unique))"
   ]
  },
  {
   "cell_type": "code",
   "execution_count": 5,
=======
>>>>>>> a2a74ebb2f19e4b2f89c58830922144dc06b8bfa
>>>>>>> Stashed changes
   "id": "cf69fdd1-537f-4b8e-b5a8-bad40abad603",
   "metadata": {},
   "outputs": [],
   "source": [
    "os.chdir(os.path.join(DIR,split_type))"
   ]
  },
  {
   "cell_type": "markdown",
   "id": "dde55789-cb88-49db-9121-27cbdbddc46b",
   "metadata": {},
   "source": [
    "## Model and training configuration"
   ]
  },
  {
   "cell_type": "code",
   "execution_count": 5,
   "id": "810aab27-5fc4-4271-98eb-16f0917eb520",
   "metadata": {},
   "outputs": [
    {
     "data": {
      "text/plain": [
       "LSTMModel(\n",
       "  (lstm): LSTM(111, 64, num_layers=2, batch_first=True, dropout=0.2)\n",
       "  (fc): Linear(in_features=64, out_features=1, bias=True)\n",
       "  (sigmoid): Sigmoid()\n",
       ")"
      ]
     },
     "execution_count": 5,
     "metadata": {},
     "output_type": "execute_result"
    }
   ],
   "source": [
    "output_dim = 1\n",
    "batch_size = 64\n",
    "input_dim = X_train.shape[2]\n",
    "timesteps = X_train.shape[1]\n",
    "hidden_dim = 64\n",
    "layer_dim = 2\n",
    "dropout = 0.2\n",
    "n_epochs = 256\n",
    "learning_rate = 2e-3\n",
    "weight_decay = 1e-6\n",
    "last_timestep_only = False\n",
    "\n",
    "device = get_device()\n",
    "\n",
    "X_train_inputs = X_train\n",
    "X_val_inputs = X_val\n",
    "X_test_inputs = X_test\n",
    "\n",
    "train_dataset = get_data(X_train_inputs, y_train)\n",
    "train_loader = train_dataset.to_loader(batch_size, shuffle=True)\n",
    "\n",
    "val_dataset = get_data(X_val_inputs, y_val)\n",
    "val_loader = val_dataset.to_loader(batch_size)\n",
    "\n",
    "model_params = {\n",
    "    \"device\": device,\n",
    "    \"input_dim\": input_dim,\n",
    "    \"hidden_dim\": hidden_dim,\n",
    "    \"layer_dim\": layer_dim,\n",
    "    \"output_dim\": output_dim,\n",
    "    \"dropout_prob\": dropout,\n",
    "    \"last_timestep_only\": last_timestep_only,\n",
    "}\n",
    "\n",
    "model = get_temporal_model(\"lstm\", model_params).to(device)\n",
    "model"
   ]
  },
  {
   "cell_type": "markdown",
   "id": "388af42e-49ac-48c5-a285-8ce66a714518",
   "metadata": {},
   "source": [
    "## Training and validation"
   ]
  },
  {
   "cell_type": "code",
<<<<<<< Updated upstream
   "execution_count": 12,
=======
<<<<<<< HEAD
   "execution_count": 7,
=======
   "execution_count": 12,
>>>>>>> a2a74ebb2f19e4b2f89c58830922144dc06b8bfa
>>>>>>> Stashed changes
   "id": "e36bdcbe-0b6e-4cdc-93e1-394aec75685d",
   "metadata": {},
   "outputs": [],
   "source": [
    "loss_fn = nn.BCEWithLogitsLoss(reduction=\"none\")\n",
    "optimizer = optim.Adagrad(\n",
    "    model.parameters(), lr=learning_rate, weight_decay=weight_decay\n",
    ")\n",
    "lr_scheduler = optim.lr_scheduler.StepLR(optimizer, step_size=128, gamma=0.5)\n",
    "activation = nn.Sigmoid()\n",
    "opt = Optimizer(\n",
    "    model=model,\n",
    "    loss_fn=loss_fn,\n",
    "    optimizer=optimizer,\n",
    "    activation=activation,\n",
    "    lr_scheduler=lr_scheduler,\n",
    ")"
   ]
  },
  {
   "cell_type": "code",
<<<<<<< Updated upstream
=======
<<<<<<< HEAD
   "execution_count": 9,
   "id": "f4daabcd-5c10-464a-b789-4cee959e6b04",
   "metadata": {},
   "outputs": [
    {
     "name": "stdout",
     "output_type": "stream",
     "text": [
      "[1/256] Training loss: 0.5950\t Validation loss: 0.5612\n",
      "[2/256] Training loss: 0.5606\t Validation loss: 0.5442\n",
      "[3/256] Training loss: 0.5492\t Validation loss: 0.5355\n",
      "[4/256] Training loss: 0.5404\t Validation loss: 0.5286\n",
      "[5/256] Training loss: 0.5349\t Validation loss: 0.5246\n",
      "[6/256] Training loss: 0.5290\t Validation loss: 0.5188\n",
      "[7/256] Training loss: 0.5252\t Validation loss: 0.5152\n",
      "[8/256] Training loss: 0.5208\t Validation loss: 0.5121\n",
      "[9/256] Training loss: 0.5179\t Validation loss: 0.5098\n",
      "[10/256] Training loss: 0.5143\t Validation loss: 0.5076\n",
      "[11/256] Training loss: 0.5114\t Validation loss: 0.5059\n",
      "[12/256] Training loss: 0.5089\t Validation loss: 0.5044\n",
      "[13/256] Training loss: 0.5074\t Validation loss: 0.5035\n",
      "[14/256] Training loss: 0.5059\t Validation loss: 0.5022\n",
      "[15/256] Training loss: 0.5040\t Validation loss: 0.5018\n",
      "[16/256] Training loss: 0.5029\t Validation loss: 0.5008\n",
      "[17/256] Training loss: 0.5013\t Validation loss: 0.4999\n",
      "[18/256] Training loss: 0.5002\t Validation loss: 0.4991\n",
      "[19/256] Training loss: 0.4980\t Validation loss: 0.4982\n",
      "[20/256] Training loss: 0.4974\t Validation loss: 0.4983\n",
      "[21/256] Training loss: 0.4968\t Validation loss: 0.4970\n",
      "[22/256] Training loss: 0.4948\t Validation loss: 0.4965\n",
      "[23/256] Training loss: 0.4933\t Validation loss: 0.4963\n",
      "[24/256] Training loss: 0.4920\t Validation loss: 0.4964\n",
      "[25/256] Training loss: 0.4919\t Validation loss: 0.4960\n",
      "[26/256] Training loss: 0.4916\t Validation loss: 0.4952\n",
      "[27/256] Training loss: 0.4899\t Validation loss: 0.4948\n",
      "[28/256] Training loss: 0.4881\t Validation loss: 0.4945\n",
      "[29/256] Training loss: 0.4890\t Validation loss: 0.4941\n",
      "[30/256] Training loss: 0.4881\t Validation loss: 0.4938\n",
      "[31/256] Training loss: 0.4868\t Validation loss: 0.4934\n",
      "[32/256] Training loss: 0.4866\t Validation loss: 0.4933\n",
      "[33/256] Training loss: 0.4846\t Validation loss: 0.4935\n",
      "[34/256] Training loss: 0.4837\t Validation loss: 0.4933\n",
      "[35/256] Training loss: 0.4830\t Validation loss: 0.4928\n",
      "[36/256] Training loss: 0.4830\t Validation loss: 0.4927\n",
      "[37/256] Training loss: 0.4820\t Validation loss: 0.4924\n",
      "[38/256] Training loss: 0.4821\t Validation loss: 0.4922\n",
      "[39/256] Training loss: 0.4807\t Validation loss: 0.4922\n",
      "[40/256] Training loss: 0.4801\t Validation loss: 0.4919\n",
      "[41/256] Training loss: 0.4792\t Validation loss: 0.4933\n",
      "[42/256] Training loss: 0.4775\t Validation loss: 0.4919\n",
      "[43/256] Training loss: 0.4770\t Validation loss: 0.4917\n",
      "[44/256] Training loss: 0.4776\t Validation loss: 0.4916\n",
      "[45/256] Training loss: 0.4753\t Validation loss: 0.4919\n",
      "[46/256] Training loss: 0.4768\t Validation loss: 0.4914\n",
      "[47/256] Training loss: 0.4753\t Validation loss: 0.4913\n",
      "[48/256] Training loss: 0.4743\t Validation loss: 0.4913\n",
      "[49/256] Training loss: 0.4742\t Validation loss: 0.4921\n",
      "[50/256] Training loss: 0.4729\t Validation loss: 0.4913\n",
      "[51/256] Training loss: 0.4726\t Validation loss: 0.4912\n",
      "[52/256] Training loss: 0.4730\t Validation loss: 0.4917\n",
      "[53/256] Training loss: 0.4727\t Validation loss: 0.4909\n",
      "[54/256] Training loss: 0.4710\t Validation loss: 0.4910\n",
      "[55/256] Training loss: 0.4707\t Validation loss: 0.4908\n",
      "[56/256] Training loss: 0.4702\t Validation loss: 0.4911\n",
      "[57/256] Training loss: 0.4701\t Validation loss: 0.4908\n",
      "[58/256] Training loss: 0.4685\t Validation loss: 0.4908\n",
      "[59/256] Training loss: 0.4680\t Validation loss: 0.4913\n",
      "[60/256] Training loss: 0.4667\t Validation loss: 0.4908\n",
      "[61/256] Training loss: 0.4675\t Validation loss: 0.4908\n",
      "[62/256] Training loss: 0.4678\t Validation loss: 0.4909\n",
      "[63/256] Training loss: 0.4669\t Validation loss: 0.4908\n",
      "[64/256] Training loss: 0.4675\t Validation loss: 0.4905\n",
      "[65/256] Training loss: 0.4655\t Validation loss: 0.4911\n",
      "[66/256] Training loss: 0.4653\t Validation loss: 0.4908\n",
      "[67/256] Training loss: 0.4646\t Validation loss: 0.4906\n",
      "[68/256] Training loss: 0.4638\t Validation loss: 0.4912\n",
      "[69/256] Training loss: 0.4630\t Validation loss: 0.4905\n",
      "[70/256] Training loss: 0.4627\t Validation loss: 0.4911\n",
      "[71/256] Training loss: 0.4616\t Validation loss: 0.4911\n",
      "[72/256] Training loss: 0.4619\t Validation loss: 0.4911\n",
      "[73/256] Training loss: 0.4618\t Validation loss: 0.4909\n",
      "[74/256] Training loss: 0.4606\t Validation loss: 0.4914\n",
      "[75/256] Training loss: 0.4606\t Validation loss: 0.4916\n",
      "[76/256] Training loss: 0.4597\t Validation loss: 0.4916\n",
      "[77/256] Training loss: 0.4600\t Validation loss: 0.4917\n",
      "[78/256] Training loss: 0.4583\t Validation loss: 0.4924\n",
      "[79/256] Training loss: 0.4584\t Validation loss: 0.4916\n",
      "[80/256] Training loss: 0.4583\t Validation loss: 0.4918\n",
      "[81/256] Training loss: 0.4573\t Validation loss: 0.4919\n",
      "[82/256] Training loss: 0.4582\t Validation loss: 0.4915\n",
      "[83/256] Training loss: 0.4571\t Validation loss: 0.4916\n",
      "[84/256] Training loss: 0.4566\t Validation loss: 0.4921\n",
      "[85/256] Training loss: 0.4555\t Validation loss: 0.4923\n",
      "[86/256] Training loss: 0.4551\t Validation loss: 0.4922\n",
      "[87/256] Training loss: 0.4551\t Validation loss: 0.4923\n",
      "[88/256] Training loss: 0.4542\t Validation loss: 0.4927\n",
      "[89/256] Training loss: 0.4537\t Validation loss: 0.4933\n",
      "[90/256] Training loss: 0.4526\t Validation loss: 0.4929\n",
      "[91/256] Training loss: 0.4532\t Validation loss: 0.4929\n",
      "[92/256] Training loss: 0.4522\t Validation loss: 0.4937\n",
      "[93/256] Training loss: 0.4524\t Validation loss: 0.4930\n",
      "[94/256] Training loss: 0.4529\t Validation loss: 0.4930\n",
      "[95/256] Training loss: 0.4520\t Validation loss: 0.4929\n",
      "[96/256] Training loss: 0.4517\t Validation loss: 0.4931\n",
      "[97/256] Training loss: 0.4486\t Validation loss: 0.4936\n",
      "[98/256] Training loss: 0.4481\t Validation loss: 0.4937\n",
      "[99/256] Training loss: 0.4506\t Validation loss: 0.4938\n",
      "[100/256] Training loss: 0.4506\t Validation loss: 0.4941\n",
      "[101/256] Training loss: 0.4489\t Validation loss: 0.4936\n",
      "[102/256] Training loss: 0.4495\t Validation loss: 0.4939\n",
      "[103/256] Training loss: 0.4496\t Validation loss: 0.4941\n",
      "[104/256] Training loss: 0.4485\t Validation loss: 0.4941\n",
      "[105/256] Training loss: 0.4479\t Validation loss: 0.4943\n",
      "[106/256] Training loss: 0.4482\t Validation loss: 0.4943\n",
      "[107/256] Training loss: 0.4481\t Validation loss: 0.4945\n",
      "[108/256] Training loss: 0.4472\t Validation loss: 0.4946\n",
      "[109/256] Training loss: 0.4444\t Validation loss: 0.4952\n",
      "[110/256] Training loss: 0.4456\t Validation loss: 0.4953\n",
      "[111/256] Training loss: 0.4466\t Validation loss: 0.4953\n",
      "[112/256] Training loss: 0.4440\t Validation loss: 0.4957\n",
      "[113/256] Training loss: 0.4455\t Validation loss: 0.4955\n",
      "[114/256] Training loss: 0.4454\t Validation loss: 0.4965\n",
      "[115/256] Training loss: 0.4446\t Validation loss: 0.4958\n",
      "[116/256] Training loss: 0.4436\t Validation loss: 0.4966\n",
      "[117/256] Training loss: 0.4442\t Validation loss: 0.4962\n",
      "[118/256] Training loss: 0.4423\t Validation loss: 0.4975\n",
      "[119/256] Training loss: 0.4435\t Validation loss: 0.4972\n",
      "[120/256] Training loss: 0.4438\t Validation loss: 0.4966\n",
      "[121/256] Training loss: 0.4435\t Validation loss: 0.4970\n",
      "[122/256] Training loss: 0.4412\t Validation loss: 0.4970\n",
      "[123/256] Training loss: 0.4408\t Validation loss: 0.4971\n",
      "[124/256] Training loss: 0.4422\t Validation loss: 0.4972\n",
      "[125/256] Training loss: 0.4417\t Validation loss: 0.4977\n",
      "[126/256] Training loss: 0.4402\t Validation loss: 0.4980\n",
      "[127/256] Training loss: 0.4398\t Validation loss: 0.4980\n",
      "[128/256] Training loss: 0.4403\t Validation loss: 0.4980\n",
      "[129/256] Training loss: 0.4382\t Validation loss: 0.4977\n",
      "[130/256] Training loss: 0.4384\t Validation loss: 0.4980\n",
      "[131/256] Training loss: 0.4369\t Validation loss: 0.4983\n",
      "[132/256] Training loss: 0.4382\t Validation loss: 0.4985\n",
      "[133/256] Training loss: 0.4385\t Validation loss: 0.4986\n",
      "[134/256] Training loss: 0.4380\t Validation loss: 0.4989\n",
      "[135/256] Training loss: 0.4368\t Validation loss: 0.4989\n",
      "[136/256] Training loss: 0.4380\t Validation loss: 0.4995\n",
      "[137/256] Training loss: 0.4384\t Validation loss: 0.4994\n",
      "[138/256] Training loss: 0.4376\t Validation loss: 0.4990\n",
      "[139/256] Training loss: 0.4369\t Validation loss: 0.4997\n",
      "[140/256] Training loss: 0.4372\t Validation loss: 0.4993\n",
      "[141/256] Training loss: 0.4368\t Validation loss: 0.5001\n",
      "[142/256] Training loss: 0.4354\t Validation loss: 0.4997\n",
      "[143/256] Training loss: 0.4352\t Validation loss: 0.4996\n",
      "[144/256] Training loss: 0.4365\t Validation loss: 0.5000\n",
      "[145/256] Training loss: 0.4382\t Validation loss: 0.4998\n",
      "[146/256] Training loss: 0.4354\t Validation loss: 0.5000\n",
      "[147/256] Training loss: 0.4353\t Validation loss: 0.5000\n",
      "[148/256] Training loss: 0.4365\t Validation loss: 0.5001\n",
      "[149/256] Training loss: 0.4356\t Validation loss: 0.5002\n",
      "[150/256] Training loss: 0.4360\t Validation loss: 0.5003\n",
      "[151/256] Training loss: 0.4347\t Validation loss: 0.5008\n",
      "[152/256] Training loss: 0.4347\t Validation loss: 0.5012\n",
      "[153/256] Training loss: 0.4358\t Validation loss: 0.5005\n",
      "[154/256] Training loss: 0.4340\t Validation loss: 0.5005\n",
      "[155/256] Training loss: 0.4335\t Validation loss: 0.5009\n",
      "[156/256] Training loss: 0.4336\t Validation loss: 0.5010\n",
      "[157/256] Training loss: 0.4336\t Validation loss: 0.5007\n",
      "[158/256] Training loss: 0.4343\t Validation loss: 0.5009\n",
      "[159/256] Training loss: 0.4337\t Validation loss: 0.5010\n",
      "[160/256] Training loss: 0.4349\t Validation loss: 0.5013\n",
      "[161/256] Training loss: 0.4339\t Validation loss: 0.5014\n",
      "[162/256] Training loss: 0.4342\t Validation loss: 0.5016\n",
      "[163/256] Training loss: 0.4355\t Validation loss: 0.5018\n",
      "[164/256] Training loss: 0.4329\t Validation loss: 0.5015\n",
      "[165/256] Training loss: 0.4323\t Validation loss: 0.5018\n",
      "[166/256] Training loss: 0.4328\t Validation loss: 0.5019\n",
      "[167/256] Training loss: 0.4333\t Validation loss: 0.5018\n",
      "[168/256] Training loss: 0.4329\t Validation loss: 0.5020\n",
      "[169/256] Training loss: 0.4325\t Validation loss: 0.5025\n",
      "[170/256] Training loss: 0.4334\t Validation loss: 0.5020\n",
      "[171/256] Training loss: 0.4336\t Validation loss: 0.5024\n",
      "[172/256] Training loss: 0.4318\t Validation loss: 0.5025\n",
      "[173/256] Training loss: 0.4314\t Validation loss: 0.5024\n",
      "[174/256] Training loss: 0.4323\t Validation loss: 0.5024\n",
      "[175/256] Training loss: 0.4323\t Validation loss: 0.5027\n",
      "[176/256] Training loss: 0.4317\t Validation loss: 0.5030\n",
      "[177/256] Training loss: 0.4320\t Validation loss: 0.5032\n",
      "[178/256] Training loss: 0.4317\t Validation loss: 0.5028\n",
      "[179/256] Training loss: 0.4302\t Validation loss: 0.5030\n",
      "[180/256] Training loss: 0.4323\t Validation loss: 0.5031\n",
      "[181/256] Training loss: 0.4309\t Validation loss: 0.5036\n",
      "[182/256] Training loss: 0.4313\t Validation loss: 0.5037\n",
      "[183/256] Training loss: 0.4302\t Validation loss: 0.5037\n",
      "[184/256] Training loss: 0.4305\t Validation loss: 0.5039\n",
      "[185/256] Training loss: 0.4292\t Validation loss: 0.5037\n",
      "[186/256] Training loss: 0.4297\t Validation loss: 0.5041\n",
      "[187/256] Training loss: 0.4304\t Validation loss: 0.5045\n",
      "[188/256] Training loss: 0.4315\t Validation loss: 0.5038\n",
      "[189/256] Training loss: 0.4301\t Validation loss: 0.5043\n",
      "[190/256] Training loss: 0.4318\t Validation loss: 0.5039\n",
      "[191/256] Training loss: 0.4304\t Validation loss: 0.5040\n",
      "[192/256] Training loss: 0.4304\t Validation loss: 0.5041\n",
      "[193/256] Training loss: 0.4295\t Validation loss: 0.5043\n",
      "[194/256] Training loss: 0.4299\t Validation loss: 0.5044\n",
      "[195/256] Training loss: 0.4295\t Validation loss: 0.5043\n",
      "[196/256] Training loss: 0.4288\t Validation loss: 0.5044\n",
      "[197/256] Training loss: 0.4285\t Validation loss: 0.5047\n",
      "[198/256] Training loss: 0.4301\t Validation loss: 0.5046\n",
      "[199/256] Training loss: 0.4297\t Validation loss: 0.5050\n",
      "[200/256] Training loss: 0.4279\t Validation loss: 0.5054\n",
      "[201/256] Training loss: 0.4288\t Validation loss: 0.5050\n",
      "[202/256] Training loss: 0.4284\t Validation loss: 0.5053\n",
      "[203/256] Training loss: 0.4284\t Validation loss: 0.5057\n",
      "[204/256] Training loss: 0.4273\t Validation loss: 0.5057\n",
      "[205/256] Training loss: 0.4298\t Validation loss: 0.5053\n",
      "[206/256] Training loss: 0.4287\t Validation loss: 0.5054\n",
      "[207/256] Training loss: 0.4271\t Validation loss: 0.5054\n",
      "[208/256] Training loss: 0.4270\t Validation loss: 0.5058\n",
      "[209/256] Training loss: 0.4278\t Validation loss: 0.5066\n",
      "[210/256] Training loss: 0.4269\t Validation loss: 0.5060\n",
      "[211/256] Training loss: 0.4268\t Validation loss: 0.5063\n",
      "[212/256] Training loss: 0.4270\t Validation loss: 0.5063\n",
      "[213/256] Training loss: 0.4280\t Validation loss: 0.5065\n",
      "[214/256] Training loss: 0.4267\t Validation loss: 0.5062\n",
      "[215/256] Training loss: 0.4255\t Validation loss: 0.5064\n",
      "[216/256] Training loss: 0.4261\t Validation loss: 0.5065\n",
      "[217/256] Training loss: 0.4260\t Validation loss: 0.5068\n",
      "[218/256] Training loss: 0.4281\t Validation loss: 0.5067\n",
      "[219/256] Training loss: 0.4263\t Validation loss: 0.5069\n",
      "[220/256] Training loss: 0.4275\t Validation loss: 0.5069\n",
      "[221/256] Training loss: 0.4272\t Validation loss: 0.5070\n",
      "[222/256] Training loss: 0.4256\t Validation loss: 0.5070\n",
      "[223/256] Training loss: 0.4251\t Validation loss: 0.5071\n",
      "[224/256] Training loss: 0.4270\t Validation loss: 0.5073\n",
      "[225/256] Training loss: 0.4251\t Validation loss: 0.5074\n",
      "[226/256] Training loss: 0.4267\t Validation loss: 0.5072\n",
      "[227/256] Training loss: 0.4246\t Validation loss: 0.5075\n",
      "[228/256] Training loss: 0.4252\t Validation loss: 0.5080\n",
      "[229/256] Training loss: 0.4244\t Validation loss: 0.5077\n",
      "[230/256] Training loss: 0.4263\t Validation loss: 0.5083\n",
      "[231/256] Training loss: 0.4252\t Validation loss: 0.5077\n",
      "[232/256] Training loss: 0.4250\t Validation loss: 0.5082\n",
      "[233/256] Training loss: 0.4243\t Validation loss: 0.5080\n",
      "[234/256] Training loss: 0.4237\t Validation loss: 0.5081\n",
      "[235/256] Training loss: 0.4241\t Validation loss: 0.5086\n",
      "[236/256] Training loss: 0.4244\t Validation loss: 0.5087\n",
      "[237/256] Training loss: 0.4245\t Validation loss: 0.5085\n",
      "[238/256] Training loss: 0.4235\t Validation loss: 0.5087\n",
      "[239/256] Training loss: 0.4219\t Validation loss: 0.5088\n",
      "[240/256] Training loss: 0.4228\t Validation loss: 0.5089\n",
      "[241/256] Training loss: 0.4224\t Validation loss: 0.5091\n",
      "[242/256] Training loss: 0.4238\t Validation loss: 0.5091\n",
      "[243/256] Training loss: 0.4233\t Validation loss: 0.5096\n",
      "[244/256] Training loss: 0.4226\t Validation loss: 0.5090\n",
      "[245/256] Training loss: 0.4241\t Validation loss: 0.5093\n",
      "[246/256] Training loss: 0.4240\t Validation loss: 0.5095\n",
      "[247/256] Training loss: 0.4238\t Validation loss: 0.5090\n",
      "[248/256] Training loss: 0.4230\t Validation loss: 0.5097\n",
      "[249/256] Training loss: 0.4224\t Validation loss: 0.5096\n",
      "[250/256] Training loss: 0.4223\t Validation loss: 0.5097\n",
      "[251/256] Training loss: 0.4224\t Validation loss: 0.5098\n",
      "[252/256] Training loss: 0.4220\t Validation loss: 0.5100\n",
      "[253/256] Training loss: 0.4214\t Validation loss: 0.5102\n",
      "[254/256] Training loss: 0.4230\t Validation loss: 0.5102\n",
      "[255/256] Training loss: 0.4228\t Validation loss: 0.5105\n",
      "[256/256] Training loss: 0.4234\t Validation loss: 0.5103\n"
     ]
    },
    {
     "data": {
      "image/png": "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\n",
      "text/plain": [
       "<Figure size 432x288 with 1 Axes>"
      ]
     },
     "metadata": {
      "needs_background": "light"
     },
     "output_type": "display_data"
    }
   ],
   "source": [
    "model_path=os.path.join(\"/mnt/nfs/home/subasriv/cyclops/drift_detection/saved_models/\"+split_type+\"_lstm.pt\")\n",
    "\n",
    "if not os.path.exists(model_path):\n",
=======
>>>>>>> Stashed changes
   "execution_count": null,
   "id": "f4daabcd-5c10-464a-b789-4cee959e6b04",
   "metadata": {},
   "outputs": [],
   "source": [
    "model_path=os.path.join(\"/mnt/nfs/home/subasriv/cyclops/drift_detection/saved_models/covid_lstm.pt\")\n",
    "retrain=True\n",
    "\n",
    "if retrain:\n",
<<<<<<< Updated upstream
=======
>>>>>>> a2a74ebb2f19e4b2f89c58830922144dc06b8bfa
>>>>>>> Stashed changes
    "    opt.train(\n",
    "        train_loader,\n",
    "        val_loader,\n",
    "        batch_size=batch_size,\n",
    "        n_epochs=n_epochs,\n",
    "        n_features=input_dim,\n",
    "        timesteps=timesteps,\n",
    "    )\n",
    "    opt.plot_losses()\n",
    "else:\n",
    "    model.load_state_dict(torch.load(model_path))"
   ]
  },
  {
   "cell_type": "markdown",
   "id": "4c90d5cb-2f17-4595-b442-1eb300af7403",
   "metadata": {},
   "source": [
    "## Val Metrics"
   ]
  },
  {
   "cell_type": "code",
<<<<<<< Updated upstream
   "execution_count": 14,
=======
<<<<<<< HEAD
   "execution_count": 10,
=======
   "execution_count": 14,
>>>>>>> a2a74ebb2f19e4b2f89c58830922144dc06b8bfa
>>>>>>> Stashed changes
   "id": "c902f76d-7831-4bfd-a7ea-11eadb3560de",
   "metadata": {},
   "outputs": [
    {
     "name": "stdout",
     "output_type": "stream",
     "text": [
<<<<<<< Updated upstream
=======
<<<<<<< HEAD
      "[[8823 1070]\n",
      " [2293 1966]]\n",
      "confusion matrix:\n",
      "[[8823 1070]\n",
      " [2293 1966]]\n",
      "accuracy = 0.7623657584190369\n",
      "precision class 0 = 0.7937207818031311\n",
      "precision class 1 = 0.647562563419342\n",
      "recall class 0 = 0.8918427228927612\n",
      "recall class 1 = 0.46161070466041565\n",
      "AUC of ROC = 0.783480790834315\n",
      "AUC of PRC = 0.6355841073292751\n",
      "min(+P, Se) = 0.5771307818736793\n",
      "Precision: 0.7206416726112366\n",
      "Recall: 0.6767266988754272\n"
=======
>>>>>>> Stashed changes
      "[[9335 1367]\n",
      " [2861 2807]]\n",
      "confusion matrix:\n",
      "[[9335 1367]\n",
      " [2861 2807]]\n",
      "accuracy = 0.7417226433753967\n",
      "precision class 0 = 0.7654148936271667\n",
      "precision class 1 = 0.6724963784217834\n",
      "recall class 0 = 0.8722668886184692\n",
      "recall class 1 = 0.49523642659187317\n",
      "AUC of ROC = 0.7859859592657543\n",
      "AUC of PRC = 0.6756390641753677\n",
      "min(+P, Se) = 0.6147064009874802\n",
      "Precision: 0.7189556360244751\n",
      "Recall: 0.68375164270401\n"
<<<<<<< Updated upstream
=======
>>>>>>> a2a74ebb2f19e4b2f89c58830922144dc06b8bfa
>>>>>>> Stashed changes
     ]
    }
   ],
   "source": [
    "val_evaluate_loader = torch.utils.data.DataLoader(val_dataset, batch_size=1, shuffle=False)\n",
    "y_val_labels, y_val_pred_values, y_val_pred_labels = opt.evaluate(\n",
    "    val_evaluate_loader, batch_size=1, n_features=input_dim, timesteps=timesteps\n",
    ")\n",
    "\n",
    "y_val_pred_values = y_val_pred_values[y_val_labels != -1]\n",
    "y_val_pred_labels = y_val_pred_labels[y_val_labels != -1]\n",
    "y_val_labels = y_val_labels[y_val_labels != -1]\n",
    "\n",
    "confusion_matrix = metrics.confusion_matrix(y_val_labels, y_val_pred_labels)\n",
    "print(confusion_matrix)\n",
    "\n",
    "pred_metrics = print_metrics_binary(y_val_labels, y_val_pred_values, y_val_pred_labels)\n",
    "prec = (pred_metrics[\"prec0\"] + pred_metrics[\"prec1\"]) / 2\n",
    "rec = (pred_metrics[\"rec0\"] + pred_metrics[\"rec1\"]) / 2\n",
    "print(f\"Precision: {prec}\")\n",
    "print(f\"Recall: {rec}\")"
   ]
  },
  {
   "cell_type": "markdown",
   "id": "9a11dbaa-02e3-4415-84ee-abc159a5337a",
   "metadata": {},
   "source": [
    "## Testing, metrics"
   ]
  },
  {
   "cell_type": "code",
<<<<<<< Updated upstream
   "execution_count": 13,
=======
<<<<<<< HEAD
   "execution_count": 11,
=======
   "execution_count": 13,
>>>>>>> a2a74ebb2f19e4b2f89c58830922144dc06b8bfa
>>>>>>> Stashed changes
   "id": "14f74137-9a38-40c6-92ee-1e6f4e02290c",
   "metadata": {},
   "outputs": [
    {
     "name": "stdout",
     "output_type": "stream",
     "text": [
<<<<<<< Updated upstream
=======
<<<<<<< HEAD
      "[[8117 2075]\n",
      " [3713 4247]]\n",
      "confusion matrix:\n",
      "[[8117 2075]\n",
      " [3713 4247]]\n",
      "accuracy = 0.6811370849609375\n",
      "precision class 0 = 0.6861369609832764\n",
      "precision class 1 = 0.671781063079834\n",
      "recall class 0 = 0.7964089512825012\n",
      "recall class 1 = 0.5335426926612854\n",
      "AUC of ROC = 0.7407811908344706\n",
      "AUC of PRC = 0.6842811348061302\n",
      "min(+P, Se) = 0.6390458254865035\n",
      "Precision: 0.6789590120315552\n",
      "Recall: 0.6649758219718933\n"
=======
>>>>>>> Stashed changes
      "[[2830  291]\n",
      " [1208 1080]]\n",
      "confusion matrix:\n",
      "[[2830  291]\n",
      " [1208 1080]]\n",
      "accuracy = 0.7228692770004272\n",
      "precision class 0 = 0.700842022895813\n",
      "precision class 1 = 0.7877461910247803\n",
      "recall class 0 = 0.9067606329917908\n",
      "recall class 1 = 0.4720279574394226\n",
      "AUC of ROC = 0.800629841161722\n",
      "AUC of PRC = 0.7519304400778812\n",
      "min(+P, Se) = 0.6827256944444444\n",
      "Precision: 0.7442941069602966\n",
      "Recall: 0.6893942952156067\n"
<<<<<<< Updated upstream
=======
>>>>>>> a2a74ebb2f19e4b2f89c58830922144dc06b8bfa
>>>>>>> Stashed changes
     ]
    }
   ],
   "source": [
    "test_dataset = get_data(X_test_inputs, y_test)\n",
    "test_loader = torch.utils.data.DataLoader(test_dataset, batch_size=1, shuffle=False)\n",
    "y_test_labels, y_pred_values, y_pred_labels = opt.evaluate(\n",
    "    test_loader, batch_size=1, n_features=input_dim, timesteps=timesteps\n",
    ")\n",
    "\n",
    "y_pred_values = y_pred_values[y_test_labels != -1]\n",
    "y_pred_labels = y_pred_labels[y_test_labels != -1]\n",
    "y_test_labels = y_test_labels[y_test_labels != -1]\n",
    "\n",
    "confusion_matrix = metrics.confusion_matrix(y_test_labels, y_pred_labels)\n",
    "print(confusion_matrix)\n",
    "\n",
    "pred_metrics = print_metrics_binary(y_test_labels, y_pred_values, y_pred_labels)\n",
    "prec = (pred_metrics[\"prec0\"] + pred_metrics[\"prec1\"]) / 2\n",
    "rec = (pred_metrics[\"rec0\"] + pred_metrics[\"rec1\"]) / 2\n",
    "print(f\"Precision: {prec}\")\n",
    "print(f\"Recall: {rec}\")"
   ]
  },
  {
   "cell_type": "markdown",
   "id": "612d8bf4-79c5-449f-ad60-f20217377827",
   "metadata": {},
   "source": [
    "## Plot confusion matrix"
   ]
  },
  {
   "cell_type": "code",
<<<<<<< Updated upstream
   "execution_count": 18,
=======
<<<<<<< HEAD
   "execution_count": 8,
=======
   "execution_count": 18,
>>>>>>> a2a74ebb2f19e4b2f89c58830922144dc06b8bfa
>>>>>>> Stashed changes
   "id": "a2dd7ab5-71cc-44f2-9df5-b7efba66d568",
   "metadata": {},
   "outputs": [
    {
     "data": {
<<<<<<< HEAD
      "image/png": "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\n",
      "text/plain": [
       "<Figure size 648x432 with 1 Axes>"
      ]
=======
      "application/vnd.plotly.v1+json": {
       "config": {
        "plotlyServerURL": "https://plot.ly"
       },
       "data": [
        {
         "colorscale": [
          [
           0,
           "rgb(247,252,245)"
          ],
          [
           0.125,
           "rgb(229,245,224)"
          ],
          [
           0.25,
           "rgb(199,233,192)"
          ],
          [
           0.375,
           "rgb(161,217,155)"
          ],
          [
           0.5,
           "rgb(116,196,118)"
          ],
          [
           0.625,
           "rgb(65,171,93)"
          ],
          [
           0.75,
           "rgb(35,139,69)"
          ],
          [
           0.875,
           "rgb(0,109,44)"
          ],
          [
           1,
           "rgb(0,68,27)"
          ]
         ],
         "hoverongaps": false,
         "type": "heatmap",
         "x": [
          "low risk of mortality",
          "high risk of mortality"
         ],
         "y": [
          "low risk of mortality",
          "high risk of mortality"
         ],
         "z": [
          [
           0.872266866006354,
           0.12773313399364605
          ],
          [
           0.5047635850388144,
           0.4952364149611856
          ]
         ]
        }
       ],
       "layout": {
        "height": 512,
        "template": {
         "data": {
          "bar": [
           {
            "error_x": {
             "color": "#2a3f5f"
            },
            "error_y": {
             "color": "#2a3f5f"
            },
            "marker": {
             "line": {
              "color": "#E5ECF6",
              "width": 0.5
             },
             "pattern": {
              "fillmode": "overlay",
              "size": 10,
              "solidity": 0.2
             }
            },
            "type": "bar"
           }
          ],
          "barpolar": [
           {
            "marker": {
             "line": {
              "color": "#E5ECF6",
              "width": 0.5
             },
             "pattern": {
              "fillmode": "overlay",
              "size": 10,
              "solidity": 0.2
             }
            },
            "type": "barpolar"
           }
          ],
          "carpet": [
           {
            "aaxis": {
             "endlinecolor": "#2a3f5f",
             "gridcolor": "white",
             "linecolor": "white",
             "minorgridcolor": "white",
             "startlinecolor": "#2a3f5f"
            },
            "baxis": {
             "endlinecolor": "#2a3f5f",
             "gridcolor": "white",
             "linecolor": "white",
             "minorgridcolor": "white",
             "startlinecolor": "#2a3f5f"
            },
            "type": "carpet"
           }
          ],
          "choropleth": [
           {
            "colorbar": {
             "outlinewidth": 0,
             "ticks": ""
            },
            "type": "choropleth"
           }
          ],
          "contour": [
           {
            "colorbar": {
             "outlinewidth": 0,
             "ticks": ""
            },
            "colorscale": [
             [
              0,
              "#0d0887"
             ],
             [
              0.1111111111111111,
              "#46039f"
             ],
             [
              0.2222222222222222,
              "#7201a8"
             ],
             [
              0.3333333333333333,
              "#9c179e"
             ],
             [
              0.4444444444444444,
              "#bd3786"
             ],
             [
              0.5555555555555556,
              "#d8576b"
             ],
             [
              0.6666666666666666,
              "#ed7953"
             ],
             [
              0.7777777777777778,
              "#fb9f3a"
             ],
             [
              0.8888888888888888,
              "#fdca26"
             ],
             [
              1,
              "#f0f921"
             ]
            ],
            "type": "contour"
           }
          ],
          "contourcarpet": [
           {
            "colorbar": {
             "outlinewidth": 0,
             "ticks": ""
            },
            "type": "contourcarpet"
           }
          ],
          "heatmap": [
           {
            "colorbar": {
             "outlinewidth": 0,
             "ticks": ""
            },
            "colorscale": [
             [
              0,
              "#0d0887"
             ],
             [
              0.1111111111111111,
              "#46039f"
             ],
             [
              0.2222222222222222,
              "#7201a8"
             ],
             [
              0.3333333333333333,
              "#9c179e"
             ],
             [
              0.4444444444444444,
              "#bd3786"
             ],
             [
              0.5555555555555556,
              "#d8576b"
             ],
             [
              0.6666666666666666,
              "#ed7953"
             ],
             [
              0.7777777777777778,
              "#fb9f3a"
             ],
             [
              0.8888888888888888,
              "#fdca26"
             ],
             [
              1,
              "#f0f921"
             ]
            ],
            "type": "heatmap"
           }
          ],
          "heatmapgl": [
           {
            "colorbar": {
             "outlinewidth": 0,
             "ticks": ""
            },
            "colorscale": [
             [
              0,
              "#0d0887"
             ],
             [
              0.1111111111111111,
              "#46039f"
             ],
             [
              0.2222222222222222,
              "#7201a8"
             ],
             [
              0.3333333333333333,
              "#9c179e"
             ],
             [
              0.4444444444444444,
              "#bd3786"
             ],
             [
              0.5555555555555556,
              "#d8576b"
             ],
             [
              0.6666666666666666,
              "#ed7953"
             ],
             [
              0.7777777777777778,
              "#fb9f3a"
             ],
             [
              0.8888888888888888,
              "#fdca26"
             ],
             [
              1,
              "#f0f921"
             ]
            ],
            "type": "heatmapgl"
           }
          ],
          "histogram": [
           {
            "marker": {
             "pattern": {
              "fillmode": "overlay",
              "size": 10,
              "solidity": 0.2
             }
            },
            "type": "histogram"
           }
          ],
          "histogram2d": [
           {
            "colorbar": {
             "outlinewidth": 0,
             "ticks": ""
            },
            "colorscale": [
             [
              0,
              "#0d0887"
             ],
             [
              0.1111111111111111,
              "#46039f"
             ],
             [
              0.2222222222222222,
              "#7201a8"
             ],
             [
              0.3333333333333333,
              "#9c179e"
             ],
             [
              0.4444444444444444,
              "#bd3786"
             ],
             [
              0.5555555555555556,
              "#d8576b"
             ],
             [
              0.6666666666666666,
              "#ed7953"
             ],
             [
              0.7777777777777778,
              "#fb9f3a"
             ],
             [
              0.8888888888888888,
              "#fdca26"
             ],
             [
              1,
              "#f0f921"
             ]
            ],
            "type": "histogram2d"
           }
          ],
          "histogram2dcontour": [
           {
            "colorbar": {
             "outlinewidth": 0,
             "ticks": ""
            },
            "colorscale": [
             [
              0,
              "#0d0887"
             ],
             [
              0.1111111111111111,
              "#46039f"
             ],
             [
              0.2222222222222222,
              "#7201a8"
             ],
             [
              0.3333333333333333,
              "#9c179e"
             ],
             [
              0.4444444444444444,
              "#bd3786"
             ],
             [
              0.5555555555555556,
              "#d8576b"
             ],
             [
              0.6666666666666666,
              "#ed7953"
             ],
             [
              0.7777777777777778,
              "#fb9f3a"
             ],
             [
              0.8888888888888888,
              "#fdca26"
             ],
             [
              1,
              "#f0f921"
             ]
            ],
            "type": "histogram2dcontour"
           }
          ],
          "mesh3d": [
           {
            "colorbar": {
             "outlinewidth": 0,
             "ticks": ""
            },
            "type": "mesh3d"
           }
          ],
          "parcoords": [
           {
            "line": {
             "colorbar": {
              "outlinewidth": 0,
              "ticks": ""
             }
            },
            "type": "parcoords"
           }
          ],
          "pie": [
           {
            "automargin": true,
            "type": "pie"
           }
          ],
          "scatter": [
           {
            "fillpattern": {
             "fillmode": "overlay",
             "size": 10,
             "solidity": 0.2
            },
            "type": "scatter"
           }
          ],
          "scatter3d": [
           {
            "line": {
             "colorbar": {
              "outlinewidth": 0,
              "ticks": ""
             }
            },
            "marker": {
             "colorbar": {
              "outlinewidth": 0,
              "ticks": ""
             }
            },
            "type": "scatter3d"
           }
          ],
          "scattercarpet": [
           {
            "marker": {
             "colorbar": {
              "outlinewidth": 0,
              "ticks": ""
             }
            },
            "type": "scattercarpet"
           }
          ],
          "scattergeo": [
           {
            "marker": {
             "colorbar": {
              "outlinewidth": 0,
              "ticks": ""
             }
            },
            "type": "scattergeo"
           }
          ],
          "scattergl": [
           {
            "marker": {
             "colorbar": {
              "outlinewidth": 0,
              "ticks": ""
             }
            },
            "type": "scattergl"
           }
          ],
          "scattermapbox": [
           {
            "marker": {
             "colorbar": {
              "outlinewidth": 0,
              "ticks": ""
             }
            },
            "type": "scattermapbox"
           }
          ],
          "scatterpolar": [
           {
            "marker": {
             "colorbar": {
              "outlinewidth": 0,
              "ticks": ""
             }
            },
            "type": "scatterpolar"
           }
          ],
          "scatterpolargl": [
           {
            "marker": {
             "colorbar": {
              "outlinewidth": 0,
              "ticks": ""
             }
            },
            "type": "scatterpolargl"
           }
          ],
          "scatterternary": [
           {
            "marker": {
             "colorbar": {
              "outlinewidth": 0,
              "ticks": ""
             }
            },
            "type": "scatterternary"
           }
          ],
          "surface": [
           {
            "colorbar": {
             "outlinewidth": 0,
             "ticks": ""
            },
            "colorscale": [
             [
              0,
              "#0d0887"
             ],
             [
              0.1111111111111111,
              "#46039f"
             ],
             [
              0.2222222222222222,
              "#7201a8"
             ],
             [
              0.3333333333333333,
              "#9c179e"
             ],
             [
              0.4444444444444444,
              "#bd3786"
             ],
             [
              0.5555555555555556,
              "#d8576b"
             ],
             [
              0.6666666666666666,
              "#ed7953"
             ],
             [
              0.7777777777777778,
              "#fb9f3a"
             ],
             [
              0.8888888888888888,
              "#fdca26"
             ],
             [
              1,
              "#f0f921"
             ]
            ],
            "type": "surface"
           }
          ],
          "table": [
           {
            "cells": {
             "fill": {
              "color": "#EBF0F8"
             },
             "line": {
              "color": "white"
             }
            },
            "header": {
             "fill": {
              "color": "#C8D4E3"
             },
             "line": {
              "color": "white"
             }
            },
            "type": "table"
           }
          ]
         },
         "layout": {
          "annotationdefaults": {
           "arrowcolor": "#2a3f5f",
           "arrowhead": 0,
           "arrowwidth": 1
          },
          "autotypenumbers": "strict",
          "coloraxis": {
           "colorbar": {
            "outlinewidth": 0,
            "ticks": ""
           }
          },
          "colorscale": {
           "diverging": [
            [
             0,
             "#8e0152"
            ],
            [
             0.1,
             "#c51b7d"
            ],
            [
             0.2,
             "#de77ae"
            ],
            [
             0.3,
             "#f1b6da"
            ],
            [
             0.4,
             "#fde0ef"
            ],
            [
             0.5,
             "#f7f7f7"
            ],
            [
             0.6,
             "#e6f5d0"
            ],
            [
             0.7,
             "#b8e186"
            ],
            [
             0.8,
             "#7fbc41"
            ],
            [
             0.9,
             "#4d9221"
            ],
            [
             1,
             "#276419"
            ]
           ],
           "sequential": [
            [
             0,
             "#0d0887"
            ],
            [
             0.1111111111111111,
             "#46039f"
            ],
            [
             0.2222222222222222,
             "#7201a8"
            ],
            [
             0.3333333333333333,
             "#9c179e"
            ],
            [
             0.4444444444444444,
             "#bd3786"
            ],
            [
             0.5555555555555556,
             "#d8576b"
            ],
            [
             0.6666666666666666,
             "#ed7953"
            ],
            [
             0.7777777777777778,
             "#fb9f3a"
            ],
            [
             0.8888888888888888,
             "#fdca26"
            ],
            [
             1,
             "#f0f921"
            ]
           ],
           "sequentialminus": [
            [
             0,
             "#0d0887"
            ],
            [
             0.1111111111111111,
             "#46039f"
            ],
            [
             0.2222222222222222,
             "#7201a8"
            ],
            [
             0.3333333333333333,
             "#9c179e"
            ],
            [
             0.4444444444444444,
             "#bd3786"
            ],
            [
             0.5555555555555556,
             "#d8576b"
            ],
            [
             0.6666666666666666,
             "#ed7953"
            ],
            [
             0.7777777777777778,
             "#fb9f3a"
            ],
            [
             0.8888888888888888,
             "#fdca26"
            ],
            [
             1,
             "#f0f921"
            ]
           ]
          },
          "colorway": [
           "#636efa",
           "#EF553B",
           "#00cc96",
           "#ab63fa",
           "#FFA15A",
           "#19d3f3",
           "#FF6692",
           "#B6E880",
           "#FF97FF",
           "#FECB52"
          ],
          "font": {
           "color": "#2a3f5f"
          },
          "geo": {
           "bgcolor": "white",
           "lakecolor": "white",
           "landcolor": "#E5ECF6",
           "showlakes": true,
           "showland": true,
           "subunitcolor": "white"
          },
          "hoverlabel": {
           "align": "left"
          },
          "hovermode": "closest",
          "mapbox": {
           "style": "light"
          },
          "paper_bgcolor": "white",
          "plot_bgcolor": "#E5ECF6",
          "polar": {
           "angularaxis": {
            "gridcolor": "white",
            "linecolor": "white",
            "ticks": ""
           },
           "bgcolor": "#E5ECF6",
           "radialaxis": {
            "gridcolor": "white",
            "linecolor": "white",
            "ticks": ""
           }
          },
          "scene": {
           "xaxis": {
            "backgroundcolor": "#E5ECF6",
            "gridcolor": "white",
            "gridwidth": 2,
            "linecolor": "white",
            "showbackground": true,
            "ticks": "",
            "zerolinecolor": "white"
           },
           "yaxis": {
            "backgroundcolor": "#E5ECF6",
            "gridcolor": "white",
            "gridwidth": 2,
            "linecolor": "white",
            "showbackground": true,
            "ticks": "",
            "zerolinecolor": "white"
           },
           "zaxis": {
            "backgroundcolor": "#E5ECF6",
            "gridcolor": "white",
            "gridwidth": 2,
            "linecolor": "white",
            "showbackground": true,
            "ticks": "",
            "zerolinecolor": "white"
           }
          },
          "shapedefaults": {
           "line": {
            "color": "#2a3f5f"
           }
          },
          "ternary": {
           "aaxis": {
            "gridcolor": "white",
            "linecolor": "white",
            "ticks": ""
           },
           "baxis": {
            "gridcolor": "white",
            "linecolor": "white",
            "ticks": ""
           },
           "bgcolor": "#E5ECF6",
           "caxis": {
            "gridcolor": "white",
            "linecolor": "white",
            "ticks": ""
           }
          },
          "title": {
           "x": 0.05
          },
          "xaxis": {
           "automargin": true,
           "gridcolor": "white",
           "linecolor": "white",
           "ticks": "",
           "title": {
            "standoff": 15
           },
           "zerolinecolor": "white",
           "zerolinewidth": 2
          },
          "yaxis": {
           "automargin": true,
           "gridcolor": "white",
           "linecolor": "white",
           "ticks": "",
           "title": {
            "standoff": 15
           },
           "zerolinecolor": "white",
           "zerolinewidth": 2
          }
         }
        },
        "title": {
         "text": "Confusion Matrix"
        },
        "width": 1024,
        "xaxis": {
         "title": {
          "text": "Predicted value"
         }
        },
        "yaxis": {
         "title": {
          "text": "Real value"
         }
        }
       }
      }
<<<<<<< Updated upstream
=======
>>>>>>> a2a74ebb2f19e4b2f89c58830922144dc06b8bfa
     },
     "metadata": {
      "needs_background": "light"
>>>>>>> Stashed changes
     },
     "output_type": "display_data"
    }
   ],
   "source": [
    "import matplotlib.pyplot as plt\n",
    "import seaborn as sns\n",
    "import pandas as pd\n",
    "import numpy as np\n",
    "\n",
    "sns.set(style='white')\n",
    "fig, ax = plt.subplots(figsize=(9, 6))\n",
    "sns.heatmap(np.eye(2), annot=confusion_matrix, fmt='g', annot_kws={'size': 50},\n",
    "            cmap=sns.color_palette(['tomato', 'palegreen'], as_cmap=True), cbar=False,\n",
    "            yticklabels=['True', 'False'], xticklabels=['True', 'False'], ax=ax)\n",
    "ax.xaxis.tick_top()\n",
    "ax.xaxis.set_label_position('top')\n",
    "ax.tick_params(labelsize=20, length=0)\n",
    "\n",
    "ax.set_title('Confusion Matrix for Test Set', size=24, pad=20)\n",
    "ax.set_xlabel('Predicted Values', size=20)\n",
    "ax.set_ylabel('Actual Values', size=20)\n",
    "\n",
    "additional_texts = ['(True Positive)', '(False Negative)', '(False Positive)', '(True Negative)']\n",
    "for text_elt, additional_text in zip(ax.texts, additional_texts):\n",
    "    ax.text(*text_elt.get_position(), '\\n' + additional_text, color=text_elt.get_color(),\n",
    "            ha='center', va='top', size=24)\n",
    "plt.tight_layout()\n",
    "plt.show()"
   ]
  },
  {
   "cell_type": "markdown",
   "id": "a43cfde9-3c6d-4de9-817e-811376f5cb3f",
   "metadata": {
    "tags": []
   },
   "source": [
    "## Compute AUROC across timesteps"
   ]
  },
  {
   "cell_type": "code",
   "execution_count": null,
   "id": "f9b20a9a-5935-4880-98a8-8bd8b8eb19ab",
   "metadata": {},
   "outputs": [],
   "source": [
    "y_test_labels, y_pred_values, y_pred_labels = opt.evaluate(\n",
    "    test_loader, batch_size=1, n_features=input_dim, timesteps=timesteps, flatten=False\n",
    ")\n",
    "\n",
    "num_timesteps = y_pred_labels.shape[1]\n",
    "auroc_timesteps = []\n",
    "for i in range(num_timesteps):\n",
    "    labels = y_test_labels[:, i]\n",
    "    pred_vals = y_pred_values[:, i]\n",
    "    preds = y_pred_labels[:, i]\n",
    "    pred_vals = pred_vals[labels != -1]\n",
    "    preds = preds[labels != -1]\n",
    "    labels = labels[labels != -1]\n",
    "    pred_metrics = print_metrics_binary(labels, pred_vals, preds, verbose=False)\n",
    "    auroc_timesteps.append(pred_metrics[\"auroc\"])\n",
    "\n",
    "\n",
    "prediction_hours = list(range(24, 168, 24))\n",
    "fig = go.Figure(\n",
    "    data=[go.Bar(x=prediction_hours, y=auroc_timesteps, name=\"model confidence\")]\n",
    ")\n",
    "\n",
    "fig.update_xaxes(tickvals=prediction_hours)\n",
    "fig.update_yaxes(range=[min(auroc_timesteps) - 0.05, max(auroc_timesteps) + 0.05])\n",
    "\n",
    "fig.update_layout(\n",
    "    title=\"AUROC split by no. of hours after admission\",\n",
    "    autosize=False,\n",
    "    xaxis_title=\"No. of hours after admission\",\n",
    ")\n",
    "fig.show()"
   ]
  },
  {
   "cell_type": "markdown",
   "id": "1aea19ab-7dc3-4f9e-b073-17f788537b81",
   "metadata": {},
   "source": [
    "## WIP: Compute accuracy across lead times"
   ]
  },
  {
   "cell_type": "code",
   "execution_count": null,
   "id": "5ed54c9c-4e81-4bce-9fe7-09a18296c3de",
   "metadata": {},
   "outputs": [],
   "source": [
    "# BASE_DATA_PATH = \"/mnt/nfs/project/delirium/drift_exp/risk_of_mortality\"\n",
    "\n",
    "# combined_events = load_dataframe(os.path.join(BASE_DATA_PATH, \"combined_events\"))\n",
    "# timestep_end_timestamps = load_dataframe(os.path.join(BASE_DATA_PATH, \"aggmeta_end_ts\"))\n",
    "\n",
    "# mortality_events = combined_events.loc[combined_events[\"event_name\"] == \"death\"]\n",
    "\n",
    "# y_test_labels, y_pred_values, y_pred_labels = opt.evaluate(\n",
    "#     test_loader, batch_size=1, n_features=input_dim, timesteps=timesteps, flatten=False\n",
    "# )\n",
    "# train_val_test_ids = load_dataframe(os.path.join(BASE_DATA_PATH, \"train_val_test_ids\"))\n",
    "# test_ids = train_val_test_ids[\"test\"].dropna()\n",
    "\n",
    "# num_timesteps = y_pred_labels.shape[1]\n",
    "# acc_timesteps = []\n",
    "# for timestep in range(num_timesteps):\n",
    "#     labels = y_test_labels[:, timestep]\n",
    "#     pred_vals = y_pred_values[:, timestep]\n",
    "#     preds = y_pred_labels[:, timestep]\n",
    "\n",
    "#     is_correct_timestep = []\n",
    "#     for enc_id in test_ids:\n",
    "#         timestep_end_timestamp = timestep_end_timestamps.loc[enc_id, timestep]\n",
    "#         mortality_timestamp = mortality_events.loc[mortality_events[\"encounter_id\"] == enc_id][\"discharge_timestamp\"]\n",
    "#         lead_time = mortality_timestamp - timestep_end_timestamp\n",
    "#         print(timestep_end_timestamp, mortality_timestamp)\n",
    "#         if (lead_time > pd.to_timedelta(0, unit=\"h\")).all():\n",
    "#             label_ = labels[test_ids.index(enc_id)]\n",
    "#             pred_ = preds[test_ids.index(enc_id)]\n",
    "\n",
    "#             if label_ == 1:\n",
    "#                 if label_ == pred_:\n",
    "#                     is_correct_timestep.append(1)\n",
    "#                 else:\n",
    "#                     is_correct_timestep.append(0)\n",
    "\n",
    "#     acc_timesteps.append(sum(is_correct_timestep) / len(is_correct_timestep))"
   ]
  },
  {
   "cell_type": "markdown",
   "id": "d8825f3a-a941-456b-b418-db620c224eb0",
   "metadata": {},
   "source": [
    "## Visualize model outputs and labels"
   ]
  },
  {
   "cell_type": "code",
   "execution_count": null,
   "id": "5bc758ab-2734-4f03-9615-f1f0feb43b1a",
   "metadata": {},
   "outputs": [],
   "source": [
    "def plot_risk_mortality(predictions, labels=None):\n",
    "    prediction_hours = list(range(24, 168, 24))\n",
    "    is_mortality = labels == 1\n",
    "    after_discharge = labels == -1\n",
    "    label_h = -0.2\n",
    "    fig = go.Figure(\n",
    "        data=[\n",
    "            go.Scatter(\n",
    "                mode=\"markers\",\n",
    "                x=prediction_hours,\n",
    "                y=[label_h for x in prediction_hours],\n",
    "                line=dict(color=\"Black\"),\n",
    "                name=\"low risk of mortality label\",\n",
    "                marker=dict(color=\"Green\", size=20, line=dict(color=\"Black\", width=2)),\n",
    "            ),\n",
    "            go.Scatter(\n",
    "                mode=\"markers\",\n",
    "                x=[prediction_hours[i] for i, v in enumerate(is_mortality) if v],\n",
    "                y=[label_h for _, v in enumerate(is_mortality) if v],\n",
    "                line=dict(color=\"Red\"),\n",
    "                name=\"high risk of mortality label\",\n",
    "                marker=dict(color=\"Red\", size=20, line=dict(color=\"Black\", width=2)),\n",
    "            ),\n",
    "            go.Scatter(\n",
    "                mode=\"markers\",\n",
    "                x=[prediction_hours[i] for i, v in enumerate(after_discharge) if v],\n",
    "                y=[label_h for _, v in enumerate(after_discharge) if v],\n",
    "                line=dict(color=\"Grey\"),\n",
    "                name=\"post discharge label\",\n",
    "                marker=dict(color=\"Grey\", size=20, line=dict(color=\"Black\", width=2)),\n",
    "            ),\n",
    "            go.Bar(\n",
    "                x=prediction_hours,\n",
    "                y=predictions,\n",
    "                marker_color=\"Red\",\n",
    "                name=\"model confidence\",\n",
    "            ),\n",
    "        ]\n",
    "    )\n",
    "    fig.update_yaxes(range=[label_h, 1])\n",
    "    fig.update_xaxes(tickvals=prediction_hours)\n",
    "    fig.update_xaxes(showline=True, linewidth=2, linecolor=\"black\")\n",
    "\n",
    "    fig.add_hline(y=0.5)\n",
    "\n",
    "    fig.update_layout(\n",
    "        title=\"Model output visualization\",\n",
    "        autosize=False,\n",
    "        xaxis_title=\"No. of hours after admission\",\n",
    "        yaxis_title=\"Model confidence\",\n",
    "    )\n",
    "\n",
    "    return fig\n",
    "\n",
    "\n",
    "mortality_cases = [idx for idx, v in enumerate(y_test_labels)]\n",
    "sample_idx = random.choice(mortality_cases)\n",
    "fig = plot_risk_mortality(\n",
    "    y_pred_values[sample_idx].squeeze(), y_test_labels[sample_idx]\n",
    ")\n",
    "fig.show()"
   ]
  },
  {
   "cell_type": "markdown",
   "id": "e8e182f4-e943-4e8f-ac45-8c445ed064c5",
   "metadata": {},
   "source": [
    "## Journal of some experiments"
   ]
  },
  {
   "cell_type": "markdown",
   "id": "9cb21dd9-83a7-4b49-b328-655bf02a3c8b",
   "metadata": {},
   "source": [
    "\n",
    "<table>\n",
    "    <thead>\n",
    "        <tr>\n",
    "            <th>Split</th>\n",
    "            <th>Model</th>\n",
    "            <th>AUROC</th>\n",
    "        </tr>\n",
    "    </thead>\n",
    "    <tbody>\n",
    "        <tr>\n",
    "            <td rowspan=4>Random</td>\n",
    "        </tr>\n",
    "        <tr>\n",
    "            <td>LSTM</td>\n",
    "            <td><b>0.8005</b></td>\n",
    "        </tr>\n",
    "          <tr style=\"border-bottom:1px solid black\">\n",
    "            <td colspan=\"100%\"></td>\n",
    "          </tr>\n",
    "          <tr> ... </tr>\n",
    "    </tbody>\n",
    "</table>"
   ]
  }
 ],
 "metadata": {
  "kernelspec": {
   "display_name": "cyclops-KKtuQLwg-py3.9",
   "language": "python",
   "name": "cyclops-kktuqlwg-py3.9"
  },
  "language_info": {
   "codemirror_mode": {
    "name": "ipython",
    "version": 3
   },
   "file_extension": ".py",
   "mimetype": "text/x-python",
   "name": "python",
   "nbconvert_exporter": "python",
   "pygments_lexer": "ipython3",
   "version": "3.9.7"
  }
 },
 "nbformat": 4,
 "nbformat_minor": 5
}
