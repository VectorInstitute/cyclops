{
 "cells": [
  {
   "cell_type": "markdown",
   "id": "f03ceff4-18a2-4a11-8e01-4dee32498695",
   "metadata": {},
   "source": [
    "### Train static models for in hospital mortality risk prediction"
   ]
  },
  {
   "cell_type": "code",
   "execution_count": null,
   "id": "d613f6de-6a6e-40f2-8b12-7908e41a9439",
   "metadata": {},
   "outputs": [],
   "source": [
    "import os\n",
    "import random\n",
    "import sys\n",
    "import pickle\n",
    "import matplotlib as mpl\n",
    "import matplotlib.pyplot as plt\n",
    "import numpy as np\n",
    "import pandas as pd\n",
    "\n",
    "from sklearn.metrics import (\n",
    "    auc,\n",
    "    accuracy_score,\n",
    "    confusion_matrix,\n",
    "    roc_auc_score,\n",
    "    roc_curve,\n",
    "    precision_recall_curve,\n",
    "    average_precision_score,\n",
    ")\n",
    "\n",
    "from baseline_models.static.utils import run_model\n",
    "from gemini.utils import *"
   ]
  },
  {
   "cell_type": "markdown",
   "id": "1f583e2f-1043-4655-a02d-14165d589b00",
   "metadata": {},
   "source": [
    "## Parameters"
   ]
  },
  {
   "cell_type": "code",
   "execution_count": null,
   "id": "05d903f5-05e7-4c34-bdcc-8af0b4e15621",
   "metadata": {},
   "outputs": [],
   "source": [
    "PATH = \"/mnt/nfs/project/delirium/drift_exp/JULY-04-2022/\"\n",
    "SHIFT=\"hosp_type_community\"\n",
    "OUTCOME=\"mortality\"\n",
    "TIMESTEPS=6\n",
    "AGGREGATION_TYPE = \"time_flatten\"\n",
    "HOSPITAL = [\"SMH\",\"MSH\",\"THPC\",\"THPM\",\"UHNTG\",\"UHNTW\",\"PMH\"]"
   ]
  },
  {
   "cell_type": "markdown",
   "id": "a453d3aa-3e8b-46c3-8e24-c9cc0cd10040",
   "metadata": {},
   "source": [
    "## Query and process data"
   ]
  },
  {
   "cell_type": "code",
   "execution_count": null,
   "id": "01782cb4-73b5-4b7b-b957-309ab53b0023",
   "metadata": {},
   "outputs": [],
   "source": [
    "# Query data\n",
    "admin_data, x, y = get_gemini_data(PATH)\n",
    "# Filter data\n",
    "(X_tr, y_tr), (X_val, y_val), (X_t, y_t), feats, admin_data = import_dataset_hospital(admin_data, x, y, SHIFT, OUTCOME, HOSPITAL, 1, shuffle=True)\n",
    "# Normalize data\n",
    "(X_tr_normalized, y_tr),(X_val_normalized, y_val), (X_t_normalized, y_t) = normalize_data(AGGREGATION_TYPE, admin_data, TIMESTEPS, X_tr, y_tr, X_val, y_val, X_t, y_t)\n",
    "# Scale data\n",
    "X_tr_normalized, X_val_normalized, X_t_normalized = scale_data(numerical_cols, X_tr_normalized, X_val_normalized, X_t_normalized)\n",
    "# Process data\n",
    "X_tr_final, X_val_final, X_t_final = process_data(AGGREGATION_TYPE, TIMESTEPS, X_tr_normalized, X_val_normalized, X_t_normalized)"
   ]
  },
  {
   "cell_type": "markdown",
   "id": "e4bdf3e4-1036-4781-b41f-a7c30ac4a761",
   "metadata": {},
   "source": [
    "## Build model"
   ]
  },
  {
   "cell_type": "code",
   "execution_count": null,
   "id": "0bf7fe93-8329-4d92-a0fd-3b6b0c7ced1e",
   "metadata": {},
   "outputs": [],
   "source": [
    "MODEL_NAME = input(\"Select Model: \")\n",
    "MODEL_PATH = PATH + \"_\".join([SHIFT, OUTCOME, '_'.join(HOSPITAL), MODEL_NAME]) + \".pkl\"\n",
    "if os.path.exists(MODEL_PATH):\n",
    "    optimised_model = pickle.load(open(MODEL_PATH, \"rb\"))\n",
    "else:\n",
    "    optimised_model = run_model(MODEL_NAME, X_tr_final, y_tr, X_val_final, y_val)\n",
    "    pickle.dump(optimised_model, open(MODEL_PATH, 'wb'))"
   ]
  },
  {
   "cell_type": "markdown",
   "id": "f80c0f33-3c47-47f6-a30a-457d65967481",
   "metadata": {},
   "source": [
    "## Performance"
   ]
  },
  {
   "cell_type": "code",
   "execution_count": null,
   "id": "6261c0c1-7a75-4802-b55e-11d28e4fbb83",
   "metadata": {},
   "outputs": [],
   "source": [
    "val_auroc = [] \n",
    "val_auprc = []\n",
    "test_auroc = []\n",
    "test_auprc = []\n",
    "RANDOM_RUNS=10\n",
    "for i in range(0, RANDOM_RUNS):\n",
    "    random.seed(i)\n",
    "    print(i)\n",
    "    (X_tr, y_tr), (X_val, y_val), (X_t, y_t), feats, admin_data = import_dataset_hospital(admin_data, x, y, SHIFT, OUTCOME, HOSPITAL, i, shuffle=True)\n",
    "\n",
    "    aggregation_type = \"time_flatten\"\n",
    "    numerical_cols = get_numerical_cols(PATH)\n",
    "\n",
    "    # Normalize data\n",
    "    (X_tr_normalized, y_tr),(X_val_normalized, y_val), (X_t_normalized, y_t) = normalize_data(aggregation_type, admin_data, TIMESTEPS, X_tr, y_tr, X_val, y_val, X_t, y_t)\n",
    "\n",
    "    # Scale data\n",
    "    if scale:\n",
    "        X_tr_normalized, X_val_normalized, X_t_normalized = scale_data(numerical_cols, X_tr_normalized, X_val_normalized, X_t_normalized)\n",
    "    # Process data\n",
    "    X_tr_final, X_val_final, X_t_final = process_data(aggregation_type, TIMESTEPS, X_tr_normalized, X_val_normalized, X_t_normalized)\n",
    "    \n",
    "    y_pred_prob = optimised_model.predict_proba(X_val_final)[:, 1]\n",
    "    fpr, tpr, thresholds = roc_curve(y_val, y_pred_prob, pos_label=1)\n",
    "    roc_auc = auc(fpr, tpr)\n",
    "    val_auroc.append(roc_auc)\n",
    "    precision, recall, thresholds = precision_recall_curve(y_val, y_pred_prob)\n",
    "    auc_pr = auc(recall, precision)\n",
    "    val_auprc.append(auc_pr)\n",
    "    \n",
    "    y_pred_prob = optimised_model.predict_proba(X_t_final)[:, 1]\n",
    "    fpr, tpr, thresholds = roc_curve(y_t, y_pred_prob, pos_label=1)\n",
    "    roc_auc = auc(fpr, tpr)\n",
    "    test_auroc.append(roc_auc)\n",
    "    precision, recall, thresholds = precision_recall_curve(y_t, y_pred_prob)\n",
    "    auc_pr = auc(recall, precision)\n",
    "    test_auprc.append(auc_pr)\n",
    "\n",
    "import scipy.stats as st\n",
    "\n",
    "print(np.mean(val_auroc),st.t.interval(0.95, len(val_auroc)-1, loc=np.mean(val_auroc), scale=st.sem(val_auroc)))\n",
    "print(np.mean(val_auprc),st.t.interval(0.95, len(val_auprc)-1, loc=np.mean(val_auprc), scale=st.sem(val_auprc)))\n",
    "print(np.mean(test_auroc),st.t.interval(0.95, len(test_auroc)-1, loc=np.mean(test_auroc), scale=st.sem(test_auroc)))\n",
    "print(np.mean(test_auprc),st.t.interval(0.95, len(test_auprc)-1, loc=np.mean(test_auprc), scale=st.sem(test_auprc)))"
   ]
  },
  {
   "cell_type": "markdown",
   "id": "524343fc-a624-409d-b1e4-1379f7601fa3",
   "metadata": {},
   "source": [
    "## Performance on source data"
   ]
  },
  {
   "cell_type": "code",
   "execution_count": null,
   "id": "93283e71-3ebe-4ce3-b565-38a30e7df41f",
   "metadata": {},
   "outputs": [],
   "source": [
    "y_pred_prob = optimised_model.predict_proba(X_val_final)[:, 1]\n",
    "\n",
    "fpr, tpr, thresholds = roc_curve(y_val, y_pred_prob, pos_label=1)\n",
    "roc_auc = auc(fpr, tpr)\n",
    "precision, recall, thresholds = precision_recall_curve(y_val, y_pred_prob)\n",
    "auc_pr = auc(recall, precision)\n",
    "fig, ax = plt.subplots(nrows=1, ncols=2, figsize=(14, 6))\n",
    "plot_roc(ax[0], fpr, tpr, roc_auc)\n",
    "plot_pr(ax[1], recall, precision, auc_pr)"
   ]
  },
  {
   "cell_type": "markdown",
   "id": "0f9a7f6e-5aaa-4fd1-ae23-278426b2e04f",
   "metadata": {},
   "source": [
    "## Performance on target data"
   ]
  },
  {
   "cell_type": "code",
   "execution_count": null,
   "id": "1f811207-6db4-4e3f-8126-31e488d39c0a",
   "metadata": {},
   "outputs": [],
   "source": [
    "y_pred_prob = optimised_model.predict_proba(X_t_final)[:, 1]\n",
    "fpr, tpr, thresholds = roc_curve(y_t, y_pred_prob, pos_label=1)\n",
    "roc_auc = auc(fpr, tpr)\n",
    "precision, recall, thresholds = precision_recall_curve(y_t, y_pred_prob)\n",
    "auc_pr = auc(recall, precision)\n",
    "fig, ax = plt.subplots(nrows=1, ncols=2, figsize=(14, 6))\n",
    "plot_roc(ax[0], fpr, tpr, roc_auc)\n",
    "plot_pr(ax[1], recall, precision, auc_pr)"
   ]
  },
  {
   "cell_type": "markdown",
   "id": "5ad4f3ff-a97f-4308-b031-9005a2c30442",
   "metadata": {},
   "source": [
    "## Performance by sample size"
   ]
  },
  {
   "cell_type": "code",
   "execution_count": null,
   "id": "fda45d75-2179-43db-b669-7c9e32ff0e4f",
   "metadata": {},
   "outputs": [],
   "source": [
    "def unison_shuffled_copies(a, b):\n",
    "    assert len(a) == len(b)\n",
    "    p = np.random.permutation(len(a))\n",
    "    return a[p], b[p]\n",
    "\n",
    "RANDOM_RUNS=100\n",
    "samp_metrics = np.ones((len(SAMPLES), RANDOM_RUNS, 2, 2)) * (-1)\n",
    "for si, sample in enumerate(SAMPLES):\n",
    "    for i in range(0, RANDOM_RUNS - 1):\n",
    "        i = int(i)\n",
    "        np.random.seed(i)\n",
    "        X_val_shuffled, y_val_shuffled = unison_shuffled_copies(X_val_final, y_val)\n",
    "        X_test_shuffled, y_test_shuffled = unison_shuffled_copies(X_t_final, y_t)\n",
    "\n",
    "        y_val_pred_prob = optimised_model.predict_proba(X_val_shuffled[:sample])[:, 1]\n",
    "        val_fpr, val_tpr, val_thresholds = roc_curve(\n",
    "            y_val_shuffled[:sample], y_val_pred_prob[:sample], pos_label=1\n",
    "        )\n",
    "        val_roc_auc = auc(val_fpr, val_tpr)\n",
    "        val_avg_pr = average_precision_score(y_val_shuffled[:sample], y_val_pred_prob[:sample])\n",
    "\n",
    "        y_test_pred_prob = optimised_model.predict_proba(X_test_shuffled[:sample])[:, 1]\n",
    "        test_fpr, test_tpr, test_thresholds = roc_curve(\n",
    "            y_test_shuffled[:sample], y_test_pred_prob[:sample], pos_label=1\n",
    "        )\n",
    "        test_roc_auc = auc(test_fpr, test_tpr)\n",
    "        test_avg_pr = average_precision_score(y_test_shuffled[:sample], y_test_pred_prob[:sample])\n",
    "\n",
    "        samp_metrics[si, i, 0, :] = [val_roc_auc, val_avg_pr]\n",
    "        samp_metrics[si, i, 1, :] = [test_roc_auc, test_avg_pr]\n",
    "\n",
    "    mean_samp_metrics = np.mean(samp_metrics, axis=1)\n",
    "    std_samp_metrics = np.std(samp_metrics, axis=1)"
   ]
  },
  {
   "cell_type": "markdown",
   "id": "5f9103f1-d34f-4967-9702-102497000420",
   "metadata": {},
   "source": [
    "## Plot performance"
   ]
  },
  {
   "cell_type": "code",
   "execution_count": null,
   "id": "b38401d1-cadc-4d88-a99d-42205f60b9f8",
   "metadata": {},
   "outputs": [],
   "source": [
    "fig = plt.figure(figsize=(8, 6))\n",
    "for si, shift in enumerate([\"baseline\", SHIFT]):\n",
    "    for mi, metric in enumerate([\"AuROC\", \"Avg Pr\"]):\n",
    "        if metric == \"AuROC\":\n",
    "            errorfill(\n",
    "                np.array(SAMPLES[1:]),\n",
    "                mean_samp_metrics[1:, si, mi],\n",
    "                std_samp_metrics[1:, si, mi],\n",
    "                fmt=linestyles[mi] + markers[mi],\n",
    "                color=colorscale(colors[si], brightness[si]),\n",
    "                label=\"%s\" % \"_\".join([shift]),\n",
    "            )\n",
    "plt.xlabel(\"Number of samples from test data\")\n",
    "plt.ylabel(\"AuROC\")\n",
    "plt.legend()\n",
    "plt.show()"
   ]
  }
 ],
 "metadata": {
  "kernelspec": {
   "display_name": "cyclops-KKtuQLwg-py3.9",
   "language": "python",
   "name": "cyclops-kktuqlwg-py3.9"
  },
  "language_info": {
   "codemirror_mode": {
    "name": "ipython",
    "version": 3
   },
   "file_extension": ".py",
   "mimetype": "text/x-python",
   "name": "python",
   "nbconvert_exporter": "python",
   "pygments_lexer": "ipython3",
   "version": "3.9.7"
  }
 },
 "nbformat": 4,
 "nbformat_minor": 5
}
