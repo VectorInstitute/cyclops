{
 "cells": [
  {
   "cell_type": "markdown",
   "id": "a5117a0d-9d1f-495e-93d5-edb057cf4c0a",
   "metadata": {},
   "source": [
    "## Data pipeline for predicting risk of mortality."
   ]
  },
  {
   "cell_type": "markdown",
   "id": "a8bb2625-e38f-428a-bcfd-6299b405d0f4",
   "metadata": {},
   "source": [
    "## Imports and Globals"
   ]
  },
  {
   "cell_type": "code",
   "execution_count": 1,
   "id": "international-relief",
   "metadata": {},
   "outputs": [
    {
     "name": "stderr",
     "output_type": "stream",
     "text": [
      "2022-06-16 14:22:19,552 \u001b[1;37mINFO\u001b[0m cyclops.orm     - Database setup, ready to run queries!\n"
     ]
    }
   ],
   "source": [
    "import os\n",
    "import random\n",
    "from typing import List, Optional\n",
    "\n",
    "import matplotlib.pyplot as plt\n",
    "import numpy as np\n",
    "import pandas as pd\n",
    "\n",
    "from cyclops.feature_handler import FeatureHandler\n",
    "from cyclops.plotter import plot_timeline, set_bars_color, setup_plot\n",
    "from cyclops.processor import run_data_pipeline\n",
    "from cyclops.processors.aggregate import Aggregator\n",
    "from cyclops.processors.column_names import (\n",
    "    ADMIT_TIMESTAMP,\n",
    "    AGE,\n",
    "    DIAGNOSIS_CODE,\n",
    "    DISCHARGE_DISPOSITION,\n",
    "    DISCHARGE_TIMESTAMP,\n",
    "    ENCOUNTER_ID,\n",
    "    EVENT_CATEGORY,\n",
    "    EVENT_NAME,\n",
    "    EVENT_TIMESTAMP,\n",
    "    EVENT_VALUE,\n",
    "    HOSPITAL_ID,\n",
    "    LENGTH_OF_STAY_IN_ER,\n",
    "    RESTRICT_TIMESTAMP,\n",
    "    SEX,\n",
    "    TIMESTEP,\n",
    "    TRIAGE_LEVEL,\n",
    "    WINDOW_START_TIMESTAMP,\n",
    ")\n",
    "\n",
    "from cyclops.processors.constants import SMH\n",
    "from cyclops.processors.events import (\n",
    "    combine_events,\n",
    "    convert_to_events,\n",
    "    normalize_events,\n",
    ")\n",
    "from cyclops.processors.impute import Imputer\n",
    "from cyclops.processors.statics import compute_statics\n",
    "from cyclops.processors.util import (\n",
    "    create_indicator_variables,\n",
    "    fill_missing_timesteps,\n",
    "    gather_columns,\n",
    "    pivot_aggregated_events_to_features,\n",
    ")\n",
    "from cyclops.query import gemini\n",
    "from cyclops.utils.file import load_dataframe, save_dataframe\n",
    "\n",
    "MORTALITY = \"mortality\"\n",
    "LOS = \"los\"\n",
    "BASE_DATA_PATH = \"/mnt/nfs/project/delirium/drift_exp/_extract_v3\"\n",
    "AGGREGATION_WINDOW = 6*24\n",
    "AGGREGATION_BUCKET_SIZE = 24"
   ]
  },
  {
   "cell_type": "markdown",
   "id": "c8091448-5301-4631-a7d4-150667441e77",
   "metadata": {},
   "source": [
    "## Run query, save"
   ]
  },
  {
   "cell_type": "code",
   "execution_count": 2,
   "id": "aa9efab5-8eb8-45fc-a53d-e5bfcc72ad95",
   "metadata": {},
   "outputs": [],
   "source": [
    "# os.makedirs(BASE_DATA_PATH, exist_ok=True)\n",
    "# er_admin_table = gemini.get_table(gemini.ER_ADMIN)\n",
    "# encounters = gemini.patient_encounters(\n",
    "#     er_admin_table=er_admin_table,\n",
    "#     years=[2018, 2019, 2020],\n",
    "#     died=True,\n",
    "#     died_binarize_col=\"mortality\",\n",
    "# )\n",
    "# encounters_labs = gemini.events(\n",
    "#     patient_encounters_table=encounters.query, event_category=\"lab\"\n",
    "# )\n",
    "# encounters_vitals = gemini.events(\n",
    "#     patient_encounters_table=encounters.query, event_category=\"vitals\"\n",
    "# )\n",
    "# imaging = gemini.imaging(years=[2018, 2019, 2020])\n",
    "# transfusions = gemini.blood_transfusions(years=[2018, 2019, 2020])\n",
    "# interventions = gemini.interventions(years=[2018, 2019, 2020])\n",
    "\n",
    "# encounters.run()\n",
    "# print(f\"{len(encounters.data)} rows extracted!\")\n",
    "\n",
    "# encounters_labs.run()\n",
    "# print(f\"{len(encounters_labs.data)} rows extracted!\")\n",
    "# encounters_labs.save(os.path.join(BASE_DATA_PATH, \"labs\"))\n",
    "# encounters_labs.clear_data()\n",
    "\n",
    "# encounters_vitals.run()\n",
    "# print(f\"{len(encounters_vitals.data)} rows extracted!\")\n",
    "# encounters_vitals.save(os.path.join(BASE_DATA_PATH, \"vitals\"))\n",
    "# encounters_vitals.clear_data()\n",
    "\n",
    "# imaging.run()\n",
    "# print(f\"{len(imaging.data)} rows extracted!\")\n",
    "# transfusions.run()\n",
    "# print(f\"{len(transfusions.data)} rows extracted!\")\n",
    "# interventions.run()\n",
    "# print(f\"{len(interventions.data)} rows extracted!\")\n",
    "\n",
    "# encounters_imaging = pd.merge(\n",
    "#     encounters.data, imaging.data, on=ENCOUNTER_ID, how=\"inner\"\n",
    "# )\n",
    "# encounters_transfusions = pd.merge(\n",
    "#     encounters.data, transfusions.data, on=ENCOUNTER_ID, how=\"inner\"\n",
    "# )\n",
    "# encounters_interventions = pd.merge(\n",
    "#     encounters.data, interventions.data, on=ENCOUNTER_ID, how=\"inner\"\n",
    "# )\n",
    "\n",
    "# encounters.save(os.path.join(BASE_DATA_PATH, \"admin_er\"))\n",
    "# encounters_imaging.to_parquet(os.path.join(BASE_DATA_PATH, \"imaging.parquet\"))\n",
    "# encounters_transfusions.to_parquet(os.path.join(BASE_DATA_PATH, \"transfusions.parquet\"))\n",
    "# encounters_interventions.to_parquet(\n",
    "#     os.path.join(BASE_DATA_PATH, \"interventions.parquet\")\n",
    "# )"
   ]
  },
  {
   "cell_type": "markdown",
   "id": "dde24be8-7759-4241-a24d-e63eaa9ce9ac",
   "metadata": {},
   "source": [
    "## Read saved query data"
   ]
  },
  {
   "cell_type": "code",
   "execution_count": 3,
   "id": "964a868e-11ab-432e-9d45-006f57d5a356",
   "metadata": {},
   "outputs": [],
   "source": [
    "encounters_data = pd.read_parquet(os.path.join(BASE_DATA_PATH, \"admin_er.parquet\"))\n",
    "labs_data = pd.read_parquet(os.path.join(BASE_DATA_PATH, \"labs.parquet\"))\n",
    "# vitals_data = pd.read_parquet(os.path.join(BASE_DATA_PATH, \"vitals.parquet\"))\n",
    "imaging_data = pd.read_parquet(os.path.join(BASE_DATA_PATH, \"imaging.parquet\"))\n",
    "transfusions_data = pd.read_parquet(\n",
    "    os.path.join(BASE_DATA_PATH, \"transfusions.parquet\")\n",
    ")\n",
    "interventions_data = pd.read_parquet(\n",
    "    os.path.join(BASE_DATA_PATH, \"interventions.parquet\")\n",
    ")"
   ]
  },
  {
   "cell_type": "markdown",
   "id": "7e0af1b6-1e8b-4554-944f-f13209d282cc",
   "metadata": {},
   "source": [
    "## Map imaging and transfusions such that they can be treated as events"
   ]
  },
  {
   "cell_type": "code",
   "execution_count": 4,
   "id": "c3131da1-d7e8-4564-b1ff-d6e9e2251d31",
   "metadata": {},
   "outputs": [],
   "source": [
    "imaging_data = imaging_data.rename(\n",
    "    columns={\n",
    "        \"imaging_test_description\": EVENT_NAME,\n",
    "        \"performed_date_time\": EVENT_TIMESTAMP,\n",
    "    }\n",
    ")\n",
    "imaging_data[EVENT_CATEGORY] = \"imaging\"\n",
    "imaging_data[EVENT_VALUE] = 1\n",
    "#imaging_data"
   ]
  },
  {
   "cell_type": "code",
   "execution_count": 5,
   "id": "8a3e67ff-37ea-4c44-a9c8-20e3d2b6a635",
   "metadata": {},
   "outputs": [],
   "source": [
    "transfusions_data = transfusions_data.rename(\n",
    "    columns={\"issue_date_time\": EVENT_TIMESTAMP}\n",
    ")\n",
    "transfusions_data[EVENT_NAME] = transfusions_data[\"rbc_mapped\"]\n",
    "transfusions_data[EVENT_NAME] = transfusions_data[EVENT_NAME].apply(\n",
    "    lambda x: \"rbc\" if x else \"non-rbc\"\n",
    ")\n",
    "transfusions_data[EVENT_VALUE] = 1\n",
    "transfusions_data[EVENT_CATEGORY] = \"transfusions\"\n",
    "#transfusions_data"
   ]
  },
  {
   "cell_type": "markdown",
   "id": "564db1ba-9f9d-4b39-a57a-90a357afab8f",
   "metadata": {},
   "source": [
    "##  Process interventions such that they can be treated as events"
   ]
  },
  {
   "cell_type": "code",
   "execution_count": 6,
   "id": "9f34a21c-49ec-48a9-bfac-0cae8dce5f0b",
   "metadata": {},
   "outputs": [
    {
     "name": "stderr",
     "output_type": "stream",
     "text": [
      "/tmp/ipykernel_388224/1764707256.py:12: SettingWithCopyWarning: \n",
      "A value is trying to be set on a copy of a slice from a DataFrame\n",
      "\n",
      "See the caveats in the documentation: https://pandas.pydata.org/pandas-docs/stable/user_guide/indexing.html#returning-a-view-versus-a-copy\n",
      "  interventions_data[\"intervention_episode_start_time\"].loc[\n"
     ]
    }
   ],
   "source": [
    "interventions_data[EVENT_VALUE] = 1\n",
    "interventions_data[EVENT_CATEGORY] = \"interventions\"\n",
    "\n",
    "binary_mapped_cols = [\n",
    "    \"endoscopy_mapped\",\n",
    "    \"gi_endoscopy_mapped\",\n",
    "    \"bronch_endoscopy_mapped\",\n",
    "    \"dialysis_mapped\",\n",
    "    \"inv_mech_vent_mapped\",\n",
    "    \"surgery_mapped\",\n",
    "]\n",
    "interventions_data[\"intervention_episode_start_time\"].loc[\n",
    "    interventions_data[\"intervention_episode_start_time\"].isna()\n",
    "] = \"12:00:00\"\n",
    "interventions_data[EVENT_TIMESTAMP] = pd.to_datetime(\n",
    "    interventions_data[\"intervention_episode_start_date\"].astype(str)\n",
    "    + \" \"\n",
    "    + interventions_data[\"intervention_episode_start_time\"].astype(str)\n",
    ")\n",
    "interventions_data[EVENT_TIMESTAMP] = interventions_data[EVENT_TIMESTAMP].astype(\n",
    "    \"datetime64[ns]\"\n",
    ")\n",
    "interventions_data[\"unmapped_intervention\"] = ~(\n",
    "    interventions_data[\"endoscopy_mapped\"]\n",
    "    | interventions_data[\"gi_endoscopy_mapped\"]\n",
    "    | interventions_data[\"bronch_endoscopy_mapped\"]\n",
    "    | interventions_data[\"dialysis_mapped\"]\n",
    "    | interventions_data[\"inv_mech_vent_mapped\"]\n",
    "    | interventions_data[\"surgery_mapped\"]\n",
    ")\n",
    "interventions_data[EVENT_NAME] = interventions_data[\n",
    "    binary_mapped_cols + [\"unmapped_intervention\"]\n",
    "].idxmax(axis=1)\n",
    "#interventions_data"
   ]
  },
  {
   "cell_type": "markdown",
   "id": "7303e205-6491-442d-92a2-abc9a5c2a15d",
   "metadata": {},
   "source": [
    "## Filter out encounters that had less than 24 hours LOS"
   ]
  },
  {
   "cell_type": "code",
   "execution_count": 7,
   "id": "63fc8075-57e8-49ac-b6f8-124d5b3591e6",
   "metadata": {},
   "outputs": [],
   "source": [
    "encounters_data[LOS] = (\n",
    "    encounters_data[DISCHARGE_TIMESTAMP]\n",
    "    - encounters_data[ADMIT_TIMESTAMP]\n",
    "    + pd.to_timedelta(encounters_data[LENGTH_OF_STAY_IN_ER], unit=\"h\")\n",
    ")\n",
    "encounters_data_atleast_los_24_hrs = encounters_data.loc[\n",
    "    encounters_data[LOS] >= pd.to_timedelta(24, unit=\"h\")\n",
    "]"
   ]
  },
  {
   "cell_type": "markdown",
   "id": "72566d9f-db66-47f2-8820-fdd8904aafe1",
   "metadata": {},
   "source": [
    "## Get encounters that ended in mortality outcome"
   ]
  },
  {
   "cell_type": "code",
   "execution_count": 8,
   "id": "88f04573-71c9-4f25-9a31-21df233e8e99",
   "metadata": {},
   "outputs": [],
   "source": [
    "encounters_mortality = encounters_data_atleast_los_24_hrs.loc[\n",
    "    encounters_data_atleast_los_24_hrs[MORTALITY] == True\n",
    "]"
   ]
  },
  {
   "cell_type": "markdown",
   "id": "9aae3659-4304-4697-808d-75c66d2fe6f3",
   "metadata": {},
   "source": [
    "## Get encounters that didn't end up in mortality outcome (limit to a subset)"
   ]
  },
  {
   "cell_type": "code",
   "execution_count": 9,
   "id": "2d191738-2eb9-4cda-83cd-fe17a7fc72f6",
   "metadata": {},
   "outputs": [],
   "source": [
    "encounters_not_mortality = encounters_data_atleast_los_24_hrs.loc[\n",
    "    encounters_data_atleast_los_24_hrs[MORTALITY] == False\n",
    "]\n",
    "\n",
    "num_encounters_not_mortality = len(encounters_mortality)\n",
    "encounters_not_mortality_subset = encounters_not_mortality[\n",
    "    0:num_encounters_not_mortality\n",
    "]\n",
    "# encounters_not_mortality_subset"
   ]
  },
  {
   "cell_type": "markdown",
   "id": "7464ae6f-2fe4-419e-8afb-57c8ab974136",
   "metadata": {},
   "source": [
    "## Combine both subsets"
   ]
  },
  {
   "cell_type": "code",
   "execution_count": 10,
   "id": "a35d25c8-e4a1-4529-a9de-5b02bd37c159",
   "metadata": {},
   "outputs": [],
   "source": [
    "encounters_train_val_test = pd.concat(\n",
    "    [encounters_mortality, encounters_not_mortality_subset], ignore_index=True\n",
    ")\n",
    "# encounters_train_val_test"
   ]
  },
  {
   "cell_type": "code",
   "execution_count": null,
   "id": "da1f30dc-32b8-4b70-a37c-2bbd8768257e",
   "metadata": {},
   "outputs": [
    {
     "data": {
      "text/plain": [
       "Timedelta('-7 days +00:00:00')"
      ]
     },
     "execution_count": 65,
     "metadata": {},
     "output_type": "execute_result"
    }
   ],
   "source": [
    "pd.Timedelta(-offset, unit=\"h\")"
   ]
  },
  {
   "cell_type": "markdown",
   "id": "4496ca76-0058-4223-8925-3c357ee153c2",
   "metadata": {},
   "source": [
    "## Offset discharge timestamp by K hours and create new column"
   ]
  },
  {
   "cell_type": "code",
   "execution_count": 11,
   "id": "92c71da3-c4ec-4305-86a9-608dc6f556d2",
   "metadata": {},
   "outputs": [
    {
     "data": {
      "text/html": [
       "<div>\n",
       "<style scoped>\n",
       "    .dataframe tbody tr th:only-of-type {\n",
       "        vertical-align: middle;\n",
       "    }\n",
       "\n",
       "    .dataframe tbody tr th {\n",
       "        vertical-align: top;\n",
       "    }\n",
       "\n",
       "    .dataframe thead th {\n",
       "        text-align: right;\n",
       "    }\n",
       "</style>\n",
       "<table border=\"1\" class=\"dataframe\">\n",
       "  <thead>\n",
       "    <tr style=\"text-align: right;\">\n",
       "      <th></th>\n",
       "      <th>discharge_timestamp</th>\n",
       "      <th>death_timestamp_offset</th>\n",
       "    </tr>\n",
       "  </thead>\n",
       "  <tbody>\n",
       "    <tr>\n",
       "      <th>7</th>\n",
       "      <td>2019-08-11 09:21:00</td>\n",
       "      <td>2019-08-04 09:21:00</td>\n",
       "    </tr>\n",
       "    <tr>\n",
       "      <th>15</th>\n",
       "      <td>2019-04-27 03:10:00</td>\n",
       "      <td>2019-04-20 03:10:00</td>\n",
       "    </tr>\n",
       "    <tr>\n",
       "      <th>36</th>\n",
       "      <td>2019-07-14 08:15:00</td>\n",
       "      <td>2019-07-07 08:15:00</td>\n",
       "    </tr>\n",
       "    <tr>\n",
       "      <th>46</th>\n",
       "      <td>2019-08-11 22:47:00</td>\n",
       "      <td>2019-08-04 22:47:00</td>\n",
       "    </tr>\n",
       "    <tr>\n",
       "      <th>144</th>\n",
       "      <td>2020-01-10 01:30:00</td>\n",
       "      <td>2020-01-03 01:30:00</td>\n",
       "    </tr>\n",
       "    <tr>\n",
       "      <th>...</th>\n",
       "      <td>...</td>\n",
       "      <td>...</td>\n",
       "    </tr>\n",
       "    <tr>\n",
       "      <th>90598</th>\n",
       "      <td>2019-10-18 01:24:00</td>\n",
       "      <td>2019-10-11 01:24:00</td>\n",
       "    </tr>\n",
       "    <tr>\n",
       "      <th>90614</th>\n",
       "      <td>2018-02-08 18:15:00</td>\n",
       "      <td>2018-02-01 18:15:00</td>\n",
       "    </tr>\n",
       "    <tr>\n",
       "      <th>90619</th>\n",
       "      <td>2018-03-17 07:56:00</td>\n",
       "      <td>2018-03-10 07:56:00</td>\n",
       "    </tr>\n",
       "    <tr>\n",
       "      <th>90648</th>\n",
       "      <td>2019-12-06 15:30:00</td>\n",
       "      <td>2019-11-29 15:30:00</td>\n",
       "    </tr>\n",
       "    <tr>\n",
       "      <th>90649</th>\n",
       "      <td>2019-01-12 14:12:00</td>\n",
       "      <td>2019-01-05 14:12:00</td>\n",
       "    </tr>\n",
       "  </tbody>\n",
       "</table>\n",
       "<p>5297 rows × 2 columns</p>\n",
       "</div>"
      ],
      "text/plain": [
       "      discharge_timestamp death_timestamp_offset\n",
       "7     2019-08-11 09:21:00    2019-08-04 09:21:00\n",
       "15    2019-04-27 03:10:00    2019-04-20 03:10:00\n",
       "36    2019-07-14 08:15:00    2019-07-07 08:15:00\n",
       "46    2019-08-11 22:47:00    2019-08-04 22:47:00\n",
       "144   2020-01-10 01:30:00    2020-01-03 01:30:00\n",
       "...                   ...                    ...\n",
       "90598 2019-10-18 01:24:00    2019-10-11 01:24:00\n",
       "90614 2018-02-08 18:15:00    2018-02-01 18:15:00\n",
       "90619 2018-03-17 07:56:00    2018-03-10 07:56:00\n",
       "90648 2019-12-06 15:30:00    2019-11-29 15:30:00\n",
       "90649 2019-01-12 14:12:00    2019-01-05 14:12:00\n",
       "\n",
       "[5297 rows x 2 columns]"
      ]
     },
     "execution_count": 11,
     "metadata": {},
     "output_type": "execute_result"
    }
   ],
   "source": [
    "offset = 7*24  # in hours\n",
    "encounters_mortality = encounters_mortality.copy()\n",
    "encounters_mortality[\"death_timestamp_offset\"] = encounters_mortality[\n",
    "    DISCHARGE_TIMESTAMP\n",
    "] + pd.Timedelta(-offset, unit=\"h\")\n",
    "encounters_mortality[[DISCHARGE_TIMESTAMP, \"death_timestamp_offset\"]]"
   ]
  },
  {
   "cell_type": "markdown",
   "id": "1569cdd0-1d93-4aba-a6fa-082282d95eb6",
   "metadata": {},
   "source": [
    "## Get encounters which result in death within timeframe (i.e. window + offset)"
   ]
  },
  {
   "cell_type": "code",
   "execution_count": 12,
   "id": "c2b8036a-a108-49a9-9a0e-9cf7b818e6ed",
   "metadata": {},
   "outputs": [],
   "source": [
    "encounters_mortality_within_risk_timeframe = encounters_mortality.loc[\n",
    "    encounters_mortality[LOS] <= pd.to_timedelta(AGGREGATION_WINDOW + offset, unit=\"h\")\n",
    "]"
   ]
  },
  {
   "cell_type": "markdown",
   "id": "a9c6498e-f2a6-4383-89bd-6c9b5b4ee144",
   "metadata": {},
   "source": [
    "## Convert \"death_timestamp_offset\" to event"
   ]
  },
  {
   "cell_type": "code",
   "execution_count": 13,
   "id": "90081c16-ac41-4b60-ab48-7ff747630e3a",
   "metadata": {},
   "outputs": [
    {
     "data": {
      "text/html": [
       "<div>\n",
       "<style scoped>\n",
       "    .dataframe tbody tr th:only-of-type {\n",
       "        vertical-align: middle;\n",
       "    }\n",
       "\n",
       "    .dataframe tbody tr th {\n",
       "        vertical-align: top;\n",
       "    }\n",
       "\n",
       "    .dataframe thead th {\n",
       "        text-align: right;\n",
       "    }\n",
       "</style>\n",
       "<table border=\"1\" class=\"dataframe\">\n",
       "  <thead>\n",
       "    <tr style=\"text-align: right;\">\n",
       "      <th></th>\n",
       "      <th>encounter_id</th>\n",
       "      <th>event_name</th>\n",
       "      <th>event_timestamp</th>\n",
       "      <th>admit_timestamp</th>\n",
       "      <th>event_value</th>\n",
       "      <th>event_category</th>\n",
       "    </tr>\n",
       "  </thead>\n",
       "  <tbody>\n",
       "    <tr>\n",
       "      <th>0</th>\n",
       "      <td>11614557</td>\n",
       "      <td>mortality_risk_168</td>\n",
       "      <td>2019-04-20 03:10:00</td>\n",
       "      <td>2019-04-23 20:13:00</td>\n",
       "      <td>1</td>\n",
       "      <td>general</td>\n",
       "    </tr>\n",
       "    <tr>\n",
       "      <th>1</th>\n",
       "      <td>11718178</td>\n",
       "      <td>mortality_risk_168</td>\n",
       "      <td>2019-07-07 08:15:00</td>\n",
       "      <td>2019-07-03 18:42:00</td>\n",
       "      <td>1</td>\n",
       "      <td>general</td>\n",
       "    </tr>\n",
       "    <tr>\n",
       "      <th>2</th>\n",
       "      <td>11735654</td>\n",
       "      <td>mortality_risk_168</td>\n",
       "      <td>2019-08-04 22:47:00</td>\n",
       "      <td>2019-08-02 08:52:00</td>\n",
       "      <td>1</td>\n",
       "      <td>general</td>\n",
       "    </tr>\n",
       "    <tr>\n",
       "      <th>3</th>\n",
       "      <td>13189407</td>\n",
       "      <td>mortality_risk_168</td>\n",
       "      <td>2018-02-25 10:25:00</td>\n",
       "      <td>2018-02-25 02:00:00</td>\n",
       "      <td>1</td>\n",
       "      <td>general</td>\n",
       "    </tr>\n",
       "    <tr>\n",
       "      <th>4</th>\n",
       "      <td>13149700</td>\n",
       "      <td>mortality_risk_168</td>\n",
       "      <td>2019-03-30 03:35:00</td>\n",
       "      <td>2019-03-31 19:53:00</td>\n",
       "      <td>1</td>\n",
       "      <td>general</td>\n",
       "    </tr>\n",
       "    <tr>\n",
       "      <th>...</th>\n",
       "      <td>...</td>\n",
       "      <td>...</td>\n",
       "      <td>...</td>\n",
       "      <td>...</td>\n",
       "      <td>...</td>\n",
       "      <td>...</td>\n",
       "    </tr>\n",
       "    <tr>\n",
       "      <th>3025</th>\n",
       "      <td>12840487</td>\n",
       "      <td>mortality_risk_168</td>\n",
       "      <td>2020-01-08 03:00:00</td>\n",
       "      <td>2020-01-06 15:16:00</td>\n",
       "      <td>1</td>\n",
       "      <td>general</td>\n",
       "    </tr>\n",
       "    <tr>\n",
       "      <th>3026</th>\n",
       "      <td>11322026</td>\n",
       "      <td>mortality_risk_168</td>\n",
       "      <td>2018-12-27 01:22:00</td>\n",
       "      <td>2018-12-28 21:30:00</td>\n",
       "      <td>1</td>\n",
       "      <td>general</td>\n",
       "    </tr>\n",
       "    <tr>\n",
       "      <th>3027</th>\n",
       "      <td>11322938</td>\n",
       "      <td>mortality_risk_168</td>\n",
       "      <td>2019-10-11 01:24:00</td>\n",
       "      <td>2019-10-08 03:30:00</td>\n",
       "      <td>1</td>\n",
       "      <td>general</td>\n",
       "    </tr>\n",
       "    <tr>\n",
       "      <th>3028</th>\n",
       "      <td>12871095</td>\n",
       "      <td>mortality_risk_168</td>\n",
       "      <td>2018-02-01 18:15:00</td>\n",
       "      <td>2018-02-05 01:19:00</td>\n",
       "      <td>1</td>\n",
       "      <td>general</td>\n",
       "    </tr>\n",
       "    <tr>\n",
       "      <th>3029</th>\n",
       "      <td>11466456</td>\n",
       "      <td>mortality_risk_168</td>\n",
       "      <td>2019-01-05 14:12:00</td>\n",
       "      <td>2019-01-05 23:01:00</td>\n",
       "      <td>1</td>\n",
       "      <td>general</td>\n",
       "    </tr>\n",
       "  </tbody>\n",
       "</table>\n",
       "<p>3030 rows × 6 columns</p>\n",
       "</div>"
      ],
      "text/plain": [
       "      encounter_id          event_name     event_timestamp  \\\n",
       "0         11614557  mortality_risk_168 2019-04-20 03:10:00   \n",
       "1         11718178  mortality_risk_168 2019-07-07 08:15:00   \n",
       "2         11735654  mortality_risk_168 2019-08-04 22:47:00   \n",
       "3         13189407  mortality_risk_168 2018-02-25 10:25:00   \n",
       "4         13149700  mortality_risk_168 2019-03-30 03:35:00   \n",
       "...            ...                 ...                 ...   \n",
       "3025      12840487  mortality_risk_168 2020-01-08 03:00:00   \n",
       "3026      11322026  mortality_risk_168 2018-12-27 01:22:00   \n",
       "3027      11322938  mortality_risk_168 2019-10-11 01:24:00   \n",
       "3028      12871095  mortality_risk_168 2018-02-01 18:15:00   \n",
       "3029      11466456  mortality_risk_168 2019-01-05 14:12:00   \n",
       "\n",
       "         admit_timestamp  event_value event_category  \n",
       "0    2019-04-23 20:13:00            1        general  \n",
       "1    2019-07-03 18:42:00            1        general  \n",
       "2    2019-08-02 08:52:00            1        general  \n",
       "3    2018-02-25 02:00:00            1        general  \n",
       "4    2019-03-31 19:53:00            1        general  \n",
       "...                  ...          ...            ...  \n",
       "3025 2020-01-06 15:16:00            1        general  \n",
       "3026 2018-12-28 21:30:00            1        general  \n",
       "3027 2019-10-08 03:30:00            1        general  \n",
       "3028 2018-02-05 01:19:00            1        general  \n",
       "3029 2019-01-05 23:01:00            1        general  \n",
       "\n",
       "[3030 rows x 6 columns]"
      ]
     },
     "execution_count": 13,
     "metadata": {},
     "output_type": "execute_result"
    }
   ],
   "source": [
    "mortality_risk_events = convert_to_events(\n",
    "    encounters_mortality_within_risk_timeframe,\n",
    "    event_name=f\"mortality_risk_{offset}\",\n",
    "    event_category=\"general\",\n",
    "    timestamp_col=\"death_timestamp_offset\",\n",
    ")\n",
    "mortality_risk_events = pd.merge(\n",
    "    mortality_risk_events, encounters_mortality, on=ENCOUNTER_ID, how=\"inner\"\n",
    ")\n",
    "mortality_risk_events = mortality_risk_events[\n",
    "    [\n",
    "        ENCOUNTER_ID,\n",
    "        EVENT_NAME,\n",
    "        EVENT_TIMESTAMP,\n",
    "        ADMIT_TIMESTAMP,\n",
    "        EVENT_VALUE,\n",
    "        EVENT_CATEGORY,\n",
    "    ]\n",
    "]\n",
    "mortality_risk_events[EVENT_VALUE] = 1\n",
    "mortality_risk_events"
   ]
  },
  {
   "cell_type": "markdown",
   "id": "06e2653f-b1de-4e63-8531-b92677534041",
   "metadata": {},
   "source": [
    "## Get admission/discharge events"
   ]
  },
  {
   "cell_type": "code",
   "execution_count": 62,
   "id": "5de93b44-b260-44d5-869f-80752cc913c4",
   "metadata": {},
   "outputs": [],
   "source": [
    "admit_events = convert_to_events(\n",
    "    encounters_train_val_test,\n",
    "    event_name=\"admission\",\n",
    "    event_category=\"general\",\n",
    "    timestamp_col=\"admit_timestamp\",\n",
    ")\n",
    "disch_events = convert_to_events(\n",
    "    encounters_train_val_test,\n",
    "    event_name=\"discharge\",\n",
    "    event_category=\"general\",\n",
    "    timestamp_col=\"discharge_timestamp\",\n",
    ")"
   ]
  },
  {
   "cell_type": "markdown",
   "id": "238709bd-47f6-4cf6-8562-09717824d57f",
   "metadata": {},
   "source": [
    "## Filter labs, vitals, imaging, transfusions, interventions to be in train_val_test subset"
   ]
  },
  {
   "cell_type": "code",
   "execution_count": 63,
   "id": "773d7deb-f5bf-4a7a-a773-5768a68f7e6a",
   "metadata": {},
   "outputs": [],
   "source": [
    "labs_train_val_test = labs_data.loc[\n",
    "    labs_data[ENCOUNTER_ID].isin(encounters_train_val_test[ENCOUNTER_ID])\n",
    "]\n",
    "imaging_train_val_test = imaging_data.loc[\n",
    "    imaging_data[ENCOUNTER_ID].isin(encounters_train_val_test[ENCOUNTER_ID])\n",
    "]\n",
    "transfusions_train_val_test = transfusions_data.loc[\n",
    "    transfusions_data[ENCOUNTER_ID].isin(encounters_train_val_test[ENCOUNTER_ID])\n",
    "]\n",
    "interventions_train_val_test = interventions_data.loc[\n",
    "    interventions_data[ENCOUNTER_ID].isin(encounters_train_val_test[ENCOUNTER_ID])\n",
    "]"
   ]
  },
  {
   "cell_type": "markdown",
   "id": "527e4baa-d706-4b72-88e4-7416db744d7e",
   "metadata": {},
   "source": [
    "## Normalize all event data"
   ]
  },
  {
   "cell_type": "code",
   "execution_count": 64,
   "id": "7e249a41-d012-4f25-9241-66c15fad7d0e",
   "metadata": {},
   "outputs": [
    {
     "name": "stderr",
     "output_type": "stream",
     "text": [
      "2022-06-16 14:04:05,374 \u001b[1;37mINFO\u001b[0m cyclops.processors.util - Cleaning raw event data...\n",
      "2022-06-16 14:04:05,378 \u001b[1;37mINFO\u001b[0m cyclops.processors.util - # samples: 63860, # encounters: 10131\n",
      "2022-06-16 14:04:05,380 \u001b[1;37mINFO\u001b[0m cyclops.processors.util - # columns: 60, # encounters: 10131\n",
      "2022-06-16 14:04:05,477 \u001b[1;37mINFO\u001b[0m cyclops.processors.util - Remove text in parentheses and normalize event names...\n",
      "2022-06-16 14:04:05,480 \u001b[1;37mINFO\u001b[0m cyclops.processors.util - # samples: 63860, # encounters: 10131\n",
      "2022-06-16 14:04:05,482 \u001b[1;37mINFO\u001b[0m cyclops.processors.util - # columns: 60, # encounters: 10131\n",
      "2022-06-16 14:04:05,549 \u001b[1;37mINFO\u001b[0m cyclops.processors.util - Drop unsupported events...\n",
      "2022-06-16 14:04:05,552 \u001b[1;37mINFO\u001b[0m cyclops.processors.util - # samples: 63860, # encounters: 10131\n",
      "2022-06-16 14:04:05,554 \u001b[1;37mINFO\u001b[0m cyclops.processors.util - # columns: 60, # encounters: 10131\n",
      "2022-06-16 14:04:05,586 \u001b[1;37mINFO\u001b[0m cyclops.processors.util - Normalize event categories...\n",
      "2022-06-16 14:04:05,590 \u001b[1;37mINFO\u001b[0m cyclops.processors.util - # samples: 63860, # encounters: 10131\n",
      "2022-06-16 14:04:05,592 \u001b[1;37mINFO\u001b[0m cyclops.processors.util - # columns: 60, # encounters: 10131\n",
      "2022-06-16 14:04:05,593 \u001b[1;37mINFO\u001b[0m cyclops.utils.profile - Finished executing function normalize_events in 0.230795 s\n",
      "2022-06-16 14:04:05,602 \u001b[1;37mINFO\u001b[0m cyclops.processors.util - Cleaning raw event data...\n",
      "2022-06-16 14:04:05,604 \u001b[1;37mINFO\u001b[0m cyclops.processors.util - # samples: 9971, # encounters: 1492\n",
      "2022-06-16 14:04:05,606 \u001b[1;37mINFO\u001b[0m cyclops.processors.util - # columns: 60, # encounters: 1492\n",
      "2022-06-16 14:04:05,621 \u001b[1;37mINFO\u001b[0m cyclops.processors.util - Remove text in parentheses and normalize event names...\n",
      "2022-06-16 14:04:05,623 \u001b[1;37mINFO\u001b[0m cyclops.processors.util - # samples: 9971, # encounters: 1492\n",
      "2022-06-16 14:04:05,625 \u001b[1;37mINFO\u001b[0m cyclops.processors.util - # columns: 60, # encounters: 1492\n",
      "2022-06-16 14:04:05,637 \u001b[1;37mINFO\u001b[0m cyclops.processors.util - Drop unsupported events...\n",
      "2022-06-16 14:04:05,640 \u001b[1;37mINFO\u001b[0m cyclops.processors.util - # samples: 9971, # encounters: 1492\n",
      "2022-06-16 14:04:05,642 \u001b[1;37mINFO\u001b[0m cyclops.processors.util - # columns: 60, # encounters: 1492\n",
      "2022-06-16 14:04:05,648 \u001b[1;37mINFO\u001b[0m cyclops.processors.util - Normalize event categories...\n",
      "2022-06-16 14:04:05,651 \u001b[1;37mINFO\u001b[0m cyclops.processors.util - # samples: 9971, # encounters: 1492\n",
      "2022-06-16 14:04:05,652 \u001b[1;37mINFO\u001b[0m cyclops.processors.util - # columns: 60, # encounters: 1492\n",
      "2022-06-16 14:04:05,654 \u001b[1;37mINFO\u001b[0m cyclops.utils.profile - Finished executing function normalize_events in 0.053343 s\n",
      "2022-06-16 14:04:06,501 \u001b[1;37mINFO\u001b[0m cyclops.processors.util - Cleaning raw event data...\n",
      "2022-06-16 14:04:06,515 \u001b[1;37mINFO\u001b[0m cyclops.processors.util - # samples: 1868983, # encounters: 10559\n",
      "2022-06-16 14:04:06,517 \u001b[1;37mINFO\u001b[0m cyclops.processors.util - # columns: 60, # encounters: 10559\n",
      "2022-06-16 14:04:08,704 \u001b[1;37mINFO\u001b[0m cyclops.processors.util - Remove text in parentheses and normalize event names...\n",
      "2022-06-16 14:04:08,718 \u001b[1;37mINFO\u001b[0m cyclops.processors.util - # samples: 1868983, # encounters: 10559\n",
      "2022-06-16 14:04:08,720 \u001b[1;37mINFO\u001b[0m cyclops.processors.util - # columns: 60, # encounters: 10559\n",
      "2022-06-16 14:04:11,754 \u001b[1;37mINFO\u001b[0m cyclops.processors.util - Drop unsupported events...\n",
      "2022-06-16 14:04:11,767 \u001b[1;37mINFO\u001b[0m cyclops.processors.util - # samples: 1724512, # encounters: 10559\n",
      "2022-06-16 14:04:11,769 \u001b[1;37mINFO\u001b[0m cyclops.processors.util - # columns: 60, # encounters: 10559\n",
      "2022-06-16 14:04:16,808 \u001b[1;37mINFO\u001b[0m cyclops.processors.util - Convert Positive/Negative to 1/0...\n",
      "2022-06-16 14:04:16,822 \u001b[1;37mINFO\u001b[0m cyclops.processors.util - # samples: 1724512, # encounters: 10559\n",
      "2022-06-16 14:04:16,824 \u001b[1;37mINFO\u001b[0m cyclops.processors.util - # columns: 60, # encounters: 10559\n",
      "2022-06-16 14:04:18,250 \u001b[1;37mINFO\u001b[0m cyclops.processors.util - Remove any text in paranthesis\n",
      "2022-06-16 14:04:18,263 \u001b[1;37mINFO\u001b[0m cyclops.processors.util - # samples: 1724512, # encounters: 10559\n",
      "2022-06-16 14:04:18,266 \u001b[1;37mINFO\u001b[0m cyclops.processors.util - # columns: 60, # encounters: 10559\n",
      "2022-06-16 14:04:20,605 \u001b[1;37mINFO\u001b[0m cyclops.processors.util - Fixing inequalities and removing outlier values...\n",
      "2022-06-16 14:04:20,618 \u001b[1;37mINFO\u001b[0m cyclops.processors.util - # samples: 1724512, # encounters: 10559\n",
      "2022-06-16 14:04:20,620 \u001b[1;37mINFO\u001b[0m cyclops.processors.util - # columns: 60, # encounters: 10559\n",
      "2022-06-16 14:04:20,884 \u001b[1;37mINFO\u001b[0m cyclops.processors.util - Fill empty result string values with NaN...\n",
      "2022-06-16 14:04:20,897 \u001b[1;37mINFO\u001b[0m cyclops.processors.util - # samples: 1724512, # encounters: 10559\n",
      "2022-06-16 14:04:20,899 \u001b[1;37mINFO\u001b[0m cyclops.processors.util - # columns: 60, # encounters: 10559\n",
      "2022-06-16 14:04:21,053 \u001b[1;37mINFO\u001b[0m cyclops.processors.events - Converting string result values to numeric...\n",
      "2022-06-16 14:04:21,056 \u001b[1;37mINFO\u001b[0m cyclops.processors.events - Normalizing units...\n",
      "2022-06-16 14:04:26,683 \u001b[1;37mINFO\u001b[0m cyclops.processors.util - Normalize event categories...\n",
      "2022-06-16 14:04:26,696 \u001b[1;37mINFO\u001b[0m cyclops.processors.util - # samples: 1724512, # encounters: 10559\n",
      "2022-06-16 14:04:26,699 \u001b[1;37mINFO\u001b[0m cyclops.processors.util - # columns: 60, # encounters: 10559\n",
      "2022-06-16 14:04:26,700 \u001b[1;37mINFO\u001b[0m cyclops.utils.profile - Finished executing function normalize_events in 21.043578 s\n",
      "2022-06-16 14:04:26,866 \u001b[1;37mINFO\u001b[0m cyclops.processors.util - Cleaning raw event data...\n",
      "2022-06-16 14:04:26,869 \u001b[1;37mINFO\u001b[0m cyclops.processors.util - # samples: 3030, # encounters: 3030\n",
      "2022-06-16 14:04:26,871 \u001b[1;37mINFO\u001b[0m cyclops.processors.util - # columns: 6, # encounters: 3030\n",
      "2022-06-16 14:04:26,877 \u001b[1;37mINFO\u001b[0m cyclops.processors.util - Remove text in parentheses and normalize event names...\n",
      "2022-06-16 14:04:26,879 \u001b[1;37mINFO\u001b[0m cyclops.processors.util - # samples: 3030, # encounters: 3030\n",
      "2022-06-16 14:04:26,881 \u001b[1;37mINFO\u001b[0m cyclops.processors.util - # columns: 6, # encounters: 3030\n",
      "2022-06-16 14:04:26,885 \u001b[1;37mINFO\u001b[0m cyclops.processors.util - Drop unsupported events...\n",
      "2022-06-16 14:04:26,887 \u001b[1;37mINFO\u001b[0m cyclops.processors.util - # samples: 3030, # encounters: 3030\n",
      "2022-06-16 14:04:26,888 \u001b[1;37mINFO\u001b[0m cyclops.processors.util - # columns: 6, # encounters: 3030\n",
      "2022-06-16 14:04:26,891 \u001b[1;37mINFO\u001b[0m cyclops.processors.util - Normalize event categories...\n",
      "2022-06-16 14:04:26,893 \u001b[1;37mINFO\u001b[0m cyclops.processors.util - # samples: 3030, # encounters: 3030\n",
      "2022-06-16 14:04:26,895 \u001b[1;37mINFO\u001b[0m cyclops.processors.util - # columns: 6, # encounters: 3030\n",
      "2022-06-16 14:04:26,897 \u001b[1;37mINFO\u001b[0m cyclops.utils.profile - Finished executing function normalize_events in 0.030843 s\n",
      "2022-06-16 14:04:26,902 \u001b[1;37mINFO\u001b[0m cyclops.processors.util - Cleaning raw event data...\n",
      "2022-06-16 14:04:26,904 \u001b[1;37mINFO\u001b[0m cyclops.processors.util - # samples: 14923, # encounters: 4720\n",
      "2022-06-16 14:04:26,906 \u001b[1;37mINFO\u001b[0m cyclops.processors.util - # columns: 72, # encounters: 4720\n",
      "2022-06-16 14:04:26,927 \u001b[1;37mINFO\u001b[0m cyclops.processors.util - Remove text in parentheses and normalize event names...\n",
      "2022-06-16 14:04:26,929 \u001b[1;37mINFO\u001b[0m cyclops.processors.util - # samples: 14923, # encounters: 4720\n",
      "2022-06-16 14:04:26,931 \u001b[1;37mINFO\u001b[0m cyclops.processors.util - # columns: 72, # encounters: 4720\n",
      "2022-06-16 14:04:26,949 \u001b[1;37mINFO\u001b[0m cyclops.processors.util - Drop unsupported events...\n",
      "2022-06-16 14:04:26,952 \u001b[1;37mINFO\u001b[0m cyclops.processors.util - # samples: 14923, # encounters: 4720\n",
      "2022-06-16 14:04:26,954 \u001b[1;37mINFO\u001b[0m cyclops.processors.util - # columns: 72, # encounters: 4720\n",
      "2022-06-16 14:04:26,964 \u001b[1;37mINFO\u001b[0m cyclops.processors.util - Normalize event categories...\n",
      "2022-06-16 14:04:26,967 \u001b[1;37mINFO\u001b[0m cyclops.processors.util - # samples: 14923, # encounters: 4720\n",
      "2022-06-16 14:04:26,969 \u001b[1;37mINFO\u001b[0m cyclops.processors.util - # columns: 72, # encounters: 4720\n",
      "2022-06-16 14:04:26,970 \u001b[1;37mINFO\u001b[0m cyclops.utils.profile - Finished executing function normalize_events in 0.071792 s\n",
      "2022-06-16 14:04:26,975 \u001b[1;37mINFO\u001b[0m cyclops.processors.util - Cleaning raw event data...\n",
      "2022-06-16 14:04:26,977 \u001b[1;37mINFO\u001b[0m cyclops.processors.util - # samples: 10594, # encounters: 10594\n",
      "2022-06-16 14:04:26,979 \u001b[1;37mINFO\u001b[0m cyclops.processors.util - # columns: 5, # encounters: 10594\n",
      "2022-06-16 14:04:26,992 \u001b[1;37mINFO\u001b[0m cyclops.processors.util - Remove text in parentheses and normalize event names...\n",
      "2022-06-16 14:04:26,995 \u001b[1;37mINFO\u001b[0m cyclops.processors.util - # samples: 10594, # encounters: 10594\n",
      "2022-06-16 14:04:26,997 \u001b[1;37mINFO\u001b[0m cyclops.processors.util - # columns: 5, # encounters: 10594\n",
      "2022-06-16 14:04:27,003 \u001b[1;37mINFO\u001b[0m cyclops.processors.util - Drop unsupported events...\n",
      "2022-06-16 14:04:27,006 \u001b[1;37mINFO\u001b[0m cyclops.processors.util - # samples: 10594, # encounters: 10594\n",
      "2022-06-16 14:04:27,007 \u001b[1;37mINFO\u001b[0m cyclops.processors.util - # columns: 5, # encounters: 10594\n",
      "2022-06-16 14:04:27,032 \u001b[1;37mINFO\u001b[0m cyclops.processors.util - Convert Positive/Negative to 1/0...\n",
      "2022-06-16 14:04:27,034 \u001b[1;37mINFO\u001b[0m cyclops.processors.util - # samples: 10594, # encounters: 10594\n",
      "2022-06-16 14:04:27,036 \u001b[1;37mINFO\u001b[0m cyclops.processors.util - # columns: 5, # encounters: 10594\n",
      "2022-06-16 14:04:27,046 \u001b[1;37mINFO\u001b[0m cyclops.processors.util - Remove any text in paranthesis\n",
      "2022-06-16 14:04:27,049 \u001b[1;37mINFO\u001b[0m cyclops.processors.util - # samples: 10594, # encounters: 10594\n",
      "2022-06-16 14:04:27,050 \u001b[1;37mINFO\u001b[0m cyclops.processors.util - # columns: 5, # encounters: 10594\n",
      "2022-06-16 14:04:27,060 \u001b[1;37mINFO\u001b[0m cyclops.processors.util - Fixing inequalities and removing outlier values...\n",
      "2022-06-16 14:04:27,062 \u001b[1;37mINFO\u001b[0m cyclops.processors.util - # samples: 10594, # encounters: 10594\n",
      "2022-06-16 14:04:27,064 \u001b[1;37mINFO\u001b[0m cyclops.processors.util - # columns: 5, # encounters: 10594\n",
      "2022-06-16 14:04:27,069 \u001b[1;37mINFO\u001b[0m cyclops.processors.util - Fill empty result string values with NaN...\n",
      "2022-06-16 14:04:27,071 \u001b[1;37mINFO\u001b[0m cyclops.processors.util - # samples: 10594, # encounters: 10594\n",
      "2022-06-16 14:04:27,073 \u001b[1;37mINFO\u001b[0m cyclops.processors.util - # columns: 5, # encounters: 10594\n",
      "2022-06-16 14:04:27,075 \u001b[1;37mINFO\u001b[0m cyclops.processors.events - Converting string result values to numeric...\n",
      "2022-06-16 14:04:27,080 \u001b[1;37mINFO\u001b[0m cyclops.processors.util - Normalize event categories...\n",
      "2022-06-16 14:04:27,082 \u001b[1;37mINFO\u001b[0m cyclops.processors.util - # samples: 10594, # encounters: 10594\n",
      "2022-06-16 14:04:27,084 \u001b[1;37mINFO\u001b[0m cyclops.processors.util - # columns: 5, # encounters: 10594\n",
      "2022-06-16 14:04:27,086 \u001b[1;37mINFO\u001b[0m cyclops.utils.profile - Finished executing function normalize_events in 0.111697 s\n",
      "2022-06-16 14:04:27,088 \u001b[1;37mINFO\u001b[0m cyclops.processors.util - Cleaning raw event data...\n",
      "2022-06-16 14:04:27,091 \u001b[1;37mINFO\u001b[0m cyclops.processors.util - # samples: 10594, # encounters: 10594\n",
      "2022-06-16 14:04:27,092 \u001b[1;37mINFO\u001b[0m cyclops.processors.util - # columns: 5, # encounters: 10594\n",
      "2022-06-16 14:04:27,106 \u001b[1;37mINFO\u001b[0m cyclops.processors.util - Remove text in parentheses and normalize event names...\n",
      "2022-06-16 14:04:27,109 \u001b[1;37mINFO\u001b[0m cyclops.processors.util - # samples: 10594, # encounters: 10594\n",
      "2022-06-16 14:04:27,110 \u001b[1;37mINFO\u001b[0m cyclops.processors.util - # columns: 5, # encounters: 10594\n",
      "2022-06-16 14:04:27,117 \u001b[1;37mINFO\u001b[0m cyclops.processors.util - Drop unsupported events...\n",
      "2022-06-16 14:04:27,119 \u001b[1;37mINFO\u001b[0m cyclops.processors.util - # samples: 10594, # encounters: 10594\n",
      "2022-06-16 14:04:27,121 \u001b[1;37mINFO\u001b[0m cyclops.processors.util - # columns: 5, # encounters: 10594\n",
      "2022-06-16 14:04:27,145 \u001b[1;37mINFO\u001b[0m cyclops.processors.util - Convert Positive/Negative to 1/0...\n",
      "2022-06-16 14:04:27,147 \u001b[1;37mINFO\u001b[0m cyclops.processors.util - # samples: 10594, # encounters: 10594\n",
      "2022-06-16 14:04:27,149 \u001b[1;37mINFO\u001b[0m cyclops.processors.util - # columns: 5, # encounters: 10594\n",
      "2022-06-16 14:04:27,159 \u001b[1;37mINFO\u001b[0m cyclops.processors.util - Remove any text in paranthesis\n",
      "2022-06-16 14:04:27,162 \u001b[1;37mINFO\u001b[0m cyclops.processors.util - # samples: 10594, # encounters: 10594\n",
      "2022-06-16 14:04:27,163 \u001b[1;37mINFO\u001b[0m cyclops.processors.util - # columns: 5, # encounters: 10594\n",
      "2022-06-16 14:04:27,173 \u001b[1;37mINFO\u001b[0m cyclops.processors.util - Fixing inequalities and removing outlier values...\n",
      "2022-06-16 14:04:27,176 \u001b[1;37mINFO\u001b[0m cyclops.processors.util - # samples: 10594, # encounters: 10594\n",
      "2022-06-16 14:04:27,178 \u001b[1;37mINFO\u001b[0m cyclops.processors.util - # columns: 5, # encounters: 10594\n",
      "2022-06-16 14:04:27,183 \u001b[1;37mINFO\u001b[0m cyclops.processors.util - Fill empty result string values with NaN...\n",
      "2022-06-16 14:04:27,185 \u001b[1;37mINFO\u001b[0m cyclops.processors.util - # samples: 10594, # encounters: 10594\n",
      "2022-06-16 14:04:27,187 \u001b[1;37mINFO\u001b[0m cyclops.processors.util - # columns: 5, # encounters: 10594\n",
      "2022-06-16 14:04:27,189 \u001b[1;37mINFO\u001b[0m cyclops.processors.events - Converting string result values to numeric...\n",
      "2022-06-16 14:04:27,193 \u001b[1;37mINFO\u001b[0m cyclops.processors.util - Normalize event categories...\n",
      "2022-06-16 14:04:27,195 \u001b[1;37mINFO\u001b[0m cyclops.processors.util - # samples: 10594, # encounters: 10594\n",
      "2022-06-16 14:04:27,197 \u001b[1;37mINFO\u001b[0m cyclops.processors.util - # columns: 5, # encounters: 10594\n",
      "2022-06-16 14:04:27,199 \u001b[1;37mINFO\u001b[0m cyclops.utils.profile - Finished executing function normalize_events in 0.111280 s\n"
     ]
    }
   ],
   "source": [
    "imaging_events = normalize_events(imaging_train_val_test)\n",
    "transfusion_events = normalize_events(transfusions_train_val_test)\n",
    "lab_events = normalize_events(labs_train_val_test)\n",
    "mortality_risk_events = normalize_events(mortality_risk_events)\n",
    "intervention_events = normalize_events(interventions_train_val_test)\n",
    "admit_events = normalize_events(admit_events)\n",
    "disch_events = normalize_events(disch_events)"
   ]
  },
  {
   "cell_type": "markdown",
   "id": "5950cea0-8178-4303-865d-ceb47ac2b30d",
   "metadata": {},
   "source": [
    "## Combine different event data, save"
   ]
  },
  {
   "cell_type": "code",
   "execution_count": 65,
   "id": "84080940-2a0e-45ab-987a-ef7f200a7870",
   "metadata": {},
   "outputs": [
    {
     "name": "stderr",
     "output_type": "stream",
     "text": [
      "2022-06-16 14:04:55,386 \u001b[1;37mINFO\u001b[0m cyclops.utils.file - Saving dataframe to /mnt/nfs/project/delirium/drift_exp/_extract_v3/combined_events.parquet\n"
     ]
    },
    {
     "data": {
      "text/plain": [
       "'/mnt/nfs/project/delirium/drift_exp/_extract_v3/combined_events.parquet'"
      ]
     },
     "execution_count": 65,
     "metadata": {},
     "output_type": "execute_result"
    }
   ],
   "source": [
    "combined_events = combine_events(\n",
    "    [\n",
    "        intervention_events,\n",
    "        imaging_events,\n",
    "        transfusion_events,\n",
    "        lab_events,\n",
    "        mortality_risk_events,\n",
    "        admit_events,\n",
    "        disch_events,\n",
    "    ]\n",
    ")\n",
    "save_dataframe(combined_events, os.path.join(BASE_DATA_PATH, \"combined_events\"))"
   ]
  },
  {
   "cell_type": "markdown",
   "id": "7692cd1a-e9ec-456d-9df2-3a9cfef6eeab",
   "metadata": {},
   "source": [
    "## Load combined events, aggregate them, save"
   ]
  },
  {
   "cell_type": "code",
   "execution_count": 43,
   "id": "4d9306e6-90a0-4adb-8691-972424912f60",
   "metadata": {},
   "outputs": [
    {
     "name": "stderr",
     "output_type": "stream",
     "text": [
      "2022-06-16 14:33:14,669 \u001b[1;37mINFO\u001b[0m cyclops.utils.file - Loading dataframe to /mnt/nfs/project/delirium/drift_exp/_extract_v3/combined_events.parquet\n"
     ]
    }
   ],
   "source": [
    "combined_events = load_dataframe(os.path.join(BASE_DATA_PATH, \"combined_events\"))"
   ]
  },
  {
   "cell_type": "markdown",
   "id": "0d9e10d6-b372-45e6-b0b3-8aa45593ef38",
   "metadata": {},
   "source": [
    "## Aggregate combined events, save"
   ]
  },
  {
   "cell_type": "code",
   "execution_count": null,
   "id": "1e04e53a-d5eb-487b-a26a-e02c4f51bf78",
   "metadata": {},
   "outputs": [],
   "source": [
    "aggregator = Aggregator(bucket_size=AGGREGATION_BUCKET_SIZE, window=AGGREGATION_WINDOW)\n",
    "aggregated_events = aggregator(combined_events)\n",
    "save_dataframe(aggregated_events, os.path.join(BASE_DATA_PATH, \"aggregated_events\"))"
   ]
  },
  {
   "cell_type": "markdown",
   "id": "81bbc55f-d3f2-41c6-a367-c8a817b424d8",
   "metadata": {},
   "source": [
    "## Load aggregated events"
   ]
  },
  {
   "cell_type": "code",
   "execution_count": 48,
   "id": "ab947b7d-b489-4ce6-be32-546a8d0ae6ce",
   "metadata": {},
   "outputs": [
    {
     "name": "stderr",
     "output_type": "stream",
     "text": [
      "2022-06-16 14:34:38,965 \u001b[1;37mINFO\u001b[0m cyclops.utils.file - Loading dataframe to /mnt/nfs/project/delirium/drift_exp/_extract_v3/aggregated_events.parquet\n"
     ]
    },
    {
     "data": {
      "text/html": [
       "<div>\n",
       "<style scoped>\n",
       "    .dataframe tbody tr th:only-of-type {\n",
       "        vertical-align: middle;\n",
       "    }\n",
       "\n",
       "    .dataframe tbody tr th {\n",
       "        vertical-align: top;\n",
       "    }\n",
       "\n",
       "    .dataframe thead th {\n",
       "        text-align: right;\n",
       "    }\n",
       "</style>\n",
       "<table border=\"1\" class=\"dataframe\">\n",
       "  <thead>\n",
       "    <tr style=\"text-align: right;\">\n",
       "      <th></th>\n",
       "      <th>encounter_id</th>\n",
       "      <th>timestep</th>\n",
       "      <th>event_value</th>\n",
       "      <th>event_name</th>\n",
       "      <th>count</th>\n",
       "      <th>null_fraction</th>\n",
       "    </tr>\n",
       "  </thead>\n",
       "  <tbody>\n",
       "    <tr>\n",
       "      <th>0</th>\n",
       "      <td>11100375</td>\n",
       "      <td>0</td>\n",
       "      <td>NaN</td>\n",
       "      <td>admission</td>\n",
       "      <td>1</td>\n",
       "      <td>1.0</td>\n",
       "    </tr>\n",
       "    <tr>\n",
       "      <th>1</th>\n",
       "      <td>11100375</td>\n",
       "      <td>0</td>\n",
       "      <td>43.50</td>\n",
       "      <td>albumin</td>\n",
       "      <td>2</td>\n",
       "      <td>0.0</td>\n",
       "    </tr>\n",
       "    <tr>\n",
       "      <th>2</th>\n",
       "      <td>11100375</td>\n",
       "      <td>1</td>\n",
       "      <td>36.00</td>\n",
       "      <td>albumin</td>\n",
       "      <td>1</td>\n",
       "      <td>0.0</td>\n",
       "    </tr>\n",
       "    <tr>\n",
       "      <th>3</th>\n",
       "      <td>11100375</td>\n",
       "      <td>4</td>\n",
       "      <td>40.00</td>\n",
       "      <td>albumin</td>\n",
       "      <td>1</td>\n",
       "      <td>0.0</td>\n",
       "    </tr>\n",
       "    <tr>\n",
       "      <th>4</th>\n",
       "      <td>11100375</td>\n",
       "      <td>0</td>\n",
       "      <td>27.70</td>\n",
       "      <td>aptt</td>\n",
       "      <td>1</td>\n",
       "      <td>0.0</td>\n",
       "    </tr>\n",
       "    <tr>\n",
       "      <th>...</th>\n",
       "      <td>...</td>\n",
       "      <td>...</td>\n",
       "      <td>...</td>\n",
       "      <td>...</td>\n",
       "      <td>...</td>\n",
       "      <td>...</td>\n",
       "    </tr>\n",
       "    <tr>\n",
       "      <th>621303</th>\n",
       "      <td>15999785</td>\n",
       "      <td>5</td>\n",
       "      <td>0.72</td>\n",
       "      <td>troponin</td>\n",
       "      <td>2</td>\n",
       "      <td>0.0</td>\n",
       "    </tr>\n",
       "    <tr>\n",
       "      <th>621304</th>\n",
       "      <td>15999785</td>\n",
       "      <td>4</td>\n",
       "      <td>12.00</td>\n",
       "      <td>white blood cell count</td>\n",
       "      <td>1</td>\n",
       "      <td>0.0</td>\n",
       "    </tr>\n",
       "    <tr>\n",
       "      <th>621305</th>\n",
       "      <td>15999785</td>\n",
       "      <td>5</td>\n",
       "      <td>12.70</td>\n",
       "      <td>white blood cell count</td>\n",
       "      <td>1</td>\n",
       "      <td>0.0</td>\n",
       "    </tr>\n",
       "    <tr>\n",
       "      <th>621306</th>\n",
       "      <td>15999785</td>\n",
       "      <td>4</td>\n",
       "      <td>1.00</td>\n",
       "      <td>x-ray</td>\n",
       "      <td>2</td>\n",
       "      <td>0.0</td>\n",
       "    </tr>\n",
       "    <tr>\n",
       "      <th>621307</th>\n",
       "      <td>15999785</td>\n",
       "      <td>5</td>\n",
       "      <td>1.00</td>\n",
       "      <td>x-ray</td>\n",
       "      <td>1</td>\n",
       "      <td>0.0</td>\n",
       "    </tr>\n",
       "  </tbody>\n",
       "</table>\n",
       "<p>621308 rows × 6 columns</p>\n",
       "</div>"
      ],
      "text/plain": [
       "        encounter_id  timestep  event_value              event_name  count  \\\n",
       "0           11100375         0          NaN               admission      1   \n",
       "1           11100375         0        43.50                 albumin      2   \n",
       "2           11100375         1        36.00                 albumin      1   \n",
       "3           11100375         4        40.00                 albumin      1   \n",
       "4           11100375         0        27.70                    aptt      1   \n",
       "...              ...       ...          ...                     ...    ...   \n",
       "621303      15999785         5         0.72                troponin      2   \n",
       "621304      15999785         4        12.00  white blood cell count      1   \n",
       "621305      15999785         5        12.70  white blood cell count      1   \n",
       "621306      15999785         4         1.00                   x-ray      2   \n",
       "621307      15999785         5         1.00                   x-ray      1   \n",
       "\n",
       "        null_fraction  \n",
       "0                 1.0  \n",
       "1                 0.0  \n",
       "2                 0.0  \n",
       "3                 0.0  \n",
       "4                 0.0  \n",
       "...               ...  \n",
       "621303            0.0  \n",
       "621304            0.0  \n",
       "621305            0.0  \n",
       "621306            0.0  \n",
       "621307            0.0  \n",
       "\n",
       "[621308 rows x 6 columns]"
      ]
     },
     "execution_count": 48,
     "metadata": {},
     "output_type": "execute_result"
    }
   ],
   "source": [
    "aggregated_events = load_dataframe(os.path.join(BASE_DATA_PATH, \"aggregated_events\"))\n",
    "aggregated_events"
   ]
  },
  {
   "cell_type": "markdown",
   "id": "ac7170d3-18b9-4e45-b2af-62f1eb50e829",
   "metadata": {},
   "source": [
    "## Create labels"
   ]
  },
  {
   "cell_type": "code",
   "execution_count": 15,
   "id": "500c35e0-ef34-4951-8311-3b01602ae19f",
   "metadata": {},
   "outputs": [
    {
     "name": "stdout",
     "output_type": "stream",
     "text": [
      "3030\n"
     ]
    }
   ],
   "source": [
    "# import sys\n",
    "# np.set_printoptions(threshold=sys.maxsize)\n",
    "num_timesteps = int(AGGREGATION_WINDOW / AGGREGATION_BUCKET_SIZE)\n",
    "encounter_ids = list(encounters_train_val_test[ENCOUNTER_ID])\n",
    "encounter_ids_idx = np.arange(len(encounter_ids))\n",
    "num_encounters = len(encounter_ids)\n",
    "labels = np.zeros((num_encounters, num_timesteps))\n",
    "\n",
    "labels[\n",
    "    [\n",
    "        encounter_ids.index(enc_id)\n",
    "        for enc_id in list(encounters_mortality_within_risk_timeframe[ENCOUNTER_ID])\n",
    "    ]\n",
    "] = 1\n",
    "print(len(encounters_mortality_within_risk_timeframe))"
   ]
  },
  {
   "cell_type": "markdown",
   "id": "f4de68a9-434b-44a1-bbb2-3b9cb1759f91",
   "metadata": {},
   "source": [
    "## Pivot table to get column that can be used to create labels. 1 corresponds to timestep where death happens (shifted by offset)"
   ]
  },
  {
   "cell_type": "code",
   "execution_count": 58,
   "id": "da84f2b5-09a9-49ef-967f-42496665d05c",
   "metadata": {},
   "outputs": [
    {
     "data": {
      "text/plain": [
       "{12296817, 13651026, 14920341}"
      ]
     },
     "execution_count": 58,
     "metadata": {},
     "output_type": "execute_result"
    }
   ],
   "source": [
    "aggregated_mortality_risk = aggregated_events.loc[\n",
    "    aggregated_events[EVENT_NAME] == f\"mortality_risk_{offset}\"\n",
    "]\n",
    "missed = set(encounters_mortality_within_risk_timeframe[ENCOUNTER_ID]) - set(\n",
    "    aggregated_mortality_risk[ENCOUNTER_ID]\n",
    ")\n",
    "missed"
   ]
  },
  {
   "cell_type": "code",
   "execution_count": 25,
   "id": "0a4dd842-8b88-49b8-96d9-4c59a94a31f0",
   "metadata": {},
   "outputs": [
    {
     "data": {
      "image/png": "[encoded data removed]",
      "text/plain": [
       "<Figure size 720x360 with 1 Axes>"
      ]
     },
     "metadata": {
      "needs_background": "light"
     },
     "output_type": "display_data"
    }
   ],
   "source": [
    "timesteps_mortality_risk = aggregated_mortality_risk[\"timestep\"]\n",
    "timesteps_mortality_counts = timesteps_mortality_risk.value_counts()\n",
    "fig, axs = plt.subplots(1, 1, figsize=(10, 5), tight_layout=True)\n",
    "ts_vals = plt.bar(\n",
    "    list(np.unique(timesteps_mortality_risk)), list(timesteps_mortality_counts), alpha=0.5\n",
    ")\n",
    "set_bars_color(ts_vals, \"r\")\n",
    "axs.set_xticks(\n",
    "    range(len(ts_vals)),\n",
    "    list(np.unique(timesteps_mortality_risk)),\n",
    "    rotation=\"vertical\",\n",
    "    fontsize=20,\n",
    ")\n",
    "setup_plot(\n",
    "    axs,\n",
    "    \"Mortality encounter distribution over timesteps\",\n",
    "    \"timestep\",\n",
    "    \"# encounters that died\",\n",
    "    [\"Count\"],\n",
    ")\n",
    "plt.show()"
   ]
  },
  {
   "cell_type": "code",
   "execution_count": 26,
   "id": "aae17f56-f9c7-4bb9-82d4-586f1bce09fb",
   "metadata": {},
   "outputs": [
    {
     "data": {
      "text/plain": [
       "(5382, 3030, 5297)"
      ]
     },
     "execution_count": 26,
     "metadata": {},
     "output_type": "execute_result"
    }
   ],
   "source": [
    "2267 + 3115, len(mortality_risk_events), 2267 + 3030"
   ]
  },
  {
   "cell_type": "markdown",
   "id": "f1cc4793-a22b-4611-96b3-65e2bd0d3d3c",
   "metadata": {},
   "source": [
    "## Pivot aggregated events to get column-wise temporal features and save it"
   ]
  },
  {
   "cell_type": "code",
   "execution_count": 27,
   "id": "56a50a78-9e33-4f71-b45c-a2ca21ad31c1",
   "metadata": {},
   "outputs": [
    {
     "name": "stderr",
     "output_type": "stream",
     "text": [
      "2022-06-16 14:28:25,182 \u001b[1;37mINFO\u001b[0m cyclops.utils.file - Saving dataframe to /mnt/nfs/project/delirium/drift_exp/_extract_v3/temporal_features.parquet\n"
     ]
    },
    {
     "data": {
      "text/plain": [
       "'/mnt/nfs/project/delirium/drift_exp/_extract_v3/temporal_features.parquet'"
      ]
     },
     "execution_count": 27,
     "metadata": {},
     "output_type": "execute_result"
    }
   ],
   "source": [
    "temporal_features = pivot_aggregated_events_to_features(aggregated_events, np.mean)\n",
    "save_dataframe(temporal_features, os.path.join(BASE_DATA_PATH, \"temporal_features\"))"
   ]
  },
  {
   "cell_type": "markdown",
   "id": "0277e20e-c9c7-427c-b3a4-e6120b342581",
   "metadata": {},
   "source": [
    "## Add to feature handler, with indicator variables."
   ]
  },
  {
   "cell_type": "code",
   "execution_count": 28,
   "id": "e7cf2259-d1e8-4d72-acb5-d4c1ebd4cfc2",
   "metadata": {},
   "outputs": [
    {
     "name": "stderr",
     "output_type": "stream",
     "text": [
      "2022-06-16 14:28:26,598 \u001b[1;37mINFO\u001b[0m cyclops.utils.file - Loading dataframe to /mnt/nfs/project/delirium/drift_exp/_extract_v3/temporal_features.parquet\n",
      "2022-06-16 14:28:26,994 \u001b[1;33mWARNING\u001b[0m cyclops.feature_handler - Feature admission has all NaNs, will not be added.\n",
      "2022-06-16 14:28:27,178 \u001b[1;33mWARNING\u001b[0m cyclops.feature_handler - Feature discharge has all NaNs, will not be added.\n",
      "2022-06-16 14:28:27,350 \u001b[1;33mWARNING\u001b[0m cyclops.feature_handler - Feature influenza has all NaNs, will not be added.\n"
     ]
    },
    {
     "data": {
      "text/plain": [
       "Index(['albumin', 'aptt', 'arterial paco2', 'arterial pao2', 'arterial ph',\n",
       "       'bicarbonate', 'bilirubin', 'blood urea nitrogen', 'calcium',\n",
       "       'calcium, ionized', 'creatinine', 'crp', 'ct', 'dialysis_mapped',\n",
       "       'echo', 'endoscopy_mapped', 'esr', 'ferritin', 'fibrinogen',\n",
       "       'glucose fasting', 'glucose point of care', 'glucose random', 'hba1c',\n",
       "       'hematocrit', 'hemoglobin', 'high sensitivity troponin', 'inr',\n",
       "       'interventional', 'inv_mech_vent_mapped', 'ketone', 'lactate arterial',\n",
       "       'lactate venous', 'lipase', 'lymphocyte', 'mean cell volume',\n",
       "       'mortality_risk_168', 'mri', 'neutrophils', 'non-rbc', 'other',\n",
       "       'platelet count', 'potassium', 'pt', 'rbc', 'serum alcohol', 'sodium',\n",
       "       'surgery_mapped', 'troponin', 'ultrasound', 'unmapped_intervention',\n",
       "       'urine sodium', 'urine specific gravity', 'venous pco2', 'venous ph',\n",
       "       'vitamin b12', 'vitamin d', 'white blood cell count', 'x-ray'],\n",
       "      dtype='object')"
      ]
     },
     "execution_count": 28,
     "metadata": {},
     "output_type": "execute_result"
    }
   ],
   "source": [
    "feature_handler = FeatureHandler()\n",
    "\n",
    "temporal_features = load_dataframe(os.path.join(BASE_DATA_PATH, \"temporal_features\"))\n",
    "# indicators = create_indicator_variables(temporal_features)\n",
    "feature_handler.add_features(temporal_features)\n",
    "# feature_handler.add_features(indicators)\n",
    "# feature_handler.drop_features([\"death_indicator\"])\n",
    "feature_handler.features[\"temporal\"].columns"
   ]
  },
  {
   "cell_type": "code",
   "execution_count": 29,
   "id": "725048d6-7442-48a3-ae76-e3d29280eb09",
   "metadata": {},
   "outputs": [
    {
     "data": {
      "text/plain": [
       "5027.0"
      ]
     },
     "execution_count": 29,
     "metadata": {},
     "output_type": "execute_result"
    }
   ],
   "source": [
    "feature_handler.features[\"temporal\"][\"unmapped_intervention\"].sum()"
   ]
  },
  {
   "cell_type": "markdown",
   "id": "025e89d8-a325-45f5-a38e-0f0ef6abe443",
   "metadata": {},
   "source": [
    "## Compute static features, save it"
   ]
  },
  {
   "cell_type": "code",
   "execution_count": 30,
   "id": "d87c4497-03d3-4304-86d1-54b4eb5b5f57",
   "metadata": {},
   "outputs": [
    {
     "name": "stderr",
     "output_type": "stream",
     "text": [
      "2022-06-16 14:28:32,328 \u001b[1;37mINFO\u001b[0m cyclops.processors.util - Computing static columns...\n",
      "2022-06-16 14:28:32,330 \u001b[1;37mINFO\u001b[0m cyclops.processors.util - # samples: 5297, # encounters: 5297\n",
      "2022-06-16 14:28:32,331 \u001b[1;37mINFO\u001b[0m cyclops.processors.util - # columns: 7, # encounters: 5297\n",
      "2022-06-16 14:28:37,750 \u001b[1;37mINFO\u001b[0m cyclops.processors.statics - Found {'age', 'hospital_id', 'triage_level', 'admit_timestamp', 'sex', 'discharge_timestamp'} static feature columns.\n",
      "2022-06-16 14:28:37,753 \u001b[1;37mINFO\u001b[0m cyclops.utils.profile - Finished executing function infer_statics in 5.421211 s\n",
      "2022-06-16 14:28:41,901 \u001b[1;37mINFO\u001b[0m cyclops.utils.profile - Finished executing function compute_statics in 9.573146 s\n",
      "2022-06-16 14:28:41,905 \u001b[1;37mINFO\u001b[0m cyclops.utils.file - Saving dataframe to /mnt/nfs/project/delirium/drift_exp/_extract_v3/static_features.parquet\n"
     ]
    },
    {
     "data": {
      "text/plain": [
       "'/mnt/nfs/project/delirium/drift_exp/_extract_v3/static_features.parquet'"
      ]
     },
     "execution_count": 30,
     "metadata": {},
     "output_type": "execute_result"
    }
   ],
   "source": [
    "encounters_mortality = gather_columns(\n",
    "    encounters_mortality,\n",
    "    [\n",
    "        ENCOUNTER_ID,\n",
    "        AGE,\n",
    "        SEX,\n",
    "        HOSPITAL_ID,\n",
    "        ADMIT_TIMESTAMP,\n",
    "        DISCHARGE_TIMESTAMP,\n",
    "        TRIAGE_LEVEL,\n",
    "    ],\n",
    ")\n",
    "static_features = compute_statics(encounters_mortality)\n",
    "save_dataframe(static_features, os.path.join(BASE_DATA_PATH, \"static_features\"))"
   ]
  },
  {
   "cell_type": "markdown",
   "id": "a61b6950-850c-4a83-a568-45088411911a",
   "metadata": {},
   "source": [
    "##  Load static features, add to feature handler, save all features"
   ]
  },
  {
   "cell_type": "code",
   "execution_count": 31,
   "id": "1c4759c9-bfd8-42ec-adeb-c518489caae2",
   "metadata": {},
   "outputs": [
    {
     "name": "stderr",
     "output_type": "stream",
     "text": [
      "2022-06-16 14:28:41,933 \u001b[1;37mINFO\u001b[0m cyclops.utils.file - Loading dataframe to /mnt/nfs/project/delirium/drift_exp/_extract_v3/static_features.parquet\n",
      "2022-06-16 14:28:41,986 \u001b[1;37mINFO\u001b[0m cyclops.feature_handler - Saving static features to /mnt/nfs/project/delirium/drift_exp/_extract_v3/features_static.gzip\n",
      "2022-06-16 14:28:41,999 \u001b[1;37mINFO\u001b[0m cyclops.feature_handler - Saving temporal features to /mnt/nfs/project/delirium/drift_exp/_extract_v3/features_temporal.gzip\n"
     ]
    }
   ],
   "source": [
    "static_features = load_dataframe(os.path.join(BASE_DATA_PATH, \"static_features\"))\n",
    "feature_handler.add_features(\n",
    "    static_features, reference_cols=[HOSPITAL_ID, ADMIT_TIMESTAMP, DISCHARGE_TIMESTAMP]\n",
    ")\n",
    "feature_handler.save(BASE_DATA_PATH, \"features\")"
   ]
  },
  {
   "cell_type": "markdown",
   "id": "bb028c06-7771-46db-a291-f7621471ef5e",
   "metadata": {},
   "source": [
    "## Create new feature handler, load saved features from file"
   ]
  },
  {
   "cell_type": "code",
   "execution_count": 32,
   "id": "0836f236-1f0b-46e8-90b8-8e811adcbe2e",
   "metadata": {},
   "outputs": [
    {
     "name": "stderr",
     "output_type": "stream",
     "text": [
      "2022-06-16 14:28:42,232 \u001b[1;37mINFO\u001b[0m cyclops.feature_handler - Loading features from file...\n",
      "2022-06-16 14:28:42,234 \u001b[1;37mINFO\u001b[0m cyclops.feature_handler - Found file to load for static features...\n",
      "2022-06-16 14:28:42,236 \u001b[1;37mINFO\u001b[0m cyclops.feature_handler - Successfully loaded static features from file...\n",
      "2022-06-16 14:28:42,260 \u001b[1;37mINFO\u001b[0m cyclops.feature_handler - Found file to load for temporal features...\n",
      "2022-06-16 14:28:43,513 \u001b[1;37mINFO\u001b[0m cyclops.feature_handler - Successfully loaded temporal features from file...\n"
     ]
    }
   ],
   "source": [
    "feature_handler1 = FeatureHandler()\n",
    "feature_handler1.load(BASE_DATA_PATH, \"features\")"
   ]
  },
  {
   "cell_type": "markdown",
   "id": "5da874af-fc43-4373-86b5-e3296893c27b",
   "metadata": {},
   "source": [
    "## Impute temporal features"
   ]
  },
  {
   "cell_type": "code",
   "execution_count": 62,
   "id": "e67a57ca-2e72-4f17-8452-3c3e5f4d6906",
   "metadata": {},
   "outputs": [
    {
     "name": "stdout",
     "output_type": "stream",
     "text": [
      "Train set: 4322, Val set: 487, Test set: 488\n"
     ]
    },
    {
     "data": {
      "text/plain": [
       "encounter_id  timestep\n",
       "11100856      0           1.0\n",
       "              1           NaN\n",
       "              2           NaN\n",
       "              3           NaN\n",
       "              4           NaN\n",
       "              5           NaN\n",
       "              6           NaN\n",
       "11103117      0           NaN\n",
       "              1           NaN\n",
       "              2           NaN\n",
       "              3           NaN\n",
       "              4           NaN\n",
       "              5           NaN\n",
       "              6           NaN\n",
       "11108891      0           NaN\n",
       "              1           NaN\n",
       "              2           NaN\n",
       "              3           NaN\n",
       "              4           1.0\n",
       "              5           NaN\n",
       "              6           NaN\n",
       "11110408      0           NaN\n",
       "              1           NaN\n",
       "              2           NaN\n",
       "              3           NaN\n",
       "              4           1.0\n",
       "              5           NaN\n",
       "              6           NaN\n",
       "11111297      0           NaN\n",
       "              1           1.0\n",
       "              2           NaN\n",
       "              3           NaN\n",
       "              4           NaN\n",
       "              5           NaN\n",
       "              6           NaN\n",
       "11119171      0           NaN\n",
       "              1           1.0\n",
       "              2           NaN\n",
       "              3           NaN\n",
       "              4           NaN\n",
       "              5           NaN\n",
       "              6           NaN\n",
       "11120124      0           NaN\n",
       "              1           NaN\n",
       "              2           1.0\n",
       "              3           NaN\n",
       "              4           NaN\n",
       "              5           NaN\n",
       "              6           NaN\n",
       "11128213      0           NaN\n",
       "Name: mortality_risk_168, dtype: float64"
      ]
     },
     "execution_count": 62,
     "metadata": {},
     "output_type": "execute_result"
    }
   ],
   "source": [
    "def impute_simple(dataframe: pd.DataFrame, time_index: str = TIMESTEP) -> pd.DataFrame:\n",
    "    \"\"\"Impute features using 'Simple' method.\n",
    "\n",
    "    Concatenate the forward filled value, the mask of the measurement,\n",
    "    and the time of the last measurement.\n",
    "\n",
    "    Z. Che, S. Purushotham, K. Cho, D. Sontag, and Y. Liu,\n",
    "    \"Recurrent Neural Networks for Multivariate Time Series with Missing Values,\"\n",
    "    Scientific Reports, vol. 8, no. 1, p. 6085, Apr 2018.\n",
    "\n",
    "    Parameters\n",
    "    ----------\n",
    "    dataframe: pandas.DataFrame\n",
    "        Temporal features dataframe.\n",
    "    time_index: str, optional\n",
    "        The name of the time-series index.\n",
    "\n",
    "    Returns\n",
    "    -------\n",
    "    pandas.DataFrame\n",
    "     Dataframe after applying imputation.\n",
    "\n",
    "    \"\"\"\n",
    "    # Mask missingness.\n",
    "    masked_df = pd.isna(dataframe)\n",
    "    masked_df = masked_df.apply(pd.to_numeric)\n",
    "\n",
    "    # Compute time since last measurement.\n",
    "    index_of_time = list(dataframe.index.names).index(time_index)\n",
    "    time_in = [item[index_of_time] for item in dataframe.index.tolist()]\n",
    "    time_df = dataframe.copy()\n",
    "    for col in time_df.columns.tolist():\n",
    "        time_df[col] = time_in\n",
    "    time_df[masked_df] = np.nan\n",
    "\n",
    "    # Concatenate the dataframes.\n",
    "    df_prime = pd.concat(\n",
    "        [dataframe, masked_df, time_df], axis=1, keys=[\"measurement\", \"mask\", \"time\"]\n",
    "    )\n",
    "    df_prime.columns = df_prime.columns.rename(\"impute_simple\", level=0)\n",
    "\n",
    "    # Fill each dataframe using either ffill or mean.\n",
    "    df_prime = df_prime.fillna(method=\"ffill\").unstack().fillna(0)\n",
    "\n",
    "    # Swap the levels so that the simple imputation feature is the lowest value.\n",
    "    col_level_names = list(df_prime.columns.names)\n",
    "    col_level_names.append(col_level_names.pop(0))\n",
    "\n",
    "    df_prime = df_prime.reorder_levels(col_level_names, axis=1)\n",
    "    df_prime.sort_index(axis=1, inplace=True)\n",
    "\n",
    "    return df_prime\n",
    "\n",
    "\n",
    "def create_train_test_split(\n",
    "    encounters: pd.DataFrame,\n",
    "    fractions: Optional[List] = [0.8, 0.2],\n",
    "    split_column: Optional[str] = None,\n",
    "    split_values: List = None,\n",
    ") -> tuple:\n",
    "    \"\"\"Split encounters into train/test.\n",
    "\n",
    "    Parameters\n",
    "    ----------\n",
    "    encounters: pandas.DataFrame\n",
    "        Dataframe with encounter IDs.\n",
    "    fractions: list, optional\n",
    "        Fraction of samples to use for train, test sets.\n",
    "    split_column: str, optional\n",
    "        If 'split_column' is specified, then that column is used to split.\n",
    "    split_values: list, optional\n",
    "        Along with 'split_column', a list of lists can be specified for filtering.\n",
    "        e.g. [[2008], [2009, 2010]] for train/test split based on year.\n",
    "\n",
    "    Returns\n",
    "    -------\n",
    "    tuple\n",
    "        (train IDs, test IDs)\n",
    "\n",
    "    \"\"\"\n",
    "    if split_column:\n",
    "        if split_column not in encounters.columns:\n",
    "            raise ValueError(\"Specified 'split column' not found in input dataframe\")\n",
    "        if not split_values:\n",
    "            raise ValueError(\"Specify train/test split values for the 'split column'.!\")\n",
    "        train_encounters = encounters[ENCOUNTER_ID].loc[\n",
    "            encounters[split_column].isin(split_values[0])\n",
    "        ]\n",
    "        test_encounters = encounters[ENCOUNTER_ID].loc[\n",
    "            encounters[split_column].isin(split_values[1])\n",
    "        ]\n",
    "        return train_encounters, test_encounters\n",
    "\n",
    "    encounter_ids = list(encounters[ENCOUNTER_ID].unique())\n",
    "    random.shuffle(encounter_ids)\n",
    "    num_train = int(fractions[0] * len(encounter_ids))\n",
    "\n",
    "    return encounter_ids[0:num_train], encounter_ids[num_train:]\n",
    "\n",
    "\n",
    "# By Year\n",
    "encounters_mortality[\"year\"] = encounters_mortality[\"admit_timestamp\"].dt.year\n",
    "train_ids, val_test_ids = create_train_test_split(\n",
    "    encounters_mortality, split_column=\"year\", split_values=[[2018, 2019], [2020]]\n",
    ")\n",
    "\n",
    "# By HOSPITAL_ID\n",
    "# train_ids, val_test_ids = create_train_test_split(encounters_mortality, split_column=HOSPITAL_ID, split_values=[[\"THPM\", \"SMH\", \"THPC\", \"SBK\", \"MSH\"], [\"UHNTW\", \"UHNTG\"]])\n",
    "\n",
    "# Random\n",
    "# train_ids, val_test_ids = create_train_test_split(encounters_mortality, split_column=HOSPITAL_ID, split_values=[[\"THPM\", \"SMH\", \"THPC\"], [\"UHNTW\", \"UHNTG\", \"MSH\"]])\n",
    "\n",
    "val_ids, test_ids = create_train_test_split(\n",
    "    encounters_mortality.loc[encounters_mortality[ENCOUNTER_ID].isin(val_test_ids)],\n",
    "    [0.5, 0.5],\n",
    ")\n",
    "print(\n",
    "    f\"Train set: {len(train_ids)}, Val set: {len(val_ids)}, Test set: {len(test_ids)}\"\n",
    ")\n",
    "encounters_mortality[HOSPITAL_ID].value_counts(), encounters_mortality[\n",
    "    \"year\"\n",
    "].value_counts()\n",
    "\n",
    "static = feature_handler1.features[\"static\"]\n",
    "temporal = feature_handler1.features[\"temporal\"]\n",
    "\n",
    "mortality_risk_24_targets = temporal[\"mortality_risk_168\"].copy()\n",
    "temporal = temporal.drop(columns=\"mortality_risk_168\")\n",
    "\n",
    "X = temporal[\n",
    "    np.in1d(temporal.index.get_level_values(0), static.index.get_level_values(0))\n",
    "]\n",
    "y = mortality_risk_24_targets[\n",
    "    np.in1d(\n",
    "        mortality_risk_24_targets.index.get_level_values(0), X.index.get_level_values(0)\n",
    "    )\n",
    "]\n",
    "\n",
    "y_train, y_val, y_test = [\n",
    "    y[np.in1d(y.index.get_level_values(0), ids)]\n",
    "    for ids in [train_ids, val_ids, test_ids]\n",
    "]\n",
    "X_train, X_val, X_test = [\n",
    "    X[np.in1d(X.index.get_level_values(0), ids)]\n",
    "    for ids in [train_ids, val_ids, test_ids]\n",
    "]\n",
    "\n",
    "len(X), len(X_train), len(X_val), len(X_test), len(y), len(y_train), len(y_val), len(\n",
    "    y_test\n",
    ")\n",
    "\n",
    "X_train_inputs = impute_simple(X_train)\n",
    "y_train.head(n=50)\n",
    "#X_train_inputs = format_dataset(X_train, level=\"features\",imputation_method=\"simple\")\n",
    "#X_val = X[np.in1d(X.index.get_level_values(0), y_val.index.get_level_values(0))]\n",
    "#X_val_inputs = format_dataset(X_val, level=\"features\",imputation_method=\"simple\")\n",
    "#X_test = X[np.in1d(X.index.get_level_values(0), y_test.index.get_level_values(0))]\n",
    "#X_test_inputs = format_dataset(X_test, level=\"features\",imputation_method=\"simple\")"
   ]
  },
  {
   "cell_type": "code",
   "execution_count": null,
   "id": "f7a5f201-a8db-40de-86db-068a9ab5da2e",
   "metadata": {},
   "outputs": [],
   "source": [
    "encounter_id = random.choice(temporal.index.get_level_values(0))\n",
    "X_train_inputs.loc[encounter_id][\"white blood cell count\"]"
   ]
  },
  {
   "cell_type": "code",
   "execution_count": 49,
   "id": "8e93e697-f310-4fe5-a651-537187359fe7",
   "metadata": {},
   "outputs": [
    {
     "name": "stdout",
     "output_type": "stream",
     "text": [
      "15576154\n"
     ]
    },
    {
     "ename": "KeyError",
     "evalue": "'timestep_start_timestamp'",
     "output_type": "error",
     "traceback": [
      "\u001b[0;31m---------------------------------------------------------------------------\u001b[0m",
      "\u001b[0;31mKeyError\u001b[0m                                  Traceback (most recent call last)",
      "Input \u001b[0;32mIn [49]\u001b[0m, in \u001b[0;36m<cell line: 15>\u001b[0;34m()\u001b[0m\n\u001b[1;32m     10\u001b[0m fig \u001b[38;5;241m=\u001b[39m plot_timeline(combined_events_encounter, return_fig\u001b[38;5;241m=\u001b[39m\u001b[38;5;28;01mTrue\u001b[39;00m)\n\u001b[1;32m     12\u001b[0m fig \u001b[38;5;241m=\u001b[39m fig\u001b[38;5;241m.\u001b[39mupdate_layout(width\u001b[38;5;241m=\u001b[39m\u001b[38;5;241m2000\u001b[39m, height\u001b[38;5;241m=\u001b[39m\u001b[38;5;241m800\u001b[39m)\n\u001b[1;32m     14\u001b[0m aggregator\u001b[38;5;241m.\u001b[39mmeta[\u001b[38;5;124m\"\u001b[39m\u001b[38;5;124mtimestep_end_timestamp\u001b[39m\u001b[38;5;124m\"\u001b[39m] \u001b[38;5;241m=\u001b[39m (\n\u001b[0;32m---> 15\u001b[0m     \u001b[43maggregator\u001b[49m\u001b[38;5;241;43m.\u001b[39;49m\u001b[43mmeta\u001b[49m\u001b[43m[\u001b[49m\u001b[38;5;124;43m\"\u001b[39;49m\u001b[38;5;124;43mtimestep_start_timestamp\u001b[39;49m\u001b[38;5;124;43m\"\u001b[39;49m\u001b[43m]\u001b[49m\n\u001b[1;32m     16\u001b[0m     \u001b[38;5;241m+\u001b[39m pd\u001b[38;5;241m.\u001b[39mto_timedelta(AGGREGATION_BUCKET_SIZE, unit\u001b[38;5;241m=\u001b[39m\u001b[38;5;124m\"\u001b[39m\u001b[38;5;124mh\u001b[39m\u001b[38;5;124m\"\u001b[39m)\n\u001b[1;32m     17\u001b[0m )\u001b[38;5;241m.\u001b[39mrename(columns\u001b[38;5;241m=\u001b[39m{\u001b[38;5;124m\"\u001b[39m\u001b[38;5;124mtimestep_start_timestamp\u001b[39m\u001b[38;5;124m\"\u001b[39m: \u001b[38;5;124m\"\u001b[39m\u001b[38;5;124mtimestep_end_timestamp\u001b[39m\u001b[38;5;124m\"\u001b[39m})\n\u001b[1;32m     18\u001b[0m aggregator\u001b[38;5;241m.\u001b[39mmeta[\u001b[38;5;124m\"\u001b[39m\u001b[38;5;124mtimestep_end_timestamp\u001b[39m\u001b[38;5;124m\"\u001b[39m]\n\u001b[1;32m     19\u001b[0m ts_ends \u001b[38;5;241m=\u001b[39m aggregator\u001b[38;5;241m.\u001b[39mmeta[\u001b[38;5;124m\"\u001b[39m\u001b[38;5;124mtimestep_end_timestamp\u001b[39m\u001b[38;5;124m\"\u001b[39m]\u001b[38;5;241m.\u001b[39mloc[encounter_id][\n\u001b[1;32m     20\u001b[0m     \u001b[38;5;124m\"\u001b[39m\u001b[38;5;124mtimestep_end_timestamp\u001b[39m\u001b[38;5;124m\"\u001b[39m\n\u001b[1;32m     21\u001b[0m ]\n",
      "\u001b[0;31mKeyError\u001b[0m: 'timestep_start_timestamp'"
     ]
    }
   ],
   "source": [
    "encounter_id = random.choice(aggregated_mortality_risk[\"encounter_id\"].unique())\n",
    "encounter_id = 15576154\n",
    "\n",
    "# {12296817, 13651026, 14920341, 15576154}\n",
    "\n",
    "print(encounter_id)\n",
    "combined_events_encounter = combined_events.loc[\n",
    "    combined_events[\"encounter_id\"] == encounter_id\n",
    "]\n",
    "fig = plot_timeline(combined_events_encounter, return_fig=True)\n",
    "\n",
    "fig = fig.update_layout(width=2000, height=800)\n",
    "\n",
    "aggregator.meta[\"timestep_end_timestamp\"] = (\n",
    "    aggregator.meta[\"timestep_start_timestamp\"]\n",
    "    + pd.to_timedelta(AGGREGATION_BUCKET_SIZE, unit=\"h\")\n",
    ").rename(columns={\"timestep_start_timestamp\": \"timestep_end_timestamp\"})\n",
    "aggregator.meta[\"timestep_end_timestamp\"]\n",
    "ts_ends = aggregator.meta[\"timestep_end_timestamp\"].loc[encounter_id][\n",
    "    \"timestep_end_timestamp\"\n",
    "]\n",
    "for ts_end in ts_ends:\n",
    "    fig.add_vline(ts_end)\n",
    "fig.show()\n",
    "\n",
    "# combined_events"
   ]
  },
  {
   "cell_type": "code",
   "execution_count": 47,
   "id": "5fe8bbc1-d821-48e1-81d0-f501364f9d1d",
   "metadata": {},
   "outputs": [
    {
     "data": {
      "text/plain": [
       "6537      2018-06-16 12:23:00\n",
       "56620     2018-06-09 19:57:00\n",
       "56621     2018-06-10 07:26:00\n",
       "56622     2018-06-10 21:09:00\n",
       "56623     2018-06-11 07:30:00\n",
       "                  ...        \n",
       "1702319   2018-06-09 22:40:00\n",
       "1702320   2018-06-15 07:00:00\n",
       "1813483   2018-06-10 16:32:00\n",
       "1816646   2018-06-09 20:13:00\n",
       "1827240   2018-06-17 16:32:00\n",
       "Name: event_timestamp, Length: 449, dtype: datetime64[ns]"
      ]
     },
     "execution_count": 47,
     "metadata": {},
     "output_type": "execute_result"
    }
   ],
   "source": [
    "combined_events.loc[combined_events[ENCOUNTER_ID] == 15576154][EVENT_TIMESTAMP]\n",
    "# encounters_mortality.loc[encounters_mortality[ENCOUNTER_ID] == 15576154]"
   ]
  },
  {
   "cell_type": "code",
   "execution_count": null,
   "id": "2c8073dc-20b6-46b1-acdf-fe3b3a6371c3",
   "metadata": {},
   "outputs": [],
   "source": []
  }
 ],
 "metadata": {
  "kernelspec": {
   "display_name": "cyclops-KKtuQLwg-py3.9",
   "language": "python",
   "name": "cyclops-kktuqlwg-py3.9"
  },
  "language_info": {
   "codemirror_mode": {
    "name": "ipython",
    "version": 3
   },
   "file_extension": ".py",
   "mimetype": "text/x-python",
   "name": "python",
   "nbconvert_exporter": "python",
   "pygments_lexer": "ipython3",
   "version": "3.9.7"
  }
 },
 "nbformat": 4,
 "nbformat_minor": 5
}
