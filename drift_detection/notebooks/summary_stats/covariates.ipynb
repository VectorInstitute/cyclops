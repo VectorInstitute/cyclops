{
 "cells": [
  {
   "cell_type": "code",
   "execution_count": null,
   "id": "checked-supervisor",
   "metadata": {},
   "outputs": [],
   "source": [
    "# import sys\n",
    "# sys.path.append(\"../..\")\n",
    "import matplotlib.pyplot as plt\n",
    "import numpy as np\n",
    "import pandas as pd\n",
    "from drift_detector.plotter import colorscale\n",
    "from gemini.utils import import_dataset_hospital"
   ]
  },
  {
   "cell_type": "markdown",
   "id": "ef091947-c1b9-4360-a4cf-ded530ac4589",
   "metadata": {},
   "source": [
    "## Functions ##"
   ]
  },
  {
   "cell_type": "code",
   "execution_count": null,
   "id": "brazilian-albany",
   "metadata": {},
   "outputs": [],
   "source": [
    "def summary_stats(X, y, label):\n",
    "    data = pd.concat([X, y], axis=1)\n",
    "    con = data.loc[data[label] == 0].describe()\n",
    "    case = data.loc[data[label] == 1].describe()\n",
    "    stats = pd.concat([con, case], axis=0, keys=[\"controls\", \"cases\"])\n",
    "    return stats.T"
   ]
  },
  {
   "cell_type": "markdown",
   "id": "distributed-psychiatry",
   "metadata": {},
   "source": [
    "###  Load data ###"
   ]
  },
  {
   "cell_type": "code",
   "execution_count": null,
   "id": "applied-identity",
   "metadata": {},
   "outputs": [],
   "source": [
    "LABEL = \"mortality\"\n",
    "\n",
    "HOSPITAL_ID = dict()\n",
    "features = []\n",
    "plot_admin = callable()\n",
    "\n",
    "print(\"Loading data...\")\n",
    "(X_s_tr, y_s_tr), (X_s_val, y_s_val), (X_t, y_t), orig_dims = import_dataset_hospital(\n",
    "    \"los\", [HOSPITAL_ID[\"SMH\"]], [HOSPITAL_ID[\"UHNTG\"]]\n",
    ")\n",
    "X = pd.DataFrame(X_s_tr, columns=features)\n",
    "y = pd.DataFrame(y_s_tr, columns=[LABEL])\n",
    "stats_2019_tr = summary_stats(X, y, LABEL)\n",
    "plot_admin(X, y, LABEL)"
   ]
  },
  {
   "cell_type": "markdown",
   "id": "requested-vanilla",
   "metadata": {},
   "source": [
    "### Define Shift Detector and Parameters ###"
   ]
  },
  {
   "cell_type": "code",
   "execution_count": null,
   "id": "66b1a046-20a3-4723-afff-296837dc05bf",
   "metadata": {},
   "outputs": [],
   "source": [
    "ShiftDetector = callable()\n",
    "\n",
    "sign_level = 0.05\n",
    "dr_technique = \"PCA\"\n",
    "md_test = \"MMD\"\n",
    "red_model = None\n",
    "datset = \"test experiment\"\n",
    "samples = [10, 20, 50, 100, 200, 500, 1000, 2000]\n",
    "sample = samples[5]\n",
    "orig_dims = X_s_tr.shape[1:]\n",
    "print(\"Building shift detector...\")\n",
    "sd = ShiftDetector(dr_technique, md_test, sign_level, red_model, sample, datset)"
   ]
  },
  {
   "cell_type": "markdown",
   "id": "normal-animation",
   "metadata": {},
   "source": [
    "#### Drift from 2019 to 2019 ####"
   ]
  },
  {
   "cell_type": "code",
   "execution_count": null,
   "id": "impossible-tunnel",
   "metadata": {},
   "outputs": [],
   "source": [
    "p_val, dist, red_dim, red_model, t1_acc, t2_acc = sd.detect_data_shift(\n",
    "    X_s_tr, y_s_tr, X_s_tr, y_s_tr, X_s_val[:sample, :], y_s_val[:sample], orig_dims\n",
    ")\n",
    "print(p_val, dist)\n",
    "\n",
    "X = pd.DataFrame(X_s_val, columns=features)\n",
    "y = pd.DataFrame(y_s_val, columns=[LABEL])\n",
    "stats_2019_val = summary_stats(X, y, LABEL)\n",
    "plot_admin(X, y, LABEL)"
   ]
  },
  {
   "cell_type": "markdown",
   "id": "creative-thailand",
   "metadata": {},
   "source": [
    "#### Drift from 2019 to 2020 ####"
   ]
  },
  {
   "cell_type": "code",
   "execution_count": null,
   "id": "patent-ownership",
   "metadata": {},
   "outputs": [],
   "source": [
    "p_val, dist, red_dim, red_model, t1_acc, t2_acc = sd.detect_data_shift(\n",
    "    X_s_tr, y_s_tr, X_s_val, y_s_val, X_t[:sample, :], y_t[:sample], orig_dims\n",
    ")\n",
    "print(p_val, dist)\n",
    "\n",
    "X = pd.DataFrame(X_t, columns=features)\n",
    "y = pd.DataFrame(y_t, columns=[LABEL])\n",
    "stats_2020 = summary_stats(X, y, LABEL)\n",
    "plot_admin(X, y, LABEL)"
   ]
  },
  {
   "cell_type": "code",
   "execution_count": null,
   "id": "original-subscriber",
   "metadata": {},
   "outputs": [],
   "source": [
    "datasets = [\"2019_tr\", \"2019_val\", \"2020\"]\n",
    "stats = pd.concat([stats_2019_tr, stats_2019_val, stats_2020], keys=datasets, axis=1)\n",
    "fig = plt.figure(figsize=(20, 8))\n",
    "brightness = [1.5, 1.25, 1.0, 0.75, 0.5]\n",
    "colors = [\n",
    "    \"#2196f3\",\n",
    "    \"#f44336\",\n",
    "    \"#9c27b0\",\n",
    "    \"#64dd17\",\n",
    "    \"#009688\",\n",
    "    \"#ff9800\",\n",
    "    \"#795548\",\n",
    "    \"#607d8b\",\n",
    "]\n",
    "n = len(datasets)\n",
    "w = 0.3\n",
    "x = np.arange(0, len(stats.index.values[1:]))\n",
    "for i, dataset in enumerate(datasets):\n",
    "    position = x + (w * (1 - n) / 2) + i * w\n",
    "    plt.errorbar(\n",
    "        position,\n",
    "        stats[dataset][\"cases\"][\"mean\"].values[1:],\n",
    "        stats[dataset][\"cases\"][\"std\"].values[1:],\n",
    "        fmt=\"o\",\n",
    "        ecolor=\"red\",\n",
    "        color=colorscale(colors[i], brightness[0]),\n",
    "    )\n",
    "    plt.errorbar(\n",
    "        position + 0.15,\n",
    "        stats[dataset][\"controls\"][\"mean\"].values[1:],\n",
    "        stats[dataset][\"controls\"][\"std\"].values[1:],\n",
    "        fmt=\"o\",\n",
    "        ecolor=\"black\",\n",
    "        color=colorscale(colors[i], brightness[0]),\n",
    "    )\n",
    "    plt.xticks(position - 0.2, stats.index.values[1:])\n",
    "plt.tick_params(rotation=60)\n",
    "plt.show()"
   ]
  },
  {
   "cell_type": "markdown",
   "id": "imperial-clark",
   "metadata": {},
   "source": [
    "#### Knockout Shift ####"
   ]
  },
  {
   "cell_type": "code",
   "execution_count": null,
   "id": "418111e5-e908-40b6-ba44-de81a9f91e76",
   "metadata": {},
   "outputs": [],
   "source": [
    "import_dataset_year = callable()\n",
    "(X_s_tr, y_s_tr), (X_s_val, y_s_val), (X_t, y_t), orig_dims = import_dataset_year(\n",
    "    \"los\", \"2020\"\n",
    ")\n",
    "shift = \"ko_shift_0.5\"\n",
    "apply_shift = callable()\n",
    "X_ko, y_ko = apply_shift(X_s_tr, y_s_tr, X_s_val, y_s_val, shift)\n",
    "p_val, dist, red_dim, red_model, t1_acc, t2_acc = sd.detect_data_shift(\n",
    "    X_s_tr, y_s_tr, X_s_val, y_s_val, X_ko[:sample, :], y_ko[:sample], orig_dims\n",
    ")\n",
    "print(p_val, dist)\n",
    "X = pd.DataFrame(X_ko, columns=features)\n",
    "y = pd.DataFrame(y_ko, columns=[LABEL])\n",
    "stats_ko = summary_stats(X, y, LABEL)\n",
    "plot_admin(X, y, LABEL)"
   ]
  },
  {
   "cell_type": "markdown",
   "id": "attempted-peripheral",
   "metadata": {},
   "source": [
    "#### Small Gaussian Noise Shift ####"
   ]
  },
  {
   "cell_type": "code",
   "execution_count": null,
   "id": "close-clearance",
   "metadata": {},
   "outputs": [],
   "source": [
    "shift = \"small_gn_shift_0.1\"\n",
    "X_sgn, y_sgn = apply_shift(X_s_tr, y_s_tr, X_s_val, y_s_val, shift)\n",
    "p_val, dist, red_dim, red_model, t1_acc, t2_acc = sd.detect_data_shift(\n",
    "    X_s_tr, y_s_tr, X_s_val, y_s_val, X_sgn[:sample, :], y_sgn[:sample], orig_dims\n",
    ")\n",
    "print(p_val, dist)\n",
    "X = pd.DataFrame(X_sgn, columns=features)\n",
    "y = pd.DataFrame(y_sgn, columns=[LABEL])\n",
    "stats_sgn = summary_stats(X, y, LABEL)\n",
    "plot_admin(X, y, LABEL)"
   ]
  },
  {
   "cell_type": "markdown",
   "id": "mediterranean-gallery",
   "metadata": {},
   "source": [
    "#### Large Gaussian Noise Shift ####"
   ]
  },
  {
   "cell_type": "code",
   "execution_count": null,
   "id": "young-translator",
   "metadata": {},
   "outputs": [],
   "source": [
    "shift = \"large_gn_shift_1.0\"\n",
    "X_lgn, y_lgn = apply_shift(X_s_tr, y_s_tr, X_s_val, y_s_val, shift)\n",
    "p_val, dist, red_dim, red_model, t1_acc, t2_acc = sd.detect_data_shift(\n",
    "    X_s_tr, y_s_tr, X_s_val, y_s_val, X_lgn[:sample, :], y_lgn[:sample], orig_dims\n",
    ")\n",
    "print(p_val, dist)\n",
    "X = pd.DataFrame(X_lgn, columns=features)\n",
    "y = pd.DataFrame(y_lgn, columns=[LABEL])\n",
    "stats_lgn = summary_stats(X, y, LABEL)\n",
    "plot_admin(X, y, LABEL)"
   ]
  },
  {
   "cell_type": "markdown",
   "id": "australian-intake",
   "metadata": {},
   "source": [
    "#### Multiway Feature Association Shift ####"
   ]
  },
  {
   "cell_type": "code",
   "execution_count": null,
   "id": "70e786ad-5ed4-4cc4-b9bf-7537ce7ad10d",
   "metadata": {},
   "outputs": [],
   "source": [
    "(X_s_tr, y_s_tr), (X_s_val, y_s_val), (X_t, y_t), orig_dims = import_dataset_year(\n",
    "    \"los\", \"2020\"\n",
    ")\n",
    "shift = \"mfa_shift_0.5\"\n",
    "X_mfa, y_mfa = apply_shift(X_s_tr, y_s_tr, X_s_val, y_s_val, shift)\n",
    "p_val, dist, red_dim, red_model, t1_acc, t2_acc = sd.detect_data_shift(\n",
    "    X_s_tr, y_s_tr, X_s_val, y_s_val, X_mfa[:sample, :], y_mfa[:sample], orig_dims\n",
    ")\n",
    "print(p_val, dist)\n",
    "X = pd.DataFrame(X_mfa, columns=features)\n",
    "y = pd.DataFrame(y_mfa, columns=[LABEL])\n",
    "stats_mfa = summary_stats(X, y, LABEL)\n",
    "plot_admin(X, y, LABEL)"
   ]
  },
  {
   "cell_type": "markdown",
   "id": "legal-stationery",
   "metadata": {},
   "source": [
    "#### Changepoint Shift ####"
   ]
  },
  {
   "cell_type": "code",
   "execution_count": null,
   "id": "66247b6e-2af0-4ba7-b30a-e7d7229f68f4",
   "metadata": {},
   "outputs": [],
   "source": [
    "(X_s_tr, y_s_tr), (X_s_val, y_s_val), (X_t, y_t), orig_dims = import_dataset_year(\n",
    "    \"los\", \"2020\"\n",
    ")\n",
    "shift = \"cp_shift_0.75\"\n",
    "X_cp, y_cp = apply_shift(X_s_tr, y_s_tr, X_s_val, y_s_val, shift)\n",
    "p_val, dist, red_dim, red_model, t1_acc, t2_acc = sd.detect_data_shift(\n",
    "    X_s_tr, y_s_tr, X_s_val, y_s_val, X_cp[:sample, :], y_cp[:sample], orig_dims\n",
    ")\n",
    "print(p_val, dist)\n",
    "X = pd.DataFrame(X_mfa, columns=features)\n",
    "y = pd.DataFrame(y_mfa, columns=[LABEL])\n",
    "stats_cp = summary_stats(X, y, LABEL)\n",
    "plot_admin(X, y, LABEL)"
   ]
  },
  {
   "cell_type": "markdown",
   "id": "frank-green",
   "metadata": {},
   "source": [
    "### Binary ###"
   ]
  },
  {
   "cell_type": "code",
   "execution_count": null,
   "id": "deluxe-blackjack",
   "metadata": {},
   "outputs": [],
   "source": [
    "shift = \"large_bn_shift_1.0\"\n",
    "X_bn, y_bn = apply_shift(X_s_tr, y_s_tr, X_s_val, y_s_val, shift)\n",
    "p_val, dist, red_dim, red_model, t1_acc, t2_acc = sd.detect_data_shift(\n",
    "    X_s_tr, y_s_tr, X_s_val, y_s_val, X_bn[:sample, :], y_bn[:sample], orig_dims\n",
    ")\n",
    "print(p_val, dist)\n",
    "X = pd.DataFrame(X_bn, columns=features)\n",
    "y = pd.DataFrame(y_bn, columns=[LABEL])\n",
    "stats_bn = summary_stats(X, y, LABEL)\n",
    "plot_admin(X, y, LABEL)"
   ]
  },
  {
   "cell_type": "code",
   "execution_count": null,
   "id": "tested-daughter",
   "metadata": {},
   "outputs": [],
   "source": [
    "datasets = [\"2019_val\", \"ko\", \"bn\"]\n",
    "stats = pd.concat([stats_2019_val, stats_ko, stats_bn], keys=datasets, axis=1)\n",
    "fig = plt.figure(figsize=(20, 8))\n",
    "brightness = [1.5, 1.25, 1.0, 0.75, 0.5]\n",
    "colors = [\n",
    "    \"#2196f3\",\n",
    "    \"#f44336\",\n",
    "    \"#9c27b0\",\n",
    "    \"#64dd17\",\n",
    "    \"#009688\",\n",
    "    \"#ff9800\",\n",
    "    \"#795548\",\n",
    "    \"#607d8b\",\n",
    "]\n",
    "n = len(datasets)\n",
    "w = 0.3\n",
    "x = np.arange(0, len(stats.index.values[1:]))\n",
    "for i, dataset in enumerate(datasets):\n",
    "    position = x + (w * (1 - n) / 2) + i * w\n",
    "    plt.errorbar(\n",
    "        position,\n",
    "        stats[dataset][\"cases\"][\"mean\"].values[1:],\n",
    "        stats[dataset][\"cases\"][\"std\"].values[1:],\n",
    "        fmt=\"o\",\n",
    "        ecolor=\"red\",\n",
    "        color=colorscale(colors[i], brightness[0]),\n",
    "    )\n",
    "    plt.errorbar(\n",
    "        position + 0.15,\n",
    "        stats[dataset][\"controls\"][\"mean\"].values[1:],\n",
    "        stats[dataset][\"controls\"][\"std\"].values[1:],\n",
    "        fmt=\"o\",\n",
    "        ecolor=\"black\",\n",
    "        color=colorscale(colors[i], brightness[0]),\n",
    "    )\n",
    "    plt.xticks(position - 0.2, stats.index.values[1:])\n",
    "plt.tick_params(rotation=60)\n",
    "plt.show()"
   ]
  }
 ],
 "metadata": {
  "kernelspec": {
   "display_name": "cyclops-KKtuQLwg-py3.9",
   "language": "python",
   "name": "cyclops-kktuqlwg-py3.9"
  },
  "language_info": {
   "codemirror_mode": {
    "name": "ipython",
    "version": 3
   },
   "file_extension": ".py",
   "mimetype": "text/x-python",
   "name": "python",
   "nbconvert_exporter": "python",
   "pygments_lexer": "ipython3",
   "version": "3.9.7"
  }
 },
 "nbformat": 4,
 "nbformat_minor": 5
}
