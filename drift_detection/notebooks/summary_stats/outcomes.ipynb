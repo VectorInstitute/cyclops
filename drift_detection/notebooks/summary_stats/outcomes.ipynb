{
 "cells": [
  {
   "cell_type": "code",
   "execution_count": null,
   "id": "58553771-65e2-41fb-a663-790a4fb0ed37",
   "metadata": {},
   "outputs": [],
   "source": [
    "import sys\n",
    "import pandas as pd\n",
    "import os\n",
    "import matplotlib as mpl\n",
    "import matplotlib.pyplot as plt\n",
    "import pandas as pd\n",
    "from functools import reduce\n",
    "\n",
    "sys.path.append(\"../..\")\n",
    "\n",
    "from gemini.constants import *\n",
    "from drift_detector.plotter import errorfill, plot_roc, plot_pr, linestyles, markers, colors, brightness, colorscale\n",
    "from gemini.utils import run_shift_experiment, get_gemini_data, import_dataset_hospital, get_dataset_hospital, reshape_inputs"
   ]
  },
  {
   "cell_type": "markdown",
   "id": "orange-fraction",
   "metadata": {},
   "source": [
    "### Load data ###"
   ]
  },
  {
   "cell_type": "code",
   "execution_count": null,
   "id": "divided-lodge",
   "metadata": {},
   "outputs": [],
   "source": [
    "data = pd.read_csv(\"/mnt/nfs/project/delirium/data/data_2020.csv\")\n",
    "data = data.loc[data[\"hospital_id\"].isin([3])]"
   ]
  },
  {
   "cell_type": "markdown",
   "id": "reflected-summer",
   "metadata": {},
   "source": [
    "### Plot Outcomes ###"
   ]
  },
  {
   "cell_type": "code",
   "execution_count": null,
   "id": "happy-programmer",
   "metadata": {},
   "outputs": [],
   "source": [
    "fig, ax = plt.subplots(figsize=(14, 4))\n",
    "plt.hist(data[\"los\"] - 0.08, bins=50, alpha=0.5, width=0.04, label=\"los\")\n",
    "plt.hist(data[\"palliative\"] - 0.04, bins=50, alpha=0.5, width=0.04, label=\"palliative\")\n",
    "plt.hist(data[\"mort_hosp\"], bins=50, alpha=0.5, width=0.04, label=\"mort_hosp\")\n",
    "plt.hist(\n",
    "    data[\"readmission_7\"] + 0.04, bins=50, alpha=0.5, width=0.04, label=\"readmission_7\"\n",
    ")\n",
    "plt.hist(\n",
    "    data[\"readmission_28\"] + 0.08,\n",
    "    bins=50,\n",
    "    alpha=0.5,\n",
    "    width=0.04,\n",
    "    label=\"readmission_28\",\n",
    ")\n",
    "fig.legend(loc=\"upper right\")\n",
    "plt.show()"
   ]
  },
  {
   "cell_type": "markdown",
   "id": "precious-measure",
   "metadata": {},
   "source": [
    "### ER LOS ###"
   ]
  },
  {
   "cell_type": "code",
   "execution_count": null,
   "id": "coated-diameter",
   "metadata": {},
   "outputs": [],
   "source": [
    "fig, ax = plt.subplots(figsize=(14, 4))\n",
    "plt.hist(data[\"los_er\"], bins=50, alpha=0.5, label=\"los_er\")\n",
    "fig.legend(loc=\"upper right\")\n",
    "plt.show()"
   ]
  },
  {
   "cell_type": "markdown",
   "id": "painted-equivalent",
   "metadata": {},
   "source": [
    "### Triage Level ###"
   ]
  },
  {
   "cell_type": "code",
   "execution_count": null,
   "id": "hungarian-reflection",
   "metadata": {},
   "outputs": [],
   "source": [
    "fig, ax = plt.subplots(figsize=(14, 4))\n",
    "plt.hist(\n",
    "    data[\"triage_level\"].astype(str),\n",
    "    bins=50,\n",
    "    alpha=0.5,\n",
    "    width=0.4,\n",
    "    label=\"triage_level\",\n",
    ")\n",
    "fig.legend(loc=\"upper right\")\n",
    "plt.show()"
   ]
  },
  {
   "cell_type": "markdown",
   "id": "individual-surveillance",
   "metadata": {},
   "source": [
    "### ICD Codes ###"
   ]
  },
  {
   "cell_type": "code",
   "execution_count": null,
   "id": "ruled-pontiac",
   "metadata": {},
   "outputs": [],
   "source": [
    "fig, ax = plt.subplots(figsize=(14, 6))\n",
    "ICDS = [\n",
    "    \"icd10_C00_D49\",\n",
    "    \"icd10_D50_D89\",\n",
    "    \"icd10_E00_E89\",\n",
    "    \"icd10_F01_F99\",\n",
    "    \"icd10_G00_G99\",\n",
    "    \"icd10_H00_H59\",\n",
    "    \"icd10_H60_H95\",\n",
    "    \"icd10_I00_I99\",\n",
    "    \"icd10_J00_J99\",\n",
    "    \"icd10_K00_K95\",\n",
    "    \"icd10_L00_L99\",\n",
    "    \"icd10_M00_M99\",\n",
    "    \"icd10_N00_N99\",\n",
    "    \"icd10_O00_O99\",\n",
    "    \"icd10_Q00_Q99\",\n",
    "    \"icd10_R00_R99\",\n",
    "    \"icd10_S00_T88\",\n",
    "    \"icd10_U07_U08\",\n",
    "    \"icd10_Z00_Z99\",\n",
    "    \"icd10_nan\",\n",
    "]\n",
    "n = len(ICDS)\n",
    "w = 0.04\n",
    "x = np.arange(0, len([0, 1]))\n",
    "for i, icd in enumerate(ICDS):\n",
    "    icd_counts = list(data[icd].value_counts())\n",
    "    if len(icd_counts) == 1:\n",
    "        icd_counts.append(0)\n",
    "    position = x + (w * (1 - n) / 2) + i * w\n",
    "    plt.bar(position, icd_counts, width=w, alpha=0.5, label=icd)\n",
    "fig.legend(loc=\"upper right\")\n",
    "plt.show()"
   ]
  },
  {
   "cell_type": "markdown",
   "id": "saving-motorcycle",
   "metadata": {},
   "source": [
    "### Query Admin/Diagnosis Data ###"
   ]
  },
  {
   "cell_type": "code",
   "execution_count": null,
   "id": "banned-saturday",
   "metadata": {},
   "outputs": [],
   "source": [
    "cfg = config.read_config(\"../../configs/default/*.yaml\")\n",
    "db = Database(cfg)\n",
    "\n",
    "\n",
    "def query_admin_diagnosis(db, years, hospitals):\n",
    "    query = (\n",
    "        select(\n",
    "            db.public.ip_administrative.data,\n",
    "            db.public.diagnosis.data,\n",
    "            db.public.er_administrative.data,\n",
    "        )\n",
    "        .where(\n",
    "            and_(\n",
    "                db.public.ip_administrative.hospital_id.in_(hospitals),\n",
    "                extract(\"year\", db.public.ip_administrative.admit_date_time).in_(years),\n",
    "            )\n",
    "        )\n",
    "        .join(\n",
    "            db.public.diagnosis.data,\n",
    "            db.public.ip_administrative.genc_id == db.public.diagnosis.genc_id,\n",
    "        )\n",
    "        .join(\n",
    "            db.public.er_administrative.data,\n",
    "            db.public.er_administrative.genc_id == db.public.diagnosis.genc_id,\n",
    "        )\n",
    "    )\n",
    "\n",
    "    data = db.run_query(query)\n",
    "\n",
    "    ## gemini variables\n",
    "    data[\"is_er_diagnosis\"] = np.where(data[\"is_er_diagnosis\"] == True, 1, 0)\n",
    "\n",
    "    ## bret's groupings\n",
    "    data[\"dd_discharge\"] = np.where(\n",
    "        data[\"discharge_disposition\"].isin([4, 5.0, 30, 40, 90]), 1, 0\n",
    "    )\n",
    "    data[\"dd_acute\"] = np.where(\n",
    "        data[\"discharge_disposition\"].isin([1]), 1, 0\n",
    "    )  ## Don't use\n",
    "    data[\"dd_mortality\"] = np.where(\n",
    "        data[\"discharge_disposition\"].isin([7, 66, 72, 73]), 1, 0\n",
    "    )\n",
    "    data[\"dd_transfer\"] = np.where(\n",
    "        data[\"discharge_disposition\"].isin([2, 3, 10, 20]), 1, 0\n",
    "    )\n",
    "    data[\"dd_leave_ama\"] = np.where(\n",
    "        data[\"discharge_disposition\"].isin([6, 12, 61, 62, 65]), 1, 0\n",
    "    )\n",
    "    data[\"dd_suicide\"] = np.where(data[\"discharge_disposition\"].isin([67, 74]), 1, 0)\n",
    "\n",
    "    ## lookbook groupings\n",
    "\n",
    "    data[\"lb_home\"] = np.where(data[\"discharge_disposition\"].isin([4, 5, 6, 12]), 1, 0)\n",
    "    data[\"lb_lama\"] = np.where(\n",
    "        data[\"discharge_disposition\"].isin([61, 62, 65, 67]), 1, 0\n",
    "    )\n",
    "    data[\"lb_transfer\"] = np.where(\n",
    "        data[\"discharge_disposition\"].isin([20, 30, 40, 90]), 1, 0\n",
    "    )\n",
    "    data[\"lb_died\"] = np.where(\n",
    "        data[\"discharge_disposition\"].isin([7, 72, 73, 74]), 1, 0\n",
    "    )\n",
    "    data[\"lb_acute\"] = np.where(data[\"discharge_disposition\"].isin([1, 10]), 1, 0)\n",
    "    data[\"lb_other\"] = np.where(data[\"discharge_disposition\"].isin([2, 3, 8, 9]), 1, 0)\n",
    "\n",
    "\n",
    "    ## readmission\n",
    "\n",
    "    data[\"planned_acute\"] = np.where(data[\"readmission\"] == \"1\", 1, 0)\n",
    "    data[\"unplanned_readmission_7_acute\"] = np.where(data[\"readmission\"] == \"2\", 1, 0)\n",
    "    data[\"unplanned_readmission_28_acute\"] = np.where(data[\"readmission\"] == \"3\", 1, 0)\n",
    "    data[\"unplanned_readmission_7_surgery\"] = np.where(data[\"readmission\"] == \"4\", 1, 0)\n",
    "    data[\"new_acute\"] = np.where(data[\"readmission\"] == \"5\", 1, 0)\n",
    "    data[\"none\"] = np.where(data[\"readmission\"] == \"9\", 1, 0)\n",
    "\n",
    "    ## los\n",
    "    data[\"los_3\"] = np.where(data[\"los_derived\"] > 3, 1, 0)\n",
    "    data[\"los_14\"] = np.where(data[\"los_derived\"] > 14, 1, 0)\n",
    "    data[\"los_30\"] = np.where(data[\"los_derived\"] > 30, 1, 0)\n",
    "    data[\"los_60\"] = np.where(data[\"los_derived\"] > 60, 1, 0)\n",
    "\n",
    "    ## los er\n",
    "    data[\"los_er_7\"] = np.where(data[\"duration_er_stay_derived\"] > 7, 1, 0)\n",
    "    data[\"los_er_14\"] = np.where(data[\"duration_er_stay_derived\"] > 14, 1, 0)\n",
    "    data[\"los_er_30\"] = np.where(data[\"duration_er_stay_derived\"] > 30, 1, 0)\n",
    "\n",
    "    ## triage level\n",
    "    data[\"resuscitation\"] = np.where(data[\"triage_level\"].isin([\"1\", \"L1\"]), 1, 0)\n",
    "    data[\"emergent\"] = np.where(data[\"triage_level\"].isin([\"2\", \"L2\"]), 1, 0)\n",
    "    data[\"urgent\"] = np.where(data[\"triage_level\"].isin([\"3\", \"L3\"]), 1, 0)\n",
    "    data[\"less_urgent\"] = np.where(data[\"triage_level\"].isin([\"4\", \"L4\"]), 1, 0)\n",
    "    data[\"non_urgent\"] = np.where(data[\"triage_level\"].isin([\"5\"]), 1, 0)\n",
    "    data[\"unknown\"] = np.where(data[\"triage_level\"].isin([\"9\"]), 1, 0)\n",
    "\n",
    "    ## city\n",
    "    data[\"toronto\"] = np.where(data[\"city\"].isin([\"TORONTO\", \"toronto\"]), 1, 0)\n",
    "\n",
    "    ## covid\n",
    "    data[\"covid_confirmed\"] = np.where(data[\"diagnosis_code\"] == \"U071\", 1, 0)\n",
    "    data[\"covid_suspected\"] = np.where(data[\"diagnosis_code\"] == \"U072\", 1, 0)\n",
    "\n",
    "    print(f\"{len(data)} rows fetched!\")\n",
    "    return data\n",
    "\n",
    "\n",
    "def plot_outcome_overtime(hosp, outcome):\n",
    "\n",
    "    hosp_pos = hosp.loc[hosp[outcome] == 1]\n",
    "    hosp_pos_counts = (\n",
    "        hosp_pos.groupby([hosp_pos[\"admit_date_time\"].dt.to_period(\"m\")], sort=True)\n",
    "        .count()\n",
    "        .eval(outcome)\n",
    "    )\n",
    "\n",
    "    hosp_counts = (\n",
    "        hosp.groupby([hosp[\"admit_date_time\"].dt.to_period(\"m\")], sort=True)\n",
    "        .count()\n",
    "        .eval(outcome)\n",
    "    )\n",
    "\n",
    "    # ind = np.arange(N)\n",
    "    fig, ax = plt.subplots(figsize=(14, 4))\n",
    "    plt.bar(\n",
    "        hosp_counts.index.values.astype(str),\n",
    "        hosp_pos_counts / hosp_counts,\n",
    "        alpha=0.5,\n",
    "        width=0.4,\n",
    "        color=\"g\",\n",
    "        label=\"patients with outcome/total patients\",\n",
    "    )\n",
    "    fig.legend(loc=\"upper right\")\n",
    "    plt.xticks(rotation=45)\n",
    "    plt.show()"
   ]
  },
  {
   "cell_type": "code",
   "execution_count": null,
   "id": "substantial-usage",
   "metadata": {},
   "outputs": [],
   "source": [
    "YEARS = [\"2018\", \"2019\", \"2020\"]\n",
    "# HOSPITALS = SBK #THPC #MSH  #UHNTG  #UHNTW #SMH\n",
    "HOSPITALS = [\"SMH\"]\n",
    "\n",
    "### COVID ###\n",
    "\n",
    "### DECREASES\n",
    "# smh: acute + transfers + los_er_14 decreases, march = min home\n",
    "# uhntw: acute + mortality + unplanned_readmission_7_acute + los_er_14 decreases, march = min home\n",
    "# uhntg: slight er + transfer + mortality decreases\n",
    "# msh: er + lama +acute + mortality + transfer decreases\n",
    "# thpc: er + acute + mortality + transfers + planned_acute + unplanned_readmission_28_acute decreases\n",
    "# thpm: acute +  morality + transfers decreases\n",
    "# sbk: mortality +transfers + planned accute decreases\n",
    "\n",
    "### INCREASES\n",
    "# smh: lama increases, march = max mortality\n",
    "# uhntw: lama increases, march = max mortality, from_nursing_home_mapped\n",
    "# uhntg: march = very high planned_acute\n",
    "# msh: discharge + home increases\n",
    "# thpc: lama + home increases\n",
    "# thpm: lama + home + unplanned_readmission_7_acute increases\n",
    "# sbk: er + lama + unplanned_readmission_7_acute increases\n",
    "\n",
    "HOSP = query_admin_diagnosis(db, YEARS, HOSPITALS)"
   ]
  },
  {
   "cell_type": "markdown",
   "id": "cordless-console",
   "metadata": {},
   "source": [
    "# IR Administrative #"
   ]
  },
  {
   "cell_type": "markdown",
   "id": "julian-roads",
   "metadata": {},
   "source": [
    "### City ###"
   ]
  },
  {
   "cell_type": "code",
   "execution_count": null,
   "id": "welcome-tracker",
   "metadata": {},
   "outputs": [],
   "source": [
    "fig, ax = plt.subplots(figsize=(20, 8))\n",
    "plt.bar(\n",
    "    list(HOSP[\"city\"].unique()[1:30]),\n",
    "    list(HOSP[\"city\"].value_counts()[1:30]),\n",
    "    alpha=0.5,\n",
    "    label=\"city\",\n",
    ")\n",
    "fig.legend(loc=\"upper right\")\n",
    "plt.xticks(rotation=45)\n",
    "plt.show()"
   ]
  },
  {
   "cell_type": "code",
   "execution_count": null,
   "id": "disturbed-district",
   "metadata": {},
   "outputs": [],
   "source": [
    "plot_outcome_overtime(HOSP, \"toronto\")"
   ]
  },
  {
   "cell_type": "markdown",
   "id": "light-pickup",
   "metadata": {},
   "source": [
    "### ER Diagnosis ### "
   ]
  },
  {
   "cell_type": "code",
   "execution_count": null,
   "id": "objective-composite",
   "metadata": {},
   "outputs": [],
   "source": [
    "plot_outcome_overtime(HOSP, \"is_er_diagnosis\")"
   ]
  },
  {
   "cell_type": "markdown",
   "id": "excessive-thomas",
   "metadata": {},
   "source": [
    "### From Nursing Home Mapped ### "
   ]
  },
  {
   "cell_type": "code",
   "execution_count": null,
   "id": "beneficial-taxation",
   "metadata": {},
   "outputs": [],
   "source": [
    "plot_outcome_overtime(HOSP, \"from_nursing_home_mapped\")"
   ]
  },
  {
   "cell_type": "markdown",
   "id": "stable-somewhere",
   "metadata": {},
   "source": [
    "### From Acute Care Institution Mapped ### "
   ]
  },
  {
   "cell_type": "code",
   "execution_count": null,
   "id": "hydraulic-indonesia",
   "metadata": {},
   "outputs": [],
   "source": [
    "plot_outcome_overtime(HOSP, \"from_acute_care_institution_mapped\")"
   ]
  },
  {
   "cell_type": "markdown",
   "id": "proved-humanitarian",
   "metadata": {},
   "source": [
    "## Discharge Disposition ##"
   ]
  },
  {
   "cell_type": "code",
   "execution_count": null,
   "id": "sapphire-marine",
   "metadata": {},
   "outputs": [],
   "source": [
    "# Discharge disposition codes on GEMINI\n",
    "# Bret's groupings:\n",
    "# discharge: [4,5,30, 40, 90]\n",
    "# acute: [1]\n",
    "# mortality: [7, 66, 72, 73]\n",
    "# transfer:  [2, 3, 10, 20]\n",
    "# Leave AMA: [6, 12, 61, 62, 65]\n",
    "# suicide: [67, 74]\n",
    "# ignored: [8, 9]\n",
    "# remaining: [66, 73]\n",
    "\n",
    "DISCHARGE_DISPOSITION_MAP = {\n",
    "    1: \"Transferred to acute care inpatient institution\",\n",
    "    2: \"Transferred to continuing care\",\n",
    "    3: \"Transferred to other\",\n",
    "    4: \"Discharged to home or a home setting with support services\",\n",
    "    5: \"Discharged home with no support services from an external agency required\",\n",
    "    6: \"Signed out\",\n",
    "    7: \"Died\",\n",
    "    8: \"Cadaveric donor admitted for organ/tissue removal\",\n",
    "    9: \"Stillbirth\",\n",
    "    10: \"Transfer to another hospital\",\n",
    "    12: \"Patient who does not return from a pass\",\n",
    "    20: \"Transfer to another ED\",\n",
    "    30: \"Transfer to residential care\",  # Transfer to long-term care home (24-hour nursing), mental health and/or addiction treatment centreor hospice/palliative care facility\n",
    "    40: \"Transfer to group/supportive living\",  # Transfer to assisted living/supportive housing or transitional housing, including shelters; thesesettings do not have 24-hour nursing care.\n",
    "    61: \"Absent without leave AWOL\",\n",
    "    62: \"AMA\",\n",
    "    65: \"Did not return from pass/leave\",\n",
    "    66: \"Died while on pass leave\",\n",
    "    67: \"Suicide out of facility\",\n",
    "    72: \"Died in facility\",\n",
    "    73: \"MAID\",\n",
    "    74: \"Suicide\",\n",
    "    90: \"Transfer to correctional\",\n",
    "}\n",
    "\n",
    "ip_admin_lookup_query = select(\n",
    "    db.public.lookup_ip_administrative.variable,\n",
    "    db.public.lookup_ip_administrative.value,\n",
    "    db.public.lookup_ip_administrative.description,\n",
    ").subquery()\n",
    "admin_lookup_data = db.run_query(ip_admin_lookup_query)\n",
    "discharge_codes = admin_lookup_data.loc[\n",
    "    admin_lookup_data[\"variable\"] == \"discharge_disposition\"\n",
    "]\n",
    "print(discharge_codes)\n"
   ]
  },
  {
   "cell_type": "markdown",
   "id": "personalized-focus",
   "metadata": {},
   "source": [
    "### Leave AMA ### "
   ]
  },
  {
   "cell_type": "code",
   "execution_count": null,
   "id": "black-colony",
   "metadata": {},
   "outputs": [],
   "source": [
    "plot_outcome_overtime(HOSP, \"dd_leave_ama\")"
   ]
  },
  {
   "cell_type": "code",
   "execution_count": null,
   "id": "efficient-dealing",
   "metadata": {},
   "outputs": [],
   "source": [
    "plot_outcome_overtime(HOSP, \"lb_lama\")"
   ]
  },
  {
   "cell_type": "markdown",
   "id": "veterinary-hearts",
   "metadata": {},
   "source": [
    "### Discharge ### "
   ]
  },
  {
   "cell_type": "code",
   "execution_count": null,
   "id": "spoken-series",
   "metadata": {},
   "outputs": [],
   "source": [
    "plot_outcome_overtime(HOSP, \"dd_discharge\")"
   ]
  },
  {
   "cell_type": "markdown",
   "id": "cheap-refund",
   "metadata": {},
   "source": [
    "### Acute  ###"
   ]
  },
  {
   "cell_type": "code",
   "execution_count": null,
   "id": "stone-charge",
   "metadata": {},
   "outputs": [],
   "source": [
    "plot_outcome_overtime(HOSP, \"dd_acute\")"
   ]
  },
  {
   "cell_type": "code",
   "execution_count": null,
   "id": "convinced-function",
   "metadata": {},
   "outputs": [],
   "source": [
    "plot_outcome_overtime(HOSP, \"lb_acute\")"
   ]
  },
  {
   "cell_type": "markdown",
   "id": "psychological-optics",
   "metadata": {},
   "source": [
    "### Mortality ###"
   ]
  },
  {
   "cell_type": "code",
   "execution_count": null,
   "id": "hourly-choir",
   "metadata": {},
   "outputs": [],
   "source": [
    "plot_outcome_overtime(HOSP, \"dd_mortality\")"
   ]
  },
  {
   "cell_type": "code",
   "execution_count": null,
   "id": "comparable-adjustment",
   "metadata": {},
   "outputs": [],
   "source": [
    "plot_outcome_overtime(HOSP, \"lb_died\")"
   ]
  },
  {
   "cell_type": "markdown",
   "id": "jewish-flashing",
   "metadata": {},
   "source": [
    "###  Transfer ###"
   ]
  },
  {
   "cell_type": "code",
   "execution_count": null,
   "id": "illegal-questionnaire",
   "metadata": {},
   "outputs": [],
   "source": [
    "plot_outcome_overtime(HOSP, \"dd_transfer\")"
   ]
  },
  {
   "cell_type": "code",
   "execution_count": null,
   "id": "documentary-portal",
   "metadata": {},
   "outputs": [],
   "source": [
    "plot_outcome_overtime(HOSP, \"lb_transfer\")"
   ]
  },
  {
   "cell_type": "markdown",
   "id": "binary-variety",
   "metadata": {},
   "source": [
    "### Home ###"
   ]
  },
  {
   "cell_type": "code",
   "execution_count": null,
   "id": "presidential-mandate",
   "metadata": {},
   "outputs": [],
   "source": [
    "plot_outcome_overtime(HOSP, \"lb_home\")"
   ]
  },
  {
   "cell_type": "markdown",
   "id": "classified-latin",
   "metadata": {},
   "source": [
    "### Other ###"
   ]
  },
  {
   "cell_type": "code",
   "execution_count": null,
   "id": "pressed-holly",
   "metadata": {},
   "outputs": [],
   "source": [
    "plot_outcome_overtime(HOSP, \"lb_other\")"
   ]
  },
  {
   "cell_type": "markdown",
   "id": "willing-village",
   "metadata": {},
   "source": [
    "## Readmissions ##"
   ]
  },
  {
   "cell_type": "code",
   "execution_count": null,
   "id": "embedded-candidate",
   "metadata": {},
   "outputs": [],
   "source": [
    "readmission_codes = admin_lookup_data.loc[\n",
    "    admin_lookup_data[\"variable\"] == \"readmission\"\n",
    "]\n",
    "print(HOSP.readmission.unique())\n",
    "pd.options.display.max_colwidth = 100\n",
    "print(readmission_codes)\n",
    "\n",
    "## CASE when NULLIF(REPLACE(REPLACE(i.readmission, 'Yes', '9'), 'No', '5'), '')::numeric::integer = 2 or  NULLIF(REPLACE(REPLACE(i.readmission, 'Yes', '9'), 'No', '5'), '')::numeric::integer = 4  THEN 1 ELSE 0 END AS readmission_7,\n",
    "## CASE when NULLIF(REPLACE(REPLACE(i.readmission, 'Yes', '9'), 'No', '5'), '')::numeric::integer = 2 or  NULLIF(REPLACE(REPLACE(i.readmission, 'Yes', '9'), 'No', '5'), '')::numeric::integer = 3 or  NULLIF(REPLACE(REPLACE(i.readmission, 'Yes', '9'), 'No', '5'), '')::numeric::integer = 4  THEN 1 ELSE 0 END AS readmission_28,\n",
    "## CASE when g.pal =1 THEN 1 ELSE 0 END AS palliative,"
   ]
  },
  {
   "cell_type": "markdown",
   "id": "american-notion",
   "metadata": {},
   "source": [
    "### Planned Acute ###"
   ]
  },
  {
   "cell_type": "code",
   "execution_count": null,
   "id": "certified-panic",
   "metadata": {},
   "outputs": [],
   "source": [
    "plot_outcome_overtime(HOSP, \"planned_acute\")"
   ]
  },
  {
   "cell_type": "markdown",
   "id": "nutritional-aggregate",
   "metadata": {},
   "source": [
    "### Unplanned Readmission 7 Days Following Acute ###"
   ]
  },
  {
   "cell_type": "code",
   "execution_count": null,
   "id": "assured-genesis",
   "metadata": {},
   "outputs": [],
   "source": [
    "plot_outcome_overtime(HOSP, \"unplanned_readmission_7_acute\")"
   ]
  },
  {
   "cell_type": "markdown",
   "id": "loved-anatomy",
   "metadata": {},
   "source": [
    "### Unplanned Readmission 28 Days Following Acute ###"
   ]
  },
  {
   "cell_type": "code",
   "execution_count": null,
   "id": "rental-terrorism",
   "metadata": {},
   "outputs": [],
   "source": [
    "plot_outcome_overtime(HOSP, \"unplanned_readmission_28_acute\")"
   ]
  },
  {
   "cell_type": "markdown",
   "id": "dimensional-logging",
   "metadata": {},
   "source": [
    "### Unplanned Readmission 7 Days Following Surgery ###"
   ]
  },
  {
   "cell_type": "code",
   "execution_count": null,
   "id": "subtle-disposition",
   "metadata": {},
   "outputs": [],
   "source": [
    "plot_outcome_overtime(HOSP, \"unplanned_readmission_7_surgery\")"
   ]
  },
  {
   "cell_type": "markdown",
   "id": "settled-avatar",
   "metadata": {},
   "source": [
    "### New Acute ###"
   ]
  },
  {
   "cell_type": "code",
   "execution_count": null,
   "id": "apparent-bread",
   "metadata": {},
   "outputs": [],
   "source": [
    "plot_outcome_overtime(HOSP, \"new_acute\")"
   ]
  },
  {
   "cell_type": "code",
   "execution_count": null,
   "id": "satisfied-liquid",
   "metadata": {},
   "outputs": [],
   "source": [
    "plot_outcome_overtime(HOSP, \"none\")"
   ]
  },
  {
   "cell_type": "markdown",
   "id": "inclusive-independence",
   "metadata": {},
   "source": [
    "## Length of Stay ##"
   ]
  },
  {
   "cell_type": "code",
   "execution_count": null,
   "id": "sought-publication",
   "metadata": {},
   "outputs": [],
   "source": [
    "HOSP = HOSP.loc[HOSP[\"los_derived\"] < 100]\n",
    "fig, ax = plt.subplots(figsize=(14, 4))\n",
    "plt.hist(HOSP[\"los_derived\"], bins=200, alpha=0.5, label=\"los_derived\")\n",
    "fig.legend(loc=\"upper right\")\n",
    "plt.show()"
   ]
  },
  {
   "cell_type": "code",
   "execution_count": null,
   "id": "first-pointer",
   "metadata": {},
   "outputs": [],
   "source": [
    "plot_outcome_overtime(HOSP, \"los_3\")"
   ]
  },
  {
   "cell_type": "code",
   "execution_count": null,
   "id": "expected-track",
   "metadata": {},
   "outputs": [],
   "source": [
    "plot_outcome_overtime(HOSP, \"los_14\")"
   ]
  },
  {
   "cell_type": "code",
   "execution_count": null,
   "id": "invisible-profession",
   "metadata": {},
   "outputs": [],
   "source": [
    "plot_outcome_overtime(HOSP, \"los_30\")"
   ]
  },
  {
   "cell_type": "code",
   "execution_count": null,
   "id": "processed-joint",
   "metadata": {},
   "outputs": [],
   "source": [
    "plot_outcome_overtime(HOSP, \"los_60\")"
   ]
  },
  {
   "cell_type": "markdown",
   "id": "ultimate-defendant",
   "metadata": {},
   "source": [
    "# Diagnosis # "
   ]
  },
  {
   "cell_type": "code",
   "execution_count": null,
   "id": "radio-reward",
   "metadata": {},
   "outputs": [],
   "source": [
    "# Diagnosis lookup table on GEMINI\n",
    "lookup_query = select(\n",
    "    db.public.lookup_diagnosis.variable,\n",
    "    db.public.lookup_diagnosis.value,\n",
    "    db.public.lookup_diagnosis.description,\n",
    ").subquery()\n",
    "diagnosis_lookup_data = db.run_query(lookup_query)\n",
    "print(diagnosis_lookup_data)\n",
    "diagnosis_lookup_data_dict = diagnosis_lookup_data[[\"value\", \"description\"]].to_dict()\n",
    "diagnosis_type_map = {}\n",
    "for key, diagnosis_type in diagnosis_lookup_data_dict[\"value\"].items():\n",
    "    diagnosis_type_map[diagnosis_type] = diagnosis_lookup_data_dict[\"description\"][key]"
   ]
  },
  {
   "cell_type": "code",
   "execution_count": null,
   "id": "pacific-rings",
   "metadata": {},
   "outputs": [],
   "source": [
    "HOSP = query_admin_diagnosis(db, YEARS, HOSPITALS)\n",
    "HOSP[\"diagnosis_type\"] = HOSP[\"diagnosis_type\"].map(diagnosis_type_map).astype(str)\n",
    "fig, ax = plt.subplots(figsize=(14, 4))\n",
    "plt.bar(\n",
    "    list(HOSP[\"diagnosis_type\"].unique()),\n",
    "    HOSP[\"diagnosis_type\"].value_counts(),\n",
    "    alpha=0.5,\n",
    "    width=0.4,\n",
    "    label=\"diagnosis_type\",\n",
    ")\n",
    "fig.legend(loc=\"upper right\")\n",
    "plt.xticks(rotation=45)\n",
    "plt.show()"
   ]
  },
  {
   "cell_type": "code",
   "execution_count": null,
   "id": "twelve-strike",
   "metadata": {},
   "outputs": [],
   "source": [
    "plot_outcome_overtime(HOSP, \"covid_confirmed\")"
   ]
  },
  {
   "cell_type": "code",
   "execution_count": null,
   "id": "consistent-virtue",
   "metadata": {},
   "outputs": [],
   "source": [
    "plot_outcome_overtime(HOSP, \"covid_suspected\")"
   ]
  },
  {
   "cell_type": "markdown",
   "id": "positive-child",
   "metadata": {},
   "source": [
    "# ER Admin #"
   ]
  },
  {
   "cell_type": "code",
   "execution_count": null,
   "id": "boxed-viking",
   "metadata": {},
   "outputs": [],
   "source": [
    "# Diagnosis lookup table on GEMINI\n",
    "lookup_query = select(\n",
    "    db.public.lookup_er_administrative.variable,\n",
    "    db.public.lookup_er_administrative.value,\n",
    "    db.public.lookup_er_administrative.description,\n",
    ").subquery()\n",
    "er_admin_lookup_data = db.run_query(lookup_query)\n",
    "print(er_admin_lookup_data)\n",
    "er_admin_lookup_data_dict = er_admin_lookup_data[[\"value\", \"description\"]].to_dict()\n",
    "er_admin_type_map = {}\n",
    "for key, er_admin_type in er_admin_lookup_data_dict[\"value\"].items():\n",
    "    er_admin_type_map[er_admin_type] = er_admin_lookup_data_dict[\"description\"][key]"
   ]
  },
  {
   "cell_type": "markdown",
   "id": "arranged-patch",
   "metadata": {},
   "source": [
    "### Triage Level ###"
   ]
  },
  {
   "cell_type": "code",
   "execution_count": null,
   "id": "elect-warrior",
   "metadata": {},
   "outputs": [],
   "source": [
    "HOSP = query_admin_diagnosis(\n",
    "    db, YEARS, [\"UHNTG\"]\n",
    ")  # HOSPITALS = SBK #THPC #MSH  #UHNTG  #UHNTW #SMH\n",
    "fig, ax = plt.subplots(figsize=(14, 4))\n",
    "plt.hist(\n",
    "    HOSP[\"triage_level\"].astype(str),\n",
    "    bins=50,\n",
    "    alpha=0.5,\n",
    "    width=0.4,\n",
    "    label=\"triage_level\",\n",
    ")\n",
    "fig.legend(loc=\"upper right\")\n",
    "plt.show()"
   ]
  },
  {
   "cell_type": "code",
   "execution_count": null,
   "id": "adopted-bulgarian",
   "metadata": {},
   "outputs": [],
   "source": [
    "plot_outcome_overtime(HOSP, \"resuscitation\")"
   ]
  },
  {
   "cell_type": "code",
   "execution_count": null,
   "id": "awful-tension",
   "metadata": {},
   "outputs": [],
   "source": [
    "plot_outcome_overtime(HOSP, \"emergent\")"
   ]
  },
  {
   "cell_type": "code",
   "execution_count": null,
   "id": "billion-segment",
   "metadata": {},
   "outputs": [],
   "source": [
    "plot_outcome_overtime(HOSP, \"urgent\")"
   ]
  },
  {
   "cell_type": "code",
   "execution_count": null,
   "id": "written-caribbean",
   "metadata": {},
   "outputs": [],
   "source": [
    "plot_outcome_overtime(HOSP, \"less_urgent\")"
   ]
  },
  {
   "cell_type": "code",
   "execution_count": null,
   "id": "quality-swiss",
   "metadata": {},
   "outputs": [],
   "source": [
    "plot_outcome_overtime(HOSP, \"non_urgent\")"
   ]
  },
  {
   "cell_type": "code",
   "execution_count": null,
   "id": "floating-tolerance",
   "metadata": {},
   "outputs": [],
   "source": [
    "plot_outcome_overtime(HOSP, \"unknown\")"
   ]
  },
  {
   "cell_type": "markdown",
   "id": "listed-parts",
   "metadata": {},
   "source": [
    "## duration_er_stay_derived ##"
   ]
  },
  {
   "cell_type": "code",
   "execution_count": null,
   "id": "meaningful-narrative",
   "metadata": {},
   "outputs": [],
   "source": [
    "HOSP = HOSP.loc[HOSP[\"duration_er_stay_derived\"] < 100]\n",
    "fig, ax = plt.subplots(figsize=(14, 4))\n",
    "plt.hist(\n",
    "    HOSP[\"duration_er_stay_derived\"],\n",
    "    bins=200,\n",
    "    alpha=0.5,\n",
    "    label=\"duration_er_stay_derived\",\n",
    ")\n",
    "fig.legend(loc=\"upper right\")\n",
    "plt.show()"
   ]
  },
  {
   "cell_type": "code",
   "execution_count": null,
   "id": "enclosed-actor",
   "metadata": {},
   "outputs": [],
   "source": [
    "plot_outcome_overtime(HOSP, \"los_er_7\")"
   ]
  },
  {
   "cell_type": "code",
   "execution_count": null,
   "id": "terminal-purchase",
   "metadata": {},
   "outputs": [],
   "source": [
    "plot_outcome_overtime(HOSP, \"los_er_14\")"
   ]
  },
  {
   "cell_type": "code",
   "execution_count": null,
   "id": "informational-episode",
   "metadata": {},
   "outputs": [],
   "source": [
    "plot_outcome_overtime(HOSP, \"los_er_30\")"
   ]
  },
  {
   "cell_type": "markdown",
   "id": "motivated-laser",
   "metadata": {},
   "source": [
    "## CCSR Lookup ##"
   ]
  },
  {
   "cell_type": "code",
   "execution_count": null,
   "id": "radio-cylinder",
   "metadata": {},
   "outputs": [],
   "source": [
    "# Diagnosis lookup table on GEMINI\n",
    "lookup_query = select(\n",
    "    db.public.lookup_ccsr.ccsr, db.public.lookup_ccsr.ccsr_desc\n",
    ").subquery()\n",
    "ccsr_lookup_data = db.run_query(lookup_query)\n",
    "\n",
    "pd.set_option(\"display.max_rows\", None)\n",
    "\n",
    "print(ccsr_lookup_data)"
   ]
  }
 ],
 "metadata": {
  "kernelspec": {
   "display_name": "cyclops-KKtuQLwg-py3.9",
   "language": "python",
   "name": "cyclops-kktuqlwg-py3.9"
  },
  "language_info": {
   "codemirror_mode": {
    "name": "ipython",
    "version": 3
   },
   "file_extension": ".py",
   "mimetype": "text/x-python",
   "name": "python",
   "nbconvert_exporter": "python",
   "pygments_lexer": "ipython3",
   "version": "3.9.7"
  }
 },
 "nbformat": 4,
 "nbformat_minor": 5
}
