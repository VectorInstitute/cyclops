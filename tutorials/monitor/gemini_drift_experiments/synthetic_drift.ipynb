{
 "cells": [
  {
   "cell_type": "markdown",
   "id": "6b2520a8-d4ad-4941-8ea7-71fdd631225f",
   "metadata": {},
   "source": [
    "### Synthetic Drift Detection ###"
   ]
  },
  {
   "cell_type": "markdown",
   "id": "e8bb193b-16d6-4f63-b5d3-3744cd1380e4",
   "metadata": {},
   "source": [
    "## Imports ## "
   ]
  },
  {
   "cell_type": "code",
   "execution_count": null,
   "id": "checked-supervisor",
   "metadata": {},
   "outputs": [],
   "source": [
    "import matplotlib.pyplot as plt\n",
    "from drift_detector.detector import Detector\n",
    "from drift_detector.experimenter import Experimenter\n",
    "from drift_detector.plotter import plot_drift_samples_pval\n",
    "from drift_detector.reductor import Reductor\n",
    "from drift_detector.synthetic_applicator import (\n",
    "    SyntheticShiftApplicator,\n",
    "    apply_predefined_shift,\n",
    ")\n",
    "from drift_detector.tester import DCTester, TSTester\n",
    "from gemini.query import get_gemini_data\n",
    "from gemini.utils import get_label, import_dataset_hospital, normalize, process, scale"
   ]
  },
  {
   "cell_type": "markdown",
   "id": "stopped-relevance",
   "metadata": {},
   "source": [
    "## Parameters ##"
   ]
  },
  {
   "cell_type": "code",
   "execution_count": null,
   "id": "retained-characterization",
   "metadata": {},
   "outputs": [],
   "source": [
    "PATH = \"/mnt/nfs/project/delirium/drift_exp/JULY-04-2022/\"\n",
    "MODEL_PATH = (\n",
    "    \"/mnt/nfs/project/delirium/drift_exp/JULY-04-2022/saved_models/random_lstm.pt\"\n",
    ")\n",
    "TIMESTEPS = 6\n",
    "AGGREGATION_TYPE = \"time_flatten\"\n",
    "CONTEXT_TYPE = \"lstm\"\n",
    "REPRESENTATION = \"rf\"\n",
    "HOSPITALS = [\"SMH\", \"MSH\", \"THPC\", \"THPM\", \"UHNTG\", \"UHNTW\", \"PMH\", \"SBK\"]\n",
    "OUTCOME = \"mortality\""
   ]
  },
  {
   "cell_type": "markdown",
   "id": "9b601256-e684-42ee-a209-63b67fa2031d",
   "metadata": {},
   "source": [
    "## Query Data"
   ]
  },
  {
   "cell_type": "code",
   "execution_count": null,
   "id": "f60048ac-3bb6-4499-a1fd-8fd1f8511aef",
   "metadata": {},
   "outputs": [],
   "source": [
    "admin_data, x, y = get_gemini_data(PATH)"
   ]
  },
  {
   "cell_type": "markdown",
   "id": "ece297c5-43e3-4fbd-a0d9-6763d0f13b81",
   "metadata": {},
   "source": [
    "## Preprocess Data"
   ]
  },
  {
   "cell_type": "code",
   "execution_count": null,
   "id": "97a15f71-6b53-4e33-80a4-90bc6cb3b915",
   "metadata": {},
   "outputs": [],
   "source": [
    "# Get subset\n",
    "(X_tr, y_tr), (X_val, y_val), (X_t, y_t), feats, admin_data = import_dataset_hospital(\n",
    "    admin_data, x, y, \"random\", OUTCOME, HOSPITALS\n",
    ")\n",
    "\n",
    "# Normalize data\n",
    "X_tr_normalized = normalize(admin_data, X_tr, AGGREGATION_TYPE, TIMESTEPS)\n",
    "X_val_normalized = normalize(admin_data, X_val, AGGREGATION_TYPE, TIMESTEPS)\n",
    "X_t_normalized = normalize(admin_data, X_t, AGGREGATION_TYPE, TIMESTEPS)\n",
    "\n",
    "if AGGREGATION_TYPE != \"time\":\n",
    "    # Get labels\n",
    "    y_tr = get_label(admin_data, X_tr, OUTCOME)\n",
    "    y_val = get_label(admin_data, X_val, OUTCOME)\n",
    "    y_t = get_label(admin_data, X_t, OUTCOME)\n",
    "\n",
    "# Scale data\n",
    "X_tr_scaled = scale(X_tr_normalized)\n",
    "X_val_scaled = scale(X_val_normalized)\n",
    "X_t_scaled = scale(X_t_normalized)\n",
    "\n",
    "# Process data\n",
    "X_tr_final = process(X_tr_scaled, AGGREGATION_TYPE, TIMESTEPS)\n",
    "X_val_final = process(X_val_scaled, AGGREGATION_TYPE, TIMESTEPS)\n",
    "X_t_final = process(X_t_scaled, AGGREGATION_TYPE, TIMESTEPS)"
   ]
  },
  {
   "cell_type": "markdown",
   "id": "c68dc343-a0f6-47a3-b9a4-ac3e3f0fbb63",
   "metadata": {},
   "source": [
    "## Reductor"
   ]
  },
  {
   "cell_type": "code",
   "execution_count": null,
   "id": "c72515e2-2854-415a-9232-4c0bca3f6798",
   "metadata": {},
   "outputs": [],
   "source": [
    "DR_TECHNIQUE = input(\"Select dimensionality reduction technique: \")\n",
    "\n",
    "reductor = Reductor(\n",
    "    dr_method=DR_TECHNIQUE,\n",
    "    model_path=MODEL_PATH,\n",
    "    var_ret=0.8,\n",
    ")"
   ]
  },
  {
   "cell_type": "markdown",
   "id": "308363ea-83be-4f59-ba5c-719e023d0b5c",
   "metadata": {},
   "source": [
    "## Tester"
   ]
  },
  {
   "cell_type": "code",
   "execution_count": null,
   "id": "04c8a3ca-5095-4595-91d8-c9e280c0e97a",
   "metadata": {
    "tags": []
   },
   "outputs": [],
   "source": [
    "TESTER_METHOD = input(\"Select test method: \")\n",
    "tstesters = [\"lk\", \"lsdd\", \"mmd\", \"tabular\", \"ctx_mmd\", \"chi2\", \"fet\", \"ks\"]\n",
    "dctesters = [\"spot_the_diff\", \"classifier\", \"classifier_uncertainty\"]\n",
    "\n",
    "if TESTER_METHOD in tstesters:\n",
    "    tester = TSTester(\n",
    "        tester_method=TESTER_METHOD,\n",
    "    )\n",
    "elif TESTER_METHOD in dctesters:\n",
    "    MODEL_METHOD = input(\"Select model method: \")\n",
    "    tester = DCTester(\n",
    "        tester_method=TESTER_METHOD,\n",
    "        model_method=MODEL_METHOD,\n",
    "    )\n",
    "\n",
    "    if MODEL_METHOD == \"ctx_mmd\":\n",
    "        CONTEXT_TYPE = input(\"Select context type: \")\n",
    "\n",
    "    if MODEL_METHOD == \"lk\":\n",
    "        REPRESENTATION = input(\"Select learned kernel representation: \")"
   ]
  },
  {
   "cell_type": "markdown",
   "id": "6d643707-c7f6-4b49-8806-4094ee0dbb0d",
   "metadata": {},
   "source": [
    "## Detector "
   ]
  },
  {
   "cell_type": "code",
   "execution_count": null,
   "id": "5ebcbad5-ac85-4f1b-8792-669ec7ff54ca",
   "metadata": {},
   "outputs": [],
   "source": [
    "detector = Detector(\n",
    "    reductor=reductor,\n",
    "    tester=tester,\n",
    "    p_val_threshold=0.05,\n",
    ")\n",
    "detector.fit(X_tr_final)"
   ]
  },
  {
   "cell_type": "markdown",
   "id": "154c9739-57ea-4b97-aae8-b6e65e331499",
   "metadata": {},
   "source": [
    "## SyntheticShiftApplicator"
   ]
  },
  {
   "cell_type": "code",
   "execution_count": null,
   "id": "ccc93e4b-4505-4b0b-a79a-9b8768cfc80d",
   "metadata": {},
   "outputs": [],
   "source": [
    "shiftapplicator = SyntheticShiftApplicator(\n",
    "    shift_type=\"gn_shift\",\n",
    ")"
   ]
  },
  {
   "cell_type": "markdown",
   "id": "6606a732-0139-409b-8a28-116af000907c",
   "metadata": {},
   "source": [
    "## Experimenter"
   ]
  },
  {
   "cell_type": "code",
   "execution_count": null,
   "id": "74f47fec-829e-4d46-bc0b-14c7e67a035a",
   "metadata": {},
   "outputs": [],
   "source": [
    "experimenter_custom = Experimenter(\n",
    "    detector=detector, shiftapplicator=shiftapplicator, admin_data=admin_data\n",
    ")"
   ]
  },
  {
   "cell_type": "markdown",
   "id": "addeb3e3-62a7-4af0-80ae-3d8af706c031",
   "metadata": {},
   "source": [
    "## Run custom shift experiment"
   ]
  },
  {
   "cell_type": "code",
   "execution_count": null,
   "id": "35f88d98-d833-4e51-85a3-e6f0468bd5c5",
   "metadata": {},
   "outputs": [],
   "source": [
    "X_t_final_shifted = experimenter_custom.apply_synthetic_shift(\n",
    "    X_t_final, shift_type=\"gn_shift\", delta=0.01, noise_amt=0.01, clip=False\n",
    ")\n",
    "\n",
    "results = experimenter_custom.detect_shift_samples(X_t_final_shifted)\n",
    "\n",
    "results"
   ]
  },
  {
   "cell_type": "markdown",
   "id": "sudden-topic",
   "metadata": {},
   "source": [
    "## Run predefined shift experiments ##"
   ]
  },
  {
   "cell_type": "code",
   "execution_count": null,
   "id": "3164d25a-cbea-4b16-80c5-40ae358cc481",
   "metadata": {},
   "outputs": [],
   "source": [
    "SHIFT = input(\"Select shift experiment: \")\n",
    "\n",
    "if SHIFT == \"ko_shift\":\n",
    "    shifts = [\"ko_shift_0.1\", \"ko_shift_0.5\", \"ko_shift_1.0\"]\n",
    "elif SHIFT == \"small_gn_shift\":\n",
    "    shifts = [\"small_gn_shift_0.1\", \"small_gn_shift_0.5\", \"small_gn_shift_1.0\"]\n",
    "elif SHIFT == \"medium_gn_shift\":\n",
    "    shifts = [\"medium_gn_shift_0.1\", \"medium_gn_shift_0.5\", \"medium_gn_shift_1.0\"]\n",
    "elif SHIFT == \"large_gn_shift\":\n",
    "    shifts = [\"large_gn_shift_0.1\", \"large_gn_shift_0.5\", \"large_gn_shift_1.0\"]\n",
    "elif SHIFT == \"mfa_shift\":\n",
    "    shifts = [\"mfa_shift_0.25\", \"mfa_shift_0.5\", \"mfa_shift_0.75\"]\n",
    "elif SHIFT == \"cp_shift\":\n",
    "    shifts = [\"cp_shift_0.25\", \"cp_shift_0.75\"]\n",
    "elif SHIFT == \"small_bn_shift\":\n",
    "    shifts = [\"small_bn_shift_0.1\", \"small_bn_shift_0.5\", \"small_bn_shift_1.0\"]\n",
    "elif SHIFT == \"medium_bn_shift\":\n",
    "    shifts = [\"medium_bn_shift_0.1\", \"medium_bn_shift_0.5\", \"medium_bn_shift_1.0\"]\n",
    "elif SHIFT == \"large_bn_shift\":\n",
    "    shifts = [\"large_bn_shift_0.1\", \"large_bn_shift_0.5\", \"large_bn_shift_1.0\"]"
   ]
  },
  {
   "cell_type": "code",
   "execution_count": null,
   "id": "e876ef31-c3d9-4c03-adee-cc6fe0fdb67d",
   "metadata": {},
   "outputs": [],
   "source": [
    "experimenter_predefined = Experimenter(detector=detector, admin_data=admin_data)"
   ]
  },
  {
   "cell_type": "code",
   "execution_count": null,
   "id": "1ae0a5ae-5134-4026-9da1-80fdedcccbb6",
   "metadata": {},
   "outputs": [],
   "source": [
    "shift_results = {}\n",
    "for si, shift in enumerate(shifts):\n",
    "    X_t_final_shifted = X_t_final.copy()\n",
    "    X_t_final_shifted, _ = apply_predefined_shift(shift, X=X_t_final_shifted, y=y_t)\n",
    "    results = experimenter_predefined.detect_shift_samples(X_t_final_shifted)\n",
    "    shift_results.update({shift: results})"
   ]
  },
  {
   "cell_type": "code",
   "execution_count": null,
   "id": "7743e141-f5d0-4e27-aeea-c5fe6fa00673",
   "metadata": {},
   "outputs": [],
   "source": [
    "X_t_final_shifted = X_t_final.copy()\n",
    "X_t_final_shifted, _ = apply_predefined_shift(shift, X=X_t_final_shifted, y=y_t)"
   ]
  },
  {
   "cell_type": "code",
   "execution_count": null,
   "id": "c601f173-7f3c-49dc-b42a-c1adde1e6840",
   "metadata": {},
   "outputs": [],
   "source": [
    "fig, ax = plt.subplots(figsize=(11, 6))\n",
    "plt.hist(X_val_final[:, 0], bins=50, alpha=0.5, label=\"val\", density=True)\n",
    "plt.hist(X_t_final[:, 0], bins=50, alpha=0.5, label=\"test\", density=True)\n",
    "plt.hist(X_t_final_shifted[:, 0], bins=50, alpha=0.5, label=\"test+noise\", density=True)\n",
    "fig.legend(loc=\"upper right\")\n",
    "plt.show()"
   ]
  },
  {
   "cell_type": "code",
   "execution_count": null,
   "id": "b3a02ceb",
   "metadata": {},
   "outputs": [],
   "source": [
    "experimenter2 = Experimenter(detector=detector, admin_data=admin_data)"
   ]
  },
  {
   "cell_type": "code",
   "execution_count": null,
   "id": "20a59f6d-a296-4736-b4ea-a5baa07d0879",
   "metadata": {},
   "outputs": [],
   "source": [
    "experimenter2.detect_shift_sample(X_t_final_shifted, sample=100)"
   ]
  },
  {
   "cell_type": "markdown",
   "id": "b2ce64ff-70fa-46f1-82bf-277ed96e9dfa",
   "metadata": {},
   "source": [
    "## Plot shift experiments"
   ]
  },
  {
   "cell_type": "code",
   "execution_count": null,
   "id": "horizontal-holiday",
   "metadata": {},
   "outputs": [],
   "source": [
    "plot_drift_samples_pval(shift_results, 0.05)"
   ]
  }
 ],
 "metadata": {
  "kernelspec": {
   "display_name": "Python 3 (ipykernel)",
   "language": "python",
   "name": "python3"
  },
  "language_info": {
   "codemirror_mode": {
    "name": "ipython",
    "version": 3
   },
   "file_extension": ".py",
   "mimetype": "text/x-python",
   "name": "python",
   "nbconvert_exporter": "python",
   "pygments_lexer": "ipython3",
   "version": "3.10.4"
  },
  "vscode": {
   "interpreter": {
    "hash": "bd2cd438e1c6ddffa3035fc73b17ac5cc0e0ea8897eb8be17cc645c6abf0c8cc"
   }
  }
 },
 "nbformat": 4,
 "nbformat_minor": 5
}
