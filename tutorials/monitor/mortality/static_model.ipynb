{
 "cells": [
  {
   "cell_type": "markdown",
   "id": "cd4e001b-4921-4a4f-8c2c-0c364d082a3f",
   "metadata": {},
   "source": [
    "### Train static models for in hospital mortality risk prediction"
   ]
  },
  {
   "cell_type": "markdown",
   "id": "d4681dab-9200-4063-9544-f2013bdcd2ba",
   "metadata": {},
   "source": [
    "## Imports"
   ]
  },
  {
   "cell_type": "code",
   "execution_count": null,
   "id": "cce5e9ec-e3d0-4719-a7ee-43e88dcde8b2",
   "metadata": {},
   "outputs": [],
   "source": [
    "import os\n",
    "import pickle\n",
    "import random\n",
    "\n",
    "# import matplotlib as mpl\n",
    "import matplotlib.pyplot as plt\n",
    "import numpy as np\n",
    "\n",
    "# import pandas as pd\n",
    "import scipy.stats as st\n",
    "\n",
    "# from cyclops.processors.constants import FEATURES, NUMERIC, ORDINAL, STANDARD\n",
    "# from cyclops.processors.feature.feature import TabularFeatures\n",
    "# from cyclops.utils.file import load_dataframe, save_pickle\n",
    "from drift_detection.baseline_models.static.utils import run_model\n",
    "from drift_detection.gemini.utils import (\n",
    "    get_label,\n",
    "    import_dataset_hospital,\n",
    "    normalize,\n",
    "    process,\n",
    "    scale,\n",
    "    unison_shuffled_copies,\n",
    ")\n",
    "from sklearn.metrics import (  # accuracy_score,; confusion_matrix,; roc_auc_score,\n",
    "    auc,\n",
    "    average_precision_score,\n",
    "    precision_recall_curve,\n",
    "    roc_curve,\n",
    ")\n",
    "\n",
    "from cyclops.monitor.plotter import (\n",
    "    brightness,\n",
    "    colors,\n",
    "    colorscale,\n",
    "    errorfill,\n",
    "    linestyles,\n",
    "    markers,\n",
    "    plot_pr,\n",
    "    plot_roc,\n",
    ")\n",
    "from use_cases.common.util import get_use_case_params\n",
    "\n",
    "get_gemini_data = callable()"
   ]
  },
  {
   "cell_type": "markdown",
   "id": "25c975e2-2e68-4283-ad78-40c7e866be3f",
   "metadata": {},
   "source": [
    "## Parameters"
   ]
  },
  {
   "cell_type": "code",
   "execution_count": null,
   "id": "30b4d3ab-f6a9-459a-b755-79160cde4cf4",
   "metadata": {},
   "outputs": [],
   "source": [
    "PATH = \"/mnt/nfs/project/delirium/drift_exp/JULY-04-2022/\"\n",
    "TIMESTEPS = 6\n",
    "AGGREGATION_TYPE = \"time_flatten\"\n",
    "HOSPITALS = [\"SMH\", \"MSH\", \"THPC\", \"THPM\", \"UHNTG\", \"UHNTW\", \"PMH\", \"SBK\"]\n",
    "OUTCOME = \"mortality\"\n",
    "THRESHOLD = 0.05"
   ]
  },
  {
   "cell_type": "markdown",
   "id": "4177589f-dd6a-4ee1-af9e-124ee35e3d45",
   "metadata": {},
   "source": [
    "## Query and process data"
   ]
  },
  {
   "cell_type": "code",
   "execution_count": null,
   "id": "0bfdbbe6-c047-4f8d-89ef-d25c98a7144a",
   "metadata": {},
   "outputs": [],
   "source": [
    "DATASET = \"gemini\"\n",
    "USE_CASE = \"mortality_decompensation\"\n",
    "\n",
    "use_case_params = get_use_case_params(DATASET, USE_CASE)\n",
    "input(f\"WARNING: LOADING CONSTANTS FROM {use_case_params}\")"
   ]
  },
  {
   "cell_type": "markdown",
   "id": "00ed9a03-3746-445d-80a5-11c81020645b",
   "metadata": {},
   "source": [
    "## Legacy Scripts"
   ]
  },
  {
   "cell_type": "code",
   "execution_count": null,
   "id": "293b766a-27f7-4240-afd5-0004c5bff89e",
   "metadata": {},
   "outputs": [],
   "source": [
    "SHIFT = input(\"Select experiment: \")  # hospital_type\n",
    "\n",
    "admin_data, x, y = get_gemini_data(PATH)\n",
    "\n",
    "(X_tr, y_tr), (X_val, y_val), (X_t, y_t), feats, admin_data = import_dataset_hospital(\n",
    "    admin_data, x, y, SHIFT, OUTCOME, HOSPITALS\n",
    ")\n",
    "\n",
    "# Normalize data\n",
    "X_tr_normalized = normalize(admin_data, X_tr, AGGREGATION_TYPE, TIMESTEPS)\n",
    "X_val_normalized = normalize(admin_data, X_val, AGGREGATION_TYPE, TIMESTEPS)\n",
    "X_t_normalized = normalize(admin_data, X_t, AGGREGATION_TYPE, TIMESTEPS)\n",
    "\n",
    "y_tr = get_label(admin_data, X_tr, OUTCOME)\n",
    "y_val = get_label(admin_data, X_val, OUTCOME)\n",
    "y_t = get_label(admin_data, X_t, OUTCOME)\n",
    "\n",
    "# Scale data\n",
    "X_tr_scaled = scale(X_tr_normalized)\n",
    "X_val_scaled = scale(X_val_normalized)\n",
    "X_t_scaled = scale(X_t_normalized)\n",
    "\n",
    "# Process data\n",
    "X_tr_final = process(X_tr_scaled, AGGREGATION_TYPE, TIMESTEPS)\n",
    "X_val_final = process(X_val_scaled, AGGREGATION_TYPE, TIMESTEPS)\n",
    "X_t_final = process(X_t_scaled, AGGREGATION_TYPE, TIMESTEPS)"
   ]
  },
  {
   "cell_type": "markdown",
   "id": "f8458f04-d058-465a-9356-e2a9237cf2b7",
   "metadata": {},
   "source": [
    "## Build Model"
   ]
  },
  {
   "cell_type": "code",
   "execution_count": null,
   "id": "57fbae00-ba0f-4aee-8eaa-1f241b2e42f9",
   "metadata": {},
   "outputs": [],
   "source": [
    "MODEL_NAME = input(\"Select Model: \")\n",
    "MODEL_PATH = PATH + \"_\".join([SHIFT, OUTCOME, \"_\".join(HOSPITALS), MODEL_NAME]) + \".pkl\"\n",
    "if os.path.exists(MODEL_PATH):\n",
    "    optimised_model = pickle.load(open(MODEL_PATH, \"rb\"))\n",
    "else:\n",
    "    optimised_model = run_model(MODEL_NAME, X_tr_final, y_tr, X_val_final, y_val)\n",
    "    pickle.dump(optimised_model, open(MODEL_PATH, \"wb\"))"
   ]
  },
  {
   "cell_type": "markdown",
   "id": "bd7a7b18-0dfa-4e9a-a080-5e995365036b",
   "metadata": {},
   "source": [
    "## Performance ##"
   ]
  },
  {
   "cell_type": "code",
   "execution_count": null,
   "id": "bffbadf3-460d-4035-9d96-6a2dfd875734",
   "metadata": {},
   "outputs": [],
   "source": [
    "val_auroc = []\n",
    "val_auprc = []\n",
    "test_auroc = []\n",
    "test_auprc = []\n",
    "\n",
    "RANDOM_RUNS = 10\n",
    "for i in range(RANDOM_RUNS):\n",
    "\n",
    "    random.seed(i)\n",
    "\n",
    "    (\n",
    "        (X_tr, y_tr),\n",
    "        (X_val, y_val),\n",
    "        (X_t, y_t),\n",
    "        feats,\n",
    "        admin_data,\n",
    "    ) = import_dataset_hospital(admin_data, x, y, SHIFT, OUTCOME, HOSPITALS, i)\n",
    "\n",
    "    # Normalize data\n",
    "    X_tr_normalized = normalize(admin_data, X_tr, AGGREGATION_TYPE, TIMESTEPS)\n",
    "    X_val_normalized = normalize(admin_data, X_val, AGGREGATION_TYPE, TIMESTEPS)\n",
    "    X_t_normalized = normalize(admin_data, X_t, AGGREGATION_TYPE, TIMESTEPS)\n",
    "\n",
    "    # Get labels\n",
    "    y_tr = get_label(admin_data, X_tr, OUTCOME)\n",
    "    y_val = get_label(admin_data, X_val, OUTCOME)\n",
    "    y_t = get_label(admin_data, X_t, OUTCOME)\n",
    "\n",
    "    # Scale data\n",
    "    X_tr_scaled = scale(X_tr_normalized)\n",
    "    X_val_scaled = scale(X_val_normalized)\n",
    "    X_t_scaled = scale(X_t_normalized)\n",
    "\n",
    "    # Process data\n",
    "    X_tr_final = process(X_tr_scaled, AGGREGATION_TYPE, TIMESTEPS)\n",
    "    X_val_final = process(X_val_scaled, AGGREGATION_TYPE, TIMESTEPS)\n",
    "    X_t_final = process(X_t_scaled, AGGREGATION_TYPE, TIMESTEPS)\n",
    "\n",
    "    y_pred_prob = optimised_model.predict_proba(X_val_final)[:, 1]\n",
    "    fpr, tpr, thresholds = roc_curve(y_val, y_pred_prob, pos_label=1)\n",
    "    roc_auc = auc(fpr, tpr)\n",
    "    val_auroc.append(roc_auc)\n",
    "    precision, recall, thresholds = precision_recall_curve(y_val, y_pred_prob)\n",
    "    auc_pr = auc(recall, precision)\n",
    "    val_auprc.append(auc_pr)\n",
    "\n",
    "    y_pred_prob = optimised_model.predict_proba(X_t_final)[:, 1]\n",
    "    fpr, tpr, thresholds = roc_curve(y_t, y_pred_prob, pos_label=1)\n",
    "    roc_auc = auc(fpr, tpr)\n",
    "    test_auroc.append(roc_auc)\n",
    "    precision, recall, thresholds = precision_recall_curve(y_t, y_pred_prob)\n",
    "    auc_pr = auc(recall, precision)\n",
    "    test_auprc.append(auc_pr)"
   ]
  },
  {
   "cell_type": "code",
   "execution_count": null,
   "id": "edf088df-e1a3-4327-94f6-fd143ef27a9d",
   "metadata": {},
   "outputs": [],
   "source": [
    "def get_bootstrapped_metric(bs_metric):\n",
    "    bs_mean = np.round(np.mean(bs_metric), 3)\n",
    "    ci = st.t.interval(\n",
    "        0.95, len(bs_metric) - 1, loc=np.mean(bs_metric), scale=st.sem(bs_metric)\n",
    "    )\n",
    "    mean_ci = (\n",
    "        str(bs_mean)\n",
    "        + \" [\"\n",
    "        + str(np.round(ci[0], 3))\n",
    "        + \" - \"\n",
    "        + str(np.round(ci[1], 3))\n",
    "        + \"]\"\n",
    "    )\n",
    "    return mean_ci\n",
    "\n",
    "\n",
    "val_auroc_bs = get_bootstrapped_metric(val_auroc)\n",
    "val_auprc_bs = get_bootstrapped_metric(val_auprc)\n",
    "test_auroc_bs = get_bootstrapped_metric(test_auroc)\n",
    "test_auprc_bs = get_bootstrapped_metric(test_auprc)"
   ]
  },
  {
   "cell_type": "markdown",
   "id": "cee4cd21-4648-438b-bbf6-248090963c21",
   "metadata": {},
   "source": [
    "### Performance on Source Data ###"
   ]
  },
  {
   "cell_type": "code",
   "execution_count": null,
   "id": "resistant-dover",
   "metadata": {},
   "outputs": [],
   "source": [
    "y_pred_prob = optimised_model.predict_proba(X_val_final)[:, 1]\n",
    "\n",
    "fpr, tpr, thresholds = roc_curve(y_val, y_pred_prob, pos_label=1)\n",
    "precision, recall, thresholds = precision_recall_curve(y_val, y_pred_prob)\n",
    "fig, ax = plt.subplots(nrows=1, ncols=2, figsize=(14, 6))\n",
    "plot_roc(ax[0], fpr, tpr, val_auroc_bs)\n",
    "plot_pr(ax[1], recall, precision, val_auprc_bs)"
   ]
  },
  {
   "cell_type": "markdown",
   "id": "aa8ecd0a-afd2-47f9-97bc-424b8646bcb6",
   "metadata": {},
   "source": [
    "### Performance on Target Data ###"
   ]
  },
  {
   "cell_type": "code",
   "execution_count": null,
   "id": "affecting-marriage",
   "metadata": {},
   "outputs": [],
   "source": [
    "y_pred_prob = optimised_model.predict_proba(X_t_final)[:, 1]\n",
    "fpr, tpr, thresholds = roc_curve(y_t, y_pred_prob, pos_label=1)\n",
    "precision, recall, thresholds = precision_recall_curve(y_t, y_pred_prob)\n",
    "fig, ax = plt.subplots(nrows=1, ncols=2, figsize=(14, 6))\n",
    "plot_roc(ax[0], fpr, tpr, test_auroc_bs)\n",
    "plot_pr(ax[1], recall, precision, test_auprc_bs)"
   ]
  },
  {
   "cell_type": "markdown",
   "id": "dde55789-cb88-49db-9121-27cbdbddc46b",
   "metadata": {},
   "source": [
    "## Get AUROC and AUPRC By Varying Sample Sizes in Test Set"
   ]
  },
  {
   "cell_type": "code",
   "execution_count": null,
   "id": "394030e8-1387-4f57-847d-2c982c7787ee",
   "metadata": {},
   "outputs": [],
   "source": [
    "SAMPLES = [10, 20, 50, 100, 200, 500, 1000]\n",
    "\n",
    "RANDOM_RUNS = 100\n",
    "samp_metrics = np.ones((len(SAMPLES), RANDOM_RUNS, 2, 2)) * (-1)\n",
    "for si, sample in enumerate(SAMPLES):\n",
    "    for i in range(0, RANDOM_RUNS - 1):\n",
    "        i = int(i)\n",
    "        np.random.seed(i)\n",
    "        X_val_shuffled, y_val_shuffled = unison_shuffled_copies(X_val_final, y_val)\n",
    "        X_test_shuffled, y_test_shuffled = unison_shuffled_copies(X_t_final, y_t)\n",
    "\n",
    "        y_val_pred_prob = optimised_model.predict_proba(X_val_shuffled[:sample])[:, 1]\n",
    "        val_fpr, val_tpr, val_thresholds = roc_curve(\n",
    "            y_val_shuffled[:sample], y_val_pred_prob[:sample], pos_label=1\n",
    "        )\n",
    "        val_roc_auc = auc(val_fpr, val_tpr)\n",
    "        val_avg_pr = average_precision_score(\n",
    "            y_val_shuffled[:sample], y_val_pred_prob[:sample]\n",
    "        )\n",
    "\n",
    "        y_test_pred_prob = optimised_model.predict_proba(X_test_shuffled[:sample])[:, 1]\n",
    "        test_fpr, test_tpr, test_thresholds = roc_curve(\n",
    "            y_test_shuffled[:sample], y_test_pred_prob[:sample], pos_label=1\n",
    "        )\n",
    "        test_roc_auc = auc(test_fpr, test_tpr)\n",
    "        test_avg_pr = average_precision_score(\n",
    "            y_test_shuffled[:sample], y_test_pred_prob[:sample]\n",
    "        )\n",
    "\n",
    "        samp_metrics[si, i, 0, :] = [val_roc_auc, val_avg_pr]\n",
    "        samp_metrics[si, i, 1, :] = [test_roc_auc, test_avg_pr]\n",
    "\n",
    "    mean_samp_metrics = np.mean(samp_metrics, axis=1)\n",
    "    std_samp_metrics = np.std(samp_metrics, axis=1)"
   ]
  },
  {
   "cell_type": "markdown",
   "id": "e742c540-ab70-40cd-8f98-3b899e538920",
   "metadata": {},
   "source": [
    "## Plot Performance By Varying Sample Sizes in Test Set"
   ]
  },
  {
   "cell_type": "code",
   "execution_count": null,
   "id": "bfe0ec5d-bfb0-463f-9461-82533fddc6de",
   "metadata": {},
   "outputs": [],
   "source": [
    "fig = plt.figure(figsize=(8, 6))\n",
    "for si, shift in enumerate([\"baseline\", SHIFT]):\n",
    "    errorfill(\n",
    "        np.array(SAMPLES[1:]),\n",
    "        mean_samp_metrics[1:, si, 0],\n",
    "        std_samp_metrics[1:, si, 0],\n",
    "        fmt=linestyles[si] + markers[si],\n",
    "        color=colorscale(colors[si], brightness[si]),\n",
    "        label=\"%s\" % \"_\".join([shift]),\n",
    "    )\n",
    "plt.xlabel(\"Number of samples from test data\")\n",
    "plt.ylabel(\"AUROC\")\n",
    "plt.legend()\n",
    "plt.show()"
   ]
  },
  {
   "cell_type": "code",
   "execution_count": null,
   "id": "b9a41070-62be-4d88-8b7f-08188a1ac828",
   "metadata": {},
   "outputs": [],
   "source": [
    "fig = plt.figure(figsize=(8, 6))\n",
    "for si, shift in enumerate([\"baseline\", SHIFT]):\n",
    "    errorfill(\n",
    "        np.array(SAMPLES[1:]),\n",
    "        mean_samp_metrics[1:, si, 1],\n",
    "        std_samp_metrics[1:, si, 1],\n",
    "        fmt=linestyles[si] + markers[si],\n",
    "        color=colorscale(colors[si], brightness[si]),\n",
    "        label=\"%s\" % \"_\".join([shift]),\n",
    "    )\n",
    "plt.xlabel(\"Number of samples from test data\")\n",
    "plt.ylabel(\"AUPRC\")\n",
    "plt.legend()\n",
    "plt.show()"
   ]
  }
 ],
 "metadata": {
  "kernelspec": {
   "display_name": "Python 3.9.7 ('pycyclops-4J2PL5I8-py3.9')",
   "language": "python",
   "name": "python3"
  },
  "language_info": {
   "codemirror_mode": {
    "name": "ipython",
    "version": 3
   },
   "file_extension": ".py",
   "mimetype": "text/x-python",
   "name": "python",
   "nbconvert_exporter": "python",
   "pygments_lexer": "ipython3",
   "version": "3.9.7"
  },
  "vscode": {
   "interpreter": {
    "hash": "a3020bd91ee2a3fe37ba2e4a754058255d6b04fc00c4b4bebbda2c828f5bd9d4"
   }
  }
 },
 "nbformat": 4,
 "nbformat_minor": 5
}
