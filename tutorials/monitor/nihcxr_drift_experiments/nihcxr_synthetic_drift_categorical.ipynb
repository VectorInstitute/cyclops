{
 "cells": [
  {
   "cell_type": "markdown",
   "id": "6b2520a8-d4ad-4941-8ea7-71fdd631225f",
   "metadata": {},
   "source": [
    "# NIHCXR Synthetic Drift - Categorical Shift"
   ]
  },
  {
   "cell_type": "markdown",
   "id": "275fdb05",
   "metadata": {},
   "source": [
    "## Load Libraries"
   ]
  },
  {
   "cell_type": "code",
   "execution_count": null,
   "id": "8aa3302d",
   "metadata": {},
   "outputs": [],
   "source": [
    "from cyclops.monitor import (\n",
    "    Detector,\n",
    "    Experimenter,\n",
    "    Reductor,\n",
    "    SyntheticShiftApplicator,\n",
    "    TSTester,\n",
    ")\n",
    "from cyclops.monitor.plotter import plot_drift_samples_pval\n",
    "from cyclops.monitor.utils import Loader"
   ]
  },
  {
   "cell_type": "markdown",
   "id": "6df16752",
   "metadata": {},
   "source": [
    "## Query Data"
   ]
  },
  {
   "cell_type": "code",
   "execution_count": null,
   "id": "77e7dccf",
   "metadata": {},
   "outputs": [],
   "source": [
    "import os\n",
    "\n",
    "import pandas as pd\n",
    "from datasets import Dataset, Image\n",
    "\n",
    "from cyclops.monitor.utils import nihcxr_preprocess"
   ]
  },
  {
   "cell_type": "code",
   "execution_count": null,
   "id": "ec473d88",
   "metadata": {},
   "outputs": [],
   "source": [
    "nihcxr_dir = \"~/NIHCXR\"\n",
    "df = pd.read_csv(os.path.join(nihcxr_dir, \"Data_Entry_2017.csv\"))\n",
    "df = nihcxr_preprocess(df, nihcxr_dir)\n",
    "nih_ds = Dataset.from_pandas(df, preserve_index=False)\n",
    "nih_ds = nih_ds.cast_column(\"image\", Image())"
   ]
  },
  {
   "cell_type": "markdown",
   "id": "c06f808d",
   "metadata": {},
   "source": [
    "## Initalize Reductor, Tester & Detector"
   ]
  },
  {
   "cell_type": "code",
   "execution_count": null,
   "id": "e350f886",
   "metadata": {},
   "outputs": [],
   "source": [
    "reductor = Reductor(\n",
    "    dr_method=\"TAE_txrv_CNN\",\n",
    ")\n",
    "\n",
    "tester = TSTester(\n",
    "    tester_method=\"mmd\",\n",
    ")\n",
    "\n",
    "\n",
    "detector = Detector(\n",
    "    reductor=reductor,\n",
    "    tester=tester,\n",
    ")\n",
    "with Loader(\"Initializing the detector...\"):\n",
    "    detector.fit(nih_ds, progress=False)"
   ]
  },
  {
   "cell_type": "markdown",
   "id": "bc9302e3",
   "metadata": {},
   "source": [
    "## Setup Baseline Experiment"
   ]
  },
  {
   "cell_type": "code",
   "execution_count": null,
   "id": "60c6c946",
   "metadata": {},
   "outputs": [],
   "source": [
    "baseline_experiment = Experimenter(\n",
    "    \"sensitivity_test\",\n",
    "    detector=detector,\n",
    ")"
   ]
  },
  {
   "cell_type": "markdown",
   "id": "b40cf9e1",
   "metadata": {},
   "source": [
    "## Setup Drift Experiments (Categorical Shift)"
   ]
  },
  {
   "cell_type": "code",
   "execution_count": null,
   "id": "ce636179",
   "metadata": {},
   "outputs": [],
   "source": [
    "shiftapplicators = []\n",
    "shift_type = [\"categorical_shift\"] * 3\n",
    "cat_col = [\"gender\", \"view\", \"age\"]\n",
    "target_categories = [\"M\", \"PA\", \"18-35\"]\n",
    "\n",
    "for s_type, col, target in zip(shift_type, cat_col, target_categories):\n",
    "    shiftapplicators.append(\n",
    "        SyntheticShiftApplicator(\n",
    "            shift_type=s_type,\n",
    "            categorical_column=col,\n",
    "            target_category=target,\n",
    "        )\n",
    "    )\n",
    "\n",
    "experiments = []\n",
    "for shiftapplicator in shiftapplicators:\n",
    "    drift_experiment = Experimenter(\n",
    "        \"sensitivity_test\",\n",
    "        detector=detector,\n",
    "        shiftapplicator=shiftapplicator,\n",
    "    )\n",
    "    experiments.append(drift_experiment)"
   ]
  },
  {
   "cell_type": "markdown",
   "id": "2c3f38c1",
   "metadata": {},
   "source": [
    "## Run Experiments"
   ]
  },
  {
   "cell_type": "code",
   "execution_count": null,
   "id": "checked-supervisor",
   "metadata": {},
   "outputs": [],
   "source": [
    "baseline_results = baseline_experiment.run(nih_ds)\n",
    "drift_results = []\n",
    "for experiment in experiments:\n",
    "    drift_results.append(experiment.run(nih_ds))"
   ]
  },
  {
   "cell_type": "markdown",
   "id": "e961b85c",
   "metadata": {},
   "source": [
    "## Gather Results"
   ]
  },
  {
   "cell_type": "code",
   "execution_count": null,
   "id": "bee367e8",
   "metadata": {},
   "outputs": [],
   "source": [
    "results_dict = {}\n",
    "results_dict.update({\"baseline\": baseline_results})\n",
    "for itr, result in enumerate(drift_results):\n",
    "    results_dict.update({f\"{cat_col[itr]}: {target_categories[itr]}\": result})"
   ]
  },
  {
   "cell_type": "markdown",
   "id": "03342cc7",
   "metadata": {},
   "source": [
    "## Plot Experimental Results"
   ]
  },
  {
   "cell_type": "code",
   "execution_count": null,
   "id": "5f96bc43",
   "metadata": {},
   "outputs": [],
   "source": [
    "plot_drift_samples_pval(results_dict, 0.05)"
   ]
  }
 ],
 "metadata": {
  "kernelspec": {
   "display_name": "pycyclops-4J2PL5I8-py3.9",
   "language": "python",
   "name": "python3"
  },
  "language_info": {
   "codemirror_mode": {
    "name": "ipython",
    "version": 3
   },
   "file_extension": ".py",
   "mimetype": "text/x-python",
   "name": "python",
   "nbconvert_exporter": "python",
   "pygments_lexer": "ipython3",
   "version": "3.9.7"
  },
  "vscode": {
   "interpreter": {
    "hash": "a3020bd91ee2a3fe37ba2e4a754058255d6b04fc00c4b4bebbda2c828f5bd9d4"
   }
  }
 },
 "nbformat": 4,
 "nbformat_minor": 5
}
