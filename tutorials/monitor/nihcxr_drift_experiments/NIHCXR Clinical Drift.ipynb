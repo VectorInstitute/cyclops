{
 "cells": [
  {
   "cell_type": "markdown",
   "id": "6b2520a8-d4ad-4941-8ea7-71fdd631225f",
   "metadata": {},
   "source": [
    "# NIHCXR Clinical Drift"
   ]
  },
  {
   "cell_type": "markdown",
   "id": "275fdb05",
   "metadata": {},
   "source": [
    "## Load Libraries"
   ]
  },
  {
   "cell_type": "code",
   "execution_count": null,
   "id": "8aa3302d",
   "metadata": {},
   "outputs": [],
   "source": [
    "from functools import partial\n",
    "\n",
    "from monai.transforms import AddChanneld, Compose, Lambdad, Resized, ToDeviced\n",
    "from torchxrayvision.models import DenseNet\n",
    "\n",
    "from cyclops.datasets.loader import load_nihcxr\n",
    "from cyclops.datasets.slicer import SliceSpec\n",
    "from cyclops.datasets.utils import apply_transforms\n",
    "from cyclops.monitor import ClinicalShiftApplicator, Detector, Reductor, TSTester\n",
    "from cyclops.monitor.plotter import plot_drift_experiment, plot_drift_timeseries\n",
    "from cyclops.monitor.utils import get_device"
   ]
  },
  {
   "cell_type": "markdown",
   "id": "6df16752",
   "metadata": {},
   "source": [
    "## Query Data"
   ]
  },
  {
   "cell_type": "code",
   "execution_count": null,
   "id": "d9da0395",
   "metadata": {},
   "outputs": [],
   "source": [
    "nih_ds = load_nihcxr(\"/mnt/data/NIHCXR\")"
   ]
  },
  {
   "cell_type": "markdown",
   "id": "ebcc72bb",
   "metadata": {},
   "source": [
    "## Split Source/Target Datasets"
   ]
  },
  {
   "cell_type": "code",
   "execution_count": null,
   "id": "f4dd036e",
   "metadata": {},
   "outputs": [],
   "source": [
    "source_slice = None\n",
    "target_slice = SliceSpec(spec_list=[{\"Patient Gender\": {\"value\": \"F\"}}])\n",
    "\n",
    "shifter = ClinicalShiftApplicator(\"custom\", source=source_slice, target=target_slice)\n",
    "source_ds, target_ds = shifter.apply_shift(nih_ds, num_proc=6)"
   ]
  },
  {
   "cell_type": "code",
   "execution_count": null,
   "id": "ba79e627",
   "metadata": {},
   "outputs": [],
   "source": [
    "source_slice = None\n",
    "target_slice = SliceSpec(spec_list=[{\"timestamp\": {\"hour\": 0}}])\n",
    "\n",
    "shifter = ClinicalShiftApplicator(\"custom\", source=source_slice, target=target_slice)\n",
    "source_ds, target_ds = shifter.apply_shift(nih_ds, num_proc=6)"
   ]
  },
  {
   "attachments": {},
   "cell_type": "markdown",
   "id": "9fa5d563",
   "metadata": {},
   "source": [
    "## Set Transforms "
   ]
  },
  {
   "cell_type": "code",
   "execution_count": null,
   "id": "e11920db",
   "metadata": {},
   "outputs": [],
   "source": [
    "device = get_device()\n",
    "transforms = Compose(\n",
    "    [\n",
    "        AddChanneld(keys=(\"features\",), allow_missing_keys=True),\n",
    "        Resized(\n",
    "            keys=(\"features\",), spatial_size=(1, 224, 224), allow_missing_keys=True\n",
    "        ),\n",
    "        Lambdad(\n",
    "            keys=(\"features\",),\n",
    "            func=lambda x: ((2 * (x / 255.0)) - 1.0) * 1024,\n",
    "            allow_missing_keys=True,\n",
    "        ),\n",
    "        ToDeviced(keys=(\"features\",), device=device, allow_missing_keys=True),\n",
    "    ]\n",
    ")\n",
    "\n",
    "source_ds = source_ds.with_transform(\n",
    "    partial(apply_transforms, transforms=transforms),\n",
    "    columns=[\"features\"],\n",
    "    output_all_columns=True,\n",
    ")\n",
    "target_ds = target_ds.with_transform(\n",
    "    partial(apply_transforms, transforms=transforms),\n",
    "    columns=[\"features\"],\n",
    "    output_all_columns=True,\n",
    ")"
   ]
  },
  {
   "attachments": {},
   "cell_type": "markdown",
   "id": "c06f808d",
   "metadata": {},
   "source": [
    "## Sensitivity Test"
   ]
  },
  {
   "cell_type": "markdown",
   "id": "ab403dc5",
   "metadata": {},
   "source": [
    "#### Experiment w/ Dimensionality Reduction Techniques\n"
   ]
  },
  {
   "cell_type": "code",
   "execution_count": null,
   "id": "54a3523a",
   "metadata": {},
   "outputs": [],
   "source": [
    "model = DenseNet(weights=\"densenet121-res224-all\")\n",
    "dr_methods = {\n",
    "    \"BBSE\": Reductor(dr_method=\"bbse-soft\", model=model, device=device),\n",
    "    \"BBSE + TXRV-AE\": Reductor(\n",
    "        dr_method=\"bbse-soft+txrv-ae\", model=model, device=device\n",
    "    ),\n",
    "    \"TXRV-AE\": Reductor(dr_method=\"txrv-ae\", device=device),\n",
    "}\n",
    "results = {}\n",
    "\n",
    "for name, dr_method in dr_methods.items():\n",
    "    detector = Detector(\n",
    "        \"sensitivity_test\",\n",
    "        reductor=dr_method,\n",
    "        tester=TSTester(tester_method=\"mmd\"),\n",
    "        source_sample_size=1000,\n",
    "        target_sample_size=[50, 100, 200, 300, 400, 600, 800, 1000],\n",
    "        num_runs=3,\n",
    "    )\n",
    "    result = detector.detect_shift(source_ds, target_ds)\n",
    "    results[name] = result\n",
    "plot_drift_experiment(results)"
   ]
  },
  {
   "attachments": {},
   "cell_type": "markdown",
   "id": "0e8ebcf1",
   "metadata": {},
   "source": [
    "#### Experiment w/ Different Clinical Shifts\n"
   ]
  },
  {
   "cell_type": "code",
   "execution_count": null,
   "id": "9ba03fac",
   "metadata": {},
   "outputs": [],
   "source": [
    "source_slice = None\n",
    "target_slices = {\n",
    "    \"SEX: MALE\": SliceSpec(spec_list=[{\"Patient Gender\": {\"value\": \"M\"}}]),\n",
    "    \"SEX: FEMALE\": SliceSpec(spec_list=[{\"Patient Gender\": {\"value\": \"F\"}}]),\n",
    "    \"AGE: 18-35\": SliceSpec(\n",
    "        spec_list=[{\"Patient Age\": {\"min_value\": 18, \"max_value\": 35}}]\n",
    "    ),\n",
    "    \"AGE: 35-65\": SliceSpec(\n",
    "        spec_list=[{\"Patient Age\": {\"min_value\": 35, \"max_value\": 65}}]\n",
    "    ),\n",
    "}\n",
    "results = {}\n",
    "\n",
    "for name, target_slice in target_slices.items():\n",
    "    source_slice = None\n",
    "    target_slice = SliceSpec(spec_list=[{\"Patient Gender\": {\"value\": \"M\"}}])\n",
    "    shifter = ClinicalShiftApplicator(\n",
    "        \"custom\", source=source_slice, target=target_slice\n",
    "    )\n",
    "    source_ds, target_ds = shifter.apply_shift(nih_ds, num_proc=6)\n",
    "\n",
    "    source_ds = source_ds.with_transform(\n",
    "        partial(apply_transforms, transforms=transforms),\n",
    "        columns=[\"features\"],\n",
    "        output_all_columns=True,\n",
    "    )\n",
    "    target_ds = target_ds.with_transform(\n",
    "        partial(apply_transforms, transforms=transforms),\n",
    "        columns=[\"features\"],\n",
    "        output_all_columns=True,\n",
    "    )\n",
    "\n",
    "    detector = Detector(\n",
    "        \"sensitivity_test\",\n",
    "        reductor=Reductor(dr_method=\"bbse-soft\", model=model, device=device),\n",
    "        tester=TSTester(tester_method=\"mmd\"),\n",
    "        source_sample_size=1000,\n",
    "        target_sample_size=[50, 100, 200, 300, 400, 600, 800, 1000],\n",
    "        num_runs=3,\n",
    "    )\n",
    "    results[name] = detector.detect_shift(source_ds, target_ds)\n",
    "plot_drift_experiment(results)"
   ]
  },
  {
   "attachments": {},
   "cell_type": "markdown",
   "id": "b4bb3e84",
   "metadata": {},
   "source": [
    "#### Experiment w/ Models Trained on Different Datasets"
   ]
  },
  {
   "cell_type": "code",
   "execution_count": null,
   "id": "eb32b3ff",
   "metadata": {},
   "outputs": [],
   "source": [
    "models = {\n",
    "    \"MODEL: NIH\": \"densenet121-res224-nih\",\n",
    "    \"MODEL: CHEXPERT\": \"densenet121-res224-chex\",\n",
    "    \"MODEL: PADCHEST\": \"densenet121-res224-pc\",\n",
    "}\n",
    "results = {}\n",
    "\n",
    "for model_name, model in models.items():\n",
    "    detector = Detector(\n",
    "        \"sensitivity_test\",\n",
    "        reductor=Reductor(dr_method=\"bbse-soft\", model=DenseNet(model), device=device),\n",
    "        tester=TSTester(tester_method=\"mmd\"),\n",
    "        source_sample_size=1000,\n",
    "        target_sample_size=[50, 100, 200, 300, 400, 600, 800, 1000],\n",
    "        num_runs=3,\n",
    "    )\n",
    "    results[model_name] = detector.detect_shift(source_ds, target_ds)\n",
    "plot_drift_experiment(results)"
   ]
  },
  {
   "attachments": {},
   "cell_type": "markdown",
   "id": "fd29b3ff",
   "metadata": {},
   "source": [
    "## Rolling Window"
   ]
  },
  {
   "attachments": {},
   "cell_type": "markdown",
   "id": "7571bc9f",
   "metadata": {},
   "source": [
    "#### Experiment w/ Synthetic Timestamps Using Biweekly Window"
   ]
  },
  {
   "cell_type": "code",
   "execution_count": null,
   "id": "77e4b383",
   "metadata": {},
   "outputs": [],
   "source": [
    "model = DenseNet(weights=\"densenet121-res224-all\")\n",
    "detector = Detector(\n",
    "    \"rolling_window_drift\",\n",
    "    reductor=Reductor(dr_method=\"bbse-soft\", model=model, device=device),\n",
    "    tester=TSTester(tester_method=\"mmd\"),\n",
    "    source_sample_size=1000,\n",
    "    target_sample_size=50,\n",
    "    timestamp_column=\"timestamp\",\n",
    "    window_size=\"2W\",\n",
    ")\n",
    "\n",
    "results = detector.detect_shift(source_ds, target_ds)\n",
    "\n",
    "plot_drift_timeseries(results)"
   ]
  }
 ],
 "metadata": {
  "kernelspec": {
   "display_name": "Python 3 (ipykernel)",
   "language": "python",
   "name": "python3"
  },
  "language_info": {
   "codemirror_mode": {
    "name": "ipython",
    "version": 3
   },
   "file_extension": ".py",
   "mimetype": "text/x-python",
   "name": "python",
   "nbconvert_exporter": "python",
   "pygments_lexer": "ipython3",
   "version": "3.9.7"
  },
  "vscode": {
   "interpreter": {
    "hash": "a3020bd91ee2a3fe37ba2e4a754058255d6b04fc00c4b4bebbda2c828f5bd9d4"
   }
  }
 },
 "nbformat": 4,
 "nbformat_minor": 5
}
