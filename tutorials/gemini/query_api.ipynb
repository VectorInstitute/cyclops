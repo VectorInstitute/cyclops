{
 "cells": [
  {
   "cell_type": "markdown",
   "id": "attended-boston",
   "metadata": {},
   "source": [
    "### This notebook shows examples of how to use the cyclops.query API on GEMINI."
   ]
  },
  {
   "cell_type": "markdown",
   "id": "cosmetic-pasta",
   "metadata": {},
   "source": [
    "## Example 1. Get all patient encounters from year 2020, join with labs, limit to 100 rows."
   ]
  },
  {
   "cell_type": "code",
   "execution_count": null,
   "id": "elementary-programmer",
   "metadata": {},
   "outputs": [],
   "source": [
    "from cyclops.processors.constants import SMH\n",
    "from cyclops.query import gemini\n",
    "\n",
    "encounters = gemini.patient_encounters(years=[2020])\n",
    "encounters_labs = gemini.events(\n",
    "    patient_encounters_table=encounters.query, event_category=\"lab\"\n",
    ")\n",
    "encounters_labs.run(limit=100)\n",
    "print(f\"{len(encounters_labs.data)} rows extracted!\")"
   ]
  },
  {
   "cell_type": "markdown",
   "id": "auburn-constitutional",
   "metadata": {},
   "source": [
    "## Example 2. Get all patient encounters from June 2020, join diagnosis codes, filter responsible diagnoses made, limit to 100 rows."
   ]
  },
  {
   "cell_type": "code",
   "execution_count": null,
   "id": "simple-receiver",
   "metadata": {},
   "outputs": [],
   "source": [
    "encounters = gemini.patient_encounters(years=[2020])\n",
    "diagnoses = gemini.diagnoses(diagnosis_types=[\"M\"])\n",
    "encounters_diagnoses = gemini.patient_diagnoses(\n",
    "    diagnoses_table=diagnoses.query, patient_encounters_table=encounters.query\n",
    ")\n",
    "encounters_diagnoses.run(limit=100)\n",
    "print(f\"{len(encounters_diagnoses.data)} rows extracted!\")"
   ]
  },
  {
   "cell_type": "markdown",
   "id": "wireless-dream",
   "metadata": {},
   "source": [
    "## Example 3. Get all patient encounters from year 2020, join with labs, filter only sodium tests, limit to 100 rows."
   ]
  },
  {
   "cell_type": "code",
   "execution_count": null,
   "id": "greater-filter",
   "metadata": {},
   "outputs": [],
   "source": [
    "encounters = gemini.patient_encounters(years=[2020])\n",
    "encounters_labs = gemini.events(\n",
    "    patient_encounters_table=encounters.query,\n",
    "    event_category=\"lab\",\n",
    "    event_names=[\"sodium\"],\n",
    ")\n",
    "encounters_labs.run(limit=100)\n",
    "print(f\"{len(encounters_labs.data)} rows extracted!\")"
   ]
  },
  {
   "cell_type": "markdown",
   "id": "miniature-engagement",
   "metadata": {},
   "source": [
    "## Example 4. Get all patient encounters from St. Michael's hospital from Jan 2020 to June 2020, join with vitals, filter Systolic BP measurements (substring match)."
   ]
  },
  {
   "cell_type": "code",
   "execution_count": null,
   "id": "painted-breath",
   "metadata": {},
   "outputs": [],
   "source": [
    "encounters = gemini.patient_encounters(\n",
    "    hospitals=[SMH], after_date=\"2020-01-01\", before_date=\"2020-06-30\"\n",
    ")\n",
    "encounters_vitals = gemini.events(\n",
    "    patient_encounters_table=encounters.query,\n",
    "    event_name_substring=\"systolic\",\n",
    "    event_category=\"vitals\",\n",
    ")\n",
    "encounters_vitals.run()\n",
    "print(f\"{len(encounters_vitals.data)} rows extracted!\")"
   ]
  },
  {
   "cell_type": "markdown",
   "id": "crazy-philip",
   "metadata": {},
   "source": [
    "## Example 5. Get all blood transfusions from 2020, limit to 100."
   ]
  },
  {
   "cell_type": "code",
   "execution_count": null,
   "id": "israeli-tunisia",
   "metadata": {},
   "outputs": [],
   "source": [
    "transfusions = gemini.blood_transfusions(years=[2020])\n",
    "transfusions.run(limit=100)\n",
    "print(f\"{len(transfusions.data)} rows extracted!\")"
   ]
  },
  {
   "cell_type": "markdown",
   "id": "indian-colors",
   "metadata": {},
   "source": [
    "## Example 6. Get all patient encounters from all hospitals, from years [2018, 2019, 2020], join with ER table, labs and vitals (large query!!)."
   ]
  },
  {
   "cell_type": "code",
   "execution_count": null,
   "id": "divine-county",
   "metadata": {},
   "outputs": [],
   "source": [
    "er_admin_table = gemini.get_table(gemini.ER_ADMIN)\n",
    "encounters = gemini.patient_encounters(\n",
    "    er_admin_table=er_admin_table,\n",
    "    years=[2018, 2019, 2020],\n",
    "    died=True,\n",
    "    died_binarize_col=\"mortality\",\n",
    ")\n",
    "encounters_labs = gemini.events(\n",
    "    patient_encounters_table=encounters.query, event_category=\"lab\"\n",
    ")\n",
    "encounters_vitals = gemini.events(\n",
    "    patient_encounters_table=encounters.query, event_category=\"vitals\"\n",
    ")\n",
    "encounters.run()\n",
    "encounters_labs.run()\n",
    "encounters_vitals.run()\n",
    "print(f\"{len(encounters.data)} rows extracted!\")\n",
    "print(f\"{len(encounters_labs.data)} rows extracted!\")\n",
    "print(f\"{len(encounters_vitals.data)} rows extracted!\")"
   ]
  },
  {
   "cell_type": "markdown",
   "id": "acquired-pennsylvania",
   "metadata": {},
   "source": [
    "## Example 7. Get diagnosis lookup table data for quick reference."
   ]
  },
  {
   "cell_type": "code",
   "execution_count": null,
   "id": "artistic-proposal",
   "metadata": {},
   "outputs": [],
   "source": [
    "lookup_data = gemini.get_interface(gemini.get_table(\"lookup_diagnosis\"))\n",
    "lookup_data.run()\n",
    "print(f\"{len(lookup_data.data)} rows extracted!\")"
   ]
  }
 ],
 "metadata": {
  "kernelspec": {
   "display_name": "cyclops",
   "language": "python",
   "name": "cyclops"
  },
  "language_info": {
   "codemirror_mode": {
    "name": "ipython",
    "version": 3
   },
   "file_extension": ".py",
   "mimetype": "text/x-python",
   "name": "python",
   "nbconvert_exporter": "python",
   "pygments_lexer": "ipython3",
   "version": "3.9.7"
  }
 },
 "nbformat": 4,
 "nbformat_minor": 5
}
