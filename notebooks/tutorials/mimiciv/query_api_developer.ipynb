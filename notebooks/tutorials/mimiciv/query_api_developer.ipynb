{
 "cells": [
  {
   "cell_type": "markdown",
   "id": "26d6a55f",
   "metadata": {},
   "source": [
    "### For developers wanting to extend the functionality of cyclops.query API for existing datasets or add new datasets, this in-depth guide can be a resource. The walkthrough explanations are using the MIMIC-IV dataset.\n",
    "\n",
    "### This notebook dives into the details of how to use SQLAlchemy, which is the main python library used to develop the cyclops.query API. "
   ]
  },
  {
   "cell_type": "markdown",
   "id": "909affb4",
   "metadata": {},
   "source": [
    "## SQLAlchemy"
   ]
  },
  {
   "cell_type": "markdown",
   "id": "1dbf9367",
   "metadata": {},
   "source": [
    "SQLAlchemy (https://www.sqlalchemy.org/) is a Python SQL toolkit which implements an Object Relational Mapper (ORM).\n",
    "\n",
    "An ORM allows users to stay away writing queries as raw SQL strings, which become highly unmanageable as more complex queries are required.\n",
    "\n",
    "In this tutorial, we'll introduce some basic functionalities provided by SQLAlchemy's ORM, as well as the functionality we've developed for simplifying and extending the use of this ORM.\n",
    "\n",
    "Note: cyclops.query API is built for querying from a database, not on modifying it, e.g., inserting or deleting rows/tables."
   ]
  },
  {
   "cell_type": "markdown",
   "id": "ee0e4976",
   "metadata": {},
   "source": [
    "## Query objects"
   ]
  },
  {
   "cell_type": "markdown",
   "id": "8110763d",
   "metadata": {},
   "source": [
    "There are a few objects representing queries/relations to understand:\n",
    " - `cyclops.query.utils.DBTable` (DBTable)\n",
    "  - A class defined in this repository used by `cyclops.orm.Database` to organize tables as attributes\n",
    " - `sqlalchemy.sql.schema.Table` (Table)\n",
    "  - The SQLAlchemy table object\n",
    "  - The DBTable object has attribute `data` which accesses the corresponding Table object\n",
    " - `sqlalchemy.sql.selectable.Select` (Select)\n",
    "  - The SQLAlchemy object returned by function `sqlalchemy.select`\n",
    "  - Executing queries requires them to be Select objects\n",
    " - `sqlalchemy.sql.selectable.Subquery` (Subquery)\n",
    "  - The SQLAlchemy object returned by method `.subquery()`, e.g., on a `sqlalchemy.select` object\n",
    "  - This is necessary when wanting to chain queries together"
   ]
  },
  {
   "cell_type": "markdown",
   "id": "49698960",
   "metadata": {},
   "source": [
    "## Query Interface"
   ]
  },
  {
   "cell_type": "markdown",
   "id": "5048a2dd",
   "metadata": {},
   "source": [
    "We wish to provide simple, and easy to use functions for querying a database such as MIMIC-IV, while leveraging the abstraction and flexibility provided by SQLAlchemy's ORM. \n",
    "\n",
    "In order to achieve this, the `cyclops.orm.Database` object which encapsulates the ORM, is hidden away from the user. Only the query and resulting data is made available using `cyclops.query.interface.QueryInterface`.\n",
    "\n",
    "Hence, queries such patients, diagnoses, labs, etc. are encapsulated within this interface, and the user would execute the query using a simple `run()` method which belongs to the interface. The query is then executed and the resulting data as a `pandas.DataFrame` is stored in the interface's `data` attribute."
   ]
  },
  {
   "cell_type": "markdown",
   "id": "35cc5f61",
   "metadata": {},
   "source": [
    "## API methods"
   ]
  },
  {
   "cell_type": "markdown",
   "id": "36d73952",
   "metadata": {},
   "source": [
    "Typically for health datasets collected from hospitals, such as MIMIC-IV, there are multiple tables where different sources of information are available. Usually the following sources are commonly available:\n",
    "\n",
    "* Patients\n",
    "* Diagnoses\n",
    "* Events or Measurements\n",
    "* Notes\n",
    "\n",
    "Events can further be categorised into labs, vital measurements, interventions. A researcher or user is interested in developing risk-predictive models that predict outcomes of interest for a patient, which use patient statics and events/measurements as inputs.\n",
    "\n",
    "Hence, as part of any dataset's query API, we can define functions that allow users to query the above information, and apply different filters to get subsets of interest. A researcher might be interested in patients belonging to a specific cohort depending on an outcome of interest, for example patients that have heart conditions or have had heart transplants. \n",
    "\n",
    "```python\n",
    "    def patients():\n",
    "        pass\n",
    "    \n",
    "    def diagnoses():\n",
    "        pass\n",
    "        "
   ]
  },
  {
   "cell_type": "markdown",
   "id": "a3fdb44b",
   "metadata": {},
   "source": [
    "## Attribute access"
   ]
  },
  {
   "cell_type": "markdown",
   "id": "fb9d290b",
   "metadata": {},
   "source": [
    "Attributes, or columns, are accessed by name. How to access an column depends on the object."
   ]
  },
  {
   "cell_type": "code",
   "execution_count": null,
   "id": "021f864c",
   "metadata": {},
   "outputs": [],
   "source": [
    "# DBTable\n",
    "col = db.mimic_hosp.d_icd_diagnoses.icd_code\n",
    "type(col)"
   ]
  },
  {
   "cell_type": "markdown",
   "id": "31920223",
   "metadata": {},
   "source": [
    "There is no convenient attribute access for a `sqlalchemy.sql.schema.Table` object. This was largely the motivation for creating the `cyclops.query_utils.DBTable` object."
   ]
  },
  {
   "cell_type": "markdown",
   "id": "3f3e563d",
   "metadata": {},
   "source": [
    "There is no direct attribute access for a `sqlalchemy.sql.selectable.Select` object. Instead, we must first convert it to a subquery."
   ]
  },
  {
   "cell_type": "code",
   "execution_count": null,
   "id": "bbfb00e2",
   "metadata": {},
   "outputs": [],
   "source": [
    "# Subquery\n",
    "subquery = select(db.mimic_hosp.d_icd_diagnoses.data).subquery()\n",
    "type(subquery.c.icd_code)"
   ]
  },
  {
   "cell_type": "markdown",
   "id": "255a91f1",
   "metadata": {},
   "source": [
    "Note that difference in attribute access between a DBTable and a subquery, where in a subquery, we must use access `.c` before accessing column."
   ]
  },
  {
   "cell_type": "markdown",
   "id": "3bb13518",
   "metadata": {},
   "source": [
    "# Helper functions for querying"
   ]
  },
  {
   "cell_type": "markdown",
   "id": "10382a04",
   "metadata": {},
   "source": [
    "SQLAlchemy does not have implementations for many desired functionalities.\n",
    "\n",
    "Here, we introduce `cyclops.query.utils` (imported as `query_utils`), which provides general-purpose functions we'll use throughout the remainder of the notebook to make building effective queries quick and simple. These helper functions can be used to add/improve the higher level API functions in the dataset API modules such as `cyclops.query.mimic`.\n",
    "\n",
    " - Handling conditions: `equals`, `in_`, `has_string_format`, `has_substring`, `starts_with`, `ends_with`\n",
    " - Attribute handling: `get_attributes`, `rename_attributes`, `reorder_attributes`, `drop_attributes`, `apply_to_attributes`\n",
    " - It automatically handles conversions between different query type objects, so users need not worry about what to pass in"
   ]
  },
  {
   "cell_type": "markdown",
   "id": "dbf18fd9",
   "metadata": {},
   "source": [
    "## Conditions"
   ]
  },
  {
   "cell_type": "markdown",
   "id": "aca0497d",
   "metadata": {},
   "source": [
    "Row conditions are represented by the `sqlalchemy.sql.elements.BinaryExpression` object."
   ]
  },
  {
   "cell_type": "code",
   "execution_count": null,
   "id": "5eac974f",
   "metadata": {},
   "outputs": [],
   "source": [
    "cond = db.mimic_hosp.diagnoses_icd.icd_code == \"0011\"\n",
    "type(cond)"
   ]
  },
  {
   "cell_type": "markdown",
   "id": "fe6356ba",
   "metadata": {},
   "source": [
    "We can use method `where` to use a binary expression object to filter rows of a `sqlalchemy.sql.selectable.Select` object:"
   ]
  },
  {
   "cell_type": "code",
   "execution_count": null,
   "id": "3835140f",
   "metadata": {},
   "outputs": [],
   "source": [
    "cond = db.mimic_hosp.d_icd_diagnoses.icd_code == \"0010\"\n",
    "query = select(db.mimic_hosp.d_icd_diagnoses.data).where(cond)\n",
    "db.run_query(query)"
   ]
  },
  {
   "cell_type": "markdown",
   "id": "e1b08331",
   "metadata": {},
   "source": [
    "Method `filter` may be used equivalently:"
   ]
  },
  {
   "cell_type": "code",
   "execution_count": null,
   "id": "1fe99b0b",
   "metadata": {},
   "outputs": [],
   "source": [
    "cond = db.mimic_hosp.d_icd_diagnoses.icd_code == \"0010\"\n",
    "query = select(db.mimic_hosp.d_icd_diagnoses.data).filter(cond)\n",
    "db.run_query(query)"
   ]
  },
  {
   "cell_type": "markdown",
   "id": "7247945e",
   "metadata": {},
   "source": [
    "More complex conditions have been handled in `cyclops.query_utils`, available for convenience.\n",
    "\n",
    "Consider the substring condition:"
   ]
  },
  {
   "cell_type": "code",
   "execution_count": null,
   "id": "1cac6e9c",
   "metadata": {},
   "outputs": [],
   "source": [
    "cond = q_utils.substring_cond(db.mimic_hosp.d_icd_diagnoses.long_title, \"Heart-\")\n",
    "query = select(db.mimic_hosp.d_icd_diagnoses.data).where(cond)\n",
    "db.run_query(query)"
   ]
  },
  {
   "cell_type": "markdown",
   "id": "419ad5c6",
   "metadata": {},
   "source": [
    "Notice that we received results with \"heart-\" despite specifying \"Heart-\". This is because the function automatically assumed we wanted to ignore case. Different pre-processing assumptions are made for condition functions and can be explored in `cyclops.query_utils`.\n",
    "\n",
    "These pre-processing assumptions are entirely optional. If case matters, we could simply specify this:"
   ]
  },
  {
   "cell_type": "code",
   "execution_count": null,
   "id": "50c4ba57",
   "metadata": {},
   "outputs": [],
   "source": [
    "cond = q_utils.substring_cond(\n",
    "    db.mimic_hosp.d_icd_diagnoses.long_title, \"Heart-\", lower=False\n",
    ")\n",
    "query = select(db.mimic_hosp.d_icd_diagnoses.data).where(cond)\n",
    "db.run_query(query)"
   ]
  },
  {
   "cell_type": "markdown",
   "id": "243df8d6",
   "metadata": {},
   "source": [
    "Assumptions may be made regarding case, trimming of whitespace, and type conversions."
   ]
  },
  {
   "cell_type": "markdown",
   "id": "ee96a5cf",
   "metadata": {},
   "source": [
    "## Joins"
   ]
  },
  {
   "cell_type": "markdown",
   "id": "1e12d3e2",
   "metadata": {},
   "source": [
    "We can perform joins in SQLAlchemy.\n",
    "\n",
    "For example, say we want to get a table back with patient diagnoses (found in `db.mimic_hosp.diagnoses_icd`), but include the titles of the diagnoses (found in `db.mimic_hosp.d_icd_diagnoses`).\n",
    "\n",
    "When creating complex queries, many joins consist of at least one, if not two, subqueries. So, we'll demonstrate an inner join using a subquery:"
   ]
  },
  {
   "cell_type": "code",
   "execution_count": null,
   "id": "791c6b76",
   "metadata": {},
   "outputs": [],
   "source": [
    "query = select(db.mimic_hosp.diagnoses_icd.data, subquery).join(\n",
    "    subquery, db.mimic_hosp.diagnoses_icd.icd_code == subquery.c.icd_code\n",
    ")\n",
    "db.run_query(query, limit=3)"
   ]
  },
  {
   "cell_type": "markdown",
   "id": "34a08258",
   "metadata": {},
   "source": [
    "A cross product can be done by simply not using the `join` method:"
   ]
  },
  {
   "cell_type": "code",
   "execution_count": null,
   "id": "5bd462a9",
   "metadata": {},
   "outputs": [],
   "source": [
    "subquery = select(db.mimic_hosp.d_icd_diagnoses.data).subquery()\n",
    "query = select(db.mimic_hosp.diagnoses_icd.data, subquery)\n",
    "db.run_query(query, limit=3)"
   ]
  },
  {
   "cell_type": "markdown",
   "id": "f2e35ead",
   "metadata": {},
   "source": [
    "It is smart to test queries with joins using a small `limit` in `db.run_query`, since cross products can create unreasonably large tables."
   ]
  },
  {
   "cell_type": "markdown",
   "id": "f77e3458",
   "metadata": {},
   "source": [
    "Notice that in the inner join we have duplicated, unwanted columns `icd_code_1`, `icd_version_1`. This is because we selected the entire `db.mimic_hosp.d_icd_diagnoses` table despite only wanting the `long_title` column.\n",
    "\n",
    "We can fix this by selecting this column specifically:"
   ]
  },
  {
   "cell_type": "code",
   "execution_count": null,
   "id": "ff081025",
   "metadata": {},
   "outputs": [],
   "source": [
    "subquery = select(db.mimic_hosp.d_icd_diagnoses.data).subquery()\n",
    "\n",
    "running_query = select(db.mimic_hosp.diagnoses_icd.data, subquery.c.long_title).join(\n",
    "    subquery, db.mimic_hosp.diagnoses_icd.icd_code == subquery.c.icd_code\n",
    ")\n",
    "db.run_query(running_query, limit=3)"
   ]
  },
  {
   "cell_type": "markdown",
   "id": "b55f5238",
   "metadata": {},
   "source": [
    "We can select any combination of tables and columns in this manner."
   ]
  },
  {
   "cell_type": "markdown",
   "id": "77b82688",
   "metadata": {},
   "source": [
    "## Group by, Order by"
   ]
  },
  {
   "cell_type": "markdown",
   "id": "6e59a71b",
   "metadata": {},
   "source": [
    "We can perform use the `group_by` method to group by different columns:"
   ]
  },
  {
   "cell_type": "code",
   "execution_count": null,
   "id": "a3831ae1",
   "metadata": {},
   "outputs": [],
   "source": [
    "query = select(\n",
    "    db.mimic_hosp.diagnoses_icd.icd_code,\n",
    "    func.count(db.mimic_hosp.diagnoses_icd.icd_code),\n",
    ").group_by(db.mimic_hosp.diagnoses_icd.icd_code)\n",
    "db.run_query(query, limit=3)"
   ]
  },
  {
   "cell_type": "markdown",
   "id": "62c4e91e",
   "metadata": {},
   "source": [
    "The typically restrictions apply that anything selected must be in an aggregate function or included in the group by."
   ]
  },
  {
   "cell_type": "markdown",
   "id": "5ab18b87",
   "metadata": {},
   "source": [
    "We can also take the previous query and order the rows in ascending or descending order:"
   ]
  },
  {
   "cell_type": "code",
   "execution_count": null,
   "id": "93c7e5a3",
   "metadata": {},
   "outputs": [],
   "source": [
    "# Descending\n",
    "query = query.order_by(db.mimic_hosp.diagnoses_icd.icd_code.desc())\n",
    "db.run_query(query, limit=3)"
   ]
  },
  {
   "cell_type": "code",
   "execution_count": null,
   "id": "2f2b5576",
   "metadata": {},
   "outputs": [],
   "source": [
    "# Back to ascending\n",
    "subquery = query.subquery()\n",
    "query = select(subquery).order_by(subquery.c.icd_code)\n",
    "db.run_query(query, limit=3)"
   ]
  },
  {
   "cell_type": "markdown",
   "id": "2864aeec",
   "metadata": {},
   "source": [
    "## Helper functions"
   ]
  },
  {
   "cell_type": "markdown",
   "id": "1917fe06",
   "metadata": {},
   "source": [
    "Let's re-order the attributes in previously defined query, perhaps where we want `icd_code` and its corresponding title, `long_title`, next to one another:"
   ]
  },
  {
   "cell_type": "code",
   "execution_count": null,
   "id": "ea9b272e",
   "metadata": {},
   "outputs": [],
   "source": [
    "running_query = q_utils.reorder_attributes(\n",
    "    running_query,\n",
    "    [\"subject_id\", \"hadm_id\", \"seq_num\", \"icd_code\", \"long_title\", \"icd_version\"],\n",
    ")\n",
    "\n",
    "db.run_query(running_query, limit=2)"
   ]
  },
  {
   "cell_type": "markdown",
   "id": "61d51fc6",
   "metadata": {},
   "source": [
    "Note that all existing attributes should be passed into this function, otherwise we'll receive an error."
   ]
  },
  {
   "cell_type": "markdown",
   "id": "0b68a04b",
   "metadata": {},
   "source": [
    "We can also drop any attributes we might want removed:"
   ]
  },
  {
   "cell_type": "code",
   "execution_count": null,
   "id": "567dd43f",
   "metadata": {},
   "outputs": [],
   "source": [
    "query_drop = q_utils.drop_attributes(running_query, \"seq_num\")\n",
    "db.run_query(query_drop, limit=2)"
   ]
  },
  {
   "cell_type": "markdown",
   "id": "4b46fe9a",
   "metadata": {},
   "source": [
    "Like many of the `q_utils` functions which accept attributes, we may pass in a single attribute, or multiple:"
   ]
  },
  {
   "cell_type": "code",
   "execution_count": null,
   "id": "254d507d",
   "metadata": {},
   "outputs": [],
   "source": [
    "query_drop = q_utils.drop_attributes(running_query, [\"seq_num\", \"long_title\"])\n",
    "db.run_query(query_drop, limit=2)"
   ]
  },
  {
   "cell_type": "markdown",
   "id": "0185c8ba",
   "metadata": {},
   "source": [
    "We can rename attributes:"
   ]
  },
  {
   "cell_type": "code",
   "execution_count": null,
   "id": "1892c781",
   "metadata": {},
   "outputs": [],
   "source": [
    "query_rename = q_utils.rename_attributes(running_query, {\"long_title\": \"icd_title\"})\n",
    "db.run_query(query_rename, limit=2)"
   ]
  },
  {
   "cell_type": "markdown",
   "id": "f62a7c37",
   "metadata": {},
   "source": [
    "### Applying functions"
   ]
  },
  {
   "cell_type": "markdown",
   "id": "536c3df1",
   "metadata": {},
   "source": [
    "We need to be careful. Consider the diagnosis ICD code values:"
   ]
  },
  {
   "cell_type": "code",
   "execution_count": null,
   "id": "a0a0695e",
   "metadata": {},
   "outputs": [],
   "source": [
    "query = db.mimic_hosp.d_icd_diagnoses\n",
    "df = db.run_query(query, limit=2)\n",
    "df"
   ]
  },
  {
   "cell_type": "code",
   "execution_count": null,
   "id": "5fa84950",
   "metadata": {},
   "outputs": [],
   "source": [
    "df[\"icd_code\"].values"
   ]
  },
  {
   "cell_type": "markdown",
   "id": "a6d03ea2",
   "metadata": {},
   "source": [
    "There is lots of trailing whitespace which we may not have expected.\n",
    "\n",
    "There are built-in function in SQLAlchemy such as sqlalchemy.func.trim which can remove leading/trailing whitespace, however it is difficult to apply these function in-place. We have created functionality for this."
   ]
  },
  {
   "cell_type": "markdown",
   "id": "071d270b",
   "metadata": {},
   "source": [
    "Here, we use `q_utils.trim_attributes` to trim leading/trailing whitespace from an attribute:"
   ]
  },
  {
   "cell_type": "code",
   "execution_count": null,
   "id": "a74b3dec",
   "metadata": {},
   "outputs": [],
   "source": [
    "query = q_utils.trim_attributes(db.mimic_hosp.d_icd_diagnoses, \"icd_code\")\n",
    "df = db.run_query(query, limit=2)\n",
    "df[\"icd_code\"].values"
   ]
  },
  {
   "cell_type": "markdown",
   "id": "206f0c18",
   "metadata": {},
   "source": [
    "It is smart to perform sanity checks:"
   ]
  },
  {
   "cell_type": "code",
   "execution_count": null,
   "id": "f55db9b3",
   "metadata": {},
   "outputs": [],
   "source": [
    "t = db.mimic_hosp.d_icd_diagnoses\n",
    "df = db.run_query(t, limit=5)\n",
    "icd_codes_untrimmed = df[\"icd_code\"].values.astype(\"str\")\n",
    "np.char.strip(icd_codes_untrimmed) == icd_codes_untrimmed  # Trim using NumPy"
   ]
  },
  {
   "cell_type": "code",
   "execution_count": null,
   "id": "ac7f074c",
   "metadata": {},
   "outputs": [],
   "source": [
    "query = q_utils.trim_attributes(t, \"icd_code\")\n",
    "df = db.run_query(query, limit=5)\n",
    "icd_codes_trimmed = df[\"icd_code\"].values.astype(\"str\")\n",
    "np.char.strip(icd_codes_trimmed) == icd_codes_trimmed  # Trim using NumPy"
   ]
  },
  {
   "cell_type": "markdown",
   "id": "cf41dbba",
   "metadata": {},
   "source": [
    "Like many of the functions which accept attributes, we may pass in a single attribute, or multiple:"
   ]
  },
  {
   "cell_type": "code",
   "execution_count": null,
   "id": "be31c633",
   "metadata": {},
   "outputs": [],
   "source": [
    "query = q_utils.trim_attributes(\n",
    "    db.mimic_hosp.d_icd_diagnoses, [\"icd_code\", \"icd_version\"]\n",
    ")\n",
    "df = db.run_query(query, limit=2)\n",
    "df[[\"icd_code\", \"icd_version\"]].values"
   ]
  },
  {
   "cell_type": "markdown",
   "id": "b4e1ecd9",
   "metadata": {},
   "source": [
    "Note that certain functions will assume certain datatype conversions. For example, when trimming, the column would be converted to a string in order for this operation to be defined.\n",
    "\n",
    "The ICD version was originally not a string:"
   ]
  },
  {
   "cell_type": "code",
   "execution_count": null,
   "id": "771d17da",
   "metadata": {},
   "outputs": [],
   "source": [
    "query = db.mimic_hosp.d_icd_diagnoses\n",
    "df = db.run_query(query, limit=2)\n",
    "df[\"icd_version\"].values"
   ]
  },
  {
   "cell_type": "markdown",
   "id": "7e2c0ce8",
   "metadata": {},
   "source": [
    "String conversions are made with `string_format_cond`, `substring_cond`, `startswith_cond`, `endswith_cond`. For example,"
   ]
  },
  {
   "cell_type": "code",
   "execution_count": null,
   "id": "b27ad8ac",
   "metadata": {},
   "outputs": [],
   "source": [
    "query = select(db.mimic_hosp.diagnoses_icd.data).where(\n",
    "    q_utils.startswith_cond(db.mimic_hosp.diagnoses_icd.icd_version, 1)\n",
    ")\n",
    "db.run_query(query, limit=3)"
   ]
  },
  {
   "cell_type": "markdown",
   "id": "8d687ebb",
   "metadata": {},
   "source": [
    "There is also support for creating custom in-place functions using `q_utils.apply_to_attributes`.\n",
    "\n",
    "Here we will use `sqlalchemy.func.lower` to convert the strings in a column to lowercase:"
   ]
  },
  {
   "cell_type": "code",
   "execution_count": null,
   "id": "d8f7c7f9",
   "metadata": {},
   "outputs": [],
   "source": [
    "query = q_utils.apply_to_attributes(\n",
    "    db.mimic_hosp.d_icd_diagnoses, \"long_title\", func.lower\n",
    ")\n",
    "db.run_query(query, limit=2)"
   ]
  },
  {
   "cell_type": "markdown",
   "id": "32012fc2",
   "metadata": {},
   "source": [
    "In particular, `q_utils.apply_to_attributes` accepts any function which takes a Column object as its only argument and similarly returns a Column object."
   ]
  }
 ],
 "metadata": {
  "kernelspec": {
   "display_name": "Python 3 (ipykernel)",
   "language": "python",
   "name": "python3"
  },
  "language_info": {
   "codemirror_mode": {
    "name": "ipython",
    "version": 3
   },
   "file_extension": ".py",
   "mimetype": "text/x-python",
   "name": "python",
   "nbconvert_exporter": "python",
   "pygments_lexer": "ipython3",
   "version": "3.9.7"
  }
 },
 "nbformat": 4,
 "nbformat_minor": 5
}
