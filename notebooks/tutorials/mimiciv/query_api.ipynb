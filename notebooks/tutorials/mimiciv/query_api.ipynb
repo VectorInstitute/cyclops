{
 "cells": [
  {
   "cell_type": "markdown",
   "id": "1efffc64",
   "metadata": {},
   "source": [
    "### This notebook shows examples of how to use the cyclops.query API on MIMIC-IV."
   ]
  },
  {
   "cell_type": "markdown",
   "id": "12c18656-7f16-4230-85d0-944563d6a13e",
   "metadata": {},
   "source": [
    "## Imports"
   ]
  },
  {
   "cell_type": "code",
   "execution_count": null,
   "id": "53009e6b",
   "metadata": {},
   "outputs": [],
   "source": [
    "from sqlalchemy import select\n",
    "\n",
    "import cyclops.query.mimiciv as mimic\n",
    "import cyclops.query.util as query_util"
   ]
  },
  {
   "cell_type": "markdown",
   "id": "7b6214f8",
   "metadata": {
    "tags": []
   },
   "source": [
    "## Example 1. Get all patient encounters from 2015 (approximate year of care)."
   ]
  },
  {
   "cell_type": "code",
   "execution_count": null,
   "id": "cdfadaa4-6fd6-4fd7-85cf-e012aa0799e1",
   "metadata": {},
   "outputs": [],
   "source": [
    "encounters = mimic.patient_encounters(years=2015)\n",
    "encounters.run()\n",
    "print(f\"{len(encounters.data)} rows extracted!\")"
   ]
  },
  {
   "cell_type": "markdown",
   "id": "80d9f06e",
   "metadata": {},
   "source": [
    "## Example 2. Get all patient encounters with diagnoses (`schizophrenia` in ICD long title), in the year 2015."
   ]
  },
  {
   "cell_type": "code",
   "execution_count": null,
   "id": "a89a9cf0",
   "metadata": {},
   "outputs": [],
   "source": [
    "encounters = mimic.patient_encounters(years=[2015])\n",
    "encounters_schizophrenia = mimic.patient_diagnoses(\n",
    "    diagnosis_substring=\"schizophrenia\", patients=encounters\n",
    ")\n",
    "encounters_schizophrenia.run()\n",
    "print(f\"{len(encounters_schizophrenia.data)} rows extracted!\")\n",
    "encounters_schizophrenia.data[\"diagnosis_title\"].value_counts()"
   ]
  },
  {
   "cell_type": "markdown",
   "id": "e2baea54",
   "metadata": {},
   "source": [
    "## Example 3. Advanced - uses regexp_match from sqlalchemy. Get all patient encounters with diagnoses (ICD long title contains `schizophrenia` and `chronic` ), in the year 2015."
   ]
  },
  {
   "cell_type": "code",
   "execution_count": null,
   "id": "03936cee",
   "metadata": {},
   "outputs": [],
   "source": [
    "encounters = mimic.patient_encounters(years=[2015])\n",
    "diagnoses = mimic.patient_diagnoses(patients=encounters)\n",
    "subquery = (\n",
    "    select(diagnoses.query)\n",
    "    .where(\n",
    "        diagnoses.query.c.diagnosis_title.regexp_match(\n",
    "            \"(?=.*schizophrenia)(?=.*chronic)\"\n",
    "        )\n",
    "    )\n",
    "    .subquery()\n",
    ")\n",
    "patients_schizophrenia_chronic = diagnoses\n",
    "patients_schizophrenia_chronic.query = subquery\n",
    "patients_schizophrenia_chronic.run()\n",
    "print(f\"{len(patients_schizophrenia_chronic.data)} rows extracted!\")"
   ]
  },
  {
   "cell_type": "markdown",
   "id": "88e7bf6d",
   "metadata": {},
   "source": [
    "## Example 4. Advanced - uses cyclops.query.utils.starts_with helper function. Get all patient encounters with diagnoses (starts with `Paranoid` in ICD long title), in the year 2015."
   ]
  },
  {
   "cell_type": "code",
   "execution_count": null,
   "id": "f3f05615",
   "metadata": {},
   "outputs": [],
   "source": [
    "encounters = mimic.patient_encounters(years=[2015])\n",
    "diagnoses = mimic.patient_diagnoses(patients=encounters)\n",
    "subquery = (\n",
    "    select(diagnoses.query)\n",
    "    .where(query_util.starts_with(diagnoses.query.c.diagnosis_title, \"Paranoid\"))\n",
    "    .subquery()\n",
    ")\n",
    "patients_schizophrenia = diagnoses\n",
    "patients_schizophrenia.query = subquery\n",
    "patients_schizophrenia.run()\n",
    "print(f\"{len(patients_schizophrenia.data)} rows extracted!\")"
   ]
  },
  {
   "cell_type": "markdown",
   "id": "d093543f",
   "metadata": {},
   "source": [
    "## Example 5. Get all patient encounters with diagnoses (ICD code is F209)."
   ]
  },
  {
   "cell_type": "code",
   "execution_count": null,
   "id": "105be34a",
   "metadata": {},
   "outputs": [],
   "source": [
    "patients = mimic.patients()\n",
    "patients_f209 = mimic.patient_diagnoses(diagnosis_codes=[\"F209\"], patients=patients)\n",
    "patients_f209.run()\n",
    "print(f\"{len(patients_f209.data)} rows extracted!\")"
   ]
  },
  {
   "cell_type": "markdown",
   "id": "569ac1b0",
   "metadata": {},
   "source": [
    "## Example 6. Get all patient encounters with diagnoses (`delirium` in ICD long title)."
   ]
  },
  {
   "cell_type": "code",
   "execution_count": null,
   "id": "73a46650",
   "metadata": {},
   "outputs": [],
   "source": [
    "patients = mimic.patients()\n",
    "patients_delirium = mimic.patient_diagnoses(\n",
    "    diagnosis_substring=\"delirium\", patients=patients\n",
    ")\n",
    "patients_delirium.run()\n",
    "print(f\"{len(patients_delirium.data)} rows extracted!\")"
   ]
  },
  {
   "cell_type": "code",
   "execution_count": null,
   "id": "cec91296-bc8f-4973-b544-9ce8ce4119e2",
   "metadata": {},
   "outputs": [],
   "source": [
    "patients_delirium.data[\"diagnosis_title\"].value_counts()"
   ]
  },
  {
   "cell_type": "markdown",
   "id": "30b0d604",
   "metadata": {},
   "source": [
    "## Example 7. Get routine vital signs for patients from year 2015, limit to 100 rows."
   ]
  },
  {
   "cell_type": "code",
   "execution_count": null,
   "id": "56a72377",
   "metadata": {},
   "outputs": [],
   "source": [
    "encounters = mimic.patient_encounters(years=[2018])\n",
    "patients_vitals = mimic.events(\n",
    "    patient_encounters_table=encounters.query, categories=\"Routine Vital Signs\"\n",
    ")\n",
    "patients_vitals.run(limit=100)\n",
    "print(f\"{len(patients_vitals.data)} rows extracted!\")"
   ]
  },
  {
   "cell_type": "markdown",
   "id": "621479f0",
   "metadata": {},
   "source": [
    "## Example 8. Get hemoglobin lab tests for patients from year 2009, limit to 100 rows."
   ]
  },
  {
   "cell_type": "code",
   "execution_count": null,
   "id": "bce11f81",
   "metadata": {},
   "outputs": [],
   "source": [
    "encounters = mimic.patient_encounters(years=[2009])\n",
    "patients_hemo_labs = mimic.events(\n",
    "    categories=\"labs\",\n",
    "    patient_encounters_table=encounters.query,\n",
    "    event_names=\"hemoglobin\",\n",
    ")\n",
    "patients_hemo_labs.run(limit=100)\n",
    "print(f\"{len(patients_hemo_labs.data)} rows extracted!\")"
   ]
  },
  {
   "cell_type": "markdown",
   "id": "93e28422",
   "metadata": {},
   "source": [
    "## Example 9. Get all lab events for patients from year 2010, that match substring \"sodium\", limit to 100 rows."
   ]
  },
  {
   "cell_type": "code",
   "execution_count": null,
   "id": "9a6aeef6",
   "metadata": {},
   "outputs": [],
   "source": [
    "encounters = mimic.patient_encounters(years=[2009])\n",
    "patients_sodium_labs = mimic.events(\n",
    "    categories=\"labs\",\n",
    "    patient_encounters_table=encounters.query,\n",
    "    event_name_substring=\"sodium\",\n",
    ")\n",
    "patients_sodium_labs.run(limit=100)\n",
    "print(f\"{len(patients_sodium_labs.data)} rows extracted!\")"
   ]
  },
  {
   "cell_type": "markdown",
   "id": "7d5d0e20",
   "metadata": {},
   "source": [
    "## Example 10. Get respiratory events for patients from year 2009, limit to 100 rows."
   ]
  },
  {
   "cell_type": "code",
   "execution_count": null,
   "id": "e9fc83e3",
   "metadata": {},
   "outputs": [],
   "source": [
    "encounters = mimic.patient_encounters(years=[2009])\n",
    "patients_respiratory = mimic.events(\n",
    "    categories=\"Respiratory\", patient_encounters_table=encounters.query\n",
    ")\n",
    "patients_respiratory.run(limit=100)\n",
    "print(f\"{len(patients_respiratory.data)} rows extracted!\")"
   ]
  },
  {
   "cell_type": "markdown",
   "id": "af3c3e3b",
   "metadata": {},
   "source": [
    "## Example 11. Get heart rate measurements of patients with delirium diagnoses, limit to 1000 rows."
   ]
  },
  {
   "cell_type": "code",
   "execution_count": null,
   "id": "77453d72",
   "metadata": {},
   "outputs": [],
   "source": [
    "patients = mimic.patients()\n",
    "encounters = mimic.patient_encounters(patients_table=patients.query)\n",
    "delirium_encounters = mimic.patient_diagnoses(\n",
    "    diagnosis_substring=\"delirium\", patients_table=encounters.query\n",
    ")\n",
    "patients_delirium_heart_rate = mimic.events(\n",
    "    event_names=\"Heart Rate\", patient_encounters_table=delirium_encounters.query\n",
    ")\n",
    "patients_delirium_heart_rate.run(limit=1000)\n",
    "print(f\"{len(patients_delirium_heart_rate.data)} rows extracted!\")"
   ]
  },
  {
   "cell_type": "markdown",
   "id": "f5efc21c",
   "metadata": {},
   "source": [
    "## Example 12. Get d_items dimension table, for quick reference."
   ]
  },
  {
   "cell_type": "code",
   "execution_count": null,
   "id": "9feecc43",
   "metadata": {},
   "outputs": [],
   "source": [
    "event_lookup_table = mimic.get_table(\"event_labels\", return_query_interface=True)\n",
    "lookup_data = event_lookup_table.run()\n",
    "print(f\"{len(lookup_data)} rows extracted!\")"
   ]
  },
  {
   "cell_type": "markdown",
   "id": "e1ed2708",
   "metadata": {},
   "source": [
    "## Example 13. Running a raw SQL string."
   ]
  },
  {
   "cell_type": "code",
   "execution_count": null,
   "id": "a853deec",
   "metadata": {},
   "outputs": [],
   "source": [
    "mimic._db.run_sql_string(\"SELECT * FROM mimic_core.patients LIMIT 100\")"
   ]
  }
 ],
 "metadata": {
  "kernelspec": {
   "display_name": "Python 3 (ipykernel)",
   "language": "python",
   "name": "python3"
  },
  "language_info": {
   "codemirror_mode": {
    "name": "ipython",
    "version": 3
   },
   "file_extension": ".py",
   "mimetype": "text/x-python",
   "name": "python",
   "nbconvert_exporter": "python",
   "pygments_lexer": "ipython3",
   "version": "3.9.7"
  }
 },
 "nbformat": 4,
 "nbformat_minor": 5
}
