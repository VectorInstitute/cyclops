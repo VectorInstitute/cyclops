{
 "cells": [
  {
   "cell_type": "markdown",
   "id": "ddee9eb9",
   "metadata": {},
   "source": [
    "## Get all patients from the Jan 2009, join with diagnoses and labs and vitals data."
   ]
  },
  {
   "cell_type": "code",
   "execution_count": 4,
   "id": "6007be29",
   "metadata": {},
   "outputs": [
    {
     "name": "stderr",
     "output_type": "stream",
     "text": [
      "2022-05-03 23:15:08,269 \u001b[1;37mINFO\u001b[0m cyclops.orm     - Query returned successfully!\n",
      "2022-05-03 23:15:08,270 \u001b[1;37mINFO\u001b[0m cyclops.utils.profile - Finished executing function run_query in 11.306975 s\n",
      "2022-05-03 23:15:50,525 \u001b[1;37mINFO\u001b[0m cyclops.orm     - Query returned successfully!\n",
      "2022-05-03 23:15:50,526 \u001b[1;37mINFO\u001b[0m cyclops.utils.profile - Finished executing function run_query in 42.255441 s\n",
      "2022-05-03 23:17:13,196 \u001b[1;37mINFO\u001b[0m cyclops.orm     - Query returned successfully!\n",
      "2022-05-03 23:17:13,203 \u001b[1;37mINFO\u001b[0m cyclops.utils.profile - Finished executing function run_query in 82.674707 s\n",
      "2022-05-03 23:17:13,205 \u001b[1;37mINFO\u001b[0m cyclops.query.interface - Saving queried data to ./diagnoses.gzip\n"
     ]
    },
    {
     "name": "stdout",
     "output_type": "stream",
     "text": [
      "2383413 rows extracted!\n",
      "3045872 rows extracted!\n",
      "10871595 rows extracted!\n"
     ]
    },
    {
     "name": "stderr",
     "output_type": "stream",
     "text": [
      "2022-05-03 23:17:13,750 \u001b[1;37mINFO\u001b[0m cyclops.query.interface - Saving queried data to ./labs.gzip\n",
      "2022-05-03 23:17:14,795 \u001b[1;37mINFO\u001b[0m cyclops.query.interface - Saving queried data to ./vitals.gzip\n"
     ]
    }
   ],
   "source": [
    "from cyclops.query import mimic\n",
    "\n",
    "patients = mimic.patients(years=[2009], months=[1])\n",
    "patients_diagnoses = mimic.diagnoses(patients=patients)\n",
    "patients_labs = mimic.events(patients=patients, category=\"labs\")\n",
    "patients_vitals = mimic.events(patients=patients, category=\"routine vital signs\")\n",
    "patients_diagnoses.run(filter_recognised=True)\n",
    "patients_labs.run(filter_recognised=True)\n",
    "patients_vitals.run(filter_recognised=True)\n",
    "\n",
    "print(f\"{len(patients_diagnoses.data)} rows extracted!\")\n",
    "print(f\"{len(patients_labs.data)} rows extracted!\")\n",
    "print(f\"{len(patients_vitals.data)} rows extracted!\")\n",
    "\n",
    "patients_diagnoses.save(\".\", \"diagnoses\")\n",
    "patients_labs.save(\".\", \"labs\")\n",
    "patients_vitals.save(\".\", \"vitals\")"
   ]
  },
  {
   "cell_type": "code",
   "execution_count": null,
   "id": "75133c26",
   "metadata": {},
   "outputs": [],
   "source": []
  }
 ],
 "metadata": {
  "kernelspec": {
   "display_name": "Python 3 (ipykernel)",
   "language": "python",
   "name": "python3"
  },
  "language_info": {
   "codemirror_mode": {
    "name": "ipython",
    "version": 3
   },
   "file_extension": ".py",
   "mimetype": "text/x-python",
   "name": "python",
   "nbconvert_exporter": "python",
   "pygments_lexer": "ipython3",
   "version": "3.8.5"
  }
 },
 "nbformat": 4,
 "nbformat_minor": 5
}
