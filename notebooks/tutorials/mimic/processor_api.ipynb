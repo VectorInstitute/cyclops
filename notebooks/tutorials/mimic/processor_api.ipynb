{
 "cells": [
  {
   "cell_type": "markdown",
   "id": "e72e6975",
   "metadata": {},
   "source": [
    "## This notebook shows examples of how to use the cyclops.processor API on MIMIC-IV."
   ]
  },
  {
   "cell_type": "markdown",
   "id": "ddee9eb9",
   "metadata": {},
   "source": [
    "## Get all patients from the 1st Jan 2009 to 6th Jan 2009, join with diagnoses, labs, care-unit (transfers) information and vitals data."
   ]
  },
  {
   "cell_type": "code",
   "execution_count": null,
   "id": "6007be29",
   "metadata": {},
   "outputs": [],
   "source": [
    "import random\n",
    "\n",
    "import matplotlib.pyplot as plt\n",
    "import pandas as pd\n",
    "\n",
    "from cyclops.feature_handler import FeatureHandler\n",
    "from cyclops.processor import featurize\n",
    "from cyclops.processors.aggregate import Aggregator\n",
    "from cyclops.processors.column_names import (\n",
    "    ADMIT_TIMESTAMP,\n",
    "    AGE,\n",
    "    CARE_UNIT,\n",
    "    DIAGNOSIS_CODE,\n",
    "    ENCOUNTER_ID,\n",
    "    SEX,\n",
    "    YEAR,\n",
    ")\n",
    "from cyclops.processors.impute import Imputer\n",
    "from cyclops.processors.util import gather_columns\n",
    "from cyclops.query import mimic\n",
    "from cyclops.query.postprocess.gemini import process_gemini_care_unit_changepoints\n",
    "from cyclops.query.postprocess.util import plot_admit_discharge"
   ]
  },
  {
   "cell_type": "code",
   "execution_count": null,
   "id": "d279a529-96f7-4d1d-96e6-d64c29a4958f",
   "metadata": {},
   "outputs": [],
   "source": [
    "care_units = mimic.care_units().run()\n",
    "greatest = list(care_units[\"encounter_id\"].value_counts().index[:10])\n",
    "\n",
    "encounter_id = greatest[0]  # SET encounter_id\n",
    "care_units_i = care_units[care_units[\"encounter_id\"] == encounter_id]\n",
    "care_units_i = care_units_i.sort_values(by=\"admit\")"
   ]
  },
  {
   "cell_type": "code",
   "execution_count": null,
   "id": "e3d8c081-9642-4b31-be80-bcf1109bbf03",
   "metadata": {},
   "outputs": [],
   "source": [
    "plot_admit_discharge(care_units_i, description=CARE_UNIT, figsize=(40, 4))"
   ]
  },
  {
   "cell_type": "code",
   "execution_count": null,
   "id": "b9f3d64c-0cc8-40f7-8ae5-2e9d8e808f5a",
   "metadata": {},
   "outputs": [],
   "source": [
    "process_gemini_care_unit_changepoints(care_units_i)"
   ]
  },
  {
   "cell_type": "code",
   "execution_count": null,
   "id": "10cd0b89",
   "metadata": {},
   "outputs": [],
   "source": [
    "patients = mimic.patients(from_date=\"2009-01-01\", to_date=\"2009-01-06\")\n",
    "patients_diagnoses = mimic.diagnoses(patients=patients)\n",
    "patients_labs = mimic.events(patients=patients, category=\"labs\")\n",
    "patients_vitals = mimic.events(patients=patients, category=\"routine vital signs\")\n",
    "patients_diagnoses.run(filter_recognised=True)\n",
    "patients_labs.run(filter_recognised=True)\n",
    "patients_vitals.run(filter_recognised=True)\n",
    "patients_transfers = mimic.care_units(patients=patients)\n",
    "patients_transfers.run()\n",
    "\n",
    "print(f\"{len(patients_diagnoses.data)} rows extracted!\")\n",
    "print(f\"{len(patients_labs.data)} rows extracted!\")\n",
    "print(f\"{len(patients_vitals.data)} rows extracted!\")\n",
    "print(f\"{len(patients_transfers.data)} rows extracted!\")\n",
    "\n",
    "patients_diagnoses.save(\".\", \"diagnoses\")\n",
    "patients_labs.save(\".\", \"labs\")\n",
    "patients_vitals.save(\".\", \"vitals\")\n",
    "patients_transfers.save(\".\", \"transfers\")"
   ]
  },
  {
   "cell_type": "markdown",
   "id": "f843fe02",
   "metadata": {},
   "source": [
    "## Process queried data into features. (Static + Temporal)."
   ]
  },
  {
   "cell_type": "code",
   "execution_count": null,
   "id": "75133c26",
   "metadata": {},
   "outputs": [],
   "source": [
    "diagnoses_data = pd.read_parquet(\"diagnoses.gzip\")\n",
    "vitals_data = pd.read_parquet(\"vitals.gzip\")\n",
    "labs_data = pd.read_parquet(\"labs.gzip\")\n",
    "transfers_data = pd.read_parquet(\"transfers.gzip\")\n",
    "\n",
    "static_diagnoses_data = gather_columns(\n",
    "    diagnoses_data,\n",
    "    [ENCOUNTER_ID, AGE, SEX, DIAGNOSIS_CODE, ADMIT_TIMESTAMP],\n",
    ")\n",
    "feature_handler = featurize(\n",
    "    static_data=[static_diagnoses_data],\n",
    "    temporal_data=[labs_data, vitals_data],\n",
    "    aggregator=Aggregator(bucket_size=6, window=120),\n",
    "    static_imputer=Imputer(\n",
    "        strategy=\"median\",\n",
    "        encounter_missingness_threshold=0.25,\n",
    "        feature_missingness_threshold=0.5,\n",
    "    ),\n",
    "    temporal_imputer=Imputer(\n",
    "        strategy=\"median\",\n",
    "        encounter_missingness_threshold=0.95,\n",
    "        feature_missingness_threshold=0.75,\n",
    "    ),\n",
    "    reference_cols=[ADMIT_TIMESTAMP],\n",
    ")"
   ]
  },
  {
   "cell_type": "markdown",
   "id": "a5325ab3",
   "metadata": {},
   "source": [
    "## Plot example temporal features."
   ]
  },
  {
   "cell_type": "code",
   "execution_count": null,
   "id": "f6f8bca0",
   "metadata": {},
   "outputs": [],
   "source": [
    "encounter_ids = list(\n",
    "    set(feature_handler.features[\"temporal\"].index.get_level_values(0))\n",
    ")\n",
    "encounter_id = random.choice(encounter_ids)\n",
    "temporal_features = feature_handler.get_numerical_feature_names()[\"temporal\"]\n",
    "feature_handler.plot_features(encounter_id, names=temporal_features)"
   ]
  },
  {
   "cell_type": "markdown",
   "id": "8ecafb58",
   "metadata": {},
   "source": [
    "## Plot histogram of static features."
   ]
  },
  {
   "cell_type": "code",
   "execution_count": null,
   "id": "ebe32622",
   "metadata": {},
   "outputs": [],
   "source": [
    "feature_handler.plot_features(aggregate_type=\"static\", names=\"age\")"
   ]
  },
  {
   "cell_type": "markdown",
   "id": "e49ecc3b",
   "metadata": {},
   "source": [
    "## Create new FeatureHandler and load features from file."
   ]
  },
  {
   "cell_type": "code",
   "execution_count": null,
   "id": "61f12b69",
   "metadata": {},
   "outputs": [],
   "source": [
    "feature_handler.save(\".\", \"test_features\")\n",
    "feature_handler = FeatureHandler()\n",
    "feature_handler.load(\".\", \"test_features\")"
   ]
  },
  {
   "cell_type": "code",
   "execution_count": 4,
   "id": "c9d362f3-e2b7-4903-b75f-71ccd455853c",
   "metadata": {},
   "outputs": [
    {
     "data": {
      "image/png": "[encoded data removed]",
      "text/plain": [
       "<Figure size 864x216 with 1 Axes>"
      ]
     },
     "metadata": {
      "needs_background": "light"
     },
     "output_type": "display_data"
    }
   ],
   "source": [
    "import matplotlib.pyplot as plt\n",
    "import numpy as np\n",
    "\n",
    "refuel_km = np.array([0, 505.4, 1070, 1690])\n",
    "refuel_cost = np.array([40.1, 50, 63, 55])\n",
    "\n",
    "carwash_km = np.array([302.0, 605.4, 901, 1331, 1788.2])\n",
    "carwash_cost = np.array([35.0, 40.0, 35.0, 35.0, 35.0])\n",
    "\n",
    "repair_km = np.array([788.0, 1605.4])\n",
    "repair_cost = np.array([135.0, 74.5])\n",
    "\n",
    "fig, ax = plt.subplots(figsize=(12, 3))\n",
    "\n",
    "plt.scatter(\n",
    "    refuel_km,\n",
    "    np.full_like(refuel_km, 0),\n",
    "    marker=\"o\",\n",
    "    s=100,\n",
    "    color=\"lime\",\n",
    "    edgecolors=\"black\",\n",
    "    zorder=3,\n",
    "    label=\"refuel\",\n",
    ")\n",
    "plt.bar(\n",
    "    refuel_km,\n",
    "    refuel_cost,\n",
    "    bottom=15,\n",
    "    color=\"lime\",\n",
    "    ec=\"black\",\n",
    "    width=20,\n",
    "    label=\"refuel cost\",\n",
    ")\n",
    "\n",
    "plt.scatter(\n",
    "    carwash_km,\n",
    "    np.full_like(carwash_km, 0),\n",
    "    marker=\"d\",\n",
    "    s=100,\n",
    "    color=\"tomato\",\n",
    "    edgecolors=\"black\",\n",
    "    zorder=3,\n",
    "    label=\"car wash\",\n",
    ")\n",
    "plt.bar(\n",
    "    carwash_km,\n",
    "    -carwash_cost,\n",
    "    bottom=-15,\n",
    "    color=\"tomato\",\n",
    "    ec=\"black\",\n",
    "    width=20,\n",
    "    label=\"car wash cost\",\n",
    ")\n",
    "\n",
    "plt.scatter(\n",
    "    repair_km,\n",
    "    np.full_like(repair_km, 0),\n",
    "    marker=\"^\",\n",
    "    s=100,\n",
    "    color=\"lightblue\",\n",
    "    edgecolors=\"black\",\n",
    "    zorder=3,\n",
    "    label=\"car repair\",\n",
    ")\n",
    "# plt.bar(repair_km, -repair_cost, bottom=-15, color='lightblue', ec='black', width=20)\n",
    "\n",
    "ax.spines[\"bottom\"].set_position(\"zero\")\n",
    "ax.spines[\"top\"].set_color(\"none\")\n",
    "ax.spines[\"right\"].set_color(\"none\")\n",
    "ax.spines[\"left\"].set_color(\"none\")\n",
    "ax.tick_params(axis=\"x\", length=20)\n",
    "ax.set_yticks([])  # turn off the yticks\n",
    "\n",
    "_, xmax = ax.get_xlim()\n",
    "ymin, ymax = ax.get_ylim()\n",
    "ax.set_xlim(-15, xmax)\n",
    "ax.set_ylim(ymin, ymax + 25)  # make room for the legend\n",
    "ax.text(xmax, -5, \"km\", ha=\"right\", va=\"top\", size=14)\n",
    "plt.legend(ncol=5, loc=\"upper left\")\n",
    "\n",
    "plt.tight_layout()\n",
    "plt.show()"
   ]
  }
 ],
 "metadata": {
  "kernelspec": {
   "display_name": "cyclops",
   "language": "python",
   "name": "cyclops"
  },
  "language_info": {
   "codemirror_mode": {
    "name": "ipython",
    "version": 3
   },
   "file_extension": ".py",
   "mimetype": "text/x-python",
   "name": "python",
   "nbconvert_exporter": "python",
   "pygments_lexer": "ipython3",
   "version": "3.9.7"
  }
 },
 "nbformat": 4,
 "nbformat_minor": 5
}
