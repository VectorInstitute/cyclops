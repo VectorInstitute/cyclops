{
 "cells": [
  {
   "cell_type": "code",
   "execution_count": null,
   "id": "79d1f42a",
   "metadata": {},
   "outputs": [],
   "source": [
    "import os\n",
    "import sys\n",
    "\n",
    "sys.path.append(\"..\")\n",
    "\n",
    "import re\n",
    "from collections import OrderedDict\n",
    "\n",
    "import config\n",
    "import matplotlib\n",
    "import matplotlib.pyplot as plt\n",
    "import numpy as np\n",
    "import pandas as pd\n",
    "import sqlalchemy\n",
    "from evidently import ColumnMapping\n",
    "from evidently.dashboard import Dashboard\n",
    "from evidently.dashboard.tabs import DataQualityTab\n",
    "from evidently.model_profile import Profile\n",
    "from evidently.model_profile.sections import DataQualityProfileSection\n",
    "from sqlalchemy import desc, func, select\n",
    "from sqlalchemy.sql.expression import and_, or_\n",
    "\n",
    "import cyclops\n",
    "import cyclops.query_mimic as qm\n",
    "import cyclops.query_utils as q_utils\n",
    "from cyclops.orm import Database\n",
    "from cyclops.processors.column_names import (\n",
    "    ADMIT_TIMESTAMP,\n",
    "    AGE,\n",
    "    DIAGNOSIS_CODE,\n",
    "    ENCOUNTER_ID,\n",
    "    HOSPITAL_ID,\n",
    "    LAB_TEST_NAME,\n",
    "    LAB_TEST_RESULT_UNIT,\n",
    "    LAB_TEST_RESULT_VALUE,\n",
    "    LAB_TEST_TIMESTAMP,\n",
    "    REFERENCE_RANGE,\n",
    ")\n",
    "from cyclops.processors.diagnosis_codes import DiagnosisProcessor\n",
    "from cyclops.processors.feature_handler import FeatureHandler\n",
    "from cyclops.processors.labs import LabsProcessor\n",
    "from cyclops.queries import query_gemini_delirium_diagnosis, query_gemini_delirium_lab\n",
    "\n",
    "%load_ext autoreload\n",
    "%autoreload 2 # Load when external files are updated\n",
    "%load_ext nb_black"
   ]
  },
  {
   "cell_type": "markdown",
   "id": "14c99ee8",
   "metadata": {},
   "source": [
    "# Setup ORM"
   ]
  },
  {
   "cell_type": "code",
   "execution_count": null,
   "id": "fe09d172",
   "metadata": {},
   "outputs": [],
   "source": [
    "os.environ[\"USER\"] = \"postgres\"\n",
    "os.environ[\"PGPASSWORD\"] = \"pwd\"\n",
    "cfg = config.read_config(\"../configs/default/*.yaml\")\n",
    "db = Database(cfg)"
   ]
  },
  {
   "cell_type": "markdown",
   "id": "8691957e",
   "metadata": {},
   "source": [
    "MIMIC EDA\n",
    "See sample_code/delirium.ipynb\n",
    "\n",
    "In sample_code/data_layer.ipynb:\n",
    "from evidently.dashboard.tabs import DataQualityTab"
   ]
  },
  {
   "cell_type": "markdown",
   "id": "2dc76685",
   "metadata": {},
   "source": [
    "# Feature extraction"
   ]
  },
  {
   "cell_type": "code",
   "execution_count": null,
   "id": "a31cf107",
   "metadata": {},
   "outputs": [],
   "source": [
    "from cyclops.processors.column_names import DIAGNOSIS_CODE, ENCOUNTER_ID"
   ]
  },
  {
   "cell_type": "code",
   "execution_count": null,
   "id": "9078fcbf",
   "metadata": {},
   "outputs": [],
   "source": [
    "query = qm.patient_diagnoses(db, version=10, include_icd_title=True)\n",
    "query = qm.join_with_patients(db, query)\n",
    "query = q_utils.drop_attributes(\n",
    "    query,\n",
    "    [\n",
    "        \"anchor_year\",\n",
    "        \"dod\",\n",
    "        \"anchor_year_group_start\",\n",
    "        \"anchor_year_group_end\",\n",
    "        \"year\",\n",
    "        \"anchor_year_difference\",\n",
    "    ],\n",
    ")\n",
    "query = q_utils.rename_attributes(\n",
    "    query, {\"hadm_id\": ENCOUNTER_ID, \"icd_code\": DIAGNOSIS_CODE, \"anchor_age\": \"age\"}\n",
    ")\n",
    "\n",
    "data = db.run_query(query)\n",
    "data"
   ]
  },
  {
   "cell_type": "markdown",
   "id": "abee4ef5",
   "metadata": {},
   "source": [
    "## Target"
   ]
  },
  {
   "cell_type": "markdown",
   "id": "bb319d2e",
   "metadata": {},
   "source": [
    "We have all data we need, so we can determine the targets. In this case, it's any code relating to delirium:"
   ]
  },
  {
   "cell_type": "code",
   "execution_count": null,
   "id": "4e25d88c",
   "metadata": {},
   "outputs": [],
   "source": [
    "data[\"target\"] = data[\"icd_title\"].str.contains(\"delirium\", case=False)\n",
    "data.head()"
   ]
  },
  {
   "cell_type": "markdown",
   "id": "e97cb72f",
   "metadata": {},
   "source": [
    "Get encounter IDs where they have the target diagnoses"
   ]
  },
  {
   "cell_type": "code",
   "execution_count": null,
   "id": "2e5e482a",
   "metadata": {},
   "outputs": [],
   "source": [
    "target_encounters = data[ENCOUNTER_ID][data[\"target\"]].drop_duplicates().to_numpy()\n",
    "target_encounters"
   ]
  },
  {
   "cell_type": "markdown",
   "id": "02ef73ca",
   "metadata": {},
   "source": [
    "Alternatively, we could have queried this data again:"
   ]
  },
  {
   "cell_type": "code",
   "execution_count": null,
   "id": "32ad90f5",
   "metadata": {},
   "outputs": [],
   "source": [
    "query = qm.patient_diagnoses_by_substring(db, \"delirium\", version=10)\n",
    "query = q_utils.rename_attributes(\n",
    "    query, {\"hadm_id\": ENCOUNTER_ID, \"icd_code\": DIAGNOSIS_CODE}\n",
    ")\n",
    "target_df = db.run_query(query)\n",
    "target_df.head()"
   ]
  },
  {
   "cell_type": "code",
   "execution_count": null,
   "id": "a8418c68",
   "metadata": {},
   "outputs": [],
   "source": [
    "target_encounters2 = target_df[ENCOUNTER_ID].values\n",
    "target_encounters2"
   ]
  },
  {
   "cell_type": "markdown",
   "id": "1441d1ec",
   "metadata": {},
   "source": [
    "Aside from the order, these are identical:"
   ]
  },
  {
   "cell_type": "code",
   "execution_count": null,
   "id": "391f3c68",
   "metadata": {},
   "outputs": [],
   "source": [
    "set(target_encounters) == set(target_encounters2)"
   ]
  },
  {
   "cell_type": "markdown",
   "id": "17ccebc6",
   "metadata": {},
   "source": [
    "## Features"
   ]
  },
  {
   "cell_type": "code",
   "execution_count": null,
   "id": "b13833d8",
   "metadata": {},
   "outputs": [],
   "source": [
    "must_have_columns = [ENCOUNTER_ID, DIAGNOSIS_CODE]\n",
    "data_diagnosis = data[must_have_columns]\n",
    "\n",
    "diagnosis_processor = DiagnosisProcessor(data_diagnosis, must_have_columns)\n",
    "diagnosis_features = diagnosis_processor.process()\n",
    "diagnosis_features.index.names = [ENCOUNTER_ID]\n",
    "diagnosis_features.head()"
   ]
  },
  {
   "cell_type": "markdown",
   "id": "a9ff37fd",
   "metadata": {},
   "source": [
    "### Patient statics features"
   ]
  },
  {
   "cell_type": "code",
   "execution_count": null,
   "id": "3007c6c2",
   "metadata": {},
   "outputs": [],
   "source": [
    "# Get statics\n",
    "statics = data[[ENCOUNTER_ID, \"gender\", \"age\"]]\n",
    "statics.head()"
   ]
  },
  {
   "cell_type": "code",
   "execution_count": null,
   "id": "d19752ec",
   "metadata": {},
   "outputs": [],
   "source": [
    "# Join features with statics\n",
    "diagnosis_features = pd.merge(diagnosis_features, statics, on=ENCOUNTER_ID)\n",
    "diagnosis_features.set_index(ENCOUNTER_ID, inplace=True)\n",
    "diagnosis_features.head()"
   ]
  },
  {
   "cell_type": "markdown",
   "id": "13192a6c",
   "metadata": {},
   "source": [
    "## Label leakage"
   ]
  },
  {
   "cell_type": "code",
   "execution_count": null,
   "id": "9e952ced",
   "metadata": {},
   "outputs": [],
   "source": [
    "# Check to make sure none of the feature code overlap with the target codes\n",
    "target_codes = set(data[DIAGNOSIS_CODE][data[\"target\"]].values)\n",
    "# feature_codes = None\n",
    "# assert len(target_codes.intersection(feature_codes)) == 0"
   ]
  },
  {
   "cell_type": "markdown",
   "id": "87916c0d",
   "metadata": {},
   "source": [
    "## Combine features and target"
   ]
  },
  {
   "cell_type": "code",
   "execution_count": null,
   "id": "aa7cc3a4",
   "metadata": {},
   "outputs": [],
   "source": [
    "is_target = np.in1d(diagnosis_features.index, target_encounters)\n",
    "diagnosis_features[\"target\"] = is_target.astype(int)\n",
    "diagnosis_features.head()"
   ]
  },
  {
   "cell_type": "code",
   "execution_count": null,
   "id": "0e570098",
   "metadata": {},
   "outputs": [],
   "source": [
    "# Percentage of true targets\n",
    "diagnosis_features[\"target\"].sum() / len(diagnosis_features)"
   ]
  },
  {
   "cell_type": "markdown",
   "id": "14ec35c7",
   "metadata": {},
   "source": [
    "### AGE BROKEN - FIX\n",
    "\n",
    "NOTE: I still think some of the ages shouldn't be 0 when they are.\n",
    "\n",
    "This age doesn't actually correspond to the hospital visit? Need to sort this out. Where is the approx year in the hospital table?"
   ]
  },
  {
   "cell_type": "markdown",
   "id": "9fcc776e",
   "metadata": {},
   "source": [
    "# Feature Store"
   ]
  },
  {
   "cell_type": "markdown",
   "id": "7333d882",
   "metadata": {},
   "source": [
    "## Dataset Prep"
   ]
  },
  {
   "cell_type": "markdown",
   "id": "b5e0a3a6",
   "metadata": {},
   "source": [
    "Introduction: https://docs.feast.dev/\n",
    "\n",
    "Quickstart: https://docs.feast.dev/getting-started/quickstart\n",
    "\n",
    "Quickstart Colab: https://colab.research.google.com/github/feast-dev/feast/blob/master/examples/quickstart/quickstart.ipynb\n",
    "\n",
    "Feature Repository: https://docs.feast.dev/reference/feature-repository\n",
    "\n"
   ]
  },
  {
   "cell_type": "code",
   "execution_count": null,
   "id": "127e1ed2",
   "metadata": {},
   "outputs": [],
   "source": [
    "%%sh\n",
    "pip install wheel\n",
    "pip install feast -U -q\n",
    "pip install Pygments -q\n",
    "echo \"Please restart your runtime now (Runtime -> Restart runtime). This ensures that the correct dependencies are loaded.\""
   ]
  },
  {
   "cell_type": "code",
   "execution_count": null,
   "id": "4d9fc342",
   "metadata": {},
   "outputs": [],
   "source": [
    "!feast init feature_repo"
   ]
  },
  {
   "cell_type": "code",
   "execution_count": null,
   "id": "1f9f11ad",
   "metadata": {},
   "outputs": [],
   "source": [
    "%cd feature_repo\n",
    "!ls -R"
   ]
  },
  {
   "cell_type": "code",
   "execution_count": null,
   "id": "0ea94280",
   "metadata": {},
   "outputs": [],
   "source": [
    "!pygmentize feature_store.yaml"
   ]
  },
  {
   "cell_type": "code",
   "execution_count": null,
   "id": "a66000bb",
   "metadata": {},
   "outputs": [],
   "source": [
    "import pandas as pd\n",
    "\n",
    "pd.read_parquet(\"data/driver_stats.parquet\")"
   ]
  },
  {
   "cell_type": "code",
   "execution_count": null,
   "id": "9494de0e",
   "metadata": {},
   "outputs": [],
   "source": [
    "!pygmentize -f terminal16m example.py"
   ]
  },
  {
   "cell_type": "code",
   "execution_count": null,
   "id": "a8bd50cc",
   "metadata": {},
   "outputs": [],
   "source": [
    "!feast apply"
   ]
  },
  {
   "cell_type": "code",
   "execution_count": null,
   "id": "ebc956b1",
   "metadata": {},
   "outputs": [],
   "source": [
    "from datetime import datetime, timedelta\n",
    "\n",
    "import pandas as pd\n",
    "from feast import FeatureStore\n",
    "\n",
    "# The entity dataframe is the dataframe we want to enrich with feature values\n",
    "entity_df = pd.DataFrame.from_dict(\n",
    "    {\n",
    "        \"driver_id\": [1001, 1002, 1003],\n",
    "        \"label_driver_reported_satisfaction\": [1, 5, 3],\n",
    "        \"event_timestamp\": [\n",
    "            datetime.now() - timedelta(minutes=11),\n",
    "            datetime.now() - timedelta(minutes=36),\n",
    "            datetime.now() - timedelta(minutes=73),\n",
    "        ],\n",
    "    }\n",
    ")\n",
    "\n",
    "store = FeatureStore(repo_path=\".\")\n",
    "\n",
    "training_df = store.get_historical_features(\n",
    "    entity_df=entity_df,\n",
    "    features=[\n",
    "        \"driver_hourly_stats:conv_rate\",\n",
    "        \"driver_hourly_stats:acc_rate\",\n",
    "        \"driver_hourly_stats:avg_daily_trips\",\n",
    "    ],\n",
    ").to_df()\n",
    "\n",
    "print(\"----- Feature schema -----\\n\")\n",
    "print(training_df.info())\n",
    "\n",
    "print()\n",
    "print(\"----- Example features -----\\n\")\n",
    "print(training_df.head())"
   ]
  },
  {
   "cell_type": "code",
   "execution_count": null,
   "id": "a26516eb",
   "metadata": {},
   "outputs": [],
   "source": [
    "from datetime import datetime\n",
    "\n",
    "!feast materialize-incremental {datetime.now().isoformat()}"
   ]
  },
  {
   "cell_type": "code",
   "execution_count": null,
   "id": "412c00e7",
   "metadata": {},
   "outputs": [],
   "source": [
    "print(\"--- Data directory ---\")\n",
    "!ls data\n",
    "\n",
    "import sqlite3\n",
    "\n",
    "import pandas as pd\n",
    "\n",
    "con = sqlite3.connect(\"data/online_store.db\")\n",
    "print(\"\\n--- Schema of online store ---\")\n",
    "print(\n",
    "    pd.read_sql_query(\n",
    "        \"SELECT * FROM feature_repo_driver_hourly_stats\", con\n",
    "    ).columns.tolist()\n",
    ")\n",
    "con.close()"
   ]
  },
  {
   "cell_type": "code",
   "execution_count": null,
   "id": "00e68adc",
   "metadata": {},
   "outputs": [],
   "source": [
    "from pprint import pprint\n",
    "\n",
    "from feast import FeatureStore\n",
    "\n",
    "store = FeatureStore(repo_path=\".\")\n",
    "\n",
    "feature_vector = store.get_online_features(\n",
    "    features=[\n",
    "        \"driver_hourly_stats:conv_rate\",\n",
    "        \"driver_hourly_stats:acc_rate\",\n",
    "        \"driver_hourly_stats:avg_daily_trips\",\n",
    "    ],\n",
    "    entity_rows=[\n",
    "        {\"driver_id\": 1004},\n",
    "        {\"driver_id\": 1005},\n",
    "    ],\n",
    ").to_dict()\n",
    "\n",
    "pprint(feature_vector)"
   ]
  },
  {
   "cell_type": "markdown",
   "id": "6d66a5d1",
   "metadata": {},
   "source": [
    "# H20 Baseline Handler"
   ]
  },
  {
   "cell_type": "code",
   "execution_count": null,
   "id": "2120ae9e",
   "metadata": {},
   "outputs": [],
   "source": [
    "!pip install h2o"
   ]
  },
  {
   "cell_type": "code",
   "execution_count": null,
   "id": "d8ee5d62",
   "metadata": {},
   "outputs": [],
   "source": [
    "import h2o\n",
    "from h2o.automl import H2OAutoML\n",
    "\n",
    "h2o.init()"
   ]
  },
  {
   "cell_type": "code",
   "execution_count": null,
   "id": "cf18916d",
   "metadata": {},
   "outputs": [],
   "source": [
    "# EMPTY STRING COLUMN CAUSING ISSUES?\n",
    "diagnosis_features = diagnosis_features.drop([\"\"], axis=1)"
   ]
  },
  {
   "cell_type": "code",
   "execution_count": null,
   "id": "af5018e0",
   "metadata": {},
   "outputs": [],
   "source": [
    "frame = h2o.H2OFrame(diagnosis_features)\n",
    "\n",
    "# Convert variables to categorical\n",
    "# asfactor(): Convert column/columns in the current frame to categoricals.\n",
    "for c in frame.columns:\n",
    "    # All columns are categorical (diagnoses/gender), except for age\n",
    "    if c != \"age\":\n",
    "        frame[c] = frame[c].asfactor()\n",
    "\n",
    "training_frame, validation_frame = frame.split_frame(ratios=[0.8], seed=1234)"
   ]
  },
  {
   "cell_type": "code",
   "execution_count": null,
   "id": "16ebdd9b",
   "metadata": {},
   "outputs": [],
   "source": [
    "len(training_frame)"
   ]
  },
  {
   "cell_type": "code",
   "execution_count": null,
   "id": "1bdb34f9",
   "metadata": {},
   "outputs": [],
   "source": [
    "len(validation_frame)"
   ]
  },
  {
   "cell_type": "code",
   "execution_count": null,
   "id": "97941d04",
   "metadata": {},
   "outputs": [],
   "source": [
    "y = \"target\"\n",
    "x = [i for i in list(diagnosis_features.columns) if i != y]"
   ]
  },
  {
   "cell_type": "code",
   "execution_count": null,
   "id": "d8a6a967",
   "metadata": {},
   "outputs": [],
   "source": [
    "# AN ASIDE: Is this of any use to us, perhaps in the feature handler?\n",
    "\"\"\"\n",
    "# Automatic label preprocessing?\n",
    "from sklearn.preprocessing import LabelEncoder\n",
    "\n",
    "label = LabelEncoder()\n",
    "train_x = train_x.apply(\n",
    "    lambda col: label.fit_transform(col), axis=0, result_type=\"expand\"\n",
    ")\n",
    "test_x = test_x.apply(\n",
    "    lambda col: label.fit_transform(col), axis=0, result_type=\"expand\"\n",
    ")\n",
    "train_x\n",
    "\"\"\""
   ]
  },
  {
   "cell_type": "code",
   "execution_count": null,
   "id": "890bd61a",
   "metadata": {},
   "outputs": [],
   "source": [
    "automl = H2OAutoML(max_models=30, max_runtime_secs=300, seed=1, balance_classes=True)\n",
    "automl.train(x=x, y=y, training_frame=training_frame, validation_frame=validation_frame)\n",
    "leader = automl.leaderboard\n",
    "leader.head()"
   ]
  },
  {
   "cell_type": "code",
   "execution_count": null,
   "id": "b9044786",
   "metadata": {},
   "outputs": [],
   "source": [
    "leader.head(rows=leader.nrows)  # Entire leaderboard"
   ]
  },
  {
   "cell_type": "code",
   "execution_count": null,
   "id": "7048b984",
   "metadata": {},
   "outputs": [],
   "source": [
    "automl.leader.params.keys()"
   ]
  },
  {
   "cell_type": "code",
   "execution_count": null,
   "id": "7bdcc05d",
   "metadata": {},
   "outputs": [],
   "source": [
    "m = h2o.get_model(automl.leader)"
   ]
  },
  {
   "cell_type": "code",
   "execution_count": null,
   "id": "cdfbacab",
   "metadata": {},
   "outputs": [],
   "source": [
    "pred = automl.leader.predict(validation_frame)\n",
    "pred_df = pred.as_data_frame(use_pandas=True)\n",
    "pred_df.head()"
   ]
  },
  {
   "cell_type": "code",
   "execution_count": null,
   "id": "f0056c82",
   "metadata": {},
   "outputs": [],
   "source": [
    "true_arr = validation_frame[\"target\"].as_data_frame(use_pandas=True).values[:, 0]\n",
    "true_arr"
   ]
  },
  {
   "cell_type": "code",
   "execution_count": null,
   "id": "fb125322",
   "metadata": {},
   "outputs": [],
   "source": [
    "pred_arr = pred_df[\"predict\"].values\n",
    "pred_arr"
   ]
  },
  {
   "cell_type": "code",
   "execution_count": null,
   "id": "50de774d",
   "metadata": {},
   "outputs": [],
   "source": [
    "(pred_arr == true_arr).sum() / len(validation_frame)"
   ]
  },
  {
   "cell_type": "code",
   "execution_count": null,
   "id": "1bda75d5",
   "metadata": {},
   "outputs": [],
   "source": [
    "from sklearn.metrics import ConfusionMatrixDisplay, confusion_matrix\n",
    "\n",
    "cm = confusion_matrix(true_arr, pred_arr)\n",
    "cmd = ConfusionMatrixDisplay(cm)\n",
    "cmd.from_predictions(true_arr, pred_arr)"
   ]
  }
 ],
 "metadata": {
  "kernelspec": {
   "display_name": "cyclops",
   "language": "python",
   "name": "cyclops"
  },
  "language_info": {
   "codemirror_mode": {
    "name": "ipython",
    "version": 3
   },
   "file_extension": ".py",
   "mimetype": "text/x-python",
   "name": "python",
   "nbconvert_exporter": "python",
   "pygments_lexer": "ipython3",
   "version": "3.9.7"
  }
 },
 "nbformat": 4,
 "nbformat_minor": 5
}
