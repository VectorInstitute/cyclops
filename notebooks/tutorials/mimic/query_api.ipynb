{
 "cells": [
  {
   "cell_type": "markdown",
   "id": "1efffc64",
   "metadata": {},
   "source": [
    "### This notebook shows examples of how to use the cyclops.query API on MIMIC-IV."
   ]
  },
  {
   "cell_type": "markdown",
   "id": "7b6214f8",
   "metadata": {},
   "source": [
    "## Example 1. Get all patient encounters from 2015."
   ]
  },
  {
   "cell_type": "code",
   "execution_count": 1,
   "id": "53009e6b",
   "metadata": {},
   "outputs": [
    {
     "name": "stderr",
     "output_type": "stream",
     "text": [
      "2022-05-04 00:05:44,216 \u001b[1;37mINFO\u001b[0m cyclops.orm     - Database setup, ready to run queries!\n",
      "2022-05-04 00:05:45,544 \u001b[1;37mINFO\u001b[0m cyclops.orm     - Query returned successfully!\n",
      "2022-05-04 00:05:45,545 \u001b[1;37mINFO\u001b[0m cyclops.utils.profile - Finished executing function run_query in 1.322133 s\n"
     ]
    },
    {
     "name": "stdout",
     "output_type": "stream",
     "text": [
      "98084 rows extracted!\n"
     ]
    }
   ],
   "source": [
    "from sqlalchemy import select\n",
    "\n",
    "from cyclops.query import mimic\n",
    "from cyclops.query import utils as query_utils\n",
    "from cyclops.query.interface import QueryInterface\n",
    "\n",
    "patients = mimic.patients(years=[2015])\n",
    "patients.run()\n",
    "print(f\"{len(patients.data)} rows extracted!\")"
   ]
  },
  {
   "cell_type": "markdown",
   "id": "80d9f06e",
   "metadata": {},
   "source": [
    "## Example 2. Get all patient encounters with diagnoses (`schizophrenia` in ICD long title), in the year 2015."
   ]
  },
  {
   "cell_type": "code",
   "execution_count": 2,
   "id": "a89a9cf0",
   "metadata": {},
   "outputs": [
    {
     "name": "stderr",
     "output_type": "stream",
     "text": [
      "2022-05-04 00:05:46,236 \u001b[1;37mINFO\u001b[0m cyclops.orm     - Query returned successfully!\n",
      "2022-05-04 00:05:46,237 \u001b[1;37mINFO\u001b[0m cyclops.utils.profile - Finished executing function run_query in 0.655030 s\n"
     ]
    },
    {
     "name": "stdout",
     "output_type": "stream",
     "text": [
      "5239 rows extracted!\n"
     ]
    },
    {
     "data": {
      "text/plain": [
       "Schizophrenia, unspecified                                                 3116\n",
       "Unspecified schizophrenia, unspecified                                      954\n",
       "Paranoid schizophrenia                                                      451\n",
       "Unspecified schizophrenia, chronic                                          153\n",
       "Paranoid type schizophrenia, unspecified                                    123\n",
       "Catatonic schizophrenia                                                     103\n",
       "Catatonic type schizophrenia, unspecified                                    65\n",
       "Paranoid type schizophrenia, chronic with acute exacerbation                 52\n",
       "Other schizophrenia                                                          43\n",
       "Paranoid type schizophrenia, chronic                                         35\n",
       "Other specified types of schizophrenia, chronic with acute exacerbation      26\n",
       "Other specified types of schizophrenia, unspecified                          25\n",
       "Catatonic type schizophrenia, chronic                                        18\n",
       "Unspecified schizophrenia, chronic with acute exacerbation                   12\n",
       "Disorganized type schizophrenia, unspecified                                 12\n",
       "Personal history of schizophrenia                                            10\n",
       "Residual schizophrenia                                                       10\n",
       "Catatonic type schizophrenia, chronic with acute exacerbation                 8\n",
       "Disorganized schizophrenia                                                    8\n",
       "Simple type schizophrenia, unspecified                                        7\n",
       "Paranoid type schizophrenia, subchronic with acute exacerbation               4\n",
       "Undifferentiated schizophrenia                                                2\n",
       "Disorganized type schizophrenia, chronic with acute exacerbation              2\n",
       "Name: icd_title, dtype: int64"
      ]
     },
     "execution_count": 2,
     "metadata": {},
     "output_type": "execute_result"
    }
   ],
   "source": [
    "patients = mimic.patients(years=[2015])\n",
    "patients_schizophrenia = mimic.diagnoses(substring=\"schizophrenia\", patients=patients)\n",
    "patients_schizophrenia.run()\n",
    "print(f\"{len(patients_schizophrenia.data)} rows extracted!\")\n",
    "patients_schizophrenia.data[\"icd_title\"].value_counts()"
   ]
  },
  {
   "cell_type": "markdown",
   "id": "e2baea54",
   "metadata": {},
   "source": [
    "## Example 3. Advanced - uses regexp_match from sqlalchemy. Get all patient encounters with diagnoses (ICD long title contains `schizophrenia` and `chronic` ), in the year 2015."
   ]
  },
  {
   "cell_type": "code",
   "execution_count": 3,
   "id": "03936cee",
   "metadata": {},
   "outputs": [
    {
     "name": "stderr",
     "output_type": "stream",
     "text": [
      "2022-05-04 00:05:47,353 \u001b[1;37mINFO\u001b[0m cyclops.orm     - Query returned successfully!\n",
      "2022-05-04 00:05:47,354 \u001b[1;37mINFO\u001b[0m cyclops.utils.profile - Finished executing function run_query in 1.095409 s\n"
     ]
    },
    {
     "name": "stdout",
     "output_type": "stream",
     "text": [
      "310 rows extracted!\n"
     ]
    }
   ],
   "source": [
    "patients = mimic.patients(years=[2015])\n",
    "diagnoses = mimic.diagnoses(patients=patients)\n",
    "subquery = (\n",
    "    select(diagnoses.query)\n",
    "    .where(diagnoses.query.c.icd_title.regexp_match(\"(?=.*schizophrenia)(?=.*chronic)\"))\n",
    "    .subquery()\n",
    ")\n",
    "patients_schizophrenia_chronic = diagnoses\n",
    "patients_schizophrenia_chronic.query = subquery\n",
    "patients_schizophrenia_chronic.run()\n",
    "print(f\"{len(patients_schizophrenia_chronic.data)} rows extracted!\")"
   ]
  },
  {
   "cell_type": "markdown",
   "id": "88e7bf6d",
   "metadata": {},
   "source": [
    "## Example 4. Advanced - uses cyclops.query.utils.starts_with helper function. Get all patient encounters with diagnoses (starts with `Paranoid` in ICD long title), in the year 2015."
   ]
  },
  {
   "cell_type": "code",
   "execution_count": 4,
   "id": "f3f05615",
   "metadata": {},
   "outputs": [
    {
     "name": "stderr",
     "output_type": "stream",
     "text": [
      "2022-05-04 00:05:51,815 \u001b[1;37mINFO\u001b[0m cyclops.orm     - Query returned successfully!\n",
      "2022-05-04 00:05:51,816 \u001b[1;37mINFO\u001b[0m cyclops.utils.profile - Finished executing function run_query in 4.443091 s\n"
     ]
    },
    {
     "name": "stdout",
     "output_type": "stream",
     "text": [
      "710 rows extracted!\n"
     ]
    }
   ],
   "source": [
    "patients = mimic.patients(years=[2015])\n",
    "diagnoses = mimic.diagnoses(patients=patients)\n",
    "subquery = (\n",
    "    select(diagnoses.query)\n",
    "    .where(query_utils.starts_with(diagnoses.query.c.icd_title, \"Paranoid\"))\n",
    "    .subquery()\n",
    ")\n",
    "patients_schizophrenia = diagnoses\n",
    "patients_schizophrenia.query = subquery\n",
    "patients_schizophrenia.run()\n",
    "print(f\"{len(patients_schizophrenia.data)} rows extracted!\")"
   ]
  },
  {
   "cell_type": "markdown",
   "id": "d093543f",
   "metadata": {},
   "source": [
    "## Example 5. Get all patient encounters with diagnoses (ICD code is F209)."
   ]
  },
  {
   "cell_type": "code",
   "execution_count": 5,
   "id": "105be34a",
   "metadata": {},
   "outputs": [
    {
     "name": "stderr",
     "output_type": "stream",
     "text": [
      "2022-05-04 00:05:53,639 \u001b[1;37mINFO\u001b[0m cyclops.orm     - Query returned successfully!\n",
      "2022-05-04 00:05:53,640 \u001b[1;37mINFO\u001b[0m cyclops.utils.profile - Finished executing function run_query in 1.810511 s\n"
     ]
    },
    {
     "name": "stdout",
     "output_type": "stream",
     "text": [
      "14818 rows extracted!\n"
     ]
    }
   ],
   "source": [
    "patients = mimic.patients()\n",
    "patients_f209 = mimic.diagnoses(diagnosis_codes=[\"F209\"], patients=patients)\n",
    "patients_f209.run()\n",
    "print(f\"{len(patients_f209.data)} rows extracted!\")"
   ]
  },
  {
   "cell_type": "markdown",
   "id": "569ac1b0",
   "metadata": {},
   "source": [
    "## Example 6. Get all patient encounters with diagnoses (`delirium` in ICD long title)."
   ]
  },
  {
   "cell_type": "code",
   "execution_count": 6,
   "id": "73a46650",
   "metadata": {},
   "outputs": [
    {
     "name": "stderr",
     "output_type": "stream",
     "text": [
      "2022-05-04 00:05:55,207 \u001b[1;37mINFO\u001b[0m cyclops.orm     - Query returned successfully!\n",
      "2022-05-04 00:05:55,208 \u001b[1;37mINFO\u001b[0m cyclops.utils.profile - Finished executing function run_query in 1.559107 s\n"
     ]
    },
    {
     "name": "stdout",
     "output_type": "stream",
     "text": [
      "52482 rows extracted!\n"
     ]
    }
   ],
   "source": [
    "patients = mimic.patients()\n",
    "patients_delirium = mimic.diagnoses(substring=\"delirium\", patients=patients)\n",
    "patients_delirium.run()\n",
    "print(f\"{len(patients_delirium.data)} rows extracted!\")"
   ]
  },
  {
   "cell_type": "markdown",
   "id": "30b0d604",
   "metadata": {},
   "source": [
    "## Example 7. Get routine vital signs for patients from year 2015, limit to 100 rows."
   ]
  },
  {
   "cell_type": "code",
   "execution_count": 7,
   "id": "56a72377",
   "metadata": {},
   "outputs": [
    {
     "name": "stderr",
     "output_type": "stream",
     "text": [
      "2022-05-04 00:07:22,241 \u001b[1;37mINFO\u001b[0m cyclops.orm     - Query returned successfully!\n",
      "2022-05-04 00:07:22,245 \u001b[1;37mINFO\u001b[0m cyclops.utils.profile - Finished executing function run_query in 87.027072 s\n"
     ]
    },
    {
     "name": "stdout",
     "output_type": "stream",
     "text": [
      "100 rows extracted!\n"
     ]
    }
   ],
   "source": [
    "patients = mimic.patients(years=[2015])\n",
    "patients_vitals = mimic.events(category=\"Routine Vital Signs\", patients=patients)\n",
    "patients_vitals.run(limit=100)\n",
    "print(f\"{len(patients_vitals.data)} rows extracted!\")"
   ]
  },
  {
   "cell_type": "markdown",
   "id": "621479f0",
   "metadata": {},
   "source": [
    "## Example 8. Get hemoglobin lab tests for patients from year 2009, limit to 100 rows."
   ]
  },
  {
   "cell_type": "code",
   "execution_count": 8,
   "id": "bce11f81",
   "metadata": {
    "scrolled": false
   },
   "outputs": [
    {
     "name": "stderr",
     "output_type": "stream",
     "text": [
      "2022-05-04 00:07:49,881 \u001b[1;37mINFO\u001b[0m cyclops.orm     - Query returned successfully!\n",
      "2022-05-04 00:07:49,887 \u001b[1;37mINFO\u001b[0m cyclops.utils.profile - Finished executing function run_query in 27.629638 s\n"
     ]
    },
    {
     "name": "stdout",
     "output_type": "stream",
     "text": [
      "100 rows extracted!\n"
     ]
    }
   ],
   "source": [
    "patients = mimic.patients(years=[2009])\n",
    "patients_hemo_labs = mimic.events(\n",
    "    category=\"labs\", patients=patients, names=\"hemoglobin\"\n",
    ")\n",
    "patients_hemo_labs.run(limit=100)\n",
    "print(f\"{len(patients_hemo_labs.data)} rows extracted!\")"
   ]
  },
  {
   "cell_type": "markdown",
   "id": "93e28422",
   "metadata": {},
   "source": [
    "## Example 9. Get all lab events for patients from year 2010, that match substring \"sodium\", limit to 100 rows."
   ]
  },
  {
   "cell_type": "code",
   "execution_count": 9,
   "id": "9a6aeef6",
   "metadata": {},
   "outputs": [
    {
     "name": "stderr",
     "output_type": "stream",
     "text": [
      "2022-05-04 00:08:17,738 \u001b[1;37mINFO\u001b[0m cyclops.orm     - Query returned successfully!\n",
      "2022-05-04 00:08:17,743 \u001b[1;37mINFO\u001b[0m cyclops.utils.profile - Finished executing function run_query in 27.846090 s\n"
     ]
    },
    {
     "name": "stdout",
     "output_type": "stream",
     "text": [
      "100 rows extracted!\n"
     ]
    }
   ],
   "source": [
    "patients = mimic.patients(years=[2009])\n",
    "patients_sodium_labs = mimic.events(\n",
    "    category=\"labs\", patients=patients, substring=\"sodium\"\n",
    ")\n",
    "patients_sodium_labs.run(limit=100)\n",
    "print(f\"{len(patients_sodium_labs.data)} rows extracted!\")"
   ]
  },
  {
   "cell_type": "markdown",
   "id": "7d5d0e20",
   "metadata": {},
   "source": [
    "## Example 10. Get respiratory events for patients from year 2009, limit to 100 rows."
   ]
  },
  {
   "cell_type": "code",
   "execution_count": 10,
   "id": "e9fc83e3",
   "metadata": {},
   "outputs": [
    {
     "name": "stderr",
     "output_type": "stream",
     "text": [
      "2022-05-04 00:09:31,550 \u001b[1;37mINFO\u001b[0m cyclops.orm     - Query returned successfully!\n",
      "2022-05-04 00:09:31,555 \u001b[1;37mINFO\u001b[0m cyclops.utils.profile - Finished executing function run_query in 73.802191 s\n"
     ]
    },
    {
     "name": "stdout",
     "output_type": "stream",
     "text": [
      "100 rows extracted!\n"
     ]
    }
   ],
   "source": [
    "patients = mimic.patients(years=[2009])\n",
    "patients_respiratory = mimic.events(category=\"Respiratory\", patients=patients)\n",
    "patients_respiratory.run(limit=100)\n",
    "print(f\"{len(patients_respiratory.data)} rows extracted!\")"
   ]
  },
  {
   "cell_type": "markdown",
   "id": "af3c3e3b",
   "metadata": {},
   "source": [
    "## Example 11. Get heart rate measurements of patients with delirium diagnoses, limit to 1000 rows."
   ]
  },
  {
   "cell_type": "code",
   "execution_count": 11,
   "id": "77453d72",
   "metadata": {},
   "outputs": [
    {
     "name": "stderr",
     "output_type": "stream",
     "text": [
      "2022-05-04 00:10:01,194 \u001b[1;37mINFO\u001b[0m cyclops.orm     - Query returned successfully!\n",
      "2022-05-04 00:10:01,199 \u001b[1;37mINFO\u001b[0m cyclops.utils.profile - Finished executing function run_query in 29.610025 s\n"
     ]
    },
    {
     "name": "stdout",
     "output_type": "stream",
     "text": [
      "1000 rows extracted!\n"
     ]
    }
   ],
   "source": [
    "patients = mimic.patients()\n",
    "patients_delirium = mimic.diagnoses(substring=\"delirium\", patients=patients)\n",
    "patients_delirium_heart_rate = mimic.events(\n",
    "    names=\"Heart Rate\", patients=patients_delirium\n",
    ")\n",
    "patients_delirium_heart_rate.run(limit=1000)\n",
    "print(f\"{len(patients_delirium_heart_rate.data)} rows extracted!\")"
   ]
  },
  {
   "cell_type": "markdown",
   "id": "f5efc21c",
   "metadata": {},
   "source": [
    "## Example 12. Get d_items dimension table, for quick reference."
   ]
  },
  {
   "cell_type": "code",
   "execution_count": 12,
   "id": "9feecc43",
   "metadata": {},
   "outputs": [
    {
     "name": "stderr",
     "output_type": "stream",
     "text": [
      "2022-05-04 00:10:01,222 \u001b[1;37mINFO\u001b[0m cyclops.orm     - Query returned successfully!\n",
      "2022-05-04 00:10:01,223 \u001b[1;37mINFO\u001b[0m cyclops.utils.profile - Finished executing function run_query in 0.018595 s\n"
     ]
    },
    {
     "name": "stdout",
     "output_type": "stream",
     "text": [
      "3861 rows extracted!\n"
     ]
    }
   ],
   "source": [
    "event_lookup_table = mimic.get_lookup_table(\"event_labels\")\n",
    "lookup_data = event_lookup_table.run()\n",
    "print(f\"{len(lookup_data)} rows extracted!\")"
   ]
  }
 ],
 "metadata": {
  "kernelspec": {
   "display_name": "Python 3 (ipykernel)",
   "language": "python",
   "name": "python3"
  },
  "language_info": {
   "codemirror_mode": {
    "name": "ipython",
    "version": 3
   },
   "file_extension": ".py",
   "mimetype": "text/x-python",
   "name": "python",
   "nbconvert_exporter": "python",
   "pygments_lexer": "ipython3",
   "version": "3.8.5"
  }
 },
 "nbformat": 4,
 "nbformat_minor": 5
}
