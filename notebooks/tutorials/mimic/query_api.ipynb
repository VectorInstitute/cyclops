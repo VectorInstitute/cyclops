{
 "cells": [
  {
   "cell_type": "markdown",
   "id": "1efffc64",
   "metadata": {},
   "source": [
    "### This notebook shows examples of how to use the cyclops.query API on MIMIC-IV."
   ]
  },
  {
   "cell_type": "markdown",
   "id": "7b6214f8",
   "metadata": {},
   "source": [
    "## Example 1. Get all patient encounters from 2015 (approximate year of care)."
   ]
  },
  {
   "cell_type": "code",
   "execution_count": 15,
   "id": "53009e6b",
   "metadata": {},
   "outputs": [
    {
     "name": "stderr",
     "output_type": "stream",
     "text": [
      "2022-05-04 09:21:46,872 \u001b[1;37mINFO\u001b[0m cyclops.orm     - Query returned successfully!\n",
      "2022-05-04 09:21:46,873 \u001b[1;37mINFO\u001b[0m cyclops.utils.profile - Finished executing function run_query in 6.861594 s\n"
     ]
    },
    {
     "name": "stdout",
     "output_type": "stream",
     "text": [
      "523740 rows extracted!\n"
     ]
    }
   ],
   "source": [
    "from sqlalchemy import select\n",
    "\n",
    "from cyclops.query import mimic\n",
    "from cyclops.query import utils as query_utils\n",
    "from cyclops.query.interface import QueryInterface\n",
    "\n",
    "patients = mimic.patients()\n",
    "patients.run()\n",
    "print(f\"{len(patients.data)} rows extracted!\")"
   ]
  },
  {
   "cell_type": "code",
   "execution_count": 20,
   "id": "2e2a9bf6",
   "metadata": {},
   "outputs": [
    {
     "data": {
      "text/plain": [
       "256878"
      ]
     },
     "execution_count": 20,
     "metadata": {},
     "output_type": "execute_result"
    }
   ],
   "source": [
    "patients.data[\"subject_id\"].nunique()"
   ]
  },
  {
   "cell_type": "markdown",
   "id": "80d9f06e",
   "metadata": {},
   "source": [
    "## Example 2. Get all patient encounters with diagnoses (`schizophrenia` in ICD long title), in the year 2015."
   ]
  },
  {
   "cell_type": "code",
   "execution_count": 2,
   "id": "a89a9cf0",
   "metadata": {},
   "outputs": [
    {
     "name": "stderr",
     "output_type": "stream",
     "text": [
      "2022-05-04 01:25:46,805 \u001b[1;37mINFO\u001b[0m cyclops.orm     - Query returned successfully!\n",
      "2022-05-04 01:25:46,806 \u001b[1;37mINFO\u001b[0m cyclops.utils.profile - Finished executing function run_query in 0.852207 s\n"
     ]
    },
    {
     "name": "stdout",
     "output_type": "stream",
     "text": [
      "802 rows extracted!\n"
     ]
    },
    {
     "data": {
      "text/plain": [
       "Schizophrenia, unspecified                                                 380\n",
       "Unspecified schizophrenia, unspecified                                     179\n",
       "Paranoid schizophrenia                                                      77\n",
       "Paranoid type schizophrenia, unspecified                                    51\n",
       "Catatonic schizophrenia                                                     21\n",
       "Unspecified schizophrenia, chronic                                          17\n",
       "Paranoid type schizophrenia, chronic with acute exacerbation                12\n",
       "Paranoid type schizophrenia, chronic                                        12\n",
       "Other schizophrenia                                                         10\n",
       "Other specified types of schizophrenia, unspecified                          8\n",
       "Catatonic type schizophrenia, unspecified                                    7\n",
       "Unspecified schizophrenia, chronic with acute exacerbation                   4\n",
       "Disorganized schizophrenia                                                   4\n",
       "Other specified types of schizophrenia, chronic with acute exacerbation      4\n",
       "Catatonic type schizophrenia, chronic with acute exacerbation                4\n",
       "Personal history of schizophrenia                                            3\n",
       "Paranoid type schizophrenia, subchronic with acute exacerbation              2\n",
       "Residual schizophrenia                                                       2\n",
       "Undifferentiated schizophrenia                                               1\n",
       "Disorganized type schizophrenia, unspecified                                 1\n",
       "Catatonic type schizophrenia, chronic                                        1\n",
       "Disorganized type schizophrenia, chronic with acute exacerbation             1\n",
       "Simple type schizophrenia, unspecified                                       1\n",
       "Name: icd_title, dtype: int64"
      ]
     },
     "execution_count": 2,
     "metadata": {},
     "output_type": "execute_result"
    }
   ],
   "source": [
    "patients = mimic.patients(years=[2015])\n",
    "patients_schizophrenia = mimic.diagnoses(substring=\"schizophrenia\", patients=patients)\n",
    "patients_schizophrenia.run()\n",
    "print(f\"{len(patients_schizophrenia.data)} rows extracted!\")\n",
    "patients_schizophrenia.data[\"icd_title\"].value_counts()"
   ]
  },
  {
   "cell_type": "markdown",
   "id": "e2baea54",
   "metadata": {},
   "source": [
    "## Example 3. Advanced - uses regexp_match from sqlalchemy. Get all patient encounters with diagnoses (ICD long title contains `schizophrenia` and `chronic` ), in the year 2015."
   ]
  },
  {
   "cell_type": "code",
   "execution_count": 3,
   "id": "03936cee",
   "metadata": {},
   "outputs": [
    {
     "name": "stderr",
     "output_type": "stream",
     "text": [
      "2022-05-04 01:25:48,172 \u001b[1;37mINFO\u001b[0m cyclops.orm     - Query returned successfully!\n",
      "2022-05-04 01:25:48,173 \u001b[1;37mINFO\u001b[0m cyclops.utils.profile - Finished executing function run_query in 1.347949 s\n"
     ]
    },
    {
     "name": "stdout",
     "output_type": "stream",
     "text": [
      "57 rows extracted!\n"
     ]
    }
   ],
   "source": [
    "patients = mimic.patients(years=[2015])\n",
    "diagnoses = mimic.diagnoses(patients=patients)\n",
    "subquery = (\n",
    "    select(diagnoses.query)\n",
    "    .where(diagnoses.query.c.icd_title.regexp_match(\"(?=.*schizophrenia)(?=.*chronic)\"))\n",
    "    .subquery()\n",
    ")\n",
    "patients_schizophrenia_chronic = diagnoses\n",
    "patients_schizophrenia_chronic.query = subquery\n",
    "patients_schizophrenia_chronic.run()\n",
    "print(f\"{len(patients_schizophrenia_chronic.data)} rows extracted!\")"
   ]
  },
  {
   "cell_type": "markdown",
   "id": "88e7bf6d",
   "metadata": {},
   "source": [
    "## Example 4. Advanced - uses cyclops.query.utils.starts_with helper function. Get all patient encounters with diagnoses (starts with `Paranoid` in ICD long title), in the year 2015."
   ]
  },
  {
   "cell_type": "code",
   "execution_count": 4,
   "id": "f3f05615",
   "metadata": {},
   "outputs": [
    {
     "name": "stderr",
     "output_type": "stream",
     "text": [
      "2022-05-04 01:25:48,994 \u001b[1;37mINFO\u001b[0m cyclops.orm     - Query returned successfully!\n",
      "2022-05-04 01:25:48,995 \u001b[1;37mINFO\u001b[0m cyclops.utils.profile - Finished executing function run_query in 0.803267 s\n"
     ]
    },
    {
     "name": "stdout",
     "output_type": "stream",
     "text": [
      "170 rows extracted!\n"
     ]
    }
   ],
   "source": [
    "patients = mimic.patients(years=[2015])\n",
    "diagnoses = mimic.diagnoses(patients=patients)\n",
    "subquery = (\n",
    "    select(diagnoses.query)\n",
    "    .where(query_utils.starts_with(diagnoses.query.c.icd_title, \"Paranoid\"))\n",
    "    .subquery()\n",
    ")\n",
    "patients_schizophrenia = diagnoses\n",
    "patients_schizophrenia.query = subquery\n",
    "patients_schizophrenia.run()\n",
    "print(f\"{len(patients_schizophrenia.data)} rows extracted!\")"
   ]
  },
  {
   "cell_type": "markdown",
   "id": "d093543f",
   "metadata": {},
   "source": [
    "## Example 5. Get all patient encounters with diagnoses (ICD code is F209)."
   ]
  },
  {
   "cell_type": "code",
   "execution_count": 5,
   "id": "105be34a",
   "metadata": {},
   "outputs": [
    {
     "name": "stderr",
     "output_type": "stream",
     "text": [
      "2022-05-04 01:25:50,880 \u001b[1;37mINFO\u001b[0m cyclops.orm     - Query returned successfully!\n",
      "2022-05-04 01:25:50,881 \u001b[1;37mINFO\u001b[0m cyclops.utils.profile - Finished executing function run_query in 1.866347 s\n"
     ]
    },
    {
     "name": "stdout",
     "output_type": "stream",
     "text": [
      "1442 rows extracted!\n"
     ]
    }
   ],
   "source": [
    "patients = mimic.patients()\n",
    "patients_f209 = mimic.diagnoses(diagnosis_codes=[\"F209\"], patients=patients)\n",
    "patients_f209.run()\n",
    "print(f\"{len(patients_f209.data)} rows extracted!\")"
   ]
  },
  {
   "cell_type": "markdown",
   "id": "569ac1b0",
   "metadata": {},
   "source": [
    "## Example 6. Get all patient encounters with diagnoses (`delirium` in ICD long title)."
   ]
  },
  {
   "cell_type": "code",
   "execution_count": 6,
   "id": "73a46650",
   "metadata": {},
   "outputs": [
    {
     "name": "stderr",
     "output_type": "stream",
     "text": [
      "2022-05-04 01:25:51,806 \u001b[1;37mINFO\u001b[0m cyclops.orm     - Query returned successfully!\n",
      "2022-05-04 01:25:51,807 \u001b[1;37mINFO\u001b[0m cyclops.utils.profile - Finished executing function run_query in 0.914249 s\n"
     ]
    },
    {
     "name": "stdout",
     "output_type": "stream",
     "text": [
      "9087 rows extracted!\n"
     ]
    }
   ],
   "source": [
    "patients = mimic.patients()\n",
    "patients_delirium = mimic.diagnoses(substring=\"delirium\", patients=patients)\n",
    "patients_delirium.run()\n",
    "print(f\"{len(patients_delirium.data)} rows extracted!\")"
   ]
  },
  {
   "cell_type": "markdown",
   "id": "30b0d604",
   "metadata": {},
   "source": [
    "## Example 7. Get routine vital signs for patients from year 2015, limit to 100 rows."
   ]
  },
  {
   "cell_type": "code",
   "execution_count": 7,
   "id": "56a72377",
   "metadata": {},
   "outputs": [
    {
     "name": "stderr",
     "output_type": "stream",
     "text": [
      "2022-05-04 01:26:52,442 \u001b[1;37mINFO\u001b[0m cyclops.orm     - Query returned successfully!\n",
      "2022-05-04 01:26:52,443 \u001b[1;37mINFO\u001b[0m cyclops.utils.profile - Finished executing function run_query in 60.614078 s\n"
     ]
    },
    {
     "name": "stdout",
     "output_type": "stream",
     "text": [
      "100 rows extracted!\n"
     ]
    }
   ],
   "source": [
    "patients = mimic.patients(years=[2015])\n",
    "patients_vitals = mimic.events(category=\"Routine Vital Signs\", patients=patients)\n",
    "patients_vitals.run(limit=100)\n",
    "print(f\"{len(patients_vitals.data)} rows extracted!\")"
   ]
  },
  {
   "cell_type": "markdown",
   "id": "621479f0",
   "metadata": {},
   "source": [
    "## Example 8. Get hemoglobin lab tests for patients from year 2009, limit to 100 rows."
   ]
  },
  {
   "cell_type": "code",
   "execution_count": 8,
   "id": "bce11f81",
   "metadata": {
    "scrolled": false
   },
   "outputs": [
    {
     "name": "stderr",
     "output_type": "stream",
     "text": [
      "2022-05-04 01:27:19,571 \u001b[1;37mINFO\u001b[0m cyclops.orm     - Query returned successfully!\n",
      "2022-05-04 01:27:19,574 \u001b[1;37mINFO\u001b[0m cyclops.utils.profile - Finished executing function run_query in 27.121478 s\n"
     ]
    },
    {
     "name": "stdout",
     "output_type": "stream",
     "text": [
      "100 rows extracted!\n"
     ]
    }
   ],
   "source": [
    "patients = mimic.patients(years=[2009])\n",
    "patients_hemo_labs = mimic.events(\n",
    "    category=\"labs\", patients=patients, names=\"hemoglobin\"\n",
    ")\n",
    "patients_hemo_labs.run(limit=100)\n",
    "print(f\"{len(patients_hemo_labs.data)} rows extracted!\")"
   ]
  },
  {
   "cell_type": "markdown",
   "id": "93e28422",
   "metadata": {},
   "source": [
    "## Example 9. Get all lab events for patients from year 2010, that match substring \"sodium\", limit to 100 rows."
   ]
  },
  {
   "cell_type": "code",
   "execution_count": 9,
   "id": "9a6aeef6",
   "metadata": {},
   "outputs": [
    {
     "name": "stderr",
     "output_type": "stream",
     "text": [
      "2022-05-04 01:27:48,997 \u001b[1;37mINFO\u001b[0m cyclops.orm     - Query returned successfully!\n",
      "2022-05-04 01:27:49,000 \u001b[1;37mINFO\u001b[0m cyclops.utils.profile - Finished executing function run_query in 29.415685 s\n"
     ]
    },
    {
     "name": "stdout",
     "output_type": "stream",
     "text": [
      "100 rows extracted!\n"
     ]
    }
   ],
   "source": [
    "patients = mimic.patients(years=[2009])\n",
    "patients_sodium_labs = mimic.events(\n",
    "    category=\"labs\", patients=patients, substring=\"sodium\"\n",
    ")\n",
    "patients_sodium_labs.run(limit=100)\n",
    "print(f\"{len(patients_sodium_labs.data)} rows extracted!\")"
   ]
  },
  {
   "cell_type": "markdown",
   "id": "7d5d0e20",
   "metadata": {},
   "source": [
    "## Example 10. Get respiratory events for patients from year 2009, limit to 100 rows."
   ]
  },
  {
   "cell_type": "code",
   "execution_count": 10,
   "id": "e9fc83e3",
   "metadata": {},
   "outputs": [
    {
     "name": "stderr",
     "output_type": "stream",
     "text": [
      "2022-05-04 01:28:54,911 \u001b[1;37mINFO\u001b[0m cyclops.orm     - Query returned successfully!\n",
      "2022-05-04 01:28:54,915 \u001b[1;37mINFO\u001b[0m cyclops.utils.profile - Finished executing function run_query in 65.903820 s\n"
     ]
    },
    {
     "name": "stdout",
     "output_type": "stream",
     "text": [
      "100 rows extracted!\n"
     ]
    }
   ],
   "source": [
    "patients = mimic.patients(years=[2009])\n",
    "patients_respiratory = mimic.events(category=\"Respiratory\", patients=patients)\n",
    "patients_respiratory.run(limit=100)\n",
    "print(f\"{len(patients_respiratory.data)} rows extracted!\")"
   ]
  },
  {
   "cell_type": "markdown",
   "id": "af3c3e3b",
   "metadata": {},
   "source": [
    "## Example 11. Get heart rate measurements of patients with delirium diagnoses, limit to 1000 rows."
   ]
  },
  {
   "cell_type": "code",
   "execution_count": 11,
   "id": "77453d72",
   "metadata": {},
   "outputs": [
    {
     "name": "stderr",
     "output_type": "stream",
     "text": [
      "2022-05-04 01:29:24,509 \u001b[1;37mINFO\u001b[0m cyclops.orm     - Query returned successfully!\n",
      "2022-05-04 01:29:24,514 \u001b[1;37mINFO\u001b[0m cyclops.utils.profile - Finished executing function run_query in 29.581928 s\n"
     ]
    },
    {
     "name": "stdout",
     "output_type": "stream",
     "text": [
      "1000 rows extracted!\n"
     ]
    }
   ],
   "source": [
    "patients = mimic.patients()\n",
    "patients_delirium = mimic.diagnoses(substring=\"delirium\", patients=patients)\n",
    "patients_delirium_heart_rate = mimic.events(\n",
    "    names=\"Heart Rate\", patients=patients_delirium\n",
    ")\n",
    "patients_delirium_heart_rate.run(limit=1000)\n",
    "print(f\"{len(patients_delirium_heart_rate.data)} rows extracted!\")"
   ]
  },
  {
   "cell_type": "markdown",
   "id": "f5efc21c",
   "metadata": {},
   "source": [
    "## Example 12. Get d_items dimension table, for quick reference."
   ]
  },
  {
   "cell_type": "code",
   "execution_count": 12,
   "id": "9feecc43",
   "metadata": {},
   "outputs": [
    {
     "name": "stderr",
     "output_type": "stream",
     "text": [
      "2022-05-04 01:29:24,533 \u001b[1;37mINFO\u001b[0m cyclops.orm     - Query returned successfully!\n",
      "2022-05-04 01:29:24,534 \u001b[1;37mINFO\u001b[0m cyclops.utils.profile - Finished executing function run_query in 0.015004 s\n"
     ]
    },
    {
     "name": "stdout",
     "output_type": "stream",
     "text": [
      "3861 rows extracted!\n"
     ]
    }
   ],
   "source": [
    "event_lookup_table = mimic.get_lookup_table(\"event_labels\")\n",
    "lookup_data = event_lookup_table.run()\n",
    "print(f\"{len(lookup_data)} rows extracted!\")"
   ]
  }
 ],
 "metadata": {
  "kernelspec": {
   "display_name": "Python 3 (ipykernel)",
   "language": "python",
   "name": "python3"
  },
  "language_info": {
   "codemirror_mode": {
    "name": "ipython",
    "version": 3
   },
   "file_extension": ".py",
   "mimetype": "text/x-python",
   "name": "python",
   "nbconvert_exporter": "python",
   "pygments_lexer": "ipython3",
   "version": "3.8.5"
  }
 },
 "nbformat": 4,
 "nbformat_minor": 5
}
