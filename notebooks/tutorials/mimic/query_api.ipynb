{
 "cells": [
  {
   "cell_type": "markdown",
   "id": "1efffc64",
   "metadata": {},
   "source": [
    "### This notebook shows examples of how to use the cyclops.query API on MIMIC-IV."
   ]
  },
  {
   "cell_type": "markdown",
   "id": "7b6214f8",
   "metadata": {},
   "source": [
    "## Example 1. Get all patient encounters from 2015."
   ]
  },
  {
   "cell_type": "code",
   "execution_count": 1,
   "id": "53009e6b",
   "metadata": {},
   "outputs": [
    {
     "name": "stderr",
     "output_type": "stream",
     "text": [
      "2022-04-04 15:03:18,205 \u001b[1;37mINFO\u001b[0m cyclops.config  - Log file is /home/amritk/projects/cyclops/log.log\n",
      "2022-04-04 15:03:18,481 \u001b[1;37mINFO\u001b[0m cyclops.utils.profile - Log file is /home/amritk/projects/cyclops/log.log\n",
      "2022-04-04 15:03:18,483 \u001b[1;37mINFO\u001b[0m cyclops.query.utils - Log file is /home/amritk/projects/cyclops/log.log\n",
      "2022-04-04 15:03:18,484 \u001b[1;37mINFO\u001b[0m cyclops.orm     - Log file is /home/amritk/projects/cyclops/log.log\n",
      "2022-04-04 15:03:19,271 \u001b[1;37mINFO\u001b[0m cyclops.orm     - Database setup, ready to run queries!\n",
      "2022-04-04 15:03:19,853 \u001b[1;37mINFO\u001b[0m cyclops.orm     - Query returned successfully!\n",
      "2022-04-04 15:03:19,854 \u001b[1;37mINFO\u001b[0m cyclops.utils.profile - Finished executing function run_query in 0.572805 s\n"
     ]
    },
    {
     "name": "stdout",
     "output_type": "stream",
     "text": [
      "88488 rows extracted!\n"
     ]
    }
   ],
   "source": [
    "from sqlalchemy import select\n",
    "\n",
    "from cyclops.query import mimic\n",
    "from cyclops.query import utils as query_utils\n",
    "from cyclops.query.interface import QueryInterface\n",
    "\n",
    "patients = mimic.patients(years=[2015])\n",
    "patients.run()\n",
    "print(f\"{len(patients.data)} rows extracted!\")"
   ]
  },
  {
   "cell_type": "markdown",
   "id": "80d9f06e",
   "metadata": {},
   "source": [
    "## Example 2. Get all patient encounters with diagnoses (`schizophrenia` in ICD long title), in the year 2015."
   ]
  },
  {
   "cell_type": "code",
   "execution_count": 2,
   "id": "a89a9cf0",
   "metadata": {},
   "outputs": [
    {
     "name": "stderr",
     "output_type": "stream",
     "text": [
      "2022-04-04 15:03:20,482 \u001b[1;37mINFO\u001b[0m cyclops.orm     - Query returned successfully!\n",
      "2022-04-04 15:03:20,483 \u001b[1;37mINFO\u001b[0m cyclops.utils.profile - Finished executing function run_query in 0.431260 s\n"
     ]
    },
    {
     "name": "stdout",
     "output_type": "stream",
     "text": [
      "802 rows extracted!\n"
     ]
    },
    {
     "data": {
      "text/plain": [
       "Schizophrenia, unspecified                                                 380\n",
       "Unspecified schizophrenia, unspecified                                     179\n",
       "Paranoid schizophrenia                                                      77\n",
       "Paranoid type schizophrenia, unspecified                                    51\n",
       "Catatonic schizophrenia                                                     21\n",
       "Unspecified schizophrenia, chronic                                          17\n",
       "Paranoid type schizophrenia, chronic                                        12\n",
       "Paranoid type schizophrenia, chronic with acute exacerbation                12\n",
       "Other schizophrenia                                                         10\n",
       "Other specified types of schizophrenia, unspecified                          8\n",
       "Catatonic type schizophrenia, unspecified                                    7\n",
       "Unspecified schizophrenia, chronic with acute exacerbation                   4\n",
       "Catatonic type schizophrenia, chronic with acute exacerbation                4\n",
       "Disorganized schizophrenia                                                   4\n",
       "Other specified types of schizophrenia, chronic with acute exacerbation      4\n",
       "Personal history of schizophrenia                                            3\n",
       "Residual schizophrenia                                                       2\n",
       "Paranoid type schizophrenia, subchronic with acute exacerbation              2\n",
       "Undifferentiated schizophrenia                                               1\n",
       "Disorganized type schizophrenia, chronic with acute exacerbation             1\n",
       "Catatonic type schizophrenia, chronic                                        1\n",
       "Simple type schizophrenia, unspecified                                       1\n",
       "Disorganized type schizophrenia, unspecified                                 1\n",
       "Name: icd_title, dtype: int64"
      ]
     },
     "execution_count": 2,
     "metadata": {},
     "output_type": "execute_result"
    }
   ],
   "source": [
    "patients = mimic.patients(years=[2015])\n",
    "diagnoses = mimic.diagnoses(substring=\"schizophrenia\")\n",
    "patients_schizophrenia = mimic.join_with_patients(patients.query, diagnoses.query)\n",
    "patients_schizophrenia.run()\n",
    "print(f\"{len(patients_schizophrenia.data)} rows extracted!\")\n",
    "patients_schizophrenia.data[\"icd_title\"].value_counts()"
   ]
  },
  {
   "cell_type": "markdown",
   "id": "e2baea54",
   "metadata": {},
   "source": [
    "## Example 3. Advanced - uses regexp_match from sqlalchemy. Get all patient encounters with diagnoses (ICD long title begins with `schizophrenia` ), in the year 2015."
   ]
  },
  {
   "cell_type": "code",
   "execution_count": 3,
   "id": "03936cee",
   "metadata": {},
   "outputs": [
    {
     "name": "stderr",
     "output_type": "stream",
     "text": [
      "2022-04-04 15:03:23,436 \u001b[1;37mINFO\u001b[0m cyclops.orm     - Query returned successfully!\n",
      "2022-04-04 15:03:23,437 \u001b[1;37mINFO\u001b[0m cyclops.utils.profile - Finished executing function run_query in 1.041602 s\n"
     ]
    },
    {
     "name": "stdout",
     "output_type": "stream",
     "text": [
      "57 rows extracted!\n"
     ]
    }
   ],
   "source": [
    "patients = mimic.patients(years=[2015])\n",
    "diagnoses = mimic.diagnoses()\n",
    "subquery = (\n",
    "    select(diagnoses.query)\n",
    "    .where(diagnoses.query.c.icd_title.regexp_match(\"(?=.*schizophrenia)(?=.*chronic)\"))\n",
    "    .subquery()\n",
    ")\n",
    "patients_schizophrenia = mimic.join_with_patients(patients.query, subquery)\n",
    "patients_schizophrenia.run()\n",
    "print(f\"{len(patients_schizophrenia.data)} rows extracted!\")"
   ]
  },
  {
   "cell_type": "markdown",
   "id": "88e7bf6d",
   "metadata": {},
   "source": [
    "## Example 4. Advanced - uses cyclops.query.utils.starts_with helper function. Get all patient encounters with diagnoses (starts with `schizophrenia` in ICD long title), in the year 2015."
   ]
  },
  {
   "cell_type": "code",
   "execution_count": 4,
   "id": "f3f05615",
   "metadata": {},
   "outputs": [
    {
     "name": "stderr",
     "output_type": "stream",
     "text": [
      "2022-04-04 15:03:25,831 \u001b[1;37mINFO\u001b[0m cyclops.orm     - Query returned successfully!\n",
      "2022-04-04 15:03:25,831 \u001b[1;37mINFO\u001b[0m cyclops.utils.profile - Finished executing function run_query in 0.422913 s\n"
     ]
    },
    {
     "name": "stdout",
     "output_type": "stream",
     "text": [
      "380 rows extracted!\n"
     ]
    }
   ],
   "source": [
    "patients = mimic.patients(years=[2015])\n",
    "diagnoses = mimic.diagnoses()\n",
    "subquery = (\n",
    "    select(diagnoses.query)\n",
    "    .where(query_utils.starts_with(diagnoses.query.c.icd_title, \"schizophrenia\"))\n",
    "    .subquery()\n",
    ")\n",
    "patients_schizophrenia = mimic.join_with_patients(patients.query, subquery)\n",
    "patients_schizophrenia.run()\n",
    "print(f\"{len(patients_schizophrenia.data)} rows extracted!\")"
   ]
  },
  {
   "cell_type": "markdown",
   "id": "d093543f",
   "metadata": {},
   "source": [
    "## Example 5. Get all patient encounters with diagnoses (ICD code is F209)."
   ]
  },
  {
   "cell_type": "code",
   "execution_count": 7,
   "id": "105be34a",
   "metadata": {},
   "outputs": [
    {
     "name": "stderr",
     "output_type": "stream",
     "text": [
      "2022-04-04 15:03:53,428 \u001b[1;37mINFO\u001b[0m cyclops.orm     - Query returned successfully!\n",
      "2022-04-04 15:03:53,429 \u001b[1;37mINFO\u001b[0m cyclops.utils.profile - Finished executing function run_query in 1.348303 s\n"
     ]
    },
    {
     "name": "stdout",
     "output_type": "stream",
     "text": [
      "1442 rows extracted!\n"
     ]
    }
   ],
   "source": [
    "patients = mimic.patients()\n",
    "diagnoses = mimic.diagnoses(diagnosis_codes=[\"F209\"])\n",
    "patients_schizophrenia = mimic.join_with_patients(patients.query, diagnoses.query)\n",
    "patients_schizophrenia.run()\n",
    "print(f\"{len(patients_schizophrenia.data)} rows extracted!\")"
   ]
  },
  {
   "cell_type": "markdown",
   "id": "569ac1b0",
   "metadata": {},
   "source": [
    "## Example 6. Get all patient encounters with diagnoses (`delirium` in ICD long title)."
   ]
  },
  {
   "cell_type": "code",
   "execution_count": 8,
   "id": "73a46650",
   "metadata": {},
   "outputs": [
    {
     "name": "stderr",
     "output_type": "stream",
     "text": [
      "2022-04-04 15:06:56,415 \u001b[1;37mINFO\u001b[0m cyclops.orm     - Query returned successfully!\n",
      "2022-04-04 15:06:56,415 \u001b[1;37mINFO\u001b[0m cyclops.utils.profile - Finished executing function run_query in 0.699475 s\n"
     ]
    },
    {
     "name": "stdout",
     "output_type": "stream",
     "text": [
      "9087 rows extracted!\n"
     ]
    }
   ],
   "source": [
    "patients = mimic.patients()\n",
    "diagnoses = mimic.diagnoses(substring=\"delirium\")\n",
    "patients_delirium = mimic.join_with_patients(patients.query, diagnoses.query)\n",
    "patients_delirium.run()\n",
    "print(f\"{len(patients_delirium.data)} rows extracted!\")"
   ]
  },
  {
   "cell_type": "markdown",
   "id": "30b0d604",
   "metadata": {},
   "source": [
    "## Labs"
   ]
  },
  {
   "cell_type": "code",
   "execution_count": null,
   "id": "90c3e7ce",
   "metadata": {
    "scrolled": false
   },
   "outputs": [],
   "source": [
    "query = select(db.mimic_icu.d_items.data)\n",
    "db.run_query(query, limit=5)"
   ]
  },
  {
   "cell_type": "code",
   "execution_count": null,
   "id": "56a72377",
   "metadata": {},
   "outputs": [],
   "source": [
    "query = qm.event_labels(db, category=\"Routine Vital Signs\")\n",
    "db.run_query(query, limit=5)"
   ]
  },
  {
   "cell_type": "code",
   "execution_count": null,
   "id": "bce11f81",
   "metadata": {
    "scrolled": false
   },
   "outputs": [],
   "source": [
    "query = qm.event_labels_by_substring(db, \"sodium\")\n",
    "db.run_query(query, limit=5)"
   ]
  },
  {
   "cell_type": "code",
   "execution_count": null,
   "id": "b754d93c",
   "metadata": {},
   "outputs": [],
   "source": [
    "query = qm.events(db)\n",
    "db.run_query(query, limit=3)"
   ]
  },
  {
   "cell_type": "code",
   "execution_count": null,
   "id": "4111df94",
   "metadata": {},
   "outputs": [],
   "source": [
    "query = qm.events_by_itemids(db, 223876)\n",
    "db.run_query(query, limit=5)"
   ]
  },
  {
   "cell_type": "code",
   "execution_count": null,
   "id": "262460ce",
   "metadata": {},
   "outputs": [],
   "source": [
    "query = qm.events_by_itemids(db, [223873, 223875])\n",
    "db.run_query(query, limit=5)"
   ]
  },
  {
   "cell_type": "code",
   "execution_count": null,
   "id": "847283f9",
   "metadata": {},
   "outputs": [],
   "source": [
    "query = qm.events_by_labels(db, [\"Paw High\"])\n",
    "db.run_query(query, limit=5)"
   ]
  },
  {
   "cell_type": "code",
   "execution_count": null,
   "id": "ef899542",
   "metadata": {
    "scrolled": false
   },
   "outputs": [],
   "source": [
    "query = qm.events_by_label_substring(db, \"heart\")\n",
    "db.run_query(query, limit=5)"
   ]
  },
  {
   "cell_type": "code",
   "execution_count": null,
   "id": "4c253e0a",
   "metadata": {},
   "outputs": [],
   "source": [
    "db.run_query(db.mimic_icu.chartevents, limit=5)"
   ]
  },
  {
   "cell_type": "code",
   "execution_count": null,
   "id": "f655c167",
   "metadata": {},
   "outputs": [],
   "source": [
    "db.run_query(db.mimic_icu.d_items.data, limit=5)"
   ]
  },
  {
   "cell_type": "code",
   "execution_count": null,
   "id": "c1c3300a",
   "metadata": {},
   "outputs": [],
   "source": [
    "query = qm.events(db, category=\"Routine Vital Signs\")\n",
    "db.run_query(query, limit=3)"
   ]
  },
  {
   "cell_type": "code",
   "execution_count": null,
   "id": "e9fc83e3",
   "metadata": {},
   "outputs": [],
   "source": [
    "query = qm.events(db, category=\"Respiratory\")\n",
    "db.run_query(query, limit=3)"
   ]
  },
  {
   "cell_type": "code",
   "execution_count": null,
   "id": "77453d72",
   "metadata": {},
   "outputs": [],
   "source": [
    "from datetime import datetime\n",
    "\n",
    "# Get heart rate\n",
    "query = qm.events_by_labels(db, \"Heart Rate\")\n",
    "df = db.run_query(query, limit=1000)\n",
    "\n",
    "# Get only the labs with numeric value - This is just for now\n",
    "# realistically we can find ways to utilize the other data!\n",
    "df = df[df[\"valuenum\"].notna()]\n",
    "\n",
    "# Convert to datetime\n",
    "df[\"charttime\"] = pd.to_datetime(df[\"charttime\"])\n",
    "\n",
    "# Group by patient (subject_id), admission (hadm_id), ICU stay (stay_id), and event (itemid)\n",
    "# NOTE: We may or may not want to group by hadm_id and/or stay_id\n",
    "groupby = df.groupby([\"subject_id\", \"hadm_id\", \"stay_id\", \"itemid\"])\n",
    "\n",
    "c = 0\n",
    "for name, group in groupby:\n",
    "    group.sort_values(by=\"charttime\", inplace=True)\n",
    "\n",
    "    label = group[\"label\"].iloc[0]\n",
    "\n",
    "    fig, ax = plt.subplots(1, 2, figsize=(15, 5))\n",
    "\n",
    "    ax[0].set_title(label)\n",
    "    ax[0].plot(group[\"charttime\"], group[\"valuenum\"])\n",
    "    ax[0].set_ylabel(label)\n",
    "    ax[0].set_xlabel(\"Datetime\")\n",
    "\n",
    "    # Convert dates to seconds elapsed since first measurement\n",
    "    group[\"charttime\"] = (group[\"charttime\"] - datetime.now()).dt.total_seconds()\n",
    "    group[\"charttime\"] -= group[\"charttime\"].min()\n",
    "\n",
    "    ax[1].set_title(label)\n",
    "    ax[1].plot(group[\"charttime\"], group[\"valuenum\"])\n",
    "    ax[1].scatter(group[\"charttime\"], group[\"valuenum\"])\n",
    "    ax[1].set_ylabel(label)\n",
    "    ax[1].set_xlabel(\"Seconds elapsed\")\n",
    "    c += 1\n",
    "    if c > 10:\n",
    "        break"
   ]
  }
 ],
 "metadata": {
  "kernelspec": {
   "display_name": "Python 3 (ipykernel)",
   "language": "python",
   "name": "python3"
  },
  "language_info": {
   "codemirror_mode": {
    "name": "ipython",
    "version": 3
   },
   "file_extension": ".py",
   "mimetype": "text/x-python",
   "name": "python",
   "nbconvert_exporter": "python",
   "pygments_lexer": "ipython3",
   "version": "3.8.5"
  }
 },
 "nbformat": 4,
 "nbformat_minor": 5
}
