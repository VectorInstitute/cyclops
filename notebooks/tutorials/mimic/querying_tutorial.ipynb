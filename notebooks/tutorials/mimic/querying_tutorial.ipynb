{
 "cells": [
  {
   "cell_type": "code",
   "execution_count": 64,
   "id": "79d1f42a",
   "metadata": {
    "scrolled": false
   },
   "outputs": [
    {
     "name": "stdout",
     "output_type": "stream",
     "text": [
      "The autoreload extension is already loaded. To reload it, use:\n",
      "  %reload_ext autoreload\n",
      "The nb_black extension is already loaded. To reload it, use:\n",
      "  %reload_ext nb_black\n"
     ]
    },
    {
     "data": {
      "application/javascript": [
       "\n",
       "            setTimeout(function() {\n",
       "                var nbb_cell_id = 64;\n",
       "                var nbb_unformatted_code = \"import os\\nimport sys\\n\\nsys.path.append(\\\"..\\\")\\n\\nimport re\\nfrom collections import OrderedDict\\n\\nimport numpy as np\\nimport pandas as pd\\nimport matplotlib\\nimport matplotlib.pyplot as plt\\n\\nimport sqlalchemy\\nfrom sqlalchemy import func, select\\nfrom sqlalchemy.sql.expression import and_, or_\\n\\nfrom evidently import ColumnMapping\\nfrom evidently.dashboard import Dashboard\\nfrom evidently.dashboard.tabs import DataQualityTab\\nfrom evidently.model_profile import Profile\\nfrom evidently.model_profile.sections import DataQualityProfileSection\\n\\nimport config\\nimport cyclops\\nfrom cyclops.orm import Database\\nfrom cyclops.queries import query_gemini_delirium_diagnosis, query_gemini_delirium_lab\\nfrom cyclops.processors.diagnosis_codes import DiagnosisProcessor\\nfrom cyclops.processors.column_names import (\\n    ENCOUNTER_ID,\\n    DIAGNOSIS_CODE,\\n    ADMIT_TIMESTAMP,\\n    LAB_TEST_RESULT_VALUE,\\n    LAB_TEST_TIMESTAMP,\\n    LAB_TEST_NAME,\\n    LAB_TEST_RESULT_UNIT,\\n    REFERENCE_RANGE,\\n    HOSPITAL_ID,\\n    AGE,\\n)\\nfrom cyclops.processors.labs import LabsProcessor\\nfrom cyclops.processors.feature_handler import FeatureHandler\\n\\nimport cyclops.query_utils as q_utils\\n\\nimport cyclops.query_mimic as qm\\n\\n%load_ext autoreload\\n%autoreload 2 # Load when external files are updated\\n%load_ext nb_black\";\n",
       "                var nbb_formatted_code = \"import os\\nimport sys\\n\\nsys.path.append(\\\"..\\\")\\n\\nimport re\\nfrom collections import OrderedDict\\n\\nimport numpy as np\\nimport pandas as pd\\nimport matplotlib\\nimport matplotlib.pyplot as plt\\n\\nimport sqlalchemy\\nfrom sqlalchemy import func, select\\nfrom sqlalchemy.sql.expression import and_, or_\\n\\nfrom evidently import ColumnMapping\\nfrom evidently.dashboard import Dashboard\\nfrom evidently.dashboard.tabs import DataQualityTab\\nfrom evidently.model_profile import Profile\\nfrom evidently.model_profile.sections import DataQualityProfileSection\\n\\nimport config\\nimport cyclops\\nfrom cyclops.orm import Database\\nfrom cyclops.queries import query_gemini_delirium_diagnosis, query_gemini_delirium_lab\\nfrom cyclops.processors.diagnosis_codes import DiagnosisProcessor\\nfrom cyclops.processors.column_names import (\\n    ENCOUNTER_ID,\\n    DIAGNOSIS_CODE,\\n    ADMIT_TIMESTAMP,\\n    LAB_TEST_RESULT_VALUE,\\n    LAB_TEST_TIMESTAMP,\\n    LAB_TEST_NAME,\\n    LAB_TEST_RESULT_UNIT,\\n    REFERENCE_RANGE,\\n    HOSPITAL_ID,\\n    AGE,\\n)\\nfrom cyclops.processors.labs import LabsProcessor\\nfrom cyclops.processors.feature_handler import FeatureHandler\\n\\nimport cyclops.query_utils as q_utils\\n\\nimport cyclops.query_mimic as qm\\n\\n%load_ext autoreload\\n%autoreload 2 # Load when external files are updated\\n%load_ext nb_black\";\n",
       "                var nbb_cells = Jupyter.notebook.get_cells();\n",
       "                for (var i = 0; i < nbb_cells.length; ++i) {\n",
       "                    if (nbb_cells[i].input_prompt_number == nbb_cell_id) {\n",
       "                        if (nbb_cells[i].get_text() == nbb_unformatted_code) {\n",
       "                             nbb_cells[i].set_text(nbb_formatted_code);\n",
       "                        }\n",
       "                        break;\n",
       "                    }\n",
       "                }\n",
       "            }, 500);\n",
       "            "
      ],
      "text/plain": [
       "<IPython.core.display.Javascript object>"
      ]
     },
     "metadata": {},
     "output_type": "display_data"
    }
   ],
   "source": [
    "import os\n",
    "import sys\n",
    "\n",
    "sys.path.append(\"..\")\n",
    "\n",
    "import re\n",
    "from collections import OrderedDict\n",
    "\n",
    "import config\n",
    "import matplotlib\n",
    "import matplotlib.pyplot as plt\n",
    "import numpy as np\n",
    "import pandas as pd\n",
    "import sqlalchemy\n",
    "from evidently import ColumnMapping\n",
    "from evidently.dashboard import Dashboard\n",
    "from evidently.dashboard.tabs import DataQualityTab\n",
    "from evidently.model_profile import Profile\n",
    "from evidently.model_profile.sections import DataQualityProfileSection\n",
    "from sqlalchemy import func, select\n",
    "from sqlalchemy.sql.expression import and_, or_\n",
    "\n",
    "import cyclops\n",
    "import cyclops.query_mimic as qm\n",
    "import cyclops.query_utils as q_utils\n",
    "from cyclops.orm import Database\n",
    "from cyclops.processors.column_names import (\n",
    "    ADMIT_TIMESTAMP,\n",
    "    AGE,\n",
    "    DIAGNOSIS_CODE,\n",
    "    ENCOUNTER_ID,\n",
    "    HOSPITAL_ID,\n",
    "    LAB_TEST_NAME,\n",
    "    LAB_TEST_RESULT_UNIT,\n",
    "    LAB_TEST_RESULT_VALUE,\n",
    "    LAB_TEST_TIMESTAMP,\n",
    "    REFERENCE_RANGE,\n",
    ")\n",
    "from cyclops.processors.diagnosis_codes import DiagnosisProcessor\n",
    "from cyclops.processors.feature_handler import FeatureHandler\n",
    "from cyclops.processors.labs import LabsProcessor\n",
    "from cyclops.queries import query_gemini_delirium_diagnosis, query_gemini_delirium_lab\n",
    "\n",
    "%load_ext autoreload\n",
    "%autoreload 2 # Load when external files are updated\n",
    "%load_ext nb_black"
   ]
  },
  {
   "cell_type": "markdown",
   "id": "14c99ee8",
   "metadata": {},
   "source": [
    "# Setup ORM"
   ]
  },
  {
   "cell_type": "code",
   "execution_count": 65,
   "id": "fe09d172",
   "metadata": {},
   "outputs": [
    {
     "data": {
      "application/javascript": [
       "\n",
       "            setTimeout(function() {\n",
       "                var nbb_cell_id = 65;\n",
       "                var nbb_unformatted_code = \"os.environ[\\\"USER\\\"] = \\\"postgres\\\"\\nos.environ[\\\"PGPASSWORD\\\"] = \\\"pwd\\\"\\ncfg = config.read_config(\\\"../configs/default/*.yaml\\\")\\ndb = Database(cfg)\";\n",
       "                var nbb_formatted_code = \"os.environ[\\\"USER\\\"] = \\\"postgres\\\"\\nos.environ[\\\"PGPASSWORD\\\"] = \\\"pwd\\\"\\ncfg = config.read_config(\\\"../configs/default/*.yaml\\\")\\ndb = Database(cfg)\";\n",
       "                var nbb_cells = Jupyter.notebook.get_cells();\n",
       "                for (var i = 0; i < nbb_cells.length; ++i) {\n",
       "                    if (nbb_cells[i].input_prompt_number == nbb_cell_id) {\n",
       "                        if (nbb_cells[i].get_text() == nbb_unformatted_code) {\n",
       "                             nbb_cells[i].set_text(nbb_formatted_code);\n",
       "                        }\n",
       "                        break;\n",
       "                    }\n",
       "                }\n",
       "            }, 500);\n",
       "            "
      ],
      "text/plain": [
       "<IPython.core.display.Javascript object>"
      ]
     },
     "metadata": {},
     "output_type": "display_data"
    }
   ],
   "source": [
    "os.environ[\"USER\"] = \"postgres\"\n",
    "os.environ[\"PGPASSWORD\"] = \"pwd\"\n",
    "cfg = config.read_config(\"../configs/default/*.yaml\")\n",
    "db = Database(cfg)"
   ]
  },
  {
   "cell_type": "markdown",
   "id": "8691957e",
   "metadata": {},
   "source": [
    "MIMIC EDA\n",
    "See sample_code/delirium.ipynb\n",
    "\n",
    "In sample_code/data_layer.ipynb:\n",
    "from evidently.dashboard.tabs import DataQualityTab"
   ]
  },
  {
   "cell_type": "markdown",
   "id": "909affb4",
   "metadata": {},
   "source": [
    "# SQLAlchemy"
   ]
  },
  {
   "cell_type": "markdown",
   "id": "1dbf9367",
   "metadata": {},
   "source": [
    "SQLAlchemy is a Python SQL toolkit and Object Relational Mapper (ORM).\n",
    "\n",
    "An ORM allows users to stay away writing queries as raw SQL strings, which become highly unmanageable as more complex queries are required.\n",
    "\n",
    "In this tutorial, we'll introduce the basic functionalities provided by SQLAlchemy's ORM, as well as the functionality we've developed for simplifying and extending the use of this ORM.\n",
    "\n",
    "Note: This tutorial focuses on querying from the database, not on modifying it, e.g., inserting or deleting rows/tables."
   ]
  },
  {
   "cell_type": "markdown",
   "id": "ee0e4976",
   "metadata": {},
   "source": [
    "# Query objects"
   ]
  },
  {
   "cell_type": "markdown",
   "id": "8110763d",
   "metadata": {},
   "source": [
    "There are a few objects representing queries/relations to understand:\n",
    " - `cyclops.query_utils.DBTable` (DBTable)\n",
    "  - A class defined in this repository used by `cyclops.orm.Database` to organize tables as attributes\n",
    " - `sqlalchemy.sql.schema.Table` (Table)\n",
    "  - The SQLAlchemy table object\n",
    "  - The DBTable object has attribute `data` which accesses the corresponding Table object\n",
    " - `sqlalchemy.sql.selectable.Select` (Select)\n",
    "  - The SQLAlchemy object returned by function `sqlalchemy.select`\n",
    "  - Executing queries requires them to be Select objects\n",
    " - `sqlalchemy.sql.selectable.Subquery` (Subquery)\n",
    "  - The SQLAlchemy object returned by method `.subquery()`, e.g., on a `sqlalchemy.select` object\n",
    "  - This is necessary when wanting to chain queries together"
   ]
  },
  {
   "cell_type": "markdown",
   "id": "8a9ac526",
   "metadata": {},
   "source": [
    "## Running queries"
   ]
  },
  {
   "cell_type": "markdown",
   "id": "c6d6fe08",
   "metadata": {},
   "source": [
    "Queries can be executed with function `db.run_query`, which return a `pandas.DataFrame` object such that each column represents an attribute of the same name.\n",
    "\n",
    "We've made this simpler by allowing users to pass in any of the query objects. Consider the following equivalent queries:"
   ]
  },
  {
   "cell_type": "code",
   "execution_count": 66,
   "id": "0ca20566",
   "metadata": {},
   "outputs": [
    {
     "data": {
      "text/plain": [
       "cyclops.query_utils.DBTable"
      ]
     },
     "execution_count": 66,
     "metadata": {},
     "output_type": "execute_result"
    },
    {
     "data": {
      "application/javascript": [
       "\n",
       "            setTimeout(function() {\n",
       "                var nbb_cell_id = 66;\n",
       "                var nbb_unformatted_code = \"# DBTable\\nquery = db.mimic_hosp.d_icd_diagnoses\\ntype(query)\";\n",
       "                var nbb_formatted_code = \"# DBTable\\nquery = db.mimic_hosp.d_icd_diagnoses\\ntype(query)\";\n",
       "                var nbb_cells = Jupyter.notebook.get_cells();\n",
       "                for (var i = 0; i < nbb_cells.length; ++i) {\n",
       "                    if (nbb_cells[i].input_prompt_number == nbb_cell_id) {\n",
       "                        if (nbb_cells[i].get_text() == nbb_unformatted_code) {\n",
       "                             nbb_cells[i].set_text(nbb_formatted_code);\n",
       "                        }\n",
       "                        break;\n",
       "                    }\n",
       "                }\n",
       "            }, 500);\n",
       "            "
      ],
      "text/plain": [
       "<IPython.core.display.Javascript object>"
      ]
     },
     "metadata": {},
     "output_type": "display_data"
    }
   ],
   "source": [
    "# DBTable\n",
    "query = db.mimic_hosp.d_icd_diagnoses\n",
    "type(query)"
   ]
  },
  {
   "cell_type": "code",
   "execution_count": 67,
   "id": "1a591353",
   "metadata": {},
   "outputs": [
    {
     "name": "stderr",
     "output_type": "stream",
     "text": [
      "2022-03-31 09:44:57,891 \u001b[1;37mINFO\u001b[0m cyclops.orm     - Query returned successfully!\n",
      "\u001b[1;37mINFO\u001b[0m:cyclops.orm:Query returned successfully!\n",
      "2022-03-31 09:44:57,892 \u001b[1;37mINFO\u001b[0m cyclops.utils.profile - Finished executing function wrapper_func in 0.006134 s\n",
      "\u001b[1;37mINFO\u001b[0m:cyclops.utils.profile:Finished executing function wrapper_func in 0.006134 s\n"
     ]
    },
    {
     "data": {
      "text/html": [
       "<div>\n",
       "<style scoped>\n",
       "    .dataframe tbody tr th:only-of-type {\n",
       "        vertical-align: middle;\n",
       "    }\n",
       "\n",
       "    .dataframe tbody tr th {\n",
       "        vertical-align: top;\n",
       "    }\n",
       "\n",
       "    .dataframe thead th {\n",
       "        text-align: right;\n",
       "    }\n",
       "</style>\n",
       "<table border=\"1\" class=\"dataframe\">\n",
       "  <thead>\n",
       "    <tr style=\"text-align: right;\">\n",
       "      <th></th>\n",
       "      <th>icd_code</th>\n",
       "      <th>icd_version</th>\n",
       "      <th>long_title</th>\n",
       "    </tr>\n",
       "  </thead>\n",
       "  <tbody>\n",
       "    <tr>\n",
       "      <th>0</th>\n",
       "      <td>0010</td>\n",
       "      <td>9</td>\n",
       "      <td>Cholera due to vibrio cholerae</td>\n",
       "    </tr>\n",
       "    <tr>\n",
       "      <th>1</th>\n",
       "      <td>0011</td>\n",
       "      <td>9</td>\n",
       "      <td>Cholera due to vibrio cholerae el tor</td>\n",
       "    </tr>\n",
       "  </tbody>\n",
       "</table>\n",
       "</div>"
      ],
      "text/plain": [
       "  icd_code  icd_version                             long_title\n",
       "0  0010               9         Cholera due to vibrio cholerae\n",
       "1  0011               9  Cholera due to vibrio cholerae el tor"
      ]
     },
     "execution_count": 67,
     "metadata": {},
     "output_type": "execute_result"
    },
    {
     "data": {
      "application/javascript": [
       "\n",
       "            setTimeout(function() {\n",
       "                var nbb_cell_id = 67;\n",
       "                var nbb_unformatted_code = \"db.run_query(query, limit=2)\";\n",
       "                var nbb_formatted_code = \"db.run_query(query, limit=2)\";\n",
       "                var nbb_cells = Jupyter.notebook.get_cells();\n",
       "                for (var i = 0; i < nbb_cells.length; ++i) {\n",
       "                    if (nbb_cells[i].input_prompt_number == nbb_cell_id) {\n",
       "                        if (nbb_cells[i].get_text() == nbb_unformatted_code) {\n",
       "                             nbb_cells[i].set_text(nbb_formatted_code);\n",
       "                        }\n",
       "                        break;\n",
       "                    }\n",
       "                }\n",
       "            }, 500);\n",
       "            "
      ],
      "text/plain": [
       "<IPython.core.display.Javascript object>"
      ]
     },
     "metadata": {},
     "output_type": "display_data"
    }
   ],
   "source": [
    "db.run_query(query, limit=2)"
   ]
  },
  {
   "cell_type": "code",
   "execution_count": 68,
   "id": "b1766f71",
   "metadata": {},
   "outputs": [
    {
     "data": {
      "text/plain": [
       "sqlalchemy.sql.schema.Table"
      ]
     },
     "execution_count": 68,
     "metadata": {},
     "output_type": "execute_result"
    },
    {
     "data": {
      "application/javascript": [
       "\n",
       "            setTimeout(function() {\n",
       "                var nbb_cell_id = 68;\n",
       "                var nbb_unformatted_code = \"# Table\\nquery = db.mimic_hosp.d_icd_diagnoses.data\\ntype(query)\";\n",
       "                var nbb_formatted_code = \"# Table\\nquery = db.mimic_hosp.d_icd_diagnoses.data\\ntype(query)\";\n",
       "                var nbb_cells = Jupyter.notebook.get_cells();\n",
       "                for (var i = 0; i < nbb_cells.length; ++i) {\n",
       "                    if (nbb_cells[i].input_prompt_number == nbb_cell_id) {\n",
       "                        if (nbb_cells[i].get_text() == nbb_unformatted_code) {\n",
       "                             nbb_cells[i].set_text(nbb_formatted_code);\n",
       "                        }\n",
       "                        break;\n",
       "                    }\n",
       "                }\n",
       "            }, 500);\n",
       "            "
      ],
      "text/plain": [
       "<IPython.core.display.Javascript object>"
      ]
     },
     "metadata": {},
     "output_type": "display_data"
    }
   ],
   "source": [
    "# Table\n",
    "query = db.mimic_hosp.d_icd_diagnoses.data\n",
    "type(query)"
   ]
  },
  {
   "cell_type": "code",
   "execution_count": 69,
   "id": "09b65cf3",
   "metadata": {},
   "outputs": [
    {
     "name": "stderr",
     "output_type": "stream",
     "text": [
      "2022-03-31 09:44:57,923 \u001b[1;37mINFO\u001b[0m cyclops.orm     - Query returned successfully!\n",
      "\u001b[1;37mINFO\u001b[0m:cyclops.orm:Query returned successfully!\n",
      "2022-03-31 09:44:57,924 \u001b[1;37mINFO\u001b[0m cyclops.utils.profile - Finished executing function wrapper_func in 0.004669 s\n",
      "\u001b[1;37mINFO\u001b[0m:cyclops.utils.profile:Finished executing function wrapper_func in 0.004669 s\n"
     ]
    },
    {
     "data": {
      "text/html": [
       "<div>\n",
       "<style scoped>\n",
       "    .dataframe tbody tr th:only-of-type {\n",
       "        vertical-align: middle;\n",
       "    }\n",
       "\n",
       "    .dataframe tbody tr th {\n",
       "        vertical-align: top;\n",
       "    }\n",
       "\n",
       "    .dataframe thead th {\n",
       "        text-align: right;\n",
       "    }\n",
       "</style>\n",
       "<table border=\"1\" class=\"dataframe\">\n",
       "  <thead>\n",
       "    <tr style=\"text-align: right;\">\n",
       "      <th></th>\n",
       "      <th>icd_code</th>\n",
       "      <th>icd_version</th>\n",
       "      <th>long_title</th>\n",
       "    </tr>\n",
       "  </thead>\n",
       "  <tbody>\n",
       "    <tr>\n",
       "      <th>0</th>\n",
       "      <td>0010</td>\n",
       "      <td>9</td>\n",
       "      <td>Cholera due to vibrio cholerae</td>\n",
       "    </tr>\n",
       "    <tr>\n",
       "      <th>1</th>\n",
       "      <td>0011</td>\n",
       "      <td>9</td>\n",
       "      <td>Cholera due to vibrio cholerae el tor</td>\n",
       "    </tr>\n",
       "  </tbody>\n",
       "</table>\n",
       "</div>"
      ],
      "text/plain": [
       "  icd_code  icd_version                             long_title\n",
       "0  0010               9         Cholera due to vibrio cholerae\n",
       "1  0011               9  Cholera due to vibrio cholerae el tor"
      ]
     },
     "execution_count": 69,
     "metadata": {},
     "output_type": "execute_result"
    },
    {
     "data": {
      "application/javascript": [
       "\n",
       "            setTimeout(function() {\n",
       "                var nbb_cell_id = 69;\n",
       "                var nbb_unformatted_code = \"db.run_query(query, limit=2)\";\n",
       "                var nbb_formatted_code = \"db.run_query(query, limit=2)\";\n",
       "                var nbb_cells = Jupyter.notebook.get_cells();\n",
       "                for (var i = 0; i < nbb_cells.length; ++i) {\n",
       "                    if (nbb_cells[i].input_prompt_number == nbb_cell_id) {\n",
       "                        if (nbb_cells[i].get_text() == nbb_unformatted_code) {\n",
       "                             nbb_cells[i].set_text(nbb_formatted_code);\n",
       "                        }\n",
       "                        break;\n",
       "                    }\n",
       "                }\n",
       "            }, 500);\n",
       "            "
      ],
      "text/plain": [
       "<IPython.core.display.Javascript object>"
      ]
     },
     "metadata": {},
     "output_type": "display_data"
    }
   ],
   "source": [
    "db.run_query(query, limit=2)"
   ]
  },
  {
   "cell_type": "code",
   "execution_count": 70,
   "id": "724d6bab",
   "metadata": {},
   "outputs": [
    {
     "data": {
      "text/plain": [
       "sqlalchemy.sql.selectable.Select"
      ]
     },
     "execution_count": 70,
     "metadata": {},
     "output_type": "execute_result"
    },
    {
     "data": {
      "application/javascript": [
       "\n",
       "            setTimeout(function() {\n",
       "                var nbb_cell_id = 70;\n",
       "                var nbb_unformatted_code = \"# Select\\nquery = select(db.mimic_hosp.d_icd_diagnoses.data)\\ntype(query)\";\n",
       "                var nbb_formatted_code = \"# Select\\nquery = select(db.mimic_hosp.d_icd_diagnoses.data)\\ntype(query)\";\n",
       "                var nbb_cells = Jupyter.notebook.get_cells();\n",
       "                for (var i = 0; i < nbb_cells.length; ++i) {\n",
       "                    if (nbb_cells[i].input_prompt_number == nbb_cell_id) {\n",
       "                        if (nbb_cells[i].get_text() == nbb_unformatted_code) {\n",
       "                             nbb_cells[i].set_text(nbb_formatted_code);\n",
       "                        }\n",
       "                        break;\n",
       "                    }\n",
       "                }\n",
       "            }, 500);\n",
       "            "
      ],
      "text/plain": [
       "<IPython.core.display.Javascript object>"
      ]
     },
     "metadata": {},
     "output_type": "display_data"
    }
   ],
   "source": [
    "# Select\n",
    "query = select(db.mimic_hosp.d_icd_diagnoses.data)\n",
    "type(query)"
   ]
  },
  {
   "cell_type": "code",
   "execution_count": 71,
   "id": "1e0fd25d",
   "metadata": {},
   "outputs": [
    {
     "name": "stderr",
     "output_type": "stream",
     "text": [
      "2022-03-31 09:44:57,951 \u001b[1;37mINFO\u001b[0m cyclops.orm     - Query returned successfully!\n",
      "\u001b[1;37mINFO\u001b[0m:cyclops.orm:Query returned successfully!\n",
      "2022-03-31 09:44:57,952 \u001b[1;37mINFO\u001b[0m cyclops.utils.profile - Finished executing function wrapper_func in 0.003538 s\n",
      "\u001b[1;37mINFO\u001b[0m:cyclops.utils.profile:Finished executing function wrapper_func in 0.003538 s\n"
     ]
    },
    {
     "data": {
      "text/html": [
       "<div>\n",
       "<style scoped>\n",
       "    .dataframe tbody tr th:only-of-type {\n",
       "        vertical-align: middle;\n",
       "    }\n",
       "\n",
       "    .dataframe tbody tr th {\n",
       "        vertical-align: top;\n",
       "    }\n",
       "\n",
       "    .dataframe thead th {\n",
       "        text-align: right;\n",
       "    }\n",
       "</style>\n",
       "<table border=\"1\" class=\"dataframe\">\n",
       "  <thead>\n",
       "    <tr style=\"text-align: right;\">\n",
       "      <th></th>\n",
       "      <th>icd_code</th>\n",
       "      <th>icd_version</th>\n",
       "      <th>long_title</th>\n",
       "    </tr>\n",
       "  </thead>\n",
       "  <tbody>\n",
       "    <tr>\n",
       "      <th>0</th>\n",
       "      <td>0010</td>\n",
       "      <td>9</td>\n",
       "      <td>Cholera due to vibrio cholerae</td>\n",
       "    </tr>\n",
       "    <tr>\n",
       "      <th>1</th>\n",
       "      <td>0011</td>\n",
       "      <td>9</td>\n",
       "      <td>Cholera due to vibrio cholerae el tor</td>\n",
       "    </tr>\n",
       "  </tbody>\n",
       "</table>\n",
       "</div>"
      ],
      "text/plain": [
       "  icd_code  icd_version                             long_title\n",
       "0  0010               9         Cholera due to vibrio cholerae\n",
       "1  0011               9  Cholera due to vibrio cholerae el tor"
      ]
     },
     "execution_count": 71,
     "metadata": {},
     "output_type": "execute_result"
    },
    {
     "data": {
      "application/javascript": [
       "\n",
       "            setTimeout(function() {\n",
       "                var nbb_cell_id = 71;\n",
       "                var nbb_unformatted_code = \"db.run_query(query, limit=2)\";\n",
       "                var nbb_formatted_code = \"db.run_query(query, limit=2)\";\n",
       "                var nbb_cells = Jupyter.notebook.get_cells();\n",
       "                for (var i = 0; i < nbb_cells.length; ++i) {\n",
       "                    if (nbb_cells[i].input_prompt_number == nbb_cell_id) {\n",
       "                        if (nbb_cells[i].get_text() == nbb_unformatted_code) {\n",
       "                             nbb_cells[i].set_text(nbb_formatted_code);\n",
       "                        }\n",
       "                        break;\n",
       "                    }\n",
       "                }\n",
       "            }, 500);\n",
       "            "
      ],
      "text/plain": [
       "<IPython.core.display.Javascript object>"
      ]
     },
     "metadata": {},
     "output_type": "display_data"
    }
   ],
   "source": [
    "db.run_query(query, limit=2)"
   ]
  },
  {
   "cell_type": "code",
   "execution_count": 72,
   "id": "850ae81b",
   "metadata": {},
   "outputs": [
    {
     "data": {
      "text/plain": [
       "sqlalchemy.sql.selectable.Subquery"
      ]
     },
     "execution_count": 72,
     "metadata": {},
     "output_type": "execute_result"
    },
    {
     "data": {
      "application/javascript": [
       "\n",
       "            setTimeout(function() {\n",
       "                var nbb_cell_id = 72;\n",
       "                var nbb_unformatted_code = \"# Subquery\\nquery = select(db.mimic_hosp.d_icd_diagnoses.data).subquery()\\ntype(query)\";\n",
       "                var nbb_formatted_code = \"# Subquery\\nquery = select(db.mimic_hosp.d_icd_diagnoses.data).subquery()\\ntype(query)\";\n",
       "                var nbb_cells = Jupyter.notebook.get_cells();\n",
       "                for (var i = 0; i < nbb_cells.length; ++i) {\n",
       "                    if (nbb_cells[i].input_prompt_number == nbb_cell_id) {\n",
       "                        if (nbb_cells[i].get_text() == nbb_unformatted_code) {\n",
       "                             nbb_cells[i].set_text(nbb_formatted_code);\n",
       "                        }\n",
       "                        break;\n",
       "                    }\n",
       "                }\n",
       "            }, 500);\n",
       "            "
      ],
      "text/plain": [
       "<IPython.core.display.Javascript object>"
      ]
     },
     "metadata": {},
     "output_type": "display_data"
    }
   ],
   "source": [
    "# Subquery\n",
    "query = select(db.mimic_hosp.d_icd_diagnoses.data).subquery()\n",
    "type(query)"
   ]
  },
  {
   "cell_type": "code",
   "execution_count": 73,
   "id": "5f4bb68a",
   "metadata": {},
   "outputs": [
    {
     "name": "stderr",
     "output_type": "stream",
     "text": [
      "2022-03-31 09:44:57,973 \u001b[1;37mINFO\u001b[0m cyclops.orm     - Query returned successfully!\n",
      "\u001b[1;37mINFO\u001b[0m:cyclops.orm:Query returned successfully!\n",
      "2022-03-31 09:44:57,974 \u001b[1;37mINFO\u001b[0m cyclops.utils.profile - Finished executing function wrapper_func in 0.003724 s\n",
      "\u001b[1;37mINFO\u001b[0m:cyclops.utils.profile:Finished executing function wrapper_func in 0.003724 s\n"
     ]
    },
    {
     "data": {
      "text/html": [
       "<div>\n",
       "<style scoped>\n",
       "    .dataframe tbody tr th:only-of-type {\n",
       "        vertical-align: middle;\n",
       "    }\n",
       "\n",
       "    .dataframe tbody tr th {\n",
       "        vertical-align: top;\n",
       "    }\n",
       "\n",
       "    .dataframe thead th {\n",
       "        text-align: right;\n",
       "    }\n",
       "</style>\n",
       "<table border=\"1\" class=\"dataframe\">\n",
       "  <thead>\n",
       "    <tr style=\"text-align: right;\">\n",
       "      <th></th>\n",
       "      <th>icd_code</th>\n",
       "      <th>icd_version</th>\n",
       "      <th>long_title</th>\n",
       "    </tr>\n",
       "  </thead>\n",
       "  <tbody>\n",
       "    <tr>\n",
       "      <th>0</th>\n",
       "      <td>0010</td>\n",
       "      <td>9</td>\n",
       "      <td>Cholera due to vibrio cholerae</td>\n",
       "    </tr>\n",
       "    <tr>\n",
       "      <th>1</th>\n",
       "      <td>0011</td>\n",
       "      <td>9</td>\n",
       "      <td>Cholera due to vibrio cholerae el tor</td>\n",
       "    </tr>\n",
       "  </tbody>\n",
       "</table>\n",
       "</div>"
      ],
      "text/plain": [
       "  icd_code  icd_version                             long_title\n",
       "0  0010               9         Cholera due to vibrio cholerae\n",
       "1  0011               9  Cholera due to vibrio cholerae el tor"
      ]
     },
     "execution_count": 73,
     "metadata": {},
     "output_type": "execute_result"
    },
    {
     "data": {
      "application/javascript": [
       "\n",
       "            setTimeout(function() {\n",
       "                var nbb_cell_id = 73;\n",
       "                var nbb_unformatted_code = \"db.run_query(query, limit=2)\";\n",
       "                var nbb_formatted_code = \"db.run_query(query, limit=2)\";\n",
       "                var nbb_cells = Jupyter.notebook.get_cells();\n",
       "                for (var i = 0; i < nbb_cells.length; ++i) {\n",
       "                    if (nbb_cells[i].input_prompt_number == nbb_cell_id) {\n",
       "                        if (nbb_cells[i].get_text() == nbb_unformatted_code) {\n",
       "                             nbb_cells[i].set_text(nbb_formatted_code);\n",
       "                        }\n",
       "                        break;\n",
       "                    }\n",
       "                }\n",
       "            }, 500);\n",
       "            "
      ],
      "text/plain": [
       "<IPython.core.display.Javascript object>"
      ]
     },
     "metadata": {},
     "output_type": "display_data"
    }
   ],
   "source": [
    "db.run_query(query, limit=2)"
   ]
  },
  {
   "cell_type": "markdown",
   "id": "a3fdb44b",
   "metadata": {},
   "source": [
    "## Attribute access"
   ]
  },
  {
   "cell_type": "markdown",
   "id": "fb9d290b",
   "metadata": {},
   "source": [
    "Attributes, or columns, are accessed by name. How to access an column depends on the object."
   ]
  },
  {
   "cell_type": "code",
   "execution_count": 74,
   "id": "021f864c",
   "metadata": {},
   "outputs": [
    {
     "data": {
      "text/plain": [
       "sqlalchemy.sql.schema.Column"
      ]
     },
     "execution_count": 74,
     "metadata": {},
     "output_type": "execute_result"
    },
    {
     "data": {
      "application/javascript": [
       "\n",
       "            setTimeout(function() {\n",
       "                var nbb_cell_id = 74;\n",
       "                var nbb_unformatted_code = \"# DBTable\\ncol = db.mimic_hosp.d_icd_diagnoses.icd_code\\ntype(col)\";\n",
       "                var nbb_formatted_code = \"# DBTable\\ncol = db.mimic_hosp.d_icd_diagnoses.icd_code\\ntype(col)\";\n",
       "                var nbb_cells = Jupyter.notebook.get_cells();\n",
       "                for (var i = 0; i < nbb_cells.length; ++i) {\n",
       "                    if (nbb_cells[i].input_prompt_number == nbb_cell_id) {\n",
       "                        if (nbb_cells[i].get_text() == nbb_unformatted_code) {\n",
       "                             nbb_cells[i].set_text(nbb_formatted_code);\n",
       "                        }\n",
       "                        break;\n",
       "                    }\n",
       "                }\n",
       "            }, 500);\n",
       "            "
      ],
      "text/plain": [
       "<IPython.core.display.Javascript object>"
      ]
     },
     "metadata": {},
     "output_type": "display_data"
    }
   ],
   "source": [
    "# DBTable\n",
    "col = db.mimic_hosp.d_icd_diagnoses.icd_code\n",
    "type(col)"
   ]
  },
  {
   "cell_type": "markdown",
   "id": "31920223",
   "metadata": {},
   "source": [
    "There is no convenient attribute access for a `sqlalchemy.sql.schema.Table` object. This was largely the motivation for creating the `cyclops.query_utils.DBTable` object."
   ]
  },
  {
   "cell_type": "markdown",
   "id": "3f3e563d",
   "metadata": {},
   "source": [
    "There is no direct attribute access for a `sqlalchemy.sql.selectable.Select` object. Instead, we must first convert it to a subquery."
   ]
  },
  {
   "cell_type": "code",
   "execution_count": 75,
   "id": "bbfb00e2",
   "metadata": {},
   "outputs": [
    {
     "data": {
      "text/plain": [
       "sqlalchemy.sql.schema.Column"
      ]
     },
     "execution_count": 75,
     "metadata": {},
     "output_type": "execute_result"
    },
    {
     "data": {
      "application/javascript": [
       "\n",
       "            setTimeout(function() {\n",
       "                var nbb_cell_id = 75;\n",
       "                var nbb_unformatted_code = \"# Subquery\\nsubquery = select(db.mimic_hosp.d_icd_diagnoses.data).subquery()\\ntype(subquery.c.icd_code)\";\n",
       "                var nbb_formatted_code = \"# Subquery\\nsubquery = select(db.mimic_hosp.d_icd_diagnoses.data).subquery()\\ntype(subquery.c.icd_code)\";\n",
       "                var nbb_cells = Jupyter.notebook.get_cells();\n",
       "                for (var i = 0; i < nbb_cells.length; ++i) {\n",
       "                    if (nbb_cells[i].input_prompt_number == nbb_cell_id) {\n",
       "                        if (nbb_cells[i].get_text() == nbb_unformatted_code) {\n",
       "                             nbb_cells[i].set_text(nbb_formatted_code);\n",
       "                        }\n",
       "                        break;\n",
       "                    }\n",
       "                }\n",
       "            }, 500);\n",
       "            "
      ],
      "text/plain": [
       "<IPython.core.display.Javascript object>"
      ]
     },
     "metadata": {},
     "output_type": "display_data"
    }
   ],
   "source": [
    "# Subquery\n",
    "subquery = select(db.mimic_hosp.d_icd_diagnoses.data).subquery()\n",
    "type(subquery.c.icd_code)"
   ]
  },
  {
   "cell_type": "markdown",
   "id": "255a91f1",
   "metadata": {},
   "source": [
    "Note that difference in attribute access between a DBTable and a subquery, where in a subquery, we must use access `.c` before accessing column."
   ]
  },
  {
   "cell_type": "markdown",
   "id": "3bb13518",
   "metadata": {},
   "source": [
    "# Querying"
   ]
  },
  {
   "cell_type": "markdown",
   "id": "10382a04",
   "metadata": {},
   "source": [
    "SQLAlchemy does not have implementations for many desired functionalities.\n",
    "\n",
    "Here, we introduce `cyclops.query_utils` (imported as `q_utils`), which provides general-purpose functions we'll use throughout the remainder of the notebook to make building effective queries quick and simple.\n",
    " - Handling conditions: `equals_cond`, `in_list_condition`, `string_format_cond`, `substring_cond`, `startswith_cond`, `endswith_cond`\n",
    " - Attribute handling: `get_attributes`, `rename_attributes`, `reorder_attributes`, `drop_attributes`, `apply_to_attributes`\n",
    " - It automatically handles conversions between different query type objects, so users need not worry about what to pass in"
   ]
  },
  {
   "cell_type": "markdown",
   "id": "dbf18fd9",
   "metadata": {},
   "source": [
    "## Conditions"
   ]
  },
  {
   "cell_type": "markdown",
   "id": "aca0497d",
   "metadata": {},
   "source": [
    "Row conditions are represented by the `sqlalchemy.sql.elements.BinaryExpression` object."
   ]
  },
  {
   "cell_type": "code",
   "execution_count": 76,
   "id": "5eac974f",
   "metadata": {},
   "outputs": [
    {
     "data": {
      "text/plain": [
       "sqlalchemy.sql.elements.BinaryExpression"
      ]
     },
     "execution_count": 76,
     "metadata": {},
     "output_type": "execute_result"
    },
    {
     "data": {
      "application/javascript": [
       "\n",
       "            setTimeout(function() {\n",
       "                var nbb_cell_id = 76;\n",
       "                var nbb_unformatted_code = \"cond = db.mimic_hosp.diagnoses_icd.icd_code == \\\"0011\\\"\\ntype(cond)\";\n",
       "                var nbb_formatted_code = \"cond = db.mimic_hosp.diagnoses_icd.icd_code == \\\"0011\\\"\\ntype(cond)\";\n",
       "                var nbb_cells = Jupyter.notebook.get_cells();\n",
       "                for (var i = 0; i < nbb_cells.length; ++i) {\n",
       "                    if (nbb_cells[i].input_prompt_number == nbb_cell_id) {\n",
       "                        if (nbb_cells[i].get_text() == nbb_unformatted_code) {\n",
       "                             nbb_cells[i].set_text(nbb_formatted_code);\n",
       "                        }\n",
       "                        break;\n",
       "                    }\n",
       "                }\n",
       "            }, 500);\n",
       "            "
      ],
      "text/plain": [
       "<IPython.core.display.Javascript object>"
      ]
     },
     "metadata": {},
     "output_type": "display_data"
    }
   ],
   "source": [
    "cond = db.mimic_hosp.diagnoses_icd.icd_code == \"0011\"\n",
    "type(cond)"
   ]
  },
  {
   "cell_type": "markdown",
   "id": "fe6356ba",
   "metadata": {},
   "source": [
    "We can use method `where` to use a binary expression object to filter rows of a `sqlalchemy.sql.selectable.Select` object:"
   ]
  },
  {
   "cell_type": "code",
   "execution_count": 77,
   "id": "3835140f",
   "metadata": {},
   "outputs": [
    {
     "name": "stderr",
     "output_type": "stream",
     "text": [
      "2022-03-31 09:44:58,025 \u001b[1;37mINFO\u001b[0m cyclops.orm     - Query returned successfully!\n",
      "\u001b[1;37mINFO\u001b[0m:cyclops.orm:Query returned successfully!\n",
      "2022-03-31 09:44:58,026 \u001b[1;37mINFO\u001b[0m cyclops.utils.profile - Finished executing function wrapper_func in 0.016161 s\n",
      "\u001b[1;37mINFO\u001b[0m:cyclops.utils.profile:Finished executing function wrapper_func in 0.016161 s\n"
     ]
    },
    {
     "data": {
      "text/html": [
       "<div>\n",
       "<style scoped>\n",
       "    .dataframe tbody tr th:only-of-type {\n",
       "        vertical-align: middle;\n",
       "    }\n",
       "\n",
       "    .dataframe tbody tr th {\n",
       "        vertical-align: top;\n",
       "    }\n",
       "\n",
       "    .dataframe thead th {\n",
       "        text-align: right;\n",
       "    }\n",
       "</style>\n",
       "<table border=\"1\" class=\"dataframe\">\n",
       "  <thead>\n",
       "    <tr style=\"text-align: right;\">\n",
       "      <th></th>\n",
       "      <th>icd_code</th>\n",
       "      <th>icd_version</th>\n",
       "      <th>long_title</th>\n",
       "    </tr>\n",
       "  </thead>\n",
       "  <tbody>\n",
       "    <tr>\n",
       "      <th>0</th>\n",
       "      <td>0010</td>\n",
       "      <td>9</td>\n",
       "      <td>Cholera due to vibrio cholerae</td>\n",
       "    </tr>\n",
       "  </tbody>\n",
       "</table>\n",
       "</div>"
      ],
      "text/plain": [
       "  icd_code  icd_version                      long_title\n",
       "0  0010               9  Cholera due to vibrio cholerae"
      ]
     },
     "execution_count": 77,
     "metadata": {},
     "output_type": "execute_result"
    },
    {
     "data": {
      "application/javascript": [
       "\n",
       "            setTimeout(function() {\n",
       "                var nbb_cell_id = 77;\n",
       "                var nbb_unformatted_code = \"cond = db.mimic_hosp.d_icd_diagnoses.icd_code == \\\"0010\\\"\\nquery = select(db.mimic_hosp.d_icd_diagnoses.data).where(cond)\\ndb.run_query(query)\";\n",
       "                var nbb_formatted_code = \"cond = db.mimic_hosp.d_icd_diagnoses.icd_code == \\\"0010\\\"\\nquery = select(db.mimic_hosp.d_icd_diagnoses.data).where(cond)\\ndb.run_query(query)\";\n",
       "                var nbb_cells = Jupyter.notebook.get_cells();\n",
       "                for (var i = 0; i < nbb_cells.length; ++i) {\n",
       "                    if (nbb_cells[i].input_prompt_number == nbb_cell_id) {\n",
       "                        if (nbb_cells[i].get_text() == nbb_unformatted_code) {\n",
       "                             nbb_cells[i].set_text(nbb_formatted_code);\n",
       "                        }\n",
       "                        break;\n",
       "                    }\n",
       "                }\n",
       "            }, 500);\n",
       "            "
      ],
      "text/plain": [
       "<IPython.core.display.Javascript object>"
      ]
     },
     "metadata": {},
     "output_type": "display_data"
    }
   ],
   "source": [
    "cond = db.mimic_hosp.d_icd_diagnoses.icd_code == \"0010\"\n",
    "query = select(db.mimic_hosp.d_icd_diagnoses.data).where(cond)\n",
    "db.run_query(query)"
   ]
  },
  {
   "cell_type": "markdown",
   "id": "e1b08331",
   "metadata": {},
   "source": [
    "Method `filter` may be used equivalently:"
   ]
  },
  {
   "cell_type": "code",
   "execution_count": 78,
   "id": "1fe99b0b",
   "metadata": {},
   "outputs": [
    {
     "name": "stderr",
     "output_type": "stream",
     "text": [
      "2022-03-31 09:44:58,059 \u001b[1;37mINFO\u001b[0m cyclops.orm     - Query returned successfully!\n",
      "\u001b[1;37mINFO\u001b[0m:cyclops.orm:Query returned successfully!\n",
      "2022-03-31 09:44:58,060 \u001b[1;37mINFO\u001b[0m cyclops.utils.profile - Finished executing function wrapper_func in 0.015436 s\n",
      "\u001b[1;37mINFO\u001b[0m:cyclops.utils.profile:Finished executing function wrapper_func in 0.015436 s\n"
     ]
    },
    {
     "data": {
      "text/html": [
       "<div>\n",
       "<style scoped>\n",
       "    .dataframe tbody tr th:only-of-type {\n",
       "        vertical-align: middle;\n",
       "    }\n",
       "\n",
       "    .dataframe tbody tr th {\n",
       "        vertical-align: top;\n",
       "    }\n",
       "\n",
       "    .dataframe thead th {\n",
       "        text-align: right;\n",
       "    }\n",
       "</style>\n",
       "<table border=\"1\" class=\"dataframe\">\n",
       "  <thead>\n",
       "    <tr style=\"text-align: right;\">\n",
       "      <th></th>\n",
       "      <th>icd_code</th>\n",
       "      <th>icd_version</th>\n",
       "      <th>long_title</th>\n",
       "    </tr>\n",
       "  </thead>\n",
       "  <tbody>\n",
       "    <tr>\n",
       "      <th>0</th>\n",
       "      <td>0010</td>\n",
       "      <td>9</td>\n",
       "      <td>Cholera due to vibrio cholerae</td>\n",
       "    </tr>\n",
       "  </tbody>\n",
       "</table>\n",
       "</div>"
      ],
      "text/plain": [
       "  icd_code  icd_version                      long_title\n",
       "0  0010               9  Cholera due to vibrio cholerae"
      ]
     },
     "execution_count": 78,
     "metadata": {},
     "output_type": "execute_result"
    },
    {
     "data": {
      "application/javascript": [
       "\n",
       "            setTimeout(function() {\n",
       "                var nbb_cell_id = 78;\n",
       "                var nbb_unformatted_code = \"cond = db.mimic_hosp.d_icd_diagnoses.icd_code == \\\"0010\\\"\\nquery = select(db.mimic_hosp.d_icd_diagnoses.data).filter(cond)\\ndb.run_query(query)\";\n",
       "                var nbb_formatted_code = \"cond = db.mimic_hosp.d_icd_diagnoses.icd_code == \\\"0010\\\"\\nquery = select(db.mimic_hosp.d_icd_diagnoses.data).filter(cond)\\ndb.run_query(query)\";\n",
       "                var nbb_cells = Jupyter.notebook.get_cells();\n",
       "                for (var i = 0; i < nbb_cells.length; ++i) {\n",
       "                    if (nbb_cells[i].input_prompt_number == nbb_cell_id) {\n",
       "                        if (nbb_cells[i].get_text() == nbb_unformatted_code) {\n",
       "                             nbb_cells[i].set_text(nbb_formatted_code);\n",
       "                        }\n",
       "                        break;\n",
       "                    }\n",
       "                }\n",
       "            }, 500);\n",
       "            "
      ],
      "text/plain": [
       "<IPython.core.display.Javascript object>"
      ]
     },
     "metadata": {},
     "output_type": "display_data"
    }
   ],
   "source": [
    "cond = db.mimic_hosp.d_icd_diagnoses.icd_code == \"0010\"\n",
    "query = select(db.mimic_hosp.d_icd_diagnoses.data).filter(cond)\n",
    "db.run_query(query)"
   ]
  },
  {
   "cell_type": "markdown",
   "id": "7247945e",
   "metadata": {},
   "source": [
    "More complex conditions have been handled in `cyclops.query_utils`, available for convenience.\n",
    "\n",
    "Consider the substring condition:"
   ]
  },
  {
   "cell_type": "code",
   "execution_count": 79,
   "id": "1cac6e9c",
   "metadata": {},
   "outputs": [
    {
     "name": "stderr",
     "output_type": "stream",
     "text": [
      "2022-03-31 09:44:58,170 \u001b[1;37mINFO\u001b[0m cyclops.orm     - Query returned successfully!\n",
      "\u001b[1;37mINFO\u001b[0m:cyclops.orm:Query returned successfully!\n",
      "2022-03-31 09:44:58,172 \u001b[1;37mINFO\u001b[0m cyclops.utils.profile - Finished executing function wrapper_func in 0.097989 s\n",
      "\u001b[1;37mINFO\u001b[0m:cyclops.utils.profile:Finished executing function wrapper_func in 0.097989 s\n"
     ]
    },
    {
     "data": {
      "text/html": [
       "<div>\n",
       "<style scoped>\n",
       "    .dataframe tbody tr th:only-of-type {\n",
       "        vertical-align: middle;\n",
       "    }\n",
       "\n",
       "    .dataframe tbody tr th {\n",
       "        vertical-align: top;\n",
       "    }\n",
       "\n",
       "    .dataframe thead th {\n",
       "        text-align: right;\n",
       "    }\n",
       "</style>\n",
       "<table border=\"1\" class=\"dataframe\">\n",
       "  <thead>\n",
       "    <tr style=\"text-align: right;\">\n",
       "      <th></th>\n",
       "      <th>icd_code</th>\n",
       "      <th>icd_version</th>\n",
       "      <th>long_title</th>\n",
       "    </tr>\n",
       "  </thead>\n",
       "  <tbody>\n",
       "    <tr>\n",
       "      <th>0</th>\n",
       "      <td>T863</td>\n",
       "      <td>10</td>\n",
       "      <td>Complications of heart-lung transplant</td>\n",
       "    </tr>\n",
       "    <tr>\n",
       "      <th>1</th>\n",
       "      <td>T8630</td>\n",
       "      <td>10</td>\n",
       "      <td>Unspecified complication of heart-lung transplant</td>\n",
       "    </tr>\n",
       "    <tr>\n",
       "      <th>2</th>\n",
       "      <td>T8631</td>\n",
       "      <td>10</td>\n",
       "      <td>Heart-lung transplant rejection</td>\n",
       "    </tr>\n",
       "    <tr>\n",
       "      <th>3</th>\n",
       "      <td>T8632</td>\n",
       "      <td>10</td>\n",
       "      <td>Heart-lung transplant failure</td>\n",
       "    </tr>\n",
       "    <tr>\n",
       "      <th>4</th>\n",
       "      <td>T8633</td>\n",
       "      <td>10</td>\n",
       "      <td>Heart-lung transplant infection</td>\n",
       "    </tr>\n",
       "    <tr>\n",
       "      <th>5</th>\n",
       "      <td>T8639</td>\n",
       "      <td>10</td>\n",
       "      <td>Other complications of heart-lung transplant</td>\n",
       "    </tr>\n",
       "    <tr>\n",
       "      <th>6</th>\n",
       "      <td>Z48280</td>\n",
       "      <td>10</td>\n",
       "      <td>Encounter for aftercare following heart-lung t...</td>\n",
       "    </tr>\n",
       "    <tr>\n",
       "      <th>7</th>\n",
       "      <td>Z954</td>\n",
       "      <td>10</td>\n",
       "      <td>Presence of other heart-valve replacement</td>\n",
       "    </tr>\n",
       "  </tbody>\n",
       "</table>\n",
       "</div>"
      ],
      "text/plain": [
       "  icd_code  icd_version                                         long_title\n",
       "0  T863              10             Complications of heart-lung transplant\n",
       "1  T8630             10  Unspecified complication of heart-lung transplant\n",
       "2  T8631             10                    Heart-lung transplant rejection\n",
       "3  T8632             10                      Heart-lung transplant failure\n",
       "4  T8633             10                    Heart-lung transplant infection\n",
       "5  T8639             10       Other complications of heart-lung transplant\n",
       "6  Z48280            10  Encounter for aftercare following heart-lung t...\n",
       "7  Z954              10          Presence of other heart-valve replacement"
      ]
     },
     "execution_count": 79,
     "metadata": {},
     "output_type": "execute_result"
    },
    {
     "data": {
      "application/javascript": [
       "\n",
       "            setTimeout(function() {\n",
       "                var nbb_cell_id = 79;\n",
       "                var nbb_unformatted_code = \"cond = q_utils.substring_cond(db.mimic_hosp.d_icd_diagnoses.long_title, \\\"Heart-\\\")\\nquery = select(db.mimic_hosp.d_icd_diagnoses.data).where(cond)\\ndb.run_query(query)\";\n",
       "                var nbb_formatted_code = \"cond = q_utils.substring_cond(db.mimic_hosp.d_icd_diagnoses.long_title, \\\"Heart-\\\")\\nquery = select(db.mimic_hosp.d_icd_diagnoses.data).where(cond)\\ndb.run_query(query)\";\n",
       "                var nbb_cells = Jupyter.notebook.get_cells();\n",
       "                for (var i = 0; i < nbb_cells.length; ++i) {\n",
       "                    if (nbb_cells[i].input_prompt_number == nbb_cell_id) {\n",
       "                        if (nbb_cells[i].get_text() == nbb_unformatted_code) {\n",
       "                             nbb_cells[i].set_text(nbb_formatted_code);\n",
       "                        }\n",
       "                        break;\n",
       "                    }\n",
       "                }\n",
       "            }, 500);\n",
       "            "
      ],
      "text/plain": [
       "<IPython.core.display.Javascript object>"
      ]
     },
     "metadata": {},
     "output_type": "display_data"
    }
   ],
   "source": [
    "cond = q_utils.substring_cond(db.mimic_hosp.d_icd_diagnoses.long_title, \"Heart-\")\n",
    "query = select(db.mimic_hosp.d_icd_diagnoses.data).where(cond)\n",
    "db.run_query(query)"
   ]
  },
  {
   "cell_type": "markdown",
   "id": "419ad5c6",
   "metadata": {},
   "source": [
    "Notice that we received results with \"heart-\" despite specifying \"Heart-\". This is because the function automatically assumed we wanted to ignore case. Different pre-processing assumptions are made for condition functions and can be explored in `cyclops.query_utils`.\n",
    "\n",
    "These pre-processing assumptions are entirely optional. If case matters, we could simply specify this:"
   ]
  },
  {
   "cell_type": "code",
   "execution_count": 80,
   "id": "50c4ba57",
   "metadata": {},
   "outputs": [
    {
     "name": "stderr",
     "output_type": "stream",
     "text": [
      "2022-03-31 09:44:58,229 \u001b[1;37mINFO\u001b[0m cyclops.orm     - Query returned successfully!\n",
      "\u001b[1;37mINFO\u001b[0m:cyclops.orm:Query returned successfully!\n",
      "2022-03-31 09:44:58,230 \u001b[1;37mINFO\u001b[0m cyclops.utils.profile - Finished executing function wrapper_func in 0.034915 s\n",
      "\u001b[1;37mINFO\u001b[0m:cyclops.utils.profile:Finished executing function wrapper_func in 0.034915 s\n"
     ]
    },
    {
     "data": {
      "text/html": [
       "<div>\n",
       "<style scoped>\n",
       "    .dataframe tbody tr th:only-of-type {\n",
       "        vertical-align: middle;\n",
       "    }\n",
       "\n",
       "    .dataframe tbody tr th {\n",
       "        vertical-align: top;\n",
       "    }\n",
       "\n",
       "    .dataframe thead th {\n",
       "        text-align: right;\n",
       "    }\n",
       "</style>\n",
       "<table border=\"1\" class=\"dataframe\">\n",
       "  <thead>\n",
       "    <tr style=\"text-align: right;\">\n",
       "      <th></th>\n",
       "      <th>icd_code</th>\n",
       "      <th>icd_version</th>\n",
       "      <th>long_title</th>\n",
       "    </tr>\n",
       "  </thead>\n",
       "  <tbody>\n",
       "    <tr>\n",
       "      <th>0</th>\n",
       "      <td>T8631</td>\n",
       "      <td>10</td>\n",
       "      <td>Heart-lung transplant rejection</td>\n",
       "    </tr>\n",
       "    <tr>\n",
       "      <th>1</th>\n",
       "      <td>T8632</td>\n",
       "      <td>10</td>\n",
       "      <td>Heart-lung transplant failure</td>\n",
       "    </tr>\n",
       "    <tr>\n",
       "      <th>2</th>\n",
       "      <td>T8633</td>\n",
       "      <td>10</td>\n",
       "      <td>Heart-lung transplant infection</td>\n",
       "    </tr>\n",
       "  </tbody>\n",
       "</table>\n",
       "</div>"
      ],
      "text/plain": [
       "  icd_code  icd_version                       long_title\n",
       "0  T8631             10  Heart-lung transplant rejection\n",
       "1  T8632             10    Heart-lung transplant failure\n",
       "2  T8633             10  Heart-lung transplant infection"
      ]
     },
     "execution_count": 80,
     "metadata": {},
     "output_type": "execute_result"
    },
    {
     "data": {
      "application/javascript": [
       "\n",
       "            setTimeout(function() {\n",
       "                var nbb_cell_id = 80;\n",
       "                var nbb_unformatted_code = \"cond = q_utils.substring_cond(\\n    db.mimic_hosp.d_icd_diagnoses.long_title, \\\"Heart-\\\", lower=False\\n)\\nquery = select(db.mimic_hosp.d_icd_diagnoses.data).where(cond)\\ndb.run_query(query)\";\n",
       "                var nbb_formatted_code = \"cond = q_utils.substring_cond(\\n    db.mimic_hosp.d_icd_diagnoses.long_title, \\\"Heart-\\\", lower=False\\n)\\nquery = select(db.mimic_hosp.d_icd_diagnoses.data).where(cond)\\ndb.run_query(query)\";\n",
       "                var nbb_cells = Jupyter.notebook.get_cells();\n",
       "                for (var i = 0; i < nbb_cells.length; ++i) {\n",
       "                    if (nbb_cells[i].input_prompt_number == nbb_cell_id) {\n",
       "                        if (nbb_cells[i].get_text() == nbb_unformatted_code) {\n",
       "                             nbb_cells[i].set_text(nbb_formatted_code);\n",
       "                        }\n",
       "                        break;\n",
       "                    }\n",
       "                }\n",
       "            }, 500);\n",
       "            "
      ],
      "text/plain": [
       "<IPython.core.display.Javascript object>"
      ]
     },
     "metadata": {},
     "output_type": "display_data"
    }
   ],
   "source": [
    "cond = q_utils.substring_cond(\n",
    "    db.mimic_hosp.d_icd_diagnoses.long_title, \"Heart-\", lower=False\n",
    ")\n",
    "query = select(db.mimic_hosp.d_icd_diagnoses.data).where(cond)\n",
    "db.run_query(query)"
   ]
  },
  {
   "cell_type": "markdown",
   "id": "243df8d6",
   "metadata": {},
   "source": [
    "Assumptions may be made regarding case, trimming of whitespace, and type conversions."
   ]
  },
  {
   "cell_type": "markdown",
   "id": "ee96a5cf",
   "metadata": {},
   "source": [
    "## Joins"
   ]
  },
  {
   "cell_type": "markdown",
   "id": "1e12d3e2",
   "metadata": {},
   "source": [
    "We can perform joins in SQLAlchemy.\n",
    "\n",
    "For example, say we want to get a table back with patient diagnoses (found in `db.mimic_hosp.diagnoses_icd`), but include the titles of the diagnoses (found in `db.mimic_hosp.d_icd_diagnoses`).\n",
    "\n",
    "When creating complex queries, many joins consist of at least one, if not two, subqueries. So, we'll demonstrate an inner join using a subquery:"
   ]
  },
  {
   "cell_type": "code",
   "execution_count": 81,
   "id": "791c6b76",
   "metadata": {
    "scrolled": true
   },
   "outputs": [
    {
     "name": "stderr",
     "output_type": "stream",
     "text": [
      "2022-03-31 09:44:58,558 \u001b[1;37mINFO\u001b[0m cyclops.orm     - Query returned successfully!\n",
      "\u001b[1;37mINFO\u001b[0m:cyclops.orm:Query returned successfully!\n",
      "2022-03-31 09:44:58,560 \u001b[1;37mINFO\u001b[0m cyclops.utils.profile - Finished executing function wrapper_func in 0.314942 s\n",
      "\u001b[1;37mINFO\u001b[0m:cyclops.utils.profile:Finished executing function wrapper_func in 0.314942 s\n"
     ]
    },
    {
     "data": {
      "text/html": [
       "<div>\n",
       "<style scoped>\n",
       "    .dataframe tbody tr th:only-of-type {\n",
       "        vertical-align: middle;\n",
       "    }\n",
       "\n",
       "    .dataframe tbody tr th {\n",
       "        vertical-align: top;\n",
       "    }\n",
       "\n",
       "    .dataframe thead th {\n",
       "        text-align: right;\n",
       "    }\n",
       "</style>\n",
       "<table border=\"1\" class=\"dataframe\">\n",
       "  <thead>\n",
       "    <tr style=\"text-align: right;\">\n",
       "      <th></th>\n",
       "      <th>subject_id</th>\n",
       "      <th>hadm_id</th>\n",
       "      <th>seq_num</th>\n",
       "      <th>icd_code</th>\n",
       "      <th>icd_version</th>\n",
       "      <th>icd_code_1</th>\n",
       "      <th>icd_version_1</th>\n",
       "      <th>long_title</th>\n",
       "    </tr>\n",
       "  </thead>\n",
       "  <tbody>\n",
       "    <tr>\n",
       "      <th>0</th>\n",
       "      <td>15998114</td>\n",
       "      <td>22987966</td>\n",
       "      <td>2</td>\n",
       "      <td>V6284</td>\n",
       "      <td>9</td>\n",
       "      <td>V6284</td>\n",
       "      <td>9</td>\n",
       "      <td>Suicidal ideation</td>\n",
       "    </tr>\n",
       "    <tr>\n",
       "      <th>1</th>\n",
       "      <td>19754677</td>\n",
       "      <td>27138064</td>\n",
       "      <td>8</td>\n",
       "      <td>71590</td>\n",
       "      <td>9</td>\n",
       "      <td>71590</td>\n",
       "      <td>9</td>\n",
       "      <td>Osteoarthrosis, unspecified whether generalize...</td>\n",
       "    </tr>\n",
       "    <tr>\n",
       "      <th>2</th>\n",
       "      <td>19754677</td>\n",
       "      <td>27138064</td>\n",
       "      <td>2</td>\n",
       "      <td>42833</td>\n",
       "      <td>9</td>\n",
       "      <td>42833</td>\n",
       "      <td>9</td>\n",
       "      <td>Acute on chronic diastolic heart failure</td>\n",
       "    </tr>\n",
       "  </tbody>\n",
       "</table>\n",
       "</div>"
      ],
      "text/plain": [
       "   subject_id   hadm_id  seq_num icd_code  icd_version icd_code_1  \\\n",
       "0    15998114  22987966        2  V6284              9    V6284     \n",
       "1    19754677  27138064        8  71590              9    71590     \n",
       "2    19754677  27138064        2  42833              9    42833     \n",
       "\n",
       "   icd_version_1                                         long_title  \n",
       "0              9                                  Suicidal ideation  \n",
       "1              9  Osteoarthrosis, unspecified whether generalize...  \n",
       "2              9           Acute on chronic diastolic heart failure  "
      ]
     },
     "execution_count": 81,
     "metadata": {},
     "output_type": "execute_result"
    },
    {
     "data": {
      "application/javascript": [
       "\n",
       "            setTimeout(function() {\n",
       "                var nbb_cell_id = 81;\n",
       "                var nbb_unformatted_code = \"query = select(db.mimic_hosp.diagnoses_icd.data, subquery).join(\\n    subquery, db.mimic_hosp.diagnoses_icd.icd_code == subquery.c.icd_code\\n)\\ndb.run_query(query, limit=3)\";\n",
       "                var nbb_formatted_code = \"query = select(db.mimic_hosp.diagnoses_icd.data, subquery).join(\\n    subquery, db.mimic_hosp.diagnoses_icd.icd_code == subquery.c.icd_code\\n)\\ndb.run_query(query, limit=3)\";\n",
       "                var nbb_cells = Jupyter.notebook.get_cells();\n",
       "                for (var i = 0; i < nbb_cells.length; ++i) {\n",
       "                    if (nbb_cells[i].input_prompt_number == nbb_cell_id) {\n",
       "                        if (nbb_cells[i].get_text() == nbb_unformatted_code) {\n",
       "                             nbb_cells[i].set_text(nbb_formatted_code);\n",
       "                        }\n",
       "                        break;\n",
       "                    }\n",
       "                }\n",
       "            }, 500);\n",
       "            "
      ],
      "text/plain": [
       "<IPython.core.display.Javascript object>"
      ]
     },
     "metadata": {},
     "output_type": "display_data"
    }
   ],
   "source": [
    "query = select(db.mimic_hosp.diagnoses_icd.data, subquery).join(\n",
    "    subquery, db.mimic_hosp.diagnoses_icd.icd_code == subquery.c.icd_code\n",
    ")\n",
    "db.run_query(query, limit=3)"
   ]
  },
  {
   "cell_type": "markdown",
   "id": "34a08258",
   "metadata": {},
   "source": [
    "A cross product can be done by simply not using the `join` method:"
   ]
  },
  {
   "cell_type": "code",
   "execution_count": 82,
   "id": "5bd462a9",
   "metadata": {},
   "outputs": [
    {
     "name": "stderr",
     "output_type": "stream",
     "text": [
      "2022-03-31 09:44:58,577 \u001b[1;37mINFO\u001b[0m cyclops.orm     - Query returned successfully!\n",
      "\u001b[1;37mINFO\u001b[0m:cyclops.orm:Query returned successfully!\n",
      "2022-03-31 09:44:58,578 \u001b[1;37mINFO\u001b[0m cyclops.utils.profile - Finished executing function wrapper_func in 0.003934 s\n",
      "\u001b[1;37mINFO\u001b[0m:cyclops.utils.profile:Finished executing function wrapper_func in 0.003934 s\n"
     ]
    },
    {
     "data": {
      "text/html": [
       "<div>\n",
       "<style scoped>\n",
       "    .dataframe tbody tr th:only-of-type {\n",
       "        vertical-align: middle;\n",
       "    }\n",
       "\n",
       "    .dataframe tbody tr th {\n",
       "        vertical-align: top;\n",
       "    }\n",
       "\n",
       "    .dataframe thead th {\n",
       "        text-align: right;\n",
       "    }\n",
       "</style>\n",
       "<table border=\"1\" class=\"dataframe\">\n",
       "  <thead>\n",
       "    <tr style=\"text-align: right;\">\n",
       "      <th></th>\n",
       "      <th>subject_id</th>\n",
       "      <th>hadm_id</th>\n",
       "      <th>seq_num</th>\n",
       "      <th>icd_code</th>\n",
       "      <th>icd_version</th>\n",
       "      <th>icd_code_1</th>\n",
       "      <th>icd_version_1</th>\n",
       "      <th>long_title</th>\n",
       "    </tr>\n",
       "  </thead>\n",
       "  <tbody>\n",
       "    <tr>\n",
       "      <th>0</th>\n",
       "      <td>12926949</td>\n",
       "      <td>21005278</td>\n",
       "      <td>4</td>\n",
       "      <td>79311</td>\n",
       "      <td>9</td>\n",
       "      <td>0010</td>\n",
       "      <td>9</td>\n",
       "      <td>Cholera due to vibrio cholerae</td>\n",
       "    </tr>\n",
       "    <tr>\n",
       "      <th>1</th>\n",
       "      <td>17995056</td>\n",
       "      <td>24718820</td>\n",
       "      <td>3</td>\n",
       "      <td>V6284</td>\n",
       "      <td>9</td>\n",
       "      <td>0010</td>\n",
       "      <td>9</td>\n",
       "      <td>Cholera due to vibrio cholerae</td>\n",
       "    </tr>\n",
       "    <tr>\n",
       "      <th>2</th>\n",
       "      <td>17995056</td>\n",
       "      <td>24718820</td>\n",
       "      <td>5</td>\n",
       "      <td>25000</td>\n",
       "      <td>9</td>\n",
       "      <td>0010</td>\n",
       "      <td>9</td>\n",
       "      <td>Cholera due to vibrio cholerae</td>\n",
       "    </tr>\n",
       "  </tbody>\n",
       "</table>\n",
       "</div>"
      ],
      "text/plain": [
       "   subject_id   hadm_id  seq_num icd_code  icd_version icd_code_1  \\\n",
       "0    12926949  21005278        4  79311              9    0010      \n",
       "1    17995056  24718820        3  V6284              9    0010      \n",
       "2    17995056  24718820        5  25000              9    0010      \n",
       "\n",
       "   icd_version_1                      long_title  \n",
       "0              9  Cholera due to vibrio cholerae  \n",
       "1              9  Cholera due to vibrio cholerae  \n",
       "2              9  Cholera due to vibrio cholerae  "
      ]
     },
     "execution_count": 82,
     "metadata": {},
     "output_type": "execute_result"
    },
    {
     "data": {
      "application/javascript": [
       "\n",
       "            setTimeout(function() {\n",
       "                var nbb_cell_id = 82;\n",
       "                var nbb_unformatted_code = \"subquery = select(db.mimic_hosp.d_icd_diagnoses.data).subquery()\\nquery = select(db.mimic_hosp.diagnoses_icd.data, subquery)\\ndb.run_query(query, limit=3)\";\n",
       "                var nbb_formatted_code = \"subquery = select(db.mimic_hosp.d_icd_diagnoses.data).subquery()\\nquery = select(db.mimic_hosp.diagnoses_icd.data, subquery)\\ndb.run_query(query, limit=3)\";\n",
       "                var nbb_cells = Jupyter.notebook.get_cells();\n",
       "                for (var i = 0; i < nbb_cells.length; ++i) {\n",
       "                    if (nbb_cells[i].input_prompt_number == nbb_cell_id) {\n",
       "                        if (nbb_cells[i].get_text() == nbb_unformatted_code) {\n",
       "                             nbb_cells[i].set_text(nbb_formatted_code);\n",
       "                        }\n",
       "                        break;\n",
       "                    }\n",
       "                }\n",
       "            }, 500);\n",
       "            "
      ],
      "text/plain": [
       "<IPython.core.display.Javascript object>"
      ]
     },
     "metadata": {},
     "output_type": "display_data"
    }
   ],
   "source": [
    "subquery = select(db.mimic_hosp.d_icd_diagnoses.data).subquery()\n",
    "query = select(db.mimic_hosp.diagnoses_icd.data, subquery)\n",
    "db.run_query(query, limit=3)"
   ]
  },
  {
   "cell_type": "markdown",
   "id": "f2e35ead",
   "metadata": {},
   "source": [
    "It is smart to test queries with joins using a small `limit` in `db.run_query`, since cross products can create unreasonably large tables."
   ]
  },
  {
   "cell_type": "markdown",
   "id": "f77e3458",
   "metadata": {},
   "source": [
    "Notice that in the inner join we have duplicated, unwanted columns `icd_code_1`, `icd_version_1`. This is because we selected the entire `db.mimic_hosp.d_icd_diagnoses` table despite only wanting the `long_title` column.\n",
    "\n",
    "We can fix this by selecting this column specifically:"
   ]
  },
  {
   "cell_type": "code",
   "execution_count": 83,
   "id": "ff081025",
   "metadata": {},
   "outputs": [
    {
     "name": "stderr",
     "output_type": "stream",
     "text": [
      "2022-03-31 09:44:58,901 \u001b[1;37mINFO\u001b[0m cyclops.orm     - Query returned successfully!\n",
      "\u001b[1;37mINFO\u001b[0m:cyclops.orm:Query returned successfully!\n",
      "2022-03-31 09:44:58,903 \u001b[1;37mINFO\u001b[0m cyclops.utils.profile - Finished executing function wrapper_func in 0.310452 s\n",
      "\u001b[1;37mINFO\u001b[0m:cyclops.utils.profile:Finished executing function wrapper_func in 0.310452 s\n"
     ]
    },
    {
     "data": {
      "text/html": [
       "<div>\n",
       "<style scoped>\n",
       "    .dataframe tbody tr th:only-of-type {\n",
       "        vertical-align: middle;\n",
       "    }\n",
       "\n",
       "    .dataframe tbody tr th {\n",
       "        vertical-align: top;\n",
       "    }\n",
       "\n",
       "    .dataframe thead th {\n",
       "        text-align: right;\n",
       "    }\n",
       "</style>\n",
       "<table border=\"1\" class=\"dataframe\">\n",
       "  <thead>\n",
       "    <tr style=\"text-align: right;\">\n",
       "      <th></th>\n",
       "      <th>subject_id</th>\n",
       "      <th>hadm_id</th>\n",
       "      <th>seq_num</th>\n",
       "      <th>icd_code</th>\n",
       "      <th>icd_version</th>\n",
       "      <th>long_title</th>\n",
       "    </tr>\n",
       "  </thead>\n",
       "  <tbody>\n",
       "    <tr>\n",
       "      <th>0</th>\n",
       "      <td>17190208</td>\n",
       "      <td>26495862</td>\n",
       "      <td>38</td>\n",
       "      <td>Y838</td>\n",
       "      <td>10</td>\n",
       "      <td>Other surgical procedures as the cause of abno...</td>\n",
       "    </tr>\n",
       "    <tr>\n",
       "      <th>1</th>\n",
       "      <td>19754677</td>\n",
       "      <td>27138064</td>\n",
       "      <td>8</td>\n",
       "      <td>71590</td>\n",
       "      <td>9</td>\n",
       "      <td>Osteoarthrosis, unspecified whether generalize...</td>\n",
       "    </tr>\n",
       "    <tr>\n",
       "      <th>2</th>\n",
       "      <td>19754677</td>\n",
       "      <td>27138064</td>\n",
       "      <td>2</td>\n",
       "      <td>42833</td>\n",
       "      <td>9</td>\n",
       "      <td>Acute on chronic diastolic heart failure</td>\n",
       "    </tr>\n",
       "  </tbody>\n",
       "</table>\n",
       "</div>"
      ],
      "text/plain": [
       "   subject_id   hadm_id  seq_num icd_code  icd_version  \\\n",
       "0    17190208  26495862       38  Y838              10   \n",
       "1    19754677  27138064        8  71590              9   \n",
       "2    19754677  27138064        2  42833              9   \n",
       "\n",
       "                                          long_title  \n",
       "0  Other surgical procedures as the cause of abno...  \n",
       "1  Osteoarthrosis, unspecified whether generalize...  \n",
       "2           Acute on chronic diastolic heart failure  "
      ]
     },
     "execution_count": 83,
     "metadata": {},
     "output_type": "execute_result"
    },
    {
     "data": {
      "application/javascript": [
       "\n",
       "            setTimeout(function() {\n",
       "                var nbb_cell_id = 83;\n",
       "                var nbb_unformatted_code = \"subquery = select(db.mimic_hosp.d_icd_diagnoses.data).subquery()\\n\\nrunning_query = select(db.mimic_hosp.diagnoses_icd.data, subquery.c.long_title).join(\\n    subquery, db.mimic_hosp.diagnoses_icd.icd_code == subquery.c.icd_code\\n)\\ndb.run_query(running_query, limit=3)\";\n",
       "                var nbb_formatted_code = \"subquery = select(db.mimic_hosp.d_icd_diagnoses.data).subquery()\\n\\nrunning_query = select(db.mimic_hosp.diagnoses_icd.data, subquery.c.long_title).join(\\n    subquery, db.mimic_hosp.diagnoses_icd.icd_code == subquery.c.icd_code\\n)\\ndb.run_query(running_query, limit=3)\";\n",
       "                var nbb_cells = Jupyter.notebook.get_cells();\n",
       "                for (var i = 0; i < nbb_cells.length; ++i) {\n",
       "                    if (nbb_cells[i].input_prompt_number == nbb_cell_id) {\n",
       "                        if (nbb_cells[i].get_text() == nbb_unformatted_code) {\n",
       "                             nbb_cells[i].set_text(nbb_formatted_code);\n",
       "                        }\n",
       "                        break;\n",
       "                    }\n",
       "                }\n",
       "            }, 500);\n",
       "            "
      ],
      "text/plain": [
       "<IPython.core.display.Javascript object>"
      ]
     },
     "metadata": {},
     "output_type": "display_data"
    }
   ],
   "source": [
    "subquery = select(db.mimic_hosp.d_icd_diagnoses.data).subquery()\n",
    "\n",
    "running_query = select(db.mimic_hosp.diagnoses_icd.data, subquery.c.long_title).join(\n",
    "    subquery, db.mimic_hosp.diagnoses_icd.icd_code == subquery.c.icd_code\n",
    ")\n",
    "db.run_query(running_query, limit=3)"
   ]
  },
  {
   "cell_type": "markdown",
   "id": "b55f5238",
   "metadata": {},
   "source": [
    "We can select any combination of tables and columns in this manner."
   ]
  },
  {
   "cell_type": "markdown",
   "id": "77b82688",
   "metadata": {},
   "source": [
    "## Group by, Order by"
   ]
  },
  {
   "cell_type": "markdown",
   "id": "6e59a71b",
   "metadata": {},
   "source": [
    "We can perform use the `group_by` method to group by different columns:"
   ]
  },
  {
   "cell_type": "code",
   "execution_count": 84,
   "id": "a3831ae1",
   "metadata": {},
   "outputs": [
    {
     "name": "stderr",
     "output_type": "stream",
     "text": [
      "2022-03-31 09:44:59,298 \u001b[1;37mINFO\u001b[0m cyclops.orm     - Query returned successfully!\n",
      "\u001b[1;37mINFO\u001b[0m:cyclops.orm:Query returned successfully!\n",
      "2022-03-31 09:44:59,299 \u001b[1;37mINFO\u001b[0m cyclops.utils.profile - Finished executing function wrapper_func in 0.383287 s\n",
      "\u001b[1;37mINFO\u001b[0m:cyclops.utils.profile:Finished executing function wrapper_func in 0.383287 s\n"
     ]
    },
    {
     "data": {
      "text/html": [
       "<div>\n",
       "<style scoped>\n",
       "    .dataframe tbody tr th:only-of-type {\n",
       "        vertical-align: middle;\n",
       "    }\n",
       "\n",
       "    .dataframe tbody tr th {\n",
       "        vertical-align: top;\n",
       "    }\n",
       "\n",
       "    .dataframe thead th {\n",
       "        text-align: right;\n",
       "    }\n",
       "</style>\n",
       "<table border=\"1\" class=\"dataframe\">\n",
       "  <thead>\n",
       "    <tr style=\"text-align: right;\">\n",
       "      <th></th>\n",
       "      <th>icd_code</th>\n",
       "      <th>count_1</th>\n",
       "    </tr>\n",
       "  </thead>\n",
       "  <tbody>\n",
       "    <tr>\n",
       "      <th>0</th>\n",
       "      <td>0020</td>\n",
       "      <td>8</td>\n",
       "    </tr>\n",
       "    <tr>\n",
       "      <th>1</th>\n",
       "      <td>0029</td>\n",
       "      <td>1</td>\n",
       "    </tr>\n",
       "    <tr>\n",
       "      <th>2</th>\n",
       "      <td>0030</td>\n",
       "      <td>34</td>\n",
       "    </tr>\n",
       "  </tbody>\n",
       "</table>\n",
       "</div>"
      ],
      "text/plain": [
       "  icd_code  count_1\n",
       "0  0020           8\n",
       "1  0029           1\n",
       "2  0030          34"
      ]
     },
     "execution_count": 84,
     "metadata": {},
     "output_type": "execute_result"
    },
    {
     "data": {
      "application/javascript": [
       "\n",
       "            setTimeout(function() {\n",
       "                var nbb_cell_id = 84;\n",
       "                var nbb_unformatted_code = \"query = select(\\n    db.mimic_hosp.diagnoses_icd.icd_code,\\n    func.count(db.mimic_hosp.diagnoses_icd.icd_code),\\n).group_by(db.mimic_hosp.diagnoses_icd.icd_code)\\ndb.run_query(query, limit=3)\";\n",
       "                var nbb_formatted_code = \"query = select(\\n    db.mimic_hosp.diagnoses_icd.icd_code,\\n    func.count(db.mimic_hosp.diagnoses_icd.icd_code),\\n).group_by(db.mimic_hosp.diagnoses_icd.icd_code)\\ndb.run_query(query, limit=3)\";\n",
       "                var nbb_cells = Jupyter.notebook.get_cells();\n",
       "                for (var i = 0; i < nbb_cells.length; ++i) {\n",
       "                    if (nbb_cells[i].input_prompt_number == nbb_cell_id) {\n",
       "                        if (nbb_cells[i].get_text() == nbb_unformatted_code) {\n",
       "                             nbb_cells[i].set_text(nbb_formatted_code);\n",
       "                        }\n",
       "                        break;\n",
       "                    }\n",
       "                }\n",
       "            }, 500);\n",
       "            "
      ],
      "text/plain": [
       "<IPython.core.display.Javascript object>"
      ]
     },
     "metadata": {},
     "output_type": "display_data"
    }
   ],
   "source": [
    "query = select(\n",
    "    db.mimic_hosp.diagnoses_icd.icd_code,\n",
    "    func.count(db.mimic_hosp.diagnoses_icd.icd_code),\n",
    ").group_by(db.mimic_hosp.diagnoses_icd.icd_code)\n",
    "db.run_query(query, limit=3)"
   ]
  },
  {
   "cell_type": "markdown",
   "id": "62c4e91e",
   "metadata": {},
   "source": [
    "The typically restrictions apply that anything selected must be in an aggregate function or included in the group by."
   ]
  },
  {
   "cell_type": "markdown",
   "id": "5ab18b87",
   "metadata": {},
   "source": [
    "We can also take the previous query and order the rows in ascending or descending order:"
   ]
  },
  {
   "cell_type": "code",
   "execution_count": 85,
   "id": "93c7e5a3",
   "metadata": {},
   "outputs": [
    {
     "name": "stderr",
     "output_type": "stream",
     "text": [
      "2022-03-31 09:44:59,687 \u001b[1;37mINFO\u001b[0m cyclops.orm     - Query returned successfully!\n",
      "\u001b[1;37mINFO\u001b[0m:cyclops.orm:Query returned successfully!\n",
      "2022-03-31 09:44:59,689 \u001b[1;37mINFO\u001b[0m cyclops.utils.profile - Finished executing function wrapper_func in 0.379678 s\n",
      "\u001b[1;37mINFO\u001b[0m:cyclops.utils.profile:Finished executing function wrapper_func in 0.379678 s\n"
     ]
    },
    {
     "data": {
      "text/html": [
       "<div>\n",
       "<style scoped>\n",
       "    .dataframe tbody tr th:only-of-type {\n",
       "        vertical-align: middle;\n",
       "    }\n",
       "\n",
       "    .dataframe tbody tr th {\n",
       "        vertical-align: top;\n",
       "    }\n",
       "\n",
       "    .dataframe thead th {\n",
       "        text-align: right;\n",
       "    }\n",
       "</style>\n",
       "<table border=\"1\" class=\"dataframe\">\n",
       "  <thead>\n",
       "    <tr style=\"text-align: right;\">\n",
       "      <th></th>\n",
       "      <th>icd_code</th>\n",
       "      <th>count_1</th>\n",
       "    </tr>\n",
       "  </thead>\n",
       "  <tbody>\n",
       "    <tr>\n",
       "      <th>0</th>\n",
       "      <td>Z9989</td>\n",
       "      <td>8</td>\n",
       "    </tr>\n",
       "    <tr>\n",
       "      <th>1</th>\n",
       "      <td>Z9981</td>\n",
       "      <td>3050</td>\n",
       "    </tr>\n",
       "    <tr>\n",
       "      <th>2</th>\n",
       "      <td>Z993</td>\n",
       "      <td>1841</td>\n",
       "    </tr>\n",
       "  </tbody>\n",
       "</table>\n",
       "</div>"
      ],
      "text/plain": [
       "  icd_code  count_1\n",
       "0  Z9989          8\n",
       "1  Z9981       3050\n",
       "2  Z993        1841"
      ]
     },
     "execution_count": 85,
     "metadata": {},
     "output_type": "execute_result"
    },
    {
     "data": {
      "application/javascript": [
       "\n",
       "            setTimeout(function() {\n",
       "                var nbb_cell_id = 85;\n",
       "                var nbb_unformatted_code = \"# Descending\\nquery = query.order_by(db.mimic_hosp.diagnoses_icd.icd_code.desc())\\ndb.run_query(query, limit=3)\";\n",
       "                var nbb_formatted_code = \"# Descending\\nquery = query.order_by(db.mimic_hosp.diagnoses_icd.icd_code.desc())\\ndb.run_query(query, limit=3)\";\n",
       "                var nbb_cells = Jupyter.notebook.get_cells();\n",
       "                for (var i = 0; i < nbb_cells.length; ++i) {\n",
       "                    if (nbb_cells[i].input_prompt_number == nbb_cell_id) {\n",
       "                        if (nbb_cells[i].get_text() == nbb_unformatted_code) {\n",
       "                             nbb_cells[i].set_text(nbb_formatted_code);\n",
       "                        }\n",
       "                        break;\n",
       "                    }\n",
       "                }\n",
       "            }, 500);\n",
       "            "
      ],
      "text/plain": [
       "<IPython.core.display.Javascript object>"
      ]
     },
     "metadata": {},
     "output_type": "display_data"
    }
   ],
   "source": [
    "# Descending\n",
    "query = query.order_by(db.mimic_hosp.diagnoses_icd.icd_code.desc())\n",
    "db.run_query(query, limit=3)"
   ]
  },
  {
   "cell_type": "code",
   "execution_count": 86,
   "id": "2f2b5576",
   "metadata": {},
   "outputs": [
    {
     "name": "stderr",
     "output_type": "stream",
     "text": [
      "2022-03-31 09:45:00,122 \u001b[1;37mINFO\u001b[0m cyclops.orm     - Query returned successfully!\n",
      "\u001b[1;37mINFO\u001b[0m:cyclops.orm:Query returned successfully!\n",
      "2022-03-31 09:45:00,124 \u001b[1;37mINFO\u001b[0m cyclops.utils.profile - Finished executing function wrapper_func in 0.414600 s\n",
      "\u001b[1;37mINFO\u001b[0m:cyclops.utils.profile:Finished executing function wrapper_func in 0.414600 s\n"
     ]
    },
    {
     "data": {
      "text/html": [
       "<div>\n",
       "<style scoped>\n",
       "    .dataframe tbody tr th:only-of-type {\n",
       "        vertical-align: middle;\n",
       "    }\n",
       "\n",
       "    .dataframe tbody tr th {\n",
       "        vertical-align: top;\n",
       "    }\n",
       "\n",
       "    .dataframe thead th {\n",
       "        text-align: right;\n",
       "    }\n",
       "</style>\n",
       "<table border=\"1\" class=\"dataframe\">\n",
       "  <thead>\n",
       "    <tr style=\"text-align: right;\">\n",
       "      <th></th>\n",
       "      <th>icd_code</th>\n",
       "      <th>count_1</th>\n",
       "    </tr>\n",
       "  </thead>\n",
       "  <tbody>\n",
       "    <tr>\n",
       "      <th>0</th>\n",
       "      <td>0020</td>\n",
       "      <td>8</td>\n",
       "    </tr>\n",
       "    <tr>\n",
       "      <th>1</th>\n",
       "      <td>0029</td>\n",
       "      <td>1</td>\n",
       "    </tr>\n",
       "    <tr>\n",
       "      <th>2</th>\n",
       "      <td>0030</td>\n",
       "      <td>34</td>\n",
       "    </tr>\n",
       "  </tbody>\n",
       "</table>\n",
       "</div>"
      ],
      "text/plain": [
       "  icd_code  count_1\n",
       "0  0020           8\n",
       "1  0029           1\n",
       "2  0030          34"
      ]
     },
     "execution_count": 86,
     "metadata": {},
     "output_type": "execute_result"
    },
    {
     "data": {
      "application/javascript": [
       "\n",
       "            setTimeout(function() {\n",
       "                var nbb_cell_id = 86;\n",
       "                var nbb_unformatted_code = \"# Back to ascending\\nsubquery = query.subquery()\\nquery = select(subquery).order_by(subquery.c.icd_code)\\ndb.run_query(query, limit=3)\";\n",
       "                var nbb_formatted_code = \"# Back to ascending\\nsubquery = query.subquery()\\nquery = select(subquery).order_by(subquery.c.icd_code)\\ndb.run_query(query, limit=3)\";\n",
       "                var nbb_cells = Jupyter.notebook.get_cells();\n",
       "                for (var i = 0; i < nbb_cells.length; ++i) {\n",
       "                    if (nbb_cells[i].input_prompt_number == nbb_cell_id) {\n",
       "                        if (nbb_cells[i].get_text() == nbb_unformatted_code) {\n",
       "                             nbb_cells[i].set_text(nbb_formatted_code);\n",
       "                        }\n",
       "                        break;\n",
       "                    }\n",
       "                }\n",
       "            }, 500);\n",
       "            "
      ],
      "text/plain": [
       "<IPython.core.display.Javascript object>"
      ]
     },
     "metadata": {},
     "output_type": "display_data"
    }
   ],
   "source": [
    "# Back to ascending\n",
    "subquery = query.subquery()\n",
    "query = select(subquery).order_by(subquery.c.icd_code)\n",
    "db.run_query(query, limit=3)"
   ]
  },
  {
   "cell_type": "markdown",
   "id": "2864aeec",
   "metadata": {},
   "source": [
    "## Attribute handling"
   ]
  },
  {
   "cell_type": "markdown",
   "id": "1917fe06",
   "metadata": {},
   "source": [
    "Let's re-order the attributes in previously defined query, perhaps where we want `icd_code` and its corresponding title, `long_title`, next to one another:"
   ]
  },
  {
   "cell_type": "code",
   "execution_count": 87,
   "id": "ea9b272e",
   "metadata": {},
   "outputs": [
    {
     "name": "stderr",
     "output_type": "stream",
     "text": [
      "2022-03-31 09:45:02,336 \u001b[1;37mINFO\u001b[0m cyclops.orm     - Query returned successfully!\n",
      "\u001b[1;37mINFO\u001b[0m:cyclops.orm:Query returned successfully!\n",
      "2022-03-31 09:45:02,338 \u001b[1;37mINFO\u001b[0m cyclops.utils.profile - Finished executing function wrapper_func in 2.191950 s\n",
      "\u001b[1;37mINFO\u001b[0m:cyclops.utils.profile:Finished executing function wrapper_func in 2.191950 s\n"
     ]
    },
    {
     "data": {
      "text/html": [
       "<div>\n",
       "<style scoped>\n",
       "    .dataframe tbody tr th:only-of-type {\n",
       "        vertical-align: middle;\n",
       "    }\n",
       "\n",
       "    .dataframe tbody tr th {\n",
       "        vertical-align: top;\n",
       "    }\n",
       "\n",
       "    .dataframe thead th {\n",
       "        text-align: right;\n",
       "    }\n",
       "</style>\n",
       "<table border=\"1\" class=\"dataframe\">\n",
       "  <thead>\n",
       "    <tr style=\"text-align: right;\">\n",
       "      <th></th>\n",
       "      <th>subject_id</th>\n",
       "      <th>hadm_id</th>\n",
       "      <th>seq_num</th>\n",
       "      <th>icd_code</th>\n",
       "      <th>long_title</th>\n",
       "      <th>icd_version</th>\n",
       "    </tr>\n",
       "  </thead>\n",
       "  <tbody>\n",
       "    <tr>\n",
       "      <th>0</th>\n",
       "      <td>10158684</td>\n",
       "      <td>22072764</td>\n",
       "      <td>1</td>\n",
       "      <td>0020</td>\n",
       "      <td>Typhoid fever</td>\n",
       "      <td>9</td>\n",
       "    </tr>\n",
       "    <tr>\n",
       "      <th>1</th>\n",
       "      <td>11816842</td>\n",
       "      <td>25448380</td>\n",
       "      <td>1</td>\n",
       "      <td>0020</td>\n",
       "      <td>Typhoid fever</td>\n",
       "      <td>9</td>\n",
       "    </tr>\n",
       "  </tbody>\n",
       "</table>\n",
       "</div>"
      ],
      "text/plain": [
       "   subject_id   hadm_id  seq_num icd_code     long_title  icd_version\n",
       "0    10158684  22072764        1  0020     Typhoid fever            9\n",
       "1    11816842  25448380        1  0020     Typhoid fever            9"
      ]
     },
     "execution_count": 87,
     "metadata": {},
     "output_type": "execute_result"
    },
    {
     "data": {
      "application/javascript": [
       "\n",
       "            setTimeout(function() {\n",
       "                var nbb_cell_id = 87;\n",
       "                var nbb_unformatted_code = \"running_query = q_utils.reorder_attributes(\\n    running_query,\\n    [\\\"subject_id\\\", \\\"hadm_id\\\", \\\"seq_num\\\", \\\"icd_code\\\", \\\"long_title\\\", \\\"icd_version\\\"],\\n)\\n\\ndb.run_query(running_query, limit=2)\";\n",
       "                var nbb_formatted_code = \"running_query = q_utils.reorder_attributes(\\n    running_query,\\n    [\\\"subject_id\\\", \\\"hadm_id\\\", \\\"seq_num\\\", \\\"icd_code\\\", \\\"long_title\\\", \\\"icd_version\\\"],\\n)\\n\\ndb.run_query(running_query, limit=2)\";\n",
       "                var nbb_cells = Jupyter.notebook.get_cells();\n",
       "                for (var i = 0; i < nbb_cells.length; ++i) {\n",
       "                    if (nbb_cells[i].input_prompt_number == nbb_cell_id) {\n",
       "                        if (nbb_cells[i].get_text() == nbb_unformatted_code) {\n",
       "                             nbb_cells[i].set_text(nbb_formatted_code);\n",
       "                        }\n",
       "                        break;\n",
       "                    }\n",
       "                }\n",
       "            }, 500);\n",
       "            "
      ],
      "text/plain": [
       "<IPython.core.display.Javascript object>"
      ]
     },
     "metadata": {},
     "output_type": "display_data"
    }
   ],
   "source": [
    "running_query = q_utils.reorder_attributes(\n",
    "    running_query,\n",
    "    [\"subject_id\", \"hadm_id\", \"seq_num\", \"icd_code\", \"long_title\", \"icd_version\"],\n",
    ")\n",
    "\n",
    "db.run_query(running_query, limit=2)"
   ]
  },
  {
   "cell_type": "markdown",
   "id": "61d51fc6",
   "metadata": {},
   "source": [
    "Note that all existing attributes should be passed into this function, otherwise we'll receive an error."
   ]
  },
  {
   "cell_type": "markdown",
   "id": "0b68a04b",
   "metadata": {},
   "source": [
    "We can also drop any attributes we might want removed:"
   ]
  },
  {
   "cell_type": "code",
   "execution_count": 88,
   "id": "567dd43f",
   "metadata": {},
   "outputs": [
    {
     "name": "stderr",
     "output_type": "stream",
     "text": [
      "2022-03-31 09:45:05,155 \u001b[1;37mINFO\u001b[0m cyclops.orm     - Query returned successfully!\n",
      "\u001b[1;37mINFO\u001b[0m:cyclops.orm:Query returned successfully!\n",
      "2022-03-31 09:45:05,157 \u001b[1;37mINFO\u001b[0m cyclops.utils.profile - Finished executing function wrapper_func in 2.795270 s\n",
      "\u001b[1;37mINFO\u001b[0m:cyclops.utils.profile:Finished executing function wrapper_func in 2.795270 s\n"
     ]
    },
    {
     "data": {
      "text/html": [
       "<div>\n",
       "<style scoped>\n",
       "    .dataframe tbody tr th:only-of-type {\n",
       "        vertical-align: middle;\n",
       "    }\n",
       "\n",
       "    .dataframe tbody tr th {\n",
       "        vertical-align: top;\n",
       "    }\n",
       "\n",
       "    .dataframe thead th {\n",
       "        text-align: right;\n",
       "    }\n",
       "</style>\n",
       "<table border=\"1\" class=\"dataframe\">\n",
       "  <thead>\n",
       "    <tr style=\"text-align: right;\">\n",
       "      <th></th>\n",
       "      <th>subject_id</th>\n",
       "      <th>hadm_id</th>\n",
       "      <th>icd_code</th>\n",
       "      <th>long_title</th>\n",
       "      <th>icd_version</th>\n",
       "    </tr>\n",
       "  </thead>\n",
       "  <tbody>\n",
       "    <tr>\n",
       "      <th>0</th>\n",
       "      <td>10158684</td>\n",
       "      <td>22072764</td>\n",
       "      <td>0020</td>\n",
       "      <td>Typhoid fever</td>\n",
       "      <td>9</td>\n",
       "    </tr>\n",
       "    <tr>\n",
       "      <th>1</th>\n",
       "      <td>11816842</td>\n",
       "      <td>25448380</td>\n",
       "      <td>0020</td>\n",
       "      <td>Typhoid fever</td>\n",
       "      <td>9</td>\n",
       "    </tr>\n",
       "  </tbody>\n",
       "</table>\n",
       "</div>"
      ],
      "text/plain": [
       "   subject_id   hadm_id icd_code     long_title  icd_version\n",
       "0    10158684  22072764  0020     Typhoid fever            9\n",
       "1    11816842  25448380  0020     Typhoid fever            9"
      ]
     },
     "execution_count": 88,
     "metadata": {},
     "output_type": "execute_result"
    },
    {
     "data": {
      "application/javascript": [
       "\n",
       "            setTimeout(function() {\n",
       "                var nbb_cell_id = 88;\n",
       "                var nbb_unformatted_code = \"query_drop = q_utils.drop_attributes(running_query, \\\"seq_num\\\")\\ndb.run_query(query_drop, limit=2)\";\n",
       "                var nbb_formatted_code = \"query_drop = q_utils.drop_attributes(running_query, \\\"seq_num\\\")\\ndb.run_query(query_drop, limit=2)\";\n",
       "                var nbb_cells = Jupyter.notebook.get_cells();\n",
       "                for (var i = 0; i < nbb_cells.length; ++i) {\n",
       "                    if (nbb_cells[i].input_prompt_number == nbb_cell_id) {\n",
       "                        if (nbb_cells[i].get_text() == nbb_unformatted_code) {\n",
       "                             nbb_cells[i].set_text(nbb_formatted_code);\n",
       "                        }\n",
       "                        break;\n",
       "                    }\n",
       "                }\n",
       "            }, 500);\n",
       "            "
      ],
      "text/plain": [
       "<IPython.core.display.Javascript object>"
      ]
     },
     "metadata": {},
     "output_type": "display_data"
    }
   ],
   "source": [
    "query_drop = q_utils.drop_attributes(running_query, \"seq_num\")\n",
    "db.run_query(query_drop, limit=2)"
   ]
  },
  {
   "cell_type": "markdown",
   "id": "4b46fe9a",
   "metadata": {},
   "source": [
    "Like many of the `q_utils` functions which accept attributes, we may pass in a single attribute, or multiple:"
   ]
  },
  {
   "cell_type": "code",
   "execution_count": 89,
   "id": "254d507d",
   "metadata": {},
   "outputs": [
    {
     "name": "stderr",
     "output_type": "stream",
     "text": [
      "2022-03-31 09:45:05,239 \u001b[1;37mINFO\u001b[0m cyclops.orm     - Query returned successfully!\n",
      "\u001b[1;37mINFO\u001b[0m:cyclops.orm:Query returned successfully!\n",
      "2022-03-31 09:45:05,241 \u001b[1;37mINFO\u001b[0m cyclops.utils.profile - Finished executing function wrapper_func in 0.060159 s\n",
      "\u001b[1;37mINFO\u001b[0m:cyclops.utils.profile:Finished executing function wrapper_func in 0.060159 s\n"
     ]
    },
    {
     "data": {
      "text/html": [
       "<div>\n",
       "<style scoped>\n",
       "    .dataframe tbody tr th:only-of-type {\n",
       "        vertical-align: middle;\n",
       "    }\n",
       "\n",
       "    .dataframe tbody tr th {\n",
       "        vertical-align: top;\n",
       "    }\n",
       "\n",
       "    .dataframe thead th {\n",
       "        text-align: right;\n",
       "    }\n",
       "</style>\n",
       "<table border=\"1\" class=\"dataframe\">\n",
       "  <thead>\n",
       "    <tr style=\"text-align: right;\">\n",
       "      <th></th>\n",
       "      <th>subject_id</th>\n",
       "      <th>hadm_id</th>\n",
       "      <th>icd_code</th>\n",
       "      <th>icd_version</th>\n",
       "    </tr>\n",
       "  </thead>\n",
       "  <tbody>\n",
       "    <tr>\n",
       "      <th>0</th>\n",
       "      <td>12926949</td>\n",
       "      <td>21005278</td>\n",
       "      <td>79311</td>\n",
       "      <td>9</td>\n",
       "    </tr>\n",
       "    <tr>\n",
       "      <th>1</th>\n",
       "      <td>17995056</td>\n",
       "      <td>24718820</td>\n",
       "      <td>V6284</td>\n",
       "      <td>9</td>\n",
       "    </tr>\n",
       "  </tbody>\n",
       "</table>\n",
       "</div>"
      ],
      "text/plain": [
       "   subject_id   hadm_id icd_code  icd_version\n",
       "0    12926949  21005278  79311              9\n",
       "1    17995056  24718820  V6284              9"
      ]
     },
     "execution_count": 89,
     "metadata": {},
     "output_type": "execute_result"
    },
    {
     "data": {
      "application/javascript": [
       "\n",
       "            setTimeout(function() {\n",
       "                var nbb_cell_id = 89;\n",
       "                var nbb_unformatted_code = \"query_drop = q_utils.drop_attributes(running_query, [\\\"seq_num\\\", \\\"long_title\\\"])\\ndb.run_query(query_drop, limit=2)\";\n",
       "                var nbb_formatted_code = \"query_drop = q_utils.drop_attributes(running_query, [\\\"seq_num\\\", \\\"long_title\\\"])\\ndb.run_query(query_drop, limit=2)\";\n",
       "                var nbb_cells = Jupyter.notebook.get_cells();\n",
       "                for (var i = 0; i < nbb_cells.length; ++i) {\n",
       "                    if (nbb_cells[i].input_prompt_number == nbb_cell_id) {\n",
       "                        if (nbb_cells[i].get_text() == nbb_unformatted_code) {\n",
       "                             nbb_cells[i].set_text(nbb_formatted_code);\n",
       "                        }\n",
       "                        break;\n",
       "                    }\n",
       "                }\n",
       "            }, 500);\n",
       "            "
      ],
      "text/plain": [
       "<IPython.core.display.Javascript object>"
      ]
     },
     "metadata": {},
     "output_type": "display_data"
    }
   ],
   "source": [
    "query_drop = q_utils.drop_attributes(running_query, [\"seq_num\", \"long_title\"])\n",
    "db.run_query(query_drop, limit=2)"
   ]
  },
  {
   "cell_type": "markdown",
   "id": "0185c8ba",
   "metadata": {},
   "source": [
    "We can rename attributes:"
   ]
  },
  {
   "cell_type": "code",
   "execution_count": 90,
   "id": "1892c781",
   "metadata": {},
   "outputs": [
    {
     "name": "stderr",
     "output_type": "stream",
     "text": [
      "2022-03-31 09:45:07,433 \u001b[1;37mINFO\u001b[0m cyclops.orm     - Query returned successfully!\n",
      "\u001b[1;37mINFO\u001b[0m:cyclops.orm:Query returned successfully!\n",
      "2022-03-31 09:45:07,434 \u001b[1;37mINFO\u001b[0m cyclops.utils.profile - Finished executing function wrapper_func in 2.170368 s\n",
      "\u001b[1;37mINFO\u001b[0m:cyclops.utils.profile:Finished executing function wrapper_func in 2.170368 s\n"
     ]
    },
    {
     "data": {
      "text/html": [
       "<div>\n",
       "<style scoped>\n",
       "    .dataframe tbody tr th:only-of-type {\n",
       "        vertical-align: middle;\n",
       "    }\n",
       "\n",
       "    .dataframe tbody tr th {\n",
       "        vertical-align: top;\n",
       "    }\n",
       "\n",
       "    .dataframe thead th {\n",
       "        text-align: right;\n",
       "    }\n",
       "</style>\n",
       "<table border=\"1\" class=\"dataframe\">\n",
       "  <thead>\n",
       "    <tr style=\"text-align: right;\">\n",
       "      <th></th>\n",
       "      <th>subject_id</th>\n",
       "      <th>hadm_id</th>\n",
       "      <th>seq_num</th>\n",
       "      <th>icd_code</th>\n",
       "      <th>icd_title</th>\n",
       "      <th>icd_version</th>\n",
       "    </tr>\n",
       "  </thead>\n",
       "  <tbody>\n",
       "    <tr>\n",
       "      <th>0</th>\n",
       "      <td>10158684</td>\n",
       "      <td>22072764</td>\n",
       "      <td>1</td>\n",
       "      <td>0020</td>\n",
       "      <td>Typhoid fever</td>\n",
       "      <td>9</td>\n",
       "    </tr>\n",
       "    <tr>\n",
       "      <th>1</th>\n",
       "      <td>11816842</td>\n",
       "      <td>25448380</td>\n",
       "      <td>1</td>\n",
       "      <td>0020</td>\n",
       "      <td>Typhoid fever</td>\n",
       "      <td>9</td>\n",
       "    </tr>\n",
       "  </tbody>\n",
       "</table>\n",
       "</div>"
      ],
      "text/plain": [
       "   subject_id   hadm_id  seq_num icd_code      icd_title  icd_version\n",
       "0    10158684  22072764        1  0020     Typhoid fever            9\n",
       "1    11816842  25448380        1  0020     Typhoid fever            9"
      ]
     },
     "execution_count": 90,
     "metadata": {},
     "output_type": "execute_result"
    },
    {
     "data": {
      "application/javascript": [
       "\n",
       "            setTimeout(function() {\n",
       "                var nbb_cell_id = 90;\n",
       "                var nbb_unformatted_code = \"query_rename = q_utils.rename_attributes(running_query, {\\\"long_title\\\": \\\"icd_title\\\"})\\ndb.run_query(query_rename, limit=2)\";\n",
       "                var nbb_formatted_code = \"query_rename = q_utils.rename_attributes(running_query, {\\\"long_title\\\": \\\"icd_title\\\"})\\ndb.run_query(query_rename, limit=2)\";\n",
       "                var nbb_cells = Jupyter.notebook.get_cells();\n",
       "                for (var i = 0; i < nbb_cells.length; ++i) {\n",
       "                    if (nbb_cells[i].input_prompt_number == nbb_cell_id) {\n",
       "                        if (nbb_cells[i].get_text() == nbb_unformatted_code) {\n",
       "                             nbb_cells[i].set_text(nbb_formatted_code);\n",
       "                        }\n",
       "                        break;\n",
       "                    }\n",
       "                }\n",
       "            }, 500);\n",
       "            "
      ],
      "text/plain": [
       "<IPython.core.display.Javascript object>"
      ]
     },
     "metadata": {},
     "output_type": "display_data"
    }
   ],
   "source": [
    "query_rename = q_utils.rename_attributes(running_query, {\"long_title\": \"icd_title\"})\n",
    "db.run_query(query_rename, limit=2)"
   ]
  },
  {
   "cell_type": "markdown",
   "id": "f62a7c37",
   "metadata": {},
   "source": [
    "### Applying functions"
   ]
  },
  {
   "cell_type": "markdown",
   "id": "536c3df1",
   "metadata": {},
   "source": [
    "We need to be careful. Consider the diagnosis ICD code values:"
   ]
  },
  {
   "cell_type": "code",
   "execution_count": 91,
   "id": "a0a0695e",
   "metadata": {},
   "outputs": [
    {
     "name": "stderr",
     "output_type": "stream",
     "text": [
      "2022-03-31 09:45:07,461 \u001b[1;37mINFO\u001b[0m cyclops.orm     - Query returned successfully!\n",
      "\u001b[1;37mINFO\u001b[0m:cyclops.orm:Query returned successfully!\n",
      "2022-03-31 09:45:07,462 \u001b[1;37mINFO\u001b[0m cyclops.utils.profile - Finished executing function wrapper_func in 0.004560 s\n",
      "\u001b[1;37mINFO\u001b[0m:cyclops.utils.profile:Finished executing function wrapper_func in 0.004560 s\n"
     ]
    },
    {
     "data": {
      "text/html": [
       "<div>\n",
       "<style scoped>\n",
       "    .dataframe tbody tr th:only-of-type {\n",
       "        vertical-align: middle;\n",
       "    }\n",
       "\n",
       "    .dataframe tbody tr th {\n",
       "        vertical-align: top;\n",
       "    }\n",
       "\n",
       "    .dataframe thead th {\n",
       "        text-align: right;\n",
       "    }\n",
       "</style>\n",
       "<table border=\"1\" class=\"dataframe\">\n",
       "  <thead>\n",
       "    <tr style=\"text-align: right;\">\n",
       "      <th></th>\n",
       "      <th>icd_code</th>\n",
       "      <th>icd_version</th>\n",
       "      <th>long_title</th>\n",
       "    </tr>\n",
       "  </thead>\n",
       "  <tbody>\n",
       "    <tr>\n",
       "      <th>0</th>\n",
       "      <td>0010</td>\n",
       "      <td>9</td>\n",
       "      <td>Cholera due to vibrio cholerae</td>\n",
       "    </tr>\n",
       "    <tr>\n",
       "      <th>1</th>\n",
       "      <td>0011</td>\n",
       "      <td>9</td>\n",
       "      <td>Cholera due to vibrio cholerae el tor</td>\n",
       "    </tr>\n",
       "  </tbody>\n",
       "</table>\n",
       "</div>"
      ],
      "text/plain": [
       "  icd_code  icd_version                             long_title\n",
       "0  0010               9         Cholera due to vibrio cholerae\n",
       "1  0011               9  Cholera due to vibrio cholerae el tor"
      ]
     },
     "execution_count": 91,
     "metadata": {},
     "output_type": "execute_result"
    },
    {
     "data": {
      "application/javascript": [
       "\n",
       "            setTimeout(function() {\n",
       "                var nbb_cell_id = 91;\n",
       "                var nbb_unformatted_code = \"query = db.mimic_hosp.d_icd_diagnoses\\ndf = db.run_query(query, limit=2)\\ndf\";\n",
       "                var nbb_formatted_code = \"query = db.mimic_hosp.d_icd_diagnoses\\ndf = db.run_query(query, limit=2)\\ndf\";\n",
       "                var nbb_cells = Jupyter.notebook.get_cells();\n",
       "                for (var i = 0; i < nbb_cells.length; ++i) {\n",
       "                    if (nbb_cells[i].input_prompt_number == nbb_cell_id) {\n",
       "                        if (nbb_cells[i].get_text() == nbb_unformatted_code) {\n",
       "                             nbb_cells[i].set_text(nbb_formatted_code);\n",
       "                        }\n",
       "                        break;\n",
       "                    }\n",
       "                }\n",
       "            }, 500);\n",
       "            "
      ],
      "text/plain": [
       "<IPython.core.display.Javascript object>"
      ]
     },
     "metadata": {},
     "output_type": "display_data"
    }
   ],
   "source": [
    "query = db.mimic_hosp.d_icd_diagnoses\n",
    "df = db.run_query(query, limit=2)\n",
    "df"
   ]
  },
  {
   "cell_type": "code",
   "execution_count": 92,
   "id": "5fa84950",
   "metadata": {},
   "outputs": [
    {
     "data": {
      "text/plain": [
       "array(['0010   ', '0011   '], dtype=object)"
      ]
     },
     "execution_count": 92,
     "metadata": {},
     "output_type": "execute_result"
    },
    {
     "data": {
      "application/javascript": [
       "\n",
       "            setTimeout(function() {\n",
       "                var nbb_cell_id = 92;\n",
       "                var nbb_unformatted_code = \"df[\\\"icd_code\\\"].values\";\n",
       "                var nbb_formatted_code = \"df[\\\"icd_code\\\"].values\";\n",
       "                var nbb_cells = Jupyter.notebook.get_cells();\n",
       "                for (var i = 0; i < nbb_cells.length; ++i) {\n",
       "                    if (nbb_cells[i].input_prompt_number == nbb_cell_id) {\n",
       "                        if (nbb_cells[i].get_text() == nbb_unformatted_code) {\n",
       "                             nbb_cells[i].set_text(nbb_formatted_code);\n",
       "                        }\n",
       "                        break;\n",
       "                    }\n",
       "                }\n",
       "            }, 500);\n",
       "            "
      ],
      "text/plain": [
       "<IPython.core.display.Javascript object>"
      ]
     },
     "metadata": {},
     "output_type": "display_data"
    }
   ],
   "source": [
    "df[\"icd_code\"].values"
   ]
  },
  {
   "cell_type": "markdown",
   "id": "a6d03ea2",
   "metadata": {},
   "source": [
    "There is lots of trailing whitespace which we may not have expected.\n",
    "\n",
    "There are built-in function in SQLAlchemy such as sqlalchemy.func.trim which can remove leading/trailing whitespace, however it is difficult to apply these function in-place. We have created functionality for this."
   ]
  },
  {
   "cell_type": "markdown",
   "id": "071d270b",
   "metadata": {},
   "source": [
    "Here, we use `q_utils.trim_attributes` to trim leading/trailing whitespace from an attribute:"
   ]
  },
  {
   "cell_type": "code",
   "execution_count": 93,
   "id": "a74b3dec",
   "metadata": {},
   "outputs": [
    {
     "name": "stderr",
     "output_type": "stream",
     "text": [
      "2022-03-31 09:45:07,486 \u001b[1;37mINFO\u001b[0m cyclops.orm     - Query returned successfully!\n",
      "\u001b[1;37mINFO\u001b[0m:cyclops.orm:Query returned successfully!\n",
      "2022-03-31 09:45:07,487 \u001b[1;37mINFO\u001b[0m cyclops.utils.profile - Finished executing function wrapper_func in 0.004210 s\n",
      "\u001b[1;37mINFO\u001b[0m:cyclops.utils.profile:Finished executing function wrapper_func in 0.004210 s\n"
     ]
    },
    {
     "data": {
      "text/plain": [
       "array(['0010', '0011'], dtype=object)"
      ]
     },
     "execution_count": 93,
     "metadata": {},
     "output_type": "execute_result"
    },
    {
     "data": {
      "application/javascript": [
       "\n",
       "            setTimeout(function() {\n",
       "                var nbb_cell_id = 93;\n",
       "                var nbb_unformatted_code = \"query = q_utils.trim_attributes(db.mimic_hosp.d_icd_diagnoses, \\\"icd_code\\\")\\ndf = db.run_query(query, limit=2)\\ndf[\\\"icd_code\\\"].values\";\n",
       "                var nbb_formatted_code = \"query = q_utils.trim_attributes(db.mimic_hosp.d_icd_diagnoses, \\\"icd_code\\\")\\ndf = db.run_query(query, limit=2)\\ndf[\\\"icd_code\\\"].values\";\n",
       "                var nbb_cells = Jupyter.notebook.get_cells();\n",
       "                for (var i = 0; i < nbb_cells.length; ++i) {\n",
       "                    if (nbb_cells[i].input_prompt_number == nbb_cell_id) {\n",
       "                        if (nbb_cells[i].get_text() == nbb_unformatted_code) {\n",
       "                             nbb_cells[i].set_text(nbb_formatted_code);\n",
       "                        }\n",
       "                        break;\n",
       "                    }\n",
       "                }\n",
       "            }, 500);\n",
       "            "
      ],
      "text/plain": [
       "<IPython.core.display.Javascript object>"
      ]
     },
     "metadata": {},
     "output_type": "display_data"
    }
   ],
   "source": [
    "query = q_utils.trim_attributes(db.mimic_hosp.d_icd_diagnoses, \"icd_code\")\n",
    "df = db.run_query(query, limit=2)\n",
    "df[\"icd_code\"].values"
   ]
  },
  {
   "cell_type": "markdown",
   "id": "206f0c18",
   "metadata": {},
   "source": [
    "It is smart to perform sanity checks:"
   ]
  },
  {
   "cell_type": "code",
   "execution_count": 94,
   "id": "f55db9b3",
   "metadata": {},
   "outputs": [
    {
     "name": "stderr",
     "output_type": "stream",
     "text": [
      "2022-03-31 09:45:07,498 \u001b[1;37mINFO\u001b[0m cyclops.orm     - Query returned successfully!\n",
      "\u001b[1;37mINFO\u001b[0m:cyclops.orm:Query returned successfully!\n",
      "2022-03-31 09:45:07,499 \u001b[1;37mINFO\u001b[0m cyclops.utils.profile - Finished executing function wrapper_func in 0.002870 s\n",
      "\u001b[1;37mINFO\u001b[0m:cyclops.utils.profile:Finished executing function wrapper_func in 0.002870 s\n"
     ]
    },
    {
     "data": {
      "text/plain": [
       "array([False, False, False, False, False])"
      ]
     },
     "execution_count": 94,
     "metadata": {},
     "output_type": "execute_result"
    },
    {
     "data": {
      "application/javascript": [
       "\n",
       "            setTimeout(function() {\n",
       "                var nbb_cell_id = 94;\n",
       "                var nbb_unformatted_code = \"t = db.mimic_hosp.d_icd_diagnoses\\ndf = db.run_query(t, limit=5)\\nicd_codes_untrimmed = df[\\\"icd_code\\\"].values.astype(\\\"str\\\")\\nnp.char.strip(icd_codes_untrimmed) == icd_codes_untrimmed # Trim using NumPy\";\n",
       "                var nbb_formatted_code = \"t = db.mimic_hosp.d_icd_diagnoses\\ndf = db.run_query(t, limit=5)\\nicd_codes_untrimmed = df[\\\"icd_code\\\"].values.astype(\\\"str\\\")\\nnp.char.strip(icd_codes_untrimmed) == icd_codes_untrimmed  # Trim using NumPy\";\n",
       "                var nbb_cells = Jupyter.notebook.get_cells();\n",
       "                for (var i = 0; i < nbb_cells.length; ++i) {\n",
       "                    if (nbb_cells[i].input_prompt_number == nbb_cell_id) {\n",
       "                        if (nbb_cells[i].get_text() == nbb_unformatted_code) {\n",
       "                             nbb_cells[i].set_text(nbb_formatted_code);\n",
       "                        }\n",
       "                        break;\n",
       "                    }\n",
       "                }\n",
       "            }, 500);\n",
       "            "
      ],
      "text/plain": [
       "<IPython.core.display.Javascript object>"
      ]
     },
     "metadata": {},
     "output_type": "display_data"
    }
   ],
   "source": [
    "t = db.mimic_hosp.d_icd_diagnoses\n",
    "df = db.run_query(t, limit=5)\n",
    "icd_codes_untrimmed = df[\"icd_code\"].values.astype(\"str\")\n",
    "np.char.strip(icd_codes_untrimmed) == icd_codes_untrimmed  # Trim using NumPy"
   ]
  },
  {
   "cell_type": "code",
   "execution_count": 95,
   "id": "ac7f074c",
   "metadata": {},
   "outputs": [
    {
     "name": "stderr",
     "output_type": "stream",
     "text": [
      "2022-03-31 09:45:07,512 \u001b[1;37mINFO\u001b[0m cyclops.orm     - Query returned successfully!\n",
      "\u001b[1;37mINFO\u001b[0m:cyclops.orm:Query returned successfully!\n",
      "2022-03-31 09:45:07,513 \u001b[1;37mINFO\u001b[0m cyclops.utils.profile - Finished executing function wrapper_func in 0.003301 s\n",
      "\u001b[1;37mINFO\u001b[0m:cyclops.utils.profile:Finished executing function wrapper_func in 0.003301 s\n"
     ]
    },
    {
     "data": {
      "text/plain": [
       "array([ True,  True,  True,  True,  True])"
      ]
     },
     "execution_count": 95,
     "metadata": {},
     "output_type": "execute_result"
    },
    {
     "data": {
      "application/javascript": [
       "\n",
       "            setTimeout(function() {\n",
       "                var nbb_cell_id = 95;\n",
       "                var nbb_unformatted_code = \"query = q_utils.trim_attributes(t, \\\"icd_code\\\")\\ndf = db.run_query(query, limit=5)\\nicd_codes_trimmed = df[\\\"icd_code\\\"].values.astype(\\\"str\\\")\\nnp.char.strip(icd_codes_trimmed) == icd_codes_trimmed # Trim using NumPy\";\n",
       "                var nbb_formatted_code = \"query = q_utils.trim_attributes(t, \\\"icd_code\\\")\\ndf = db.run_query(query, limit=5)\\nicd_codes_trimmed = df[\\\"icd_code\\\"].values.astype(\\\"str\\\")\\nnp.char.strip(icd_codes_trimmed) == icd_codes_trimmed  # Trim using NumPy\";\n",
       "                var nbb_cells = Jupyter.notebook.get_cells();\n",
       "                for (var i = 0; i < nbb_cells.length; ++i) {\n",
       "                    if (nbb_cells[i].input_prompt_number == nbb_cell_id) {\n",
       "                        if (nbb_cells[i].get_text() == nbb_unformatted_code) {\n",
       "                             nbb_cells[i].set_text(nbb_formatted_code);\n",
       "                        }\n",
       "                        break;\n",
       "                    }\n",
       "                }\n",
       "            }, 500);\n",
       "            "
      ],
      "text/plain": [
       "<IPython.core.display.Javascript object>"
      ]
     },
     "metadata": {},
     "output_type": "display_data"
    }
   ],
   "source": [
    "query = q_utils.trim_attributes(t, \"icd_code\")\n",
    "df = db.run_query(query, limit=5)\n",
    "icd_codes_trimmed = df[\"icd_code\"].values.astype(\"str\")\n",
    "np.char.strip(icd_codes_trimmed) == icd_codes_trimmed  # Trim using NumPy"
   ]
  },
  {
   "cell_type": "markdown",
   "id": "cf41dbba",
   "metadata": {},
   "source": [
    "Like many of the functions which accept attributes, we may pass in a single attribute, or multiple:"
   ]
  },
  {
   "cell_type": "code",
   "execution_count": 96,
   "id": "be31c633",
   "metadata": {},
   "outputs": [
    {
     "name": "stderr",
     "output_type": "stream",
     "text": [
      "2022-03-31 09:45:07,526 \u001b[1;37mINFO\u001b[0m cyclops.orm     - Query returned successfully!\n",
      "\u001b[1;37mINFO\u001b[0m:cyclops.orm:Query returned successfully!\n",
      "2022-03-31 09:45:07,527 \u001b[1;37mINFO\u001b[0m cyclops.utils.profile - Finished executing function wrapper_func in 0.003709 s\n",
      "\u001b[1;37mINFO\u001b[0m:cyclops.utils.profile:Finished executing function wrapper_func in 0.003709 s\n"
     ]
    },
    {
     "data": {
      "text/plain": [
       "array([['0010', '9'],\n",
       "       ['0011', '9']], dtype=object)"
      ]
     },
     "execution_count": 96,
     "metadata": {},
     "output_type": "execute_result"
    },
    {
     "data": {
      "application/javascript": [
       "\n",
       "            setTimeout(function() {\n",
       "                var nbb_cell_id = 96;\n",
       "                var nbb_unformatted_code = \"query = q_utils.trim_attributes(\\n    db.mimic_hosp.d_icd_diagnoses, [\\\"icd_code\\\", \\\"icd_version\\\"]\\n)\\ndf = db.run_query(query, limit=2)\\ndf[[\\\"icd_code\\\", \\\"icd_version\\\"]].values\";\n",
       "                var nbb_formatted_code = \"query = q_utils.trim_attributes(\\n    db.mimic_hosp.d_icd_diagnoses, [\\\"icd_code\\\", \\\"icd_version\\\"]\\n)\\ndf = db.run_query(query, limit=2)\\ndf[[\\\"icd_code\\\", \\\"icd_version\\\"]].values\";\n",
       "                var nbb_cells = Jupyter.notebook.get_cells();\n",
       "                for (var i = 0; i < nbb_cells.length; ++i) {\n",
       "                    if (nbb_cells[i].input_prompt_number == nbb_cell_id) {\n",
       "                        if (nbb_cells[i].get_text() == nbb_unformatted_code) {\n",
       "                             nbb_cells[i].set_text(nbb_formatted_code);\n",
       "                        }\n",
       "                        break;\n",
       "                    }\n",
       "                }\n",
       "            }, 500);\n",
       "            "
      ],
      "text/plain": [
       "<IPython.core.display.Javascript object>"
      ]
     },
     "metadata": {},
     "output_type": "display_data"
    }
   ],
   "source": [
    "query = q_utils.trim_attributes(\n",
    "    db.mimic_hosp.d_icd_diagnoses, [\"icd_code\", \"icd_version\"]\n",
    ")\n",
    "df = db.run_query(query, limit=2)\n",
    "df[[\"icd_code\", \"icd_version\"]].values"
   ]
  },
  {
   "cell_type": "markdown",
   "id": "b4e1ecd9",
   "metadata": {},
   "source": [
    "Note that certain functions will assume certain datatype conversions. For example, when trimming, the column would be converted to a string in order for this operation to be defined.\n",
    "\n",
    "The ICD version was originally not a string:"
   ]
  },
  {
   "cell_type": "code",
   "execution_count": 97,
   "id": "771d17da",
   "metadata": {},
   "outputs": [
    {
     "name": "stderr",
     "output_type": "stream",
     "text": [
      "2022-03-31 09:45:07,539 \u001b[1;37mINFO\u001b[0m cyclops.orm     - Query returned successfully!\n",
      "\u001b[1;37mINFO\u001b[0m:cyclops.orm:Query returned successfully!\n",
      "2022-03-31 09:45:07,540 \u001b[1;37mINFO\u001b[0m cyclops.utils.profile - Finished executing function wrapper_func in 0.002712 s\n",
      "\u001b[1;37mINFO\u001b[0m:cyclops.utils.profile:Finished executing function wrapper_func in 0.002712 s\n"
     ]
    },
    {
     "data": {
      "text/plain": [
       "array([9, 9])"
      ]
     },
     "execution_count": 97,
     "metadata": {},
     "output_type": "execute_result"
    },
    {
     "data": {
      "application/javascript": [
       "\n",
       "            setTimeout(function() {\n",
       "                var nbb_cell_id = 97;\n",
       "                var nbb_unformatted_code = \"query = db.mimic_hosp.d_icd_diagnoses\\ndf = db.run_query(query, limit=2)\\ndf[\\\"icd_version\\\"].values\";\n",
       "                var nbb_formatted_code = \"query = db.mimic_hosp.d_icd_diagnoses\\ndf = db.run_query(query, limit=2)\\ndf[\\\"icd_version\\\"].values\";\n",
       "                var nbb_cells = Jupyter.notebook.get_cells();\n",
       "                for (var i = 0; i < nbb_cells.length; ++i) {\n",
       "                    if (nbb_cells[i].input_prompt_number == nbb_cell_id) {\n",
       "                        if (nbb_cells[i].get_text() == nbb_unformatted_code) {\n",
       "                             nbb_cells[i].set_text(nbb_formatted_code);\n",
       "                        }\n",
       "                        break;\n",
       "                    }\n",
       "                }\n",
       "            }, 500);\n",
       "            "
      ],
      "text/plain": [
       "<IPython.core.display.Javascript object>"
      ]
     },
     "metadata": {},
     "output_type": "display_data"
    }
   ],
   "source": [
    "query = db.mimic_hosp.d_icd_diagnoses\n",
    "df = db.run_query(query, limit=2)\n",
    "df[\"icd_version\"].values"
   ]
  },
  {
   "cell_type": "markdown",
   "id": "7e2c0ce8",
   "metadata": {},
   "source": [
    "String conversions are made with `string_format_cond`, `substring_cond`, `startswith_cond`, `endswith_cond`. For example,"
   ]
  },
  {
   "cell_type": "code",
   "execution_count": 98,
   "id": "b27ad8ac",
   "metadata": {},
   "outputs": [
    {
     "name": "stderr",
     "output_type": "stream",
     "text": [
      "2022-03-31 09:45:07,551 \u001b[1;37mINFO\u001b[0m cyclops.orm     - Query returned successfully!\n",
      "\u001b[1;37mINFO\u001b[0m:cyclops.orm:Query returned successfully!\n",
      "2022-03-31 09:45:07,552 \u001b[1;37mINFO\u001b[0m cyclops.utils.profile - Finished executing function wrapper_func in 0.003051 s\n",
      "\u001b[1;37mINFO\u001b[0m:cyclops.utils.profile:Finished executing function wrapper_func in 0.003051 s\n"
     ]
    },
    {
     "data": {
      "text/html": [
       "<div>\n",
       "<style scoped>\n",
       "    .dataframe tbody tr th:only-of-type {\n",
       "        vertical-align: middle;\n",
       "    }\n",
       "\n",
       "    .dataframe tbody tr th {\n",
       "        vertical-align: top;\n",
       "    }\n",
       "\n",
       "    .dataframe thead th {\n",
       "        text-align: right;\n",
       "    }\n",
       "</style>\n",
       "<table border=\"1\" class=\"dataframe\">\n",
       "  <thead>\n",
       "    <tr style=\"text-align: right;\">\n",
       "      <th></th>\n",
       "      <th>subject_id</th>\n",
       "      <th>hadm_id</th>\n",
       "      <th>seq_num</th>\n",
       "      <th>icd_code</th>\n",
       "      <th>icd_version</th>\n",
       "    </tr>\n",
       "  </thead>\n",
       "  <tbody>\n",
       "    <tr>\n",
       "      <th>0</th>\n",
       "      <td>17190208</td>\n",
       "      <td>26495862</td>\n",
       "      <td>29</td>\n",
       "      <td>Y92239</td>\n",
       "      <td>10</td>\n",
       "    </tr>\n",
       "    <tr>\n",
       "      <th>1</th>\n",
       "      <td>17190208</td>\n",
       "      <td>26495862</td>\n",
       "      <td>38</td>\n",
       "      <td>Y838</td>\n",
       "      <td>10</td>\n",
       "    </tr>\n",
       "    <tr>\n",
       "      <th>2</th>\n",
       "      <td>17190208</td>\n",
       "      <td>26495862</td>\n",
       "      <td>20</td>\n",
       "      <td>K91840</td>\n",
       "      <td>10</td>\n",
       "    </tr>\n",
       "  </tbody>\n",
       "</table>\n",
       "</div>"
      ],
      "text/plain": [
       "   subject_id   hadm_id  seq_num icd_code  icd_version\n",
       "0    17190208  26495862       29  Y92239            10\n",
       "1    17190208  26495862       38  Y838              10\n",
       "2    17190208  26495862       20  K91840            10"
      ]
     },
     "execution_count": 98,
     "metadata": {},
     "output_type": "execute_result"
    },
    {
     "data": {
      "application/javascript": [
       "\n",
       "            setTimeout(function() {\n",
       "                var nbb_cell_id = 98;\n",
       "                var nbb_unformatted_code = \"query = select(db.mimic_hosp.diagnoses_icd.data).where(\\n    q_utils.startswith_cond(db.mimic_hosp.diagnoses_icd.icd_version, 1)\\n)\\ndb.run_query(query, limit=3)\";\n",
       "                var nbb_formatted_code = \"query = select(db.mimic_hosp.diagnoses_icd.data).where(\\n    q_utils.startswith_cond(db.mimic_hosp.diagnoses_icd.icd_version, 1)\\n)\\ndb.run_query(query, limit=3)\";\n",
       "                var nbb_cells = Jupyter.notebook.get_cells();\n",
       "                for (var i = 0; i < nbb_cells.length; ++i) {\n",
       "                    if (nbb_cells[i].input_prompt_number == nbb_cell_id) {\n",
       "                        if (nbb_cells[i].get_text() == nbb_unformatted_code) {\n",
       "                             nbb_cells[i].set_text(nbb_formatted_code);\n",
       "                        }\n",
       "                        break;\n",
       "                    }\n",
       "                }\n",
       "            }, 500);\n",
       "            "
      ],
      "text/plain": [
       "<IPython.core.display.Javascript object>"
      ]
     },
     "metadata": {},
     "output_type": "display_data"
    }
   ],
   "source": [
    "query = select(db.mimic_hosp.diagnoses_icd.data).where(\n",
    "    q_utils.startswith_cond(db.mimic_hosp.diagnoses_icd.icd_version, 1)\n",
    ")\n",
    "db.run_query(query, limit=3)"
   ]
  },
  {
   "cell_type": "markdown",
   "id": "8d687ebb",
   "metadata": {},
   "source": [
    "There is also support for creating custom in-place functions using `q_utils.apply_to_attributes`.\n",
    "\n",
    "Here we will use `sqlalchemy.func.lower` to convert the strings in a column to lowercase:"
   ]
  },
  {
   "cell_type": "code",
   "execution_count": 99,
   "id": "d8f7c7f9",
   "metadata": {},
   "outputs": [
    {
     "name": "stderr",
     "output_type": "stream",
     "text": [
      "2022-03-31 09:45:07,567 \u001b[1;37mINFO\u001b[0m cyclops.orm     - Query returned successfully!\n",
      "\u001b[1;37mINFO\u001b[0m:cyclops.orm:Query returned successfully!\n",
      "2022-03-31 09:45:07,568 \u001b[1;37mINFO\u001b[0m cyclops.utils.profile - Finished executing function wrapper_func in 0.004373 s\n",
      "\u001b[1;37mINFO\u001b[0m:cyclops.utils.profile:Finished executing function wrapper_func in 0.004373 s\n"
     ]
    },
    {
     "data": {
      "text/html": [
       "<div>\n",
       "<style scoped>\n",
       "    .dataframe tbody tr th:only-of-type {\n",
       "        vertical-align: middle;\n",
       "    }\n",
       "\n",
       "    .dataframe tbody tr th {\n",
       "        vertical-align: top;\n",
       "    }\n",
       "\n",
       "    .dataframe thead th {\n",
       "        text-align: right;\n",
       "    }\n",
       "</style>\n",
       "<table border=\"1\" class=\"dataframe\">\n",
       "  <thead>\n",
       "    <tr style=\"text-align: right;\">\n",
       "      <th></th>\n",
       "      <th>icd_code</th>\n",
       "      <th>icd_version</th>\n",
       "      <th>long_title</th>\n",
       "    </tr>\n",
       "  </thead>\n",
       "  <tbody>\n",
       "    <tr>\n",
       "      <th>0</th>\n",
       "      <td>0010</td>\n",
       "      <td>9</td>\n",
       "      <td>cholera due to vibrio cholerae</td>\n",
       "    </tr>\n",
       "    <tr>\n",
       "      <th>1</th>\n",
       "      <td>0011</td>\n",
       "      <td>9</td>\n",
       "      <td>cholera due to vibrio cholerae el tor</td>\n",
       "    </tr>\n",
       "  </tbody>\n",
       "</table>\n",
       "</div>"
      ],
      "text/plain": [
       "  icd_code  icd_version                             long_title\n",
       "0  0010               9         cholera due to vibrio cholerae\n",
       "1  0011               9  cholera due to vibrio cholerae el tor"
      ]
     },
     "execution_count": 99,
     "metadata": {},
     "output_type": "execute_result"
    },
    {
     "data": {
      "application/javascript": [
       "\n",
       "            setTimeout(function() {\n",
       "                var nbb_cell_id = 99;\n",
       "                var nbb_unformatted_code = \"query = q_utils.apply_to_attributes(\\n    db.mimic_hosp.d_icd_diagnoses, \\\"long_title\\\", func.lower\\n)\\ndb.run_query(query, limit=2)\";\n",
       "                var nbb_formatted_code = \"query = q_utils.apply_to_attributes(\\n    db.mimic_hosp.d_icd_diagnoses, \\\"long_title\\\", func.lower\\n)\\ndb.run_query(query, limit=2)\";\n",
       "                var nbb_cells = Jupyter.notebook.get_cells();\n",
       "                for (var i = 0; i < nbb_cells.length; ++i) {\n",
       "                    if (nbb_cells[i].input_prompt_number == nbb_cell_id) {\n",
       "                        if (nbb_cells[i].get_text() == nbb_unformatted_code) {\n",
       "                             nbb_cells[i].set_text(nbb_formatted_code);\n",
       "                        }\n",
       "                        break;\n",
       "                    }\n",
       "                }\n",
       "            }, 500);\n",
       "            "
      ],
      "text/plain": [
       "<IPython.core.display.Javascript object>"
      ]
     },
     "metadata": {},
     "output_type": "display_data"
    }
   ],
   "source": [
    "query = q_utils.apply_to_attributes(\n",
    "    db.mimic_hosp.d_icd_diagnoses, \"long_title\", func.lower\n",
    ")\n",
    "db.run_query(query, limit=2)"
   ]
  },
  {
   "cell_type": "markdown",
   "id": "32012fc2",
   "metadata": {},
   "source": [
    "In particular, `q_utils.apply_to_attributes` accepts any function which takes a Column object as its only argument and similarly returns a Column object."
   ]
  }
 ],
 "metadata": {
  "kernelspec": {
   "display_name": "cyclops-env",
   "language": "python",
   "name": "cyclops-env"
  },
  "language_info": {
   "codemirror_mode": {
    "name": "ipython",
    "version": 3
   },
   "file_extension": ".py",
   "mimetype": "text/x-python",
   "name": "python",
   "nbconvert_exporter": "python",
   "pygments_lexer": "ipython3",
   "version": "3.8.10"
  }
 },
 "nbformat": 4,
 "nbformat_minor": 5
}
