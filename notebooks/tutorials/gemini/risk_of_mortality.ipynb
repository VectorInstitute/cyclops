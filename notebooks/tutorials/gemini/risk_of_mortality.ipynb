{
 "cells": [
  {
   "cell_type": "markdown",
   "id": "a5117a0d-9d1f-495e-93d5-edb057cf4c0a",
   "metadata": {},
   "source": [
    "## Data pipeline for predicting risk of mortality."
   ]
  },
  {
   "cell_type": "markdown",
   "id": "a8bb2625-e38f-428a-bcfd-6299b405d0f4",
   "metadata": {},
   "source": [
    "## Imports"
   ]
  },
  {
   "cell_type": "code",
   "execution_count": 1,
   "id": "international-relief",
   "metadata": {},
   "outputs": [
    {
     "name": "stderr",
     "output_type": "stream",
     "text": [
      "2022-06-12 00:21:35,556 \u001b[1;37mINFO\u001b[0m cyclops.orm     - Database setup, ready to run queries!\n"
     ]
    }
   ],
   "source": [
    "import os\n",
    "import random\n",
    "\n",
    "import matplotlib.pyplot as plt\n",
    "import numpy as np\n",
    "import pandas as pd\n",
    "\n",
    "from cyclops.feature_handler import FeatureHandler\n",
    "from cyclops.plotter import set_bars_color, setup_plot\n",
    "from cyclops.processor import run_data_pipeline\n",
    "from cyclops.processors.aggregate import Aggregator\n",
    "from cyclops.processors.column_names import (\n",
    "    ADMIT_TIMESTAMP,\n",
    "    AGE,\n",
    "    DIAGNOSIS_CODE,\n",
    "    DISCHARGE_DISPOSITION,\n",
    "    DISCHARGE_TIMESTAMP,\n",
    "    ENCOUNTER_ID,\n",
    "    EVENT_NAME,\n",
    "    EVENT_TIMESTAMP,\n",
    "    EVENT_VALUE,\n",
    "    HOSPITAL_ID,\n",
    "    LENGTH_OF_STAY_IN_ER,\n",
    "    RESTRICT_TIMESTAMP,\n",
    "    SEX,\n",
    "    TRIAGE_LEVEL,\n",
    "    WINDOW_START_TIMESTAMP,\n",
    ")\n",
    "from cyclops.processors.constants import SMH\n",
    "from cyclops.processors.events import (\n",
    "    combine_events,\n",
    "    convert_to_events,\n",
    "    normalize_events,\n",
    ")\n",
    "from cyclops.processors.impute import Imputer\n",
    "from cyclops.processors.statics import compute_statics\n",
    "from cyclops.processors.util import (\n",
    "    fill_missing_timesteps,\n",
    "    gather_columns,\n",
    "    pivot_aggregated_events_to_features,\n",
    ")\n",
    "from cyclops.query import gemini\n",
    "from cyclops.utils.file import save_dataframe\n",
    "\n",
    "MORTALITY = \"mortality\"\n",
    "LOS = \"los\""
   ]
  },
  {
   "cell_type": "markdown",
   "id": "c8091448-5301-4631-a7d4-150667441e77",
   "metadata": {},
   "source": [
    "## Query"
   ]
  },
  {
   "cell_type": "code",
   "execution_count": null,
   "id": "aa9efab5-8eb8-45fc-a53d-e5bfcc72ad95",
   "metadata": {},
   "outputs": [
    {
     "name": "stderr",
     "output_type": "stream",
     "text": [
      "2022-06-12 00:21:41,814 \u001b[1;37mINFO\u001b[0m cyclops.orm     - Query returned successfully!\n",
      "2022-06-12 00:21:41,818 \u001b[1;37mINFO\u001b[0m cyclops.utils.profile - Finished executing function run_query in 5.143023 s\n",
      "2022-06-12 00:32:27,671 \u001b[1;37mINFO\u001b[0m cyclops.orm     - Query returned successfully!\n",
      "2022-06-12 00:32:27,676 \u001b[1;37mINFO\u001b[0m cyclops.utils.profile - Finished executing function run_query in 645.855187 s\n"
     ]
    }
   ],
   "source": [
    "def query():\n",
    "    er_admin_table = gemini.get_table(gemini.ER_ADMIN)\n",
    "    encounters = gemini.patient_encounters(\n",
    "        er_admin_table=er_admin_table,\n",
    "        years=[2018, 2019, 2020],\n",
    "        died=True,\n",
    "        died_binarize_col=\"mortality\",\n",
    "    )\n",
    "    labs = gemini.events(\n",
    "        patient_encounters_table=encounters.query, event_category=\"lab\"\n",
    "    )\n",
    "    vitals = gemini.events(\n",
    "        patient_encounters_table=encounters.query, event_category=\"vitals\"\n",
    "    )\n",
    "    encounters.run()\n",
    "    labs.run()\n",
    "    vitals.run()\n",
    "\n",
    "    print(f\"{len(encounters.data)} rows extracted!\")\n",
    "    print(f\"{len(labs.data)} rows extracted!\")\n",
    "    print(f\"{len(vitals.data)} rows extracted!\")\n",
    "\n",
    "    encounters.save(os.path.join(BASE_DATA_PATH, \"admin_er\"))\n",
    "    labs.save(os.path.join(BASE_DATA_PATH, \"labs\"))\n",
    "    vitals.save(os.path.join(BASE_DATA_PATH, \"vitals\"))\n",
    "\n",
    "\n",
    "BASE_DATA_PATH = \"/mnt/nfs/project/delirium/drift_exp/_extract\"\n",
    "os.makedirs(BASE_DATA_PATH, exist_ok=True)\n",
    "query_files = [\n",
    "    os.path.join(BASE_DATA_PATH, \"admin_er.parquet\"),\n",
    "    os.path.join(BASE_DATA_PATH, \"labs.parquet\"),\n",
    "    os.path.join(BASE_DATA_PATH, \"vitals.parquet\"),\n",
    "]\n",
    "\n",
    "# if not np.array([os.path.isfile(query_file) for query_file in query_files]).all():\n",
    "query()"
   ]
  },
  {
   "cell_type": "markdown",
   "id": "dde24be8-7759-4241-a24d-e63eaa9ce9ac",
   "metadata": {},
   "source": [
    "## Read saved query data"
   ]
  },
  {
   "cell_type": "code",
   "execution_count": null,
   "id": "964a868e-11ab-432e-9d45-006f57d5a356",
   "metadata": {},
   "outputs": [],
   "source": [
    "BASE_DATA_PATH = \"/mnt/nfs/project/delirium/drift_exp/_extract\"\n",
    "encounters_data = pd.read_parquet(os.path.join(BASE_DATA_PATH, \"admin_er.parquet\"))\n",
    "vitals_data = pd.read_parquet(os.path.join(BASE_DATA_PATH, \"vitals.parquet\"))\n",
    "labs_data = pd.read_parquet(os.path.join(BASE_DATA_PATH, \"labs.parquet\"))"
   ]
  },
  {
   "cell_type": "markdown",
   "id": "72566d9f-db66-47f2-8820-fdd8904aafe1",
   "metadata": {},
   "source": [
    "## Get encounters that ended in mortality outcome"
   ]
  },
  {
   "cell_type": "code",
   "execution_count": null,
   "id": "88f04573-71c9-4f25-9a31-21df233e8e99",
   "metadata": {},
   "outputs": [],
   "source": [
    "encounters_mortality = encounters_data.loc[encounters_data[MORTALITY] == True]"
   ]
  },
  {
   "cell_type": "markdown",
   "id": "4496ca76-0058-4223-8925-3c357ee153c2",
   "metadata": {},
   "source": [
    "## Offset discharge timestamp by K hours (risk of mortality within 24 hours) and create new column"
   ]
  },
  {
   "cell_type": "code",
   "execution_count": null,
   "id": "92c71da3-c4ec-4305-86a9-608dc6f556d2",
   "metadata": {},
   "outputs": [],
   "source": [
    "offset = 24  # in hours\n",
    "encounters_mortality = encounters_mortality.copy()\n",
    "encounters_mortality[\"death_timestamp_offset\"] = encounters_mortality[\n",
    "    DISCHARGE_TIMESTAMP\n",
    "] + pd.Timedelta(-offset, unit=\"h\")\n",
    "encounters_mortality[[DISCHARGE_TIMESTAMP, \"death_timestamp_offset\"]]"
   ]
  },
  {
   "cell_type": "markdown",
   "id": "a9c6498e-f2a6-4383-89bd-6c9b5b4ee144",
   "metadata": {},
   "source": [
    "## Convert \"death_timestamp_offset\" to event"
   ]
  },
  {
   "cell_type": "code",
   "execution_count": null,
   "id": "90081c16-ac41-4b60-ab48-7ff747630e3a",
   "metadata": {},
   "outputs": [],
   "source": [
    "mortality_events = convert_to_events(\n",
    "    encounters_mortality, event_name=\"death\", timestamp_col=\"death_timestamp_offset\"\n",
    ")\n",
    "mortality_events = pd.merge(\n",
    "    mortality_events, encounters_mortality, on=ENCOUNTER_ID, how=\"left\"\n",
    ")\n",
    "mortality_events = mortality_events[\n",
    "    [ENCOUNTER_ID, EVENT_NAME, EVENT_TIMESTAMP, ADMIT_TIMESTAMP, EVENT_VALUE]\n",
    "]\n",
    "mortality_events[EVENT_VALUE] = 1\n",
    "mortality_events"
   ]
  },
  {
   "cell_type": "markdown",
   "id": "238709bd-47f6-4cf6-8562-09717824d57f",
   "metadata": {},
   "source": [
    "## Filter labs and vitals for the mortality subset"
   ]
  },
  {
   "cell_type": "code",
   "execution_count": null,
   "id": "773d7deb-f5bf-4a7a-a773-5768a68f7e6a",
   "metadata": {},
   "outputs": [],
   "source": [
    "labs_mortality = labs_data.loc[\n",
    "    labs_data[ENCOUNTER_ID].isin(encounters_mortality[ENCOUNTER_ID])\n",
    "]\n",
    "vitals_mortality = vitals_data.loc[\n",
    "    vitals_data[ENCOUNTER_ID].isin(encounters_mortality[ENCOUNTER_ID])\n",
    "]\n",
    "\n",
    "lab_events = normalize_events(labs_mortality)\n",
    "vitals_events = normalize_events(vitals_mortality)\n",
    "mortality_events = normalize_events(mortality_events)"
   ]
  },
  {
   "cell_type": "markdown",
   "id": "5950cea0-8178-4303-865d-ceb47ac2b30d",
   "metadata": {},
   "source": [
    "## Combine different event data"
   ]
  },
  {
   "cell_type": "code",
   "execution_count": null,
   "id": "84080940-2a0e-45ab-987a-ef7f200a7870",
   "metadata": {},
   "outputs": [],
   "source": [
    "combined_events = combine_events([lab_events, vitals_events, mortality_events])"
   ]
  },
  {
   "cell_type": "markdown",
   "id": "7692cd1a-e9ec-456d-9df2-3a9cfef6eeab",
   "metadata": {},
   "source": [
    "## Aggregate events"
   ]
  },
  {
   "cell_type": "code",
   "execution_count": null,
   "id": "4d9306e6-90a0-4adb-8691-972424912f60",
   "metadata": {},
   "outputs": [],
   "source": [
    "aggregator = Aggregator(bucket_size=6, window=72)\n",
    "aggregated_events = aggregator(combined_events)"
   ]
  },
  {
   "cell_type": "markdown",
   "id": "f1cc4793-a22b-4611-96b3-65e2bd0d3d3c",
   "metadata": {},
   "source": [
    "## Pivot aggregated events to get column-wise temporal features, add to feature handler"
   ]
  },
  {
   "cell_type": "code",
   "execution_count": null,
   "id": "56a50a78-9e33-4f71-b45c-a2ca21ad31c1",
   "metadata": {},
   "outputs": [],
   "source": [
    "feature_handler = FeatureHandler()\n",
    "temporal_features = pivot_aggregated_events_to_features(aggregated_events, np.mean)\n",
    "feature_handler.add_features(temporal_features)\n",
    "feature_handler.features[\"temporal\"][\"death\"]"
   ]
  },
  {
   "cell_type": "markdown",
   "id": "f4de68a9-434b-44a1-bbb2-3b9cb1759f91",
   "metadata": {},
   "source": [
    "## Pivot table to get column that can be used to create labels. 1 corresponds to timestep where death happens (shifted by offset)"
   ]
  },
  {
   "cell_type": "code",
   "execution_count": null,
   "id": "da84f2b5-09a9-49ef-967f-42496665d05c",
   "metadata": {},
   "outputs": [],
   "source": [
    "aggregated_mortality = aggregated_events.loc[aggregated_events[EVENT_NAME] == \"death\"]\n",
    "pivoted_mortality = pivot_aggregated_events_to_features(aggregated_mortality, np.mean)\n",
    "timesteps_mortality = pivoted_mortality.loc[\n",
    "    pivoted_mortality[\"death\"] == 1\n",
    "].index.get_level_values(1)\n",
    "\n",
    "timesteps_mortality_counts = timesteps_mortality.value_counts()\n",
    "fig, axs = plt.subplots(1, 1, figsize=(10, 5), tight_layout=True)\n",
    "ts_vals = plt.bar(\n",
    "    list(np.unique(timesteps_mortality)), list(timesteps_mortality_counts), alpha=0.5\n",
    ")\n",
    "set_bars_color(ts_vals, \"r\")\n",
    "axs.set_xticks(\n",
    "    range(len(ts_vals)),\n",
    "    list(np.unique(timesteps_mortality)),\n",
    "    rotation=\"vertical\",\n",
    "    fontsize=20,\n",
    ")\n",
    "setup_plot(\n",
    "    axs,\n",
    "    \"Mortality encounter distribution over timesteps\",\n",
    "    \"timestep\",\n",
    "    \"Num. encounters that resulted in mortality in that timestep\",\n",
    "    [\"Count\"],\n",
    ")\n",
    "plt.show()"
   ]
  },
  {
   "cell_type": "markdown",
   "id": "025e89d8-a325-45f5-a38e-0f0ef6abe443",
   "metadata": {},
   "source": [
    "## Compute static features, add to feature handler"
   ]
  },
  {
   "cell_type": "code",
   "execution_count": null,
   "id": "d87c4497-03d3-4304-86d1-54b4eb5b5f57",
   "metadata": {},
   "outputs": [],
   "source": [
    "encounters_mortality = gather_columns(\n",
    "    encounters_mortality,\n",
    "    [\n",
    "        ENCOUNTER_ID,\n",
    "        AGE,\n",
    "        SEX,\n",
    "        HOSPITAL_ID,\n",
    "        ADMIT_TIMESTAMP,\n",
    "        DISCHARGE_TIMESTAMP,\n",
    "        TRIAGE_LEVEL,\n",
    "    ],\n",
    ")\n",
    "static_features = compute_statics(encounters_mortality)\n",
    "feature_handler.add_features(\n",
    "    static_features, reference_cols=[HOSPITAL_ID, ADMIT_TIMESTAMP, DISCHARGE_TIMESTAMP]\n",
    ")\n",
    "feature_handler.save(\"test_features\", \"features\")"
   ]
  },
  {
   "cell_type": "code",
   "execution_count": null,
   "id": "0836f236-1f0b-46e8-90b8-8e811adcbe2e",
   "metadata": {},
   "outputs": [],
   "source": [
    "feature_handler1 = FeatureHandler()\n",
    "feature_handler1.load(\"/mnt/nfs/project/delirium/drift_exp\", \"test_features\")\n",
    "feature_handler1.plot_features(aggregate_type=\"static\")"
   ]
  },
  {
   "cell_type": "code",
   "execution_count": null,
   "id": "72703b3a-37b2-4f93-936c-70f5541c9b65",
   "metadata": {},
   "outputs": [],
   "source": [
    "feature_handler1.features[\"temporal\"][\"death\"]"
   ]
  }
 ],
 "metadata": {
  "kernelspec": {
   "display_name": "cyclops",
   "language": "python",
   "name": "cyclops"
  },
  "language_info": {
   "codemirror_mode": {
    "name": "ipython",
    "version": 3
   },
   "file_extension": ".py",
   "mimetype": "text/x-python",
   "name": "python",
   "nbconvert_exporter": "python",
   "pygments_lexer": "ipython3",
   "version": "3.9.7"
  }
 },
 "nbformat": 4,
 "nbformat_minor": 5
}
