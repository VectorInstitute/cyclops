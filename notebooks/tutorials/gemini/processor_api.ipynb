{
 "cells": [
  {
   "cell_type": "markdown",
   "id": "structured-extent",
   "metadata": {},
   "source": [
    "### This notebook shows examples of how to use the cyclops.processor API on GEMINI."
   ]
  },
  {
   "cell_type": "markdown",
   "id": "capable-office",
   "metadata": {},
   "source": [
    "## Get all patient encounters from St. Michael's hospital from March 1 2020 to March 15 2020, with vitals and labs."
   ]
  },
  {
   "cell_type": "code",
   "execution_count": 1,
   "id": "international-relief",
   "metadata": {},
   "outputs": [
    {
     "name": "stderr",
     "output_type": "stream",
     "text": [
      "2022-04-11 14:12:27,490 \u001b[1;37mINFO\u001b[0m cyclops.config  - Log file is /mnt/nfs/home/krishnanam/vector-delirium/log.log\n",
      "2022-04-11 14:12:29,093 \u001b[1;37mINFO\u001b[0m cyclops.query.utils - Log file is /mnt/nfs/home/krishnanam/vector-delirium/log.log\n",
      "2022-04-11 14:12:29,101 \u001b[1;37mINFO\u001b[0m cyclops.utils.profile - Log file is /mnt/nfs/home/krishnanam/vector-delirium/log.log\n",
      "2022-04-11 14:12:29,105 \u001b[1;37mINFO\u001b[0m cyclops.orm     - Log file is /mnt/nfs/home/krishnanam/vector-delirium/log.log\n",
      "2022-04-11 14:12:32,507 \u001b[1;37mINFO\u001b[0m cyclops.orm     - Database setup, ready to run queries!\n"
     ]
    }
   ],
   "source": [
    "from cyclops.processors.constants import SMH\n",
    "from cyclops.query import gemini\n",
    "\n",
    "QUERY_SAVE_PATH = \"/mnt/nfs/project/delirium/_extract/first_models/extract.h5\"\n",
    "\n",
    "# patients = gemini.patients(\n",
    "#     hospitals=[SMH], from_date=\"2020-03-01\", to_date=\"2020-03-15\"\n",
    "# )\n",
    "# patients_vitals = gemini.events(patients=patients, category=\"vitals\")\n",
    "# patients_labs = gemini.events(patients=patients, category=\"labs\")\n",
    "# patients_vitals.run()\n",
    "# patients_labs.run()\n",
    "\n",
    "# print(f\"{len(patients_vitals.data)} rows extracted!\")\n",
    "# print(f\"{len(patients_labs.data)} rows extracted!\")\n",
    "\n",
    "# patients_vitals.data.to_hdf(\n",
    "#     QUERY_SAVE_PATH,\n",
    "#     key=f\"query_demo_vitals\",\n",
    "# )\n",
    "# patients_labs.data.to_hdf(\n",
    "#     QUERY_SAVE_PATH,\n",
    "#     key=f\"query_demo_labs\",\n",
    "# )"
   ]
  },
  {
   "cell_type": "markdown",
   "id": "healthy-duncan",
   "metadata": {},
   "source": [
    "## Process queried data into features. (Static aggregation + no imputation)."
   ]
  },
  {
   "cell_type": "code",
   "execution_count": 2,
   "id": "descending-harris",
   "metadata": {},
   "outputs": [
    {
     "name": "stderr",
     "output_type": "stream",
     "text": [
      "2022-04-11 14:12:32,571 \u001b[1;37mINFO\u001b[0m cyclops.processors.base - Log file is /mnt/nfs/home/krishnanam/vector-delirium/log.log\n",
      "2022-04-11 14:12:32,577 \u001b[1;37mINFO\u001b[0m cyclops.processors.admin - Log file is /mnt/nfs/home/krishnanam/vector-delirium/log.log\n",
      "2022-04-11 14:12:34,141 \u001b[1;37mINFO\u001b[0m cyclops.processors.feature_handler - Log file is /mnt/nfs/home/krishnanam/vector-delirium/log.log\n",
      "2022-04-11 14:12:34,151 \u001b[1;37mINFO\u001b[0m cyclops.processors.labs - Log file is /mnt/nfs/home/krishnanam/vector-delirium/log.log\n",
      "2022-04-11 14:12:34,157 \u001b[1;37mINFO\u001b[0m cyclops.processors.vitals - Log file is /mnt/nfs/home/krishnanam/vector-delirium/log.log\n",
      "2022-04-11 14:12:35,751 \u001b[1;37mINFO\u001b[0m cyclops.processors.base - Processing raw admin data...\n",
      "2022-04-11 14:12:35,758 \u001b[1;37mINFO\u001b[0m cyclops.processors.base - # samples: 16243, # encounters: 156\n",
      "2022-04-11 14:12:35,760 \u001b[1;37mINFO\u001b[0m cyclops.processors.admin - # admin features: 2, # encounters: 156\n",
      "2022-04-11 14:12:35,864 \u001b[1;37mINFO\u001b[0m cyclops.utils.profile - Finished executing function process in 0.112638 s\n",
      "2022-04-11 14:12:35,869 \u001b[1;37mINFO\u001b[0m cyclops.processors.base - Processing raw lab data...\n",
      "2022-04-11 14:12:35,871 \u001b[1;37mINFO\u001b[0m cyclops.processors.base - # samples: 16243, # encounters: 156\n",
      "2022-04-11 14:12:35,878 \u001b[1;37mINFO\u001b[0m cyclops.processors.base - Aggregating labs within aggregation window...\n",
      "2022-04-11 14:12:35,880 \u001b[1;37mINFO\u001b[0m cyclops.processors.base - # samples: 7262, # encounters: 153\n",
      "2022-04-11 14:12:35,944 \u001b[1;37mINFO\u001b[0m cyclops.processors.base - Remove text in parentheses and normalize lab test names...\n",
      "2022-04-11 14:12:35,947 \u001b[1;37mINFO\u001b[0m cyclops.processors.base - # samples: 7262, # encounters: 153\n",
      "2022-04-11 14:12:35,954 \u001b[1;37mINFO\u001b[0m cyclops.processors.base - Drop unsupported...\n",
      "2022-04-11 14:12:35,956 \u001b[1;37mINFO\u001b[0m cyclops.processors.base - # samples: 6066, # encounters: 153\n",
      "2022-04-11 14:12:35,968 \u001b[1;37mINFO\u001b[0m cyclops.processors.base - Fixing inequalities and removing outlier values...\n",
      "2022-04-11 14:12:35,970 \u001b[1;37mINFO\u001b[0m cyclops.processors.base - # samples: 6066, # encounters: 153\n",
      "2022-04-11 14:12:35,973 \u001b[1;37mINFO\u001b[0m cyclops.processors.base - Fill empty result string values with NaN...\n",
      "2022-04-11 14:12:35,975 \u001b[1;37mINFO\u001b[0m cyclops.processors.base - # samples: 6066, # encounters: 153\n",
      "2022-04-11 14:12:35,977 \u001b[1;37mINFO\u001b[0m cyclops.processors.labs - Converting string result values to numeric...\n",
      "2022-04-11 14:12:35,979 \u001b[1;37mINFO\u001b[0m cyclops.processors.labs - Cleaning units and converting to SI...\n",
      "2022-04-11 14:12:35,995 \u001b[1;37mINFO\u001b[0m cyclops.processors.labs - Creating features...\n",
      "2022-04-11 14:12:35,998 \u001b[1;37mINFO\u001b[0m cyclops.processors.labs - ['potassium', 'pt', 'sodium', 'urine sodium', 'urine specific gravity', 'bicarbonate', 'blood urea nitrogen', 'vitamin b12', 'white blood cell count', 'high sensitivity troponin', 'vitamin d', 'hba1c', 'lymphocyte', 'neutrophils', 'albumin', 'aptt', 'bilirubin', 'calcium', 'calcium, ionized', 'creatinine', 'esr', 'serum alcohol', 'ferritin', 'fibrinogen', 'glucose fasting', 'glucose point of care', 'glucose random', 'hematocrit', 'hemoglobin', 'crp', 'influenza', 'inr', 'ketone', 'lactate arterial', 'lactate venous', 'mean cell volume', 'arterial paco2', 'venous pco2', 'arterial ph', 'venous ph', 'platelet count', 'arterial pao2']\n",
      "2022-04-11 14:12:36,000 \u001b[1;37mINFO\u001b[0m cyclops.processors.labs - # labs features: 42, # encounters: 153\n",
      "2022-04-11 14:12:36,910 \u001b[1;37mINFO\u001b[0m cyclops.utils.profile - Finished executing function process in 1.040625 s\n",
      "2022-04-11 14:12:36,918 \u001b[1;37mINFO\u001b[0m cyclops.processors.base - Processing raw vitals data...\n",
      "2022-04-11 14:12:36,920 \u001b[1;37mINFO\u001b[0m cyclops.processors.base - # samples: 22654, # encounters: 156\n",
      "2022-04-11 14:12:36,925 \u001b[1;37mINFO\u001b[0m cyclops.processors.base - Aggregating vitals within aggregation window...\n",
      "2022-04-11 14:12:36,928 \u001b[1;37mINFO\u001b[0m cyclops.processors.base - # samples: 3875, # encounters: 154\n",
      "2022-04-11 14:12:36,935 \u001b[1;37mINFO\u001b[0m cyclops.processors.base - Drop oxygen flow rate, saturation samples (unsupported)...\n",
      "2022-04-11 14:12:36,937 \u001b[1;37mINFO\u001b[0m cyclops.processors.base - # samples: 2945, # encounters: 154\n",
      "/mnt/nfs/home/krishnanam/vector-delirium/cyclops/processors/vitals.py:56: SettingWithCopyWarning: \n",
      "A value is trying to be set on a copy of a slice from a DataFrame\n",
      "\n",
      "See the caveats in the documentation: https://pandas.pydata.org/pandas-docs/stable/user_guide/indexing.html#returning-a-view-versus-a-copy\n",
      "  self.data[VITAL_MEASUREMENT_VALUE][\n",
      "2022-04-11 14:12:37,255 \u001b[1;37mINFO\u001b[0m cyclops.processors.base - Convert Positive/Negative to 1/0...\n",
      "2022-04-11 14:12:37,258 \u001b[1;37mINFO\u001b[0m cyclops.processors.base - # samples: 2945, # encounters: 154\n",
      "2022-04-11 14:12:37,261 \u001b[1;37mINFO\u001b[0m cyclops.processors.base - Fill empty result string values with NaN...\n",
      "2022-04-11 14:12:37,263 \u001b[1;37mINFO\u001b[0m cyclops.processors.base - # samples: 2945, # encounters: 154\n",
      "2022-04-11 14:12:37,265 \u001b[1;37mINFO\u001b[0m cyclops.processors.vitals - Converting string result values to numeric...\n",
      "2022-04-11 14:12:37,267 \u001b[1;37mINFO\u001b[0m cyclops.processors.vitals - Creating features...\n",
      "2022-04-11 14:12:37,269 \u001b[1;37mINFO\u001b[0m cyclops.processors.vitals - # vitals features: 8, # encounters: 154\n",
      "2022-04-11 14:12:37,505 \u001b[1;37mINFO\u001b[0m cyclops.utils.profile - Finished executing function process in 0.587096 s\n",
      "2022-04-11 14:12:37,570 \u001b[1;33mWARNING\u001b[0m cyclops.processors.feature_handler - Feature influenza has all NaNs, will not be added.\n"
     ]
    }
   ],
   "source": [
    "import pandas as pd\n",
    "\n",
    "from cyclops.processor import Aggregator, Imputer, featurize\n",
    "\n",
    "vitals_data = pd.read_hdf(QUERY_SAVE_PATH, key=f\"query_demo_vitals\")\n",
    "labs_data = pd.read_hdf(QUERY_SAVE_PATH, key=f\"query_demo_labs\")\n",
    "\n",
    "feature_handler = featurize(\n",
    "    data=[labs_data, vitals_data],\n",
    "    imputer=Imputer(strategy=\"none\"),\n",
    "    aggregator=Aggregator(strategy=\"static\", range_=24, window=24),\n",
    ")"
   ]
  },
  {
   "cell_type": "markdown",
   "id": "according-differential",
   "metadata": {},
   "source": [
    "## Inspect feature handler, and check features."
   ]
  },
  {
   "cell_type": "code",
   "execution_count": 3,
   "id": "compatible-practitioner",
   "metadata": {},
   "outputs": [
    {
     "name": "stdout",
     "output_type": "stream",
     "text": [
      "['age', 'potassium', 'pt', 'sodium', 'urine sodium', 'urine specific gravity', 'bicarbonate', 'blood urea nitrogen', 'vitamin b12', 'white blood cell count', 'high sensitivity troponin', 'vitamin d', 'hba1c', 'lymphocyte', 'neutrophils', 'albumin', 'aptt', 'bilirubin', 'calcium', 'calcium, ionized', 'creatinine', 'esr', 'serum alcohol', 'ferritin', 'fibrinogen', 'glucose fasting', 'glucose point of care', 'glucose random', 'hematocrit', 'hemoglobin', 'crp', 'inr', 'ketone', 'lactate arterial', 'lactate venous', 'mean cell volume', 'arterial paco2', 'venous pco2', 'arterial ph', 'venous ph', 'platelet count', 'arterial pao2', 'CAM', 'Diastolic BP', 'Heart Rate', 'respiratory rate', 'Systolic BP', 'Temperature', 'weight']\n",
      "['sex', 'fio2']\n"
     ]
    }
   ],
   "source": [
    "print(feature_handler.get_numerical_features())\n",
    "print(feature_handler.get_categorical_features())"
   ]
  },
  {
   "cell_type": "markdown",
   "id": "fancy-router",
   "metadata": {},
   "source": [
    "## Look at data quality report (patient statics + labs + vitals)"
   ]
  },
  {
   "cell_type": "code",
   "execution_count": 4,
   "id": "great-productivity",
   "metadata": {},
   "outputs": [],
   "source": [
    "from evidently import ColumnMapping\n",
    "from evidently.dashboard import Dashboard\n",
    "from evidently.dashboard.tabs import DataQualityTab\n",
    "\n",
    "dashboard = Dashboard(tabs=[DataQualityTab()])\n",
    "column_mapping = ColumnMapping(\n",
    "    numerical_features=feature_handler.get_numerical_features(),\n",
    "    categorical_features=feature_handler.get_categorical_features(),\n",
    ")\n",
    "dashboard.calculate(\n",
    "    reference_data=feature_handler.features,\n",
    "    current_data=None,\n",
    "    column_mapping=column_mapping,\n",
    ")\n",
    "dashboard.save(f\"data_processed.html\")"
   ]
  }
 ],
 "metadata": {
  "kernelspec": {
   "display_name": "cyclops",
   "language": "python",
   "name": "cyclops"
  },
  "language_info": {
   "codemirror_mode": {
    "name": "ipython",
    "version": 3
   },
   "file_extension": ".py",
   "mimetype": "text/x-python",
   "name": "python",
   "nbconvert_exporter": "python",
   "pygments_lexer": "ipython3",
   "version": "3.8.5"
  }
 },
 "nbformat": 4,
 "nbformat_minor": 5
}
