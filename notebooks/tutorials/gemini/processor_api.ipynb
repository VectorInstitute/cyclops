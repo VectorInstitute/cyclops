{
 "cells": [
  {
   "cell_type": "markdown",
   "id": "structured-extent",
   "metadata": {},
   "source": [
    "### This notebook shows examples of how to use the cyclops.processor API on GEMINI."
   ]
  },
  {
   "cell_type": "markdown",
   "id": "capable-office",
   "metadata": {},
   "source": [
    "## Get all patient encounters including ER data, with diagnoses from St. Michael's hospital from March 1 2020 to March 15 2020, with vitals and labs and interventions."
   ]
  },
  {
   "cell_type": "code",
   "execution_count": 1,
   "id": "international-relief",
   "metadata": {},
   "outputs": [
    {
     "name": "stderr",
     "output_type": "stream",
     "text": [
      "2022-05-03 23:58:56,355 \u001b[1;37mINFO\u001b[0m cyclops.orm     - Database setup, ready to run queries!\n",
      "2022-05-03 23:58:57,180 \u001b[1;37mINFO\u001b[0m cyclops.orm     - Query returned successfully!\n",
      "2022-05-03 23:58:57,183 \u001b[1;37mINFO\u001b[0m cyclops.utils.profile - Finished executing function run_query in 0.806349 s\n",
      "2022-05-03 23:58:59,763 \u001b[1;37mINFO\u001b[0m cyclops.orm     - Query returned successfully!\n",
      "2022-05-03 23:58:59,766 \u001b[1;37mINFO\u001b[0m cyclops.utils.profile - Finished executing function run_query in 2.581149 s\n",
      "2022-05-03 23:59:37,124 \u001b[1;37mINFO\u001b[0m cyclops.orm     - Query returned successfully!\n",
      "2022-05-03 23:59:37,129 \u001b[1;37mINFO\u001b[0m cyclops.utils.profile - Finished executing function run_query in 37.360674 s\n",
      "2022-05-03 23:59:37,476 \u001b[1;37mINFO\u001b[0m cyclops.orm     - Query returned successfully!\n",
      "2022-05-03 23:59:37,479 \u001b[1;37mINFO\u001b[0m cyclops.utils.profile - Finished executing function run_query in 0.345615 s\n",
      "2022-05-03 23:59:37,481 \u001b[1;37mINFO\u001b[0m cyclops.query.interface - Saving queried data to ./diagnoses.gzip\n",
      "2022-05-03 23:59:37,521 \u001b[1;37mINFO\u001b[0m cyclops.query.interface - Saving queried data to ./vitals.gzip\n",
      "2022-05-03 23:59:37,619 \u001b[1;37mINFO\u001b[0m cyclops.query.interface - Saving queried data to ./lab.gzip\n"
     ]
    },
    {
     "name": "stdout",
     "output_type": "stream",
     "text": [
      "1068 diagnoses rows extracted!\n",
      "20244 vitals rows extracted!\n",
      "14899 labs rows extracted!\n",
      "350 interventions rows extracted!\n"
     ]
    },
    {
     "name": "stderr",
     "output_type": "stream",
     "text": [
      "2022-05-03 23:59:37,705 \u001b[1;37mINFO\u001b[0m cyclops.query.interface - Saving queried data to ./intervention.gzip\n"
     ]
    }
   ],
   "source": [
    "import matplotlib.pyplot as plt\n",
    "import pandas as pd\n",
    "\n",
    "from cyclops.feature_handler import FeatureHandler\n",
    "from cyclops.processor import featurize\n",
    "from cyclops.processors.aggregate import Aggregator\n",
    "from cyclops.processors.column_names import (\n",
    "    ADMIT_TIMESTAMP,\n",
    "    AGE,\n",
    "    DIAGNOSIS_CODE,\n",
    "    ENCOUNTER_ID,\n",
    "    HOSPITAL_ID,\n",
    "    SEX,\n",
    ")\n",
    "from cyclops.processors.constants import SMH\n",
    "from cyclops.processors.impute import Imputer\n",
    "from cyclops.processors.utils import gather_columns\n",
    "from cyclops.query import gemini\n",
    "\n",
    "patients = gemini.patients(\n",
    "    hospitals=[SMH], from_date=\"2020-03-01\", to_date=\"2020-03-15\", include_er_data=True\n",
    ")\n",
    "patients_diagnoses = gemini.diagnoses(patients=patients)\n",
    "patients_vitals = gemini.events(patients=patients, category=\"vitals\")\n",
    "patients_labs = gemini.events(patients=patients, category=\"lab\")\n",
    "patients_interventions = gemini.events(patients=patients, category=\"intervention\")\n",
    "\n",
    "diagnoses_data = patients_diagnoses.run()\n",
    "vitals_data = patients_vitals.run()\n",
    "labs_data = patients_labs.run()\n",
    "interventions_data = patients_interventions.run()\n",
    "\n",
    "print(f\"{len(diagnoses_data)} diagnoses rows extracted!\")\n",
    "print(f\"{len(vitals_data)} vitals rows extracted!\")\n",
    "print(f\"{len(labs_data)} labs rows extracted!\")\n",
    "print(f\"{len(interventions_data)} interventions rows extracted!\")\n",
    "\n",
    "patients_diagnoses.save(\".\", \"diagnoses\")\n",
    "patients_vitals.save(\".\", \"vitals\")\n",
    "patients_labs.save(\".\", \"lab\")\n",
    "patients_interventions.save(\".\", \"intervention\")"
   ]
  },
  {
   "cell_type": "markdown",
   "id": "healthy-duncan",
   "metadata": {},
   "source": [
    "## Process queried data into features. (Static + Temporal)."
   ]
  },
  {
   "cell_type": "code",
   "execution_count": 2,
   "id": "descending-harris",
   "metadata": {
    "scrolled": false
   },
   "outputs": [
    {
     "name": "stderr",
     "output_type": "stream",
     "text": [
      "2022-05-03 23:59:55,438 \u001b[1;37mINFO\u001b[0m cyclops.processors.utils - Processing raw diagnosis codes...\n",
      "2022-05-03 23:59:55,441 \u001b[1;37mINFO\u001b[0m cyclops.processors.utils - # samples: 1068, # encounters: 150\n",
      "2022-05-03 23:59:55,485 \u001b[1;37mINFO\u001b[0m cyclops.processors.utils - Grouping ICD codes to trajectories...\n",
      "2022-05-03 23:59:55,487 \u001b[1;37mINFO\u001b[0m cyclops.processors.utils - # samples: 1068, # encounters: 150\n",
      "2022-05-03 23:59:55,489 \u001b[1;37mINFO\u001b[0m cyclops.processors.diagnoses - # diagnosis features: 19, # encounters: 150\n",
      "2022-05-03 23:59:55,574 \u001b[1;37mINFO\u001b[0m cyclops.utils.profile - Finished executing function group_diagnosis_codes_to_trajectories in 0.136107 s\n",
      "2022-05-03 23:59:55,598 \u001b[1;37mINFO\u001b[0m cyclops.processors.utils - Gathering static features...\n",
      "2022-05-03 23:59:55,601 \u001b[1;37mINFO\u001b[0m cyclops.processors.utils - # samples: 1068, # encounters: 150\n",
      "2022-05-03 23:59:55,603 \u001b[1;37mINFO\u001b[0m cyclops.processors.utils - # columns: 5, # encounters: 150\n",
      "2022-05-03 23:59:55,777 \u001b[1;37mINFO\u001b[0m cyclops.utils.profile - Finished executing function gather_static_features in 0.179117 s\n",
      "2022-05-03 23:59:55,786 \u001b[1;37mINFO\u001b[0m cyclops.processors.utils - Cleaning raw event data...\n",
      "2022-05-03 23:59:55,788 \u001b[1;37mINFO\u001b[0m cyclops.processors.utils - # samples: 14899, # encounters: 150\n",
      "2022-05-03 23:59:55,791 \u001b[1;37mINFO\u001b[0m cyclops.processors.utils - # columns: 59, # encounters: 150\n",
      "2022-05-03 23:59:55,818 \u001b[1;37mINFO\u001b[0m cyclops.processors.utils - Remove text in parentheses and normalize lab test names...\n",
      "2022-05-03 23:59:55,820 \u001b[1;37mINFO\u001b[0m cyclops.processors.utils - # samples: 14899, # encounters: 150\n",
      "2022-05-03 23:59:55,822 \u001b[1;37mINFO\u001b[0m cyclops.processors.utils - # columns: 59, # encounters: 150\n",
      "2022-05-03 23:59:55,848 \u001b[1;37mINFO\u001b[0m cyclops.processors.utils - Drop unsupported events...\n",
      "2022-05-03 23:59:55,858 \u001b[1;37mINFO\u001b[0m cyclops.processors.utils - # samples: 13304, # encounters: 150\n",
      "2022-05-03 23:59:55,860 \u001b[1;37mINFO\u001b[0m cyclops.processors.utils - # columns: 59, # encounters: 150\n",
      "2022-05-03 23:59:55,891 \u001b[1;37mINFO\u001b[0m cyclops.processors.utils - Fixing inequalities and removing outlier values...\n",
      "2022-05-03 23:59:55,893 \u001b[1;37mINFO\u001b[0m cyclops.processors.utils - # samples: 13304, # encounters: 150\n",
      "2022-05-03 23:59:55,895 \u001b[1;37mINFO\u001b[0m cyclops.processors.utils - # columns: 59, # encounters: 150\n",
      "2022-05-03 23:59:55,933 \u001b[1;37mINFO\u001b[0m cyclops.processors.utils - Convert Positive/Negative to 1/0...\n",
      "2022-05-03 23:59:55,935 \u001b[1;37mINFO\u001b[0m cyclops.processors.utils - # samples: 13304, # encounters: 150\n",
      "2022-05-03 23:59:55,937 \u001b[1;37mINFO\u001b[0m cyclops.processors.utils - # columns: 59, # encounters: 150\n",
      "2022-05-03 23:59:55,941 \u001b[1;37mINFO\u001b[0m cyclops.processors.utils - Fill empty result string values with NaN...\n",
      "2022-05-03 23:59:55,943 \u001b[1;37mINFO\u001b[0m cyclops.processors.utils - # samples: 13304, # encounters: 150\n",
      "2022-05-03 23:59:55,945 \u001b[1;37mINFO\u001b[0m cyclops.processors.utils - # columns: 59, # encounters: 150\n",
      "2022-05-03 23:59:55,949 \u001b[1;37mINFO\u001b[0m cyclops.processors.events - Converting string result values to numeric...\n",
      "2022-05-03 23:59:55,952 \u001b[1;37mINFO\u001b[0m cyclops.processors.events - Cleaning units and converting to SI...\n",
      "2022-05-03 23:59:55,987 \u001b[1;37mINFO\u001b[0m cyclops.utils.profile - Finished executing function clean_events in 0.201503 s\n",
      "2022-05-03 23:59:55,989 \u001b[1;37mINFO\u001b[0m cyclops.processors.utils - Gathering event features...\n",
      "2022-05-03 23:59:55,991 \u001b[1;37mINFO\u001b[0m cyclops.processors.utils - # samples: 13304, # encounters: 150\n",
      "2022-05-03 23:59:55,993 \u001b[1;37mINFO\u001b[0m cyclops.processors.utils - # columns: 59, # encounters: 150\n",
      "2022-05-03 23:59:56,873 \u001b[1;37mINFO\u001b[0m cyclops.processors.utils - Filtering events within window...\n",
      "2022-05-03 23:59:56,875 \u001b[1;37mINFO\u001b[0m cyclops.processors.utils - # samples: 10503, # encounters: 150\n",
      "2022-05-03 23:59:56,877 \u001b[1;37mINFO\u001b[0m cyclops.processors.utils - # columns: 59, # encounters: 150\n",
      "100%|██████████| 150/150 [00:10<00:00, 13.85it/s]\n",
      "2022-05-04 00:00:07,723 \u001b[1;37mINFO\u001b[0m cyclops.utils.profile - Finished executing function gather_event_features in 11.734256 s\n",
      "2022-05-04 00:00:07,804 \u001b[1;33mWARNING\u001b[0m cyclops.feature_handler - Feature influenza has all NaNs, will not be added.\n",
      "2022-05-04 00:00:07,833 \u001b[1;37mINFO\u001b[0m cyclops.processors.utils - Cleaning raw event data...\n",
      "2022-05-04 00:00:07,836 \u001b[1;37mINFO\u001b[0m cyclops.processors.utils - # samples: 20244, # encounters: 150\n",
      "2022-05-04 00:00:07,838 \u001b[1;37mINFO\u001b[0m cyclops.processors.utils - # columns: 58, # encounters: 150\n",
      "2022-05-04 00:00:07,869 \u001b[1;37mINFO\u001b[0m cyclops.processors.utils - Remove text in parentheses and normalize lab test names...\n",
      "2022-05-04 00:00:07,871 \u001b[1;37mINFO\u001b[0m cyclops.processors.utils - # samples: 20244, # encounters: 150\n",
      "2022-05-04 00:00:07,873 \u001b[1;37mINFO\u001b[0m cyclops.processors.utils - # columns: 58, # encounters: 150\n",
      "2022-05-04 00:00:07,908 \u001b[1;37mINFO\u001b[0m cyclops.processors.utils - Drop unsupported events...\n",
      "2022-05-04 00:00:07,911 \u001b[1;37mINFO\u001b[0m cyclops.processors.utils - # samples: 20244, # encounters: 150\n",
      "2022-05-04 00:00:07,913 \u001b[1;37mINFO\u001b[0m cyclops.processors.utils - # columns: 58, # encounters: 150\n",
      "2022-05-04 00:00:07,958 \u001b[1;37mINFO\u001b[0m cyclops.processors.utils - Fixing inequalities and removing outlier values...\n",
      "2022-05-04 00:00:07,961 \u001b[1;37mINFO\u001b[0m cyclops.processors.utils - # samples: 20244, # encounters: 150\n",
      "2022-05-04 00:00:07,963 \u001b[1;37mINFO\u001b[0m cyclops.processors.utils - # columns: 58, # encounters: 150\n",
      "2022-05-04 00:00:08,018 \u001b[1;37mINFO\u001b[0m cyclops.processors.utils - Convert Positive/Negative to 1/0...\n",
      "2022-05-04 00:00:08,020 \u001b[1;37mINFO\u001b[0m cyclops.processors.utils - # samples: 20244, # encounters: 150\n",
      "2022-05-04 00:00:08,022 \u001b[1;37mINFO\u001b[0m cyclops.processors.utils - # columns: 58, # encounters: 150\n",
      "2022-05-04 00:00:08,028 \u001b[1;37mINFO\u001b[0m cyclops.processors.utils - Fill empty result string values with NaN...\n",
      "2022-05-04 00:00:08,030 \u001b[1;37mINFO\u001b[0m cyclops.processors.utils - # samples: 20244, # encounters: 150\n",
      "2022-05-04 00:00:08,032 \u001b[1;37mINFO\u001b[0m cyclops.processors.utils - # columns: 58, # encounters: 150\n",
      "2022-05-04 00:00:08,036 \u001b[1;37mINFO\u001b[0m cyclops.processors.events - Converting string result values to numeric...\n",
      "2022-05-04 00:00:08,040 \u001b[1;37mINFO\u001b[0m cyclops.utils.profile - Finished executing function clean_events in 0.206969 s\n",
      "2022-05-04 00:00:08,042 \u001b[1;37mINFO\u001b[0m cyclops.processors.utils - Gathering event features...\n",
      "2022-05-04 00:00:08,044 \u001b[1;37mINFO\u001b[0m cyclops.processors.utils - # samples: 20244, # encounters: 150\n",
      "2022-05-04 00:00:08,046 \u001b[1;37mINFO\u001b[0m cyclops.processors.utils - # columns: 58, # encounters: 150\n",
      "2022-05-04 00:00:09,414 \u001b[1;37mINFO\u001b[0m cyclops.processors.utils - Filtering events within window...\n",
      "2022-05-04 00:00:09,418 \u001b[1;37mINFO\u001b[0m cyclops.processors.utils - # samples: 12965, # encounters: 150\n",
      "2022-05-04 00:00:09,420 \u001b[1;37mINFO\u001b[0m cyclops.processors.utils - # columns: 58, # encounters: 150\n",
      "100%|██████████| 150/150 [00:09<00:00, 16.31it/s]\n",
      "2022-05-04 00:00:18,635 \u001b[1;37mINFO\u001b[0m cyclops.utils.profile - Finished executing function gather_event_features in 10.593507 s\n",
      "2022-05-04 00:00:18,642 \u001b[1;33mWARNING\u001b[0m cyclops.feature_handler - Feature cam has all NaNs, will not be added.\n",
      "2022-05-04 00:00:18,683 \u001b[1;33mWARNING\u001b[0m cyclops.feature_handler - Feature oxygen_delivery has all NaNs, will not be added.\n",
      "2022-05-04 00:00:18,698 \u001b[1;37mINFO\u001b[0m cyclops.processors.impute - Dropped 0 encounters, due to missingness!\n",
      "2022-05-04 00:00:18,727 \u001b[1;37mINFO\u001b[0m cyclops.utils.profile - Finished executing function impute_features in 0.030733 s\n",
      "2022-05-04 00:00:18,881 \u001b[1;37mINFO\u001b[0m cyclops.processors.impute - Dropped 3 encounters, due to missingness!\n",
      "2022-05-04 00:00:18,885 \u001b[1;37mINFO\u001b[0m cyclops.processors.impute - Dropping pt feature, missingness is higher than threshold!\n",
      "2022-05-04 00:00:18,888 \u001b[1;37mINFO\u001b[0m cyclops.processors.impute - Dropping urine sodium feature, missingness is higher than threshold!\n",
      "2022-05-04 00:00:18,891 \u001b[1;37mINFO\u001b[0m cyclops.processors.impute - Dropping urine specific gravity feature, missingness is higher than threshold!\n",
      "2022-05-04 00:00:18,894 \u001b[1;37mINFO\u001b[0m cyclops.processors.impute - Dropping blood urea nitrogen feature, missingness is higher than threshold!\n"
     ]
    },
    {
     "name": "stderr",
     "output_type": "stream",
     "text": [
      "2022-05-04 00:00:18,897 \u001b[1;37mINFO\u001b[0m cyclops.processors.impute - Dropping vitamin b12 feature, missingness is higher than threshold!\n",
      "2022-05-04 00:00:18,900 \u001b[1;37mINFO\u001b[0m cyclops.processors.impute - Dropping white blood cell count feature, missingness is higher than threshold!\n",
      "2022-05-04 00:00:18,903 \u001b[1;37mINFO\u001b[0m cyclops.processors.impute - Dropping high sensitivity troponin feature, missingness is higher than threshold!\n",
      "2022-05-04 00:00:18,906 \u001b[1;37mINFO\u001b[0m cyclops.processors.impute - Dropping vitamin d feature, missingness is higher than threshold!\n",
      "2022-05-04 00:00:18,909 \u001b[1;37mINFO\u001b[0m cyclops.processors.impute - Dropping hba1c feature, missingness is higher than threshold!\n",
      "2022-05-04 00:00:18,912 \u001b[1;37mINFO\u001b[0m cyclops.processors.impute - Dropping lymphocyte feature, missingness is higher than threshold!\n",
      "2022-05-04 00:00:18,915 \u001b[1;37mINFO\u001b[0m cyclops.processors.impute - Dropping neutrophils feature, missingness is higher than threshold!\n",
      "2022-05-04 00:00:18,918 \u001b[1;37mINFO\u001b[0m cyclops.processors.impute - Dropping albumin feature, missingness is higher than threshold!\n",
      "2022-05-04 00:00:18,921 \u001b[1;37mINFO\u001b[0m cyclops.processors.impute - Dropping aptt feature, missingness is higher than threshold!\n",
      "2022-05-04 00:00:18,924 \u001b[1;37mINFO\u001b[0m cyclops.processors.impute - Dropping bilirubin feature, missingness is higher than threshold!\n",
      "2022-05-04 00:00:18,927 \u001b[1;37mINFO\u001b[0m cyclops.processors.impute - Dropping calcium feature, missingness is higher than threshold!\n",
      "2022-05-04 00:00:18,930 \u001b[1;37mINFO\u001b[0m cyclops.processors.impute - Dropping calcium, ionized feature, missingness is higher than threshold!\n",
      "2022-05-04 00:00:18,932 \u001b[1;37mINFO\u001b[0m cyclops.processors.impute - Dropping esr feature, missingness is higher than threshold!\n",
      "2022-05-04 00:00:18,935 \u001b[1;37mINFO\u001b[0m cyclops.processors.impute - Dropping serum alcohol feature, missingness is higher than threshold!\n",
      "2022-05-04 00:00:18,938 \u001b[1;37mINFO\u001b[0m cyclops.processors.impute - Dropping ferritin feature, missingness is higher than threshold!\n",
      "2022-05-04 00:00:18,941 \u001b[1;37mINFO\u001b[0m cyclops.processors.impute - Dropping fibrinogen feature, missingness is higher than threshold!\n",
      "2022-05-04 00:00:18,944 \u001b[1;37mINFO\u001b[0m cyclops.processors.impute - Dropping glucose point of care feature, missingness is higher than threshold!\n",
      "2022-05-04 00:00:18,947 \u001b[1;37mINFO\u001b[0m cyclops.processors.impute - Dropping glucose fasting feature, missingness is higher than threshold!\n",
      "2022-05-04 00:00:18,950 \u001b[1;37mINFO\u001b[0m cyclops.processors.impute - Dropping glucose random feature, missingness is higher than threshold!\n",
      "2022-05-04 00:00:18,953 \u001b[1;37mINFO\u001b[0m cyclops.processors.impute - Dropping hematocrit feature, missingness is higher than threshold!\n",
      "2022-05-04 00:00:18,956 \u001b[1;37mINFO\u001b[0m cyclops.processors.impute - Dropping hemoglobin feature, missingness is higher than threshold!\n",
      "2022-05-04 00:00:18,959 \u001b[1;37mINFO\u001b[0m cyclops.processors.impute - Dropping crp feature, missingness is higher than threshold!\n",
      "2022-05-04 00:00:18,962 \u001b[1;37mINFO\u001b[0m cyclops.processors.impute - Dropping inr feature, missingness is higher than threshold!\n",
      "2022-05-04 00:00:18,964 \u001b[1;37mINFO\u001b[0m cyclops.processors.impute - Dropping ketone feature, missingness is higher than threshold!\n",
      "2022-05-04 00:00:18,967 \u001b[1;37mINFO\u001b[0m cyclops.processors.impute - Dropping lactate arterial feature, missingness is higher than threshold!\n",
      "2022-05-04 00:00:18,970 \u001b[1;37mINFO\u001b[0m cyclops.processors.impute - Dropping lactate venous feature, missingness is higher than threshold!\n",
      "2022-05-04 00:00:18,973 \u001b[1;37mINFO\u001b[0m cyclops.processors.impute - Dropping mean cell volume feature, missingness is higher than threshold!\n",
      "2022-05-04 00:00:18,976 \u001b[1;37mINFO\u001b[0m cyclops.processors.impute - Dropping arterial paco2 feature, missingness is higher than threshold!\n",
      "2022-05-04 00:00:18,979 \u001b[1;37mINFO\u001b[0m cyclops.processors.impute - Dropping venous pco2 feature, missingness is higher than threshold!\n",
      "2022-05-04 00:00:18,982 \u001b[1;37mINFO\u001b[0m cyclops.processors.impute - Dropping arterial ph feature, missingness is higher than threshold!\n",
      "2022-05-04 00:00:18,984 \u001b[1;37mINFO\u001b[0m cyclops.processors.impute - Dropping venous ph feature, missingness is higher than threshold!\n",
      "2022-05-04 00:00:18,987 \u001b[1;37mINFO\u001b[0m cyclops.processors.impute - Dropping platelet count feature, missingness is higher than threshold!\n",
      "2022-05-04 00:00:18,990 \u001b[1;37mINFO\u001b[0m cyclops.processors.impute - Dropping arterial pao2 feature, missingness is higher than threshold!\n",
      "2022-05-04 00:00:18,993 \u001b[1;37mINFO\u001b[0m cyclops.processors.impute - Dropping oxygen flow rate feature, missingness is higher than threshold!\n",
      "2022-05-04 00:00:18,996 \u001b[1;37mINFO\u001b[0m cyclops.processors.impute - Dropping weight feature, missingness is higher than threshold!\n",
      "2022-05-04 00:00:18,999 \u001b[1;37mINFO\u001b[0m cyclops.processors.impute - Dropping fio2 feature, missingness is higher than threshold!\n",
      "2022-05-04 00:00:19,016 \u001b[1;37mINFO\u001b[0m cyclops.utils.profile - Finished executing function impute_features in 0.287385 s\n"
     ]
    }
   ],
   "source": [
    "diagnoses_data = pd.read_parquet(\"diagnoses.gzip\")\n",
    "vitals_data = pd.read_parquet(\"vitals.gzip\")\n",
    "labs_data = pd.read_parquet(\"lab.gzip\")\n",
    "interventions_data = pd.read_parquet(\"intervention.gzip\")\n",
    "\n",
    "static_diagnoses_data = gather_columns(\n",
    "    diagnoses_data,\n",
    "    [ENCOUNTER_ID, AGE, SEX, DIAGNOSIS_CODE, HOSPITAL_ID, ADMIT_TIMESTAMP],\n",
    ")\n",
    "feature_handler = featurize(\n",
    "    static_data=[static_diagnoses_data],\n",
    "    temporal_data=[labs_data, vitals_data],\n",
    "    aggregator=Aggregator(bucket_size=6, window=120),\n",
    "    static_imputer=Imputer(\n",
    "        strategy=\"median\",\n",
    "        encounter_missingness_threshold=0.25,\n",
    "        feature_missingness_threshold=0.5,\n",
    "    ),\n",
    "    temporal_imputer=Imputer(\n",
    "        strategy=\"median\",\n",
    "        encounter_missingness_threshold=0.95,\n",
    "        feature_missingness_threshold=0.75,\n",
    "    ),\n",
    "    reference_cols=[HOSPITAL_ID, ADMIT_TIMESTAMP],\n",
    ")"
   ]
  },
  {
   "cell_type": "markdown",
   "id": "according-differential",
   "metadata": {},
   "source": [
    "## Plot example temporal features."
   ]
  },
  {
   "cell_type": "code",
   "execution_count": null,
   "id": "compatible-practitioner",
   "metadata": {
    "scrolled": false
   },
   "outputs": [],
   "source": [
    "plot_features = [\n",
    "    \"oxygen saturation\",\n",
    "    \"sodium\",\n",
    "    \"temperature\",\n",
    "    \"respiratory rate\",\n",
    "    \"diastolic bp\",\n",
    "]\n",
    "\n",
    "encounter_id = 11289767\n",
    "temporal_features = feature_handler.get_numerical_feature_names()[\"temporal\"]\n",
    "\n",
    "features_encounter = feature_handler.features[\"temporal\"].loc[encounter_id][\n",
    "    plot_features\n",
    "]\n",
    "feature_handler.plot_features(encounter_id, names=plot_features)"
   ]
  },
  {
   "cell_type": "markdown",
   "id": "choice-seeker",
   "metadata": {},
   "source": [
    "## Plot histogram of static features."
   ]
  },
  {
   "cell_type": "code",
   "execution_count": null,
   "id": "adaptive-welcome",
   "metadata": {},
   "outputs": [],
   "source": [
    "feature_handler.plot_features(aggregate_type=\"static\", names=\"age\")"
   ]
  },
  {
   "cell_type": "markdown",
   "id": "improving-restaurant",
   "metadata": {},
   "source": [
    "## Create new FeatureHandler and load features from file."
   ]
  },
  {
   "cell_type": "code",
   "execution_count": 3,
   "id": "simple-princess",
   "metadata": {},
   "outputs": [
    {
     "name": "stderr",
     "output_type": "stream",
     "text": [
      "2022-05-04 00:00:29,685 \u001b[1;37mINFO\u001b[0m cyclops.feature_handler - Saving static features to ./test_features_static.gzip\n",
      "2022-05-04 00:00:29,704 \u001b[1;37mINFO\u001b[0m cyclops.feature_handler - Saving temporal features to ./test_features_temporal.gzip\n",
      "2022-05-04 00:00:29,715 \u001b[1;37mINFO\u001b[0m cyclops.feature_handler - Loading features from file...\n",
      "2022-05-04 00:00:29,718 \u001b[1;37mINFO\u001b[0m cyclops.feature_handler - Found file to load for static features...\n",
      "2022-05-04 00:00:29,720 \u001b[1;37mINFO\u001b[0m cyclops.feature_handler - Successfully loaded static features from file...\n",
      "2022-05-04 00:00:29,727 \u001b[1;37mINFO\u001b[0m cyclops.feature_handler - Found file to load for temporal features...\n",
      "2022-05-04 00:00:29,733 \u001b[1;37mINFO\u001b[0m cyclops.feature_handler - Successfully loaded temporal features from file...\n"
     ]
    }
   ],
   "source": [
    "feature_handler.save(\".\", \"test_features\")\n",
    "feature_handler = FeatureHandler()\n",
    "feature_handler.load(\".\", \"test_features\")"
   ]
  }
 ],
 "metadata": {
  "kernelspec": {
   "display_name": "cyclops",
   "language": "python",
   "name": "cyclops"
  },
  "language_info": {
   "codemirror_mode": {
    "name": "ipython",
    "version": 3
   },
   "file_extension": ".py",
   "mimetype": "text/x-python",
   "name": "python",
   "nbconvert_exporter": "python",
   "pygments_lexer": "ipython3",
   "version": "3.8.5"
  }
 },
 "nbformat": 4,
 "nbformat_minor": 5
}
