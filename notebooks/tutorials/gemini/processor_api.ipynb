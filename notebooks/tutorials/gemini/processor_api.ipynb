{
 "cells": [
  {
   "cell_type": "markdown",
   "id": "structured-extent",
   "metadata": {},
   "source": [
    "### This notebook shows examples of how to use the cyclops.processor API on GEMINI."
   ]
  },
  {
   "cell_type": "markdown",
   "id": "capable-office",
   "metadata": {},
   "source": [
    "## Get all patient encounters including ER data, with diagnoses from St. Michael's hospital from March 1 2020 to March 15 2020, with vitals and labs."
   ]
  },
  {
   "cell_type": "code",
   "execution_count": null,
   "id": "international-relief",
   "metadata": {},
   "outputs": [
    {
     "name": "stderr",
     "output_type": "stream",
     "text": [
      "2022-04-19 09:59:21,968 \u001b[1;37mINFO\u001b[0m cyclops.processors.utils - Log file is /mnt/nfs/home/krishnanam/vector-delirium/log.log\n",
      "2022-04-19 09:59:22,150 \u001b[1;37mINFO\u001b[0m cyclops.config  - Log file is /mnt/nfs/home/krishnanam/vector-delirium/log.log\n",
      "2022-04-19 09:59:22,234 \u001b[1;37mINFO\u001b[0m cyclops.query.utils - Log file is /mnt/nfs/home/krishnanam/vector-delirium/log.log\n",
      "2022-04-19 09:59:22,241 \u001b[1;37mINFO\u001b[0m cyclops.utils.profile - Log file is /mnt/nfs/home/krishnanam/vector-delirium/log.log\n",
      "2022-04-19 09:59:22,246 \u001b[1;37mINFO\u001b[0m cyclops.orm     - Log file is /mnt/nfs/home/krishnanam/vector-delirium/log.log\n",
      "2022-04-19 09:59:22,252 \u001b[1;37mINFO\u001b[0m cyclops.query.interface - Log file is /mnt/nfs/home/krishnanam/vector-delirium/log.log\n",
      "2022-04-19 09:59:22,980 \u001b[1;37mINFO\u001b[0m cyclops.orm     - Database setup, ready to run queries!\n",
      "2022-04-19 09:59:23,408 \u001b[1;37mINFO\u001b[0m cyclops.orm     - Query returned successfully!\n",
      "2022-04-19 09:59:23,411 \u001b[1;37mINFO\u001b[0m cyclops.utils.profile - Finished executing function run_query in 0.409796 s\n",
      "2022-04-19 09:59:25,907 \u001b[1;37mINFO\u001b[0m cyclops.orm     - Query returned successfully!\n",
      "2022-04-19 09:59:25,911 \u001b[1;37mINFO\u001b[0m cyclops.utils.profile - Finished executing function run_query in 2.497635 s\n"
     ]
    }
   ],
   "source": [
    "from cyclops.processors.column_names import AGE, DIAGNOSIS_CODE, ENCOUNTER_ID, SEX\n",
    "from cyclops.processors.constants import SMH\n",
    "from cyclops.processors.utils import gather_columns\n",
    "from cyclops.query import gemini\n",
    "\n",
    "patients = gemini.patients(\n",
    "    hospitals=[SMH], from_date=\"2020-03-01\", to_date=\"2020-03-15\", include_er_data=True\n",
    ")\n",
    "patients_diagnoses = gemini.diagnoses(patients=patients)\n",
    "patients_vitals = gemini.events(patients=patients, category=\"vitals\")\n",
    "patients_labs = gemini.events(patients=patients, category=\"labs\")\n",
    "diagnoses_data = patients_diagnoses.run()\n",
    "vitals_data = patients_vitals.run()\n",
    "labs_data = patients_labs.run()\n",
    "\n",
    "print(f\"{len(diagnoses_data)} diagnoses rows extracted!\")\n",
    "print(f\"{len(vitals_data)} vitals rows extracted!\")\n",
    "print(f\"{len(labs_data)} labs rows extracted!\")\n",
    "\n",
    "patients_diagnoses.save(\".\", \"diagnoses\")\n",
    "patients_vitals.save(\".\", \"vitals\")\n",
    "patients_labs.save(\".\", \"labs\")"
   ]
  },
  {
   "cell_type": "markdown",
   "id": "healthy-duncan",
   "metadata": {},
   "source": [
    "## Process queried data into features. (Static aggregation + no imputation)."
   ]
  },
  {
   "cell_type": "code",
   "execution_count": null,
   "id": "descending-harris",
   "metadata": {},
   "outputs": [],
   "source": [
    "import pandas as pd\n",
    "\n",
    "from cyclops.processor import Aggregator, Imputer, featurize\n",
    "\n",
    "diagnoses_data = pd.read_parquet(\"diagnoses.gzip\")\n",
    "vitals_data = pd.read_parquet(\"vitals.gzip\")\n",
    "labs_data = pd.read_parquet(\"labs.gzip\")\n",
    "\n",
    "\n",
    "# diagnoses_data = gather_columns(\n",
    "#     diagnoses_data, [ENCOUNTER_ID, AGE, SEX, DIAGNOSIS_CODE]\n",
    "# )\n",
    "# feature_handler = featurize(\n",
    "#     static_data=[diagnoses_data],\n",
    "#     temporal_data=[labs_data, vitals_data],\n",
    "#     imputer=Imputer(strategy=\"none\"),\n",
    "#     aggregator=Aggregator(strategy=\"static\", range_=24, window=24),\n",
    "# )\n",
    "\n",
    "# sample_time = labs_data['lab_test_timestamp']\n",
    "# admit_time = labs_data['admit_timestamp']\n",
    "\n",
    "# sample_time = vitals_data['vital_measurement_timestamp']\n",
    "# admit_time = vitals_data['admit_timestamp']\n",
    "# diff = (sample_time - admit_time) / pd.Timedelta(hours=1)"
   ]
  },
  {
   "cell_type": "markdown",
   "id": "according-differential",
   "metadata": {},
   "source": [
    "## Inspect feature handler, and check features."
   ]
  },
  {
   "cell_type": "code",
   "execution_count": null,
   "id": "compatible-practitioner",
   "metadata": {},
   "outputs": [],
   "source": [
    "print(feature_handler.get_numerical_features())\n",
    "print(feature_handler.get_categorical_features())\n",
    "\n",
    "feature_handler.features"
   ]
  },
  {
   "cell_type": "markdown",
   "id": "fancy-router",
   "metadata": {},
   "source": [
    "## Look at data quality report (patient statics + labs + vitals)"
   ]
  },
  {
   "cell_type": "code",
   "execution_count": null,
   "id": "great-productivity",
   "metadata": {},
   "outputs": [],
   "source": [
    "from evidently import ColumnMapping\n",
    "from evidently.dashboard import Dashboard\n",
    "from evidently.dashboard.tabs import DataQualityTab\n",
    "\n",
    "dashboard = Dashboard(tabs=[DataQualityTab()])\n",
    "column_mapping = ColumnMapping(\n",
    "    numerical_features=feature_handler.get_numerical_features(),\n",
    "    categorical_features=feature_handler.get_categorical_features(),\n",
    ")\n",
    "dashboard.calculate(\n",
    "    reference_data=feature_handler.features,\n",
    "    current_data=None,\n",
    "    column_mapping=column_mapping,\n",
    ")\n",
    "dashboard.save(f\"data_processed.html\")"
   ]
  }
 ],
 "metadata": {
  "kernelspec": {
   "display_name": "cyclops",
   "language": "python",
   "name": "cyclops"
  },
  "language_info": {
   "codemirror_mode": {
    "name": "ipython",
    "version": 3
   },
   "file_extension": ".py",
   "mimetype": "text/x-python",
   "name": "python",
   "nbconvert_exporter": "python",
   "pygments_lexer": "ipython3",
   "version": "3.8.5"
  }
 },
 "nbformat": 4,
 "nbformat_minor": 5
}
