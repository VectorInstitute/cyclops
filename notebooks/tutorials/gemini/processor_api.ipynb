{
 "cells": [
  {
   "cell_type": "markdown",
   "id": "structured-extent",
   "metadata": {},
   "source": [
    "### This notebook shows examples of how to use the cyclops.processor API on GEMINI."
   ]
  },
  {
   "cell_type": "markdown",
   "id": "capable-office",
   "metadata": {},
   "source": [
    "## Get all patient encounters including ER data, with diagnoses from St. Michael's hospital from March 1 2020 to March 15 2020, with vitals and labs and interventions."
   ]
  },
  {
   "cell_type": "code",
   "execution_count": 1,
   "id": "international-relief",
   "metadata": {},
   "outputs": [
    {
     "name": "stderr",
     "output_type": "stream",
     "text": [
      "2022-05-11 17:50:02,385 \u001b[1;37mINFO\u001b[0m cyclops.orm     - Database setup, ready to run queries!\n",
      "2022-05-11 17:50:12,250 \u001b[1;37mINFO\u001b[0m cyclops.orm     - Query returned successfully!\n",
      "2022-05-11 17:50:12,252 \u001b[1;37mINFO\u001b[0m cyclops.utils.profile - Finished executing function run_query in 9.847437 s\n",
      "2022-05-11 17:50:14,694 \u001b[1;37mINFO\u001b[0m cyclops.orm     - Query returned successfully!\n",
      "2022-05-11 17:50:14,698 \u001b[1;37mINFO\u001b[0m cyclops.utils.profile - Finished executing function run_query in 2.443027 s\n",
      "2022-05-11 17:52:58,846 \u001b[1;37mINFO\u001b[0m cyclops.orm     - Query returned successfully!\n",
      "2022-05-11 17:52:58,849 \u001b[1;37mINFO\u001b[0m cyclops.utils.profile - Finished executing function run_query in 164.149198 s\n",
      "2022-05-11 17:53:01,355 \u001b[1;37mINFO\u001b[0m cyclops.orm     - Query returned successfully!\n",
      "2022-05-11 17:53:01,358 \u001b[1;37mINFO\u001b[0m cyclops.utils.profile - Finished executing function run_query in 2.506609 s\n",
      "2022-05-11 17:53:01,360 \u001b[1;37mINFO\u001b[0m cyclops.query.interface - Saving queried data to ./diagnoses.gzip\n",
      "2022-05-11 17:53:01,414 \u001b[1;37mINFO\u001b[0m cyclops.query.interface - Saving queried data to ./vitals.gzip\n",
      "2022-05-11 17:53:01,509 \u001b[1;37mINFO\u001b[0m cyclops.query.interface - Saving queried data to ./lab.gzip\n"
     ]
    },
    {
     "name": "stdout",
     "output_type": "stream",
     "text": [
      "1068 diagnoses rows extracted!\n",
      "20244 vitals rows extracted!\n",
      "14899 labs rows extracted!\n",
      "350 interventions rows extracted!\n"
     ]
    },
    {
     "name": "stderr",
     "output_type": "stream",
     "text": [
      "2022-05-11 17:53:01,592 \u001b[1;37mINFO\u001b[0m cyclops.query.interface - Saving queried data to ./intervention.gzip\n"
     ]
    }
   ],
   "source": [
    "import matplotlib.pyplot as plt\n",
    "import pandas as pd\n",
    "\n",
    "from cyclops.feature_handler import FeatureHandler\n",
    "from cyclops.processor import featurize\n",
    "from cyclops.processors.aggregate import Aggregator\n",
    "from cyclops.processors.column_names import (\n",
    "    ADMIT_TIMESTAMP,\n",
    "    AGE,\n",
    "    DIAGNOSIS_CODE,\n",
    "    ENCOUNTER_ID,\n",
    "    HOSPITAL_ID,\n",
    "    SEX,\n",
    ")\n",
    "from cyclops.processors.constants import SMH\n",
    "from cyclops.processors.impute import Imputer\n",
    "from cyclops.processors.util import gather_columns\n",
    "from cyclops.query import gemini\n",
    "\n",
    "patients = gemini.patients(\n",
    "    hospitals=[SMH], from_date=\"2020-03-01\", to_date=\"2020-03-15\", include_er_data=True\n",
    ")\n",
    "patients_diagnoses = gemini.diagnoses(patients=patients)\n",
    "patients_vitals = gemini.events(patients=patients, category=\"vitals\")\n",
    "patients_labs = gemini.events(patients=patients, category=\"lab\")\n",
    "patients_interventions = gemini.events(patients=patients, category=\"intervention\")\n",
    "\n",
    "diagnoses_data = patients_diagnoses.run()\n",
    "vitals_data = patients_vitals.run()\n",
    "labs_data = patients_labs.run()\n",
    "interventions_data = patients_interventions.run()\n",
    "\n",
    "print(f\"{len(diagnoses_data)} diagnoses rows extracted!\")\n",
    "print(f\"{len(vitals_data)} vitals rows extracted!\")\n",
    "print(f\"{len(labs_data)} labs rows extracted!\")\n",
    "print(f\"{len(interventions_data)} interventions rows extracted!\")\n",
    "\n",
    "patients_diagnoses.save(\".\", \"diagnoses\")\n",
    "patients_vitals.save(\".\", \"vitals\")\n",
    "patients_labs.save(\".\", \"lab\")\n",
    "patients_interventions.save(\".\", \"intervention\")"
   ]
  },
  {
   "cell_type": "markdown",
   "id": "healthy-duncan",
   "metadata": {},
   "source": [
    "## Process queried data into features. (Static + Temporal)."
   ]
  },
  {
   "cell_type": "code",
   "execution_count": 2,
   "id": "descending-harris",
   "metadata": {
    "scrolled": false
   },
   "outputs": [
    {
     "name": "stderr",
     "output_type": "stream",
     "text": [
      "2022-05-11 17:53:01,771 \u001b[1;37mINFO\u001b[0m cyclops.processors.util - Processing raw diagnosis codes...\n",
      "2022-05-11 17:53:01,775 \u001b[1;37mINFO\u001b[0m cyclops.processors.util - # samples: 1068, # encounters: 150\n",
      "2022-05-11 17:53:01,823 \u001b[1;37mINFO\u001b[0m cyclops.processors.util - Grouping ICD codes to trajectories...\n",
      "2022-05-11 17:53:01,826 \u001b[1;37mINFO\u001b[0m cyclops.processors.util - # samples: 1068, # encounters: 150\n",
      "2022-05-11 17:53:01,828 \u001b[1;37mINFO\u001b[0m cyclops.processors.diagnoses - # diagnosis features: 19, # encounters: 150\n",
      "2022-05-11 17:53:01,858 \u001b[1;37mINFO\u001b[0m cyclops.utils.profile - Finished executing function group_diagnosis_codes_to_trajectories in 0.086733 s\n",
      "2022-05-11 17:53:01,879 \u001b[1;37mINFO\u001b[0m cyclops.processors.util - Gathering static features...\n",
      "2022-05-11 17:53:01,881 \u001b[1;37mINFO\u001b[0m cyclops.processors.util - # samples: 1068, # encounters: 150\n",
      "2022-05-11 17:53:01,883 \u001b[1;37mINFO\u001b[0m cyclops.processors.util - # columns: 5, # encounters: 150\n",
      "2022-05-11 17:53:02,038 \u001b[1;37mINFO\u001b[0m cyclops.processors.aggregate - Found {'sex', 'hospital_id', 'age', 'admit_timestamp'} static feature columns.\n",
      "2022-05-11 17:53:02,040 \u001b[1;37mINFO\u001b[0m cyclops.utils.profile - Finished executing function infer_statics in 0.156101 s\n",
      "2022-05-11 17:53:02,140 \u001b[1;37mINFO\u001b[0m cyclops.utils.profile - Finished executing function gather_statics in 0.260909 s\n",
      "2022-05-11 17:53:02,151 \u001b[1;37mINFO\u001b[0m cyclops.processors.util - Cleaning raw event data...\n",
      "2022-05-11 17:53:02,153 \u001b[1;37mINFO\u001b[0m cyclops.processors.util - # samples: 14899, # encounters: 150\n",
      "2022-05-11 17:53:02,155 \u001b[1;37mINFO\u001b[0m cyclops.processors.util - # columns: 59, # encounters: 150\n",
      "2022-05-11 17:53:02,178 \u001b[1;37mINFO\u001b[0m cyclops.processors.util - Remove text in parentheses and normalize event names...\n",
      "2022-05-11 17:53:02,180 \u001b[1;37mINFO\u001b[0m cyclops.processors.util - # samples: 14899, # encounters: 150\n",
      "2022-05-11 17:53:02,182 \u001b[1;37mINFO\u001b[0m cyclops.processors.util - # columns: 59, # encounters: 150\n",
      "2022-05-11 17:53:02,199 \u001b[1;37mINFO\u001b[0m cyclops.processors.util - Drop unsupported events...\n",
      "2022-05-11 17:53:02,201 \u001b[1;37mINFO\u001b[0m cyclops.processors.util - # samples: 13304, # encounters: 150\n",
      "2022-05-11 17:53:02,203 \u001b[1;37mINFO\u001b[0m cyclops.processors.util - # columns: 59, # encounters: 150\n",
      "2022-05-11 17:53:02,227 \u001b[1;37mINFO\u001b[0m cyclops.processors.util - Fixing inequalities and removing outlier values...\n",
      "2022-05-11 17:53:02,229 \u001b[1;37mINFO\u001b[0m cyclops.processors.util - # samples: 13304, # encounters: 150\n",
      "2022-05-11 17:53:02,231 \u001b[1;37mINFO\u001b[0m cyclops.processors.util - # columns: 59, # encounters: 150\n",
      "2022-05-11 17:53:02,266 \u001b[1;37mINFO\u001b[0m cyclops.processors.util - Convert Positive/Negative to 1/0...\n",
      "2022-05-11 17:53:02,268 \u001b[1;37mINFO\u001b[0m cyclops.processors.util - # samples: 13304, # encounters: 150\n",
      "2022-05-11 17:53:02,270 \u001b[1;37mINFO\u001b[0m cyclops.processors.util - # columns: 59, # encounters: 150\n",
      "2022-05-11 17:53:02,274 \u001b[1;37mINFO\u001b[0m cyclops.processors.util - Fill empty result string values with NaN...\n",
      "2022-05-11 17:53:02,276 \u001b[1;37mINFO\u001b[0m cyclops.processors.util - # samples: 13304, # encounters: 150\n",
      "2022-05-11 17:53:02,278 \u001b[1;37mINFO\u001b[0m cyclops.processors.util - # columns: 59, # encounters: 150\n",
      "2022-05-11 17:53:02,281 \u001b[1;37mINFO\u001b[0m cyclops.processors.events - Converting string result values to numeric...\n",
      "2022-05-11 17:53:02,283 \u001b[1;37mINFO\u001b[0m cyclops.processors.events - Cleaning units and converting to SI...\n",
      "2022-05-11 17:53:02,316 \u001b[1;37mINFO\u001b[0m cyclops.utils.profile - Finished executing function clean_events in 0.168160 s\n",
      "2022-05-11 17:53:02,318 \u001b[1;37mINFO\u001b[0m cyclops.processors.util - Gathering event features...\n",
      "2022-05-11 17:53:02,320 \u001b[1;37mINFO\u001b[0m cyclops.processors.util - # samples: 13304, # encounters: 150\n",
      "2022-05-11 17:53:02,322 \u001b[1;37mINFO\u001b[0m cyclops.processors.util - # columns: 59, # encounters: 150\n",
      "2022-05-11 17:53:02,354 \u001b[1;37mINFO\u001b[0m cyclops.utils.profile - Finished executing function filter_upto_window in 0.029642 s\n",
      "2022-05-11 17:53:02,356 \u001b[1;37mINFO\u001b[0m cyclops.processors.util - Filtering events within window...\n",
      "2022-05-11 17:53:02,358 \u001b[1;37mINFO\u001b[0m cyclops.processors.util - # samples: 10503, # encounters: 150\n",
      "2022-05-11 17:53:02,360 \u001b[1;37mINFO\u001b[0m cyclops.processors.util - # columns: 59, # encounters: 150\n",
      "100%|██████████| 150/150 [00:13<00:00, 10.95it/s]\n",
      "2022-05-11 17:53:16,081 \u001b[1;37mINFO\u001b[0m cyclops.utils.profile - Finished executing function gather_event_features in 13.762156 s\n",
      "2022-05-11 17:53:16,134 \u001b[1;33mWARNING\u001b[0m cyclops.feature_handler - Feature influenza has all NaNs, will not be added.\n",
      "2022-05-11 17:53:16,193 \u001b[1;37mINFO\u001b[0m cyclops.processors.util - Cleaning raw event data...\n",
      "2022-05-11 17:53:16,195 \u001b[1;37mINFO\u001b[0m cyclops.processors.util - # samples: 20244, # encounters: 150\n",
      "2022-05-11 17:53:16,197 \u001b[1;37mINFO\u001b[0m cyclops.processors.util - # columns: 58, # encounters: 150\n",
      "2022-05-11 17:53:16,226 \u001b[1;37mINFO\u001b[0m cyclops.processors.util - Remove text in parentheses and normalize event names...\n",
      "2022-05-11 17:53:16,228 \u001b[1;37mINFO\u001b[0m cyclops.processors.util - # samples: 20244, # encounters: 150\n",
      "2022-05-11 17:53:16,230 \u001b[1;37mINFO\u001b[0m cyclops.processors.util - # columns: 58, # encounters: 150\n",
      "2022-05-11 17:53:16,265 \u001b[1;37mINFO\u001b[0m cyclops.processors.util - Drop unsupported events...\n",
      "2022-05-11 17:53:16,267 \u001b[1;37mINFO\u001b[0m cyclops.processors.util - # samples: 20244, # encounters: 150\n",
      "2022-05-11 17:53:16,269 \u001b[1;37mINFO\u001b[0m cyclops.processors.util - # columns: 58, # encounters: 150\n",
      "2022-05-11 17:53:16,309 \u001b[1;37mINFO\u001b[0m cyclops.processors.util - Fixing inequalities and removing outlier values...\n",
      "2022-05-11 17:53:16,312 \u001b[1;37mINFO\u001b[0m cyclops.processors.util - # samples: 20244, # encounters: 150\n",
      "2022-05-11 17:53:16,314 \u001b[1;37mINFO\u001b[0m cyclops.processors.util - # columns: 58, # encounters: 150\n",
      "2022-05-11 17:53:16,365 \u001b[1;37mINFO\u001b[0m cyclops.processors.util - Convert Positive/Negative to 1/0...\n",
      "2022-05-11 17:53:16,368 \u001b[1;37mINFO\u001b[0m cyclops.processors.util - # samples: 20244, # encounters: 150\n",
      "2022-05-11 17:53:16,370 \u001b[1;37mINFO\u001b[0m cyclops.processors.util - # columns: 58, # encounters: 150\n",
      "2022-05-11 17:53:16,375 \u001b[1;37mINFO\u001b[0m cyclops.processors.util - Fill empty result string values with NaN...\n",
      "2022-05-11 17:53:16,377 \u001b[1;37mINFO\u001b[0m cyclops.processors.util - # samples: 20244, # encounters: 150\n",
      "2022-05-11 17:53:16,378 \u001b[1;37mINFO\u001b[0m cyclops.processors.util - # columns: 58, # encounters: 150\n",
      "2022-05-11 17:53:16,382 \u001b[1;37mINFO\u001b[0m cyclops.processors.events - Converting string result values to numeric...\n",
      "2022-05-11 17:53:16,384 \u001b[1;37mINFO\u001b[0m cyclops.utils.profile - Finished executing function clean_events in 0.193788 s\n",
      "2022-05-11 17:53:16,385 \u001b[1;37mINFO\u001b[0m cyclops.processors.util - Gathering event features...\n",
      "2022-05-11 17:53:16,387 \u001b[1;37mINFO\u001b[0m cyclops.processors.util - # samples: 20244, # encounters: 150\n",
      "2022-05-11 17:53:16,389 \u001b[1;37mINFO\u001b[0m cyclops.processors.util - # columns: 58, # encounters: 150\n",
      "2022-05-11 17:53:16,416 \u001b[1;37mINFO\u001b[0m cyclops.utils.profile - Finished executing function filter_upto_window in 0.025675 s\n",
      "2022-05-11 17:53:16,419 \u001b[1;37mINFO\u001b[0m cyclops.processors.util - Filtering events within window...\n",
      "2022-05-11 17:53:16,421 \u001b[1;37mINFO\u001b[0m cyclops.processors.util - # samples: 12965, # encounters: 150\n",
      "2022-05-11 17:53:16,422 \u001b[1;37mINFO\u001b[0m cyclops.processors.util - # columns: 58, # encounters: 150\n",
      "100%|██████████| 150/150 [00:10<00:00, 14.17it/s]\n",
      "2022-05-11 17:53:27,023 \u001b[1;37mINFO\u001b[0m cyclops.utils.profile - Finished executing function gather_event_features in 10.637760 s\n",
      "2022-05-11 17:53:27,044 \u001b[1;33mWARNING\u001b[0m cyclops.feature_handler - Feature cam has all NaNs, will not be added.\n",
      "2022-05-11 17:53:27,049 \u001b[1;33mWARNING\u001b[0m cyclops.feature_handler - Feature oxygen_delivery has all NaNs, will not be added.\n",
      "2022-05-11 17:53:27,056 \u001b[1;37mINFO\u001b[0m cyclops.processors.impute - Dropped 0 encounters, due to missingness!\n",
      "2022-05-11 17:53:27,083 \u001b[1;37mINFO\u001b[0m cyclops.utils.profile - Finished executing function impute_features in 0.027761 s\n",
      "2022-05-11 17:53:27,233 \u001b[1;37mINFO\u001b[0m cyclops.processors.impute - Dropped 15 encounters, due to missingness!\n",
      "2022-05-11 17:53:27,236 \u001b[1;37mINFO\u001b[0m cyclops.processors.impute - Dropping aptt feature, missingness is higher than threshold!\n"
     ]
    },
    {
     "name": "stderr",
     "output_type": "stream",
     "text": [
      "2022-05-11 17:53:27,239 \u001b[1;37mINFO\u001b[0m cyclops.processors.impute - Dropping bilirubin feature, missingness is higher than threshold!\n",
      "2022-05-11 17:53:27,242 \u001b[1;37mINFO\u001b[0m cyclops.processors.impute - Dropping calcium feature, missingness is higher than threshold!\n",
      "2022-05-11 17:53:27,245 \u001b[1;37mINFO\u001b[0m cyclops.processors.impute - Dropping calcium, ionized feature, missingness is higher than threshold!\n",
      "2022-05-11 17:53:27,247 \u001b[1;37mINFO\u001b[0m cyclops.processors.impute - Dropping creatinine feature, missingness is higher than threshold!\n",
      "2022-05-11 17:53:27,250 \u001b[1;37mINFO\u001b[0m cyclops.processors.impute - Dropping esr feature, missingness is higher than threshold!\n",
      "2022-05-11 17:53:27,253 \u001b[1;37mINFO\u001b[0m cyclops.processors.impute - Dropping serum alcohol feature, missingness is higher than threshold!\n",
      "2022-05-11 17:53:27,256 \u001b[1;37mINFO\u001b[0m cyclops.processors.impute - Dropping ferritin feature, missingness is higher than threshold!\n",
      "2022-05-11 17:53:27,259 \u001b[1;37mINFO\u001b[0m cyclops.processors.impute - Dropping fibrinogen feature, missingness is higher than threshold!\n",
      "2022-05-11 17:53:27,261 \u001b[1;37mINFO\u001b[0m cyclops.processors.impute - Dropping glucose fasting feature, missingness is higher than threshold!\n",
      "2022-05-11 17:53:27,264 \u001b[1;37mINFO\u001b[0m cyclops.processors.impute - Dropping glucose point of care feature, missingness is higher than threshold!\n",
      "2022-05-11 17:53:27,267 \u001b[1;37mINFO\u001b[0m cyclops.processors.impute - Dropping glucose random feature, missingness is higher than threshold!\n",
      "2022-05-11 17:53:27,270 \u001b[1;37mINFO\u001b[0m cyclops.processors.impute - Dropping hematocrit feature, missingness is higher than threshold!\n",
      "2022-05-11 17:53:27,272 \u001b[1;37mINFO\u001b[0m cyclops.processors.impute - Dropping hemoglobin feature, missingness is higher than threshold!\n",
      "2022-05-11 17:53:27,275 \u001b[1;37mINFO\u001b[0m cyclops.processors.impute - Dropping crp feature, missingness is higher than threshold!\n",
      "2022-05-11 17:53:27,278 \u001b[1;37mINFO\u001b[0m cyclops.processors.impute - Dropping inr feature, missingness is higher than threshold!\n",
      "2022-05-11 17:53:27,281 \u001b[1;37mINFO\u001b[0m cyclops.processors.impute - Dropping ketone feature, missingness is higher than threshold!\n",
      "2022-05-11 17:53:27,284 \u001b[1;37mINFO\u001b[0m cyclops.processors.impute - Dropping lactate arterial feature, missingness is higher than threshold!\n",
      "2022-05-11 17:53:27,287 \u001b[1;37mINFO\u001b[0m cyclops.processors.impute - Dropping lactate venous feature, missingness is higher than threshold!\n",
      "2022-05-11 17:53:27,290 \u001b[1;37mINFO\u001b[0m cyclops.processors.impute - Dropping mean cell volume feature, missingness is higher than threshold!\n",
      "2022-05-11 17:53:27,292 \u001b[1;37mINFO\u001b[0m cyclops.processors.impute - Dropping arterial paco2 feature, missingness is higher than threshold!\n",
      "2022-05-11 17:53:27,295 \u001b[1;37mINFO\u001b[0m cyclops.processors.impute - Dropping venous pco2 feature, missingness is higher than threshold!\n",
      "2022-05-11 17:53:27,298 \u001b[1;37mINFO\u001b[0m cyclops.processors.impute - Dropping arterial ph feature, missingness is higher than threshold!\n",
      "2022-05-11 17:53:27,300 \u001b[1;37mINFO\u001b[0m cyclops.processors.impute - Dropping venous ph feature, missingness is higher than threshold!\n",
      "2022-05-11 17:53:27,303 \u001b[1;37mINFO\u001b[0m cyclops.processors.impute - Dropping platelet count feature, missingness is higher than threshold!\n",
      "2022-05-11 17:53:27,306 \u001b[1;37mINFO\u001b[0m cyclops.processors.impute - Dropping arterial pao2 feature, missingness is higher than threshold!\n",
      "2022-05-11 17:53:27,308 \u001b[1;37mINFO\u001b[0m cyclops.processors.impute - Dropping potassium feature, missingness is higher than threshold!\n",
      "2022-05-11 17:53:27,311 \u001b[1;37mINFO\u001b[0m cyclops.processors.impute - Dropping pt feature, missingness is higher than threshold!\n",
      "2022-05-11 17:53:27,314 \u001b[1;37mINFO\u001b[0m cyclops.processors.impute - Dropping sodium feature, missingness is higher than threshold!\n",
      "2022-05-11 17:53:27,316 \u001b[1;37mINFO\u001b[0m cyclops.processors.impute - Dropping urine sodium feature, missingness is higher than threshold!\n",
      "2022-05-11 17:53:27,319 \u001b[1;37mINFO\u001b[0m cyclops.processors.impute - Dropping urine specific gravity feature, missingness is higher than threshold!\n",
      "2022-05-11 17:53:27,321 \u001b[1;37mINFO\u001b[0m cyclops.processors.impute - Dropping bicarbonate feature, missingness is higher than threshold!\n",
      "2022-05-11 17:53:27,324 \u001b[1;37mINFO\u001b[0m cyclops.processors.impute - Dropping blood urea nitrogen feature, missingness is higher than threshold!\n",
      "2022-05-11 17:53:27,327 \u001b[1;37mINFO\u001b[0m cyclops.processors.impute - Dropping vitamin b12 feature, missingness is higher than threshold!\n",
      "2022-05-11 17:53:27,329 \u001b[1;37mINFO\u001b[0m cyclops.processors.impute - Dropping white blood cell count feature, missingness is higher than threshold!\n",
      "2022-05-11 17:53:27,332 \u001b[1;37mINFO\u001b[0m cyclops.processors.impute - Dropping high sensitivity troponin feature, missingness is higher than threshold!\n",
      "2022-05-11 17:53:27,334 \u001b[1;37mINFO\u001b[0m cyclops.processors.impute - Dropping vitamin d feature, missingness is higher than threshold!\n",
      "2022-05-11 17:53:27,337 \u001b[1;37mINFO\u001b[0m cyclops.processors.impute - Dropping hba1c feature, missingness is higher than threshold!\n",
      "2022-05-11 17:53:27,340 \u001b[1;37mINFO\u001b[0m cyclops.processors.impute - Dropping lymphocyte feature, missingness is higher than threshold!\n",
      "2022-05-11 17:53:27,342 \u001b[1;37mINFO\u001b[0m cyclops.processors.impute - Dropping neutrophils feature, missingness is higher than threshold!\n",
      "2022-05-11 17:53:27,345 \u001b[1;37mINFO\u001b[0m cyclops.processors.impute - Dropping albumin feature, missingness is higher than threshold!\n",
      "2022-05-11 17:53:27,347 \u001b[1;37mINFO\u001b[0m cyclops.processors.impute - Dropping oxygen flow rate feature, missingness is higher than threshold!\n",
      "2022-05-11 17:53:27,350 \u001b[1;37mINFO\u001b[0m cyclops.processors.impute - Dropping weight feature, missingness is higher than threshold!\n",
      "2022-05-11 17:53:27,352 \u001b[1;37mINFO\u001b[0m cyclops.processors.impute - Dropping fio2 feature, missingness is higher than threshold!\n",
      "2022-05-11 17:53:27,364 \u001b[1;37mINFO\u001b[0m cyclops.utils.profile - Finished executing function impute_features in 0.279004 s\n"
     ]
    }
   ],
   "source": [
    "diagnoses_data = pd.read_parquet(\"diagnoses.gzip\")\n",
    "vitals_data = pd.read_parquet(\"vitals.gzip\")\n",
    "labs_data = pd.read_parquet(\"lab.gzip\")\n",
    "interventions_data = pd.read_parquet(\"intervention.gzip\")\n",
    "\n",
    "static_diagnoses_data = gather_columns(\n",
    "    diagnoses_data,\n",
    "    [ENCOUNTER_ID, AGE, SEX, DIAGNOSIS_CODE, HOSPITAL_ID, ADMIT_TIMESTAMP],\n",
    ")\n",
    "feature_handler = featurize(\n",
    "    static_data=[static_diagnoses_data],\n",
    "    temporal_data=[labs_data, vitals_data],\n",
    "    aggregator=Aggregator(bucket_size=6, window=120),\n",
    "    static_imputer=Imputer(\n",
    "        strategy=\"median\",\n",
    "        encounter_missingness_threshold=0.25,\n",
    "        feature_missingness_threshold=0.5,\n",
    "    ),\n",
    "    temporal_imputer=Imputer(\n",
    "        strategy=\"median\",\n",
    "        encounter_missingness_threshold=0.95,\n",
    "        feature_missingness_threshold=0.75,\n",
    "    ),\n",
    "    reference_cols=[HOSPITAL_ID, ADMIT_TIMESTAMP],\n",
    ")"
   ]
  },
  {
   "cell_type": "markdown",
   "id": "according-differential",
   "metadata": {},
   "source": [
    "## Plot example temporal features."
   ]
  },
  {
   "cell_type": "code",
   "execution_count": 3,
   "id": "compatible-practitioner",
   "metadata": {
    "scrolled": false
   },
   "outputs": [
    {
     "ename": "KeyError",
     "evalue": "\"['sodium'] not in index\"",
     "output_type": "error",
     "traceback": [
      "\u001b[0;31m---------------------------------------------------------------------------\u001b[0m",
      "\u001b[0;31mKeyError\u001b[0m                                  Traceback (most recent call last)",
      "Input \u001b[0;32mIn [3]\u001b[0m, in \u001b[0;36m<cell line: 12>\u001b[0;34m()\u001b[0m\n\u001b[1;32m      9\u001b[0m encounter_id \u001b[38;5;241m=\u001b[39m \u001b[38;5;241m11289767\u001b[39m\n\u001b[1;32m     10\u001b[0m temporal_features \u001b[38;5;241m=\u001b[39m feature_handler\u001b[38;5;241m.\u001b[39mget_numerical_feature_names()[\u001b[38;5;124m\"\u001b[39m\u001b[38;5;124mtemporal\u001b[39m\u001b[38;5;124m\"\u001b[39m]\n\u001b[0;32m---> 12\u001b[0m features_encounter \u001b[38;5;241m=\u001b[39m \u001b[43mfeature_handler\u001b[49m\u001b[38;5;241;43m.\u001b[39;49m\u001b[43mfeatures\u001b[49m\u001b[43m[\u001b[49m\u001b[38;5;124;43m\"\u001b[39;49m\u001b[38;5;124;43mtemporal\u001b[39;49m\u001b[38;5;124;43m\"\u001b[39;49m\u001b[43m]\u001b[49m\u001b[38;5;241;43m.\u001b[39;49m\u001b[43mloc\u001b[49m\u001b[43m[\u001b[49m\u001b[43mencounter_id\u001b[49m\u001b[43m]\u001b[49m\u001b[43m[\u001b[49m\n\u001b[1;32m     13\u001b[0m \u001b[43m    \u001b[49m\u001b[43mplot_features\u001b[49m\n\u001b[1;32m     14\u001b[0m \u001b[43m]\u001b[49m\n\u001b[1;32m     15\u001b[0m feature_handler\u001b[38;5;241m.\u001b[39mplot_features(encounter_id, names\u001b[38;5;241m=\u001b[39mplot_features)\n",
      "File \u001b[0;32m~/.cache/pypoetry/virtualenvs/cyclops-KFeU18-1-py3.9/lib/python3.9/site-packages/pandas/core/frame.py:3511\u001b[0m, in \u001b[0;36mDataFrame.__getitem__\u001b[0;34m(self, key)\u001b[0m\n\u001b[1;32m   3509\u001b[0m     \u001b[38;5;28;01mif\u001b[39;00m is_iterator(key):\n\u001b[1;32m   3510\u001b[0m         key \u001b[38;5;241m=\u001b[39m \u001b[38;5;28mlist\u001b[39m(key)\n\u001b[0;32m-> 3511\u001b[0m     indexer \u001b[38;5;241m=\u001b[39m \u001b[38;5;28;43mself\u001b[39;49m\u001b[38;5;241;43m.\u001b[39;49m\u001b[43mcolumns\u001b[49m\u001b[38;5;241;43m.\u001b[39;49m\u001b[43m_get_indexer_strict\u001b[49m\u001b[43m(\u001b[49m\u001b[43mkey\u001b[49m\u001b[43m,\u001b[49m\u001b[43m \u001b[49m\u001b[38;5;124;43m\"\u001b[39;49m\u001b[38;5;124;43mcolumns\u001b[39;49m\u001b[38;5;124;43m\"\u001b[39;49m\u001b[43m)\u001b[49m[\u001b[38;5;241m1\u001b[39m]\n\u001b[1;32m   3513\u001b[0m \u001b[38;5;66;03m# take() does not accept boolean indexers\u001b[39;00m\n\u001b[1;32m   3514\u001b[0m \u001b[38;5;28;01mif\u001b[39;00m \u001b[38;5;28mgetattr\u001b[39m(indexer, \u001b[38;5;124m\"\u001b[39m\u001b[38;5;124mdtype\u001b[39m\u001b[38;5;124m\"\u001b[39m, \u001b[38;5;28;01mNone\u001b[39;00m) \u001b[38;5;241m==\u001b[39m \u001b[38;5;28mbool\u001b[39m:\n",
      "File \u001b[0;32m~/.cache/pypoetry/virtualenvs/cyclops-KFeU18-1-py3.9/lib/python3.9/site-packages/pandas/core/indexes/base.py:5782\u001b[0m, in \u001b[0;36mIndex._get_indexer_strict\u001b[0;34m(self, key, axis_name)\u001b[0m\n\u001b[1;32m   5779\u001b[0m \u001b[38;5;28;01melse\u001b[39;00m:\n\u001b[1;32m   5780\u001b[0m     keyarr, indexer, new_indexer \u001b[38;5;241m=\u001b[39m \u001b[38;5;28mself\u001b[39m\u001b[38;5;241m.\u001b[39m_reindex_non_unique(keyarr)\n\u001b[0;32m-> 5782\u001b[0m \u001b[38;5;28;43mself\u001b[39;49m\u001b[38;5;241;43m.\u001b[39;49m\u001b[43m_raise_if_missing\u001b[49m\u001b[43m(\u001b[49m\u001b[43mkeyarr\u001b[49m\u001b[43m,\u001b[49m\u001b[43m \u001b[49m\u001b[43mindexer\u001b[49m\u001b[43m,\u001b[49m\u001b[43m \u001b[49m\u001b[43maxis_name\u001b[49m\u001b[43m)\u001b[49m\n\u001b[1;32m   5784\u001b[0m keyarr \u001b[38;5;241m=\u001b[39m \u001b[38;5;28mself\u001b[39m\u001b[38;5;241m.\u001b[39mtake(indexer)\n\u001b[1;32m   5785\u001b[0m \u001b[38;5;28;01mif\u001b[39;00m \u001b[38;5;28misinstance\u001b[39m(key, Index):\n\u001b[1;32m   5786\u001b[0m     \u001b[38;5;66;03m# GH 42790 - Preserve name from an Index\u001b[39;00m\n",
      "File \u001b[0;32m~/.cache/pypoetry/virtualenvs/cyclops-KFeU18-1-py3.9/lib/python3.9/site-packages/pandas/core/indexes/base.py:5845\u001b[0m, in \u001b[0;36mIndex._raise_if_missing\u001b[0;34m(self, key, indexer, axis_name)\u001b[0m\n\u001b[1;32m   5842\u001b[0m     \u001b[38;5;28;01mraise\u001b[39;00m \u001b[38;5;167;01mKeyError\u001b[39;00m(\u001b[38;5;124mf\u001b[39m\u001b[38;5;124m\"\u001b[39m\u001b[38;5;124mNone of [\u001b[39m\u001b[38;5;132;01m{\u001b[39;00mkey\u001b[38;5;132;01m}\u001b[39;00m\u001b[38;5;124m] are in the [\u001b[39m\u001b[38;5;132;01m{\u001b[39;00maxis_name\u001b[38;5;132;01m}\u001b[39;00m\u001b[38;5;124m]\u001b[39m\u001b[38;5;124m\"\u001b[39m)\n\u001b[1;32m   5844\u001b[0m not_found \u001b[38;5;241m=\u001b[39m \u001b[38;5;28mlist\u001b[39m(ensure_index(key)[missing_mask\u001b[38;5;241m.\u001b[39mnonzero()[\u001b[38;5;241m0\u001b[39m]]\u001b[38;5;241m.\u001b[39munique())\n\u001b[0;32m-> 5845\u001b[0m \u001b[38;5;28;01mraise\u001b[39;00m \u001b[38;5;167;01mKeyError\u001b[39;00m(\u001b[38;5;124mf\u001b[39m\u001b[38;5;124m\"\u001b[39m\u001b[38;5;132;01m{\u001b[39;00mnot_found\u001b[38;5;132;01m}\u001b[39;00m\u001b[38;5;124m not in index\u001b[39m\u001b[38;5;124m\"\u001b[39m)\n",
      "\u001b[0;31mKeyError\u001b[0m: \"['sodium'] not in index\""
     ]
    }
   ],
   "source": [
    "plot_features = [\n",
    "    \"oxygen saturation\",\n",
    "    \"sodium\",\n",
    "    \"temperature\",\n",
    "    \"respiratory rate\",\n",
    "    \"diastolic bp\",\n",
    "]\n",
    "\n",
    "encounter_id = 11289767\n",
    "temporal_features = feature_handler.get_numerical_feature_names()[\"temporal\"]\n",
    "\n",
    "features_encounter = feature_handler.features[\"temporal\"].loc[encounter_id][\n",
    "    plot_features\n",
    "]\n",
    "feature_handler.plot_features(encounter_id, names=plot_features)"
   ]
  },
  {
   "cell_type": "markdown",
   "id": "choice-seeker",
   "metadata": {},
   "source": [
    "## Plot histogram of static features."
   ]
  },
  {
   "cell_type": "code",
   "execution_count": null,
   "id": "adaptive-welcome",
   "metadata": {},
   "outputs": [],
   "source": [
    "feature_handler.plot_features(aggregate_type=\"static\", names=\"age\")"
   ]
  },
  {
   "cell_type": "markdown",
   "id": "improving-restaurant",
   "metadata": {},
   "source": [
    "## Create new FeatureHandler and load features from file."
   ]
  },
  {
   "cell_type": "code",
   "execution_count": null,
   "id": "simple-princess",
   "metadata": {},
   "outputs": [],
   "source": [
    "feature_handler.save(\".\", \"test_features\")\n",
    "feature_handler = FeatureHandler()\n",
    "feature_handler.load(\".\", \"test_features\")"
   ]
  }
 ],
 "metadata": {
  "kernelspec": {
   "display_name": "cyclops",
   "language": "python",
   "name": "cyclops"
  },
  "language_info": {
   "codemirror_mode": {
    "name": "ipython",
    "version": 3
   },
   "file_extension": ".py",
   "mimetype": "text/x-python",
   "name": "python",
   "nbconvert_exporter": "python",
   "pygments_lexer": "ipython3",
   "version": "3.9.7"
  }
 },
 "nbformat": 4,
 "nbformat_minor": 5
}
