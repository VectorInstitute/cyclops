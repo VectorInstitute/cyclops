{
 "cells": [
  {
   "cell_type": "markdown",
   "id": "structured-extent",
   "metadata": {},
   "source": [
    "### This notebook shows examples of how to use the cyclops.processor API on GEMINI."
   ]
  },
  {
   "cell_type": "markdown",
   "id": "capable-office",
   "metadata": {},
   "source": [
    "## Get all patient encounters including ER data, with diagnoses from St. Michael's hospital from March 1 2020 to March 15 2020, with vitals and labs and interventions."
   ]
  },
  {
   "cell_type": "code",
   "execution_count": 1,
   "id": "international-relief",
   "metadata": {},
   "outputs": [
    {
     "name": "stderr",
     "output_type": "stream",
     "text": [
      "2022-04-26 09:52:09,175 \u001b[1;37mINFO\u001b[0m cyclops.processors.utils - Log file is /mnt/nfs/home/krishnanam/vector-delirium/log.log\n",
      "2022-04-26 09:52:09,333 \u001b[1;37mINFO\u001b[0m cyclops.config  - Log file is /mnt/nfs/home/krishnanam/vector-delirium/log.log\n",
      "2022-04-26 09:52:09,423 \u001b[1;37mINFO\u001b[0m cyclops.query.utils - Log file is /mnt/nfs/home/krishnanam/vector-delirium/log.log\n",
      "2022-04-26 09:52:09,431 \u001b[1;37mINFO\u001b[0m cyclops.utils.profile - Log file is /mnt/nfs/home/krishnanam/vector-delirium/log.log\n",
      "2022-04-26 09:52:09,435 \u001b[1;37mINFO\u001b[0m cyclops.orm     - Log file is /mnt/nfs/home/krishnanam/vector-delirium/log.log\n",
      "2022-04-26 09:52:09,440 \u001b[1;37mINFO\u001b[0m cyclops.query.interface - Log file is /mnt/nfs/home/krishnanam/vector-delirium/log.log\n",
      "2022-04-26 09:52:10,085 \u001b[1;37mINFO\u001b[0m cyclops.orm     - Database setup, ready to run queries!\n"
     ]
    }
   ],
   "source": [
    "from cyclops.processors.column_names import AGE, DIAGNOSIS_CODE, ENCOUNTER_ID, SEX\n",
    "from cyclops.processors.constants import SMH\n",
    "from cyclops.processors.utils import gather_columns\n",
    "from cyclops.query import gemini\n",
    "\n",
    "# patients = gemini.patients(\n",
    "#     hospitals=[SMH], from_date=\"2020-03-01\", to_date=\"2020-03-15\", include_er_data=True\n",
    "# )\n",
    "# patients_diagnoses = gemini.diagnoses(patients=patients)\n",
    "# patients_vitals = gemini.events(patients=patients, category=\"vitals\")\n",
    "# patients_labs = gemini.events(patients=patients, category=\"lab\")\n",
    "# patients_interventions = gemini.events(patients=patients, category=\"intervention\")\n",
    "\n",
    "# diagnoses_data = patients_diagnoses.run()\n",
    "# vitals_data = patients_vitals.run()\n",
    "# labs_data = patients_labs.run()\n",
    "# interventions_data = patients_interventions.run()\n",
    "\n",
    "# print(f\"{len(diagnoses_data)} diagnoses rows extracted!\")\n",
    "# print(f\"{len(vitals_data)} vitals rows extracted!\")\n",
    "# print(f\"{len(labs_data)} labs rows extracted!\")\n",
    "# print(f\"{len(interventions_data)} interventions rows extracted!\")\n",
    "\n",
    "# patients_diagnoses.save(\".\", \"diagnoses\")\n",
    "# patients_vitals.save(\".\", \"vitals\")\n",
    "# patients_labs.save(\".\", \"lab\")\n",
    "# patients_interventions.save(\".\", \"intervention\")"
   ]
  },
  {
   "cell_type": "markdown",
   "id": "healthy-duncan",
   "metadata": {},
   "source": [
    "## Process queried data into features. (Static + Temporal)."
   ]
  },
  {
   "cell_type": "code",
   "execution_count": 2,
   "id": "descending-harris",
   "metadata": {},
   "outputs": [
    {
     "name": "stderr",
     "output_type": "stream",
     "text": [
      "2022-04-26 09:52:10,134 \u001b[1;37mINFO\u001b[0m cyclops.processors.aggregate - Log file is /mnt/nfs/home/krishnanam/vector-delirium/log.log\n",
      "2022-04-26 09:52:10,140 \u001b[1;37mINFO\u001b[0m cyclops.processors.diagnoses - Log file is /mnt/nfs/home/krishnanam/vector-delirium/log.log\n",
      "2022-04-26 09:52:10,145 \u001b[1;37mINFO\u001b[0m cyclops.processors.events - Log file is /mnt/nfs/home/krishnanam/vector-delirium/log.log\n",
      "2022-04-26 09:52:10,979 \u001b[1;37mINFO\u001b[0m cyclops.processors.impute - Log file is /mnt/nfs/home/krishnanam/vector-delirium/log.log\n",
      "2022-04-26 09:52:10,986 \u001b[1;37mINFO\u001b[0m cyclops.processors.feature_handler - Log file is /mnt/nfs/home/krishnanam/vector-delirium/log.log\n",
      "2022-04-26 09:52:11,265 \u001b[1;37mINFO\u001b[0m cyclops.processors.utils - Processing raw diagnosis codes...\n",
      "2022-04-26 09:52:11,268 \u001b[1;37mINFO\u001b[0m cyclops.processors.utils - # samples: 1068, # encounters: 150\n",
      "2022-04-26 09:52:11,310 \u001b[1;37mINFO\u001b[0m cyclops.processors.utils - Grouping ICD codes to trajectories...\n",
      "2022-04-26 09:52:11,313 \u001b[1;37mINFO\u001b[0m cyclops.processors.utils - # samples: 1068, # encounters: 150\n",
      "2022-04-26 09:52:11,315 \u001b[1;37mINFO\u001b[0m cyclops.processors.diagnoses - # diagnosis features: 19, # encounters: 150\n",
      "2022-04-26 09:52:11,396 \u001b[1;37mINFO\u001b[0m cyclops.utils.profile - Finished executing function group_diagnosis_codes_to_trajectories in 0.130719 s\n",
      "2022-04-26 09:52:11,417 \u001b[1;37mINFO\u001b[0m cyclops.processors.utils - Gathering static features...\n",
      "2022-04-26 09:52:11,419 \u001b[1;37mINFO\u001b[0m cyclops.processors.utils - # samples: 1068, # encounters: 150\n",
      "2022-04-26 09:52:11,421 \u001b[1;37mINFO\u001b[0m cyclops.processors.utils - # columns: 3, # encounters: 150\n",
      "2022-04-26 09:52:11,499 \u001b[1;37mINFO\u001b[0m cyclops.utils.profile - Finished executing function gather_static_features in 0.082296 s\n",
      "2022-04-26 09:52:11,507 \u001b[1;37mINFO\u001b[0m cyclops.processors.utils - Cleaning raw event data...\n",
      "2022-04-26 09:52:11,510 \u001b[1;37mINFO\u001b[0m cyclops.processors.utils - # samples: 14899, # encounters: 150\n",
      "2022-04-26 09:52:11,511 \u001b[1;37mINFO\u001b[0m cyclops.processors.utils - # columns: 59, # encounters: 150\n",
      "2022-04-26 09:52:11,541 \u001b[1;37mINFO\u001b[0m cyclops.processors.utils - Drop unsupported events...\n",
      "2022-04-26 09:52:11,543 \u001b[1;37mINFO\u001b[0m cyclops.processors.utils - # samples: 14899, # encounters: 150\n",
      "2022-04-26 09:52:11,545 \u001b[1;37mINFO\u001b[0m cyclops.processors.utils - # columns: 59, # encounters: 150\n",
      "2022-04-26 09:52:11,584 \u001b[1;37mINFO\u001b[0m cyclops.processors.utils - Remove text in parentheses and normalize lab test names...\n",
      "2022-04-26 09:52:11,587 \u001b[1;37mINFO\u001b[0m cyclops.processors.utils - # samples: 14899, # encounters: 150\n",
      "2022-04-26 09:52:11,589 \u001b[1;37mINFO\u001b[0m cyclops.processors.utils - # columns: 59, # encounters: 150\n",
      "2022-04-26 09:52:11,679 \u001b[1;37mINFO\u001b[0m cyclops.processors.utils - Fixing inequalities and removing outlier values...\n",
      "2022-04-26 09:52:11,682 \u001b[1;37mINFO\u001b[0m cyclops.processors.utils - # samples: 14899, # encounters: 150\n",
      "2022-04-26 09:52:11,684 \u001b[1;37mINFO\u001b[0m cyclops.processors.utils - # columns: 59, # encounters: 150\n",
      "2022-04-26 09:52:11,726 \u001b[1;37mINFO\u001b[0m cyclops.processors.utils - Convert Positive/Negative to 1/0...\n",
      "2022-04-26 09:52:11,728 \u001b[1;37mINFO\u001b[0m cyclops.processors.utils - # samples: 14899, # encounters: 150\n",
      "2022-04-26 09:52:11,730 \u001b[1;37mINFO\u001b[0m cyclops.processors.utils - # columns: 59, # encounters: 150\n",
      "2022-04-26 09:52:11,734 \u001b[1;37mINFO\u001b[0m cyclops.processors.utils - Fill empty result string values with NaN...\n",
      "2022-04-26 09:52:11,736 \u001b[1;37mINFO\u001b[0m cyclops.processors.utils - # samples: 14899, # encounters: 150\n",
      "2022-04-26 09:52:11,738 \u001b[1;37mINFO\u001b[0m cyclops.processors.utils - # columns: 59, # encounters: 150\n",
      "2022-04-26 09:52:11,742 \u001b[1;37mINFO\u001b[0m cyclops.processors.events - Converting string result values to numeric...\n",
      "2022-04-26 09:52:11,745 \u001b[1;37mINFO\u001b[0m cyclops.processors.events - Cleaning units and converting to SI...\n",
      "2022-04-26 09:52:11,793 \u001b[1;37mINFO\u001b[0m cyclops.utils.profile - Finished executing function clean_events in 0.286050 s\n",
      "2022-04-26 09:52:11,795 \u001b[1;37mINFO\u001b[0m cyclops.processors.utils - Gathering event features...\n",
      "2022-04-26 09:52:11,797 \u001b[1;37mINFO\u001b[0m cyclops.processors.utils - # samples: 14899, # encounters: 150\n",
      "2022-04-26 09:52:11,799 \u001b[1;37mINFO\u001b[0m cyclops.processors.utils - # columns: 59, # encounters: 150\n",
      "2022-04-26 09:52:12,826 \u001b[1;37mINFO\u001b[0m cyclops.processors.utils - Filtering events within window...\n",
      "2022-04-26 09:52:12,833 \u001b[1;37mINFO\u001b[0m cyclops.processors.utils - # samples: 3521, # encounters: 150\n",
      "2022-04-26 09:52:12,835 \u001b[1;37mINFO\u001b[0m cyclops.processors.utils - # columns: 59, # encounters: 150\n",
      "100%|██████████| 150/150 [00:01<00:00, 103.98it/s]\n",
      "2022-04-26 09:52:14,292 \u001b[1;37mINFO\u001b[0m cyclops.utils.profile - Finished executing function gather_event_features in 2.496827 s\n",
      "2022-04-26 09:52:14,370 \u001b[1;33mWARNING\u001b[0m cyclops.processors.feature_handler - Feature influenza has all NaNs, will not be added.\n",
      "2022-04-26 09:52:14,404 \u001b[1;37mINFO\u001b[0m cyclops.processors.utils - Cleaning raw event data...\n",
      "2022-04-26 09:52:14,406 \u001b[1;37mINFO\u001b[0m cyclops.processors.utils - # samples: 20244, # encounters: 150\n",
      "2022-04-26 09:52:14,408 \u001b[1;37mINFO\u001b[0m cyclops.processors.utils - # columns: 58, # encounters: 150\n",
      "2022-04-26 09:52:14,427 \u001b[1;37mINFO\u001b[0m cyclops.processors.utils - Drop unsupported events...\n",
      "2022-04-26 09:52:14,429 \u001b[1;37mINFO\u001b[0m cyclops.processors.utils - # samples: 20244, # encounters: 150\n",
      "2022-04-26 09:52:14,431 \u001b[1;37mINFO\u001b[0m cyclops.processors.utils - # columns: 58, # encounters: 150\n",
      "2022-04-26 09:52:14,473 \u001b[1;37mINFO\u001b[0m cyclops.processors.utils - Remove text in parentheses and normalize lab test names...\n",
      "2022-04-26 09:52:14,476 \u001b[1;37mINFO\u001b[0m cyclops.processors.utils - # samples: 20244, # encounters: 150\n",
      "2022-04-26 09:52:14,478 \u001b[1;37mINFO\u001b[0m cyclops.processors.utils - # columns: 58, # encounters: 150\n",
      "2022-04-26 09:52:14,553 \u001b[1;37mINFO\u001b[0m cyclops.processors.utils - Fixing inequalities and removing outlier values...\n",
      "2022-04-26 09:52:14,562 \u001b[1;37mINFO\u001b[0m cyclops.processors.utils - # samples: 20244, # encounters: 150\n",
      "2022-04-26 09:52:14,565 \u001b[1;37mINFO\u001b[0m cyclops.processors.utils - # columns: 58, # encounters: 150\n",
      "2022-04-26 09:52:14,617 \u001b[1;37mINFO\u001b[0m cyclops.processors.utils - Convert Positive/Negative to 1/0...\n",
      "2022-04-26 09:52:14,619 \u001b[1;37mINFO\u001b[0m cyclops.processors.utils - # samples: 20244, # encounters: 150\n",
      "2022-04-26 09:52:14,622 \u001b[1;37mINFO\u001b[0m cyclops.processors.utils - # columns: 58, # encounters: 150\n",
      "2022-04-26 09:52:14,627 \u001b[1;37mINFO\u001b[0m cyclops.processors.utils - Fill empty result string values with NaN...\n",
      "2022-04-26 09:52:14,629 \u001b[1;37mINFO\u001b[0m cyclops.processors.utils - # samples: 20244, # encounters: 150\n",
      "2022-04-26 09:52:14,631 \u001b[1;37mINFO\u001b[0m cyclops.processors.utils - # columns: 58, # encounters: 150\n",
      "2022-04-26 09:52:14,635 \u001b[1;37mINFO\u001b[0m cyclops.processors.events - Converting string result values to numeric...\n",
      "2022-04-26 09:52:14,639 \u001b[1;37mINFO\u001b[0m cyclops.utils.profile - Finished executing function clean_events in 0.235839 s\n",
      "2022-04-26 09:52:14,642 \u001b[1;37mINFO\u001b[0m cyclops.processors.utils - Gathering event features...\n",
      "2022-04-26 09:52:14,644 \u001b[1;37mINFO\u001b[0m cyclops.processors.utils - # samples: 20244, # encounters: 150\n",
      "2022-04-26 09:52:14,646 \u001b[1;37mINFO\u001b[0m cyclops.processors.utils - # columns: 58, # encounters: 150\n",
      "2022-04-26 09:52:15,869 \u001b[1;37mINFO\u001b[0m cyclops.processors.utils - Filtering events within window...\n",
      "2022-04-26 09:52:15,876 \u001b[1;37mINFO\u001b[0m cyclops.processors.utils - # samples: 923, # encounters: 150\n",
      "2022-04-26 09:52:15,877 \u001b[1;37mINFO\u001b[0m cyclops.processors.utils - # columns: 58, # encounters: 150\n",
      "100%|██████████| 150/150 [00:00<00:00, 175.73it/s]\n",
      "2022-04-26 09:52:16,743 \u001b[1;37mINFO\u001b[0m cyclops.utils.profile - Finished executing function gather_event_features in 2.101646 s\n",
      "2022-04-26 09:52:16,761 \u001b[1;33mWARNING\u001b[0m cyclops.processors.feature_handler - Feature cam has all NaNs, will not be added.\n",
      "2022-04-26 09:52:16,765 \u001b[1;33mWARNING\u001b[0m cyclops.processors.feature_handler - Feature oxygen_delivery has all NaNs, will not be added.\n",
      "2022-04-26 09:52:16,771 \u001b[1;37mINFO\u001b[0m cyclops.utils.profile - Finished executing function impute_features in 0.003982 s\n"
     ]
    },
    {
     "name": "stdout",
     "output_type": "stream",
     "text": [
      "F01_F99     0.320000\n",
      "K00_K95     0.240000\n",
      "R00_R99     0.460000\n",
      "D50_D89     0.186667\n",
      "S00_T88     0.100000\n",
      "V00_Y99     0.213333\n",
      "H60_H95     0.006667\n",
      "M00_M99     0.133333\n",
      "A00_B99     0.233333\n",
      "G00_G99     0.120000\n",
      "Z00_Z99     0.306667\n",
      "C00_D49     0.173333\n",
      "I00_I99     0.360000\n",
      "J00_J99     0.260000\n",
      "N00_N99     0.353333\n",
      "L00_L99     0.073333\n",
      "E00_E89     0.453333\n",
      "H00_H59     0.006667\n",
      "Q00_Q99     0.006667\n",
      "age        64.240000\n",
      "sex         0.606667\n",
      "dtype: float64\n"
     ]
    }
   ],
   "source": [
    "import numpy as np\n",
    "import pandas as pd\n",
    "\n",
    "from cyclops.processor import Aggregator, Imputer, featurize\n",
    "\n",
    "diagnoses_data = pd.read_parquet(\"diagnoses.gzip\")\n",
    "vitals_data = pd.read_parquet(\"vitals.gzip\")\n",
    "labs_data = pd.read_parquet(\"lab.gzip\")\n",
    "interventions_data = pd.read_parquet(\"intervention.gzip\")\n",
    "\n",
    "static_diagnoses_data = gather_columns(\n",
    "    diagnoses_data, [ENCOUNTER_ID, AGE, SEX, DIAGNOSIS_CODE]\n",
    ")\n",
    "feature_handler = featurize(\n",
    "    static_data=[static_diagnoses_data],\n",
    "    temporal_data=[labs_data, vitals_data],\n",
    "    aggregator=Aggregator(bucket_size=6, window=4),\n",
    "    static_imputer=Imputer(strategy=\"mean\"),\n",
    "    temporal_imputer=Imputer(strategy=\"mean\"),\n",
    ")"
   ]
  },
  {
   "cell_type": "markdown",
   "id": "according-differential",
   "metadata": {},
   "source": [
    "## Inspect feature handler, and check features."
   ]
  },
  {
   "cell_type": "code",
   "execution_count": 4,
   "id": "compatible-practitioner",
   "metadata": {},
   "outputs": [],
   "source": [
    "# print(feature_handler.get_numerical_feature_names())\n",
    "# print(feature_handler.get_categorical_feature_names())"
   ]
  }
 ],
 "metadata": {
  "kernelspec": {
   "display_name": "cyclops",
   "language": "python",
   "name": "cyclops"
  },
  "language_info": {
   "codemirror_mode": {
    "name": "ipython",
    "version": 3
   },
   "file_extension": ".py",
   "mimetype": "text/x-python",
   "name": "python",
   "nbconvert_exporter": "python",
   "pygments_lexer": "ipython3",
   "version": "3.8.5"
  }
 },
 "nbformat": 4,
 "nbformat_minor": 5
}
