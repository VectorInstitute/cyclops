{
 "cells": [
  {
   "cell_type": "markdown",
   "id": "structured-extent",
   "metadata": {},
   "source": [
    "### This notebook shows examples of how to use the cyclops.processor API on GEMINI."
   ]
  },
  {
   "cell_type": "markdown",
   "id": "capable-office",
   "metadata": {},
   "source": [
    "## Get all patient encounters including ER data, with diagnoses from St. Michael's hospital from March 1 2020 to March 15 2020, with vitals and labs and interventions."
   ]
  },
  {
   "cell_type": "code",
   "execution_count": null,
   "id": "international-relief",
   "metadata": {},
   "outputs": [],
   "source": [
    "import random\n",
    "\n",
    "import matplotlib.pyplot as plt\n",
    "import pandas as pd\n",
    "\n",
    "from cyclops.feature_handler import FeatureHandler\n",
    "from cyclops.processor import featurize\n",
    "from cyclops.processors.aggregate import Aggregator\n",
    "from cyclops.processors.column_names import (\n",
    "    ADMIT_TIMESTAMP,\n",
    "    AGE,\n",
    "    DIAGNOSIS_CODE,\n",
    "    ENCOUNTER_ID,\n",
    "    HOSPITAL_ID,\n",
    "    SEX,\n",
    "    LENGTH_OF_STAY_IN_ER,\n",
    "    DISCHARGE_DISPOSITION,\n",
    ")\n",
    "from cyclops.processors.constants import SMH\n",
    "from cyclops.processors.impute import Imputer\n",
    "from cyclops.processors.util import gather_columns\n",
    "from cyclops.query import gemini"
   ]
  },
  {
   "cell_type": "code",
   "execution_count": null,
   "id": "ea906335-12f2-477d-8492-42de11765488",
   "metadata": {},
   "outputs": [],
   "source": [
    "patients = gemini.patients(\n",
    "    hospitals=[SMH], from_date=\"2020-03-01\", to_date=\"2020-03-15\", include_er_data=True\n",
    ")\n",
    "patients_diagnoses = gemini.diagnoses(patients=patients)\n",
    "patients_vitals = gemini.events(patients=patients, category=\"vitals\")\n",
    "patients_labs = gemini.events(patients=patients, category=\"lab\")\n",
    "patients_interventions = gemini.events(patients=patients, category=\"intervention\")\n",
    "\n",
    "diagnoses_data = patients_diagnoses.run()\n",
    "vitals_data = patients_vitals.run()\n",
    "labs_data = patients_labs.run()\n",
    "interventions_data = patients_interventions.run()\n",
    "\n",
    "print(f\"{len(diagnoses_data)} diagnoses rows extracted!\")\n",
    "print(f\"{len(vitals_data)} vitals rows extracted!\")\n",
    "print(f\"{len(labs_data)} labs rows extracted!\")\n",
    "print(f\"{len(interventions_data)} interventions rows extracted!\")\n",
    "\n",
    "patients_diagnoses.save(\".\", \"diagnoses\")\n",
    "patients_vitals.save(\".\", \"vitals\")\n",
    "patients_labs.save(\".\", \"lab\")\n",
    "patients_interventions.save(\".\", \"intervention\")"
   ]
  },
  {
   "cell_type": "markdown",
   "id": "healthy-duncan",
   "metadata": {},
   "source": [
    "## Process queried data into features. (Static + Temporal)."
   ]
  },
  {
   "cell_type": "code",
   "execution_count": null,
   "id": "descending-harris",
   "metadata": {},
   "outputs": [],
   "source": [
    "diagnoses_data = pd.read_parquet(\"diagnoses.gzip\")\n",
    "vitals_data = pd.read_parquet(\"vitals.gzip\")\n",
    "labs_data = pd.read_parquet(\"lab.gzip\")\n",
    "interventions_data = pd.read_parquet(\"intervention.gzip\")\n",
    "\n",
    "static_diagnoses_data = gather_columns(\n",
    "    diagnoses_data,\n",
    "    [ENCOUNTER_ID, AGE, SEX, DIAGNOSIS_CODE, HOSPITAL_ID, ADMIT_TIMESTAMP, LENGTH_OF_STAY_IN_ER, DISCHARGE_DISPOSITION],\n",
    ")\n",
    "feature_handler = featurize(\n",
    "    static_data=[static_diagnoses_data],\n",
    "    temporal_data=[labs_data, vitals_data],\n",
    "    aggregator=Aggregator(bucket_size=6, window=120),\n",
    "    static_imputer=Imputer(\n",
    "        strategy=\"median\",\n",
    "        encounter_missingness_threshold=0.25,\n",
    "        feature_missingness_threshold=0.5,\n",
    "    ),\n",
    "    temporal_imputer=Imputer(\n",
    "        strategy=\"median\",\n",
    "        encounter_missingness_threshold=0.95,\n",
    "        feature_missingness_threshold=0.75,\n",
    "    ),\n",
    "    reference_cols=[HOSPITAL_ID, ADMIT_TIMESTAMP],\n",
    ")"
   ]
  },
  {
   "cell_type": "markdown",
   "id": "bfbfb948-3623-4dc4-92d0-bb783cd30d5e",
   "metadata": {},
   "source": [
    "## Convert discharge disposition codes to mortality, add it to handler, remove discharge_disposition after adding."
   ]
  },
  {
   "cell_type": "code",
   "execution_count": null,
   "id": "b8b54eef-313a-4b8f-98f1-14539d49d65b",
   "metadata": {},
   "outputs": [],
   "source": [
    "MORTALITY_DISCHARGE_DISPOSITION_CODES = [7, 72, 73, 74]\n",
    "mortality = feature_handler.features[\"static\"][\"discharge_disposition\"].copy().apply(lambda x: x in MORTALITY_DISCHARGE_DISPOSITION_CODES)\n",
    "mortality = mortality.rename(\"mortality\")\n",
    "feature_handler.add_features(pd.DataFrame(mortality))\n",
    "feature_handler.drop_features(\"discharge_disposition\")\n",
    "feature_handler.features[\"static\"]"
   ]
  },
  {
   "cell_type": "code",
   "execution_count": null,
   "id": "2818f731-2233-482a-8abc-5ee03e95977d",
   "metadata": {},
   "outputs": [],
   "source": [
    "feature_handler.features[\"static\"][\"mortality\"].value_counts()"
   ]
  },
  {
   "cell_type": "markdown",
   "id": "according-differential",
   "metadata": {},
   "source": [
    "## Plot example temporal features."
   ]
  },
  {
   "cell_type": "code",
   "execution_count": null,
   "id": "compatible-practitioner",
   "metadata": {},
   "outputs": [],
   "source": [
    "encounter_ids = list(\n",
    "    set(feature_handler.features[\"temporal\"].index.get_level_values(0))\n",
    ")\n",
    "encounter_id = random.choice(encounter_ids)\n",
    "temporal_features = feature_handler.get_numerical_feature_names()[\"temporal\"]\n",
    "feature_handler.plot_features(encounter_id, names=temporal_features)"
   ]
  },
  {
   "cell_type": "markdown",
   "id": "choice-seeker",
   "metadata": {},
   "source": [
    "## Plot histogram of static features."
   ]
  },
  {
   "cell_type": "code",
   "execution_count": null,
   "id": "adaptive-welcome",
   "metadata": {},
   "outputs": [],
   "source": [
    "feature_handler.plot_features(aggregate_type=\"static\", names=\"age\")"
   ]
  },
  {
   "cell_type": "markdown",
   "id": "improving-restaurant",
   "metadata": {},
   "source": [
    "## Create new FeatureHandler and load features from file."
   ]
  },
  {
   "cell_type": "code",
   "execution_count": null,
   "id": "simple-princess",
   "metadata": {},
   "outputs": [],
   "source": [
    "feature_handler.save(\".\", \"test_features\")\n",
    "feature_handler = FeatureHandler()\n",
    "feature_handler.load(\".\", \"test_features\")"
   ]
  }
 ],
 "metadata": {
  "kernelspec": {
   "display_name": "cyclops",
   "language": "python",
   "name": "cyclops"
  },
  "language_info": {
   "codemirror_mode": {
    "name": "ipython",
    "version": 3
   },
   "file_extension": ".py",
   "mimetype": "text/x-python",
   "name": "python",
   "nbconvert_exporter": "python",
   "pygments_lexer": "ipython3",
   "version": "3.9.7"
  }
 },
 "nbformat": 4,
 "nbformat_minor": 5
}
