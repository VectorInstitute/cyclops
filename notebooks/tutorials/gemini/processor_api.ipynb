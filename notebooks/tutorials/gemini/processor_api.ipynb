{
 "cells": [
  {
   "cell_type": "markdown",
   "id": "structured-extent",
   "metadata": {},
   "source": [
    "### This notebook shows examples of how to use the cyclops.processor API on GEMINI."
   ]
  },
  {
   "cell_type": "markdown",
   "id": "capable-office",
   "metadata": {},
   "source": [
    "## Get all patient encounters including ER data, with diagnoses from St. Michael's hospital from March 1 2020 to March 15 2020, with vitals and labs and interventions."
   ]
  },
  {
   "cell_type": "code",
   "execution_count": 1,
   "id": "international-relief",
   "metadata": {},
   "outputs": [
    {
     "name": "stderr",
     "output_type": "stream",
     "text": [
      "2022-04-21 07:52:05,218 \u001b[1;37mINFO\u001b[0m cyclops.processors.utils - Log file is /mnt/nfs/home/krishnanam/vector-delirium/log.log\n",
      "2022-04-21 07:52:05,384 \u001b[1;37mINFO\u001b[0m cyclops.config  - Log file is /mnt/nfs/home/krishnanam/vector-delirium/log.log\n",
      "2022-04-21 07:52:05,470 \u001b[1;37mINFO\u001b[0m cyclops.query.utils - Log file is /mnt/nfs/home/krishnanam/vector-delirium/log.log\n",
      "2022-04-21 07:52:05,498 \u001b[1;37mINFO\u001b[0m cyclops.utils.profile - Log file is /mnt/nfs/home/krishnanam/vector-delirium/log.log\n",
      "2022-04-21 07:52:05,503 \u001b[1;37mINFO\u001b[0m cyclops.orm     - Log file is /mnt/nfs/home/krishnanam/vector-delirium/log.log\n",
      "2022-04-21 07:52:05,508 \u001b[1;37mINFO\u001b[0m cyclops.query.interface - Log file is /mnt/nfs/home/krishnanam/vector-delirium/log.log\n",
      "2022-04-21 07:52:06,077 \u001b[1;37mINFO\u001b[0m cyclops.orm     - Database setup, ready to run queries!\n"
     ]
    }
   ],
   "source": [
    "from cyclops.processors.column_names import AGE, DIAGNOSIS_CODE, ENCOUNTER_ID, SEX\n",
    "from cyclops.processors.constants import SMH\n",
    "from cyclops.processors.utils import gather_columns\n",
    "from cyclops.query import gemini\n",
    "\n",
    "# patients = gemini.patients(\n",
    "#     hospitals=[SMH], from_date=\"2020-03-01\", to_date=\"2020-03-15\", include_er_data=True\n",
    "# )\n",
    "# patients_diagnoses = gemini.diagnoses(patients=patients)\n",
    "# patients_vitals = gemini.events(patients=patients, category=\"vitals\")\n",
    "# patients_labs = gemini.events(patients=patients, category=\"lab\")\n",
    "# patients_interventions = gemini.events(patients=patients, category=\"intervention\")\n",
    "\n",
    "# diagnoses_data = patients_diagnoses.run()\n",
    "# vitals_data = patients_vitals.run()\n",
    "# labs_data = patients_labs.run()\n",
    "# interventions_data = patients_interventions.run()\n",
    "\n",
    "# print(f\"{len(diagnoses_data)} diagnoses rows extracted!\")\n",
    "# print(f\"{len(vitals_data)} vitals rows extracted!\")\n",
    "# print(f\"{len(labs_data)} labs rows extracted!\")\n",
    "# print(f\"{len(interventions_data)} interventions rows extracted!\")\n",
    "\n",
    "# patients_diagnoses.save(\".\", \"diagnoses\")\n",
    "# patients_vitals.save(\".\", \"vitals\")\n",
    "# patients_labs.save(\".\", \"lab\")\n",
    "# patients_interventions.save(\".\", \"intervention\")"
   ]
  },
  {
   "cell_type": "markdown",
   "id": "healthy-duncan",
   "metadata": {},
   "source": [
    "## Process queried data into features. (Static + Temporal)."
   ]
  },
  {
   "cell_type": "code",
   "execution_count": 2,
   "id": "descending-harris",
   "metadata": {},
   "outputs": [
    {
     "name": "stderr",
     "output_type": "stream",
     "text": [
      "2022-04-21 07:52:06,109 \u001b[1;37mINFO\u001b[0m cyclops.processors.aggregate - Log file is /mnt/nfs/home/krishnanam/vector-delirium/log.log\n",
      "2022-04-21 07:52:06,116 \u001b[1;37mINFO\u001b[0m cyclops.processors.diagnoses - Log file is /mnt/nfs/home/krishnanam/vector-delirium/log.log\n",
      "2022-04-21 07:52:06,131 \u001b[1;37mINFO\u001b[0m cyclops.processors.events - Log file is /mnt/nfs/home/krishnanam/vector-delirium/log.log\n",
      "2022-04-21 07:52:06,879 \u001b[1;37mINFO\u001b[0m cyclops.processors.feature_handler - Log file is /mnt/nfs/home/krishnanam/vector-delirium/log.log\n",
      "2022-04-21 07:52:07,074 \u001b[1;37mINFO\u001b[0m cyclops.processors.utils - Processing raw diagnosis codes...\n",
      "2022-04-21 07:52:07,078 \u001b[1;37mINFO\u001b[0m cyclops.processors.utils - # samples: 1068, # encounters: 150\n",
      "2022-04-21 07:52:07,125 \u001b[1;37mINFO\u001b[0m cyclops.processors.utils - Grouping ICD codes to trajectories...\n",
      "2022-04-21 07:52:07,127 \u001b[1;37mINFO\u001b[0m cyclops.processors.utils - # samples: 1068, # encounters: 150\n",
      "2022-04-21 07:52:07,130 \u001b[1;37mINFO\u001b[0m cyclops.processors.diagnoses - # diagnosis features: 19, # encounters: 150\n",
      "2022-04-21 07:52:07,221 \u001b[1;37mINFO\u001b[0m cyclops.utils.profile - Finished executing function group_diagnosis_codes_to_trajectories in 0.146801 s\n",
      "2022-04-21 07:52:07,243 \u001b[1;37mINFO\u001b[0m cyclops.processors.utils - Gathering static features...\n",
      "2022-04-21 07:52:07,245 \u001b[1;37mINFO\u001b[0m cyclops.processors.utils - # samples: 1068, # encounters: 150\n",
      "2022-04-21 07:52:07,248 \u001b[1;37mINFO\u001b[0m cyclops.processors.utils - # columns: 3, # encounters: 150\n",
      "2022-04-21 07:52:07,332 \u001b[1;37mINFO\u001b[0m cyclops.utils.profile - Finished executing function gather_static_features in 0.088423 s\n",
      "2022-04-21 07:52:07,339 \u001b[1;37mINFO\u001b[0m cyclops.processors.utils - Cleaning raw event data...\n",
      "2022-04-21 07:52:07,342 \u001b[1;37mINFO\u001b[0m cyclops.processors.utils - # samples: 14899, # encounters: 150\n",
      "2022-04-21 07:52:07,344 \u001b[1;37mINFO\u001b[0m cyclops.processors.utils - # columns: 59, # encounters: 150\n",
      "2022-04-21 07:52:07,369 \u001b[1;37mINFO\u001b[0m cyclops.processors.utils - Drop unsupported events...\n",
      "2022-04-21 07:52:07,372 \u001b[1;37mINFO\u001b[0m cyclops.processors.utils - # samples: 14899, # encounters: 150\n",
      "2022-04-21 07:52:07,374 \u001b[1;37mINFO\u001b[0m cyclops.processors.utils - # columns: 59, # encounters: 150\n",
      "2022-04-21 07:52:07,409 \u001b[1;37mINFO\u001b[0m cyclops.processors.utils - Remove text in parentheses and normalize lab test names...\n",
      "2022-04-21 07:52:07,411 \u001b[1;37mINFO\u001b[0m cyclops.processors.utils - # samples: 14899, # encounters: 150\n",
      "2022-04-21 07:52:07,413 \u001b[1;37mINFO\u001b[0m cyclops.processors.utils - # columns: 59, # encounters: 150\n",
      "2022-04-21 07:52:07,478 \u001b[1;37mINFO\u001b[0m cyclops.processors.utils - Fixing inequalities and removing outlier values...\n",
      "2022-04-21 07:52:07,480 \u001b[1;37mINFO\u001b[0m cyclops.processors.utils - # samples: 14899, # encounters: 150\n",
      "2022-04-21 07:52:07,483 \u001b[1;37mINFO\u001b[0m cyclops.processors.utils - # columns: 59, # encounters: 150\n",
      "/mnt/nfs/home/krishnanam/vector-delirium/cyclops/processors/events.py:139: SettingWithCopyWarning: \n",
      "A value is trying to be set on a copy of a slice from a DataFrame\n",
      "\n",
      "See the caveats in the documentation: https://pandas.pydata.org/pandas-docs/stable/user_guide/indexing.html#returning-a-view-versus-a-copy\n",
      "  data[EVENT_VALUE][\n",
      "/mnt/nfs/home/krishnanam/vector-delirium/cyclops/processors/events.py:144: SettingWithCopyWarning: \n",
      "A value is trying to be set on a copy of a slice from a DataFrame\n",
      "\n",
      "See the caveats in the documentation: https://pandas.pydata.org/pandas-docs/stable/user_guide/indexing.html#returning-a-view-versus-a-copy\n",
      "  data[EVENT_VALUE][\n",
      "2022-04-21 07:52:07,829 \u001b[1;37mINFO\u001b[0m cyclops.processors.utils - Convert Positive/Negative to 1/0...\n",
      "2022-04-21 07:52:07,831 \u001b[1;37mINFO\u001b[0m cyclops.processors.utils - # samples: 14899, # encounters: 150\n",
      "2022-04-21 07:52:07,833 \u001b[1;37mINFO\u001b[0m cyclops.processors.utils - # columns: 59, # encounters: 150\n",
      "2022-04-21 07:52:07,838 \u001b[1;37mINFO\u001b[0m cyclops.processors.utils - Fill empty result string values with NaN...\n",
      "2022-04-21 07:52:07,840 \u001b[1;37mINFO\u001b[0m cyclops.processors.utils - # samples: 14899, # encounters: 150\n",
      "2022-04-21 07:52:07,842 \u001b[1;37mINFO\u001b[0m cyclops.processors.utils - # columns: 59, # encounters: 150\n",
      "2022-04-21 07:52:07,845 \u001b[1;37mINFO\u001b[0m cyclops.processors.events - Converting string result values to numeric...\n",
      "2022-04-21 07:52:07,849 \u001b[1;37mINFO\u001b[0m cyclops.processors.events - Cleaning units and converting to SI...\n",
      "2022-04-21 07:52:07,891 \u001b[1;37mINFO\u001b[0m cyclops.utils.profile - Finished executing function clean_events in 0.551793 s\n",
      "2022-04-21 07:52:07,893 \u001b[1;37mINFO\u001b[0m cyclops.processors.utils - Gathering event features...\n",
      "2022-04-21 07:52:07,895 \u001b[1;37mINFO\u001b[0m cyclops.processors.utils - # samples: 14899, # encounters: 150\n",
      "2022-04-21 07:52:07,897 \u001b[1;37mINFO\u001b[0m cyclops.processors.utils - # columns: 59, # encounters: 150\n",
      "2022-04-21 07:52:07,927 \u001b[1;37mINFO\u001b[0m cyclops.processors.utils - Filtering events within window...\n",
      "2022-04-21 07:52:07,929 \u001b[1;37mINFO\u001b[0m cyclops.processors.utils - # samples: 7049, # encounters: 148\n",
      "2022-04-21 07:52:07,932 \u001b[1;37mINFO\u001b[0m cyclops.processors.utils - # columns: 59, # encounters: 148\n",
      "2022-04-21 07:52:18,923 \u001b[1;37mINFO\u001b[0m cyclops.utils.profile - Finished executing function gather_event_features in 11.030557 s\n",
      "2022-04-21 07:52:19,103 \u001b[1;33mWARNING\u001b[0m cyclops.processors.feature_handler - Feature influenza has all NaNs, will not be added.\n",
      "2022-04-21 07:52:19,159 \u001b[1;37mINFO\u001b[0m cyclops.processors.utils - Cleaning raw event data...\n",
      "2022-04-21 07:52:19,162 \u001b[1;37mINFO\u001b[0m cyclops.processors.utils - # samples: 20244, # encounters: 150\n",
      "2022-04-21 07:52:19,164 \u001b[1;37mINFO\u001b[0m cyclops.processors.utils - # columns: 58, # encounters: 150\n",
      "2022-04-21 07:52:19,182 \u001b[1;37mINFO\u001b[0m cyclops.processors.utils - Drop unsupported events...\n",
      "2022-04-21 07:52:19,185 \u001b[1;37mINFO\u001b[0m cyclops.processors.utils - # samples: 20244, # encounters: 150\n",
      "2022-04-21 07:52:19,187 \u001b[1;37mINFO\u001b[0m cyclops.processors.utils - # columns: 58, # encounters: 150\n",
      "2022-04-21 07:52:19,223 \u001b[1;37mINFO\u001b[0m cyclops.processors.utils - Remove text in parentheses and normalize lab test names...\n",
      "2022-04-21 07:52:19,225 \u001b[1;37mINFO\u001b[0m cyclops.processors.utils - # samples: 20244, # encounters: 150\n",
      "2022-04-21 07:52:19,227 \u001b[1;37mINFO\u001b[0m cyclops.processors.utils - # columns: 58, # encounters: 150\n",
      "2022-04-21 07:52:19,293 \u001b[1;37mINFO\u001b[0m cyclops.processors.utils - Fixing inequalities and removing outlier values...\n",
      "2022-04-21 07:52:19,296 \u001b[1;37mINFO\u001b[0m cyclops.processors.utils - # samples: 20244, # encounters: 150\n",
      "2022-04-21 07:52:19,298 \u001b[1;37mINFO\u001b[0m cyclops.processors.utils - # columns: 58, # encounters: 150\n",
      "/mnt/nfs/home/krishnanam/vector-delirium/cyclops/processors/events.py:139: SettingWithCopyWarning: \n",
      "A value is trying to be set on a copy of a slice from a DataFrame\n",
      "\n",
      "See the caveats in the documentation: https://pandas.pydata.org/pandas-docs/stable/user_guide/indexing.html#returning-a-view-versus-a-copy\n",
      "  data[EVENT_VALUE][\n",
      "/mnt/nfs/home/krishnanam/vector-delirium/cyclops/processors/events.py:144: SettingWithCopyWarning: \n",
      "A value is trying to be set on a copy of a slice from a DataFrame\n",
      "\n",
      "See the caveats in the documentation: https://pandas.pydata.org/pandas-docs/stable/user_guide/indexing.html#returning-a-view-versus-a-copy\n",
      "  data[EVENT_VALUE][\n",
      "2022-04-21 07:52:19,379 \u001b[1;37mINFO\u001b[0m cyclops.processors.utils - Convert Positive/Negative to 1/0...\n",
      "2022-04-21 07:52:19,381 \u001b[1;37mINFO\u001b[0m cyclops.processors.utils - # samples: 20244, # encounters: 150\n",
      "2022-04-21 07:52:19,383 \u001b[1;37mINFO\u001b[0m cyclops.processors.utils - # columns: 58, # encounters: 150\n",
      "2022-04-21 07:52:19,388 \u001b[1;37mINFO\u001b[0m cyclops.processors.utils - Fill empty result string values with NaN...\n",
      "2022-04-21 07:52:19,390 \u001b[1;37mINFO\u001b[0m cyclops.processors.utils - # samples: 20244, # encounters: 150\n",
      "2022-04-21 07:52:19,392 \u001b[1;37mINFO\u001b[0m cyclops.processors.utils - # columns: 58, # encounters: 150\n",
      "2022-04-21 07:52:19,396 \u001b[1;37mINFO\u001b[0m cyclops.processors.events - Converting string result values to numeric...\n",
      "2022-04-21 07:52:19,400 \u001b[1;37mINFO\u001b[0m cyclops.utils.profile - Finished executing function clean_events in 0.240571 s\n",
      "2022-04-21 07:52:19,402 \u001b[1;37mINFO\u001b[0m cyclops.processors.utils - Gathering event features...\n",
      "2022-04-21 07:52:19,404 \u001b[1;37mINFO\u001b[0m cyclops.processors.utils - # samples: 20244, # encounters: 150\n"
     ]
    },
    {
     "name": "stderr",
     "output_type": "stream",
     "text": [
      "2022-04-21 07:52:19,406 \u001b[1;37mINFO\u001b[0m cyclops.processors.utils - # columns: 58, # encounters: 150\n",
      "2022-04-21 07:52:19,423 \u001b[1;37mINFO\u001b[0m cyclops.processors.utils - Filtering events within window...\n",
      "2022-04-21 07:52:19,426 \u001b[1;37mINFO\u001b[0m cyclops.processors.utils - # samples: 3688, # encounters: 148\n",
      "2022-04-21 07:52:19,428 \u001b[1;37mINFO\u001b[0m cyclops.processors.utils - # columns: 58, # encounters: 148\n",
      "2022-04-21 07:52:25,665 \u001b[1;37mINFO\u001b[0m cyclops.utils.profile - Finished executing function gather_event_features in 6.263329 s\n",
      "2022-04-21 07:52:25,687 \u001b[1;33mWARNING\u001b[0m cyclops.processors.feature_handler - Feature cam has all NaNs, will not be added.\n",
      "2022-04-21 07:52:25,719 \u001b[1;33mWARNING\u001b[0m cyclops.processors.feature_handler - Feature oxygen_delivery has all NaNs, will not be added.\n",
      "2022-04-21 07:52:25,721 \u001b[1;33mWARNING\u001b[0m cyclops.processors.feature_handler - Feature fio2 has all NaNs, will not be added.\n"
     ]
    }
   ],
   "source": [
    "import pandas as pd\n",
    "\n",
    "from cyclops.processor import Aggregator, Imputer, featurize\n",
    "\n",
    "diagnoses_data = pd.read_parquet(\"diagnoses.gzip\")\n",
    "vitals_data = pd.read_parquet(\"vitals.gzip\")\n",
    "labs_data = pd.read_parquet(\"lab.gzip\")\n",
    "interventions_data = pd.read_parquet(\"intervention.gzip\")\n",
    "\n",
    "diagnoses_data = gather_columns(\n",
    "    diagnoses_data, [ENCOUNTER_ID, AGE, SEX, DIAGNOSIS_CODE]\n",
    ")\n",
    "feature_handler = featurize(\n",
    "    static_data=[diagnoses_data],\n",
    "    temporal_data=[labs_data, vitals_data],\n",
    "    imputer=Imputer(strategy=\"none\"),\n",
    "    aggregator=Aggregator(),\n",
    ")"
   ]
  },
  {
   "cell_type": "markdown",
   "id": "according-differential",
   "metadata": {},
   "source": [
    "## Inspect feature handler, and check features."
   ]
  },
  {
   "cell_type": "code",
   "execution_count": 3,
   "id": "compatible-practitioner",
   "metadata": {},
   "outputs": [
    {
     "name": "stdout",
     "output_type": "stream",
     "text": [
      "['age', 'index', 'sodium', 'urine sodium', 'urine specific gravity', 'bicarbonate', 'tsh', 'blood urea nitrogen', 'vitamin b12', 'white blood cell count', 'high sensitivity troponin', 'vitamin d', 'hba1c', 'lymphocyte', 'neutrophils', 'albumin', 'alp', 'alt', 'aptt', 'ast', 'bilirubin', 'urinalysis', 'calcium', 'calcium, ionized', 'creatinine', 'd-dimer', 'esr', 'serum alcohol', 'ferritin', 'fibrinogen', 'glucose point of care', 'glucose random', 'hematocrit', 'hemoglobin', 'crp', 'inr', 'ketone', 'lactate arterial', 'lactate venous', 'ldh', 'mean cell volume', 'serum osmolality', 'urine osmolality', 'arterial paco2', 'venous pco2', 'arterial ph', 'venous ph', 'platelet count', 'arterial pao2', 'potassium', 'pt', 'index', 'diastolic bp', 'oxygen saturation', 'oxygen flow rate', 'heart rate', 'respiratory rate', 'systolic bp', 'temperature', 'weight']\n",
      "['F01_F99', 'K00_K95', 'R00_R99', 'D50_D89', 'S00_T88', 'V00_Y99', 'H60_H95', 'M00_M99', 'A00_B99', 'G00_G99', 'Z00_Z99', 'C00_D49', 'I00_I99', 'J00_J99', 'N00_N99', 'L00_L99', 'E00_E89', 'H00_H59', 'Q00_Q99', 'sex', 'glucose fasting']\n"
     ]
    }
   ],
   "source": [
    "print(feature_handler.get_numerical_features())\n",
    "print(feature_handler.get_categorical_features())\n",
    "\n",
    "# feature_handler.features"
   ]
  },
  {
   "cell_type": "markdown",
   "id": "fancy-router",
   "metadata": {},
   "source": [
    "## Look at data quality report (patient statics + labs + vitals)"
   ]
  },
  {
   "cell_type": "code",
   "execution_count": 4,
   "id": "great-productivity",
   "metadata": {},
   "outputs": [],
   "source": [
    "# from evidently import ColumnMapping\n",
    "# from evidently.dashboard import Dashboard\n",
    "# from evidently.dashboard.tabs import DataQualityTab\n",
    "\n",
    "# dashboard = Dashboard(tabs=[DataQualityTab()])\n",
    "# column_mapping = ColumnMapping(\n",
    "#     numerical_features=feature_handler.get_numerical_features(),\n",
    "#     categorical_features=feature_handler.get_categorical_features(),\n",
    "# )\n",
    "# dashboard.calculate(\n",
    "#     reference_data=feature_handler.features,\n",
    "#     current_data=None,\n",
    "#     column_mapping=column_mapping,\n",
    "# )\n",
    "# dashboard.save(f\"data_processed.html\")"
   ]
  }
 ],
 "metadata": {
  "kernelspec": {
   "display_name": "cyclops",
   "language": "python",
   "name": "cyclops"
  },
  "language_info": {
   "codemirror_mode": {
    "name": "ipython",
    "version": 3
   },
   "file_extension": ".py",
   "mimetype": "text/x-python",
   "name": "python",
   "nbconvert_exporter": "python",
   "pygments_lexer": "ipython3",
   "version": "3.8.5"
  }
 },
 "nbformat": 4,
 "nbformat_minor": 5
}
