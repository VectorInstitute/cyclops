{
 "cells": [
  {
   "cell_type": "markdown",
   "id": "structured-extent",
   "metadata": {},
   "source": [
    "### This notebook shows examples of how to use the cyclops.processor API on GEMINI."
   ]
  },
  {
   "cell_type": "markdown",
   "id": "capable-office",
   "metadata": {},
   "source": [
    "## Get all patient encounters including ER data, with diagnoses from St. Michael's hospital from March 1 2020 to March 15 2020, with vitals and labs and interventions."
   ]
  },
  {
   "cell_type": "code",
   "execution_count": 1,
   "id": "international-relief",
   "metadata": {},
   "outputs": [
    {
     "name": "stderr",
     "output_type": "stream",
     "text": [
      "2022-04-29 10:57:12,627 \u001b[1;37mINFO\u001b[0m cyclops.utils.profile - Log file is /mnt/nfs/home/krishnanam/vector-delirium/log.log\n",
      "2022-04-29 10:57:12,664 \u001b[1;37mINFO\u001b[0m cyclops.processors.impute - Log file is /mnt/nfs/home/krishnanam/vector-delirium/log.log\n",
      "2022-04-29 10:57:12,943 \u001b[1;37mINFO\u001b[0m cyclops.feature_handler - Log file is /mnt/nfs/home/krishnanam/vector-delirium/log.log\n",
      "2022-04-29 10:57:12,962 \u001b[1;37mINFO\u001b[0m cyclops.processors.utils - Log file is /mnt/nfs/home/krishnanam/vector-delirium/log.log\n",
      "2022-04-29 10:57:12,991 \u001b[1;37mINFO\u001b[0m cyclops.processors.aggregate - Log file is /mnt/nfs/home/krishnanam/vector-delirium/log.log\n",
      "2022-04-29 10:57:13,030 \u001b[1;37mINFO\u001b[0m cyclops.processors.diagnoses - Log file is /mnt/nfs/home/krishnanam/vector-delirium/log.log\n",
      "2022-04-29 10:57:13,050 \u001b[1;37mINFO\u001b[0m cyclops.processors.events - Log file is /mnt/nfs/home/krishnanam/vector-delirium/log.log\n",
      "2022-04-29 10:57:13,083 \u001b[1;37mINFO\u001b[0m cyclops.processors.outcomes - Log file is /mnt/nfs/home/krishnanam/vector-delirium/log.log\n",
      "2022-04-29 10:57:13,255 \u001b[1;37mINFO\u001b[0m cyclops.config  - Log file is /mnt/nfs/home/krishnanam/vector-delirium/log.log\n",
      "2022-04-29 10:57:13,347 \u001b[1;37mINFO\u001b[0m cyclops.query.utils - Log file is /mnt/nfs/home/krishnanam/vector-delirium/log.log\n",
      "2022-04-29 10:57:13,412 \u001b[1;37mINFO\u001b[0m cyclops.orm     - Log file is /mnt/nfs/home/krishnanam/vector-delirium/log.log\n",
      "2022-04-29 10:57:13,468 \u001b[1;37mINFO\u001b[0m cyclops.query.interface - Log file is /mnt/nfs/home/krishnanam/vector-delirium/log.log\n",
      "2022-04-29 10:57:16,662 \u001b[1;37mINFO\u001b[0m cyclops.orm     - Database setup, ready to run queries!\n"
     ]
    }
   ],
   "source": [
    "import matplotlib.pyplot as plt\n",
    "import pandas as pd\n",
    "\n",
    "from cyclops.processor import featurize\n",
    "from cyclops.processors.aggregate import Aggregator\n",
    "from cyclops.processors.column_names import (\n",
    "    ADMIT_TIMESTAMP,\n",
    "    AGE,\n",
    "    DIAGNOSIS_CODE,\n",
    "    ENCOUNTER_ID,\n",
    "    HOSPITAL_ID,\n",
    "    SEX,\n",
    ")\n",
    "from cyclops.processors.constants import SMH\n",
    "from cyclops.feature_handler import FeatureHandler\n",
    "from cyclops.processors.impute import Imputer\n",
    "from cyclops.processors.utils import gather_columns\n",
    "from cyclops.query import gemini\n",
    "\n",
    "# patients = gemini.patients(\n",
    "#     hospitals=[SMH], from_date=\"2020-03-01\", to_date=\"2020-03-15\", include_er_data=True\n",
    "# )\n",
    "# patients_diagnoses = gemini.diagnoses(patients=patients)\n",
    "# patients_vitals = gemini.events(patients=patients, category=\"vitals\")\n",
    "# patients_labs = gemini.events(patients=patients, category=\"lab\")\n",
    "# patients_interventions = gemini.events(patients=patients, category=\"intervention\")\n",
    "\n",
    "# diagnoses_data = patients_diagnoses.run()\n",
    "# vitals_data = patients_vitals.run()\n",
    "# labs_data = patients_labs.run()\n",
    "# interventions_data = patients_interventions.run()\n",
    "\n",
    "# print(f\"{len(diagnoses_data)} diagnoses rows extracted!\")\n",
    "# print(f\"{len(vitals_data)} vitals rows extracted!\")\n",
    "# print(f\"{len(labs_data)} labs rows extracted!\")\n",
    "# print(f\"{len(interventions_data)} interventions rows extracted!\")\n",
    "\n",
    "# patients_diagnoses.save(\".\", \"diagnoses\")\n",
    "# patients_vitals.save(\".\", \"vitals\")\n",
    "# patients_labs.save(\".\", \"lab\")\n",
    "# patients_interventions.save(\".\", \"intervention\")"
   ]
  },
  {
   "cell_type": "markdown",
   "id": "healthy-duncan",
   "metadata": {},
   "source": [
    "## Process queried data into features. (Static + Temporal)."
   ]
  },
  {
   "cell_type": "code",
   "execution_count": 2,
   "id": "descending-harris",
   "metadata": {},
   "outputs": [
    {
     "name": "stderr",
     "output_type": "stream",
     "text": [
      "2022-04-29 10:57:16,939 \u001b[1;37mINFO\u001b[0m cyclops.processors.utils - Processing raw diagnosis codes...\n",
      "2022-04-29 10:57:16,946 \u001b[1;37mINFO\u001b[0m cyclops.processors.utils - # samples: 1068, # encounters: 150\n",
      "2022-04-29 10:57:16,989 \u001b[1;37mINFO\u001b[0m cyclops.processors.utils - Grouping ICD codes to trajectories...\n",
      "2022-04-29 10:57:16,991 \u001b[1;37mINFO\u001b[0m cyclops.processors.utils - # samples: 1068, # encounters: 150\n",
      "2022-04-29 10:57:16,993 \u001b[1;37mINFO\u001b[0m cyclops.processors.diagnoses - # diagnosis features: 19, # encounters: 150\n",
      "2022-04-29 10:57:17,078 \u001b[1;37mINFO\u001b[0m cyclops.utils.profile - Finished executing function group_diagnosis_codes_to_trajectories in 0.138797 s\n",
      "2022-04-29 10:57:17,102 \u001b[1;37mINFO\u001b[0m cyclops.processors.utils - Gathering static features...\n",
      "2022-04-29 10:57:17,104 \u001b[1;37mINFO\u001b[0m cyclops.processors.utils - # samples: 1068, # encounters: 150\n",
      "2022-04-29 10:57:17,106 \u001b[1;37mINFO\u001b[0m cyclops.processors.utils - # columns: 5, # encounters: 150\n",
      "2022-04-29 10:57:17,282 \u001b[1;37mINFO\u001b[0m cyclops.utils.profile - Finished executing function gather_static_features in 0.179345 s\n",
      "2022-04-29 10:57:17,293 \u001b[1;37mINFO\u001b[0m cyclops.processors.utils - Cleaning raw event data...\n",
      "2022-04-29 10:57:17,296 \u001b[1;37mINFO\u001b[0m cyclops.processors.utils - # samples: 14899, # encounters: 150\n",
      "2022-04-29 10:57:17,298 \u001b[1;37mINFO\u001b[0m cyclops.processors.utils - # columns: 59, # encounters: 150\n",
      "2022-04-29 10:57:17,331 \u001b[1;37mINFO\u001b[0m cyclops.processors.utils - Remove text in parentheses and normalize lab test names...\n",
      "2022-04-29 10:57:17,333 \u001b[1;37mINFO\u001b[0m cyclops.processors.utils - # samples: 14899, # encounters: 150\n",
      "2022-04-29 10:57:17,335 \u001b[1;37mINFO\u001b[0m cyclops.processors.utils - # columns: 59, # encounters: 150\n",
      "2022-04-29 10:57:17,370 \u001b[1;37mINFO\u001b[0m cyclops.processors.utils - Drop unsupported events...\n",
      "2022-04-29 10:57:17,372 \u001b[1;37mINFO\u001b[0m cyclops.processors.utils - # samples: 13304, # encounters: 150\n",
      "2022-04-29 10:57:17,374 \u001b[1;37mINFO\u001b[0m cyclops.processors.utils - # columns: 59, # encounters: 150\n",
      "2022-04-29 10:57:17,422 \u001b[1;37mINFO\u001b[0m cyclops.processors.utils - Fixing inequalities and removing outlier values...\n",
      "2022-04-29 10:57:17,425 \u001b[1;37mINFO\u001b[0m cyclops.processors.utils - # samples: 13304, # encounters: 150\n",
      "2022-04-29 10:57:17,427 \u001b[1;37mINFO\u001b[0m cyclops.processors.utils - # columns: 59, # encounters: 150\n",
      "2022-04-29 10:57:17,467 \u001b[1;37mINFO\u001b[0m cyclops.processors.utils - Convert Positive/Negative to 1/0...\n",
      "2022-04-29 10:57:17,469 \u001b[1;37mINFO\u001b[0m cyclops.processors.utils - # samples: 13304, # encounters: 150\n",
      "2022-04-29 10:57:17,471 \u001b[1;37mINFO\u001b[0m cyclops.processors.utils - # columns: 59, # encounters: 150\n",
      "2022-04-29 10:57:17,475 \u001b[1;37mINFO\u001b[0m cyclops.processors.utils - Fill empty result string values with NaN...\n",
      "2022-04-29 10:57:17,477 \u001b[1;37mINFO\u001b[0m cyclops.processors.utils - # samples: 13304, # encounters: 150\n",
      "2022-04-29 10:57:17,479 \u001b[1;37mINFO\u001b[0m cyclops.processors.utils - # columns: 59, # encounters: 150\n",
      "2022-04-29 10:57:17,483 \u001b[1;37mINFO\u001b[0m cyclops.processors.events - Converting string result values to numeric...\n",
      "2022-04-29 10:57:17,486 \u001b[1;37mINFO\u001b[0m cyclops.processors.events - Cleaning units and converting to SI...\n",
      "2022-04-29 10:57:17,525 \u001b[1;37mINFO\u001b[0m cyclops.utils.profile - Finished executing function clean_events in 0.232613 s\n",
      "2022-04-29 10:57:17,528 \u001b[1;37mINFO\u001b[0m cyclops.processors.utils - Gathering event features...\n",
      "2022-04-29 10:57:17,530 \u001b[1;37mINFO\u001b[0m cyclops.processors.utils - # samples: 13304, # encounters: 150\n",
      "2022-04-29 10:57:17,532 \u001b[1;37mINFO\u001b[0m cyclops.processors.utils - # columns: 59, # encounters: 150\n",
      "2022-04-29 10:57:18,378 \u001b[1;37mINFO\u001b[0m cyclops.processors.utils - Filtering events within window...\n",
      "2022-04-29 10:57:18,383 \u001b[1;37mINFO\u001b[0m cyclops.processors.utils - # samples: 7262, # encounters: 150\n",
      "2022-04-29 10:57:18,385 \u001b[1;37mINFO\u001b[0m cyclops.processors.utils - # columns: 59, # encounters: 150\n",
      "100%|██████████| 150/150 [00:25<00:00,  5.80it/s]\n",
      "2022-04-29 10:57:44,303 \u001b[1;37mINFO\u001b[0m cyclops.utils.profile - Finished executing function gather_event_features in 26.774292 s\n",
      "2022-04-29 10:57:44,443 \u001b[1;33mWARNING\u001b[0m cyclops.feature_handler - Feature influenza has all NaNs, will not be added.\n",
      "2022-04-29 10:57:44,492 \u001b[1;37mINFO\u001b[0m cyclops.processors.utils - Cleaning raw event data...\n",
      "2022-04-29 10:57:44,497 \u001b[1;37mINFO\u001b[0m cyclops.processors.utils - # samples: 20244, # encounters: 150\n",
      "2022-04-29 10:57:44,499 \u001b[1;37mINFO\u001b[0m cyclops.processors.utils - # columns: 58, # encounters: 150\n",
      "2022-04-29 10:57:44,559 \u001b[1;37mINFO\u001b[0m cyclops.processors.utils - Remove text in parentheses and normalize lab test names...\n",
      "2022-04-29 10:57:44,563 \u001b[1;37mINFO\u001b[0m cyclops.processors.utils - # samples: 20244, # encounters: 150\n",
      "2022-04-29 10:57:44,565 \u001b[1;37mINFO\u001b[0m cyclops.processors.utils - # columns: 58, # encounters: 150\n",
      "2022-04-29 10:57:44,615 \u001b[1;37mINFO\u001b[0m cyclops.processors.utils - Drop unsupported events...\n",
      "2022-04-29 10:57:44,617 \u001b[1;37mINFO\u001b[0m cyclops.processors.utils - # samples: 20244, # encounters: 150\n",
      "2022-04-29 10:57:44,619 \u001b[1;37mINFO\u001b[0m cyclops.processors.utils - # columns: 58, # encounters: 150\n",
      "2022-04-29 10:57:44,689 \u001b[1;37mINFO\u001b[0m cyclops.processors.utils - Fixing inequalities and removing outlier values...\n",
      "2022-04-29 10:57:44,692 \u001b[1;37mINFO\u001b[0m cyclops.processors.utils - # samples: 20244, # encounters: 150\n",
      "2022-04-29 10:57:44,694 \u001b[1;37mINFO\u001b[0m cyclops.processors.utils - # columns: 58, # encounters: 150\n",
      "2022-04-29 10:57:44,747 \u001b[1;37mINFO\u001b[0m cyclops.processors.utils - Convert Positive/Negative to 1/0...\n",
      "2022-04-29 10:57:44,749 \u001b[1;37mINFO\u001b[0m cyclops.processors.utils - # samples: 20244, # encounters: 150\n",
      "2022-04-29 10:57:44,751 \u001b[1;37mINFO\u001b[0m cyclops.processors.utils - # columns: 58, # encounters: 150\n",
      "2022-04-29 10:57:44,756 \u001b[1;37mINFO\u001b[0m cyclops.processors.utils - Fill empty result string values with NaN...\n",
      "2022-04-29 10:57:44,758 \u001b[1;37mINFO\u001b[0m cyclops.processors.utils - # samples: 20244, # encounters: 150\n",
      "2022-04-29 10:57:44,760 \u001b[1;37mINFO\u001b[0m cyclops.processors.utils - # columns: 58, # encounters: 150\n",
      "2022-04-29 10:57:44,764 \u001b[1;37mINFO\u001b[0m cyclops.processors.events - Converting string result values to numeric...\n",
      "2022-04-29 10:57:44,768 \u001b[1;37mINFO\u001b[0m cyclops.utils.profile - Finished executing function clean_events in 0.275266 s\n",
      "2022-04-29 10:57:44,769 \u001b[1;37mINFO\u001b[0m cyclops.processors.utils - Gathering event features...\n",
      "2022-04-29 10:57:44,772 \u001b[1;37mINFO\u001b[0m cyclops.processors.utils - # samples: 20244, # encounters: 150\n",
      "2022-04-29 10:57:44,774 \u001b[1;37mINFO\u001b[0m cyclops.processors.utils - # columns: 58, # encounters: 150\n",
      "2022-04-29 10:57:46,541 \u001b[1;37mINFO\u001b[0m cyclops.processors.utils - Filtering events within window...\n",
      "2022-04-29 10:57:46,548 \u001b[1;37mINFO\u001b[0m cyclops.processors.utils - # samples: 5738, # encounters: 150\n",
      "2022-04-29 10:57:46,550 \u001b[1;37mINFO\u001b[0m cyclops.processors.utils - # columns: 58, # encounters: 150\n",
      "100%|██████████| 150/150 [00:17<00:00,  8.69it/s]\n",
      "2022-04-29 10:58:03,836 \u001b[1;37mINFO\u001b[0m cyclops.utils.profile - Finished executing function gather_event_features in 19.065501 s\n",
      "2022-04-29 10:58:03,943 \u001b[1;33mWARNING\u001b[0m cyclops.feature_handler - Feature cam has all NaNs, will not be added.\n",
      "2022-04-29 10:58:03,956 \u001b[1;33mWARNING\u001b[0m cyclops.feature_handler - Feature oxygen_delivery has all NaNs, will not be added.\n",
      "2022-04-29 10:58:04,272 \u001b[1;37mINFO\u001b[0m cyclops.utils.profile - Finished executing function impute_features in 0.042669 s\n",
      "2022-04-29 10:58:04,417 \u001b[1;37mINFO\u001b[0m cyclops.utils.profile - Finished executing function impute_features in 0.142137 s\n"
     ]
    }
   ],
   "source": [
    "diagnoses_data = pd.read_parquet(\"diagnoses.gzip\")\n",
    "vitals_data = pd.read_parquet(\"vitals.gzip\")\n",
    "labs_data = pd.read_parquet(\"lab.gzip\")\n",
    "interventions_data = pd.read_parquet(\"intervention.gzip\")\n",
    "\n",
    "static_diagnoses_data = gather_columns(\n",
    "    diagnoses_data,\n",
    "    [ENCOUNTER_ID, AGE, SEX, DIAGNOSIS_CODE, HOSPITAL_ID, ADMIT_TIMESTAMP],\n",
    ")\n",
    "feature_handler = featurize(\n",
    "    static_data=[static_diagnoses_data],\n",
    "    temporal_data=[labs_data, vitals_data],\n",
    "    aggregator=Aggregator(bucket_size=1, window=48),\n",
    "    static_imputer=Imputer(strategy=\"median\"),\n",
    "    temporal_imputer=Imputer(strategy=\"median\"),\n",
    "    reference_cols=[HOSPITAL_ID, ADMIT_TIMESTAMP],\n",
    ")"
   ]
  },
  {
   "cell_type": "markdown",
   "id": "according-differential",
   "metadata": {},
   "source": [
    "## Inspect feature handler, plot example temporal features and save them."
   ]
  },
  {
   "cell_type": "code",
   "execution_count": 5,
   "id": "compatible-practitioner",
   "metadata": {},
   "outputs": [
    {
     "name": "stdout",
     "output_type": "stream",
     "text": [
      "{'static': ['age'], 'temporal': ['sodium', 'urine sodium', 'urine specific gravity', 'bicarbonate', 'blood urea nitrogen', 'vitamin b12', 'white blood cell count', 'high sensitivity troponin', 'vitamin d', 'hba1c', 'lymphocyte', 'neutrophils', 'albumin', 'aptt', 'bilirubin', 'calcium', 'creatinine', 'calcium, ionized', 'esr', 'serum alcohol', 'ferritin', 'fibrinogen', 'glucose fasting', 'glucose point of care', 'glucose random', 'hematocrit', 'hemoglobin', 'crp', 'inr', 'ketone', 'lactate arterial', 'lactate venous', 'mean cell volume', 'arterial paco2', 'venous pco2', 'arterial ph', 'venous ph', 'platelet count', 'arterial pao2', 'potassium', 'pt', 'oxygen saturation', 'heart rate', 'respiratory rate', 'systolic bp', 'temperature', 'diastolic bp', 'oxygen flow rate', 'weight', 'fio2']}\n",
      "{'static': ['M00_M99', 'D50_D89', 'F01_F99', 'K00_K95', 'S00_T88', 'V00_Y99', 'H60_H95', 'A00_B99', 'R00_R99', 'G00_G99', 'Z00_Z99', 'I00_I99', 'C00_D49', 'J00_J99', 'N00_N99', 'L00_L99', 'E00_E89', 'H00_H59', 'Q00_Q99', 'sex'], 'temporal': []}\n"
     ]
    },
    {
     "data": {
      "application/vnd.plotly.v1+json": {
       "config": {
        "plotlyServerURL": "https://plot.ly"
       },
       "data": [
        {
         "hovertemplate": "features=oxygen saturation<br>timestep=%{x}<br>value=%{y}<extra></extra>",
         "legendgroup": "oxygen saturation",
         "line": {
          "color": "#636efa",
          "dash": "solid"
         },
         "marker": {
          "symbol": "circle"
         },
         "mode": "lines+markers",
         "name": "oxygen saturation",
         "orientation": "v",
         "showlegend": true,
         "type": "scatter",
         "x": [
          0,
          1,
          2,
          3,
          4,
          5,
          6,
          7,
          8,
          9,
          10,
          11,
          12,
          13,
          14,
          15,
          16,
          17,
          18,
          19,
          20,
          21,
          22,
          23,
          24,
          25,
          26,
          27,
          28,
          29,
          30,
          31,
          32,
          33,
          34,
          35,
          36,
          37,
          38,
          39,
          40,
          41,
          42
         ],
         "xaxis": "x",
         "y": [
          100,
          97,
          97,
          97,
          97,
          97,
          97,
          97,
          97,
          95,
          100,
          97,
          97,
          97,
          97,
          97,
          97,
          98,
          97,
          97,
          97,
          97,
          98,
          97,
          97,
          97,
          97,
          97,
          97,
          97,
          98,
          97,
          97,
          97,
          97,
          97,
          97,
          97,
          97,
          97,
          97,
          97,
          96
         ],
         "yaxis": "y"
        }
       ],
       "layout": {
        "annotations": [
         {
          "showarrow": false,
          "text": "features=oxygen saturation",
          "x": 0.5,
          "xanchor": "center",
          "xref": "paper",
          "y": 1,
          "yanchor": "bottom",
          "yref": "paper"
         },
         {
          "showarrow": false,
          "text": "ER",
          "x": 0,
          "xanchor": "left",
          "xref": "x",
          "y": 1,
          "yanchor": "top",
          "yref": "y domain"
         }
        ],
        "autosize": false,
        "height": 240,
        "legend": {
         "title": {
          "text": "features"
         },
         "tracegroupgap": 0
        },
        "margin": {
         "t": 60
        },
        "shapes": [
         {
          "fillcolor": "green",
          "line": {
           "width": 0
          },
          "opacity": 0.25,
          "type": "rect",
          "x0": 0,
          "x1": 6,
          "xref": "x",
          "y0": 0,
          "y1": 1,
          "yref": "y domain"
         }
        ],
        "template": {
         "data": {
          "bar": [
           {
            "error_x": {
             "color": "#2a3f5f"
            },
            "error_y": {
             "color": "#2a3f5f"
            },
            "marker": {
             "line": {
              "color": "#E5ECF6",
              "width": 0.5
             },
             "pattern": {
              "fillmode": "overlay",
              "size": 10,
              "solidity": 0.2
             }
            },
            "type": "bar"
           }
          ],
          "barpolar": [
           {
            "marker": {
             "line": {
              "color": "#E5ECF6",
              "width": 0.5
             },
             "pattern": {
              "fillmode": "overlay",
              "size": 10,
              "solidity": 0.2
             }
            },
            "type": "barpolar"
           }
          ],
          "carpet": [
           {
            "aaxis": {
             "endlinecolor": "#2a3f5f",
             "gridcolor": "white",
             "linecolor": "white",
             "minorgridcolor": "white",
             "startlinecolor": "#2a3f5f"
            },
            "baxis": {
             "endlinecolor": "#2a3f5f",
             "gridcolor": "white",
             "linecolor": "white",
             "minorgridcolor": "white",
             "startlinecolor": "#2a3f5f"
            },
            "type": "carpet"
           }
          ],
          "choropleth": [
           {
            "colorbar": {
             "outlinewidth": 0,
             "ticks": ""
            },
            "type": "choropleth"
           }
          ],
          "contour": [
           {
            "colorbar": {
             "outlinewidth": 0,
             "ticks": ""
            },
            "colorscale": [
             [
              0,
              "#0d0887"
             ],
             [
              0.1111111111111111,
              "#46039f"
             ],
             [
              0.2222222222222222,
              "#7201a8"
             ],
             [
              0.3333333333333333,
              "#9c179e"
             ],
             [
              0.4444444444444444,
              "#bd3786"
             ],
             [
              0.5555555555555556,
              "#d8576b"
             ],
             [
              0.6666666666666666,
              "#ed7953"
             ],
             [
              0.7777777777777778,
              "#fb9f3a"
             ],
             [
              0.8888888888888888,
              "#fdca26"
             ],
             [
              1,
              "#f0f921"
             ]
            ],
            "type": "contour"
           }
          ],
          "contourcarpet": [
           {
            "colorbar": {
             "outlinewidth": 0,
             "ticks": ""
            },
            "type": "contourcarpet"
           }
          ],
          "heatmap": [
           {
            "colorbar": {
             "outlinewidth": 0,
             "ticks": ""
            },
            "colorscale": [
             [
              0,
              "#0d0887"
             ],
             [
              0.1111111111111111,
              "#46039f"
             ],
             [
              0.2222222222222222,
              "#7201a8"
             ],
             [
              0.3333333333333333,
              "#9c179e"
             ],
             [
              0.4444444444444444,
              "#bd3786"
             ],
             [
              0.5555555555555556,
              "#d8576b"
             ],
             [
              0.6666666666666666,
              "#ed7953"
             ],
             [
              0.7777777777777778,
              "#fb9f3a"
             ],
             [
              0.8888888888888888,
              "#fdca26"
             ],
             [
              1,
              "#f0f921"
             ]
            ],
            "type": "heatmap"
           }
          ],
          "heatmapgl": [
           {
            "colorbar": {
             "outlinewidth": 0,
             "ticks": ""
            },
            "colorscale": [
             [
              0,
              "#0d0887"
             ],
             [
              0.1111111111111111,
              "#46039f"
             ],
             [
              0.2222222222222222,
              "#7201a8"
             ],
             [
              0.3333333333333333,
              "#9c179e"
             ],
             [
              0.4444444444444444,
              "#bd3786"
             ],
             [
              0.5555555555555556,
              "#d8576b"
             ],
             [
              0.6666666666666666,
              "#ed7953"
             ],
             [
              0.7777777777777778,
              "#fb9f3a"
             ],
             [
              0.8888888888888888,
              "#fdca26"
             ],
             [
              1,
              "#f0f921"
             ]
            ],
            "type": "heatmapgl"
           }
          ],
          "histogram": [
           {
            "marker": {
             "pattern": {
              "fillmode": "overlay",
              "size": 10,
              "solidity": 0.2
             }
            },
            "type": "histogram"
           }
          ],
          "histogram2d": [
           {
            "colorbar": {
             "outlinewidth": 0,
             "ticks": ""
            },
            "colorscale": [
             [
              0,
              "#0d0887"
             ],
             [
              0.1111111111111111,
              "#46039f"
             ],
             [
              0.2222222222222222,
              "#7201a8"
             ],
             [
              0.3333333333333333,
              "#9c179e"
             ],
             [
              0.4444444444444444,
              "#bd3786"
             ],
             [
              0.5555555555555556,
              "#d8576b"
             ],
             [
              0.6666666666666666,
              "#ed7953"
             ],
             [
              0.7777777777777778,
              "#fb9f3a"
             ],
             [
              0.8888888888888888,
              "#fdca26"
             ],
             [
              1,
              "#f0f921"
             ]
            ],
            "type": "histogram2d"
           }
          ],
          "histogram2dcontour": [
           {
            "colorbar": {
             "outlinewidth": 0,
             "ticks": ""
            },
            "colorscale": [
             [
              0,
              "#0d0887"
             ],
             [
              0.1111111111111111,
              "#46039f"
             ],
             [
              0.2222222222222222,
              "#7201a8"
             ],
             [
              0.3333333333333333,
              "#9c179e"
             ],
             [
              0.4444444444444444,
              "#bd3786"
             ],
             [
              0.5555555555555556,
              "#d8576b"
             ],
             [
              0.6666666666666666,
              "#ed7953"
             ],
             [
              0.7777777777777778,
              "#fb9f3a"
             ],
             [
              0.8888888888888888,
              "#fdca26"
             ],
             [
              1,
              "#f0f921"
             ]
            ],
            "type": "histogram2dcontour"
           }
          ],
          "mesh3d": [
           {
            "colorbar": {
             "outlinewidth": 0,
             "ticks": ""
            },
            "type": "mesh3d"
           }
          ],
          "parcoords": [
           {
            "line": {
             "colorbar": {
              "outlinewidth": 0,
              "ticks": ""
             }
            },
            "type": "parcoords"
           }
          ],
          "pie": [
           {
            "automargin": true,
            "type": "pie"
           }
          ],
          "scatter": [
           {
            "fillpattern": {
             "fillmode": "overlay",
             "size": 10,
             "solidity": 0.2
            },
            "type": "scatter"
           }
          ],
          "scatter3d": [
           {
            "line": {
             "colorbar": {
              "outlinewidth": 0,
              "ticks": ""
             }
            },
            "marker": {
             "colorbar": {
              "outlinewidth": 0,
              "ticks": ""
             }
            },
            "type": "scatter3d"
           }
          ],
          "scattercarpet": [
           {
            "marker": {
             "colorbar": {
              "outlinewidth": 0,
              "ticks": ""
             }
            },
            "type": "scattercarpet"
           }
          ],
          "scattergeo": [
           {
            "marker": {
             "colorbar": {
              "outlinewidth": 0,
              "ticks": ""
             }
            },
            "type": "scattergeo"
           }
          ],
          "scattergl": [
           {
            "marker": {
             "colorbar": {
              "outlinewidth": 0,
              "ticks": ""
             }
            },
            "type": "scattergl"
           }
          ],
          "scattermapbox": [
           {
            "marker": {
             "colorbar": {
              "outlinewidth": 0,
              "ticks": ""
             }
            },
            "type": "scattermapbox"
           }
          ],
          "scatterpolar": [
           {
            "marker": {
             "colorbar": {
              "outlinewidth": 0,
              "ticks": ""
             }
            },
            "type": "scatterpolar"
           }
          ],
          "scatterpolargl": [
           {
            "marker": {
             "colorbar": {
              "outlinewidth": 0,
              "ticks": ""
             }
            },
            "type": "scatterpolargl"
           }
          ],
          "scatterternary": [
           {
            "marker": {
             "colorbar": {
              "outlinewidth": 0,
              "ticks": ""
             }
            },
            "type": "scatterternary"
           }
          ],
          "surface": [
           {
            "colorbar": {
             "outlinewidth": 0,
             "ticks": ""
            },
            "colorscale": [
             [
              0,
              "#0d0887"
             ],
             [
              0.1111111111111111,
              "#46039f"
             ],
             [
              0.2222222222222222,
              "#7201a8"
             ],
             [
              0.3333333333333333,
              "#9c179e"
             ],
             [
              0.4444444444444444,
              "#bd3786"
             ],
             [
              0.5555555555555556,
              "#d8576b"
             ],
             [
              0.6666666666666666,
              "#ed7953"
             ],
             [
              0.7777777777777778,
              "#fb9f3a"
             ],
             [
              0.8888888888888888,
              "#fdca26"
             ],
             [
              1,
              "#f0f921"
             ]
            ],
            "type": "surface"
           }
          ],
          "table": [
           {
            "cells": {
             "fill": {
              "color": "#EBF0F8"
             },
             "line": {
              "color": "white"
             }
            },
            "header": {
             "fill": {
              "color": "#C8D4E3"
             },
             "line": {
              "color": "white"
             }
            },
            "type": "table"
           }
          ]
         },
         "layout": {
          "annotationdefaults": {
           "arrowcolor": "#2a3f5f",
           "arrowhead": 0,
           "arrowwidth": 1
          },
          "autotypenumbers": "strict",
          "coloraxis": {
           "colorbar": {
            "outlinewidth": 0,
            "ticks": ""
           }
          },
          "colorscale": {
           "diverging": [
            [
             0,
             "#8e0152"
            ],
            [
             0.1,
             "#c51b7d"
            ],
            [
             0.2,
             "#de77ae"
            ],
            [
             0.3,
             "#f1b6da"
            ],
            [
             0.4,
             "#fde0ef"
            ],
            [
             0.5,
             "#f7f7f7"
            ],
            [
             0.6,
             "#e6f5d0"
            ],
            [
             0.7,
             "#b8e186"
            ],
            [
             0.8,
             "#7fbc41"
            ],
            [
             0.9,
             "#4d9221"
            ],
            [
             1,
             "#276419"
            ]
           ],
           "sequential": [
            [
             0,
             "#0d0887"
            ],
            [
             0.1111111111111111,
             "#46039f"
            ],
            [
             0.2222222222222222,
             "#7201a8"
            ],
            [
             0.3333333333333333,
             "#9c179e"
            ],
            [
             0.4444444444444444,
             "#bd3786"
            ],
            [
             0.5555555555555556,
             "#d8576b"
            ],
            [
             0.6666666666666666,
             "#ed7953"
            ],
            [
             0.7777777777777778,
             "#fb9f3a"
            ],
            [
             0.8888888888888888,
             "#fdca26"
            ],
            [
             1,
             "#f0f921"
            ]
           ],
           "sequentialminus": [
            [
             0,
             "#0d0887"
            ],
            [
             0.1111111111111111,
             "#46039f"
            ],
            [
             0.2222222222222222,
             "#7201a8"
            ],
            [
             0.3333333333333333,
             "#9c179e"
            ],
            [
             0.4444444444444444,
             "#bd3786"
            ],
            [
             0.5555555555555556,
             "#d8576b"
            ],
            [
             0.6666666666666666,
             "#ed7953"
            ],
            [
             0.7777777777777778,
             "#fb9f3a"
            ],
            [
             0.8888888888888888,
             "#fdca26"
            ],
            [
             1,
             "#f0f921"
            ]
           ]
          },
          "colorway": [
           "#636efa",
           "#EF553B",
           "#00cc96",
           "#ab63fa",
           "#FFA15A",
           "#19d3f3",
           "#FF6692",
           "#B6E880",
           "#FF97FF",
           "#FECB52"
          ],
          "font": {
           "color": "#2a3f5f"
          },
          "geo": {
           "bgcolor": "white",
           "lakecolor": "white",
           "landcolor": "#E5ECF6",
           "showlakes": true,
           "showland": true,
           "subunitcolor": "white"
          },
          "hoverlabel": {
           "align": "left"
          },
          "hovermode": "closest",
          "mapbox": {
           "style": "light"
          },
          "paper_bgcolor": "white",
          "plot_bgcolor": "#E5ECF6",
          "polar": {
           "angularaxis": {
            "gridcolor": "white",
            "linecolor": "white",
            "ticks": ""
           },
           "bgcolor": "#E5ECF6",
           "radialaxis": {
            "gridcolor": "white",
            "linecolor": "white",
            "ticks": ""
           }
          },
          "scene": {
           "xaxis": {
            "backgroundcolor": "#E5ECF6",
            "gridcolor": "white",
            "gridwidth": 2,
            "linecolor": "white",
            "showbackground": true,
            "ticks": "",
            "zerolinecolor": "white"
           },
           "yaxis": {
            "backgroundcolor": "#E5ECF6",
            "gridcolor": "white",
            "gridwidth": 2,
            "linecolor": "white",
            "showbackground": true,
            "ticks": "",
            "zerolinecolor": "white"
           },
           "zaxis": {
            "backgroundcolor": "#E5ECF6",
            "gridcolor": "white",
            "gridwidth": 2,
            "linecolor": "white",
            "showbackground": true,
            "ticks": "",
            "zerolinecolor": "white"
           }
          },
          "shapedefaults": {
           "line": {
            "color": "#2a3f5f"
           }
          },
          "ternary": {
           "aaxis": {
            "gridcolor": "white",
            "linecolor": "white",
            "ticks": ""
           },
           "baxis": {
            "gridcolor": "white",
            "linecolor": "white",
            "ticks": ""
           },
           "bgcolor": "#E5ECF6",
           "caxis": {
            "gridcolor": "white",
            "linecolor": "white",
            "ticks": ""
           }
          },
          "title": {
           "x": 0.05
          },
          "xaxis": {
           "automargin": true,
           "gridcolor": "white",
           "linecolor": "white",
           "ticks": "",
           "title": {
            "standoff": 15
           },
           "zerolinecolor": "white",
           "zerolinewidth": 2
          },
          "yaxis": {
           "automargin": true,
           "gridcolor": "white",
           "linecolor": "white",
           "ticks": "",
           "title": {
            "standoff": 15
           },
           "zerolinecolor": "white",
           "zerolinewidth": 2
          }
         }
        },
        "title": {
         "text": "Temporal Feature Visualization"
        },
        "width": 1000,
        "xaxis": {
         "anchor": "y",
         "domain": [
          0,
          1
         ],
         "title": {
          "text": "timestep"
         }
        },
        "yaxis": {
         "anchor": "x",
         "domain": [
          0,
          1
         ],
         "title": {
          "text": "value"
         }
        }
       }
      },
      "text/html": [
       "<div>                            <div id=\"86151e75-74f9-4bca-83cd-25a66f8ee9c5\" class=\"plotly-graph-div\" style=\"height:240px; width:1000px;\"></div>            <script type=\"text/javascript\">                require([\"plotly\"], function(Plotly) {                    window.PLOTLYENV=window.PLOTLYENV || {};                                    if (document.getElementById(\"86151e75-74f9-4bca-83cd-25a66f8ee9c5\")) {                    Plotly.newPlot(                        \"86151e75-74f9-4bca-83cd-25a66f8ee9c5\",                        [{\"hovertemplate\":\"features=oxygen saturation<br>timestep=%{x}<br>value=%{y}<extra></extra>\",\"legendgroup\":\"oxygen saturation\",\"line\":{\"color\":\"#636efa\",\"dash\":\"solid\"},\"marker\":{\"symbol\":\"circle\"},\"mode\":\"lines+markers\",\"name\":\"oxygen saturation\",\"orientation\":\"v\",\"showlegend\":true,\"x\":[0,1,2,3,4,5,6,7,8,9,10,11,12,13,14,15,16,17,18,19,20,21,22,23,24,25,26,27,28,29,30,31,32,33,34,35,36,37,38,39,40,41,42],\"xaxis\":\"x\",\"y\":[100.0,97.0,97.0,97.0,97.0,97.0,97.0,97.0,97.0,95.0,100.0,97.0,97.0,97.0,97.0,97.0,97.0,98.0,97.0,97.0,97.0,97.0,98.0,97.0,97.0,97.0,97.0,97.0,97.0,97.0,98.0,97.0,97.0,97.0,97.0,97.0,97.0,97.0,97.0,97.0,97.0,97.0,96.0],\"yaxis\":\"y\",\"type\":\"scatter\"}],                        {\"template\":{\"data\":{\"histogram2dcontour\":[{\"type\":\"histogram2dcontour\",\"colorbar\":{\"outlinewidth\":0,\"ticks\":\"\"},\"colorscale\":[[0.0,\"#0d0887\"],[0.1111111111111111,\"#46039f\"],[0.2222222222222222,\"#7201a8\"],[0.3333333333333333,\"#9c179e\"],[0.4444444444444444,\"#bd3786\"],[0.5555555555555556,\"#d8576b\"],[0.6666666666666666,\"#ed7953\"],[0.7777777777777778,\"#fb9f3a\"],[0.8888888888888888,\"#fdca26\"],[1.0,\"#f0f921\"]]}],\"choropleth\":[{\"type\":\"choropleth\",\"colorbar\":{\"outlinewidth\":0,\"ticks\":\"\"}}],\"histogram2d\":[{\"type\":\"histogram2d\",\"colorbar\":{\"outlinewidth\":0,\"ticks\":\"\"},\"colorscale\":[[0.0,\"#0d0887\"],[0.1111111111111111,\"#46039f\"],[0.2222222222222222,\"#7201a8\"],[0.3333333333333333,\"#9c179e\"],[0.4444444444444444,\"#bd3786\"],[0.5555555555555556,\"#d8576b\"],[0.6666666666666666,\"#ed7953\"],[0.7777777777777778,\"#fb9f3a\"],[0.8888888888888888,\"#fdca26\"],[1.0,\"#f0f921\"]]}],\"heatmap\":[{\"type\":\"heatmap\",\"colorbar\":{\"outlinewidth\":0,\"ticks\":\"\"},\"colorscale\":[[0.0,\"#0d0887\"],[0.1111111111111111,\"#46039f\"],[0.2222222222222222,\"#7201a8\"],[0.3333333333333333,\"#9c179e\"],[0.4444444444444444,\"#bd3786\"],[0.5555555555555556,\"#d8576b\"],[0.6666666666666666,\"#ed7953\"],[0.7777777777777778,\"#fb9f3a\"],[0.8888888888888888,\"#fdca26\"],[1.0,\"#f0f921\"]]}],\"heatmapgl\":[{\"type\":\"heatmapgl\",\"colorbar\":{\"outlinewidth\":0,\"ticks\":\"\"},\"colorscale\":[[0.0,\"#0d0887\"],[0.1111111111111111,\"#46039f\"],[0.2222222222222222,\"#7201a8\"],[0.3333333333333333,\"#9c179e\"],[0.4444444444444444,\"#bd3786\"],[0.5555555555555556,\"#d8576b\"],[0.6666666666666666,\"#ed7953\"],[0.7777777777777778,\"#fb9f3a\"],[0.8888888888888888,\"#fdca26\"],[1.0,\"#f0f921\"]]}],\"contourcarpet\":[{\"type\":\"contourcarpet\",\"colorbar\":{\"outlinewidth\":0,\"ticks\":\"\"}}],\"contour\":[{\"type\":\"contour\",\"colorbar\":{\"outlinewidth\":0,\"ticks\":\"\"},\"colorscale\":[[0.0,\"#0d0887\"],[0.1111111111111111,\"#46039f\"],[0.2222222222222222,\"#7201a8\"],[0.3333333333333333,\"#9c179e\"],[0.4444444444444444,\"#bd3786\"],[0.5555555555555556,\"#d8576b\"],[0.6666666666666666,\"#ed7953\"],[0.7777777777777778,\"#fb9f3a\"],[0.8888888888888888,\"#fdca26\"],[1.0,\"#f0f921\"]]}],\"surface\":[{\"type\":\"surface\",\"colorbar\":{\"outlinewidth\":0,\"ticks\":\"\"},\"colorscale\":[[0.0,\"#0d0887\"],[0.1111111111111111,\"#46039f\"],[0.2222222222222222,\"#7201a8\"],[0.3333333333333333,\"#9c179e\"],[0.4444444444444444,\"#bd3786\"],[0.5555555555555556,\"#d8576b\"],[0.6666666666666666,\"#ed7953\"],[0.7777777777777778,\"#fb9f3a\"],[0.8888888888888888,\"#fdca26\"],[1.0,\"#f0f921\"]]}],\"mesh3d\":[{\"type\":\"mesh3d\",\"colorbar\":{\"outlinewidth\":0,\"ticks\":\"\"}}],\"scatter\":[{\"fillpattern\":{\"fillmode\":\"overlay\",\"size\":10,\"solidity\":0.2},\"type\":\"scatter\"}],\"parcoords\":[{\"type\":\"parcoords\",\"line\":{\"colorbar\":{\"outlinewidth\":0,\"ticks\":\"\"}}}],\"scatterpolargl\":[{\"type\":\"scatterpolargl\",\"marker\":{\"colorbar\":{\"outlinewidth\":0,\"ticks\":\"\"}}}],\"bar\":[{\"error_x\":{\"color\":\"#2a3f5f\"},\"error_y\":{\"color\":\"#2a3f5f\"},\"marker\":{\"line\":{\"color\":\"#E5ECF6\",\"width\":0.5},\"pattern\":{\"fillmode\":\"overlay\",\"size\":10,\"solidity\":0.2}},\"type\":\"bar\"}],\"scattergeo\":[{\"type\":\"scattergeo\",\"marker\":{\"colorbar\":{\"outlinewidth\":0,\"ticks\":\"\"}}}],\"scatterpolar\":[{\"type\":\"scatterpolar\",\"marker\":{\"colorbar\":{\"outlinewidth\":0,\"ticks\":\"\"}}}],\"histogram\":[{\"marker\":{\"pattern\":{\"fillmode\":\"overlay\",\"size\":10,\"solidity\":0.2}},\"type\":\"histogram\"}],\"scattergl\":[{\"type\":\"scattergl\",\"marker\":{\"colorbar\":{\"outlinewidth\":0,\"ticks\":\"\"}}}],\"scatter3d\":[{\"type\":\"scatter3d\",\"line\":{\"colorbar\":{\"outlinewidth\":0,\"ticks\":\"\"}},\"marker\":{\"colorbar\":{\"outlinewidth\":0,\"ticks\":\"\"}}}],\"scattermapbox\":[{\"type\":\"scattermapbox\",\"marker\":{\"colorbar\":{\"outlinewidth\":0,\"ticks\":\"\"}}}],\"scatterternary\":[{\"type\":\"scatterternary\",\"marker\":{\"colorbar\":{\"outlinewidth\":0,\"ticks\":\"\"}}}],\"scattercarpet\":[{\"type\":\"scattercarpet\",\"marker\":{\"colorbar\":{\"outlinewidth\":0,\"ticks\":\"\"}}}],\"carpet\":[{\"aaxis\":{\"endlinecolor\":\"#2a3f5f\",\"gridcolor\":\"white\",\"linecolor\":\"white\",\"minorgridcolor\":\"white\",\"startlinecolor\":\"#2a3f5f\"},\"baxis\":{\"endlinecolor\":\"#2a3f5f\",\"gridcolor\":\"white\",\"linecolor\":\"white\",\"minorgridcolor\":\"white\",\"startlinecolor\":\"#2a3f5f\"},\"type\":\"carpet\"}],\"table\":[{\"cells\":{\"fill\":{\"color\":\"#EBF0F8\"},\"line\":{\"color\":\"white\"}},\"header\":{\"fill\":{\"color\":\"#C8D4E3\"},\"line\":{\"color\":\"white\"}},\"type\":\"table\"}],\"barpolar\":[{\"marker\":{\"line\":{\"color\":\"#E5ECF6\",\"width\":0.5},\"pattern\":{\"fillmode\":\"overlay\",\"size\":10,\"solidity\":0.2}},\"type\":\"barpolar\"}],\"pie\":[{\"automargin\":true,\"type\":\"pie\"}]},\"layout\":{\"autotypenumbers\":\"strict\",\"colorway\":[\"#636efa\",\"#EF553B\",\"#00cc96\",\"#ab63fa\",\"#FFA15A\",\"#19d3f3\",\"#FF6692\",\"#B6E880\",\"#FF97FF\",\"#FECB52\"],\"font\":{\"color\":\"#2a3f5f\"},\"hovermode\":\"closest\",\"hoverlabel\":{\"align\":\"left\"},\"paper_bgcolor\":\"white\",\"plot_bgcolor\":\"#E5ECF6\",\"polar\":{\"bgcolor\":\"#E5ECF6\",\"angularaxis\":{\"gridcolor\":\"white\",\"linecolor\":\"white\",\"ticks\":\"\"},\"radialaxis\":{\"gridcolor\":\"white\",\"linecolor\":\"white\",\"ticks\":\"\"}},\"ternary\":{\"bgcolor\":\"#E5ECF6\",\"aaxis\":{\"gridcolor\":\"white\",\"linecolor\":\"white\",\"ticks\":\"\"},\"baxis\":{\"gridcolor\":\"white\",\"linecolor\":\"white\",\"ticks\":\"\"},\"caxis\":{\"gridcolor\":\"white\",\"linecolor\":\"white\",\"ticks\":\"\"}},\"coloraxis\":{\"colorbar\":{\"outlinewidth\":0,\"ticks\":\"\"}},\"colorscale\":{\"sequential\":[[0.0,\"#0d0887\"],[0.1111111111111111,\"#46039f\"],[0.2222222222222222,\"#7201a8\"],[0.3333333333333333,\"#9c179e\"],[0.4444444444444444,\"#bd3786\"],[0.5555555555555556,\"#d8576b\"],[0.6666666666666666,\"#ed7953\"],[0.7777777777777778,\"#fb9f3a\"],[0.8888888888888888,\"#fdca26\"],[1.0,\"#f0f921\"]],\"sequentialminus\":[[0.0,\"#0d0887\"],[0.1111111111111111,\"#46039f\"],[0.2222222222222222,\"#7201a8\"],[0.3333333333333333,\"#9c179e\"],[0.4444444444444444,\"#bd3786\"],[0.5555555555555556,\"#d8576b\"],[0.6666666666666666,\"#ed7953\"],[0.7777777777777778,\"#fb9f3a\"],[0.8888888888888888,\"#fdca26\"],[1.0,\"#f0f921\"]],\"diverging\":[[0,\"#8e0152\"],[0.1,\"#c51b7d\"],[0.2,\"#de77ae\"],[0.3,\"#f1b6da\"],[0.4,\"#fde0ef\"],[0.5,\"#f7f7f7\"],[0.6,\"#e6f5d0\"],[0.7,\"#b8e186\"],[0.8,\"#7fbc41\"],[0.9,\"#4d9221\"],[1,\"#276419\"]]},\"xaxis\":{\"gridcolor\":\"white\",\"linecolor\":\"white\",\"ticks\":\"\",\"title\":{\"standoff\":15},\"zerolinecolor\":\"white\",\"automargin\":true,\"zerolinewidth\":2},\"yaxis\":{\"gridcolor\":\"white\",\"linecolor\":\"white\",\"ticks\":\"\",\"title\":{\"standoff\":15},\"zerolinecolor\":\"white\",\"automargin\":true,\"zerolinewidth\":2},\"scene\":{\"xaxis\":{\"backgroundcolor\":\"#E5ECF6\",\"gridcolor\":\"white\",\"linecolor\":\"white\",\"showbackground\":true,\"ticks\":\"\",\"zerolinecolor\":\"white\",\"gridwidth\":2},\"yaxis\":{\"backgroundcolor\":\"#E5ECF6\",\"gridcolor\":\"white\",\"linecolor\":\"white\",\"showbackground\":true,\"ticks\":\"\",\"zerolinecolor\":\"white\",\"gridwidth\":2},\"zaxis\":{\"backgroundcolor\":\"#E5ECF6\",\"gridcolor\":\"white\",\"linecolor\":\"white\",\"showbackground\":true,\"ticks\":\"\",\"zerolinecolor\":\"white\",\"gridwidth\":2}},\"shapedefaults\":{\"line\":{\"color\":\"#2a3f5f\"}},\"annotationdefaults\":{\"arrowcolor\":\"#2a3f5f\",\"arrowhead\":0,\"arrowwidth\":1},\"geo\":{\"bgcolor\":\"white\",\"landcolor\":\"#E5ECF6\",\"subunitcolor\":\"white\",\"showland\":true,\"showlakes\":true,\"lakecolor\":\"white\"},\"title\":{\"x\":0.05},\"mapbox\":{\"style\":\"light\"}}},\"xaxis\":{\"anchor\":\"y\",\"domain\":[0.0,1.0],\"title\":{\"text\":\"timestep\"}},\"yaxis\":{\"anchor\":\"x\",\"domain\":[0.0,1.0],\"title\":{\"text\":\"value\"}},\"annotations\":[{\"showarrow\":false,\"text\":\"features=oxygen saturation\",\"x\":0.5,\"xanchor\":\"center\",\"xref\":\"paper\",\"y\":1.0,\"yanchor\":\"bottom\",\"yref\":\"paper\"},{\"showarrow\":false,\"text\":\"ER\",\"x\":0,\"xanchor\":\"left\",\"xref\":\"x\",\"y\":1,\"yanchor\":\"top\",\"yref\":\"y domain\"}],\"legend\":{\"title\":{\"text\":\"features\"},\"tracegroupgap\":0},\"margin\":{\"t\":60},\"title\":{\"text\":\"Temporal Feature Visualization\"},\"autosize\":false,\"width\":1000,\"height\":240,\"shapes\":[{\"fillcolor\":\"green\",\"line\":{\"width\":0},\"opacity\":0.25,\"type\":\"rect\",\"x0\":0,\"x1\":6,\"xref\":\"x\",\"y0\":0,\"y1\":1,\"yref\":\"y domain\"}]},                        {\"responsive\": true}                    ).then(function(){\n",
       "                            \n",
       "var gd = document.getElementById('86151e75-74f9-4bca-83cd-25a66f8ee9c5');\n",
       "var x = new MutationObserver(function (mutations, observer) {{\n",
       "        var display = window.getComputedStyle(gd).display;\n",
       "        if (!display || display === 'none') {{\n",
       "            console.log([gd, 'removed!']);\n",
       "            Plotly.purge(gd);\n",
       "            observer.disconnect();\n",
       "        }}\n",
       "}});\n",
       "\n",
       "// Listen for the removal of the full notebook cells\n",
       "var notebookContainer = gd.closest('#notebook-container');\n",
       "if (notebookContainer) {{\n",
       "    x.observe(notebookContainer, {childList: true});\n",
       "}}\n",
       "\n",
       "// Listen for the clearing of the current output cell\n",
       "var outputEl = gd.closest('.output');\n",
       "if (outputEl) {{\n",
       "    x.observe(outputEl, {childList: true});\n",
       "}}\n",
       "\n",
       "                        })                };                });            </script>        </div>"
      ]
     },
     "metadata": {},
     "output_type": "display_data"
    },
    {
     "name": "stderr",
     "output_type": "stream",
     "text": [
      "2022-04-29 11:07:02,129 \u001b[1;37mINFO\u001b[0m cyclops.feature_handler - Saving static features to ./test_features_static.gzip\n",
      "2022-04-29 11:07:02,164 \u001b[1;37mINFO\u001b[0m cyclops.feature_handler - Saving temporal features to ./test_features_temporal.gzip\n"
     ]
    }
   ],
   "source": [
    "print(feature_handler.get_numerical_feature_names())\n",
    "print(feature_handler.get_categorical_feature_names())\n",
    "\n",
    "plot_features = [\n",
    "    \"oxygen saturation\",\n",
    "]\n",
    "\n",
    "encounter_id = 11942185\n",
    "feature_handler.plot_features(encounter_id, names=plot_features)\n",
    "feature_handler.save(\".\", \"test_features\")"
   ]
  },
  {
   "cell_type": "markdown",
   "id": "improving-restaurant",
   "metadata": {},
   "source": [
    "## Create new FeatureHandler and load features from file."
   ]
  },
  {
   "cell_type": "code",
   "execution_count": 4,
   "id": "simple-princess",
   "metadata": {},
   "outputs": [],
   "source": [
    "# feature_handler = FeatureHandler()\n",
    "# feature_handler.load(\".\", \"test_features\")"
   ]
  }
 ],
 "metadata": {
  "kernelspec": {
   "display_name": "cyclops",
   "language": "python",
   "name": "cyclops"
  },
  "language_info": {
   "codemirror_mode": {
    "name": "ipython",
    "version": 3
   },
   "file_extension": ".py",
   "mimetype": "text/x-python",
   "name": "python",
   "nbconvert_exporter": "python",
   "pygments_lexer": "ipython3",
   "version": "3.8.5"
  }
 },
 "nbformat": 4,
 "nbformat_minor": 5
}
