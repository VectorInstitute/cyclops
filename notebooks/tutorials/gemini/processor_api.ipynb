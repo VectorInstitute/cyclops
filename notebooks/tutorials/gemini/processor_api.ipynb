{
 "cells": [
  {
   "cell_type": "markdown",
   "id": "structured-extent",
   "metadata": {},
   "source": [
    "### This notebook shows examples of how to use the cyclops.processor API on GEMINI."
   ]
  },
  {
   "cell_type": "markdown",
   "id": "capable-office",
   "metadata": {},
   "source": [
    "## Get all patient encounters including ER data, with diagnoses from St. Michael's hospital from March 1 2020 to March 15 2020, with vitals and labs and interventions."
   ]
  },
  {
   "cell_type": "code",
   "execution_count": 1,
   "id": "international-relief",
   "metadata": {},
   "outputs": [
    {
     "name": "stderr",
     "output_type": "stream",
     "text": [
      "2022-04-21 13:00:20,679 \u001b[1;37mINFO\u001b[0m cyclops.processors.utils - Log file is /mnt/nfs/home/krishnanam/vector-delirium/log.log\n",
      "2022-04-21 13:00:20,997 \u001b[1;37mINFO\u001b[0m cyclops.config  - Log file is /mnt/nfs/home/krishnanam/vector-delirium/log.log\n",
      "2022-04-21 13:00:21,136 \u001b[1;37mINFO\u001b[0m cyclops.query.utils - Log file is /mnt/nfs/home/krishnanam/vector-delirium/log.log\n",
      "2022-04-21 13:00:21,143 \u001b[1;37mINFO\u001b[0m cyclops.utils.profile - Log file is /mnt/nfs/home/krishnanam/vector-delirium/log.log\n",
      "2022-04-21 13:00:21,148 \u001b[1;37mINFO\u001b[0m cyclops.orm     - Log file is /mnt/nfs/home/krishnanam/vector-delirium/log.log\n",
      "2022-04-21 13:00:21,155 \u001b[1;37mINFO\u001b[0m cyclops.query.interface - Log file is /mnt/nfs/home/krishnanam/vector-delirium/log.log\n",
      "2022-04-21 13:00:22,121 \u001b[1;37mINFO\u001b[0m cyclops.orm     - Database setup, ready to run queries!\n"
     ]
    }
   ],
   "source": [
    "from cyclops.processors.column_names import AGE, DIAGNOSIS_CODE, ENCOUNTER_ID, SEX\n",
    "from cyclops.processors.constants import SMH\n",
    "from cyclops.processors.utils import gather_columns\n",
    "from cyclops.query import gemini\n",
    "\n",
    "# patients = gemini.patients(\n",
    "#     hospitals=[SMH], from_date=\"2020-03-01\", to_date=\"2020-03-15\", include_er_data=True\n",
    "# )\n",
    "# patients_diagnoses = gemini.diagnoses(patients=patients)\n",
    "# patients_vitals = gemini.events(patients=patients, category=\"vitals\")\n",
    "# patients_labs = gemini.events(patients=patients, category=\"lab\")\n",
    "# patients_interventions = gemini.events(patients=patients, category=\"intervention\")\n",
    "\n",
    "# diagnoses_data = patients_diagnoses.run()\n",
    "# vitals_data = patients_vitals.run()\n",
    "# labs_data = patients_labs.run()\n",
    "# interventions_data = patients_interventions.run()\n",
    "\n",
    "# print(f\"{len(diagnoses_data)} diagnoses rows extracted!\")\n",
    "# print(f\"{len(vitals_data)} vitals rows extracted!\")\n",
    "# print(f\"{len(labs_data)} labs rows extracted!\")\n",
    "# print(f\"{len(interventions_data)} interventions rows extracted!\")\n",
    "\n",
    "# patients_diagnoses.save(\".\", \"diagnoses\")\n",
    "# patients_vitals.save(\".\", \"vitals\")\n",
    "# patients_labs.save(\".\", \"lab\")\n",
    "# patients_interventions.save(\".\", \"intervention\")"
   ]
  },
  {
   "cell_type": "markdown",
   "id": "healthy-duncan",
   "metadata": {},
   "source": [
    "## Process queried data into features. (Static + Temporal)."
   ]
  },
  {
   "cell_type": "code",
   "execution_count": 2,
   "id": "descending-harris",
   "metadata": {},
   "outputs": [
    {
     "name": "stderr",
     "output_type": "stream",
     "text": [
      "2022-04-21 13:00:22,189 \u001b[1;37mINFO\u001b[0m cyclops.processors.aggregate - Log file is /mnt/nfs/home/krishnanam/vector-delirium/log.log\n",
      "2022-04-21 13:00:22,196 \u001b[1;37mINFO\u001b[0m cyclops.processors.diagnoses - Log file is /mnt/nfs/home/krishnanam/vector-delirium/log.log\n",
      "2022-04-21 13:00:22,203 \u001b[1;37mINFO\u001b[0m cyclops.processors.events - Log file is /mnt/nfs/home/krishnanam/vector-delirium/log.log\n",
      "2022-04-21 13:00:23,493 \u001b[1;37mINFO\u001b[0m cyclops.processors.feature_handler - Log file is /mnt/nfs/home/krishnanam/vector-delirium/log.log\n",
      "2022-04-21 13:00:23,825 \u001b[1;37mINFO\u001b[0m cyclops.processors.utils - Cleaning raw event data...\n",
      "2022-04-21 13:00:23,829 \u001b[1;37mINFO\u001b[0m cyclops.processors.utils - # samples: 14899, # encounters: 150\n",
      "2022-04-21 13:00:23,831 \u001b[1;37mINFO\u001b[0m cyclops.processors.utils - # columns: 59, # encounters: 150\n",
      "2022-04-21 13:00:23,864 \u001b[1;37mINFO\u001b[0m cyclops.processors.utils - Drop unsupported events...\n",
      "2022-04-21 13:00:23,867 \u001b[1;37mINFO\u001b[0m cyclops.processors.utils - # samples: 14899, # encounters: 150\n",
      "2022-04-21 13:00:23,869 \u001b[1;37mINFO\u001b[0m cyclops.processors.utils - # columns: 59, # encounters: 150\n",
      "2022-04-21 13:00:23,916 \u001b[1;37mINFO\u001b[0m cyclops.processors.utils - Remove text in parentheses and normalize lab test names...\n",
      "2022-04-21 13:00:23,933 \u001b[1;37mINFO\u001b[0m cyclops.processors.utils - # samples: 14899, # encounters: 150\n",
      "2022-04-21 13:00:23,935 \u001b[1;37mINFO\u001b[0m cyclops.processors.utils - # columns: 59, # encounters: 150\n",
      "2022-04-21 13:00:24,050 \u001b[1;37mINFO\u001b[0m cyclops.processors.utils - Fixing inequalities and removing outlier values...\n",
      "2022-04-21 13:00:24,067 \u001b[1;37mINFO\u001b[0m cyclops.processors.utils - # samples: 14899, # encounters: 150\n",
      "2022-04-21 13:00:24,070 \u001b[1;37mINFO\u001b[0m cyclops.processors.utils - # columns: 59, # encounters: 150\n",
      "/mnt/nfs/home/krishnanam/vector-delirium/cyclops/processors/events.py:132: SettingWithCopyWarning: \n",
      "A value is trying to be set on a copy of a slice from a DataFrame\n",
      "\n",
      "See the caveats in the documentation: https://pandas.pydata.org/pandas-docs/stable/user_guide/indexing.html#returning-a-view-versus-a-copy\n",
      "  data[EVENT_VALUE][\n",
      "/mnt/nfs/home/krishnanam/vector-delirium/cyclops/processors/events.py:137: SettingWithCopyWarning: \n",
      "A value is trying to be set on a copy of a slice from a DataFrame\n",
      "\n",
      "See the caveats in the documentation: https://pandas.pydata.org/pandas-docs/stable/user_guide/indexing.html#returning-a-view-versus-a-copy\n",
      "  data[EVENT_VALUE][\n",
      "2022-04-21 13:00:24,759 \u001b[1;37mINFO\u001b[0m cyclops.processors.utils - Convert Positive/Negative to 1/0...\n",
      "2022-04-21 13:00:24,762 \u001b[1;37mINFO\u001b[0m cyclops.processors.utils - # samples: 14899, # encounters: 150\n",
      "2022-04-21 13:00:24,764 \u001b[1;37mINFO\u001b[0m cyclops.processors.utils - # columns: 59, # encounters: 150\n",
      "2022-04-21 13:00:24,768 \u001b[1;37mINFO\u001b[0m cyclops.processors.utils - Fill empty result string values with NaN...\n",
      "2022-04-21 13:00:24,785 \u001b[1;37mINFO\u001b[0m cyclops.processors.utils - # samples: 14899, # encounters: 150\n",
      "2022-04-21 13:00:24,787 \u001b[1;37mINFO\u001b[0m cyclops.processors.utils - # columns: 59, # encounters: 150\n",
      "2022-04-21 13:00:24,791 \u001b[1;37mINFO\u001b[0m cyclops.processors.events - Converting string result values to numeric...\n",
      "2022-04-21 13:00:24,794 \u001b[1;37mINFO\u001b[0m cyclops.processors.events - Cleaning units and converting to SI...\n",
      "2022-04-21 13:00:24,869 \u001b[1;37mINFO\u001b[0m cyclops.utils.profile - Finished executing function clean_events in 1.044199 s\n",
      "2022-04-21 13:00:24,872 \u001b[1;37mINFO\u001b[0m cyclops.processors.utils - Gathering event features...\n",
      "2022-04-21 13:00:24,875 \u001b[1;37mINFO\u001b[0m cyclops.processors.utils - # samples: 14899, # encounters: 150\n",
      "2022-04-21 13:00:24,877 \u001b[1;37mINFO\u001b[0m cyclops.processors.utils - # columns: 59, # encounters: 150\n",
      "2022-04-21 13:00:24,919 \u001b[1;37mINFO\u001b[0m cyclops.processors.utils - Filtering events within window...\n",
      "2022-04-21 13:00:24,937 \u001b[1;37mINFO\u001b[0m cyclops.processors.utils - # samples: 7049, # encounters: 148\n",
      "2022-04-21 13:00:24,939 \u001b[1;37mINFO\u001b[0m cyclops.processors.utils - # columns: 59, # encounters: 148\n",
      "100%|██████████| 148/148 [00:24<00:00,  5.96it/s]\n",
      "2022-04-21 13:00:49,822 \u001b[1;37mINFO\u001b[0m cyclops.utils.profile - Finished executing function gather_event_features in 24.949182 s\n",
      "2022-04-21 13:00:50,166 \u001b[1;33mWARNING\u001b[0m cyclops.processors.feature_handler - Feature influenza has all NaNs, will not be added.\n",
      "2022-04-21 13:00:50,247 \u001b[1;37mINFO\u001b[0m cyclops.processors.utils - Cleaning raw event data...\n",
      "2022-04-21 13:00:50,251 \u001b[1;37mINFO\u001b[0m cyclops.processors.utils - # samples: 20244, # encounters: 150\n",
      "2022-04-21 13:00:50,269 \u001b[1;37mINFO\u001b[0m cyclops.processors.utils - # columns: 58, # encounters: 150\n",
      "2022-04-21 13:00:50,286 \u001b[1;37mINFO\u001b[0m cyclops.processors.utils - Drop unsupported events...\n",
      "2022-04-21 13:00:50,305 \u001b[1;37mINFO\u001b[0m cyclops.processors.utils - # samples: 20244, # encounters: 150\n",
      "2022-04-21 13:00:50,307 \u001b[1;37mINFO\u001b[0m cyclops.processors.utils - # columns: 58, # encounters: 150\n",
      "2022-04-21 13:00:50,368 \u001b[1;37mINFO\u001b[0m cyclops.processors.utils - Remove text in parentheses and normalize lab test names...\n",
      "2022-04-21 13:00:50,371 \u001b[1;37mINFO\u001b[0m cyclops.processors.utils - # samples: 20244, # encounters: 150\n",
      "2022-04-21 13:00:50,389 \u001b[1;37mINFO\u001b[0m cyclops.processors.utils - # columns: 58, # encounters: 150\n",
      "2022-04-21 13:00:50,512 \u001b[1;37mINFO\u001b[0m cyclops.processors.utils - Fixing inequalities and removing outlier values...\n",
      "2022-04-21 13:00:50,529 \u001b[1;37mINFO\u001b[0m cyclops.processors.utils - # samples: 20244, # encounters: 150\n",
      "2022-04-21 13:00:50,531 \u001b[1;37mINFO\u001b[0m cyclops.processors.utils - # columns: 58, # encounters: 150\n",
      "/mnt/nfs/home/krishnanam/vector-delirium/cyclops/processors/events.py:132: SettingWithCopyWarning: \n",
      "A value is trying to be set on a copy of a slice from a DataFrame\n",
      "\n",
      "See the caveats in the documentation: https://pandas.pydata.org/pandas-docs/stable/user_guide/indexing.html#returning-a-view-versus-a-copy\n",
      "  data[EVENT_VALUE][\n",
      "/mnt/nfs/home/krishnanam/vector-delirium/cyclops/processors/events.py:137: SettingWithCopyWarning: \n",
      "A value is trying to be set on a copy of a slice from a DataFrame\n",
      "\n",
      "See the caveats in the documentation: https://pandas.pydata.org/pandas-docs/stable/user_guide/indexing.html#returning-a-view-versus-a-copy\n",
      "  data[EVENT_VALUE][\n",
      "2022-04-21 13:00:50,669 \u001b[1;37mINFO\u001b[0m cyclops.processors.utils - Convert Positive/Negative to 1/0...\n",
      "2022-04-21 13:00:50,685 \u001b[1;37mINFO\u001b[0m cyclops.processors.utils - # samples: 20244, # encounters: 150\n",
      "2022-04-21 13:00:50,687 \u001b[1;37mINFO\u001b[0m cyclops.processors.utils - # columns: 58, # encounters: 150\n",
      "2022-04-21 13:00:50,693 \u001b[1;37mINFO\u001b[0m cyclops.processors.utils - Fill empty result string values with NaN...\n",
      "2022-04-21 13:00:50,713 \u001b[1;37mINFO\u001b[0m cyclops.processors.utils - # samples: 20244, # encounters: 150\n",
      "2022-04-21 13:00:50,715 \u001b[1;37mINFO\u001b[0m cyclops.processors.utils - # columns: 58, # encounters: 150\n",
      "2022-04-21 13:00:50,719 \u001b[1;37mINFO\u001b[0m cyclops.processors.events - Converting string result values to numeric...\n",
      "2022-04-21 13:00:50,722 \u001b[1;37mINFO\u001b[0m cyclops.utils.profile - Finished executing function clean_events in 0.475112 s\n",
      "2022-04-21 13:00:50,724 \u001b[1;37mINFO\u001b[0m cyclops.processors.utils - Gathering event features...\n",
      "2022-04-21 13:00:50,727 \u001b[1;37mINFO\u001b[0m cyclops.processors.utils - # samples: 20244, # encounters: 150\n",
      "2022-04-21 13:00:50,728 \u001b[1;37mINFO\u001b[0m cyclops.processors.utils - # columns: 58, # encounters: 150\n",
      "2022-04-21 13:00:50,739 \u001b[1;37mINFO\u001b[0m cyclops.processors.utils - Filtering events within window...\n",
      "2022-04-21 13:00:50,757 \u001b[1;37mINFO\u001b[0m cyclops.processors.utils - # samples: 3688, # encounters: 148\n",
      "2022-04-21 13:00:50,759 \u001b[1;37mINFO\u001b[0m cyclops.processors.utils - # columns: 58, # encounters: 148\n",
      "100%|██████████| 148/148 [00:13<00:00, 11.13it/s]\n",
      "2022-04-21 13:01:04,075 \u001b[1;37mINFO\u001b[0m cyclops.utils.profile - Finished executing function gather_event_features in 13.350248 s\n",
      "2022-04-21 13:01:04,328 \u001b[1;33mWARNING\u001b[0m cyclops.processors.feature_handler - Feature cam has all NaNs, will not be added.\n",
      "2022-04-21 13:01:04,459 \u001b[1;33mWARNING\u001b[0m cyclops.processors.feature_handler - Feature oxygen_delivery has all NaNs, will not be added.\n",
      "2022-04-21 13:01:04,462 \u001b[1;33mWARNING\u001b[0m cyclops.processors.feature_handler - Feature fio2 has all NaNs, will not be added.\n"
     ]
    }
   ],
   "source": [
    "import pandas as pd\n",
    "\n",
    "from cyclops.processor import Aggregator, Imputer, featurize\n",
    "\n",
    "diagnoses_data = pd.read_parquet(\"diagnoses.gzip\")\n",
    "vitals_data = pd.read_parquet(\"vitals.gzip\")\n",
    "labs_data = pd.read_parquet(\"lab.gzip\")\n",
    "interventions_data = pd.read_parquet(\"intervention.gzip\")\n",
    "\n",
    "diagnoses_data = gather_columns(\n",
    "    diagnoses_data, [ENCOUNTER_ID, AGE, SEX, DIAGNOSIS_CODE]\n",
    ")\n",
    "feature_handler = featurize(\n",
    "    temporal_data=[labs_data, vitals_data],\n",
    "    imputer=Imputer(strategy=\"none\"),\n",
    "    aggregator=Aggregator(),\n",
    ")"
   ]
  },
  {
   "cell_type": "markdown",
   "id": "according-differential",
   "metadata": {},
   "source": [
    "## Inspect feature handler, and check features."
   ]
  },
  {
   "cell_type": "code",
   "execution_count": 3,
   "id": "compatible-practitioner",
   "metadata": {},
   "outputs": [
    {
     "name": "stdout",
     "output_type": "stream",
     "text": [
      "['sodium', 'urine sodium', 'urine specific gravity', 'bicarbonate', 'tsh', 'blood urea nitrogen', 'vitamin b12', 'white blood cell count', 'high sensitivity troponin', 'vitamin d', 'hba1c', 'lymphocyte', 'neutrophils', 'albumin', 'alp', 'alt', 'aptt', 'ast', 'bilirubin', 'urinalysis', 'calcium', 'calcium, ionized', 'creatinine', 'd-dimer', 'esr', 'serum alcohol', 'ferritin', 'fibrinogen', 'glucose point of care', 'glucose random', 'hematocrit', 'hemoglobin', 'crp', 'inr', 'ketone', 'lactate arterial', 'lactate venous', 'ldh', 'mean cell volume', 'serum osmolality', 'urine osmolality', 'arterial paco2', 'venous pco2', 'arterial ph', 'venous ph', 'platelet count', 'arterial pao2', 'potassium', 'pt', 'diastolic bp', 'oxygen saturation', 'oxygen flow rate', 'heart rate', 'respiratory rate', 'systolic bp', 'temperature', 'weight']\n",
      "['glucose fasting']\n"
     ]
    },
    {
     "data": {
      "text/plain": [
       "Index(['sodium', 'urine sodium', 'urine specific gravity', 'bicarbonate',\n",
       "       'tsh', 'blood urea nitrogen', 'vitamin b12', 'white blood cell count',\n",
       "       'high sensitivity troponin', 'vitamin d', 'hba1c', 'lymphocyte',\n",
       "       'neutrophils', 'albumin', 'alp', 'alt', 'aptt', 'ast', 'bilirubin',\n",
       "       'urinalysis', 'calcium', 'calcium, ionized', 'creatinine', 'd-dimer',\n",
       "       'esr', 'serum alcohol', 'ferritin', 'fibrinogen',\n",
       "       'glucose point of care', 'glucose fasting', 'glucose random',\n",
       "       'hematocrit', 'hemoglobin', 'crp', 'inr', 'ketone', 'lactate arterial',\n",
       "       'lactate venous', 'ldh', 'mean cell volume', 'serum osmolality',\n",
       "       'urine osmolality', 'arterial paco2', 'venous pco2', 'arterial ph',\n",
       "       'venous ph', 'platelet count', 'arterial pao2', 'potassium', 'pt',\n",
       "       'diastolic bp', 'oxygen saturation', 'oxygen flow rate', 'heart rate',\n",
       "       'respiratory rate', 'systolic bp', 'temperature', 'weight'],\n",
       "      dtype='object')"
      ]
     },
     "execution_count": 3,
     "metadata": {},
     "output_type": "execute_result"
    }
   ],
   "source": [
    "print(feature_handler.get_numerical_features())\n",
    "print(feature_handler.get_categorical_features())\n",
    "\n",
    "feature_handler.features.columns"
   ]
  },
  {
   "cell_type": "markdown",
   "id": "fancy-router",
   "metadata": {},
   "source": [
    "## Look at data quality report (patient statics + labs + vitals)"
   ]
  },
  {
   "cell_type": "code",
   "execution_count": 4,
   "id": "great-productivity",
   "metadata": {},
   "outputs": [],
   "source": [
    "# from evidently import ColumnMapping\n",
    "# from evidently.dashboard import Dashboard\n",
    "# from evidently.dashboard.tabs import DataQualityTab\n",
    "\n",
    "# dashboard = Dashboard(tabs=[DataQualityTab()])\n",
    "# column_mapping = ColumnMapping(\n",
    "#     numerical_features=feature_handler.get_numerical_features(),\n",
    "#     categorical_features=feature_handler.get_categorical_features(),\n",
    "# )\n",
    "# dashboard.calculate(\n",
    "#     reference_data=feature_handler.features,\n",
    "#     current_data=None,\n",
    "#     column_mapping=column_mapping,\n",
    "# )\n",
    "# dashboard.save(f\"data_processed.html\")"
   ]
  }
 ],
 "metadata": {
  "kernelspec": {
   "display_name": "cyclops",
   "language": "python",
   "name": "cyclops"
  },
  "language_info": {
   "codemirror_mode": {
    "name": "ipython",
    "version": 3
   },
   "file_extension": ".py",
   "mimetype": "text/x-python",
   "name": "python",
   "nbconvert_exporter": "python",
   "pygments_lexer": "ipython3",
   "version": "3.8.5"
  }
 },
 "nbformat": 4,
 "nbformat_minor": 5
}
