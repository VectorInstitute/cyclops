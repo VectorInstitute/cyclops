{
 "cells": [
  {
   "cell_type": "markdown",
   "id": "structured-extent",
   "metadata": {},
   "source": [
    "### This notebook shows examples of how to use the cyclops.processor API on GEMINI."
   ]
  },
  {
   "cell_type": "markdown",
   "id": "capable-office",
   "metadata": {},
   "source": [
    "## Get all patient encounters including ER data, with diagnoses from St. Michael's hospital from March 1 2020 to March 15 2020, with vitals and labs and interventions."
   ]
  },
  {
   "cell_type": "code",
   "execution_count": null,
   "id": "international-relief",
   "metadata": {},
   "outputs": [],
   "source": [
    "import matplotlib.pyplot as plt\n",
    "import pandas as pd\n",
    "\n",
    "from cyclops.feature_handler import FeatureHandler\n",
    "from cyclops.processor import featurize\n",
    "from cyclops.processors.aggregate import Aggregator\n",
    "from cyclops.processors.column_names import (\n",
    "    ADMIT_TIMESTAMP,\n",
    "    AGE,\n",
    "    DIAGNOSIS_CODE,\n",
    "    ENCOUNTER_ID,\n",
    "    HOSPITAL_ID,\n",
    "    SEX,\n",
    ")\n",
    "from cyclops.processors.constants import SMH\n",
    "from cyclops.processors.impute import Imputer\n",
    "from cyclops.processors.utils import gather_columns\n",
    "from cyclops.query import gemini\n",
    "\n",
    "# patients = gemini.patients(\n",
    "#     hospitals=[SMH], from_date=\"2020-03-01\", to_date=\"2020-03-15\", include_er_data=True\n",
    "# )\n",
    "# patients_diagnoses = gemini.diagnoses(patients=patients)\n",
    "# patients_vitals = gemini.events(patients=patients, category=\"vitals\")\n",
    "# patients_labs = gemini.events(patients=patients, category=\"lab\")\n",
    "# patients_interventions = gemini.events(patients=patients, category=\"intervention\")\n",
    "\n",
    "# diagnoses_data = patients_diagnoses.run()\n",
    "# vitals_data = patients_vitals.run()\n",
    "# labs_data = patients_labs.run()\n",
    "# interventions_data = patients_interventions.run()\n",
    "\n",
    "# print(f\"{len(diagnoses_data)} diagnoses rows extracted!\")\n",
    "# print(f\"{len(vitals_data)} vitals rows extracted!\")\n",
    "# print(f\"{len(labs_data)} labs rows extracted!\")\n",
    "# print(f\"{len(interventions_data)} interventions rows extracted!\")\n",
    "\n",
    "# patients_diagnoses.save(\".\", \"diagnoses\")\n",
    "# patients_vitals.save(\".\", \"vitals\")\n",
    "# patients_labs.save(\".\", \"lab\")\n",
    "# patients_interventions.save(\".\", \"intervention\")"
   ]
  },
  {
   "cell_type": "markdown",
   "id": "healthy-duncan",
   "metadata": {},
   "source": [
    "## Process queried data into features. (Static + Temporal)."
   ]
  },
  {
   "cell_type": "code",
   "execution_count": null,
   "id": "descending-harris",
   "metadata": {
    "scrolled": true
   },
   "outputs": [],
   "source": [
    "diagnoses_data = pd.read_parquet(\"diagnoses.gzip\")\n",
    "vitals_data = pd.read_parquet(\"vitals.gzip\")\n",
    "labs_data = pd.read_parquet(\"lab.gzip\")\n",
    "interventions_data = pd.read_parquet(\"intervention.gzip\")\n",
    "\n",
    "static_diagnoses_data = gather_columns(\n",
    "    diagnoses_data,\n",
    "    [ENCOUNTER_ID, AGE, SEX, DIAGNOSIS_CODE, HOSPITAL_ID, ADMIT_TIMESTAMP],\n",
    ")\n",
    "feature_handler = featurize(\n",
    "    static_data=[static_diagnoses_data],\n",
    "    temporal_data=[labs_data, vitals_data],\n",
    "    aggregator=Aggregator(bucket_size=1, window=48),\n",
    "    static_imputer=Imputer(strategy=\"median\"),\n",
    "    temporal_imputer=Imputer(strategy=\"median\"),\n",
    "    reference_cols=[HOSPITAL_ID, ADMIT_TIMESTAMP],\n",
    ")"
   ]
  },
  {
   "cell_type": "markdown",
   "id": "according-differential",
   "metadata": {},
   "source": [
    "## Plot example temporal features."
   ]
  },
  {
   "cell_type": "code",
   "execution_count": null,
   "id": "compatible-practitioner",
   "metadata": {
    "scrolled": false
   },
   "outputs": [],
   "source": [
    "import plotly.graph_objects as go\n",
    "from plotly.subplots import make_subplots\n",
    "\n",
    "plot_features = [\n",
    "    \"oxygen saturation\",\n",
    "    \"sodium\",\n",
    "    \"temperature\",\n",
    "    \"respiratory rate\",\n",
    "    \"diastolic bp\",\n",
    "]\n",
    "\n",
    "encounter_id = 11289767\n",
    "temporal_features = feature_handler.get_numerical_feature_names()[\"temporal\"]\n",
    "\n",
    "features_encounter = feature_handler.features[\"temporal\"].loc[encounter_id][\n",
    "    plot_features\n",
    "]\n",
    "feature_handler.plot_features(encounter_id, names=plot_features)"
   ]
  },
  {
   "cell_type": "markdown",
   "id": "choice-seeker",
   "metadata": {},
   "source": [
    "## Plot histogram of static features."
   ]
  },
  {
   "cell_type": "code",
   "execution_count": null,
   "id": "adaptive-welcome",
   "metadata": {},
   "outputs": [],
   "source": [
    "feature_handler.plot_features(aggregate_type=\"static\", names=\"age\")"
   ]
  },
  {
   "cell_type": "markdown",
   "id": "improving-restaurant",
   "metadata": {},
   "source": [
    "## Create new FeatureHandler and load features from file."
   ]
  },
  {
   "cell_type": "code",
   "execution_count": null,
   "id": "simple-princess",
   "metadata": {},
   "outputs": [],
   "source": [
    "feature_handler.save(\".\", \"test_features\")\n",
    "feature_handler = FeatureHandler()\n",
    "feature_handler.load(\".\", \"test_features\")"
   ]
  }
 ],
 "metadata": {
  "kernelspec": {
   "display_name": "cyclops",
   "language": "python",
   "name": "cyclops"
  },
  "language_info": {
   "codemirror_mode": {
    "name": "ipython",
    "version": 3
   },
   "file_extension": ".py",
   "mimetype": "text/x-python",
   "name": "python",
   "nbconvert_exporter": "python",
   "pygments_lexer": "ipython3",
   "version": "3.8.5"
  }
 },
 "nbformat": 4,
 "nbformat_minor": 5
}
