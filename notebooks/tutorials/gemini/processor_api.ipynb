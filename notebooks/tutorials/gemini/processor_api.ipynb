{
 "cells": [
  {
   "cell_type": "markdown",
   "id": "structured-extent",
   "metadata": {},
   "source": [
    "### This notebook shows examples of how to use the cyclops.processor API on GEMINI."
   ]
  },
  {
   "cell_type": "markdown",
   "id": "capable-office",
   "metadata": {},
   "source": [
    "## Get all patient encounters with diagnoses from St. Michael's hospital from March 1 2020 to March 15 2020, with vitals and labs."
   ]
  },
  {
   "cell_type": "code",
   "execution_count": null,
   "id": "international-relief",
   "metadata": {},
   "outputs": [],
   "source": [
    "from cyclops.processors.constants import SMH\n",
    "from cyclops.processors.utils import gather_columns\n",
    "from cyclops.query import gemini\n",
    "from cyclops.processors.column_names import (\n",
    "    AGE,\n",
    "    ENCOUNTER_ID,\n",
    "    DIAGNOSIS_CODE,\n",
    "    SEX,\n",
    ")\n",
    "\n",
    "\n",
    "patients = gemini.patients(\n",
    "    hospitals=[SMH], from_date=\"2020-03-01\", to_date=\"2020-03-15\"\n",
    ")\n",
    "patients_diagnoses = gemini.diagnoses(patients=patients)\n",
    "patients_vitals = gemini.events(patients=patients, category=\"vitals\")\n",
    "patients_labs = gemini.events(patients=patients, category=\"labs\")\n",
    "diagnoses_data = patients_diagnoses.run()\n",
    "vitals_data = patients_vitals.run()\n",
    "labs_data = patients_labs.run()\n",
    "\n",
    "print(f\"{len(diagnoses_data)} diagnoses rows extracted!\")\n",
    "print(f\"{len(vitals_data)} vitals rows extracted!\")\n",
    "print(f\"{len(labs_data)} labs rows extracted!\")\n",
    "\n",
    "patients_diagnoses.save(\".\", \"diagnoses.gzip\")\n",
    "patients_vitals.save(\".\", \"vitals.gzip\")\n",
    "patients_labs.save(\".\", \"labs.gzip\")"
   ]
  },
  {
   "cell_type": "markdown",
   "id": "healthy-duncan",
   "metadata": {},
   "source": [
    "## Process queried data into features. (Static aggregation + no imputation)."
   ]
  },
  {
   "cell_type": "code",
   "execution_count": null,
   "id": "descending-harris",
   "metadata": {},
   "outputs": [],
   "source": [
    "import pandas as pd\n",
    "\n",
    "from cyclops.processor import Aggregator, Imputer, featurize\n",
    "\n",
    "diagnoses_data = pd.read_parquet(\"diagnoses.gzip\")\n",
    "vitals_data = pd.read_parquet(\"vitals.gzip\")\n",
    "labs_data = pd.read_parquet(\"labs.gzip\")\n",
    "\n",
    "\n",
    "diagnoses_data = gather_columns(diagnoses_data, [ENCOUNTER_ID, AGE, SEX, DIAGNOSIS_CODE]) \n",
    "feature_handler = featurize(\n",
    "    static_data=[diagnoses_data],\n",
    "    temporal_data=[labs_data, vitals_data],\n",
    "    imputer=Imputer(strategy=\"none\"),\n",
    "    aggregator=Aggregator(strategy=\"static\", range_=24, window=24),\n",
    ")"
   ]
  },
  {
   "cell_type": "markdown",
   "id": "according-differential",
   "metadata": {},
   "source": [
    "## Inspect feature handler, and check features."
   ]
  },
  {
   "cell_type": "code",
   "execution_count": null,
   "id": "compatible-practitioner",
   "metadata": {},
   "outputs": [],
   "source": [
    "print(feature_handler.get_numerical_features())\n",
    "print(feature_handler.get_categorical_features())\n",
    "\n",
    "feature_handler.features"
   ]
  },
  {
   "cell_type": "markdown",
   "id": "fancy-router",
   "metadata": {},
   "source": [
    "## Look at data quality report (patient statics + labs + vitals)"
   ]
  },
  {
   "cell_type": "code",
   "execution_count": null,
   "id": "great-productivity",
   "metadata": {},
   "outputs": [],
   "source": [
    "from evidently import ColumnMapping\n",
    "from evidently.dashboard import Dashboard\n",
    "from evidently.dashboard.tabs import DataQualityTab\n",
    "\n",
    "dashboard = Dashboard(tabs=[DataQualityTab()])\n",
    "column_mapping = ColumnMapping(\n",
    "    numerical_features=feature_handler.get_numerical_features(),\n",
    "    categorical_features=feature_handler.get_categorical_features(),\n",
    ")\n",
    "dashboard.calculate(\n",
    "    reference_data=feature_handler.features,\n",
    "    current_data=None,\n",
    "    column_mapping=column_mapping,\n",
    ")\n",
    "dashboard.save(f\"data_processed.html\")"
   ]
  }
 ],
 "metadata": {
  "kernelspec": {
   "display_name": "cyclops",
   "language": "python",
   "name": "cyclops"
  },
  "language_info": {
   "codemirror_mode": {
    "name": "ipython",
    "version": 3
   },
   "file_extension": ".py",
   "mimetype": "text/x-python",
   "name": "python",
   "nbconvert_exporter": "python",
   "pygments_lexer": "ipython3",
   "version": "3.8.5"
  }
 },
 "nbformat": 4,
 "nbformat_minor": 5
}
