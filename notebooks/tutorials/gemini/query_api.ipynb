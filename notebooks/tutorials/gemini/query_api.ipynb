{
 "cells": [
  {
   "cell_type": "markdown",
   "id": "attended-boston",
   "metadata": {},
   "source": [
    "### This notebook shows examples of how to use the cyclops.query API on GEMINI."
   ]
  },
  {
   "cell_type": "markdown",
   "id": "cosmetic-pasta",
   "metadata": {},
   "source": [
    "## Example 1. Get all patient encounters from delirium cohort, join with labs, limit to 100 rows."
   ]
  },
  {
   "cell_type": "code",
   "execution_count": 1,
   "id": "elementary-programmer",
   "metadata": {},
   "outputs": [
    {
     "name": "stderr",
     "output_type": "stream",
     "text": [
      "2022-04-06 16:00:19,742 \u001b[1;37mINFO\u001b[0m cyclops.config  - Log file is /mnt/nfs/home/krishnanam/vector-delirium/log.log\n",
      "2022-04-06 16:00:20,206 \u001b[1;37mINFO\u001b[0m cyclops.query.utils - Log file is /mnt/nfs/home/krishnanam/vector-delirium/log.log\n",
      "2022-04-06 16:00:20,213 \u001b[1;37mINFO\u001b[0m cyclops.utils.profile - Log file is /mnt/nfs/home/krishnanam/vector-delirium/log.log\n",
      "2022-04-06 16:00:20,218 \u001b[1;37mINFO\u001b[0m cyclops.orm     - Log file is /mnt/nfs/home/krishnanam/vector-delirium/log.log\n",
      "2022-04-06 16:00:20,654 \u001b[1;37mINFO\u001b[0m cyclops.orm     - Database setup, ready to run queries!\n",
      "2022-04-06 16:00:20,875 \u001b[1;37mINFO\u001b[0m cyclops.orm     - Query returned successfully!\n",
      "2022-04-06 16:00:20,877 \u001b[1;37mINFO\u001b[0m cyclops.utils.profile - Finished executing function run_query in 0.149755 s\n"
     ]
    },
    {
     "name": "stdout",
     "output_type": "stream",
     "text": [
      "100 rows extracted!\n"
     ]
    }
   ],
   "source": [
    "from cyclops.processors.constants import SMH\n",
    "from cyclops.query import gemini\n",
    "\n",
    "patients = gemini.patients(delirium_cohort=True)\n",
    "patients_labs = gemini.labs(patients=patients)\n",
    "patients_labs.run(limit=100)\n",
    "print(f\"{len(patients_labs.data)} rows extracted!\")"
   ]
  },
  {
   "cell_type": "markdown",
   "id": "auburn-constitutional",
   "metadata": {},
   "source": [
    "## Example 2. Get all patient encounters from delirium cohort, join diagnosis codes, filter responsible diagnoses made, limit to 100 rows."
   ]
  },
  {
   "cell_type": "code",
   "execution_count": 2,
   "id": "simple-receiver",
   "metadata": {},
   "outputs": [
    {
     "name": "stderr",
     "output_type": "stream",
     "text": [
      "2022-04-06 16:00:21,019 \u001b[1;37mINFO\u001b[0m cyclops.orm     - Query returned successfully!\n",
      "2022-04-06 16:00:21,022 \u001b[1;37mINFO\u001b[0m cyclops.utils.profile - Finished executing function run_query in 0.124352 s\n"
     ]
    },
    {
     "name": "stdout",
     "output_type": "stream",
     "text": [
      "100 rows extracted!\n"
     ]
    }
   ],
   "source": [
    "patients = gemini.patients(delirium_cohort=True)\n",
    "patients_diagnoses = gemini.diagnoses(diagnosis_types=[\"M\"], patients=patients)\n",
    "patients_diagnoses.run(limit=100)\n",
    "print(f\"{len(patients_diagnoses.data)} rows extracted!\")"
   ]
  },
  {
   "cell_type": "markdown",
   "id": "wireless-dream",
   "metadata": {},
   "source": [
    "## Example 3. Get all patient encounters from year 2020, join with labs, filter only sodium tests, limit to 100 rows."
   ]
  },
  {
   "cell_type": "code",
   "execution_count": 3,
   "id": "greater-filter",
   "metadata": {},
   "outputs": [
    {
     "name": "stderr",
     "output_type": "stream",
     "text": [
      "2022-04-06 16:00:21,256 \u001b[1;37mINFO\u001b[0m cyclops.orm     - Query returned successfully!\n",
      "2022-04-06 16:00:21,259 \u001b[1;37mINFO\u001b[0m cyclops.utils.profile - Finished executing function run_query in 0.215887 s\n"
     ]
    },
    {
     "name": "stdout",
     "output_type": "stream",
     "text": [
      "100 rows extracted!\n"
     ]
    }
   ],
   "source": [
    "patients = gemini.patients(years=[2020])\n",
    "patients_labs = gemini.labs(lab_tests=[\"sodium\"], patients=patients)\n",
    "patients_labs.run(limit=100)\n",
    "print(f\"{len(patients_labs.data)} rows extracted!\")"
   ]
  },
  {
   "cell_type": "markdown",
   "id": "miniature-engagement",
   "metadata": {},
   "source": [
    "## Example 4. Get all patient encounters from St. Michael's hospital from Jan 2020 to June 2020, join with vitals, filter Systolic BP measurements (substring match)."
   ]
  },
  {
   "cell_type": "code",
   "execution_count": 4,
   "id": "painted-breath",
   "metadata": {},
   "outputs": [
    {
     "name": "stderr",
     "output_type": "stream",
     "text": [
      "2022-04-06 16:00:24,604 \u001b[1;37mINFO\u001b[0m cyclops.orm     - Query returned successfully!\n",
      "2022-04-06 16:00:24,608 \u001b[1;37mINFO\u001b[0m cyclops.utils.profile - Finished executing function run_query in 3.325061 s\n"
     ]
    },
    {
     "name": "stdout",
     "output_type": "stream",
     "text": [
      "44774 rows extracted!\n"
     ]
    }
   ],
   "source": [
    "patients = gemini.patients(\n",
    "    hospitals=[SMH], from_date=\"2020-01-01\", to_date=\"2020-06-30\"\n",
    ")\n",
    "patients_vitals = gemini.vitals(vital_names=\"systolic\", patients=patients)\n",
    "patients_vitals.run()\n",
    "print(f\"{len(patients_vitals.data)} rows extracted!\")"
   ]
  }
 ],
 "metadata": {
  "kernelspec": {
   "display_name": "cyclops",
   "language": "python",
   "name": "cyclops"
  },
  "language_info": {
   "codemirror_mode": {
    "name": "ipython",
    "version": 3
   },
   "file_extension": ".py",
   "mimetype": "text/x-python",
   "name": "python",
   "nbconvert_exporter": "python",
   "pygments_lexer": "ipython3",
   "version": "3.8.5"
  }
 },
 "nbformat": 4,
 "nbformat_minor": 5
}
