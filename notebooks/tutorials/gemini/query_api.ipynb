{
 "cells": [
  {
   "cell_type": "markdown",
   "id": "attended-boston",
   "metadata": {},
   "source": [
    "### This notebook shows examples of how to use the cyclops.query API on GEMINI."
   ]
  },
  {
   "cell_type": "markdown",
   "id": "cosmetic-pasta",
   "metadata": {},
   "source": [
    "## Example 1. Get all patient encounters from delirium cohort, join with labs, limit to 100 rows."
   ]
  },
  {
   "cell_type": "code",
   "execution_count": 1,
   "id": "elementary-programmer",
   "metadata": {},
   "outputs": [
    {
     "name": "stderr",
     "output_type": "stream",
     "text": [
      "2022-05-11 15:01:06,160 \u001b[1;37mINFO\u001b[0m cyclops.orm     - Database setup, ready to run queries!\n",
      "2022-05-11 15:01:07,683 \u001b[1;37mINFO\u001b[0m cyclops.orm     - Query returned successfully!\n",
      "2022-05-11 15:01:07,686 \u001b[1;37mINFO\u001b[0m cyclops.utils.profile - Finished executing function run_query in 1.515662 s\n"
     ]
    },
    {
     "name": "stdout",
     "output_type": "stream",
     "text": [
      "100 rows extracted!\n"
     ]
    }
   ],
   "source": [
    "from cyclops.processors.constants import SMH\n",
    "from cyclops.query import gemini\n",
    "\n",
    "patients = gemini.patients(delirium_cohort=True)\n",
    "patients_labs = gemini.events(patients=patients, category=\"lab\")\n",
    "patients_labs.run(limit=100)\n",
    "print(f\"{len(patients_labs.data)} rows extracted!\")"
   ]
  },
  {
   "cell_type": "markdown",
   "id": "auburn-constitutional",
   "metadata": {},
   "source": [
    "## Example 2. Get all patient encounters from delirium cohort, join diagnosis codes, filter responsible diagnoses made, limit to 100 rows."
   ]
  },
  {
   "cell_type": "code",
   "execution_count": 2,
   "id": "simple-receiver",
   "metadata": {},
   "outputs": [
    {
     "name": "stderr",
     "output_type": "stream",
     "text": [
      "2022-05-11 15:01:08,609 \u001b[1;37mINFO\u001b[0m cyclops.orm     - Query returned successfully!\n",
      "2022-05-11 15:01:08,612 \u001b[1;37mINFO\u001b[0m cyclops.utils.profile - Finished executing function run_query in 0.907561 s\n"
     ]
    },
    {
     "name": "stdout",
     "output_type": "stream",
     "text": [
      "100 rows extracted!\n"
     ]
    }
   ],
   "source": [
    "patients = gemini.patients(delirium_cohort=True)\n",
    "patients_diagnoses = gemini.diagnoses(diagnosis_types=[\"M\"], patients=patients)\n",
    "patients_diagnoses.run(limit=100)\n",
    "print(f\"{len(patients_diagnoses.data)} rows extracted!\")"
   ]
  },
  {
   "cell_type": "markdown",
   "id": "wireless-dream",
   "metadata": {},
   "source": [
    "## Example 3. Get all patient encounters from year 2020, join with labs, filter only sodium tests, limit to 100 rows."
   ]
  },
  {
   "cell_type": "code",
   "execution_count": 3,
   "id": "greater-filter",
   "metadata": {
    "scrolled": true
   },
   "outputs": [
    {
     "name": "stderr",
     "output_type": "stream",
     "text": [
      "2022-05-11 15:01:50,646 \u001b[1;37mINFO\u001b[0m cyclops.orm     - Query returned successfully!\n",
      "2022-05-11 15:01:50,649 \u001b[1;37mINFO\u001b[0m cyclops.utils.profile - Finished executing function run_query in 42.017992 s\n"
     ]
    },
    {
     "name": "stdout",
     "output_type": "stream",
     "text": [
      "100 rows extracted!\n"
     ]
    }
   ],
   "source": [
    "patients = gemini.patients(years=[2020])\n",
    "patients_labs = gemini.events(patients=patients, names=\"sodium\", category=\"lab\")\n",
    "patients_labs.run(limit=100)\n",
    "print(f\"{len(patients_labs.data)} rows extracted!\")"
   ]
  },
  {
   "cell_type": "markdown",
   "id": "legitimate-clearance",
   "metadata": {},
   "source": [
    "## Example 4. Get all patient encounters from year 2019, from the months of july and august join with interventions, limit to 1000 rows."
   ]
  },
  {
   "cell_type": "code",
   "execution_count": 4,
   "id": "limiting-empty",
   "metadata": {},
   "outputs": [
    {
     "name": "stderr",
     "output_type": "stream",
     "text": [
      "2022-05-11 15:01:50,761 \u001b[1;37mINFO\u001b[0m cyclops.orm     - Query returned successfully!\n",
      "2022-05-11 15:01:50,764 \u001b[1;37mINFO\u001b[0m cyclops.utils.profile - Finished executing function run_query in 0.097325 s\n"
     ]
    },
    {
     "name": "stdout",
     "output_type": "stream",
     "text": [
      "1000 rows extracted!\n"
     ]
    }
   ],
   "source": [
    "patients = gemini.patients(years=[2019], months=[7, 8])\n",
    "patients_interventions = gemini.events(patients=patients, category=\"intervention\")\n",
    "patients_interventions.run(limit=1000)\n",
    "print(f\"{len(patients_interventions.data)} rows extracted!\")"
   ]
  },
  {
   "cell_type": "markdown",
   "id": "miniature-engagement",
   "metadata": {},
   "source": [
    "## Example 5. Get all patient encounters from St. Michael's hospital from Jan 2020 to June 2020, join with vitals, filter Systolic BP measurements (substring match)."
   ]
  },
  {
   "cell_type": "code",
   "execution_count": 5,
   "id": "painted-breath",
   "metadata": {},
   "outputs": [
    {
     "name": "stderr",
     "output_type": "stream",
     "text": [
      "2022-05-11 15:01:56,033 \u001b[1;37mINFO\u001b[0m cyclops.orm     - Query returned successfully!\n",
      "2022-05-11 15:01:56,036 \u001b[1;37mINFO\u001b[0m cyclops.utils.profile - Finished executing function run_query in 5.252019 s\n"
     ]
    },
    {
     "name": "stdout",
     "output_type": "stream",
     "text": [
      "44774 rows extracted!\n"
     ]
    }
   ],
   "source": [
    "patients = gemini.patients(\n",
    "    hospitals=[SMH], from_date=\"2020-01-01\", to_date=\"2020-06-30\"\n",
    ")\n",
    "patients_vitals = gemini.events(\n",
    "    patients=patients, substring=\"systolic\", category=\"vitals\"\n",
    ")\n",
    "patients_vitals.run()\n",
    "print(f\"{len(patients_vitals.data)} rows extracted!\")"
   ]
  },
  {
   "cell_type": "markdown",
   "id": "crazy-philip",
   "metadata": {},
   "source": [
    "## Example 6. Get all patient encounters from St. Michael's hospital from Jan 2020 to June 2020, join with labs, filter sodium and potassium tests."
   ]
  },
  {
   "cell_type": "code",
   "execution_count": 6,
   "id": "israeli-tunisia",
   "metadata": {},
   "outputs": [
    {
     "name": "stderr",
     "output_type": "stream",
     "text": [
      "2022-05-11 15:04:41,475 \u001b[1;37mINFO\u001b[0m cyclops.orm     - Query returned successfully!\n",
      "2022-05-11 15:04:41,479 \u001b[1;37mINFO\u001b[0m cyclops.utils.profile - Finished executing function run_query in 165.421825 s\n"
     ]
    },
    {
     "name": "stdout",
     "output_type": "stream",
     "text": [
      "27132 rows extracted!\n"
     ]
    }
   ],
   "source": [
    "patients = gemini.patients(\n",
    "    hospitals=[SMH], from_date=\"2020-01-01\", to_date=\"2020-06-30\"\n",
    ")\n",
    "patients_vitals = gemini.events(\n",
    "    patients=patients, names=[\"sodium\", \"potassium\"], category=\"lab\"\n",
    ")\n",
    "patients_vitals.run()\n",
    "print(f\"{len(patients_vitals.data)} rows extracted!\")"
   ]
  },
  {
   "cell_type": "markdown",
   "id": "indian-colors",
   "metadata": {},
   "source": [
    "## Example 7. Get all patient encounters from all hospitals, from years [2018, 2019, 2020], join with labs and vitals (large query!!), filtering recognised columns by the cyclops.processor API."
   ]
  },
  {
   "cell_type": "code",
   "execution_count": 7,
   "id": "divine-county",
   "metadata": {},
   "outputs": [
    {
     "name": "stderr",
     "output_type": "stream",
     "text": [
      "2022-05-11 15:04:42,167 \u001b[1;37mINFO\u001b[0m cyclops.orm     - Query returned successfully!\n",
      "2022-05-11 15:04:42,170 \u001b[1;37mINFO\u001b[0m cyclops.utils.profile - Finished executing function run_query in 0.669038 s\n",
      "2022-05-11 15:07:23,106 \u001b[1;37mINFO\u001b[0m cyclops.orm     - Query returned successfully!\n",
      "2022-05-11 15:07:23,109 \u001b[1;37mINFO\u001b[0m cyclops.utils.profile - Finished executing function run_query in 160.936062 s\n",
      "2022-05-11 15:08:04,196 \u001b[1;37mINFO\u001b[0m cyclops.orm     - Query returned successfully!\n",
      "2022-05-11 15:08:04,208 \u001b[1;37mINFO\u001b[0m cyclops.utils.profile - Finished executing function run_query in 41.095137 s\n",
      "2022-05-11 15:08:04,210 \u001b[1;37mINFO\u001b[0m cyclops.query.interface - Saving queried data to /mnt/nfs/project/delirium/sprint_demo/APR-28-2022/admin_er_2018_2020.gzip\n"
     ]
    },
    {
     "name": "stdout",
     "output_type": "stream",
     "text": [
      "90699 rows extracted!\n",
      "10684768 rows extracted!\n",
      "5831063 rows extracted!\n"
     ]
    },
    {
     "name": "stderr",
     "output_type": "stream",
     "text": [
      "2022-05-11 15:08:04,858 \u001b[1;37mINFO\u001b[0m cyclops.query.interface - Saving queried data to /mnt/nfs/project/delirium/sprint_demo/APR-28-2022/labs_2018_2020.gzip\n",
      "2022-05-11 15:08:13,629 \u001b[1;37mINFO\u001b[0m cyclops.query.interface - Saving queried data to /mnt/nfs/project/delirium/sprint_demo/APR-28-2022/vitals_2018_2020.gzip\n"
     ]
    }
   ],
   "source": [
    "patients = gemini.patients(years=[2018, 2019, 2020], include_er_data=True)\n",
    "patients_labs = gemini.events(patients=patients, category=\"lab\")\n",
    "patients_vitals = gemini.events(patients=patients, category=\"vitals\")\n",
    "patients.run(filter_recognised=True)\n",
    "patients_labs.run(filter_recognised=True)\n",
    "patients_vitals.run(filter_recognised=True)\n",
    "print(f\"{len(patients.data)} rows extracted!\")\n",
    "print(f\"{len(patients_labs.data)} rows extracted!\")\n",
    "print(f\"{len(patients_vitals.data)} rows extracted!\")\n",
    "\n",
    "SAVE_PATH = \"/mnt/nfs/project/delirium/sprint_demo/APR-28-2022\"\n",
    "patients.save(SAVE_PATH, \"admin_er_2018_2020\")\n",
    "patients_labs.save(SAVE_PATH, \"labs_2018_2020\")\n",
    "patients_vitals.save(SAVE_PATH, \"vitals_2018_2020\")"
   ]
  },
  {
   "cell_type": "markdown",
   "id": "acquired-pennsylvania",
   "metadata": {},
   "source": [
    "## Example 8. Get diagnosis lookup table data for quick reference."
   ]
  },
  {
   "cell_type": "code",
   "execution_count": 8,
   "id": "artistic-proposal",
   "metadata": {},
   "outputs": [
    {
     "name": "stderr",
     "output_type": "stream",
     "text": [
      "2022-05-11 15:08:16,913 \u001b[1;37mINFO\u001b[0m cyclops.orm     - Query returned successfully!\n",
      "2022-05-11 15:08:16,915 \u001b[1;37mINFO\u001b[0m cyclops.utils.profile - Finished executing function run_query in 0.007359 s\n"
     ]
    },
    {
     "name": "stdout",
     "output_type": "stream",
     "text": [
      "12 rows extracted!\n"
     ]
    }
   ],
   "source": [
    "lookup_data = gemini.get_lookup_table(\"lookup_diagnosis\")\n",
    "lookup_data.run()\n",
    "print(f\"{len(lookup_data.data)} rows extracted!\")"
   ]
  }
 ],
 "metadata": {
  "kernelspec": {
   "display_name": "cyclops",
   "language": "python",
   "name": "cyclops"
  },
  "language_info": {
   "codemirror_mode": {
    "name": "ipython",
    "version": 3
   },
   "file_extension": ".py",
   "mimetype": "text/x-python",
   "name": "python",
   "nbconvert_exporter": "python",
   "pygments_lexer": "ipython3",
   "version": "3.9.7"
  }
 },
 "nbformat": 4,
 "nbformat_minor": 5
}
