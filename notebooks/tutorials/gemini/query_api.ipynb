{
 "cells": [
  {
   "cell_type": "markdown",
   "id": "attended-boston",
   "metadata": {},
   "source": [
    "### This notebook shows examples of how to use the cyclops.query API on GEMINI."
   ]
  },
  {
   "cell_type": "markdown",
   "id": "cosmetic-pasta",
   "metadata": {},
   "source": [
    "## Example 1. Get all patient encounters from delirium cohort, join with labs, limit to 100 rows."
   ]
  },
  {
   "cell_type": "code",
   "execution_count": null,
   "id": "elementary-programmer",
   "metadata": {},
   "outputs": [],
   "source": [
    "from cyclops.processors.constants import SMH\n",
    "from cyclops.query import gemini\n",
    "\n",
    "patients = gemini.patients(delirium_cohort=True)\n",
    "patients_labs = gemini.events(patients=patients, category=\"lab\")\n",
    "patients_labs.run(limit=100)\n",
    "print(f\"{len(patients_labs.data)} rows extracted!\")"
   ]
  },
  {
   "cell_type": "markdown",
   "id": "auburn-constitutional",
   "metadata": {},
   "source": [
    "## Example 2. Get all patient encounters from delirium cohort, join diagnosis codes, filter responsible diagnoses made, limit to 100 rows."
   ]
  },
  {
   "cell_type": "code",
   "execution_count": null,
   "id": "simple-receiver",
   "metadata": {},
   "outputs": [],
   "source": [
    "patients = gemini.patients(delirium_cohort=True)\n",
    "patients_diagnoses = gemini.diagnoses(diagnosis_types=[\"M\"], patients=patients)\n",
    "patients_diagnoses.run(limit=100)\n",
    "print(f\"{len(patients_diagnoses.data)} rows extracted!\")"
   ]
  },
  {
   "cell_type": "markdown",
   "id": "wireless-dream",
   "metadata": {},
   "source": [
    "## Example 3. Get all patient encounters from year 2020, join with labs, filter only sodium tests, limit to 100 rows."
   ]
  },
  {
   "cell_type": "code",
   "execution_count": null,
   "id": "greater-filter",
   "metadata": {
    "scrolled": true
   },
   "outputs": [],
   "source": [
    "patients = gemini.patients(years=[2020])\n",
    "patients_labs = gemini.events(patients=patients, names=\"sodium\", category=\"lab\")\n",
    "patients_labs.run(limit=100)\n",
    "print(f\"{len(patients_labs.data)} rows extracted!\")"
   ]
  },
  {
   "cell_type": "markdown",
   "id": "legitimate-clearance",
   "metadata": {},
   "source": [
    "## Example 4. Get all patient encounters from year 2019, from the months of july and august join with interventions, limit to 1000 rows."
   ]
  },
  {
   "cell_type": "code",
   "execution_count": null,
   "id": "limiting-empty",
   "metadata": {},
   "outputs": [],
   "source": [
    "patients = gemini.patients(years=[2019], months=[7, 8])\n",
    "patients_interventions = gemini.events(patients=patients, category=\"intervention\")\n",
    "patients_interventions.run(limit=1000)\n",
    "print(f\"{len(patients_interventions.data)} rows extracted!\")"
   ]
  },
  {
   "cell_type": "markdown",
   "id": "miniature-engagement",
   "metadata": {},
   "source": [
    "## Example 5. Get all patient encounters from St. Michael's hospital from Jan 2020 to June 2020, join with vitals, filter Systolic BP measurements (substring match)."
   ]
  },
  {
   "cell_type": "code",
   "execution_count": null,
   "id": "painted-breath",
   "metadata": {},
   "outputs": [],
   "source": [
    "patients = gemini.patients(\n",
    "    hospitals=[SMH], from_date=\"2020-01-01\", to_date=\"2020-06-30\"\n",
    ")\n",
    "patients_vitals = gemini.events(\n",
    "    patients=patients, substring=\"systolic\", category=\"vitals\"\n",
    ")\n",
    "patients_vitals.run()\n",
    "print(f\"{len(patients_vitals.data)} rows extracted!\")"
   ]
  },
  {
   "cell_type": "markdown",
   "id": "crazy-philip",
   "metadata": {},
   "source": [
    "## Example 6. Get all patient encounters from St. Michael's hospital from Jan 2020 to June 2020, join with labs, filter sodium and potassium tests."
   ]
  },
  {
   "cell_type": "code",
   "execution_count": null,
   "id": "israeli-tunisia",
   "metadata": {},
   "outputs": [],
   "source": [
    "patients = gemini.patients(\n",
    "    hospitals=[SMH], from_date=\"2020-01-01\", to_date=\"2020-06-30\"\n",
    ")\n",
    "patients_vitals = gemini.events(\n",
    "    patients=patients, names=[\"sodium\", \"potassium\"], category=\"lab\"\n",
    ")\n",
    "patients_vitals.run()\n",
    "print(f\"{len(patients_vitals.data)} rows extracted!\")"
   ]
  },
  {
   "cell_type": "markdown",
   "id": "indian-colors",
   "metadata": {},
   "source": [
    "## Example 7. Get all patient encounters from all hospitals, from years [2018, 2019, 2020], join with labs and vitals (large query!!), filtering recognised columns by the cyclops.processor API."
   ]
  },
  {
   "cell_type": "code",
   "execution_count": null,
   "id": "divine-county",
   "metadata": {},
   "outputs": [],
   "source": [
    "patients = gemini.patients(years=[2018, 2019, 2020], include_er_data=True)\n",
    "patients_labs = gemini.events(patients=patients, category=\"lab\")\n",
    "patients_vitals = gemini.events(patients=patients, category=\"vitals\")\n",
    "patients.run(filter_recognised=True)\n",
    "patients_labs.run(filter_recognised=True)\n",
    "patients_vitals.run(filter_recognised=True)\n",
    "print(f\"{len(patients.data)} rows extracted!\")\n",
    "print(f\"{len(patients_labs.data)} rows extracted!\")\n",
    "print(f\"{len(patients_vitals.data)} rows extracted!\")\n",
    "\n",
    "SAVE_PATH = \"/mnt/nfs/project/delirium/sprint_demo/APR-28-2022\"\n",
    "patients.save(SAVE_PATH, \"admin_er_2018_2020\")\n",
    "patients_labs.save(SAVE_PATH, \"labs_2018_2020\")\n",
    "patients_vitals.save(SAVE_PATH, \"vitals_2018_2020\")"
   ]
  },
  {
   "cell_type": "markdown",
   "id": "acquired-pennsylvania",
   "metadata": {},
   "source": [
    "## Example 8. Get diagnosis lookup table data for quick reference."
   ]
  },
  {
   "cell_type": "code",
   "execution_count": null,
   "id": "artistic-proposal",
   "metadata": {},
   "outputs": [],
   "source": [
    "lookup_data = gemini.get_table(\"lookup_diagnosis\")\n",
    "lookup_data.run()\n",
    "print(f\"{len(lookup_data.data)} rows extracted!\")"
   ]
  }
 ],
 "metadata": {
  "kernelspec": {
   "display_name": "cyclops",
   "language": "python",
   "name": "cyclops"
  },
  "language_info": {
   "codemirror_mode": {
    "name": "ipython",
    "version": 3
   },
   "file_extension": ".py",
   "mimetype": "text/x-python",
   "name": "python",
   "nbconvert_exporter": "python",
   "pygments_lexer": "ipython3",
   "version": "3.9.7"
  }
 },
 "nbformat": 4,
 "nbformat_minor": 5
}
