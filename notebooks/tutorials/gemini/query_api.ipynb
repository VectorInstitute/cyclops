{
 "cells": [
  {
   "cell_type": "markdown",
   "id": "attended-boston",
   "metadata": {},
   "source": [
    "### This notebook shows examples of how to use the cyclops.query API on GEMINI."
   ]
  },
  {
   "cell_type": "markdown",
   "id": "cosmetic-pasta",
   "metadata": {},
   "source": [
    "## Example 1. Get all patient encounters from delirium cohort, join with labs, limit to 100 rows."
   ]
  },
  {
   "cell_type": "code",
   "execution_count": 1,
   "id": "elementary-programmer",
   "metadata": {},
   "outputs": [
    {
     "name": "stderr",
     "output_type": "stream",
     "text": [
      "2022-04-22 15:15:25,678 \u001b[1;37mINFO\u001b[0m cyclops.config  - Log file is /mnt/nfs/home/krishnanam/vector-delirium/log.log\n",
      "2022-04-22 15:15:26,310 \u001b[1;37mINFO\u001b[0m cyclops.query.utils - Log file is /mnt/nfs/home/krishnanam/vector-delirium/log.log\n",
      "2022-04-22 15:15:26,319 \u001b[1;37mINFO\u001b[0m cyclops.utils.profile - Log file is /mnt/nfs/home/krishnanam/vector-delirium/log.log\n",
      "2022-04-22 15:15:26,325 \u001b[1;37mINFO\u001b[0m cyclops.orm     - Log file is /mnt/nfs/home/krishnanam/vector-delirium/log.log\n",
      "2022-04-22 15:15:26,331 \u001b[1;37mINFO\u001b[0m cyclops.query.interface - Log file is /mnt/nfs/home/krishnanam/vector-delirium/log.log\n",
      "2022-04-22 15:15:26,914 \u001b[1;37mINFO\u001b[0m cyclops.orm     - Database setup, ready to run queries!\n",
      "2022-04-22 15:15:27,170 \u001b[1;37mINFO\u001b[0m cyclops.orm     - Query returned successfully!\n",
      "2022-04-22 15:15:27,173 \u001b[1;37mINFO\u001b[0m cyclops.utils.profile - Finished executing function run_query in 0.249198 s\n"
     ]
    },
    {
     "name": "stdout",
     "output_type": "stream",
     "text": [
      "100 rows extracted!\n"
     ]
    }
   ],
   "source": [
    "from cyclops.processors.constants import SMH\n",
    "from cyclops.query import gemini\n",
    "\n",
    "patients = gemini.patients(delirium_cohort=True)\n",
    "patients_labs = gemini.events(patients=patients, category=\"lab\")\n",
    "patients_labs.run(limit=100)\n",
    "print(f\"{len(patients_labs.data)} rows extracted!\")"
   ]
  },
  {
   "cell_type": "markdown",
   "id": "auburn-constitutional",
   "metadata": {},
   "source": [
    "## Example 2. Get all patient encounters from delirium cohort, join diagnosis codes, filter responsible diagnoses made, limit to 100 rows."
   ]
  },
  {
   "cell_type": "code",
   "execution_count": 2,
   "id": "simple-receiver",
   "metadata": {},
   "outputs": [
    {
     "name": "stderr",
     "output_type": "stream",
     "text": [
      "2022-04-22 15:15:27,273 \u001b[1;37mINFO\u001b[0m cyclops.orm     - Query returned successfully!\n",
      "2022-04-22 15:15:27,276 \u001b[1;37mINFO\u001b[0m cyclops.utils.profile - Finished executing function run_query in 0.083230 s\n"
     ]
    },
    {
     "name": "stdout",
     "output_type": "stream",
     "text": [
      "100 rows extracted!\n"
     ]
    }
   ],
   "source": [
    "patients = gemini.patients(delirium_cohort=True)\n",
    "patients_diagnoses = gemini.diagnoses(diagnosis_types=[\"M\"], patients=patients)\n",
    "patients_diagnoses.run(limit=100)\n",
    "print(f\"{len(patients_diagnoses.data)} rows extracted!\")"
   ]
  },
  {
   "cell_type": "markdown",
   "id": "wireless-dream",
   "metadata": {},
   "source": [
    "## Example 3. Get all patient encounters from year 2020, join with labs, filter only sodium tests, limit to 100 rows."
   ]
  },
  {
   "cell_type": "code",
   "execution_count": 3,
   "id": "greater-filter",
   "metadata": {},
   "outputs": [
    {
     "name": "stderr",
     "output_type": "stream",
     "text": [
      "2022-04-22 15:15:27,457 \u001b[1;37mINFO\u001b[0m cyclops.orm     - Query returned successfully!\n",
      "2022-04-22 15:15:27,459 \u001b[1;37mINFO\u001b[0m cyclops.utils.profile - Finished executing function run_query in 0.164113 s\n"
     ]
    },
    {
     "name": "stdout",
     "output_type": "stream",
     "text": [
      "100 rows extracted!\n"
     ]
    }
   ],
   "source": [
    "patients = gemini.patients(years=[2020])\n",
    "patients_labs = gemini.events(patients=patients, labels=[\"sodium\"], category=\"lab\")\n",
    "patients_labs.run(limit=100)\n",
    "print(f\"{len(patients_labs.data)} rows extracted!\")"
   ]
  },
  {
   "cell_type": "markdown",
   "id": "legitimate-clearance",
   "metadata": {},
   "source": [
    "## Example 4. Get all patient encounters from year 2019, from the months of july and august join with interventions, limit to 1000 rows."
   ]
  },
  {
   "cell_type": "code",
   "execution_count": 6,
   "id": "limiting-empty",
   "metadata": {},
   "outputs": [
    {
     "name": "stderr",
     "output_type": "stream",
     "text": [
      "2022-04-22 15:15:55,336 \u001b[1;37mINFO\u001b[0m cyclops.orm     - Query returned successfully!\n",
      "2022-04-22 15:15:55,338 \u001b[1;37mINFO\u001b[0m cyclops.utils.profile - Finished executing function run_query in 0.097668 s\n"
     ]
    },
    {
     "name": "stdout",
     "output_type": "stream",
     "text": [
      "1000 rows extracted!\n"
     ]
    }
   ],
   "source": [
    "patients = gemini.patients(years=[2019], months=[7, 8])\n",
    "patients_interventions = gemini.events(patients=patients, category=\"intervention\")\n",
    "patients_interventions.run(limit=1000)\n",
    "print(f\"{len(patients_interventions.data)} rows extracted!\")"
   ]
  },
  {
   "cell_type": "markdown",
   "id": "miniature-engagement",
   "metadata": {},
   "source": [
    "## Example 5. Get all patient encounters from St. Michael's hospital from Jan 2020 to June 2020, join with vitals, filter Systolic BP measurements (substring match)."
   ]
  },
  {
   "cell_type": "code",
   "execution_count": 5,
   "id": "painted-breath",
   "metadata": {},
   "outputs": [
    {
     "name": "stderr",
     "output_type": "stream",
     "text": [
      "2022-04-22 15:15:30,944 \u001b[1;37mINFO\u001b[0m cyclops.orm     - Query returned successfully!\n",
      "2022-04-22 15:15:30,948 \u001b[1;37mINFO\u001b[0m cyclops.utils.profile - Finished executing function run_query in 3.326792 s\n"
     ]
    },
    {
     "name": "stdout",
     "output_type": "stream",
     "text": [
      "44774 rows extracted!\n"
     ]
    }
   ],
   "source": [
    "patients = gemini.patients(\n",
    "    hospitals=[SMH], from_date=\"2020-01-01\", to_date=\"2020-06-30\"\n",
    ")\n",
    "patients_vitals = gemini.events(patients=patients, labels=\"systolic\", category=\"vitals\")\n",
    "patients_vitals.run()\n",
    "print(f\"{len(patients_vitals.data)} rows extracted!\")"
   ]
  }
 ],
 "metadata": {
  "kernelspec": {
   "display_name": "cyclops",
   "language": "python",
   "name": "cyclops"
  },
  "language_info": {
   "codemirror_mode": {
    "name": "ipython",
    "version": 3
   },
   "file_extension": ".py",
   "mimetype": "text/x-python",
   "name": "python",
   "nbconvert_exporter": "python",
   "pygments_lexer": "ipython3",
   "version": "3.8.5"
  }
 },
 "nbformat": 4,
 "nbformat_minor": 5
}
