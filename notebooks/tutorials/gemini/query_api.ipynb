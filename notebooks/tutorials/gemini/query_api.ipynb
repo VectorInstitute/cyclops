{
 "cells": [
  {
   "cell_type": "markdown",
   "id": "attended-boston",
   "metadata": {},
   "source": [
    "### This notebook shows examples of how to use the cyclops.query API on GEMINI."
   ]
  },
  {
   "cell_type": "markdown",
   "id": "cosmetic-pasta",
   "metadata": {},
   "source": [
    "## Example 1. Get all patient encounters from delirium cohort, join with labs, limit to 100 rows."
   ]
  },
  {
   "cell_type": "code",
   "execution_count": 1,
   "id": "elementary-programmer",
   "metadata": {},
   "outputs": [
    {
     "name": "stderr",
     "output_type": "stream",
     "text": [
      "2022-04-27 08:50:42,770 \u001b[1;37mINFO\u001b[0m cyclops.config  - Log file is /mnt/nfs/home/krishnanam/vector-delirium/log.log\n",
      "2022-04-27 08:50:43,613 \u001b[1;37mINFO\u001b[0m cyclops.query.utils - Log file is /mnt/nfs/home/krishnanam/vector-delirium/log.log\n",
      "2022-04-27 08:50:43,620 \u001b[1;37mINFO\u001b[0m cyclops.utils.profile - Log file is /mnt/nfs/home/krishnanam/vector-delirium/log.log\n",
      "2022-04-27 08:50:43,632 \u001b[1;37mINFO\u001b[0m cyclops.orm     - Log file is /mnt/nfs/home/krishnanam/vector-delirium/log.log\n",
      "2022-04-27 08:50:43,638 \u001b[1;37mINFO\u001b[0m cyclops.query.interface - Log file is /mnt/nfs/home/krishnanam/vector-delirium/log.log\n",
      "2022-04-27 08:50:44,627 \u001b[1;37mINFO\u001b[0m cyclops.orm     - Database setup, ready to run queries!\n",
      "2022-04-27 08:50:44,824 \u001b[1;37mINFO\u001b[0m cyclops.orm     - Query returned successfully!\n",
      "2022-04-27 08:50:44,827 \u001b[1;37mINFO\u001b[0m cyclops.utils.profile - Finished executing function run_query in 0.187703 s\n"
     ]
    },
    {
     "name": "stdout",
     "output_type": "stream",
     "text": [
      "100 rows extracted!\n"
     ]
    }
   ],
   "source": [
    "from cyclops.processors.constants import SMH\n",
    "from cyclops.query import gemini\n",
    "\n",
    "patients = gemini.patients(delirium_cohort=True)\n",
    "patients_labs = gemini.events(patients=patients, category=\"lab\")\n",
    "patients_labs.run(limit=100)\n",
    "print(f\"{len(patients_labs.data)} rows extracted!\")"
   ]
  },
  {
   "cell_type": "markdown",
   "id": "auburn-constitutional",
   "metadata": {},
   "source": [
    "## Example 2. Get all patient encounters from delirium cohort, join diagnosis codes, filter responsible diagnoses made, limit to 100 rows."
   ]
  },
  {
   "cell_type": "code",
   "execution_count": 2,
   "id": "simple-receiver",
   "metadata": {},
   "outputs": [
    {
     "name": "stderr",
     "output_type": "stream",
     "text": [
      "2022-04-27 08:50:45,180 \u001b[1;37mINFO\u001b[0m cyclops.orm     - Query returned successfully!\n",
      "2022-04-27 08:50:45,183 \u001b[1;37mINFO\u001b[0m cyclops.utils.profile - Finished executing function run_query in 0.334929 s\n"
     ]
    },
    {
     "name": "stdout",
     "output_type": "stream",
     "text": [
      "100 rows extracted!\n"
     ]
    }
   ],
   "source": [
    "patients = gemini.patients(delirium_cohort=True)\n",
    "patients_diagnoses = gemini.diagnoses(diagnosis_types=[\"M\"], patients=patients)\n",
    "patients_diagnoses.run(limit=100)\n",
    "print(f\"{len(patients_diagnoses.data)} rows extracted!\")"
   ]
  },
  {
   "cell_type": "markdown",
   "id": "wireless-dream",
   "metadata": {},
   "source": [
    "## Example 3. Get all patient encounters from year 2020, join with labs, filter only sodium tests, limit to 100 rows."
   ]
  },
  {
   "cell_type": "code",
   "execution_count": 3,
   "id": "greater-filter",
   "metadata": {
    "scrolled": true
   },
   "outputs": [
    {
     "name": "stderr",
     "output_type": "stream",
     "text": [
      "2022-04-27 08:50:45,411 \u001b[1;37mINFO\u001b[0m cyclops.orm     - Query returned successfully!\n",
      "2022-04-27 08:50:45,415 \u001b[1;37mINFO\u001b[0m cyclops.utils.profile - Finished executing function run_query in 0.212241 s\n"
     ]
    },
    {
     "name": "stdout",
     "output_type": "stream",
     "text": [
      "100 rows extracted!\n"
     ]
    }
   ],
   "source": [
    "patients = gemini.patients(years=[2020])\n",
    "patients_labs = gemini.events(patients=patients, labels=[\"sodium\"], category=\"lab\")\n",
    "patients_labs.run(limit=100)\n",
    "print(f\"{len(patients_labs.data)} rows extracted!\")"
   ]
  },
  {
   "cell_type": "markdown",
   "id": "legitimate-clearance",
   "metadata": {},
   "source": [
    "## Example 4. Get all patient encounters from year 2019, from the months of july and august join with interventions, limit to 1000 rows."
   ]
  },
  {
   "cell_type": "code",
   "execution_count": 4,
   "id": "limiting-empty",
   "metadata": {},
   "outputs": [
    {
     "name": "stderr",
     "output_type": "stream",
     "text": [
      "2022-04-27 08:50:45,942 \u001b[1;37mINFO\u001b[0m cyclops.orm     - Query returned successfully!\n",
      "2022-04-27 08:50:45,946 \u001b[1;37mINFO\u001b[0m cyclops.utils.profile - Finished executing function run_query in 0.509603 s\n"
     ]
    },
    {
     "name": "stdout",
     "output_type": "stream",
     "text": [
      "1000 rows extracted!\n"
     ]
    }
   ],
   "source": [
    "patients = gemini.patients(years=[2019], months=[7, 8])\n",
    "patients_interventions = gemini.events(patients=patients, category=\"intervention\")\n",
    "patients_interventions.run(limit=1000)\n",
    "print(f\"{len(patients_interventions.data)} rows extracted!\")"
   ]
  },
  {
   "cell_type": "markdown",
   "id": "miniature-engagement",
   "metadata": {},
   "source": [
    "## Example 5. Get all patient encounters from St. Michael's hospital from Jan 2020 to June 2020, join with vitals, filter Systolic BP measurements (substring match)."
   ]
  },
  {
   "cell_type": "code",
   "execution_count": 5,
   "id": "painted-breath",
   "metadata": {},
   "outputs": [
    {
     "name": "stderr",
     "output_type": "stream",
     "text": [
      "2022-04-27 08:50:49,845 \u001b[1;37mINFO\u001b[0m cyclops.orm     - Query returned successfully!\n",
      "2022-04-27 08:50:49,850 \u001b[1;37mINFO\u001b[0m cyclops.utils.profile - Finished executing function run_query in 3.877923 s\n"
     ]
    },
    {
     "name": "stdout",
     "output_type": "stream",
     "text": [
      "44774 rows extracted!\n"
     ]
    }
   ],
   "source": [
    "patients = gemini.patients(\n",
    "    hospitals=[SMH], from_date=\"2020-01-01\", to_date=\"2020-06-30\"\n",
    ")\n",
    "patients_vitals = gemini.events(patients=patients, labels=\"systolic\", category=\"vitals\")\n",
    "patients_vitals.run()\n",
    "print(f\"{len(patients_vitals.data)} rows extracted!\")"
   ]
  },
  {
   "cell_type": "markdown",
   "id": "indian-colors",
   "metadata": {},
   "source": [
    "## Example 6. Get all patient encounters from all hospitals, from years [2018, 2019, 2020], join with labs and vitals (large query!!)."
   ]
  },
  {
   "cell_type": "code",
   "execution_count": 6,
   "id": "divine-county",
   "metadata": {},
   "outputs": [
    {
     "name": "stderr",
     "output_type": "stream",
     "text": [
      "2022-04-27 08:50:52,896 \u001b[1;37mINFO\u001b[0m cyclops.orm     - Query returned successfully!\n",
      "2022-04-27 08:50:52,900 \u001b[1;37mINFO\u001b[0m cyclops.utils.profile - Finished executing function run_query in 2.977458 s\n",
      "2022-04-27 09:01:16,234 \u001b[1;37mINFO\u001b[0m cyclops.orm     - Query returned successfully!\n",
      "2022-04-27 09:01:16,254 \u001b[1;37mINFO\u001b[0m cyclops.utils.profile - Finished executing function run_query in 623.351256 s\n",
      "2022-04-27 09:04:53,780 \u001b[1;37mINFO\u001b[0m cyclops.orm     - Query returned successfully!\n",
      "2022-04-27 09:04:53,792 \u001b[1;37mINFO\u001b[0m cyclops.utils.profile - Finished executing function run_query in 217.532059 s\n",
      "2022-04-27 09:04:53,798 \u001b[1;37mINFO\u001b[0m cyclops.query.interface - Saving queried data to /mnt/nfs/project/delirium/drift_exp/admin_er_allhosp_2018_2020.gzip\n"
     ]
    },
    {
     "name": "stdout",
     "output_type": "stream",
     "text": [
      "90699 rows extracted!\n",
      "10684768 rows extracted!\n",
      "5831063 rows extracted!\n"
     ]
    },
    {
     "name": "stderr",
     "output_type": "stream",
     "text": [
      "2022-04-27 09:04:54,894 \u001b[1;37mINFO\u001b[0m cyclops.query.interface - Saving queried data to /mnt/nfs/project/delirium/drift_exp/labs_allhosp_2018_2020.gzip\n",
      "2022-04-27 09:05:51,502 \u001b[1;37mINFO\u001b[0m cyclops.query.interface - Saving queried data to /mnt/nfs/project/delirium/drift_exp/vitals_allhosp_2018_2020.gzip\n"
     ]
    }
   ],
   "source": [
    "patients = gemini.patients(years=[2018, 2019, 2020], include_er_data=True)\n",
    "patients_labs = gemini.events(patients=patients, category=\"lab\")\n",
    "patients_vitals = gemini.events(patients=patients, category=\"vitals\")\n",
    "patients.run()\n",
    "patients_labs.run()\n",
    "patients_vitals.run()\n",
    "print(f\"{len(patients.data)} rows extracted!\")\n",
    "print(f\"{len(patients_labs.data)} rows extracted!\")\n",
    "print(f\"{len(patients_vitals.data)} rows extracted!\")\n",
    "\n",
    "SAVE_PATH = \"/mnt/nfs/project/delirium/drift_exp\"\n",
    "patients.save(SAVE_PATH, \"admin_er_allhosp_2018_2020\")\n",
    "patients_labs.save(SAVE_PATH, \"labs_allhosp_2018_2020\")\n",
    "patients_vitals.save(SAVE_PATH, \"vitals_allhosp_2018_2020\")"
   ]
  }
 ],
 "metadata": {
  "kernelspec": {
   "display_name": "cyclops",
   "language": "python",
   "name": "cyclops"
  },
  "language_info": {
   "codemirror_mode": {
    "name": "ipython",
    "version": 3
   },
   "file_extension": ".py",
   "mimetype": "text/x-python",
   "name": "python",
   "nbconvert_exporter": "python",
   "pygments_lexer": "ipython3",
   "version": "3.8.5"
  }
 },
 "nbformat": 4,
 "nbformat_minor": 5
}
