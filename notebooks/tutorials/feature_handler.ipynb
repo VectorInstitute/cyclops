{
 "cells": [
  {
   "cell_type": "markdown",
   "id": "cd97cd9a",
   "metadata": {},
   "source": [
    "## This notebook demonstrates how to use the feature handler using some examples."
   ]
  },
  {
   "cell_type": "markdown",
   "id": "2aac8596",
   "metadata": {},
   "source": [
    "## Example 1. Create some dummy numerical features, add to the handler and view the scaled (using standard z-score scaling) and unscaled features."
   ]
  },
  {
   "cell_type": "code",
   "execution_count": 1,
   "id": "a989c11c",
   "metadata": {},
   "outputs": [
    {
     "name": "stderr",
     "output_type": "stream",
     "text": [
      "2022-03-31 11:27:14,180 \u001b[1;37mINFO\u001b[0m cyclops.processors.feature_handler - Log file is /home/amritk/projects/cyclops/log.log\n"
     ]
    },
    {
     "name": "stdout",
     "output_type": "stream",
     "text": [
      "   feature1  feature2  feature3\n",
      "0      10.0       9.1       3.0\n",
      "1      14.0      99.9       0.0\n",
      "2      13.0      50.0       0.8\n",
      "4       NaN       NaN       NaN\n",
      "   feature1  feature2  feature3\n",
      "0      10.0       9.1       3.0\n",
      "1      14.0      99.9       0.0\n",
      "2      13.0      50.0       0.8\n",
      "4       NaN       NaN       NaN\n",
      "   feature1  feature2  feature3\n",
      "0 -1.372813 -1.182345  1.366530\n",
      "1  0.980581  1.263143 -0.998618\n",
      "2  0.392232 -0.080798 -0.367912\n",
      "4       NaN       NaN       NaN\n"
     ]
    }
   ],
   "source": [
    "import pandas as pd\n",
    "\n",
    "from cyclops.processors.feature_handler import FeatureHandler\n",
    "\n",
    "feature_names = [\"feature1\", \"feature2\", \"feature3\"]\n",
    "example_features = pd.DataFrame(index=[0, 1, 2, 4], columns=feature_names)\n",
    "example_features.loc[0] = [10, 9.1, 3]\n",
    "example_features.loc[1] = [14, 99.9, 0]\n",
    "example_features.loc[2] = [13, 50, 0.8]\n",
    "feature_handler = FeatureHandler(normalization_method=\"standard\")\n",
    "feature_handler.add_features(example_features)\n",
    "\n",
    "print(feature_handler.features)\n",
    "print(feature_handler.unscaled)\n",
    "print(feature_handler.scaled)"
   ]
  },
  {
   "cell_type": "markdown",
   "id": "c208b595",
   "metadata": {},
   "source": [
    "## Example 2. Add same example features to the handler and view the scaled (using min-max scaling) and unscaled features."
   ]
  },
  {
   "cell_type": "code",
   "execution_count": 2,
   "id": "a6a0dcbf",
   "metadata": {},
   "outputs": [
    {
     "name": "stdout",
     "output_type": "stream",
     "text": [
      "   feature1  feature2  feature3\n",
      "0      10.0       9.1       3.0\n",
      "1      14.0      99.9       0.0\n",
      "2      13.0      50.0       0.8\n",
      "4       NaN       NaN       NaN\n",
      "   feature1  feature2  feature3\n",
      "0      10.0       9.1       3.0\n",
      "1      14.0      99.9       0.0\n",
      "2      13.0      50.0       0.8\n",
      "4       NaN       NaN       NaN\n",
      "   feature1  feature2  feature3\n",
      "0      0.00  0.000000  1.000000\n",
      "1      1.00  1.000000  0.000000\n",
      "2      0.75  0.450441  0.266667\n",
      "4       NaN       NaN       NaN\n"
     ]
    }
   ],
   "source": [
    "feature_handler = FeatureHandler(normalization_method=\"min-max\")\n",
    "feature_handler.add_features(example_features)\n",
    "\n",
    "print(feature_handler.features)\n",
    "print(feature_handler.unscaled)\n",
    "print(feature_handler.scaled)"
   ]
  },
  {
   "cell_type": "markdown",
   "id": "3b1463a6",
   "metadata": {},
   "source": [
    "## Example 3. Add 2 numerical features and 1 categorical feature, inspect names and types of features."
   ]
  },
  {
   "cell_type": "markdown",
   "id": "d8605115",
   "metadata": {},
   "source": [
    "#### Note that categorical features have to be encoded using string alphabet characters, else will be treated as numeric features. Missing rows in a categorical feature i.e. NaNs, are automatically converted to a new missing category. \n",
    "\n",
    "#### Categorical features with more than 2 categories are automatically one-hot encoded to binary variables."
   ]
  },
  {
   "cell_type": "code",
   "execution_count": 3,
   "id": "0d95e019",
   "metadata": {},
   "outputs": [
    {
     "name": "stdout",
     "output_type": "stream",
     "text": [
      "   feature1-A  feature1-B  feature1-C  feature1-MISSING_CATEGORY  feature2  \\\n",
      "0           1           0           0                          0       9.1   \n",
      "1           0           1           0                          0      99.9   \n",
      "2           0           0           1                          0      50.0   \n",
      "4           0           0           0                          1       NaN   \n",
      "3           1           0           0                          0      50.0   \n",
      "\n",
      "   feature3  \n",
      "0       2.0  \n",
      "1       1.0  \n",
      "2       0.0  \n",
      "4       NaN  \n",
      "3       3.0  \n",
      "   feature1-A  feature1-B  feature1-C  feature1-MISSING_CATEGORY  feature2  \\\n",
      "0           1           0           0                          0 -1.340837   \n",
      "1           0           1           0                          0  1.480669   \n",
      "2           0           0           1                          0 -0.069916   \n",
      "4           0           0           0                          1       NaN   \n",
      "3           1           0           0                          0 -0.069916   \n",
      "\n",
      "   feature3  \n",
      "0  0.447214  \n",
      "1 -0.447214  \n",
      "2 -1.341641  \n",
      "4       NaN  \n",
      "3  1.341641  \n",
      "['feature1-A', 'feature1-B', 'feature1-C', 'feature1-MISSING_CATEGORY', 'feature2', 'feature3']\n",
      "{'feature1-A': 'binary', 'feature1-B': 'binary', 'feature1-C': 'binary', 'feature1-MISSING_CATEGORY': 'binary', 'feature2': 'numeric', 'feature3': 'numeric'}\n",
      "['feature1-A', 'feature1-B', 'feature1-C', 'feature1-MISSING_CATEGORY']\n",
      "['feature2', 'feature3']\n"
     ]
    }
   ],
   "source": [
    "feature_names = [\"feature1\", \"feature2\", \"feature3\"]\n",
    "example_features = pd.DataFrame(index=[0, 1, 2, 4], columns=feature_names)\n",
    "example_features.loc[0] = [\"A\", 9.1, 2]\n",
    "example_features.loc[1] = [\"B\", 99.9, 1]\n",
    "example_features.loc[2] = [\"C\", 50, 0]\n",
    "example_features.loc[3] = [\"A\", 50, 3]\n",
    "\n",
    "feature_handler = FeatureHandler()\n",
    "feature_handler.add_features(example_features)\n",
    "\n",
    "print(feature_handler.features)\n",
    "print(feature_handler.scaled)\n",
    "print(feature_handler.names)\n",
    "print(feature_handler.types)\n",
    "\n",
    "print(feature_handler.get_categorical_features())\n",
    "print(feature_handler.get_numerical_features())"
   ]
  },
  {
   "cell_type": "markdown",
   "id": "3193ba4a",
   "metadata": {},
   "source": [
    "## Example 4. Add 2 numerical features, drop one of them."
   ]
  },
  {
   "cell_type": "code",
   "execution_count": 4,
   "id": "8b67e299",
   "metadata": {},
   "outputs": [
    {
     "name": "stdout",
     "output_type": "stream",
     "text": [
      "   feature1  feature2\n",
      "0       9.1       2.0\n",
      "1      99.9       1.0\n",
      "2      50.0       0.0\n",
      "4       NaN       NaN\n",
      "3      50.0       3.0\n",
      "['feature1', 'feature2']\n",
      "   feature2\n",
      "0       2.0\n",
      "1       1.0\n",
      "2       0.0\n",
      "4       NaN\n",
      "3       3.0\n",
      "['feature2']\n"
     ]
    }
   ],
   "source": [
    "feature_names = [\"feature1\", \"feature2\"]\n",
    "example_features = pd.DataFrame(index=[0, 1, 2, 4], columns=feature_names)\n",
    "example_features.loc[0] = [9.1, 2]\n",
    "example_features.loc[1] = [99.9, 1]\n",
    "example_features.loc[2] = [50, 0]\n",
    "example_features.loc[3] = [50, 3]\n",
    "\n",
    "feature_handler = FeatureHandler()\n",
    "feature_handler.add_features(example_features)\n",
    "\n",
    "print(feature_handler.features)\n",
    "print(feature_handler.get_numerical_features())\n",
    "feature_handler.drop_features(\"feature1\")\n",
    "print(feature_handler.features)\n",
    "print(feature_handler.get_numerical_features())"
   ]
  },
  {
   "cell_type": "markdown",
   "id": "658de516",
   "metadata": {},
   "source": [
    "## Example 5. Add 2 numerical features, make one of them a target variable."
   ]
  },
  {
   "cell_type": "code",
   "execution_count": 5,
   "id": "b449787b",
   "metadata": {},
   "outputs": [
    {
     "name": "stdout",
     "output_type": "stream",
     "text": [
      "   feature1  feature2\n",
      "0       9.1       2.0\n",
      "1      99.9       1.0\n",
      "2      50.0       0.0\n",
      "4       NaN       NaN\n",
      "3      50.0       3.0\n",
      "['feature1', 'feature2']\n",
      "['feature1']\n"
     ]
    }
   ],
   "source": [
    "feature_names = [\"feature1\", \"feature2\"]\n",
    "example_features = pd.DataFrame(index=[0, 1, 2, 4], columns=feature_names)\n",
    "example_features.loc[0] = [9.1, 2]\n",
    "example_features.loc[1] = [99.9, 1]\n",
    "example_features.loc[2] = [50, 0]\n",
    "example_features.loc[3] = [50, 3]\n",
    "\n",
    "feature_handler = FeatureHandler()\n",
    "feature_handler.add_features(example_features)\n",
    "\n",
    "print(feature_handler.features)\n",
    "print(feature_handler.get_numerical_features())\n",
    "feature_handler.set_targets(\"feature1\")\n",
    "print(feature_handler.targets)"
   ]
  }
 ],
 "metadata": {
  "kernelspec": {
   "display_name": "Python 3 (ipykernel)",
   "language": "python",
   "name": "python3"
  },
  "language_info": {
   "codemirror_mode": {
    "name": "ipython",
    "version": 3
   },
   "file_extension": ".py",
   "mimetype": "text/x-python",
   "name": "python",
   "nbconvert_exporter": "python",
   "pygments_lexer": "ipython3",
   "version": "3.8.5"
  }
 },
 "nbformat": 4,
 "nbformat_minor": 5
}
