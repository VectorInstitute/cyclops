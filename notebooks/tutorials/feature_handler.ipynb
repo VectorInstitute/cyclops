{
 "cells": [
  {
   "cell_type": "code",
   "execution_count": null,
   "id": "a989c11c",
   "metadata": {},
   "outputs": [],
   "source": [
    "import numpy as np\n",
    "import pandas as pd"
   ]
  },
  {
   "cell_type": "code",
   "execution_count": null,
   "id": "a6a0dcbf",
   "metadata": {},
   "outputs": [],
   "source": []
  },
  {
   "cell_type": "code",
   "execution_count": null,
   "id": "71637926",
   "metadata": {},
   "outputs": [],
   "source": [
    "arr_numeric = np.array([[1.5, 5.2, 10], [23, 10.4, 9], [3.9, 15.1, 8], [4.9, 20, 7], [5, 25.5, 6]])\n",
    "arr_numeric_string = np.array([[\"1\"], [\"2\"], [\"3\"], [\"4\"], [\"5\"]])\n",
    "arr_binary = np.array([[1, 0], [0, 0], [1, 0], [1, 1], [0, 1]])\n",
    "arr_binary_string = np.array([[\"X\", \"XX\"], [\"X\", \"XX\"], [\"XX\", \"X\"], [\"X\", \"X\"], [\"XX\", \"XX\"]])\n",
    "arr_categorical = np.array([[\"A\"], [\"B\"], [\"C\"], [\"B\"], [\"A\"]])\n",
    "arr = np.concatenate([arr_numeric, arr_numeric_string, arr_binary, arr_binary_string, arr_categorical], axis=1)\n",
    "arr"
   ]
  },
  {
   "cell_type": "code",
   "execution_count": null,
   "id": "0d95e019",
   "metadata": {},
   "outputs": [],
   "source": [
    "arr_categorical_targets = np.array([\"T1\", \"T2\", \"T3\", \"T2\", \"T1\"])\n",
    "arr_categorical_targets"
   ]
  },
  {
   "cell_type": "code",
   "execution_count": null,
   "id": "e44eb8af",
   "metadata": {},
   "outputs": [],
   "source": [
    "fs = FeatureHandler()\n",
    "fs.add_features(arr)\n",
    "fs.add_features(arr_categorical_targets, is_target=True)"
   ]
  },
  {
   "cell_type": "code",
   "execution_count": null,
   "id": "2a1d432d",
   "metadata": {},
   "outputs": [],
   "source": [
    "arr_object = np.array([[\"this\"], [\"is\"], [\"an\"], [\"object\"], [\"feature\"]])\n",
    "fs.add_object(arr_object)"
   ]
  },
  {
   "cell_type": "code",
   "execution_count": null,
   "id": "99000525",
   "metadata": {},
   "outputs": [],
   "source": [
    "fs.names"
   ]
  },
  {
   "cell_type": "code",
   "execution_count": null,
   "id": "ea7d4a34",
   "metadata": {},
   "outputs": [],
   "source": [
    "fs.types"
   ]
  },
  {
   "cell_type": "code",
   "execution_count": null,
   "id": "0e66c63a",
   "metadata": {},
   "outputs": [],
   "source": [
    "fs.is_target"
   ]
  },
  {
   "cell_type": "code",
   "execution_count": null,
   "id": "d78e1bbb",
   "metadata": {},
   "outputs": [],
   "source": [
    "fs.df_unscaled"
   ]
  },
  {
   "cell_type": "code",
   "execution_count": null,
   "id": "9b8d36b8",
   "metadata": {},
   "outputs": [],
   "source": [
    "fs.df_scaled"
   ]
  },
  {
   "cell_type": "code",
   "execution_count": null,
   "id": "42703a0a",
   "metadata": {},
   "outputs": [],
   "source": [
    "fs.features_unscaled"
   ]
  },
  {
   "cell_type": "code",
   "execution_count": null,
   "id": "25c18ff7",
   "metadata": {},
   "outputs": [],
   "source": [
    "fs.features_scaled"
   ]
  },
  {
   "cell_type": "code",
   "execution_count": null,
   "id": "bfa110ee",
   "metadata": {},
   "outputs": [],
   "source": [
    "fs.targets_unscaled"
   ]
  },
  {
   "cell_type": "code",
   "execution_count": null,
   "id": "50ccf96e",
   "metadata": {},
   "outputs": [],
   "source": [
    "fs.targets_scaled"
   ]
  },
  {
   "cell_type": "code",
   "execution_count": null,
   "id": "8703aa1f",
   "metadata": {},
   "outputs": [],
   "source": [
    "fs.drop_features('feature4')\n",
    "fs.drop_features(['feature2', 'feature3'])\n",
    "fs.df_scaled"
   ]
  },
  {
   "cell_type": "code",
   "execution_count": null,
   "id": "ed765834",
   "metadata": {},
   "outputs": [],
   "source": [
    "fs.drop_features('feature8-B')\n",
    "fs.df_scaled"
   ]
  },
  {
   "cell_type": "code",
   "execution_count": null,
   "id": "ca16fa37",
   "metadata": {},
   "outputs": [],
   "source": [
    "fs.drop_features(['feature1', 'feature8'])\n",
    "fs.df_scaled"
   ]
  },
  {
   "cell_type": "code",
   "execution_count": null,
   "id": "d76c44b0",
   "metadata": {},
   "outputs": [],
   "source": [
    "fs.df_unscaled"
   ]
  },
  {
   "cell_type": "code",
   "execution_count": null,
   "id": "3800158a",
   "metadata": {},
   "outputs": [],
   "source": [
    "train_df, val_df = fs.split([0.3, 0.7])"
   ]
  },
  {
   "cell_type": "code",
   "execution_count": null,
   "id": "05e11f54",
   "metadata": {},
   "outputs": [],
   "source": [
    "train_df"
   ]
  },
  {
   "cell_type": "code",
   "execution_count": null,
   "id": "a6a65e0a",
   "metadata": {},
   "outputs": [],
   "source": [
    "val_df"
   ]
  },
  {
   "cell_type": "code",
   "execution_count": null,
   "id": "33f1857a",
   "metadata": {},
   "outputs": [],
   "source": [
    "# initialize data of lists.\n",
    "data = {'Name':['Tom', 'nick', 'krish', 'jack'],\n",
    "        'Age':[20, 21, 19, 18]}\n",
    " \n",
    "# Create DataFrame\n",
    "df = pd.DataFrame(data)\n",
    "df"
   ]
  },
  {
   "cell_type": "code",
   "execution_count": null,
   "id": "9e68fd48",
   "metadata": {},
   "outputs": [],
   "source": [
    "fs = FeatureHandler()\n",
    "fs.add_features(df)\n",
    "fs.df"
   ]
  },
  {
   "cell_type": "code",
   "execution_count": null,
   "id": "a0e36f58",
   "metadata": {},
   "outputs": [],
   "source": [
    "fs.names"
   ]
  },
  {
   "cell_type": "code",
   "execution_count": null,
   "id": "2322a10e",
   "metadata": {},
   "outputs": [],
   "source": [
    "fs.types"
   ]
  }
 ],
 "metadata": {
  "kernelspec": {
   "display_name": "cyclops-env",
   "language": "python",
   "name": "cyclops-env"
  },
  "language_info": {
   "codemirror_mode": {
    "name": "ipython",
    "version": 3
   },
   "file_extension": ".py",
   "mimetype": "text/x-python",
   "name": "python",
   "nbconvert_exporter": "python",
   "pygments_lexer": "ipython3",
   "version": "3.8.10"
  }
 },
 "nbformat": 4,
 "nbformat_minor": 5
}
