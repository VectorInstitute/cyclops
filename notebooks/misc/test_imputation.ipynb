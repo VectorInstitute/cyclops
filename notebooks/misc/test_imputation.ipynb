{
 "cells": [
  {
   "cell_type": "code",
   "execution_count": 1,
   "id": "a91e0891-aa7a-4716-9245-db93e7ba5bd3",
   "metadata": {},
   "outputs": [],
   "source": [
    "import timeit\n",
    "from typing import Any, Callable, Optional, Union\n",
    "\n",
    "import numpy as np\n",
    "import pandas as pd\n",
    "\n",
    "from cyclops.utils.common import array_series_conversion"
   ]
  },
  {
   "cell_type": "code",
   "execution_count": 64,
   "id": "d5a20d13-dc48-4f6c-855c-dc51165ba906",
   "metadata": {},
   "outputs": [],
   "source": [
    "def random_mask(n: int, percent_true: float = 0.5) -> np.ndarray:\n",
    "    mask = np.full(n, False)\n",
    "    mask[: int(n * percent_true)] = True\n",
    "    np.random.shuffle(mask)\n",
    "    return mask"
   ]
  },
  {
   "cell_type": "code",
   "execution_count": 139,
   "id": "0c0ab868-681e-43a3-9ae9-00aed27dc7f7",
   "metadata": {},
   "outputs": [
    {
     "data": {
      "text/plain": [
       "array([ 0.,  1.,  2.,  3.,  4., nan,  6.,  7.,  8.,  9.])"
      ]
     },
     "execution_count": 139,
     "metadata": {},
     "output_type": "execute_result"
    }
   ],
   "source": [
    "n = 1000000\n",
    "arr = np.arange(n).astype(float)\n",
    "nan_mask = random_mask(n)\n",
    "arr[nan_mask] = np.nan\n",
    "arr[:10]"
   ]
  },
  {
   "cell_type": "code",
   "execution_count": null,
   "id": "b3cb211e-4095-4eb4-9d64-5f5ecf63ee11",
   "metadata": {},
   "outputs": [],
   "source": [
    "# class Imputer1D"
   ]
  },
  {
   "cell_type": "code",
   "execution_count": 141,
   "id": "518995f2-9401-4f2f-91e8-7b67c51b5444",
   "metadata": {},
   "outputs": [],
   "source": [
    "def np_ffill(arr: np.ndarray) -> np.ndarray:\n",
    "    mask = np.isnan(arr)\n",
    "    idx = np.where(~mask, np.arange(mask.shape[0]), 0)\n",
    "    idx = np.maximum.accumulate(idx, axis=0, out=idx)\n",
    "    return arr[idx]"
   ]
  },
  {
   "cell_type": "code",
   "execution_count": 142,
   "id": "364d1f31-1922-4192-b4dc-4557008ab785",
   "metadata": {},
   "outputs": [],
   "source": [
    "def np_bfill(arr: np.ndarray) -> np.ndarray:\n",
    "    mask = np.isnan(arr)\n",
    "    idx = np.where(~mask, np.arange(mask.shape[0]), mask.shape[0] - 1)\n",
    "    idx = np.minimum.accumulate(idx[::-1], axis=0)[::-1]\n",
    "    return arr[idx]"
   ]
  },
  {
   "cell_type": "code",
   "execution_count": 143,
   "id": "e70566fb-2fb5-4ec7-8228-0c0b1ad4ff26",
   "metadata": {},
   "outputs": [],
   "source": [
    "def ffill(data: Union[np.ndarray, pd.Series]) -> Union[np.ndarray, pd.Series]:\n",
    "    if isinstance(data, pd.Series):\n",
    "        return data.ffill()\n",
    "    if isinstance(data, np.ndarray):\n",
    "        n = data.shape[0]\n",
    "        if n < 100000:\n",
    "            return np_ffill(data)\n",
    "        else:\n",
    "            return pd.Series(data).ffill().values"
   ]
  },
  {
   "cell_type": "code",
   "execution_count": 144,
   "id": "363535f5-e4b7-44b0-b1aa-3819b58a8ee9",
   "metadata": {},
   "outputs": [],
   "source": [
    "def bfill(data: Union[np.ndarray, pd.Series]) -> Union[np.ndarray, pd.Series]:\n",
    "    if isinstance(data, pd.Series):\n",
    "        return data.bfill()\n",
    "    if isinstance(data, np.ndarray):\n",
    "        n = data.shape[0]\n",
    "        if n <= 100000:\n",
    "            return np_bfill(data)\n",
    "        else:\n",
    "            return pd.Series(data).bfill().values"
   ]
  },
  {
   "cell_type": "code",
   "execution_count": null,
   "id": "d174eb27-37be-4106-98a2-5b92c7e9947a",
   "metadata": {},
   "outputs": [],
   "source": [
    "# Add to normalization - e.g., get rid of \".values\" and handling of pandas series!\n",
    "# Can also be used for imputation"
   ]
  },
  {
   "cell_type": "code",
   "execution_count": 243,
   "id": "852e6b7a-8300-4b47-8096-470d94de7aa1",
   "metadata": {},
   "outputs": [
    {
     "name": "stdout",
     "output_type": "stream",
     "text": [
      "<class 'numpy.ndarray'>\n",
      "<class 'NoneType'>\n"
     ]
    }
   ],
   "source": [
    "ffill(arr)"
   ]
  },
  {
   "cell_type": "code",
   "execution_count": 146,
   "id": "fbec9ef7-05ac-47fe-ad68-96bc58ec522d",
   "metadata": {},
   "outputs": [
    {
     "data": {
      "text/plain": [
       "array([ 0.,  1.,  2., ..., nan, nan, nan])"
      ]
     },
     "execution_count": 146,
     "metadata": {},
     "output_type": "execute_result"
    }
   ],
   "source": [
    "bfill(arr)"
   ]
  },
  {
   "cell_type": "code",
   "execution_count": 117,
   "id": "6a5a7ca0-9a0e-48f7-a88d-19af7bc1c8b0",
   "metadata": {},
   "outputs": [
    {
     "name": "stdout",
     "output_type": "stream",
     "text": [
      "1.17 ms ± 16.4 µs per loop (mean ± std. dev. of 7 runs, 1,000 loops each)\n"
     ]
    }
   ],
   "source": [
    "%timeit np_ffill(arr)"
   ]
  },
  {
   "cell_type": "code",
   "execution_count": 118,
   "id": "de60d90b-4834-4e93-b3d3-f1614914974f",
   "metadata": {},
   "outputs": [
    {
     "name": "stdout",
     "output_type": "stream",
     "text": [
      "1.18 ms ± 20.2 µs per loop (mean ± std. dev. of 7 runs, 1,000 loops each)\n"
     ]
    }
   ],
   "source": [
    "%timeit pd.Series(arr).ffill()"
   ]
  },
  {
   "cell_type": "code",
   "execution_count": 119,
   "id": "9bb4b678-91b5-4331-bde6-2053633a612c",
   "metadata": {},
   "outputs": [],
   "source": [
    "series = pd.Series(arr)"
   ]
  },
  {
   "cell_type": "code",
   "execution_count": 120,
   "id": "1c8130d0-a13c-408d-9eb4-cbbd628abe96",
   "metadata": {},
   "outputs": [
    {
     "name": "stdout",
     "output_type": "stream",
     "text": [
      "1.13 ms ± 11.7 µs per loop (mean ± std. dev. of 7 runs, 1,000 loops each)\n"
     ]
    }
   ],
   "source": [
    "%timeit series.ffill()"
   ]
  },
  {
   "cell_type": "code",
   "execution_count": 121,
   "id": "9c469f40-6d57-472e-b2b6-c53e889d0f30",
   "metadata": {},
   "outputs": [
    {
     "name": "stdout",
     "output_type": "stream",
     "text": [
      "1.23 ms ± 46.6 µs per loop (mean ± std. dev. of 7 runs, 1,000 loops each)\n"
     ]
    }
   ],
   "source": [
    "%timeit pd.Series(np_ffill(series.values))"
   ]
  }
 ],
 "metadata": {
  "kernelspec": {
   "display_name": "cyclops-env",
   "language": "python",
   "name": "cyclops-env"
  },
  "language_info": {
   "codemirror_mode": {
    "name": "ipython",
    "version": 3
   },
   "file_extension": ".py",
   "mimetype": "text/x-python",
   "name": "python",
   "nbconvert_exporter": "python",
   "pygments_lexer": "ipython3",
   "version": "3.8.5"
  }
 },
 "nbformat": 4,
 "nbformat_minor": 5
}
