{
 "cells": [
  {
   "cell_type": "code",
   "execution_count": null,
   "id": "06d2d260",
   "metadata": {},
   "outputs": [],
   "source": [
    "import time\n",
    "\n",
    "import pandas as pd\n",
    "\n",
    "import cyclops.query.mimiciv as mimic\n",
    "from cyclops.query import process as qp\n",
    "from cyclops.query.mimiciv import SUBJECT_ID\n",
    "from cyclops.workflow.task import join_queries_flow, normalize_events_flow"
   ]
  },
  {
   "cell_type": "code",
   "execution_count": null,
   "id": "4409f166",
   "metadata": {},
   "outputs": [],
   "source": [
    "events = mimic.events().run(limit=1000)"
   ]
  },
  {
   "cell_type": "code",
   "execution_count": null,
   "id": "84e4a470",
   "metadata": {},
   "outputs": [],
   "source": [
    "normalize_events_flow(events).result()"
   ]
  },
  {
   "cell_type": "code",
   "execution_count": null,
   "id": "c1511ce7",
   "metadata": {},
   "outputs": [],
   "source": [
    "patients = mimic.patients()\n",
    "patient_diagnoses = mimic.patient_diagnoses()"
   ]
  },
  {
   "cell_type": "code",
   "execution_count": null,
   "id": "621ff0a7",
   "metadata": {},
   "outputs": [],
   "source": [
    "patients_df = patients.run()"
   ]
  },
  {
   "cell_type": "code",
   "execution_count": null,
   "id": "a777e864",
   "metadata": {},
   "outputs": [],
   "source": [
    "patient_diagnoses_df = patient_diagnoses.run()"
   ]
  },
  {
   "cell_type": "code",
   "execution_count": null,
   "id": "c9421536",
   "metadata": {},
   "outputs": [],
   "source": [
    "t = time.time()\n",
    "merged = pd.merge(patients_df, patient_diagnoses_df)\n",
    "time.time() - t"
   ]
  },
  {
   "cell_type": "code",
   "execution_count": null,
   "id": "d9bd61ef",
   "metadata": {},
   "outputs": [],
   "source": [
    "# Run queries, join in pandas\n",
    "1.500441 + 25.672523 + 3.3360862731933594"
   ]
  },
  {
   "cell_type": "code",
   "execution_count": null,
   "id": "aa3cbe6e",
   "metadata": {},
   "outputs": [],
   "source": [
    "# Perform join in SQLAlchemy\n",
    "39.795473\n",
    "\n",
    "# Join in SQLAlchemy 12.622509\n",
    "# Join in Pandas 3.336086\n",
    "39.795473 - (1.500441 + 25.672523)"
   ]
  },
  {
   "cell_type": "markdown",
   "id": "6401d703",
   "metadata": {},
   "source": [
    "Check out Pandas serializer: https://docs.prefect.io/api/latest/engine/serializers.html\n",
    "\n",
    "Override their write method for ours? Save directly instead of running/using their save\n",
    "\n",
    "This should save some time. Especially if we save to .csv. Also, if that's where they're sorting the DataFrame, then this could be a serious time save.\n",
    "\n",
    "Do this by defining a custom serialize function?\n",
    "https://orion-docs.prefect.io/api-ref/prefect/flows/#prefect.flows.Flow.serialize_parameters\n",
    "\n",
    "https://github.com/PrefectHQ/prefect/blob/master/src/prefect/engine/serializers.py"
   ]
  },
  {
   "cell_type": "code",
   "execution_count": null,
   "id": "bb60010c",
   "metadata": {},
   "outputs": [],
   "source": [
    "query = qp.Join(patients.query, on=SUBJECT_ID)(patient_diagnoses.query)\n",
    "mimic.get_interface(query).run()"
   ]
  },
  {
   "cell_type": "code",
   "execution_count": null,
   "id": "6aace91b",
   "metadata": {},
   "outputs": [],
   "source": [
    "t = time.time()\n",
    "join_flow = join_queries_flow(patient_diagnoses, patients, on=[SUBJECT_ID])\n",
    "print(time.time() - t)\n",
    "join_flow.result()"
   ]
  }
 ],
 "metadata": {
  "kernelspec": {
   "display_name": "cyclops",
   "language": "python",
   "name": "cyclops"
  },
  "language_info": {
   "codemirror_mode": {
    "name": "ipython",
    "version": 3
   },
   "file_extension": ".py",
   "mimetype": "text/x-python",
   "name": "python",
   "nbconvert_exporter": "python",
   "pygments_lexer": "ipython3",
   "version": "3.9.7"
  }
 },
 "nbformat": 4,
 "nbformat_minor": 5
}
