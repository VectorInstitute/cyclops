{
 "cells": [
  {
   "cell_type": "code",
   "execution_count": null,
   "id": "1ebe0fb8-51a4-41aa-ba5d-a0e4e737ab9f",
   "metadata": {},
   "outputs": [],
   "source": [
    "from cyclops.query import gemini\n",
    "import cyclops.query.process as qp"
   ]
  },
  {
   "cell_type": "code",
   "execution_count": null,
   "id": "25c37a61-0605-4929-bd9c-03deba032c3e",
   "metadata": {},
   "outputs": [],
   "source": [
    "import cyclops.query.process as qp\n",
    "\n",
    "bt_substrings = ['platelet', 'albumin', 'plasma']\n",
    "bt_names = [\"bt_\" + sub for sub in bt_substrings]\n",
    "\n",
    "# DON'T FORGET TO ADD \"before_date\" FOR COVID!\n",
    "blood_transfusions = gemini.blood_transfusions(\n",
    "    blood_product_raw_substring=bt_substrings,\n",
    ").query\n",
    "\n",
    "blood_transfusions = qp.Rename({\"rbc_mapped\": \"bt_rbc\"})(blood_transfusions)\n",
    "\n",
    "for i, sub in enumerate(bt_substrings):\n",
    "    blood_transfusions = qp.ConditionSubstring(\n",
    "        \"blood_product_raw\", sub, binarize_col=bt_names[i]\n",
    "    )(blood_transfusions)\n",
    "\n",
    "# Cast boolean columns to 0-1 integer columns\n",
    "blood_transfusions = qp.Cast([\"bt_rbc\"] + bt_names, \"int\")(blood_transfusions)\n",
    "\n",
    "gemini.get_interface(blood_transfusions).run()"
   ]
  },
  {
   "cell_type": "code",
   "execution_count": null,
   "id": "87edcb84-26b7-41cf-b339-e5f09bf250c0",
   "metadata": {},
   "outputs": [],
   "source": []
  }
 ],
 "metadata": {
  "kernelspec": {
   "display_name": "cyclops_env",
   "language": "python",
   "name": "cyclops_env"
  },
  "language_info": {
   "codemirror_mode": {
    "name": "ipython",
    "version": 3
   },
   "file_extension": ".py",
   "mimetype": "text/x-python",
   "name": "python",
   "nbconvert_exporter": "python",
   "pygments_lexer": "ipython3",
   "version": "3.9.7"
  }
 },
 "nbformat": 4,
 "nbformat_minor": 5
}
