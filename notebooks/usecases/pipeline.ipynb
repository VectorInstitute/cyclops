{
 "cells": [
  {
   "cell_type": "markdown",
   "id": "ea4eaeb8-ca81-44ed-bd43-3e20d75c93bb",
   "metadata": {},
   "source": [
    "Filtering to get only main diagnosis... should this be done? Why aren't the other diagnoses important?\n",
    "\n",
    "Instead we could get the encounter/main diagnoses in another table, then join on the entire diagnoses table to keep the other diagnoses"
   ]
  },
  {
   "cell_type": "code",
   "execution_count": null,
   "id": "8856a295-212f-4590-80ea-be7ac06f9ffa",
   "metadata": {},
   "outputs": [],
   "source": [
    "from querying import (\n",
    "    main,\n",
    "    get_cohort,\n",
    "    get_er_for_cohort,\n",
    "    get_bt_for_cohort,\n",
    "    get_most_recent_encounters,\n",
    "    get_non_cardiac_diagnoses,\n",
    ")\n",
    "import time"
   ]
  },
  {
   "cell_type": "code",
   "execution_count": null,
   "id": "2c824cdd-3399-4c49-9c29-666287916c1b",
   "metadata": {},
   "outputs": [],
   "source": [
    "t = time.time()\n",
    "cohort, labs = main()\n",
    "print(time.time() - t)\n",
    "cohort"
   ]
  },
  {
   "cell_type": "code",
   "execution_count": null,
   "id": "fdbe772e-c461-4591-abd6-300ef8cc9a3f",
   "metadata": {},
   "outputs": [],
   "source": [
    "cohort.columns"
   ]
  },
  {
   "cell_type": "code",
   "execution_count": null,
   "id": "d97ff77b-2599-4b25-9506-0ce1460f0c0a",
   "metadata": {},
   "outputs": [],
   "source": [
    "cohort[\"outcome_death\"].sum()/len(cohort)"
   ]
  },
  {
   "cell_type": "code",
   "execution_count": null,
   "id": "bf93effa-5a8f-41de-98e0-1a0d9a22089c",
   "metadata": {},
   "outputs": [],
   "source": [
    "cohort[\"outcome_edema\"].sum()/len(cohort)"
   ]
  },
  {
   "cell_type": "code",
   "execution_count": null,
   "id": "015e041f-0a99-4711-88ac-039ab00fabe7",
   "metadata": {},
   "outputs": [],
   "source": [
    "labs"
   ]
  }
 ],
 "metadata": {
  "kernelspec": {
   "display_name": "cyclops_env",
   "language": "python",
   "name": "cyclops_env"
  },
  "language_info": {
   "codemirror_mode": {
    "name": "ipython",
    "version": 3
   },
   "file_extension": ".py",
   "mimetype": "text/x-python",
   "name": "python",
   "nbconvert_exporter": "python",
   "pygments_lexer": "ipython3",
   "version": "3.9.7"
  }
 },
 "nbformat": 4,
 "nbformat_minor": 5
}
