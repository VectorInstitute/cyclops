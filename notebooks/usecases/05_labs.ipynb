{
 "cells": [
  {
   "cell_type": "code",
   "execution_count": null,
   "id": "6852d012-653b-4a17-9776-4561a3c0b929",
   "metadata": {},
   "outputs": [],
   "source": [
    "from cyclops.processors.column_names import EVENT_NAME\n",
    "from cyclops.query import gemini"
   ]
  },
  {
   "cell_type": "code",
   "execution_count": null,
   "id": "855a3f50-30bc-46af-bb00-be039cbd3bd4",
   "metadata": {},
   "outputs": [],
   "source": [
    "df = gemini.events(\"lab\").run()\n",
    "df"
   ]
  },
  {
   "cell_type": "code",
   "execution_count": null,
   "id": "217464a2-4d97-4bc6-bec0-6555a1d7b15a",
   "metadata": {},
   "outputs": [],
   "source": [
    "# Need to perform a to categorical on event_name later"
   ]
  }
 ],
 "metadata": {
  "kernelspec": {
   "display_name": "cyclops_env",
   "language": "python",
   "name": "cyclops_env"
  },
  "language_info": {
   "codemirror_mode": {
    "name": "ipython",
    "version": 3
   },
   "file_extension": ".py",
   "mimetype": "text/x-python",
   "name": "python",
   "nbconvert_exporter": "python",
   "pygments_lexer": "ipython3",
   "version": "3.9.7"
  }
 },
 "nbformat": 4,
 "nbformat_minor": 5
}
