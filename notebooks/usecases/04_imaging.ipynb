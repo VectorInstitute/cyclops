{
 "cells": [
  {
   "cell_type": "code",
   "execution_count": null,
   "id": "1ebe0fb8-51a4-41aa-ba5d-a0e4e737ab9f",
   "metadata": {},
   "outputs": [],
   "source": [
    "from cyclops.query import gemini\n",
    "import cyclops.query.process as qp"
   ]
  },
  {
   "cell_type": "code",
   "execution_count": null,
   "id": "4803d32c-63f2-473e-b81d-791b6c82a64f",
   "metadata": {},
   "outputs": [],
   "source": [
    "descriptions = [\"X-ray\", \"CT\", \"MRI\", \"Ultrasound\", \"Echo\"]\n",
    "\n",
    "imaging_keywords = {\n",
    "    \"head\": [\n",
    "        'head', 'facial', 'sinus', 'tm joint', 'parotid', 'mandible', \\\n",
    "        'willis', 'brain', 'cerebral', 'skull', 'fossa'\n",
    "    ],\n",
    "    \"neck\": ['neck', 'carotid', 'thyroid'],\n",
    "    \"chest\": [\n",
    "        'chest', 'lung', 'rib', 'sternum', 'cardiac', 'trachea', 'thora', \\\n",
    "        'pulmonary', 'clavicle', 'esophageal', 'heart'\n",
    "    ],\n",
    "    \"abd\": [\n",
    "        'abd', 'liver', 'pancreas', 'colon', 'lumbar', 'enterography', \\\n",
    "        'urogram', 'gastr', 'renal'\n",
    "    ],\n",
    "    \"pelvis\": [\n",
    "        'pelvis', 'hip', 'sacrum', 'coccyx', 'testicle', 'vagina', 'tv', \\\n",
    "        'sacroiliac', 'scrotum'\n",
    "    ],\n",
    "    \"limb\": [\n",
    "        'limb', 'leg', 'arm', 'elbow', 'humerus', 'ulna', 'radius', \\\n",
    "        'wrist', 'knee', 'tib', 'fib', 'toe', 'femur', 'patella', 'ankle', \\\n",
    "        'feet', 'foot', 'peripheral', 'extremity', 'hand', 'fger', \\\n",
    "        'finger', 'thumb'],\n",
    "    \"shoulder\": ['shoulder', 'scapula'],\n",
    "    \"whole_body\": ['spine', 'whole body'],\n",
    "}"
   ]
  },
  {
   "cell_type": "code",
   "execution_count": null,
   "id": "d68e3d2b-f74b-494d-a578-fe5419a72023",
   "metadata": {},
   "outputs": [],
   "source": [
    "# DON'T FORGET TO ADD \"before_date\" FOR COVID!\n",
    "imaging = gemini.imaging(test_descriptions=descriptions).query\n",
    "\n",
    "for key, keywords in imaging_keywords.items():\n",
    "    imaging = qp.ConditionSubstring(\n",
    "        \"imaging_test_name_raw\",\n",
    "        keywords,\n",
    "        binarize_col=key\n",
    "    )(imaging)\n",
    "\n",
    "gemini.get_interface(imaging).run(limit=1000)"
   ]
  },
  {
   "cell_type": "code",
   "execution_count": null,
   "id": "be56a78d-1f6d-4802-a0b1-c965389b803a",
   "metadata": {},
   "outputs": [],
   "source": []
  }
 ],
 "metadata": {
  "kernelspec": {
   "display_name": "cyclops_env",
   "language": "python",
   "name": "cyclops_env"
  },
  "language_info": {
   "codemirror_mode": {
    "name": "ipython",
    "version": 3
   },
   "file_extension": ".py",
   "mimetype": "text/x-python",
   "name": "python",
   "nbconvert_exporter": "python",
   "pygments_lexer": "ipython3",
   "version": "3.9.7"
  }
 },
 "nbformat": 4,
 "nbformat_minor": 5
}
