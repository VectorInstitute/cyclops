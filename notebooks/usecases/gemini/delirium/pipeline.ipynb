{
 "cells": [
  {
   "cell_type": "markdown",
   "id": "built-westminster",
   "metadata": {},
   "source": [
    "### This notebook is to look at delirium data closely, do some EDA."
   ]
  },
  {
   "cell_type": "markdown",
   "id": "portable-legislation",
   "metadata": {},
   "source": [
    "## Imports"
   ]
  },
  {
   "cell_type": "code",
   "execution_count": null,
   "id": "working-single",
   "metadata": {},
   "outputs": [],
   "source": [
    "import os\n",
    "import re\n",
    "import sys\n",
    "from collections import OrderedDict\n",
    "\n",
    "import matplotlib\n",
    "import matplotlib.pyplot as plt\n",
    "import numpy as np\n",
    "import pandas as pd\n",
    "import sqlalchemy\n",
    "from evidently import ColumnMapping\n",
    "from evidently.dashboard import Dashboard\n",
    "from evidently.dashboard.tabs import DataQualityTab\n",
    "from evidently.model_profile import Profile\n",
    "from evidently.model_profile.sections import DataQualityProfileSection\n",
    "from sqlalchemy import desc, func, select\n",
    "from sqlalchemy.sql.expression import and_, or_\n",
    "\n",
    "from cyclops.processor import Aggregator, Imputer, featurize\n",
    "from cyclops.processors.column_names import (\n",
    "    ADMIT_TIMESTAMP,\n",
    "    AGE,\n",
    "    DIAGNOSIS_CODE,\n",
    "    DISCHARGE_TIMESTAMP,\n",
    "    ENCOUNTER_ID,\n",
    "    EVENT_NAME,\n",
    "    HOSPITAL_ID,\n",
    "    SEX,\n",
    ")\n",
    "from cyclops.processors.utils import gather_columns\n",
    "from cyclops.query import gemini"
   ]
  },
  {
   "cell_type": "markdown",
   "id": "sufficient-sound",
   "metadata": {},
   "source": [
    "## String constants"
   ]
  },
  {
   "cell_type": "code",
   "execution_count": null,
   "id": "quiet-endorsement",
   "metadata": {},
   "outputs": [],
   "source": [
    "DELIRIUM_LABEL = \"del_present\"\n",
    "\n",
    "DISCHARGE_DISPOSITION = \"discharge_disposition\"\n",
    "ADMIT_DATE_TIME = \"admit_date_time\"\n",
    "DISCHARGE_DATE_TIME = \"discharge_date_time\"\n",
    "MEDICATION_NAME = \"medication_name\"\n",
    "UNIQUE_MEDS_NAMES = \"unique_meds_names\"\n",
    "UNIQUE_MEDS_COUNTS = \"unique_meds_counts\"\n",
    "\n",
    "REPORT_SAVE_PATH = \"/mnt/nfs/project/delirium/_reports\""
   ]
  },
  {
   "cell_type": "markdown",
   "id": "integrated-change",
   "metadata": {},
   "source": [
    "## Plot utility functions"
   ]
  },
  {
   "cell_type": "code",
   "execution_count": null,
   "id": "plain-culture",
   "metadata": {},
   "outputs": [],
   "source": [
    "def setup_plot(\n",
    "    plot_handle: matplotlib.axes.SubplotBase,\n",
    "    title: str,\n",
    "    xlabel: str,\n",
    "    ylabel: str,\n",
    "    legend: list,\n",
    "):\n",
    "    \"\"\"Setup plot.\n",
    "\n",
    "    Parameters\n",
    "    ----------\n",
    "    plot_handle: matplotlib.axes.SubplotBase\n",
    "        Subplot handle.\n",
    "    title: str\n",
    "        Title of plot.\n",
    "    xlabel: str\n",
    "        Label for x-axis.\n",
    "    ylabel: str\n",
    "        Label for y-axis.\n",
    "    legend: list\n",
    "        Legend for different sub-groups.\n",
    "    \"\"\"\n",
    "    plot_handle.title.set_text(title)\n",
    "    plot_handle.set_xlabel(xlabel, fontsize=20)\n",
    "    plot_handle.set_ylabel(ylabel, fontsize=20)\n",
    "    plot_handle.legend(legend, loc=1)\n",
    "\n",
    "\n",
    "def set_bars_color(bars: matplotlib.container.BarContainer, color: str):\n",
    "    \"\"\"Set color attribute for bars in bar plots.\n",
    "\n",
    "    Parameters\n",
    "    ----------\n",
    "    bars: matplotlib.container.BarContainer\n",
    "        Bars.\n",
    "    color: str\n",
    "        Color.\n",
    "    \"\"\"\n",
    "    for bar in bars:\n",
    "        bar.set_color(color)"
   ]
  },
  {
   "cell_type": "markdown",
   "id": "joint-healthcare",
   "metadata": {},
   "source": [
    "## Delirium data distribution"
   ]
  },
  {
   "cell_type": "code",
   "execution_count": null,
   "id": "prerequisite-round",
   "metadata": {
    "scrolled": true
   },
   "outputs": [],
   "source": [
    "delirium_patients = gemini.patients(delirium_cohort=True)\n",
    "admin_data = delirium_patients.run()\n",
    "admin_data_pos = admin_data.loc[admin_data[DELIRIUM_LABEL] == 1]\n",
    "admin_data_neg = admin_data.loc[admin_data[DELIRIUM_LABEL] == 2]\n",
    "\n",
    "fig, axs = plt.subplots(2, 2, figsize=(30, 15), tight_layout=True)\n",
    "\n",
    "# Across hospitals.\n",
    "hosp_counts = list(admin_data[HOSPITAL_ID].value_counts())\n",
    "hospitals = list(admin_data[HOSPITAL_ID].unique())\n",
    "hosp_counts_pos = list(admin_data_pos[HOSPITAL_ID].value_counts())\n",
    "\n",
    "hosp_bars = axs[0][0].bar(hospitals, hosp_counts, alpha=0.5)\n",
    "set_bars_color(hosp_bars, \"g\")\n",
    "hosp_bars_pos = axs[0][0].bar(hospitals, hosp_counts_pos, alpha=0.5)\n",
    "set_bars_color(hosp_bars_pos, \"r\")\n",
    "setup_plot(\n",
    "    axs[0][0],\n",
    "    \"Delirium subset across hospitals\",\n",
    "    \"Hospital site\",\n",
    "    \"Num. of admissions\",\n",
    "    [\"All\", \"delirium present\"],\n",
    ")\n",
    "\n",
    "# Across age.\n",
    "ages = admin_data[AGE]\n",
    "ages_pos = admin_data_pos[AGE]\n",
    "ages_neg = admin_data_neg[AGE]\n",
    "print(\n",
    "    f\"Mean Age: Delirium present: {np.array(ages_pos).mean()}, No delirium: {np.array(ages_neg).mean()}\"\n",
    ")\n",
    "\n",
    "(_, bins, _) = axs[0][1].hist(ages, bins=50, alpha=0.5, color=\"g\")\n",
    "axs[0][1].hist(ages_pos, bins=bins, alpha=0.5, color=\"r\")\n",
    "setup_plot(\n",
    "    axs[0][1],\n",
    "    \"Delirium subset age distribution\",\n",
    "    \"Age\",\n",
    "    \"Num. of admissions\",\n",
    "    [\"All\", \"delirium present\"],\n",
    ")\n",
    "\n",
    "# Across gender.\n",
    "genders = list(admin_data[SEX].unique())\n",
    "gender_counts = list(admin_data[SEX].value_counts())\n",
    "gender_counts_pos = list(admin_data_pos[SEX].value_counts())\n",
    "\n",
    "gender_bars = axs[1][0].bar(genders, gender_counts, alpha=0.5)\n",
    "set_bars_color(gender_bars, \"g\")\n",
    "gender_bars_pos = axs[1][0].bar(genders, gender_counts_pos, alpha=0.5)\n",
    "set_bars_color(gender_bars_pos, \"r\")\n",
    "setup_plot(\n",
    "    axs[1][0],\n",
    "    \"Delirium subset gender distribution\",\n",
    "    \"Gender\",\n",
    "    \"Num. of admissions\",\n",
    "    [\"All\", \"delirium present\"],\n",
    ")\n",
    "\n",
    "# Across labels.\n",
    "DEL_LABEL_MAP = {1: \"delirium present\", 2: \"no delirium\", 3: \"uncertain\"}\n",
    "label_counts = admin_data[DELIRIUM_LABEL].value_counts().to_dict().values()\n",
    "labels = admin_data[DELIRIUM_LABEL].value_counts().to_dict().keys()\n",
    "labels = [DEL_LABEL_MAP[l] for l in labels]\n",
    "\n",
    "label_bars = axs[1][1].bar(labels, label_counts, alpha=0.5)\n",
    "set_bars_color(label_bars, \"g\")\n",
    "setup_plot(\n",
    "    axs[1][1],\n",
    "    \"Delirium subset label distribution\",\n",
    "    \"Label\",\n",
    "    \"Num. of admissions\",\n",
    "    [\"All\"],\n",
    ")\n",
    "\n",
    "plt.show()"
   ]
  },
  {
   "cell_type": "markdown",
   "id": "australian-elephant",
   "metadata": {},
   "source": [
    "## Convert diagnosis codes to ICD 10 trajectories and hence binary features."
   ]
  },
  {
   "cell_type": "code",
   "execution_count": null,
   "id": "manufactured-habitat",
   "metadata": {},
   "outputs": [],
   "source": [
    "delirium_patients = gemini.patients(delirium_cohort=True)\n",
    "delirium_patients_diagnoses = gemini.diagnoses(patients=delirium_patients)\n",
    "\n",
    "diagnoses_data = delirium_patients_diagnoses.run()\n",
    "\n",
    "diagnoses_data = gather_columns(\n",
    "    diagnoses_data, [ENCOUNTER_ID, AGE, SEX, DIAGNOSIS_CODE]\n",
    ")\n",
    "feature_handler = featurize(\n",
    "    static_data=[diagnoses_data],\n",
    "    imputer=Imputer(strategy=\"none\"),\n",
    "    aggregator=Aggregator(),\n",
    ")"
   ]
  },
  {
   "cell_type": "markdown",
   "id": "scientific-louisville",
   "metadata": {},
   "source": [
    "## Data quality report (diagnosis codes)"
   ]
  },
  {
   "cell_type": "code",
   "execution_count": null,
   "id": "supported-pride",
   "metadata": {},
   "outputs": [],
   "source": [
    "dashboard = Dashboard(tabs=[DataQualityTab()])\n",
    "column_mapping = ColumnMapping(\n",
    "    categorical_features=feature_handler.get_categorical_features()\n",
    ")\n",
    "dashboard.calculate(\n",
    "    reference_data=feature_handler.features,\n",
    "    current_data=None,\n",
    "    column_mapping=column_mapping,\n",
    ")\n",
    "dashboard.save(os.path.join(REPORT_SAVE_PATH, \"delirium_diagnosis_processed.html\"))"
   ]
  },
  {
   "cell_type": "markdown",
   "id": "formal-specification",
   "metadata": {},
   "source": [
    "## Discharge disposition"
   ]
  },
  {
   "cell_type": "code",
   "execution_count": null,
   "id": "informational-combat",
   "metadata": {},
   "outputs": [],
   "source": [
    "# Longer descriptions taken from CIHI portal\n",
    "# https://www.cihi.ca/sites/default/files/document/cihi-portal-release-notes-release-13.1-en_en02jpdg.pdf\n",
    "DISCHARGE_DISPOSITION_MAP = {\n",
    "    1: \"Transferred to acute inpatient institution (other acute, psych, etc.)\",\n",
    "    2: \"Transferred continuing care (other facility or level of care in same)\",\n",
    "    3: \"Transfer other (ambulatory/palliative, addiction/jail, child agency)\",\n",
    "    4: \"Discharged to a home setting with support services (senior lodge, attendant care, home care . . .)\",\n",
    "    5: \"Discharged home (no external support needed, not incl. nursing homes)\",\n",
    "    6: \"Signed out (leaving against medical advice, AWOL)\",\n",
    "    7: \"Died\",\n",
    "}\n",
    "discharge_disposition_counts = admin_data[DISCHARGE_DISPOSITION].value_counts()\n",
    "discharge_disposition_counts_pos = admin_data_pos[DISCHARGE_DISPOSITION].value_counts()\n",
    "for disch_code, meaning in DISCHARGE_DISPOSITION_MAP.items():\n",
    "    print(f\"{meaning}: {discharge_disposition_counts[disch_code]}\")\n",
    "\n",
    "fig, axs = plt.subplots(1, 1, figsize=(20, 10), tight_layout=True)\n",
    "disch_disp_bars = plt.bar(\n",
    "    list(range(len(discharge_disposition_counts))),\n",
    "    discharge_disposition_counts.values,\n",
    "    alpha=0.5,\n",
    ")\n",
    "set_bars_color(disch_disp_bars, \"g\")\n",
    "disch_disp_bars_pos = plt.bar(\n",
    "    list(range(len(discharge_disposition_counts_pos))),\n",
    "    discharge_disposition_counts_pos.values,\n",
    "    alpha=0.5,\n",
    ")\n",
    "set_bars_color(disch_disp_bars_pos, \"r\")\n",
    "axs.set_xticks(\n",
    "    range(len(discharge_disposition_counts)),\n",
    "    discharge_disposition_counts.keys(),\n",
    "    rotation=\"vertical\",\n",
    "    fontsize=20,\n",
    ")\n",
    "setup_plot(\n",
    "    axs,\n",
    "    \"Discharge disposition (delirium)\",\n",
    "    \"Discharge disposition code\",\n",
    "    \"Num. of admissions\",\n",
    "    [\"All\", \"delirium present\"],\n",
    ")\n",
    "\n",
    "plt.show()\n",
    "\n",
    "# Fraction of encounters with delirium positive label, and disch. dispostion (7) - is significantly higher compared to others."
   ]
  },
  {
   "cell_type": "markdown",
   "id": "indie-procedure",
   "metadata": {},
   "source": [
    "## Year of care, LOS distribution (delirium subset)"
   ]
  },
  {
   "cell_type": "code",
   "execution_count": null,
   "id": "moving-spirit",
   "metadata": {},
   "outputs": [],
   "source": [
    "admit_discharge_times = admin_data[[ADMIT_TIMESTAMP, DISCHARGE_TIMESTAMP]]\n",
    "years_counts = admit_discharge_times[ADMIT_TIMESTAMP].dt.year.value_counts().to_dict()\n",
    "years_counts = OrderedDict(sorted(years_counts.items()))\n",
    "\n",
    "admit_discharge_times_pos = admin_data_pos[[ADMIT_TIMESTAMP, DISCHARGE_TIMESTAMP]]\n",
    "years_counts_pos = (\n",
    "    admit_discharge_times_pos[ADMIT_TIMESTAMP].dt.year.value_counts().to_dict()\n",
    ")\n",
    "years_counts_pos = OrderedDict(sorted(years_counts_pos.items()))\n",
    "\n",
    "fig, axs = plt.subplots(1, 2, figsize=(20, 10), tight_layout=True)\n",
    "years_bars = axs[0].bar(\n",
    "    list(range(len(years_counts))), years_counts.values(), alpha=0.5\n",
    ")\n",
    "set_bars_color(years_bars, \"g\")\n",
    "years_bars_pos = axs[0].bar(\n",
    "    list(range(len(years_counts_pos))), years_counts_pos.values(), alpha=0.5\n",
    ")\n",
    "set_bars_color(years_bars_pos, \"r\")\n",
    "axs[0].set_xticks(\n",
    "    range(len(years_counts)), years_counts.keys(), rotation=\"vertical\", fontsize=20\n",
    ")\n",
    "setup_plot(\n",
    "    axs[0],\n",
    "    \"Year of Care (delirium)\",\n",
    "    \"Year\",\n",
    "    \"Num. of admissions\",\n",
    "    [\"All\", \"delirium present\"],\n",
    ")\n",
    "\n",
    "los = (\n",
    "    admit_discharge_times[DISCHARGE_TIMESTAMP] - admit_discharge_times[ADMIT_TIMESTAMP]\n",
    ")\n",
    "los = los.astype(\"timedelta64[D]\")\n",
    "los_pos = (\n",
    "    admit_discharge_times_pos[DISCHARGE_TIMESTAMP]\n",
    "    - admit_discharge_times_pos[ADMIT_TIMESTAMP]\n",
    ")\n",
    "los_pos = los_pos.astype(\"timedelta64[D]\")\n",
    "admit_discharge_times_neg = admin_data_neg[[ADMIT_TIMESTAMP, DISCHARGE_TIMESTAMP]]\n",
    "los_neg = (\n",
    "    admit_discharge_times_neg[DISCHARGE_TIMESTAMP]\n",
    "    - admit_discharge_times_neg[ADMIT_TIMESTAMP]\n",
    ")\n",
    "los_neg = los_neg.astype(\"timedelta64[D]\")\n",
    "print(\n",
    "    f\"Mean LOS (days): Delirium present: {np.array(los_pos).mean()}, No delirium: {np.array(los_neg).mean()}\"\n",
    ")\n",
    "axs[1].hist(los, bins=50, alpha=0.5, color=\"g\")\n",
    "axs[1].hist(los_pos, bins=50, alpha=0.5, color=\"r\")\n",
    "setup_plot(\n",
    "    axs[1],\n",
    "    \"LOS (delirium)\",\n",
    "    \"Length of Stay (days)\",\n",
    "    \"Num. of admissions\",\n",
    "    [\"All\", \"delirium present\"],\n",
    ")\n",
    "\n",
    "plt.show()"
   ]
  },
  {
   "cell_type": "markdown",
   "id": "gentle-occasions",
   "metadata": {},
   "source": [
    "## Plot distribution of lab tests ordered (delirium subset)"
   ]
  },
  {
   "cell_type": "code",
   "execution_count": null,
   "id": "fabulous-johns",
   "metadata": {},
   "outputs": [],
   "source": [
    "delirium_patients = gemini.patients(delirium_cohort=True)\n",
    "delirium_patients_labs = gemini.events(patients=delirium_patients, category=\"lab\")\n",
    "lab_data = delirium_patients_labs.run()\n",
    "\n",
    "del_lab_names = lab_data[EVENT_NAME].value_counts().keys()\n",
    "del_lab_counts = lab_data[EVENT_NAME].value_counts().values\n",
    "del_lab_counts = np.array(del_lab_counts) / sum(del_lab_counts)\n",
    "\n",
    "fig, axs = plt.subplots(1, 1, figsize=(30, 15), tight_layout=True)\n",
    "delirum_labs_bars = plt.bar(list(range(len(del_lab_names))), del_lab_counts, alpha=0.5)\n",
    "set_bars_color(delirum_labs_bars, \"r\")\n",
    "axs.set_xticks(\n",
    "    range(len(delirum_labs_bars)), del_lab_names, rotation=\"vertical\", fontsize=20\n",
    ")\n",
    "setup_plot(\n",
    "    axs,\n",
    "    \"Lab tests distribution\",\n",
    "    \"Lab test name\",\n",
    "    \"Fraction of total tests ordered\",\n",
    "    [\"delirium subset\"],\n",
    ")\n",
    "\n",
    "plt.show()"
   ]
  },
  {
   "cell_type": "markdown",
   "id": "greater-atlantic",
   "metadata": {},
   "source": [
    "## Lab tests distribution across sites (delirium)."
   ]
  },
  {
   "cell_type": "code",
   "execution_count": null,
   "id": "sacred-hospital",
   "metadata": {},
   "outputs": [],
   "source": [
    "lab_counts_hosp = lab_data[HOSPITAL_ID].value_counts()\n",
    "\n",
    "fig, axs = plt.subplots(1, 1, figsize=(10, 5), tight_layout=True)\n",
    "labs_hosp_bars = plt.bar(\n",
    "    list(range(len(lab_counts_hosp))), lab_counts_hosp.values, alpha=0.5\n",
    ")\n",
    "set_bars_color(labs_hosp_bars, \"g\")\n",
    "axs.set_xticks(\n",
    "    range(len(labs_hosp_bars)), lab_counts_hosp.keys(), rotation=\"vertical\", fontsize=20\n",
    ")\n",
    "setup_plot(\n",
    "    axs,\n",
    "    \"Lab tests across sites\",\n",
    "    \"Hospital site\",\n",
    "    \"No. of lab tests (delirium subset)\",\n",
    "    [\"all\"],\n",
    ")\n",
    "\n",
    "plt.show()"
   ]
  },
  {
   "cell_type": "markdown",
   "id": "early-sacrifice",
   "metadata": {},
   "source": [
    "## Run processor on lab data"
   ]
  },
  {
   "cell_type": "code",
   "execution_count": null,
   "id": "average-criticism",
   "metadata": {},
   "outputs": [],
   "source": [
    "feature_handler = featurize(\n",
    "    temporal_data=[lab_data],\n",
    "    imputer=Imputer(strategy=\"none\"),\n",
    "    aggregator=Aggregator(),\n",
    ")"
   ]
  },
  {
   "cell_type": "markdown",
   "id": "former-peter",
   "metadata": {},
   "source": [
    "## Data quality report (labs)"
   ]
  },
  {
   "cell_type": "code",
   "execution_count": null,
   "id": "loving-venue",
   "metadata": {},
   "outputs": [],
   "source": [
    "dashboard = Dashboard(tabs=[DataQualityTab()])\n",
    "column_mapping = ColumnMapping(\n",
    "    numerical_features=feature_handler.get_numerical_features()\n",
    ")\n",
    "dashboard.calculate(\n",
    "    reference_data=feature_handler.features,\n",
    "    current_data=None,\n",
    "    column_mapping=column_mapping,\n",
    ")\n",
    "dashboard.save(os.path.join(REPORT_SAVE_PATH, \"delirium_labs_processed.html\"))"
   ]
  },
  {
   "cell_type": "markdown",
   "id": "perfect-paraguay",
   "metadata": {},
   "source": [
    "## Explore vitals data for delirium subset"
   ]
  },
  {
   "cell_type": "code",
   "execution_count": null,
   "id": "going-princeton",
   "metadata": {},
   "outputs": [],
   "source": [
    "# No vitals data for delirium subset. All vitals data added on or after 2018."
   ]
  }
 ],
 "metadata": {
  "kernelspec": {
   "display_name": "cyclops",
   "language": "python",
   "name": "cyclops"
  },
  "language_info": {
   "codemirror_mode": {
    "name": "ipython",
    "version": 3
   },
   "file_extension": ".py",
   "mimetype": "text/x-python",
   "name": "python",
   "nbconvert_exporter": "python",
   "pygments_lexer": "ipython3",
   "version": "3.9.7"
  }
 },
 "nbformat": 4,
 "nbformat_minor": 5
}
