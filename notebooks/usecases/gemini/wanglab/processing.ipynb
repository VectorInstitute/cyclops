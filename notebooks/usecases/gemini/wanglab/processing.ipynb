{
 "cells": [
  {
   "cell_type": "markdown",
   "id": "ea4eaeb8-ca81-44ed-bd43-3e20d75c93bb",
   "metadata": {},
   "source": [
    "Filtering to get only main diagnosis... should this be done? Why aren't the other diagnoses important?\n",
    "\n",
    "Instead we could get the encounter/main diagnoses in another table, then join on the entire diagnoses table to keep the other diagnoses"
   ]
  },
  {
   "cell_type": "code",
   "execution_count": null,
   "id": "8856a295-212f-4590-80ea-be7ac06f9ffa",
   "metadata": {},
   "outputs": [],
   "source": [
    "import pickle\n",
    "import time\n",
    "\n",
    "import numpy as np\n",
    "import pandas as pd\n",
    "from consts import OUTCOME_DEATH, OUTCOME_EDEMA\n",
    "from querying import (\n",
    "    get_bt_for_cohort,\n",
    "    get_cohort,\n",
    "    get_er_for_cohort,\n",
    "    get_labs,\n",
    "    get_most_recent_encounters,\n",
    "    get_non_cardiac_diagnoses,\n",
    "    main,\n",
    ")\n",
    "\n",
    "from cyclops.processors.aggregate import Aggregator, tabular_as_aggregated\n",
    "from cyclops.processors.cleaning import normalize_names, normalize_values\n",
    "from cyclops.processors.column_names import (\n",
    "    ADMIT_TIMESTAMP,\n",
    "    AGE,\n",
    "    CARE_UNIT,\n",
    "    DIAGNOSIS_CODE,\n",
    "    DIAGNOSIS_TRAJECTORY,\n",
    "    DISCHARGE_TIMESTAMP,\n",
    "    ENCOUNTER_ID,\n",
    "    EVENT_NAME,\n",
    "    EVENT_TIMESTAMP,\n",
    "    EVENT_VALUE,\n",
    "    EVENT_VALUE_UNIT,\n",
    "    HOSPITAL_ID,\n",
    "    SEX,\n",
    "    SUBJECT_ID,\n",
    "    TIMESTEP,\n",
    "    YEAR,\n",
    ")\n",
    "from cyclops.processors.constants import (\n",
    "    ALL,\n",
    "    BINARY,\n",
    "    CATEGORICAL_INDICATOR,\n",
    "    FEATURE_INDICATOR_ATTR,\n",
    "    FEATURE_MAPPING_ATTR,\n",
    "    FEATURE_TYPE_ATTR,\n",
    "    FEATURE_TYPES,\n",
    "    FEATURES,\n",
    "    FIRST,\n",
    "    LAST,\n",
    "    MEAN,\n",
    "    MIN_MAX,\n",
    "    MISSING_CATEGORY,\n",
    "    NUMERIC,\n",
    "    ORDINAL,\n",
    "    STANDARD,\n",
    "    STRING,\n",
    "    TARGETS,\n",
    ")\n",
    "from cyclops.processors.feature.feature import TabularFeatures, TemporalFeatures\n",
    "from cyclops.processors.feature.vectorize import intersect_vectorized, split_vectorized\n",
    "from cyclops.utils.file import load_dataframe, save_dataframe"
   ]
  },
  {
   "cell_type": "code",
   "execution_count": null,
   "id": "da232676-a6e4-43f7-b958-9c6683a69264",
   "metadata": {},
   "outputs": [],
   "source": [
    "SPLIT_FRACTIONS = [0.7, 0.2]\n",
    "TAB_TARGETS = [OUTCOME_DEATH, OUTCOME_EDEMA]\n",
    "\n",
    "OUTCOME_DEATH_TEMP = \"outcome_death_temp\"\n",
    "TEMP_TARGETS = [OUTCOME_DEATH_TEMP]\n",
    "PREDICT_OFFSET_HRS = 24"
   ]
  },
  {
   "cell_type": "markdown",
   "id": "9bff9705-888a-4c5a-9fa5-b354d732f849",
   "metadata": {
    "tags": []
   },
   "source": [
    "# Tabular-specific processing"
   ]
  },
  {
   "cell_type": "code",
   "execution_count": null,
   "id": "c45ffd1d-7ca3-41d7-b0e4-91bce7e2c5c8",
   "metadata": {},
   "outputs": [],
   "source": [
    "cohort = load_dataframe(\"cohort.parquet\")"
   ]
  },
  {
   "cell_type": "code",
   "execution_count": null,
   "id": "70bf199d-d527-43cd-8a37-f24df14b89e4",
   "metadata": {},
   "outputs": [],
   "source": [
    "features = [\n",
    "    HOSPITAL_ID,\n",
    "    AGE,\n",
    "    SEX,\n",
    "    DIAGNOSIS_TRAJECTORY,\n",
    "    \"readmission\",\n",
    "    \"from_nursing_home_mapped\",\n",
    "    \"from_acute_care_institution_mapped\",\n",
    "    \"los_derived\",\n",
    "    \"prev_encounter_count\",\n",
    "]\n",
    "\n",
    "cohort = cohort.reset_index().drop(\"index\", axis=1)\n",
    "\n",
    "tab_features = TabularFeatures(\n",
    "    cohort,\n",
    "    features,\n",
    "    by=ENCOUNTER_ID,\n",
    "    targets=TAB_TARGETS,\n",
    ")"
   ]
  },
  {
   "cell_type": "code",
   "execution_count": null,
   "id": "d294385a-5015-41e2-9d22-fe73613fd9d2",
   "metadata": {},
   "outputs": [],
   "source": [
    "tab_features.types"
   ]
  },
  {
   "cell_type": "code",
   "execution_count": null,
   "id": "7ed4d890-8841-4dd6-b570-cf268a1e6bd2",
   "metadata": {},
   "outputs": [],
   "source": [
    "tab_features.meta.keys()"
   ]
  },
  {
   "cell_type": "code",
   "execution_count": null,
   "id": "a061438c-aa96-434b-8917-a21d526d294e",
   "metadata": {},
   "outputs": [],
   "source": [
    "tab_features.meta[SEX].get_mapping()"
   ]
  },
  {
   "cell_type": "code",
   "execution_count": null,
   "id": "969d7751-8129-46d6-ac23-59532f9e703e",
   "metadata": {},
   "outputs": [],
   "source": [
    "tab_features.meta[DIAGNOSIS_TRAJECTORY].get_mapping()"
   ]
  },
  {
   "cell_type": "code",
   "execution_count": null,
   "id": "62939d01-b112-4fb3-b2d2-2171a2ba8d02",
   "metadata": {},
   "outputs": [],
   "source": [
    "tab_features.meta[OUTCOME_DEATH].get_mapping()"
   ]
  },
  {
   "cell_type": "code",
   "execution_count": null,
   "id": "6f5da2fe-5fc5-4f0f-9d15-92f9634b62ef",
   "metadata": {},
   "outputs": [],
   "source": [
    "tab_features.meta[HOSPITAL_ID].get_mapping()"
   ]
  },
  {
   "cell_type": "code",
   "execution_count": null,
   "id": "c49e23b4-cc19-4706-bc03-3981aa8b2b33",
   "metadata": {},
   "outputs": [],
   "source": [
    "tab_features.meta[\"readmission\"].get_mapping()"
   ]
  },
  {
   "cell_type": "code",
   "execution_count": null,
   "id": "2a3ffa76-18fe-4dfa-a141-364716709fe4",
   "metadata": {},
   "outputs": [],
   "source": [
    "ordinal_features = tab_features.features_by_type(ORDINAL)\n",
    "ordinal_features"
   ]
  },
  {
   "cell_type": "code",
   "execution_count": null,
   "id": "cf47c5d4-af96-49a2-9dd9-a5a2ef91e2bd",
   "metadata": {},
   "outputs": [],
   "source": [
    "tab_vectorized = tab_features.vectorize(to_binary_indicators=ordinal_features)"
   ]
  },
  {
   "cell_type": "code",
   "execution_count": null,
   "id": "2887b32a-4797-4e77-9426-ed81053b9a1a",
   "metadata": {},
   "outputs": [],
   "source": [
    "tab_vectorized.shape"
   ]
  },
  {
   "cell_type": "code",
   "execution_count": null,
   "id": "8d6b8700-b998-4871-80cb-644c1202e9dc",
   "metadata": {},
   "outputs": [],
   "source": [
    "tab_vectorized.axis_names"
   ]
  },
  {
   "cell_type": "code",
   "execution_count": null,
   "id": "9660ecd6-7907-48c2-993e-c309533614a9",
   "metadata": {},
   "outputs": [],
   "source": [
    "numeric_features = tab_features.features_by_type(NUMERIC)\n",
    "numeric_features"
   ]
  },
  {
   "cell_type": "code",
   "execution_count": null,
   "id": "8cbab08d-2570-4e06-a2c5-75cee20035ea",
   "metadata": {},
   "outputs": [],
   "source": [
    "tab_vectorized.save(\"tab_vectorized.npy\")"
   ]
  },
  {
   "cell_type": "markdown",
   "id": "2e1fa42f-42e5-4755-b28c-a8f83e9fdcf6",
   "metadata": {
    "tags": []
   },
   "source": [
    "# Temporal-specific processing"
   ]
  },
  {
   "cell_type": "code",
   "execution_count": null,
   "id": "f31ee164-a497-45da-8d0f-841940c1b1fc",
   "metadata": {},
   "outputs": [],
   "source": [
    "events = load_dataframe(\"labs.parquet\")\n",
    "events = events.sample(n=int(len(events) / 100))\n",
    "events.head(5)"
   ]
  },
  {
   "cell_type": "code",
   "execution_count": null,
   "id": "adf7b90b-ab81-40d1-834c-6cce60be7805",
   "metadata": {},
   "outputs": [],
   "source": [
    "events[EVENT_NAME].unique()"
   ]
  },
  {
   "cell_type": "code",
   "execution_count": null,
   "id": "707b1c32-1028-4a2f-baf5-c801d2c8b18b",
   "metadata": {},
   "outputs": [],
   "source": [
    "events[EVENT_NAME] = normalize_names(events[EVENT_NAME])\n",
    "events[EVENT_VALUE] = normalize_values(events[EVENT_VALUE])"
   ]
  },
  {
   "cell_type": "code",
   "execution_count": null,
   "id": "1aecf290-58a8-4959-84ad-3510e92bc765",
   "metadata": {},
   "outputs": [],
   "source": [
    "events[EVENT_NAME].unique()"
   ]
  },
  {
   "cell_type": "code",
   "execution_count": null,
   "id": "a0f80c4b-4da0-4f2b-b842-02793ca24acd",
   "metadata": {},
   "outputs": [],
   "source": [
    "# Create the target as a timeseries event\n",
    "death_events = cohort[cohort[OUTCOME_DEATH] == True]\n",
    "death_events = death_events[[ENCOUNTER_ID, DISCHARGE_TIMESTAMP]]\n",
    "\n",
    "# Offset death time - i.e., should predict death time in advance\n",
    "death_events[DISCHARGE_TIMESTAMP] = death_events[DISCHARGE_TIMESTAMP] - pd.DateOffset(\n",
    "    hours=PREDICT_OFFSET_HRS\n",
    ")\n",
    "\n",
    "death_events = death_events.rename({DISCHARGE_TIMESTAMP: EVENT_TIMESTAMP}, axis=1)\n",
    "death_events[EVENT_NAME] = OUTCOME_DEATH_TEMP\n",
    "death_events[EVENT_VALUE] = 1\n",
    "death_events.head(5)"
   ]
  },
  {
   "cell_type": "code",
   "execution_count": null,
   "id": "33dac301-6cc8-4b2a-8d2d-7218a73c08af",
   "metadata": {},
   "outputs": [],
   "source": [
    "events = pd.concat([events, death_events])"
   ]
  },
  {
   "cell_type": "code",
   "execution_count": null,
   "id": "82083fec-c08d-4e76-99de-821e66cc391b",
   "metadata": {},
   "outputs": [],
   "source": [
    "aggregator = Aggregator(\n",
    "    aggfuncs={EVENT_VALUE: MEAN},\n",
    "    timestamp_col=EVENT_TIMESTAMP,\n",
    "    time_by=ENCOUNTER_ID,\n",
    "    agg_by=[ENCOUNTER_ID, EVENT_NAME],\n",
    "    timestep_size=8,\n",
    "    window_duration=24,\n",
    ")"
   ]
  },
  {
   "cell_type": "code",
   "execution_count": null,
   "id": "3353003a",
   "metadata": {},
   "outputs": [],
   "source": [
    "events = events.reset_index(drop=True)\n",
    "\n",
    "tmp_features = TemporalFeatures(\n",
    "    events,\n",
    "    features=EVENT_VALUE,\n",
    "    by=[ENCOUNTER_ID, EVENT_NAME],\n",
    "    timestamp_col=EVENT_TIMESTAMP,\n",
    "    aggregator=aggregator,\n",
    ")"
   ]
  },
  {
   "cell_type": "code",
   "execution_count": null,
   "id": "56454fe9-58c7-4094-8bcb-0617e09a8d44",
   "metadata": {},
   "outputs": [],
   "source": [
    "aggregated = tmp_features.aggregate()\n",
    "aggregated.head(5)"
   ]
  },
  {
   "cell_type": "code",
   "execution_count": null,
   "id": "105a0615-d0b5-4bf4-88ae-440969b53d4f",
   "metadata": {},
   "outputs": [],
   "source": [
    "save_dataframe(aggregated, \"aggregated.parquet\")"
   ]
  },
  {
   "cell_type": "code",
   "execution_count": null,
   "id": "46ee8234-1dd2-42c0-be27-b749d8fde645",
   "metadata": {},
   "outputs": [],
   "source": [
    "temp_vectorized = aggregator.vectorize(aggregated)\n",
    "temp_vectorized.shape"
   ]
  },
  {
   "cell_type": "code",
   "execution_count": null,
   "id": "aec592b3-9ce0-42f3-b559-b610c79f2cd2",
   "metadata": {},
   "outputs": [],
   "source": [
    "temp_vectorized.axis_names"
   ]
  },
  {
   "cell_type": "code",
   "execution_count": null,
   "id": "3991e654-9da8-41d5-ab45-88a550cbcd72",
   "metadata": {},
   "outputs": [],
   "source": [
    "temp_vectorized.save(\"temp_vectorized.npy\")"
   ]
  },
  {
   "cell_type": "markdown",
   "id": "4bb466e5-a773-4524-975b-a95633372cb3",
   "metadata": {},
   "source": [
    "# Combined processing"
   ]
  },
  {
   "cell_type": "code",
   "execution_count": null,
   "id": "8c0388d7-9658-42bb-b7de-937d9954f55c",
   "metadata": {},
   "outputs": [],
   "source": [
    "tab = tab_features.get_data(to_binary_indicators=ordinal_features)\n",
    "\n",
    "tab_aggregated = tabular_as_aggregated(\n",
    "    tab=tab,\n",
    "    index=ENCOUNTER_ID,\n",
    "    var_name=EVENT_NAME,\n",
    "    value_name=EVENT_VALUE,\n",
    "    strategy=ALL,\n",
    "    num_timesteps=aggregator.window_duration // aggregator.timestep_size,\n",
    ")\n",
    "tab_aggregated"
   ]
  },
  {
   "cell_type": "code",
   "execution_count": null,
   "id": "4ac16cae-d568-4521-a293-7e3dd6a9567b",
   "metadata": {},
   "outputs": [],
   "source": [
    "aggregated"
   ]
  },
  {
   "cell_type": "code",
   "execution_count": null,
   "id": "70b6bf91-6540-4fde-bbe8-3e609a8bcd6d",
   "metadata": {},
   "outputs": [],
   "source": [
    "comb_aggregated = pd.concat([aggregated, tab_aggregated])\n",
    "comb_aggregated = comb_aggregated.sort_index()\n",
    "comb_aggregated"
   ]
  },
  {
   "cell_type": "code",
   "execution_count": null,
   "id": "52108430-be29-4e30-9e5b-11f67884621d",
   "metadata": {},
   "outputs": [],
   "source": [
    "comb_aggregated.index[comb_aggregated.index.duplicated()]"
   ]
  },
  {
   "cell_type": "code",
   "execution_count": null,
   "id": "ca295142-319a-42bb-b18d-bbef1097f6de",
   "metadata": {},
   "outputs": [],
   "source": [
    "comb_aggregated"
   ]
  },
  {
   "cell_type": "code",
   "execution_count": null,
   "id": "4e799782-5f90-4570-a54d-45f55724523c",
   "metadata": {},
   "outputs": [],
   "source": [
    "comb_vectorized = aggregator.vectorize(comb_aggregated)\n",
    "comb_vectorized.shape"
   ]
  },
  {
   "cell_type": "markdown",
   "id": "2712021e-c1f7-45af-a9ee-0b194f1f4084",
   "metadata": {},
   "source": [
    "# Prepare before splits"
   ]
  },
  {
   "cell_type": "markdown",
   "id": "b3155519-60c2-49a2-b656-b877636d714b",
   "metadata": {},
   "source": [
    "Take only the encounters available in all of the datasets and align the datasets over encounters."
   ]
  },
  {
   "cell_type": "code",
   "execution_count": null,
   "id": "7eafe111-1e5b-4c31-9a78-8e35950bf69a",
   "metadata": {},
   "outputs": [],
   "source": [
    "tab_vectorized.shape, temp_vectorized.shape"
   ]
  },
  {
   "cell_type": "code",
   "execution_count": null,
   "id": "2c75e1ba-1ec7-4687-9720-8f09fa2a85c8",
   "metadata": {},
   "outputs": [],
   "source": [
    "tab_vectorized, temp_vectorized, comb_vectorized = intersect_vectorized(\n",
    "    [tab_vectorized, temp_vectorized, comb_vectorized], axes=ENCOUNTER_ID\n",
    ")\n",
    "tab_vectorized.shape, temp_vectorized.shape, comb_vectorized.shape"
   ]
  },
  {
   "cell_type": "markdown",
   "id": "81c9b586-3e00-45e3-91a4-6361ed6e0cb7",
   "metadata": {},
   "source": [
    "Add normalizers before splits for convienience (but do not yet fit/normalize)"
   ]
  },
  {
   "cell_type": "code",
   "execution_count": null,
   "id": "0bc170b7-7ac7-4818-a2cb-5b925c0fb92e",
   "metadata": {},
   "outputs": [],
   "source": [
    "# Standardize only the numeric features (e.g., not binary indicators)\n",
    "normalizer_map = {feat: STANDARD for feat in numeric_features}\n",
    "\n",
    "tab_vectorized.add_normalizer(\n",
    "    FEATURES,\n",
    "    normalizer_map=normalizer_map,\n",
    ")"
   ]
  },
  {
   "cell_type": "code",
   "execution_count": null,
   "id": "25079f9c-ac16-4e4f-8877-d4c635129ca3",
   "metadata": {},
   "outputs": [],
   "source": [
    "# Standardize all events\n",
    "temp_vectorized.add_normalizer(\n",
    "    EVENT_NAME,\n",
    "    normalization_method=STANDARD,\n",
    ")"
   ]
  },
  {
   "cell_type": "code",
   "execution_count": null,
   "id": "d2467546-2982-4918-a786-39a041cd14c0",
   "metadata": {},
   "outputs": [],
   "source": [
    "# Standardize the combined features\n",
    "temp_normalizer_map = {feat: STANDARD for feat in temp_vectorized.get_index(EVENT_NAME)}\n",
    "normalizer_map.update(temp_normalizer_map)\n",
    "\n",
    "comb_vectorized.add_normalizer(\n",
    "    EVENT_NAME,\n",
    "    normalizer_map=normalizer_map,\n",
    ")"
   ]
  },
  {
   "cell_type": "markdown",
   "id": "37de7746-4a35-4c86-a14e-d7afaea3e631",
   "metadata": {},
   "source": [
    "## Dataset splits"
   ]
  },
  {
   "cell_type": "markdown",
   "id": "67704f38-b3b4-497d-8eb7-2c90e02fe8ee",
   "metadata": {},
   "source": [
    "Split into training, validation, and testing datasets such that the tabular and temporal encounters remain aligned."
   ]
  },
  {
   "cell_type": "code",
   "execution_count": null,
   "id": "d9cb3e00-ba34-4b55-976c-50642ba6abe2",
   "metadata": {},
   "outputs": [],
   "source": [
    "tab_splits, temp_splits, comb_splits = split_vectorized(\n",
    "    [tab_vectorized, temp_vectorized, comb_vectorized],\n",
    "    SPLIT_FRACTIONS,\n",
    "    axes=ENCOUNTER_ID,\n",
    ")\n",
    "tab_train, tab_val, tab_test = tab_splits\n",
    "temp_train, temp_val, temp_test = temp_splits\n",
    "comb_train, comb_val, comb_test = comb_splits"
   ]
  },
  {
   "cell_type": "code",
   "execution_count": null,
   "id": "5cd1ccad-ac0f-4ffe-bc9e-cc25d30f8ca8",
   "metadata": {},
   "outputs": [],
   "source": [
    "tab_train.shape, tab_val.shape, tab_test.shape"
   ]
  },
  {
   "cell_type": "code",
   "execution_count": null,
   "id": "ea7fa736-172c-4cee-a86f-bb8c9d436459",
   "metadata": {},
   "outputs": [],
   "source": [
    "temp_train.shape, temp_val.shape, temp_test.shape"
   ]
  },
  {
   "cell_type": "code",
   "execution_count": null,
   "id": "bc13949c-6ce8-4548-8167-9c2ee26df3d8",
   "metadata": {},
   "outputs": [],
   "source": [
    "comb_train.shape, comb_val.shape, comb_test.shape"
   ]
  },
  {
   "cell_type": "markdown",
   "id": "4d0e640d-4b09-40e0-af4c-885f59b0283e",
   "metadata": {},
   "source": [
    "## Split features & targets"
   ]
  },
  {
   "cell_type": "markdown",
   "id": "97b6367c-f3c1-421e-9dd0-1d7d0ba6519c",
   "metadata": {},
   "source": [
    "Split out the targets in the temporal data."
   ]
  },
  {
   "cell_type": "code",
   "execution_count": null,
   "id": "f3ccc14c-82bb-4d1f-b3b0-322271ddffa4",
   "metadata": {},
   "outputs": [],
   "source": [
    "tab_train_X, tab_train_y = tab_train.split_out(FEATURES, TAB_TARGETS)\n",
    "tab_train_X.shape, tab_train_y.shape"
   ]
  },
  {
   "cell_type": "code",
   "execution_count": null,
   "id": "54ae0316-8c64-4064-a387-d58aad7c4498",
   "metadata": {},
   "outputs": [],
   "source": [
    "tab_val_X, tab_val_y = tab_val.split_out(FEATURES, TAB_TARGETS)\n",
    "tab_val_X.shape, tab_val_y.shape"
   ]
  },
  {
   "cell_type": "code",
   "execution_count": null,
   "id": "0936c23f-0d34-482b-9fe5-8e281919cfa8",
   "metadata": {},
   "outputs": [],
   "source": [
    "tab_test_X, tab_test_y = tab_test.split_out(FEATURES, TAB_TARGETS)\n",
    "tab_test_X.shape, tab_test_y.shape"
   ]
  },
  {
   "cell_type": "code",
   "execution_count": null,
   "id": "64da3749-24d3-4d6a-82ff-894bc4e2f29c",
   "metadata": {},
   "outputs": [],
   "source": [
    "temp_train_X, temp_train_y = temp_train.split_out(EVENT_NAME, TEMP_TARGETS)\n",
    "temp_train_X.shape, temp_train_y.shape"
   ]
  },
  {
   "cell_type": "code",
   "execution_count": null,
   "id": "e535e822-06cc-4959-82e3-72e804a7df86",
   "metadata": {},
   "outputs": [],
   "source": [
    "temp_val_X, temp_val_y = temp_val.split_out(EVENT_NAME, TEMP_TARGETS)\n",
    "temp_val_X.shape, temp_val_y.shape"
   ]
  },
  {
   "cell_type": "code",
   "execution_count": null,
   "id": "28636c6f-3d7f-4aca-80a4-32ea38685770",
   "metadata": {},
   "outputs": [],
   "source": [
    "temp_test_X, temp_test_y = temp_test.split_out(EVENT_NAME, TEMP_TARGETS)\n",
    "temp_test_X.shape, temp_test_y.shape"
   ]
  },
  {
   "cell_type": "code",
   "execution_count": null,
   "id": "e89b5717-b655-4bdc-9035-afda1afd5351",
   "metadata": {},
   "outputs": [],
   "source": [
    "comb_train_X, comb_train_y = comb_train.split_out(\n",
    "    EVENT_NAME, TAB_TARGETS + TEMP_TARGETS\n",
    ")\n",
    "comb_train_X.shape, comb_train_y.shape"
   ]
  },
  {
   "cell_type": "code",
   "execution_count": null,
   "id": "12e340dd-1676-4b47-b5ad-79a76fbff0f7",
   "metadata": {},
   "outputs": [],
   "source": [
    "comb_val_X, comb_val_y = comb_val.split_out(EVENT_NAME, TAB_TARGETS + TEMP_TARGETS)\n",
    "comb_val_X.shape, comb_val_y.shape"
   ]
  },
  {
   "cell_type": "code",
   "execution_count": null,
   "id": "e142c8ff-66c5-41e2-b26d-adb35ca44b55",
   "metadata": {},
   "outputs": [],
   "source": [
    "comb_test_X, comb_test_y = comb_test.split_out(EVENT_NAME, TAB_TARGETS + TEMP_TARGETS)\n",
    "comb_test_X.shape, comb_test_y.shape"
   ]
  },
  {
   "cell_type": "markdown",
   "id": "3ba48074-c499-4530-8a66-18ab056e76a3",
   "metadata": {},
   "source": [
    "## Normalization"
   ]
  },
  {
   "cell_type": "code",
   "execution_count": null,
   "id": "38b61851-1daa-4115-9000-64ec337d2a17",
   "metadata": {},
   "outputs": [],
   "source": [
    "splits = (\n",
    "    tab_train_X,\n",
    "    tab_val_X,\n",
    "    tab_test_X,\n",
    "    temp_train_X,\n",
    "    temp_val_X,\n",
    "    temp_test_X,\n",
    "    comb_train_X,\n",
    "    comb_val_X,\n",
    "    comb_test_X,\n",
    ")\n",
    "\n",
    "for split in splits:\n",
    "    split.fit_normalizer()\n",
    "    split.normalize()\n",
    "\n",
    "(\n",
    "    tab_train_X,\n",
    "    tab_val_X,\n",
    "    tab_test_X,\n",
    "    temp_train_X,\n",
    "    temp_val_X,\n",
    "    temp_test_X,\n",
    "    comb_train_X,\n",
    "    comb_val_X,\n",
    "    comb_test_X,\n",
    ") = splits"
   ]
  },
  {
   "cell_type": "markdown",
   "id": "ee9336f6-6209-4e98-be6b-443a009c3ba0",
   "metadata": {},
   "source": [
    "# Save"
   ]
  },
  {
   "cell_type": "code",
   "execution_count": null,
   "id": "18f4c12e-4e55-4ecd-9384-fc8c42b05b8c",
   "metadata": {},
   "outputs": [],
   "source": [
    "# Store data (serialize)\n",
    "vectorized = [\n",
    "    (tab_train_X, \"tab_train_X\"),\n",
    "    (tab_val_X, \"tab_val_X\"),\n",
    "    (tab_test_X, \"tab_test_X\"),\n",
    "    (temp_train_X, \"temp_train_X\"),\n",
    "    (temp_train_y, \"temp_train_y\"),\n",
    "    (temp_val_X, \"temp_val_X\"),\n",
    "    (temp_val_y, \"temp_val_y\"),\n",
    "    (temp_test_X, \"temp_test_X\"),\n",
    "    (temp_test_y, \"temp_test_y\"),\n",
    "    (comb_train_X, \"comb_train_X\"),\n",
    "    (comb_train_y, \"comb_train_y\"),\n",
    "    (comb_val_X, \"comb_val_X\"),\n",
    "    (comb_val_y, \"comb_val_y\"),\n",
    "    (comb_test_X, \"comb_test_X\"),\n",
    "    (comb_test_y, \"comb_test_y\"),\n",
    "]\n",
    "for vec, name in vectorized:\n",
    "    with open(name + \".pkl\", \"wb\") as handle:\n",
    "        pickle.dump(vec, handle)"
   ]
  },
  {
   "cell_type": "code",
   "execution_count": null,
   "id": "01933a7e-a934-4d2c-8a24-93e526e5b7c9",
   "metadata": {},
   "outputs": [],
   "source": [
    "\"\"\"\n",
    "tab_train_X.save(\"tab_train_X.npy\")\n",
    "tab_val_X.save(\"tab_val_X.npy\")\n",
    "tab_test_X.save(\"tab_test_X.npy\")\n",
    "\n",
    "temp_train_X.save(\"temp_train_X.npy\")\n",
    "temp_val_X.save(\"temp_val_X.npy\")\n",
    "temp_test_X.save(\"temp_test_X.npy\")\n",
    "\n",
    "temp_train_y.save(\"temp_train_y.npy\")\n",
    "temp_val_y.save(\"temp_val_y.npy\")\n",
    "temp_test_y.save(\"temp_test_y.npy\")\n",
    "\"\"\""
   ]
  }
 ],
 "metadata": {
  "kernelspec": {
   "display_name": "cyclops_env",
   "language": "python",
   "name": "cyclops_env"
  },
  "language_info": {
   "codemirror_mode": {
    "name": "ipython",
    "version": 3
   },
   "file_extension": ".py",
   "mimetype": "text/x-python",
   "name": "python",
   "nbconvert_exporter": "python",
   "pygments_lexer": "ipython3",
   "version": "3.9.7"
  }
 },
 "nbformat": 4,
 "nbformat_minor": 5
}
