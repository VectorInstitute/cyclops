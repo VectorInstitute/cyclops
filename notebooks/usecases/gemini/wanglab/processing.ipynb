{
 "cells": [
  {
   "cell_type": "markdown",
   "id": "ea4eaeb8-ca81-44ed-bd43-3e20d75c93bb",
   "metadata": {},
   "source": [
    "Filtering to get only main diagnosis... should this be done? Why aren't the other diagnoses important?\n",
    "\n",
    "Instead we could get the encounter/main diagnoses in another table, then join on the entire diagnoses table to keep the other diagnoses"
   ]
  },
  {
   "cell_type": "code",
   "execution_count": 31,
   "id": "8856a295-212f-4590-80ea-be7ac06f9ffa",
   "metadata": {},
   "outputs": [],
   "source": [
    "import pickle\n",
    "import time\n",
    "\n",
    "import numpy as np\n",
    "from querying import (\n",
    "    get_bt_for_cohort,\n",
    "    get_cohort,\n",
    "    get_er_for_cohort,\n",
    "    get_labs,\n",
    "    get_most_recent_encounters,\n",
    "    get_non_cardiac_diagnoses,\n",
    "    main,\n",
    ")\n",
    "\n",
    "from cyclops.processors.aggregate import Aggregator\n",
    "from cyclops.processors.cleaning import normalize_names, normalize_values\n",
    "from cyclops.processors.column_names import (\n",
    "    ADMIT_TIMESTAMP,\n",
    "    AGE,\n",
    "    CARE_UNIT,\n",
    "    DIAGNOSIS_CODE,\n",
    "    DIAGNOSIS_TRAJECTORY,\n",
    "    ENCOUNTER_ID,\n",
    "    EVENT_NAME,\n",
    "    EVENT_TIMESTAMP,\n",
    "    EVENT_VALUE,\n",
    "    EVENT_VALUE_UNIT,\n",
    "    HOSPITAL_ID,\n",
    "    SEX,\n",
    "    SUBJECT_ID,\n",
    "    TIMESTEP,\n",
    "    YEAR,\n",
    ")\n",
    "from cyclops.processors.constants import (\n",
    "    BINARY,\n",
    "    CATEGORICAL_INDICATOR,\n",
    "    FEATURE_INDICATOR_ATTR,\n",
    "    FEATURE_MAPPING_ATTR,\n",
    "    FEATURE_TYPE_ATTR,\n",
    "    FEATURE_TYPES,\n",
    "    FEATURES,\n",
    "    MEAN,\n",
    "    MIN_MAX,\n",
    "    MISSING_CATEGORY,\n",
    "    NUMERIC,\n",
    "    ORDINAL,\n",
    "    STANDARD,\n",
    "    STRING,\n",
    "    TARGETS,\n",
    ")\n",
    "from cyclops.processors.feature.feature import TabularFeatures, TemporalFeatures\n",
    "from cyclops.processors.feature.vectorize import intersect_vectorized, split_vectorized\n",
    "from cyclops.utils.file import load_dataframe, save_dataframe"
   ]
  },
  {
   "cell_type": "code",
   "execution_count": 3,
   "id": "da232676-a6e4-43f7-b958-9c6683a69264",
   "metadata": {},
   "outputs": [],
   "source": [
    "SPLIT_FRACTIONS = [0.7, 0.2]"
   ]
  },
  {
   "cell_type": "markdown",
   "id": "b7173f9e-e370-4659-8055-07135b9ff5d4",
   "metadata": {
    "tags": []
   },
   "source": [
    "# Processing"
   ]
  },
  {
   "cell_type": "markdown",
   "id": "9bff9705-888a-4c5a-9fa5-b354d732f849",
   "metadata": {
    "tags": []
   },
   "source": [
    "## Tabular"
   ]
  },
  {
   "cell_type": "code",
   "execution_count": 4,
   "id": "c45ffd1d-7ca3-41d7-b0e4-91bce7e2c5c8",
   "metadata": {},
   "outputs": [
    {
     "name": "stderr",
     "output_type": "stream",
     "text": [
      "2022-07-19 17:34:57,326 \u001b[1;37mINFO\u001b[0m cyclops.utils.file - Loading DataFrame from cohort.parquet\n"
     ]
    }
   ],
   "source": [
    "cohort = load_dataframe(\"cohort.parquet\")"
   ]
  },
  {
   "cell_type": "code",
   "execution_count": 6,
   "id": "70bf199d-d527-43cd-8a37-f24df14b89e4",
   "metadata": {},
   "outputs": [],
   "source": [
    "features = [\n",
    "    HOSPITAL_ID,\n",
    "    AGE,\n",
    "    SEX,\n",
    "    DIAGNOSIS_TRAJECTORY,\n",
    "    \"readmission\",\n",
    "    \"from_nursing_home_mapped\",\n",
    "    \"from_acute_care_institution_mapped\",\n",
    "    \"los_derived\",\n",
    "    \"prev_encounter_count\",\n",
    "]\n",
    "\n",
    "normalizer = GroupbyNormalizer({AGE: MIN_MAX, \"los_derived\": STANDARD})\n",
    "\n",
    "cohort = cohort.reset_index().drop(\"index\", axis=1)\n",
    "\n",
    "tab_features = TabularFeatures(\n",
    "    cohort,\n",
    "    features,\n",
    "    by=ENCOUNTER_ID,\n",
    "    targets=[\"outcome_death\", \"outcome_edema\"],\n",
    ")"
   ]
  },
  {
   "cell_type": "code",
   "execution_count": 7,
   "id": "d294385a-5015-41e2-9d22-fe73613fd9d2",
   "metadata": {},
   "outputs": [
    {
     "data": {
      "text/plain": [
       "{'prev_encounter_count': 'numeric',\n",
       " 'diagnosis_trajectory': 'ordinal',\n",
       " 'from_nursing_home_mapped': 'binary',\n",
       " 'readmission': 'ordinal',\n",
       " 'hospital_id': 'ordinal',\n",
       " 'from_acute_care_institution_mapped': 'binary',\n",
       " 'age': 'numeric',\n",
       " 'outcome_edema': 'binary',\n",
       " 'sex': 'binary',\n",
       " 'outcome_death': 'binary',\n",
       " 'los_derived': 'numeric'}"
      ]
     },
     "execution_count": 7,
     "metadata": {},
     "output_type": "execute_result"
    }
   ],
   "source": [
    "tab_features.types"
   ]
  },
  {
   "cell_type": "code",
   "execution_count": 8,
   "id": "7ed4d890-8841-4dd6-b570-cf268a1e6bd2",
   "metadata": {},
   "outputs": [
    {
     "data": {
      "text/plain": [
       "dict_keys(['prev_encounter_count', 'diagnosis_trajectory', 'from_nursing_home_mapped', 'readmission', 'hospital_id', 'from_acute_care_institution_mapped', 'age', 'outcome_edema', 'sex', 'outcome_death', 'los_derived'])"
      ]
     },
     "execution_count": 8,
     "metadata": {},
     "output_type": "execute_result"
    }
   ],
   "source": [
    "tab_features.meta.keys()"
   ]
  },
  {
   "cell_type": "code",
   "execution_count": 9,
   "id": "a061438c-aa96-434b-8917-a21d526d294e",
   "metadata": {},
   "outputs": [
    {
     "data": {
      "text/plain": [
       "{0: 'F', 1: 'M'}"
      ]
     },
     "execution_count": 9,
     "metadata": {},
     "output_type": "execute_result"
    }
   ],
   "source": [
    "tab_features.meta[SEX].get_mapping()"
   ]
  },
  {
   "cell_type": "code",
   "execution_count": 10,
   "id": "969d7751-8129-46d6-ac23-59532f9e703e",
   "metadata": {},
   "outputs": [
    {
     "data": {
      "text/plain": [
       "{0: 'A00_B99',\n",
       " 1: 'C00_D49',\n",
       " 2: 'D50_D89',\n",
       " 3: 'E00_E89',\n",
       " 4: 'F01_F99',\n",
       " 5: 'G00_G99',\n",
       " 6: 'H00_H59',\n",
       " 7: 'H60_H95',\n",
       " 8: 'I00_I99',\n",
       " 9: 'J00_J99',\n",
       " 10: 'K00_K95',\n",
       " 11: 'L00_L99',\n",
       " 12: 'M00_M99',\n",
       " 13: 'N00_N99',\n",
       " 14: 'O00_O99',\n",
       " 15: 'Q00_Q99',\n",
       " 16: 'R00_R99',\n",
       " 17: 'S00_T88',\n",
       " 18: 'V00_Y99',\n",
       " 19: 'Z00_Z99'}"
      ]
     },
     "execution_count": 10,
     "metadata": {},
     "output_type": "execute_result"
    }
   ],
   "source": [
    "tab_features.meta[DIAGNOSIS_TRAJECTORY].get_mapping()"
   ]
  },
  {
   "cell_type": "code",
   "execution_count": 11,
   "id": "62939d01-b112-4fb3-b2d2-2171a2ba8d02",
   "metadata": {},
   "outputs": [
    {
     "data": {
      "text/plain": [
       "{False: False, True: True}"
      ]
     },
     "execution_count": 11,
     "metadata": {},
     "output_type": "execute_result"
    }
   ],
   "source": [
    "tab_features.meta[\"outcome_death\"].get_mapping()"
   ]
  },
  {
   "cell_type": "code",
   "execution_count": 12,
   "id": "6f5da2fe-5fc5-4f0f-9d15-92f9634b62ef",
   "metadata": {},
   "outputs": [
    {
     "data": {
      "text/plain": [
       "{0: 'MSH', 1: 'SBK', 2: 'SMH', 3: 'THPC', 4: 'THPM', 5: 'UHNTG', 6: 'UHNTW'}"
      ]
     },
     "execution_count": 12,
     "metadata": {},
     "output_type": "execute_result"
    }
   ],
   "source": [
    "tab_features.meta[\"hospital_id\"].get_mapping()"
   ]
  },
  {
   "cell_type": "code",
   "execution_count": 13,
   "id": "c49e23b4-cc19-4706-bc03-3981aa8b2b33",
   "metadata": {},
   "outputs": [
    {
     "data": {
      "text/plain": [
       "{0: '',\n",
       " 1: 'new_to_acute',\n",
       " 2: 'nota',\n",
       " 3: 'planned_from_acute',\n",
       " 4: 'unplanned_7_day_acute',\n",
       " 5: 'unplanned_7_day_day_surg',\n",
       " 6: 'unplanned_8_to_28_day_acute'}"
      ]
     },
     "execution_count": 13,
     "metadata": {},
     "output_type": "execute_result"
    }
   ],
   "source": [
    "tab_features.meta[\"readmission\"].get_mapping()"
   ]
  },
  {
   "cell_type": "code",
   "execution_count": 14,
   "id": "2a3ffa76-18fe-4dfa-a141-364716709fe4",
   "metadata": {},
   "outputs": [
    {
     "data": {
      "text/plain": [
       "['diagnosis_trajectory', 'readmission', 'hospital_id']"
      ]
     },
     "execution_count": 14,
     "metadata": {},
     "output_type": "execute_result"
    }
   ],
   "source": [
    "ordinal_features = tab_features.features_by_type(ORDINAL)\n",
    "ordinal_features"
   ]
  },
  {
   "cell_type": "code",
   "execution_count": 15,
   "id": "cf47c5d4-af96-49a2-9dd9-a5a2ef91e2bd",
   "metadata": {},
   "outputs": [
    {
     "name": "stderr",
     "output_type": "stream",
     "text": [
      "/mnt/nfs/home/mckeenk/cyclops/cyclops/processors/feature/feature.py:696: SettingWithCopyWarning: \n",
      "A value is trying to be set on a copy of a slice from a DataFrame.\n",
      "Try using .loc[row_indexer,col_indexer] = value instead\n",
      "\n",
      "See the caveats in the documentation: https://pandas.pydata.org/pandas-docs/stable/user_guide/indexing.html#returning-a-view-versus-a-copy\n",
      "  data[feat] = data[feat].replace(self.meta[feat].get_mapping())\n",
      "/mnt/nfs/home/mckeenk/cyclops/cyclops/processors/feature/feature.py:696: SettingWithCopyWarning: \n",
      "A value is trying to be set on a copy of a slice from a DataFrame.\n",
      "Try using .loc[row_indexer,col_indexer] = value instead\n",
      "\n",
      "See the caveats in the documentation: https://pandas.pydata.org/pandas-docs/stable/user_guide/indexing.html#returning-a-view-versus-a-copy\n",
      "  data[feat] = data[feat].replace(self.meta[feat].get_mapping())\n",
      "/mnt/nfs/home/mckeenk/cyclops/cyclops/processors/feature/feature.py:696: SettingWithCopyWarning: \n",
      "A value is trying to be set on a copy of a slice from a DataFrame.\n",
      "Try using .loc[row_indexer,col_indexer] = value instead\n",
      "\n",
      "See the caveats in the documentation: https://pandas.pydata.org/pandas-docs/stable/user_guide/indexing.html#returning-a-view-versus-a-copy\n",
      "  data[feat] = data[feat].replace(self.meta[feat].get_mapping())\n"
     ]
    }
   ],
   "source": [
    "tab_vectorized = tab_features.vectorize(to_binary_indicators=ordinal_features)"
   ]
  },
  {
   "cell_type": "code",
   "execution_count": 16,
   "id": "2887b32a-4797-4e77-9426-ed81053b9a1a",
   "metadata": {},
   "outputs": [
    {
     "data": {
      "text/plain": [
       "(107686, 42)"
      ]
     },
     "execution_count": 16,
     "metadata": {},
     "output_type": "execute_result"
    }
   ],
   "source": [
    "tab_vectorized.shape"
   ]
  },
  {
   "cell_type": "code",
   "execution_count": 17,
   "id": "8d6b8700-b998-4871-80cb-644c1202e9dc",
   "metadata": {},
   "outputs": [
    {
     "data": {
      "text/plain": [
       "['encounter_id', 'features']"
      ]
     },
     "execution_count": 17,
     "metadata": {},
     "output_type": "execute_result"
    }
   ],
   "source": [
    "tab_vectorized.axis_names"
   ]
  },
  {
   "cell_type": "code",
   "execution_count": 18,
   "id": "9660ecd6-7907-48c2-993e-c309533614a9",
   "metadata": {},
   "outputs": [
    {
     "data": {
      "text/plain": [
       "['prev_encounter_count', 'age', 'los_derived']"
      ]
     },
     "execution_count": 18,
     "metadata": {},
     "output_type": "execute_result"
    }
   ],
   "source": [
    "numeric_features = tab_features.features_by_type(NUMERIC)\n",
    "numeric_features"
   ]
  },
  {
   "cell_type": "code",
   "execution_count": 28,
   "id": "8cbab08d-2570-4e06-a2c5-75cee20035ea",
   "metadata": {},
   "outputs": [
    {
     "name": "stderr",
     "output_type": "stream",
     "text": [
      "2022-07-19 17:54:43,164 \u001b[1;37mINFO\u001b[0m cyclops.utils.file - Saving array to tab_vectorized.npy\n"
     ]
    },
    {
     "data": {
      "text/plain": [
       "'tab_vectorized.npy'"
      ]
     },
     "execution_count": 28,
     "metadata": {},
     "output_type": "execute_result"
    }
   ],
   "source": [
    "tab_vectorized.save(\"tab_vectorized.npy\")"
   ]
  },
  {
   "cell_type": "markdown",
   "id": "2e1fa42f-42e5-4755-b28c-a8f83e9fdcf6",
   "metadata": {
    "tags": []
   },
   "source": [
    "## Temporal"
   ]
  },
  {
   "cell_type": "code",
   "execution_count": 19,
   "id": "f31ee164-a497-45da-8d0f-841940c1b1fc",
   "metadata": {},
   "outputs": [
    {
     "name": "stderr",
     "output_type": "stream",
     "text": [
      "2022-07-19 17:35:13,952 \u001b[1;37mINFO\u001b[0m cyclops.utils.file - Loading DataFrame from labs.parquet\n"
     ]
    },
    {
     "data": {
      "text/html": [
       "<div>\n",
       "<style scoped>\n",
       "    .dataframe tbody tr th:only-of-type {\n",
       "        vertical-align: middle;\n",
       "    }\n",
       "\n",
       "    .dataframe tbody tr th {\n",
       "        vertical-align: top;\n",
       "    }\n",
       "\n",
       "    .dataframe thead th {\n",
       "        text-align: right;\n",
       "    }\n",
       "</style>\n",
       "<table border=\"1\" class=\"dataframe\">\n",
       "  <thead>\n",
       "    <tr style=\"text-align: right;\">\n",
       "      <th></th>\n",
       "      <th>encounter_id</th>\n",
       "      <th>event_name</th>\n",
       "      <th>event_value</th>\n",
       "      <th>event_value_unit</th>\n",
       "      <th>event_timestamp</th>\n",
       "    </tr>\n",
       "  </thead>\n",
       "  <tbody>\n",
       "    <tr>\n",
       "      <th>2526779</th>\n",
       "      <td>15983490</td>\n",
       "      <td>glucose point of care</td>\n",
       "      <td>6.1</td>\n",
       "      <td>mmol/L</td>\n",
       "      <td>2019-03-29 09:03:00</td>\n",
       "    </tr>\n",
       "    <tr>\n",
       "      <th>1401506</th>\n",
       "      <td>13749220</td>\n",
       "      <td>mean cell volume</td>\n",
       "      <td>89.1</td>\n",
       "      <td>fL</td>\n",
       "      <td>2013-10-22 12:04:00</td>\n",
       "    </tr>\n",
       "    <tr>\n",
       "      <th>5288291</th>\n",
       "      <td>12274326</td>\n",
       "      <td>bicarbonate</td>\n",
       "      <td>22.0</td>\n",
       "      <td>mmol/L</td>\n",
       "      <td>2013-10-09 06:00:00</td>\n",
       "    </tr>\n",
       "    <tr>\n",
       "      <th>3808443</th>\n",
       "      <td>12117011</td>\n",
       "      <td>potassium</td>\n",
       "      <td>3.6</td>\n",
       "      <td>mmol/L</td>\n",
       "      <td>2015-04-04 08:17:00</td>\n",
       "    </tr>\n",
       "    <tr>\n",
       "      <th>7205612</th>\n",
       "      <td>13790718</td>\n",
       "      <td>white blood cell count</td>\n",
       "      <td>6.2</td>\n",
       "      <td>x10e9/L</td>\n",
       "      <td>2019-10-28 09:15:00</td>\n",
       "    </tr>\n",
       "  </tbody>\n",
       "</table>\n",
       "</div>"
      ],
      "text/plain": [
       "         encounter_id              event_name  event_value event_value_unit  \\\n",
       "2526779      15983490   glucose point of care          6.1           mmol/L   \n",
       "1401506      13749220        mean cell volume         89.1               fL   \n",
       "5288291      12274326             bicarbonate         22.0           mmol/L   \n",
       "3808443      12117011               potassium          3.6           mmol/L   \n",
       "7205612      13790718  white blood cell count          6.2          x10e9/L   \n",
       "\n",
       "            event_timestamp  \n",
       "2526779 2019-03-29 09:03:00  \n",
       "1401506 2013-10-22 12:04:00  \n",
       "5288291 2013-10-09 06:00:00  \n",
       "3808443 2015-04-04 08:17:00  \n",
       "7205612 2019-10-28 09:15:00  "
      ]
     },
     "execution_count": 19,
     "metadata": {},
     "output_type": "execute_result"
    }
   ],
   "source": [
    "labs = load_dataframe(\"labs.parquet\")\n",
    "\n",
    "labs = labs.sample(n=int(len(labs) / 20))\n",
    "\n",
    "labs.head(5)"
   ]
  },
  {
   "cell_type": "code",
   "execution_count": null,
   "id": "adf7b90b-ab81-40d1-834c-6cce60be7805",
   "metadata": {},
   "outputs": [],
   "source": [
    "labs[EVENT_NAME].unique()"
   ]
  },
  {
   "cell_type": "code",
   "execution_count": null,
   "id": "707b1c32-1028-4a2f-baf5-c801d2c8b18b",
   "metadata": {},
   "outputs": [],
   "source": [
    "labs[EVENT_NAME] = normalize_names(labs[EVENT_NAME])\n",
    "labs[EVENT_VALUE] = normalize_values(labs[EVENT_VALUE])"
   ]
  },
  {
   "cell_type": "code",
   "execution_count": null,
   "id": "1aecf290-58a8-4959-84ad-3510e92bc765",
   "metadata": {},
   "outputs": [],
   "source": [
    "labs[EVENT_NAME].unique()"
   ]
  },
  {
   "cell_type": "code",
   "execution_count": 20,
   "id": "82083fec-c08d-4e76-99de-821e66cc391b",
   "metadata": {},
   "outputs": [],
   "source": [
    "aggregator = Aggregator(\n",
    "    aggfuncs={EVENT_VALUE: MEAN},\n",
    "    timestamp_col=EVENT_TIMESTAMP,\n",
    "    time_by=ENCOUNTER_ID,\n",
    "    agg_by=[ENCOUNTER_ID, EVENT_NAME],\n",
    "    timestep_size=8,\n",
    "    window_duration=24,  # Optional\n",
    "    # agg_meta_for=EVENT_VALUE,  # Optional\n",
    ")"
   ]
  },
  {
   "cell_type": "code",
   "execution_count": 21,
   "id": "3353003a",
   "metadata": {},
   "outputs": [],
   "source": [
    "labs = labs.reset_index(drop=True)\n",
    "\n",
    "tmp_features = TemporalFeatures(\n",
    "    labs,\n",
    "    features=EVENT_VALUE,\n",
    "    by=[ENCOUNTER_ID, EVENT_NAME],\n",
    "    timestamp_col=EVENT_TIMESTAMP,\n",
    "    aggregator=aggregator,\n",
    ")"
   ]
  },
  {
   "cell_type": "code",
   "execution_count": 22,
   "id": "56454fe9-58c7-4094-8bcb-0617e09a8d44",
   "metadata": {},
   "outputs": [
    {
     "name": "stderr",
     "output_type": "stream",
     "text": [
      "2022-07-19 17:35:18,134 \u001b[1;37mINFO\u001b[0m cyclops.processors.cleaning - Dropped nulls over columns: event_timestamp. Removed 9 rows.\n",
      "2022-07-19 17:44:37,649 \u001b[1;37mINFO\u001b[0m cyclops.utils.profile - Finished executing function __call__ in 559.585993 s\n"
     ]
    },
    {
     "data": {
      "text/html": [
       "<div>\n",
       "<style scoped>\n",
       "    .dataframe tbody tr th:only-of-type {\n",
       "        vertical-align: middle;\n",
       "    }\n",
       "\n",
       "    .dataframe tbody tr th {\n",
       "        vertical-align: top;\n",
       "    }\n",
       "\n",
       "    .dataframe thead th {\n",
       "        text-align: right;\n",
       "    }\n",
       "</style>\n",
       "<table border=\"1\" class=\"dataframe\">\n",
       "  <thead>\n",
       "    <tr style=\"text-align: right;\">\n",
       "      <th></th>\n",
       "      <th></th>\n",
       "      <th></th>\n",
       "      <th>event_value</th>\n",
       "      <th>timestep_start</th>\n",
       "    </tr>\n",
       "    <tr>\n",
       "      <th>encounter_id</th>\n",
       "      <th>event_name</th>\n",
       "      <th>timestep</th>\n",
       "      <th></th>\n",
       "      <th></th>\n",
       "    </tr>\n",
       "  </thead>\n",
       "  <tbody>\n",
       "    <tr>\n",
       "      <th rowspan=\"2\" valign=\"top\">11100040</th>\n",
       "      <th>pt</th>\n",
       "      <th>0</th>\n",
       "      <td>12.50</td>\n",
       "      <td>2018-07-03 22:44:00</td>\n",
       "    </tr>\n",
       "    <tr>\n",
       "      <th>glucose point of care</th>\n",
       "      <th>0</th>\n",
       "      <td>14.10</td>\n",
       "      <td>2018-07-03 22:44:00</td>\n",
       "    </tr>\n",
       "    <tr>\n",
       "      <th rowspan=\"2\" valign=\"top\">11100041</th>\n",
       "      <th>alp</th>\n",
       "      <th>0</th>\n",
       "      <td>37.00</td>\n",
       "      <td>2016-12-26 11:53:00</td>\n",
       "    </tr>\n",
       "    <tr>\n",
       "      <th>white blood cell count</th>\n",
       "      <th>0</th>\n",
       "      <td>6.02</td>\n",
       "      <td>2016-12-26 11:53:00</td>\n",
       "    </tr>\n",
       "    <tr>\n",
       "      <th>11100072</th>\n",
       "      <th>hemoglobin</th>\n",
       "      <th>0</th>\n",
       "      <td>98.00</td>\n",
       "      <td>2016-08-13 12:06:00</td>\n",
       "    </tr>\n",
       "  </tbody>\n",
       "</table>\n",
       "</div>"
      ],
      "text/plain": [
       "                                              event_value      timestep_start\n",
       "encounter_id event_name             timestep                                 \n",
       "11100040     pt                     0               12.50 2018-07-03 22:44:00\n",
       "             glucose point of care  0               14.10 2018-07-03 22:44:00\n",
       "11100041     alp                    0               37.00 2016-12-26 11:53:00\n",
       "             white blood cell count 0                6.02 2016-12-26 11:53:00\n",
       "11100072     hemoglobin             0               98.00 2016-08-13 12:06:00"
      ]
     },
     "execution_count": 22,
     "metadata": {},
     "output_type": "execute_result"
    }
   ],
   "source": [
    "aggregated = tmp_features.aggregate()\n",
    "aggregated.head(5)"
   ]
  },
  {
   "cell_type": "code",
   "execution_count": 23,
   "id": "105a0615-d0b5-4bf4-88ae-440969b53d4f",
   "metadata": {},
   "outputs": [
    {
     "name": "stderr",
     "output_type": "stream",
     "text": [
      "2022-07-19 17:44:37,677 \u001b[1;37mINFO\u001b[0m cyclops.utils.file - Saving dataframe to aggregated.parquet\n"
     ]
    },
    {
     "data": {
      "text/plain": [
       "'aggregated.parquet'"
      ]
     },
     "execution_count": 23,
     "metadata": {},
     "output_type": "execute_result"
    }
   ],
   "source": [
    "save_dataframe(aggregated, \"aggregated.parquet\")"
   ]
  },
  {
   "cell_type": "code",
   "execution_count": 25,
   "id": "46ee8234-1dd2-42c0-be27-b749d8fde645",
   "metadata": {},
   "outputs": [
    {
     "name": "stderr",
     "output_type": "stream",
     "text": [
      "2022-07-19 17:54:41,699 \u001b[1;37mINFO\u001b[0m cyclops.utils.profile - Finished executing function vectorize in 278.507680 s\n"
     ]
    },
    {
     "data": {
      "text/plain": [
       "(1, 100381, 53, 3)"
      ]
     },
     "execution_count": 25,
     "metadata": {},
     "output_type": "execute_result"
    }
   ],
   "source": [
    "temp_vectorized = aggregator.vectorize(aggregated)\n",
    "temp_vectorized.shape"
   ]
  },
  {
   "cell_type": "code",
   "execution_count": 26,
   "id": "aec592b3-9ce0-42f3-b559-b610c79f2cd2",
   "metadata": {},
   "outputs": [
    {
     "data": {
      "text/plain": [
       "['aggfuncs', 'encounter_id', 'event_name', 'timesteps']"
      ]
     },
     "execution_count": 26,
     "metadata": {},
     "output_type": "execute_result"
    }
   ],
   "source": [
    "temp_vectorized.axis_names"
   ]
  },
  {
   "cell_type": "code",
   "execution_count": 27,
   "id": "3991e654-9da8-41d5-ab45-88a550cbcd72",
   "metadata": {},
   "outputs": [
    {
     "name": "stderr",
     "output_type": "stream",
     "text": [
      "2022-07-19 17:54:41,731 \u001b[1;37mINFO\u001b[0m cyclops.utils.file - Saving array to temp_vectorized.npy\n"
     ]
    },
    {
     "data": {
      "text/plain": [
       "'temp_vectorized.npy'"
      ]
     },
     "execution_count": 27,
     "metadata": {},
     "output_type": "execute_result"
    }
   ],
   "source": [
    "temp_vectorized.save(\"temp_vectorized.npy\")"
   ]
  },
  {
   "cell_type": "markdown",
   "id": "2712021e-c1f7-45af-a9ee-0b194f1f4084",
   "metadata": {},
   "source": [
    "## Prepare before splits"
   ]
  },
  {
   "cell_type": "markdown",
   "id": "b3155519-60c2-49a2-b656-b877636d714b",
   "metadata": {},
   "source": [
    "Take only the encounters available in all of the datasets and align the datasets over encounters."
   ]
  },
  {
   "cell_type": "code",
   "execution_count": 29,
   "id": "7eafe111-1e5b-4c31-9a78-8e35950bf69a",
   "metadata": {},
   "outputs": [
    {
     "data": {
      "text/plain": [
       "((107686, 42), (1, 100381, 53, 3))"
      ]
     },
     "execution_count": 29,
     "metadata": {},
     "output_type": "execute_result"
    }
   ],
   "source": [
    "tab_vectorized.shape, temp_vectorized.shape"
   ]
  },
  {
   "cell_type": "code",
   "execution_count": 32,
   "id": "2c75e1ba-1ec7-4687-9720-8f09fa2a85c8",
   "metadata": {},
   "outputs": [
    {
     "data": {
      "text/plain": [
       "((100381, 42), (1, 100381, 53, 3))"
      ]
     },
     "execution_count": 32,
     "metadata": {},
     "output_type": "execute_result"
    }
   ],
   "source": [
    "tab_vectorized, temp_vectorized = intersect_vectorized(\n",
    "    [tab_vectorized, temp_vectorized], axes=ENCOUNTER_ID\n",
    ")\n",
    "tab_vectorized.shape, temp_vectorized.shape"
   ]
  },
  {
   "cell_type": "code",
   "execution_count": 33,
   "id": "0bc170b7-7ac7-4818-a2cb-5b925c0fb92e",
   "metadata": {},
   "outputs": [],
   "source": [
    "# Standardize only the numeric features (e.g., not binary indicators)\n",
    "tab_vectorized.add_normalizer(\n",
    "    FEATURES,\n",
    "    normalizer_map={feat: STANDARD for feat in numeric_features},\n",
    ")"
   ]
  },
  {
   "cell_type": "code",
   "execution_count": 34,
   "id": "25079f9c-ac16-4e4f-8877-d4c635129ca3",
   "metadata": {},
   "outputs": [],
   "source": [
    "# Standardize all features\n",
    "temp_vectorized.add_normalizer(\n",
    "    EVENT_NAME,\n",
    "    normalization_method=STANDARD,\n",
    ")"
   ]
  },
  {
   "cell_type": "markdown",
   "id": "37de7746-4a35-4c86-a14e-d7afaea3e631",
   "metadata": {},
   "source": [
    "### Dataset splits"
   ]
  },
  {
   "cell_type": "markdown",
   "id": "67704f38-b3b4-497d-8eb7-2c90e02fe8ee",
   "metadata": {},
   "source": [
    "Split into training, validation, and testing datasets such that the tabular and temporal encounters remain aligned."
   ]
  },
  {
   "cell_type": "code",
   "execution_count": 35,
   "id": "d9cb3e00-ba34-4b55-976c-50642ba6abe2",
   "metadata": {},
   "outputs": [],
   "source": [
    "tab_splits, temp_splits = split_vectorized(\n",
    "    [tab_vectorized, temp_vectorized], SPLIT_FRACTIONS, axes=ENCOUNTER_ID\n",
    ")\n",
    "tab_train_X, tab_val_X, tab_test_X = tab_splits\n",
    "temp_train, temp_val, temp_test = temp_splits"
   ]
  },
  {
   "cell_type": "code",
   "execution_count": 36,
   "id": "5cd1ccad-ac0f-4ffe-bc9e-cc25d30f8ca8",
   "metadata": {},
   "outputs": [
    {
     "data": {
      "text/plain": [
       "((70267, 42), (20076, 42), (10038, 42))"
      ]
     },
     "execution_count": 36,
     "metadata": {},
     "output_type": "execute_result"
    }
   ],
   "source": [
    "tab_train_X.shape, tab_val_X.shape, tab_test_X.shape"
   ]
  },
  {
   "cell_type": "code",
   "execution_count": 37,
   "id": "ea7fa736-172c-4cee-a86f-bb8c9d436459",
   "metadata": {},
   "outputs": [
    {
     "data": {
      "text/plain": [
       "((1, 70267, 53, 3), (1, 20076, 53, 3), (1, 10038, 53, 3))"
      ]
     },
     "execution_count": 37,
     "metadata": {},
     "output_type": "execute_result"
    }
   ],
   "source": [
    "temp_train.shape, temp_val.shape, temp_test.shape"
   ]
  },
  {
   "cell_type": "markdown",
   "id": "4d0e640d-4b09-40e0-af4c-885f59b0283e",
   "metadata": {},
   "source": [
    "### Split features & targets"
   ]
  },
  {
   "cell_type": "markdown",
   "id": "97b6367c-f3c1-421e-9dd0-1d7d0ba6519c",
   "metadata": {},
   "source": [
    "Split out the targets in the temporal data."
   ]
  },
  {
   "cell_type": "code",
   "execution_count": 38,
   "id": "64da3749-24d3-4d6a-82ff-894bc4e2f29c",
   "metadata": {},
   "outputs": [
    {
     "ename": "NameError",
     "evalue": "name 'TARGET_NAME_PROCESSED' is not defined",
     "output_type": "error",
     "traceback": [
      "\u001b[0;31m---------------------------------------------------------------------------\u001b[0m",
      "\u001b[0;31mNameError\u001b[0m                                 Traceback (most recent call last)",
      "Input \u001b[0;32mIn [38]\u001b[0m, in \u001b[0;36m<cell line: 1>\u001b[0;34m()\u001b[0m\n\u001b[0;32m----> 1\u001b[0m temp_train_X, temp_train_y \u001b[38;5;241m=\u001b[39m temp_train\u001b[38;5;241m.\u001b[39msplit_out(EVENT_NAME, [\u001b[43mTARGET_NAME_PROCESSED\u001b[49m])\n\u001b[1;32m      2\u001b[0m temp_train_X\u001b[38;5;241m.\u001b[39mshape, temp_train_y\u001b[38;5;241m.\u001b[39mshape\n",
      "\u001b[0;31mNameError\u001b[0m: name 'TARGET_NAME_PROCESSED' is not defined"
     ]
    }
   ],
   "source": [
    "temp_train_X, temp_train_y = temp_train.split_out(EVENT_NAME, [TARGET_NAME_PROCESSED])\n",
    "temp_train_X.shape, temp_train_y.shape"
   ]
  },
  {
   "cell_type": "code",
   "execution_count": 39,
   "id": "e535e822-06cc-4959-82e3-72e804a7df86",
   "metadata": {},
   "outputs": [
    {
     "ename": "NameError",
     "evalue": "name 'TARGET_NAME_PROCESSED' is not defined",
     "output_type": "error",
     "traceback": [
      "\u001b[0;31m---------------------------------------------------------------------------\u001b[0m",
      "\u001b[0;31mNameError\u001b[0m                                 Traceback (most recent call last)",
      "Input \u001b[0;32mIn [39]\u001b[0m, in \u001b[0;36m<cell line: 1>\u001b[0;34m()\u001b[0m\n\u001b[0;32m----> 1\u001b[0m temp_val_X, temp_val_y \u001b[38;5;241m=\u001b[39m temp_val\u001b[38;5;241m.\u001b[39msplit_out(EVENT_NAME, [\u001b[43mTARGET_NAME_PROCESSED\u001b[49m])\n\u001b[1;32m      2\u001b[0m temp_val_X\u001b[38;5;241m.\u001b[39mshape, temp_val_y\u001b[38;5;241m.\u001b[39mshape\n",
      "\u001b[0;31mNameError\u001b[0m: name 'TARGET_NAME_PROCESSED' is not defined"
     ]
    }
   ],
   "source": [
    "temp_val_X, temp_val_y = temp_val.split_out(EVENT_NAME, [TARGET_NAME_PROCESSED])\n",
    "temp_val_X.shape, temp_val_y.shape"
   ]
  },
  {
   "cell_type": "code",
   "execution_count": null,
   "id": "28636c6f-3d7f-4aca-80a4-32ea38685770",
   "metadata": {},
   "outputs": [],
   "source": [
    "temp_test_X, temp_test_y = temp_test.split_out(EVENT_NAME, [TARGET_NAME_PROCESSED])\n",
    "temp_test_X.shape, temp_test_y.shape"
   ]
  },
  {
   "cell_type": "markdown",
   "id": "3ba48074-c499-4530-8a66-18ab056e76a3",
   "metadata": {},
   "source": [
    "### Normalization"
   ]
  },
  {
   "cell_type": "code",
   "execution_count": null,
   "id": "38b61851-1daa-4115-9000-64ec337d2a17",
   "metadata": {},
   "outputs": [],
   "source": [
    "splits = tab_train_X, tab_val_X, tab_test_X, temp_train_X, temp_val_X, temp_test_X\n",
    "\n",
    "for split in splits:\n",
    "    split.fit_normalizer()\n",
    "    split.normalize()\n",
    "\n",
    "tab_train_X, tab_val_X, tab_test_X, temp_train_X, temp_val_X, temp_test_X = splits"
   ]
  },
  {
   "cell_type": "markdown",
   "id": "ee9336f6-6209-4e98-be6b-443a009c3ba0",
   "metadata": {},
   "source": [
    "### Save"
   ]
  },
  {
   "cell_type": "code",
   "execution_count": 1,
   "id": "18f4c12e-4e55-4ecd-9384-fc8c42b05b8c",
   "metadata": {},
   "outputs": [
    {
     "ename": "NameError",
     "evalue": "name 'tab_train_X' is not defined",
     "output_type": "error",
     "traceback": [
      "\u001b[0;31m---------------------------------------------------------------------------\u001b[0m",
      "\u001b[0;31mNameError\u001b[0m                                 Traceback (most recent call last)",
      "Input \u001b[0;32mIn [1]\u001b[0m, in \u001b[0;36m<cell line: 2>\u001b[0;34m()\u001b[0m\n\u001b[1;32m      1\u001b[0m \u001b[38;5;66;03m# Store data (serialize)\u001b[39;00m\n\u001b[0;32m----> 2\u001b[0m (\u001b[43mtab_train_X\u001b[49m, )\n\u001b[1;32m      4\u001b[0m \u001b[38;5;28;01mwith\u001b[39;00m \u001b[38;5;28mopen\u001b[39m(\u001b[38;5;124m'\u001b[39m\u001b[38;5;124mfilename.pickle\u001b[39m\u001b[38;5;124m'\u001b[39m, \u001b[38;5;124m'\u001b[39m\u001b[38;5;124mwb\u001b[39m\u001b[38;5;124m'\u001b[39m) \u001b[38;5;28;01mas\u001b[39;00m handle:\n\u001b[1;32m      5\u001b[0m     pickle\u001b[38;5;241m.\u001b[39mdump(your_data, handle, protocol\u001b[38;5;241m=\u001b[39mpickle\u001b[38;5;241m.\u001b[39mHIGHEST_PROTOCOL)\n",
      "\u001b[0;31mNameError\u001b[0m: name 'tab_train_X' is not defined"
     ]
    }
   ],
   "source": [
    "# Store data (serialize)\n",
    "vectorized = [\n",
    "    (tab_train_X, \"tab_train_X\"),\n",
    "    (tab_val_X, \"tab_val_X\"),\n",
    "    (tab_test_X, \"tab_test_X\"),\n",
    "    (temp_train_X, \"temp_train_X\"),\n",
    "    (temp_train_y, \"temp_train_y\"),\n",
    "    (temp_val_X, \"temp_val_X\"),\n",
    "    (temp_val_y, \"temp_val_y\"),\n",
    "    (temp_test_X, \"temp_test_X\"),\n",
    "    (temp_test_y, \"temp_test_y\"),\n",
    "]\n",
    "for vec, name in vectorized:\n",
    "    with open(name + '.pkl', 'wb') as handle:\n",
    "        pickle.dump(vec, handle)\n",
    "\n",
    "# Load data (deserialize)\n",
    "#with open('filename.pickle', 'rb') as handle:\n",
    "#    unserialized_data = pickle.load(handle)"
   ]
  },
  {
   "cell_type": "code",
   "execution_count": null,
   "id": "01933a7e-a934-4d2c-8a24-93e526e5b7c9",
   "metadata": {},
   "outputs": [],
   "source": [
    "\"\"\"\n",
    "tab_train_X.save(\"tab_train_X.npy\")\n",
    "tab_val_X.save(\"tab_val_X.npy\")\n",
    "tab_test_X.save(\"tab_test_X.npy\")\n",
    "\n",
    "temp_train_X.save(\"temp_train_X.npy\")\n",
    "temp_val_X.save(\"temp_val_X.npy\")\n",
    "temp_test_X.save(\"temp_test_X.npy\")\n",
    "\n",
    "temp_train_y.save(\"temp_train_y.npy\")\n",
    "temp_val_y.save(\"temp_val_y.npy\")\n",
    "temp_test_y.save(\"temp_test_y.npy\")\n",
    "\"\"\""
   ]
  }
 ],
 "metadata": {
  "kernelspec": {
   "display_name": "cyclops_env",
   "language": "python",
   "name": "cyclops_env"
  },
  "language_info": {
   "codemirror_mode": {
    "name": "ipython",
    "version": 3
   },
   "file_extension": ".py",
   "mimetype": "text/x-python",
   "name": "python",
   "nbconvert_exporter": "python",
   "pygments_lexer": "ipython3",
   "version": "3.9.7"
  }
 },
 "nbformat": 4,
 "nbformat_minor": 5
}
