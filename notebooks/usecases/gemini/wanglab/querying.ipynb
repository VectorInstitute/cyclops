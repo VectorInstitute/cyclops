{
 "cells": [
  {
   "cell_type": "markdown",
   "id": "ea4eaeb8-ca81-44ed-bd43-3e20d75c93bb",
   "metadata": {},
   "source": [
    "Filtering to get only main diagnosis... should this be done? Why aren't the other diagnoses important?\n",
    "\n",
    "Instead we could get the encounter/main diagnoses in another table, then join on the entire diagnoses table to keep the other diagnoses"
   ]
  },
  {
   "cell_type": "code",
   "execution_count": null,
   "id": "8856a295-212f-4590-80ea-be7ac06f9ffa",
   "metadata": {},
   "outputs": [],
   "source": [
    "import pickle\n",
    "import time\n",
    "\n",
    "import numpy as np\n",
    "from consts import OUTCOME_DEATH, OUTCOME_EDEMA\n",
    "from querying import (\n",
    "    get_bt_for_cohort,\n",
    "    get_cohort,\n",
    "    get_er_for_cohort,\n",
    "    get_labs,\n",
    "    get_most_recent_encounters,\n",
    "    get_non_cardiac_diagnoses,\n",
    "    main,\n",
    ")\n",
    "\n",
    "from cyclops.processors.column_names import (\n",
    "    ADMIT_TIMESTAMP,\n",
    "    AGE,\n",
    "    CARE_UNIT,\n",
    "    DIAGNOSIS_CODE,\n",
    "    DIAGNOSIS_TRAJECTORY,\n",
    "    ENCOUNTER_ID,\n",
    "    EVENT_NAME,\n",
    "    EVENT_TIMESTAMP,\n",
    "    EVENT_VALUE,\n",
    "    EVENT_VALUE_UNIT,\n",
    "    HOSPITAL_ID,\n",
    "    SEX,\n",
    "    SUBJECT_ID,\n",
    "    TIMESTEP,\n",
    "    YEAR,\n",
    ")\n",
    "from cyclops.processors.constants import (\n",
    "    BINARY,\n",
    "    CATEGORICAL_INDICATOR,\n",
    "    FEATURE_INDICATOR_ATTR,\n",
    "    FEATURE_MAPPING_ATTR,\n",
    "    FEATURE_TYPE_ATTR,\n",
    "    FEATURE_TYPES,\n",
    "    FEATURES,\n",
    "    MEAN,\n",
    "    MIN_MAX,\n",
    "    MISSING_CATEGORY,\n",
    "    NUMERIC,\n",
    "    ORDINAL,\n",
    "    STRING,\n",
    "    TARGETS,\n",
    ")\n",
    "from cyclops.processors.feature.split import intersect_datasets\n",
    "from cyclops.utils.file import load_dataframe, save_dataframe"
   ]
  },
  {
   "cell_type": "code",
   "execution_count": null,
   "id": "2c824cdd-3399-4c49-9c29-666287916c1b",
   "metadata": {},
   "outputs": [],
   "source": [
    "t = time.time()\n",
    "cohort, labs = main()\n",
    "print(time.time() - t)\n",
    "cohort"
   ]
  },
  {
   "cell_type": "code",
   "execution_count": null,
   "id": "be4396f5-f17c-4e8b-ae61-24a590b0fcba",
   "metadata": {},
   "outputs": [],
   "source": [
    "save_dataframe(cohort, \"cohort_raw.parquet\")\n",
    "save_dataframe(labs, \"labs_raw.parquet\")"
   ]
  },
  {
   "cell_type": "code",
   "execution_count": null,
   "id": "d97ff77b-2599-4b25-9506-0ce1460f0c0a",
   "metadata": {},
   "outputs": [],
   "source": [
    "cohort[OUTCOME_DEATH].sum() / len(cohort)"
   ]
  },
  {
   "cell_type": "code",
   "execution_count": null,
   "id": "bf93effa-5a8f-41de-98e0-1a0d9a22089c",
   "metadata": {},
   "outputs": [],
   "source": [
    "cohort[OUTCOME_EDEMA].sum() / len(cohort)"
   ]
  },
  {
   "cell_type": "code",
   "execution_count": null,
   "id": "032186ed-9141-442b-83de-76111c0f25dd",
   "metadata": {},
   "outputs": [],
   "source": [
    "# Intersect over encounter IDs to get only those encounters common to both\n",
    "cohort, labs = intersect_datasets([cohort, labs], ENCOUNTER_ID)"
   ]
  },
  {
   "cell_type": "code",
   "execution_count": null,
   "id": "71bd3975-0390-4aa2-b480-d45875acd55b",
   "metadata": {},
   "outputs": [],
   "source": [
    "save_dataframe(cohort, \"cohort.parquet\")\n",
    "save_dataframe(labs, \"labs.parquet\")"
   ]
  },
  {
   "cell_type": "code",
   "execution_count": null,
   "id": "d9d8d4ae-3fa3-4c65-98ac-b7f538bc35b2",
   "metadata": {},
   "outputs": [],
   "source": []
  }
 ],
 "metadata": {
  "kernelspec": {
   "display_name": "cyclops",
   "language": "python",
   "name": "cyclops"
  },
  "language_info": {
   "codemirror_mode": {
    "name": "ipython",
    "version": 3
   },
   "file_extension": ".py",
   "mimetype": "text/x-python",
   "name": "python",
   "nbconvert_exporter": "python",
   "pygments_lexer": "ipython3",
   "version": "3.9.7"
  }
 },
 "nbformat": 4,
 "nbformat_minor": 5
}
