{
 "cells": [
  {
   "cell_type": "markdown",
   "id": "ea4eaeb8-ca81-44ed-bd43-3e20d75c93bb",
   "metadata": {},
   "source": [
    "Filtering to get only main diagnosis... should this be done? Why aren't the other diagnoses important?\n",
    "\n",
    "Instead we could get the encounter/main diagnoses in another table, then join on the entire diagnoses table to keep the other diagnoses"
   ]
  },
  {
   "cell_type": "code",
   "execution_count": null,
   "id": "8856a295-212f-4590-80ea-be7ac06f9ffa",
   "metadata": {},
   "outputs": [],
   "source": [
    "import time\n",
    "\n",
    "from querying import (\n",
    "    get_bt_for_cohort,\n",
    "    get_cohort,\n",
    "    get_er_for_cohort,\n",
    "    get_most_recent_encounters,\n",
    "    get_non_cardiac_diagnoses,\n",
    "    main,\n",
    ")\n",
    "\n",
    "from cyclops.processors.column_names import (\n",
    "    ADMIT_TIMESTAMP,\n",
    "    AGE,\n",
    "    CARE_UNIT,\n",
    "    DIAGNOSIS_CODE,\n",
    "    DIAGNOSIS_TRAJECTORY,\n",
    "    ENCOUNTER_ID,\n",
    "    EVENT_NAME,\n",
    "    EVENT_TIMESTAMP,\n",
    "    EVENT_VALUE,\n",
    "    EVENT_VALUE_UNIT,\n",
    "    HOSPITAL_ID,\n",
    "    SEX,\n",
    "    SUBJECT_ID,\n",
    "    TIMESTEP,\n",
    "    YEAR,\n",
    ")\n",
    "from cyclops.processors.constants import (\n",
    "    BINARY,\n",
    "    CATEGORICAL_INDICATOR,\n",
    "    FEATURE_INDICATOR_ATTR,\n",
    "    FEATURE_MAPPING_ATTR,\n",
    "    FEATURE_TYPE_ATTR,\n",
    "    FEATURE_TYPES,\n",
    "    FEATURES,\n",
    "    MIN_MAX,\n",
    "    MISSING_CATEGORY,\n",
    "    NUMERIC,\n",
    "    ORDINAL,\n",
    "    STANDARD,\n",
    "    STRING,\n",
    "    TARGETS,\n",
    ")\n",
    "from cyclops.processors.feature.feature import TabularFeatures, TemporalFeatures\n",
    "from cyclops.processors.feature.normalization import GroupbyNormalizer\n",
    "from cyclops.processors.aggregate import Aggregator"
   ]
  },
  {
   "cell_type": "code",
   "execution_count": null,
   "id": "2c824cdd-3399-4c49-9c29-666287916c1b",
   "metadata": {},
   "outputs": [],
   "source": [
    "t = time.time()\n",
    "cohort, labs = main()\n",
    "labs = labs[labs[\"event_value\"] != \"PND\"]\n",
    "cohort.drop(\"subject_id\", axis=1)\n",
    "print(time.time() - t)\n",
    "cohort"
   ]
  },
  {
   "cell_type": "code",
   "execution_count": null,
   "id": "f10658f9-cfcb-4137-a633-d68357239963",
   "metadata": {},
   "outputs": [],
   "source": [
    "from cyclops.processors.diagnoses import process_diagnoses\n",
    "\n",
    "trajectory = process_diagnoses(cohort[DIAGNOSIS_CODE])\n",
    "cohort[trajectory.name] = trajectory\n",
    "cohort = cohort.drop(DIAGNOSIS_CODE, axis=1)\n",
    "cohort"
   ]
  },
  {
   "cell_type": "code",
   "execution_count": null,
   "id": "d97ff77b-2599-4b25-9506-0ce1460f0c0a",
   "metadata": {},
   "outputs": [],
   "source": [
    "cohort[\"outcome_death\"].sum() / len(cohort)"
   ]
  },
  {
   "cell_type": "code",
   "execution_count": null,
   "id": "bf93effa-5a8f-41de-98e0-1a0d9a22089c",
   "metadata": {},
   "outputs": [],
   "source": [
    "try:\n",
    "    print(cohort[\"outcome_edema\"].sum() / len(cohort))\n",
    "except:\n",
    "    pass"
   ]
  },
  {
   "cell_type": "markdown",
   "id": "9bff9705-888a-4c5a-9fa5-b354d732f849",
   "metadata": {
    "jp-MarkdownHeadingCollapsed": true,
    "tags": []
   },
   "source": [
    "## Tabular"
   ]
  },
  {
   "cell_type": "code",
   "execution_count": null,
   "id": "70bf199d-d527-43cd-8a37-f24df14b89e4",
   "metadata": {},
   "outputs": [],
   "source": [
    "features = [\n",
    "    HOSPITAL_ID,\n",
    "    AGE,\n",
    "    SEX,\n",
    "    HOSPITAL_ID,\n",
    "    DIAGNOSIS_TRAJECTORY,\n",
    "    \"readmission\",\n",
    "    \"from_nursing_home_mapped\",\n",
    "    \"from_acute_care_institution_mapped\",\n",
    "    \"los_derived\",\n",
    "    \"prev_encounter_count\",\n",
    "]\n",
    "\n",
    "tab_features = TabularFeatures(\n",
    "    cohort,\n",
    "    features,\n",
    "    targets=[\"outcome_death\"],\n",
    ")\n",
    "\n",
    "df = tab_features.get_data(to_indicators=[HOSPITAL_ID, \"readmission\"])\n",
    "df"
   ]
  },
  {
   "cell_type": "code",
   "execution_count": null,
   "id": "978db567-78cd-4219-b14c-21f09818e710",
   "metadata": {},
   "outputs": [],
   "source": [
    "from cyclops.processors.feature.type_handling import collect_indicators\n",
    "data, meta = collect_indicators(df, [HOSPITAL_ID, \"readmission\"])\n",
    "data"
   ]
  },
  {
   "cell_type": "code",
   "execution_count": null,
   "id": "d743ba8f-e01c-491b-b912-b73e98a7e930",
   "metadata": {},
   "outputs": [],
   "source": [
    "meta"
   ]
  },
  {
   "cell_type": "code",
   "execution_count": null,
   "id": "3d5c30f9-601e-43d4-9121-3a15e4f2b413",
   "metadata": {},
   "outputs": [],
   "source": []
  },
  {
   "cell_type": "code",
   "execution_count": null,
   "id": "d294385a-5015-41e2-9d22-fe73613fd9d2",
   "metadata": {},
   "outputs": [],
   "source": [
    "tab_features.types"
   ]
  },
  {
   "cell_type": "code",
   "execution_count": null,
   "id": "969d7751-8129-46d6-ac23-59532f9e703e",
   "metadata": {},
   "outputs": [],
   "source": [
    "tab_features.meta[SEX].get_mapping()"
   ]
  },
  {
   "cell_type": "code",
   "execution_count": null,
   "id": "62939d01-b112-4fb3-b2d2-2171a2ba8d02",
   "metadata": {},
   "outputs": [],
   "source": [
    "tab_features.meta[\"outcome_death\"].get_mapping()"
   ]
  },
  {
   "cell_type": "code",
   "execution_count": null,
   "id": "7ed4d890-8841-4dd6-b570-cf268a1e6bd2",
   "metadata": {},
   "outputs": [],
   "source": [
    "tab_features.meta.keys()"
   ]
  },
  {
   "cell_type": "code",
   "execution_count": null,
   "id": "c49e23b4-cc19-4706-bc03-3981aa8b2b33",
   "metadata": {},
   "outputs": [],
   "source": [
    "tab_features.meta[\"readmission\"].get_mapping()"
   ]
  },
  {
   "cell_type": "code",
   "execution_count": null,
   "id": "6980d92d-66d1-4991-932f-cacfe9c14378",
   "metadata": {},
   "outputs": [],
   "source": [
    "feature_normalizer = GroupbyNormalizer({AGE: MIN_MAX, \"los_derived\": STANDARD})\n",
    "tab_features.add_normalizer(FEATURES, feature_normalizer)\n",
    "tab_features.normalize(FEATURES)"
   ]
  },
  {
   "cell_type": "code",
   "execution_count": null,
   "id": "8a3d5028-c121-4c2b-8193-b0cc084c8502",
   "metadata": {},
   "outputs": [],
   "source": [
    "tab_features.inverse_normalize(FEATURES)"
   ]
  },
  {
   "cell_type": "markdown",
   "id": "2e1fa42f-42e5-4755-b28c-a8f83e9fdcf6",
   "metadata": {},
   "source": [
    "## Temporal"
   ]
  },
  {
   "cell_type": "code",
   "execution_count": null,
   "id": "27ea2912-49dd-4429-872e-7822c7debf61",
   "metadata": {},
   "outputs": [],
   "source": [
    "import time\n",
    "\n",
    "from querying import (\n",
    "    get_bt_for_cohort,\n",
    "    get_cohort,\n",
    "    get_er_for_cohort,\n",
    "    get_most_recent_encounters,\n",
    "    get_non_cardiac_diagnoses,\n",
    "    main,\n",
    ")\n",
    "\n",
    "from cyclops.processors.column_names import (\n",
    "    ADMIT_TIMESTAMP,\n",
    "    AGE,\n",
    "    CARE_UNIT,\n",
    "    DIAGNOSIS_CODE,\n",
    "    DIAGNOSIS_TRAJECTORY,\n",
    "    ENCOUNTER_ID,\n",
    "    EVENT_NAME,\n",
    "    EVENT_TIMESTAMP,\n",
    "    EVENT_VALUE,\n",
    "    EVENT_VALUE_UNIT,\n",
    "    HOSPITAL_ID,\n",
    "    SEX,\n",
    "    SUBJECT_ID,\n",
    "    TIMESTEP,\n",
    "    YEAR,\n",
    ")\n",
    "from cyclops.processors.constants import (\n",
    "    BINARY,\n",
    "    CATEGORICAL_INDICATOR,\n",
    "    FEATURE_INDICATOR_ATTR,\n",
    "    FEATURE_MAPPING_ATTR,\n",
    "    FEATURE_TYPE_ATTR,\n",
    "    FEATURE_TYPES,\n",
    "    FEATURES,\n",
    "    MIN_MAX,\n",
    "    MISSING_CATEGORY,\n",
    "    NUMERIC,\n",
    "    ORDINAL,\n",
    "    STANDARD,\n",
    "    STRING,\n",
    "    TARGETS,\n",
    ")\n",
    "from cyclops.processors.feature.feature import TabularFeatures, TemporalFeatures\n",
    "from cyclops.processors.feature.normalization import GroupbyNormalizer\n",
    "from cyclops.processors.aggregate import Aggregator"
   ]
  },
  {
   "cell_type": "code",
   "execution_count": null,
   "id": "1a512b04-7716-4358-bb6e-bbd0cd7e2384",
   "metadata": {},
   "outputs": [],
   "source": [
    "import pandas as pd\n",
    "\n",
    "import cyclops.query.process as qp\n",
    "from cyclops.query import gemini\n",
    "\n",
    "def get_labs() -> pd.DataFrame:\n",
    "    table = gemini.events(\n",
    "        \"lab\", drop_null_event_names=True #, drop_null_event_values=True\n",
    "    ).query\n",
    "\n",
    "    table = qp.FilterColumns(\n",
    "        [ENCOUNTER_ID, EVENT_NAME, EVENT_VALUE, EVENT_VALUE_UNIT, EVENT_TIMESTAMP]\n",
    "    )(table)\n",
    "\n",
    "    return gemini.get_interface(table).run(limit=1000)\n",
    "\n",
    "labs = get_labs()\n",
    "labs"
   ]
  },
  {
   "cell_type": "code",
   "execution_count": null,
   "id": "69da292a-d79c-4917-a399-96083d84ea6b",
   "metadata": {},
   "outputs": [],
   "source": [
    "from cyclops.processors.cleaning import normalize_values\n",
    "labs = normalize_values(labs)"
   ]
  },
  {
   "cell_type": "code",
   "execution_count": null,
   "id": "3353003a",
   "metadata": {},
   "outputs": [],
   "source": [
    "feature_normalizer = GroupbyNormalizer({EVENT_VALUE: STANDARD}, by=EVENT_NAME)\n",
    "\n",
    "aggregator = Aggregator(\n",
    "    {EVENT_VALUE: \"mean\"},\n",
    "    EVENT_TIMESTAMP,\n",
    "    ENCOUNTER_ID,\n",
    "    [ENCOUNTER_ID, EVENT_NAME],\n",
    "    8,\n",
    "    #window_duration=24,\n",
    "    agg_meta_for=EVENT_VALUE,\n",
    ")\n",
    "\n",
    "tmp_features = TemporalFeatures(\n",
    "    labs,\n",
    "    [EVENT_VALUE],\n",
    "    [ENCOUNTER_ID, EVENT_NAME],\n",
    "    EVENT_TIMESTAMP,\n",
    "    aggregator = aggregator\n",
    ")\n",
    "tmp_features.add_normalizer(FEATURES, feature_normalizer)\n",
    "tmp_features.normalize(FEATURES)\n",
    "tmp_features.get_data()"
   ]
  },
  {
   "cell_type": "code",
   "execution_count": null,
   "id": "6b526db6-8a0b-42a9-8b07-ce7b607805d5",
   "metadata": {},
   "outputs": [],
   "source": [
    "aggregated = tmp_features.aggregate()\n",
    "aggregated"
   ]
  },
  {
   "cell_type": "code",
   "execution_count": null,
   "id": "fa95d79c-77e7-4040-adbb-81e5645e984a",
   "metadata": {},
   "outputs": [],
   "source": [
    "tmp_features.aggregator.window_times"
   ]
  },
  {
   "cell_type": "code",
   "execution_count": null,
   "id": "0b53b6d5-3cfb-4eb5-9f57-25ed4e06076c",
   "metadata": {},
   "outputs": [],
   "source": [
    "aggregated = aggregated.reset_index().sort_values([ENCOUNTER_ID, EVENT_NAME, TIMESTEP])\n",
    "aggregated"
   ]
  },
  {
   "cell_type": "code",
   "execution_count": null,
   "id": "063dbc27-cb5f-4b2f-8098-f366799cc204",
   "metadata": {},
   "outputs": [],
   "source": []
  }
 ],
 "metadata": {
  "kernelspec": {
   "display_name": "cyclops_env",
   "language": "python",
   "name": "cyclops_env"
  },
  "language_info": {
   "codemirror_mode": {
    "name": "ipython",
    "version": 3
   },
   "file_extension": ".py",
   "mimetype": "text/x-python",
   "name": "python",
   "nbconvert_exporter": "python",
   "pygments_lexer": "ipython3",
   "version": "3.9.7"
  }
 },
 "nbformat": 4,
 "nbformat_minor": 5
}
