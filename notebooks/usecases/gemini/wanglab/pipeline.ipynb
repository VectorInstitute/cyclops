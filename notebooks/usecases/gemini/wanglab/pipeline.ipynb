{
 "cells": [
  {
   "cell_type": "markdown",
   "id": "ea4eaeb8-ca81-44ed-bd43-3e20d75c93bb",
   "metadata": {},
   "source": [
    "Filtering to get only main diagnosis... should this be done? Why aren't the other diagnoses important?\n",
    "\n",
    "Instead we could get the encounter/main diagnoses in another table, then join on the entire diagnoses table to keep the other diagnoses"
   ]
  },
  {
   "cell_type": "code",
   "execution_count": null,
   "id": "8856a295-212f-4590-80ea-be7ac06f9ffa",
   "metadata": {},
   "outputs": [],
   "source": [
    "import time\n",
    "import numpy as np\n",
    "import pickle\n",
    "\n",
    "from querying import (\n",
    "    get_bt_for_cohort,\n",
    "    get_cohort,\n",
    "    get_er_for_cohort,\n",
    "    get_most_recent_encounters,\n",
    "    get_non_cardiac_diagnoses,\n",
    "    get_labs,\n",
    "    main,\n",
    ")\n",
    "\n",
    "from cyclops.processors.aggregate import Aggregator\n",
    "from cyclops.processors.cleaning import normalize_names, normalize_values\n",
    "from cyclops.processors.column_names import (\n",
    "    ADMIT_TIMESTAMP,\n",
    "    AGE,\n",
    "    CARE_UNIT,\n",
    "    DIAGNOSIS_CODE,\n",
    "    DIAGNOSIS_TRAJECTORY,\n",
    "    ENCOUNTER_ID,\n",
    "    EVENT_NAME,\n",
    "    EVENT_TIMESTAMP,\n",
    "    EVENT_VALUE,\n",
    "    EVENT_VALUE_UNIT,\n",
    "    HOSPITAL_ID,\n",
    "    SEX,\n",
    "    SUBJECT_ID,\n",
    "    TIMESTEP,\n",
    "    YEAR,\n",
    ")\n",
    "from cyclops.processors.constants import (\n",
    "    BINARY,\n",
    "    CATEGORICAL_INDICATOR,\n",
    "    FEATURE_INDICATOR_ATTR,\n",
    "    FEATURE_MAPPING_ATTR,\n",
    "    FEATURE_TYPE_ATTR,\n",
    "    FEATURE_TYPES,\n",
    "    FEATURES,\n",
    "    MEAN,\n",
    "    MIN_MAX,\n",
    "    MISSING_CATEGORY,\n",
    "    NUMERIC,\n",
    "    ORDINAL,\n",
    "    STANDARD,\n",
    "    STRING,\n",
    "    TARGETS,\n",
    ")\n",
    "from cyclops.processors.feature.feature import TabularFeatures, TemporalFeatures\n",
    "from cyclops.processors.feature.normalization import GroupbyNormalizer\n",
    "from cyclops.processors.feature.split import intersect_datasets, split_datasets\n",
    "from cyclops.utils.file import load_dataframe, save_dataframe"
   ]
  },
  {
   "cell_type": "code",
   "execution_count": null,
   "id": "cbb27234-2bf1-4fe4-9f04-959769f30ce1",
   "metadata": {},
   "outputs": [],
   "source": [
    "import numpy as np\n",
    "\n",
    "from cyclops.processors.feature.normalization import VectorizedNormalizer\n",
    "from cyclops.processors.constants import MIN_MAX, STANDARD"
   ]
  },
  {
   "cell_type": "code",
   "execution_count": null,
   "id": "696169d2-585e-402b-8035-c857ab101a1b",
   "metadata": {},
   "outputs": [],
   "source": [
    "feat_map = {\"A\": 0, \"B\": 1}\n",
    "\n",
    "data = np.array([\n",
    "    [[1, 2, 3], [3, 2, 100]],\n",
    "    [[4, 5, 2], [9, 20, 10]],\n",
    "]).astype(float)\n",
    "data.shape"
   ]
  },
  {
   "cell_type": "code",
   "execution_count": null,
   "id": "f017935e-3bc7-46c4-94d0-4f2ffacaf8a3",
   "metadata": {},
   "outputs": [],
   "source": [
    "data"
   ]
  },
  {
   "cell_type": "code",
   "execution_count": null,
   "id": "968ecab4-b1eb-4619-ac89-da5a3cd102e6",
   "metadata": {},
   "outputs": [],
   "source": [
    "data[:, 0, :]"
   ]
  },
  {
   "cell_type": "code",
   "execution_count": null,
   "id": "64e6a065-b985-43db-8bfa-b92db922192b",
   "metadata": {},
   "outputs": [],
   "source": [
    "data[:, 1, :]"
   ]
  },
  {
   "cell_type": "code",
   "execution_count": null,
   "id": "7396a561-300b-4f26-9a7a-bff724076993",
   "metadata": {},
   "outputs": [],
   "source": [
    "feat_map = {\"A\": 0, \"B\": 1}"
   ]
  },
  {
   "cell_type": "code",
   "execution_count": null,
   "id": "59a10b34-61a7-43db-8115-3af12b851636",
   "metadata": {},
   "outputs": [],
   "source": [
    "normalizer = VectorizedNormalizer(\n",
    "    axis=1,\n",
    "    normalization_method=STANDARD\n",
    ")\n",
    "normalizer.fit(data, feat_map)"
   ]
  },
  {
   "cell_type": "code",
   "execution_count": null,
   "id": "095a74be-6a95-480f-b209-70fee7d5e98e",
   "metadata": {},
   "outputs": [],
   "source": [
    "normalizer.transform(data, feat_map)"
   ]
  },
  {
   "cell_type": "code",
   "execution_count": null,
   "id": "bd4bf9da-37d3-476c-ad5a-92c1e3307968",
   "metadata": {},
   "outputs": [],
   "source": [
    "normalizer.normalizers"
   ]
  },
  {
   "cell_type": "code",
   "execution_count": null,
   "id": "da232676-a6e4-43f7-b958-9c6683a69264",
   "metadata": {},
   "outputs": [],
   "source": [
    "SPLIT_FRACTIONS = [0.7, 0.2]"
   ]
  },
  {
   "cell_type": "markdown",
   "id": "812de7a4-afae-4562-9805-99d8c21af645",
   "metadata": {
    "tags": []
   },
   "source": [
    "# Querying"
   ]
  },
  {
   "cell_type": "code",
   "execution_count": null,
   "id": "2c824cdd-3399-4c49-9c29-666287916c1b",
   "metadata": {},
   "outputs": [],
   "source": [
    "t = time.time()\n",
    "cohort, labs = main()\n",
    "print(time.time() - t)\n",
    "cohort"
   ]
  },
  {
   "cell_type": "code",
   "execution_count": null,
   "id": "be4396f5-f17c-4e8b-ae61-24a590b0fcba",
   "metadata": {},
   "outputs": [],
   "source": [
    "save_dataframe(cohort, \"cohort_raw.parquet\")\n",
    "save_dataframe(labs, \"labs_raw.parquet\")"
   ]
  },
  {
   "cell_type": "code",
   "execution_count": null,
   "id": "d97ff77b-2599-4b25-9506-0ce1460f0c0a",
   "metadata": {},
   "outputs": [],
   "source": [
    "cohort[\"outcome_death\"].sum() / len(cohort)"
   ]
  },
  {
   "cell_type": "code",
   "execution_count": null,
   "id": "bf93effa-5a8f-41de-98e0-1a0d9a22089c",
   "metadata": {},
   "outputs": [],
   "source": [
    "cohort[\"outcome_edema\"].sum() / len(cohort)"
   ]
  },
  {
   "cell_type": "code",
   "execution_count": null,
   "id": "032186ed-9141-442b-83de-76111c0f25dd",
   "metadata": {},
   "outputs": [],
   "source": [
    "# Intersect over the ENCOUNTER_IDs\n",
    "cohort, labs = intersect_datasets([cohort, labs], ENCOUNTER_ID)"
   ]
  },
  {
   "cell_type": "code",
   "execution_count": null,
   "id": "b7af7057-2676-4c5a-be68-244f0866d56f",
   "metadata": {},
   "outputs": [],
   "source": [
    "len(cohort[ENCOUNTER_ID].unique())"
   ]
  },
  {
   "cell_type": "code",
   "execution_count": null,
   "id": "c618c142-769e-4e98-a6ca-2c10d32e5433",
   "metadata": {},
   "outputs": [],
   "source": [
    "len(labs[ENCOUNTER_ID].unique())"
   ]
  },
  {
   "cell_type": "code",
   "execution_count": null,
   "id": "f05f7fa3-f201-41ab-a06e-31ab50d70623",
   "metadata": {},
   "outputs": [],
   "source": [
    "labs[EVENT_NAME].unique()"
   ]
  },
  {
   "cell_type": "code",
   "execution_count": null,
   "id": "69da292a-d79c-4917-a399-96083d84ea6b",
   "metadata": {},
   "outputs": [],
   "source": [
    "labs[EVENT_NAME] = normalize_names(labs[EVENT_NAME])\n",
    "labs[EVENT_VALUE] = normalize_values(labs[EVENT_VALUE])"
   ]
  },
  {
   "cell_type": "code",
   "execution_count": null,
   "id": "47db795f-7c96-4ce3-b118-ef14b8d1ca78",
   "metadata": {},
   "outputs": [],
   "source": [
    "labs[EVENT_NAME].unique()"
   ]
  },
  {
   "cell_type": "code",
   "execution_count": null,
   "id": "71bd3975-0390-4aa2-b480-d45875acd55b",
   "metadata": {},
   "outputs": [],
   "source": [
    "save_dataframe(cohort, \"cohort.parquet\")\n",
    "save_dataframe(labs, \"labs.parquet\")"
   ]
  },
  {
   "cell_type": "markdown",
   "id": "b7173f9e-e370-4659-8055-07135b9ff5d4",
   "metadata": {
    "tags": []
   },
   "source": [
    "# Processing"
   ]
  },
  {
   "cell_type": "markdown",
   "id": "9bff9705-888a-4c5a-9fa5-b354d732f849",
   "metadata": {
    "tags": []
   },
   "source": [
    "## Tabular"
   ]
  },
  {
   "cell_type": "code",
   "execution_count": null,
   "id": "c45ffd1d-7ca3-41d7-b0e4-91bce7e2c5c8",
   "metadata": {},
   "outputs": [],
   "source": [
    "cohort = load_dataframe(\"cohort.parquet\")"
   ]
  },
  {
   "cell_type": "code",
   "execution_count": null,
   "id": "70bf199d-d527-43cd-8a37-f24df14b89e4",
   "metadata": {},
   "outputs": [],
   "source": [
    "features = [\n",
    "    HOSPITAL_ID,\n",
    "    AGE,\n",
    "    SEX,\n",
    "    DIAGNOSIS_TRAJECTORY,\n",
    "    \"readmission\",\n",
    "    \"from_nursing_home_mapped\",\n",
    "    \"from_acute_care_institution_mapped\",\n",
    "    \"los_derived\",\n",
    "    \"prev_encounter_count\",\n",
    "]\n",
    "\n",
    "normalizer = GroupbyNormalizer({AGE: MIN_MAX, \"los_derived\": STANDARD})\n",
    "\n",
    "cohort = cohort.reset_index().drop(\"index\", axis=1)\n",
    "\n",
    "tab_features = TabularFeatures(\n",
    "    cohort,\n",
    "    features,\n",
    "    by=ENCOUNTER_ID,\n",
    "    targets=[\"outcome_death\", \"outcome_edema\"],\n",
    "    normalizers={FEATURES: feature_normalizer}\n",
    ")"
   ]
  },
  {
   "cell_type": "code",
   "execution_count": null,
   "id": "d294385a-5015-41e2-9d22-fe73613fd9d2",
   "metadata": {},
   "outputs": [],
   "source": [
    "tab_features.types"
   ]
  },
  {
   "cell_type": "code",
   "execution_count": null,
   "id": "7ed4d890-8841-4dd6-b570-cf268a1e6bd2",
   "metadata": {},
   "outputs": [],
   "source": [
    "tab_features.meta.keys()"
   ]
  },
  {
   "cell_type": "code",
   "execution_count": null,
   "id": "a061438c-aa96-434b-8917-a21d526d294e",
   "metadata": {},
   "outputs": [],
   "source": [
    "tab_features.meta[SEX].get_mapping()"
   ]
  },
  {
   "cell_type": "code",
   "execution_count": null,
   "id": "969d7751-8129-46d6-ac23-59532f9e703e",
   "metadata": {},
   "outputs": [],
   "source": [
    "tab_features.meta[DIAGNOSIS_TRAJECTORY].get_mapping()"
   ]
  },
  {
   "cell_type": "code",
   "execution_count": null,
   "id": "62939d01-b112-4fb3-b2d2-2171a2ba8d02",
   "metadata": {},
   "outputs": [],
   "source": [
    "tab_features.meta[\"outcome_death\"].get_mapping()"
   ]
  },
  {
   "cell_type": "code",
   "execution_count": null,
   "id": "6f5da2fe-5fc5-4f0f-9d15-92f9634b62ef",
   "metadata": {},
   "outputs": [],
   "source": [
    "tab_features.meta[\"hospital_id\"].get_mapping()"
   ]
  },
  {
   "cell_type": "code",
   "execution_count": null,
   "id": "c49e23b4-cc19-4706-bc03-3981aa8b2b33",
   "metadata": {},
   "outputs": [],
   "source": [
    "tab_features.meta[\"readmission\"].get_mapping()"
   ]
  },
  {
   "cell_type": "markdown",
   "id": "2e1fa42f-42e5-4755-b28c-a8f83e9fdcf6",
   "metadata": {
    "jp-MarkdownHeadingCollapsed": true,
    "tags": []
   },
   "source": [
    "## Temporal"
   ]
  },
  {
   "cell_type": "code",
   "execution_count": null,
   "id": "f31ee164-a497-45da-8d0f-841940c1b1fc",
   "metadata": {},
   "outputs": [],
   "source": [
    "labs = load_dataframe(\"labs.parquet\")"
   ]
  },
  {
   "cell_type": "code",
   "execution_count": null,
   "id": "3353003a",
   "metadata": {},
   "outputs": [],
   "source": [
    "features = [EVENT_VALUE]\n",
    "\n",
    "aggregator = Aggregator(\n",
    "    aggfuncs={EVENT_VALUE: MEAN},\n",
    "    timestamp_col=EVENT_TIMESTAMP,\n",
    "    time_by=ENCOUNTER_ID,\n",
    "    agg_by=[ENCOUNTER_ID, EVENT_NAME],\n",
    "    timestep_size=8,\n",
    "    window_duration=24,  # Optional\n",
    "    #agg_meta_for=EVENT_VALUE,  # Optional\n",
    ")\n",
    "normalizer = GroupbyNormalizer({EVENT_VALUE: STANDARD}, by=EVENT_NAME)\n",
    "\n",
    "labs = labs.reset_index().drop(\"index\", axis=1)\n",
    "\n",
    "tmp_features = TemporalFeatures(\n",
    "    labs,\n",
    "    features=features,\n",
    "    by=[ENCOUNTER_ID, EVENT_NAME],\n",
    "    timestamp_col=EVENT_TIMESTAMP,\n",
    "    aggregator=aggregator,\n",
    "    normalizers={FEATURES: normalizer}\n",
    ")\n",
    "\n",
    "# Normalize and get the data\n",
    "tmp_features.normalize(FEATURES)\n",
    "tmp_features.get_data()"
   ]
  },
  {
   "cell_type": "code",
   "execution_count": null,
   "id": "56454fe9-58c7-4094-8bcb-0617e09a8d44",
   "metadata": {},
   "outputs": [],
   "source": [
    "aggregated = tmp_features.aggregate()\n",
    "aggregated"
   ]
  },
  {
   "cell_type": "code",
   "execution_count": null,
   "id": "105a0615-d0b5-4bf4-88ae-440969b53d4f",
   "metadata": {},
   "outputs": [],
   "source": [
    "save_dataframe(aggregated, \"aggregated.parquet\")"
   ]
  },
  {
   "cell_type": "code",
   "execution_count": null,
   "id": "46ee8234-1dd2-42c0-be27-b749d8fde645",
   "metadata": {},
   "outputs": [],
   "source": [
    "temp_vectorized, group_indices = aggregator.vectorize(aggregated)\n",
    "temp_vectorized.shape"
   ]
  },
  {
   "cell_type": "code",
   "execution_count": null,
   "id": "49bc9338-f0e2-487c-9f59-49c7fe01219d",
   "metadata": {},
   "outputs": [],
   "source": [
    "temp_vectorized = np.squeeze(temp_vectorized)\n",
    "temp_vectorized.shape"
   ]
  },
  {
   "cell_type": "code",
   "execution_count": null,
   "id": "01d95990-2cf7-43b0-aaf8-80b1fc9130f8",
   "metadata": {},
   "outputs": [],
   "source": [
    "np.save(\"temp_vectorized.npy\", temp_vectorized)"
   ]
  },
  {
   "cell_type": "code",
   "execution_count": null,
   "id": "63e5336f-2228-47c0-a15b-95345bd1a131",
   "metadata": {},
   "outputs": [],
   "source": [
    "agg_col_map, encounter_id_map, temp_feat_map = group_indices"
   ]
  },
  {
   "cell_type": "code",
   "execution_count": null,
   "id": "e8e64a7b-059f-4186-b91f-4a834f372240",
   "metadata": {},
   "outputs": [],
   "source": [
    "dict(list(encounter_id_map.items())[0:10])"
   ]
  },
  {
   "cell_type": "code",
   "execution_count": null,
   "id": "4f005e0e-6d73-4334-9384-267e628a1e6c",
   "metadata": {},
   "outputs": [],
   "source": [
    "temp_vectorized[\n",
    "    encounter_id_map[15999943], event_name_map[\"hemoglobin\"]\n",
    "]"
   ]
  },
  {
   "cell_type": "markdown",
   "id": "f63d46ce-cc4c-49fe-8169-a25b258cc797",
   "metadata": {},
   "source": [
    "# Dataset processing"
   ]
  },
  {
   "cell_type": "code",
   "execution_count": null,
   "id": "7eafe111-1e5b-4c31-9a78-8e35950bf69a",
   "metadata": {},
   "outputs": [],
   "source": [
    "tab_splits, temp_splits = split_features([])\n",
    "tab_train, tab_val, tab_test = tab_split"
   ]
  },
  {
   "cell_type": "code",
   "execution_count": null,
   "id": "2c75e1ba-1ec7-4687-9720-8f09fa2a85c8",
   "metadata": {},
   "outputs": [],
   "source": [
    "tab_train.normalize()\n",
    "tab_val.normalize()\n",
    "tab_test.normalize()"
   ]
  },
  {
   "cell_type": "code",
   "execution_count": null,
   "id": "6980d92d-66d1-4991-932f-cacfe9c14378",
   "metadata": {},
   "outputs": [],
   "source": [
    "tab_features.normalize(FEATURES)\n",
    "tabular = tab_features.get_data(\n",
    "    features_only=True,\n",
    "    to_binary_indicators=[DIAGNOSIS_TRAJECTORY, HOSPITAL_ID, \"readmission\"]\n",
    ")\n",
    "tabular"
   ]
  },
  {
   "cell_type": "code",
   "execution_count": null,
   "id": "1754f59a-1a66-4746-af17-345a9320f1c9",
   "metadata": {},
   "outputs": [],
   "source": [
    "# Split over ENCOUNTER_ID\n",
    "train_tab, val_tab, test_tab = tab_features.split(SPLIT_FRACTIONS)"
   ]
  },
  {
   "cell_type": "code",
   "execution_count": null,
   "id": "43d72bb4-8c52-42ce-ac55-6b938bfd3685",
   "metadata": {},
   "outputs": [],
   "source": [
    "len(train_tab._data)"
   ]
  },
  {
   "cell_type": "code",
   "execution_count": null,
   "id": "b4aa6d55-cecb-415c-8c16-5c2e9a62aa5e",
   "metadata": {},
   "outputs": [],
   "source": [
    "len(val_tab._data)"
   ]
  },
  {
   "cell_type": "code",
   "execution_count": null,
   "id": "737382bc-1af8-44db-bfb7-9bf8fc8a7c87",
   "metadata": {},
   "outputs": [],
   "source": [
    "len(test_tab._data)"
   ]
  },
  {
   "cell_type": "code",
   "execution_count": null,
   "id": "ae0e10f4-0115-4073-9d73-05ac715259ae",
   "metadata": {},
   "outputs": [],
   "source": [
    "len(tab_features._data) == len(train_tab._data) + len(val_tab._data) + len(test_tab._data)"
   ]
  },
  {
   "cell_type": "code",
   "execution_count": null,
   "id": "f98d6df1-ce6c-4dd4-8131-6e33a78614d3",
   "metadata": {},
   "outputs": [],
   "source": [
    "tabular.columns"
   ]
  },
  {
   "cell_type": "code",
   "execution_count": null,
   "id": "56658b4c-a707-4814-8c40-0bab08ea7586",
   "metadata": {},
   "outputs": [],
   "source": [
    "tab_vectorized = tab_features.vectorize(\n",
    "    to_binary_indicators=[DIAGNOSIS_TRAJECTORY, HOSPITAL_ID, \"readmission\"]\n",
    ")\n",
    "tab_vectorized.data.shape"
   ]
  },
  {
   "cell_type": "code",
   "execution_count": null,
   "id": "7077989b-2750-4af6-bc6b-9061fca11b9a",
   "metadata": {},
   "outputs": [],
   "source": [
    "split = tab_vectorized.get_by_value(None, ['hospital_id_THPM', 'hospital_id_UHNTG'])\n",
    "split.data.shape"
   ]
  },
  {
   "cell_type": "code",
   "execution_count": null,
   "id": "a5158d4a-b694-4b7e-b8f0-17d5c3b0cb83",
   "metadata": {},
   "outputs": [],
   "source": [
    "dict(list(tab_by_map.items())[0:10])"
   ]
  },
  {
   "cell_type": "code",
   "execution_count": null,
   "id": "a2cfc622-7397-4a6c-a370-129c14647625",
   "metadata": {},
   "outputs": [],
   "source": [
    "dict(list(tab_feat_map.items())[0:10])"
   ]
  },
  {
   "cell_type": "code",
   "execution_count": null,
   "id": "1c2c9809-3116-4f9f-ba5c-c462ab3948e0",
   "metadata": {},
   "outputs": [],
   "source": [
    "save_dataframe(tabular, \"tabular.parquet\")\n",
    "np.save(\"tab_vectorized.npy\", tab_vectorized)\n",
    "\n",
    "with open('filename.pickle', 'wb') as handle:\n",
    "    pickle.dump(a, handle, protocol=pickle.HIGHEST_PROTOCOL)\n",
    "\n",
    "with open('filename.pickle', 'rb') as handle:\n",
    "    b = pickle.load(handle)"
   ]
  },
  {
   "cell_type": "markdown",
   "id": "1b50f91e-6bf4-4c0a-8fe9-559169d78be2",
   "metadata": {},
   "source": [
    "Compare ENCOUNTER_ID"
   ]
  },
  {
   "cell_type": "code",
   "execution_count": null,
   "id": "e6a007bb-a656-4c2c-b25c-fcdcf1ad8f60",
   "metadata": {},
   "outputs": [],
   "source": [
    "tabular = load_dataframe(\"tabular.parquet\")\n",
    "tab_vectorized = np.load(\"tab_vectorized.npy\")\n",
    "temp_vectorized = np.load(\"temp_vectorized.npy\")\n"
   ]
  },
  {
   "cell_type": "code",
   "execution_count": null,
   "id": "9c46f6ae-37a7-4526-a535-a1c2184a520b",
   "metadata": {},
   "outputs": [],
   "source": [
    "tab_vectorized.shape"
   ]
  },
  {
   "cell_type": "code",
   "execution_count": null,
   "id": "97508bd8-c13f-4d77-947d-50f2610e8a90",
   "metadata": {},
   "outputs": [],
   "source": [
    "temp_vectorized.shape"
   ]
  },
  {
   "cell_type": "code",
   "execution_count": null,
   "id": "3e8bf83f-52a7-4ed2-b04e-84a6eee61920",
   "metadata": {},
   "outputs": [],
   "source": [
    "# Compare ENCOUNTER_ID\n",
    "tab_encounter_ids = tabular[ENCOUNTER_ID].values\n",
    "\n",
    "encounter_id_map_inv = {v: k for k, v in encounter_id_map.items()}\n",
    "temp_encounter_ids = np.array(\n",
    "    [encounter_id_map_inv[i] for i in range(len(encounter_id_map))]\n",
    ")"
   ]
  },
  {
   "cell_type": "code",
   "execution_count": null,
   "id": "0c4dd4a4-68bc-41f7-9f7d-0ab5a7aa2ef3",
   "metadata": {},
   "outputs": [],
   "source": [
    "tab_encounter_ids"
   ]
  },
  {
   "cell_type": "code",
   "execution_count": null,
   "id": "f659bb16-77fb-4646-9e19-16b75ff4c6cf",
   "metadata": {},
   "outputs": [],
   "source": [
    "temp_encounter_ids"
   ]
  },
  {
   "cell_type": "code",
   "execution_count": null,
   "id": "0534492a-eb79-49af-b09c-d8b670e20b20",
   "metadata": {},
   "outputs": [],
   "source": [
    "assert np.array_equal(tab_encounter_ids, temp_encounter_ids)"
   ]
  },
  {
   "cell_type": "markdown",
   "id": "ad6a010d-6e20-44be-bb34-82c6a3b17102",
   "metadata": {},
   "source": [
    "# Dataset splits"
   ]
  },
  {
   "cell_type": "markdown",
   "id": "1fe62510-1ae3-4c17-bdb6-c2cfa6b302ed",
   "metadata": {},
   "source": [
    "Split and save the datasets"
   ]
  },
  {
   "cell_type": "code",
   "execution_count": null,
   "id": "5c4df9f9-d8b6-4660-8fc9-6c72450dfa8f",
   "metadata": {},
   "outputs": [],
   "source": [
    "tab_split, temp_split = split_datasets([tab_vectorized, temp_vectorized], [0.7, 0.2])\n",
    "tab_train, tab_val, tab_test = tab_split\n",
    "temp_train, temp_val, temp_test = temp_split"
   ]
  },
  {
   "cell_type": "code",
   "execution_count": null,
   "id": "5daf5d85-50e9-4cff-93c3-7555465c286f",
   "metadata": {},
   "outputs": [],
   "source": [
    "print(\"tab_train\", tab_train.shape)\n",
    "print(\"tab_val\", tab_val.shape)\n",
    "print(\"tab_test\", tab_test.shape)\n",
    "print(\"temp_train\", temp_train.shape)\n",
    "print(\"temp_val\", temp_val.shape)\n",
    "print(\"temp_test\", temp_test.shape)"
   ]
  },
  {
   "cell_type": "code",
   "execution_count": null,
   "id": "c8fbde3e-b71c-4d53-af08-5e943289dd3f",
   "metadata": {},
   "outputs": [],
   "source": [
    "np.save(\"tab_train.npy\", tab_train)\n",
    "np.save(\"tab_val.npy\", tab_val)\n",
    "np.save(\"tab_test.npy\", tab_test)\n",
    "np.save(\"temp_train.npy\", temp_train)\n",
    "np.save(\"temp_val.npy\", temp_val)\n",
    "np.save(\"temp_test.npy\", temp_test)"
   ]
  }
 ],
 "metadata": {
  "kernelspec": {
   "display_name": "cyclops_env",
   "language": "python",
   "name": "cyclops_env"
  },
  "language_info": {
   "codemirror_mode": {
    "name": "ipython",
    "version": 3
   },
   "file_extension": ".py",
   "mimetype": "text/x-python",
   "name": "python",
   "nbconvert_exporter": "python",
   "pygments_lexer": "ipython3",
   "version": "3.9.7"
  }
 },
 "nbformat": 4,
 "nbformat_minor": 5
}
