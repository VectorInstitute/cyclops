{
 "cells": [
  {
   "cell_type": "markdown",
   "id": "ea4eaeb8-ca81-44ed-bd43-3e20d75c93bb",
   "metadata": {},
   "source": [
    "Filtering to get only main diagnosis... should this be done? Why aren't the other diagnoses important?\n",
    "\n",
    "Instead we could get the encounter/main diagnoses in another table, then join on the entire diagnoses table to keep the other diagnoses"
   ]
  },
  {
   "cell_type": "code",
   "execution_count": null,
   "id": "8856a295-212f-4590-80ea-be7ac06f9ffa",
   "metadata": {},
   "outputs": [],
   "source": [
    "import time\n",
    "\n",
    "from querying import (\n",
    "    get_bt_for_cohort,\n",
    "    get_cohort,\n",
    "    get_er_for_cohort,\n",
    "    get_most_recent_encounters,\n",
    "    get_non_cardiac_diagnoses,\n",
    "    get_labs,\n",
    "    main,\n",
    ")\n",
    "\n",
    "from cyclops.processors.aggregate import Aggregator\n",
    "from cyclops.processors.cleaning import normalize_names, normalize_values\n",
    "from cyclops.processors.column_names import (\n",
    "    ADMIT_TIMESTAMP,\n",
    "    AGE,\n",
    "    CARE_UNIT,\n",
    "    DIAGNOSIS_CODE,\n",
    "    DIAGNOSIS_TRAJECTORY,\n",
    "    ENCOUNTER_ID,\n",
    "    EVENT_NAME,\n",
    "    EVENT_TIMESTAMP,\n",
    "    EVENT_VALUE,\n",
    "    EVENT_VALUE_UNIT,\n",
    "    HOSPITAL_ID,\n",
    "    SEX,\n",
    "    SUBJECT_ID,\n",
    "    TIMESTEP,\n",
    "    YEAR,\n",
    ")\n",
    "from cyclops.processors.constants import (\n",
    "    BINARY,\n",
    "    CATEGORICAL_INDICATOR,\n",
    "    FEATURE_INDICATOR_ATTR,\n",
    "    FEATURE_MAPPING_ATTR,\n",
    "    FEATURE_TYPE_ATTR,\n",
    "    FEATURE_TYPES,\n",
    "    FEATURES,\n",
    "    MEAN,\n",
    "    MIN_MAX,\n",
    "    MISSING_CATEGORY,\n",
    "    NUMERIC,\n",
    "    ORDINAL,\n",
    "    STANDARD,\n",
    "    STRING,\n",
    "    TARGETS,\n",
    ")\n",
    "from cyclops.processors.feature.feature import TabularFeatures, TemporalFeatures\n",
    "from cyclops.processors.feature.normalization import GroupbyNormalizer\n",
    "from cyclops.utils.file import load_dataframe, save_dataframe"
   ]
  },
  {
   "cell_type": "code",
   "execution_count": null,
   "id": "2c824cdd-3399-4c49-9c29-666287916c1b",
   "metadata": {},
   "outputs": [],
   "source": [
    "t = time.time()\n",
    "cohort, labs = main()\n",
    "print(time.time() - t)\n",
    "cohort"
   ]
  },
  {
   "cell_type": "code",
   "execution_count": null,
   "id": "d97ff77b-2599-4b25-9506-0ce1460f0c0a",
   "metadata": {},
   "outputs": [],
   "source": [
    "cohort[\"outcome_death\"].sum() / len(cohort)"
   ]
  },
  {
   "cell_type": "code",
   "execution_count": null,
   "id": "bf93effa-5a8f-41de-98e0-1a0d9a22089c",
   "metadata": {},
   "outputs": [],
   "source": [
    "cohort[\"outcome_edema\"].sum() / len(cohort)"
   ]
  },
  {
   "cell_type": "markdown",
   "id": "9bff9705-888a-4c5a-9fa5-b354d732f849",
   "metadata": {
    "tags": []
   },
   "source": [
    "## Tabular"
   ]
  },
  {
   "cell_type": "code",
   "execution_count": null,
   "id": "70bf199d-d527-43cd-8a37-f24df14b89e4",
   "metadata": {},
   "outputs": [],
   "source": [
    "features = [\n",
    "    HOSPITAL_ID,\n",
    "    AGE,\n",
    "    SEX,\n",
    "    DIAGNOSIS_TRAJECTORY,\n",
    "    \"readmission\",\n",
    "    \"from_nursing_home_mapped\",\n",
    "    \"from_acute_care_institution_mapped\",\n",
    "    \"los_derived\",\n",
    "    \"prev_encounter_count\",\n",
    "]\n",
    "\n",
    "tab_features = TabularFeatures(\n",
    "    cohort,\n",
    "    features,\n",
    "    targets=[\"outcome_death\", \"outcome_edema\"],\n",
    ")"
   ]
  },
  {
   "cell_type": "code",
   "execution_count": null,
   "id": "d294385a-5015-41e2-9d22-fe73613fd9d2",
   "metadata": {},
   "outputs": [],
   "source": [
    "tab_features.types"
   ]
  },
  {
   "cell_type": "code",
   "execution_count": null,
   "id": "7ed4d890-8841-4dd6-b570-cf268a1e6bd2",
   "metadata": {},
   "outputs": [],
   "source": [
    "tab_features.meta.keys()"
   ]
  },
  {
   "cell_type": "code",
   "execution_count": null,
   "id": "a061438c-aa96-434b-8917-a21d526d294e",
   "metadata": {},
   "outputs": [],
   "source": [
    "tab_features.meta[SEX].get_mapping()"
   ]
  },
  {
   "cell_type": "code",
   "execution_count": null,
   "id": "969d7751-8129-46d6-ac23-59532f9e703e",
   "metadata": {},
   "outputs": [],
   "source": [
    "tab_features.meta[DIAGNOSIS_TRAJECTORY].get_mapping()"
   ]
  },
  {
   "cell_type": "code",
   "execution_count": null,
   "id": "62939d01-b112-4fb3-b2d2-2171a2ba8d02",
   "metadata": {},
   "outputs": [],
   "source": [
    "tab_features.meta[\"outcome_death\"].get_mapping()"
   ]
  },
  {
   "cell_type": "code",
   "execution_count": null,
   "id": "6f5da2fe-5fc5-4f0f-9d15-92f9634b62ef",
   "metadata": {},
   "outputs": [],
   "source": [
    "tab_features.meta[\"hospital_id\"].get_mapping()"
   ]
  },
  {
   "cell_type": "code",
   "execution_count": null,
   "id": "c49e23b4-cc19-4706-bc03-3981aa8b2b33",
   "metadata": {},
   "outputs": [],
   "source": [
    "tab_features.meta[\"readmission\"].get_mapping()"
   ]
  },
  {
   "cell_type": "code",
   "execution_count": null,
   "id": "6980d92d-66d1-4991-932f-cacfe9c14378",
   "metadata": {},
   "outputs": [],
   "source": [
    "feature_normalizer = GroupbyNormalizer({AGE: MIN_MAX, \"los_derived\": STANDARD})\n",
    "tab_features.add_normalizer(FEATURES, feature_normalizer)\n",
    "tab_features.normalize(FEATURES)\n",
    "tabular = tab_features.get_data(\n",
    "    features_only=True,\n",
    "    to_binary_indicators=[DIAGNOSIS_TRAJECTORY, HOSPITAL_ID, \"readmission\"]\n",
    ")\n",
    "tabular"
   ]
  },
  {
   "cell_type": "code",
   "execution_count": null,
   "id": "f98d6df1-ce6c-4dd4-8131-6e33a78614d3",
   "metadata": {},
   "outputs": [],
   "source": [
    "tabular.columns"
   ]
  },
  {
   "cell_type": "code",
   "execution_count": null,
   "id": "417b5594-aa55-4c0e-a0fa-7f2b7c2ee82e",
   "metadata": {},
   "outputs": [],
   "source": [
    "tabular.values"
   ]
  },
  {
   "cell_type": "markdown",
   "id": "2e1fa42f-42e5-4755-b28c-a8f83e9fdcf6",
   "metadata": {},
   "source": [
    "## Temporal"
   ]
  },
  {
   "cell_type": "code",
   "execution_count": null,
   "id": "7b87b0da-8880-4e89-bd42-fa8fe3118824",
   "metadata": {},
   "outputs": [],
   "source": [
    "labs_copy = labs.copy()\n",
    "#labs = labs_copy.copy()"
   ]
  },
  {
   "cell_type": "code",
   "execution_count": null,
   "id": "f05f7fa3-f201-41ab-a06e-31ab50d70623",
   "metadata": {},
   "outputs": [],
   "source": [
    "labs[EVENT_NAME].unique()"
   ]
  },
  {
   "cell_type": "code",
   "execution_count": null,
   "id": "69da292a-d79c-4917-a399-96083d84ea6b",
   "metadata": {},
   "outputs": [],
   "source": [
    "labs[EVENT_NAME] = normalize_names(labs[EVENT_NAME])\n",
    "labs[EVENT_VALUE] = normalize_values(labs[EVENT_VALUE])"
   ]
  },
  {
   "cell_type": "code",
   "execution_count": null,
   "id": "47db795f-7c96-4ce3-b118-ef14b8d1ca78",
   "metadata": {},
   "outputs": [],
   "source": [
    "labs[EVENT_NAME].unique()"
   ]
  },
  {
   "cell_type": "code",
   "execution_count": null,
   "id": "3353003a",
   "metadata": {},
   "outputs": [],
   "source": [
    "feature_normalizer = GroupbyNormalizer({EVENT_VALUE: STANDARD}, by=EVENT_NAME)\n",
    "\n",
    "aggregator = Aggregator(\n",
    "    aggfuncs={EVENT_VALUE: MEAN},\n",
    "    timestamp_col=EVENT_TIMESTAMP,\n",
    "    time_by=ENCOUNTER_ID,\n",
    "    agg_by=[ENCOUNTER_ID, EVENT_NAME],\n",
    "    timestep_size=8,\n",
    "    window_duration=24,  # Optional\n",
    "    #agg_meta_for=EVENT_VALUE,  # Optional\n",
    ")\n",
    "\n",
    "labs = labs.reset_index().drop(\"index\", axis=1)\n",
    "\n",
    "features = [EVENT_VALUE]\n",
    "tmp_features = TemporalFeatures(\n",
    "    labs,\n",
    "    features=features,\n",
    "    by=[ENCOUNTER_ID, EVENT_NAME],\n",
    "    timestamp_col=EVENT_TIMESTAMP,\n",
    "    aggregator=aggregator,\n",
    ")\n",
    "#tmp_features.add_normalizer(FEATURES, feature_normalizer)\n",
    "tmp_features.get_data()"
   ]
  },
  {
   "cell_type": "code",
   "execution_count": null,
   "id": "73a227ce-3587-476c-a250-e3e95fc20d4d",
   "metadata": {},
   "outputs": [],
   "source": [
    "#tmp_features.normalize(FEATURES)"
   ]
  },
  {
   "cell_type": "code",
   "execution_count": null,
   "id": "d57b2cd1-3b34-4545-b147-6a29e81f8cb3",
   "metadata": {},
   "outputs": [],
   "source": []
  },
  {
   "cell_type": "code",
   "execution_count": null,
   "id": "56454fe9-58c7-4094-8bcb-0617e09a8d44",
   "metadata": {},
   "outputs": [],
   "source": [
    "aggregated = tmp_features.aggregate()\n",
    "aggregated.head(5)"
   ]
  },
  {
   "cell_type": "code",
   "execution_count": null,
   "id": "71164b5d-b59f-40b4-b263-d0c953142b3f",
   "metadata": {},
   "outputs": [],
   "source": [
    "numpy.ndarray - (2000, 20, 3)\n",
    "encounters\n",
    "events (event_names)\n",
    "timesteps/buckets 24/8=3"
   ]
  },
  {
   "cell_type": "code",
   "execution_count": null,
   "id": "46ee8234-1dd2-42c0-be27-b749d8fde645",
   "metadata": {},
   "outputs": [],
   "source": [
    "events_vectorized, group_indices = aggregator.vectorize(aggregated)\n",
    "events_vectorized.shape"
   ]
  },
  {
   "cell_type": "code",
   "execution_count": null,
   "id": "49bc9338-f0e2-487c-9f59-49c7fe01219d",
   "metadata": {},
   "outputs": [],
   "source": [
    "events_vectorized = np.squeeze(events_vectorized)\n",
    "events_vectorized.shape"
   ]
  },
  {
   "cell_type": "code",
   "execution_count": null,
   "id": "63e5336f-2228-47c0-a15b-95345bd1a131",
   "metadata": {},
   "outputs": [],
   "source": [
    "agg_col_map, encounter_id_map, event_name_map = group_indices"
   ]
  },
  {
   "cell_type": "code",
   "execution_count": null,
   "id": "4f005e0e-6d73-4334-9384-267e628a1e6c",
   "metadata": {},
   "outputs": [],
   "source": [
    "events_vectorized[\n",
    "    encounter_id_map[29991695], event_name_map[\"spo2 desat limit - alarms\"]\n",
    "]"
   ]
  },
  {
   "cell_type": "code",
   "execution_count": null,
   "id": "e8e64a7b-059f-4186-b91f-4a834f372240",
   "metadata": {},
   "outputs": [],
   "source": [
    "encounter_id_map"
   ]
  },
  {
   "cell_type": "markdown",
   "id": "ad6a010d-6e20-44be-bb34-82c6a3b17102",
   "metadata": {},
   "source": [
    "# Dataset splits"
   ]
  },
  {
   "cell_type": "code",
   "execution_count": null,
   "id": "4d7967ce-18b6-4b5b-a596-c3a34cd540c0",
   "metadata": {},
   "outputs": [],
   "source": [
    "save_dataframe(aggregated, \"aggregated.parquet\")"
   ]
  },
  {
   "cell_type": "code",
   "execution_count": null,
   "id": "c344a9ad-ec57-41e7-b83e-d6ea20bf9166",
   "metadata": {},
   "outputs": [],
   "source": [
    "save_dataframe(tabular, \"tabular.parquet\")"
   ]
  },
  {
   "cell_type": "code",
   "execution_count": null,
   "id": "e351e23e-d585-400e-8230-94c2ae563d0b",
   "metadata": {},
   "outputs": [],
   "source": [
    "tabular.values.shape"
   ]
  },
  {
   "cell_type": "code",
   "execution_count": null,
   "id": "5c4df9f9-d8b6-4660-8fc9-6c72450dfa8f",
   "metadata": {},
   "outputs": [],
   "source": [
    "train_data, val_data, test_data = split_data(events_vectorized, [0.7, 0.2])"
   ]
  },
  {
   "cell_type": "code",
   "execution_count": null,
   "id": "5daf5d85-50e9-4cff-93c3-7555465c286f",
   "metadata": {},
   "outputs": [],
   "source": [
    "train_data.shape"
   ]
  },
  {
   "cell_type": "code",
   "execution_count": null,
   "id": "efa61ff9-7e04-4a5a-9f59-c64a04d3900e",
   "metadata": {},
   "outputs": [],
   "source": [
    "val_data.shape"
   ]
  },
  {
   "cell_type": "code",
   "execution_count": null,
   "id": "8c7402fd-2b29-47ec-9d2e-172bf5db0224",
   "metadata": {},
   "outputs": [],
   "source": [
    "test_data.shape"
   ]
  }
 ],
 "metadata": {
  "kernelspec": {
   "display_name": "cyclops_env",
   "language": "python",
   "name": "cyclops_env"
  },
  "language_info": {
   "codemirror_mode": {
    "name": "ipython",
    "version": 3
   },
   "file_extension": ".py",
   "mimetype": "text/x-python",
   "name": "python",
   "nbconvert_exporter": "python",
   "pygments_lexer": "ipython3",
   "version": "3.9.7"
  }
 },
 "nbformat": 4,
 "nbformat_minor": 5
}
