{
 "cells": [
  {
   "cell_type": "code",
   "execution_count": null,
   "id": "cce5e9ec-e3d0-4719-a7ee-43e88dcde8b2",
   "metadata": {},
   "outputs": [],
   "source": [
    "import os\n",
    "import random\n",
    "import sys\n",
    "\n",
    "import matplotlib as mpl\n",
    "import matplotlib.pyplot as plt\n",
    "import numpy as np\n",
    "import pandas as pd\n",
    "import torch.nn as nn\n",
    "import torch.optim as optim\n",
    "from sklearn.model_selection import train_test_split\n",
    "\n",
    "sys.path.append(\"..\")\n",
    "sys.path.append(\"../..\")\n",
    "from cyclops.feature_handler import FeatureHandler\n",
    "from drift_detection.baseline_models.temporal.pytorch.optimizer import Optimizer\n",
    "from drift_detection.baseline_models.temporal.pytorch.utils import *"
   ]
  },
  {
   "cell_type": "code",
   "execution_count": null,
   "id": "c93c5382-6901-4af1-828f-d831dd0a7c35",
   "metadata": {},
   "outputs": [],
   "source": [
    "DIR = \"/mnt/nfs/project/delirium/drift_exp/_extract_v2\""
   ]
  },
  {
   "cell_type": "code",
   "execution_count": null,
   "id": "12066550-01d2-4869-a96b-2ab9c37171ae",
   "metadata": {},
   "outputs": [],
   "source": [
    "X_train = np.load(os.path.join(DIR, \"X_train.npy\"))\n",
    "X_val = np.load(os.path.join(DIR, \"X_val.npy\"))\n",
    "X_test = np.load(os.path.join(DIR, \"X_test.npy\"))\n",
    "\n",
    "y_train = np.load(os.path.join(DIR, \"y_train.npy\"))\n",
    "y_val = np.load(os.path.join(DIR, \"y_val.npy\"))\n",
    "y_test = np.load(os.path.join(DIR, \"y_test.npy\"))\n",
    "\n",
    "print(\"Train set size:\", X_train.shape[0])\n",
    "print(\"Val set size:\", X_val.shape[0])\n",
    "print(\"Test set size:\", X_test.shape[0])\n",
    "\n",
    "print(\"Num features:\", X_train.shape[2])\n",
    "print(X_train.shape, X_val.shape, X_test.shape)"
   ]
  },
  {
   "cell_type": "code",
   "execution_count": null,
   "id": "810aab27-5fc4-4271-98eb-16f0917eb520",
   "metadata": {},
   "outputs": [],
   "source": [
    "output_dim = 1\n",
    "batch_size = 1\n",
    "input_dim = X_train.shape[2]\n",
    "timesteps = X_train.shape[1]\n",
    "hidden_dim = 256\n",
    "layer_dim = 1\n",
    "dropout = 0.2\n",
    "n_epochs = 5\n",
    "learning_rate = 1e-3\n",
    "weight_decay = 1e-6\n",
    "last_timestep_only = False\n",
    "\n",
    "device = get_device()\n",
    "\n",
    "X_train_inputs = X_train\n",
    "X_val_inputs = X_val\n",
    "X_test_inputs = X_test\n",
    "\n",
    "train_dataset = get_data(X_train_inputs, y_train)\n",
    "train_loader = train_dataset.to_loader(batch_size, shuffle=True)\n",
    "\n",
    "val_dataset = get_data(X_val_inputs, y_val)\n",
    "val_loader = val_dataset.to_loader(batch_size)"
   ]
  },
  {
   "cell_type": "code",
   "execution_count": null,
   "id": "3f5debd9-db36-4d80-87dd-a5c87411d9d9",
   "metadata": {},
   "outputs": [],
   "source": [
    "model_params = {\n",
    "    \"device\": device,\n",
    "    \"input_dim\": input_dim,\n",
    "    \"hidden_dim\": hidden_dim,\n",
    "    \"layer_dim\": layer_dim,\n",
    "    \"output_dim\": output_dim,\n",
    "    \"dropout_prob\": dropout,\n",
    "    \"last_timestep_only\": last_timestep_only,\n",
    "}\n",
    "\n",
    "model = get_temporal_model(\"lstm\", model_params).to(device)"
   ]
  },
  {
   "cell_type": "code",
   "execution_count": null,
   "id": "89bdb2aa-8cb2-4632-b6bd-753033903716",
   "metadata": {},
   "outputs": [],
   "source": [
    "loss_fn = nn.BCEWithLogitsLoss()\n",
    "optimizer = optim.Adagrad(\n",
    "    model.parameters(), lr=learning_rate, weight_decay=weight_decay\n",
    ")\n",
    "activation = nn.Sigmoid()\n",
    "opt = Optimizer(\n",
    "    model=model, loss_fn=loss_fn, optimizer=optimizer, activation=activation\n",
    ")\n",
    "opt.train(\n",
    "    train_loader,\n",
    "    val_loader,\n",
    "    batch_size=batch_size,\n",
    "    n_epochs=n_epochs,\n",
    "    n_features=input_dim,\n",
    "    timesteps=timesteps,\n",
    ")\n",
    "opt.plot_losses()"
   ]
  },
  {
   "cell_type": "code",
   "execution_count": null,
   "id": "14f74137-9a38-40c6-92ee-1e6f4e02290c",
   "metadata": {},
   "outputs": [],
   "source": [
    "test_dataset = get_data(X_test_inputs, y_test)\n",
    "test_loader = torch.utils.data.DataLoader(test_dataset, batch_size=1, shuffle=False)\n",
    "y_test_labels, y_pred_values, y_pred_labels = opt.evaluate(\n",
    "    test_loader, batch_size=1, n_features=input_dim, timesteps=timesteps\n",
    ")\n",
    "\n",
    "pred_metrics = print_metrics_binary(y_test_labels, y_pred_values, y_pred_labels)\n",
    "pred_metrics\n",
    "df_result = format_predictions(\n",
    "    y_pred_labels, y_test_labels, y_pred_labels, X_test, last_timestep_only\n",
    ")\n",
    "df_result"
   ]
  },
  {
   "cell_type": "code",
   "execution_count": null,
   "id": "ea92564f-07cb-452e-8b67-ad303d7bb691",
   "metadata": {},
   "outputs": [],
   "source": [
    "y_train_labels, y_pred_values, y_pred_labels = opt.evaluate(\n",
    "    train_loader, batch_size=1, n_features=input_dim, timesteps=timesteps\n",
    ")\n",
    "pred_metrics = print_metrics_binary(\n",
    "    y_train_labels, y_pred_values, y_pred_labels, last_timestep_only\n",
    ")\n",
    "pred_metrics"
   ]
  }
 ],
 "metadata": {
  "kernelspec": {
   "display_name": "cyclops",
   "language": "python",
   "name": "cyclops"
  },
  "language_info": {
   "codemirror_mode": {
    "name": "ipython",
    "version": 3
   },
   "file_extension": ".py",
   "mimetype": "text/x-python",
   "name": "python",
   "nbconvert_exporter": "python",
   "pygments_lexer": "ipython3",
   "version": "3.9.7"
  }
 },
 "nbformat": 4,
 "nbformat_minor": 5
}
