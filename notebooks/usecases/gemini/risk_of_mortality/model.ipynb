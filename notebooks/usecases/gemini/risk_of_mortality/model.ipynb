{
 "cells": [
  {
   "cell_type": "code",
   "execution_count": 1,
   "id": "cce5e9ec-e3d0-4719-a7ee-43e88dcde8b2",
   "metadata": {},
   "outputs": [],
   "source": [
    "import random\n",
    "import sys\n",
    "\n",
    "import matplotlib as mpl\n",
    "import matplotlib.pyplot as plt\n",
    "import numpy as np\n",
    "import pandas as pd\n",
    "import torch.nn as nn\n",
    "import torch.optim as optim\n",
    "from sklearn.model_selection import train_test_split\n",
    "\n",
    "sys.path.append(\"..\")\n",
    "from baseline_models.temporal.pytorch.optimizer import Optimizer\n",
    "from baseline_models.temporal.pytorch.utils import *\n",
    "\n",
    "sys.path.append(\"../..\")\n",
    "from cyclops.feature_handler import FeatureHandler"
   ]
  },
  {
   "cell_type": "code",
   "execution_count": 2,
   "id": "c93c5382-6901-4af1-828f-d831dd0a7c35",
   "metadata": {},
   "outputs": [
    {
     "name": "stderr",
     "output_type": "stream",
     "text": [
      "2022-06-07 18:28:15,278 \u001b[1;37mINFO\u001b[0m cyclops.feature_handler - Loading features from file...\n",
      "2022-06-07 18:28:15,282 \u001b[1;37mINFO\u001b[0m cyclops.feature_handler - Found file to load for static features...\n",
      "2022-06-07 18:28:15,284 \u001b[1;37mINFO\u001b[0m cyclops.feature_handler - Successfully loaded static features from file...\n",
      "2022-06-07 18:28:15,381 \u001b[1;37mINFO\u001b[0m cyclops.feature_handler - Found file to load for temporal features...\n",
      "2022-06-07 18:28:15,532 \u001b[1;37mINFO\u001b[0m cyclops.feature_handler - Successfully loaded temporal features from file...\n"
     ]
    }
   ],
   "source": [
    "DIR = \"/mnt/nfs/project/delirium/drift_exp/MAY-31-2022/\"\n",
    "feature_handler = FeatureHandler()\n",
    "feature_handler.load(DIR, \"test_features\")"
   ]
  },
  {
   "cell_type": "code",
   "execution_count": 3,
   "id": "93471285-8ee3-48ed-8021-574cb76dfc16",
   "metadata": {},
   "outputs": [],
   "source": [
    "ref_static = feature_handler.reference[\"static\"]"
   ]
  },
  {
   "cell_type": "code",
   "execution_count": 4,
   "id": "12066550-01d2-4869-a96b-2ab9c37171ae",
   "metadata": {},
   "outputs": [
    {
     "name": "stdout",
     "output_type": "stream",
     "text": [
      "Encounters: 5064\n",
      "Static Features: 25\n"
     ]
    }
   ],
   "source": [
    "static = feature_handler.features[\"static\"]\n",
    "print(\"Encounters:\", static.shape[0])\n",
    "print(\"Static Features:\", static.shape[1])"
   ]
  },
  {
   "cell_type": "code",
   "execution_count": 5,
   "id": "0762c68f-d914-4c6b-8061-036b4bc2fb9d",
   "metadata": {},
   "outputs": [],
   "source": [
    "outcome = \"mortality\"\n",
    "# static = process_outcome(outcome, static)"
   ]
  },
  {
   "cell_type": "code",
   "execution_count": 6,
   "id": "52579432-ad0a-4564-9cad-bb0690b19bab",
   "metadata": {},
   "outputs": [
    {
     "data": {
      "image/png": "[encoded data removed]",
      "text/plain": [
       "<Figure size 1008x288 with 1 Axes>"
      ]
     },
     "metadata": {
      "needs_background": "light"
     },
     "output_type": "display_data"
    }
   ],
   "source": [
    "fig, ax = plt.subplots(figsize=(14, 4))\n",
    "plt.hist(static[\"mortality\"], bins=2, alpha=0.5, width=0.5, label=\"mortality\")\n",
    "fig.legend(loc=\"upper right\")\n",
    "plt.show()"
   ]
  },
  {
   "cell_type": "code",
   "execution_count": 7,
   "id": "f8a26261-06a0-4659-85a7-3362bb636213",
   "metadata": {},
   "outputs": [],
   "source": [
    "ref_temporal = feature_handler.reference[\"temporal\"]"
   ]
  },
  {
   "cell_type": "code",
   "execution_count": 8,
   "id": "d0128912-139c-4cef-9e86-cd787d9fc85f",
   "metadata": {},
   "outputs": [
    {
     "name": "stdout",
     "output_type": "stream",
     "text": [
      "Encounters: 4613\n",
      "Timesteps: 8\n",
      "Temporal Features: 12\n"
     ]
    }
   ],
   "source": [
    "temporal = feature_handler.features[\"temporal\"]\n",
    "samples = len(temporal.index.unique(level=0))\n",
    "timesteps = len(temporal.index.unique(level=1))\n",
    "features = temporal.shape[1]\n",
    "print(\"Encounters:\", samples)\n",
    "print(\"Timesteps:\", timesteps)\n",
    "print(\"Temporal Features:\", features)"
   ]
  },
  {
   "cell_type": "code",
   "execution_count": 9,
   "id": "deb9b875-8343-4557-aee3-83f0f28e303c",
   "metadata": {},
   "outputs": [],
   "source": [
    "temporal = temporal.rename_axis(\"features\", axis=\"columns\")"
   ]
  },
  {
   "cell_type": "code",
   "execution_count": 18,
   "id": "810aab27-5fc4-4271-98eb-16f0917eb520",
   "metadata": {},
   "outputs": [
    {
     "name": "stderr",
     "output_type": "stream",
     "text": [
      "/mnt/nfs/home/subasriv/cyclops/drift_detection/notebooks/../baseline_models/temporal/pytorch/utils.py:98: FutureWarning: arrays to stack must be passed as a \"sequence\" type such as list or tuple. Support for non-sequence iterables such as generators is deprecated as of NumPy 1.16 and will raise an error in the future.\n",
      "  output=np.dstack((X.loc[(slice(None), i), :].values for i in sorted(set(timestep_in_values))))\n",
      "/mnt/nfs/home/subasriv/cyclops/drift_detection/notebooks/../baseline_models/temporal/pytorch/utils.py:98: FutureWarning: arrays to stack must be passed as a \"sequence\" type such as list or tuple. Support for non-sequence iterables such as generators is deprecated as of NumPy 1.16 and will raise an error in the future.\n",
      "  output=np.dstack((X.loc[(slice(None), i), :].values for i in sorted(set(timestep_in_values))))\n",
      "/mnt/nfs/home/subasriv/cyclops/drift_detection/notebooks/../baseline_models/temporal/pytorch/utils.py:98: FutureWarning: arrays to stack must be passed as a \"sequence\" type such as list or tuple. Support for non-sequence iterables such as generators is deprecated as of NumPy 1.16 and will raise an error in the future.\n",
      "  output=np.dstack((X.loc[(slice(None), i), :].values for i in sorted(set(timestep_in_values))))\n"
     ]
    }
   ],
   "source": [
    "output_dim = 1\n",
    "batch_size = 1\n",
    "input_dim = features * 3\n",
    "hidden_dim = 256\n",
    "layer_dim = 1\n",
    "dropout = 0.2\n",
    "n_epochs = 5\n",
    "learning_rate = 1e-3\n",
    "weight_decay = 1e-6\n",
    "last_timestep_only = True\n",
    "\n",
    "device = get_device()\n",
    "\n",
    "X = temporal[\n",
    "    np.in1d(temporal.index.get_level_values(0), static.index.get_level_values(0))\n",
    "]\n",
    "y = static[np.in1d(static.index.get_level_values(0), X.index.get_level_values(0))]\n",
    "y_train, y_val = train_test_split(y, test_size=1 / 2)\n",
    "y_val, y_test = train_test_split(y_val, test_size=1 / 2)\n",
    "X_train = X[np.in1d(X.index.get_level_values(0), y_train.index.get_level_values(0))]\n",
    "X_train_inputs = format_dataset(X_train, level=\"features\", imputation_method=\"simple\")\n",
    "X_val = X[np.in1d(X.index.get_level_values(0), y_val.index.get_level_values(0))]\n",
    "X_val_inputs = format_dataset(X_val, level=\"features\", imputation_method=\"simple\")\n",
    "X_test = X[np.in1d(X.index.get_level_values(0), y_test.index.get_level_values(0))]\n",
    "X_test_inputs = format_dataset(X_test, level=\"features\", imputation_method=\"simple\")\n",
    "\n",
    "if last_timestep_only:\n",
    "    timesteps = -1\n",
    "    y_train = y_train[[outcome]].to_numpy()\n",
    "    y_val = y_val[[outcome]].to_numpy()\n",
    "    y_test = y_test[[outcome]].to_numpy()\n",
    "else:\n",
    "    y_train = np.repeat(y_train[[outcome]].to_numpy(), timesteps).reshape(\n",
    "        len(X_train.index.unique(level=0)), timesteps, 1\n",
    "    )\n",
    "    y_val = np.repeat(y_val[[outcome]].to_numpy(), timesteps).reshape(\n",
    "        len(X_val.index.unique(level=0)), timesteps, 1\n",
    "    )\n",
    "    y_test = np.repeat(y_test[[outcome]].to_numpy(), timesteps).reshape(\n",
    "        len(X_test.index.unique(level=0)), timesteps, 1\n",
    "    )\n",
    "\n",
    "train_dataset = get_data(X_train_inputs, y_train)\n",
    "train_loader = train_dataset.to_loader(batch_size, shuffle=True)\n",
    "\n",
    "val_dataset = get_data(X_val_inputs, y_val)\n",
    "val_loader = val_dataset.to_loader(batch_size)"
   ]
  },
  {
   "cell_type": "code",
   "execution_count": 19,
   "id": "3f5debd9-db36-4d80-87dd-a5c87411d9d9",
   "metadata": {},
   "outputs": [
    {
     "name": "stderr",
     "output_type": "stream",
     "text": [
      "/mnt/nfs/home/subasriv/.cache/pypoetry/virtualenvs/cyclops-KKtuQLwg-py3.9/lib/python3.9/site-packages/torch/nn/modules/rnn.py:62: UserWarning: dropout option adds dropout after all but last recurrent layer, so non-zero dropout expects num_layers greater than 1, but got dropout=0.2 and num_layers=1\n",
      "  warnings.warn(\"dropout option adds dropout after all but last \"\n"
     ]
    }
   ],
   "source": [
    "model_params = {\n",
    "    \"device\": device,\n",
    "    \"input_dim\": input_dim,\n",
    "    \"hidden_dim\": hidden_dim,\n",
    "    \"layer_dim\": layer_dim,\n",
    "    \"output_dim\": output_dim,\n",
    "    \"dropout_prob\": dropout,\n",
    "    \"last_timestep_only\": last_timestep_only,\n",
    "}\n",
    "\n",
    "model = get_temporal_model(\"lstm\", model_params).to(device)"
   ]
  },
  {
   "cell_type": "code",
   "execution_count": 20,
   "id": "89bdb2aa-8cb2-4632-b6bd-753033903716",
   "metadata": {},
   "outputs": [
    {
     "name": "stdout",
     "output_type": "stream",
     "text": [
      "[1/5] Training loss: 0.7186\t Validation loss: 0.7213\n",
      "[2/5] Training loss: 0.7184\t Validation loss: 0.7212\n",
      "[3/5] Training loss: 0.7183\t Validation loss: 0.7211\n",
      "[4/5] Training loss: 0.7183\t Validation loss: 0.7210\n",
      "[5/5] Training loss: 0.7182\t Validation loss: 0.7210\n"
     ]
    },
    {
     "data": {
      "image/png": "[encoded data removed]",
      "text/plain": [
       "<Figure size 432x288 with 1 Axes>"
      ]
     },
     "metadata": {
      "needs_background": "light"
     },
     "output_type": "display_data"
    }
   ],
   "source": [
    "loss_fn = nn.BCEWithLogitsLoss()\n",
    "optimizer = optim.Adagrad(\n",
    "    model.parameters(), lr=learning_rate, weight_decay=weight_decay\n",
    ")\n",
    "activation = nn.Sigmoid()\n",
    "opt = Optimizer(\n",
    "    model=model, loss_fn=loss_fn, optimizer=optimizer, activation=activation\n",
    ")\n",
    "opt.train(\n",
    "    train_loader,\n",
    "    val_loader,\n",
    "    batch_size=batch_size,\n",
    "    n_epochs=n_epochs,\n",
    "    n_features=input_dim,\n",
    "    timesteps=timesteps,\n",
    ")\n",
    "opt.plot_losses()"
   ]
  },
  {
   "cell_type": "code",
   "execution_count": 22,
   "id": "14f74137-9a38-40c6-92ee-1e6f4e02290c",
   "metadata": {},
   "outputs": [
    {
     "name": "stdout",
     "output_type": "stream",
     "text": [
      "confusion matrix:\n",
      "[[  36 1061]\n",
      " [   1   56]]\n",
      "accuracy = 0.07972270250320435\n",
      "precision class 0 = 0.9729729890823364\n",
      "precision class 1 = 0.050134290009737015\n",
      "recall class 0 = 0.032816771417856216\n",
      "recall class 1 = 0.9824561476707458\n",
      "AUC of ROC = 0.4564761950454989\n",
      "AUC of PRC = 0.0414908523854454\n",
      "min(+P, Se) = 0.054276315789473686\n"
     ]
    },
    {
     "data": {
      "text/html": [
       "<div>\n",
       "<style scoped>\n",
       "    .dataframe tbody tr th:only-of-type {\n",
       "        vertical-align: middle;\n",
       "    }\n",
       "\n",
       "    .dataframe tbody tr th {\n",
       "        vertical-align: top;\n",
       "    }\n",
       "\n",
       "    .dataframe thead th {\n",
       "        text-align: right;\n",
       "    }\n",
       "</style>\n",
       "<table border=\"1\" class=\"dataframe\">\n",
       "  <thead>\n",
       "    <tr style=\"text-align: right;\">\n",
       "      <th></th>\n",
       "      <th>y_pred_values</th>\n",
       "      <th>y_test_labels</th>\n",
       "      <th>y_pred_labels</th>\n",
       "    </tr>\n",
       "    <tr>\n",
       "      <th>encounter_id</th>\n",
       "      <th></th>\n",
       "      <th></th>\n",
       "      <th></th>\n",
       "    </tr>\n",
       "  </thead>\n",
       "  <tbody>\n",
       "    <tr>\n",
       "      <th>11100097</th>\n",
       "      <td>1.0</td>\n",
       "      <td>0.0</td>\n",
       "      <td>1.0</td>\n",
       "    </tr>\n",
       "    <tr>\n",
       "      <th>11100782</th>\n",
       "      <td>1.0</td>\n",
       "      <td>0.0</td>\n",
       "      <td>1.0</td>\n",
       "    </tr>\n",
       "    <tr>\n",
       "      <th>11101350</th>\n",
       "      <td>1.0</td>\n",
       "      <td>0.0</td>\n",
       "      <td>1.0</td>\n",
       "    </tr>\n",
       "    <tr>\n",
       "      <th>11103407</th>\n",
       "      <td>1.0</td>\n",
       "      <td>0.0</td>\n",
       "      <td>1.0</td>\n",
       "    </tr>\n",
       "    <tr>\n",
       "      <th>11103415</th>\n",
       "      <td>1.0</td>\n",
       "      <td>0.0</td>\n",
       "      <td>1.0</td>\n",
       "    </tr>\n",
       "    <tr>\n",
       "      <th>...</th>\n",
       "      <td>...</td>\n",
       "      <td>...</td>\n",
       "      <td>...</td>\n",
       "    </tr>\n",
       "    <tr>\n",
       "      <th>11997896</th>\n",
       "      <td>1.0</td>\n",
       "      <td>0.0</td>\n",
       "      <td>1.0</td>\n",
       "    </tr>\n",
       "    <tr>\n",
       "      <th>11998290</th>\n",
       "      <td>1.0</td>\n",
       "      <td>0.0</td>\n",
       "      <td>1.0</td>\n",
       "    </tr>\n",
       "    <tr>\n",
       "      <th>11998426</th>\n",
       "      <td>1.0</td>\n",
       "      <td>0.0</td>\n",
       "      <td>1.0</td>\n",
       "    </tr>\n",
       "    <tr>\n",
       "      <th>11999044</th>\n",
       "      <td>1.0</td>\n",
       "      <td>0.0</td>\n",
       "      <td>1.0</td>\n",
       "    </tr>\n",
       "    <tr>\n",
       "      <th>11999635</th>\n",
       "      <td>1.0</td>\n",
       "      <td>0.0</td>\n",
       "      <td>1.0</td>\n",
       "    </tr>\n",
       "  </tbody>\n",
       "</table>\n",
       "<p>1154 rows × 3 columns</p>\n",
       "</div>"
      ],
      "text/plain": [
       "              y_pred_values  y_test_labels  y_pred_labels\n",
       "encounter_id                                             \n",
       "11100097                1.0            0.0            1.0\n",
       "11100782                1.0            0.0            1.0\n",
       "11101350                1.0            0.0            1.0\n",
       "11103407                1.0            0.0            1.0\n",
       "11103415                1.0            0.0            1.0\n",
       "...                     ...            ...            ...\n",
       "11997896                1.0            0.0            1.0\n",
       "11998290                1.0            0.0            1.0\n",
       "11998426                1.0            0.0            1.0\n",
       "11999044                1.0            0.0            1.0\n",
       "11999635                1.0            0.0            1.0\n",
       "\n",
       "[1154 rows x 3 columns]"
      ]
     },
     "execution_count": 22,
     "metadata": {},
     "output_type": "execute_result"
    }
   ],
   "source": [
    "test_dataset = get_data(X_test_inputs, y_test)\n",
    "test_loader = torch.utils.data.DataLoader(test_dataset, batch_size=1, shuffle=False)\n",
    "y_test_labels, y_pred_values, y_pred_labels = opt.evaluate(\n",
    "    test_loader, batch_size=1, n_features=input_dim, timesteps=timesteps\n",
    ")\n",
    "\n",
    "pred_metrics = print_metrics_binary(y_test_labels, y_pred_values, y_pred_labels)\n",
    "pred_metrics\n",
    "df_result = format_predictions(\n",
    "    y_pred_labels, y_test_labels, y_pred_labels, X_test, last_timestep_only\n",
    ")\n",
    "df_result"
   ]
  },
  {
   "cell_type": "code",
   "execution_count": 23,
   "id": "ea92564f-07cb-452e-8b67-ad303d7bb691",
   "metadata": {},
   "outputs": [
    {
     "name": "stdout",
     "output_type": "stream",
     "text": [
      "confusion matrix:\n",
      "[[  79 2125]\n",
      " [   6   96]]\n",
      "accuracy = 0.0758889839053154\n",
      "precision class 0 = 0.929411768913269\n",
      "precision class 1 = 0.04322377219796181\n",
      "recall class 0 = 0.03584391996264458\n",
      "recall class 1 = 0.9411764740943909\n",
      "AUC of ROC = 0.41557239955873454\n",
      "AUC of PRC = 0.03872319326183109\n",
      "min(+P, Se) = 0.058823529411764705\n"
     ]
    },
    {
     "data": {
      "text/plain": [
       "{'acc': 0.075888984,\n",
       " 'prec0': 0.92941177,\n",
       " 'prec1': 0.043223772,\n",
       " 'rec0': 0.03584392,\n",
       " 'rec1': 0.9411765,\n",
       " 'auroc': 0.41557239955873454,\n",
       " 'auprc': 0.03872319326183109,\n",
       " 'minpse': 0.058823529411764705}"
      ]
     },
     "execution_count": 23,
     "metadata": {},
     "output_type": "execute_result"
    }
   ],
   "source": [
    "y_train_labels, y_pred_values, y_pred_labels = opt.evaluate(\n",
    "    train_loader, batch_size=1, n_features=input_dim, timesteps=timesteps\n",
    ")\n",
    "pred_metrics = print_metrics_binary(\n",
    "    y_train_labels, y_pred_values, y_pred_labels, last_timestep_only\n",
    ")\n",
    "pred_metrics"
   ]
  }
 ],
 "metadata": {
  "kernelspec": {
   "display_name": "cyclops-KKtuQLwg-py3.9",
   "language": "python",
   "name": "cyclops-kktuqlwg-py3.9"
  },
  "language_info": {
   "codemirror_mode": {
    "name": "ipython",
    "version": 3
   },
   "file_extension": ".py",
   "mimetype": "text/x-python",
   "name": "python",
   "nbconvert_exporter": "python",
   "pygments_lexer": "ipython3",
   "version": "3.9.7"
  }
 },
 "nbformat": 4,
 "nbformat_minor": 5
}
