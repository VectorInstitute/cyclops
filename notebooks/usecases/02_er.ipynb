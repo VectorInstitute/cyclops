{
 "cells": [
  {
   "cell_type": "code",
   "execution_count": null,
   "id": "be85c904-5d3b-44cd-91e7-948b82ecfe57",
   "metadata": {},
   "outputs": [],
   "source": [
    "from cyclops.query import gemini"
   ]
  },
  {
   "cell_type": "code",
   "execution_count": null,
   "id": "9130c8c7-b25b-4545-8634-74e2dd3f7352",
   "metadata": {},
   "outputs": [],
   "source": [
    "df = gemini.er_admin(triage_level=[1]).run(limit=1000)\n",
    "df"
   ]
  },
  {
   "cell_type": "code",
   "execution_count": null,
   "id": "df1d3b35-bdbd-4c97-84b1-995c1c034bf7",
   "metadata": {},
   "outputs": [],
   "source": [
    "df.columns"
   ]
  },
  {
   "cell_type": "code",
   "execution_count": null,
   "id": "80a5818d-8137-4ba4-9cb7-b70b34cfe12a",
   "metadata": {},
   "outputs": [],
   "source": []
  }
 ],
 "metadata": {
  "kernelspec": {
   "display_name": "cyclops_env",
   "language": "python",
   "name": "cyclops_env"
  },
  "language_info": {
   "codemirror_mode": {
    "name": "ipython",
    "version": 3
   },
   "file_extension": ".py",
   "mimetype": "text/x-python",
   "name": "python",
   "nbconvert_exporter": "python",
   "pygments_lexer": "ipython3",
   "version": "3.9.7"
  }
 },
 "nbformat": 4,
 "nbformat_minor": 5
}
