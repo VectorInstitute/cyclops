{
 "cells": [
  {
   "cell_type": "markdown",
   "id": "c19e50b7-6ff0-48cd-a844-00d9fa4c4606",
   "metadata": {},
   "source": [
    "# Query"
   ]
  },
  {
   "cell_type": "code",
   "execution_count": null,
   "id": "7e7ef0f0-c03d-454e-ae99-2ad78e65a7b4",
   "metadata": {},
   "outputs": [],
   "source": [
    "from mimic_mortality_consts import (\n",
    "    CLEANED_DIR,\n",
    "    CONST_NAME,\n",
    "    ENCOUNTERS_FILE,\n",
    "    OUTCOME_DEATH,\n",
    "    OUTCOME_DEATH_PROCESSED,\n",
    "    PREDICT_OFFSET,\n",
    "    QUERIED_DIR,\n",
    ")"
   ]
  },
  {
   "cell_type": "code",
   "execution_count": null,
   "id": "af01dda7-aeb6-4be1-894e-0fdbe7aee3ab",
   "metadata": {},
   "outputs": [],
   "source": [
    "input(f\"WARNING: LOADING CONSTANTS FROM {CONST_NAME}\")"
   ]
  },
  {
   "cell_type": "code",
   "execution_count": null,
   "id": "c8187b80-aa12-4c9b-97b2-83f83691d84d",
   "metadata": {},
   "outputs": [],
   "source": [
    "import numpy as np\n",
    "import pandas as pd\n",
    "\n",
    "from cyclops.processors.column_names import ENCOUNTER_ID\n",
    "from cyclops.query import mimic\n",
    "from cyclops.query import process as qp\n",
    "from cyclops.utils.file import load_dataframe, save_dataframe"
   ]
  },
  {
   "cell_type": "markdown",
   "id": "0d3412ae-a3a2-49b1-99d7-f13014cb3d35",
   "metadata": {
    "tags": []
   },
   "source": [
    "## Patient encounters"
   ]
  },
  {
   "cell_type": "code",
   "execution_count": null,
   "id": "fd7883ba-5319-4035-91fb-0128fb36821d",
   "metadata": {},
   "outputs": [],
   "source": [
    "encounters_interface = mimic.patient_encounters()\n",
    "\n",
    "encounters_query = encounters_interface.query\n",
    "encounters_query = qp.Drop(\n",
    "    [\"insurance\", \"language\", \"marital_status\", \"edregtime\", \"edouttime\"],\n",
    ")(encounters_query)\n",
    "\n",
    "encounters_interface = mimic.get_interface(encounters_query)\n",
    "encounters = encounters_interface.run()\n",
    "encounters.head(5)"
   ]
  },
  {
   "cell_type": "markdown",
   "id": "5371359b-249d-45b2-8384-2a4757cf1d70",
   "metadata": {},
   "source": [
    "Create death indicator\n",
    "\n",
    "Hospital expire flag:\n",
    " - 1 - Death in hospital\n",
    " - 0 - Survived past discharge"
   ]
  },
  {
   "cell_type": "code",
   "execution_count": null,
   "id": "449324b6-09a1-4e14-9864-9635f61eb635",
   "metadata": {},
   "outputs": [],
   "source": [
    "# Drop encounters ending in death which don't have a death timestamp\n",
    "invalid = (encounters[\"hospital_expire_flag\"] == 1) & (encounters[\"deathtime\"].isna())\n",
    "encounters = encounters[~invalid]\n",
    "\n",
    "# (Died in hospital) & (Death timestamp is defined)\n",
    "encounters[OUTCOME_DEATH] = encounters[\"hospital_expire_flag\"] == 1\n",
    "encounters.head(5)"
   ]
  },
  {
   "cell_type": "code",
   "execution_count": null,
   "id": "d2aca418-e3e8-468e-ade0-a39f415240c3",
   "metadata": {},
   "outputs": [],
   "source": [
    "(encounters[OUTCOME_DEATH] == True).sum() / len(encounters)"
   ]
  },
  {
   "cell_type": "code",
   "execution_count": null,
   "id": "e97d4889-d8ac-4648-b60c-3cdd18854567",
   "metadata": {},
   "outputs": [],
   "source": [
    "save_dataframe(encounters, ENCOUNTERS_FILE)"
   ]
  },
  {
   "cell_type": "markdown",
   "id": "a176f2de-f264-4253-ab11-da9017a4153c",
   "metadata": {},
   "source": [
    "## Events"
   ]
  },
  {
   "cell_type": "code",
   "execution_count": null,
   "id": "de68c082-17d8-46bc-b9ce-4b19b0a97fcd",
   "metadata": {},
   "outputs": [],
   "source": [
    "events_interface = mimic.events()\n",
    "events_query = events_interface.query\n",
    "events_query = qp.Drop([\"warning\", \"itemid\", \"storetime\"])(events_query)\n",
    "events_interface = mimic.get_interface(events_query)\n",
    "events_interface.save_in_grouped_batches(QUERIED_DIR, ENCOUNTER_ID, int(1e7))"
   ]
  },
  {
   "cell_type": "markdown",
   "id": "7fdec0d6-5170-486b-85b8-c0b4294a3358",
   "metadata": {},
   "source": [
    "# Clean"
   ]
  },
  {
   "cell_type": "markdown",
   "id": "de37e20f-5e00-4fcb-8f68-c4675de2c7b7",
   "metadata": {},
   "source": [
    "Can be run entirely separately from the querying."
   ]
  },
  {
   "cell_type": "code",
   "execution_count": null,
   "id": "2beaf4f9-0148-478d-a1b0-d5f20cd1d014",
   "metadata": {},
   "outputs": [],
   "source": [
    "from mimic_mortality_consts import (\n",
    "    CLEANED_DIR,\n",
    "    CONST_NAME,\n",
    "    ENCOUNTERS_FILE,\n",
    "    OUTCOME_DEATH,\n",
    "    OUTCOME_DEATH_PROCESSED,\n",
    "    PREDICT_OFFSET,\n",
    "    QUERIED_DIR,\n",
    ")"
   ]
  },
  {
   "cell_type": "code",
   "execution_count": null,
   "id": "916b76bb-47fd-418b-9838-460d5d200eef",
   "metadata": {},
   "outputs": [],
   "source": [
    "import pickle\n",
    "\n",
    "import numpy as np\n",
    "import pandas as pd\n",
    "\n",
    "from cyclops.processors.cleaning import (\n",
    "    normalize_categories,\n",
    "    normalize_names,\n",
    "    normalize_values,\n",
    ")\n",
    "from cyclops.processors.column_names import (\n",
    "    ENCOUNTER_ID,\n",
    "    EVENT_CATEGORY,\n",
    "    EVENT_NAME,\n",
    "    EVENT_TIMESTAMP,\n",
    "    EVENT_VALUE,\n",
    ")\n",
    "from cyclops.processors.constants import TARGETS\n",
    "from cyclops.query import mimic\n",
    "from cyclops.query import process as qp\n",
    "from cyclops.utils.file import (\n",
    "    join,\n",
    "    load_dataframe,\n",
    "    save_consequtive_dataframes,\n",
    "    save_dataframe,\n",
    "    yield_dataframes,\n",
    ")\n",
    "from cyclops.utils.pandas import add_years_approximate"
   ]
  },
  {
   "cell_type": "code",
   "execution_count": null,
   "id": "ebd47c64-c470-4ad6-bd9e-9f108ea78131",
   "metadata": {},
   "outputs": [],
   "source": [
    "input(f\"WARNING: LOADING CONSTANTS FROM {CONST_NAME}\")"
   ]
  },
  {
   "cell_type": "code",
   "execution_count": null,
   "id": "7104dacf-c4e0-4083-9e81-c83ea701e6d3",
   "metadata": {},
   "outputs": [],
   "source": [
    "encounters = load_dataframe(ENCOUNTERS_FILE)"
   ]
  },
  {
   "cell_type": "markdown",
   "id": "76eb03ba-8d69-4498-ae08-99f82d2a66ea",
   "metadata": {},
   "source": [
    "## Events"
   ]
  },
  {
   "cell_type": "code",
   "execution_count": null,
   "id": "aa554f42-4bc1-42dd-91b8-d02b2f2c3f5c",
   "metadata": {},
   "outputs": [],
   "source": [
    "skip_n = 15\n",
    "generator = yield_dataframes(QUERIED_DIR, skip_n=skip_n, log=False)"
   ]
  },
  {
   "cell_type": "code",
   "execution_count": null,
   "id": "1c7c0e9a-b72d-4e3f-9ac2-802eb354d3e7",
   "metadata": {},
   "outputs": [],
   "source": [
    "for save_count, events in enumerate(generator):\n",
    "    events = events.drop([\"stay_id\"], axis=1)\n",
    "\n",
    "    # Reverse deidentified dating\n",
    "    events = pd.merge(\n",
    "        encounters[[ENCOUNTER_ID, \"anchor_year_difference\"]], events, on=ENCOUNTER_ID\n",
    "    )\n",
    "    events[EVENT_TIMESTAMP] = add_years_approximate(\n",
    "        events[EVENT_TIMESTAMP], events[\"anchor_year_difference\"]\n",
    "    )\n",
    "    events = events.drop(\"anchor_year_difference\", axis=1)\n",
    "\n",
    "    # print(\"len(events[ENCOUNTER_ID].unique())\", len(events[ENCOUNTER_ID].unique()))\n",
    "\n",
    "    # Create the target as a timeseries event\n",
    "    event_encounters = encounters[encounters[ENCOUNTER_ID].isin(events[ENCOUNTER_ID])]\n",
    "    # print(\"len(event_encounters)\", len(event_encounters))\n",
    "\n",
    "    target_events = event_encounters[event_encounters[OUTCOME_DEATH] == True]\n",
    "    del event_encounters\n",
    "\n",
    "    target_events = target_events[[ENCOUNTER_ID, \"deathtime\"]]\n",
    "    target_events = target_events.rename({\"deathtime\": EVENT_TIMESTAMP}, axis=1)\n",
    "    target_events[EVENT_NAME] = OUTCOME_DEATH\n",
    "    target_events[EVENT_CATEGORY] = TARGETS\n",
    "    target_events[EVENT_VALUE] = 1\n",
    "\n",
    "    # Offset death time targets such that the model is predicting death time in advance\n",
    "    # print(\"BEFORE - target_events[EVENT_TIMESTAMP].iloc[0]\", target_events[EVENT_TIMESTAMP].iloc[0])\n",
    "    target_events[EVENT_TIMESTAMP] -= pd.DateOffset(hours=PREDICT_OFFSET)\n",
    "    # print(\"AFTER - target_events[EVENT_TIMESTAMP].iloc[0]\", target_events[EVENT_TIMESTAMP].iloc[0])\n",
    "\n",
    "    # Include target\n",
    "    events = pd.concat([events, target_events])\n",
    "\n",
    "    # Preprocessing\n",
    "    events[EVENT_NAME] = normalize_names(events[EVENT_NAME])\n",
    "    events[EVENT_CATEGORY] = normalize_categories(events[EVENT_CATEGORY])\n",
    "    # events[EVENT_VALUE] = normalize_values(events[EVENT_VALUE])\n",
    "\n",
    "    # Concatenate event name and category since some names are the same in\n",
    "    # different categories, e.g., 'flow' for categories 'heartware' and 'ecmo'\n",
    "    events[EVENT_NAME] = events[EVENT_CATEGORY] + \" - \" + events[EVENT_NAME]\n",
    "    events.head(5)\n",
    "\n",
    "    save_dataframe(events, join(CLEANED_DIR, \"batch_\" + f\"{save_count + skip_n:04d}\"))\n",
    "    del events\n",
    "    del target_events"
   ]
  },
  {
   "cell_type": "code",
   "execution_count": null,
   "id": "a335cd9d-c864-467f-83da-6cc1fec4c98a",
   "metadata": {},
   "outputs": [],
   "source": []
  }
 ],
 "metadata": {
  "kernelspec": {
   "display_name": "cyclops_env",
   "language": "python",
   "name": "cyclops_env"
  },
  "language_info": {
   "codemirror_mode": {
    "name": "ipython",
    "version": 3
   },
   "file_extension": ".py",
   "mimetype": "text/x-python",
   "name": "python",
   "nbconvert_exporter": "python",
   "pygments_lexer": "ipython3",
   "version": "3.9.7"
  }
 },
 "nbformat": 4,
 "nbformat_minor": 5
}
