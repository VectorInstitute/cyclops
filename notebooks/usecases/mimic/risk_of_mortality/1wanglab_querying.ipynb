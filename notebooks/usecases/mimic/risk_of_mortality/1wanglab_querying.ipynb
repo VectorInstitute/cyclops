{
 "cells": [
  {
   "cell_type": "markdown",
   "id": "480200fd-0a26-4cff-92e7-977bd499eddf",
   "metadata": {},
   "source": [
    "# Query"
   ]
  },
  {
   "cell_type": "code",
   "execution_count": null,
   "id": "9b5ee7bb-632e-4bd9-b263-7ad249fcf3d1",
   "metadata": {},
   "outputs": [],
   "source": [
    "from wanglabconsts import OUTCOME_DEATH, OUTCOME_EDEMA"
   ]
  },
  {
   "cell_type": "code",
   "execution_count": null,
   "id": "d19e1c2f-342c-48c3-8dd0-d33eb6c74cd1",
   "metadata": {},
   "outputs": [],
   "source": [
    "from wanglabquerying import main"
   ]
  },
  {
   "cell_type": "code",
   "execution_count": null,
   "id": "8856a295-212f-4590-80ea-be7ac06f9ffa",
   "metadata": {},
   "outputs": [],
   "source": [
    "import time\n",
    "\n",
    "import numpy as np\n",
    "\n",
    "from cyclops.processors.column_names import (\n",
    "    ADMIT_TIMESTAMP,\n",
    "    DIAGNOSIS_CODE,\n",
    "    DIAGNOSIS_TRAJECTORY,\n",
    "    ENCOUNTER_ID,\n",
    "    EVENT_NAME,\n",
    "    EVENT_TIMESTAMP,\n",
    "    EVENT_VALUE,\n",
    "    EVENT_VALUE_UNIT,\n",
    "    TIMESTEP,\n",
    "    YEAR,\n",
    ")\n",
    "from cyclops.processors.constants import (\n",
    "    BINARY,\n",
    "    CATEGORICAL_INDICATOR,\n",
    "    FEATURE_INDICATOR_ATTR,\n",
    "    FEATURE_MAPPING_ATTR,\n",
    "    FEATURE_TYPE_ATTR,\n",
    "    FEATURE_TYPES,\n",
    "    FEATURES,\n",
    "    MEAN,\n",
    "    MIN_MAX,\n",
    "    MISSING_CATEGORY,\n",
    "    NUMERIC,\n",
    "    ORDINAL,\n",
    "    STRING,\n",
    "    TARGETS,\n",
    ")\n",
    "from cyclops.processors.feature.split import intersect_datasets\n",
    "from cyclops.utils.file import load_dataframe, save_dataframe"
   ]
  },
  {
   "cell_type": "code",
   "execution_count": null,
   "id": "2c824cdd-3399-4c49-9c29-666287916c1b",
   "metadata": {},
   "outputs": [],
   "source": [
    "t = time.time()\n",
    "cohort, events = main()\n",
    "print(time.time() - t)\n",
    "cohort"
   ]
  },
  {
   "cell_type": "code",
   "execution_count": null,
   "id": "d97ff77b-2599-4b25-9506-0ce1460f0c0a",
   "metadata": {},
   "outputs": [],
   "source": [
    "cohort[OUTCOME_DEATH].sum() / len(cohort)"
   ]
  },
  {
   "cell_type": "code",
   "execution_count": null,
   "id": "bf93effa-5a8f-41de-98e0-1a0d9a22089c",
   "metadata": {},
   "outputs": [],
   "source": [
    "cohort[OUTCOME_EDEMA].sum() / len(cohort)"
   ]
  },
  {
   "cell_type": "code",
   "execution_count": null,
   "id": "032186ed-9141-442b-83de-76111c0f25dd",
   "metadata": {},
   "outputs": [],
   "source": [
    "# Intersect over encounter IDs to get only those encounters common to both\n",
    "# cohort, events = intersect_datasets([cohort, events], ENCOUNTER_ID)"
   ]
  },
  {
   "cell_type": "code",
   "execution_count": null,
   "id": "71bd3975-0390-4aa2-b480-d45875acd55b",
   "metadata": {},
   "outputs": [],
   "source": [
    "save_dataframe(cohort, ENCOUNTERS_FILE)"
   ]
  },
  {
   "cell_type": "markdown",
   "id": "26bed3c7-e88e-40a2-815e-a88cfb5856cf",
   "metadata": {},
   "source": [
    "# Clean / Preprocess"
   ]
  },
  {
   "cell_type": "code",
   "execution_count": null,
   "id": "5b7ac3be-9a9e-4d0a-b908-298ddd41acf7",
   "metadata": {},
   "outputs": [],
   "source": [
    "events[EVENT_NAME] = normalize_names(events[EVENT_NAME])\n",
    "events[EVENT_VALUE] = normalize_values(events[EVENT_VALUE])"
   ]
  },
  {
   "cell_type": "code",
   "execution_count": null,
   "id": "d9d8d4ae-3fa3-4c65-98ac-b7f538bc35b2",
   "metadata": {},
   "outputs": [],
   "source": [
    "# Create the target as a timeseries event\n",
    "death_events = cohort[cohort[OUTCOME_DEATH] == True]\n",
    "death_events = death_events[[ENCOUNTER_ID, DISCHARGE_TIMESTAMP]]\n",
    "\n",
    "# Offset death time - i.e., should predict death time in advance\n",
    "death_events[DISCHARGE_TIMESTAMP] = death_events[DISCHARGE_TIMESTAMP] - pd.DateOffset(\n",
    "    hours=PREDICT_OFFSET_HRS\n",
    ")\n",
    "\n",
    "death_events = death_events.rename({DISCHARGE_TIMESTAMP: EVENT_TIMESTAMP}, axis=1)\n",
    "death_events[EVENT_NAME] = OUTCOME_DEATH_TEMP\n",
    "death_events[EVENT_VALUE] = 1\n",
    "death_events.head(5)"
   ]
  },
  {
   "cell_type": "code",
   "execution_count": null,
   "id": "af77e1f7-e1a0-4384-bb0a-09ab37fb2bb2",
   "metadata": {},
   "outputs": [],
   "source": [
    "events = pd.concat([events, death_events])"
   ]
  },
  {
   "cell_type": "code",
   "execution_count": null,
   "id": "56780458-b9bd-4fa3-af08-3cfec16dd5ad",
   "metadata": {},
   "outputs": [],
   "source": [
    "save_dataframe(events, join(QUERIED_DIR, \"batch_0000.parquet\"))"
   ]
  }
 ],
 "metadata": {
  "kernelspec": {
   "display_name": "cyclops_env",
   "language": "python",
   "name": "cyclops_env"
  },
  "language_info": {
   "codemirror_mode": {
    "name": "ipython",
    "version": 3
   },
   "file_extension": ".py",
   "mimetype": "text/x-python",
   "name": "python",
   "nbconvert_exporter": "python",
   "pygments_lexer": "ipython3",
   "version": "3.9.7"
  }
 },
 "nbformat": 4,
 "nbformat_minor": 5
}
