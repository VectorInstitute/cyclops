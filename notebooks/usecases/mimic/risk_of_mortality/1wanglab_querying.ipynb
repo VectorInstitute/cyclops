{
 "cells": [
  {
   "cell_type": "markdown",
   "id": "480200fd-0a26-4cff-92e7-977bd499eddf",
   "metadata": {},
   "source": [
    "# Query"
   ]
  },
  {
   "cell_type": "code",
   "execution_count": 1,
   "id": "9b5ee7bb-632e-4bd9-b263-7ad249fcf3d1",
   "metadata": {},
   "outputs": [],
   "source": [
    "from wanglabconsts import OUTCOME_DEATH, OUTCOME_EDEMA"
   ]
  },
  {
   "cell_type": "code",
   "execution_count": 3,
   "id": "d19e1c2f-342c-48c3-8dd0-d33eb6c74cd1",
   "metadata": {},
   "outputs": [],
   "source": [
    "from wanglabquerying import main"
   ]
  },
  {
   "cell_type": "code",
   "execution_count": 5,
   "id": "8856a295-212f-4590-80ea-be7ac06f9ffa",
   "metadata": {},
   "outputs": [],
   "source": [
    "import time\n",
    "\n",
    "import numpy as np\n",
    "\n",
    "from cyclops.processors.column_names import (\n",
    "    ADMIT_TIMESTAMP,\n",
    "    DIAGNOSIS_CODE,\n",
    "    DIAGNOSIS_TRAJECTORY,\n",
    "    ENCOUNTER_ID,\n",
    "    EVENT_NAME,\n",
    "    EVENT_TIMESTAMP,\n",
    "    EVENT_VALUE,\n",
    "    EVENT_VALUE_UNIT,\n",
    "    TIMESTEP,\n",
    "    YEAR,\n",
    ")\n",
    "from cyclops.processors.constants import (\n",
    "    BINARY,\n",
    "    CATEGORICAL_INDICATOR,\n",
    "    FEATURE_INDICATOR_ATTR,\n",
    "    FEATURE_MAPPING_ATTR,\n",
    "    FEATURE_TYPE_ATTR,\n",
    "    FEATURE_TYPES,\n",
    "    FEATURES,\n",
    "    MEAN,\n",
    "    MIN_MAX,\n",
    "    MISSING_CATEGORY,\n",
    "    NUMERIC,\n",
    "    ORDINAL,\n",
    "    STRING,\n",
    "    TARGETS,\n",
    ")\n",
    "from cyclops.processors.feature.split import intersect_datasets\n",
    "from cyclops.utils.file import load_dataframe, save_dataframe"
   ]
  },
  {
   "cell_type": "code",
   "execution_count": 6,
   "id": "2c824cdd-3399-4c49-9c29-666287916c1b",
   "metadata": {},
   "outputs": [
    {
     "ename": "AttributeError",
     "evalue": "'Database' object has no attribute 'public'",
     "output_type": "error",
     "traceback": [
      "\u001b[0;31m---------------------------------------------------------------------------\u001b[0m",
      "\u001b[0;31mAttributeError\u001b[0m                            Traceback (most recent call last)",
      "Input \u001b[0;32mIn [6]\u001b[0m, in \u001b[0;36m<cell line: 2>\u001b[0;34m()\u001b[0m\n\u001b[1;32m      1\u001b[0m t \u001b[38;5;241m=\u001b[39m time\u001b[38;5;241m.\u001b[39mtime()\n\u001b[0;32m----> 2\u001b[0m cohort, events \u001b[38;5;241m=\u001b[39m \u001b[43mmain\u001b[49m\u001b[43m(\u001b[49m\u001b[43m)\u001b[49m\n\u001b[1;32m      3\u001b[0m \u001b[38;5;28mprint\u001b[39m(time\u001b[38;5;241m.\u001b[39mtime() \u001b[38;5;241m-\u001b[39m t)\n\u001b[1;32m      4\u001b[0m cohort\n",
      "File \u001b[0;32m~/gemini/cyclops/notebooks/usecases/mimic/risk_of_mortality/wanglabquerying.py:490\u001b[0m, in \u001b[0;36mmain\u001b[0;34m(drop_admin_cols)\u001b[0m\n\u001b[1;32m    476\u001b[0m \u001b[38;5;124;03m\"\"\"Get and process the cohort.\u001b[39;00m\n\u001b[1;32m    477\u001b[0m \n\u001b[1;32m    478\u001b[0m \u001b[38;5;124;03mParameters\u001b[39;00m\n\u001b[0;32m   (...)\u001b[0m\n\u001b[1;32m    487\u001b[0m \n\u001b[1;32m    488\u001b[0m \u001b[38;5;124;03m\"\"\"\u001b[39;00m\n\u001b[1;32m    489\u001b[0m \u001b[38;5;66;03m# Get cohort\u001b[39;00m\n\u001b[0;32m--> 490\u001b[0m cohort \u001b[38;5;241m=\u001b[39m \u001b[43mget_cohort\u001b[49m\u001b[43m(\u001b[49m\u001b[43m)\u001b[49m\n\u001b[1;32m    492\u001b[0m \u001b[38;5;66;03m# Get ER data for the cohort\u001b[39;00m\n\u001b[1;32m    493\u001b[0m cohort \u001b[38;5;241m=\u001b[39m get_er_for_cohort(cohort)\n",
      "File \u001b[0;32m~/gemini/cyclops/notebooks/usecases/mimic/risk_of_mortality/wanglabquerying.py:175\u001b[0m, in \u001b[0;36mget_cohort\u001b[0;34m()\u001b[0m\n\u001b[1;32m    164\u001b[0m \u001b[38;5;28;01mdef\u001b[39;00m \u001b[38;5;21mget_cohort\u001b[39m() \u001b[38;5;241m-\u001b[39m\u001b[38;5;241m>\u001b[39m pd\u001b[38;5;241m.\u001b[39mDataFrame:\n\u001b[1;32m    165\u001b[0m     \u001b[38;5;124;03m\"\"\"Get cohort.\u001b[39;00m\n\u001b[1;32m    166\u001b[0m \n\u001b[1;32m    167\u001b[0m \u001b[38;5;124;03m    Get cohort of pre-Covid, GIM patients admitted for non-cardiac main diagnoses.\u001b[39;00m\n\u001b[0;32m   (...)\u001b[0m\n\u001b[1;32m    173\u001b[0m \n\u001b[1;32m    174\u001b[0m \u001b[38;5;124;03m    \"\"\"\u001b[39;00m\n\u001b[0;32m--> 175\u001b[0m     encounters \u001b[38;5;241m=\u001b[39m \u001b[43mget_most_recent_encounters\u001b[49m\u001b[43m(\u001b[49m\u001b[43m)\u001b[49m\n\u001b[1;32m    176\u001b[0m     diagnoses \u001b[38;5;241m=\u001b[39m get_non_cardiac_diagnoses()\n\u001b[1;32m    177\u001b[0m     cohort \u001b[38;5;241m=\u001b[39m pd\u001b[38;5;241m.\u001b[39mmerge(encounters, diagnoses, on\u001b[38;5;241m=\u001b[39mENCOUNTER_ID)\n",
      "File \u001b[0;32m~/gemini/cyclops/notebooks/usecases/mimic/risk_of_mortality/wanglabquerying.py:84\u001b[0m, in \u001b[0;36mget_most_recent_encounters\u001b[0;34m()\u001b[0m\n\u001b[1;32m     75\u001b[0m \u001b[38;5;28;01mdef\u001b[39;00m \u001b[38;5;21mget_most_recent_encounters\u001b[39m() \u001b[38;5;241m-\u001b[39m\u001b[38;5;241m>\u001b[39m pd\u001b[38;5;241m.\u001b[39mDataFrame:\n\u001b[1;32m     76\u001b[0m     \u001b[38;5;124;03m\"\"\"Filter for cohort and get the most recent encounter for each patient.\u001b[39;00m\n\u001b[1;32m     77\u001b[0m \n\u001b[1;32m     78\u001b[0m \u001b[38;5;124;03m    Returns\u001b[39;00m\n\u001b[0;32m   (...)\u001b[0m\n\u001b[1;32m     82\u001b[0m \n\u001b[1;32m     83\u001b[0m \u001b[38;5;124;03m    \"\"\"\u001b[39;00m\n\u001b[0;32m---> 84\u001b[0m     table \u001b[38;5;241m=\u001b[39m \u001b[43mgemini\u001b[49m\u001b[38;5;241;43m.\u001b[39;49m\u001b[43mpatient_encounters\u001b[49m\u001b[43m(\u001b[49m\n\u001b[1;32m     85\u001b[0m \u001b[43m        \u001b[49m\u001b[43msex\u001b[49m\u001b[38;5;241;43m=\u001b[39;49m\u001b[43mSEXES\u001b[49m\u001b[43m,\u001b[49m\n\u001b[1;32m     86\u001b[0m \u001b[43m        \u001b[49m\u001b[43mbefore_date\u001b[49m\u001b[38;5;241;43m=\u001b[39;49m\u001b[43mBEFORE_DATE\u001b[49m\u001b[43m,\u001b[49m\n\u001b[1;32m     87\u001b[0m \u001b[43m        \u001b[49m\u001b[43mdied\u001b[49m\u001b[38;5;241;43m=\u001b[39;49m\u001b[38;5;28;43;01mTrue\u001b[39;49;00m\u001b[43m,\u001b[49m\n\u001b[1;32m     88\u001b[0m \u001b[43m        \u001b[49m\u001b[43mdied_binarize_col\u001b[49m\u001b[38;5;241;43m=\u001b[39;49m\u001b[43mOUTCOME_DEATH\u001b[49m\u001b[43m,\u001b[49m\n\u001b[1;32m     89\u001b[0m \u001b[43m    \u001b[49m\u001b[43m)\u001b[49m\u001b[38;5;241m.\u001b[39mquery\n\u001b[1;32m     91\u001b[0m     \u001b[38;5;66;03m# Do not do any further filtering before this point since\u001b[39;00m\n\u001b[1;32m     92\u001b[0m     \u001b[38;5;66;03m# we count previous encounters below.\u001b[39;00m\n\u001b[1;32m     93\u001b[0m \n\u001b[1;32m     94\u001b[0m     \u001b[38;5;66;03m# Get most recent admission for each patient\u001b[39;00m\n\u001b[1;32m     95\u001b[0m     recent_admits \u001b[38;5;241m=\u001b[39m qp\u001b[38;5;241m.\u001b[39mGroupByAggregate(\n\u001b[1;32m     96\u001b[0m         SUBJECT_ID,\n\u001b[1;32m     97\u001b[0m         {ADMIT_TIMESTAMP: \u001b[38;5;124m\"\u001b[39m\u001b[38;5;124mmax\u001b[39m\u001b[38;5;124m\"\u001b[39m, SUBJECT_ID: (\u001b[38;5;124m\"\u001b[39m\u001b[38;5;124mcount\u001b[39m\u001b[38;5;124m\"\u001b[39m, \u001b[38;5;124m\"\u001b[39m\u001b[38;5;124mprev_encounter_count\u001b[39m\u001b[38;5;124m\"\u001b[39m)},\n\u001b[1;32m     98\u001b[0m     )(table)\n",
      "File \u001b[0;32m~/gemini/cyclops/cyclops/query/util.py:184\u001b[0m, in \u001b[0;36mparam_types_to_type.<locals>.decorator.<locals>.wrapper_func\u001b[0;34m(*args, **kwargs)\u001b[0m\n\u001b[1;32m    181\u001b[0m     \u001b[38;5;28;01mif\u001b[39;00m \u001b[38;5;28mtype\u001b[39m(kwarg) \u001b[38;5;129;01min\u001b[39;00m relevant_types:\n\u001b[1;32m    182\u001b[0m         kwargs[key] \u001b[38;5;241m=\u001b[39m to_type_fn(kwarg)\n\u001b[0;32m--> 184\u001b[0m \u001b[38;5;28;01mreturn\u001b[39;00m \u001b[43mfunc_\u001b[49m\u001b[43m(\u001b[49m\u001b[38;5;241;43m*\u001b[39;49m\u001b[38;5;28;43mtuple\u001b[39;49m\u001b[43m(\u001b[49m\u001b[43margs\u001b[49m\u001b[43m)\u001b[49m\u001b[43m,\u001b[49m\u001b[43m \u001b[49m\u001b[38;5;241;43m*\u001b[39;49m\u001b[38;5;241;43m*\u001b[39;49m\u001b[43mkwargs\u001b[49m\u001b[43m)\u001b[49m\n",
      "File \u001b[0;32m~/gemini/cyclops/cyclops/query/util.py:405\u001b[0m, in \u001b[0;36massert_table_has_columns.<locals>.decorator.<locals>.wrapper_func\u001b[0;34m(*fn_args, **fn_kwargs)\u001b[0m\n\u001b[1;32m    402\u001b[0m     \u001b[38;5;28;01massert\u001b[39;00m \u001b[38;5;28misinstance\u001b[39m(fn_kwargs[key], Subquery)\n\u001b[1;32m    403\u001b[0m     has_columns(fn_kwargs[key], required_cols, raise_error\u001b[38;5;241m=\u001b[39m\u001b[38;5;28;01mTrue\u001b[39;00m)\n\u001b[0;32m--> 405\u001b[0m \u001b[38;5;28;01mreturn\u001b[39;00m \u001b[43mfunc_\u001b[49m\u001b[43m(\u001b[49m\u001b[38;5;241;43m*\u001b[39;49m\u001b[43mfn_args\u001b[49m\u001b[43m,\u001b[49m\u001b[43m \u001b[49m\u001b[38;5;241;43m*\u001b[39;49m\u001b[38;5;241;43m*\u001b[39;49m\u001b[43mfn_kwargs\u001b[49m\u001b[43m)\u001b[49m\n",
      "File \u001b[0;32m~/gemini/cyclops/cyclops/query/gemini.py:258\u001b[0m, in \u001b[0;36mpatient_encounters\u001b[0;34m(er_admin_table, drop_null_subject_ids, **process_kwargs)\u001b[0m\n\u001b[1;32m    215\u001b[0m \u001b[38;5;129m@table_params_to_type\u001b[39m(Subquery)\n\u001b[1;32m    216\u001b[0m \u001b[38;5;129m@assert_table_has_columns\u001b[39m(er_admin_table\u001b[38;5;241m=\u001b[39mENCOUNTER_ID)\n\u001b[1;32m    217\u001b[0m \u001b[38;5;28;01mdef\u001b[39;00m \u001b[38;5;21mpatient_encounters\u001b[39m(\n\u001b[0;32m   (...)\u001b[0m\n\u001b[1;32m    220\u001b[0m     \u001b[38;5;241m*\u001b[39m\u001b[38;5;241m*\u001b[39mprocess_kwargs,\n\u001b[1;32m    221\u001b[0m ) \u001b[38;5;241m-\u001b[39m\u001b[38;5;241m>\u001b[39m QueryInterface:\n\u001b[1;32m    222\u001b[0m     \u001b[38;5;124;03m\"\"\"Query GEMINI patient encounters.\u001b[39;00m\n\u001b[1;32m    223\u001b[0m \n\u001b[1;32m    224\u001b[0m \u001b[38;5;124;03m    Parameters\u001b[39;00m\n\u001b[0;32m   (...)\u001b[0m\n\u001b[1;32m    256\u001b[0m \n\u001b[1;32m    257\u001b[0m \u001b[38;5;124;03m    \"\"\"\u001b[39;00m\n\u001b[0;32m--> 258\u001b[0m     table \u001b[38;5;241m=\u001b[39m \u001b[43mget_table\u001b[49m\u001b[43m(\u001b[49m\u001b[43mIP_ADMIN\u001b[49m\u001b[43m)\u001b[49m\n\u001b[1;32m    260\u001b[0m     \u001b[38;5;28;01mif\u001b[39;00m drop_null_subject_ids:\n\u001b[1;32m    261\u001b[0m         table \u001b[38;5;241m=\u001b[39m qp\u001b[38;5;241m.\u001b[39mDropNulls(SUBJECT_ID)(table)\n",
      "File \u001b[0;32m~/gemini/cyclops/cyclops/query/gemini.py:165\u001b[0m, in \u001b[0;36mget_table\u001b[0;34m(table_name, rename)\u001b[0m\n\u001b[1;32m    162\u001b[0m \u001b[38;5;28;01mif\u001b[39;00m table_name \u001b[38;5;129;01mnot\u001b[39;00m \u001b[38;5;129;01min\u001b[39;00m TABLE_MAP:\n\u001b[1;32m    163\u001b[0m     \u001b[38;5;28;01mraise\u001b[39;00m \u001b[38;5;167;01mValueError\u001b[39;00m(\u001b[38;5;124mf\u001b[39m\u001b[38;5;124m\"\u001b[39m\u001b[38;5;132;01m{\u001b[39;00mtable_name\u001b[38;5;132;01m}\u001b[39;00m\u001b[38;5;124m not a recognised table.\u001b[39m\u001b[38;5;124m\"\u001b[39m)\n\u001b[0;32m--> 165\u001b[0m table \u001b[38;5;241m=\u001b[39m \u001b[43mTABLE_MAP\u001b[49m\u001b[43m[\u001b[49m\u001b[43mtable_name\u001b[49m\u001b[43m]\u001b[49m\u001b[43m(\u001b[49m\u001b[43m_db\u001b[49m\u001b[43m)\u001b[49m\u001b[38;5;241m.\u001b[39mdata\n\u001b[1;32m    167\u001b[0m \u001b[38;5;28;01mif\u001b[39;00m rename:\n\u001b[1;32m    168\u001b[0m     table \u001b[38;5;241m=\u001b[39m qp\u001b[38;5;241m.\u001b[39mRename(GEMINI_COLUMN_MAP, check_exists\u001b[38;5;241m=\u001b[39m\u001b[38;5;28;01mFalse\u001b[39;00m)(table)\n",
      "File \u001b[0;32m~/gemini/cyclops/cyclops/query/gemini.py:71\u001b[0m, in \u001b[0;36m<lambda>\u001b[0;34m(db)\u001b[0m\n\u001b[1;32m     66\u001b[0m DERIVED_VARIABLES \u001b[38;5;241m=\u001b[39m \u001b[38;5;124m\"\u001b[39m\u001b[38;5;124mderived_variables\u001b[39m\u001b[38;5;124m\"\u001b[39m\n\u001b[1;32m     68\u001b[0m _db \u001b[38;5;241m=\u001b[39m Database(config\u001b[38;5;241m.\u001b[39mread_config(GEMINI))\n\u001b[1;32m     70\u001b[0m TABLE_MAP \u001b[38;5;241m=\u001b[39m {\n\u001b[0;32m---> 71\u001b[0m     IP_ADMIN: \u001b[38;5;28;01mlambda\u001b[39;00m db: \u001b[43mdb\u001b[49m\u001b[38;5;241;43m.\u001b[39;49m\u001b[43mpublic\u001b[49m\u001b[38;5;241m.\u001b[39mip_administrative,\n\u001b[1;32m     72\u001b[0m     ER_ADMIN: \u001b[38;5;28;01mlambda\u001b[39;00m db: db\u001b[38;5;241m.\u001b[39mpublic\u001b[38;5;241m.\u001b[39mer_administrative,\n\u001b[1;32m     73\u001b[0m     DIAGNOSIS: \u001b[38;5;28;01mlambda\u001b[39;00m db: db\u001b[38;5;241m.\u001b[39mpublic\u001b[38;5;241m.\u001b[39mdiagnosis,\n\u001b[1;32m     74\u001b[0m     LAB: \u001b[38;5;28;01mlambda\u001b[39;00m db: db\u001b[38;5;241m.\u001b[39mpublic\u001b[38;5;241m.\u001b[39mlab,\n\u001b[1;32m     75\u001b[0m     VITALS: \u001b[38;5;28;01mlambda\u001b[39;00m db: db\u001b[38;5;241m.\u001b[39mpublic\u001b[38;5;241m.\u001b[39mvitals,\n\u001b[1;32m     76\u001b[0m     PHARMACY: \u001b[38;5;28;01mlambda\u001b[39;00m db: db\u001b[38;5;241m.\u001b[39mpublic\u001b[38;5;241m.\u001b[39mpharmacy,\n\u001b[1;32m     77\u001b[0m     INTERVENTION: \u001b[38;5;28;01mlambda\u001b[39;00m db: db\u001b[38;5;241m.\u001b[39mpublic\u001b[38;5;241m.\u001b[39mintervention,\n\u001b[1;32m     78\u001b[0m     LOOKUP_IP_ADMIN: \u001b[38;5;28;01mlambda\u001b[39;00m db: db\u001b[38;5;241m.\u001b[39mpublic\u001b[38;5;241m.\u001b[39mlookup_ip_administrative,\n\u001b[1;32m     79\u001b[0m     LOOKUP_ER_ADMIN: \u001b[38;5;28;01mlambda\u001b[39;00m db: db\u001b[38;5;241m.\u001b[39mpublic\u001b[38;5;241m.\u001b[39mlookup_er_administrative,\n\u001b[1;32m     80\u001b[0m     LOOKUP_DIAGNOSIS: \u001b[38;5;28;01mlambda\u001b[39;00m db: db\u001b[38;5;241m.\u001b[39mpublic\u001b[38;5;241m.\u001b[39mlookup_diagnosis,\n\u001b[1;32m     81\u001b[0m     IP_SCU: \u001b[38;5;28;01mlambda\u001b[39;00m db: db\u001b[38;5;241m.\u001b[39mpublic\u001b[38;5;241m.\u001b[39mip_scu,\n\u001b[1;32m     82\u001b[0m     ROOM_TRANSFER: \u001b[38;5;28;01mlambda\u001b[39;00m db: db\u001b[38;5;241m.\u001b[39mpublic\u001b[38;5;241m.\u001b[39mroom_transfer,\n\u001b[1;32m     83\u001b[0m     LOOKUP_ROOM_TRANSFER: \u001b[38;5;28;01mlambda\u001b[39;00m db: db\u001b[38;5;241m.\u001b[39mpublic\u001b[38;5;241m.\u001b[39mlookup_room_transfer,\n\u001b[1;32m     84\u001b[0m     BLOOD_TRANSFUSION: \u001b[38;5;28;01mlambda\u001b[39;00m db: db\u001b[38;5;241m.\u001b[39mpublic\u001b[38;5;241m.\u001b[39mblood_transfusion,\n\u001b[1;32m     85\u001b[0m     IMAGING: \u001b[38;5;28;01mlambda\u001b[39;00m db: db\u001b[38;5;241m.\u001b[39mpublic\u001b[38;5;241m.\u001b[39mimaging,\n\u001b[1;32m     86\u001b[0m     LOOKUP_IMAGING: \u001b[38;5;28;01mlambda\u001b[39;00m db: db\u001b[38;5;241m.\u001b[39mpublic\u001b[38;5;241m.\u001b[39mlookup_imaging,\n\u001b[1;32m     87\u001b[0m     DERIVED_VARIABLES: \u001b[38;5;28;01mlambda\u001b[39;00m db: db\u001b[38;5;241m.\u001b[39mpublic\u001b[38;5;241m.\u001b[39mderived_variables,\n\u001b[1;32m     88\u001b[0m }\n\u001b[1;32m     89\u001b[0m GEMINI_COLUMN_MAP \u001b[38;5;241m=\u001b[39m {\n\u001b[1;32m     90\u001b[0m     \u001b[38;5;124m\"\u001b[39m\u001b[38;5;124mgenc_id\u001b[39m\u001b[38;5;124m\"\u001b[39m: ENCOUNTER_ID,\n\u001b[1;32m     91\u001b[0m     \u001b[38;5;124m\"\u001b[39m\u001b[38;5;124madmit_date_time\u001b[39m\u001b[38;5;124m\"\u001b[39m: ADMIT_TIMESTAMP,\n\u001b[0;32m   (...)\u001b[0m\n\u001b[1;32m    110\u001b[0m     \u001b[38;5;124m\"\u001b[39m\u001b[38;5;124mpatient_id_hashed\u001b[39m\u001b[38;5;124m\"\u001b[39m: SUBJECT_ID,\n\u001b[1;32m    111\u001b[0m }\n\u001b[1;32m    113\u001b[0m EVENT_CATEGORIES \u001b[38;5;241m=\u001b[39m [LAB, VITALS]\n",
      "\u001b[0;31mAttributeError\u001b[0m: 'Database' object has no attribute 'public'"
     ]
    }
   ],
   "source": [
    "t = time.time()\n",
    "cohort, events = main()\n",
    "print(time.time() - t)\n",
    "cohort"
   ]
  },
  {
   "cell_type": "code",
   "execution_count": null,
   "id": "d97ff77b-2599-4b25-9506-0ce1460f0c0a",
   "metadata": {},
   "outputs": [],
   "source": [
    "cohort[OUTCOME_DEATH].sum() / len(cohort)"
   ]
  },
  {
   "cell_type": "code",
   "execution_count": null,
   "id": "bf93effa-5a8f-41de-98e0-1a0d9a22089c",
   "metadata": {},
   "outputs": [],
   "source": [
    "cohort[OUTCOME_EDEMA].sum() / len(cohort)"
   ]
  },
  {
   "cell_type": "code",
   "execution_count": null,
   "id": "032186ed-9141-442b-83de-76111c0f25dd",
   "metadata": {},
   "outputs": [],
   "source": [
    "# Intersect over encounter IDs to get only those encounters common to both\n",
    "#cohort, events = intersect_datasets([cohort, events], ENCOUNTER_ID)"
   ]
  },
  {
   "cell_type": "code",
   "execution_count": null,
   "id": "71bd3975-0390-4aa2-b480-d45875acd55b",
   "metadata": {},
   "outputs": [],
   "source": [
    "save_dataframe(cohort, ENCOUNTERS_FILE)"
   ]
  },
  {
   "cell_type": "markdown",
   "id": "26bed3c7-e88e-40a2-815e-a88cfb5856cf",
   "metadata": {},
   "source": [
    "# Clean / Preprocess"
   ]
  },
  {
   "cell_type": "code",
   "execution_count": null,
   "id": "5b7ac3be-9a9e-4d0a-b908-298ddd41acf7",
   "metadata": {},
   "outputs": [],
   "source": [
    "events[EVENT_NAME] = normalize_names(events[EVENT_NAME])\n",
    "events[EVENT_VALUE] = normalize_values(events[EVENT_VALUE])"
   ]
  },
  {
   "cell_type": "code",
   "execution_count": null,
   "id": "d9d8d4ae-3fa3-4c65-98ac-b7f538bc35b2",
   "metadata": {},
   "outputs": [],
   "source": [
    "# Create the target as a timeseries event\n",
    "death_events = cohort[cohort[OUTCOME_DEATH] == True]\n",
    "death_events = death_events[[ENCOUNTER_ID, DISCHARGE_TIMESTAMP]]\n",
    "\n",
    "# Offset death time - i.e., should predict death time in advance\n",
    "death_events[DISCHARGE_TIMESTAMP] = death_events[DISCHARGE_TIMESTAMP] - pd.DateOffset(\n",
    "    hours=PREDICT_OFFSET_HRS\n",
    ")\n",
    "\n",
    "death_events = death_events.rename({DISCHARGE_TIMESTAMP: EVENT_TIMESTAMP}, axis=1)\n",
    "death_events[EVENT_NAME] = OUTCOME_DEATH_TEMP\n",
    "death_events[EVENT_VALUE] = 1\n",
    "death_events.head(5)"
   ]
  },
  {
   "cell_type": "code",
   "execution_count": null,
   "id": "af77e1f7-e1a0-4384-bb0a-09ab37fb2bb2",
   "metadata": {},
   "outputs": [],
   "source": [
    "events = pd.concat([events, death_events])"
   ]
  },
  {
   "cell_type": "code",
   "execution_count": null,
   "id": "56780458-b9bd-4fa3-af08-3cfec16dd5ad",
   "metadata": {},
   "outputs": [],
   "source": [
    "save_dataframe(events, join(QUERIED_DIR, \"batch_0000.parquet\"))"
   ]
  }
 ],
 "metadata": {
  "kernelspec": {
   "display_name": "cyclops_env",
   "language": "python",
   "name": "cyclops_env"
  },
  "language_info": {
   "codemirror_mode": {
    "name": "ipython",
    "version": 3
   },
   "file_extension": ".py",
   "mimetype": "text/x-python",
   "name": "python",
   "nbconvert_exporter": "python",
   "pygments_lexer": "ipython3",
   "version": "3.9.7"
  }
 },
 "nbformat": 4,
 "nbformat_minor": 5
}
