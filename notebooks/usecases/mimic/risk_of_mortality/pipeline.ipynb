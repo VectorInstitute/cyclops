{
 "cells": [
  {
   "cell_type": "code",
   "execution_count": 52,
   "id": "c8187b80-aa12-4c9b-97b2-83f83691d84d",
   "metadata": {},
   "outputs": [],
   "source": [
    "import pickle\n",
    "\n",
    "import numpy as np\n",
    "import pandas as pd\n",
    "\n",
    "from cyclops.processors.aggregate import Aggregator\n",
    "from cyclops.processors.cleaning import (\n",
    "    normalize_categories,\n",
    "    normalize_names,\n",
    "    normalize_values,\n",
    ")\n",
    "from cyclops.processors.column_names import (\n",
    "    ADMIT_TIMESTAMP,\n",
    "    AGE,\n",
    "    CARE_UNIT,\n",
    "    DIAGNOSIS_CODE,\n",
    "    DIAGNOSIS_TRAJECTORY,\n",
    "    ENCOUNTER_ID,\n",
    "    EVENT_CATEGORY,\n",
    "    EVENT_NAME,\n",
    "    EVENT_TIMESTAMP,\n",
    "    EVENT_VALUE,\n",
    "    EVENT_VALUE_UNIT,\n",
    "    HOSPITAL_ID,\n",
    "    SEX,\n",
    "    SUBJECT_ID,\n",
    "    TIMESTEP,\n",
    "    YEAR,\n",
    ")\n",
    "from cyclops.processors.constants import (\n",
    "    BINARY,\n",
    "    BY,\n",
    "    CATEGORICAL_INDICATOR,\n",
    "    FEATURE_INDICATOR_ATTR,\n",
    "    FEATURE_MAPPING_ATTR,\n",
    "    FEATURE_TYPE_ATTR,\n",
    "    FEATURE_TYPES,\n",
    "    FEATURES,\n",
    "    MEAN,\n",
    "    MIN_MAX,\n",
    "    MISSING_CATEGORY,\n",
    "    NUMERIC,\n",
    "    ORDINAL,\n",
    "    STANDARD,\n",
    "    STRING,\n",
    "    TARGETS,\n",
    ")\n",
    "from cyclops.processors.feature.feature import TabularFeatures, TemporalFeatures\n",
    "from cyclops.processors.feature.normalization import VectorizedNormalizer\n",
    "from cyclops.processors.feature.split import split_idx\n",
    "from cyclops.query import mimic\n",
    "from cyclops.query import process as qp\n",
    "from cyclops.utils.common import print_dict\n",
    "from cyclops.utils.file import load_dataframe, save_dataframe"
   ]
  },
  {
   "cell_type": "code",
   "execution_count": 53,
   "id": "6e81b3cd-e787-4569-96a2-546ed9bc64ae",
   "metadata": {},
   "outputs": [],
   "source": [
    "YEARS = [2015, 2016, 2018, 2019, 2020]\n",
    "MIN_YEAR = min(YEARS)\n",
    "TARGET_NAME = \"death\""
   ]
  },
  {
   "cell_type": "markdown",
   "id": "ae51ff77-f449-470f-ad40-5cea2db2a3a8",
   "metadata": {
    "tags": []
   },
   "source": [
    "# Querying"
   ]
  },
  {
   "cell_type": "markdown",
   "id": "0d3412ae-a3a2-49b1-99d7-f13014cb3d35",
   "metadata": {},
   "source": [
    "## Patient encounters"
   ]
  },
  {
   "cell_type": "code",
   "execution_count": 54,
   "id": "fd7883ba-5319-4035-91fb-0128fb36821d",
   "metadata": {},
   "outputs": [
    {
     "name": "stderr",
     "output_type": "stream",
     "text": [
      "2022-07-15 11:46:08,986 \u001b[1;37mINFO\u001b[0m cyclops.orm     - Query returned successfully!\n",
      "2022-07-15 11:46:08,987 \u001b[1;37mINFO\u001b[0m cyclops.utils.profile - Finished executing function run_query in 2.809693 s\n"
     ]
    },
    {
     "data": {
      "text/html": [
       "<div>\n",
       "<style scoped>\n",
       "    .dataframe tbody tr th:only-of-type {\n",
       "        vertical-align: middle;\n",
       "    }\n",
       "\n",
       "    .dataframe tbody tr th {\n",
       "        vertical-align: top;\n",
       "    }\n",
       "\n",
       "    .dataframe thead th {\n",
       "        text-align: right;\n",
       "    }\n",
       "</style>\n",
       "<table border=\"1\" class=\"dataframe\">\n",
       "  <thead>\n",
       "    <tr style=\"text-align: right;\">\n",
       "      <th></th>\n",
       "      <th>subject_id</th>\n",
       "      <th>encounter_id</th>\n",
       "      <th>admit_timestamp</th>\n",
       "      <th>discharge_timestamp</th>\n",
       "      <th>deathtime</th>\n",
       "      <th>admission_type</th>\n",
       "      <th>admission_location</th>\n",
       "      <th>discharge_location</th>\n",
       "      <th>ethnicity</th>\n",
       "      <th>edregtime</th>\n",
       "      <th>edouttime</th>\n",
       "      <th>sex</th>\n",
       "      <th>age</th>\n",
       "      <th>birth_year</th>\n",
       "      <th>dod</th>\n",
       "      <th>anchor_year_difference</th>\n",
       "      <th>died</th>\n",
       "    </tr>\n",
       "  </thead>\n",
       "  <tbody>\n",
       "    <tr>\n",
       "      <th>0</th>\n",
       "      <td>17978591</td>\n",
       "      <td>21300810</td>\n",
       "      <td>2015-10-10 00:21:00</td>\n",
       "      <td>2015-10-12 14:10:00</td>\n",
       "      <td>NaT</td>\n",
       "      <td>ELECTIVE</td>\n",
       "      <td>None</td>\n",
       "      <td>HOME</td>\n",
       "      <td>WHITE</td>\n",
       "      <td>NaT</td>\n",
       "      <td>NaT</td>\n",
       "      <td>F</td>\n",
       "      <td>0</td>\n",
       "      <td>2015</td>\n",
       "      <td>NaT</td>\n",
       "      <td>-134</td>\n",
       "      <td>False</td>\n",
       "    </tr>\n",
       "    <tr>\n",
       "      <th>1</th>\n",
       "      <td>17763996</td>\n",
       "      <td>26149939</td>\n",
       "      <td>2018-03-29 22:14:00</td>\n",
       "      <td>2018-04-01 12:35:00</td>\n",
       "      <td>NaT</td>\n",
       "      <td>ELECTIVE</td>\n",
       "      <td>None</td>\n",
       "      <td>HOME</td>\n",
       "      <td>UNKNOWN</td>\n",
       "      <td>NaT</td>\n",
       "      <td>NaT</td>\n",
       "      <td>M</td>\n",
       "      <td>0</td>\n",
       "      <td>2018</td>\n",
       "      <td>NaT</td>\n",
       "      <td>-155</td>\n",
       "      <td>False</td>\n",
       "    </tr>\n",
       "    <tr>\n",
       "      <th>2</th>\n",
       "      <td>12901523</td>\n",
       "      <td>26546757</td>\n",
       "      <td>2018-08-14 17:32:00</td>\n",
       "      <td>2018-08-17 03:18:00</td>\n",
       "      <td>NaT</td>\n",
       "      <td>ELECTIVE</td>\n",
       "      <td>None</td>\n",
       "      <td>HOME</td>\n",
       "      <td>BLACK/AFRICAN AMERICAN</td>\n",
       "      <td>NaT</td>\n",
       "      <td>NaT</td>\n",
       "      <td>F</td>\n",
       "      <td>0</td>\n",
       "      <td>2018</td>\n",
       "      <td>NaT</td>\n",
       "      <td>-126</td>\n",
       "      <td>False</td>\n",
       "    </tr>\n",
       "    <tr>\n",
       "      <th>3</th>\n",
       "      <td>17871631</td>\n",
       "      <td>20600400</td>\n",
       "      <td>2015-12-03 12:43:00</td>\n",
       "      <td>2015-12-05 12:05:00</td>\n",
       "      <td>NaT</td>\n",
       "      <td>ELECTIVE</td>\n",
       "      <td>None</td>\n",
       "      <td>HOME</td>\n",
       "      <td>ASIAN</td>\n",
       "      <td>NaT</td>\n",
       "      <td>NaT</td>\n",
       "      <td>F</td>\n",
       "      <td>0</td>\n",
       "      <td>2015</td>\n",
       "      <td>NaT</td>\n",
       "      <td>-126</td>\n",
       "      <td>False</td>\n",
       "    </tr>\n",
       "    <tr>\n",
       "      <th>4</th>\n",
       "      <td>13048111</td>\n",
       "      <td>23204476</td>\n",
       "      <td>2018-11-01 14:35:00</td>\n",
       "      <td>2018-11-05 15:55:00</td>\n",
       "      <td>NaT</td>\n",
       "      <td>ELECTIVE</td>\n",
       "      <td>None</td>\n",
       "      <td>HOME</td>\n",
       "      <td>BLACK/AFRICAN AMERICAN</td>\n",
       "      <td>NaT</td>\n",
       "      <td>NaT</td>\n",
       "      <td>M</td>\n",
       "      <td>0</td>\n",
       "      <td>2018</td>\n",
       "      <td>NaT</td>\n",
       "      <td>-156</td>\n",
       "      <td>False</td>\n",
       "    </tr>\n",
       "    <tr>\n",
       "      <th>...</th>\n",
       "      <td>...</td>\n",
       "      <td>...</td>\n",
       "      <td>...</td>\n",
       "      <td>...</td>\n",
       "      <td>...</td>\n",
       "      <td>...</td>\n",
       "      <td>...</td>\n",
       "      <td>...</td>\n",
       "      <td>...</td>\n",
       "      <td>...</td>\n",
       "      <td>...</td>\n",
       "      <td>...</td>\n",
       "      <td>...</td>\n",
       "      <td>...</td>\n",
       "      <td>...</td>\n",
       "      <td>...</td>\n",
       "      <td>...</td>\n",
       "    </tr>\n",
       "    <tr>\n",
       "      <th>224759</th>\n",
       "      <td>11512653</td>\n",
       "      <td>24728972</td>\n",
       "      <td>2015-08-24 18:56:00</td>\n",
       "      <td>2015-09-01 17:55:00</td>\n",
       "      <td>NaT</td>\n",
       "      <td>URGENT</td>\n",
       "      <td>TRANSFER FROM HOSPITAL</td>\n",
       "      <td>SKILLED NURSING FACILITY</td>\n",
       "      <td>WHITE</td>\n",
       "      <td>NaT</td>\n",
       "      <td>NaT</td>\n",
       "      <td>M</td>\n",
       "      <td>83</td>\n",
       "      <td>1932</td>\n",
       "      <td>NaT</td>\n",
       "      <td>-165</td>\n",
       "      <td>False</td>\n",
       "    </tr>\n",
       "    <tr>\n",
       "      <th>224760</th>\n",
       "      <td>10877983</td>\n",
       "      <td>21810481</td>\n",
       "      <td>2018-08-03 20:44:00</td>\n",
       "      <td>2018-08-10 13:30:00</td>\n",
       "      <td>NaT</td>\n",
       "      <td>OBSERVATION ADMIT</td>\n",
       "      <td>EMERGENCY ROOM</td>\n",
       "      <td>ACUTE HOSPITAL</td>\n",
       "      <td>WHITE</td>\n",
       "      <td>2183-08-03 17:50:00</td>\n",
       "      <td>2183-08-03 23:30:00</td>\n",
       "      <td>F</td>\n",
       "      <td>70</td>\n",
       "      <td>1948</td>\n",
       "      <td>NaT</td>\n",
       "      <td>-165</td>\n",
       "      <td>False</td>\n",
       "    </tr>\n",
       "    <tr>\n",
       "      <th>224761</th>\n",
       "      <td>12482183</td>\n",
       "      <td>28145020</td>\n",
       "      <td>2015-12-16 10:39:00</td>\n",
       "      <td>2015-12-17 18:40:00</td>\n",
       "      <td>NaT</td>\n",
       "      <td>URGENT</td>\n",
       "      <td>TRANSFER FROM HOSPITAL</td>\n",
       "      <td>HOME</td>\n",
       "      <td>OTHER</td>\n",
       "      <td>2138-12-15 23:29:00</td>\n",
       "      <td>2138-12-16 12:27:00</td>\n",
       "      <td>F</td>\n",
       "      <td>66</td>\n",
       "      <td>1949</td>\n",
       "      <td>NaT</td>\n",
       "      <td>-123</td>\n",
       "      <td>False</td>\n",
       "    </tr>\n",
       "    <tr>\n",
       "      <th>224762</th>\n",
       "      <td>11985678</td>\n",
       "      <td>21946538</td>\n",
       "      <td>2018-09-13 01:55:00</td>\n",
       "      <td>2018-09-17 10:34:00</td>\n",
       "      <td>NaT</td>\n",
       "      <td>OBSERVATION ADMIT</td>\n",
       "      <td>EMERGENCY ROOM</td>\n",
       "      <td>PSYCH FACILITY</td>\n",
       "      <td>WHITE</td>\n",
       "      <td>2187-09-12 16:38:00</td>\n",
       "      <td>2187-09-13 03:23:00</td>\n",
       "      <td>M</td>\n",
       "      <td>49</td>\n",
       "      <td>1969</td>\n",
       "      <td>NaT</td>\n",
       "      <td>-169</td>\n",
       "      <td>False</td>\n",
       "    </tr>\n",
       "    <tr>\n",
       "      <th>224763</th>\n",
       "      <td>12298845</td>\n",
       "      <td>22347500</td>\n",
       "      <td>2018-05-31 00:00:00</td>\n",
       "      <td>2018-06-04 16:50:00</td>\n",
       "      <td>NaT</td>\n",
       "      <td>SURGICAL SAME DAY ADMISSION</td>\n",
       "      <td>PHYSICIAN REFERRAL</td>\n",
       "      <td>HOME HEALTH CARE</td>\n",
       "      <td>WHITE</td>\n",
       "      <td>NaT</td>\n",
       "      <td>NaT</td>\n",
       "      <td>F</td>\n",
       "      <td>48</td>\n",
       "      <td>1970</td>\n",
       "      <td>NaT</td>\n",
       "      <td>-120</td>\n",
       "      <td>False</td>\n",
       "    </tr>\n",
       "  </tbody>\n",
       "</table>\n",
       "<p>224764 rows × 17 columns</p>\n",
       "</div>"
      ],
      "text/plain": [
       "        subject_id  encounter_id     admit_timestamp discharge_timestamp  \\\n",
       "0         17978591      21300810 2015-10-10 00:21:00 2015-10-12 14:10:00   \n",
       "1         17763996      26149939 2018-03-29 22:14:00 2018-04-01 12:35:00   \n",
       "2         12901523      26546757 2018-08-14 17:32:00 2018-08-17 03:18:00   \n",
       "3         17871631      20600400 2015-12-03 12:43:00 2015-12-05 12:05:00   \n",
       "4         13048111      23204476 2018-11-01 14:35:00 2018-11-05 15:55:00   \n",
       "...            ...           ...                 ...                 ...   \n",
       "224759    11512653      24728972 2015-08-24 18:56:00 2015-09-01 17:55:00   \n",
       "224760    10877983      21810481 2018-08-03 20:44:00 2018-08-10 13:30:00   \n",
       "224761    12482183      28145020 2015-12-16 10:39:00 2015-12-17 18:40:00   \n",
       "224762    11985678      21946538 2018-09-13 01:55:00 2018-09-17 10:34:00   \n",
       "224763    12298845      22347500 2018-05-31 00:00:00 2018-06-04 16:50:00   \n",
       "\n",
       "       deathtime               admission_type      admission_location  \\\n",
       "0            NaT                     ELECTIVE                    None   \n",
       "1            NaT                     ELECTIVE                    None   \n",
       "2            NaT                     ELECTIVE                    None   \n",
       "3            NaT                     ELECTIVE                    None   \n",
       "4            NaT                     ELECTIVE                    None   \n",
       "...          ...                          ...                     ...   \n",
       "224759       NaT                       URGENT  TRANSFER FROM HOSPITAL   \n",
       "224760       NaT            OBSERVATION ADMIT          EMERGENCY ROOM   \n",
       "224761       NaT                       URGENT  TRANSFER FROM HOSPITAL   \n",
       "224762       NaT            OBSERVATION ADMIT          EMERGENCY ROOM   \n",
       "224763       NaT  SURGICAL SAME DAY ADMISSION      PHYSICIAN REFERRAL   \n",
       "\n",
       "              discharge_location               ethnicity           edregtime  \\\n",
       "0                           HOME                   WHITE                 NaT   \n",
       "1                           HOME                 UNKNOWN                 NaT   \n",
       "2                           HOME  BLACK/AFRICAN AMERICAN                 NaT   \n",
       "3                           HOME                   ASIAN                 NaT   \n",
       "4                           HOME  BLACK/AFRICAN AMERICAN                 NaT   \n",
       "...                          ...                     ...                 ...   \n",
       "224759  SKILLED NURSING FACILITY                   WHITE                 NaT   \n",
       "224760            ACUTE HOSPITAL                   WHITE 2183-08-03 17:50:00   \n",
       "224761                      HOME                   OTHER 2138-12-15 23:29:00   \n",
       "224762            PSYCH FACILITY                   WHITE 2187-09-12 16:38:00   \n",
       "224763          HOME HEALTH CARE                   WHITE                 NaT   \n",
       "\n",
       "                 edouttime sex  age  birth_year dod  anchor_year_difference  \\\n",
       "0                      NaT   F    0        2015 NaT                    -134   \n",
       "1                      NaT   M    0        2018 NaT                    -155   \n",
       "2                      NaT   F    0        2018 NaT                    -126   \n",
       "3                      NaT   F    0        2015 NaT                    -126   \n",
       "4                      NaT   M    0        2018 NaT                    -156   \n",
       "...                    ...  ..  ...         ...  ..                     ...   \n",
       "224759                 NaT   M   83        1932 NaT                    -165   \n",
       "224760 2183-08-03 23:30:00   F   70        1948 NaT                    -165   \n",
       "224761 2138-12-16 12:27:00   F   66        1949 NaT                    -123   \n",
       "224762 2187-09-13 03:23:00   M   49        1969 NaT                    -169   \n",
       "224763                 NaT   F   48        1970 NaT                    -120   \n",
       "\n",
       "         died  \n",
       "0       False  \n",
       "1       False  \n",
       "2       False  \n",
       "3       False  \n",
       "4       False  \n",
       "...       ...  \n",
       "224759  False  \n",
       "224760  False  \n",
       "224761  False  \n",
       "224762  False  \n",
       "224763  False  \n",
       "\n",
       "[224764 rows x 17 columns]"
      ]
     },
     "execution_count": 54,
     "metadata": {},
     "output_type": "execute_result"
    }
   ],
   "source": [
    "encounters_interface = mimic.patient_encounters(\n",
    "    years=YEARS, died=True, died_binarize_col=\"died\"\n",
    ")\n",
    "encounters_query = encounters_interface.query\n",
    "encounters_query = qp.Drop(\n",
    "    [\"insurance\", \"language\", \"marital_status\", \"hospital_expire_flag\"]\n",
    ")(encounters_query)\n",
    "encounters_interface = mimic.get_interface(encounters_query)\n",
    "encounters = encounters_interface.run()\n",
    "encounters"
   ]
  },
  {
   "cell_type": "code",
   "execution_count": 55,
   "id": "e97d4889-d8ac-4648-b60c-3cdd18854567",
   "metadata": {},
   "outputs": [
    {
     "name": "stderr",
     "output_type": "stream",
     "text": [
      "2022-07-15 11:46:09,007 \u001b[1;37mINFO\u001b[0m cyclops.utils.file - Saving dataframe to encounters.parquet\n"
     ]
    },
    {
     "data": {
      "text/plain": [
       "'encounters.parquet'"
      ]
     },
     "execution_count": 55,
     "metadata": {},
     "output_type": "execute_result"
    }
   ],
   "source": [
    "save_dataframe(encounters, \"encounters.parquet\")"
   ]
  },
  {
   "cell_type": "markdown",
   "id": "a176f2de-f264-4253-ab11-da9017a4153c",
   "metadata": {},
   "source": [
    "## Events"
   ]
  },
  {
   "cell_type": "code",
   "execution_count": 56,
   "id": "9b7ba80d-da74-40bb-bb2a-9310bdd4356b",
   "metadata": {},
   "outputs": [
    {
     "name": "stderr",
     "output_type": "stream",
     "text": [
      "2022-07-15 11:46:13,184 \u001b[1;37mINFO\u001b[0m cyclops.orm     - Query returned successfully!\n",
      "2022-07-15 11:46:13,185 \u001b[1;37mINFO\u001b[0m cyclops.utils.profile - Finished executing function run_query in 3.846352 s\n"
     ]
    }
   ],
   "source": [
    "events_interface = mimic.events()\n",
    "events_query = events_interface.query\n",
    "events_query = qp.Drop([\"warning\", \"itemid\", \"storetime\"])(events_query)\n",
    "events_interface = mimic.get_interface(events_query)\n",
    "events = events_interface.run(limit=1000000)\n",
    "\n",
    "# Reverse the deidentified dating\n",
    "events = pd.merge(\n",
    "    encounters[[ENCOUNTER_ID, \"anchor_year_difference\"]], events, on=ENCOUNTER_ID\n",
    ")\n",
    "\n",
    "\n",
    "def add_offset(row):\n",
    "    row[EVENT_TIMESTAMP] += pd.DateOffset(years=row[\"anchor_year_difference\"])\n",
    "    return row\n",
    "\n",
    "\n",
    "events = events.apply(add_offset, axis=1)\n",
    "events = events.drop(\"anchor_year_difference\", axis=1)"
   ]
  },
  {
   "cell_type": "code",
   "execution_count": 57,
   "id": "3d7e4baf-d3d8-4863-97bc-af18fc035806",
   "metadata": {},
   "outputs": [
    {
     "data": {
      "text/html": [
       "<div>\n",
       "<style scoped>\n",
       "    .dataframe tbody tr th:only-of-type {\n",
       "        vertical-align: middle;\n",
       "    }\n",
       "\n",
       "    .dataframe tbody tr th {\n",
       "        vertical-align: top;\n",
       "    }\n",
       "\n",
       "    .dataframe thead th {\n",
       "        text-align: right;\n",
       "    }\n",
       "</style>\n",
       "<table border=\"1\" class=\"dataframe\">\n",
       "  <thead>\n",
       "    <tr style=\"text-align: right;\">\n",
       "      <th></th>\n",
       "      <th>encounter_id</th>\n",
       "      <th>event_timestamp</th>\n",
       "      <th>event_name</th>\n",
       "      <th>event_category</th>\n",
       "      <th>event_value</th>\n",
       "    </tr>\n",
       "  </thead>\n",
       "  <tbody>\n",
       "    <tr>\n",
       "      <th>833</th>\n",
       "      <td>23121290</td>\n",
       "      <td>2018-09-22 12:46:00</td>\n",
       "      <td>death</td>\n",
       "      <td>targets</td>\n",
       "      <td>1</td>\n",
       "    </tr>\n",
       "    <tr>\n",
       "      <th>1080</th>\n",
       "      <td>24112055</td>\n",
       "      <td>2018-03-13 01:15:00</td>\n",
       "      <td>death</td>\n",
       "      <td>targets</td>\n",
       "      <td>1</td>\n",
       "    </tr>\n",
       "    <tr>\n",
       "      <th>1428</th>\n",
       "      <td>24657556</td>\n",
       "      <td>2018-05-09 00:00:00</td>\n",
       "      <td>death</td>\n",
       "      <td>targets</td>\n",
       "      <td>1</td>\n",
       "    </tr>\n",
       "    <tr>\n",
       "      <th>1744</th>\n",
       "      <td>24422389</td>\n",
       "      <td>2018-06-06 15:00:00</td>\n",
       "      <td>death</td>\n",
       "      <td>targets</td>\n",
       "      <td>1</td>\n",
       "    </tr>\n",
       "    <tr>\n",
       "      <th>1745</th>\n",
       "      <td>21834123</td>\n",
       "      <td>2018-02-28 04:30:00</td>\n",
       "      <td>death</td>\n",
       "      <td>targets</td>\n",
       "      <td>1</td>\n",
       "    </tr>\n",
       "  </tbody>\n",
       "</table>\n",
       "</div>"
      ],
      "text/plain": [
       "      encounter_id     event_timestamp event_name event_category  event_value\n",
       "833       23121290 2018-09-22 12:46:00      death        targets            1\n",
       "1080      24112055 2018-03-13 01:15:00      death        targets            1\n",
       "1428      24657556 2018-05-09 00:00:00      death        targets            1\n",
       "1744      24422389 2018-06-06 15:00:00      death        targets            1\n",
       "1745      21834123 2018-02-28 04:30:00      death        targets            1"
      ]
     },
     "execution_count": 57,
     "metadata": {},
     "output_type": "execute_result"
    }
   ],
   "source": [
    "# Create the target as a timeseries event\n",
    "target_events = encounters[encounters[\"died\"] == True]\n",
    "target_events = target_events[[ENCOUNTER_ID, \"deathtime\"]]\n",
    "target_events = target_events.rename({\"deathtime\": EVENT_TIMESTAMP}, axis=1)\n",
    "target_events[EVENT_NAME] = TARGET_NAME\n",
    "target_events[EVENT_CATEGORY] = TARGETS\n",
    "target_events[EVENT_VALUE] = 1\n",
    "target_events.head(5)"
   ]
  },
  {
   "cell_type": "code",
   "execution_count": 58,
   "id": "74e6aca3-2a88-4bab-8a84-973bcdc36419",
   "metadata": {},
   "outputs": [],
   "source": [
    "# Include target\n",
    "events = pd.concat([events, target_events])"
   ]
  },
  {
   "cell_type": "code",
   "execution_count": 59,
   "id": "6c4a818d-7ed4-48a6-9530-b232eb91b420",
   "metadata": {},
   "outputs": [],
   "source": [
    "# Preprocessing\n",
    "events[EVENT_NAME] = normalize_names(events[EVENT_NAME])\n",
    "events[EVENT_CATEGORY] = normalize_categories(events[EVENT_CATEGORY])\n",
    "# events[EVENT_VALUE] = normalize_values(events[EVENT_VALUE])\n",
    "\n",
    "# Concatenate event name and category since some names are the same in\n",
    "# different categories, e.g., 'flow' for categories 'heartware' and 'ecmo'\n",
    "events[EVENT_NAME] = events[EVENT_CATEGORY] + \" - \" + events[EVENT_NAME]\n",
    "events.head(5)\n",
    "\n",
    "# Update target name having included the category\n",
    "TARGET_NAME = TARGETS + \" - \" + TARGET_NAME"
   ]
  },
  {
   "cell_type": "code",
   "execution_count": 60,
   "id": "a0dc2a25-f959-48f4-ad3b-4b95f940a8e5",
   "metadata": {},
   "outputs": [
    {
     "name": "stderr",
     "output_type": "stream",
     "text": [
      "2022-07-15 11:47:02,442 \u001b[1;37mINFO\u001b[0m cyclops.utils.file - Saving dataframe to events.parquet\n"
     ]
    },
    {
     "data": {
      "text/plain": [
       "'events.parquet'"
      ]
     },
     "execution_count": 60,
     "metadata": {},
     "output_type": "execute_result"
    }
   ],
   "source": [
    "save_dataframe(events, \"events.parquet\")"
   ]
  },
  {
   "cell_type": "markdown",
   "id": "b888f02b-a52b-4039-8d2b-c2994848b916",
   "metadata": {},
   "source": [
    "------------------------------------------------------------------------------------------------"
   ]
  },
  {
   "cell_type": "markdown",
   "id": "f2f8e387-33cf-4285-9a92-75c14eac4f18",
   "metadata": {
    "tags": []
   },
   "source": [
    "# Processing"
   ]
  },
  {
   "cell_type": "markdown",
   "id": "c40f9507-91bd-487f-a73d-0faccf54c7a6",
   "metadata": {
    "tags": []
   },
   "source": [
    "## Tabular"
   ]
  },
  {
   "cell_type": "code",
   "execution_count": 61,
   "id": "643ec42d-a118-46ac-99c3-a776e60e1a65",
   "metadata": {},
   "outputs": [
    {
     "name": "stderr",
     "output_type": "stream",
     "text": [
      "2022-07-15 11:47:02,721 \u001b[1;37mINFO\u001b[0m cyclops.utils.file - Loading dataframe from encounters.parquet\n"
     ]
    },
    {
     "data": {
      "text/html": [
       "<div>\n",
       "<style scoped>\n",
       "    .dataframe tbody tr th:only-of-type {\n",
       "        vertical-align: middle;\n",
       "    }\n",
       "\n",
       "    .dataframe tbody tr th {\n",
       "        vertical-align: top;\n",
       "    }\n",
       "\n",
       "    .dataframe thead th {\n",
       "        text-align: right;\n",
       "    }\n",
       "</style>\n",
       "<table border=\"1\" class=\"dataframe\">\n",
       "  <thead>\n",
       "    <tr style=\"text-align: right;\">\n",
       "      <th></th>\n",
       "      <th>subject_id</th>\n",
       "      <th>encounter_id</th>\n",
       "      <th>admit_timestamp</th>\n",
       "      <th>discharge_timestamp</th>\n",
       "      <th>deathtime</th>\n",
       "      <th>admission_type</th>\n",
       "      <th>admission_location</th>\n",
       "      <th>discharge_location</th>\n",
       "      <th>ethnicity</th>\n",
       "      <th>edregtime</th>\n",
       "      <th>edouttime</th>\n",
       "      <th>sex</th>\n",
       "      <th>age</th>\n",
       "      <th>birth_year</th>\n",
       "      <th>dod</th>\n",
       "      <th>anchor_year_difference</th>\n",
       "      <th>died</th>\n",
       "    </tr>\n",
       "  </thead>\n",
       "  <tbody>\n",
       "    <tr>\n",
       "      <th>0</th>\n",
       "      <td>17978591</td>\n",
       "      <td>21300810</td>\n",
       "      <td>2015-10-10 00:21:00</td>\n",
       "      <td>2015-10-12 14:10:00</td>\n",
       "      <td>NaT</td>\n",
       "      <td>ELECTIVE</td>\n",
       "      <td>None</td>\n",
       "      <td>HOME</td>\n",
       "      <td>WHITE</td>\n",
       "      <td>NaT</td>\n",
       "      <td>NaT</td>\n",
       "      <td>F</td>\n",
       "      <td>0</td>\n",
       "      <td>2015</td>\n",
       "      <td>NaT</td>\n",
       "      <td>-134</td>\n",
       "      <td>False</td>\n",
       "    </tr>\n",
       "    <tr>\n",
       "      <th>1</th>\n",
       "      <td>17763996</td>\n",
       "      <td>26149939</td>\n",
       "      <td>2018-03-29 22:14:00</td>\n",
       "      <td>2018-04-01 12:35:00</td>\n",
       "      <td>NaT</td>\n",
       "      <td>ELECTIVE</td>\n",
       "      <td>None</td>\n",
       "      <td>HOME</td>\n",
       "      <td>UNKNOWN</td>\n",
       "      <td>NaT</td>\n",
       "      <td>NaT</td>\n",
       "      <td>M</td>\n",
       "      <td>0</td>\n",
       "      <td>2018</td>\n",
       "      <td>NaT</td>\n",
       "      <td>-155</td>\n",
       "      <td>False</td>\n",
       "    </tr>\n",
       "    <tr>\n",
       "      <th>2</th>\n",
       "      <td>12901523</td>\n",
       "      <td>26546757</td>\n",
       "      <td>2018-08-14 17:32:00</td>\n",
       "      <td>2018-08-17 03:18:00</td>\n",
       "      <td>NaT</td>\n",
       "      <td>ELECTIVE</td>\n",
       "      <td>None</td>\n",
       "      <td>HOME</td>\n",
       "      <td>BLACK/AFRICAN AMERICAN</td>\n",
       "      <td>NaT</td>\n",
       "      <td>NaT</td>\n",
       "      <td>F</td>\n",
       "      <td>0</td>\n",
       "      <td>2018</td>\n",
       "      <td>NaT</td>\n",
       "      <td>-126</td>\n",
       "      <td>False</td>\n",
       "    </tr>\n",
       "    <tr>\n",
       "      <th>3</th>\n",
       "      <td>17871631</td>\n",
       "      <td>20600400</td>\n",
       "      <td>2015-12-03 12:43:00</td>\n",
       "      <td>2015-12-05 12:05:00</td>\n",
       "      <td>NaT</td>\n",
       "      <td>ELECTIVE</td>\n",
       "      <td>None</td>\n",
       "      <td>HOME</td>\n",
       "      <td>ASIAN</td>\n",
       "      <td>NaT</td>\n",
       "      <td>NaT</td>\n",
       "      <td>F</td>\n",
       "      <td>0</td>\n",
       "      <td>2015</td>\n",
       "      <td>NaT</td>\n",
       "      <td>-126</td>\n",
       "      <td>False</td>\n",
       "    </tr>\n",
       "    <tr>\n",
       "      <th>4</th>\n",
       "      <td>13048111</td>\n",
       "      <td>23204476</td>\n",
       "      <td>2018-11-01 14:35:00</td>\n",
       "      <td>2018-11-05 15:55:00</td>\n",
       "      <td>NaT</td>\n",
       "      <td>ELECTIVE</td>\n",
       "      <td>None</td>\n",
       "      <td>HOME</td>\n",
       "      <td>BLACK/AFRICAN AMERICAN</td>\n",
       "      <td>NaT</td>\n",
       "      <td>NaT</td>\n",
       "      <td>M</td>\n",
       "      <td>0</td>\n",
       "      <td>2018</td>\n",
       "      <td>NaT</td>\n",
       "      <td>-156</td>\n",
       "      <td>False</td>\n",
       "    </tr>\n",
       "  </tbody>\n",
       "</table>\n",
       "</div>"
      ],
      "text/plain": [
       "   subject_id  encounter_id     admit_timestamp discharge_timestamp deathtime  \\\n",
       "0    17978591      21300810 2015-10-10 00:21:00 2015-10-12 14:10:00       NaT   \n",
       "1    17763996      26149939 2018-03-29 22:14:00 2018-04-01 12:35:00       NaT   \n",
       "2    12901523      26546757 2018-08-14 17:32:00 2018-08-17 03:18:00       NaT   \n",
       "3    17871631      20600400 2015-12-03 12:43:00 2015-12-05 12:05:00       NaT   \n",
       "4    13048111      23204476 2018-11-01 14:35:00 2018-11-05 15:55:00       NaT   \n",
       "\n",
       "  admission_type admission_location discharge_location  \\\n",
       "0       ELECTIVE               None               HOME   \n",
       "1       ELECTIVE               None               HOME   \n",
       "2       ELECTIVE               None               HOME   \n",
       "3       ELECTIVE               None               HOME   \n",
       "4       ELECTIVE               None               HOME   \n",
       "\n",
       "                ethnicity edregtime edouttime sex  age  birth_year dod  \\\n",
       "0                   WHITE       NaT       NaT   F    0        2015 NaT   \n",
       "1                 UNKNOWN       NaT       NaT   M    0        2018 NaT   \n",
       "2  BLACK/AFRICAN AMERICAN       NaT       NaT   F    0        2018 NaT   \n",
       "3                   ASIAN       NaT       NaT   F    0        2015 NaT   \n",
       "4  BLACK/AFRICAN AMERICAN       NaT       NaT   M    0        2018 NaT   \n",
       "\n",
       "   anchor_year_difference   died  \n",
       "0                    -134  False  \n",
       "1                    -155  False  \n",
       "2                    -126  False  \n",
       "3                    -126  False  \n",
       "4                    -156  False  "
      ]
     },
     "execution_count": 61,
     "metadata": {},
     "output_type": "execute_result"
    }
   ],
   "source": [
    "encounters = load_dataframe(\"encounters.parquet\")\n",
    "encounters.head(5)"
   ]
  },
  {
   "cell_type": "code",
   "execution_count": 62,
   "id": "fb8aec10-040a-4a71-8433-40f9d6855dd5",
   "metadata": {},
   "outputs": [],
   "source": [
    "features = [\n",
    "    AGE,\n",
    "    SEX,\n",
    "    \"admission_type\",\n",
    "    \"admission_location\",\n",
    "    \"discharge_location\",\n",
    "    \"ethnicity\",\n",
    "]\n",
    "\n",
    "tab_features = TabularFeatures(\n",
    "    data=encounters,\n",
    "    features=features,\n",
    "    by=ENCOUNTER_ID,\n",
    ")"
   ]
  },
  {
   "cell_type": "code",
   "execution_count": 63,
   "id": "af949608-e0b8-4cdf-9e72-71e8b26eab18",
   "metadata": {},
   "outputs": [
    {
     "data": {
      "text/plain": [
       "{'age': 'numeric',\n",
       " 'discharge_location': 'ordinal',\n",
       " 'sex': 'binary',\n",
       " 'ethnicity': 'ordinal',\n",
       " 'admission_location': 'ordinal',\n",
       " 'admission_type': 'ordinal'}"
      ]
     },
     "execution_count": 63,
     "metadata": {},
     "output_type": "execute_result"
    }
   ],
   "source": [
    "tab_features.types"
   ]
  },
  {
   "cell_type": "code",
   "execution_count": 64,
   "id": "4ea328b2-e397-405a-a5b0-7bcaa4520aa6",
   "metadata": {},
   "outputs": [
    {
     "data": {
      "text/plain": [
       "{0: 'AMBULATORY SURGERY TRANSFER',\n",
       " 1: 'CLINIC REFERRAL',\n",
       " 2: 'EMERGENCY ROOM',\n",
       " 3: 'INFORMATION NOT AVAILABLE',\n",
       " 4: 'INTERNAL TRANSFER TO OR FROM PSYCH',\n",
       " 5: 'PACU',\n",
       " 6: 'PHYSICIAN REFERRAL',\n",
       " 7: 'PROCEDURE SITE',\n",
       " 8: 'TRANSFER FROM HOSPITAL',\n",
       " 9: 'TRANSFER FROM SKILLED NURSING FACILITY',\n",
       " 10: 'WALK-IN/SELF REFERRAL',\n",
       " 11: 'nan'}"
      ]
     },
     "execution_count": 64,
     "metadata": {},
     "output_type": "execute_result"
    }
   ],
   "source": [
    "tab_features.meta[\"admission_location\"].get_mapping()"
   ]
  },
  {
   "cell_type": "code",
   "execution_count": 65,
   "id": "b90115b1-3e5e-412c-ae3a-51e1f7d5607b",
   "metadata": {},
   "outputs": [
    {
     "data": {
      "text/plain": [
       "['discharge_location', 'ethnicity', 'admission_location', 'admission_type']"
      ]
     },
     "execution_count": 65,
     "metadata": {},
     "output_type": "execute_result"
    }
   ],
   "source": [
    "ordinal_features = tab_features.features_by_type(ORDINAL)\n",
    "ordinal_features"
   ]
  },
  {
   "cell_type": "code",
   "execution_count": 66,
   "id": "eda135bc-f0f6-4dd1-bb4e-91d96a24f44e",
   "metadata": {},
   "outputs": [
    {
     "name": "stderr",
     "output_type": "stream",
     "text": [
      "/home/kmckeen/gemini/cyclops/cyclops/processors/feature/feature.py:696: SettingWithCopyWarning: \n",
      "A value is trying to be set on a copy of a slice from a DataFrame.\n",
      "Try using .loc[row_indexer,col_indexer] = value instead\n",
      "\n",
      "See the caveats in the documentation: https://pandas.pydata.org/pandas-docs/stable/user_guide/indexing.html#returning-a-view-versus-a-copy\n",
      "  data[feat] = data[feat].replace(self.meta[feat].get_mapping())\n",
      "/home/kmckeen/gemini/cyclops/cyclops/processors/feature/feature.py:696: SettingWithCopyWarning: \n",
      "A value is trying to be set on a copy of a slice from a DataFrame.\n",
      "Try using .loc[row_indexer,col_indexer] = value instead\n",
      "\n",
      "See the caveats in the documentation: https://pandas.pydata.org/pandas-docs/stable/user_guide/indexing.html#returning-a-view-versus-a-copy\n",
      "  data[feat] = data[feat].replace(self.meta[feat].get_mapping())\n",
      "/home/kmckeen/gemini/cyclops/cyclops/processors/feature/feature.py:696: SettingWithCopyWarning: \n",
      "A value is trying to be set on a copy of a slice from a DataFrame.\n",
      "Try using .loc[row_indexer,col_indexer] = value instead\n",
      "\n",
      "See the caveats in the documentation: https://pandas.pydata.org/pandas-docs/stable/user_guide/indexing.html#returning-a-view-versus-a-copy\n",
      "  data[feat] = data[feat].replace(self.meta[feat].get_mapping())\n",
      "/home/kmckeen/gemini/cyclops/cyclops/processors/feature/feature.py:696: SettingWithCopyWarning: \n",
      "A value is trying to be set on a copy of a slice from a DataFrame.\n",
      "Try using .loc[row_indexer,col_indexer] = value instead\n",
      "\n",
      "See the caveats in the documentation: https://pandas.pydata.org/pandas-docs/stable/user_guide/indexing.html#returning-a-view-versus-a-copy\n",
      "  data[feat] = data[feat].replace(self.meta[feat].get_mapping())\n"
     ]
    }
   ],
   "source": [
    "tab_vectorized = tab_features.vectorize(to_binary_indicators=ordinal_features)"
   ]
  },
  {
   "cell_type": "code",
   "execution_count": 67,
   "id": "97a3a502-4d33-4380-92f6-3f345f5de00d",
   "metadata": {},
   "outputs": [
    {
     "data": {
      "text/plain": [
       "(224764, 43)"
      ]
     },
     "execution_count": 67,
     "metadata": {},
     "output_type": "execute_result"
    }
   ],
   "source": [
    "tab_vectorized.shape"
   ]
  },
  {
   "cell_type": "code",
   "execution_count": 68,
   "id": "7067bc7f-4da8-4d6e-bf1f-afa41c1590da",
   "metadata": {},
   "outputs": [
    {
     "data": {
      "text/plain": [
       "['encounter_id', 'features']"
      ]
     },
     "execution_count": 68,
     "metadata": {},
     "output_type": "execute_result"
    }
   ],
   "source": [
    "tab_vectorized.axis_names"
   ]
  },
  {
   "cell_type": "code",
   "execution_count": 69,
   "id": "fc3c5b93-4c7c-4f78-8194-43e7db08e8f6",
   "metadata": {},
   "outputs": [
    {
     "data": {
      "text/plain": [
       "array(['age', 'sex', 'discharge_location_ACUTE HOSPITAL',\n",
       "       'discharge_location_AGAINST ADVICE',\n",
       "       'discharge_location_ASSISTED LIVING',\n",
       "       'discharge_location_CHRONIC/LONG TERM ACUTE CARE',\n",
       "       'discharge_location_DIED',\n",
       "       'discharge_location_HEALTHCARE FACILITY',\n",
       "       'discharge_location_HOME', 'discharge_location_HOME HEALTH CARE',\n",
       "       'discharge_location_HOSPICE', 'discharge_location_OTHER FACILITY',\n",
       "       'discharge_location_PSYCH FACILITY', 'discharge_location_REHAB',\n",
       "       'discharge_location_SKILLED NURSING FACILITY',\n",
       "       'ethnicity_AMERICAN INDIAN/ALASKA NATIVE', 'ethnicity_ASIAN',\n",
       "       'ethnicity_BLACK/AFRICAN AMERICAN', 'ethnicity_HISPANIC/LATINO',\n",
       "       'ethnicity_OTHER', 'ethnicity_UNABLE TO OBTAIN',\n",
       "       'ethnicity_UNKNOWN', 'ethnicity_WHITE',\n",
       "       'admission_location_AMBULATORY SURGERY TRANSFER',\n",
       "       'admission_location_CLINIC REFERRAL',\n",
       "       'admission_location_EMERGENCY ROOM',\n",
       "       'admission_location_INFORMATION NOT AVAILABLE',\n",
       "       'admission_location_INTERNAL TRANSFER TO OR FROM PSYCH',\n",
       "       'admission_location_PACU', 'admission_location_PHYSICIAN REFERRAL',\n",
       "       'admission_location_PROCEDURE SITE',\n",
       "       'admission_location_TRANSFER FROM HOSPITAL',\n",
       "       'admission_location_TRANSFER FROM SKILLED NURSING FACILITY',\n",
       "       'admission_location_WALK-IN/SELF REFERRAL',\n",
       "       'admission_type_AMBULATORY OBSERVATION',\n",
       "       'admission_type_DIRECT EMER.', 'admission_type_DIRECT OBSERVATION',\n",
       "       'admission_type_ELECTIVE', 'admission_type_EU OBSERVATION',\n",
       "       'admission_type_EW EMER.', 'admission_type_OBSERVATION ADMIT',\n",
       "       'admission_type_SURGICAL SAME DAY ADMISSION',\n",
       "       'admission_type_URGENT'], dtype='<U57')"
      ]
     },
     "execution_count": 69,
     "metadata": {},
     "output_type": "execute_result"
    }
   ],
   "source": [
    "tab_vectorized.get_index(FEATURES)"
   ]
  },
  {
   "cell_type": "code",
   "execution_count": 70,
   "id": "3b976232-b3ff-4c82-bf41-67e7d8dcc7a1",
   "metadata": {},
   "outputs": [
    {
     "data": {
      "text/plain": [
       "['age']"
      ]
     },
     "execution_count": 70,
     "metadata": {},
     "output_type": "execute_result"
    }
   ],
   "source": [
    "numeric_features = tab_features.features_by_type(NUMERIC)\n",
    "numeric_features"
   ]
  },
  {
   "cell_type": "markdown",
   "id": "2187007a-7fc8-4c33-b60a-44cb05562c16",
   "metadata": {},
   "source": [
    "## Temporal"
   ]
  },
  {
   "cell_type": "code",
   "execution_count": 71,
   "id": "68644d5a-164a-41f4-8518-a8311afc348c",
   "metadata": {},
   "outputs": [
    {
     "name": "stderr",
     "output_type": "stream",
     "text": [
      "2022-07-15 11:47:04,026 \u001b[1;37mINFO\u001b[0m cyclops.utils.file - Loading dataframe from events.parquet\n"
     ]
    },
    {
     "data": {
      "text/html": [
       "<div>\n",
       "<style scoped>\n",
       "    .dataframe tbody tr th:only-of-type {\n",
       "        vertical-align: middle;\n",
       "    }\n",
       "\n",
       "    .dataframe tbody tr th {\n",
       "        vertical-align: top;\n",
       "    }\n",
       "\n",
       "    .dataframe thead th {\n",
       "        text-align: right;\n",
       "    }\n",
       "</style>\n",
       "<table border=\"1\" class=\"dataframe\">\n",
       "  <thead>\n",
       "    <tr style=\"text-align: right;\">\n",
       "      <th></th>\n",
       "      <th>encounter_id</th>\n",
       "      <th>subject_id</th>\n",
       "      <th>stay_id</th>\n",
       "      <th>event_timestamp</th>\n",
       "      <th>value</th>\n",
       "      <th>event_value</th>\n",
       "      <th>event_value_unit</th>\n",
       "      <th>event_category</th>\n",
       "      <th>event_name</th>\n",
       "    </tr>\n",
       "  </thead>\n",
       "  <tbody>\n",
       "    <tr>\n",
       "      <th>225351</th>\n",
       "      <td>23960370</td>\n",
       "      <td>15803381.0</td>\n",
       "      <td>31334098.0</td>\n",
       "      <td>2018-01-21 05:00:00</td>\n",
       "      <td>None</td>\n",
       "      <td>0.0</td>\n",
       "      <td>None</td>\n",
       "      <td>pain/sedation</td>\n",
       "      <td>pain/sedation - pain level response</td>\n",
       "    </tr>\n",
       "    <tr>\n",
       "      <th>412784</th>\n",
       "      <td>25600206</td>\n",
       "      <td>15874174.0</td>\n",
       "      <td>34675677.0</td>\n",
       "      <td>2018-03-25 16:00:00</td>\n",
       "      <td>Small</td>\n",
       "      <td>NaN</td>\n",
       "      <td>None</td>\n",
       "      <td>respiratory</td>\n",
       "      <td>respiratory - sputum amount</td>\n",
       "    </tr>\n",
       "    <tr>\n",
       "      <th>226155</th>\n",
       "      <td>23960370</td>\n",
       "      <td>15803381.0</td>\n",
       "      <td>31334098.0</td>\n",
       "      <td>2018-01-22 15:00:00</td>\n",
       "      <td>None</td>\n",
       "      <td>NaN</td>\n",
       "      <td>None</td>\n",
       "      <td>routine vital signs</td>\n",
       "      <td>routine vital signs - ectopy type 1</td>\n",
       "    </tr>\n",
       "    <tr>\n",
       "      <th>247185</th>\n",
       "      <td>26736249</td>\n",
       "      <td>15790886.0</td>\n",
       "      <td>33411044.0</td>\n",
       "      <td>2015-06-12 20:30:00</td>\n",
       "      <td>Present</td>\n",
       "      <td>NaN</td>\n",
       "      <td>None</td>\n",
       "      <td>gi/gu</td>\n",
       "      <td>gi/gu - bowel sounds</td>\n",
       "    </tr>\n",
       "    <tr>\n",
       "      <th>135995</th>\n",
       "      <td>25124601</td>\n",
       "      <td>15861146.0</td>\n",
       "      <td>33546403.0</td>\n",
       "      <td>2018-06-30 20:00:00</td>\n",
       "      <td>-1 Awakens to voice (eye opening/contact) &gt; 10...</td>\n",
       "      <td>-1.0</td>\n",
       "      <td>None</td>\n",
       "      <td>pain/sedation</td>\n",
       "      <td>pain/sedation - richmond-ras scale</td>\n",
       "    </tr>\n",
       "  </tbody>\n",
       "</table>\n",
       "</div>"
      ],
      "text/plain": [
       "        encounter_id  subject_id     stay_id     event_timestamp  \\\n",
       "225351      23960370  15803381.0  31334098.0 2018-01-21 05:00:00   \n",
       "412784      25600206  15874174.0  34675677.0 2018-03-25 16:00:00   \n",
       "226155      23960370  15803381.0  31334098.0 2018-01-22 15:00:00   \n",
       "247185      26736249  15790886.0  33411044.0 2015-06-12 20:30:00   \n",
       "135995      25124601  15861146.0  33546403.0 2018-06-30 20:00:00   \n",
       "\n",
       "                                                    value  event_value  \\\n",
       "225351                                               None          0.0   \n",
       "412784                                              Small          NaN   \n",
       "226155                                               None          NaN   \n",
       "247185                                            Present          NaN   \n",
       "135995  -1 Awakens to voice (eye opening/contact) > 10...         -1.0   \n",
       "\n",
       "       event_value_unit       event_category  \\\n",
       "225351             None        pain/sedation   \n",
       "412784             None          respiratory   \n",
       "226155             None  routine vital signs   \n",
       "247185             None                gi/gu   \n",
       "135995             None        pain/sedation   \n",
       "\n",
       "                                 event_name  \n",
       "225351  pain/sedation - pain level response  \n",
       "412784          respiratory - sputum amount  \n",
       "226155  routine vital signs - ectopy type 1  \n",
       "247185                 gi/gu - bowel sounds  \n",
       "135995   pain/sedation - richmond-ras scale  "
      ]
     },
     "execution_count": 71,
     "metadata": {},
     "output_type": "execute_result"
    }
   ],
   "source": [
    "events = load_dataframe(\"events.parquet\")\n",
    "\n",
    "events = events.sample(n=int(len(events) / 20))\n",
    "\n",
    "events.head(5)"
   ]
  },
  {
   "cell_type": "code",
   "execution_count": 72,
   "id": "25abf281-268e-4a0e-812e-e7279e65a720",
   "metadata": {},
   "outputs": [
    {
     "data": {
      "text/html": [
       "<div>\n",
       "<style scoped>\n",
       "    .dataframe tbody tr th:only-of-type {\n",
       "        vertical-align: middle;\n",
       "    }\n",
       "\n",
       "    .dataframe tbody tr th {\n",
       "        vertical-align: top;\n",
       "    }\n",
       "\n",
       "    .dataframe thead th {\n",
       "        text-align: right;\n",
       "    }\n",
       "</style>\n",
       "<table border=\"1\" class=\"dataframe\">\n",
       "  <thead>\n",
       "    <tr style=\"text-align: right;\">\n",
       "      <th></th>\n",
       "      <th>encounter_id</th>\n",
       "      <th>subject_id</th>\n",
       "      <th>stay_id</th>\n",
       "      <th>event_timestamp</th>\n",
       "      <th>value</th>\n",
       "      <th>event_value</th>\n",
       "      <th>event_value_unit</th>\n",
       "      <th>event_category</th>\n",
       "      <th>event_name</th>\n",
       "    </tr>\n",
       "  </thead>\n",
       "  <tbody>\n",
       "    <tr>\n",
       "      <th>226155</th>\n",
       "      <td>23960370</td>\n",
       "      <td>15803381.0</td>\n",
       "      <td>31334098.0</td>\n",
       "      <td>2018-01-22 15:00:00</td>\n",
       "      <td>None</td>\n",
       "      <td>NaN</td>\n",
       "      <td>None</td>\n",
       "      <td>routine vital signs</td>\n",
       "      <td>routine vital signs - ectopy type 1</td>\n",
       "    </tr>\n",
       "    <tr>\n",
       "      <th>247185</th>\n",
       "      <td>26736249</td>\n",
       "      <td>15790886.0</td>\n",
       "      <td>33411044.0</td>\n",
       "      <td>2015-06-12 20:30:00</td>\n",
       "      <td>Present</td>\n",
       "      <td>NaN</td>\n",
       "      <td>None</td>\n",
       "      <td>gi/gu</td>\n",
       "      <td>gi/gu - bowel sounds</td>\n",
       "    </tr>\n",
       "    <tr>\n",
       "      <th>135995</th>\n",
       "      <td>25124601</td>\n",
       "      <td>15861146.0</td>\n",
       "      <td>33546403.0</td>\n",
       "      <td>2018-06-30 20:00:00</td>\n",
       "      <td>-1 Awakens to voice (eye opening/contact) &gt; 10...</td>\n",
       "      <td>-1.0</td>\n",
       "      <td>None</td>\n",
       "      <td>pain/sedation</td>\n",
       "      <td>pain/sedation - richmond-ras scale</td>\n",
       "    </tr>\n",
       "    <tr>\n",
       "      <th>343697</th>\n",
       "      <td>28975630</td>\n",
       "      <td>15838849.0</td>\n",
       "      <td>30123607.0</td>\n",
       "      <td>2018-11-19 12:00:00</td>\n",
       "      <td>City</td>\n",
       "      <td>1.0</td>\n",
       "      <td>None</td>\n",
       "      <td>neurological</td>\n",
       "      <td>neurological - orientation</td>\n",
       "    </tr>\n",
       "    <tr>\n",
       "      <th>147801</th>\n",
       "      <td>28808173</td>\n",
       "      <td>15964158.0</td>\n",
       "      <td>39695400.0</td>\n",
       "      <td>2019-07-16 08:00:00</td>\n",
       "      <td>Weak Palpable</td>\n",
       "      <td>NaN</td>\n",
       "      <td>None</td>\n",
       "      <td>cardiovascular (pulses)</td>\n",
       "      <td>cardiovascular (pulses) - posttib. pulses r</td>\n",
       "    </tr>\n",
       "  </tbody>\n",
       "</table>\n",
       "</div>"
      ],
      "text/plain": [
       "        encounter_id  subject_id     stay_id     event_timestamp  \\\n",
       "226155      23960370  15803381.0  31334098.0 2018-01-22 15:00:00   \n",
       "247185      26736249  15790886.0  33411044.0 2015-06-12 20:30:00   \n",
       "135995      25124601  15861146.0  33546403.0 2018-06-30 20:00:00   \n",
       "343697      28975630  15838849.0  30123607.0 2018-11-19 12:00:00   \n",
       "147801      28808173  15964158.0  39695400.0 2019-07-16 08:00:00   \n",
       "\n",
       "                                                    value  event_value  \\\n",
       "226155                                               None          NaN   \n",
       "247185                                            Present          NaN   \n",
       "135995  -1 Awakens to voice (eye opening/contact) > 10...         -1.0   \n",
       "343697                                               City          1.0   \n",
       "147801                                      Weak Palpable          NaN   \n",
       "\n",
       "       event_value_unit           event_category  \\\n",
       "226155             None      routine vital signs   \n",
       "247185             None                    gi/gu   \n",
       "135995             None            pain/sedation   \n",
       "343697             None             neurological   \n",
       "147801             None  cardiovascular (pulses)   \n",
       "\n",
       "                                         event_name  \n",
       "226155          routine vital signs - ectopy type 1  \n",
       "247185                         gi/gu - bowel sounds  \n",
       "135995           pain/sedation - richmond-ras scale  \n",
       "343697                   neurological - orientation  \n",
       "147801  cardiovascular (pulses) - posttib. pulses r  "
      ]
     },
     "execution_count": 72,
     "metadata": {},
     "output_type": "execute_result"
    }
   ],
   "source": [
    "# Keep only the most popular events\n",
    "top_events = events[EVENT_NAME].value_counts()[:100].index\n",
    "\n",
    "# Force include the target\n",
    "top_events = np.unique(np.append(top_events, TARGET_NAME))\n",
    "\n",
    "events = events[events[EVENT_NAME].isin(top_events)]\n",
    "events.head(5)"
   ]
  },
  {
   "cell_type": "code",
   "execution_count": 73,
   "id": "119a48d5-8891-4026-bd74-25a8037f8cf5",
   "metadata": {},
   "outputs": [
    {
     "data": {
      "text/html": [
       "<div>\n",
       "<style scoped>\n",
       "    .dataframe tbody tr th:only-of-type {\n",
       "        vertical-align: middle;\n",
       "    }\n",
       "\n",
       "    .dataframe tbody tr th {\n",
       "        vertical-align: top;\n",
       "    }\n",
       "\n",
       "    .dataframe thead th {\n",
       "        text-align: right;\n",
       "    }\n",
       "</style>\n",
       "<table border=\"1\" class=\"dataframe\">\n",
       "  <thead>\n",
       "    <tr style=\"text-align: right;\">\n",
       "      <th></th>\n",
       "      <th>encounter_id</th>\n",
       "      <th>subject_id</th>\n",
       "      <th>stay_id</th>\n",
       "      <th>event_timestamp</th>\n",
       "      <th>value</th>\n",
       "      <th>event_value</th>\n",
       "      <th>event_value_unit</th>\n",
       "      <th>event_category</th>\n",
       "      <th>event_name</th>\n",
       "    </tr>\n",
       "  </thead>\n",
       "  <tbody>\n",
       "    <tr>\n",
       "      <th>147735</th>\n",
       "      <td>25452841</td>\n",
       "      <td>NaN</td>\n",
       "      <td>NaN</td>\n",
       "      <td>2015-07-21 11:50:00</td>\n",
       "      <td>None</td>\n",
       "      <td>1.0</td>\n",
       "      <td>None</td>\n",
       "      <td>targets</td>\n",
       "      <td>targets - death</td>\n",
       "    </tr>\n",
       "    <tr>\n",
       "      <th>128559</th>\n",
       "      <td>29787714</td>\n",
       "      <td>NaN</td>\n",
       "      <td>NaN</td>\n",
       "      <td>2018-09-09 05:48:00</td>\n",
       "      <td>None</td>\n",
       "      <td>1.0</td>\n",
       "      <td>None</td>\n",
       "      <td>targets</td>\n",
       "      <td>targets - death</td>\n",
       "    </tr>\n",
       "    <tr>\n",
       "      <th>19769</th>\n",
       "      <td>27733975</td>\n",
       "      <td>NaN</td>\n",
       "      <td>NaN</td>\n",
       "      <td>2018-07-22 21:56:00</td>\n",
       "      <td>None</td>\n",
       "      <td>1.0</td>\n",
       "      <td>None</td>\n",
       "      <td>targets</td>\n",
       "      <td>targets - death</td>\n",
       "    </tr>\n",
       "    <tr>\n",
       "      <th>40257</th>\n",
       "      <td>26184834</td>\n",
       "      <td>NaN</td>\n",
       "      <td>NaN</td>\n",
       "      <td>2018-01-20 05:15:00</td>\n",
       "      <td>None</td>\n",
       "      <td>1.0</td>\n",
       "      <td>None</td>\n",
       "      <td>targets</td>\n",
       "      <td>targets - death</td>\n",
       "    </tr>\n",
       "    <tr>\n",
       "      <th>220825</th>\n",
       "      <td>27349721</td>\n",
       "      <td>NaN</td>\n",
       "      <td>NaN</td>\n",
       "      <td>2015-09-15 09:40:00</td>\n",
       "      <td>None</td>\n",
       "      <td>1.0</td>\n",
       "      <td>None</td>\n",
       "      <td>targets</td>\n",
       "      <td>targets - death</td>\n",
       "    </tr>\n",
       "  </tbody>\n",
       "</table>\n",
       "</div>"
      ],
      "text/plain": [
       "        encounter_id  subject_id  stay_id     event_timestamp value  \\\n",
       "147735      25452841         NaN      NaN 2015-07-21 11:50:00  None   \n",
       "128559      29787714         NaN      NaN 2018-09-09 05:48:00  None   \n",
       "19769       27733975         NaN      NaN 2018-07-22 21:56:00  None   \n",
       "40257       26184834         NaN      NaN 2018-01-20 05:15:00  None   \n",
       "220825      27349721         NaN      NaN 2015-09-15 09:40:00  None   \n",
       "\n",
       "        event_value event_value_unit event_category       event_name  \n",
       "147735          1.0             None        targets  targets - death  \n",
       "128559          1.0             None        targets  targets - death  \n",
       "19769           1.0             None        targets  targets - death  \n",
       "40257           1.0             None        targets  targets - death  \n",
       "220825          1.0             None        targets  targets - death  "
      ]
     },
     "execution_count": 73,
     "metadata": {},
     "output_type": "execute_result"
    }
   ],
   "source": [
    "events[events[EVENT_NAME] == TARGET_NAME].head(5)"
   ]
  },
  {
   "cell_type": "code",
   "execution_count": 74,
   "id": "06cc13d7-dd6c-44d9-93c6-0b903b84743a",
   "metadata": {},
   "outputs": [],
   "source": [
    "aggregator = Aggregator(\n",
    "    aggfuncs={EVENT_VALUE: MEAN},\n",
    "    timestamp_col=EVENT_TIMESTAMP,\n",
    "    time_by=ENCOUNTER_ID,\n",
    "    agg_by=[ENCOUNTER_ID, EVENT_NAME],\n",
    "    timestep_size=8,\n",
    "    window_duration=24,  # Optional\n",
    "    # agg_meta_for=EVENT_VALUE,  # Optional\n",
    ")"
   ]
  },
  {
   "cell_type": "code",
   "execution_count": 75,
   "id": "693f41c4-aa52-4770-a39c-1c77a9b0c03b",
   "metadata": {},
   "outputs": [],
   "source": [
    "events = events.reset_index(drop=True)\n",
    "\n",
    "tmp_features = TemporalFeatures(\n",
    "    events,\n",
    "    features=EVENT_VALUE,\n",
    "    by=[ENCOUNTER_ID, EVENT_NAME],\n",
    "    timestamp_col=EVENT_TIMESTAMP,\n",
    "    aggregator=aggregator,\n",
    ")"
   ]
  },
  {
   "cell_type": "code",
   "execution_count": 76,
   "id": "afa902f2-6213-4e7d-8ae6-b9c926aa232a",
   "metadata": {},
   "outputs": [
    {
     "name": "stderr",
     "output_type": "stream",
     "text": [
      "2022-07-15 11:47:04,333 \u001b[1;37mINFO\u001b[0m cyclops.processors.cleaning - Dropped nulls over columns: event_timestamp. Removed 6 rows.\n",
      "2022-07-15 11:47:07,832 \u001b[1;37mINFO\u001b[0m cyclops.utils.profile - Finished executing function __call__ in 3.502922 s\n"
     ]
    },
    {
     "data": {
      "text/html": [
       "<div>\n",
       "<style scoped>\n",
       "    .dataframe tbody tr th:only-of-type {\n",
       "        vertical-align: middle;\n",
       "    }\n",
       "\n",
       "    .dataframe tbody tr th {\n",
       "        vertical-align: top;\n",
       "    }\n",
       "\n",
       "    .dataframe thead th {\n",
       "        text-align: right;\n",
       "    }\n",
       "</style>\n",
       "<table border=\"1\" class=\"dataframe\">\n",
       "  <thead>\n",
       "    <tr style=\"text-align: right;\">\n",
       "      <th></th>\n",
       "      <th></th>\n",
       "      <th></th>\n",
       "      <th>event_value</th>\n",
       "      <th>timestep_start</th>\n",
       "    </tr>\n",
       "    <tr>\n",
       "      <th>encounter_id</th>\n",
       "      <th>event_name</th>\n",
       "      <th>timestep</th>\n",
       "      <th></th>\n",
       "      <th></th>\n",
       "    </tr>\n",
       "  </thead>\n",
       "  <tbody>\n",
       "    <tr>\n",
       "      <th>20118636</th>\n",
       "      <th>targets - death</th>\n",
       "      <th>0</th>\n",
       "      <td>1.0</td>\n",
       "      <td>2019-07-20 01:50:00</td>\n",
       "    </tr>\n",
       "    <tr>\n",
       "      <th>20127587</th>\n",
       "      <th>targets - death</th>\n",
       "      <th>0</th>\n",
       "      <td>1.0</td>\n",
       "      <td>2015-02-02 00:00:00</td>\n",
       "    </tr>\n",
       "    <tr>\n",
       "      <th>20170028</th>\n",
       "      <th>targets - death</th>\n",
       "      <th>0</th>\n",
       "      <td>1.0</td>\n",
       "      <td>2018-08-18 19:00:00</td>\n",
       "    </tr>\n",
       "    <tr>\n",
       "      <th rowspan=\"2\" valign=\"top\">20187583</th>\n",
       "      <th>treatments - turn</th>\n",
       "      <th>1</th>\n",
       "      <td>NaN</td>\n",
       "      <td>2018-09-22 23:00:00</td>\n",
       "    </tr>\n",
       "    <tr>\n",
       "      <th>cardiovascular - lle temp</th>\n",
       "      <th>2</th>\n",
       "      <td>NaN</td>\n",
       "      <td>2018-09-23 07:00:00</td>\n",
       "    </tr>\n",
       "  </tbody>\n",
       "</table>\n",
       "</div>"
      ],
      "text/plain": [
       "                                                 event_value  \\\n",
       "encounter_id event_name                timestep                \n",
       "20118636     targets - death           0                 1.0   \n",
       "20127587     targets - death           0                 1.0   \n",
       "20170028     targets - death           0                 1.0   \n",
       "20187583     treatments - turn         1                 NaN   \n",
       "             cardiovascular - lle temp 2                 NaN   \n",
       "\n",
       "                                                     timestep_start  \n",
       "encounter_id event_name                timestep                      \n",
       "20118636     targets - death           0        2019-07-20 01:50:00  \n",
       "20127587     targets - death           0        2015-02-02 00:00:00  \n",
       "20170028     targets - death           0        2018-08-18 19:00:00  \n",
       "20187583     treatments - turn         1        2018-09-22 23:00:00  \n",
       "             cardiovascular - lle temp 2        2018-09-23 07:00:00  "
      ]
     },
     "execution_count": 76,
     "metadata": {},
     "output_type": "execute_result"
    }
   ],
   "source": [
    "aggregated = tmp_features.aggregate()\n",
    "aggregated.head(5)"
   ]
  },
  {
   "cell_type": "code",
   "execution_count": 77,
   "id": "354403e4-a1cc-4d1f-be4c-e96db62802cf",
   "metadata": {},
   "outputs": [
    {
     "name": "stderr",
     "output_type": "stream",
     "text": [
      "2022-07-15 11:47:07,843 \u001b[1;37mINFO\u001b[0m cyclops.utils.file - Saving dataframe to aggregated.parquet\n"
     ]
    },
    {
     "data": {
      "text/plain": [
       "'aggregated.parquet'"
      ]
     },
     "execution_count": 77,
     "metadata": {},
     "output_type": "execute_result"
    }
   ],
   "source": [
    "save_dataframe(aggregated, \"aggregated.parquet\")"
   ]
  },
  {
   "cell_type": "code",
   "execution_count": 78,
   "id": "4a9587b3-b4a1-42a1-ab75-3b248227dcb7",
   "metadata": {},
   "outputs": [
    {
     "name": "stderr",
     "output_type": "stream",
     "text": [
      "2022-07-15 11:47:08,510 \u001b[1;37mINFO\u001b[0m cyclops.utils.profile - Finished executing function vectorize in 0.650070 s\n"
     ]
    },
    {
     "data": {
      "text/plain": [
       "(1, 337, 100, 3)"
      ]
     },
     "execution_count": 78,
     "metadata": {},
     "output_type": "execute_result"
    }
   ],
   "source": [
    "temp_vectorized = aggregator.vectorize(aggregated)\n",
    "temp_vectorized.shape"
   ]
  },
  {
   "cell_type": "code",
   "execution_count": 79,
   "id": "aa840bb6-043c-466d-8ff1-0418a3ccd394",
   "metadata": {},
   "outputs": [
    {
     "data": {
      "text/plain": [
       "['aggfuncs', 'encounter_id', 'event_name', 'timesteps']"
      ]
     },
     "execution_count": 79,
     "metadata": {},
     "output_type": "execute_result"
    }
   ],
   "source": [
    "temp_vectorized.axis_names"
   ]
  },
  {
   "cell_type": "markdown",
   "id": "53cbd66e-a84b-49e3-b8fa-50f31ca082b9",
   "metadata": {},
   "source": [
    "## Dataset splits"
   ]
  },
  {
   "cell_type": "markdown",
   "id": "5d0eaa25-0014-4212-b2ae-794cd70e915d",
   "metadata": {},
   "source": [
    "Take only the encounters available in all of the datasets and align the datasets over encounters."
   ]
  },
  {
   "cell_type": "code",
   "execution_count": 80,
   "id": "e3cbaaec-e7fc-4fcd-a9cb-135c88c2df82",
   "metadata": {},
   "outputs": [],
   "source": [
    "tab_encounters = set(tab_vectorized.get_index(ENCOUNTER_ID))\n",
    "temp_encounters = set(temp_vectorized.get_index(ENCOUNTER_ID))\n",
    "encounters_intersection = np.array(list(tab_encounters.intersection(temp_encounters)))"
   ]
  },
  {
   "cell_type": "code",
   "execution_count": 81,
   "id": "d84b8bc5-70da-4605-9bf8-6ce3966553e1",
   "metadata": {},
   "outputs": [],
   "source": [
    "tab_vectorized = tab_vectorized.take_with_index(ENCOUNTER_ID, encounters_intersection)\n",
    "temp_vectorized = temp_vectorized.take_with_index(ENCOUNTER_ID, encounters_intersection)"
   ]
  },
  {
   "cell_type": "code",
   "execution_count": 82,
   "id": "b908070c-83cc-4e90-88ca-52a091e0b318",
   "metadata": {},
   "outputs": [
    {
     "data": {
      "text/plain": [
       "(337, 43)"
      ]
     },
     "execution_count": 82,
     "metadata": {},
     "output_type": "execute_result"
    }
   ],
   "source": [
    "tab_vectorized.shape"
   ]
  },
  {
   "cell_type": "code",
   "execution_count": 83,
   "id": "16026f4f-0618-438a-9146-af446c71c788",
   "metadata": {},
   "outputs": [
    {
     "data": {
      "text/plain": [
       "(1, 337, 100, 3)"
      ]
     },
     "execution_count": 83,
     "metadata": {},
     "output_type": "execute_result"
    }
   ],
   "source": [
    "temp_vectorized.shape"
   ]
  },
  {
   "cell_type": "markdown",
   "id": "839995aa-40cb-449c-a057-ad7719998ecf",
   "metadata": {},
   "source": [
    "Split into training, validation, and testing datasets.\n",
    "\n",
    "Split using the same indices such that the tabular and temporal datasets remain aligned."
   ]
  },
  {
   "cell_type": "code",
   "execution_count": 84,
   "id": "876152f9-555f-4f4a-8f06-d6169d9eff34",
   "metadata": {},
   "outputs": [],
   "source": [
    "splits = split_idx(\n",
    "    fractions=[0.8, 0.1, 0.1],\n",
    "    data_len=len(encounters_intersection),\n",
    ")"
   ]
  },
  {
   "cell_type": "code",
   "execution_count": 85,
   "id": "a59e67bb-0f33-4b00-9355-bba443751958",
   "metadata": {},
   "outputs": [],
   "source": [
    "tab_train_X, tab_val_X, tab_test_X = tab_vectorized.split_by_indices(\n",
    "    ENCOUNTER_ID, splits\n",
    ")\n",
    "\n",
    "temp_train, temp_val, temp_test = temp_vectorized.split_by_indices(ENCOUNTER_ID, splits)"
   ]
  },
  {
   "cell_type": "code",
   "execution_count": 86,
   "id": "37a6a36d-499d-447e-93eb-3ac002c986c6",
   "metadata": {},
   "outputs": [
    {
     "data": {
      "text/plain": [
       "((270, 43), (33, 43), (34, 43))"
      ]
     },
     "execution_count": 86,
     "metadata": {},
     "output_type": "execute_result"
    }
   ],
   "source": [
    "tab_train_X.shape, tab_val_X.shape, tab_test_X.shape"
   ]
  },
  {
   "cell_type": "code",
   "execution_count": 87,
   "id": "edfd710c-b21d-4dc4-b8e4-550235570768",
   "metadata": {},
   "outputs": [
    {
     "data": {
      "text/plain": [
       "((1, 270, 100, 3), (1, 33, 100, 3), (1, 34, 100, 3))"
      ]
     },
     "execution_count": 87,
     "metadata": {},
     "output_type": "execute_result"
    }
   ],
   "source": [
    "temp_train.shape, temp_val.shape, temp_test.shape"
   ]
  },
  {
   "cell_type": "markdown",
   "id": "203ec0ad-a35a-49df-8979-a32779c3ac13",
   "metadata": {},
   "source": [
    "### Split features/targets"
   ]
  },
  {
   "cell_type": "markdown",
   "id": "9e2f20f3-fe51-41f5-be9f-c74d32519787",
   "metadata": {},
   "source": [
    "Split out the targets in the temporal data."
   ]
  },
  {
   "cell_type": "code",
   "execution_count": 88,
   "id": "7a251574-2635-42db-b42e-3d8b77143b64",
   "metadata": {},
   "outputs": [
    {
     "data": {
      "text/plain": [
       "((1, 270, 99, 3), (1, 270, 1, 3))"
      ]
     },
     "execution_count": 88,
     "metadata": {},
     "output_type": "execute_result"
    }
   ],
   "source": [
    "temp_train_X, temp_train_y = temp_train.split_out(EVENT_NAME, [TARGET_NAME])\n",
    "temp_train_X.shape, temp_train_y.shape"
   ]
  },
  {
   "cell_type": "code",
   "execution_count": 89,
   "id": "54795d9d-c2a4-4dd4-9ff9-d3927a0339a3",
   "metadata": {},
   "outputs": [
    {
     "data": {
      "text/plain": [
       "((1, 33, 99, 3), (1, 33, 1, 3))"
      ]
     },
     "execution_count": 89,
     "metadata": {},
     "output_type": "execute_result"
    }
   ],
   "source": [
    "temp_val_X, temp_val_y = temp_val.split_out(EVENT_NAME, [TARGET_NAME])\n",
    "temp_val_X.shape, temp_val_y.shape"
   ]
  },
  {
   "cell_type": "code",
   "execution_count": 90,
   "id": "7857300c-e98e-4af3-89eb-4665e887c60c",
   "metadata": {},
   "outputs": [
    {
     "data": {
      "text/plain": [
       "((1, 34, 99, 3), (1, 34, 1, 3))"
      ]
     },
     "execution_count": 90,
     "metadata": {},
     "output_type": "execute_result"
    }
   ],
   "source": [
    "temp_test_X, temp_test_y = temp_test.split_out(EVENT_NAME, [TARGET_NAME])\n",
    "temp_test_X.shape, temp_test_y.shape"
   ]
  },
  {
   "cell_type": "markdown",
   "id": "b45650c0-847e-4b13-974f-49f9b89cc5f3",
   "metadata": {},
   "source": [
    "### Normalization"
   ]
  },
  {
   "cell_type": "code",
   "execution_count": 91,
   "id": "47896217-2e2c-449b-9ac9-b3ce08028f91",
   "metadata": {},
   "outputs": [],
   "source": [
    "splits = tab_train_X, tab_val_X, tab_test_X\n",
    "\n",
    "for split in splits:\n",
    "    normalizer = VectorizedNormalizer(\n",
    "        split.get_axis(FEATURES),\n",
    "        normalizer_map={feat: STANDARD for feat in numeric_features},\n",
    "    )\n",
    "    split.add_normalizer(normalizer)\n",
    "    split.normalize()\n",
    "\n",
    "tab_train_X, tab_val_X, tab_test_X = splits"
   ]
  },
  {
   "cell_type": "code",
   "execution_count": 92,
   "id": "4fb15e16-71a4-46e5-b65b-6cf0d8258734",
   "metadata": {},
   "outputs": [],
   "source": [
    "# Only normalizing the inputs since the outputs are binary\n",
    "splits = temp_train_X, temp_val_X, temp_test_X\n",
    "\n",
    "for split in splits:\n",
    "    normalizer = VectorizedNormalizer(\n",
    "        split.get_axis(EVENT_NAME),\n",
    "        normalization_method=STANDARD,\n",
    "    )\n",
    "    split.add_normalizer(normalizer)\n",
    "    split.normalize()\n",
    "\n",
    "temp_train_X, temp_val_X, temp_test_X = splits"
   ]
  },
  {
   "cell_type": "code",
   "execution_count": 93,
   "id": "92bfc469-fd00-47df-b1cc-cb292d5b7239",
   "metadata": {},
   "outputs": [
    {
     "data": {
      "text/plain": [
       "('Percentage null:', 0.9930914079062227)"
      ]
     },
     "execution_count": 93,
     "metadata": {},
     "output_type": "execute_result"
    }
   ],
   "source": [
    "\"Percentage null:\", np.isnan(temp_train_X.data).sum() / temp_train_X.data.size"
   ]
  },
  {
   "cell_type": "markdown",
   "id": "e1c2c5b5-9979-4678-bead-ad42b547abfb",
   "metadata": {},
   "source": [
    "## Save"
   ]
  },
  {
   "cell_type": "code",
   "execution_count": null,
   "id": "9f88e2b1-373e-46c6-97ca-aabd2873fe9a",
   "metadata": {},
   "outputs": [],
   "source": []
  }
 ],
 "metadata": {
  "kernelspec": {
   "display_name": "cyclops-env",
   "language": "python",
   "name": "cyclops-env"
  },
  "language_info": {
   "codemirror_mode": {
    "name": "ipython",
    "version": 3
   },
   "file_extension": ".py",
   "mimetype": "text/x-python",
   "name": "python",
   "nbconvert_exporter": "python",
   "pygments_lexer": "ipython3",
   "version": "3.8.5"
  }
 },
 "nbformat": 4,
 "nbformat_minor": 5
}
