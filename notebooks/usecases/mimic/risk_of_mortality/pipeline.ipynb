{
 "cells": [
  {
   "cell_type": "code",
   "execution_count": 1,
   "id": "c8187b80-aa12-4c9b-97b2-83f83691d84d",
   "metadata": {},
   "outputs": [
    {
     "name": "stderr",
     "output_type": "stream",
     "text": [
      "2022-07-18 15:27:59,421 \u001b[1;37mINFO\u001b[0m cyclops.orm     - Database setup, ready to run queries!\n"
     ]
    }
   ],
   "source": [
    "import pickle\n",
    "\n",
    "import numpy as np\n",
    "import pandas as pd\n",
    "\n",
    "from cyclops.processors.aggregate import Aggregator\n",
    "from cyclops.processors.cleaning import (\n",
    "    normalize_categories,\n",
    "    normalize_names,\n",
    "    normalize_values,\n",
    ")\n",
    "from cyclops.processors.column_names import (\n",
    "    ADMIT_TIMESTAMP,\n",
    "    AGE,\n",
    "    CARE_UNIT,\n",
    "    DIAGNOSIS_CODE,\n",
    "    DIAGNOSIS_TRAJECTORY,\n",
    "    ENCOUNTER_ID,\n",
    "    EVENT_CATEGORY,\n",
    "    EVENT_NAME,\n",
    "    EVENT_TIMESTAMP,\n",
    "    EVENT_VALUE,\n",
    "    EVENT_VALUE_UNIT,\n",
    "    HOSPITAL_ID,\n",
    "    SEX,\n",
    "    SUBJECT_ID,\n",
    "    TIMESTEP,\n",
    "    YEAR,\n",
    ")\n",
    "from cyclops.processors.constants import (\n",
    "    BINARY,\n",
    "    BY,\n",
    "    CATEGORICAL_INDICATOR,\n",
    "    FEATURE_INDICATOR_ATTR,\n",
    "    FEATURE_MAPPING_ATTR,\n",
    "    FEATURE_TYPE_ATTR,\n",
    "    FEATURE_TYPES,\n",
    "    FEATURES,\n",
    "    MEAN,\n",
    "    MIN_MAX,\n",
    "    MISSING_CATEGORY,\n",
    "    NUMERIC,\n",
    "    ORDINAL,\n",
    "    STANDARD,\n",
    "    STRING,\n",
    "    TARGETS,\n",
    ")\n",
    "from cyclops.processors.feature.feature import TabularFeatures, TemporalFeatures\n",
    "from cyclops.processors.feature.normalization import VectorizedNormalizer\n",
    "from cyclops.processors.feature.split import split_idx\n",
    "from cyclops.processors.feature.vectorize import intersect_vectorized, split_vectorized\n",
    "from cyclops.query import mimic\n",
    "from cyclops.query import process as qp\n",
    "from cyclops.utils.common import print_dict\n",
    "from cyclops.utils.file import load_array, load_dataframe, save_dataframe"
   ]
  },
  {
   "cell_type": "code",
   "execution_count": 2,
   "id": "6e81b3cd-e787-4569-96a2-546ed9bc64ae",
   "metadata": {},
   "outputs": [],
   "source": [
    "YEARS = [2015, 2016, 2018, 2019, 2020]\n",
    "MIN_YEAR = min(YEARS)\n",
    "TARGET_NAME = \"death\"\n",
    "TARGET_NAME_PROCESSED = \"targets - death\""
   ]
  },
  {
   "cell_type": "markdown",
   "id": "ae51ff77-f449-470f-ad40-5cea2db2a3a8",
   "metadata": {
    "jp-MarkdownHeadingCollapsed": true,
    "tags": []
   },
   "source": [
    "# Querying"
   ]
  },
  {
   "cell_type": "markdown",
   "id": "0d3412ae-a3a2-49b1-99d7-f13014cb3d35",
   "metadata": {},
   "source": [
    "## Patient encounters"
   ]
  },
  {
   "cell_type": "code",
   "execution_count": null,
   "id": "fd7883ba-5319-4035-91fb-0128fb36821d",
   "metadata": {},
   "outputs": [],
   "source": [
    "encounters_interface = mimic.patient_encounters(\n",
    "    years=YEARS, died=True, died_binarize_col=\"died\"\n",
    ")\n",
    "encounters_query = encounters_interface.query\n",
    "encounters_query = qp.Drop(\n",
    "    [\"insurance\", \"language\", \"marital_status\", \"hospital_expire_flag\"]\n",
    ")(encounters_query)\n",
    "encounters_interface = mimic.get_interface(encounters_query)\n",
    "encounters = encounters_interface.run()\n",
    "encounters"
   ]
  },
  {
   "cell_type": "code",
   "execution_count": null,
   "id": "e97d4889-d8ac-4648-b60c-3cdd18854567",
   "metadata": {},
   "outputs": [],
   "source": [
    "save_dataframe(encounters, \"encounters.parquet\")"
   ]
  },
  {
   "cell_type": "markdown",
   "id": "a176f2de-f264-4253-ab11-da9017a4153c",
   "metadata": {},
   "source": [
    "## Events"
   ]
  },
  {
   "cell_type": "code",
   "execution_count": null,
   "id": "9b7ba80d-da74-40bb-bb2a-9310bdd4356b",
   "metadata": {},
   "outputs": [],
   "source": [
    "events_interface = mimic.events()\n",
    "events_query = events_interface.query\n",
    "events_query = qp.Drop([\"warning\", \"itemid\", \"storetime\"])(events_query)\n",
    "events_interface = mimic.get_interface(events_query)\n",
    "events = events_interface.run(limit=1000000)\n",
    "\n",
    "# Reverse the deidentified dating\n",
    "events = pd.merge(\n",
    "    encounters[[ENCOUNTER_ID, \"anchor_year_difference\"]], events, on=ENCOUNTER_ID\n",
    ")\n",
    "\n",
    "\n",
    "def add_offset(row):\n",
    "    row[EVENT_TIMESTAMP] += pd.DateOffset(years=row[\"anchor_year_difference\"])\n",
    "    return row\n",
    "\n",
    "\n",
    "events = events.apply(add_offset, axis=1)\n",
    "events = events.drop(\"anchor_year_difference\", axis=1)"
   ]
  },
  {
   "cell_type": "code",
   "execution_count": null,
   "id": "3d7e4baf-d3d8-4863-97bc-af18fc035806",
   "metadata": {},
   "outputs": [],
   "source": [
    "# Create the target as a timeseries event\n",
    "target_events = encounters[encounters[\"died\"] == True]\n",
    "target_events = target_events[[ENCOUNTER_ID, \"deathtime\"]]\n",
    "target_events = target_events.rename({\"deathtime\": EVENT_TIMESTAMP}, axis=1)\n",
    "target_events[EVENT_NAME] = TARGET_NAME\n",
    "target_events[EVENT_CATEGORY] = TARGETS\n",
    "target_events[EVENT_VALUE] = 1\n",
    "target_events.head(5)"
   ]
  },
  {
   "cell_type": "code",
   "execution_count": null,
   "id": "74e6aca3-2a88-4bab-8a84-973bcdc36419",
   "metadata": {},
   "outputs": [],
   "source": [
    "# Include target\n",
    "events = pd.concat([events, target_events])"
   ]
  },
  {
   "cell_type": "code",
   "execution_count": null,
   "id": "6c4a818d-7ed4-48a6-9530-b232eb91b420",
   "metadata": {},
   "outputs": [],
   "source": [
    "# Preprocessing\n",
    "events[EVENT_NAME] = normalize_names(events[EVENT_NAME])\n",
    "events[EVENT_CATEGORY] = normalize_categories(events[EVENT_CATEGORY])\n",
    "# events[EVENT_VALUE] = normalize_values(events[EVENT_VALUE])\n",
    "\n",
    "# Concatenate event name and category since some names are the same in\n",
    "# different categories, e.g., 'flow' for categories 'heartware' and 'ecmo'\n",
    "events[EVENT_NAME] = events[EVENT_CATEGORY] + \" - \" + events[EVENT_NAME]\n",
    "events.head(5)\n",
    "\n",
    "# Update target name having included the category\n",
    "TARGET_NAME = TARGETS + \" - \" + TARGET_NAME"
   ]
  },
  {
   "cell_type": "code",
   "execution_count": null,
   "id": "a0dc2a25-f959-48f4-ad3b-4b95f940a8e5",
   "metadata": {},
   "outputs": [],
   "source": [
    "save_dataframe(events, \"events.parquet\")"
   ]
  },
  {
   "cell_type": "markdown",
   "id": "b888f02b-a52b-4039-8d2b-c2994848b916",
   "metadata": {},
   "source": [
    "------------------------------------------------------------------------------------------------"
   ]
  },
  {
   "cell_type": "markdown",
   "id": "f2f8e387-33cf-4285-9a92-75c14eac4f18",
   "metadata": {
    "tags": []
   },
   "source": [
    "# Processing"
   ]
  },
  {
   "cell_type": "markdown",
   "id": "c40f9507-91bd-487f-a73d-0faccf54c7a6",
   "metadata": {
    "jp-MarkdownHeadingCollapsed": true,
    "tags": []
   },
   "source": [
    "## Tabular"
   ]
  },
  {
   "cell_type": "code",
   "execution_count": 3,
   "id": "643ec42d-a118-46ac-99c3-a776e60e1a65",
   "metadata": {},
   "outputs": [
    {
     "name": "stderr",
     "output_type": "stream",
     "text": [
      "2022-07-18 15:28:01,238 \u001b[1;37mINFO\u001b[0m cyclops.utils.file - Loading DataFrame from encounters.parquet\n"
     ]
    },
    {
     "data": {
      "text/html": [
       "<div>\n",
       "<style scoped>\n",
       "    .dataframe tbody tr th:only-of-type {\n",
       "        vertical-align: middle;\n",
       "    }\n",
       "\n",
       "    .dataframe tbody tr th {\n",
       "        vertical-align: top;\n",
       "    }\n",
       "\n",
       "    .dataframe thead th {\n",
       "        text-align: right;\n",
       "    }\n",
       "</style>\n",
       "<table border=\"1\" class=\"dataframe\">\n",
       "  <thead>\n",
       "    <tr style=\"text-align: right;\">\n",
       "      <th></th>\n",
       "      <th>subject_id</th>\n",
       "      <th>encounter_id</th>\n",
       "      <th>admit_timestamp</th>\n",
       "      <th>discharge_timestamp</th>\n",
       "      <th>deathtime</th>\n",
       "      <th>admission_type</th>\n",
       "      <th>admission_location</th>\n",
       "      <th>discharge_location</th>\n",
       "      <th>ethnicity</th>\n",
       "      <th>edregtime</th>\n",
       "      <th>edouttime</th>\n",
       "      <th>sex</th>\n",
       "      <th>age</th>\n",
       "      <th>birth_year</th>\n",
       "      <th>dod</th>\n",
       "      <th>anchor_year_difference</th>\n",
       "      <th>died</th>\n",
       "    </tr>\n",
       "  </thead>\n",
       "  <tbody>\n",
       "    <tr>\n",
       "      <th>0</th>\n",
       "      <td>11771268</td>\n",
       "      <td>27824037</td>\n",
       "      <td>2015-07-06 18:21:00</td>\n",
       "      <td>2015-07-07 20:15:00</td>\n",
       "      <td>NaT</td>\n",
       "      <td>ELECTIVE</td>\n",
       "      <td>None</td>\n",
       "      <td>HOME</td>\n",
       "      <td>UNKNOWN</td>\n",
       "      <td>NaT</td>\n",
       "      <td>NaT</td>\n",
       "      <td>M</td>\n",
       "      <td>0</td>\n",
       "      <td>2015</td>\n",
       "      <td>NaT</td>\n",
       "      <td>-156</td>\n",
       "      <td>False</td>\n",
       "    </tr>\n",
       "    <tr>\n",
       "      <th>1</th>\n",
       "      <td>17978591</td>\n",
       "      <td>21300810</td>\n",
       "      <td>2015-10-10 00:21:00</td>\n",
       "      <td>2015-10-12 14:10:00</td>\n",
       "      <td>NaT</td>\n",
       "      <td>ELECTIVE</td>\n",
       "      <td>None</td>\n",
       "      <td>HOME</td>\n",
       "      <td>WHITE</td>\n",
       "      <td>NaT</td>\n",
       "      <td>NaT</td>\n",
       "      <td>F</td>\n",
       "      <td>0</td>\n",
       "      <td>2015</td>\n",
       "      <td>NaT</td>\n",
       "      <td>-134</td>\n",
       "      <td>False</td>\n",
       "    </tr>\n",
       "    <tr>\n",
       "      <th>2</th>\n",
       "      <td>16420748</td>\n",
       "      <td>23082241</td>\n",
       "      <td>2018-10-25 22:30:00</td>\n",
       "      <td>2018-10-28 12:58:00</td>\n",
       "      <td>NaT</td>\n",
       "      <td>ELECTIVE</td>\n",
       "      <td>None</td>\n",
       "      <td>HOME</td>\n",
       "      <td>WHITE</td>\n",
       "      <td>NaT</td>\n",
       "      <td>NaT</td>\n",
       "      <td>F</td>\n",
       "      <td>0</td>\n",
       "      <td>2018</td>\n",
       "      <td>NaT</td>\n",
       "      <td>-151</td>\n",
       "      <td>False</td>\n",
       "    </tr>\n",
       "    <tr>\n",
       "      <th>3</th>\n",
       "      <td>15206017</td>\n",
       "      <td>25518306</td>\n",
       "      <td>2018-10-22 15:28:00</td>\n",
       "      <td>2018-10-23 19:13:00</td>\n",
       "      <td>NaT</td>\n",
       "      <td>EU OBSERVATION</td>\n",
       "      <td>CLINIC REFERRAL</td>\n",
       "      <td>None</td>\n",
       "      <td>BLACK/AFRICAN AMERICAN</td>\n",
       "      <td>2110-10-22 11:52:00</td>\n",
       "      <td>2110-10-22 17:37:00</td>\n",
       "      <td>F</td>\n",
       "      <td>76</td>\n",
       "      <td>1942</td>\n",
       "      <td>NaT</td>\n",
       "      <td>-92</td>\n",
       "      <td>None</td>\n",
       "    </tr>\n",
       "    <tr>\n",
       "      <th>4</th>\n",
       "      <td>14695283</td>\n",
       "      <td>23679175</td>\n",
       "      <td>2018-06-24 18:54:00</td>\n",
       "      <td>2018-06-25 20:15:00</td>\n",
       "      <td>NaT</td>\n",
       "      <td>EU OBSERVATION</td>\n",
       "      <td>PHYSICIAN REFERRAL</td>\n",
       "      <td>None</td>\n",
       "      <td>WHITE</td>\n",
       "      <td>2176-06-24 14:46:00</td>\n",
       "      <td>2176-06-25 20:15:00</td>\n",
       "      <td>F</td>\n",
       "      <td>90</td>\n",
       "      <td>1928</td>\n",
       "      <td>NaT</td>\n",
       "      <td>-158</td>\n",
       "      <td>None</td>\n",
       "    </tr>\n",
       "  </tbody>\n",
       "</table>\n",
       "</div>"
      ],
      "text/plain": [
       "   subject_id  encounter_id     admit_timestamp discharge_timestamp deathtime  \\\n",
       "0    11771268      27824037 2015-07-06 18:21:00 2015-07-07 20:15:00       NaT   \n",
       "1    17978591      21300810 2015-10-10 00:21:00 2015-10-12 14:10:00       NaT   \n",
       "2    16420748      23082241 2018-10-25 22:30:00 2018-10-28 12:58:00       NaT   \n",
       "3    15206017      25518306 2018-10-22 15:28:00 2018-10-23 19:13:00       NaT   \n",
       "4    14695283      23679175 2018-06-24 18:54:00 2018-06-25 20:15:00       NaT   \n",
       "\n",
       "   admission_type  admission_location discharge_location  \\\n",
       "0        ELECTIVE                None               HOME   \n",
       "1        ELECTIVE                None               HOME   \n",
       "2        ELECTIVE                None               HOME   \n",
       "3  EU OBSERVATION     CLINIC REFERRAL               None   \n",
       "4  EU OBSERVATION  PHYSICIAN REFERRAL               None   \n",
       "\n",
       "                ethnicity           edregtime           edouttime sex  age  \\\n",
       "0                 UNKNOWN                 NaT                 NaT   M    0   \n",
       "1                   WHITE                 NaT                 NaT   F    0   \n",
       "2                   WHITE                 NaT                 NaT   F    0   \n",
       "3  BLACK/AFRICAN AMERICAN 2110-10-22 11:52:00 2110-10-22 17:37:00   F   76   \n",
       "4                   WHITE 2176-06-24 14:46:00 2176-06-25 20:15:00   F   90   \n",
       "\n",
       "   birth_year dod  anchor_year_difference   died  \n",
       "0        2015 NaT                    -156  False  \n",
       "1        2015 NaT                    -134  False  \n",
       "2        2018 NaT                    -151  False  \n",
       "3        1942 NaT                     -92   None  \n",
       "4        1928 NaT                    -158   None  "
      ]
     },
     "execution_count": 3,
     "metadata": {},
     "output_type": "execute_result"
    }
   ],
   "source": [
    "encounters = load_dataframe(\"encounters.parquet\")\n",
    "encounters.head(5)"
   ]
  },
  {
   "cell_type": "code",
   "execution_count": 4,
   "id": "fb8aec10-040a-4a71-8433-40f9d6855dd5",
   "metadata": {},
   "outputs": [],
   "source": [
    "features = [\n",
    "    AGE,\n",
    "    SEX,\n",
    "    \"admission_type\",\n",
    "    \"admission_location\",\n",
    "    \"discharge_location\",\n",
    "    \"ethnicity\",\n",
    "]\n",
    "\n",
    "tab_features = TabularFeatures(\n",
    "    data=encounters,\n",
    "    features=features,\n",
    "    by=ENCOUNTER_ID,\n",
    ")"
   ]
  },
  {
   "cell_type": "code",
   "execution_count": 5,
   "id": "af949608-e0b8-4cdf-9e72-71e8b26eab18",
   "metadata": {},
   "outputs": [
    {
     "data": {
      "text/plain": [
       "{'admission_location': 'ordinal',\n",
       " 'sex': 'binary',\n",
       " 'age': 'numeric',\n",
       " 'discharge_location': 'ordinal',\n",
       " 'ethnicity': 'ordinal',\n",
       " 'admission_type': 'ordinal'}"
      ]
     },
     "execution_count": 5,
     "metadata": {},
     "output_type": "execute_result"
    }
   ],
   "source": [
    "tab_features.types"
   ]
  },
  {
   "cell_type": "code",
   "execution_count": 6,
   "id": "4ea328b2-e397-405a-a5b0-7bcaa4520aa6",
   "metadata": {},
   "outputs": [
    {
     "data": {
      "text/plain": [
       "{0: 'AMBULATORY SURGERY TRANSFER',\n",
       " 1: 'CLINIC REFERRAL',\n",
       " 2: 'EMERGENCY ROOM',\n",
       " 3: 'INFORMATION NOT AVAILABLE',\n",
       " 4: 'INTERNAL TRANSFER TO OR FROM PSYCH',\n",
       " 5: 'PACU',\n",
       " 6: 'PHYSICIAN REFERRAL',\n",
       " 7: 'PROCEDURE SITE',\n",
       " 8: 'TRANSFER FROM HOSPITAL',\n",
       " 9: 'TRANSFER FROM SKILLED NURSING FACILITY',\n",
       " 10: 'WALK-IN/SELF REFERRAL',\n",
       " 11: 'nan'}"
      ]
     },
     "execution_count": 6,
     "metadata": {},
     "output_type": "execute_result"
    }
   ],
   "source": [
    "tab_features.meta[\"admission_location\"].get_mapping()"
   ]
  },
  {
   "cell_type": "code",
   "execution_count": 7,
   "id": "b90115b1-3e5e-412c-ae3a-51e1f7d5607b",
   "metadata": {},
   "outputs": [
    {
     "data": {
      "text/plain": [
       "['admission_location', 'discharge_location', 'ethnicity', 'admission_type']"
      ]
     },
     "execution_count": 7,
     "metadata": {},
     "output_type": "execute_result"
    }
   ],
   "source": [
    "ordinal_features = tab_features.features_by_type(ORDINAL)\n",
    "ordinal_features"
   ]
  },
  {
   "cell_type": "code",
   "execution_count": 8,
   "id": "eda135bc-f0f6-4dd1-bb4e-91d96a24f44e",
   "metadata": {},
   "outputs": [
    {
     "name": "stderr",
     "output_type": "stream",
     "text": [
      "/home/kmckeen/gemini/cyclops/cyclops/processors/feature/feature.py:696: SettingWithCopyWarning: \n",
      "A value is trying to be set on a copy of a slice from a DataFrame.\n",
      "Try using .loc[row_indexer,col_indexer] = value instead\n",
      "\n",
      "See the caveats in the documentation: https://pandas.pydata.org/pandas-docs/stable/user_guide/indexing.html#returning-a-view-versus-a-copy\n",
      "  data[feat] = data[feat].replace(self.meta[feat].get_mapping())\n",
      "/home/kmckeen/gemini/cyclops/cyclops/processors/feature/feature.py:696: SettingWithCopyWarning: \n",
      "A value is trying to be set on a copy of a slice from a DataFrame.\n",
      "Try using .loc[row_indexer,col_indexer] = value instead\n",
      "\n",
      "See the caveats in the documentation: https://pandas.pydata.org/pandas-docs/stable/user_guide/indexing.html#returning-a-view-versus-a-copy\n",
      "  data[feat] = data[feat].replace(self.meta[feat].get_mapping())\n",
      "/home/kmckeen/gemini/cyclops/cyclops/processors/feature/feature.py:696: SettingWithCopyWarning: \n",
      "A value is trying to be set on a copy of a slice from a DataFrame.\n",
      "Try using .loc[row_indexer,col_indexer] = value instead\n",
      "\n",
      "See the caveats in the documentation: https://pandas.pydata.org/pandas-docs/stable/user_guide/indexing.html#returning-a-view-versus-a-copy\n",
      "  data[feat] = data[feat].replace(self.meta[feat].get_mapping())\n",
      "/home/kmckeen/gemini/cyclops/cyclops/processors/feature/feature.py:696: SettingWithCopyWarning: \n",
      "A value is trying to be set on a copy of a slice from a DataFrame.\n",
      "Try using .loc[row_indexer,col_indexer] = value instead\n",
      "\n",
      "See the caveats in the documentation: https://pandas.pydata.org/pandas-docs/stable/user_guide/indexing.html#returning-a-view-versus-a-copy\n",
      "  data[feat] = data[feat].replace(self.meta[feat].get_mapping())\n"
     ]
    }
   ],
   "source": [
    "tab_vectorized = tab_features.vectorize(to_binary_indicators=ordinal_features)"
   ]
  },
  {
   "cell_type": "code",
   "execution_count": 9,
   "id": "97a3a502-4d33-4380-92f6-3f345f5de00d",
   "metadata": {},
   "outputs": [
    {
     "data": {
      "text/plain": [
       "(224764, 43)"
      ]
     },
     "execution_count": 9,
     "metadata": {},
     "output_type": "execute_result"
    }
   ],
   "source": [
    "tab_vectorized.shape"
   ]
  },
  {
   "cell_type": "code",
   "execution_count": 10,
   "id": "7067bc7f-4da8-4d6e-bf1f-afa41c1590da",
   "metadata": {},
   "outputs": [
    {
     "data": {
      "text/plain": [
       "['encounter_id', 'features']"
      ]
     },
     "execution_count": 10,
     "metadata": {},
     "output_type": "execute_result"
    }
   ],
   "source": [
    "tab_vectorized.axis_names"
   ]
  },
  {
   "cell_type": "code",
   "execution_count": 11,
   "id": "fc3c5b93-4c7c-4f78-8194-43e7db08e8f6",
   "metadata": {},
   "outputs": [
    {
     "data": {
      "text/plain": [
       "array(['sex', 'age', 'admission_location_AMBULATORY SURGERY TRANSFER',\n",
       "       'admission_location_CLINIC REFERRAL',\n",
       "       'admission_location_EMERGENCY ROOM',\n",
       "       'admission_location_INFORMATION NOT AVAILABLE',\n",
       "       'admission_location_INTERNAL TRANSFER TO OR FROM PSYCH',\n",
       "       'admission_location_PACU', 'admission_location_PHYSICIAN REFERRAL',\n",
       "       'admission_location_PROCEDURE SITE',\n",
       "       'admission_location_TRANSFER FROM HOSPITAL',\n",
       "       'admission_location_TRANSFER FROM SKILLED NURSING FACILITY',\n",
       "       'admission_location_WALK-IN/SELF REFERRAL',\n",
       "       'discharge_location_ACUTE HOSPITAL',\n",
       "       'discharge_location_AGAINST ADVICE',\n",
       "       'discharge_location_ASSISTED LIVING',\n",
       "       'discharge_location_CHRONIC/LONG TERM ACUTE CARE',\n",
       "       'discharge_location_DIED',\n",
       "       'discharge_location_HEALTHCARE FACILITY',\n",
       "       'discharge_location_HOME', 'discharge_location_HOME HEALTH CARE',\n",
       "       'discharge_location_HOSPICE', 'discharge_location_OTHER FACILITY',\n",
       "       'discharge_location_PSYCH FACILITY', 'discharge_location_REHAB',\n",
       "       'discharge_location_SKILLED NURSING FACILITY',\n",
       "       'ethnicity_AMERICAN INDIAN/ALASKA NATIVE', 'ethnicity_ASIAN',\n",
       "       'ethnicity_BLACK/AFRICAN AMERICAN', 'ethnicity_HISPANIC/LATINO',\n",
       "       'ethnicity_OTHER', 'ethnicity_UNABLE TO OBTAIN',\n",
       "       'ethnicity_UNKNOWN', 'ethnicity_WHITE',\n",
       "       'admission_type_AMBULATORY OBSERVATION',\n",
       "       'admission_type_DIRECT EMER.', 'admission_type_DIRECT OBSERVATION',\n",
       "       'admission_type_ELECTIVE', 'admission_type_EU OBSERVATION',\n",
       "       'admission_type_EW EMER.', 'admission_type_OBSERVATION ADMIT',\n",
       "       'admission_type_SURGICAL SAME DAY ADMISSION',\n",
       "       'admission_type_URGENT'], dtype='<U57')"
      ]
     },
     "execution_count": 11,
     "metadata": {},
     "output_type": "execute_result"
    }
   ],
   "source": [
    "tab_vectorized.get_index(FEATURES)"
   ]
  },
  {
   "cell_type": "code",
   "execution_count": 12,
   "id": "3b976232-b3ff-4c82-bf41-67e7d8dcc7a1",
   "metadata": {},
   "outputs": [
    {
     "data": {
      "text/plain": [
       "['age']"
      ]
     },
     "execution_count": 12,
     "metadata": {},
     "output_type": "execute_result"
    }
   ],
   "source": [
    "numeric_features = tab_features.features_by_type(NUMERIC)\n",
    "numeric_features"
   ]
  },
  {
   "cell_type": "markdown",
   "id": "2187007a-7fc8-4c33-b60a-44cb05562c16",
   "metadata": {
    "jp-MarkdownHeadingCollapsed": true,
    "tags": []
   },
   "source": [
    "## Temporal"
   ]
  },
  {
   "cell_type": "code",
   "execution_count": 13,
   "id": "68644d5a-164a-41f4-8518-a8311afc348c",
   "metadata": {},
   "outputs": [
    {
     "name": "stderr",
     "output_type": "stream",
     "text": [
      "2022-07-18 15:28:02,847 \u001b[1;37mINFO\u001b[0m cyclops.utils.file - Loading DataFrame from events.parquet\n"
     ]
    },
    {
     "data": {
      "text/html": [
       "<div>\n",
       "<style scoped>\n",
       "    .dataframe tbody tr th:only-of-type {\n",
       "        vertical-align: middle;\n",
       "    }\n",
       "\n",
       "    .dataframe tbody tr th {\n",
       "        vertical-align: top;\n",
       "    }\n",
       "\n",
       "    .dataframe thead th {\n",
       "        text-align: right;\n",
       "    }\n",
       "</style>\n",
       "<table border=\"1\" class=\"dataframe\">\n",
       "  <thead>\n",
       "    <tr style=\"text-align: right;\">\n",
       "      <th></th>\n",
       "      <th>encounter_id</th>\n",
       "      <th>subject_id</th>\n",
       "      <th>stay_id</th>\n",
       "      <th>event_timestamp</th>\n",
       "      <th>value</th>\n",
       "      <th>event_value</th>\n",
       "      <th>event_value_unit</th>\n",
       "      <th>event_category</th>\n",
       "      <th>event_name</th>\n",
       "    </tr>\n",
       "  </thead>\n",
       "  <tbody>\n",
       "    <tr>\n",
       "      <th>391700</th>\n",
       "      <td>28802821</td>\n",
       "      <td>16439165.0</td>\n",
       "      <td>31283616.0</td>\n",
       "      <td>2018-12-13 21:10:00</td>\n",
       "      <td>Repositioning every 2 hours and PRN</td>\n",
       "      <td>NaN</td>\n",
       "      <td>None</td>\n",
       "      <td>care plans</td>\n",
       "      <td>care plans - altered skin integrity ncp - inte...</td>\n",
       "    </tr>\n",
       "    <tr>\n",
       "      <th>158488</th>\n",
       "      <td>29715344</td>\n",
       "      <td>16613914.0</td>\n",
       "      <td>31229998.0</td>\n",
       "      <td>2019-01-16 00:00:00</td>\n",
       "      <td>Non-productive</td>\n",
       "      <td>NaN</td>\n",
       "      <td>None</td>\n",
       "      <td>pulmonary</td>\n",
       "      <td>pulmonary - cough type</td>\n",
       "    </tr>\n",
       "    <tr>\n",
       "      <th>308537</th>\n",
       "      <td>29319179</td>\n",
       "      <td>16679905.0</td>\n",
       "      <td>34391014.0</td>\n",
       "      <td>2018-08-12 16:00:00</td>\n",
       "      <td>Lines and tubes concealed</td>\n",
       "      <td>NaN</td>\n",
       "      <td>None</td>\n",
       "      <td>restraint/support systems</td>\n",
       "      <td>restraint/support systems - less restrictive m...</td>\n",
       "    </tr>\n",
       "    <tr>\n",
       "      <th>173240</th>\n",
       "      <td>23339961</td>\n",
       "      <td>16529604.0</td>\n",
       "      <td>33927836.0</td>\n",
       "      <td>2015-08-22 08:54:00</td>\n",
       "      <td>None</td>\n",
       "      <td>NaN</td>\n",
       "      <td>None</td>\n",
       "      <td>skin - incisions</td>\n",
       "      <td>skin - incisions - edema location</td>\n",
       "    </tr>\n",
       "    <tr>\n",
       "      <th>522647</th>\n",
       "      <td>25642557</td>\n",
       "      <td>16395749.0</td>\n",
       "      <td>31665383.0</td>\n",
       "      <td>2015-01-13 13:28:00</td>\n",
       "      <td>Obtain PT / OT consults to facilitate adaptati...</td>\n",
       "      <td>NaN</td>\n",
       "      <td>None</td>\n",
       "      <td>care plans</td>\n",
       "      <td>care plans - altered sensory perception ncp - ...</td>\n",
       "    </tr>\n",
       "  </tbody>\n",
       "</table>\n",
       "</div>"
      ],
      "text/plain": [
       "        encounter_id  subject_id     stay_id     event_timestamp  \\\n",
       "391700      28802821  16439165.0  31283616.0 2018-12-13 21:10:00   \n",
       "158488      29715344  16613914.0  31229998.0 2019-01-16 00:00:00   \n",
       "308537      29319179  16679905.0  34391014.0 2018-08-12 16:00:00   \n",
       "173240      23339961  16529604.0  33927836.0 2015-08-22 08:54:00   \n",
       "522647      25642557  16395749.0  31665383.0 2015-01-13 13:28:00   \n",
       "\n",
       "                                                    value  event_value  \\\n",
       "391700                Repositioning every 2 hours and PRN          NaN   \n",
       "158488                                     Non-productive          NaN   \n",
       "308537                          Lines and tubes concealed          NaN   \n",
       "173240                                               None          NaN   \n",
       "522647  Obtain PT / OT consults to facilitate adaptati...          NaN   \n",
       "\n",
       "       event_value_unit             event_category  \\\n",
       "391700             None                 care plans   \n",
       "158488             None                  pulmonary   \n",
       "308537             None  restraint/support systems   \n",
       "173240             None           skin - incisions   \n",
       "522647             None                 care plans   \n",
       "\n",
       "                                               event_name  \n",
       "391700  care plans - altered skin integrity ncp - inte...  \n",
       "158488                             pulmonary - cough type  \n",
       "308537  restraint/support systems - less restrictive m...  \n",
       "173240                  skin - incisions - edema location  \n",
       "522647  care plans - altered sensory perception ncp - ...  "
      ]
     },
     "execution_count": 13,
     "metadata": {},
     "output_type": "execute_result"
    }
   ],
   "source": [
    "events = load_dataframe(\"events.parquet\")\n",
    "\n",
    "events = events.sample(n=int(len(events) / 20))\n",
    "\n",
    "events.head(5)"
   ]
  },
  {
   "cell_type": "code",
   "execution_count": 14,
   "id": "25abf281-268e-4a0e-812e-e7279e65a720",
   "metadata": {},
   "outputs": [
    {
     "data": {
      "text/html": [
       "<div>\n",
       "<style scoped>\n",
       "    .dataframe tbody tr th:only-of-type {\n",
       "        vertical-align: middle;\n",
       "    }\n",
       "\n",
       "    .dataframe tbody tr th {\n",
       "        vertical-align: top;\n",
       "    }\n",
       "\n",
       "    .dataframe thead th {\n",
       "        text-align: right;\n",
       "    }\n",
       "</style>\n",
       "<table border=\"1\" class=\"dataframe\">\n",
       "  <thead>\n",
       "    <tr style=\"text-align: right;\">\n",
       "      <th></th>\n",
       "      <th>encounter_id</th>\n",
       "      <th>subject_id</th>\n",
       "      <th>stay_id</th>\n",
       "      <th>event_timestamp</th>\n",
       "      <th>value</th>\n",
       "      <th>event_value</th>\n",
       "      <th>event_value_unit</th>\n",
       "      <th>event_category</th>\n",
       "      <th>event_name</th>\n",
       "    </tr>\n",
       "  </thead>\n",
       "  <tbody>\n",
       "    <tr>\n",
       "      <th>158488</th>\n",
       "      <td>29715344</td>\n",
       "      <td>16613914.0</td>\n",
       "      <td>31229998.0</td>\n",
       "      <td>2019-01-16 00:00:00</td>\n",
       "      <td>Non-productive</td>\n",
       "      <td>NaN</td>\n",
       "      <td>None</td>\n",
       "      <td>pulmonary</td>\n",
       "      <td>pulmonary - cough type</td>\n",
       "    </tr>\n",
       "    <tr>\n",
       "      <th>308537</th>\n",
       "      <td>29319179</td>\n",
       "      <td>16679905.0</td>\n",
       "      <td>34391014.0</td>\n",
       "      <td>2018-08-12 16:00:00</td>\n",
       "      <td>Lines and tubes concealed</td>\n",
       "      <td>NaN</td>\n",
       "      <td>None</td>\n",
       "      <td>restraint/support systems</td>\n",
       "      <td>restraint/support systems - less restrictive m...</td>\n",
       "    </tr>\n",
       "    <tr>\n",
       "      <th>173240</th>\n",
       "      <td>23339961</td>\n",
       "      <td>16529604.0</td>\n",
       "      <td>33927836.0</td>\n",
       "      <td>2015-08-22 08:54:00</td>\n",
       "      <td>None</td>\n",
       "      <td>NaN</td>\n",
       "      <td>None</td>\n",
       "      <td>skin - incisions</td>\n",
       "      <td>skin - incisions - edema location</td>\n",
       "    </tr>\n",
       "    <tr>\n",
       "      <th>522647</th>\n",
       "      <td>25642557</td>\n",
       "      <td>16395749.0</td>\n",
       "      <td>31665383.0</td>\n",
       "      <td>2015-01-13 13:28:00</td>\n",
       "      <td>Obtain PT / OT consults to facilitate adaptati...</td>\n",
       "      <td>NaN</td>\n",
       "      <td>None</td>\n",
       "      <td>care plans</td>\n",
       "      <td>care plans - altered sensory perception ncp - ...</td>\n",
       "    </tr>\n",
       "    <tr>\n",
       "      <th>161181</th>\n",
       "      <td>21277160</td>\n",
       "      <td>16454910.0</td>\n",
       "      <td>36774255.0</td>\n",
       "      <td>2015-05-30 15:00:00</td>\n",
       "      <td>Endotracheal tube</td>\n",
       "      <td>NaN</td>\n",
       "      <td>None</td>\n",
       "      <td>respiratory</td>\n",
       "      <td>respiratory - o2 delivery device</td>\n",
       "    </tr>\n",
       "  </tbody>\n",
       "</table>\n",
       "</div>"
      ],
      "text/plain": [
       "        encounter_id  subject_id     stay_id     event_timestamp  \\\n",
       "158488      29715344  16613914.0  31229998.0 2019-01-16 00:00:00   \n",
       "308537      29319179  16679905.0  34391014.0 2018-08-12 16:00:00   \n",
       "173240      23339961  16529604.0  33927836.0 2015-08-22 08:54:00   \n",
       "522647      25642557  16395749.0  31665383.0 2015-01-13 13:28:00   \n",
       "161181      21277160  16454910.0  36774255.0 2015-05-30 15:00:00   \n",
       "\n",
       "                                                    value  event_value  \\\n",
       "158488                                     Non-productive          NaN   \n",
       "308537                          Lines and tubes concealed          NaN   \n",
       "173240                                               None          NaN   \n",
       "522647  Obtain PT / OT consults to facilitate adaptati...          NaN   \n",
       "161181                                  Endotracheal tube          NaN   \n",
       "\n",
       "       event_value_unit             event_category  \\\n",
       "158488             None                  pulmonary   \n",
       "308537             None  restraint/support systems   \n",
       "173240             None           skin - incisions   \n",
       "522647             None                 care plans   \n",
       "161181             None                respiratory   \n",
       "\n",
       "                                               event_name  \n",
       "158488                             pulmonary - cough type  \n",
       "308537  restraint/support systems - less restrictive m...  \n",
       "173240                  skin - incisions - edema location  \n",
       "522647  care plans - altered sensory perception ncp - ...  \n",
       "161181                   respiratory - o2 delivery device  "
      ]
     },
     "execution_count": 14,
     "metadata": {},
     "output_type": "execute_result"
    }
   ],
   "source": [
    "# Keep only the most popular events\n",
    "top_events = events[EVENT_NAME].value_counts()[:100].index\n",
    "\n",
    "# Force include the target\n",
    "top_events = np.unique(np.append(top_events, TARGET_NAME))\n",
    "\n",
    "events = events[events[EVENT_NAME].isin(top_events)]\n",
    "events.head(5)"
   ]
  },
  {
   "cell_type": "code",
   "execution_count": 15,
   "id": "119a48d5-8891-4026-bd74-25a8037f8cf5",
   "metadata": {},
   "outputs": [
    {
     "data": {
      "text/html": [
       "<div>\n",
       "<style scoped>\n",
       "    .dataframe tbody tr th:only-of-type {\n",
       "        vertical-align: middle;\n",
       "    }\n",
       "\n",
       "    .dataframe tbody tr th {\n",
       "        vertical-align: top;\n",
       "    }\n",
       "\n",
       "    .dataframe thead th {\n",
       "        text-align: right;\n",
       "    }\n",
       "</style>\n",
       "<table border=\"1\" class=\"dataframe\">\n",
       "  <thead>\n",
       "    <tr style=\"text-align: right;\">\n",
       "      <th></th>\n",
       "      <th>encounter_id</th>\n",
       "      <th>subject_id</th>\n",
       "      <th>stay_id</th>\n",
       "      <th>event_timestamp</th>\n",
       "      <th>value</th>\n",
       "      <th>event_value</th>\n",
       "      <th>event_value_unit</th>\n",
       "      <th>event_category</th>\n",
       "      <th>event_name</th>\n",
       "    </tr>\n",
       "  </thead>\n",
       "  <tbody>\n",
       "  </tbody>\n",
       "</table>\n",
       "</div>"
      ],
      "text/plain": [
       "Empty DataFrame\n",
       "Columns: [encounter_id, subject_id, stay_id, event_timestamp, value, event_value, event_value_unit, event_category, event_name]\n",
       "Index: []"
      ]
     },
     "execution_count": 15,
     "metadata": {},
     "output_type": "execute_result"
    }
   ],
   "source": [
    "events[events[EVENT_NAME] == TARGET_NAME].head(5)"
   ]
  },
  {
   "cell_type": "code",
   "execution_count": 16,
   "id": "06cc13d7-dd6c-44d9-93c6-0b903b84743a",
   "metadata": {},
   "outputs": [],
   "source": [
    "aggregator = Aggregator(\n",
    "    aggfuncs={EVENT_VALUE: MEAN},\n",
    "    timestamp_col=EVENT_TIMESTAMP,\n",
    "    time_by=ENCOUNTER_ID,\n",
    "    agg_by=[ENCOUNTER_ID, EVENT_NAME],\n",
    "    timestep_size=8,\n",
    "    window_duration=24,  # Optional\n",
    "    # agg_meta_for=EVENT_VALUE,  # Optional\n",
    ")"
   ]
  },
  {
   "cell_type": "code",
   "execution_count": 17,
   "id": "693f41c4-aa52-4770-a39c-1c77a9b0c03b",
   "metadata": {},
   "outputs": [],
   "source": [
    "events = events.reset_index(drop=True)\n",
    "\n",
    "tmp_features = TemporalFeatures(\n",
    "    events,\n",
    "    features=EVENT_VALUE,\n",
    "    by=[ENCOUNTER_ID, EVENT_NAME],\n",
    "    timestamp_col=EVENT_TIMESTAMP,\n",
    "    aggregator=aggregator,\n",
    ")"
   ]
  },
  {
   "cell_type": "code",
   "execution_count": 18,
   "id": "afa902f2-6213-4e7d-8ae6-b9c926aa232a",
   "metadata": {},
   "outputs": [
    {
     "name": "stderr",
     "output_type": "stream",
     "text": [
      "2022-07-18 15:28:03,173 \u001b[1;37mINFO\u001b[0m cyclops.processors.cleaning - Dropped nulls over columns: event_timestamp. Removed 2 rows.\n",
      "2022-07-18 15:28:07,063 \u001b[1;37mINFO\u001b[0m cyclops.utils.profile - Finished executing function __call__ in 3.895072 s\n"
     ]
    },
    {
     "data": {
      "text/html": [
       "<div>\n",
       "<style scoped>\n",
       "    .dataframe tbody tr th:only-of-type {\n",
       "        vertical-align: middle;\n",
       "    }\n",
       "\n",
       "    .dataframe tbody tr th {\n",
       "        vertical-align: top;\n",
       "    }\n",
       "\n",
       "    .dataframe thead th {\n",
       "        text-align: right;\n",
       "    }\n",
       "</style>\n",
       "<table border=\"1\" class=\"dataframe\">\n",
       "  <thead>\n",
       "    <tr style=\"text-align: right;\">\n",
       "      <th></th>\n",
       "      <th></th>\n",
       "      <th></th>\n",
       "      <th>event_value</th>\n",
       "      <th>timestep_start</th>\n",
       "    </tr>\n",
       "    <tr>\n",
       "      <th>encounter_id</th>\n",
       "      <th>event_name</th>\n",
       "      <th>timestep</th>\n",
       "      <th></th>\n",
       "      <th></th>\n",
       "    </tr>\n",
       "  </thead>\n",
       "  <tbody>\n",
       "    <tr>\n",
       "      <th rowspan=\"5\" valign=\"top\">20068018</th>\n",
       "      <th>pain/sedation - pain assessment method</th>\n",
       "      <th>0</th>\n",
       "      <td>NaN</td>\n",
       "      <td>2015-07-21 21:00:00</td>\n",
       "    </tr>\n",
       "    <tr>\n",
       "      <th rowspan=\"2\" valign=\"top\">treatments - turn</th>\n",
       "      <th>2</th>\n",
       "      <td>NaN</td>\n",
       "      <td>2015-07-22 13:00:00</td>\n",
       "    </tr>\n",
       "    <tr>\n",
       "      <th>0</th>\n",
       "      <td>NaN</td>\n",
       "      <td>2015-07-21 21:00:00</td>\n",
       "    </tr>\n",
       "    <tr>\n",
       "      <th>neurological - gcs - eye opening</th>\n",
       "      <th>2</th>\n",
       "      <td>4.0</td>\n",
       "      <td>2015-07-22 13:00:00</td>\n",
       "    </tr>\n",
       "    <tr>\n",
       "      <th>routine vital signs - ectopy type 1</th>\n",
       "      <th>0</th>\n",
       "      <td>NaN</td>\n",
       "      <td>2015-07-21 21:00:00</td>\n",
       "    </tr>\n",
       "  </tbody>\n",
       "</table>\n",
       "</div>"
      ],
      "text/plain": [
       "                                                              event_value  \\\n",
       "encounter_id event_name                             timestep                \n",
       "20068018     pain/sedation - pain assessment method 0                 NaN   \n",
       "             treatments - turn                      2                 NaN   \n",
       "                                                    0                 NaN   \n",
       "             neurological - gcs - eye opening       2                 4.0   \n",
       "             routine vital signs - ectopy type 1    0                 NaN   \n",
       "\n",
       "                                                                  timestep_start  \n",
       "encounter_id event_name                             timestep                      \n",
       "20068018     pain/sedation - pain assessment method 0        2015-07-21 21:00:00  \n",
       "             treatments - turn                      2        2015-07-22 13:00:00  \n",
       "                                                    0        2015-07-21 21:00:00  \n",
       "             neurological - gcs - eye opening       2        2015-07-22 13:00:00  \n",
       "             routine vital signs - ectopy type 1    0        2015-07-21 21:00:00  "
      ]
     },
     "execution_count": 18,
     "metadata": {},
     "output_type": "execute_result"
    }
   ],
   "source": [
    "aggregated = tmp_features.aggregate()\n",
    "aggregated.head(5)"
   ]
  },
  {
   "cell_type": "code",
   "execution_count": 19,
   "id": "354403e4-a1cc-4d1f-be4c-e96db62802cf",
   "metadata": {},
   "outputs": [
    {
     "name": "stderr",
     "output_type": "stream",
     "text": [
      "2022-07-18 15:28:07,073 \u001b[1;37mINFO\u001b[0m cyclops.utils.file - Saving dataframe to aggregated.parquet\n"
     ]
    },
    {
     "data": {
      "text/plain": [
       "'aggregated.parquet'"
      ]
     },
     "execution_count": 19,
     "metadata": {},
     "output_type": "execute_result"
    }
   ],
   "source": [
    "save_dataframe(aggregated, \"aggregated.parquet\")"
   ]
  },
  {
   "cell_type": "code",
   "execution_count": 20,
   "id": "4a9587b3-b4a1-42a1-ab75-3b248227dcb7",
   "metadata": {},
   "outputs": [
    {
     "name": "stderr",
     "output_type": "stream",
     "text": [
      "2022-07-18 15:28:08,316 \u001b[1;37mINFO\u001b[0m cyclops.utils.profile - Finished executing function vectorize in 1.227015 s\n"
     ]
    },
    {
     "data": {
      "text/plain": [
       "(1, 354, 100, 3)"
      ]
     },
     "execution_count": 20,
     "metadata": {},
     "output_type": "execute_result"
    }
   ],
   "source": [
    "temp_vectorized = aggregator.vectorize(aggregated)\n",
    "temp_vectorized.shape"
   ]
  },
  {
   "cell_type": "code",
   "execution_count": 21,
   "id": "aa840bb6-043c-466d-8ff1-0418a3ccd394",
   "metadata": {},
   "outputs": [
    {
     "data": {
      "text/plain": [
       "['aggfuncs', 'encounter_id', 'event_name', 'timesteps']"
      ]
     },
     "execution_count": 21,
     "metadata": {},
     "output_type": "execute_result"
    }
   ],
   "source": [
    "temp_vectorized.axis_names"
   ]
  },
  {
   "cell_type": "markdown",
   "id": "53cbd66e-a84b-49e3-b8fa-50f31ca082b9",
   "metadata": {
    "tags": []
   },
   "source": [
    "## Splitting"
   ]
  },
  {
   "cell_type": "markdown",
   "id": "5d0eaa25-0014-4212-b2ae-794cd70e915d",
   "metadata": {},
   "source": [
    "Take only the encounters available in all of the datasets and align the datasets over encounters."
   ]
  },
  {
   "cell_type": "code",
   "execution_count": 22,
   "id": "b8670c0b-3e53-45f3-9aa1-428a14d13373",
   "metadata": {},
   "outputs": [
    {
     "data": {
      "text/plain": [
       "((224764, 43), (1, 354, 100, 3))"
      ]
     },
     "execution_count": 22,
     "metadata": {},
     "output_type": "execute_result"
    }
   ],
   "source": [
    "tab_vectorized.shape, temp_vectorized.shape"
   ]
  },
  {
   "cell_type": "code",
   "execution_count": 23,
   "id": "d817d8ec-886b-494d-9d32-3e076f774d51",
   "metadata": {},
   "outputs": [],
   "source": [
    "tab_vectorized, temp_vectorized = intersect_vectorized(\n",
    "    [tab_vectorized, temp_vectorized], axes=ENCOUNTER_ID\n",
    ")"
   ]
  },
  {
   "cell_type": "code",
   "execution_count": 24,
   "id": "b908070c-83cc-4e90-88ca-52a091e0b318",
   "metadata": {},
   "outputs": [
    {
     "data": {
      "text/plain": [
       "((354, 43), (1, 354, 100, 3))"
      ]
     },
     "execution_count": 24,
     "metadata": {},
     "output_type": "execute_result"
    }
   ],
   "source": [
    "tab_vectorized.shape, temp_vectorized.shape"
   ]
  },
  {
   "cell_type": "markdown",
   "id": "ff6663ae-1ed5-445e-a1d6-9021154fe1a7",
   "metadata": {},
   "source": [
    "### Dataset splits"
   ]
  },
  {
   "cell_type": "markdown",
   "id": "839995aa-40cb-449c-a057-ad7719998ecf",
   "metadata": {},
   "source": [
    "Split into training, validation, and testing datasets.\n",
    "\n",
    "Split using the same indices such that the tabular and temporal datasets remain aligned."
   ]
  },
  {
   "cell_type": "code",
   "execution_count": 25,
   "id": "5a4ec3d2-a221-41ce-93ae-9f5a3018eb00",
   "metadata": {},
   "outputs": [],
   "source": [
    "tab_splits, temp_splits = split_vectorized(\n",
    "    [tab_vectorized, temp_vectorized], [0.8, 0.1], axes=ENCOUNTER_ID\n",
    ")\n",
    "tab_train_X, tab_val_X, tab_test_X = tab_splits\n",
    "temp_train, temp_val, temp_test = temp_splits"
   ]
  },
  {
   "cell_type": "code",
   "execution_count": 26,
   "id": "37a6a36d-499d-447e-93eb-3ac002c986c6",
   "metadata": {},
   "outputs": [
    {
     "data": {
      "text/plain": [
       "((283, 43), (36, 43), (35, 43))"
      ]
     },
     "execution_count": 26,
     "metadata": {},
     "output_type": "execute_result"
    }
   ],
   "source": [
    "tab_train_X.shape, tab_val_X.shape, tab_test_X.shape"
   ]
  },
  {
   "cell_type": "code",
   "execution_count": 27,
   "id": "edfd710c-b21d-4dc4-b8e4-550235570768",
   "metadata": {},
   "outputs": [
    {
     "data": {
      "text/plain": [
       "((1, 283, 100, 3), (1, 36, 100, 3), (1, 35, 100, 3))"
      ]
     },
     "execution_count": 27,
     "metadata": {},
     "output_type": "execute_result"
    }
   ],
   "source": [
    "temp_train.shape, temp_val.shape, temp_test.shape"
   ]
  },
  {
   "cell_type": "markdown",
   "id": "203ec0ad-a35a-49df-8979-a32779c3ac13",
   "metadata": {},
   "source": [
    "### Split features/targets"
   ]
  },
  {
   "cell_type": "markdown",
   "id": "9e2f20f3-fe51-41f5-be9f-c74d32519787",
   "metadata": {},
   "source": [
    "Split out the targets in the temporal data."
   ]
  },
  {
   "cell_type": "code",
   "execution_count": 28,
   "id": "7a251574-2635-42db-b42e-3d8b77143b64",
   "metadata": {},
   "outputs": [
    {
     "data": {
      "text/plain": [
       "((1, 283, 99, 3), (1, 283, 1, 3))"
      ]
     },
     "execution_count": 28,
     "metadata": {},
     "output_type": "execute_result"
    }
   ],
   "source": [
    "temp_train_X, temp_train_y = temp_train.split_out(EVENT_NAME, [TARGET_NAME_PROCESSED])\n",
    "temp_train_X.shape, temp_train_y.shape"
   ]
  },
  {
   "cell_type": "code",
   "execution_count": 29,
   "id": "54795d9d-c2a4-4dd4-9ff9-d3927a0339a3",
   "metadata": {},
   "outputs": [
    {
     "data": {
      "text/plain": [
       "((1, 36, 99, 3), (1, 36, 1, 3))"
      ]
     },
     "execution_count": 29,
     "metadata": {},
     "output_type": "execute_result"
    }
   ],
   "source": [
    "temp_val_X, temp_val_y = temp_val.split_out(EVENT_NAME, [TARGET_NAME_PROCESSED])\n",
    "temp_val_X.shape, temp_val_y.shape"
   ]
  },
  {
   "cell_type": "code",
   "execution_count": 30,
   "id": "7857300c-e98e-4af3-89eb-4665e887c60c",
   "metadata": {},
   "outputs": [
    {
     "data": {
      "text/plain": [
       "((1, 35, 99, 3), (1, 35, 1, 3))"
      ]
     },
     "execution_count": 30,
     "metadata": {},
     "output_type": "execute_result"
    }
   ],
   "source": [
    "temp_test_X, temp_test_y = temp_test.split_out(EVENT_NAME, [TARGET_NAME_PROCESSED])\n",
    "temp_test_X.shape, temp_test_y.shape"
   ]
  },
  {
   "cell_type": "markdown",
   "id": "b45650c0-847e-4b13-974f-49f9b89cc5f3",
   "metadata": {},
   "source": [
    "### Normalization"
   ]
  },
  {
   "cell_type": "code",
   "execution_count": 31,
   "id": "47896217-2e2c-449b-9ac9-b3ce08028f91",
   "metadata": {},
   "outputs": [],
   "source": [
    "splits = tab_train_X, tab_val_X, tab_test_X\n",
    "\n",
    "for split in splits:\n",
    "    normalizer = VectorizedNormalizer(\n",
    "        split.get_axis(FEATURES),\n",
    "        normalizer_map={feat: STANDARD for feat in numeric_features},\n",
    "    )\n",
    "    split.add_normalizer(normalizer)\n",
    "    split.normalize()\n",
    "\n",
    "tab_train_X, tab_val_X, tab_test_X = splits"
   ]
  },
  {
   "cell_type": "code",
   "execution_count": 32,
   "id": "4fb15e16-71a4-46e5-b65b-6cf0d8258734",
   "metadata": {},
   "outputs": [],
   "source": [
    "# Only normalizing the inputs since the outputs are binary\n",
    "splits = temp_train_X, temp_val_X, temp_test_X\n",
    "\n",
    "for split in splits:\n",
    "    normalizer = VectorizedNormalizer(\n",
    "        split.get_axis(EVENT_NAME),\n",
    "        normalization_method=STANDARD,\n",
    "    )\n",
    "    split.add_normalizer(normalizer)\n",
    "    split.normalize()\n",
    "\n",
    "temp_train_X, temp_val_X, temp_test_X = splits"
   ]
  },
  {
   "cell_type": "code",
   "execution_count": 33,
   "id": "92bfc469-fd00-47df-b1cc-cb292d5b7239",
   "metadata": {},
   "outputs": [
    {
     "data": {
      "text/plain": [
       "('Percentage null:', 0.9948721609498995)"
      ]
     },
     "execution_count": 33,
     "metadata": {},
     "output_type": "execute_result"
    }
   ],
   "source": [
    "\"Percentage null:\", np.isnan(temp_train_X.data).sum() / temp_train_X.data.size"
   ]
  },
  {
   "cell_type": "markdown",
   "id": "e1c2c5b5-9979-4678-bead-ad42b547abfb",
   "metadata": {
    "tags": []
   },
   "source": [
    "## Save"
   ]
  },
  {
   "cell_type": "code",
   "execution_count": 34,
   "id": "9f88e2b1-373e-46c6-97ca-aabd2873fe9a",
   "metadata": {},
   "outputs": [
    {
     "name": "stderr",
     "output_type": "stream",
     "text": [
      "2022-07-18 15:28:08,592 \u001b[1;37mINFO\u001b[0m cyclops.utils.file - Saving array to tab_train_X.npy\n",
      "2022-07-18 15:28:08,593 \u001b[1;37mINFO\u001b[0m cyclops.utils.file - Saving array to tab_val_X.npy\n",
      "2022-07-18 15:28:08,594 \u001b[1;37mINFO\u001b[0m cyclops.utils.file - Saving array to tab_test_X.npy\n",
      "2022-07-18 15:28:08,595 \u001b[1;37mINFO\u001b[0m cyclops.utils.file - Saving array to temp_train_X.npy\n",
      "2022-07-18 15:28:08,596 \u001b[1;37mINFO\u001b[0m cyclops.utils.file - Saving array to temp_val_X.npy\n",
      "2022-07-18 15:28:08,597 \u001b[1;37mINFO\u001b[0m cyclops.utils.file - Saving array to temp_test_X.npy\n",
      "2022-07-18 15:28:08,597 \u001b[1;37mINFO\u001b[0m cyclops.utils.file - Saving array to temp_train_y.npy\n",
      "2022-07-18 15:28:08,598 \u001b[1;37mINFO\u001b[0m cyclops.utils.file - Saving array to temp_val_y.npy\n",
      "2022-07-18 15:28:08,599 \u001b[1;37mINFO\u001b[0m cyclops.utils.file - Saving array to temp_test_y.npy\n"
     ]
    },
    {
     "data": {
      "text/plain": [
       "'temp_test_y.npy'"
      ]
     },
     "execution_count": 34,
     "metadata": {},
     "output_type": "execute_result"
    }
   ],
   "source": [
    "tab_train_X.save(\"tab_train_X.npy\")\n",
    "tab_val_X.save(\"tab_val_X.npy\")\n",
    "tab_test_X.save(\"tab_test_X.npy\")\n",
    "\n",
    "temp_train_X.save(\"temp_train_X.npy\")\n",
    "temp_val_X.save(\"temp_val_X.npy\")\n",
    "temp_test_X.save(\"temp_test_X.npy\")\n",
    "\n",
    "temp_train_y.save(\"temp_train_y.npy\")\n",
    "temp_val_y.save(\"temp_val_y.npy\")\n",
    "temp_test_y.save(\"temp_test_y.npy\")"
   ]
  }
 ],
 "metadata": {
  "kernelspec": {
   "display_name": "cyclops-env",
   "language": "python",
   "name": "cyclops-env"
  },
  "language_info": {
   "codemirror_mode": {
    "name": "ipython",
    "version": 3
   },
   "file_extension": ".py",
   "mimetype": "text/x-python",
   "name": "python",
   "nbconvert_exporter": "python",
   "pygments_lexer": "ipython3",
   "version": "3.8.5"
  }
 },
 "nbformat": 4,
 "nbformat_minor": 5
}
