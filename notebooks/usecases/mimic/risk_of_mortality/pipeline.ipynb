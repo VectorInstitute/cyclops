{
 "cells": [
  {
   "cell_type": "code",
   "execution_count": 1,
   "id": "c8187b80-aa12-4c9b-97b2-83f83691d84d",
   "metadata": {},
   "outputs": [
    {
     "name": "stderr",
     "output_type": "stream",
     "text": [
      "2022-07-15 12:17:25,915 \u001b[1;37mINFO\u001b[0m cyclops.orm     - Database setup, ready to run queries!\n"
     ]
    }
   ],
   "source": [
    "import pickle\n",
    "\n",
    "import numpy as np\n",
    "import pandas as pd\n",
    "\n",
    "from cyclops.processors.aggregate import Aggregator\n",
    "from cyclops.processors.cleaning import (\n",
    "    normalize_categories,\n",
    "    normalize_names,\n",
    "    normalize_values,\n",
    ")\n",
    "from cyclops.processors.column_names import (\n",
    "    ADMIT_TIMESTAMP,\n",
    "    AGE,\n",
    "    CARE_UNIT,\n",
    "    DIAGNOSIS_CODE,\n",
    "    DIAGNOSIS_TRAJECTORY,\n",
    "    ENCOUNTER_ID,\n",
    "    EVENT_CATEGORY,\n",
    "    EVENT_NAME,\n",
    "    EVENT_TIMESTAMP,\n",
    "    EVENT_VALUE,\n",
    "    EVENT_VALUE_UNIT,\n",
    "    HOSPITAL_ID,\n",
    "    SEX,\n",
    "    SUBJECT_ID,\n",
    "    TIMESTEP,\n",
    "    YEAR,\n",
    ")\n",
    "from cyclops.processors.constants import (\n",
    "    BINARY,\n",
    "    BY,\n",
    "    CATEGORICAL_INDICATOR,\n",
    "    FEATURE_INDICATOR_ATTR,\n",
    "    FEATURE_MAPPING_ATTR,\n",
    "    FEATURE_TYPE_ATTR,\n",
    "    FEATURE_TYPES,\n",
    "    FEATURES,\n",
    "    MEAN,\n",
    "    MIN_MAX,\n",
    "    MISSING_CATEGORY,\n",
    "    NUMERIC,\n",
    "    ORDINAL,\n",
    "    STANDARD,\n",
    "    STRING,\n",
    "    TARGETS,\n",
    ")\n",
    "from cyclops.processors.feature.feature import TabularFeatures, TemporalFeatures\n",
    "from cyclops.processors.feature.normalization import VectorizedNormalizer\n",
    "from cyclops.processors.feature.split import split_idx\n",
    "from cyclops.query import mimic\n",
    "from cyclops.query import process as qp\n",
    "from cyclops.utils.common import print_dict\n",
    "from cyclops.utils.file import load_array, load_dataframe, save_dataframe"
   ]
  },
  {
   "cell_type": "code",
   "execution_count": 2,
   "id": "6e81b3cd-e787-4569-96a2-546ed9bc64ae",
   "metadata": {},
   "outputs": [],
   "source": [
    "YEARS = [2015, 2016, 2018, 2019, 2020]\n",
    "MIN_YEAR = min(YEARS)\n",
    "TARGET_NAME = \"death\""
   ]
  },
  {
   "cell_type": "markdown",
   "id": "ae51ff77-f449-470f-ad40-5cea2db2a3a8",
   "metadata": {
    "tags": []
   },
   "source": [
    "# Querying"
   ]
  },
  {
   "cell_type": "markdown",
   "id": "0d3412ae-a3a2-49b1-99d7-f13014cb3d35",
   "metadata": {},
   "source": [
    "## Patient encounters"
   ]
  },
  {
   "cell_type": "code",
   "execution_count": 3,
   "id": "fd7883ba-5319-4035-91fb-0128fb36821d",
   "metadata": {},
   "outputs": [
    {
     "name": "stderr",
     "output_type": "stream",
     "text": [
      "2022-07-15 12:17:28,317 \u001b[1;37mINFO\u001b[0m cyclops.orm     - Query returned successfully!\n",
      "2022-07-15 12:17:28,318 \u001b[1;37mINFO\u001b[0m cyclops.utils.profile - Finished executing function run_query in 2.349815 s\n"
     ]
    },
    {
     "data": {
      "text/html": [
       "<div>\n",
       "<style scoped>\n",
       "    .dataframe tbody tr th:only-of-type {\n",
       "        vertical-align: middle;\n",
       "    }\n",
       "\n",
       "    .dataframe tbody tr th {\n",
       "        vertical-align: top;\n",
       "    }\n",
       "\n",
       "    .dataframe thead th {\n",
       "        text-align: right;\n",
       "    }\n",
       "</style>\n",
       "<table border=\"1\" class=\"dataframe\">\n",
       "  <thead>\n",
       "    <tr style=\"text-align: right;\">\n",
       "      <th></th>\n",
       "      <th>subject_id</th>\n",
       "      <th>encounter_id</th>\n",
       "      <th>admit_timestamp</th>\n",
       "      <th>discharge_timestamp</th>\n",
       "      <th>deathtime</th>\n",
       "      <th>admission_type</th>\n",
       "      <th>admission_location</th>\n",
       "      <th>discharge_location</th>\n",
       "      <th>ethnicity</th>\n",
       "      <th>edregtime</th>\n",
       "      <th>edouttime</th>\n",
       "      <th>sex</th>\n",
       "      <th>age</th>\n",
       "      <th>birth_year</th>\n",
       "      <th>dod</th>\n",
       "      <th>anchor_year_difference</th>\n",
       "      <th>died</th>\n",
       "    </tr>\n",
       "  </thead>\n",
       "  <tbody>\n",
       "    <tr>\n",
       "      <th>0</th>\n",
       "      <td>16115393</td>\n",
       "      <td>21765983</td>\n",
       "      <td>2015-02-22 18:52:00</td>\n",
       "      <td>2015-03-05 10:10:00</td>\n",
       "      <td>NaT</td>\n",
       "      <td>ELECTIVE</td>\n",
       "      <td>None</td>\n",
       "      <td>HOME</td>\n",
       "      <td>UNKNOWN</td>\n",
       "      <td>NaT</td>\n",
       "      <td>NaT</td>\n",
       "      <td>M</td>\n",
       "      <td>0</td>\n",
       "      <td>2015</td>\n",
       "      <td>NaT</td>\n",
       "      <td>-157</td>\n",
       "      <td>False</td>\n",
       "    </tr>\n",
       "    <tr>\n",
       "      <th>1</th>\n",
       "      <td>18373085</td>\n",
       "      <td>24514056</td>\n",
       "      <td>2015-10-20 11:22:00</td>\n",
       "      <td>2015-10-23 12:40:00</td>\n",
       "      <td>NaT</td>\n",
       "      <td>ELECTIVE</td>\n",
       "      <td>None</td>\n",
       "      <td>HOME</td>\n",
       "      <td>WHITE</td>\n",
       "      <td>NaT</td>\n",
       "      <td>NaT</td>\n",
       "      <td>M</td>\n",
       "      <td>0</td>\n",
       "      <td>2015</td>\n",
       "      <td>NaT</td>\n",
       "      <td>-125</td>\n",
       "      <td>False</td>\n",
       "    </tr>\n",
       "    <tr>\n",
       "      <th>2</th>\n",
       "      <td>16591664</td>\n",
       "      <td>22764393</td>\n",
       "      <td>2015-03-02 04:41:00</td>\n",
       "      <td>2015-03-03 13:30:00</td>\n",
       "      <td>NaT</td>\n",
       "      <td>ELECTIVE</td>\n",
       "      <td>None</td>\n",
       "      <td>HOME</td>\n",
       "      <td>HISPANIC/LATINO</td>\n",
       "      <td>NaT</td>\n",
       "      <td>NaT</td>\n",
       "      <td>F</td>\n",
       "      <td>0</td>\n",
       "      <td>2015</td>\n",
       "      <td>NaT</td>\n",
       "      <td>-150</td>\n",
       "      <td>False</td>\n",
       "    </tr>\n",
       "    <tr>\n",
       "      <th>3</th>\n",
       "      <td>14083263</td>\n",
       "      <td>26476486</td>\n",
       "      <td>2015-01-28 02:01:00</td>\n",
       "      <td>2015-01-29 14:45:00</td>\n",
       "      <td>NaT</td>\n",
       "      <td>ELECTIVE</td>\n",
       "      <td>None</td>\n",
       "      <td>HOME</td>\n",
       "      <td>WHITE</td>\n",
       "      <td>NaT</td>\n",
       "      <td>NaT</td>\n",
       "      <td>M</td>\n",
       "      <td>0</td>\n",
       "      <td>2015</td>\n",
       "      <td>NaT</td>\n",
       "      <td>-101</td>\n",
       "      <td>False</td>\n",
       "    </tr>\n",
       "    <tr>\n",
       "      <th>4</th>\n",
       "      <td>12067589</td>\n",
       "      <td>23047540</td>\n",
       "      <td>2018-05-20 02:21:00</td>\n",
       "      <td>2018-05-22 11:57:00</td>\n",
       "      <td>NaT</td>\n",
       "      <td>ELECTIVE</td>\n",
       "      <td>None</td>\n",
       "      <td>HOME</td>\n",
       "      <td>ASIAN</td>\n",
       "      <td>NaT</td>\n",
       "      <td>NaT</td>\n",
       "      <td>M</td>\n",
       "      <td>0</td>\n",
       "      <td>2018</td>\n",
       "      <td>NaT</td>\n",
       "      <td>-124</td>\n",
       "      <td>False</td>\n",
       "    </tr>\n",
       "    <tr>\n",
       "      <th>...</th>\n",
       "      <td>...</td>\n",
       "      <td>...</td>\n",
       "      <td>...</td>\n",
       "      <td>...</td>\n",
       "      <td>...</td>\n",
       "      <td>...</td>\n",
       "      <td>...</td>\n",
       "      <td>...</td>\n",
       "      <td>...</td>\n",
       "      <td>...</td>\n",
       "      <td>...</td>\n",
       "      <td>...</td>\n",
       "      <td>...</td>\n",
       "      <td>...</td>\n",
       "      <td>...</td>\n",
       "      <td>...</td>\n",
       "      <td>...</td>\n",
       "    </tr>\n",
       "    <tr>\n",
       "      <th>224759</th>\n",
       "      <td>11601417</td>\n",
       "      <td>29160491</td>\n",
       "      <td>2015-05-23 00:00:00</td>\n",
       "      <td>2015-05-27 13:55:00</td>\n",
       "      <td>NaT</td>\n",
       "      <td>SURGICAL SAME DAY ADMISSION</td>\n",
       "      <td>PHYSICIAN REFERRAL</td>\n",
       "      <td>HOME</td>\n",
       "      <td>WHITE</td>\n",
       "      <td>NaT</td>\n",
       "      <td>NaT</td>\n",
       "      <td>F</td>\n",
       "      <td>55</td>\n",
       "      <td>1960</td>\n",
       "      <td>NaT</td>\n",
       "      <td>-117</td>\n",
       "      <td>False</td>\n",
       "    </tr>\n",
       "    <tr>\n",
       "      <th>224760</th>\n",
       "      <td>19139690</td>\n",
       "      <td>24101028</td>\n",
       "      <td>2018-06-24 02:05:00</td>\n",
       "      <td>2018-06-24 15:38:00</td>\n",
       "      <td>NaT</td>\n",
       "      <td>EU OBSERVATION</td>\n",
       "      <td>WALK-IN/SELF REFERRAL</td>\n",
       "      <td>HOME</td>\n",
       "      <td>WHITE</td>\n",
       "      <td>2174-06-23 23:56:00</td>\n",
       "      <td>2174-06-24 03:10:00</td>\n",
       "      <td>F</td>\n",
       "      <td>27</td>\n",
       "      <td>1991</td>\n",
       "      <td>NaT</td>\n",
       "      <td>-156</td>\n",
       "      <td>False</td>\n",
       "    </tr>\n",
       "    <tr>\n",
       "      <th>224761</th>\n",
       "      <td>10530550</td>\n",
       "      <td>27104238</td>\n",
       "      <td>2018-12-04 00:00:00</td>\n",
       "      <td>2018-12-08 10:40:00</td>\n",
       "      <td>NaT</td>\n",
       "      <td>SURGICAL SAME DAY ADMISSION</td>\n",
       "      <td>PHYSICIAN REFERRAL</td>\n",
       "      <td>HOME</td>\n",
       "      <td>WHITE</td>\n",
       "      <td>NaT</td>\n",
       "      <td>NaT</td>\n",
       "      <td>M</td>\n",
       "      <td>71</td>\n",
       "      <td>1947</td>\n",
       "      <td>NaT</td>\n",
       "      <td>-150</td>\n",
       "      <td>False</td>\n",
       "    </tr>\n",
       "    <tr>\n",
       "      <th>224762</th>\n",
       "      <td>10934846</td>\n",
       "      <td>20547990</td>\n",
       "      <td>2016-10-26 08:00:00</td>\n",
       "      <td>2016-10-28 17:47:00</td>\n",
       "      <td>NaT</td>\n",
       "      <td>SURGICAL SAME DAY ADMISSION</td>\n",
       "      <td>PHYSICIAN REFERRAL</td>\n",
       "      <td>HOME</td>\n",
       "      <td>WHITE</td>\n",
       "      <td>NaT</td>\n",
       "      <td>NaT</td>\n",
       "      <td>F</td>\n",
       "      <td>58</td>\n",
       "      <td>1958</td>\n",
       "      <td>NaT</td>\n",
       "      <td>-171</td>\n",
       "      <td>False</td>\n",
       "    </tr>\n",
       "    <tr>\n",
       "      <th>224763</th>\n",
       "      <td>11516863</td>\n",
       "      <td>26292668</td>\n",
       "      <td>2019-11-26 18:07:00</td>\n",
       "      <td>2019-12-10 18:47:00</td>\n",
       "      <td>NaT</td>\n",
       "      <td>OBSERVATION ADMIT</td>\n",
       "      <td>PHYSICIAN REFERRAL</td>\n",
       "      <td>CHRONIC/LONG TERM ACUTE CARE</td>\n",
       "      <td>WHITE</td>\n",
       "      <td>NaT</td>\n",
       "      <td>NaT</td>\n",
       "      <td>M</td>\n",
       "      <td>71</td>\n",
       "      <td>1948</td>\n",
       "      <td>NaT</td>\n",
       "      <td>-117</td>\n",
       "      <td>False</td>\n",
       "    </tr>\n",
       "  </tbody>\n",
       "</table>\n",
       "<p>224764 rows × 17 columns</p>\n",
       "</div>"
      ],
      "text/plain": [
       "        subject_id  encounter_id     admit_timestamp discharge_timestamp  \\\n",
       "0         16115393      21765983 2015-02-22 18:52:00 2015-03-05 10:10:00   \n",
       "1         18373085      24514056 2015-10-20 11:22:00 2015-10-23 12:40:00   \n",
       "2         16591664      22764393 2015-03-02 04:41:00 2015-03-03 13:30:00   \n",
       "3         14083263      26476486 2015-01-28 02:01:00 2015-01-29 14:45:00   \n",
       "4         12067589      23047540 2018-05-20 02:21:00 2018-05-22 11:57:00   \n",
       "...            ...           ...                 ...                 ...   \n",
       "224759    11601417      29160491 2015-05-23 00:00:00 2015-05-27 13:55:00   \n",
       "224760    19139690      24101028 2018-06-24 02:05:00 2018-06-24 15:38:00   \n",
       "224761    10530550      27104238 2018-12-04 00:00:00 2018-12-08 10:40:00   \n",
       "224762    10934846      20547990 2016-10-26 08:00:00 2016-10-28 17:47:00   \n",
       "224763    11516863      26292668 2019-11-26 18:07:00 2019-12-10 18:47:00   \n",
       "\n",
       "       deathtime               admission_type     admission_location  \\\n",
       "0            NaT                     ELECTIVE                   None   \n",
       "1            NaT                     ELECTIVE                   None   \n",
       "2            NaT                     ELECTIVE                   None   \n",
       "3            NaT                     ELECTIVE                   None   \n",
       "4            NaT                     ELECTIVE                   None   \n",
       "...          ...                          ...                    ...   \n",
       "224759       NaT  SURGICAL SAME DAY ADMISSION     PHYSICIAN REFERRAL   \n",
       "224760       NaT               EU OBSERVATION  WALK-IN/SELF REFERRAL   \n",
       "224761       NaT  SURGICAL SAME DAY ADMISSION     PHYSICIAN REFERRAL   \n",
       "224762       NaT  SURGICAL SAME DAY ADMISSION     PHYSICIAN REFERRAL   \n",
       "224763       NaT            OBSERVATION ADMIT     PHYSICIAN REFERRAL   \n",
       "\n",
       "                  discharge_location        ethnicity           edregtime  \\\n",
       "0                               HOME          UNKNOWN                 NaT   \n",
       "1                               HOME            WHITE                 NaT   \n",
       "2                               HOME  HISPANIC/LATINO                 NaT   \n",
       "3                               HOME            WHITE                 NaT   \n",
       "4                               HOME            ASIAN                 NaT   \n",
       "...                              ...              ...                 ...   \n",
       "224759                          HOME            WHITE                 NaT   \n",
       "224760                          HOME            WHITE 2174-06-23 23:56:00   \n",
       "224761                          HOME            WHITE                 NaT   \n",
       "224762                          HOME            WHITE                 NaT   \n",
       "224763  CHRONIC/LONG TERM ACUTE CARE            WHITE                 NaT   \n",
       "\n",
       "                 edouttime sex  age  birth_year dod  anchor_year_difference  \\\n",
       "0                      NaT   M    0        2015 NaT                    -157   \n",
       "1                      NaT   M    0        2015 NaT                    -125   \n",
       "2                      NaT   F    0        2015 NaT                    -150   \n",
       "3                      NaT   M    0        2015 NaT                    -101   \n",
       "4                      NaT   M    0        2018 NaT                    -124   \n",
       "...                    ...  ..  ...         ...  ..                     ...   \n",
       "224759                 NaT   F   55        1960 NaT                    -117   \n",
       "224760 2174-06-24 03:10:00   F   27        1991 NaT                    -156   \n",
       "224761                 NaT   M   71        1947 NaT                    -150   \n",
       "224762                 NaT   F   58        1958 NaT                    -171   \n",
       "224763                 NaT   M   71        1948 NaT                    -117   \n",
       "\n",
       "         died  \n",
       "0       False  \n",
       "1       False  \n",
       "2       False  \n",
       "3       False  \n",
       "4       False  \n",
       "...       ...  \n",
       "224759  False  \n",
       "224760  False  \n",
       "224761  False  \n",
       "224762  False  \n",
       "224763  False  \n",
       "\n",
       "[224764 rows x 17 columns]"
      ]
     },
     "execution_count": 3,
     "metadata": {},
     "output_type": "execute_result"
    }
   ],
   "source": [
    "encounters_interface = mimic.patient_encounters(\n",
    "    years=YEARS, died=True, died_binarize_col=\"died\"\n",
    ")\n",
    "encounters_query = encounters_interface.query\n",
    "encounters_query = qp.Drop(\n",
    "    [\"insurance\", \"language\", \"marital_status\", \"hospital_expire_flag\"]\n",
    ")(encounters_query)\n",
    "encounters_interface = mimic.get_interface(encounters_query)\n",
    "encounters = encounters_interface.run()\n",
    "encounters"
   ]
  },
  {
   "cell_type": "code",
   "execution_count": 4,
   "id": "e97d4889-d8ac-4648-b60c-3cdd18854567",
   "metadata": {},
   "outputs": [
    {
     "name": "stderr",
     "output_type": "stream",
     "text": [
      "2022-07-15 12:17:28,342 \u001b[1;37mINFO\u001b[0m cyclops.utils.file - Saving dataframe to encounters.parquet\n"
     ]
    },
    {
     "data": {
      "text/plain": [
       "'encounters.parquet'"
      ]
     },
     "execution_count": 4,
     "metadata": {},
     "output_type": "execute_result"
    }
   ],
   "source": [
    "save_dataframe(encounters, \"encounters.parquet\")"
   ]
  },
  {
   "cell_type": "markdown",
   "id": "a176f2de-f264-4253-ab11-da9017a4153c",
   "metadata": {},
   "source": [
    "## Events"
   ]
  },
  {
   "cell_type": "code",
   "execution_count": 5,
   "id": "9b7ba80d-da74-40bb-bb2a-9310bdd4356b",
   "metadata": {},
   "outputs": [
    {
     "name": "stderr",
     "output_type": "stream",
     "text": [
      "2022-07-15 12:17:33,181 \u001b[1;37mINFO\u001b[0m cyclops.orm     - Query returned successfully!\n",
      "2022-07-15 12:17:33,182 \u001b[1;37mINFO\u001b[0m cyclops.utils.profile - Finished executing function run_query in 4.530989 s\n"
     ]
    }
   ],
   "source": [
    "events_interface = mimic.events()\n",
    "events_query = events_interface.query\n",
    "events_query = qp.Drop([\"warning\", \"itemid\", \"storetime\"])(events_query)\n",
    "events_interface = mimic.get_interface(events_query)\n",
    "events = events_interface.run(limit=1000000)\n",
    "\n",
    "# Reverse the deidentified dating\n",
    "events = pd.merge(\n",
    "    encounters[[ENCOUNTER_ID, \"anchor_year_difference\"]], events, on=ENCOUNTER_ID\n",
    ")\n",
    "\n",
    "\n",
    "def add_offset(row):\n",
    "    row[EVENT_TIMESTAMP] += pd.DateOffset(years=row[\"anchor_year_difference\"])\n",
    "    return row\n",
    "\n",
    "\n",
    "events = events.apply(add_offset, axis=1)\n",
    "events = events.drop(\"anchor_year_difference\", axis=1)"
   ]
  },
  {
   "cell_type": "code",
   "execution_count": 6,
   "id": "3d7e4baf-d3d8-4863-97bc-af18fc035806",
   "metadata": {},
   "outputs": [
    {
     "data": {
      "text/html": [
       "<div>\n",
       "<style scoped>\n",
       "    .dataframe tbody tr th:only-of-type {\n",
       "        vertical-align: middle;\n",
       "    }\n",
       "\n",
       "    .dataframe tbody tr th {\n",
       "        vertical-align: top;\n",
       "    }\n",
       "\n",
       "    .dataframe thead th {\n",
       "        text-align: right;\n",
       "    }\n",
       "</style>\n",
       "<table border=\"1\" class=\"dataframe\">\n",
       "  <thead>\n",
       "    <tr style=\"text-align: right;\">\n",
       "      <th></th>\n",
       "      <th>encounter_id</th>\n",
       "      <th>event_timestamp</th>\n",
       "      <th>event_name</th>\n",
       "      <th>event_category</th>\n",
       "      <th>event_value</th>\n",
       "    </tr>\n",
       "  </thead>\n",
       "  <tbody>\n",
       "    <tr>\n",
       "      <th>1572</th>\n",
       "      <td>24947486</td>\n",
       "      <td>2015-06-14 17:45:00</td>\n",
       "      <td>death</td>\n",
       "      <td>targets</td>\n",
       "      <td>1</td>\n",
       "    </tr>\n",
       "    <tr>\n",
       "      <th>1595</th>\n",
       "      <td>25426484</td>\n",
       "      <td>2018-02-21 08:00:00</td>\n",
       "      <td>death</td>\n",
       "      <td>targets</td>\n",
       "      <td>1</td>\n",
       "    </tr>\n",
       "    <tr>\n",
       "      <th>1655</th>\n",
       "      <td>22176511</td>\n",
       "      <td>2018-11-30 22:50:00</td>\n",
       "      <td>death</td>\n",
       "      <td>targets</td>\n",
       "      <td>1</td>\n",
       "    </tr>\n",
       "    <tr>\n",
       "      <th>1672</th>\n",
       "      <td>29673314</td>\n",
       "      <td>2015-12-14 08:35:00</td>\n",
       "      <td>death</td>\n",
       "      <td>targets</td>\n",
       "      <td>1</td>\n",
       "    </tr>\n",
       "    <tr>\n",
       "      <th>1705</th>\n",
       "      <td>21444472</td>\n",
       "      <td>2015-03-02 00:00:00</td>\n",
       "      <td>death</td>\n",
       "      <td>targets</td>\n",
       "      <td>1</td>\n",
       "    </tr>\n",
       "  </tbody>\n",
       "</table>\n",
       "</div>"
      ],
      "text/plain": [
       "      encounter_id     event_timestamp event_name event_category  event_value\n",
       "1572      24947486 2015-06-14 17:45:00      death        targets            1\n",
       "1595      25426484 2018-02-21 08:00:00      death        targets            1\n",
       "1655      22176511 2018-11-30 22:50:00      death        targets            1\n",
       "1672      29673314 2015-12-14 08:35:00      death        targets            1\n",
       "1705      21444472 2015-03-02 00:00:00      death        targets            1"
      ]
     },
     "execution_count": 6,
     "metadata": {},
     "output_type": "execute_result"
    }
   ],
   "source": [
    "# Create the target as a timeseries event\n",
    "target_events = encounters[encounters[\"died\"] == True]\n",
    "target_events = target_events[[ENCOUNTER_ID, \"deathtime\"]]\n",
    "target_events = target_events.rename({\"deathtime\": EVENT_TIMESTAMP}, axis=1)\n",
    "target_events[EVENT_NAME] = TARGET_NAME\n",
    "target_events[EVENT_CATEGORY] = TARGETS\n",
    "target_events[EVENT_VALUE] = 1\n",
    "target_events.head(5)"
   ]
  },
  {
   "cell_type": "code",
   "execution_count": 7,
   "id": "74e6aca3-2a88-4bab-8a84-973bcdc36419",
   "metadata": {},
   "outputs": [],
   "source": [
    "# Include target\n",
    "events = pd.concat([events, target_events])"
   ]
  },
  {
   "cell_type": "code",
   "execution_count": 8,
   "id": "6c4a818d-7ed4-48a6-9530-b232eb91b420",
   "metadata": {},
   "outputs": [],
   "source": [
    "# Preprocessing\n",
    "events[EVENT_NAME] = normalize_names(events[EVENT_NAME])\n",
    "events[EVENT_CATEGORY] = normalize_categories(events[EVENT_CATEGORY])\n",
    "# events[EVENT_VALUE] = normalize_values(events[EVENT_VALUE])\n",
    "\n",
    "# Concatenate event name and category since some names are the same in\n",
    "# different categories, e.g., 'flow' for categories 'heartware' and 'ecmo'\n",
    "events[EVENT_NAME] = events[EVENT_CATEGORY] + \" - \" + events[EVENT_NAME]\n",
    "events.head(5)\n",
    "\n",
    "# Update target name having included the category\n",
    "TARGET_NAME = TARGETS + \" - \" + TARGET_NAME"
   ]
  },
  {
   "cell_type": "code",
   "execution_count": 9,
   "id": "a0dc2a25-f959-48f4-ad3b-4b95f940a8e5",
   "metadata": {},
   "outputs": [
    {
     "name": "stderr",
     "output_type": "stream",
     "text": [
      "2022-07-15 12:18:30,151 \u001b[1;37mINFO\u001b[0m cyclops.utils.file - Saving dataframe to events.parquet\n"
     ]
    },
    {
     "data": {
      "text/plain": [
       "'events.parquet'"
      ]
     },
     "execution_count": 9,
     "metadata": {},
     "output_type": "execute_result"
    }
   ],
   "source": [
    "save_dataframe(events, \"events.parquet\")"
   ]
  },
  {
   "cell_type": "markdown",
   "id": "b888f02b-a52b-4039-8d2b-c2994848b916",
   "metadata": {},
   "source": [
    "------------------------------------------------------------------------------------------------"
   ]
  },
  {
   "cell_type": "markdown",
   "id": "f2f8e387-33cf-4285-9a92-75c14eac4f18",
   "metadata": {
    "tags": []
   },
   "source": [
    "# Processing"
   ]
  },
  {
   "cell_type": "markdown",
   "id": "c40f9507-91bd-487f-a73d-0faccf54c7a6",
   "metadata": {
    "tags": []
   },
   "source": [
    "## Tabular"
   ]
  },
  {
   "cell_type": "code",
   "execution_count": 10,
   "id": "643ec42d-a118-46ac-99c3-a776e60e1a65",
   "metadata": {},
   "outputs": [
    {
     "name": "stderr",
     "output_type": "stream",
     "text": [
      "2022-07-15 12:18:30,450 \u001b[1;37mINFO\u001b[0m cyclops.utils.file - Loading DataFrame from encounters.parquet\n"
     ]
    },
    {
     "data": {
      "text/html": [
       "<div>\n",
       "<style scoped>\n",
       "    .dataframe tbody tr th:only-of-type {\n",
       "        vertical-align: middle;\n",
       "    }\n",
       "\n",
       "    .dataframe tbody tr th {\n",
       "        vertical-align: top;\n",
       "    }\n",
       "\n",
       "    .dataframe thead th {\n",
       "        text-align: right;\n",
       "    }\n",
       "</style>\n",
       "<table border=\"1\" class=\"dataframe\">\n",
       "  <thead>\n",
       "    <tr style=\"text-align: right;\">\n",
       "      <th></th>\n",
       "      <th>subject_id</th>\n",
       "      <th>encounter_id</th>\n",
       "      <th>admit_timestamp</th>\n",
       "      <th>discharge_timestamp</th>\n",
       "      <th>deathtime</th>\n",
       "      <th>admission_type</th>\n",
       "      <th>admission_location</th>\n",
       "      <th>discharge_location</th>\n",
       "      <th>ethnicity</th>\n",
       "      <th>edregtime</th>\n",
       "      <th>edouttime</th>\n",
       "      <th>sex</th>\n",
       "      <th>age</th>\n",
       "      <th>birth_year</th>\n",
       "      <th>dod</th>\n",
       "      <th>anchor_year_difference</th>\n",
       "      <th>died</th>\n",
       "    </tr>\n",
       "  </thead>\n",
       "  <tbody>\n",
       "    <tr>\n",
       "      <th>0</th>\n",
       "      <td>16115393</td>\n",
       "      <td>21765983</td>\n",
       "      <td>2015-02-22 18:52:00</td>\n",
       "      <td>2015-03-05 10:10:00</td>\n",
       "      <td>NaT</td>\n",
       "      <td>ELECTIVE</td>\n",
       "      <td>None</td>\n",
       "      <td>HOME</td>\n",
       "      <td>UNKNOWN</td>\n",
       "      <td>NaT</td>\n",
       "      <td>NaT</td>\n",
       "      <td>M</td>\n",
       "      <td>0</td>\n",
       "      <td>2015</td>\n",
       "      <td>NaT</td>\n",
       "      <td>-157</td>\n",
       "      <td>False</td>\n",
       "    </tr>\n",
       "    <tr>\n",
       "      <th>1</th>\n",
       "      <td>18373085</td>\n",
       "      <td>24514056</td>\n",
       "      <td>2015-10-20 11:22:00</td>\n",
       "      <td>2015-10-23 12:40:00</td>\n",
       "      <td>NaT</td>\n",
       "      <td>ELECTIVE</td>\n",
       "      <td>None</td>\n",
       "      <td>HOME</td>\n",
       "      <td>WHITE</td>\n",
       "      <td>NaT</td>\n",
       "      <td>NaT</td>\n",
       "      <td>M</td>\n",
       "      <td>0</td>\n",
       "      <td>2015</td>\n",
       "      <td>NaT</td>\n",
       "      <td>-125</td>\n",
       "      <td>False</td>\n",
       "    </tr>\n",
       "    <tr>\n",
       "      <th>2</th>\n",
       "      <td>16591664</td>\n",
       "      <td>22764393</td>\n",
       "      <td>2015-03-02 04:41:00</td>\n",
       "      <td>2015-03-03 13:30:00</td>\n",
       "      <td>NaT</td>\n",
       "      <td>ELECTIVE</td>\n",
       "      <td>None</td>\n",
       "      <td>HOME</td>\n",
       "      <td>HISPANIC/LATINO</td>\n",
       "      <td>NaT</td>\n",
       "      <td>NaT</td>\n",
       "      <td>F</td>\n",
       "      <td>0</td>\n",
       "      <td>2015</td>\n",
       "      <td>NaT</td>\n",
       "      <td>-150</td>\n",
       "      <td>False</td>\n",
       "    </tr>\n",
       "    <tr>\n",
       "      <th>3</th>\n",
       "      <td>14083263</td>\n",
       "      <td>26476486</td>\n",
       "      <td>2015-01-28 02:01:00</td>\n",
       "      <td>2015-01-29 14:45:00</td>\n",
       "      <td>NaT</td>\n",
       "      <td>ELECTIVE</td>\n",
       "      <td>None</td>\n",
       "      <td>HOME</td>\n",
       "      <td>WHITE</td>\n",
       "      <td>NaT</td>\n",
       "      <td>NaT</td>\n",
       "      <td>M</td>\n",
       "      <td>0</td>\n",
       "      <td>2015</td>\n",
       "      <td>NaT</td>\n",
       "      <td>-101</td>\n",
       "      <td>False</td>\n",
       "    </tr>\n",
       "    <tr>\n",
       "      <th>4</th>\n",
       "      <td>12067589</td>\n",
       "      <td>23047540</td>\n",
       "      <td>2018-05-20 02:21:00</td>\n",
       "      <td>2018-05-22 11:57:00</td>\n",
       "      <td>NaT</td>\n",
       "      <td>ELECTIVE</td>\n",
       "      <td>None</td>\n",
       "      <td>HOME</td>\n",
       "      <td>ASIAN</td>\n",
       "      <td>NaT</td>\n",
       "      <td>NaT</td>\n",
       "      <td>M</td>\n",
       "      <td>0</td>\n",
       "      <td>2018</td>\n",
       "      <td>NaT</td>\n",
       "      <td>-124</td>\n",
       "      <td>False</td>\n",
       "    </tr>\n",
       "  </tbody>\n",
       "</table>\n",
       "</div>"
      ],
      "text/plain": [
       "   subject_id  encounter_id     admit_timestamp discharge_timestamp deathtime  \\\n",
       "0    16115393      21765983 2015-02-22 18:52:00 2015-03-05 10:10:00       NaT   \n",
       "1    18373085      24514056 2015-10-20 11:22:00 2015-10-23 12:40:00       NaT   \n",
       "2    16591664      22764393 2015-03-02 04:41:00 2015-03-03 13:30:00       NaT   \n",
       "3    14083263      26476486 2015-01-28 02:01:00 2015-01-29 14:45:00       NaT   \n",
       "4    12067589      23047540 2018-05-20 02:21:00 2018-05-22 11:57:00       NaT   \n",
       "\n",
       "  admission_type admission_location discharge_location        ethnicity  \\\n",
       "0       ELECTIVE               None               HOME          UNKNOWN   \n",
       "1       ELECTIVE               None               HOME            WHITE   \n",
       "2       ELECTIVE               None               HOME  HISPANIC/LATINO   \n",
       "3       ELECTIVE               None               HOME            WHITE   \n",
       "4       ELECTIVE               None               HOME            ASIAN   \n",
       "\n",
       "  edregtime edouttime sex  age  birth_year dod  anchor_year_difference   died  \n",
       "0       NaT       NaT   M    0        2015 NaT                    -157  False  \n",
       "1       NaT       NaT   M    0        2015 NaT                    -125  False  \n",
       "2       NaT       NaT   F    0        2015 NaT                    -150  False  \n",
       "3       NaT       NaT   M    0        2015 NaT                    -101  False  \n",
       "4       NaT       NaT   M    0        2018 NaT                    -124  False  "
      ]
     },
     "execution_count": 10,
     "metadata": {},
     "output_type": "execute_result"
    }
   ],
   "source": [
    "encounters = load_dataframe(\"encounters.parquet\")\n",
    "encounters.head(5)"
   ]
  },
  {
   "cell_type": "code",
   "execution_count": 11,
   "id": "fb8aec10-040a-4a71-8433-40f9d6855dd5",
   "metadata": {},
   "outputs": [],
   "source": [
    "features = [\n",
    "    AGE,\n",
    "    SEX,\n",
    "    \"admission_type\",\n",
    "    \"admission_location\",\n",
    "    \"discharge_location\",\n",
    "    \"ethnicity\",\n",
    "]\n",
    "\n",
    "tab_features = TabularFeatures(\n",
    "    data=encounters,\n",
    "    features=features,\n",
    "    by=ENCOUNTER_ID,\n",
    ")"
   ]
  },
  {
   "cell_type": "code",
   "execution_count": 12,
   "id": "af949608-e0b8-4cdf-9e72-71e8b26eab18",
   "metadata": {},
   "outputs": [
    {
     "data": {
      "text/plain": [
       "{'admission_location': 'ordinal',\n",
       " 'age': 'numeric',\n",
       " 'discharge_location': 'ordinal',\n",
       " 'sex': 'binary',\n",
       " 'admission_type': 'ordinal',\n",
       " 'ethnicity': 'ordinal'}"
      ]
     },
     "execution_count": 12,
     "metadata": {},
     "output_type": "execute_result"
    }
   ],
   "source": [
    "tab_features.types"
   ]
  },
  {
   "cell_type": "code",
   "execution_count": 13,
   "id": "4ea328b2-e397-405a-a5b0-7bcaa4520aa6",
   "metadata": {},
   "outputs": [
    {
     "data": {
      "text/plain": [
       "{0: 'AMBULATORY SURGERY TRANSFER',\n",
       " 1: 'CLINIC REFERRAL',\n",
       " 2: 'EMERGENCY ROOM',\n",
       " 3: 'INFORMATION NOT AVAILABLE',\n",
       " 4: 'INTERNAL TRANSFER TO OR FROM PSYCH',\n",
       " 5: 'PACU',\n",
       " 6: 'PHYSICIAN REFERRAL',\n",
       " 7: 'PROCEDURE SITE',\n",
       " 8: 'TRANSFER FROM HOSPITAL',\n",
       " 9: 'TRANSFER FROM SKILLED NURSING FACILITY',\n",
       " 10: 'WALK-IN/SELF REFERRAL',\n",
       " 11: 'nan'}"
      ]
     },
     "execution_count": 13,
     "metadata": {},
     "output_type": "execute_result"
    }
   ],
   "source": [
    "tab_features.meta[\"admission_location\"].get_mapping()"
   ]
  },
  {
   "cell_type": "code",
   "execution_count": 14,
   "id": "b90115b1-3e5e-412c-ae3a-51e1f7d5607b",
   "metadata": {},
   "outputs": [
    {
     "data": {
      "text/plain": [
       "['admission_location', 'discharge_location', 'admission_type', 'ethnicity']"
      ]
     },
     "execution_count": 14,
     "metadata": {},
     "output_type": "execute_result"
    }
   ],
   "source": [
    "ordinal_features = tab_features.features_by_type(ORDINAL)\n",
    "ordinal_features"
   ]
  },
  {
   "cell_type": "code",
   "execution_count": 15,
   "id": "eda135bc-f0f6-4dd1-bb4e-91d96a24f44e",
   "metadata": {},
   "outputs": [
    {
     "name": "stderr",
     "output_type": "stream",
     "text": [
      "/home/kmckeen/gemini/cyclops/cyclops/processors/feature/feature.py:696: SettingWithCopyWarning: \n",
      "A value is trying to be set on a copy of a slice from a DataFrame.\n",
      "Try using .loc[row_indexer,col_indexer] = value instead\n",
      "\n",
      "See the caveats in the documentation: https://pandas.pydata.org/pandas-docs/stable/user_guide/indexing.html#returning-a-view-versus-a-copy\n",
      "  data[feat] = data[feat].replace(self.meta[feat].get_mapping())\n",
      "/home/kmckeen/gemini/cyclops/cyclops/processors/feature/feature.py:696: SettingWithCopyWarning: \n",
      "A value is trying to be set on a copy of a slice from a DataFrame.\n",
      "Try using .loc[row_indexer,col_indexer] = value instead\n",
      "\n",
      "See the caveats in the documentation: https://pandas.pydata.org/pandas-docs/stable/user_guide/indexing.html#returning-a-view-versus-a-copy\n",
      "  data[feat] = data[feat].replace(self.meta[feat].get_mapping())\n",
      "/home/kmckeen/gemini/cyclops/cyclops/processors/feature/feature.py:696: SettingWithCopyWarning: \n",
      "A value is trying to be set on a copy of a slice from a DataFrame.\n",
      "Try using .loc[row_indexer,col_indexer] = value instead\n",
      "\n",
      "See the caveats in the documentation: https://pandas.pydata.org/pandas-docs/stable/user_guide/indexing.html#returning-a-view-versus-a-copy\n",
      "  data[feat] = data[feat].replace(self.meta[feat].get_mapping())\n",
      "/home/kmckeen/gemini/cyclops/cyclops/processors/feature/feature.py:696: SettingWithCopyWarning: \n",
      "A value is trying to be set on a copy of a slice from a DataFrame.\n",
      "Try using .loc[row_indexer,col_indexer] = value instead\n",
      "\n",
      "See the caveats in the documentation: https://pandas.pydata.org/pandas-docs/stable/user_guide/indexing.html#returning-a-view-versus-a-copy\n",
      "  data[feat] = data[feat].replace(self.meta[feat].get_mapping())\n"
     ]
    }
   ],
   "source": [
    "tab_vectorized = tab_features.vectorize(to_binary_indicators=ordinal_features)"
   ]
  },
  {
   "cell_type": "code",
   "execution_count": 16,
   "id": "97a3a502-4d33-4380-92f6-3f345f5de00d",
   "metadata": {},
   "outputs": [
    {
     "data": {
      "text/plain": [
       "(224764, 43)"
      ]
     },
     "execution_count": 16,
     "metadata": {},
     "output_type": "execute_result"
    }
   ],
   "source": [
    "tab_vectorized.shape"
   ]
  },
  {
   "cell_type": "code",
   "execution_count": 17,
   "id": "7067bc7f-4da8-4d6e-bf1f-afa41c1590da",
   "metadata": {},
   "outputs": [
    {
     "data": {
      "text/plain": [
       "['encounter_id', 'features']"
      ]
     },
     "execution_count": 17,
     "metadata": {},
     "output_type": "execute_result"
    }
   ],
   "source": [
    "tab_vectorized.axis_names"
   ]
  },
  {
   "cell_type": "code",
   "execution_count": 18,
   "id": "fc3c5b93-4c7c-4f78-8194-43e7db08e8f6",
   "metadata": {},
   "outputs": [
    {
     "data": {
      "text/plain": [
       "array(['sex', 'age', 'admission_location_AMBULATORY SURGERY TRANSFER',\n",
       "       'admission_location_CLINIC REFERRAL',\n",
       "       'admission_location_EMERGENCY ROOM',\n",
       "       'admission_location_INFORMATION NOT AVAILABLE',\n",
       "       'admission_location_INTERNAL TRANSFER TO OR FROM PSYCH',\n",
       "       'admission_location_PACU', 'admission_location_PHYSICIAN REFERRAL',\n",
       "       'admission_location_PROCEDURE SITE',\n",
       "       'admission_location_TRANSFER FROM HOSPITAL',\n",
       "       'admission_location_TRANSFER FROM SKILLED NURSING FACILITY',\n",
       "       'admission_location_WALK-IN/SELF REFERRAL',\n",
       "       'discharge_location_ACUTE HOSPITAL',\n",
       "       'discharge_location_AGAINST ADVICE',\n",
       "       'discharge_location_ASSISTED LIVING',\n",
       "       'discharge_location_CHRONIC/LONG TERM ACUTE CARE',\n",
       "       'discharge_location_DIED',\n",
       "       'discharge_location_HEALTHCARE FACILITY',\n",
       "       'discharge_location_HOME', 'discharge_location_HOME HEALTH CARE',\n",
       "       'discharge_location_HOSPICE', 'discharge_location_OTHER FACILITY',\n",
       "       'discharge_location_PSYCH FACILITY', 'discharge_location_REHAB',\n",
       "       'discharge_location_SKILLED NURSING FACILITY',\n",
       "       'admission_type_AMBULATORY OBSERVATION',\n",
       "       'admission_type_DIRECT EMER.', 'admission_type_DIRECT OBSERVATION',\n",
       "       'admission_type_ELECTIVE', 'admission_type_EU OBSERVATION',\n",
       "       'admission_type_EW EMER.', 'admission_type_OBSERVATION ADMIT',\n",
       "       'admission_type_SURGICAL SAME DAY ADMISSION',\n",
       "       'admission_type_URGENT', 'ethnicity_AMERICAN INDIAN/ALASKA NATIVE',\n",
       "       'ethnicity_ASIAN', 'ethnicity_BLACK/AFRICAN AMERICAN',\n",
       "       'ethnicity_HISPANIC/LATINO', 'ethnicity_OTHER',\n",
       "       'ethnicity_UNABLE TO OBTAIN', 'ethnicity_UNKNOWN',\n",
       "       'ethnicity_WHITE'], dtype='<U57')"
      ]
     },
     "execution_count": 18,
     "metadata": {},
     "output_type": "execute_result"
    }
   ],
   "source": [
    "tab_vectorized.get_index(FEATURES)"
   ]
  },
  {
   "cell_type": "code",
   "execution_count": 19,
   "id": "3b976232-b3ff-4c82-bf41-67e7d8dcc7a1",
   "metadata": {},
   "outputs": [
    {
     "data": {
      "text/plain": [
       "['age']"
      ]
     },
     "execution_count": 19,
     "metadata": {},
     "output_type": "execute_result"
    }
   ],
   "source": [
    "numeric_features = tab_features.features_by_type(NUMERIC)\n",
    "numeric_features"
   ]
  },
  {
   "cell_type": "markdown",
   "id": "2187007a-7fc8-4c33-b60a-44cb05562c16",
   "metadata": {},
   "source": [
    "## Temporal"
   ]
  },
  {
   "cell_type": "code",
   "execution_count": 20,
   "id": "68644d5a-164a-41f4-8518-a8311afc348c",
   "metadata": {},
   "outputs": [
    {
     "name": "stderr",
     "output_type": "stream",
     "text": [
      "2022-07-15 12:18:31,917 \u001b[1;37mINFO\u001b[0m cyclops.utils.file - Loading DataFrame from events.parquet\n"
     ]
    },
    {
     "data": {
      "text/html": [
       "<div>\n",
       "<style scoped>\n",
       "    .dataframe tbody tr th:only-of-type {\n",
       "        vertical-align: middle;\n",
       "    }\n",
       "\n",
       "    .dataframe tbody tr th {\n",
       "        vertical-align: top;\n",
       "    }\n",
       "\n",
       "    .dataframe thead th {\n",
       "        text-align: right;\n",
       "    }\n",
       "</style>\n",
       "<table border=\"1\" class=\"dataframe\">\n",
       "  <thead>\n",
       "    <tr style=\"text-align: right;\">\n",
       "      <th></th>\n",
       "      <th>encounter_id</th>\n",
       "      <th>subject_id</th>\n",
       "      <th>stay_id</th>\n",
       "      <th>event_timestamp</th>\n",
       "      <th>value</th>\n",
       "      <th>event_value</th>\n",
       "      <th>event_value_unit</th>\n",
       "      <th>event_category</th>\n",
       "      <th>event_name</th>\n",
       "    </tr>\n",
       "  </thead>\n",
       "  <tbody>\n",
       "    <tr>\n",
       "      <th>409643</th>\n",
       "      <td>26145732</td>\n",
       "      <td>16454295.0</td>\n",
       "      <td>33444947.0</td>\n",
       "      <td>2015-04-07 08:00:00</td>\n",
       "      <td>Strong</td>\n",
       "      <td>NaN</td>\n",
       "      <td>None</td>\n",
       "      <td>pulmonary</td>\n",
       "      <td>pulmonary - cough effort</td>\n",
       "    </tr>\n",
       "    <tr>\n",
       "      <th>455523</th>\n",
       "      <td>21282089</td>\n",
       "      <td>16486338.0</td>\n",
       "      <td>38142994.0</td>\n",
       "      <td>2018-10-30 02:00:00</td>\n",
       "      <td>Adequate lighting</td>\n",
       "      <td>NaN</td>\n",
       "      <td>None</td>\n",
       "      <td>restraint/support systems</td>\n",
       "      <td>restraint/support systems - less restrictive m...</td>\n",
       "    </tr>\n",
       "    <tr>\n",
       "      <th>279048</th>\n",
       "      <td>24502012</td>\n",
       "      <td>16481227.0</td>\n",
       "      <td>31419485.0</td>\n",
       "      <td>2018-01-05 02:00:00</td>\n",
       "      <td>No</td>\n",
       "      <td>NaN</td>\n",
       "      <td>None</td>\n",
       "      <td>pain/sedation</td>\n",
       "      <td>pain/sedation - pain present</td>\n",
       "    </tr>\n",
       "    <tr>\n",
       "      <th>531267</th>\n",
       "      <td>22514759</td>\n",
       "      <td>16528460.0</td>\n",
       "      <td>33558202.0</td>\n",
       "      <td>2019-08-12 10:00:00</td>\n",
       "      <td>Calm</td>\n",
       "      <td>NaN</td>\n",
       "      <td>None</td>\n",
       "      <td>restraint/support systems</td>\n",
       "      <td>restraint/support systems - status and comfort</td>\n",
       "    </tr>\n",
       "    <tr>\n",
       "      <th>401443</th>\n",
       "      <td>23267387</td>\n",
       "      <td>16528873.0</td>\n",
       "      <td>33747740.0</td>\n",
       "      <td>2020-12-22 20:00:00</td>\n",
       "      <td>Heel/Elbow Pads</td>\n",
       "      <td>NaN</td>\n",
       "      <td>None</td>\n",
       "      <td>treatments</td>\n",
       "      <td>treatments - pressure reducing device</td>\n",
       "    </tr>\n",
       "  </tbody>\n",
       "</table>\n",
       "</div>"
      ],
      "text/plain": [
       "        encounter_id  subject_id     stay_id     event_timestamp  \\\n",
       "409643      26145732  16454295.0  33444947.0 2015-04-07 08:00:00   \n",
       "455523      21282089  16486338.0  38142994.0 2018-10-30 02:00:00   \n",
       "279048      24502012  16481227.0  31419485.0 2018-01-05 02:00:00   \n",
       "531267      22514759  16528460.0  33558202.0 2019-08-12 10:00:00   \n",
       "401443      23267387  16528873.0  33747740.0 2020-12-22 20:00:00   \n",
       "\n",
       "                    value  event_value event_value_unit  \\\n",
       "409643             Strong          NaN             None   \n",
       "455523  Adequate lighting          NaN             None   \n",
       "279048                 No          NaN             None   \n",
       "531267               Calm          NaN             None   \n",
       "401443    Heel/Elbow Pads          NaN             None   \n",
       "\n",
       "                   event_category  \\\n",
       "409643                  pulmonary   \n",
       "455523  restraint/support systems   \n",
       "279048              pain/sedation   \n",
       "531267  restraint/support systems   \n",
       "401443                 treatments   \n",
       "\n",
       "                                               event_name  \n",
       "409643                           pulmonary - cough effort  \n",
       "455523  restraint/support systems - less restrictive m...  \n",
       "279048                       pain/sedation - pain present  \n",
       "531267     restraint/support systems - status and comfort  \n",
       "401443              treatments - pressure reducing device  "
      ]
     },
     "execution_count": 20,
     "metadata": {},
     "output_type": "execute_result"
    }
   ],
   "source": [
    "events = load_dataframe(\"events.parquet\")\n",
    "\n",
    "events = events.sample(n=int(len(events) / 20))\n",
    "\n",
    "events.head(5)"
   ]
  },
  {
   "cell_type": "code",
   "execution_count": 21,
   "id": "25abf281-268e-4a0e-812e-e7279e65a720",
   "metadata": {},
   "outputs": [
    {
     "data": {
      "text/html": [
       "<div>\n",
       "<style scoped>\n",
       "    .dataframe tbody tr th:only-of-type {\n",
       "        vertical-align: middle;\n",
       "    }\n",
       "\n",
       "    .dataframe tbody tr th {\n",
       "        vertical-align: top;\n",
       "    }\n",
       "\n",
       "    .dataframe thead th {\n",
       "        text-align: right;\n",
       "    }\n",
       "</style>\n",
       "<table border=\"1\" class=\"dataframe\">\n",
       "  <thead>\n",
       "    <tr style=\"text-align: right;\">\n",
       "      <th></th>\n",
       "      <th>encounter_id</th>\n",
       "      <th>subject_id</th>\n",
       "      <th>stay_id</th>\n",
       "      <th>event_timestamp</th>\n",
       "      <th>value</th>\n",
       "      <th>event_value</th>\n",
       "      <th>event_value_unit</th>\n",
       "      <th>event_category</th>\n",
       "      <th>event_name</th>\n",
       "    </tr>\n",
       "  </thead>\n",
       "  <tbody>\n",
       "    <tr>\n",
       "      <th>409643</th>\n",
       "      <td>26145732</td>\n",
       "      <td>16454295.0</td>\n",
       "      <td>33444947.0</td>\n",
       "      <td>2015-04-07 08:00:00</td>\n",
       "      <td>Strong</td>\n",
       "      <td>NaN</td>\n",
       "      <td>None</td>\n",
       "      <td>pulmonary</td>\n",
       "      <td>pulmonary - cough effort</td>\n",
       "    </tr>\n",
       "    <tr>\n",
       "      <th>455523</th>\n",
       "      <td>21282089</td>\n",
       "      <td>16486338.0</td>\n",
       "      <td>38142994.0</td>\n",
       "      <td>2018-10-30 02:00:00</td>\n",
       "      <td>Adequate lighting</td>\n",
       "      <td>NaN</td>\n",
       "      <td>None</td>\n",
       "      <td>restraint/support systems</td>\n",
       "      <td>restraint/support systems - less restrictive m...</td>\n",
       "    </tr>\n",
       "    <tr>\n",
       "      <th>279048</th>\n",
       "      <td>24502012</td>\n",
       "      <td>16481227.0</td>\n",
       "      <td>31419485.0</td>\n",
       "      <td>2018-01-05 02:00:00</td>\n",
       "      <td>No</td>\n",
       "      <td>NaN</td>\n",
       "      <td>None</td>\n",
       "      <td>pain/sedation</td>\n",
       "      <td>pain/sedation - pain present</td>\n",
       "    </tr>\n",
       "    <tr>\n",
       "      <th>531267</th>\n",
       "      <td>22514759</td>\n",
       "      <td>16528460.0</td>\n",
       "      <td>33558202.0</td>\n",
       "      <td>2019-08-12 10:00:00</td>\n",
       "      <td>Calm</td>\n",
       "      <td>NaN</td>\n",
       "      <td>None</td>\n",
       "      <td>restraint/support systems</td>\n",
       "      <td>restraint/support systems - status and comfort</td>\n",
       "    </tr>\n",
       "    <tr>\n",
       "      <th>401443</th>\n",
       "      <td>23267387</td>\n",
       "      <td>16528873.0</td>\n",
       "      <td>33747740.0</td>\n",
       "      <td>2020-12-22 20:00:00</td>\n",
       "      <td>Heel/Elbow Pads</td>\n",
       "      <td>NaN</td>\n",
       "      <td>None</td>\n",
       "      <td>treatments</td>\n",
       "      <td>treatments - pressure reducing device</td>\n",
       "    </tr>\n",
       "  </tbody>\n",
       "</table>\n",
       "</div>"
      ],
      "text/plain": [
       "        encounter_id  subject_id     stay_id     event_timestamp  \\\n",
       "409643      26145732  16454295.0  33444947.0 2015-04-07 08:00:00   \n",
       "455523      21282089  16486338.0  38142994.0 2018-10-30 02:00:00   \n",
       "279048      24502012  16481227.0  31419485.0 2018-01-05 02:00:00   \n",
       "531267      22514759  16528460.0  33558202.0 2019-08-12 10:00:00   \n",
       "401443      23267387  16528873.0  33747740.0 2020-12-22 20:00:00   \n",
       "\n",
       "                    value  event_value event_value_unit  \\\n",
       "409643             Strong          NaN             None   \n",
       "455523  Adequate lighting          NaN             None   \n",
       "279048                 No          NaN             None   \n",
       "531267               Calm          NaN             None   \n",
       "401443    Heel/Elbow Pads          NaN             None   \n",
       "\n",
       "                   event_category  \\\n",
       "409643                  pulmonary   \n",
       "455523  restraint/support systems   \n",
       "279048              pain/sedation   \n",
       "531267  restraint/support systems   \n",
       "401443                 treatments   \n",
       "\n",
       "                                               event_name  \n",
       "409643                           pulmonary - cough effort  \n",
       "455523  restraint/support systems - less restrictive m...  \n",
       "279048                       pain/sedation - pain present  \n",
       "531267     restraint/support systems - status and comfort  \n",
       "401443              treatments - pressure reducing device  "
      ]
     },
     "execution_count": 21,
     "metadata": {},
     "output_type": "execute_result"
    }
   ],
   "source": [
    "# Keep only the most popular events\n",
    "top_events = events[EVENT_NAME].value_counts()[:100].index\n",
    "\n",
    "# Force include the target\n",
    "top_events = np.unique(np.append(top_events, TARGET_NAME))\n",
    "\n",
    "events = events[events[EVENT_NAME].isin(top_events)]\n",
    "events.head(5)"
   ]
  },
  {
   "cell_type": "code",
   "execution_count": 22,
   "id": "119a48d5-8891-4026-bd74-25a8037f8cf5",
   "metadata": {},
   "outputs": [
    {
     "data": {
      "text/html": [
       "<div>\n",
       "<style scoped>\n",
       "    .dataframe tbody tr th:only-of-type {\n",
       "        vertical-align: middle;\n",
       "    }\n",
       "\n",
       "    .dataframe tbody tr th {\n",
       "        vertical-align: top;\n",
       "    }\n",
       "\n",
       "    .dataframe thead th {\n",
       "        text-align: right;\n",
       "    }\n",
       "</style>\n",
       "<table border=\"1\" class=\"dataframe\">\n",
       "  <thead>\n",
       "    <tr style=\"text-align: right;\">\n",
       "      <th></th>\n",
       "      <th>encounter_id</th>\n",
       "      <th>subject_id</th>\n",
       "      <th>stay_id</th>\n",
       "      <th>event_timestamp</th>\n",
       "      <th>value</th>\n",
       "      <th>event_value</th>\n",
       "      <th>event_value_unit</th>\n",
       "      <th>event_category</th>\n",
       "      <th>event_name</th>\n",
       "    </tr>\n",
       "  </thead>\n",
       "  <tbody>\n",
       "    <tr>\n",
       "      <th>19294</th>\n",
       "      <td>24531789</td>\n",
       "      <td>NaN</td>\n",
       "      <td>NaN</td>\n",
       "      <td>2018-12-17 21:54:00</td>\n",
       "      <td>None</td>\n",
       "      <td>1.0</td>\n",
       "      <td>None</td>\n",
       "      <td>targets</td>\n",
       "      <td>targets - death</td>\n",
       "    </tr>\n",
       "    <tr>\n",
       "      <th>93956</th>\n",
       "      <td>24340569</td>\n",
       "      <td>NaN</td>\n",
       "      <td>NaN</td>\n",
       "      <td>2015-11-30 19:50:00</td>\n",
       "      <td>None</td>\n",
       "      <td>1.0</td>\n",
       "      <td>None</td>\n",
       "      <td>targets</td>\n",
       "      <td>targets - death</td>\n",
       "    </tr>\n",
       "    <tr>\n",
       "      <th>221526</th>\n",
       "      <td>23596983</td>\n",
       "      <td>NaN</td>\n",
       "      <td>NaN</td>\n",
       "      <td>2015-06-29 10:50:00</td>\n",
       "      <td>None</td>\n",
       "      <td>1.0</td>\n",
       "      <td>None</td>\n",
       "      <td>targets</td>\n",
       "      <td>targets - death</td>\n",
       "    </tr>\n",
       "    <tr>\n",
       "      <th>147295</th>\n",
       "      <td>22270906</td>\n",
       "      <td>NaN</td>\n",
       "      <td>NaN</td>\n",
       "      <td>2015-04-29 16:25:00</td>\n",
       "      <td>None</td>\n",
       "      <td>1.0</td>\n",
       "      <td>None</td>\n",
       "      <td>targets</td>\n",
       "      <td>targets - death</td>\n",
       "    </tr>\n",
       "    <tr>\n",
       "      <th>117537</th>\n",
       "      <td>28992436</td>\n",
       "      <td>NaN</td>\n",
       "      <td>NaN</td>\n",
       "      <td>2015-10-31 09:42:00</td>\n",
       "      <td>None</td>\n",
       "      <td>1.0</td>\n",
       "      <td>None</td>\n",
       "      <td>targets</td>\n",
       "      <td>targets - death</td>\n",
       "    </tr>\n",
       "  </tbody>\n",
       "</table>\n",
       "</div>"
      ],
      "text/plain": [
       "        encounter_id  subject_id  stay_id     event_timestamp value  \\\n",
       "19294       24531789         NaN      NaN 2018-12-17 21:54:00  None   \n",
       "93956       24340569         NaN      NaN 2015-11-30 19:50:00  None   \n",
       "221526      23596983         NaN      NaN 2015-06-29 10:50:00  None   \n",
       "147295      22270906         NaN      NaN 2015-04-29 16:25:00  None   \n",
       "117537      28992436         NaN      NaN 2015-10-31 09:42:00  None   \n",
       "\n",
       "        event_value event_value_unit event_category       event_name  \n",
       "19294           1.0             None        targets  targets - death  \n",
       "93956           1.0             None        targets  targets - death  \n",
       "221526          1.0             None        targets  targets - death  \n",
       "147295          1.0             None        targets  targets - death  \n",
       "117537          1.0             None        targets  targets - death  "
      ]
     },
     "execution_count": 22,
     "metadata": {},
     "output_type": "execute_result"
    }
   ],
   "source": [
    "events[events[EVENT_NAME] == TARGET_NAME].head(5)"
   ]
  },
  {
   "cell_type": "code",
   "execution_count": 23,
   "id": "06cc13d7-dd6c-44d9-93c6-0b903b84743a",
   "metadata": {},
   "outputs": [],
   "source": [
    "aggregator = Aggregator(\n",
    "    aggfuncs={EVENT_VALUE: MEAN},\n",
    "    timestamp_col=EVENT_TIMESTAMP,\n",
    "    time_by=ENCOUNTER_ID,\n",
    "    agg_by=[ENCOUNTER_ID, EVENT_NAME],\n",
    "    timestep_size=8,\n",
    "    window_duration=24,  # Optional\n",
    "    # agg_meta_for=EVENT_VALUE,  # Optional\n",
    ")"
   ]
  },
  {
   "cell_type": "code",
   "execution_count": 24,
   "id": "693f41c4-aa52-4770-a39c-1c77a9b0c03b",
   "metadata": {},
   "outputs": [],
   "source": [
    "events = events.reset_index(drop=True)\n",
    "\n",
    "tmp_features = TemporalFeatures(\n",
    "    events,\n",
    "    features=EVENT_VALUE,\n",
    "    by=[ENCOUNTER_ID, EVENT_NAME],\n",
    "    timestamp_col=EVENT_TIMESTAMP,\n",
    "    aggregator=aggregator,\n",
    ")"
   ]
  },
  {
   "cell_type": "code",
   "execution_count": 25,
   "id": "afa902f2-6213-4e7d-8ae6-b9c926aa232a",
   "metadata": {},
   "outputs": [
    {
     "name": "stderr",
     "output_type": "stream",
     "text": [
      "2022-07-15 12:18:32,208 \u001b[1;37mINFO\u001b[0m cyclops.processors.cleaning - Dropped nulls over columns: event_timestamp. Removed 3 rows.\n",
      "2022-07-15 12:18:35,858 \u001b[1;37mINFO\u001b[0m cyclops.utils.profile - Finished executing function __call__ in 3.653941 s\n"
     ]
    },
    {
     "data": {
      "text/html": [
       "<div>\n",
       "<style scoped>\n",
       "    .dataframe tbody tr th:only-of-type {\n",
       "        vertical-align: middle;\n",
       "    }\n",
       "\n",
       "    .dataframe tbody tr th {\n",
       "        vertical-align: top;\n",
       "    }\n",
       "\n",
       "    .dataframe thead th {\n",
       "        text-align: right;\n",
       "    }\n",
       "</style>\n",
       "<table border=\"1\" class=\"dataframe\">\n",
       "  <thead>\n",
       "    <tr style=\"text-align: right;\">\n",
       "      <th></th>\n",
       "      <th></th>\n",
       "      <th></th>\n",
       "      <th>event_value</th>\n",
       "      <th>timestep_start</th>\n",
       "    </tr>\n",
       "    <tr>\n",
       "      <th>encounter_id</th>\n",
       "      <th>event_name</th>\n",
       "      <th>timestep</th>\n",
       "      <th></th>\n",
       "      <th></th>\n",
       "    </tr>\n",
       "  </thead>\n",
       "  <tbody>\n",
       "    <tr>\n",
       "      <th>20020590</th>\n",
       "      <th>targets - death</th>\n",
       "      <th>0</th>\n",
       "      <td>1.0</td>\n",
       "      <td>2015-11-19 18:00:00</td>\n",
       "    </tr>\n",
       "    <tr>\n",
       "      <th rowspan=\"4\" valign=\"top\">20068018</th>\n",
       "      <th>routine vital signs - temperature site</th>\n",
       "      <th>0</th>\n",
       "      <td>NaN</td>\n",
       "      <td>2015-07-21 20:53:00</td>\n",
       "    </tr>\n",
       "    <tr>\n",
       "      <th>restraint/support systems - side rails</th>\n",
       "      <th>0</th>\n",
       "      <td>NaN</td>\n",
       "      <td>2015-07-21 20:53:00</td>\n",
       "    </tr>\n",
       "    <tr>\n",
       "      <th>routine vital signs - ectopy type 1</th>\n",
       "      <th>2</th>\n",
       "      <td>NaN</td>\n",
       "      <td>2015-07-22 12:53:00</td>\n",
       "    </tr>\n",
       "    <tr>\n",
       "      <th>treatments - activity tolerance</th>\n",
       "      <th>1</th>\n",
       "      <td>NaN</td>\n",
       "      <td>2015-07-22 04:53:00</td>\n",
       "    </tr>\n",
       "  </tbody>\n",
       "</table>\n",
       "</div>"
      ],
      "text/plain": [
       "                                                              event_value  \\\n",
       "encounter_id event_name                             timestep                \n",
       "20020590     targets - death                        0                 1.0   \n",
       "20068018     routine vital signs - temperature site 0                 NaN   \n",
       "             restraint/support systems - side rails 0                 NaN   \n",
       "             routine vital signs - ectopy type 1    2                 NaN   \n",
       "             treatments - activity tolerance        1                 NaN   \n",
       "\n",
       "                                                                  timestep_start  \n",
       "encounter_id event_name                             timestep                      \n",
       "20020590     targets - death                        0        2015-11-19 18:00:00  \n",
       "20068018     routine vital signs - temperature site 0        2015-07-21 20:53:00  \n",
       "             restraint/support systems - side rails 0        2015-07-21 20:53:00  \n",
       "             routine vital signs - ectopy type 1    2        2015-07-22 12:53:00  \n",
       "             treatments - activity tolerance        1        2015-07-22 04:53:00  "
      ]
     },
     "execution_count": 25,
     "metadata": {},
     "output_type": "execute_result"
    }
   ],
   "source": [
    "aggregated = tmp_features.aggregate()\n",
    "aggregated.head(5)"
   ]
  },
  {
   "cell_type": "code",
   "execution_count": 26,
   "id": "354403e4-a1cc-4d1f-be4c-e96db62802cf",
   "metadata": {},
   "outputs": [
    {
     "name": "stderr",
     "output_type": "stream",
     "text": [
      "2022-07-15 12:18:35,868 \u001b[1;37mINFO\u001b[0m cyclops.utils.file - Saving dataframe to aggregated.parquet\n"
     ]
    },
    {
     "data": {
      "text/plain": [
       "'aggregated.parquet'"
      ]
     },
     "execution_count": 26,
     "metadata": {},
     "output_type": "execute_result"
    }
   ],
   "source": [
    "save_dataframe(aggregated, \"aggregated.parquet\")"
   ]
  },
  {
   "cell_type": "code",
   "execution_count": 27,
   "id": "4a9587b3-b4a1-42a1-ab75-3b248227dcb7",
   "metadata": {},
   "outputs": [
    {
     "name": "stderr",
     "output_type": "stream",
     "text": [
      "2022-07-15 12:18:36,580 \u001b[1;37mINFO\u001b[0m cyclops.utils.profile - Finished executing function vectorize in 0.696335 s\n"
     ]
    },
    {
     "data": {
      "text/plain": [
       "(1, 346, 100, 3)"
      ]
     },
     "execution_count": 27,
     "metadata": {},
     "output_type": "execute_result"
    }
   ],
   "source": [
    "temp_vectorized = aggregator.vectorize(aggregated)\n",
    "temp_vectorized.shape"
   ]
  },
  {
   "cell_type": "code",
   "execution_count": 28,
   "id": "aa840bb6-043c-466d-8ff1-0418a3ccd394",
   "metadata": {},
   "outputs": [
    {
     "data": {
      "text/plain": [
       "['aggfuncs', 'encounter_id', 'event_name', 'timesteps']"
      ]
     },
     "execution_count": 28,
     "metadata": {},
     "output_type": "execute_result"
    }
   ],
   "source": [
    "temp_vectorized.axis_names"
   ]
  },
  {
   "cell_type": "markdown",
   "id": "53cbd66e-a84b-49e3-b8fa-50f31ca082b9",
   "metadata": {},
   "source": [
    "## Dataset splits"
   ]
  },
  {
   "cell_type": "markdown",
   "id": "5d0eaa25-0014-4212-b2ae-794cd70e915d",
   "metadata": {},
   "source": [
    "Take only the encounters available in all of the datasets and align the datasets over encounters."
   ]
  },
  {
   "cell_type": "code",
   "execution_count": 29,
   "id": "e3cbaaec-e7fc-4fcd-a9cb-135c88c2df82",
   "metadata": {},
   "outputs": [],
   "source": [
    "tab_encounters = set(tab_vectorized.get_index(ENCOUNTER_ID))\n",
    "temp_encounters = set(temp_vectorized.get_index(ENCOUNTER_ID))\n",
    "encounters_intersection = np.array(list(tab_encounters.intersection(temp_encounters)))"
   ]
  },
  {
   "cell_type": "code",
   "execution_count": 30,
   "id": "d84b8bc5-70da-4605-9bf8-6ce3966553e1",
   "metadata": {},
   "outputs": [],
   "source": [
    "tab_vectorized = tab_vectorized.take_with_index(ENCOUNTER_ID, encounters_intersection)\n",
    "temp_vectorized = temp_vectorized.take_with_index(ENCOUNTER_ID, encounters_intersection)"
   ]
  },
  {
   "cell_type": "code",
   "execution_count": 31,
   "id": "b908070c-83cc-4e90-88ca-52a091e0b318",
   "metadata": {},
   "outputs": [
    {
     "data": {
      "text/plain": [
       "(346, 43)"
      ]
     },
     "execution_count": 31,
     "metadata": {},
     "output_type": "execute_result"
    }
   ],
   "source": [
    "tab_vectorized.shape"
   ]
  },
  {
   "cell_type": "code",
   "execution_count": 32,
   "id": "16026f4f-0618-438a-9146-af446c71c788",
   "metadata": {},
   "outputs": [
    {
     "data": {
      "text/plain": [
       "(1, 346, 100, 3)"
      ]
     },
     "execution_count": 32,
     "metadata": {},
     "output_type": "execute_result"
    }
   ],
   "source": [
    "temp_vectorized.shape"
   ]
  },
  {
   "cell_type": "markdown",
   "id": "839995aa-40cb-449c-a057-ad7719998ecf",
   "metadata": {},
   "source": [
    "Split into training, validation, and testing datasets.\n",
    "\n",
    "Split using the same indices such that the tabular and temporal datasets remain aligned."
   ]
  },
  {
   "cell_type": "code",
   "execution_count": 33,
   "id": "876152f9-555f-4f4a-8f06-d6169d9eff34",
   "metadata": {},
   "outputs": [],
   "source": [
    "splits = split_idx(\n",
    "    fractions=[0.8, 0.1, 0.1],\n",
    "    data_len=len(encounters_intersection),\n",
    ")"
   ]
  },
  {
   "cell_type": "code",
   "execution_count": 34,
   "id": "a59e67bb-0f33-4b00-9355-bba443751958",
   "metadata": {},
   "outputs": [],
   "source": [
    "tab_train_X, tab_val_X, tab_test_X = tab_vectorized.split_by_indices(\n",
    "    ENCOUNTER_ID, splits\n",
    ")\n",
    "\n",
    "temp_train, temp_val, temp_test = temp_vectorized.split_by_indices(ENCOUNTER_ID, splits)"
   ]
  },
  {
   "cell_type": "code",
   "execution_count": 35,
   "id": "37a6a36d-499d-447e-93eb-3ac002c986c6",
   "metadata": {},
   "outputs": [
    {
     "data": {
      "text/plain": [
       "((277, 43), (34, 43), (35, 43))"
      ]
     },
     "execution_count": 35,
     "metadata": {},
     "output_type": "execute_result"
    }
   ],
   "source": [
    "tab_train_X.shape, tab_val_X.shape, tab_test_X.shape"
   ]
  },
  {
   "cell_type": "code",
   "execution_count": 36,
   "id": "edfd710c-b21d-4dc4-b8e4-550235570768",
   "metadata": {},
   "outputs": [
    {
     "data": {
      "text/plain": [
       "((1, 277, 100, 3), (1, 34, 100, 3), (1, 35, 100, 3))"
      ]
     },
     "execution_count": 36,
     "metadata": {},
     "output_type": "execute_result"
    }
   ],
   "source": [
    "temp_train.shape, temp_val.shape, temp_test.shape"
   ]
  },
  {
   "cell_type": "markdown",
   "id": "203ec0ad-a35a-49df-8979-a32779c3ac13",
   "metadata": {},
   "source": [
    "### Split features/targets"
   ]
  },
  {
   "cell_type": "markdown",
   "id": "9e2f20f3-fe51-41f5-be9f-c74d32519787",
   "metadata": {},
   "source": [
    "Split out the targets in the temporal data."
   ]
  },
  {
   "cell_type": "code",
   "execution_count": 37,
   "id": "7a251574-2635-42db-b42e-3d8b77143b64",
   "metadata": {},
   "outputs": [
    {
     "data": {
      "text/plain": [
       "((1, 277, 99, 3), (1, 277, 1, 3))"
      ]
     },
     "execution_count": 37,
     "metadata": {},
     "output_type": "execute_result"
    }
   ],
   "source": [
    "temp_train_X, temp_train_y = temp_train.split_out(EVENT_NAME, [TARGET_NAME])\n",
    "temp_train_X.shape, temp_train_y.shape"
   ]
  },
  {
   "cell_type": "code",
   "execution_count": 38,
   "id": "54795d9d-c2a4-4dd4-9ff9-d3927a0339a3",
   "metadata": {},
   "outputs": [
    {
     "data": {
      "text/plain": [
       "((1, 34, 99, 3), (1, 34, 1, 3))"
      ]
     },
     "execution_count": 38,
     "metadata": {},
     "output_type": "execute_result"
    }
   ],
   "source": [
    "temp_val_X, temp_val_y = temp_val.split_out(EVENT_NAME, [TARGET_NAME])\n",
    "temp_val_X.shape, temp_val_y.shape"
   ]
  },
  {
   "cell_type": "code",
   "execution_count": 39,
   "id": "7857300c-e98e-4af3-89eb-4665e887c60c",
   "metadata": {},
   "outputs": [
    {
     "data": {
      "text/plain": [
       "((1, 35, 99, 3), (1, 35, 1, 3))"
      ]
     },
     "execution_count": 39,
     "metadata": {},
     "output_type": "execute_result"
    }
   ],
   "source": [
    "temp_test_X, temp_test_y = temp_test.split_out(EVENT_NAME, [TARGET_NAME])\n",
    "temp_test_X.shape, temp_test_y.shape"
   ]
  },
  {
   "cell_type": "markdown",
   "id": "b45650c0-847e-4b13-974f-49f9b89cc5f3",
   "metadata": {},
   "source": [
    "### Normalization"
   ]
  },
  {
   "cell_type": "code",
   "execution_count": 40,
   "id": "47896217-2e2c-449b-9ac9-b3ce08028f91",
   "metadata": {},
   "outputs": [],
   "source": [
    "splits = tab_train_X, tab_val_X, tab_test_X\n",
    "\n",
    "for split in splits:\n",
    "    normalizer = VectorizedNormalizer(\n",
    "        split.get_axis(FEATURES),\n",
    "        normalizer_map={feat: STANDARD for feat in numeric_features},\n",
    "    )\n",
    "    split.add_normalizer(normalizer)\n",
    "    split.normalize()\n",
    "\n",
    "tab_train_X, tab_val_X, tab_test_X = splits"
   ]
  },
  {
   "cell_type": "code",
   "execution_count": 41,
   "id": "4fb15e16-71a4-46e5-b65b-6cf0d8258734",
   "metadata": {},
   "outputs": [],
   "source": [
    "# Only normalizing the inputs since the outputs are binary\n",
    "splits = temp_train_X, temp_val_X, temp_test_X\n",
    "\n",
    "for split in splits:\n",
    "    normalizer = VectorizedNormalizer(\n",
    "        split.get_axis(EVENT_NAME),\n",
    "        normalization_method=STANDARD,\n",
    "    )\n",
    "    split.add_normalizer(normalizer)\n",
    "    split.normalize()\n",
    "\n",
    "temp_train_X, temp_val_X, temp_test_X = splits"
   ]
  },
  {
   "cell_type": "code",
   "execution_count": 42,
   "id": "92bfc469-fd00-47df-b1cc-cb292d5b7239",
   "metadata": {},
   "outputs": [
    {
     "data": {
      "text/plain": [
       "('Percentage null:', 0.9946638466494062)"
      ]
     },
     "execution_count": 42,
     "metadata": {},
     "output_type": "execute_result"
    }
   ],
   "source": [
    "\"Percentage null:\", np.isnan(temp_train_X.data).sum() / temp_train_X.data.size"
   ]
  },
  {
   "cell_type": "markdown",
   "id": "e1c2c5b5-9979-4678-bead-ad42b547abfb",
   "metadata": {},
   "source": [
    "## Save"
   ]
  },
  {
   "cell_type": "code",
   "execution_count": 43,
   "id": "9f88e2b1-373e-46c6-97ca-aabd2873fe9a",
   "metadata": {},
   "outputs": [
    {
     "name": "stderr",
     "output_type": "stream",
     "text": [
      "2022-07-15 12:18:36,880 \u001b[1;37mINFO\u001b[0m cyclops.utils.file - Saving array to tab_train_X.npy\n",
      "2022-07-15 12:18:36,882 \u001b[1;37mINFO\u001b[0m cyclops.utils.file - Saving array to tab_val_X.npy\n",
      "2022-07-15 12:18:36,884 \u001b[1;37mINFO\u001b[0m cyclops.utils.file - Saving array to tab_test_X.npy\n",
      "2022-07-15 12:18:36,885 \u001b[1;37mINFO\u001b[0m cyclops.utils.file - Saving array to temp_train_X.npy\n",
      "2022-07-15 12:18:36,887 \u001b[1;37mINFO\u001b[0m cyclops.utils.file - Saving array to temp_val_X.npy\n",
      "2022-07-15 12:18:36,888 \u001b[1;37mINFO\u001b[0m cyclops.utils.file - Saving array to temp_test_X.npy\n",
      "2022-07-15 12:18:36,890 \u001b[1;37mINFO\u001b[0m cyclops.utils.file - Saving array to temp_train_y.npy\n",
      "2022-07-15 12:18:36,891 \u001b[1;37mINFO\u001b[0m cyclops.utils.file - Saving array to temp_val_y.npy\n",
      "2022-07-15 12:18:36,892 \u001b[1;37mINFO\u001b[0m cyclops.utils.file - Saving array to temp_test_y.npy\n"
     ]
    },
    {
     "data": {
      "text/plain": [
       "'temp_test_y.npy'"
      ]
     },
     "execution_count": 43,
     "metadata": {},
     "output_type": "execute_result"
    }
   ],
   "source": [
    "tab_train_X.save(\"tab_train_X.npy\")\n",
    "tab_val_X.save(\"tab_val_X.npy\")\n",
    "tab_test_X.save(\"tab_test_X.npy\")\n",
    "\n",
    "temp_train_X.save(\"temp_train_X.npy\")\n",
    "temp_val_X.save(\"temp_val_X.npy\")\n",
    "temp_test_X.save(\"temp_test_X.npy\")\n",
    "\n",
    "temp_train_y.save(\"temp_train_y.npy\")\n",
    "temp_val_y.save(\"temp_val_y.npy\")\n",
    "temp_test_y.save(\"temp_test_y.npy\")"
   ]
  }
 ],
 "metadata": {
  "kernelspec": {
   "display_name": "cyclops-env",
   "language": "python",
   "name": "cyclops-env"
  },
  "language_info": {
   "codemirror_mode": {
    "name": "ipython",
    "version": 3
   },
   "file_extension": ".py",
   "mimetype": "text/x-python",
   "name": "python",
   "nbconvert_exporter": "python",
   "pygments_lexer": "ipython3",
   "version": "3.8.5"
  }
 },
 "nbformat": 4,
 "nbformat_minor": 5
}
