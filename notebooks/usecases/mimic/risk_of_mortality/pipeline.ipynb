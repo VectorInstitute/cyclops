{
 "cells": [
  {
   "cell_type": "code",
   "execution_count": 1,
   "id": "c8187b80-aa12-4c9b-97b2-83f83691d84d",
   "metadata": {},
   "outputs": [
    {
     "name": "stderr",
     "output_type": "stream",
     "text": [
      "2022-07-13 18:01:38,875 \u001b[1;37mINFO\u001b[0m cyclops.orm     - Database setup, ready to run queries!\n"
     ]
    }
   ],
   "source": [
    "import numpy as np\n",
    "import pandas as pd\n",
    "\n",
    "from cyclops.processors.aggregate import Aggregator\n",
    "from cyclops.processors.cleaning import (\n",
    "    normalize_categories,\n",
    "    normalize_names,\n",
    "    normalize_values,\n",
    ")\n",
    "from cyclops.processors.column_names import (\n",
    "    ADMIT_TIMESTAMP,\n",
    "    AGE,\n",
    "    CARE_UNIT,\n",
    "    DIAGNOSIS_CODE,\n",
    "    DIAGNOSIS_TRAJECTORY,\n",
    "    ENCOUNTER_ID,\n",
    "    EVENT_CATEGORY,\n",
    "    EVENT_NAME,\n",
    "    EVENT_TIMESTAMP,\n",
    "    EVENT_VALUE,\n",
    "    EVENT_VALUE_UNIT,\n",
    "    HOSPITAL_ID,\n",
    "    SEX,\n",
    "    SUBJECT_ID,\n",
    "    TIMESTEP,\n",
    "    YEAR,\n",
    ")\n",
    "from cyclops.processors.constants import (\n",
    "    BINARY,\n",
    "    CATEGORICAL_INDICATOR,\n",
    "    FEATURE_INDICATOR_ATTR,\n",
    "    FEATURE_MAPPING_ATTR,\n",
    "    FEATURE_TYPE_ATTR,\n",
    "    FEATURE_TYPES,\n",
    "    FEATURES,\n",
    "    MEAN,\n",
    "    MIN_MAX,\n",
    "    MISSING_CATEGORY,\n",
    "    NUMERIC,\n",
    "    ORDINAL,\n",
    "    STANDARD,\n",
    "    STRING,\n",
    "    TARGETS,\n",
    ")\n",
    "from cyclops.processors.feature.feature import TabularFeatures, TemporalFeatures\n",
    "from cyclops.processors.feature.normalization import GroupbyNormalizer\n",
    "from cyclops.processors.feature.split import split_datasets\n",
    "from cyclops.query import mimic\n",
    "from cyclops.query import process as qp\n",
    "from cyclops.utils.file import load_dataframe, save_dataframe"
   ]
  },
  {
   "cell_type": "code",
   "execution_count": null,
   "id": "6e81b3cd-e787-4569-96a2-546ed9bc64ae",
   "metadata": {},
   "outputs": [],
   "source": [
    "YEARS = [2015, 2016, 2018, 2019, 2020]\n",
    "MIN_YEAR = min(YEARS)\n",
    "TARGET_NAME = \"death\""
   ]
  },
  {
   "cell_type": "markdown",
   "id": "ae51ff77-f449-470f-ad40-5cea2db2a3a8",
   "metadata": {
    "jp-MarkdownHeadingCollapsed": true,
    "tags": []
   },
   "source": [
    "# Querying"
   ]
  },
  {
   "cell_type": "code",
   "execution_count": null,
   "id": "fd7883ba-5319-4035-91fb-0128fb36821d",
   "metadata": {},
   "outputs": [],
   "source": [
    "encounters_interface = mimic.patient_encounters(\n",
    "    years=YEARS, died=True, died_binarize_col=\"died\"\n",
    ")\n",
    "encounters_query = encounters_interface.query\n",
    "encounters_query = qp.Drop(\n",
    "    [\"insurance\", \"language\", \"marital_status\", \"hospital_expire_flag\"]\n",
    ")(encounters_query)\n",
    "encounters_interface = mimic.get_interface(encounters_query)\n",
    "encounters = encounters_interface.run()\n",
    "encounters"
   ]
  },
  {
   "cell_type": "code",
   "execution_count": null,
   "id": "3d7e4baf-d3d8-4863-97bc-af18fc035806",
   "metadata": {},
   "outputs": [],
   "source": [
    "target_events = encounters[encounters[\"died\"] == True]\n",
    "target_events = target_events[[ENCOUNTER_ID, \"deathtime\"]]\n",
    "target_events = target_events.rename({\"deathtime\": EVENT_TIMESTAMP}, axis=1)\n",
    "target_events[EVENT_NAME] = TARGET_NAME\n",
    "target_events[EVENT_VALUE] = 1\n",
    "target_events.head(5)"
   ]
  },
  {
   "cell_type": "code",
   "execution_count": null,
   "id": "e97d4889-d8ac-4648-b60c-3cdd18854567",
   "metadata": {},
   "outputs": [],
   "source": [
    "save_dataframe(encounters, \"encounters.parquet\")"
   ]
  },
  {
   "cell_type": "code",
   "execution_count": null,
   "id": "9b7ba80d-da74-40bb-bb2a-9310bdd4356b",
   "metadata": {},
   "outputs": [],
   "source": [
    "events_interface = mimic.events()\n",
    "events_query = events_interface.query\n",
    "events_query = qp.Drop([\"warning\", \"itemid\", \"storetime\"])(events_query)\n",
    "events_interface = mimic.get_interface(events_query)\n",
    "events = events_interface.run(limit=1000000)\n",
    "events = pd.merge(\n",
    "    encounters[[ENCOUNTER_ID, \"anchor_year_difference\"]], events, on=ENCOUNTER_ID\n",
    ")\n",
    "\n",
    "\n",
    "def add_offset(row):\n",
    "    row[EVENT_TIMESTAMP] += pd.DateOffset(years=row[\"anchor_year_difference\"])\n",
    "    return row\n",
    "\n",
    "\n",
    "events = events.apply(add_offset, axis=1)\n",
    "events = events.drop(\"anchor_year_difference\", axis=1)\n",
    "\n",
    "# Include target as an event\n",
    "events = pd.concat([events, target_events])\n",
    "\n",
    "events"
   ]
  },
  {
   "cell_type": "code",
   "execution_count": null,
   "id": "a0dc2a25-f959-48f4-ad3b-4b95f940a8e5",
   "metadata": {},
   "outputs": [],
   "source": [
    "save_dataframe(events, \"events.parquet\")"
   ]
  },
  {
   "cell_type": "markdown",
   "id": "b888f02b-a52b-4039-8d2b-c2994848b916",
   "metadata": {},
   "source": [
    "------------------------------------------------------------------------------------------------"
   ]
  },
  {
   "cell_type": "markdown",
   "id": "f2f8e387-33cf-4285-9a92-75c14eac4f18",
   "metadata": {
    "tags": []
   },
   "source": [
    "# Processing"
   ]
  },
  {
   "cell_type": "markdown",
   "id": "c40f9507-91bd-487f-a73d-0faccf54c7a6",
   "metadata": {
    "tags": []
   },
   "source": [
    "## Tabular"
   ]
  },
  {
   "cell_type": "code",
   "execution_count": 2,
   "id": "643ec42d-a118-46ac-99c3-a776e60e1a65",
   "metadata": {},
   "outputs": [
    {
     "name": "stderr",
     "output_type": "stream",
     "text": [
      "2022-07-13 18:01:38,898 \u001b[1;37mINFO\u001b[0m cyclops.utils.file - Loading dataframe from encounters.parquet\n"
     ]
    },
    {
     "data": {
      "text/html": [
       "<div>\n",
       "<style scoped>\n",
       "    .dataframe tbody tr th:only-of-type {\n",
       "        vertical-align: middle;\n",
       "    }\n",
       "\n",
       "    .dataframe tbody tr th {\n",
       "        vertical-align: top;\n",
       "    }\n",
       "\n",
       "    .dataframe thead th {\n",
       "        text-align: right;\n",
       "    }\n",
       "</style>\n",
       "<table border=\"1\" class=\"dataframe\">\n",
       "  <thead>\n",
       "    <tr style=\"text-align: right;\">\n",
       "      <th></th>\n",
       "      <th>subject_id</th>\n",
       "      <th>encounter_id</th>\n",
       "      <th>admit_timestamp</th>\n",
       "      <th>discharge_timestamp</th>\n",
       "      <th>deathtime</th>\n",
       "      <th>admission_type</th>\n",
       "      <th>admission_location</th>\n",
       "      <th>discharge_location</th>\n",
       "      <th>ethnicity</th>\n",
       "      <th>edregtime</th>\n",
       "      <th>edouttime</th>\n",
       "      <th>sex</th>\n",
       "      <th>age</th>\n",
       "      <th>birth_year</th>\n",
       "      <th>dod</th>\n",
       "      <th>anchor_year_difference</th>\n",
       "      <th>died</th>\n",
       "    </tr>\n",
       "  </thead>\n",
       "  <tbody>\n",
       "    <tr>\n",
       "      <th>0</th>\n",
       "      <td>19759112</td>\n",
       "      <td>20610510</td>\n",
       "      <td>2018-07-03 02:10:00</td>\n",
       "      <td>2018-07-05 12:15:00</td>\n",
       "      <td>NaT</td>\n",
       "      <td>ELECTIVE</td>\n",
       "      <td>None</td>\n",
       "      <td>HOME</td>\n",
       "      <td>UNKNOWN</td>\n",
       "      <td>NaT</td>\n",
       "      <td>NaT</td>\n",
       "      <td>M</td>\n",
       "      <td>0</td>\n",
       "      <td>2018</td>\n",
       "      <td>NaT</td>\n",
       "      <td>-140</td>\n",
       "      <td>False</td>\n",
       "    </tr>\n",
       "    <tr>\n",
       "      <th>1</th>\n",
       "      <td>17978591</td>\n",
       "      <td>21300810</td>\n",
       "      <td>2015-10-10 00:21:00</td>\n",
       "      <td>2015-10-12 14:10:00</td>\n",
       "      <td>NaT</td>\n",
       "      <td>ELECTIVE</td>\n",
       "      <td>None</td>\n",
       "      <td>HOME</td>\n",
       "      <td>WHITE</td>\n",
       "      <td>NaT</td>\n",
       "      <td>NaT</td>\n",
       "      <td>F</td>\n",
       "      <td>0</td>\n",
       "      <td>2015</td>\n",
       "      <td>NaT</td>\n",
       "      <td>-134</td>\n",
       "      <td>False</td>\n",
       "    </tr>\n",
       "    <tr>\n",
       "      <th>2</th>\n",
       "      <td>16420748</td>\n",
       "      <td>23082241</td>\n",
       "      <td>2018-10-25 22:30:00</td>\n",
       "      <td>2018-10-28 12:58:00</td>\n",
       "      <td>NaT</td>\n",
       "      <td>ELECTIVE</td>\n",
       "      <td>None</td>\n",
       "      <td>HOME</td>\n",
       "      <td>WHITE</td>\n",
       "      <td>NaT</td>\n",
       "      <td>NaT</td>\n",
       "      <td>F</td>\n",
       "      <td>0</td>\n",
       "      <td>2018</td>\n",
       "      <td>NaT</td>\n",
       "      <td>-151</td>\n",
       "      <td>False</td>\n",
       "    </tr>\n",
       "    <tr>\n",
       "      <th>3</th>\n",
       "      <td>15206017</td>\n",
       "      <td>25518306</td>\n",
       "      <td>2018-10-22 15:28:00</td>\n",
       "      <td>2018-10-23 19:13:00</td>\n",
       "      <td>NaT</td>\n",
       "      <td>EU OBSERVATION</td>\n",
       "      <td>CLINIC REFERRAL</td>\n",
       "      <td>None</td>\n",
       "      <td>BLACK/AFRICAN AMERICAN</td>\n",
       "      <td>2110-10-22 11:52:00</td>\n",
       "      <td>2110-10-22 17:37:00</td>\n",
       "      <td>F</td>\n",
       "      <td>76</td>\n",
       "      <td>1942</td>\n",
       "      <td>NaT</td>\n",
       "      <td>-92</td>\n",
       "      <td>None</td>\n",
       "    </tr>\n",
       "    <tr>\n",
       "      <th>4</th>\n",
       "      <td>14695283</td>\n",
       "      <td>23679175</td>\n",
       "      <td>2018-06-24 18:54:00</td>\n",
       "      <td>2018-06-25 20:15:00</td>\n",
       "      <td>NaT</td>\n",
       "      <td>EU OBSERVATION</td>\n",
       "      <td>PHYSICIAN REFERRAL</td>\n",
       "      <td>None</td>\n",
       "      <td>WHITE</td>\n",
       "      <td>2176-06-24 14:46:00</td>\n",
       "      <td>2176-06-25 20:15:00</td>\n",
       "      <td>F</td>\n",
       "      <td>90</td>\n",
       "      <td>1928</td>\n",
       "      <td>NaT</td>\n",
       "      <td>-158</td>\n",
       "      <td>None</td>\n",
       "    </tr>\n",
       "  </tbody>\n",
       "</table>\n",
       "</div>"
      ],
      "text/plain": [
       "   subject_id  encounter_id     admit_timestamp discharge_timestamp deathtime  \\\n",
       "0    19759112      20610510 2018-07-03 02:10:00 2018-07-05 12:15:00       NaT   \n",
       "1    17978591      21300810 2015-10-10 00:21:00 2015-10-12 14:10:00       NaT   \n",
       "2    16420748      23082241 2018-10-25 22:30:00 2018-10-28 12:58:00       NaT   \n",
       "3    15206017      25518306 2018-10-22 15:28:00 2018-10-23 19:13:00       NaT   \n",
       "4    14695283      23679175 2018-06-24 18:54:00 2018-06-25 20:15:00       NaT   \n",
       "\n",
       "   admission_type  admission_location discharge_location  \\\n",
       "0        ELECTIVE                None               HOME   \n",
       "1        ELECTIVE                None               HOME   \n",
       "2        ELECTIVE                None               HOME   \n",
       "3  EU OBSERVATION     CLINIC REFERRAL               None   \n",
       "4  EU OBSERVATION  PHYSICIAN REFERRAL               None   \n",
       "\n",
       "                ethnicity           edregtime           edouttime sex  age  \\\n",
       "0                 UNKNOWN                 NaT                 NaT   M    0   \n",
       "1                   WHITE                 NaT                 NaT   F    0   \n",
       "2                   WHITE                 NaT                 NaT   F    0   \n",
       "3  BLACK/AFRICAN AMERICAN 2110-10-22 11:52:00 2110-10-22 17:37:00   F   76   \n",
       "4                   WHITE 2176-06-24 14:46:00 2176-06-25 20:15:00   F   90   \n",
       "\n",
       "   birth_year dod  anchor_year_difference   died  \n",
       "0        2018 NaT                    -140  False  \n",
       "1        2015 NaT                    -134  False  \n",
       "2        2018 NaT                    -151  False  \n",
       "3        1942 NaT                     -92   None  \n",
       "4        1928 NaT                    -158   None  "
      ]
     },
     "execution_count": 2,
     "metadata": {},
     "output_type": "execute_result"
    }
   ],
   "source": [
    "encounters = load_dataframe(\"encounters.parquet\")\n",
    "encounters.head(5)"
   ]
  },
  {
   "cell_type": "code",
   "execution_count": 3,
   "id": "fb8aec10-040a-4a71-8433-40f9d6855dd5",
   "metadata": {},
   "outputs": [],
   "source": [
    "features = [\n",
    "    AGE,\n",
    "    SEX,\n",
    "    \"admission_type\",\n",
    "    \"admission_location\",\n",
    "    \"discharge_location\",\n",
    "    \"ethnicity\",\n",
    "]\n",
    "\n",
    "tab_features = TabularFeatures(\n",
    "    data=encounters,\n",
    "    features=features,\n",
    "    by=ENCOUNTER_ID,\n",
    ")"
   ]
  },
  {
   "cell_type": "code",
   "execution_count": 4,
   "id": "7d84d3f8-8743-4f91-9893-4856d43be43f",
   "metadata": {},
   "outputs": [
    {
     "name": "stderr",
     "output_type": "stream",
     "text": [
      "/home/kmckeen/gemini/cyclops/cyclops/processors/feature/feature.py:256: SettingWithCopyWarning: \n",
      "A value is trying to be set on a copy of a slice from a DataFrame.\n",
      "Try using .loc[row_indexer,col_indexer] = value instead\n",
      "\n",
      "See the caveats in the documentation: https://pandas.pydata.org/pandas-docs/stable/user_guide/indexing.html#returning-a-view-versus-a-copy\n",
      "  data[col] = data[col].astype(int)\n"
     ]
    },
    {
     "data": {
      "text/html": [
       "<div>\n",
       "<style scoped>\n",
       "    .dataframe tbody tr th:only-of-type {\n",
       "        vertical-align: middle;\n",
       "    }\n",
       "\n",
       "    .dataframe tbody tr th {\n",
       "        vertical-align: top;\n",
       "    }\n",
       "\n",
       "    .dataframe thead th {\n",
       "        text-align: right;\n",
       "    }\n",
       "</style>\n",
       "<table border=\"1\" class=\"dataframe\">\n",
       "  <thead>\n",
       "    <tr style=\"text-align: right;\">\n",
       "      <th></th>\n",
       "      <th>sex</th>\n",
       "      <th>discharge_location</th>\n",
       "      <th>admission_location</th>\n",
       "      <th>ethnicity</th>\n",
       "      <th>admission_type</th>\n",
       "      <th>age</th>\n",
       "      <th>encounter_id</th>\n",
       "    </tr>\n",
       "  </thead>\n",
       "  <tbody>\n",
       "    <tr>\n",
       "      <th>0</th>\n",
       "      <td>1</td>\n",
       "      <td>6.0</td>\n",
       "      <td>NaN</td>\n",
       "      <td>6</td>\n",
       "      <td>3</td>\n",
       "      <td>0</td>\n",
       "      <td>20610510</td>\n",
       "    </tr>\n",
       "    <tr>\n",
       "      <th>1</th>\n",
       "      <td>0</td>\n",
       "      <td>6.0</td>\n",
       "      <td>NaN</td>\n",
       "      <td>7</td>\n",
       "      <td>3</td>\n",
       "      <td>0</td>\n",
       "      <td>21300810</td>\n",
       "    </tr>\n",
       "    <tr>\n",
       "      <th>2</th>\n",
       "      <td>0</td>\n",
       "      <td>6.0</td>\n",
       "      <td>NaN</td>\n",
       "      <td>7</td>\n",
       "      <td>3</td>\n",
       "      <td>0</td>\n",
       "      <td>23082241</td>\n",
       "    </tr>\n",
       "    <tr>\n",
       "      <th>3</th>\n",
       "      <td>0</td>\n",
       "      <td>NaN</td>\n",
       "      <td>1.0</td>\n",
       "      <td>2</td>\n",
       "      <td>4</td>\n",
       "      <td>76</td>\n",
       "      <td>25518306</td>\n",
       "    </tr>\n",
       "    <tr>\n",
       "      <th>4</th>\n",
       "      <td>0</td>\n",
       "      <td>NaN</td>\n",
       "      <td>6.0</td>\n",
       "      <td>7</td>\n",
       "      <td>4</td>\n",
       "      <td>90</td>\n",
       "      <td>23679175</td>\n",
       "    </tr>\n",
       "    <tr>\n",
       "      <th>...</th>\n",
       "      <td>...</td>\n",
       "      <td>...</td>\n",
       "      <td>...</td>\n",
       "      <td>...</td>\n",
       "      <td>...</td>\n",
       "      <td>...</td>\n",
       "      <td>...</td>\n",
       "    </tr>\n",
       "    <tr>\n",
       "      <th>224759</th>\n",
       "      <td>1</td>\n",
       "      <td>12.0</td>\n",
       "      <td>8.0</td>\n",
       "      <td>7</td>\n",
       "      <td>8</td>\n",
       "      <td>39</td>\n",
       "      <td>25481180</td>\n",
       "    </tr>\n",
       "    <tr>\n",
       "      <th>224760</th>\n",
       "      <td>0</td>\n",
       "      <td>6.0</td>\n",
       "      <td>2.0</td>\n",
       "      <td>7</td>\n",
       "      <td>5</td>\n",
       "      <td>42</td>\n",
       "      <td>20965895</td>\n",
       "    </tr>\n",
       "    <tr>\n",
       "      <th>224761</th>\n",
       "      <td>1</td>\n",
       "      <td>12.0</td>\n",
       "      <td>2.0</td>\n",
       "      <td>7</td>\n",
       "      <td>6</td>\n",
       "      <td>58</td>\n",
       "      <td>20481995</td>\n",
       "    </tr>\n",
       "    <tr>\n",
       "      <th>224762</th>\n",
       "      <td>1</td>\n",
       "      <td>12.0</td>\n",
       "      <td>2.0</td>\n",
       "      <td>7</td>\n",
       "      <td>6</td>\n",
       "      <td>91</td>\n",
       "      <td>21403223</td>\n",
       "    </tr>\n",
       "    <tr>\n",
       "      <th>224763</th>\n",
       "      <td>1</td>\n",
       "      <td>6.0</td>\n",
       "      <td>2.0</td>\n",
       "      <td>7</td>\n",
       "      <td>6</td>\n",
       "      <td>48</td>\n",
       "      <td>29489836</td>\n",
       "    </tr>\n",
       "  </tbody>\n",
       "</table>\n",
       "<p>224764 rows × 7 columns</p>\n",
       "</div>"
      ],
      "text/plain": [
       "        sex discharge_location admission_location ethnicity admission_type  \\\n",
       "0         1                6.0                NaN         6              3   \n",
       "1         0                6.0                NaN         7              3   \n",
       "2         0                6.0                NaN         7              3   \n",
       "3         0                NaN                1.0         2              4   \n",
       "4         0                NaN                6.0         7              4   \n",
       "...     ...                ...                ...       ...            ...   \n",
       "224759    1               12.0                8.0         7              8   \n",
       "224760    0                6.0                2.0         7              5   \n",
       "224761    1               12.0                2.0         7              6   \n",
       "224762    1               12.0                2.0         7              6   \n",
       "224763    1                6.0                2.0         7              6   \n",
       "\n",
       "        age  encounter_id  \n",
       "0         0      20610510  \n",
       "1         0      21300810  \n",
       "2         0      23082241  \n",
       "3        76      25518306  \n",
       "4        90      23679175  \n",
       "...     ...           ...  \n",
       "224759   39      25481180  \n",
       "224760   42      20965895  \n",
       "224761   58      20481995  \n",
       "224762   91      21403223  \n",
       "224763   48      29489836  \n",
       "\n",
       "[224764 rows x 7 columns]"
      ]
     },
     "execution_count": 4,
     "metadata": {},
     "output_type": "execute_result"
    }
   ],
   "source": [
    "tab_features.get_data()"
   ]
  },
  {
   "cell_type": "code",
   "execution_count": 5,
   "id": "af949608-e0b8-4cdf-9e72-71e8b26eab18",
   "metadata": {},
   "outputs": [
    {
     "data": {
      "text/plain": [
       "{'admission_type': 'ordinal',\n",
       " 'sex': 'binary',\n",
       " 'age': 'numeric',\n",
       " 'discharge_location': 'ordinal',\n",
       " 'admission_location': 'ordinal',\n",
       " 'ethnicity': 'ordinal'}"
      ]
     },
     "execution_count": 5,
     "metadata": {},
     "output_type": "execute_result"
    }
   ],
   "source": [
    "tab_features.types"
   ]
  },
  {
   "cell_type": "code",
   "execution_count": 6,
   "id": "4ea328b2-e397-405a-a5b0-7bcaa4520aa6",
   "metadata": {},
   "outputs": [
    {
     "data": {
      "text/plain": [
       "{0: 'AMBULATORY SURGERY TRANSFER',\n",
       " 1: 'CLINIC REFERRAL',\n",
       " 2: 'EMERGENCY ROOM',\n",
       " 3: 'INFORMATION NOT AVAILABLE',\n",
       " 4: 'INTERNAL TRANSFER TO OR FROM PSYCH',\n",
       " 5: 'PACU',\n",
       " 6: 'PHYSICIAN REFERRAL',\n",
       " 7: 'PROCEDURE SITE',\n",
       " 8: 'TRANSFER FROM HOSPITAL',\n",
       " 9: 'TRANSFER FROM SKILLED NURSING FACILITY',\n",
       " 10: 'WALK-IN/SELF REFERRAL',\n",
       " 11: 'nan'}"
      ]
     },
     "execution_count": 6,
     "metadata": {},
     "output_type": "execute_result"
    }
   ],
   "source": [
    "tab_features.meta[\"admission_location\"].get_mapping()"
   ]
  },
  {
   "cell_type": "code",
   "execution_count": 7,
   "id": "c9bc256e-7f97-43bb-83ee-23e1ac56d585",
   "metadata": {},
   "outputs": [
    {
     "data": {
      "text/plain": [
       "{0: 'ACUTE HOSPITAL',\n",
       " 1: 'AGAINST ADVICE',\n",
       " 2: 'ASSISTED LIVING',\n",
       " 3: 'CHRONIC/LONG TERM ACUTE CARE',\n",
       " 4: 'DIED',\n",
       " 5: 'HEALTHCARE FACILITY',\n",
       " 6: 'HOME',\n",
       " 7: 'HOME HEALTH CARE',\n",
       " 8: 'HOSPICE',\n",
       " 9: 'OTHER FACILITY',\n",
       " 10: 'PSYCH FACILITY',\n",
       " 11: 'REHAB',\n",
       " 12: 'SKILLED NURSING FACILITY',\n",
       " 13: 'nan'}"
      ]
     },
     "execution_count": 7,
     "metadata": {},
     "output_type": "execute_result"
    }
   ],
   "source": [
    "tab_features.meta[\"discharge_location\"].get_mapping()"
   ]
  },
  {
   "cell_type": "code",
   "execution_count": 8,
   "id": "99f85abb-d675-404b-a984-8a3e2fb0c56c",
   "metadata": {},
   "outputs": [
    {
     "data": {
      "text/plain": [
       "{0: 'AMBULATORY OBSERVATION',\n",
       " 1: 'DIRECT EMER.',\n",
       " 2: 'DIRECT OBSERVATION',\n",
       " 3: 'ELECTIVE',\n",
       " 4: 'EU OBSERVATION',\n",
       " 5: 'EW EMER.',\n",
       " 6: 'OBSERVATION ADMIT',\n",
       " 7: 'SURGICAL SAME DAY ADMISSION',\n",
       " 8: 'URGENT'}"
      ]
     },
     "execution_count": 8,
     "metadata": {},
     "output_type": "execute_result"
    }
   ],
   "source": [
    "tab_features.meta[\"admission_type\"].get_mapping()"
   ]
  },
  {
   "cell_type": "code",
   "execution_count": 9,
   "id": "b90115b1-3e5e-412c-ae3a-51e1f7d5607b",
   "metadata": {},
   "outputs": [
    {
     "name": "stderr",
     "output_type": "stream",
     "text": [
      "/home/kmckeen/gemini/cyclops/cyclops/processors/feature/feature.py:256: SettingWithCopyWarning: \n",
      "A value is trying to be set on a copy of a slice from a DataFrame.\n",
      "Try using .loc[row_indexer,col_indexer] = value instead\n",
      "\n",
      "See the caveats in the documentation: https://pandas.pydata.org/pandas-docs/stable/user_guide/indexing.html#returning-a-view-versus-a-copy\n",
      "  data[col] = data[col].astype(int)\n"
     ]
    },
    {
     "data": {
      "text/plain": [
       "(224764, 6)"
      ]
     },
     "execution_count": 9,
     "metadata": {},
     "output_type": "execute_result"
    }
   ],
   "source": [
    "tab_vectorized = tab_features.vectorize()\n",
    "tab_vectorized.data.shape"
   ]
  },
  {
   "cell_type": "code",
   "execution_count": 10,
   "id": "7067bc7f-4da8-4d6e-bf1f-afa41c1590da",
   "metadata": {},
   "outputs": [
    {
     "data": {
      "text/plain": [
       "['by', 'features']"
      ]
     },
     "execution_count": 10,
     "metadata": {},
     "output_type": "execute_result"
    }
   ],
   "source": [
    "tab_vectorized.axis_names"
   ]
  },
  {
   "cell_type": "code",
   "execution_count": 11,
   "id": "ecfebd15-24b0-403c-9e70-6e5d9b2cfcea",
   "metadata": {},
   "outputs": [
    {
     "data": {
      "text/plain": [
       "array(['sex', 'discharge_location', 'admission_location', 'ethnicity',\n",
       "       'admission_type', 'age'], dtype='<U18')"
      ]
     },
     "execution_count": 11,
     "metadata": {},
     "output_type": "execute_result"
    }
   ],
   "source": [
    "tab_vectorized.indexes[1]"
   ]
  },
  {
   "cell_type": "code",
   "execution_count": 28,
   "id": "0eee79d8-64a8-43e5-908e-7c3df1d8cfa9",
   "metadata": {},
   "outputs": [
    {
     "data": {
      "text/plain": [
       "array([1., 0., 0., ..., 1., 1., 1.])"
      ]
     },
     "execution_count": 28,
     "metadata": {},
     "output_type": "execute_result"
    }
   ],
   "source": [
    "tab_feature_vals = tab_features.data.sort_values(ENCOUNTER_ID)[SEX].values.astype(float)\n",
    "tab_feature_vals"
   ]
  },
  {
   "cell_type": "code",
   "execution_count": 29,
   "id": "fbccfa1a-cc29-4079-b18c-d857073fec0b",
   "metadata": {},
   "outputs": [
    {
     "data": {
      "text/plain": [
       "array([1., 0., 0., ..., 1., 1., 1.])"
      ]
     },
     "execution_count": 29,
     "metadata": {},
     "output_type": "execute_result"
    }
   ],
   "source": [
    "tab_vectorized_vals = tab_vectorized.data[:, tab_vectorized.index_maps[1][\"sex\"]]\n",
    "tab_vectorized_vals"
   ]
  },
  {
   "cell_type": "code",
   "execution_count": 30,
   "id": "c99c287a-43c5-49f5-9a0f-49933355a709",
   "metadata": {},
   "outputs": [
    {
     "data": {
      "text/plain": [
       "False"
      ]
     },
     "execution_count": 30,
     "metadata": {},
     "output_type": "execute_result"
    }
   ],
   "source": [
    "# WHY ISN'T THIS WORKING??\n",
    "(tab_feature_vals - tab_vectorized_vals == 0).all()"
   ]
  },
  {
   "cell_type": "markdown",
   "id": "2187007a-7fc8-4c33-b60a-44cb05562c16",
   "metadata": {},
   "source": [
    "## Temporal"
   ]
  },
  {
   "cell_type": "code",
   "execution_count": null,
   "id": "7cfbc9c8-3a6c-4a8b-a79f-187c89d65c88",
   "metadata": {},
   "outputs": [],
   "source": [
    "events = load_dataframe(\"events.parquet\")\n",
    "\n",
    "# Process\n",
    "events[EVENT_NAME] = normalize_names(events[EVENT_NAME])\n",
    "events[EVENT_CATEGORY] = normalize_categories(events[EVENT_CATEGORY])\n",
    "# events[EVENT_VALUE] = normalize_values(events[EVENT_VALUE])\n",
    "\n",
    "# Same event names are the same, but mean different things for different categories\n",
    "# E.g., 'flow' for categories heartware and ecmo\n",
    "events[EVENT_NAME] = events[EVENT_NAME] + \" - \" + events[EVENT_CATEGORY]\n",
    "events.head(5)"
   ]
  },
  {
   "cell_type": "code",
   "execution_count": null,
   "id": "64267290-1fdd-4a97-b047-1b702dc6e715",
   "metadata": {},
   "outputs": [],
   "source": [
    "# Keep only the most popular events, including the target\n",
    "top_events = events[EVENT_NAME].value_counts()[:150].index\n",
    "top_events = np.append(top_events, TARGET_NAME).unique()\n",
    "print(top_events)\n",
    "events = events[events[EVENT_NAME].isin(top_events)]\n",
    "events"
   ]
  },
  {
   "cell_type": "code",
   "execution_count": null,
   "id": "e7c4ff4a-63fa-4001-a82d-377d30a9e407",
   "metadata": {},
   "outputs": [],
   "source": [
    "events.head(5)"
   ]
  },
  {
   "cell_type": "code",
   "execution_count": null,
   "id": "119a48d5-8891-4026-bd74-25a8037f8cf5",
   "metadata": {},
   "outputs": [],
   "source": [
    "events[events[EVENT_NAME].str.contains(\"death\")].head(5)"
   ]
  },
  {
   "cell_type": "code",
   "execution_count": null,
   "id": "06cc13d7-dd6c-44d9-93c6-0b903b84743a",
   "metadata": {},
   "outputs": [],
   "source": [
    "aggregator = Aggregator(\n",
    "    aggfuncs={EVENT_VALUE: MEAN},\n",
    "    timestamp_col=EVENT_TIMESTAMP,\n",
    "    time_by=ENCOUNTER_ID,\n",
    "    agg_by=[ENCOUNTER_ID, EVENT_NAME],\n",
    "    timestep_size=8,\n",
    "    window_duration=24,  # Optional\n",
    "    # agg_meta_for=EVENT_VALUE,  # Optional\n",
    ")"
   ]
  },
  {
   "cell_type": "code",
   "execution_count": null,
   "id": "afa902f2-6213-4e7d-8ae6-b9c926aa232a",
   "metadata": {},
   "outputs": [],
   "source": [
    "aggregated = tmp_features.aggregate()\n",
    "aggregated.head(5)"
   ]
  },
  {
   "cell_type": "code",
   "execution_count": null,
   "id": "c67b7b48-0542-42e4-8079-9b4a5b12e9f0",
   "metadata": {},
   "outputs": [],
   "source": [
    "aggregated.head(100)"
   ]
  },
  {
   "cell_type": "code",
   "execution_count": null,
   "id": "354403e4-a1cc-4d1f-be4c-e96db62802cf",
   "metadata": {},
   "outputs": [],
   "source": [
    "save_dataframe(aggregated, \"aggregated.parquet\")"
   ]
  },
  {
   "cell_type": "code",
   "execution_count": null,
   "id": "4a9587b3-b4a1-42a1-ab75-3b248227dcb7",
   "metadata": {},
   "outputs": [],
   "source": [
    "temp_vectorized = aggregator.vectorize(aggregated)\n",
    "temp_vectorized.data.shape"
   ]
  },
  {
   "cell_type": "code",
   "execution_count": null,
   "id": "aa840bb6-043c-466d-8ff1-0418a3ccd394",
   "metadata": {},
   "outputs": [],
   "source": [
    "temp_vectorized.axis_names"
   ]
  },
  {
   "cell_type": "markdown",
   "id": "b45650c0-847e-4b13-974f-49f9b89cc5f3",
   "metadata": {},
   "source": [
    "## Normalization"
   ]
  },
  {
   "cell_type": "code",
   "execution_count": null,
   "id": "ad5e480c-f36b-4dc5-8b73-46dc12ceddae",
   "metadata": {},
   "outputs": [],
   "source": [
    "tab_normalizer = GroupbyNormalizer({EVENT_VALUE: STANDARD}, by=EVENT_NAME)\n",
    "tab_feature.add_normali"
   ]
  },
  {
   "cell_type": "code",
   "execution_count": null,
   "id": "47896217-2e2c-449b-9ac9-b3ce08028f91",
   "metadata": {},
   "outputs": [],
   "source": [
    "feat_axis = vectorized.axis_names.index(FEATURES)\n",
    "temp_normalizer = VectorizedNormalizer(\n",
    "    feat_axis,\n",
    "    normalization_method=STANDARD,\n",
    ")"
   ]
  },
  {
   "cell_type": "code",
   "execution_count": null,
   "id": "15fe7356-fe21-4b5b-96bf-d93625c37b93",
   "metadata": {},
   "outputs": [],
   "source": [
    "# tmp_features.normalize(FEATURES)\n",
    "# tmp_features.get_data()"
   ]
  },
  {
   "cell_type": "code",
   "execution_count": null,
   "id": "4a61768d-c2a0-430b-852b-89b14187f29d",
   "metadata": {},
   "outputs": [],
   "source": [
    "temp_vectorized = np.squeeze(temp_vectorized)\n",
    "temp_vectorized.shape"
   ]
  },
  {
   "cell_type": "code",
   "execution_count": null,
   "id": "f39fb027-16a0-4d8c-9e36-095a0bd219ab",
   "metadata": {},
   "outputs": [],
   "source": [
    "train_data, val_data, test_data = split_data(temp_vectorized, [0.7, 0.2])"
   ]
  },
  {
   "cell_type": "code",
   "execution_count": null,
   "id": "7696235d-eba1-403d-81c8-b0a447ddcd9a",
   "metadata": {},
   "outputs": [],
   "source": [
    "train_data.shape"
   ]
  },
  {
   "cell_type": "code",
   "execution_count": null,
   "id": "f0cf8fc0-aa29-4f50-a99b-9ce04bd43c4c",
   "metadata": {},
   "outputs": [],
   "source": [
    "val_data.shape"
   ]
  },
  {
   "cell_type": "code",
   "execution_count": null,
   "id": "20e3bde5-4350-464e-86d1-b0e176249a04",
   "metadata": {},
   "outputs": [],
   "source": [
    "test_data.shape"
   ]
  }
 ],
 "metadata": {
  "kernelspec": {
   "display_name": "cyclops-env",
   "language": "python",
   "name": "cyclops-env"
  },
  "language_info": {
   "codemirror_mode": {
    "name": "ipython",
    "version": 3
   },
   "file_extension": ".py",
   "mimetype": "text/x-python",
   "name": "python",
   "nbconvert_exporter": "python",
   "pygments_lexer": "ipython3",
   "version": "3.8.5"
  }
 },
 "nbformat": 4,
 "nbformat_minor": 5
}
