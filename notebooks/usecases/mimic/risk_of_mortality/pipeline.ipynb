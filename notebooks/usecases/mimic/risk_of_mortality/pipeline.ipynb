{
 "cells": [
  {
   "cell_type": "code",
   "execution_count": 1,
   "id": "c8187b80-aa12-4c9b-97b2-83f83691d84d",
   "metadata": {},
   "outputs": [
    {
     "name": "stderr",
     "output_type": "stream",
     "text": [
      "2022-07-14 15:16:15,822 \u001b[1;37mINFO\u001b[0m cyclops.orm     - Database setup, ready to run queries!\n"
     ]
    }
   ],
   "source": [
    "import pickle\n",
    "\n",
    "import numpy as np\n",
    "import pandas as pd\n",
    "\n",
    "from cyclops.processors.aggregate import Aggregator\n",
    "from cyclops.processors.cleaning import (\n",
    "    normalize_categories,\n",
    "    normalize_names,\n",
    "    normalize_values,\n",
    ")\n",
    "from cyclops.processors.column_names import (\n",
    "    ADMIT_TIMESTAMP,\n",
    "    AGE,\n",
    "    CARE_UNIT,\n",
    "    DIAGNOSIS_CODE,\n",
    "    DIAGNOSIS_TRAJECTORY,\n",
    "    ENCOUNTER_ID,\n",
    "    EVENT_CATEGORY,\n",
    "    EVENT_NAME,\n",
    "    EVENT_TIMESTAMP,\n",
    "    EVENT_VALUE,\n",
    "    EVENT_VALUE_UNIT,\n",
    "    HOSPITAL_ID,\n",
    "    SEX,\n",
    "    SUBJECT_ID,\n",
    "    TIMESTEP,\n",
    "    YEAR,\n",
    ")\n",
    "from cyclops.processors.constants import (\n",
    "    BINARY,\n",
    "    BY,\n",
    "    CATEGORICAL_INDICATOR,\n",
    "    FEATURE_INDICATOR_ATTR,\n",
    "    FEATURE_MAPPING_ATTR,\n",
    "    FEATURE_TYPE_ATTR,\n",
    "    FEATURE_TYPES,\n",
    "    FEATURES,\n",
    "    MEAN,\n",
    "    MIN_MAX,\n",
    "    MISSING_CATEGORY,\n",
    "    NUMERIC,\n",
    "    ORDINAL,\n",
    "    STANDARD,\n",
    "    STRING,\n",
    "    TARGETS,\n",
    ")\n",
    "from cyclops.processors.feature.feature import TabularFeatures, TemporalFeatures\n",
    "from cyclops.processors.feature.normalization import GroupbyNormalizer\n",
    "from cyclops.processors.feature.split import split_datasets\n",
    "from cyclops.query import mimic\n",
    "from cyclops.query import process as qp\n",
    "from cyclops.utils.common import print_dict\n",
    "from cyclops.utils.file import load_dataframe, save_dataframe"
   ]
  },
  {
   "cell_type": "code",
   "execution_count": null,
   "id": "6e81b3cd-e787-4569-96a2-546ed9bc64ae",
   "metadata": {},
   "outputs": [],
   "source": [
    "YEARS = [2015, 2016, 2018, 2019, 2020]\n",
    "MIN_YEAR = min(YEARS)\n",
    "TARGET_NAMES = [\"death\"]"
   ]
  },
  {
   "cell_type": "markdown",
   "id": "ae51ff77-f449-470f-ad40-5cea2db2a3a8",
   "metadata": {
    "jp-MarkdownHeadingCollapsed": true,
    "tags": []
   },
   "source": [
    "# Querying"
   ]
  },
  {
   "cell_type": "code",
   "execution_count": null,
   "id": "fd7883ba-5319-4035-91fb-0128fb36821d",
   "metadata": {},
   "outputs": [],
   "source": [
    "encounters_interface = mimic.patient_encounters(\n",
    "    years=YEARS, died=True, died_binarize_col=\"died\"\n",
    ")\n",
    "encounters_query = encounters_interface.query\n",
    "encounters_query = qp.Drop(\n",
    "    [\"insurance\", \"language\", \"marital_status\", \"hospital_expire_flag\"]\n",
    ")(encounters_query)\n",
    "encounters_interface = mimic.get_interface(encounters_query)\n",
    "encounters = encounters_interface.run()\n",
    "encounters"
   ]
  },
  {
   "cell_type": "code",
   "execution_count": null,
   "id": "3d7e4baf-d3d8-4863-97bc-af18fc035806",
   "metadata": {},
   "outputs": [],
   "source": [
    "target_events = encounters[encounters[\"died\"] == True]\n",
    "target_events = target_events[[ENCOUNTER_ID, \"deathtime\"]]\n",
    "target_events = target_events.rename({\"deathtime\": EVENT_TIMESTAMP}, axis=1)\n",
    "target_events[EVENT_NAME] = TARGET_NAME\n",
    "target_events[EVENT_VALUE] = 1\n",
    "target_events.head(5)"
   ]
  },
  {
   "cell_type": "code",
   "execution_count": null,
   "id": "e97d4889-d8ac-4648-b60c-3cdd18854567",
   "metadata": {},
   "outputs": [],
   "source": [
    "save_dataframe(encounters, \"encounters.parquet\")"
   ]
  },
  {
   "cell_type": "code",
   "execution_count": null,
   "id": "9b7ba80d-da74-40bb-bb2a-9310bdd4356b",
   "metadata": {},
   "outputs": [],
   "source": [
    "events_interface = mimic.events()\n",
    "events_query = events_interface.query\n",
    "events_query = qp.Drop([\"warning\", \"itemid\", \"storetime\"])(events_query)\n",
    "events_interface = mimic.get_interface(events_query)\n",
    "events = events_interface.run(limit=1000000)\n",
    "events = pd.merge(\n",
    "    encounters[[ENCOUNTER_ID, \"anchor_year_difference\"]], events, on=ENCOUNTER_ID\n",
    ")\n",
    "\n",
    "\n",
    "def add_offset(row):\n",
    "    row[EVENT_TIMESTAMP] += pd.DateOffset(years=row[\"anchor_year_difference\"])\n",
    "    return row\n",
    "\n",
    "\n",
    "events = events.apply(add_offset, axis=1)\n",
    "events = events.drop(\"anchor_year_difference\", axis=1)\n",
    "\n",
    "# Include target as an event\n",
    "events = pd.concat([events, target_events])\n",
    "\n",
    "events"
   ]
  },
  {
   "cell_type": "code",
   "execution_count": null,
   "id": "a0dc2a25-f959-48f4-ad3b-4b95f940a8e5",
   "metadata": {},
   "outputs": [],
   "source": [
    "save_dataframe(events, \"events.parquet\")"
   ]
  },
  {
   "cell_type": "markdown",
   "id": "b888f02b-a52b-4039-8d2b-c2994848b916",
   "metadata": {},
   "source": [
    "------------------------------------------------------------------------------------------------"
   ]
  },
  {
   "cell_type": "markdown",
   "id": "f2f8e387-33cf-4285-9a92-75c14eac4f18",
   "metadata": {
    "tags": []
   },
   "source": [
    "# Processing"
   ]
  },
  {
   "cell_type": "markdown",
   "id": "c40f9507-91bd-487f-a73d-0faccf54c7a6",
   "metadata": {
    "tags": []
   },
   "source": [
    "## Tabular"
   ]
  },
  {
   "cell_type": "code",
   "execution_count": 2,
   "id": "643ec42d-a118-46ac-99c3-a776e60e1a65",
   "metadata": {},
   "outputs": [
    {
     "name": "stderr",
     "output_type": "stream",
     "text": [
      "2022-07-14 15:16:15,924 \u001b[1;37mINFO\u001b[0m cyclops.utils.file - Loading dataframe from encounters.parquet\n"
     ]
    },
    {
     "data": {
      "text/html": [
       "<div>\n",
       "<style scoped>\n",
       "    .dataframe tbody tr th:only-of-type {\n",
       "        vertical-align: middle;\n",
       "    }\n",
       "\n",
       "    .dataframe tbody tr th {\n",
       "        vertical-align: top;\n",
       "    }\n",
       "\n",
       "    .dataframe thead th {\n",
       "        text-align: right;\n",
       "    }\n",
       "</style>\n",
       "<table border=\"1\" class=\"dataframe\">\n",
       "  <thead>\n",
       "    <tr style=\"text-align: right;\">\n",
       "      <th></th>\n",
       "      <th>subject_id</th>\n",
       "      <th>encounter_id</th>\n",
       "      <th>admit_timestamp</th>\n",
       "      <th>discharge_timestamp</th>\n",
       "      <th>deathtime</th>\n",
       "      <th>admission_type</th>\n",
       "      <th>admission_location</th>\n",
       "      <th>discharge_location</th>\n",
       "      <th>ethnicity</th>\n",
       "      <th>edregtime</th>\n",
       "      <th>edouttime</th>\n",
       "      <th>sex</th>\n",
       "      <th>age</th>\n",
       "      <th>birth_year</th>\n",
       "      <th>dod</th>\n",
       "      <th>anchor_year_difference</th>\n",
       "      <th>died</th>\n",
       "    </tr>\n",
       "  </thead>\n",
       "  <tbody>\n",
       "    <tr>\n",
       "      <th>0</th>\n",
       "      <td>19759112</td>\n",
       "      <td>20610510</td>\n",
       "      <td>2018-07-03 02:10:00</td>\n",
       "      <td>2018-07-05 12:15:00</td>\n",
       "      <td>NaT</td>\n",
       "      <td>ELECTIVE</td>\n",
       "      <td>None</td>\n",
       "      <td>HOME</td>\n",
       "      <td>UNKNOWN</td>\n",
       "      <td>NaT</td>\n",
       "      <td>NaT</td>\n",
       "      <td>M</td>\n",
       "      <td>0</td>\n",
       "      <td>2018</td>\n",
       "      <td>NaT</td>\n",
       "      <td>-140</td>\n",
       "      <td>False</td>\n",
       "    </tr>\n",
       "    <tr>\n",
       "      <th>1</th>\n",
       "      <td>17978591</td>\n",
       "      <td>21300810</td>\n",
       "      <td>2015-10-10 00:21:00</td>\n",
       "      <td>2015-10-12 14:10:00</td>\n",
       "      <td>NaT</td>\n",
       "      <td>ELECTIVE</td>\n",
       "      <td>None</td>\n",
       "      <td>HOME</td>\n",
       "      <td>WHITE</td>\n",
       "      <td>NaT</td>\n",
       "      <td>NaT</td>\n",
       "      <td>F</td>\n",
       "      <td>0</td>\n",
       "      <td>2015</td>\n",
       "      <td>NaT</td>\n",
       "      <td>-134</td>\n",
       "      <td>False</td>\n",
       "    </tr>\n",
       "    <tr>\n",
       "      <th>2</th>\n",
       "      <td>16420748</td>\n",
       "      <td>23082241</td>\n",
       "      <td>2018-10-25 22:30:00</td>\n",
       "      <td>2018-10-28 12:58:00</td>\n",
       "      <td>NaT</td>\n",
       "      <td>ELECTIVE</td>\n",
       "      <td>None</td>\n",
       "      <td>HOME</td>\n",
       "      <td>WHITE</td>\n",
       "      <td>NaT</td>\n",
       "      <td>NaT</td>\n",
       "      <td>F</td>\n",
       "      <td>0</td>\n",
       "      <td>2018</td>\n",
       "      <td>NaT</td>\n",
       "      <td>-151</td>\n",
       "      <td>False</td>\n",
       "    </tr>\n",
       "    <tr>\n",
       "      <th>3</th>\n",
       "      <td>15206017</td>\n",
       "      <td>25518306</td>\n",
       "      <td>2018-10-22 15:28:00</td>\n",
       "      <td>2018-10-23 19:13:00</td>\n",
       "      <td>NaT</td>\n",
       "      <td>EU OBSERVATION</td>\n",
       "      <td>CLINIC REFERRAL</td>\n",
       "      <td>None</td>\n",
       "      <td>BLACK/AFRICAN AMERICAN</td>\n",
       "      <td>2110-10-22 11:52:00</td>\n",
       "      <td>2110-10-22 17:37:00</td>\n",
       "      <td>F</td>\n",
       "      <td>76</td>\n",
       "      <td>1942</td>\n",
       "      <td>NaT</td>\n",
       "      <td>-92</td>\n",
       "      <td>None</td>\n",
       "    </tr>\n",
       "    <tr>\n",
       "      <th>4</th>\n",
       "      <td>14695283</td>\n",
       "      <td>23679175</td>\n",
       "      <td>2018-06-24 18:54:00</td>\n",
       "      <td>2018-06-25 20:15:00</td>\n",
       "      <td>NaT</td>\n",
       "      <td>EU OBSERVATION</td>\n",
       "      <td>PHYSICIAN REFERRAL</td>\n",
       "      <td>None</td>\n",
       "      <td>WHITE</td>\n",
       "      <td>2176-06-24 14:46:00</td>\n",
       "      <td>2176-06-25 20:15:00</td>\n",
       "      <td>F</td>\n",
       "      <td>90</td>\n",
       "      <td>1928</td>\n",
       "      <td>NaT</td>\n",
       "      <td>-158</td>\n",
       "      <td>None</td>\n",
       "    </tr>\n",
       "  </tbody>\n",
       "</table>\n",
       "</div>"
      ],
      "text/plain": [
       "   subject_id  encounter_id     admit_timestamp discharge_timestamp deathtime  \\\n",
       "0    19759112      20610510 2018-07-03 02:10:00 2018-07-05 12:15:00       NaT   \n",
       "1    17978591      21300810 2015-10-10 00:21:00 2015-10-12 14:10:00       NaT   \n",
       "2    16420748      23082241 2018-10-25 22:30:00 2018-10-28 12:58:00       NaT   \n",
       "3    15206017      25518306 2018-10-22 15:28:00 2018-10-23 19:13:00       NaT   \n",
       "4    14695283      23679175 2018-06-24 18:54:00 2018-06-25 20:15:00       NaT   \n",
       "\n",
       "   admission_type  admission_location discharge_location  \\\n",
       "0        ELECTIVE                None               HOME   \n",
       "1        ELECTIVE                None               HOME   \n",
       "2        ELECTIVE                None               HOME   \n",
       "3  EU OBSERVATION     CLINIC REFERRAL               None   \n",
       "4  EU OBSERVATION  PHYSICIAN REFERRAL               None   \n",
       "\n",
       "                ethnicity           edregtime           edouttime sex  age  \\\n",
       "0                 UNKNOWN                 NaT                 NaT   M    0   \n",
       "1                   WHITE                 NaT                 NaT   F    0   \n",
       "2                   WHITE                 NaT                 NaT   F    0   \n",
       "3  BLACK/AFRICAN AMERICAN 2110-10-22 11:52:00 2110-10-22 17:37:00   F   76   \n",
       "4                   WHITE 2176-06-24 14:46:00 2176-06-25 20:15:00   F   90   \n",
       "\n",
       "   birth_year dod  anchor_year_difference   died  \n",
       "0        2018 NaT                    -140  False  \n",
       "1        2015 NaT                    -134  False  \n",
       "2        2018 NaT                    -151  False  \n",
       "3        1942 NaT                     -92   None  \n",
       "4        1928 NaT                    -158   None  "
      ]
     },
     "execution_count": 2,
     "metadata": {},
     "output_type": "execute_result"
    }
   ],
   "source": [
    "encounters = load_dataframe(\"encounters.parquet\")\n",
    "encounters.head(5)"
   ]
  },
  {
   "cell_type": "code",
   "execution_count": 3,
   "id": "fb8aec10-040a-4a71-8433-40f9d6855dd5",
   "metadata": {},
   "outputs": [],
   "source": [
    "features = [\n",
    "    AGE,\n",
    "    SEX,\n",
    "    \"admission_type\",\n",
    "    \"admission_location\",\n",
    "    \"discharge_location\",\n",
    "    \"ethnicity\",\n",
    "]\n",
    "\n",
    "tab_features = TabularFeatures(\n",
    "    data=encounters,\n",
    "    features=features,\n",
    "    by=ENCOUNTER_ID,\n",
    ")"
   ]
  },
  {
   "cell_type": "code",
   "execution_count": 4,
   "id": "af949608-e0b8-4cdf-9e72-71e8b26eab18",
   "metadata": {},
   "outputs": [
    {
     "data": {
      "text/plain": [
       "{'sex': 'binary',\n",
       " 'discharge_location': 'ordinal',\n",
       " 'admission_location': 'ordinal',\n",
       " 'ethnicity': 'ordinal',\n",
       " 'admission_type': 'ordinal',\n",
       " 'age': 'numeric'}"
      ]
     },
     "execution_count": 4,
     "metadata": {},
     "output_type": "execute_result"
    }
   ],
   "source": [
    "tab_features.types"
   ]
  },
  {
   "cell_type": "code",
   "execution_count": 5,
   "id": "4ea328b2-e397-405a-a5b0-7bcaa4520aa6",
   "metadata": {},
   "outputs": [
    {
     "data": {
      "text/plain": [
       "{0: 'AMBULATORY SURGERY TRANSFER',\n",
       " 1: 'CLINIC REFERRAL',\n",
       " 2: 'EMERGENCY ROOM',\n",
       " 3: 'INFORMATION NOT AVAILABLE',\n",
       " 4: 'INTERNAL TRANSFER TO OR FROM PSYCH',\n",
       " 5: 'PACU',\n",
       " 6: 'PHYSICIAN REFERRAL',\n",
       " 7: 'PROCEDURE SITE',\n",
       " 8: 'TRANSFER FROM HOSPITAL',\n",
       " 9: 'TRANSFER FROM SKILLED NURSING FACILITY',\n",
       " 10: 'WALK-IN/SELF REFERRAL',\n",
       " 11: 'nan'}"
      ]
     },
     "execution_count": 5,
     "metadata": {},
     "output_type": "execute_result"
    }
   ],
   "source": [
    "tab_features.meta[\"admission_location\"].get_mapping()"
   ]
  },
  {
   "cell_type": "code",
   "execution_count": 6,
   "id": "b90115b1-3e5e-412c-ae3a-51e1f7d5607b",
   "metadata": {},
   "outputs": [
    {
     "data": {
      "text/plain": [
       "['discharge_location', 'admission_location', 'ethnicity', 'admission_type']"
      ]
     },
     "execution_count": 6,
     "metadata": {},
     "output_type": "execute_result"
    }
   ],
   "source": [
    "ordinal_features = tab_features.features_by_type(ORDINAL)\n",
    "ordinal_features"
   ]
  },
  {
   "cell_type": "code",
   "execution_count": 7,
   "id": "eda135bc-f0f6-4dd1-bb4e-91d96a24f44e",
   "metadata": {},
   "outputs": [
    {
     "name": "stderr",
     "output_type": "stream",
     "text": [
      "/home/kmckeen/gemini/cyclops/cyclops/processors/feature/feature.py:696: SettingWithCopyWarning: \n",
      "A value is trying to be set on a copy of a slice from a DataFrame.\n",
      "Try using .loc[row_indexer,col_indexer] = value instead\n",
      "\n",
      "See the caveats in the documentation: https://pandas.pydata.org/pandas-docs/stable/user_guide/indexing.html#returning-a-view-versus-a-copy\n",
      "  data[feat] = data[feat].replace(self.meta[feat].get_mapping())\n",
      "/home/kmckeen/gemini/cyclops/cyclops/processors/feature/feature.py:696: SettingWithCopyWarning: \n",
      "A value is trying to be set on a copy of a slice from a DataFrame.\n",
      "Try using .loc[row_indexer,col_indexer] = value instead\n",
      "\n",
      "See the caveats in the documentation: https://pandas.pydata.org/pandas-docs/stable/user_guide/indexing.html#returning-a-view-versus-a-copy\n",
      "  data[feat] = data[feat].replace(self.meta[feat].get_mapping())\n",
      "/home/kmckeen/gemini/cyclops/cyclops/processors/feature/feature.py:696: SettingWithCopyWarning: \n",
      "A value is trying to be set on a copy of a slice from a DataFrame.\n",
      "Try using .loc[row_indexer,col_indexer] = value instead\n",
      "\n",
      "See the caveats in the documentation: https://pandas.pydata.org/pandas-docs/stable/user_guide/indexing.html#returning-a-view-versus-a-copy\n",
      "  data[feat] = data[feat].replace(self.meta[feat].get_mapping())\n",
      "/home/kmckeen/gemini/cyclops/cyclops/processors/feature/feature.py:696: SettingWithCopyWarning: \n",
      "A value is trying to be set on a copy of a slice from a DataFrame.\n",
      "Try using .loc[row_indexer,col_indexer] = value instead\n",
      "\n",
      "See the caveats in the documentation: https://pandas.pydata.org/pandas-docs/stable/user_guide/indexing.html#returning-a-view-versus-a-copy\n",
      "  data[feat] = data[feat].replace(self.meta[feat].get_mapping())\n"
     ]
    }
   ],
   "source": [
    "tab_vectorized = tab_features.vectorize(to_binary_indicators=ordinal_features)"
   ]
  },
  {
   "cell_type": "code",
   "execution_count": 8,
   "id": "97a3a502-4d33-4380-92f6-3f345f5de00d",
   "metadata": {},
   "outputs": [
    {
     "data": {
      "text/plain": [
       "(224764, 43)"
      ]
     },
     "execution_count": 8,
     "metadata": {},
     "output_type": "execute_result"
    }
   ],
   "source": [
    "tab_vectorized.shape"
   ]
  },
  {
   "cell_type": "code",
   "execution_count": 9,
   "id": "7067bc7f-4da8-4d6e-bf1f-afa41c1590da",
   "metadata": {},
   "outputs": [
    {
     "data": {
      "text/plain": [
       "['encounter_id', 'features']"
      ]
     },
     "execution_count": 9,
     "metadata": {},
     "output_type": "execute_result"
    }
   ],
   "source": [
    "tab_vectorized.axis_names"
   ]
  },
  {
   "cell_type": "code",
   "execution_count": 10,
   "id": "fc3c5b93-4c7c-4f78-8194-43e7db08e8f6",
   "metadata": {},
   "outputs": [
    {
     "data": {
      "text/plain": [
       "array(['sex', 'age', 'discharge_location_ACUTE HOSPITAL',\n",
       "       'discharge_location_AGAINST ADVICE',\n",
       "       'discharge_location_ASSISTED LIVING',\n",
       "       'discharge_location_CHRONIC/LONG TERM ACUTE CARE',\n",
       "       'discharge_location_DIED',\n",
       "       'discharge_location_HEALTHCARE FACILITY',\n",
       "       'discharge_location_HOME', 'discharge_location_HOME HEALTH CARE',\n",
       "       'discharge_location_HOSPICE', 'discharge_location_OTHER FACILITY',\n",
       "       'discharge_location_PSYCH FACILITY', 'discharge_location_REHAB',\n",
       "       'discharge_location_SKILLED NURSING FACILITY',\n",
       "       'admission_location_AMBULATORY SURGERY TRANSFER',\n",
       "       'admission_location_CLINIC REFERRAL',\n",
       "       'admission_location_EMERGENCY ROOM',\n",
       "       'admission_location_INFORMATION NOT AVAILABLE',\n",
       "       'admission_location_INTERNAL TRANSFER TO OR FROM PSYCH',\n",
       "       'admission_location_PACU', 'admission_location_PHYSICIAN REFERRAL',\n",
       "       'admission_location_PROCEDURE SITE',\n",
       "       'admission_location_TRANSFER FROM HOSPITAL',\n",
       "       'admission_location_TRANSFER FROM SKILLED NURSING FACILITY',\n",
       "       'admission_location_WALK-IN/SELF REFERRAL',\n",
       "       'ethnicity_AMERICAN INDIAN/ALASKA NATIVE', 'ethnicity_ASIAN',\n",
       "       'ethnicity_BLACK/AFRICAN AMERICAN', 'ethnicity_HISPANIC/LATINO',\n",
       "       'ethnicity_OTHER', 'ethnicity_UNABLE TO OBTAIN',\n",
       "       'ethnicity_UNKNOWN', 'ethnicity_WHITE',\n",
       "       'admission_type_AMBULATORY OBSERVATION',\n",
       "       'admission_type_DIRECT EMER.', 'admission_type_DIRECT OBSERVATION',\n",
       "       'admission_type_ELECTIVE', 'admission_type_EU OBSERVATION',\n",
       "       'admission_type_EW EMER.', 'admission_type_OBSERVATION ADMIT',\n",
       "       'admission_type_SURGICAL SAME DAY ADMISSION',\n",
       "       'admission_type_URGENT'], dtype='<U57')"
      ]
     },
     "execution_count": 10,
     "metadata": {},
     "output_type": "execute_result"
    }
   ],
   "source": [
    "tab_vectorized.get_index(FEATURES)"
   ]
  },
  {
   "cell_type": "code",
   "execution_count": null,
   "id": "3b976232-b3ff-4c82-bf41-67e7d8dcc7a1",
   "metadata": {},
   "outputs": [],
   "source": [
    "numeric_features = tab_feature.features_by_type(NUMERIC)\n",
    "numeric_features"
   ]
  },
  {
   "cell_type": "markdown",
   "id": "2187007a-7fc8-4c33-b60a-44cb05562c16",
   "metadata": {},
   "source": [
    "## Temporal"
   ]
  },
  {
   "cell_type": "code",
   "execution_count": null,
   "id": "7cfbc9c8-3a6c-4a8b-a79f-187c89d65c88",
   "metadata": {},
   "outputs": [],
   "source": [
    "events = load_dataframe(\"events.parquet\")\n",
    "\n",
    "# Process\n",
    "events[EVENT_NAME] = normalize_names(events[EVENT_NAME])\n",
    "events[EVENT_CATEGORY] = normalize_categories(events[EVENT_CATEGORY])\n",
    "# events[EVENT_VALUE] = normalize_values(events[EVENT_VALUE])\n",
    "\n",
    "# Same event names are the same, but mean different things for different categories\n",
    "# E.g., 'flow' for categories heartware and ecmo\n",
    "events[EVENT_NAME] = events[EVENT_NAME] + \" - \" + events[EVENT_CATEGORY]\n",
    "events.head(5)"
   ]
  },
  {
   "cell_type": "code",
   "execution_count": null,
   "id": "64267290-1fdd-4a97-b047-1b702dc6e715",
   "metadata": {},
   "outputs": [],
   "source": [
    "# Keep only the most popular events, including the target\n",
    "top_events = events[EVENT_NAME].value_counts()[:150].index\n",
    "top_events = np.append(top_events, TARGET_NAME).unique()\n",
    "print(top_events)\n",
    "events = events[events[EVENT_NAME].isin(top_events)]\n",
    "events"
   ]
  },
  {
   "cell_type": "code",
   "execution_count": null,
   "id": "e7c4ff4a-63fa-4001-a82d-377d30a9e407",
   "metadata": {},
   "outputs": [],
   "source": [
    "events.head(5)"
   ]
  },
  {
   "cell_type": "code",
   "execution_count": null,
   "id": "119a48d5-8891-4026-bd74-25a8037f8cf5",
   "metadata": {},
   "outputs": [],
   "source": [
    "events[events[EVENT_NAME].str.contains(\"death\")].head(5)"
   ]
  },
  {
   "cell_type": "code",
   "execution_count": null,
   "id": "06cc13d7-dd6c-44d9-93c6-0b903b84743a",
   "metadata": {},
   "outputs": [],
   "source": [
    "aggregator = Aggregator(\n",
    "    aggfuncs={EVENT_VALUE: MEAN},\n",
    "    timestamp_col=EVENT_TIMESTAMP,\n",
    "    time_by=ENCOUNTER_ID,\n",
    "    agg_by=[ENCOUNTER_ID, EVENT_NAME],\n",
    "    timestep_size=8,\n",
    "    window_duration=24,  # Optional\n",
    "    # agg_meta_for=EVENT_VALUE,  # Optional\n",
    ")"
   ]
  },
  {
   "cell_type": "code",
   "execution_count": null,
   "id": "afa902f2-6213-4e7d-8ae6-b9c926aa232a",
   "metadata": {},
   "outputs": [],
   "source": [
    "aggregated = tmp_features.aggregate()\n",
    "aggregated.head(5)"
   ]
  },
  {
   "cell_type": "code",
   "execution_count": null,
   "id": "c67b7b48-0542-42e4-8079-9b4a5b12e9f0",
   "metadata": {},
   "outputs": [],
   "source": [
    "aggregated.head(100)"
   ]
  },
  {
   "cell_type": "code",
   "execution_count": null,
   "id": "354403e4-a1cc-4d1f-be4c-e96db62802cf",
   "metadata": {},
   "outputs": [],
   "source": [
    "save_dataframe(aggregated, \"aggregated.parquet\")"
   ]
  },
  {
   "cell_type": "code",
   "execution_count": null,
   "id": "4a9587b3-b4a1-42a1-ab75-3b248227dcb7",
   "metadata": {},
   "outputs": [],
   "source": [
    "temp_vectorized = aggregator.vectorize(aggregated)\n",
    "temp_vectorized.data.shape"
   ]
  },
  {
   "cell_type": "code",
   "execution_count": null,
   "id": "aa840bb6-043c-466d-8ff1-0418a3ccd394",
   "metadata": {},
   "outputs": [],
   "source": [
    "temp_vectorized.axis_names"
   ]
  },
  {
   "cell_type": "code",
   "execution_count": null,
   "id": "15fe7356-fe21-4b5b-96bf-d93625c37b93",
   "metadata": {},
   "outputs": [],
   "source": [
    "# tmp_features.normalize(FEATURES)\n",
    "# tmp_features.get_data()"
   ]
  },
  {
   "cell_type": "code",
   "execution_count": null,
   "id": "4a61768d-c2a0-430b-852b-89b14187f29d",
   "metadata": {},
   "outputs": [],
   "source": [
    "temp_vectorized = np.squeeze(temp_vectorized)\n",
    "temp_vectorized.shape"
   ]
  },
  {
   "cell_type": "code",
   "execution_count": null,
   "id": "f39fb027-16a0-4d8c-9e36-095a0bd219ab",
   "metadata": {},
   "outputs": [],
   "source": [
    "train_data, val_data, test_data = split_data(temp_vectorized, [0.7, 0.2])"
   ]
  },
  {
   "cell_type": "code",
   "execution_count": null,
   "id": "7696235d-eba1-403d-81c8-b0a447ddcd9a",
   "metadata": {},
   "outputs": [],
   "source": [
    "train_data.shape"
   ]
  },
  {
   "cell_type": "code",
   "execution_count": null,
   "id": "f0cf8fc0-aa29-4f50-a99b-9ce04bd43c4c",
   "metadata": {},
   "outputs": [],
   "source": [
    "val_data.shape"
   ]
  },
  {
   "cell_type": "code",
   "execution_count": null,
   "id": "20e3bde5-4350-464e-86d1-b0e176249a04",
   "metadata": {},
   "outputs": [],
   "source": [
    "test_data.shape"
   ]
  },
  {
   "cell_type": "markdown",
   "id": "53cbd66e-a84b-49e3-b8fa-50f31ca082b9",
   "metadata": {},
   "source": [
    "## Dataset splits"
   ]
  },
  {
   "cell_type": "markdown",
   "id": "5d0eaa25-0014-4212-b2ae-794cd70e915d",
   "metadata": {},
   "source": [
    "Take only the encounters available in all of the datasets and align the datasets over encounters."
   ]
  },
  {
   "cell_type": "code",
   "execution_count": 26,
   "id": "e3cbaaec-e7fc-4fcd-a9cb-135c88c2df82",
   "metadata": {},
   "outputs": [],
   "source": [
    "tab_encounters = set(tab_vectorized.get_index(ENCOUNTER_ID))\n",
    "temp_encounters = set(temp_vectorized.get_index(ENCOUNTER_ID))\n",
    "encounters_intersection = np.array(list(tab_encounters.intersection(temp_encounters)))"
   ]
  },
  {
   "cell_type": "code",
   "execution_count": 24,
   "id": "d84b8bc5-70da-4605-9bf8-6ce3966553e1",
   "metadata": {},
   "outputs": [],
   "source": [
    "tab_vectorized = tab_vectorized.take_with_index(ENCOUNTER_ID, encounters_intersection)\n",
    "\n",
    "temp_vectorized = temp_vectorized.take_with_index(ENCOUNTER_ID, encounters_intersection)"
   ]
  },
  {
   "cell_type": "markdown",
   "id": "839995aa-40cb-449c-a057-ad7719998ecf",
   "metadata": {},
   "source": [
    "Split into training, validation, and testing datasets.\n",
    "\n",
    "Split using the same indices such that the tabular and temporal datasets remain aligned."
   ]
  },
  {
   "cell_type": "code",
   "execution_count": null,
   "id": "876152f9-555f-4f4a-8f06-d6169d9eff34",
   "metadata": {},
   "outputs": [],
   "source": [
    "splits = split_idx(\n",
    "    fractions=[0.8, 0.1, 0.1],\n",
    "    data_len=len(encounters_intersection),\n",
    ")"
   ]
  },
  {
   "cell_type": "code",
   "execution_count": null,
   "id": "a59e67bb-0f33-4b00-9355-bba443751958",
   "metadata": {},
   "outputs": [],
   "source": [
    "tab_train_X, tab_val_X, tab_test_X = tab_vectorized.split_by_indices(\n",
    "    ENCOUNTER_ID, splits\n",
    ")\n",
    "\n",
    "temp_train, temp_val, temp_test = temp_vectorized.split_by_indices(ENCOUNTER_ID, splits)"
   ]
  },
  {
   "cell_type": "markdown",
   "id": "203ec0ad-a35a-49df-8979-a32779c3ac13",
   "metadata": {},
   "source": [
    "### Split features/targets"
   ]
  },
  {
   "cell_type": "markdown",
   "id": "9e2f20f3-fe51-41f5-be9f-c74d32519787",
   "metadata": {},
   "source": [
    "Split out the targets in the temporal data."
   ]
  },
  {
   "cell_type": "code",
   "execution_count": null,
   "id": "7a251574-2635-42db-b42e-3d8b77143b64",
   "metadata": {},
   "outputs": [],
   "source": [
    "temp_train_X, temp_train_y = temp_train.split_out(FEATURES, TARGET_NAMES)\n",
    "temp_val_X, temp_val_y = temp_val.split_out(FEATURES, TARGET_NAMES)\n",
    "temp_test_X, temp_test_y = temp_test.split_out(FEATURES, TARGET_NAMES)"
   ]
  },
  {
   "cell_type": "markdown",
   "id": "b45650c0-847e-4b13-974f-49f9b89cc5f3",
   "metadata": {},
   "source": [
    "### Normalization"
   ]
  },
  {
   "cell_type": "code",
   "execution_count": null,
   "id": "47896217-2e2c-449b-9ac9-b3ce08028f91",
   "metadata": {},
   "outputs": [],
   "source": [
    "for split in tab_splits:\n",
    "    tab_normalizer = VectorizedNormalizer(\n",
    "        tab_vectorized.get_axis(FEATURES),\n",
    "        normalization_map={feat: STANDARD for feat in numeric_features},\n",
    "    )\n",
    "    tab_vectorized.add_normalizer(FEATURES, tab_normalizer)\n",
    "    tab_vectorized.normalize(FEATURES)"
   ]
  },
  {
   "cell_type": "code",
   "execution_count": null,
   "id": "4fb15e16-71a4-46e5-b65b-6cf0d8258734",
   "metadata": {},
   "outputs": [],
   "source": [
    "for split in temp_splits:\n",
    "    tab_normalizer = VectorizedNormalizer(\n",
    "        tab_vectorized.get_axis(EVENT_VALUE),\n",
    "        normalization_method=STANDARD,\n",
    "    )\n",
    "    tab_vectorized.add_normalizer(FEATURES, tab_normalizer)\n",
    "    tab_vectorized.normalize(FEATURES)"
   ]
  },
  {
   "cell_type": "markdown",
   "id": "e1c2c5b5-9979-4678-bead-ad42b547abfb",
   "metadata": {},
   "source": [
    "## Save"
   ]
  },
  {
   "cell_type": "code",
   "execution_count": null,
   "id": "9f88e2b1-373e-46c6-97ca-aabd2873fe9a",
   "metadata": {},
   "outputs": [],
   "source": []
  }
 ],
 "metadata": {
  "kernelspec": {
   "display_name": "cyclops-env",
   "language": "python",
   "name": "cyclops-env"
  },
  "language_info": {
   "codemirror_mode": {
    "name": "ipython",
    "version": 3
   },
   "file_extension": ".py",
   "mimetype": "text/x-python",
   "name": "python",
   "nbconvert_exporter": "python",
   "pygments_lexer": "ipython3",
   "version": "3.8.5"
  }
 },
 "nbformat": 4,
 "nbformat_minor": 5
}
