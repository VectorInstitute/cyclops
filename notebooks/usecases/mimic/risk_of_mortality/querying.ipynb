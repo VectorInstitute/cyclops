{
 "cells": [
  {
   "cell_type": "code",
   "execution_count": null,
   "id": "c8187b80-aa12-4c9b-97b2-83f83691d84d",
   "metadata": {},
   "outputs": [],
   "source": [
    "import pickle\n",
    "\n",
    "import numpy as np\n",
    "import pandas as pd\n",
    "\n",
    "from cyclops.processors.aggregate import Aggregator\n",
    "from cyclops.processors.cleaning import (\n",
    "    normalize_categories,\n",
    "    normalize_names,\n",
    "    normalize_values,\n",
    ")\n",
    "from cyclops.processors.column_names import (\n",
    "    ADMIT_TIMESTAMP,\n",
    "    AGE,\n",
    "    CARE_UNIT,\n",
    "    DIAGNOSIS_CODE,\n",
    "    DIAGNOSIS_TRAJECTORY,\n",
    "    ENCOUNTER_ID,\n",
    "    EVENT_CATEGORY,\n",
    "    EVENT_NAME,\n",
    "    EVENT_TIMESTAMP,\n",
    "    EVENT_VALUE,\n",
    "    EVENT_VALUE_UNIT,\n",
    "    HOSPITAL_ID,\n",
    "    SEX,\n",
    "    SUBJECT_ID,\n",
    "    TIMESTEP,\n",
    "    YEAR,\n",
    ")\n",
    "from cyclops.processors.constants import (\n",
    "    BINARY,\n",
    "    BY,\n",
    "    CATEGORICAL_INDICATOR,\n",
    "    FEATURE_INDICATOR_ATTR,\n",
    "    FEATURE_MAPPING_ATTR,\n",
    "    FEATURE_TYPE_ATTR,\n",
    "    FEATURE_TYPES,\n",
    "    FEATURES,\n",
    "    MEAN,\n",
    "    MIN_MAX,\n",
    "    MISSING_CATEGORY,\n",
    "    NUMERIC,\n",
    "    ORDINAL,\n",
    "    STANDARD,\n",
    "    STRING,\n",
    "    TARGETS,\n",
    ")\n",
    "from cyclops.query import mimic\n",
    "from cyclops.query import process as qp\n",
    "from cyclops.utils.file import (\n",
    "    join,\n",
    "    load_dataframe,\n",
    "    process_dir_save_path,\n",
    "    save_consequtive_dataframes,\n",
    "    save_dataframe,\n",
    "    yield_dataframes,\n",
    ")\n",
    "from cyclops.utils.pandas import add_years_approximate"
   ]
  },
  {
   "cell_type": "code",
   "execution_count": null,
   "id": "6e81b3cd-e787-4569-96a2-546ed9bc64ae",
   "metadata": {},
   "outputs": [],
   "source": [
    "OUTCOME_DEATH = \"outcome_death\""
   ]
  },
  {
   "cell_type": "markdown",
   "id": "0d3412ae-a3a2-49b1-99d7-f13014cb3d35",
   "metadata": {
    "tags": []
   },
   "source": [
    "# Patient encounters"
   ]
  },
  {
   "cell_type": "code",
   "execution_count": null,
   "id": "fd7883ba-5319-4035-91fb-0128fb36821d",
   "metadata": {},
   "outputs": [],
   "source": [
    "encounters_interface = mimic.patient_encounters(died_binarize_col=OUTCOME_DEATH)\n",
    "\n",
    "encounters_query = encounters_interface.query\n",
    "encounters_query = qp.Drop(\n",
    "    [\"insurance\", \"language\", \"marital_status\", \"hospital_expire_flag\"]\n",
    ")(encounters_query)\n",
    "\n",
    "encounters_interface = mimic.get_interface(encounters_query)\n",
    "encounters = encounters_interface.run()\n",
    "encounters"
   ]
  },
  {
   "cell_type": "code",
   "execution_count": null,
   "id": "e97d4889-d8ac-4648-b60c-3cdd18854567",
   "metadata": {},
   "outputs": [],
   "source": [
    "save_dataframe(encounters, \"encounters.parquet\")"
   ]
  },
  {
   "cell_type": "markdown",
   "id": "a176f2de-f264-4253-ab11-da9017a4153c",
   "metadata": {},
   "source": [
    "# Events"
   ]
  },
  {
   "cell_type": "code",
   "execution_count": null,
   "id": "de68c082-17d8-46bc-b9ce-4b19b0a97fcd",
   "metadata": {},
   "outputs": [],
   "source": [
    "events_interface = mimic.events()\n",
    "\n",
    "events_query = events_interface.query\n",
    "events_query = qp.Drop([\"warning\", \"itemid\", \"storetime\"])(events_query)\n",
    "events_interface = mimic.get_interface(events_query)\n",
    "\n",
    "events_interface.save_in_grouped_batches(\"./0queried_small\", ENCOUNTER_ID, int(1e7))"
   ]
  },
  {
   "cell_type": "code",
   "execution_count": null,
   "id": "fef7ac17-447d-4d67-a4b2-4b10f5051f1c",
   "metadata": {},
   "outputs": [],
   "source": [
    "# save_consequtive_dataframes(\"./0queried_small\", \"./1queried\", 3)"
   ]
  },
  {
   "cell_type": "markdown",
   "id": "c812a329-ace3-4759-a008-a9a079853fa6",
   "metadata": {},
   "source": [
    "## Preprocess batches"
   ]
  },
  {
   "cell_type": "code",
   "execution_count": null,
   "id": "bacbe79d-0ae0-4c86-a046-26ad98234809",
   "metadata": {},
   "outputs": [],
   "source": [
    "skip_n = 21\n",
    "\n",
    "generator = yield_dataframes(\"./0queried_small\", skip_n=skip_n)  # \"./1queried\")\n",
    "save_dir = process_dir_save_path(\"./2cleaned\")\n",
    "\n",
    "for save_count, events in enumerate(generator):\n",
    "    events = events.drop([\"stay_id\"], axis=1)\n",
    "\n",
    "    # Reverse deidentified dating\n",
    "    events = pd.merge(\n",
    "        encounters[[ENCOUNTER_ID, \"anchor_year_difference\"]], events, on=ENCOUNTER_ID\n",
    "    )\n",
    "    events[EVENT_TIMESTAMP] = add_years_approximate(\n",
    "        events[EVENT_TIMESTAMP], events[\"anchor_year_difference\"]\n",
    "    )\n",
    "    events = events.drop(\"anchor_year_difference\", axis=1)\n",
    "\n",
    "    # Create the target as a timeseries event\n",
    "    target_events = encounters[encounters[OUTCOME_DEATH] == True]\n",
    "    target_events = target_events[[ENCOUNTER_ID, \"deathtime\"]]\n",
    "    target_events = target_events.rename({\"deathtime\": EVENT_TIMESTAMP}, axis=1)\n",
    "    target_events[EVENT_NAME] = OUTCOME_DEATH\n",
    "    target_events[EVENT_CATEGORY] = TARGETS\n",
    "    target_events[EVENT_VALUE] = 1\n",
    "    target_events.head(5)\n",
    "\n",
    "    # Include target\n",
    "    events = pd.concat([events, target_events])\n",
    "\n",
    "    # Preprocessing\n",
    "    events[EVENT_NAME] = normalize_names(events[EVENT_NAME])\n",
    "    events[EVENT_CATEGORY] = normalize_categories(events[EVENT_CATEGORY])\n",
    "    # events[EVENT_VALUE] = normalize_values(events[EVENT_VALUE])\n",
    "\n",
    "    # Concatenate event name and category since some names are the same in\n",
    "    # different categories, e.g., 'flow' for categories 'heartware' and 'ecmo'\n",
    "    events[EVENT_NAME] = events[EVENT_CATEGORY] + \" - \" + events[EVENT_NAME]\n",
    "    events.head(5)\n",
    "\n",
    "    save_dataframe(events, join(save_dir, \"batch_\" + f\"{save_count + skip_n:04d}\"))\n",
    "    del events"
   ]
  },
  {
   "cell_type": "code",
   "execution_count": null,
   "id": "6bd9cf86-6be8-4728-a98e-7f30d11cdf03",
   "metadata": {},
   "outputs": [],
   "source": []
  }
 ],
 "metadata": {
  "kernelspec": {
   "display_name": "cyclops-env",
   "language": "python",
   "name": "cyclops-env"
  },
  "language_info": {
   "codemirror_mode": {
    "name": "ipython",
    "version": 3
   },
   "file_extension": ".py",
   "mimetype": "text/x-python",
   "name": "python",
   "nbconvert_exporter": "python",
   "pygments_lexer": "ipython3",
   "version": "3.9.7"
  }
 },
 "nbformat": 4,
 "nbformat_minor": 5
}
