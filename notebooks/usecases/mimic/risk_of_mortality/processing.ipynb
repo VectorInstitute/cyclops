{
 "cells": [
  {
   "cell_type": "code",
   "execution_count": null,
   "id": "c8187b80-aa12-4c9b-97b2-83f83691d84d",
   "metadata": {},
   "outputs": [],
   "source": [
    "import pickle\n",
    "\n",
    "import numpy as np\n",
    "import pandas as pd\n",
    "\n",
    "from cyclops.processors.aggregate import Aggregator\n",
    "from cyclops.processors.cleaning import (\n",
    "    normalize_categories,\n",
    "    normalize_names,\n",
    "    normalize_values,\n",
    ")\n",
    "from cyclops.processors.column_names import (\n",
    "    ADMIT_TIMESTAMP,\n",
    "    AGE,\n",
    "    CARE_UNIT,\n",
    "    DIAGNOSIS_CODE,\n",
    "    DIAGNOSIS_TRAJECTORY,\n",
    "    ENCOUNTER_ID,\n",
    "    EVENT_CATEGORY,\n",
    "    EVENT_NAME,\n",
    "    EVENT_TIMESTAMP,\n",
    "    EVENT_VALUE,\n",
    "    EVENT_VALUE_UNIT,\n",
    "    HOSPITAL_ID,\n",
    "    SEX,\n",
    "    SUBJECT_ID,\n",
    "    TIMESTEP,\n",
    "    YEAR,\n",
    ")\n",
    "from cyclops.processors.constants import (\n",
    "    BINARY,\n",
    "    BY,\n",
    "    CATEGORICAL_INDICATOR,\n",
    "    FEATURE_INDICATOR_ATTR,\n",
    "    FEATURE_MAPPING_ATTR,\n",
    "    FEATURE_TYPE_ATTR,\n",
    "    FEATURE_TYPES,\n",
    "    FEATURES,\n",
    "    MEAN,\n",
    "    MIN_MAX,\n",
    "    MISSING_CATEGORY,\n",
    "    NUMERIC,\n",
    "    ORDINAL,\n",
    "    STANDARD,\n",
    "    STRING,\n",
    "    TARGETS,\n",
    ")\n",
    "from cyclops.processors.feature.feature import TabularFeatures, TemporalFeatures\n",
    "from cyclops.processors.feature.normalization import VectorizedNormalizer\n",
    "from cyclops.processors.feature.vectorize import intersect_vectorized, split_vectorized\n",
    "from cyclops.query import mimic\n",
    "from cyclops.query import process as qp\n",
    "from cyclops.utils.common import print_dict\n",
    "from cyclops.utils.file import load_array, load_dataframe, save_dataframe"
   ]
  },
  {
   "cell_type": "code",
   "execution_count": null,
   "id": "6e81b3cd-e787-4569-96a2-546ed9bc64ae",
   "metadata": {},
   "outputs": [],
   "source": [
    "OUTCOME_DEATH = \"outcome_death\"\n",
    "OUTCOME_DEATH_PROCESSED = TARGETS + \" - \" + OUTCOME_DEATH\n",
    "\n",
    "TAB_TARGETS = [OUTCOME_DEATH]\n",
    "TEMP_TARGETS = [OUTCOME_DEATH_PROCESSED]\n",
    "\n",
    "SPLIT_FRACTIONS = [0.8, 0.1]\n",
    "PREDICT_OFFSET_HRS = 24"
   ]
  },
  {
   "cell_type": "code",
   "execution_count": null,
   "id": "162b9e09-f627-442d-bd7e-5b42504c9be9",
   "metadata": {},
   "outputs": [],
   "source": [
    "TAB_TARGETS"
   ]
  },
  {
   "cell_type": "markdown",
   "id": "c40f9507-91bd-487f-a73d-0faccf54c7a6",
   "metadata": {
    "tags": []
   },
   "source": [
    "# Tabular-specific processing"
   ]
  },
  {
   "cell_type": "code",
   "execution_count": null,
   "id": "643ec42d-a118-46ac-99c3-a776e60e1a65",
   "metadata": {},
   "outputs": [],
   "source": [
    "cohort = load_dataframe(\"encounters.parquet\")\n",
    "cohort.head(5)"
   ]
  },
  {
   "cell_type": "code",
   "execution_count": null,
   "id": "fb8aec10-040a-4a71-8433-40f9d6855dd5",
   "metadata": {},
   "outputs": [],
   "source": [
    "features = [\n",
    "    AGE,\n",
    "    SEX,\n",
    "    OUTCOME_DEATH,\n",
    "    \"admission_type\",\n",
    "    \"admission_location\",\n",
    "    \"discharge_location\",\n",
    "    \"ethnicity\",\n",
    "]\n",
    "\n",
    "cohort = cohort.reset_index(drop=True)\n",
    "\n",
    "tab_features = TabularFeatures(\n",
    "    data=cohort,\n",
    "    features=features,\n",
    "    by=ENCOUNTER_ID,\n",
    ")"
   ]
  },
  {
   "cell_type": "code",
   "execution_count": null,
   "id": "af949608-e0b8-4cdf-9e72-71e8b26eab18",
   "metadata": {},
   "outputs": [],
   "source": [
    "tab_features.types"
   ]
  },
  {
   "cell_type": "code",
   "execution_count": null,
   "id": "2cb215a8-e9ad-4105-b744-a61a93ef0e09",
   "metadata": {},
   "outputs": [],
   "source": [
    "tab_features.meta.keys()"
   ]
  },
  {
   "cell_type": "code",
   "execution_count": null,
   "id": "4ea328b2-e397-405a-a5b0-7bcaa4520aa6",
   "metadata": {},
   "outputs": [],
   "source": [
    "tab_features.meta[\"admission_location\"].get_mapping()"
   ]
  },
  {
   "cell_type": "code",
   "execution_count": null,
   "id": "b90115b1-3e5e-412c-ae3a-51e1f7d5607b",
   "metadata": {},
   "outputs": [],
   "source": [
    "ordinal_features = tab_features.features_by_type(ORDINAL)\n",
    "ordinal_features"
   ]
  },
  {
   "cell_type": "code",
   "execution_count": null,
   "id": "eda135bc-f0f6-4dd1-bb4e-91d96a24f44e",
   "metadata": {},
   "outputs": [],
   "source": [
    "tab_vectorized = tab_features.vectorize(to_binary_indicators=ordinal_features)"
   ]
  },
  {
   "cell_type": "code",
   "execution_count": null,
   "id": "97a3a502-4d33-4380-92f6-3f345f5de00d",
   "metadata": {},
   "outputs": [],
   "source": [
    "tab_vectorized.shape"
   ]
  },
  {
   "cell_type": "code",
   "execution_count": null,
   "id": "7067bc7f-4da8-4d6e-bf1f-afa41c1590da",
   "metadata": {},
   "outputs": [],
   "source": [
    "tab_vectorized.axis_names"
   ]
  },
  {
   "cell_type": "code",
   "execution_count": null,
   "id": "614b3a5b-703a-4969-9b8e-3e7dbd439f11",
   "metadata": {},
   "outputs": [],
   "source": [
    "numeric_features = tab_features.features_by_type(NUMERIC)\n",
    "numeric_features"
   ]
  },
  {
   "cell_type": "code",
   "execution_count": null,
   "id": "3b976232-b3ff-4c82-bf41-67e7d8dcc7a1",
   "metadata": {},
   "outputs": [],
   "source": [
    "tab_vectorized.save(\"tab_vectorized.npy\")"
   ]
  },
  {
   "cell_type": "markdown",
   "id": "2187007a-7fc8-4c33-b60a-44cb05562c16",
   "metadata": {
    "tags": []
   },
   "source": [
    "# Temporal-specific processing"
   ]
  },
  {
   "cell_type": "code",
   "execution_count": null,
   "id": "10e89fbb-fffe-462c-a1fd-f9f9ce79dcc0",
   "metadata": {},
   "outputs": [],
   "source": [
    "# chunk = 1"
   ]
  },
  {
   "cell_type": "code",
   "execution_count": null,
   "id": "68644d5a-164a-41f4-8518-a8311afc348c",
   "metadata": {},
   "outputs": [],
   "source": [
    "events = load_dataframe(\"events.parquet\")\n",
    "events = events.sample(n=int(len(events) / 20))\n",
    "events.head(5)"
   ]
  },
  {
   "cell_type": "code",
   "execution_count": null,
   "id": "344e4918-3c16-4146-a7b5-0ac363f4b038",
   "metadata": {},
   "outputs": [],
   "source": [
    "events[EVENT_NAME] = normalize_names(events[EVENT_NAME])\n",
    "# events[EVENT_VALUE] = normalize_values(events[EVENT_VALUE])"
   ]
  },
  {
   "cell_type": "code",
   "execution_count": null,
   "id": "25abf281-268e-4a0e-812e-e7279e65a720",
   "metadata": {},
   "outputs": [],
   "source": [
    "# Keep only the most popular events\n",
    "top_events = events[EVENT_NAME].value_counts()[:100].index\n",
    "\n",
    "# Force include the target\n",
    "top_events = np.unique(np.append(top_events, OUTCOME_DEATH))\n",
    "\n",
    "events = events[events[EVENT_NAME].isin(top_events)]\n",
    "events.head(5)"
   ]
  },
  {
   "cell_type": "code",
   "execution_count": null,
   "id": "119a48d5-8891-4026-bd74-25a8037f8cf5",
   "metadata": {},
   "outputs": [],
   "source": [
    "events[events[EVENT_NAME] == OUTCOME_DEATH_PROCESSED].head(5)"
   ]
  },
  {
   "cell_type": "code",
   "execution_count": null,
   "id": "5f82846a-edb8-4811-b6f9-de7eacb90a15",
   "metadata": {},
   "outputs": [],
   "source": [
    "# Offset death time - i.e., should predict death time in advance\n",
    "is_death_event = events[EVENT_NAME] == OUTCOME_DEATH_PROCESSED\n",
    "events[is_death_event][EVENT_TIMESTAMP] = events[is_death_event][\n",
    "    EVENT_TIMESTAMP\n",
    "] - pd.DateOffset(hours=PREDICT_OFFSET_HRS)"
   ]
  },
  {
   "cell_type": "code",
   "execution_count": null,
   "id": "06cc13d7-dd6c-44d9-93c6-0b903b84743a",
   "metadata": {},
   "outputs": [],
   "source": [
    "aggregator = Aggregator(\n",
    "    aggfuncs={EVENT_VALUE: MEAN},\n",
    "    timestamp_col=EVENT_TIMESTAMP,\n",
    "    time_by=ENCOUNTER_ID,\n",
    "    agg_by=[ENCOUNTER_ID, EVENT_NAME],\n",
    "    timestep_size=8,\n",
    "    window_duration=24,  # Optional\n",
    "    # agg_meta_for=EVENT_VALUE,  # Optional\n",
    ")"
   ]
  },
  {
   "cell_type": "code",
   "execution_count": null,
   "id": "693f41c4-aa52-4770-a39c-1c77a9b0c03b",
   "metadata": {},
   "outputs": [],
   "source": [
    "events = events.reset_index(drop=True)\n",
    "\n",
    "tmp_features = TemporalFeatures(\n",
    "    events,\n",
    "    features=EVENT_VALUE,\n",
    "    by=[ENCOUNTER_ID, EVENT_NAME],\n",
    "    timestamp_col=EVENT_TIMESTAMP,\n",
    "    aggregator=aggregator,\n",
    ")"
   ]
  },
  {
   "cell_type": "code",
   "execution_count": null,
   "id": "afa902f2-6213-4e7d-8ae6-b9c926aa232a",
   "metadata": {},
   "outputs": [],
   "source": [
    "aggregated = tmp_features.aggregate()\n",
    "aggregated.head(5)"
   ]
  },
  {
   "cell_type": "code",
   "execution_count": null,
   "id": "354403e4-a1cc-4d1f-be4c-e96db62802cf",
   "metadata": {},
   "outputs": [],
   "source": [
    "save_dataframe(aggregated, \"aggregated.parquet\")"
   ]
  },
  {
   "cell_type": "code",
   "execution_count": null,
   "id": "4a9587b3-b4a1-42a1-ab75-3b248227dcb7",
   "metadata": {},
   "outputs": [],
   "source": [
    "temp_vectorized = aggregator.vectorize(aggregated)\n",
    "temp_vectorized.shape"
   ]
  },
  {
   "cell_type": "code",
   "execution_count": null,
   "id": "aa840bb6-043c-466d-8ff1-0418a3ccd394",
   "metadata": {},
   "outputs": [],
   "source": [
    "temp_vectorized.axis_names"
   ]
  },
  {
   "cell_type": "code",
   "execution_count": null,
   "id": "545fcc51-28d0-4009-b5b3-b73a08fbfa4b",
   "metadata": {},
   "outputs": [],
   "source": [
    "temp_vectorized.save(\"temp_vectorized.npy\")"
   ]
  },
  {
   "cell_type": "markdown",
   "id": "c103337f-dbd8-4f04-96a7-b6e721cd3642",
   "metadata": {},
   "source": [
    "# Combined processing"
   ]
  },
  {
   "cell_type": "markdown",
   "id": "6fb0a06e-d146-45af-89cd-a90964a6b2df",
   "metadata": {},
   "source": [
    "# Prepare splits"
   ]
  },
  {
   "cell_type": "markdown",
   "id": "5d0eaa25-0014-4212-b2ae-794cd70e915d",
   "metadata": {},
   "source": [
    "Take only the encounters available in all of the datasets and align the datasets over encounters."
   ]
  },
  {
   "cell_type": "code",
   "execution_count": null,
   "id": "b8670c0b-3e53-45f3-9aa1-428a14d13373",
   "metadata": {},
   "outputs": [],
   "source": [
    "tab_vectorized.shape, temp_vectorized.shape"
   ]
  },
  {
   "cell_type": "code",
   "execution_count": null,
   "id": "d817d8ec-886b-494d-9d32-3e076f774d51",
   "metadata": {},
   "outputs": [],
   "source": [
    "tab_vectorized, temp_vectorized = intersect_vectorized(\n",
    "    [tab_vectorized, temp_vectorized], axes=ENCOUNTER_ID\n",
    ")\n",
    "tab_vectorized.shape, temp_vectorized.shape"
   ]
  },
  {
   "cell_type": "code",
   "execution_count": null,
   "id": "b97c5aba-847e-4f58-9bce-69222f538f12",
   "metadata": {},
   "outputs": [],
   "source": [
    "# Standardize only the numeric features (e.g., not binary indicators)\n",
    "normalizer_map = {feat: STANDARD for feat in numeric_features}\n",
    "\n",
    "tab_vectorized.add_normalizer(\n",
    "    FEATURES,\n",
    "    normalizer_map=normalizer_map,\n",
    ")"
   ]
  },
  {
   "cell_type": "code",
   "execution_count": null,
   "id": "174bb4b0-8948-42d6-a477-b0792a9b7186",
   "metadata": {},
   "outputs": [],
   "source": [
    "# Standardize all events\n",
    "temp_vectorized.add_normalizer(\n",
    "    EVENT_NAME,\n",
    "    normalization_method=STANDARD,\n",
    ")"
   ]
  },
  {
   "cell_type": "markdown",
   "id": "ff6663ae-1ed5-445e-a1d6-9021154fe1a7",
   "metadata": {},
   "source": [
    "## Dataset splits"
   ]
  },
  {
   "cell_type": "markdown",
   "id": "839995aa-40cb-449c-a057-ad7719998ecf",
   "metadata": {},
   "source": [
    "Split into training, validation, and testing datasets such that the tabular and temporal encounters remain aligned."
   ]
  },
  {
   "cell_type": "code",
   "execution_count": null,
   "id": "5a4ec3d2-a221-41ce-93ae-9f5a3018eb00",
   "metadata": {},
   "outputs": [],
   "source": [
    "tab_splits, temp_splits = split_vectorized(\n",
    "    [tab_vectorized, temp_vectorized], SPLIT_FRACTIONS, axes=ENCOUNTER_ID\n",
    ")\n",
    "tab_train, tab_val, tab_test = tab_splits\n",
    "temp_train, temp_val, temp_test = temp_splits"
   ]
  },
  {
   "cell_type": "code",
   "execution_count": null,
   "id": "37a6a36d-499d-447e-93eb-3ac002c986c6",
   "metadata": {},
   "outputs": [],
   "source": [
    "tab_train.shape, tab_val.shape, tab_test.shape"
   ]
  },
  {
   "cell_type": "code",
   "execution_count": null,
   "id": "edfd710c-b21d-4dc4-b8e4-550235570768",
   "metadata": {},
   "outputs": [],
   "source": [
    "temp_train.shape, temp_val.shape, temp_test.shape"
   ]
  },
  {
   "cell_type": "markdown",
   "id": "203ec0ad-a35a-49df-8979-a32779c3ac13",
   "metadata": {},
   "source": [
    "## Split features/targets"
   ]
  },
  {
   "cell_type": "markdown",
   "id": "9e2f20f3-fe51-41f5-be9f-c74d32519787",
   "metadata": {},
   "source": [
    "Split out the targets in the temporal data."
   ]
  },
  {
   "cell_type": "code",
   "execution_count": null,
   "id": "aca6b88f-8f3b-46d2-9d75-3fe8eec1745b",
   "metadata": {},
   "outputs": [],
   "source": [
    "tab_train_X, tab_train_y = tab_train.split_out(FEATURES, TAB_TARGETS)\n",
    "tab_train_X.shape, tab_train_y.shape"
   ]
  },
  {
   "cell_type": "code",
   "execution_count": null,
   "id": "ec5a428e-fcab-4a49-b9c9-77fe5b56da4f",
   "metadata": {},
   "outputs": [],
   "source": [
    "tab_val_X, tab_val_y = tab_val.split_out(FEATURES, TAB_TARGETS)\n",
    "tab_val_X.shape, tab_val_y.shape"
   ]
  },
  {
   "cell_type": "code",
   "execution_count": null,
   "id": "98adfca2-4347-475e-ad9d-aeb15a9f3c65",
   "metadata": {},
   "outputs": [],
   "source": [
    "tab_test_X, tab_test_y = tab_test.split_out(FEATURES, TAB_TARGETS)\n",
    "tab_test_X.shape, tab_test_y.shape"
   ]
  },
  {
   "cell_type": "code",
   "execution_count": null,
   "id": "7a251574-2635-42db-b42e-3d8b77143b64",
   "metadata": {},
   "outputs": [],
   "source": [
    "temp_train_X, temp_train_y = temp_train.split_out(EVENT_NAME, TEMP_TARGETS)\n",
    "temp_train_X.shape, temp_train_y.shape"
   ]
  },
  {
   "cell_type": "code",
   "execution_count": null,
   "id": "54795d9d-c2a4-4dd4-9ff9-d3927a0339a3",
   "metadata": {},
   "outputs": [],
   "source": [
    "temp_val_X, temp_val_y = temp_val.split_out(EVENT_NAME, TEMP_TARGETS)\n",
    "temp_val_X.shape, temp_val_y.shape"
   ]
  },
  {
   "cell_type": "code",
   "execution_count": null,
   "id": "7857300c-e98e-4af3-89eb-4665e887c60c",
   "metadata": {},
   "outputs": [],
   "source": [
    "temp_test_X, temp_test_y = temp_test.split_out(EVENT_NAME, TEMP_TARGETS)\n",
    "temp_test_X.shape, temp_test_y.shape"
   ]
  },
  {
   "cell_type": "markdown",
   "id": "b45650c0-847e-4b13-974f-49f9b89cc5f3",
   "metadata": {},
   "source": [
    "### Normalization"
   ]
  },
  {
   "cell_type": "code",
   "execution_count": null,
   "id": "47896217-2e2c-449b-9ac9-b3ce08028f91",
   "metadata": {},
   "outputs": [],
   "source": [
    "splits = (\n",
    "    tab_train_X,\n",
    "    tab_val_X,\n",
    "    tab_test_X,\n",
    "    temp_train_X,\n",
    "    temp_val_X,\n",
    "    temp_test_X,\n",
    ")\n",
    "\n",
    "for split in splits:\n",
    "    split.fit_normalizer()\n",
    "    split.normalize()\n",
    "\n",
    "(\n",
    "    tab_train_X,\n",
    "    tab_val_X,\n",
    "    tab_test_X,\n",
    "    temp_train_X,\n",
    "    temp_val_X,\n",
    "    temp_test_X,\n",
    ") = splits"
   ]
  },
  {
   "cell_type": "markdown",
   "id": "e1c2c5b5-9979-4678-bead-ad42b547abfb",
   "metadata": {
    "tags": []
   },
   "source": [
    "## Save"
   ]
  },
  {
   "cell_type": "code",
   "execution_count": null,
   "id": "9f88e2b1-373e-46c6-97ca-aabd2873fe9a",
   "metadata": {},
   "outputs": [],
   "source": [
    "# Store data (serialize)\n",
    "vectorized = [\n",
    "    (tab_train_X, \"tab_train_X\"),\n",
    "    (tab_val_X, \"tab_val_X\"),\n",
    "    (tab_test_X, \"tab_test_X\"),\n",
    "    (temp_train_X, \"temp_train_X\"),\n",
    "    (temp_train_y, \"temp_train_y\"),\n",
    "    (temp_val_X, \"temp_val_X\"),\n",
    "    (temp_val_y, \"temp_val_y\"),\n",
    "    (temp_test_X, \"temp_test_X\"),\n",
    "    (temp_test_y, \"temp_test_y\"),\n",
    "]\n",
    "for vec, name in vectorized:\n",
    "    with open(name + \".pkl\", \"wb\") as handle:\n",
    "        pickle.dump(vec, handle)"
   ]
  }
 ],
 "metadata": {
  "kernelspec": {
   "display_name": "cyclops",
   "language": "python",
   "name": "cyclops"
  },
  "language_info": {
   "codemirror_mode": {
    "name": "ipython",
    "version": 3
   },
   "file_extension": ".py",
   "mimetype": "text/x-python",
   "name": "python",
   "nbconvert_exporter": "python",
   "pygments_lexer": "ipython3",
   "version": "3.9.7"
  }
 },
 "nbformat": 4,
 "nbformat_minor": 5
}
