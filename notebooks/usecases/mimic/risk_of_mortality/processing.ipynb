{
 "cells": [
  {
   "cell_type": "code",
   "execution_count": 1,
   "id": "c8187b80-aa12-4c9b-97b2-83f83691d84d",
   "metadata": {},
   "outputs": [
    {
     "name": "stderr",
     "output_type": "stream",
     "text": [
      "2022-08-10 17:15:12,881 \u001b[1;37mINFO\u001b[0m cyclops.orm     - Database setup, ready to run queries!\n"
     ]
    }
   ],
   "source": [
    "import pickle\n",
    "\n",
    "import numpy as np\n",
    "import pandas as pd\n",
    "\n",
    "from cyclops.processors.aggregate import Aggregator\n",
    "from cyclops.processors.cleaning import (\n",
    "    normalize_categories,\n",
    "    normalize_names,\n",
    "    normalize_values,\n",
    ")\n",
    "from cyclops.processors.column_names import (\n",
    "    ADMIT_TIMESTAMP,\n",
    "    AGE,\n",
    "    CARE_UNIT,\n",
    "    DIAGNOSIS_CODE,\n",
    "    DIAGNOSIS_TRAJECTORY,\n",
    "    ENCOUNTER_ID,\n",
    "    EVENT_CATEGORY,\n",
    "    EVENT_NAME,\n",
    "    EVENT_TIMESTAMP,\n",
    "    EVENT_VALUE,\n",
    "    EVENT_VALUE_UNIT,\n",
    "    HOSPITAL_ID,\n",
    "    SEX,\n",
    "    SUBJECT_ID,\n",
    "    TIMESTEP,\n",
    "    YEAR,\n",
    ")\n",
    "from cyclops.processors.constants import (\n",
    "    BINARY,\n",
    "    BY,\n",
    "    CATEGORICAL_INDICATOR,\n",
    "    FEATURE_INDICATOR_ATTR,\n",
    "    FEATURE_MAPPING_ATTR,\n",
    "    FEATURE_TYPE_ATTR,\n",
    "    FEATURE_TYPES,\n",
    "    FEATURES,\n",
    "    MEAN,\n",
    "    MIN_MAX,\n",
    "    MISSING_CATEGORY,\n",
    "    NUMERIC,\n",
    "    ORDINAL,\n",
    "    STANDARD,\n",
    "    STRING,\n",
    "    TARGETS,\n",
    ")\n",
    "from cyclops.processors.feature.feature import TabularFeatures, TemporalFeatures\n",
    "from cyclops.processors.feature.normalization import VectorizedNormalizer\n",
    "from cyclops.processors.feature.vectorize import (\n",
    "    intersect_vectorized,\n",
    "    split_vectorized,\n",
    "    vec_index_exp,\n",
    ")\n",
    "from cyclops.processors.impute import (\n",
    "    np_ffill,\n",
    "    np_ffill_bfill,\n",
    "    np_fill_null_num,\n",
    "    np_fill_null_zero,\n",
    ")\n",
    "from cyclops.query import mimic\n",
    "from cyclops.query import process as qp\n",
    "from cyclops.utils.common import print_dict\n",
    "from cyclops.utils.file import (\n",
    "    join,\n",
    "    load_array,\n",
    "    load_dataframe,\n",
    "    save_dataframe,\n",
    "    yield_dataframes,\n",
    "    process_dir_save_path,\n",
    ")"
   ]
  },
  {
   "cell_type": "code",
   "execution_count": 2,
   "id": "6e81b3cd-e787-4569-96a2-546ed9bc64ae",
   "metadata": {},
   "outputs": [],
   "source": [
    "SPLIT_FRACTIONS = [0.8, 0.1]\n",
    "PREDICT_OFFSET = 24\n",
    "\n",
    "# Tabular\n",
    "OUTCOME_DEATH = \"outcome_death\"\n",
    "TAB_TARGETS = [OUTCOME_DEATH]\n",
    "\n",
    "# Temporal\n",
    "OUTCOME_DEATH_PROCESSED = TARGETS + \" - \" + OUTCOME_DEATH\n",
    "TEMP_DIR = \"./2cleaned\"\n",
    "TEMP_TARGETS = [OUTCOME_DEATH_PROCESSED]\n",
    "\n",
    "TEMP_AGG_DIR = process_dir_save_path(\"./3aggregated\")\n",
    "TIMESTEP_SIZE = 24\n",
    "WINDOW_DURATION = 144"
   ]
  },
  {
   "cell_type": "markdown",
   "id": "c40f9507-91bd-487f-a73d-0faccf54c7a6",
   "metadata": {
    "tags": []
   },
   "source": [
    "# Tabular-specific processing"
   ]
  },
  {
   "cell_type": "code",
   "execution_count": 3,
   "id": "643ec42d-a118-46ac-99c3-a776e60e1a65",
   "metadata": {},
   "outputs": [
    {
     "name": "stderr",
     "output_type": "stream",
     "text": [
      "2022-08-10 17:15:12,913 \u001b[1;37mINFO\u001b[0m cyclops.utils.file - Loading DataFrame from encounters.parquet\n"
     ]
    },
    {
     "data": {
      "text/html": [
       "<div>\n",
       "<style scoped>\n",
       "    .dataframe tbody tr th:only-of-type {\n",
       "        vertical-align: middle;\n",
       "    }\n",
       "\n",
       "    .dataframe tbody tr th {\n",
       "        vertical-align: top;\n",
       "    }\n",
       "\n",
       "    .dataframe thead th {\n",
       "        text-align: right;\n",
       "    }\n",
       "</style>\n",
       "<table border=\"1\" class=\"dataframe\">\n",
       "  <thead>\n",
       "    <tr style=\"text-align: right;\">\n",
       "      <th></th>\n",
       "      <th>subject_id</th>\n",
       "      <th>encounter_id</th>\n",
       "      <th>admit_timestamp</th>\n",
       "      <th>discharge_timestamp</th>\n",
       "      <th>deathtime</th>\n",
       "      <th>admission_type</th>\n",
       "      <th>admission_location</th>\n",
       "      <th>discharge_location</th>\n",
       "      <th>ethnicity</th>\n",
       "      <th>edregtime</th>\n",
       "      <th>edouttime</th>\n",
       "      <th>sex</th>\n",
       "      <th>age</th>\n",
       "      <th>birth_year</th>\n",
       "      <th>dod</th>\n",
       "      <th>anchor_year_difference</th>\n",
       "      <th>outcome_death</th>\n",
       "    </tr>\n",
       "  </thead>\n",
       "  <tbody>\n",
       "    <tr>\n",
       "      <th>0</th>\n",
       "      <td>19731189</td>\n",
       "      <td>21820217</td>\n",
       "      <td>2012-06-21 16:39:00</td>\n",
       "      <td>2012-06-27 12:00:00</td>\n",
       "      <td>NaT</td>\n",
       "      <td>ELECTIVE</td>\n",
       "      <td>None</td>\n",
       "      <td>HOME</td>\n",
       "      <td>BLACK/AFRICAN AMERICAN</td>\n",
       "      <td>NaT</td>\n",
       "      <td>NaT</td>\n",
       "      <td>M</td>\n",
       "      <td>0</td>\n",
       "      <td>2012</td>\n",
       "      <td>NaT</td>\n",
       "      <td>-149</td>\n",
       "      <td>False</td>\n",
       "    </tr>\n",
       "    <tr>\n",
       "      <th>1</th>\n",
       "      <td>14523215</td>\n",
       "      <td>29575656</td>\n",
       "      <td>2018-12-30 21:07:00</td>\n",
       "      <td>2019-01-01 11:38:00</td>\n",
       "      <td>NaT</td>\n",
       "      <td>ELECTIVE</td>\n",
       "      <td>None</td>\n",
       "      <td>HOME</td>\n",
       "      <td>WHITE</td>\n",
       "      <td>NaT</td>\n",
       "      <td>NaT</td>\n",
       "      <td>M</td>\n",
       "      <td>0</td>\n",
       "      <td>2018</td>\n",
       "      <td>NaT</td>\n",
       "      <td>-118</td>\n",
       "      <td>False</td>\n",
       "    </tr>\n",
       "    <tr>\n",
       "      <th>2</th>\n",
       "      <td>10487271</td>\n",
       "      <td>28274967</td>\n",
       "      <td>2009-09-13 13:37:00</td>\n",
       "      <td>2009-09-14 18:30:00</td>\n",
       "      <td>NaT</td>\n",
       "      <td>ELECTIVE</td>\n",
       "      <td>None</td>\n",
       "      <td>HOME</td>\n",
       "      <td>WHITE</td>\n",
       "      <td>NaT</td>\n",
       "      <td>NaT</td>\n",
       "      <td>M</td>\n",
       "      <td>0</td>\n",
       "      <td>2009</td>\n",
       "      <td>NaT</td>\n",
       "      <td>-164</td>\n",
       "      <td>False</td>\n",
       "    </tr>\n",
       "    <tr>\n",
       "      <th>3</th>\n",
       "      <td>12188356</td>\n",
       "      <td>23159459</td>\n",
       "      <td>2018-02-12 00:38:00</td>\n",
       "      <td>2018-02-14 14:01:00</td>\n",
       "      <td>NaT</td>\n",
       "      <td>ELECTIVE</td>\n",
       "      <td>None</td>\n",
       "      <td>HOME</td>\n",
       "      <td>WHITE</td>\n",
       "      <td>NaT</td>\n",
       "      <td>NaT</td>\n",
       "      <td>F</td>\n",
       "      <td>0</td>\n",
       "      <td>2018</td>\n",
       "      <td>NaT</td>\n",
       "      <td>-123</td>\n",
       "      <td>False</td>\n",
       "    </tr>\n",
       "    <tr>\n",
       "      <th>4</th>\n",
       "      <td>16487201</td>\n",
       "      <td>22587598</td>\n",
       "      <td>2018-06-10 21:58:00</td>\n",
       "      <td>2018-06-20 12:02:00</td>\n",
       "      <td>NaT</td>\n",
       "      <td>ELECTIVE</td>\n",
       "      <td>None</td>\n",
       "      <td>HOME</td>\n",
       "      <td>WHITE</td>\n",
       "      <td>NaT</td>\n",
       "      <td>NaT</td>\n",
       "      <td>F</td>\n",
       "      <td>0</td>\n",
       "      <td>2018</td>\n",
       "      <td>NaT</td>\n",
       "      <td>-103</td>\n",
       "      <td>False</td>\n",
       "    </tr>\n",
       "  </tbody>\n",
       "</table>\n",
       "</div>"
      ],
      "text/plain": [
       "   subject_id  encounter_id     admit_timestamp discharge_timestamp deathtime  \\\n",
       "0    19731189      21820217 2012-06-21 16:39:00 2012-06-27 12:00:00       NaT   \n",
       "1    14523215      29575656 2018-12-30 21:07:00 2019-01-01 11:38:00       NaT   \n",
       "2    10487271      28274967 2009-09-13 13:37:00 2009-09-14 18:30:00       NaT   \n",
       "3    12188356      23159459 2018-02-12 00:38:00 2018-02-14 14:01:00       NaT   \n",
       "4    16487201      22587598 2018-06-10 21:58:00 2018-06-20 12:02:00       NaT   \n",
       "\n",
       "  admission_type admission_location discharge_location  \\\n",
       "0       ELECTIVE               None               HOME   \n",
       "1       ELECTIVE               None               HOME   \n",
       "2       ELECTIVE               None               HOME   \n",
       "3       ELECTIVE               None               HOME   \n",
       "4       ELECTIVE               None               HOME   \n",
       "\n",
       "                ethnicity edregtime edouttime sex  age  birth_year dod  \\\n",
       "0  BLACK/AFRICAN AMERICAN       NaT       NaT   M    0        2012 NaT   \n",
       "1                   WHITE       NaT       NaT   M    0        2018 NaT   \n",
       "2                   WHITE       NaT       NaT   M    0        2009 NaT   \n",
       "3                   WHITE       NaT       NaT   F    0        2018 NaT   \n",
       "4                   WHITE       NaT       NaT   F    0        2018 NaT   \n",
       "\n",
       "   anchor_year_difference outcome_death  \n",
       "0                    -149         False  \n",
       "1                    -118         False  \n",
       "2                    -164         False  \n",
       "3                    -123         False  \n",
       "4                    -103         False  "
      ]
     },
     "execution_count": 3,
     "metadata": {},
     "output_type": "execute_result"
    }
   ],
   "source": [
    "cohort = load_dataframe(\"encounters.parquet\")\n",
    "cohort.head(5)"
   ]
  },
  {
   "cell_type": "code",
   "execution_count": 4,
   "id": "fb8aec10-040a-4a71-8433-40f9d6855dd5",
   "metadata": {},
   "outputs": [],
   "source": [
    "features = [\n",
    "    AGE,\n",
    "    SEX,\n",
    "    OUTCOME_DEATH,\n",
    "    \"admission_type\",\n",
    "    \"admission_location\",\n",
    "    \"discharge_location\",\n",
    "    \"ethnicity\",\n",
    "]\n",
    "\n",
    "cohort = cohort.reset_index(drop=True)\n",
    "\n",
    "tab_features = TabularFeatures(\n",
    "    data=cohort,\n",
    "    features=features,\n",
    "    by=ENCOUNTER_ID,\n",
    ")"
   ]
  },
  {
   "cell_type": "code",
   "execution_count": 5,
   "id": "af949608-e0b8-4cdf-9e72-71e8b26eab18",
   "metadata": {},
   "outputs": [
    {
     "data": {
      "text/plain": [
       "{'ethnicity': 'ordinal',\n",
       " 'admission_location': 'ordinal',\n",
       " 'admission_type': 'ordinal',\n",
       " 'outcome_death': 'numeric',\n",
       " 'sex': 'binary',\n",
       " 'discharge_location': 'ordinal',\n",
       " 'age': 'numeric'}"
      ]
     },
     "execution_count": 5,
     "metadata": {},
     "output_type": "execute_result"
    }
   ],
   "source": [
    "tab_features.types"
   ]
  },
  {
   "cell_type": "code",
   "execution_count": 6,
   "id": "2cb215a8-e9ad-4105-b744-a61a93ef0e09",
   "metadata": {},
   "outputs": [
    {
     "data": {
      "text/plain": [
       "dict_keys(['ethnicity', 'admission_location', 'admission_type', 'outcome_death', 'sex', 'discharge_location', 'age'])"
      ]
     },
     "execution_count": 6,
     "metadata": {},
     "output_type": "execute_result"
    }
   ],
   "source": [
    "tab_features.meta.keys()"
   ]
  },
  {
   "cell_type": "code",
   "execution_count": 7,
   "id": "4ea328b2-e397-405a-a5b0-7bcaa4520aa6",
   "metadata": {},
   "outputs": [
    {
     "data": {
      "text/plain": [
       "{0: 'AMBULATORY SURGERY TRANSFER',\n",
       " 1: 'CLINIC REFERRAL',\n",
       " 2: 'EMERGENCY ROOM',\n",
       " 3: 'INFORMATION NOT AVAILABLE',\n",
       " 4: 'INTERNAL TRANSFER TO OR FROM PSYCH',\n",
       " 5: 'PACU',\n",
       " 6: 'PHYSICIAN REFERRAL',\n",
       " 7: 'PROCEDURE SITE',\n",
       " 8: 'TRANSFER FROM HOSPITAL',\n",
       " 9: 'TRANSFER FROM SKILLED NURSING FACILITY',\n",
       " 10: 'WALK-IN/SELF REFERRAL',\n",
       " 11: 'nan'}"
      ]
     },
     "execution_count": 7,
     "metadata": {},
     "output_type": "execute_result"
    }
   ],
   "source": [
    "tab_features.meta[\"admission_location\"].get_mapping()"
   ]
  },
  {
   "cell_type": "code",
   "execution_count": 8,
   "id": "b90115b1-3e5e-412c-ae3a-51e1f7d5607b",
   "metadata": {},
   "outputs": [
    {
     "data": {
      "text/plain": [
       "['ethnicity', 'admission_location', 'admission_type', 'discharge_location']"
      ]
     },
     "execution_count": 8,
     "metadata": {},
     "output_type": "execute_result"
    }
   ],
   "source": [
    "ordinal_features = tab_features.features_by_type(ORDINAL)\n",
    "ordinal_features"
   ]
  },
  {
   "cell_type": "code",
   "execution_count": 9,
   "id": "eda135bc-f0f6-4dd1-bb4e-91d96a24f44e",
   "metadata": {},
   "outputs": [
    {
     "name": "stderr",
     "output_type": "stream",
     "text": [
      "/home/kmckeen/gemini/cyclops/cyclops/processors/feature/feature.py:696: SettingWithCopyWarning: \n",
      "A value is trying to be set on a copy of a slice from a DataFrame.\n",
      "Try using .loc[row_indexer,col_indexer] = value instead\n",
      "\n",
      "See the caveats in the documentation: https://pandas.pydata.org/pandas-docs/stable/user_guide/indexing.html#returning-a-view-versus-a-copy\n",
      "  data[feat] = data[feat].replace(self.meta[feat].get_mapping())\n",
      "/home/kmckeen/gemini/cyclops/cyclops/processors/feature/feature.py:696: SettingWithCopyWarning: \n",
      "A value is trying to be set on a copy of a slice from a DataFrame.\n",
      "Try using .loc[row_indexer,col_indexer] = value instead\n",
      "\n",
      "See the caveats in the documentation: https://pandas.pydata.org/pandas-docs/stable/user_guide/indexing.html#returning-a-view-versus-a-copy\n",
      "  data[feat] = data[feat].replace(self.meta[feat].get_mapping())\n",
      "/home/kmckeen/gemini/cyclops/cyclops/processors/feature/feature.py:696: SettingWithCopyWarning: \n",
      "A value is trying to be set on a copy of a slice from a DataFrame.\n",
      "Try using .loc[row_indexer,col_indexer] = value instead\n",
      "\n",
      "See the caveats in the documentation: https://pandas.pydata.org/pandas-docs/stable/user_guide/indexing.html#returning-a-view-versus-a-copy\n",
      "  data[feat] = data[feat].replace(self.meta[feat].get_mapping())\n",
      "/home/kmckeen/gemini/cyclops/cyclops/processors/feature/feature.py:696: SettingWithCopyWarning: \n",
      "A value is trying to be set on a copy of a slice from a DataFrame.\n",
      "Try using .loc[row_indexer,col_indexer] = value instead\n",
      "\n",
      "See the caveats in the documentation: https://pandas.pydata.org/pandas-docs/stable/user_guide/indexing.html#returning-a-view-versus-a-copy\n",
      "  data[feat] = data[feat].replace(self.meta[feat].get_mapping())\n"
     ]
    }
   ],
   "source": [
    "tab_vectorized = tab_features.vectorize(to_binary_indicators=ordinal_features)"
   ]
  },
  {
   "cell_type": "code",
   "execution_count": 10,
   "id": "97a3a502-4d33-4380-92f6-3f345f5de00d",
   "metadata": {},
   "outputs": [
    {
     "data": {
      "text/plain": [
       "(523740, 44)"
      ]
     },
     "execution_count": 10,
     "metadata": {},
     "output_type": "execute_result"
    }
   ],
   "source": [
    "tab_vectorized.shape"
   ]
  },
  {
   "cell_type": "code",
   "execution_count": 11,
   "id": "7067bc7f-4da8-4d6e-bf1f-afa41c1590da",
   "metadata": {},
   "outputs": [
    {
     "data": {
      "text/plain": [
       "['encounter_id', 'features']"
      ]
     },
     "execution_count": 11,
     "metadata": {},
     "output_type": "execute_result"
    }
   ],
   "source": [
    "tab_vectorized.axis_names"
   ]
  },
  {
   "cell_type": "code",
   "execution_count": 12,
   "id": "614b3a5b-703a-4969-9b8e-3e7dbd439f11",
   "metadata": {},
   "outputs": [
    {
     "data": {
      "text/plain": [
       "['outcome_death', 'age']"
      ]
     },
     "execution_count": 12,
     "metadata": {},
     "output_type": "execute_result"
    }
   ],
   "source": [
    "numeric_features = tab_features.features_by_type(NUMERIC)\n",
    "numeric_features"
   ]
  },
  {
   "cell_type": "markdown",
   "id": "2187007a-7fc8-4c33-b60a-44cb05562c16",
   "metadata": {
    "tags": []
   },
   "source": [
    "# Temporal-specific processing"
   ]
  },
  {
   "cell_type": "code",
   "execution_count": 13,
   "id": "10e89fbb-fffe-462c-a1fd-f9f9ce79dcc0",
   "metadata": {},
   "outputs": [
    {
     "name": "stderr",
     "output_type": "stream",
     "text": [
      "2022-08-10 17:15:15,553 \u001b[1;37mINFO\u001b[0m cyclops.utils.file - Loading DataFrame from ./2cleaned/batch_0000.parquet\n",
      "2022-08-10 17:15:18,236 \u001b[1;37mINFO\u001b[0m cyclops.utils.file - Loading DataFrame from ./2cleaned/batch_0001.parquet\n",
      "2022-08-10 17:15:20,962 \u001b[1;37mINFO\u001b[0m cyclops.utils.file - Loading DataFrame from ./2cleaned/batch_0002.parquet\n",
      "2022-08-10 17:15:23,727 \u001b[1;37mINFO\u001b[0m cyclops.utils.file - Loading DataFrame from ./2cleaned/batch_0003.parquet\n",
      "2022-08-10 17:15:26,448 \u001b[1;37mINFO\u001b[0m cyclops.utils.file - Loading DataFrame from ./2cleaned/batch_0004.parquet\n",
      "2022-08-10 17:15:29,034 \u001b[1;37mINFO\u001b[0m cyclops.utils.file - Loading DataFrame from ./2cleaned/batch_0005.parquet\n",
      "2022-08-10 17:15:31,710 \u001b[1;37mINFO\u001b[0m cyclops.utils.file - Loading DataFrame from ./2cleaned/batch_0006.parquet\n",
      "2022-08-10 17:15:34,419 \u001b[1;37mINFO\u001b[0m cyclops.utils.file - Loading DataFrame from ./2cleaned/batch_0007.parquet\n",
      "2022-08-10 17:15:37,104 \u001b[1;37mINFO\u001b[0m cyclops.utils.file - Loading DataFrame from ./2cleaned/batch_0008.parquet\n",
      "2022-08-10 17:15:39,870 \u001b[1;37mINFO\u001b[0m cyclops.utils.file - Loading DataFrame from ./2cleaned/batch_0009.parquet\n",
      "2022-08-10 17:15:42,455 \u001b[1;37mINFO\u001b[0m cyclops.utils.file - Loading DataFrame from ./2cleaned/batch_0010.parquet\n",
      "2022-08-10 17:15:45,016 \u001b[1;37mINFO\u001b[0m cyclops.utils.file - Loading DataFrame from ./2cleaned/batch_0011.parquet\n",
      "2022-08-10 17:15:47,729 \u001b[1;37mINFO\u001b[0m cyclops.utils.file - Loading DataFrame from ./2cleaned/batch_0012.parquet\n",
      "2022-08-10 17:15:50,477 \u001b[1;37mINFO\u001b[0m cyclops.utils.file - Loading DataFrame from ./2cleaned/batch_0013.parquet\n",
      "2022-08-10 17:15:53,037 \u001b[1;37mINFO\u001b[0m cyclops.utils.file - Loading DataFrame from ./2cleaned/batch_0014.parquet\n",
      "2022-08-10 17:15:55,836 \u001b[1;37mINFO\u001b[0m cyclops.utils.file - Loading DataFrame from ./2cleaned/batch_0015.parquet\n",
      "2022-08-10 17:15:58,461 \u001b[1;37mINFO\u001b[0m cyclops.utils.file - Loading DataFrame from ./2cleaned/batch_0016.parquet\n",
      "2022-08-10 17:16:01,096 \u001b[1;37mINFO\u001b[0m cyclops.utils.file - Loading DataFrame from ./2cleaned/batch_0017.parquet\n",
      "2022-08-10 17:16:03,656 \u001b[1;37mINFO\u001b[0m cyclops.utils.file - Loading DataFrame from ./2cleaned/batch_0018.parquet\n",
      "2022-08-10 17:16:06,208 \u001b[1;37mINFO\u001b[0m cyclops.utils.file - Loading DataFrame from ./2cleaned/batch_0019.parquet\n",
      "2022-08-10 17:16:08,763 \u001b[1;37mINFO\u001b[0m cyclops.utils.file - Loading DataFrame from ./2cleaned/batch_0020.parquet\n",
      "2022-08-10 17:16:11,344 \u001b[1;37mINFO\u001b[0m cyclops.utils.file - Loading DataFrame from ./2cleaned/batch_0021.parquet\n",
      "2022-08-10 17:16:13,934 \u001b[1;37mINFO\u001b[0m cyclops.utils.file - Loading DataFrame from ./2cleaned/batch_0022.parquet\n",
      "2022-08-10 17:16:16,489 \u001b[1;37mINFO\u001b[0m cyclops.utils.file - Loading DataFrame from ./2cleaned/batch_0023.parquet\n",
      "2022-08-10 17:16:19,060 \u001b[1;37mINFO\u001b[0m cyclops.utils.file - Loading DataFrame from ./2cleaned/batch_0024.parquet\n",
      "2022-08-10 17:16:21,790 \u001b[1;37mINFO\u001b[0m cyclops.utils.file - Loading DataFrame from ./2cleaned/batch_0025.parquet\n",
      "2022-08-10 17:16:24,490 \u001b[1;37mINFO\u001b[0m cyclops.utils.file - Loading DataFrame from ./2cleaned/batch_0026.parquet\n",
      "2022-08-10 17:16:27,068 \u001b[1;37mINFO\u001b[0m cyclops.utils.file - Loading DataFrame from ./2cleaned/batch_0027.parquet\n",
      "2022-08-10 17:16:29,708 \u001b[1;37mINFO\u001b[0m cyclops.utils.file - Loading DataFrame from ./2cleaned/batch_0028.parquet\n",
      "2022-08-10 17:16:32,244 \u001b[1;37mINFO\u001b[0m cyclops.utils.file - Loading DataFrame from ./2cleaned/batch_0029.parquet\n",
      "2022-08-10 17:16:34,850 \u001b[1;37mINFO\u001b[0m cyclops.utils.file - Loading DataFrame from ./2cleaned/batch_0030.parquet\n",
      "2022-08-10 17:16:37,473 \u001b[1;37mINFO\u001b[0m cyclops.utils.file - Loading DataFrame from ./2cleaned/batch_0031.parquet\n",
      "2022-08-10 17:16:40,041 \u001b[1;37mINFO\u001b[0m cyclops.utils.file - Loading DataFrame from ./2cleaned/batch_0032.parquet\n"
     ]
    },
    {
     "data": {
      "text/plain": [
       "array(['access lines - invasive - arterial line dressing occlusive',\n",
       "       'access lines - invasive - arterial line placed in outside facility',\n",
       "       'access lines - invasive - multi lumen dressing occlusive',\n",
       "       'access lines - invasive - multi lumen placed in outside facility',\n",
       "       'access lines - invasive - picc line placed in outside facility',\n",
       "       'access lines - peripheral - 18 gauge dressing occlusive',\n",
       "       'access lines - peripheral - 18 gauge placed in outside facility',\n",
       "       'access lines - peripheral - 18 gauge placed in the field',\n",
       "       'access lines - peripheral - 20 gauge dressing occlusive',\n",
       "       'access lines - peripheral - 20 gauge placed in outside facility',\n",
       "       'access lines - peripheral - 20 gauge placed in the field',\n",
       "       'alarms - alarms on',\n",
       "       'alarms - arterial blood pressure alarm - high',\n",
       "       'alarms - arterial blood pressure alarm - low',\n",
       "       'alarms - heart rate alarm - high',\n",
       "       'alarms - heart rate alarm - low',\n",
       "       'alarms - minute volume alarm - high',\n",
       "       'alarms - minute volume alarm - low',\n",
       "       'alarms - non-invasive blood pressure alarm - high',\n",
       "       'alarms - non-invasive blood pressure alarm - low',\n",
       "       'alarms - o2 saturation pulseoxymetry alarm - high',\n",
       "       'alarms - o2 saturation pulseoxymetry alarm - low',\n",
       "       'alarms - parameters checked', 'alarms - resp alarm - high',\n",
       "       'alarms - resp alarm - low', 'alarms - spo2 desat limit',\n",
       "       'alarms - st segment monitoring on',\n",
       "       'care plans - acuity workload question 1',\n",
       "       'care plans - acuity workload question 2',\n",
       "       'dialysis - access pressure', 'dialysis - current goal',\n",
       "       'dialysis - filter pressure', 'dialysis - ultrafiltrate output',\n",
       "       'general - daily weight', 'hemodynamics - central venous pressure',\n",
       "       'hemodynamics - pulmonary artery pressure diastolic',\n",
       "       'hemodynamics - pulmonary artery pressure mean',\n",
       "       'hemodynamics - pulmonary artery pressure systolic',\n",
       "       'labs - anion gap', 'labs - arterial base excess',\n",
       "       'labs - arterial co2 pressure', 'labs - arterial o2 pressure',\n",
       "       'labs - bun', 'labs - calcium non-ionized', 'labs - chloride',\n",
       "       'labs - creatinine', 'labs - glucose',\n",
       "       'labs - glucose finger stick', 'labs - hco3', 'labs - hematocrit',\n",
       "       'labs - hemoglobin', 'labs - inr', 'labs - ionized calcium',\n",
       "       'labs - lactic acid', 'labs - magnesium', 'labs - ph',\n",
       "       'labs - phosphorous', 'labs - platelet count', 'labs - potassium',\n",
       "       'labs - prothrombin time', 'labs - ptt', 'labs - sodium',\n",
       "       'labs - tco2  arterial', 'labs - wbc',\n",
       "       'neurological - gcs - eye opening',\n",
       "       'neurological - gcs - motor response',\n",
       "       'neurological - gcs - verbal response',\n",
       "       'neurological - orientation',\n",
       "       'neurological - orientation to person',\n",
       "       'neurological - orientation to place',\n",
       "       'neurological - orientation to time',\n",
       "       'neurological - strength l arm', 'neurological - strength l leg',\n",
       "       'neurological - strength r arm', 'neurological - strength r leg',\n",
       "       'pain/sedation - cam-icu ms change',\n",
       "       'pain/sedation - goal richmond-ras scale',\n",
       "       'pain/sedation - pain level',\n",
       "       'pain/sedation - pain level response',\n",
       "       'pain/sedation - richmond-ras scale',\n",
       "       'pain/sedation - riker-sas scale',\n",
       "       'pulmonary - current dyspnea assessment',\n",
       "       'respiratory - apnea interval', 'respiratory - expiratory ratio',\n",
       "       'respiratory - fspn high', 'respiratory - inspiratory ratio',\n",
       "       'respiratory - inspiratory time',\n",
       "       'respiratory - inspired gas temp.',\n",
       "       'respiratory - inspired o2 fraction',\n",
       "       'respiratory - mean airway pressure',\n",
       "       'respiratory - minute volume', 'respiratory - o2 flow',\n",
       "       'respiratory - o2 saturation pulseoxymetry',\n",
       "       'respiratory - paw high', 'respiratory - peak insp. pressure',\n",
       "       'respiratory - peep set', 'respiratory - plateau pressure',\n",
       "       'respiratory - psv level', 'respiratory - respiratory rate',\n",
       "       'respiratory - tidal volume', 'respiratory - ventilator mode',\n",
       "       'respiratory - ventilator type', 'respiratory - vti high',\n",
       "       'restraint/support systems - ambulatory aid',\n",
       "       'restraint/support systems - gait/transferring',\n",
       "       'restraint/support systems - high risk  interventions',\n",
       "       'restraint/support systems - history of falling',\n",
       "       'restraint/support systems - iv/saline lock',\n",
       "       'restraint/support systems - mental status',\n",
       "       'restraint/support systems - secondary diagnosis',\n",
       "       'routine vital signs - art bp mean',\n",
       "       'routine vital signs - art bp systolic',\n",
       "       'routine vital signs - arterial blood pressure diastolic',\n",
       "       'routine vital signs - arterial blood pressure mean',\n",
       "       'routine vital signs - arterial blood pressure systolic',\n",
       "       'routine vital signs - heart rate',\n",
       "       'routine vital signs - non invasive blood pressure diastolic',\n",
       "       'routine vital signs - non invasive blood pressure mean',\n",
       "       'routine vital signs - non invasive blood pressure systolic',\n",
       "       'routine vital signs - temperature celsius',\n",
       "       'routine vital signs - temperature fahrenheit',\n",
       "       'skin - assessment - braden activity',\n",
       "       'skin - assessment - braden friction/shear',\n",
       "       'skin - assessment - braden mobility',\n",
       "       'skin - assessment - braden moisture',\n",
       "       'skin - assessment - braden nutrition',\n",
       "       'skin - assessment - braden sensory perception',\n",
       "       'skin - impairment - impaired skin odor #1',\n",
       "       'targets - outcome_death', 'treatments - activity / mobility',\n",
       "       'treatments - back care', 'treatments - eye care',\n",
       "       'treatments - skin care', 'treatments - subglottal suctioning'],\n",
       "      dtype=object)"
      ]
     },
     "execution_count": 13,
     "metadata": {},
     "output_type": "execute_result"
    }
   ],
   "source": [
    "from functools import reduce\n",
    "\n",
    "import numpy as np\n",
    "\n",
    "top_n = 150\n",
    "all_top_events = []\n",
    "for i, events in enumerate(yield_dataframes(TEMP_DIR)):\n",
    "    # Keep only the most popular events where the values are not null\n",
    "    top_events = (\n",
    "        events[EVENT_NAME][~events[EVENT_VALUE].isna()].value_counts()[:top_n].index\n",
    "    )\n",
    "\n",
    "    all_top_events.append(top_events)\n",
    "\n",
    "    del events\n",
    "\n",
    "# Take only the events common to every file\n",
    "top_events = reduce(np.intersect1d, tuple(all_top_events))\n",
    "\n",
    "# Force include the target\n",
    "top_events = np.unique(np.append(top_events, OUTCOME_DEATH_PROCESSED))\n",
    "\n",
    "top_events"
   ]
  },
  {
   "cell_type": "code",
   "execution_count": 14,
   "id": "5b481f85-7bf5-47d3-8158-b94baf57d5d9",
   "metadata": {},
   "outputs": [
    {
     "data": {
      "text/plain": [
       "134"
      ]
     },
     "execution_count": 14,
     "metadata": {},
     "output_type": "execute_result"
    }
   ],
   "source": [
    "len(top_events)"
   ]
  },
  {
   "cell_type": "code",
   "execution_count": 15,
   "id": "75590a55-1b67-41d2-aad6-ebe4f0df08f1",
   "metadata": {},
   "outputs": [],
   "source": [
    "generator = yield_dataframes(TEMP_DIR)\n",
    "save_count = 0"
   ]
  },
  {
   "cell_type": "code",
   "execution_count": 16,
   "id": "99bba923-c76e-40c1-b0ff-efac37bf9ff8",
   "metadata": {},
   "outputs": [],
   "source": [
    "import time"
   ]
  },
  {
   "cell_type": "markdown",
   "id": "6d9dfdd7-f215-47da-9e21-bd5243ece4f6",
   "metadata": {},
   "source": [
    "-------------------------------------------------------------------"
   ]
  },
  {
   "cell_type": "code",
   "execution_count": 371,
   "id": "390fcb35-bc2a-46d4-b5a8-e58757810281",
   "metadata": {},
   "outputs": [],
   "source": [
    "# events = load_dataframe(\"events.parquet\")\n",
    "# events = events.sample(n=int(len(events) / 20))"
   ]
  },
  {
   "cell_type": "code",
   "execution_count": 388,
   "id": "6ebf0df6-9304-4146-b9d4-a18231c62040",
   "metadata": {},
   "outputs": [
    {
     "name": "stderr",
     "output_type": "stream",
     "text": [
      "2022-08-10 17:53:55,129 \u001b[1;37mINFO\u001b[0m cyclops.utils.file - Loading DataFrame from ./2cleaned/batch_0022.parquet\n"
     ]
    }
   ],
   "source": [
    "t = time.time()\n",
    "events = next(generator)"
   ]
  },
  {
   "cell_type": "code",
   "execution_count": 389,
   "id": "68644d5a-164a-41f4-8518-a8311afc348c",
   "metadata": {},
   "outputs": [
    {
     "data": {
      "text/html": [
       "<div>\n",
       "<style scoped>\n",
       "    .dataframe tbody tr th:only-of-type {\n",
       "        vertical-align: middle;\n",
       "    }\n",
       "\n",
       "    .dataframe tbody tr th {\n",
       "        vertical-align: top;\n",
       "    }\n",
       "\n",
       "    .dataframe thead th {\n",
       "        text-align: right;\n",
       "    }\n",
       "</style>\n",
       "<table border=\"1\" class=\"dataframe\">\n",
       "  <thead>\n",
       "    <tr style=\"text-align: right;\">\n",
       "      <th></th>\n",
       "      <th>encounter_id</th>\n",
       "      <th>subject_id</th>\n",
       "      <th>event_timestamp</th>\n",
       "      <th>value</th>\n",
       "      <th>event_value</th>\n",
       "      <th>event_value_unit</th>\n",
       "      <th>event_category</th>\n",
       "      <th>event_name</th>\n",
       "    </tr>\n",
       "  </thead>\n",
       "  <tbody>\n",
       "    <tr>\n",
       "      <th>0</th>\n",
       "      <td>26871943</td>\n",
       "      <td>13334871.0</td>\n",
       "      <td>2018-09-19 13:05:00</td>\n",
       "      <td>30</td>\n",
       "      <td>30.0</td>\n",
       "      <td>insp/min</td>\n",
       "      <td>alarms</td>\n",
       "      <td>alarms - resp alarm - high</td>\n",
       "    </tr>\n",
       "    <tr>\n",
       "      <th>1</th>\n",
       "      <td>26871943</td>\n",
       "      <td>13334871.0</td>\n",
       "      <td>2018-09-19 12:51:00</td>\n",
       "      <td>12.7</td>\n",
       "      <td>12.7</td>\n",
       "      <td>sec</td>\n",
       "      <td>labs</td>\n",
       "      <td>labs - prothrombin time</td>\n",
       "    </tr>\n",
       "    <tr>\n",
       "      <th>2</th>\n",
       "      <td>26871943</td>\n",
       "      <td>13334871.0</td>\n",
       "      <td>2018-09-19 12:51:00</td>\n",
       "      <td>40.3</td>\n",
       "      <td>40.3</td>\n",
       "      <td>sec</td>\n",
       "      <td>labs</td>\n",
       "      <td>labs - ptt</td>\n",
       "    </tr>\n",
       "    <tr>\n",
       "      <th>3</th>\n",
       "      <td>26871943</td>\n",
       "      <td>13334871.0</td>\n",
       "      <td>2018-09-19 12:51:00</td>\n",
       "      <td>1.2</td>\n",
       "      <td>1.2</td>\n",
       "      <td>None</td>\n",
       "      <td>labs</td>\n",
       "      <td>labs - inr</td>\n",
       "    </tr>\n",
       "    <tr>\n",
       "      <th>4</th>\n",
       "      <td>26871943</td>\n",
       "      <td>13334871.0</td>\n",
       "      <td>2018-09-19 13:02:00</td>\n",
       "      <td>0</td>\n",
       "      <td>0.0</td>\n",
       "      <td>mmHg</td>\n",
       "      <td>routine vital signs</td>\n",
       "      <td>routine vital signs - arterial blood pressure ...</td>\n",
       "    </tr>\n",
       "    <tr>\n",
       "      <th>...</th>\n",
       "      <td>...</td>\n",
       "      <td>...</td>\n",
       "      <td>...</td>\n",
       "      <td>...</td>\n",
       "      <td>...</td>\n",
       "      <td>...</td>\n",
       "      <td>...</td>\n",
       "      <td>...</td>\n",
       "    </tr>\n",
       "    <tr>\n",
       "      <th>523469</th>\n",
       "      <td>22484462</td>\n",
       "      <td>NaN</td>\n",
       "      <td>2016-12-23 22:25:00</td>\n",
       "      <td>None</td>\n",
       "      <td>1.0</td>\n",
       "      <td>None</td>\n",
       "      <td>targets</td>\n",
       "      <td>targets - outcome_death</td>\n",
       "    </tr>\n",
       "    <tr>\n",
       "      <th>523536</th>\n",
       "      <td>20087370</td>\n",
       "      <td>NaN</td>\n",
       "      <td>2013-09-02 23:36:00</td>\n",
       "      <td>None</td>\n",
       "      <td>1.0</td>\n",
       "      <td>None</td>\n",
       "      <td>targets</td>\n",
       "      <td>targets - outcome_death</td>\n",
       "    </tr>\n",
       "    <tr>\n",
       "      <th>523668</th>\n",
       "      <td>28105246</td>\n",
       "      <td>NaN</td>\n",
       "      <td>2009-12-19 18:44:00</td>\n",
       "      <td>None</td>\n",
       "      <td>1.0</td>\n",
       "      <td>None</td>\n",
       "      <td>targets</td>\n",
       "      <td>targets - outcome_death</td>\n",
       "    </tr>\n",
       "    <tr>\n",
       "      <th>523674</th>\n",
       "      <td>20127441</td>\n",
       "      <td>NaN</td>\n",
       "      <td>2009-08-03 03:07:00</td>\n",
       "      <td>None</td>\n",
       "      <td>1.0</td>\n",
       "      <td>None</td>\n",
       "      <td>targets</td>\n",
       "      <td>targets - outcome_death</td>\n",
       "    </tr>\n",
       "    <tr>\n",
       "      <th>523718</th>\n",
       "      <td>23282331</td>\n",
       "      <td>NaN</td>\n",
       "      <td>2018-10-06 19:10:00</td>\n",
       "      <td>None</td>\n",
       "      <td>1.0</td>\n",
       "      <td>None</td>\n",
       "      <td>targets</td>\n",
       "      <td>targets - outcome_death</td>\n",
       "    </tr>\n",
       "  </tbody>\n",
       "</table>\n",
       "<p>3426521 rows × 8 columns</p>\n",
       "</div>"
      ],
      "text/plain": [
       "        encounter_id  subject_id     event_timestamp value  event_value  \\\n",
       "0           26871943  13334871.0 2018-09-19 13:05:00    30         30.0   \n",
       "1           26871943  13334871.0 2018-09-19 12:51:00  12.7         12.7   \n",
       "2           26871943  13334871.0 2018-09-19 12:51:00  40.3         40.3   \n",
       "3           26871943  13334871.0 2018-09-19 12:51:00   1.2          1.2   \n",
       "4           26871943  13334871.0 2018-09-19 13:02:00     0          0.0   \n",
       "...              ...         ...                 ...   ...          ...   \n",
       "523469      22484462         NaN 2016-12-23 22:25:00  None          1.0   \n",
       "523536      20087370         NaN 2013-09-02 23:36:00  None          1.0   \n",
       "523668      28105246         NaN 2009-12-19 18:44:00  None          1.0   \n",
       "523674      20127441         NaN 2009-08-03 03:07:00  None          1.0   \n",
       "523718      23282331         NaN 2018-10-06 19:10:00  None          1.0   \n",
       "\n",
       "       event_value_unit       event_category  \\\n",
       "0              insp/min               alarms   \n",
       "1                   sec                 labs   \n",
       "2                   sec                 labs   \n",
       "3                  None                 labs   \n",
       "4                  mmHg  routine vital signs   \n",
       "...                 ...                  ...   \n",
       "523469             None              targets   \n",
       "523536             None              targets   \n",
       "523668             None              targets   \n",
       "523674             None              targets   \n",
       "523718             None              targets   \n",
       "\n",
       "                                               event_name  \n",
       "0                              alarms - resp alarm - high  \n",
       "1                                 labs - prothrombin time  \n",
       "2                                              labs - ptt  \n",
       "3                                              labs - inr  \n",
       "4       routine vital signs - arterial blood pressure ...  \n",
       "...                                                   ...  \n",
       "523469                            targets - outcome_death  \n",
       "523536                            targets - outcome_death  \n",
       "523668                            targets - outcome_death  \n",
       "523674                            targets - outcome_death  \n",
       "523718                            targets - outcome_death  \n",
       "\n",
       "[3426521 rows x 8 columns]"
      ]
     },
     "execution_count": 389,
     "metadata": {},
     "output_type": "execute_result"
    }
   ],
   "source": [
    "events = events[events[EVENT_NAME].isin(top_events)]\n",
    "events"
   ]
  },
  {
   "cell_type": "code",
   "execution_count": 390,
   "id": "119a48d5-8891-4026-bd74-25a8037f8cf5",
   "metadata": {},
   "outputs": [
    {
     "data": {
      "text/html": [
       "<div>\n",
       "<style scoped>\n",
       "    .dataframe tbody tr th:only-of-type {\n",
       "        vertical-align: middle;\n",
       "    }\n",
       "\n",
       "    .dataframe tbody tr th {\n",
       "        vertical-align: top;\n",
       "    }\n",
       "\n",
       "    .dataframe thead th {\n",
       "        text-align: right;\n",
       "    }\n",
       "</style>\n",
       "<table border=\"1\" class=\"dataframe\">\n",
       "  <thead>\n",
       "    <tr style=\"text-align: right;\">\n",
       "      <th></th>\n",
       "      <th>encounter_id</th>\n",
       "      <th>subject_id</th>\n",
       "      <th>event_timestamp</th>\n",
       "      <th>value</th>\n",
       "      <th>event_value</th>\n",
       "      <th>event_value_unit</th>\n",
       "      <th>event_category</th>\n",
       "      <th>event_name</th>\n",
       "    </tr>\n",
       "  </thead>\n",
       "  <tbody>\n",
       "    <tr>\n",
       "      <th>14</th>\n",
       "      <td>20252617</td>\n",
       "      <td>NaN</td>\n",
       "      <td>2012-06-25 12:25:00</td>\n",
       "      <td>None</td>\n",
       "      <td>1.0</td>\n",
       "      <td>None</td>\n",
       "      <td>targets</td>\n",
       "      <td>targets - outcome_death</td>\n",
       "    </tr>\n",
       "    <tr>\n",
       "      <th>3914</th>\n",
       "      <td>21514453</td>\n",
       "      <td>NaN</td>\n",
       "      <td>2013-03-18 15:15:00</td>\n",
       "      <td>None</td>\n",
       "      <td>1.0</td>\n",
       "      <td>None</td>\n",
       "      <td>targets</td>\n",
       "      <td>targets - outcome_death</td>\n",
       "    </tr>\n",
       "    <tr>\n",
       "      <th>6594</th>\n",
       "      <td>28369314</td>\n",
       "      <td>NaN</td>\n",
       "      <td>2015-07-02 04:22:00</td>\n",
       "      <td>None</td>\n",
       "      <td>1.0</td>\n",
       "      <td>None</td>\n",
       "      <td>targets</td>\n",
       "      <td>targets - outcome_death</td>\n",
       "    </tr>\n",
       "    <tr>\n",
       "      <th>6595</th>\n",
       "      <td>20943686</td>\n",
       "      <td>NaN</td>\n",
       "      <td>2012-12-28 21:10:00</td>\n",
       "      <td>None</td>\n",
       "      <td>1.0</td>\n",
       "      <td>None</td>\n",
       "      <td>targets</td>\n",
       "      <td>targets - outcome_death</td>\n",
       "    </tr>\n",
       "    <tr>\n",
       "      <th>6631</th>\n",
       "      <td>22029552</td>\n",
       "      <td>NaN</td>\n",
       "      <td>2012-04-11 15:00:00</td>\n",
       "      <td>None</td>\n",
       "      <td>1.0</td>\n",
       "      <td>None</td>\n",
       "      <td>targets</td>\n",
       "      <td>targets - outcome_death</td>\n",
       "    </tr>\n",
       "  </tbody>\n",
       "</table>\n",
       "</div>"
      ],
      "text/plain": [
       "      encounter_id  subject_id     event_timestamp value  event_value  \\\n",
       "14        20252617         NaN 2012-06-25 12:25:00  None          1.0   \n",
       "3914      21514453         NaN 2013-03-18 15:15:00  None          1.0   \n",
       "6594      28369314         NaN 2015-07-02 04:22:00  None          1.0   \n",
       "6595      20943686         NaN 2012-12-28 21:10:00  None          1.0   \n",
       "6631      22029552         NaN 2012-04-11 15:00:00  None          1.0   \n",
       "\n",
       "     event_value_unit event_category               event_name  \n",
       "14               None        targets  targets - outcome_death  \n",
       "3914             None        targets  targets - outcome_death  \n",
       "6594             None        targets  targets - outcome_death  \n",
       "6595             None        targets  targets - outcome_death  \n",
       "6631             None        targets  targets - outcome_death  "
      ]
     },
     "execution_count": 390,
     "metadata": {},
     "output_type": "execute_result"
    }
   ],
   "source": [
    "events[events[EVENT_NAME] == OUTCOME_DEATH_PROCESSED].head(5)"
   ]
  },
  {
   "cell_type": "code",
   "execution_count": 391,
   "id": "5f82846a-edb8-4811-b6f9-de7eacb90a15",
   "metadata": {},
   "outputs": [
    {
     "name": "stderr",
     "output_type": "stream",
     "text": [
      "/tmp/ipykernel_2641985/2747026059.py:3: SettingWithCopyWarning: \n",
      "A value is trying to be set on a copy of a slice from a DataFrame.\n",
      "Try using .loc[row_indexer,col_indexer] = value instead\n",
      "\n",
      "See the caveats in the documentation: https://pandas.pydata.org/pandas-docs/stable/user_guide/indexing.html#returning-a-view-versus-a-copy\n",
      "  events[is_death_event][EVENT_TIMESTAMP] = events[is_death_event][\n"
     ]
    }
   ],
   "source": [
    "# Offset death time targets such that the model is predicting death time in advance\n",
    "is_death_event = events[EVENT_NAME] == OUTCOME_DEATH_PROCESSED\n",
    "events[is_death_event][EVENT_TIMESTAMP] = events[is_death_event][\n",
    "    EVENT_TIMESTAMP\n",
    "] - pd.DateOffset(hours=PREDICT_OFFSET)"
   ]
  },
  {
   "cell_type": "code",
   "execution_count": 392,
   "id": "06cc13d7-dd6c-44d9-93c6-0b903b84743a",
   "metadata": {},
   "outputs": [],
   "source": [
    "aggregator = Aggregator(\n",
    "    aggfuncs={EVENT_VALUE: MEAN},\n",
    "    timestamp_col=EVENT_TIMESTAMP,\n",
    "    time_by=ENCOUNTER_ID,\n",
    "    agg_by=[ENCOUNTER_ID, EVENT_NAME],\n",
    "    timestep_size=TIMESTEP_SIZE,\n",
    "    window_duration=WINDOW_DURATION,\n",
    ")"
   ]
  },
  {
   "cell_type": "code",
   "execution_count": 393,
   "id": "693f41c4-aa52-4770-a39c-1c77a9b0c03b",
   "metadata": {},
   "outputs": [],
   "source": [
    "events = events.reset_index(drop=True)\n",
    "\n",
    "tmp_features = TemporalFeatures(\n",
    "    events,\n",
    "    features=EVENT_VALUE,\n",
    "    by=[ENCOUNTER_ID, EVENT_NAME],\n",
    "    timestamp_col=EVENT_TIMESTAMP,\n",
    "    aggregator=aggregator,\n",
    ")"
   ]
  },
  {
   "cell_type": "code",
   "execution_count": 394,
   "id": "afa902f2-6213-4e7d-8ae6-b9c926aa232a",
   "metadata": {},
   "outputs": [
    {
     "name": "stderr",
     "output_type": "stream",
     "text": [
      "2022-08-10 17:54:00,868 \u001b[1;37mINFO\u001b[0m cyclops.processors.cleaning - Dropped nulls over columns: event_timestamp. Removed 191 rows.\n",
      "2022-08-10 17:54:22,569 \u001b[1;37mINFO\u001b[0m cyclops.utils.profile - Finished executing function __call__ in 22.334663 s\n"
     ]
    },
    {
     "data": {
      "text/html": [
       "<div>\n",
       "<style scoped>\n",
       "    .dataframe tbody tr th:only-of-type {\n",
       "        vertical-align: middle;\n",
       "    }\n",
       "\n",
       "    .dataframe tbody tr th {\n",
       "        vertical-align: top;\n",
       "    }\n",
       "\n",
       "    .dataframe thead th {\n",
       "        text-align: right;\n",
       "    }\n",
       "</style>\n",
       "<table border=\"1\" class=\"dataframe\">\n",
       "  <thead>\n",
       "    <tr style=\"text-align: right;\">\n",
       "      <th></th>\n",
       "      <th></th>\n",
       "      <th></th>\n",
       "      <th>event_value</th>\n",
       "      <th>timestep_start</th>\n",
       "    </tr>\n",
       "    <tr>\n",
       "      <th>encounter_id</th>\n",
       "      <th>event_name</th>\n",
       "      <th>timestep</th>\n",
       "      <th></th>\n",
       "      <th></th>\n",
       "    </tr>\n",
       "  </thead>\n",
       "  <tbody>\n",
       "    <tr>\n",
       "      <th>20000094</th>\n",
       "      <th>targets - outcome_death</th>\n",
       "      <th>0</th>\n",
       "      <td>1.0</td>\n",
       "      <td>2017-03-03 09:21:00</td>\n",
       "    </tr>\n",
       "    <tr>\n",
       "      <th>20001305</th>\n",
       "      <th>targets - outcome_death</th>\n",
       "      <th>0</th>\n",
       "      <td>1.0</td>\n",
       "      <td>2017-03-27 19:23:00</td>\n",
       "    </tr>\n",
       "    <tr>\n",
       "      <th>20002810</th>\n",
       "      <th>targets - outcome_death</th>\n",
       "      <th>0</th>\n",
       "      <td>1.0</td>\n",
       "      <td>2018-07-05 06:05:00</td>\n",
       "    </tr>\n",
       "    <tr>\n",
       "      <th>20003465</th>\n",
       "      <th>targets - outcome_death</th>\n",
       "      <th>0</th>\n",
       "      <td>1.0</td>\n",
       "      <td>2017-12-06 16:30:00</td>\n",
       "    </tr>\n",
       "    <tr>\n",
       "      <th>20003587</th>\n",
       "      <th>targets - outcome_death</th>\n",
       "      <th>0</th>\n",
       "      <td>1.0</td>\n",
       "      <td>2011-04-18 02:15:00</td>\n",
       "    </tr>\n",
       "  </tbody>\n",
       "</table>\n",
       "</div>"
      ],
      "text/plain": [
       "                                               event_value      timestep_start\n",
       "encounter_id event_name              timestep                                 \n",
       "20000094     targets - outcome_death 0                 1.0 2017-03-03 09:21:00\n",
       "20001305     targets - outcome_death 0                 1.0 2017-03-27 19:23:00\n",
       "20002810     targets - outcome_death 0                 1.0 2018-07-05 06:05:00\n",
       "20003465     targets - outcome_death 0                 1.0 2017-12-06 16:30:00\n",
       "20003587     targets - outcome_death 0                 1.0 2011-04-18 02:15:00"
      ]
     },
     "execution_count": 394,
     "metadata": {},
     "output_type": "execute_result"
    }
   ],
   "source": [
    "aggregated = tmp_features.aggregate()\n",
    "aggregated.head(5)"
   ]
  },
  {
   "cell_type": "code",
   "execution_count": 395,
   "id": "354403e4-a1cc-4d1f-be4c-e96db62802cf",
   "metadata": {},
   "outputs": [],
   "source": [
    "#save_dataframe(aggregated, \"aggregated.parquet\")"
   ]
  },
  {
   "cell_type": "code",
   "execution_count": 396,
   "id": "4a9587b3-b4a1-42a1-ab75-3b248227dcb7",
   "metadata": {},
   "outputs": [
    {
     "name": "stderr",
     "output_type": "stream",
     "text": [
      "2022-08-10 17:54:29,389 \u001b[1;37mINFO\u001b[0m cyclops.utils.profile - Finished executing function vectorize in 6.799073 s\n"
     ]
    },
    {
     "data": {
      "text/plain": [
       "(1, 10910, 134, 6)"
      ]
     },
     "execution_count": 396,
     "metadata": {},
     "output_type": "execute_result"
    }
   ],
   "source": [
    "temp_vectorized = aggregator.vectorize(aggregated)\n",
    "temp_vectorized.shape"
   ]
  },
  {
   "cell_type": "code",
   "execution_count": 397,
   "id": "aa840bb6-043c-466d-8ff1-0418a3ccd394",
   "metadata": {},
   "outputs": [
    {
     "data": {
      "text/plain": [
       "['aggfuncs', 'encounter_id', 'event_name', 'timestep']"
      ]
     },
     "execution_count": 397,
     "metadata": {},
     "output_type": "execute_result"
    }
   ],
   "source": [
    "temp_vectorized.axis_names"
   ]
  },
  {
   "cell_type": "code",
   "execution_count": 398,
   "id": "09885d43-5f94-4419-8f32-cebd9c9d32b1",
   "metadata": {},
   "outputs": [],
   "source": [
    "for target in TEMP_TARGETS:\n",
    "    event_ind = temp_vectorized.get_index_map(EVENT_NAME)[target]\n",
    "    index_exp = vec_index_exp[:, :, event_ind]\n",
    "\n",
    "    # Forward fill the the target values, e.g., [nan, nan, 1., nan, nan] -> [nan, nan, 1, 1, 1]\n",
    "    temp_vectorized.impute_over_axis(TIMESTEP, np_ffill, index_exp=index_exp)\n",
    "\n",
    "    # Fill remaining values with 0, e.g., [nan, nan, 1, 1, 1] -> [0, 0, 1, 1, 1]\n",
    "    # or [nan, nan, nan, nan, nan] -> [0, 0, 0, 0, 0]\n",
    "    temp_vectorized.impute_over_axis(TIMESTEP, np_fill_null_zero, index_exp=index_exp)"
   ]
  },
  {
   "cell_type": "code",
   "execution_count": 399,
   "id": "1531e16e-a299-4aa0-acad-363a2cb80951",
   "metadata": {},
   "outputs": [],
   "source": [
    "# Forward fill then backward fill to get rid of each of the timestep nulls\n",
    "temp_vectorized.impute_over_axis(TIMESTEP, np_ffill_bfill)"
   ]
  },
  {
   "cell_type": "code",
   "execution_count": 400,
   "id": "0d16db60-459d-4d39-98aa-c4c76a23d282",
   "metadata": {},
   "outputs": [],
   "source": [
    "# Fill those all-null timesteps with feature mean\n",
    "# (since forward and backward filling still leaves them all null)\n",
    "axis = temp_vectorized.get_axis(EVENT_NAME)\n",
    "\n",
    "for i in range(temp_vectorized.data.shape[axis]):\n",
    "    index_exp = vec_index_exp[:, :, i]\n",
    "    data_slice = temp_vectorized.data[index_exp]\n",
    "    mean = np.nanmean(data_slice)\n",
    "    func = lambda x: np_fill_null_num(x, mean)\n",
    "    temp_vectorized.impute_over_axis(TIMESTEP, func, index_exp=index_exp)"
   ]
  },
  {
   "cell_type": "code",
   "execution_count": 401,
   "id": "5067910b-0620-4aaa-89c2-acb8836a21ad",
   "metadata": {},
   "outputs": [
    {
     "data": {
      "text/plain": [
       "'./3aggregated/batch_0022'"
      ]
     },
     "execution_count": 401,
     "metadata": {},
     "output_type": "execute_result"
    }
   ],
   "source": [
    "path = join(TEMP_AGG_DIR, \"batch_\" + f\"{save_count:04d}\")\n",
    "path"
   ]
  },
  {
   "cell_type": "code",
   "execution_count": 402,
   "id": "e9503a46-0bb6-4f7f-8446-5b71c395209e",
   "metadata": {},
   "outputs": [],
   "source": [
    "with open(path + \".pkl\", \"wb\") as handle:\n",
    "    pickle.dump(temp_vectorized, handle)\n",
    "\n",
    "save_count += 1"
   ]
  },
  {
   "cell_type": "code",
   "execution_count": 403,
   "id": "a79c6182-4363-4d96-961b-8cab93d96c47",
   "metadata": {},
   "outputs": [
    {
     "name": "stdout",
     "output_type": "stream",
     "text": [
      "71.56541299819946\n"
     ]
    }
   ],
   "source": [
    "print(time.time() - t)"
   ]
  },
  {
   "cell_type": "markdown",
   "id": "c103337f-dbd8-4f04-96a7-b6e721cd3642",
   "metadata": {},
   "source": [
    "# Combined processing"
   ]
  },
  {
   "cell_type": "markdown",
   "id": "6fb0a06e-d146-45af-89cd-a90964a6b2df",
   "metadata": {},
   "source": [
    "# Prepare splits"
   ]
  },
  {
   "cell_type": "markdown",
   "id": "5d0eaa25-0014-4212-b2ae-794cd70e915d",
   "metadata": {},
   "source": [
    "Take only the encounters available in all of the datasets and align the datasets over encounters."
   ]
  },
  {
   "cell_type": "code",
   "execution_count": null,
   "id": "b8670c0b-3e53-45f3-9aa1-428a14d13373",
   "metadata": {},
   "outputs": [],
   "source": [
    "tab_vectorized.shape, temp_vectorized.shape"
   ]
  },
  {
   "cell_type": "code",
   "execution_count": null,
   "id": "d817d8ec-886b-494d-9d32-3e076f774d51",
   "metadata": {},
   "outputs": [],
   "source": [
    "tab_vectorized, temp_vectorized = intersect_vectorized(\n",
    "    [tab_vectorized, temp_vectorized], axes=ENCOUNTER_ID\n",
    ")\n",
    "tab_vectorized.shape, temp_vectorized.shape"
   ]
  },
  {
   "cell_type": "code",
   "execution_count": null,
   "id": "b97c5aba-847e-4f58-9bce-69222f538f12",
   "metadata": {},
   "outputs": [],
   "source": [
    "# Standardize only the numeric features (e.g., not binary indicators)\n",
    "normalizer_map = {feat: STANDARD for feat in numeric_features}\n",
    "\n",
    "tab_vectorized.add_normalizer(\n",
    "    FEATURES,\n",
    "    normalizer_map=normalizer_map,\n",
    ")"
   ]
  },
  {
   "cell_type": "code",
   "execution_count": null,
   "id": "174bb4b0-8948-42d6-a477-b0792a9b7186",
   "metadata": {},
   "outputs": [],
   "source": [
    "# Standardize all events\n",
    "temp_vectorized.add_normalizer(\n",
    "    EVENT_NAME,\n",
    "    normalization_method=STANDARD,\n",
    ")"
   ]
  },
  {
   "cell_type": "markdown",
   "id": "ff6663ae-1ed5-445e-a1d6-9021154fe1a7",
   "metadata": {},
   "source": [
    "## Dataset splits"
   ]
  },
  {
   "cell_type": "markdown",
   "id": "839995aa-40cb-449c-a057-ad7719998ecf",
   "metadata": {},
   "source": [
    "Split into training, validation, and testing datasets such that the tabular and temporal encounters remain aligned."
   ]
  },
  {
   "cell_type": "code",
   "execution_count": null,
   "id": "5a4ec3d2-a221-41ce-93ae-9f5a3018eb00",
   "metadata": {},
   "outputs": [],
   "source": [
    "tab_splits, temp_splits = split_vectorized(\n",
    "    [tab_vectorized, temp_vectorized], SPLIT_FRACTIONS, axes=ENCOUNTER_ID\n",
    ")\n",
    "tab_train, tab_val, tab_test = tab_splits\n",
    "temp_train, temp_val, temp_test = temp_splits"
   ]
  },
  {
   "cell_type": "code",
   "execution_count": null,
   "id": "37a6a36d-499d-447e-93eb-3ac002c986c6",
   "metadata": {},
   "outputs": [],
   "source": [
    "tab_train.shape, tab_val.shape, tab_test.shape"
   ]
  },
  {
   "cell_type": "code",
   "execution_count": null,
   "id": "edfd710c-b21d-4dc4-b8e4-550235570768",
   "metadata": {},
   "outputs": [],
   "source": [
    "temp_train.shape, temp_val.shape, temp_test.shape"
   ]
  },
  {
   "cell_type": "markdown",
   "id": "203ec0ad-a35a-49df-8979-a32779c3ac13",
   "metadata": {},
   "source": [
    "## Split features/targets"
   ]
  },
  {
   "cell_type": "markdown",
   "id": "9e2f20f3-fe51-41f5-be9f-c74d32519787",
   "metadata": {},
   "source": [
    "Split out the targets in the temporal data."
   ]
  },
  {
   "cell_type": "code",
   "execution_count": null,
   "id": "aca6b88f-8f3b-46d2-9d75-3fe8eec1745b",
   "metadata": {},
   "outputs": [],
   "source": [
    "tab_train_X, tab_train_y = tab_train.split_out(FEATURES, TAB_TARGETS)\n",
    "tab_train_X.shape, tab_train_y.shape"
   ]
  },
  {
   "cell_type": "code",
   "execution_count": null,
   "id": "ec5a428e-fcab-4a49-b9c9-77fe5b56da4f",
   "metadata": {},
   "outputs": [],
   "source": [
    "tab_val_X, tab_val_y = tab_val.split_out(FEATURES, TAB_TARGETS)\n",
    "tab_val_X.shape, tab_val_y.shape"
   ]
  },
  {
   "cell_type": "code",
   "execution_count": null,
   "id": "98adfca2-4347-475e-ad9d-aeb15a9f3c65",
   "metadata": {},
   "outputs": [],
   "source": [
    "tab_test_X, tab_test_y = tab_test.split_out(FEATURES, TAB_TARGETS)\n",
    "tab_test_X.shape, tab_test_y.shape"
   ]
  },
  {
   "cell_type": "code",
   "execution_count": null,
   "id": "7a251574-2635-42db-b42e-3d8b77143b64",
   "metadata": {},
   "outputs": [],
   "source": [
    "temp_train_X, temp_train_y = temp_train.split_out(EVENT_NAME, TEMP_TARGETS)\n",
    "temp_train_X.shape, temp_train_y.shape"
   ]
  },
  {
   "cell_type": "code",
   "execution_count": null,
   "id": "54795d9d-c2a4-4dd4-9ff9-d3927a0339a3",
   "metadata": {},
   "outputs": [],
   "source": [
    "temp_val_X, temp_val_y = temp_val.split_out(EVENT_NAME, TEMP_TARGETS)\n",
    "temp_val_X.shape, temp_val_y.shape"
   ]
  },
  {
   "cell_type": "code",
   "execution_count": null,
   "id": "7857300c-e98e-4af3-89eb-4665e887c60c",
   "metadata": {},
   "outputs": [],
   "source": [
    "temp_test_X, temp_test_y = temp_test.split_out(EVENT_NAME, TEMP_TARGETS)\n",
    "temp_test_X.shape, temp_test_y.shape"
   ]
  },
  {
   "cell_type": "markdown",
   "id": "b45650c0-847e-4b13-974f-49f9b89cc5f3",
   "metadata": {},
   "source": [
    "### Normalization"
   ]
  },
  {
   "cell_type": "code",
   "execution_count": null,
   "id": "47896217-2e2c-449b-9ac9-b3ce08028f91",
   "metadata": {},
   "outputs": [],
   "source": [
    "splits = (\n",
    "    tab_train_X,\n",
    "    tab_val_X,\n",
    "    tab_test_X,\n",
    "    temp_train_X,\n",
    "    temp_val_X,\n",
    "    temp_test_X,\n",
    ")\n",
    "\n",
    "for split in splits:\n",
    "    split.fit_normalizer()\n",
    "    split.normalize()\n",
    "\n",
    "(\n",
    "    tab_train_X,\n",
    "    tab_val_X,\n",
    "    tab_test_X,\n",
    "    temp_train_X,\n",
    "    temp_val_X,\n",
    "    temp_test_X,\n",
    ") = splits"
   ]
  },
  {
   "cell_type": "markdown",
   "id": "e1c2c5b5-9979-4678-bead-ad42b547abfb",
   "metadata": {
    "tags": []
   },
   "source": [
    "## Save"
   ]
  },
  {
   "cell_type": "code",
   "execution_count": null,
   "id": "9f88e2b1-373e-46c6-97ca-aabd2873fe9a",
   "metadata": {},
   "outputs": [],
   "source": [
    "# Store data (serialize)\n",
    "vectorized = [\n",
    "    (tab_train_X, \"tab_train_X\"),\n",
    "    (tab_train_y, \"tab_train_y\"),\n",
    "    (tab_val_X, \"tab_val_X\"),\n",
    "    (tab_val_y, \"tab_val_y\"),\n",
    "    (tab_test_X, \"tab_test_X\"),\n",
    "    (tab_test_y, \"tab_test_y\"),\n",
    "    (temp_train_X, \"temp_train_X\"),\n",
    "    (temp_train_y, \"temp_train_y\"),\n",
    "    (temp_val_X, \"temp_val_X\"),\n",
    "    (temp_val_y, \"temp_val_y\"),\n",
    "    (temp_test_X, \"temp_test_X\"),\n",
    "    (temp_test_y, \"temp_test_y\"),\n",
    "]\n",
    "for vec, name in vectorized:\n",
    "    with open(name + \".pkl\", \"wb\") as handle:\n",
    "        pickle.dump(vec, handle)"
   ]
  }
 ],
 "metadata": {
  "kernelspec": {
   "display_name": "cyclops_env",
   "language": "python",
   "name": "cyclops_env"
  },
  "language_info": {
   "codemirror_mode": {
    "name": "ipython",
    "version": 3
   },
   "file_extension": ".py",
   "mimetype": "text/x-python",
   "name": "python",
   "nbconvert_exporter": "python",
   "pygments_lexer": "ipython3",
   "version": "3.9.7"
  }
 },
 "nbformat": 4,
 "nbformat_minor": 5
}
