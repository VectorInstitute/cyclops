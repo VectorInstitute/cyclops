{
 "cells": [
  {
   "cell_type": "code",
   "execution_count": null,
   "id": "c8187b80-aa12-4c9b-97b2-83f83691d84d",
   "metadata": {},
   "outputs": [],
   "source": [
    "import pickle\n",
    "\n",
    "import numpy as np\n",
    "import pandas as pd\n",
    "\n",
    "from cyclops.processors.aggregate import Aggregator\n",
    "from cyclops.processors.cleaning import (\n",
    "    normalize_categories,\n",
    "    normalize_names,\n",
    "    normalize_values,\n",
    ")\n",
    "from cyclops.processors.column_names import (\n",
    "    ADMIT_TIMESTAMP,\n",
    "    AGE,\n",
    "    CARE_UNIT,\n",
    "    DIAGNOSIS_CODE,\n",
    "    DIAGNOSIS_TRAJECTORY,\n",
    "    ENCOUNTER_ID,\n",
    "    EVENT_CATEGORY,\n",
    "    EVENT_NAME,\n",
    "    EVENT_TIMESTAMP,\n",
    "    EVENT_VALUE,\n",
    "    EVENT_VALUE_UNIT,\n",
    "    HOSPITAL_ID,\n",
    "    SEX,\n",
    "    SUBJECT_ID,\n",
    "    TIMESTEP,\n",
    "    YEAR,\n",
    ")\n",
    "from cyclops.processors.constants import (\n",
    "    BINARY,\n",
    "    BY,\n",
    "    CATEGORICAL_INDICATOR,\n",
    "    FEATURE_INDICATOR_ATTR,\n",
    "    FEATURE_MAPPING_ATTR,\n",
    "    FEATURE_TYPE_ATTR,\n",
    "    FEATURE_TYPES,\n",
    "    FEATURES,\n",
    "    MEAN,\n",
    "    MIN_MAX,\n",
    "    MISSING_CATEGORY,\n",
    "    NUMERIC,\n",
    "    ORDINAL,\n",
    "    STANDARD,\n",
    "    STRING,\n",
    "    TARGETS,\n",
    ")\n",
    "from cyclops.processors.feature.feature import TabularFeatures, TemporalFeatures\n",
    "from cyclops.processors.feature.normalization import VectorizedNormalizer\n",
    "from cyclops.processors.feature.vectorize import (\n",
    "    intersect_vectorized,\n",
    "    split_vectorized,\n",
    "    vec_index_exp,\n",
    ")\n",
    "from cyclops.processors.impute import (\n",
    "    np_ffill,\n",
    "    np_ffill_bfill,\n",
    "    np_fill_null_num,\n",
    "    np_fill_null_zero,\n",
    ")\n",
    "from cyclops.query import mimic\n",
    "from cyclops.query import process as qp\n",
    "from cyclops.utils.common import print_dict\n",
    "from cyclops.utils.file import (\n",
    "    join,\n",
    "    load_array,\n",
    "    load_dataframe,\n",
    "    save_dataframe,\n",
    "    yield_dataframes,\n",
    ")"
   ]
  },
  {
   "cell_type": "code",
   "execution_count": null,
   "id": "6e81b3cd-e787-4569-96a2-546ed9bc64ae",
   "metadata": {},
   "outputs": [],
   "source": [
    "SPLIT_FRACTIONS = [0.8, 0.1]\n",
    "PREDICT_OFFSET = 24\n",
    "\n",
    "# Tabular\n",
    "OUTCOME_DEATH = \"outcome_death\"\n",
    "TAB_TARGETS = [OUTCOME_DEATH]\n",
    "\n",
    "# Temporal\n",
    "OUTCOME_DEATH_PROCESSED = TARGETS + \" - \" + OUTCOME_DEATH\n",
    "TEMP_DIR = \"./2cleaned\"\n",
    "TEMP_TARGETS = [OUTCOME_DEATH_PROCESSED]"
   ]
  },
  {
   "cell_type": "markdown",
   "id": "c40f9507-91bd-487f-a73d-0faccf54c7a6",
   "metadata": {
    "tags": []
   },
   "source": [
    "# Tabular-specific processing"
   ]
  },
  {
   "cell_type": "code",
   "execution_count": null,
   "id": "643ec42d-a118-46ac-99c3-a776e60e1a65",
   "metadata": {},
   "outputs": [],
   "source": [
    "cohort = load_dataframe(\"encounters.parquet\")\n",
    "cohort.head(5)"
   ]
  },
  {
   "cell_type": "code",
   "execution_count": null,
   "id": "fb8aec10-040a-4a71-8433-40f9d6855dd5",
   "metadata": {},
   "outputs": [],
   "source": [
    "features = [\n",
    "    AGE,\n",
    "    SEX,\n",
    "    OUTCOME_DEATH,\n",
    "    \"admission_type\",\n",
    "    \"admission_location\",\n",
    "    \"discharge_location\",\n",
    "    \"ethnicity\",\n",
    "]\n",
    "\n",
    "cohort = cohort.reset_index(drop=True)\n",
    "\n",
    "tab_features = TabularFeatures(\n",
    "    data=cohort,\n",
    "    features=features,\n",
    "    by=ENCOUNTER_ID,\n",
    ")"
   ]
  },
  {
   "cell_type": "code",
   "execution_count": null,
   "id": "af949608-e0b8-4cdf-9e72-71e8b26eab18",
   "metadata": {},
   "outputs": [],
   "source": [
    "tab_features.types"
   ]
  },
  {
   "cell_type": "code",
   "execution_count": null,
   "id": "2cb215a8-e9ad-4105-b744-a61a93ef0e09",
   "metadata": {},
   "outputs": [],
   "source": [
    "tab_features.meta.keys()"
   ]
  },
  {
   "cell_type": "code",
   "execution_count": null,
   "id": "4ea328b2-e397-405a-a5b0-7bcaa4520aa6",
   "metadata": {},
   "outputs": [],
   "source": [
    "tab_features.meta[\"admission_location\"].get_mapping()"
   ]
  },
  {
   "cell_type": "code",
   "execution_count": null,
   "id": "b90115b1-3e5e-412c-ae3a-51e1f7d5607b",
   "metadata": {},
   "outputs": [],
   "source": [
    "ordinal_features = tab_features.features_by_type(ORDINAL)\n",
    "ordinal_features"
   ]
  },
  {
   "cell_type": "code",
   "execution_count": null,
   "id": "eda135bc-f0f6-4dd1-bb4e-91d96a24f44e",
   "metadata": {},
   "outputs": [],
   "source": [
    "tab_vectorized = tab_features.vectorize(to_binary_indicators=ordinal_features)"
   ]
  },
  {
   "cell_type": "code",
   "execution_count": null,
   "id": "97a3a502-4d33-4380-92f6-3f345f5de00d",
   "metadata": {},
   "outputs": [],
   "source": [
    "tab_vectorized.shape"
   ]
  },
  {
   "cell_type": "code",
   "execution_count": null,
   "id": "7067bc7f-4da8-4d6e-bf1f-afa41c1590da",
   "metadata": {},
   "outputs": [],
   "source": [
    "tab_vectorized.axis_names"
   ]
  },
  {
   "cell_type": "code",
   "execution_count": null,
   "id": "614b3a5b-703a-4969-9b8e-3e7dbd439f11",
   "metadata": {},
   "outputs": [],
   "source": [
    "numeric_features = tab_features.features_by_type(NUMERIC)\n",
    "numeric_features"
   ]
  },
  {
   "cell_type": "markdown",
   "id": "2187007a-7fc8-4c33-b60a-44cb05562c16",
   "metadata": {
    "tags": []
   },
   "source": [
    "# Temporal-specific processing"
   ]
  },
  {
   "cell_type": "code",
   "execution_count": null,
   "id": "10e89fbb-fffe-462c-a1fd-f9f9ce79dcc0",
   "metadata": {},
   "outputs": [],
   "source": [
    "from functools import reduce\n",
    "\n",
    "import numpy as np\n",
    "\n",
    "top_n = 150\n",
    "all_top_events = []\n",
    "for i, events in enumerate(yield_dataframes(TEMP_DIR)):\n",
    "    # Keep only the most popular events where the values are not null\n",
    "    top_events = (\n",
    "        events[EVENT_NAME][~events[EVENT_VALUE].isna()].value_counts()[:top_n].index\n",
    "    )\n",
    "\n",
    "    all_top_events.append(top_events)\n",
    "\n",
    "    del events\n",
    "\n",
    "# Take only the events common to every file\n",
    "top_events = reduce(np.intersect1d, tuple(all_top_events))\n",
    "\n",
    "# Force include the target\n",
    "top_events = np.unique(np.append(top_events, OUTCOME_DEATH_PROCESSED))\n",
    "\n",
    "top_events"
   ]
  },
  {
   "cell_type": "code",
   "execution_count": null,
   "id": "5b481f85-7bf5-47d3-8158-b94baf57d5d9",
   "metadata": {},
   "outputs": [],
   "source": [
    "len(top_events)"
   ]
  },
  {
   "cell_type": "code",
   "execution_count": null,
   "id": "23a8d516-90bc-4bfe-b383-11d79024f8f1",
   "metadata": {},
   "outputs": [],
   "source": [
    "# events = events[events[EVENT_NAME].isin(top_events)]\n",
    "# events.head(5)"
   ]
  },
  {
   "cell_type": "code",
   "execution_count": null,
   "id": "6ebf0df6-9304-4146-b9d4-a18231c62040",
   "metadata": {},
   "outputs": [],
   "source": [
    "events = next(generator)"
   ]
  },
  {
   "cell_type": "code",
   "execution_count": null,
   "id": "390fcb35-bc2a-46d4-b5a8-e58757810281",
   "metadata": {},
   "outputs": [],
   "source": [
    "# events = load_dataframe(\"events.parquet\")\n",
    "# events = events.sample(n=int(len(events) / 20))"
   ]
  },
  {
   "cell_type": "code",
   "execution_count": null,
   "id": "75590a55-1b67-41d2-aad6-ebe4f0df08f1",
   "metadata": {},
   "outputs": [],
   "source": [
    "generator = yield_dataframes(TEMP_DIR)"
   ]
  },
  {
   "cell_type": "code",
   "execution_count": null,
   "id": "68644d5a-164a-41f4-8518-a8311afc348c",
   "metadata": {},
   "outputs": [],
   "source": [
    "events = events[events[EVENT_NAME].isin(top_events)]\n",
    "events"
   ]
  },
  {
   "cell_type": "code",
   "execution_count": null,
   "id": "119a48d5-8891-4026-bd74-25a8037f8cf5",
   "metadata": {},
   "outputs": [],
   "source": [
    "events[events[EVENT_NAME] == OUTCOME_DEATH_PROCESSED].head(5)"
   ]
  },
  {
   "cell_type": "code",
   "execution_count": null,
   "id": "5f82846a-edb8-4811-b6f9-de7eacb90a15",
   "metadata": {},
   "outputs": [],
   "source": [
    "# Offset death time targets such that the model is predicting death time in advance\n",
    "is_death_event = events[EVENT_NAME] == OUTCOME_DEATH_PROCESSED\n",
    "events[is_death_event][EVENT_TIMESTAMP] = events[is_death_event][\n",
    "    EVENT_TIMESTAMP\n",
    "] - pd.DateOffset(hours=PREDICT_OFFSET)"
   ]
  },
  {
   "cell_type": "code",
   "execution_count": null,
   "id": "06cc13d7-dd6c-44d9-93c6-0b903b84743a",
   "metadata": {},
   "outputs": [],
   "source": [
    "aggregator = Aggregator(\n",
    "    aggfuncs={EVENT_VALUE: MEAN},\n",
    "    timestamp_col=EVENT_TIMESTAMP,\n",
    "    time_by=ENCOUNTER_ID,\n",
    "    agg_by=[ENCOUNTER_ID, EVENT_NAME],\n",
    "    timestep_size=8,\n",
    "    window_duration=24,\n",
    ")"
   ]
  },
  {
   "cell_type": "code",
   "execution_count": null,
   "id": "693f41c4-aa52-4770-a39c-1c77a9b0c03b",
   "metadata": {},
   "outputs": [],
   "source": [
    "events = events.reset_index(drop=True)\n",
    "\n",
    "tmp_features = TemporalFeatures(\n",
    "    events,\n",
    "    features=EVENT_VALUE,\n",
    "    by=[ENCOUNTER_ID, EVENT_NAME],\n",
    "    timestamp_col=EVENT_TIMESTAMP,\n",
    "    aggregator=aggregator,\n",
    ")"
   ]
  },
  {
   "cell_type": "code",
   "execution_count": null,
   "id": "afa902f2-6213-4e7d-8ae6-b9c926aa232a",
   "metadata": {},
   "outputs": [],
   "source": [
    "aggregated = tmp_features.aggregate()\n",
    "aggregated.head(5)"
   ]
  },
  {
   "cell_type": "code",
   "execution_count": null,
   "id": "354403e4-a1cc-4d1f-be4c-e96db62802cf",
   "metadata": {},
   "outputs": [],
   "source": [
    "save_dataframe(aggregated, \"aggregated.parquet\")"
   ]
  },
  {
   "cell_type": "code",
   "execution_count": null,
   "id": "92f6d086-3fa3-45e0-b87b-8cc650c43553",
   "metadata": {},
   "outputs": [],
   "source": [
    "aggregated = load_dataframe(\"aggregated.parquet\")"
   ]
  },
  {
   "cell_type": "code",
   "execution_count": null,
   "id": "4a9587b3-b4a1-42a1-ab75-3b248227dcb7",
   "metadata": {},
   "outputs": [],
   "source": [
    "temp_vectorized = aggregator.vectorize(aggregated)\n",
    "temp_vectorized.shape"
   ]
  },
  {
   "cell_type": "code",
   "execution_count": null,
   "id": "aa840bb6-043c-466d-8ff1-0418a3ccd394",
   "metadata": {},
   "outputs": [],
   "source": [
    "temp_vectorized.axis_names"
   ]
  },
  {
   "cell_type": "code",
   "execution_count": null,
   "id": "09885d43-5f94-4419-8f32-cebd9c9d32b1",
   "metadata": {},
   "outputs": [],
   "source": [
    "for target in TEMP_TARGETS:\n",
    "    event_ind = temp_vectorized.get_index_map(EVENT_NAME)[target]\n",
    "    index_exp = vec_index_exp[:, :, event_ind]\n",
    "\n",
    "    # Forward fill the the target values, e.g., [nan, nan, 1., nan, nan] -> [nan, nan, 1, 1, 1]\n",
    "    temp_vectorized.impute_over_axis(TIMESTEP, np_ffill, index_exp=index_exp)\n",
    "\n",
    "    # Fill remaining values with 0, e.g., [nan, nan, 1, 1, 1] -> [0, 0, 1, 1, 1]\n",
    "    # or [nan, nan, nan, nan, nan] -> [0, 0, 0, 0, 0]\n",
    "    temp_vectorized.impute_over_axis(TIMESTEP, np_fill_null_zero, index_exp=index_exp)"
   ]
  },
  {
   "cell_type": "code",
   "execution_count": null,
   "id": "2c14526a-f767-40c6-93be-b32bc80381ba",
   "metadata": {},
   "outputs": [],
   "source": [
    "temp_vectorized.data[0, 0]"
   ]
  },
  {
   "cell_type": "code",
   "execution_count": null,
   "id": "c4063f06-fab7-4220-81dd-69db76250114",
   "metadata": {},
   "outputs": [],
   "source": [
    "temp_vectorized.shape"
   ]
  },
  {
   "cell_type": "code",
   "execution_count": null,
   "id": "1531e16e-a299-4aa0-acad-363a2cb80951",
   "metadata": {},
   "outputs": [],
   "source": [
    "# Forward fill then backward fill to get rid of each of the timestep nulls\n",
    "temp_vectorized.impute_over_axis(TIMESTEP, np_ffill_bfill)"
   ]
  },
  {
   "cell_type": "code",
   "execution_count": null,
   "id": "0d16db60-459d-4d39-98aa-c4c76a23d282",
   "metadata": {},
   "outputs": [],
   "source": [
    "# Fill those all-null timesteps with feature mean\n",
    "# (since forward and backward filling still leaves them all null)\n",
    "\n",
    "axis = temp_vectorized.get_axis(EVENT_NAME)\n",
    "\n",
    "for i in range(temp_vectorized.data.shape[axis]):\n",
    "    index_exp = vec_index_exp[:, :, i]\n",
    "    data_slice = temp_vectorized.data[index_exp]\n",
    "    print(\"data_slice.shape\", data_slice.shape)\n",
    "    print(\"np.isnan(data_slice).sum()\", np.isnan(data_slice).sum())\n",
    "    mean = np.nanmean(data_slice)\n",
    "    func = lambda x: np_fill_null_num(x, mean)\n",
    "    print(mean)\n",
    "    temp_vectorized.impute_over_axis(TIMESTEP, func, index_exp=index_exp)"
   ]
  },
  {
   "cell_type": "code",
   "execution_count": null,
   "id": "35b05e22-7897-49df-8fc3-c64bcda0aa26",
   "metadata": {},
   "outputs": [],
   "source": [
    "temp_vectorized.data[0, 0]"
   ]
  },
  {
   "cell_type": "markdown",
   "id": "c103337f-dbd8-4f04-96a7-b6e721cd3642",
   "metadata": {},
   "source": [
    "# Combined processing"
   ]
  },
  {
   "cell_type": "markdown",
   "id": "6fb0a06e-d146-45af-89cd-a90964a6b2df",
   "metadata": {},
   "source": [
    "# Prepare splits"
   ]
  },
  {
   "cell_type": "markdown",
   "id": "5d0eaa25-0014-4212-b2ae-794cd70e915d",
   "metadata": {},
   "source": [
    "Take only the encounters available in all of the datasets and align the datasets over encounters."
   ]
  },
  {
   "cell_type": "code",
   "execution_count": null,
   "id": "b8670c0b-3e53-45f3-9aa1-428a14d13373",
   "metadata": {},
   "outputs": [],
   "source": [
    "tab_vectorized.shape, temp_vectorized.shape"
   ]
  },
  {
   "cell_type": "code",
   "execution_count": null,
   "id": "d817d8ec-886b-494d-9d32-3e076f774d51",
   "metadata": {},
   "outputs": [],
   "source": [
    "tab_vectorized, temp_vectorized = intersect_vectorized(\n",
    "    [tab_vectorized, temp_vectorized], axes=ENCOUNTER_ID\n",
    ")\n",
    "tab_vectorized.shape, temp_vectorized.shape"
   ]
  },
  {
   "cell_type": "code",
   "execution_count": null,
   "id": "b97c5aba-847e-4f58-9bce-69222f538f12",
   "metadata": {},
   "outputs": [],
   "source": [
    "# Standardize only the numeric features (e.g., not binary indicators)\n",
    "normalizer_map = {feat: STANDARD for feat in numeric_features}\n",
    "\n",
    "tab_vectorized.add_normalizer(\n",
    "    FEATURES,\n",
    "    normalizer_map=normalizer_map,\n",
    ")"
   ]
  },
  {
   "cell_type": "code",
   "execution_count": null,
   "id": "174bb4b0-8948-42d6-a477-b0792a9b7186",
   "metadata": {},
   "outputs": [],
   "source": [
    "# Standardize all events\n",
    "temp_vectorized.add_normalizer(\n",
    "    EVENT_NAME,\n",
    "    normalization_method=STANDARD,\n",
    ")"
   ]
  },
  {
   "cell_type": "markdown",
   "id": "ff6663ae-1ed5-445e-a1d6-9021154fe1a7",
   "metadata": {},
   "source": [
    "## Dataset splits"
   ]
  },
  {
   "cell_type": "markdown",
   "id": "839995aa-40cb-449c-a057-ad7719998ecf",
   "metadata": {},
   "source": [
    "Split into training, validation, and testing datasets such that the tabular and temporal encounters remain aligned."
   ]
  },
  {
   "cell_type": "code",
   "execution_count": null,
   "id": "5a4ec3d2-a221-41ce-93ae-9f5a3018eb00",
   "metadata": {},
   "outputs": [],
   "source": [
    "tab_splits, temp_splits = split_vectorized(\n",
    "    [tab_vectorized, temp_vectorized], SPLIT_FRACTIONS, axes=ENCOUNTER_ID\n",
    ")\n",
    "tab_train, tab_val, tab_test = tab_splits\n",
    "temp_train, temp_val, temp_test = temp_splits"
   ]
  },
  {
   "cell_type": "code",
   "execution_count": null,
   "id": "37a6a36d-499d-447e-93eb-3ac002c986c6",
   "metadata": {},
   "outputs": [],
   "source": [
    "tab_train.shape, tab_val.shape, tab_test.shape"
   ]
  },
  {
   "cell_type": "code",
   "execution_count": null,
   "id": "edfd710c-b21d-4dc4-b8e4-550235570768",
   "metadata": {},
   "outputs": [],
   "source": [
    "temp_train.shape, temp_val.shape, temp_test.shape"
   ]
  },
  {
   "cell_type": "markdown",
   "id": "203ec0ad-a35a-49df-8979-a32779c3ac13",
   "metadata": {},
   "source": [
    "## Split features/targets"
   ]
  },
  {
   "cell_type": "markdown",
   "id": "9e2f20f3-fe51-41f5-be9f-c74d32519787",
   "metadata": {},
   "source": [
    "Split out the targets in the temporal data."
   ]
  },
  {
   "cell_type": "code",
   "execution_count": null,
   "id": "aca6b88f-8f3b-46d2-9d75-3fe8eec1745b",
   "metadata": {},
   "outputs": [],
   "source": [
    "tab_train_X, tab_train_y = tab_train.split_out(FEATURES, TAB_TARGETS)\n",
    "tab_train_X.shape, tab_train_y.shape"
   ]
  },
  {
   "cell_type": "code",
   "execution_count": null,
   "id": "ec5a428e-fcab-4a49-b9c9-77fe5b56da4f",
   "metadata": {},
   "outputs": [],
   "source": [
    "tab_val_X, tab_val_y = tab_val.split_out(FEATURES, TAB_TARGETS)\n",
    "tab_val_X.shape, tab_val_y.shape"
   ]
  },
  {
   "cell_type": "code",
   "execution_count": null,
   "id": "98adfca2-4347-475e-ad9d-aeb15a9f3c65",
   "metadata": {},
   "outputs": [],
   "source": [
    "tab_test_X, tab_test_y = tab_test.split_out(FEATURES, TAB_TARGETS)\n",
    "tab_test_X.shape, tab_test_y.shape"
   ]
  },
  {
   "cell_type": "code",
   "execution_count": null,
   "id": "7a251574-2635-42db-b42e-3d8b77143b64",
   "metadata": {},
   "outputs": [],
   "source": [
    "temp_train_X, temp_train_y = temp_train.split_out(EVENT_NAME, TEMP_TARGETS)\n",
    "temp_train_X.shape, temp_train_y.shape"
   ]
  },
  {
   "cell_type": "code",
   "execution_count": null,
   "id": "54795d9d-c2a4-4dd4-9ff9-d3927a0339a3",
   "metadata": {},
   "outputs": [],
   "source": [
    "temp_val_X, temp_val_y = temp_val.split_out(EVENT_NAME, TEMP_TARGETS)\n",
    "temp_val_X.shape, temp_val_y.shape"
   ]
  },
  {
   "cell_type": "code",
   "execution_count": null,
   "id": "7857300c-e98e-4af3-89eb-4665e887c60c",
   "metadata": {},
   "outputs": [],
   "source": [
    "temp_test_X, temp_test_y = temp_test.split_out(EVENT_NAME, TEMP_TARGETS)\n",
    "temp_test_X.shape, temp_test_y.shape"
   ]
  },
  {
   "cell_type": "markdown",
   "id": "b45650c0-847e-4b13-974f-49f9b89cc5f3",
   "metadata": {},
   "source": [
    "### Normalization"
   ]
  },
  {
   "cell_type": "code",
   "execution_count": null,
   "id": "47896217-2e2c-449b-9ac9-b3ce08028f91",
   "metadata": {},
   "outputs": [],
   "source": [
    "splits = (\n",
    "    tab_train_X,\n",
    "    tab_val_X,\n",
    "    tab_test_X,\n",
    "    temp_train_X,\n",
    "    temp_val_X,\n",
    "    temp_test_X,\n",
    ")\n",
    "\n",
    "for split in splits:\n",
    "    split.fit_normalizer()\n",
    "    split.normalize()\n",
    "\n",
    "(\n",
    "    tab_train_X,\n",
    "    tab_val_X,\n",
    "    tab_test_X,\n",
    "    temp_train_X,\n",
    "    temp_val_X,\n",
    "    temp_test_X,\n",
    ") = splits"
   ]
  },
  {
   "cell_type": "markdown",
   "id": "e1c2c5b5-9979-4678-bead-ad42b547abfb",
   "metadata": {
    "tags": []
   },
   "source": [
    "## Save"
   ]
  },
  {
   "cell_type": "code",
   "execution_count": null,
   "id": "9f88e2b1-373e-46c6-97ca-aabd2873fe9a",
   "metadata": {},
   "outputs": [],
   "source": [
    "# Store data (serialize)\n",
    "vectorized = [\n",
    "    (tab_train_X, \"tab_train_X\"),\n",
    "    (tab_train_y, \"tab_train_y\"),\n",
    "    (tab_val_X, \"tab_val_X\"),\n",
    "    (tab_val_y, \"tab_val_y\"),\n",
    "    (tab_test_X, \"tab_test_X\"),\n",
    "    (tab_test_y, \"tab_test_y\"),\n",
    "    (temp_train_X, \"temp_train_X\"),\n",
    "    (temp_train_y, \"temp_train_y\"),\n",
    "    (temp_val_X, \"temp_val_X\"),\n",
    "    (temp_val_y, \"temp_val_y\"),\n",
    "    (temp_test_X, \"temp_test_X\"),\n",
    "    (temp_test_y, \"temp_test_y\"),\n",
    "]\n",
    "for vec, name in vectorized:\n",
    "    with open(name + \".pkl\", \"wb\") as handle:\n",
    "        pickle.dump(vec, handle)"
   ]
  }
 ],
 "metadata": {
  "kernelspec": {
   "display_name": "cyclops-env",
   "language": "python",
   "name": "cyclops-env"
  },
  "language_info": {
   "codemirror_mode": {
    "name": "ipython",
    "version": 3
   },
   "file_extension": ".py",
   "mimetype": "text/x-python",
   "name": "python",
   "nbconvert_exporter": "python",
   "pygments_lexer": "ipython3",
   "version": "3.9.7"
  }
 },
 "nbformat": 4,
 "nbformat_minor": 5
}
