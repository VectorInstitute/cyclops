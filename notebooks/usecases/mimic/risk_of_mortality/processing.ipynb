{
 "cells": [
  {
   "cell_type": "code",
   "execution_count": 6,
   "id": "c8187b80-aa12-4c9b-97b2-83f83691d84d",
   "metadata": {},
   "outputs": [],
   "source": [
    "import pickle\n",
    "\n",
    "import numpy as np\n",
    "import pandas as pd\n",
    "\n",
    "from cyclops.processors.aggregate import Aggregator\n",
    "from cyclops.processors.cleaning import (\n",
    "    normalize_categories,\n",
    "    normalize_names,\n",
    "    normalize_values,\n",
    ")\n",
    "from cyclops.processors.column_names import (\n",
    "    ADMIT_TIMESTAMP,\n",
    "    AGE,\n",
    "    CARE_UNIT,\n",
    "    DIAGNOSIS_CODE,\n",
    "    DIAGNOSIS_TRAJECTORY,\n",
    "    ENCOUNTER_ID,\n",
    "    EVENT_CATEGORY,\n",
    "    EVENT_NAME,\n",
    "    EVENT_TIMESTAMP,\n",
    "    EVENT_VALUE,\n",
    "    EVENT_VALUE_UNIT,\n",
    "    HOSPITAL_ID,\n",
    "    SEX,\n",
    "    SUBJECT_ID,\n",
    "    TIMESTEP,\n",
    "    YEAR,\n",
    ")\n",
    "from cyclops.processors.constants import (\n",
    "    BINARY,\n",
    "    BY,\n",
    "    CATEGORICAL_INDICATOR,\n",
    "    FEATURE_INDICATOR_ATTR,\n",
    "    FEATURE_MAPPING_ATTR,\n",
    "    FEATURE_TYPE_ATTR,\n",
    "    FEATURE_TYPES,\n",
    "    FEATURES,\n",
    "    MEAN,\n",
    "    MIN_MAX,\n",
    "    MISSING_CATEGORY,\n",
    "    NUMERIC,\n",
    "    ORDINAL,\n",
    "    STANDARD,\n",
    "    STRING,\n",
    "    TARGETS,\n",
    ")\n",
    "from cyclops.processors.feature.feature import TabularFeatures, TemporalFeatures\n",
    "from cyclops.processors.feature.normalization import VectorizedNormalizer\n",
    "from cyclops.processors.feature.vectorize import intersect_vectorized, split_vectorized\n",
    "from cyclops.query import mimic\n",
    "from cyclops.query import process as qp\n",
    "from cyclops.utils.common import print_dict\n",
    "from cyclops.utils.file import load_array, load_dataframe, save_dataframe"
   ]
  },
  {
   "cell_type": "code",
   "execution_count": 7,
   "id": "6e81b3cd-e787-4569-96a2-546ed9bc64ae",
   "metadata": {},
   "outputs": [],
   "source": [
    "OUTCOME_DEATH = \"outcome_death\"\n",
    "OUTCOME_DEATH_PROCESSED = TARGETS + \" - \" + OUTCOME_DEATH\n",
    "\n",
    "TAB_TARGETS = [OUTCOME_DEATH]\n",
    "TEMP_TARGETS = [OUTCOME_DEATH_PROCESSED]\n",
    "\n",
    "SPLIT_FRACTIONS = [0.8, 0.1]\n",
    "PREDICT_OFFSET_HRS = 24"
   ]
  },
  {
   "cell_type": "code",
   "execution_count": 8,
   "id": "162b9e09-f627-442d-bd7e-5b42504c9be9",
   "metadata": {},
   "outputs": [
    {
     "data": {
      "text/plain": [
       "['outcome_death']"
      ]
     },
     "execution_count": 8,
     "metadata": {},
     "output_type": "execute_result"
    }
   ],
   "source": [
    "TAB_TARGETS"
   ]
  },
  {
   "cell_type": "markdown",
   "id": "c40f9507-91bd-487f-a73d-0faccf54c7a6",
   "metadata": {
    "tags": []
   },
   "source": [
    "# Tabular-specific processing"
   ]
  },
  {
   "cell_type": "code",
   "execution_count": 9,
   "id": "643ec42d-a118-46ac-99c3-a776e60e1a65",
   "metadata": {},
   "outputs": [
    {
     "name": "stderr",
     "output_type": "stream",
     "text": [
      "2022-07-25 13:37:06,139 \u001b[1;37mINFO\u001b[0m cyclops.utils.file - Loading DataFrame from encounters.parquet\n"
     ]
    },
    {
     "data": {
      "text/html": [
       "<div>\n",
       "<style scoped>\n",
       "    .dataframe tbody tr th:only-of-type {\n",
       "        vertical-align: middle;\n",
       "    }\n",
       "\n",
       "    .dataframe tbody tr th {\n",
       "        vertical-align: top;\n",
       "    }\n",
       "\n",
       "    .dataframe thead th {\n",
       "        text-align: right;\n",
       "    }\n",
       "</style>\n",
       "<table border=\"1\" class=\"dataframe\">\n",
       "  <thead>\n",
       "    <tr style=\"text-align: right;\">\n",
       "      <th></th>\n",
       "      <th>subject_id</th>\n",
       "      <th>encounter_id</th>\n",
       "      <th>admit_timestamp</th>\n",
       "      <th>discharge_timestamp</th>\n",
       "      <th>deathtime</th>\n",
       "      <th>admission_type</th>\n",
       "      <th>admission_location</th>\n",
       "      <th>discharge_location</th>\n",
       "      <th>ethnicity</th>\n",
       "      <th>edregtime</th>\n",
       "      <th>edouttime</th>\n",
       "      <th>sex</th>\n",
       "      <th>age</th>\n",
       "      <th>birth_year</th>\n",
       "      <th>dod</th>\n",
       "      <th>anchor_year_difference</th>\n",
       "      <th>outcome_death</th>\n",
       "    </tr>\n",
       "  </thead>\n",
       "  <tbody>\n",
       "    <tr>\n",
       "      <th>0</th>\n",
       "      <td>18660483</td>\n",
       "      <td>26256527</td>\n",
       "      <td>2015-07-01 09:44:00</td>\n",
       "      <td>2015-07-03 09:58:00</td>\n",
       "      <td>NaT</td>\n",
       "      <td>ELECTIVE</td>\n",
       "      <td>None</td>\n",
       "      <td>HOME</td>\n",
       "      <td>WHITE</td>\n",
       "      <td>NaT</td>\n",
       "      <td>NaT</td>\n",
       "      <td>F</td>\n",
       "      <td>0</td>\n",
       "      <td>2015</td>\n",
       "      <td>NaT</td>\n",
       "      <td>-116</td>\n",
       "      <td>False</td>\n",
       "    </tr>\n",
       "    <tr>\n",
       "      <th>1</th>\n",
       "      <td>17978591</td>\n",
       "      <td>21300810</td>\n",
       "      <td>2015-10-10 00:21:00</td>\n",
       "      <td>2015-10-12 14:10:00</td>\n",
       "      <td>NaT</td>\n",
       "      <td>ELECTIVE</td>\n",
       "      <td>None</td>\n",
       "      <td>HOME</td>\n",
       "      <td>WHITE</td>\n",
       "      <td>NaT</td>\n",
       "      <td>NaT</td>\n",
       "      <td>F</td>\n",
       "      <td>0</td>\n",
       "      <td>2015</td>\n",
       "      <td>NaT</td>\n",
       "      <td>-134</td>\n",
       "      <td>False</td>\n",
       "    </tr>\n",
       "    <tr>\n",
       "      <th>2</th>\n",
       "      <td>16420748</td>\n",
       "      <td>23082241</td>\n",
       "      <td>2018-10-25 22:30:00</td>\n",
       "      <td>2018-10-28 12:58:00</td>\n",
       "      <td>NaT</td>\n",
       "      <td>ELECTIVE</td>\n",
       "      <td>None</td>\n",
       "      <td>HOME</td>\n",
       "      <td>WHITE</td>\n",
       "      <td>NaT</td>\n",
       "      <td>NaT</td>\n",
       "      <td>F</td>\n",
       "      <td>0</td>\n",
       "      <td>2018</td>\n",
       "      <td>NaT</td>\n",
       "      <td>-151</td>\n",
       "      <td>False</td>\n",
       "    </tr>\n",
       "    <tr>\n",
       "      <th>3</th>\n",
       "      <td>15206017</td>\n",
       "      <td>25518306</td>\n",
       "      <td>2018-10-22 15:28:00</td>\n",
       "      <td>2018-10-23 19:13:00</td>\n",
       "      <td>NaT</td>\n",
       "      <td>EU OBSERVATION</td>\n",
       "      <td>CLINIC REFERRAL</td>\n",
       "      <td>None</td>\n",
       "      <td>BLACK/AFRICAN AMERICAN</td>\n",
       "      <td>2110-10-22 11:52:00</td>\n",
       "      <td>2110-10-22 17:37:00</td>\n",
       "      <td>F</td>\n",
       "      <td>76</td>\n",
       "      <td>1942</td>\n",
       "      <td>NaT</td>\n",
       "      <td>-92</td>\n",
       "      <td>None</td>\n",
       "    </tr>\n",
       "    <tr>\n",
       "      <th>4</th>\n",
       "      <td>14695283</td>\n",
       "      <td>23679175</td>\n",
       "      <td>2018-06-24 18:54:00</td>\n",
       "      <td>2018-06-25 20:15:00</td>\n",
       "      <td>NaT</td>\n",
       "      <td>EU OBSERVATION</td>\n",
       "      <td>PHYSICIAN REFERRAL</td>\n",
       "      <td>None</td>\n",
       "      <td>WHITE</td>\n",
       "      <td>2176-06-24 14:46:00</td>\n",
       "      <td>2176-06-25 20:15:00</td>\n",
       "      <td>F</td>\n",
       "      <td>90</td>\n",
       "      <td>1928</td>\n",
       "      <td>NaT</td>\n",
       "      <td>-158</td>\n",
       "      <td>None</td>\n",
       "    </tr>\n",
       "  </tbody>\n",
       "</table>\n",
       "</div>"
      ],
      "text/plain": [
       "   subject_id  encounter_id     admit_timestamp discharge_timestamp deathtime  \\\n",
       "0    18660483      26256527 2015-07-01 09:44:00 2015-07-03 09:58:00       NaT   \n",
       "1    17978591      21300810 2015-10-10 00:21:00 2015-10-12 14:10:00       NaT   \n",
       "2    16420748      23082241 2018-10-25 22:30:00 2018-10-28 12:58:00       NaT   \n",
       "3    15206017      25518306 2018-10-22 15:28:00 2018-10-23 19:13:00       NaT   \n",
       "4    14695283      23679175 2018-06-24 18:54:00 2018-06-25 20:15:00       NaT   \n",
       "\n",
       "   admission_type  admission_location discharge_location  \\\n",
       "0        ELECTIVE                None               HOME   \n",
       "1        ELECTIVE                None               HOME   \n",
       "2        ELECTIVE                None               HOME   \n",
       "3  EU OBSERVATION     CLINIC REFERRAL               None   \n",
       "4  EU OBSERVATION  PHYSICIAN REFERRAL               None   \n",
       "\n",
       "                ethnicity           edregtime           edouttime sex  age  \\\n",
       "0                   WHITE                 NaT                 NaT   F    0   \n",
       "1                   WHITE                 NaT                 NaT   F    0   \n",
       "2                   WHITE                 NaT                 NaT   F    0   \n",
       "3  BLACK/AFRICAN AMERICAN 2110-10-22 11:52:00 2110-10-22 17:37:00   F   76   \n",
       "4                   WHITE 2176-06-24 14:46:00 2176-06-25 20:15:00   F   90   \n",
       "\n",
       "   birth_year dod  anchor_year_difference outcome_death  \n",
       "0        2015 NaT                    -116         False  \n",
       "1        2015 NaT                    -134         False  \n",
       "2        2018 NaT                    -151         False  \n",
       "3        1942 NaT                     -92          None  \n",
       "4        1928 NaT                    -158          None  "
      ]
     },
     "execution_count": 9,
     "metadata": {},
     "output_type": "execute_result"
    }
   ],
   "source": [
    "cohort = load_dataframe(\"encounters.parquet\")\n",
    "cohort.head(5)"
   ]
  },
  {
   "cell_type": "code",
   "execution_count": 10,
   "id": "fb8aec10-040a-4a71-8433-40f9d6855dd5",
   "metadata": {},
   "outputs": [],
   "source": [
    "features = [\n",
    "    AGE,\n",
    "    SEX,\n",
    "    OUTCOME_DEATH,\n",
    "    \"admission_type\",\n",
    "    \"admission_location\",\n",
    "    \"discharge_location\",\n",
    "    \"ethnicity\",\n",
    "]\n",
    "\n",
    "cohort = cohort.reset_index(drop=True)\n",
    "\n",
    "tab_features = TabularFeatures(\n",
    "    data=cohort,\n",
    "    features=features,\n",
    "    by=ENCOUNTER_ID,\n",
    ")"
   ]
  },
  {
   "cell_type": "code",
   "execution_count": 11,
   "id": "af949608-e0b8-4cdf-9e72-71e8b26eab18",
   "metadata": {},
   "outputs": [
    {
     "data": {
      "text/plain": [
       "{'ethnicity': 'ordinal',\n",
       " 'sex': 'binary',\n",
       " 'admission_location': 'ordinal',\n",
       " 'outcome_death': 'numeric',\n",
       " 'age': 'numeric',\n",
       " 'admission_type': 'ordinal',\n",
       " 'discharge_location': 'ordinal'}"
      ]
     },
     "execution_count": 11,
     "metadata": {},
     "output_type": "execute_result"
    }
   ],
   "source": [
    "tab_features.types"
   ]
  },
  {
   "cell_type": "code",
   "execution_count": 12,
   "id": "2cb215a8-e9ad-4105-b744-a61a93ef0e09",
   "metadata": {},
   "outputs": [
    {
     "data": {
      "text/plain": [
       "dict_keys(['ethnicity', 'sex', 'admission_location', 'outcome_death', 'age', 'admission_type', 'discharge_location'])"
      ]
     },
     "execution_count": 12,
     "metadata": {},
     "output_type": "execute_result"
    }
   ],
   "source": [
    "tab_features.meta.keys()"
   ]
  },
  {
   "cell_type": "code",
   "execution_count": 13,
   "id": "4ea328b2-e397-405a-a5b0-7bcaa4520aa6",
   "metadata": {},
   "outputs": [
    {
     "data": {
      "text/plain": [
       "{0: 'AMBULATORY SURGERY TRANSFER',\n",
       " 1: 'CLINIC REFERRAL',\n",
       " 2: 'EMERGENCY ROOM',\n",
       " 3: 'INFORMATION NOT AVAILABLE',\n",
       " 4: 'INTERNAL TRANSFER TO OR FROM PSYCH',\n",
       " 5: 'PACU',\n",
       " 6: 'PHYSICIAN REFERRAL',\n",
       " 7: 'PROCEDURE SITE',\n",
       " 8: 'TRANSFER FROM HOSPITAL',\n",
       " 9: 'TRANSFER FROM SKILLED NURSING FACILITY',\n",
       " 10: 'WALK-IN/SELF REFERRAL',\n",
       " 11: 'nan'}"
      ]
     },
     "execution_count": 13,
     "metadata": {},
     "output_type": "execute_result"
    }
   ],
   "source": [
    "tab_features.meta[\"admission_location\"].get_mapping()"
   ]
  },
  {
   "cell_type": "code",
   "execution_count": 14,
   "id": "b90115b1-3e5e-412c-ae3a-51e1f7d5607b",
   "metadata": {},
   "outputs": [
    {
     "data": {
      "text/plain": [
       "['ethnicity', 'admission_location', 'admission_type', 'discharge_location']"
      ]
     },
     "execution_count": 14,
     "metadata": {},
     "output_type": "execute_result"
    }
   ],
   "source": [
    "ordinal_features = tab_features.features_by_type(ORDINAL)\n",
    "ordinal_features"
   ]
  },
  {
   "cell_type": "code",
   "execution_count": 15,
   "id": "eda135bc-f0f6-4dd1-bb4e-91d96a24f44e",
   "metadata": {},
   "outputs": [
    {
     "name": "stderr",
     "output_type": "stream",
     "text": [
      "/home/kmckeen/gemini/cyclops/cyclops/processors/feature/feature.py:696: SettingWithCopyWarning: \n",
      "A value is trying to be set on a copy of a slice from a DataFrame.\n",
      "Try using .loc[row_indexer,col_indexer] = value instead\n",
      "\n",
      "See the caveats in the documentation: https://pandas.pydata.org/pandas-docs/stable/user_guide/indexing.html#returning-a-view-versus-a-copy\n",
      "  data[feat] = data[feat].replace(self.meta[feat].get_mapping())\n",
      "/home/kmckeen/gemini/cyclops/cyclops/processors/feature/feature.py:696: SettingWithCopyWarning: \n",
      "A value is trying to be set on a copy of a slice from a DataFrame.\n",
      "Try using .loc[row_indexer,col_indexer] = value instead\n",
      "\n",
      "See the caveats in the documentation: https://pandas.pydata.org/pandas-docs/stable/user_guide/indexing.html#returning-a-view-versus-a-copy\n",
      "  data[feat] = data[feat].replace(self.meta[feat].get_mapping())\n",
      "/home/kmckeen/gemini/cyclops/cyclops/processors/feature/feature.py:696: SettingWithCopyWarning: \n",
      "A value is trying to be set on a copy of a slice from a DataFrame.\n",
      "Try using .loc[row_indexer,col_indexer] = value instead\n",
      "\n",
      "See the caveats in the documentation: https://pandas.pydata.org/pandas-docs/stable/user_guide/indexing.html#returning-a-view-versus-a-copy\n",
      "  data[feat] = data[feat].replace(self.meta[feat].get_mapping())\n",
      "/home/kmckeen/gemini/cyclops/cyclops/processors/feature/feature.py:696: SettingWithCopyWarning: \n",
      "A value is trying to be set on a copy of a slice from a DataFrame.\n",
      "Try using .loc[row_indexer,col_indexer] = value instead\n",
      "\n",
      "See the caveats in the documentation: https://pandas.pydata.org/pandas-docs/stable/user_guide/indexing.html#returning-a-view-versus-a-copy\n",
      "  data[feat] = data[feat].replace(self.meta[feat].get_mapping())\n"
     ]
    }
   ],
   "source": [
    "tab_vectorized = tab_features.vectorize(to_binary_indicators=ordinal_features)"
   ]
  },
  {
   "cell_type": "code",
   "execution_count": 16,
   "id": "97a3a502-4d33-4380-92f6-3f345f5de00d",
   "metadata": {},
   "outputs": [
    {
     "data": {
      "text/plain": [
       "(224764, 44)"
      ]
     },
     "execution_count": 16,
     "metadata": {},
     "output_type": "execute_result"
    }
   ],
   "source": [
    "tab_vectorized.shape"
   ]
  },
  {
   "cell_type": "code",
   "execution_count": 17,
   "id": "7067bc7f-4da8-4d6e-bf1f-afa41c1590da",
   "metadata": {},
   "outputs": [
    {
     "data": {
      "text/plain": [
       "['encounter_id', 'features']"
      ]
     },
     "execution_count": 17,
     "metadata": {},
     "output_type": "execute_result"
    }
   ],
   "source": [
    "tab_vectorized.axis_names"
   ]
  },
  {
   "cell_type": "code",
   "execution_count": 18,
   "id": "614b3a5b-703a-4969-9b8e-3e7dbd439f11",
   "metadata": {},
   "outputs": [
    {
     "data": {
      "text/plain": [
       "['outcome_death', 'age']"
      ]
     },
     "execution_count": 18,
     "metadata": {},
     "output_type": "execute_result"
    }
   ],
   "source": [
    "numeric_features = tab_features.features_by_type(NUMERIC)\n",
    "numeric_features"
   ]
  },
  {
   "cell_type": "code",
   "execution_count": 19,
   "id": "3b976232-b3ff-4c82-bf41-67e7d8dcc7a1",
   "metadata": {},
   "outputs": [
    {
     "name": "stderr",
     "output_type": "stream",
     "text": [
      "2022-07-25 13:37:07,623 \u001b[1;37mINFO\u001b[0m cyclops.utils.file - Saving array to tab_vectorized.npy\n"
     ]
    },
    {
     "data": {
      "text/plain": [
       "'tab_vectorized.npy'"
      ]
     },
     "execution_count": 19,
     "metadata": {},
     "output_type": "execute_result"
    }
   ],
   "source": [
    "tab_vectorized.save(\"tab_vectorized.npy\")"
   ]
  },
  {
   "cell_type": "markdown",
   "id": "2187007a-7fc8-4c33-b60a-44cb05562c16",
   "metadata": {
    "tags": []
   },
   "source": [
    "# Temporal-specific processing"
   ]
  },
  {
   "cell_type": "code",
   "execution_count": null,
   "id": "10e89fbb-fffe-462c-a1fd-f9f9ce79dcc0",
   "metadata": {},
   "outputs": [],
   "source": [
    "# chunk = 1"
   ]
  },
  {
   "cell_type": "code",
   "execution_count": 20,
   "id": "68644d5a-164a-41f4-8518-a8311afc348c",
   "metadata": {},
   "outputs": [
    {
     "name": "stderr",
     "output_type": "stream",
     "text": [
      "2022-07-25 13:37:07,674 \u001b[1;37mINFO\u001b[0m cyclops.utils.file - Loading DataFrame from events.parquet\n"
     ]
    },
    {
     "data": {
      "text/html": [
       "<div>\n",
       "<style scoped>\n",
       "    .dataframe tbody tr th:only-of-type {\n",
       "        vertical-align: middle;\n",
       "    }\n",
       "\n",
       "    .dataframe tbody tr th {\n",
       "        vertical-align: top;\n",
       "    }\n",
       "\n",
       "    .dataframe thead th {\n",
       "        text-align: right;\n",
       "    }\n",
       "</style>\n",
       "<table border=\"1\" class=\"dataframe\">\n",
       "  <thead>\n",
       "    <tr style=\"text-align: right;\">\n",
       "      <th></th>\n",
       "      <th>encounter_id</th>\n",
       "      <th>subject_id</th>\n",
       "      <th>stay_id</th>\n",
       "      <th>event_timestamp</th>\n",
       "      <th>value</th>\n",
       "      <th>event_value</th>\n",
       "      <th>event_value_unit</th>\n",
       "      <th>event_category</th>\n",
       "      <th>event_name</th>\n",
       "    </tr>\n",
       "  </thead>\n",
       "  <tbody>\n",
       "    <tr>\n",
       "      <th>450760</th>\n",
       "      <td>26432496</td>\n",
       "      <td>17521365.0</td>\n",
       "      <td>38504972.0</td>\n",
       "      <td>2015-06-26 05:41:00</td>\n",
       "      <td>Repositioning for optimizing respiratory status</td>\n",
       "      <td>NaN</td>\n",
       "      <td>None</td>\n",
       "      <td>care plans</td>\n",
       "      <td>care plans - altered respiratory status ncp - ...</td>\n",
       "    </tr>\n",
       "    <tr>\n",
       "      <th>587343</th>\n",
       "      <td>22390175</td>\n",
       "      <td>17316181.0</td>\n",
       "      <td>31689230.0</td>\n",
       "      <td>2019-02-21 16:00:00</td>\n",
       "      <td>Portex</td>\n",
       "      <td>NaN</td>\n",
       "      <td>None</td>\n",
       "      <td>respiratory</td>\n",
       "      <td>respiratory - trach tube manufacturer</td>\n",
       "    </tr>\n",
       "    <tr>\n",
       "      <th>522275</th>\n",
       "      <td>23274561</td>\n",
       "      <td>17305750.0</td>\n",
       "      <td>36213134.0</td>\n",
       "      <td>2018-02-24 22:29:00</td>\n",
       "      <td>Grade 0</td>\n",
       "      <td>NaN</td>\n",
       "      <td>None</td>\n",
       "      <td>access lines - peripheral</td>\n",
       "      <td>access lines - peripheral - 22 g infiltration ...</td>\n",
       "    </tr>\n",
       "    <tr>\n",
       "      <th>42239</th>\n",
       "      <td>20574570</td>\n",
       "      <td>17566492.0</td>\n",
       "      <td>34188547.0</td>\n",
       "      <td>2019-01-29 20:00:00</td>\n",
       "      <td>Normal for Race</td>\n",
       "      <td>NaN</td>\n",
       "      <td>None</td>\n",
       "      <td>skin - assessment</td>\n",
       "      <td>skin - assessment - skin color</td>\n",
       "    </tr>\n",
       "    <tr>\n",
       "      <th>572467</th>\n",
       "      <td>22390175</td>\n",
       "      <td>17316181.0</td>\n",
       "      <td>31689230.0</td>\n",
       "      <td>2019-02-04 16:00:00</td>\n",
       "      <td>CPOT</td>\n",
       "      <td>NaN</td>\n",
       "      <td>None</td>\n",
       "      <td>pain/sedation</td>\n",
       "      <td>pain/sedation - cpot-pain assessment method</td>\n",
       "    </tr>\n",
       "  </tbody>\n",
       "</table>\n",
       "</div>"
      ],
      "text/plain": [
       "        encounter_id  subject_id     stay_id     event_timestamp  \\\n",
       "450760      26432496  17521365.0  38504972.0 2015-06-26 05:41:00   \n",
       "587343      22390175  17316181.0  31689230.0 2019-02-21 16:00:00   \n",
       "522275      23274561  17305750.0  36213134.0 2018-02-24 22:29:00   \n",
       "42239       20574570  17566492.0  34188547.0 2019-01-29 20:00:00   \n",
       "572467      22390175  17316181.0  31689230.0 2019-02-04 16:00:00   \n",
       "\n",
       "                                                  value  event_value  \\\n",
       "450760  Repositioning for optimizing respiratory status          NaN   \n",
       "587343                                           Portex          NaN   \n",
       "522275                                          Grade 0          NaN   \n",
       "42239                                   Normal for Race          NaN   \n",
       "572467                                             CPOT          NaN   \n",
       "\n",
       "       event_value_unit             event_category  \\\n",
       "450760             None                 care plans   \n",
       "587343             None                respiratory   \n",
       "522275             None  access lines - peripheral   \n",
       "42239              None          skin - assessment   \n",
       "572467             None              pain/sedation   \n",
       "\n",
       "                                               event_name  \n",
       "450760  care plans - altered respiratory status ncp - ...  \n",
       "587343              respiratory - trach tube manufacturer  \n",
       "522275  access lines - peripheral - 22 g infiltration ...  \n",
       "42239                      skin - assessment - skin color  \n",
       "572467        pain/sedation - cpot-pain assessment method  "
      ]
     },
     "execution_count": 20,
     "metadata": {},
     "output_type": "execute_result"
    }
   ],
   "source": [
    "events = load_dataframe(\"events.parquet\")\n",
    "events = events.sample(n=int(len(events) / 20))\n",
    "events.head(5)"
   ]
  },
  {
   "cell_type": "code",
   "execution_count": 21,
   "id": "344e4918-3c16-4146-a7b5-0ac363f4b038",
   "metadata": {},
   "outputs": [],
   "source": [
    "events[EVENT_NAME] = normalize_names(events[EVENT_NAME])\n",
    "# events[EVENT_VALUE] = normalize_values(events[EVENT_VALUE])"
   ]
  },
  {
   "cell_type": "code",
   "execution_count": 22,
   "id": "25abf281-268e-4a0e-812e-e7279e65a720",
   "metadata": {},
   "outputs": [
    {
     "data": {
      "text/html": [
       "<div>\n",
       "<style scoped>\n",
       "    .dataframe tbody tr th:only-of-type {\n",
       "        vertical-align: middle;\n",
       "    }\n",
       "\n",
       "    .dataframe tbody tr th {\n",
       "        vertical-align: top;\n",
       "    }\n",
       "\n",
       "    .dataframe thead th {\n",
       "        text-align: right;\n",
       "    }\n",
       "</style>\n",
       "<table border=\"1\" class=\"dataframe\">\n",
       "  <thead>\n",
       "    <tr style=\"text-align: right;\">\n",
       "      <th></th>\n",
       "      <th>encounter_id</th>\n",
       "      <th>subject_id</th>\n",
       "      <th>stay_id</th>\n",
       "      <th>event_timestamp</th>\n",
       "      <th>value</th>\n",
       "      <th>event_value</th>\n",
       "      <th>event_value_unit</th>\n",
       "      <th>event_category</th>\n",
       "      <th>event_name</th>\n",
       "    </tr>\n",
       "  </thead>\n",
       "  <tbody>\n",
       "    <tr>\n",
       "      <th>450760</th>\n",
       "      <td>26432496</td>\n",
       "      <td>17521365.0</td>\n",
       "      <td>38504972.0</td>\n",
       "      <td>2015-06-26 05:41:00</td>\n",
       "      <td>Repositioning for optimizing respiratory status</td>\n",
       "      <td>NaN</td>\n",
       "      <td>None</td>\n",
       "      <td>care plans</td>\n",
       "      <td>care plans - altered respiratory status ncp - ...</td>\n",
       "    </tr>\n",
       "    <tr>\n",
       "      <th>42239</th>\n",
       "      <td>20574570</td>\n",
       "      <td>17566492.0</td>\n",
       "      <td>34188547.0</td>\n",
       "      <td>2019-01-29 20:00:00</td>\n",
       "      <td>Normal for Race</td>\n",
       "      <td>NaN</td>\n",
       "      <td>None</td>\n",
       "      <td>skin - assessment</td>\n",
       "      <td>skin - assessment - skin color</td>\n",
       "    </tr>\n",
       "    <tr>\n",
       "      <th>47624</th>\n",
       "      <td>22310579</td>\n",
       "      <td>17337797.0</td>\n",
       "      <td>35798022.0</td>\n",
       "      <td>2018-08-19 16:00:00</td>\n",
       "      <td>Bed alarm activated</td>\n",
       "      <td>NaN</td>\n",
       "      <td>None</td>\n",
       "      <td>restraint/support systems</td>\n",
       "      <td>restraint/support systems - safety measures</td>\n",
       "    </tr>\n",
       "    <tr>\n",
       "      <th>53089</th>\n",
       "      <td>24181447</td>\n",
       "      <td>17412125.0</td>\n",
       "      <td>35377129.0</td>\n",
       "      <td>2018-08-13 12:05:00</td>\n",
       "      <td>Name</td>\n",
       "      <td>1.0</td>\n",
       "      <td>None</td>\n",
       "      <td>neurological</td>\n",
       "      <td>neurological - orientation</td>\n",
       "    </tr>\n",
       "    <tr>\n",
       "      <th>249141</th>\n",
       "      <td>25996095</td>\n",
       "      <td>17443783.0</td>\n",
       "      <td>37012343.0</td>\n",
       "      <td>2015-06-28 14:33:00</td>\n",
       "      <td>Stool management</td>\n",
       "      <td>NaN</td>\n",
       "      <td>None</td>\n",
       "      <td>care plans</td>\n",
       "      <td>care plans - altered skin integrity ncp - inte...</td>\n",
       "    </tr>\n",
       "  </tbody>\n",
       "</table>\n",
       "</div>"
      ],
      "text/plain": [
       "        encounter_id  subject_id     stay_id     event_timestamp  \\\n",
       "450760      26432496  17521365.0  38504972.0 2015-06-26 05:41:00   \n",
       "42239       20574570  17566492.0  34188547.0 2019-01-29 20:00:00   \n",
       "47624       22310579  17337797.0  35798022.0 2018-08-19 16:00:00   \n",
       "53089       24181447  17412125.0  35377129.0 2018-08-13 12:05:00   \n",
       "249141      25996095  17443783.0  37012343.0 2015-06-28 14:33:00   \n",
       "\n",
       "                                                  value  event_value  \\\n",
       "450760  Repositioning for optimizing respiratory status          NaN   \n",
       "42239                                   Normal for Race          NaN   \n",
       "47624                               Bed alarm activated          NaN   \n",
       "53089                                              Name          1.0   \n",
       "249141                                 Stool management          NaN   \n",
       "\n",
       "       event_value_unit             event_category  \\\n",
       "450760             None                 care plans   \n",
       "42239              None          skin - assessment   \n",
       "47624              None  restraint/support systems   \n",
       "53089              None               neurological   \n",
       "249141             None                 care plans   \n",
       "\n",
       "                                               event_name  \n",
       "450760  care plans - altered respiratory status ncp - ...  \n",
       "42239                      skin - assessment - skin color  \n",
       "47624         restraint/support systems - safety measures  \n",
       "53089                          neurological - orientation  \n",
       "249141  care plans - altered skin integrity ncp - inte...  "
      ]
     },
     "execution_count": 22,
     "metadata": {},
     "output_type": "execute_result"
    }
   ],
   "source": [
    "# Keep only the most popular events\n",
    "top_events = events[EVENT_NAME].value_counts()[:100].index\n",
    "\n",
    "# Force include the target\n",
    "top_events = np.unique(np.append(top_events, OUTCOME_DEATH))\n",
    "\n",
    "events = events[events[EVENT_NAME].isin(top_events)]\n",
    "events.head(5)"
   ]
  },
  {
   "cell_type": "code",
   "execution_count": 23,
   "id": "119a48d5-8891-4026-bd74-25a8037f8cf5",
   "metadata": {},
   "outputs": [
    {
     "data": {
      "text/html": [
       "<div>\n",
       "<style scoped>\n",
       "    .dataframe tbody tr th:only-of-type {\n",
       "        vertical-align: middle;\n",
       "    }\n",
       "\n",
       "    .dataframe tbody tr th {\n",
       "        vertical-align: top;\n",
       "    }\n",
       "\n",
       "    .dataframe thead th {\n",
       "        text-align: right;\n",
       "    }\n",
       "</style>\n",
       "<table border=\"1\" class=\"dataframe\">\n",
       "  <thead>\n",
       "    <tr style=\"text-align: right;\">\n",
       "      <th></th>\n",
       "      <th>encounter_id</th>\n",
       "      <th>subject_id</th>\n",
       "      <th>stay_id</th>\n",
       "      <th>event_timestamp</th>\n",
       "      <th>value</th>\n",
       "      <th>event_value</th>\n",
       "      <th>event_value_unit</th>\n",
       "      <th>event_category</th>\n",
       "      <th>event_name</th>\n",
       "    </tr>\n",
       "  </thead>\n",
       "  <tbody>\n",
       "    <tr>\n",
       "      <th>202141</th>\n",
       "      <td>25753285</td>\n",
       "      <td>NaN</td>\n",
       "      <td>NaN</td>\n",
       "      <td>2020-04-28 08:53:00</td>\n",
       "      <td>None</td>\n",
       "      <td>1.0</td>\n",
       "      <td>None</td>\n",
       "      <td>targets</td>\n",
       "      <td>targets - outcome_death</td>\n",
       "    </tr>\n",
       "    <tr>\n",
       "      <th>67998</th>\n",
       "      <td>20920997</td>\n",
       "      <td>NaN</td>\n",
       "      <td>NaN</td>\n",
       "      <td>2018-06-24 01:35:00</td>\n",
       "      <td>None</td>\n",
       "      <td>1.0</td>\n",
       "      <td>None</td>\n",
       "      <td>targets</td>\n",
       "      <td>targets - outcome_death</td>\n",
       "    </tr>\n",
       "    <tr>\n",
       "      <th>56159</th>\n",
       "      <td>28511446</td>\n",
       "      <td>NaN</td>\n",
       "      <td>NaN</td>\n",
       "      <td>2018-10-03 23:30:00</td>\n",
       "      <td>None</td>\n",
       "      <td>1.0</td>\n",
       "      <td>None</td>\n",
       "      <td>targets</td>\n",
       "      <td>targets - outcome_death</td>\n",
       "    </tr>\n",
       "    <tr>\n",
       "      <th>151995</th>\n",
       "      <td>26875920</td>\n",
       "      <td>NaN</td>\n",
       "      <td>NaN</td>\n",
       "      <td>2018-09-13 18:05:00</td>\n",
       "      <td>None</td>\n",
       "      <td>1.0</td>\n",
       "      <td>None</td>\n",
       "      <td>targets</td>\n",
       "      <td>targets - outcome_death</td>\n",
       "    </tr>\n",
       "    <tr>\n",
       "      <th>8598</th>\n",
       "      <td>26611016</td>\n",
       "      <td>NaN</td>\n",
       "      <td>NaN</td>\n",
       "      <td>2016-08-30 07:10:00</td>\n",
       "      <td>None</td>\n",
       "      <td>1.0</td>\n",
       "      <td>None</td>\n",
       "      <td>targets</td>\n",
       "      <td>targets - outcome_death</td>\n",
       "    </tr>\n",
       "  </tbody>\n",
       "</table>\n",
       "</div>"
      ],
      "text/plain": [
       "        encounter_id  subject_id  stay_id     event_timestamp value  \\\n",
       "202141      25753285         NaN      NaN 2020-04-28 08:53:00  None   \n",
       "67998       20920997         NaN      NaN 2018-06-24 01:35:00  None   \n",
       "56159       28511446         NaN      NaN 2018-10-03 23:30:00  None   \n",
       "151995      26875920         NaN      NaN 2018-09-13 18:05:00  None   \n",
       "8598        26611016         NaN      NaN 2016-08-30 07:10:00  None   \n",
       "\n",
       "        event_value event_value_unit event_category               event_name  \n",
       "202141          1.0             None        targets  targets - outcome_death  \n",
       "67998           1.0             None        targets  targets - outcome_death  \n",
       "56159           1.0             None        targets  targets - outcome_death  \n",
       "151995          1.0             None        targets  targets - outcome_death  \n",
       "8598            1.0             None        targets  targets - outcome_death  "
      ]
     },
     "execution_count": 23,
     "metadata": {},
     "output_type": "execute_result"
    }
   ],
   "source": [
    "events[events[EVENT_NAME] == OUTCOME_DEATH_PROCESSED].head(5)"
   ]
  },
  {
   "cell_type": "code",
   "execution_count": 24,
   "id": "5f82846a-edb8-4811-b6f9-de7eacb90a15",
   "metadata": {},
   "outputs": [
    {
     "name": "stderr",
     "output_type": "stream",
     "text": [
      "/tmp/ipykernel_2285164/2947155691.py:3: SettingWithCopyWarning: \n",
      "A value is trying to be set on a copy of a slice from a DataFrame.\n",
      "Try using .loc[row_indexer,col_indexer] = value instead\n",
      "\n",
      "See the caveats in the documentation: https://pandas.pydata.org/pandas-docs/stable/user_guide/indexing.html#returning-a-view-versus-a-copy\n",
      "  events[is_death_event][EVENT_TIMESTAMP] = events[is_death_event][EVENT_TIMESTAMP] - pd.DateOffset(\n"
     ]
    }
   ],
   "source": [
    "# Offset death time - i.e., should predict death time in advance\n",
    "is_death_event = events[EVENT_NAME] == OUTCOME_DEATH_PROCESSED\n",
    "events[is_death_event][EVENT_TIMESTAMP] = events[is_death_event][\n",
    "    EVENT_TIMESTAMP\n",
    "] - pd.DateOffset(hours=PREDICT_OFFSET_HRS)"
   ]
  },
  {
   "cell_type": "code",
   "execution_count": 25,
   "id": "06cc13d7-dd6c-44d9-93c6-0b903b84743a",
   "metadata": {},
   "outputs": [],
   "source": [
    "aggregator = Aggregator(\n",
    "    aggfuncs={EVENT_VALUE: MEAN},\n",
    "    timestamp_col=EVENT_TIMESTAMP,\n",
    "    time_by=ENCOUNTER_ID,\n",
    "    agg_by=[ENCOUNTER_ID, EVENT_NAME],\n",
    "    timestep_size=8,\n",
    "    window_duration=24,  # Optional\n",
    "    # agg_meta_for=EVENT_VALUE,  # Optional\n",
    ")"
   ]
  },
  {
   "cell_type": "code",
   "execution_count": 26,
   "id": "693f41c4-aa52-4770-a39c-1c77a9b0c03b",
   "metadata": {},
   "outputs": [],
   "source": [
    "events = events.reset_index(drop=True)\n",
    "\n",
    "tmp_features = TemporalFeatures(\n",
    "    events,\n",
    "    features=EVENT_VALUE,\n",
    "    by=[ENCOUNTER_ID, EVENT_NAME],\n",
    "    timestamp_col=EVENT_TIMESTAMP,\n",
    "    aggregator=aggregator,\n",
    ")"
   ]
  },
  {
   "cell_type": "code",
   "execution_count": 27,
   "id": "afa902f2-6213-4e7d-8ae6-b9c926aa232a",
   "metadata": {},
   "outputs": [
    {
     "name": "stderr",
     "output_type": "stream",
     "text": [
      "2022-07-25 13:37:08,025 \u001b[1;37mINFO\u001b[0m cyclops.processors.cleaning - Dropped nulls over columns: event_timestamp. Removed 6 rows.\n",
      "2022-07-25 13:37:11,599 \u001b[1;37mINFO\u001b[0m cyclops.utils.profile - Finished executing function __call__ in 3.577729 s\n"
     ]
    },
    {
     "data": {
      "text/html": [
       "<div>\n",
       "<style scoped>\n",
       "    .dataframe tbody tr th:only-of-type {\n",
       "        vertical-align: middle;\n",
       "    }\n",
       "\n",
       "    .dataframe tbody tr th {\n",
       "        vertical-align: top;\n",
       "    }\n",
       "\n",
       "    .dataframe thead th {\n",
       "        text-align: right;\n",
       "    }\n",
       "</style>\n",
       "<table border=\"1\" class=\"dataframe\">\n",
       "  <thead>\n",
       "    <tr style=\"text-align: right;\">\n",
       "      <th></th>\n",
       "      <th></th>\n",
       "      <th></th>\n",
       "      <th>event_value</th>\n",
       "      <th>timestep_start</th>\n",
       "    </tr>\n",
       "    <tr>\n",
       "      <th>encounter_id</th>\n",
       "      <th>event_name</th>\n",
       "      <th>timestep</th>\n",
       "      <th></th>\n",
       "      <th></th>\n",
       "    </tr>\n",
       "  </thead>\n",
       "  <tbody>\n",
       "    <tr>\n",
       "      <th>20004718</th>\n",
       "      <th>targets - outcome_death</th>\n",
       "      <th>0</th>\n",
       "      <td>1.0</td>\n",
       "      <td>2015-01-10 14:04:00</td>\n",
       "    </tr>\n",
       "    <tr>\n",
       "      <th rowspan=\"4\" valign=\"top\">20078746</th>\n",
       "      <th>pulmonary - cough type</th>\n",
       "      <th>1</th>\n",
       "      <td>NaN</td>\n",
       "      <td>2018-10-02 21:00:00</td>\n",
       "    </tr>\n",
       "    <tr>\n",
       "      <th>neurological - pupil size right</th>\n",
       "      <th>0</th>\n",
       "      <td>NaN</td>\n",
       "      <td>2018-10-02 13:00:00</td>\n",
       "    </tr>\n",
       "    <tr>\n",
       "      <th>treatments - oral care</th>\n",
       "      <th>0</th>\n",
       "      <td>NaN</td>\n",
       "      <td>2018-10-02 13:00:00</td>\n",
       "    </tr>\n",
       "    <tr>\n",
       "      <th>restraint/support systems - restraint device</th>\n",
       "      <th>2</th>\n",
       "      <td>NaN</td>\n",
       "      <td>2018-10-03 05:00:00</td>\n",
       "    </tr>\n",
       "  </tbody>\n",
       "</table>\n",
       "</div>"
      ],
      "text/plain": [
       "                                                                    event_value  \\\n",
       "encounter_id event_name                                   timestep                \n",
       "20004718     targets - outcome_death                      0                 1.0   \n",
       "20078746     pulmonary - cough type                       1                 NaN   \n",
       "             neurological - pupil size right              0                 NaN   \n",
       "             treatments - oral care                       0                 NaN   \n",
       "             restraint/support systems - restraint device 2                 NaN   \n",
       "\n",
       "                                                                        timestep_start  \n",
       "encounter_id event_name                                   timestep                      \n",
       "20004718     targets - outcome_death                      0        2015-01-10 14:04:00  \n",
       "20078746     pulmonary - cough type                       1        2018-10-02 21:00:00  \n",
       "             neurological - pupil size right              0        2018-10-02 13:00:00  \n",
       "             treatments - oral care                       0        2018-10-02 13:00:00  \n",
       "             restraint/support systems - restraint device 2        2018-10-03 05:00:00  "
      ]
     },
     "execution_count": 27,
     "metadata": {},
     "output_type": "execute_result"
    }
   ],
   "source": [
    "aggregated = tmp_features.aggregate()\n",
    "aggregated.head(5)"
   ]
  },
  {
   "cell_type": "code",
   "execution_count": 28,
   "id": "354403e4-a1cc-4d1f-be4c-e96db62802cf",
   "metadata": {},
   "outputs": [
    {
     "name": "stderr",
     "output_type": "stream",
     "text": [
      "2022-07-25 13:37:11,609 \u001b[1;37mINFO\u001b[0m cyclops.utils.file - Saving dataframe to aggregated.parquet\n"
     ]
    },
    {
     "data": {
      "text/plain": [
       "'aggregated.parquet'"
      ]
     },
     "execution_count": 28,
     "metadata": {},
     "output_type": "execute_result"
    }
   ],
   "source": [
    "save_dataframe(aggregated, \"aggregated.parquet\")"
   ]
  },
  {
   "cell_type": "code",
   "execution_count": 29,
   "id": "4a9587b3-b4a1-42a1-ab75-3b248227dcb7",
   "metadata": {},
   "outputs": [
    {
     "name": "stderr",
     "output_type": "stream",
     "text": [
      "2022-07-25 13:37:12,658 \u001b[1;37mINFO\u001b[0m cyclops.utils.profile - Finished executing function vectorize in 1.037816 s\n"
     ]
    },
    {
     "data": {
      "text/plain": [
       "(1, 314, 100, 3)"
      ]
     },
     "execution_count": 29,
     "metadata": {},
     "output_type": "execute_result"
    }
   ],
   "source": [
    "temp_vectorized = aggregator.vectorize(aggregated)\n",
    "temp_vectorized.shape"
   ]
  },
  {
   "cell_type": "code",
   "execution_count": 30,
   "id": "aa840bb6-043c-466d-8ff1-0418a3ccd394",
   "metadata": {},
   "outputs": [
    {
     "data": {
      "text/plain": [
       "['aggfuncs', 'encounter_id', 'event_name', 'timesteps']"
      ]
     },
     "execution_count": 30,
     "metadata": {},
     "output_type": "execute_result"
    }
   ],
   "source": [
    "temp_vectorized.axis_names"
   ]
  },
  {
   "cell_type": "code",
   "execution_count": 31,
   "id": "545fcc51-28d0-4009-b5b3-b73a08fbfa4b",
   "metadata": {},
   "outputs": [
    {
     "name": "stderr",
     "output_type": "stream",
     "text": [
      "2022-07-25 13:37:12,671 \u001b[1;37mINFO\u001b[0m cyclops.utils.file - Saving array to temp_vectorized.npy\n"
     ]
    },
    {
     "data": {
      "text/plain": [
       "'temp_vectorized.npy'"
      ]
     },
     "execution_count": 31,
     "metadata": {},
     "output_type": "execute_result"
    }
   ],
   "source": [
    "temp_vectorized.save(\"temp_vectorized.npy\")"
   ]
  },
  {
   "cell_type": "markdown",
   "id": "c103337f-dbd8-4f04-96a7-b6e721cd3642",
   "metadata": {},
   "source": [
    "# Combined processing"
   ]
  },
  {
   "cell_type": "markdown",
   "id": "6fb0a06e-d146-45af-89cd-a90964a6b2df",
   "metadata": {},
   "source": [
    "# Prepare splits"
   ]
  },
  {
   "cell_type": "markdown",
   "id": "5d0eaa25-0014-4212-b2ae-794cd70e915d",
   "metadata": {},
   "source": [
    "Take only the encounters available in all of the datasets and align the datasets over encounters."
   ]
  },
  {
   "cell_type": "code",
   "execution_count": 32,
   "id": "b8670c0b-3e53-45f3-9aa1-428a14d13373",
   "metadata": {},
   "outputs": [
    {
     "data": {
      "text/plain": [
       "((224764, 44), (1, 314, 100, 3))"
      ]
     },
     "execution_count": 32,
     "metadata": {},
     "output_type": "execute_result"
    }
   ],
   "source": [
    "tab_vectorized.shape, temp_vectorized.shape"
   ]
  },
  {
   "cell_type": "code",
   "execution_count": 33,
   "id": "d817d8ec-886b-494d-9d32-3e076f774d51",
   "metadata": {},
   "outputs": [
    {
     "data": {
      "text/plain": [
       "((314, 44), (1, 314, 100, 3))"
      ]
     },
     "execution_count": 33,
     "metadata": {},
     "output_type": "execute_result"
    }
   ],
   "source": [
    "tab_vectorized, temp_vectorized = intersect_vectorized(\n",
    "    [tab_vectorized, temp_vectorized], axes=ENCOUNTER_ID\n",
    ")\n",
    "tab_vectorized.shape, temp_vectorized.shape"
   ]
  },
  {
   "cell_type": "code",
   "execution_count": 34,
   "id": "b97c5aba-847e-4f58-9bce-69222f538f12",
   "metadata": {},
   "outputs": [],
   "source": [
    "# Standardize only the numeric features (e.g., not binary indicators)\n",
    "normalizer_map = {feat: STANDARD for feat in numeric_features}\n",
    "\n",
    "tab_vectorized.add_normalizer(\n",
    "    FEATURES,\n",
    "    normalizer_map=normalizer_map,\n",
    ")"
   ]
  },
  {
   "cell_type": "code",
   "execution_count": 35,
   "id": "174bb4b0-8948-42d6-a477-b0792a9b7186",
   "metadata": {},
   "outputs": [],
   "source": [
    "# Standardize all events\n",
    "temp_vectorized.add_normalizer(\n",
    "    EVENT_NAME,\n",
    "    normalization_method=STANDARD,\n",
    ")"
   ]
  },
  {
   "cell_type": "markdown",
   "id": "ff6663ae-1ed5-445e-a1d6-9021154fe1a7",
   "metadata": {},
   "source": [
    "## Dataset splits"
   ]
  },
  {
   "cell_type": "markdown",
   "id": "839995aa-40cb-449c-a057-ad7719998ecf",
   "metadata": {},
   "source": [
    "Split into training, validation, and testing datasets such that the tabular and temporal encounters remain aligned."
   ]
  },
  {
   "cell_type": "code",
   "execution_count": 36,
   "id": "5a4ec3d2-a221-41ce-93ae-9f5a3018eb00",
   "metadata": {},
   "outputs": [],
   "source": [
    "tab_splits, temp_splits = split_vectorized(\n",
    "    [tab_vectorized, temp_vectorized], SPLIT_FRACTIONS, axes=ENCOUNTER_ID\n",
    ")\n",
    "tab_train, tab_val, tab_test = tab_splits\n",
    "temp_train, temp_val, temp_test = temp_splits"
   ]
  },
  {
   "cell_type": "code",
   "execution_count": 37,
   "id": "37a6a36d-499d-447e-93eb-3ac002c986c6",
   "metadata": {},
   "outputs": [
    {
     "data": {
      "text/plain": [
       "((251, 44), (32, 44), (31, 44))"
      ]
     },
     "execution_count": 37,
     "metadata": {},
     "output_type": "execute_result"
    }
   ],
   "source": [
    "tab_train.shape, tab_val.shape, tab_test.shape"
   ]
  },
  {
   "cell_type": "code",
   "execution_count": 38,
   "id": "edfd710c-b21d-4dc4-b8e4-550235570768",
   "metadata": {},
   "outputs": [
    {
     "data": {
      "text/plain": [
       "((1, 251, 100, 3), (1, 32, 100, 3), (1, 31, 100, 3))"
      ]
     },
     "execution_count": 38,
     "metadata": {},
     "output_type": "execute_result"
    }
   ],
   "source": [
    "temp_train.shape, temp_val.shape, temp_test.shape"
   ]
  },
  {
   "cell_type": "markdown",
   "id": "203ec0ad-a35a-49df-8979-a32779c3ac13",
   "metadata": {},
   "source": [
    "## Split features/targets"
   ]
  },
  {
   "cell_type": "markdown",
   "id": "9e2f20f3-fe51-41f5-be9f-c74d32519787",
   "metadata": {},
   "source": [
    "Split out the targets in the temporal data."
   ]
  },
  {
   "cell_type": "code",
   "execution_count": 39,
   "id": "aca6b88f-8f3b-46d2-9d75-3fe8eec1745b",
   "metadata": {},
   "outputs": [
    {
     "data": {
      "text/plain": [
       "((251, 43), (251, 1))"
      ]
     },
     "execution_count": 39,
     "metadata": {},
     "output_type": "execute_result"
    }
   ],
   "source": [
    "tab_train_X, tab_train_y = tab_train.split_out(FEATURES, TAB_TARGETS)\n",
    "tab_train_X.shape, tab_train_y.shape"
   ]
  },
  {
   "cell_type": "code",
   "execution_count": 40,
   "id": "ec5a428e-fcab-4a49-b9c9-77fe5b56da4f",
   "metadata": {},
   "outputs": [
    {
     "data": {
      "text/plain": [
       "((32, 43), (32, 1))"
      ]
     },
     "execution_count": 40,
     "metadata": {},
     "output_type": "execute_result"
    }
   ],
   "source": [
    "tab_val_X, tab_val_y = tab_val.split_out(FEATURES, TAB_TARGETS)\n",
    "tab_val_X.shape, tab_val_y.shape"
   ]
  },
  {
   "cell_type": "code",
   "execution_count": 41,
   "id": "98adfca2-4347-475e-ad9d-aeb15a9f3c65",
   "metadata": {},
   "outputs": [
    {
     "data": {
      "text/plain": [
       "((31, 43), (31, 1))"
      ]
     },
     "execution_count": 41,
     "metadata": {},
     "output_type": "execute_result"
    }
   ],
   "source": [
    "tab_test_X, tab_test_y = tab_test.split_out(FEATURES, TAB_TARGETS)\n",
    "tab_test_X.shape, tab_test_y.shape"
   ]
  },
  {
   "cell_type": "code",
   "execution_count": 42,
   "id": "7a251574-2635-42db-b42e-3d8b77143b64",
   "metadata": {},
   "outputs": [
    {
     "data": {
      "text/plain": [
       "((1, 251, 99, 3), (1, 251, 1, 3))"
      ]
     },
     "execution_count": 42,
     "metadata": {},
     "output_type": "execute_result"
    }
   ],
   "source": [
    "temp_train_X, temp_train_y = temp_train.split_out(EVENT_NAME, TEMP_TARGETS)\n",
    "temp_train_X.shape, temp_train_y.shape"
   ]
  },
  {
   "cell_type": "code",
   "execution_count": 43,
   "id": "54795d9d-c2a4-4dd4-9ff9-d3927a0339a3",
   "metadata": {},
   "outputs": [
    {
     "data": {
      "text/plain": [
       "((1, 32, 99, 3), (1, 32, 1, 3))"
      ]
     },
     "execution_count": 43,
     "metadata": {},
     "output_type": "execute_result"
    }
   ],
   "source": [
    "temp_val_X, temp_val_y = temp_val.split_out(EVENT_NAME, TEMP_TARGETS)\n",
    "temp_val_X.shape, temp_val_y.shape"
   ]
  },
  {
   "cell_type": "code",
   "execution_count": 44,
   "id": "7857300c-e98e-4af3-89eb-4665e887c60c",
   "metadata": {},
   "outputs": [
    {
     "data": {
      "text/plain": [
       "((1, 31, 99, 3), (1, 31, 1, 3))"
      ]
     },
     "execution_count": 44,
     "metadata": {},
     "output_type": "execute_result"
    }
   ],
   "source": [
    "temp_test_X, temp_test_y = temp_test.split_out(EVENT_NAME, TEMP_TARGETS)\n",
    "temp_test_X.shape, temp_test_y.shape"
   ]
  },
  {
   "cell_type": "markdown",
   "id": "b45650c0-847e-4b13-974f-49f9b89cc5f3",
   "metadata": {},
   "source": [
    "### Normalization"
   ]
  },
  {
   "cell_type": "code",
   "execution_count": 45,
   "id": "47896217-2e2c-449b-9ac9-b3ce08028f91",
   "metadata": {},
   "outputs": [],
   "source": [
    "splits = (\n",
    "    tab_train_X,\n",
    "    tab_val_X,\n",
    "    tab_test_X,\n",
    "    temp_train_X,\n",
    "    temp_val_X,\n",
    "    temp_test_X,\n",
    ")\n",
    "\n",
    "for split in splits:\n",
    "    split.fit_normalizer()\n",
    "    split.normalize()\n",
    "\n",
    "(\n",
    "    tab_train_X,\n",
    "    tab_val_X,\n",
    "    tab_test_X,\n",
    "    temp_train_X,\n",
    "    temp_val_X,\n",
    "    temp_test_X,\n",
    ") = splits"
   ]
  },
  {
   "cell_type": "markdown",
   "id": "e1c2c5b5-9979-4678-bead-ad42b547abfb",
   "metadata": {
    "tags": []
   },
   "source": [
    "## Save"
   ]
  },
  {
   "cell_type": "code",
   "execution_count": 46,
   "id": "9f88e2b1-373e-46c6-97ca-aabd2873fe9a",
   "metadata": {},
   "outputs": [],
   "source": [
    "# Store data (serialize)\n",
    "vectorized = [\n",
    "    (tab_train_X, \"tab_train_X\"),\n",
    "    (tab_val_X, \"tab_val_X\"),\n",
    "    (tab_test_X, \"tab_test_X\"),\n",
    "    (temp_train_X, \"temp_train_X\"),\n",
    "    (temp_train_y, \"temp_train_y\"),\n",
    "    (temp_val_X, \"temp_val_X\"),\n",
    "    (temp_val_y, \"temp_val_y\"),\n",
    "    (temp_test_X, \"temp_test_X\"),\n",
    "    (temp_test_y, \"temp_test_y\"),\n",
    "]\n",
    "for vec, name in vectorized:\n",
    "    with open(name + \".pkl\", \"wb\") as handle:\n",
    "        pickle.dump(vec, handle)"
   ]
  }
 ],
 "metadata": {
  "kernelspec": {
   "display_name": "cyclops-env",
   "language": "python",
   "name": "cyclops-env"
  },
  "language_info": {
   "codemirror_mode": {
    "name": "ipython",
    "version": 3
   },
   "file_extension": ".py",
   "mimetype": "text/x-python",
   "name": "python",
   "nbconvert_exporter": "python",
   "pygments_lexer": "ipython3",
   "version": "3.8.5"
  }
 },
 "nbformat": 4,
 "nbformat_minor": 5
}
