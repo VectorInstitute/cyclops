{
 "cells": [
  {
   "cell_type": "markdown",
   "id": "7854ee88-ae9f-4fb5-8cda-0c3aab47c280",
   "metadata": {},
   "source": [
    "# Tabular modelling for risk prediction"
   ]
  },
  {
   "cell_type": "code",
   "execution_count": null,
   "id": "c6217715-3396-4b6e-ba89-376d7e3399f5",
   "metadata": {},
   "outputs": [],
   "source": [
    "from wanglabconsts import (\n",
    "#from mimicmortalityconsts import (\n",
    "    CONST_NAME,\n",
    "    TAB_VEC_COMB\n",
    ")"
   ]
  },
  {
   "cell_type": "code",
   "execution_count": null,
   "id": "527eae01-0015-4aa6-83bc-d0a12a12c0cc",
   "metadata": {},
   "outputs": [],
   "source": [
    "input(f\"WARNING: LOADING CONSTANTS FROM {CONST_NAME}\")"
   ]
  },
  {
   "cell_type": "markdown",
   "id": "431e53ee-4cf8-44e0-88e3-2c016d5cd230",
   "metadata": {},
   "source": [
    "# Imports"
   ]
  },
  {
   "cell_type": "code",
   "execution_count": null,
   "id": "8c3d473e-5173-40cb-8650-5b30e155fde6",
   "metadata": {},
   "outputs": [],
   "source": [
    "import pickle\n",
    "\n",
    "import numpy as np\n",
    "import xgboost as xgb\n",
    "from sklearn.metrics import accuracy_score\n",
    "\n",
    "from cyclops.processors.constants import FEATURES\n",
    "from cyclops.utils.file import load_dataframe, load_pickle"
   ]
  },
  {
   "cell_type": "markdown",
   "id": "72a40517-bea0-4b96-8689-5d6baad80698",
   "metadata": {},
   "source": [
    "# Setup"
   ]
  },
  {
   "cell_type": "code",
   "execution_count": null,
   "id": "01e208e2-e4fc-454b-b9b4-21224636682b",
   "metadata": {},
   "outputs": [],
   "source": [
    "# Modelling constants\n"
   ]
  },
  {
   "cell_type": "markdown",
   "id": "3311499a-1c60-45c6-a082-2754d60d958e",
   "metadata": {},
   "source": [
    "## Data"
   ]
  },
  {
   "cell_type": "code",
   "execution_count": null,
   "id": "5c503eff-a784-4c7a-98d7-8bba689c2211",
   "metadata": {},
   "outputs": [],
   "source": [
    "X_train_vec = load_pickle(TAB_VEC_COMB + \"unaligned_tab_train_X\")\n",
    "y_train_vec = load_pickle(TAB_VEC_COMB + \"unaligned_tab_train_y\")\n",
    "X_val_vec = load_pickle(TAB_VEC_COMB + \"unaligned_tab_val_X\")\n",
    "y_val_vec = load_pickle(TAB_VEC_COMB + \"unaligned_tab_val_y\")\n",
    "X_test_vec = load_pickle(TAB_VEC_COMB + \"unaligned_tab_test_X\")\n",
    "y_test_vec = load_pickle(TAB_VEC_COMB + \"unaligned_tab_test_y\")"
   ]
  },
  {
   "cell_type": "code",
   "execution_count": null,
   "id": "bd301460-0659-49f0-8013-2ba85e950491",
   "metadata": {},
   "outputs": [],
   "source": [
    "X_train_vec.get_index(FEATURES)"
   ]
  },
  {
   "cell_type": "code",
   "execution_count": null,
   "id": "daeb44bc-d8b4-4ac3-9a84-7e550bfc151f",
   "metadata": {},
   "outputs": [],
   "source": [
    "len(X_train_vec.get_index(ENCOUNTER_ID))"
   ]
  },
  {
   "cell_type": "code",
   "execution_count": null,
   "id": "20f689c1-1a2f-44c9-aab8-d3caf588dd43",
   "metadata": {},
   "outputs": [],
   "source": [
    "# Feature selection - e.g.,\n",
    "# kept_vec, unwanted_vec = X_train_vec.split_out(FEATURES, \"featureA\")"
   ]
  },
  {
   "cell_type": "code",
   "execution_count": null,
   "id": "7e9c7569-1f39-4c8c-ae07-1225f58d3a3a",
   "metadata": {},
   "outputs": [],
   "source": [
    "X_train = X_train_vec.data\n",
    "y_train = y_train_vec.data\n",
    "X_val = X_val_vec.data\n",
    "y_val = y_val_vec.data\n",
    "X_test = X_test_vec.data\n",
    "y_test = y_test_vec.data"
   ]
  },
  {
   "cell_type": "markdown",
   "id": "b3e84c18-2635-4f27-b80d-826e8c3a050a",
   "metadata": {},
   "source": [
    "## Model"
   ]
  },
  {
   "cell_type": "code",
   "execution_count": null,
   "id": "7f7d09e5-33e5-48b7-918f-1e2114afd0f8",
   "metadata": {},
   "outputs": [],
   "source": [
    "# Init classifier\n",
    "xgb_clf = xgb.XGBClassifier(X_train, y_train)"
   ]
  },
  {
   "cell_type": "markdown",
   "id": "a79680fc-f761-4eb2-9ac5-61f76857c1b8",
   "metadata": {},
   "source": [
    "# Training"
   ]
  },
  {
   "cell_type": "code",
   "execution_count": null,
   "id": "cd7b4914-631e-434d-a988-5c3588d616d4",
   "metadata": {},
   "outputs": [],
   "source": [
    "# Fit\n",
    "xgb_clf.fit(X_train, y_train)"
   ]
  },
  {
   "cell_type": "markdown",
   "id": "588e8cf6-50eb-4f28-b11e-41f6112548ac",
   "metadata": {},
   "source": [
    "# Validation"
   ]
  },
  {
   "cell_type": "code",
   "execution_count": null,
   "id": "1875a45a-df76-4bb6-9177-fac881119e83",
   "metadata": {},
   "outputs": [],
   "source": [
    "# Predict\n",
    "preds = xgb_clf.predict(X_test)\n",
    "\n",
    "# Score\n",
    "accuracy_score(y_test, preds)"
   ]
  }
 ],
 "metadata": {
  "kernelspec": {
   "display_name": "cyclops_env",
   "language": "python",
   "name": "cyclops_env"
  },
  "language_info": {
   "codemirror_mode": {
    "name": "ipython",
    "version": 3
   },
   "file_extension": ".py",
   "mimetype": "text/x-python",
   "name": "python",
   "nbconvert_exporter": "python",
   "pygments_lexer": "ipython3",
   "version": "3.9.7"
  }
 },
 "nbformat": 4,
 "nbformat_minor": 5
}
