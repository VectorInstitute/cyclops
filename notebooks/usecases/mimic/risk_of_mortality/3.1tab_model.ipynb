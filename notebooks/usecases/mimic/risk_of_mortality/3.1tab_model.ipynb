{
 "cells": [
  {
   "cell_type": "code",
   "execution_count": null,
   "id": "8c3d473e-5173-40cb-8650-5b30e155fde6",
   "metadata": {},
   "outputs": [],
   "source": [
    "import pickle\n",
    "\n",
    "import numpy as np\n",
    "import xgboost as xgb\n",
    "from sklearn.metrics import accuracy_score\n",
    "\n",
    "from cyclops.processors.constants import FEATURES"
   ]
  },
  {
   "cell_type": "code",
   "execution_count": null,
   "id": "fb8e7f26-646c-4e61-9c83-e73596d4cc25",
   "metadata": {},
   "outputs": [],
   "source": [
    "# Load data (deserialize)\n",
    "def load_pickle(file):\n",
    "    if not file.endswith(\".pkl\"):\n",
    "        file += \".pkl\"\n",
    "\n",
    "    with open(file, \"rb\") as handle:\n",
    "        return pickle.load(handle)"
   ]
  },
  {
   "cell_type": "code",
   "execution_count": null,
   "id": "5c503eff-a784-4c7a-98d7-8bba689c2211",
   "metadata": {},
   "outputs": [],
   "source": [
    "X_train_vec = load_pickle(\"tab_train_X\")\n",
    "y_train_vec = load_pickle(\"tab_train_y\")\n",
    "X_val_vec = load_pickle(\"tab_train_X\")\n",
    "y_val_vec = load_pickle(\"tab_train_y\")\n",
    "X_test_vec = load_pickle(\"tab_train_X\")\n",
    "y_test_vec = load_pickle(\"tab_train_y\")"
   ]
  },
  {
   "cell_type": "code",
   "execution_count": null,
   "id": "bd301460-0659-49f0-8013-2ba85e950491",
   "metadata": {},
   "outputs": [],
   "source": [
    "X_train_vec.get_index(FEATURES)"
   ]
  },
  {
   "cell_type": "code",
   "execution_count": null,
   "id": "daeb44bc-d8b4-4ac3-9a84-7e550bfc151f",
   "metadata": {},
   "outputs": [],
   "source": [
    "len(X_train_vec.get_index(ENCOUNTER_ID))"
   ]
  },
  {
   "cell_type": "code",
   "execution_count": null,
   "id": "20f689c1-1a2f-44c9-aab8-d3caf588dd43",
   "metadata": {},
   "outputs": [],
   "source": [
    "# kept_vec, unwanted_vec = X_train_vec.split_out(FEATURES, \"featureA\")"
   ]
  },
  {
   "cell_type": "code",
   "execution_count": null,
   "id": "7e9c7569-1f39-4c8c-ae07-1225f58d3a3a",
   "metadata": {},
   "outputs": [],
   "source": [
    "X_train = X_train_vec.data\n",
    "y_train = y_train_vec.data\n",
    "X_val = X_val_vec.data\n",
    "y_val = y_val_vec.data\n",
    "X_test = X_test_vec.data\n",
    "y_test = y_test_vec.data"
   ]
  },
  {
   "cell_type": "code",
   "execution_count": null,
   "id": "7f7d09e5-33e5-48b7-918f-1e2114afd0f8",
   "metadata": {},
   "outputs": [],
   "source": [
    "# Init classifier\n",
    "xgb_clf = xgb.XGBClassifier(X_train, y_train)\n",
    "\n",
    "# Fit\n",
    "xgb_clf.fit(X_train, y_train)\n",
    "\n",
    "# Predict\n",
    "preds = xgb_clf.predict(X_test)\n",
    "\n",
    "# Score\n",
    "accuracy_score(y_test, preds)"
   ]
  },
  {
   "cell_type": "code",
   "execution_count": null,
   "id": "039d764c-297b-41ca-a3b6-9b4fe296f28e",
   "metadata": {},
   "outputs": [],
   "source": [
    "# Model evaluation / Hyperparameter tuning, etc."
   ]
  }
 ],
 "metadata": {
  "kernelspec": {
   "display_name": "cyclops_env",
   "language": "python",
   "name": "cyclops_env"
  },
  "language_info": {
   "codemirror_mode": {
    "name": "ipython",
    "version": 3
   },
   "file_extension": ".py",
   "mimetype": "text/x-python",
   "name": "python",
   "nbconvert_exporter": "python",
   "pygments_lexer": "ipython3",
   "version": "3.9.7"
  }
 },
 "nbformat": 4,
 "nbformat_minor": 5
}
