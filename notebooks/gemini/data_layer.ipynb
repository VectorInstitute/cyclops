{
 "cells": [
  {
   "cell_type": "markdown",
   "id": "structured-extent",
   "metadata": {},
   "source": [
    "## Imports"
   ]
  },
  {
   "cell_type": "code",
   "execution_count": 1,
   "id": "orange-average",
   "metadata": {},
   "outputs": [
    {
     "name": "stderr",
     "output_type": "stream",
     "text": [
      "2022-03-29 09:39:55,214 \u001b[1;37mINFO\u001b[0m config          - Log file is /mnt/nfs/home/krishnanam/vector-delirium/log.log\n",
      "2022-03-29 09:39:55,224 \u001b[1;37mINFO\u001b[0m cyclops.processors.base - Log file is /mnt/nfs/home/krishnanam/vector-delirium/log.log\n",
      "2022-03-29 09:39:55,230 \u001b[1;37mINFO\u001b[0m cyclops.utils.profile - Log file is /mnt/nfs/home/krishnanam/vector-delirium/log.log\n",
      "2022-03-29 09:39:55,236 \u001b[1;37mINFO\u001b[0m cyclops.processors.admin - Log file is /mnt/nfs/home/krishnanam/vector-delirium/log.log\n",
      "2022-03-29 09:39:55,243 \u001b[1;37mINFO\u001b[0m cyclops.processors.vitals - Log file is /mnt/nfs/home/krishnanam/vector-delirium/log.log\n",
      "2022-03-29 09:39:55,249 \u001b[1;37mINFO\u001b[0m cyclops.processors.labs - Log file is /mnt/nfs/home/krishnanam/vector-delirium/log.log\n",
      "2022-03-29 09:39:55,269 \u001b[1;37mINFO\u001b[0m cyclops.processors.outcomes - Log file is /mnt/nfs/home/krishnanam/vector-delirium/log.log\n",
      "2022-03-29 09:39:55,275 \u001b[1;37mINFO\u001b[0m cyclops.processors.feature_handler - Log file is /mnt/nfs/home/krishnanam/vector-delirium/log.log\n",
      "2022-03-29 09:39:55,419 \u001b[1;37mINFO\u001b[0m cyclops.queries.utils - Log file is /mnt/nfs/home/krishnanam/vector-delirium/log.log\n",
      "2022-03-29 09:39:55,426 \u001b[1;37mINFO\u001b[0m cyclops.orm     - Log file is /mnt/nfs/home/krishnanam/vector-delirium/log.log\n"
     ]
    },
    {
     "data": {
      "application/javascript": [
       "\n",
       "            setTimeout(function() {\n",
       "                var nbb_cell_id = 1;\n",
       "                var nbb_unformatted_code = \"import sys\\nfrom functools import reduce\\n\\nsys.path.append(\\\"..\\\")\\n\\nimport pandas as pd\\nimport numpy as np\\nimport sqlalchemy\\nfrom sqlalchemy import select, func, extract, desc\\nfrom sqlalchemy.sql.expression import and_\\n\\nfrom evidently import ColumnMapping\\nfrom evidently.dashboard import Dashboard\\nfrom evidently.dashboard.tabs import DataQualityTab\\nfrom evidently.model_profile import Profile\\nfrom evidently.model_profile.sections import DataQualityProfileSection\\n\\nimport config\\nimport cyclops\\nfrom cyclops.processors.column_names import (\\n    ENCOUNTER_ID,\\n    HOSPITAL_ID,\\n    ADMIT_TIMESTAMP,\\n    DISCHARGE_TIMESTAMP,\\n    DISCHARGE_DISPOSITION,\\n    READMISSION,\\n    AGE,\\n    SEX,\\n    TOTAL_COST,\\n    CITY,\\n    PROVINCE,\\n    COUNTRY,\\n    LANGUAGE,\\n    LENGTH_OF_STAY_IN_ER,\\n    VITAL_MEASUREMENT_NAME,\\n    VITAL_MEASUREMENT_VALUE,\\n    VITAL_MEASUREMENT_TIMESTAMP,\\n    LAB_TEST_NAME,\\n    LAB_TEST_TIMESTAMP,\\n    LAB_TEST_RESULT_VALUE,\\n    LAB_TEST_RESULT_UNIT,\\n    REFERENCE_RANGE,\\n)\\nfrom cyclops.processors.constants import EMPTY_STRING\\nfrom cyclops.processors.admin import AdminProcessor\\nfrom cyclops.processors.vitals import VitalsProcessor\\nfrom cyclops.processors.labs import LabsProcessor\\nfrom cyclops.processors.outcomes import OutcomesProcessor\\nfrom cyclops.processors.feature_handler import FeatureHandler\\nfrom cyclops.orm import Database\\n\\n%load_ext autoreload\\n%load_ext nb_black\";\n",
       "                var nbb_formatted_code = \"import sys\\nfrom functools import reduce\\n\\nsys.path.append(\\\"..\\\")\\n\\nimport pandas as pd\\nimport numpy as np\\nimport sqlalchemy\\nfrom sqlalchemy import select, func, extract, desc\\nfrom sqlalchemy.sql.expression import and_\\n\\nfrom evidently import ColumnMapping\\nfrom evidently.dashboard import Dashboard\\nfrom evidently.dashboard.tabs import DataQualityTab\\nfrom evidently.model_profile import Profile\\nfrom evidently.model_profile.sections import DataQualityProfileSection\\n\\nimport config\\nimport cyclops\\nfrom cyclops.processors.column_names import (\\n    ENCOUNTER_ID,\\n    HOSPITAL_ID,\\n    ADMIT_TIMESTAMP,\\n    DISCHARGE_TIMESTAMP,\\n    DISCHARGE_DISPOSITION,\\n    READMISSION,\\n    AGE,\\n    SEX,\\n    TOTAL_COST,\\n    CITY,\\n    PROVINCE,\\n    COUNTRY,\\n    LANGUAGE,\\n    LENGTH_OF_STAY_IN_ER,\\n    VITAL_MEASUREMENT_NAME,\\n    VITAL_MEASUREMENT_VALUE,\\n    VITAL_MEASUREMENT_TIMESTAMP,\\n    LAB_TEST_NAME,\\n    LAB_TEST_TIMESTAMP,\\n    LAB_TEST_RESULT_VALUE,\\n    LAB_TEST_RESULT_UNIT,\\n    REFERENCE_RANGE,\\n)\\nfrom cyclops.processors.constants import EMPTY_STRING\\nfrom cyclops.processors.admin import AdminProcessor\\nfrom cyclops.processors.vitals import VitalsProcessor\\nfrom cyclops.processors.labs import LabsProcessor\\nfrom cyclops.processors.outcomes import OutcomesProcessor\\nfrom cyclops.processors.feature_handler import FeatureHandler\\nfrom cyclops.orm import Database\\n\\n%load_ext autoreload\\n%load_ext nb_black\";\n",
       "                var nbb_cells = Jupyter.notebook.get_cells();\n",
       "                for (var i = 0; i < nbb_cells.length; ++i) {\n",
       "                    if (nbb_cells[i].input_prompt_number == nbb_cell_id) {\n",
       "                        if (nbb_cells[i].get_text() == nbb_unformatted_code) {\n",
       "                             nbb_cells[i].set_text(nbb_formatted_code);\n",
       "                        }\n",
       "                        break;\n",
       "                    }\n",
       "                }\n",
       "            }, 500);\n",
       "            "
      ],
      "text/plain": [
       "<IPython.core.display.Javascript object>"
      ]
     },
     "metadata": {},
     "output_type": "display_data"
    }
   ],
   "source": [
    "import sys\n",
    "from functools import reduce\n",
    "\n",
    "sys.path.append(\"..\")\n",
    "\n",
    "import pandas as pd\n",
    "import numpy as np\n",
    "import sqlalchemy\n",
    "from sqlalchemy import select, func, extract, desc\n",
    "from sqlalchemy.sql.expression import and_\n",
    "\n",
    "from evidently import ColumnMapping\n",
    "from evidently.dashboard import Dashboard\n",
    "from evidently.dashboard.tabs import DataQualityTab\n",
    "from evidently.model_profile import Profile\n",
    "from evidently.model_profile.sections import DataQualityProfileSection\n",
    "\n",
    "import config\n",
    "import cyclops\n",
    "from cyclops.processors.column_names import (\n",
    "    ENCOUNTER_ID,\n",
    "    HOSPITAL_ID,\n",
    "    ADMIT_TIMESTAMP,\n",
    "    DISCHARGE_TIMESTAMP,\n",
    "    DISCHARGE_DISPOSITION,\n",
    "    READMISSION,\n",
    "    AGE,\n",
    "    SEX,\n",
    "    TOTAL_COST,\n",
    "    CITY,\n",
    "    PROVINCE,\n",
    "    COUNTRY,\n",
    "    LANGUAGE,\n",
    "    LENGTH_OF_STAY_IN_ER,\n",
    "    VITAL_MEASUREMENT_NAME,\n",
    "    VITAL_MEASUREMENT_VALUE,\n",
    "    VITAL_MEASUREMENT_TIMESTAMP,\n",
    "    LAB_TEST_NAME,\n",
    "    LAB_TEST_TIMESTAMP,\n",
    "    LAB_TEST_RESULT_VALUE,\n",
    "    LAB_TEST_RESULT_UNIT,\n",
    "    REFERENCE_RANGE,\n",
    ")\n",
    "from cyclops.processors.constants import EMPTY_STRING\n",
    "from cyclops.processors.admin import AdminProcessor\n",
    "from cyclops.processors.vitals import VitalsProcessor\n",
    "from cyclops.processors.labs import LabsProcessor\n",
    "from cyclops.processors.outcomes import OutcomesProcessor\n",
    "from cyclops.processors.feature_handler import FeatureHandler\n",
    "from cyclops.orm import Database\n",
    "\n",
    "%load_ext autoreload\n",
    "%load_ext nb_black"
   ]
  },
  {
   "cell_type": "markdown",
   "id": "capable-office",
   "metadata": {},
   "source": [
    "## Load config, setup ORM"
   ]
  },
  {
   "cell_type": "code",
   "execution_count": 2,
   "id": "enormous-brooks",
   "metadata": {},
   "outputs": [
    {
     "name": "stderr",
     "output_type": "stream",
     "text": [
      "2022-03-29 09:39:56,482 \u001b[1;37mINFO\u001b[0m cyclops.orm     - Database setup, ready to run queries!\n"
     ]
    },
    {
     "data": {
      "application/javascript": [
       "\n",
       "            setTimeout(function() {\n",
       "                var nbb_cell_id = 2;\n",
       "                var nbb_unformatted_code = \"cfg = config.read_config(\\\"../../configs/gemini/*.yaml\\\")\\ndb = Database(cfg)\";\n",
       "                var nbb_formatted_code = \"cfg = config.read_config(\\\"../../configs/gemini/*.yaml\\\")\\ndb = Database(cfg)\";\n",
       "                var nbb_cells = Jupyter.notebook.get_cells();\n",
       "                for (var i = 0; i < nbb_cells.length; ++i) {\n",
       "                    if (nbb_cells[i].input_prompt_number == nbb_cell_id) {\n",
       "                        if (nbb_cells[i].get_text() == nbb_unformatted_code) {\n",
       "                             nbb_cells[i].set_text(nbb_formatted_code);\n",
       "                        }\n",
       "                        break;\n",
       "                    }\n",
       "                }\n",
       "            }, 500);\n",
       "            "
      ],
      "text/plain": [
       "<IPython.core.display.Javascript object>"
      ]
     },
     "metadata": {},
     "output_type": "display_data"
    }
   ],
   "source": [
    "cfg = config.read_config(\"../../configs/gemini/*.yaml\")\n",
    "db = Database(cfg)"
   ]
  },
  {
   "cell_type": "markdown",
   "id": "seasonal-momentum",
   "metadata": {},
   "source": [
    "## Quick check to see counts/sparsity of a certain field on GEMINI"
   ]
  },
  {
   "cell_type": "code",
   "execution_count": 3,
   "id": "further-release",
   "metadata": {},
   "outputs": [
    {
     "name": "stderr",
     "output_type": "stream",
     "text": [
      "2022-03-29 09:42:23,016 \u001b[1;37mINFO\u001b[0m cyclops.orm     - Query returned successfully!\n",
      "2022-03-29 09:42:23,027 \u001b[1;37mINFO\u001b[0m cyclops.utils.profile - Finished executing function run_query in 146.522952 s\n"
     ]
    },
    {
     "name": "stdout",
     "output_type": "stream",
     "text": [
      "Num. of unique values: 368\n",
      "    unique_values  unique_value_counts\n",
      "0                             23958220\n",
      "1          mmol/L             23754174\n",
      "2             g/L              6383403\n",
      "3         x10 9/L              5623307\n",
      "4               %              5294195\n",
      "..            ...                  ...\n",
      "363         rU/mL                    1\n",
      "364         g/day                    1\n",
      "365    umol/mol H                    1\n",
      "366      nmol/hmg                    1\n",
      "367     APL Units                    1\n",
      "\n",
      "[368 rows x 2 columns]\n"
     ]
    },
    {
     "data": {
      "application/javascript": [
       "\n",
       "            setTimeout(function() {\n",
       "                var nbb_cell_id = 3;\n",
       "                var nbb_unformatted_code = \"UNIQUE_VALUES = \\\"unique_values\\\"\\nUNIQUE_VALUE_COUNTS = \\\"unique_value_counts\\\"\\nunique_vals_field = db.public.lab.result_unit\\nquery = select(\\n    unique_vals_field.label(UNIQUE_VALUES),\\n    func.count(unique_vals_field).label(UNIQUE_VALUE_COUNTS),\\n)\\nquery = query.group_by(UNIQUE_VALUES).order_by(desc(UNIQUE_VALUE_COUNTS))\\n\\ncounts = db.run_query(query)\\nprint(f\\\"Num. of unique values: {len(counts)}\\\")\\nprint(counts)\";\n",
       "                var nbb_formatted_code = \"UNIQUE_VALUES = \\\"unique_values\\\"\\nUNIQUE_VALUE_COUNTS = \\\"unique_value_counts\\\"\\nunique_vals_field = db.public.lab.result_unit\\nquery = select(\\n    unique_vals_field.label(UNIQUE_VALUES),\\n    func.count(unique_vals_field).label(UNIQUE_VALUE_COUNTS),\\n)\\nquery = query.group_by(UNIQUE_VALUES).order_by(desc(UNIQUE_VALUE_COUNTS))\\n\\ncounts = db.run_query(query)\\nprint(f\\\"Num. of unique values: {len(counts)}\\\")\\nprint(counts)\";\n",
       "                var nbb_cells = Jupyter.notebook.get_cells();\n",
       "                for (var i = 0; i < nbb_cells.length; ++i) {\n",
       "                    if (nbb_cells[i].input_prompt_number == nbb_cell_id) {\n",
       "                        if (nbb_cells[i].get_text() == nbb_unformatted_code) {\n",
       "                             nbb_cells[i].set_text(nbb_formatted_code);\n",
       "                        }\n",
       "                        break;\n",
       "                    }\n",
       "                }\n",
       "            }, 500);\n",
       "            "
      ],
      "text/plain": [
       "<IPython.core.display.Javascript object>"
      ]
     },
     "metadata": {},
     "output_type": "display_data"
    }
   ],
   "source": [
    "UNIQUE_VALUES = \"unique_values\"\n",
    "UNIQUE_VALUE_COUNTS = \"unique_value_counts\"\n",
    "unique_vals_field = db.public.lab.result_unit\n",
    "query = select(\n",
    "    unique_vals_field.label(UNIQUE_VALUES),\n",
    "    func.count(unique_vals_field).label(UNIQUE_VALUE_COUNTS),\n",
    ")\n",
    "query = query.group_by(UNIQUE_VALUES).order_by(desc(UNIQUE_VALUE_COUNTS))\n",
    "\n",
    "counts = db.run_query(query)\n",
    "print(f\"Num. of unique values: {len(counts)}\")\n",
    "print(counts)"
   ]
  },
  {
   "cell_type": "markdown",
   "id": "turned-recycling",
   "metadata": {},
   "source": [
    "## Extract slices"
   ]
  },
  {
   "cell_type": "code",
   "execution_count": 4,
   "id": "minute-liabilities",
   "metadata": {},
   "outputs": [
    {
     "data": {
      "application/javascript": [
       "\n",
       "            setTimeout(function() {\n",
       "                var nbb_cell_id = 4;\n",
       "                var nbb_unformatted_code = \"HOSPITALS = [\\\"SMH\\\"]\\nYEARS = [2018, 2019, 2020]\\nLIMIT_LABS = 100000\\nLIMIT_MEDICATIONS = 100000\\nLIMIT_VITALS = 100000\\n\\nEXTRACT_SAVE_PATH = \\\"/mnt/nfs/project/delirium/_extract/first_models/extract.h5\\\"\";\n",
       "                var nbb_formatted_code = \"HOSPITALS = [\\\"SMH\\\"]\\nYEARS = [2018, 2019, 2020]\\nLIMIT_LABS = 100000\\nLIMIT_MEDICATIONS = 100000\\nLIMIT_VITALS = 100000\\n\\nEXTRACT_SAVE_PATH = \\\"/mnt/nfs/project/delirium/_extract/first_models/extract.h5\\\"\";\n",
       "                var nbb_cells = Jupyter.notebook.get_cells();\n",
       "                for (var i = 0; i < nbb_cells.length; ++i) {\n",
       "                    if (nbb_cells[i].input_prompt_number == nbb_cell_id) {\n",
       "                        if (nbb_cells[i].get_text() == nbb_unformatted_code) {\n",
       "                             nbb_cells[i].set_text(nbb_formatted_code);\n",
       "                        }\n",
       "                        break;\n",
       "                    }\n",
       "                }\n",
       "            }, 500);\n",
       "            "
      ],
      "text/plain": [
       "<IPython.core.display.Javascript object>"
      ]
     },
     "metadata": {},
     "output_type": "display_data"
    }
   ],
   "source": [
    "HOSPITALS = [\"SMH\"]\n",
    "YEARS = [2018, 2019, 2020]\n",
    "LIMIT_LABS = 100000\n",
    "LIMIT_MEDICATIONS = 100000\n",
    "LIMIT_VITALS = 100000\n",
    "\n",
    "EXTRACT_SAVE_PATH = \"/mnt/nfs/project/delirium/_extract/first_models/extract.h5\""
   ]
  },
  {
   "cell_type": "markdown",
   "id": "improved-advisory",
   "metadata": {},
   "source": [
    "## Query just admin data"
   ]
  },
  {
   "cell_type": "code",
   "execution_count": 5,
   "id": "hearing-azerbaijan",
   "metadata": {},
   "outputs": [
    {
     "name": "stderr",
     "output_type": "stream",
     "text": [
      "2022-03-29 09:42:23,234 \u001b[1;37mINFO\u001b[0m cyclops.orm     - Query returned successfully!\n",
      "2022-03-29 09:42:23,236 \u001b[1;37mINFO\u001b[0m cyclops.utils.profile - Finished executing function run_query in 0.127218 s\n"
     ]
    },
    {
     "name": "stdout",
     "output_type": "stream",
     "text": [
      "10756 rows fetched!\n"
     ]
    },
    {
     "data": {
      "application/javascript": [
       "\n",
       "            setTimeout(function() {\n",
       "                var nbb_cell_id = 5;\n",
       "                var nbb_unformatted_code = \"query = select(\\n    db.public.ip_administrative.genc_id.label(ENCOUNTER_ID),\\n    db.public.ip_administrative.hospital_id.label(HOSPITAL_ID),\\n    db.public.ip_administrative.admit_date_time.label(ADMIT_TIMESTAMP),\\n    db.public.ip_administrative.discharge_date_time.label(DISCHARGE_TIMESTAMP),\\n    db.public.ip_administrative.discharge_disposition.label(DISCHARGE_DISPOSITION),\\n    db.public.ip_administrative.age.label(AGE),\\n    db.public.ip_administrative.gender.label(SEX),\\n).where(\\n    and_(\\n        db.public.ip_administrative.hospital_id.in_(HOSPITALS),\\n        extract(\\\"year\\\", db.public.ip_administrative.admit_date_time).in_(YEARS),\\n    )\\n)\\nadmin_labs_data = db.run_query(query)\\nprint(f\\\"{len(admin_labs_data)} rows fetched!\\\")\\nadmin_labs_data.to_hdf(\\n    EXTRACT_SAVE_PATH,\\n    key=f\\\"query_gemini_admin\\\",\\n)\";\n",
       "                var nbb_formatted_code = \"query = select(\\n    db.public.ip_administrative.genc_id.label(ENCOUNTER_ID),\\n    db.public.ip_administrative.hospital_id.label(HOSPITAL_ID),\\n    db.public.ip_administrative.admit_date_time.label(ADMIT_TIMESTAMP),\\n    db.public.ip_administrative.discharge_date_time.label(DISCHARGE_TIMESTAMP),\\n    db.public.ip_administrative.discharge_disposition.label(DISCHARGE_DISPOSITION),\\n    db.public.ip_administrative.age.label(AGE),\\n    db.public.ip_administrative.gender.label(SEX),\\n).where(\\n    and_(\\n        db.public.ip_administrative.hospital_id.in_(HOSPITALS),\\n        extract(\\\"year\\\", db.public.ip_administrative.admit_date_time).in_(YEARS),\\n    )\\n)\\nadmin_labs_data = db.run_query(query)\\nprint(f\\\"{len(admin_labs_data)} rows fetched!\\\")\\nadmin_labs_data.to_hdf(\\n    EXTRACT_SAVE_PATH,\\n    key=f\\\"query_gemini_admin\\\",\\n)\";\n",
       "                var nbb_cells = Jupyter.notebook.get_cells();\n",
       "                for (var i = 0; i < nbb_cells.length; ++i) {\n",
       "                    if (nbb_cells[i].input_prompt_number == nbb_cell_id) {\n",
       "                        if (nbb_cells[i].get_text() == nbb_unformatted_code) {\n",
       "                             nbb_cells[i].set_text(nbb_formatted_code);\n",
       "                        }\n",
       "                        break;\n",
       "                    }\n",
       "                }\n",
       "            }, 500);\n",
       "            "
      ],
      "text/plain": [
       "<IPython.core.display.Javascript object>"
      ]
     },
     "metadata": {},
     "output_type": "display_data"
    }
   ],
   "source": [
    "query = select(\n",
    "    db.public.ip_administrative.genc_id.label(ENCOUNTER_ID),\n",
    "    db.public.ip_administrative.hospital_id.label(HOSPITAL_ID),\n",
    "    db.public.ip_administrative.admit_date_time.label(ADMIT_TIMESTAMP),\n",
    "    db.public.ip_administrative.discharge_date_time.label(DISCHARGE_TIMESTAMP),\n",
    "    db.public.ip_administrative.discharge_disposition.label(DISCHARGE_DISPOSITION),\n",
    "    db.public.ip_administrative.age.label(AGE),\n",
    "    db.public.ip_administrative.gender.label(SEX),\n",
    ").where(\n",
    "    and_(\n",
    "        db.public.ip_administrative.hospital_id.in_(HOSPITALS),\n",
    "        extract(\"year\", db.public.ip_administrative.admit_date_time).in_(YEARS),\n",
    "    )\n",
    ")\n",
    "admin_labs_data = db.run_query(query)\n",
    "print(f\"{len(admin_labs_data)} rows fetched!\")\n",
    "admin_labs_data.to_hdf(\n",
    "    EXTRACT_SAVE_PATH,\n",
    "    key=f\"query_gemini_admin\",\n",
    ")"
   ]
  },
  {
   "cell_type": "markdown",
   "id": "looking-documentation",
   "metadata": {},
   "source": [
    "## Query to get admin + labs"
   ]
  },
  {
   "cell_type": "code",
   "execution_count": 6,
   "id": "smaller-cylinder",
   "metadata": {},
   "outputs": [
    {
     "name": "stderr",
     "output_type": "stream",
     "text": [
      "2022-03-29 09:43:05,060 \u001b[1;37mINFO\u001b[0m cyclops.orm     - Query returned successfully!\n",
      "2022-03-29 09:43:05,066 \u001b[1;37mINFO\u001b[0m cyclops.utils.profile - Finished executing function run_query in 41.247082 s\n"
     ]
    },
    {
     "name": "stdout",
     "output_type": "stream",
     "text": [
      "1290086 rows fetched!\n"
     ]
    },
    {
     "data": {
      "application/javascript": [
       "\n",
       "            setTimeout(function() {\n",
       "                var nbb_cell_id = 6;\n",
       "                var nbb_unformatted_code = \"query = (\\n    select(\\n        db.public.ip_administrative.genc_id.label(ENCOUNTER_ID),\\n        db.public.ip_administrative.hospital_id.label(HOSPITAL_ID),\\n        db.public.ip_administrative.admit_date_time.label(ADMIT_TIMESTAMP),\\n        db.public.ip_administrative.discharge_date_time.label(DISCHARGE_TIMESTAMP),\\n        db.public.lab.lab_test_name_mapped.label(LAB_TEST_NAME),\\n        db.public.lab.result_value.label(LAB_TEST_RESULT_VALUE),\\n        db.public.lab.result_unit.label(LAB_TEST_RESULT_UNIT),\\n        db.public.lab.sample_collection_date_time.label(LAB_TEST_TIMESTAMP),\\n        db.public.lab.reference_range.label(REFERENCE_RANGE),\\n    )\\n    .where(\\n        and_(\\n            db.public.ip_administrative.hospital_id.in_(HOSPITALS),\\n            extract(\\\"year\\\", db.public.ip_administrative.admit_date_time).in_(YEARS),\\n            db.public.lab.lab_test_name_mapped != EMPTY_STRING,\\n        )\\n    )\\n    .join(\\n        db.public.lab.data,\\n        db.public.ip_administrative.genc_id == db.public.lab.genc_id,\\n    )\\n)  # Use limit here, since lab queries can have millions of rows!\\nadmin_labs_data = db.run_query(query)\\nprint(f\\\"{len(admin_labs_data)} rows fetched!\\\")\\nadmin_labs_data.to_hdf(\\n    EXTRACT_SAVE_PATH,\\n    key=f\\\"query_gemini_admin_labs\\\",\\n)\";\n",
       "                var nbb_formatted_code = \"query = (\\n    select(\\n        db.public.ip_administrative.genc_id.label(ENCOUNTER_ID),\\n        db.public.ip_administrative.hospital_id.label(HOSPITAL_ID),\\n        db.public.ip_administrative.admit_date_time.label(ADMIT_TIMESTAMP),\\n        db.public.ip_administrative.discharge_date_time.label(DISCHARGE_TIMESTAMP),\\n        db.public.lab.lab_test_name_mapped.label(LAB_TEST_NAME),\\n        db.public.lab.result_value.label(LAB_TEST_RESULT_VALUE),\\n        db.public.lab.result_unit.label(LAB_TEST_RESULT_UNIT),\\n        db.public.lab.sample_collection_date_time.label(LAB_TEST_TIMESTAMP),\\n        db.public.lab.reference_range.label(REFERENCE_RANGE),\\n    )\\n    .where(\\n        and_(\\n            db.public.ip_administrative.hospital_id.in_(HOSPITALS),\\n            extract(\\\"year\\\", db.public.ip_administrative.admit_date_time).in_(YEARS),\\n            db.public.lab.lab_test_name_mapped != EMPTY_STRING,\\n        )\\n    )\\n    .join(\\n        db.public.lab.data,\\n        db.public.ip_administrative.genc_id == db.public.lab.genc_id,\\n    )\\n)  # Use limit here, since lab queries can have millions of rows!\\nadmin_labs_data = db.run_query(query)\\nprint(f\\\"{len(admin_labs_data)} rows fetched!\\\")\\nadmin_labs_data.to_hdf(\\n    EXTRACT_SAVE_PATH,\\n    key=f\\\"query_gemini_admin_labs\\\",\\n)\";\n",
       "                var nbb_cells = Jupyter.notebook.get_cells();\n",
       "                for (var i = 0; i < nbb_cells.length; ++i) {\n",
       "                    if (nbb_cells[i].input_prompt_number == nbb_cell_id) {\n",
       "                        if (nbb_cells[i].get_text() == nbb_unformatted_code) {\n",
       "                             nbb_cells[i].set_text(nbb_formatted_code);\n",
       "                        }\n",
       "                        break;\n",
       "                    }\n",
       "                }\n",
       "            }, 500);\n",
       "            "
      ],
      "text/plain": [
       "<IPython.core.display.Javascript object>"
      ]
     },
     "metadata": {},
     "output_type": "display_data"
    }
   ],
   "source": [
    "query = (\n",
    "    select(\n",
    "        db.public.ip_administrative.genc_id.label(ENCOUNTER_ID),\n",
    "        db.public.ip_administrative.hospital_id.label(HOSPITAL_ID),\n",
    "        db.public.ip_administrative.admit_date_time.label(ADMIT_TIMESTAMP),\n",
    "        db.public.ip_administrative.discharge_date_time.label(DISCHARGE_TIMESTAMP),\n",
    "        db.public.lab.lab_test_name_mapped.label(LAB_TEST_NAME),\n",
    "        db.public.lab.result_value.label(LAB_TEST_RESULT_VALUE),\n",
    "        db.public.lab.result_unit.label(LAB_TEST_RESULT_UNIT),\n",
    "        db.public.lab.sample_collection_date_time.label(LAB_TEST_TIMESTAMP),\n",
    "        db.public.lab.reference_range.label(REFERENCE_RANGE),\n",
    "    )\n",
    "    .where(\n",
    "        and_(\n",
    "            db.public.ip_administrative.hospital_id.in_(HOSPITALS),\n",
    "            extract(\"year\", db.public.ip_administrative.admit_date_time).in_(YEARS),\n",
    "            db.public.lab.lab_test_name_mapped != EMPTY_STRING,\n",
    "        )\n",
    "    )\n",
    "    .join(\n",
    "        db.public.lab.data,\n",
    "        db.public.ip_administrative.genc_id == db.public.lab.genc_id,\n",
    "    )\n",
    ")  # Use limit here, since lab queries can have millions of rows!\n",
    "admin_labs_data = db.run_query(query)\n",
    "print(f\"{len(admin_labs_data)} rows fetched!\")\n",
    "admin_labs_data.to_hdf(\n",
    "    EXTRACT_SAVE_PATH,\n",
    "    key=f\"query_gemini_admin_labs\",\n",
    ")"
   ]
  },
  {
   "cell_type": "markdown",
   "id": "diverse-assembly",
   "metadata": {},
   "source": [
    "## Query to get admin + vitals"
   ]
  },
  {
   "cell_type": "code",
   "execution_count": 7,
   "id": "crude-disclosure",
   "metadata": {},
   "outputs": [
    {
     "name": "stderr",
     "output_type": "stream",
     "text": [
      "2022-03-29 09:43:14,108 \u001b[1;37mINFO\u001b[0m cyclops.orm     - Query returned successfully!\n",
      "2022-03-29 09:43:14,111 \u001b[1;37mINFO\u001b[0m cyclops.utils.profile - Finished executing function run_query in 5.394599 s\n"
     ]
    },
    {
     "name": "stdout",
     "output_type": "stream",
     "text": [
      "594190 rows fetched!\n"
     ]
    },
    {
     "data": {
      "application/javascript": [
       "\n",
       "            setTimeout(function() {\n",
       "                var nbb_cell_id = 7;\n",
       "                var nbb_unformatted_code = \"query = (\\n    select(\\n        db.public.ip_administrative.genc_id.label(ENCOUNTER_ID),\\n        db.public.ip_administrative.hospital_id.label(HOSPITAL_ID),\\n        db.public.ip_administrative.age.label(AGE),\\n        db.public.ip_administrative.gender.label(SEX),\\n        db.public.ip_administrative.residence_code,\\n        db.public.ip_administrative.admit_date_time.label(ADMIT_TIMESTAMP),\\n        db.public.ip_administrative.discharge_date_time.label(DISCHARGE_TIMESTAMP),\\n        db.public.vitals.measurement_mapped.label(VITAL_MEASUREMENT_NAME),\\n        db.public.vitals.measurement_value.label(VITAL_MEASUREMENT_VALUE),\\n        db.public.vitals.measure_date_time.label(VITAL_MEASUREMENT_TIMESTAMP),\\n        db.public.vitals.reference_range.label(REFERENCE_RANGE),\\n    )\\n    .where(\\n        and_(\\n            db.public.ip_administrative.hospital_id.in_(HOSPITALS),\\n            extract(\\\"year\\\", db.public.ip_administrative.admit_date_time).in_(YEARS),\\n        )\\n    )\\n    .join(\\n        db.public.vitals.data,\\n        db.public.ip_administrative.genc_id == db.public.vitals.genc_id,\\n    )\\n    .where(\\n        db.public.vitals.measurement_mapped != EMPTY_STRING,\\n    )\\n)\\nadmin_vitals_data = db.run_query(query)\\nprint(f\\\"{len(admin_vitals_data)} rows fetched!\\\")\\nadmin_vitals_data.to_hdf(\\n    EXTRACT_SAVE_PATH,\\n    key=f\\\"query_gemini_admin_vitals\\\",\\n)\";\n",
       "                var nbb_formatted_code = \"query = (\\n    select(\\n        db.public.ip_administrative.genc_id.label(ENCOUNTER_ID),\\n        db.public.ip_administrative.hospital_id.label(HOSPITAL_ID),\\n        db.public.ip_administrative.age.label(AGE),\\n        db.public.ip_administrative.gender.label(SEX),\\n        db.public.ip_administrative.residence_code,\\n        db.public.ip_administrative.admit_date_time.label(ADMIT_TIMESTAMP),\\n        db.public.ip_administrative.discharge_date_time.label(DISCHARGE_TIMESTAMP),\\n        db.public.vitals.measurement_mapped.label(VITAL_MEASUREMENT_NAME),\\n        db.public.vitals.measurement_value.label(VITAL_MEASUREMENT_VALUE),\\n        db.public.vitals.measure_date_time.label(VITAL_MEASUREMENT_TIMESTAMP),\\n        db.public.vitals.reference_range.label(REFERENCE_RANGE),\\n    )\\n    .where(\\n        and_(\\n            db.public.ip_administrative.hospital_id.in_(HOSPITALS),\\n            extract(\\\"year\\\", db.public.ip_administrative.admit_date_time).in_(YEARS),\\n        )\\n    )\\n    .join(\\n        db.public.vitals.data,\\n        db.public.ip_administrative.genc_id == db.public.vitals.genc_id,\\n    )\\n    .where(\\n        db.public.vitals.measurement_mapped != EMPTY_STRING,\\n    )\\n)\\nadmin_vitals_data = db.run_query(query)\\nprint(f\\\"{len(admin_vitals_data)} rows fetched!\\\")\\nadmin_vitals_data.to_hdf(\\n    EXTRACT_SAVE_PATH,\\n    key=f\\\"query_gemini_admin_vitals\\\",\\n)\";\n",
       "                var nbb_cells = Jupyter.notebook.get_cells();\n",
       "                for (var i = 0; i < nbb_cells.length; ++i) {\n",
       "                    if (nbb_cells[i].input_prompt_number == nbb_cell_id) {\n",
       "                        if (nbb_cells[i].get_text() == nbb_unformatted_code) {\n",
       "                             nbb_cells[i].set_text(nbb_formatted_code);\n",
       "                        }\n",
       "                        break;\n",
       "                    }\n",
       "                }\n",
       "            }, 500);\n",
       "            "
      ],
      "text/plain": [
       "<IPython.core.display.Javascript object>"
      ]
     },
     "metadata": {},
     "output_type": "display_data"
    }
   ],
   "source": [
    "query = (\n",
    "    select(\n",
    "        db.public.ip_administrative.genc_id.label(ENCOUNTER_ID),\n",
    "        db.public.ip_administrative.hospital_id.label(HOSPITAL_ID),\n",
    "        db.public.ip_administrative.age.label(AGE),\n",
    "        db.public.ip_administrative.gender.label(SEX),\n",
    "        db.public.ip_administrative.residence_code,\n",
    "        db.public.ip_administrative.admit_date_time.label(ADMIT_TIMESTAMP),\n",
    "        db.public.ip_administrative.discharge_date_time.label(DISCHARGE_TIMESTAMP),\n",
    "        db.public.vitals.measurement_mapped.label(VITAL_MEASUREMENT_NAME),\n",
    "        db.public.vitals.measurement_value.label(VITAL_MEASUREMENT_VALUE),\n",
    "        db.public.vitals.measure_date_time.label(VITAL_MEASUREMENT_TIMESTAMP),\n",
    "        db.public.vitals.reference_range.label(REFERENCE_RANGE),\n",
    "    )\n",
    "    .where(\n",
    "        and_(\n",
    "            db.public.ip_administrative.hospital_id.in_(HOSPITALS),\n",
    "            extract(\"year\", db.public.ip_administrative.admit_date_time).in_(YEARS),\n",
    "        )\n",
    "    )\n",
    "    .join(\n",
    "        db.public.vitals.data,\n",
    "        db.public.ip_administrative.genc_id == db.public.vitals.genc_id,\n",
    "    )\n",
    "    .where(\n",
    "        db.public.vitals.measurement_mapped != EMPTY_STRING,\n",
    "    )\n",
    ")\n",
    "admin_vitals_data = db.run_query(query)\n",
    "print(f\"{len(admin_vitals_data)} rows fetched!\")\n",
    "admin_vitals_data.to_hdf(\n",
    "    EXTRACT_SAVE_PATH,\n",
    "    key=f\"query_gemini_admin_vitals\",\n",
    ")"
   ]
  },
  {
   "cell_type": "markdown",
   "id": "connected-length",
   "metadata": {},
   "source": [
    "## Query Length of Stay in ER"
   ]
  },
  {
   "cell_type": "code",
   "execution_count": 8,
   "id": "interior-aurora",
   "metadata": {},
   "outputs": [
    {
     "name": "stderr",
     "output_type": "stream",
     "text": [
      "2022-03-29 09:43:15,368 \u001b[1;37mINFO\u001b[0m cyclops.orm     - Query returned successfully!\n",
      "2022-03-29 09:43:15,371 \u001b[1;37mINFO\u001b[0m cyclops.utils.profile - Finished executing function run_query in 0.091327 s\n"
     ]
    },
    {
     "name": "stdout",
     "output_type": "stream",
     "text": [
      "10419 rows fetched!\n"
     ]
    },
    {
     "data": {
      "application/javascript": [
       "\n",
       "            setTimeout(function() {\n",
       "                var nbb_cell_id = 8;\n",
       "                var nbb_unformatted_code = \"query = (\\n    select(\\n        db.public.ip_administrative.genc_id.label(ENCOUNTER_ID),\\n        db.public.er_administrative.duration_er_stay_derived.label(\\n            LENGTH_OF_STAY_IN_ER\\n        ),\\n    )\\n    .where(\\n        and_(\\n            db.public.ip_administrative.hospital_id.in_(HOSPITALS),\\n            extract(\\\"year\\\", db.public.ip_administrative.admit_date_time).in_(YEARS),\\n        )\\n    )\\n    .join(\\n        db.public.er_administrative.data,\\n        db.public.ip_administrative.genc_id == db.public.er_administrative.genc_id,\\n    )\\n)\\nlos_er_data = db.run_query(query)\\nprint(f\\\"{len(los_er_data)} rows fetched!\\\")\\nlos_er_data.to_hdf(\\n    EXTRACT_SAVE_PATH,\\n    key=f\\\"query_gemini_los_er\\\",\\n)\";\n",
       "                var nbb_formatted_code = \"query = (\\n    select(\\n        db.public.ip_administrative.genc_id.label(ENCOUNTER_ID),\\n        db.public.er_administrative.duration_er_stay_derived.label(\\n            LENGTH_OF_STAY_IN_ER\\n        ),\\n    )\\n    .where(\\n        and_(\\n            db.public.ip_administrative.hospital_id.in_(HOSPITALS),\\n            extract(\\\"year\\\", db.public.ip_administrative.admit_date_time).in_(YEARS),\\n        )\\n    )\\n    .join(\\n        db.public.er_administrative.data,\\n        db.public.ip_administrative.genc_id == db.public.er_administrative.genc_id,\\n    )\\n)\\nlos_er_data = db.run_query(query)\\nprint(f\\\"{len(los_er_data)} rows fetched!\\\")\\nlos_er_data.to_hdf(\\n    EXTRACT_SAVE_PATH,\\n    key=f\\\"query_gemini_los_er\\\",\\n)\";\n",
       "                var nbb_cells = Jupyter.notebook.get_cells();\n",
       "                for (var i = 0; i < nbb_cells.length; ++i) {\n",
       "                    if (nbb_cells[i].input_prompt_number == nbb_cell_id) {\n",
       "                        if (nbb_cells[i].get_text() == nbb_unformatted_code) {\n",
       "                             nbb_cells[i].set_text(nbb_formatted_code);\n",
       "                        }\n",
       "                        break;\n",
       "                    }\n",
       "                }\n",
       "            }, 500);\n",
       "            "
      ],
      "text/plain": [
       "<IPython.core.display.Javascript object>"
      ]
     },
     "metadata": {},
     "output_type": "display_data"
    }
   ],
   "source": [
    "query = (\n",
    "    select(\n",
    "        db.public.ip_administrative.genc_id.label(ENCOUNTER_ID),\n",
    "        db.public.er_administrative.duration_er_stay_derived.label(\n",
    "            LENGTH_OF_STAY_IN_ER\n",
    "        ),\n",
    "    )\n",
    "    .where(\n",
    "        and_(\n",
    "            db.public.ip_administrative.hospital_id.in_(HOSPITALS),\n",
    "            extract(\"year\", db.public.ip_administrative.admit_date_time).in_(YEARS),\n",
    "        )\n",
    "    )\n",
    "    .join(\n",
    "        db.public.er_administrative.data,\n",
    "        db.public.ip_administrative.genc_id == db.public.er_administrative.genc_id,\n",
    "    )\n",
    ")\n",
    "los_er_data = db.run_query(query)\n",
    "print(f\"{len(los_er_data)} rows fetched!\")\n",
    "los_er_data.to_hdf(\n",
    "    EXTRACT_SAVE_PATH,\n",
    "    key=f\"query_gemini_los_er\",\n",
    ")"
   ]
  },
  {
   "cell_type": "markdown",
   "id": "phantom-raise",
   "metadata": {},
   "source": [
    "## Process Admin data"
   ]
  },
  {
   "cell_type": "code",
   "execution_count": 9,
   "id": "strange-southwest",
   "metadata": {},
   "outputs": [
    {
     "name": "stderr",
     "output_type": "stream",
     "text": [
      "2022-03-29 09:43:15,448 \u001b[1;37mINFO\u001b[0m cyclops.processors.base - Processing raw admin data...\n",
      "2022-03-29 09:43:15,451 \u001b[1;37mINFO\u001b[0m cyclops.processors.base - # samples: 10756, # encounters: 10756\n",
      "2022-03-29 09:43:15,454 \u001b[1;37mINFO\u001b[0m cyclops.processors.admin - # admin features: 2, # encounters: 10756\n",
      "2022-03-29 09:43:20,080 \u001b[1;37mINFO\u001b[0m cyclops.utils.profile - Finished executing function process in 4.631611 s\n"
     ]
    },
    {
     "data": {
      "application/javascript": [
       "\n",
       "            setTimeout(function() {\n",
       "                var nbb_cell_id = 9;\n",
       "                var nbb_unformatted_code = \"%autoreload 2\\n\\ndata = pd.read_hdf(EXTRACT_SAVE_PATH, key=f\\\"query_gemini_admin\\\")\\nmust_have_columns = [ENCOUNTER_ID, AGE, SEX]\\n\\nadmin_processor = AdminProcessor(data, must_have_columns)\\nadmin_features = admin_processor.process()\";\n",
       "                var nbb_formatted_code = \"%autoreload 2\\n\\ndata = pd.read_hdf(EXTRACT_SAVE_PATH, key=f\\\"query_gemini_admin\\\")\\nmust_have_columns = [ENCOUNTER_ID, AGE, SEX]\\n\\nadmin_processor = AdminProcessor(data, must_have_columns)\\nadmin_features = admin_processor.process()\";\n",
       "                var nbb_cells = Jupyter.notebook.get_cells();\n",
       "                for (var i = 0; i < nbb_cells.length; ++i) {\n",
       "                    if (nbb_cells[i].input_prompt_number == nbb_cell_id) {\n",
       "                        if (nbb_cells[i].get_text() == nbb_unformatted_code) {\n",
       "                             nbb_cells[i].set_text(nbb_formatted_code);\n",
       "                        }\n",
       "                        break;\n",
       "                    }\n",
       "                }\n",
       "            }, 500);\n",
       "            "
      ],
      "text/plain": [
       "<IPython.core.display.Javascript object>"
      ]
     },
     "metadata": {},
     "output_type": "display_data"
    }
   ],
   "source": [
    "%autoreload 2\n",
    "\n",
    "data = pd.read_hdf(EXTRACT_SAVE_PATH, key=f\"query_gemini_admin\")\n",
    "must_have_columns = [ENCOUNTER_ID, AGE, SEX]\n",
    "\n",
    "admin_processor = AdminProcessor(data, must_have_columns)\n",
    "admin_features = admin_processor.process()"
   ]
  },
  {
   "cell_type": "markdown",
   "id": "instructional-birmingham",
   "metadata": {},
   "source": [
    "## Process Labs data"
   ]
  },
  {
   "cell_type": "code",
   "execution_count": 15,
   "id": "consolidated-albert",
   "metadata": {},
   "outputs": [
    {
     "name": "stderr",
     "output_type": "stream",
     "text": [
      "2022-03-29 09:46:37,188 \u001b[1;37mINFO\u001b[0m cyclops.processors.base - Processing raw lab data...\n",
      "2022-03-29 09:46:37,205 \u001b[1;37mINFO\u001b[0m cyclops.processors.base - # samples: 1290086, # encounters: 10688\n",
      "2022-03-29 09:46:37,592 \u001b[1;37mINFO\u001b[0m cyclops.processors.base - Aggregating labs within aggregation window...\n",
      "2022-03-29 09:46:37,599 \u001b[1;37mINFO\u001b[0m cyclops.processors.base - # samples: 482354, # encounters: 10653\n",
      "2022-03-29 09:46:38,428 \u001b[1;37mINFO\u001b[0m cyclops.processors.base - Remove text in parentheses and normalize lab test names...\n",
      "2022-03-29 09:46:38,438 \u001b[1;37mINFO\u001b[0m cyclops.processors.base - # samples: 482354, # encounters: 10653\n",
      "2022-03-29 09:46:38,770 \u001b[1;37mINFO\u001b[0m cyclops.processors.base - Drop unsupported...\n",
      "2022-03-29 09:46:38,777 \u001b[1;37mINFO\u001b[0m cyclops.processors.base - # samples: 410025, # encounters: 10653\n",
      "2022-03-29 09:46:39,481 \u001b[1;37mINFO\u001b[0m cyclops.processors.base - Fixing inequalities and removing outlier values...\n",
      "2022-03-29 09:46:39,489 \u001b[1;37mINFO\u001b[0m cyclops.processors.base - # samples: 410025, # encounters: 10653\n",
      "2022-03-29 09:46:39,551 \u001b[1;37mINFO\u001b[0m cyclops.processors.base - Fill empty result string values with NaN...\n",
      "2022-03-29 09:46:39,558 \u001b[1;37mINFO\u001b[0m cyclops.processors.base - # samples: 410025, # encounters: 10653\n",
      "2022-03-29 09:46:39,560 \u001b[1;37mINFO\u001b[0m cyclops.processors.labs - Converting string result values to numeric...\n",
      "2022-03-29 09:46:39,604 \u001b[1;37mINFO\u001b[0m cyclops.processors.labs - Cleaning units and converting to SI...\n",
      "2022-03-29 09:46:40,671 \u001b[1;37mINFO\u001b[0m cyclops.processors.labs - Creating features...\n",
      "2022-03-29 09:46:40,699 \u001b[1;37mINFO\u001b[0m cyclops.processors.labs - ['creatinine', 'esr', 'serum alcohol', 'ferritin', 'fibrinogen', 'glucose fasting', 'glucose point of care', 'glucose random', 'hematocrit', 'hemoglobin', 'crp', 'influenza', 'inr', 'ketone', 'lactate arterial', 'lactate venous', 'mean cell volume', 'arterial paco2', 'venous pco2', 'arterial ph', 'venous ph', 'platelet count', 'arterial pao2', 'potassium', 'pt', 'sodium', 'urine sodium', 'urine specific gravity', 'bicarbonate', 'troponin', 'blood urea nitrogen', 'vitamin b12', 'white blood cell count', 'high sensitivity troponin', 'vitamin d', 'hba1c', 'lymphocyte', 'neutrophils', 'albumin', 'aptt', 'bilirubin', 'calcium', 'calcium, ionized']\n",
      "2022-03-29 09:46:40,707 \u001b[1;37mINFO\u001b[0m cyclops.processors.labs - # labs features: 43, # encounters: 10653\n",
      "2022-03-29 09:47:33,653 \u001b[1;37mINFO\u001b[0m cyclops.utils.profile - Finished executing function process in 56.464971 s\n"
     ]
    },
    {
     "data": {
      "text/plain": [
       "mmol/L      448669\n",
       "E9/L        255203\n",
       "g/L         109020\n",
       "umol/L       95447\n",
       "             72341\n",
       "L/L          64486\n",
       "fL           64471\n",
       "U/L          63924\n",
       "s            33866\n",
       "mmHg         33090\n",
       "ug/L         18323\n",
       "cells/uL      6551\n",
       "mU/L          4988\n",
       "mmol/kg       4947\n",
       "ng/L          4569\n",
       "pmol/L        3366\n",
       "mg/L          2387\n",
       "mm/Hr         1536\n",
       "mOsm/kg       1212\n",
       "ng/mL          923\n",
       "nmol/L         767\n",
       "Name: lab_test_result_unit, dtype: int64"
      ]
     },
     "execution_count": 15,
     "metadata": {},
     "output_type": "execute_result"
    },
    {
     "data": {
      "application/javascript": [
       "\n",
       "            setTimeout(function() {\n",
       "                var nbb_cell_id = 15;\n",
       "                var nbb_unformatted_code = \"%autoreload 2\\n\\ndata = pd.read_hdf(EXTRACT_SAVE_PATH, key=f\\\"query_gemini_admin_labs\\\")\\nmust_have_columns = [\\n    ENCOUNTER_ID,\\n    ADMIT_TIMESTAMP,\\n    LAB_TEST_NAME,\\n    LAB_TEST_TIMESTAMP,\\n    LAB_TEST_RESULT_VALUE,\\n    LAB_TEST_RESULT_UNIT,\\n    REFERENCE_RANGE,\\n]\\nlabs_processor = LabsProcessor(data, must_have_columns)\\nlabs_features = labs_processor.process()\\nunits = data[\\\"lab_test_result_unit\\\"]\\nunits.value_counts()\";\n",
       "                var nbb_formatted_code = \"%autoreload 2\\n\\ndata = pd.read_hdf(EXTRACT_SAVE_PATH, key=f\\\"query_gemini_admin_labs\\\")\\nmust_have_columns = [\\n    ENCOUNTER_ID,\\n    ADMIT_TIMESTAMP,\\n    LAB_TEST_NAME,\\n    LAB_TEST_TIMESTAMP,\\n    LAB_TEST_RESULT_VALUE,\\n    LAB_TEST_RESULT_UNIT,\\n    REFERENCE_RANGE,\\n]\\nlabs_processor = LabsProcessor(data, must_have_columns)\\nlabs_features = labs_processor.process()\\nunits = data[\\\"lab_test_result_unit\\\"]\\nunits.value_counts()\";\n",
       "                var nbb_cells = Jupyter.notebook.get_cells();\n",
       "                for (var i = 0; i < nbb_cells.length; ++i) {\n",
       "                    if (nbb_cells[i].input_prompt_number == nbb_cell_id) {\n",
       "                        if (nbb_cells[i].get_text() == nbb_unformatted_code) {\n",
       "                             nbb_cells[i].set_text(nbb_formatted_code);\n",
       "                        }\n",
       "                        break;\n",
       "                    }\n",
       "                }\n",
       "            }, 500);\n",
       "            "
      ],
      "text/plain": [
       "<IPython.core.display.Javascript object>"
      ]
     },
     "metadata": {},
     "output_type": "display_data"
    }
   ],
   "source": [
    "%autoreload 2\n",
    "\n",
    "data = pd.read_hdf(EXTRACT_SAVE_PATH, key=f\"query_gemini_admin_labs\")\n",
    "must_have_columns = [\n",
    "    ENCOUNTER_ID,\n",
    "    ADMIT_TIMESTAMP,\n",
    "    LAB_TEST_NAME,\n",
    "    LAB_TEST_TIMESTAMP,\n",
    "    LAB_TEST_RESULT_VALUE,\n",
    "    LAB_TEST_RESULT_UNIT,\n",
    "    REFERENCE_RANGE,\n",
    "]\n",
    "labs_processor = LabsProcessor(data, must_have_columns)\n",
    "labs_features = labs_processor.process()\n",
    "units = data[\"lab_test_result_unit\"]\n",
    "units.value_counts()"
   ]
  },
  {
   "cell_type": "markdown",
   "id": "antique-shame",
   "metadata": {},
   "source": [
    "## Process vitals data"
   ]
  },
  {
   "cell_type": "code",
   "execution_count": 11,
   "id": "acoustic-testing",
   "metadata": {},
   "outputs": [
    {
     "name": "stderr",
     "output_type": "stream",
     "text": [
      "2022-03-29 09:43:23,171 \u001b[1;37mINFO\u001b[0m cyclops.processors.base - Processing raw vitals data...\n",
      "2022-03-29 09:43:23,180 \u001b[1;37mINFO\u001b[0m cyclops.processors.base - # samples: 594190, # encounters: 3082\n",
      "2022-03-29 09:43:23,284 \u001b[1;37mINFO\u001b[0m cyclops.processors.base - Aggregating vitals within aggregation window...\n",
      "2022-03-29 09:43:23,288 \u001b[1;37mINFO\u001b[0m cyclops.processors.base - # samples: 74304, # encounters: 3014\n",
      "2022-03-29 09:43:23,398 \u001b[1;37mINFO\u001b[0m cyclops.processors.base - Drop oxygen flow rate, saturation samples (unsupported)...\n",
      "2022-03-29 09:43:23,401 \u001b[1;37mINFO\u001b[0m cyclops.processors.base - # samples: 56344, # encounters: 3014\n",
      "2022-03-29 09:43:23,563 \u001b[1;37mINFO\u001b[0m cyclops.processors.base - Convert Positive/Negative to 1/0...\n",
      "2022-03-29 09:43:23,565 \u001b[1;37mINFO\u001b[0m cyclops.processors.base - # samples: 56344, # encounters: 3014\n",
      "2022-03-29 09:43:23,578 \u001b[1;37mINFO\u001b[0m cyclops.processors.base - Fill empty result string values with NaN...\n",
      "2022-03-29 09:43:23,581 \u001b[1;37mINFO\u001b[0m cyclops.processors.base - # samples: 56344, # encounters: 3014\n",
      "2022-03-29 09:43:23,589 \u001b[1;37mINFO\u001b[0m cyclops.processors.vitals - Converting string result values to numeric...\n",
      "2022-03-29 09:43:23,591 \u001b[1;37mINFO\u001b[0m cyclops.processors.vitals - Creating features...\n",
      "2022-03-29 09:43:23,600 \u001b[1;37mINFO\u001b[0m cyclops.processors.vitals - # vitals features: 8, # encounters: 3014\n",
      "2022-03-29 09:43:27,722 \u001b[1;37mINFO\u001b[0m cyclops.utils.profile - Finished executing function process in 4.551010 s\n"
     ]
    },
    {
     "name": "stdout",
     "output_type": "stream",
     "text": [
      "Reference range unique values\n",
      "['50-250' '25-45' 'NA-NA' '20-200' '20-220' '0-40' '20-500' '0-100']\n"
     ]
    },
    {
     "data": {
      "application/javascript": [
       "\n",
       "            setTimeout(function() {\n",
       "                var nbb_cell_id = 11;\n",
       "                var nbb_unformatted_code = \"%autoreload 2\\n\\ndata = pd.read_hdf(EXTRACT_SAVE_PATH, key=f\\\"query_gemini_admin_vitals\\\")\\nmust_have_columns = [\\n    ENCOUNTER_ID,\\n    ADMIT_TIMESTAMP,\\n    VITAL_MEASUREMENT_NAME,\\n    VITAL_MEASUREMENT_VALUE,\\n    VITAL_MEASUREMENT_TIMESTAMP,\\n    REFERENCE_RANGE,\\n]\\n\\nvitals_processor = VitalsProcessor(data, must_have_columns)\\nvitals_features = vitals_processor.process()\\n\\nprint(\\\"Reference range unique values\\\")\\nprint(vitals_processor.data[REFERENCE_RANGE].unique())\";\n",
       "                var nbb_formatted_code = \"%autoreload 2\\n\\ndata = pd.read_hdf(EXTRACT_SAVE_PATH, key=f\\\"query_gemini_admin_vitals\\\")\\nmust_have_columns = [\\n    ENCOUNTER_ID,\\n    ADMIT_TIMESTAMP,\\n    VITAL_MEASUREMENT_NAME,\\n    VITAL_MEASUREMENT_VALUE,\\n    VITAL_MEASUREMENT_TIMESTAMP,\\n    REFERENCE_RANGE,\\n]\\n\\nvitals_processor = VitalsProcessor(data, must_have_columns)\\nvitals_features = vitals_processor.process()\\n\\nprint(\\\"Reference range unique values\\\")\\nprint(vitals_processor.data[REFERENCE_RANGE].unique())\";\n",
       "                var nbb_cells = Jupyter.notebook.get_cells();\n",
       "                for (var i = 0; i < nbb_cells.length; ++i) {\n",
       "                    if (nbb_cells[i].input_prompt_number == nbb_cell_id) {\n",
       "                        if (nbb_cells[i].get_text() == nbb_unformatted_code) {\n",
       "                             nbb_cells[i].set_text(nbb_formatted_code);\n",
       "                        }\n",
       "                        break;\n",
       "                    }\n",
       "                }\n",
       "            }, 500);\n",
       "            "
      ],
      "text/plain": [
       "<IPython.core.display.Javascript object>"
      ]
     },
     "metadata": {},
     "output_type": "display_data"
    }
   ],
   "source": [
    "%autoreload 2\n",
    "\n",
    "data = pd.read_hdf(EXTRACT_SAVE_PATH, key=f\"query_gemini_admin_vitals\")\n",
    "must_have_columns = [\n",
    "    ENCOUNTER_ID,\n",
    "    ADMIT_TIMESTAMP,\n",
    "    VITAL_MEASUREMENT_NAME,\n",
    "    VITAL_MEASUREMENT_VALUE,\n",
    "    VITAL_MEASUREMENT_TIMESTAMP,\n",
    "    REFERENCE_RANGE,\n",
    "]\n",
    "\n",
    "vitals_processor = VitalsProcessor(data, must_have_columns)\n",
    "vitals_features = vitals_processor.process()\n",
    "\n",
    "print(\"Reference range unique values\")\n",
    "print(vitals_processor.data[REFERENCE_RANGE].unique())"
   ]
  },
  {
   "cell_type": "markdown",
   "id": "italian-termination",
   "metadata": {},
   "source": [
    "## Look at some outcomes"
   ]
  },
  {
   "cell_type": "code",
   "execution_count": 12,
   "id": "entitled-semiconductor",
   "metadata": {},
   "outputs": [
    {
     "name": "stderr",
     "output_type": "stream",
     "text": [
      "2022-03-29 09:43:27,815 \u001b[1;37mINFO\u001b[0m cyclops.orm     - Query returned successfully!\n",
      "2022-03-29 09:43:27,817 \u001b[1;37mINFO\u001b[0m cyclops.utils.profile - Finished executing function run_query in 0.019401 s\n"
     ]
    },
    {
     "name": "stdout",
     "output_type": "stream",
     "text": [
      "1 Planned readmission from previous acute care (no time restriction)\n",
      "2 Unplanned readmission within 7 days following discharge from acute care\n",
      "3 Unplanned readmission 8 to 28 days following discharge from acute care\n",
      "4 Unplanned readmission within 7 days following discharge from day surgery\n",
      "5 New patient to the acute care unit\n",
      "9 None of the above\n"
     ]
    },
    {
     "data": {
      "application/javascript": [
       "\n",
       "            setTimeout(function() {\n",
       "                var nbb_cell_id = 12;\n",
       "                var nbb_unformatted_code = \"# Readmission codes on GEMINI\\nlookup_query = select(\\n    db.public.lookup_ip_administrative.variable,\\n    db.public.lookup_ip_administrative.value,\\n    db.public.lookup_ip_administrative.description,\\n).subquery()\\nadmin_lookup_data = db.run_query(lookup_query)\\nadmin_lookup_data[\\\"variable\\\"].unique()\\n\\nreadmission_codes = admin_lookup_data.loc[\\n    admin_lookup_data[\\\"variable\\\"] == \\\"readmission\\\"\\n]\\nfor code, desc in zip(readmission_codes[\\\"value\\\"], readmission_codes[\\\"description\\\"]):\\n    print(code, desc)\";\n",
       "                var nbb_formatted_code = \"# Readmission codes on GEMINI\\nlookup_query = select(\\n    db.public.lookup_ip_administrative.variable,\\n    db.public.lookup_ip_administrative.value,\\n    db.public.lookup_ip_administrative.description,\\n).subquery()\\nadmin_lookup_data = db.run_query(lookup_query)\\nadmin_lookup_data[\\\"variable\\\"].unique()\\n\\nreadmission_codes = admin_lookup_data.loc[\\n    admin_lookup_data[\\\"variable\\\"] == \\\"readmission\\\"\\n]\\nfor code, desc in zip(readmission_codes[\\\"value\\\"], readmission_codes[\\\"description\\\"]):\\n    print(code, desc)\";\n",
       "                var nbb_cells = Jupyter.notebook.get_cells();\n",
       "                for (var i = 0; i < nbb_cells.length; ++i) {\n",
       "                    if (nbb_cells[i].input_prompt_number == nbb_cell_id) {\n",
       "                        if (nbb_cells[i].get_text() == nbb_unformatted_code) {\n",
       "                             nbb_cells[i].set_text(nbb_formatted_code);\n",
       "                        }\n",
       "                        break;\n",
       "                    }\n",
       "                }\n",
       "            }, 500);\n",
       "            "
      ],
      "text/plain": [
       "<IPython.core.display.Javascript object>"
      ]
     },
     "metadata": {},
     "output_type": "display_data"
    }
   ],
   "source": [
    "# Readmission codes on GEMINI\n",
    "lookup_query = select(\n",
    "    db.public.lookup_ip_administrative.variable,\n",
    "    db.public.lookup_ip_administrative.value,\n",
    "    db.public.lookup_ip_administrative.description,\n",
    ").subquery()\n",
    "admin_lookup_data = db.run_query(lookup_query)\n",
    "admin_lookup_data[\"variable\"].unique()\n",
    "\n",
    "readmission_codes = admin_lookup_data.loc[\n",
    "    admin_lookup_data[\"variable\"] == \"readmission\"\n",
    "]\n",
    "for code, desc in zip(readmission_codes[\"value\"], readmission_codes[\"description\"]):\n",
    "    print(code, desc)"
   ]
  },
  {
   "cell_type": "markdown",
   "id": "polar-baptist",
   "metadata": {},
   "source": [
    "## Process outcomes data"
   ]
  },
  {
   "cell_type": "code",
   "execution_count": 13,
   "id": "senior-argument",
   "metadata": {},
   "outputs": [
    {
     "name": "stderr",
     "output_type": "stream",
     "text": [
      "2022-03-29 09:43:27,990 \u001b[1;37mINFO\u001b[0m cyclops.processors.base - Processing raw outcomes data...\n",
      "2022-03-29 09:43:27,993 \u001b[1;37mINFO\u001b[0m cyclops.processors.base - # samples: 10756, # encounters: 10756\n",
      "2022-03-29 09:43:28,015 \u001b[1;37mINFO\u001b[0m cyclops.utils.profile - Finished executing function process in 0.024597 s\n"
     ]
    },
    {
     "data": {
      "application/javascript": [
       "\n",
       "            setTimeout(function() {\n",
       "                var nbb_cell_id = 13;\n",
       "                var nbb_unformatted_code = \"%autoreload 2\\n\\nadmin_data = pd.read_hdf(EXTRACT_SAVE_PATH, key=f\\\"query_gemini_admin\\\")\\nlos_er_data = pd.read_hdf(EXTRACT_SAVE_PATH, key=f\\\"query_gemini_los_er\\\")\\n\\ndata = pd.merge(admin_data, los_er_data, how=\\\"outer\\\")\\nmust_have_columns = [\\n    ENCOUNTER_ID,\\n    AGE,\\n    SEX,\\n    DISCHARGE_DISPOSITION,\\n    LENGTH_OF_STAY_IN_ER,\\n]\\noutcomes_processor = OutcomesProcessor(data, must_have_columns)\\noutcome_targets = outcomes_processor.process()\";\n",
       "                var nbb_formatted_code = \"%autoreload 2\\n\\nadmin_data = pd.read_hdf(EXTRACT_SAVE_PATH, key=f\\\"query_gemini_admin\\\")\\nlos_er_data = pd.read_hdf(EXTRACT_SAVE_PATH, key=f\\\"query_gemini_los_er\\\")\\n\\ndata = pd.merge(admin_data, los_er_data, how=\\\"outer\\\")\\nmust_have_columns = [\\n    ENCOUNTER_ID,\\n    AGE,\\n    SEX,\\n    DISCHARGE_DISPOSITION,\\n    LENGTH_OF_STAY_IN_ER,\\n]\\noutcomes_processor = OutcomesProcessor(data, must_have_columns)\\noutcome_targets = outcomes_processor.process()\";\n",
       "                var nbb_cells = Jupyter.notebook.get_cells();\n",
       "                for (var i = 0; i < nbb_cells.length; ++i) {\n",
       "                    if (nbb_cells[i].input_prompt_number == nbb_cell_id) {\n",
       "                        if (nbb_cells[i].get_text() == nbb_unformatted_code) {\n",
       "                             nbb_cells[i].set_text(nbb_formatted_code);\n",
       "                        }\n",
       "                        break;\n",
       "                    }\n",
       "                }\n",
       "            }, 500);\n",
       "            "
      ],
      "text/plain": [
       "<IPython.core.display.Javascript object>"
      ]
     },
     "metadata": {},
     "output_type": "display_data"
    }
   ],
   "source": [
    "%autoreload 2\n",
    "\n",
    "admin_data = pd.read_hdf(EXTRACT_SAVE_PATH, key=f\"query_gemini_admin\")\n",
    "los_er_data = pd.read_hdf(EXTRACT_SAVE_PATH, key=f\"query_gemini_los_er\")\n",
    "\n",
    "data = pd.merge(admin_data, los_er_data, how=\"outer\")\n",
    "must_have_columns = [\n",
    "    ENCOUNTER_ID,\n",
    "    AGE,\n",
    "    SEX,\n",
    "    DISCHARGE_DISPOSITION,\n",
    "    LENGTH_OF_STAY_IN_ER,\n",
    "]\n",
    "outcomes_processor = OutcomesProcessor(data, must_have_columns)\n",
    "outcome_targets = outcomes_processor.process()"
   ]
  },
  {
   "cell_type": "markdown",
   "id": "turned-monday",
   "metadata": {},
   "source": [
    "## Merge processed admin, labs, vitals, outcomes"
   ]
  },
  {
   "cell_type": "code",
   "execution_count": 16,
   "id": "twenty-waters",
   "metadata": {},
   "outputs": [
    {
     "name": "stderr",
     "output_type": "stream",
     "text": [
      "2022-03-29 09:47:41,389 \u001b[1;33mWARNING\u001b[0m cyclops.processors.feature_handler - Feature influenza has all NaNs, will not be added.\n"
     ]
    },
    {
     "name": "stdout",
     "output_type": "stream",
     "text": [
      "10756 10756 10653 3014 10756\n"
     ]
    },
    {
     "data": {
      "application/javascript": [
       "\n",
       "            setTimeout(function() {\n",
       "                var nbb_cell_id = 16;\n",
       "                var nbb_unformatted_code = \"feature_handler = FeatureHandler()\\nfeature_handler.add_features(admin_features)\\nfeature_handler.add_features(labs_features)\\nfeature_handler.add_features(vitals_features)\\nfeature_handler.add_features(outcome_targets)\\n\\nprint(\\n    len(feature_handler.features),\\n    len(admin_features),\\n    len(labs_features),\\n    len(vitals_features),\\n    len(outcome_targets),\\n)\";\n",
       "                var nbb_formatted_code = \"feature_handler = FeatureHandler()\\nfeature_handler.add_features(admin_features)\\nfeature_handler.add_features(labs_features)\\nfeature_handler.add_features(vitals_features)\\nfeature_handler.add_features(outcome_targets)\\n\\nprint(\\n    len(feature_handler.features),\\n    len(admin_features),\\n    len(labs_features),\\n    len(vitals_features),\\n    len(outcome_targets),\\n)\";\n",
       "                var nbb_cells = Jupyter.notebook.get_cells();\n",
       "                for (var i = 0; i < nbb_cells.length; ++i) {\n",
       "                    if (nbb_cells[i].input_prompt_number == nbb_cell_id) {\n",
       "                        if (nbb_cells[i].get_text() == nbb_unformatted_code) {\n",
       "                             nbb_cells[i].set_text(nbb_formatted_code);\n",
       "                        }\n",
       "                        break;\n",
       "                    }\n",
       "                }\n",
       "            }, 500);\n",
       "            "
      ],
      "text/plain": [
       "<IPython.core.display.Javascript object>"
      ]
     },
     "metadata": {},
     "output_type": "display_data"
    }
   ],
   "source": [
    "feature_handler = FeatureHandler()\n",
    "feature_handler.add_features(admin_features)\n",
    "feature_handler.add_features(labs_features)\n",
    "feature_handler.add_features(vitals_features)\n",
    "feature_handler.add_features(outcome_targets)\n",
    "\n",
    "print(\n",
    "    len(feature_handler.features),\n",
    "    len(admin_features),\n",
    "    len(labs_features),\n",
    "    len(vitals_features),\n",
    "    len(outcome_targets),\n",
    ")"
   ]
  },
  {
   "cell_type": "markdown",
   "id": "fancy-router",
   "metadata": {},
   "source": [
    "## Data quality report (admin + labs + vitals + outcomes)"
   ]
  },
  {
   "cell_type": "code",
   "execution_count": 17,
   "id": "great-productivity",
   "metadata": {},
   "outputs": [
    {
     "data": {
      "application/javascript": [
       "\n",
       "            setTimeout(function() {\n",
       "                var nbb_cell_id = 17;\n",
       "                var nbb_unformatted_code = \"dashboard = Dashboard(tabs=[DataQualityTab()])\\ncolumn_mapping = ColumnMapping(\\n    numerical_features=feature_handler.get_numerical_features(),\\n    categorical_features=feature_handler.get_categorical_features(),\\n)\\ndashboard.calculate(\\n    reference_data=feature_handler.features,\\n    current_data=None,\\n    column_mapping=column_mapping,\\n)\\ndashboard.save(f\\\"data_processed.html\\\")\";\n",
       "                var nbb_formatted_code = \"dashboard = Dashboard(tabs=[DataQualityTab()])\\ncolumn_mapping = ColumnMapping(\\n    numerical_features=feature_handler.get_numerical_features(),\\n    categorical_features=feature_handler.get_categorical_features(),\\n)\\ndashboard.calculate(\\n    reference_data=feature_handler.features,\\n    current_data=None,\\n    column_mapping=column_mapping,\\n)\\ndashboard.save(f\\\"data_processed.html\\\")\";\n",
       "                var nbb_cells = Jupyter.notebook.get_cells();\n",
       "                for (var i = 0; i < nbb_cells.length; ++i) {\n",
       "                    if (nbb_cells[i].input_prompt_number == nbb_cell_id) {\n",
       "                        if (nbb_cells[i].get_text() == nbb_unformatted_code) {\n",
       "                             nbb_cells[i].set_text(nbb_formatted_code);\n",
       "                        }\n",
       "                        break;\n",
       "                    }\n",
       "                }\n",
       "            }, 500);\n",
       "            "
      ],
      "text/plain": [
       "<IPython.core.display.Javascript object>"
      ]
     },
     "metadata": {},
     "output_type": "display_data"
    }
   ],
   "source": [
    "dashboard = Dashboard(tabs=[DataQualityTab()])\n",
    "column_mapping = ColumnMapping(\n",
    "    numerical_features=feature_handler.get_numerical_features(),\n",
    "    categorical_features=feature_handler.get_categorical_features(),\n",
    ")\n",
    "dashboard.calculate(\n",
    "    reference_data=feature_handler.features,\n",
    "    current_data=None,\n",
    "    column_mapping=column_mapping,\n",
    ")\n",
    "dashboard.save(f\"data_processed.html\")"
   ]
  }
 ],
 "metadata": {
  "kernelspec": {
   "display_name": "cyclops",
   "language": "python",
   "name": "cyclops"
  },
  "language_info": {
   "codemirror_mode": {
    "name": "ipython",
    "version": 3
   },
   "file_extension": ".py",
   "mimetype": "text/x-python",
   "name": "python",
   "nbconvert_exporter": "python",
   "pygments_lexer": "ipython3",
   "version": "3.8.5"
  }
 },
 "nbformat": 4,
 "nbformat_minor": 5
}
